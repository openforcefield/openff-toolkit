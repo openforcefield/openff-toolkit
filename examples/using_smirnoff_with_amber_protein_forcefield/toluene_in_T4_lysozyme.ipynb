{
 "cells": [
  {
   "cell_type": "markdown",
   "metadata": {},
   "source": [
    "## Create a system mixing SMIRNOFF and non-SMIRNOFF-formatted force fields"
   ]
  },
  {
   "cell_type": "markdown",
   "metadata": {},
   "source": [
    "### Parametrize a molecule with the Sage force field\n",
    "\n",
    "First, we parametrize the ligand (toluene) with the SMIRNOFF-format Sage force field through the usual route to create an OpenMM `System`."
   ]
  },
  {
   "cell_type": "code",
   "execution_count": 2,
   "metadata": {},
   "outputs": [],
   "source": [
    "import mdtraj as md\n",
    "import numpy as np\n",
    "from openff.interchange import Interchange\n",
    "from openff.units import unit\n",
    "from openmm import app\n",
    "\n",
    "from openff.toolkit import ForceField, Molecule\n",
    "from openff.toolkit.utils import get_data_file_path"
   ]
  },
  {
   "cell_type": "code",
   "execution_count": 3,
   "metadata": {
    "tags": []
   },
   "outputs": [],
   "source": [
    "toluene_pdbfile = app.PDBFile(get_data_file_path(\"molecules/toluene.pdb\"))\n",
    "toluene_topology = Molecule.from_smiles(\"Cc1ccccc1\").to_topology()\n",
    "\n",
    "sage = ForceField(\"openff-2.0.0.offxml\")\n",
    "\n",
    "toluene = Interchange.from_smirnoff(force_field=sage, topology=toluene_topology)\n",
    "toluene.positions = toluene_pdbfile.positions"
   ]
  },
  {
   "cell_type": "code",
   "execution_count": 4,
   "metadata": {},
   "outputs": [
    {
     "ename": "TypeError",
     "evalue": "in method 'OEResidue_SetResidueNumber', argument 2 of type 'int'",
     "output_type": "error",
     "traceback": [
      "\u001b[0;31m---------------------------------------------------------------------------\u001b[0m",
      "\u001b[0;31mTypeError\u001b[0m                                 Traceback (most recent call last)",
      "Input \u001b[0;32mIn [4]\u001b[0m, in \u001b[0;36m<cell line: 12>\u001b[0;34m()\u001b[0m\n\u001b[1;32m      9\u001b[0m protein \u001b[38;5;241m=\u001b[39m trajectory\u001b[38;5;241m.\u001b[39matom_slice(trajectory\u001b[38;5;241m.\u001b[39mtopology\u001b[38;5;241m.\u001b[39mselect(\u001b[38;5;124m\"\u001b[39m\u001b[38;5;124mchainid 0\u001b[39m\u001b[38;5;124m\"\u001b[39m))\n\u001b[1;32m     10\u001b[0m protein\u001b[38;5;241m.\u001b[39msave(\u001b[38;5;124m\"\u001b[39m\u001b[38;5;124mprotein.pdb\u001b[39m\u001b[38;5;124m\"\u001b[39m)\n\u001b[0;32m---> 12\u001b[0m t4_lysozyme_molecule \u001b[38;5;241m=\u001b[39m \u001b[43mMolecule\u001b[49m\u001b[38;5;241;43m.\u001b[39;49m\u001b[43mfrom_pdb\u001b[49m\u001b[43m(\u001b[49m\u001b[38;5;124;43m\"\u001b[39;49m\u001b[38;5;124;43mprotein.pdb\u001b[39;49m\u001b[38;5;124;43m\"\u001b[39;49m\u001b[43m)\u001b[49m\n\u001b[1;32m     14\u001b[0m t4_lysozyme \u001b[38;5;241m=\u001b[39m Interchange\u001b[38;5;241m.\u001b[39mfrom_smirnoff(\n\u001b[1;32m     15\u001b[0m     force_field\u001b[38;5;241m=\u001b[39mff14sb, topology\u001b[38;5;241m=\u001b[39mt4_lysozyme_molecule\u001b[38;5;241m.\u001b[39mto_topoplogy()\n\u001b[1;32m     16\u001b[0m )\n\u001b[1;32m     17\u001b[0m t4_lysozyme\n",
      "File \u001b[0;32m~/software/openforcefield/openff/toolkit/utils/utils.py:85\u001b[0m, in \u001b[0;36mrequires_package.<locals>.inner_decorator.<locals>.wrapper\u001b[0;34m(*args, **kwargs)\u001b[0m\n\u001b[1;32m     82\u001b[0m \u001b[38;5;28;01mexcept\u001b[39;00m \u001b[38;5;167;01mException\u001b[39;00m \u001b[38;5;28;01mas\u001b[39;00m e:\n\u001b[1;32m     83\u001b[0m     \u001b[38;5;28;01mraise\u001b[39;00m e\n\u001b[0;32m---> 85\u001b[0m \u001b[38;5;28;01mreturn\u001b[39;00m \u001b[43mfunction\u001b[49m\u001b[43m(\u001b[49m\u001b[38;5;241;43m*\u001b[39;49m\u001b[43margs\u001b[49m\u001b[43m,\u001b[49m\u001b[43m \u001b[49m\u001b[38;5;241;43m*\u001b[39;49m\u001b[38;5;241;43m*\u001b[39;49m\u001b[43mkwargs\u001b[49m\u001b[43m)\u001b[49m\n",
      "File \u001b[0;32m~/software/openforcefield/openff/toolkit/topology/molecule.py:5453\u001b[0m, in \u001b[0;36mFrozenMolecule.from_pdb\u001b[0;34m(cls, file_path, toolkit_registry)\u001b[0m\n\u001b[1;32m   5451\u001b[0m offmol\u001b[38;5;241m.\u001b[39madd_conformer(coords)\n\u001b[1;32m   5452\u001b[0m \u001b[38;5;66;03m# TODO: Ensure that this assigns aromaticity\u001b[39;00m\n\u001b[0;32m-> 5453\u001b[0m offmol_w_stereo_and_aro \u001b[38;5;241m=\u001b[39m \u001b[43mtoolkit_registry\u001b[49m\u001b[38;5;241;43m.\u001b[39;49m\u001b[43mcall\u001b[49m\u001b[43m(\u001b[49m\u001b[38;5;124;43m'\u001b[39;49m\u001b[38;5;124;43m_assign_aromaticity_and_stereo_from_3d\u001b[39;49m\u001b[38;5;124;43m'\u001b[39;49m\u001b[43m,\u001b[49m\u001b[43m \u001b[49m\u001b[43moffmol\u001b[49m\u001b[43m)\u001b[49m\n\u001b[1;32m   5454\u001b[0m \u001b[38;5;28;01massert\u001b[39;00m offmol_w_stereo_and_aro\u001b[38;5;241m.\u001b[39mn_atoms \u001b[38;5;241m==\u001b[39m offmol\u001b[38;5;241m.\u001b[39mn_atoms\n\u001b[1;32m   5455\u001b[0m \u001b[38;5;28;01mfor\u001b[39;00m stereo_aro_atom, atom \u001b[38;5;129;01min\u001b[39;00m \u001b[38;5;28mzip\u001b[39m(offmol_w_stereo_and_aro\u001b[38;5;241m.\u001b[39matoms, offmol\u001b[38;5;241m.\u001b[39matoms):\n",
      "File \u001b[0;32m~/software/openforcefield/openff/toolkit/utils/toolkit_registry.py:366\u001b[0m, in \u001b[0;36mToolkitRegistry.call\u001b[0;34m(self, method_name, raise_exception_types, *args, **kwargs)\u001b[0m\n\u001b[1;32m    364\u001b[0m             \u001b[38;5;28;01mfor\u001b[39;00m exception_type \u001b[38;5;129;01min\u001b[39;00m raise_exception_types:\n\u001b[1;32m    365\u001b[0m                 \u001b[38;5;28;01mif\u001b[39;00m \u001b[38;5;28misinstance\u001b[39m(e, exception_type):\n\u001b[0;32m--> 366\u001b[0m                     \u001b[38;5;28;01mraise\u001b[39;00m e\n\u001b[1;32m    367\u001b[0m             errors\u001b[38;5;241m.\u001b[39mappend((toolkit, e))\n\u001b[1;32m    369\u001b[0m \u001b[38;5;66;03m# No toolkit was found to provide the requested capability\u001b[39;00m\n\u001b[1;32m    370\u001b[0m \u001b[38;5;66;03m# TODO: Can we help developers by providing a check for typos in expected method names?\u001b[39;00m\n",
      "File \u001b[0;32m~/software/openforcefield/openff/toolkit/utils/toolkit_registry.py:362\u001b[0m, in \u001b[0;36mToolkitRegistry.call\u001b[0;34m(self, method_name, raise_exception_types, *args, **kwargs)\u001b[0m\n\u001b[1;32m    360\u001b[0m method \u001b[38;5;241m=\u001b[39m \u001b[38;5;28mgetattr\u001b[39m(toolkit, method_name)\n\u001b[1;32m    361\u001b[0m \u001b[38;5;28;01mtry\u001b[39;00m:\n\u001b[0;32m--> 362\u001b[0m     \u001b[38;5;28;01mreturn\u001b[39;00m \u001b[43mmethod\u001b[49m\u001b[43m(\u001b[49m\u001b[38;5;241;43m*\u001b[39;49m\u001b[43margs\u001b[49m\u001b[43m,\u001b[49m\u001b[43m \u001b[49m\u001b[38;5;241;43m*\u001b[39;49m\u001b[38;5;241;43m*\u001b[39;49m\u001b[43mkwargs\u001b[49m\u001b[43m)\u001b[49m\n\u001b[1;32m    363\u001b[0m \u001b[38;5;28;01mexcept\u001b[39;00m \u001b[38;5;167;01mException\u001b[39;00m \u001b[38;5;28;01mas\u001b[39;00m e:\n\u001b[1;32m    364\u001b[0m     \u001b[38;5;28;01mfor\u001b[39;00m exception_type \u001b[38;5;129;01min\u001b[39;00m raise_exception_types:\n",
      "File \u001b[0;32m~/software/openforcefield/openff/toolkit/utils/openeye_wrapper.py:607\u001b[0m, in \u001b[0;36mOpenEyeToolkitWrapper._assign_aromaticity_and_stereo_from_3d\u001b[0;34m(self, offmol)\u001b[0m\n\u001b[1;32m    605\u001b[0m \u001b[38;5;28;01mdef\u001b[39;00m \u001b[38;5;21m_assign_aromaticity_and_stereo_from_3d\u001b[39m(\u001b[38;5;28mself\u001b[39m, offmol):\n\u001b[1;32m    606\u001b[0m     \u001b[38;5;28;01mfrom\u001b[39;00m \u001b[38;5;21;01mopeneye\u001b[39;00m \u001b[38;5;28;01mimport\u001b[39;00m oechem\n\u001b[0;32m--> 607\u001b[0m     oemol \u001b[38;5;241m=\u001b[39m \u001b[43moffmol\u001b[49m\u001b[38;5;241;43m.\u001b[39;49m\u001b[43mto_openeye\u001b[49m\u001b[43m(\u001b[49m\u001b[43m)\u001b[49m\n\u001b[1;32m    608\u001b[0m     oechem\u001b[38;5;241m.\u001b[39mOEPerceiveChiral(oemol)\n\u001b[1;32m    609\u001b[0m     oechem\u001b[38;5;241m.\u001b[39mOEAssignAromaticFlags(oemol, oechem\u001b[38;5;241m.\u001b[39mOEAroModel_MDL)\n",
      "File \u001b[0;32m~/software/openforcefield/openff/toolkit/topology/molecule.py:6333\u001b[0m, in \u001b[0;36mFrozenMolecule.to_openeye\u001b[0;34m(self, toolkit_registry, aromaticity_model)\u001b[0m\n\u001b[1;32m   6329\u001b[0m     \u001b[38;5;28;01mreturn\u001b[39;00m toolkit_registry\u001b[38;5;241m.\u001b[39mto_openeye(\n\u001b[1;32m   6330\u001b[0m         \u001b[38;5;28mself\u001b[39m, aromaticity_model\u001b[38;5;241m=\u001b[39maromaticity_model\n\u001b[1;32m   6331\u001b[0m     )\n\u001b[1;32m   6332\u001b[0m \u001b[38;5;28;01melse\u001b[39;00m:\n\u001b[0;32m-> 6333\u001b[0m     \u001b[38;5;28;01mreturn\u001b[39;00m \u001b[43mtoolkit_registry\u001b[49m\u001b[38;5;241;43m.\u001b[39;49m\u001b[43mcall\u001b[49m\u001b[43m(\u001b[49m\n\u001b[1;32m   6334\u001b[0m \u001b[43m        \u001b[49m\u001b[38;5;124;43m\"\u001b[39;49m\u001b[38;5;124;43mto_openeye\u001b[39;49m\u001b[38;5;124;43m\"\u001b[39;49m\u001b[43m,\u001b[49m\u001b[43m \u001b[49m\u001b[38;5;28;43mself\u001b[39;49m\u001b[43m,\u001b[49m\u001b[43m \u001b[49m\u001b[43maromaticity_model\u001b[49m\u001b[38;5;241;43m=\u001b[39;49m\u001b[43maromaticity_model\u001b[49m\n\u001b[1;32m   6335\u001b[0m \u001b[43m    \u001b[49m\u001b[43m)\u001b[49m\n",
      "File \u001b[0;32m~/software/openforcefield/openff/toolkit/utils/toolkit_registry.py:366\u001b[0m, in \u001b[0;36mToolkitRegistry.call\u001b[0;34m(self, method_name, raise_exception_types, *args, **kwargs)\u001b[0m\n\u001b[1;32m    364\u001b[0m             \u001b[38;5;28;01mfor\u001b[39;00m exception_type \u001b[38;5;129;01min\u001b[39;00m raise_exception_types:\n\u001b[1;32m    365\u001b[0m                 \u001b[38;5;28;01mif\u001b[39;00m \u001b[38;5;28misinstance\u001b[39m(e, exception_type):\n\u001b[0;32m--> 366\u001b[0m                     \u001b[38;5;28;01mraise\u001b[39;00m e\n\u001b[1;32m    367\u001b[0m             errors\u001b[38;5;241m.\u001b[39mappend((toolkit, e))\n\u001b[1;32m    369\u001b[0m \u001b[38;5;66;03m# No toolkit was found to provide the requested capability\u001b[39;00m\n\u001b[1;32m    370\u001b[0m \u001b[38;5;66;03m# TODO: Can we help developers by providing a check for typos in expected method names?\u001b[39;00m\n",
      "File \u001b[0;32m~/software/openforcefield/openff/toolkit/utils/toolkit_registry.py:362\u001b[0m, in \u001b[0;36mToolkitRegistry.call\u001b[0;34m(self, method_name, raise_exception_types, *args, **kwargs)\u001b[0m\n\u001b[1;32m    360\u001b[0m method \u001b[38;5;241m=\u001b[39m \u001b[38;5;28mgetattr\u001b[39m(toolkit, method_name)\n\u001b[1;32m    361\u001b[0m \u001b[38;5;28;01mtry\u001b[39;00m:\n\u001b[0;32m--> 362\u001b[0m     \u001b[38;5;28;01mreturn\u001b[39;00m \u001b[43mmethod\u001b[49m\u001b[43m(\u001b[49m\u001b[38;5;241;43m*\u001b[39;49m\u001b[43margs\u001b[49m\u001b[43m,\u001b[49m\u001b[43m \u001b[49m\u001b[38;5;241;43m*\u001b[39;49m\u001b[38;5;241;43m*\u001b[39;49m\u001b[43mkwargs\u001b[49m\u001b[43m)\u001b[49m\n\u001b[1;32m    363\u001b[0m \u001b[38;5;28;01mexcept\u001b[39;00m \u001b[38;5;167;01mException\u001b[39;00m \u001b[38;5;28;01mas\u001b[39;00m e:\n\u001b[1;32m    364\u001b[0m     \u001b[38;5;28;01mfor\u001b[39;00m exception_type \u001b[38;5;129;01min\u001b[39;00m raise_exception_types:\n",
      "File \u001b[0;32m~/software/openforcefield/openff/toolkit/utils/openeye_wrapper.py:1318\u001b[0m, in \u001b[0;36mOpenEyeToolkitWrapper.to_openeye\u001b[0;34m(self, molecule, aromaticity_model)\u001b[0m\n\u001b[1;32m   1316\u001b[0m     res\u001b[38;5;241m.\u001b[39mSetName(off_atom\u001b[38;5;241m.\u001b[39mmetadata[\u001b[38;5;124m'\u001b[39m\u001b[38;5;124mresidue_name\u001b[39m\u001b[38;5;124m'\u001b[39m])\n\u001b[1;32m   1317\u001b[0m \u001b[38;5;28;01mif\u001b[39;00m \u001b[38;5;124m'\u001b[39m\u001b[38;5;124mresidue_number\u001b[39m\u001b[38;5;124m'\u001b[39m \u001b[38;5;129;01min\u001b[39;00m off_atom\u001b[38;5;241m.\u001b[39mmetadata:\n\u001b[0;32m-> 1318\u001b[0m     \u001b[43mres\u001b[49m\u001b[38;5;241;43m.\u001b[39;49m\u001b[43mSetResidueNumber\u001b[49m\u001b[43m(\u001b[49m\u001b[43moff_atom\u001b[49m\u001b[38;5;241;43m.\u001b[39;49m\u001b[43mmetadata\u001b[49m\u001b[43m[\u001b[49m\u001b[38;5;124;43m'\u001b[39;49m\u001b[38;5;124;43mresidue_number\u001b[39;49m\u001b[38;5;124;43m'\u001b[39;49m\u001b[43m]\u001b[49m\u001b[43m)\u001b[49m\n\u001b[1;32m   1319\u001b[0m \u001b[38;5;28;01mif\u001b[39;00m \u001b[38;5;124m'\u001b[39m\u001b[38;5;124mchain_id\u001b[39m\u001b[38;5;124m'\u001b[39m \u001b[38;5;129;01min\u001b[39;00m off_atom\u001b[38;5;241m.\u001b[39mmetadata:\n\u001b[1;32m   1320\u001b[0m     res\u001b[38;5;241m.\u001b[39mSetChainID(off_atom\u001b[38;5;241m.\u001b[39mmetadata[\u001b[38;5;124m'\u001b[39m\u001b[38;5;124mchain_id\u001b[39m\u001b[38;5;124m'\u001b[39m])\n",
      "File \u001b[0;32m~/miniconda3/envs/openff-dev/lib/python3.8/site-packages/openeye/oechem.py:16543\u001b[0m, in \u001b[0;36mOEResidue.SetResidueNumber\u001b[0;34m(self, v)\u001b[0m\n\u001b[1;32m  16541\u001b[0m \u001b[38;5;28;01mdef\u001b[39;00m \u001b[38;5;21mSetResidueNumber\u001b[39m(\u001b[38;5;28mself\u001b[39m, v: \u001b[38;5;124m'\u001b[39m\u001b[38;5;124mint\u001b[39m\u001b[38;5;124m'\u001b[39m) \u001b[38;5;241m-\u001b[39m\u001b[38;5;241m>\u001b[39m \u001b[38;5;124m\"\u001b[39m\u001b[38;5;124mbool\u001b[39m\u001b[38;5;124m\"\u001b[39m:\n\u001b[1;32m  16542\u001b[0m     \u001b[38;5;124;03m\"\"\"SetResidueNumber(OEResidue self, int v) -> bool\"\"\"\u001b[39;00m\n\u001b[0;32m> 16543\u001b[0m     \u001b[38;5;28;01mreturn\u001b[39;00m \u001b[43m_oechem\u001b[49m\u001b[38;5;241;43m.\u001b[39;49m\u001b[43mOEResidue_SetResidueNumber\u001b[49m\u001b[43m(\u001b[49m\u001b[38;5;28;43mself\u001b[39;49m\u001b[43m,\u001b[49m\u001b[43m \u001b[49m\u001b[43mv\u001b[49m\u001b[43m)\u001b[49m\n",
      "\u001b[0;31mTypeError\u001b[0m: in method 'OEResidue_SetResidueNumber', argument 2 of type 'int'"
     ]
    }
   ],
   "source": [
    "ff14sb = ForceField(\"ff14sb_off_impropers_0.0.2.offxml\")\n",
    "\n",
    "# TODO: This PDB file also has water and ions, which are not yet intelligently parsed by the toolkit.\n",
    "#       For now, we simply slice out the protein.\n",
    "trajectory = md.load(\n",
    "    get_data_file_path(\"systems/test_systems/T4_lysozyme_water_ions.pdb\")\n",
    ")\n",
    "\n",
    "protein = trajectory.atom_slice(trajectory.topology.select(\"chainid 0\"))\n",
    "protein.save(\"protein.pdb\")\n",
    "\n",
    "t4_lysozyme_molecule = Molecule.from_pdb(\"protein.pdb\")\n",
    "\n",
    "t4_lysozyme = Interchange.from_smirnoff(\n",
    "    force_field=ff14sb, topology=t4_lysozyme_molecule.to_topoplogy()\n",
    ")\n",
    "t4_lysozyme"
   ]
  },
  {
   "cell_type": "code",
   "execution_count": 5,
   "metadata": {},
   "outputs": [
    {
     "ename": "NameError",
     "evalue": "name 't4_lysozyme' is not defined",
     "output_type": "error",
     "traceback": [
      "\u001b[0;31m---------------------------------------------------------------------------\u001b[0m",
      "\u001b[0;31mNameError\u001b[0m                                 Traceback (most recent call last)",
      "Input \u001b[0;32mIn [5]\u001b[0m, in \u001b[0;36m<cell line: 1>\u001b[0;34m()\u001b[0m\n\u001b[0;32m----> 1\u001b[0m complex_system \u001b[38;5;241m=\u001b[39m \u001b[43mt4_lysozyme\u001b[49m \u001b[38;5;241m+\u001b[39m toluene\n",
      "\u001b[0;31mNameError\u001b[0m: name 't4_lysozyme' is not defined"
     ]
    }
   ],
   "source": [
    "complex_system = t4_lysozyme + toluene"
   ]
  },
  {
   "cell_type": "code",
   "execution_count": null,
   "metadata": {},
   "outputs": [],
   "source": [
    "complex_system.to_openmm()"
   ]
  }
 ],
 "metadata": {
  "kernelspec": {
   "display_name": "Python 3 (ipykernel)",
   "language": "python",
   "name": "python3"
  },
  "language_info": {
   "codemirror_mode": {
    "name": "ipython",
    "version": 3
   },
   "file_extension": ".py",
   "mimetype": "text/x-python",
   "name": "python",
   "nbconvert_exporter": "python",
   "pygments_lexer": "ipython3",
   "version": "3.8.12"
  }
 },
 "nbformat": 4,
 "nbformat_minor": 4
}

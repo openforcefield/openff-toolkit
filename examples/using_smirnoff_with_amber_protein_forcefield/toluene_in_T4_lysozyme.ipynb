{
 "cells": [
  {
   "attachments": {},
   "cell_type": "markdown",
   "metadata": {},
   "source": [
    "## Create a system mixing SMIRNOFF and non-SMIRNOFF-formatted force fields"
   ]
  },
  {
   "attachments": {},
   "cell_type": "markdown",
   "metadata": {},
   "source": [
    "### Parametrize a molecule with the Sage force field\n",
    "\n",
    "First, we parametrize the ligand (toluene) with the SMIRNOFF-format Sage force field through the usual route to create an OpenMM `System`."
   ]
  },
  {
   "cell_type": "code",
   "execution_count": 1,
   "metadata": {},
   "outputs": [],
   "source": [
    "from openff.toolkit import ForceField, Molecule, Topology\n",
    "from openff.toolkit.utils import get_data_file_path"
   ]
  },
  {
   "attachments": {},
   "cell_type": "markdown",
   "metadata": {},
   "source": [
    "Later we will use `Interchange.__add__`, which is an experimental feature. It needs to be turned on by setting the environment variable below, and by doing so we accept [some stability and accuracy risks](https://docs.openforcefield.org/projects/interchange/en/stable/using/experimental.html)."
   ]
  },
  {
   "cell_type": "code",
   "execution_count": 2,
   "metadata": {},
   "outputs": [
    {
     "name": "stdout",
     "output_type": "stream",
     "text": [
      "env: INTERCHANGE_EXPERIMENTAL=1\n"
     ]
    }
   ],
   "source": [
    "%env INTERCHANGE_EXPERIMENTAL=1"
   ]
  },
  {
   "cell_type": "code",
   "execution_count": 3,
   "metadata": {
    "tags": []
   },
   "outputs": [
    {
     "data": {
      "application/vnd.jupyter.widget-view+json": {
       "model_id": "e1b5237da84f41b3bdf15a19eb9cd603",
       "version_major": 2,
       "version_minor": 0
      },
      "text/plain": []
     },
     "metadata": {},
     "output_type": "display_data"
    }
   ],
   "source": [
    "toluene_topology = Topology.from_pdb(\n",
    "    get_data_file_path(\"molecules/toluene.pdb\"),\n",
    "    unique_molecules=[Molecule.from_smiles(\"Cc1ccccc1\")],\n",
    ")\n",
    "\n",
    "sage = ForceField(\"openff-2.0.0.offxml\")\n",
    "\n",
    "toluene = sage.create_interchange(toluene_topology)"
   ]
  },
  {
   "cell_type": "code",
   "execution_count": 4,
   "metadata": {},
   "outputs": [
    {
     "data": {
      "text/plain": [
       "8885"
      ]
     },
     "execution_count": 4,
     "metadata": {},
     "output_type": "execute_result"
    }
   ],
   "source": [
    "ff14sb = ForceField(\"ff14sb_off_impropers_0.0.3.offxml\")\n",
    "\n",
    "# The toolkit can load multi-component PDB files! See the docstring for some limitations:\n",
    "# https://docs.openforcefield.org/projects/toolkit/en/latest/api/generated/openff.toolkit.topology.Topology.html#openff.toolkit.topology.Topology.from_pdb\n",
    "t4_lysozyme_topology = Topology.from_pdb(\n",
    "    get_data_file_path(\"systems/test_systems/T4_lysozyme_water_ions.pdb\")\n",
    ")\n",
    "t4_lysozyme_topology.n_molecules"
   ]
  },
  {
   "cell_type": "code",
   "execution_count": 5,
   "metadata": {},
   "outputs": [
    {
     "data": {
      "text/plain": [
       "Interchange with 7 collections, non-periodic topology with 2634 atoms."
      ]
     },
     "execution_count": 5,
     "metadata": {},
     "output_type": "execute_result"
    }
   ],
   "source": [
    "# Interchange is still slow for some large systems, so for this example let's just slice out the protein\n",
    "# (the 0th molecule in the topology) and create an Interchange for that. Optimizations are coming!\n",
    "t4_lysozyme = ff14sb.create_interchange(t4_lysozyme_topology.molecule(0).to_topology())\n",
    "t4_lysozyme"
   ]
  },
  {
   "cell_type": "code",
   "execution_count": 6,
   "metadata": {},
   "outputs": [
    {
     "name": "stderr",
     "output_type": "stream",
     "text": [
      "/Users/mattthompson/mambaforge/envs/openff-toolkit-test/lib/python3.10/site-packages/openff/interchange/components/interchange.py:630: UserWarning: Interchange object combination is experimental and likely to produce strange results. Any workflow using this method is not guaranteed to be suitable for production. Use with extreme caution and thoroughly validate results!\n",
      "  warnings.warn(\n"
     ]
    }
   ],
   "source": [
    "complex_system = t4_lysozyme + toluene"
   ]
  },
  {
   "cell_type": "code",
   "execution_count": 7,
   "metadata": {},
   "outputs": [
    {
     "data": {
      "text/plain": [
       "<openmm.openmm.System; proxy of <Swig Object of type 'OpenMM::System *' at 0x110eab840> >"
      ]
     },
     "execution_count": 7,
     "metadata": {},
     "output_type": "execute_result"
    }
   ],
   "source": [
    "complex_system.to_openmm(combine_nonbonded_forces=True)"
   ]
  }
 ],
 "metadata": {
  "kernelspec": {
   "display_name": "Python 3 (ipykernel)",
   "language": "python",
   "name": "python3"
  },
  "language_info": {
   "codemirror_mode": {
    "name": "ipython",
    "version": 3
   },
   "file_extension": ".py",
   "mimetype": "text/x-python",
   "name": "python",
   "nbconvert_exporter": "python",
   "pygments_lexer": "ipython3",
   "version": "3.10.10"
  }
 },
 "nbformat": 4,
 "nbformat_minor": 4
}

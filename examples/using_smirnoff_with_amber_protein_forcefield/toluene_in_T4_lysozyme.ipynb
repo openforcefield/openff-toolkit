{
 "cells": [
  {
   "cell_type": "markdown",
   "metadata": {},
   "source": [
    "## Create a system mixing SMIRNOFF and non-SMIRNOFF-formatted force fields"
   ]
  },
  {
   "cell_type": "markdown",
   "metadata": {},
   "source": [
    "### Parametrize a molecule with the Sage force field\n",
    "\n",
    "First, we parametrize the ligand (toluene) with the SMIRNOFF-format Sage force field through the usual route to create an OpenMM `System`."
   ]
  },
  {
   "cell_type": "code",
   "execution_count": 1,
   "metadata": {},
   "outputs": [],
   "source": [
    "import mdtraj as md\n",
    "from openff.interchange import Interchange\n",
    "from openmm import app\n",
    "\n",
    "from openff.toolkit import ForceField, Molecule\n",
    "from openff.toolkit.utils import get_data_file_path"
   ]
  },
  {
   "cell_type": "code",
   "execution_count": 2,
   "metadata": {
    "tags": []
   },
   "outputs": [],
   "source": [
    "toluene_pdbfile = app.PDBFile(get_data_file_path(\"molecules/toluene.pdb\"))\n",
    "toluene_topology = Molecule.from_smiles(\"Cc1ccccc1\").to_topology()\n",
    "\n",
    "sage = ForceField(\"openff-2.0.0.offxml\")\n",
    "\n",
    "toluene = Interchange.from_smirnoff(force_field=sage, topology=toluene_topology)\n",
    "toluene.positions = toluene_pdbfile.positions"
   ]
  },
  {
   "cell_type": "code",
   "execution_count": 3,
   "metadata": {},
   "outputs": [
    {
     "data": {
      "text/plain": [
       "Interchange with 6 potential handlers, non-periodic topology with 2634 atoms."
      ]
     },
     "execution_count": 3,
     "metadata": {},
     "output_type": "execute_result"
    }
   ],
   "source": [
    "ff14sb = ForceField(\"ff14sb_off_impropers_0.0.3.offxml\")\n",
    "\n",
    "# TODO: This PDB file also has water and ions, which are not yet intelligently parsed by the toolkit.\n",
    "#       For now, we simply slice out the protein.\n",
    "trajectory = md.load(\n",
    "    get_data_file_path(\"systems/test_systems/T4_lysozyme_water_ions.pdb\")\n",
    ")\n",
    "\n",
    "protein = trajectory.atom_slice(trajectory.topology.select(\"chainid 0\"))\n",
    "protein.save(\"protein.pdb\")\n",
    "\n",
    "t4_lysozyme_molecule = Molecule.from_polymer_pdb(\"protein.pdb\")\n",
    "\n",
    "t4_lysozyme = Interchange.from_smirnoff(\n",
    "    force_field=ff14sb, topology=t4_lysozyme_molecule.to_topology()\n",
    ")\n",
    "t4_lysozyme"
   ]
  },
  {
   "cell_type": "code",
   "execution_count": 4,
   "metadata": {},
   "outputs": [
    {
     "name": "stderr",
     "output_type": "stream",
     "text": [
      "/Users/mattthompson/miniconda3/envs/openff-dev/lib/python3.9/site-packages/openff/interchange/components/interchange.py:822: UserWarning: Interchange object combination is experimental and likely to produce strange results. Any workflow using this method is not guaranteed to be suitable for production. Use with extreme caution and thoroughly validate results!\n",
      "  warnings.warn(\n",
      "/Users/mattthompson/miniconda3/envs/openff-dev/lib/python3.9/site-packages/openff/interchange/components/interchange.py:852: UserWarning: 'other' Interchange object has handler with name Constraints not found in 'self,' but it has now been added.\n",
      "  warnings.warn(\n"
     ]
    }
   ],
   "source": [
    "complex_system = t4_lysozyme + toluene"
   ]
  },
  {
   "cell_type": "code",
   "execution_count": 5,
   "metadata": {},
   "outputs": [
    {
     "data": {
      "text/plain": [
       "<openmm.openmm.System; proxy of <Swig Object of type 'OpenMM::System *' at 0x196305cf0> >"
      ]
     },
     "execution_count": 5,
     "metadata": {},
     "output_type": "execute_result"
    }
   ],
   "source": [
    "complex_system.to_openmm(combine_nonbonded_forces=True)"
   ]
  }
 ],
 "metadata": {
  "kernelspec": {
   "display_name": "Python 3 (ipykernel)",
   "language": "python",
   "name": "python3"
  },
  "language_info": {
   "codemirror_mode": {
    "name": "ipython",
    "version": 3
   },
   "file_extension": ".py",
   "mimetype": "text/x-python",
   "name": "python",
   "nbconvert_exporter": "python",
   "pygments_lexer": "ipython3",
   "version": "3.9.13"
  }
 },
 "nbformat": 4,
 "nbformat_minor": 4
}

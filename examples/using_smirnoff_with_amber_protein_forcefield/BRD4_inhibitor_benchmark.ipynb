{
 "cells": [
  {
   "cell_type": "markdown",
   "metadata": {},
   "source": [
    "## Using SMIRNOFF with Amber on BRD4:inhibitor complexes: Exporting parameterized complexes to Amber, Gromacs, and CHARMM\n",
    "\n",
    "This example applies SMIRNOFF-format parameters to BRD4 inhibitors from the [living review on binding free energy benchmark systems](https://www.annualreviews.org/doi/abs/10.1146/annurev-biophys-070816-033654) by Mobley and Gilson. The BRD4 system comes from the [accompanying GitHub repository](https://github.com/MobleyLab/benchmarksets/tree/master/input_files/BRD4).\n",
    "\n",
    "This example uses [ParmEd](http://parmed.github.io) to combine a protein parameterized with Amber with a ligand parameterized with SMIRNOFF. This example is meant to illustrate how to apply parameters to a single ligand, but it's also easy to process many ligands."
   ]
  },
  {
   "cell_type": "code",
   "execution_count": 1,
   "metadata": {},
   "outputs": [],
   "source": [
    "# Retrieve protein and ligand files for BRD4 and a docked inhibitor from the benchmark systems GitHub repository\n",
    "# https://github.com/MobleyLab/benchmarksets\n",
    "import requests\n",
    "\n",
    "repo_url = (\n",
    "    \"https://raw.githubusercontent.com/MobleyLab/benchmarksets/master/input_files/\"\n",
    ")\n",
    "sources = {\n",
    "    \"receptor.pdb\": repo_url + \"BRD4/pdb/BRD4.pdb\",\n",
    "    \"ligand.pdb\": repo_url + \"BRD4/pdb/ligand-1.pdb\",\n",
    "    \"ligand.sdf\": repo_url + \"BRD4/sdf/ligand-1.sdf\",\n",
    "}\n",
    "for (filename, url) in sources.items():\n",
    "    r = requests.get(url)\n",
    "    open(filename, \"w\").write(r.text)"
   ]
  },
  {
   "cell_type": "markdown",
   "metadata": {},
   "source": [
    "### Parametrize a molecule with the SMIRNOFF-format \"Sage\" force field\n",
    "\n",
    "First, we parametrize the ligand with the Sage force field."
   ]
  },
  {
   "cell_type": "markdown",
   "metadata": {},
   "source": [
    "We use both a PDB file and an SDF file for the ligand."
   ]
  },
  {
   "cell_type": "code",
   "execution_count": 2,
   "metadata": {},
   "outputs": [
    {
     "name": "stderr",
     "output_type": "stream",
     "text": [
      "Warning: Unable to load toolkit 'OpenEye Toolkit'. The Open Force Field Toolkit does not require the OpenEye Toolkits, and can use RDKit/AmberTools instead. However, if you have a valid license for the OpenEye Toolkits, consider installing them for faster performance and additional file format support: https://docs.eyesopen.com/toolkits/python/quickstart-python/linuxosx.html OpenEye offers free Toolkit licenses for academics: https://www.eyesopen.com/academic-licensing\n"
     ]
    }
   ],
   "source": [
    "# Create an OpenFF Molecule object from the ligand SDF fiel\n",
    "from openff.toolkit.topology import Molecule\n",
    "\n",
    "ligand_off_molecule = Molecule(\"ligand.sdf\")\n",
    "\n",
    "# Load the SMIRNOFF-format Sage force field\n",
    "from openff.toolkit.typing.engines.smirnoff import ForceField\n",
    "\n",
    "force_field = ForceField(\"openff_unconstrained-2.0.0.offxml\")\n",
    "\n",
    "# Parametrize the ligand molecule by creating a Topology object from it\n",
    "ligand_system = force_field.create_openmm_system(ligand_off_molecule.to_topology())"
   ]
  },
  {
   "cell_type": "markdown",
   "metadata": {},
   "source": [
    "and we convert the OpenMM `System` to a ParmEd `Structure` that we'll be able to mix with the protein\n",
    "\n",
    "<div class=\"alert alert-block alert-warning\">\n",
    "  <b>Warning:</b> ParmEd's Structure model is inspired by AMBER. Some information in an OpenMM System are not directly translatable into a Structure. In particular, long-range interaction treatment method (e.g., PME, CutoffPeriodic) and parameters (e.g., cutoff and cutoff switching distance, PME error tolerance) are known to be lost during the conversion.\n",
    "</div>"
   ]
  },
  {
   "cell_type": "code",
   "execution_count": 3,
   "metadata": {},
   "outputs": [],
   "source": [
    "try:\n",
    "    from openmm import XmlSerializer, app, unit\n",
    "    from openmm.app import HBonds, NoCutoff, PDBFile\n",
    "except ImportError:\n",
    "    from simtk import unit\n",
    "    from simtk.openmm import XmlSerializer, app\n",
    "    from simtk.openmm.app import HBonds, NoCutoff, PDBFile"
   ]
  },
  {
   "cell_type": "code",
   "execution_count": 4,
   "metadata": {},
   "outputs": [],
   "source": [
    "# Read in the coordinates of the ligand from the PDB file\n",
    "ligand_pdbfile = PDBFile(\"ligand.pdb\")\n",
    "\n",
    "# Convert OpenMM System object containing ligand parameters into a ParmEd Structure.\n",
    "import parmed\n",
    "\n",
    "ligand_structure = parmed.openmm.load_topology(\n",
    "    ligand_pdbfile.topology, ligand_system, xyz=ligand_pdbfile.positions\n",
    ")"
   ]
  },
  {
   "cell_type": "markdown",
   "metadata": {},
   "source": [
    "### Create a ParmEd `Structure` of an AMBER-parametrized receptor\n",
    "\n",
    "We have to create a ParmEd `Structure` containing positions and parameters of the receptor (BRD4) that we will then combine with the positions and parameters in the ligand `Structure` we created above. \n",
    "\n",
    "First, we use OpenMM to assign Amber14 parameters using OpenMM, but you can also create a `Structure` [from Amber `prmtop` and `inpcrd` files](http://parmed.github.io/ParmEd/html/structure.html).\n",
    "\n",
    "<div class=\"alert alert-block alert-info\">\n",
    "    <b>Note:</b> If you already have AMBER (prmtop/inpcrd), GROMACS (top/gro), or any other file specifying the protein parameters supported by ParmEd, you can simply load the files directly into a Structure using ParmEd's functionalities. See https://parmed.github.io/ParmEd/html/readwrite.html .\n",
    "</div>"
   ]
  },
  {
   "cell_type": "code",
   "execution_count": 5,
   "metadata": {},
   "outputs": [],
   "source": [
    "receptor_pdbfile = PDBFile(\"receptor.pdb\")\n",
    "\n",
    "# Load the AMBER protein force field through OpenMM.\n",
    "omm_forcefield = app.ForceField(\"amber14-all.xml\")\n",
    "\n",
    "# Parameterize the protein.\n",
    "receptor_system = omm_forcefield.createSystem(receptor_pdbfile.topology)\n",
    "\n",
    "# Convert the protein System into a ParmEd Structure.\n",
    "receptor_structure = parmed.openmm.load_topology(\n",
    "    receptor_pdbfile.topology, receptor_system, xyz=receptor_pdbfile.positions\n",
    ")"
   ]
  },
  {
   "cell_type": "markdown",
   "metadata": {},
   "source": [
    "### Combine receptor and ligand structures\n",
    "\n",
    "We can then merge the receptor and ligand `Structure` objects into a single `Structure` containing both positions and parameters."
   ]
  },
  {
   "cell_type": "code",
   "execution_count": 6,
   "metadata": {},
   "outputs": [],
   "source": [
    "complex_structure = receptor_structure + ligand_structure"
   ]
  },
  {
   "cell_type": "markdown",
   "metadata": {},
   "source": [
    "### Export to OpenMM\n",
    "\n",
    "Once we have the `Structure` for the complex, containing both positions and parameters, we can chose to create an OpenMM `System` object that we can simulate using [OpenMM](http://openmm.org):"
   ]
  },
  {
   "cell_type": "code",
   "execution_count": 7,
   "metadata": {},
   "outputs": [],
   "source": [
    "# Convert the Structure to an OpenMM System in vacuum.\n",
    "complex_system = complex_structure.createSystem(\n",
    "    nonbondedMethod=NoCutoff,\n",
    "    nonbondedCutoff=9.0 * unit.angstrom,\n",
    "    constraints=HBonds,\n",
    "    removeCMMotion=False,\n",
    ")"
   ]
  },
  {
   "cell_type": "code",
   "execution_count": 8,
   "metadata": {},
   "outputs": [],
   "source": [
    "# Export the System to an OpenMM System XML and PDB file\n",
    "complex_structure.save(\"complex.pdb\", overwrite=True)\n",
    "\n",
    "with open(\"complex.xml\", \"w\") as f:\n",
    "    f.write(XmlSerializer.serialize(complex_system))"
   ]
  },
  {
   "cell_type": "markdown",
   "metadata": {},
   "source": [
    "### Export to Amber\n",
    "\n",
    "We can also export the `Structure` to Amber `prmtop` and `inpcrd` files using [ParmEd](http://parmed.github.io/ParmEd/html/amber.html):"
   ]
  },
  {
   "cell_type": "code",
   "execution_count": 9,
   "metadata": {},
   "outputs": [],
   "source": [
    "# Export the Structure to AMBER files\n",
    "complex_structure.save(\"complex.prmtop\", overwrite=True)\n",
    "complex_structure.save(\"complex.inpcrd\", overwrite=True)"
   ]
  },
  {
   "cell_type": "markdown",
   "metadata": {},
   "source": [
    "### Export to gromacs\n",
    "\n",
    "We can export the `Structure` to gromacs `gro` and `top` files using [ParmEd](http://parmed.github.io/ParmEd/html/gromacs.html):"
   ]
  },
  {
   "cell_type": "code",
   "execution_count": 10,
   "metadata": {},
   "outputs": [],
   "source": [
    "# Export the Structure to Gromacs files\n",
    "complex_structure.save(\"complex.gro\", overwrite=True)\n",
    "complex_structure.save(\"complex.top\", overwrite=True)"
   ]
  }
 ],
 "metadata": {
  "kernelspec": {
   "display_name": "Python 3",
   "language": "python",
   "name": "python3"
  },
  "language_info": {
   "codemirror_mode": {
    "name": "ipython",
    "version": 3
   },
   "file_extension": ".py",
   "mimetype": "text/x-python",
   "name": "python",
   "nbconvert_exporter": "python",
   "pygments_lexer": "ipython3",
   "version": "3.7.10"
  }
 },
 "nbformat": 4,
 "nbformat_minor": 4
}

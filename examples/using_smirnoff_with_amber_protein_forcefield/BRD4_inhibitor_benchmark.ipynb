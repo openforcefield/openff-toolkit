{
 "cells": [
  {
   "attachments": {},
   "cell_type": "markdown",
   "metadata": {
    "tags": []
   },
   "source": [
    "## Using SMIRNOFF with Amber on BRD4:inhibitor complexes: Exporting parameterized complexes to Amber, Gromacs, and CHARMM\n",
    "\n",
    "This example applies SMIRNOFF-format parameters to BRD4 inhibitors from the [living review on binding free energy benchmark systems](https://www.annualreviews.org/doi/abs/10.1146/annurev-biophys-070816-033654) by Mobley and Gilson. The BRD4 system comes from the [accompanying GitHub repository](https://github.com/MobleyLab/benchmarksets/tree/master/input_files/BRD4)."
   ]
  },
  {
   "cell_type": "code",
   "execution_count": 1,
   "metadata": {},
   "outputs": [],
   "source": [
    "# Retrieve protein and ligand files for BRD4 and a docked inhibitor from the benchmark systems GitHub repository\n",
    "# https://github.com/MobleyLab/benchmarksets\n",
    "import requests\n",
    "\n",
    "repo_url = (\n",
    "    \"https://raw.githubusercontent.com/MobleyLab/benchmarksets/master/input_files/\"\n",
    ")\n",
    "sources = {\n",
    "    \"receptor.pdb\": repo_url + \"BRD4/pdb/BRD4.pdb\",\n",
    "    \"ligand.pdb\": repo_url + \"BRD4/pdb/ligand-1.pdb\",\n",
    "    \"ligand.sdf\": repo_url + \"BRD4/sdf/ligand-1.sdf\",\n",
    "}\n",
    "for filename, url in sources.items():\n",
    "    r = requests.get(url)\n",
    "    open(filename, \"w\").write(r.text)"
   ]
  },
  {
   "cell_type": "code",
   "execution_count": 2,
   "metadata": {},
   "outputs": [],
   "source": [
    "from openff.toolkit import ForceField, Molecule"
   ]
  },
  {
   "attachments": {},
   "cell_type": "markdown",
   "metadata": {},
   "source": [
    "Later we will use `Interchange.__add__`, which is an experimental feature. It needs to be turned on by setting the environment variable below, and by doing so we accept [some stability and accuracy risks](https://docs.openforcefield.org/projects/interchange/en/stable/using/experimental.html)."
   ]
  },
  {
   "cell_type": "code",
   "execution_count": 3,
   "metadata": {},
   "outputs": [
    {
     "name": "stdout",
     "output_type": "stream",
     "text": [
      "env: INTERCHANGE_EXPERIMENTAL=1\n"
     ]
    }
   ],
   "source": [
    "%env INTERCHANGE_EXPERIMENTAL=1"
   ]
  },
  {
   "cell_type": "code",
   "execution_count": 4,
   "metadata": {
    "tags": []
   },
   "outputs": [
    {
     "data": {
      "application/vnd.jupyter.widget-view+json": {
       "model_id": "0451b7dd7163441f9ae2593f28cc1bdd",
       "version_major": 2,
       "version_minor": 0
      },
      "text/plain": []
     },
     "metadata": {},
     "output_type": "display_data"
    },
    {
     "name": "stderr",
     "output_type": "stream",
     "text": [
      "/Users/mattthompson/mambaforge/envs/openff-toolkit-test/lib/python3.10/site-packages/openff/interchange/components/interchange.py:630: UserWarning: Interchange object combination is experimental and likely to produce strange results. Any workflow using this method is not guaranteed to be suitable for production. Use with extreme caution and thoroughly validate results!\n",
      "  warnings.warn(\n"
     ]
    }
   ],
   "source": [
    "ligand_molecule = Molecule(\"ligand.sdf\")\n",
    "sage = ForceField(\"openff-2.0.0.offxml\")\n",
    "\n",
    "ligand = sage.create_interchange(topology=ligand_molecule.to_topology())\n",
    "\n",
    "receptor_molecule = Molecule.from_polymer_pdb(\"receptor.pdb\")\n",
    "\n",
    "ff14sb = ForceField(\"ff14sb_off_impropers_0.0.3.offxml\")\n",
    "\n",
    "receptor = ff14sb.create_interchange(topology=receptor_molecule.to_topology())\n",
    "\n",
    "complex_system = receptor + ligand\n",
    "\n",
    "# TODO\n",
    "# complex.box = pdbfile box vectors ...\n",
    "# complex.positions = np.vstack([receptor.positions, ligand.positions])"
   ]
  },
  {
   "attachments": {},
   "cell_type": "markdown",
   "metadata": {},
   "source": [
    "### Export to OpenMM"
   ]
  },
  {
   "cell_type": "code",
   "execution_count": 5,
   "metadata": {},
   "outputs": [
    {
     "data": {
      "text/plain": [
       "<openmm.openmm.System; proxy of <Swig Object of type 'OpenMM::System *' at 0x10fb969a0> >"
      ]
     },
     "execution_count": 5,
     "metadata": {},
     "output_type": "execute_result"
    }
   ],
   "source": [
    "complex_system.to_openmm()"
   ]
  },
  {
   "attachments": {},
   "cell_type": "markdown",
   "metadata": {
    "tags": []
   },
   "source": [
    "### Export to Amber"
   ]
  },
  {
   "cell_type": "code",
   "execution_count": 6,
   "metadata": {},
   "outputs": [],
   "source": [
    "# TODO: Fix inferring residue information with mixed topology\n",
    "if False:\n",
    "    complex_system.to_inpcrd(\"complex.inpcrd\")\n",
    "    complex_system.to_prmtop(\"complex.prmtop\")"
   ]
  },
  {
   "attachments": {},
   "cell_type": "markdown",
   "metadata": {},
   "source": [
    "### Export to GROMACS"
   ]
  },
  {
   "cell_type": "code",
   "execution_count": 7,
   "metadata": {},
   "outputs": [
    {
     "name": "stderr",
     "output_type": "stream",
     "text": [
      "/Users/mattthompson/mambaforge/envs/openff-toolkit-test/lib/python3.10/site-packages/openff/interchange/interop/gromacs/export/_export.py:321: UserWarning: WARNING: System defined with no box vectors, which GROMACS does not offically support in versions 2020 or newer (see https://gitlab.com/gromacs/gromacs/-/issues/3526). Setting box vectors to a 5  nm cube.\n",
      "  warnings.warn(\n"
     ]
    }
   ],
   "source": [
    "complex_system.to_gro(\"complex.gro\")\n",
    "complex_system.to_top(\"complex.top\")"
   ]
  }
 ],
 "metadata": {
  "kernelspec": {
   "display_name": "Python 3 (ipykernel)",
   "language": "python",
   "name": "python3"
  },
  "language_info": {
   "codemirror_mode": {
    "name": "ipython",
    "version": 3
   },
   "file_extension": ".py",
   "mimetype": "text/x-python",
   "name": "python",
   "nbconvert_exporter": "python",
   "pygments_lexer": "ipython3",
   "version": "3.10.10"
  }
 },
 "nbformat": 4,
 "nbformat_minor": 4
}

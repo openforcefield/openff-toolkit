{
 "cells": [
  {
   "cell_type": "markdown",
   "metadata": {
    "tags": []
   },
   "source": [
    "## Using SMIRNOFF with Amber on BRD4:inhibitor complexes: Exporting parameterized complexes to Amber, Gromacs, and CHARMM\n",
    "\n",
    "This example applies SMIRNOFF-format parameters to BRD4 inhibitors from the [living review on binding free energy benchmark systems](https://www.annualreviews.org/doi/abs/10.1146/annurev-biophys-070816-033654) by Mobley and Gilson. The BRD4 system comes from the [accompanying GitHub repository](https://github.com/MobleyLab/benchmarksets/tree/master/input_files/BRD4)."
   ]
  },
  {
   "cell_type": "code",
   "execution_count": 1,
   "metadata": {},
   "outputs": [],
   "source": [
    "# Retrieve protein and ligand files for BRD4 and a docked inhibitor from the benchmark systems GitHub repository\n",
    "# https://github.com/MobleyLab/benchmarksets\n",
    "import requests\n",
    "\n",
    "repo_url = (\n",
    "    \"https://raw.githubusercontent.com/MobleyLab/benchmarksets/master/input_files/\"\n",
    ")\n",
    "sources = {\n",
    "    \"receptor.pdb\": repo_url + \"BRD4/pdb/BRD4.pdb\",\n",
    "    \"ligand.pdb\": repo_url + \"BRD4/pdb/ligand-1.pdb\",\n",
    "    \"ligand.sdf\": repo_url + \"BRD4/sdf/ligand-1.sdf\",\n",
    "}\n",
    "for (filename, url) in sources.items():\n",
    "    r = requests.get(url)\n",
    "    open(filename, \"w\").write(r.text)"
   ]
  },
  {
   "cell_type": "code",
   "execution_count": 2,
   "metadata": {},
   "outputs": [],
   "source": [
    "from openff.interchange import Interchange\n",
    "\n",
    "from openff.toolkit import ForceField, Molecule"
   ]
  },
  {
   "cell_type": "code",
   "execution_count": null,
   "metadata": {
    "tags": []
   },
   "outputs": [
    {
     "name": "stdout",
     "output_type": "stream",
     "text": [
      "ALA\n",
      "[N:1]([C@:2]([C:3]=[O:4])([C:5]([H:8])([H:9])[H:10])[H:7])[H:6]\n",
      "ARG\n",
      "[N:1]([C@:2]([C:3]=[O:4])([C:5]([C:6]([C:7]([N:8]([C:9]([N:10]([H:21])[H:22])=[N+:11]([H:23])[H:24])[H:20])([H:18])[H:19])([H:16])[H:17])([H:14])[H:15])[H:13])[H:12]\n",
      "ASN\n",
      "[N+:1]([C@:2]([C:3]=[O:4])([C:5]([C:6](=[O:7])[N:8]([H:12])[H:13])([H:10])[H:11])[H:9])([H:14])([H:15])[H:16]\n",
      "ASN\n",
      "[N:1]([C@:2]([C:3]=[O:4])([C:5]([C:6](=[O:7])[N:8]([H:13])[H:14])([H:11])[H:12])[H:10])[H:9]\n",
      "ASP\n",
      "[N:1]([C@:2]([C:3]=[O:4])([C:5]([C:6](=[O:7])[O-:8])([H:10])[H:11])[H:9])[H:12]\n",
      "CYS\n",
      "[N:1]([C@:2]([C:3]=[O:4])([C:5]([S:6][H:11])([H:9])[H:10])[H:8])[H:7]\n",
      "GLN\n",
      "[N:1]([C@:2]([C:3]=[O:4])([C:5]([C:6]([C:7](=[O:8])[N:9]([H:16])[H:17])([H:14])[H:15])([H:12])[H:13])[H:11])[H:10]\n",
      "GLU\n",
      "[N:1]([C@:2]([C:3]=[O:4])([C:5]([C:6]([C:7](=[O:8])[O-:9])([H:13])[H:14])([H:11])[H:12])[H:10])[H:15]\n",
      "GLY\n",
      "[N:1]([C:2]([C:3]=[O:4])([H:6])[H:7])[H:5]\n"
     ]
    }
   ],
   "source": [
    "ligand_molecule = Molecule(\"ligand.sdf\")\n",
    "sage = ForceField(\"openff-2.0.0.offxml\")\n",
    "\n",
    "ligand = Interchange.from_smirnoff(\n",
    "    force_field=sage, topology=ligand_molecule.to_topology()\n",
    ")\n",
    "\n",
    "receptor_molecule = Molecule.from_pdb(\"receptor.pdb\")\n",
    "\n",
    "ff14sb = ForceField(\"ff14sb_off_impropers_0.0.1.offxml\")\n",
    "ff14sb.deregister_parameter_handler(\"ImproperTorsions\")\n",
    "\n",
    "receptor = Interchange.from_smirnoff(\n",
    "    force_field=ff14sb, topology=receptor_molecule.to_topology()\n",
    ")\n",
    "\n",
    "complex_system = receptor + ligand\n",
    "\n",
    "# TODO\n",
    "# complex.box = pdbfile box vectors ...\n",
    "# complex.positions = np.vstack([receptor.positions, ligand.positions])"
   ]
  },
  {
   "cell_type": "markdown",
   "metadata": {},
   "source": [
    "### Export to OpenMM"
   ]
  },
  {
   "cell_type": "code",
   "execution_count": null,
   "metadata": {},
   "outputs": [],
   "source": [
    "complex_system.to_openmm()"
   ]
  },
  {
   "cell_type": "markdown",
   "metadata": {
    "tags": []
   },
   "source": [
    "### Export to Amber"
   ]
  },
  {
   "cell_type": "code",
   "execution_count": null,
   "metadata": {},
   "outputs": [],
   "source": [
    "complex_system.to_inpcrd(\"complex.inpcrd\")\n",
    "complex_system.to_prmtop(\"complex.prmtop\")"
   ]
  },
  {
   "cell_type": "markdown",
   "metadata": {},
   "source": [
    "### Export to GROMACS"
   ]
  },
  {
   "cell_type": "code",
   "execution_count": null,
   "metadata": {},
   "outputs": [],
   "source": [
    "complex_structure.to_gro(\"complex.gro\")\n",
    "complex_structure.to_top(\"complex.top\")"
   ]
  }
 ],
 "metadata": {
  "kernelspec": {
   "display_name": "Python 3 (ipykernel)",
   "language": "python",
   "name": "python3"
  },
  "language_info": {
   "codemirror_mode": {
    "name": "ipython",
    "version": 3
   },
   "file_extension": ".py",
   "mimetype": "text/x-python",
   "name": "python",
   "nbconvert_exporter": "python",
   "pygments_lexer": "ipython3",
   "version": "3.8.12"
  }
 },
 "nbformat": 4,
 "nbformat_minor": 4
}

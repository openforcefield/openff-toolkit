{
 "cells": [
  {
   "cell_type": "markdown",
   "metadata": {},
   "source": [
    "# Mixture simulation with Sage: Ethanol and cyclohexane\n",
    "\n",
    "This example shows how to use the Open Force Field Toolkit to create a parametrized `System` object that can be used to run a molecular dynamic simulation with OpenMM. If you want to run MD with a different engine, see the example in `examples/conversion_amber_gromacs/`."
   ]
  },
  {
   "cell_type": "markdown",
   "metadata": {
    "tags": []
   },
   "source": [
    "## Create an Interchange\n",
    "\n",
    "We start by loading a PDB file containing one copy of ethanol and cyclohexane. Our goal is to create an OFF `Topology` object describing this system that we can parametrize with the SMIRNOFF-format \"Sage\" force field. The parametrized system is stored in an `Interchange` object, which can then produce input files for a number of simulation engines.\n",
    "\n",
    "The two `Molecule` objects created from the SMILES strings can contain information such as partial charges and stereochemistry that is not included in an OpenMM topology. In this example, partial charges are not explicitly given, and `ForceField` will assign AM1/BCC charges as specified by the \"Sage\" force field."
   ]
  },
  {
   "cell_type": "code",
   "execution_count": 1,
   "metadata": {
    "execution": {
     "iopub.execute_input": "2021-11-29T23:42:19.752721Z",
     "iopub.status.busy": "2021-11-29T23:42:19.751596Z",
     "iopub.status.idle": "2021-11-29T23:42:22.465514Z",
     "shell.execute_reply": "2021-11-29T23:42:22.466436Z"
    }
   },
   "outputs": [],
   "source": [
    "from openff.toolkit.utils import get_data_file_path"
   ]
  },
  {
   "cell_type": "markdown",
   "metadata": {},
   "source": [
    "We use the `get_data_file_path` utility function to easily access the data installed with the toolkit. Here you have the option to load example systems of increasing complexity. For speed, we recommend that you begin by loading a system with a single ethanol and a single cyclohexane."
   ]
  },
  {
   "cell_type": "code",
   "execution_count": 2,
   "metadata": {
    "execution": {
     "iopub.execute_input": "2021-11-29T23:42:22.478603Z",
     "iopub.status.busy": "2021-11-29T23:42:22.475696Z",
     "iopub.status.idle": "2021-11-29T23:42:22.510932Z",
     "shell.execute_reply": "2021-11-29T23:42:22.511544Z"
    }
   },
   "outputs": [],
   "source": [
    "# 1 molecule of ethanol and 1 of cyclohexane.\n",
    "pdb_file_path = get_data_file_path(\"systems/test_systems/1_cyclohexane_1_ethanol.pdb\")\n",
    "\n",
    "# 40%-60% cyclohexane-ethanol mixture.\n",
    "# pdb_file_path = get_data_file_path('systems/packmol_boxes/cyclohexane_ethanol_0.4_0.6.pdb')"
   ]
  },
  {
   "cell_type": "markdown",
   "metadata": {},
   "source": [
    "PDB files are not a reliable source of bond orders, so the toolkit requires users to supply a more detailed description of the molecule and its connectivity. SMILES records, SDF, and MOL2 files are among the [many ways to create a `Molecule`.](https://docs.openforcefield.org/projects/toolkit/en/stable/users/molecule_cookbook.html)"
   ]
  },
  {
   "cell_type": "code",
   "execution_count": 3,
   "metadata": {
    "execution": {
     "iopub.execute_input": "2021-11-29T23:42:22.520700Z",
     "iopub.status.busy": "2021-11-29T23:42:22.517277Z",
     "iopub.status.idle": "2021-11-29T23:42:22.973357Z",
     "shell.execute_reply": "2021-11-29T23:42:22.974711Z"
    }
   },
   "outputs": [],
   "source": [
    "from openff.toolkit import Molecule\n",
    "\n",
    "ethanol = Molecule.from_smiles(\"CCO\")\n",
    "cyclohexane = Molecule.from_smiles(\"C1CCCCC1\")"
   ]
  },
  {
   "cell_type": "markdown",
   "metadata": {},
   "source": [
    "Alternatively, if you have `sdf` files of the molecules, or if you have OpenEye installed and `mol2` files available, you can get the same results as above by loading the detailed molecule information from the files."
   ]
  },
  {
   "cell_type": "code",
   "execution_count": 4,
   "metadata": {
    "execution": {
     "iopub.execute_input": "2021-11-29T23:42:22.987013Z",
     "iopub.status.busy": "2021-11-29T23:42:22.985769Z",
     "iopub.status.idle": "2021-11-29T23:42:23.001627Z",
     "shell.execute_reply": "2021-11-29T23:42:23.002441Z"
    }
   },
   "outputs": [],
   "source": [
    "from openff.toolkit.utils.toolkits import OpenEyeToolkitWrapper\n",
    "\n",
    "if OpenEyeToolkitWrapper.is_available():\n",
    "    ethanol = Molecule.from_file(get_data_file_path(\"molecules/ethanol.mol2\"))\n",
    "    cyclohexane = Molecule.from_file(get_data_file_path(\"molecules/cyclohexane.mol2\"))"
   ]
  },
  {
   "cell_type": "markdown",
   "metadata": {},
   "source": [
    "We now create the Open Force Field Toolkit `Topology` describing the system from an OpenMM `Topology` object. The OFF `Topology` include more information (supplied by the two `Molecule` objects) than the OpenMM `Topology` such as (optionally) partial charges and stereochemistry. In this example, partial charges are not explicitly given, and `ForceField` will assign AM1/BCC charges as specified by the \"Sage\" force field.\n",
    "\n",
    "Note that the Open Force Field Toolkit produces deterministic charges that do not depend on the input conformation of parameterized molecules. See the [FAQ](https://docs.openforcefield.org/projects/toolkit/en/stable/faq.html#the-partial-charges-generated-by-the-toolkit-dont-seem-to-depend-on-the-molecules-conformation-is-this-a-bug) for more information.\n",
    "\n",
    "<div class=\"alert alert-block alert-info\">\n",
    "    <b>Note on partial charges:</b> The full 1.0.0 release will implement support for the definition of semiempirical partial charge treatment directly into the SMIRNOFF force field file (for details, see https://openforcefield.github.io/standards/standards/smirnoff/#partial-charge-and-electrostatics-models). Moreover, it will be possible to import charges directly from sdf and mol2 files.\n",
    "</div>"
   ]
  },
  {
   "cell_type": "code",
   "execution_count": 5,
   "metadata": {
    "execution": {
     "iopub.execute_input": "2021-11-29T23:42:23.013522Z",
     "iopub.status.busy": "2021-11-29T23:42:23.007193Z",
     "iopub.status.idle": "2021-11-29T23:42:26.049591Z",
     "shell.execute_reply": "2021-11-29T23:42:26.050241Z"
    }
   },
   "outputs": [
    {
     "data": {
      "application/vnd.jupyter.widget-view+json": {
       "model_id": "28090303720f4b59a0c5836d566e1c93",
       "version_major": 2,
       "version_minor": 0
      },
      "text/plain": []
     },
     "metadata": {},
     "output_type": "display_data"
    },
    {
     "name": "stderr",
     "output_type": "stream",
     "text": [
      "Warning: Cannot perform Hydrogen sampling with GPU-Omega: GPU-Omega disabled.\n"
     ]
    }
   ],
   "source": [
    "from openff.toolkit import ForceField, Topology\n",
    "\n",
    "# Create the OpenFF Topology from an PDB file\n",
    "topology = Topology.from_pdb(\n",
    "    pdb_file_path,\n",
    "    unique_molecules=[ethanol, cyclohexane],\n",
    ")\n",
    "\n",
    "# Load the OpenFF \"Sage\" force field.\n",
    "forcefield = ForceField(\"openff-2.1.0.offxml\")\n",
    "\n",
    "# Parametrize the topology and create an Interchange object.\n",
    "interchange = forcefield.create_interchange(topology)"
   ]
  },
  {
   "cell_type": "markdown",
   "metadata": {},
   "source": [
    "## Run a simulation\n",
    "\n",
    "We can now use the `Interchange` object to prepare and run molecular dynamics simulations with OpenMM."
   ]
  },
  {
   "cell_type": "code",
   "execution_count": 6,
   "metadata": {
    "execution": {
     "iopub.execute_input": "2021-11-29T23:42:27.061669Z",
     "iopub.status.busy": "2021-11-29T23:42:27.060787Z",
     "iopub.status.idle": "2021-11-29T23:42:27.065235Z",
     "shell.execute_reply": "2021-11-29T23:42:27.066076Z"
    }
   },
   "outputs": [],
   "source": [
    "import openmm\n",
    "from openmm import unit\n",
    "\n",
    "# Propagate the System with Langevin dynamics.\n",
    "time_step = 2 * unit.femtoseconds  # simulation timestep\n",
    "temperature = 300 * unit.kelvin  # simulation temperature\n",
    "friction = 1 / unit.picosecond  # collision rate\n",
    "integrator = openmm.LangevinIntegrator(temperature, friction, time_step)\n",
    "\n",
    "# Length of the simulation.\n",
    "num_steps = 1000  # number of integration steps to run\n",
    "\n",
    "# Logging options.\n",
    "trj_freq = 100  # number of steps per written trajectory frame\n",
    "data_freq = 100  # number of steps per written simulation statistics\n",
    "\n",
    "# Set up an OpenMM simulation.\n",
    "simulation = interchange.to_openmm_simulation(integrator)\n",
    "\n",
    "# Randomize the velocities from a Boltzmann distribution at a given temperature.\n",
    "simulation.context.setVelocitiesToTemperature(temperature)\n",
    "\n",
    "# Configure the information in the output files.\n",
    "pdb_reporter = openmm.app.PDBReporter(\"trajectory.pdb\", trj_freq)\n",
    "state_data_reporter = openmm.app.StateDataReporter(\n",
    "    \"data.csv\",\n",
    "    data_freq,\n",
    "    step=True,\n",
    "    potentialEnergy=True,\n",
    "    temperature=True,\n",
    "    density=True,\n",
    ")\n",
    "simulation.reporters.append(pdb_reporter)\n",
    "simulation.reporters.append(state_data_reporter)"
   ]
  },
  {
   "cell_type": "code",
   "execution_count": 7,
   "metadata": {
    "execution": {
     "iopub.execute_input": "2021-11-29T23:42:27.072048Z",
     "iopub.status.busy": "2021-11-29T23:42:27.071297Z",
     "iopub.status.idle": "2021-11-29T23:43:33.569612Z",
     "shell.execute_reply": "2021-11-29T23:43:33.570743Z"
    }
   },
   "outputs": [
    {
     "name": "stdout",
     "output_type": "stream",
     "text": [
      "Starting simulation\n",
      "Elapsed time 0.21 seconds\n",
      "Done!\n"
     ]
    }
   ],
   "source": [
    "import time\n",
    "\n",
    "print(\"Starting simulation\")\n",
    "start = time.process_time()\n",
    "\n",
    "# Run the simulation\n",
    "simulation.step(num_steps)\n",
    "\n",
    "end = time.process_time()\n",
    "print(\"Elapsed time %.2f seconds\" % (end - start))\n",
    "print(\"Done!\")"
   ]
  },
  {
   "cell_type": "markdown",
   "metadata": {},
   "source": [
    "If successful, the directory where your jupyter notebook is running should contain a `trajectory.pdb` file that you can visualize and a `data.csv` file including potential energy, density, and temperature of each frame."
   ]
  },
  {
   "cell_type": "code",
   "execution_count": 8,
   "metadata": {
    "scrolled": true
   },
   "outputs": [
    {
     "name": "stdout",
     "output_type": "stream",
     "text": [
      "#\"Step\",\"Potential Energy (kJ/mole)\",\"Temperature (K)\",\"Density (g/mL)\"\r\n",
      "100,61.05058168894371,242.8394265999563,0.006671086812409914\r\n",
      "200,59.796599144998396,268.5235212769304,0.006671086812409914\r\n",
      "300,90.93688845163902,195.7051305579395,0.006671086812409914\r\n",
      "400,79.98643373972496,219.1577906539981,0.006671086812409914\r\n",
      "500,65.05047487742027,258.5329344934141,0.006671086812409914\r\n",
      "600,73.01794313913902,219.0775304630422,0.006671086812409914\r\n",
      "700,68.2101733637484,245.96185178005646,0.006671086812409914\r\n",
      "800,75.44285463816246,220.65360526542125,0.006671086812409914\r\n",
      "900,70.87986635691246,254.3796276662193,0.006671086812409914\r\n",
      "1000,81.64898561960777,227.99691601463346,0.006671086812409914\r\n"
     ]
    }
   ],
   "source": [
    "!cat data.csv"
   ]
  },
  {
   "cell_type": "code",
   "execution_count": null,
   "metadata": {},
   "outputs": [],
   "source": []
  }
 ],
 "metadata": {
  "kernelspec": {
   "display_name": "Python 3 (ipykernel)",
   "language": "python",
   "name": "python3"
  },
  "language_info": {
   "codemirror_mode": {
    "name": "ipython",
    "version": 3
   },
   "file_extension": ".py",
   "mimetype": "text/x-python",
   "name": "python",
   "nbconvert_exporter": "python",
   "pygments_lexer": "ipython3",
   "version": "3.11.4"
  },
  "category": "parametrization_evaluation"
 },
 "nbformat": 4,
 "nbformat_minor": 4
}

{
 "cells": [
  {
   "cell_type": "markdown",
   "metadata": {
    "tags": []
   },
   "source": [
    "# Compute conformer energies for a small molecule\n",
    "\n",
    "This notebook illustrates reading conformers of a molecule from an SDF file and computation of vacuum conformer energies using a SMIRNOFF force field.\n",
    "\n",
    "Note that absolute vacuum potential energies can be sensitive to small changes in partial charge, for example due to using OpenEye or AmberTools to generate AM1-BCC charges. However, in our experience, _relative_ conformer energies are fairly consistent between AM1-BCC implementations.\n",
    "\n",
    "Note also that the Open Force Field Toolkit produces deterministic charges that do not depend on the input conformation of parameterized molecules. See the [FAQ](https://open-forcefield-toolkit.readthedocs.io/en/stable/faq.html#the-partial-charges-generated-by-the-toolkit-don-t-seem-to-depend-on-the-molecule-s-conformation-is-this-a-bug) for more information."
   ]
  },
  {
   "cell_type": "code",
   "execution_count": 1,
   "metadata": {
    "tags": []
   },
   "outputs": [
    {
     "data": {
      "application/vnd.jupyter.widget-view+json": {
       "model_id": "e54f9701a9624705aa1446c1b3d97f9c",
       "version_major": 2,
       "version_minor": 0
      },
      "text/plain": []
     },
     "metadata": {},
     "output_type": "display_data"
    }
   ],
   "source": [
    "import openmm\n",
    "from openff.interchange import Interchange\n",
    "from openff.units.openmm import from_openmm\n",
    "from rdkit.Chem import rdMolAlign\n",
    "\n",
    "from openff.toolkit import ForceField, Molecule\n",
    "from openff.toolkit.utils import get_data_file_path"
   ]
  },
  {
   "cell_type": "markdown",
   "metadata": {},
   "source": [
    "First, load conformers from an SDF file. SDF files with multiple molecules are always interpreted as a list of molecules rather than as a single molecule with multiple conformers, so we also need to collapse them all into a single molecule."
   ]
  },
  {
   "cell_type": "code",
   "execution_count": 2,
   "metadata": {},
   "outputs": [
    {
     "name": "stdout",
     "output_type": "stream",
     "text": [
      "Loaded 10 conformers of 'c1nc(c2c(n1)NC=C2)C3=CN(N=C3)[C@H](CC#N)C4CCCC4' (ruxolitinib)\n"
     ]
    },
    {
     "data": {
      "application/vnd.jupyter.widget-view+json": {
       "model_id": "39a587a551ff415ca4eacf2b285b3213",
       "version_major": 2,
       "version_minor": 0
      },
      "text/plain": [
       "NGLWidget(max_frame=9)"
      ]
     },
     "metadata": {},
     "output_type": "display_data"
    }
   ],
   "source": [
    "loaded_molecules = Molecule.from_file(\n",
    "    get_data_file_path(\"molecules/ruxolitinib_conformers.sdf\"),\n",
    ")\n",
    "\n",
    "# Normalize to list\n",
    "try:\n",
    "    loaded_molecules = [*loaded_molecules]\n",
    "except TypeError:\n",
    "    loaded_molecules = [loaded_molecules]\n",
    "\n",
    "# from_file loads each entry in the SDF into its own molecule,\n",
    "# so collapse conformers into the same molecule\n",
    "molecule = loaded_molecules.pop(0)\n",
    "for next_molecule in loaded_molecules:\n",
    "    if next_molecule == molecule:\n",
    "        for conformer in next_molecule.conformers:\n",
    "            molecule.add_conformer(conformer)\n",
    "    else:\n",
    "        # We're assuming the SDF just has multiple conformers of the\n",
    "        # same molecule, so raise an error if that's not the case\n",
    "        raise ValueError(\"Multiple chemical species loaded\")\n",
    "\n",
    "# Make sure the molecule has a name\n",
    "if not molecule.name:\n",
    "    molecule.name = molecule.to_hill_formula()\n",
    "\n",
    "print(\n",
    "    f\"Loaded {molecule.n_conformers} conformers\"\n",
    "    + f\" of {molecule.to_smiles(explicit_hydrogens=False)!r}\"\n",
    "    + f\" ({molecule.name})\"\n",
    ")\n",
    "molecule"
   ]
  },
  {
   "cell_type": "markdown",
   "metadata": {},
   "source": [
    "Next, load the Sage force field. We'll use the version without constraints, as it's more appropriate for energy minimization - see the [FAQ](https://docs.openforcefield.org/projects/toolkit/en/stable/faq.html#what-does-unconstrained-mean-in-a-force-field-name) for more information about constraints."
   ]
  },
  {
   "cell_type": "code",
   "execution_count": 3,
   "metadata": {
    "tags": []
   },
   "outputs": [],
   "source": [
    "# Load the openff-2.1.0 force field appropriate for vacuum calculations (without constraints)\n",
    "forcefield = ForceField(\"openff_unconstrained-2.1.0.offxml\")"
   ]
  },
  {
   "cell_type": "markdown",
   "metadata": {},
   "source": [
    "We'll now apply the Sage force field to the molecule to produce an [`Interchange`], and then an OpenMM [`Simulation`] object. Interchange can produce inputs for a whole host of other MD engines though!\n",
    "\n",
    "[`Interchange`]: https://docs.openforcefield.org/projects/interchange/en/stable/_autosummary/openff.interchange.Interchange.html#openff.interchange.Interchange\n",
    "[`Simulation`]: http://docs.openmm.org/latest/api-python/generated/openmm.app.simulation.Simulation.html#openmm.app.simulation.Simulation"
   ]
  },
  {
   "cell_type": "code",
   "execution_count": 4,
   "metadata": {
    "tags": []
   },
   "outputs": [
    {
     "name": "stdout",
     "output_type": "stream",
     "text": [
      "Parametrizing ruxolitinib (may take a moment to calculate charges)...\n",
      "Done.\n"
     ]
    }
   ],
   "source": [
    "print(f\"Parametrizing {molecule.name} (may take a moment to calculate charges)...\")\n",
    "interchange = Interchange.from_smirnoff(forcefield, [molecule])\n",
    "print(\"Done.\")\n",
    "\n",
    "integrator = openmm.VerletIntegrator(1 * openmm.unit.femtoseconds)\n",
    "simulation = interchange.to_openmm_simulation(integrator)"
   ]
  },
  {
   "cell_type": "markdown",
   "metadata": {},
   "source": [
    "Now we'll perform the actual minimizations, and store the outputs in a few lists and a second molecule:"
   ]
  },
  {
   "cell_type": "code",
   "execution_count": 5,
   "metadata": {
    "tags": []
   },
   "outputs": [],
   "source": [
    "# We'll store energies in two lists\n",
    "initial_energies = []\n",
    "minimized_energies = []\n",
    "\n",
    "# And minimized conformers in a second molecule\n",
    "minimized_molecule = Molecule(molecule)\n",
    "minimized_molecule.conformers.clear()\n",
    "\n",
    "for conformer in molecule.conformers:\n",
    "    # Tell the OpenMM Simulation the positions of this conformer\n",
    "    simulation.context.setPositions(conformer.to_openmm())\n",
    "\n",
    "    # Keep a record of the initial energy\n",
    "    initial_energies.append(\n",
    "        simulation.context.getState(getEnergy=True).getPotentialEnergy()\n",
    "    )\n",
    "\n",
    "    # Perform the minimization\n",
    "    simulation.minimizeEnergy()\n",
    "\n",
    "    # Record minimized energy and positions\n",
    "    min_state = simulation.context.getState(getEnergy=True, getPositions=True)\n",
    "\n",
    "    minimized_energies.append(min_state.getPotentialEnergy())\n",
    "    minimized_molecule.add_conformer(from_openmm(min_state.getPositions()))"
   ]
  },
  {
   "cell_type": "markdown",
   "metadata": {},
   "source": [
    "We can visualize the minimised `Molecule`:"
   ]
  },
  {
   "cell_type": "code",
   "execution_count": 6,
   "metadata": {
    "tags": []
   },
   "outputs": [
    {
     "data": {
      "application/vnd.jupyter.widget-view+json": {
       "model_id": "73fa11c981904ac99ee4ffce0a93f503",
       "version_major": 2,
       "version_minor": 0
      },
      "text/plain": [
       "NGLWidget(max_frame=9)"
      ]
     },
     "metadata": {},
     "output_type": "display_data"
    }
   ],
   "source": [
    "minimized_molecule"
   ]
  },
  {
   "cell_type": "markdown",
   "metadata": {},
   "source": [
    "And we can write the results of the minimisation out to files as a permanent record:"
   ]
  },
  {
   "cell_type": "code",
   "execution_count": 7,
   "metadata": {
    "tags": []
   },
   "outputs": [
    {
     "name": "stdout",
     "output_type": "stream",
     "text": [
      "ruxolitinib: 10 conformers\n",
      "Conformer         Initial PE        Minimized PE        RMSD\n",
      "    1 /    10 :   -62.248 kcal/mol  -95.425 kcal/mol    0.491 Å\n",
      "    2 /    10 :   -55.543 kcal/mol  -92.680 kcal/mol    0.528 Å\n",
      "    3 /    10 :   -17.785 kcal/mol  -92.867 kcal/mol    0.896 Å\n",
      "    4 /    10 :   -53.624 kcal/mol  -94.427 kcal/mol    0.777 Å\n",
      "    5 /    10 :   -54.198 kcal/mol  -92.025 kcal/mol    0.783 Å\n",
      "    6 /    10 :   -56.032 kcal/mol  -94.601 kcal/mol    0.587 Å\n",
      "    7 /    10 :   -53.205 kcal/mol  -92.857 kcal/mol    0.974 Å\n",
      "    8 /    10 :   -63.556 kcal/mol  -94.707 kcal/mol    0.371 Å\n",
      "    9 /    10 :   -60.384 kcal/mol  -95.169 kcal/mol    0.749 Å\n",
      "   10 /    10 :   -55.900 kcal/mol  -95.266 kcal/mol    0.588 Å\n"
     ]
    }
   ],
   "source": [
    "# Get a shortcut to the number of conformers\n",
    "n_confs = molecule.n_conformers\n",
    "print(f\"{molecule.name}: {n_confs} conformers\")\n",
    "\n",
    "# Create a copy of the molecule so we can work on it\n",
    "working_mol = Molecule(molecule)\n",
    "\n",
    "# Print text header\n",
    "print(\"Conformer         Initial PE        Minimized PE        RMSD\")\n",
    "output = [\n",
    "    [\n",
    "        \"Conformer\",\n",
    "        \"Initial PE (kcal/mol)\",\n",
    "        \"Minimized PE (kcal/mol)\",\n",
    "        \"RMSD between initial and minimized conformer (Angstrom)\",\n",
    "    ]\n",
    "]\n",
    "\n",
    "for i, (init_energy, init_coords, min_energy, min_coords) in enumerate(\n",
    "    zip(\n",
    "        initial_energies,\n",
    "        molecule.conformers,\n",
    "        minimized_energies,\n",
    "        minimized_molecule.conformers,\n",
    "    )\n",
    "):\n",
    "    # Clear the conformers from the working molecule\n",
    "    working_mol.conformers.clear()\n",
    "\n",
    "    # Save the minimized conformer to file\n",
    "    working_mol.add_conformer(min_coords)\n",
    "    working_mol.to_file(\n",
    "        f\"{molecule.name}_conf{i+1}_minimized.sdf\",\n",
    "        file_format=\"sdf\",\n",
    "    )\n",
    "\n",
    "    # Calculate the RMSD between the initial and minimized conformer\n",
    "    working_mol.add_conformer(init_coords)\n",
    "    rdmol = working_mol.to_rdkit()\n",
    "    rmslist = []\n",
    "    rdMolAlign.AlignMolConformers(rdmol, RMSlist=rmslist)\n",
    "    minimization_rms = rmslist[0]\n",
    "\n",
    "    # Record the results\n",
    "    output.append(\n",
    "        [\n",
    "            i + 1,\n",
    "            init_energy.value_in_unit(openmm.unit.kilocalories_per_mole),\n",
    "            min_energy.value_in_unit(openmm.unit.kilocalories_per_mole),\n",
    "            minimization_rms,\n",
    "        ]\n",
    "    )\n",
    "    print(\n",
    "        f\"{{:5d}} / {n_confs:5d} :  {{:8.3f}} kcal/mol {{:8.3f}} kcal/mol {{:8.3f}} Å\".format(\n",
    "            *output[-1]\n",
    "        )\n",
    "    )\n",
    "\n",
    "# Write the results out to CSV\n",
    "with open(f\"{molecule.name}.csv\", \"w\") as of:\n",
    "    of.write(\", \".join(output.pop(0)) + \"\\n\")\n",
    "    for line in output:\n",
    "        of.write(\"{}, {:.3f}, {:.3f}, {:.3f}\".format(*line) + \"\\n\")"
   ]
  },
  {
   "cell_type": "code",
   "execution_count": null,
   "metadata": {},
   "outputs": [],
   "source": []
  }
 ],
 "metadata": {
  "category": "parametrization_evaluation",
  "kernelspec": {
   "display_name": "Python 3 (ipykernel)",
   "language": "python",
   "name": "python3"
  },
  "language_info": {
   "codemirror_mode": {
    "name": "ipython",
    "version": 3
   },
   "file_extension": ".py",
   "mimetype": "text/x-python",
   "name": "python",
   "nbconvert_exporter": "python",
   "pygments_lexer": "ipython3",
   "version": "3.9.18"
  },
  "widgets": {
   "application/vnd.jupyter.widget-state+json": {
    "state": {
     "0202394b67604a43b3927f64248c3980": {
      "model_module": "@jupyter-widgets/controls",
      "model_module_version": "2.0.0",
      "model_name": "IntSliderModel",
      "state": {
       "_dom_classes": [],
       "_model_module": "@jupyter-widgets/controls",
       "_model_module_version": "2.0.0",
       "_model_name": "IntSliderModel",
       "_view_count": null,
       "_view_module": "@jupyter-widgets/controls",
       "_view_module_version": "2.0.0",
       "_view_name": "IntSliderView",
       "behavior": "drag-tap",
       "continuous_update": true,
       "description": "",
       "description_allow_html": false,
       "disabled": false,
       "layout": "IPY_MODEL_3152aa15e40041179892f4933b281599",
       "max": 9,
       "min": 0,
       "orientation": "horizontal",
       "readout": true,
       "readout_format": "d",
       "step": 1,
       "style": "IPY_MODEL_e6c7f75b6d3e4f028847f215a92524c3",
       "tabbable": null,
       "tooltip": null,
       "value": 0
      }
     },
     "188845f750064642aa4ca89fa0a3fd17": {
      "model_module": "@jupyter-widgets/controls",
      "model_module_version": "2.0.0",
      "model_name": "LinkModel",
      "state": {
       "_model_module": "@jupyter-widgets/controls",
       "_model_module_version": "2.0.0",
       "_model_name": "LinkModel",
       "_view_count": null,
       "_view_module": "@jupyter-widgets/controls",
       "_view_module_version": "2.0.0",
       "_view_name": null,
       "source": [
        "IPY_MODEL_0202394b67604a43b3927f64248c3980",
        "max"
       ],
       "target": [
        "IPY_MODEL_eb45d583a0de4d09b6b2c13716906a9a",
        "max_frame"
       ]
      }
     },
     "1bc13f01b5da458da2cc24cab0f07863": {
      "model_module": "@jupyter-widgets/controls",
      "model_module_version": "2.0.0",
      "model_name": "ButtonStyleModel",
      "state": {
       "_model_module": "@jupyter-widgets/controls",
       "_model_module_version": "2.0.0",
       "_model_name": "ButtonStyleModel",
       "_view_count": null,
       "_view_module": "@jupyter-widgets/base",
       "_view_module_version": "2.0.0",
       "_view_name": "StyleView",
       "button_color": null,
       "font_family": null,
       "font_size": null,
       "font_style": null,
       "font_variant": null,
       "font_weight": null,
       "text_color": null,
       "text_decoration": null
      }
     },
     "22f0bccf581b451a82b69ca7a934c0e7": {
      "model_module": "@jupyter-widgets/controls",
      "model_module_version": "2.0.0",
      "model_name": "DescriptionStyleModel",
      "state": {
       "_model_module": "@jupyter-widgets/controls",
       "_model_module_version": "2.0.0",
       "_model_name": "DescriptionStyleModel",
       "_view_count": null,
       "_view_module": "@jupyter-widgets/base",
       "_view_module_version": "2.0.0",
       "_view_name": "StyleView",
       "description_width": ""
      }
     },
     "2818336b9b8443bfa5a8e415388e34a8": {
      "model_module": "@jupyter-widgets/controls",
      "model_module_version": "2.0.0",
      "model_name": "LinkModel",
      "state": {
       "_model_module": "@jupyter-widgets/controls",
       "_model_module_version": "2.0.0",
       "_model_name": "LinkModel",
       "_view_count": null,
       "_view_module": "@jupyter-widgets/controls",
       "_view_module_version": "2.0.0",
       "_view_name": null,
       "source": [
        "IPY_MODEL_fd04e7f234f0475d9484d2899f6a81ff",
        "max"
       ],
       "target": [
        "IPY_MODEL_c67d1e3c88bf4c259edaafe5b0e588de",
        "max_frame"
       ]
      }
     },
     "2d42eab953c14a03aed725402532db6a": {
      "model_module": "@jupyter-widgets/controls",
      "model_module_version": "2.0.0",
      "model_name": "HBoxModel",
      "state": {
       "_dom_classes": [],
       "_model_module": "@jupyter-widgets/controls",
       "_model_module_version": "2.0.0",
       "_model_name": "HBoxModel",
       "_view_count": null,
       "_view_module": "@jupyter-widgets/controls",
       "_view_module_version": "2.0.0",
       "_view_name": "HBoxView",
       "box_style": "",
       "children": [
        "IPY_MODEL_fd04e7f234f0475d9484d2899f6a81ff",
        "IPY_MODEL_bcdfdae3bf79432088e3c4da8f1ba165"
       ],
       "layout": "IPY_MODEL_94859f406f4745adba7782f44ea8a671",
       "tabbable": null,
       "tooltip": null
      }
     },
     "30e0df5b07964551871b5ed326b9bcfa": {
      "model_module": "@jupyter-widgets/base",
      "model_module_version": "2.0.0",
      "model_name": "LayoutModel",
      "state": {
       "_model_module": "@jupyter-widgets/base",
       "_model_module_version": "2.0.0",
       "_model_name": "LayoutModel",
       "_view_count": null,
       "_view_module": "@jupyter-widgets/base",
       "_view_module_version": "2.0.0",
       "_view_name": "LayoutView",
       "align_content": null,
       "align_items": null,
       "align_self": null,
       "border_bottom": null,
       "border_left": null,
       "border_right": null,
       "border_top": null,
       "bottom": null,
       "display": null,
       "flex": null,
       "flex_flow": null,
       "grid_area": null,
       "grid_auto_columns": null,
       "grid_auto_flow": null,
       "grid_auto_rows": null,
       "grid_column": null,
       "grid_gap": null,
       "grid_row": null,
       "grid_template_areas": null,
       "grid_template_columns": null,
       "grid_template_rows": null,
       "height": null,
       "justify_content": null,
       "justify_items": null,
       "left": null,
       "margin": null,
       "max_height": null,
       "max_width": null,
       "min_height": null,
       "min_width": null,
       "object_fit": null,
       "object_position": null,
       "order": null,
       "overflow": null,
       "padding": null,
       "right": null,
       "top": null,
       "visibility": null,
       "width": "34px"
      }
     },
     "3152aa15e40041179892f4933b281599": {
      "model_module": "@jupyter-widgets/base",
      "model_module_version": "2.0.0",
      "model_name": "LayoutModel",
      "state": {
       "_model_module": "@jupyter-widgets/base",
       "_model_module_version": "2.0.0",
       "_model_name": "LayoutModel",
       "_view_count": null,
       "_view_module": "@jupyter-widgets/base",
       "_view_module_version": "2.0.0",
       "_view_name": "LayoutView",
       "align_content": null,
       "align_items": null,
       "align_self": null,
       "border_bottom": null,
       "border_left": null,
       "border_right": null,
       "border_top": null,
       "bottom": null,
       "display": null,
       "flex": null,
       "flex_flow": null,
       "grid_area": null,
       "grid_auto_columns": null,
       "grid_auto_flow": null,
       "grid_auto_rows": null,
       "grid_column": null,
       "grid_gap": null,
       "grid_row": null,
       "grid_template_areas": null,
       "grid_template_columns": null,
       "grid_template_rows": null,
       "height": null,
       "justify_content": null,
       "justify_items": null,
       "left": null,
       "margin": null,
       "max_height": null,
       "max_width": null,
       "min_height": null,
       "min_width": null,
       "object_fit": null,
       "object_position": null,
       "order": null,
       "overflow": null,
       "padding": null,
       "right": null,
       "top": null,
       "visibility": null,
       "width": null
      }
     },
     "397cdcd602e5486996d89e5b674c6fc1": {
      "model_module": "@jupyter-widgets/controls",
      "model_module_version": "2.0.0",
      "model_name": "HBoxModel",
      "state": {
       "_dom_classes": [],
       "_model_module": "@jupyter-widgets/controls",
       "_model_module_version": "2.0.0",
       "_model_name": "HBoxModel",
       "_view_count": null,
       "_view_module": "@jupyter-widgets/controls",
       "_view_module_version": "2.0.0",
       "_view_name": "HBoxView",
       "box_style": "",
       "children": [
        "IPY_MODEL_745c385cdfe7480a9a5d02ea1014edd9",
        "IPY_MODEL_0202394b67604a43b3927f64248c3980"
       ],
       "layout": "IPY_MODEL_d4a8b0472ecc4e10ad643ac61a9fe6b2",
       "tabbable": null,
       "tooltip": null
      }
     },
     "40b7b0691b494eb6b8311e5390ec5077": {
      "model_module": "@jupyter-widgets/base",
      "model_module_version": "2.0.0",
      "model_name": "LayoutModel",
      "state": {
       "_model_module": "@jupyter-widgets/base",
       "_model_module_version": "2.0.0",
       "_model_name": "LayoutModel",
       "_view_count": null,
       "_view_module": "@jupyter-widgets/base",
       "_view_module_version": "2.0.0",
       "_view_name": "LayoutView",
       "align_content": null,
       "align_items": null,
       "align_self": null,
       "border_bottom": null,
       "border_left": null,
       "border_right": null,
       "border_top": null,
       "bottom": null,
       "display": null,
       "flex": null,
       "flex_flow": null,
       "grid_area": null,
       "grid_auto_columns": null,
       "grid_auto_flow": null,
       "grid_auto_rows": null,
       "grid_column": null,
       "grid_gap": null,
       "grid_row": null,
       "grid_template_areas": null,
       "grid_template_columns": null,
       "grid_template_rows": null,
       "height": null,
       "justify_content": null,
       "justify_items": null,
       "left": null,
       "margin": null,
       "max_height": null,
       "max_width": null,
       "min_height": null,
       "min_width": null,
       "object_fit": null,
       "object_position": null,
       "order": null,
       "overflow": null,
       "padding": null,
       "right": null,
       "top": null,
       "visibility": null,
       "width": null
      }
     },
     "433cde9f02624257b632f4f61f9fcc2f": {
      "model_module": "@jupyter-widgets/base",
      "model_module_version": "2.0.0",
      "model_name": "LayoutModel",
      "state": {
       "_model_module": "@jupyter-widgets/base",
       "_model_module_version": "2.0.0",
       "_model_name": "LayoutModel",
       "_view_count": null,
       "_view_module": "@jupyter-widgets/base",
       "_view_module_version": "2.0.0",
       "_view_name": "LayoutView",
       "align_content": null,
       "align_items": null,
       "align_self": null,
       "border_bottom": null,
       "border_left": null,
       "border_right": null,
       "border_top": null,
       "bottom": null,
       "display": null,
       "flex": null,
       "flex_flow": null,
       "grid_area": null,
       "grid_auto_columns": null,
       "grid_auto_flow": null,
       "grid_auto_rows": null,
       "grid_column": null,
       "grid_gap": null,
       "grid_row": null,
       "grid_template_areas": null,
       "grid_template_columns": null,
       "grid_template_rows": null,
       "height": null,
       "justify_content": null,
       "justify_items": null,
       "left": null,
       "margin": null,
       "max_height": null,
       "max_width": null,
       "min_height": null,
       "min_width": null,
       "object_fit": null,
       "object_position": null,
       "order": null,
       "overflow": null,
       "padding": null,
       "right": null,
       "top": null,
       "visibility": null,
       "width": "34px"
      }
     },
     "4da0b92a248a4842801757078197d7d7": {
      "model_module": "@jupyter-widgets/controls",
      "model_module_version": "2.0.0",
      "model_name": "ButtonModel",
      "state": {
       "_dom_classes": [],
       "_model_module": "@jupyter-widgets/controls",
       "_model_module_version": "2.0.0",
       "_model_name": "ButtonModel",
       "_view_count": null,
       "_view_module": "@jupyter-widgets/controls",
       "_view_module_version": "2.0.0",
       "_view_name": "ButtonView",
       "button_style": "",
       "description": "",
       "disabled": false,
       "icon": "compress",
       "layout": "IPY_MODEL_30e0df5b07964551871b5ed326b9bcfa",
       "style": "IPY_MODEL_1bc13f01b5da458da2cc24cab0f07863",
       "tabbable": null,
       "tooltip": null
      }
     },
     "5116c91186ac4530b28615497cb07636": {
      "model_module": "@jupyter-widgets/controls",
      "model_module_version": "2.0.0",
      "model_name": "SliderStyleModel",
      "state": {
       "_model_module": "@jupyter-widgets/controls",
       "_model_module_version": "2.0.0",
       "_model_name": "SliderStyleModel",
       "_view_count": null,
       "_view_module": "@jupyter-widgets/base",
       "_view_module_version": "2.0.0",
       "_view_name": "StyleView",
       "description_width": "",
       "handle_color": null
      }
     },
     "51d4391bbb604ce59b3ff72dcb26df81": {
      "model_module": "@jupyter-widgets/base",
      "model_module_version": "2.0.0",
      "model_name": "LayoutModel",
      "state": {
       "_model_module": "@jupyter-widgets/base",
       "_model_module_version": "2.0.0",
       "_model_name": "LayoutModel",
       "_view_count": null,
       "_view_module": "@jupyter-widgets/base",
       "_view_module_version": "2.0.0",
       "_view_name": "LayoutView",
       "align_content": null,
       "align_items": null,
       "align_self": null,
       "border_bottom": null,
       "border_left": null,
       "border_right": null,
       "border_top": null,
       "bottom": null,
       "display": null,
       "flex": null,
       "flex_flow": null,
       "grid_area": null,
       "grid_auto_columns": null,
       "grid_auto_flow": null,
       "grid_auto_rows": null,
       "grid_column": null,
       "grid_gap": null,
       "grid_row": null,
       "grid_template_areas": null,
       "grid_template_columns": null,
       "grid_template_rows": null,
       "height": null,
       "justify_content": null,
       "justify_items": null,
       "left": null,
       "margin": null,
       "max_height": null,
       "max_width": null,
       "min_height": null,
       "min_width": null,
       "object_fit": null,
       "object_position": null,
       "order": null,
       "overflow": null,
       "padding": null,
       "right": null,
       "top": null,
       "visibility": null,
       "width": null
      }
     },
     "531d18195a57478fb242c96707298b15": {
      "model_module": "@jupyter-widgets/base",
      "model_module_version": "2.0.0",
      "model_name": "LayoutModel",
      "state": {
       "_model_module": "@jupyter-widgets/base",
       "_model_module_version": "2.0.0",
       "_model_name": "LayoutModel",
       "_view_count": null,
       "_view_module": "@jupyter-widgets/base",
       "_view_module_version": "2.0.0",
       "_view_name": "LayoutView",
       "align_content": null,
       "align_items": null,
       "align_self": null,
       "border_bottom": null,
       "border_left": null,
       "border_right": null,
       "border_top": null,
       "bottom": null,
       "display": null,
       "flex": null,
       "flex_flow": null,
       "grid_area": null,
       "grid_auto_columns": null,
       "grid_auto_flow": null,
       "grid_auto_rows": null,
       "grid_column": null,
       "grid_gap": null,
       "grid_row": null,
       "grid_template_areas": null,
       "grid_template_columns": null,
       "grid_template_rows": null,
       "height": null,
       "justify_content": null,
       "justify_items": null,
       "left": null,
       "margin": null,
       "max_height": null,
       "max_width": null,
       "min_height": null,
       "min_width": null,
       "object_fit": null,
       "object_position": null,
       "order": null,
       "overflow": null,
       "padding": null,
       "right": null,
       "top": null,
       "visibility": null,
       "width": null
      }
     },
     "5c6cae872aba4c56b5d7c6aba8668c1f": {
      "model_module": "@jupyter-widgets/base",
      "model_module_version": "2.0.0",
      "model_name": "LayoutModel",
      "state": {
       "_model_module": "@jupyter-widgets/base",
       "_model_module_version": "2.0.0",
       "_model_name": "LayoutModel",
       "_view_count": null,
       "_view_module": "@jupyter-widgets/base",
       "_view_module_version": "2.0.0",
       "_view_name": "LayoutView",
       "align_content": null,
       "align_items": null,
       "align_self": null,
       "border_bottom": null,
       "border_left": null,
       "border_right": null,
       "border_top": null,
       "bottom": null,
       "display": null,
       "flex": null,
       "flex_flow": null,
       "grid_area": null,
       "grid_auto_columns": null,
       "grid_auto_flow": null,
       "grid_auto_rows": null,
       "grid_column": null,
       "grid_gap": null,
       "grid_row": null,
       "grid_template_areas": null,
       "grid_template_columns": null,
       "grid_template_rows": null,
       "height": null,
       "justify_content": null,
       "justify_items": null,
       "left": null,
       "margin": null,
       "max_height": null,
       "max_width": null,
       "min_height": null,
       "min_width": null,
       "object_fit": null,
       "object_position": null,
       "order": null,
       "overflow": null,
       "padding": null,
       "right": null,
       "top": null,
       "visibility": null,
       "width": null
      }
     },
     "67a7f6418b1340b1960d978a19796c8d": {
      "model_module": "@jupyter-widgets/controls",
      "model_module_version": "2.0.0",
      "model_name": "LinkModel",
      "state": {
       "_model_module": "@jupyter-widgets/controls",
       "_model_module_version": "2.0.0",
       "_model_name": "LinkModel",
       "_view_count": null,
       "_view_module": "@jupyter-widgets/controls",
       "_view_module_version": "2.0.0",
       "_view_name": null,
       "source": [
        "IPY_MODEL_bcdfdae3bf79432088e3c4da8f1ba165",
        "max"
       ],
       "target": [
        "IPY_MODEL_c67d1e3c88bf4c259edaafe5b0e588de",
        "max_frame"
       ]
      }
     },
     "6a56db6e83f94bfba02b909ce18d283f": {
      "model_module": "@jupyter-widgets/controls",
      "model_module_version": "2.0.0",
      "model_name": "ButtonStyleModel",
      "state": {
       "_model_module": "@jupyter-widgets/controls",
       "_model_module_version": "2.0.0",
       "_model_name": "ButtonStyleModel",
       "_view_count": null,
       "_view_module": "@jupyter-widgets/base",
       "_view_module_version": "2.0.0",
       "_view_name": "StyleView",
       "button_color": null,
       "font_family": null,
       "font_size": null,
       "font_style": null,
       "font_variant": null,
       "font_weight": null,
       "text_color": null,
       "text_decoration": null
      }
     },
     "6ec486b78c0f43bca49bda56f7fec0dc": {
      "model_module": "@jupyter-widgets/controls",
      "model_module_version": "2.0.0",
      "model_name": "LinkModel",
      "state": {
       "_model_module": "@jupyter-widgets/controls",
       "_model_module_version": "2.0.0",
       "_model_name": "LinkModel",
       "_view_count": null,
       "_view_module": "@jupyter-widgets/controls",
       "_view_module_version": "2.0.0",
       "_view_name": null,
       "source": [
        "IPY_MODEL_745c385cdfe7480a9a5d02ea1014edd9",
        "value"
       ],
       "target": [
        "IPY_MODEL_0202394b67604a43b3927f64248c3980",
        "value"
       ]
      }
     },
     "706e11f63d2b463c92ec4daf9dc4492e": {
      "model_module": "@jupyter-widgets/controls",
      "model_module_version": "2.0.0",
      "model_name": "LinkModel",
      "state": {
       "_model_module": "@jupyter-widgets/controls",
       "_model_module_version": "2.0.0",
       "_model_name": "LinkModel",
       "_view_count": null,
       "_view_module": "@jupyter-widgets/controls",
       "_view_module_version": "2.0.0",
       "_view_name": null,
       "source": [
        "IPY_MODEL_fd04e7f234f0475d9484d2899f6a81ff",
        "value"
       ],
       "target": [
        "IPY_MODEL_c67d1e3c88bf4c259edaafe5b0e588de",
        "frame"
       ]
      }
     },
     "745c385cdfe7480a9a5d02ea1014edd9": {
      "model_module": "@jupyter-widgets/controls",
      "model_module_version": "2.0.0",
      "model_name": "PlayModel",
      "state": {
       "_dom_classes": [],
       "_model_module": "@jupyter-widgets/controls",
       "_model_module_version": "2.0.0",
       "_model_name": "PlayModel",
       "_view_count": null,
       "_view_module": "@jupyter-widgets/controls",
       "_view_module_version": "2.0.0",
       "_view_name": "PlayView",
       "description": "",
       "description_allow_html": false,
       "disabled": false,
       "interval": 100,
       "layout": "IPY_MODEL_40b7b0691b494eb6b8311e5390ec5077",
       "max": 9,
       "min": 0,
       "playing": false,
       "repeat": false,
       "show_repeat": true,
       "step": 1,
       "style": "IPY_MODEL_22f0bccf581b451a82b69ca7a934c0e7",
       "tabbable": null,
       "tooltip": null,
       "value": 0
      }
     },
     "84fbfdee381a41cf98bb18aa944b4cdd": {
      "model_module": "@jupyter-widgets/base",
      "model_module_version": "2.0.0",
      "model_name": "LayoutModel",
      "state": {
       "_model_module": "@jupyter-widgets/base",
       "_model_module_version": "2.0.0",
       "_model_name": "LayoutModel",
       "_view_count": null,
       "_view_module": "@jupyter-widgets/base",
       "_view_module_version": "2.0.0",
       "_view_name": "LayoutView",
       "align_content": null,
       "align_items": null,
       "align_self": null,
       "border_bottom": null,
       "border_left": null,
       "border_right": null,
       "border_top": null,
       "bottom": null,
       "display": null,
       "flex": null,
       "flex_flow": null,
       "grid_area": null,
       "grid_auto_columns": null,
       "grid_auto_flow": null,
       "grid_auto_rows": null,
       "grid_column": null,
       "grid_gap": null,
       "grid_row": null,
       "grid_template_areas": null,
       "grid_template_columns": null,
       "grid_template_rows": null,
       "height": null,
       "justify_content": null,
       "justify_items": null,
       "left": null,
       "margin": null,
       "max_height": null,
       "max_width": null,
       "min_height": null,
       "min_width": null,
       "object_fit": null,
       "object_position": null,
       "order": null,
       "overflow": null,
       "padding": null,
       "right": null,
       "top": null,
       "visibility": null,
       "width": null
      }
     },
     "8ddae17a61f24672bf91062f82aeefc3": {
      "model_module": "@jupyter-widgets/controls",
      "model_module_version": "2.0.0",
      "model_name": "LinkModel",
      "state": {
       "_model_module": "@jupyter-widgets/controls",
       "_model_module_version": "2.0.0",
       "_model_name": "LinkModel",
       "_view_count": null,
       "_view_module": "@jupyter-widgets/controls",
       "_view_module_version": "2.0.0",
       "_view_name": null,
       "source": [
        "IPY_MODEL_745c385cdfe7480a9a5d02ea1014edd9",
        "value"
       ],
       "target": [
        "IPY_MODEL_eb45d583a0de4d09b6b2c13716906a9a",
        "frame"
       ]
      }
     },
     "93a4136526574234a3ad46f0ca5546a0": {
      "model_module": "@jupyter-widgets/controls",
      "model_module_version": "2.0.0",
      "model_name": "LinkModel",
      "state": {
       "_model_module": "@jupyter-widgets/controls",
       "_model_module_version": "2.0.0",
       "_model_name": "LinkModel",
       "_view_count": null,
       "_view_module": "@jupyter-widgets/controls",
       "_view_module_version": "2.0.0",
       "_view_name": null,
       "source": [
        "IPY_MODEL_fd04e7f234f0475d9484d2899f6a81ff",
        "value"
       ],
       "target": [
        "IPY_MODEL_bcdfdae3bf79432088e3c4da8f1ba165",
        "value"
       ]
      }
     },
     "94859f406f4745adba7782f44ea8a671": {
      "model_module": "@jupyter-widgets/base",
      "model_module_version": "2.0.0",
      "model_name": "LayoutModel",
      "state": {
       "_model_module": "@jupyter-widgets/base",
       "_model_module_version": "2.0.0",
       "_model_name": "LayoutModel",
       "_view_count": null,
       "_view_module": "@jupyter-widgets/base",
       "_view_module_version": "2.0.0",
       "_view_name": "LayoutView",
       "align_content": null,
       "align_items": null,
       "align_self": null,
       "border_bottom": null,
       "border_left": null,
       "border_right": null,
       "border_top": null,
       "bottom": null,
       "display": null,
       "flex": null,
       "flex_flow": null,
       "grid_area": null,
       "grid_auto_columns": null,
       "grid_auto_flow": null,
       "grid_auto_rows": null,
       "grid_column": null,
       "grid_gap": null,
       "grid_row": null,
       "grid_template_areas": null,
       "grid_template_columns": null,
       "grid_template_rows": null,
       "height": null,
       "justify_content": null,
       "justify_items": null,
       "left": null,
       "margin": null,
       "max_height": null,
       "max_width": null,
       "min_height": null,
       "min_width": null,
       "object_fit": null,
       "object_position": null,
       "order": null,
       "overflow": null,
       "padding": null,
       "right": null,
       "top": null,
       "visibility": null,
       "width": null
      }
     },
     "abd447cb6d594464863b9bb87e666316": {
      "model_module": "@jupyter-widgets/controls",
      "model_module_version": "2.0.0",
      "model_name": "LinkModel",
      "state": {
       "_model_module": "@jupyter-widgets/controls",
       "_model_module_version": "2.0.0",
       "_model_name": "LinkModel",
       "_view_count": null,
       "_view_module": "@jupyter-widgets/controls",
       "_view_module_version": "2.0.0",
       "_view_name": null,
       "source": [
        "IPY_MODEL_745c385cdfe7480a9a5d02ea1014edd9",
        "max"
       ],
       "target": [
        "IPY_MODEL_eb45d583a0de4d09b6b2c13716906a9a",
        "max_frame"
       ]
      }
     },
     "ac1f5d08be42461680d3c940eda9c749": {
      "model_module": "@jupyter-widgets/controls",
      "model_module_version": "2.0.0",
      "model_name": "DescriptionStyleModel",
      "state": {
       "_model_module": "@jupyter-widgets/controls",
       "_model_module_version": "2.0.0",
       "_model_name": "DescriptionStyleModel",
       "_view_count": null,
       "_view_module": "@jupyter-widgets/base",
       "_view_module_version": "2.0.0",
       "_view_name": "StyleView",
       "description_width": ""
      }
     },
     "ad62f23217524b14ad4f730be0e5a6fc": {
      "buffers": [
       {
        "data": "",
        "encoding": "base64",
        "path": [
         "value"
        ]
       }
      ],
      "model_module": "@jupyter-widgets/controls",
      "model_module_version": "2.0.0",
      "model_name": "ImageModel",
      "state": {
       "_dom_classes": [],
       "_model_module": "@jupyter-widgets/controls",
       "_model_module_version": "2.0.0",
       "_model_name": "ImageModel",
       "_view_count": null,
       "_view_module": "@jupyter-widgets/controls",
       "_view_module_version": "2.0.0",
       "_view_name": "ImageView",
       "format": "png",
       "height": "",
       "layout": "IPY_MODEL_84fbfdee381a41cf98bb18aa944b4cdd",
       "tabbable": null,
       "tooltip": null,
       "width": "900.0"
      }
     },
     "b720c1ea7f3e49908b5aa594193d47f2": {
      "model_module": "@jupyter-widgets/base",
      "model_module_version": "2.0.0",
      "model_name": "LayoutModel",
      "state": {
       "_model_module": "@jupyter-widgets/base",
       "_model_module_version": "2.0.0",
       "_model_name": "LayoutModel",
       "_view_count": null,
       "_view_module": "@jupyter-widgets/base",
       "_view_module_version": "2.0.0",
       "_view_name": "LayoutView",
       "align_content": null,
       "align_items": null,
       "align_self": null,
       "border_bottom": null,
       "border_left": null,
       "border_right": null,
       "border_top": null,
       "bottom": null,
       "display": null,
       "flex": null,
       "flex_flow": null,
       "grid_area": null,
       "grid_auto_columns": null,
       "grid_auto_flow": null,
       "grid_auto_rows": null,
       "grid_column": null,
       "grid_gap": null,
       "grid_row": null,
       "grid_template_areas": null,
       "grid_template_columns": null,
       "grid_template_rows": null,
       "height": null,
       "justify_content": null,
       "justify_items": null,
       "left": null,
       "margin": null,
       "max_height": null,
       "max_width": null,
       "min_height": null,
       "min_width": null,
       "object_fit": null,
       "object_position": null,
       "order": null,
       "overflow": null,
       "padding": null,
       "right": null,
       "top": null,
       "visibility": null,
       "width": null
      }
     },
     "b9aa2d69444d444491d7232a4d34a22e": {
      "model_module": "@jupyter-widgets/controls",
      "model_module_version": "2.0.0",
      "model_name": "ButtonModel",
      "state": {
       "_dom_classes": [],
       "_model_module": "@jupyter-widgets/controls",
       "_model_module_version": "2.0.0",
       "_model_name": "ButtonModel",
       "_view_count": null,
       "_view_module": "@jupyter-widgets/controls",
       "_view_module_version": "2.0.0",
       "_view_name": "ButtonView",
       "button_style": "",
       "description": "",
       "disabled": false,
       "icon": "compress",
       "layout": "IPY_MODEL_433cde9f02624257b632f4f61f9fcc2f",
       "style": "IPY_MODEL_6a56db6e83f94bfba02b909ce18d283f",
       "tabbable": null,
       "tooltip": null
      }
     },
     "bcdfdae3bf79432088e3c4da8f1ba165": {
      "model_module": "@jupyter-widgets/controls",
      "model_module_version": "2.0.0",
      "model_name": "IntSliderModel",
      "state": {
       "_dom_classes": [],
       "_model_module": "@jupyter-widgets/controls",
       "_model_module_version": "2.0.0",
       "_model_name": "IntSliderModel",
       "_view_count": null,
       "_view_module": "@jupyter-widgets/controls",
       "_view_module_version": "2.0.0",
       "_view_name": "IntSliderView",
       "behavior": "drag-tap",
       "continuous_update": true,
       "description": "",
       "description_allow_html": false,
       "disabled": false,
       "layout": "IPY_MODEL_be4488bc1753460ba6e543f0ae9a40ba",
       "max": 9,
       "min": 0,
       "orientation": "horizontal",
       "readout": true,
       "readout_format": "d",
       "step": 1,
       "style": "IPY_MODEL_5116c91186ac4530b28615497cb07636",
       "tabbable": null,
       "tooltip": null,
       "value": 0
      }
     },
     "be4488bc1753460ba6e543f0ae9a40ba": {
      "model_module": "@jupyter-widgets/base",
      "model_module_version": "2.0.0",
      "model_name": "LayoutModel",
      "state": {
       "_model_module": "@jupyter-widgets/base",
       "_model_module_version": "2.0.0",
       "_model_name": "LayoutModel",
       "_view_count": null,
       "_view_module": "@jupyter-widgets/base",
       "_view_module_version": "2.0.0",
       "_view_name": "LayoutView",
       "align_content": null,
       "align_items": null,
       "align_self": null,
       "border_bottom": null,
       "border_left": null,
       "border_right": null,
       "border_top": null,
       "bottom": null,
       "display": null,
       "flex": null,
       "flex_flow": null,
       "grid_area": null,
       "grid_auto_columns": null,
       "grid_auto_flow": null,
       "grid_auto_rows": null,
       "grid_column": null,
       "grid_gap": null,
       "grid_row": null,
       "grid_template_areas": null,
       "grid_template_columns": null,
       "grid_template_rows": null,
       "height": null,
       "justify_content": null,
       "justify_items": null,
       "left": null,
       "margin": null,
       "max_height": null,
       "max_width": null,
       "min_height": null,
       "min_width": null,
       "object_fit": null,
       "object_position": null,
       "order": null,
       "overflow": null,
       "padding": null,
       "right": null,
       "top": null,
       "visibility": null,
       "width": null
      }
     },
     "c42efe1dbf7d4305afe77e896b607d35": {
      "model_module": "nglview-js-widgets",
      "model_module_version": "3.0.6",
      "model_name": "ColormakerRegistryModel",
      "state": {
       "_dom_classes": [],
       "_model_module": "nglview-js-widgets",
       "_model_module_version": "3.0.6",
       "_model_name": "ColormakerRegistryModel",
       "_msg_ar": [],
       "_msg_q": [],
       "_ready": false,
       "_view_count": null,
       "_view_module": "nglview-js-widgets",
       "_view_module_version": "3.0.6",
       "_view_name": "ColormakerRegistryView",
       "layout": "IPY_MODEL_531d18195a57478fb242c96707298b15",
       "tabbable": null,
       "tooltip": null
      }
     },
     "c4acad93656048c8925d9ca0d7ee7672": {
      "model_module": "@jupyter-widgets/base",
      "model_module_version": "2.0.0",
      "model_name": "LayoutModel",
      "state": {
       "_model_module": "@jupyter-widgets/base",
       "_model_module_version": "2.0.0",
       "_model_name": "LayoutModel",
       "_view_count": null,
       "_view_module": "@jupyter-widgets/base",
       "_view_module_version": "2.0.0",
       "_view_name": "LayoutView",
       "align_content": null,
       "align_items": null,
       "align_self": null,
       "border_bottom": null,
       "border_left": null,
       "border_right": null,
       "border_top": null,
       "bottom": null,
       "display": null,
       "flex": null,
       "flex_flow": null,
       "grid_area": null,
       "grid_auto_columns": null,
       "grid_auto_flow": null,
       "grid_auto_rows": null,
       "grid_column": null,
       "grid_gap": null,
       "grid_row": null,
       "grid_template_areas": null,
       "grid_template_columns": null,
       "grid_template_rows": null,
       "height": null,
       "justify_content": null,
       "justify_items": null,
       "left": null,
       "margin": null,
       "max_height": null,
       "max_width": null,
       "min_height": null,
       "min_width": null,
       "object_fit": null,
       "object_position": null,
       "order": null,
       "overflow": null,
       "padding": null,
       "right": null,
       "top": null,
       "visibility": null,
       "width": null
      }
     },
     "c67d1e3c88bf4c259edaafe5b0e588de": {
      "model_module": "nglview-js-widgets",
      "model_module_version": "3.0.6",
      "model_name": "NGLModel",
      "state": {
       "_camera_orientation": [],
       "_camera_str": "orthographic",
       "_dom_classes": [],
       "_gui_theme": null,
       "_ibtn_fullscreen": "IPY_MODEL_b9aa2d69444d444491d7232a4d34a22e",
       "_igui": null,
       "_iplayer": "IPY_MODEL_2d42eab953c14a03aed725402532db6a",
       "_model_module": "nglview-js-widgets",
       "_model_module_version": "3.0.6",
       "_model_name": "NGLModel",
       "_ngl_color_dict": {},
       "_ngl_coordinate_resource": {},
       "_ngl_full_stage_parameters": {},
       "_ngl_msg_archive": [
        {
         "args": [
          {
           "binary": false,
           "data": "COMPND    ruxolitinib\nMODEL        1\nHETATM    1  C1  UNL     1      -4.254   0.407   1.825  1.00  0.00           C  \nHETATM    2  C2  UNL     1      -5.048  -0.042   0.603  1.00  0.00           C  \nHETATM    3  C3  UNL     1      -4.096  -0.994  -0.128  1.00  0.00           C  \nHETATM    4  C4  UNL     1      -2.662  -0.517   0.220  1.00  0.00           C  \nHETATM    5  C5  UNL     1      -2.843   0.603   1.276  1.00  0.00           C  \nHETATM    6  C6  UNL     1      -1.828  -0.098  -1.035  1.00  0.00           C  \nHETATM    7  C7  UNL     1      -2.410   1.115  -1.817  1.00  0.00           C  \nHETATM    8  C8  UNL     1      -1.773   1.220  -3.172  1.00  0.00           C  \nHETATM    9  N1  UNL     1      -1.315   1.257  -4.233  1.00  0.00           N  \nHETATM   10  N2  UNL     1      -0.426   0.172  -0.633  1.00  0.00           N  \nHETATM   11  C9  UNL     1       0.575  -0.780  -0.675  1.00  0.00           C  \nHETATM   12  C10 UNL     1       1.690  -0.176  -0.147  1.00  0.00           C  \nHETATM   13  C11 UNL     1       1.268   1.171   0.229  1.00  0.00           C  \nHETATM   14  N3  UNL     1       0.001   1.369  -0.063  1.00  0.00           N  \nHETATM   15  C12 UNL     1       3.003  -0.818   0.028  1.00  0.00           C  \nHETATM   16  C13 UNL     1       4.182  -0.106   0.272  1.00  0.00           C  \nHETATM   17  C14 UNL     1       4.552   1.320   0.365  1.00  0.00           C  \nHETATM   18  C15 UNL     1       5.915   1.359   0.614  1.00  0.00           C  \nHETATM   19  N4  UNL     1       6.375   0.039   0.664  1.00  0.00           N  \nHETATM   20  C16 UNL     1       5.336  -0.832   0.450  1.00  0.00           C  \nHETATM   21  N5  UNL     1       5.357  -2.158   0.383  1.00  0.00           N  \nHETATM   22  C17 UNL     1       4.213  -2.812   0.121  1.00  0.00           C  \nHETATM   23  N6  UNL     1       3.051  -2.159  -0.057  1.00  0.00           N  \nHETATM   24  H1  UNL     1      -4.254  -0.381   2.580  1.00  0.00           H  \nHETATM   25  H2  UNL     1      -4.653   1.325   2.260  1.00  0.00           H  \nHETATM   26  H3  UNL     1      -5.983  -0.532   0.880  1.00  0.00           H  \nHETATM   27  H4  UNL     1      -5.269   0.820  -0.029  1.00  0.00           H  \nHETATM   28  H5  UNL     1      -4.238  -2.008   0.250  1.00  0.00           H  \nHETATM   29  H6  UNL     1      -4.293  -1.007  -1.200  1.00  0.00           H  \nHETATM   30  H7  UNL     1      -2.148  -1.353   0.701  1.00  0.00           H  \nHETATM   31  H8  UNL     1      -2.767   1.591   0.826  1.00  0.00           H  \nHETATM   32  H9  UNL     1      -2.094   0.531   2.066  1.00  0.00           H  \nHETATM   33  H10 UNL     1      -1.822  -0.952  -1.715  1.00  0.00           H  \nHETATM   34  H11 UNL     1      -2.239   2.045  -1.277  1.00  0.00           H  \nHETATM   35  H12 UNL     1      -3.484   1.008  -1.950  1.00  0.00           H  \nHETATM   36  H13 UNL     1       0.508  -1.796  -1.043  1.00  0.00           H  \nHETATM   37  H14 UNL     1       1.890   1.908   0.715  1.00  0.00           H  \nHETATM   38  H15 UNL     1       3.910   2.182   0.239  1.00  0.00           H  \nHETATM   39  H16 UNL     1       6.514   2.255   0.730  1.00  0.00           H  \nHETATM   40  H17 UNL     1       7.329  -0.283   0.821  1.00  0.00           H  \nHETATM   41  H18 UNL     1       4.228  -3.893   0.055  1.00  0.00           H  \nCONECT    1    2    5   24   25\nCONECT    2    3   26   27\nCONECT    3    4   28   29\nCONECT    4    5    6   30\nCONECT    5   31   32\nCONECT    6    7   10   33\nCONECT    7    8   34   35\nCONECT    8    9    9    9\nCONECT   10   11   14\nCONECT   11   12   12   36\nCONECT   12   13   15\nCONECT   13   14   14   37\nCONECT   15   16   16   23\nCONECT   16   17   20\nCONECT   17   18   18   38\nCONECT   18   19   39\nCONECT   19   20   40\nCONECT   20   21   21\nCONECT   21   22\nCONECT   22   23   23   41\nENDMDL\nMODEL        2\nHETATM    1  C1  UNL     1      -3.594   1.726  -0.952  1.00  0.00           C  \nHETATM    2  C2  UNL     1      -3.812   1.806   0.571  1.00  0.00           C  \nHETATM    3  C3  UNL     1      -3.023   0.637   1.166  1.00  0.00           C  \nHETATM    4  C4  UNL     1      -3.055  -0.423   0.058  1.00  0.00           C  \nHETATM    5  C5  UNL     1      -2.834   0.415  -1.213  1.00  0.00           C  \nHETATM    6  C6  UNL     1      -2.071  -1.618   0.278  1.00  0.00           C  \nHETATM    7  C7  UNL     1      -2.157  -2.622  -0.900  1.00  0.00           C  \nHETATM    8  C8  UNL     1      -1.411  -3.890  -0.597  1.00  0.00           C  \nHETATM    9  N1  UNL     1      -0.875  -4.894  -0.392  1.00  0.00           N  \nHETATM   10  N2  UNL     1      -0.670  -1.190   0.544  1.00  0.00           N  \nHETATM   11  C9  UNL     1       0.256  -0.820  -0.416  1.00  0.00           C  \nHETATM   12  C10 UNL     1       1.380  -0.430   0.267  1.00  0.00           C  \nHETATM   13  C11 UNL     1       1.061  -0.621   1.680  1.00  0.00           C  \nHETATM   14  N3  UNL     1      -0.169  -1.063   1.834  1.00  0.00           N  \nHETATM   15  C12 UNL     1       2.622   0.047  -0.367  1.00  0.00           C  \nHETATM   16  C13 UNL     1       3.687   0.625   0.337  1.00  0.00           C  \nHETATM   17  C14 UNL     1       3.958   0.980   1.744  1.00  0.00           C  \nHETATM   18  C15 UNL     1       5.223   1.547   1.774  1.00  0.00           C  \nHETATM   19  N4  UNL     1       5.715   1.555   0.466  1.00  0.00           N  \nHETATM   20  C16 UNL     1       4.791   1.010  -0.390  1.00  0.00           C  \nHETATM   21  N5  UNL     1       4.863   0.861  -1.706  1.00  0.00           N  \nHETATM   22  C17 UNL     1       3.820   0.320  -2.355  1.00  0.00           C  \nHETATM   23  N6  UNL     1       2.711  -0.076  -1.705  1.00  0.00           N  \nHETATM   24  H1  UNL     1      -3.015   2.579  -1.311  1.00  0.00           H  \nHETATM   25  H2  UNL     1      -4.557   1.719  -1.464  1.00  0.00           H  \nHETATM   26  H3  UNL     1      -3.475   2.761   0.978  1.00  0.00           H  \nHETATM   27  H4  UNL     1      -4.873   1.685   0.794  1.00  0.00           H  \nHETATM   28  H5  UNL     1      -1.999   0.957   1.367  1.00  0.00           H  \nHETATM   29  H6  UNL     1      -3.472   0.275   2.093  1.00  0.00           H  \nHETATM   30  H7  UNL     1      -4.070  -0.825   0.018  1.00  0.00           H  \nHETATM   31  H8  UNL     1      -1.777   0.640  -1.347  1.00  0.00           H  \nHETATM   32  H9  UNL     1      -3.208  -0.089  -2.105  1.00  0.00           H  \nHETATM   33  H10 UNL     1      -2.411  -2.144   1.173  1.00  0.00           H  \nHETATM   34  H11 UNL     1      -1.760  -2.182  -1.813  1.00  0.00           H  \nHETATM   35  H12 UNL     1      -3.199  -2.875  -1.089  1.00  0.00           H  \nHETATM   36  H13 UNL     1       0.138  -0.825  -1.492  1.00  0.00           H  \nHETATM   37  H14 UNL     1       1.732  -0.445   2.507  1.00  0.00           H  \nHETATM   38  H15 UNL     1       3.311   0.853   2.601  1.00  0.00           H  \nHETATM   39  H16 UNL     1       5.730   1.923   2.655  1.00  0.00           H  \nHETATM   40  H17 UNL     1       6.614   1.907   0.139  1.00  0.00           H  \nHETATM   41  H18 UNL     1       3.873   0.203  -3.430  1.00  0.00           H  \nCONECT    1    2    5   24   25\nCONECT    2    3   26   27\nCONECT    3    4   28   29\nCONECT    4    5    6   30\nCONECT    5   31   32\nCONECT    6    7   10   33\nCONECT    7    8   34   35\nCONECT    8    9    9    9\nCONECT   10   11   14\nCONECT   11   12   12   36\nCONECT   12   13   15\nCONECT   13   14   14   37\nCONECT   15   16   16   23\nCONECT   16   17   20\nCONECT   17   18   18   38\nCONECT   18   19   39\nCONECT   19   20   40\nCONECT   20   21   21\nCONECT   21   22\nCONECT   22   23   23   41\nENDMDL\nMODEL        3\nHETATM    1  C1  UNL     1      -3.768   1.274   1.805  1.00  0.00           C  \nHETATM    2  C2  UNL     1      -3.871   1.727   0.336  1.00  0.00           C  \nHETATM    3  C3  UNL     1      -3.062   0.713  -0.484  1.00  0.00           C  \nHETATM    4  C4  UNL     1      -3.047  -0.551   0.391  1.00  0.00           C  \nHETATM    5  C5  UNL     1      -2.877   0.026   1.803  1.00  0.00           C  \nHETATM    6  C6  UNL     1      -1.996  -1.647   0.012  1.00  0.00           C  \nHETATM    7  C7  UNL     1      -2.221  -2.146  -1.438  1.00  0.00           C  \nHETATM    8  C8  UNL     1      -1.383  -3.356  -1.739  1.00  0.00           C  \nHETATM    9  N1  UNL     1      -0.775  -4.302  -2.008  1.00  0.00           N  \nHETATM   10  N2  UNL     1      -0.588  -1.222   0.238  1.00  0.00           N  \nHETATM   11  C9  UNL     1       0.151  -0.408  -0.603  1.00  0.00           C  \nHETATM   12  C10 UNL     1       1.368  -0.240   0.007  1.00  0.00           C  \nHETATM   13  C11 UNL     1       1.286  -0.985   1.260  1.00  0.00           C  \nHETATM   14  N3  UNL     1       0.113  -1.566   1.389  1.00  0.00           N  \nHETATM   15  C12 UNL     1       2.470   0.579  -0.519  1.00  0.00           C  \nHETATM   16  C13 UNL     1       3.786   0.491  -0.053  1.00  0.00           C  \nHETATM   17  C14 UNL     1       4.502  -0.353   0.923  1.00  0.00           C  \nHETATM   18  C15 UNL     1       5.826   0.059   0.904  1.00  0.00           C  \nHETATM   19  N4  UNL     1       5.936   1.091  -0.033  1.00  0.00           N  \nHETATM   20  C16 UNL     1       4.714   1.339  -0.609  1.00  0.00           C  \nHETATM   21  N5  UNL     1       4.398   2.210  -1.560  1.00  0.00           N  \nHETATM   22  C17 UNL     1       3.131   2.255  -2.003  1.00  0.00           C  \nHETATM   23  N6  UNL     1       2.177   1.452  -1.500  1.00  0.00           N  \nHETATM   24  H1  UNL     1      -3.344   2.055   2.437  1.00  0.00           H  \nHETATM   25  H2  UNL     1      -4.761   1.022   2.180  1.00  0.00           H  \nHETATM   26  H3  UNL     1      -3.477   2.736   0.203  1.00  0.00           H  \nHETATM   27  H4  UNL     1      -4.915   1.717   0.022  1.00  0.00           H  \nHETATM   28  H5  UNL     1      -2.053   1.096  -0.627  1.00  0.00           H  \nHETATM   29  H6  UNL     1      -3.519   0.535  -1.458  1.00  0.00           H  \nHETATM   30  H7  UNL     1      -4.039  -1.005   0.337  1.00  0.00           H  \nHETATM   31  H8  UNL     1      -1.842   0.323   1.977  1.00  0.00           H  \nHETATM   32  H9  UNL     1      -3.176  -0.685   2.574  1.00  0.00           H  \nHETATM   33  H10 UNL     1      -2.175  -2.497   0.674  1.00  0.00           H  \nHETATM   34  H11 UNL     1      -1.987  -1.363  -2.157  1.00  0.00           H  \nHETATM   35  H12 UNL     1      -3.269  -2.412  -1.575  1.00  0.00           H  \nHETATM   36  H13 UNL     1      -0.149   0.025  -1.549  1.00  0.00           H  \nHETATM   37  H14 UNL     1       2.062  -1.036   2.009  1.00  0.00           H  \nHETATM   38  H15 UNL     1       4.101  -1.158   1.525  1.00  0.00           H  \nHETATM   39  H16 UNL     1       6.630  -0.360   1.499  1.00  0.00           H  \nHETATM   40  H17 UNL     1       6.774   1.608  -0.297  1.00  0.00           H  \nHETATM   41  H18 UNL     1       2.870   2.959  -2.783  1.00  0.00           H  \nCONECT    1    2    5   24   25\nCONECT    2    3   26   27\nCONECT    3    4   28   29\nCONECT    4    5    6   30\nCONECT    5   31   32\nCONECT    6    7   10   33\nCONECT    7    8   34   35\nCONECT    8    9    9    9\nCONECT   10   11   14\nCONECT   11   12   12   36\nCONECT   12   13   15\nCONECT   13   14   14   37\nCONECT   15   16   16   23\nCONECT   16   17   20\nCONECT   17   18   18   38\nCONECT   18   19   39\nCONECT   19   20   40\nCONECT   20   21   21\nCONECT   21   22\nCONECT   22   23   23   41\nENDMDL\nMODEL        4\nHETATM    1  C1  UNL     1      -4.377   0.971   1.141  1.00  0.00           C  \nHETATM    2  C2  UNL     1      -4.025   1.600  -0.214  1.00  0.00           C  \nHETATM    3  C3  UNL     1      -2.733   0.907  -0.686  1.00  0.00           C  \nHETATM    4  C4  UNL     1      -2.345  -0.081   0.437  1.00  0.00           C  \nHETATM    5  C5  UNL     1      -3.687  -0.390   1.118  1.00  0.00           C  \nHETATM    6  C6  UNL     1      -1.505  -1.326  -0.019  1.00  0.00           C  \nHETATM    7  C7  UNL     1      -2.241  -2.342  -0.943  1.00  0.00           C  \nHETATM    8  C8  UNL     1      -3.041  -3.334  -0.150  1.00  0.00           C  \nHETATM    9  N1  UNL     1      -3.641  -4.074   0.507  1.00  0.00           N  \nHETATM   10  N2  UNL     1      -0.280  -0.847  -0.704  1.00  0.00           N  \nHETATM   11  C9  UNL     1       0.870  -0.471  -0.035  1.00  0.00           C  \nHETATM   12  C10 UNL     1       1.719   0.017  -1.000  1.00  0.00           C  \nHETATM   13  C11 UNL     1       0.985  -0.078  -2.259  1.00  0.00           C  \nHETATM   14  N3  UNL     1      -0.210  -0.599  -2.072  1.00  0.00           N  \nHETATM   15  C12 UNL     1       3.071   0.587  -0.897  1.00  0.00           C  \nHETATM   16  C13 UNL     1       3.881   0.438   0.235  1.00  0.00           C  \nHETATM   17  C14 UNL     1       3.770  -0.279   1.520  1.00  0.00           C  \nHETATM   18  C15 UNL     1       4.945  -0.030   2.213  1.00  0.00           C  \nHETATM   19  N4  UNL     1       5.747   0.786   1.408  1.00  0.00           N  \nHETATM   20  C16 UNL     1       5.109   1.055   0.222  1.00  0.00           C  \nHETATM   21  N5  UNL     1       5.536   1.762  -0.816  1.00  0.00           N  \nHETATM   22  C17 UNL     1       4.745   1.871  -1.896  1.00  0.00           C  \nHETATM   23  N6  UNL     1       3.531   1.292  -1.944  1.00  0.00           N  \nHETATM   24  H1  UNL     1      -3.966   1.579   1.948  1.00  0.00           H  \nHETATM   25  H2  UNL     1      -5.456   0.879   1.279  1.00  0.00           H  \nHETATM   26  H3  UNL     1      -3.890   2.678  -0.119  1.00  0.00           H  \nHETATM   27  H4  UNL     1      -4.824   1.411  -0.932  1.00  0.00           H  \nHETATM   28  H5  UNL     1      -1.937   1.635  -0.849  1.00  0.00           H  \nHETATM   29  H6  UNL     1      -2.917   0.391  -1.627  1.00  0.00           H  \nHETATM   30  H7  UNL     1      -1.742   0.475   1.158  1.00  0.00           H  \nHETATM   31  H8  UNL     1      -3.556  -0.795   2.122  1.00  0.00           H  \nHETATM   32  H9  UNL     1      -4.286  -1.077   0.522  1.00  0.00           H  \nHETATM   33  H10 UNL     1      -1.183  -1.867   0.873  1.00  0.00           H  \nHETATM   34  H11 UNL     1      -2.884  -1.830  -1.655  1.00  0.00           H  \nHETATM   35  H12 UNL     1      -1.509  -2.902  -1.526  1.00  0.00           H  \nHETATM   36  H13 UNL     1       1.036  -0.519   1.031  1.00  0.00           H  \nHETATM   37  H14 UNL     1       1.370   0.237  -3.221  1.00  0.00           H  \nHETATM   38  H15 UNL     1       2.956  -0.904   1.863  1.00  0.00           H  \nHETATM   39  H16 UNL     1       5.198  -0.413   3.195  1.00  0.00           H  \nHETATM   40  H17 UNL     1       6.677   1.147   1.615  1.00  0.00           H  \nHETATM   41  H18 UNL     1       5.091   2.443  -2.748  1.00  0.00           H  \nCONECT    1    2    5   24   25\nCONECT    2    3   26   27\nCONECT    3    4   28   29\nCONECT    4    5    6   30\nCONECT    5   31   32\nCONECT    6    7   10   33\nCONECT    7    8   34   35\nCONECT    8    9    9    9\nCONECT   10   11   14\nCONECT   11   12   12   36\nCONECT   12   13   15\nCONECT   13   14   14   37\nCONECT   15   16   16   23\nCONECT   16   17   20\nCONECT   17   18   18   38\nCONECT   18   19   39\nCONECT   19   20   40\nCONECT   20   21   21\nCONECT   21   22\nCONECT   22   23   23   41\nENDMDL\nMODEL        5\nHETATM    1  C1  UNL     1      -4.966   0.546   0.984  1.00  0.00           C  \nHETATM    2  C2  UNL     1      -3.989   1.664   1.387  1.00  0.00           C  \nHETATM    3  C3  UNL     1      -2.589   1.183   0.977  1.00  0.00           C  \nHETATM    4  C4  UNL     1      -2.829   0.024  -0.002  1.00  0.00           C  \nHETATM    5  C5  UNL     1      -4.093  -0.638   0.561  1.00  0.00           C  \nHETATM    6  C6  UNL     1      -1.606  -0.938  -0.105  1.00  0.00           C  \nHETATM    7  C7  UNL     1      -1.884  -2.200  -0.968  1.00  0.00           C  \nHETATM    8  C8  UNL     1      -2.431  -1.896  -2.336  1.00  0.00           C  \nHETATM    9  N1  UNL     1      -2.898  -1.718  -3.379  1.00  0.00           N  \nHETATM   10  N2  UNL     1      -0.411  -0.222  -0.614  1.00  0.00           N  \nHETATM   11  C9  UNL     1       0.846  -0.337  -0.048  1.00  0.00           C  \nHETATM   12  C10 UNL     1       1.689   0.392  -0.854  1.00  0.00           C  \nHETATM   13  C11 UNL     1       0.841   0.940  -1.912  1.00  0.00           C  \nHETATM   14  N3  UNL     1      -0.410   0.562  -1.760  1.00  0.00           N  \nHETATM   15  C12 UNL     1       3.138   0.658  -0.774  1.00  0.00           C  \nHETATM   16  C13 UNL     1       3.990   0.047   0.157  1.00  0.00           C  \nHETATM   17  C14 UNL     1       3.843  -0.956   1.231  1.00  0.00           C  \nHETATM   18  C15 UNL     1       5.101  -1.128   1.789  1.00  0.00           C  \nHETATM   19  N4  UNL     1       5.986  -0.292   1.104  1.00  0.00           N  \nHETATM   20  C16 UNL     1       5.318   0.405   0.128  1.00  0.00           C  \nHETATM   21  N5  UNL     1       5.799   1.283  -0.742  1.00  0.00           N  \nHETATM   22  C17 UNL     1       4.961   1.841  -1.630  1.00  0.00           C  \nHETATM   23  N6  UNL     1       3.651   1.538  -1.650  1.00  0.00           N  \nHETATM   24  H1  UNL     1      -5.635   0.277   1.803  1.00  0.00           H  \nHETATM   25  H2  UNL     1      -5.567   0.878   0.136  1.00  0.00           H  \nHETATM   26  H3  UNL     1      -4.028   1.851   2.461  1.00  0.00           H  \nHETATM   27  H4  UNL     1      -4.245   2.587   0.864  1.00  0.00           H  \nHETATM   28  H5  UNL     1      -2.012   1.985   0.513  1.00  0.00           H  \nHETATM   29  H6  UNL     1      -2.052   0.829   1.859  1.00  0.00           H  \nHETATM   30  H7  UNL     1      -3.060   0.444  -0.984  1.00  0.00           H  \nHETATM   31  H8  UNL     1      -4.598  -1.257  -0.182  1.00  0.00           H  \nHETATM   32  H9  UNL     1      -3.846  -1.247   1.432  1.00  0.00           H  \nHETATM   33  H10 UNL     1      -1.377  -1.281   0.904  1.00  0.00           H  \nHETATM   34  H11 UNL     1      -0.962  -2.769  -1.083  1.00  0.00           H  \nHETATM   35  H12 UNL     1      -2.592  -2.846  -0.452  1.00  0.00           H  \nHETATM   36  H13 UNL     1       1.092  -0.880   0.850  1.00  0.00           H  \nHETATM   37  H14 UNL     1       1.192   1.570  -2.719  1.00  0.00           H  \nHETATM   38  H15 UNL     1       2.949  -1.479   1.537  1.00  0.00           H  \nHETATM   39  H16 UNL     1       5.350  -1.797   2.605  1.00  0.00           H  \nHETATM   40  H17 UNL     1       6.987  -0.179   1.259  1.00  0.00           H  \nHETATM   41  H18 UNL     1       5.349   2.553  -2.347  1.00  0.00           H  \nCONECT    1    2    5   24   25\nCONECT    2    3   26   27\nCONECT    3    4   28   29\nCONECT    4    5    6   30\nCONECT    5   31   32\nCONECT    6    7   10   33\nCONECT    7    8   34   35\nCONECT    8    9    9    9\nCONECT   10   11   14\nCONECT   11   12   12   36\nCONECT   12   13   15\nCONECT   13   14   14   37\nCONECT   15   16   16   23\nCONECT   16   17   20\nCONECT   17   18   18   38\nCONECT   18   19   39\nCONECT   19   20   40\nCONECT   20   21   21\nCONECT   21   22\nCONECT   22   23   23   41\nENDMDL\nMODEL        6\nHETATM    1  C1  UNL     1      -3.788  -2.201   0.027  1.00  0.00           C  \nHETATM    2  C2  UNL     1      -4.805  -1.282   0.725  1.00  0.00           C  \nHETATM    3  C3  UNL     1      -4.189   0.126   0.723  1.00  0.00           C  \nHETATM    4  C4  UNL     1      -2.694  -0.084   0.435  1.00  0.00           C  \nHETATM    5  C5  UNL     1      -2.708  -1.274  -0.535  1.00  0.00           C  \nHETATM    6  C6  UNL     1      -1.982   1.165  -0.164  1.00  0.00           C  \nHETATM    7  C7  UNL     1      -2.047   2.382   0.795  1.00  0.00           C  \nHETATM    8  C8  UNL     1      -1.445   3.607   0.168  1.00  0.00           C  \nHETATM    9  N1  UNL     1      -1.016   4.582  -0.283  1.00  0.00           N  \nHETATM   10  N2  UNL     1      -0.578   0.829  -0.503  1.00  0.00           N  \nHETATM   11  C9  UNL     1       0.402   0.510   0.419  1.00  0.00           C  \nHETATM   12  C10 UNL     1       1.529   0.224  -0.312  1.00  0.00           C  \nHETATM   13  C11 UNL     1       1.134   0.374  -1.711  1.00  0.00           C  \nHETATM   14  N3  UNL     1      -0.128   0.732  -1.813  1.00  0.00           N  \nHETATM   15  C12 UNL     1       2.822  -0.189   0.258  1.00  0.00           C  \nHETATM   16  C13 UNL     1       4.012  -0.249  -0.477  1.00  0.00           C  \nHETATM   17  C14 UNL     1       4.418   0.080  -1.858  1.00  0.00           C  \nHETATM   18  C15 UNL     1       5.771  -0.206  -1.952  1.00  0.00           C  \nHETATM   19  N4  UNL     1       6.193  -0.677  -0.704  1.00  0.00           N  \nHETATM   20  C16 UNL     1       5.139  -0.691   0.176  1.00  0.00           C  \nHETATM   21  N5  UNL     1       5.126  -1.039   1.457  1.00  0.00           N  \nHETATM   22  C17 UNL     1       3.976  -0.947   2.142  1.00  0.00           C  \nHETATM   23  N6  UNL     1       2.837  -0.530   1.560  1.00  0.00           N  \nHETATM   24  H1  UNL     1      -4.253  -2.792  -0.763  1.00  0.00           H  \nHETATM   25  H2  UNL     1      -3.345  -2.878   0.759  1.00  0.00           H  \nHETATM   26  H3  UNL     1      -5.759  -1.282   0.197  1.00  0.00           H  \nHETATM   27  H4  UNL     1      -4.973  -1.625   1.747  1.00  0.00           H  \nHETATM   28  H5  UNL     1      -4.353   0.628   1.678  1.00  0.00           H  \nHETATM   29  H6  UNL     1      -4.643   0.719  -0.073  1.00  0.00           H  \nHETATM   30  H7  UNL     1      -2.197  -0.391   1.357  1.00  0.00           H  \nHETATM   31  H8  UNL     1      -1.739  -1.772  -0.587  1.00  0.00           H  \nHETATM   32  H9  UNL     1      -2.990  -0.941  -1.536  1.00  0.00           H  \nHETATM   33  H10 UNL     1      -2.492   1.438  -1.090  1.00  0.00           H  \nHETATM   34  H11 UNL     1      -1.523   2.162   1.724  1.00  0.00           H  \nHETATM   35  H12 UNL     1      -3.082   2.606   1.046  1.00  0.00           H  \nHETATM   36  H13 UNL     1       0.316   0.477   1.497  1.00  0.00           H  \nHETATM   37  H14 UNL     1       1.767   0.188  -2.566  1.00  0.00           H  \nHETATM   38  H15 UNL     1       3.808   0.489  -2.652  1.00  0.00           H  \nHETATM   39  H16 UNL     1       6.389  -0.074  -2.832  1.00  0.00           H  \nHETATM   40  H17 UNL     1       7.130  -0.970  -0.432  1.00  0.00           H  \nHETATM   41  H18 UNL     1       3.962  -1.222   3.189  1.00  0.00           H  \nCONECT    1    2    5   24   25\nCONECT    2    3   26   27\nCONECT    3    4   28   29\nCONECT    4    5    6   30\nCONECT    5   31   32\nCONECT    6    7   10   33\nCONECT    7    8   34   35\nCONECT    8    9    9    9\nCONECT   10   11   14\nCONECT   11   12   12   36\nCONECT   12   13   15\nCONECT   13   14   14   37\nCONECT   15   16   16   23\nCONECT   16   17   20\nCONECT   17   18   18   38\nCONECT   18   19   39\nCONECT   19   20   40\nCONECT   20   21   21\nCONECT   21   22\nCONECT   22   23   23   41\nENDMDL\nMODEL        7\nHETATM    1  C1  UNL     1      -4.578  -0.761  -1.139  1.00  0.00           C  \nHETATM    2  C2  UNL     1      -3.318  -1.524  -1.591  1.00  0.00           C  \nHETATM    3  C3  UNL     1      -2.133  -0.854  -0.880  1.00  0.00           C  \nHETATM    4  C4  UNL     1      -2.638   0.563  -0.552  1.00  0.00           C  \nHETATM    5  C5  UNL     1      -4.095   0.299  -0.142  1.00  0.00           C  \nHETATM    6  C6  UNL     1      -1.819   1.430   0.472  1.00  0.00           C  \nHETATM    7  C7  UNL     1      -1.899   1.049   1.985  1.00  0.00           C  \nHETATM    8  C8  UNL     1      -1.331  -0.294   2.341  1.00  0.00           C  \nHETATM    9  N1  UNL     1      -0.847  -1.316   2.585  1.00  0.00           N  \nHETATM   10  N2  UNL     1      -0.413   1.624   0.033  1.00  0.00           N  \nHETATM   11  C9  UNL     1       0.568   0.646   0.011  1.00  0.00           C  \nHETATM   12  C10 UNL     1       1.709   1.269  -0.428  1.00  0.00           C  \nHETATM   13  C11 UNL     1       1.329   2.652  -0.692  1.00  0.00           C  \nHETATM   14  N3  UNL     1       0.060   2.856  -0.402  1.00  0.00           N  \nHETATM   15  C12 UNL     1       3.054   0.724  -0.651  1.00  0.00           C  \nHETATM   16  C13 UNL     1       3.493  -0.470  -0.067  1.00  0.00           C  \nHETATM   17  C14 UNL     1       2.928  -1.436   0.895  1.00  0.00           C  \nHETATM   18  C15 UNL     1       3.895  -2.411   1.085  1.00  0.00           C  \nHETATM   19  N4  UNL     1       5.001  -2.072   0.298  1.00  0.00           N  \nHETATM   20  C16 UNL     1       4.759  -0.904  -0.382  1.00  0.00           C  \nHETATM   21  N5  UNL     1       5.556  -0.226  -1.199  1.00  0.00           N  \nHETATM   22  C17 UNL     1       5.114   0.929  -1.727  1.00  0.00           C  \nHETATM   23  N6  UNL     1       3.885   1.405  -1.457  1.00  0.00           N  \nHETATM   24  H1  UNL     1      -5.306  -1.430  -0.678  1.00  0.00           H  \nHETATM   25  H2  UNL     1      -5.042  -0.278  -2.000  1.00  0.00           H  \nHETATM   26  H3  UNL     1      -3.204  -1.436  -2.673  1.00  0.00           H  \nHETATM   27  H4  UNL     1      -3.377  -2.582  -1.332  1.00  0.00           H  \nHETATM   28  H5  UNL     1      -1.903  -1.412   0.024  1.00  0.00           H  \nHETATM   29  H6  UNL     1      -1.253  -0.835  -1.524  1.00  0.00           H  \nHETATM   30  H7  UNL     1      -2.657   1.119  -1.492  1.00  0.00           H  \nHETATM   31  H8  UNL     1      -4.145  -0.115   0.865  1.00  0.00           H  \nHETATM   32  H9  UNL     1      -4.704   1.203  -0.191  1.00  0.00           H  \nHETATM   33  H10 UNL     1      -2.273   2.421   0.417  1.00  0.00           H  \nHETATM   34  H11 UNL     1      -2.931   1.099   2.327  1.00  0.00           H  \nHETATM   35  H12 UNL     1      -1.358   1.804   2.556  1.00  0.00           H  \nHETATM   36  H13 UNL     1       0.448  -0.397   0.265  1.00  0.00           H  \nHETATM   37  H14 UNL     1       2.002   3.414  -1.065  1.00  0.00           H  \nHETATM   38  H15 UNL     1       1.966  -1.397   1.390  1.00  0.00           H  \nHETATM   39  H16 UNL     1       3.809  -3.269   1.742  1.00  0.00           H  \nHETATM   40  H17 UNL     1       5.884  -2.574   0.214  1.00  0.00           H  \nHETATM   41  H18 UNL     1       5.764   1.489  -2.387  1.00  0.00           H  \nCONECT    1    2    5   24   25\nCONECT    2    3   26   27\nCONECT    3    4   28   29\nCONECT    4    5    6   30\nCONECT    5   31   32\nCONECT    6    7   10   33\nCONECT    7    8   34   35\nCONECT    8    9    9    9\nCONECT   10   11   14\nCONECT   11   12   12   36\nCONECT   12   13   15\nCONECT   13   14   14   37\nCONECT   15   16   16   23\nCONECT   16   17   20\nCONECT   17   18   18   38\nCONECT   18   19   39\nCONECT   19   20   40\nCONECT   20   21   21\nCONECT   21   22\nCONECT   22   23   23   41\nENDMDL\nMODEL        8\nHETATM    1  C1  UNL     1      -4.316   0.568   1.513  1.00  0.00           C  \nHETATM    2  C2  UNL     1      -4.462  -0.963   1.604  1.00  0.00           C  \nHETATM    3  C3  UNL     1      -3.535  -1.543   0.528  1.00  0.00           C  \nHETATM    4  C4  UNL     1      -2.454  -0.468   0.352  1.00  0.00           C  \nHETATM    5  C5  UNL     1      -3.263   0.836   0.429  1.00  0.00           C  \nHETATM    6  C6  UNL     1      -1.568  -0.647  -0.923  1.00  0.00           C  \nHETATM    7  C7  UNL     1      -2.310  -0.418  -2.269  1.00  0.00           C  \nHETATM    8  C8  UNL     1      -1.482  -0.923  -3.415  1.00  0.00           C  \nHETATM    9  N1  UNL     1      -0.856  -1.371  -4.278  1.00  0.00           N  \nHETATM   10  N2  UNL     1      -0.391   0.252  -0.831  1.00  0.00           N  \nHETATM   11  C9  UNL     1       0.845  -0.155  -0.365  1.00  0.00           C  \nHETATM   12  C10 UNL     1       1.620   0.979  -0.327  1.00  0.00           C  \nHETATM   13  C11 UNL     1       0.758   2.065  -0.784  1.00  0.00           C  \nHETATM   14  N3  UNL     1      -0.444   1.619  -1.084  1.00  0.00           N  \nHETATM   15  C12 UNL     1       3.008   1.174   0.118  1.00  0.00           C  \nHETATM   16  C13 UNL     1       3.916   0.120   0.266  1.00  0.00           C  \nHETATM   17  C14 UNL     1       3.896  -1.329  -0.009  1.00  0.00           C  \nHETATM   18  C15 UNL     1       5.141  -1.817   0.357  1.00  0.00           C  \nHETATM   19  N4  UNL     1       5.900  -0.738   0.822  1.00  0.00           N  \nHETATM   20  C16 UNL     1       5.165   0.421   0.754  1.00  0.00           C  \nHETATM   21  N5  UNL     1       5.524   1.660   1.064  1.00  0.00           N  \nHETATM   22  C17 UNL     1       4.641   2.656   0.882  1.00  0.00           C  \nHETATM   23  N6  UNL     1       3.400   2.424   0.417  1.00  0.00           N  \nHETATM   24  H1  UNL     1      -5.264   1.044   1.258  1.00  0.00           H  \nHETATM   25  H2  UNL     1      -3.975   0.962   2.472  1.00  0.00           H  \nHETATM   26  H3  UNL     1      -4.143  -1.302   2.591  1.00  0.00           H  \nHETATM   27  H4  UNL     1      -5.494  -1.278   1.444  1.00  0.00           H  \nHETATM   28  H5  UNL     1      -3.112  -2.499   0.839  1.00  0.00           H  \nHETATM   29  H6  UNL     1      -4.099  -1.687  -0.393  1.00  0.00           H  \nHETATM   30  H7  UNL     1      -1.801  -0.509   1.227  1.00  0.00           H  \nHETATM   31  H8  UNL     1      -3.766   1.041  -0.516  1.00  0.00           H  \nHETATM   32  H9  UNL     1      -2.634   1.690   0.686  1.00  0.00           H  \nHETATM   33  H10 UNL     1      -1.205  -1.676  -0.920  1.00  0.00           H  \nHETATM   34  H11 UNL     1      -2.518   0.642  -2.418  1.00  0.00           H  \nHETATM   35  H12 UNL     1      -3.261  -0.944  -2.281  1.00  0.00           H  \nHETATM   36  H13 UNL     1       1.118  -1.153  -0.058  1.00  0.00           H  \nHETATM   37  H14 UNL     1       1.065   3.100  -0.864  1.00  0.00           H  \nHETATM   38  H15 UNL     1       3.092  -1.909  -0.442  1.00  0.00           H  \nHETATM   39  H16 UNL     1       5.469  -2.847   0.276  1.00  0.00           H  \nHETATM   40  H17 UNL     1       6.861  -0.750   1.159  1.00  0.00           H  \nHETATM   41  H18 UNL     1       4.934   3.671   1.120  1.00  0.00           H  \nCONECT    1    2    5   24   25\nCONECT    2    3   26   27\nCONECT    3    4   28   29\nCONECT    4    5    6   30\nCONECT    5   31   32\nCONECT    6    7   10   33\nCONECT    7    8   34   35\nCONECT    8    9    9    9\nCONECT   10   11   14\nCONECT   11   12   12   36\nCONECT   12   13   15\nCONECT   13   14   14   37\nCONECT   15   16   16   23\nCONECT   16   17   20\nCONECT   17   18   18   38\nCONECT   18   19   39\nCONECT   19   20   40\nCONECT   20   21   21\nCONECT   21   22\nCONECT   22   23   23   41\nENDMDL\nMODEL        9\nHETATM    1  C1  UNL     1      -4.648  -2.074  -0.521  1.00  0.00           C  \nHETATM    2  C2  UNL     1      -4.599  -0.867   0.408  1.00  0.00           C  \nHETATM    3  C3  UNL     1      -3.117  -0.744   0.757  1.00  0.00           C  \nHETATM    4  C4  UNL     1      -2.345  -1.206  -0.507  1.00  0.00           C  \nHETATM    5  C5  UNL     1      -3.397  -1.926  -1.391  1.00  0.00           C  \nHETATM    6  C6  UNL     1      -1.610  -0.061  -1.281  1.00  0.00           C  \nHETATM    7  C7  UNL     1      -2.504   1.175  -1.590  1.00  0.00           C  \nHETATM    8  C8  UNL     1      -1.828   2.077  -2.581  1.00  0.00           C  \nHETATM    9  N1  UNL     1      -1.327   2.738  -3.388  1.00  0.00           N  \nHETATM   10  N2  UNL     1      -0.396   0.349  -0.533  1.00  0.00           N  \nHETATM   11  C9  UNL     1       0.849  -0.210  -0.744  1.00  0.00           C  \nHETATM   12  C10 UNL     1       1.680   0.352   0.193  1.00  0.00           C  \nHETATM   13  C11 UNL     1       0.838   1.253   0.975  1.00  0.00           C  \nHETATM   14  N3  UNL     1      -0.403   1.241   0.537  1.00  0.00           N  \nHETATM   15  C12 UNL     1       3.107   0.030   0.359  1.00  0.00           C  \nHETATM   16  C13 UNL     1       3.992   0.807   1.115  1.00  0.00           C  \nHETATM   17  C14 UNL     1       3.906   2.076   1.863  1.00  0.00           C  \nHETATM   18  C15 UNL     1       5.169   2.313   2.383  1.00  0.00           C  \nHETATM   19  N4  UNL     1       6.000   1.264   1.979  1.00  0.00           N  \nHETATM   20  C16 UNL     1       5.293   0.370   1.214  1.00  0.00           C  \nHETATM   21  N5  UNL     1       5.717  -0.737   0.615  1.00  0.00           N  \nHETATM   22  C17 UNL     1       4.849  -1.448  -0.122  1.00  0.00           C  \nHETATM   23  N6  UNL     1       3.563  -1.076  -0.255  1.00  0.00           N  \nHETATM   24  H1  UNL     1      -5.561  -2.094  -1.119  1.00  0.00           H  \nHETATM   25  H2  UNL     1      -4.584  -2.992   0.065  1.00  0.00           H  \nHETATM   26  H3  UNL     1      -4.935   0.026  -0.122  1.00  0.00           H  \nHETATM   27  H4  UNL     1      -5.216  -1.009   1.297  1.00  0.00           H  \nHETATM   28  H5  UNL     1      -2.862   0.267   1.073  1.00  0.00           H  \nHETATM   29  H6  UNL     1      -2.883  -1.418   1.583  1.00  0.00           H  \nHETATM   30  H7  UNL     1      -1.598  -1.939  -0.196  1.00  0.00           H  \nHETATM   31  H8  UNL     1      -3.036  -2.901  -1.721  1.00  0.00           H  \nHETATM   32  H9  UNL     1      -3.637  -1.340  -2.277  1.00  0.00           H  \nHETATM   33  H10 UNL     1      -1.284  -0.475  -2.237  1.00  0.00           H  \nHETATM   34  H11 UNL     1      -2.710   1.739  -0.681  1.00  0.00           H  \nHETATM   35  H12 UNL     1      -3.460   0.866  -2.005  1.00  0.00           H  \nHETATM   36  H13 UNL     1       1.126  -0.947  -1.488  1.00  0.00           H  \nHETATM   37  H14 UNL     1       1.162   1.835   1.825  1.00  0.00           H  \nHETATM   38  H15 UNL     1       3.047   2.724   1.975  1.00  0.00           H  \nHETATM   39  H16 UNL     1       5.458   3.168   2.983  1.00  0.00           H  \nHETATM   40  H17 UNL     1       6.990   1.138   2.182  1.00  0.00           H  \nHETATM   41  H18 UNL     1       5.194  -2.346  -0.621  1.00  0.00           H  \nCONECT    1    2    5   24   25\nCONECT    2    3   26   27\nCONECT    3    4   28   29\nCONECT    4    5    6   30\nCONECT    5   31   32\nCONECT    6    7   10   33\nCONECT    7    8   34   35\nCONECT    8    9    9    9\nCONECT   10   11   14\nCONECT   11   12   12   36\nCONECT   12   13   15\nCONECT   13   14   14   37\nCONECT   15   16   16   23\nCONECT   16   17   20\nCONECT   17   18   18   38\nCONECT   18   19   39\nCONECT   19   20   40\nCONECT   20   21   21\nCONECT   21   22\nCONECT   22   23   23   41\nENDMDL\nMODEL       10\nHETATM    1  C1  UNL     1      -3.872   1.940   0.471  1.00  0.00           C  \nHETATM    2  C2  UNL     1      -4.779   1.111  -0.450  1.00  0.00           C  \nHETATM    3  C3  UNL     1      -4.153  -0.285  -0.505  1.00  0.00           C  \nHETATM    4  C4  UNL     1      -2.651  -0.034  -0.316  1.00  0.00           C  \nHETATM    5  C5  UNL     1      -2.635   1.074   0.752  1.00  0.00           C  \nHETATM    6  C6  UNL     1      -1.826  -1.290   0.124  1.00  0.00           C  \nHETATM    7  C7  UNL     1      -1.796  -2.427  -0.930  1.00  0.00           C  \nHETATM    8  C8  UNL     1      -3.066  -3.226  -0.947  1.00  0.00           C  \nHETATM    9  N1  UNL     1      -4.067  -3.804  -0.975  1.00  0.00           N  \nHETATM   10  N2  UNL     1      -0.424  -0.914   0.422  1.00  0.00           N  \nHETATM   11  C9  UNL     1       0.393  -0.176  -0.417  1.00  0.00           C  \nHETATM   12  C10 UNL     1       1.630  -0.160   0.180  1.00  0.00           C  \nHETATM   13  C11 UNL     1       1.476  -0.921   1.417  1.00  0.00           C  \nHETATM   14  N3  UNL     1       0.249  -1.379   1.543  1.00  0.00           N  \nHETATM   15  C12 UNL     1       2.815   0.533  -0.355  1.00  0.00           C  \nHETATM   16  C13 UNL     1       4.114   0.344   0.135  1.00  0.00           C  \nHETATM   17  C14 UNL     1       4.743  -0.515   1.158  1.00  0.00           C  \nHETATM   18  C15 UNL     1       6.098  -0.219   1.144  1.00  0.00           C  \nHETATM   19  N4  UNL     1       6.309   0.758   0.167  1.00  0.00           N  \nHETATM   20  C16 UNL     1       5.121   1.084  -0.439  1.00  0.00           C  \nHETATM   21  N5  UNL     1       4.898   1.937  -1.431  1.00  0.00           N  \nHETATM   22  C17 UNL     1       3.647   2.077  -1.897  1.00  0.00           C  \nHETATM   23  N6  UNL     1       2.617   1.386  -1.376  1.00  0.00           N  \nHETATM   24  H1  UNL     1      -4.382   2.187   1.404  1.00  0.00           H  \nHETATM   25  H2  UNL     1      -3.586   2.869  -0.025  1.00  0.00           H  \nHETATM   26  H3  UNL     1      -5.805   1.073  -0.082  1.00  0.00           H  \nHETATM   27  H4  UNL     1      -4.782   1.551  -1.449  1.00  0.00           H  \nHETATM   28  H5  UNL     1      -4.540  -0.895   0.314  1.00  0.00           H  \nHETATM   29  H6  UNL     1      -4.374  -0.775  -1.455  1.00  0.00           H  \nHETATM   30  H7  UNL     1      -2.249   0.369  -1.248  1.00  0.00           H  \nHETATM   31  H8  UNL     1      -2.716   0.635   1.748  1.00  0.00           H  \nHETATM   32  H9  UNL     1      -1.719   1.666   0.708  1.00  0.00           H  \nHETATM   33  H10 UNL     1      -2.259  -1.682   1.048  1.00  0.00           H  \nHETATM   34  H11 UNL     1      -1.605  -2.019  -1.922  1.00  0.00           H  \nHETATM   35  H12 UNL     1      -0.978  -3.110  -0.698  1.00  0.00           H  \nHETATM   36  H13 UNL     1       0.127   0.300  -1.353  1.00  0.00           H  \nHETATM   37  H14 UNL     1       2.248  -1.085   2.154  1.00  0.00           H  \nHETATM   38  H15 UNL     1       4.271  -1.254   1.790  1.00  0.00           H  \nHETATM   39  H16 UNL     1       6.855  -0.677   1.771  1.00  0.00           H  \nHETATM   40  H17 UNL     1       7.192   1.191  -0.101  1.00  0.00           H  \nHETATM   41  H18 UNL     1       3.462   2.764  -2.714  1.00  0.00           H  \nCONECT    1    2    5   24   25\nCONECT    2    3   26   27\nCONECT    3    4   28   29\nCONECT    4    5    6   30\nCONECT    5   31   32\nCONECT    6    7   10   33\nCONECT    7    8   34   35\nCONECT    8    9    9    9\nCONECT   10   11   14\nCONECT   11   12   12   36\nCONECT   12   13   15\nCONECT   13   14   14   37\nCONECT   15   16   16   23\nCONECT   16   17   20\nCONECT   17   18   18   38\nCONECT   18   19   39\nCONECT   19   20   40\nCONECT   20   21   21\nCONECT   21   22\nCONECT   22   23   23   41\nENDMDL\n",
           "type": "blob"
          }
         ],
         "kwargs": {
          "defaultRepresentation": true,
          "ext": "pdb",
          "name": "<openff.toolkit.utils.viz._OFFTrajectoryNGLView object at 0x1680a51d0>"
         },
         "methodName": "loadFile",
         "reconstruc_color_scheme": false,
         "target": "Stage",
         "type": "call_method"
        }
       ],
       "_ngl_original_stage_parameters": {},
       "_ngl_repr_dict": {},
       "_ngl_serialize": false,
       "_ngl_version": "",
       "_ngl_view_id": [],
       "_player_dict": {},
       "_scene_position": {},
       "_scene_rotation": {},
       "_synced_model_ids": [],
       "_synced_repr_model_ids": [],
       "_view_count": null,
       "_view_height": "",
       "_view_module": "nglview-js-widgets",
       "_view_module_version": "3.0.6",
       "_view_name": "NGLView",
       "_view_width": "",
       "background": "white",
       "frame": 0,
       "gui_style": null,
       "layout": "IPY_MODEL_51d4391bbb604ce59b3ff72dcb26df81",
       "max_frame": 9,
       "n_components": 0,
       "picked": {},
       "tabbable": null,
       "tooltip": null
      }
     },
     "d4a8b0472ecc4e10ad643ac61a9fe6b2": {
      "model_module": "@jupyter-widgets/base",
      "model_module_version": "2.0.0",
      "model_name": "LayoutModel",
      "state": {
       "_model_module": "@jupyter-widgets/base",
       "_model_module_version": "2.0.0",
       "_model_name": "LayoutModel",
       "_view_count": null,
       "_view_module": "@jupyter-widgets/base",
       "_view_module_version": "2.0.0",
       "_view_name": "LayoutView",
       "align_content": null,
       "align_items": null,
       "align_self": null,
       "border_bottom": null,
       "border_left": null,
       "border_right": null,
       "border_top": null,
       "bottom": null,
       "display": null,
       "flex": null,
       "flex_flow": null,
       "grid_area": null,
       "grid_auto_columns": null,
       "grid_auto_flow": null,
       "grid_auto_rows": null,
       "grid_column": null,
       "grid_gap": null,
       "grid_row": null,
       "grid_template_areas": null,
       "grid_template_columns": null,
       "grid_template_rows": null,
       "height": null,
       "justify_content": null,
       "justify_items": null,
       "left": null,
       "margin": null,
       "max_height": null,
       "max_width": null,
       "min_height": null,
       "min_width": null,
       "object_fit": null,
       "object_position": null,
       "order": null,
       "overflow": null,
       "padding": null,
       "right": null,
       "top": null,
       "visibility": null,
       "width": null
      }
     },
     "e6c7f75b6d3e4f028847f215a92524c3": {
      "model_module": "@jupyter-widgets/controls",
      "model_module_version": "2.0.0",
      "model_name": "SliderStyleModel",
      "state": {
       "_model_module": "@jupyter-widgets/controls",
       "_model_module_version": "2.0.0",
       "_model_name": "SliderStyleModel",
       "_view_count": null,
       "_view_module": "@jupyter-widgets/base",
       "_view_module_version": "2.0.0",
       "_view_name": "StyleView",
       "description_width": "",
       "handle_color": null
      }
     },
     "eb45d583a0de4d09b6b2c13716906a9a": {
      "model_module": "nglview-js-widgets",
      "model_module_version": "3.0.6",
      "model_name": "NGLModel",
      "state": {
       "_camera_orientation": [],
       "_camera_str": "orthographic",
       "_dom_classes": [],
       "_gui_theme": null,
       "_ibtn_fullscreen": "IPY_MODEL_4da0b92a248a4842801757078197d7d7",
       "_igui": null,
       "_iplayer": "IPY_MODEL_397cdcd602e5486996d89e5b674c6fc1",
       "_model_module": "nglview-js-widgets",
       "_model_module_version": "3.0.6",
       "_model_name": "NGLModel",
       "_ngl_color_dict": {},
       "_ngl_coordinate_resource": {},
       "_ngl_full_stage_parameters": {},
       "_ngl_msg_archive": [
        {
         "args": [
          {
           "binary": false,
           "data": "COMPND    ruxolitinib\nMODEL        1\nHETATM    1  C1  UNL     1      -4.229   0.259   1.742  1.00  0.00           C  \nHETATM    2  C2  UNL     1      -4.975   0.277   0.401  1.00  0.00           C  \nHETATM    3  C3  UNL     1      -4.194  -0.800  -0.350  1.00  0.00           C  \nHETATM    4  C4  UNL     1      -2.777  -0.582   0.088  1.00  0.00           C  \nHETATM    5  C5  UNL     1      -2.785   0.385   1.234  1.00  0.00           C  \nHETATM    6  C6  UNL     1      -1.860  -0.161  -1.011  1.00  0.00           C  \nHETATM    7  C7  UNL     1      -2.263   1.127  -1.668  1.00  0.00           C  \nHETATM    8  C8  UNL     1      -1.288   1.440  -2.734  1.00  0.00           C  \nHETATM    9  N1  UNL     1      -0.536   1.672  -3.579  1.00  0.00           N  \nHETATM   10  N2  UNL     1      -0.523  -0.024  -0.436  1.00  0.00           N  \nHETATM   11  C9  UNL     1       0.522  -0.853  -0.559  1.00  0.00           C  \nHETATM   12  C10 UNL     1       1.614  -0.346   0.152  1.00  0.00           C  \nHETATM   13  C11 UNL     1       1.147   0.827   0.698  1.00  0.00           C  \nHETATM   14  N3  UNL     1      -0.129   0.982   0.325  1.00  0.00           N  \nHETATM   15  C12 UNL     1       2.951  -0.907   0.300  1.00  0.00           C  \nHETATM   16  C13 UNL     1       4.102  -0.147   0.178  1.00  0.00           C  \nHETATM   17  C14 UNL     1       4.294   1.195  -0.087  1.00  0.00           C  \nHETATM   18  C15 UNL     1       5.673   1.409  -0.094  1.00  0.00           C  \nHETATM   19  N4  UNL     1       6.310   0.251   0.156  1.00  0.00           N  \nHETATM   20  C16 UNL     1       5.362  -0.690   0.320  1.00  0.00           C  \nHETATM   21  N5  UNL     1       5.471  -2.004   0.587  1.00  0.00           N  \nHETATM   22  C17 UNL     1       4.351  -2.761   0.710  1.00  0.00           C  \nHETATM   23  N6  UNL     1       3.122  -2.214   0.568  1.00  0.00           N  \nHETATM   24  H1  UNL     1      -4.355  -0.708   2.231  1.00  0.00           H  \nHETATM   25  H2  UNL     1      -4.505   1.135   2.343  1.00  0.00           H  \nHETATM   26  H3  UNL     1      -6.032   0.027   0.517  1.00  0.00           H  \nHETATM   27  H4  UNL     1      -4.806   1.273  -0.034  1.00  0.00           H  \nHETATM   28  H5  UNL     1      -4.545  -1.765   0.067  1.00  0.00           H  \nHETATM   29  H6  UNL     1      -4.349  -0.744  -1.431  1.00  0.00           H  \nHETATM   30  H7  UNL     1      -2.348  -1.544   0.501  1.00  0.00           H  \nHETATM   31  H8  UNL     1      -2.662   1.439   0.952  1.00  0.00           H  \nHETATM   32  H9  UNL     1      -2.071   0.080   2.039  1.00  0.00           H  \nHETATM   33  H10 UNL     1      -1.816  -0.936  -1.791  1.00  0.00           H  \nHETATM   34  H11 UNL     1      -2.333   1.986  -0.981  1.00  0.00           H  \nHETATM   35  H12 UNL     1      -3.235   1.027  -2.166  1.00  0.00           H  \nHETATM   36  H13 UNL     1       0.563  -1.769  -1.105  1.00  0.00           H  \nHETATM   37  H14 UNL     1       1.683   1.520   1.320  1.00  0.00           H  \nHETATM   38  H15 UNL     1       3.500   1.889  -0.248  1.00  0.00           H  \nHETATM   39  H16 UNL     1       6.098   2.387  -0.280  1.00  0.00           H  \nHETATM   40  H17 UNL     1       7.350   0.179   0.198  1.00  0.00           H  \nHETATM   41  H18 UNL     1       4.501  -3.812   0.926  1.00  0.00           H  \nCONECT    1    2    5   24   25\nCONECT    2    3   26   27\nCONECT    3    4   28   29\nCONECT    4    5    6   30\nCONECT    5   31   32\nCONECT    6    7   10   33\nCONECT    7    8   34   35\nCONECT    8    9    9    9\nCONECT   10   11   14\nCONECT   11   12   12   36\nCONECT   12   13   15\nCONECT   13   14   14   37\nCONECT   15   16   16   23\nCONECT   16   17   20\nCONECT   17   18   18   38\nCONECT   18   19   39\nCONECT   19   20   40\nCONECT   20   21   21\nCONECT   21   22\nCONECT   22   23   23   41\nENDMDL\nMODEL        2\nHETATM    1  C1  UNL     1      -3.670   1.630  -0.794  1.00  0.00           C  \nHETATM    2  C2  UNL     1      -3.527   1.884   0.671  1.00  0.00           C  \nHETATM    3  C3  UNL     1      -2.852   0.667   1.275  1.00  0.00           C  \nHETATM    4  C4  UNL     1      -2.887  -0.307   0.150  1.00  0.00           C  \nHETATM    5  C5  UNL     1      -2.594   0.557  -1.028  1.00  0.00           C  \nHETATM    6  C6  UNL     1      -2.034  -1.506   0.294  1.00  0.00           C  \nHETATM    7  C7  UNL     1      -2.217  -2.364  -0.956  1.00  0.00           C  \nHETATM    8  C8  UNL     1      -1.383  -3.577  -0.860  1.00  0.00           C  \nHETATM    9  N1  UNL     1      -0.727  -4.516  -0.769  1.00  0.00           N  \nHETATM   10  N2  UNL     1      -0.644  -1.262   0.462  1.00  0.00           N  \nHETATM   11  C9  UNL     1       0.195  -0.810  -0.463  1.00  0.00           C  \nHETATM   12  C10 UNL     1       1.440  -0.730   0.153  1.00  0.00           C  \nHETATM   13  C11 UNL     1       1.290  -1.151   1.467  1.00  0.00           C  \nHETATM   14  N3  UNL     1       0.008  -1.460   1.596  1.00  0.00           N  \nHETATM   15  C12 UNL     1       2.683  -0.292  -0.444  1.00  0.00           C  \nHETATM   16  C13 UNL     1       3.487   0.581   0.245  1.00  0.00           C  \nHETATM   17  C14 UNL     1       3.385   1.197   1.485  1.00  0.00           C  \nHETATM   18  C15 UNL     1       4.528   1.972   1.616  1.00  0.00           C  \nHETATM   19  N4  UNL     1       5.277   1.829   0.512  1.00  0.00           N  \nHETATM   20  C16 UNL     1       4.676   0.996  -0.334  1.00  0.00           C  \nHETATM   21  N5  UNL     1       4.987   0.518  -1.556  1.00  0.00           N  \nHETATM   22  C17 UNL     1       4.209  -0.336  -2.241  1.00  0.00           C  \nHETATM   23  N6  UNL     1       3.057  -0.724  -1.654  1.00  0.00           N  \nHETATM   24  H1  UNL     1      -3.540   2.494  -1.437  1.00  0.00           H  \nHETATM   25  H2  UNL     1      -4.653   1.107  -0.943  1.00  0.00           H  \nHETATM   26  H3  UNL     1      -2.920   2.802   0.800  1.00  0.00           H  \nHETATM   27  H4  UNL     1      -4.509   2.076   1.175  1.00  0.00           H  \nHETATM   28  H5  UNL     1      -1.829   0.965   1.566  1.00  0.00           H  \nHETATM   29  H6  UNL     1      -3.446   0.341   2.167  1.00  0.00           H  \nHETATM   30  H7  UNL     1      -3.950  -0.658   0.046  1.00  0.00           H  \nHETATM   31  H8  UNL     1      -1.628   1.098  -0.942  1.00  0.00           H  \nHETATM   32  H9  UNL     1      -2.730   0.072  -2.007  1.00  0.00           H  \nHETATM   33  H10 UNL     1      -2.458  -2.121   1.130  1.00  0.00           H  \nHETATM   34  H11 UNL     1      -1.929  -1.798  -1.869  1.00  0.00           H  \nHETATM   35  H12 UNL     1      -3.264  -2.723  -1.029  1.00  0.00           H  \nHETATM   36  H13 UNL     1       0.041  -0.536  -1.496  1.00  0.00           H  \nHETATM   37  H14 UNL     1       2.034  -1.226   2.249  1.00  0.00           H  \nHETATM   38  H15 UNL     1       2.584   1.104   2.215  1.00  0.00           H  \nHETATM   39  H16 UNL     1       4.789   2.597   2.463  1.00  0.00           H  \nHETATM   40  H17 UNL     1       6.205   2.285   0.300  1.00  0.00           H  \nHETATM   41  H18 UNL     1       4.518  -0.678  -3.215  1.00  0.00           H  \nCONECT    1    2    5   24   25\nCONECT    2    3   26   27\nCONECT    3    4   28   29\nCONECT    4    5    6   30\nCONECT    5   31   32\nCONECT    6    7   10   33\nCONECT    7    8   34   35\nCONECT    8    9    9    9\nCONECT   10   11   14\nCONECT   11   12   12   36\nCONECT   12   13   15\nCONECT   13   14   14   37\nCONECT   15   16   16   23\nCONECT   16   17   20\nCONECT   17   18   18   38\nCONECT   18   19   39\nCONECT   19   20   40\nCONECT   20   21   21\nCONECT   21   22\nCONECT   22   23   23   41\nENDMDL\nMODEL        3\nHETATM    1  C1  UNL     1      -3.775   1.548   1.410  1.00  0.00           C  \nHETATM    2  C2  UNL     1      -4.266   1.341   0.006  1.00  0.00           C  \nHETATM    3  C3  UNL     1      -3.162   0.489  -0.644  1.00  0.00           C  \nHETATM    4  C4  UNL     1      -2.819  -0.394   0.495  1.00  0.00           C  \nHETATM    5  C5  UNL     1      -2.708   0.505   1.674  1.00  0.00           C  \nHETATM    6  C6  UNL     1      -1.833  -1.431   0.306  1.00  0.00           C  \nHETATM    7  C7  UNL     1      -2.342  -2.369  -0.803  1.00  0.00           C  \nHETATM    8  C8  UNL     1      -1.434  -3.452  -1.080  1.00  0.00           C  \nHETATM    9  N1  UNL     1      -0.727  -4.327  -1.305  1.00  0.00           N  \nHETATM   10  N2  UNL     1      -0.490  -1.107   0.010  1.00  0.00           N  \nHETATM   11  C9  UNL     1       0.189   0.046  -0.115  1.00  0.00           C  \nHETATM   12  C10 UNL     1       1.506  -0.221  -0.419  1.00  0.00           C  \nHETATM   13  C11 UNL     1       1.576  -1.595  -0.469  1.00  0.00           C  \nHETATM   14  N3  UNL     1       0.389  -2.108  -0.213  1.00  0.00           N  \nHETATM   15  C12 UNL     1       2.584   0.722  -0.647  1.00  0.00           C  \nHETATM   16  C13 UNL     1       3.827   0.529  -0.037  1.00  0.00           C  \nHETATM   17  C14 UNL     1       4.263  -0.470   0.813  1.00  0.00           C  \nHETATM   18  C15 UNL     1       5.568  -0.166   1.111  1.00  0.00           C  \nHETATM   19  N4  UNL     1       5.919   0.964   0.477  1.00  0.00           N  \nHETATM   20  C16 UNL     1       4.867   1.411  -0.235  1.00  0.00           C  \nHETATM   21  N5  UNL     1       4.645   2.467  -1.037  1.00  0.00           N  \nHETATM   22  C17 UNL     1       3.455   2.663  -1.628  1.00  0.00           C  \nHETATM   23  N6  UNL     1       2.433   1.809  -1.443  1.00  0.00           N  \nHETATM   24  H1  UNL     1      -3.398   2.582   1.509  1.00  0.00           H  \nHETATM   25  H2  UNL     1      -4.623   1.410   2.137  1.00  0.00           H  \nHETATM   26  H3  UNL     1      -4.405   2.287  -0.550  1.00  0.00           H  \nHETATM   27  H4  UNL     1      -5.203   0.747   0.038  1.00  0.00           H  \nHETATM   28  H5  UNL     1      -2.418   1.190  -0.999  1.00  0.00           H  \nHETATM   29  H6  UNL     1      -3.658  -0.092  -1.457  1.00  0.00           H  \nHETATM   30  H7  UNL     1      -3.800  -0.956   0.694  1.00  0.00           H  \nHETATM   31  H8  UNL     1      -1.765   0.987   1.870  1.00  0.00           H  \nHETATM   32  H9  UNL     1      -2.971  -0.052   2.623  1.00  0.00           H  \nHETATM   33  H10 UNL     1      -1.831  -2.094   1.224  1.00  0.00           H  \nHETATM   34  H11 UNL     1      -2.487  -1.784  -1.744  1.00  0.00           H  \nHETATM   35  H12 UNL     1      -3.332  -2.783  -0.538  1.00  0.00           H  \nHETATM   36  H13 UNL     1      -0.276   1.005   0.014  1.00  0.00           H  \nHETATM   37  H14 UNL     1       2.452  -2.227  -0.686  1.00  0.00           H  \nHETATM   38  H15 UNL     1       3.656  -1.304   1.148  1.00  0.00           H  \nHETATM   39  H16 UNL     1       6.198  -0.758   1.758  1.00  0.00           H  \nHETATM   40  H17 UNL     1       6.867   1.441   0.519  1.00  0.00           H  \nHETATM   41  H18 UNL     1       3.328   3.548  -2.278  1.00  0.00           H  \nCONECT    1    2    5   24   25\nCONECT    2    3   26   27\nCONECT    3    4   28   29\nCONECT    4    5    6   30\nCONECT    5   31   32\nCONECT    6    7   10   33\nCONECT    7    8   34   35\nCONECT    8    9    9    9\nCONECT   10   11   14\nCONECT   11   12   12   36\nCONECT   12   13   15\nCONECT   13   14   14   37\nCONECT   15   16   16   23\nCONECT   16   17   20\nCONECT   17   18   18   38\nCONECT   18   19   39\nCONECT   19   20   40\nCONECT   20   21   21\nCONECT   21   22\nCONECT   22   23   23   41\nENDMDL\nMODEL        4\nHETATM    1  C1  UNL     1      -4.525   1.052   0.797  1.00  0.00           C  \nHETATM    2  C2  UNL     1      -4.187   1.359  -0.663  1.00  0.00           C  \nHETATM    3  C3  UNL     1      -3.037   0.415  -1.034  1.00  0.00           C  \nHETATM    4  C4  UNL     1      -2.536   0.006   0.331  1.00  0.00           C  \nHETATM    5  C5  UNL     1      -3.827  -0.304   1.020  1.00  0.00           C  \nHETATM    6  C6  UNL     1      -1.491  -1.022   0.350  1.00  0.00           C  \nHETATM    7  C7  UNL     1      -1.799  -2.347  -0.241  1.00  0.00           C  \nHETATM    8  C8  UNL     1      -2.898  -3.060   0.375  1.00  0.00           C  \nHETATM    9  N1  UNL     1      -3.763  -3.649   0.871  1.00  0.00           N  \nHETATM   10  N2  UNL     1      -0.328  -0.473  -0.362  1.00  0.00           N  \nHETATM   11  C9  UNL     1       0.826  -0.063   0.187  1.00  0.00           C  \nHETATM   12  C10 UNL     1       1.655   0.382  -0.816  1.00  0.00           C  \nHETATM   13  C11 UNL     1       0.956   0.223  -1.991  1.00  0.00           C  \nHETATM   14  N3  UNL     1      -0.239  -0.298  -1.657  1.00  0.00           N  \nHETATM   15  C12 UNL     1       3.006   0.919  -0.708  1.00  0.00           C  \nHETATM   16  C13 UNL     1       3.984   0.340   0.083  1.00  0.00           C  \nHETATM   17  C14 UNL     1       3.959  -0.773   0.892  1.00  0.00           C  \nHETATM   18  C15 UNL     1       5.220  -0.885   1.444  1.00  0.00           C  \nHETATM   19  N4  UNL     1       6.005   0.102   1.010  1.00  0.00           N  \nHETATM   20  C16 UNL     1       5.254   0.855   0.176  1.00  0.00           C  \nHETATM   21  N5  UNL     1       5.538   1.969  -0.537  1.00  0.00           N  \nHETATM   22  C17 UNL     1       4.593   2.524  -1.298  1.00  0.00           C  \nHETATM   23  N6  UNL     1       3.333   2.027  -1.401  1.00  0.00           N  \nHETATM   24  H1  UNL     1      -3.974   1.780   1.417  1.00  0.00           H  \nHETATM   25  H2  UNL     1      -5.594   0.995   0.981  1.00  0.00           H  \nHETATM   26  H3  UNL     1      -3.794   2.391  -0.769  1.00  0.00           H  \nHETATM   27  H4  UNL     1      -5.083   1.167  -1.273  1.00  0.00           H  \nHETATM   28  H5  UNL     1      -2.288   0.919  -1.649  1.00  0.00           H  \nHETATM   29  H6  UNL     1      -3.523  -0.447  -1.556  1.00  0.00           H  \nHETATM   30  H7  UNL     1      -2.134   0.927   0.806  1.00  0.00           H  \nHETATM   31  H8  UNL     1      -3.756  -0.569   2.071  1.00  0.00           H  \nHETATM   32  H9  UNL     1      -4.464  -1.011   0.409  1.00  0.00           H  \nHETATM   33  H10 UNL     1      -1.190  -1.183   1.414  1.00  0.00           H  \nHETATM   34  H11 UNL     1      -1.903  -2.305  -1.347  1.00  0.00           H  \nHETATM   35  H12 UNL     1      -0.881  -2.989  -0.080  1.00  0.00           H  \nHETATM   36  H13 UNL     1       1.034  -0.090   1.236  1.00  0.00           H  \nHETATM   37  H14 UNL     1       1.334   0.481  -2.965  1.00  0.00           H  \nHETATM   38  H15 UNL     1       3.117  -1.407   1.044  1.00  0.00           H  \nHETATM   39  H16 UNL     1       5.546  -1.655   2.132  1.00  0.00           H  \nHETATM   40  H17 UNL     1       7.020   0.279   1.258  1.00  0.00           H  \nHETATM   41  H18 UNL     1       4.836   3.419  -1.865  1.00  0.00           H  \nCONECT    1    2    5   24   25\nCONECT    2    3   26   27\nCONECT    3    4   28   29\nCONECT    4    5    6   30\nCONECT    5   31   32\nCONECT    6    7   10   33\nCONECT    7    8   34   35\nCONECT    8    9    9    9\nCONECT   10   11   14\nCONECT   11   12   12   36\nCONECT   12   13   15\nCONECT   13   14   14   37\nCONECT   15   16   16   23\nCONECT   16   17   20\nCONECT   17   18   18   38\nCONECT   18   19   39\nCONECT   19   20   40\nCONECT   20   21   21\nCONECT   21   22\nCONECT   22   23   23   41\nENDMDL\nMODEL        5\nHETATM    1  C1  UNL     1      -5.101   0.368   0.690  1.00  0.00           C  \nHETATM    2  C2  UNL     1      -4.222   1.398   1.337  1.00  0.00           C  \nHETATM    3  C3  UNL     1      -2.939   1.375   0.547  1.00  0.00           C  \nHETATM    4  C4  UNL     1      -2.872   0.033  -0.147  1.00  0.00           C  \nHETATM    5  C5  UNL     1      -4.083  -0.728   0.346  1.00  0.00           C  \nHETATM    6  C6  UNL     1      -1.598  -0.696   0.203  1.00  0.00           C  \nHETATM    7  C7  UNL     1      -1.510  -2.042  -0.481  1.00  0.00           C  \nHETATM    8  C8  UNL     1      -1.542  -1.910  -1.935  1.00  0.00           C  \nHETATM    9  N1  UNL     1      -1.558  -1.810  -3.091  1.00  0.00           N  \nHETATM   10  N2  UNL     1      -0.433   0.091  -0.150  1.00  0.00           N  \nHETATM   11  C9  UNL     1       0.834  -0.338  -0.267  1.00  0.00           C  \nHETATM   12  C10 UNL     1       1.670   0.714  -0.623  1.00  0.00           C  \nHETATM   13  C11 UNL     1       0.808   1.808  -0.711  1.00  0.00           C  \nHETATM   14  N3  UNL     1      -0.411   1.382  -0.423  1.00  0.00           N  \nHETATM   15  C12 UNL     1       3.100   0.679  -0.848  1.00  0.00           C  \nHETATM   16  C13 UNL     1       3.947   0.022   0.004  1.00  0.00           C  \nHETATM   17  C14 UNL     1       3.760  -0.701   1.161  1.00  0.00           C  \nHETATM   18  C15 UNL     1       4.973  -1.156   1.628  1.00  0.00           C  \nHETATM   19  N4  UNL     1       5.899  -0.711   0.757  1.00  0.00           N  \nHETATM   20  C16 UNL     1       5.326  -0.008  -0.220  1.00  0.00           C  \nHETATM   21  N5  UNL     1       5.805   0.623  -1.292  1.00  0.00           N  \nHETATM   22  C17 UNL     1       4.956   1.269  -2.127  1.00  0.00           C  \nHETATM   23  N6  UNL     1       3.610   1.300  -1.911  1.00  0.00           N  \nHETATM   24  H1  UNL     1      -5.825  -0.070   1.415  1.00  0.00           H  \nHETATM   25  H2  UNL     1      -5.602   0.742  -0.226  1.00  0.00           H  \nHETATM   26  H3  UNL     1      -4.046   1.068   2.398  1.00  0.00           H  \nHETATM   27  H4  UNL     1      -4.723   2.379   1.339  1.00  0.00           H  \nHETATM   28  H5  UNL     1      -2.976   2.225  -0.159  1.00  0.00           H  \nHETATM   29  H6  UNL     1      -2.080   1.508   1.268  1.00  0.00           H  \nHETATM   30  H7  UNL     1      -2.994   0.204  -1.223  1.00  0.00           H  \nHETATM   31  H8  UNL     1      -4.546  -1.353  -0.435  1.00  0.00           H  \nHETATM   32  H9  UNL     1      -3.891  -1.260   1.294  1.00  0.00           H  \nHETATM   33  H10 UNL     1      -1.603  -0.877   1.296  1.00  0.00           H  \nHETATM   34  H11 UNL     1      -0.507  -2.461  -0.198  1.00  0.00           H  \nHETATM   35  H12 UNL     1      -2.252  -2.758  -0.119  1.00  0.00           H  \nHETATM   36  H13 UNL     1       1.202  -1.349  -0.116  1.00  0.00           H  \nHETATM   37  H14 UNL     1       1.166   2.796  -0.975  1.00  0.00           H  \nHETATM   38  H15 UNL     1       2.795  -0.870   1.612  1.00  0.00           H  \nHETATM   39  H16 UNL     1       5.160  -1.754   2.519  1.00  0.00           H  \nHETATM   40  H17 UNL     1       6.926  -0.901   0.851  1.00  0.00           H  \nHETATM   41  H18 UNL     1       5.376   1.771  -2.987  1.00  0.00           H  \nCONECT    1    2    5   24   25\nCONECT    2    3   26   27\nCONECT    3    4   28   29\nCONECT    4    5    6   30\nCONECT    5   31   32\nCONECT    6    7   10   33\nCONECT    7    8   34   35\nCONECT    8    9    9    9\nCONECT   10   11   14\nCONECT   11   12   12   36\nCONECT   12   13   15\nCONECT   13   14   14   37\nCONECT   15   16   16   23\nCONECT   16   17   20\nCONECT   17   18   18   38\nCONECT   18   19   39\nCONECT   19   20   40\nCONECT   20   21   21\nCONECT   21   22\nCONECT   22   23   23   41\nENDMDL\nMODEL        6\nHETATM    1  C1  UNL     1      -4.103  -1.996  -0.204  1.00  0.00           C  \nHETATM    2  C2  UNL     1      -4.956  -0.992   0.504  1.00  0.00           C  \nHETATM    3  C3  UNL     1      -4.185   0.305   0.557  1.00  0.00           C  \nHETATM    4  C4  UNL     1      -2.770  -0.145   0.290  1.00  0.00           C  \nHETATM    5  C5  UNL     1      -2.982  -1.150  -0.822  1.00  0.00           C  \nHETATM    6  C6  UNL     1      -1.868   0.979  -0.129  1.00  0.00           C  \nHETATM    7  C7  UNL     1      -1.768   2.061   0.908  1.00  0.00           C  \nHETATM    8  C8  UNL     1      -0.885   3.144   0.479  1.00  0.00           C  \nHETATM    9  N1  UNL     1      -0.178   3.992   0.152  1.00  0.00           N  \nHETATM   10  N2  UNL     1      -0.544   0.386  -0.360  1.00  0.00           N  \nHETATM   11  C9  UNL     1       0.504   0.538   0.438  1.00  0.00           C  \nHETATM   12  C10 UNL     1       1.565  -0.172  -0.117  1.00  0.00           C  \nHETATM   13  C11 UNL     1       1.101  -0.740  -1.262  1.00  0.00           C  \nHETATM   14  N3  UNL     1      -0.186  -0.372  -1.366  1.00  0.00           N  \nHETATM   15  C12 UNL     1       2.913  -0.286   0.426  1.00  0.00           C  \nHETATM   16  C13 UNL     1       3.971  -0.120  -0.440  1.00  0.00           C  \nHETATM   17  C14 UNL     1       4.106   0.148  -1.792  1.00  0.00           C  \nHETATM   18  C15 UNL     1       5.481   0.191  -2.034  1.00  0.00           C  \nHETATM   19  N4  UNL     1       6.108  -0.043  -0.869  1.00  0.00           N  \nHETATM   20  C16 UNL     1       5.241  -0.236   0.119  1.00  0.00           C  \nHETATM   21  N5  UNL     1       5.337  -0.498   1.441  1.00  0.00           N  \nHETATM   22  C17 UNL     1       4.288  -0.653   2.251  1.00  0.00           C  \nHETATM   23  N6  UNL     1       3.046  -0.545   1.733  1.00  0.00           N  \nHETATM   24  H1  UNL     1      -4.647  -2.567  -0.982  1.00  0.00           H  \nHETATM   25  H2  UNL     1      -3.619  -2.678   0.521  1.00  0.00           H  \nHETATM   26  H3  UNL     1      -5.908  -0.884  -0.081  1.00  0.00           H  \nHETATM   27  H4  UNL     1      -5.179  -1.364   1.545  1.00  0.00           H  \nHETATM   28  H5  UNL     1      -4.269   0.704   1.602  1.00  0.00           H  \nHETATM   29  H6  UNL     1      -4.504   1.037  -0.193  1.00  0.00           H  \nHETATM   30  H7  UNL     1      -2.384  -0.683   1.174  1.00  0.00           H  \nHETATM   31  H8  UNL     1      -2.085  -1.763  -1.015  1.00  0.00           H  \nHETATM   32  H9  UNL     1      -3.350  -0.609  -1.700  1.00  0.00           H  \nHETATM   33  H10 UNL     1      -2.271   1.433  -1.057  1.00  0.00           H  \nHETATM   34  H11 UNL     1      -1.325   1.630   1.853  1.00  0.00           H  \nHETATM   35  H12 UNL     1      -2.739   2.468   1.191  1.00  0.00           H  \nHETATM   36  H13 UNL     1       0.583   1.099   1.367  1.00  0.00           H  \nHETATM   37  H14 UNL     1       1.678  -1.359  -1.929  1.00  0.00           H  \nHETATM   38  H15 UNL     1       3.310   0.292  -2.497  1.00  0.00           H  \nHETATM   39  H16 UNL     1       5.916   0.383  -3.014  1.00  0.00           H  \nHETATM   40  H17 UNL     1       7.145  -0.069  -0.763  1.00  0.00           H  \nHETATM   41  H18 UNL     1       4.410  -0.863   3.308  1.00  0.00           H  \nCONECT    1    2    5   24   25\nCONECT    2    3   26   27\nCONECT    3    4   28   29\nCONECT    4    5    6   30\nCONECT    5   31   32\nCONECT    6    7   10   33\nCONECT    7    8   34   35\nCONECT    8    9    9    9\nCONECT   10   11   14\nCONECT   11   12   12   36\nCONECT   12   13   15\nCONECT   13   14   14   37\nCONECT   15   16   16   23\nCONECT   16   17   20\nCONECT   17   18   18   38\nCONECT   18   19   39\nCONECT   19   20   40\nCONECT   20   21   21\nCONECT   21   22\nCONECT   22   23   23   41\nENDMDL\nMODEL        7\nHETATM    1  C1  UNL     1      -4.134  -1.076  -1.207  1.00  0.00           C  \nHETATM    2  C2  UNL     1      -3.094  -1.988  -0.646  1.00  0.00           C  \nHETATM    3  C3  UNL     1      -2.154  -1.089   0.198  1.00  0.00           C  \nHETATM    4  C4  UNL     1      -2.341   0.225  -0.441  1.00  0.00           C  \nHETATM    5  C5  UNL     1      -3.872   0.272  -0.568  1.00  0.00           C  \nHETATM    6  C6  UNL     1      -1.840   1.444   0.185  1.00  0.00           C  \nHETATM    7  C7  UNL     1      -2.330   1.835   1.527  1.00  0.00           C  \nHETATM    8  C8  UNL     1      -2.061   0.901   2.591  1.00  0.00           C  \nHETATM    9  N1  UNL     1      -1.833   0.164   3.474  1.00  0.00           N  \nHETATM   10  N2  UNL     1      -0.384   1.546   0.182  1.00  0.00           N  \nHETATM   11  C9  UNL     1       0.531   0.772  -0.414  1.00  0.00           C  \nHETATM   12  C10 UNL     1       1.778   1.286  -0.114  1.00  0.00           C  \nHETATM   13  C11 UNL     1       1.546   2.387   0.679  1.00  0.00           C  \nHETATM   14  N3  UNL     1       0.240   2.505   0.830  1.00  0.00           N  \nHETATM   15  C12 UNL     1       3.087   0.834  -0.503  1.00  0.00           C  \nHETATM   16  C13 UNL     1       3.435  -0.497  -0.447  1.00  0.00           C  \nHETATM   17  C14 UNL     1       2.776  -1.643  -0.071  1.00  0.00           C  \nHETATM   18  C15 UNL     1       3.631  -2.713  -0.223  1.00  0.00           C  \nHETATM   19  N4  UNL     1       4.804  -2.248  -0.686  1.00  0.00           N  \nHETATM   20  C16 UNL     1       4.716  -0.915  -0.831  1.00  0.00           C  \nHETATM   21  N5  UNL     1       5.606  -0.012  -1.255  1.00  0.00           N  \nHETATM   22  C17 UNL     1       5.260   1.274  -1.306  1.00  0.00           C  \nHETATM   23  N6  UNL     1       4.027   1.686  -0.937  1.00  0.00           N  \nHETATM   24  H1  UNL     1      -5.172  -1.424  -1.022  1.00  0.00           H  \nHETATM   25  H2  UNL     1      -3.998  -0.986  -2.324  1.00  0.00           H  \nHETATM   26  H3  UNL     1      -2.524  -2.470  -1.458  1.00  0.00           H  \nHETATM   27  H4  UNL     1      -3.529  -2.777  -0.001  1.00  0.00           H  \nHETATM   28  H5  UNL     1      -2.499  -1.189   1.223  1.00  0.00           H  \nHETATM   29  H6  UNL     1      -1.166  -1.550   0.102  1.00  0.00           H  \nHETATM   30  H7  UNL     1      -1.982   0.178  -1.499  1.00  0.00           H  \nHETATM   31  H8  UNL     1      -4.327   0.232   0.445  1.00  0.00           H  \nHETATM   32  H9  UNL     1      -4.207   1.117  -1.171  1.00  0.00           H  \nHETATM   33  H10 UNL     1      -2.150   2.304  -0.505  1.00  0.00           H  \nHETATM   34  H11 UNL     1      -3.429   2.101   1.491  1.00  0.00           H  \nHETATM   35  H12 UNL     1      -1.860   2.844   1.748  1.00  0.00           H  \nHETATM   36  H13 UNL     1       0.374  -0.099  -1.024  1.00  0.00           H  \nHETATM   37  H14 UNL     1       2.287   3.037   1.102  1.00  0.00           H  \nHETATM   38  H15 UNL     1       1.750  -1.662   0.283  1.00  0.00           H  \nHETATM   39  H16 UNL     1       3.418  -3.753  -0.013  1.00  0.00           H  \nHETATM   40  H17 UNL     1       5.626  -2.841  -0.889  1.00  0.00           H  \nHETATM   41  H18 UNL     1       5.997   1.987  -1.652  1.00  0.00           H  \nCONECT    1    2    5   24   25\nCONECT    2    3   26   27\nCONECT    3    4   28   29\nCONECT    4    5    6   30\nCONECT    5   31   32\nCONECT    6    7   10   33\nCONECT    7    8   34   35\nCONECT    8    9    9    9\nCONECT   10   11   14\nCONECT   11   12   12   36\nCONECT   12   13   15\nCONECT   13   14   14   37\nCONECT   15   16   16   23\nCONECT   16   17   20\nCONECT   17   18   18   38\nCONECT   18   19   39\nCONECT   19   20   40\nCONECT   20   21   21\nCONECT   21   22\nCONECT   22   23   23   41\nENDMDL\nMODEL        8\nHETATM    1  C1  UNL     1      -3.999   0.639   1.550  1.00  0.00           C  \nHETATM    2  C2  UNL     1      -4.266  -0.846   1.669  1.00  0.00           C  \nHETATM    3  C3  UNL     1      -3.619  -1.457   0.425  1.00  0.00           C  \nHETATM    4  C4  UNL     1      -2.418  -0.560   0.291  1.00  0.00           C  \nHETATM    5  C5  UNL     1      -3.000   0.800   0.414  1.00  0.00           C  \nHETATM    6  C6  UNL     1      -1.611  -0.802  -0.932  1.00  0.00           C  \nHETATM    7  C7  UNL     1      -2.328  -0.619  -2.219  1.00  0.00           C  \nHETATM    8  C8  UNL     1      -1.381  -0.899  -3.311  1.00  0.00           C  \nHETATM    9  N1  UNL     1      -0.641  -1.101  -4.179  1.00  0.00           N  \nHETATM   10  N2  UNL     1      -0.457   0.108  -0.872  1.00  0.00           N  \nHETATM   11  C9  UNL     1       0.668  -0.059  -0.154  1.00  0.00           C  \nHETATM   12  C10 UNL     1       1.542   0.994  -0.335  1.00  0.00           C  \nHETATM   13  C11 UNL     1       0.873   1.830  -1.224  1.00  0.00           C  \nHETATM   14  N3  UNL     1      -0.311   1.256  -1.511  1.00  0.00           N  \nHETATM   15  C12 UNL     1       2.864   1.231   0.236  1.00  0.00           C  \nHETATM   16  C13 UNL     1       3.806   0.220   0.284  1.00  0.00           C  \nHETATM   17  C14 UNL     1       3.762  -1.088  -0.131  1.00  0.00           C  \nHETATM   18  C15 UNL     1       4.986  -1.657   0.158  1.00  0.00           C  \nHETATM   19  N4  UNL     1       5.765  -0.725   0.737  1.00  0.00           N  \nHETATM   20  C16 UNL     1       5.072   0.425   0.825  1.00  0.00           C  \nHETATM   21  N5  UNL     1       5.348   1.652   1.302  1.00  0.00           N  \nHETATM   22  C17 UNL     1       4.437   2.642   1.260  1.00  0.00           C  \nHETATM   23  N6  UNL     1       3.223   2.434   0.738  1.00  0.00           N  \nHETATM   24  H1  UNL     1      -4.957   1.168   1.314  1.00  0.00           H  \nHETATM   25  H2  UNL     1      -3.571   1.021   2.498  1.00  0.00           H  \nHETATM   26  H3  UNL     1      -3.729  -1.298   2.540  1.00  0.00           H  \nHETATM   27  H4  UNL     1      -5.338  -1.091   1.727  1.00  0.00           H  \nHETATM   28  H5  UNL     1      -3.344  -2.514   0.592  1.00  0.00           H  \nHETATM   29  H6  UNL     1      -4.338  -1.332  -0.410  1.00  0.00           H  \nHETATM   30  H7  UNL     1      -1.774  -0.746   1.174  1.00  0.00           H  \nHETATM   31  H8  UNL     1      -3.559   1.124  -0.489  1.00  0.00           H  \nHETATM   32  H9  UNL     1      -2.298   1.591   0.691  1.00  0.00           H  \nHETATM   33  H10 UNL     1      -1.212  -1.835  -0.888  1.00  0.00           H  \nHETATM   34  H11 UNL     1      -2.655   0.435  -2.363  1.00  0.00           H  \nHETATM   35  H12 UNL     1      -3.147  -1.340  -2.320  1.00  0.00           H  \nHETATM   36  H13 UNL     1       0.840  -0.906   0.471  1.00  0.00           H  \nHETATM   37  H14 UNL     1       1.257   2.768  -1.601  1.00  0.00           H  \nHETATM   38  H15 UNL     1       2.892  -1.531  -0.595  1.00  0.00           H  \nHETATM   39  H16 UNL     1       5.218  -2.700  -0.072  1.00  0.00           H  \nHETATM   40  H17 UNL     1       6.746  -0.879   1.060  1.00  0.00           H  \nHETATM   41  H18 UNL     1       4.656   3.648   1.649  1.00  0.00           H  \nCONECT    1    2    5   24   25\nCONECT    2    3   26   27\nCONECT    3    4   28   29\nCONECT    4    5    6   30\nCONECT    5   31   32\nCONECT    6    7   10   33\nCONECT    7    8   34   35\nCONECT    8    9    9    9\nCONECT   10   11   14\nCONECT   11   12   12   36\nCONECT   12   13   15\nCONECT   13   14   14   37\nCONECT   15   16   16   23\nCONECT   16   17   20\nCONECT   17   18   18   38\nCONECT   18   19   39\nCONECT   19   20   40\nCONECT   20   21   21\nCONECT   21   22\nCONECT   22   23   23   41\nENDMDL\nMODEL        9\nHETATM    1  C1  UNL     1      -4.256  -2.266  -0.771  1.00  0.00           C  \nHETATM    2  C2  UNL     1      -4.249  -1.266   0.376  1.00  0.00           C  \nHETATM    3  C3  UNL     1      -2.796  -0.949   0.525  1.00  0.00           C  \nHETATM    4  C4  UNL     1      -2.238  -1.061  -0.880  1.00  0.00           C  \nHETATM    5  C5  UNL     1      -3.326  -1.575  -1.759  1.00  0.00           C  \nHETATM    6  C6  UNL     1      -1.647   0.242  -1.306  1.00  0.00           C  \nHETATM    7  C7  UNL     1      -2.631   1.370  -1.315  1.00  0.00           C  \nHETATM    8  C8  UNL     1      -1.907   2.587  -1.754  1.00  0.00           C  \nHETATM    9  N1  UNL     1      -1.337   3.532  -2.102  1.00  0.00           N  \nHETATM   10  N2  UNL     1      -0.521   0.519  -0.409  1.00  0.00           N  \nHETATM   11  C9  UNL     1       0.622  -0.167  -0.444  1.00  0.00           C  \nHETATM   12  C10 UNL     1       1.467   0.341   0.523  1.00  0.00           C  \nHETATM   13  C11 UNL     1       0.779   1.361   1.137  1.00  0.00           C  \nHETATM   14  N3  UNL     1      -0.416   1.420   0.530  1.00  0.00           N  \nHETATM   15  C12 UNL     1       2.823  -0.122   0.825  1.00  0.00           C  \nHETATM   16  C13 UNL     1       3.869   0.750   1.021  1.00  0.00           C  \nHETATM   17  C14 UNL     1       3.949   2.144   0.996  1.00  0.00           C  \nHETATM   18  C15 UNL     1       5.280   2.434   1.270  1.00  0.00           C  \nHETATM   19  N4  UNL     1       5.938   1.280   1.445  1.00  0.00           N  \nHETATM   20  C16 UNL     1       5.115   0.231   1.302  1.00  0.00           C  \nHETATM   21  N5  UNL     1       5.321  -1.117   1.387  1.00  0.00           N  \nHETATM   22  C17 UNL     1       4.286  -1.941   1.192  1.00  0.00           C  \nHETATM   23  N6  UNL     1       3.083  -1.436   0.920  1.00  0.00           N  \nHETATM   24  H1  UNL     1      -5.256  -2.417  -1.188  1.00  0.00           H  \nHETATM   25  H2  UNL     1      -3.784  -3.196  -0.402  1.00  0.00           H  \nHETATM   26  H3  UNL     1      -4.851  -0.390   0.087  1.00  0.00           H  \nHETATM   27  H4  UNL     1      -4.667  -1.776   1.275  1.00  0.00           H  \nHETATM   28  H5  UNL     1      -2.613   0.050   0.940  1.00  0.00           H  \nHETATM   29  H6  UNL     1      -2.297  -1.726   1.155  1.00  0.00           H  \nHETATM   30  H7  UNL     1      -1.403  -1.819  -0.916  1.00  0.00           H  \nHETATM   31  H8  UNL     1      -2.960  -2.395  -2.442  1.00  0.00           H  \nHETATM   32  H9  UNL     1      -3.874  -0.829  -2.327  1.00  0.00           H  \nHETATM   33  H10 UNL     1      -1.262   0.125  -2.347  1.00  0.00           H  \nHETATM   34  H11 UNL     1      -3.124   1.543  -0.353  1.00  0.00           H  \nHETATM   35  H12 UNL     1      -3.397   1.138  -2.082  1.00  0.00           H  \nHETATM   36  H13 UNL     1       0.900  -1.003  -1.106  1.00  0.00           H  \nHETATM   37  H14 UNL     1       1.178   1.964   1.948  1.00  0.00           H  \nHETATM   38  H15 UNL     1       3.120   2.809   0.799  1.00  0.00           H  \nHETATM   39  H16 UNL     1       5.670   3.431   1.323  1.00  0.00           H  \nHETATM   40  H17 UNL     1       6.945   1.208   1.662  1.00  0.00           H  \nHETATM   41  H18 UNL     1       4.468  -3.026   1.264  1.00  0.00           H  \nCONECT    1    2    5   24   25\nCONECT    2    3   26   27\nCONECT    3    4   28   29\nCONECT    4    5    6   30\nCONECT    5   31   32\nCONECT    6    7   10   33\nCONECT    7    8   34   35\nCONECT    8    9    9    9\nCONECT   10   11   14\nCONECT   11   12   12   36\nCONECT   12   13   15\nCONECT   13   14   14   37\nCONECT   15   16   16   23\nCONECT   16   17   20\nCONECT   17   18   18   38\nCONECT   18   19   39\nCONECT   19   20   40\nCONECT   20   21   21\nCONECT   21   22\nCONECT   22   23   23   41\nENDMDL\nMODEL       10\nHETATM    1  C1  UNL     1      -3.869   1.593   0.482  1.00  0.00           C  \nHETATM    2  C2  UNL     1      -4.484   1.001  -0.764  1.00  0.00           C  \nHETATM    3  C3  UNL     1      -3.909  -0.416  -0.739  1.00  0.00           C  \nHETATM    4  C4  UNL     1      -2.492  -0.167  -0.365  1.00  0.00           C  \nHETATM    5  C5  UNL     1      -2.436   1.147   0.381  1.00  0.00           C  \nHETATM    6  C6  UNL     1      -1.797  -1.265   0.365  1.00  0.00           C  \nHETATM    7  C7  UNL     1      -1.735  -2.535  -0.420  1.00  0.00           C  \nHETATM    8  C8  UNL     1      -3.042  -3.050  -0.739  1.00  0.00           C  \nHETATM    9  N1  UNL     1      -4.095  -3.497  -0.996  1.00  0.00           N  \nHETATM   10  N2  UNL     1      -0.450  -0.805   0.656  1.00  0.00           N  \nHETATM   11  C9  UNL     1       0.315  -0.127  -0.205  1.00  0.00           C  \nHETATM   12  C10 UNL     1       1.507   0.123   0.441  1.00  0.00           C  \nHETATM   13  C11 UNL     1       1.424  -0.421   1.693  1.00  0.00           C  \nHETATM   14  N3  UNL     1       0.204  -0.980   1.781  1.00  0.00           N  \nHETATM   15  C12 UNL     1       2.640   0.835  -0.115  1.00  0.00           C  \nHETATM   16  C13 UNL     1       3.915   0.370   0.026  1.00  0.00           C  \nHETATM   17  C14 UNL     1       4.448  -0.748   0.645  1.00  0.00           C  \nHETATM   18  C15 UNL     1       5.807  -0.732   0.486  1.00  0.00           C  \nHETATM   19  N4  UNL     1       6.137   0.366  -0.216  1.00  0.00           N  \nHETATM   20  C16 UNL     1       5.015   1.048  -0.506  1.00  0.00           C  \nHETATM   21  N5  UNL     1       4.758   2.185  -1.166  1.00  0.00           N  \nHETATM   22  C17 UNL     1       3.497   2.654  -1.311  1.00  0.00           C  \nHETATM   23  N6  UNL     1       2.446   1.995  -0.796  1.00  0.00           N  \nHETATM   24  H1  UNL     1      -4.337   1.212   1.399  1.00  0.00           H  \nHETATM   25  H2  UNL     1      -3.981   2.691   0.449  1.00  0.00           H  \nHETATM   26  H3  UNL     1      -5.577   1.008  -0.755  1.00  0.00           H  \nHETATM   27  H4  UNL     1      -4.033   1.515  -1.642  1.00  0.00           H  \nHETATM   28  H5  UNL     1      -4.440  -0.957   0.045  1.00  0.00           H  \nHETATM   29  H6  UNL     1      -4.038  -0.841  -1.754  1.00  0.00           H  \nHETATM   30  H7  UNL     1      -1.914  -0.005  -1.316  1.00  0.00           H  \nHETATM   31  H8  UNL     1      -2.001   1.024   1.404  1.00  0.00           H  \nHETATM   32  H9  UNL     1      -1.887   1.927  -0.177  1.00  0.00           H  \nHETATM   33  H10 UNL     1      -2.340  -1.452   1.340  1.00  0.00           H  \nHETATM   34  H11 UNL     1      -1.173  -2.392  -1.377  1.00  0.00           H  \nHETATM   35  H12 UNL     1      -1.113  -3.288   0.148  1.00  0.00           H  \nHETATM   36  H13 UNL     1       0.114   0.195  -1.214  1.00  0.00           H  \nHETATM   37  H14 UNL     1       2.155  -0.433   2.498  1.00  0.00           H  \nHETATM   38  H15 UNL     1       3.845  -1.483   1.157  1.00  0.00           H  \nHETATM   39  H16 UNL     1       6.467  -1.512   0.886  1.00  0.00           H  \nHETATM   40  H17 UNL     1       7.098   0.644  -0.490  1.00  0.00           H  \nHETATM   41  H18 UNL     1       3.351   3.574  -1.853  1.00  0.00           H  \nCONECT    1    2    5   24   25\nCONECT    2    3   26   27\nCONECT    3    4   28   29\nCONECT    4    5    6   30\nCONECT    5   31   32\nCONECT    6    7   10   33\nCONECT    7    8   34   35\nCONECT    8    9    9    9\nCONECT   10   11   14\nCONECT   11   12   12   36\nCONECT   12   13   15\nCONECT   13   14   14   37\nCONECT   15   16   16   23\nCONECT   16   17   20\nCONECT   17   18   18   38\nCONECT   18   19   39\nCONECT   19   20   40\nCONECT   20   21   21\nCONECT   21   22\nCONECT   22   23   23   41\nENDMDL\n",
           "type": "blob"
          }
         ],
         "kwargs": {
          "defaultRepresentation": true,
          "ext": "pdb",
          "name": "<openff.toolkit.utils.viz._OFFTrajectoryNGLView object at 0x1675bd610>"
         },
         "methodName": "loadFile",
         "reconstruc_color_scheme": false,
         "target": "Stage",
         "type": "call_method"
        }
       ],
       "_ngl_original_stage_parameters": {},
       "_ngl_repr_dict": {},
       "_ngl_serialize": false,
       "_ngl_version": "",
       "_ngl_view_id": [],
       "_player_dict": {},
       "_scene_position": {},
       "_scene_rotation": {},
       "_synced_model_ids": [],
       "_synced_repr_model_ids": [],
       "_view_count": null,
       "_view_height": "",
       "_view_module": "nglview-js-widgets",
       "_view_module_version": "3.0.6",
       "_view_name": "NGLView",
       "_view_width": "",
       "background": "white",
       "frame": 0,
       "gui_style": null,
       "layout": "IPY_MODEL_c4acad93656048c8925d9ca0d7ee7672",
       "max_frame": 9,
       "n_components": 0,
       "picked": {},
       "tabbable": null,
       "tooltip": null
      }
     },
     "fd04e7f234f0475d9484d2899f6a81ff": {
      "model_module": "@jupyter-widgets/controls",
      "model_module_version": "2.0.0",
      "model_name": "PlayModel",
      "state": {
       "_dom_classes": [],
       "_model_module": "@jupyter-widgets/controls",
       "_model_module_version": "2.0.0",
       "_model_name": "PlayModel",
       "_view_count": null,
       "_view_module": "@jupyter-widgets/controls",
       "_view_module_version": "2.0.0",
       "_view_name": "PlayView",
       "description": "",
       "description_allow_html": false,
       "disabled": false,
       "interval": 100,
       "layout": "IPY_MODEL_5c6cae872aba4c56b5d7c6aba8668c1f",
       "max": 9,
       "min": 0,
       "playing": false,
       "repeat": false,
       "show_repeat": true,
       "step": 1,
       "style": "IPY_MODEL_ac1f5d08be42461680d3c940eda9c749",
       "tabbable": null,
       "tooltip": null,
       "value": 0
      }
     },
     "fe10117e9bfe427994dac5742ea6a151": {
      "buffers": [
       {
        "data": "",
        "encoding": "base64",
        "path": [
         "value"
        ]
       }
      ],
      "model_module": "@jupyter-widgets/controls",
      "model_module_version": "2.0.0",
      "model_name": "ImageModel",
      "state": {
       "_dom_classes": [],
       "_model_module": "@jupyter-widgets/controls",
       "_model_module_version": "2.0.0",
       "_model_name": "ImageModel",
       "_view_count": null,
       "_view_module": "@jupyter-widgets/controls",
       "_view_module_version": "2.0.0",
       "_view_name": "ImageView",
       "format": "png",
       "height": "",
       "layout": "IPY_MODEL_b720c1ea7f3e49908b5aa594193d47f2",
       "tabbable": null,
       "tooltip": null,
       "width": "900.0"
      }
     }
    },
    "version_major": 2,
    "version_minor": 0
   }
  }
 },
 "nbformat": 4,
 "nbformat_minor": 4
}

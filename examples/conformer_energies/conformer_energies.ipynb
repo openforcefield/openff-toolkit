{
 "cells": [
  {
   "cell_type": "markdown",
   "metadata": {
    "tags": []
   },
   "source": [
    "# Compute conformer energies for a small molecule\n",
    "\n",
    "This notebook illustrates reading conformers of a molecule from an SDF file and computation of vacuum conformer energies using a SMIRNOFF force field.\n",
    "\n",
    "Note that absolute vacuum potential energies can be sensitive to small changes in partial charge, for example due to using OpenEye or AmberTools to generate AM1-BCC charges. However, in our experience, _relative_ conformer energies are fairly consistent between AM1-BCC implementations.\n",
    "\n",
    "Note also that the Open Force Field Toolkit produces deterministic charges that do not depend on the input conformation of parameterized molecules. See the [FAQ](https://open-forcefield-toolkit.readthedocs.io/en/stable/faq.html#the-partial-charges-generated-by-the-toolkit-don-t-seem-to-depend-on-the-molecule-s-conformation-is-this-a-bug) for more information."
   ]
  },
  {
   "cell_type": "code",
   "execution_count": 1,
   "metadata": {
    "tags": []
   },
   "outputs": [
    {
     "data": {
      "application/vnd.jupyter.widget-view+json": {
       "model_id": "49f030508eac483191b9cc5ae2847362",
       "version_major": 2,
       "version_minor": 0
      },
      "text/plain": []
     },
     "metadata": {},
     "output_type": "display_data"
    }
   ],
   "source": [
    "import openmm\n",
    "from openff.interchange import Interchange\n",
    "from openff.units.openmm import from_openmm, to_openmm\n",
    "from openmm import unit as openmm_unit\n",
    "from rdkit.Chem import rdMolAlign\n",
    "\n",
    "from openff.toolkit import ForceField, Molecule\n",
    "from openff.toolkit.utils import get_data_file_path"
   ]
  },
  {
   "cell_type": "code",
   "execution_count": 2,
   "metadata": {},
   "outputs": [
    {
     "name": "stdout",
     "output_type": "stream",
     "text": [
      "Loaded 10 conformers of 'c1nc(c2c(n1)NC=C2)C3=CN(N=C3)[C@H](CC#N)C4CCCC4'\n",
      "       and 0 other molecules\n"
     ]
    },
    {
     "data": {
      "application/vnd.jupyter.widget-view+json": {
       "model_id": "97a1e30231144a93807bb528f95fcc5f",
       "version_major": 2,
       "version_minor": 0
      },
      "text/plain": [
       "NGLWidget(max_frame=9)"
      ]
     },
     "metadata": {},
     "output_type": "display_data"
    }
   ],
   "source": [
    "loaded_molecules = Molecule.from_file(\n",
    "    get_data_file_path(\"molecules/ruxolitinib_conformers.sdf\"),\n",
    ")\n",
    "\n",
    "# Normalize to list\n",
    "try:\n",
    "    loaded_molecules = [*loaded_molecules]\n",
    "except TypeError:\n",
    "    loaded_molecules = [loaded_molecules]\n",
    "\n",
    "# from_file loads each entry in the SDF into its own molecule,\n",
    "# so collapse conformers into molecules\n",
    "molecules = []\n",
    "for next_molecule in loaded_molecules:\n",
    "    if next_molecule in molecules:\n",
    "        saved_molecule = molecules[molecules.index(next_molecule)]\n",
    "        for conformer in next_molecule.conformers:\n",
    "            saved_molecule.add_conformer(conformer)\n",
    "    else:\n",
    "        molecules.append(next_molecule)\n",
    "\n",
    "print(\n",
    "    f\"Loaded {molecules[0].n_conformers} conformers\"\n",
    "    + f\" of {molecules[0].to_smiles(explicit_hydrogens=False)!r}\"\n",
    "    + f\"\\n       and {len(molecules) - 1} other molecules\"\n",
    ")\n",
    "molecules[0]"
   ]
  },
  {
   "cell_type": "code",
   "execution_count": 3,
   "metadata": {
    "tags": []
   },
   "outputs": [],
   "source": [
    "# Load the openff-2.1.0 force field appropriate for vacuum calculations (without constraints)\n",
    "forcefield = ForceField(\"openff_unconstrained-2.1.0.offxml\")"
   ]
  },
  {
   "cell_type": "code",
   "execution_count": 4,
   "metadata": {
    "tags": []
   },
   "outputs": [
    {
     "name": "stdout",
     "output_type": "stream",
     "text": [
      "ruxolitinib: 10 conformers\n",
      "Parametrizing ruxolitinib (may take a moment to calculate charges)\n"
     ]
    },
    {
     "name": "stderr",
     "output_type": "stream",
     "text": [
      "Warning: Cannot perform Hydrogen sampling with GPU-Omega: GPU-Omega disabled.\n"
     ]
    },
    {
     "name": "stdout",
     "output_type": "stream",
     "text": [
      "Conformer         Initial PE        Minimized PE        RMSD\n",
      "    1 /    10 :   -62.294 kcal/mol  -95.481 kcal/mol    0.505 Å\n",
      "    2 /    10 :   -55.582 kcal/mol  -92.723 kcal/mol    0.490 Å\n",
      "    3 /    10 :   -17.811 kcal/mol  -92.900 kcal/mol    0.891 Å\n",
      "    4 /    10 :   -53.680 kcal/mol  -94.485 kcal/mol    0.756 Å\n",
      "    5 /    10 :   -54.243 kcal/mol  -92.087 kcal/mol    0.842 Å\n",
      "    6 /    10 :   -56.083 kcal/mol  -94.656 kcal/mol    0.594 Å\n",
      "    7 /    10 :   -53.253 kcal/mol  -92.893 kcal/mol    1.031 Å\n",
      "    8 /    10 :   -63.596 kcal/mol  -94.760 kcal/mol    0.364 Å\n",
      "    9 /    10 :   -60.427 kcal/mol  -95.257 kcal/mol    0.783 Å\n",
      "   10 /    10 :   -55.957 kcal/mol  -95.356 kcal/mol    0.682 Å\n"
     ]
    }
   ],
   "source": [
    "for molecule in molecules:\n",
    "    if not molecule.name:\n",
    "        molecule.name = molecule.to_hill_formula()\n",
    "    n_confs = molecule.n_conformers\n",
    "    print(f\"{molecule.name}: {n_confs} conformers\")\n",
    "\n",
    "    print(f\"Parametrizing {molecule.name} (may take a moment to calculate charges)\")\n",
    "    interchange = Interchange.from_smirnoff(forcefield, [molecule])\n",
    "\n",
    "    integrator = openmm.VerletIntegrator(1 * openmm_unit.femtoseconds)\n",
    "    simulation = interchange.to_openmm_simulation(integrator)\n",
    "\n",
    "    # Make a temporary copy of the molecule that we can update for each minimization\n",
    "    mol_copy = Molecule(molecule)\n",
    "\n",
    "    # Print text header\n",
    "    print(\"Conformer         Initial PE        Minimized PE        RMSD\")\n",
    "    output = [\n",
    "        [\n",
    "            \"Conformer\",\n",
    "            \"Initial PE (kcal/mol)\",\n",
    "            \"Minimized PE (kcal/mol)\",\n",
    "            \"RMSD between initial and minimized conformer (Angstrom)\",\n",
    "        ]\n",
    "    ]\n",
    "    for conformer_index, conformer in enumerate(molecule.conformers):\n",
    "        # Set positions and get initial energy\n",
    "        simulation.context.setPositions(to_openmm(conformer))\n",
    "        orig_potential = simulation.context.getState(\n",
    "            getEnergy=True\n",
    "        ).getPotentialEnergy()\n",
    "\n",
    "        # Perform the minimization\n",
    "        simulation.minimizeEnergy()\n",
    "\n",
    "        # Energy minimisation is done, but let's thoroughly record what we got\n",
    "\n",
    "        min_state = simulation.context.getState(getEnergy=True, getPositions=True)\n",
    "        min_potential = min_state.getPotentialEnergy()\n",
    "        min_coords = from_openmm(min_state.getPositions())\n",
    "\n",
    "        mol_copy.add_conformer(conformer)\n",
    "\n",
    "        # Save the minimized conformer to file\n",
    "        del mol_copy.conformers[:]\n",
    "        mol_copy.add_conformer(min_coords)\n",
    "        mol_copy.to_file(\n",
    "            f\"{molecule.name}_conf{conformer_index+1}_minimized.sdf\",\n",
    "            file_format=\"sdf\",\n",
    "        )\n",
    "\n",
    "        # Calculate the RMSD between the initial and minimized conformer\n",
    "        mol_copy.add_conformer(conformer)\n",
    "        rdmol = mol_copy.to_rdkit()\n",
    "        rmslist = []\n",
    "        rdMolAlign.AlignMolConformers(rdmol, RMSlist=rmslist)\n",
    "        minimization_rms = rmslist[0]\n",
    "\n",
    "        # Record the results\n",
    "        output.append(\n",
    "            [\n",
    "                conformer_index + 1,\n",
    "                orig_potential.value_in_unit(openmm_unit.kilocalories_per_mole),\n",
    "                min_potential.value_in_unit(openmm_unit.kilocalories_per_mole),\n",
    "                minimization_rms,\n",
    "            ]\n",
    "        )\n",
    "        print(\n",
    "            f\"{{:5d}} / {n_confs:5d} :  {{:8.3f}} kcal/mol {{:8.3f}} kcal/mol {{:8.3f}} Å\".format(\n",
    "                *output[-1]\n",
    "            )\n",
    "        )\n",
    "\n",
    "    # Write the results out to CSV\n",
    "    with open(f\"{molecule.name}.csv\", \"w\") as of:\n",
    "        of.write(\", \".join(output.pop(0)) + \"\\n\")\n",
    "        for line in output:\n",
    "            of.write(\"{}, {:.3f}, {:.3f}, {:.3f}\".format(*line) + \"\\n\")"
   ]
  },
  {
   "cell_type": "code",
   "execution_count": null,
   "metadata": {},
   "outputs": [],
   "source": []
  }
 ],
 "metadata": {
  "kernelspec": {
   "display_name": "Python 3 (ipykernel)",
   "language": "python",
   "name": "python3"
  },
  "language_info": {
   "codemirror_mode": {
    "name": "ipython",
    "version": 3
   },
   "file_extension": ".py",
   "mimetype": "text/x-python",
   "name": "python",
   "nbconvert_exporter": "python",
   "pygments_lexer": "ipython3",
   "version": "3.11.4"
  },
  "widgets": {
   "application/vnd.jupyter.widget-state+json": {
    "state": {
     "0fd06c1293c049e6b849baa29d9bc818": {
      "model_module": "@jupyter-widgets/controls",
      "model_module_version": "1.5.0",
      "model_name": "DescriptionStyleModel",
      "state": {
       "description_width": ""
      }
     },
     "1065745913334194a935a467f202bc33": {
      "model_module": "@jupyter-widgets/controls",
      "model_module_version": "1.5.0",
      "model_name": "LinkModel",
      "state": {
       "source": [
        "IPY_MODEL_212722edd8854d5f8e5ae6854ef6cede",
        "max"
       ],
       "target": [
        "IPY_MODEL_97a1e30231144a93807bb528f95fcc5f",
        "max_frame"
       ]
      }
     },
     "1eeffff8ecc546c5b60d353e3fa12a65": {
      "model_module": "@jupyter-widgets/controls",
      "model_module_version": "1.5.0",
      "model_name": "HBoxModel",
      "state": {
       "children": [
        "IPY_MODEL_212722edd8854d5f8e5ae6854ef6cede",
        "IPY_MODEL_c10f3fc4e96a4ae0ade7a5e941facfcf"
       ],
       "layout": "IPY_MODEL_d5daf451b58e4c2e82b7b7415925fde5"
      }
     },
     "212722edd8854d5f8e5ae6854ef6cede": {
      "model_module": "@jupyter-widgets/controls",
      "model_module_version": "1.5.0",
      "model_name": "PlayModel",
      "state": {
       "layout": "IPY_MODEL_7e330d6e4c634560b2dd7db05dd104d8",
       "max": 9,
       "style": "IPY_MODEL_0fd06c1293c049e6b849baa29d9bc818"
      }
     },
     "398ef097fe6e4929afbab6041c09bb47": {
      "model_module": "@jupyter-widgets/base",
      "model_module_version": "1.2.0",
      "model_name": "LayoutModel",
      "state": {
       "width": "34px"
      }
     },
     "3abe1020341d49f5828666f1041faff0": {
      "model_module": "@jupyter-widgets/controls",
      "model_module_version": "1.5.0",
      "model_name": "ButtonStyleModel",
      "state": {}
     },
     "49f030508eac483191b9cc5ae2847362": {
      "model_module": "nglview-js-widgets",
      "model_module_version": "3.0.6",
      "model_name": "ColormakerRegistryModel",
      "state": {
       "_msg_ar": [],
       "_msg_q": [],
       "_ready": true,
       "layout": "IPY_MODEL_83a064be4543417b87a045a64e4712e4"
      }
     },
     "5853cdedebee48b8bf12a13b72f77170": {
      "model_module": "@jupyter-widgets/controls",
      "model_module_version": "1.5.0",
      "model_name": "SliderStyleModel",
      "state": {
       "description_width": ""
      }
     },
     "7e330d6e4c634560b2dd7db05dd104d8": {
      "model_module": "@jupyter-widgets/base",
      "model_module_version": "1.2.0",
      "model_name": "LayoutModel",
      "state": {}
     },
     "83a064be4543417b87a045a64e4712e4": {
      "model_module": "@jupyter-widgets/base",
      "model_module_version": "1.2.0",
      "model_name": "LayoutModel",
      "state": {}
     },
     "97a1e30231144a93807bb528f95fcc5f": {
      "model_module": "nglview-js-widgets",
      "model_module_version": "3.0.6",
      "model_name": "NGLModel",
      "state": {
       "_camera_orientation": [
        29.149930833954297,
        0,
        0,
        0,
        0,
        29.149930833954297,
        0,
        0,
        0,
        0,
        29.149930833954297,
        0,
        -0.6589999198913574,
        0.7124999761581421,
        0.6180000305175781,
        1
       ],
       "_camera_str": "orthographic",
       "_gui_theme": null,
       "_ibtn_fullscreen": "IPY_MODEL_9fd86afc057040e4a1d7999fdd7be823",
       "_igui": null,
       "_iplayer": "IPY_MODEL_1eeffff8ecc546c5b60d353e3fa12a65",
       "_ngl_color_dict": {},
       "_ngl_coordinate_resource": {},
       "_ngl_full_stage_parameters": {
        "ambientColor": 14540253,
        "ambientIntensity": 0.2,
        "backgroundColor": "white",
        "cameraEyeSep": 0.3,
        "cameraFov": 40,
        "cameraType": "perspective",
        "clipDist": 10,
        "clipFar": 100,
        "clipMode": "scene",
        "clipNear": 0,
        "clipScale": "relative",
        "fogFar": 100,
        "fogNear": 50,
        "hoverTimeout": 0,
        "impostor": true,
        "lightColor": 14540253,
        "lightIntensity": 1,
        "mousePreset": "default",
        "panSpeed": 1,
        "quality": "medium",
        "rotateSpeed": 2,
        "sampleLevel": 0,
        "tooltip": true,
        "workerDefault": true,
        "zoomSpeed": 1.2
       },
       "_ngl_msg_archive": [
        {
         "args": [
          {
           "binary": false,
           "data": "COMPND    ruxolitinib\nATOM      1  C   UNL     1      -4.228   0.259   1.742  1.00 20.00 \nATOM      2  C   UNL     1      -4.975   0.277   0.401  1.00 20.00 \nATOM      3  C   UNL     1      -4.194  -0.800  -0.350  1.00 20.00 \nATOM      4  C   UNL     1      -2.777  -0.582   0.089  1.00 20.00 \nATOM      5  C   UNL     1      -2.786   0.385   1.234  1.00 20.00 \nATOM      6  C   UNL     1      -1.860  -0.161  -1.011  1.00 20.00 \nATOM      7  C   UNL     1      -2.263   1.127  -1.668  1.00 20.00 \nATOM      8  C   UNL     1      -1.288   1.441  -2.734  1.00 20.00 \nATOM      9  N   UNL     1      -0.536   1.672  -3.579  1.00 20.00 \nATOM     10  N   UNL     1      -0.523  -0.024  -0.436  1.00 20.00 \nATOM     11  C   UNL     1       0.522  -0.853  -0.559  1.00 20.00 \nATOM     12  C   UNL     1       1.614  -0.346   0.152  1.00 20.00 \nATOM     13  C   UNL     1       1.147   0.827   0.698  1.00 20.00 \nATOM     14  N   UNL     1      -0.129   0.982   0.325  1.00 20.00 \nATOM     15  C   UNL     1       2.951  -0.907   0.300  1.00 20.00 \nATOM     16  C   UNL     1       4.102  -0.147   0.178  1.00 20.00 \nATOM     17  C   UNL     1       4.294   1.195  -0.087  1.00 20.00 \nATOM     18  C   UNL     1       5.673   1.409  -0.094  1.00 20.00 \nATOM     19  N   UNL     1       6.310   0.251   0.156  1.00 20.00 \nATOM     20  C   UNL     1       5.362  -0.690   0.320  1.00 20.00 \nATOM     21  N   UNL     1       5.471  -2.004   0.587  1.00 20.00 \nATOM     22  C   UNL     1       4.351  -2.761   0.710  1.00 20.00 \nATOM     23  N   UNL     1       3.122  -2.214   0.568  1.00 20.00 \nATOM     24  H   UNL     1      -4.355  -0.708   2.231  1.00 20.00 \nATOM     25  H   UNL     1      -4.505   1.135   2.343  1.00 20.00 \nATOM     26  H   UNL     1      -6.032   0.027   0.517  1.00 20.00 \nATOM     27  H   UNL     1      -4.806   1.273  -0.034  1.00 20.00 \nATOM     28  H   UNL     1      -4.544  -1.765   0.067  1.00 20.00 \nATOM     29  H   UNL     1      -4.349  -0.744  -1.431  1.00 20.00 \nATOM     30  H   UNL     1      -2.348  -1.544   0.501  1.00 20.00 \nATOM     31  H   UNL     1      -2.662   1.439   0.951  1.00 20.00 \nATOM     32  H   UNL     1      -2.071   0.080   2.039  1.00 20.00 \nATOM     33  H   UNL     1      -1.816  -0.936  -1.791  1.00 20.00 \nATOM     34  H   UNL     1      -2.333   1.986  -0.981  1.00 20.00 \nATOM     35  H   UNL     1      -3.235   1.027  -2.166  1.00 20.00 \nATOM     36  H   UNL     1       0.563  -1.769  -1.105  1.00 20.00 \nATOM     37  H   UNL     1       1.684   1.520   1.320  1.00 20.00 \nATOM     38  H   UNL     1       3.500   1.888  -0.248  1.00 20.00 \nATOM     39  H   UNL     1       6.098   2.387  -0.280  1.00 20.00 \nATOM     40  H   UNL     1       7.350   0.179   0.198  1.00 20.00 \nATOM     41  H   UNL     1       4.501  -3.812   0.926  1.00 20.00 \nTER      42      UNL     1 \nCONECT    1    2    5   24   25\nCONECT    2    3   26   27\nCONECT    3    4   28   29\nCONECT    4    5    6   30\nCONECT    5   31   32\nCONECT    6    7   10   33\nCONECT    7    8   34   35\nCONECT    8    9\nCONECT   10   11   14\nCONECT   11   12   36\nCONECT   12   13   15\nCONECT   13   14   37\nCONECT   15   16   23\nCONECT   16   17   20\nCONECT   17   18   38\nCONECT   18   19   39\nCONECT   19   20   40\nCONECT   20   21\nCONECT   21   22\nCONECT   22   23   41\nMASTER        0    0    0    0    0    0    0    0   41    1   20    0\n",
           "type": "blob"
          }
         ],
         "kwargs": {
          "defaultRepresentation": true,
          "ext": "pdb",
          "name": "<openff.toolkit.utils.viz._OFFTrajectoryNGLView object at 0x7fd2b3a379d0>"
         },
         "methodName": "loadFile",
         "reconstruc_color_scheme": false,
         "target": "Stage",
         "type": "call_method"
        }
       ],
       "_ngl_original_stage_parameters": {
        "ambientColor": 14540253,
        "ambientIntensity": 0.2,
        "backgroundColor": "white",
        "cameraEyeSep": 0.3,
        "cameraFov": 40,
        "cameraType": "perspective",
        "clipDist": 10,
        "clipFar": 100,
        "clipMode": "scene",
        "clipNear": 0,
        "clipScale": "relative",
        "fogFar": 100,
        "fogNear": 50,
        "hoverTimeout": 0,
        "impostor": true,
        "lightColor": 14540253,
        "lightIntensity": 1,
        "mousePreset": "default",
        "panSpeed": 1,
        "quality": "medium",
        "rotateSpeed": 2,
        "sampleLevel": 0,
        "tooltip": true,
        "workerDefault": true,
        "zoomSpeed": 1.2
       },
       "_ngl_repr_dict": {
        "0": {
         "0": {
          "params": {
           "aspectRatio": 1.5,
           "assembly": "default",
           "bondScale": 0.3,
           "bondSpacing": 0.75,
           "clipCenter": {
            "x": 0,
            "y": 0,
            "z": 0
           },
           "clipNear": 0,
           "clipRadius": 0,
           "colorMode": "hcl",
           "colorReverse": false,
           "colorScale": "",
           "colorScheme": "element",
           "colorValue": 9474192,
           "cylinderOnly": false,
           "defaultAssembly": "",
           "depthWrite": true,
           "diffuse": 16777215,
           "diffuseInterior": false,
           "disableImpostor": false,
           "disablePicking": false,
           "flatShaded": false,
           "interiorColor": 2236962,
           "interiorDarkening": 0,
           "lazy": false,
           "lineOnly": false,
           "linewidth": 2,
           "matrix": {
            "elements": [
             1,
             0,
             0,
             0,
             0,
             1,
             0,
             0,
             0,
             0,
             1,
             0,
             0,
             0,
             0,
             1
            ]
           },
           "metalness": 0,
           "multipleBond": "off",
           "opacity": 1,
           "openEnded": true,
           "quality": "high",
           "radialSegments": 20,
           "radiusData": {},
           "radiusScale": 2,
           "radiusSize": 0.15,
           "radiusType": "size",
           "roughness": 0.4,
           "sele": "",
           "side": "double",
           "sphereDetail": 2,
           "useInteriorColor": true,
           "visible": true,
           "wireframe": false
          },
          "type": "ball+stick"
         }
        }
       },
       "_ngl_serialize": false,
       "_ngl_version": "2.0.0-dev.39",
       "_ngl_view_id": [
        "CEBE42AF-1F8B-4E09-9044-CBFDF9959AA2"
       ],
       "_player_dict": {},
       "_scene_position": {},
       "_scene_rotation": {},
       "_synced_model_ids": [],
       "_synced_repr_model_ids": [],
       "_view_height": "",
       "_view_width": "",
       "background": "white",
       "frame": 0,
       "gui_style": null,
       "layout": "IPY_MODEL_b6b48dfa293e491ca2d824d3ea7bebff",
       "max_frame": 9,
       "n_components": 1,
       "picked": {}
      }
     },
     "9fd86afc057040e4a1d7999fdd7be823": {
      "model_module": "@jupyter-widgets/controls",
      "model_module_version": "1.5.0",
      "model_name": "ButtonModel",
      "state": {
       "icon": "compress",
       "layout": "IPY_MODEL_398ef097fe6e4929afbab6041c09bb47",
       "style": "IPY_MODEL_3abe1020341d49f5828666f1041faff0"
      }
     },
     "a51af0c197c74366a375b042ee01ebf1": {
      "model_module": "@jupyter-widgets/controls",
      "model_module_version": "1.5.0",
      "model_name": "ImageModel",
      "state": {
       "layout": "IPY_MODEL_b377be0d33d34d59b565a7862f317252",
       "width": "900.0"
      }
     },
     "adb69dddf33a4d1dab8a347added2deb": {
      "model_module": "@jupyter-widgets/controls",
      "model_module_version": "1.5.0",
      "model_name": "LinkModel",
      "state": {
       "source": [
        "IPY_MODEL_212722edd8854d5f8e5ae6854ef6cede",
        "value"
       ],
       "target": [
        "IPY_MODEL_97a1e30231144a93807bb528f95fcc5f",
        "frame"
       ]
      }
     },
     "b377be0d33d34d59b565a7862f317252": {
      "model_module": "@jupyter-widgets/base",
      "model_module_version": "1.2.0",
      "model_name": "LayoutModel",
      "state": {}
     },
     "b6b48dfa293e491ca2d824d3ea7bebff": {
      "model_module": "@jupyter-widgets/base",
      "model_module_version": "1.2.0",
      "model_name": "LayoutModel",
      "state": {}
     },
     "c10f3fc4e96a4ae0ade7a5e941facfcf": {
      "model_module": "@jupyter-widgets/controls",
      "model_module_version": "1.5.0",
      "model_name": "IntSliderModel",
      "state": {
       "layout": "IPY_MODEL_e0716325125f4281bcab9e5751bea7ba",
       "max": 9,
       "style": "IPY_MODEL_5853cdedebee48b8bf12a13b72f77170"
      }
     },
     "d0abe00bdd8a4af382e9782976b793e3": {
      "model_module": "@jupyter-widgets/controls",
      "model_module_version": "1.5.0",
      "model_name": "LinkModel",
      "state": {
       "source": [
        "IPY_MODEL_212722edd8854d5f8e5ae6854ef6cede",
        "value"
       ],
       "target": [
        "IPY_MODEL_c10f3fc4e96a4ae0ade7a5e941facfcf",
        "value"
       ]
      }
     },
     "d17b2f2273dd4bcf945bd402205be697": {
      "model_module": "@jupyter-widgets/controls",
      "model_module_version": "1.5.0",
      "model_name": "LinkModel",
      "state": {
       "source": [
        "IPY_MODEL_c10f3fc4e96a4ae0ade7a5e941facfcf",
        "max"
       ],
       "target": [
        "IPY_MODEL_97a1e30231144a93807bb528f95fcc5f",
        "max_frame"
       ]
      }
     },
     "d5daf451b58e4c2e82b7b7415925fde5": {
      "model_module": "@jupyter-widgets/base",
      "model_module_version": "1.2.0",
      "model_name": "LayoutModel",
      "state": {}
     },
     "e0716325125f4281bcab9e5751bea7ba": {
      "model_module": "@jupyter-widgets/base",
      "model_module_version": "1.2.0",
      "model_name": "LayoutModel",
      "state": {}
     }
    },
    "version_major": 2,
    "version_minor": 0
   }
  }
 },
 "nbformat": 4,
 "nbformat_minor": 4
}

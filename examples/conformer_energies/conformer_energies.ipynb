{
 "cells": [
  {
   "cell_type": "markdown",
   "metadata": {
    "tags": []
   },
   "source": [
    "# Compute conformer energies for a small molecule\n",
    "\n",
    "This notebook illustrates reading conformers of a molecule from an SDF file and computation of vacuum conformer energies using a SMIRNOFF force field.\n",
    "\n",
    "Note that absolute vacuum potential energies can be sensitive to small changes in partial charge, for example due to using OpenEye or AmberTools to generate AM1-BCC charges. However, in our experience, _relative_ conformer energies are fairly consistent between AM1-BCC implementations.\n",
    "\n",
    "Note also that the Open Force Field Toolkit produces deterministic charges that do not depend on the input conformation of parameterized molecules. See the [FAQ](https://open-forcefield-toolkit.readthedocs.io/en/stable/faq.html#the-partial-charges-generated-by-the-toolkit-don-t-seem-to-depend-on-the-molecule-s-conformation-is-this-a-bug) for more information."
   ]
  },
  {
   "cell_type": "code",
   "execution_count": 1,
   "metadata": {
    "tags": []
   },
   "outputs": [
    {
     "data": {
      "application/vnd.jupyter.widget-view+json": {
       "model_id": "6dae681603ba49409751f95a879651c7",
       "version_major": 2,
       "version_minor": 0
      },
      "text/plain": []
     },
     "metadata": {},
     "output_type": "display_data"
    }
   ],
   "source": [
    "import openmm\n",
    "from openff.interchange import Interchange\n",
    "from openff.units.openmm import from_openmm\n",
    "from rdkit.Chem import rdMolAlign\n",
    "\n",
    "from openff.toolkit import ForceField, Molecule\n",
    "from openff.toolkit.utils import get_data_file_path"
   ]
  },
  {
   "cell_type": "markdown",
   "metadata": {},
   "source": [
    "First, load conformers from an SDF file. SDF files with multiple molecules are always interpreted as a list of molecules rather than as a single molecule with multiple conformers, so we also need to collapse them all into a single molecule."
   ]
  },
  {
   "cell_type": "code",
   "execution_count": 2,
   "metadata": {},
   "outputs": [
    {
     "name": "stdout",
     "output_type": "stream",
     "text": [
      "Loaded 10 conformers of 'c1nc(c2c(n1)NC=C2)C3=CN(N=C3)[C@H](CC#N)C4CCCC4' (ruxolitinib)\n"
     ]
    },
    {
     "data": {
      "application/vnd.jupyter.widget-view+json": {
       "model_id": "cebdd715d32a4a9f8fd056e63ea285e6",
       "version_major": 2,
       "version_minor": 0
      },
      "text/plain": [
       "NGLWidget(max_frame=9)"
      ]
     },
     "metadata": {},
     "output_type": "display_data"
    }
   ],
   "source": [
    "loaded_molecules = Molecule.from_file(\n",
    "    get_data_file_path(\"molecules/ruxolitinib_conformers.sdf\"),\n",
    ")\n",
    "\n",
    "# Normalize to list\n",
    "try:\n",
    "    loaded_molecules = [*loaded_molecules]\n",
    "except TypeError:\n",
    "    loaded_molecules = [loaded_molecules]\n",
    "\n",
    "# from_file loads each entry in the SDF into its own molecule,\n",
    "# so collapse conformers into the same molecule\n",
    "molecule = loaded_molecules.pop(0)\n",
    "for next_molecule in loaded_molecules:\n",
    "    if next_molecule == molecule:\n",
    "        for conformer in next_molecule.conformers:\n",
    "            molecule.add_conformer(conformer)\n",
    "    else:\n",
    "        # We're assuming the SDF just has multiple conformers of the\n",
    "        # same molecule, so raise an error if that's not the case\n",
    "        raise ValueError(\"Multiple chemical species loaded\")\n",
    "\n",
    "# Make sure the molecule has a name\n",
    "if not molecule.name:\n",
    "    molecule.name = molecule.to_hill_formula()\n",
    "\n",
    "print(\n",
    "    f\"Loaded {molecule.n_conformers} conformers\"\n",
    "    + f\" of {molecule.to_smiles(explicit_hydrogens=False)!r}\"\n",
    "    + f\" ({molecule.name})\"\n",
    ")\n",
    "molecule"
   ]
  },
  {
   "cell_type": "markdown",
   "metadata": {},
   "source": [
    "Next, load the Sage force field. We'll use the version without constraints, as it's more appropriate for energy minimization - see the [FAQ](https://docs.openforcefield.org/projects/toolkit/en/stable/faq.html#what-does-unconstrained-mean-in-a-force-field-name) for more information about constraints."
   ]
  },
  {
   "cell_type": "code",
   "execution_count": 3,
   "metadata": {
    "tags": []
   },
   "outputs": [],
   "source": [
    "# Load the openff-2.1.0 force field appropriate for vacuum calculations (without constraints)\n",
    "forcefield = ForceField(\"openff_unconstrained-2.1.0.offxml\")"
   ]
  },
  {
   "cell_type": "markdown",
   "metadata": {},
   "source": [
    "We'll now apply the Sage force field to the molecule to produce an [`Interchange`], and then an OpenMM [`Simulation`] object. Interchange can produce inputs for a whole host of other MD engines though!\n",
    "\n",
    "[`Interchange`]: https://docs.openforcefield.org/projects/interchange/en/stable/_autosummary/openff.interchange.Interchange.html#openff.interchange.Interchange\n",
    "[`Simulation`]: http://docs.openmm.org/latest/api-python/generated/openmm.app.simulation.Simulation.html#openmm.app.simulation.Simulation"
   ]
  },
  {
   "cell_type": "code",
   "execution_count": 4,
   "metadata": {
    "tags": []
   },
   "outputs": [
    {
     "name": "stdout",
     "output_type": "stream",
     "text": [
      "Parametrizing ruxolitinib (may take a moment to calculate charges)...\n"
     ]
    },
    {
     "name": "stderr",
     "output_type": "stream",
     "text": [
      "Warning: Cannot perform Hydrogen sampling with GPU-Omega: GPU-Omega disabled.\n"
     ]
    },
    {
     "name": "stdout",
     "output_type": "stream",
     "text": [
      "Done.\n"
     ]
    }
   ],
   "source": [
    "print(f\"Parametrizing {molecule.name} (may take a moment to calculate charges)...\")\n",
    "interchange = Interchange.from_smirnoff(forcefield, [molecule])\n",
    "print(\"Done.\")\n",
    "\n",
    "integrator = openmm.VerletIntegrator(1 * openmm.unit.femtoseconds)\n",
    "simulation = interchange.to_openmm_simulation(integrator)"
   ]
  },
  {
   "cell_type": "markdown",
   "metadata": {},
   "source": [
    "Now we'll perform the actual minimizations, and store the outputs in a few lists and a second molecule:"
   ]
  },
  {
   "cell_type": "code",
   "execution_count": 5,
   "metadata": {
    "tags": []
   },
   "outputs": [],
   "source": [
    "# We'll store energies in two lists\n",
    "initial_energies = []\n",
    "minimized_energies = []\n",
    "\n",
    "# And minimized conformers in a second molecule\n",
    "minimized_molecule = Molecule(molecule)\n",
    "minimized_molecule.conformers.clear()\n",
    "\n",
    "for conformer in molecule.conformers:\n",
    "    # Tell the OpenMM Simulation the positions of this conformer\n",
    "    simulation.context.setPositions(conformer.to_openmm())\n",
    "\n",
    "    # Keep a record of the initial energy\n",
    "    initial_energies.append(\n",
    "        simulation.context.getState(getEnergy=True).getPotentialEnergy()\n",
    "    )\n",
    "\n",
    "    # Perform the minimization\n",
    "    simulation.minimizeEnergy()\n",
    "\n",
    "    # Record minimized energy and positions\n",
    "    min_state = simulation.context.getState(getEnergy=True, getPositions=True)\n",
    "\n",
    "    minimized_energies.append(min_state.getPotentialEnergy())\n",
    "    minimized_molecule.add_conformer(from_openmm(min_state.getPositions()))"
   ]
  },
  {
   "cell_type": "markdown",
   "metadata": {},
   "source": [
    "We can visualize the minimised `Molecule`:"
   ]
  },
  {
   "cell_type": "code",
   "execution_count": 6,
   "metadata": {
    "tags": []
   },
   "outputs": [
    {
     "data": {
      "application/vnd.jupyter.widget-view+json": {
       "model_id": "d88abdcd594e45168980b538c961c930",
       "version_major": 2,
       "version_minor": 0
      },
      "text/plain": [
       "NGLWidget(max_frame=9)"
      ]
     },
     "metadata": {},
     "output_type": "display_data"
    }
   ],
   "source": [
    "minimized_molecule"
   ]
  },
  {
   "cell_type": "markdown",
   "metadata": {},
   "source": [
    "And we can write the results of the minimisation out to files as a permanent record:"
   ]
  },
  {
   "cell_type": "code",
   "execution_count": 7,
   "metadata": {
    "tags": []
   },
   "outputs": [
    {
     "name": "stdout",
     "output_type": "stream",
     "text": [
      "ruxolitinib: 10 conformers\n",
      "Conformer         Initial PE        Minimized PE        RMSD\n",
      "    1 /    10 :   -62.294 kcal/mol  -95.481 kcal/mol    0.505 Å\n",
      "    2 /    10 :   -55.582 kcal/mol  -92.723 kcal/mol    0.490 Å\n",
      "    3 /    10 :   -17.811 kcal/mol  -92.900 kcal/mol    0.891 Å\n",
      "    4 /    10 :   -53.680 kcal/mol  -94.485 kcal/mol    0.756 Å\n",
      "    5 /    10 :   -54.243 kcal/mol  -92.087 kcal/mol    0.842 Å\n",
      "    6 /    10 :   -56.083 kcal/mol  -94.656 kcal/mol    0.594 Å\n",
      "    7 /    10 :   -53.253 kcal/mol  -92.893 kcal/mol    1.031 Å\n",
      "    8 /    10 :   -63.596 kcal/mol  -94.760 kcal/mol    0.364 Å\n",
      "    9 /    10 :   -60.427 kcal/mol  -95.257 kcal/mol    0.783 Å\n",
      "   10 /    10 :   -55.957 kcal/mol  -95.356 kcal/mol    0.682 Å\n"
     ]
    }
   ],
   "source": [
    "# Get a shortcut to the number of conformers\n",
    "n_confs = molecule.n_conformers\n",
    "print(f\"{molecule.name}: {n_confs} conformers\")\n",
    "\n",
    "# Create a copy of the molecule so we can work on it\n",
    "working_mol = Molecule(molecule)\n",
    "\n",
    "# Print text header\n",
    "print(\"Conformer         Initial PE        Minimized PE        RMSD\")\n",
    "output = [\n",
    "    [\n",
    "        \"Conformer\",\n",
    "        \"Initial PE (kcal/mol)\",\n",
    "        \"Minimized PE (kcal/mol)\",\n",
    "        \"RMSD between initial and minimized conformer (Angstrom)\",\n",
    "    ]\n",
    "]\n",
    "\n",
    "for i, (init_energy, init_coords, min_energy, min_coords) in enumerate(\n",
    "    zip(\n",
    "        initial_energies,\n",
    "        molecule.conformers,\n",
    "        minimized_energies,\n",
    "        minimized_molecule.conformers,\n",
    "    )\n",
    "):\n",
    "    # Clear the conformers from the working molecule\n",
    "    working_mol.conformers.clear()\n",
    "\n",
    "    # Save the minimized conformer to file\n",
    "    working_mol.add_conformer(min_coords)\n",
    "    working_mol.to_file(\n",
    "        f\"{molecule.name}_conf{i+1}_minimized.sdf\",\n",
    "        file_format=\"sdf\",\n",
    "    )\n",
    "\n",
    "    # Calculate the RMSD between the initial and minimized conformer\n",
    "    working_mol.add_conformer(init_coords)\n",
    "    rdmol = working_mol.to_rdkit()\n",
    "    rmslist = []\n",
    "    rdMolAlign.AlignMolConformers(rdmol, RMSlist=rmslist)\n",
    "    minimization_rms = rmslist[0]\n",
    "\n",
    "    # Record the results\n",
    "    output.append(\n",
    "        [\n",
    "            i + 1,\n",
    "            init_energy.value_in_unit(openmm.unit.kilocalories_per_mole),\n",
    "            min_energy.value_in_unit(openmm.unit.kilocalories_per_mole),\n",
    "            minimization_rms,\n",
    "        ]\n",
    "    )\n",
    "    print(\n",
    "        f\"{{:5d}} / {n_confs:5d} :  {{:8.3f}} kcal/mol {{:8.3f}} kcal/mol {{:8.3f}} Å\".format(\n",
    "            *output[-1]\n",
    "        )\n",
    "    )\n",
    "\n",
    "# Write the results out to CSV\n",
    "with open(f\"{molecule.name}.csv\", \"w\") as of:\n",
    "    of.write(\", \".join(output.pop(0)) + \"\\n\")\n",
    "    for line in output:\n",
    "        of.write(\"{}, {:.3f}, {:.3f}, {:.3f}\".format(*line) + \"\\n\")"
   ]
  },
  {
   "cell_type": "code",
   "execution_count": null,
   "metadata": {},
   "outputs": [],
   "source": []
  }
 ],
 "metadata": {
  "kernelspec": {
   "display_name": "Python 3 (ipykernel)",
   "language": "python",
   "name": "python3"
  },
  "language_info": {
   "codemirror_mode": {
    "name": "ipython",
    "version": 3
   },
   "file_extension": ".py",
   "mimetype": "text/x-python",
   "name": "python",
   "nbconvert_exporter": "python",
   "pygments_lexer": "ipython3",
   "version": "3.11.4"
  },
  "widgets": {
   "application/vnd.jupyter.widget-state+json": {
    "state": {
     "020fde879c864c9d8e578cd2a54c4dd9": {
      "model_module": "@jupyter-widgets/controls",
      "model_module_version": "1.5.0",
      "model_name": "LinkModel",
      "state": {
       "source": [
        "IPY_MODEL_48a72b2b39a54664bf20a7a8acc29385",
        "value"
       ],
       "target": [
        "IPY_MODEL_d88abdcd594e45168980b538c961c930",
        "frame"
       ]
      }
     },
     "063999b260ea4684ac6b3e1ea3b13d91": {
      "model_module": "@jupyter-widgets/controls",
      "model_module_version": "1.5.0",
      "model_name": "DescriptionStyleModel",
      "state": {
       "description_width": ""
      }
     },
     "1e3e0e7262a945febf89023dfc090e33": {
      "model_module": "@jupyter-widgets/controls",
      "model_module_version": "1.5.0",
      "model_name": "ButtonStyleModel",
      "state": {}
     },
     "25785775af3343be8cfae9738bf83f86": {
      "model_module": "@jupyter-widgets/base",
      "model_module_version": "1.2.0",
      "model_name": "LayoutModel",
      "state": {
       "width": "34px"
      }
     },
     "28041d2820024367b6d078da6263b4b1": {
      "model_module": "@jupyter-widgets/controls",
      "model_module_version": "1.5.0",
      "model_name": "SliderStyleModel",
      "state": {
       "description_width": ""
      }
     },
     "298ee0521fd1488e89283ca27db4deeb": {
      "model_module": "@jupyter-widgets/base",
      "model_module_version": "1.2.0",
      "model_name": "LayoutModel",
      "state": {}
     },
     "2a2dfc787785407590baaa19b748c80e": {
      "model_module": "@jupyter-widgets/controls",
      "model_module_version": "1.5.0",
      "model_name": "HBoxModel",
      "state": {
       "children": [
        "IPY_MODEL_48a72b2b39a54664bf20a7a8acc29385",
        "IPY_MODEL_84baf42ac7eb48fa8e168799855f065a"
       ],
       "layout": "IPY_MODEL_c57db95bfc3e45038224775a161f916d"
      }
     },
     "3624e7c06b364efd90367fa23fe31956": {
      "model_module": "@jupyter-widgets/controls",
      "model_module_version": "1.5.0",
      "model_name": "ImageModel",
      "state": {
       "layout": "IPY_MODEL_39a9346504f24b7a8106c0b92c62baf0",
       "width": "900.0"
      }
     },
     "38a72d24caea4e6b96940e46ad619bdc": {
      "model_module": "@jupyter-widgets/controls",
      "model_module_version": "1.5.0",
      "model_name": "IntSliderModel",
      "state": {
       "layout": "IPY_MODEL_f827df47c1d1444eb77ac8a46b9df41c",
       "max": 9,
       "style": "IPY_MODEL_c5eb90256202418dbd0122274c5d9df8"
      }
     },
     "39a9346504f24b7a8106c0b92c62baf0": {
      "model_module": "@jupyter-widgets/base",
      "model_module_version": "1.2.0",
      "model_name": "LayoutModel",
      "state": {}
     },
     "48a72b2b39a54664bf20a7a8acc29385": {
      "model_module": "@jupyter-widgets/controls",
      "model_module_version": "1.5.0",
      "model_name": "PlayModel",
      "state": {
       "layout": "IPY_MODEL_298ee0521fd1488e89283ca27db4deeb",
       "max": 9,
       "style": "IPY_MODEL_78ff2e132dc74416be3a544344a8ff6d"
      }
     },
     "51e5e3c10f974b48b681296d2a7f68f3": {
      "model_module": "@jupyter-widgets/base",
      "model_module_version": "1.2.0",
      "model_name": "LayoutModel",
      "state": {
       "width": "34px"
      }
     },
     "5b772501df3244abbc500245642061b8": {
      "model_module": "@jupyter-widgets/controls",
      "model_module_version": "1.5.0",
      "model_name": "HBoxModel",
      "state": {
       "children": [
        "IPY_MODEL_d24757209fec41059e0f1133313d856a",
        "IPY_MODEL_38a72d24caea4e6b96940e46ad619bdc"
       ],
       "layout": "IPY_MODEL_9510d3f168334ba0876f45c826f53f33"
      }
     },
     "63b6a4e3123f45c5ba29b0865f364904": {
      "model_module": "@jupyter-widgets/base",
      "model_module_version": "1.2.0",
      "model_name": "LayoutModel",
      "state": {}
     },
     "6dae681603ba49409751f95a879651c7": {
      "model_module": "nglview-js-widgets",
      "model_module_version": "3.0.6",
      "model_name": "ColormakerRegistryModel",
      "state": {
       "_msg_ar": [],
       "_msg_q": [],
       "_ready": true,
       "layout": "IPY_MODEL_90d1c1fd90cc4ede8480d7385d650e0b"
      }
     },
     "7887e04b8a53486d943c30b4dc9cda61": {
      "model_module": "@jupyter-widgets/controls",
      "model_module_version": "1.5.0",
      "model_name": "ButtonModel",
      "state": {
       "icon": "compress",
       "layout": "IPY_MODEL_51e5e3c10f974b48b681296d2a7f68f3",
       "style": "IPY_MODEL_1e3e0e7262a945febf89023dfc090e33"
      }
     },
     "78ff2e132dc74416be3a544344a8ff6d": {
      "model_module": "@jupyter-widgets/controls",
      "model_module_version": "1.5.0",
      "model_name": "DescriptionStyleModel",
      "state": {
       "description_width": ""
      }
     },
     "793c7dcc98d8477590cbde15f616810e": {
      "model_module": "@jupyter-widgets/controls",
      "model_module_version": "1.5.0",
      "model_name": "LinkModel",
      "state": {
       "source": [
        "IPY_MODEL_48a72b2b39a54664bf20a7a8acc29385",
        "value"
       ],
       "target": [
        "IPY_MODEL_84baf42ac7eb48fa8e168799855f065a",
        "value"
       ]
      }
     },
     "84baf42ac7eb48fa8e168799855f065a": {
      "model_module": "@jupyter-widgets/controls",
      "model_module_version": "1.5.0",
      "model_name": "IntSliderModel",
      "state": {
       "layout": "IPY_MODEL_dd72ac0ea2c9432cb05a845de27b2b1f",
       "max": 9,
       "style": "IPY_MODEL_28041d2820024367b6d078da6263b4b1"
      }
     },
     "87cb068cd1204cc899796657adc0db50": {
      "model_module": "@jupyter-widgets/controls",
      "model_module_version": "1.5.0",
      "model_name": "ButtonModel",
      "state": {
       "icon": "compress",
       "layout": "IPY_MODEL_25785775af3343be8cfae9738bf83f86",
       "style": "IPY_MODEL_9343d8c96c7249548d6c0ae7beb006e9"
      }
     },
     "8b5bc1a325044ef2964c11fd1cd82293": {
      "model_module": "@jupyter-widgets/controls",
      "model_module_version": "1.5.0",
      "model_name": "LinkModel",
      "state": {
       "source": [
        "IPY_MODEL_d24757209fec41059e0f1133313d856a",
        "max"
       ],
       "target": [
        "IPY_MODEL_cebdd715d32a4a9f8fd056e63ea285e6",
        "max_frame"
       ]
      }
     },
     "8b8a60b1328b4b9885d9f11cdc86e9d8": {
      "model_module": "@jupyter-widgets/base",
      "model_module_version": "1.2.0",
      "model_name": "LayoutModel",
      "state": {}
     },
     "90d1c1fd90cc4ede8480d7385d650e0b": {
      "model_module": "@jupyter-widgets/base",
      "model_module_version": "1.2.0",
      "model_name": "LayoutModel",
      "state": {}
     },
     "9339acd6495f408982963c5364e786a2": {
      "model_module": "@jupyter-widgets/controls",
      "model_module_version": "1.5.0",
      "model_name": "LinkModel",
      "state": {
       "source": [
        "IPY_MODEL_48a72b2b39a54664bf20a7a8acc29385",
        "max"
       ],
       "target": [
        "IPY_MODEL_d88abdcd594e45168980b538c961c930",
        "max_frame"
       ]
      }
     },
     "9343d8c96c7249548d6c0ae7beb006e9": {
      "model_module": "@jupyter-widgets/controls",
      "model_module_version": "1.5.0",
      "model_name": "ButtonStyleModel",
      "state": {}
     },
     "9510d3f168334ba0876f45c826f53f33": {
      "model_module": "@jupyter-widgets/base",
      "model_module_version": "1.2.0",
      "model_name": "LayoutModel",
      "state": {}
     },
     "9c00e50cbf494f59abcb26d32b89499d": {
      "model_module": "@jupyter-widgets/controls",
      "model_module_version": "1.5.0",
      "model_name": "LinkModel",
      "state": {
       "source": [
        "IPY_MODEL_d24757209fec41059e0f1133313d856a",
        "value"
       ],
       "target": [
        "IPY_MODEL_38a72d24caea4e6b96940e46ad619bdc",
        "value"
       ]
      }
     },
     "b2fc61dcb65349e0b522eb1e07e819d8": {
      "model_module": "@jupyter-widgets/controls",
      "model_module_version": "1.5.0",
      "model_name": "LinkModel",
      "state": {
       "source": [
        "IPY_MODEL_38a72d24caea4e6b96940e46ad619bdc",
        "max"
       ],
       "target": [
        "IPY_MODEL_cebdd715d32a4a9f8fd056e63ea285e6",
        "max_frame"
       ]
      }
     },
     "b8d211dcdaab444c8f1a4b278e13ee39": {
      "model_module": "@jupyter-widgets/controls",
      "model_module_version": "1.5.0",
      "model_name": "LinkModel",
      "state": {
       "source": [
        "IPY_MODEL_d24757209fec41059e0f1133313d856a",
        "value"
       ],
       "target": [
        "IPY_MODEL_cebdd715d32a4a9f8fd056e63ea285e6",
        "frame"
       ]
      }
     },
     "c1ad2f20ba5a4a2e99b4c4648e92bd4f": {
      "model_module": "@jupyter-widgets/controls",
      "model_module_version": "1.5.0",
      "model_name": "LinkModel",
      "state": {
       "source": [
        "IPY_MODEL_84baf42ac7eb48fa8e168799855f065a",
        "max"
       ],
       "target": [
        "IPY_MODEL_d88abdcd594e45168980b538c961c930",
        "max_frame"
       ]
      }
     },
     "c57db95bfc3e45038224775a161f916d": {
      "model_module": "@jupyter-widgets/base",
      "model_module_version": "1.2.0",
      "model_name": "LayoutModel",
      "state": {}
     },
     "c5eb90256202418dbd0122274c5d9df8": {
      "model_module": "@jupyter-widgets/controls",
      "model_module_version": "1.5.0",
      "model_name": "SliderStyleModel",
      "state": {
       "description_width": ""
      }
     },
     "cebdd715d32a4a9f8fd056e63ea285e6": {
      "model_module": "nglview-js-widgets",
      "model_module_version": "3.0.6",
      "model_name": "NGLModel",
      "state": {
       "_camera_orientation": [
        33.12492140222079,
        0,
        0,
        0,
        0,
        33.12492140222079,
        0,
        0,
        0,
        0,
        33.12492140222079,
        0,
        -0.6589999198913574,
        0.7124999761581421,
        0.6180000305175781,
        1
       ],
       "_camera_str": "orthographic",
       "_gui_theme": null,
       "_ibtn_fullscreen": "IPY_MODEL_87cb068cd1204cc899796657adc0db50",
       "_igui": null,
       "_iplayer": "IPY_MODEL_5b772501df3244abbc500245642061b8",
       "_ngl_color_dict": {},
       "_ngl_coordinate_resource": {},
       "_ngl_full_stage_parameters": {
        "ambientColor": 14540253,
        "ambientIntensity": 0.2,
        "backgroundColor": "white",
        "cameraEyeSep": 0.3,
        "cameraFov": 40,
        "cameraType": "perspective",
        "clipDist": 10,
        "clipFar": 100,
        "clipMode": "scene",
        "clipNear": 0,
        "clipScale": "relative",
        "fogFar": 100,
        "fogNear": 50,
        "hoverTimeout": 0,
        "impostor": true,
        "lightColor": 14540253,
        "lightIntensity": 1,
        "mousePreset": "default",
        "panSpeed": 1,
        "quality": "medium",
        "rotateSpeed": 2,
        "sampleLevel": 0,
        "tooltip": true,
        "workerDefault": true,
        "zoomSpeed": 1.2
       },
       "_ngl_msg_archive": [
        {
         "args": [
          {
           "binary": false,
           "data": "COMPND    ruxolitinib\nATOM      1  C   UNL     1      -4.228   0.259   1.742  1.00 20.00 \nATOM      2  C   UNL     1      -4.975   0.277   0.401  1.00 20.00 \nATOM      3  C   UNL     1      -4.194  -0.800  -0.350  1.00 20.00 \nATOM      4  C   UNL     1      -2.777  -0.582   0.089  1.00 20.00 \nATOM      5  C   UNL     1      -2.786   0.385   1.234  1.00 20.00 \nATOM      6  C   UNL     1      -1.860  -0.161  -1.011  1.00 20.00 \nATOM      7  C   UNL     1      -2.263   1.127  -1.668  1.00 20.00 \nATOM      8  C   UNL     1      -1.288   1.441  -2.734  1.00 20.00 \nATOM      9  N   UNL     1      -0.536   1.672  -3.579  1.00 20.00 \nATOM     10  N   UNL     1      -0.523  -0.024  -0.436  1.00 20.00 \nATOM     11  C   UNL     1       0.522  -0.853  -0.559  1.00 20.00 \nATOM     12  C   UNL     1       1.614  -0.346   0.152  1.00 20.00 \nATOM     13  C   UNL     1       1.147   0.827   0.698  1.00 20.00 \nATOM     14  N   UNL     1      -0.129   0.982   0.325  1.00 20.00 \nATOM     15  C   UNL     1       2.951  -0.907   0.300  1.00 20.00 \nATOM     16  C   UNL     1       4.102  -0.147   0.178  1.00 20.00 \nATOM     17  C   UNL     1       4.294   1.195  -0.087  1.00 20.00 \nATOM     18  C   UNL     1       5.673   1.409  -0.094  1.00 20.00 \nATOM     19  N   UNL     1       6.310   0.251   0.156  1.00 20.00 \nATOM     20  C   UNL     1       5.362  -0.690   0.320  1.00 20.00 \nATOM     21  N   UNL     1       5.471  -2.004   0.587  1.00 20.00 \nATOM     22  C   UNL     1       4.351  -2.761   0.710  1.00 20.00 \nATOM     23  N   UNL     1       3.122  -2.214   0.568  1.00 20.00 \nATOM     24  H   UNL     1      -4.355  -0.708   2.231  1.00 20.00 \nATOM     25  H   UNL     1      -4.505   1.135   2.343  1.00 20.00 \nATOM     26  H   UNL     1      -6.032   0.027   0.517  1.00 20.00 \nATOM     27  H   UNL     1      -4.806   1.273  -0.034  1.00 20.00 \nATOM     28  H   UNL     1      -4.544  -1.765   0.067  1.00 20.00 \nATOM     29  H   UNL     1      -4.349  -0.744  -1.431  1.00 20.00 \nATOM     30  H   UNL     1      -2.348  -1.544   0.501  1.00 20.00 \nATOM     31  H   UNL     1      -2.662   1.439   0.951  1.00 20.00 \nATOM     32  H   UNL     1      -2.071   0.080   2.039  1.00 20.00 \nATOM     33  H   UNL     1      -1.816  -0.936  -1.791  1.00 20.00 \nATOM     34  H   UNL     1      -2.333   1.986  -0.981  1.00 20.00 \nATOM     35  H   UNL     1      -3.235   1.027  -2.166  1.00 20.00 \nATOM     36  H   UNL     1       0.563  -1.769  -1.105  1.00 20.00 \nATOM     37  H   UNL     1       1.684   1.520   1.320  1.00 20.00 \nATOM     38  H   UNL     1       3.500   1.888  -0.248  1.00 20.00 \nATOM     39  H   UNL     1       6.098   2.387  -0.280  1.00 20.00 \nATOM     40  H   UNL     1       7.350   0.179   0.198  1.00 20.00 \nATOM     41  H   UNL     1       4.501  -3.812   0.926  1.00 20.00 \nTER      42      UNL     1 \nCONECT    1    2    5   24   25\nCONECT    2    3   26   27\nCONECT    3    4   28   29\nCONECT    4    5    6   30\nCONECT    5   31   32\nCONECT    6    7   10   33\nCONECT    7    8   34   35\nCONECT    8    9\nCONECT   10   11   14\nCONECT   11   12   36\nCONECT   12   13   15\nCONECT   13   14   37\nCONECT   15   16   23\nCONECT   16   17   20\nCONECT   17   18   38\nCONECT   18   19   39\nCONECT   19   20   40\nCONECT   20   21\nCONECT   21   22\nCONECT   22   23   41\nMASTER        0    0    0    0    0    0    0    0   41    1   20    0\n",
           "type": "blob"
          }
         ],
         "kwargs": {
          "defaultRepresentation": true,
          "ext": "pdb",
          "name": "<openff.toolkit.utils.viz._OFFTrajectoryNGLView object at 0x7f4c815b7f50>"
         },
         "methodName": "loadFile",
         "reconstruc_color_scheme": false,
         "target": "Stage",
         "type": "call_method"
        }
       ],
       "_ngl_original_stage_parameters": {
        "ambientColor": 14540253,
        "ambientIntensity": 0.2,
        "backgroundColor": "white",
        "cameraEyeSep": 0.3,
        "cameraFov": 40,
        "cameraType": "perspective",
        "clipDist": 10,
        "clipFar": 100,
        "clipMode": "scene",
        "clipNear": 0,
        "clipScale": "relative",
        "fogFar": 100,
        "fogNear": 50,
        "hoverTimeout": 0,
        "impostor": true,
        "lightColor": 14540253,
        "lightIntensity": 1,
        "mousePreset": "default",
        "panSpeed": 1,
        "quality": "medium",
        "rotateSpeed": 2,
        "sampleLevel": 0,
        "tooltip": true,
        "workerDefault": true,
        "zoomSpeed": 1.2
       },
       "_ngl_repr_dict": {
        "0": {
         "0": {
          "params": {
           "aspectRatio": 1.5,
           "assembly": "default",
           "bondScale": 0.3,
           "bondSpacing": 0.75,
           "clipCenter": {
            "x": 0,
            "y": 0,
            "z": 0
           },
           "clipNear": 0,
           "clipRadius": 0,
           "colorMode": "hcl",
           "colorReverse": false,
           "colorScale": "",
           "colorScheme": "element",
           "colorValue": 9474192,
           "cylinderOnly": false,
           "defaultAssembly": "",
           "depthWrite": true,
           "diffuse": 16777215,
           "diffuseInterior": false,
           "disableImpostor": false,
           "disablePicking": false,
           "flatShaded": false,
           "interiorColor": 2236962,
           "interiorDarkening": 0,
           "lazy": false,
           "lineOnly": false,
           "linewidth": 2,
           "matrix": {
            "elements": [
             1,
             0,
             0,
             0,
             0,
             1,
             0,
             0,
             0,
             0,
             1,
             0,
             0,
             0,
             0,
             1
            ]
           },
           "metalness": 0,
           "multipleBond": "off",
           "opacity": 1,
           "openEnded": true,
           "quality": "high",
           "radialSegments": 20,
           "radiusData": {},
           "radiusScale": 2,
           "radiusSize": 0.15,
           "radiusType": "size",
           "roughness": 0.4,
           "sele": "",
           "side": "double",
           "sphereDetail": 2,
           "useInteriorColor": true,
           "visible": true,
           "wireframe": false
          },
          "type": "ball+stick"
         }
        }
       },
       "_ngl_serialize": false,
       "_ngl_version": "2.0.0-dev.39",
       "_ngl_view_id": [
        "A218CF0C-D8F0-425D-9CD1-B91BB512A966"
       ],
       "_player_dict": {},
       "_scene_position": {},
       "_scene_rotation": {},
       "_synced_model_ids": [],
       "_synced_repr_model_ids": [],
       "_view_height": "",
       "_view_width": "",
       "background": "white",
       "frame": 0,
       "gui_style": null,
       "layout": "IPY_MODEL_63b6a4e3123f45c5ba29b0865f364904",
       "max_frame": 9,
       "n_components": 1,
       "picked": {}
      }
     },
     "d0895f37d587461b81b16dd378d72749": {
      "model_module": "@jupyter-widgets/base",
      "model_module_version": "1.2.0",
      "model_name": "LayoutModel",
      "state": {}
     },
     "d24757209fec41059e0f1133313d856a": {
      "model_module": "@jupyter-widgets/controls",
      "model_module_version": "1.5.0",
      "model_name": "PlayModel",
      "state": {
       "layout": "IPY_MODEL_fe5fac77b6ef4e7c969f151f06716765",
       "max": 9,
       "style": "IPY_MODEL_063999b260ea4684ac6b3e1ea3b13d91"
      }
     },
     "d88abdcd594e45168980b538c961c930": {
      "model_module": "nglview-js-widgets",
      "model_module_version": "3.0.6",
      "model_name": "NGLModel",
      "state": {
       "_camera_orientation": [
        33.05471220920336,
        0,
        0,
        0,
        0,
        33.05471220920336,
        0,
        0,
        0,
        0,
        33.05471220920336,
        0,
        -0.6589999198913574,
        0.818000078201294,
        0.8250000476837158,
        1
       ],
       "_camera_str": "orthographic",
       "_gui_theme": null,
       "_ibtn_fullscreen": "IPY_MODEL_7887e04b8a53486d943c30b4dc9cda61",
       "_igui": null,
       "_iplayer": "IPY_MODEL_2a2dfc787785407590baaa19b748c80e",
       "_ngl_color_dict": {},
       "_ngl_coordinate_resource": {},
       "_ngl_full_stage_parameters": {
        "ambientColor": 14540253,
        "ambientIntensity": 0.2,
        "backgroundColor": "white",
        "cameraEyeSep": 0.3,
        "cameraFov": 40,
        "cameraType": "perspective",
        "clipDist": 10,
        "clipFar": 100,
        "clipMode": "scene",
        "clipNear": 0,
        "clipScale": "relative",
        "fogFar": 100,
        "fogNear": 50,
        "hoverTimeout": 0,
        "impostor": true,
        "lightColor": 14540253,
        "lightIntensity": 1,
        "mousePreset": "default",
        "panSpeed": 1,
        "quality": "medium",
        "rotateSpeed": 2,
        "sampleLevel": 0,
        "tooltip": true,
        "workerDefault": true,
        "zoomSpeed": 1.2
       },
       "_ngl_msg_archive": [
        {
         "args": [
          {
           "binary": false,
           "data": "COMPND    ruxolitinib\nATOM      1  C   UNL     1      -4.255   0.395   1.823  1.00 20.00 \nATOM      2  C   UNL     1      -5.046  -0.041   0.594  1.00 20.00 \nATOM      3  C   UNL     1      -4.097  -0.995  -0.137  1.00 20.00 \nATOM      4  C   UNL     1      -2.662  -0.524   0.215  1.00 20.00 \nATOM      5  C   UNL     1      -2.840   0.586   1.282  1.00 20.00 \nATOM      6  C   UNL     1      -1.828  -0.093  -1.036  1.00 20.00 \nATOM      7  C   UNL     1      -2.413   1.123  -1.811  1.00 20.00 \nATOM      8  C   UNL     1      -1.769   1.246  -3.161  1.00 20.00 \nATOM      9  N   UNL     1      -1.311   1.301  -4.222  1.00 20.00 \nATOM     10  N   UNL     1      -0.427   0.176  -0.632  1.00 20.00 \nATOM     11  C   UNL     1       0.571  -0.779  -0.665  1.00 20.00 \nATOM     12  C   UNL     1       1.688  -0.175  -0.141  1.00 20.00 \nATOM     13  C   UNL     1       1.270   1.175   0.225  1.00 20.00 \nATOM     14  N   UNL     1       0.003   1.375  -0.068  1.00 20.00 \nATOM     15  C   UNL     1       3.001  -0.816   0.038  1.00 20.00 \nATOM     16  C   UNL     1       4.178  -0.100   0.272  1.00 20.00 \nATOM     17  C   UNL     1       4.557   1.324   0.350  1.00 20.00 \nATOM     18  C   UNL     1       5.921   1.356   0.591  1.00 20.00 \nATOM     19  N   UNL     1       6.364   0.030   0.651  1.00 20.00 \nATOM     20  C   UNL     1       5.325  -0.828   0.452  1.00 20.00 \nATOM     21  N   UNL     1       5.361  -2.145   0.402  1.00 20.00 \nATOM     22  C   UNL     1       4.220  -2.806   0.152  1.00 20.00 \nATOM     23  N   UNL     1       3.054  -2.159  -0.031  1.00 20.00 \nATOM     24  H   UNL     1      -4.264  -0.399   2.572  1.00 20.00 \nATOM     25  H   UNL     1      -4.651   1.311   2.262  1.00 20.00 \nATOM     26  H   UNL     1      -5.986  -0.525   0.863  1.00 20.00 \nATOM     27  H   UNL     1      -5.257   0.827  -0.034  1.00 20.00 \nATOM     28  H   UNL     1      -4.244  -2.010   0.238  1.00 20.00 \nATOM     29  H   UNL     1      -4.292  -1.005  -1.210  1.00 20.00 \nATOM     30  H   UNL     1      -2.149  -1.365   0.687  1.00 20.00 \nATOM     31  H   UNL     1      -2.755   1.578   0.843  1.00 20.00 \nATOM     32  H   UNL     1      -2.095   0.501   2.075  1.00 20.00 \nATOM     33  H   UNL     1      -1.819  -0.942  -1.723  1.00 20.00 \nATOM     34  H   UNL     1      -2.253   2.049  -1.260  1.00 20.00 \nATOM     35  H   UNL     1      -3.485   1.009  -1.952  1.00 20.00 \nATOM     36  H   UNL     1       0.499  -1.797  -1.026  1.00 20.00 \nATOM     37  H   UNL     1       1.894   1.914   0.706  1.00 20.00 \nATOM     38  H   UNL     1       3.922   2.189   0.218  1.00 20.00 \nATOM     39  H   UNL     1       6.527   2.251   0.695  1.00 20.00 \nATOM     40  H   UNL     1       7.304  -0.327   0.802  1.00 20.00 \nATOM     41  H   UNL     1       4.238  -3.887   0.099  1.00 20.00 \nTER      42      UNL     1 \nCONECT    1    2    5   24   25\nCONECT    2    3   26   27\nCONECT    3    4   28   29\nCONECT    4    5    6   30\nCONECT    5   31   32\nCONECT    6    7   10   33\nCONECT    7    8   34   35\nCONECT    8    9\nCONECT   10   11   14\nCONECT   11   12   36\nCONECT   12   13   15\nCONECT   13   14   37\nCONECT   15   16   23\nCONECT   16   17   20\nCONECT   17   18   38\nCONECT   18   19   39\nCONECT   19   20   40\nCONECT   20   21\nCONECT   21   22\nCONECT   22   23   41\nMASTER        0    0    0    0    0    0    0    0   41    1   20    0\n",
           "type": "blob"
          }
         ],
         "kwargs": {
          "defaultRepresentation": true,
          "ext": "pdb",
          "name": "<openff.toolkit.utils.viz._OFFTrajectoryNGLView object at 0x7f4c8134d910>"
         },
         "methodName": "loadFile",
         "reconstruc_color_scheme": false,
         "target": "Stage",
         "type": "call_method"
        }
       ],
       "_ngl_original_stage_parameters": {
        "ambientColor": 14540253,
        "ambientIntensity": 0.2,
        "backgroundColor": "white",
        "cameraEyeSep": 0.3,
        "cameraFov": 40,
        "cameraType": "perspective",
        "clipDist": 10,
        "clipFar": 100,
        "clipMode": "scene",
        "clipNear": 0,
        "clipScale": "relative",
        "fogFar": 100,
        "fogNear": 50,
        "hoverTimeout": 0,
        "impostor": true,
        "lightColor": 14540253,
        "lightIntensity": 1,
        "mousePreset": "default",
        "panSpeed": 1,
        "quality": "medium",
        "rotateSpeed": 2,
        "sampleLevel": 0,
        "tooltip": true,
        "workerDefault": true,
        "zoomSpeed": 1.2
       },
       "_ngl_repr_dict": {
        "0": {
         "0": {
          "params": {
           "aspectRatio": 1.5,
           "assembly": "default",
           "bondScale": 0.3,
           "bondSpacing": 0.75,
           "clipCenter": {
            "x": 0,
            "y": 0,
            "z": 0
           },
           "clipNear": 0,
           "clipRadius": 0,
           "colorMode": "hcl",
           "colorReverse": false,
           "colorScale": "",
           "colorScheme": "element",
           "colorValue": 9474192,
           "cylinderOnly": false,
           "defaultAssembly": "",
           "depthWrite": true,
           "diffuse": 16777215,
           "diffuseInterior": false,
           "disableImpostor": false,
           "disablePicking": false,
           "flatShaded": false,
           "interiorColor": 2236962,
           "interiorDarkening": 0,
           "lazy": false,
           "lineOnly": false,
           "linewidth": 2,
           "matrix": {
            "elements": [
             1,
             0,
             0,
             0,
             0,
             1,
             0,
             0,
             0,
             0,
             1,
             0,
             0,
             0,
             0,
             1
            ]
           },
           "metalness": 0,
           "multipleBond": "off",
           "opacity": 1,
           "openEnded": true,
           "quality": "high",
           "radialSegments": 20,
           "radiusData": {},
           "radiusScale": 2,
           "radiusSize": 0.15,
           "radiusType": "size",
           "roughness": 0.4,
           "sele": "",
           "side": "double",
           "sphereDetail": 2,
           "useInteriorColor": true,
           "visible": true,
           "wireframe": false
          },
          "type": "ball+stick"
         }
        }
       },
       "_ngl_serialize": false,
       "_ngl_version": "2.0.0-dev.39",
       "_ngl_view_id": [
        "08D1A8A9-4A02-4CB6-9B8B-42641BB5CAD3"
       ],
       "_player_dict": {},
       "_scene_position": {},
       "_scene_rotation": {},
       "_synced_model_ids": [],
       "_synced_repr_model_ids": [],
       "_view_height": "",
       "_view_width": "",
       "background": "white",
       "frame": 0,
       "gui_style": null,
       "layout": "IPY_MODEL_d0895f37d587461b81b16dd378d72749",
       "max_frame": 9,
       "n_components": 1,
       "picked": {}
      }
     },
     "dd72ac0ea2c9432cb05a845de27b2b1f": {
      "model_module": "@jupyter-widgets/base",
      "model_module_version": "1.2.0",
      "model_name": "LayoutModel",
      "state": {}
     },
     "f827df47c1d1444eb77ac8a46b9df41c": {
      "model_module": "@jupyter-widgets/base",
      "model_module_version": "1.2.0",
      "model_name": "LayoutModel",
      "state": {}
     },
     "f9070cfbe0f64f09b15a9d2ee03b45f7": {
      "model_module": "@jupyter-widgets/controls",
      "model_module_version": "1.5.0",
      "model_name": "ImageModel",
      "state": {
       "layout": "IPY_MODEL_8b8a60b1328b4b9885d9f11cdc86e9d8",
       "width": "900.0"
      }
     },
     "fe5fac77b6ef4e7c969f151f06716765": {
      "model_module": "@jupyter-widgets/base",
      "model_module_version": "1.2.0",
      "model_name": "LayoutModel",
      "state": {}
     }
    },
    "version_major": 2,
    "version_minor": 0
   }
  },
  "category": "parametrization_evaluation"
 },
 "nbformat": 4,
 "nbformat_minor": 4
}

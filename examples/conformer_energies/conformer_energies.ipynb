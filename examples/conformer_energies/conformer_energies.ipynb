{
 "cells": [
  {
   "cell_type": "markdown",
   "metadata": {
    "tags": []
   },
   "source": [
    "# Compute conformer energies for a small molecule\n",
    "\n",
    "This notebook illustrates reading conformers of a molecule from an SDF file and computation of vacuum conformer energies using a SMIRNOFF force field.\n",
    "\n",
    "Note that absolute vacuum potential energies can be sensitive to small changes in partial charge, for example due to using OpenEye or AmberTools to generate AM1-BCC charges. However, in our experience, _relative_ conformer energies are fairly consistent between AM1-BCC implementations.\n",
    "\n",
    "Note also that the Open Force Field Toolkit produces deterministic charges that do not depend on the input conformation of parameterized molecules. See the [FAQ](https://open-forcefield-toolkit.readthedocs.io/en/stable/faq.html#the-partial-charges-generated-by-the-toolkit-don-t-seem-to-depend-on-the-molecule-s-conformation-is-this-a-bug) for more information."
   ]
  },
  {
   "cell_type": "code",
   "execution_count": 1,
   "metadata": {
    "execution": {
     "iopub.execute_input": "2021-11-29T23:44:02.917925Z",
     "iopub.status.busy": "2021-11-29T23:44:02.917292Z",
     "iopub.status.idle": "2021-11-29T23:44:05.201796Z",
     "shell.execute_reply": "2021-11-29T23:44:05.202475Z"
    }
   },
   "outputs": [
    {
     "name": "stderr",
     "output_type": "stream",
     "text": [
      "Warning: Unable to load toolkit 'OpenEye Toolkit'. The Open Force Field Toolkit does not require the OpenEye Toolkits, and can use RDKit/AmberTools instead. However, if you have a valid license for the OpenEye Toolkits, consider installing them for faster performance and additional file format support: https://docs.eyesopen.com/toolkits/python/quickstart-python/linuxosx.html OpenEye offers free Toolkit licenses for academics: https://www.eyesopen.com/academic-licensing\n"
     ]
    }
   ],
   "source": [
    "import shutil\n",
    "\n",
    "import openmm\n",
    "from openff.units.openmm import from_openmm, to_openmm\n",
    "from openmm import unit as openmm_unit\n",
    "from rdkit.Chem import rdMolAlign\n",
    "\n",
    "from openff.toolkit import ForceField, Molecule, Topology\n",
    "from openff.toolkit.utils import RDKitToolkitWrapper, get_data_file_path"
   ]
  },
  {
   "cell_type": "code",
   "execution_count": 2,
   "metadata": {
    "execution": {
     "iopub.execute_input": "2021-11-29T23:44:05.213134Z",
     "iopub.status.busy": "2021-11-29T23:44:05.211943Z",
     "iopub.status.idle": "2021-11-29T23:44:06.010536Z",
     "shell.execute_reply": "2021-11-29T23:44:06.011429Z"
    }
   },
   "outputs": [
    {
     "name": "stdout",
     "output_type": "stream",
     "text": [
      "1 unique molecule(s) loaded, with 10 total conformers\n"
     ]
    }
   ],
   "source": [
    "# If using a OFF Toolkit version before 0.7.0, loading SDFs through RDKit and OpenEye may provide\n",
    "# different behavior in some cases. So, here we force loading through RDKit to ensure the correct behavior\n",
    "rdktkw = RDKitToolkitWrapper()\n",
    "\n",
    "# Locate molecule in OpenFF Toolkit package data and copy to local directory\n",
    "orig_path = get_data_file_path(\"molecules/ruxolitinib_conformers.sdf\")\n",
    "shutil.copy(orig_path, \".\")\n",
    "\n",
    "# Load in the molecule and its conformers.\n",
    "# Note that all conformers of the same molecule are loaded as separate Molecule objects\n",
    "loaded_molecules = Molecule.from_file(\n",
    "    \"ruxolitinib_conformers.sdf\",\n",
    "    toolkit_registry=rdktkw,\n",
    ")\n",
    "\n",
    "# The logic below only works for lists of molecules, so if a\n",
    "# single molecule was loaded, cast it to list\n",
    "if type(loaded_molecules) is not list:\n",
    "    loaded_molecules = [loaded_molecules]\n",
    "\n",
    "# Collatate all conformers of the same molecule\n",
    "# NOTE: This isn't necessary if you have already loaded or created multi-conformer molecules;\n",
    "# it is just needed because our SDF reader does not automatically collapse conformers.\n",
    "molecules = [loaded_molecules[0]]\n",
    "for molecule in loaded_molecules[1:]:\n",
    "    if molecule == molecules[-1]:\n",
    "        for conformer in molecule.conformers:\n",
    "            molecules[-1].add_conformer(conformer)\n",
    "    else:\n",
    "        molecules.append(molecule)\n",
    "\n",
    "n_molecules = len(molecules)\n",
    "n_conformers = sum(mol.n_conformers for mol in molecules)\n",
    "print(f\"{n_molecules} unique molecule(s) loaded, with {n_conformers} total conformers\")"
   ]
  },
  {
   "cell_type": "code",
   "execution_count": 3,
   "metadata": {
    "execution": {
     "iopub.execute_input": "2021-11-29T23:44:06.017983Z",
     "iopub.status.busy": "2021-11-29T23:44:06.017397Z",
     "iopub.status.idle": "2021-11-29T23:44:06.699691Z",
     "shell.execute_reply": "2021-11-29T23:44:06.700198Z"
    }
   },
   "outputs": [],
   "source": [
    "# Load the openff-2.0.0 force field appropriate for vacuum calculations (without constraints)\n",
    "forcefield = ForceField(\"openff_unconstrained-2.0.0.offxml\")"
   ]
  },
  {
   "cell_type": "code",
   "execution_count": 4,
   "metadata": {
    "execution": {
     "iopub.execute_input": "2021-11-29T23:44:06.785858Z",
     "iopub.status.busy": "2021-11-29T23:44:06.751843Z",
     "iopub.status.idle": "2021-11-29T23:45:36.819751Z",
     "shell.execute_reply": "2021-11-29T23:45:36.820441Z"
    }
   },
   "outputs": [
    {
     "name": "stdout",
     "output_type": "stream",
     "text": [
      "ruxolitinib : 10 conformers\n",
      "Parametrizing ruxolitinib (may take a moment to calculate charges)\n",
      "Conformer         Initial PE        Minimized PE        RMS between initial and minimized conformer\n",
      "    1 /    10 :   17.890 kcal/mol  -13.859 kcal/mol     0.607 Angstroms\n",
      "    2 /    10 :   24.274 kcal/mol  -11.797 kcal/mol     0.568 Angstroms\n",
      "    3 /    10 :   59.493 kcal/mol  -11.933 kcal/mol     0.957 Angstroms\n",
      "    4 /    10 :   25.481 kcal/mol  -12.205 kcal/mol     0.734 Angstroms\n",
      "    5 /    10 :   21.963 kcal/mol  -10.797 kcal/mol     0.921 Angstroms\n",
      "    6 /    10 :   21.315 kcal/mol  -13.756 kcal/mol     0.590 Angstroms\n",
      "    7 /    10 :   24.900 kcal/mol  -10.128 kcal/mol     0.713 Angstroms\n",
      "    8 /    10 :   14.714 kcal/mol  -12.974 kcal/mol     0.675 Angstroms\n",
      "    9 /    10 :   18.114 kcal/mol  -13.710 kcal/mol     0.922 Angstroms\n",
      "   10 /    10 :   21.270 kcal/mol  -14.672 kcal/mol     0.672 Angstroms\n"
     ]
    }
   ],
   "source": [
    "# Loop over molecules and minimize each conformer\n",
    "for molecule in molecules:\n",
    "    # If the molecule doesn't have a name, set mol.name to be the hill formula\n",
    "    if molecule.name == \"\":\n",
    "        molecule.name = Topology._networkx_to_hill_formula(molecule.to_networkx())\n",
    "    print(\"%s : %d conformers\" % (molecule.name, molecule.n_conformers))\n",
    "    # Make a temporary copy of the molecule that we can update for each minimization\n",
    "    mol_copy = Molecule(molecule)\n",
    "    # Make an OpenFF Topology so we can parameterize the system\n",
    "    off_top = molecule.to_topology()\n",
    "    print(f\"Parametrizing {molecule.name} (may take a moment to calculate charges)\")\n",
    "    system = forcefield.create_openmm_system(off_top)\n",
    "    # Use OpenMM to compute initial and minimized energy for all conformers\n",
    "    integrator = openmm.VerletIntegrator(1 * openmm_unit.femtoseconds)\n",
    "    platform = openmm.Platform.getPlatformByName(\"Reference\")\n",
    "    omm_top = off_top.to_openmm()\n",
    "    simulation = openmm.app.Simulation(omm_top, system, integrator, platform)\n",
    "\n",
    "    # Print text header\n",
    "    print(\n",
    "        \"Conformer         Initial PE        Minimized PE        RMS between initial and minimized conformer\"\n",
    "    )\n",
    "    output = [\n",
    "        [\n",
    "            \"Conformer\",\n",
    "            \"Initial PE (kcal/mol)\",\n",
    "            \"Minimized PE (kcal/mol)\",\n",
    "            \"RMS between initial and minimized conformer (Angstrom)\",\n",
    "        ]\n",
    "    ]\n",
    "    for conformer_index, conformer in enumerate(molecule.conformers):\n",
    "        simulation.context.setPositions(to_openmm(conformer))\n",
    "        orig_potential = simulation.context.getState(\n",
    "            getEnergy=True\n",
    "        ).getPotentialEnergy()\n",
    "        simulation.minimizeEnergy()\n",
    "        min_state = simulation.context.getState(getEnergy=True, getPositions=True)\n",
    "        min_potential = min_state.getPotentialEnergy()\n",
    "\n",
    "        # Calculate the RMSD between the initial and minimized conformer\n",
    "        min_coords = min_state.getPositions()\n",
    "        min_coords = from_openmm(min_coords)\n",
    "        mol_copy._conformers = None\n",
    "        mol_copy.add_conformer(conformer)\n",
    "        mol_copy.add_conformer(min_coords)\n",
    "        rdmol = mol_copy.to_rdkit()\n",
    "        rmslist = []\n",
    "        rdMolAlign.AlignMolConformers(rdmol, RMSlist=rmslist)\n",
    "        minimization_rms = rmslist[0]\n",
    "\n",
    "        # Save the minimized conformer to file\n",
    "        mol_copy._conformers = None\n",
    "        mol_copy.add_conformer(min_coords)\n",
    "        mol_copy.to_file(\n",
    "            f\"{molecule.name}_conf{conformer_index+1}_minimized.sdf\",\n",
    "            file_format=\"sdf\",\n",
    "        )\n",
    "        print(\n",
    "            \"%5d / %5d : %8.3f kcal/mol %8.3f kcal/mol  %8.3f Angstroms\"\n",
    "            % (\n",
    "                conformer_index + 1,\n",
    "                molecule.n_conformers,\n",
    "                orig_potential.value_in_unit(openmm_unit.kilocalories_per_mole),\n",
    "                min_potential.value_in_unit(openmm_unit.kilocalories_per_mole),\n",
    "                minimization_rms,\n",
    "            )\n",
    "        )\n",
    "        output.append(\n",
    "            [\n",
    "                str(conformer_index + 1),\n",
    "                f\"{orig_potential/openmm_unit.kilocalories_per_mole:.3f}\",\n",
    "                f\"{min_potential/openmm_unit.kilocalories_per_mole:.3f}\",\n",
    "                f\"{minimization_rms:.3f}\",\n",
    "            ]\n",
    "        )\n",
    "    # Write the results out to CSV\n",
    "    with open(f\"{molecule.name}.csv\", \"w\") as of:\n",
    "        for line in output:\n",
    "            of.write(\",\".join(line) + \"\\n\")\n",
    "    # Clean up OpenMM Simulation\n",
    "    del simulation, integrator"
   ]
  }
 ],
 "metadata": {
  "kernelspec": {
   "display_name": "Python 3 (ipykernel)",
   "language": "python",
   "name": "python3"
  },
  "language_info": {
   "codemirror_mode": {
    "name": "ipython",
    "version": 3
   },
   "file_extension": ".py",
   "mimetype": "text/x-python",
   "name": "python",
   "nbconvert_exporter": "python",
   "pygments_lexer": "ipython3",
   "version": "3.8.12"
  }
 },
 "nbformat": 4,
 "nbformat_minor": 4
}

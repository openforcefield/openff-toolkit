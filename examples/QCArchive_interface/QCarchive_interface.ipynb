{
 "cells": [
  {
   "cell_type": "markdown",
   "metadata": {},
   "source": [
    "# QCArchive Interface \n",
    "\n",
    "Here we show how to create OpenFF molecules safely from data in the QCArchive using the cmiles entries, specifically we want to use the canonical_isomeric_explicit_hydrogen_mapped_smiles data which is metadata stored at the entry-level of a collection.\n",
    "\n",
    "First load up the client you wish to connect to, in this case, we use the public instance."
   ]
  },
  {
   "cell_type": "code",
   "execution_count": 1,
   "metadata": {
    "execution": {
     "iopub.execute_input": "2021-11-29T23:42:10.337437Z",
     "iopub.status.busy": "2021-11-29T23:42:10.336603Z",
     "iopub.status.idle": "2021-11-29T23:42:13.404979Z",
     "shell.execute_reply": "2021-11-29T23:42:13.405365Z"
    }
   },
   "outputs": [
    {
     "name": "stderr",
     "output_type": "stream",
     "text": [
      "Warning: Unable to load toolkit 'OpenEye Toolkit'. The Open Force Field Toolkit does not require the OpenEye Toolkits, and can use RDKit/AmberTools instead. However, if you have a valid license for the OpenEye Toolkits, consider installing them for faster performance and additional file format support: https://docs.eyesopen.com/toolkits/python/quickstart-python/linuxosx.html OpenEye offers free Toolkit licenses for academics: https://www.eyesopen.com/academic-licensing\n"
     ]
    },
    {
     "data": {
      "text/html": [
       "<div>\n",
       "<style scoped>\n",
       "    .dataframe tbody tr th:only-of-type {\n",
       "        vertical-align: middle;\n",
       "    }\n",
       "\n",
       "    .dataframe tbody tr th {\n",
       "        vertical-align: top;\n",
       "    }\n",
       "\n",
       "    .dataframe thead th {\n",
       "        text-align: right;\n",
       "    }\n",
       "</style>\n",
       "<table border=\"1\" class=\"dataframe\">\n",
       "  <thead>\n",
       "    <tr style=\"text-align: right;\">\n",
       "      <th></th>\n",
       "      <th></th>\n",
       "      <th>tagline</th>\n",
       "    </tr>\n",
       "    <tr>\n",
       "      <th>collection</th>\n",
       "      <th>name</th>\n",
       "      <th></th>\n",
       "    </tr>\n",
       "  </thead>\n",
       "  <tbody>\n",
       "    <tr>\n",
       "      <th rowspan=\"5\" valign=\"top\">Dataset</th>\n",
       "      <th>A Benchmark Data Set for Hydrogen Combustion</th>\n",
       "      <td>A Benchmark Data Set for Hydrogen Combustion</td>\n",
       "    </tr>\n",
       "    <tr>\n",
       "      <th>ANI-1</th>\n",
       "      <td>22 million off-equilibrium conformations and e...</td>\n",
       "    </tr>\n",
       "    <tr>\n",
       "      <th>ANI-1ccx</th>\n",
       "      <td>Coupled cluster properties for molecules</td>\n",
       "    </tr>\n",
       "    <tr>\n",
       "      <th>ANI-1x</th>\n",
       "      <td>Density functional theory properties for molec...</td>\n",
       "    </tr>\n",
       "    <tr>\n",
       "      <th>COMP6 ANI-MD</th>\n",
       "      <td>Benchmark containing MD trajectories from the ...</td>\n",
       "    </tr>\n",
       "    <tr>\n",
       "      <th>...</th>\n",
       "      <th>...</th>\n",
       "      <td>...</td>\n",
       "    </tr>\n",
       "    <tr>\n",
       "      <th rowspan=\"5\" valign=\"top\">TorsionDriveDataset</th>\n",
       "      <th>OpenFF-benchmark-ligand-fragments-v2.0</th>\n",
       "      <td>Ligand fragments from the JACS benchmark systems.</td>\n",
       "    </tr>\n",
       "    <tr>\n",
       "      <th>Pfizer Discrepancy Torsion Dataset 1</th>\n",
       "      <td>None</td>\n",
       "    </tr>\n",
       "    <tr>\n",
       "      <th>SMIRNOFF Coverage Torsion Set 1</th>\n",
       "      <td>None</td>\n",
       "    </tr>\n",
       "    <tr>\n",
       "      <th>SiliconTX Torsion Benchmark Set 1</th>\n",
       "      <td>None</td>\n",
       "    </tr>\n",
       "    <tr>\n",
       "      <th>TorsionDrive Paper</th>\n",
       "      <td>None</td>\n",
       "    </tr>\n",
       "  </tbody>\n",
       "</table>\n",
       "<p>164 rows × 1 columns</p>\n",
       "</div>"
      ],
      "text/plain": [
       "                                                                                                            tagline\n",
       "collection          name                                                                                           \n",
       "Dataset             A Benchmark Data Set for Hydrogen Combustion       A Benchmark Data Set for Hydrogen Combustion\n",
       "                    ANI-1                                         22 million off-equilibrium conformations and e...\n",
       "                    ANI-1ccx                                               Coupled cluster properties for molecules\n",
       "                    ANI-1x                                        Density functional theory properties for molec...\n",
       "                    COMP6 ANI-MD                                  Benchmark containing MD trajectories from the ...\n",
       "...                                                                                                             ...\n",
       "TorsionDriveDataset OpenFF-benchmark-ligand-fragments-v2.0        Ligand fragments from the JACS benchmark systems.\n",
       "                    Pfizer Discrepancy Torsion Dataset 1                                                       None\n",
       "                    SMIRNOFF Coverage Torsion Set 1                                                            None\n",
       "                    SiliconTX Torsion Benchmark Set 1                                                          None\n",
       "                    TorsionDrive Paper                                                                         None\n",
       "\n",
       "[164 rows x 1 columns]"
      ]
     },
     "execution_count": 1,
     "metadata": {},
     "output_type": "execute_result"
    }
   ],
   "source": [
    "import qcportal as ptl\n",
    "\n",
    "from openff.toolkit import Molecule\n",
    "\n",
    "client = ptl.FractalClient()\n",
    "# list the collections available\n",
    "client.list_collections()"
   ]
  },
  {
   "cell_type": "markdown",
   "metadata": {},
   "source": [
    "Now let us grab a molecule from an optimization dataset"
   ]
  },
  {
   "cell_type": "code",
   "execution_count": 2,
   "metadata": {
    "execution": {
     "iopub.execute_input": "2021-11-29T23:42:13.411626Z",
     "iopub.status.busy": "2021-11-29T23:42:13.410878Z",
     "iopub.status.idle": "2021-11-29T23:42:14.356419Z",
     "shell.execute_reply": "2021-11-29T23:42:14.356915Z"
    }
   },
   "outputs": [],
   "source": [
    "ds = client.get_collection(\n",
    "    \"OptimizationDataset\", \"Kinase Inhibitors: WBO Distributions\"\n",
    ")"
   ]
  },
  {
   "cell_type": "markdown",
   "metadata": {},
   "source": [
    "Take the first entry from the collection. "
   ]
  },
  {
   "cell_type": "code",
   "execution_count": 3,
   "metadata": {
    "execution": {
     "iopub.execute_input": "2021-11-29T23:42:14.362546Z",
     "iopub.status.busy": "2021-11-29T23:42:14.361708Z",
     "iopub.status.idle": "2021-11-29T23:42:14.363353Z",
     "shell.execute_reply": "2021-11-29T23:42:14.363909Z"
    }
   },
   "outputs": [],
   "source": [
    "entry = ds.get_entry(ds.df.index[0])"
   ]
  },
  {
   "cell_type": "markdown",
   "metadata": {},
   "source": [
    "We can view the entry in detail by looking at the dictionary representation."
   ]
  },
  {
   "cell_type": "code",
   "execution_count": 4,
   "metadata": {
    "execution": {
     "iopub.execute_input": "2021-11-29T23:42:14.369273Z",
     "iopub.status.busy": "2021-11-29T23:42:14.368509Z",
     "iopub.status.idle": "2021-11-29T23:42:14.371721Z",
     "shell.execute_reply": "2021-11-29T23:42:14.372129Z"
    }
   },
   "outputs": [
    {
     "data": {
      "text/plain": [
       "{'name': 'Cc1ccc(cc1Nc2nccc(n2)c3cccnc3)NC(=O)c4ccc(cc4)CN5CCN(CC5)C-0',\n",
       " 'initial_molecule': '9589274',\n",
       " 'additional_keywords': {},\n",
       " 'attributes': {'canonical_explicit_hydrogen_smiles': '[H]c1c(c(c(nc1[H])[H])c2c(c(nc(n2)N([H])c3c(c(c(c(c3C([H])([H])[H])[H])[H])N([H])C(=O)c4c(c(c(c(c4[H])[H])C([H])([H])N5C(C(N(C(C5([H])[H])([H])[H])C([H])([H])[H])([H])[H])([H])[H])[H])[H])[H])[H])[H])[H]',\n",
       "  'canonical_isomeric_explicit_hydrogen_mapped_smiles': '[H:38][c:1]1[c:2]([c:14]([c:13]([n:30][c:11]1[H:48])[H:50])[c:20]2[c:9]([c:12]([n:31][c:21]([n:32]2)[N:35]([H:67])[c:19]3[c:10]([c:18]([c:8]([c:7]([c:17]3[C:27]([H:59])([H:60])[H:61])[H:44])[H:45])[N:36]([H:68])[C:22](=[O:37])[c:15]4[c:3]([c:5]([c:16]([c:6]([c:4]4[H:41])[H:43])[C:29]([H:65])([H:66])[N:34]5[C:25]([C:23]([N:33]([C:24]([C:26]5([H:57])[H:58])([H:53])[H:54])[C:28]([H:62])([H:63])[H:64])([H:51])[H:52])([H:55])[H:56])[H:42])[H:40])[H:47])[H:49])[H:46])[H:39]',\n",
       "  'canonical_isomeric_explicit_hydrogen_smiles': '[H]c1c(c(c(nc1[H])[H])c2c(c(nc(n2)N([H])c3c(c(c(c(c3C([H])([H])[H])[H])[H])N([H])C(=O)c4c(c(c(c(c4[H])[H])C([H])([H])N5C(C(N(C(C5([H])[H])([H])[H])C([H])([H])[H])([H])[H])([H])[H])[H])[H])[H])[H])[H])[H]',\n",
       "  'canonical_isomeric_smiles': 'Cc1ccc(cc1Nc2nccc(n2)c3cccnc3)NC(=O)c4ccc(cc4)CN5CCN(CC5)C',\n",
       "  'canonical_smiles': 'Cc1ccc(cc1Nc2nccc(n2)c3cccnc3)NC(=O)c4ccc(cc4)CN5CCN(CC5)C',\n",
       "  'inchi_key': 'KTUFNOKKBVMGRW-UHFFFAOYSA-N',\n",
       "  'molecular_formula': 'C29H31N7O',\n",
       "  'provenance': 'cmiles_v0.1.5+1.gdbd63e8_openeye_2019.Apr.2',\n",
       "  'standard_inchi': 'InChI=1S/C29H31N7O/c1-21-5-10-25(18-27(21)34-29-31-13-11-26(33-29)24-4-3-12-30-19-24)32-28(37)23-8-6-22(7-9-23)20-36-16-14-35(2)15-17-36/h3-13,18-19H,14-17,20H2,1-2H3,(H,32,37)(H,31,33,34)',\n",
       "  'unique_protomer_representation': 'Cc1ccc(cc1Nc2nccc(n2)c3cccnc3)NC(=O)c4ccc(cc4)CN5CCN(CC5)C',\n",
       "  'unique_tautomer_representation': 'Cc1ccc(NC(=O)c2ccc(CN3CCN(C)CC3)cc2)cc1N=c1nc(-c2cccnc2)cc[nH]1'},\n",
       " 'object_map': {'HF3c': '9425725', 'default': '9527898'}}"
      ]
     },
     "execution_count": 4,
     "metadata": {},
     "output_type": "execute_result"
    }
   ],
   "source": [
    "entry.dict()"
   ]
  },
  {
   "cell_type": "markdown",
   "metadata": {},
   "source": [
    "Now we can make a molecule using a few different input options."
   ]
  },
  {
   "cell_type": "code",
   "execution_count": 5,
   "metadata": {
    "execution": {
     "iopub.execute_input": "2021-11-29T23:42:14.381401Z",
     "iopub.status.busy": "2021-11-29T23:42:14.380729Z",
     "iopub.status.idle": "2021-11-29T23:42:14.418579Z",
     "shell.execute_reply": "2021-11-29T23:42:14.419040Z"
    }
   },
   "outputs": [],
   "source": [
    "# first make a molecule using this record object\n",
    "mol_record = Molecule.from_qcschema(entry)\n",
    "\n",
    "# we could have also used the dictionary representation of the object\n",
    "mol_dict = Molecule.from_qcschema(entry.dict(encoding=\"json\"))"
   ]
  },
  {
   "cell_type": "code",
   "execution_count": 6,
   "metadata": {
    "execution": {
     "iopub.execute_input": "2021-11-29T23:42:14.424795Z",
     "iopub.status.busy": "2021-11-29T23:42:14.424065Z",
     "iopub.status.idle": "2021-11-29T23:42:14.908799Z",
     "shell.execute_reply": "2021-11-29T23:42:14.909749Z"
    },
    "scrolled": true
   },
   "outputs": [
    {
     "name": "stdout",
     "output_type": "stream",
     "text": [
      "6 6\n",
      "6 6\n",
      "6 6\n",
      "6 6\n",
      "6 6\n",
      "6 6\n",
      "6 6\n",
      "6 6\n",
      "6 6\n",
      "6 6\n",
      "6 6\n",
      "6 6\n",
      "6 6\n",
      "6 6\n",
      "6 6\n",
      "6 6\n",
      "6 6\n",
      "6 6\n",
      "6 6\n",
      "6 6\n",
      "6 6\n",
      "6 6\n",
      "6 6\n",
      "6 6\n",
      "6 6\n",
      "6 6\n",
      "6 6\n",
      "6 6\n",
      "6 6\n",
      "7 7\n",
      "7 7\n",
      "7 7\n",
      "7 7\n",
      "7 7\n",
      "7 7\n",
      "7 7\n",
      "8 8\n",
      "1 1\n",
      "1 1\n",
      "1 1\n",
      "1 1\n",
      "1 1\n",
      "1 1\n",
      "1 1\n",
      "1 1\n",
      "1 1\n",
      "1 1\n",
      "1 1\n",
      "1 1\n",
      "1 1\n",
      "1 1\n",
      "1 1\n",
      "1 1\n",
      "1 1\n",
      "1 1\n",
      "1 1\n",
      "1 1\n",
      "1 1\n",
      "1 1\n",
      "1 1\n",
      "1 1\n",
      "1 1\n",
      "1 1\n",
      "1 1\n",
      "1 1\n",
      "1 1\n",
      "1 1\n",
      "1 1\n"
     ]
    }
   ],
   "source": [
    "# we check that the molecule has been ordered to match the ordering used in the data base\n",
    "# by printing out the atomic numbers of both objects in order\n",
    "\n",
    "# first lets get the initial molecule from the database\n",
    "initial_mol = client.query_molecules(id=entry.initial_molecule)[0]\n",
    "\n",
    "for atoms in zip(mol_record.atoms, initial_mol.atomic_numbers):\n",
    "    print(atoms[0].atomic_number, atoms[1])\n",
    "\n",
    "# we can also check that the molecules are the same regardless of how they are made\n",
    "assert mol_dict == mol_record"
   ]
  },
  {
   "cell_type": "code",
   "execution_count": 7,
   "metadata": {
    "execution": {
     "iopub.execute_input": "2021-11-29T23:42:14.938903Z",
     "iopub.status.busy": "2021-11-29T23:42:14.925212Z",
     "iopub.status.idle": "2021-11-29T23:42:14.941299Z",
     "shell.execute_reply": "2021-11-29T23:42:14.941684Z"
    }
   },
   "outputs": [
    {
     "name": "stdout",
     "output_type": "stream",
     "text": [
      "True\n",
      "{0: 0, 1: 1, 2: 2, 3: 3, 4: 4, 5: 5, 6: 6, 7: 7, 8: 8, 9: 9, 10: 10, 11: 11, 12: 12, 13: 13, 14: 14, 15: 15, 16: 16, 17: 17, 18: 18, 19: 19, 20: 20, 21: 21, 22: 22, 23: 23, 24: 24, 25: 25, 26: 26, 27: 27, 28: 28, 29: 29, 30: 30, 31: 31, 32: 32, 33: 33, 34: 34, 35: 35, 36: 36, 37: 37, 38: 38, 39: 39, 40: 40, 41: 41, 42: 42, 43: 43, 44: 44, 45: 45, 46: 46, 47: 47, 48: 48, 49: 49, 50: 50, 51: 51, 52: 52, 53: 53, 54: 54, 55: 55, 56: 56, 57: 57, 58: 58, 59: 59, 60: 60, 61: 61, 62: 62, 63: 63, 64: 64, 65: 65, 66: 66, 67: 67}\n"
     ]
    }
   ],
   "source": [
    "# we can also compare the graph representations of the molecules to make sure they are in the same order\n",
    "import networkx as nx\n",
    "\n",
    "# make a graph of the initial molecule using newtorkx and the data in the record\n",
    "initial_network = nx.Graph()\n",
    "for i, atom_num in enumerate(initial_mol.atomic_numbers):\n",
    "    initial_network.add_node(i, atomic_number=atom_num)\n",
    "\n",
    "for bond in initial_mol.connectivity:\n",
    "    initial_network.add_edge(*bond[:2])\n",
    "# now we can use the new isomorphic check to get the atom mapping\n",
    "isomorphic, atom_map = Molecule.are_isomorphic(\n",
    "    mol_record,\n",
    "    initial_network,\n",
    "    return_atom_map=True,\n",
    "    aromatic_matching=False,\n",
    "    formal_charge_matching=False,\n",
    "    bond_order_matching=False,\n",
    "    bond_stereochemistry_matching=False,\n",
    "    atom_stereochemistry_matching=False,\n",
    ")\n",
    "\n",
    "# we can print if the graph was found to be isomorphic and then the atom mapping\n",
    "# the atoms are in the same order here as the idexes are the same in the mapping\n",
    "print(isomorphic)\n",
    "print(atom_map)"
   ]
  },
  {
   "cell_type": "markdown",
   "metadata": {},
   "source": [
    "Now that we have seen how to make the molecule, lets look at also getting the geometry as currently we have none."
   ]
  },
  {
   "cell_type": "code",
   "execution_count": 8,
   "metadata": {
    "execution": {
     "iopub.execute_input": "2021-11-29T23:42:14.947447Z",
     "iopub.status.busy": "2021-11-29T23:42:14.946462Z",
     "iopub.status.idle": "2021-11-29T23:42:15.189730Z",
     "shell.execute_reply": "2021-11-29T23:42:15.190117Z"
    }
   },
   "outputs": [
    {
     "data": {
      "text/plain": [
       "1"
      ]
     },
     "execution_count": 8,
     "metadata": {},
     "output_type": "execute_result"
    }
   ],
   "source": [
    "# check there is no geometry for the molecule\n",
    "assert mol_record.n_conformers == 0\n",
    "\n",
    "# if we also want the input geometry for the molecule, we just need to pass the relavent client instance\n",
    "mol_dict = Molecule.from_qcschema(entry.dict(encoding=\"json\"), client=client)\n",
    "\n",
    "# check that there is a conformer\n",
    "mol_dict.n_conformers"
   ]
  },
  {
   "cell_type": "code",
   "execution_count": 9,
   "metadata": {
    "execution": {
     "iopub.execute_input": "2021-11-29T23:42:15.194804Z",
     "iopub.status.busy": "2021-11-29T23:42:15.193400Z",
     "iopub.status.idle": "2021-11-29T23:42:15.355510Z",
     "shell.execute_reply": "2021-11-29T23:42:15.337528Z"
    }
   },
   "outputs": [
    {
     "data": {
      "application/vnd.jupyter.widget-view+json": {
       "model_id": "46d83e0e7cf84be5bfafd9d0104bd3a7",
       "version_major": 2,
       "version_minor": 0
      },
      "text/plain": []
     },
     "metadata": {},
     "output_type": "display_data"
    },
    {
     "data": {
      "application/vnd.jupyter.widget-view+json": {
       "model_id": "f7178931fac5452197dac483ff9e1918",
       "version_major": 2,
       "version_minor": 0
      },
      "text/plain": [
       "NGLWidget()"
      ]
     },
     "metadata": {},
     "output_type": "display_data"
    }
   ],
   "source": [
    "# Thanks to the qcschema method we also get visualisation for free, along with being able to compute\n",
    "# properties like energy, gradient and hessian with qcengine using QM, rdkit, openmm, or ANI1\n",
    "mol_dict.to_qcschema()"
   ]
  },
  {
   "cell_type": "markdown",
   "metadata": {},
   "source": [
    "Here we will try and compute the energy using RDKit (only run this cell if qcengine is installed.) "
   ]
  },
  {
   "cell_type": "code",
   "execution_count": 10,
   "metadata": {
    "execution": {
     "iopub.execute_input": "2021-11-29T23:42:15.365294Z",
     "iopub.status.busy": "2021-11-29T23:42:15.364367Z",
     "iopub.status.idle": "2021-11-29T23:42:17.330730Z",
     "shell.execute_reply": "2021-11-29T23:42:17.331179Z"
    }
   },
   "outputs": [],
   "source": [
    "# for example this molecules energy can be computed using qcengine and RDKit\n",
    "import qcengine\n",
    "\n",
    "# set up the RDKit task\n",
    "rdkit_task = {\n",
    "    \"schema_name\": \"qcschema_input\",\n",
    "    \"schema_version\": 2,\n",
    "    \"molecule\": mol_dict.to_qcschema(),\n",
    "    \"driver\": \"energy\",\n",
    "    \"model\": {\"method\": \"uff\", \"basis\": None},\n",
    "    \"keywords\": {\"scf_type\": \"df\"},\n",
    "}\n",
    "\n",
    "# now lets compute the energy using qcengine and RDKit and print the result\n",
    "result = qcengine.compute(rdkit_task, \"rdkit\")"
   ]
  },
  {
   "cell_type": "code",
   "execution_count": 11,
   "metadata": {
    "execution": {
     "iopub.execute_input": "2021-11-29T23:42:17.335978Z",
     "iopub.status.busy": "2021-11-29T23:42:17.335277Z",
     "iopub.status.idle": "2021-11-29T23:42:17.338569Z",
     "shell.execute_reply": "2021-11-29T23:42:17.338991Z"
    }
   },
   "outputs": [
    {
     "name": "stdout",
     "output_type": "stream",
     "text": [
      "0.053473233262621864\n"
     ]
    }
   ],
   "source": [
    "# note the result is in QC units of hartrees\n",
    "print(result.return_result)"
   ]
  }
 ],
 "metadata": {
  "kernelspec": {
   "display_name": "Python 3 (ipykernel)",
   "language": "python",
   "name": "python3"
  },
  "language_info": {
   "codemirror_mode": {
    "name": "ipython",
    "version": 3
   },
   "file_extension": ".py",
   "mimetype": "text/x-python",
   "name": "python",
   "nbconvert_exporter": "python",
   "pygments_lexer": "ipython3",
   "version": "3.9.7"
  },
  "widgets": {
   "application/vnd.jupyter.widget-state+json": {
    "state": {
     "0295a3c390e240fe8a3ab153eb7c3ec7": {
      "model_module": "@jupyter-widgets/base",
      "model_module_version": "1.2.0",
      "model_name": "LayoutModel",
      "state": {
       "_model_module": "@jupyter-widgets/base",
       "_model_module_version": "1.2.0",
       "_model_name": "LayoutModel",
       "_view_count": null,
       "_view_module": "@jupyter-widgets/base",
       "_view_module_version": "1.2.0",
       "_view_name": "LayoutView",
       "align_content": null,
       "align_items": null,
       "align_self": null,
       "border": null,
       "bottom": null,
       "display": null,
       "flex": null,
       "flex_flow": null,
       "grid_area": null,
       "grid_auto_columns": null,
       "grid_auto_flow": null,
       "grid_auto_rows": null,
       "grid_column": null,
       "grid_gap": null,
       "grid_row": null,
       "grid_template_areas": null,
       "grid_template_columns": null,
       "grid_template_rows": null,
       "height": null,
       "justify_content": null,
       "justify_items": null,
       "left": null,
       "margin": null,
       "max_height": null,
       "max_width": null,
       "min_height": null,
       "min_width": null,
       "object_fit": null,
       "object_position": null,
       "order": null,
       "overflow": null,
       "overflow_x": null,
       "overflow_y": null,
       "padding": null,
       "right": null,
       "top": null,
       "visibility": null,
       "width": null
      }
     },
     "02db6647a0b24295839a7bee5cf0bcc1": {
      "model_module": "@jupyter-widgets/base",
      "model_module_version": "1.2.0",
      "model_name": "LayoutModel",
      "state": {
       "_model_module": "@jupyter-widgets/base",
       "_model_module_version": "1.2.0",
       "_model_name": "LayoutModel",
       "_view_count": null,
       "_view_module": "@jupyter-widgets/base",
       "_view_module_version": "1.2.0",
       "_view_name": "LayoutView",
       "align_content": null,
       "align_items": null,
       "align_self": null,
       "border": null,
       "bottom": null,
       "display": null,
       "flex": null,
       "flex_flow": null,
       "grid_area": null,
       "grid_auto_columns": null,
       "grid_auto_flow": null,
       "grid_auto_rows": null,
       "grid_column": null,
       "grid_gap": null,
       "grid_row": null,
       "grid_template_areas": null,
       "grid_template_columns": null,
       "grid_template_rows": null,
       "height": null,
       "justify_content": null,
       "justify_items": null,
       "left": null,
       "margin": null,
       "max_height": null,
       "max_width": null,
       "min_height": null,
       "min_width": null,
       "object_fit": null,
       "object_position": null,
       "order": null,
       "overflow": null,
       "overflow_x": null,
       "overflow_y": null,
       "padding": null,
       "right": null,
       "top": null,
       "visibility": null,
       "width": null
      }
     },
     "2035418b0d9d43ecbac50ed6d3c39a82": {
      "model_module": "@jupyter-widgets/controls",
      "model_module_version": "1.5.0",
      "model_name": "LinkModel",
      "state": {
       "_model_module": "@jupyter-widgets/controls",
       "_model_module_version": "1.5.0",
       "_model_name": "LinkModel",
       "_view_count": null,
       "_view_module": "@jupyter-widgets/controls",
       "_view_module_version": "1.5.0",
       "_view_name": null,
       "source": [
        "IPY_MODEL_9657b9d68217484eb36e1c489d82c837",
        "max"
       ],
       "target": [
        "IPY_MODEL_f7178931fac5452197dac483ff9e1918",
        "max_frame"
       ]
      }
     },
     "2088099eed644bf39cc671d8572a7c49": {
      "model_module": "@jupyter-widgets/controls",
      "model_module_version": "1.5.0",
      "model_name": "LinkModel",
      "state": {
       "_model_module": "@jupyter-widgets/controls",
       "_model_module_version": "1.5.0",
       "_model_name": "LinkModel",
       "_view_count": null,
       "_view_module": "@jupyter-widgets/controls",
       "_view_module_version": "1.5.0",
       "_view_name": null,
       "source": [
        "IPY_MODEL_cc9bbee833744a90823da043309de183",
        "value"
       ],
       "target": [
        "IPY_MODEL_f7178931fac5452197dac483ff9e1918",
        "frame"
       ]
      }
     },
     "2d9bd79e194b48c1b2d48a731fdaa8bf": {
      "model_module": "@jupyter-widgets/base",
      "model_module_version": "1.2.0",
      "model_name": "LayoutModel",
      "state": {
       "_model_module": "@jupyter-widgets/base",
       "_model_module_version": "1.2.0",
       "_model_name": "LayoutModel",
       "_view_count": null,
       "_view_module": "@jupyter-widgets/base",
       "_view_module_version": "1.2.0",
       "_view_name": "LayoutView",
       "align_content": null,
       "align_items": null,
       "align_self": null,
       "border": null,
       "bottom": null,
       "display": null,
       "flex": null,
       "flex_flow": null,
       "grid_area": null,
       "grid_auto_columns": null,
       "grid_auto_flow": null,
       "grid_auto_rows": null,
       "grid_column": null,
       "grid_gap": null,
       "grid_row": null,
       "grid_template_areas": null,
       "grid_template_columns": null,
       "grid_template_rows": null,
       "height": null,
       "justify_content": null,
       "justify_items": null,
       "left": null,
       "margin": null,
       "max_height": null,
       "max_width": null,
       "min_height": null,
       "min_width": null,
       "object_fit": null,
       "object_position": null,
       "order": null,
       "overflow": null,
       "overflow_x": null,
       "overflow_y": null,
       "padding": null,
       "right": null,
       "top": null,
       "visibility": null,
       "width": "34px"
      }
     },
     "4398e5166289431fa9d24addb87c9de8": {
      "model_module": "@jupyter-widgets/controls",
      "model_module_version": "1.5.0",
      "model_name": "ButtonModel",
      "state": {
       "_dom_classes": [],
       "_model_module": "@jupyter-widgets/controls",
       "_model_module_version": "1.5.0",
       "_model_name": "ButtonModel",
       "_view_count": null,
       "_view_module": "@jupyter-widgets/controls",
       "_view_module_version": "1.5.0",
       "_view_name": "ButtonView",
       "button_style": "",
       "description": "",
       "disabled": false,
       "icon": "compress",
       "layout": "IPY_MODEL_2d9bd79e194b48c1b2d48a731fdaa8bf",
       "style": "IPY_MODEL_523fec0eb9624d91b301bbe1dc8a6c0d",
       "tooltip": ""
      }
     },
     "46d83e0e7cf84be5bfafd9d0104bd3a7": {
      "model_module": "nglview-js-widgets",
      "model_module_version": "3.0.1",
      "model_name": "ColormakerRegistryModel",
      "state": {
       "_dom_classes": [],
       "_model_module": "nglview-js-widgets",
       "_model_module_version": "3.0.1",
       "_model_name": "ColormakerRegistryModel",
       "_msg_ar": [],
       "_msg_q": [],
       "_ready": false,
       "_view_count": null,
       "_view_module": "nglview-js-widgets",
       "_view_module_version": "3.0.1",
       "_view_name": "ColormakerRegistryView",
       "layout": "IPY_MODEL_a8dcbdd0db7449c095d550f75f48def9"
      }
     },
     "523fec0eb9624d91b301bbe1dc8a6c0d": {
      "model_module": "@jupyter-widgets/controls",
      "model_module_version": "1.5.0",
      "model_name": "ButtonStyleModel",
      "state": {
       "_model_module": "@jupyter-widgets/controls",
       "_model_module_version": "1.5.0",
       "_model_name": "ButtonStyleModel",
       "_view_count": null,
       "_view_module": "@jupyter-widgets/base",
       "_view_module_version": "1.2.0",
       "_view_name": "StyleView",
       "button_color": null,
       "font_weight": ""
      }
     },
     "68cb8c8f3f70488c848114a8ea34f362": {
      "model_module": "@jupyter-widgets/controls",
      "model_module_version": "1.5.0",
      "model_name": "SliderStyleModel",
      "state": {
       "_model_module": "@jupyter-widgets/controls",
       "_model_module_version": "1.5.0",
       "_model_name": "SliderStyleModel",
       "_view_count": null,
       "_view_module": "@jupyter-widgets/base",
       "_view_module_version": "1.2.0",
       "_view_name": "StyleView",
       "description_width": "",
       "handle_color": null
      }
     },
     "6c6f5646640248a192c32227c777bf00": {
      "model_module": "@jupyter-widgets/controls",
      "model_module_version": "1.5.0",
      "model_name": "LinkModel",
      "state": {
       "_model_module": "@jupyter-widgets/controls",
       "_model_module_version": "1.5.0",
       "_model_name": "LinkModel",
       "_view_count": null,
       "_view_module": "@jupyter-widgets/controls",
       "_view_module_version": "1.5.0",
       "_view_name": null,
       "source": [
        "IPY_MODEL_cc9bbee833744a90823da043309de183",
        "max"
       ],
       "target": [
        "IPY_MODEL_f7178931fac5452197dac483ff9e1918",
        "max_frame"
       ]
      }
     },
     "7f7ddeb181de4ecd9ea5795f686fa1d9": {
      "model_module": "@jupyter-widgets/base",
      "model_module_version": "1.2.0",
      "model_name": "LayoutModel",
      "state": {
       "_model_module": "@jupyter-widgets/base",
       "_model_module_version": "1.2.0",
       "_model_name": "LayoutModel",
       "_view_count": null,
       "_view_module": "@jupyter-widgets/base",
       "_view_module_version": "1.2.0",
       "_view_name": "LayoutView",
       "align_content": null,
       "align_items": null,
       "align_self": null,
       "border": null,
       "bottom": null,
       "display": null,
       "flex": null,
       "flex_flow": null,
       "grid_area": null,
       "grid_auto_columns": null,
       "grid_auto_flow": null,
       "grid_auto_rows": null,
       "grid_column": null,
       "grid_gap": null,
       "grid_row": null,
       "grid_template_areas": null,
       "grid_template_columns": null,
       "grid_template_rows": null,
       "height": null,
       "justify_content": null,
       "justify_items": null,
       "left": null,
       "margin": null,
       "max_height": null,
       "max_width": null,
       "min_height": null,
       "min_width": null,
       "object_fit": null,
       "object_position": null,
       "order": null,
       "overflow": null,
       "overflow_x": null,
       "overflow_y": null,
       "padding": null,
       "right": null,
       "top": null,
       "visibility": null,
       "width": null
      }
     },
     "885362c601db4cb78eb2c4d5338d59bd": {
      "model_module": "@jupyter-widgets/controls",
      "model_module_version": "1.5.0",
      "model_name": "HBoxModel",
      "state": {
       "_dom_classes": [],
       "_model_module": "@jupyter-widgets/controls",
       "_model_module_version": "1.5.0",
       "_model_name": "HBoxModel",
       "_view_count": null,
       "_view_module": "@jupyter-widgets/controls",
       "_view_module_version": "1.5.0",
       "_view_name": "HBoxView",
       "box_style": "",
       "children": [
        "IPY_MODEL_cc9bbee833744a90823da043309de183",
        "IPY_MODEL_9657b9d68217484eb36e1c489d82c837"
       ],
       "layout": "IPY_MODEL_7f7ddeb181de4ecd9ea5795f686fa1d9"
      }
     },
     "8a1c7307e5304d26aaf768c651fbd3f7": {
      "model_module": "@jupyter-widgets/controls",
      "model_module_version": "1.5.0",
      "model_name": "DescriptionStyleModel",
      "state": {
       "_model_module": "@jupyter-widgets/controls",
       "_model_module_version": "1.5.0",
       "_model_name": "DescriptionStyleModel",
       "_view_count": null,
       "_view_module": "@jupyter-widgets/base",
       "_view_module_version": "1.2.0",
       "_view_name": "StyleView",
       "description_width": ""
      }
     },
     "8f0ce6a455d946c39b6ed5a45b4e9d2a": {
      "buffers": [
       {
        "data": "",
        "encoding": "base64",
        "path": [
         "value"
        ]
       }
      ],
      "model_module": "@jupyter-widgets/controls",
      "model_module_version": "1.5.0",
      "model_name": "ImageModel",
      "state": {
       "_dom_classes": [],
       "_model_module": "@jupyter-widgets/controls",
       "_model_module_version": "1.5.0",
       "_model_name": "ImageModel",
       "_view_count": null,
       "_view_module": "@jupyter-widgets/controls",
       "_view_module_version": "1.5.0",
       "_view_name": "ImageView",
       "format": "png",
       "height": "",
       "layout": "IPY_MODEL_f5165e240f0149958c14a686c6e8f686",
       "width": "900.0"
      }
     },
     "9657b9d68217484eb36e1c489d82c837": {
      "model_module": "@jupyter-widgets/controls",
      "model_module_version": "1.5.0",
      "model_name": "IntSliderModel",
      "state": {
       "_dom_classes": [],
       "_model_module": "@jupyter-widgets/controls",
       "_model_module_version": "1.5.0",
       "_model_name": "IntSliderModel",
       "_view_count": null,
       "_view_module": "@jupyter-widgets/controls",
       "_view_module_version": "1.5.0",
       "_view_name": "IntSliderView",
       "continuous_update": true,
       "description": "",
       "description_tooltip": null,
       "disabled": false,
       "layout": "IPY_MODEL_02db6647a0b24295839a7bee5cf0bcc1",
       "max": 0,
       "min": 0,
       "orientation": "horizontal",
       "readout": true,
       "readout_format": "d",
       "step": 1,
       "style": "IPY_MODEL_68cb8c8f3f70488c848114a8ea34f362",
       "value": 0
      }
     },
     "99c28f63892a48bca59bfa3b056b2f29": {
      "model_module": "@jupyter-widgets/base",
      "model_module_version": "1.2.0",
      "model_name": "LayoutModel",
      "state": {
       "_model_module": "@jupyter-widgets/base",
       "_model_module_version": "1.2.0",
       "_model_name": "LayoutModel",
       "_view_count": null,
       "_view_module": "@jupyter-widgets/base",
       "_view_module_version": "1.2.0",
       "_view_name": "LayoutView",
       "align_content": null,
       "align_items": null,
       "align_self": null,
       "border": null,
       "bottom": null,
       "display": null,
       "flex": null,
       "flex_flow": null,
       "grid_area": null,
       "grid_auto_columns": null,
       "grid_auto_flow": null,
       "grid_auto_rows": null,
       "grid_column": null,
       "grid_gap": null,
       "grid_row": null,
       "grid_template_areas": null,
       "grid_template_columns": null,
       "grid_template_rows": null,
       "height": null,
       "justify_content": null,
       "justify_items": null,
       "left": null,
       "margin": null,
       "max_height": null,
       "max_width": null,
       "min_height": null,
       "min_width": null,
       "object_fit": null,
       "object_position": null,
       "order": null,
       "overflow": null,
       "overflow_x": null,
       "overflow_y": null,
       "padding": null,
       "right": null,
       "top": null,
       "visibility": null,
       "width": null
      }
     },
     "9a81f127899d4742b9754ee47611dcef": {
      "model_module": "@jupyter-widgets/controls",
      "model_module_version": "1.5.0",
      "model_name": "LinkModel",
      "state": {
       "_model_module": "@jupyter-widgets/controls",
       "_model_module_version": "1.5.0",
       "_model_name": "LinkModel",
       "_view_count": null,
       "_view_module": "@jupyter-widgets/controls",
       "_view_module_version": "1.5.0",
       "_view_name": null,
       "source": [
        "IPY_MODEL_cc9bbee833744a90823da043309de183",
        "value"
       ],
       "target": [
        "IPY_MODEL_9657b9d68217484eb36e1c489d82c837",
        "value"
       ]
      }
     },
     "a8dcbdd0db7449c095d550f75f48def9": {
      "model_module": "@jupyter-widgets/base",
      "model_module_version": "1.2.0",
      "model_name": "LayoutModel",
      "state": {
       "_model_module": "@jupyter-widgets/base",
       "_model_module_version": "1.2.0",
       "_model_name": "LayoutModel",
       "_view_count": null,
       "_view_module": "@jupyter-widgets/base",
       "_view_module_version": "1.2.0",
       "_view_name": "LayoutView",
       "align_content": null,
       "align_items": null,
       "align_self": null,
       "border": null,
       "bottom": null,
       "display": null,
       "flex": null,
       "flex_flow": null,
       "grid_area": null,
       "grid_auto_columns": null,
       "grid_auto_flow": null,
       "grid_auto_rows": null,
       "grid_column": null,
       "grid_gap": null,
       "grid_row": null,
       "grid_template_areas": null,
       "grid_template_columns": null,
       "grid_template_rows": null,
       "height": null,
       "justify_content": null,
       "justify_items": null,
       "left": null,
       "margin": null,
       "max_height": null,
       "max_width": null,
       "min_height": null,
       "min_width": null,
       "object_fit": null,
       "object_position": null,
       "order": null,
       "overflow": null,
       "overflow_x": null,
       "overflow_y": null,
       "padding": null,
       "right": null,
       "top": null,
       "visibility": null,
       "width": null
      }
     },
     "cc9bbee833744a90823da043309de183": {
      "model_module": "@jupyter-widgets/controls",
      "model_module_version": "1.5.0",
      "model_name": "PlayModel",
      "state": {
       "_dom_classes": [],
       "_model_module": "@jupyter-widgets/controls",
       "_model_module_version": "1.5.0",
       "_model_name": "PlayModel",
       "_playing": false,
       "_repeat": false,
       "_view_count": null,
       "_view_module": "@jupyter-widgets/controls",
       "_view_module_version": "1.5.0",
       "_view_name": "PlayView",
       "description": "",
       "description_tooltip": null,
       "disabled": false,
       "interval": 100,
       "layout": "IPY_MODEL_0295a3c390e240fe8a3ab153eb7c3ec7",
       "max": 0,
       "min": 0,
       "show_repeat": true,
       "step": 1,
       "style": "IPY_MODEL_8a1c7307e5304d26aaf768c651fbd3f7",
       "value": 0
      }
     },
     "f5165e240f0149958c14a686c6e8f686": {
      "model_module": "@jupyter-widgets/base",
      "model_module_version": "1.2.0",
      "model_name": "LayoutModel",
      "state": {
       "_model_module": "@jupyter-widgets/base",
       "_model_module_version": "1.2.0",
       "_model_name": "LayoutModel",
       "_view_count": null,
       "_view_module": "@jupyter-widgets/base",
       "_view_module_version": "1.2.0",
       "_view_name": "LayoutView",
       "align_content": null,
       "align_items": null,
       "align_self": null,
       "border": null,
       "bottom": null,
       "display": null,
       "flex": null,
       "flex_flow": null,
       "grid_area": null,
       "grid_auto_columns": null,
       "grid_auto_flow": null,
       "grid_auto_rows": null,
       "grid_column": null,
       "grid_gap": null,
       "grid_row": null,
       "grid_template_areas": null,
       "grid_template_columns": null,
       "grid_template_rows": null,
       "height": null,
       "justify_content": null,
       "justify_items": null,
       "left": null,
       "margin": null,
       "max_height": null,
       "max_width": null,
       "min_height": null,
       "min_width": null,
       "object_fit": null,
       "object_position": null,
       "order": null,
       "overflow": null,
       "overflow_x": null,
       "overflow_y": null,
       "padding": null,
       "right": null,
       "top": null,
       "visibility": null,
       "width": null
      }
     },
     "f7178931fac5452197dac483ff9e1918": {
      "model_module": "nglview-js-widgets",
      "model_module_version": "3.0.1",
      "model_name": "NGLModel",
      "state": {
       "_camera_orientation": [],
       "_camera_str": "orthographic",
       "_dom_classes": [],
       "_gui_theme": null,
       "_ibtn_fullscreen": "IPY_MODEL_4398e5166289431fa9d24addb87c9de8",
       "_igui": null,
       "_iplayer": "IPY_MODEL_885362c601db4cb78eb2c4d5338d59bd",
       "_model_module": "nglview-js-widgets",
       "_model_module_version": "3.0.1",
       "_model_name": "NGLModel",
       "_ngl_color_dict": {},
       "_ngl_coordinate_resource": {},
       "_ngl_full_stage_parameters": {},
       "_ngl_msg_archive": [
        {
         "args": [
          {
           "binary": false,
           "data": "\nQCElemental\n\n 68 72  0  0  0  0  0  0  0  0  0\n    9.2032   -6.7679   -1.9971  C  0  0     0  0  0  0  0  0\n    9.0520   -8.1319   -1.7733  C  0  0     0  0  0  0  0  0\n    2.6692   -6.4982   -1.3523  C  0  0     0  0  0  0  0  0\n    4.6190   -5.7540   -2.5696  C  0  0     0  0  0  0  0  0\n    2.0562   -5.2663   -1.5812  C  0  0     0  0  0  0  0  0\n    4.0059   -4.5222   -2.7985  C  0  0     0  0  0  0  0  0\n    4.5118  -11.6588    1.7593  C  0  0     0  0  0  0  0  0\n    4.0655  -10.4404    1.2475  C  0  0     0  0  0  0  0  0\n   10.1962  -11.3560   -3.1170  C  0  0     0  0  0  0  0  0\n    5.6153  -10.6464   -0.5945  C  0  0     0  0  0  0  0  0\n    9.7641   -6.3660   -3.1986  C  0  0     0  0  0  0  0  0\n    9.9531  -12.6877   -2.8492  C  0  0     0  0  0  0  0  0\n   10.0100   -8.5359   -3.9123  C  0  0     0  0  0  0  0  0\n    9.4607   -9.0395   -2.7442  C  0  0     0  0  0  0  0  0\n    3.9506   -6.7420   -1.8465  C  0  0     0  0  0  0  0  0\n    2.7246   -4.2783   -2.3043  C  0  0     0  0  0  0  0  0\n    5.5100  -12.3710    1.0942  C  0  0     0  0  0  0  0  0\n    4.6172   -9.9342    0.0706  C  0  0     0  0  0  0  0  0\n    6.0617  -11.8648   -0.0826  C  0  0     0  0  0  0  0  0\n    9.3175  -10.4612   -2.5412  C  0  0     0  0  0  0  0  0\n    8.1473  -12.1542   -1.5760  C  0  0     0  0  0  0  0  0\n    4.5890   -8.0266   -1.6069  C  0  0     0  0  0  0  0  0\n    2.6725   -0.9061    0.5630  C  0  0     0  0  0  0  0  0\n    2.9051    0.5303   -1.3601  C  0  0     0  0  0  0  0  0\n    2.0944   -2.0087   -0.3307  C  0  0     0  0  0  0  0  0\n    2.3282   -0.5731   -2.2537  C  0  0     0  0  0  0  0  0\n    5.9689  -13.6734    1.6646  C  0  0     0  0  0  0  0  0\n    2.9378    1.4724    0.8595  C  0  0     0  0  0  0  0  0\n    2.0656   -2.9518   -2.5500  C  0  0     0  0  0  0  0  0\n   10.1729   -7.2179   -4.1654  N  0  0     0  0  0  0  0  0\n    8.9341  -13.1238   -2.0801  N  0  0     0  0  0  0  0  0\n    8.2782  -10.8269   -1.7625  N  0  0     0  0  0  0  0  0\n    2.3836    0.4218    0.0078  N  0  0     0  0  0  0  0  0\n    2.6179   -1.9006   -1.6979  N  0  0     0  0  0  0  0  0\n    7.0737  -12.5723   -0.7682  N  0  0     0  0  0  0  0  0\n    4.1634   -8.6955   -0.4488  N  0  0     0  0  0  0  0  0\n    5.4678   -8.4678   -2.3604  O  0  0     0  0  0  0  0  0\n    8.8912   -6.0417   -1.2554  H  0  0     0  0  0  0  0  0\n    8.6146   -8.4728   -0.8383  H  0  0     0  0  0  0  0  0\n    2.1389   -7.2606   -0.7877  H  0  0     0  0  0  0  0  0\n    5.6177   -5.9339   -2.9589  H  0  0     0  0  0  0  0  0\n    1.0577   -5.0847   -1.1920  H  0  0     0  0  0  0  0  0\n    4.5341   -3.7581   -3.3625  H  0  0     0  0  0  0  0  0\n    4.0755  -12.0450    2.6766  H  0  0     0  0  0  0  0  0\n    3.2869   -9.8937    1.7735  H  0  0     0  0  0  0  0  0\n   11.0265  -11.0484   -3.7405  H  0  0     0  0  0  0  0  0\n    6.0458  -10.2511   -1.5123  H  0  0     0  0  0  0  0  0\n    9.9040   -5.3131   -3.4213  H  0  0     0  0  0  0  0  0\n   10.5905  -13.4645   -3.2582  H  0  0     0  0  0  0  0  0\n   10.3477   -9.1916   -4.7098  H  0  0     0  0  0  0  0  0\n    2.2212   -0.9976    1.5585  H  0  0     0  0  0  0  0  0\n    3.7546   -1.0551    0.6801  H  0  0     0  0  0  0  0  0\n    4.0022    0.4745   -1.3668  H  0  0     0  0  0  0  0  0\n    2.6257    1.5011   -1.7873  H  0  0     0  0  0  0  0  0\n    2.3726   -2.9797    0.0967  H  0  0     0  0  0  0  0  0\n    0.9974   -1.9516   -0.3251  H  0  0     0  0  0  0  0  0\n    1.2460   -0.4249   -2.3711  H  0  0     0  0  0  0  0  0\n    2.7796   -0.4816   -3.2491  H  0  0     0  0  0  0  0  0\n    5.3685  -14.4967    1.2611  H  0  0     0  0  0  0  0  0\n    7.0233  -13.8599    1.4272  H  0  0     0  0  0  0  0  0\n    5.8814  -13.6794    2.7580  H  0  0     0  0  0  0  0  0\n    2.5423    1.3810    1.8745  H  0  0     0  0  0  0  0  0\n    2.6726    2.4574    0.4659  H  0  0     0  0  0  0  0  0\n    4.0275    1.3922    0.8979  H  0  0     0  0  0  0  0  0\n    2.1955   -2.6435   -3.5931  H  0  0     0  0  0  0  0  0\n    0.9887   -3.0066   -2.3587  H  0  0     0  0  0  0  0  0\n    7.0115  -13.5790   -0.6547  H  0  0     0  0  0  0  0  0\n    3.4347   -8.2313    0.0877  H  0  0     0  0  0  0  0  0\n  1  2  2  0  0  0  0\n  1 11  1  0  0  0  0\n  1 38  1  0  0  0  0\n  2 14  1  0  0  0  0\n  2 39  1  0  0  0  0\n  3  5  1  0  0  0  0\n  3 15  2  0  0  0  0\n  3 40  1  0  0  0  0\n  4  6  2  0  0  0  0\n  4 15  1  0  0  0  0\n  4 41  1  0  0  0  0\n  5 16  2  0  0  0  0\n  5 42  1  0  0  0  0\n  6 16  1  0  0  0  0\n  6 43  1  0  0  0  0\n  7  8  1  0  0  0  0\n  7 17  2  0  0  0  0\n  7 44  1  0  0  0  0\n  8 18  2  0  0  0  0\n  8 45  1  0  0  0  0\n  9 12  1  0  0  0  0\n  9 20  2  0  0  0  0\n  9 46  1  0  0  0  0\n 10 18  1  0  0  0  0\n 10 19  2  0  0  0  0\n 10 47  1  0  0  0  0\n 11 30  2  0  0  0  0\n 11 48  1  0  0  0  0\n 12 31  2  0  0  0  0\n 12 49  1  0  0  0  0\n 13 14  2  0  0  0  0\n 13 30  1  0  0  0  0\n 13 50  1  0  0  0  0\n 14 20  1  0  0  0  0\n 15 22  1  0  0  0  0\n 16 29  1  0  0  0  0\n 17 19  1  0  0  0  0\n 17 27  1  0  0  0  0\n 18 36  1  0  0  0  0\n 19 35  1  0  0  0  0\n 20 32  1  0  0  0  0\n 21 31  1  0  0  0  0\n 21 32  2  0  0  0  0\n 21 35  1  0  0  0  0\n 22 36  1  0  0  0  0\n 22 37  2  0  0  0  0\n 23 25  1  0  0  0  0\n 23 33  1  0  0  0  0\n 23 51  1  0  0  0  0\n 23 52  1  0  0  0  0\n 24 26  1  0  0  0  0\n 24 33  1  0  0  0  0\n 24 53  1  0  0  0  0\n 24 54  1  0  0  0  0\n 25 34  1  0  0  0  0\n 25 55  1  0  0  0  0\n 25 56  1  0  0  0  0\n 26 34  1  0  0  0  0\n 26 57  1  0  0  0  0\n 26 58  1  0  0  0  0\n 27 59  1  0  0  0  0\n 27 60  1  0  0  0  0\n 27 61  1  0  0  0  0\n 28 33  1  0  0  0  0\n 28 62  1  0  0  0  0\n 28 63  1  0  0  0  0\n 28 64  1  0  0  0  0\n 29 34  1  0  0  0  0\n 29 65  1  0  0  0  0\n 29 66  1  0  0  0  0\n 35 67  1  0  0  0  0\n 36 68  1  0  0  0  0\n",
           "type": "blob"
          }
         ],
         "kwargs": {
          "defaultRepresentation": true,
          "ext": "sdf"
         },
         "methodName": "loadFile",
         "reconstruc_color_scheme": false,
         "target": "Stage",
         "type": "call_method"
        }
       ],
       "_ngl_original_stage_parameters": {},
       "_ngl_repr_dict": {},
       "_ngl_serialize": false,
       "_ngl_version": "",
       "_ngl_view_id": [],
       "_player_dict": {},
       "_scene_position": {},
       "_scene_rotation": {},
       "_synced_model_ids": [],
       "_synced_repr_model_ids": [],
       "_view_count": null,
       "_view_height": "",
       "_view_module": "nglview-js-widgets",
       "_view_module_version": "3.0.1",
       "_view_name": "NGLView",
       "_view_width": "",
       "background": "white",
       "frame": 0,
       "gui_style": null,
       "layout": "IPY_MODEL_99c28f63892a48bca59bfa3b056b2f29",
       "max_frame": 0,
       "n_components": 0,
       "picked": {}
      }
     }
    },
    "version_major": 2,
    "version_minor": 0
   }
  }
 },
 "nbformat": 4,
 "nbformat_minor": 4
}

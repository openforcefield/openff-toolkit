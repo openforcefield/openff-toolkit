{
 "cells": [
  {
   "cell_type": "markdown",
   "metadata": {},
   "source": [
    "# Using QCArchive with the OpenFF Toolkit\n",
    "\n",
    "Here we show how to create OpenFF molecules safely from data in the QCArchive using the CMILES entries. This transformation relies on the `\"canonical_isomeric_explicit_hydrogen_mapped_smiles\"`.\n",
    "\n",
    "First load up the client you wish to connect to, in this case, we use the public instance."
   ]
  },
  {
   "cell_type": "code",
   "execution_count": null,
   "metadata": {
    "execution": {
     "iopub.execute_input": "2023-07-18T15:35:59.016081Z",
     "iopub.status.busy": "2023-07-18T15:35:59.015670Z",
     "iopub.status.idle": "2023-07-18T15:36:05.518932Z",
     "shell.execute_reply": "2023-07-18T15:36:05.518250Z"
    }
   },
   "outputs": [],
   "source": [
    "import qcelemental\n",
    "import qcportal\n",
    "\n",
    "from openff.toolkit import Molecule\n",
    "\n",
    "client = qcportal.PortalClient(\"https://api.qcarchive.molssi.org:443\")\n",
    "\n",
    "print(client.list_datasets_table())"
   ]
  },
  {
   "cell_type": "markdown",
   "metadata": {},
   "source": [
    "Data in the QCArchive is organized into [datasets](https://molssi.github.io/QCFractal/user_guide/datasets.html#using-datasets). Let's grab a molecule from an optimization dataset"
   ]
  },
  {
   "cell_type": "code",
   "execution_count": null,
   "metadata": {
    "execution": {
     "iopub.execute_input": "2023-07-18T15:36:05.556129Z",
     "iopub.status.busy": "2023-07-18T15:36:05.555794Z",
     "iopub.status.idle": "2023-07-18T15:36:06.937694Z",
     "shell.execute_reply": "2023-07-18T15:36:06.937291Z"
    }
   },
   "outputs": [],
   "source": [
    "dataset = client.get_dataset(\n",
    "    dataset_type=\"optimization\",\n",
    "    dataset_name=\"Kinase Inhibitors: WBO Distributions\",\n",
    ")"
   ]
  },
  {
   "cell_type": "markdown",
   "metadata": {},
   "source": [
    "Take an arbitrary entry from the collection."
   ]
  },
  {
   "cell_type": "code",
   "execution_count": null,
   "metadata": {
    "execution": {
     "iopub.execute_input": "2023-07-18T15:36:06.940252Z",
     "iopub.status.busy": "2023-07-18T15:36:06.940088Z",
     "iopub.status.idle": "2023-07-18T15:36:06.943767Z",
     "shell.execute_reply": "2023-07-18T15:36:06.943186Z"
    }
   },
   "outputs": [],
   "source": [
    "entry = dataset.get_entry(entry_name=dataset.entry_names[-1])"
   ]
  },
  {
   "cell_type": "markdown",
   "metadata": {},
   "source": [
    "We can view the entry in detail by looking at the dictionary representation."
   ]
  },
  {
   "cell_type": "code",
   "execution_count": null,
   "metadata": {
    "execution": {
     "iopub.execute_input": "2023-07-18T15:36:06.946193Z",
     "iopub.status.busy": "2023-07-18T15:36:06.946067Z",
     "iopub.status.idle": "2023-07-18T15:36:06.949186Z",
     "shell.execute_reply": "2023-07-18T15:36:06.948869Z"
    }
   },
   "outputs": [],
   "source": [
    "entry.dict()"
   ]
  },
  {
   "cell_type": "markdown",
   "metadata": {},
   "source": [
    "Now we can make a molecule using a few different input options."
   ]
  },
  {
   "cell_type": "code",
   "execution_count": null,
   "metadata": {
    "execution": {
     "iopub.execute_input": "2023-07-18T15:36:06.951162Z",
     "iopub.status.busy": "2023-07-18T15:36:06.951024Z",
     "iopub.status.idle": "2023-07-18T15:36:07.011410Z",
     "shell.execute_reply": "2023-07-18T15:36:07.010998Z"
    }
   },
   "outputs": [],
   "source": [
    "# first make a molecule using this record object\n",
    "molecule_from_entry = Molecule.from_qcschema(entry)\n",
    "\n",
    "# we could have also used the dictionary representation of the object\n",
    "molecule_from_dict = Molecule.from_qcschema(entry.dict())\n",
    "\n",
    "assert molecule_from_entry == molecule_from_dict\n",
    "\n",
    "molecule = molecule_from_entry"
   ]
  },
  {
   "cell_type": "code",
   "execution_count": null,
   "metadata": {
    "execution": {
     "iopub.execute_input": "2023-07-18T15:36:07.013659Z",
     "iopub.status.busy": "2023-07-18T15:36:07.013472Z",
     "iopub.status.idle": "2023-07-18T15:36:07.252985Z",
     "shell.execute_reply": "2023-07-18T15:36:07.252101Z"
    },
    "scrolled": true
   },
   "outputs": [],
   "source": [
    "# first let's get the initial molecule from the database\n",
    "initial_molecule = client.get_molecules(entry.initial_molecule.id)\n",
    "    \n",
    "# note that this molecule uses an object model from QCArchive, _not_ the toolkit    \n",
    "print(type(initial_molecule))\n",
    "\n",
    "# we check that the molecule has been ordered to match the ordering used in the data base\n",
    "# by printing out the atomic numbers of both objects in order\n",
    "\n",
    "for atoms in zip(molecule.atoms, initial_molecule.atomic_numbers):\n",
    "    print(atoms[0].atomic_number, atoms[1])\n",
    "    assert atoms[0].atomic_number == atoms[1]\n",
    "\n",
    "# can compare other things, too\n",
    "print(molecule.to_hill_formula(), initial_molecule.get_molecular_formula())\n",
    "\n",
    "# QCArchive molecules don't store all information the \n",
    "# toolkit needs, like bond orders and formal charges;\n",
    "# that's why there is a Molecule.from_qcschema() method at all"
   ]
  },
  {
   "cell_type": "code",
   "execution_count": null,
   "metadata": {
    "execution": {
     "iopub.execute_input": "2023-07-18T15:36:07.258047Z",
     "iopub.status.busy": "2023-07-18T15:36:07.257756Z",
     "iopub.status.idle": "2023-07-18T15:36:07.282653Z",
     "shell.execute_reply": "2023-07-18T15:36:07.282189Z"
    }
   },
   "outputs": [],
   "source": [
    "# we can also compare the graph representations of the molecules to make sure they are in the same order\n",
    "import networkx as nx\n",
    "\n",
    "# make a graph of the initial molecule using newtorkx and the data in the record\n",
    "initial_network = nx.Graph()\n",
    "for index, atomic_number in enumerate(initial_molecule.atomic_numbers):\n",
    "    initial_network.add_node(index, atomic_number=atomic_number)\n",
    "\n",
    "for bond in initial_molecule.connectivity:\n",
    "    initial_network.add_edge(*bond[:2])\n",
    "# now we can use the new isomorphic check to get the atom mapping\n",
    "isomorphic, atom_map = Molecule.are_isomorphic(\n",
    "    molecule,\n",
    "    initial_network,\n",
    "    return_atom_map=True,\n",
    "    aromatic_matching=False,\n",
    "    formal_charge_matching=False,\n",
    "    bond_order_matching=False,\n",
    "    bond_stereochemistry_matching=False,\n",
    "    atom_stereochemistry_matching=False,\n",
    ")\n",
    "\n",
    "# we can check if the graph was found to be isomorphic and whether or not the\n",
    "# atom mappings are in the same order\n",
    "assert isomorphic\n",
    "\n",
    "for index1, index2 in atom_map.items():\n",
    "    assert index1 == index2"
   ]
  },
  {
   "cell_type": "markdown",
   "metadata": {},
   "source": [
    "Now that we have seen how to make the molecule, lets look at also getting the geometry as currently we have none.\n",
    "\n",
    "Entries store much information about the molecule, but not the geometry. This has to be pulled down from the server. Since we didn't pass the `client` object to `Molecule.from_qcschema` earlier, the `Molecule` objects we created earlier don't have conformers. (QCArchive's used of \"geometry\" can be thought of as interchangeable with the toolkit's use of \"conformer\".)"
   ]
  },
  {
   "cell_type": "code",
   "execution_count": null,
   "metadata": {
    "execution": {
     "iopub.execute_input": "2023-07-18T15:36:07.285597Z",
     "iopub.status.busy": "2023-07-18T15:36:07.285337Z",
     "iopub.status.idle": "2023-07-18T15:36:07.577196Z",
     "shell.execute_reply": "2023-07-18T15:36:07.576815Z"
    }
   },
   "outputs": [],
   "source": [
    "# entries don't store geometry, so there are no conformers yet\n",
    "assert molecule.n_conformers == 0\n",
    "\n",
    "# if we also want the input geometry for the molecule, we just need to pass the relavent client instance\n",
    "molecule_with_conformer = Molecule.from_qcschema(entry, client=client)\n",
    "\n",
    "# check that there is a conformer\n",
    "assert molecule_with_conformer.n_conformers == 1"
   ]
  },
  {
   "cell_type": "code",
   "execution_count": null,
   "metadata": {
    "execution": {
     "iopub.execute_input": "2023-07-18T15:36:07.588237Z",
     "iopub.status.busy": "2023-07-18T15:36:07.587983Z",
     "iopub.status.idle": "2023-07-18T15:36:07.686462Z",
     "shell.execute_reply": "2023-07-18T15:36:07.686147Z"
    }
   },
   "outputs": [],
   "source": [
    "# OpenFF Toolkit `Molecule` objects can be converted back into QCArchive molecules, as long as there are conformer(s)\n",
    "from openff.toolkit.utils.exceptions import InvalidConformerError\n",
    "\n",
    "try:\n",
    "    qc_molecule = molecule.to_qcschema()\n",
    "except InvalidConformerError:\n",
    "    qc_molecule = molecule_with_conformer.to_qcschema()\n",
    "\n",
    "qc_molecule"
   ]
  },
  {
   "cell_type": "markdown",
   "metadata": {},
   "source": [
    "This transformation unlocks functionality of [QCEngine](https://molssi.github.io/QCEngine/) (computing energies, gradients, hessians, etc. with a variety of different methods).\n",
    "\n",
    "Here we will try and compute the energy using RDKit (only run this cell if QCEngine is installed.) "
   ]
  },
  {
   "cell_type": "code",
   "execution_count": null,
   "metadata": {
    "execution": {
     "iopub.execute_input": "2023-07-18T15:36:07.693588Z",
     "iopub.status.busy": "2023-07-18T15:36:07.693429Z",
     "iopub.status.idle": "2023-07-18T15:36:09.907830Z",
     "shell.execute_reply": "2023-07-18T15:36:09.906978Z"
    }
   },
   "outputs": [],
   "source": [
    "import qcengine\n",
    "\n",
    "# set up the RDKit task\n",
    "rdkit_task = {\n",
    "    \"schema_name\": \"qcschema_input\",\n",
    "    \"schema_version\": 2,\n",
    "    \"molecule\": qc_molecule,\n",
    "    \"driver\": \"energy\",\n",
    "    \"model\": {\"method\": \"uff\", \"basis\": None},\n",
    "    \"keywords\": {\"scf_type\": \"df\"},\n",
    "}\n",
    "\n",
    "# now lets compute the energy using qcengine and RDKit and print the result\n",
    "result = qcengine.compute(rdkit_task, \"rdkit\")"
   ]
  },
  {
   "cell_type": "code",
   "execution_count": null,
   "metadata": {
    "execution": {
     "iopub.execute_input": "2023-07-18T15:36:09.910537Z",
     "iopub.status.busy": "2023-07-18T15:36:09.910259Z",
     "iopub.status.idle": "2023-07-18T15:36:09.912855Z",
     "shell.execute_reply": "2023-07-18T15:36:09.912539Z"
    }
   },
   "outputs": [],
   "source": [
    "# note the result is in QC units of hartrees\n",
    "print(result.return_result)"
   ]
  },
  {
   "cell_type": "code",
   "execution_count": null,
   "metadata": {},
   "outputs": [],
   "source": []
  }
 ],
 "metadata": {
  "kernelspec": {
   "display_name": "Python 3 (ipykernel)",
   "language": "python",
   "name": "python3"
  },
  "language_info": {
   "codemirror_mode": {
    "name": "ipython",
    "version": 3
   },
   "file_extension": ".py",
   "mimetype": "text/x-python",
   "name": "python",
   "nbconvert_exporter": "python",
   "pygments_lexer": "ipython3",
   "version": "3.10.10"
  },
  "widgets": {
   "application/vnd.jupyter.widget-state+json": {
    "state": {
     "02c65c2c1aa04b5eaac4b7be566666b2": {
      "model_module": "@jupyter-widgets/controls",
      "model_module_version": "2.0.0",
      "model_name": "PlayModel",
      "state": {
       "_dom_classes": [],
       "_model_module": "@jupyter-widgets/controls",
       "_model_module_version": "2.0.0",
       "_model_name": "PlayModel",
       "_view_count": null,
       "_view_module": "@jupyter-widgets/controls",
       "_view_module_version": "2.0.0",
       "_view_name": "PlayView",
       "description": "",
       "description_allow_html": false,
       "disabled": false,
       "interval": 100,
       "layout": "IPY_MODEL_e39ad0825c474f6fabbe71f1f3d77449",
       "max": 0,
       "min": 0,
       "playing": false,
       "repeat": false,
       "show_repeat": true,
       "step": 1,
       "style": "IPY_MODEL_db7f7334501c45ad9c41f1e16c22fad7",
       "tabbable": null,
       "tooltip": null,
       "value": 0
      }
     },
     "1e6b3846d6154c3e887ba12d9245e741": {
      "model_module": "@jupyter-widgets/controls",
      "model_module_version": "2.0.0",
      "model_name": "HBoxModel",
      "state": {
       "_dom_classes": [],
       "_model_module": "@jupyter-widgets/controls",
       "_model_module_version": "2.0.0",
       "_model_name": "HBoxModel",
       "_view_count": null,
       "_view_module": "@jupyter-widgets/controls",
       "_view_module_version": "2.0.0",
       "_view_name": "HBoxView",
       "box_style": "",
       "children": [
        "IPY_MODEL_02c65c2c1aa04b5eaac4b7be566666b2",
        "IPY_MODEL_770af506c20b4b83aba31c46ffaca885"
       ],
       "layout": "IPY_MODEL_6fa06711ea024ab59822f5f88799b136",
       "tabbable": null,
       "tooltip": null
      }
     },
     "205d4ac1942c49b6aee9abf4d62e7bfe": {
      "model_module": "nglview-js-widgets",
      "model_module_version": "3.0.6",
      "model_name": "ColormakerRegistryModel",
      "state": {
       "_dom_classes": [],
       "_model_module": "nglview-js-widgets",
       "_model_module_version": "3.0.6",
       "_model_name": "ColormakerRegistryModel",
       "_msg_ar": [],
       "_msg_q": [],
       "_ready": false,
       "_view_count": null,
       "_view_module": "nglview-js-widgets",
       "_view_module_version": "3.0.6",
       "_view_name": "ColormakerRegistryView",
       "layout": "IPY_MODEL_d61bddb6d83047ba8d59640df5f45cd0",
       "tabbable": null,
       "tooltip": null
      }
     },
     "2641288c8ba04416b79c4265f12903e6": {
      "model_module": "@jupyter-widgets/controls",
      "model_module_version": "2.0.0",
      "model_name": "LinkModel",
      "state": {
       "_model_module": "@jupyter-widgets/controls",
       "_model_module_version": "2.0.0",
       "_model_name": "LinkModel",
       "_view_count": null,
       "_view_module": "@jupyter-widgets/controls",
       "_view_module_version": "2.0.0",
       "_view_name": null,
       "source": [
        "IPY_MODEL_770af506c20b4b83aba31c46ffaca885",
        "max"
       ],
       "target": [
        "IPY_MODEL_786344a2968543928ef23b4817e5286b",
        "max_frame"
       ]
      }
     },
     "320125a6b4fc40ee9f6246b26fdb4c6a": {
      "model_module": "@jupyter-widgets/controls",
      "model_module_version": "2.0.0",
      "model_name": "ButtonStyleModel",
      "state": {
       "_model_module": "@jupyter-widgets/controls",
       "_model_module_version": "2.0.0",
       "_model_name": "ButtonStyleModel",
       "_view_count": null,
       "_view_module": "@jupyter-widgets/base",
       "_view_module_version": "2.0.0",
       "_view_name": "StyleView",
       "button_color": null,
       "font_family": null,
       "font_size": null,
       "font_style": null,
       "font_variant": null,
       "font_weight": null,
       "text_color": null,
       "text_decoration": null
      }
     },
     "45f7c8d3b2834fa5bd35428644e8a3b2": {
      "model_module": "@jupyter-widgets/base",
      "model_module_version": "2.0.0",
      "model_name": "LayoutModel",
      "state": {
       "_model_module": "@jupyter-widgets/base",
       "_model_module_version": "2.0.0",
       "_model_name": "LayoutModel",
       "_view_count": null,
       "_view_module": "@jupyter-widgets/base",
       "_view_module_version": "2.0.0",
       "_view_name": "LayoutView",
       "align_content": null,
       "align_items": null,
       "align_self": null,
       "border_bottom": null,
       "border_left": null,
       "border_right": null,
       "border_top": null,
       "bottom": null,
       "display": null,
       "flex": null,
       "flex_flow": null,
       "grid_area": null,
       "grid_auto_columns": null,
       "grid_auto_flow": null,
       "grid_auto_rows": null,
       "grid_column": null,
       "grid_gap": null,
       "grid_row": null,
       "grid_template_areas": null,
       "grid_template_columns": null,
       "grid_template_rows": null,
       "height": null,
       "justify_content": null,
       "justify_items": null,
       "left": null,
       "margin": null,
       "max_height": null,
       "max_width": null,
       "min_height": null,
       "min_width": null,
       "object_fit": null,
       "object_position": null,
       "order": null,
       "overflow": null,
       "padding": null,
       "right": null,
       "top": null,
       "visibility": null,
       "width": null
      }
     },
     "5728048b9d124d07a919014880575b3e": {
      "model_module": "@jupyter-widgets/controls",
      "model_module_version": "2.0.0",
      "model_name": "LinkModel",
      "state": {
       "_model_module": "@jupyter-widgets/controls",
       "_model_module_version": "2.0.0",
       "_model_name": "LinkModel",
       "_view_count": null,
       "_view_module": "@jupyter-widgets/controls",
       "_view_module_version": "2.0.0",
       "_view_name": null,
       "source": [
        "IPY_MODEL_02c65c2c1aa04b5eaac4b7be566666b2",
        "value"
       ],
       "target": [
        "IPY_MODEL_786344a2968543928ef23b4817e5286b",
        "frame"
       ]
      }
     },
     "6170fb441bd24b5692b15ac106d85bde": {
      "model_module": "@jupyter-widgets/base",
      "model_module_version": "2.0.0",
      "model_name": "LayoutModel",
      "state": {
       "_model_module": "@jupyter-widgets/base",
       "_model_module_version": "2.0.0",
       "_model_name": "LayoutModel",
       "_view_count": null,
       "_view_module": "@jupyter-widgets/base",
       "_view_module_version": "2.0.0",
       "_view_name": "LayoutView",
       "align_content": null,
       "align_items": null,
       "align_self": null,
       "border_bottom": null,
       "border_left": null,
       "border_right": null,
       "border_top": null,
       "bottom": null,
       "display": null,
       "flex": null,
       "flex_flow": null,
       "grid_area": null,
       "grid_auto_columns": null,
       "grid_auto_flow": null,
       "grid_auto_rows": null,
       "grid_column": null,
       "grid_gap": null,
       "grid_row": null,
       "grid_template_areas": null,
       "grid_template_columns": null,
       "grid_template_rows": null,
       "height": null,
       "justify_content": null,
       "justify_items": null,
       "left": null,
       "margin": null,
       "max_height": null,
       "max_width": null,
       "min_height": null,
       "min_width": null,
       "object_fit": null,
       "object_position": null,
       "order": null,
       "overflow": null,
       "padding": null,
       "right": null,
       "top": null,
       "visibility": null,
       "width": null
      }
     },
     "6fa06711ea024ab59822f5f88799b136": {
      "model_module": "@jupyter-widgets/base",
      "model_module_version": "2.0.0",
      "model_name": "LayoutModel",
      "state": {
       "_model_module": "@jupyter-widgets/base",
       "_model_module_version": "2.0.0",
       "_model_name": "LayoutModel",
       "_view_count": null,
       "_view_module": "@jupyter-widgets/base",
       "_view_module_version": "2.0.0",
       "_view_name": "LayoutView",
       "align_content": null,
       "align_items": null,
       "align_self": null,
       "border_bottom": null,
       "border_left": null,
       "border_right": null,
       "border_top": null,
       "bottom": null,
       "display": null,
       "flex": null,
       "flex_flow": null,
       "grid_area": null,
       "grid_auto_columns": null,
       "grid_auto_flow": null,
       "grid_auto_rows": null,
       "grid_column": null,
       "grid_gap": null,
       "grid_row": null,
       "grid_template_areas": null,
       "grid_template_columns": null,
       "grid_template_rows": null,
       "height": null,
       "justify_content": null,
       "justify_items": null,
       "left": null,
       "margin": null,
       "max_height": null,
       "max_width": null,
       "min_height": null,
       "min_width": null,
       "object_fit": null,
       "object_position": null,
       "order": null,
       "overflow": null,
       "padding": null,
       "right": null,
       "top": null,
       "visibility": null,
       "width": null
      }
     },
     "770af506c20b4b83aba31c46ffaca885": {
      "model_module": "@jupyter-widgets/controls",
      "model_module_version": "2.0.0",
      "model_name": "IntSliderModel",
      "state": {
       "_dom_classes": [],
       "_model_module": "@jupyter-widgets/controls",
       "_model_module_version": "2.0.0",
       "_model_name": "IntSliderModel",
       "_view_count": null,
       "_view_module": "@jupyter-widgets/controls",
       "_view_module_version": "2.0.0",
       "_view_name": "IntSliderView",
       "behavior": "drag-tap",
       "continuous_update": true,
       "description": "",
       "description_allow_html": false,
       "disabled": false,
       "layout": "IPY_MODEL_6170fb441bd24b5692b15ac106d85bde",
       "max": 0,
       "min": 0,
       "orientation": "horizontal",
       "readout": true,
       "readout_format": "d",
       "step": 1,
       "style": "IPY_MODEL_9735fdc2dd8d49d0b2bb4ec935ca4226",
       "tabbable": null,
       "tooltip": null,
       "value": 0
      }
     },
     "786344a2968543928ef23b4817e5286b": {
      "model_module": "nglview-js-widgets",
      "model_module_version": "3.0.6",
      "model_name": "NGLModel",
      "state": {
       "_camera_orientation": [],
       "_camera_str": "orthographic",
       "_dom_classes": [],
       "_gui_theme": null,
       "_ibtn_fullscreen": "IPY_MODEL_7f5fea50b7524937bf686c7f1299b4b9",
       "_igui": null,
       "_iplayer": "IPY_MODEL_1e6b3846d6154c3e887ba12d9245e741",
       "_model_module": "nglview-js-widgets",
       "_model_module_version": "3.0.6",
       "_model_name": "NGLModel",
       "_ngl_color_dict": {},
       "_ngl_coordinate_resource": {},
       "_ngl_full_stage_parameters": {},
       "_ngl_msg_archive": [
        {
         "args": [
          {
           "binary": false,
           "data": "\nQCElemental\n\n 68 72  0  0  0  0  0  0  0  0  0\n    9.2032   -6.7679   -1.9971  C  0  0     0  0  0  0  0  0\n    9.0520   -8.1319   -1.7733  C  0  0     0  0  0  0  0  0\n    2.6692   -6.4982   -1.3523  C  0  0     0  0  0  0  0  0\n    4.6190   -5.7540   -2.5696  C  0  0     0  0  0  0  0  0\n    2.0562   -5.2663   -1.5812  C  0  0     0  0  0  0  0  0\n    4.0059   -4.5222   -2.7985  C  0  0     0  0  0  0  0  0\n    4.5118  -11.6588    1.7593  C  0  0     0  0  0  0  0  0\n    4.0655  -10.4404    1.2475  C  0  0     0  0  0  0  0  0\n   10.1962  -11.3560   -3.1170  C  0  0     0  0  0  0  0  0\n    5.6153  -10.6464   -0.5945  C  0  0     0  0  0  0  0  0\n    9.7641   -6.3660   -3.1986  C  0  0     0  0  0  0  0  0\n    9.9531  -12.6877   -2.8492  C  0  0     0  0  0  0  0  0\n   10.0100   -8.5359   -3.9123  C  0  0     0  0  0  0  0  0\n    9.4607   -9.0395   -2.7442  C  0  0     0  0  0  0  0  0\n    3.9506   -6.7420   -1.8465  C  0  0     0  0  0  0  0  0\n    2.7246   -4.2783   -2.3043  C  0  0     0  0  0  0  0  0\n    5.5100  -12.3710    1.0942  C  0  0     0  0  0  0  0  0\n    4.6172   -9.9342    0.0706  C  0  0     0  0  0  0  0  0\n    6.0617  -11.8648   -0.0826  C  0  0     0  0  0  0  0  0\n    9.3175  -10.4612   -2.5412  C  0  0     0  0  0  0  0  0\n    8.1473  -12.1542   -1.5760  C  0  0     0  0  0  0  0  0\n    4.5890   -8.0266   -1.6069  C  0  0     0  0  0  0  0  0\n    2.6725   -0.9061    0.5630  C  0  0     0  0  0  0  0  0\n    2.9051    0.5303   -1.3601  C  0  0     0  0  0  0  0  0\n    2.0944   -2.0087   -0.3307  C  0  0     0  0  0  0  0  0\n    2.3282   -0.5731   -2.2537  C  0  0     0  0  0  0  0  0\n    5.9689  -13.6734    1.6646  C  0  0     0  0  0  0  0  0\n    2.9378    1.4724    0.8595  C  0  0     0  0  0  0  0  0\n    2.0656   -2.9518   -2.5500  C  0  0     0  0  0  0  0  0\n   10.1729   -7.2179   -4.1654  N  0  0     0  0  0  0  0  0\n    8.9341  -13.1238   -2.0801  N  0  0     0  0  0  0  0  0\n    8.2782  -10.8269   -1.7625  N  0  0     0  0  0  0  0  0\n    2.3836    0.4218    0.0078  N  0  0     0  0  0  0  0  0\n    2.6179   -1.9006   -1.6979  N  0  0     0  0  0  0  0  0\n    7.0737  -12.5723   -0.7682  N  0  0     0  0  0  0  0  0\n    4.1634   -8.6955   -0.4488  N  0  0     0  0  0  0  0  0\n    5.4678   -8.4678   -2.3604  O  0  0     0  0  0  0  0  0\n    8.8912   -6.0417   -1.2554  H  0  0     0  0  0  0  0  0\n    8.6146   -8.4728   -0.8383  H  0  0     0  0  0  0  0  0\n    2.1389   -7.2606   -0.7877  H  0  0     0  0  0  0  0  0\n    5.6177   -5.9339   -2.9589  H  0  0     0  0  0  0  0  0\n    1.0577   -5.0847   -1.1920  H  0  0     0  0  0  0  0  0\n    4.5341   -3.7581   -3.3625  H  0  0     0  0  0  0  0  0\n    4.0755  -12.0450    2.6766  H  0  0     0  0  0  0  0  0\n    3.2869   -9.8937    1.7735  H  0  0     0  0  0  0  0  0\n   11.0265  -11.0484   -3.7405  H  0  0     0  0  0  0  0  0\n    6.0458  -10.2511   -1.5123  H  0  0     0  0  0  0  0  0\n    9.9040   -5.3131   -3.4213  H  0  0     0  0  0  0  0  0\n   10.5905  -13.4645   -3.2582  H  0  0     0  0  0  0  0  0\n   10.3477   -9.1916   -4.7098  H  0  0     0  0  0  0  0  0\n    2.2212   -0.9976    1.5585  H  0  0     0  0  0  0  0  0\n    3.7546   -1.0551    0.6801  H  0  0     0  0  0  0  0  0\n    4.0022    0.4745   -1.3668  H  0  0     0  0  0  0  0  0\n    2.6257    1.5011   -1.7873  H  0  0     0  0  0  0  0  0\n    2.3726   -2.9797    0.0967  H  0  0     0  0  0  0  0  0\n    0.9974   -1.9516   -0.3251  H  0  0     0  0  0  0  0  0\n    1.2460   -0.4249   -2.3711  H  0  0     0  0  0  0  0  0\n    2.7796   -0.4816   -3.2491  H  0  0     0  0  0  0  0  0\n    5.3685  -14.4967    1.2611  H  0  0     0  0  0  0  0  0\n    7.0233  -13.8599    1.4272  H  0  0     0  0  0  0  0  0\n    5.8814  -13.6794    2.7580  H  0  0     0  0  0  0  0  0\n    2.5423    1.3810    1.8745  H  0  0     0  0  0  0  0  0\n    2.6726    2.4574    0.4659  H  0  0     0  0  0  0  0  0\n    4.0275    1.3922    0.8979  H  0  0     0  0  0  0  0  0\n    2.1955   -2.6435   -3.5931  H  0  0     0  0  0  0  0  0\n    0.9887   -3.0066   -2.3587  H  0  0     0  0  0  0  0  0\n    7.0115  -13.5790   -0.6547  H  0  0     0  0  0  0  0  0\n    3.4347   -8.2313    0.0877  H  0  0     0  0  0  0  0  0\n  1  2  2  0  0  0  0\n  1 11  1  0  0  0  0\n  1 38  1  0  0  0  0\n  2 14  1  0  0  0  0\n  2 39  1  0  0  0  0\n  3  5  1  0  0  0  0\n  3 15  2  0  0  0  0\n  3 40  1  0  0  0  0\n  4  6  2  0  0  0  0\n  4 15  1  0  0  0  0\n  4 41  1  0  0  0  0\n  5 16  2  0  0  0  0\n  5 42  1  0  0  0  0\n  6 16  1  0  0  0  0\n  6 43  1  0  0  0  0\n  7  8  1  0  0  0  0\n  7 17  2  0  0  0  0\n  7 44  1  0  0  0  0\n  8 18  2  0  0  0  0\n  8 45  1  0  0  0  0\n  9 12  1  0  0  0  0\n  9 20  2  0  0  0  0\n  9 46  1  0  0  0  0\n 10 18  1  0  0  0  0\n 10 19  2  0  0  0  0\n 10 47  1  0  0  0  0\n 11 30  2  0  0  0  0\n 11 48  1  0  0  0  0\n 12 31  2  0  0  0  0\n 12 49  1  0  0  0  0\n 13 14  2  0  0  0  0\n 13 30  1  0  0  0  0\n 13 50  1  0  0  0  0\n 14 20  1  0  0  0  0\n 15 22  1  0  0  0  0\n 16 29  1  0  0  0  0\n 17 19  1  0  0  0  0\n 17 27  1  0  0  0  0\n 18 36  1  0  0  0  0\n 19 35  1  0  0  0  0\n 20 32  1  0  0  0  0\n 21 31  1  0  0  0  0\n 21 32  2  0  0  0  0\n 21 35  1  0  0  0  0\n 22 36  1  0  0  0  0\n 22 37  2  0  0  0  0\n 23 25  1  0  0  0  0\n 23 33  1  0  0  0  0\n 23 51  1  0  0  0  0\n 23 52  1  0  0  0  0\n 24 26  1  0  0  0  0\n 24 33  1  0  0  0  0\n 24 53  1  0  0  0  0\n 24 54  1  0  0  0  0\n 25 34  1  0  0  0  0\n 25 55  1  0  0  0  0\n 25 56  1  0  0  0  0\n 26 34  1  0  0  0  0\n 26 57  1  0  0  0  0\n 26 58  1  0  0  0  0\n 27 59  1  0  0  0  0\n 27 60  1  0  0  0  0\n 27 61  1  0  0  0  0\n 28 33  1  0  0  0  0\n 28 62  1  0  0  0  0\n 28 63  1  0  0  0  0\n 28 64  1  0  0  0  0\n 29 34  1  0  0  0  0\n 29 65  1  0  0  0  0\n 29 66  1  0  0  0  0\n 35 67  1  0  0  0  0\n 36 68  1  0  0  0  0\n",
           "type": "blob"
          }
         ],
         "kwargs": {
          "defaultRepresentation": true,
          "ext": "sdf"
         },
         "methodName": "loadFile",
         "reconstruc_color_scheme": false,
         "target": "Stage",
         "type": "call_method"
        }
       ],
       "_ngl_original_stage_parameters": {},
       "_ngl_repr_dict": {},
       "_ngl_serialize": false,
       "_ngl_version": "",
       "_ngl_view_id": [],
       "_player_dict": {},
       "_scene_position": {},
       "_scene_rotation": {},
       "_synced_model_ids": [],
       "_synced_repr_model_ids": [],
       "_view_count": null,
       "_view_height": "",
       "_view_module": "nglview-js-widgets",
       "_view_module_version": "3.0.6",
       "_view_name": "NGLView",
       "_view_width": "",
       "background": "white",
       "frame": 0,
       "gui_style": null,
       "layout": "IPY_MODEL_45f7c8d3b2834fa5bd35428644e8a3b2",
       "max_frame": 0,
       "n_components": 0,
       "picked": {},
       "tabbable": null,
       "tooltip": null
      }
     },
     "7f5fea50b7524937bf686c7f1299b4b9": {
      "model_module": "@jupyter-widgets/controls",
      "model_module_version": "2.0.0",
      "model_name": "ButtonModel",
      "state": {
       "_dom_classes": [],
       "_model_module": "@jupyter-widgets/controls",
       "_model_module_version": "2.0.0",
       "_model_name": "ButtonModel",
       "_view_count": null,
       "_view_module": "@jupyter-widgets/controls",
       "_view_module_version": "2.0.0",
       "_view_name": "ButtonView",
       "button_style": "",
       "description": "",
       "disabled": false,
       "icon": "compress",
       "layout": "IPY_MODEL_fa6cf7a21373468f985b5b9f8e70ebc6",
       "style": "IPY_MODEL_320125a6b4fc40ee9f6246b26fdb4c6a",
       "tabbable": null,
       "tooltip": null
      }
     },
     "9020d182e72647e5950ce86db3c36ad8": {
      "model_module": "@jupyter-widgets/controls",
      "model_module_version": "2.0.0",
      "model_name": "LinkModel",
      "state": {
       "_model_module": "@jupyter-widgets/controls",
       "_model_module_version": "2.0.0",
       "_model_name": "LinkModel",
       "_view_count": null,
       "_view_module": "@jupyter-widgets/controls",
       "_view_module_version": "2.0.0",
       "_view_name": null,
       "source": [
        "IPY_MODEL_02c65c2c1aa04b5eaac4b7be566666b2",
        "max"
       ],
       "target": [
        "IPY_MODEL_786344a2968543928ef23b4817e5286b",
        "max_frame"
       ]
      }
     },
     "9735fdc2dd8d49d0b2bb4ec935ca4226": {
      "model_module": "@jupyter-widgets/controls",
      "model_module_version": "2.0.0",
      "model_name": "SliderStyleModel",
      "state": {
       "_model_module": "@jupyter-widgets/controls",
       "_model_module_version": "2.0.0",
       "_model_name": "SliderStyleModel",
       "_view_count": null,
       "_view_module": "@jupyter-widgets/base",
       "_view_module_version": "2.0.0",
       "_view_name": "StyleView",
       "description_width": "",
       "handle_color": null
      }
     },
     "abe812a9426f4942bcb8b48065488512": {
      "model_module": "@jupyter-widgets/base",
      "model_module_version": "2.0.0",
      "model_name": "LayoutModel",
      "state": {
       "_model_module": "@jupyter-widgets/base",
       "_model_module_version": "2.0.0",
       "_model_name": "LayoutModel",
       "_view_count": null,
       "_view_module": "@jupyter-widgets/base",
       "_view_module_version": "2.0.0",
       "_view_name": "LayoutView",
       "align_content": null,
       "align_items": null,
       "align_self": null,
       "border_bottom": null,
       "border_left": null,
       "border_right": null,
       "border_top": null,
       "bottom": null,
       "display": null,
       "flex": null,
       "flex_flow": null,
       "grid_area": null,
       "grid_auto_columns": null,
       "grid_auto_flow": null,
       "grid_auto_rows": null,
       "grid_column": null,
       "grid_gap": null,
       "grid_row": null,
       "grid_template_areas": null,
       "grid_template_columns": null,
       "grid_template_rows": null,
       "height": null,
       "justify_content": null,
       "justify_items": null,
       "left": null,
       "margin": null,
       "max_height": null,
       "max_width": null,
       "min_height": null,
       "min_width": null,
       "object_fit": null,
       "object_position": null,
       "order": null,
       "overflow": null,
       "padding": null,
       "right": null,
       "top": null,
       "visibility": null,
       "width": null
      }
     },
     "d61bddb6d83047ba8d59640df5f45cd0": {
      "model_module": "@jupyter-widgets/base",
      "model_module_version": "2.0.0",
      "model_name": "LayoutModel",
      "state": {
       "_model_module": "@jupyter-widgets/base",
       "_model_module_version": "2.0.0",
       "_model_name": "LayoutModel",
       "_view_count": null,
       "_view_module": "@jupyter-widgets/base",
       "_view_module_version": "2.0.0",
       "_view_name": "LayoutView",
       "align_content": null,
       "align_items": null,
       "align_self": null,
       "border_bottom": null,
       "border_left": null,
       "border_right": null,
       "border_top": null,
       "bottom": null,
       "display": null,
       "flex": null,
       "flex_flow": null,
       "grid_area": null,
       "grid_auto_columns": null,
       "grid_auto_flow": null,
       "grid_auto_rows": null,
       "grid_column": null,
       "grid_gap": null,
       "grid_row": null,
       "grid_template_areas": null,
       "grid_template_columns": null,
       "grid_template_rows": null,
       "height": null,
       "justify_content": null,
       "justify_items": null,
       "left": null,
       "margin": null,
       "max_height": null,
       "max_width": null,
       "min_height": null,
       "min_width": null,
       "object_fit": null,
       "object_position": null,
       "order": null,
       "overflow": null,
       "padding": null,
       "right": null,
       "top": null,
       "visibility": null,
       "width": null
      }
     },
     "d78596363c684fe2801cddcd30fba528": {
      "model_module": "@jupyter-widgets/controls",
      "model_module_version": "2.0.0",
      "model_name": "LinkModel",
      "state": {
       "_model_module": "@jupyter-widgets/controls",
       "_model_module_version": "2.0.0",
       "_model_name": "LinkModel",
       "_view_count": null,
       "_view_module": "@jupyter-widgets/controls",
       "_view_module_version": "2.0.0",
       "_view_name": null,
       "source": [
        "IPY_MODEL_02c65c2c1aa04b5eaac4b7be566666b2",
        "value"
       ],
       "target": [
        "IPY_MODEL_770af506c20b4b83aba31c46ffaca885",
        "value"
       ]
      }
     },
     "db7f7334501c45ad9c41f1e16c22fad7": {
      "model_module": "@jupyter-widgets/controls",
      "model_module_version": "2.0.0",
      "model_name": "DescriptionStyleModel",
      "state": {
       "_model_module": "@jupyter-widgets/controls",
       "_model_module_version": "2.0.0",
       "_model_name": "DescriptionStyleModel",
       "_view_count": null,
       "_view_module": "@jupyter-widgets/base",
       "_view_module_version": "2.0.0",
       "_view_name": "StyleView",
       "description_width": ""
      }
     },
     "e03879e574fc4f6aa9dbc7dab6969536": {
      "buffers": [
       {
        "data": "",
        "encoding": "base64",
        "path": [
         "value"
        ]
       }
      ],
      "model_module": "@jupyter-widgets/controls",
      "model_module_version": "2.0.0",
      "model_name": "ImageModel",
      "state": {
       "_dom_classes": [],
       "_model_module": "@jupyter-widgets/controls",
       "_model_module_version": "2.0.0",
       "_model_name": "ImageModel",
       "_view_count": null,
       "_view_module": "@jupyter-widgets/controls",
       "_view_module_version": "2.0.0",
       "_view_name": "ImageView",
       "format": "png",
       "height": "",
       "layout": "IPY_MODEL_abe812a9426f4942bcb8b48065488512",
       "tabbable": null,
       "tooltip": null,
       "value": {},
       "width": "900.0"
      }
     },
     "e39ad0825c474f6fabbe71f1f3d77449": {
      "model_module": "@jupyter-widgets/base",
      "model_module_version": "2.0.0",
      "model_name": "LayoutModel",
      "state": {
       "_model_module": "@jupyter-widgets/base",
       "_model_module_version": "2.0.0",
       "_model_name": "LayoutModel",
       "_view_count": null,
       "_view_module": "@jupyter-widgets/base",
       "_view_module_version": "2.0.0",
       "_view_name": "LayoutView",
       "align_content": null,
       "align_items": null,
       "align_self": null,
       "border_bottom": null,
       "border_left": null,
       "border_right": null,
       "border_top": null,
       "bottom": null,
       "display": null,
       "flex": null,
       "flex_flow": null,
       "grid_area": null,
       "grid_auto_columns": null,
       "grid_auto_flow": null,
       "grid_auto_rows": null,
       "grid_column": null,
       "grid_gap": null,
       "grid_row": null,
       "grid_template_areas": null,
       "grid_template_columns": null,
       "grid_template_rows": null,
       "height": null,
       "justify_content": null,
       "justify_items": null,
       "left": null,
       "margin": null,
       "max_height": null,
       "max_width": null,
       "min_height": null,
       "min_width": null,
       "object_fit": null,
       "object_position": null,
       "order": null,
       "overflow": null,
       "padding": null,
       "right": null,
       "top": null,
       "visibility": null,
       "width": null
      }
     },
     "fa6cf7a21373468f985b5b9f8e70ebc6": {
      "model_module": "@jupyter-widgets/base",
      "model_module_version": "2.0.0",
      "model_name": "LayoutModel",
      "state": {
       "_model_module": "@jupyter-widgets/base",
       "_model_module_version": "2.0.0",
       "_model_name": "LayoutModel",
       "_view_count": null,
       "_view_module": "@jupyter-widgets/base",
       "_view_module_version": "2.0.0",
       "_view_name": "LayoutView",
       "align_content": null,
       "align_items": null,
       "align_self": null,
       "border_bottom": null,
       "border_left": null,
       "border_right": null,
       "border_top": null,
       "bottom": null,
       "display": null,
       "flex": null,
       "flex_flow": null,
       "grid_area": null,
       "grid_auto_columns": null,
       "grid_auto_flow": null,
       "grid_auto_rows": null,
       "grid_column": null,
       "grid_gap": null,
       "grid_row": null,
       "grid_template_areas": null,
       "grid_template_columns": null,
       "grid_template_rows": null,
       "height": null,
       "justify_content": null,
       "justify_items": null,
       "left": null,
       "margin": null,
       "max_height": null,
       "max_width": null,
       "min_height": null,
       "min_width": null,
       "object_fit": null,
       "object_position": null,
       "order": null,
       "overflow": null,
       "padding": null,
       "right": null,
       "top": null,
       "visibility": null,
       "width": "34px"
      }
     }
    },
    "version_major": 2,
    "version_minor": 0
   }
  }
 },
 "nbformat": 4,
 "nbformat_minor": 4
}

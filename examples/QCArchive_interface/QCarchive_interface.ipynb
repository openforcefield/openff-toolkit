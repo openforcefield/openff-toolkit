{
 "cells": [
  {
   "cell_type": "markdown",
   "metadata": {},
   "source": [
    "# QCArchive Interface \n",
    "\n",
    "Here we show how to create OpenFF molecules safely from data in the QCArchive using the cmiles entries, specifically we want to use the canonical_isomeric_explicit_hydrogen_mapped_smiles data which is metadata stored at the entry-level of a collection.\n",
    "\n",
    "First load up the client you wish to connect to, in this case, we use the public instance."
   ]
  },
  {
   "cell_type": "code",
   "execution_count": 1,
   "metadata": {},
   "outputs": [
    {
     "name": "stderr",
     "output_type": "stream",
     "text": [
      "Warning: importing 'simtk.openmm' is deprecated.  Import 'openmm' instead.\n"
     ]
    },
    {
     "data": {
      "text/html": [
       "<div>\n",
       "<style scoped>\n",
       "    .dataframe tbody tr th:only-of-type {\n",
       "        vertical-align: middle;\n",
       "    }\n",
       "\n",
       "    .dataframe tbody tr th {\n",
       "        vertical-align: top;\n",
       "    }\n",
       "\n",
       "    .dataframe thead th {\n",
       "        text-align: right;\n",
       "    }\n",
       "</style>\n",
       "<table border=\"1\" class=\"dataframe\">\n",
       "  <thead>\n",
       "    <tr style=\"text-align: right;\">\n",
       "      <th></th>\n",
       "      <th></th>\n",
       "      <th>tagline</th>\n",
       "    </tr>\n",
       "    <tr>\n",
       "      <th>collection</th>\n",
       "      <th>name</th>\n",
       "      <th></th>\n",
       "    </tr>\n",
       "  </thead>\n",
       "  <tbody>\n",
       "    <tr>\n",
       "      <th rowspan=\"5\" valign=\"top\">Dataset</th>\n",
       "      <th>ANI-1</th>\n",
       "      <td>22 million off-equilibrium conformations and e...</td>\n",
       "    </tr>\n",
       "    <tr>\n",
       "      <th>ANI-1ccx</th>\n",
       "      <td>Coupled cluster properties for molecules</td>\n",
       "    </tr>\n",
       "    <tr>\n",
       "      <th>ANI-1x</th>\n",
       "      <td>Density functional theory properties for molec...</td>\n",
       "    </tr>\n",
       "    <tr>\n",
       "      <th>COMP6 ANI-MD</th>\n",
       "      <td>Benchmark containing MD trajectories from the ...</td>\n",
       "    </tr>\n",
       "    <tr>\n",
       "      <th>COMP6 DrugBank</th>\n",
       "      <td>Benchmark containing DrugBank off-equilibrium ...</td>\n",
       "    </tr>\n",
       "    <tr>\n",
       "      <th>...</th>\n",
       "      <th>...</th>\n",
       "      <td>...</td>\n",
       "    </tr>\n",
       "    <tr>\n",
       "      <th rowspan=\"5\" valign=\"top\">TorsionDriveDataset</th>\n",
       "      <th>OpenFF-benchmark-ligand-fragments-v1.0</th>\n",
       "      <td>Fragmented torsiondrives of JACS benchmark inh...</td>\n",
       "    </tr>\n",
       "    <tr>\n",
       "      <th>Pfizer Discrepancy Torsion Dataset 1</th>\n",
       "      <td>None</td>\n",
       "    </tr>\n",
       "    <tr>\n",
       "      <th>SMIRNOFF Coverage Torsion Set 1</th>\n",
       "      <td>None</td>\n",
       "    </tr>\n",
       "    <tr>\n",
       "      <th>SiliconTX Torsion Benchmark Set 1</th>\n",
       "      <td>None</td>\n",
       "    </tr>\n",
       "    <tr>\n",
       "      <th>TorsionDrive Paper</th>\n",
       "      <td>None</td>\n",
       "    </tr>\n",
       "  </tbody>\n",
       "</table>\n",
       "<p>154 rows × 1 columns</p>\n",
       "</div>"
      ],
      "text/plain": [
       "                                                                                                      tagline\n",
       "collection          name                                                                                     \n",
       "Dataset             ANI-1                                   22 million off-equilibrium conformations and e...\n",
       "                    ANI-1ccx                                         Coupled cluster properties for molecules\n",
       "                    ANI-1x                                  Density functional theory properties for molec...\n",
       "                    COMP6 ANI-MD                            Benchmark containing MD trajectories from the ...\n",
       "                    COMP6 DrugBank                          Benchmark containing DrugBank off-equilibrium ...\n",
       "...                                                                                                       ...\n",
       "TorsionDriveDataset OpenFF-benchmark-ligand-fragments-v1.0  Fragmented torsiondrives of JACS benchmark inh...\n",
       "                    Pfizer Discrepancy Torsion Dataset 1                                                 None\n",
       "                    SMIRNOFF Coverage Torsion Set 1                                                      None\n",
       "                    SiliconTX Torsion Benchmark Set 1                                                    None\n",
       "                    TorsionDrive Paper                                                                   None\n",
       "\n",
       "[154 rows x 1 columns]"
      ]
     },
     "execution_count": 1,
     "metadata": {},
     "output_type": "execute_result"
    }
   ],
   "source": [
    "import qcportal as ptl\n",
    "\n",
    "from openff.toolkit.topology import Molecule\n",
    "\n",
    "client = ptl.FractalClient()\n",
    "# list the collections available\n",
    "client.list_collections()"
   ]
  },
  {
   "cell_type": "markdown",
   "metadata": {},
   "source": [
    "Now let us grab a molecule from an optimization dataset"
   ]
  },
  {
   "cell_type": "code",
   "execution_count": 2,
   "metadata": {},
   "outputs": [],
   "source": [
    "ds = client.get_collection(\n",
    "    \"OptimizationDataset\", \"Kinase Inhibitors: WBO Distributions\"\n",
    ")"
   ]
  },
  {
   "cell_type": "markdown",
   "metadata": {},
   "source": [
    "Take the first entry from the collection. "
   ]
  },
  {
   "cell_type": "code",
   "execution_count": 3,
   "metadata": {},
   "outputs": [],
   "source": [
    "entry = ds.get_entry(ds.df.index[0])"
   ]
  },
  {
   "cell_type": "markdown",
   "metadata": {},
   "source": [
    "We can view the entry in detail by looking at the dictionary representation."
   ]
  },
  {
   "cell_type": "code",
   "execution_count": 4,
   "metadata": {},
   "outputs": [
    {
     "data": {
      "text/plain": [
       "{'name': 'Cc1ccc(cc1Nc2nccc(n2)c3cccnc3)NC(=O)c4ccc(cc4)CN5CCN(CC5)C-0',\n",
       " 'initial_molecule': '9589274',\n",
       " 'additional_keywords': {},\n",
       " 'attributes': {'canonical_explicit_hydrogen_smiles': '[H]c1c(c(c(nc1[H])[H])c2c(c(nc(n2)N([H])c3c(c(c(c(c3C([H])([H])[H])[H])[H])N([H])C(=O)c4c(c(c(c(c4[H])[H])C([H])([H])N5C(C(N(C(C5([H])[H])([H])[H])C([H])([H])[H])([H])[H])([H])[H])[H])[H])[H])[H])[H])[H]',\n",
       "  'canonical_isomeric_explicit_hydrogen_mapped_smiles': '[H:38][c:1]1[c:2]([c:14]([c:13]([n:30][c:11]1[H:48])[H:50])[c:20]2[c:9]([c:12]([n:31][c:21]([n:32]2)[N:35]([H:67])[c:19]3[c:10]([c:18]([c:8]([c:7]([c:17]3[C:27]([H:59])([H:60])[H:61])[H:44])[H:45])[N:36]([H:68])[C:22](=[O:37])[c:15]4[c:3]([c:5]([c:16]([c:6]([c:4]4[H:41])[H:43])[C:29]([H:65])([H:66])[N:34]5[C:25]([C:23]([N:33]([C:24]([C:26]5([H:57])[H:58])([H:53])[H:54])[C:28]([H:62])([H:63])[H:64])([H:51])[H:52])([H:55])[H:56])[H:42])[H:40])[H:47])[H:49])[H:46])[H:39]',\n",
       "  'canonical_isomeric_explicit_hydrogen_smiles': '[H]c1c(c(c(nc1[H])[H])c2c(c(nc(n2)N([H])c3c(c(c(c(c3C([H])([H])[H])[H])[H])N([H])C(=O)c4c(c(c(c(c4[H])[H])C([H])([H])N5C(C(N(C(C5([H])[H])([H])[H])C([H])([H])[H])([H])[H])([H])[H])[H])[H])[H])[H])[H])[H]',\n",
       "  'canonical_isomeric_smiles': 'Cc1ccc(cc1Nc2nccc(n2)c3cccnc3)NC(=O)c4ccc(cc4)CN5CCN(CC5)C',\n",
       "  'canonical_smiles': 'Cc1ccc(cc1Nc2nccc(n2)c3cccnc3)NC(=O)c4ccc(cc4)CN5CCN(CC5)C',\n",
       "  'inchi_key': 'KTUFNOKKBVMGRW-UHFFFAOYSA-N',\n",
       "  'molecular_formula': 'C29H31N7O',\n",
       "  'provenance': 'cmiles_v0.1.5+1.gdbd63e8_openeye_2019.Apr.2',\n",
       "  'standard_inchi': 'InChI=1S/C29H31N7O/c1-21-5-10-25(18-27(21)34-29-31-13-11-26(33-29)24-4-3-12-30-19-24)32-28(37)23-8-6-22(7-9-23)20-36-16-14-35(2)15-17-36/h3-13,18-19H,14-17,20H2,1-2H3,(H,32,37)(H,31,33,34)',\n",
       "  'unique_protomer_representation': 'Cc1ccc(cc1Nc2nccc(n2)c3cccnc3)NC(=O)c4ccc(cc4)CN5CCN(CC5)C',\n",
       "  'unique_tautomer_representation': 'Cc1ccc(NC(=O)c2ccc(CN3CCN(C)CC3)cc2)cc1N=c1nc(-c2cccnc2)cc[nH]1'},\n",
       " 'object_map': {'HF3c': '9425725', 'default': '9527898'}}"
      ]
     },
     "execution_count": 4,
     "metadata": {},
     "output_type": "execute_result"
    }
   ],
   "source": [
    "entry.dict()"
   ]
  },
  {
   "cell_type": "markdown",
   "metadata": {},
   "source": [
    "Now we can make a molecule using a few different input options."
   ]
  },
  {
   "cell_type": "code",
   "execution_count": 5,
   "metadata": {},
   "outputs": [],
   "source": [
    "# first make a molecule using this record object\n",
    "mol_record = Molecule.from_qcschema(entry)\n",
    "\n",
    "# we could have also used the dictionary representation of the object\n",
    "mol_dict = Molecule.from_qcschema(entry.dict(encoding=\"json\"))"
   ]
  },
  {
   "cell_type": "code",
   "execution_count": 6,
   "metadata": {
    "scrolled": true
   },
   "outputs": [
    {
     "name": "stdout",
     "output_type": "stream",
     "text": [
      "6 6\n",
      "6 6\n",
      "6 6\n",
      "6 6\n",
      "6 6\n",
      "6 6\n",
      "6 6\n",
      "6 6\n",
      "6 6\n",
      "6 6\n",
      "6 6\n",
      "6 6\n",
      "6 6\n",
      "6 6\n",
      "6 6\n",
      "6 6\n",
      "6 6\n",
      "6 6\n",
      "6 6\n",
      "6 6\n",
      "6 6\n",
      "6 6\n",
      "6 6\n",
      "6 6\n",
      "6 6\n",
      "6 6\n",
      "6 6\n",
      "6 6\n",
      "6 6\n",
      "7 7\n",
      "7 7\n",
      "7 7\n",
      "7 7\n",
      "7 7\n",
      "7 7\n",
      "7 7\n",
      "8 8\n",
      "1 1\n",
      "1 1\n",
      "1 1\n",
      "1 1\n",
      "1 1\n",
      "1 1\n",
      "1 1\n",
      "1 1\n",
      "1 1\n",
      "1 1\n",
      "1 1\n",
      "1 1\n",
      "1 1\n",
      "1 1\n",
      "1 1\n",
      "1 1\n",
      "1 1\n",
      "1 1\n",
      "1 1\n",
      "1 1\n",
      "1 1\n",
      "1 1\n",
      "1 1\n",
      "1 1\n",
      "1 1\n",
      "1 1\n",
      "1 1\n",
      "1 1\n",
      "1 1\n",
      "1 1\n",
      "1 1\n"
     ]
    }
   ],
   "source": [
    "# we check that the molecule has been ordered to match the ordering used in the data base\n",
    "# by printing out the atomic numbers of both objects in order\n",
    "\n",
    "# first lets get the initial molecule from the database\n",
    "initial_mol = client.query_molecules(id=entry.initial_molecule)[0]\n",
    "\n",
    "for atoms in zip(mol_record.atoms, initial_mol.atomic_numbers):\n",
    "    print(atoms[0].atomic_number, atoms[1])\n",
    "\n",
    "# we can also check that the molecules are the same regardless of how they are made\n",
    "assert mol_dict == mol_record"
   ]
  },
  {
   "cell_type": "code",
   "execution_count": 7,
   "metadata": {},
   "outputs": [
    {
     "name": "stdout",
     "output_type": "stream",
     "text": [
      "True\n",
      "{0: 0, 1: 1, 2: 2, 3: 3, 4: 4, 5: 5, 6: 6, 7: 7, 8: 8, 9: 9, 10: 10, 11: 11, 12: 12, 13: 13, 14: 14, 15: 15, 16: 16, 17: 17, 18: 18, 19: 19, 20: 20, 21: 21, 22: 22, 23: 23, 24: 24, 25: 25, 26: 26, 27: 27, 28: 28, 29: 29, 30: 30, 31: 31, 32: 32, 33: 33, 34: 34, 35: 35, 36: 36, 37: 37, 38: 38, 39: 39, 40: 40, 41: 41, 42: 42, 43: 43, 44: 44, 45: 45, 46: 46, 47: 47, 48: 48, 49: 49, 50: 50, 51: 51, 52: 52, 53: 53, 54: 54, 55: 55, 56: 56, 57: 57, 58: 58, 59: 59, 60: 60, 61: 61, 62: 62, 63: 63, 64: 64, 65: 65, 66: 66, 67: 67}\n"
     ]
    }
   ],
   "source": [
    "# we can also compare the graph representations of the molecules to make sure they are in the same order\n",
    "import networkx as nx\n",
    "\n",
    "# make a graph of the initial molecule using newtorkx and the data in the record\n",
    "initial_network = nx.Graph()\n",
    "for i, atom_num in enumerate(initial_mol.atomic_numbers):\n",
    "    initial_network.add_node(i, atomic_number=atom_num)\n",
    "\n",
    "for bond in initial_mol.connectivity:\n",
    "    initial_network.add_edge(*bond[:2])\n",
    "# now we can use the new isomorphic check to get the atom mapping\n",
    "isomorphic, atom_map = Molecule.are_isomorphic(\n",
    "    mol_record,\n",
    "    initial_network,\n",
    "    return_atom_map=True,\n",
    "    aromatic_matching=False,\n",
    "    formal_charge_matching=False,\n",
    "    bond_order_matching=False,\n",
    "    bond_stereochemistry_matching=False,\n",
    "    atom_stereochemistry_matching=False,\n",
    ")\n",
    "\n",
    "# we can print if the graph was found to be isomorphic and then the atom mapping\n",
    "# the atoms are in the same order here as the idexes are the same in the mapping\n",
    "print(isomorphic)\n",
    "print(atom_map)"
   ]
  },
  {
   "cell_type": "markdown",
   "metadata": {},
   "source": [
    "Now that we have seen how to make the molecule, lets look at also getting the geometry as currently we have none."
   ]
  },
  {
   "cell_type": "code",
   "execution_count": 8,
   "metadata": {},
   "outputs": [
    {
     "data": {
      "text/plain": [
       "1"
      ]
     },
     "execution_count": 8,
     "metadata": {},
     "output_type": "execute_result"
    }
   ],
   "source": [
    "# check there is no geometry for the molecule\n",
    "assert mol_record.n_conformers == 0\n",
    "\n",
    "# if we also want the input geometry for the molecule, we just need to pass the relavent client instance\n",
    "mol_dict = Molecule.from_qcschema(entry.dict(encoding=\"json\"), client=client)\n",
    "\n",
    "# check that there is a conformer\n",
    "mol_dict.n_conformers"
   ]
  },
  {
   "cell_type": "code",
   "execution_count": 9,
   "metadata": {},
   "outputs": [
    {
     "data": {
      "application/vnd.jupyter.widget-view+json": {
       "model_id": "a456e9218f264f56a465840c321be4ca",
       "version_major": 2,
       "version_minor": 0
      },
      "text/plain": []
     },
     "metadata": {},
     "output_type": "display_data"
    },
    {
     "data": {
      "application/vnd.jupyter.widget-view+json": {
       "model_id": "b8199bad74124d25a0e4ef55f1a96381",
       "version_major": 2,
       "version_minor": 0
      },
      "text/plain": [
       "NGLWidget()"
      ]
     },
     "metadata": {},
     "output_type": "display_data"
    }
   ],
   "source": [
    "# Thanks to the qcschema method we also get visualisation for free, along with being able to compute\n",
    "# properties like energy, gradient and hessian with qcengine using QM, rdkit, openmm, or ANI1\n",
    "mol_dict.to_qcschema()"
   ]
  },
  {
   "cell_type": "markdown",
   "metadata": {},
   "source": [
    "Here we will try and compute the energy using RDKit (only run this cell if qcengine is installed.) "
   ]
  },
  {
   "cell_type": "code",
   "execution_count": 10,
   "metadata": {},
   "outputs": [],
   "source": [
    "# for example this molecules energy can be computed using qcengine and RDKit\n",
    "import qcengine\n",
    "\n",
    "from openff.toolkit.typing.engines.smirnoff import ForceField\n",
    "\n",
    "# set up the RDKit task\n",
    "rdkit_task = {\n",
    "    \"schema_name\": \"qcschema_input\",\n",
    "    \"schema_version\": 2,\n",
    "    \"molecule\": mol_dict.to_qcschema(),\n",
    "    \"driver\": \"energy\",\n",
    "    \"model\": {\"method\": \"uff\", \"basis\": None},\n",
    "    \"keywords\": {\"scf_type\": \"df\"},\n",
    "}\n",
    "\n",
    "# now lets compute the energy using qcengine and RDKit and print the result\n",
    "result = qcengine.compute(rdkit_task, \"rdkit\")"
   ]
  },
  {
   "cell_type": "code",
   "execution_count": 11,
   "metadata": {},
   "outputs": [
    {
     "name": "stdout",
     "output_type": "stream",
     "text": [
      "0.053473233262621864\n"
     ]
    }
   ],
   "source": [
    "# note the result is in QC units of hartrees\n",
    "print(result.return_result)"
   ]
  },
  {
   "cell_type": "code",
   "execution_count": null,
   "metadata": {},
   "outputs": [],
   "source": []
  }
 ],
 "metadata": {
  "kernelspec": {
   "display_name": "Python 3 (ipykernel)",
   "language": "python",
   "name": "python3"
  },
  "language_info": {
   "codemirror_mode": {
    "name": "ipython",
    "version": 3
   },
   "file_extension": ".py",
   "mimetype": "text/x-python",
   "name": "python",
   "nbconvert_exporter": "python",
   "pygments_lexer": "ipython3",
   "version": "3.9.6"
  }
 },
 "nbformat": 4,
 "nbformat_minor": 4
}

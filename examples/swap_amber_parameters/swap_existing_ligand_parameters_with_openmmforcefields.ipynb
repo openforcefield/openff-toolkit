{
 "cells": [
  {
   "cell_type": "markdown",
   "metadata": {},
   "source": [
    "## Replacing ligand parameters in an already-parametrized system using `openmm-forcefields`\n",
    "\n",
    "This example applies SMIRNOFF-format parameters to a BRD4 inhibitor from the [living review on binding free energy benchmark systems](https://www.annualreviews.org/doi/abs/10.1146/annurev-biophys-070816-033654) by Mobley and Gilson. The BRD4 system comes from the [accompanying GitHub repository](https://github.com/MobleyLab/benchmarksets/tree/master/input_files/BRD4).\n",
    "\n",
    "This example uses the [`openmm-forcefields` package](http://github.com/openmm/openmm-forcefields) to add a [residue template generator](http://docs.openmm.org/latest/userguide/application.html#adding-residue-template-generators) to the [`openmm.app.ForceField`](http://docs.openmm.org/latest/api-python/generated/openmm.app.forcefield.ForceField.html#openmm.app.forcefield.ForceField) to allow Open Force Field small molecule parameters to be generated on the fly when parameterizing a system containing protein, small molecules, ions, and water. This example is meant to illustrate how to apply parameters to a single ligand, but it's also easy to process many ligands.\n",
    "\n",
    "### Loading the already-parametrized system"
   ]
  },
  {
   "cell_type": "code",
   "execution_count": 1,
   "metadata": {},
   "outputs": [],
   "source": [
    "# Retrieve protein and ligand files for BRD4 and a docked inhibitor from the benchmark systems GitHub repository\n",
    "# https://github.com/MobleyLab/benchmarksets\n",
    "import requests\n",
    "\n",
    "repo_url = (\n",
    "    \"https://raw.githubusercontent.com/MobleyLab/benchmarksets/master/input_files/\"\n",
    ")\n",
    "sources = {\n",
    "    \"system.pdb\": repo_url\n",
    "    + \"BRD4/prmtop-coords/BRD4-1.pdb\",  # complete system (protein+ligand+solvent+ions)\n",
    "    \"ligand.sdf\": repo_url + \"BRD4/sdf/ligand-1.sdf\",  # ligand molecular identity\n",
    "}\n",
    "for (filename, url) in sources.items():\n",
    "    r = requests.get(url)\n",
    "    open(filename, \"w\").write(r.text)"
   ]
  },
  {
   "cell_type": "code",
   "execution_count": 2,
   "metadata": {},
   "outputs": [
    {
     "name": "stdout",
     "output_type": "stream",
     "text": [
      "11000 H-H bonds removed\n"
     ]
    }
   ],
   "source": [
    "try:\n",
    "    from openmm.app import PDBFile\n",
    "except ImportError:\n",
    "    from simtk.openmm.app import PDBFile\n",
    "\n",
    "# Read complete system in OpenMM PDBFile\n",
    "system_pdb = \"system.pdb\"\n",
    "pdbfile = PDBFile(system_pdb)\n",
    "\n",
    "# We have to remove H1-H2 bonds in waters if they are present\n",
    "# AMBER's 'ambpdb -conect' adds these H1-H2 bonds, so we must remove them\n",
    "def fix_water_bonds(topology):\n",
    "    # TODO: We should create a simpler way to do this within OpenMM's Topology object\n",
    "    n_bonds_before = sum(1 for bond in topology.bonds())\n",
    "    try:\n",
    "        from openmm.app.element import hydrogen\n",
    "    except ImportError:\n",
    "        from simtk.openmm.app.element import hydrogen\n",
    "\n",
    "    bonds_to_delete = [\n",
    "        index\n",
    "        for (index, bond) in enumerate(topology.bonds())\n",
    "        if ((bond.atom1.element == hydrogen) and (bond.atom2.element == hydrogen))\n",
    "    ]\n",
    "    bonds_to_delete.reverse()\n",
    "    for index in bonds_to_delete:\n",
    "        topology._bonds.pop(index)\n",
    "    n_bonds_after = sum(1 for bond in topology.bonds())\n",
    "    print(f\"{n_bonds_before - n_bonds_after} H-H bonds removed\")\n",
    "\n",
    "\n",
    "fix_water_bonds(pdbfile.topology)"
   ]
  },
  {
   "cell_type": "code",
   "execution_count": 3,
   "metadata": {},
   "outputs": [
    {
     "name": "stderr",
     "output_type": "stream",
     "text": [
      "Warning: Unable to load toolkit 'OpenEye Toolkit'. The Open Force Field Toolkit does not require the OpenEye Toolkits, and can use RDKit/AmberTools instead. However, if you have a valid license for the OpenEye Toolkits, consider installing them for faster performance and additional file format support: https://docs.eyesopen.com/toolkits/python/quickstart-python/linuxosx.html OpenEye offers free Toolkit licenses for academics: https://www.eyesopen.com/academic-licensing\n"
     ]
    }
   ],
   "source": [
    "import numpy as np\n",
    "\n",
    "try:\n",
    "    from openmm import unit\n",
    "except ImportError:\n",
    "    from simtk import unit\n",
    "\n",
    "# Load the definition of the small molecule in the system from an SDF file\n",
    "from openff.toolkit.topology import Molecule\n",
    "\n",
    "ligand = Molecule.from_file(\"ligand.sdf\")\n",
    "# Patch until openmmforcefield 0.7.3 is released\n",
    "if ligand.partial_charges is None:\n",
    "    ligand.partial_charges = np.zeros([ligand.n_particles]) * unit.elementary_charge"
   ]
  },
  {
   "cell_type": "code",
   "execution_count": 4,
   "metadata": {},
   "outputs": [],
   "source": [
    "# Create an OpenMM ForceField object with AMBER ff14SB and TIP3P with compatible ions\n",
    "try:\n",
    "    from openmm import app\n",
    "except ImportError:\n",
    "    from simtk.openmm import app\n",
    "\n",
    "forcefield = app.ForceField(\n",
    "    \"amber/protein.ff14SB.xml\",\n",
    "    \"amber/tip3p_standard.xml\",\n",
    "    \"amber/tip3p_HFE_multivalent.xml\",\n",
    ")\n",
    "# Use the SMIRNOFF residue template generator to load the openff-2.0.0 (\"Sage\") that knows about the ligand\n",
    "from openmmforcefields.generators import SMIRNOFFTemplateGenerator\n",
    "\n",
    "smirnoff = SMIRNOFFTemplateGenerator(forcefield=\"openff-2.0.0\", molecules=ligand)\n",
    "# Register the SMIRNOFF template generator\n",
    "forcefield.registerTemplateGenerator(smirnoff.generator)"
   ]
  },
  {
   "cell_type": "code",
   "execution_count": 5,
   "metadata": {},
   "outputs": [],
   "source": [
    "# Create a parameterized OpenMM System from the PDB topology without bond constraints so we can convert to other packages\n",
    "system = forcefield.createSystem(\n",
    "    pdbfile.topology,\n",
    "    nonbondedMethod=app.PME,\n",
    "    constraints=None,\n",
    "    rigidWater=False,\n",
    "    removeCMMotion=False,\n",
    ")"
   ]
  },
  {
   "cell_type": "markdown",
   "metadata": {},
   "source": [
    "###  Create a ParmEd Structure object to export to other formats"
   ]
  },
  {
   "cell_type": "code",
   "execution_count": 6,
   "metadata": {},
   "outputs": [],
   "source": [
    "# Create the complex Structure\n",
    "import parmed\n",
    "\n",
    "complex_structure = parmed.openmm.load_topology(pdbfile.topology, system=system)\n",
    "\n",
    "# Copy over the original coordinates and box vectors\n",
    "complex_structure.coordinates = pdbfile.positions\n",
    "complex_structure.box_vectors = pdbfile.topology.getPeriodicBoxVectors()"
   ]
  },
  {
   "cell_type": "code",
   "execution_count": 7,
   "metadata": {},
   "outputs": [],
   "source": [
    "# Save the final PDB file to make sure the conversion worked\n",
    "complex_structure.save(\"new-system.pdb\", overwrite=True)"
   ]
  },
  {
   "cell_type": "markdown",
   "metadata": {},
   "source": [
    "### Export to AMBER and GROMACS formats\n",
    "\n",
    "We started off in AMBER format, and presumably may want to continue in that format -- so let's write out to AMBER and GROMACS format:"
   ]
  },
  {
   "cell_type": "code",
   "execution_count": 8,
   "metadata": {},
   "outputs": [],
   "source": [
    "# Export the Structure to AMBER files\n",
    "complex_structure.save(\"complex-openff.prmtop\", overwrite=True)\n",
    "complex_structure.save(\"complex-openff.inpcrd\", overwrite=True)\n",
    "\n",
    "# Export the Structure to Gromacs files\n",
    "complex_structure.save(\"complex-openff.gro\", overwrite=True)\n",
    "complex_structure.save(\"complex-openff.top\", overwrite=True)"
   ]
  },
  {
   "cell_type": "markdown",
   "metadata": {},
   "source": [
    "That should conclude our work in this example. However, perhaps we should just doublecheck by ensuring we can actually run some dynamics on the combined system without any trouble.\n",
    "\n",
    "\n",
    "## As a test, run some dynamics on the combined system\n",
    "\n",
    "First, we create an OpenMM system, as we've done in other examples here. We can do this, in this case, using ParmEd's built-in `createSystem` functionality already attached to the combined `Structure`. We ask for a reasonable cutoff, constrained hydrogen bonds (note that **this keyword argument overrides the fact that we use the `unconstrained` force field above**; the ligand (and all other molecules in the system) **will** have covalent bonds to hydrogen constrainted), PME, and rigid water:"
   ]
  },
  {
   "cell_type": "code",
   "execution_count": 9,
   "metadata": {},
   "outputs": [],
   "source": [
    "from parmed.openmm import NetCDFReporter\n",
    "\n",
    "try:\n",
    "    from openmm import LangevinIntegrator, app\n",
    "except ImportError:\n",
    "    from simtk.openmm import LangevinIntegrator, app\n",
    "\n",
    "system = complex_structure.createSystem(\n",
    "    nonbondedMethod=app.PME,\n",
    "    nonbondedCutoff=9 * unit.angstrom,\n",
    "    constraints=app.HBonds,\n",
    "    rigidWater=True,\n",
    ")"
   ]
  },
  {
   "cell_type": "markdown",
   "metadata": {},
   "source": [
    "Next we'll set up the integrator, a reporter to write the trajectory, pick the timestep, and then go on to minimize the energy and run a very short amount of dynamics after setting the temperature to 300K:"
   ]
  },
  {
   "cell_type": "code",
   "execution_count": 10,
   "metadata": {},
   "outputs": [],
   "source": [
    "integrator = LangevinIntegrator(\n",
    "    300 * unit.kelvin, 1 / unit.picosecond, 0.001 * unit.picoseconds\n",
    ")\n",
    "simulation = app.Simulation(complex_structure.topology, system, integrator)\n",
    "\n",
    "# Depending on where your system came from, you may want to\n",
    "# add something like (30, 30, 30)*Angstrom to center the protein\n",
    "# (no functional effect, just visualizes better)\n",
    "# simulation.context.setPositions(complex_structure.positions + np.array([30, 30, 30])*unit.angstrom)\n",
    "\n",
    "simulation.context.setPositions(complex_structure.positions)\n",
    "\n",
    "nc_reporter = NetCDFReporter(\"trajectory.nc\", 10)\n",
    "simulation.reporters.append(nc_reporter)"
   ]
  },
  {
   "cell_type": "code",
   "execution_count": 11,
   "metadata": {},
   "outputs": [
    {
     "name": "stdout",
     "output_type": "stream",
     "text": [
      "-397109.7499424317 kJ/mol\n"
     ]
    }
   ],
   "source": [
    "# Show the initial potential energy\n",
    "potential_energy = simulation.context.getState(getEnergy=True).getPotentialEnergy()\n",
    "print(potential_energy)"
   ]
  },
  {
   "cell_type": "code",
   "execution_count": 12,
   "metadata": {},
   "outputs": [],
   "source": [
    "# Minimize the energy\n",
    "simulation.minimizeEnergy()\n",
    "minimized_coords = simulation.context.getState(getPositions=True).getPositions()"
   ]
  },
  {
   "cell_type": "code",
   "execution_count": 13,
   "metadata": {},
   "outputs": [
    {
     "name": "stderr",
     "output_type": "stream",
     "text": [
      "/home/joshmitchell/conda/envs/offdev/lib/python3.7/site-packages/parmed/amber/netcdffiles.py:409: UserWarning: Could not find netCDF4 module. Falling back on scipy implementation, which can significantly slow down simulations if used as a reporter\n",
      "  warnings.warn('Could not find netCDF4 module. Falling back on '\n"
     ]
    }
   ],
   "source": [
    "# Run some dynamics\n",
    "simulation.context.setVelocitiesToTemperature(300 * unit.kelvin)\n",
    "simulation.step(1000)"
   ]
  },
  {
   "cell_type": "code",
   "execution_count": 14,
   "metadata": {},
   "outputs": [
    {
     "name": "stdout",
     "output_type": "stream",
     "text": [
      "-500762.9999424317 kJ/mol\n"
     ]
    }
   ],
   "source": [
    "# Show the final potential energy\n",
    "potential_energy = simulation.context.getState(getEnergy=True).getPotentialEnergy()\n",
    "print(potential_energy)"
   ]
  }
 ],
 "metadata": {
  "kernelspec": {
   "display_name": "Python 3",
   "language": "python",
   "name": "python3"
  },
  "language_info": {
   "codemirror_mode": {
    "name": "ipython",
    "version": 3
   },
   "file_extension": ".py",
   "mimetype": "text/x-python",
   "name": "python",
   "nbconvert_exporter": "python",
   "pygments_lexer": "ipython3",
   "version": "3.7.10"
  },
  "toc": {
   "nav_menu": {},
   "number_sections": true,
   "sideBar": true,
   "skip_h1_title": false,
   "toc_cell": false,
   "toc_position": {},
   "toc_section_display": "block",
   "toc_window_display": false
  }
 },
 "nbformat": 4,
 "nbformat_minor": 4
}

{
 "cells": [
  {
   "cell_type": "code",
   "execution_count": 1,
   "metadata": {
    "execution": {
     "iopub.execute_input": "2021-11-29T23:37:22.719689Z",
     "iopub.status.busy": "2021-11-29T23:37:22.718970Z",
     "iopub.status.idle": "2021-11-29T23:37:24.519312Z",
     "shell.execute_reply": "2021-11-29T23:37:24.519977Z"
    }
   },
   "outputs": [
    {
     "name": "stderr",
     "output_type": "stream",
     "text": [
      "Warning: Unable to load toolkit 'OpenEye Toolkit'. The Open Force Field Toolkit does not require the OpenEye Toolkits, and can use RDKit/AmberTools instead. However, if you have a valid license for the OpenEye Toolkits, consider installing them for faster performance and additional file format support: https://docs.eyesopen.com/toolkits/python/quickstart-python/linuxosx.html OpenEye offers free Toolkit licenses for academics: https://www.eyesopen.com/academic-licensing\n"
     ]
    }
   ],
   "source": [
    "import numpy as np\n",
    "\n",
    "try:\n",
    "    import openmm\n",
    "    from openmm import LangevinIntegrator, XmlSerializer, app\n",
    "    from openmm import unit as openmm_unit\n",
    "except ImportError:\n",
    "    from simtk import openmm, unit as openmm_unit\n",
    "    from simtk.openmm import LangevinIntegrator, XmlSerializer, app\n",
    "\n",
    "from openff.units import unit\n",
    "from openff.units.openmm import from_openmm, to_openmm\n",
    "\n",
    "from openff.toolkit.topology import Molecule as OFFMolecule\n",
    "from openff.toolkit.topology import Topology as OFFTopology\n",
    "from openff.toolkit.topology import TopologyAtom\n",
    "from openff.toolkit.typing.engines.smirnoff import ForceField as OFFForceField"
   ]
  },
  {
   "cell_type": "markdown",
   "metadata": {},
   "source": [
    "## Part 1: Fun with VirtualSites. Define a twofold sulfur lone pair virtual site and run a short simulation"
   ]
  },
  {
   "cell_type": "code",
   "execution_count": 2,
   "metadata": {
    "execution": {
     "iopub.execute_input": "2021-11-29T23:37:24.526257Z",
     "iopub.status.busy": "2021-11-29T23:37:24.525587Z",
     "iopub.status.idle": "2021-11-29T23:37:25.183130Z",
     "shell.execute_reply": "2021-11-29T23:37:25.183717Z"
    }
   },
   "outputs": [],
   "source": [
    "vsite_offxml = \"\"\"<?xml version=\"1.0\" encoding=\"utf-8\"?>\n",
    "<SMIRNOFF version=\"0.3\" aromaticity_model=\"OEAroModel_MDL\">\n",
    "    <VirtualSites version=\"0.3\">\n",
    "        <VirtualSite\n",
    "            type=\"DivalentLonePair\"\n",
    "            name=\"EP\"\n",
    "            smirks=\"[*:1]-[#16X2:2]-[*:3]\"\n",
    "            distance=\"0.70 * angstrom\"\n",
    "            charge_increment1=\"0.1205*elementary_charge\"\n",
    "            charge_increment2=\"0.0*elementary_charge\"\n",
    "            charge_increment3=\"0.1205*elementary_charge\"\n",
    "            sigma=\"0.1*angstrom\"\n",
    "            epsilon=\"0.0*kilocalories_per_mole\"\n",
    "            outOfPlaneAngle=\"54.71384225*degree\"\n",
    "            match=\"all_permutations\" >\n",
    "        </VirtualSite>\n",
    "        <VirtualSite \n",
    "            type=\"BondCharge\"\n",
    "            name=\"EP\"\n",
    "            smirks=\"[*:2][Cl:1]\"\n",
    "            distance=\"0.4*angstrom\"\n",
    "            charge_increment1=\"0.2*elementary_charge\"\n",
    "            charge_increment2=\"0.0*elementary_charge\"\n",
    "            sigma=\"0.1*angstrom\"\n",
    "            epsilon=\"0.05*kilocalories_per_mole\"\n",
    "            match=\"once\" >\n",
    "        </VirtualSite>\n",
    "        <VirtualSite \n",
    "            type=\"BondCharge\"\n",
    "            name=\"EP\"\n",
    "            smirks=\"[*:2][F:1]\"\n",
    "            distance=\"0.4*angstrom\"\n",
    "            charge_increment1=\"0.2*elementary_charge\"\n",
    "            charge_increment2=\"0.0*elementary_charge\"\n",
    "            sigma=\"0.1*angstrom\"\n",
    "            epsilon=\"0.05*kilocalories_per_mole\"\n",
    "            match=\"once\" >\n",
    "        </VirtualSite>\n",
    "    </VirtualSites>\n",
    "</SMIRNOFF>\n",
    "\"\"\"\n",
    "ff = OFFForceField(\"openff-2.0.0.offxml\", vsite_offxml)"
   ]
  },
  {
   "cell_type": "code",
   "execution_count": 3,
   "metadata": {
    "execution": {
     "iopub.execute_input": "2021-11-29T23:37:25.196611Z",
     "iopub.status.busy": "2021-11-29T23:37:25.193005Z",
     "iopub.status.idle": "2021-11-29T23:37:25.497918Z",
     "shell.execute_reply": "2021-11-29T23:37:25.498390Z"
    }
   },
   "outputs": [
    {
     "data": {
      "image/svg+xml": [
       "<svg xmlns=\"http://www.w3.org/2000/svg\" xmlns:rdkit=\"http://www.rdkit.org/xml\" xmlns:xlink=\"http://www.w3.org/1999/xlink\" version=\"1.1\" baseProfile=\"full\" xml:space=\"preserve\" width=\"500px\" height=\"300px\" viewBox=\"0 0 500 300\">\n",
       "<!-- END OF HEADER -->\n",
       "<rect style=\"opacity:1.0;fill:#FFFFFF;stroke:none\" width=\"500.0\" height=\"300.0\" x=\"0.0\" y=\"0.0\"> </rect>\n",
       "<path class=\"bond-0 atom-0 atom-1\" d=\"M 150.7,71.8 L 109.4,95.6\" style=\"fill:none;fill-rule:evenodd;stroke:#000000;stroke-width:2.0px;stroke-linecap:butt;stroke-linejoin:miter;stroke-opacity:1\"/>\n",
       "<path class=\"bond-0 atom-0 atom-1\" d=\"M 148.8,82.8 L 119.9,99.5\" style=\"fill:none;fill-rule:evenodd;stroke:#000000;stroke-width:2.0px;stroke-linecap:butt;stroke-linejoin:miter;stroke-opacity:1\"/>\n",
       "<path class=\"bond-18 atom-6 atom-0\" d=\"M 191.9,95.5 L 150.7,71.8\" style=\"fill:none;fill-rule:evenodd;stroke:#000000;stroke-width:2.0px;stroke-linecap:butt;stroke-linejoin:miter;stroke-opacity:1\"/>\n",
       "<path class=\"bond-20 atom-0 atom-19\" d=\"M 150.7,71.8 L 150.5,32.9\" style=\"fill:none;fill-rule:evenodd;stroke:#000000;stroke-width:2.0px;stroke-linecap:butt;stroke-linejoin:miter;stroke-opacity:1\"/>\n",
       "<path class=\"bond-1 atom-1 atom-2\" d=\"M 109.4,95.6 L 109.6,143.3\" style=\"fill:none;fill-rule:evenodd;stroke:#000000;stroke-width:2.0px;stroke-linecap:butt;stroke-linejoin:miter;stroke-opacity:1\"/>\n",
       "<path class=\"bond-21 atom-1 atom-20\" d=\"M 109.4,95.6 L 75.2,76.0\" style=\"fill:none;fill-rule:evenodd;stroke:#000000;stroke-width:2.0px;stroke-linecap:butt;stroke-linejoin:miter;stroke-opacity:1\"/>\n",
       "<path class=\"bond-2 atom-2 atom-3\" d=\"M 109.6,143.3 L 90.0,154.6\" style=\"fill:none;fill-rule:evenodd;stroke:#000000;stroke-width:2.0px;stroke-linecap:butt;stroke-linejoin:miter;stroke-opacity:1\"/>\n",
       "<path class=\"bond-2 atom-2 atom-3\" d=\"M 90.0,154.6 L 70.5,165.9\" style=\"fill:none;fill-rule:evenodd;stroke:#00CC00;stroke-width:2.0px;stroke-linecap:butt;stroke-linejoin:miter;stroke-opacity:1\"/>\n",
       "<path class=\"bond-3 atom-2 atom-4\" d=\"M 109.6,143.3 L 150.8,167.0\" style=\"fill:none;fill-rule:evenodd;stroke:#000000;stroke-width:2.0px;stroke-linecap:butt;stroke-linejoin:miter;stroke-opacity:1\"/>\n",
       "<path class=\"bond-3 atom-2 atom-4\" d=\"M 120.0,139.4 L 148.9,156.0\" style=\"fill:none;fill-rule:evenodd;stroke:#000000;stroke-width:2.0px;stroke-linecap:butt;stroke-linejoin:miter;stroke-opacity:1\"/>\n",
       "<path class=\"bond-4 atom-4 atom-5\" d=\"M 150.8,167.0 L 192.1,143.2\" style=\"fill:none;fill-rule:evenodd;stroke:#000000;stroke-width:2.0px;stroke-linecap:butt;stroke-linejoin:miter;stroke-opacity:1\"/>\n",
       "<path class=\"bond-22 atom-4 atom-21\" d=\"M 150.8,167.0 L 150.9,205.9\" style=\"fill:none;fill-rule:evenodd;stroke:#000000;stroke-width:2.0px;stroke-linecap:butt;stroke-linejoin:miter;stroke-opacity:1\"/>\n",
       "<path class=\"bond-5 atom-5 atom-6\" d=\"M 192.1,143.2 L 191.9,95.5\" style=\"fill:none;fill-rule:evenodd;stroke:#000000;stroke-width:2.0px;stroke-linecap:butt;stroke-linejoin:miter;stroke-opacity:1\"/>\n",
       "<path class=\"bond-5 atom-5 atom-6\" d=\"M 183.5,136.1 L 183.3,102.7\" style=\"fill:none;fill-rule:evenodd;stroke:#000000;stroke-width:2.0px;stroke-linecap:butt;stroke-linejoin:miter;stroke-opacity:1\"/>\n",
       "<path class=\"bond-23 atom-5 atom-22\" d=\"M 192.1,143.2 L 226.2,162.8\" style=\"fill:none;fill-rule:evenodd;stroke:#000000;stroke-width:2.0px;stroke-linecap:butt;stroke-linejoin:miter;stroke-opacity:1\"/>\n",
       "<path class=\"bond-6 atom-6 atom-7\" d=\"M 191.9,95.5 L 232.0,71.5\" style=\"fill:none;fill-rule:evenodd;stroke:#000000;stroke-width:2.0px;stroke-linecap:butt;stroke-linejoin:miter;stroke-opacity:1\"/>\n",
       "<path class=\"bond-7 atom-7 atom-8\" d=\"M 236.3,71.4 L 236.0,52.2\" style=\"fill:none;fill-rule:evenodd;stroke:#000000;stroke-width:2.0px;stroke-linecap:butt;stroke-linejoin:miter;stroke-opacity:1\"/>\n",
       "<path class=\"bond-7 atom-7 atom-8\" d=\"M 236.0,52.2 L 235.7,32.9\" style=\"fill:none;fill-rule:evenodd;stroke:#FF0000;stroke-width:2.0px;stroke-linecap:butt;stroke-linejoin:miter;stroke-opacity:1\"/>\n",
       "<path class=\"bond-7 atom-7 atom-8\" d=\"M 227.8,71.6 L 227.5,52.3\" style=\"fill:none;fill-rule:evenodd;stroke:#000000;stroke-width:2.0px;stroke-linecap:butt;stroke-linejoin:miter;stroke-opacity:1\"/>\n",
       "<path class=\"bond-7 atom-7 atom-8\" d=\"M 227.5,52.3 L 227.1,33.0\" style=\"fill:none;fill-rule:evenodd;stroke:#FF0000;stroke-width:2.0px;stroke-linecap:butt;stroke-linejoin:miter;stroke-opacity:1\"/>\n",
       "<path class=\"bond-8 atom-7 atom-9\" d=\"M 232.0,71.5 L 272.7,94.1\" style=\"fill:none;fill-rule:evenodd;stroke:#000000;stroke-width:2.0px;stroke-linecap:butt;stroke-linejoin:miter;stroke-opacity:1\"/>\n",
       "<path class=\"bond-9 atom-9 atom-10\" d=\"M 272.7,94.1 L 273.1,114.1\" style=\"fill:none;fill-rule:evenodd;stroke:#000000;stroke-width:2.0px;stroke-linecap:butt;stroke-linejoin:miter;stroke-opacity:1\"/>\n",
       "<path class=\"bond-9 atom-9 atom-10\" d=\"M 273.1,114.1 L 273.5,134.1\" style=\"fill:none;fill-rule:evenodd;stroke:#CCCC00;stroke-width:2.0px;stroke-linecap:butt;stroke-linejoin:miter;stroke-opacity:1\"/>\n",
       "<path class=\"bond-24 atom-9 atom-23\" d=\"M 272.7,94.1 L 311.8,92.7\" style=\"fill:none;fill-rule:evenodd;stroke:#000000;stroke-width:2.0px;stroke-linecap:butt;stroke-linejoin:miter;stroke-opacity:1\"/>\n",
       "<path class=\"bond-25 atom-9 atom-24\" d=\"M 272.7,94.1 L 290.7,61.1\" style=\"fill:none;fill-rule:evenodd;stroke:#000000;stroke-width:2.0px;stroke-linecap:butt;stroke-linejoin:miter;stroke-opacity:1\"/>\n",
       "<path class=\"bond-10 atom-10 atom-11\" d=\"M 279.7,146.4 L 297.6,156.8\" style=\"fill:none;fill-rule:evenodd;stroke:#CCCC00;stroke-width:2.0px;stroke-linecap:butt;stroke-linejoin:miter;stroke-opacity:1\"/>\n",
       "<path class=\"bond-10 atom-10 atom-11\" d=\"M 297.6,156.8 L 315.6,167.1\" style=\"fill:none;fill-rule:evenodd;stroke:#000000;stroke-width:2.0px;stroke-linecap:butt;stroke-linejoin:miter;stroke-opacity:1\"/>\n",
       "<path class=\"bond-11 atom-11 atom-12\" d=\"M 315.6,167.1 L 356.7,142.8\" style=\"fill:none;fill-rule:evenodd;stroke:#000000;stroke-width:2.0px;stroke-linecap:butt;stroke-linejoin:miter;stroke-opacity:1\"/>\n",
       "<path class=\"bond-11 atom-11 atom-12\" d=\"M 326.1,170.8 L 354.9,153.8\" style=\"fill:none;fill-rule:evenodd;stroke:#000000;stroke-width:2.0px;stroke-linecap:butt;stroke-linejoin:miter;stroke-opacity:1\"/>\n",
       "<path class=\"bond-19 atom-18 atom-11\" d=\"M 316.0,214.8 L 315.6,167.1\" style=\"fill:none;fill-rule:evenodd;stroke:#000000;stroke-width:2.0px;stroke-linecap:butt;stroke-linejoin:miter;stroke-opacity:1\"/>\n",
       "<path class=\"bond-12 atom-12 atom-13\" d=\"M 356.7,142.8 L 373.4,152.3\" style=\"fill:none;fill-rule:evenodd;stroke:#000000;stroke-width:2.0px;stroke-linecap:butt;stroke-linejoin:miter;stroke-opacity:1\"/>\n",
       "<path class=\"bond-12 atom-12 atom-13\" d=\"M 373.4,152.3 L 390.1,161.7\" style=\"fill:none;fill-rule:evenodd;stroke:#FF0000;stroke-width:2.0px;stroke-linecap:butt;stroke-linejoin:miter;stroke-opacity:1\"/>\n",
       "<path class=\"bond-26 atom-12 atom-25\" d=\"M 356.7,142.8 L 356.9,105.3\" style=\"fill:none;fill-rule:evenodd;stroke:#000000;stroke-width:2.0px;stroke-linecap:butt;stroke-linejoin:miter;stroke-opacity:1\"/>\n",
       "<path class=\"bond-13 atom-13 atom-14\" d=\"M 398.4,175.4 L 398.6,194.7\" style=\"fill:none;fill-rule:evenodd;stroke:#FF0000;stroke-width:2.0px;stroke-linecap:butt;stroke-linejoin:miter;stroke-opacity:1\"/>\n",
       "<path class=\"bond-13 atom-13 atom-14\" d=\"M 398.6,194.7 L 398.9,214.0\" style=\"fill:none;fill-rule:evenodd;stroke:#000000;stroke-width:2.0px;stroke-linecap:butt;stroke-linejoin:miter;stroke-opacity:1\"/>\n",
       "<path class=\"bond-14 atom-14 atom-15\" d=\"M 398.9,214.0 L 407.3,230.5\" style=\"fill:none;fill-rule:evenodd;stroke:#000000;stroke-width:2.0px;stroke-linecap:butt;stroke-linejoin:miter;stroke-opacity:1\"/>\n",
       "<path class=\"bond-14 atom-14 atom-15\" d=\"M 407.3,230.5 L 415.7,247.1\" style=\"fill:none;fill-rule:evenodd;stroke:#33CCCC;stroke-width:2.0px;stroke-linecap:butt;stroke-linejoin:miter;stroke-opacity:1\"/>\n",
       "<path class=\"bond-15 atom-14 atom-16\" d=\"M 398.9,214.0 L 419.1,209.0\" style=\"fill:none;fill-rule:evenodd;stroke:#000000;stroke-width:2.0px;stroke-linecap:butt;stroke-linejoin:miter;stroke-opacity:1\"/>\n",
       "<path class=\"bond-15 atom-14 atom-16\" d=\"M 419.1,209.0 L 439.4,204.0\" style=\"fill:none;fill-rule:evenodd;stroke:#33CCCC;stroke-width:2.0px;stroke-linecap:butt;stroke-linejoin:miter;stroke-opacity:1\"/>\n",
       "<path class=\"bond-16 atom-14 atom-17\" d=\"M 398.9,214.0 L 357.7,238.3\" style=\"fill:none;fill-rule:evenodd;stroke:#000000;stroke-width:2.0px;stroke-linecap:butt;stroke-linejoin:miter;stroke-opacity:1\"/>\n",
       "<path class=\"bond-17 atom-17 atom-18\" d=\"M 357.7,238.3 L 316.0,214.8\" style=\"fill:none;fill-rule:evenodd;stroke:#000000;stroke-width:2.0px;stroke-linecap:butt;stroke-linejoin:miter;stroke-opacity:1\"/>\n",
       "<path class=\"bond-27 atom-17 atom-26\" d=\"M 357.7,238.3 L 336.2,267.5\" style=\"fill:none;fill-rule:evenodd;stroke:#000000;stroke-width:2.0px;stroke-linecap:butt;stroke-linejoin:miter;stroke-opacity:1\"/>\n",
       "<path class=\"bond-28 atom-17 atom-27\" d=\"M 357.7,238.3 L 380.3,266.3\" style=\"fill:none;fill-rule:evenodd;stroke:#000000;stroke-width:2.0px;stroke-linecap:butt;stroke-linejoin:miter;stroke-opacity:1\"/>\n",
       "<path class=\"bond-29 atom-18 atom-28\" d=\"M 316.0,214.8 L 276.5,206.4\" style=\"fill:none;fill-rule:evenodd;stroke:#000000;stroke-width:2.0px;stroke-linecap:butt;stroke-linejoin:miter;stroke-opacity:1\"/>\n",
       "<path class=\"bond-30 atom-18 atom-29\" d=\"M 316.0,214.8 L 300.5,248.9\" style=\"fill:none;fill-rule:evenodd;stroke:#000000;stroke-width:2.0px;stroke-linecap:butt;stroke-linejoin:miter;stroke-opacity:1\"/>\n",
       "<path class=\"atom-3\" d=\"M 53.8 167.7 Q 53.8 164.0, 55.5 162.0 Q 57.3 160.0, 60.7 160.0 Q 63.8 160.0, 65.5 162.2 L 64.1 163.4 Q 62.8 161.8, 60.7 161.8 Q 58.4 161.8, 57.2 163.3 Q 56.0 164.8, 56.0 167.7 Q 56.0 170.7, 57.2 172.3 Q 58.5 173.8, 60.9 173.8 Q 62.6 173.8, 64.5 172.8 L 65.1 174.4 Q 64.3 174.9, 63.1 175.2 Q 61.9 175.5, 60.6 175.5 Q 57.3 175.5, 55.5 173.5 Q 53.8 171.5, 53.8 167.7 \" fill=\"#00CC00\"/>\n",
       "<path class=\"atom-3\" d=\"M 67.3 159.1 L 69.3 159.1 L 69.3 175.3 L 67.3 175.3 L 67.3 159.1 \" fill=\"#00CC00\"/>\n",
       "<path class=\"atom-8\" d=\"M 224.3 23.9 Q 224.3 20.3, 226.1 18.2 Q 227.9 16.2, 231.3 16.2 Q 234.7 16.2, 236.5 18.2 Q 238.3 20.3, 238.3 23.9 Q 238.3 27.6, 236.4 29.7 Q 234.6 31.8, 231.3 31.8 Q 227.9 31.8, 226.1 29.7 Q 224.3 27.6, 224.3 23.9 M 231.3 30.1 Q 233.6 30.1, 234.8 28.5 Q 236.1 27.0, 236.1 23.9 Q 236.1 20.9, 234.8 19.4 Q 233.6 17.9, 231.3 17.9 Q 229.0 17.9, 227.7 19.4 Q 226.5 20.9, 226.5 23.9 Q 226.5 27.0, 227.7 28.5 Q 229.0 30.1, 231.3 30.1 \" fill=\"#FF0000\"/>\n",
       "<path class=\"atom-10\" d=\"M 269.3 148.1 Q 269.5 148.2, 270.2 148.5 Q 270.9 148.8, 271.7 149.0 Q 272.5 149.2, 273.3 149.2 Q 274.7 149.2, 275.5 148.5 Q 276.4 147.8, 276.4 146.5 Q 276.4 145.7, 275.9 145.2 Q 275.5 144.7, 274.9 144.4 Q 274.2 144.1, 273.2 143.8 Q 271.8 143.4, 271.0 143.0 Q 270.2 142.6, 269.6 141.8 Q 269.1 141.0, 269.1 139.6 Q 269.1 137.7, 270.4 136.5 Q 271.7 135.4, 274.2 135.4 Q 276.0 135.4, 278.0 136.2 L 277.5 137.8 Q 275.7 137.1, 274.3 137.1 Q 272.8 137.1, 272.0 137.7 Q 271.2 138.3, 271.2 139.4 Q 271.2 140.2, 271.6 140.7 Q 272.1 141.2, 272.7 141.4 Q 273.3 141.7, 274.3 142.0 Q 275.7 142.5, 276.5 142.9 Q 277.3 143.3, 277.9 144.2 Q 278.5 145.1, 278.5 146.5 Q 278.5 148.6, 277.1 149.8 Q 275.7 150.9, 273.3 150.9 Q 272.0 150.9, 271.0 150.6 Q 270.0 150.3, 268.8 149.8 L 269.3 148.1 \" fill=\"#CCCC00\"/>\n",
       "<path class=\"atom-13\" d=\"M 391.3 166.4 Q 391.3 162.7, 393.1 160.7 Q 394.9 158.7, 398.3 158.7 Q 401.6 158.7, 403.4 160.7 Q 405.2 162.7, 405.2 166.4 Q 405.2 170.1, 403.4 172.2 Q 401.6 174.2, 398.3 174.2 Q 394.9 174.2, 393.1 172.2 Q 391.3 170.1, 391.3 166.4 M 398.3 172.5 Q 400.6 172.5, 401.8 171.0 Q 403.1 169.4, 403.1 166.4 Q 403.1 163.4, 401.8 161.9 Q 400.6 160.4, 398.3 160.4 Q 395.9 160.4, 394.7 161.9 Q 393.4 163.4, 393.4 166.4 Q 393.4 169.4, 394.7 171.0 Q 395.9 172.5, 398.3 172.5 \" fill=\"#FF0000\"/>\n",
       "<path class=\"atom-15\" d=\"M 415.7 248.2 L 424.7 248.2 L 424.7 250.0 L 417.7 250.0 L 417.7 254.6 L 423.9 254.6 L 423.9 256.4 L 417.7 256.4 L 417.7 263.4 L 415.7 263.4 L 415.7 248.2 \" fill=\"#33CCCC\"/>\n",
       "<path class=\"atom-16\" d=\"M 440.6 195.0 L 449.6 195.0 L 449.6 196.7 L 442.6 196.7 L 442.6 201.3 L 448.8 201.3 L 448.8 203.1 L 442.6 203.1 L 442.6 210.1 L 440.6 210.1 L 440.6 195.0 \" fill=\"#33CCCC\"/>\n",
       "<path class=\"atom-19\" d=\"M 144.6 16.5 L 146.6 16.5 L 146.6 23.0 L 154.4 23.0 L 154.4 16.5 L 156.5 16.5 L 156.5 31.7 L 154.4 31.7 L 154.4 24.7 L 146.6 24.7 L 146.6 31.7 L 144.6 31.7 L 144.6 16.5 \" fill=\"#000000\"/>\n",
       "<path class=\"atom-20\" d=\"M 62.2 64.4 L 64.2 64.4 L 64.2 70.8 L 72.0 70.8 L 72.0 64.4 L 74.1 64.4 L 74.1 79.5 L 72.0 79.5 L 72.0 72.5 L 64.2 72.5 L 64.2 79.5 L 62.2 79.5 L 62.2 64.4 \" fill=\"#000000\"/>\n",
       "<path class=\"atom-21\" d=\"M 145.0 207.1 L 147.1 207.1 L 147.1 213.6 L 154.8 213.6 L 154.8 207.1 L 156.9 207.1 L 156.9 222.3 L 154.8 222.3 L 154.8 215.3 L 147.1 215.3 L 147.1 222.3 L 145.0 222.3 L 145.0 207.1 \" fill=\"#000000\"/>\n",
       "<path class=\"atom-22\" d=\"M 227.4 159.3 L 229.5 159.3 L 229.5 165.7 L 237.2 165.7 L 237.2 159.3 L 239.3 159.3 L 239.3 174.5 L 237.2 174.5 L 237.2 167.5 L 229.5 167.5 L 229.5 174.5 L 227.4 174.5 L 227.4 159.3 \" fill=\"#000000\"/>\n",
       "<path class=\"atom-23\" d=\"M 313.0 84.9 L 315.1 84.9 L 315.1 91.3 L 322.8 91.3 L 322.8 84.9 L 324.9 84.9 L 324.9 100.1 L 322.8 100.1 L 322.8 93.1 L 315.1 93.1 L 315.1 100.1 L 313.0 100.1 L 313.0 84.9 \" fill=\"#000000\"/>\n",
       "<path class=\"atom-24\" d=\"M 289.5 44.7 L 291.6 44.7 L 291.6 51.2 L 299.3 51.2 L 299.3 44.7 L 301.4 44.7 L 301.4 59.9 L 299.3 59.9 L 299.3 52.9 L 291.6 52.9 L 291.6 59.9 L 289.5 59.9 L 289.5 44.7 \" fill=\"#000000\"/>\n",
       "<path class=\"atom-25\" d=\"M 351.0 89.0 L 353.0 89.0 L 353.0 95.4 L 360.8 95.4 L 360.8 89.0 L 362.8 89.0 L 362.8 104.2 L 360.8 104.2 L 360.8 97.1 L 353.0 97.1 L 353.0 104.2 L 351.0 104.2 L 351.0 89.0 \" fill=\"#000000\"/>\n",
       "<path class=\"atom-26\" d=\"M 323.8 268.7 L 325.8 268.7 L 325.8 275.1 L 333.6 275.1 L 333.6 268.7 L 335.7 268.7 L 335.7 283.8 L 333.6 283.8 L 333.6 276.8 L 325.8 276.8 L 325.8 283.8 L 323.8 283.8 L 323.8 268.7 \" fill=\"#000000\"/>\n",
       "<path class=\"atom-27\" d=\"M 381.4 267.4 L 383.5 267.4 L 383.5 273.9 L 391.2 273.9 L 391.2 267.4 L 393.3 267.4 L 393.3 282.6 L 391.2 282.6 L 391.2 275.6 L 383.5 275.6 L 383.5 282.6 L 381.4 282.6 L 381.4 267.4 \" fill=\"#000000\"/>\n",
       "<path class=\"atom-28\" d=\"M 263.5 197.3 L 265.5 197.3 L 265.5 203.8 L 273.3 203.8 L 273.3 197.3 L 275.3 197.3 L 275.3 212.5 L 273.3 212.5 L 273.3 205.5 L 265.5 205.5 L 265.5 212.5 L 263.5 212.5 L 263.5 197.3 \" fill=\"#000000\"/>\n",
       "<path class=\"atom-29\" d=\"M 290.6 250.1 L 292.7 250.1 L 292.7 256.6 L 300.5 256.6 L 300.5 250.1 L 302.5 250.1 L 302.5 265.3 L 300.5 265.3 L 300.5 258.3 L 292.7 258.3 L 292.7 265.3 L 290.6 265.3 L 290.6 250.1 \" fill=\"#000000\"/>\n",
       "</svg>"
      ],
      "text/plain": [
       "<IPython.core.display.SVG object>"
      ]
     },
     "execution_count": 3,
     "metadata": {},
     "output_type": "execute_result"
    }
   ],
   "source": [
    "offmol = OFFMolecule.from_smiles(\"c1cc(-Cl)ccc1C(=O)CS[C]1=CO[C](F)(F)CC1\")\n",
    "offmol.generate_conformers(n_conformers=1)\n",
    "offmol.visualize()"
   ]
  },
  {
   "cell_type": "code",
   "execution_count": 4,
   "metadata": {
    "execution": {
     "iopub.execute_input": "2021-11-29T23:37:25.590225Z",
     "iopub.status.busy": "2021-11-29T23:37:25.577133Z",
     "iopub.status.idle": "2021-11-29T23:39:45.800202Z",
     "shell.execute_reply": "2021-11-29T23:39:45.800831Z"
    }
   },
   "outputs": [],
   "source": [
    "# Make the OpenMM system and grab the resulting Topology (with VSites added)\n",
    "\n",
    "off_top = offmol.to_topology()\n",
    "off_sys, off_top_w_vsites = ff.create_openmm_system(\n",
    "    offmol.to_topology(), return_topology=True\n",
    ")"
   ]
  },
  {
   "cell_type": "code",
   "execution_count": 5,
   "metadata": {
    "execution": {
     "iopub.execute_input": "2021-11-29T23:39:45.817325Z",
     "iopub.status.busy": "2021-11-29T23:39:45.815729Z",
     "iopub.status.idle": "2021-11-29T23:39:45.821942Z",
     "shell.execute_reply": "2021-11-29T23:39:45.822514Z"
    }
   },
   "outputs": [
    {
     "name": "stdout",
     "output_type": "stream",
     "text": [
      "There are 5 virtual particles\n",
      "EP None <Residue 0 () of chain 0>\n",
      "EP None <Residue 0 () of chain 0>\n",
      "EP None <Residue 0 () of chain 0>\n",
      "EP None <Residue 0 () of chain 0>\n",
      "EP None <Residue 0 () of chain 0>\n"
     ]
    }
   ],
   "source": [
    "# Retrieve the number of virtualsites that were added\n",
    "n_virtual_sites = (\n",
    "    off_top_w_vsites.n_topology_particles - off_top_w_vsites.n_topology_atoms\n",
    ")\n",
    "print(f\"There are {n_virtual_sites} virtual particles\")\n",
    "\n",
    "# Get an OpenMM Topology from our openFF Topology\n",
    "omm_top = off_top.to_openmm()\n",
    "\n",
    "# to_openmm doesn't handle virtualsites yet, so we add them manually to the openmm topology here\n",
    "for top_particle in off_top_w_vsites.topology_particles:\n",
    "    if isinstance(top_particle, TopologyAtom):\n",
    "        continue\n",
    "    print(\n",
    "        top_particle.virtual_site.name,\n",
    "        app.Element.getByMass(0),\n",
    "        [i for i in omm_top.residues()][0],\n",
    "    )\n",
    "    omm_top.addAtom(\n",
    "        top_particle.virtual_site.name,\n",
    "        app.Element.getByMass(0),\n",
    "        [i for i in omm_top.residues()][0],\n",
    "    )"
   ]
  },
  {
   "cell_type": "code",
   "execution_count": 6,
   "metadata": {
    "execution": {
     "iopub.execute_input": "2021-11-29T23:39:45.886977Z",
     "iopub.status.busy": "2021-11-29T23:39:45.886172Z",
     "iopub.status.idle": "2021-11-29T23:39:45.889267Z",
     "shell.execute_reply": "2021-11-29T23:39:45.889800Z"
    }
   },
   "outputs": [],
   "source": [
    "# Propagate the System with Langevin dynamics.\n",
    "time_step = 2 * openmm_unit.femtoseconds  # simulation timestep\n",
    "temperature = 300 * openmm_unit.kelvin  # simulation temperature\n",
    "friction = 1 / openmm_unit.picosecond  # collision rate\n",
    "integrator = openmm.LangevinIntegrator(temperature, friction, time_step)\n",
    "\n",
    "# Length of the simulation.\n",
    "num_steps = 1000  # number of integration steps to run\n",
    "\n",
    "# Logging options.\n",
    "trj_freq = 1  # number of steps per written trajectory frame\n",
    "data_freq = 1  # number of steps per written simulation statistics\n",
    "\n",
    "# Set up an OpenMM simulation.\n",
    "simulation = openmm.app.Simulation(omm_top, off_sys, integrator)\n",
    "\n",
    "# Set the initial positions.\n",
    "positions = np.concatenate(\n",
    "    (offmol.conformers[0], np.zeros((n_virtual_sites, 3))), axis=0\n",
    ")\n",
    "\n",
    "simulation.context.setPositions(to_openmm(positions))\n",
    "\n",
    "# This is necessary since we placed all virtual sites at 0,0,0. This will cause the first simulation\n",
    "# step to crash if the positions are not calculated beforehand\n",
    "simulation.context.computeVirtualSites()\n",
    "\n",
    "# Randomize the velocities from a Boltzmann distribution at a given temperature.\n",
    "simulation.context.setVelocitiesToTemperature(temperature)\n",
    "\n",
    "# Configure the information in the output files.\n",
    "pdb_reporter = openmm.app.PDBReporter(\"trajectory.pdb\", trj_freq)\n",
    "state_data_reporter = openmm.app.StateDataReporter(\n",
    "    \"data.csv\",\n",
    "    data_freq,\n",
    "    step=True,\n",
    "    potentialEnergy=True,\n",
    "    temperature=True,\n",
    "    density=True,\n",
    ")\n",
    "simulation.reporters.append(pdb_reporter)\n",
    "simulation.reporters.append(state_data_reporter)"
   ]
  },
  {
   "cell_type": "code",
   "execution_count": 7,
   "metadata": {
    "execution": {
     "iopub.execute_input": "2021-11-29T23:39:45.895445Z",
     "iopub.status.busy": "2021-11-29T23:39:45.894692Z",
     "iopub.status.idle": "2021-11-29T23:39:47.056159Z",
     "shell.execute_reply": "2021-11-29T23:39:47.056628Z"
    }
   },
   "outputs": [
    {
     "name": "stdout",
     "output_type": "stream",
     "text": [
      "Starting simulation\n",
      "Elapsed time 1.58 seconds\n",
      "Done!\n"
     ]
    }
   ],
   "source": [
    "import time\n",
    "\n",
    "print(\"Starting simulation\")\n",
    "start = time.process_time()\n",
    "\n",
    "# Run the simulation\n",
    "simulation.step(num_steps)\n",
    "\n",
    "end = time.process_time()\n",
    "print(\"Elapsed time %.2f seconds\" % (end - start))\n",
    "print(\"Done!\")"
   ]
  },
  {
   "cell_type": "markdown",
   "metadata": {},
   "source": [
    "Now go visualize `trajectory.pdb` in VMD or PyMol!"
   ]
  },
  {
   "cell_type": "markdown",
   "metadata": {},
   "source": [
    "## Part 2: Numerical comparison of OpenMM's TIP5P and an equivalent SMIRNOFF implementation "
   ]
  },
  {
   "cell_type": "markdown",
   "metadata": {},
   "source": [
    "Parameterizes a water box with OpenFF and OpenMM force fields. Currently set up\n",
    "to use a TIP5P definition. The code examines the geometry and energy between the\n",
    "two, and examines cases where minimization is performed. Specifically, the code\n",
    "compares the four possible combinations:\n",
    "    - oFF and oMM geometry/energy, minimized separately and then compared\n",
    "    - oFF and oMM geometry/energy using no minimization\n",
    "    - Geometry minimized using oFF, then a single point is done with oMM\n",
    "    - Geometry minimized using oMM, then a single point is done with oFF\n",
    "\n",
    "The virtual site definitions give differences in geometry and energy mostly due\n",
    "to how they were defined from their parent atoms. OpenMM uses an OutOfPlaneSite\n",
    "definition, whereas OpenFF uses the LocalCoordinatesSite definition (both are\n",
    "OpenMM types). In the OutOfPlaneSite definition, both angle and distance are\n",
    "variable since the defined out-of-plane angle depends on a weighted vector cross.\n",
    "The cross is a function of the O-H vectors, so the virtual sites are sensitive\n",
    "to the molecular geometry. In the OpenFF version, the distance is fixed to a constant\n",
    "value, and the out-of-plane angle is explicitly required in the OpenFF spec.\n",
    "\n",
    "In this example, the OpenFF parameter definition (the \"offxml\") is a string\n",
    "further below in the `main` function, and can be easily modified to explore\n",
    "force field parameterization. The OpenMM definition is loaded from its internal \n",
    "default location, and acts as a reference. One can change this this to a different\n",
    "filename to compare other force fields.\n",
    "\n",
    "This example is somewhat hardcoded to operate on water molecules, but can be easily\n",
    "modified to examine other cases as well. The only major assumption is that the\n",
    "system is homogenous, i.e., all of the molecules are same. The reason this is \n",
    "assumed is mostly due to the difference in how virtual sites are handled between\n",
    "OpenFF and OpenMM. Whereas OpenMM interleaves the virtual site particles between \n",
    "the atomic particles, OpenFF instead aggregates all virtual sites and places them\n",
    "last. The code below does assume that, barring this difference, the virtual sites \n",
    "are added in the same order.\n",
    "\n",
    "The example begins in `run_tests` by defining a grid of water molecules, with\n",
    "the default being a single water molecule (Nx=1, Ny=1, Nz=1). From this, the\n",
    "calculations described in the first paragraph above are performed. The energy\n",
    "difference and distance between the two geometries, per atom, is then reported. \n",
    "There are commented lines that print the entire set of coordinates, and can be\n",
    "uncommented if desired."
   ]
  },
  {
   "cell_type": "markdown",
   "metadata": {},
   "source": [
    "\n",
    "The following functions are utilities and other infrastructure to make  comparison between OpenFF and OpenMM calculations easier.\n"
   ]
  },
  {
   "cell_type": "code",
   "execution_count": 8,
   "metadata": {
    "execution": {
     "iopub.execute_input": "2021-11-29T23:39:47.064369Z",
     "iopub.status.busy": "2021-11-29T23:39:47.063793Z",
     "iopub.status.idle": "2021-11-29T23:39:47.065641Z",
     "shell.execute_reply": "2021-11-29T23:39:47.066075Z"
    }
   },
   "outputs": [],
   "source": [
    "import numpy as np\n",
    "\n",
    "from openff.toolkit.topology import Molecule as OFFMolecule\n",
    "from openff.toolkit.topology import Topology as OFFTopology\n",
    "from openff.toolkit.topology import TopologyAtom\n",
    "from openff.toolkit.typing.engines.smirnoff import ForceField as OFFForceField\n",
    "\n",
    "\n",
    "# To get a fair comparison , take the OpenMM virtual sites and put them at the\n",
    "# end so that they follow the same order as the oFF order.\n",
    "def reorder_openmm_to_openff(xyz, n_atoms_per_mol, n_vptls_per_mol):\n",
    "    \"\"\" \"\"\"\n",
    "    # constants for simplicity\n",
    "    n_particles_per_mol = n_atoms_per_mol + n_vptls_per_mol\n",
    "    n_mols = xyz.shape[0] // n_particles_per_mol\n",
    "\n",
    "    atom_base_indices = np.arange(n_atoms_per_mol)\n",
    "    atom_indices = np.hstack(\n",
    "        [atom_base_indices + (i * n_particles_per_mol) for i in range(n_mols)]\n",
    "    )\n",
    "\n",
    "    vsite_base_indices = np.arange(n_vptls_per_mol) + n_atoms_per_mol\n",
    "    vsite_indices = np.hstack(\n",
    "        [vsite_base_indices + (i * n_particles_per_mol) for i in range(n_mols)]\n",
    "    )\n",
    "\n",
    "    mask = np.hstack([atom_indices, vsite_indices])\n",
    "\n",
    "    return xyz[mask]"
   ]
  },
  {
   "cell_type": "code",
   "execution_count": 9,
   "metadata": {
    "execution": {
     "iopub.execute_input": "2021-11-29T23:39:47.071607Z",
     "iopub.status.busy": "2021-11-29T23:39:47.070946Z",
     "iopub.status.idle": "2021-11-29T23:39:47.072776Z",
     "shell.execute_reply": "2021-11-29T23:39:47.073162Z"
    }
   },
   "outputs": [],
   "source": [
    "def reorder_openff_to_openmm(xyz, n_atoms_per_mol, n_vptls_per_mol):\n",
    "    # constants for simplicity\n",
    "    n_particles_per_mol = n_atoms_per_mol + n_vptls_per_mol\n",
    "    n_mols = xyz.shape[0] // n_particles_per_mol\n",
    "\n",
    "    atom_base_indices = np.arange(n_atoms_per_mol)\n",
    "    vsite_base_indices = np.arange(n_vptls_per_mol) + n_atoms_per_mol * n_mols\n",
    "\n",
    "    mask = np.hstack(\n",
    "        [\n",
    "            np.hstack(\n",
    "                [\n",
    "                    atom_base_indices + (i * n_atoms_per_mol),\n",
    "                    vsite_base_indices + (i * n_vptls_per_mol),\n",
    "                ]\n",
    "            )\n",
    "            for i in range(n_mols)\n",
    "        ]\n",
    "    )\n",
    "\n",
    "    return xyz[mask]"
   ]
  },
  {
   "cell_type": "code",
   "execution_count": 10,
   "metadata": {
    "execution": {
     "iopub.execute_input": "2021-11-29T23:39:47.080532Z",
     "iopub.status.busy": "2021-11-29T23:39:47.079811Z",
     "iopub.status.idle": "2021-11-29T23:39:47.082122Z",
     "shell.execute_reply": "2021-11-29T23:39:47.082538Z"
    }
   },
   "outputs": [],
   "source": [
    "def openmm_evaluate_vsites_and_energy(omm_top, omm_sys, atom_xyz_in_nm, minimize=False):\n",
    "    \"\"\"\n",
    "    Calculate the Virtual Site positions and potential energy\n",
    "    of the given system\n",
    "\n",
    "    Parameters\n",
    "    ----------\n",
    "    omm_top: OpenMM Topology\n",
    "    omm_sys: OpenMM System\n",
    "    atom_xyz_in_nm: N,3 list of floats interpreted as nanometers\n",
    "        The coordinates of the molecules\n",
    "    minimize: bool\n",
    "        Perform a minimization before calculating energy\n",
    "\n",
    "    Returns\n",
    "    -------\n",
    "    pos: N,3 List of floats of the positions of all particles\n",
    "    ene: The potential energy of the particle positions\n",
    "    \"\"\"\n",
    "\n",
    "    integ = LangevinIntegrator(\n",
    "        300 * openmm_unit.kelvin,\n",
    "        1 / openmm_unit.picosecond,\n",
    "        0.002 * openmm_unit.picoseconds,\n",
    "    )\n",
    "\n",
    "    sim = app.Simulation(omm_top, omm_sys, integ)\n",
    "    pos = sim.context.getState(getPositions=True).getPositions()\n",
    "\n",
    "    sim.context.setPositions(atom_xyz_in_nm)\n",
    "\n",
    "    # Once the atom positions are known, virtual sites can\n",
    "    # be determined.\n",
    "    sim.context.computeVirtualSites()\n",
    "\n",
    "    if minimize:\n",
    "        sim.minimizeEnergy()\n",
    "\n",
    "    state = sim.context.getState(getEnergy=True, getPositions=True)\n",
    "    ene = state.getPotentialEnergy()\n",
    "    pos = [\n",
    "        list(xyz) for xyz in state.getPositions().value_in_unit(openmm_unit.nanometer)\n",
    "    ] * openmm_unit.nanometer\n",
    "    return pos, ene"
   ]
  },
  {
   "cell_type": "code",
   "execution_count": 11,
   "metadata": {
    "execution": {
     "iopub.execute_input": "2021-11-29T23:39:47.089705Z",
     "iopub.status.busy": "2021-11-29T23:39:47.089118Z",
     "iopub.status.idle": "2021-11-29T23:39:47.091637Z",
     "shell.execute_reply": "2021-11-29T23:39:47.090901Z"
    }
   },
   "outputs": [],
   "source": [
    "def build_openff_water_lattice(Nx=1, Ny=1, Nz=1, dx=2.0, dy=2.0, dz=2.0):\n",
    "    \"\"\"\n",
    "    Generate a box of water molecules as OpenFF Molecules\n",
    "\n",
    "    Parameters\n",
    "    ----------\n",
    "        Nx, Ny, Nz: The number of molecules in each directon\n",
    "        dx, dy, dz: The spacing between the molecules in each direction\n",
    "\n",
    "    Returns\n",
    "    -------\n",
    "        water_box: A list of OpenFF molecules with a 3D conformation\n",
    "    \"\"\"\n",
    "    Lx, Ly, Lz = Nx * dx, Ny * dy, Nz * dz\n",
    "    Z, Y, X = np.mgrid[0:Lz:dz, 0:Ly:dy, 0:Lx:dx]\n",
    "    XYZ = [list(xyz) for xyz in zip(X.flat, Y.flat, Z.flat)]\n",
    "\n",
    "    water_box = list([None] * len(XYZ))\n",
    "\n",
    "    water_reference = OFFMolecule.from_smiles(\"O\")\n",
    "    water_reference.atoms[0].name = \"O\"\n",
    "    water_reference.atoms[1].name = \"H1\"\n",
    "    water_reference.atoms[2].name = \"H2\"\n",
    "    water_reference.generate_conformers()\n",
    "\n",
    "    for i, xyz in enumerate(XYZ):\n",
    "        water_box[i] = OFFMolecule(water_reference)\n",
    "        water_box[i]._conformers = [water_box[i].conformers[0] + xyz * unit.angstrom]\n",
    "\n",
    "    return water_box"
   ]
  },
  {
   "cell_type": "code",
   "execution_count": 12,
   "metadata": {
    "execution": {
     "iopub.execute_input": "2021-11-29T23:39:47.099818Z",
     "iopub.status.busy": "2021-11-29T23:39:47.099066Z",
     "iopub.status.idle": "2021-11-29T23:39:47.108142Z",
     "shell.execute_reply": "2021-11-29T23:39:47.108628Z"
    }
   },
   "outputs": [
    {
     "data": {
      "text/plain": [
       "[Molecule with name '' and SMILES '[H][O][H]']"
      ]
     },
     "execution_count": 12,
     "metadata": {},
     "output_type": "execute_result"
    }
   ],
   "source": [
    "build_openff_water_lattice(1, 1, 1, 2, 2, 2)"
   ]
  },
  {
   "cell_type": "code",
   "execution_count": 13,
   "metadata": {
    "execution": {
     "iopub.execute_input": "2021-11-29T23:39:47.115170Z",
     "iopub.status.busy": "2021-11-29T23:39:47.114288Z",
     "iopub.status.idle": "2021-11-29T23:39:47.116147Z",
     "shell.execute_reply": "2021-11-29T23:39:47.116528Z"
    }
   },
   "outputs": [],
   "source": [
    "def insert_vsite_padding(xyz, n_mol, n_vptl, order=\"OpenFF\"):\n",
    "    \"\"\"\n",
    "    Given a set of atomic coordinates, insert dummy coordinates in indices\n",
    "    expected for either OpenFF or OpenMM. OpenFF places the dummy coordinates\n",
    "    at the end, whereas OpenMM expects virtual sites to be next to their owning\n",
    "    molecule.\n",
    "    Parameters\n",
    "    ----------\n",
    "        xyz: N,3 List, of coordinates of atoms only\n",
    "        n_mol: int, The number of molecules\n",
    "        n_vptl: int, The number of virtual site particle dummy positions to insert\n",
    "\n",
    "    Returns\n",
    "    -------\n",
    "        xyz: (N+n_vsite,3) list, the coordinates of all particles in the\n",
    "        expected order\n",
    "    \"\"\"\n",
    "\n",
    "    # heuristic that vsites come at the end; applies to OpenFF\n",
    "    vsite_pad = np.arange(n_vptl * 3).reshape(n_vptl, 3)\n",
    "    xyz = np.vstack([xyz, vsite_pad])\n",
    "\n",
    "    # but does not apply to OpenMM. Need to interleave vsite coordinates\n",
    "    if order == \"OpenMM\":\n",
    "        n_vptls_per_mol = n_vptl // n_mol\n",
    "        n_atoms_per_mol = len(xyz) // n_mol - n_vptls_per_mol\n",
    "        xyz = reorder_openff_to_openmm(xyz, n_atoms_per_mol, n_vptls_per_mol)\n",
    "\n",
    "    return xyz"
   ]
  },
  {
   "cell_type": "code",
   "execution_count": 14,
   "metadata": {
    "execution": {
     "iopub.execute_input": "2021-11-29T23:39:47.122001Z",
     "iopub.status.busy": "2021-11-29T23:39:47.121240Z",
     "iopub.status.idle": "2021-11-29T23:39:47.123363Z",
     "shell.execute_reply": "2021-11-29T23:39:47.123768Z"
    }
   },
   "outputs": [],
   "source": [
    "def coords_from_off_mols(mols, conformer_id=0, unit=unit.angstrom):\n",
    "    \"\"\"\n",
    "    Small utility to extract the coordinates from the molecule conformers,\n",
    "    with optional unit conversion\n",
    "    \"\"\"\n",
    "    xyz = np.vstack([mol.conformers[conformer_id].m_as(unit) for mol in mols])\n",
    "    return xyz * unit"
   ]
  },
  {
   "cell_type": "markdown",
   "metadata": {},
   "source": [
    "The function to calculate water using the oMM definition\n"
   ]
  },
  {
   "cell_type": "code",
   "execution_count": 15,
   "metadata": {
    "execution": {
     "iopub.execute_input": "2021-11-29T23:39:47.131047Z",
     "iopub.status.busy": "2021-11-29T23:39:47.130335Z",
     "iopub.status.idle": "2021-11-29T23:39:47.132201Z",
     "shell.execute_reply": "2021-11-29T23:39:47.132654Z"
    }
   },
   "outputs": [],
   "source": [
    "def evaluate_water_omm(water, ff, minimize=False):\n",
    "    \"\"\"\n",
    "    Given a list of molecules and a force field definition, calculate the\n",
    "    positions and energy.\n",
    "\n",
    "    Parameters\n",
    "    ----------\n",
    "        water: List of OFFMolecules, each with a 3D conformation\n",
    "        ff: an OpenMM ForceField object\n",
    "        minimize: Boolean, whether the structure should be minimized\n",
    "\n",
    "    Returns\n",
    "    -------\n",
    "        xyz: List The coordinates of all particles in the system (OpenMM ordering)\n",
    "        ene: float, The potential energy\n",
    "    \"\"\"\n",
    "\n",
    "    top = OFFTopology.from_molecules(water).to_openmm()\n",
    "\n",
    "    # get the oFF topology and the positions\n",
    "    atom_xyz = coords_from_off_mols(water, unit=unit.nanometer)\n",
    "\n",
    "    # first pass; no virtual sites\n",
    "    omm_modeller = app.Modeller(top, to_openmm(atom_xyz))\n",
    "    omm_modeller.addExtraParticles(ff)\n",
    "\n",
    "    # second pass: virtual sites now present (according to oMM FF)\n",
    "    top = omm_modeller.getTopology()\n",
    "\n",
    "    sys = ff.createSystem(top, nonbondedMethod=app.NoCutoff)\n",
    "    n_vptl = sys.getNumParticles() - len(atom_xyz)\n",
    "    n_mol = len(water)\n",
    "\n",
    "    # need to insert dummy positions into coordinates, since OpenMM\n",
    "    # systems create virtual site particles in place, i.e. OHHMMOHHMM etc.\n",
    "    atom_xyz = insert_vsite_padding(atom_xyz.m, n_mol, n_vptl, order=\"OpenMM\")\n",
    "\n",
    "    # Need an openMM topology, an openMM system, and a set of positions\n",
    "    # to calculate the energy. Also returns the vsite positions based\n",
    "    # on supplied atom coordinates\n",
    "    xyz, ene = openmm_evaluate_vsites_and_energy(top, sys, atom_xyz, minimize=minimize)\n",
    "\n",
    "    return xyz, ene"
   ]
  },
  {
   "cell_type": "markdown",
   "metadata": {},
   "source": [
    "The function to calculate water using the oFF definition\n"
   ]
  },
  {
   "cell_type": "code",
   "execution_count": 16,
   "metadata": {
    "execution": {
     "iopub.execute_input": "2021-11-29T23:39:47.139357Z",
     "iopub.status.busy": "2021-11-29T23:39:47.138768Z",
     "iopub.status.idle": "2021-11-29T23:39:47.141912Z",
     "shell.execute_reply": "2021-11-29T23:39:47.141059Z"
    }
   },
   "outputs": [],
   "source": [
    "def evaluate_water_off(water, ff, minimize=False):\n",
    "    \"\"\"\n",
    "    Given a list of molecules and a force field definition, calculate the\n",
    "    positions and energy.\n",
    "\n",
    "    Parameters\n",
    "    ----------\n",
    "        water: list of OFFMolecules, each with a 3D conformation\n",
    "        ff: an OpenFF ForceField object\n",
    "        minimize: boolean, whether the structure should be minimized\n",
    "\n",
    "    Returns\n",
    "    -------\n",
    "        xyz: list The coordinates of all particles in the system (OpenMM ordering)\n",
    "        ene: float, The potential energy\n",
    "    \"\"\"\n",
    "\n",
    "    # get the oFF topology and the positions\n",
    "    top = OFFTopology.from_molecules(water)\n",
    "    atom_xyz = coords_from_off_mols(water, unit=unit.nanometer)\n",
    "\n",
    "    # IMPORTANT! The new system has the virtual sites, but the oFF top does not as there is no API yet to do so\n",
    "    sys = ff.create_openmm_system(top, allow_nonintegral_charges=True)\n",
    "\n",
    "    n_vptl = sys.getNumParticles() - len(atom_xyz)\n",
    "    n_mol = len(water)\n",
    "    atom_xyz = insert_vsite_padding(atom_xyz.m, n_mol, n_vptl, order=\"OpenFF\")\n",
    "\n",
    "    # Need an openMM topology, an openMM system, and a set of positions\n",
    "    # to calculate the energy. Also returns the vsite positions based\n",
    "    # on supplied atom coordinates\n",
    "    xyz, ene = openmm_evaluate_vsites_and_energy(\n",
    "        top.to_openmm(), sys, atom_xyz, minimize=minimize\n",
    "    )\n",
    "\n",
    "    return from_openmm(xyz), ene"
   ]
  },
  {
   "cell_type": "code",
   "execution_count": 17,
   "metadata": {
    "execution": {
     "iopub.execute_input": "2021-11-29T23:39:47.146747Z",
     "iopub.status.busy": "2021-11-29T23:39:47.146193Z",
     "iopub.status.idle": "2021-11-29T23:39:47.147936Z",
     "shell.execute_reply": "2021-11-29T23:39:47.148619Z"
    }
   },
   "outputs": [],
   "source": [
    "def print_info(xyz, ene, name, crd_units=unit.angstrom):\n",
    "    \"\"\" \"\"\"\n",
    "    print(f\"Results for: {name}\")\n",
    "    print(f\"Energy: {ene}\")\n",
    "    print(\"Coordinates:\")\n",
    "    print(xyz * crd_units)\n",
    "    print()"
   ]
  },
  {
   "cell_type": "code",
   "execution_count": 18,
   "metadata": {
    "execution": {
     "iopub.execute_input": "2021-11-29T23:39:47.154237Z",
     "iopub.status.busy": "2021-11-29T23:39:47.153533Z",
     "iopub.status.idle": "2021-11-29T23:39:47.156266Z",
     "shell.execute_reply": "2021-11-29T23:39:47.155608Z"
    }
   },
   "outputs": [],
   "source": [
    "tip5p_offxml = \"\"\"<?xml version=\"1.0\" encoding=\"utf-8\"?>\n",
    "<SMIRNOFF version=\"0.3\" aromaticity_model=\"OEAroModel_MDL\">\n",
    "    <LibraryCharges version=\"0.3\">\n",
    "            <LibraryCharge name=\"tip5p\" smirks=\"[#1:1]-[#8X2H2+0:2]-[#1:3]\" charge1=\"0.*elementary_charge\" charge2=\"0.*elementary_charge\" charge3=\"0.*elementary_charge\"/>\n",
    "    </LibraryCharges>\n",
    "    <vdW version=\"0.3\" potential=\"Lennard-Jones-12-6\" combining_rules=\"Lorentz-Berthelot\" scale12=\"0.0\" scale13=\"0.0\" scale14=\"0.5\" scale15=\"1.0\" switch_width=\"1.0 * angstrom\" cutoff=\"9.0 * angstrom\" method=\"cutoff\">\n",
    "            <Atom smirks=\"[#1:1]-[#8X2H2+0]-[#1]\" epsilon=\"0. * mole**-1 * kilojoule\" id=\"n35\" sigma=\"1 * nanometer\"/>\n",
    "            <Atom smirks=\"[#1]-[#8X2H2+0:1]-[#1]\" epsilon=\"0.66944 * mole**-1 * kilojoule\" id=\"n35\" sigma=\"0.312 * nanometer\"/>\n",
    "    </vdW>\n",
    "     <Bonds version=\"0.3\" potential=\"harmonic\" fractional_bondorder_method=\"None\" fractional_bondorder_interpolation=\"linear\">\n",
    "        <Bond smirks=\"[#1:1]-[#8X2H2+0:2]-[#1]\" length=\"0.9572 * angstrom\" k=\"462750.4 * nanometer**-2 * mole**-1 * kilojoule\" id=\"b1\" />   \n",
    "    </Bonds>\n",
    "    <Angles version=\"0.3\" potential=\"harmonic\">\n",
    "        <Angle smirks=\"[#1:1]-[#8X2H2+0:2]-[#1:3]\" angle=\"1.82421813418 * radian\" k=\"836.8 * mole**-1 * radian**-2 * kilojoule\" id=\"a1\" />\n",
    "    </Angles>\n",
    "    <VirtualSites version=\"0.3\">\n",
    "        <VirtualSite\n",
    "            type=\"DivalentLonePair\"\n",
    "            name=\"EP\"\n",
    "            smirks=\"[#1:1]-[#8X2H2+0:2]-[#1:3]\"\n",
    "            distance=\"0.70 * angstrom\"\n",
    "            charge_increment1=\"0.1205*elementary_charge\"\n",
    "            charge_increment2=\"0.0*elementary_charge\"\n",
    "            charge_increment3=\"0.1205*elementary_charge\"\n",
    "            sigma=\"1.0*angstrom\"\n",
    "            epsilon=\"0.0*kilocalories_per_mole\"\n",
    "            outOfPlaneAngle=\"54.71384225*degree\"\n",
    "            match=\"all_permutations\" >\n",
    "        </VirtualSite>\n",
    "    </VirtualSites>\n",
    "    <Electrostatics version=\"0.3\" method=\"PME\" scale12=\"0.0\" scale13=\"0.0\" scale14=\"0.833333\" scale15=\"1.0\" switch_width=\"0.0 * angstrom\" cutoff=\"9.0 * angstrom\"/>\n",
    "</SMIRNOFF>\n",
    "\"\"\"\n",
    "\n",
    "constraints = \"\"\"\n",
    "  <Constraints version=\"0.3\">\n",
    "    <Constraint smirks=\"[#1:1]-[#8X2H2+0:2]-[#1]\" id=\"c1\" distance=\"0.9572 * angstrom\"/>\n",
    "    <Constraint smirks=\"[#1:1]-[#8X2H2+0]-[#1:2]\" id=\"c2\" distance=\"1.5139006545247014 * angstrom\"/>\n",
    "  </Constraints>\n",
    "\"\"\""
   ]
  },
  {
   "cell_type": "code",
   "execution_count": 19,
   "metadata": {
    "execution": {
     "iopub.execute_input": "2021-11-29T23:39:47.161481Z",
     "iopub.status.busy": "2021-11-29T23:39:47.160239Z",
     "iopub.status.idle": "2021-11-29T23:39:47.183120Z",
     "shell.execute_reply": "2021-11-29T23:39:47.183636Z"
    }
   },
   "outputs": [],
   "source": [
    "# Our custom-crafted oFF force field definition above\n",
    "\n",
    "off_ff = OFFForceField(tip5p_offxml)\n",
    "\n",
    "# The standard OpenMM definition of tip5p\n",
    "omm_ff = app.ForceField(\"tip5p.xml\")"
   ]
  },
  {
   "cell_type": "code",
   "execution_count": 20,
   "metadata": {
    "execution": {
     "iopub.execute_input": "2021-11-29T23:39:47.198308Z",
     "iopub.status.busy": "2021-11-29T23:39:47.197617Z",
     "iopub.status.idle": "2021-11-29T23:39:47.244628Z",
     "shell.execute_reply": "2021-11-29T23:39:47.245185Z"
    }
   },
   "outputs": [
    {
     "name": "stdout",
     "output_type": "stream",
     "text": [
      "===> Evaluate OFF and OMM no minimization single points <===\n",
      "Nxyz = (1, 1, 1) dxyz = (3, 3, 3)\n",
      "Results for: OFF - OMM norm\n",
      "Energy: -3.197442310920451e-14 kJ/mol\n",
      "Coordinates:\n",
      "[0.0 0.0 0.0 0.02561163585927325 0.02561163585927325] Å\n",
      "\n"
     ]
    }
   ],
   "source": [
    "minimize = True\n",
    "\n",
    "\n",
    "Nx, Ny, Nz = (1, 1, 1)  # 2x2x2 = 8 water molecules\n",
    "dx, dy, dz = (3, 3, 3)  # water spaced 3A apart in each direction\n",
    "\n",
    "# Nx, Ny, Nz = (1,1,1)\n",
    "\n",
    "gridspec = [Nx, Ny, Nz, dx, dy, dz]\n",
    "\n",
    "n_atoms_per_mol = 3\n",
    "n_vptls_per_mol = 2\n",
    "np.set_printoptions(formatter={\"float_kind\": \"{:13.10f}\".format})\n",
    "\n",
    "if False:\n",
    "    minimize = True\n",
    "    print(\"===> Evaluate separate OFF and OMM minimizations <===\")\n",
    "    print(f\"Nxyz = {(Nx,Ny,Nz)} dxyz = {(dx,dy,dz)}\")\n",
    "\n",
    "    # default spacing of water is 2 Angstroms (dx,dy,dz arguments)\n",
    "    water_box = build_openff_water_lattice(*gridspec)\n",
    "\n",
    "    off_crds, off_ene = evaluate_water_off(water_box, off_ff, minimize=minimize)\n",
    "    off_crds = np.array(off_crds.m_as(unit.angstrom))\n",
    "\n",
    "    omm_crds, omm_ene = evaluate_water_omm(water_box, omm_ff, minimize=minimize)\n",
    "    omm_crds = np.array(omm_crds.value_in_unit(openmm_unit.angstrom))\n",
    "\n",
    "    # constants for ordering (to compare positions)\n",
    "    # We assume here that the system is homogenous for the reordering\n",
    "    omm_crds = reorder_openmm_to_openff(omm_crds, n_atoms_per_mol, n_vptls_per_mol)\n",
    "\n",
    "    # print_info(off_crds, off_ene, \"OpenForceField\")\n",
    "    # print_info(omm_crds, omm_ene, \"OpenMM\")\n",
    "    # print_info(off_crds - omm_crds, off_ene - omm_ene, \"OFF - OMM\")\n",
    "    print_info(\n",
    "        np.linalg.norm(off_crds - omm_crds, axis=1), off_ene - omm_ene, \"OFF - OMM norm\"\n",
    "    )\n",
    "\n",
    "if True:\n",
    "    minimize = False\n",
    "    print(\"===> Evaluate OFF and OMM no minimization single points <===\")\n",
    "    print(f\"Nxyz = {(Nx,Ny,Nz)} dxyz = {(dx,dy,dz)}\")\n",
    "\n",
    "    # default spacing of water is 2 Angstroms (dx,dy,dz arguments)\n",
    "    water_box = build_openff_water_lattice(*gridspec)\n",
    "\n",
    "    off_crds, off_ene = evaluate_water_off(water_box, off_ff, minimize=minimize)\n",
    "    off_crds = np.array(off_crds.m_as(unit.angstrom))\n",
    "\n",
    "    omm_crds, omm_ene = evaluate_water_omm(water_box, omm_ff, minimize=minimize)\n",
    "    omm_crds = np.array(omm_crds.value_in_unit(openmm_unit.angstrom))\n",
    "\n",
    "    # We assume here that the system is homogenous for the reordering\n",
    "    omm_crds = reorder_openmm_to_openff(omm_crds, n_atoms_per_mol, n_vptls_per_mol)\n",
    "\n",
    "    # print_info(off_crds, off_ene, \"OpenForceField\")\n",
    "    # print_info(omm_crds, omm_ene, \"OpenMM\")\n",
    "    # print_info(off_crds - omm_crds, off_ene - omm_ene, \"OFF - OMM\")\n",
    "    print_info(\n",
    "        np.linalg.norm(off_crds - omm_crds, axis=1), off_ene - omm_ene, \"OFF - OMM norm\"\n",
    "    )\n",
    "\n",
    "if False:\n",
    "    print(\"===> Evaluate OMM minimum with OFF single point <===\")\n",
    "    print(f\"Nxyz = {(Nx,Ny,Nz)} dxyz = {(dx,dy,dz)}\")\n",
    "\n",
    "    water_box = build_openff_water_lattice(*gridspec)\n",
    "    omm_crds, omm_ene = evaluate_water_omm(water_box, omm_ff, minimize=True)\n",
    "    omm_crds = np.array(omm_crds.value_in_unit(openmm_unit.angstrom))\n",
    "\n",
    "    # Need some machinery here to copy the minimized coordinates into the next single\n",
    "    # point calculation\n",
    "    omm_crds = reorder_openmm_to_openff(omm_crds, n_atoms_per_mol, n_vptls_per_mol)\n",
    "    for i, mol in enumerate(water_box):\n",
    "        pos = omm_crds[3 * i : 3 * i + 3]\n",
    "        mol.conformers[0][:] = pos * unit.angstrom\n",
    "\n",
    "    off_crds, off_ene = evaluate_water_off(water_box, off_ff, minimize=False)\n",
    "    off_crds = np.array(off_crds.m_as(unit.angstrom))\n",
    "\n",
    "    # print_info(omm_crds, omm_ene, \"OpenMM\")\n",
    "    # print_info(off_crds, off_ene, \"OpenForceField\")\n",
    "    # print_info(off_crds - omm_crds, off_ene - omm_ene, \"OFF - OMM\")\n",
    "    print_info(\n",
    "        np.linalg.norm(off_crds - omm_crds, axis=1), off_ene - omm_ene, \"OFF - OMM norm\"\n",
    "    )\n",
    "\n",
    "if False:\n",
    "    print(\"===> Evaluate OFF minimum with OMM single point <===\")\n",
    "    print(f\"Nxyz = {(Nx,Ny,Nz)} dxyz = {(dx,dy,dz)}\")\n",
    "\n",
    "    water_box = build_openff_water_lattice(*gridspec)\n",
    "    off_crds, off_ene = evaluate_water_off(water_box, off_ff, minimize=True)\n",
    "    off_crds = np.array(off_crds.m_as(unit.angstrom))\n",
    "\n",
    "    # copy the minimized coordinates, no shuffling needed\n",
    "    for i, mol in enumerate(water_box):\n",
    "        pos = off_crds[3 * i : 3 * i + 3]\n",
    "        mol.conformers[0][:] = pos * unit.angstrom\n",
    "\n",
    "    omm_crds, omm_ene = evaluate_water_omm(water_box, omm_ff, minimize=False)\n",
    "    omm_crds = np.array(omm_crds.value_in_unit(openmm_unit.angstrom))\n",
    "    omm_crds = reorder_openmm_to_openff(omm_crds, n_atoms_per_mol, n_vptls_per_mol)\n",
    "\n",
    "    # print_info(omm_crds, omm_ene, \"OpenMM\")\n",
    "    # print_info(off_crds, off_ene, \"OpenForceField\")\n",
    "    # print_info(off_crds - omm_crds, off_ene - omm_ene, \"OFF - OMM\")\n",
    "    print_info(\n",
    "        np.linalg.norm(off_crds - omm_crds, axis=1), off_ene - omm_ene, \"OFF - OMM norm\"\n",
    "    )"
   ]
  }
 ],
 "metadata": {
  "kernelspec": {
   "display_name": "Python 3 (ipykernel)",
   "language": "python",
   "name": "python3"
  },
  "language_info": {
   "codemirror_mode": {
    "name": "ipython",
    "version": 3
   },
   "file_extension": ".py",
   "mimetype": "text/x-python",
   "name": "python",
   "nbconvert_exporter": "python",
   "pygments_lexer": "ipython3",
   "version": "3.9.7"
  }
 },
 "nbformat": 4,
 "nbformat_minor": 4
}

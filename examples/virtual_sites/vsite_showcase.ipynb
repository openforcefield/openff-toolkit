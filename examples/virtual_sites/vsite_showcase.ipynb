{
 "cells": [
  {
   "cell_type": "markdown",
   "metadata": {},
   "source": [
    "# Virtual Sites Showcase"
   ]
  },
  {
   "cell_type": "code",
   "execution_count": 1,
   "metadata": {
    "pycharm": {
     "name": "#%%\n"
    }
   },
   "outputs": [
    {
     "data": {
      "application/vnd.jupyter.widget-view+json": {
       "model_id": "ba621889dffa475e80a6a6b5f8f476e5",
       "version_major": 2,
       "version_minor": 0
      },
      "text/plain": []
     },
     "metadata": {},
     "output_type": "display_data"
    }
   ],
   "source": [
    "import time\n",
    "\n",
    "import numpy\n",
    "import openmm\n",
    "import openmm.app\n",
    "import openmm.unit\n",
    "from openff.interchange import Interchange\n",
    "from openff.units import Quantity, unit\n",
    "\n",
    "from openff.toolkit import ForceField, Molecule, Topology"
   ]
  },
  {
   "cell_type": "code",
   "execution_count": 2,
   "metadata": {},
   "outputs": [],
   "source": [
    "def prepare_simulation(interchange: Interchange) -> openmm.app.Simulation:\n",
    "    \"\"\"Propagate an OpenMM System with Langevin dynamics.\"\"\"\n",
    "    time_step = 2 * openmm.unit.femtoseconds\n",
    "    temperature = 300 * openmm.unit.kelvin\n",
    "    friction = 1 / openmm.unit.picosecond\n",
    "    integrator = openmm.LangevinIntegrator(temperature, friction, time_step)\n",
    "\n",
    "    trj_freq, data_freq = 100, 100\n",
    "\n",
    "    simulation = interchange.to_openmm_simulation(integrator=integrator)\n",
    "\n",
    "    # It's important to run energy minimization before computing velocities; otherwise the initial\n",
    "    # velocities may be too high as a result of high initial forces, causing a crash\n",
    "    # See https://github.com/openmm/openmm/issues/3736#issuecomment-1217250635\n",
    "    simulation.minimizeEnergy()\n",
    "\n",
    "    # Since we placed all virtual sites at [0.0, 0.0, 0.0], compute virtual site positions to avoid a crash\n",
    "    simulation.context.computeVirtualSites()\n",
    "\n",
    "    simulation.context.setVelocitiesToTemperature(temperature)\n",
    "\n",
    "    pdb_reporter = openmm.app.PDBReporter(\"trajectory.pdb\", trj_freq)\n",
    "    state_data_reporter = openmm.app.StateDataReporter(\n",
    "        \"data.csv\",\n",
    "        data_freq,\n",
    "        step=True,\n",
    "        potentialEnergy=True,\n",
    "        temperature=True,\n",
    "        density=True,\n",
    "    )\n",
    "    simulation.reporters.append(pdb_reporter)\n",
    "    simulation.reporters.append(state_data_reporter)\n",
    "\n",
    "    return simulation\n",
    "\n",
    "\n",
    "def run_simulation(simulation: openmm.app.Simulation, num_steps: int = 1000):\n",
    "    print(\"Starting simulation\")\n",
    "    start = time.process_time()\n",
    "\n",
    "    simulation.step(num_steps)\n",
    "\n",
    "    end = time.process_time()\n",
    "    print(\"Elapsed time %.2f seconds\" % (end - start))\n",
    "    print(\"Done!\")"
   ]
  },
  {
   "cell_type": "markdown",
   "metadata": {
    "pycharm": {
     "name": "#%% md\n"
    }
   },
   "source": [
    "## Part 1: Run a short simulation with a virtual sites on sulfur lone pair and chloride groups"
   ]
  },
  {
   "cell_type": "code",
   "execution_count": 3,
   "metadata": {
    "pycharm": {
     "name": "#%%\n"
    }
   },
   "outputs": [],
   "source": [
    "vsite_offxml = \"\"\"<?xml version=\"1.0\" encoding=\"utf-8\"?>\n",
    "<SMIRNOFF version=\"0.3\" aromaticity_model=\"OEAroModel_MDL\">\n",
    "    <VirtualSites version=\"0.3\">\n",
    "        <VirtualSite\n",
    "            type=\"DivalentLonePair\"\n",
    "            name=\"EP\"\n",
    "            smirks=\"[*:2]-[#16X2:1]-[*:3]\"\n",
    "            distance=\"0.70 * angstrom\"\n",
    "            charge_increment1=\"0.1205*elementary_charge\"\n",
    "            charge_increment2=\"0.0*elementary_charge\"\n",
    "            charge_increment3=\"0.1205*elementary_charge\"\n",
    "            sigma=\"0.1*angstrom\"\n",
    "            epsilon=\"0.0*kilocalories_per_mole\"\n",
    "            outOfPlaneAngle=\"54.71384225*degree\"\n",
    "            match=\"all_permutations\" >\n",
    "        </VirtualSite>\n",
    "        <VirtualSite\n",
    "            type=\"BondCharge\"\n",
    "            name=\"EP\"\n",
    "            smirks=\"[*:2][Cl:1]\"\n",
    "            distance=\"0.4*angstrom\"\n",
    "            charge_increment1=\"0.2*elementary_charge\"\n",
    "            charge_increment2=\"0.0*elementary_charge\"\n",
    "            sigma=\"0.1*angstrom\"\n",
    "            epsilon=\"0.05*kilocalories_per_mole\"\n",
    "            match=\"all_permutations\" >\n",
    "        </VirtualSite>\n",
    "        <VirtualSite\n",
    "            type=\"BondCharge\"\n",
    "            name=\"EP\"\n",
    "            smirks=\"[*:2][F:1]\"\n",
    "            distance=\"0.4*angstrom\"\n",
    "            charge_increment1=\"0.2*elementary_charge\"\n",
    "            charge_increment2=\"0.0*elementary_charge\"\n",
    "            sigma=\"0.1*angstrom\"\n",
    "            epsilon=\"0.05*kilocalories_per_mole\"\n",
    "            match=\"all_permutations\" >\n",
    "        </VirtualSite>\n",
    "    </VirtualSites>\n",
    "</SMIRNOFF>\n",
    "\"\"\"\n",
    "force_field = ForceField(\"openff-2.1.0.offxml\", vsite_offxml)"
   ]
  },
  {
   "cell_type": "code",
   "execution_count": 4,
   "metadata": {
    "pycharm": {
     "name": "#%%\n"
    }
   },
   "outputs": [
    {
     "data": {
      "image/svg+xml": [
       "<svg xmlns=\"http://www.w3.org/2000/svg\" xmlns:rdkit=\"http://www.rdkit.org/xml\" xmlns:xlink=\"http://www.w3.org/1999/xlink\" version=\"1.1\" baseProfile=\"full\" xml:space=\"preserve\" width=\"500px\" height=\"300px\" viewBox=\"0 0 500 300\">\n",
       "<!-- END OF HEADER -->\n",
       "<rect style=\"opacity:1.0;fill:#FFFFFF;stroke:none\" width=\"500.0\" height=\"300.0\" x=\"0.0\" y=\"0.0\"> </rect>\n",
       "<path class=\"bond-0 atom-0 atom-6\" d=\"M 237.9,115.0 L 264.9,99.5\" style=\"fill:none;fill-rule:evenodd;stroke:#000000;stroke-width:2.0px;stroke-linecap:butt;stroke-linejoin:miter;stroke-opacity:1\"/>\n",
       "<path class=\"bond-0 atom-0 atom-6\" d=\"M 237.9,109.7 L 260.3,96.8\" style=\"fill:none;fill-rule:evenodd;stroke:#000000;stroke-width:2.0px;stroke-linecap:butt;stroke-linejoin:miter;stroke-opacity:1\"/>\n",
       "<path class=\"bond-1 atom-0 atom-1\" d=\"M 237.9,115.0 L 210.9,99.5\" style=\"fill:none;fill-rule:evenodd;stroke:#000000;stroke-width:2.0px;stroke-linecap:butt;stroke-linejoin:miter;stroke-opacity:1\"/>\n",
       "<path class=\"bond-2 atom-1 atom-2\" d=\"M 210.9,99.5 L 211.0,68.3\" style=\"fill:none;fill-rule:evenodd;stroke:#000000;stroke-width:2.0px;stroke-linecap:butt;stroke-linejoin:miter;stroke-opacity:1\"/>\n",
       "<path class=\"bond-2 atom-1 atom-2\" d=\"M 215.6,96.8 L 215.6,70.9\" style=\"fill:none;fill-rule:evenodd;stroke:#000000;stroke-width:2.0px;stroke-linecap:butt;stroke-linejoin:miter;stroke-opacity:1\"/>\n",
       "<path class=\"bond-3 atom-2 atom-3\" d=\"M 211.0,68.3 L 198.4,61.0\" style=\"fill:none;fill-rule:evenodd;stroke:#000000;stroke-width:2.0px;stroke-linecap:butt;stroke-linejoin:miter;stroke-opacity:1\"/>\n",
       "<path class=\"bond-3 atom-2 atom-3\" d=\"M 198.4,61.0 L 185.9,53.8\" style=\"fill:none;fill-rule:evenodd;stroke:#00CC00;stroke-width:2.0px;stroke-linecap:butt;stroke-linejoin:miter;stroke-opacity:1\"/>\n",
       "<path class=\"bond-4 atom-2 atom-4\" d=\"M 211.0,68.3 L 237.9,52.8\" style=\"fill:none;fill-rule:evenodd;stroke:#000000;stroke-width:2.0px;stroke-linecap:butt;stroke-linejoin:miter;stroke-opacity:1\"/>\n",
       "<path class=\"bond-5 atom-4 atom-5\" d=\"M 237.9,52.8 L 264.9,68.3\" style=\"fill:none;fill-rule:evenodd;stroke:#000000;stroke-width:2.0px;stroke-linecap:butt;stroke-linejoin:miter;stroke-opacity:1\"/>\n",
       "<path class=\"bond-5 atom-4 atom-5\" d=\"M 237.9,58.1 L 260.3,71.0\" style=\"fill:none;fill-rule:evenodd;stroke:#000000;stroke-width:2.0px;stroke-linecap:butt;stroke-linejoin:miter;stroke-opacity:1\"/>\n",
       "<path class=\"bond-6 atom-5 atom-6\" d=\"M 264.9,68.3 L 264.9,99.5\" style=\"fill:none;fill-rule:evenodd;stroke:#000000;stroke-width:2.0px;stroke-linecap:butt;stroke-linejoin:miter;stroke-opacity:1\"/>\n",
       "<path class=\"bond-7 atom-6 atom-7\" d=\"M 264.9,99.5 L 291.8,114.6\" style=\"fill:none;fill-rule:evenodd;stroke:#000000;stroke-width:2.0px;stroke-linecap:butt;stroke-linejoin:miter;stroke-opacity:1\"/>\n",
       "<path class=\"bond-8 atom-7 atom-8\" d=\"M 291.8,117.3 L 302.3,111.2\" style=\"fill:none;fill-rule:evenodd;stroke:#000000;stroke-width:2.0px;stroke-linecap:butt;stroke-linejoin:miter;stroke-opacity:1\"/>\n",
       "<path class=\"bond-8 atom-7 atom-8\" d=\"M 302.3,111.2 L 312.7,105.0\" style=\"fill:none;fill-rule:evenodd;stroke:#FF0000;stroke-width:2.0px;stroke-linecap:butt;stroke-linejoin:miter;stroke-opacity:1\"/>\n",
       "<path class=\"bond-8 atom-7 atom-8\" d=\"M 289.4,113.3 L 299.9,107.2\" style=\"fill:none;fill-rule:evenodd;stroke:#000000;stroke-width:2.0px;stroke-linecap:butt;stroke-linejoin:miter;stroke-opacity:1\"/>\n",
       "<path class=\"bond-8 atom-7 atom-8\" d=\"M 299.9,107.2 L 310.4,101.0\" style=\"fill:none;fill-rule:evenodd;stroke:#FF0000;stroke-width:2.0px;stroke-linecap:butt;stroke-linejoin:miter;stroke-opacity:1\"/>\n",
       "<path class=\"bond-9 atom-7 atom-9\" d=\"M 291.8,114.6 L 292.1,145.1\" style=\"fill:none;fill-rule:evenodd;stroke:#000000;stroke-width:2.0px;stroke-linecap:butt;stroke-linejoin:miter;stroke-opacity:1\"/>\n",
       "<path class=\"bond-10 atom-9 atom-10\" d=\"M 292.1,145.1 L 281.0,151.6\" style=\"fill:none;fill-rule:evenodd;stroke:#000000;stroke-width:2.0px;stroke-linecap:butt;stroke-linejoin:miter;stroke-opacity:1\"/>\n",
       "<path class=\"bond-10 atom-9 atom-10\" d=\"M 281.0,151.6 L 270.0,158.2\" style=\"fill:none;fill-rule:evenodd;stroke:#CCCC00;stroke-width:2.0px;stroke-linecap:butt;stroke-linejoin:miter;stroke-opacity:1\"/>\n",
       "<path class=\"bond-11 atom-10 atom-11\" d=\"M 264.7,169.3 L 264.6,181.0\" style=\"fill:none;fill-rule:evenodd;stroke:#CCCC00;stroke-width:2.0px;stroke-linecap:butt;stroke-linejoin:miter;stroke-opacity:1\"/>\n",
       "<path class=\"bond-11 atom-10 atom-11\" d=\"M 264.6,181.0 L 264.6,192.8\" style=\"fill:none;fill-rule:evenodd;stroke:#000000;stroke-width:2.0px;stroke-linecap:butt;stroke-linejoin:miter;stroke-opacity:1\"/>\n",
       "<path class=\"bond-12 atom-11 atom-18\" d=\"M 264.6,192.8 L 237.7,208.5\" style=\"fill:none;fill-rule:evenodd;stroke:#000000;stroke-width:2.0px;stroke-linecap:butt;stroke-linejoin:miter;stroke-opacity:1\"/>\n",
       "<path class=\"bond-13 atom-11 atom-12\" d=\"M 264.6,192.8 L 291.6,208.4\" style=\"fill:none;fill-rule:evenodd;stroke:#000000;stroke-width:2.0px;stroke-linecap:butt;stroke-linejoin:miter;stroke-opacity:1\"/>\n",
       "<path class=\"bond-13 atom-11 atom-12\" d=\"M 264.6,198.2 L 287.0,211.1\" style=\"fill:none;fill-rule:evenodd;stroke:#000000;stroke-width:2.0px;stroke-linecap:butt;stroke-linejoin:miter;stroke-opacity:1\"/>\n",
       "<path class=\"bond-14 atom-12 atom-13\" d=\"M 291.6,208.4 L 291.7,220.1\" style=\"fill:none;fill-rule:evenodd;stroke:#000000;stroke-width:2.0px;stroke-linecap:butt;stroke-linejoin:miter;stroke-opacity:1\"/>\n",
       "<path class=\"bond-14 atom-12 atom-13\" d=\"M 291.7,220.1 L 291.8,231.9\" style=\"fill:none;fill-rule:evenodd;stroke:#FF0000;stroke-width:2.0px;stroke-linecap:butt;stroke-linejoin:miter;stroke-opacity:1\"/>\n",
       "<path class=\"bond-15 atom-13 atom-14\" d=\"M 284.7,243.7 L 274.8,249.5\" style=\"fill:none;fill-rule:evenodd;stroke:#FF0000;stroke-width:2.0px;stroke-linecap:butt;stroke-linejoin:miter;stroke-opacity:1\"/>\n",
       "<path class=\"bond-15 atom-13 atom-14\" d=\"M 274.8,249.5 L 264.9,255.2\" style=\"fill:none;fill-rule:evenodd;stroke:#000000;stroke-width:2.0px;stroke-linecap:butt;stroke-linejoin:miter;stroke-opacity:1\"/>\n",
       "<path class=\"bond-16 atom-14 atom-15\" d=\"M 264.9,255.2 L 260.3,261.8\" style=\"fill:none;fill-rule:evenodd;stroke:#000000;stroke-width:2.0px;stroke-linecap:butt;stroke-linejoin:miter;stroke-opacity:1\"/>\n",
       "<path class=\"bond-16 atom-14 atom-15\" d=\"M 260.3,261.8 L 255.7,268.4\" style=\"fill:none;fill-rule:evenodd;stroke:#33CCCC;stroke-width:2.0px;stroke-linecap:butt;stroke-linejoin:miter;stroke-opacity:1\"/>\n",
       "<path class=\"bond-17 atom-14 atom-16\" d=\"M 264.9,255.2 L 272.9,264.1\" style=\"fill:none;fill-rule:evenodd;stroke:#000000;stroke-width:2.0px;stroke-linecap:butt;stroke-linejoin:miter;stroke-opacity:1\"/>\n",
       "<path class=\"bond-17 atom-14 atom-16\" d=\"M 272.9,264.1 L 280.8,272.9\" style=\"fill:none;fill-rule:evenodd;stroke:#33CCCC;stroke-width:2.0px;stroke-linecap:butt;stroke-linejoin:miter;stroke-opacity:1\"/>\n",
       "<path class=\"bond-18 atom-14 atom-17\" d=\"M 264.9,255.2 L 237.8,239.8\" style=\"fill:none;fill-rule:evenodd;stroke:#000000;stroke-width:2.0px;stroke-linecap:butt;stroke-linejoin:miter;stroke-opacity:1\"/>\n",
       "<path class=\"bond-19 atom-17 atom-18\" d=\"M 237.8,239.8 L 237.7,208.5\" style=\"fill:none;fill-rule:evenodd;stroke:#000000;stroke-width:2.0px;stroke-linecap:butt;stroke-linejoin:miter;stroke-opacity:1\"/>\n",
       "<path class=\"bond-20 atom-0 atom-19\" d=\"M 237.9,115.0 L 237.9,138.5\" style=\"fill:none;fill-rule:evenodd;stroke:#000000;stroke-width:2.0px;stroke-linecap:butt;stroke-linejoin:miter;stroke-opacity:1\"/>\n",
       "<path class=\"bond-21 atom-1 atom-20\" d=\"M 210.9,99.5 L 190.2,111.4\" style=\"fill:none;fill-rule:evenodd;stroke:#000000;stroke-width:2.0px;stroke-linecap:butt;stroke-linejoin:miter;stroke-opacity:1\"/>\n",
       "<path class=\"bond-22 atom-4 atom-21\" d=\"M 237.9,52.8 L 238.0,29.2\" style=\"fill:none;fill-rule:evenodd;stroke:#000000;stroke-width:2.0px;stroke-linecap:butt;stroke-linejoin:miter;stroke-opacity:1\"/>\n",
       "<path class=\"bond-23 atom-5 atom-22\" d=\"M 264.9,68.3 L 285.7,56.3\" style=\"fill:none;fill-rule:evenodd;stroke:#000000;stroke-width:2.0px;stroke-linecap:butt;stroke-linejoin:miter;stroke-opacity:1\"/>\n",
       "<path class=\"bond-24 atom-9 atom-23\" d=\"M 292.1,145.1 L 303.2,163.2\" style=\"fill:none;fill-rule:evenodd;stroke:#000000;stroke-width:2.0px;stroke-linecap:butt;stroke-linejoin:miter;stroke-opacity:1\"/>\n",
       "<path class=\"bond-25 atom-9 atom-24\" d=\"M 292.1,145.1 L 317.0,144.7\" style=\"fill:none;fill-rule:evenodd;stroke:#000000;stroke-width:2.0px;stroke-linecap:butt;stroke-linejoin:miter;stroke-opacity:1\"/>\n",
       "<path class=\"bond-26 atom-12 atom-25\" d=\"M 291.6,208.4 L 311.7,197.1\" style=\"fill:none;fill-rule:evenodd;stroke:#000000;stroke-width:2.0px;stroke-linecap:butt;stroke-linejoin:miter;stroke-opacity:1\"/>\n",
       "<path class=\"bond-27 atom-17 atom-26\" d=\"M 237.8,239.8 L 213.4,237.1\" style=\"fill:none;fill-rule:evenodd;stroke:#000000;stroke-width:2.0px;stroke-linecap:butt;stroke-linejoin:miter;stroke-opacity:1\"/>\n",
       "<path class=\"bond-28 atom-17 atom-27\" d=\"M 237.8,239.8 L 229.5,261.2\" style=\"fill:none;fill-rule:evenodd;stroke:#000000;stroke-width:2.0px;stroke-linecap:butt;stroke-linejoin:miter;stroke-opacity:1\"/>\n",
       "<path class=\"bond-29 atom-18 atom-28\" d=\"M 237.7,208.5 L 230.6,186.5\" style=\"fill:none;fill-rule:evenodd;stroke:#000000;stroke-width:2.0px;stroke-linecap:butt;stroke-linejoin:miter;stroke-opacity:1\"/>\n",
       "<path class=\"bond-30 atom-18 atom-29\" d=\"M 237.7,208.5 L 213.2,210.9\" style=\"fill:none;fill-rule:evenodd;stroke:#000000;stroke-width:2.0px;stroke-linecap:butt;stroke-linejoin:miter;stroke-opacity:1\"/>\n",
       "<path d=\"M 290.4,113.9 L 291.8,114.6 L 291.8,116.1\" style=\"fill:none;stroke:#000000;stroke-width:2.0px;stroke-linecap:butt;stroke-linejoin:miter;stroke-opacity:1;\"/>\n",
       "<path class=\"atom-3\" d=\"M 171.6 53.2 Q 171.6 49.9, 173.1 48.1 Q 174.7 46.4, 177.6 46.4 Q 180.4 46.4, 181.8 48.3 L 180.6 49.3 Q 179.5 47.9, 177.6 47.9 Q 175.6 47.9, 174.6 49.3 Q 173.5 50.6, 173.5 53.2 Q 173.5 55.8, 174.6 57.1 Q 175.7 58.5, 177.8 58.5 Q 179.3 58.5, 181.0 57.6 L 181.5 59.0 Q 180.8 59.4, 179.8 59.7 Q 178.7 60.0, 177.6 60.0 Q 174.7 60.0, 173.1 58.2 Q 171.6 56.4, 171.6 53.2 \" fill=\"#00CC00\"/>\n",
       "<path class=\"atom-3\" d=\"M 183.2 45.6 L 184.9 45.6 L 184.9 59.8 L 183.2 59.8 L 183.2 45.6 \" fill=\"#00CC00\"/>\n",
       "<path class=\"atom-8\" d=\"M 312.6 98.9 Q 312.6 95.7, 314.1 93.9 Q 315.7 92.2, 318.6 92.2 Q 321.6 92.2, 323.1 93.9 Q 324.7 95.7, 324.7 98.9 Q 324.7 102.1, 323.1 103.9 Q 321.5 105.7, 318.6 105.7 Q 315.7 105.7, 314.1 103.9 Q 312.6 102.1, 312.6 98.9 M 318.6 104.3 Q 320.7 104.3, 321.7 102.9 Q 322.8 101.5, 322.8 98.9 Q 322.8 96.3, 321.7 95.0 Q 320.7 93.7, 318.6 93.7 Q 316.6 93.7, 315.5 95.0 Q 314.4 96.3, 314.4 98.9 Q 314.4 101.6, 315.5 102.9 Q 316.6 104.3, 318.6 104.3 \" fill=\"#FF0000\"/>\n",
       "<path class=\"atom-10\" d=\"M 261.0 165.8 Q 261.1 165.9, 261.8 166.2 Q 262.4 166.4, 263.0 166.6 Q 263.7 166.7, 264.4 166.7 Q 265.7 166.7, 266.4 166.1 Q 267.1 165.5, 267.1 164.5 Q 267.1 163.7, 266.7 163.3 Q 266.4 162.8, 265.8 162.6 Q 265.3 162.4, 264.3 162.1 Q 263.2 161.7, 262.4 161.4 Q 261.8 161.0, 261.2 160.3 Q 260.8 159.6, 260.8 158.4 Q 260.8 156.8, 261.9 155.7 Q 263.0 154.7, 265.3 154.7 Q 266.8 154.7, 268.5 155.4 L 268.1 156.9 Q 266.5 156.2, 265.3 156.2 Q 264.0 156.2, 263.3 156.8 Q 262.6 157.3, 262.6 158.2 Q 262.6 158.9, 263.0 159.3 Q 263.4 159.8, 263.9 160.0 Q 264.4 160.3, 265.3 160.5 Q 266.5 160.9, 267.2 161.3 Q 267.9 161.7, 268.4 162.4 Q 269.0 163.2, 269.0 164.5 Q 269.0 166.3, 267.7 167.3 Q 266.5 168.3, 264.5 168.3 Q 263.3 168.3, 262.4 168.0 Q 261.5 167.8, 260.5 167.3 L 261.0 165.8 \" fill=\"#CCCC00\"/>\n",
       "<path class=\"atom-13\" d=\"M 285.8 239.6 Q 285.8 236.4, 287.3 234.7 Q 288.9 232.9, 291.8 232.9 Q 294.8 232.9, 296.3 234.7 Q 297.9 236.4, 297.9 239.6 Q 297.9 242.8, 296.3 244.7 Q 294.7 246.5, 291.8 246.5 Q 288.9 246.5, 287.3 244.7 Q 285.8 242.8, 285.8 239.6 M 291.8 245.0 Q 293.8 245.0, 294.9 243.6 Q 296.0 242.3, 296.0 239.6 Q 296.0 237.0, 294.9 235.7 Q 293.8 234.4, 291.8 234.4 Q 289.8 234.4, 288.7 235.7 Q 287.6 237.0, 287.6 239.6 Q 287.6 242.3, 288.7 243.6 Q 289.8 245.0, 291.8 245.0 \" fill=\"#FF0000\"/>\n",
       "<path class=\"atom-15\" d=\"M 246.8 268.8 L 254.7 268.8 L 254.7 270.3 L 248.6 270.3 L 248.6 274.4 L 254.0 274.4 L 254.0 275.9 L 248.6 275.9 L 248.6 282.0 L 246.8 282.0 L 246.8 268.8 \" fill=\"#33CCCC\"/>\n",
       "<path class=\"atom-16\" d=\"M 281.8 271.8 L 289.7 271.8 L 289.7 273.3 L 283.6 273.3 L 283.6 277.3 L 289.0 277.3 L 289.0 278.8 L 283.6 278.8 L 283.6 285.0 L 281.8 285.0 L 281.8 271.8 \" fill=\"#33CCCC\"/>\n",
       "<path class=\"atom-19\" d=\"M 232.7 139.5 L 234.5 139.5 L 234.5 145.2 L 241.3 145.2 L 241.3 139.5 L 243.1 139.5 L 243.1 152.8 L 241.3 152.8 L 241.3 146.7 L 234.5 146.7 L 234.5 152.8 L 232.7 152.8 L 232.7 139.5 \" fill=\"#000000\"/>\n",
       "<path class=\"atom-20\" d=\"M 178.8 108.4 L 180.6 108.4 L 180.6 114.0 L 187.3 114.0 L 187.3 108.4 L 189.1 108.4 L 189.1 121.6 L 187.3 121.6 L 187.3 115.5 L 180.6 115.5 L 180.6 121.6 L 178.8 121.6 L 178.8 108.4 \" fill=\"#000000\"/>\n",
       "<path class=\"atom-21\" d=\"M 232.8 15.0 L 234.6 15.0 L 234.6 20.6 L 241.3 20.6 L 241.3 15.0 L 243.1 15.0 L 243.1 28.2 L 241.3 28.2 L 241.3 22.1 L 234.6 22.1 L 234.6 28.2 L 232.8 28.2 L 232.8 15.0 \" fill=\"#000000\"/>\n",
       "<path class=\"atom-22\" d=\"M 286.7 46.2 L 288.5 46.2 L 288.5 51.8 L 295.3 51.8 L 295.3 46.2 L 297.0 46.2 L 297.0 59.4 L 295.3 59.4 L 295.3 53.3 L 288.5 53.3 L 288.5 59.4 L 286.7 59.4 L 286.7 46.2 \" fill=\"#000000\"/>\n",
       "<path class=\"atom-23\" d=\"M 302.7 164.2 L 304.4 164.2 L 304.4 169.9 L 311.2 169.9 L 311.2 164.2 L 313.0 164.2 L 313.0 177.5 L 311.2 177.5 L 311.2 171.3 L 304.4 171.3 L 304.4 177.5 L 302.7 177.5 L 302.7 164.2 \" fill=\"#000000\"/>\n",
       "<path class=\"atom-24\" d=\"M 318.0 138.1 L 319.8 138.1 L 319.8 143.7 L 326.6 143.7 L 326.6 138.1 L 328.4 138.1 L 328.4 151.3 L 326.6 151.3 L 326.6 145.2 L 319.8 145.2 L 319.8 151.3 L 318.0 151.3 L 318.0 138.1 \" fill=\"#000000\"/>\n",
       "<path class=\"atom-25\" d=\"M 312.7 187.1 L 314.5 187.1 L 314.5 192.7 L 321.3 192.7 L 321.3 187.1 L 323.1 187.1 L 323.1 200.3 L 321.3 200.3 L 321.3 194.2 L 314.5 194.2 L 314.5 200.3 L 312.7 200.3 L 312.7 187.1 \" fill=\"#000000\"/>\n",
       "<path class=\"atom-26\" d=\"M 202.0 229.8 L 203.8 229.8 L 203.8 235.5 L 210.5 235.5 L 210.5 229.8 L 212.3 229.8 L 212.3 243.1 L 210.5 243.1 L 210.5 236.9 L 203.8 236.9 L 203.8 243.1 L 202.0 243.1 L 202.0 229.8 \" fill=\"#000000\"/>\n",
       "<path class=\"atom-27\" d=\"M 221.4 262.2 L 223.2 262.2 L 223.2 267.8 L 230.0 267.8 L 230.0 262.2 L 231.8 262.2 L 231.8 275.4 L 230.0 275.4 L 230.0 269.3 L 223.2 269.3 L 223.2 275.4 L 221.4 275.4 L 221.4 262.2 \" fill=\"#000000\"/>\n",
       "<path class=\"atom-28\" d=\"M 222.9 172.3 L 224.7 172.3 L 224.7 177.9 L 231.5 177.9 L 231.5 172.3 L 233.3 172.3 L 233.3 185.5 L 231.5 185.5 L 231.5 179.4 L 224.7 179.4 L 224.7 185.5 L 222.9 185.5 L 222.9 172.3 \" fill=\"#000000\"/>\n",
       "<path class=\"atom-29\" d=\"M 201.8 204.9 L 203.6 204.9 L 203.6 210.5 L 210.4 210.5 L 210.4 204.9 L 212.2 204.9 L 212.2 218.1 L 210.4 218.1 L 210.4 212.0 L 203.6 212.0 L 203.6 218.1 L 201.8 218.1 L 201.8 204.9 \" fill=\"#000000\"/>\n",
       "</svg>"
      ],
      "text/plain": [
       "<IPython.core.display.SVG object>"
      ]
     },
     "execution_count": 4,
     "metadata": {},
     "output_type": "execute_result"
    }
   ],
   "source": [
    "molecule = Molecule.from_smiles(\"c1cc(Cl)ccc1C(=O)CS[C]1=CO[C](F)(F)CC1\")\n",
    "molecule.generate_conformers(n_conformers=1)\n",
    "molecule.visualize()"
   ]
  },
  {
   "cell_type": "code",
   "execution_count": 5,
   "metadata": {
    "pycharm": {
     "name": "#%%\n"
    }
   },
   "outputs": [
    {
     "name": "stdout",
     "output_type": "stream",
     "text": [
      "There are 5 virtual particles in this topology.\n"
     ]
    }
   ],
   "source": [
    "# Create an Interchange object, which stores information needed for OpenMM (and other engines)\n",
    "# to understand virtual sites as applied by a force field\n",
    "\n",
    "interchange = force_field.create_interchange(topology=molecule.to_topology())\n",
    "\n",
    "assert \"VirtualSites\" in interchange.collections.keys()\n",
    "\n",
    "n_virtual_sites = len(interchange.collections[\"VirtualSites\"].key_map)\n",
    "\n",
    "print(f\"There are {n_virtual_sites} virtual particles in this topology.\")"
   ]
  },
  {
   "cell_type": "markdown",
   "metadata": {},
   "source": [
    "At this point, each of our OpenFF objects have processed and stored all of the information needed to run a simulation in OpenMM. Different [OpenMM objects](https://docs.openforcefield.org/projects/interchange/en/stable/using/output.html#openmm) can be created from an `Interchange` object:\n",
    "\n",
    "* `openmm.System`: `Interchange.to_openmm()`\n",
    "* `openmm.app.Topology`: `Interchange.to_openmm_topology()`\n",
    "* `openmm.app.Simulation`: `Interchange.to_openmm_simulation()`\n",
    "\n",
    "For simplicity, we'll just create a `Simulation` object with the function we defined above since that's all we need to run a simulation in OpenMM."
   ]
  },
  {
   "cell_type": "code",
   "execution_count": 6,
   "metadata": {
    "pycharm": {
     "name": "#%%\n"
    },
    "scrolled": true
   },
   "outputs": [
    {
     "name": "stdout",
     "output_type": "stream",
     "text": [
      "Starting simulation\n",
      "Elapsed time 0.96 seconds\n",
      "Done!\n"
     ]
    }
   ],
   "source": [
    "simulation = prepare_simulation(interchange)\n",
    "\n",
    "run_simulation(simulation, 10000)"
   ]
  },
  {
   "cell_type": "code",
   "execution_count": 7,
   "metadata": {
    "scrolled": true
   },
   "outputs": [
    {
     "data": {
      "application/vnd.jupyter.widget-view+json": {
       "model_id": "c05515b6f75647ed89ebf066d9f99c48",
       "version_major": 2,
       "version_minor": 0
      },
      "text/plain": [
       "NGLWidget(max_frame=99)"
      ]
     },
     "metadata": {},
     "output_type": "display_data"
    }
   ],
   "source": [
    "import mdtraj\n",
    "\n",
    "# Visualize the trajectory. There will probably be errant bonds drawn between atoms and virtual sites.\n",
    "import nglview\n",
    "\n",
    "nglview.show_mdtraj(mdtraj.load(\"trajectory.pdb\"))"
   ]
  },
  {
   "cell_type": "markdown",
   "metadata": {
    "pycharm": {
     "name": "#%% md\n"
    }
   },
   "source": [
    "## Part 2: Numerical comparison of OpenMM's TIP5P and an equivalent SMIRNOFF implementation"
   ]
  },
  {
   "cell_type": "markdown",
   "metadata": {
    "pycharm": {
     "name": "#%% md\n"
    }
   },
   "source": [
    "Parameterizes a water box with OpenFF/SMIRNOFF and OpenMM implementations of TIP5P.\n",
    "\n",
    "This code examines the geometry and energy between the two, and examines cases where minimization is performed.\n",
    "\n",
    "The virtual site definitions give rise to small differences in geometry in due to to how they are defined relative to their parent atoms.\n",
    "OpenMM's force field produces `openmm.OutOfPlaneSite`s whereas OpenFF's force field produces in `openmm.LocalCoordinatesSite`s.\n",
    "(In each case, these objects are OpenMM objects to be used in OpenMM simulations; implementations in other engines are not covered here.)\n",
    "`OutOfPlaneSite` virtual sites' positions are are determined based on the positions of the orientation atoms.\n",
    "(In water models, the \"parent\" atom is oxygen and the \"orientation\" atoms are the oxygen and hydrogens; in other chemistries virtual sites may be definited differently.)\n",
    "`LocalCoordinatesSite` virtual sites' positions relative to orientation atoms are fixed to a constant value in order to adhere to the SMIRNOFF specification.\n",
    "A consequence of this difference is that tiny fluctuations in the molecular geometry cause slightly different coordinates and, therefore, energy evaluations.\n",
    "This can arise from marginally different initial positions or from the dynamics of a simulation, but the descriptions at equilibrium should match.\n",
    "Further nuance is described in the [OpenMM User Guide](http://docs.openmm.org/8.0.0/userguide/theory/05_other_features.html#virtual-sites) and API docs.\n",
    "\n",
    "This example uses water molecules, but both OpenFF and OpenMM infrastructure support a variety of other virtual site definitions for use in other chemistries.\n",
    "\n",
    "One key difference between OpenFF and OpenMM code paths is the bookkeepping of virtual sites relative to atomistic particles.\n",
    "OpenMM interleaves the virtual site particles at the end of _each molecule_ whereas OpenFF places all all virtual sites at the end of the `openmm.System`, topology, and related objects."
   ]
  },
  {
   "cell_type": "code",
   "execution_count": 8,
   "metadata": {},
   "outputs": [],
   "source": [
    "def _collate_virtual_site_positions(atom_positions: numpy.ndarray) -> numpy.ndarray:\n",
    "    \"\"\"Given an array of atomic positions of water, collate virtual particles between molecules.\"\"\"\n",
    "    padded_positions = numpy.zeros(shape=(2, 3))\n",
    "    num_atoms_per_mol = 3\n",
    "\n",
    "    def mol_positions(i, atom_positions):\n",
    "        this_mol_atom_coordinates = atom_positions[\n",
    "            i * num_atoms_per_mol : (i + 1) * num_atoms_per_mol\n",
    "        ]\n",
    "        return numpy.vstack([this_mol_atom_coordinates, padded_positions])\n",
    "\n",
    "    return numpy.vstack([mol_positions(i, atom_positions) for i in range(2)])"
   ]
  },
  {
   "cell_type": "code",
   "execution_count": 9,
   "metadata": {
    "pycharm": {
     "name": "#%%\n"
    },
    "scrolled": true
   },
   "outputs": [],
   "source": [
    "def _evaluate_positions_and_energy(\n",
    "    openmm_topology: openmm.app.Topology,\n",
    "    openmm_system: openmm.app.Simulation,\n",
    "    particle_positions: openmm.unit.Quantity,\n",
    "    minimize=False,\n",
    ") -> tuple[numpy.ndarray, Quantity]:\n",
    "    \"\"\"\n",
    "    Calculate particle positions and potential energy of the a system.\n",
    "\n",
    "    Parameters\n",
    "    ----------\n",
    "    openmm_topology: openmm.app.Topology, OpenMM Topology\n",
    "    openmm_system: openmm.app.System, OpenMM System\n",
    "    particle_positions: openff.units.Quantity, (N, 3) array of positions in nanometers\n",
    "    minimize: bool, Whether or not to perform an energy minimization before calculating energy\n",
    "\n",
    "    Returns\n",
    "    -------\n",
    "    positions: numpy.ndarray, array of particle positions (as nanometers)\n",
    "    energy: openmm.unit.Quantity, The potential energy of the systems\n",
    "\n",
    "    \"\"\"\n",
    "\n",
    "    integrator = openmm.LangevinIntegrator(\n",
    "        300 * openmm.unit.kelvin,\n",
    "        1 / openmm.unit.picosecond,\n",
    "        0.002 * openmm.unit.picoseconds,\n",
    "    )\n",
    "\n",
    "    sim = openmm.app.Simulation(openmm_topology, openmm_system, integrator)\n",
    "\n",
    "    sim.context.setPositions(particle_positions)\n",
    "    sim.context.applyConstraints(1e-5)\n",
    "\n",
    "    if minimize:\n",
    "        sim.minimizeEnergy()\n",
    "\n",
    "    state = sim.context.getState(getEnergy=True, getPositions=True)\n",
    "    ene = state.getPotentialEnergy()\n",
    "    pos = openmm.unit.Quantity(\n",
    "        [\n",
    "            list(xyz)\n",
    "            for xyz in state.getPositions().value_in_unit(openmm.unit.nanometer)\n",
    "        ],\n",
    "        openmm.unit.nanometer,\n",
    "    )\n",
    "\n",
    "    return pos, ene"
   ]
  },
  {
   "cell_type": "code",
   "execution_count": 10,
   "metadata": {
    "pycharm": {
     "name": "#%%\n"
    }
   },
   "outputs": [],
   "source": [
    "def build_water_lattice(\n",
    "    num_duplicates: list[int] = [1, 1, 1],\n",
    "    spacing: list[float] = [2.0, 2.0, 2.0],\n",
    ") -> list[Molecule]:\n",
    "    \"\"\"\n",
    "    Generate a box of water molecules as OpenFF Molecules\n",
    "\n",
    "    Parameters\n",
    "    ----------\n",
    "        num_duplicates: list[int], The number of molecules in each dimension\n",
    "        spacing: list[float], The spacing between the molecules in each dimension, implicitly in Angstrom\n",
    "\n",
    "    Returns\n",
    "    -------\n",
    "        water_box: list[Molecule], A list of Molecule objcets with a 3D conformation\n",
    "    \"\"\"\n",
    "    from math import cos, sin\n",
    "\n",
    "    Lx, Ly, Lz = (num_duplicates[i] * spacing[i] for i in range(3))\n",
    "    Z, Y, X = numpy.mgrid[\n",
    "        0 : Lz : spacing[0],\n",
    "        0 : Ly : spacing[1],\n",
    "        0 : Lx : spacing[2],\n",
    "    ]\n",
    "    XYZ = [list(xyz) for xyz in zip(X.flat, Y.flat, Z.flat)]\n",
    "\n",
    "    water_box = list([None] * len(XYZ))\n",
    "    water_reference = Molecule.from_mapped_smiles(\"[O:1]([H:2])[H:3]\")\n",
    "    water_reference.atoms[0].name = \"O\"\n",
    "    water_reference.atoms[1].name = \"H1\"\n",
    "    water_reference.atoms[2].name = \"H2\"\n",
    "\n",
    "    # Add ideal TIP5P geometry\n",
    "    bond_length = Quantity(0.9572, unit.angstrom)\n",
    "    theta = Quantity(104.52, unit.degree).to(unit.radian)\n",
    "\n",
    "    water_reference.add_conformer(\n",
    "        bond_length\n",
    "        * Quantity(\n",
    "            [\n",
    "                [0.0, 0.0, 0.0],\n",
    "                [-sin(theta / 2), cos(theta / 2), 0.0],\n",
    "                [sin(theta / 2), cos(theta / 2), 0.0],\n",
    "            ]\n",
    "        )\n",
    "    )\n",
    "\n",
    "    for i, xyz in enumerate(XYZ):\n",
    "        water_box[i] = Molecule(water_reference)\n",
    "        water_box[i].conformers[0] = water_box[i].conformers[0] + xyz * unit.angstrom\n",
    "\n",
    "    return water_box\n",
    "\n",
    "\n",
    "def reorder(\n",
    "    number_molecules: int,\n",
    "    atoms_per_molecule: int = 3,\n",
    "    virtual_sites_per_molecule: int = 2,\n",
    ") -> list[int]:\n",
    "    \"\"\"Return an mapping between collated and un-collated particle indices.\"\"\"\n",
    "    particles_per_molecule = atoms_per_molecule + virtual_sites_per_molecule\n",
    "\n",
    "    atoms = list()\n",
    "    virtual_sites = list()\n",
    "\n",
    "    for particle_index in range(number_molecules * particles_per_molecule):\n",
    "        if particle_index % particles_per_molecule < atoms_per_molecule:\n",
    "            atoms.append(particle_index)\n",
    "        else:\n",
    "            virtual_sites.append(particle_index)\n",
    "\n",
    "    return atoms + virtual_sites"
   ]
  },
  {
   "cell_type": "code",
   "execution_count": 11,
   "metadata": {
    "pycharm": {
     "name": "#%%\n"
    }
   },
   "outputs": [],
   "source": [
    "def evaluate_openmm(\n",
    "    water: list[Molecule],\n",
    "    openmm_force_field: openmm.app.ForceField,\n",
    "    minimize: bool = False,\n",
    "):\n",
    "    \"\"\"\n",
    "    Given a list of molecules and a force field definition, calculate the\n",
    "    positions and energy.\n",
    "\n",
    "    Parameters\n",
    "    ----------\n",
    "        water: list[Molecule], each with a 3D conformation\n",
    "        openmm_force_field: openmm.app.ForceField, OpenMM ForceField object\n",
    "        minimize: bool, default = False, whether the structure should be minimized\n",
    "\n",
    "    Returns\n",
    "    -------\n",
    "        xyz: List The coordinates of all particles in the system (OpenMM ordering)\n",
    "        ene: float, The potential energy\n",
    "    \"\"\"\n",
    "\n",
    "    # First, get an OpenMM Topology and atom positions with no virtual sites\n",
    "    _topology: openmm.app.Topology = Topology.from_molecules(water).to_openmm()\n",
    "\n",
    "    atom_positions_unitless = numpy.vstack(\n",
    "        [mol.conformers[0].m_as(unit.nanometer) for mol in water]\n",
    "    )\n",
    "    atom_positions = openmm.unit.Quantity(\n",
    "        atom_positions_unitless, openmm.unit.nanometer\n",
    "    )\n",
    "\n",
    "    # Use OpenMM's Modeller to add virtual particles as perscribed by the force field\n",
    "    modeller = openmm.app.Modeller(_topology, atom_positions)\n",
    "    modeller.addExtraParticles(openmm_force_field)\n",
    "\n",
    "    # This topology includes virtual particles, so we can use it to create a System\n",
    "    topology = modeller.getTopology()\n",
    "\n",
    "    system: openmm.System = openmm_force_field.createSystem(\n",
    "        topology, nonbondedMethod=openmm.app.NoCutoff\n",
    "    )\n",
    "\n",
    "    # Add positions of virtual particles now that the topology includes them\n",
    "    particle_positions = openmm.unit.Quantity(\n",
    "        _collate_virtual_site_positions(atom_positions), openmm.unit.nanometer\n",
    "    )\n",
    "\n",
    "    return _evaluate_positions_and_energy(\n",
    "        topology, system, particle_positions, minimize=minimize\n",
    "    )"
   ]
  },
  {
   "cell_type": "code",
   "execution_count": 12,
   "metadata": {
    "pycharm": {
     "name": "#%%\n"
    }
   },
   "outputs": [],
   "source": [
    "def evaluate_openff(\n",
    "    water: list[Molecule],\n",
    "    force_field: ForceField,\n",
    "    minimize: bool = False,\n",
    "):\n",
    "    \"\"\"\n",
    "    Given a list of molecules and a force field definition, calculate the\n",
    "    positions and energy.\n",
    "\n",
    "    Parameters\n",
    "    ----------\n",
    "        water: list[Molecule], each with a 3D conformation\n",
    "        force_field: ForceField, an OpenFF ForceField object\n",
    "        minimize: boolean, default= False, whether the structure should be minimized\n",
    "\n",
    "    Returns\n",
    "    -------\n",
    "        xyz: list The coordinates of all particles in the system (OpenMM ordering)\n",
    "        ene: float, The potential energy\n",
    "    \"\"\"\n",
    "    from openff.interchange.interop.openmm import to_openmm_positions\n",
    "\n",
    "    openff_topology = Topology.from_molecules(water)\n",
    "    interchange = Interchange.from_smirnoff(force_field, openff_topology)\n",
    "\n",
    "    return _evaluate_positions_and_energy(\n",
    "        interchange.to_openmm_topology(),\n",
    "        interchange.to_openmm(combine_nonbonded_forces=True),\n",
    "        to_openmm_positions(interchange),\n",
    "    )"
   ]
  },
  {
   "cell_type": "code",
   "execution_count": 13,
   "metadata": {
    "pycharm": {
     "name": "#%%\n"
    }
   },
   "outputs": [],
   "source": [
    "def print_info(\n",
    "    coordinate_difference: Quantity,\n",
    "    energy_difference: openmm.unit.Quantity,\n",
    "    name: str,\n",
    "):\n",
    "    from openff.units.openmm import from_openmm\n",
    "\n",
    "    _energy_difference = from_openmm(energy_difference)\n",
    "\n",
    "    print(\n",
    "        f\"Results for: {name}\\n\"\n",
    "        f\"Energy difference ({_energy_difference.units}):\\n\\t\"\n",
    "        f\"{_energy_difference.m:0.3e}\\n\"\n",
    "        f\"Coordinates difference ({coordinate_difference.units}), norm):\\n\\t\"\n",
    "        f\"{coordinate_difference.m:0.3e}\\n\"\n",
    "    )"
   ]
  },
  {
   "cell_type": "code",
   "execution_count": 14,
   "metadata": {
    "pycharm": {
     "name": "#%%\n"
    }
   },
   "outputs": [],
   "source": [
    "# The TIP5P force field in SMIRNOFF format, provided by the OpenFF Toolkit\n",
    "openff_force_field = ForceField(\"tip5p.offxml\")\n",
    "\n",
    "# The OpenMM definition of TIP5P\n",
    "openmm_force_field = openmm.app.ForceField(\"tip5p.xml\")"
   ]
  },
  {
   "cell_type": "code",
   "execution_count": 15,
   "metadata": {
    "pycharm": {
     "name": "#%%\n"
    },
    "scrolled": true
   },
   "outputs": [
    {
     "name": "stdout",
     "output_type": "stream",
     "text": [
      "Results for: OpenFF - OpenMM comparison (per molecule)\n",
      "Energy difference (kilojoule / mole):\n",
      "\t1.907e-06\n",
      "Coordinates difference (angstrom), norm):\n",
      "\t1.624e-07\n",
      "\n"
     ]
    }
   ],
   "source": [
    "minimize = False\n",
    "\n",
    "num_duplicates = (2, 1, 1)  # 2x2x2 = 8 water molecules\n",
    "spacing = (3.0, 3.0, 3.0)  # water spaced 3A apart in each direction\n",
    "\n",
    "waters = build_water_lattice(num_duplicates, spacing)\n",
    "\n",
    "off_crds, off_ene = evaluate_openff(waters, openff_force_field, minimize=minimize)\n",
    "off_crds = numpy.array(off_crds.value_in_unit(openmm.unit.angstrom))\n",
    "\n",
    "omm_crds, omm_ene = evaluate_openmm(waters, openmm_force_field, minimize=minimize)\n",
    "omm_crds = numpy.array(omm_crds.value_in_unit(openmm.unit.angstrom))\n",
    "\n",
    "coordinate_difference = Quantity(\n",
    "    numpy.linalg.norm(off_crds - omm_crds[reorder(numpy.prod(num_duplicates)), :]),\n",
    "    unit.angstrom,\n",
    ")\n",
    "coordinate_difference /= numpy.prod(num_duplicates)\n",
    "energy_difference = abs(off_ene - omm_ene) / numpy.prod(num_duplicates)\n",
    "\n",
    "print_info(\n",
    "    coordinate_difference,\n",
    "    energy_difference,\n",
    "    \"OpenFF - OpenMM comparison (per molecule)\",\n",
    ")\n",
    "\n",
    "assert coordinate_difference < Quantity(\n",
    "    1e-6, unit.angstrom\n",
    "), f\"Coordinates differ by a norm of {coordinate_difference}\"\n",
    "assert (\n",
    "    energy_difference < 1e-4 * openmm.unit.kilojoule_per_mole\n",
    "), f\"Energies differ by {energy_difference}\""
   ]
  },
  {
   "cell_type": "code",
   "execution_count": null,
   "metadata": {},
   "outputs": [],
   "source": []
  }
 ],
 "metadata": {
  "category": "force_field_dev",
  "kernelspec": {
   "display_name": "Python 3 (ipykernel)",
   "language": "python",
   "name": "python3"
  },
  "language_info": {
   "codemirror_mode": {
    "name": "ipython",
    "version": 3
   },
   "file_extension": ".py",
   "mimetype": "text/x-python",
   "name": "python",
   "nbconvert_exporter": "python",
   "pygments_lexer": "ipython3",
   "version": "3.9.18"
  },
  "widgets": {
   "application/vnd.jupyter.widget-state+json": {
    "state": {
     "0d666e64e7ea4fee8001d81f6b379758": {
      "model_module": "@jupyter-widgets/controls",
      "model_module_version": "2.0.0",
      "model_name": "SliderStyleModel",
      "state": {
       "_model_module": "@jupyter-widgets/controls",
       "_model_module_version": "2.0.0",
       "_model_name": "SliderStyleModel",
       "_view_count": null,
       "_view_module": "@jupyter-widgets/base",
       "_view_module_version": "2.0.0",
       "_view_name": "StyleView",
       "description_width": "",
       "handle_color": null
      }
     },
     "12770c96e16041b8a9b60e31bb7464f9": {
      "model_module": "@jupyter-widgets/base",
      "model_module_version": "2.0.0",
      "model_name": "LayoutModel",
      "state": {
       "_model_module": "@jupyter-widgets/base",
       "_model_module_version": "2.0.0",
       "_model_name": "LayoutModel",
       "_view_count": null,
       "_view_module": "@jupyter-widgets/base",
       "_view_module_version": "2.0.0",
       "_view_name": "LayoutView",
       "align_content": null,
       "align_items": null,
       "align_self": null,
       "border_bottom": null,
       "border_left": null,
       "border_right": null,
       "border_top": null,
       "bottom": null,
       "display": null,
       "flex": null,
       "flex_flow": null,
       "grid_area": null,
       "grid_auto_columns": null,
       "grid_auto_flow": null,
       "grid_auto_rows": null,
       "grid_column": null,
       "grid_gap": null,
       "grid_row": null,
       "grid_template_areas": null,
       "grid_template_columns": null,
       "grid_template_rows": null,
       "height": null,
       "justify_content": null,
       "justify_items": null,
       "left": null,
       "margin": null,
       "max_height": null,
       "max_width": null,
       "min_height": null,
       "min_width": null,
       "object_fit": null,
       "object_position": null,
       "order": null,
       "overflow": null,
       "padding": null,
       "right": null,
       "top": null,
       "visibility": null,
       "width": null
      }
     },
     "1a325aab997249e8bd47b4af389c338d": {
      "model_module": "@jupyter-widgets/controls",
      "model_module_version": "2.0.0",
      "model_name": "LinkModel",
      "state": {
       "_model_module": "@jupyter-widgets/controls",
       "_model_module_version": "2.0.0",
       "_model_name": "LinkModel",
       "_view_count": null,
       "_view_module": "@jupyter-widgets/controls",
       "_view_module_version": "2.0.0",
       "_view_name": null,
       "source": [
        "IPY_MODEL_1dcae65675184788a8d70e2d16355467",
        "value"
       ],
       "target": [
        "IPY_MODEL_bf858796484549ec859670b4a29d0916",
        "frame"
       ]
      }
     },
     "1dcae65675184788a8d70e2d16355467": {
      "model_module": "@jupyter-widgets/controls",
      "model_module_version": "2.0.0",
      "model_name": "PlayModel",
      "state": {
       "_dom_classes": [],
       "_model_module": "@jupyter-widgets/controls",
       "_model_module_version": "2.0.0",
       "_model_name": "PlayModel",
       "_view_count": null,
       "_view_module": "@jupyter-widgets/controls",
       "_view_module_version": "2.0.0",
       "_view_name": "PlayView",
       "description": "",
       "description_allow_html": false,
       "disabled": false,
       "interval": 100,
       "layout": "IPY_MODEL_dcf9869dd5fa4f348c8011bd800bc293",
       "max": 99,
       "min": 0,
       "playing": false,
       "repeat": false,
       "show_repeat": true,
       "step": 1,
       "style": "IPY_MODEL_bc4124ab778f45fb91bb97aa827fb096",
       "tabbable": null,
       "tooltip": null,
       "value": 0
      }
     },
     "262751b8e182410b9117c4da543c3897": {
      "buffers": [
       {
        "data": "",
        "encoding": "base64",
        "path": [
         "value"
        ]
       }
      ],
      "model_module": "@jupyter-widgets/controls",
      "model_module_version": "2.0.0",
      "model_name": "ImageModel",
      "state": {
       "_dom_classes": [],
       "_model_module": "@jupyter-widgets/controls",
       "_model_module_version": "2.0.0",
       "_model_name": "ImageModel",
       "_view_count": null,
       "_view_module": "@jupyter-widgets/controls",
       "_view_module_version": "2.0.0",
       "_view_name": "ImageView",
       "format": "png",
       "height": "",
       "layout": "IPY_MODEL_12770c96e16041b8a9b60e31bb7464f9",
       "tabbable": null,
       "tooltip": null,
       "width": "900.0"
      }
     },
     "299e0780df8c422ba90ade795dd95af1": {
      "model_module": "@jupyter-widgets/controls",
      "model_module_version": "2.0.0",
      "model_name": "LinkModel",
      "state": {
       "_model_module": "@jupyter-widgets/controls",
       "_model_module_version": "2.0.0",
       "_model_name": "LinkModel",
       "_view_count": null,
       "_view_module": "@jupyter-widgets/controls",
       "_view_module_version": "2.0.0",
       "_view_name": null,
       "source": [
        "IPY_MODEL_8bfb88914766458cbcd8c52c2696bd56",
        "max"
       ],
       "target": [
        "IPY_MODEL_bf858796484549ec859670b4a29d0916",
        "max_frame"
       ]
      }
     },
     "392150b3500f4c568c20b5d9fdec8d94": {
      "model_module": "@jupyter-widgets/controls",
      "model_module_version": "2.0.0",
      "model_name": "HBoxModel",
      "state": {
       "_dom_classes": [],
       "_model_module": "@jupyter-widgets/controls",
       "_model_module_version": "2.0.0",
       "_model_name": "HBoxModel",
       "_view_count": null,
       "_view_module": "@jupyter-widgets/controls",
       "_view_module_version": "2.0.0",
       "_view_name": "HBoxView",
       "box_style": "",
       "children": [
        "IPY_MODEL_1dcae65675184788a8d70e2d16355467",
        "IPY_MODEL_8bfb88914766458cbcd8c52c2696bd56"
       ],
       "layout": "IPY_MODEL_605df151435340968b2989568de61243",
       "tabbable": null,
       "tooltip": null
      }
     },
     "4dd2b4ca9bba4af6a7363c4fef4678fa": {
      "model_module": "@jupyter-widgets/controls",
      "model_module_version": "2.0.0",
      "model_name": "LinkModel",
      "state": {
       "_model_module": "@jupyter-widgets/controls",
       "_model_module_version": "2.0.0",
       "_model_name": "LinkModel",
       "_view_count": null,
       "_view_module": "@jupyter-widgets/controls",
       "_view_module_version": "2.0.0",
       "_view_name": null,
       "source": [
        "IPY_MODEL_1dcae65675184788a8d70e2d16355467",
        "max"
       ],
       "target": [
        "IPY_MODEL_bf858796484549ec859670b4a29d0916",
        "max_frame"
       ]
      }
     },
     "50de0bda7ad141f3b0b30ac2d2cd8d67": {
      "model_module": "@jupyter-widgets/controls",
      "model_module_version": "2.0.0",
      "model_name": "ButtonStyleModel",
      "state": {
       "_model_module": "@jupyter-widgets/controls",
       "_model_module_version": "2.0.0",
       "_model_name": "ButtonStyleModel",
       "_view_count": null,
       "_view_module": "@jupyter-widgets/base",
       "_view_module_version": "2.0.0",
       "_view_name": "StyleView",
       "button_color": null,
       "font_family": null,
       "font_size": null,
       "font_style": null,
       "font_variant": null,
       "font_weight": null,
       "text_color": null,
       "text_decoration": null
      }
     },
     "52395ce86bef4c4dab586541deaff00e": {
      "model_module": "@jupyter-widgets/base",
      "model_module_version": "2.0.0",
      "model_name": "LayoutModel",
      "state": {
       "_model_module": "@jupyter-widgets/base",
       "_model_module_version": "2.0.0",
       "_model_name": "LayoutModel",
       "_view_count": null,
       "_view_module": "@jupyter-widgets/base",
       "_view_module_version": "2.0.0",
       "_view_name": "LayoutView",
       "align_content": null,
       "align_items": null,
       "align_self": null,
       "border_bottom": null,
       "border_left": null,
       "border_right": null,
       "border_top": null,
       "bottom": null,
       "display": null,
       "flex": null,
       "flex_flow": null,
       "grid_area": null,
       "grid_auto_columns": null,
       "grid_auto_flow": null,
       "grid_auto_rows": null,
       "grid_column": null,
       "grid_gap": null,
       "grid_row": null,
       "grid_template_areas": null,
       "grid_template_columns": null,
       "grid_template_rows": null,
       "height": null,
       "justify_content": null,
       "justify_items": null,
       "left": null,
       "margin": null,
       "max_height": null,
       "max_width": null,
       "min_height": null,
       "min_width": null,
       "object_fit": null,
       "object_position": null,
       "order": null,
       "overflow": null,
       "padding": null,
       "right": null,
       "top": null,
       "visibility": null,
       "width": null
      }
     },
     "5cb602a3f2fb43e696c71da7da547e81": {
      "model_module": "nglview-js-widgets",
      "model_module_version": "3.0.6",
      "model_name": "ColormakerRegistryModel",
      "state": {
       "_dom_classes": [],
       "_model_module": "nglview-js-widgets",
       "_model_module_version": "3.0.6",
       "_model_name": "ColormakerRegistryModel",
       "_msg_ar": [],
       "_msg_q": [],
       "_ready": false,
       "_view_count": null,
       "_view_module": "nglview-js-widgets",
       "_view_module_version": "3.0.6",
       "_view_name": "ColormakerRegistryView",
       "layout": "IPY_MODEL_dec46a0fe73a4254af94b43c8ab22c2f",
       "tabbable": null,
       "tooltip": null
      }
     },
     "605df151435340968b2989568de61243": {
      "model_module": "@jupyter-widgets/base",
      "model_module_version": "2.0.0",
      "model_name": "LayoutModel",
      "state": {
       "_model_module": "@jupyter-widgets/base",
       "_model_module_version": "2.0.0",
       "_model_name": "LayoutModel",
       "_view_count": null,
       "_view_module": "@jupyter-widgets/base",
       "_view_module_version": "2.0.0",
       "_view_name": "LayoutView",
       "align_content": null,
       "align_items": null,
       "align_self": null,
       "border_bottom": null,
       "border_left": null,
       "border_right": null,
       "border_top": null,
       "bottom": null,
       "display": null,
       "flex": null,
       "flex_flow": null,
       "grid_area": null,
       "grid_auto_columns": null,
       "grid_auto_flow": null,
       "grid_auto_rows": null,
       "grid_column": null,
       "grid_gap": null,
       "grid_row": null,
       "grid_template_areas": null,
       "grid_template_columns": null,
       "grid_template_rows": null,
       "height": null,
       "justify_content": null,
       "justify_items": null,
       "left": null,
       "margin": null,
       "max_height": null,
       "max_width": null,
       "min_height": null,
       "min_width": null,
       "object_fit": null,
       "object_position": null,
       "order": null,
       "overflow": null,
       "padding": null,
       "right": null,
       "top": null,
       "visibility": null,
       "width": null
      }
     },
     "65ab7667a7b4404799a5e306ee2b94e6": {
      "model_module": "@jupyter-widgets/controls",
      "model_module_version": "2.0.0",
      "model_name": "LinkModel",
      "state": {
       "_model_module": "@jupyter-widgets/controls",
       "_model_module_version": "2.0.0",
       "_model_name": "LinkModel",
       "_view_count": null,
       "_view_module": "@jupyter-widgets/controls",
       "_view_module_version": "2.0.0",
       "_view_name": null,
       "source": [
        "IPY_MODEL_1dcae65675184788a8d70e2d16355467",
        "value"
       ],
       "target": [
        "IPY_MODEL_8bfb88914766458cbcd8c52c2696bd56",
        "value"
       ]
      }
     },
     "8a89ce0846124930a983e1f0c1f85ef4": {
      "model_module": "@jupyter-widgets/controls",
      "model_module_version": "2.0.0",
      "model_name": "ButtonModel",
      "state": {
       "_dom_classes": [],
       "_model_module": "@jupyter-widgets/controls",
       "_model_module_version": "2.0.0",
       "_model_name": "ButtonModel",
       "_view_count": null,
       "_view_module": "@jupyter-widgets/controls",
       "_view_module_version": "2.0.0",
       "_view_name": "ButtonView",
       "button_style": "",
       "description": "",
       "disabled": false,
       "icon": "compress",
       "layout": "IPY_MODEL_9f9e6979eb064638adea00a01f09465e",
       "style": "IPY_MODEL_50de0bda7ad141f3b0b30ac2d2cd8d67",
       "tabbable": null,
       "tooltip": null
      }
     },
     "8bfb88914766458cbcd8c52c2696bd56": {
      "model_module": "@jupyter-widgets/controls",
      "model_module_version": "2.0.0",
      "model_name": "IntSliderModel",
      "state": {
       "_dom_classes": [],
       "_model_module": "@jupyter-widgets/controls",
       "_model_module_version": "2.0.0",
       "_model_name": "IntSliderModel",
       "_view_count": null,
       "_view_module": "@jupyter-widgets/controls",
       "_view_module_version": "2.0.0",
       "_view_name": "IntSliderView",
       "behavior": "drag-tap",
       "continuous_update": true,
       "description": "",
       "description_allow_html": false,
       "disabled": false,
       "layout": "IPY_MODEL_52395ce86bef4c4dab586541deaff00e",
       "max": 99,
       "min": 0,
       "orientation": "horizontal",
       "readout": true,
       "readout_format": "d",
       "step": 1,
       "style": "IPY_MODEL_0d666e64e7ea4fee8001d81f6b379758",
       "tabbable": null,
       "tooltip": null,
       "value": 0
      }
     },
     "9f9e6979eb064638adea00a01f09465e": {
      "model_module": "@jupyter-widgets/base",
      "model_module_version": "2.0.0",
      "model_name": "LayoutModel",
      "state": {
       "_model_module": "@jupyter-widgets/base",
       "_model_module_version": "2.0.0",
       "_model_name": "LayoutModel",
       "_view_count": null,
       "_view_module": "@jupyter-widgets/base",
       "_view_module_version": "2.0.0",
       "_view_name": "LayoutView",
       "align_content": null,
       "align_items": null,
       "align_self": null,
       "border_bottom": null,
       "border_left": null,
       "border_right": null,
       "border_top": null,
       "bottom": null,
       "display": null,
       "flex": null,
       "flex_flow": null,
       "grid_area": null,
       "grid_auto_columns": null,
       "grid_auto_flow": null,
       "grid_auto_rows": null,
       "grid_column": null,
       "grid_gap": null,
       "grid_row": null,
       "grid_template_areas": null,
       "grid_template_columns": null,
       "grid_template_rows": null,
       "height": null,
       "justify_content": null,
       "justify_items": null,
       "left": null,
       "margin": null,
       "max_height": null,
       "max_width": null,
       "min_height": null,
       "min_width": null,
       "object_fit": null,
       "object_position": null,
       "order": null,
       "overflow": null,
       "padding": null,
       "right": null,
       "top": null,
       "visibility": null,
       "width": "34px"
      }
     },
     "bc4124ab778f45fb91bb97aa827fb096": {
      "model_module": "@jupyter-widgets/controls",
      "model_module_version": "2.0.0",
      "model_name": "DescriptionStyleModel",
      "state": {
       "_model_module": "@jupyter-widgets/controls",
       "_model_module_version": "2.0.0",
       "_model_name": "DescriptionStyleModel",
       "_view_count": null,
       "_view_module": "@jupyter-widgets/base",
       "_view_module_version": "2.0.0",
       "_view_name": "StyleView",
       "description_width": ""
      }
     },
     "bf858796484549ec859670b4a29d0916": {
      "model_module": "nglview-js-widgets",
      "model_module_version": "3.0.6",
      "model_name": "NGLModel",
      "state": {
       "_camera_orientation": [],
       "_camera_str": "orthographic",
       "_dom_classes": [],
       "_gui_theme": null,
       "_ibtn_fullscreen": "IPY_MODEL_8a89ce0846124930a983e1f0c1f85ef4",
       "_igui": null,
       "_iplayer": "IPY_MODEL_392150b3500f4c568c20b5d9fdec8d94",
       "_model_module": "nglview-js-widgets",
       "_model_module_version": "3.0.6",
       "_model_name": "NGLModel",
       "_ngl_color_dict": {},
       "_ngl_coordinate_resource": {},
       "_ngl_full_stage_parameters": {},
       "_ngl_msg_archive": [
        {
         "args": [
          {
           "binary": false,
           "data": "MODEL        0\nATOM      1  C1x UNK A   1       4.106  -1.363  -0.248  1.00  0.00           C  \nATOM      2  C2x UNK A   1       5.390  -0.794  -0.341  1.00  0.00           C  \nATOM      3  C3x UNK A   1       5.625   0.452   0.260  1.00  0.00           C  \nATOM      4 Cl1x UNK A   1       7.269   1.076   0.192  1.00  0.00          Cl  \nATOM      5  C4x UNK A   1       4.584   1.100   0.953  1.00  0.00           C  \nATOM      6  C5x UNK A   1       3.334   0.516   1.097  1.00  0.00           C  \nATOM      7  C6x UNK A   1       3.046  -0.694   0.364  1.00  0.00           C  \nATOM      8  C7x UNK A   1       1.708  -1.248   0.307  1.00  0.00           C  \nATOM      9  O1x UNK A   1       1.529  -2.413  -0.049  1.00  0.00           O  \nATOM     10  C8x UNK A   1       0.444  -0.635   0.867  1.00  0.00           C  \nATOM     11  S1x UNK A   1      -0.334   0.646  -0.282  1.00  0.00           S  \nATOM     12  C9x UNK A   1      -2.054   0.541   0.102  1.00  0.00           C  \nATOM     13 C10x UNK A   1      -2.661   1.367   0.989  1.00  0.00           C  \nATOM     14  O2x UNK A   1      -3.988   1.392   1.292  1.00  0.00           O  \nATOM     15 C11x UNK A   1      -4.754   0.264   0.821  1.00  0.00           C  \nATOM     16  F1x UNK A   1      -4.702  -0.764   1.731  1.00  0.00           F  \nATOM     17  F2x UNK A   1      -6.021   0.686   0.717  1.00  0.00           F  \nATOM     18 C12x UNK A   1      -4.325  -0.215  -0.642  1.00  0.00           C  \nATOM     19 C13x UNK A   1      -2.848  -0.478  -0.651  1.00  0.00           C  \nATOM     20  H1x UNK A   1       3.966  -2.267  -0.832  1.00  0.00           H  \nATOM     21  H2x UNK A   1       6.224  -1.229  -0.882  1.00  0.00           H  \nATOM     22  H3x UNK A   1       4.763   2.038   1.469  1.00  0.00           H  \nATOM     23  H4x UNK A   1       2.568   1.052   1.649  1.00  0.00           H  \nATOM     24  H5x UNK A   1      -0.310  -1.400   1.076  1.00  0.00           H  \nATOM     25  H6x UNK A   1       0.674  -0.157   1.824  1.00  0.00           H  \nATOM     26  H7x UNK A   1      -2.008   2.149   1.363  1.00  0.00           H  \nATOM     27  H8x UNK A   1      -4.612   0.545  -1.374  1.00  0.00           H  \nATOM     28  H9x UNK A   1      -4.862  -1.137  -0.885  1.00  0.00           H  \nATOM     29 H10x UNK A   1      -2.693  -1.500  -0.293  1.00  0.00           H  \nATOM     30 H11x UNK A   1      -2.485  -0.479  -1.683  1.00  0.00           H  \nATOM     31 EP   UNK A   1      -0.100   1.293  -0.153  1.00  0.00          VS  \nATOM     32 EP   UNK A   1      -0.231   0.492  -0.957  1.00  0.00          VS  \nATOM     33 EP   UNK A   1       7.643   1.218   0.176  1.00  0.00          VS  \nATOM     34 EP   UNK A   1      -4.687  -1.064   1.995  1.00  0.00          VS  \nATOM     35 EP   UNK A   1      -6.400   0.812   0.687  1.00  0.00          VS  \nTER      36      UNK A   1\nENDMDL\nEND\n",
           "type": "blob"
          }
         ],
         "kwargs": {
          "defaultRepresentation": true,
          "ext": "pdb",
          "name": "nglview.adaptor.MDTrajTrajectory"
         },
         "methodName": "loadFile",
         "reconstruc_color_scheme": false,
         "target": "Stage",
         "type": "call_method"
        }
       ],
       "_ngl_original_stage_parameters": {},
       "_ngl_repr_dict": {},
       "_ngl_serialize": false,
       "_ngl_version": "",
       "_ngl_view_id": [],
       "_player_dict": {},
       "_scene_position": {},
       "_scene_rotation": {},
       "_synced_model_ids": [],
       "_synced_repr_model_ids": [],
       "_view_count": null,
       "_view_height": "",
       "_view_module": "nglview-js-widgets",
       "_view_module_version": "3.0.6",
       "_view_name": "NGLView",
       "_view_width": "",
       "background": "white",
       "frame": 0,
       "gui_style": null,
       "layout": "IPY_MODEL_fb8733ef7f884f0ca4a76c455cad5879",
       "max_frame": 99,
       "n_components": 0,
       "picked": {},
       "tabbable": null,
       "tooltip": null
      }
     },
     "dcf9869dd5fa4f348c8011bd800bc293": {
      "model_module": "@jupyter-widgets/base",
      "model_module_version": "2.0.0",
      "model_name": "LayoutModel",
      "state": {
       "_model_module": "@jupyter-widgets/base",
       "_model_module_version": "2.0.0",
       "_model_name": "LayoutModel",
       "_view_count": null,
       "_view_module": "@jupyter-widgets/base",
       "_view_module_version": "2.0.0",
       "_view_name": "LayoutView",
       "align_content": null,
       "align_items": null,
       "align_self": null,
       "border_bottom": null,
       "border_left": null,
       "border_right": null,
       "border_top": null,
       "bottom": null,
       "display": null,
       "flex": null,
       "flex_flow": null,
       "grid_area": null,
       "grid_auto_columns": null,
       "grid_auto_flow": null,
       "grid_auto_rows": null,
       "grid_column": null,
       "grid_gap": null,
       "grid_row": null,
       "grid_template_areas": null,
       "grid_template_columns": null,
       "grid_template_rows": null,
       "height": null,
       "justify_content": null,
       "justify_items": null,
       "left": null,
       "margin": null,
       "max_height": null,
       "max_width": null,
       "min_height": null,
       "min_width": null,
       "object_fit": null,
       "object_position": null,
       "order": null,
       "overflow": null,
       "padding": null,
       "right": null,
       "top": null,
       "visibility": null,
       "width": null
      }
     },
     "dec46a0fe73a4254af94b43c8ab22c2f": {
      "model_module": "@jupyter-widgets/base",
      "model_module_version": "2.0.0",
      "model_name": "LayoutModel",
      "state": {
       "_model_module": "@jupyter-widgets/base",
       "_model_module_version": "2.0.0",
       "_model_name": "LayoutModel",
       "_view_count": null,
       "_view_module": "@jupyter-widgets/base",
       "_view_module_version": "2.0.0",
       "_view_name": "LayoutView",
       "align_content": null,
       "align_items": null,
       "align_self": null,
       "border_bottom": null,
       "border_left": null,
       "border_right": null,
       "border_top": null,
       "bottom": null,
       "display": null,
       "flex": null,
       "flex_flow": null,
       "grid_area": null,
       "grid_auto_columns": null,
       "grid_auto_flow": null,
       "grid_auto_rows": null,
       "grid_column": null,
       "grid_gap": null,
       "grid_row": null,
       "grid_template_areas": null,
       "grid_template_columns": null,
       "grid_template_rows": null,
       "height": null,
       "justify_content": null,
       "justify_items": null,
       "left": null,
       "margin": null,
       "max_height": null,
       "max_width": null,
       "min_height": null,
       "min_width": null,
       "object_fit": null,
       "object_position": null,
       "order": null,
       "overflow": null,
       "padding": null,
       "right": null,
       "top": null,
       "visibility": null,
       "width": null
      }
     },
     "fb8733ef7f884f0ca4a76c455cad5879": {
      "model_module": "@jupyter-widgets/base",
      "model_module_version": "2.0.0",
      "model_name": "LayoutModel",
      "state": {
       "_model_module": "@jupyter-widgets/base",
       "_model_module_version": "2.0.0",
       "_model_name": "LayoutModel",
       "_view_count": null,
       "_view_module": "@jupyter-widgets/base",
       "_view_module_version": "2.0.0",
       "_view_name": "LayoutView",
       "align_content": null,
       "align_items": null,
       "align_self": null,
       "border_bottom": null,
       "border_left": null,
       "border_right": null,
       "border_top": null,
       "bottom": null,
       "display": null,
       "flex": null,
       "flex_flow": null,
       "grid_area": null,
       "grid_auto_columns": null,
       "grid_auto_flow": null,
       "grid_auto_rows": null,
       "grid_column": null,
       "grid_gap": null,
       "grid_row": null,
       "grid_template_areas": null,
       "grid_template_columns": null,
       "grid_template_rows": null,
       "height": null,
       "justify_content": null,
       "justify_items": null,
       "left": null,
       "margin": null,
       "max_height": null,
       "max_width": null,
       "min_height": null,
       "min_width": null,
       "object_fit": null,
       "object_position": null,
       "order": null,
       "overflow": null,
       "padding": null,
       "right": null,
       "top": null,
       "visibility": null,
       "width": null
      }
     }
    },
    "version_major": 2,
    "version_minor": 0
   }
  }
 },
 "nbformat": 4,
 "nbformat_minor": 4
}

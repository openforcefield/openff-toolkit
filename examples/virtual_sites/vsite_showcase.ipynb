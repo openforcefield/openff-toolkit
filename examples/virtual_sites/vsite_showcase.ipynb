{
 "cells": [
  {
   "cell_type": "code",
   "execution_count": 1,
   "metadata": {
    "pycharm": {
     "name": "#%%\n"
    }
   },
   "outputs": [
    {
     "name": "stderr",
     "output_type": "stream",
     "text": [
      "LICENSE: Could not open license file specified by OE_LICENSE environment variable \"/Users/jeffreywagner/oe_license.txt\"\n",
      "LICENSE: Could not open license file \"oe_license.txt\" in local directory\n",
      "LICENSE: N.B. OE_DIR environment variable is not set\n",
      "LICENSE: No product keys!\n",
      "LICENSE: No product keys!\n",
      "LICENSE: No product keys!\n",
      "Warning: Unable to load toolkit 'OpenEye Toolkit'. The Open Force Field Toolkit does not require the OpenEye Toolkits, and can use RDKit/AmberTools instead. However, if you have a valid license for the OpenEye Toolkits, consider installing them for faster performance and additional file format support: https://docs.eyesopen.com/toolkits/python/quickstart-python/linuxosx.html OpenEye offers free Toolkit licenses for academics: https://www.eyesopen.com/academic-licensing\n",
      "LICENSE: No product keys!\n"
     ]
    }
   ],
   "source": [
    "from typing import List, Tuple\n",
    "\n",
    "import numpy as np\n",
    "import openmm\n",
    "import openmm.app\n",
    "from openff.interchange import Interchange\n",
    "from openff.interchange.interop.openmm import to_openmm_positions\n",
    "from openff.units import unit\n",
    "from openff.units.openmm import to_openmm\n",
    "from openmm import unit as openmm_unit\n",
    "\n",
    "from openff.toolkit import ForceField, Molecule, Topology"
   ]
  },
  {
   "cell_type": "code",
   "execution_count": 2,
   "metadata": {},
   "outputs": [],
   "source": [
    "def prepare_simulation(\n",
    "    openmm_topology: openmm.app.Topology,\n",
    "    openmm_system: openmm.System,\n",
    "    positions: unit.Quantity,\n",
    ") -> openmm.app.Simulation:\n",
    "    \"\"\"Propagate an OpenMM System with Langevin dynamics.\"\"\"\n",
    "    time_step = 2 * openmm_unit.femtoseconds\n",
    "    temperature = 300 * openmm_unit.kelvin\n",
    "    friction = 1 / openmm_unit.picosecond\n",
    "    integrator = openmm.LangevinIntegrator(temperature, friction, time_step)\n",
    "\n",
    "    trj_freq, data_freq = 100, 100\n",
    "\n",
    "    simulation = openmm.app.Simulation(openmm_topology, openmm_system, integrator)\n",
    "\n",
    "    n_virtual_sites = sum(atom.element is None for atom in openmm_topology.atoms())\n",
    "    _positions = np.concatenate(\n",
    "        (molecule.conformers[0], np.zeros((n_virtual_sites, 3))), axis=0\n",
    "    )\n",
    "    positions = to_openmm(_positions)\n",
    "    simulation.context.setPositions(positions)\n",
    "\n",
    "    # It's important to run energy minimization before computing velocities; otherwise the initial\n",
    "    # velocities may be too high as a result of high initial forces, causing a crash\n",
    "    # See https://github.com/openmm/openmm/issues/3736#issuecomment-1217250635\n",
    "    simulation.minimizeEnergy()\n",
    "\n",
    "    # Since we placed all virtual sites at [0.0, 0.0, 0.0], compute virtual site positions to avoid a crash\n",
    "    simulation.context.computeVirtualSites()\n",
    "\n",
    "    simulation.context.setVelocitiesToTemperature(temperature)\n",
    "\n",
    "    pdb_reporter = openmm.app.PDBReporter(\"trajectory.pdb\", trj_freq)\n",
    "    state_data_reporter = openmm.app.StateDataReporter(\n",
    "        \"data.csv\",\n",
    "        data_freq,\n",
    "        step=True,\n",
    "        potentialEnergy=True,\n",
    "        temperature=True,\n",
    "        density=True,\n",
    "    )\n",
    "    simulation.reporters.append(pdb_reporter)\n",
    "    simulation.reporters.append(state_data_reporter)\n",
    "\n",
    "    return simulation\n",
    "\n",
    "\n",
    "def run_simulation(simulation: openmm.app.Simulation, num_steps: int = 1000):\n",
    "    import time\n",
    "\n",
    "    print(\"Starting simulation\")\n",
    "    start = time.process_time()\n",
    "\n",
    "    simulation.step(num_steps)\n",
    "\n",
    "    end = time.process_time()\n",
    "    print(\"Elapsed time %.2f seconds\" % (end - start))\n",
    "    print(\"Done!\")"
   ]
  },
  {
   "cell_type": "markdown",
   "metadata": {
    "pycharm": {
     "name": "#%% md\n"
    }
   },
   "source": [
    "## Part 1: Run a short simulation with a virtual sites on sulfur lone pair and chloride groups"
   ]
  },
  {
   "cell_type": "code",
   "execution_count": 3,
   "metadata": {
    "pycharm": {
     "name": "#%%\n"
    }
   },
   "outputs": [],
   "source": [
    "vsite_offxml = \"\"\"<?xml version=\"1.0\" encoding=\"utf-8\"?>\n",
    "<SMIRNOFF version=\"0.3\" aromaticity_model=\"OEAroModel_MDL\">\n",
    "    <VirtualSites version=\"0.3\">\n",
    "        <VirtualSite\n",
    "            type=\"DivalentLonePair\"\n",
    "            name=\"EP\"\n",
    "            smirks=\"[*:2]-[#16X2:1]-[*:3]\"\n",
    "            distance=\"0.70 * angstrom\"\n",
    "            charge_increment1=\"0.1205*elementary_charge\"\n",
    "            charge_increment2=\"0.0*elementary_charge\"\n",
    "            charge_increment3=\"0.1205*elementary_charge\"\n",
    "            sigma=\"0.1*angstrom\"\n",
    "            epsilon=\"0.0*kilocalories_per_mole\"\n",
    "            outOfPlaneAngle=\"54.71384225*degree\"\n",
    "            match=\"all_permutations\" >\n",
    "        </VirtualSite>\n",
    "        <VirtualSite\n",
    "            type=\"BondCharge\"\n",
    "            name=\"EP\"\n",
    "            smirks=\"[*:2][Cl:1]\"\n",
    "            distance=\"0.4*angstrom\"\n",
    "            charge_increment1=\"0.2*elementary_charge\"\n",
    "            charge_increment2=\"0.0*elementary_charge\"\n",
    "            sigma=\"0.1*angstrom\"\n",
    "            epsilon=\"0.05*kilocalories_per_mole\"\n",
    "            match=\"all_permutations\" >\n",
    "        </VirtualSite>\n",
    "        <VirtualSite\n",
    "            type=\"BondCharge\"\n",
    "            name=\"EP\"\n",
    "            smirks=\"[*:2][F:1]\"\n",
    "            distance=\"0.4*angstrom\"\n",
    "            charge_increment1=\"0.2*elementary_charge\"\n",
    "            charge_increment2=\"0.0*elementary_charge\"\n",
    "            sigma=\"0.1*angstrom\"\n",
    "            epsilon=\"0.05*kilocalories_per_mole\"\n",
    "            match=\"all_permutations\" >\n",
    "        </VirtualSite>\n",
    "    </VirtualSites>\n",
    "</SMIRNOFF>\n",
    "\"\"\"\n",
    "force_field = ForceField(\"openff-2.0.0.offxml\", vsite_offxml)"
   ]
  },
  {
   "cell_type": "code",
   "execution_count": 4,
   "metadata": {
    "pycharm": {
     "name": "#%%\n"
    }
   },
   "outputs": [
    {
     "data": {
      "image/svg+xml": [
       "<svg xmlns=\"http://www.w3.org/2000/svg\" xmlns:rdkit=\"http://www.rdkit.org/xml\" xmlns:xlink=\"http://www.w3.org/1999/xlink\" version=\"1.1\" baseProfile=\"full\" xml:space=\"preserve\" width=\"500px\" height=\"300px\" viewBox=\"0 0 500 300\">\n",
       "<!-- END OF HEADER -->\n",
       "<rect style=\"opacity:1.0;fill:#FFFFFF;stroke:none\" width=\"500.0\" height=\"300.0\" x=\"0.0\" y=\"0.0\"> </rect>\n",
       "<path class=\"bond-0 atom-0 atom-1\" d=\"M 355.5,178.0 L 355.6,217.6\" style=\"fill:none;fill-rule:evenodd;stroke:#000000;stroke-width:2.0px;stroke-linecap:butt;stroke-linejoin:miter;stroke-opacity:1\"/>\n",
       "<path class=\"bond-0 atom-0 atom-1\" d=\"M 348.4,184.0 L 348.4,211.7\" style=\"fill:none;fill-rule:evenodd;stroke:#000000;stroke-width:2.0px;stroke-linecap:butt;stroke-linejoin:miter;stroke-opacity:1\"/>\n",
       "<path class=\"bond-1 atom-1 atom-2\" d=\"M 355.6,217.6 L 321.4,237.6\" style=\"fill:none;fill-rule:evenodd;stroke:#000000;stroke-width:2.0px;stroke-linecap:butt;stroke-linejoin:miter;stroke-opacity:1\"/>\n",
       "<path class=\"bond-2 atom-2 atom-3\" d=\"M 321.4,237.6 L 321.5,252.7\" style=\"fill:none;fill-rule:evenodd;stroke:#000000;stroke-width:2.0px;stroke-linecap:butt;stroke-linejoin:miter;stroke-opacity:1\"/>\n",
       "<path class=\"bond-2 atom-2 atom-3\" d=\"M 321.5,252.7 L 321.5,267.8\" style=\"fill:none;fill-rule:evenodd;stroke:#00CC00;stroke-width:2.0px;stroke-linecap:butt;stroke-linejoin:miter;stroke-opacity:1\"/>\n",
       "<path class=\"bond-3 atom-2 atom-4\" d=\"M 321.4,237.6 L 287.0,217.8\" style=\"fill:none;fill-rule:evenodd;stroke:#000000;stroke-width:2.0px;stroke-linecap:butt;stroke-linejoin:miter;stroke-opacity:1\"/>\n",
       "<path class=\"bond-3 atom-2 atom-4\" d=\"M 319.8,228.4 L 295.7,214.6\" style=\"fill:none;fill-rule:evenodd;stroke:#000000;stroke-width:2.0px;stroke-linecap:butt;stroke-linejoin:miter;stroke-opacity:1\"/>\n",
       "<path class=\"bond-4 atom-4 atom-5\" d=\"M 287.0,217.8 L 286.9,178.3\" style=\"fill:none;fill-rule:evenodd;stroke:#000000;stroke-width:2.0px;stroke-linecap:butt;stroke-linejoin:miter;stroke-opacity:1\"/>\n",
       "<path class=\"bond-5 atom-5 atom-6\" d=\"M 286.9,178.3 L 321.1,158.3\" style=\"fill:none;fill-rule:evenodd;stroke:#000000;stroke-width:2.0px;stroke-linecap:butt;stroke-linejoin:miter;stroke-opacity:1\"/>\n",
       "<path class=\"bond-5 atom-5 atom-6\" d=\"M 295.6,181.4 L 319.5,167.4\" style=\"fill:none;fill-rule:evenodd;stroke:#000000;stroke-width:2.0px;stroke-linecap:butt;stroke-linejoin:miter;stroke-opacity:1\"/>\n",
       "<path class=\"bond-6 atom-6 atom-7\" d=\"M 321.1,158.3 L 321.4,119.1\" style=\"fill:none;fill-rule:evenodd;stroke:#000000;stroke-width:2.0px;stroke-linecap:butt;stroke-linejoin:miter;stroke-opacity:1\"/>\n",
       "<path class=\"bond-7 atom-7 atom-8\" d=\"M 319.6,116.0 L 332.3,108.7\" style=\"fill:none;fill-rule:evenodd;stroke:#000000;stroke-width:2.0px;stroke-linecap:butt;stroke-linejoin:miter;stroke-opacity:1\"/>\n",
       "<path class=\"bond-7 atom-7 atom-8\" d=\"M 332.3,108.7 L 345.0,101.5\" style=\"fill:none;fill-rule:evenodd;stroke:#FF0000;stroke-width:2.0px;stroke-linecap:butt;stroke-linejoin:miter;stroke-opacity:1\"/>\n",
       "<path class=\"bond-7 atom-7 atom-8\" d=\"M 323.2,122.2 L 335.9,114.9\" style=\"fill:none;fill-rule:evenodd;stroke:#000000;stroke-width:2.0px;stroke-linecap:butt;stroke-linejoin:miter;stroke-opacity:1\"/>\n",
       "<path class=\"bond-7 atom-7 atom-8\" d=\"M 335.9,114.9 L 348.6,107.7\" style=\"fill:none;fill-rule:evenodd;stroke:#FF0000;stroke-width:2.0px;stroke-linecap:butt;stroke-linejoin:miter;stroke-opacity:1\"/>\n",
       "<path class=\"bond-8 atom-7 atom-9\" d=\"M 321.4,119.1 L 288.0,99.5\" style=\"fill:none;fill-rule:evenodd;stroke:#000000;stroke-width:2.0px;stroke-linecap:butt;stroke-linejoin:miter;stroke-opacity:1\"/>\n",
       "<path class=\"bond-9 atom-9 atom-10\" d=\"M 288.0,99.5 L 273.7,107.5\" style=\"fill:none;fill-rule:evenodd;stroke:#000000;stroke-width:2.0px;stroke-linecap:butt;stroke-linejoin:miter;stroke-opacity:1\"/>\n",
       "<path class=\"bond-9 atom-9 atom-10\" d=\"M 273.7,107.5 L 259.5,115.6\" style=\"fill:none;fill-rule:evenodd;stroke:#CCCC00;stroke-width:2.0px;stroke-linecap:butt;stroke-linejoin:miter;stroke-opacity:1\"/>\n",
       "<path class=\"bond-10 atom-10 atom-11\" d=\"M 246.1,115.6 L 232.0,107.6\" style=\"fill:none;fill-rule:evenodd;stroke:#CCCC00;stroke-width:2.0px;stroke-linecap:butt;stroke-linejoin:miter;stroke-opacity:1\"/>\n",
       "<path class=\"bond-10 atom-10 atom-11\" d=\"M 232.0,107.6 L 218.0,99.6\" style=\"fill:none;fill-rule:evenodd;stroke:#000000;stroke-width:2.0px;stroke-linecap:butt;stroke-linejoin:miter;stroke-opacity:1\"/>\n",
       "<path class=\"bond-11 atom-11 atom-12\" d=\"M 218.0,99.6 L 217.9,59.9\" style=\"fill:none;fill-rule:evenodd;stroke:#000000;stroke-width:2.0px;stroke-linecap:butt;stroke-linejoin:miter;stroke-opacity:1\"/>\n",
       "<path class=\"bond-11 atom-11 atom-12\" d=\"M 210.8,93.7 L 210.8,65.9\" style=\"fill:none;fill-rule:evenodd;stroke:#000000;stroke-width:2.0px;stroke-linecap:butt;stroke-linejoin:miter;stroke-opacity:1\"/>\n",
       "<path class=\"bond-12 atom-12 atom-13\" d=\"M 217.9,59.9 L 205.2,52.5\" style=\"fill:none;fill-rule:evenodd;stroke:#000000;stroke-width:2.0px;stroke-linecap:butt;stroke-linejoin:miter;stroke-opacity:1\"/>\n",
       "<path class=\"bond-12 atom-12 atom-13\" d=\"M 205.2,52.5 L 192.6,45.2\" style=\"fill:none;fill-rule:evenodd;stroke:#FF0000;stroke-width:2.0px;stroke-linecap:butt;stroke-linejoin:miter;stroke-opacity:1\"/>\n",
       "<path class=\"bond-13 atom-13 atom-14\" d=\"M 174.6,45.1 L 161.9,52.4\" style=\"fill:none;fill-rule:evenodd;stroke:#FF0000;stroke-width:2.0px;stroke-linecap:butt;stroke-linejoin:miter;stroke-opacity:1\"/>\n",
       "<path class=\"bond-13 atom-13 atom-14\" d=\"M 161.9,52.4 L 149.3,59.7\" style=\"fill:none;fill-rule:evenodd;stroke:#000000;stroke-width:2.0px;stroke-linecap:butt;stroke-linejoin:miter;stroke-opacity:1\"/>\n",
       "<path class=\"bond-14 atom-14 atom-15\" d=\"M 149.3,59.7 L 136.8,60.8\" style=\"fill:none;fill-rule:evenodd;stroke:#000000;stroke-width:2.0px;stroke-linecap:butt;stroke-linejoin:miter;stroke-opacity:1\"/>\n",
       "<path class=\"bond-14 atom-14 atom-15\" d=\"M 136.8,60.8 L 124.3,62.0\" style=\"fill:none;fill-rule:evenodd;stroke:#33CCCC;stroke-width:2.0px;stroke-linecap:butt;stroke-linejoin:miter;stroke-opacity:1\"/>\n",
       "<path class=\"bond-15 atom-14 atom-16\" d=\"M 149.3,59.7 L 144.7,45.7\" style=\"fill:none;fill-rule:evenodd;stroke:#000000;stroke-width:2.0px;stroke-linecap:butt;stroke-linejoin:miter;stroke-opacity:1\"/>\n",
       "<path class=\"bond-15 atom-14 atom-16\" d=\"M 144.7,45.7 L 140.1,31.8\" style=\"fill:none;fill-rule:evenodd;stroke:#33CCCC;stroke-width:2.0px;stroke-linecap:butt;stroke-linejoin:miter;stroke-opacity:1\"/>\n",
       "<path class=\"bond-16 atom-14 atom-17\" d=\"M 149.3,59.7 L 149.1,99.4\" style=\"fill:none;fill-rule:evenodd;stroke:#000000;stroke-width:2.0px;stroke-linecap:butt;stroke-linejoin:miter;stroke-opacity:1\"/>\n",
       "<path class=\"bond-17 atom-17 atom-18\" d=\"M 149.1,99.4 L 183.6,119.3\" style=\"fill:none;fill-rule:evenodd;stroke:#000000;stroke-width:2.0px;stroke-linecap:butt;stroke-linejoin:miter;stroke-opacity:1\"/>\n",
       "<path class=\"bond-18 atom-6 atom-0\" d=\"M 321.1,158.3 L 355.5,178.0\" style=\"fill:none;fill-rule:evenodd;stroke:#000000;stroke-width:2.0px;stroke-linecap:butt;stroke-linejoin:miter;stroke-opacity:1\"/>\n",
       "<path class=\"bond-19 atom-18 atom-11\" d=\"M 183.6,119.3 L 218.0,99.6\" style=\"fill:none;fill-rule:evenodd;stroke:#000000;stroke-width:2.0px;stroke-linecap:butt;stroke-linejoin:miter;stroke-opacity:1\"/>\n",
       "<path class=\"bond-20 atom-0 atom-19\" d=\"M 355.5,178.0 L 381.8,162.7\" style=\"fill:none;fill-rule:evenodd;stroke:#000000;stroke-width:2.0px;stroke-linecap:butt;stroke-linejoin:miter;stroke-opacity:1\"/>\n",
       "<path class=\"bond-21 atom-1 atom-20\" d=\"M 355.6,217.6 L 382.1,232.8\" style=\"fill:none;fill-rule:evenodd;stroke:#000000;stroke-width:2.0px;stroke-linecap:butt;stroke-linejoin:miter;stroke-opacity:1\"/>\n",
       "<path class=\"bond-22 atom-4 atom-21\" d=\"M 287.0,217.8 L 260.7,233.2\" style=\"fill:none;fill-rule:evenodd;stroke:#000000;stroke-width:2.0px;stroke-linecap:butt;stroke-linejoin:miter;stroke-opacity:1\"/>\n",
       "<path class=\"bond-23 atom-5 atom-22\" d=\"M 286.9,178.3 L 260.4,163.1\" style=\"fill:none;fill-rule:evenodd;stroke:#000000;stroke-width:2.0px;stroke-linecap:butt;stroke-linejoin:miter;stroke-opacity:1\"/>\n",
       "<path class=\"bond-24 atom-9 atom-23\" d=\"M 288.0,99.5 L 274.8,75.5\" style=\"fill:none;fill-rule:evenodd;stroke:#000000;stroke-width:2.0px;stroke-linecap:butt;stroke-linejoin:miter;stroke-opacity:1\"/>\n",
       "<path class=\"bond-25 atom-9 atom-24\" d=\"M 288.0,99.5 L 302.4,75.1\" style=\"fill:none;fill-rule:evenodd;stroke:#000000;stroke-width:2.0px;stroke-linecap:butt;stroke-linejoin:miter;stroke-opacity:1\"/>\n",
       "<path class=\"bond-26 atom-12 atom-25\" d=\"M 217.9,59.9 L 243.0,44.9\" style=\"fill:none;fill-rule:evenodd;stroke:#000000;stroke-width:2.0px;stroke-linecap:butt;stroke-linejoin:miter;stroke-opacity:1\"/>\n",
       "<path class=\"bond-27 atom-17 atom-26\" d=\"M 149.1,99.4 L 137.7,125.6\" style=\"fill:none;fill-rule:evenodd;stroke:#000000;stroke-width:2.0px;stroke-linecap:butt;stroke-linejoin:miter;stroke-opacity:1\"/>\n",
       "<path class=\"bond-28 atom-17 atom-27\" d=\"M 149.1,99.4 L 117.9,94.6\" style=\"fill:none;fill-rule:evenodd;stroke:#000000;stroke-width:2.0px;stroke-linecap:butt;stroke-linejoin:miter;stroke-opacity:1\"/>\n",
       "<path class=\"bond-29 atom-18 atom-28\" d=\"M 183.6,119.3 L 202.3,140.0\" style=\"fill:none;fill-rule:evenodd;stroke:#000000;stroke-width:2.0px;stroke-linecap:butt;stroke-linejoin:miter;stroke-opacity:1\"/>\n",
       "<path class=\"bond-30 atom-18 atom-29\" d=\"M 183.6,119.3 L 167.8,141.6\" style=\"fill:none;fill-rule:evenodd;stroke:#000000;stroke-width:2.0px;stroke-linecap:butt;stroke-linejoin:miter;stroke-opacity:1\"/>\n",
       "<path class=\"atom-3\" d=\"M 315.1 277.7 Q 315.1 273.5, 317.0 271.3 Q 319.0 269.1, 322.7 269.1 Q 326.2 269.1, 328.0 271.6 L 326.5 272.9 Q 325.1 271.1, 322.7 271.1 Q 320.2 271.1, 318.8 272.8 Q 317.5 274.5, 317.5 277.7 Q 317.5 281.0, 318.9 282.8 Q 320.3 284.5, 323.0 284.5 Q 324.8 284.5, 327.0 283.3 L 327.6 285.1 Q 326.8 285.7, 325.4 286.0 Q 324.1 286.4, 322.6 286.4 Q 319.0 286.4, 317.0 284.1 Q 315.1 281.9, 315.1 277.7 \" fill=\"#00CC00\"/>\n",
       "<path class=\"atom-3\" d=\"M 329.0 268.1 L 331.2 268.1 L 331.2 286.1 L 329.0 286.1 L 329.0 268.1 \" fill=\"#00CC00\"/>\n",
       "<path class=\"atom-8\" d=\"M 348.1 99.5 Q 348.1 95.4, 350.1 93.2 Q 352.1 90.9, 355.8 90.9 Q 359.5 90.9, 361.5 93.2 Q 363.5 95.4, 363.5 99.5 Q 363.5 103.5, 361.5 105.9 Q 359.5 108.2, 355.8 108.2 Q 352.1 108.2, 350.1 105.9 Q 348.1 103.6, 348.1 99.5 M 355.8 106.3 Q 358.4 106.3, 359.7 104.6 Q 361.1 102.8, 361.1 99.5 Q 361.1 96.2, 359.7 94.5 Q 358.4 92.8, 355.8 92.8 Q 353.2 92.8, 351.8 94.5 Q 350.5 96.1, 350.5 99.5 Q 350.5 102.9, 351.8 104.6 Q 353.2 106.3, 355.8 106.3 \" fill=\"#FF0000\"/>\n",
       "<path class=\"atom-10\" d=\"M 248.0 125.2 Q 248.2 125.2, 249.0 125.6 Q 249.8 125.9, 250.7 126.1 Q 251.5 126.3, 252.4 126.3 Q 254.0 126.3, 254.9 125.5 Q 255.8 124.7, 255.8 123.4 Q 255.8 122.5, 255.4 121.9 Q 254.9 121.3, 254.2 121.0 Q 253.5 120.7, 252.3 120.4 Q 250.8 119.9, 249.9 119.5 Q 249.0 119.0, 248.4 118.1 Q 247.8 117.2, 247.8 115.7 Q 247.8 113.6, 249.2 112.3 Q 250.6 111.0, 253.5 111.0 Q 255.4 111.0, 257.6 111.9 L 257.1 113.7 Q 255.1 112.9, 253.6 112.9 Q 251.9 112.9, 251.0 113.6 Q 250.1 114.3, 250.1 115.4 Q 250.1 116.3, 250.6 116.9 Q 251.1 117.4, 251.7 117.7 Q 252.4 118.0, 253.6 118.4 Q 255.1 118.9, 256.0 119.4 Q 256.9 119.8, 257.5 120.8 Q 258.2 121.8, 258.2 123.4 Q 258.2 125.7, 256.6 127.0 Q 255.1 128.2, 252.5 128.2 Q 251.0 128.2, 249.8 127.9 Q 248.7 127.6, 247.4 127.0 L 248.0 125.2 \" fill=\"#CCCC00\"/>\n",
       "<path class=\"atom-13\" d=\"M 175.9 40.0 Q 175.9 35.9, 177.9 33.7 Q 179.9 31.4, 183.6 31.4 Q 187.3 31.4, 189.3 33.7 Q 191.3 35.9, 191.3 40.0 Q 191.3 44.1, 189.3 46.4 Q 187.3 48.7, 183.6 48.7 Q 179.9 48.7, 177.9 46.4 Q 175.9 44.1, 175.9 40.0 M 183.6 46.8 Q 186.2 46.8, 187.5 45.1 Q 188.9 43.3, 188.9 40.0 Q 188.9 36.7, 187.5 35.0 Q 186.2 33.3, 183.6 33.3 Q 181.0 33.3, 179.6 35.0 Q 178.2 36.6, 178.2 40.0 Q 178.2 43.4, 179.6 45.1 Q 181.0 46.8, 183.6 46.8 \" fill=\"#FF0000\"/>\n",
       "<path class=\"atom-15\" d=\"M 113.0 54.2 L 123.0 54.2 L 123.0 56.1 L 115.3 56.1 L 115.3 61.2 L 122.2 61.2 L 122.2 63.1 L 115.3 63.1 L 115.3 71.0 L 113.0 71.0 L 113.0 54.2 \" fill=\"#33CCCC\"/>\n",
       "<path class=\"atom-16\" d=\"M 131.9 13.6 L 141.9 13.6 L 141.9 15.6 L 134.2 15.6 L 134.2 20.7 L 141.1 20.7 L 141.1 22.6 L 134.2 22.6 L 134.2 30.5 L 131.9 30.5 L 131.9 13.6 \" fill=\"#33CCCC\"/>\n",
       "<path class=\"atom-19\" d=\"M 383.1 149.7 L 385.4 149.7 L 385.4 156.8 L 394.0 156.8 L 394.0 149.7 L 396.3 149.7 L 396.3 166.5 L 394.0 166.5 L 394.0 158.7 L 385.4 158.7 L 385.4 166.5 L 383.1 166.5 L 383.1 149.7 \" fill=\"#000000\"/>\n",
       "<path class=\"atom-20\" d=\"M 383.4 228.9 L 385.7 228.9 L 385.7 236.0 L 394.3 236.0 L 394.3 228.9 L 396.6 228.9 L 396.6 245.7 L 394.3 245.7 L 394.3 237.9 L 385.7 237.9 L 385.7 245.7 L 383.4 245.7 L 383.4 228.9 \" fill=\"#000000\"/>\n",
       "<path class=\"atom-21\" d=\"M 246.2 229.3 L 248.5 229.3 L 248.5 236.5 L 257.1 236.5 L 257.1 229.3 L 259.4 229.3 L 259.4 246.2 L 257.1 246.2 L 257.1 238.4 L 248.5 238.4 L 248.5 246.2 L 246.2 246.2 L 246.2 229.3 \" fill=\"#000000\"/>\n",
       "<path class=\"atom-22\" d=\"M 245.9 150.1 L 248.2 150.1 L 248.2 157.3 L 256.8 157.3 L 256.8 150.1 L 259.1 150.1 L 259.1 167.0 L 256.8 167.0 L 256.8 159.2 L 248.2 159.2 L 248.2 167.0 L 245.9 167.0 L 245.9 150.1 \" fill=\"#000000\"/>\n",
       "<path class=\"atom-23\" d=\"M 262.9 57.3 L 265.2 57.3 L 265.2 64.5 L 273.8 64.5 L 273.8 57.3 L 276.1 57.3 L 276.1 74.2 L 273.8 74.2 L 273.8 66.4 L 265.2 66.4 L 265.2 74.2 L 262.9 74.2 L 262.9 57.3 \" fill=\"#000000\"/>\n",
       "<path class=\"atom-24\" d=\"M 301.6 57.0 L 303.9 57.0 L 303.9 64.1 L 312.5 64.1 L 312.5 57.0 L 314.8 57.0 L 314.8 73.8 L 312.5 73.8 L 312.5 66.0 L 303.9 66.0 L 303.9 73.8 L 301.6 73.8 L 301.6 57.0 \" fill=\"#000000\"/>\n",
       "<path class=\"atom-25\" d=\"M 244.2 31.8 L 246.5 31.8 L 246.5 39.0 L 255.1 39.0 L 255.1 31.8 L 257.4 31.8 L 257.4 48.6 L 255.1 48.6 L 255.1 40.9 L 246.5 40.9 L 246.5 48.6 L 244.2 48.6 L 244.2 31.8 \" fill=\"#000000\"/>\n",
       "<path class=\"atom-26\" d=\"M 126.9 126.9 L 129.2 126.9 L 129.2 134.1 L 137.8 134.1 L 137.8 126.9 L 140.0 126.9 L 140.0 143.7 L 137.8 143.7 L 137.8 136.0 L 129.2 136.0 L 129.2 143.7 L 126.9 143.7 L 126.9 126.9 \" fill=\"#000000\"/>\n",
       "<path class=\"atom-27\" d=\"M 103.4 85.0 L 105.7 85.0 L 105.7 92.1 L 114.3 92.1 L 114.3 85.0 L 116.6 85.0 L 116.6 101.8 L 114.3 101.8 L 114.3 94.0 L 105.7 94.0 L 105.7 101.8 L 103.4 101.8 L 103.4 85.0 \" fill=\"#000000\"/>\n",
       "<path class=\"atom-28\" d=\"M 203.6 140.3 L 205.9 140.3 L 205.9 147.4 L 214.5 147.4 L 214.5 140.3 L 216.8 140.3 L 216.8 157.1 L 214.5 157.1 L 214.5 149.3 L 205.9 149.3 L 205.9 157.1 L 203.6 157.1 L 203.6 140.3 \" fill=\"#000000\"/>\n",
       "<path class=\"atom-29\" d=\"M 154.3 142.9 L 156.6 142.9 L 156.6 150.0 L 165.2 150.0 L 165.2 142.9 L 167.5 142.9 L 167.5 159.7 L 165.2 159.7 L 165.2 151.9 L 156.6 151.9 L 156.6 159.7 L 154.3 159.7 L 154.3 142.9 \" fill=\"#000000\"/>\n",
       "</svg>"
      ],
      "text/plain": [
       "<IPython.core.display.SVG object>"
      ]
     },
     "execution_count": 4,
     "metadata": {},
     "output_type": "execute_result"
    }
   ],
   "source": [
    "molecule = Molecule.from_smiles(\"c1cc(Cl)ccc1C(=O)CS[C]1=CO[C](F)(F)CC1\")\n",
    "molecule.generate_conformers(n_conformers=1)\n",
    "molecule.visualize()"
   ]
  },
  {
   "cell_type": "code",
   "execution_count": 5,
   "metadata": {
    "pycharm": {
     "name": "#%%\n"
    }
   },
   "outputs": [],
   "source": [
    "# Create an Interchange object, which stores information needed for OpenMM (and other engines)\n",
    "# to understand virtual sites as applied by a force field\n",
    "\n",
    "interchange = Interchange.from_smirnoff(\n",
    "    force_field=force_field, topology=molecule.to_topology()\n",
    ")\n",
    "\n",
    "assert \"VirtualSites\" in interchange.handlers.keys()"
   ]
  },
  {
   "cell_type": "markdown",
   "metadata": {},
   "source": [
    "At this point, each of our OpenFF objects have processed and stored all of the information needed to run a simulation in OpenMM. Next we need to do some conversions prepare the OpenMM objects. First we'll make an _OpenMM_ `Topology` and a corresponding _OpenMM_ `System`, each containing virtual sites."
   ]
  },
  {
   "cell_type": "code",
   "execution_count": 6,
   "metadata": {},
   "outputs": [],
   "source": [
    "# Note that interchange.topology.to_openmm() uses a different code path that DOES NOT include virtual sites\n",
    "openmm_topology: openmm.app.Topology = interchange.to_openmm_topology()\n",
    "\n",
    "openmm_system: openmm.System = interchange.to_openmm(combine_nonbonded_forces=True)"
   ]
  },
  {
   "cell_type": "code",
   "execution_count": 7,
   "metadata": {},
   "outputs": [
    {
     "name": "stdout",
     "output_type": "stream",
     "text": [
      "There are 5 virtual particles in this topology.\n"
     ]
    }
   ],
   "source": [
    "# Retrieve the number of virtualsites in this system/topology by counting\n",
    "# the number of \"Atoms\" in the OpenMM `Toppology` with a `None` element\n",
    "# (this method returns virtual sites as welll, despite the name) ...\n",
    "n_virtual_sites = sum(atom.element is None for atom in openmm_topology.atoms())\n",
    "\n",
    "# or the number of particles in the OpenMM `System` with zero mass\n",
    "assert n_virtual_sites == sum(\n",
    "    openmm_system.getParticleMass(index)._value == 0\n",
    "    for index in range(openmm_system.getNumParticles())\n",
    ")\n",
    "\n",
    "# This can also be done by inspecting the virtual site handler in the Interchange object\n",
    "assert n_virtual_sites == len(interchange[\"VirtualSites\"].slot_map)\n",
    "\n",
    "print(f\"There are {n_virtual_sites} virtual particles in this topology.\")"
   ]
  },
  {
   "cell_type": "code",
   "execution_count": 8,
   "metadata": {
    "pycharm": {
     "name": "#%%\n"
    },
    "scrolled": true
   },
   "outputs": [
    {
     "name": "stdout",
     "output_type": "stream",
     "text": [
      "Starting simulation\n",
      "Elapsed time 2.29 seconds\n",
      "Done!\n"
     ]
    }
   ],
   "source": [
    "simulation = prepare_simulation(\n",
    "    openmm_topology=openmm_topology,\n",
    "    openmm_system=openmm_system,\n",
    "    positions=to_openmm_positions(interchange),\n",
    ")\n",
    "\n",
    "run_simulation(simulation, 10000)"
   ]
  },
  {
   "cell_type": "code",
   "execution_count": 9,
   "metadata": {
    "scrolled": true
   },
   "outputs": [
    {
     "data": {
      "application/vnd.jupyter.widget-view+json": {
       "model_id": "d3b1edbebe3341a09d60b79671666793",
       "version_major": 2,
       "version_minor": 0
      },
      "text/plain": []
     },
     "metadata": {},
     "output_type": "display_data"
    },
    {
     "data": {
      "application/vnd.jupyter.widget-view+json": {
       "model_id": "11368e1348724402bcf1b084f7a45265",
       "version_major": 2,
       "version_minor": 0
      },
      "text/plain": [
       "NGLWidget(max_frame=99)"
      ]
     },
     "metadata": {},
     "output_type": "display_data"
    }
   ],
   "source": [
    "import mdtraj\n",
    "\n",
    "# Visualize the trajectory. There will probably be errant bonds drawn between atoms and virtual sites.\n",
    "import nglview\n",
    "\n",
    "nglview.show_mdtraj(mdtraj.load(\"trajectory.pdb\"))"
   ]
  },
  {
   "cell_type": "markdown",
   "metadata": {
    "pycharm": {
     "name": "#%% md\n"
    }
   },
   "source": [
    "## Part 2: Numerical comparison of OpenMM's TIP5P and an equivalent SMIRNOFF implementation"
   ]
  },
  {
   "cell_type": "markdown",
   "metadata": {
    "pycharm": {
     "name": "#%% md\n"
    }
   },
   "source": [
    "Parameterizes a water box with OpenFF and OpenMM force fields. Currently set up\n",
    "to use a TIP5P definition. The code examines the geometry and energy between the\n",
    "two, and examines cases where minimization is performed. Specifically, the code\n",
    "compares the four possible combinations:\n",
    "    - oFF and oMM geometry/energy, minimized separately and then compared\n",
    "    - oFF and oMM geometry/energy using no minimization\n",
    "    - Geometry minimized using oFF, then a single point is done with oMM\n",
    "    - Geometry minimized using oMM, then a single point is done with oFF\n",
    "\n",
    "The virtual site definitions give differences in geometry and energy mostly due\n",
    "to how they were defined from their parent atoms. OpenMM uses an OutOfPlaneSite\n",
    "definition, whereas OpenFF uses the LocalCoordinatesSite definition (both are\n",
    "OpenMM types). In the OutOfPlaneSite definition, both angle and distance are\n",
    "variable since the defined out-of-plane angle depends on a weighted vector cross.\n",
    "The cross is a function of the O-H vectors, so the virtual sites are sensitive\n",
    "to the molecular geometry. In the OpenFF version, the distance is fixed to a constant\n",
    "value, and the out-of-plane angle is explicitly required in the OpenFF spec.\n",
    "\n",
    "In this example, the OpenFF parameter definition (the \"offxml\") is a string\n",
    "further below in the `main` function, and can be easily modified to explore\n",
    "force field parameterization. The OpenMM definition is loaded from its internal\n",
    "default location, and acts as a reference. One can change this this to a different\n",
    "filename to compare other force fields.\n",
    "\n",
    "This example is somewhat hardcoded to operate on water molecules, but can be easily\n",
    "modified to examine other cases as well. The only major assumption is that the\n",
    "system is homogenous, i.e., all of the molecules are same. The reason this is\n",
    "assumed is mostly due to the difference in how virtual sites are handled between\n",
    "OpenFF and OpenMM. Whereas OpenMM interleaves the virtual site particles between\n",
    "the atomic particles, OpenFF instead aggregates all virtual sites and places them\n",
    "last. The code below does assume that, barring this difference, the virtual sites\n",
    "are added in the same order.\n",
    "\n",
    "The example begins in `run_tests` by defining a grid of water molecules, with\n",
    "the default being a single water molecule (Nx=1, Ny=1, Nz=1). From this, the\n",
    "calculations described in the first paragraph above are performed. The energy\n",
    "difference and distance between the two geometries, per atom, is then reported.\n",
    "There are commented lines that print the entire set of coordinates, and can be\n",
    "uncommented if desired."
   ]
  },
  {
   "cell_type": "code",
   "execution_count": 10,
   "metadata": {},
   "outputs": [],
   "source": [
    "def _collate_virtual_site_positions(atom_positions: np.ndarray) -> np.ndarray:\n",
    "    \"\"\"Given an array of atomic positions of water, collate virtual particles between molecules.\"\"\"\n",
    "    padded_positions = np.zeros(shape=(2, 3))\n",
    "    num_atoms_per_mol = 3\n",
    "\n",
    "    def mol_positions(i, atom_positions):\n",
    "        this_mol_atom_coordinates = atom_positions[\n",
    "            i * num_atoms_per_mol : (i + 1) * num_atoms_per_mol\n",
    "        ]\n",
    "        return np.vstack([this_mol_atom_coordinates, padded_positions])\n",
    "\n",
    "    return np.vstack([mol_positions(i, atom_positions) for i in range(2)])"
   ]
  },
  {
   "cell_type": "code",
   "execution_count": 11,
   "metadata": {
    "pycharm": {
     "name": "#%%\n"
    },
    "scrolled": true
   },
   "outputs": [],
   "source": [
    "def _evaluate_positions_and_energy(\n",
    "    openmm_topology: openmm.app.Topology,\n",
    "    openmm_system: openmm.app.Simulation,\n",
    "    particle_positions: openmm_unit.Quantity,\n",
    "    minimize=False,\n",
    ") -> Tuple[np.ndarray, unit.Quantity]:\n",
    "    \"\"\"\n",
    "    Calculate particle positions and potential energy of the a system.\n",
    "\n",
    "    Parameters\n",
    "    ----------\n",
    "    openmm_topology: openmm.app.Topology, OpenMM Topology\n",
    "    openmm_system: openmm.app.System, OpenMM System\n",
    "    particle_positions: openff.units.unit.Quantity, (N, 3) array of positions in nanometers\n",
    "    minimize: bool, Whether or not to perform an energy minimization before calculating energy\n",
    "\n",
    "    Returns\n",
    "    -------\n",
    "    positions: numpy.ndarray, array of particle positions (as nanometers)\n",
    "    energy: openmm.unit.Quantity, The potential energy of the systems\n",
    "\n",
    "    \"\"\"\n",
    "\n",
    "    integrator = openmm.LangevinIntegrator(\n",
    "        300 * openmm_unit.kelvin,\n",
    "        1 / openmm_unit.picosecond,\n",
    "        0.002 * openmm_unit.picoseconds,\n",
    "    )\n",
    "\n",
    "    sim = openmm.app.Simulation(openmm_topology, openmm_system, integrator)\n",
    "\n",
    "    sim.context.setPositions(particle_positions)\n",
    "    sim.context.applyConstraints(1e-5)\n",
    "\n",
    "    if minimize:\n",
    "        sim.minimizeEnergy()\n",
    "\n",
    "    state = sim.context.getState(getEnergy=True, getPositions=True)\n",
    "    ene = state.getPotentialEnergy()\n",
    "    pos = openmm_unit.Quantity(\n",
    "        [\n",
    "            list(xyz)\n",
    "            for xyz in state.getPositions().value_in_unit(openmm_unit.nanometer)\n",
    "        ],\n",
    "        openmm_unit.nanometer,\n",
    "    )\n",
    "\n",
    "    return pos, ene"
   ]
  },
  {
   "cell_type": "code",
   "execution_count": 12,
   "metadata": {
    "pycharm": {
     "name": "#%%\n"
    }
   },
   "outputs": [],
   "source": [
    "def build_water_lattice(\n",
    "    num_duplicates: List[int] = [1, 1, 1],\n",
    "    spacing: List[float] = [2.0, 2.0, 2.0],\n",
    ") -> List[Molecule]:\n",
    "    \"\"\"\n",
    "    Generate a box of water molecules as OpenFF Molecules\n",
    "\n",
    "    Parameters\n",
    "    ----------\n",
    "        num_duplicates: List[int], The number of molecules in each dimension\n",
    "        spacing: List[float], The spacing between the molecules in each dimension, implicitly in Angstrom\n",
    "\n",
    "    Returns\n",
    "    -------\n",
    "        water_box: List[Molecule], A list of Molecule objcets with a 3D conformation\n",
    "    \"\"\"\n",
    "    Lx, Ly, Lz = (num_duplicates[i] * spacing[i] for i in range(3))\n",
    "    Z, Y, X = np.mgrid[\n",
    "        0 : Lz : spacing[0],\n",
    "        0 : Ly : spacing[1],\n",
    "        0 : Lx : spacing[2],\n",
    "    ]\n",
    "    XYZ = [list(xyz) for xyz in zip(X.flat, Y.flat, Z.flat)]\n",
    "\n",
    "    water_box = list([None] * len(XYZ))\n",
    "    water_reference = Molecule.from_mapped_smiles(\"[O:1]([H:2])[H:3]\")\n",
    "    water_reference.atoms[0].name = \"O\"\n",
    "    water_reference.atoms[1].name = \"H1\"\n",
    "    water_reference.atoms[2].name = \"H2\"\n",
    "    # Add ideal TIP5P geometry\n",
    "    water_reference.add_conformer(\n",
    "        [[0.0, 0.0, 0.0], [-0.7815, 0.5526, 0.0], [0.7815, 0.5526, 0.0]] * unit.angstrom\n",
    "    )\n",
    "\n",
    "    for i, xyz in enumerate(XYZ):\n",
    "        water_box[i] = Molecule(water_reference)\n",
    "        water_box[i].conformers[0] = water_box[i].conformers[0] + xyz * unit.angstrom\n",
    "\n",
    "    return water_box"
   ]
  },
  {
   "cell_type": "code",
   "execution_count": 13,
   "metadata": {
    "pycharm": {
     "name": "#%%\n"
    }
   },
   "outputs": [],
   "source": [
    "def evaluate_openmm(\n",
    "    water: List[Molecule],\n",
    "    openmm_force_field: openmm.app.ForceField,\n",
    "    minimize: bool = False,\n",
    "):\n",
    "    \"\"\"\n",
    "    Given a list of molecules and a force field definition, calculate the\n",
    "    positions and energy.\n",
    "\n",
    "    Parameters\n",
    "    ----------\n",
    "        water: List[Molecule], each with a 3D conformation\n",
    "        openmm_force_field: openmm.app.ForceField, OpenMM ForceField object\n",
    "        minimize: bool, default = False, whether the structure should be minimized\n",
    "\n",
    "    Returns\n",
    "    -------\n",
    "        xyz: List The coordinates of all particles in the system (OpenMM ordering)\n",
    "        ene: float, The potential energy\n",
    "    \"\"\"\n",
    "\n",
    "    # First, get an OpenMM Topology and atom positions with no virtual sites\n",
    "    _topology: openmm.app.Topology = Topology.from_molecules(water).to_openmm()\n",
    "\n",
    "    atom_positions_unitless = np.vstack(\n",
    "        [mol.conformers[0].m_as(unit.nanometer) for mol in water]\n",
    "    )\n",
    "    atom_positions = openmm_unit.Quantity(\n",
    "        atom_positions_unitless, openmm_unit.nanometer\n",
    "    )\n",
    "\n",
    "    # Use OpenMM's Modeller to add virtual particles as perscribed by the force field\n",
    "    modeller = openmm.app.Modeller(_topology, atom_positions)\n",
    "    modeller.addExtraParticles(openmm_force_field)\n",
    "\n",
    "    # This topology includes virtual particles, so we can use it to create a System\n",
    "    topology = modeller.getTopology()\n",
    "\n",
    "    system: System = openmm_force_field.createSystem(\n",
    "        topology, nonbondedMethod=openmm.app.NoCutoff\n",
    "    )\n",
    "\n",
    "    # Add positions of virtual particles now that the topology includes them\n",
    "    particle_positions = openmm_unit.Quantity(\n",
    "        _collate_virtual_site_positions(atom_positions), openmm_unit.nanometer\n",
    "    )\n",
    "\n",
    "    return _evaluate_positions_and_energy(\n",
    "        topology, system, particle_positions, minimize=minimize\n",
    "    )"
   ]
  },
  {
   "cell_type": "code",
   "execution_count": 14,
   "metadata": {
    "pycharm": {
     "name": "#%%\n"
    }
   },
   "outputs": [],
   "source": [
    "def evaluate_openff(\n",
    "    water: List[Molecule],\n",
    "    force_field: ForceField,\n",
    "    minimize: bool = False,\n",
    "):\n",
    "    \"\"\"\n",
    "    Given a list of molecules and a force field definition, calculate the\n",
    "    positions and energy.\n",
    "\n",
    "    Parameters\n",
    "    ----------\n",
    "        water: List[Molecule], each with a 3D conformation\n",
    "        force_field: ForceField, an OpenFF ForceField object\n",
    "        minimize: boolean, default= False, whether the structure should be minimized\n",
    "\n",
    "    Returns\n",
    "    -------\n",
    "        xyz: list The coordinates of all particles in the system (OpenMM ordering)\n",
    "        ene: float, The potential energy\n",
    "    \"\"\"\n",
    "    openff_topology = Topology.from_molecules(water)\n",
    "    interchange = Interchange.from_smirnoff(force_field, openff_topology)\n",
    "\n",
    "    return _evaluate_positions_and_energy(\n",
    "        interchange.to_openmm_topology(),\n",
    "        interchange.to_openmm(combine_nonbonded_forces=True),\n",
    "        to_openmm(to_openmm_positions(interchange)),\n",
    "    )"
   ]
  },
  {
   "cell_type": "code",
   "execution_count": 15,
   "metadata": {
    "pycharm": {
     "name": "#%%\n"
    }
   },
   "outputs": [],
   "source": [
    "def print_info(xyz, ene, name, crd_units=unit.angstrom) -> str:\n",
    "    print(f\"Results for: {name}\\nEnergy: {ene}\\nCoordinates:{xyz * crd_units}\\n\")"
   ]
  },
  {
   "cell_type": "code",
   "execution_count": 16,
   "metadata": {
    "pycharm": {
     "name": "#%%\n"
    }
   },
   "outputs": [],
   "source": [
    "tip5p_offxml = \"\"\"<?xml version=\"1.0\" encoding=\"utf-8\"?>\n",
    "<SMIRNOFF version=\"0.3\" aromaticity_model=\"OEAroModel_MDL\">\n",
    "    <LibraryCharges version=\"0.3\">\n",
    "            <LibraryCharge name=\"tip5p\" smirks=\"[#1:1]-[#8X2H2+0:2]-[#1:3]\" charge1=\"0.*elementary_charge\" charge2=\"0.*elementary_charge\" charge3=\"0.*elementary_charge\"/>\n",
    "    </LibraryCharges>\n",
    "    <vdW version=\"0.3\" potential=\"Lennard-Jones-12-6\" combining_rules=\"Lorentz-Berthelot\" scale12=\"0.0\" scale13=\"0.0\" scale14=\"0.5\" scale15=\"1.0\" switch_width=\"0.0 * angstrom\" cutoff=\"10.0 * angstrom\" method=\"cutoff\">\n",
    "            <Atom smirks=\"[#1:1]-[#8X2H2+0]-[#1]\" epsilon=\"0. * mole**-1 * kilojoule\" id=\"n35\" sigma=\"1.0 * nanometer\"/>\n",
    "            <Atom smirks=\"[#1]-[#8X2H2+0:1]-[#1]\" epsilon=\"0.66944 * mole**-1 * kilojoule\" id=\"n35\" sigma=\"0.312 * nanometer\"/>\n",
    "    </vdW>\n",
    "     <Bonds version=\"0.4\" potential=\"harmonic\" fractional_bondorder_method=\"AM1-Wiberg\" fractional_bondorder_interpolation=\"linear\">\n",
    "        <Bond smirks=\"[#1:1]-[#8X2H2+0:2]-[#1]\" length=\"0.9572 * angstrom\" k=\"462750.4 * nanometer**-2 * mole**-1 * kilojoule\" id=\"b1\" />\n",
    "    </Bonds>\n",
    "    <Angles version=\"0.3\" potential=\"harmonic\">\n",
    "        <Angle smirks=\"[#1:1]-[#8X2H2+0:2]-[#1:3]\" angle=\"1.82421813418 * radian\" k=\"836.8 * mole**-1 * radian**-2 * kilojoule\" id=\"a1\" />\n",
    "    </Angles>\n",
    "    <VirtualSites version=\"0.3\">\n",
    "        <VirtualSite\n",
    "            type=\"DivalentLonePair\"\n",
    "            name=\"EP\"\n",
    "            smirks=\"[#1:2]-[#8X2H2+0:1]-[#1:3]\"\n",
    "            distance=\"0.70 * angstrom\"\n",
    "            charge_increment1=\"0.0*elementary_charge\"\n",
    "            charge_increment2=\"0.1205*elementary_charge\"\n",
    "            charge_increment3=\"0.1205*elementary_charge\"\n",
    "            sigma=\"10.0*angstrom\"\n",
    "            epsilon=\"0.0*kilocalories_per_mole\"\n",
    "            outOfPlaneAngle=\"54.735*degree\"\n",
    "            match=\"all_permutations\" >\n",
    "        </VirtualSite>\n",
    "    </VirtualSites>\n",
    "    <Electrostatics version=\"0.3\" method=\"PME\" scale12=\"0.0\" scale13=\"0.0\" scale14=\"0.833333\" scale15=\"1.0\" switch_width=\"0.0 * angstrom\" cutoff=\"9.0 * angstrom\"/>\n",
    "</SMIRNOFF>\n",
    "\"\"\"\n",
    "\n",
    "\n",
    "constraints = \"\"\"\n",
    "  <Constraints version=\"0.3\">\n",
    "    <Constraint smirks=\"[#1:1]-[#8X2H2+0:2]-[#1]\" id=\"c1\" distance=\"0.9572 * angstrom\"/>\n",
    "    <Constraint smirks=\"[#1:1]-[#8X2H2+0]-[#1:2]\" id=\"c2\" distance=\"1.5139006545247014 * angstrom\"/>\n",
    "  </Constraints>\n",
    "\"\"\""
   ]
  },
  {
   "cell_type": "code",
   "execution_count": 17,
   "metadata": {
    "pycharm": {
     "name": "#%%\n"
    }
   },
   "outputs": [],
   "source": [
    "# The TIP5P force field in SMIRNOFF format\n",
    "openff_force_field = ForceField(tip5p_offxml)\n",
    "\n",
    "# The standard OpenMM definition of tip5p\n",
    "openmm_force_field = openmm.app.ForceField(\"tip5p.xml\")"
   ]
  },
  {
   "cell_type": "code",
   "execution_count": 18,
   "metadata": {
    "pycharm": {
     "name": "#%%\n"
    },
    "scrolled": true
   },
   "outputs": [
    {
     "name": "stdout",
     "output_type": "stream",
     "text": [
      "Results for: OpenFF - OpenMM norm\n",
      "Energy: 0.6343574523925781 kJ/mol\n",
      "Coordinates:[0.0 0.0 0.0 0.02741583295825021 0.02741583295825021 0.0 0.0 0.0 0.02741583295825033 0.02741583295825033] angstrom\n",
      "\n"
     ]
    }
   ],
   "source": [
    "minimize = False\n",
    "\n",
    "num_duplicates = (2, 1, 1)  # 2x2x2 = 8 water molecules\n",
    "spacing = (3.0, 3.0, 3.0)  # water spaced 3A apart in each direction\n",
    "\n",
    "np.set_printoptions(formatter={\"float_kind\": \"{:13.10f}\".format})\n",
    "\n",
    "waters = build_water_lattice(num_duplicates, spacing)\n",
    "\n",
    "off_crds, off_ene = evaluate_openff(waters, openff_force_field, minimize=minimize)\n",
    "off_crds = np.array(off_crds.value_in_unit(openmm_unit.angstrom))\n",
    "\n",
    "omm_crds, omm_ene = evaluate_openmm(waters, openmm_force_field, minimize=minimize)\n",
    "omm_crds = np.array(omm_crds.value_in_unit(openmm_unit.angstrom))\n",
    "\n",
    "print_info(\n",
    "    np.linalg.norm(off_crds - omm_crds, axis=1),\n",
    "    off_ene - omm_ene,\n",
    "    \"OpenFF - OpenMM norm\",\n",
    ")\n",
    "\n",
    "coordinate_difference = np.linalg.norm(off_crds - omm_crds) / np.prod(num_duplicates)\n",
    "energy_difference = abs(off_ene - omm_ene)\n",
    "\n",
    "\n",
    "# For some reason, there is a slight coordinate/energy difference between the OpenFF\n",
    "# TIP5P virtual sites and the OpenMM TIP5P virtual sites. The energy difference appears\n",
    "# to be entirely due to slightly different geometry.\n",
    "assert (\n",
    "    coordinate_difference < 0.04\n",
    "), f\"Coordinates differ by a norm of {coordinate_difference}\"\n",
    "assert (\n",
    "    energy_difference < 1.0 * openmm_unit.kilojoule_per_mole\n",
    "), f\"Energies differ by {energy_difference}\""
   ]
  },
  {
   "cell_type": "code",
   "execution_count": null,
   "metadata": {},
   "outputs": [],
   "source": []
  }
 ],
 "metadata": {
  "kernelspec": {
   "display_name": "Python 3 (ipykernel)",
   "language": "python",
   "name": "python3"
  },
  "language_info": {
   "codemirror_mode": {
    "name": "ipython",
    "version": 3
   },
   "file_extension": ".py",
   "mimetype": "text/x-python",
   "name": "python",
   "nbconvert_exporter": "python",
   "pygments_lexer": "ipython3",
   "version": "3.9.12"
  }
 },
 "nbformat": 4,
 "nbformat_minor": 4
}

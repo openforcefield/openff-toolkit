{
 "cells": [
  {
   "cell_type": "code",
   "execution_count": 1,
   "metadata": {
    "pycharm": {
     "name": "#%%\n"
    }
   },
   "outputs": [],
   "source": [
    "from typing import List, Tuple\n",
    "\n",
    "import numpy as np\n",
    "import openmm\n",
    "import openmm.app\n",
    "from openff.interchange import Interchange\n",
    "from openff.interchange.interop.openmm._positions import to_openmm_positions\n",
    "from openff.units import unit\n",
    "from openff.units.openmm import to_openmm\n",
    "from openmm import unit as openmm_unit\n",
    "\n",
    "from openff.toolkit import ForceField, Molecule, Topology"
   ]
  },
  {
   "cell_type": "code",
   "execution_count": 2,
   "metadata": {},
   "outputs": [],
   "source": [
    "def prepare_simulation(\n",
    "    openmm_topology: openmm.app.Topology,\n",
    "    openmm_system: openmm.System,\n",
    "    positions: unit.Quantity,\n",
    ") -> openmm.app.Simulation:\n",
    "    \"\"\"Propagate an OpenMM System with Langevin dynamics.\"\"\"\n",
    "    time_step = 2 * openmm_unit.femtoseconds\n",
    "    temperature = 300 * openmm_unit.kelvin\n",
    "    friction = 1 / openmm_unit.picosecond\n",
    "    integrator = openmm.LangevinIntegrator(temperature, friction, time_step)\n",
    "\n",
    "    trj_freq, data_freq = 100, 100\n",
    "\n",
    "    simulation = openmm.app.Simulation(openmm_topology, openmm_system, integrator)\n",
    "\n",
    "    n_virtual_sites = sum(atom.element is None for atom in openmm_topology.atoms())\n",
    "    _positions = np.concatenate(\n",
    "        (molecule.conformers[0], np.zeros((n_virtual_sites, 3))), axis=0\n",
    "    )\n",
    "    positions = to_openmm(_positions)\n",
    "    simulation.context.setPositions(positions)\n",
    "\n",
    "    # It's important to run energy minimization before computing velocities; otherwise the initial\n",
    "    # velocities may be too high as a result of high initial forces, causing a crash\n",
    "    # See https://github.com/openmm/openmm/issues/3736#issuecomment-1217250635\n",
    "    simulation.minimizeEnergy()\n",
    "\n",
    "    # Since we placed all virtual sites at [0.0, 0.0, 0.0], compute virtual site positions to avoid a crash\n",
    "    simulation.context.computeVirtualSites()\n",
    "\n",
    "    simulation.context.setVelocitiesToTemperature(temperature)\n",
    "\n",
    "    pdb_reporter = openmm.app.PDBReporter(\"trajectory.pdb\", trj_freq)\n",
    "    state_data_reporter = openmm.app.StateDataReporter(\n",
    "        \"data.csv\",\n",
    "        data_freq,\n",
    "        step=True,\n",
    "        potentialEnergy=True,\n",
    "        temperature=True,\n",
    "        density=True,\n",
    "    )\n",
    "    simulation.reporters.append(pdb_reporter)\n",
    "    simulation.reporters.append(state_data_reporter)\n",
    "\n",
    "    return simulation\n",
    "\n",
    "\n",
    "def run_simulation(simulation: openmm.app.Simulation, num_steps: int = 1000):\n",
    "    import time\n",
    "\n",
    "    print(\"Starting simulation\")\n",
    "    start = time.process_time()\n",
    "\n",
    "    simulation.step(num_steps)\n",
    "\n",
    "    end = time.process_time()\n",
    "    print(\"Elapsed time %.2f seconds\" % (end - start))\n",
    "    print(\"Done!\")"
   ]
  },
  {
   "cell_type": "markdown",
   "metadata": {
    "pycharm": {
     "name": "#%% md\n"
    }
   },
   "source": [
    "## Part 1: Run a short simulation with a virtual sites on sulfur lone pair and chloride groups"
   ]
  },
  {
   "cell_type": "code",
   "execution_count": 3,
   "metadata": {
    "pycharm": {
     "name": "#%%\n"
    }
   },
   "outputs": [],
   "source": [
    "vsite_offxml = \"\"\"<?xml version=\"1.0\" encoding=\"utf-8\"?>\n",
    "<SMIRNOFF version=\"0.3\" aromaticity_model=\"OEAroModel_MDL\">\n",
    "    <VirtualSites version=\"0.3\">\n",
    "        <VirtualSite\n",
    "            type=\"DivalentLonePair\"\n",
    "            name=\"EP\"\n",
    "            smirks=\"[*:2]-[#16X2:1]-[*:3]\"\n",
    "            distance=\"0.70 * angstrom\"\n",
    "            charge_increment1=\"0.1205*elementary_charge\"\n",
    "            charge_increment2=\"0.0*elementary_charge\"\n",
    "            charge_increment3=\"0.1205*elementary_charge\"\n",
    "            sigma=\"0.1*angstrom\"\n",
    "            epsilon=\"0.0*kilocalories_per_mole\"\n",
    "            outOfPlaneAngle=\"54.71384225*degree\"\n",
    "            match=\"all_permutations\" >\n",
    "        </VirtualSite>\n",
    "        <VirtualSite\n",
    "            type=\"BondCharge\"\n",
    "            name=\"EP\"\n",
    "            smirks=\"[*:2][Cl:1]\"\n",
    "            distance=\"0.4*angstrom\"\n",
    "            charge_increment1=\"0.2*elementary_charge\"\n",
    "            charge_increment2=\"0.0*elementary_charge\"\n",
    "            sigma=\"0.1*angstrom\"\n",
    "            epsilon=\"0.05*kilocalories_per_mole\"\n",
    "            match=\"all_permutations\" >\n",
    "        </VirtualSite>\n",
    "        <VirtualSite\n",
    "            type=\"BondCharge\"\n",
    "            name=\"EP\"\n",
    "            smirks=\"[*:2][F:1]\"\n",
    "            distance=\"0.4*angstrom\"\n",
    "            charge_increment1=\"0.2*elementary_charge\"\n",
    "            charge_increment2=\"0.0*elementary_charge\"\n",
    "            sigma=\"0.1*angstrom\"\n",
    "            epsilon=\"0.05*kilocalories_per_mole\"\n",
    "            match=\"all_permutations\" >\n",
    "        </VirtualSite>\n",
    "    </VirtualSites>\n",
    "</SMIRNOFF>\n",
    "\"\"\"\n",
    "force_field = ForceField(\"openff-2.0.0.offxml\", vsite_offxml)"
   ]
  },
  {
   "cell_type": "code",
   "execution_count": 4,
   "metadata": {
    "pycharm": {
     "name": "#%%\n"
    }
   },
   "outputs": [
    {
     "data": {
      "image/svg+xml": [
       "<svg xmlns=\"http://www.w3.org/2000/svg\" xmlns:rdkit=\"http://www.rdkit.org/xml\" xmlns:xlink=\"http://www.w3.org/1999/xlink\" version=\"1.1\" baseProfile=\"full\" xml:space=\"preserve\" width=\"500px\" height=\"300px\" viewBox=\"0 0 500 300\">\n",
       "<!-- END OF HEADER -->\n",
       "<rect style=\"opacity:1.0;fill:#FFFFFF;stroke:none\" width=\"500.0\" height=\"300.0\" x=\"0.0\" y=\"0.0\"> </rect>\n",
       "<path class=\"bond-0 atom-0 atom-6\" d=\"M 237.5,114.6 L 264.7,99.0\" style=\"fill:none;fill-rule:evenodd;stroke:#000000;stroke-width:2.0px;stroke-linecap:butt;stroke-linejoin:miter;stroke-opacity:1\"/>\n",
       "<path class=\"bond-0 atom-0 atom-6\" d=\"M 238.8,107.4 L 257.8,96.4\" style=\"fill:none;fill-rule:evenodd;stroke:#000000;stroke-width:2.0px;stroke-linecap:butt;stroke-linejoin:miter;stroke-opacity:1\"/>\n",
       "<path class=\"bond-1 atom-0 atom-1\" d=\"M 237.5,114.6 L 210.2,99.0\" style=\"fill:none;fill-rule:evenodd;stroke:#000000;stroke-width:2.0px;stroke-linecap:butt;stroke-linejoin:miter;stroke-opacity:1\"/>\n",
       "<path class=\"bond-2 atom-1 atom-2\" d=\"M 210.2,99.0 L 210.3,67.4\" style=\"fill:none;fill-rule:evenodd;stroke:#000000;stroke-width:2.0px;stroke-linecap:butt;stroke-linejoin:miter;stroke-opacity:1\"/>\n",
       "<path class=\"bond-2 atom-1 atom-2\" d=\"M 215.9,94.2 L 215.9,72.2\" style=\"fill:none;fill-rule:evenodd;stroke:#000000;stroke-width:2.0px;stroke-linecap:butt;stroke-linejoin:miter;stroke-opacity:1\"/>\n",
       "<path class=\"bond-3 atom-2 atom-3\" d=\"M 210.3,67.4 L 197.6,60.1\" style=\"fill:none;fill-rule:evenodd;stroke:#000000;stroke-width:2.0px;stroke-linecap:butt;stroke-linejoin:miter;stroke-opacity:1\"/>\n",
       "<path class=\"bond-3 atom-2 atom-3\" d=\"M 197.6,60.1 L 184.9,52.8\" style=\"fill:none;fill-rule:evenodd;stroke:#00CC00;stroke-width:2.0px;stroke-linecap:butt;stroke-linejoin:miter;stroke-opacity:1\"/>\n",
       "<path class=\"bond-4 atom-2 atom-4\" d=\"M 210.3,67.4 L 237.5,51.8\" style=\"fill:none;fill-rule:evenodd;stroke:#000000;stroke-width:2.0px;stroke-linecap:butt;stroke-linejoin:miter;stroke-opacity:1\"/>\n",
       "<path class=\"bond-5 atom-4 atom-5\" d=\"M 237.5,51.8 L 264.8,67.5\" style=\"fill:none;fill-rule:evenodd;stroke:#000000;stroke-width:2.0px;stroke-linecap:butt;stroke-linejoin:miter;stroke-opacity:1\"/>\n",
       "<path class=\"bond-5 atom-4 atom-5\" d=\"M 238.8,59.1 L 257.8,70.0\" style=\"fill:none;fill-rule:evenodd;stroke:#000000;stroke-width:2.0px;stroke-linecap:butt;stroke-linejoin:miter;stroke-opacity:1\"/>\n",
       "<path class=\"bond-6 atom-5 atom-6\" d=\"M 264.8,67.5 L 264.7,99.0\" style=\"fill:none;fill-rule:evenodd;stroke:#000000;stroke-width:2.0px;stroke-linecap:butt;stroke-linejoin:miter;stroke-opacity:1\"/>\n",
       "<path class=\"bond-7 atom-6 atom-7\" d=\"M 264.7,99.0 L 291.9,114.3\" style=\"fill:none;fill-rule:evenodd;stroke:#000000;stroke-width:2.0px;stroke-linecap:butt;stroke-linejoin:miter;stroke-opacity:1\"/>\n",
       "<path class=\"bond-8 atom-7 atom-8\" d=\"M 290.5,111.8 L 300.4,106.0\" style=\"fill:none;fill-rule:evenodd;stroke:#000000;stroke-width:2.0px;stroke-linecap:butt;stroke-linejoin:miter;stroke-opacity:1\"/>\n",
       "<path class=\"bond-8 atom-7 atom-8\" d=\"M 300.4,106.0 L 310.4,100.1\" style=\"fill:none;fill-rule:evenodd;stroke:#FF0000;stroke-width:2.0px;stroke-linecap:butt;stroke-linejoin:miter;stroke-opacity:1\"/>\n",
       "<path class=\"bond-8 atom-7 atom-8\" d=\"M 293.3,116.7 L 303.3,110.8\" style=\"fill:none;fill-rule:evenodd;stroke:#000000;stroke-width:2.0px;stroke-linecap:butt;stroke-linejoin:miter;stroke-opacity:1\"/>\n",
       "<path class=\"bond-8 atom-7 atom-8\" d=\"M 303.3,110.8 L 313.3,105.0\" style=\"fill:none;fill-rule:evenodd;stroke:#FF0000;stroke-width:2.0px;stroke-linecap:butt;stroke-linejoin:miter;stroke-opacity:1\"/>\n",
       "<path class=\"bond-9 atom-7 atom-9\" d=\"M 291.9,114.3 L 292.2,145.0\" style=\"fill:none;fill-rule:evenodd;stroke:#000000;stroke-width:2.0px;stroke-linecap:butt;stroke-linejoin:miter;stroke-opacity:1\"/>\n",
       "<path class=\"bond-10 atom-9 atom-10\" d=\"M 292.2,145.0 L 281.0,151.6\" style=\"fill:none;fill-rule:evenodd;stroke:#000000;stroke-width:2.0px;stroke-linecap:butt;stroke-linejoin:miter;stroke-opacity:1\"/>\n",
       "<path class=\"bond-10 atom-9 atom-10\" d=\"M 281.0,151.6 L 269.9,158.3\" style=\"fill:none;fill-rule:evenodd;stroke:#CCCC00;stroke-width:2.0px;stroke-linecap:butt;stroke-linejoin:miter;stroke-opacity:1\"/>\n",
       "<path class=\"bond-11 atom-10 atom-11\" d=\"M 264.5,169.5 L 264.5,181.3\" style=\"fill:none;fill-rule:evenodd;stroke:#CCCC00;stroke-width:2.0px;stroke-linecap:butt;stroke-linejoin:miter;stroke-opacity:1\"/>\n",
       "<path class=\"bond-11 atom-10 atom-11\" d=\"M 264.5,181.3 L 264.4,193.2\" style=\"fill:none;fill-rule:evenodd;stroke:#000000;stroke-width:2.0px;stroke-linecap:butt;stroke-linejoin:miter;stroke-opacity:1\"/>\n",
       "<path class=\"bond-12 atom-11 atom-18\" d=\"M 264.4,193.2 L 237.2,209.1\" style=\"fill:none;fill-rule:evenodd;stroke:#000000;stroke-width:2.0px;stroke-linecap:butt;stroke-linejoin:miter;stroke-opacity:1\"/>\n",
       "<path class=\"bond-13 atom-11 atom-12\" d=\"M 264.4,193.2 L 291.7,208.9\" style=\"fill:none;fill-rule:evenodd;stroke:#000000;stroke-width:2.0px;stroke-linecap:butt;stroke-linejoin:miter;stroke-opacity:1\"/>\n",
       "<path class=\"bond-13 atom-11 atom-12\" d=\"M 265.7,200.5 L 284.8,211.5\" style=\"fill:none;fill-rule:evenodd;stroke:#000000;stroke-width:2.0px;stroke-linecap:butt;stroke-linejoin:miter;stroke-opacity:1\"/>\n",
       "<path class=\"bond-14 atom-12 atom-13\" d=\"M 291.7,208.9 L 291.8,220.8\" style=\"fill:none;fill-rule:evenodd;stroke:#000000;stroke-width:2.0px;stroke-linecap:butt;stroke-linejoin:miter;stroke-opacity:1\"/>\n",
       "<path class=\"bond-14 atom-12 atom-13\" d=\"M 291.8,220.8 L 291.9,232.7\" style=\"fill:none;fill-rule:evenodd;stroke:#FF0000;stroke-width:2.0px;stroke-linecap:butt;stroke-linejoin:miter;stroke-opacity:1\"/>\n",
       "<path class=\"bond-15 atom-13 atom-14\" d=\"M 284.8,244.6 L 274.8,250.5\" style=\"fill:none;fill-rule:evenodd;stroke:#FF0000;stroke-width:2.0px;stroke-linecap:butt;stroke-linejoin:miter;stroke-opacity:1\"/>\n",
       "<path class=\"bond-15 atom-13 atom-14\" d=\"M 274.8,250.5 L 264.8,256.3\" style=\"fill:none;fill-rule:evenodd;stroke:#000000;stroke-width:2.0px;stroke-linecap:butt;stroke-linejoin:miter;stroke-opacity:1\"/>\n",
       "<path class=\"bond-16 atom-14 atom-15\" d=\"M 264.8,256.3 L 260.1,262.9\" style=\"fill:none;fill-rule:evenodd;stroke:#000000;stroke-width:2.0px;stroke-linecap:butt;stroke-linejoin:miter;stroke-opacity:1\"/>\n",
       "<path class=\"bond-16 atom-14 atom-15\" d=\"M 260.1,262.9 L 255.4,269.6\" style=\"fill:none;fill-rule:evenodd;stroke:#33CCCC;stroke-width:2.0px;stroke-linecap:butt;stroke-linejoin:miter;stroke-opacity:1\"/>\n",
       "<path class=\"bond-17 atom-14 atom-16\" d=\"M 264.8,256.3 L 272.8,265.2\" style=\"fill:none;fill-rule:evenodd;stroke:#000000;stroke-width:2.0px;stroke-linecap:butt;stroke-linejoin:miter;stroke-opacity:1\"/>\n",
       "<path class=\"bond-17 atom-14 atom-16\" d=\"M 272.8,265.2 L 280.8,274.1\" style=\"fill:none;fill-rule:evenodd;stroke:#33CCCC;stroke-width:2.0px;stroke-linecap:butt;stroke-linejoin:miter;stroke-opacity:1\"/>\n",
       "<path class=\"bond-18 atom-14 atom-17\" d=\"M 264.8,256.3 L 237.3,240.7\" style=\"fill:none;fill-rule:evenodd;stroke:#000000;stroke-width:2.0px;stroke-linecap:butt;stroke-linejoin:miter;stroke-opacity:1\"/>\n",
       "<path class=\"bond-19 atom-17 atom-18\" d=\"M 237.3,240.7 L 237.2,209.1\" style=\"fill:none;fill-rule:evenodd;stroke:#000000;stroke-width:2.0px;stroke-linecap:butt;stroke-linejoin:miter;stroke-opacity:1\"/>\n",
       "<path class=\"bond-20 atom-0 atom-19\" d=\"M 237.5,114.6 L 237.5,138.4\" style=\"fill:none;fill-rule:evenodd;stroke:#000000;stroke-width:2.0px;stroke-linecap:butt;stroke-linejoin:miter;stroke-opacity:1\"/>\n",
       "<path class=\"bond-21 atom-1 atom-20\" d=\"M 210.2,99.0 L 189.3,111.0\" style=\"fill:none;fill-rule:evenodd;stroke:#000000;stroke-width:2.0px;stroke-linecap:butt;stroke-linejoin:miter;stroke-opacity:1\"/>\n",
       "<path class=\"bond-22 atom-4 atom-21\" d=\"M 237.5,51.8 L 237.5,28.0\" style=\"fill:none;fill-rule:evenodd;stroke:#000000;stroke-width:2.0px;stroke-linecap:butt;stroke-linejoin:miter;stroke-opacity:1\"/>\n",
       "<path class=\"bond-23 atom-5 atom-22\" d=\"M 264.8,67.5 L 285.7,55.4\" style=\"fill:none;fill-rule:evenodd;stroke:#000000;stroke-width:2.0px;stroke-linecap:butt;stroke-linejoin:miter;stroke-opacity:1\"/>\n",
       "<path class=\"bond-24 atom-9 atom-23\" d=\"M 292.2,145.0 L 303.4,163.4\" style=\"fill:none;fill-rule:evenodd;stroke:#000000;stroke-width:2.0px;stroke-linecap:butt;stroke-linejoin:miter;stroke-opacity:1\"/>\n",
       "<path class=\"bond-25 atom-9 atom-24\" d=\"M 292.2,145.0 L 317.4,144.7\" style=\"fill:none;fill-rule:evenodd;stroke:#000000;stroke-width:2.0px;stroke-linecap:butt;stroke-linejoin:miter;stroke-opacity:1\"/>\n",
       "<path class=\"bond-26 atom-12 atom-25\" d=\"M 291.7,208.9 L 312.1,197.5\" style=\"fill:none;fill-rule:evenodd;stroke:#000000;stroke-width:2.0px;stroke-linecap:butt;stroke-linejoin:miter;stroke-opacity:1\"/>\n",
       "<path class=\"bond-27 atom-17 atom-26\" d=\"M 237.3,240.7 L 212.7,238.0\" style=\"fill:none;fill-rule:evenodd;stroke:#000000;stroke-width:2.0px;stroke-linecap:butt;stroke-linejoin:miter;stroke-opacity:1\"/>\n",
       "<path class=\"bond-28 atom-17 atom-27\" d=\"M 237.3,240.7 L 229.0,262.3\" style=\"fill:none;fill-rule:evenodd;stroke:#000000;stroke-width:2.0px;stroke-linecap:butt;stroke-linejoin:miter;stroke-opacity:1\"/>\n",
       "<path class=\"bond-29 atom-18 atom-28\" d=\"M 237.2,209.1 L 230.0,186.9\" style=\"fill:none;fill-rule:evenodd;stroke:#000000;stroke-width:2.0px;stroke-linecap:butt;stroke-linejoin:miter;stroke-opacity:1\"/>\n",
       "<path class=\"bond-30 atom-18 atom-29\" d=\"M 237.2,209.1 L 212.5,211.5\" style=\"fill:none;fill-rule:evenodd;stroke:#000000;stroke-width:2.0px;stroke-linecap:butt;stroke-linejoin:miter;stroke-opacity:1\"/>\n",
       "<path class=\"atom-3\" d=\"M 171.1 52.2 Q 171.1 48.9, 172.7 47.1 Q 174.2 45.4, 177.2 45.4 Q 180.0 45.4, 181.4 47.3 L 180.2 48.3 Q 179.1 46.9, 177.2 46.9 Q 175.2 46.9, 174.1 48.3 Q 173.1 49.6, 173.1 52.2 Q 173.1 54.8, 174.1 56.2 Q 175.3 57.5, 177.4 57.5 Q 178.9 57.5, 180.6 56.6 L 181.1 58.1 Q 180.4 58.5, 179.4 58.8 Q 178.3 59.0, 177.1 59.0 Q 174.2 59.0, 172.7 57.3 Q 171.1 55.5, 171.1 52.2 \" fill=\"#00CC00\"/>\n",
       "<path class=\"atom-3\" d=\"M 182.2 44.6 L 183.9 44.6 L 183.9 58.9 L 182.2 58.9 L 182.2 44.6 \" fill=\"#00CC00\"/>\n",
       "<path class=\"atom-8\" d=\"M 312.9 98.4 Q 312.9 95.2, 314.5 93.4 Q 316.1 91.6, 319.0 91.6 Q 322.0 91.6, 323.6 93.4 Q 325.2 95.2, 325.2 98.4 Q 325.2 101.6, 323.6 103.5 Q 321.9 105.3, 319.0 105.3 Q 316.1 105.3, 314.5 103.5 Q 312.9 101.6, 312.9 98.4 M 319.0 103.8 Q 321.1 103.8, 322.2 102.4 Q 323.3 101.1, 323.3 98.4 Q 323.3 95.8, 322.2 94.4 Q 321.1 93.1, 319.0 93.1 Q 317.0 93.1, 315.9 94.4 Q 314.8 95.7, 314.8 98.4 Q 314.8 101.1, 315.9 102.4 Q 317.0 103.8, 319.0 103.8 \" fill=\"#FF0000\"/>\n",
       "<path class=\"atom-10\" d=\"M 260.8 166.0 Q 260.9 166.0, 261.6 166.3 Q 262.2 166.6, 262.9 166.7 Q 263.6 166.9, 264.2 166.9 Q 265.5 166.9, 266.2 166.3 Q 267.0 165.7, 267.0 164.6 Q 267.0 163.9, 266.6 163.4 Q 266.2 163.0, 265.7 162.7 Q 265.1 162.5, 264.2 162.2 Q 263.0 161.8, 262.3 161.5 Q 261.6 161.1, 261.0 160.4 Q 260.6 159.7, 260.6 158.5 Q 260.6 156.8, 261.7 155.8 Q 262.8 154.7, 265.1 154.7 Q 266.7 154.7, 268.4 155.5 L 268.0 156.9 Q 266.4 156.3, 265.2 156.3 Q 263.9 156.3, 263.1 156.8 Q 262.4 157.3, 262.4 158.3 Q 262.4 159.0, 262.8 159.4 Q 263.2 159.9, 263.7 160.1 Q 264.3 160.3, 265.2 160.6 Q 266.4 161.0, 267.1 161.4 Q 267.8 161.8, 268.3 162.5 Q 268.8 163.3, 268.8 164.6 Q 268.8 166.4, 267.6 167.4 Q 266.4 168.4, 264.3 168.4 Q 263.1 168.4, 262.2 168.2 Q 261.3 167.9, 260.3 167.5 L 260.8 166.0 \" fill=\"#CCCC00\"/>\n",
       "<path class=\"atom-13\" d=\"M 285.8 240.5 Q 285.8 237.3, 287.4 235.5 Q 289.0 233.7, 291.9 233.7 Q 294.9 233.7, 296.5 235.5 Q 298.1 237.3, 298.1 240.5 Q 298.1 243.8, 296.5 245.6 Q 294.9 247.4, 291.9 247.4 Q 289.0 247.4, 287.4 245.6 Q 285.8 243.8, 285.8 240.5 M 291.9 245.9 Q 294.0 245.9, 295.1 244.6 Q 296.2 243.2, 296.2 240.5 Q 296.2 237.9, 295.1 236.6 Q 294.0 235.2, 291.9 235.2 Q 289.9 235.2, 288.8 236.5 Q 287.7 237.9, 287.7 240.5 Q 287.7 243.2, 288.8 244.6 Q 289.9 245.9, 291.9 245.9 \" fill=\"#FF0000\"/>\n",
       "<path class=\"atom-15\" d=\"M 246.5 270.0 L 254.4 270.0 L 254.4 271.5 L 248.3 271.5 L 248.3 275.6 L 253.7 275.6 L 253.7 277.1 L 248.3 277.1 L 248.3 283.4 L 246.5 283.4 L 246.5 270.0 \" fill=\"#33CCCC\"/>\n",
       "<path class=\"atom-16\" d=\"M 281.8 273.0 L 289.8 273.0 L 289.8 274.5 L 283.6 274.5 L 283.6 278.6 L 289.1 278.6 L 289.1 280.1 L 283.6 280.1 L 283.6 286.4 L 281.8 286.4 L 281.8 273.0 \" fill=\"#33CCCC\"/>\n",
       "<path class=\"atom-19\" d=\"M 232.2 139.4 L 234.0 139.4 L 234.0 145.1 L 240.9 145.1 L 240.9 139.4 L 242.7 139.4 L 242.7 152.8 L 240.9 152.8 L 240.9 146.6 L 234.0 146.6 L 234.0 152.8 L 232.2 152.8 L 232.2 139.4 \" fill=\"#000000\"/>\n",
       "<path class=\"atom-20\" d=\"M 177.8 108.0 L 179.6 108.0 L 179.6 113.6 L 186.4 113.6 L 186.4 108.0 L 188.2 108.0 L 188.2 121.3 L 186.4 121.3 L 186.4 115.1 L 179.6 115.1 L 179.6 121.3 L 177.8 121.3 L 177.8 108.0 \" fill=\"#000000\"/>\n",
       "<path class=\"atom-21\" d=\"M 232.3 13.6 L 234.1 13.6 L 234.1 19.3 L 241.0 19.3 L 241.0 13.6 L 242.8 13.6 L 242.8 27.0 L 241.0 27.0 L 241.0 20.8 L 234.1 20.8 L 234.1 27.0 L 232.3 27.0 L 232.3 13.6 \" fill=\"#000000\"/>\n",
       "<path class=\"atom-22\" d=\"M 286.8 45.1 L 288.6 45.1 L 288.6 50.8 L 295.4 50.8 L 295.4 45.1 L 297.2 45.1 L 297.2 58.5 L 295.4 58.5 L 295.4 52.3 L 288.6 52.3 L 288.6 58.5 L 286.8 58.5 L 286.8 45.1 \" fill=\"#000000\"/>\n",
       "<path class=\"atom-23\" d=\"M 302.9 164.4 L 304.7 164.4 L 304.7 170.1 L 311.5 170.1 L 311.5 164.4 L 313.3 164.4 L 313.3 177.8 L 311.5 177.8 L 311.5 171.6 L 304.7 171.6 L 304.7 177.8 L 302.9 177.8 L 302.9 164.4 \" fill=\"#000000\"/>\n",
       "<path class=\"atom-24\" d=\"M 318.4 137.9 L 320.2 137.9 L 320.2 143.6 L 327.1 143.6 L 327.1 137.9 L 328.9 137.9 L 328.9 151.3 L 327.1 151.3 L 327.1 145.1 L 320.2 145.1 L 320.2 151.3 L 318.4 151.3 L 318.4 137.9 \" fill=\"#000000\"/>\n",
       "<path class=\"atom-25\" d=\"M 313.1 187.4 L 314.9 187.4 L 314.9 193.0 L 321.7 193.0 L 321.7 187.4 L 323.5 187.4 L 323.5 200.7 L 321.7 200.7 L 321.7 194.5 L 314.9 194.5 L 314.9 200.7 L 313.1 200.7 L 313.1 187.4 \" fill=\"#000000\"/>\n",
       "<path class=\"atom-26\" d=\"M 201.2 230.6 L 203.0 230.6 L 203.0 236.3 L 209.8 236.3 L 209.8 230.6 L 211.6 230.6 L 211.6 244.0 L 209.8 244.0 L 209.8 237.8 L 203.0 237.8 L 203.0 244.0 L 201.2 244.0 L 201.2 230.6 \" fill=\"#000000\"/>\n",
       "<path class=\"atom-27\" d=\"M 220.8 263.4 L 222.7 263.4 L 222.7 269.0 L 229.5 269.0 L 229.5 263.4 L 231.3 263.4 L 231.3 276.7 L 229.5 276.7 L 229.5 270.5 L 222.7 270.5 L 222.7 276.7 L 220.8 276.7 L 220.8 263.4 \" fill=\"#000000\"/>\n",
       "<path class=\"atom-28\" d=\"M 222.3 172.5 L 224.1 172.5 L 224.1 178.2 L 231.0 178.2 L 231.0 172.5 L 232.8 172.5 L 232.8 185.8 L 231.0 185.8 L 231.0 179.7 L 224.1 179.7 L 224.1 185.8 L 222.3 185.8 L 222.3 172.5 \" fill=\"#000000\"/>\n",
       "<path class=\"atom-29\" d=\"M 201.0 205.4 L 202.8 205.4 L 202.8 211.1 L 209.7 211.1 L 209.7 205.4 L 211.5 205.4 L 211.5 218.8 L 209.7 218.8 L 209.7 212.6 L 202.8 212.6 L 202.8 218.8 L 201.0 218.8 L 201.0 205.4 \" fill=\"#000000\"/>\n",
       "</svg>"
      ],
      "text/plain": [
       "<IPython.core.display.SVG object>"
      ]
     },
     "execution_count": 4,
     "metadata": {},
     "output_type": "execute_result"
    }
   ],
   "source": [
    "molecule = Molecule.from_smiles(\"c1cc(Cl)ccc1C(=O)CS[C]1=CO[C](F)(F)CC1\")\n",
    "molecule.generate_conformers(n_conformers=1)\n",
    "molecule.visualize()"
   ]
  },
  {
   "cell_type": "code",
   "execution_count": 5,
   "metadata": {
    "pycharm": {
     "name": "#%%\n"
    }
   },
   "outputs": [
    {
     "name": "stderr",
     "output_type": "stream",
     "text": [
      "/Users/mattthompson/miniconda3/envs/openff-interchange-env/lib/python3.9/site-packages/openff/toolkit/topology/topology.py:51: TopologyDeprecationWarning: Topology.topology_atoms is deprecated. Use Topology.atoms instead.\n",
      "  warnings.warn(\n"
     ]
    }
   ],
   "source": [
    "# Create an Interchange object, which stores information needed for OpenMM (and other engines)\n",
    "# to understand virtual sites as applied by a force field\n",
    "\n",
    "interchange = Interchange.from_smirnoff(\n",
    "    force_field=force_field, topology=molecule.to_topology()\n",
    ")\n",
    "\n",
    "assert \"VirtualSites\" in interchange.handlers.keys()"
   ]
  },
  {
   "cell_type": "markdown",
   "metadata": {},
   "source": [
    "At this point, each of our OpenFF objects have processed and stored all of the information needed to run a simulation in OpenMM. Next we need to do some conversions prepare the OpenMM objects. First we'll make an _OpenMM_ `Topology` and a corresponding _OpenMM_ `System`, each containing virtual sites."
   ]
  },
  {
   "cell_type": "code",
   "execution_count": 6,
   "metadata": {},
   "outputs": [],
   "source": [
    "# Note that interchange.topology.to_openmm() uses a different code path that DOES NOT include virtual sites\n",
    "openmm_topology: openmm.app.Topology = interchange.to_openmm_topology()\n",
    "\n",
    "openmm_system: openmm.System = interchange.to_openmm(combine_nonbonded_forces=True)"
   ]
  },
  {
   "cell_type": "code",
   "execution_count": 7,
   "metadata": {},
   "outputs": [
    {
     "name": "stdout",
     "output_type": "stream",
     "text": [
      "There are 5 virtual particles in this topology.\n"
     ]
    }
   ],
   "source": [
    "# Retrieve the number of virtualsites in this system/topology by counting\n",
    "# the number of \"Atoms\" in the OpenMM `Toppology` with a `None` element\n",
    "# (this method returns virtual sites as welll, despite the name) ...\n",
    "n_virtual_sites = sum(atom.element is None for atom in openmm_topology.atoms())\n",
    "\n",
    "# or the number of particles in the OpenMM `System` with zero mass\n",
    "assert n_virtual_sites == sum(\n",
    "    openmm_system.getParticleMass(index)._value == 0\n",
    "    for index in range(openmm_system.getNumParticles())\n",
    ")\n",
    "\n",
    "# This can also be done by inspecting the virtual site handler in the Interchange object\n",
    "assert n_virtual_sites == len(interchange[\"VirtualSites\"].slot_map)\n",
    "\n",
    "print(f\"There are {n_virtual_sites} virtual particles in this topology.\")"
   ]
  },
  {
   "cell_type": "code",
   "execution_count": 8,
   "metadata": {
    "pycharm": {
     "name": "#%%\n"
    },
    "scrolled": true
   },
   "outputs": [
    {
     "name": "stdout",
     "output_type": "stream",
     "text": [
      "Starting simulation\n",
      "Elapsed time 2.31 seconds\n",
      "Done!\n"
     ]
    }
   ],
   "source": [
    "simulation = prepare_simulation(\n",
    "    openmm_topology=openmm_topology,\n",
    "    openmm_system=openmm_system,\n",
    "    positions=to_openmm_positions(interchange),\n",
    ")\n",
    "\n",
    "run_simulation(simulation, 10000)"
   ]
  },
  {
   "cell_type": "code",
   "execution_count": 9,
   "metadata": {
    "scrolled": true
   },
   "outputs": [
    {
     "data": {
      "application/vnd.jupyter.widget-view+json": {
       "model_id": "b3e3ccf6277346a0abf6cbbda4f6c906",
       "version_major": 2,
       "version_minor": 0
      },
      "text/plain": []
     },
     "metadata": {},
     "output_type": "display_data"
    },
    {
     "data": {
      "application/vnd.jupyter.widget-view+json": {
       "model_id": "f1edc1dd731c4f9e9789d7657258b028",
       "version_major": 2,
       "version_minor": 0
      },
      "text/plain": [
       "NGLWidget(max_frame=99)"
      ]
     },
     "metadata": {},
     "output_type": "display_data"
    }
   ],
   "source": [
    "import mdtraj\n",
    "\n",
    "# Visualize the trajectory. There will probably be errant bonds drawn between atoms and virtual sites.\n",
    "import nglview\n",
    "\n",
    "nglview.show_mdtraj(mdtraj.load(\"trajectory.pdb\"))"
   ]
  },
  {
   "cell_type": "markdown",
   "metadata": {
    "pycharm": {
     "name": "#%% md\n"
    }
   },
   "source": [
    "## Part 2: Numerical comparison of OpenMM's TIP5P and an equivalent SMIRNOFF implementation"
   ]
  },
  {
   "cell_type": "markdown",
   "metadata": {
    "pycharm": {
     "name": "#%% md\n"
    }
   },
   "source": [
    "Parameterizes a water box with OpenFF and OpenMM force fields. Currently set up\n",
    "to use a TIP5P definition. The code examines the geometry and energy between the\n",
    "two, and examines cases where minimization is performed. Specifically, the code\n",
    "compares the four possible combinations:\n",
    "    - oFF and oMM geometry/energy, minimized separately and then compared\n",
    "    - oFF and oMM geometry/energy using no minimization\n",
    "    - Geometry minimized using oFF, then a single point is done with oMM\n",
    "    - Geometry minimized using oMM, then a single point is done with oFF\n",
    "\n",
    "The virtual site definitions give differences in geometry and energy mostly due\n",
    "to how they were defined from their parent atoms. OpenMM uses an OutOfPlaneSite\n",
    "definition, whereas OpenFF uses the LocalCoordinatesSite definition (both are\n",
    "OpenMM types). In the OutOfPlaneSite definition, both angle and distance are\n",
    "variable since the defined out-of-plane angle depends on a weighted vector cross.\n",
    "The cross is a function of the O-H vectors, so the virtual sites are sensitive\n",
    "to the molecular geometry. In the OpenFF version, the distance is fixed to a constant\n",
    "value, and the out-of-plane angle is explicitly required in the OpenFF spec.\n",
    "\n",
    "In this example, the OpenFF parameter definition (the \"offxml\") is a string\n",
    "further below in the `main` function, and can be easily modified to explore\n",
    "force field parameterization. The OpenMM definition is loaded from its internal\n",
    "default location, and acts as a reference. One can change this this to a different\n",
    "filename to compare other force fields.\n",
    "\n",
    "This example is somewhat hardcoded to operate on water molecules, but can be easily\n",
    "modified to examine other cases as well. The only major assumption is that the\n",
    "system is homogenous, i.e., all of the molecules are same. The reason this is\n",
    "assumed is mostly due to the difference in how virtual sites are handled between\n",
    "OpenFF and OpenMM. Whereas OpenMM interleaves the virtual site particles between\n",
    "the atomic particles, OpenFF instead aggregates all virtual sites and places them\n",
    "last. The code below does assume that, barring this difference, the virtual sites\n",
    "are added in the same order.\n",
    "\n",
    "The example begins in `run_tests` by defining a grid of water molecules, with\n",
    "the default being a single water molecule (Nx=1, Ny=1, Nz=1). From this, the\n",
    "calculations described in the first paragraph above are performed. The energy\n",
    "difference and distance between the two geometries, per atom, is then reported.\n",
    "There are commented lines that print the entire set of coordinates, and can be\n",
    "uncommented if desired."
   ]
  },
  {
   "cell_type": "code",
   "execution_count": 19,
   "metadata": {},
   "outputs": [],
   "source": [
    "def _collate_virtual_site_positions(atom_positions: np.ndarray) -> np.ndarray:\n",
    "    \"\"\"Given an array of atomic positions of water, collate virtual particles between molecules.\"\"\"\n",
    "    padded_positions = np.zeros(shape=(2, 3))\n",
    "    num_atoms_per_mol = 3\n",
    "\n",
    "    def mol_positions(i, atom_positions):\n",
    "        this_mol_atom_coordinates = atom_positions[\n",
    "            i * num_atoms_per_mol : (i + 1) * num_atoms_per_mol\n",
    "        ]\n",
    "        return np.vstack([this_mol_atom_coordinates, padded_positions])\n",
    "\n",
    "    return np.vstack([mol_positions(i, atom_positions) for i in range(2)])"
   ]
  },
  {
   "cell_type": "code",
   "execution_count": 11,
   "metadata": {
    "pycharm": {
     "name": "#%%\n"
    },
    "scrolled": true
   },
   "outputs": [],
   "source": [
    "def _evaluate_positions_and_energy(\n",
    "    openmm_topology: openmm.app.Topology,\n",
    "    openmm_system: openmm.app.Simulation,\n",
    "    particle_positions: openmm_unit.Quantity,\n",
    "    minimize=False,\n",
    ") -> Tuple[np.ndarray, unit.Quantity]:\n",
    "    \"\"\"\n",
    "    Calculate particle positions and potential energy of the a system.\n",
    "\n",
    "    Parameters\n",
    "    ----------\n",
    "    openmm_topology: openmm.app.Topology, OpenMM Topology\n",
    "    openmm_system: openmm.app.System, OpenMM System\n",
    "    particle_positions: openff.units.unit.Quantity, (N, 3) array of positions in nanometers\n",
    "    minimize: bool, Whether or not to perform an energy minimization before calculating energy\n",
    "\n",
    "    Returns\n",
    "    -------\n",
    "    positions: numpy.ndarray, array of particle positions (as nanometers)\n",
    "    energy: openmm.unit.Quantity, The potential energy of the systems\n",
    "\n",
    "    \"\"\"\n",
    "\n",
    "    integrator = openmm.LangevinIntegrator(\n",
    "        300 * openmm_unit.kelvin,\n",
    "        1 / openmm_unit.picosecond,\n",
    "        0.002 * openmm_unit.picoseconds,\n",
    "    )\n",
    "\n",
    "    sim = openmm.app.Simulation(openmm_topology, openmm_system, integrator)\n",
    "\n",
    "    sim.context.setPositions(particle_positions)\n",
    "\n",
    "    sim.context.computeVirtualSites()\n",
    "\n",
    "    if minimize:\n",
    "        sim.minimizeEnergy()\n",
    "\n",
    "    state = sim.context.getState(getEnergy=True, getPositions=True)\n",
    "    ene = state.getPotentialEnergy()\n",
    "    pos = openmm_unit.Quantity(\n",
    "        [\n",
    "            list(xyz)\n",
    "            for xyz in state.getPositions().value_in_unit(openmm_unit.nanometer)\n",
    "        ],\n",
    "        openmm_unit.nanometer,\n",
    "    )\n",
    "\n",
    "    return pos, ene"
   ]
  },
  {
   "cell_type": "code",
   "execution_count": 12,
   "metadata": {
    "pycharm": {
     "name": "#%%\n"
    }
   },
   "outputs": [],
   "source": [
    "def build_water_lattice(\n",
    "    num_duplicates: List[int] = [1, 1, 1],\n",
    "    spacing: List[float] = [2.0, 2.0, 2.0],\n",
    ") -> List[Molecule]:\n",
    "    \"\"\"\n",
    "    Generate a box of water molecules as OpenFF Molecules\n",
    "\n",
    "    Parameters\n",
    "    ----------\n",
    "        num_duplicates: List[int], The number of molecules in each dimension\n",
    "        spacing: List[float], The spacing between the molecules in each dimension, implicitly in Angstrom\n",
    "\n",
    "    Returns\n",
    "    -------\n",
    "        water_box: List[Molecule], A list of Molecule objcets with a 3D conformation\n",
    "    \"\"\"\n",
    "    Lx, Ly, Lz = (num_duplicates[i] * spacing[i] for i in range(3))\n",
    "    Z, Y, X = np.mgrid[\n",
    "        0 : Lz : spacing[0],\n",
    "        0 : Ly : spacing[1],\n",
    "        0 : Lx : spacing[2],\n",
    "    ]\n",
    "    XYZ = [list(xyz) for xyz in zip(X.flat, Y.flat, Z.flat)]\n",
    "\n",
    "    water_box = list([None] * len(XYZ))\n",
    "    water_reference = Molecule.from_smiles(\"O\")\n",
    "    water_reference.atoms[0].name = \"O\"\n",
    "    water_reference.atoms[1].name = \"H1\"\n",
    "    water_reference.atoms[2].name = \"H2\"\n",
    "    water_reference.generate_conformers()\n",
    "\n",
    "    for i, xyz in enumerate(XYZ):\n",
    "        water_box[i] = Molecule(water_reference)\n",
    "        water_box[i].conformers[0] = water_box[i].conformers[0] + xyz * unit.angstrom\n",
    "\n",
    "    return water_box"
   ]
  },
  {
   "cell_type": "code",
   "execution_count": 13,
   "metadata": {
    "pycharm": {
     "name": "#%%\n"
    }
   },
   "outputs": [],
   "source": [
    "def evaluate_openmm(\n",
    "    water: List[Molecule],\n",
    "    openmm_force_field: openmm.app.ForceField,\n",
    "    minimize: bool = False,\n",
    "):\n",
    "    \"\"\"\n",
    "    Given a list of molecules and a force field definition, calculate the\n",
    "    positions and energy.\n",
    "\n",
    "    Parameters\n",
    "    ----------\n",
    "        water: List[Molecule], each with a 3D conformation\n",
    "        openmm_force_field: openmm.app.ForceField, OpenMM ForceField object\n",
    "        minimize: bool, default = False, whether the structure should be minimized\n",
    "\n",
    "    Returns\n",
    "    -------\n",
    "        xyz: List The coordinates of all particles in the system (OpenMM ordering)\n",
    "        ene: float, The potential energy\n",
    "    \"\"\"\n",
    "\n",
    "    # First, get an OpenMM Topology and atom positions with no virtual sites\n",
    "    _topology: openmm.app.Topology = Topology.from_molecules(water).to_openmm()\n",
    "\n",
    "    atom_positions_unitless = np.vstack(\n",
    "        [mol.conformers[0].m_as(unit.nanometer) for mol in water]\n",
    "    )\n",
    "    atom_positions = openmm_unit.Quantity(\n",
    "        atom_positions_unitless, openmm_unit.nanometer\n",
    "    )\n",
    "\n",
    "    # Use OpenMM's Modeller to add virtual particles as perscribed by the force field\n",
    "    modeller = openmm.app.Modeller(_topology, atom_positions)\n",
    "    modeller.addExtraParticles(openmm_force_field)\n",
    "\n",
    "    # This topology includes virtual particles, so we can use it to create a System\n",
    "    topology = modeller.getTopology()\n",
    "\n",
    "    system: System = openmm_force_field.createSystem(\n",
    "        topology, nonbondedMethod=openmm.app.NoCutoff\n",
    "    )\n",
    "\n",
    "    # Add positions of virtual particles now that the topology includes them\n",
    "    particle_positions = openmm_unit.Quantity(\n",
    "        _collate_virtual_site_positions(atom_positions), openmm_unit.nanometer\n",
    "    )\n",
    "\n",
    "    return _evaluate_positions_and_energy(\n",
    "        topology, system, particle_positions, minimize=minimize\n",
    "    )"
   ]
  },
  {
   "cell_type": "code",
   "execution_count": 14,
   "metadata": {
    "pycharm": {
     "name": "#%%\n"
    }
   },
   "outputs": [],
   "source": [
    "def evaluate_openff(\n",
    "    water: List[Molecule],\n",
    "    force_field: ForceField,\n",
    "    minimize: bool = False,\n",
    "):\n",
    "    \"\"\"\n",
    "    Given a list of molecules and a force field definition, calculate the\n",
    "    positions and energy.\n",
    "\n",
    "    Parameters\n",
    "    ----------\n",
    "        water: List[Molecule], each with a 3D conformation\n",
    "        force_field: ForceField, an OpenFF ForceField object\n",
    "        minimize: boolean, default= False, whether the structure should be minimized\n",
    "\n",
    "    Returns\n",
    "    -------\n",
    "        xyz: list The coordinates of all particles in the system (OpenMM ordering)\n",
    "        ene: float, The potential energy\n",
    "    \"\"\"\n",
    "    openff_topology = Topology.from_molecules(water)\n",
    "    interchange = Interchange.from_smirnoff(force_field, openff_topology)\n",
    "\n",
    "    return _evaluate_positions_and_energy(\n",
    "        interchange.to_openmm_topology(),\n",
    "        interchange.to_openmm(combine_nonbonded_forces=True),\n",
    "        to_openmm(to_openmm_positions(interchange)),\n",
    "    )"
   ]
  },
  {
   "cell_type": "code",
   "execution_count": 15,
   "metadata": {
    "pycharm": {
     "name": "#%%\n"
    }
   },
   "outputs": [],
   "source": [
    "def print_info(xyz, ene, name, crd_units=unit.angstrom) -> str:\n",
    "    print(f\"Results for: {name}\\nEnergy: {ene}\\nCoordinates:{xyz * crd_units}\\n\")"
   ]
  },
  {
   "cell_type": "code",
   "execution_count": 16,
   "metadata": {
    "pycharm": {
     "name": "#%%\n"
    }
   },
   "outputs": [],
   "source": [
    "tip5p_offxml = \"\"\"<?xml version=\"1.0\" encoding=\"utf-8\"?>\n",
    "<SMIRNOFF version=\"0.3\" aromaticity_model=\"OEAroModel_MDL\">\n",
    "    <LibraryCharges version=\"0.3\">\n",
    "            <LibraryCharge name=\"tip5p\" smirks=\"[#1:1]-[#8X2H2+0:2]-[#1:3]\" charge1=\"0.*elementary_charge\" charge2=\"0.*elementary_charge\" charge3=\"0.*elementary_charge\"/>\n",
    "    </LibraryCharges>\n",
    "    <vdW version=\"0.3\" potential=\"Lennard-Jones-12-6\" combining_rules=\"Lorentz-Berthelot\" scale12=\"0.0\" scale13=\"0.0\" scale14=\"0.5\" scale15=\"1.0\" switch_width=\"0.0 * angstrom\" cutoff=\"10.0 * angstrom\" method=\"cutoff\">\n",
    "            <Atom smirks=\"[#1:1]-[#8X2H2+0]-[#1]\" epsilon=\"0. * mole**-1 * kilojoule\" id=\"n35\" sigma=\"1.0 * nanometer\"/>\n",
    "            <Atom smirks=\"[#1]-[#8X2H2+0:1]-[#1]\" epsilon=\"0.66944 * mole**-1 * kilojoule\" id=\"n35\" sigma=\"0.312 * nanometer\"/>\n",
    "    </vdW>\n",
    "     <Bonds version=\"0.4\" potential=\"harmonic\" fractional_bondorder_method=\"AM1-Wiberg\" fractional_bondorder_interpolation=\"linear\">\n",
    "        <Bond smirks=\"[#1:1]-[#8X2H2+0:2]-[#1]\" length=\"0.9572 * angstrom\" k=\"462750.4 * nanometer**-2 * mole**-1 * kilojoule\" id=\"b1\" />\n",
    "    </Bonds>\n",
    "    <Angles version=\"0.3\" potential=\"harmonic\">\n",
    "        <Angle smirks=\"[#1:1]-[#8X2H2+0:2]-[#1:3]\" angle=\"1.82421813418 * radian\" k=\"836.8 * mole**-1 * radian**-2 * kilojoule\" id=\"a1\" />\n",
    "    </Angles>\n",
    "    <VirtualSites version=\"0.3\">\n",
    "        <VirtualSite\n",
    "            type=\"DivalentLonePair\"\n",
    "            name=\"EP\"\n",
    "            smirks=\"[#1:2]-[#8X2H2+0:1]-[#1:3]\"\n",
    "            distance=\"0.70 * angstrom\"\n",
    "            charge_increment1=\"0.0*elementary_charge\"\n",
    "            charge_increment2=\"0.1205*elementary_charge\"\n",
    "            charge_increment3=\"0.1205*elementary_charge\"\n",
    "            sigma=\"10.0*angstrom\"\n",
    "            epsilon=\"0.0*kilocalories_per_mole\"\n",
    "            outOfPlaneAngle=\"54.71384225*degree\"\n",
    "            match=\"all_permutations\" >\n",
    "        </VirtualSite>\n",
    "    </VirtualSites>\n",
    "    <Electrostatics version=\"0.3\" method=\"PME\" scale12=\"0.0\" scale13=\"0.0\" scale14=\"0.833333\" scale15=\"1.0\" switch_width=\"0.0 * angstrom\" cutoff=\"9.0 * angstrom\"/>\n",
    "</SMIRNOFF>\n",
    "\"\"\"\n",
    "\n",
    "constraints = \"\"\"\n",
    "  <Constraints version=\"0.3\">\n",
    "    <Constraint smirks=\"[#1:1]-[#8X2H2+0:2]-[#1]\" id=\"c1\" distance=\"0.9572 * angstrom\"/>\n",
    "    <Constraint smirks=\"[#1:1]-[#8X2H2+0]-[#1:2]\" id=\"c2\" distance=\"1.5139006545247014 * angstrom\"/>\n",
    "  </Constraints>\n",
    "\"\"\""
   ]
  },
  {
   "cell_type": "code",
   "execution_count": 17,
   "metadata": {
    "pycharm": {
     "name": "#%%\n"
    }
   },
   "outputs": [],
   "source": [
    "# The TIP5P force field in SMIRNOFF format\n",
    "openff_force_field = ForceField(tip5p_offxml)\n",
    "\n",
    "# The standard OpenMM definition of tip5p\n",
    "openmm_force_field = openmm.app.ForceField(\"tip5p.xml\")"
   ]
  },
  {
   "cell_type": "code",
   "execution_count": 35,
   "metadata": {
    "pycharm": {
     "name": "#%%\n"
    },
    "scrolled": true
   },
   "outputs": [
    {
     "name": "stdout",
     "output_type": "stream",
     "text": [
      "[[0.006112021207809448 0.038865670561790466 0.005890042334794998] [0.07237835526466369 -0.031162935495376583 -0.0038235086947679517] [-0.07849037051200866 -0.0077027328312397 -0.002066533826291561] [0.0 0.0 0.0] [0.0 0.0 0.0] [0.30611202120780945 0.038865670561790466 0.005890042334794998] [0.3723783552646637 -0.031162935495376583 -0.0038235086947679517] [0.22150962948799133 -0.0077027328312397 -0.002066533826291561] [0.0 0.0 0.0] [0.0 0.0 0.0]] nanometer\n",
      "[[ 0.0061120212  0.0388656706  0.0058900423]\n",
      " [ 0.0723783553 -0.0311629355 -0.0038235087]\n",
      " [-0.0784903705 -0.0077027328 -0.0020665338]\n",
      " [ 0.0000000000  0.0000000000  0.0000000000]\n",
      " [ 0.0000000000  0.0000000000  0.0000000000]\n",
      " [ 0.3061120212  0.0388656706  0.0058900423]\n",
      " [ 0.3723783553 -0.0311629355 -0.0038235087]\n",
      " [ 0.2215096295 -0.0077027328 -0.0020665338]\n",
      " [ 0.0000000000  0.0000000000  0.0000000000]\n",
      " [ 0.0000000000  0.0000000000  0.0000000000]] nm\n",
      "Results for: OpenFF - OpenMM norm\n",
      "Energy: 10068.13766432653 kJ/mol\n",
      "Coordinates:[0.0 0.0 0.0 0.017332505264690955 0.017332505264690996 0.0 0.0 0.0 0.01733250526469103 0.017332505264691125] angstrom\n",
      "\n"
     ]
    },
    {
     "ename": "AssertionError",
     "evalue": "Energies differ by 10068.13766432653 kJ/mol",
     "output_type": "error",
     "traceback": [
      "\u001b[0;31m---------------------------------------------------------------------------\u001b[0m",
      "\u001b[0;31mAssertionError\u001b[0m                            Traceback (most recent call last)",
      "Input \u001b[0;32mIn [35]\u001b[0m, in \u001b[0;36m<cell line: 26>\u001b[0;34m()\u001b[0m\n\u001b[1;32m     23\u001b[0m energy_difference \u001b[38;5;241m=\u001b[39m (off_ene \u001b[38;5;241m-\u001b[39m omm_ene)\n\u001b[1;32m     25\u001b[0m \u001b[38;5;28;01massert\u001b[39;00m coordinate_difference \u001b[38;5;241m<\u001b[39m \u001b[38;5;241m0.04\u001b[39m, \u001b[38;5;124mf\u001b[39m\u001b[38;5;124m\"\u001b[39m\u001b[38;5;124mCoordinates differ by a norm of \u001b[39m\u001b[38;5;132;01m{\u001b[39;00mcoordinate_difference\u001b[38;5;132;01m}\u001b[39;00m\u001b[38;5;124m\"\u001b[39m\n\u001b[0;32m---> 26\u001b[0m \u001b[38;5;28;01massert\u001b[39;00m energy_difference \u001b[38;5;241m<\u001b[39m \u001b[38;5;241m0.001\u001b[39m \u001b[38;5;241m*\u001b[39m openmm_unit\u001b[38;5;241m.\u001b[39mkilojoule_per_mole, \u001b[38;5;124mf\u001b[39m\u001b[38;5;124m\"\u001b[39m\u001b[38;5;124mEnergies differ by \u001b[39m\u001b[38;5;132;01m{\u001b[39;00menergy_difference\u001b[38;5;132;01m}\u001b[39;00m\u001b[38;5;124m\"\u001b[39m\n",
      "\u001b[0;31mAssertionError\u001b[0m: Energies differ by 10068.13766432653 kJ/mol"
     ]
    }
   ],
   "source": [
    "minimize = False\n",
    "\n",
    "num_duplicates = (2, 1, 1)  # 2x2x2 = 8 water molecules\n",
    "spacing = (3.0, 3.0, 3.0)  # water spaced 3A apart in each direction\n",
    "\n",
    "np.set_printoptions(formatter={\"float_kind\": \"{:13.10f}\".format})\n",
    "\n",
    "waters = build_water_lattice(num_duplicates, spacing)\n",
    "\n",
    "off_crds, off_ene = evaluate_openff(waters, openff_force_field, minimize=minimize)\n",
    "off_crds = np.array(off_crds.value_in_unit(openmm_unit.angstrom))\n",
    "\n",
    "omm_crds, omm_ene = evaluate_openmm(waters, openmm_force_field, minimize=minimize)\n",
    "omm_crds = np.array(omm_crds.value_in_unit(openmm_unit.angstrom))\n",
    "\n",
    "print_info(\n",
    "    np.linalg.norm(off_crds - omm_crds, axis=1),\n",
    "    off_ene - omm_ene,\n",
    "    \"OpenFF - OpenMM norm\",\n",
    ")\n",
    "\n",
    "coordinate_difference = np.linalg.norm(off_crds - omm_crds) / np.prod(num_duplicates)\n",
    "energy_difference = off_ene - omm_ene\n",
    "\n",
    "assert (\n",
    "    coordinate_difference < 0.04\n",
    "), f\"Coordinates differ by a norm of {coordinate_difference}\"\n",
    "assert (\n",
    "    energy_difference < 0.001 * openmm_unit.kilojoule_per_mole\n",
    "), f\"Energies differ by {energy_difference}\""
   ]
  }
 ],
 "metadata": {
  "kernelspec": {
   "display_name": "Python 3 (ipykernel)",
   "language": "python",
   "name": "python3"
  },
  "language_info": {
   "codemirror_mode": {
    "name": "ipython",
    "version": 3
   },
   "file_extension": ".py",
   "mimetype": "text/x-python",
   "name": "python",
   "nbconvert_exporter": "python",
   "pygments_lexer": "ipython3",
   "version": "3.9.13"
  }
 },
 "nbformat": 4,
 "nbformat_minor": 4
}

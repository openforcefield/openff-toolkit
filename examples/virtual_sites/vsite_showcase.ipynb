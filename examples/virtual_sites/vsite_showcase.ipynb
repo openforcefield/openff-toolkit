{
 "cells": [
  {
   "cell_type": "markdown",
   "metadata": {},
   "source": [
    "# Virtual Sites Showcase"
   ]
  },
  {
   "cell_type": "markdown",
   "metadata": {},
   "source": [
    "The OpenFF Toolkit supports specifying virtual sites in a SMIRNOFF force field. This approach treats virtual sites as a feature of the potential energy function, rather than of the chemical system, cleanly seperating the system being modelled from the model itself. This notebook demonstrates the specification and use of virtual sites and compares a SMIRNOFF implementation of TIP5P water to the implementation distributed with OpenMM."
   ]
  },
  {
   "cell_type": "markdown",
   "metadata": {},
   "source": [
    "## Setup"
   ]
  },
  {
   "cell_type": "code",
   "execution_count": 1,
   "metadata": {
    "pycharm": {
     "name": "#%%\n"
    }
   },
   "outputs": [
    {
     "data": {
      "application/vnd.jupyter.widget-view+json": {
       "model_id": "7b658cf8469c42a3983b31838c5c6a17",
       "version_major": 2,
       "version_minor": 0
      },
      "text/plain": []
     },
     "metadata": {},
     "output_type": "display_data"
    }
   ],
   "source": [
    "import time\n",
    "\n",
    "import numpy\n",
    "import openmm\n",
    "import openmm.app\n",
    "import openmm.unit\n",
    "from openff.interchange import Interchange\n",
    "from openff.units import Quantity, unit\n",
    "\n",
    "from openff.toolkit import ForceField, Molecule, Topology"
   ]
  },
  {
   "cell_type": "code",
   "execution_count": 2,
   "metadata": {},
   "outputs": [],
   "source": [
    "def prepare_simulation(interchange: Interchange) -> openmm.app.Simulation:\n",
    "    \"\"\"Propagate an OpenMM System with Langevin dynamics.\"\"\"\n",
    "    time_step = 2 * openmm.unit.femtoseconds\n",
    "    temperature = 300 * openmm.unit.kelvin\n",
    "    friction = 1 / openmm.unit.picosecond\n",
    "    integrator = openmm.LangevinIntegrator(temperature, friction, time_step)\n",
    "\n",
    "    trj_freq, data_freq = 100, 100\n",
    "\n",
    "    simulation = interchange.to_openmm_simulation(integrator=integrator)\n",
    "\n",
    "    # It's important to run energy minimization before computing velocities; otherwise the initial\n",
    "    # velocities of virtual sites may be too high as a result of high initial forces, causing a crash\n",
    "    # See https://github.com/openmm/openmm/issues/3736#issuecomment-1217250635\n",
    "    simulation.minimizeEnergy()\n",
    "\n",
    "    # Since we placed all virtual sites at [0.0, 0.0, 0.0], compute virtual site positions to avoid a crash\n",
    "    simulation.context.computeVirtualSites()\n",
    "\n",
    "    simulation.context.setVelocitiesToTemperature(temperature)\n",
    "\n",
    "    pdb_reporter = openmm.app.PDBReporter(\"trajectory.pdb\", trj_freq)\n",
    "    state_data_reporter = openmm.app.StateDataReporter(\n",
    "        \"data.csv\",\n",
    "        data_freq,\n",
    "        step=True,\n",
    "        potentialEnergy=True,\n",
    "        temperature=True,\n",
    "        density=True,\n",
    "    )\n",
    "    simulation.reporters.append(pdb_reporter)\n",
    "    simulation.reporters.append(state_data_reporter)\n",
    "\n",
    "    return simulation\n",
    "\n",
    "\n",
    "def run_simulation(simulation: openmm.app.Simulation, num_steps: int = 1000):\n",
    "    print(\"Starting simulation\")\n",
    "    start = time.process_time()\n",
    "\n",
    "    simulation.step(num_steps)\n",
    "\n",
    "    end = time.process_time()\n",
    "    print(\"Elapsed time %.2f seconds\" % (end - start))\n",
    "    print(\"Done!\")"
   ]
  },
  {
   "cell_type": "markdown",
   "metadata": {
    "pycharm": {
     "name": "#%% md\n"
    }
   },
   "source": [
    "## Part 1: Run a short simulation with a virtual sites on sulfur lone pair and chloride groups"
   ]
  },
  {
   "cell_type": "markdown",
   "metadata": {},
   "source": [
    "This part demonstrates the specification of virtual sites in the SMIRNOFF format.\n",
    "\n",
    "First, we write the definition of a SMIRNOFF force field with virtual sites in OFFXML format. We will append this force field to the OpenFF Sage small molecule force field, so it only needs to specify the virtual sites we want to supplement Sage with. For details, see the [SMIRNOFF specification].\n",
    "\n",
    "[SMIRNOFF specification]: https://openforcefield.github.io/standards/standards/smirnoff/#virtualsites-virtual-sites-for-off-atom-charges"
   ]
  },
  {
   "cell_type": "code",
   "execution_count": 3,
   "metadata": {
    "pycharm": {
     "name": "#%%\n"
    }
   },
   "outputs": [],
   "source": [
    "vsite_offxml = \"\"\"<?xml version=\"1.0\" encoding=\"utf-8\"?>\n",
    "<SMIRNOFF version=\"0.3\" aromaticity_model=\"OEAroModel_MDL\">\n",
    "    <VirtualSites version=\"0.3\">\n",
    "        <VirtualSite\n",
    "            type=\"DivalentLonePair\"\n",
    "            name=\"EP\"\n",
    "            smirks=\"[*:2]-[#16X2:1]-[*:3]\"\n",
    "            distance=\"0.70 * angstrom\"\n",
    "            charge_increment1=\"0.1205*elementary_charge\"\n",
    "            charge_increment2=\"0.0*elementary_charge\"\n",
    "            charge_increment3=\"0.1205*elementary_charge\"\n",
    "            sigma=\"0.1*angstrom\"\n",
    "            epsilon=\"0.0*kilocalories_per_mole\"\n",
    "            outOfPlaneAngle=\"54.71384225*degree\"\n",
    "            match=\"all_permutations\" >\n",
    "        </VirtualSite>\n",
    "        <VirtualSite\n",
    "            type=\"BondCharge\"\n",
    "            name=\"EP\"\n",
    "            smirks=\"[*:2][Cl:1]\"\n",
    "            distance=\"0.4*angstrom\"\n",
    "            charge_increment1=\"0.2*elementary_charge\"\n",
    "            charge_increment2=\"0.0*elementary_charge\"\n",
    "            sigma=\"0.1*angstrom\"\n",
    "            epsilon=\"0.05*kilocalories_per_mole\"\n",
    "            match=\"all_permutations\" >\n",
    "        </VirtualSite>\n",
    "        <VirtualSite\n",
    "            type=\"BondCharge\"\n",
    "            name=\"EP\"\n",
    "            smirks=\"[*:2][F:1]\"\n",
    "            distance=\"0.4*angstrom\"\n",
    "            charge_increment1=\"0.2*elementary_charge\"\n",
    "            charge_increment2=\"0.0*elementary_charge\"\n",
    "            sigma=\"0.1*angstrom\"\n",
    "            epsilon=\"0.05*kilocalories_per_mole\"\n",
    "            match=\"all_permutations\" >\n",
    "        </VirtualSite>\n",
    "    </VirtualSites>\n",
    "</SMIRNOFF>\n",
    "\"\"\"\n",
    "\n",
    "# Load Sage and append our virtual sites\n",
    "force_field = ForceField(\"openff-2.2.0.offxml\", vsite_offxml)"
   ]
  },
  {
   "cell_type": "markdown",
   "metadata": {},
   "source": [
    "Load a molecule including a divalent sulfur atom:"
   ]
  },
  {
   "cell_type": "code",
   "execution_count": 4,
   "metadata": {
    "pycharm": {
     "name": "#%%\n"
    }
   },
   "outputs": [
    {
     "data": {
      "image/svg+xml": [
       "<svg xmlns=\"http://www.w3.org/2000/svg\" xmlns:rdkit=\"http://www.rdkit.org/xml\" xmlns:xlink=\"http://www.w3.org/1999/xlink\" version=\"1.1\" baseProfile=\"full\" xml:space=\"preserve\" width=\"500px\" height=\"300px\" viewBox=\"0 0 500 300\">\n",
       "<!-- END OF HEADER -->\n",
       "<rect style=\"opacity:1.0;fill:#FFFFFF;stroke:none\" width=\"500.0\" height=\"300.0\" x=\"0.0\" y=\"0.0\"> </rect>\n",
       "<path class=\"bond-0 atom-0 atom-6\" d=\"M 237.8,114.6 L 265.0,99.0\" style=\"fill:none;fill-rule:evenodd;stroke:#000000;stroke-width:2.0px;stroke-linecap:butt;stroke-linejoin:miter;stroke-opacity:1\"/>\n",
       "<path class=\"bond-0 atom-0 atom-6\" d=\"M 237.8,109.2 L 260.4,96.3\" style=\"fill:none;fill-rule:evenodd;stroke:#000000;stroke-width:2.0px;stroke-linecap:butt;stroke-linejoin:miter;stroke-opacity:1\"/>\n",
       "<path class=\"bond-1 atom-0 atom-1\" d=\"M 237.8,114.6 L 210.5,99.0\" style=\"fill:none;fill-rule:evenodd;stroke:#000000;stroke-width:2.0px;stroke-linecap:butt;stroke-linejoin:miter;stroke-opacity:1\"/>\n",
       "<path class=\"bond-2 atom-1 atom-2\" d=\"M 210.5,99.0 L 210.6,67.4\" style=\"fill:none;fill-rule:evenodd;stroke:#000000;stroke-width:2.0px;stroke-linecap:butt;stroke-linejoin:miter;stroke-opacity:1\"/>\n",
       "<path class=\"bond-2 atom-1 atom-2\" d=\"M 215.2,96.2 L 215.2,70.1\" style=\"fill:none;fill-rule:evenodd;stroke:#000000;stroke-width:2.0px;stroke-linecap:butt;stroke-linejoin:miter;stroke-opacity:1\"/>\n",
       "<path class=\"bond-3 atom-2 atom-3\" d=\"M 210.6,67.4 L 197.9,60.1\" style=\"fill:none;fill-rule:evenodd;stroke:#000000;stroke-width:2.0px;stroke-linecap:butt;stroke-linejoin:miter;stroke-opacity:1\"/>\n",
       "<path class=\"bond-3 atom-2 atom-3\" d=\"M 197.9,60.1 L 185.3,52.8\" style=\"fill:none;fill-rule:evenodd;stroke:#00CC00;stroke-width:2.0px;stroke-linecap:butt;stroke-linejoin:miter;stroke-opacity:1\"/>\n",
       "<path class=\"bond-4 atom-2 atom-4\" d=\"M 210.6,67.4 L 237.8,51.8\" style=\"fill:none;fill-rule:evenodd;stroke:#000000;stroke-width:2.0px;stroke-linecap:butt;stroke-linejoin:miter;stroke-opacity:1\"/>\n",
       "<path class=\"bond-5 atom-4 atom-5\" d=\"M 237.8,51.8 L 265.1,67.5\" style=\"fill:none;fill-rule:evenodd;stroke:#000000;stroke-width:2.0px;stroke-linecap:butt;stroke-linejoin:miter;stroke-opacity:1\"/>\n",
       "<path class=\"bond-5 atom-4 atom-5\" d=\"M 237.8,57.2 L 260.4,70.2\" style=\"fill:none;fill-rule:evenodd;stroke:#000000;stroke-width:2.0px;stroke-linecap:butt;stroke-linejoin:miter;stroke-opacity:1\"/>\n",
       "<path class=\"bond-6 atom-5 atom-6\" d=\"M 265.1,67.5 L 265.0,99.0\" style=\"fill:none;fill-rule:evenodd;stroke:#000000;stroke-width:2.0px;stroke-linecap:butt;stroke-linejoin:miter;stroke-opacity:1\"/>\n",
       "<path class=\"bond-7 atom-6 atom-7\" d=\"M 265.0,99.0 L 292.2,114.3\" style=\"fill:none;fill-rule:evenodd;stroke:#000000;stroke-width:2.0px;stroke-linecap:butt;stroke-linejoin:miter;stroke-opacity:1\"/>\n",
       "<path class=\"bond-8 atom-7 atom-8\" d=\"M 292.2,117.0 L 302.8,110.8\" style=\"fill:none;fill-rule:evenodd;stroke:#000000;stroke-width:2.0px;stroke-linecap:butt;stroke-linejoin:miter;stroke-opacity:1\"/>\n",
       "<path class=\"bond-8 atom-7 atom-8\" d=\"M 302.8,110.8 L 313.3,104.6\" style=\"fill:none;fill-rule:evenodd;stroke:#FF0000;stroke-width:2.0px;stroke-linecap:butt;stroke-linejoin:miter;stroke-opacity:1\"/>\n",
       "<path class=\"bond-8 atom-7 atom-8\" d=\"M 289.8,112.9 L 300.4,106.7\" style=\"fill:none;fill-rule:evenodd;stroke:#000000;stroke-width:2.0px;stroke-linecap:butt;stroke-linejoin:miter;stroke-opacity:1\"/>\n",
       "<path class=\"bond-8 atom-7 atom-8\" d=\"M 300.4,106.7 L 311.0,100.5\" style=\"fill:none;fill-rule:evenodd;stroke:#FF0000;stroke-width:2.0px;stroke-linecap:butt;stroke-linejoin:miter;stroke-opacity:1\"/>\n",
       "<path class=\"bond-9 atom-7 atom-9\" d=\"M 292.2,114.3 L 292.5,145.0\" style=\"fill:none;fill-rule:evenodd;stroke:#000000;stroke-width:2.0px;stroke-linecap:butt;stroke-linejoin:miter;stroke-opacity:1\"/>\n",
       "<path class=\"bond-10 atom-9 atom-10\" d=\"M 292.5,145.0 L 281.3,151.6\" style=\"fill:none;fill-rule:evenodd;stroke:#000000;stroke-width:2.0px;stroke-linecap:butt;stroke-linejoin:miter;stroke-opacity:1\"/>\n",
       "<path class=\"bond-10 atom-9 atom-10\" d=\"M 281.3,151.6 L 270.2,158.3\" style=\"fill:none;fill-rule:evenodd;stroke:#CCCC00;stroke-width:2.0px;stroke-linecap:butt;stroke-linejoin:miter;stroke-opacity:1\"/>\n",
       "<path class=\"bond-11 atom-10 atom-11\" d=\"M 264.8,169.5 L 264.8,181.3\" style=\"fill:none;fill-rule:evenodd;stroke:#CCCC00;stroke-width:2.0px;stroke-linecap:butt;stroke-linejoin:miter;stroke-opacity:1\"/>\n",
       "<path class=\"bond-11 atom-10 atom-11\" d=\"M 264.8,181.3 L 264.7,193.2\" style=\"fill:none;fill-rule:evenodd;stroke:#000000;stroke-width:2.0px;stroke-linecap:butt;stroke-linejoin:miter;stroke-opacity:1\"/>\n",
       "<path class=\"bond-12 atom-11 atom-18\" d=\"M 264.7,193.2 L 237.5,209.1\" style=\"fill:none;fill-rule:evenodd;stroke:#000000;stroke-width:2.0px;stroke-linecap:butt;stroke-linejoin:miter;stroke-opacity:1\"/>\n",
       "<path class=\"bond-13 atom-11 atom-12\" d=\"M 264.7,193.2 L 292.0,208.9\" style=\"fill:none;fill-rule:evenodd;stroke:#000000;stroke-width:2.0px;stroke-linecap:butt;stroke-linejoin:miter;stroke-opacity:1\"/>\n",
       "<path class=\"bond-13 atom-11 atom-12\" d=\"M 264.7,198.6 L 287.4,211.7\" style=\"fill:none;fill-rule:evenodd;stroke:#000000;stroke-width:2.0px;stroke-linecap:butt;stroke-linejoin:miter;stroke-opacity:1\"/>\n",
       "<path class=\"bond-14 atom-12 atom-13\" d=\"M 292.0,208.9 L 292.1,220.8\" style=\"fill:none;fill-rule:evenodd;stroke:#000000;stroke-width:2.0px;stroke-linecap:butt;stroke-linejoin:miter;stroke-opacity:1\"/>\n",
       "<path class=\"bond-14 atom-12 atom-13\" d=\"M 292.1,220.8 L 292.2,232.7\" style=\"fill:none;fill-rule:evenodd;stroke:#FF0000;stroke-width:2.0px;stroke-linecap:butt;stroke-linejoin:miter;stroke-opacity:1\"/>\n",
       "<path class=\"bond-15 atom-13 atom-14\" d=\"M 285.1,244.6 L 275.1,250.5\" style=\"fill:none;fill-rule:evenodd;stroke:#FF0000;stroke-width:2.0px;stroke-linecap:butt;stroke-linejoin:miter;stroke-opacity:1\"/>\n",
       "<path class=\"bond-15 atom-13 atom-14\" d=\"M 275.1,250.5 L 265.1,256.3\" style=\"fill:none;fill-rule:evenodd;stroke:#000000;stroke-width:2.0px;stroke-linecap:butt;stroke-linejoin:miter;stroke-opacity:1\"/>\n",
       "<path class=\"bond-16 atom-14 atom-15\" d=\"M 265.1,256.3 L 260.4,262.9\" style=\"fill:none;fill-rule:evenodd;stroke:#000000;stroke-width:2.0px;stroke-linecap:butt;stroke-linejoin:miter;stroke-opacity:1\"/>\n",
       "<path class=\"bond-16 atom-14 atom-15\" d=\"M 260.4,262.9 L 255.7,269.6\" style=\"fill:none;fill-rule:evenodd;stroke:#33CCCC;stroke-width:2.0px;stroke-linecap:butt;stroke-linejoin:miter;stroke-opacity:1\"/>\n",
       "<path class=\"bond-17 atom-14 atom-16\" d=\"M 265.1,256.3 L 273.1,265.2\" style=\"fill:none;fill-rule:evenodd;stroke:#000000;stroke-width:2.0px;stroke-linecap:butt;stroke-linejoin:miter;stroke-opacity:1\"/>\n",
       "<path class=\"bond-17 atom-14 atom-16\" d=\"M 273.1,265.2 L 281.1,274.1\" style=\"fill:none;fill-rule:evenodd;stroke:#33CCCC;stroke-width:2.0px;stroke-linecap:butt;stroke-linejoin:miter;stroke-opacity:1\"/>\n",
       "<path class=\"bond-18 atom-14 atom-17\" d=\"M 265.1,256.3 L 237.6,240.7\" style=\"fill:none;fill-rule:evenodd;stroke:#000000;stroke-width:2.0px;stroke-linecap:butt;stroke-linejoin:miter;stroke-opacity:1\"/>\n",
       "<path class=\"bond-19 atom-17 atom-18\" d=\"M 237.6,240.7 L 237.5,209.1\" style=\"fill:none;fill-rule:evenodd;stroke:#000000;stroke-width:2.0px;stroke-linecap:butt;stroke-linejoin:miter;stroke-opacity:1\"/>\n",
       "<path class=\"bond-20 atom-0 atom-19\" d=\"M 237.8,114.6 L 237.8,138.4\" style=\"fill:none;fill-rule:evenodd;stroke:#000000;stroke-width:2.0px;stroke-linecap:butt;stroke-linejoin:miter;stroke-opacity:1\"/>\n",
       "<path class=\"bond-21 atom-1 atom-20\" d=\"M 210.5,99.0 L 189.6,111.0\" style=\"fill:none;fill-rule:evenodd;stroke:#000000;stroke-width:2.0px;stroke-linecap:butt;stroke-linejoin:miter;stroke-opacity:1\"/>\n",
       "<path class=\"bond-22 atom-4 atom-21\" d=\"M 237.8,51.8 L 237.8,28.0\" style=\"fill:none;fill-rule:evenodd;stroke:#000000;stroke-width:2.0px;stroke-linecap:butt;stroke-linejoin:miter;stroke-opacity:1\"/>\n",
       "<path class=\"bond-23 atom-5 atom-22\" d=\"M 265.1,67.5 L 286.0,55.4\" style=\"fill:none;fill-rule:evenodd;stroke:#000000;stroke-width:2.0px;stroke-linecap:butt;stroke-linejoin:miter;stroke-opacity:1\"/>\n",
       "<path class=\"bond-24 atom-9 atom-23\" d=\"M 292.5,145.0 L 303.7,163.4\" style=\"fill:none;fill-rule:evenodd;stroke:#000000;stroke-width:2.0px;stroke-linecap:butt;stroke-linejoin:miter;stroke-opacity:1\"/>\n",
       "<path class=\"bond-25 atom-9 atom-24\" d=\"M 292.5,145.0 L 317.7,144.7\" style=\"fill:none;fill-rule:evenodd;stroke:#000000;stroke-width:2.0px;stroke-linecap:butt;stroke-linejoin:miter;stroke-opacity:1\"/>\n",
       "<path class=\"bond-26 atom-12 atom-25\" d=\"M 292.0,208.9 L 312.4,197.5\" style=\"fill:none;fill-rule:evenodd;stroke:#000000;stroke-width:2.0px;stroke-linecap:butt;stroke-linejoin:miter;stroke-opacity:1\"/>\n",
       "<path class=\"bond-27 atom-17 atom-26\" d=\"M 237.6,240.7 L 213.0,238.0\" style=\"fill:none;fill-rule:evenodd;stroke:#000000;stroke-width:2.0px;stroke-linecap:butt;stroke-linejoin:miter;stroke-opacity:1\"/>\n",
       "<path class=\"bond-28 atom-17 atom-27\" d=\"M 237.6,240.7 L 229.3,262.3\" style=\"fill:none;fill-rule:evenodd;stroke:#000000;stroke-width:2.0px;stroke-linecap:butt;stroke-linejoin:miter;stroke-opacity:1\"/>\n",
       "<path class=\"bond-29 atom-18 atom-28\" d=\"M 237.5,209.1 L 230.3,186.9\" style=\"fill:none;fill-rule:evenodd;stroke:#000000;stroke-width:2.0px;stroke-linecap:butt;stroke-linejoin:miter;stroke-opacity:1\"/>\n",
       "<path class=\"bond-30 atom-18 atom-29\" d=\"M 237.5,209.1 L 212.8,211.5\" style=\"fill:none;fill-rule:evenodd;stroke:#000000;stroke-width:2.0px;stroke-linecap:butt;stroke-linejoin:miter;stroke-opacity:1\"/>\n",
       "<path d=\"M 290.8,113.5 L 292.2,114.3 L 292.2,115.8\" style=\"fill:none;stroke:#000000;stroke-width:2.0px;stroke-linecap:butt;stroke-linejoin:miter;stroke-opacity:1;\"/>\n",
       "<path class=\"atom-3\" d=\"M 170.8 52.2 Q 170.8 48.9, 172.4 47.1 Q 173.9 45.4, 176.9 45.4 Q 179.7 45.4, 181.1 47.3 L 179.9 48.3 Q 178.8 46.9, 176.9 46.9 Q 174.9 46.9, 173.8 48.3 Q 172.8 49.6, 172.8 52.2 Q 172.8 54.8, 173.8 56.2 Q 175.0 57.5, 177.1 57.5 Q 178.6 57.5, 180.3 56.6 L 180.8 58.1 Q 180.1 58.5, 179.1 58.8 Q 178.0 59.0, 176.8 59.0 Q 173.9 59.0, 172.4 57.3 Q 170.8 55.5, 170.8 52.2 \" fill=\"#00CC00\"/>\n",
       "<path class=\"atom-3\" d=\"M 182.5 44.6 L 184.2 44.6 L 184.2 58.9 L 182.5 58.9 L 182.5 44.6 \" fill=\"#00CC00\"/>\n",
       "<path class=\"atom-8\" d=\"M 313.2 98.4 Q 313.2 95.2, 314.8 93.4 Q 316.4 91.6, 319.3 91.6 Q 322.3 91.6, 323.9 93.4 Q 325.5 95.2, 325.5 98.4 Q 325.5 101.6, 323.9 103.5 Q 322.2 105.3, 319.3 105.3 Q 316.4 105.3, 314.8 103.5 Q 313.2 101.6, 313.2 98.4 M 319.3 103.8 Q 321.4 103.8, 322.5 102.4 Q 323.6 101.1, 323.6 98.4 Q 323.6 95.8, 322.5 94.4 Q 321.4 93.1, 319.3 93.1 Q 317.3 93.1, 316.2 94.4 Q 315.1 95.7, 315.1 98.4 Q 315.1 101.1, 316.2 102.4 Q 317.3 103.8, 319.3 103.8 \" fill=\"#FF0000\"/>\n",
       "<path class=\"atom-10\" d=\"M 261.1 166.0 Q 261.2 166.0, 261.9 166.3 Q 262.5 166.6, 263.2 166.7 Q 263.9 166.9, 264.5 166.9 Q 265.8 166.9, 266.5 166.3 Q 267.3 165.7, 267.3 164.6 Q 267.3 163.9, 266.9 163.4 Q 266.5 163.0, 266.0 162.7 Q 265.4 162.5, 264.5 162.2 Q 263.3 161.8, 262.6 161.5 Q 261.9 161.1, 261.3 160.4 Q 260.9 159.7, 260.9 158.5 Q 260.9 156.8, 262.0 155.8 Q 263.1 154.7, 265.4 154.7 Q 267.0 154.7, 268.7 155.5 L 268.3 156.9 Q 266.7 156.3, 265.5 156.3 Q 264.2 156.3, 263.4 156.8 Q 262.7 157.3, 262.7 158.3 Q 262.7 159.0, 263.1 159.4 Q 263.5 159.9, 264.0 160.1 Q 264.6 160.3, 265.5 160.6 Q 266.7 161.0, 267.4 161.4 Q 268.1 161.8, 268.6 162.5 Q 269.1 163.3, 269.1 164.6 Q 269.1 166.4, 267.9 167.4 Q 266.7 168.4, 264.6 168.4 Q 263.4 168.4, 262.5 168.2 Q 261.6 167.9, 260.6 167.5 L 261.1 166.0 \" fill=\"#CCCC00\"/>\n",
       "<path class=\"atom-13\" d=\"M 286.1 240.5 Q 286.1 237.3, 287.7 235.5 Q 289.3 233.7, 292.2 233.7 Q 295.2 233.7, 296.8 235.5 Q 298.4 237.3, 298.4 240.5 Q 298.4 243.8, 296.8 245.6 Q 295.2 247.4, 292.2 247.4 Q 289.3 247.4, 287.7 245.6 Q 286.1 243.8, 286.1 240.5 M 292.2 245.9 Q 294.3 245.9, 295.4 244.6 Q 296.5 243.2, 296.5 240.5 Q 296.5 237.9, 295.4 236.6 Q 294.3 235.2, 292.2 235.2 Q 290.2 235.2, 289.1 236.5 Q 288.0 237.9, 288.0 240.5 Q 288.0 243.2, 289.1 244.6 Q 290.2 245.9, 292.2 245.9 \" fill=\"#FF0000\"/>\n",
       "<path class=\"atom-15\" d=\"M 246.8 270.0 L 254.7 270.0 L 254.7 271.5 L 248.6 271.5 L 248.6 275.6 L 254.0 275.6 L 254.0 277.1 L 248.6 277.1 L 248.6 283.4 L 246.8 283.4 L 246.8 270.0 \" fill=\"#33CCCC\"/>\n",
       "<path class=\"atom-16\" d=\"M 282.1 273.0 L 290.1 273.0 L 290.1 274.5 L 283.9 274.5 L 283.9 278.6 L 289.4 278.6 L 289.4 280.1 L 283.9 280.1 L 283.9 286.4 L 282.1 286.4 L 282.1 273.0 \" fill=\"#33CCCC\"/>\n",
       "<path class=\"atom-19\" d=\"M 232.5 139.4 L 234.3 139.4 L 234.3 145.1 L 241.2 145.1 L 241.2 139.4 L 243.0 139.4 L 243.0 152.8 L 241.2 152.8 L 241.2 146.6 L 234.3 146.6 L 234.3 152.8 L 232.5 152.8 L 232.5 139.4 \" fill=\"#000000\"/>\n",
       "<path class=\"atom-20\" d=\"M 178.1 108.0 L 179.9 108.0 L 179.9 113.6 L 186.7 113.6 L 186.7 108.0 L 188.5 108.0 L 188.5 121.3 L 186.7 121.3 L 186.7 115.1 L 179.9 115.1 L 179.9 121.3 L 178.1 121.3 L 178.1 108.0 \" fill=\"#000000\"/>\n",
       "<path class=\"atom-21\" d=\"M 232.6 13.6 L 234.4 13.6 L 234.4 19.3 L 241.3 19.3 L 241.3 13.6 L 243.1 13.6 L 243.1 27.0 L 241.3 27.0 L 241.3 20.8 L 234.4 20.8 L 234.4 27.0 L 232.6 27.0 L 232.6 13.6 \" fill=\"#000000\"/>\n",
       "<path class=\"atom-22\" d=\"M 287.1 45.1 L 288.9 45.1 L 288.9 50.8 L 295.7 50.8 L 295.7 45.1 L 297.5 45.1 L 297.5 58.5 L 295.7 58.5 L 295.7 52.3 L 288.9 52.3 L 288.9 58.5 L 287.1 58.5 L 287.1 45.1 \" fill=\"#000000\"/>\n",
       "<path class=\"atom-23\" d=\"M 303.2 164.4 L 305.0 164.4 L 305.0 170.1 L 311.8 170.1 L 311.8 164.4 L 313.6 164.4 L 313.6 177.8 L 311.8 177.8 L 311.8 171.6 L 305.0 171.6 L 305.0 177.8 L 303.2 177.8 L 303.2 164.4 \" fill=\"#000000\"/>\n",
       "<path class=\"atom-24\" d=\"M 318.7 137.9 L 320.5 137.9 L 320.5 143.6 L 327.4 143.6 L 327.4 137.9 L 329.2 137.9 L 329.2 151.3 L 327.4 151.3 L 327.4 145.1 L 320.5 145.1 L 320.5 151.3 L 318.7 151.3 L 318.7 137.9 \" fill=\"#000000\"/>\n",
       "<path class=\"atom-25\" d=\"M 313.4 187.4 L 315.2 187.4 L 315.2 193.0 L 322.0 193.0 L 322.0 187.4 L 323.8 187.4 L 323.8 200.7 L 322.0 200.7 L 322.0 194.5 L 315.2 194.5 L 315.2 200.7 L 313.4 200.7 L 313.4 187.4 \" fill=\"#000000\"/>\n",
       "<path class=\"atom-26\" d=\"M 201.5 230.6 L 203.3 230.6 L 203.3 236.3 L 210.1 236.3 L 210.1 230.6 L 211.9 230.6 L 211.9 244.0 L 210.1 244.0 L 210.1 237.8 L 203.3 237.8 L 203.3 244.0 L 201.5 244.0 L 201.5 230.6 \" fill=\"#000000\"/>\n",
       "<path class=\"atom-27\" d=\"M 221.1 263.4 L 223.0 263.4 L 223.0 269.0 L 229.8 269.0 L 229.8 263.4 L 231.6 263.4 L 231.6 276.7 L 229.8 276.7 L 229.8 270.5 L 223.0 270.5 L 223.0 276.7 L 221.1 276.7 L 221.1 263.4 \" fill=\"#000000\"/>\n",
       "<path class=\"atom-28\" d=\"M 222.6 172.5 L 224.4 172.5 L 224.4 178.2 L 231.3 178.2 L 231.3 172.5 L 233.1 172.5 L 233.1 185.8 L 231.3 185.8 L 231.3 179.7 L 224.4 179.7 L 224.4 185.8 L 222.6 185.8 L 222.6 172.5 \" fill=\"#000000\"/>\n",
       "<path class=\"atom-29\" d=\"M 201.3 205.4 L 203.1 205.4 L 203.1 211.1 L 210.0 211.1 L 210.0 205.4 L 211.8 205.4 L 211.8 218.8 L 210.0 218.8 L 210.0 212.6 L 203.1 212.6 L 203.1 218.8 L 201.3 218.8 L 201.3 205.4 \" fill=\"#000000\"/>\n",
       "</svg>"
      ],
      "text/plain": [
       "<IPython.core.display.SVG object>"
      ]
     },
     "execution_count": 4,
     "metadata": {},
     "output_type": "execute_result"
    }
   ],
   "source": [
    "molecule = Molecule.from_smiles(\"c1cc(Cl)ccc1C(=O)CS[C]1=CO[C](F)(F)CC1\")\n",
    "molecule.generate_conformers(n_conformers=1)\n",
    "molecule.visualize()"
   ]
  },
  {
   "cell_type": "markdown",
   "metadata": {},
   "source": [
    "Create an Interchange object, which parametrizes the molecule and stores information needed for OpenMM (and other engines) to understand virtual sites as applied by a force field:"
   ]
  },
  {
   "cell_type": "code",
   "execution_count": 5,
   "metadata": {
    "pycharm": {
     "name": "#%%\n"
    }
   },
   "outputs": [
    {
     "name": "stdout",
     "output_type": "stream",
     "text": [
      "There are 5 virtual particles in this topology.\n"
     ]
    }
   ],
   "source": [
    "interchange = force_field.create_interchange(topology=molecule.to_topology())\n",
    "\n",
    "assert \"VirtualSites\" in interchange.collections.keys()\n",
    "\n",
    "n_virtual_sites = len(interchange.collections[\"VirtualSites\"].key_map)\n",
    "\n",
    "print(f\"There are {n_virtual_sites} virtual particles in this topology.\")"
   ]
  },
  {
   "cell_type": "markdown",
   "metadata": {},
   "source": [
    "*This may take a moment, as it must compute partial charges for the molecule*"
   ]
  },
  {
   "cell_type": "markdown",
   "metadata": {},
   "source": [
    "At this point, each of our OpenFF objects have processed and stored all of the information needed to run a simulation in OpenMM. Different [OpenMM objects](https://docs.openforcefield.org/projects/interchange/en/stable/using/output.html#openmm) can be created from an `Interchange` object:\n",
    "\n",
    "* `openmm.System`: `Interchange.to_openmm()`\n",
    "* `openmm.app.Topology`: `Interchange.to_openmm_topology()`\n",
    "* `openmm.app.Simulation`: `Interchange.to_openmm_simulation()`\n",
    "\n",
    "For simplicity, we'll just create a `Simulation` object with the function we defined above since that's all we need to run a simulation in OpenMM:"
   ]
  },
  {
   "cell_type": "code",
   "execution_count": 6,
   "metadata": {
    "pycharm": {
     "name": "#%%\n"
    },
    "scrolled": true
   },
   "outputs": [
    {
     "name": "stdout",
     "output_type": "stream",
     "text": [
      "Starting simulation\n",
      "Elapsed time 1.06 seconds\n",
      "Done!\n"
     ]
    }
   ],
   "source": [
    "simulation = prepare_simulation(interchange)\n",
    "\n",
    "run_simulation(simulation, 10000)"
   ]
  },
  {
   "cell_type": "markdown",
   "metadata": {},
   "source": [
    "We can visualize the resulting trajectory:"
   ]
  },
  {
   "cell_type": "code",
   "execution_count": 7,
   "metadata": {
    "scrolled": true
   },
   "outputs": [
    {
     "data": {
      "application/vnd.jupyter.widget-view+json": {
       "model_id": "5992ec1eb3014d07a949eb65801be84c",
       "version_major": 2,
       "version_minor": 0
      },
      "text/plain": [
       "NGLWidget(max_frame=99)"
      ]
     },
     "metadata": {},
     "output_type": "display_data"
    }
   ],
   "source": [
    "import mdtraj\n",
    "\n",
    "# Visualize the trajectory. There will probably be errant bonds drawn between atoms and virtual sites.\n",
    "import nglview\n",
    "\n",
    "nglview.show_mdtraj(mdtraj.load(\"trajectory.pdb\"))"
   ]
  },
  {
   "cell_type": "markdown",
   "metadata": {
    "pycharm": {
     "name": "#%% md\n"
    }
   },
   "source": [
    "## Part 2: Numerical comparison of OpenMM's TIP5P and an equivalent SMIRNOFF implementation"
   ]
  },
  {
   "cell_type": "markdown",
   "metadata": {
    "pycharm": {
     "name": "#%% md\n"
    }
   },
   "source": [
    "We will now parametrize a water box with OpenFF/SMIRNOFF and OpenMM implementations of TIP5P water.\n",
    "\n",
    "This code examines the geometry and energy between the two, and examines cases where minimization is performed.\n",
    "\n",
    "The virtual site definitions give rise to small differences in geometry due to how they are defined relative to their parent atoms. OpenMM's force field uses the `openmm.OutOfPlaneSite` class whereas OpenFF's force field uses `openmm.LocalCoordinatesSite`. In each case, these objects are OpenMM objects for use in OpenMM simulations; implementations in other engines are not covered here.\n",
    "\n",
    "Virtual sites are defined geometrically in terms of a single *parent* atom and multiple *orientation* atoms. In water models, the parent atom is oxygen and the orientation atoms are the oxygen and hydrogens; in other chemistries virtual sites may be definited differently. `OutOfPlaneSite` virtual sites' positions are determined based on the positions of the orientation atoms. `LocalCoordinatesSite` virtual sites' positions relative to orientation atoms are fixed in order to adhere to the SMIRNOFF specification.\n",
    "\n",
    "A consequence of this difference is that tiny fluctuations in the molecular geometry cause slightly different coordinates and, therefore, energy evaluations. This can arise from marginally different initial positions or from the dynamics of a simulation, but when averaged over a large number of configurations at equilibrium the descriptions should match. Further nuance is described in the [OpenMM User Guide] and API docs.\n",
    "\n",
    "This example uses water molecules, but both OpenFF and OpenMM infrastructure support a variety of other virtual site definitions for use in other chemistries. One key difference between OpenFF and OpenMM code paths is the bookkeepping of virtual sites relative to atomistic particles. OpenMM interleaves the virtual site particles at the end of _each molecule_, whereas OpenFF places all virtual sites at the end of the `openmm.System`, topology, and related objects.\n",
    "\n",
    "[OpenMM User Guide]: http://docs.openmm.org/8.0.0/userguide/theory/05_other_features.html#virtual-sites"
   ]
  },
  {
   "cell_type": "markdown",
   "metadata": {},
   "source": [
    "First, define some supporting functions:"
   ]
  },
  {
   "cell_type": "code",
   "execution_count": 8,
   "metadata": {
    "pycharm": {
     "name": "#%%\n"
    },
    "scrolled": true
   },
   "outputs": [],
   "source": [
    "def _evaluate_positions_and_energy(\n",
    "    openmm_topology: openmm.app.Topology,\n",
    "    openmm_system: openmm.app.Simulation,\n",
    "    particle_positions: openmm.unit.Quantity,\n",
    "    minimize=False,\n",
    ") -> tuple[numpy.ndarray, Quantity]:\n",
    "    \"\"\"\n",
    "    Calculate particle positions and potential energy of the a system.\n",
    "\n",
    "    Parameters\n",
    "    ----------\n",
    "    openmm_topology: openmm.app.Topology, OpenMM Topology\n",
    "    openmm_system: openmm.app.System, OpenMM System\n",
    "    particle_positions: openff.units.Quantity, (N, 3) array of positions in nanometers\n",
    "    minimize: bool, Whether or not to perform an energy minimization before calculating energy\n",
    "\n",
    "    Returns\n",
    "    -------\n",
    "    positions: numpy.ndarray, array of particle positions (as nanometers)\n",
    "    energy: openmm.unit.Quantity, The potential energy of the systems\n",
    "\n",
    "    \"\"\"\n",
    "\n",
    "    integrator = openmm.LangevinIntegrator(\n",
    "        300 * openmm.unit.kelvin,\n",
    "        1 / openmm.unit.picosecond,\n",
    "        0.002 * openmm.unit.picoseconds,\n",
    "    )\n",
    "\n",
    "    sim = openmm.app.Simulation(openmm_topology, openmm_system, integrator)\n",
    "\n",
    "    sim.context.setPositions(particle_positions)\n",
    "    sim.context.applyConstraints(1e-5)\n",
    "\n",
    "    if minimize:\n",
    "        sim.minimizeEnergy()\n",
    "\n",
    "    state = sim.context.getState(getEnergy=True, getPositions=True)\n",
    "    ene = state.getPotentialEnergy()\n",
    "    pos = openmm.unit.Quantity(\n",
    "        [\n",
    "            list(xyz)\n",
    "            for xyz in state.getPositions().value_in_unit(openmm.unit.nanometer)\n",
    "        ],\n",
    "        openmm.unit.nanometer,\n",
    "    )\n",
    "\n",
    "    return pos, ene"
   ]
  },
  {
   "cell_type": "code",
   "execution_count": 9,
   "metadata": {
    "pycharm": {
     "name": "#%%\n"
    }
   },
   "outputs": [],
   "source": [
    "def build_water_lattice(\n",
    "    num_duplicates: list[int] = [1, 1, 1],\n",
    "    spacing: list[float] = [2.0, 2.0, 2.0],\n",
    ") -> list[Molecule]:\n",
    "    \"\"\"\n",
    "    Generate a box of water molecules as OpenFF Molecules\n",
    "\n",
    "    Parameters\n",
    "    ----------\n",
    "        num_duplicates: list[int], The number of molecules in each dimension\n",
    "        spacing: list[float], The spacing between the molecules in each dimension, implicitly in Angstrom\n",
    "\n",
    "    Returns\n",
    "    -------\n",
    "        water_box: list[Molecule], A list of Molecule objcets with a 3D conformation\n",
    "    \"\"\"\n",
    "    from math import cos, sin\n",
    "\n",
    "    Lx, Ly, Lz = (num_duplicates[i] * spacing[i] for i in range(3))\n",
    "    Z, Y, X = numpy.mgrid[\n",
    "        0 : Lz : spacing[0],\n",
    "        0 : Ly : spacing[1],\n",
    "        0 : Lx : spacing[2],\n",
    "    ]\n",
    "    XYZ = [list(xyz) for xyz in zip(X.flat, Y.flat, Z.flat)]\n",
    "\n",
    "    water_box = list([None] * len(XYZ))\n",
    "    water_reference = Molecule.from_mapped_smiles(\"[O:1]([H:2])[H:3]\")\n",
    "    water_reference.atoms[0].name = \"O\"\n",
    "    water_reference.atoms[1].name = \"H1\"\n",
    "    water_reference.atoms[2].name = \"H2\"\n",
    "\n",
    "    # Add ideal TIP5P geometry\n",
    "    bond_length = Quantity(0.9572, unit.angstrom)\n",
    "    theta = Quantity(104.52, unit.degree).to(unit.radian)\n",
    "\n",
    "    water_reference.add_conformer(\n",
    "        bond_length\n",
    "        * Quantity(\n",
    "            [\n",
    "                [0.0, 0.0, 0.0],\n",
    "                [-sin(theta / 2), cos(theta / 2), 0.0],\n",
    "                [sin(theta / 2), cos(theta / 2), 0.0],\n",
    "            ]\n",
    "        )\n",
    "    )\n",
    "\n",
    "    for i, xyz in enumerate(XYZ):\n",
    "        water_box[i] = Molecule(water_reference)\n",
    "        water_box[i].conformers[0] = water_box[i].conformers[0] + xyz * unit.angstrom\n",
    "\n",
    "    return water_box\n",
    "\n",
    "\n",
    "def reorder(\n",
    "    number_molecules: int,\n",
    "    atoms_per_molecule: int = 3,\n",
    "    virtual_sites_per_molecule: int = 2,\n",
    ") -> list[int]:\n",
    "    \"\"\"Return an mapping between collated and un-collated particle indices.\"\"\"\n",
    "    particles_per_molecule = atoms_per_molecule + virtual_sites_per_molecule\n",
    "\n",
    "    atoms = list()\n",
    "    virtual_sites = list()\n",
    "\n",
    "    for particle_index in range(number_molecules * particles_per_molecule):\n",
    "        if particle_index % particles_per_molecule < atoms_per_molecule:\n",
    "            atoms.append(particle_index)\n",
    "        else:\n",
    "            virtual_sites.append(particle_index)\n",
    "\n",
    "    return atoms + virtual_sites"
   ]
  },
  {
   "cell_type": "code",
   "execution_count": 10,
   "metadata": {
    "pycharm": {
     "name": "#%%\n"
    }
   },
   "outputs": [],
   "source": [
    "def evaluate_openmm(\n",
    "    water: list[Molecule],\n",
    "    openmm_force_field: openmm.app.ForceField,\n",
    "    minimize: bool = False,\n",
    "):\n",
    "    \"\"\"\n",
    "    Given a list of molecules and a force field definition, calculate the\n",
    "    positions and energy.\n",
    "\n",
    "    Parameters\n",
    "    ----------\n",
    "        water: list[Molecule], each with a 3D conformation\n",
    "        openmm_force_field: openmm.app.ForceField, OpenMM ForceField object\n",
    "        minimize: bool, default = False, whether the structure should be minimized\n",
    "\n",
    "    Returns\n",
    "    -------\n",
    "        xyz: List The coordinates of all particles in the system (OpenMM ordering)\n",
    "        ene: float, The potential energy\n",
    "    \"\"\"\n",
    "\n",
    "    # First, get an OpenMM Topology and atom positions with no virtual sites\n",
    "    _topology: openmm.app.Topology = Topology.from_molecules(water).to_openmm()\n",
    "\n",
    "    atom_positions_unitless = numpy.vstack(\n",
    "        [mol.conformers[0].m_as(unit.nanometer) for mol in water]\n",
    "    )\n",
    "    atom_positions = openmm.unit.Quantity(\n",
    "        atom_positions_unitless, openmm.unit.nanometer\n",
    "    )\n",
    "\n",
    "    # Use OpenMM's Modeller to add virtual particles as perscribed by the force field\n",
    "    modeller = openmm.app.Modeller(_topology, atom_positions)\n",
    "    modeller.addExtraParticles(openmm_force_field)\n",
    "\n",
    "    # This topology includes virtual particles, so we can use it to create a System\n",
    "    topology = modeller.getTopology()\n",
    "\n",
    "    system: openmm.System = openmm_force_field.createSystem(\n",
    "        topology, nonbondedMethod=openmm.app.NoCutoff\n",
    "    )\n",
    "\n",
    "    # Add positions of virtual particles now that the topology includes them\n",
    "    particle_positions = modeller.getPositions()\n",
    "\n",
    "    return _evaluate_positions_and_energy(\n",
    "        topology, system, particle_positions, minimize=minimize\n",
    "    )"
   ]
  },
  {
   "cell_type": "code",
   "execution_count": 11,
   "metadata": {
    "pycharm": {
     "name": "#%%\n"
    }
   },
   "outputs": [],
   "source": [
    "def evaluate_openff(\n",
    "    water: list[Molecule],\n",
    "    force_field: ForceField,\n",
    "    minimize: bool = False,\n",
    "):\n",
    "    \"\"\"\n",
    "    Given a list of molecules and a force field definition, calculate the\n",
    "    positions and energy.\n",
    "\n",
    "    Parameters\n",
    "    ----------\n",
    "        water: list[Molecule], each with a 3D conformation\n",
    "        force_field: ForceField, an OpenFF ForceField object\n",
    "        minimize: boolean, default= False, whether the structure should be minimized\n",
    "\n",
    "    Returns\n",
    "    -------\n",
    "        xyz: list The coordinates of all particles in the system (OpenMM ordering)\n",
    "        ene: float, The potential energy\n",
    "    \"\"\"\n",
    "    from openff.interchange.interop.openmm import to_openmm_positions\n",
    "\n",
    "    openff_topology = Topology.from_molecules(water)\n",
    "    interchange = Interchange.from_smirnoff(force_field, openff_topology)\n",
    "\n",
    "    return _evaluate_positions_and_energy(\n",
    "        interchange.to_openmm_topology(),\n",
    "        interchange.to_openmm(combine_nonbonded_forces=True),\n",
    "        to_openmm_positions(interchange),\n",
    "    )"
   ]
  },
  {
   "cell_type": "markdown",
   "metadata": {},
   "source": [
    "Next, construct TIP5P force fields from each software project:"
   ]
  },
  {
   "cell_type": "code",
   "execution_count": 12,
   "metadata": {
    "pycharm": {
     "name": "#%%\n"
    }
   },
   "outputs": [],
   "source": [
    "# The TIP5P force field in SMIRNOFF format, provided by the OpenFF Toolkit\n",
    "openff_force_field = ForceField(\"tip5p.offxml\")\n",
    "\n",
    "# The OpenMM definition of TIP5P\n",
    "openmm_force_field = openmm.app.ForceField(\"tip5p.xml\")"
   ]
  },
  {
   "cell_type": "markdown",
   "metadata": {},
   "source": [
    "Finally, compare them:"
   ]
  },
  {
   "cell_type": "code",
   "execution_count": 13,
   "metadata": {
    "pycharm": {
     "name": "#%%\n"
    },
    "scrolled": true
   },
   "outputs": [],
   "source": [
    "minimize = False\n",
    "\n",
    "num_duplicates = (2, 2, 2)  # 2x2x2 = 8 water molecules\n",
    "spacing = (3.0, 3.0, 3.0)  # water spaced 3A apart in each direction\n",
    "\n",
    "waters = build_water_lattice(num_duplicates, spacing)\n",
    "\n",
    "# Generate OpenFF coordinates and energies\n",
    "off_crds, off_ene = evaluate_openff(waters, openff_force_field, minimize=minimize)\n",
    "off_crds = numpy.array(off_crds.value_in_unit(openmm.unit.angstrom))\n",
    "\n",
    "# Generate OpenMM coordinates and energies\n",
    "omm_crds, omm_ene = evaluate_openmm(waters, openmm_force_field, minimize=minimize)\n",
    "omm_crds = numpy.array(omm_crds.value_in_unit(openmm.unit.angstrom))\n",
    "\n",
    "# Compute the RMS difference in atom positions per molecule, reordering\n",
    "# OpenMM coordinates to match OpenFF.\n",
    "coordinate_difference = Quantity(\n",
    "    numpy.linalg.norm(off_crds - omm_crds[reorder(numpy.prod(num_duplicates)), :]),\n",
    "    unit.angstrom,\n",
    ")\n",
    "coordinate_difference /= numpy.prod(num_duplicates)\n",
    "# Compute the mean energy difference per molecule\n",
    "energy_difference = abs(off_ene - omm_ene) / numpy.prod(num_duplicates)"
   ]
  },
  {
   "cell_type": "markdown",
   "metadata": {},
   "source": [
    "And take a look!"
   ]
  },
  {
   "cell_type": "code",
   "execution_count": 14,
   "metadata": {},
   "outputs": [
    {
     "name": "stdout",
     "output_type": "stream",
     "text": [
      "Results for: OpenFF – OpenMM comparison (per molecule) \n",
      "Energy difference (kilojoule / mole):\n",
      "\t4.101e-05\n",
      "Coordinates difference (angstrom, norm):\n",
      "\t1.840e-07\n",
      "\n"
     ]
    }
   ],
   "source": [
    "from openff.units.openmm import from_openmm\n",
    "\n",
    "_energy_difference = from_openmm(energy_difference)\n",
    "\n",
    "print(\n",
    "    f\"Results for: OpenFF – OpenMM comparison (per molecule) \\n\"\n",
    "    f\"Energy difference ({_energy_difference.units}):\\n\\t\"\n",
    "    f\"{_energy_difference.m:0.3e}\\n\"\n",
    "    f\"Coordinates difference ({coordinate_difference.units}, norm):\\n\\t\"\n",
    "    f\"{coordinate_difference.m:0.3e}\\n\"\n",
    ")\n",
    "\n",
    "assert coordinate_difference < Quantity(\n",
    "    1e-6, unit.angstrom\n",
    "), f\"Coordinates differ by a norm of {coordinate_difference}\"\n",
    "assert (\n",
    "    energy_difference < 1e-4 * openmm.unit.kilojoule_per_mole\n",
    "), f\"Energies differ by {energy_difference}\""
   ]
  },
  {
   "cell_type": "markdown",
   "metadata": {},
   "source": [
    "This tiny difference is expected, and comes from the slightly different geometric definitions of the virtual sites, as described above."
   ]
  }
 ],
 "metadata": {
  "category": "force_field_dev",
  "kernelspec": {
   "display_name": "Python 3 (ipykernel)",
   "language": "python",
   "name": "python3"
  },
  "language_info": {
   "codemirror_mode": {
    "name": "ipython",
    "version": 3
   },
   "file_extension": ".py",
   "mimetype": "text/x-python",
   "name": "python",
   "nbconvert_exporter": "python",
   "pygments_lexer": "ipython3",
   "version": "3.10.10"
  },
  "widgets": {
   "application/vnd.jupyter.widget-state+json": {
    "state": {
     "0049380d0d57478cb17bea4065f73ffb": {
      "model_module": "@jupyter-widgets/controls",
      "model_module_version": "2.0.0",
      "model_name": "LinkModel",
      "state": {
       "source": [
        "IPY_MODEL_cf5027519ac842ab927502a5f754a23e",
        "max"
       ],
       "target": [
        "IPY_MODEL_2622bad435364326acbe4c1749101b81",
        "max_frame"
       ]
      }
     },
     "0a6f2424effb499c98386b0242e68c3f": {
      "model_module": "@jupyter-widgets/controls",
      "model_module_version": "2.0.0",
      "model_name": "LinkModel",
      "state": {
       "source": [
        "IPY_MODEL_c149773df8aa4d51913cef381ff3d75d",
        "max"
       ],
       "target": [
        "IPY_MODEL_2622bad435364326acbe4c1749101b81",
        "max_frame"
       ]
      }
     },
     "1096f027696443959b04153bab452614": {
      "model_module": "@jupyter-widgets/base",
      "model_module_version": "2.0.0",
      "model_name": "LayoutModel",
      "state": {}
     },
     "2622bad435364326acbe4c1749101b81": {
      "model_module": "nglview-js-widgets",
      "model_module_version": "3.0.8",
      "model_name": "NGLModel",
      "state": {
       "_camera_orientation": [
        33.03847050994658,
        0,
        0,
        0,
        0,
        33.03847050994658,
        0,
        0,
        0,
        0,
        33.03847050994658,
        0,
        -0.022500038146972656,
        -0.019500017166137695,
        -0.7969999313354492,
        1
       ],
       "_camera_str": "orthographic",
       "_gui_theme": null,
       "_ibtn_fullscreen": "IPY_MODEL_e525a255582444f19b8982fdd91df7f5",
       "_igui": null,
       "_iplayer": "IPY_MODEL_fbde0cad197a445caf7a3e6bdde47bb8",
       "_ngl_color_dict": {},
       "_ngl_coordinate_resource": {},
       "_ngl_full_stage_parameters": {
        "ambientColor": 14540253,
        "ambientIntensity": 0.2,
        "backgroundColor": "white",
        "cameraEyeSep": 0.3,
        "cameraFov": 40,
        "cameraType": "perspective",
        "clipDist": 10,
        "clipFar": 100,
        "clipMode": "scene",
        "clipNear": 0,
        "clipScale": "relative",
        "fogFar": 100,
        "fogNear": 50,
        "hoverTimeout": 0,
        "impostor": true,
        "lightColor": 14540253,
        "lightIntensity": 1,
        "mousePreset": "default",
        "panSpeed": 1,
        "quality": "medium",
        "rotateSpeed": 2,
        "sampleLevel": 0,
        "tooltip": true,
        "workerDefault": true,
        "zoomSpeed": 1.2
       },
       "_ngl_msg_archive": [
        {
         "args": [
          {
           "binary": false,
           "data": "MODEL        0\nATOM      1  C1x UNK A   1       3.689  -1.557   0.129  1.00  0.00           C  \nATOM      2  C2x UNK A   1       4.990  -0.950  -0.011  1.00  0.00           C  \nATOM      3  C3x UNK A   1       5.121   0.409   0.258  1.00  0.00           C  \nATOM      4 Cl1x UNK A   1       6.582   1.175   0.070  1.00  0.00          Cl  \nATOM      5  C4x UNK A   1       4.026   1.191   0.647  1.00  0.00           C  \nATOM      6  C5x UNK A   1       2.756   0.609   0.791  1.00  0.00           C  \nATOM      7  C6x UNK A   1       2.545  -0.782   0.515  1.00  0.00           C  \nATOM      8  C7x UNK A   1       1.170  -1.396   0.665  1.00  0.00           C  \nATOM      9  O1x UNK A   1       1.045  -2.607   0.585  1.00  0.00           O  \nATOM     10  C8x UNK A   1      -0.095  -0.572   1.081  1.00  0.00           C  \nATOM     11  S1x UNK A   1      -0.802   0.409  -0.366  1.00  0.00           S  \nATOM     12  C9x UNK A   1      -2.502   0.502   0.130  1.00  0.00           C  \nATOM     13 C10x UNK A   1      -3.063   1.772   0.341  1.00  0.00           C  \nATOM     14  O2x UNK A   1      -4.415   1.914   0.632  1.00  0.00           O  \nATOM     15 C11x UNK A   1      -5.144   0.694   1.000  1.00  0.00           C  \nATOM     16  F1x UNK A   1      -4.821   0.302   2.294  1.00  0.00           F  \nATOM     17  F2x UNK A   1      -6.491   0.810   1.067  1.00  0.00           F  \nATOM     18 C12x UNK A   1      -4.731  -0.475  -0.039  1.00  0.00           C  \nATOM     19 C13x UNK A   1      -3.282  -0.764   0.181  1.00  0.00           C  \nATOM     20  H1x UNK A   1       3.498  -2.615   0.008  1.00  0.00           H  \nATOM     21  H2x UNK A   1       5.842  -1.518  -0.361  1.00  0.00           H  \nATOM     22  H3x UNK A   1       4.199   2.246   0.810  1.00  0.00           H  \nATOM     23  H4x UNK A   1       1.956   1.272   1.091  1.00  0.00           H  \nATOM     24  H5x UNK A   1      -0.858  -1.231   1.496  1.00  0.00           H  \nATOM     25  H6x UNK A   1       0.188   0.126   1.869  1.00  0.00           H  \nATOM     26  H7x UNK A   1      -2.444   2.654   0.245  1.00  0.00           H  \nATOM     27  H8x UNK A   1      -4.877  -0.157  -1.072  1.00  0.00           H  \nATOM     28  H9x UNK A   1      -5.338  -1.339   0.231  1.00  0.00           H  \nATOM     29 H10x UNK A   1      -3.143  -1.232   1.156  1.00  0.00           H  \nATOM     30 H11x UNK A   1      -2.995  -1.448  -0.618  1.00  0.00           H  \nATOM     31 EP   UNK A   1      -0.524   1.049  -0.422  1.00  0.00          VS  \nATOM     32 EP   UNK A   1      -0.740   0.074  -0.978  1.00  0.00          VS  \nATOM     33 EP   UNK A   1       6.934   1.359   0.025  1.00  0.00          VS  \nATOM     34 EP   UNK A   1      -4.729   0.189   2.666  1.00  0.00          VS  \nATOM     35 EP   UNK A   1      -6.889   0.844   1.086  1.00  0.00          VS  \nTER      36      UNK A   1\nENDMDL\nEND\n",
           "type": "blob"
          }
         ],
         "kwargs": {
          "defaultRepresentation": true,
          "ext": "pdb",
          "name": "nglview.adaptor.MDTrajTrajectory"
         },
         "methodName": "loadFile",
         "reconstruc_color_scheme": false,
         "target": "Stage",
         "type": "call_method"
        }
       ],
       "_ngl_original_stage_parameters": {
        "ambientColor": 14540253,
        "ambientIntensity": 0.2,
        "backgroundColor": "white",
        "cameraEyeSep": 0.3,
        "cameraFov": 40,
        "cameraType": "perspective",
        "clipDist": 10,
        "clipFar": 100,
        "clipMode": "scene",
        "clipNear": 0,
        "clipScale": "relative",
        "fogFar": 100,
        "fogNear": 50,
        "hoverTimeout": 0,
        "impostor": true,
        "lightColor": 14540253,
        "lightIntensity": 1,
        "mousePreset": "default",
        "panSpeed": 1,
        "quality": "medium",
        "rotateSpeed": 2,
        "sampleLevel": 0,
        "tooltip": true,
        "workerDefault": true,
        "zoomSpeed": 1.2
       },
       "_ngl_repr_dict": {
        "0": {
         "0": {
          "params": {
           "aspectRatio": 1.5,
           "assembly": "default",
           "bondScale": 0.3,
           "bondSpacing": 0.75,
           "clipCenter": {
            "x": 0,
            "y": 0,
            "z": 0
           },
           "clipNear": 0,
           "clipRadius": 0,
           "colorMode": "hcl",
           "colorReverse": false,
           "colorScale": "",
           "colorScheme": "element",
           "colorValue": 9474192,
           "cylinderOnly": false,
           "defaultAssembly": "",
           "depthWrite": true,
           "diffuse": 16777215,
           "diffuseInterior": false,
           "disableImpostor": false,
           "disablePicking": false,
           "flatShaded": false,
           "interiorColor": 2236962,
           "interiorDarkening": 0,
           "lazy": false,
           "lineOnly": false,
           "linewidth": 2,
           "matrix": {
            "elements": [
             1,
             0,
             0,
             0,
             0,
             1,
             0,
             0,
             0,
             0,
             1,
             0,
             0,
             0,
             0,
             1
            ]
           },
           "metalness": 0,
           "multipleBond": "off",
           "opacity": 1,
           "openEnded": true,
           "quality": "high",
           "radialSegments": 20,
           "radiusData": {},
           "radiusScale": 2,
           "radiusSize": 0.15,
           "radiusType": "size",
           "roughness": 0.4,
           "sele": "",
           "side": "double",
           "sphereDetail": 2,
           "useInteriorColor": true,
           "visible": true,
           "wireframe": false
          },
          "type": "ball+stick"
         }
        }
       },
       "_ngl_serialize": false,
       "_ngl_version": "2.0.0-dev.39",
       "_ngl_view_id": [
        "5DEA8536-9354-4E95-87BC-7B464C6F97CD"
       ],
       "_player_dict": {},
       "_scene_position": {},
       "_scene_rotation": {},
       "_synced_model_ids": [],
       "_synced_repr_model_ids": [],
       "_view_height": "",
       "_view_width": "",
       "background": "white",
       "frame": 0,
       "gui_style": null,
       "layout": "IPY_MODEL_61e8baf3309e4cfe9d034a6d16a45141",
       "max_frame": 99,
       "n_components": 1,
       "picked": {}
      }
     },
     "470a13a62ae94fe6876648cb0718de02": {
      "model_module": "@jupyter-widgets/controls",
      "model_module_version": "2.0.0",
      "model_name": "ButtonStyleModel",
      "state": {
       "font_family": null,
       "font_size": null,
       "font_style": null,
       "font_variant": null,
       "font_weight": null,
       "text_color": null,
       "text_decoration": null
      }
     },
     "579a70813e5c4f469e3895c214a4be01": {
      "model_module": "@jupyter-widgets/controls",
      "model_module_version": "2.0.0",
      "model_name": "LinkModel",
      "state": {
       "source": [
        "IPY_MODEL_c149773df8aa4d51913cef381ff3d75d",
        "value"
       ],
       "target": [
        "IPY_MODEL_cf5027519ac842ab927502a5f754a23e",
        "value"
       ]
      }
     },
     "5d0aae78d87c4d8caf5fa2b8403683d7": {
      "model_module": "@jupyter-widgets/base",
      "model_module_version": "2.0.0",
      "model_name": "LayoutModel",
      "state": {}
     },
     "5ff950c555634284b45d0f00282be81a": {
      "model_module": "@jupyter-widgets/base",
      "model_module_version": "2.0.0",
      "model_name": "LayoutModel",
      "state": {}
     },
     "61e8baf3309e4cfe9d034a6d16a45141": {
      "model_module": "@jupyter-widgets/base",
      "model_module_version": "2.0.0",
      "model_name": "LayoutModel",
      "state": {}
     },
     "649f9110bf47447290dad258844a4d64": {
      "model_module": "@jupyter-widgets/controls",
      "model_module_version": "2.0.0",
      "model_name": "DescriptionStyleModel",
      "state": {
       "description_width": ""
      }
     },
     "67a41f08b90446da832e228b2fc2cba5": {
      "model_module": "@jupyter-widgets/base",
      "model_module_version": "2.0.0",
      "model_name": "LayoutModel",
      "state": {}
     },
     "7f4e1ebf5c0641b8b890abb69aea3289": {
      "model_module": "nglview-js-widgets",
      "model_module_version": "3.0.8",
      "model_name": "ColormakerRegistryModel",
      "state": {
       "_msg_ar": [],
       "_msg_q": [],
       "_ready": true,
       "layout": "IPY_MODEL_67a41f08b90446da832e228b2fc2cba5"
      }
     },
     "92dae8121969453bac4ec3198e978515": {
      "model_module": "@jupyter-widgets/controls",
      "model_module_version": "2.0.0",
      "model_name": "ImageModel",
      "state": {
       "layout": "IPY_MODEL_c9158590735c49619e4a5801013c41da",
       "width": "900.0"
      }
     },
     "ab680e26e79b40bfbc0d883a20f4f570": {
      "model_module": "@jupyter-widgets/controls",
      "model_module_version": "2.0.0",
      "model_name": "LinkModel",
      "state": {
       "source": [
        "IPY_MODEL_c149773df8aa4d51913cef381ff3d75d",
        "value"
       ],
       "target": [
        "IPY_MODEL_2622bad435364326acbe4c1749101b81",
        "frame"
       ]
      }
     },
     "bc560b7648a9427f90f0e66e84fca3ac": {
      "model_module": "@jupyter-widgets/base",
      "model_module_version": "2.0.0",
      "model_name": "LayoutModel",
      "state": {
       "width": "34px"
      }
     },
     "c149773df8aa4d51913cef381ff3d75d": {
      "model_module": "@jupyter-widgets/controls",
      "model_module_version": "2.0.0",
      "model_name": "PlayModel",
      "state": {
       "layout": "IPY_MODEL_1096f027696443959b04153bab452614",
       "max": 99,
       "style": "IPY_MODEL_649f9110bf47447290dad258844a4d64"
      }
     },
     "c9158590735c49619e4a5801013c41da": {
      "model_module": "@jupyter-widgets/base",
      "model_module_version": "2.0.0",
      "model_name": "LayoutModel",
      "state": {}
     },
     "cf5027519ac842ab927502a5f754a23e": {
      "model_module": "@jupyter-widgets/controls",
      "model_module_version": "2.0.0",
      "model_name": "IntSliderModel",
      "state": {
       "behavior": "drag-tap",
       "layout": "IPY_MODEL_5ff950c555634284b45d0f00282be81a",
       "max": 99,
       "style": "IPY_MODEL_fa483bf5fca74594a8660ae27966979a"
      }
     },
     "e525a255582444f19b8982fdd91df7f5": {
      "model_module": "@jupyter-widgets/controls",
      "model_module_version": "2.0.0",
      "model_name": "ButtonModel",
      "state": {
       "icon": "compress",
       "layout": "IPY_MODEL_bc560b7648a9427f90f0e66e84fca3ac",
       "style": "IPY_MODEL_470a13a62ae94fe6876648cb0718de02",
       "tooltip": null
      }
     },
     "fa483bf5fca74594a8660ae27966979a": {
      "model_module": "@jupyter-widgets/controls",
      "model_module_version": "2.0.0",
      "model_name": "SliderStyleModel",
      "state": {
       "description_width": ""
      }
     },
     "fbde0cad197a445caf7a3e6bdde47bb8": {
      "model_module": "@jupyter-widgets/controls",
      "model_module_version": "2.0.0",
      "model_name": "HBoxModel",
      "state": {
       "children": [
        "IPY_MODEL_c149773df8aa4d51913cef381ff3d75d",
        "IPY_MODEL_cf5027519ac842ab927502a5f754a23e"
       ],
       "layout": "IPY_MODEL_5d0aae78d87c4d8caf5fa2b8403683d7"
      }
     }
    },
    "version_major": 2,
    "version_minor": 0
   }
  }
 },
 "nbformat": 4,
 "nbformat_minor": 4
}

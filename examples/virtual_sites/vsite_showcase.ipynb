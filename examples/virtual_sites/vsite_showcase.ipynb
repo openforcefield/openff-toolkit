{
 "cells": [
  {
   "cell_type": "markdown",
   "metadata": {},
   "source": [
    "# Virtual Sites Showcase"
   ]
  },
  {
   "cell_type": "code",
   "execution_count": 1,
   "metadata": {
    "pycharm": {
     "name": "#%%\n"
    }
   },
   "outputs": [
    {
     "data": {
      "application/vnd.jupyter.widget-view+json": {
       "model_id": "267e8f50575242cbbe5011f419090bc7",
       "version_major": 2,
       "version_minor": 0
      },
      "text/plain": []
     },
     "metadata": {},
     "output_type": "display_data"
    }
   ],
   "source": [
    "import time\n",
    "\n",
    "import openmm\n",
    "import openmm.app\n",
    "import openmm.unit\n",
    "from openff.interchange import Interchange\n",
    "\n",
    "from openff.toolkit import ForceField, Molecule, Topology"
   ]
  },
  {
   "cell_type": "code",
   "execution_count": 2,
   "metadata": {},
   "outputs": [],
   "source": [
    "def prepare_simulation(interchange: Interchange) -> openmm.app.Simulation:\n",
    "    \"\"\"Propagate an OpenMM System with Langevin dynamics.\"\"\"\n",
    "    time_step = 2 * openmm.unit.femtoseconds\n",
    "    temperature = 300 * openmm.unit.kelvin\n",
    "    friction = 1 / openmm.unit.picosecond\n",
    "    integrator = openmm.LangevinIntegrator(temperature, friction, time_step)\n",
    "\n",
    "    trj_freq, data_freq = 100, 100\n",
    "\n",
    "    simulation = interchange.to_openmm_simulation(integrator=integrator)\n",
    "\n",
    "    # It's important to run energy minimization before computing velocities; otherwise the initial\n",
    "    # velocities may be too high as a result of high initial forces, causing a crash\n",
    "    # See https://github.com/openmm/openmm/issues/3736#issuecomment-1217250635\n",
    "    simulation.minimizeEnergy()\n",
    "\n",
    "    # Since we placed all virtual sites at [0.0, 0.0, 0.0], compute virtual site positions to avoid a crash\n",
    "    simulation.context.computeVirtualSites()\n",
    "\n",
    "    simulation.context.setVelocitiesToTemperature(temperature)\n",
    "\n",
    "    pdb_reporter = openmm.app.PDBReporter(\"trajectory.pdb\", trj_freq)\n",
    "    state_data_reporter = openmm.app.StateDataReporter(\n",
    "        \"data.csv\",\n",
    "        data_freq,\n",
    "        step=True,\n",
    "        potentialEnergy=True,\n",
    "        temperature=True,\n",
    "        density=True,\n",
    "    )\n",
    "    simulation.reporters.append(pdb_reporter)\n",
    "    simulation.reporters.append(state_data_reporter)\n",
    "\n",
    "    return simulation\n",
    "\n",
    "\n",
    "def run_simulation(simulation: openmm.app.Simulation, num_steps: int = 1000):\n",
    "    print(\"Starting simulation\")\n",
    "    start = time.process_time()\n",
    "\n",
    "    simulation.step(num_steps)\n",
    "\n",
    "    end = time.process_time()\n",
    "    print(\"Elapsed time %.2f seconds\" % (end - start))\n",
    "    print(\"Done!\")"
   ]
  },
  {
   "cell_type": "markdown",
   "metadata": {
    "pycharm": {
     "name": "#%% md\n"
    }
   },
   "source": [
    "## Part 1: Run a short simulation with a virtual sites on sulfur lone pair and chloride groups"
   ]
  },
  {
   "cell_type": "code",
   "execution_count": 3,
   "metadata": {
    "pycharm": {
     "name": "#%%\n"
    }
   },
   "outputs": [],
   "source": [
    "vsite_offxml = \"\"\"<?xml version=\"1.0\" encoding=\"utf-8\"?>\n",
    "<SMIRNOFF version=\"0.3\" aromaticity_model=\"OEAroModel_MDL\">\n",
    "    <VirtualSites version=\"0.3\">\n",
    "        <VirtualSite\n",
    "            type=\"DivalentLonePair\"\n",
    "            name=\"EP\"\n",
    "            smirks=\"[*:2]-[#16X2:1]-[*:3]\"\n",
    "            distance=\"0.70 * angstrom\"\n",
    "            charge_increment1=\"0.1205*elementary_charge\"\n",
    "            charge_increment2=\"0.0*elementary_charge\"\n",
    "            charge_increment3=\"0.1205*elementary_charge\"\n",
    "            sigma=\"0.1*angstrom\"\n",
    "            epsilon=\"0.0*kilocalories_per_mole\"\n",
    "            outOfPlaneAngle=\"54.71384225*degree\"\n",
    "            match=\"all_permutations\" >\n",
    "        </VirtualSite>\n",
    "        <VirtualSite\n",
    "            type=\"BondCharge\"\n",
    "            name=\"EP\"\n",
    "            smirks=\"[*:2][Cl:1]\"\n",
    "            distance=\"0.4*angstrom\"\n",
    "            charge_increment1=\"0.2*elementary_charge\"\n",
    "            charge_increment2=\"0.0*elementary_charge\"\n",
    "            sigma=\"0.1*angstrom\"\n",
    "            epsilon=\"0.05*kilocalories_per_mole\"\n",
    "            match=\"all_permutations\" >\n",
    "        </VirtualSite>\n",
    "        <VirtualSite\n",
    "            type=\"BondCharge\"\n",
    "            name=\"EP\"\n",
    "            smirks=\"[*:2][F:1]\"\n",
    "            distance=\"0.4*angstrom\"\n",
    "            charge_increment1=\"0.2*elementary_charge\"\n",
    "            charge_increment2=\"0.0*elementary_charge\"\n",
    "            sigma=\"0.1*angstrom\"\n",
    "            epsilon=\"0.05*kilocalories_per_mole\"\n",
    "            match=\"all_permutations\" >\n",
    "        </VirtualSite>\n",
    "    </VirtualSites>\n",
    "</SMIRNOFF>\n",
    "\"\"\"\n",
    "force_field = ForceField(\"openff-2.1.0.offxml\", vsite_offxml)"
   ]
  },
  {
   "cell_type": "code",
   "execution_count": 4,
   "metadata": {
    "pycharm": {
     "name": "#%%\n"
    }
   },
   "outputs": [
    {
     "data": {
      "image/svg+xml": [
       "<svg xmlns=\"http://www.w3.org/2000/svg\" xmlns:rdkit=\"http://www.rdkit.org/xml\" xmlns:xlink=\"http://www.w3.org/1999/xlink\" version=\"1.1\" baseProfile=\"full\" xml:space=\"preserve\" width=\"500px\" height=\"300px\" viewBox=\"0 0 500 300\">\n",
       "<!-- END OF HEADER -->\n",
       "<rect style=\"opacity:1.0;fill:#FFFFFF;stroke:none\" width=\"500.0\" height=\"300.0\" x=\"0.0\" y=\"0.0\"> </rect>\n",
       "<path class=\"bond-0 atom-0 atom-6\" d=\"M 237.9,115.0 L 264.9,99.5\" style=\"fill:none;fill-rule:evenodd;stroke:#000000;stroke-width:2.0px;stroke-linecap:butt;stroke-linejoin:miter;stroke-opacity:1\"/>\n",
       "<path class=\"bond-0 atom-0 atom-6\" d=\"M 237.9,109.7 L 260.3,96.8\" style=\"fill:none;fill-rule:evenodd;stroke:#000000;stroke-width:2.0px;stroke-linecap:butt;stroke-linejoin:miter;stroke-opacity:1\"/>\n",
       "<path class=\"bond-1 atom-0 atom-1\" d=\"M 237.9,115.0 L 210.9,99.5\" style=\"fill:none;fill-rule:evenodd;stroke:#000000;stroke-width:2.0px;stroke-linecap:butt;stroke-linejoin:miter;stroke-opacity:1\"/>\n",
       "<path class=\"bond-2 atom-1 atom-2\" d=\"M 210.9,99.5 L 211.0,68.3\" style=\"fill:none;fill-rule:evenodd;stroke:#000000;stroke-width:2.0px;stroke-linecap:butt;stroke-linejoin:miter;stroke-opacity:1\"/>\n",
       "<path class=\"bond-2 atom-1 atom-2\" d=\"M 215.6,96.8 L 215.6,70.9\" style=\"fill:none;fill-rule:evenodd;stroke:#000000;stroke-width:2.0px;stroke-linecap:butt;stroke-linejoin:miter;stroke-opacity:1\"/>\n",
       "<path class=\"bond-3 atom-2 atom-3\" d=\"M 211.0,68.3 L 198.4,61.0\" style=\"fill:none;fill-rule:evenodd;stroke:#000000;stroke-width:2.0px;stroke-linecap:butt;stroke-linejoin:miter;stroke-opacity:1\"/>\n",
       "<path class=\"bond-3 atom-2 atom-3\" d=\"M 198.4,61.0 L 185.9,53.8\" style=\"fill:none;fill-rule:evenodd;stroke:#00CC00;stroke-width:2.0px;stroke-linecap:butt;stroke-linejoin:miter;stroke-opacity:1\"/>\n",
       "<path class=\"bond-4 atom-2 atom-4\" d=\"M 211.0,68.3 L 237.9,52.8\" style=\"fill:none;fill-rule:evenodd;stroke:#000000;stroke-width:2.0px;stroke-linecap:butt;stroke-linejoin:miter;stroke-opacity:1\"/>\n",
       "<path class=\"bond-5 atom-4 atom-5\" d=\"M 237.9,52.8 L 264.9,68.3\" style=\"fill:none;fill-rule:evenodd;stroke:#000000;stroke-width:2.0px;stroke-linecap:butt;stroke-linejoin:miter;stroke-opacity:1\"/>\n",
       "<path class=\"bond-5 atom-4 atom-5\" d=\"M 237.9,58.1 L 260.3,71.0\" style=\"fill:none;fill-rule:evenodd;stroke:#000000;stroke-width:2.0px;stroke-linecap:butt;stroke-linejoin:miter;stroke-opacity:1\"/>\n",
       "<path class=\"bond-6 atom-5 atom-6\" d=\"M 264.9,68.3 L 264.9,99.5\" style=\"fill:none;fill-rule:evenodd;stroke:#000000;stroke-width:2.0px;stroke-linecap:butt;stroke-linejoin:miter;stroke-opacity:1\"/>\n",
       "<path class=\"bond-7 atom-6 atom-7\" d=\"M 264.9,99.5 L 291.8,114.6\" style=\"fill:none;fill-rule:evenodd;stroke:#000000;stroke-width:2.0px;stroke-linecap:butt;stroke-linejoin:miter;stroke-opacity:1\"/>\n",
       "<path class=\"bond-8 atom-7 atom-8\" d=\"M 291.8,117.3 L 302.3,111.2\" style=\"fill:none;fill-rule:evenodd;stroke:#000000;stroke-width:2.0px;stroke-linecap:butt;stroke-linejoin:miter;stroke-opacity:1\"/>\n",
       "<path class=\"bond-8 atom-7 atom-8\" d=\"M 302.3,111.2 L 312.7,105.0\" style=\"fill:none;fill-rule:evenodd;stroke:#FF0000;stroke-width:2.0px;stroke-linecap:butt;stroke-linejoin:miter;stroke-opacity:1\"/>\n",
       "<path class=\"bond-8 atom-7 atom-8\" d=\"M 289.4,113.3 L 299.9,107.2\" style=\"fill:none;fill-rule:evenodd;stroke:#000000;stroke-width:2.0px;stroke-linecap:butt;stroke-linejoin:miter;stroke-opacity:1\"/>\n",
       "<path class=\"bond-8 atom-7 atom-8\" d=\"M 299.9,107.2 L 310.4,101.0\" style=\"fill:none;fill-rule:evenodd;stroke:#FF0000;stroke-width:2.0px;stroke-linecap:butt;stroke-linejoin:miter;stroke-opacity:1\"/>\n",
       "<path class=\"bond-9 atom-7 atom-9\" d=\"M 291.8,114.6 L 292.1,145.1\" style=\"fill:none;fill-rule:evenodd;stroke:#000000;stroke-width:2.0px;stroke-linecap:butt;stroke-linejoin:miter;stroke-opacity:1\"/>\n",
       "<path class=\"bond-10 atom-9 atom-10\" d=\"M 292.1,145.1 L 281.0,151.6\" style=\"fill:none;fill-rule:evenodd;stroke:#000000;stroke-width:2.0px;stroke-linecap:butt;stroke-linejoin:miter;stroke-opacity:1\"/>\n",
       "<path class=\"bond-10 atom-9 atom-10\" d=\"M 281.0,151.6 L 270.0,158.2\" style=\"fill:none;fill-rule:evenodd;stroke:#CCCC00;stroke-width:2.0px;stroke-linecap:butt;stroke-linejoin:miter;stroke-opacity:1\"/>\n",
       "<path class=\"bond-11 atom-10 atom-11\" d=\"M 264.7,169.3 L 264.6,181.0\" style=\"fill:none;fill-rule:evenodd;stroke:#CCCC00;stroke-width:2.0px;stroke-linecap:butt;stroke-linejoin:miter;stroke-opacity:1\"/>\n",
       "<path class=\"bond-11 atom-10 atom-11\" d=\"M 264.6,181.0 L 264.6,192.8\" style=\"fill:none;fill-rule:evenodd;stroke:#000000;stroke-width:2.0px;stroke-linecap:butt;stroke-linejoin:miter;stroke-opacity:1\"/>\n",
       "<path class=\"bond-12 atom-11 atom-18\" d=\"M 264.6,192.8 L 237.7,208.5\" style=\"fill:none;fill-rule:evenodd;stroke:#000000;stroke-width:2.0px;stroke-linecap:butt;stroke-linejoin:miter;stroke-opacity:1\"/>\n",
       "<path class=\"bond-13 atom-11 atom-12\" d=\"M 264.6,192.8 L 291.6,208.4\" style=\"fill:none;fill-rule:evenodd;stroke:#000000;stroke-width:2.0px;stroke-linecap:butt;stroke-linejoin:miter;stroke-opacity:1\"/>\n",
       "<path class=\"bond-13 atom-11 atom-12\" d=\"M 264.6,198.2 L 287.0,211.1\" style=\"fill:none;fill-rule:evenodd;stroke:#000000;stroke-width:2.0px;stroke-linecap:butt;stroke-linejoin:miter;stroke-opacity:1\"/>\n",
       "<path class=\"bond-14 atom-12 atom-13\" d=\"M 291.6,208.4 L 291.7,220.1\" style=\"fill:none;fill-rule:evenodd;stroke:#000000;stroke-width:2.0px;stroke-linecap:butt;stroke-linejoin:miter;stroke-opacity:1\"/>\n",
       "<path class=\"bond-14 atom-12 atom-13\" d=\"M 291.7,220.1 L 291.8,231.9\" style=\"fill:none;fill-rule:evenodd;stroke:#FF0000;stroke-width:2.0px;stroke-linecap:butt;stroke-linejoin:miter;stroke-opacity:1\"/>\n",
       "<path class=\"bond-15 atom-13 atom-14\" d=\"M 284.7,243.7 L 274.8,249.5\" style=\"fill:none;fill-rule:evenodd;stroke:#FF0000;stroke-width:2.0px;stroke-linecap:butt;stroke-linejoin:miter;stroke-opacity:1\"/>\n",
       "<path class=\"bond-15 atom-13 atom-14\" d=\"M 274.8,249.5 L 264.9,255.2\" style=\"fill:none;fill-rule:evenodd;stroke:#000000;stroke-width:2.0px;stroke-linecap:butt;stroke-linejoin:miter;stroke-opacity:1\"/>\n",
       "<path class=\"bond-16 atom-14 atom-15\" d=\"M 264.9,255.2 L 260.3,261.8\" style=\"fill:none;fill-rule:evenodd;stroke:#000000;stroke-width:2.0px;stroke-linecap:butt;stroke-linejoin:miter;stroke-opacity:1\"/>\n",
       "<path class=\"bond-16 atom-14 atom-15\" d=\"M 260.3,261.8 L 255.7,268.4\" style=\"fill:none;fill-rule:evenodd;stroke:#33CCCC;stroke-width:2.0px;stroke-linecap:butt;stroke-linejoin:miter;stroke-opacity:1\"/>\n",
       "<path class=\"bond-17 atom-14 atom-16\" d=\"M 264.9,255.2 L 272.9,264.1\" style=\"fill:none;fill-rule:evenodd;stroke:#000000;stroke-width:2.0px;stroke-linecap:butt;stroke-linejoin:miter;stroke-opacity:1\"/>\n",
       "<path class=\"bond-17 atom-14 atom-16\" d=\"M 272.9,264.1 L 280.8,272.9\" style=\"fill:none;fill-rule:evenodd;stroke:#33CCCC;stroke-width:2.0px;stroke-linecap:butt;stroke-linejoin:miter;stroke-opacity:1\"/>\n",
       "<path class=\"bond-18 atom-14 atom-17\" d=\"M 264.9,255.2 L 237.8,239.8\" style=\"fill:none;fill-rule:evenodd;stroke:#000000;stroke-width:2.0px;stroke-linecap:butt;stroke-linejoin:miter;stroke-opacity:1\"/>\n",
       "<path class=\"bond-19 atom-17 atom-18\" d=\"M 237.8,239.8 L 237.7,208.5\" style=\"fill:none;fill-rule:evenodd;stroke:#000000;stroke-width:2.0px;stroke-linecap:butt;stroke-linejoin:miter;stroke-opacity:1\"/>\n",
       "<path class=\"bond-20 atom-0 atom-19\" d=\"M 237.9,115.0 L 237.9,138.5\" style=\"fill:none;fill-rule:evenodd;stroke:#000000;stroke-width:2.0px;stroke-linecap:butt;stroke-linejoin:miter;stroke-opacity:1\"/>\n",
       "<path class=\"bond-21 atom-1 atom-20\" d=\"M 210.9,99.5 L 190.2,111.4\" style=\"fill:none;fill-rule:evenodd;stroke:#000000;stroke-width:2.0px;stroke-linecap:butt;stroke-linejoin:miter;stroke-opacity:1\"/>\n",
       "<path class=\"bond-22 atom-4 atom-21\" d=\"M 237.9,52.8 L 238.0,29.2\" style=\"fill:none;fill-rule:evenodd;stroke:#000000;stroke-width:2.0px;stroke-linecap:butt;stroke-linejoin:miter;stroke-opacity:1\"/>\n",
       "<path class=\"bond-23 atom-5 atom-22\" d=\"M 264.9,68.3 L 285.7,56.3\" style=\"fill:none;fill-rule:evenodd;stroke:#000000;stroke-width:2.0px;stroke-linecap:butt;stroke-linejoin:miter;stroke-opacity:1\"/>\n",
       "<path class=\"bond-24 atom-9 atom-23\" d=\"M 292.1,145.1 L 303.2,163.2\" style=\"fill:none;fill-rule:evenodd;stroke:#000000;stroke-width:2.0px;stroke-linecap:butt;stroke-linejoin:miter;stroke-opacity:1\"/>\n",
       "<path class=\"bond-25 atom-9 atom-24\" d=\"M 292.1,145.1 L 317.0,144.7\" style=\"fill:none;fill-rule:evenodd;stroke:#000000;stroke-width:2.0px;stroke-linecap:butt;stroke-linejoin:miter;stroke-opacity:1\"/>\n",
       "<path class=\"bond-26 atom-12 atom-25\" d=\"M 291.6,208.4 L 311.7,197.1\" style=\"fill:none;fill-rule:evenodd;stroke:#000000;stroke-width:2.0px;stroke-linecap:butt;stroke-linejoin:miter;stroke-opacity:1\"/>\n",
       "<path class=\"bond-27 atom-17 atom-26\" d=\"M 237.8,239.8 L 213.4,237.1\" style=\"fill:none;fill-rule:evenodd;stroke:#000000;stroke-width:2.0px;stroke-linecap:butt;stroke-linejoin:miter;stroke-opacity:1\"/>\n",
       "<path class=\"bond-28 atom-17 atom-27\" d=\"M 237.8,239.8 L 229.5,261.2\" style=\"fill:none;fill-rule:evenodd;stroke:#000000;stroke-width:2.0px;stroke-linecap:butt;stroke-linejoin:miter;stroke-opacity:1\"/>\n",
       "<path class=\"bond-29 atom-18 atom-28\" d=\"M 237.7,208.5 L 230.6,186.5\" style=\"fill:none;fill-rule:evenodd;stroke:#000000;stroke-width:2.0px;stroke-linecap:butt;stroke-linejoin:miter;stroke-opacity:1\"/>\n",
       "<path class=\"bond-30 atom-18 atom-29\" d=\"M 237.7,208.5 L 213.2,210.9\" style=\"fill:none;fill-rule:evenodd;stroke:#000000;stroke-width:2.0px;stroke-linecap:butt;stroke-linejoin:miter;stroke-opacity:1\"/>\n",
       "<path d=\"M 290.4,113.9 L 291.8,114.6 L 291.8,116.1\" style=\"fill:none;stroke:#000000;stroke-width:2.0px;stroke-linecap:butt;stroke-linejoin:miter;stroke-opacity:1;\"/>\n",
       "<path class=\"atom-3\" d=\"M 171.6 53.2 Q 171.6 49.9, 173.1 48.1 Q 174.7 46.4, 177.6 46.4 Q 180.4 46.4, 181.8 48.3 L 180.6 49.3 Q 179.5 47.9, 177.6 47.9 Q 175.6 47.9, 174.6 49.3 Q 173.5 50.6, 173.5 53.2 Q 173.5 55.8, 174.6 57.1 Q 175.7 58.5, 177.8 58.5 Q 179.3 58.5, 181.0 57.6 L 181.5 59.0 Q 180.8 59.4, 179.8 59.7 Q 178.7 60.0, 177.6 60.0 Q 174.7 60.0, 173.1 58.2 Q 171.6 56.4, 171.6 53.2 \" fill=\"#00CC00\"/>\n",
       "<path class=\"atom-3\" d=\"M 183.2 45.6 L 184.9 45.6 L 184.9 59.8 L 183.2 59.8 L 183.2 45.6 \" fill=\"#00CC00\"/>\n",
       "<path class=\"atom-8\" d=\"M 312.6 98.9 Q 312.6 95.7, 314.1 93.9 Q 315.7 92.2, 318.6 92.2 Q 321.6 92.2, 323.1 93.9 Q 324.7 95.7, 324.7 98.9 Q 324.7 102.1, 323.1 103.9 Q 321.5 105.7, 318.6 105.7 Q 315.7 105.7, 314.1 103.9 Q 312.6 102.1, 312.6 98.9 M 318.6 104.3 Q 320.7 104.3, 321.7 102.9 Q 322.8 101.5, 322.8 98.9 Q 322.8 96.3, 321.7 95.0 Q 320.7 93.7, 318.6 93.7 Q 316.6 93.7, 315.5 95.0 Q 314.4 96.3, 314.4 98.9 Q 314.4 101.6, 315.5 102.9 Q 316.6 104.3, 318.6 104.3 \" fill=\"#FF0000\"/>\n",
       "<path class=\"atom-10\" d=\"M 261.0 165.8 Q 261.1 165.9, 261.8 166.2 Q 262.4 166.4, 263.0 166.6 Q 263.7 166.7, 264.4 166.7 Q 265.7 166.7, 266.4 166.1 Q 267.1 165.5, 267.1 164.5 Q 267.1 163.7, 266.7 163.3 Q 266.4 162.8, 265.8 162.6 Q 265.3 162.4, 264.3 162.1 Q 263.2 161.7, 262.4 161.4 Q 261.8 161.0, 261.2 160.3 Q 260.8 159.6, 260.8 158.4 Q 260.8 156.8, 261.9 155.7 Q 263.0 154.7, 265.3 154.7 Q 266.8 154.7, 268.5 155.4 L 268.1 156.9 Q 266.5 156.2, 265.3 156.2 Q 264.0 156.2, 263.3 156.8 Q 262.6 157.3, 262.6 158.2 Q 262.6 158.9, 263.0 159.3 Q 263.4 159.8, 263.9 160.0 Q 264.4 160.3, 265.3 160.5 Q 266.5 160.9, 267.2 161.3 Q 267.9 161.7, 268.4 162.4 Q 269.0 163.2, 269.0 164.5 Q 269.0 166.3, 267.7 167.3 Q 266.5 168.3, 264.5 168.3 Q 263.3 168.3, 262.4 168.0 Q 261.5 167.8, 260.5 167.3 L 261.0 165.8 \" fill=\"#CCCC00\"/>\n",
       "<path class=\"atom-13\" d=\"M 285.8 239.6 Q 285.8 236.4, 287.3 234.7 Q 288.9 232.9, 291.8 232.9 Q 294.8 232.9, 296.3 234.7 Q 297.9 236.4, 297.9 239.6 Q 297.9 242.8, 296.3 244.7 Q 294.7 246.5, 291.8 246.5 Q 288.9 246.5, 287.3 244.7 Q 285.8 242.8, 285.8 239.6 M 291.8 245.0 Q 293.8 245.0, 294.9 243.6 Q 296.0 242.3, 296.0 239.6 Q 296.0 237.0, 294.9 235.7 Q 293.8 234.4, 291.8 234.4 Q 289.8 234.4, 288.7 235.7 Q 287.6 237.0, 287.6 239.6 Q 287.6 242.3, 288.7 243.6 Q 289.8 245.0, 291.8 245.0 \" fill=\"#FF0000\"/>\n",
       "<path class=\"atom-15\" d=\"M 246.8 268.8 L 254.7 268.8 L 254.7 270.3 L 248.6 270.3 L 248.6 274.4 L 254.0 274.4 L 254.0 275.9 L 248.6 275.9 L 248.6 282.0 L 246.8 282.0 L 246.8 268.8 \" fill=\"#33CCCC\"/>\n",
       "<path class=\"atom-16\" d=\"M 281.8 271.8 L 289.7 271.8 L 289.7 273.3 L 283.6 273.3 L 283.6 277.3 L 289.0 277.3 L 289.0 278.8 L 283.6 278.8 L 283.6 285.0 L 281.8 285.0 L 281.8 271.8 \" fill=\"#33CCCC\"/>\n",
       "<path class=\"atom-19\" d=\"M 232.7 139.5 L 234.5 139.5 L 234.5 145.2 L 241.3 145.2 L 241.3 139.5 L 243.1 139.5 L 243.1 152.8 L 241.3 152.8 L 241.3 146.7 L 234.5 146.7 L 234.5 152.8 L 232.7 152.8 L 232.7 139.5 \" fill=\"#000000\"/>\n",
       "<path class=\"atom-20\" d=\"M 178.8 108.4 L 180.6 108.4 L 180.6 114.0 L 187.3 114.0 L 187.3 108.4 L 189.1 108.4 L 189.1 121.6 L 187.3 121.6 L 187.3 115.5 L 180.6 115.5 L 180.6 121.6 L 178.8 121.6 L 178.8 108.4 \" fill=\"#000000\"/>\n",
       "<path class=\"atom-21\" d=\"M 232.8 15.0 L 234.6 15.0 L 234.6 20.6 L 241.3 20.6 L 241.3 15.0 L 243.1 15.0 L 243.1 28.2 L 241.3 28.2 L 241.3 22.1 L 234.6 22.1 L 234.6 28.2 L 232.8 28.2 L 232.8 15.0 \" fill=\"#000000\"/>\n",
       "<path class=\"atom-22\" d=\"M 286.7 46.2 L 288.5 46.2 L 288.5 51.8 L 295.3 51.8 L 295.3 46.2 L 297.0 46.2 L 297.0 59.4 L 295.3 59.4 L 295.3 53.3 L 288.5 53.3 L 288.5 59.4 L 286.7 59.4 L 286.7 46.2 \" fill=\"#000000\"/>\n",
       "<path class=\"atom-23\" d=\"M 302.7 164.2 L 304.4 164.2 L 304.4 169.9 L 311.2 169.9 L 311.2 164.2 L 313.0 164.2 L 313.0 177.5 L 311.2 177.5 L 311.2 171.3 L 304.4 171.3 L 304.4 177.5 L 302.7 177.5 L 302.7 164.2 \" fill=\"#000000\"/>\n",
       "<path class=\"atom-24\" d=\"M 318.0 138.1 L 319.8 138.1 L 319.8 143.7 L 326.6 143.7 L 326.6 138.1 L 328.4 138.1 L 328.4 151.3 L 326.6 151.3 L 326.6 145.2 L 319.8 145.2 L 319.8 151.3 L 318.0 151.3 L 318.0 138.1 \" fill=\"#000000\"/>\n",
       "<path class=\"atom-25\" d=\"M 312.7 187.1 L 314.5 187.1 L 314.5 192.7 L 321.3 192.7 L 321.3 187.1 L 323.1 187.1 L 323.1 200.3 L 321.3 200.3 L 321.3 194.2 L 314.5 194.2 L 314.5 200.3 L 312.7 200.3 L 312.7 187.1 \" fill=\"#000000\"/>\n",
       "<path class=\"atom-26\" d=\"M 202.0 229.8 L 203.8 229.8 L 203.8 235.5 L 210.5 235.5 L 210.5 229.8 L 212.3 229.8 L 212.3 243.1 L 210.5 243.1 L 210.5 236.9 L 203.8 236.9 L 203.8 243.1 L 202.0 243.1 L 202.0 229.8 \" fill=\"#000000\"/>\n",
       "<path class=\"atom-27\" d=\"M 221.4 262.2 L 223.2 262.2 L 223.2 267.8 L 230.0 267.8 L 230.0 262.2 L 231.8 262.2 L 231.8 275.4 L 230.0 275.4 L 230.0 269.3 L 223.2 269.3 L 223.2 275.4 L 221.4 275.4 L 221.4 262.2 \" fill=\"#000000\"/>\n",
       "<path class=\"atom-28\" d=\"M 222.9 172.3 L 224.7 172.3 L 224.7 177.9 L 231.5 177.9 L 231.5 172.3 L 233.3 172.3 L 233.3 185.5 L 231.5 185.5 L 231.5 179.4 L 224.7 179.4 L 224.7 185.5 L 222.9 185.5 L 222.9 172.3 \" fill=\"#000000\"/>\n",
       "<path class=\"atom-29\" d=\"M 201.8 204.9 L 203.6 204.9 L 203.6 210.5 L 210.4 210.5 L 210.4 204.9 L 212.2 204.9 L 212.2 218.1 L 210.4 218.1 L 210.4 212.0 L 203.6 212.0 L 203.6 218.1 L 201.8 218.1 L 201.8 204.9 \" fill=\"#000000\"/>\n",
       "</svg>"
      ],
      "text/plain": [
       "<IPython.core.display.SVG object>"
      ]
     },
     "execution_count": 4,
     "metadata": {},
     "output_type": "execute_result"
    }
   ],
   "source": [
    "molecule = Molecule.from_smiles(\"c1cc(Cl)ccc1C(=O)CS[C]1=CO[C](F)(F)CC1\")\n",
    "molecule.generate_conformers(n_conformers=1)\n",
    "molecule.visualize()"
   ]
  },
  {
   "cell_type": "code",
   "execution_count": 5,
   "metadata": {
    "pycharm": {
     "name": "#%%\n"
    }
   },
   "outputs": [
    {
     "name": "stdout",
     "output_type": "stream",
     "text": [
      "There are 5 virtual particles in this topology.\n"
     ]
    }
   ],
   "source": [
    "# Create an Interchange object, which stores information needed for OpenMM (and other engines)\n",
    "# to understand virtual sites as applied by a force field\n",
    "\n",
    "interchange = force_field.create_interchange(topology=molecule.to_topology())\n",
    "\n",
    "assert \"VirtualSites\" in interchange.collections.keys()\n",
    "\n",
    "n_virtual_sites = len(interchange.collections[\"VirtualSites\"].key_map)\n",
    "\n",
    "print(f\"There are {n_virtual_sites} virtual particles in this topology.\")"
   ]
  },
  {
   "cell_type": "markdown",
   "metadata": {},
   "source": [
    "At this point, each of our OpenFF objects have processed and stored all of the information needed to run a simulation in OpenMM. Different [OpenMM objects](https://docs.openforcefield.org/projects/interchange/en/stable/using/output.html#openmm) can be created from an `Interchange` object:\n",
    "\n",
    "* `openmm.System`: `Interchange.to_openmm()`\n",
    "* `openmm.app.Topology`: `Interchange.to_openmm_topology()`\n",
    "* `openmm.app.Simulation`: `Interchange.to_openmm_simulation()`\n",
    "\n",
    "For simplicity, we'll just create a `Simulation` object with the function we defined above since that's all we need to run a simulation in OpenMM."
   ]
  },
  {
   "cell_type": "code",
   "execution_count": 6,
   "metadata": {
    "pycharm": {
     "name": "#%%\n"
    },
    "scrolled": true
   },
   "outputs": [
    {
     "ename": "VirtualSiteTypeNotImplementedError",
     "evalue": "Only symmetric geometries (i.e. r2 - r0 = r1 - r0) are currently supported",
     "output_type": "error",
     "traceback": [
      "\u001b[0;31m---------------------------------------------------------------------------\u001b[0m",
      "\u001b[0;31mVirtualSiteTypeNotImplementedError\u001b[0m        Traceback (most recent call last)",
      "\u001b[1;32m/Users/mattthompson/software/openff-toolkit/examples/virtual_sites/vsite_showcase.ipynb Cell 9\u001b[0m line \u001b[0;36m1\n\u001b[0;32m----> <a href='vscode-notebook-cell:/Users/mattthompson/software/openff-toolkit/examples/virtual_sites/vsite_showcase.ipynb#X11sZmlsZQ%3D%3D?line=0'>1</a>\u001b[0m simulation \u001b[39m=\u001b[39m prepare_simulation(interchange)\n\u001b[1;32m      <a href='vscode-notebook-cell:/Users/mattthompson/software/openff-toolkit/examples/virtual_sites/vsite_showcase.ipynb#X11sZmlsZQ%3D%3D?line=2'>3</a>\u001b[0m run_simulation(simulation, \u001b[39m10000\u001b[39m)\n",
      "\u001b[1;32m/Users/mattthompson/software/openff-toolkit/examples/virtual_sites/vsite_showcase.ipynb Cell 9\u001b[0m line \u001b[0;36m1\n\u001b[1;32m      <a href='vscode-notebook-cell:/Users/mattthompson/software/openff-toolkit/examples/virtual_sites/vsite_showcase.ipynb#X11sZmlsZQ%3D%3D?line=5'>6</a>\u001b[0m integrator \u001b[39m=\u001b[39m openmm\u001b[39m.\u001b[39mLangevinIntegrator(temperature, friction, time_step)\n\u001b[1;32m      <a href='vscode-notebook-cell:/Users/mattthompson/software/openff-toolkit/examples/virtual_sites/vsite_showcase.ipynb#X11sZmlsZQ%3D%3D?line=7'>8</a>\u001b[0m trj_freq, data_freq \u001b[39m=\u001b[39m \u001b[39m100\u001b[39m, \u001b[39m100\u001b[39m\n\u001b[0;32m---> <a href='vscode-notebook-cell:/Users/mattthompson/software/openff-toolkit/examples/virtual_sites/vsite_showcase.ipynb#X11sZmlsZQ%3D%3D?line=9'>10</a>\u001b[0m simulation \u001b[39m=\u001b[39m interchange\u001b[39m.\u001b[39;49mto_openmm_simulation(integrator\u001b[39m=\u001b[39;49mintegrator)\n\u001b[1;32m     <a href='vscode-notebook-cell:/Users/mattthompson/software/openff-toolkit/examples/virtual_sites/vsite_showcase.ipynb#X11sZmlsZQ%3D%3D?line=11'>12</a>\u001b[0m \u001b[39m# It's important to run energy minimization before computing velocities; otherwise the initial\u001b[39;00m\n\u001b[1;32m     <a href='vscode-notebook-cell:/Users/mattthompson/software/openff-toolkit/examples/virtual_sites/vsite_showcase.ipynb#X11sZmlsZQ%3D%3D?line=12'>13</a>\u001b[0m \u001b[39m# velocities may be too high as a result of high initial forces, causing a crash\u001b[39;00m\n\u001b[1;32m     <a href='vscode-notebook-cell:/Users/mattthompson/software/openff-toolkit/examples/virtual_sites/vsite_showcase.ipynb#X11sZmlsZQ%3D%3D?line=13'>14</a>\u001b[0m \u001b[39m# See https://github.com/openmm/openmm/issues/3736#issuecomment-1217250635\u001b[39;00m\n\u001b[1;32m     <a href='vscode-notebook-cell:/Users/mattthompson/software/openff-toolkit/examples/virtual_sites/vsite_showcase.ipynb#X11sZmlsZQ%3D%3D?line=14'>15</a>\u001b[0m simulation\u001b[39m.\u001b[39mminimizeEnergy()\n",
      "File \u001b[0;32m~/mambaforge/envs/openff-toolkit-test/lib/python3.11/site-packages/openff/interchange/components/interchange.py:493\u001b[0m, in \u001b[0;36mInterchange.to_openmm_simulation\u001b[0;34m(self, integrator, combine_nonbonded_forces, add_constrained_forces, **kwargs)\u001b[0m\n\u001b[1;32m    487\u001b[0m \u001b[39mimport\u001b[39;00m \u001b[39mopenmm\u001b[39;00m\u001b[39m.\u001b[39;00m\u001b[39mapp\u001b[39;00m\n\u001b[1;32m    489\u001b[0m \u001b[39mfrom\u001b[39;00m \u001b[39mopenff\u001b[39;00m\u001b[39m.\u001b[39;00m\u001b[39minterchange\u001b[39;00m\u001b[39m.\u001b[39;00m\u001b[39minterop\u001b[39;00m\u001b[39m.\u001b[39;00m\u001b[39mopenmm\u001b[39;00m\u001b[39m.\u001b[39;00m\u001b[39m_positions\u001b[39;00m \u001b[39mimport\u001b[39;00m to_openmm_positions\n\u001b[1;32m    491\u001b[0m simulation \u001b[39m=\u001b[39m openmm\u001b[39m.\u001b[39mapp\u001b[39m.\u001b[39mSimulation(\n\u001b[1;32m    492\u001b[0m     topology\u001b[39m=\u001b[39m\u001b[39mself\u001b[39m\u001b[39m.\u001b[39mto_openmm_topology(),\n\u001b[0;32m--> 493\u001b[0m     system\u001b[39m=\u001b[39m\u001b[39mself\u001b[39;49m\u001b[39m.\u001b[39;49mto_openmm(\n\u001b[1;32m    494\u001b[0m         combine_nonbonded_forces\u001b[39m=\u001b[39;49mcombine_nonbonded_forces,\n\u001b[1;32m    495\u001b[0m         add_constrained_forces\u001b[39m=\u001b[39;49madd_constrained_forces,\n\u001b[1;32m    496\u001b[0m     ),\n\u001b[1;32m    497\u001b[0m     integrator\u001b[39m=\u001b[39mintegrator,\n\u001b[1;32m    498\u001b[0m     \u001b[39m*\u001b[39m\u001b[39m*\u001b[39mkwargs,\n\u001b[1;32m    499\u001b[0m )\n\u001b[1;32m    501\u001b[0m \u001b[39m# If the system contains virtual sites, the positions must, so no obvious case in which\u001b[39;00m\n\u001b[1;32m    502\u001b[0m \u001b[39m# include_virtual_sites could possibly be False\u001b[39;00m\n\u001b[1;32m    503\u001b[0m \u001b[39mif\u001b[39;00m \u001b[39mself\u001b[39m\u001b[39m.\u001b[39mpositions \u001b[39mis\u001b[39;00m \u001b[39mnot\u001b[39;00m \u001b[39mNone\u001b[39;00m:\n",
      "File \u001b[0;32m~/mambaforge/envs/openff-toolkit-test/lib/python3.11/site-packages/openff/interchange/components/interchange.py:403\u001b[0m, in \u001b[0;36mInterchange.to_openmm_system\u001b[0;34m(self, combine_nonbonded_forces, add_constrained_forces, ewald_tolerance)\u001b[0m\n\u001b[1;32m    378\u001b[0m \u001b[39m\u001b[39m\u001b[39m\"\"\"\u001b[39;00m\n\u001b[1;32m    379\u001b[0m \u001b[39mExport this Interchange to an OpenMM System.\u001b[39;00m\n\u001b[1;32m    380\u001b[0m \n\u001b[0;32m   (...)\u001b[0m\n\u001b[1;32m    397\u001b[0m \n\u001b[1;32m    398\u001b[0m \u001b[39m\"\"\"\u001b[39;00m\n\u001b[1;32m    399\u001b[0m \u001b[39mfrom\u001b[39;00m \u001b[39mopenff\u001b[39;00m\u001b[39m.\u001b[39;00m\u001b[39minterchange\u001b[39;00m\u001b[39m.\u001b[39;00m\u001b[39minterop\u001b[39;00m\u001b[39m.\u001b[39;00m\u001b[39mopenmm\u001b[39;00m \u001b[39mimport\u001b[39;00m (\n\u001b[1;32m    400\u001b[0m     to_openmm_system \u001b[39mas\u001b[39;00m _to_openmm_system,\n\u001b[1;32m    401\u001b[0m )\n\u001b[0;32m--> 403\u001b[0m \u001b[39mreturn\u001b[39;00m _to_openmm_system(\n\u001b[1;32m    404\u001b[0m     \u001b[39mself\u001b[39;49m,\n\u001b[1;32m    405\u001b[0m     combine_nonbonded_forces\u001b[39m=\u001b[39;49mcombine_nonbonded_forces,\n\u001b[1;32m    406\u001b[0m     add_constrained_forces\u001b[39m=\u001b[39;49madd_constrained_forces,\n\u001b[1;32m    407\u001b[0m     ewald_tolerance\u001b[39m=\u001b[39;49mewald_tolerance,\n\u001b[1;32m    408\u001b[0m )\n",
      "File \u001b[0;32m~/mambaforge/envs/openff-toolkit-test/lib/python3.11/site-packages/openff/utilities/utilities.py:80\u001b[0m, in \u001b[0;36mrequires_package.<locals>.inner_decorator.<locals>.wrapper\u001b[0;34m(*args, **kwargs)\u001b[0m\n\u001b[1;32m     77\u001b[0m \u001b[39mexcept\u001b[39;00m \u001b[39mException\u001b[39;00m \u001b[39mas\u001b[39;00m e:\n\u001b[1;32m     78\u001b[0m     \u001b[39mraise\u001b[39;00m e\n\u001b[0;32m---> 80\u001b[0m \u001b[39mreturn\u001b[39;00m function(\u001b[39m*\u001b[39;49margs, \u001b[39m*\u001b[39;49m\u001b[39m*\u001b[39;49mkwargs)\n",
      "File \u001b[0;32m~/mambaforge/envs/openff-toolkit-test/lib/python3.11/site-packages/openff/interchange/interop/openmm/__init__.py:80\u001b[0m, in \u001b[0;36mto_openmm_system\u001b[0;34m(interchange, combine_nonbonded_forces, add_constrained_forces, ewald_tolerance)\u001b[0m\n\u001b[1;32m     77\u001b[0m     box \u001b[39m=\u001b[39m interchange\u001b[39m.\u001b[39mbox\u001b[39m.\u001b[39mm_as(off_unit\u001b[39m.\u001b[39mnanometer)\n\u001b[1;32m     78\u001b[0m     system\u001b[39m.\u001b[39msetDefaultPeriodicBoxVectors(\u001b[39m*\u001b[39mbox)\n\u001b[0;32m---> 80\u001b[0m particle_map \u001b[39m=\u001b[39m _process_nonbonded_forces(\n\u001b[1;32m     81\u001b[0m     interchange,\n\u001b[1;32m     82\u001b[0m     system,\n\u001b[1;32m     83\u001b[0m     combine_nonbonded_forces\u001b[39m=\u001b[39;49mcombine_nonbonded_forces,\n\u001b[1;32m     84\u001b[0m     ewald_tolerance\u001b[39m=\u001b[39;49mewald_tolerance,\n\u001b[1;32m     85\u001b[0m )\n\u001b[1;32m     87\u001b[0m constrained_pairs \u001b[39m=\u001b[39m _process_constraints(interchange, system, particle_map)\n\u001b[1;32m     89\u001b[0m _process_torsion_forces(interchange, system, particle_map)\n",
      "File \u001b[0;32m~/mambaforge/envs/openff-toolkit-test/lib/python3.11/site-packages/openff/interchange/interop/openmm/_nonbonded.py:102\u001b[0m, in \u001b[0;36m_process_nonbonded_forces\u001b[0;34m(interchange, system, combine_nonbonded_forces, ewald_tolerance)\u001b[0m\n\u001b[1;32m     97\u001b[0m     molecule_virtual_site_map \u001b[39m=\u001b[39m defaultdict(\u001b[39mlist\u001b[39m)\n\u001b[1;32m     99\u001b[0m \u001b[39m# Mapping between OpenFF \"particles\" and OpenMM particles (via index). OpenFF objects\u001b[39;00m\n\u001b[1;32m    100\u001b[0m \u001b[39m# (keys) are either atom indices (if atoms) or `VirtualSiteKey`s if virtual sites\u001b[39;00m\n\u001b[1;32m    101\u001b[0m \u001b[39m# openff_openmm_particle_map: Dict[Union[int, VirtualSiteKey], int] = dict()\u001b[39;00m\n\u001b[0;32m--> 102\u001b[0m openff_openmm_particle_map \u001b[39m=\u001b[39m _add_particles_to_system(\n\u001b[1;32m    103\u001b[0m     interchange,\n\u001b[1;32m    104\u001b[0m     system,\n\u001b[1;32m    105\u001b[0m     molecule_virtual_site_map,\n\u001b[1;32m    106\u001b[0m )\n\u001b[1;32m    108\u001b[0m \u001b[39m# TODO: Process ElectrostaticsHandler.exception_potential\u001b[39;00m\n\u001b[1;32m    109\u001b[0m has_vdw \u001b[39m=\u001b[39m \u001b[39mFalse\u001b[39;00m\n",
      "File \u001b[0;32m~/mambaforge/envs/openff-toolkit-test/lib/python3.11/site-packages/openff/interchange/interop/openmm/_nonbonded.py:203\u001b[0m, in \u001b[0;36m_add_particles_to_system\u001b[0;34m(interchange, system, molecule_virtual_site_map)\u001b[0m\n\u001b[1;32m    194\u001b[0m         virtual_site_potential \u001b[39m=\u001b[39m interchange[\u001b[39m\"\u001b[39m\u001b[39mVirtualSites\u001b[39m\u001b[39m\"\u001b[39m]\u001b[39m.\u001b[39mpotentials[\n\u001b[1;32m    195\u001b[0m             interchange[\u001b[39m\"\u001b[39m\u001b[39mVirtualSites\u001b[39m\u001b[39m\"\u001b[39m]\u001b[39m.\u001b[39mkey_map[virtual_site_key]\n\u001b[1;32m    196\u001b[0m         ]\n\u001b[1;32m    198\u001b[0m         virtual_site_object \u001b[39m=\u001b[39m _create_virtual_site_object(\n\u001b[1;32m    199\u001b[0m             virtual_site_key,\n\u001b[1;32m    200\u001b[0m             virtual_site_potential,\n\u001b[1;32m    201\u001b[0m         )\n\u001b[0;32m--> 203\u001b[0m         openmm_particle: openmm\u001b[39m.\u001b[39mVirtualSite \u001b[39m=\u001b[39m _create_openmm_virtual_site(\n\u001b[1;32m    204\u001b[0m             interchange,\n\u001b[1;32m    205\u001b[0m             virtual_site_object,\n\u001b[1;32m    206\u001b[0m             particle_map,\n\u001b[1;32m    207\u001b[0m         )\n\u001b[1;32m    209\u001b[0m         system\u001b[39m.\u001b[39msetVirtualSite(system_index, openmm_particle)\n\u001b[1;32m    211\u001b[0m \u001b[39mreturn\u001b[39;00m particle_map\n",
      "File \u001b[0;32m~/mambaforge/envs/openff-toolkit-test/lib/python3.11/site-packages/openff/interchange/interop/openmm/_virtual_sites.py:70\u001b[0m, in \u001b[0;36m_create_openmm_virtual_site\u001b[0;34m(interchange, virtual_site, openff_openmm_particle_map)\u001b[0m\n\u001b[1;32m     62\u001b[0m         \u001b[39mreturn\u001b[39;00m openmm\u001b[39m.\u001b[39mThreeParticleAverageSite(\n\u001b[1;32m     63\u001b[0m             \u001b[39m*\u001b[39mopenmm_indices,\n\u001b[1;32m     64\u001b[0m             w1,\n\u001b[1;32m     65\u001b[0m             w2,\n\u001b[1;32m     66\u001b[0m             w3,\n\u001b[1;32m     67\u001b[0m         )\n\u001b[1;32m     69\u001b[0m     \u001b[39melse\u001b[39;00m:\n\u001b[0;32m---> 70\u001b[0m         w12, w13, wcross \u001b[39m=\u001b[39m _get_divalent_weights(\n\u001b[1;32m     71\u001b[0m             virtual_site,\n\u001b[1;32m     72\u001b[0m             interchange,\n\u001b[1;32m     73\u001b[0m         )\n\u001b[1;32m     75\u001b[0m         \u001b[39mreturn\u001b[39;00m openmm\u001b[39m.\u001b[39mOutOfPlaneSite(\n\u001b[1;32m     76\u001b[0m             \u001b[39m*\u001b[39mopenmm_indices,\n\u001b[1;32m     77\u001b[0m             w12,\n\u001b[1;32m     78\u001b[0m             w13,\n\u001b[1;32m     79\u001b[0m             wcross\u001b[39m.\u001b[39mm_as(\u001b[39m1\u001b[39m \u001b[39m/\u001b[39m unit\u001b[39m.\u001b[39mnanometer),\n\u001b[1;32m     80\u001b[0m         )\n\u001b[1;32m     82\u001b[0m \u001b[39m# It is assumed that the first \"orientation\" atom is the \"parent\" atom.\u001b[39;00m\n",
      "File \u001b[0;32m~/mambaforge/envs/openff-toolkit-test/lib/python3.11/site-packages/openff/interchange/interop/_virtual_sites.py:283\u001b[0m, in \u001b[0;36m_get_divalent_weights\u001b[0;34m(virtual_site, interchange)\u001b[0m\n\u001b[1;32m    274\u001b[0m r13 \u001b[39m=\u001b[39m _get_separation_by_atom_indices(\n\u001b[1;32m    275\u001b[0m     interchange,\n\u001b[1;32m    276\u001b[0m     atom_indices\u001b[39m=\u001b[39m(\n\u001b[0;32m   (...)\u001b[0m\n\u001b[1;32m    279\u001b[0m     ),\n\u001b[1;32m    280\u001b[0m )\n\u001b[1;32m    282\u001b[0m \u001b[39mif\u001b[39;00m \u001b[39mabs\u001b[39m(r12 \u001b[39m-\u001b[39m r13) \u001b[39m>\u001b[39m Quantity(\u001b[39m1e-3\u001b[39m, unit\u001b[39m.\u001b[39mnanometer):\n\u001b[0;32m--> 283\u001b[0m     \u001b[39mraise\u001b[39;00m VirtualSiteTypeNotImplementedError(\n\u001b[1;32m    284\u001b[0m         \u001b[39m\"\u001b[39m\u001b[39mOnly symmetric geometries (i.e. r2 - r0 = r1 - r0) are currently supported\u001b[39m\u001b[39m\"\u001b[39m,\n\u001b[1;32m    285\u001b[0m     )\n\u001b[1;32m    287\u001b[0m theta \u001b[39m=\u001b[39m _get_angle_by_atom_indices(\n\u001b[1;32m    288\u001b[0m     interchange,\n\u001b[1;32m    289\u001b[0m     atom_indices\u001b[39m=\u001b[39m(\n\u001b[0;32m   (...)\u001b[0m\n\u001b[1;32m    293\u001b[0m     ),\n\u001b[1;32m    294\u001b[0m )\n\u001b[1;32m    296\u001b[0m \u001b[39mif\u001b[39;00m virtual_site\u001b[39m.\u001b[39mout_of_plane_angle\u001b[39m.\u001b[39mm \u001b[39m==\u001b[39m \u001b[39m0.0\u001b[39m:\n\u001b[1;32m    297\u001b[0m     \u001b[39m# rmid is a point bisecting hydrogens, also lying on the same line as O-VS\u001b[39;00m\n",
      "\u001b[0;31mVirtualSiteTypeNotImplementedError\u001b[0m: Only symmetric geometries (i.e. r2 - r0 = r1 - r0) are currently supported"
     ]
    }
   ],
   "source": [
    "simulation = prepare_simulation(interchange)\n",
    "\n",
    "run_simulation(simulation, 10000)"
   ]
  },
  {
   "cell_type": "code",
   "execution_count": null,
   "metadata": {
    "scrolled": true
   },
   "outputs": [],
   "source": [
    "import mdtraj\n",
    "\n",
    "# Visualize the trajectory. There will probably be errant bonds drawn between atoms and virtual sites.\n",
    "import nglview\n",
    "\n",
    "nglview.show_mdtraj(mdtraj.load(\"trajectory.pdb\"))"
   ]
  },
  {
   "cell_type": "markdown",
   "metadata": {
    "pycharm": {
     "name": "#%% md\n"
    }
   },
   "source": [
    "## Part 2: Comparison of SMIRNOFF and OpenMM implementations of TIP5P"
   ]
  },
  {
   "cell_type": "code",
   "execution_count": null,
   "metadata": {
    "pycharm": {
     "name": "#%%\n"
    }
   },
   "outputs": [],
   "source": [
    "tip5p_offxml = \"\"\"<?xml version=\"1.0\" encoding=\"utf-8\"?>\n",
    "<SMIRNOFF version=\"0.3\" aromaticity_model=\"OEAroModel_MDL\">\n",
    "    <LibraryCharges version=\"0.3\">\n",
    "            <LibraryCharge\n",
    "                name=\"tip5p\"\n",
    "                smirks=\"[#1:1]-[#8X2H2+0:2]-[#1:3]\"\n",
    "                charge1=\"0.*elementary_charge\"\n",
    "                charge2=\"0.*elementary_charge\"\n",
    "                charge3=\"0.*elementary_charge\"\n",
    "            />\n",
    "    </LibraryCharges>\n",
    "    <vdW version=\"0.3\"\n",
    "        potential=\"Lennard-Jones-12-6\"\n",
    "        combining_rules=\"Lorentz-Berthelot\"\n",
    "        scale12=\"0.0\"\n",
    "        scale13=\"0.0\"\n",
    "        scale14=\"0.5\"\n",
    "        scale15=\"1.0\"\n",
    "        switch_width=\"0.0 * angstrom\"\n",
    "        cutoff=\"10.0 * angstrom\"\n",
    "        method=\"cutoff\"\n",
    "        >\n",
    "        <Atom\n",
    "            smirks=\"[#1:1]-[#8X2H2+0]-[#1]\"\n",
    "            epsilon=\"0. * mole**-1 * kilojoule\"\n",
    "            id=\"n35\"\n",
    "            sigma=\"1.0 * nanometer\"\n",
    "        />\n",
    "        <Atom\n",
    "            smirks=\"[#1]-[#8X2H2+0:1]-[#1]\"\n",
    "            epsilon=\"0.66944 * mole**-1 * kilojoule\"\n",
    "            id=\"n35\"\n",
    "            sigma=\"0.312 * nanometer\"\n",
    "        />\n",
    "    </vdW>\n",
    "    <VirtualSites version=\"0.3\">\n",
    "        <VirtualSite\n",
    "            type=\"DivalentLonePair\"\n",
    "            name=\"EP\"\n",
    "            smirks=\"[#1:2]-[#8X2H2+0:1]-[#1:3]\"\n",
    "            distance=\"0.70 * angstrom\"\n",
    "            charge_increment1=\"0.0*elementary_charge\"\n",
    "            charge_increment2=\"0.1205*elementary_charge\"\n",
    "            charge_increment3=\"0.1205*elementary_charge\"\n",
    "            sigma=\"10.0*angstrom\"\n",
    "            epsilon=\"0.0*kilocalories_per_mole\"\n",
    "            outOfPlaneAngle=\"54.735*degree\"\n",
    "            match=\"all_permutations\"\n",
    "        >\n",
    "        </VirtualSite>\n",
    "    </VirtualSites>\n",
    "    <Constraints version=\"0.3\">\n",
    "        <Constraint\n",
    "            smirks=\"[#1:1]-[#8X2H2+0:2]-[#1]\"\n",
    "            id=\"c1\"\n",
    "            distance=\"0.9572 * angstrom\"\n",
    "            />\n",
    "        <Constraint\n",
    "            smirks=\"[#1:1]-[#8X2H2+0]-[#1:2]\"\n",
    "            id=\"c2\"\n",
    "            distance=\"1.5139006545247014 * angstrom\"\n",
    "        />\n",
    "    </Constraints>\n",
    "    <Electrostatics\n",
    "        version=\"0.3\"\n",
    "        method=\"PME\"\n",
    "        scale12=\"0.0\"\n",
    "        scale13=\"0.0\"\n",
    "        scale14=\"0.833333\"\n",
    "        scale15=\"1.0\"\n",
    "        switch_width=\"0.0 * angstrom\"\n",
    "        cutoff=\"9.0 * angstrom\"\n",
    "    />\n",
    "</SMIRNOFF>\n",
    "\"\"\""
   ]
  },
  {
   "cell_type": "code",
   "execution_count": null,
   "metadata": {},
   "outputs": [],
   "source": [
    "water = Molecule.from_mapped_smiles(\"[O:1]([H:2])[H:3]\")\n",
    "water.generate_conformers()\n",
    "\n",
    "with open(\"smirnoff.xml\", \"w\") as f:\n",
    "    f.write(\n",
    "        openmm.XmlSerializer.serialize(\n",
    "            ForceField(tip5p_offxml).create_openmm_system(\n",
    "                Topology.from_molecules([water])\n",
    "            )\n",
    "        )\n",
    "    )"
   ]
  },
  {
   "cell_type": "code",
   "execution_count": null,
   "metadata": {},
   "outputs": [],
   "source": [
    "topology = Topology.from_molecules([water])\n",
    "_topology: openmm.app.Topology = topology.to_openmm()\n",
    "\n",
    "atom_positions = topology.get_positions().to_openmm()\n",
    "\n",
    "# Use OpenMM's Modeller to add virtual particles as perscribed by the force field\n",
    "modeller = openmm.app.Modeller(_topology, atom_positions)\n",
    "modeller.addExtraParticles(openmm.app.ForceField(\"tip5p.xml\"))\n",
    "\n",
    "# This topology includes virtual sites, so we can use it to create a System\n",
    "topology_with_virtual_sites = modeller.getTopology()\n",
    "\n",
    "with open(\"openmm.xml\", \"w\") as f:\n",
    "    f.write(\n",
    "        openmm.XmlSerializer.serialize(\n",
    "            openmm.app.ForceField(\"tip5p.xml\").createSystem(\n",
    "                topology_with_virtual_sites,\n",
    "                nonbondedMethod=openmm.app.NoCutoff,\n",
    "                constraints=openmm.app.HAngles,\n",
    "                removeCMMotion=False,\n",
    "            )\n",
    "        )\n",
    "    )"
   ]
  },
  {
   "cell_type": "code",
   "execution_count": null,
   "metadata": {},
   "outputs": [],
   "source": [
    "!diff smirnoff.xml openmm.xml"
   ]
  },
  {
   "cell_type": "markdown",
   "metadata": {},
   "source": [
    "We can see by comparing the two resulting XMLs that the differences are inconsequential.\n",
    "* Some virtual site weights are rounded to different precisions\n",
    "* Exceptions are listed in different order\n",
    "* Some exceptions list atoms in the opposite, which is okay since exceptions are symmetric\n",
    "* OpenMM adds empty forces for bond and angle interactions that do not exist"
   ]
  }
 ],
 "metadata": {
  "category": "force_field_dev",
  "kernelspec": {
   "display_name": "Python 3 (ipykernel)",
   "language": "python",
   "name": "python3"
  },
  "language_info": {
   "codemirror_mode": {
    "name": "ipython",
    "version": 3
   },
   "file_extension": ".py",
   "mimetype": "text/x-python",
   "name": "python",
   "nbconvert_exporter": "python",
   "pygments_lexer": "ipython3",
   "version": "3.11.6"
  },
  "widgets": {
   "application/vnd.jupyter.widget-state+json": {
    "state": {
     "0d666e64e7ea4fee8001d81f6b379758": {
      "model_module": "@jupyter-widgets/controls",
      "model_module_version": "2.0.0",
      "model_name": "SliderStyleModel",
      "state": {
       "_model_module": "@jupyter-widgets/controls",
       "_model_module_version": "2.0.0",
       "_model_name": "SliderStyleModel",
       "_view_count": null,
       "_view_module": "@jupyter-widgets/base",
       "_view_module_version": "2.0.0",
       "_view_name": "StyleView",
       "description_width": "",
       "handle_color": null
      }
     },
     "12770c96e16041b8a9b60e31bb7464f9": {
      "model_module": "@jupyter-widgets/base",
      "model_module_version": "2.0.0",
      "model_name": "LayoutModel",
      "state": {
       "_model_module": "@jupyter-widgets/base",
       "_model_module_version": "2.0.0",
       "_model_name": "LayoutModel",
       "_view_count": null,
       "_view_module": "@jupyter-widgets/base",
       "_view_module_version": "2.0.0",
       "_view_name": "LayoutView",
       "align_content": null,
       "align_items": null,
       "align_self": null,
       "border_bottom": null,
       "border_left": null,
       "border_right": null,
       "border_top": null,
       "bottom": null,
       "display": null,
       "flex": null,
       "flex_flow": null,
       "grid_area": null,
       "grid_auto_columns": null,
       "grid_auto_flow": null,
       "grid_auto_rows": null,
       "grid_column": null,
       "grid_gap": null,
       "grid_row": null,
       "grid_template_areas": null,
       "grid_template_columns": null,
       "grid_template_rows": null,
       "height": null,
       "justify_content": null,
       "justify_items": null,
       "left": null,
       "margin": null,
       "max_height": null,
       "max_width": null,
       "min_height": null,
       "min_width": null,
       "object_fit": null,
       "object_position": null,
       "order": null,
       "overflow": null,
       "padding": null,
       "right": null,
       "top": null,
       "visibility": null,
       "width": null
      }
     },
     "1a325aab997249e8bd47b4af389c338d": {
      "model_module": "@jupyter-widgets/controls",
      "model_module_version": "2.0.0",
      "model_name": "LinkModel",
      "state": {
       "_model_module": "@jupyter-widgets/controls",
       "_model_module_version": "2.0.0",
       "_model_name": "LinkModel",
       "_view_count": null,
       "_view_module": "@jupyter-widgets/controls",
       "_view_module_version": "2.0.0",
       "_view_name": null,
       "source": [
        "IPY_MODEL_1dcae65675184788a8d70e2d16355467",
        "value"
       ],
       "target": [
        "IPY_MODEL_bf858796484549ec859670b4a29d0916",
        "frame"
       ]
      }
     },
     "1dcae65675184788a8d70e2d16355467": {
      "model_module": "@jupyter-widgets/controls",
      "model_module_version": "2.0.0",
      "model_name": "PlayModel",
      "state": {
       "_dom_classes": [],
       "_model_module": "@jupyter-widgets/controls",
       "_model_module_version": "2.0.0",
       "_model_name": "PlayModel",
       "_view_count": null,
       "_view_module": "@jupyter-widgets/controls",
       "_view_module_version": "2.0.0",
       "_view_name": "PlayView",
       "description": "",
       "description_allow_html": false,
       "disabled": false,
       "interval": 100,
       "layout": "IPY_MODEL_dcf9869dd5fa4f348c8011bd800bc293",
       "max": 99,
       "min": 0,
       "playing": false,
       "repeat": false,
       "show_repeat": true,
       "step": 1,
       "style": "IPY_MODEL_bc4124ab778f45fb91bb97aa827fb096",
       "tabbable": null,
       "tooltip": null,
       "value": 0
      }
     },
     "262751b8e182410b9117c4da543c3897": {
      "buffers": [
       {
        "data": "",
        "encoding": "base64",
        "path": [
         "value"
        ]
       }
      ],
      "model_module": "@jupyter-widgets/controls",
      "model_module_version": "2.0.0",
      "model_name": "ImageModel",
      "state": {
       "_dom_classes": [],
       "_model_module": "@jupyter-widgets/controls",
       "_model_module_version": "2.0.0",
       "_model_name": "ImageModel",
       "_view_count": null,
       "_view_module": "@jupyter-widgets/controls",
       "_view_module_version": "2.0.0",
       "_view_name": "ImageView",
       "format": "png",
       "height": "",
       "layout": "IPY_MODEL_12770c96e16041b8a9b60e31bb7464f9",
       "tabbable": null,
       "tooltip": null,
       "width": "900.0"
      }
     },
     "299e0780df8c422ba90ade795dd95af1": {
      "model_module": "@jupyter-widgets/controls",
      "model_module_version": "2.0.0",
      "model_name": "LinkModel",
      "state": {
       "_model_module": "@jupyter-widgets/controls",
       "_model_module_version": "2.0.0",
       "_model_name": "LinkModel",
       "_view_count": null,
       "_view_module": "@jupyter-widgets/controls",
       "_view_module_version": "2.0.0",
       "_view_name": null,
       "source": [
        "IPY_MODEL_8bfb88914766458cbcd8c52c2696bd56",
        "max"
       ],
       "target": [
        "IPY_MODEL_bf858796484549ec859670b4a29d0916",
        "max_frame"
       ]
      }
     },
     "392150b3500f4c568c20b5d9fdec8d94": {
      "model_module": "@jupyter-widgets/controls",
      "model_module_version": "2.0.0",
      "model_name": "HBoxModel",
      "state": {
       "_dom_classes": [],
       "_model_module": "@jupyter-widgets/controls",
       "_model_module_version": "2.0.0",
       "_model_name": "HBoxModel",
       "_view_count": null,
       "_view_module": "@jupyter-widgets/controls",
       "_view_module_version": "2.0.0",
       "_view_name": "HBoxView",
       "box_style": "",
       "children": [
        "IPY_MODEL_1dcae65675184788a8d70e2d16355467",
        "IPY_MODEL_8bfb88914766458cbcd8c52c2696bd56"
       ],
       "layout": "IPY_MODEL_605df151435340968b2989568de61243",
       "tabbable": null,
       "tooltip": null
      }
     },
     "4dd2b4ca9bba4af6a7363c4fef4678fa": {
      "model_module": "@jupyter-widgets/controls",
      "model_module_version": "2.0.0",
      "model_name": "LinkModel",
      "state": {
       "_model_module": "@jupyter-widgets/controls",
       "_model_module_version": "2.0.0",
       "_model_name": "LinkModel",
       "_view_count": null,
       "_view_module": "@jupyter-widgets/controls",
       "_view_module_version": "2.0.0",
       "_view_name": null,
       "source": [
        "IPY_MODEL_1dcae65675184788a8d70e2d16355467",
        "max"
       ],
       "target": [
        "IPY_MODEL_bf858796484549ec859670b4a29d0916",
        "max_frame"
       ]
      }
     },
     "50de0bda7ad141f3b0b30ac2d2cd8d67": {
      "model_module": "@jupyter-widgets/controls",
      "model_module_version": "2.0.0",
      "model_name": "ButtonStyleModel",
      "state": {
       "_model_module": "@jupyter-widgets/controls",
       "_model_module_version": "2.0.0",
       "_model_name": "ButtonStyleModel",
       "_view_count": null,
       "_view_module": "@jupyter-widgets/base",
       "_view_module_version": "2.0.0",
       "_view_name": "StyleView",
       "button_color": null,
       "font_family": null,
       "font_size": null,
       "font_style": null,
       "font_variant": null,
       "font_weight": null,
       "text_color": null,
       "text_decoration": null
      }
     },
     "52395ce86bef4c4dab586541deaff00e": {
      "model_module": "@jupyter-widgets/base",
      "model_module_version": "2.0.0",
      "model_name": "LayoutModel",
      "state": {
       "_model_module": "@jupyter-widgets/base",
       "_model_module_version": "2.0.0",
       "_model_name": "LayoutModel",
       "_view_count": null,
       "_view_module": "@jupyter-widgets/base",
       "_view_module_version": "2.0.0",
       "_view_name": "LayoutView",
       "align_content": null,
       "align_items": null,
       "align_self": null,
       "border_bottom": null,
       "border_left": null,
       "border_right": null,
       "border_top": null,
       "bottom": null,
       "display": null,
       "flex": null,
       "flex_flow": null,
       "grid_area": null,
       "grid_auto_columns": null,
       "grid_auto_flow": null,
       "grid_auto_rows": null,
       "grid_column": null,
       "grid_gap": null,
       "grid_row": null,
       "grid_template_areas": null,
       "grid_template_columns": null,
       "grid_template_rows": null,
       "height": null,
       "justify_content": null,
       "justify_items": null,
       "left": null,
       "margin": null,
       "max_height": null,
       "max_width": null,
       "min_height": null,
       "min_width": null,
       "object_fit": null,
       "object_position": null,
       "order": null,
       "overflow": null,
       "padding": null,
       "right": null,
       "top": null,
       "visibility": null,
       "width": null
      }
     },
     "5cb602a3f2fb43e696c71da7da547e81": {
      "model_module": "nglview-js-widgets",
      "model_module_version": "3.0.6",
      "model_name": "ColormakerRegistryModel",
      "state": {
       "_dom_classes": [],
       "_model_module": "nglview-js-widgets",
       "_model_module_version": "3.0.6",
       "_model_name": "ColormakerRegistryModel",
       "_msg_ar": [],
       "_msg_q": [],
       "_ready": false,
       "_view_count": null,
       "_view_module": "nglview-js-widgets",
       "_view_module_version": "3.0.6",
       "_view_name": "ColormakerRegistryView",
       "layout": "IPY_MODEL_dec46a0fe73a4254af94b43c8ab22c2f",
       "tabbable": null,
       "tooltip": null
      }
     },
     "605df151435340968b2989568de61243": {
      "model_module": "@jupyter-widgets/base",
      "model_module_version": "2.0.0",
      "model_name": "LayoutModel",
      "state": {
       "_model_module": "@jupyter-widgets/base",
       "_model_module_version": "2.0.0",
       "_model_name": "LayoutModel",
       "_view_count": null,
       "_view_module": "@jupyter-widgets/base",
       "_view_module_version": "2.0.0",
       "_view_name": "LayoutView",
       "align_content": null,
       "align_items": null,
       "align_self": null,
       "border_bottom": null,
       "border_left": null,
       "border_right": null,
       "border_top": null,
       "bottom": null,
       "display": null,
       "flex": null,
       "flex_flow": null,
       "grid_area": null,
       "grid_auto_columns": null,
       "grid_auto_flow": null,
       "grid_auto_rows": null,
       "grid_column": null,
       "grid_gap": null,
       "grid_row": null,
       "grid_template_areas": null,
       "grid_template_columns": null,
       "grid_template_rows": null,
       "height": null,
       "justify_content": null,
       "justify_items": null,
       "left": null,
       "margin": null,
       "max_height": null,
       "max_width": null,
       "min_height": null,
       "min_width": null,
       "object_fit": null,
       "object_position": null,
       "order": null,
       "overflow": null,
       "padding": null,
       "right": null,
       "top": null,
       "visibility": null,
       "width": null
      }
     },
     "65ab7667a7b4404799a5e306ee2b94e6": {
      "model_module": "@jupyter-widgets/controls",
      "model_module_version": "2.0.0",
      "model_name": "LinkModel",
      "state": {
       "_model_module": "@jupyter-widgets/controls",
       "_model_module_version": "2.0.0",
       "_model_name": "LinkModel",
       "_view_count": null,
       "_view_module": "@jupyter-widgets/controls",
       "_view_module_version": "2.0.0",
       "_view_name": null,
       "source": [
        "IPY_MODEL_1dcae65675184788a8d70e2d16355467",
        "value"
       ],
       "target": [
        "IPY_MODEL_8bfb88914766458cbcd8c52c2696bd56",
        "value"
       ]
      }
     },
     "8a89ce0846124930a983e1f0c1f85ef4": {
      "model_module": "@jupyter-widgets/controls",
      "model_module_version": "2.0.0",
      "model_name": "ButtonModel",
      "state": {
       "_dom_classes": [],
       "_model_module": "@jupyter-widgets/controls",
       "_model_module_version": "2.0.0",
       "_model_name": "ButtonModel",
       "_view_count": null,
       "_view_module": "@jupyter-widgets/controls",
       "_view_module_version": "2.0.0",
       "_view_name": "ButtonView",
       "button_style": "",
       "description": "",
       "disabled": false,
       "icon": "compress",
       "layout": "IPY_MODEL_9f9e6979eb064638adea00a01f09465e",
       "style": "IPY_MODEL_50de0bda7ad141f3b0b30ac2d2cd8d67",
       "tabbable": null,
       "tooltip": null
      }
     },
     "8bfb88914766458cbcd8c52c2696bd56": {
      "model_module": "@jupyter-widgets/controls",
      "model_module_version": "2.0.0",
      "model_name": "IntSliderModel",
      "state": {
       "_dom_classes": [],
       "_model_module": "@jupyter-widgets/controls",
       "_model_module_version": "2.0.0",
       "_model_name": "IntSliderModel",
       "_view_count": null,
       "_view_module": "@jupyter-widgets/controls",
       "_view_module_version": "2.0.0",
       "_view_name": "IntSliderView",
       "behavior": "drag-tap",
       "continuous_update": true,
       "description": "",
       "description_allow_html": false,
       "disabled": false,
       "layout": "IPY_MODEL_52395ce86bef4c4dab586541deaff00e",
       "max": 99,
       "min": 0,
       "orientation": "horizontal",
       "readout": true,
       "readout_format": "d",
       "step": 1,
       "style": "IPY_MODEL_0d666e64e7ea4fee8001d81f6b379758",
       "tabbable": null,
       "tooltip": null,
       "value": 0
      }
     },
     "9f9e6979eb064638adea00a01f09465e": {
      "model_module": "@jupyter-widgets/base",
      "model_module_version": "2.0.0",
      "model_name": "LayoutModel",
      "state": {
       "_model_module": "@jupyter-widgets/base",
       "_model_module_version": "2.0.0",
       "_model_name": "LayoutModel",
       "_view_count": null,
       "_view_module": "@jupyter-widgets/base",
       "_view_module_version": "2.0.0",
       "_view_name": "LayoutView",
       "align_content": null,
       "align_items": null,
       "align_self": null,
       "border_bottom": null,
       "border_left": null,
       "border_right": null,
       "border_top": null,
       "bottom": null,
       "display": null,
       "flex": null,
       "flex_flow": null,
       "grid_area": null,
       "grid_auto_columns": null,
       "grid_auto_flow": null,
       "grid_auto_rows": null,
       "grid_column": null,
       "grid_gap": null,
       "grid_row": null,
       "grid_template_areas": null,
       "grid_template_columns": null,
       "grid_template_rows": null,
       "height": null,
       "justify_content": null,
       "justify_items": null,
       "left": null,
       "margin": null,
       "max_height": null,
       "max_width": null,
       "min_height": null,
       "min_width": null,
       "object_fit": null,
       "object_position": null,
       "order": null,
       "overflow": null,
       "padding": null,
       "right": null,
       "top": null,
       "visibility": null,
       "width": "34px"
      }
     },
     "bc4124ab778f45fb91bb97aa827fb096": {
      "model_module": "@jupyter-widgets/controls",
      "model_module_version": "2.0.0",
      "model_name": "DescriptionStyleModel",
      "state": {
       "_model_module": "@jupyter-widgets/controls",
       "_model_module_version": "2.0.0",
       "_model_name": "DescriptionStyleModel",
       "_view_count": null,
       "_view_module": "@jupyter-widgets/base",
       "_view_module_version": "2.0.0",
       "_view_name": "StyleView",
       "description_width": ""
      }
     },
     "bf858796484549ec859670b4a29d0916": {
      "model_module": "nglview-js-widgets",
      "model_module_version": "3.0.6",
      "model_name": "NGLModel",
      "state": {
       "_camera_orientation": [],
       "_camera_str": "orthographic",
       "_dom_classes": [],
       "_gui_theme": null,
       "_ibtn_fullscreen": "IPY_MODEL_8a89ce0846124930a983e1f0c1f85ef4",
       "_igui": null,
       "_iplayer": "IPY_MODEL_392150b3500f4c568c20b5d9fdec8d94",
       "_model_module": "nglview-js-widgets",
       "_model_module_version": "3.0.6",
       "_model_name": "NGLModel",
       "_ngl_color_dict": {},
       "_ngl_coordinate_resource": {},
       "_ngl_full_stage_parameters": {},
       "_ngl_msg_archive": [
        {
         "args": [
          {
           "binary": false,
           "data": "MODEL        0\nATOM      1  C1x UNK A   1       4.106  -1.363  -0.248  1.00  0.00           C  \nATOM      2  C2x UNK A   1       5.390  -0.794  -0.341  1.00  0.00           C  \nATOM      3  C3x UNK A   1       5.625   0.452   0.260  1.00  0.00           C  \nATOM      4 Cl1x UNK A   1       7.269   1.076   0.192  1.00  0.00          Cl  \nATOM      5  C4x UNK A   1       4.584   1.100   0.953  1.00  0.00           C  \nATOM      6  C5x UNK A   1       3.334   0.516   1.097  1.00  0.00           C  \nATOM      7  C6x UNK A   1       3.046  -0.694   0.364  1.00  0.00           C  \nATOM      8  C7x UNK A   1       1.708  -1.248   0.307  1.00  0.00           C  \nATOM      9  O1x UNK A   1       1.529  -2.413  -0.049  1.00  0.00           O  \nATOM     10  C8x UNK A   1       0.444  -0.635   0.867  1.00  0.00           C  \nATOM     11  S1x UNK A   1      -0.334   0.646  -0.282  1.00  0.00           S  \nATOM     12  C9x UNK A   1      -2.054   0.541   0.102  1.00  0.00           C  \nATOM     13 C10x UNK A   1      -2.661   1.367   0.989  1.00  0.00           C  \nATOM     14  O2x UNK A   1      -3.988   1.392   1.292  1.00  0.00           O  \nATOM     15 C11x UNK A   1      -4.754   0.264   0.821  1.00  0.00           C  \nATOM     16  F1x UNK A   1      -4.702  -0.764   1.731  1.00  0.00           F  \nATOM     17  F2x UNK A   1      -6.021   0.686   0.717  1.00  0.00           F  \nATOM     18 C12x UNK A   1      -4.325  -0.215  -0.642  1.00  0.00           C  \nATOM     19 C13x UNK A   1      -2.848  -0.478  -0.651  1.00  0.00           C  \nATOM     20  H1x UNK A   1       3.966  -2.267  -0.832  1.00  0.00           H  \nATOM     21  H2x UNK A   1       6.224  -1.229  -0.882  1.00  0.00           H  \nATOM     22  H3x UNK A   1       4.763   2.038   1.469  1.00  0.00           H  \nATOM     23  H4x UNK A   1       2.568   1.052   1.649  1.00  0.00           H  \nATOM     24  H5x UNK A   1      -0.310  -1.400   1.076  1.00  0.00           H  \nATOM     25  H6x UNK A   1       0.674  -0.157   1.824  1.00  0.00           H  \nATOM     26  H7x UNK A   1      -2.008   2.149   1.363  1.00  0.00           H  \nATOM     27  H8x UNK A   1      -4.612   0.545  -1.374  1.00  0.00           H  \nATOM     28  H9x UNK A   1      -4.862  -1.137  -0.885  1.00  0.00           H  \nATOM     29 H10x UNK A   1      -2.693  -1.500  -0.293  1.00  0.00           H  \nATOM     30 H11x UNK A   1      -2.485  -0.479  -1.683  1.00  0.00           H  \nATOM     31 EP   UNK A   1      -0.100   1.293  -0.153  1.00  0.00          VS  \nATOM     32 EP   UNK A   1      -0.231   0.492  -0.957  1.00  0.00          VS  \nATOM     33 EP   UNK A   1       7.643   1.218   0.176  1.00  0.00          VS  \nATOM     34 EP   UNK A   1      -4.687  -1.064   1.995  1.00  0.00          VS  \nATOM     35 EP   UNK A   1      -6.400   0.812   0.687  1.00  0.00          VS  \nTER      36      UNK A   1\nENDMDL\nEND\n",
           "type": "blob"
          }
         ],
         "kwargs": {
          "defaultRepresentation": true,
          "ext": "pdb",
          "name": "nglview.adaptor.MDTrajTrajectory"
         },
         "methodName": "loadFile",
         "reconstruc_color_scheme": false,
         "target": "Stage",
         "type": "call_method"
        }
       ],
       "_ngl_original_stage_parameters": {},
       "_ngl_repr_dict": {},
       "_ngl_serialize": false,
       "_ngl_version": "",
       "_ngl_view_id": [],
       "_player_dict": {},
       "_scene_position": {},
       "_scene_rotation": {},
       "_synced_model_ids": [],
       "_synced_repr_model_ids": [],
       "_view_count": null,
       "_view_height": "",
       "_view_module": "nglview-js-widgets",
       "_view_module_version": "3.0.6",
       "_view_name": "NGLView",
       "_view_width": "",
       "background": "white",
       "frame": 0,
       "gui_style": null,
       "layout": "IPY_MODEL_fb8733ef7f884f0ca4a76c455cad5879",
       "max_frame": 99,
       "n_components": 0,
       "picked": {},
       "tabbable": null,
       "tooltip": null
      }
     },
     "dcf9869dd5fa4f348c8011bd800bc293": {
      "model_module": "@jupyter-widgets/base",
      "model_module_version": "2.0.0",
      "model_name": "LayoutModel",
      "state": {
       "_model_module": "@jupyter-widgets/base",
       "_model_module_version": "2.0.0",
       "_model_name": "LayoutModel",
       "_view_count": null,
       "_view_module": "@jupyter-widgets/base",
       "_view_module_version": "2.0.0",
       "_view_name": "LayoutView",
       "align_content": null,
       "align_items": null,
       "align_self": null,
       "border_bottom": null,
       "border_left": null,
       "border_right": null,
       "border_top": null,
       "bottom": null,
       "display": null,
       "flex": null,
       "flex_flow": null,
       "grid_area": null,
       "grid_auto_columns": null,
       "grid_auto_flow": null,
       "grid_auto_rows": null,
       "grid_column": null,
       "grid_gap": null,
       "grid_row": null,
       "grid_template_areas": null,
       "grid_template_columns": null,
       "grid_template_rows": null,
       "height": null,
       "justify_content": null,
       "justify_items": null,
       "left": null,
       "margin": null,
       "max_height": null,
       "max_width": null,
       "min_height": null,
       "min_width": null,
       "object_fit": null,
       "object_position": null,
       "order": null,
       "overflow": null,
       "padding": null,
       "right": null,
       "top": null,
       "visibility": null,
       "width": null
      }
     },
     "dec46a0fe73a4254af94b43c8ab22c2f": {
      "model_module": "@jupyter-widgets/base",
      "model_module_version": "2.0.0",
      "model_name": "LayoutModel",
      "state": {
       "_model_module": "@jupyter-widgets/base",
       "_model_module_version": "2.0.0",
       "_model_name": "LayoutModel",
       "_view_count": null,
       "_view_module": "@jupyter-widgets/base",
       "_view_module_version": "2.0.0",
       "_view_name": "LayoutView",
       "align_content": null,
       "align_items": null,
       "align_self": null,
       "border_bottom": null,
       "border_left": null,
       "border_right": null,
       "border_top": null,
       "bottom": null,
       "display": null,
       "flex": null,
       "flex_flow": null,
       "grid_area": null,
       "grid_auto_columns": null,
       "grid_auto_flow": null,
       "grid_auto_rows": null,
       "grid_column": null,
       "grid_gap": null,
       "grid_row": null,
       "grid_template_areas": null,
       "grid_template_columns": null,
       "grid_template_rows": null,
       "height": null,
       "justify_content": null,
       "justify_items": null,
       "left": null,
       "margin": null,
       "max_height": null,
       "max_width": null,
       "min_height": null,
       "min_width": null,
       "object_fit": null,
       "object_position": null,
       "order": null,
       "overflow": null,
       "padding": null,
       "right": null,
       "top": null,
       "visibility": null,
       "width": null
      }
     },
     "fb8733ef7f884f0ca4a76c455cad5879": {
      "model_module": "@jupyter-widgets/base",
      "model_module_version": "2.0.0",
      "model_name": "LayoutModel",
      "state": {
       "_model_module": "@jupyter-widgets/base",
       "_model_module_version": "2.0.0",
       "_model_name": "LayoutModel",
       "_view_count": null,
       "_view_module": "@jupyter-widgets/base",
       "_view_module_version": "2.0.0",
       "_view_name": "LayoutView",
       "align_content": null,
       "align_items": null,
       "align_self": null,
       "border_bottom": null,
       "border_left": null,
       "border_right": null,
       "border_top": null,
       "bottom": null,
       "display": null,
       "flex": null,
       "flex_flow": null,
       "grid_area": null,
       "grid_auto_columns": null,
       "grid_auto_flow": null,
       "grid_auto_rows": null,
       "grid_column": null,
       "grid_gap": null,
       "grid_row": null,
       "grid_template_areas": null,
       "grid_template_columns": null,
       "grid_template_rows": null,
       "height": null,
       "justify_content": null,
       "justify_items": null,
       "left": null,
       "margin": null,
       "max_height": null,
       "max_width": null,
       "min_height": null,
       "min_width": null,
       "object_fit": null,
       "object_position": null,
       "order": null,
       "overflow": null,
       "padding": null,
       "right": null,
       "top": null,
       "visibility": null,
       "width": null
      }
     }
    },
    "version_major": 2,
    "version_minor": 0
   }
  }
 },
 "nbformat": 4,
 "nbformat_minor": 4
}

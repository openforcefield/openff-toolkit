{
 "cells": [
  {
   "cell_type": "markdown",
   "metadata": {},
   "source": [
    "# Virtual Sites Showcase"
   ]
  },
  {
   "cell_type": "markdown",
   "metadata": {},
   "source": [
    "The OpenFF Toolkit supports specifying virtual sites in a SMIRNOFF force field. This approach treats virtual sites as a feature of the potential energy function, rather than of the chemical system, cleanly seperating the system being modelled from the model itself. This notebook demonstrates the specification and use of virtual sites and compares a SMIRNOFF implementation of TIP5P water to the implementation distributed with OpenMM."
   ]
  },
  {
   "cell_type": "markdown",
   "metadata": {},
   "source": [
    "## Setup"
   ]
  },
  {
   "cell_type": "code",
   "execution_count": 1,
   "metadata": {
    "pycharm": {
     "name": "#%%\n"
    }
   },
   "outputs": [
    {
     "data": {
      "application/vnd.jupyter.widget-view+json": {
       "model_id": "7f4e1ebf5c0641b8b890abb69aea3289",
       "version_major": 2,
       "version_minor": 0
      },
      "text/plain": []
     },
     "metadata": {},
     "output_type": "display_data"
    }
   ],
   "source": [
    "import time\n",
    "\n",
    "import numpy\n",
    "import openmm\n",
    "import openmm.app\n",
    "import openmm.unit\n",
    "from openff.interchange import Interchange\n",
    "from openff.units import Quantity, unit\n",
    "\n",
    "from openff.toolkit import ForceField, Molecule, Topology"
   ]
  },
  {
   "cell_type": "code",
   "execution_count": 2,
   "metadata": {},
   "outputs": [],
   "source": [
    "def prepare_simulation(interchange: Interchange) -> openmm.app.Simulation:\n",
    "    \"\"\"Propagate an OpenMM System with Langevin dynamics.\"\"\"\n",
    "    time_step = 2 * openmm.unit.femtoseconds\n",
    "    temperature = 300 * openmm.unit.kelvin\n",
    "    friction = 1 / openmm.unit.picosecond\n",
    "    integrator = openmm.LangevinIntegrator(temperature, friction, time_step)\n",
    "\n",
    "    trj_freq, data_freq = 100, 100\n",
    "\n",
    "    simulation = interchange.to_openmm_simulation(integrator=integrator)\n",
    "\n",
    "    # It's important to run energy minimization before computing velocities; otherwise the initial\n",
    "    # velocities of virtual sites may be too high as a result of high initial forces, causing a crash\n",
    "    # See https://github.com/openmm/openmm/issues/3736#issuecomment-1217250635\n",
    "    simulation.minimizeEnergy()\n",
    "\n",
    "    # Since we placed all virtual sites at [0.0, 0.0, 0.0], compute virtual site positions to avoid a crash\n",
    "    simulation.context.computeVirtualSites()\n",
    "\n",
    "    simulation.context.setVelocitiesToTemperature(temperature)\n",
    "\n",
    "    pdb_reporter = openmm.app.PDBReporter(\"trajectory.pdb\", trj_freq)\n",
    "    state_data_reporter = openmm.app.StateDataReporter(\n",
    "        \"data.csv\",\n",
    "        data_freq,\n",
    "        step=True,\n",
    "        potentialEnergy=True,\n",
    "        temperature=True,\n",
    "        density=True,\n",
    "    )\n",
    "    simulation.reporters.append(pdb_reporter)\n",
    "    simulation.reporters.append(state_data_reporter)\n",
    "\n",
    "    return simulation\n",
    "\n",
    "\n",
    "def run_simulation(simulation: openmm.app.Simulation, num_steps: int = 1000):\n",
    "    print(\"Starting simulation\")\n",
    "    start = time.process_time()\n",
    "\n",
    "    simulation.step(num_steps)\n",
    "\n",
    "    end = time.process_time()\n",
    "    print(\"Elapsed time %.2f seconds\" % (end - start))\n",
    "    print(\"Done!\")"
   ]
  },
  {
   "cell_type": "markdown",
   "metadata": {
    "pycharm": {
     "name": "#%% md\n"
    }
   },
   "source": [
    "## Part 1: Run a short simulation with a virtual sites on sulfur lone pair and chloride groups"
   ]
  },
  {
   "cell_type": "markdown",
   "metadata": {},
   "source": [
    "This part demonstrates the specification of virtual sites in the SMIRNOFF format.\n",
    "\n",
    "First, we write the definition of a SMIRNOFF force field with virtual sites in OFFXML format. We will append this force field to the OpenFF Sage small molecule force field, so it only needs to specify the virtual sites we want to supplement Sage with. For details, see the [SMIRNOFF specification].\n",
    "\n",
    "[SMIRNOFF specification]: https://openforcefield.github.io/standards/standards/smirnoff/#virtualsites-virtual-sites-for-off-atom-charges"
   ]
  },
  {
   "cell_type": "code",
   "execution_count": 3,
   "metadata": {
    "pycharm": {
     "name": "#%%\n"
    }
   },
   "outputs": [],
   "source": [
    "vsite_offxml = \"\"\"<?xml version=\"1.0\" encoding=\"utf-8\"?>\n",
    "<SMIRNOFF version=\"0.3\" aromaticity_model=\"OEAroModel_MDL\">\n",
    "    <VirtualSites version=\"0.3\">\n",
    "        <VirtualSite\n",
    "            type=\"DivalentLonePair\"\n",
    "            name=\"EP\"\n",
    "            smirks=\"[*:2]-[#16X2:1]-[*:3]\"\n",
    "            distance=\"0.70 * angstrom\"\n",
    "            charge_increment1=\"0.1205*elementary_charge\"\n",
    "            charge_increment2=\"0.0*elementary_charge\"\n",
    "            charge_increment3=\"0.1205*elementary_charge\"\n",
    "            sigma=\"0.1*angstrom\"\n",
    "            epsilon=\"0.0*kilocalories_per_mole\"\n",
    "            outOfPlaneAngle=\"54.71384225*degree\"\n",
    "            match=\"all_permutations\" >\n",
    "        </VirtualSite>\n",
    "        <VirtualSite\n",
    "            type=\"BondCharge\"\n",
    "            name=\"EP\"\n",
    "            smirks=\"[*:2][Cl:1]\"\n",
    "            distance=\"0.4*angstrom\"\n",
    "            charge_increment1=\"0.2*elementary_charge\"\n",
    "            charge_increment2=\"0.0*elementary_charge\"\n",
    "            sigma=\"0.1*angstrom\"\n",
    "            epsilon=\"0.05*kilocalories_per_mole\"\n",
    "            match=\"all_permutations\" >\n",
    "        </VirtualSite>\n",
    "        <VirtualSite\n",
    "            type=\"BondCharge\"\n",
    "            name=\"EP\"\n",
    "            smirks=\"[*:2][F:1]\"\n",
    "            distance=\"0.4*angstrom\"\n",
    "            charge_increment1=\"0.2*elementary_charge\"\n",
    "            charge_increment2=\"0.0*elementary_charge\"\n",
    "            sigma=\"0.1*angstrom\"\n",
    "            epsilon=\"0.05*kilocalories_per_mole\"\n",
    "            match=\"all_permutations\" >\n",
    "        </VirtualSite>\n",
    "    </VirtualSites>\n",
    "</SMIRNOFF>\n",
    "\"\"\"\n",
    "\n",
    "# Load Sage and append our virtual sites\n",
    "force_field = ForceField(\"openff-2.1.0.offxml\", vsite_offxml)"
   ]
  },
  {
   "cell_type": "markdown",
   "metadata": {},
   "source": [
    "Load a molecule including a divalent sulfur atom:"
   ]
  },
  {
   "cell_type": "code",
   "execution_count": 4,
   "metadata": {
    "pycharm": {
     "name": "#%%\n"
    }
   },
   "outputs": [
    {
     "data": {
      "image/svg+xml": [
       "<svg xmlns=\"http://www.w3.org/2000/svg\" xmlns:rdkit=\"http://www.rdkit.org/xml\" xmlns:xlink=\"http://www.w3.org/1999/xlink\" version=\"1.1\" baseProfile=\"full\" xml:space=\"preserve\" width=\"500px\" height=\"300px\" viewBox=\"0 0 500 300\">\n",
       "<!-- END OF HEADER -->\n",
       "<rect style=\"opacity:1.0;fill:#FFFFFF;stroke:none\" width=\"500.0\" height=\"300.0\" x=\"0.0\" y=\"0.0\"> </rect>\n",
       "<path class=\"bond-0 atom-0 atom-1\" d=\"M 355.5,178.0 L 355.6,217.6\" style=\"fill:none;fill-rule:evenodd;stroke:#000000;stroke-width:2.0px;stroke-linecap:butt;stroke-linejoin:miter;stroke-opacity:1\"/>\n",
       "<path class=\"bond-0 atom-0 atom-1\" d=\"M 349.6,181.4 L 349.7,214.2\" style=\"fill:none;fill-rule:evenodd;stroke:#000000;stroke-width:2.0px;stroke-linecap:butt;stroke-linejoin:miter;stroke-opacity:1\"/>\n",
       "<path class=\"bond-1 atom-1 atom-2\" d=\"M 355.6,217.6 L 321.4,237.6\" style=\"fill:none;fill-rule:evenodd;stroke:#000000;stroke-width:2.0px;stroke-linecap:butt;stroke-linejoin:miter;stroke-opacity:1\"/>\n",
       "<path class=\"bond-2 atom-2 atom-3\" d=\"M 321.4,237.6 L 321.5,252.7\" style=\"fill:none;fill-rule:evenodd;stroke:#000000;stroke-width:2.0px;stroke-linecap:butt;stroke-linejoin:miter;stroke-opacity:1\"/>\n",
       "<path class=\"bond-2 atom-2 atom-3\" d=\"M 321.5,252.7 L 321.5,267.8\" style=\"fill:none;fill-rule:evenodd;stroke:#00CC00;stroke-width:2.0px;stroke-linecap:butt;stroke-linejoin:miter;stroke-opacity:1\"/>\n",
       "<path class=\"bond-3 atom-2 atom-4\" d=\"M 321.4,237.6 L 287.0,217.8\" style=\"fill:none;fill-rule:evenodd;stroke:#000000;stroke-width:2.0px;stroke-linecap:butt;stroke-linejoin:miter;stroke-opacity:1\"/>\n",
       "<path class=\"bond-3 atom-2 atom-4\" d=\"M 321.4,230.8 L 292.9,214.4\" style=\"fill:none;fill-rule:evenodd;stroke:#000000;stroke-width:2.0px;stroke-linecap:butt;stroke-linejoin:miter;stroke-opacity:1\"/>\n",
       "<path class=\"bond-4 atom-4 atom-5\" d=\"M 287.0,217.8 L 286.9,178.3\" style=\"fill:none;fill-rule:evenodd;stroke:#000000;stroke-width:2.0px;stroke-linecap:butt;stroke-linejoin:miter;stroke-opacity:1\"/>\n",
       "<path class=\"bond-5 atom-5 atom-6\" d=\"M 286.9,178.3 L 321.1,158.3\" style=\"fill:none;fill-rule:evenodd;stroke:#000000;stroke-width:2.0px;stroke-linecap:butt;stroke-linejoin:miter;stroke-opacity:1\"/>\n",
       "<path class=\"bond-5 atom-5 atom-6\" d=\"M 292.8,181.6 L 321.1,165.1\" style=\"fill:none;fill-rule:evenodd;stroke:#000000;stroke-width:2.0px;stroke-linecap:butt;stroke-linejoin:miter;stroke-opacity:1\"/>\n",
       "<path class=\"bond-6 atom-6 atom-7\" d=\"M 321.1,158.3 L 321.4,119.1\" style=\"fill:none;fill-rule:evenodd;stroke:#000000;stroke-width:2.0px;stroke-linecap:butt;stroke-linejoin:miter;stroke-opacity:1\"/>\n",
       "<path class=\"bond-7 atom-7 atom-8\" d=\"M 321.4,122.5 L 334.8,114.8\" style=\"fill:none;fill-rule:evenodd;stroke:#000000;stroke-width:2.0px;stroke-linecap:butt;stroke-linejoin:miter;stroke-opacity:1\"/>\n",
       "<path class=\"bond-7 atom-7 atom-8\" d=\"M 334.8,114.8 L 348.2,107.1\" style=\"fill:none;fill-rule:evenodd;stroke:#FF0000;stroke-width:2.0px;stroke-linecap:butt;stroke-linejoin:miter;stroke-opacity:1\"/>\n",
       "<path class=\"bond-7 atom-7 atom-8\" d=\"M 318.5,117.3 L 331.9,109.7\" style=\"fill:none;fill-rule:evenodd;stroke:#000000;stroke-width:2.0px;stroke-linecap:butt;stroke-linejoin:miter;stroke-opacity:1\"/>\n",
       "<path class=\"bond-7 atom-7 atom-8\" d=\"M 331.9,109.7 L 345.3,102.0\" style=\"fill:none;fill-rule:evenodd;stroke:#FF0000;stroke-width:2.0px;stroke-linecap:butt;stroke-linejoin:miter;stroke-opacity:1\"/>\n",
       "<path class=\"bond-8 atom-7 atom-9\" d=\"M 321.4,119.1 L 288.0,99.5\" style=\"fill:none;fill-rule:evenodd;stroke:#000000;stroke-width:2.0px;stroke-linecap:butt;stroke-linejoin:miter;stroke-opacity:1\"/>\n",
       "<path class=\"bond-9 atom-9 atom-10\" d=\"M 288.0,99.5 L 273.7,107.5\" style=\"fill:none;fill-rule:evenodd;stroke:#000000;stroke-width:2.0px;stroke-linecap:butt;stroke-linejoin:miter;stroke-opacity:1\"/>\n",
       "<path class=\"bond-9 atom-9 atom-10\" d=\"M 273.7,107.5 L 259.5,115.6\" style=\"fill:none;fill-rule:evenodd;stroke:#CCCC00;stroke-width:2.0px;stroke-linecap:butt;stroke-linejoin:miter;stroke-opacity:1\"/>\n",
       "<path class=\"bond-10 atom-10 atom-11\" d=\"M 246.1,115.6 L 232.0,107.6\" style=\"fill:none;fill-rule:evenodd;stroke:#CCCC00;stroke-width:2.0px;stroke-linecap:butt;stroke-linejoin:miter;stroke-opacity:1\"/>\n",
       "<path class=\"bond-10 atom-10 atom-11\" d=\"M 232.0,107.6 L 218.0,99.6\" style=\"fill:none;fill-rule:evenodd;stroke:#000000;stroke-width:2.0px;stroke-linecap:butt;stroke-linejoin:miter;stroke-opacity:1\"/>\n",
       "<path class=\"bond-11 atom-11 atom-12\" d=\"M 218.0,99.6 L 217.9,59.9\" style=\"fill:none;fill-rule:evenodd;stroke:#000000;stroke-width:2.0px;stroke-linecap:butt;stroke-linejoin:miter;stroke-opacity:1\"/>\n",
       "<path class=\"bond-11 atom-11 atom-12\" d=\"M 212.1,96.2 L 212.0,63.3\" style=\"fill:none;fill-rule:evenodd;stroke:#000000;stroke-width:2.0px;stroke-linecap:butt;stroke-linejoin:miter;stroke-opacity:1\"/>\n",
       "<path class=\"bond-12 atom-12 atom-13\" d=\"M 217.9,59.9 L 205.2,52.5\" style=\"fill:none;fill-rule:evenodd;stroke:#000000;stroke-width:2.0px;stroke-linecap:butt;stroke-linejoin:miter;stroke-opacity:1\"/>\n",
       "<path class=\"bond-12 atom-12 atom-13\" d=\"M 205.2,52.5 L 192.6,45.2\" style=\"fill:none;fill-rule:evenodd;stroke:#FF0000;stroke-width:2.0px;stroke-linecap:butt;stroke-linejoin:miter;stroke-opacity:1\"/>\n",
       "<path class=\"bond-13 atom-13 atom-14\" d=\"M 174.6,45.1 L 161.9,52.4\" style=\"fill:none;fill-rule:evenodd;stroke:#FF0000;stroke-width:2.0px;stroke-linecap:butt;stroke-linejoin:miter;stroke-opacity:1\"/>\n",
       "<path class=\"bond-13 atom-13 atom-14\" d=\"M 161.9,52.4 L 149.3,59.7\" style=\"fill:none;fill-rule:evenodd;stroke:#000000;stroke-width:2.0px;stroke-linecap:butt;stroke-linejoin:miter;stroke-opacity:1\"/>\n",
       "<path class=\"bond-14 atom-14 atom-15\" d=\"M 149.3,59.7 L 136.8,60.8\" style=\"fill:none;fill-rule:evenodd;stroke:#000000;stroke-width:2.0px;stroke-linecap:butt;stroke-linejoin:miter;stroke-opacity:1\"/>\n",
       "<path class=\"bond-14 atom-14 atom-15\" d=\"M 136.8,60.8 L 124.3,62.0\" style=\"fill:none;fill-rule:evenodd;stroke:#33CCCC;stroke-width:2.0px;stroke-linecap:butt;stroke-linejoin:miter;stroke-opacity:1\"/>\n",
       "<path class=\"bond-15 atom-14 atom-16\" d=\"M 149.3,59.7 L 144.7,45.7\" style=\"fill:none;fill-rule:evenodd;stroke:#000000;stroke-width:2.0px;stroke-linecap:butt;stroke-linejoin:miter;stroke-opacity:1\"/>\n",
       "<path class=\"bond-15 atom-14 atom-16\" d=\"M 144.7,45.7 L 140.1,31.8\" style=\"fill:none;fill-rule:evenodd;stroke:#33CCCC;stroke-width:2.0px;stroke-linecap:butt;stroke-linejoin:miter;stroke-opacity:1\"/>\n",
       "<path class=\"bond-16 atom-14 atom-17\" d=\"M 149.3,59.7 L 149.1,99.4\" style=\"fill:none;fill-rule:evenodd;stroke:#000000;stroke-width:2.0px;stroke-linecap:butt;stroke-linejoin:miter;stroke-opacity:1\"/>\n",
       "<path class=\"bond-17 atom-17 atom-18\" d=\"M 149.1,99.4 L 183.6,119.3\" style=\"fill:none;fill-rule:evenodd;stroke:#000000;stroke-width:2.0px;stroke-linecap:butt;stroke-linejoin:miter;stroke-opacity:1\"/>\n",
       "<path class=\"bond-18 atom-6 atom-0\" d=\"M 321.1,158.3 L 355.5,178.0\" style=\"fill:none;fill-rule:evenodd;stroke:#000000;stroke-width:2.0px;stroke-linecap:butt;stroke-linejoin:miter;stroke-opacity:1\"/>\n",
       "<path class=\"bond-19 atom-18 atom-11\" d=\"M 183.6,119.3 L 218.0,99.6\" style=\"fill:none;fill-rule:evenodd;stroke:#000000;stroke-width:2.0px;stroke-linecap:butt;stroke-linejoin:miter;stroke-opacity:1\"/>\n",
       "<path class=\"bond-20 atom-0 atom-19\" d=\"M 355.5,178.0 L 381.8,162.7\" style=\"fill:none;fill-rule:evenodd;stroke:#000000;stroke-width:2.0px;stroke-linecap:butt;stroke-linejoin:miter;stroke-opacity:1\"/>\n",
       "<path class=\"bond-21 atom-1 atom-20\" d=\"M 355.6,217.6 L 382.1,232.8\" style=\"fill:none;fill-rule:evenodd;stroke:#000000;stroke-width:2.0px;stroke-linecap:butt;stroke-linejoin:miter;stroke-opacity:1\"/>\n",
       "<path class=\"bond-22 atom-4 atom-21\" d=\"M 287.0,217.8 L 260.7,233.2\" style=\"fill:none;fill-rule:evenodd;stroke:#000000;stroke-width:2.0px;stroke-linecap:butt;stroke-linejoin:miter;stroke-opacity:1\"/>\n",
       "<path class=\"bond-23 atom-5 atom-22\" d=\"M 286.9,178.3 L 260.4,163.1\" style=\"fill:none;fill-rule:evenodd;stroke:#000000;stroke-width:2.0px;stroke-linecap:butt;stroke-linejoin:miter;stroke-opacity:1\"/>\n",
       "<path class=\"bond-24 atom-9 atom-23\" d=\"M 288.0,99.5 L 274.9,75.5\" style=\"fill:none;fill-rule:evenodd;stroke:#000000;stroke-width:2.0px;stroke-linecap:butt;stroke-linejoin:miter;stroke-opacity:1\"/>\n",
       "<path class=\"bond-25 atom-9 atom-24\" d=\"M 288.0,99.5 L 302.4,75.1\" style=\"fill:none;fill-rule:evenodd;stroke:#000000;stroke-width:2.0px;stroke-linecap:butt;stroke-linejoin:miter;stroke-opacity:1\"/>\n",
       "<path class=\"bond-26 atom-12 atom-25\" d=\"M 217.9,59.9 L 242.9,44.9\" style=\"fill:none;fill-rule:evenodd;stroke:#000000;stroke-width:2.0px;stroke-linecap:butt;stroke-linejoin:miter;stroke-opacity:1\"/>\n",
       "<path class=\"bond-27 atom-17 atom-26\" d=\"M 149.1,99.4 L 137.7,125.6\" style=\"fill:none;fill-rule:evenodd;stroke:#000000;stroke-width:2.0px;stroke-linecap:butt;stroke-linejoin:miter;stroke-opacity:1\"/>\n",
       "<path class=\"bond-28 atom-17 atom-27\" d=\"M 149.1,99.4 L 117.9,94.6\" style=\"fill:none;fill-rule:evenodd;stroke:#000000;stroke-width:2.0px;stroke-linecap:butt;stroke-linejoin:miter;stroke-opacity:1\"/>\n",
       "<path class=\"bond-29 atom-18 atom-28\" d=\"M 183.6,119.3 L 202.3,140.0\" style=\"fill:none;fill-rule:evenodd;stroke:#000000;stroke-width:2.0px;stroke-linecap:butt;stroke-linejoin:miter;stroke-opacity:1\"/>\n",
       "<path class=\"bond-30 atom-18 atom-29\" d=\"M 183.6,119.3 L 167.8,141.6\" style=\"fill:none;fill-rule:evenodd;stroke:#000000;stroke-width:2.0px;stroke-linecap:butt;stroke-linejoin:miter;stroke-opacity:1\"/>\n",
       "<path d=\"M 321.4,121.0 L 321.4,119.1 L 319.7,118.1\" style=\"fill:none;stroke:#000000;stroke-width:2.0px;stroke-linecap:butt;stroke-linejoin:miter;stroke-opacity:1;\"/>\n",
       "<path class=\"atom-3\" d=\"M 315.1 277.7 Q 315.1 273.5, 317.0 271.3 Q 319.0 269.1, 322.7 269.1 Q 326.2 269.1, 328.0 271.6 L 326.5 272.9 Q 325.1 271.1, 322.7 271.1 Q 320.2 271.1, 318.8 272.8 Q 317.5 274.5, 317.5 277.7 Q 317.5 281.0, 318.9 282.8 Q 320.3 284.5, 323.0 284.5 Q 324.8 284.5, 327.0 283.3 L 327.6 285.1 Q 326.8 285.7, 325.4 286.0 Q 324.1 286.4, 322.6 286.4 Q 319.0 286.4, 317.0 284.1 Q 315.1 281.9, 315.1 277.7 \" fill=\"#00CC00\"/>\n",
       "<path class=\"atom-3\" d=\"M 329.7 268.1 L 331.9 268.1 L 331.9 286.1 L 329.7 286.1 L 329.7 268.1 \" fill=\"#00CC00\"/>\n",
       "<path class=\"atom-8\" d=\"M 348.1 99.5 Q 348.1 95.4, 350.1 93.2 Q 352.1 90.9, 355.8 90.9 Q 359.5 90.9, 361.5 93.2 Q 363.5 95.4, 363.5 99.5 Q 363.5 103.5, 361.5 105.9 Q 359.5 108.2, 355.8 108.2 Q 352.1 108.2, 350.1 105.9 Q 348.1 103.6, 348.1 99.5 M 355.8 106.3 Q 358.4 106.3, 359.7 104.6 Q 361.1 102.8, 361.1 99.5 Q 361.1 96.2, 359.7 94.5 Q 358.4 92.8, 355.8 92.8 Q 353.2 92.8, 351.8 94.5 Q 350.5 96.1, 350.5 99.5 Q 350.5 102.9, 351.8 104.6 Q 353.2 106.3, 355.8 106.3 \" fill=\"#FF0000\"/>\n",
       "<path class=\"atom-10\" d=\"M 248.0 125.2 Q 248.2 125.2, 249.0 125.6 Q 249.8 125.9, 250.7 126.1 Q 251.5 126.3, 252.4 126.3 Q 254.0 126.3, 254.9 125.5 Q 255.8 124.7, 255.8 123.4 Q 255.8 122.5, 255.4 121.9 Q 254.9 121.3, 254.2 121.0 Q 253.5 120.7, 252.3 120.4 Q 250.8 119.9, 249.9 119.5 Q 249.0 119.0, 248.4 118.1 Q 247.8 117.2, 247.8 115.7 Q 247.8 113.6, 249.2 112.3 Q 250.6 111.0, 253.5 111.0 Q 255.4 111.0, 257.6 111.9 L 257.1 113.7 Q 255.1 112.9, 253.6 112.9 Q 251.9 112.9, 251.0 113.6 Q 250.1 114.3, 250.1 115.4 Q 250.1 116.3, 250.6 116.9 Q 251.1 117.4, 251.7 117.7 Q 252.4 118.0, 253.6 118.4 Q 255.1 118.9, 256.0 119.4 Q 256.9 119.8, 257.5 120.8 Q 258.2 121.8, 258.2 123.4 Q 258.2 125.7, 256.6 127.0 Q 255.1 128.2, 252.5 128.2 Q 251.0 128.2, 249.8 127.9 Q 248.7 127.6, 247.4 127.0 L 248.0 125.2 \" fill=\"#CCCC00\"/>\n",
       "<path class=\"atom-13\" d=\"M 175.9 40.0 Q 175.9 35.9, 177.9 33.7 Q 179.9 31.4, 183.6 31.4 Q 187.3 31.4, 189.3 33.7 Q 191.3 35.9, 191.3 40.0 Q 191.3 44.1, 189.3 46.4 Q 187.3 48.7, 183.6 48.7 Q 179.9 48.7, 177.9 46.4 Q 175.9 44.1, 175.9 40.0 M 183.6 46.8 Q 186.2 46.8, 187.5 45.1 Q 188.9 43.3, 188.9 40.0 Q 188.9 36.7, 187.5 35.0 Q 186.2 33.3, 183.6 33.3 Q 181.0 33.3, 179.6 35.0 Q 178.2 36.6, 178.2 40.0 Q 178.2 43.4, 179.6 45.1 Q 181.0 46.8, 183.6 46.8 \" fill=\"#FF0000\"/>\n",
       "<path class=\"atom-15\" d=\"M 113.0 54.2 L 123.0 54.2 L 123.0 56.1 L 115.3 56.1 L 115.3 61.2 L 122.2 61.2 L 122.2 63.1 L 115.3 63.1 L 115.3 71.0 L 113.0 71.0 L 113.0 54.2 \" fill=\"#33CCCC\"/>\n",
       "<path class=\"atom-16\" d=\"M 131.9 13.6 L 141.9 13.6 L 141.9 15.6 L 134.2 15.6 L 134.2 20.7 L 141.1 20.7 L 141.1 22.6 L 134.2 22.6 L 134.2 30.5 L 131.9 30.5 L 131.9 13.6 \" fill=\"#33CCCC\"/>\n",
       "<path class=\"atom-19\" d=\"M 383.1 149.7 L 385.4 149.7 L 385.4 156.8 L 394.0 156.8 L 394.0 149.7 L 396.3 149.7 L 396.3 166.5 L 394.0 166.5 L 394.0 158.7 L 385.4 158.7 L 385.4 166.5 L 383.1 166.5 L 383.1 149.7 \" fill=\"#000000\"/>\n",
       "<path class=\"atom-20\" d=\"M 383.4 228.9 L 385.7 228.9 L 385.7 236.0 L 394.3 236.0 L 394.3 228.9 L 396.6 228.9 L 396.6 245.7 L 394.3 245.7 L 394.3 237.9 L 385.7 237.9 L 385.7 245.7 L 383.4 245.7 L 383.4 228.9 \" fill=\"#000000\"/>\n",
       "<path class=\"atom-21\" d=\"M 246.2 229.3 L 248.5 229.3 L 248.5 236.5 L 257.1 236.5 L 257.1 229.3 L 259.4 229.3 L 259.4 246.2 L 257.1 246.2 L 257.1 238.4 L 248.5 238.4 L 248.5 246.2 L 246.2 246.2 L 246.2 229.3 \" fill=\"#000000\"/>\n",
       "<path class=\"atom-22\" d=\"M 245.9 150.1 L 248.2 150.1 L 248.2 157.3 L 256.8 157.3 L 256.8 150.1 L 259.1 150.1 L 259.1 167.0 L 256.8 167.0 L 256.8 159.2 L 248.2 159.2 L 248.2 167.0 L 245.9 167.0 L 245.9 150.1 \" fill=\"#000000\"/>\n",
       "<path class=\"atom-23\" d=\"M 263.0 57.4 L 265.2 57.4 L 265.2 64.5 L 273.8 64.5 L 273.8 57.4 L 276.1 57.4 L 276.1 74.2 L 273.8 74.2 L 273.8 66.4 L 265.2 66.4 L 265.2 74.2 L 263.0 74.2 L 263.0 57.4 \" fill=\"#000000\"/>\n",
       "<path class=\"atom-24\" d=\"M 301.6 57.0 L 303.9 57.0 L 303.9 64.1 L 312.5 64.1 L 312.5 57.0 L 314.8 57.0 L 314.8 73.8 L 312.5 73.8 L 312.5 66.0 L 303.9 66.0 L 303.9 73.8 L 301.6 73.8 L 301.6 57.0 \" fill=\"#000000\"/>\n",
       "<path class=\"atom-25\" d=\"M 244.2 31.8 L 246.5 31.8 L 246.5 39.0 L 255.1 39.0 L 255.1 31.8 L 257.4 31.8 L 257.4 48.6 L 255.1 48.6 L 255.1 40.9 L 246.5 40.9 L 246.5 48.6 L 244.2 48.6 L 244.2 31.8 \" fill=\"#000000\"/>\n",
       "<path class=\"atom-26\" d=\"M 126.9 126.9 L 129.2 126.9 L 129.2 134.1 L 137.8 134.1 L 137.8 126.9 L 140.0 126.9 L 140.0 143.7 L 137.8 143.7 L 137.8 136.0 L 129.2 136.0 L 129.2 143.7 L 126.9 143.7 L 126.9 126.9 \" fill=\"#000000\"/>\n",
       "<path class=\"atom-27\" d=\"M 103.4 85.0 L 105.7 85.0 L 105.7 92.1 L 114.3 92.1 L 114.3 85.0 L 116.6 85.0 L 116.6 101.8 L 114.3 101.8 L 114.3 94.0 L 105.7 94.0 L 105.7 101.8 L 103.4 101.8 L 103.4 85.0 \" fill=\"#000000\"/>\n",
       "<path class=\"atom-28\" d=\"M 203.6 140.3 L 205.9 140.3 L 205.9 147.4 L 214.5 147.4 L 214.5 140.3 L 216.8 140.3 L 216.8 157.1 L 214.5 157.1 L 214.5 149.3 L 205.9 149.3 L 205.9 157.1 L 203.6 157.1 L 203.6 140.3 \" fill=\"#000000\"/>\n",
       "<path class=\"atom-29\" d=\"M 154.3 142.9 L 156.6 142.9 L 156.6 150.0 L 165.2 150.0 L 165.2 142.9 L 167.5 142.9 L 167.5 159.7 L 165.2 159.7 L 165.2 151.9 L 156.6 151.9 L 156.6 159.7 L 154.3 159.7 L 154.3 142.9 \" fill=\"#000000\"/>\n",
       "</svg>"
      ],
      "text/plain": [
       "<IPython.core.display.SVG object>"
      ]
     },
     "execution_count": 4,
     "metadata": {},
     "output_type": "execute_result"
    }
   ],
   "source": [
    "molecule = Molecule.from_smiles(\"c1cc(Cl)ccc1C(=O)CS[C]1=CO[C](F)(F)CC1\")\n",
    "molecule.generate_conformers(n_conformers=1)\n",
    "molecule.visualize()"
   ]
  },
  {
   "cell_type": "markdown",
   "metadata": {},
   "source": [
    "Create an Interchange object, which parametrizes the molecule and stores information needed for OpenMM (and other engines) to understand virtual sites as applied by a force field:"
   ]
  },
  {
   "cell_type": "code",
   "execution_count": 5,
   "metadata": {
    "pycharm": {
     "name": "#%%\n"
    }
   },
   "outputs": [
    {
     "name": "stdout",
     "output_type": "stream",
     "text": [
      "There are 5 virtual particles in this topology.\n"
     ]
    }
   ],
   "source": [
    "interchange = force_field.create_interchange(topology=molecule.to_topology())\n",
    "\n",
    "assert \"VirtualSites\" in interchange.collections.keys()\n",
    "\n",
    "n_virtual_sites = len(interchange.collections[\"VirtualSites\"].key_map)\n",
    "\n",
    "print(f\"There are {n_virtual_sites} virtual particles in this topology.\")"
   ]
  },
  {
   "cell_type": "markdown",
   "metadata": {},
   "source": [
    "*This may take a moment, as it must compute partial charges for the molecule*"
   ]
  },
  {
   "cell_type": "markdown",
   "metadata": {},
   "source": [
    "At this point, each of our OpenFF objects have processed and stored all of the information needed to run a simulation in OpenMM. Different [OpenMM objects](https://docs.openforcefield.org/projects/interchange/en/stable/using/output.html#openmm) can be created from an `Interchange` object:\n",
    "\n",
    "* `openmm.System`: `Interchange.to_openmm()`\n",
    "* `openmm.app.Topology`: `Interchange.to_openmm_topology()`\n",
    "* `openmm.app.Simulation`: `Interchange.to_openmm_simulation()`\n",
    "\n",
    "For simplicity, we'll just create a `Simulation` object with the function we defined above since that's all we need to run a simulation in OpenMM:"
   ]
  },
  {
   "cell_type": "code",
   "execution_count": 6,
   "metadata": {
    "pycharm": {
     "name": "#%%\n"
    },
    "scrolled": true
   },
   "outputs": [
    {
     "name": "stdout",
     "output_type": "stream",
     "text": [
      "Starting simulation\n",
      "Elapsed time 0.37 seconds\n",
      "Done!\n"
     ]
    }
   ],
   "source": [
    "simulation = prepare_simulation(interchange)\n",
    "\n",
    "run_simulation(simulation, 10000)"
   ]
  },
  {
   "cell_type": "markdown",
   "metadata": {},
   "source": [
    "We can visualize the resulting trajectory:"
   ]
  },
  {
   "cell_type": "code",
   "execution_count": 7,
   "metadata": {
    "scrolled": true
   },
   "outputs": [
    {
     "data": {
      "application/vnd.jupyter.widget-view+json": {
       "model_id": "2622bad435364326acbe4c1749101b81",
       "version_major": 2,
       "version_minor": 0
      },
      "text/plain": [
       "NGLWidget(max_frame=99)"
      ]
     },
     "metadata": {},
     "output_type": "display_data"
    }
   ],
   "source": [
    "import mdtraj\n",
    "\n",
    "# Visualize the trajectory. There will probably be errant bonds drawn between atoms and virtual sites.\n",
    "import nglview\n",
    "\n",
    "nglview.show_mdtraj(mdtraj.load(\"trajectory.pdb\"))"
   ]
  },
  {
   "cell_type": "markdown",
   "metadata": {
    "pycharm": {
     "name": "#%% md\n"
    }
   },
   "source": [
    "## Part 2: Numerical comparison of OpenMM's TIP5P and an equivalent SMIRNOFF implementation"
   ]
  },
  {
   "cell_type": "markdown",
   "metadata": {
    "pycharm": {
     "name": "#%% md\n"
    }
   },
   "source": [
    "We will now parametrize a water box with OpenFF/SMIRNOFF and OpenMM implementations of TIP5P water.\n",
    "\n",
    "This code examines the geometry and energy between the two, and examines cases where minimization is performed.\n",
    "\n",
    "The virtual site definitions give rise to small differences in geometry due to how they are defined relative to their parent atoms. OpenMM's force field uses the `openmm.OutOfPlaneSite` class whereas OpenFF's force field uses `openmm.LocalCoordinatesSite`. In each case, these objects are OpenMM objects for use in OpenMM simulations; implementations in other engines are not covered here.\n",
    "\n",
    "Virtual sites are defined geometrically in terms of a single *parent* atom and multiple *orientation* atoms. In water models, the parent atom is oxygen and the orientation atoms are the oxygen and hydrogens; in other chemistries virtual sites may be definited differently. `OutOfPlaneSite` virtual sites' positions are determined based on the positions of the orientation atoms. `LocalCoordinatesSite` virtual sites' positions relative to orientation atoms are fixed in order to adhere to the SMIRNOFF specification.\n",
    "\n",
    "A consequence of this difference is that tiny fluctuations in the molecular geometry cause slightly different coordinates and, therefore, energy evaluations. This can arise from marginally different initial positions or from the dynamics of a simulation, but when averaged over a large number of configurations at equilibrium the descriptions should match. Further nuance is described in the [OpenMM User Guide] and API docs.\n",
    "\n",
    "This example uses water molecules, but both OpenFF and OpenMM infrastructure support a variety of other virtual site definitions for use in other chemistries. One key difference between OpenFF and OpenMM code paths is the bookkeepping of virtual sites relative to atomistic particles. OpenMM interleaves the virtual site particles at the end of _each molecule_, whereas OpenFF places all virtual sites at the end of the `openmm.System`, topology, and related objects.\n",
    "\n",
    "[OpenMM User Guide]: http://docs.openmm.org/8.0.0/userguide/theory/05_other_features.html#virtual-sites"
   ]
  },
  {
   "cell_type": "markdown",
   "metadata": {},
   "source": [
    "First, define some supporting functions:"
   ]
  },
  {
   "cell_type": "code",
   "execution_count": 8,
   "metadata": {
    "pycharm": {
     "name": "#%%\n"
    },
    "scrolled": true
   },
   "outputs": [],
   "source": [
    "def _evaluate_positions_and_energy(\n",
    "    openmm_topology: openmm.app.Topology,\n",
    "    openmm_system: openmm.app.Simulation,\n",
    "    particle_positions: openmm.unit.Quantity,\n",
    "    minimize=False,\n",
    ") -> tuple[numpy.ndarray, Quantity]:\n",
    "    \"\"\"\n",
    "    Calculate particle positions and potential energy of the a system.\n",
    "\n",
    "    Parameters\n",
    "    ----------\n",
    "    openmm_topology: openmm.app.Topology, OpenMM Topology\n",
    "    openmm_system: openmm.app.System, OpenMM System\n",
    "    particle_positions: openff.units.Quantity, (N, 3) array of positions in nanometers\n",
    "    minimize: bool, Whether or not to perform an energy minimization before calculating energy\n",
    "\n",
    "    Returns\n",
    "    -------\n",
    "    positions: numpy.ndarray, array of particle positions (as nanometers)\n",
    "    energy: openmm.unit.Quantity, The potential energy of the systems\n",
    "\n",
    "    \"\"\"\n",
    "\n",
    "    integrator = openmm.LangevinIntegrator(\n",
    "        300 * openmm.unit.kelvin,\n",
    "        1 / openmm.unit.picosecond,\n",
    "        0.002 * openmm.unit.picoseconds,\n",
    "    )\n",
    "\n",
    "    sim = openmm.app.Simulation(openmm_topology, openmm_system, integrator)\n",
    "\n",
    "    sim.context.setPositions(particle_positions)\n",
    "    sim.context.applyConstraints(1e-5)\n",
    "\n",
    "    if minimize:\n",
    "        sim.minimizeEnergy()\n",
    "\n",
    "    state = sim.context.getState(getEnergy=True, getPositions=True)\n",
    "    ene = state.getPotentialEnergy()\n",
    "    pos = openmm.unit.Quantity(\n",
    "        [\n",
    "            list(xyz)\n",
    "            for xyz in state.getPositions().value_in_unit(openmm.unit.nanometer)\n",
    "        ],\n",
    "        openmm.unit.nanometer,\n",
    "    )\n",
    "\n",
    "    return pos, ene"
   ]
  },
  {
   "cell_type": "code",
   "execution_count": 9,
   "metadata": {
    "pycharm": {
     "name": "#%%\n"
    }
   },
   "outputs": [],
   "source": [
    "def build_water_lattice(\n",
    "    num_duplicates: list[int] = [1, 1, 1],\n",
    "    spacing: list[float] = [2.0, 2.0, 2.0],\n",
    ") -> list[Molecule]:\n",
    "    \"\"\"\n",
    "    Generate a box of water molecules as OpenFF Molecules\n",
    "\n",
    "    Parameters\n",
    "    ----------\n",
    "        num_duplicates: list[int], The number of molecules in each dimension\n",
    "        spacing: list[float], The spacing between the molecules in each dimension, implicitly in Angstrom\n",
    "\n",
    "    Returns\n",
    "    -------\n",
    "        water_box: list[Molecule], A list of Molecule objcets with a 3D conformation\n",
    "    \"\"\"\n",
    "    from math import cos, sin\n",
    "\n",
    "    Lx, Ly, Lz = (num_duplicates[i] * spacing[i] for i in range(3))\n",
    "    Z, Y, X = numpy.mgrid[\n",
    "        0 : Lz : spacing[0],\n",
    "        0 : Ly : spacing[1],\n",
    "        0 : Lx : spacing[2],\n",
    "    ]\n",
    "    XYZ = [list(xyz) for xyz in zip(X.flat, Y.flat, Z.flat)]\n",
    "\n",
    "    water_box = list([None] * len(XYZ))\n",
    "    water_reference = Molecule.from_mapped_smiles(\"[O:1]([H:2])[H:3]\")\n",
    "    water_reference.atoms[0].name = \"O\"\n",
    "    water_reference.atoms[1].name = \"H1\"\n",
    "    water_reference.atoms[2].name = \"H2\"\n",
    "\n",
    "    # Add ideal TIP5P geometry\n",
    "    bond_length = Quantity(0.9572, unit.angstrom)\n",
    "    theta = Quantity(104.52, unit.degree).to(unit.radian)\n",
    "\n",
    "    water_reference.add_conformer(\n",
    "        bond_length\n",
    "        * Quantity(\n",
    "            [\n",
    "                [0.0, 0.0, 0.0],\n",
    "                [-sin(theta / 2), cos(theta / 2), 0.0],\n",
    "                [sin(theta / 2), cos(theta / 2), 0.0],\n",
    "            ]\n",
    "        )\n",
    "    )\n",
    "\n",
    "    for i, xyz in enumerate(XYZ):\n",
    "        water_box[i] = Molecule(water_reference)\n",
    "        water_box[i].conformers[0] = water_box[i].conformers[0] + xyz * unit.angstrom\n",
    "\n",
    "    return water_box\n",
    "\n",
    "\n",
    "def reorder(\n",
    "    number_molecules: int,\n",
    "    atoms_per_molecule: int = 3,\n",
    "    virtual_sites_per_molecule: int = 2,\n",
    ") -> list[int]:\n",
    "    \"\"\"Return an mapping between collated and un-collated particle indices.\"\"\"\n",
    "    particles_per_molecule = atoms_per_molecule + virtual_sites_per_molecule\n",
    "\n",
    "    atoms = list()\n",
    "    virtual_sites = list()\n",
    "\n",
    "    for particle_index in range(number_molecules * particles_per_molecule):\n",
    "        if particle_index % particles_per_molecule < atoms_per_molecule:\n",
    "            atoms.append(particle_index)\n",
    "        else:\n",
    "            virtual_sites.append(particle_index)\n",
    "\n",
    "    return atoms + virtual_sites"
   ]
  },
  {
   "cell_type": "code",
   "execution_count": 10,
   "metadata": {
    "pycharm": {
     "name": "#%%\n"
    }
   },
   "outputs": [],
   "source": [
    "def evaluate_openmm(\n",
    "    water: list[Molecule],\n",
    "    openmm_force_field: openmm.app.ForceField,\n",
    "    minimize: bool = False,\n",
    "):\n",
    "    \"\"\"\n",
    "    Given a list of molecules and a force field definition, calculate the\n",
    "    positions and energy.\n",
    "\n",
    "    Parameters\n",
    "    ----------\n",
    "        water: list[Molecule], each with a 3D conformation\n",
    "        openmm_force_field: openmm.app.ForceField, OpenMM ForceField object\n",
    "        minimize: bool, default = False, whether the structure should be minimized\n",
    "\n",
    "    Returns\n",
    "    -------\n",
    "        xyz: List The coordinates of all particles in the system (OpenMM ordering)\n",
    "        ene: float, The potential energy\n",
    "    \"\"\"\n",
    "\n",
    "    # First, get an OpenMM Topology and atom positions with no virtual sites\n",
    "    _topology: openmm.app.Topology = Topology.from_molecules(water).to_openmm()\n",
    "\n",
    "    atom_positions_unitless = numpy.vstack(\n",
    "        [mol.conformers[0].m_as(unit.nanometer) for mol in water]\n",
    "    )\n",
    "    atom_positions = openmm.unit.Quantity(\n",
    "        atom_positions_unitless, openmm.unit.nanometer\n",
    "    )\n",
    "\n",
    "    # Use OpenMM's Modeller to add virtual particles as perscribed by the force field\n",
    "    modeller = openmm.app.Modeller(_topology, atom_positions)\n",
    "    modeller.addExtraParticles(openmm_force_field)\n",
    "\n",
    "    # This topology includes virtual particles, so we can use it to create a System\n",
    "    topology = modeller.getTopology()\n",
    "\n",
    "    system: openmm.System = openmm_force_field.createSystem(\n",
    "        topology, nonbondedMethod=openmm.app.NoCutoff\n",
    "    )\n",
    "\n",
    "    # Add positions of virtual particles now that the topology includes them\n",
    "    particle_positions = modeller.getPositions()\n",
    "\n",
    "    return _evaluate_positions_and_energy(\n",
    "        topology, system, particle_positions, minimize=minimize\n",
    "    )"
   ]
  },
  {
   "cell_type": "code",
   "execution_count": 11,
   "metadata": {
    "pycharm": {
     "name": "#%%\n"
    }
   },
   "outputs": [],
   "source": [
    "def evaluate_openff(\n",
    "    water: list[Molecule],\n",
    "    force_field: ForceField,\n",
    "    minimize: bool = False,\n",
    "):\n",
    "    \"\"\"\n",
    "    Given a list of molecules and a force field definition, calculate the\n",
    "    positions and energy.\n",
    "\n",
    "    Parameters\n",
    "    ----------\n",
    "        water: list[Molecule], each with a 3D conformation\n",
    "        force_field: ForceField, an OpenFF ForceField object\n",
    "        minimize: boolean, default= False, whether the structure should be minimized\n",
    "\n",
    "    Returns\n",
    "    -------\n",
    "        xyz: list The coordinates of all particles in the system (OpenMM ordering)\n",
    "        ene: float, The potential energy\n",
    "    \"\"\"\n",
    "    from openff.interchange.interop.openmm import to_openmm_positions\n",
    "\n",
    "    openff_topology = Topology.from_molecules(water)\n",
    "    interchange = Interchange.from_smirnoff(force_field, openff_topology)\n",
    "\n",
    "    return _evaluate_positions_and_energy(\n",
    "        interchange.to_openmm_topology(),\n",
    "        interchange.to_openmm(combine_nonbonded_forces=True),\n",
    "        to_openmm_positions(interchange),\n",
    "    )"
   ]
  },
  {
   "cell_type": "markdown",
   "metadata": {},
   "source": [
    "Next, construct TIP5P force fields from each software project:"
   ]
  },
  {
   "cell_type": "code",
   "execution_count": 12,
   "metadata": {
    "pycharm": {
     "name": "#%%\n"
    }
   },
   "outputs": [],
   "source": [
    "# The TIP5P force field in SMIRNOFF format, provided by the OpenFF Toolkit\n",
    "openff_force_field = ForceField(\"tip5p.offxml\")\n",
    "\n",
    "# The OpenMM definition of TIP5P\n",
    "openmm_force_field = openmm.app.ForceField(\"tip5p.xml\")"
   ]
  },
  {
   "cell_type": "markdown",
   "metadata": {},
   "source": [
    "Finally, compare them:"
   ]
  },
  {
   "cell_type": "code",
   "execution_count": 13,
   "metadata": {
    "pycharm": {
     "name": "#%%\n"
    },
    "scrolled": true
   },
   "outputs": [],
   "source": [
    "minimize = False\n",
    "\n",
    "num_duplicates = (2, 2, 2)  # 2x2x2 = 8 water molecules\n",
    "spacing = (3.0, 3.0, 3.0)  # water spaced 3A apart in each direction\n",
    "\n",
    "waters = build_water_lattice(num_duplicates, spacing)\n",
    "\n",
    "# Generate OpenFF coordinates and energies\n",
    "off_crds, off_ene = evaluate_openff(waters, openff_force_field, minimize=minimize)\n",
    "off_crds = numpy.array(off_crds.value_in_unit(openmm.unit.angstrom))\n",
    "\n",
    "# Generate OpenMM coordinates and energies\n",
    "omm_crds, omm_ene = evaluate_openmm(waters, openmm_force_field, minimize=minimize)\n",
    "omm_crds = numpy.array(omm_crds.value_in_unit(openmm.unit.angstrom))\n",
    "\n",
    "# Compute the RMS difference in atom positions per molecule, reordering\n",
    "# OpenMM coordinates to match OpenFF.\n",
    "coordinate_difference = Quantity(\n",
    "    numpy.linalg.norm(off_crds - omm_crds[reorder(numpy.prod(num_duplicates)), :]),\n",
    "    unit.angstrom,\n",
    ")\n",
    "coordinate_difference /= numpy.prod(num_duplicates)\n",
    "# Compute the mean energy difference per molecule\n",
    "energy_difference = abs(off_ene - omm_ene) / numpy.prod(num_duplicates)"
   ]
  },
  {
   "cell_type": "markdown",
   "metadata": {},
   "source": [
    "And take a look!"
   ]
  },
  {
   "cell_type": "code",
   "execution_count": 14,
   "metadata": {},
   "outputs": [
    {
     "name": "stdout",
     "output_type": "stream",
     "text": [
      "Results for: OpenFF – OpenMM comparison (per molecule) \n",
      "Energy difference (kilojoule / mole):\n",
      "\t4.101e-05\n",
      "Coordinates difference (angstrom, norm):\n",
      "\t1.855e-07\n",
      "\n"
     ]
    }
   ],
   "source": [
    "from openff.units.openmm import from_openmm\n",
    "\n",
    "_energy_difference = from_openmm(energy_difference)\n",
    "\n",
    "print(\n",
    "    f\"Results for: OpenFF – OpenMM comparison (per molecule) \\n\"\n",
    "    f\"Energy difference ({_energy_difference.units}):\\n\\t\"\n",
    "    f\"{_energy_difference.m:0.3e}\\n\"\n",
    "    f\"Coordinates difference ({coordinate_difference.units}, norm):\\n\\t\"\n",
    "    f\"{coordinate_difference.m:0.3e}\\n\"\n",
    ")\n",
    "\n",
    "assert coordinate_difference < Quantity(\n",
    "    1e-6, unit.angstrom\n",
    "), f\"Coordinates differ by a norm of {coordinate_difference}\"\n",
    "assert (\n",
    "    energy_difference < 1e-4 * openmm.unit.kilojoule_per_mole\n",
    "), f\"Energies differ by {energy_difference}\""
   ]
  },
  {
   "cell_type": "markdown",
   "metadata": {},
   "source": [
    "This tiny difference is expected, and comes from the slightly different geometric definitions of the virtual sites, as described above."
   ]
  }
 ],
 "metadata": {
  "category": "force_field_dev",
  "kernelspec": {
   "display_name": "Python 3 (ipykernel)",
   "language": "python",
   "name": "python3"
  },
  "language_info": {
   "codemirror_mode": {
    "name": "ipython",
    "version": 3
   },
   "file_extension": ".py",
   "mimetype": "text/x-python",
   "name": "python",
   "nbconvert_exporter": "python",
   "pygments_lexer": "ipython3",
   "version": "3.10.13"
  },
  "widgets": {
   "application/vnd.jupyter.widget-state+json": {
    "state": {
     "0049380d0d57478cb17bea4065f73ffb": {
      "model_module": "@jupyter-widgets/controls",
      "model_module_version": "2.0.0",
      "model_name": "LinkModel",
      "state": {
       "source": [
        "IPY_MODEL_cf5027519ac842ab927502a5f754a23e",
        "max"
       ],
       "target": [
        "IPY_MODEL_2622bad435364326acbe4c1749101b81",
        "max_frame"
       ]
      }
     },
     "0a6f2424effb499c98386b0242e68c3f": {
      "model_module": "@jupyter-widgets/controls",
      "model_module_version": "2.0.0",
      "model_name": "LinkModel",
      "state": {
       "source": [
        "IPY_MODEL_c149773df8aa4d51913cef381ff3d75d",
        "max"
       ],
       "target": [
        "IPY_MODEL_2622bad435364326acbe4c1749101b81",
        "max_frame"
       ]
      }
     },
     "1096f027696443959b04153bab452614": {
      "model_module": "@jupyter-widgets/base",
      "model_module_version": "2.0.0",
      "model_name": "LayoutModel",
      "state": {}
     },
     "2622bad435364326acbe4c1749101b81": {
      "model_module": "nglview-js-widgets",
      "model_module_version": "3.0.8",
      "model_name": "NGLModel",
      "state": {
       "_camera_orientation": [
        33.03847050994658,
        0,
        0,
        0,
        0,
        33.03847050994658,
        0,
        0,
        0,
        0,
        33.03847050994658,
        0,
        -0.022500038146972656,
        -0.019500017166137695,
        -0.7969999313354492,
        1
       ],
       "_camera_str": "orthographic",
       "_gui_theme": null,
       "_ibtn_fullscreen": "IPY_MODEL_e525a255582444f19b8982fdd91df7f5",
       "_igui": null,
       "_iplayer": "IPY_MODEL_fbde0cad197a445caf7a3e6bdde47bb8",
       "_ngl_color_dict": {},
       "_ngl_coordinate_resource": {},
       "_ngl_full_stage_parameters": {
        "ambientColor": 14540253,
        "ambientIntensity": 0.2,
        "backgroundColor": "white",
        "cameraEyeSep": 0.3,
        "cameraFov": 40,
        "cameraType": "perspective",
        "clipDist": 10,
        "clipFar": 100,
        "clipMode": "scene",
        "clipNear": 0,
        "clipScale": "relative",
        "fogFar": 100,
        "fogNear": 50,
        "hoverTimeout": 0,
        "impostor": true,
        "lightColor": 14540253,
        "lightIntensity": 1,
        "mousePreset": "default",
        "panSpeed": 1,
        "quality": "medium",
        "rotateSpeed": 2,
        "sampleLevel": 0,
        "tooltip": true,
        "workerDefault": true,
        "zoomSpeed": 1.2
       },
       "_ngl_msg_archive": [
        {
         "args": [
          {
           "binary": false,
           "data": "MODEL        0\nATOM      1  C1x UNK A   1       3.689  -1.557   0.129  1.00  0.00           C  \nATOM      2  C2x UNK A   1       4.990  -0.950  -0.011  1.00  0.00           C  \nATOM      3  C3x UNK A   1       5.121   0.409   0.258  1.00  0.00           C  \nATOM      4 Cl1x UNK A   1       6.582   1.175   0.070  1.00  0.00          Cl  \nATOM      5  C4x UNK A   1       4.026   1.191   0.647  1.00  0.00           C  \nATOM      6  C5x UNK A   1       2.756   0.609   0.791  1.00  0.00           C  \nATOM      7  C6x UNK A   1       2.545  -0.782   0.515  1.00  0.00           C  \nATOM      8  C7x UNK A   1       1.170  -1.396   0.665  1.00  0.00           C  \nATOM      9  O1x UNK A   1       1.045  -2.607   0.585  1.00  0.00           O  \nATOM     10  C8x UNK A   1      -0.095  -0.572   1.081  1.00  0.00           C  \nATOM     11  S1x UNK A   1      -0.802   0.409  -0.366  1.00  0.00           S  \nATOM     12  C9x UNK A   1      -2.502   0.502   0.130  1.00  0.00           C  \nATOM     13 C10x UNK A   1      -3.063   1.772   0.341  1.00  0.00           C  \nATOM     14  O2x UNK A   1      -4.415   1.914   0.632  1.00  0.00           O  \nATOM     15 C11x UNK A   1      -5.144   0.694   1.000  1.00  0.00           C  \nATOM     16  F1x UNK A   1      -4.821   0.302   2.294  1.00  0.00           F  \nATOM     17  F2x UNK A   1      -6.491   0.810   1.067  1.00  0.00           F  \nATOM     18 C12x UNK A   1      -4.731  -0.475  -0.039  1.00  0.00           C  \nATOM     19 C13x UNK A   1      -3.282  -0.764   0.181  1.00  0.00           C  \nATOM     20  H1x UNK A   1       3.498  -2.615   0.008  1.00  0.00           H  \nATOM     21  H2x UNK A   1       5.842  -1.518  -0.361  1.00  0.00           H  \nATOM     22  H3x UNK A   1       4.199   2.246   0.810  1.00  0.00           H  \nATOM     23  H4x UNK A   1       1.956   1.272   1.091  1.00  0.00           H  \nATOM     24  H5x UNK A   1      -0.858  -1.231   1.496  1.00  0.00           H  \nATOM     25  H6x UNK A   1       0.188   0.126   1.869  1.00  0.00           H  \nATOM     26  H7x UNK A   1      -2.444   2.654   0.245  1.00  0.00           H  \nATOM     27  H8x UNK A   1      -4.877  -0.157  -1.072  1.00  0.00           H  \nATOM     28  H9x UNK A   1      -5.338  -1.339   0.231  1.00  0.00           H  \nATOM     29 H10x UNK A   1      -3.143  -1.232   1.156  1.00  0.00           H  \nATOM     30 H11x UNK A   1      -2.995  -1.448  -0.618  1.00  0.00           H  \nATOM     31 EP   UNK A   1      -0.524   1.049  -0.422  1.00  0.00          VS  \nATOM     32 EP   UNK A   1      -0.740   0.074  -0.978  1.00  0.00          VS  \nATOM     33 EP   UNK A   1       6.934   1.359   0.025  1.00  0.00          VS  \nATOM     34 EP   UNK A   1      -4.729   0.189   2.666  1.00  0.00          VS  \nATOM     35 EP   UNK A   1      -6.889   0.844   1.086  1.00  0.00          VS  \nTER      36      UNK A   1\nENDMDL\nEND\n",
           "type": "blob"
          }
         ],
         "kwargs": {
          "defaultRepresentation": true,
          "ext": "pdb",
          "name": "nglview.adaptor.MDTrajTrajectory"
         },
         "methodName": "loadFile",
         "reconstruc_color_scheme": false,
         "target": "Stage",
         "type": "call_method"
        }
       ],
       "_ngl_original_stage_parameters": {
        "ambientColor": 14540253,
        "ambientIntensity": 0.2,
        "backgroundColor": "white",
        "cameraEyeSep": 0.3,
        "cameraFov": 40,
        "cameraType": "perspective",
        "clipDist": 10,
        "clipFar": 100,
        "clipMode": "scene",
        "clipNear": 0,
        "clipScale": "relative",
        "fogFar": 100,
        "fogNear": 50,
        "hoverTimeout": 0,
        "impostor": true,
        "lightColor": 14540253,
        "lightIntensity": 1,
        "mousePreset": "default",
        "panSpeed": 1,
        "quality": "medium",
        "rotateSpeed": 2,
        "sampleLevel": 0,
        "tooltip": true,
        "workerDefault": true,
        "zoomSpeed": 1.2
       },
       "_ngl_repr_dict": {
        "0": {
         "0": {
          "params": {
           "aspectRatio": 1.5,
           "assembly": "default",
           "bondScale": 0.3,
           "bondSpacing": 0.75,
           "clipCenter": {
            "x": 0,
            "y": 0,
            "z": 0
           },
           "clipNear": 0,
           "clipRadius": 0,
           "colorMode": "hcl",
           "colorReverse": false,
           "colorScale": "",
           "colorScheme": "element",
           "colorValue": 9474192,
           "cylinderOnly": false,
           "defaultAssembly": "",
           "depthWrite": true,
           "diffuse": 16777215,
           "diffuseInterior": false,
           "disableImpostor": false,
           "disablePicking": false,
           "flatShaded": false,
           "interiorColor": 2236962,
           "interiorDarkening": 0,
           "lazy": false,
           "lineOnly": false,
           "linewidth": 2,
           "matrix": {
            "elements": [
             1,
             0,
             0,
             0,
             0,
             1,
             0,
             0,
             0,
             0,
             1,
             0,
             0,
             0,
             0,
             1
            ]
           },
           "metalness": 0,
           "multipleBond": "off",
           "opacity": 1,
           "openEnded": true,
           "quality": "high",
           "radialSegments": 20,
           "radiusData": {},
           "radiusScale": 2,
           "radiusSize": 0.15,
           "radiusType": "size",
           "roughness": 0.4,
           "sele": "",
           "side": "double",
           "sphereDetail": 2,
           "useInteriorColor": true,
           "visible": true,
           "wireframe": false
          },
          "type": "ball+stick"
         }
        }
       },
       "_ngl_serialize": false,
       "_ngl_version": "2.0.0-dev.39",
       "_ngl_view_id": [
        "5DEA8536-9354-4E95-87BC-7B464C6F97CD"
       ],
       "_player_dict": {},
       "_scene_position": {},
       "_scene_rotation": {},
       "_synced_model_ids": [],
       "_synced_repr_model_ids": [],
       "_view_height": "",
       "_view_width": "",
       "background": "white",
       "frame": 0,
       "gui_style": null,
       "layout": "IPY_MODEL_61e8baf3309e4cfe9d034a6d16a45141",
       "max_frame": 99,
       "n_components": 1,
       "picked": {}
      }
     },
     "470a13a62ae94fe6876648cb0718de02": {
      "model_module": "@jupyter-widgets/controls",
      "model_module_version": "2.0.0",
      "model_name": "ButtonStyleModel",
      "state": {
       "font_family": null,
       "font_size": null,
       "font_style": null,
       "font_variant": null,
       "font_weight": null,
       "text_color": null,
       "text_decoration": null
      }
     },
     "579a70813e5c4f469e3895c214a4be01": {
      "model_module": "@jupyter-widgets/controls",
      "model_module_version": "2.0.0",
      "model_name": "LinkModel",
      "state": {
       "source": [
        "IPY_MODEL_c149773df8aa4d51913cef381ff3d75d",
        "value"
       ],
       "target": [
        "IPY_MODEL_cf5027519ac842ab927502a5f754a23e",
        "value"
       ]
      }
     },
     "5d0aae78d87c4d8caf5fa2b8403683d7": {
      "model_module": "@jupyter-widgets/base",
      "model_module_version": "2.0.0",
      "model_name": "LayoutModel",
      "state": {}
     },
     "5ff950c555634284b45d0f00282be81a": {
      "model_module": "@jupyter-widgets/base",
      "model_module_version": "2.0.0",
      "model_name": "LayoutModel",
      "state": {}
     },
     "61e8baf3309e4cfe9d034a6d16a45141": {
      "model_module": "@jupyter-widgets/base",
      "model_module_version": "2.0.0",
      "model_name": "LayoutModel",
      "state": {}
     },
     "649f9110bf47447290dad258844a4d64": {
      "model_module": "@jupyter-widgets/controls",
      "model_module_version": "2.0.0",
      "model_name": "DescriptionStyleModel",
      "state": {
       "description_width": ""
      }
     },
     "67a41f08b90446da832e228b2fc2cba5": {
      "model_module": "@jupyter-widgets/base",
      "model_module_version": "2.0.0",
      "model_name": "LayoutModel",
      "state": {}
     },
     "7f4e1ebf5c0641b8b890abb69aea3289": {
      "model_module": "nglview-js-widgets",
      "model_module_version": "3.0.8",
      "model_name": "ColormakerRegistryModel",
      "state": {
       "_msg_ar": [],
       "_msg_q": [],
       "_ready": true,
       "layout": "IPY_MODEL_67a41f08b90446da832e228b2fc2cba5"
      }
     },
     "92dae8121969453bac4ec3198e978515": {
      "model_module": "@jupyter-widgets/controls",
      "model_module_version": "2.0.0",
      "model_name": "ImageModel",
      "state": {
       "layout": "IPY_MODEL_c9158590735c49619e4a5801013c41da",
       "width": "900.0"
      }
     },
     "ab680e26e79b40bfbc0d883a20f4f570": {
      "model_module": "@jupyter-widgets/controls",
      "model_module_version": "2.0.0",
      "model_name": "LinkModel",
      "state": {
       "source": [
        "IPY_MODEL_c149773df8aa4d51913cef381ff3d75d",
        "value"
       ],
       "target": [
        "IPY_MODEL_2622bad435364326acbe4c1749101b81",
        "frame"
       ]
      }
     },
     "bc560b7648a9427f90f0e66e84fca3ac": {
      "model_module": "@jupyter-widgets/base",
      "model_module_version": "2.0.0",
      "model_name": "LayoutModel",
      "state": {
       "width": "34px"
      }
     },
     "c149773df8aa4d51913cef381ff3d75d": {
      "model_module": "@jupyter-widgets/controls",
      "model_module_version": "2.0.0",
      "model_name": "PlayModel",
      "state": {
       "layout": "IPY_MODEL_1096f027696443959b04153bab452614",
       "max": 99,
       "style": "IPY_MODEL_649f9110bf47447290dad258844a4d64"
      }
     },
     "c9158590735c49619e4a5801013c41da": {
      "model_module": "@jupyter-widgets/base",
      "model_module_version": "2.0.0",
      "model_name": "LayoutModel",
      "state": {}
     },
     "cf5027519ac842ab927502a5f754a23e": {
      "model_module": "@jupyter-widgets/controls",
      "model_module_version": "2.0.0",
      "model_name": "IntSliderModel",
      "state": {
       "behavior": "drag-tap",
       "layout": "IPY_MODEL_5ff950c555634284b45d0f00282be81a",
       "max": 99,
       "style": "IPY_MODEL_fa483bf5fca74594a8660ae27966979a"
      }
     },
     "e525a255582444f19b8982fdd91df7f5": {
      "model_module": "@jupyter-widgets/controls",
      "model_module_version": "2.0.0",
      "model_name": "ButtonModel",
      "state": {
       "icon": "compress",
       "layout": "IPY_MODEL_bc560b7648a9427f90f0e66e84fca3ac",
       "style": "IPY_MODEL_470a13a62ae94fe6876648cb0718de02",
       "tooltip": null
      }
     },
     "fa483bf5fca74594a8660ae27966979a": {
      "model_module": "@jupyter-widgets/controls",
      "model_module_version": "2.0.0",
      "model_name": "SliderStyleModel",
      "state": {
       "description_width": ""
      }
     },
     "fbde0cad197a445caf7a3e6bdde47bb8": {
      "model_module": "@jupyter-widgets/controls",
      "model_module_version": "2.0.0",
      "model_name": "HBoxModel",
      "state": {
       "children": [
        "IPY_MODEL_c149773df8aa4d51913cef381ff3d75d",
        "IPY_MODEL_cf5027519ac842ab927502a5f754a23e"
       ],
       "layout": "IPY_MODEL_5d0aae78d87c4d8caf5fa2b8403683d7"
      }
     }
    },
    "version_major": 2,
    "version_minor": 0
   }
  }
 },
 "nbformat": 4,
 "nbformat_minor": 4
}

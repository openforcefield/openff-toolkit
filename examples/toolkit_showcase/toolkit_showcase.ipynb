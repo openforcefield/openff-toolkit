{
 "cells": [
  {
   "cell_type": "markdown",
   "metadata": {
    "tags": []
   },
   "source": [
    "# Toolkit Showcase: Prepare and run a protein-ligand simulation\n",
    "\n",
    "Welcome to the Open Force Field Toolkit! This introductory example will demonstrate how to prepare a system for Molecular Dynamics that combines solvent, a ligand using the Sage open force field, and a protein using a standard Amber force field. We'll take a pre-docked benchmark example and solvate it, assemble the system, parametrize it, and finally simulate it with OpenMM and visualize the results, all without leaving the notebook. Have fun!"
   ]
  },
  {
   "cell_type": "code",
   "execution_count": 1,
   "metadata": {
    "slideshow": {
     "slide_type": "-"
    },
    "tags": []
   },
   "outputs": [
    {
     "data": {
      "application/vnd.jupyter.widget-view+json": {
       "model_id": "dbedbca72b0640ae8b55d1dbc6516b12",
       "version_major": 2,
       "version_minor": 0
      },
      "text/plain": []
     },
     "metadata": {},
     "output_type": "display_data"
    }
   ],
   "source": [
    "# Imports from the comp chem ecosystem\n",
    "import mdtraj\n",
    "import nglview\n",
    "import numpy as np\n",
    "import openmm\n",
    "from openff.units import Quantity, unit\n",
    "from openmm import unit as openmm_unit\n",
    "from pdbfixer import PDBFixer\n",
    "\n",
    "# Imports from the toolkit\n",
    "from openff.toolkit import ForceField, Molecule, Topology"
   ]
  },
  {
   "cell_type": "markdown",
   "metadata": {},
   "source": [
    "## Introducing the main cast\n",
    "\n",
    "Merck [provides data] to benchmark Free Energy Perturbation (FEP) procedures. We'll use structures from this dataset for this showcase:\n",
    "\n",
    "<https://github.com/MCompChem/fep-benchmark>\n",
    "\n",
    "This example is pre-packaged with one protein-ligand complex from the above repository, however you should be able to download other complexes and run them as well using this workflow. PT2385, our ligand of choice, is an antagonist of the HIF2α protein, a transcription factor that is stabilized in many kidney cancers.\n",
    "\n",
    "The ligand and protein structures are already prepared for simulation:\n",
    "\n",
    "- Their co-ordinates are super-imposable\n",
    "- Hydrogens have been added to protein and crystallographic waters\n",
    "- The protein's termini are capped with N-methyl and acetyl groups to prevent unphysical charges\n",
    "- Atoms missing from the crystal structure have been replaced\n",
    "\n",
    "<br />\n",
    "<details>\n",
    "<summary><small>▼ Click here for the shell commands we used to download the protein-ligand complex</small></summary>\n",
    "    \n",
    "```shell\n",
    "# Clone the repository\n",
    "git clone https://github.com/MCompChem/fep-benchmark.git\n",
    "# Take the last ligand from the hif2a benchmark\n",
    "tail -n90 fep-benchmark/hif2a/ligands.sdf > PT2385.sdf\n",
    "# Take the prepared protein structure\n",
    "cp fep-benchmark/hif2a/5tbm_prepared.pdb .\n",
    "```  \n",
    "\n",
    "</details>\n",
    "\n",
    "[provides data]: https://github.com/MCompChem/fep-benchmark\n",
    "[PT2385]: https://doi.org/10.1158/0008-5472.CAN-16-0473"
   ]
  },
  {
   "cell_type": "code",
   "execution_count": 2,
   "metadata": {
    "slideshow": {
     "slide_type": "-"
    },
    "tags": []
   },
   "outputs": [],
   "source": [
    "receptor_path = \"5tbm_prepared.pdb\"\n",
    "ligand_path = \"PT2385.sdf\""
   ]
  },
  {
   "cell_type": "markdown",
   "metadata": {},
   "source": [
    "We can visualize each structure using the [NGLView] widget. These visualizations are interactive; rotate by dragging the left mouse button, pan with the right mouse button, and zoom with the scroll wheel. You can also mouse over an atom to see its details, and click an atom to center the view on it. When you mouse over the widget, a full screen button will appear in its top right corner.\n",
    "\n",
    "[NGLView]: https://github.com/nglviewer/nglview"
   ]
  },
  {
   "cell_type": "code",
   "execution_count": 3,
   "metadata": {
    "tags": []
   },
   "outputs": [
    {
     "data": {
      "application/vnd.jupyter.widget-view+json": {
       "model_id": "f159325d10c74fd481cc10b659eb78f4",
       "version_major": 2,
       "version_minor": 0
      },
      "text/plain": [
       "NGLWidget()"
      ]
     },
     "metadata": {},
     "output_type": "display_data"
    }
   ],
   "source": [
    "view = nglview.show_structure_file(ligand_path)\n",
    "view"
   ]
  },
  {
   "cell_type": "markdown",
   "metadata": {},
   "source": [
    "<div class=\"alert alert-info\" style=\"max-width: 700px; margin-left: auto; margin-right: auto;\">\n",
    "    ℹ️ Try replacing <code>ligand_path</code> with <code>receptor_path</code> to visualize the protein!\n",
    "</div>\n"
   ]
  },
  {
   "cell_type": "markdown",
   "metadata": {},
   "source": [
    "# The plan:\n",
    "\n",
    "| Action | Software|\n",
    "|--|--|\n",
    "| Assemble and solvate the topology | PDBFixer, and OpenFF Toolkit\n",
    "| Visualize the complex | OpenFF Toolkit and NGLView\n",
    "| Parametrize the complex | OpenFF Toolkit and OpenFF Interchange\n",
    "| Simulate the complex | OpenMM\n",
    "| Visualize the simulation | NGLView and MDTraj\n"
   ]
  },
  {
   "cell_type": "markdown",
   "metadata": {},
   "source": [
    "## Assemble and solvate the topology (PDBFixer, and the toolkit)\n",
    "\n",
    "Conceptually, this step involves putting together the positions of all of the components of the system. We'll create  a [`Topology`] to keep track of the contents of our system. A `Topology` represents a collection of molecules; it doesn't have any association with any force field parameters.\n",
    "\n",
    "[`Topology`]: https://docs.openforcefield.org/projects/toolkit/en/stable/api/generated/openff.toolkit.topology.Topology.html"
   ]
  },
  {
   "cell_type": "markdown",
   "metadata": {},
   "source": [
    "First, we'll load the ligand and receptor into OpenFF Toolkit [`Molecule`] objects, which keep track of all their chemical information. A `Molecule` represents a collection of atoms with specified formal charges, connected by bonds with specified bond orders, optionally including any number of conformer coordinates. This is intended to closely align with a chemist's intuitive understanding of a molecule, rather than simply wrap the minimal information needed for a calculation.\n",
    "\n",
    "SDF files include all a molecule's bond orders and formal charges, as well as coordinates, so they're ideal as a format for distributing small molecules. And that's exactly the format the ligand is stored in!\n",
    "\n",
    "[`Molecule`]: https://docs.openforcefield.org/projects/toolkit/en/stable/api/generated/openff.toolkit.topology.Molecule.html"
   ]
  },
  {
   "cell_type": "code",
   "execution_count": 4,
   "metadata": {},
   "outputs": [
    {
     "name": "stdout",
     "output_type": "stream",
     "text": [
      "CS(=O)(=O)c1ccc(c2c1[C@@H](C(C2)(F)F)O)Oc3cc(cc(c3)F)C#N\n"
     ]
    },
    {
     "data": {
      "image/svg+xml": [
       "<svg xmlns=\"http://www.w3.org/2000/svg\" xmlns:rdkit=\"http://www.rdkit.org/xml\" xmlns:xlink=\"http://www.w3.org/1999/xlink\" version=\"1.1\" baseProfile=\"full\" xml:space=\"preserve\" width=\"500px\" height=\"300px\" viewBox=\"0 0 500 300\">\n",
       "<!-- END OF HEADER -->\n",
       "<rect style=\"opacity:1.0;fill:#FFFFFF;stroke:none\" width=\"500.0\" height=\"300.0\" x=\"0.0\" y=\"0.0\"> </rect>\n",
       "<path class=\"bond-0 atom-1 atom-0\" d=\"M 332.8,88.7 L 342.0,75.7 L 344.8,78.3 Z\" style=\"fill:#000000;fill-rule:evenodd;fill-opacity:1;stroke:#000000;stroke-width:0.5px;stroke-linecap:butt;stroke-linejoin:miter;stroke-opacity:1;\"/>\n",
       "<path class=\"bond-0 atom-1 atom-0\" d=\"M 342.0,75.7 L 356.9,67.9 L 351.1,62.7 Z\" style=\"fill:#FF0000;fill-rule:evenodd;fill-opacity:1;stroke:#FF0000;stroke-width:0.5px;stroke-linecap:butt;stroke-linejoin:miter;stroke-opacity:1;\"/>\n",
       "<path class=\"bond-0 atom-1 atom-0\" d=\"M 342.0,75.7 L 344.8,78.3 L 356.9,67.9 Z\" style=\"fill:#FF0000;fill-rule:evenodd;fill-opacity:1;stroke:#FF0000;stroke-width:0.5px;stroke-linecap:butt;stroke-linejoin:miter;stroke-opacity:1;\"/>\n",
       "<path class=\"bond-1 atom-1 atom-2\" d=\"M 332.8,88.7 L 281.6,83.2\" style=\"fill:none;fill-rule:evenodd;stroke:#000000;stroke-width:2.0px;stroke-linecap:butt;stroke-linejoin:miter;stroke-opacity:1\"/>\n",
       "<path class=\"bond-2 atom-1 atom-5\" d=\"M 332.8,88.7 L 343.4,139.1\" style=\"fill:none;fill-rule:evenodd;stroke:#000000;stroke-width:2.0px;stroke-linecap:butt;stroke-linejoin:miter;stroke-opacity:1\"/>\n",
       "<path class=\"bond-3 atom-2 atom-3\" d=\"M 281.6,83.2 L 260.6,130.2\" style=\"fill:none;fill-rule:evenodd;stroke:#000000;stroke-width:2.0px;stroke-linecap:butt;stroke-linejoin:miter;stroke-opacity:1\"/>\n",
       "<path class=\"bond-4 atom-2 atom-23\" d=\"M 281.6,83.2 L 261.3,76.5\" style=\"fill:none;fill-rule:evenodd;stroke:#000000;stroke-width:2.0px;stroke-linecap:butt;stroke-linejoin:miter;stroke-opacity:1\"/>\n",
       "<path class=\"bond-4 atom-2 atom-23\" d=\"M 261.3,76.5 L 240.9,69.9\" style=\"fill:none;fill-rule:evenodd;stroke:#33CCCC;stroke-width:2.0px;stroke-linecap:butt;stroke-linejoin:miter;stroke-opacity:1\"/>\n",
       "<path class=\"bond-5 atom-2 atom-24\" d=\"M 281.6,83.2 L 285.7,64.3\" style=\"fill:none;fill-rule:evenodd;stroke:#000000;stroke-width:2.0px;stroke-linecap:butt;stroke-linejoin:miter;stroke-opacity:1\"/>\n",
       "<path class=\"bond-5 atom-2 atom-24\" d=\"M 285.7,64.3 L 289.7,45.5\" style=\"fill:none;fill-rule:evenodd;stroke:#33CCCC;stroke-width:2.0px;stroke-linecap:butt;stroke-linejoin:miter;stroke-opacity:1\"/>\n",
       "<path class=\"bond-6 atom-3 atom-4\" d=\"M 260.6,130.2 L 298.8,164.7\" style=\"fill:none;fill-rule:evenodd;stroke:#000000;stroke-width:2.0px;stroke-linecap:butt;stroke-linejoin:miter;stroke-opacity:1\"/>\n",
       "<path class=\"bond-7 atom-4 atom-5\" d=\"M 298.8,164.7 L 343.4,139.1\" style=\"fill:none;fill-rule:evenodd;stroke:#000000;stroke-width:2.0px;stroke-linecap:butt;stroke-linejoin:miter;stroke-opacity:1\"/>\n",
       "<path class=\"bond-7 atom-4 atom-5\" d=\"M 306.5,169.2 L 343.4,148.0\" style=\"fill:none;fill-rule:evenodd;stroke:#000000;stroke-width:2.0px;stroke-linecap:butt;stroke-linejoin:miter;stroke-opacity:1\"/>\n",
       "<path class=\"bond-8 atom-4 atom-9\" d=\"M 298.8,164.7 L 298.7,216.2\" style=\"fill:none;fill-rule:evenodd;stroke:#000000;stroke-width:2.0px;stroke-linecap:butt;stroke-linejoin:miter;stroke-opacity:1\"/>\n",
       "<path class=\"bond-9 atom-5 atom-6\" d=\"M 343.4,139.1 L 388.0,164.9\" style=\"fill:none;fill-rule:evenodd;stroke:#000000;stroke-width:2.0px;stroke-linecap:butt;stroke-linejoin:miter;stroke-opacity:1\"/>\n",
       "<path class=\"bond-10 atom-6 atom-7\" d=\"M 388.0,164.9 L 387.9,216.4\" style=\"fill:none;fill-rule:evenodd;stroke:#000000;stroke-width:2.0px;stroke-linecap:butt;stroke-linejoin:miter;stroke-opacity:1\"/>\n",
       "<path class=\"bond-10 atom-6 atom-7\" d=\"M 380.2,169.3 L 380.2,211.9\" style=\"fill:none;fill-rule:evenodd;stroke:#000000;stroke-width:2.0px;stroke-linecap:butt;stroke-linejoin:miter;stroke-opacity:1\"/>\n",
       "<path class=\"bond-11 atom-6 atom-19\" d=\"M 388.0,164.9 L 405.9,154.6\" style=\"fill:none;fill-rule:evenodd;stroke:#000000;stroke-width:2.0px;stroke-linecap:butt;stroke-linejoin:miter;stroke-opacity:1\"/>\n",
       "<path class=\"bond-11 atom-6 atom-19\" d=\"M 405.9,154.6 L 423.9,144.2\" style=\"fill:none;fill-rule:evenodd;stroke:#CCCC00;stroke-width:2.0px;stroke-linecap:butt;stroke-linejoin:miter;stroke-opacity:1\"/>\n",
       "<path class=\"bond-12 atom-7 atom-8\" d=\"M 387.9,216.4 L 343.2,242.0\" style=\"fill:none;fill-rule:evenodd;stroke:#000000;stroke-width:2.0px;stroke-linecap:butt;stroke-linejoin:miter;stroke-opacity:1\"/>\n",
       "<path class=\"bond-13 atom-8 atom-9\" d=\"M 343.2,242.0 L 298.7,216.2\" style=\"fill:none;fill-rule:evenodd;stroke:#000000;stroke-width:2.0px;stroke-linecap:butt;stroke-linejoin:miter;stroke-opacity:1\"/>\n",
       "<path class=\"bond-13 atom-8 atom-9\" d=\"M 343.2,233.1 L 306.4,211.8\" style=\"fill:none;fill-rule:evenodd;stroke:#000000;stroke-width:2.0px;stroke-linecap:butt;stroke-linejoin:miter;stroke-opacity:1\"/>\n",
       "<path class=\"bond-14 atom-9 atom-10\" d=\"M 298.7,216.2 L 282.2,225.7\" style=\"fill:none;fill-rule:evenodd;stroke:#000000;stroke-width:2.0px;stroke-linecap:butt;stroke-linejoin:miter;stroke-opacity:1\"/>\n",
       "<path class=\"bond-14 atom-9 atom-10\" d=\"M 282.2,225.7 L 265.8,235.1\" style=\"fill:none;fill-rule:evenodd;stroke:#FF0000;stroke-width:2.0px;stroke-linecap:butt;stroke-linejoin:miter;stroke-opacity:1\"/>\n",
       "<path class=\"bond-15 atom-10 atom-11\" d=\"M 242.3,235.1 L 225.9,225.5\" style=\"fill:none;fill-rule:evenodd;stroke:#FF0000;stroke-width:2.0px;stroke-linecap:butt;stroke-linejoin:miter;stroke-opacity:1\"/>\n",
       "<path class=\"bond-15 atom-10 atom-11\" d=\"M 225.9,225.5 L 209.5,216.0\" style=\"fill:none;fill-rule:evenodd;stroke:#000000;stroke-width:2.0px;stroke-linecap:butt;stroke-linejoin:miter;stroke-opacity:1\"/>\n",
       "<path class=\"bond-16 atom-11 atom-12\" d=\"M 209.5,216.0 L 209.6,164.5\" style=\"fill:none;fill-rule:evenodd;stroke:#000000;stroke-width:2.0px;stroke-linecap:butt;stroke-linejoin:miter;stroke-opacity:1\"/>\n",
       "<path class=\"bond-16 atom-11 atom-12\" d=\"M 201.8,211.6 L 201.9,169.0\" style=\"fill:none;fill-rule:evenodd;stroke:#000000;stroke-width:2.0px;stroke-linecap:butt;stroke-linejoin:miter;stroke-opacity:1\"/>\n",
       "<path class=\"bond-17 atom-11 atom-18\" d=\"M 209.5,216.0 L 164.9,241.7\" style=\"fill:none;fill-rule:evenodd;stroke:#000000;stroke-width:2.0px;stroke-linecap:butt;stroke-linejoin:miter;stroke-opacity:1\"/>\n",
       "<path class=\"bond-18 atom-12 atom-13\" d=\"M 209.6,164.5 L 165.1,138.7\" style=\"fill:none;fill-rule:evenodd;stroke:#000000;stroke-width:2.0px;stroke-linecap:butt;stroke-linejoin:miter;stroke-opacity:1\"/>\n",
       "<path class=\"bond-19 atom-13 atom-14\" d=\"M 165.1,138.7 L 165.1,119.3\" style=\"fill:none;fill-rule:evenodd;stroke:#000000;stroke-width:2.0px;stroke-linecap:butt;stroke-linejoin:miter;stroke-opacity:1\"/>\n",
       "<path class=\"bond-19 atom-13 atom-14\" d=\"M 165.1,119.3 L 165.1,99.8\" style=\"fill:none;fill-rule:evenodd;stroke:#33CCCC;stroke-width:2.0px;stroke-linecap:butt;stroke-linejoin:miter;stroke-opacity:1\"/>\n",
       "<path class=\"bond-20 atom-13 atom-15\" d=\"M 165.1,138.7 L 120.4,164.4\" style=\"fill:none;fill-rule:evenodd;stroke:#000000;stroke-width:2.0px;stroke-linecap:butt;stroke-linejoin:miter;stroke-opacity:1\"/>\n",
       "<path class=\"bond-20 atom-13 atom-15\" d=\"M 165.0,147.6 L 128.1,168.8\" style=\"fill:none;fill-rule:evenodd;stroke:#000000;stroke-width:2.0px;stroke-linecap:butt;stroke-linejoin:miter;stroke-opacity:1\"/>\n",
       "<path class=\"bond-21 atom-15 atom-16\" d=\"M 120.4,164.4 L 120.3,215.8\" style=\"fill:none;fill-rule:evenodd;stroke:#000000;stroke-width:2.0px;stroke-linecap:butt;stroke-linejoin:miter;stroke-opacity:1\"/>\n",
       "<path class=\"bond-22 atom-16 atom-17\" d=\"M 120.3,215.8 L 75.7,241.5\" style=\"fill:none;fill-rule:evenodd;stroke:#000000;stroke-width:2.0px;stroke-linecap:butt;stroke-linejoin:miter;stroke-opacity:1\"/>\n",
       "<path class=\"bond-23 atom-16 atom-18\" d=\"M 120.3,215.8 L 164.9,241.7\" style=\"fill:none;fill-rule:evenodd;stroke:#000000;stroke-width:2.0px;stroke-linecap:butt;stroke-linejoin:miter;stroke-opacity:1\"/>\n",
       "<path class=\"bond-23 atom-16 atom-18\" d=\"M 128.0,211.4 L 164.9,232.8\" style=\"fill:none;fill-rule:evenodd;stroke:#000000;stroke-width:2.0px;stroke-linecap:butt;stroke-linejoin:miter;stroke-opacity:1\"/>\n",
       "<path class=\"bond-24 atom-17 atom-25\" d=\"M 75.7,241.5 L 58.3,251.5\" style=\"fill:none;fill-rule:evenodd;stroke:#000000;stroke-width:2.0px;stroke-linecap:butt;stroke-linejoin:miter;stroke-opacity:1\"/>\n",
       "<path class=\"bond-24 atom-17 atom-25\" d=\"M 58.3,251.5 L 41.0,261.4\" style=\"fill:none;fill-rule:evenodd;stroke:#0000FF;stroke-width:2.0px;stroke-linecap:butt;stroke-linejoin:miter;stroke-opacity:1\"/>\n",
       "<path class=\"bond-24 atom-17 atom-25\" d=\"M 79.5,248.2 L 62.2,258.2\" style=\"fill:none;fill-rule:evenodd;stroke:#000000;stroke-width:2.0px;stroke-linecap:butt;stroke-linejoin:miter;stroke-opacity:1\"/>\n",
       "<path class=\"bond-24 atom-17 atom-25\" d=\"M 62.2,258.2 L 44.9,268.1\" style=\"fill:none;fill-rule:evenodd;stroke:#0000FF;stroke-width:2.0px;stroke-linecap:butt;stroke-linejoin:miter;stroke-opacity:1\"/>\n",
       "<path class=\"bond-24 atom-17 atom-25\" d=\"M 71.8,234.8 L 54.5,244.8\" style=\"fill:none;fill-rule:evenodd;stroke:#000000;stroke-width:2.0px;stroke-linecap:butt;stroke-linejoin:miter;stroke-opacity:1\"/>\n",
       "<path class=\"bond-24 atom-17 atom-25\" d=\"M 54.5,244.8 L 37.2,254.7\" style=\"fill:none;fill-rule:evenodd;stroke:#0000FF;stroke-width:2.0px;stroke-linecap:butt;stroke-linejoin:miter;stroke-opacity:1\"/>\n",
       "<path class=\"bond-25 atom-19 atom-20\" d=\"M 428.7,124.7 L 423.3,115.2\" style=\"fill:none;fill-rule:evenodd;stroke:#CCCC00;stroke-width:2.0px;stroke-linecap:butt;stroke-linejoin:miter;stroke-opacity:1\"/>\n",
       "<path class=\"bond-25 atom-19 atom-20\" d=\"M 423.3,115.2 L 417.8,105.8\" style=\"fill:none;fill-rule:evenodd;stroke:#FF0000;stroke-width:2.0px;stroke-linecap:butt;stroke-linejoin:miter;stroke-opacity:1\"/>\n",
       "<path class=\"bond-25 atom-19 atom-20\" d=\"M 422.0,128.6 L 416.6,119.1\" style=\"fill:none;fill-rule:evenodd;stroke:#CCCC00;stroke-width:2.0px;stroke-linecap:butt;stroke-linejoin:miter;stroke-opacity:1\"/>\n",
       "<path class=\"bond-25 atom-19 atom-20\" d=\"M 416.6,119.1 L 411.1,109.6\" style=\"fill:none;fill-rule:evenodd;stroke:#FF0000;stroke-width:2.0px;stroke-linecap:butt;stroke-linejoin:miter;stroke-opacity:1\"/>\n",
       "<path class=\"bond-26 atom-19 atom-21\" d=\"M 436.9,154.4 L 442.2,163.7\" style=\"fill:none;fill-rule:evenodd;stroke:#CCCC00;stroke-width:2.0px;stroke-linecap:butt;stroke-linejoin:miter;stroke-opacity:1\"/>\n",
       "<path class=\"bond-26 atom-19 atom-21\" d=\"M 442.2,163.7 L 447.6,173.0\" style=\"fill:none;fill-rule:evenodd;stroke:#FF0000;stroke-width:2.0px;stroke-linecap:butt;stroke-linejoin:miter;stroke-opacity:1\"/>\n",
       "<path class=\"bond-26 atom-19 atom-21\" d=\"M 443.6,150.5 L 448.9,159.9\" style=\"fill:none;fill-rule:evenodd;stroke:#CCCC00;stroke-width:2.0px;stroke-linecap:butt;stroke-linejoin:miter;stroke-opacity:1\"/>\n",
       "<path class=\"bond-26 atom-19 atom-21\" d=\"M 448.9,159.9 L 454.3,169.2\" style=\"fill:none;fill-rule:evenodd;stroke:#FF0000;stroke-width:2.0px;stroke-linecap:butt;stroke-linejoin:miter;stroke-opacity:1\"/>\n",
       "<path class=\"bond-27 atom-19 atom-22\" d=\"M 441.3,134.2 L 459.3,123.9\" style=\"fill:none;fill-rule:evenodd;stroke:#CCCC00;stroke-width:2.0px;stroke-linecap:butt;stroke-linejoin:miter;stroke-opacity:1\"/>\n",
       "<path class=\"bond-27 atom-19 atom-22\" d=\"M 459.3,123.9 L 477.3,113.6\" style=\"fill:none;fill-rule:evenodd;stroke:#000000;stroke-width:2.0px;stroke-linecap:butt;stroke-linejoin:miter;stroke-opacity:1\"/>\n",
       "<path d=\"M 330.3,88.4 L 332.8,88.7 L 333.4,91.2\" style=\"fill:none;stroke:#000000;stroke-width:2.0px;stroke-linecap:butt;stroke-linejoin:miter;stroke-opacity:1;\"/>\n",
       "<path d=\"M 261.7,127.8 L 260.6,130.2 L 262.5,131.9\" style=\"fill:none;stroke:#000000;stroke-width:2.0px;stroke-linecap:butt;stroke-linejoin:miter;stroke-opacity:1;\"/>\n",
       "<path d=\"M 387.9,213.8 L 387.9,216.4 L 385.6,217.7\" style=\"fill:none;stroke:#000000;stroke-width:2.0px;stroke-linecap:butt;stroke-linejoin:miter;stroke-opacity:1;\"/>\n",
       "<path d=\"M 345.5,240.8 L 343.2,242.0 L 341.0,240.8\" style=\"fill:none;stroke:#000000;stroke-width:2.0px;stroke-linecap:butt;stroke-linejoin:miter;stroke-opacity:1;\"/>\n",
       "<path d=\"M 209.6,167.1 L 209.6,164.5 L 207.4,163.2\" style=\"fill:none;stroke:#000000;stroke-width:2.0px;stroke-linecap:butt;stroke-linejoin:miter;stroke-opacity:1;\"/>\n",
       "<path d=\"M 122.6,163.1 L 120.4,164.4 L 120.4,166.9\" style=\"fill:none;stroke:#000000;stroke-width:2.0px;stroke-linecap:butt;stroke-linejoin:miter;stroke-opacity:1;\"/>\n",
       "<path d=\"M 77.9,240.2 L 75.7,241.5 L 74.8,242.0\" style=\"fill:none;stroke:#000000;stroke-width:2.0px;stroke-linecap:butt;stroke-linejoin:miter;stroke-opacity:1;\"/>\n",
       "<path d=\"M 167.1,240.4 L 164.9,241.7 L 162.6,240.4\" style=\"fill:none;stroke:#000000;stroke-width:2.0px;stroke-linecap:butt;stroke-linejoin:miter;stroke-opacity:1;\"/>\n",
       "<path class=\"atom-0\" d=\"M 357.3 50.5 Q 357.3 45.3, 359.9 42.3 Q 362.5 39.4, 367.4 39.4 Q 372.2 39.4, 374.8 42.3 Q 377.4 45.3, 377.4 50.5 Q 377.4 55.8, 374.8 58.9 Q 372.2 61.9, 367.4 61.9 Q 362.5 61.9, 359.9 58.9 Q 357.3 55.9, 357.3 50.5 M 367.4 59.4 Q 370.7 59.4, 372.5 57.2 Q 374.3 54.9, 374.3 50.5 Q 374.3 46.2, 372.5 44.1 Q 370.7 41.9, 367.4 41.9 Q 364.0 41.9, 362.2 44.0 Q 360.4 46.2, 360.4 50.5 Q 360.4 55.0, 362.2 57.2 Q 364.0 59.4, 367.4 59.4 \" fill=\"#FF0000\"/>\n",
       "<path class=\"atom-0\" d=\"M 380.8 39.7 L 383.8 39.7 L 383.8 49.0 L 395.0 49.0 L 395.0 39.7 L 397.9 39.7 L 397.9 61.5 L 395.0 61.5 L 395.0 51.4 L 383.8 51.4 L 383.8 61.5 L 380.8 61.5 L 380.8 39.7 \" fill=\"#FF0000\"/>\n",
       "<path class=\"atom-10\" d=\"M 244.0 241.9 Q 244.0 236.7, 246.6 233.7 Q 249.2 230.8, 254.0 230.8 Q 258.9 230.8, 261.5 233.7 Q 264.1 236.7, 264.1 241.9 Q 264.1 247.2, 261.5 250.3 Q 258.8 253.3, 254.0 253.3 Q 249.2 253.3, 246.6 250.3 Q 244.0 247.3, 244.0 241.9 M 254.0 250.8 Q 257.4 250.8, 259.2 248.6 Q 261.0 246.3, 261.0 241.9 Q 261.0 237.6, 259.2 235.5 Q 257.4 233.3, 254.0 233.3 Q 250.7 233.3, 248.9 235.4 Q 247.1 237.6, 247.1 241.9 Q 247.1 246.3, 248.9 248.6 Q 250.7 250.8, 254.0 250.8 \" fill=\"#FF0000\"/>\n",
       "<path class=\"atom-14\" d=\"M 158.7 76.3 L 171.7 76.3 L 171.7 78.8 L 161.6 78.8 L 161.6 85.4 L 170.6 85.4 L 170.6 88.0 L 161.6 88.0 L 161.6 98.1 L 158.7 98.1 L 158.7 76.3 \" fill=\"#33CCCC\"/>\n",
       "<path class=\"atom-19\" d=\"M 426.4 146.7 Q 426.7 146.8, 427.7 147.3 Q 428.7 147.7, 429.8 148.0 Q 431.0 148.2, 432.1 148.2 Q 434.2 148.2, 435.4 147.2 Q 436.6 146.2, 436.6 144.5 Q 436.6 143.3, 436.0 142.5 Q 435.4 141.8, 434.5 141.4 Q 433.5 141.0, 432.0 140.5 Q 430.0 139.9, 428.9 139.4 Q 427.7 138.8, 426.9 137.6 Q 426.1 136.5, 426.1 134.5 Q 426.1 131.7, 427.9 130.0 Q 429.8 128.3, 433.5 128.3 Q 436.1 128.3, 438.9 129.5 L 438.2 131.9 Q 435.6 130.8, 433.6 130.8 Q 431.5 130.8, 430.3 131.7 Q 429.1 132.6, 429.2 134.1 Q 429.2 135.3, 429.8 136.0 Q 430.4 136.7, 431.2 137.1 Q 432.1 137.5, 433.6 138.0 Q 435.6 138.6, 436.8 139.2 Q 437.9 139.8, 438.8 141.1 Q 439.6 142.3, 439.6 144.5 Q 439.6 147.5, 437.6 149.1 Q 435.6 150.7, 432.2 150.7 Q 430.3 150.7, 428.8 150.3 Q 427.3 149.9, 425.6 149.2 L 426.4 146.7 \" fill=\"#CCCC00\"/>\n",
       "<path class=\"atom-20\" d=\"M 396.9 94.7 Q 396.9 89.4, 399.5 86.5 Q 402.1 83.5, 407.0 83.5 Q 411.8 83.5, 414.4 86.5 Q 417.0 89.4, 417.0 94.7 Q 417.0 100.0, 414.4 103.0 Q 411.8 106.0, 407.0 106.0 Q 402.1 106.0, 399.5 103.0 Q 396.9 100.0, 396.9 94.7 M 407.0 103.5 Q 410.3 103.5, 412.1 101.3 Q 413.9 99.0, 413.9 94.7 Q 413.9 90.4, 412.1 88.2 Q 410.3 86.0, 407.0 86.0 Q 403.6 86.0, 401.8 88.2 Q 400.0 90.3, 400.0 94.7 Q 400.0 99.1, 401.8 101.3 Q 403.6 103.5, 407.0 103.5 \" fill=\"#FF0000\"/>\n",
       "<path class=\"atom-21\" d=\"M 448.2 183.9 Q 448.2 178.7, 450.8 175.8 Q 453.4 172.8, 458.3 172.8 Q 463.1 172.8, 465.7 175.8 Q 468.3 178.7, 468.3 183.9 Q 468.3 189.3, 465.7 192.3 Q 463.1 195.3, 458.3 195.3 Q 453.5 195.3, 450.8 192.3 Q 448.2 189.3, 448.2 183.9 M 458.3 192.8 Q 461.6 192.8, 463.4 190.6 Q 465.2 188.3, 465.2 183.9 Q 465.2 179.6, 463.4 177.5 Q 461.6 175.3, 458.3 175.3 Q 454.9 175.3, 453.1 177.5 Q 451.3 179.6, 451.3 183.9 Q 451.3 188.4, 453.1 190.6 Q 454.9 192.8, 458.3 192.8 \" fill=\"#FF0000\"/>\n",
       "<path class=\"atom-23\" d=\"M 226.2 56.2 L 239.2 56.2 L 239.2 58.7 L 229.1 58.7 L 229.1 65.4 L 238.1 65.4 L 238.1 67.9 L 229.1 67.9 L 229.1 78.1 L 226.2 78.1 L 226.2 56.2 \" fill=\"#33CCCC\"/>\n",
       "<path class=\"atom-24\" d=\"M 285.9 21.9 L 298.9 21.9 L 298.9 24.4 L 288.9 24.4 L 288.9 31.0 L 297.8 31.0 L 297.8 33.6 L 288.9 33.6 L 288.9 43.8 L 285.9 43.8 L 285.9 21.9 \" fill=\"#33CCCC\"/>\n",
       "<path class=\"atom-25\" d=\"M 26.2 256.2 L 33.4 267.8 Q 34.1 269.0, 35.2 271.0 Q 36.4 273.1, 36.4 273.2 L 36.4 256.2 L 39.3 256.2 L 39.3 278.1 L 36.3 278.1 L 28.6 265.4 Q 27.7 264.0, 26.8 262.3 Q 25.8 260.6, 25.6 260.0 L 25.6 278.1 L 22.7 278.1 L 22.7 256.2 L 26.2 256.2 \" fill=\"#0000FF\"/>\n",
       "</svg>"
      ],
      "text/plain": [
       "<IPython.core.display.SVG object>"
      ]
     },
     "execution_count": 4,
     "metadata": {},
     "output_type": "execute_result"
    }
   ],
   "source": [
    "# Load a molecule from a SDF file\n",
    "ligand = Molecule.from_file(ligand_path)\n",
    "\n",
    "# Print out a SMILES code for the ligand\n",
    "print(ligand.to_smiles(explicit_hydrogens=False))\n",
    "\n",
    "# Visualize the molecule\n",
    "ligand.visualize(show_all_hydrogens=False)"
   ]
  },
  {
   "cell_type": "markdown",
   "metadata": {},
   "source": [
    "An SDF file with an entire protein would be huge, and finding or constructing one in the first place would be tricky, so for polymers the Toolkit supports inferring chemical information from PDB files. Connectivity can be taken from residue and atom names for supported molecules, and we can supply a list of arbitrary molecules that are in the PDB which are then identified via CONECT records."
   ]
  },
  {
   "cell_type": "markdown",
   "metadata": {},
   "source": [
    "First we'll solvate our system. [PDBFixer] makes it easy to add water and salt to our original receptor PDB, which already includes crystallographic waters. PDBFixer can also manage a number of other common processes, like restoring missing hydrogens or other atoms and even adding a membrane. We can then save it to disk and load the resulting PDB into a topology!\n",
    "\n",
    "[PDBFixer]: https://htmlpreview.github.io/?https://github.com/openmm/pdbfixer/blob/master/Manual.html"
   ]
  },
  {
   "cell_type": "code",
   "execution_count": 5,
   "metadata": {},
   "outputs": [],
   "source": [
    "fixer = PDBFixer(receptor_path)\n",
    "fixer.addSolvent(\n",
    "    padding=1.0 * openmm_unit.nanometer, ionicStrength=0.15 * openmm_unit.molar\n",
    ")\n",
    "\n",
    "with open(\"receptor_solvated.pdb\", \"w\") as f:\n",
    "    openmm.app.PDBFile.writeFile(fixer.topology, fixer.positions, f)\n",
    "\n",
    "top = Topology.from_pdb(\"receptor_solvated.pdb\")"
   ]
  },
  {
   "cell_type": "markdown",
   "metadata": {},
   "source": [
    "We can finish up by adding the ligand `Molecule` to the topology, and removing any waters that clash with it. We can define a nice function for this."
   ]
  },
  {
   "cell_type": "code",
   "execution_count": 6,
   "metadata": {},
   "outputs": [],
   "source": [
    "def insert_molecule_and_remove_clashes(\n",
    "    topology: Topology,\n",
    "    insert: Molecule,\n",
    "    radius: Quantity = 1.5 * unit.angstrom,\n",
    "    keep: list[Molecule] = [],\n",
    ") -> Topology:\n",
    "    \"\"\"\n",
    "    Add a molecule to a copy of the topology, removing any clashing molecules.\n",
    "\n",
    "    The molecule will be added to the end of the topology. A new topology is\n",
    "    returned; the input topology will not be altered. All molecules that\n",
    "    clash will be removed, and each removed molecule will be printed to stdout.\n",
    "    Users are responsible for ensuring that no important molecules have been\n",
    "    removed; the clash radius may be modified accordingly.\n",
    "\n",
    "    Parameters\n",
    "    ==========\n",
    "    top\n",
    "        The topology to insert a molecule into\n",
    "    insert\n",
    "        The molecule to insert\n",
    "    radius\n",
    "        Any atom within this distance of any atom in the insert is considered\n",
    "        clashing.\n",
    "    keep\n",
    "        Keep copies of these molecules, even if they're clashing\n",
    "    \"\"\"\n",
    "    # We'll collect the molecules for the output topology into a list\n",
    "    new_top_mols = []\n",
    "    # A molecule's positions in a topology are stored as its zeroth conformer\n",
    "    insert_coordinates = insert.conformers[0][:, None, :]\n",
    "    for molecule in topology.molecules:\n",
    "        if any(keep_mol.is_isomorphic_with(molecule) for keep_mol in keep):\n",
    "            new_top_mols.append(molecule)\n",
    "            continue\n",
    "        molecule_coordinates = molecule.conformers[0][None, :, :]\n",
    "        diff_matrix = molecule_coordinates - insert_coordinates\n",
    "\n",
    "        # np.linalg.norm doesn't work on Pint quantities 😢\n",
    "        working_unit = unit.nanometer\n",
    "        distance_matrix = (\n",
    "            np.linalg.norm(diff_matrix.m_as(working_unit), axis=-1) * working_unit\n",
    "        )\n",
    "\n",
    "        if distance_matrix.min() > radius:\n",
    "            # This molecule is not clashing, so add it to the topology\n",
    "            new_top_mols.append(molecule)\n",
    "        else:\n",
    "            print(f\"Removed {molecule.to_smiles()} molecule\")\n",
    "\n",
    "    # Insert the ligand at the end\n",
    "    new_top_mols.append(ligand)\n",
    "\n",
    "    # This pattern of assembling a topology from a list of molecules\n",
    "    # ends up being much more efficient than adding each molecule\n",
    "    # to a new topology one at a time\n",
    "    new_top = Topology.from_molecules(new_top_mols)\n",
    "\n",
    "    # Don't forget the box vectors!\n",
    "    new_top.box_vectors = topology.box_vectors\n",
    "    return new_top\n",
    "\n",
    "\n",
    "top = insert_molecule_and_remove_clashes(top, ligand)"
   ]
  },
  {
   "cell_type": "markdown",
   "metadata": {},
   "source": [
    "Now that we've assembled our topology, we can save it to disk. We can use JSON for this, which makes it human readable in a pinch. This stores everything we've just assembled - molecular identities, conformers, box vectors, and everything else. The topology can then be loaded later on with the [`Topology.from_json()`] method. This is great for running the same system through different force fields, distribution with a paper, or for assembling systems in stages.\n",
    "\n",
    "[`Topology.from_json()`]: https://docs.openforcefield.org/projects/toolkit/en/stable/api/generated/openff.toolkit.topology.Topology.html#openff.toolkit.topology.Topology.from_json\n",
    "\n",
    "<div class=\"alert alert-info\" style=\"max-width: 700px; margin-left: auto; margin-right: auto;\">\n",
    "    ℹ️ JSON export is pretty slow, and we don't need it for the rest of the notebook, so feel free to skip it.\n",
    "</div>\n"
   ]
  },
  {
   "cell_type": "code",
   "execution_count": 7,
   "metadata": {},
   "outputs": [],
   "source": [
    "with open(\"topology.json\", \"w\") as f:\n",
    "    print(top.to_json(), file=f)"
   ]
  },
  {
   "cell_type": "markdown",
   "metadata": {
    "tags": []
   },
   "source": [
    "## Visualize the complex (NGLView)\n",
    "\n",
    "To visualize inside the notebook, we'll use NGLView. NGLView supports a wide variety of [molecular visualization methods], as well as a VMD-like [atom selection language]. This can be used to visualize complex systems like this one.\n",
    "\n",
    "The widget consists of a minimally documented [Python library frontend] and an extensively documented [JavaScript backend]. You'll need to refer to the documentation for both to do anything sophisticated, as the Python code delegates most of its options and functionality to the JS code.\n",
    "\n",
    "We'll start by defining a function to create an NGLView widget from a `Topology`. This functionality will eventually find its way into the Toolkit, but for now it's here.\n",
    "\n",
    "[molecular visualization methods]: https://nglviewer.org/ngl/api/manual/molecular-representations.html\n",
    "[atom selection language]: https://nglviewer.org/ngl/api/manual/selection-language.html\n",
    "[Python library frontend]: https://nglviewer.org/nglview/latest/api.html\n",
    "[JavaScript backend]: https://nglviewer.org/ngl/api/manual/index.html"
   ]
  },
  {
   "cell_type": "code",
   "execution_count": 8,
   "metadata": {},
   "outputs": [],
   "source": [
    "def visualize(topology):\n",
    "    \"\"\"Visualize a topology with nglview\"\"\"\n",
    "    from io import StringIO\n",
    "\n",
    "    with StringIO() as f:\n",
    "        topology.to_file(file=f)\n",
    "        pdb_str = f.getvalue()\n",
    "    return nglview.show_text(pdb_str)"
   ]
  },
  {
   "cell_type": "code",
   "execution_count": 9,
   "metadata": {},
   "outputs": [
    {
     "data": {
      "application/vnd.jupyter.widget-view+json": {
       "model_id": "d0837281d578488f93a96c9ad5a5c4d0",
       "version_major": 2,
       "version_minor": 0
      },
      "text/plain": [
       "NGLWidget()"
      ]
     },
     "metadata": {},
     "output_type": "display_data"
    }
   ],
   "source": [
    "# Create the widget. By default, proteins are shown as a cartoon and unrecognised ligands with a ball-and-stick model\n",
    "view = visualize(top)\n",
    "\n",
    "# Add a licorice/stick representation for everything except the protein\n",
    "view.add_line(selection=\"(not protein)\")\n",
    "# Make the ions clearer by drawing their vdW surfaces\n",
    "view.add_spacefill(selection=\":.NA or :.CL\")\n",
    "\n",
    "# Render the widget\n",
    "view"
   ]
  },
  {
   "cell_type": "markdown",
   "metadata": {},
   "source": [
    "<div class=\"alert alert-info\" style=\"max-width: 700px; margin-left: auto; margin-right: auto;\">\n",
    "ℹ️ Have a play with this visualization! Try clearing the default representations with <code>view.clear()</code> and configuring your own cartoon <em>(Hint: <a href=https://nglviewer.org/nglview/latest/api.html#nglview.NGLWidget>Check</a> the <a href=https://nglviewer.org/ngl/api/manual/molecular-representations.html>docs</a>)</em>. See if you can display the ligand in a way you like, without also displaying the protein's terminal caps. When you're happy with what you've made, save the image with <code>view.download_image()</code>\n",
    "</div>"
   ]
  },
  {
   "cell_type": "markdown",
   "metadata": {},
   "source": [
    "## Assemble the force field (OpenFF Toolkit)\n",
    "\n",
    "Now that we've prepared our co-ordinates, we should choose the force field. For now, we don't have any single SMIRNOFF force field that can handle both proteins and small molecules; the Rosemary 3.0.0 force field will support this, but it's not expected until 2023. As an alternative, we'll combine the Sage small molecule force field with the SMIRNOFF port of Amber ff14SB. These force fields parametrize non-bonded parameters in similar ways and with the same functional form, so we don't expect any outrageous artifacts, but they also haven't been carefully tested together.\n",
    "\n",
    "The star of the show here is the Sage 2.0.0 force field. [Sage] is the latest force field produced by the Open Force Field Initiative. Rather than using atom types like traditional biomolecular force fields, Sage assigns parameters to a molecule by [matching actual chemical moieties]. Note that to parametrize a molecule you need more than just the co-ordinates of its atoms; you also need their bonds, bond orders, and formal charges. As a result, `.sdf` files are used in this example; other file types are possible, but they must include this information. Sage is distributed as an `.offxml` file according to the [SMIRNOFF specification]. This file describes all the choices the toolkit has to make to parametrize a molecule. Sage also includes the TIP3P water model, which is appropriate for Amber ff14SB too.\n",
    "\n",
    "When we combine multiple SMIRNOFF force fields into one, we provide them in an order from general to specific. Sage includes parameters that could be applied to a protein, but they're general across all molecules; ff14SB's parameters are specific to proteins. Since the Toolkit always applies the last parameters that match a moiety, this order makes sure the right parameters get assigned.\n",
    "\n",
    "[Sage]: https://openforcefield.org/force-fields/force-fields/#sage\n",
    "[matching actual chemical moieties]: https://www.daylight.com/dayhtml/doc/theory/theory.smarts.html\n",
    "[SMIRNOFF specification]: https://openforcefield.github.io/standards/standards/smirnoff/\n",
    "\n",
    "<div class=\"alert alert-warning\" style=\"max-width: 700px; margin-left: auto; margin-right: auto;\">\n",
    "    🚧 <b> This code is not production-ready</b><br />\n",
    "The Amber ff14SB port is intended as a proof-of-concept for SMIRNOFF protein force fields. It may not precisely match the energetics or forces of the original ff14SB, and it may not be appropriate in combination with Sage. Wait for protein support in the Rosemary force field to use this in production. \n",
    "</div>\n"
   ]
  },
  {
   "cell_type": "code",
   "execution_count": 10,
   "metadata": {},
   "outputs": [],
   "source": [
    "sage_ff14sb = ForceField(\"openff-2.1.0.offxml\", \"ff14sb_off_impropers_0.0.3.offxml\")"
   ]
  },
  {
   "cell_type": "markdown",
   "metadata": {},
   "source": [
    "## Parametrize the complex (OpenFF Toolkit)\n",
    "\n",
    "We now have a `Topology`, which stores the chemical information of the system, and a `ForceField`, which maps chemistry to force field parameters. To parametrize the system, we combine these two objects into an [`Interchange`].\n",
    "\n",
    "An `Interchange` represents a completely parametrized molecular mechanics system. Partial charges are computed here according to the instructions in the force field, and this is where virtual sites required by the force field will be introduced. This all happens behind the scenes; all we have to do is combine an abstract chemical description with a force field. This makes it easy to change water model or force field, as the chemistry being modelled is completely independent of the model itself.\n",
    "\n",
    "[`Interchange`]: https://docs.openforcefield.org/projects/interchange/en/stable/_autosummary/openff.interchange.components.interchange.Interchange.html"
   ]
  },
  {
   "cell_type": "code",
   "execution_count": 11,
   "metadata": {},
   "outputs": [],
   "source": [
    "interchange = sage_ff14sb.create_interchange(top)"
   ]
  },
  {
   "cell_type": "markdown",
   "metadata": {},
   "source": [
    "*(This should take about a minute, largely because of the complexity of the Amber protein force field port. In the future, this should be faster.)*"
   ]
  },
  {
   "cell_type": "markdown",
   "metadata": {},
   "source": [
    "While that runs, let's recap. We've constructed a `Topology` out of a number of `Molecule` objects, each of which represents a particular chemical independent of any model details. The `Topology` then represents an entire chemical system, which in theory could be modelled in any number of ways. Our `Topology` also includes atom positions and box vectors, but if we thought that was too concrete for our use case we could leave them out and add them after parametrization.\n",
    "\n",
    "Separately, we've constructed a `ForceField` by combining a general SMIRNOFF force field with a protein-specific SMIRNOFF force field. A SMIRNOFF force field is a bunch of rules for applying force field parameters to chemicals via SMARTS patterns. The force field includes everything needed to compute an energy: parameters, charges, functional forms, non-bonded methods and cutoffs, virtual sites, and so on.\n",
    "\n",
    "Then, we've parametrized our `Topology` with our `ForceField` to produce an `Interchange`. This applies all our rules and gives us a system ready to simulate. An `Interchange` can also concretely define positions, velocities, and box vectors, whether they come from the `Topology` or are added after parametrization. Once we have the `Interchange`, we can produce input data for any of the supported MM engines.\n",
    "\n",
    "This clear delineation makes benchmarking the same system against different force fields or the same force field against different force fields easy. The SMIRNOFF format makes distributing force fields in an engine agnostic way possible. Everything is an open standard or written in open source Python, so we can see how it works and even change it if we need to."
   ]
  },
  {
   "cell_type": "markdown",
   "metadata": {
    "tags": []
   },
   "source": [
    "## Simulate the complex (OpenMM)\n",
    "\n",
    "To use an `Interchange`, we need to convert it to the input expected by a particular molecular mechanics engine. We'll use OpenMM, because its support is the most mature and the fastest, but GROMACS, LAMMPS, and Amber all enjoy [preliminary support].\n",
    "\n",
    "All that remains is to tell OpenMM the details about how we want to integrate and record data for the simulation, and then to put everything together and run it! \n",
    "\n",
    "[preliminary support]: https://docs.openforcefield.org/projects/interchange/en/stable/using/output.html\n",
    "\n",
    "### Configure and run the simulation\n",
    "\n",
    "Here, we'll use a Langevin thermostat at 300 Kelvin and a 2 fs time step. We'll write the structure to disk every 10 steps."
   ]
  },
  {
   "cell_type": "code",
   "execution_count": 12,
   "metadata": {},
   "outputs": [],
   "source": [
    "# Construct and configure a Langevin integrator at 300 K with an appropriate friction constant and time-step\n",
    "integrator = openmm.LangevinIntegrator(\n",
    "    300 * openmm_unit.kelvin,\n",
    "    1 / openmm_unit.picosecond,\n",
    "    0.002 * openmm_unit.picoseconds,\n",
    ")\n",
    "\n",
    "# Under the hood, this creates *OpenMM* `System` and `Topology` objects, then combines them together\n",
    "simulation = interchange.to_openmm_simulation(integrator=integrator)\n",
    "\n",
    "# Add a reporter to record the structure every 100 steps, 1000 if using a CUDA-enabled GPU\n",
    "try:\n",
    "    openmm.Platform.getPlatformByName(\"CUDA\")\n",
    "    stride = 1000\n",
    "except openmm.OpenMMException:\n",
    "    stride = 100\n",
    "\n",
    "dcd_reporter = openmm.app.DCDReporter(file=\"trajectory.dcd\", reportInterval=stride)\n",
    "simulation.reporters.append(dcd_reporter)"
   ]
  },
  {
   "cell_type": "markdown",
   "metadata": {},
   "source": [
    "### Minimize the combined system\n",
    "\n",
    "This will reduce any forces that are too large to integrate, such as from clashes or from disagreements between the crystal structure and force field.\n"
   ]
  },
  {
   "cell_type": "code",
   "execution_count": 13,
   "metadata": {},
   "outputs": [
    {
     "name": "stdout",
     "output_type": "stream",
     "text": [
      "Original state has energy -190024.66 kJ/mol with maximum force 149324.54 kJ/(mol nm)\n",
      "Minimized state has energy -405397.28 kJ/mol with maximum force 2557.75 kJ/(mol nm)\n"
     ]
    }
   ],
   "source": [
    "def describe_state(state: openmm.State, name: str = \"State\"):\n",
    "    max_force = max(np.sqrt(v.x**2 + v.y**2 + v.z**2) for v in state.getForces())\n",
    "    print(\n",
    "        f\"{name} has energy {round(state.getPotentialEnergy()._value, 2)} kJ/mol \"\n",
    "        f\"with maximum force {round(max_force, 2)} kJ/(mol nm)\"\n",
    "    )\n",
    "\n",
    "\n",
    "describe_state(\n",
    "    simulation.context.getState(\n",
    "        getEnergy=True,\n",
    "        getForces=True,\n",
    "    ),\n",
    "    \"Original state\",\n",
    ")\n",
    "\n",
    "simulation.minimizeEnergy()\n",
    "\n",
    "describe_state(\n",
    "    simulation.context.getState(getEnergy=True, getForces=True),\n",
    "    \"Minimized state\",\n",
    ")"
   ]
  },
  {
   "cell_type": "markdown",
   "metadata": {},
   "source": [
    "### Run a short simulation\n",
    "\n",
    "If this were anything more than a demonstration of the Toolkit, this example would need to include additional steps like equilibration. \n",
    "\n",
    "<div class=\"alert alert-warning\" style=\"max-width: 700px; margin-left: auto; margin-right: auto;\">\n",
    "⚠️ Make sure you use your own, valid simulation protocol! This is just an example.\n",
    "</div>"
   ]
  },
  {
   "cell_type": "code",
   "execution_count": 14,
   "metadata": {},
   "outputs": [],
   "source": [
    "simulation.context.setVelocitiesToTemperature(300 * openmm_unit.kelvin)\n",
    "simulation.runForClockTime(1.0 * openmm_unit.minute)"
   ]
  },
  {
   "cell_type": "markdown",
   "metadata": {},
   "source": [
    "_(This'll take a minute - literally, this time)_"
   ]
  },
  {
   "cell_type": "markdown",
   "metadata": {},
   "source": [
    "While that runs, let's talk a bit about OpenFF\n",
    "\n",
    "### Open Source Force Fields\n",
    "\n",
    "A primary goal of the Open Force Field Initiative is to make development and use of force fields as open as possible - it's in our name! We believe that open source development practices have a lot to offer the scientific community, whether that science is academic, commercial, or hobbyist.\n",
    "\n",
    "#### The SMIRNOFF specification\n",
    "\n",
    "The SMIRNOFF specification describes a simple format for describing molecular force fields. We provide and maintain this spec in the hopes that it will allow scientists everywhere to contribute to force field development in a unified way, without taking them away from their favourite simulation package.\n",
    "\n",
    "SMIRNOFF is not just a spec; we're also committed to a reference implementation — that being the OpenFF Toolkit. The Toolkit endeavors to support all the functional forms in both the SMIRNOFF spec and the [`openff-forcefields`](https://github.com/openforcefield/openff-forcefields/) package.\n",
    "\n",
    "#### Reproducibility\n",
    "\n",
    "OpenFF force fields are completely specified by the name of the distributed `.offxml` file. We use codenames, version numbers, and tags to accomplish this. This means that as long as a user, designer, or reviewer sees the name of the force field being used, they know exactly what is going in to that simulation. We include parameters that are often neglected in force field specifications, such as the non-bonded cut-off distance, ewald methods, constraints, modifications to the Lennard-Jones function, and partial charge generation methods are all defined by the name of the force field. \n",
    "\n",
    "As much as possible, we want energy and force to be a deterministic output of combining a molecule and a force field. If an author provides the name of the force field in their methods section, it should be reproducible. The other side of this coin is that we never want to hide the force field from the user. In all our workflows, the name of the force field must be explicitly provided in the code. This improves reproducibility of the code and helps the user take responsibility for their results. \n",
    "\n",
    "#### \"Plugin\" support for new force fields\n",
    "\n",
    "The OpenFF Toolkit supports distributing force field files (.offxml) through Conda data packages. Anyone can publish a package on Conda Forge that extends the list of directories the toolkit searches for force fields, allowing anyone to produce force fields without requiring their own tooling, in a format that is designed to be converted to a multitude of simulation packages. See the [FAQ](https://open-forcefield-toolkit.readthedocs.io/en/stable/faq.html#how-can-i-distribute-my-own-force-fields-in-smirnoff-format) for more details.\n",
    "\n",
    "---\n",
    "\n",
    "Right! Simulation should be done by now, let's take a look."
   ]
  },
  {
   "cell_type": "markdown",
   "metadata": {},
   "source": [
    "## Visualize the simulation (nglview)\n",
    "\n",
    "NGLView can display trajectories, as well as single structures. Mouse over the widget to see the animation controls."
   ]
  },
  {
   "cell_type": "code",
   "execution_count": 15,
   "metadata": {
    "scrolled": true
   },
   "outputs": [
    {
     "data": {
      "application/vnd.jupyter.widget-view+json": {
       "model_id": "668303a97a5440a9b8c89c5d0dc29ac6",
       "version_major": 2,
       "version_minor": 0
      },
      "text/plain": [
       "NGLWidget(max_frame=78)"
      ]
     },
     "metadata": {},
     "output_type": "display_data"
    }
   ],
   "source": [
    "trajectory: mdtraj.Trajectory = mdtraj.load(\n",
    "    \"trajectory.dcd\", top=mdtraj.Topology.from_openmm(interchange.to_openmm_topology())\n",
    ")\n",
    "\n",
    "view = nglview.show_mdtraj(trajectory.image_molecules())\n",
    "view.add_representation(\"line\", selection=\"protein\")\n",
    "view"
   ]
  },
  {
   "cell_type": "markdown",
   "metadata": {},
   "source": [
    "<div class=\"alert alert-info\" style=\"max-width: 700px; margin-left: auto; margin-right: auto;\">\n",
    "ℹ️ MDTraj is a great library for analysis. Check out the <a href=https://mdtraj.org/1.9.4/api/generated/mdtraj.Trajectory.html>docs</a> for the <code>Trajectory</code> object you just created, as well as their <a href=https://mdtraj.org/1.9.4/analysis.html>analysis functions</a>, and see if you can compute something interesting. Its real superpower is that it provides the coordinates of the trajectory as a <a href=https://numpy.org/doc/stable/reference/generated/numpy.array.html>NumPy array</a>, so if you're really keen try computing something directly from <code>trajectory.xyz</code>\n",
    "</div>"
   ]
  },
  {
   "cell_type": "markdown",
   "metadata": {},
   "source": [
    "## Conclusions\n",
    "\n",
    "* The OpenFF workflow cleanly separates the chemical system from its model.\n",
    "* We parametrize ligands and proteins with the same software tools.\n",
    "* Open source tools installed via Conda did everything, from basic system prep to simulation and visualization\n",
    "* Using OpenMM, we never had to leave Python to set up the simulation\n",
    "* With Interchange, using OpenMM, GROMACS, Amber or LAMMPS is simple!\n",
    "\n",
    "\n",
    "## What's next?\n",
    "\n",
    "We have more examples for you to explore the toolkit!\n",
    "\n",
    " - [Force Field Modification](https://github.com/openforcefield/openff-toolkit/blob/main/examples/forcefield_modification/): Use the Toolkit API to manipulate SMIRNOFF parameters in a `ForceField` object\n",
    " - [Conformer energies](https://github.com/openforcefield/openff-toolkit/blob/main/examples/conformer_energies/): Compute vacuum energies of different conformers of a small molecule with the Sage force field\n",
    " - [QCArchive interface](https://github.com/openforcefield/openff-toolkit/blob/main/examples/QCArchive_interface/): Create OpenFF `Molecule` objects from the [QCArchive](https://qcarchive.molssi.org/)"
   ]
  }
 ],
 "metadata": {
  "category": "tutorial",
  "kernelspec": {
   "display_name": "Python 3 (ipykernel)",
   "language": "python",
   "name": "python3"
  },
  "language_info": {
   "codemirror_mode": {
    "name": "ipython",
    "version": 3
   },
   "file_extension": ".py",
   "mimetype": "text/x-python",
   "name": "python",
   "nbconvert_exporter": "python",
   "pygments_lexer": "ipython3",
   "version": "3.11.6"
  },
  "widgets": {
   "application/vnd.jupyter.widget-state+json": {
    "state": {},
    "version_major": 2,
    "version_minor": 0
   }
  }
 },
 "nbformat": 4,
 "nbformat_minor": 4
}

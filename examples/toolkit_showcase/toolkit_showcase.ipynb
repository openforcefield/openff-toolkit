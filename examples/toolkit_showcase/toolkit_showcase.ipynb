{
 "cells": [
  {
   "cell_type": "markdown",
   "metadata": {
    "tags": []
   },
   "source": [
    "# Toolkit Showcase: Prepare and run a protein-ligand simulation\n",
    "\n",
    "Welcome to the Open Force Field Toolkit! This introductory example will demonstrate how to prepare a system for Molecular Dynamics that combines solvent, a ligand using the Sage open force field, and a protein using a standard Amber force field. We'll take a pre-docked benchmark example and solvate it, assemble the system, parametrize it, and finally simulate it with OpenMM and visualize the results, all without leaving the notebook. Have fun!"
   ]
  },
  {
   "cell_type": "code",
   "execution_count": 1,
   "metadata": {
    "slideshow": {
     "slide_type": "-"
    },
    "tags": []
   },
   "outputs": [
    {
     "data": {
      "application/vnd.jupyter.widget-view+json": {
       "model_id": "bd2847c524a04746bf838de65e9e51b9",
       "version_major": 2,
       "version_minor": 0
      },
      "text/plain": []
     },
     "metadata": {},
     "output_type": "display_data"
    },
    {
     "name": "stdout",
     "output_type": "stream",
     "text": [
      "env: OMP_NUM_THREADS=2\n"
     ]
    }
   ],
   "source": [
    "# Imports from the comp chem ecosystem\n",
    "import mdtraj\n",
    "import nglview\n",
    "import numpy as np\n",
    "import openmm\n",
    "from openff.units import Quantity, unit\n",
    "from openmm import unit as openmm_unit\n",
    "from pdbfixer import PDBFixer\n",
    "\n",
    "# Imports from the toolkit\n",
    "from openff.toolkit import ForceField, Molecule, Topology\n",
    "\n",
    "%env OMP_NUM_THREADS=2"
   ]
  },
  {
   "cell_type": "markdown",
   "metadata": {},
   "source": [
    "## Introducing the main cast\n",
    "\n",
    "Merck [provides data] to benchmark Free Energy Perturbation (FEP) procedures. We'll use structures from this dataset for this showcase:\n",
    "\n",
    "<https://github.com/MCompChem/fep-benchmark>\n",
    "\n",
    "This example is pre-packaged with one protein-ligand complex from the above repository, however you should be able to download other complexes and run them as well using this workflow. PT2385, our ligand of choice, is an antagonist of the HIF2α protein, a transcription factor that is stabilized in many kidney cancers.\n",
    "\n",
    "The ligand and protein structures are already prepared for simulation:\n",
    "\n",
    "- Their co-ordinates are super-imposable\n",
    "- Hydrogens have been added to protein and crystallographic waters\n",
    "- The protein's termini are capped with N-methyl and acetyl groups to prevent unphysical charges\n",
    "- Atoms missing from the crystal structure have been replaced\n",
    "\n",
    "<br />\n",
    "<details>\n",
    "<summary><small>▼ Click here for the shell commands we used to download the protein-ligand complex</small></summary>\n",
    "    \n",
    "```shell\n",
    "# Clone the repository\n",
    "git clone https://github.com/MCompChem/fep-benchmark.git\n",
    "# Take the last ligand from the hif2a benchmark\n",
    "tail -n90 fep-benchmark/hif2a/ligands.sdf > PT2385.sdf\n",
    "# Take the prepared protein structure\n",
    "cp fep-benchmark/hif2a/5tbm_prepared.pdb .\n",
    "```  \n",
    "\n",
    "</details>\n",
    "\n",
    "[provides data]: https://github.com/MCompChem/fep-benchmark\n",
    "[PT2385]: https://doi.org/10.1158/0008-5472.CAN-16-0473"
   ]
  },
  {
   "cell_type": "code",
   "execution_count": 2,
   "metadata": {
    "slideshow": {
     "slide_type": "-"
    },
    "tags": []
   },
   "outputs": [],
   "source": [
    "receptor_path = \"5tbm_prepared.pdb\"\n",
    "ligand_path = \"PT2385.sdf\""
   ]
  },
  {
   "cell_type": "markdown",
   "metadata": {},
   "source": [
    "We can visualize each structure using the [NGLview] widget. These visualizations are interactive; rotate by dragging the left mouse button, pan with the right mouse button, and zoom with the scroll wheel. You can also mouse over an atom to see its details, and click an atom to center the view on it. When you mouse over the widget, a full screen button will appear in its top right corner.\n",
    "\n",
    "[NGLview]: https://github.com/nglviewer/nglview"
   ]
  },
  {
   "cell_type": "code",
   "execution_count": 3,
   "metadata": {
    "tags": []
   },
   "outputs": [
    {
     "data": {
      "application/vnd.jupyter.widget-view+json": {
       "model_id": "a92be2ba4bd446f3a7f5c09adc4c577b",
       "version_major": 2,
       "version_minor": 0
      },
      "text/plain": [
       "NGLWidget()"
      ]
     },
     "metadata": {},
     "output_type": "display_data"
    }
   ],
   "source": [
    "view = nglview.show_structure_file(ligand_path)\n",
    "view"
   ]
  },
  {
   "cell_type": "markdown",
   "metadata": {},
   "source": [
    "<div class=\"alert alert-info\" style=\"max-width: 700px; margin-left: auto; margin-right: auto;\">\n",
    "    ℹ️ Try replacing <code>ligand_path</code> with <code>receptor_path</code> to visualize the protein!\n",
    "</div>\n"
   ]
  },
  {
   "cell_type": "markdown",
   "metadata": {},
   "source": [
    "# The plan:\n",
    "\n",
    "| Action | Software|\n",
    "|--|--|\n",
    "| Assemble and solvate the topology | PDBFixer, and OpenFF Toolkit\n",
    "| Visualize the complex | OpenFF Toolkit and NGLview\n",
    "| Parametrize the complex | OpenFF Toolkit and Interchange\n",
    "| Simulate the complex | OpenMM\n",
    "| Visualize the simulation | NGLview and MDTraj\n"
   ]
  },
  {
   "cell_type": "markdown",
   "metadata": {},
   "source": [
    "## Assemble and solvate the topology (PDBFixer, and the toolkit)\n",
    "\n",
    "Conceptually, this step involves putting together the positions of all of the components of the system. We'll create  a [`Topology`] to keep track of the contents of our system. A `Topology` represents a collection of molecules; it doesn't have any association with any force field parameters.\n",
    "\n",
    "[`Topology`]: https://docs.openforcefield.org/projects/toolkit/en/stable/api/generated/openff.toolkit.topology.Topology.html"
   ]
  },
  {
   "cell_type": "markdown",
   "metadata": {},
   "source": [
    "First, we'll load the ligand and receptor into OpenFF Toolkit [`Molecule`] objects, which keep track of all their chemical information. A `Molecule` represents a collection of atoms with specified formal charges, connected by bonds with specified bond orders, optionally including any number of conformer coordinates. This is intended to closely align with a chemist's intuitive understanding of a molecule, rather than simply wrap the minimal information needed for a calculation.\n",
    "\n",
    "SDF files include all a molecule's bond orders and formal charges, as well as coordinates, so they're ideal as a format for distributing small molecules. And that's exactly the format the ligand is stored in!\n",
    "\n",
    "[`Molecule`]: https://docs.openforcefield.org/projects/toolkit/en/stable/api/generated/openff.toolkit.topology.Molecule.html"
   ]
  },
  {
   "cell_type": "code",
   "execution_count": 4,
   "metadata": {},
   "outputs": [
    {
     "name": "stdout",
     "output_type": "stream",
     "text": [
      "CS(=O)(=O)c1ccc(c2c1[C@@H](C(C2)(F)F)O)Oc3cc(cc(c3)F)C#N\n"
     ]
    },
    {
     "data": {
      "image/svg+xml": [
       "<svg xmlns=\"http://www.w3.org/2000/svg\" xmlns:rdkit=\"http://www.rdkit.org/xml\" xmlns:xlink=\"http://www.w3.org/1999/xlink\" version=\"1.1\" baseProfile=\"full\" xml:space=\"preserve\" width=\"500px\" height=\"300px\" viewBox=\"0 0 500 300\">\n",
       "<!-- END OF HEADER -->\n",
       "<rect style=\"opacity:1.0;fill:#FFFFFF;stroke:none\" width=\"500.0\" height=\"300.0\" x=\"0.0\" y=\"0.0\"> </rect>\n",
       "<path class=\"bond-0 atom-1 atom-0\" d=\"M 332.0,89.3 L 341.1,76.4 L 343.9,79.0 Z\" style=\"fill:#000000;fill-rule:evenodd;fill-opacity:1;stroke:#000000;stroke-width:0.5px;stroke-linecap:butt;stroke-linejoin:miter;stroke-opacity:1;\"/>\n",
       "<path class=\"bond-0 atom-1 atom-0\" d=\"M 341.1,76.4 L 355.8,68.7 L 350.1,63.6 Z\" style=\"fill:#FF0000;fill-rule:evenodd;fill-opacity:1;stroke:#FF0000;stroke-width:0.5px;stroke-linecap:butt;stroke-linejoin:miter;stroke-opacity:1;\"/>\n",
       "<path class=\"bond-0 atom-1 atom-0\" d=\"M 341.1,76.4 L 343.9,79.0 L 355.8,68.7 Z\" style=\"fill:#FF0000;fill-rule:evenodd;fill-opacity:1;stroke:#FF0000;stroke-width:0.5px;stroke-linecap:butt;stroke-linejoin:miter;stroke-opacity:1;\"/>\n",
       "<path class=\"bond-1 atom-1 atom-2\" d=\"M 332.0,89.3 L 281.3,83.9\" style=\"fill:none;fill-rule:evenodd;stroke:#000000;stroke-width:2.0px;stroke-linecap:butt;stroke-linejoin:miter;stroke-opacity:1\"/>\n",
       "<path class=\"bond-2 atom-1 atom-5\" d=\"M 332.0,89.3 L 342.5,139.2\" style=\"fill:none;fill-rule:evenodd;stroke:#000000;stroke-width:2.0px;stroke-linecap:butt;stroke-linejoin:miter;stroke-opacity:1\"/>\n",
       "<path class=\"bond-3 atom-2 atom-3\" d=\"M 281.3,83.9 L 260.5,130.4\" style=\"fill:none;fill-rule:evenodd;stroke:#000000;stroke-width:2.0px;stroke-linecap:butt;stroke-linejoin:miter;stroke-opacity:1\"/>\n",
       "<path class=\"bond-4 atom-2 atom-23\" d=\"M 281.3,83.9 L 261.1,77.3\" style=\"fill:none;fill-rule:evenodd;stroke:#000000;stroke-width:2.0px;stroke-linecap:butt;stroke-linejoin:miter;stroke-opacity:1\"/>\n",
       "<path class=\"bond-4 atom-2 atom-23\" d=\"M 261.1,77.3 L 241.0,70.7\" style=\"fill:none;fill-rule:evenodd;stroke:#33CCCC;stroke-width:2.0px;stroke-linecap:butt;stroke-linejoin:miter;stroke-opacity:1\"/>\n",
       "<path class=\"bond-5 atom-2 atom-24\" d=\"M 281.3,83.9 L 285.3,65.2\" style=\"fill:none;fill-rule:evenodd;stroke:#000000;stroke-width:2.0px;stroke-linecap:butt;stroke-linejoin:miter;stroke-opacity:1\"/>\n",
       "<path class=\"bond-5 atom-2 atom-24\" d=\"M 285.3,65.2 L 289.3,46.5\" style=\"fill:none;fill-rule:evenodd;stroke:#33CCCC;stroke-width:2.0px;stroke-linecap:butt;stroke-linejoin:miter;stroke-opacity:1\"/>\n",
       "<path class=\"bond-6 atom-3 atom-4\" d=\"M 260.5,130.4 L 298.3,164.6\" style=\"fill:none;fill-rule:evenodd;stroke:#000000;stroke-width:2.0px;stroke-linecap:butt;stroke-linejoin:miter;stroke-opacity:1\"/>\n",
       "<path class=\"bond-7 atom-4 atom-5\" d=\"M 298.3,164.6 L 342.5,139.2\" style=\"fill:none;fill-rule:evenodd;stroke:#000000;stroke-width:2.0px;stroke-linecap:butt;stroke-linejoin:miter;stroke-opacity:1\"/>\n",
       "<path class=\"bond-7 atom-4 atom-5\" d=\"M 305.9,169.0 L 342.5,148.0\" style=\"fill:none;fill-rule:evenodd;stroke:#000000;stroke-width:2.0px;stroke-linecap:butt;stroke-linejoin:miter;stroke-opacity:1\"/>\n",
       "<path class=\"bond-8 atom-4 atom-9\" d=\"M 298.3,164.6 L 298.2,215.5\" style=\"fill:none;fill-rule:evenodd;stroke:#000000;stroke-width:2.0px;stroke-linecap:butt;stroke-linejoin:miter;stroke-opacity:1\"/>\n",
       "<path class=\"bond-9 atom-5 atom-6\" d=\"M 342.5,139.2 L 386.6,164.7\" style=\"fill:none;fill-rule:evenodd;stroke:#000000;stroke-width:2.0px;stroke-linecap:butt;stroke-linejoin:miter;stroke-opacity:1\"/>\n",
       "<path class=\"bond-10 atom-6 atom-7\" d=\"M 386.6,164.7 L 386.5,215.7\" style=\"fill:none;fill-rule:evenodd;stroke:#000000;stroke-width:2.0px;stroke-linecap:butt;stroke-linejoin:miter;stroke-opacity:1\"/>\n",
       "<path class=\"bond-10 atom-6 atom-7\" d=\"M 378.9,169.1 L 378.9,211.3\" style=\"fill:none;fill-rule:evenodd;stroke:#000000;stroke-width:2.0px;stroke-linecap:butt;stroke-linejoin:miter;stroke-opacity:1\"/>\n",
       "<path class=\"bond-11 atom-6 atom-19\" d=\"M 386.6,164.7 L 404.4,154.5\" style=\"fill:none;fill-rule:evenodd;stroke:#000000;stroke-width:2.0px;stroke-linecap:butt;stroke-linejoin:miter;stroke-opacity:1\"/>\n",
       "<path class=\"bond-11 atom-6 atom-19\" d=\"M 404.4,154.5 L 422.2,144.3\" style=\"fill:none;fill-rule:evenodd;stroke:#CCCC00;stroke-width:2.0px;stroke-linecap:butt;stroke-linejoin:miter;stroke-opacity:1\"/>\n",
       "<path class=\"bond-12 atom-7 atom-8\" d=\"M 386.5,215.7 L 342.3,241.1\" style=\"fill:none;fill-rule:evenodd;stroke:#000000;stroke-width:2.0px;stroke-linecap:butt;stroke-linejoin:miter;stroke-opacity:1\"/>\n",
       "<path class=\"bond-13 atom-8 atom-9\" d=\"M 342.3,241.1 L 298.2,215.5\" style=\"fill:none;fill-rule:evenodd;stroke:#000000;stroke-width:2.0px;stroke-linecap:butt;stroke-linejoin:miter;stroke-opacity:1\"/>\n",
       "<path class=\"bond-13 atom-8 atom-9\" d=\"M 342.3,232.3 L 305.9,211.1\" style=\"fill:none;fill-rule:evenodd;stroke:#000000;stroke-width:2.0px;stroke-linecap:butt;stroke-linejoin:miter;stroke-opacity:1\"/>\n",
       "<path class=\"bond-14 atom-9 atom-10\" d=\"M 298.2,215.5 L 281.9,224.9\" style=\"fill:none;fill-rule:evenodd;stroke:#000000;stroke-width:2.0px;stroke-linecap:butt;stroke-linejoin:miter;stroke-opacity:1\"/>\n",
       "<path class=\"bond-14 atom-9 atom-10\" d=\"M 281.9,224.9 L 265.6,234.3\" style=\"fill:none;fill-rule:evenodd;stroke:#FF0000;stroke-width:2.0px;stroke-linecap:butt;stroke-linejoin:miter;stroke-opacity:1\"/>\n",
       "<path class=\"bond-15 atom-10 atom-11\" d=\"M 242.4,234.2 L 226.1,224.8\" style=\"fill:none;fill-rule:evenodd;stroke:#FF0000;stroke-width:2.0px;stroke-linecap:butt;stroke-linejoin:miter;stroke-opacity:1\"/>\n",
       "<path class=\"bond-15 atom-10 atom-11\" d=\"M 226.1,224.8 L 209.9,215.4\" style=\"fill:none;fill-rule:evenodd;stroke:#000000;stroke-width:2.0px;stroke-linecap:butt;stroke-linejoin:miter;stroke-opacity:1\"/>\n",
       "<path class=\"bond-16 atom-11 atom-12\" d=\"M 209.9,215.4 L 210.0,164.4\" style=\"fill:none;fill-rule:evenodd;stroke:#000000;stroke-width:2.0px;stroke-linecap:butt;stroke-linejoin:miter;stroke-opacity:1\"/>\n",
       "<path class=\"bond-16 atom-11 atom-12\" d=\"M 202.3,210.9 L 202.3,168.8\" style=\"fill:none;fill-rule:evenodd;stroke:#000000;stroke-width:2.0px;stroke-linecap:butt;stroke-linejoin:miter;stroke-opacity:1\"/>\n",
       "<path class=\"bond-17 atom-11 atom-18\" d=\"M 209.9,215.4 L 165.7,240.8\" style=\"fill:none;fill-rule:evenodd;stroke:#000000;stroke-width:2.0px;stroke-linecap:butt;stroke-linejoin:miter;stroke-opacity:1\"/>\n",
       "<path class=\"bond-18 atom-12 atom-13\" d=\"M 210.0,164.4 L 165.9,138.8\" style=\"fill:none;fill-rule:evenodd;stroke:#000000;stroke-width:2.0px;stroke-linecap:butt;stroke-linejoin:miter;stroke-opacity:1\"/>\n",
       "<path class=\"bond-19 atom-13 atom-14\" d=\"M 165.9,138.8 L 165.9,119.6\" style=\"fill:none;fill-rule:evenodd;stroke:#000000;stroke-width:2.0px;stroke-linecap:butt;stroke-linejoin:miter;stroke-opacity:1\"/>\n",
       "<path class=\"bond-19 atom-13 atom-14\" d=\"M 165.9,119.6 L 166.0,100.3\" style=\"fill:none;fill-rule:evenodd;stroke:#33CCCC;stroke-width:2.0px;stroke-linecap:butt;stroke-linejoin:miter;stroke-opacity:1\"/>\n",
       "<path class=\"bond-20 atom-13 atom-15\" d=\"M 165.9,138.8 L 121.7,164.2\" style=\"fill:none;fill-rule:evenodd;stroke:#000000;stroke-width:2.0px;stroke-linecap:butt;stroke-linejoin:miter;stroke-opacity:1\"/>\n",
       "<path class=\"bond-20 atom-13 atom-15\" d=\"M 165.9,147.6 L 129.3,168.7\" style=\"fill:none;fill-rule:evenodd;stroke:#000000;stroke-width:2.0px;stroke-linecap:butt;stroke-linejoin:miter;stroke-opacity:1\"/>\n",
       "<path class=\"bond-21 atom-15 atom-16\" d=\"M 121.7,164.2 L 121.6,215.2\" style=\"fill:none;fill-rule:evenodd;stroke:#000000;stroke-width:2.0px;stroke-linecap:butt;stroke-linejoin:miter;stroke-opacity:1\"/>\n",
       "<path class=\"bond-22 atom-16 atom-17\" d=\"M 121.6,215.2 L 77.4,240.6\" style=\"fill:none;fill-rule:evenodd;stroke:#000000;stroke-width:2.0px;stroke-linecap:butt;stroke-linejoin:miter;stroke-opacity:1\"/>\n",
       "<path class=\"bond-23 atom-16 atom-18\" d=\"M 121.6,215.2 L 165.7,240.8\" style=\"fill:none;fill-rule:evenodd;stroke:#000000;stroke-width:2.0px;stroke-linecap:butt;stroke-linejoin:miter;stroke-opacity:1\"/>\n",
       "<path class=\"bond-23 atom-16 atom-18\" d=\"M 129.3,210.8 L 165.7,231.9\" style=\"fill:none;fill-rule:evenodd;stroke:#000000;stroke-width:2.0px;stroke-linecap:butt;stroke-linejoin:miter;stroke-opacity:1\"/>\n",
       "<path class=\"bond-24 atom-17 atom-25\" d=\"M 77.4,240.6 L 60.3,250.5\" style=\"fill:none;fill-rule:evenodd;stroke:#000000;stroke-width:2.0px;stroke-linecap:butt;stroke-linejoin:miter;stroke-opacity:1\"/>\n",
       "<path class=\"bond-24 atom-17 atom-25\" d=\"M 60.3,250.5 L 43.1,260.3\" style=\"fill:none;fill-rule:evenodd;stroke:#0000FF;stroke-width:2.0px;stroke-linecap:butt;stroke-linejoin:miter;stroke-opacity:1\"/>\n",
       "<path class=\"bond-24 atom-17 atom-25\" d=\"M 81.2,247.2 L 64.1,257.1\" style=\"fill:none;fill-rule:evenodd;stroke:#000000;stroke-width:2.0px;stroke-linecap:butt;stroke-linejoin:miter;stroke-opacity:1\"/>\n",
       "<path class=\"bond-24 atom-17 atom-25\" d=\"M 64.1,257.1 L 46.9,266.9\" style=\"fill:none;fill-rule:evenodd;stroke:#0000FF;stroke-width:2.0px;stroke-linecap:butt;stroke-linejoin:miter;stroke-opacity:1\"/>\n",
       "<path class=\"bond-24 atom-17 atom-25\" d=\"M 73.6,234.0 L 56.4,243.8\" style=\"fill:none;fill-rule:evenodd;stroke:#000000;stroke-width:2.0px;stroke-linecap:butt;stroke-linejoin:miter;stroke-opacity:1\"/>\n",
       "<path class=\"bond-24 atom-17 atom-25\" d=\"M 56.4,243.8 L 39.3,253.7\" style=\"fill:none;fill-rule:evenodd;stroke:#0000FF;stroke-width:2.0px;stroke-linecap:butt;stroke-linejoin:miter;stroke-opacity:1\"/>\n",
       "<path class=\"bond-25 atom-19 atom-20\" d=\"M 426.9,125.0 L 421.6,115.6\" style=\"fill:none;fill-rule:evenodd;stroke:#CCCC00;stroke-width:2.0px;stroke-linecap:butt;stroke-linejoin:miter;stroke-opacity:1\"/>\n",
       "<path class=\"bond-25 atom-19 atom-20\" d=\"M 421.6,115.6 L 416.2,106.2\" style=\"fill:none;fill-rule:evenodd;stroke:#FF0000;stroke-width:2.0px;stroke-linecap:butt;stroke-linejoin:miter;stroke-opacity:1\"/>\n",
       "<path class=\"bond-25 atom-19 atom-20\" d=\"M 420.3,128.8 L 414.9,119.4\" style=\"fill:none;fill-rule:evenodd;stroke:#CCCC00;stroke-width:2.0px;stroke-linecap:butt;stroke-linejoin:miter;stroke-opacity:1\"/>\n",
       "<path class=\"bond-25 atom-19 atom-20\" d=\"M 414.9,119.4 L 409.5,110.0\" style=\"fill:none;fill-rule:evenodd;stroke:#FF0000;stroke-width:2.0px;stroke-linecap:butt;stroke-linejoin:miter;stroke-opacity:1\"/>\n",
       "<path class=\"bond-26 atom-19 atom-21\" d=\"M 435.0,154.3 L 440.3,163.6\" style=\"fill:none;fill-rule:evenodd;stroke:#CCCC00;stroke-width:2.0px;stroke-linecap:butt;stroke-linejoin:miter;stroke-opacity:1\"/>\n",
       "<path class=\"bond-26 atom-19 atom-21\" d=\"M 440.3,163.6 L 445.6,172.8\" style=\"fill:none;fill-rule:evenodd;stroke:#FF0000;stroke-width:2.0px;stroke-linecap:butt;stroke-linejoin:miter;stroke-opacity:1\"/>\n",
       "<path class=\"bond-26 atom-19 atom-21\" d=\"M 441.6,150.5 L 446.9,159.8\" style=\"fill:none;fill-rule:evenodd;stroke:#CCCC00;stroke-width:2.0px;stroke-linecap:butt;stroke-linejoin:miter;stroke-opacity:1\"/>\n",
       "<path class=\"bond-26 atom-19 atom-21\" d=\"M 446.9,159.8 L 452.3,169.0\" style=\"fill:none;fill-rule:evenodd;stroke:#FF0000;stroke-width:2.0px;stroke-linecap:butt;stroke-linejoin:miter;stroke-opacity:1\"/>\n",
       "<path class=\"bond-27 atom-19 atom-22\" d=\"M 439.4,134.4 L 457.2,124.2\" style=\"fill:none;fill-rule:evenodd;stroke:#CCCC00;stroke-width:2.0px;stroke-linecap:butt;stroke-linejoin:miter;stroke-opacity:1\"/>\n",
       "<path class=\"bond-27 atom-19 atom-22\" d=\"M 457.2,124.2 L 475.0,113.9\" style=\"fill:none;fill-rule:evenodd;stroke:#000000;stroke-width:2.0px;stroke-linecap:butt;stroke-linejoin:miter;stroke-opacity:1\"/>\n",
       "<path d=\"M 329.5,89.0 L 332.0,89.3 L 332.5,91.8\" style=\"fill:none;stroke:#000000;stroke-width:2.0px;stroke-linecap:butt;stroke-linejoin:miter;stroke-opacity:1;\"/>\n",
       "<path d=\"M 261.5,128.1 L 260.5,130.4 L 262.4,132.1\" style=\"fill:none;stroke:#000000;stroke-width:2.0px;stroke-linecap:butt;stroke-linejoin:miter;stroke-opacity:1;\"/>\n",
       "<path d=\"M 386.5,213.2 L 386.5,215.7 L 384.3,217.0\" style=\"fill:none;stroke:#000000;stroke-width:2.0px;stroke-linecap:butt;stroke-linejoin:miter;stroke-opacity:1;\"/>\n",
       "<path d=\"M 344.5,239.9 L 342.3,241.1 L 340.1,239.8\" style=\"fill:none;stroke:#000000;stroke-width:2.0px;stroke-linecap:butt;stroke-linejoin:miter;stroke-opacity:1;\"/>\n",
       "<path d=\"M 210.0,166.9 L 210.0,164.4 L 207.8,163.1\" style=\"fill:none;stroke:#000000;stroke-width:2.0px;stroke-linecap:butt;stroke-linejoin:miter;stroke-opacity:1;\"/>\n",
       "<path d=\"M 123.9,163.0 L 121.7,164.2 L 121.7,166.8\" style=\"fill:none;stroke:#000000;stroke-width:2.0px;stroke-linecap:butt;stroke-linejoin:miter;stroke-opacity:1;\"/>\n",
       "<path d=\"M 79.6,239.3 L 77.4,240.6 L 76.6,241.1\" style=\"fill:none;stroke:#000000;stroke-width:2.0px;stroke-linecap:butt;stroke-linejoin:miter;stroke-opacity:1;\"/>\n",
       "<path d=\"M 167.9,239.5 L 165.7,240.8 L 163.5,239.5\" style=\"fill:none;stroke:#000000;stroke-width:2.0px;stroke-linecap:butt;stroke-linejoin:miter;stroke-opacity:1;\"/>\n",
       "<path class=\"atom-0\" d=\"M 356.3 51.5 Q 356.3 46.3, 358.8 43.4 Q 361.4 40.5, 366.2 40.5 Q 371.0 40.5, 373.6 43.4 Q 376.1 46.3, 376.1 51.5 Q 376.1 56.8, 373.5 59.8 Q 370.9 62.8, 366.2 62.8 Q 361.4 62.8, 358.8 59.8 Q 356.3 56.8, 356.3 51.5 M 366.2 60.3 Q 369.5 60.3, 371.3 58.1 Q 373.1 55.9, 373.1 51.5 Q 373.1 47.3, 371.3 45.1 Q 369.5 43.0, 366.2 43.0 Q 362.9 43.0, 361.1 45.1 Q 359.3 47.2, 359.3 51.5 Q 359.3 55.9, 361.1 58.1 Q 362.9 60.3, 366.2 60.3 \" fill=\"#FF0000\"/>\n",
       "<path class=\"atom-0\" d=\"M 379.5 40.8 L 382.4 40.8 L 382.4 50.0 L 393.5 50.0 L 393.5 40.8 L 396.4 40.8 L 396.4 62.4 L 393.5 62.4 L 393.5 52.4 L 382.4 52.4 L 382.4 62.4 L 379.5 62.4 L 379.5 40.8 \" fill=\"#FF0000\"/>\n",
       "<path class=\"atom-10\" d=\"M 244.1 241.0 Q 244.1 235.8, 246.6 232.9 Q 249.2 230.0, 254.0 230.0 Q 258.8 230.0, 261.4 232.9 Q 263.9 235.8, 263.9 241.0 Q 263.9 246.3, 261.3 249.3 Q 258.7 252.2, 254.0 252.2 Q 249.2 252.2, 246.6 249.3 Q 244.1 246.3, 244.1 241.0 M 254.0 249.8 Q 257.3 249.8, 259.1 247.6 Q 260.9 245.3, 260.9 241.0 Q 260.9 236.8, 259.1 234.6 Q 257.3 232.4, 254.0 232.4 Q 250.7 232.4, 248.9 234.6 Q 247.1 236.7, 247.1 241.0 Q 247.1 245.4, 248.9 247.6 Q 250.7 249.8, 254.0 249.8 \" fill=\"#FF0000\"/>\n",
       "<path class=\"atom-14\" d=\"M 159.6 77.0 L 172.4 77.0 L 172.4 79.5 L 162.5 79.5 L 162.5 86.1 L 171.3 86.1 L 171.3 88.6 L 162.5 88.6 L 162.5 98.7 L 159.6 98.7 L 159.6 77.0 \" fill=\"#33CCCC\"/>\n",
       "<path class=\"atom-19\" d=\"M 424.7 146.8 Q 424.9 146.9, 425.9 147.3 Q 426.9 147.7, 428.0 148.0 Q 429.2 148.2, 430.3 148.2 Q 432.3 148.2, 433.5 147.3 Q 434.7 146.3, 434.7 144.5 Q 434.7 143.3, 434.1 142.6 Q 433.5 141.9, 432.6 141.5 Q 431.7 141.1, 430.2 140.6 Q 428.2 140.0, 427.1 139.5 Q 425.9 138.9, 425.1 137.8 Q 424.3 136.6, 424.3 134.6 Q 424.3 131.9, 426.2 130.2 Q 428.0 128.5, 431.7 128.5 Q 434.2 128.5, 437.0 129.7 L 436.3 132.1 Q 433.7 131.0, 431.8 131.0 Q 429.7 131.0, 428.5 131.9 Q 427.3 132.8, 427.4 134.3 Q 427.4 135.4, 428.0 136.1 Q 428.6 136.8, 429.4 137.2 Q 430.3 137.6, 431.8 138.1 Q 433.7 138.7, 434.9 139.3 Q 436.1 139.9, 436.9 141.2 Q 437.7 142.4, 437.7 144.5 Q 437.7 147.5, 435.7 149.1 Q 433.7 150.7, 430.4 150.7 Q 428.5 150.7, 427.0 150.3 Q 425.6 149.9, 423.9 149.2 L 424.7 146.8 \" fill=\"#CCCC00\"/>\n",
       "<path class=\"atom-20\" d=\"M 395.5 95.2 Q 395.5 90.0, 398.0 87.1 Q 400.6 84.2, 405.4 84.2 Q 410.2 84.2, 412.8 87.1 Q 415.3 90.0, 415.3 95.2 Q 415.3 100.5, 412.7 103.5 Q 410.1 106.4, 405.4 106.4 Q 400.6 106.4, 398.0 103.5 Q 395.5 100.5, 395.5 95.2 M 405.4 104.0 Q 408.7 104.0, 410.5 101.8 Q 412.3 99.6, 412.3 95.2 Q 412.3 91.0, 410.5 88.8 Q 408.7 86.6, 405.4 86.6 Q 402.1 86.6, 400.3 88.8 Q 398.5 90.9, 398.5 95.2 Q 398.5 99.6, 400.3 101.8 Q 402.1 104.0, 405.4 104.0 \" fill=\"#FF0000\"/>\n",
       "<path class=\"atom-21\" d=\"M 446.3 183.6 Q 446.3 178.4, 448.8 175.5 Q 451.4 172.6, 456.2 172.6 Q 461.0 172.6, 463.6 175.5 Q 466.1 178.4, 466.1 183.6 Q 466.1 188.9, 463.5 191.9 Q 460.9 194.8, 456.2 194.8 Q 451.4 194.8, 448.8 191.9 Q 446.3 188.9, 446.3 183.6 M 456.2 192.4 Q 459.5 192.4, 461.3 190.2 Q 463.1 187.9, 463.1 183.6 Q 463.1 179.4, 461.3 177.2 Q 459.5 175.0, 456.2 175.0 Q 452.9 175.0, 451.1 177.2 Q 449.3 179.3, 449.3 183.6 Q 449.3 188.0, 451.1 190.2 Q 452.9 192.4, 456.2 192.4 \" fill=\"#FF0000\"/>\n",
       "<path class=\"atom-23\" d=\"M 226.4 57.2 L 239.3 57.2 L 239.3 59.7 L 229.3 59.7 L 229.3 66.2 L 238.2 66.2 L 238.2 68.7 L 229.3 68.7 L 229.3 78.8 L 226.4 78.8 L 226.4 57.2 \" fill=\"#33CCCC\"/>\n",
       "<path class=\"atom-24\" d=\"M 285.6 23.2 L 298.5 23.2 L 298.5 25.7 L 288.5 25.7 L 288.5 32.2 L 297.4 32.2 L 297.4 34.7 L 288.5 34.7 L 288.5 44.8 L 285.6 44.8 L 285.6 23.2 \" fill=\"#33CCCC\"/>\n",
       "<path class=\"atom-25\" d=\"M 28.4 255.2 L 35.5 266.6 Q 36.2 267.8, 37.4 269.8 Q 38.5 271.9, 38.6 272.0 L 38.6 255.2 L 41.4 255.2 L 41.4 276.8 L 38.5 276.8 L 30.8 264.3 Q 30.0 262.8, 29.0 261.1 Q 28.1 259.5, 27.8 258.9 L 27.8 276.8 L 25.0 276.8 L 25.0 255.2 L 28.4 255.2 \" fill=\"#0000FF\"/>\n",
       "</svg>"
      ],
      "text/plain": [
       "<IPython.core.display.SVG object>"
      ]
     },
     "execution_count": 4,
     "metadata": {},
     "output_type": "execute_result"
    }
   ],
   "source": [
    "# Load a molecule from a SDF file\n",
    "ligand = Molecule.from_file(ligand_path)\n",
    "\n",
    "# Print out a SMILES code for the ligand\n",
    "print(ligand.to_smiles(explicit_hydrogens=False))\n",
    "\n",
    "# Visualize the molecule\n",
    "ligand.visualize(show_all_hydrogens=False)"
   ]
  },
  {
   "cell_type": "markdown",
   "metadata": {},
   "source": [
    "An SDF file with an entire protein would be huge, and finding or constructing one in the first place would be tricky, so for polymers the Toolkit supports inferring chemical information from PDB files. Connectivity can be taken from residue and atom names for supported molecules, and we can supply a list of arbitrary molecules that are in the PDB which are then identified via CONECT records."
   ]
  },
  {
   "cell_type": "markdown",
   "metadata": {},
   "source": [
    "First we'll solvate our system. [PDBFixer] makes it easy to add water and salt to our original receptor PDB, which already includes crystallographic waters. PDBFixer can also manage a number of other common processes, like restoring missing hydrogens or other atoms and even adding a membrane. We can then save it to disk and load the resulting PDB into a topology!\n",
    "\n",
    "[PDBFixer]: https://htmlpreview.github.io/?https://github.com/openmm/pdbfixer/blob/master/Manual.html"
   ]
  },
  {
   "cell_type": "code",
   "execution_count": 5,
   "metadata": {},
   "outputs": [],
   "source": [
    "fixer = PDBFixer(receptor_path)\n",
    "fixer.addSolvent(padding=1.0 * openmm_unit.nanometer, ionicStrength=0.15 * openmm_unit.molar)\n",
    "\n",
    "with open(\"receptor_solvated.pdb\", \"w\") as f:\n",
    "    openmm.app.PDBFile.writeFile(fixer.topology, fixer.positions, f)\n",
    "\n",
    "top = Topology.from_pdb(\"receptor_solvated.pdb\")"
   ]
  },
  {
   "cell_type": "markdown",
   "metadata": {},
   "source": [
    "We can finish up by adding the ligand `Molecule` to the topology, and removing any waters that clash with it. We can define a nice function for this."
   ]
  },
  {
   "cell_type": "code",
   "execution_count": 6,
   "metadata": {},
   "outputs": [],
   "source": [
    "def insert_molecule_and_remove_clashes(\n",
    "    topology: Topology,\n",
    "    insert: Molecule,\n",
    "    radius: Quantity = 1.5 * unit.angstrom,\n",
    "    keep: list[Molecule] = [],\n",
    ") -> Topology:\n",
    "    \"\"\"\n",
    "    Add a molecule to a copy of the topology, removing any clashing molecules.\n",
    "\n",
    "    The molecule will be added to the end of the topology. A new topology is\n",
    "    returned; the input topology will not be altered. All molecules that\n",
    "    clash will be removed, and each removed molecule will be printed to stdout.\n",
    "    Users are responsible for ensuring that no important molecules have been\n",
    "    removed; the clash radius may be modified accordingly.\n",
    "\n",
    "    Parameters\n",
    "    ==========\n",
    "    top\n",
    "        The topology to insert a molecule into\n",
    "    insert\n",
    "        The molecule to insert\n",
    "    radius\n",
    "        Any atom within this distance of any atom in the insert is considered\n",
    "        clashing.\n",
    "    keep\n",
    "        Keep copies of these molecules, even if they're clashing\n",
    "    \"\"\"\n",
    "    # We'll collect the molecules for the output topology into a list\n",
    "    new_top_mols = []\n",
    "    # A molecule's positions in a topology are stored as its zeroth conformer\n",
    "    insert_coordinates = insert.conformers[0][:, None, :]\n",
    "    for molecule in topology.molecules:\n",
    "        if any(keep_mol.is_isomorphic_with(molecule) for keep_mol in keep):\n",
    "            new_top_mols.append(molecule)\n",
    "            continue\n",
    "        molecule_coordinates = molecule.conformers[0][None, :, :]\n",
    "        diff_matrix = molecule_coordinates - insert_coordinates\n",
    "\n",
    "        # np.linalg.norm doesn't work on Pint quantities 😢\n",
    "        working_unit = unit.nanometer\n",
    "        distance_matrix = np.linalg.norm(diff_matrix.m_as(working_unit), axis=-1) * working_unit\n",
    "\n",
    "        if distance_matrix.min() > radius:\n",
    "            # This molecule is not clashing, so add it to the topology\n",
    "            new_top_mols.append(molecule)\n",
    "        else:\n",
    "            print(f\"Removed {molecule.to_smiles()} molecule\")\n",
    "\n",
    "    # Insert the ligand at the end\n",
    "    new_top_mols.append(ligand)\n",
    "\n",
    "    # This pattern of assembling a topology from a list of molecules\n",
    "    # ends up being much more efficient than adding each molecule\n",
    "    # to a new topology one at a time\n",
    "    new_top = Topology.from_molecules(new_top_mols)\n",
    "\n",
    "    # Don't forget the box vectors!\n",
    "    new_top.box_vectors = topology.box_vectors\n",
    "    return new_top\n",
    "\n",
    "\n",
    "top = insert_molecule_and_remove_clashes(top, ligand)"
   ]
  },
  {
   "cell_type": "markdown",
   "metadata": {},
   "source": [
    "Now that we've assembled our topology, we can save it to disk. We can use JSON for this, which makes it human readable in a pinch. This stores everything we've just assembled - molecular identities, conformers, box vectors, and everything else. The topology can then be loaded later on with the [`Topology.from_json()`] method. This is great for running the same system through different force fields, moving files from workstations to HPC, distribution with a paper, or for assembling systems in stages.\n",
    "\n",
    "[`Topology.from_json()`]: https://docs.openforcefield.org/projects/toolkit/en/stable/api/generated/openff.toolkit.topology.Topology.html#openff.toolkit.topology.Topology.from_json"
   ]
  },
  {
   "cell_type": "code",
   "execution_count": 7,
   "metadata": {},
   "outputs": [],
   "source": [
    "with open(\"topology.json\", \"w\") as f:\n",
    "    print(top.to_json(), file=f)"
   ]
  },
  {
   "cell_type": "markdown",
   "metadata": {
    "tags": []
   },
   "source": [
    "## Visualize the complex (NGLview)\n",
    "\n",
    "To visualize inside the notebook, we'll use `Topology.visualize`, which uses NGLview under the hood. NGLview supports a wide variety of [molecular visualization methods], as well as a VMD-like [atom selection language]. This can be used to visualize complex systems like this one.\n",
    "\n",
    "The widget consists of a minimally documented [Python library frontend] and an extensively documented [JavaScript backend]. You'll need to refer to the documentation for both to do anything sophisticated, as the Python code delegates most of its options and functionality to the JS code.\n",
    "\n",
    "By default, the toolkit attemps to draw some components with special representations:\n",
    "* Waters: [line](https://nglviewer.org/ngl/api/manual/molecular-representations.html#line)\n",
    "* Ions: [spacefill](https://nglviewer.org/ngl/api/manual/molecular-representations.html#spacefill)\n",
    "* Proteins: [cartoon](https://nglviewer.org/ngl/api/manual/molecular-representations.html#cartoon)\n",
    "\n",
    "Everything else (i.e. unrecognized ligands) are drawn with the [licorice](https://nglviewer.org/ngl/api/manual/molecular-representations.html#licorice) representation, which is basically a ball+stick model. A box representing the periodic boundary conditions is also added.\n",
    "\n",
    "[molecular visualization methods]: https://nglviewer.org/ngl/api/manual/molecular-representations.html\n",
    "[atom selection language]: https://nglviewer.org/ngl/api/manual/selection-language.html\n",
    "[Python library frontend]: https://nglviewer.org/nglview/latest/api.html\n",
    "[JavaScript backend]: https://nglviewer.org/ngl/api/manual/index.html"
   ]
  },
  {
   "cell_type": "code",
   "execution_count": 8,
   "metadata": {},
   "outputs": [
    {
     "data": {
      "application/vnd.jupyter.widget-view+json": {
       "model_id": "06181aad44e74986a3eb65ec04485685",
       "version_major": 2,
       "version_minor": 0
      },
      "text/plain": [
       "NGLWidget()"
      ]
     },
     "metadata": {},
     "output_type": "display_data"
    }
   ],
   "source": [
    "view = top.visualize()\n",
    "\n",
    "# can make further modifications to this representation object, or just look at it\n",
    "view"
   ]
  },
  {
   "cell_type": "markdown",
   "metadata": {},
   "source": [
    "<div class=\"alert alert-info\" style=\"max-width: 700px; margin-left: auto; margin-right: auto;\">\n",
    "ℹ️ Have a play with this visualization! Try clearing the default representations with <code>view.clear()</code> and configuring your own cartoon <em>(Hint: <a href=https://nglviewer.org/nglview/latest/api.html#nglview.NGLWidget>Check</a> the <a href=https://nglviewer.org/ngl/api/manual/molecular-representations.html>docs</a>)</em>. See if you can display the ligand in a way you like, without also displaying the protein's terminal caps. When you're happy with what you've made, save the image with <code>view.download_image()</code>\n",
    "</div>"
   ]
  },
  {
   "cell_type": "markdown",
   "metadata": {},
   "source": [
    "## Assemble the force field (OpenFF Toolkit)\n",
    "\n",
    "Now that we've prepared our co-ordinates, we should choose the force field. For now, we don't have any single SMIRNOFF force field that can handle both proteins and small molecules; the Rosemary 3.0.0 force field will support this, but it's not expected until 2023. As an alternative, we'll combine the Sage small molecule force field with the SMIRNOFF port of Amber ff14SB. These force fields parametrize non-bonded parameters in similar ways and with the same functional form, so we don't expect any outrageous artifacts, but they also haven't been carefully tested together.\n",
    "\n",
    "The star of the show here is the Sage 2.0.0 force field. [Sage] is the latest force field produced by the Open Force Field Initiative. Rather than using atom types like traditional biomolecular force fields, Sage assigns parameters to a molecule by [matching actual chemical moieties]. Note that to parametrize a molecule you need more than just the co-ordinates of its atoms; you also need their bonds, bond orders, and formal charges. As a result, `.sdf` files are used in this example; other file types are possible, but they must include this information. Sage is distributed as an `.offxml` file according to the [SMIRNOFF specification]. This file describes all the choices the toolkit has to make to parametrize a molecule. Sage also includes the TIP3P water model, which is appropriate for Amber ff14SB too.\n",
    "\n",
    "When we combine multiple SMIRNOFF force fields into one, we provide them in an order from general to specific. Sage includes parameters that could be applied to a protein, but they're general across all molecules; ff14SB's parameters are specific to proteins. Since the Toolkit always applies the last parameters that match a moiety, this order makes sure the right parameters get assigned.\n",
    "\n",
    "[Sage]: https://openforcefield.org/force-fields/force-fields/#sage\n",
    "[matching actual chemical moieties]: https://www.daylight.com/dayhtml/doc/theory/theory.smarts.html\n",
    "[SMIRNOFF specification]: https://openforcefield.github.io/standards/standards/smirnoff/\n",
    "\n",
    "<div class=\"alert alert-warning\" style=\"max-width: 700px; margin-left: auto; margin-right: auto;\">\n",
    "    🚧 <b> This code is not production-ready</b><br />\n",
    "The Amber ff14SB port is intended as a proof-of-concept for SMIRNOFF protein force fields. It may not precisely match the energetics or forces of the original ff14SB, and it may not be appropriate in combination with Sage. Wait for protein support in the Rosemary force field to use this in production. \n",
    "</div>\n"
   ]
  },
  {
   "cell_type": "code",
   "execution_count": 9,
   "metadata": {},
   "outputs": [],
   "source": [
    "sage_ff14sb = ForceField(\"openff-2.2.0.offxml\", \"ff14sb_off_impropers_0.0.4.offxml\")"
   ]
  },
  {
   "cell_type": "markdown",
   "metadata": {},
   "source": [
    "## Parametrize the complex (OpenFF Toolkit)\n",
    "\n",
    "We now have a `Topology`, which stores the chemical information of the system, and a `ForceField`, which maps chemistry to force field parameters. To parametrize the system, we combine these two objects into an [`Interchange`].\n",
    "\n",
    "An `Interchange` represents a completely parametrized molecular mechanics system. Partial charges are computed here according to the instructions in the force field, and this is where virtual sites required by the force field will be introduced. This all happens behind the scenes; all we have to do is combine an abstract chemical description with a force field. This makes it easy to change water model or force field, as the chemistry being modelled is completely independent of the model itself.\n",
    "\n",
    "[`Interchange`]: https://docs.openforcefield.org/projects/interchange/en/stable/_autosummary/openff.interchange.components.interchange.Interchange.html"
   ]
  },
  {
   "cell_type": "code",
   "execution_count": 10,
   "metadata": {
    "scrolled": true
   },
   "outputs": [],
   "source": [
    "interchange = sage_ff14sb.create_interchange(top)"
   ]
  },
  {
   "cell_type": "markdown",
   "metadata": {},
   "source": [
    "*(This should take about a minute, largely because of the complexity of the Amber protein force field port. In the future, this should be faster.)*"
   ]
  },
  {
   "cell_type": "markdown",
   "metadata": {},
   "source": [
    "While that runs, let's recap. We've constructed a `Topology` out of a number of `Molecule` objects, each of which represents a particular chemical independent of any model details. The `Topology` then represents an entire chemical system, which in theory could be modelled in any number of ways. Our `Topology` also includes atom positions and box vectors, but if we thought that was too concrete for our use case we could leave them out and add them after parametrization.\n",
    "\n",
    "Separately, we've constructed a `ForceField` by combining a general SMIRNOFF force field with a protein-specific SMIRNOFF force field. A SMIRNOFF force field is a bunch of rules for applying force field parameters to chemicals via SMARTS patterns. The force field includes everything needed to compute an energy: parameters, charges, functional forms, non-bonded methods and cutoffs, virtual sites, and so on.\n",
    "\n",
    "Then, we've parametrized our `Topology` with our `ForceField` to produce an `Interchange`. This applies all our rules and gives us a system ready to simulate. An `Interchange` can also concretely define positions, velocities, and box vectors, whether they come from the `Topology` or are added after parametrization. Once we have the `Interchange`, we can produce input data for any of the supported MM engines.\n",
    "\n",
    "This clear delineation makes benchmarking the same system against different force fields or the same force field against different force fields easy. The SMIRNOFF format makes distributing force fields in an engine agnostic way possible. Everything is an open standard or written in open source Python, so we can see how it works and even change it if we need to."
   ]
  },
  {
   "cell_type": "markdown",
   "metadata": {
    "tags": []
   },
   "source": [
    "## Simulate the complex (OpenMM)\n",
    "\n",
    "To use an `Interchange`, we need to convert it to the input expected by a particular molecular mechanics engine. We'll use OpenMM, because its support is the most mature and the fastest, but GROMACS, LAMMPS, and Amber all enjoy [preliminary support].\n",
    "\n",
    "All that remains is to tell OpenMM the details about how we want to integrate and record data for the simulation, and then to put everything together and run it! \n",
    "\n",
    "[preliminary support]: https://docs.openforcefield.org/projects/interchange/en/stable/using/output.html\n",
    "\n",
    "### Configure and run the simulation\n",
    "\n",
    "Here, we'll use a Langevin thermostat at 300 Kelvin and a 2 fs time step. We'll write the structure to disk every 10 steps."
   ]
  },
  {
   "cell_type": "code",
   "execution_count": 11,
   "metadata": {},
   "outputs": [],
   "source": [
    "# Construct and configure a Langevin integrator at 300 K with an appropriate friction constant and time-step\n",
    "integrator = openmm.LangevinIntegrator(\n",
    "    300 * openmm_unit.kelvin,\n",
    "    1 / openmm_unit.picosecond,\n",
    "    0.002 * openmm_unit.picoseconds,\n",
    ")\n",
    "\n",
    "# Under the hood, this creates *OpenMM* `System` and `Topology` objects, then combines them together\n",
    "simulation = interchange.to_openmm_simulation(integrator=integrator)\n",
    "\n",
    "# Add a reporter to record the structure every 100 steps, 1000 if using a CUDA-enabled GPU\n",
    "try:\n",
    "    openmm.Platform.getPlatformByName(\"CUDA\")\n",
    "    stride = 1000\n",
    "except openmm.OpenMMException:\n",
    "    stride = 100\n",
    "\n",
    "dcd_reporter = openmm.app.DCDReporter(file=\"trajectory.dcd\", reportInterval=stride)\n",
    "simulation.reporters.append(dcd_reporter)"
   ]
  },
  {
   "cell_type": "markdown",
   "metadata": {},
   "source": [
    "### Minimize the combined system\n",
    "\n",
    "This will reduce any forces that are too large to integrate, such as from clashes or from disagreements between the crystal structure and force field.\n"
   ]
  },
  {
   "cell_type": "code",
   "execution_count": 12,
   "metadata": {},
   "outputs": [
    {
     "name": "stdout",
     "output_type": "stream",
     "text": [
      "Original state has energy -190674.73 kJ/mol with maximum force 149153.8 kJ/(mol nm)\n",
      "Minimized state has energy -404648.87 kJ/mol with maximum force 2427.74 kJ/(mol nm)\n"
     ]
    }
   ],
   "source": [
    "def describe_state(state: openmm.State, name: str = \"State\"):\n",
    "    max_force = max(np.sqrt(v.x**2 + v.y**2 + v.z**2) for v in state.getForces())\n",
    "    print(\n",
    "        f\"{name} has energy {round(state.getPotentialEnergy()._value, 2)} kJ/mol \"\n",
    "        f\"with maximum force {round(max_force, 2)} kJ/(mol nm)\"\n",
    "    )\n",
    "\n",
    "\n",
    "describe_state(\n",
    "    simulation.context.getState(\n",
    "        getEnergy=True,\n",
    "        getForces=True,\n",
    "    ),\n",
    "    \"Original state\",\n",
    ")\n",
    "\n",
    "simulation.minimizeEnergy()\n",
    "\n",
    "describe_state(\n",
    "    simulation.context.getState(getEnergy=True, getForces=True),\n",
    "    \"Minimized state\",\n",
    ")"
   ]
  },
  {
   "cell_type": "markdown",
   "metadata": {},
   "source": [
    "### Run a short simulation\n",
    "\n",
    "If this were anything more than a demonstration of the Toolkit, this example would need to include additional steps like equilibration. \n",
    "\n",
    "<div class=\"alert alert-warning\" style=\"max-width: 700px; margin-left: auto; margin-right: auto;\">\n",
    "⚠️ Make sure you use your own, valid simulation protocol! This is just an example.\n",
    "</div>"
   ]
  },
  {
   "cell_type": "code",
   "execution_count": 13,
   "metadata": {},
   "outputs": [],
   "source": [
    "simulation.context.setVelocitiesToTemperature(300 * openmm_unit.kelvin)\n",
    "simulation.runForClockTime(1.0 * openmm_unit.minute)"
   ]
  },
  {
   "cell_type": "markdown",
   "metadata": {},
   "source": [
    "_(This'll take a minute - literally, this time)_"
   ]
  },
  {
   "cell_type": "markdown",
   "metadata": {},
   "source": [
    "While that runs, let's talk a bit about OpenFF\n",
    "\n",
    "### Open Source Force Fields\n",
    "\n",
    "A primary goal of the Open Force Field Initiative is to make development and use of force fields as open as possible - it's in our name! We believe that open source development practices have a lot to offer the scientific community, whether that science is academic, commercial, or hobbyist.\n",
    "\n",
    "#### The SMIRNOFF specification\n",
    "\n",
    "The SMIRNOFF specification describes a simple format for describing molecular force fields. We provide and maintain this spec in the hopes that it will allow scientists everywhere to contribute to force field development in a unified way, without taking them away from their favourite simulation package.\n",
    "\n",
    "SMIRNOFF is not just a spec; we're also committed to a reference implementation — that being the OpenFF Toolkit. The Toolkit endeavors to support all the functional forms in both the SMIRNOFF spec and the [`openff-forcefields`](https://github.com/openforcefield/openff-forcefields/) package.\n",
    "\n",
    "#### Reproducibility\n",
    "\n",
    "OpenFF force fields are completely specified by the name of the distributed `.offxml` file. We use codenames, version numbers, and tags to accomplish this. This means that as long as a user, designer, or reviewer sees the name of the force field being used, they know exactly what is going in to that simulation. We include parameters that are often neglected in force field specifications, such as the non-bonded cut-off distance, ewald methods, constraints, modifications to the Lennard-Jones function, and partial charge generation methods are all defined by the name of the force field. \n",
    "\n",
    "As much as possible, we want energy and force to be a deterministic output of combining a molecule and a force field. If an author provides the name of the force field in their methods section, it should be reproducible. The other side of this coin is that we never want to hide the force field from the user. In all our workflows, the name of the force field must be explicitly provided in the code. This improves reproducibility of the code and helps the user take responsibility for their results. \n",
    "\n",
    "#### \"Plugin\" support for new force fields\n",
    "\n",
    "The OpenFF Toolkit supports distributing force field files (.offxml) through Conda data packages. Anyone can publish a package on Conda Forge that extends the list of directories the toolkit searches for force fields, allowing anyone to produce force fields without requiring their own tooling, in a format that is designed to be converted to a multitude of simulation packages. See the [FAQ](https://open-forcefield-toolkit.readthedocs.io/en/stable/faq.html#how-can-i-distribute-my-own-force-fields-in-smirnoff-format) for more details.\n",
    "\n",
    "---\n",
    "\n",
    "Right! Simulation should be done by now, let's take a look."
   ]
  },
  {
   "cell_type": "markdown",
   "metadata": {},
   "source": [
    "## Visualize the simulation (nglview)\n",
    "\n",
    "NGLview can display trajectories, as well as single structures. Mouse over the widget to see the animation controls."
   ]
  },
  {
   "cell_type": "code",
   "execution_count": 14,
   "metadata": {
    "scrolled": true
   },
   "outputs": [
    {
     "data": {
      "application/vnd.jupyter.widget-view+json": {
       "model_id": "6b2e9fc7f7dc49788b23a8c4c95cf6ce",
       "version_major": 2,
       "version_minor": 0
      },
      "text/plain": [
       "NGLWidget(max_frame=181)"
      ]
     },
     "metadata": {},
     "output_type": "display_data"
    }
   ],
   "source": [
    "trajectory: mdtraj.Trajectory = mdtraj.load(\n",
    "    \"trajectory.dcd\", top=mdtraj.Topology.from_openmm(interchange.to_openmm_topology())\n",
    ")\n",
    "\n",
    "view = nglview.show_mdtraj(trajectory.image_molecules())\n",
    "view.add_representation(\"line\", selection=\"protein\")\n",
    "view"
   ]
  },
  {
   "cell_type": "markdown",
   "metadata": {},
   "source": [
    "<div class=\"alert alert-info\" style=\"max-width: 700px; margin-left: auto; margin-right: auto;\">\n",
    "ℹ️ MDTraj is a great library for analysis. Check out the <a href=https://mdtraj.readthedocs.io/en/latest/api/generated/mdtraj.Trajectory.html#mdtraj.Trajectory>docs</a> for the <code>Trajectory</code> object you just created, as well as their <a href=https://mdtraj.readthedocs.io/en/latest/analysis.html>analysis functions</a>, and see if you can compute something interesting. Its real superpower is that it provides the coordinates of the trajectory as a <a href=https://numpy.org/doc/stable/reference/generated/numpy.array.html>NumPy array</a>, so if you're really keen try computing something directly from <code>trajectory.xyz</code>\n",
    "</div>"
   ]
  },
  {
   "cell_type": "markdown",
   "metadata": {},
   "source": [
    "## Conclusions\n",
    "\n",
    "* The OpenFF workflow cleanly separates the chemical system from its model.\n",
    "* We parametrize ligands and proteins with the same software tools.\n",
    "* Open source tools installed via Conda did everything, from basic system prep to simulation and visualization\n",
    "* Using OpenMM, we never had to leave Python to set up the simulation\n",
    "* With Interchange, using OpenMM, GROMACS, Amber or LAMMPS is simple!\n",
    "\n",
    "\n",
    "## What's next?\n",
    "\n",
    "We have [more examples](https://docs.openforcefield.org/en/latest/examples.html) showcasing the OpenFF ecosystem!\n",
    "\n",
    " - [Protein-ligand system](https://docs.openforcefield.org/en/latest/examples/openforcefield/openff-interchange/protein_ligand/protein_ligand.html): Prepare protein-ligand complexes for simulations in OpenMM, GROMACS, and Amber\n",
    " - [Force Field Modification](https://docs.openforcefield.org/en/latest/examples/openforcefield/openff-toolkit/forcefield_modification/forcefield_modification.html): Use the Toolkit API to manipulate SMIRNOFF parameters in a `ForceField` object\n",
    " - [Conformer energies](https://docs.openforcefield.org/en/latest/examples/openforcefield/openff-toolkit/conformer_energies/conformer_energies.html): Compute vacuum energies of different conformers of a small molecule with the Sage force field\n",
    " - [QCArchive interface](https://docs.openforcefield.org/en/latest/examples/openforcefield/openff-toolkit/QCArchive_interface/QCarchive_interface.html): Create OpenFF `Molecule` objects from the [QCArchive](https://molssi.github.io/QCFractal/)\n",
    " - [Virtual sites](https://docs.openforcefield.org/en/latest/examples/openforcefield/openff-interchange/virtual_sites/virtual_sites.html): Use SMIRNOFF force fields and OpenFF tools to apply several different types of virtual sites to small molecules"
   ]
  }
 ],
 "metadata": {
  "category": "tutorial",
  "kernelspec": {
   "display_name": "Python 3 (ipykernel)",
   "language": "python",
   "name": "python3"
  },
  "language_info": {
   "codemirror_mode": {
    "name": "ipython",
    "version": 3
   },
   "file_extension": ".py",
   "mimetype": "text/x-python",
   "name": "python",
   "nbconvert_exporter": "python",
   "pygments_lexer": "ipython3",
   "version": "3.12.8"
  },
  "widgets": {
   "application/vnd.jupyter.widget-state+json": {
    "state": {},
    "version_major": 2,
    "version_minor": 0
   }
  }
 },
 "nbformat": 4,
 "nbformat_minor": 4
}

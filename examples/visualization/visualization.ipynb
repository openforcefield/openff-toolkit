{
 "cells": [
  {
   "cell_type": "markdown",
   "metadata": {},
   "source": [
    "# Visualizations in the OpenFF Toolkit"
   ]
  },
  {
   "cell_type": "markdown",
   "metadata": {},
   "source": [
    "OpenFF [`Molecule`] and [`Topology`] objects provide some facilities for visualization in Jupyter notebooks. This can be useful for inspecting molecules and topologies!\n",
    "\n",
    "There are two ways to invoke the visualization:\n",
    "- implicitly, by _evaluating_ the object in a cell\n",
    "- explicitly, by calling [`Molecule.visualize()`]\n",
    "\n",
    "There are currently three backends, each using a different external tool:\n",
    "- RDKit (default)\n",
    "- OpenEye (requires OpenEye Toolkits installed and licensed)\n",
    "- NGLview (requires conformers)\n",
    "\n",
    "The backend can be explicitly chosen with the `backend` argument.\n",
    "\n",
    "[`Topology`] visualization works similarly by calling [`Topology.visualize()`]. However, there is no `backend` argument and it defaults to using NGLview for a 3D representation.\n",
    "\n",
    "[`Molecule.visualize()`]: https://docs.openforcefield.org/projects/toolkit/en/stable/api/generated/openff.toolkit.topology.Molecule.html#openff.toolkit.topology.Molecule.visualize\n",
    "[`Molecule`]: https://docs.openforcefield.org/projects/toolkit/en/stable/api/generated/openff.toolkit.topology.Molecule.html\n",
    "[`Topology.visualize()`]: https://docs.openforcefield.org/projects/toolkit/en/stable/api/generated/openff.toolkit.topology.Topology.html#openff.toolkit.topology.Topology.visualize\n",
    "[`Topology`]: https://docs.openforcefield.org/projects/toolkit/en/stable/api/generated/openff.toolkit.topology.Topology.html"
   ]
  },
  {
   "cell_type": "markdown",
   "metadata": {},
   "source": [
    "<details><summary>Troubleshooting if NGLView doesn't work</summary>\n",
    "This notebook below demonstrates usage of <code>nglview</code> with <code>openforcefield</code>. This can be tricky to get working. You may need to run an additional command after creating the Conda environment.\n",
    "    \n",
    "To configure for use with Jupyter Notebooks:\n",
    "\n",
    "<pre>\n",
    "    jupyter-nbextension enable nglview --py --sys-prefix\n",
    "</pre>\n",
    "<br />\n",
    "\n",
    "To use with Jupyter Lab, configure with:\n",
    "\n",
    "<pre>\n",
    "    jupyter labextension install  nglview-js-widgets\n",
    "    jupyter-labextension install @jupyter-widgets/jupyterlab-manager\n",
    "</pre>\n",
    "<br />\n",
    "\n",
    "For NGLView ≥ 3.0.0, the above should not be necessary; however, it is not yet compatible with Jupyter Lab ≥ 4.0.0.\n",
    "</details>"
   ]
  },
  {
   "cell_type": "code",
   "execution_count": 1,
   "metadata": {
    "tags": []
   },
   "outputs": [],
   "source": [
    "from openff.toolkit import Molecule, Topology"
   ]
  },
  {
   "cell_type": "markdown",
   "metadata": {},
   "source": [
    "## Implicit visualization\n",
    "\n",
    "When you run a cell with an object in the last line, IPython makes an effort to display some sort of representation - for a class or built-in type, this looks like its `__repr__` method. Here we call this _implicit_ visualization.\n",
    "\n",
    "The toolkit will try to visualize a molecule using `nglview` if it has conformers. If it does not, it tries `rdkit` and then `openeye` (in that order)."
   ]
  },
  {
   "cell_type": "code",
   "execution_count": 2,
   "metadata": {
    "tags": []
   },
   "outputs": [
    {
     "data": {
      "application/vnd.jupyter.widget-view+json": {
       "model_id": "e441300651e04fefa308b6f1a7ef1858",
       "version_major": 2,
       "version_minor": 0
      },
      "text/plain": []
     },
     "metadata": {},
     "output_type": "display_data"
    },
    {
     "data": {
      "image/svg+xml": [
       "<svg xmlns=\"http://www.w3.org/2000/svg\" xmlns:rdkit=\"http://www.rdkit.org/xml\" xmlns:xlink=\"http://www.w3.org/1999/xlink\" version=\"1.1\" baseProfile=\"full\" xml:space=\"preserve\" width=\"500px\" height=\"300px\" viewBox=\"0 0 500 300\">\n",
       "<!-- END OF HEADER -->\n",
       "<rect style=\"opacity:1.0;fill:#FFFFFF;stroke:none\" width=\"500.0\" height=\"300.0\" x=\"0.0\" y=\"0.0\"> </rect>\n",
       "<path class=\"bond-0 atom-0 atom-1\" d=\"M 110.8,209.0 L 166.2,177.3\" style=\"fill:none;fill-rule:evenodd;stroke:#000000;stroke-width:2.0px;stroke-linecap:butt;stroke-linejoin:miter;stroke-opacity:1\"/>\n",
       "<path class=\"bond-1 atom-1 atom-2\" d=\"M 166.2,177.3 L 221.1,209.2\" style=\"fill:none;fill-rule:evenodd;stroke:#000000;stroke-width:2.0px;stroke-linecap:butt;stroke-linejoin:miter;stroke-opacity:1\"/>\n",
       "<path class=\"bond-2 atom-2 atom-3\" d=\"M 221.1,209.2 L 276.3,177.4\" style=\"fill:none;fill-rule:evenodd;stroke:#000000;stroke-width:2.0px;stroke-linecap:butt;stroke-linejoin:miter;stroke-opacity:1\"/>\n",
       "<path class=\"bond-3 atom-3 atom-4\" d=\"M 276.3,177.4 L 276.7,153.8\" style=\"fill:none;fill-rule:evenodd;stroke:#000000;stroke-width:2.0px;stroke-linecap:butt;stroke-linejoin:miter;stroke-opacity:1\"/>\n",
       "<path class=\"bond-3 atom-3 atom-4\" d=\"M 276.7,153.8 L 277.0,130.2\" style=\"fill:none;fill-rule:evenodd;stroke:#FF0000;stroke-width:2.0px;stroke-linecap:butt;stroke-linejoin:miter;stroke-opacity:1\"/>\n",
       "<path class=\"bond-4 atom-4 atom-5\" d=\"M 291.8,105.8 L 312.5,94.3\" style=\"fill:none;fill-rule:evenodd;stroke:#FF0000;stroke-width:2.0px;stroke-linecap:butt;stroke-linejoin:miter;stroke-opacity:1\"/>\n",
       "<path class=\"bond-4 atom-4 atom-5\" d=\"M 312.5,94.3 L 333.2,82.7\" style=\"fill:none;fill-rule:evenodd;stroke:#000000;stroke-width:2.0px;stroke-linecap:butt;stroke-linejoin:miter;stroke-opacity:1\"/>\n",
       "<path class=\"bond-5 atom-5 atom-6\" d=\"M 333.2,82.7 L 389.3,115.4\" style=\"fill:none;fill-rule:evenodd;stroke:#000000;stroke-width:2.0px;stroke-linecap:butt;stroke-linejoin:miter;stroke-opacity:1\"/>\n",
       "<path class=\"bond-6 atom-0 atom-7\" d=\"M 110.8,209.0 L 88.1,169.2\" style=\"fill:none;fill-rule:evenodd;stroke:#000000;stroke-width:2.0px;stroke-linecap:butt;stroke-linejoin:miter;stroke-opacity:1\"/>\n",
       "<path class=\"bond-7 atom-0 atom-8\" d=\"M 110.8,209.0 L 59.7,208.7\" style=\"fill:none;fill-rule:evenodd;stroke:#000000;stroke-width:2.0px;stroke-linecap:butt;stroke-linejoin:miter;stroke-opacity:1\"/>\n",
       "<path class=\"bond-8 atom-0 atom-9\" d=\"M 110.8,209.0 L 110.6,257.1\" style=\"fill:none;fill-rule:evenodd;stroke:#000000;stroke-width:2.0px;stroke-linecap:butt;stroke-linejoin:miter;stroke-opacity:1\"/>\n",
       "<path class=\"bond-9 atom-1 atom-10\" d=\"M 166.2,177.3 L 189.2,137.9\" style=\"fill:none;fill-rule:evenodd;stroke:#000000;stroke-width:2.0px;stroke-linecap:butt;stroke-linejoin:miter;stroke-opacity:1\"/>\n",
       "<path class=\"bond-10 atom-1 atom-11\" d=\"M 166.2,177.3 L 143.6,137.6\" style=\"fill:none;fill-rule:evenodd;stroke:#000000;stroke-width:2.0px;stroke-linecap:butt;stroke-linejoin:miter;stroke-opacity:1\"/>\n",
       "<path class=\"bond-11 atom-2 atom-12\" d=\"M 221.1,209.2 L 198.2,248.8\" style=\"fill:none;fill-rule:evenodd;stroke:#000000;stroke-width:2.0px;stroke-linecap:butt;stroke-linejoin:miter;stroke-opacity:1\"/>\n",
       "<path class=\"bond-12 atom-2 atom-13\" d=\"M 221.1,209.2 L 244.0,248.9\" style=\"fill:none;fill-rule:evenodd;stroke:#000000;stroke-width:2.0px;stroke-linecap:butt;stroke-linejoin:miter;stroke-opacity:1\"/>\n",
       "<path class=\"bond-13 atom-3 atom-14\" d=\"M 276.3,177.4 L 299.2,217.0\" style=\"fill:none;fill-rule:evenodd;stroke:#000000;stroke-width:2.0px;stroke-linecap:butt;stroke-linejoin:miter;stroke-opacity:1\"/>\n",
       "<path class=\"bond-14 atom-3 atom-15\" d=\"M 276.3,177.4 L 325.9,177.5\" style=\"fill:none;fill-rule:evenodd;stroke:#000000;stroke-width:2.0px;stroke-linecap:butt;stroke-linejoin:miter;stroke-opacity:1\"/>\n",
       "<path class=\"bond-15 atom-5 atom-16\" d=\"M 333.2,82.7 L 310.5,42.9\" style=\"fill:none;fill-rule:evenodd;stroke:#000000;stroke-width:2.0px;stroke-linecap:butt;stroke-linejoin:miter;stroke-opacity:1\"/>\n",
       "<path class=\"bond-16 atom-5 atom-17\" d=\"M 333.2,82.7 L 356.1,43.2\" style=\"fill:none;fill-rule:evenodd;stroke:#000000;stroke-width:2.0px;stroke-linecap:butt;stroke-linejoin:miter;stroke-opacity:1\"/>\n",
       "<path class=\"bond-17 atom-6 atom-18\" d=\"M 389.3,115.4 L 412.2,75.8\" style=\"fill:none;fill-rule:evenodd;stroke:#000000;stroke-width:2.0px;stroke-linecap:butt;stroke-linejoin:miter;stroke-opacity:1\"/>\n",
       "<path class=\"bond-18 atom-6 atom-19\" d=\"M 389.3,115.4 L 440.3,115.3\" style=\"fill:none;fill-rule:evenodd;stroke:#000000;stroke-width:2.0px;stroke-linecap:butt;stroke-linejoin:miter;stroke-opacity:1\"/>\n",
       "<path class=\"bond-19 atom-6 atom-20\" d=\"M 389.3,115.4 L 389.6,164.3\" style=\"fill:none;fill-rule:evenodd;stroke:#000000;stroke-width:2.0px;stroke-linecap:butt;stroke-linejoin:miter;stroke-opacity:1\"/>\n",
       "<path class=\"atom-4\" d=\"M 264.8 114.0 Q 264.8 107.5, 268.0 103.9 Q 271.2 100.2, 277.2 100.2 Q 283.2 100.2, 286.5 103.9 Q 289.7 107.5, 289.7 114.0 Q 289.7 120.6, 286.4 124.3 Q 283.2 128.1, 277.2 128.1 Q 271.2 128.1, 268.0 124.3 Q 264.8 120.6, 264.8 114.0 M 277.2 125.0 Q 281.4 125.0, 283.6 122.2 Q 285.8 119.4, 285.8 114.0 Q 285.8 108.7, 283.6 106.0 Q 281.4 103.3, 277.2 103.3 Q 273.1 103.3, 270.8 106.0 Q 268.6 108.6, 268.6 114.0 Q 268.6 119.5, 270.8 122.2 Q 273.1 125.0, 277.2 125.0 \" fill=\"#FF0000\"/>\n",
       "<path class=\"atom-7\" d=\"M 68.6 140.0 L 72.3 140.0 L 72.3 151.5 L 86.2 151.5 L 86.2 140.0 L 89.8 140.0 L 89.8 167.1 L 86.2 167.1 L 86.2 154.6 L 72.3 154.6 L 72.3 167.1 L 68.6 167.1 L 68.6 140.0 \" fill=\"#000000\"/>\n",
       "<path class=\"atom-8\" d=\"M 36.4 195.0 L 40.1 195.0 L 40.1 206.6 L 53.9 206.6 L 53.9 195.0 L 57.6 195.0 L 57.6 222.2 L 53.9 222.2 L 53.9 209.6 L 40.1 209.6 L 40.1 222.2 L 36.4 222.2 L 36.4 195.0 \" fill=\"#000000\"/>\n",
       "<path class=\"atom-9\" d=\"M 99.9 259.3 L 103.6 259.3 L 103.6 270.8 L 117.4 270.8 L 117.4 259.3 L 121.1 259.3 L 121.1 286.4 L 117.4 286.4 L 117.4 273.8 L 103.6 273.8 L 103.6 286.4 L 99.9 286.4 L 99.9 259.3 \" fill=\"#000000\"/>\n",
       "<path class=\"atom-10\" d=\"M 187.8 108.7 L 191.5 108.7 L 191.5 120.2 L 205.3 120.2 L 205.3 108.7 L 209.0 108.7 L 209.0 135.8 L 205.3 135.8 L 205.3 123.3 L 191.5 123.3 L 191.5 135.8 L 187.8 135.8 L 187.8 108.7 \" fill=\"#000000\"/>\n",
       "<path class=\"atom-11\" d=\"M 124.0 108.4 L 127.7 108.4 L 127.7 119.9 L 141.6 119.9 L 141.6 108.4 L 145.3 108.4 L 145.3 135.5 L 141.6 135.5 L 141.6 122.9 L 127.7 122.9 L 127.7 135.5 L 124.0 135.5 L 124.0 108.4 \" fill=\"#000000\"/>\n",
       "<path class=\"atom-12\" d=\"M 178.5 250.9 L 182.2 250.9 L 182.2 262.4 L 196.0 262.4 L 196.0 250.9 L 199.7 250.9 L 199.7 278.0 L 196.0 278.0 L 196.0 265.5 L 182.2 265.5 L 182.2 278.0 L 178.5 278.0 L 178.5 250.9 \" fill=\"#000000\"/>\n",
       "<path class=\"atom-13\" d=\"M 242.4 251.0 L 246.1 251.0 L 246.1 262.5 L 260.0 262.5 L 260.0 251.0 L 263.7 251.0 L 263.7 278.1 L 260.0 278.1 L 260.0 265.6 L 246.1 265.6 L 246.1 278.1 L 242.4 278.1 L 242.4 251.0 \" fill=\"#000000\"/>\n",
       "<path class=\"atom-14\" d=\"M 297.7 219.1 L 301.4 219.1 L 301.4 230.7 L 315.2 230.7 L 315.2 219.1 L 318.9 219.1 L 318.9 246.2 L 315.2 246.2 L 315.2 233.7 L 301.4 233.7 L 301.4 246.2 L 297.7 246.2 L 297.7 219.1 \" fill=\"#000000\"/>\n",
       "<path class=\"atom-15\" d=\"M 328.0 164.0 L 331.7 164.0 L 331.7 175.5 L 345.6 175.5 L 345.6 164.0 L 349.2 164.0 L 349.2 191.1 L 345.6 191.1 L 345.6 178.6 L 331.7 178.6 L 331.7 191.1 L 328.0 191.1 L 328.0 164.0 \" fill=\"#000000\"/>\n",
       "<path class=\"atom-16\" d=\"M 291.0 13.6 L 294.7 13.6 L 294.7 25.2 L 308.5 25.2 L 308.5 13.6 L 312.2 13.6 L 312.2 40.7 L 308.5 40.7 L 308.5 28.2 L 294.7 28.2 L 294.7 40.7 L 291.0 40.7 L 291.0 13.6 \" fill=\"#000000\"/>\n",
       "<path class=\"atom-17\" d=\"M 354.6 14.0 L 358.3 14.0 L 358.3 25.5 L 372.2 25.5 L 372.2 14.0 L 375.8 14.0 L 375.8 41.1 L 372.2 41.1 L 372.2 28.6 L 358.3 28.6 L 358.3 41.1 L 354.6 41.1 L 354.6 14.0 \" fill=\"#000000\"/>\n",
       "<path class=\"atom-18\" d=\"M 410.6 46.5 L 414.3 46.5 L 414.3 58.1 L 428.2 58.1 L 428.2 46.5 L 431.8 46.5 L 431.8 73.6 L 428.2 73.6 L 428.2 61.1 L 414.3 61.1 L 414.3 73.6 L 410.6 73.6 L 410.6 46.5 \" fill=\"#000000\"/>\n",
       "<path class=\"atom-19\" d=\"M 442.4 101.7 L 446.1 101.7 L 446.1 113.2 L 459.9 113.2 L 459.9 101.7 L 463.6 101.7 L 463.6 128.8 L 459.9 128.8 L 459.9 116.3 L 446.1 116.3 L 446.1 128.8 L 442.4 128.8 L 442.4 101.7 \" fill=\"#000000\"/>\n",
       "<path class=\"atom-20\" d=\"M 379.1 166.4 L 382.8 166.4 L 382.8 177.9 L 396.6 177.9 L 396.6 166.4 L 400.3 166.4 L 400.3 193.5 L 396.6 193.5 L 396.6 181.0 L 382.8 181.0 L 382.8 193.5 L 379.1 193.5 L 379.1 166.4 \" fill=\"#000000\"/>\n",
       "</svg>"
      ],
      "text/plain": [
       "<IPython.core.display.SVG object>"
      ]
     },
     "metadata": {},
     "output_type": "display_data"
    }
   ],
   "source": [
    "m = Molecule.from_smiles(\"CCCCOCC\")\n",
    "m"
   ]
  },
  {
   "cell_type": "markdown",
   "metadata": {},
   "source": [
    "The regular `display()` call works on `Molecule` objects too."
   ]
  },
  {
   "cell_type": "code",
   "execution_count": 3,
   "metadata": {
    "tags": []
   },
   "outputs": [
    {
     "data": {
      "image/svg+xml": [
       "<svg xmlns=\"http://www.w3.org/2000/svg\" xmlns:rdkit=\"http://www.rdkit.org/xml\" xmlns:xlink=\"http://www.w3.org/1999/xlink\" version=\"1.1\" baseProfile=\"full\" xml:space=\"preserve\" width=\"500px\" height=\"300px\" viewBox=\"0 0 500 300\">\n",
       "<!-- END OF HEADER -->\n",
       "<rect style=\"opacity:1.0;fill:#FFFFFF;stroke:none\" width=\"500.0\" height=\"300.0\" x=\"0.0\" y=\"0.0\"> </rect>\n",
       "<path class=\"bond-0 atom-0 atom-1\" d=\"M 110.8,209.0 L 166.2,177.3\" style=\"fill:none;fill-rule:evenodd;stroke:#000000;stroke-width:2.0px;stroke-linecap:butt;stroke-linejoin:miter;stroke-opacity:1\"/>\n",
       "<path class=\"bond-1 atom-1 atom-2\" d=\"M 166.2,177.3 L 221.1,209.2\" style=\"fill:none;fill-rule:evenodd;stroke:#000000;stroke-width:2.0px;stroke-linecap:butt;stroke-linejoin:miter;stroke-opacity:1\"/>\n",
       "<path class=\"bond-2 atom-2 atom-3\" d=\"M 221.1,209.2 L 276.3,177.4\" style=\"fill:none;fill-rule:evenodd;stroke:#000000;stroke-width:2.0px;stroke-linecap:butt;stroke-linejoin:miter;stroke-opacity:1\"/>\n",
       "<path class=\"bond-3 atom-3 atom-4\" d=\"M 276.3,177.4 L 276.7,153.8\" style=\"fill:none;fill-rule:evenodd;stroke:#000000;stroke-width:2.0px;stroke-linecap:butt;stroke-linejoin:miter;stroke-opacity:1\"/>\n",
       "<path class=\"bond-3 atom-3 atom-4\" d=\"M 276.7,153.8 L 277.0,130.2\" style=\"fill:none;fill-rule:evenodd;stroke:#FF0000;stroke-width:2.0px;stroke-linecap:butt;stroke-linejoin:miter;stroke-opacity:1\"/>\n",
       "<path class=\"bond-4 atom-4 atom-5\" d=\"M 291.8,105.8 L 312.5,94.3\" style=\"fill:none;fill-rule:evenodd;stroke:#FF0000;stroke-width:2.0px;stroke-linecap:butt;stroke-linejoin:miter;stroke-opacity:1\"/>\n",
       "<path class=\"bond-4 atom-4 atom-5\" d=\"M 312.5,94.3 L 333.2,82.7\" style=\"fill:none;fill-rule:evenodd;stroke:#000000;stroke-width:2.0px;stroke-linecap:butt;stroke-linejoin:miter;stroke-opacity:1\"/>\n",
       "<path class=\"bond-5 atom-5 atom-6\" d=\"M 333.2,82.7 L 389.3,115.4\" style=\"fill:none;fill-rule:evenodd;stroke:#000000;stroke-width:2.0px;stroke-linecap:butt;stroke-linejoin:miter;stroke-opacity:1\"/>\n",
       "<path class=\"bond-6 atom-0 atom-7\" d=\"M 110.8,209.0 L 88.1,169.2\" style=\"fill:none;fill-rule:evenodd;stroke:#000000;stroke-width:2.0px;stroke-linecap:butt;stroke-linejoin:miter;stroke-opacity:1\"/>\n",
       "<path class=\"bond-7 atom-0 atom-8\" d=\"M 110.8,209.0 L 59.7,208.7\" style=\"fill:none;fill-rule:evenodd;stroke:#000000;stroke-width:2.0px;stroke-linecap:butt;stroke-linejoin:miter;stroke-opacity:1\"/>\n",
       "<path class=\"bond-8 atom-0 atom-9\" d=\"M 110.8,209.0 L 110.6,257.1\" style=\"fill:none;fill-rule:evenodd;stroke:#000000;stroke-width:2.0px;stroke-linecap:butt;stroke-linejoin:miter;stroke-opacity:1\"/>\n",
       "<path class=\"bond-9 atom-1 atom-10\" d=\"M 166.2,177.3 L 189.2,137.9\" style=\"fill:none;fill-rule:evenodd;stroke:#000000;stroke-width:2.0px;stroke-linecap:butt;stroke-linejoin:miter;stroke-opacity:1\"/>\n",
       "<path class=\"bond-10 atom-1 atom-11\" d=\"M 166.2,177.3 L 143.6,137.6\" style=\"fill:none;fill-rule:evenodd;stroke:#000000;stroke-width:2.0px;stroke-linecap:butt;stroke-linejoin:miter;stroke-opacity:1\"/>\n",
       "<path class=\"bond-11 atom-2 atom-12\" d=\"M 221.1,209.2 L 198.2,248.8\" style=\"fill:none;fill-rule:evenodd;stroke:#000000;stroke-width:2.0px;stroke-linecap:butt;stroke-linejoin:miter;stroke-opacity:1\"/>\n",
       "<path class=\"bond-12 atom-2 atom-13\" d=\"M 221.1,209.2 L 244.0,248.9\" style=\"fill:none;fill-rule:evenodd;stroke:#000000;stroke-width:2.0px;stroke-linecap:butt;stroke-linejoin:miter;stroke-opacity:1\"/>\n",
       "<path class=\"bond-13 atom-3 atom-14\" d=\"M 276.3,177.4 L 299.2,217.0\" style=\"fill:none;fill-rule:evenodd;stroke:#000000;stroke-width:2.0px;stroke-linecap:butt;stroke-linejoin:miter;stroke-opacity:1\"/>\n",
       "<path class=\"bond-14 atom-3 atom-15\" d=\"M 276.3,177.4 L 325.9,177.5\" style=\"fill:none;fill-rule:evenodd;stroke:#000000;stroke-width:2.0px;stroke-linecap:butt;stroke-linejoin:miter;stroke-opacity:1\"/>\n",
       "<path class=\"bond-15 atom-5 atom-16\" d=\"M 333.2,82.7 L 310.5,42.9\" style=\"fill:none;fill-rule:evenodd;stroke:#000000;stroke-width:2.0px;stroke-linecap:butt;stroke-linejoin:miter;stroke-opacity:1\"/>\n",
       "<path class=\"bond-16 atom-5 atom-17\" d=\"M 333.2,82.7 L 356.1,43.2\" style=\"fill:none;fill-rule:evenodd;stroke:#000000;stroke-width:2.0px;stroke-linecap:butt;stroke-linejoin:miter;stroke-opacity:1\"/>\n",
       "<path class=\"bond-17 atom-6 atom-18\" d=\"M 389.3,115.4 L 412.2,75.8\" style=\"fill:none;fill-rule:evenodd;stroke:#000000;stroke-width:2.0px;stroke-linecap:butt;stroke-linejoin:miter;stroke-opacity:1\"/>\n",
       "<path class=\"bond-18 atom-6 atom-19\" d=\"M 389.3,115.4 L 440.3,115.3\" style=\"fill:none;fill-rule:evenodd;stroke:#000000;stroke-width:2.0px;stroke-linecap:butt;stroke-linejoin:miter;stroke-opacity:1\"/>\n",
       "<path class=\"bond-19 atom-6 atom-20\" d=\"M 389.3,115.4 L 389.6,164.3\" style=\"fill:none;fill-rule:evenodd;stroke:#000000;stroke-width:2.0px;stroke-linecap:butt;stroke-linejoin:miter;stroke-opacity:1\"/>\n",
       "<path class=\"atom-4\" d=\"M 264.8 114.0 Q 264.8 107.5, 268.0 103.9 Q 271.2 100.2, 277.2 100.2 Q 283.2 100.2, 286.5 103.9 Q 289.7 107.5, 289.7 114.0 Q 289.7 120.6, 286.4 124.3 Q 283.2 128.1, 277.2 128.1 Q 271.2 128.1, 268.0 124.3 Q 264.8 120.6, 264.8 114.0 M 277.2 125.0 Q 281.4 125.0, 283.6 122.2 Q 285.8 119.4, 285.8 114.0 Q 285.8 108.7, 283.6 106.0 Q 281.4 103.3, 277.2 103.3 Q 273.1 103.3, 270.8 106.0 Q 268.6 108.6, 268.6 114.0 Q 268.6 119.5, 270.8 122.2 Q 273.1 125.0, 277.2 125.0 \" fill=\"#FF0000\"/>\n",
       "<path class=\"atom-7\" d=\"M 68.6 140.0 L 72.3 140.0 L 72.3 151.5 L 86.2 151.5 L 86.2 140.0 L 89.8 140.0 L 89.8 167.1 L 86.2 167.1 L 86.2 154.6 L 72.3 154.6 L 72.3 167.1 L 68.6 167.1 L 68.6 140.0 \" fill=\"#000000\"/>\n",
       "<path class=\"atom-8\" d=\"M 36.4 195.0 L 40.1 195.0 L 40.1 206.6 L 53.9 206.6 L 53.9 195.0 L 57.6 195.0 L 57.6 222.2 L 53.9 222.2 L 53.9 209.6 L 40.1 209.6 L 40.1 222.2 L 36.4 222.2 L 36.4 195.0 \" fill=\"#000000\"/>\n",
       "<path class=\"atom-9\" d=\"M 99.9 259.3 L 103.6 259.3 L 103.6 270.8 L 117.4 270.8 L 117.4 259.3 L 121.1 259.3 L 121.1 286.4 L 117.4 286.4 L 117.4 273.8 L 103.6 273.8 L 103.6 286.4 L 99.9 286.4 L 99.9 259.3 \" fill=\"#000000\"/>\n",
       "<path class=\"atom-10\" d=\"M 187.8 108.7 L 191.5 108.7 L 191.5 120.2 L 205.3 120.2 L 205.3 108.7 L 209.0 108.7 L 209.0 135.8 L 205.3 135.8 L 205.3 123.3 L 191.5 123.3 L 191.5 135.8 L 187.8 135.8 L 187.8 108.7 \" fill=\"#000000\"/>\n",
       "<path class=\"atom-11\" d=\"M 124.0 108.4 L 127.7 108.4 L 127.7 119.9 L 141.6 119.9 L 141.6 108.4 L 145.3 108.4 L 145.3 135.5 L 141.6 135.5 L 141.6 122.9 L 127.7 122.9 L 127.7 135.5 L 124.0 135.5 L 124.0 108.4 \" fill=\"#000000\"/>\n",
       "<path class=\"atom-12\" d=\"M 178.5 250.9 L 182.2 250.9 L 182.2 262.4 L 196.0 262.4 L 196.0 250.9 L 199.7 250.9 L 199.7 278.0 L 196.0 278.0 L 196.0 265.5 L 182.2 265.5 L 182.2 278.0 L 178.5 278.0 L 178.5 250.9 \" fill=\"#000000\"/>\n",
       "<path class=\"atom-13\" d=\"M 242.4 251.0 L 246.1 251.0 L 246.1 262.5 L 260.0 262.5 L 260.0 251.0 L 263.7 251.0 L 263.7 278.1 L 260.0 278.1 L 260.0 265.6 L 246.1 265.6 L 246.1 278.1 L 242.4 278.1 L 242.4 251.0 \" fill=\"#000000\"/>\n",
       "<path class=\"atom-14\" d=\"M 297.7 219.1 L 301.4 219.1 L 301.4 230.7 L 315.2 230.7 L 315.2 219.1 L 318.9 219.1 L 318.9 246.2 L 315.2 246.2 L 315.2 233.7 L 301.4 233.7 L 301.4 246.2 L 297.7 246.2 L 297.7 219.1 \" fill=\"#000000\"/>\n",
       "<path class=\"atom-15\" d=\"M 328.0 164.0 L 331.7 164.0 L 331.7 175.5 L 345.6 175.5 L 345.6 164.0 L 349.2 164.0 L 349.2 191.1 L 345.6 191.1 L 345.6 178.6 L 331.7 178.6 L 331.7 191.1 L 328.0 191.1 L 328.0 164.0 \" fill=\"#000000\"/>\n",
       "<path class=\"atom-16\" d=\"M 291.0 13.6 L 294.7 13.6 L 294.7 25.2 L 308.5 25.2 L 308.5 13.6 L 312.2 13.6 L 312.2 40.7 L 308.5 40.7 L 308.5 28.2 L 294.7 28.2 L 294.7 40.7 L 291.0 40.7 L 291.0 13.6 \" fill=\"#000000\"/>\n",
       "<path class=\"atom-17\" d=\"M 354.6 14.0 L 358.3 14.0 L 358.3 25.5 L 372.2 25.5 L 372.2 14.0 L 375.8 14.0 L 375.8 41.1 L 372.2 41.1 L 372.2 28.6 L 358.3 28.6 L 358.3 41.1 L 354.6 41.1 L 354.6 14.0 \" fill=\"#000000\"/>\n",
       "<path class=\"atom-18\" d=\"M 410.6 46.5 L 414.3 46.5 L 414.3 58.1 L 428.2 58.1 L 428.2 46.5 L 431.8 46.5 L 431.8 73.6 L 428.2 73.6 L 428.2 61.1 L 414.3 61.1 L 414.3 73.6 L 410.6 73.6 L 410.6 46.5 \" fill=\"#000000\"/>\n",
       "<path class=\"atom-19\" d=\"M 442.4 101.7 L 446.1 101.7 L 446.1 113.2 L 459.9 113.2 L 459.9 101.7 L 463.6 101.7 L 463.6 128.8 L 459.9 128.8 L 459.9 116.3 L 446.1 116.3 L 446.1 128.8 L 442.4 128.8 L 442.4 101.7 \" fill=\"#000000\"/>\n",
       "<path class=\"atom-20\" d=\"M 379.1 166.4 L 382.8 166.4 L 382.8 177.9 L 396.6 177.9 L 396.6 166.4 L 400.3 166.4 L 400.3 193.5 L 396.6 193.5 L 396.6 181.0 L 382.8 181.0 L 382.8 193.5 L 379.1 193.5 L 379.1 166.4 \" fill=\"#000000\"/>\n",
       "</svg>"
      ],
      "text/plain": [
       "<IPython.core.display.SVG object>"
      ]
     },
     "metadata": {},
     "output_type": "display_data"
    }
   ],
   "source": [
    "display(m)  # noqa"
   ]
  },
  {
   "cell_type": "markdown",
   "metadata": {},
   "source": [
    "## Explicit visualization\n",
    "\n",
    "_Explicit_ visualization is how we're describing the use of `Molecule.visualize()`. It works as one would expect:"
   ]
  },
  {
   "cell_type": "code",
   "execution_count": 4,
   "metadata": {
    "tags": []
   },
   "outputs": [
    {
     "data": {
      "image/svg+xml": [
       "<svg xmlns=\"http://www.w3.org/2000/svg\" xmlns:rdkit=\"http://www.rdkit.org/xml\" xmlns:xlink=\"http://www.w3.org/1999/xlink\" version=\"1.1\" baseProfile=\"full\" xml:space=\"preserve\" width=\"500px\" height=\"300px\" viewBox=\"0 0 500 300\">\n",
       "<!-- END OF HEADER -->\n",
       "<rect style=\"opacity:1.0;fill:#FFFFFF;stroke:none\" width=\"500.0\" height=\"300.0\" x=\"0.0\" y=\"0.0\"> </rect>\n",
       "<path class=\"bond-0 atom-0 atom-1\" d=\"M 110.8,209.0 L 166.2,177.3\" style=\"fill:none;fill-rule:evenodd;stroke:#000000;stroke-width:2.0px;stroke-linecap:butt;stroke-linejoin:miter;stroke-opacity:1\"/>\n",
       "<path class=\"bond-1 atom-1 atom-2\" d=\"M 166.2,177.3 L 221.1,209.2\" style=\"fill:none;fill-rule:evenodd;stroke:#000000;stroke-width:2.0px;stroke-linecap:butt;stroke-linejoin:miter;stroke-opacity:1\"/>\n",
       "<path class=\"bond-2 atom-2 atom-3\" d=\"M 221.1,209.2 L 276.3,177.4\" style=\"fill:none;fill-rule:evenodd;stroke:#000000;stroke-width:2.0px;stroke-linecap:butt;stroke-linejoin:miter;stroke-opacity:1\"/>\n",
       "<path class=\"bond-3 atom-3 atom-4\" d=\"M 276.3,177.4 L 276.7,153.8\" style=\"fill:none;fill-rule:evenodd;stroke:#000000;stroke-width:2.0px;stroke-linecap:butt;stroke-linejoin:miter;stroke-opacity:1\"/>\n",
       "<path class=\"bond-3 atom-3 atom-4\" d=\"M 276.7,153.8 L 277.0,130.2\" style=\"fill:none;fill-rule:evenodd;stroke:#FF0000;stroke-width:2.0px;stroke-linecap:butt;stroke-linejoin:miter;stroke-opacity:1\"/>\n",
       "<path class=\"bond-4 atom-4 atom-5\" d=\"M 291.8,105.8 L 312.5,94.3\" style=\"fill:none;fill-rule:evenodd;stroke:#FF0000;stroke-width:2.0px;stroke-linecap:butt;stroke-linejoin:miter;stroke-opacity:1\"/>\n",
       "<path class=\"bond-4 atom-4 atom-5\" d=\"M 312.5,94.3 L 333.2,82.7\" style=\"fill:none;fill-rule:evenodd;stroke:#000000;stroke-width:2.0px;stroke-linecap:butt;stroke-linejoin:miter;stroke-opacity:1\"/>\n",
       "<path class=\"bond-5 atom-5 atom-6\" d=\"M 333.2,82.7 L 389.3,115.4\" style=\"fill:none;fill-rule:evenodd;stroke:#000000;stroke-width:2.0px;stroke-linecap:butt;stroke-linejoin:miter;stroke-opacity:1\"/>\n",
       "<path class=\"bond-6 atom-0 atom-7\" d=\"M 110.8,209.0 L 88.1,169.2\" style=\"fill:none;fill-rule:evenodd;stroke:#000000;stroke-width:2.0px;stroke-linecap:butt;stroke-linejoin:miter;stroke-opacity:1\"/>\n",
       "<path class=\"bond-7 atom-0 atom-8\" d=\"M 110.8,209.0 L 59.7,208.7\" style=\"fill:none;fill-rule:evenodd;stroke:#000000;stroke-width:2.0px;stroke-linecap:butt;stroke-linejoin:miter;stroke-opacity:1\"/>\n",
       "<path class=\"bond-8 atom-0 atom-9\" d=\"M 110.8,209.0 L 110.6,257.1\" style=\"fill:none;fill-rule:evenodd;stroke:#000000;stroke-width:2.0px;stroke-linecap:butt;stroke-linejoin:miter;stroke-opacity:1\"/>\n",
       "<path class=\"bond-9 atom-1 atom-10\" d=\"M 166.2,177.3 L 189.2,137.9\" style=\"fill:none;fill-rule:evenodd;stroke:#000000;stroke-width:2.0px;stroke-linecap:butt;stroke-linejoin:miter;stroke-opacity:1\"/>\n",
       "<path class=\"bond-10 atom-1 atom-11\" d=\"M 166.2,177.3 L 143.6,137.6\" style=\"fill:none;fill-rule:evenodd;stroke:#000000;stroke-width:2.0px;stroke-linecap:butt;stroke-linejoin:miter;stroke-opacity:1\"/>\n",
       "<path class=\"bond-11 atom-2 atom-12\" d=\"M 221.1,209.2 L 198.2,248.8\" style=\"fill:none;fill-rule:evenodd;stroke:#000000;stroke-width:2.0px;stroke-linecap:butt;stroke-linejoin:miter;stroke-opacity:1\"/>\n",
       "<path class=\"bond-12 atom-2 atom-13\" d=\"M 221.1,209.2 L 244.0,248.9\" style=\"fill:none;fill-rule:evenodd;stroke:#000000;stroke-width:2.0px;stroke-linecap:butt;stroke-linejoin:miter;stroke-opacity:1\"/>\n",
       "<path class=\"bond-13 atom-3 atom-14\" d=\"M 276.3,177.4 L 299.2,217.0\" style=\"fill:none;fill-rule:evenodd;stroke:#000000;stroke-width:2.0px;stroke-linecap:butt;stroke-linejoin:miter;stroke-opacity:1\"/>\n",
       "<path class=\"bond-14 atom-3 atom-15\" d=\"M 276.3,177.4 L 325.9,177.5\" style=\"fill:none;fill-rule:evenodd;stroke:#000000;stroke-width:2.0px;stroke-linecap:butt;stroke-linejoin:miter;stroke-opacity:1\"/>\n",
       "<path class=\"bond-15 atom-5 atom-16\" d=\"M 333.2,82.7 L 310.5,42.9\" style=\"fill:none;fill-rule:evenodd;stroke:#000000;stroke-width:2.0px;stroke-linecap:butt;stroke-linejoin:miter;stroke-opacity:1\"/>\n",
       "<path class=\"bond-16 atom-5 atom-17\" d=\"M 333.2,82.7 L 356.1,43.2\" style=\"fill:none;fill-rule:evenodd;stroke:#000000;stroke-width:2.0px;stroke-linecap:butt;stroke-linejoin:miter;stroke-opacity:1\"/>\n",
       "<path class=\"bond-17 atom-6 atom-18\" d=\"M 389.3,115.4 L 412.2,75.8\" style=\"fill:none;fill-rule:evenodd;stroke:#000000;stroke-width:2.0px;stroke-linecap:butt;stroke-linejoin:miter;stroke-opacity:1\"/>\n",
       "<path class=\"bond-18 atom-6 atom-19\" d=\"M 389.3,115.4 L 440.3,115.3\" style=\"fill:none;fill-rule:evenodd;stroke:#000000;stroke-width:2.0px;stroke-linecap:butt;stroke-linejoin:miter;stroke-opacity:1\"/>\n",
       "<path class=\"bond-19 atom-6 atom-20\" d=\"M 389.3,115.4 L 389.6,164.3\" style=\"fill:none;fill-rule:evenodd;stroke:#000000;stroke-width:2.0px;stroke-linecap:butt;stroke-linejoin:miter;stroke-opacity:1\"/>\n",
       "<path class=\"atom-4\" d=\"M 264.8 114.0 Q 264.8 107.5, 268.0 103.9 Q 271.2 100.2, 277.2 100.2 Q 283.2 100.2, 286.5 103.9 Q 289.7 107.5, 289.7 114.0 Q 289.7 120.6, 286.4 124.3 Q 283.2 128.1, 277.2 128.1 Q 271.2 128.1, 268.0 124.3 Q 264.8 120.6, 264.8 114.0 M 277.2 125.0 Q 281.4 125.0, 283.6 122.2 Q 285.8 119.4, 285.8 114.0 Q 285.8 108.7, 283.6 106.0 Q 281.4 103.3, 277.2 103.3 Q 273.1 103.3, 270.8 106.0 Q 268.6 108.6, 268.6 114.0 Q 268.6 119.5, 270.8 122.2 Q 273.1 125.0, 277.2 125.0 \" fill=\"#FF0000\"/>\n",
       "<path class=\"atom-7\" d=\"M 68.6 140.0 L 72.3 140.0 L 72.3 151.5 L 86.2 151.5 L 86.2 140.0 L 89.8 140.0 L 89.8 167.1 L 86.2 167.1 L 86.2 154.6 L 72.3 154.6 L 72.3 167.1 L 68.6 167.1 L 68.6 140.0 \" fill=\"#000000\"/>\n",
       "<path class=\"atom-8\" d=\"M 36.4 195.0 L 40.1 195.0 L 40.1 206.6 L 53.9 206.6 L 53.9 195.0 L 57.6 195.0 L 57.6 222.2 L 53.9 222.2 L 53.9 209.6 L 40.1 209.6 L 40.1 222.2 L 36.4 222.2 L 36.4 195.0 \" fill=\"#000000\"/>\n",
       "<path class=\"atom-9\" d=\"M 99.9 259.3 L 103.6 259.3 L 103.6 270.8 L 117.4 270.8 L 117.4 259.3 L 121.1 259.3 L 121.1 286.4 L 117.4 286.4 L 117.4 273.8 L 103.6 273.8 L 103.6 286.4 L 99.9 286.4 L 99.9 259.3 \" fill=\"#000000\"/>\n",
       "<path class=\"atom-10\" d=\"M 187.8 108.7 L 191.5 108.7 L 191.5 120.2 L 205.3 120.2 L 205.3 108.7 L 209.0 108.7 L 209.0 135.8 L 205.3 135.8 L 205.3 123.3 L 191.5 123.3 L 191.5 135.8 L 187.8 135.8 L 187.8 108.7 \" fill=\"#000000\"/>\n",
       "<path class=\"atom-11\" d=\"M 124.0 108.4 L 127.7 108.4 L 127.7 119.9 L 141.6 119.9 L 141.6 108.4 L 145.3 108.4 L 145.3 135.5 L 141.6 135.5 L 141.6 122.9 L 127.7 122.9 L 127.7 135.5 L 124.0 135.5 L 124.0 108.4 \" fill=\"#000000\"/>\n",
       "<path class=\"atom-12\" d=\"M 178.5 250.9 L 182.2 250.9 L 182.2 262.4 L 196.0 262.4 L 196.0 250.9 L 199.7 250.9 L 199.7 278.0 L 196.0 278.0 L 196.0 265.5 L 182.2 265.5 L 182.2 278.0 L 178.5 278.0 L 178.5 250.9 \" fill=\"#000000\"/>\n",
       "<path class=\"atom-13\" d=\"M 242.4 251.0 L 246.1 251.0 L 246.1 262.5 L 260.0 262.5 L 260.0 251.0 L 263.7 251.0 L 263.7 278.1 L 260.0 278.1 L 260.0 265.6 L 246.1 265.6 L 246.1 278.1 L 242.4 278.1 L 242.4 251.0 \" fill=\"#000000\"/>\n",
       "<path class=\"atom-14\" d=\"M 297.7 219.1 L 301.4 219.1 L 301.4 230.7 L 315.2 230.7 L 315.2 219.1 L 318.9 219.1 L 318.9 246.2 L 315.2 246.2 L 315.2 233.7 L 301.4 233.7 L 301.4 246.2 L 297.7 246.2 L 297.7 219.1 \" fill=\"#000000\"/>\n",
       "<path class=\"atom-15\" d=\"M 328.0 164.0 L 331.7 164.0 L 331.7 175.5 L 345.6 175.5 L 345.6 164.0 L 349.2 164.0 L 349.2 191.1 L 345.6 191.1 L 345.6 178.6 L 331.7 178.6 L 331.7 191.1 L 328.0 191.1 L 328.0 164.0 \" fill=\"#000000\"/>\n",
       "<path class=\"atom-16\" d=\"M 291.0 13.6 L 294.7 13.6 L 294.7 25.2 L 308.5 25.2 L 308.5 13.6 L 312.2 13.6 L 312.2 40.7 L 308.5 40.7 L 308.5 28.2 L 294.7 28.2 L 294.7 40.7 L 291.0 40.7 L 291.0 13.6 \" fill=\"#000000\"/>\n",
       "<path class=\"atom-17\" d=\"M 354.6 14.0 L 358.3 14.0 L 358.3 25.5 L 372.2 25.5 L 372.2 14.0 L 375.8 14.0 L 375.8 41.1 L 372.2 41.1 L 372.2 28.6 L 358.3 28.6 L 358.3 41.1 L 354.6 41.1 L 354.6 14.0 \" fill=\"#000000\"/>\n",
       "<path class=\"atom-18\" d=\"M 410.6 46.5 L 414.3 46.5 L 414.3 58.1 L 428.2 58.1 L 428.2 46.5 L 431.8 46.5 L 431.8 73.6 L 428.2 73.6 L 428.2 61.1 L 414.3 61.1 L 414.3 73.6 L 410.6 73.6 L 410.6 46.5 \" fill=\"#000000\"/>\n",
       "<path class=\"atom-19\" d=\"M 442.4 101.7 L 446.1 101.7 L 446.1 113.2 L 459.9 113.2 L 459.9 101.7 L 463.6 101.7 L 463.6 128.8 L 459.9 128.8 L 459.9 116.3 L 446.1 116.3 L 446.1 128.8 L 442.4 128.8 L 442.4 101.7 \" fill=\"#000000\"/>\n",
       "<path class=\"atom-20\" d=\"M 379.1 166.4 L 382.8 166.4 L 382.8 177.9 L 396.6 177.9 L 396.6 166.4 L 400.3 166.4 L 400.3 193.5 L 396.6 193.5 L 396.6 181.0 L 382.8 181.0 L 382.8 193.5 L 379.1 193.5 L 379.1 166.4 \" fill=\"#000000\"/>\n",
       "</svg>"
      ],
      "text/plain": [
       "<IPython.core.display.SVG object>"
      ]
     },
     "execution_count": 4,
     "metadata": {},
     "output_type": "execute_result"
    }
   ],
   "source": [
    "m.visualize()"
   ]
  },
  {
   "cell_type": "markdown",
   "metadata": {},
   "source": [
    "This method can take a `backend` parameter, which defaults to `rdkit`:"
   ]
  },
  {
   "cell_type": "code",
   "execution_count": 5,
   "metadata": {
    "scrolled": true,
    "tags": []
   },
   "outputs": [
    {
     "data": {
      "image/svg+xml": [
       "<svg xmlns=\"http://www.w3.org/2000/svg\" xmlns:rdkit=\"http://www.rdkit.org/xml\" xmlns:xlink=\"http://www.w3.org/1999/xlink\" version=\"1.1\" baseProfile=\"full\" xml:space=\"preserve\" width=\"500px\" height=\"300px\" viewBox=\"0 0 500 300\">\n",
       "<!-- END OF HEADER -->\n",
       "<rect style=\"opacity:1.0;fill:#FFFFFF;stroke:none\" width=\"500.0\" height=\"300.0\" x=\"0.0\" y=\"0.0\"> </rect>\n",
       "<path class=\"bond-0 atom-0 atom-1\" d=\"M 110.8,209.0 L 166.2,177.3\" style=\"fill:none;fill-rule:evenodd;stroke:#000000;stroke-width:2.0px;stroke-linecap:butt;stroke-linejoin:miter;stroke-opacity:1\"/>\n",
       "<path class=\"bond-1 atom-1 atom-2\" d=\"M 166.2,177.3 L 221.1,209.2\" style=\"fill:none;fill-rule:evenodd;stroke:#000000;stroke-width:2.0px;stroke-linecap:butt;stroke-linejoin:miter;stroke-opacity:1\"/>\n",
       "<path class=\"bond-2 atom-2 atom-3\" d=\"M 221.1,209.2 L 276.3,177.4\" style=\"fill:none;fill-rule:evenodd;stroke:#000000;stroke-width:2.0px;stroke-linecap:butt;stroke-linejoin:miter;stroke-opacity:1\"/>\n",
       "<path class=\"bond-3 atom-3 atom-4\" d=\"M 276.3,177.4 L 276.7,153.8\" style=\"fill:none;fill-rule:evenodd;stroke:#000000;stroke-width:2.0px;stroke-linecap:butt;stroke-linejoin:miter;stroke-opacity:1\"/>\n",
       "<path class=\"bond-3 atom-3 atom-4\" d=\"M 276.7,153.8 L 277.0,130.2\" style=\"fill:none;fill-rule:evenodd;stroke:#FF0000;stroke-width:2.0px;stroke-linecap:butt;stroke-linejoin:miter;stroke-opacity:1\"/>\n",
       "<path class=\"bond-4 atom-4 atom-5\" d=\"M 291.8,105.8 L 312.5,94.3\" style=\"fill:none;fill-rule:evenodd;stroke:#FF0000;stroke-width:2.0px;stroke-linecap:butt;stroke-linejoin:miter;stroke-opacity:1\"/>\n",
       "<path class=\"bond-4 atom-4 atom-5\" d=\"M 312.5,94.3 L 333.2,82.7\" style=\"fill:none;fill-rule:evenodd;stroke:#000000;stroke-width:2.0px;stroke-linecap:butt;stroke-linejoin:miter;stroke-opacity:1\"/>\n",
       "<path class=\"bond-5 atom-5 atom-6\" d=\"M 333.2,82.7 L 389.3,115.4\" style=\"fill:none;fill-rule:evenodd;stroke:#000000;stroke-width:2.0px;stroke-linecap:butt;stroke-linejoin:miter;stroke-opacity:1\"/>\n",
       "<path class=\"bond-6 atom-0 atom-7\" d=\"M 110.8,209.0 L 88.1,169.2\" style=\"fill:none;fill-rule:evenodd;stroke:#000000;stroke-width:2.0px;stroke-linecap:butt;stroke-linejoin:miter;stroke-opacity:1\"/>\n",
       "<path class=\"bond-7 atom-0 atom-8\" d=\"M 110.8,209.0 L 59.7,208.7\" style=\"fill:none;fill-rule:evenodd;stroke:#000000;stroke-width:2.0px;stroke-linecap:butt;stroke-linejoin:miter;stroke-opacity:1\"/>\n",
       "<path class=\"bond-8 atom-0 atom-9\" d=\"M 110.8,209.0 L 110.6,257.1\" style=\"fill:none;fill-rule:evenodd;stroke:#000000;stroke-width:2.0px;stroke-linecap:butt;stroke-linejoin:miter;stroke-opacity:1\"/>\n",
       "<path class=\"bond-9 atom-1 atom-10\" d=\"M 166.2,177.3 L 189.2,137.9\" style=\"fill:none;fill-rule:evenodd;stroke:#000000;stroke-width:2.0px;stroke-linecap:butt;stroke-linejoin:miter;stroke-opacity:1\"/>\n",
       "<path class=\"bond-10 atom-1 atom-11\" d=\"M 166.2,177.3 L 143.6,137.6\" style=\"fill:none;fill-rule:evenodd;stroke:#000000;stroke-width:2.0px;stroke-linecap:butt;stroke-linejoin:miter;stroke-opacity:1\"/>\n",
       "<path class=\"bond-11 atom-2 atom-12\" d=\"M 221.1,209.2 L 198.2,248.8\" style=\"fill:none;fill-rule:evenodd;stroke:#000000;stroke-width:2.0px;stroke-linecap:butt;stroke-linejoin:miter;stroke-opacity:1\"/>\n",
       "<path class=\"bond-12 atom-2 atom-13\" d=\"M 221.1,209.2 L 244.0,248.9\" style=\"fill:none;fill-rule:evenodd;stroke:#000000;stroke-width:2.0px;stroke-linecap:butt;stroke-linejoin:miter;stroke-opacity:1\"/>\n",
       "<path class=\"bond-13 atom-3 atom-14\" d=\"M 276.3,177.4 L 299.2,217.0\" style=\"fill:none;fill-rule:evenodd;stroke:#000000;stroke-width:2.0px;stroke-linecap:butt;stroke-linejoin:miter;stroke-opacity:1\"/>\n",
       "<path class=\"bond-14 atom-3 atom-15\" d=\"M 276.3,177.4 L 325.9,177.5\" style=\"fill:none;fill-rule:evenodd;stroke:#000000;stroke-width:2.0px;stroke-linecap:butt;stroke-linejoin:miter;stroke-opacity:1\"/>\n",
       "<path class=\"bond-15 atom-5 atom-16\" d=\"M 333.2,82.7 L 310.5,42.9\" style=\"fill:none;fill-rule:evenodd;stroke:#000000;stroke-width:2.0px;stroke-linecap:butt;stroke-linejoin:miter;stroke-opacity:1\"/>\n",
       "<path class=\"bond-16 atom-5 atom-17\" d=\"M 333.2,82.7 L 356.1,43.2\" style=\"fill:none;fill-rule:evenodd;stroke:#000000;stroke-width:2.0px;stroke-linecap:butt;stroke-linejoin:miter;stroke-opacity:1\"/>\n",
       "<path class=\"bond-17 atom-6 atom-18\" d=\"M 389.3,115.4 L 412.2,75.8\" style=\"fill:none;fill-rule:evenodd;stroke:#000000;stroke-width:2.0px;stroke-linecap:butt;stroke-linejoin:miter;stroke-opacity:1\"/>\n",
       "<path class=\"bond-18 atom-6 atom-19\" d=\"M 389.3,115.4 L 440.3,115.3\" style=\"fill:none;fill-rule:evenodd;stroke:#000000;stroke-width:2.0px;stroke-linecap:butt;stroke-linejoin:miter;stroke-opacity:1\"/>\n",
       "<path class=\"bond-19 atom-6 atom-20\" d=\"M 389.3,115.4 L 389.6,164.3\" style=\"fill:none;fill-rule:evenodd;stroke:#000000;stroke-width:2.0px;stroke-linecap:butt;stroke-linejoin:miter;stroke-opacity:1\"/>\n",
       "<path class=\"atom-4\" d=\"M 264.8 114.0 Q 264.8 107.5, 268.0 103.9 Q 271.2 100.2, 277.2 100.2 Q 283.2 100.2, 286.5 103.9 Q 289.7 107.5, 289.7 114.0 Q 289.7 120.6, 286.4 124.3 Q 283.2 128.1, 277.2 128.1 Q 271.2 128.1, 268.0 124.3 Q 264.8 120.6, 264.8 114.0 M 277.2 125.0 Q 281.4 125.0, 283.6 122.2 Q 285.8 119.4, 285.8 114.0 Q 285.8 108.7, 283.6 106.0 Q 281.4 103.3, 277.2 103.3 Q 273.1 103.3, 270.8 106.0 Q 268.6 108.6, 268.6 114.0 Q 268.6 119.5, 270.8 122.2 Q 273.1 125.0, 277.2 125.0 \" fill=\"#FF0000\"/>\n",
       "<path class=\"atom-7\" d=\"M 68.6 140.0 L 72.3 140.0 L 72.3 151.5 L 86.2 151.5 L 86.2 140.0 L 89.8 140.0 L 89.8 167.1 L 86.2 167.1 L 86.2 154.6 L 72.3 154.6 L 72.3 167.1 L 68.6 167.1 L 68.6 140.0 \" fill=\"#000000\"/>\n",
       "<path class=\"atom-8\" d=\"M 36.4 195.0 L 40.1 195.0 L 40.1 206.6 L 53.9 206.6 L 53.9 195.0 L 57.6 195.0 L 57.6 222.2 L 53.9 222.2 L 53.9 209.6 L 40.1 209.6 L 40.1 222.2 L 36.4 222.2 L 36.4 195.0 \" fill=\"#000000\"/>\n",
       "<path class=\"atom-9\" d=\"M 99.9 259.3 L 103.6 259.3 L 103.6 270.8 L 117.4 270.8 L 117.4 259.3 L 121.1 259.3 L 121.1 286.4 L 117.4 286.4 L 117.4 273.8 L 103.6 273.8 L 103.6 286.4 L 99.9 286.4 L 99.9 259.3 \" fill=\"#000000\"/>\n",
       "<path class=\"atom-10\" d=\"M 187.8 108.7 L 191.5 108.7 L 191.5 120.2 L 205.3 120.2 L 205.3 108.7 L 209.0 108.7 L 209.0 135.8 L 205.3 135.8 L 205.3 123.3 L 191.5 123.3 L 191.5 135.8 L 187.8 135.8 L 187.8 108.7 \" fill=\"#000000\"/>\n",
       "<path class=\"atom-11\" d=\"M 124.0 108.4 L 127.7 108.4 L 127.7 119.9 L 141.6 119.9 L 141.6 108.4 L 145.3 108.4 L 145.3 135.5 L 141.6 135.5 L 141.6 122.9 L 127.7 122.9 L 127.7 135.5 L 124.0 135.5 L 124.0 108.4 \" fill=\"#000000\"/>\n",
       "<path class=\"atom-12\" d=\"M 178.5 250.9 L 182.2 250.9 L 182.2 262.4 L 196.0 262.4 L 196.0 250.9 L 199.7 250.9 L 199.7 278.0 L 196.0 278.0 L 196.0 265.5 L 182.2 265.5 L 182.2 278.0 L 178.5 278.0 L 178.5 250.9 \" fill=\"#000000\"/>\n",
       "<path class=\"atom-13\" d=\"M 242.4 251.0 L 246.1 251.0 L 246.1 262.5 L 260.0 262.5 L 260.0 251.0 L 263.7 251.0 L 263.7 278.1 L 260.0 278.1 L 260.0 265.6 L 246.1 265.6 L 246.1 278.1 L 242.4 278.1 L 242.4 251.0 \" fill=\"#000000\"/>\n",
       "<path class=\"atom-14\" d=\"M 297.7 219.1 L 301.4 219.1 L 301.4 230.7 L 315.2 230.7 L 315.2 219.1 L 318.9 219.1 L 318.9 246.2 L 315.2 246.2 L 315.2 233.7 L 301.4 233.7 L 301.4 246.2 L 297.7 246.2 L 297.7 219.1 \" fill=\"#000000\"/>\n",
       "<path class=\"atom-15\" d=\"M 328.0 164.0 L 331.7 164.0 L 331.7 175.5 L 345.6 175.5 L 345.6 164.0 L 349.2 164.0 L 349.2 191.1 L 345.6 191.1 L 345.6 178.6 L 331.7 178.6 L 331.7 191.1 L 328.0 191.1 L 328.0 164.0 \" fill=\"#000000\"/>\n",
       "<path class=\"atom-16\" d=\"M 291.0 13.6 L 294.7 13.6 L 294.7 25.2 L 308.5 25.2 L 308.5 13.6 L 312.2 13.6 L 312.2 40.7 L 308.5 40.7 L 308.5 28.2 L 294.7 28.2 L 294.7 40.7 L 291.0 40.7 L 291.0 13.6 \" fill=\"#000000\"/>\n",
       "<path class=\"atom-17\" d=\"M 354.6 14.0 L 358.3 14.0 L 358.3 25.5 L 372.2 25.5 L 372.2 14.0 L 375.8 14.0 L 375.8 41.1 L 372.2 41.1 L 372.2 28.6 L 358.3 28.6 L 358.3 41.1 L 354.6 41.1 L 354.6 14.0 \" fill=\"#000000\"/>\n",
       "<path class=\"atom-18\" d=\"M 410.6 46.5 L 414.3 46.5 L 414.3 58.1 L 428.2 58.1 L 428.2 46.5 L 431.8 46.5 L 431.8 73.6 L 428.2 73.6 L 428.2 61.1 L 414.3 61.1 L 414.3 73.6 L 410.6 73.6 L 410.6 46.5 \" fill=\"#000000\"/>\n",
       "<path class=\"atom-19\" d=\"M 442.4 101.7 L 446.1 101.7 L 446.1 113.2 L 459.9 113.2 L 459.9 101.7 L 463.6 101.7 L 463.6 128.8 L 459.9 128.8 L 459.9 116.3 L 446.1 116.3 L 446.1 128.8 L 442.4 128.8 L 442.4 101.7 \" fill=\"#000000\"/>\n",
       "<path class=\"atom-20\" d=\"M 379.1 166.4 L 382.8 166.4 L 382.8 177.9 L 396.6 177.9 L 396.6 166.4 L 400.3 166.4 L 400.3 193.5 L 396.6 193.5 L 396.6 181.0 L 382.8 181.0 L 382.8 193.5 L 379.1 193.5 L 379.1 166.4 \" fill=\"#000000\"/>\n",
       "</svg>"
      ],
      "text/plain": [
       "<IPython.core.display.SVG object>"
      ]
     },
     "execution_count": 5,
     "metadata": {},
     "output_type": "execute_result"
    }
   ],
   "source": [
    "m.visualize(backend=\"rdkit\")"
   ]
  },
  {
   "cell_type": "markdown",
   "metadata": {},
   "source": [
    "`openeye` can also be used, if available:"
   ]
  },
  {
   "cell_type": "code",
   "execution_count": 6,
   "metadata": {
    "tags": []
   },
   "outputs": [
    {
     "name": "stdout",
     "output_type": "stream",
     "text": [
      "Visualizing with `backend=\"openeye\"` requires the OpenEye Toolkits\n"
     ]
    }
   ],
   "source": [
    "try:\n",
    "    from openeye import oechem\n",
    "\n",
    "    assert oechem.OEChemIsLicensed()\n",
    "\n",
    "    m.visualize(backend=\"openeye\")\n",
    "except (ImportError, AssertionError):\n",
    "    print('Visualizing with `backend=\"openeye\"` requires the OpenEye Toolkits')"
   ]
  },
  {
   "cell_type": "markdown",
   "metadata": {},
   "source": [
    "`nglview`, if installed, can only be used if conformers have been generated:"
   ]
  },
  {
   "cell_type": "code",
   "execution_count": 7,
   "metadata": {
    "tags": [
     "nbval-skip"
    ]
   },
   "outputs": [
    {
     "name": "stdout",
     "output_type": "stream",
     "text": [
      "Visualizing with NGLview requires that the molecule has conformers, found self.conformers=None\n",
      "this molecule has m.n_conformers=0\n"
     ]
    }
   ],
   "source": [
    "try:\n",
    "    m.visualize(backend=\"nglview\")  # this will fail because we have no conformers yet\n",
    "except ValueError as excinfo:\n",
    "    print(str(excinfo))\n",
    "    print(f\"this molecule has {m.n_conformers=}\")"
   ]
  },
  {
   "cell_type": "markdown",
   "metadata": {},
   "source": [
    "But, once you generate them, it works! You can zoom in/out, rotate and translate the molecule. You can even inspect the different conformers (if available) using the trajectory player:"
   ]
  },
  {
   "cell_type": "code",
   "execution_count": 8,
   "metadata": {
    "tags": []
   },
   "outputs": [
    {
     "data": {
      "application/vnd.jupyter.widget-view+json": {
       "model_id": "68dd600a1bf3446aa1d76e801b72b200",
       "version_major": 2,
       "version_minor": 0
      },
      "text/plain": [
       "NGLWidget()"
      ]
     },
     "metadata": {},
     "output_type": "display_data"
    }
   ],
   "source": [
    "m.generate_conformers()\n",
    "m.visualize(backend=\"nglview\")"
   ]
  },
  {
   "cell_type": "markdown",
   "metadata": {},
   "source": [
    "For example, a benzene molecule will not typically have multiple conformers, so you won't see the trajectory player."
   ]
  },
  {
   "cell_type": "code",
   "execution_count": 9,
   "metadata": {
    "tags": [
     "nbval-skip"
    ]
   },
   "outputs": [
    {
     "data": {
      "application/vnd.jupyter.widget-view+json": {
       "model_id": "e03fd55d7b014518b4e15e6224830773",
       "version_major": 2,
       "version_minor": 0
      },
      "text/plain": [
       "NGLWidget()"
      ]
     },
     "metadata": {},
     "output_type": "display_data"
    }
   ],
   "source": [
    "benzene = Molecule.from_smiles(\"c1ccccc1\")\n",
    "benzene.generate_conformers()\n",
    "benzene"
   ]
  },
  {
   "cell_type": "markdown",
   "metadata": {},
   "source": [
    "Notice that, once conformers are available, the implicit representation will use `nglview` to provide a 3D visualization."
   ]
  },
  {
   "cell_type": "markdown",
   "metadata": {},
   "source": [
    "It's also possible with any backend to hide non-polar hydrogens, which may produce a more readable image:"
   ]
  },
  {
   "cell_type": "code",
   "execution_count": 10,
   "metadata": {
    "tags": []
   },
   "outputs": [
    {
     "data": {
      "application/vnd.jupyter.widget-view+json": {
       "model_id": "39ebf093f98a4d1a9a08208e5cd468ad",
       "version_major": 2,
       "version_minor": 0
      },
      "text/plain": [
       "NGLWidget()"
      ]
     },
     "metadata": {},
     "output_type": "display_data"
    }
   ],
   "source": [
    "m.visualize(backend=\"nglview\", show_all_hydrogens=False)"
   ]
  },
  {
   "cell_type": "code",
   "execution_count": 11,
   "metadata": {
    "scrolled": true,
    "tags": []
   },
   "outputs": [
    {
     "data": {
      "image/svg+xml": [
       "<svg xmlns=\"http://www.w3.org/2000/svg\" xmlns:rdkit=\"http://www.rdkit.org/xml\" xmlns:xlink=\"http://www.w3.org/1999/xlink\" version=\"1.1\" baseProfile=\"full\" xml:space=\"preserve\" width=\"500px\" height=\"300px\" viewBox=\"0 0 500 300\">\n",
       "<!-- END OF HEADER -->\n",
       "<rect style=\"opacity:1.0;fill:#FFFFFF;stroke:none\" width=\"500.0\" height=\"300.0\" x=\"0.0\" y=\"0.0\"> </rect>\n",
       "<path class=\"bond-0 atom-0 atom-1\" d=\"M 477.3,164.8 L 401.6,121.0\" style=\"fill:none;fill-rule:evenodd;stroke:#000000;stroke-width:2.0px;stroke-linecap:butt;stroke-linejoin:miter;stroke-opacity:1\"/>\n",
       "<path class=\"bond-1 atom-1 atom-2\" d=\"M 401.6,121.0 L 325.8,164.6\" style=\"fill:none;fill-rule:evenodd;stroke:#000000;stroke-width:2.0px;stroke-linecap:butt;stroke-linejoin:miter;stroke-opacity:1\"/>\n",
       "<path class=\"bond-2 atom-2 atom-3\" d=\"M 325.8,164.6 L 250.0,120.8\" style=\"fill:none;fill-rule:evenodd;stroke:#000000;stroke-width:2.0px;stroke-linecap:butt;stroke-linejoin:miter;stroke-opacity:1\"/>\n",
       "<path class=\"bond-3 atom-3 atom-4\" d=\"M 250.0,120.8 L 220.1,138.1\" style=\"fill:none;fill-rule:evenodd;stroke:#000000;stroke-width:2.0px;stroke-linecap:butt;stroke-linejoin:miter;stroke-opacity:1\"/>\n",
       "<path class=\"bond-3 atom-3 atom-4\" d=\"M 220.1,138.1 L 190.1,155.4\" style=\"fill:none;fill-rule:evenodd;stroke:#FF0000;stroke-width:2.0px;stroke-linecap:butt;stroke-linejoin:miter;stroke-opacity:1\"/>\n",
       "<path class=\"bond-4 atom-4 atom-5\" d=\"M 158.4,155.3 L 128.4,138.0\" style=\"fill:none;fill-rule:evenodd;stroke:#FF0000;stroke-width:2.0px;stroke-linecap:butt;stroke-linejoin:miter;stroke-opacity:1\"/>\n",
       "<path class=\"bond-4 atom-4 atom-5\" d=\"M 128.4,138.0 L 98.5,120.7\" style=\"fill:none;fill-rule:evenodd;stroke:#000000;stroke-width:2.0px;stroke-linecap:butt;stroke-linejoin:miter;stroke-opacity:1\"/>\n",
       "<path class=\"bond-5 atom-5 atom-6\" d=\"M 98.5,120.7 L 22.7,164.4\" style=\"fill:none;fill-rule:evenodd;stroke:#000000;stroke-width:2.0px;stroke-linecap:butt;stroke-linejoin:miter;stroke-opacity:1\"/>\n",
       "<path d=\"M 405.3,123.1 L 401.6,121.0 L 397.8,123.1\" style=\"fill:none;stroke:#000000;stroke-width:2.0px;stroke-linecap:butt;stroke-linejoin:miter;stroke-opacity:1;\"/>\n",
       "<path d=\"M 329.5,162.5 L 325.8,164.6 L 322.0,162.4\" style=\"fill:none;stroke:#000000;stroke-width:2.0px;stroke-linecap:butt;stroke-linejoin:miter;stroke-opacity:1;\"/>\n",
       "<path d=\"M 253.8,123.0 L 250.0,120.8 L 248.5,121.7\" style=\"fill:none;stroke:#000000;stroke-width:2.0px;stroke-linecap:butt;stroke-linejoin:miter;stroke-opacity:1;\"/>\n",
       "<path d=\"M 100.0,121.6 L 98.5,120.7 L 94.7,122.9\" style=\"fill:none;stroke:#000000;stroke-width:2.0px;stroke-linecap:butt;stroke-linejoin:miter;stroke-opacity:1;\"/>\n",
       "<path class=\"atom-4\" d=\"M 161.2 164.6 Q 161.2 157.8, 164.6 154.0 Q 168.0 150.2, 174.2 150.2 Q 180.5 150.2, 183.9 154.0 Q 187.2 157.8, 187.2 164.6 Q 187.2 171.5, 183.8 175.4 Q 180.4 179.3, 174.2 179.3 Q 168.0 179.3, 164.6 175.4 Q 161.2 171.5, 161.2 164.6 M 174.2 176.1 Q 178.6 176.1, 180.9 173.2 Q 183.2 170.3, 183.2 164.6 Q 183.2 159.0, 180.9 156.2 Q 178.6 153.4, 174.2 153.4 Q 169.9 153.4, 167.6 156.2 Q 165.2 159.0, 165.2 164.6 Q 165.2 170.3, 167.6 173.2 Q 169.9 176.1, 174.2 176.1 \" fill=\"#FF0000\"/>\n",
       "</svg>"
      ],
      "text/plain": [
       "<IPython.core.display.SVG object>"
      ]
     },
     "execution_count": 11,
     "metadata": {},
     "output_type": "execute_result"
    }
   ],
   "source": [
    "m.visualize(backend=\"rdkit\", show_all_hydrogens=False)"
   ]
  },
  {
   "cell_type": "markdown",
   "metadata": {},
   "source": [
    "If you're using a strangely-shaped molecule or otherwise want the display to be larger or smaller, you can fiddle with the `width` and `height` arguments (defaults are 500 and 300). These arguments are ignored with the NGLview backend."
   ]
  },
  {
   "cell_type": "code",
   "execution_count": 12,
   "metadata": {},
   "outputs": [
    {
     "data": {
      "image/svg+xml": [
       "<svg xmlns=\"http://www.w3.org/2000/svg\" xmlns:rdkit=\"http://www.rdkit.org/xml\" xmlns:xlink=\"http://www.w3.org/1999/xlink\" version=\"1.1\" baseProfile=\"full\" xml:space=\"preserve\" width=\"1000px\" height=\"100px\" viewBox=\"0 0 1000 100\">\n",
       "<!-- END OF HEADER -->\n",
       "<rect style=\"opacity:1.0;fill:#FFFFFF;stroke:none\" width=\"1000.0\" height=\"100.0\" x=\"0.0\" y=\"0.0\"> </rect>\n",
       "<path class=\"bond-0 atom-0 atom-1\" d=\"M 954.5,56.9 L 929.1,42.2\" style=\"fill:none;fill-rule:evenodd;stroke:#000000;stroke-width:2.0px;stroke-linecap:butt;stroke-linejoin:miter;stroke-opacity:1\"/>\n",
       "<path class=\"bond-1 atom-1 atom-2\" d=\"M 929.1,42.2 L 919.7,47.6\" style=\"fill:none;fill-rule:evenodd;stroke:#000000;stroke-width:2.0px;stroke-linecap:butt;stroke-linejoin:miter;stroke-opacity:1\"/>\n",
       "<path class=\"bond-1 atom-1 atom-2\" d=\"M 919.7,47.6 L 910.3,53.0\" style=\"fill:none;fill-rule:evenodd;stroke:#FF0000;stroke-width:2.0px;stroke-linecap:butt;stroke-linejoin:miter;stroke-opacity:1\"/>\n",
       "<path class=\"bond-2 atom-2 atom-3\" d=\"M 896.9,53.1 L 887.5,47.6\" style=\"fill:none;fill-rule:evenodd;stroke:#FF0000;stroke-width:2.0px;stroke-linecap:butt;stroke-linejoin:miter;stroke-opacity:1\"/>\n",
       "<path class=\"bond-2 atom-2 atom-3\" d=\"M 887.5,47.6 L 878.2,42.2\" style=\"fill:none;fill-rule:evenodd;stroke:#000000;stroke-width:2.0px;stroke-linecap:butt;stroke-linejoin:miter;stroke-opacity:1\"/>\n",
       "<path class=\"bond-3 atom-3 atom-4\" d=\"M 878.2,42.2 L 852.7,57.0\" style=\"fill:none;fill-rule:evenodd;stroke:#000000;stroke-width:2.0px;stroke-linecap:butt;stroke-linejoin:miter;stroke-opacity:1\"/>\n",
       "<path class=\"bond-4 atom-4 atom-5\" d=\"M 852.7,57.0 L 843.3,51.5\" style=\"fill:none;fill-rule:evenodd;stroke:#000000;stroke-width:2.0px;stroke-linecap:butt;stroke-linejoin:miter;stroke-opacity:1\"/>\n",
       "<path class=\"bond-4 atom-4 atom-5\" d=\"M 843.3,51.5 L 833.9,46.1\" style=\"fill:none;fill-rule:evenodd;stroke:#FF0000;stroke-width:2.0px;stroke-linecap:butt;stroke-linejoin:miter;stroke-opacity:1\"/>\n",
       "<path class=\"bond-5 atom-5 atom-6\" d=\"M 820.5,46.2 L 811.2,51.6\" style=\"fill:none;fill-rule:evenodd;stroke:#FF0000;stroke-width:2.0px;stroke-linecap:butt;stroke-linejoin:miter;stroke-opacity:1\"/>\n",
       "<path class=\"bond-5 atom-5 atom-6\" d=\"M 811.2,51.6 L 801.8,57.0\" style=\"fill:none;fill-rule:evenodd;stroke:#000000;stroke-width:2.0px;stroke-linecap:butt;stroke-linejoin:miter;stroke-opacity:1\"/>\n",
       "<path class=\"bond-6 atom-6 atom-7\" d=\"M 801.8,57.0 L 776.3,42.3\" style=\"fill:none;fill-rule:evenodd;stroke:#000000;stroke-width:2.0px;stroke-linecap:butt;stroke-linejoin:miter;stroke-opacity:1\"/>\n",
       "<path class=\"bond-7 atom-7 atom-8\" d=\"M 776.3,42.3 L 767.0,47.7\" style=\"fill:none;fill-rule:evenodd;stroke:#000000;stroke-width:2.0px;stroke-linecap:butt;stroke-linejoin:miter;stroke-opacity:1\"/>\n",
       "<path class=\"bond-7 atom-7 atom-8\" d=\"M 767.0,47.7 L 757.6,53.2\" style=\"fill:none;fill-rule:evenodd;stroke:#FF0000;stroke-width:2.0px;stroke-linecap:butt;stroke-linejoin:miter;stroke-opacity:1\"/>\n",
       "<path class=\"bond-8 atom-8 atom-9\" d=\"M 744.2,53.2 L 734.8,47.8\" style=\"fill:none;fill-rule:evenodd;stroke:#FF0000;stroke-width:2.0px;stroke-linecap:butt;stroke-linejoin:miter;stroke-opacity:1\"/>\n",
       "<path class=\"bond-8 atom-8 atom-9\" d=\"M 734.8,47.8 L 725.4,42.4\" style=\"fill:none;fill-rule:evenodd;stroke:#000000;stroke-width:2.0px;stroke-linecap:butt;stroke-linejoin:miter;stroke-opacity:1\"/>\n",
       "<path class=\"bond-9 atom-9 atom-10\" d=\"M 725.4,42.4 L 700.0,57.1\" style=\"fill:none;fill-rule:evenodd;stroke:#000000;stroke-width:2.0px;stroke-linecap:butt;stroke-linejoin:miter;stroke-opacity:1\"/>\n",
       "<path class=\"bond-10 atom-10 atom-11\" d=\"M 700.0,57.1 L 690.6,51.7\" style=\"fill:none;fill-rule:evenodd;stroke:#000000;stroke-width:2.0px;stroke-linecap:butt;stroke-linejoin:miter;stroke-opacity:1\"/>\n",
       "<path class=\"bond-10 atom-10 atom-11\" d=\"M 690.6,51.7 L 681.2,46.3\" style=\"fill:none;fill-rule:evenodd;stroke:#FF0000;stroke-width:2.0px;stroke-linecap:butt;stroke-linejoin:miter;stroke-opacity:1\"/>\n",
       "<path class=\"bond-11 atom-11 atom-12\" d=\"M 667.8,46.3 L 658.4,51.7\" style=\"fill:none;fill-rule:evenodd;stroke:#FF0000;stroke-width:2.0px;stroke-linecap:butt;stroke-linejoin:miter;stroke-opacity:1\"/>\n",
       "<path class=\"bond-11 atom-11 atom-12\" d=\"M 658.4,51.7 L 649.1,57.1\" style=\"fill:none;fill-rule:evenodd;stroke:#000000;stroke-width:2.0px;stroke-linecap:butt;stroke-linejoin:miter;stroke-opacity:1\"/>\n",
       "<path class=\"bond-12 atom-12 atom-13\" d=\"M 649.1,57.1 L 623.6,42.4\" style=\"fill:none;fill-rule:evenodd;stroke:#000000;stroke-width:2.0px;stroke-linecap:butt;stroke-linejoin:miter;stroke-opacity:1\"/>\n",
       "<path class=\"bond-13 atom-13 atom-14\" d=\"M 623.6,42.4 L 614.2,47.9\" style=\"fill:none;fill-rule:evenodd;stroke:#000000;stroke-width:2.0px;stroke-linecap:butt;stroke-linejoin:miter;stroke-opacity:1\"/>\n",
       "<path class=\"bond-13 atom-13 atom-14\" d=\"M 614.2,47.9 L 604.8,53.3\" style=\"fill:none;fill-rule:evenodd;stroke:#FF0000;stroke-width:2.0px;stroke-linecap:butt;stroke-linejoin:miter;stroke-opacity:1\"/>\n",
       "<path class=\"bond-14 atom-14 atom-15\" d=\"M 591.4,53.3 L 582.1,47.9\" style=\"fill:none;fill-rule:evenodd;stroke:#FF0000;stroke-width:2.0px;stroke-linecap:butt;stroke-linejoin:miter;stroke-opacity:1\"/>\n",
       "<path class=\"bond-14 atom-14 atom-15\" d=\"M 582.1,47.9 L 572.7,42.5\" style=\"fill:none;fill-rule:evenodd;stroke:#000000;stroke-width:2.0px;stroke-linecap:butt;stroke-linejoin:miter;stroke-opacity:1\"/>\n",
       "<path class=\"bond-15 atom-15 atom-16\" d=\"M 572.7,42.5 L 547.2,57.2\" style=\"fill:none;fill-rule:evenodd;stroke:#000000;stroke-width:2.0px;stroke-linecap:butt;stroke-linejoin:miter;stroke-opacity:1\"/>\n",
       "<path class=\"bond-16 atom-16 atom-17\" d=\"M 547.2,57.2 L 537.8,51.8\" style=\"fill:none;fill-rule:evenodd;stroke:#000000;stroke-width:2.0px;stroke-linecap:butt;stroke-linejoin:miter;stroke-opacity:1\"/>\n",
       "<path class=\"bond-16 atom-16 atom-17\" d=\"M 537.8,51.8 L 528.5,46.4\" style=\"fill:none;fill-rule:evenodd;stroke:#FF0000;stroke-width:2.0px;stroke-linecap:butt;stroke-linejoin:miter;stroke-opacity:1\"/>\n",
       "<path class=\"bond-17 atom-17 atom-18\" d=\"M 515.1,46.4 L 505.7,51.8\" style=\"fill:none;fill-rule:evenodd;stroke:#FF0000;stroke-width:2.0px;stroke-linecap:butt;stroke-linejoin:miter;stroke-opacity:1\"/>\n",
       "<path class=\"bond-17 atom-17 atom-18\" d=\"M 505.7,51.8 L 496.3,57.2\" style=\"fill:none;fill-rule:evenodd;stroke:#000000;stroke-width:2.0px;stroke-linecap:butt;stroke-linejoin:miter;stroke-opacity:1\"/>\n",
       "<path class=\"bond-18 atom-18 atom-19\" d=\"M 496.3,57.2 L 470.8,42.6\" style=\"fill:none;fill-rule:evenodd;stroke:#000000;stroke-width:2.0px;stroke-linecap:butt;stroke-linejoin:miter;stroke-opacity:1\"/>\n",
       "<path class=\"bond-19 atom-19 atom-20\" d=\"M 470.8,42.6 L 461.5,48.0\" style=\"fill:none;fill-rule:evenodd;stroke:#000000;stroke-width:2.0px;stroke-linecap:butt;stroke-linejoin:miter;stroke-opacity:1\"/>\n",
       "<path class=\"bond-19 atom-19 atom-20\" d=\"M 461.5,48.0 L 452.1,53.4\" style=\"fill:none;fill-rule:evenodd;stroke:#FF0000;stroke-width:2.0px;stroke-linecap:butt;stroke-linejoin:miter;stroke-opacity:1\"/>\n",
       "<path class=\"bond-20 atom-20 atom-21\" d=\"M 438.7,53.4 L 429.3,48.0\" style=\"fill:none;fill-rule:evenodd;stroke:#FF0000;stroke-width:2.0px;stroke-linecap:butt;stroke-linejoin:miter;stroke-opacity:1\"/>\n",
       "<path class=\"bond-20 atom-20 atom-21\" d=\"M 429.3,48.0 L 419.9,42.6\" style=\"fill:none;fill-rule:evenodd;stroke:#000000;stroke-width:2.0px;stroke-linecap:butt;stroke-linejoin:miter;stroke-opacity:1\"/>\n",
       "<path class=\"bond-21 atom-21 atom-22\" d=\"M 419.9,42.6 L 394.5,57.3\" style=\"fill:none;fill-rule:evenodd;stroke:#000000;stroke-width:2.0px;stroke-linecap:butt;stroke-linejoin:miter;stroke-opacity:1\"/>\n",
       "<path class=\"bond-22 atom-22 atom-23\" d=\"M 394.5,57.3 L 385.1,51.9\" style=\"fill:none;fill-rule:evenodd;stroke:#000000;stroke-width:2.0px;stroke-linecap:butt;stroke-linejoin:miter;stroke-opacity:1\"/>\n",
       "<path class=\"bond-22 atom-22 atom-23\" d=\"M 385.1,51.9 L 375.7,46.5\" style=\"fill:none;fill-rule:evenodd;stroke:#FF0000;stroke-width:2.0px;stroke-linecap:butt;stroke-linejoin:miter;stroke-opacity:1\"/>\n",
       "<path class=\"bond-23 atom-23 atom-24\" d=\"M 362.3,46.5 L 352.9,51.9\" style=\"fill:none;fill-rule:evenodd;stroke:#FF0000;stroke-width:2.0px;stroke-linecap:butt;stroke-linejoin:miter;stroke-opacity:1\"/>\n",
       "<path class=\"bond-23 atom-23 atom-24\" d=\"M 352.9,51.9 L 343.6,57.4\" style=\"fill:none;fill-rule:evenodd;stroke:#000000;stroke-width:2.0px;stroke-linecap:butt;stroke-linejoin:miter;stroke-opacity:1\"/>\n",
       "<path class=\"bond-24 atom-24 atom-25\" d=\"M 343.6,57.4 L 318.1,42.7\" style=\"fill:none;fill-rule:evenodd;stroke:#000000;stroke-width:2.0px;stroke-linecap:butt;stroke-linejoin:miter;stroke-opacity:1\"/>\n",
       "<path class=\"bond-25 atom-25 atom-26\" d=\"M 318.1,42.7 L 308.7,48.1\" style=\"fill:none;fill-rule:evenodd;stroke:#000000;stroke-width:2.0px;stroke-linecap:butt;stroke-linejoin:miter;stroke-opacity:1\"/>\n",
       "<path class=\"bond-25 atom-25 atom-26\" d=\"M 308.7,48.1 L 299.4,53.5\" style=\"fill:none;fill-rule:evenodd;stroke:#FF0000;stroke-width:2.0px;stroke-linecap:butt;stroke-linejoin:miter;stroke-opacity:1\"/>\n",
       "<path class=\"bond-26 atom-26 atom-27\" d=\"M 285.9,53.5 L 276.6,48.1\" style=\"fill:none;fill-rule:evenodd;stroke:#FF0000;stroke-width:2.0px;stroke-linecap:butt;stroke-linejoin:miter;stroke-opacity:1\"/>\n",
       "<path class=\"bond-26 atom-26 atom-27\" d=\"M 276.6,48.1 L 267.2,42.7\" style=\"fill:none;fill-rule:evenodd;stroke:#000000;stroke-width:2.0px;stroke-linecap:butt;stroke-linejoin:miter;stroke-opacity:1\"/>\n",
       "<path class=\"bond-27 atom-27 atom-28\" d=\"M 267.2,42.7 L 241.7,57.4\" style=\"fill:none;fill-rule:evenodd;stroke:#000000;stroke-width:2.0px;stroke-linecap:butt;stroke-linejoin:miter;stroke-opacity:1\"/>\n",
       "<path class=\"bond-28 atom-28 atom-29\" d=\"M 241.7,57.4 L 232.4,52.0\" style=\"fill:none;fill-rule:evenodd;stroke:#000000;stroke-width:2.0px;stroke-linecap:butt;stroke-linejoin:miter;stroke-opacity:1\"/>\n",
       "<path class=\"bond-28 atom-28 atom-29\" d=\"M 232.4,52.0 L 223.0,46.6\" style=\"fill:none;fill-rule:evenodd;stroke:#FF0000;stroke-width:2.0px;stroke-linecap:butt;stroke-linejoin:miter;stroke-opacity:1\"/>\n",
       "<path class=\"bond-29 atom-29 atom-30\" d=\"M 209.6,46.6 L 200.2,52.1\" style=\"fill:none;fill-rule:evenodd;stroke:#FF0000;stroke-width:2.0px;stroke-linecap:butt;stroke-linejoin:miter;stroke-opacity:1\"/>\n",
       "<path class=\"bond-29 atom-29 atom-30\" d=\"M 200.2,52.1 L 190.8,57.5\" style=\"fill:none;fill-rule:evenodd;stroke:#000000;stroke-width:2.0px;stroke-linecap:butt;stroke-linejoin:miter;stroke-opacity:1\"/>\n",
       "<path class=\"bond-30 atom-30 atom-31\" d=\"M 190.8,57.5 L 165.3,42.8\" style=\"fill:none;fill-rule:evenodd;stroke:#000000;stroke-width:2.0px;stroke-linecap:butt;stroke-linejoin:miter;stroke-opacity:1\"/>\n",
       "<path class=\"bond-31 atom-31 atom-32\" d=\"M 165.3,42.8 L 156.0,48.2\" style=\"fill:none;fill-rule:evenodd;stroke:#000000;stroke-width:2.0px;stroke-linecap:butt;stroke-linejoin:miter;stroke-opacity:1\"/>\n",
       "<path class=\"bond-31 atom-31 atom-32\" d=\"M 156.0,48.2 L 146.6,53.6\" style=\"fill:none;fill-rule:evenodd;stroke:#FF0000;stroke-width:2.0px;stroke-linecap:butt;stroke-linejoin:miter;stroke-opacity:1\"/>\n",
       "<path class=\"bond-32 atom-32 atom-33\" d=\"M 133.2,53.7 L 123.8,48.3\" style=\"fill:none;fill-rule:evenodd;stroke:#FF0000;stroke-width:2.0px;stroke-linecap:butt;stroke-linejoin:miter;stroke-opacity:1\"/>\n",
       "<path class=\"bond-32 atom-32 atom-33\" d=\"M 123.8,48.3 L 114.4,42.8\" style=\"fill:none;fill-rule:evenodd;stroke:#000000;stroke-width:2.0px;stroke-linecap:butt;stroke-linejoin:miter;stroke-opacity:1\"/>\n",
       "<path class=\"bond-33 atom-33 atom-34\" d=\"M 114.4,42.8 L 89.0,57.6\" style=\"fill:none;fill-rule:evenodd;stroke:#000000;stroke-width:2.0px;stroke-linecap:butt;stroke-linejoin:miter;stroke-opacity:1\"/>\n",
       "<path class=\"bond-34 atom-34 atom-35\" d=\"M 89.0,57.6 L 79.6,52.2\" style=\"fill:none;fill-rule:evenodd;stroke:#000000;stroke-width:2.0px;stroke-linecap:butt;stroke-linejoin:miter;stroke-opacity:1\"/>\n",
       "<path class=\"bond-34 atom-34 atom-35\" d=\"M 79.6,52.2 L 70.2,46.7\" style=\"fill:none;fill-rule:evenodd;stroke:#FF0000;stroke-width:2.0px;stroke-linecap:butt;stroke-linejoin:miter;stroke-opacity:1\"/>\n",
       "<path d=\"M 930.3,42.9 L 929.1,42.2 L 928.6,42.5\" style=\"fill:none;stroke:#000000;stroke-width:2.0px;stroke-linecap:butt;stroke-linejoin:miter;stroke-opacity:1;\"/>\n",
       "<path d=\"M 878.6,42.5 L 878.2,42.2 L 876.9,43.0\" style=\"fill:none;stroke:#000000;stroke-width:2.0px;stroke-linecap:butt;stroke-linejoin:miter;stroke-opacity:1;\"/>\n",
       "<path d=\"M 854.0,56.2 L 852.7,57.0 L 852.2,56.7\" style=\"fill:none;stroke:#000000;stroke-width:2.0px;stroke-linecap:butt;stroke-linejoin:miter;stroke-opacity:1;\"/>\n",
       "<path d=\"M 802.3,56.7 L 801.8,57.0 L 800.5,56.3\" style=\"fill:none;stroke:#000000;stroke-width:2.0px;stroke-linecap:butt;stroke-linejoin:miter;stroke-opacity:1;\"/>\n",
       "<path d=\"M 777.6,43.1 L 776.3,42.3 L 775.9,42.6\" style=\"fill:none;stroke:#000000;stroke-width:2.0px;stroke-linecap:butt;stroke-linejoin:miter;stroke-opacity:1;\"/>\n",
       "<path d=\"M 725.9,42.6 L 725.4,42.4 L 724.1,43.1\" style=\"fill:none;stroke:#000000;stroke-width:2.0px;stroke-linecap:butt;stroke-linejoin:miter;stroke-opacity:1;\"/>\n",
       "<path d=\"M 701.2,56.3 L 700.0,57.1 L 699.5,56.8\" style=\"fill:none;stroke:#000000;stroke-width:2.0px;stroke-linecap:butt;stroke-linejoin:miter;stroke-opacity:1;\"/>\n",
       "<path d=\"M 649.5,56.8 L 649.1,57.1 L 647.8,56.4\" style=\"fill:none;stroke:#000000;stroke-width:2.0px;stroke-linecap:butt;stroke-linejoin:miter;stroke-opacity:1;\"/>\n",
       "<path d=\"M 624.9,43.2 L 623.6,42.4 L 623.1,42.7\" style=\"fill:none;stroke:#000000;stroke-width:2.0px;stroke-linecap:butt;stroke-linejoin:miter;stroke-opacity:1;\"/>\n",
       "<path d=\"M 573.1,42.8 L 572.7,42.5 L 571.4,43.2\" style=\"fill:none;stroke:#000000;stroke-width:2.0px;stroke-linecap:butt;stroke-linejoin:miter;stroke-opacity:1;\"/>\n",
       "<path d=\"M 548.5,56.5 L 547.2,57.2 L 546.8,56.9\" style=\"fill:none;stroke:#000000;stroke-width:2.0px;stroke-linecap:butt;stroke-linejoin:miter;stroke-opacity:1;\"/>\n",
       "<path d=\"M 496.8,57.0 L 496.3,57.2 L 495.0,56.5\" style=\"fill:none;stroke:#000000;stroke-width:2.0px;stroke-linecap:butt;stroke-linejoin:miter;stroke-opacity:1;\"/>\n",
       "<path d=\"M 472.1,43.3 L 470.8,42.6 L 470.4,42.8\" style=\"fill:none;stroke:#000000;stroke-width:2.0px;stroke-linecap:butt;stroke-linejoin:miter;stroke-opacity:1;\"/>\n",
       "<path d=\"M 420.4,42.9 L 419.9,42.6 L 418.7,43.3\" style=\"fill:none;stroke:#000000;stroke-width:2.0px;stroke-linecap:butt;stroke-linejoin:miter;stroke-opacity:1;\"/>\n",
       "<path d=\"M 395.8,56.6 L 394.5,57.3 L 394.0,57.1\" style=\"fill:none;stroke:#000000;stroke-width:2.0px;stroke-linecap:butt;stroke-linejoin:miter;stroke-opacity:1;\"/>\n",
       "<path d=\"M 344.0,57.1 L 343.6,57.4 L 342.3,56.6\" style=\"fill:none;stroke:#000000;stroke-width:2.0px;stroke-linecap:butt;stroke-linejoin:miter;stroke-opacity:1;\"/>\n",
       "<path d=\"M 319.4,43.4 L 318.1,42.7 L 317.6,43.0\" style=\"fill:none;stroke:#000000;stroke-width:2.0px;stroke-linecap:butt;stroke-linejoin:miter;stroke-opacity:1;\"/>\n",
       "<path d=\"M 267.6,43.0 L 267.2,42.7 L 265.9,43.5\" style=\"fill:none;stroke:#000000;stroke-width:2.0px;stroke-linecap:butt;stroke-linejoin:miter;stroke-opacity:1;\"/>\n",
       "<path d=\"M 243.0,56.7 L 241.7,57.4 L 241.3,57.2\" style=\"fill:none;stroke:#000000;stroke-width:2.0px;stroke-linecap:butt;stroke-linejoin:miter;stroke-opacity:1;\"/>\n",
       "<path d=\"M 191.3,57.2 L 190.8,57.5 L 189.5,56.8\" style=\"fill:none;stroke:#000000;stroke-width:2.0px;stroke-linecap:butt;stroke-linejoin:miter;stroke-opacity:1;\"/>\n",
       "<path d=\"M 166.6,43.5 L 165.3,42.8 L 164.9,43.1\" style=\"fill:none;stroke:#000000;stroke-width:2.0px;stroke-linecap:butt;stroke-linejoin:miter;stroke-opacity:1;\"/>\n",
       "<path d=\"M 114.9,43.1 L 114.4,42.8 L 113.2,43.6\" style=\"fill:none;stroke:#000000;stroke-width:2.0px;stroke-linecap:butt;stroke-linejoin:miter;stroke-opacity:1;\"/>\n",
       "<path d=\"M 90.3,56.8 L 89.0,57.6 L 88.5,57.3\" style=\"fill:none;stroke:#000000;stroke-width:2.0px;stroke-linecap:butt;stroke-linejoin:miter;stroke-opacity:1;\"/>\n",
       "<path class=\"atom-2\" d=\"M 897.9 57.0 Q 897.9 54.0, 899.4 52.3 Q 900.9 50.6, 903.6 50.6 Q 906.4 50.6, 907.9 52.3 Q 909.4 54.0, 909.4 57.0 Q 909.4 60.0, 907.9 61.7 Q 906.4 63.4, 903.6 63.4 Q 900.9 63.4, 899.4 61.7 Q 897.9 60.0, 897.9 57.0 M 903.6 62.0 Q 905.5 62.0, 906.6 60.7 Q 907.6 59.5, 907.6 57.0 Q 907.6 54.5, 906.6 53.3 Q 905.5 52.0, 903.6 52.0 Q 901.7 52.0, 900.7 53.3 Q 899.7 54.5, 899.7 57.0 Q 899.7 59.5, 900.7 60.7 Q 901.7 62.0, 903.6 62.0 \" fill=\"#FF0000\"/>\n",
       "<path class=\"atom-5\" d=\"M 821.5 42.3 Q 821.5 39.3, 823.0 37.6 Q 824.5 36.0, 827.2 36.0 Q 830.0 36.0, 831.5 37.6 Q 833.0 39.3, 833.0 42.3 Q 833.0 45.3, 831.5 47.1 Q 830.0 48.8, 827.2 48.8 Q 824.5 48.8, 823.0 47.1 Q 821.5 45.4, 821.5 42.3 M 827.2 47.4 Q 829.2 47.4, 830.2 46.1 Q 831.2 44.8, 831.2 42.3 Q 831.2 39.9, 830.2 38.6 Q 829.2 37.4, 827.2 37.4 Q 825.3 37.4, 824.3 38.6 Q 823.3 39.8, 823.3 42.3 Q 823.3 44.8, 824.3 46.1 Q 825.3 47.4, 827.2 47.4 \" fill=\"#FF0000\"/>\n",
       "<path class=\"atom-8\" d=\"M 745.2 57.1 Q 745.2 54.1, 746.6 52.4 Q 748.1 50.7, 750.9 50.7 Q 753.7 50.7, 755.1 52.4 Q 756.6 54.1, 756.6 57.1 Q 756.6 60.1, 755.1 61.8 Q 753.6 63.5, 750.9 63.5 Q 748.1 63.5, 746.6 61.8 Q 745.2 60.1, 745.2 57.1 M 750.9 62.1 Q 752.8 62.1, 753.8 60.9 Q 754.9 59.6, 754.9 57.1 Q 754.9 54.6, 753.8 53.4 Q 752.8 52.1, 750.9 52.1 Q 749.0 52.1, 747.9 53.4 Q 746.9 54.6, 746.9 57.1 Q 746.9 59.6, 747.9 60.9 Q 749.0 62.1, 750.9 62.1 \" fill=\"#FF0000\"/>\n",
       "<path class=\"atom-11\" d=\"M 668.8 42.4 Q 668.8 39.4, 670.2 37.8 Q 671.7 36.1, 674.5 36.1 Q 677.3 36.1, 678.8 37.8 Q 680.2 39.4, 680.2 42.4 Q 680.2 45.5, 678.7 47.2 Q 677.2 48.9, 674.5 48.9 Q 671.7 48.9, 670.2 47.2 Q 668.8 45.5, 668.8 42.4 M 674.5 47.5 Q 676.4 47.5, 677.4 46.2 Q 678.5 44.9, 678.5 42.4 Q 678.5 40.0, 677.4 38.8 Q 676.4 37.5, 674.5 37.5 Q 672.6 37.5, 671.6 38.7 Q 670.5 40.0, 670.5 42.4 Q 670.5 45.0, 671.6 46.2 Q 672.6 47.5, 674.5 47.5 \" fill=\"#FF0000\"/>\n",
       "<path class=\"atom-14\" d=\"M 592.4 57.2 Q 592.4 54.2, 593.9 52.5 Q 595.4 50.8, 598.1 50.8 Q 600.9 50.8, 602.4 52.5 Q 603.9 54.2, 603.9 57.2 Q 603.9 60.2, 602.4 62.0 Q 600.9 63.7, 598.1 63.7 Q 595.4 63.7, 593.9 62.0 Q 592.4 60.2, 592.4 57.2 M 598.1 62.3 Q 600.0 62.3, 601.1 61.0 Q 602.1 59.7, 602.1 57.2 Q 602.1 54.7, 601.1 53.5 Q 600.0 52.3, 598.1 52.3 Q 596.2 52.3, 595.2 53.5 Q 594.2 54.7, 594.2 57.2 Q 594.2 59.7, 595.2 61.0 Q 596.2 62.3, 598.1 62.3 \" fill=\"#FF0000\"/>\n",
       "<path class=\"atom-17\" d=\"M 516.0 42.6 Q 516.0 39.6, 517.5 37.9 Q 519.0 36.2, 521.8 36.2 Q 524.5 36.2, 526.0 37.9 Q 527.5 39.6, 527.5 42.6 Q 527.5 45.6, 526.0 47.3 Q 524.5 49.0, 521.8 49.0 Q 519.0 49.0, 517.5 47.3 Q 516.0 45.6, 516.0 42.6 M 521.8 47.6 Q 523.7 47.6, 524.7 46.3 Q 525.7 45.1, 525.7 42.6 Q 525.7 40.1, 524.7 38.9 Q 523.7 37.6, 521.8 37.6 Q 519.9 37.6, 518.8 38.9 Q 517.8 40.1, 517.8 42.6 Q 517.8 45.1, 518.8 46.3 Q 519.9 47.6, 521.8 47.6 \" fill=\"#FF0000\"/>\n",
       "<path class=\"atom-20\" d=\"M 439.7 57.3 Q 439.7 54.3, 441.1 52.6 Q 442.6 51.0, 445.4 51.0 Q 448.2 51.0, 449.6 52.6 Q 451.1 54.3, 451.1 57.3 Q 451.1 60.4, 449.6 62.1 Q 448.1 63.8, 445.4 63.8 Q 442.6 63.8, 441.1 62.1 Q 439.7 60.4, 439.7 57.3 M 445.4 62.4 Q 447.3 62.4, 448.3 61.1 Q 449.4 59.8, 449.4 57.3 Q 449.4 54.9, 448.3 53.6 Q 447.3 52.4, 445.4 52.4 Q 443.5 52.4, 442.4 53.6 Q 441.4 54.9, 441.4 57.3 Q 441.4 59.8, 442.4 61.1 Q 443.5 62.4, 445.4 62.4 \" fill=\"#FF0000\"/>\n",
       "<path class=\"atom-23\" d=\"M 363.3 42.7 Q 363.3 39.7, 364.8 38.0 Q 366.2 36.3, 369.0 36.3 Q 371.8 36.3, 373.3 38.0 Q 374.7 39.7, 374.7 42.7 Q 374.7 45.7, 373.2 47.4 Q 371.7 49.2, 369.0 49.2 Q 366.3 49.2, 364.8 47.4 Q 363.3 45.7, 363.3 42.7 M 369.0 47.7 Q 370.9 47.7, 371.9 46.5 Q 373.0 45.2, 373.0 42.7 Q 373.0 40.2, 371.9 39.0 Q 370.9 37.7, 369.0 37.7 Q 367.1 37.7, 366.1 39.0 Q 365.0 40.2, 365.0 42.7 Q 365.0 45.2, 366.1 46.5 Q 367.1 47.7, 369.0 47.7 \" fill=\"#FF0000\"/>\n",
       "<path class=\"atom-26\" d=\"M 286.9 57.4 Q 286.9 54.4, 288.4 52.8 Q 289.9 51.1, 292.6 51.1 Q 295.4 51.1, 296.9 52.8 Q 298.4 54.4, 298.4 57.4 Q 298.4 60.5, 296.9 62.2 Q 295.4 63.9, 292.6 63.9 Q 289.9 63.9, 288.4 62.2 Q 286.9 60.5, 286.9 57.4 M 292.6 62.5 Q 294.6 62.5, 295.6 61.2 Q 296.6 59.9, 296.6 57.4 Q 296.6 55.0, 295.6 53.8 Q 294.6 52.5, 292.6 52.5 Q 290.7 52.5, 289.7 53.7 Q 288.7 55.0, 288.7 57.4 Q 288.7 60.0, 289.7 61.2 Q 290.7 62.5, 292.6 62.5 \" fill=\"#FF0000\"/>\n",
       "<path class=\"atom-29\" d=\"M 210.5 42.8 Q 210.5 39.8, 212.0 38.1 Q 213.5 36.5, 216.3 36.5 Q 219.0 36.5, 220.5 38.1 Q 222.0 39.8, 222.0 42.8 Q 222.0 45.8, 220.5 47.6 Q 219.0 49.3, 216.3 49.3 Q 213.5 49.3, 212.0 47.6 Q 210.5 45.9, 210.5 42.8 M 216.3 47.9 Q 218.2 47.9, 219.2 46.6 Q 220.2 45.3, 220.2 42.8 Q 220.2 40.4, 219.2 39.1 Q 218.2 37.9, 216.3 37.9 Q 214.4 37.9, 213.3 39.1 Q 212.3 40.3, 212.3 42.8 Q 212.3 45.3, 213.3 46.6 Q 214.4 47.9, 216.3 47.9 \" fill=\"#FF0000\"/>\n",
       "<path class=\"atom-32\" d=\"M 134.2 57.6 Q 134.2 54.6, 135.7 52.9 Q 137.1 51.2, 139.9 51.2 Q 142.7 51.2, 144.2 52.9 Q 145.6 54.6, 145.6 57.6 Q 145.6 60.6, 144.1 62.3 Q 142.6 64.0, 139.9 64.0 Q 137.2 64.0, 135.7 62.3 Q 134.2 60.6, 134.2 57.6 M 139.9 62.6 Q 141.8 62.6, 142.8 61.4 Q 143.9 60.1, 143.9 57.6 Q 143.9 55.1, 142.8 53.9 Q 141.8 52.6, 139.9 52.6 Q 138.0 52.6, 137.0 53.9 Q 135.9 55.1, 135.9 57.6 Q 135.9 60.1, 137.0 61.4 Q 138.0 62.6, 139.9 62.6 \" fill=\"#FF0000\"/>\n",
       "<path class=\"atom-35\" d=\"M 45.5 36.7 L 47.1 36.7 L 47.1 42.0 L 53.5 42.0 L 53.5 36.7 L 55.2 36.7 L 55.2 49.2 L 53.5 49.2 L 53.5 43.4 L 47.1 43.4 L 47.1 49.2 L 45.5 49.2 L 45.5 36.7 \" fill=\"#FF0000\"/>\n",
       "<path class=\"atom-35\" d=\"M 57.8 42.9 Q 57.8 39.9, 59.3 38.2 Q 60.8 36.6, 63.5 36.6 Q 66.3 36.6, 67.8 38.2 Q 69.3 39.9, 69.3 42.9 Q 69.3 46.0, 67.8 47.7 Q 66.3 49.4, 63.5 49.4 Q 60.8 49.4, 59.3 47.7 Q 57.8 46.0, 57.8 42.9 M 63.5 48.0 Q 65.4 48.0, 66.4 46.7 Q 67.5 45.4, 67.5 42.9 Q 67.5 40.5, 66.4 39.2 Q 65.4 38.0, 63.5 38.0 Q 61.6 38.0, 60.6 39.2 Q 59.6 40.5, 59.6 42.9 Q 59.6 45.4, 60.6 46.7 Q 61.6 48.0, 63.5 48.0 \" fill=\"#FF0000\"/>\n",
       "</svg>"
      ],
      "text/plain": [
       "<IPython.core.display.SVG object>"
      ]
     },
     "execution_count": 12,
     "metadata": {},
     "output_type": "execute_result"
    }
   ],
   "source": [
    "ether = Molecule.from_smiles(12 * \"CCO\")\n",
    "ether.visualize(\n",
    "    width=1000,\n",
    "    height=100,\n",
    "    show_all_hydrogens=False,\n",
    ")"
   ]
  },
  {
   "cell_type": "markdown",
   "metadata": {},
   "source": [
    "Topologies can also be explicitly visualized:"
   ]
  },
  {
   "cell_type": "code",
   "execution_count": 13,
   "metadata": {
    "tags": []
   },
   "outputs": [],
   "source": [
    "from openff.toolkit.utils.utils import get_data_file_path\n",
    "\n",
    "topology = Topology.from_pdb(\n",
    "    get_data_file_path(\"systems/test_systems/T4_lysozyme_water_ions.pdb\")\n",
    ")"
   ]
  },
  {
   "cell_type": "code",
   "execution_count": 14,
   "metadata": {
    "tags": []
   },
   "outputs": [
    {
     "data": {
      "application/vnd.jupyter.widget-view+json": {
       "model_id": "396817be118448b58856fc5182a4607f",
       "version_major": 2,
       "version_minor": 0
      },
      "text/plain": [
       "NGLWidget()"
      ]
     },
     "metadata": {},
     "output_type": "display_data"
    }
   ],
   "source": [
    "w = topology.visualize()\n",
    "w"
   ]
  },
  {
   "cell_type": "markdown",
   "metadata": {},
   "source": [
    "However, they don't currently support implicit visualization for performance reasons. Note that, again for performance reasons, `Topology` by default does not guarantee to correctly represent connectivity; in the future there may be an implementation that makes an effort to do this."
   ]
  },
  {
   "cell_type": "code",
   "execution_count": null,
   "metadata": {},
   "outputs": [],
   "source": []
  }
 ],
 "metadata": {
  "category": "tutorial",
  "kernelspec": {
   "display_name": "Python 3 (ipykernel)",
   "language": "python",
   "name": "python3"
  },
  "language_info": {
   "codemirror_mode": {
    "name": "ipython",
    "version": 3
   },
   "file_extension": ".py",
   "mimetype": "text/x-python",
   "name": "python",
   "nbconvert_exporter": "python",
   "pygments_lexer": "ipython3",
   "version": "3.11.5"
  },
  "widgets": {
   "application/vnd.jupyter.widget-state+json": {
    "state": {},
    "version_major": 2,
    "version_minor": 0
   }
  }
 },
 "nbformat": 4,
 "nbformat_minor": 4
}

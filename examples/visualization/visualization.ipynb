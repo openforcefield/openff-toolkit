{
 "cells": [
  {
   "cell_type": "markdown",
   "metadata": {},
   "source": [
    "# Visualizations in the OpenFF Toolkit"
   ]
  },
  {
   "cell_type": "markdown",
   "metadata": {},
   "source": [
    "Toolkit [`Molecule`] objects provide some facilities for visualization in the Jupyter Notebook. This can be very useful for inspecting molecules and topologies!\n",
    "\n",
    "We have implemented three backends:\n",
    "- rdkit\n",
    "- openeye\n",
    "- nglview (requires conformers)\n",
    "\n",
    "There are two ways to invoke the visualization:\n",
    "- implicitly, by _evaluating_ the object in a cell\n",
    "- explicitly, by calling [`Molecule.visualize()`]\n",
    "\n",
    "[`Molecule.visualize()`]: https://docs.openforcefield.org/projects/toolkit/en/stable/api/generated/openff.toolkit.topology.Molecule.html#openff.toolkit.topology.Molecule.visualize\n",
    "[`Molecule`]: https://docs.openforcefield.org/projects/toolkit/en/stable/api/generated/openff.toolkit.topology.Molecule.html"
   ]
  },
  {
   "cell_type": "markdown",
   "metadata": {},
   "source": [
    "<details><summary>Troubleshooting if NGLView doesn't work</summary>\n",
    "This notebook below demonstrates usage of <code>nglview</code> with <code>openforcefield</code>. This can be tricky to get working. You may need to run an additional command after creating the Conda environment.\n",
    "    \n",
    "To configure for use with Jupyter Notebooks:\n",
    "\n",
    "<pre>\n",
    "    jupyter-nbextension enable nglview --py --sys-prefix\n",
    "</pre>\n",
    "<br />\n",
    "\n",
    "To use with Jupyter Lab, configure with:\n",
    "\n",
    "<pre>\n",
    "    jupyter labextension install  nglview-js-widgets\n",
    "    jupyter-labextension install @jupyter-widgets/jupyterlab-manager\n",
    "</pre>\n",
    "<br />\n",
    "\n",
    "For NGLView ≥ 3.0.0, the above should not be necessary; however, it is not yet compatible with Jupyter Lab ≥ 4.0.0.\n",
    "</details>"
   ]
  },
  {
   "cell_type": "code",
   "execution_count": null,
   "metadata": {
    "tags": []
   },
   "outputs": [],
   "source": [
    "from openff.toolkit import Molecule, Topology"
   ]
  },
  {
   "cell_type": "markdown",
   "metadata": {},
   "source": [
    "## Implicit visualization\n",
    "\n",
    "_Implicit_ visualization will try to use `nglview` if there are conformers and fall back to `rdkit` and `openeye` (in that order) if they are not available."
   ]
  },
  {
   "cell_type": "code",
   "execution_count": null,
   "metadata": {
    "tags": []
   },
   "outputs": [],
   "source": [
    "m = Molecule.from_smiles(\"CCCCOCC\")\n",
    "m"
   ]
  },
  {
   "cell_type": "markdown",
   "metadata": {},
   "source": [
    "The regular `display()` call works on `Molecule` objects too."
   ]
  },
  {
   "cell_type": "code",
   "execution_count": null,
   "metadata": {
    "tags": []
   },
   "outputs": [],
   "source": [
    "display(m)  # noqa"
   ]
  },
  {
   "cell_type": "markdown",
   "metadata": {},
   "source": [
    "## Explicit visualization\n",
    "\n",
    "_Explicit_ visualization works as one would expect:"
   ]
  },
  {
   "cell_type": "code",
   "execution_count": null,
   "metadata": {
    "tags": []
   },
   "outputs": [],
   "source": [
    "m.visualize()"
   ]
  },
  {
   "cell_type": "markdown",
   "metadata": {},
   "source": [
    "This method can take a `backend` parameter, which defaults to `rdkit`:"
   ]
  },
  {
   "cell_type": "code",
   "execution_count": null,
   "metadata": {
    "tags": []
   },
   "outputs": [],
   "source": [
    "m.visualize(backend=\"rdkit\")"
   ]
  },
  {
   "cell_type": "markdown",
   "metadata": {},
   "source": [
    "`openeye` can also be used, if available:"
   ]
  },
  {
   "cell_type": "code",
   "execution_count": null,
   "metadata": {
    "tags": []
   },
   "outputs": [],
   "source": [
    "try:\n",
    "    from openeye import oechem\n",
    "\n",
    "    assert oechem.OEChemIsLicensed()\n",
    "\n",
    "    m.visualize(backend=\"openeye\")\n",
    "except (ImportError, AssertionError):\n",
    "    print('Visualizing with `backend=\"openeye\"` requires the OpenEye Toolkits')"
   ]
  },
  {
   "cell_type": "markdown",
   "metadata": {},
   "source": [
    "`nglview`, if installed, can only be used if conformers have been generated:"
   ]
  },
  {
   "cell_type": "code",
   "execution_count": null,
   "metadata": {
    "tags": [
     "nbval-skip"
    ]
   },
   "outputs": [],
   "source": [
    "try:\n",
    "    m.visualize(backend=\"nglview\")  # this will fail because we have no conformers yet\n",
    "except ValueError as excinfo:\n",
    "    # Catch the exception and print its message\n",
    "    print(str(excinfo))"
   ]
  },
  {
   "cell_type": "markdown",
   "metadata": {},
   "source": [
    "But, once you generate them, it works! You can zoom in/out, rotate and translate the molecule. You can even inspect the different conformers (if available) using the trajectory player:"
   ]
  },
  {
   "cell_type": "code",
   "execution_count": null,
   "metadata": {
    "tags": [
     "nbval-skip"
    ]
   },
   "outputs": [],
   "source": [
    "m.generate_conformers()\n",
    "m.visualize(backend=\"nglview\")"
   ]
  },
  {
   "cell_type": "markdown",
   "metadata": {},
   "source": [
    "For example, a benzene ring will not have multiple conformers, so you won't see the trajectory player."
   ]
  },
  {
   "cell_type": "code",
   "execution_count": null,
   "metadata": {
    "tags": [
     "nbval-skip"
    ]
   },
   "outputs": [],
   "source": [
    "n = Molecule.from_smiles(\"c1ccccc1\")\n",
    "n.generate_conformers()\n",
    "n"
   ]
  },
  {
   "cell_type": "markdown",
   "metadata": {},
   "source": [
    "Notice that, once conformers are available, the implicit representation will use `nglview` to provide a 3D visualization."
   ]
  },
  {
   "cell_type": "markdown",
   "metadata": {},
   "source": [
    "It's also possible with any backend to hide non-polar hydrogens, which may produce a more readable image:"
   ]
  },
  {
   "cell_type": "code",
   "execution_count": null,
   "metadata": {
    "tags": []
   },
   "outputs": [],
   "source": [
    "m.visualize(backend=\"nglview\", show_all_hydrogens=False)"
   ]
  },
  {
   "cell_type": "code",
   "execution_count": null,
   "metadata": {
    "tags": []
   },
   "outputs": [],
   "source": [
    "m.visualize(backend=\"rdkit\", show_all_hydrogens=False)"
   ]
  },
  {
   "cell_type": "markdown",
   "metadata": {},
   "source": [
    "Topologies can also be explicitly visualized:"
   ]
  },
  {
   "cell_type": "code",
   "execution_count": null,
   "metadata": {
    "tags": []
   },
   "outputs": [],
   "source": [
    "from openff.toolkit.utils.utils import get_data_file_path\n",
    "\n",
    "topology = Topology.from_pdb(\n",
    "    get_data_file_path(\"systems/test_systems/T4_lysozyme_water_ions.pdb\")\n",
    ")"
   ]
  },
  {
   "cell_type": "code",
   "execution_count": null,
   "metadata": {
    "tags": []
   },
   "outputs": [],
   "source": [
    "w = topology.visualize()\n",
    "w"
   ]
  },
  {
   "cell_type": "markdown",
   "metadata": {},
   "source": [
    "However, they don't support implicit visualization for performance reasons. Note that, again for performance reasons, `Topology` by default does not guarantee to correctly represent connectivity; to gain this guarantee, set the `ensure_correct_connectivity` argument to `True`:"
   ]
  },
  {
   "cell_type": "code",
   "execution_count": null,
   "metadata": {
    "tags": []
   },
   "outputs": [],
   "source": [
    "w = topology.visualize(ensure_correct_connectivity=True)\n",
    "w"
   ]
  }
 ],
 "metadata": {
  "kernelspec": {
   "display_name": "Python 3 (ipykernel)",
   "language": "python",
   "name": "python3"
  },
  "language_info": {
   "codemirror_mode": {
    "name": "ipython",
    "version": 3
   },
   "file_extension": ".py",
   "mimetype": "text/x-python",
   "name": "python",
   "nbconvert_exporter": "python",
   "pygments_lexer": "ipython3",
   "version": "3.11.4"
  },
  "widgets": {
   "application/vnd.jupyter.widget-state+json": {
    "state": {},
    "version_major": 2,
    "version_minor": 0
   }
  },
  "category": "tutorial"
 },
 "nbformat": 4,
 "nbformat_minor": 4
}

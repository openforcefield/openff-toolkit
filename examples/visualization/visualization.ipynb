{
 "cells": [
  {
   "cell_type": "code",
   "execution_count": 1,
   "metadata": {},
   "outputs": [],
   "source": [
    "from openff.toolkit import Molecule"
   ]
  },
  {
   "cell_type": "markdown",
   "metadata": {},
   "source": [
    "**Note**: The content below demonstrates usage of `nglview` with `openforcefield`. This can be tricky to get working. Install with:\n",
    "\n",
    "    conda install -c conda-forge nglview\n",
    "    \n",
    "And configure for use with Jupyter with:\n",
    "\n",
    "    jupyter-nbextension enable nglview --py --sys-prefix\n",
    "    \n",
    "To use with Jupyterlab, configure with:\n",
    "\n",
    "    jupyter labextension install  nglview-js-widgets\n",
    "    jupyter-labextension install @jupyter-widgets/jupyterlab-manager"
   ]
  },
  {
   "cell_type": "markdown",
   "metadata": {},
   "source": [
    "# Built-in visualizations in `openff-toolkit`\n",
    "\n",
    "PR [#560](https://github.com/openforcefield/openforcefield/pull/560) introduced rich representation for the `Molecule` objects. This means you can visualize them in your Jupyter Notebooks.\n",
    "\n",
    "We have implemented three backends:\n",
    "- rdkit\n",
    "- openeye\n",
    "- nglview (requires conformers)\n",
    "\n",
    "There are two ways to invoke the visualization:\n",
    "- implicitly, by _evaluating_ the object in a cell\n",
    "- explicitly, by calling `Molecule.visualize()`"
   ]
  },
  {
   "cell_type": "markdown",
   "metadata": {},
   "source": [
    "_Implicit_ visualization will try to use `nglview` if there are conformers and fall back to `rdkit` and `openeye` (in that order) if they are not available."
   ]
  },
  {
   "cell_type": "code",
   "execution_count": 2,
   "metadata": {},
   "outputs": [
    {
     "data": {
      "application/vnd.jupyter.widget-view+json": {
       "model_id": "eb5ef9732d0b469abefa109be1c2553c",
       "version_major": 2,
       "version_minor": 0
      },
      "text/plain": []
     },
     "metadata": {},
     "output_type": "display_data"
    },
    {
     "data": {
      "image/svg+xml": [
       "<svg xmlns=\"http://www.w3.org/2000/svg\" xmlns:rdkit=\"http://www.rdkit.org/xml\" xmlns:xlink=\"http://www.w3.org/1999/xlink\" version=\"1.1\" baseProfile=\"full\" xml:space=\"preserve\" width=\"500px\" height=\"300px\" viewBox=\"0 0 500 300\">\n",
       "<!-- END OF HEADER -->\n",
       "<rect style=\"opacity:1.0;fill:#FFFFFF;stroke:none\" width=\"500.0\" height=\"300.0\" x=\"0.0\" y=\"0.0\"> </rect>\n",
       "<path class=\"bond-0 atom-0 atom-1\" d=\"M 110.0,209.3 L 165.7,177.4\" style=\"fill:none;fill-rule:evenodd;stroke:#000000;stroke-width:2.0px;stroke-linecap:butt;stroke-linejoin:miter;stroke-opacity:1\"/>\n",
       "<path class=\"bond-6 atom-0 atom-7\" d=\"M 110.0,209.3 L 85.0,165.4\" style=\"fill:none;fill-rule:evenodd;stroke:#000000;stroke-width:2.0px;stroke-linecap:butt;stroke-linejoin:miter;stroke-opacity:1\"/>\n",
       "<path class=\"bond-7 atom-0 atom-8\" d=\"M 110.0,209.3 L 55.5,209.0\" style=\"fill:none;fill-rule:evenodd;stroke:#000000;stroke-width:2.0px;stroke-linecap:butt;stroke-linejoin:miter;stroke-opacity:1\"/>\n",
       "<path class=\"bond-8 atom-0 atom-9\" d=\"M 110.0,209.3 L 109.8,261.7\" style=\"fill:none;fill-rule:evenodd;stroke:#000000;stroke-width:2.0px;stroke-linecap:butt;stroke-linejoin:miter;stroke-opacity:1\"/>\n",
       "<path class=\"bond-1 atom-1 atom-2\" d=\"M 165.7,177.4 L 220.9,209.5\" style=\"fill:none;fill-rule:evenodd;stroke:#000000;stroke-width:2.0px;stroke-linecap:butt;stroke-linejoin:miter;stroke-opacity:1\"/>\n",
       "<path class=\"bond-9 atom-1 atom-10\" d=\"M 165.7,177.4 L 191.2,133.9\" style=\"fill:none;fill-rule:evenodd;stroke:#000000;stroke-width:2.0px;stroke-linecap:butt;stroke-linejoin:miter;stroke-opacity:1\"/>\n",
       "<path class=\"bond-10 atom-1 atom-11\" d=\"M 165.7,177.4 L 140.7,133.6\" style=\"fill:none;fill-rule:evenodd;stroke:#000000;stroke-width:2.0px;stroke-linecap:butt;stroke-linejoin:miter;stroke-opacity:1\"/>\n",
       "<path class=\"bond-2 atom-2 atom-3\" d=\"M 220.9,209.5 L 276.4,177.6\" style=\"fill:none;fill-rule:evenodd;stroke:#000000;stroke-width:2.0px;stroke-linecap:butt;stroke-linejoin:miter;stroke-opacity:1\"/>\n",
       "<path class=\"bond-11 atom-2 atom-12\" d=\"M 220.9,209.5 L 195.6,253.2\" style=\"fill:none;fill-rule:evenodd;stroke:#000000;stroke-width:2.0px;stroke-linecap:butt;stroke-linejoin:miter;stroke-opacity:1\"/>\n",
       "<path class=\"bond-12 atom-2 atom-13\" d=\"M 220.9,209.5 L 246.2,253.4\" style=\"fill:none;fill-rule:evenodd;stroke:#000000;stroke-width:2.0px;stroke-linecap:butt;stroke-linejoin:miter;stroke-opacity:1\"/>\n",
       "<path class=\"bond-3 atom-3 atom-4\" d=\"M 276.4,177.6 L 276.8,151.8\" style=\"fill:none;fill-rule:evenodd;stroke:#000000;stroke-width:2.0px;stroke-linecap:butt;stroke-linejoin:miter;stroke-opacity:1\"/>\n",
       "<path class=\"bond-3 atom-3 atom-4\" d=\"M 276.8,151.8 L 277.2,126.0\" style=\"fill:none;fill-rule:evenodd;stroke:#FF0000;stroke-width:2.0px;stroke-linecap:butt;stroke-linejoin:miter;stroke-opacity:1\"/>\n",
       "<path class=\"bond-13 atom-3 atom-14\" d=\"M 276.4,177.6 L 301.8,221.3\" style=\"fill:none;fill-rule:evenodd;stroke:#000000;stroke-width:2.0px;stroke-linecap:butt;stroke-linejoin:miter;stroke-opacity:1\"/>\n",
       "<path class=\"bond-14 atom-3 atom-15\" d=\"M 276.4,177.6 L 329.6,177.7\" style=\"fill:none;fill-rule:evenodd;stroke:#000000;stroke-width:2.0px;stroke-linecap:butt;stroke-linejoin:miter;stroke-opacity:1\"/>\n",
       "<path class=\"bond-4 atom-4 atom-5\" d=\"M 288.3,107.6 L 311.0,95.0\" style=\"fill:none;fill-rule:evenodd;stroke:#FF0000;stroke-width:2.0px;stroke-linecap:butt;stroke-linejoin:miter;stroke-opacity:1\"/>\n",
       "<path class=\"bond-4 atom-4 atom-5\" d=\"M 311.0,95.0 L 333.7,82.4\" style=\"fill:none;fill-rule:evenodd;stroke:#000000;stroke-width:2.0px;stroke-linecap:butt;stroke-linejoin:miter;stroke-opacity:1\"/>\n",
       "<path class=\"bond-5 atom-5 atom-6\" d=\"M 333.7,82.4 L 390.1,115.2\" style=\"fill:none;fill-rule:evenodd;stroke:#000000;stroke-width:2.0px;stroke-linecap:butt;stroke-linejoin:miter;stroke-opacity:1\"/>\n",
       "<path class=\"bond-15 atom-5 atom-16\" d=\"M 333.7,82.4 L 308.6,38.3\" style=\"fill:none;fill-rule:evenodd;stroke:#000000;stroke-width:2.0px;stroke-linecap:butt;stroke-linejoin:miter;stroke-opacity:1\"/>\n",
       "<path class=\"bond-16 atom-5 atom-17\" d=\"M 333.7,82.4 L 359.0,38.7\" style=\"fill:none;fill-rule:evenodd;stroke:#000000;stroke-width:2.0px;stroke-linecap:butt;stroke-linejoin:miter;stroke-opacity:1\"/>\n",
       "<path class=\"bond-17 atom-6 atom-18\" d=\"M 390.1,115.2 L 415.4,71.4\" style=\"fill:none;fill-rule:evenodd;stroke:#000000;stroke-width:2.0px;stroke-linecap:butt;stroke-linejoin:miter;stroke-opacity:1\"/>\n",
       "<path class=\"bond-18 atom-6 atom-19\" d=\"M 390.1,115.2 L 444.5,115.1\" style=\"fill:none;fill-rule:evenodd;stroke:#000000;stroke-width:2.0px;stroke-linecap:butt;stroke-linejoin:miter;stroke-opacity:1\"/>\n",
       "<path class=\"bond-19 atom-6 atom-20\" d=\"M 390.1,115.2 L 390.4,168.2\" style=\"fill:none;fill-rule:evenodd;stroke:#000000;stroke-width:2.0px;stroke-linecap:butt;stroke-linejoin:miter;stroke-opacity:1\"/>\n",
       "<path class=\"atom-4\" d=\"M 268.0 113.8 Q 268.0 108.9, 270.4 106.1 Q 272.8 103.4, 277.3 103.4 Q 281.9 103.4, 284.3 106.1 Q 286.7 108.9, 286.7 113.8 Q 286.7 118.8, 284.3 121.6 Q 281.8 124.4, 277.3 124.4 Q 272.8 124.4, 270.4 121.6 Q 268.0 118.8, 268.0 113.8 M 277.3 122.1 Q 280.5 122.1, 282.1 120.0 Q 283.8 117.9, 283.8 113.8 Q 283.8 109.8, 282.1 107.8 Q 280.5 105.7, 277.3 105.7 Q 274.2 105.7, 272.5 107.7 Q 270.8 109.8, 270.8 113.8 Q 270.8 117.9, 272.5 120.0 Q 274.2 122.1, 277.3 122.1 \" fill=\"#FF0000\"/>\n",
       "<path class=\"atom-7\" d=\"M 70.2 143.3 L 73.0 143.3 L 73.0 152.0 L 83.5 152.0 L 83.5 143.3 L 86.3 143.3 L 86.3 163.8 L 83.5 163.8 L 83.5 154.3 L 73.0 154.3 L 73.0 163.8 L 70.2 163.8 L 70.2 143.3 \" fill=\"#000000\"/>\n",
       "<path class=\"atom-8\" d=\"M 37.8 198.7 L 40.6 198.7 L 40.6 207.4 L 51.1 207.4 L 51.1 198.7 L 53.9 198.7 L 53.9 219.2 L 51.1 219.2 L 51.1 209.7 L 40.6 209.7 L 40.6 219.2 L 37.8 219.2 L 37.8 198.7 \" fill=\"#000000\"/>\n",
       "<path class=\"atom-9\" d=\"M 101.7 263.3 L 104.5 263.3 L 104.5 272.0 L 114.9 272.0 L 114.9 263.3 L 117.7 263.3 L 117.7 283.7 L 114.9 283.7 L 114.9 274.3 L 104.5 274.3 L 104.5 283.7 L 101.7 283.7 L 101.7 263.3 \" fill=\"#000000\"/>\n",
       "<path class=\"atom-10\" d=\"M 190.1 111.8 L 192.9 111.8 L 192.9 120.5 L 203.3 120.5 L 203.3 111.8 L 206.1 111.8 L 206.1 132.3 L 203.3 132.3 L 203.3 122.8 L 192.9 122.8 L 192.9 132.3 L 190.1 132.3 L 190.1 111.8 \" fill=\"#000000\"/>\n",
       "<path class=\"atom-11\" d=\"M 126.0 111.5 L 128.8 111.5 L 128.8 120.2 L 139.2 120.2 L 139.2 111.5 L 142.0 111.5 L 142.0 132.0 L 139.2 132.0 L 139.2 122.5 L 128.8 122.5 L 128.8 132.0 L 126.0 132.0 L 126.0 111.5 \" fill=\"#000000\"/>\n",
       "<path class=\"atom-12\" d=\"M 180.8 254.9 L 183.5 254.9 L 183.5 263.5 L 194.0 263.5 L 194.0 254.9 L 196.8 254.9 L 196.8 275.3 L 194.0 275.3 L 194.0 265.9 L 183.5 265.9 L 183.5 275.3 L 180.8 275.3 L 180.8 254.9 \" fill=\"#000000\"/>\n",
       "<path class=\"atom-13\" d=\"M 245.1 255.0 L 247.8 255.0 L 247.8 263.7 L 258.3 263.7 L 258.3 255.0 L 261.1 255.0 L 261.1 275.4 L 258.3 275.4 L 258.3 266.0 L 247.8 266.0 L 247.8 275.4 L 245.1 275.4 L 245.1 255.0 \" fill=\"#000000\"/>\n",
       "<path class=\"atom-14\" d=\"M 300.6 222.9 L 303.4 222.9 L 303.4 231.6 L 313.8 231.6 L 313.8 222.9 L 316.6 222.9 L 316.6 243.4 L 313.8 243.4 L 313.8 233.9 L 303.4 233.9 L 303.4 243.4 L 300.6 243.4 L 300.6 222.9 \" fill=\"#000000\"/>\n",
       "<path class=\"atom-15\" d=\"M 331.1 167.5 L 333.9 167.5 L 333.9 176.2 L 344.4 176.2 L 344.4 167.5 L 347.1 167.5 L 347.1 188.0 L 344.4 188.0 L 344.4 178.5 L 333.9 178.5 L 333.9 188.0 L 331.1 188.0 L 331.1 167.5 \" fill=\"#000000\"/>\n",
       "<path class=\"atom-16\" d=\"M 293.9 16.3 L 296.7 16.3 L 296.7 25.0 L 307.1 25.0 L 307.1 16.3 L 309.9 16.3 L 309.9 36.7 L 307.1 36.7 L 307.1 27.3 L 296.7 27.3 L 296.7 36.7 L 293.9 36.7 L 293.9 16.3 \" fill=\"#000000\"/>\n",
       "<path class=\"atom-17\" d=\"M 357.9 16.6 L 360.7 16.6 L 360.7 25.3 L 371.1 25.3 L 371.1 16.6 L 373.9 16.6 L 373.9 37.1 L 371.1 37.1 L 371.1 27.6 L 360.7 27.6 L 360.7 37.1 L 357.9 37.1 L 357.9 16.6 \" fill=\"#000000\"/>\n",
       "<path class=\"atom-18\" d=\"M 414.2 49.4 L 417.0 49.4 L 417.0 58.1 L 427.4 58.1 L 427.4 49.4 L 430.2 49.4 L 430.2 69.8 L 427.4 69.8 L 427.4 60.4 L 417.0 60.4 L 417.0 69.8 L 414.2 69.8 L 414.2 49.4 \" fill=\"#000000\"/>\n",
       "<path class=\"atom-19\" d=\"M 446.1 104.8 L 448.9 104.8 L 448.9 113.5 L 459.4 113.5 L 459.4 104.8 L 462.2 104.8 L 462.2 125.3 L 459.4 125.3 L 459.4 115.8 L 448.9 115.8 L 448.9 125.3 L 446.1 125.3 L 446.1 104.8 \" fill=\"#000000\"/>\n",
       "<path class=\"atom-20\" d=\"M 382.5 169.8 L 385.3 169.8 L 385.3 178.5 L 395.7 178.5 L 395.7 169.8 L 398.5 169.8 L 398.5 190.3 L 395.7 190.3 L 395.7 180.8 L 385.3 180.8 L 385.3 190.3 L 382.5 190.3 L 382.5 169.8 \" fill=\"#000000\"/>\n",
       "</svg>"
      ],
      "text/plain": [
       "<IPython.core.display.SVG object>"
      ]
     },
     "metadata": {},
     "output_type": "display_data"
    }
   ],
   "source": [
    "m = Molecule.from_smiles(\"CCCCOCC\")\n",
    "m"
   ]
  },
  {
   "cell_type": "markdown",
   "metadata": {},
   "source": [
    "The regular `display()` call works on `Molecule` objects too."
   ]
  },
  {
   "cell_type": "code",
   "execution_count": 3,
   "metadata": {},
   "outputs": [
    {
     "data": {
      "image/svg+xml": [
       "<svg xmlns=\"http://www.w3.org/2000/svg\" xmlns:rdkit=\"http://www.rdkit.org/xml\" xmlns:xlink=\"http://www.w3.org/1999/xlink\" version=\"1.1\" baseProfile=\"full\" xml:space=\"preserve\" width=\"500px\" height=\"300px\" viewBox=\"0 0 500 300\">\n",
       "<!-- END OF HEADER -->\n",
       "<rect style=\"opacity:1.0;fill:#FFFFFF;stroke:none\" width=\"500.0\" height=\"300.0\" x=\"0.0\" y=\"0.0\"> </rect>\n",
       "<path class=\"bond-0 atom-0 atom-1\" d=\"M 110.0,209.3 L 165.7,177.4\" style=\"fill:none;fill-rule:evenodd;stroke:#000000;stroke-width:2.0px;stroke-linecap:butt;stroke-linejoin:miter;stroke-opacity:1\"/>\n",
       "<path class=\"bond-6 atom-0 atom-7\" d=\"M 110.0,209.3 L 85.0,165.4\" style=\"fill:none;fill-rule:evenodd;stroke:#000000;stroke-width:2.0px;stroke-linecap:butt;stroke-linejoin:miter;stroke-opacity:1\"/>\n",
       "<path class=\"bond-7 atom-0 atom-8\" d=\"M 110.0,209.3 L 55.5,209.0\" style=\"fill:none;fill-rule:evenodd;stroke:#000000;stroke-width:2.0px;stroke-linecap:butt;stroke-linejoin:miter;stroke-opacity:1\"/>\n",
       "<path class=\"bond-8 atom-0 atom-9\" d=\"M 110.0,209.3 L 109.8,261.7\" style=\"fill:none;fill-rule:evenodd;stroke:#000000;stroke-width:2.0px;stroke-linecap:butt;stroke-linejoin:miter;stroke-opacity:1\"/>\n",
       "<path class=\"bond-1 atom-1 atom-2\" d=\"M 165.7,177.4 L 220.9,209.5\" style=\"fill:none;fill-rule:evenodd;stroke:#000000;stroke-width:2.0px;stroke-linecap:butt;stroke-linejoin:miter;stroke-opacity:1\"/>\n",
       "<path class=\"bond-9 atom-1 atom-10\" d=\"M 165.7,177.4 L 191.2,133.9\" style=\"fill:none;fill-rule:evenodd;stroke:#000000;stroke-width:2.0px;stroke-linecap:butt;stroke-linejoin:miter;stroke-opacity:1\"/>\n",
       "<path class=\"bond-10 atom-1 atom-11\" d=\"M 165.7,177.4 L 140.7,133.6\" style=\"fill:none;fill-rule:evenodd;stroke:#000000;stroke-width:2.0px;stroke-linecap:butt;stroke-linejoin:miter;stroke-opacity:1\"/>\n",
       "<path class=\"bond-2 atom-2 atom-3\" d=\"M 220.9,209.5 L 276.4,177.6\" style=\"fill:none;fill-rule:evenodd;stroke:#000000;stroke-width:2.0px;stroke-linecap:butt;stroke-linejoin:miter;stroke-opacity:1\"/>\n",
       "<path class=\"bond-11 atom-2 atom-12\" d=\"M 220.9,209.5 L 195.6,253.2\" style=\"fill:none;fill-rule:evenodd;stroke:#000000;stroke-width:2.0px;stroke-linecap:butt;stroke-linejoin:miter;stroke-opacity:1\"/>\n",
       "<path class=\"bond-12 atom-2 atom-13\" d=\"M 220.9,209.5 L 246.2,253.4\" style=\"fill:none;fill-rule:evenodd;stroke:#000000;stroke-width:2.0px;stroke-linecap:butt;stroke-linejoin:miter;stroke-opacity:1\"/>\n",
       "<path class=\"bond-3 atom-3 atom-4\" d=\"M 276.4,177.6 L 276.8,151.8\" style=\"fill:none;fill-rule:evenodd;stroke:#000000;stroke-width:2.0px;stroke-linecap:butt;stroke-linejoin:miter;stroke-opacity:1\"/>\n",
       "<path class=\"bond-3 atom-3 atom-4\" d=\"M 276.8,151.8 L 277.2,126.0\" style=\"fill:none;fill-rule:evenodd;stroke:#FF0000;stroke-width:2.0px;stroke-linecap:butt;stroke-linejoin:miter;stroke-opacity:1\"/>\n",
       "<path class=\"bond-13 atom-3 atom-14\" d=\"M 276.4,177.6 L 301.8,221.3\" style=\"fill:none;fill-rule:evenodd;stroke:#000000;stroke-width:2.0px;stroke-linecap:butt;stroke-linejoin:miter;stroke-opacity:1\"/>\n",
       "<path class=\"bond-14 atom-3 atom-15\" d=\"M 276.4,177.6 L 329.6,177.7\" style=\"fill:none;fill-rule:evenodd;stroke:#000000;stroke-width:2.0px;stroke-linecap:butt;stroke-linejoin:miter;stroke-opacity:1\"/>\n",
       "<path class=\"bond-4 atom-4 atom-5\" d=\"M 288.3,107.6 L 311.0,95.0\" style=\"fill:none;fill-rule:evenodd;stroke:#FF0000;stroke-width:2.0px;stroke-linecap:butt;stroke-linejoin:miter;stroke-opacity:1\"/>\n",
       "<path class=\"bond-4 atom-4 atom-5\" d=\"M 311.0,95.0 L 333.7,82.4\" style=\"fill:none;fill-rule:evenodd;stroke:#000000;stroke-width:2.0px;stroke-linecap:butt;stroke-linejoin:miter;stroke-opacity:1\"/>\n",
       "<path class=\"bond-5 atom-5 atom-6\" d=\"M 333.7,82.4 L 390.1,115.2\" style=\"fill:none;fill-rule:evenodd;stroke:#000000;stroke-width:2.0px;stroke-linecap:butt;stroke-linejoin:miter;stroke-opacity:1\"/>\n",
       "<path class=\"bond-15 atom-5 atom-16\" d=\"M 333.7,82.4 L 308.6,38.3\" style=\"fill:none;fill-rule:evenodd;stroke:#000000;stroke-width:2.0px;stroke-linecap:butt;stroke-linejoin:miter;stroke-opacity:1\"/>\n",
       "<path class=\"bond-16 atom-5 atom-17\" d=\"M 333.7,82.4 L 359.0,38.7\" style=\"fill:none;fill-rule:evenodd;stroke:#000000;stroke-width:2.0px;stroke-linecap:butt;stroke-linejoin:miter;stroke-opacity:1\"/>\n",
       "<path class=\"bond-17 atom-6 atom-18\" d=\"M 390.1,115.2 L 415.4,71.4\" style=\"fill:none;fill-rule:evenodd;stroke:#000000;stroke-width:2.0px;stroke-linecap:butt;stroke-linejoin:miter;stroke-opacity:1\"/>\n",
       "<path class=\"bond-18 atom-6 atom-19\" d=\"M 390.1,115.2 L 444.5,115.1\" style=\"fill:none;fill-rule:evenodd;stroke:#000000;stroke-width:2.0px;stroke-linecap:butt;stroke-linejoin:miter;stroke-opacity:1\"/>\n",
       "<path class=\"bond-19 atom-6 atom-20\" d=\"M 390.1,115.2 L 390.4,168.2\" style=\"fill:none;fill-rule:evenodd;stroke:#000000;stroke-width:2.0px;stroke-linecap:butt;stroke-linejoin:miter;stroke-opacity:1\"/>\n",
       "<path class=\"atom-4\" d=\"M 268.0 113.8 Q 268.0 108.9, 270.4 106.1 Q 272.8 103.4, 277.3 103.4 Q 281.9 103.4, 284.3 106.1 Q 286.7 108.9, 286.7 113.8 Q 286.7 118.8, 284.3 121.6 Q 281.8 124.4, 277.3 124.4 Q 272.8 124.4, 270.4 121.6 Q 268.0 118.8, 268.0 113.8 M 277.3 122.1 Q 280.5 122.1, 282.1 120.0 Q 283.8 117.9, 283.8 113.8 Q 283.8 109.8, 282.1 107.8 Q 280.5 105.7, 277.3 105.7 Q 274.2 105.7, 272.5 107.7 Q 270.8 109.8, 270.8 113.8 Q 270.8 117.9, 272.5 120.0 Q 274.2 122.1, 277.3 122.1 \" fill=\"#FF0000\"/>\n",
       "<path class=\"atom-7\" d=\"M 70.2 143.3 L 73.0 143.3 L 73.0 152.0 L 83.5 152.0 L 83.5 143.3 L 86.3 143.3 L 86.3 163.8 L 83.5 163.8 L 83.5 154.3 L 73.0 154.3 L 73.0 163.8 L 70.2 163.8 L 70.2 143.3 \" fill=\"#000000\"/>\n",
       "<path class=\"atom-8\" d=\"M 37.8 198.7 L 40.6 198.7 L 40.6 207.4 L 51.1 207.4 L 51.1 198.7 L 53.9 198.7 L 53.9 219.2 L 51.1 219.2 L 51.1 209.7 L 40.6 209.7 L 40.6 219.2 L 37.8 219.2 L 37.8 198.7 \" fill=\"#000000\"/>\n",
       "<path class=\"atom-9\" d=\"M 101.7 263.3 L 104.5 263.3 L 104.5 272.0 L 114.9 272.0 L 114.9 263.3 L 117.7 263.3 L 117.7 283.7 L 114.9 283.7 L 114.9 274.3 L 104.5 274.3 L 104.5 283.7 L 101.7 283.7 L 101.7 263.3 \" fill=\"#000000\"/>\n",
       "<path class=\"atom-10\" d=\"M 190.1 111.8 L 192.9 111.8 L 192.9 120.5 L 203.3 120.5 L 203.3 111.8 L 206.1 111.8 L 206.1 132.3 L 203.3 132.3 L 203.3 122.8 L 192.9 122.8 L 192.9 132.3 L 190.1 132.3 L 190.1 111.8 \" fill=\"#000000\"/>\n",
       "<path class=\"atom-11\" d=\"M 126.0 111.5 L 128.8 111.5 L 128.8 120.2 L 139.2 120.2 L 139.2 111.5 L 142.0 111.5 L 142.0 132.0 L 139.2 132.0 L 139.2 122.5 L 128.8 122.5 L 128.8 132.0 L 126.0 132.0 L 126.0 111.5 \" fill=\"#000000\"/>\n",
       "<path class=\"atom-12\" d=\"M 180.8 254.9 L 183.5 254.9 L 183.5 263.5 L 194.0 263.5 L 194.0 254.9 L 196.8 254.9 L 196.8 275.3 L 194.0 275.3 L 194.0 265.9 L 183.5 265.9 L 183.5 275.3 L 180.8 275.3 L 180.8 254.9 \" fill=\"#000000\"/>\n",
       "<path class=\"atom-13\" d=\"M 245.1 255.0 L 247.8 255.0 L 247.8 263.7 L 258.3 263.7 L 258.3 255.0 L 261.1 255.0 L 261.1 275.4 L 258.3 275.4 L 258.3 266.0 L 247.8 266.0 L 247.8 275.4 L 245.1 275.4 L 245.1 255.0 \" fill=\"#000000\"/>\n",
       "<path class=\"atom-14\" d=\"M 300.6 222.9 L 303.4 222.9 L 303.4 231.6 L 313.8 231.6 L 313.8 222.9 L 316.6 222.9 L 316.6 243.4 L 313.8 243.4 L 313.8 233.9 L 303.4 233.9 L 303.4 243.4 L 300.6 243.4 L 300.6 222.9 \" fill=\"#000000\"/>\n",
       "<path class=\"atom-15\" d=\"M 331.1 167.5 L 333.9 167.5 L 333.9 176.2 L 344.4 176.2 L 344.4 167.5 L 347.1 167.5 L 347.1 188.0 L 344.4 188.0 L 344.4 178.5 L 333.9 178.5 L 333.9 188.0 L 331.1 188.0 L 331.1 167.5 \" fill=\"#000000\"/>\n",
       "<path class=\"atom-16\" d=\"M 293.9 16.3 L 296.7 16.3 L 296.7 25.0 L 307.1 25.0 L 307.1 16.3 L 309.9 16.3 L 309.9 36.7 L 307.1 36.7 L 307.1 27.3 L 296.7 27.3 L 296.7 36.7 L 293.9 36.7 L 293.9 16.3 \" fill=\"#000000\"/>\n",
       "<path class=\"atom-17\" d=\"M 357.9 16.6 L 360.7 16.6 L 360.7 25.3 L 371.1 25.3 L 371.1 16.6 L 373.9 16.6 L 373.9 37.1 L 371.1 37.1 L 371.1 27.6 L 360.7 27.6 L 360.7 37.1 L 357.9 37.1 L 357.9 16.6 \" fill=\"#000000\"/>\n",
       "<path class=\"atom-18\" d=\"M 414.2 49.4 L 417.0 49.4 L 417.0 58.1 L 427.4 58.1 L 427.4 49.4 L 430.2 49.4 L 430.2 69.8 L 427.4 69.8 L 427.4 60.4 L 417.0 60.4 L 417.0 69.8 L 414.2 69.8 L 414.2 49.4 \" fill=\"#000000\"/>\n",
       "<path class=\"atom-19\" d=\"M 446.1 104.8 L 448.9 104.8 L 448.9 113.5 L 459.4 113.5 L 459.4 104.8 L 462.2 104.8 L 462.2 125.3 L 459.4 125.3 L 459.4 115.8 L 448.9 115.8 L 448.9 125.3 L 446.1 125.3 L 446.1 104.8 \" fill=\"#000000\"/>\n",
       "<path class=\"atom-20\" d=\"M 382.5 169.8 L 385.3 169.8 L 385.3 178.5 L 395.7 178.5 L 395.7 169.8 L 398.5 169.8 L 398.5 190.3 L 395.7 190.3 L 395.7 180.8 L 385.3 180.8 L 385.3 190.3 L 382.5 190.3 L 382.5 169.8 \" fill=\"#000000\"/>\n",
       "</svg>"
      ],
      "text/plain": [
       "<IPython.core.display.SVG object>"
      ]
     },
     "metadata": {},
     "output_type": "display_data"
    }
   ],
   "source": [
    "display(m)  # noqa"
   ]
  },
  {
   "cell_type": "markdown",
   "metadata": {},
   "source": [
    "_Explicit_ visualization works as one would expect:"
   ]
  },
  {
   "cell_type": "code",
   "execution_count": 4,
   "metadata": {},
   "outputs": [
    {
     "data": {
      "image/svg+xml": [
       "<svg xmlns=\"http://www.w3.org/2000/svg\" xmlns:rdkit=\"http://www.rdkit.org/xml\" xmlns:xlink=\"http://www.w3.org/1999/xlink\" version=\"1.1\" baseProfile=\"full\" xml:space=\"preserve\" width=\"500px\" height=\"300px\" viewBox=\"0 0 500 300\">\n",
       "<!-- END OF HEADER -->\n",
       "<rect style=\"opacity:1.0;fill:#FFFFFF;stroke:none\" width=\"500.0\" height=\"300.0\" x=\"0.0\" y=\"0.0\"> </rect>\n",
       "<path class=\"bond-0 atom-0 atom-1\" d=\"M 110.0,209.3 L 165.7,177.4\" style=\"fill:none;fill-rule:evenodd;stroke:#000000;stroke-width:2.0px;stroke-linecap:butt;stroke-linejoin:miter;stroke-opacity:1\"/>\n",
       "<path class=\"bond-6 atom-0 atom-7\" d=\"M 110.0,209.3 L 85.0,165.4\" style=\"fill:none;fill-rule:evenodd;stroke:#000000;stroke-width:2.0px;stroke-linecap:butt;stroke-linejoin:miter;stroke-opacity:1\"/>\n",
       "<path class=\"bond-7 atom-0 atom-8\" d=\"M 110.0,209.3 L 55.5,209.0\" style=\"fill:none;fill-rule:evenodd;stroke:#000000;stroke-width:2.0px;stroke-linecap:butt;stroke-linejoin:miter;stroke-opacity:1\"/>\n",
       "<path class=\"bond-8 atom-0 atom-9\" d=\"M 110.0,209.3 L 109.8,261.7\" style=\"fill:none;fill-rule:evenodd;stroke:#000000;stroke-width:2.0px;stroke-linecap:butt;stroke-linejoin:miter;stroke-opacity:1\"/>\n",
       "<path class=\"bond-1 atom-1 atom-2\" d=\"M 165.7,177.4 L 220.9,209.5\" style=\"fill:none;fill-rule:evenodd;stroke:#000000;stroke-width:2.0px;stroke-linecap:butt;stroke-linejoin:miter;stroke-opacity:1\"/>\n",
       "<path class=\"bond-9 atom-1 atom-10\" d=\"M 165.7,177.4 L 191.2,133.9\" style=\"fill:none;fill-rule:evenodd;stroke:#000000;stroke-width:2.0px;stroke-linecap:butt;stroke-linejoin:miter;stroke-opacity:1\"/>\n",
       "<path class=\"bond-10 atom-1 atom-11\" d=\"M 165.7,177.4 L 140.7,133.6\" style=\"fill:none;fill-rule:evenodd;stroke:#000000;stroke-width:2.0px;stroke-linecap:butt;stroke-linejoin:miter;stroke-opacity:1\"/>\n",
       "<path class=\"bond-2 atom-2 atom-3\" d=\"M 220.9,209.5 L 276.4,177.6\" style=\"fill:none;fill-rule:evenodd;stroke:#000000;stroke-width:2.0px;stroke-linecap:butt;stroke-linejoin:miter;stroke-opacity:1\"/>\n",
       "<path class=\"bond-11 atom-2 atom-12\" d=\"M 220.9,209.5 L 195.6,253.2\" style=\"fill:none;fill-rule:evenodd;stroke:#000000;stroke-width:2.0px;stroke-linecap:butt;stroke-linejoin:miter;stroke-opacity:1\"/>\n",
       "<path class=\"bond-12 atom-2 atom-13\" d=\"M 220.9,209.5 L 246.2,253.4\" style=\"fill:none;fill-rule:evenodd;stroke:#000000;stroke-width:2.0px;stroke-linecap:butt;stroke-linejoin:miter;stroke-opacity:1\"/>\n",
       "<path class=\"bond-3 atom-3 atom-4\" d=\"M 276.4,177.6 L 276.8,151.8\" style=\"fill:none;fill-rule:evenodd;stroke:#000000;stroke-width:2.0px;stroke-linecap:butt;stroke-linejoin:miter;stroke-opacity:1\"/>\n",
       "<path class=\"bond-3 atom-3 atom-4\" d=\"M 276.8,151.8 L 277.2,126.0\" style=\"fill:none;fill-rule:evenodd;stroke:#FF0000;stroke-width:2.0px;stroke-linecap:butt;stroke-linejoin:miter;stroke-opacity:1\"/>\n",
       "<path class=\"bond-13 atom-3 atom-14\" d=\"M 276.4,177.6 L 301.8,221.3\" style=\"fill:none;fill-rule:evenodd;stroke:#000000;stroke-width:2.0px;stroke-linecap:butt;stroke-linejoin:miter;stroke-opacity:1\"/>\n",
       "<path class=\"bond-14 atom-3 atom-15\" d=\"M 276.4,177.6 L 329.6,177.7\" style=\"fill:none;fill-rule:evenodd;stroke:#000000;stroke-width:2.0px;stroke-linecap:butt;stroke-linejoin:miter;stroke-opacity:1\"/>\n",
       "<path class=\"bond-4 atom-4 atom-5\" d=\"M 288.3,107.6 L 311.0,95.0\" style=\"fill:none;fill-rule:evenodd;stroke:#FF0000;stroke-width:2.0px;stroke-linecap:butt;stroke-linejoin:miter;stroke-opacity:1\"/>\n",
       "<path class=\"bond-4 atom-4 atom-5\" d=\"M 311.0,95.0 L 333.7,82.4\" style=\"fill:none;fill-rule:evenodd;stroke:#000000;stroke-width:2.0px;stroke-linecap:butt;stroke-linejoin:miter;stroke-opacity:1\"/>\n",
       "<path class=\"bond-5 atom-5 atom-6\" d=\"M 333.7,82.4 L 390.1,115.2\" style=\"fill:none;fill-rule:evenodd;stroke:#000000;stroke-width:2.0px;stroke-linecap:butt;stroke-linejoin:miter;stroke-opacity:1\"/>\n",
       "<path class=\"bond-15 atom-5 atom-16\" d=\"M 333.7,82.4 L 308.6,38.3\" style=\"fill:none;fill-rule:evenodd;stroke:#000000;stroke-width:2.0px;stroke-linecap:butt;stroke-linejoin:miter;stroke-opacity:1\"/>\n",
       "<path class=\"bond-16 atom-5 atom-17\" d=\"M 333.7,82.4 L 359.0,38.7\" style=\"fill:none;fill-rule:evenodd;stroke:#000000;stroke-width:2.0px;stroke-linecap:butt;stroke-linejoin:miter;stroke-opacity:1\"/>\n",
       "<path class=\"bond-17 atom-6 atom-18\" d=\"M 390.1,115.2 L 415.4,71.4\" style=\"fill:none;fill-rule:evenodd;stroke:#000000;stroke-width:2.0px;stroke-linecap:butt;stroke-linejoin:miter;stroke-opacity:1\"/>\n",
       "<path class=\"bond-18 atom-6 atom-19\" d=\"M 390.1,115.2 L 444.5,115.1\" style=\"fill:none;fill-rule:evenodd;stroke:#000000;stroke-width:2.0px;stroke-linecap:butt;stroke-linejoin:miter;stroke-opacity:1\"/>\n",
       "<path class=\"bond-19 atom-6 atom-20\" d=\"M 390.1,115.2 L 390.4,168.2\" style=\"fill:none;fill-rule:evenodd;stroke:#000000;stroke-width:2.0px;stroke-linecap:butt;stroke-linejoin:miter;stroke-opacity:1\"/>\n",
       "<path class=\"atom-4\" d=\"M 268.0 113.8 Q 268.0 108.9, 270.4 106.1 Q 272.8 103.4, 277.3 103.4 Q 281.9 103.4, 284.3 106.1 Q 286.7 108.9, 286.7 113.8 Q 286.7 118.8, 284.3 121.6 Q 281.8 124.4, 277.3 124.4 Q 272.8 124.4, 270.4 121.6 Q 268.0 118.8, 268.0 113.8 M 277.3 122.1 Q 280.5 122.1, 282.1 120.0 Q 283.8 117.9, 283.8 113.8 Q 283.8 109.8, 282.1 107.8 Q 280.5 105.7, 277.3 105.7 Q 274.2 105.7, 272.5 107.7 Q 270.8 109.8, 270.8 113.8 Q 270.8 117.9, 272.5 120.0 Q 274.2 122.1, 277.3 122.1 \" fill=\"#FF0000\"/>\n",
       "<path class=\"atom-7\" d=\"M 70.2 143.3 L 73.0 143.3 L 73.0 152.0 L 83.5 152.0 L 83.5 143.3 L 86.3 143.3 L 86.3 163.8 L 83.5 163.8 L 83.5 154.3 L 73.0 154.3 L 73.0 163.8 L 70.2 163.8 L 70.2 143.3 \" fill=\"#000000\"/>\n",
       "<path class=\"atom-8\" d=\"M 37.8 198.7 L 40.6 198.7 L 40.6 207.4 L 51.1 207.4 L 51.1 198.7 L 53.9 198.7 L 53.9 219.2 L 51.1 219.2 L 51.1 209.7 L 40.6 209.7 L 40.6 219.2 L 37.8 219.2 L 37.8 198.7 \" fill=\"#000000\"/>\n",
       "<path class=\"atom-9\" d=\"M 101.7 263.3 L 104.5 263.3 L 104.5 272.0 L 114.9 272.0 L 114.9 263.3 L 117.7 263.3 L 117.7 283.7 L 114.9 283.7 L 114.9 274.3 L 104.5 274.3 L 104.5 283.7 L 101.7 283.7 L 101.7 263.3 \" fill=\"#000000\"/>\n",
       "<path class=\"atom-10\" d=\"M 190.1 111.8 L 192.9 111.8 L 192.9 120.5 L 203.3 120.5 L 203.3 111.8 L 206.1 111.8 L 206.1 132.3 L 203.3 132.3 L 203.3 122.8 L 192.9 122.8 L 192.9 132.3 L 190.1 132.3 L 190.1 111.8 \" fill=\"#000000\"/>\n",
       "<path class=\"atom-11\" d=\"M 126.0 111.5 L 128.8 111.5 L 128.8 120.2 L 139.2 120.2 L 139.2 111.5 L 142.0 111.5 L 142.0 132.0 L 139.2 132.0 L 139.2 122.5 L 128.8 122.5 L 128.8 132.0 L 126.0 132.0 L 126.0 111.5 \" fill=\"#000000\"/>\n",
       "<path class=\"atom-12\" d=\"M 180.8 254.9 L 183.5 254.9 L 183.5 263.5 L 194.0 263.5 L 194.0 254.9 L 196.8 254.9 L 196.8 275.3 L 194.0 275.3 L 194.0 265.9 L 183.5 265.9 L 183.5 275.3 L 180.8 275.3 L 180.8 254.9 \" fill=\"#000000\"/>\n",
       "<path class=\"atom-13\" d=\"M 245.1 255.0 L 247.8 255.0 L 247.8 263.7 L 258.3 263.7 L 258.3 255.0 L 261.1 255.0 L 261.1 275.4 L 258.3 275.4 L 258.3 266.0 L 247.8 266.0 L 247.8 275.4 L 245.1 275.4 L 245.1 255.0 \" fill=\"#000000\"/>\n",
       "<path class=\"atom-14\" d=\"M 300.6 222.9 L 303.4 222.9 L 303.4 231.6 L 313.8 231.6 L 313.8 222.9 L 316.6 222.9 L 316.6 243.4 L 313.8 243.4 L 313.8 233.9 L 303.4 233.9 L 303.4 243.4 L 300.6 243.4 L 300.6 222.9 \" fill=\"#000000\"/>\n",
       "<path class=\"atom-15\" d=\"M 331.1 167.5 L 333.9 167.5 L 333.9 176.2 L 344.4 176.2 L 344.4 167.5 L 347.1 167.5 L 347.1 188.0 L 344.4 188.0 L 344.4 178.5 L 333.9 178.5 L 333.9 188.0 L 331.1 188.0 L 331.1 167.5 \" fill=\"#000000\"/>\n",
       "<path class=\"atom-16\" d=\"M 293.9 16.3 L 296.7 16.3 L 296.7 25.0 L 307.1 25.0 L 307.1 16.3 L 309.9 16.3 L 309.9 36.7 L 307.1 36.7 L 307.1 27.3 L 296.7 27.3 L 296.7 36.7 L 293.9 36.7 L 293.9 16.3 \" fill=\"#000000\"/>\n",
       "<path class=\"atom-17\" d=\"M 357.9 16.6 L 360.7 16.6 L 360.7 25.3 L 371.1 25.3 L 371.1 16.6 L 373.9 16.6 L 373.9 37.1 L 371.1 37.1 L 371.1 27.6 L 360.7 27.6 L 360.7 37.1 L 357.9 37.1 L 357.9 16.6 \" fill=\"#000000\"/>\n",
       "<path class=\"atom-18\" d=\"M 414.2 49.4 L 417.0 49.4 L 417.0 58.1 L 427.4 58.1 L 427.4 49.4 L 430.2 49.4 L 430.2 69.8 L 427.4 69.8 L 427.4 60.4 L 417.0 60.4 L 417.0 69.8 L 414.2 69.8 L 414.2 49.4 \" fill=\"#000000\"/>\n",
       "<path class=\"atom-19\" d=\"M 446.1 104.8 L 448.9 104.8 L 448.9 113.5 L 459.4 113.5 L 459.4 104.8 L 462.2 104.8 L 462.2 125.3 L 459.4 125.3 L 459.4 115.8 L 448.9 115.8 L 448.9 125.3 L 446.1 125.3 L 446.1 104.8 \" fill=\"#000000\"/>\n",
       "<path class=\"atom-20\" d=\"M 382.5 169.8 L 385.3 169.8 L 385.3 178.5 L 395.7 178.5 L 395.7 169.8 L 398.5 169.8 L 398.5 190.3 L 395.7 190.3 L 395.7 180.8 L 385.3 180.8 L 385.3 190.3 L 382.5 190.3 L 382.5 169.8 \" fill=\"#000000\"/>\n",
       "</svg>"
      ],
      "text/plain": [
       "<IPython.core.display.SVG object>"
      ]
     },
     "execution_count": 4,
     "metadata": {},
     "output_type": "execute_result"
    }
   ],
   "source": [
    "m.visualize()"
   ]
  },
  {
   "cell_type": "markdown",
   "metadata": {},
   "source": [
    "This method can take a `backend` parameter, which defaults to `rdkit`:"
   ]
  },
  {
   "cell_type": "code",
   "execution_count": 5,
   "metadata": {},
   "outputs": [
    {
     "data": {
      "image/svg+xml": [
       "<svg xmlns=\"http://www.w3.org/2000/svg\" xmlns:rdkit=\"http://www.rdkit.org/xml\" xmlns:xlink=\"http://www.w3.org/1999/xlink\" version=\"1.1\" baseProfile=\"full\" xml:space=\"preserve\" width=\"500px\" height=\"300px\" viewBox=\"0 0 500 300\">\n",
       "<!-- END OF HEADER -->\n",
       "<rect style=\"opacity:1.0;fill:#FFFFFF;stroke:none\" width=\"500.0\" height=\"300.0\" x=\"0.0\" y=\"0.0\"> </rect>\n",
       "<path class=\"bond-0 atom-0 atom-1\" d=\"M 110.0,209.3 L 165.7,177.4\" style=\"fill:none;fill-rule:evenodd;stroke:#000000;stroke-width:2.0px;stroke-linecap:butt;stroke-linejoin:miter;stroke-opacity:1\"/>\n",
       "<path class=\"bond-6 atom-0 atom-7\" d=\"M 110.0,209.3 L 85.0,165.4\" style=\"fill:none;fill-rule:evenodd;stroke:#000000;stroke-width:2.0px;stroke-linecap:butt;stroke-linejoin:miter;stroke-opacity:1\"/>\n",
       "<path class=\"bond-7 atom-0 atom-8\" d=\"M 110.0,209.3 L 55.5,209.0\" style=\"fill:none;fill-rule:evenodd;stroke:#000000;stroke-width:2.0px;stroke-linecap:butt;stroke-linejoin:miter;stroke-opacity:1\"/>\n",
       "<path class=\"bond-8 atom-0 atom-9\" d=\"M 110.0,209.3 L 109.8,261.7\" style=\"fill:none;fill-rule:evenodd;stroke:#000000;stroke-width:2.0px;stroke-linecap:butt;stroke-linejoin:miter;stroke-opacity:1\"/>\n",
       "<path class=\"bond-1 atom-1 atom-2\" d=\"M 165.7,177.4 L 220.9,209.5\" style=\"fill:none;fill-rule:evenodd;stroke:#000000;stroke-width:2.0px;stroke-linecap:butt;stroke-linejoin:miter;stroke-opacity:1\"/>\n",
       "<path class=\"bond-9 atom-1 atom-10\" d=\"M 165.7,177.4 L 191.2,133.9\" style=\"fill:none;fill-rule:evenodd;stroke:#000000;stroke-width:2.0px;stroke-linecap:butt;stroke-linejoin:miter;stroke-opacity:1\"/>\n",
       "<path class=\"bond-10 atom-1 atom-11\" d=\"M 165.7,177.4 L 140.7,133.6\" style=\"fill:none;fill-rule:evenodd;stroke:#000000;stroke-width:2.0px;stroke-linecap:butt;stroke-linejoin:miter;stroke-opacity:1\"/>\n",
       "<path class=\"bond-2 atom-2 atom-3\" d=\"M 220.9,209.5 L 276.4,177.6\" style=\"fill:none;fill-rule:evenodd;stroke:#000000;stroke-width:2.0px;stroke-linecap:butt;stroke-linejoin:miter;stroke-opacity:1\"/>\n",
       "<path class=\"bond-11 atom-2 atom-12\" d=\"M 220.9,209.5 L 195.6,253.2\" style=\"fill:none;fill-rule:evenodd;stroke:#000000;stroke-width:2.0px;stroke-linecap:butt;stroke-linejoin:miter;stroke-opacity:1\"/>\n",
       "<path class=\"bond-12 atom-2 atom-13\" d=\"M 220.9,209.5 L 246.2,253.4\" style=\"fill:none;fill-rule:evenodd;stroke:#000000;stroke-width:2.0px;stroke-linecap:butt;stroke-linejoin:miter;stroke-opacity:1\"/>\n",
       "<path class=\"bond-3 atom-3 atom-4\" d=\"M 276.4,177.6 L 276.8,151.8\" style=\"fill:none;fill-rule:evenodd;stroke:#000000;stroke-width:2.0px;stroke-linecap:butt;stroke-linejoin:miter;stroke-opacity:1\"/>\n",
       "<path class=\"bond-3 atom-3 atom-4\" d=\"M 276.8,151.8 L 277.2,126.0\" style=\"fill:none;fill-rule:evenodd;stroke:#FF0000;stroke-width:2.0px;stroke-linecap:butt;stroke-linejoin:miter;stroke-opacity:1\"/>\n",
       "<path class=\"bond-13 atom-3 atom-14\" d=\"M 276.4,177.6 L 301.8,221.3\" style=\"fill:none;fill-rule:evenodd;stroke:#000000;stroke-width:2.0px;stroke-linecap:butt;stroke-linejoin:miter;stroke-opacity:1\"/>\n",
       "<path class=\"bond-14 atom-3 atom-15\" d=\"M 276.4,177.6 L 329.6,177.7\" style=\"fill:none;fill-rule:evenodd;stroke:#000000;stroke-width:2.0px;stroke-linecap:butt;stroke-linejoin:miter;stroke-opacity:1\"/>\n",
       "<path class=\"bond-4 atom-4 atom-5\" d=\"M 288.3,107.6 L 311.0,95.0\" style=\"fill:none;fill-rule:evenodd;stroke:#FF0000;stroke-width:2.0px;stroke-linecap:butt;stroke-linejoin:miter;stroke-opacity:1\"/>\n",
       "<path class=\"bond-4 atom-4 atom-5\" d=\"M 311.0,95.0 L 333.7,82.4\" style=\"fill:none;fill-rule:evenodd;stroke:#000000;stroke-width:2.0px;stroke-linecap:butt;stroke-linejoin:miter;stroke-opacity:1\"/>\n",
       "<path class=\"bond-5 atom-5 atom-6\" d=\"M 333.7,82.4 L 390.1,115.2\" style=\"fill:none;fill-rule:evenodd;stroke:#000000;stroke-width:2.0px;stroke-linecap:butt;stroke-linejoin:miter;stroke-opacity:1\"/>\n",
       "<path class=\"bond-15 atom-5 atom-16\" d=\"M 333.7,82.4 L 308.6,38.3\" style=\"fill:none;fill-rule:evenodd;stroke:#000000;stroke-width:2.0px;stroke-linecap:butt;stroke-linejoin:miter;stroke-opacity:1\"/>\n",
       "<path class=\"bond-16 atom-5 atom-17\" d=\"M 333.7,82.4 L 359.0,38.7\" style=\"fill:none;fill-rule:evenodd;stroke:#000000;stroke-width:2.0px;stroke-linecap:butt;stroke-linejoin:miter;stroke-opacity:1\"/>\n",
       "<path class=\"bond-17 atom-6 atom-18\" d=\"M 390.1,115.2 L 415.4,71.4\" style=\"fill:none;fill-rule:evenodd;stroke:#000000;stroke-width:2.0px;stroke-linecap:butt;stroke-linejoin:miter;stroke-opacity:1\"/>\n",
       "<path class=\"bond-18 atom-6 atom-19\" d=\"M 390.1,115.2 L 444.5,115.1\" style=\"fill:none;fill-rule:evenodd;stroke:#000000;stroke-width:2.0px;stroke-linecap:butt;stroke-linejoin:miter;stroke-opacity:1\"/>\n",
       "<path class=\"bond-19 atom-6 atom-20\" d=\"M 390.1,115.2 L 390.4,168.2\" style=\"fill:none;fill-rule:evenodd;stroke:#000000;stroke-width:2.0px;stroke-linecap:butt;stroke-linejoin:miter;stroke-opacity:1\"/>\n",
       "<path class=\"atom-4\" d=\"M 268.0 113.8 Q 268.0 108.9, 270.4 106.1 Q 272.8 103.4, 277.3 103.4 Q 281.9 103.4, 284.3 106.1 Q 286.7 108.9, 286.7 113.8 Q 286.7 118.8, 284.3 121.6 Q 281.8 124.4, 277.3 124.4 Q 272.8 124.4, 270.4 121.6 Q 268.0 118.8, 268.0 113.8 M 277.3 122.1 Q 280.5 122.1, 282.1 120.0 Q 283.8 117.9, 283.8 113.8 Q 283.8 109.8, 282.1 107.8 Q 280.5 105.7, 277.3 105.7 Q 274.2 105.7, 272.5 107.7 Q 270.8 109.8, 270.8 113.8 Q 270.8 117.9, 272.5 120.0 Q 274.2 122.1, 277.3 122.1 \" fill=\"#FF0000\"/>\n",
       "<path class=\"atom-7\" d=\"M 70.2 143.3 L 73.0 143.3 L 73.0 152.0 L 83.5 152.0 L 83.5 143.3 L 86.3 143.3 L 86.3 163.8 L 83.5 163.8 L 83.5 154.3 L 73.0 154.3 L 73.0 163.8 L 70.2 163.8 L 70.2 143.3 \" fill=\"#000000\"/>\n",
       "<path class=\"atom-8\" d=\"M 37.8 198.7 L 40.6 198.7 L 40.6 207.4 L 51.1 207.4 L 51.1 198.7 L 53.9 198.7 L 53.9 219.2 L 51.1 219.2 L 51.1 209.7 L 40.6 209.7 L 40.6 219.2 L 37.8 219.2 L 37.8 198.7 \" fill=\"#000000\"/>\n",
       "<path class=\"atom-9\" d=\"M 101.7 263.3 L 104.5 263.3 L 104.5 272.0 L 114.9 272.0 L 114.9 263.3 L 117.7 263.3 L 117.7 283.7 L 114.9 283.7 L 114.9 274.3 L 104.5 274.3 L 104.5 283.7 L 101.7 283.7 L 101.7 263.3 \" fill=\"#000000\"/>\n",
       "<path class=\"atom-10\" d=\"M 190.1 111.8 L 192.9 111.8 L 192.9 120.5 L 203.3 120.5 L 203.3 111.8 L 206.1 111.8 L 206.1 132.3 L 203.3 132.3 L 203.3 122.8 L 192.9 122.8 L 192.9 132.3 L 190.1 132.3 L 190.1 111.8 \" fill=\"#000000\"/>\n",
       "<path class=\"atom-11\" d=\"M 126.0 111.5 L 128.8 111.5 L 128.8 120.2 L 139.2 120.2 L 139.2 111.5 L 142.0 111.5 L 142.0 132.0 L 139.2 132.0 L 139.2 122.5 L 128.8 122.5 L 128.8 132.0 L 126.0 132.0 L 126.0 111.5 \" fill=\"#000000\"/>\n",
       "<path class=\"atom-12\" d=\"M 180.8 254.9 L 183.5 254.9 L 183.5 263.5 L 194.0 263.5 L 194.0 254.9 L 196.8 254.9 L 196.8 275.3 L 194.0 275.3 L 194.0 265.9 L 183.5 265.9 L 183.5 275.3 L 180.8 275.3 L 180.8 254.9 \" fill=\"#000000\"/>\n",
       "<path class=\"atom-13\" d=\"M 245.1 255.0 L 247.8 255.0 L 247.8 263.7 L 258.3 263.7 L 258.3 255.0 L 261.1 255.0 L 261.1 275.4 L 258.3 275.4 L 258.3 266.0 L 247.8 266.0 L 247.8 275.4 L 245.1 275.4 L 245.1 255.0 \" fill=\"#000000\"/>\n",
       "<path class=\"atom-14\" d=\"M 300.6 222.9 L 303.4 222.9 L 303.4 231.6 L 313.8 231.6 L 313.8 222.9 L 316.6 222.9 L 316.6 243.4 L 313.8 243.4 L 313.8 233.9 L 303.4 233.9 L 303.4 243.4 L 300.6 243.4 L 300.6 222.9 \" fill=\"#000000\"/>\n",
       "<path class=\"atom-15\" d=\"M 331.1 167.5 L 333.9 167.5 L 333.9 176.2 L 344.4 176.2 L 344.4 167.5 L 347.1 167.5 L 347.1 188.0 L 344.4 188.0 L 344.4 178.5 L 333.9 178.5 L 333.9 188.0 L 331.1 188.0 L 331.1 167.5 \" fill=\"#000000\"/>\n",
       "<path class=\"atom-16\" d=\"M 293.9 16.3 L 296.7 16.3 L 296.7 25.0 L 307.1 25.0 L 307.1 16.3 L 309.9 16.3 L 309.9 36.7 L 307.1 36.7 L 307.1 27.3 L 296.7 27.3 L 296.7 36.7 L 293.9 36.7 L 293.9 16.3 \" fill=\"#000000\"/>\n",
       "<path class=\"atom-17\" d=\"M 357.9 16.6 L 360.7 16.6 L 360.7 25.3 L 371.1 25.3 L 371.1 16.6 L 373.9 16.6 L 373.9 37.1 L 371.1 37.1 L 371.1 27.6 L 360.7 27.6 L 360.7 37.1 L 357.9 37.1 L 357.9 16.6 \" fill=\"#000000\"/>\n",
       "<path class=\"atom-18\" d=\"M 414.2 49.4 L 417.0 49.4 L 417.0 58.1 L 427.4 58.1 L 427.4 49.4 L 430.2 49.4 L 430.2 69.8 L 427.4 69.8 L 427.4 60.4 L 417.0 60.4 L 417.0 69.8 L 414.2 69.8 L 414.2 49.4 \" fill=\"#000000\"/>\n",
       "<path class=\"atom-19\" d=\"M 446.1 104.8 L 448.9 104.8 L 448.9 113.5 L 459.4 113.5 L 459.4 104.8 L 462.2 104.8 L 462.2 125.3 L 459.4 125.3 L 459.4 115.8 L 448.9 115.8 L 448.9 125.3 L 446.1 125.3 L 446.1 104.8 \" fill=\"#000000\"/>\n",
       "<path class=\"atom-20\" d=\"M 382.5 169.8 L 385.3 169.8 L 385.3 178.5 L 395.7 178.5 L 395.7 169.8 L 398.5 169.8 L 398.5 190.3 L 395.7 190.3 L 395.7 180.8 L 385.3 180.8 L 385.3 190.3 L 382.5 190.3 L 382.5 169.8 \" fill=\"#000000\"/>\n",
       "</svg>"
      ],
      "text/plain": [
       "<IPython.core.display.SVG object>"
      ]
     },
     "execution_count": 5,
     "metadata": {},
     "output_type": "execute_result"
    }
   ],
   "source": [
    "m.visualize(backend=\"rdkit\")"
   ]
  },
  {
   "cell_type": "markdown",
   "metadata": {},
   "source": [
    "`openeye` can also be used, if available:"
   ]
  },
  {
   "cell_type": "code",
   "execution_count": 6,
   "metadata": {},
   "outputs": [],
   "source": [
    "try:\n",
    "    from openeye import oechem\n",
    "\n",
    "    assert oechem.OEChemIsLicensed()\n",
    "\n",
    "    m.visualize(backend=\"openeye\")\n",
    "except (ImportError, AssertionError):\n",
    "    print('Visualizing with `backend=\"openeye\"` requires the OpenEye Toolkits')"
   ]
  },
  {
   "cell_type": "markdown",
   "metadata": {},
   "source": [
    "`nglview`, if installed, can only be used if conformers have been generated:"
   ]
  },
  {
   "cell_type": "code",
   "execution_count": 7,
   "metadata": {
    "tags": [
     "nbval-skip"
    ]
   },
   "outputs": [
    {
     "name": "stdout",
     "output_type": "stream",
     "text": [
      "Visualizing with NGLview requires that the molecule has conformers.\n"
     ]
    }
   ],
   "source": [
    "try:\n",
    "    m.visualize(backend=\"nglview\")  # this will fail because we have no conformers yet\n",
    "except ValueError as excinfo:\n",
    "    # Catch the exception and print its message\n",
    "    print(str(excinfo))"
   ]
  },
  {
   "cell_type": "markdown",
   "metadata": {},
   "source": [
    "But, once you generate them, it works! You can zoom in/out, rotate and translate the molecule. You can even inspect the different conformers (if available) using the trajectory player:"
   ]
  },
  {
   "cell_type": "code",
   "execution_count": 8,
   "metadata": {
    "tags": [
     "nbval-skip"
    ]
   },
   "outputs": [
    {
     "data": {
      "application/vnd.jupyter.widget-view+json": {
       "model_id": "6fcbd2baf38244cba5ba31cf0bd86f14",
       "version_major": 2,
       "version_minor": 0
      },
      "text/plain": [
       "NGLWidget(max_frame=2)"
      ]
     },
     "metadata": {},
     "output_type": "display_data"
    }
   ],
   "source": [
    "m.generate_conformers()\n",
    "m.visualize(backend=\"nglview\")"
   ]
  },
  {
   "cell_type": "markdown",
   "metadata": {},
   "source": [
    "For example, a benzene ring will not have multiple conformers, so you won't see the trajectory player."
   ]
  },
  {
   "cell_type": "code",
   "execution_count": 9,
   "metadata": {
    "tags": [
     "nbval-skip"
    ]
   },
   "outputs": [
    {
     "data": {
      "application/vnd.jupyter.widget-view+json": {
       "model_id": "041384084ceb41fcb23c677e445eaa6a",
       "version_major": 2,
       "version_minor": 0
      },
      "text/plain": [
       "NGLWidget()"
      ]
     },
     "metadata": {},
     "output_type": "display_data"
    }
   ],
   "source": [
    "n = Molecule.from_smiles(\"c1ccccc1\")\n",
    "n.generate_conformers()\n",
    "n"
   ]
  },
  {
   "cell_type": "markdown",
   "metadata": {},
   "source": [
    "Notice that, once conformers are available, the implicit representation will use `nglview` to provide a 3D visualization."
   ]
  }
 ],
 "metadata": {
  "kernelspec": {
   "display_name": "Python 3 (ipykernel)",
   "language": "python",
   "name": "python3"
  },
  "language_info": {
   "codemirror_mode": {
    "name": "ipython",
    "version": 3
   },
   "file_extension": ".py",
   "mimetype": "text/x-python",
   "name": "python",
   "nbconvert_exporter": "python",
   "pygments_lexer": "ipython3",
   "version": "3.8.12"
  }
 },
 "nbformat": 4,
 "nbformat_minor": 4
}

{
 "cells": [
  {
   "cell_type": "markdown",
   "metadata": {
    "tags": []
   },
   "source": [
    "## Mixing Sage and Amber: Sage ligands in an existing Amber system with ParmEd\n",
    "\n",
    "This example applies SMIRNOFF-format parameters to a BRD4 inhibitor from the [living review on binding free energy benchmark systems](https://www.annualreviews.org/doi/abs/10.1146/annurev-biophys-070816-033654) by Mobley and Gilson. The BRD4 system comes from the [accompanying GitHub repository](https://github.com/MobleyLab/benchmarksets/tree/master/input_files/BRD4).\n",
    "\n",
    "This example uses [ParmEd](http://parmed.github.io) to take a protein-ligand system parameterized with an alternate force field, and replace the force field used for the ligand with an OpenFF force field. This example is meant to illustrate how to apply parameters to a single ligand, but it's also easy to process many ligands.\n",
    "\n",
    "### Loading the already-parametrized system"
   ]
  },
  {
   "cell_type": "code",
   "execution_count": 1,
   "metadata": {},
   "outputs": [],
   "source": [
    "# Retrieve protein and ligand files for BRD4 and a docked inhibitor from the benchmark systems GitHub repository\n",
    "# https://github.com/MobleyLab/benchmarksets\n",
    "import requests\n",
    "\n",
    "repo_url = (\n",
    "    \"https://raw.githubusercontent.com/MobleyLab/benchmarksets/master/input_files/\"\n",
    ")\n",
    "sources = {\n",
    "    \"system.prmtop\": repo_url + \"BRD4/prmtop-coords/BRD4-1.prmtop\",\n",
    "    \"system.crd\": repo_url + \"BRD4/prmtop-coords/BRD4-1.crds\",\n",
    "    \"ligand.sdf\": repo_url + \"BRD4/sdf/ligand-1.sdf\",\n",
    "    \"ligand.pdb\": repo_url + \"BRD4/pdb/ligand-1.pdb\",\n",
    "}\n",
    "for filename, url in sources.items():\n",
    "    r = requests.get(url)\n",
    "    open(filename, \"w\").write(r.text)"
   ]
  },
  {
   "cell_type": "code",
   "execution_count": 2,
   "metadata": {},
   "outputs": [
    {
     "name": "stderr",
     "output_type": "stream",
     "text": [
      "Warning: importing 'simtk.openmm' is deprecated.  Import 'openmm' instead.\n"
     ]
    }
   ],
   "source": [
    "# Read AMBER to ParmEd Structure object\n",
    "import parmed\n",
    "\n",
    "in_prmtop = \"system.prmtop\"\n",
    "in_crd = \"system.crd\"\n",
    "orig_structure = parmed.amber.AmberParm(in_prmtop, in_crd)"
   ]
  },
  {
   "cell_type": "markdown",
   "metadata": {},
   "source": [
    "Let's inspect the unique molecules in the system"
   ]
  },
  {
   "cell_type": "code",
   "execution_count": 3,
   "metadata": {},
   "outputs": [
    {
     "name": "stdout",
     "output_type": "stream",
     "text": [
      "There are 1 instance(s) of <AmberParm 2035 atoms; 121 residues; 2064 bonds; PBC (orthogonal); parametrized>\n",
      "There are 1 instance(s) of <AmberParm 26 atoms; 1 residues; 28 bonds; PBC (orthogonal); parametrized>\n",
      "There are 32 instance(s) of <AmberParm 1 atoms; 1 residues; 0 bonds; PBC (orthogonal); NOT parametrized>\n",
      "There are 35 instance(s) of <AmberParm 1 atoms; 1 residues; 0 bonds; PBC (orthogonal); NOT parametrized>\n",
      "There are 11000 instance(s) of <AmberParm 3 atoms; 1 residues; 3 bonds; PBC (orthogonal); parametrized>\n"
     ]
    }
   ],
   "source": [
    "pieces = orig_structure.split()\n",
    "for piece in pieces:\n",
    "    print(f\"There are {len(piece[1])} instance(s) of {piece[0]}\")"
   ]
  },
  {
   "cell_type": "markdown",
   "metadata": {},
   "source": [
    "* The first molecule species has 2035 atoms, so it's probably the protein\n",
    "* The second molecule species has 26 atoms, which is the size of our ligand\n",
    "* The third and fourth molecule species have 32 and 35 copies, respectively, and one atom each. They are probably counterions\n",
    "* The fifth molecule species has 11,000 copies with three atoms each, so these are our waters.\n",
    "\n",
    "We could drill into the ParmEd objects to find more about these if needed.\n",
    "\n",
    "**It's important to note that `pieces[1]` is the parameterized ligand, as we will be replacing it further down in this example.** If you apply this notebook to a system with a different number of components, or with objects in a different order, you may need to change some of the code below accordingly.\n",
    "\n",
    "### Generating an Open Force Field Toolkit `Topology` for the ligand\n",
    "\n",
    "Here we assume a complicated scenario -- We have a SDF of our ligand available (`ligand.sdf`), containing bond orders and enough detail about the molecule for us to parameterize the ligand. However, this SDF does not necessarily have the same atom indexing or coordinates as the original ligand in `system.prmtop` and `system.crd`. If we mix up the ligand atom indices and try to use the original ligand coordinates, the ligand's initial geometry will be nonsense. So, we've also got a copy of the ligand as `ligand.pdb` (which we could have extracted from a dump of our system to PDB format, if desired), and we're going to use that as a reference to get the atom indexing right. \n",
    "\n",
    "This example will use the `openmm.app.PDBFile` class to read `ligand.pdb`  and then use `Topology.from_openmm` to create an OpenFF Topology that contains the ligand in the correct atom ordering. \n",
    "\n",
    "If you **know** that this indexing mismatch will never occur for your data sources, and that your SDFs always contain the correct ordering, you can skip this step by simply running `ligand_off_topology = ligand_off_molecule.to_topology()`\n",
    "\n"
   ]
  },
  {
   "cell_type": "code",
   "execution_count": 4,
   "metadata": {},
   "outputs": [],
   "source": [
    "from openmm.app import PDBFile\n",
    "\n",
    "from openff.toolkit import ForceField, Molecule, Topology\n",
    "\n",
    "ligand_off_molecule = Molecule(\"ligand.sdf\")\n",
    "ligand_pdbfile = PDBFile(\"ligand.pdb\")\n",
    "ligand_off_topology = Topology.from_openmm(\n",
    "    ligand_pdbfile.topology,\n",
    "    unique_molecules=[ligand_off_molecule],\n",
    ")"
   ]
  },
  {
   "cell_type": "markdown",
   "metadata": {},
   "source": [
    "### Parametrizing the ligand\n",
    "\n",
    "<div class=\"alert alert-block alert-warning\">\n",
    "    <b>Note:</b> Even though we plan to constrain bond lengths to hydrogen, we load \"openff_unconstrained-2.1.0.offxml\". This is because our workflow will involve loading the OFF-parametrized ligand using ParmEd, which <a href=\"https://github.com/openforcefield/openff-toolkit/issues/444#issuecomment-547211377\"> applies its own hydrogen bonds at a later time, and will fail if it attempts to maniuplate an OpenMM system that already contains them.</a>\n",
    "</div>\n",
    "\n",
    "\n",
    "Here we begin by loading a SMIRNOFF force field -- in this case, the OpenFF-2.1.0 force field, \"Sage\".\n",
    "\n",
    "Once loaded, we create a new OpenMM system containing the ligand, then use ParmEd to create a `Structure` from that system. We'll re-combine this `Structure` object with those for the protein, ions, etc. later."
   ]
  },
  {
   "cell_type": "code",
   "execution_count": 5,
   "metadata": {},
   "outputs": [
    {
     "data": {
      "application/vnd.jupyter.widget-view+json": {
       "model_id": "",
       "version_major": 2,
       "version_minor": 0
      },
      "text/plain": []
     },
     "metadata": {},
     "output_type": "display_data"
    }
   ],
   "source": [
    "# Load the SMIRNOFF-format Sage force field\n",
    "force_field = ForceField(\"openff_unconstrained-2.1.0.offxml\")\n",
    "\n",
    "ligand_system = force_field.create_openmm_system(ligand_off_topology)\n",
    "new_ligand_structure = parmed.openmm.load_topology(\n",
    "    ligand_off_topology.to_openmm(),\n",
    "    ligand_system,\n",
    "    xyz=pieces[1][0].positions,\n",
    ")"
   ]
  },
  {
   "cell_type": "markdown",
   "metadata": {},
   "source": [
    "It's possible to save out ligand parameters at this point, if desired; here we do so to AMBER and GROMACS format just for inspection."
   ]
  },
  {
   "cell_type": "code",
   "execution_count": 6,
   "metadata": {},
   "outputs": [],
   "source": [
    "new_ligand_structure.save(\"tmp.prmtop\", overwrite=True)\n",
    "new_ligand_structure.save(\"tmp.inpcrd\", overwrite=True)\n",
    "new_ligand_structure.save(\"tmp.gro\", overwrite=True)\n",
    "new_ligand_structure.save(\"tmp.top\", overwrite=True)"
   ]
  },
  {
   "cell_type": "markdown",
   "metadata": {},
   "source": [
    "### Check for discrepancies between the original ligand and its replacement\n",
    "\n",
    "Here we check that the number of atoms are the same, and the same elements occur in the same order. This will catch many (but not all) errors where someone provided an SDF file for a different ligand than the one present in the system. It will miss errors where they happen to provide a different ligand with the same number of atoms, the same elements, in the same order -- which is unlikely to happen, but not impossible."
   ]
  },
  {
   "cell_type": "code",
   "execution_count": 7,
   "metadata": {},
   "outputs": [
    {
     "name": "stdout",
     "output_type": "stream",
     "text": [
      "There are 26 in the old ligand structure and 26 atoms in the new ligand structure\n"
     ]
    }
   ],
   "source": [
    "# Check how many atoms and which order elements are in the new ligand\n",
    "n_atoms_new = len(new_ligand_structure.atoms)\n",
    "elements_new = [atom.element for atom in new_ligand_structure.atoms]\n",
    "\n",
    "# Check how many atoms and which order elements are in the old ligand\n",
    "old_ligand_structure, n_copies = pieces[1]\n",
    "n_atoms_old = len(old_ligand_structure.atoms)\n",
    "elements_old = [atom.element for atom in old_ligand_structure.atoms]\n",
    "\n",
    "print(\n",
    "    f\"There are {n_atoms_old} in the old ligand structure and {n_atoms_new} atoms \"\n",
    "    f\"in the new ligand structure\"\n",
    ")\n",
    "\n",
    "# Print out error message if number of atoms doesn't match\n",
    "if n_atoms_new != n_atoms_old:\n",
    "    print(\n",
    "        \"Error: Number of atoms in input ligand doesn't match number extracted \"\n",
    "        \"from prmtop file.\"\n",
    "    )\n",
    "\n",
    "if elements_new != elements_old:\n",
    "    print(\n",
    "        \"Error: Elements in input ligand don't match elements in the ligand \"\n",
    "        \"from the prmtop file.\"\n",
    "    )\n",
    "    print(f\"Old elements: {elements_old}\")\n",
    "    print(f\"New elements: {elements_new}\")"
   ]
  },
  {
   "cell_type": "markdown",
   "metadata": {},
   "source": [
    "That looks OK -- we're seeing a consistent number of atoms in both structures, and no errors about inconsistent elements. That means we're OK to proceed and start combining our ParmEd `Structure` objects.\n",
    "\n",
    "### Combine receptor and ligand structures\n",
    "\n",
    "Now, we make a new ParmEd `Structure` for the complex, and begin adding the pieces of our system back together. Recall that above, we used ParmEd to split different portions of the system into a list of tuples called `pieces`, where the list items are tuples consisting of (`Structure`, `N`) where `N` denotes the number of times that piece occurs. We have just one protein, for example, but many water molecules.\n",
    "\n",
    "**Here, we begin by combining our original protein with our new ligand**.\n",
    "\n",
    "We also print out a lot of info as we do so just to check that we're ending up with the number of atom types we expect."
   ]
  },
  {
   "cell_type": "code",
   "execution_count": 8,
   "metadata": {},
   "outputs": [
    {
     "name": "stdout",
     "output_type": "stream",
     "text": [
      "BEFORE SYSTEM COMBINATION (just protein)\n",
      "Unique atom names: ['2C', '3C', 'C', 'C*', 'C8', 'CA', 'CB', 'CC', 'CN', 'CO', 'CR', 'CT', 'CW', 'CX', 'H', 'H1', 'H4', 'H5', 'HA', 'HC', 'HO', 'HP', 'HS', 'N', 'N2', 'N3', 'NA', 'NB', 'O', 'O2', 'OH', 'S', 'SH']\n",
      "Number of unique atom types: 33\n",
      "Number of unique epsilons: 14\n",
      "Number of unique sigmas: 14\n",
      "\n",
      "BEFORE SYSTEM COMBINATION (just ligand)\n",
      "Unique atom names: ['C1', 'C2', 'H1', 'H2', 'H3', 'N1']\n",
      "Number of unique atom types: 6\n",
      "Number of unique epsilons: 6\n",
      "Number of unique sigmas: 6\n",
      "\n",
      "AFTER LIGAND ADDITION (protein+ligand)\n",
      "Unique atom names: ['2C', '3C', 'C', 'C*', 'C1', 'C2', 'C8', 'CA', 'CB', 'CC', 'CN', 'CO', 'CR', 'CT', 'CW', 'CX', 'H', 'H1', 'H2', 'H3', 'H4', 'H5', 'HA', 'HC', 'HO', 'HP', 'HS', 'N', 'N1', 'N2', 'N3', 'NA', 'NB', 'O', 'O2', 'OH', 'S', 'SH']\n",
      "Number of unique atom types: 39\n",
      "Number of unique epsilons: 20\n",
      "Number of unique sigmas: 20\n"
     ]
    }
   ],
   "source": [
    "# Create a new, empty system\n",
    "complex_structure = parmed.Structure()\n",
    "\n",
    "# Add the protein. Convert explicitly to an AmberParm object to ensure that 1-4 scaling factors are preserved.\n",
    "complex_structure += parmed.amber.AmberParm.from_structure(pieces[0][0])\n",
    "\n",
    "print(\"BEFORE SYSTEM COMBINATION (just protein)\")\n",
    "print(\n",
    "    \"Unique atom names:\",\n",
    "    sorted(list({atom.atom_type.name for atom in complex_structure})),\n",
    ")\n",
    "print(\n",
    "    \"Number of unique atom types:\", len({atom.atom_type for atom in complex_structure})\n",
    ")\n",
    "print(\"Number of unique epsilons:\", len({atom.epsilon for atom in complex_structure}))\n",
    "print(\"Number of unique sigmas:\", len({atom.sigma for atom in complex_structure}))\n",
    "print()\n",
    "\n",
    "print(\"BEFORE SYSTEM COMBINATION (just ligand)\")\n",
    "print(\n",
    "    \"Unique atom names:\",\n",
    "    sorted(list({atom.atom_type.name for atom in new_ligand_structure})),\n",
    ")\n",
    "print(\n",
    "    \"Number of unique atom types:\",\n",
    "    len({atom.atom_type for atom in new_ligand_structure}),\n",
    ")\n",
    "print(\n",
    "    \"Number of unique epsilons:\", len({atom.epsilon for atom in new_ligand_structure})\n",
    ")\n",
    "print(\"Number of unique sigmas:\", len({atom.sigma for atom in new_ligand_structure}))\n",
    "print()\n",
    "\n",
    "# Add the ligand\n",
    "complex_structure += parmed.amber.AmberParm.from_structure(new_ligand_structure)\n",
    "\n",
    "print(\"AFTER LIGAND ADDITION (protein+ligand)\")\n",
    "print(\n",
    "    \"Unique atom names:\",\n",
    "    sorted(list({atom.atom_type.name for atom in complex_structure})),\n",
    ")\n",
    "print(\n",
    "    \"Number of unique atom types:\", len({atom.atom_type for atom in complex_structure})\n",
    ")\n",
    "print(\"Number of unique epsilons:\", len({atom.epsilon for atom in complex_structure}))\n",
    "print(\"Number of unique sigmas:\", len({atom.sigma for atom in complex_structure}))"
   ]
  },
  {
   "cell_type": "markdown",
   "metadata": {},
   "source": [
    "This looks good. We see that the protein alone has 33 atom types, which have 14 unique sigma/epsilon values, and the ligand has six atom types with five unique sigma/epsilon values. After combining, we end up with 39 atom types having 19 unique sigma and epsilon values, which is correct.\n",
    "\n",
    "If you're astute, you'll notice the number of atom names doesn't add up. That's OK -- the atom names are just cosmetic attributes and don't affect the assigned parameters.\n",
    "\n",
    "### Add the ions and water back into the system\n",
    "\n",
    "Remember, we split our system into protein + ligand + ions + water, and then we took out and replaced the ligand, generating a new `Structure` of the complex. Now we need to re-insert the ions and the water. First we'll handle the ions. \n",
    "\n",
    "Here, ParmEd has a convenient overload of the multiplication operator, so that if we want a `Structure` with N copies of an ion, we just ask it to multiply the `Structure` of an individual ion by the number of occurrences of that ion."
   ]
  },
  {
   "cell_type": "code",
   "execution_count": 9,
   "metadata": {},
   "outputs": [
    {
     "name": "stdout",
     "output_type": "stream",
     "text": [
      "AFTER ION ADDITION (protein+ligand+ions)\n",
      "Unique atom names: ['2C', '3C', 'C', 'C*', 'C1', 'C2', 'C8', 'CA', 'CB', 'CC', 'CN', 'CO', 'CR', 'CT', 'CW', 'CX', 'Cl-', 'H', 'H1', 'H2', 'H3', 'H4', 'H5', 'HA', 'HC', 'HO', 'HP', 'HS', 'N', 'N1', 'N2', 'N3', 'NA', 'NB', 'Na+', 'O', 'O2', 'OH', 'S', 'SH']\n",
      "Number of unique atom types: 41\n",
      "Number of unique epsilons: 22\n",
      "Number of unique sigmas: 22\n"
     ]
    }
   ],
   "source": [
    "# Add ions\n",
    "just_ion1_structure = parmed.Structure()\n",
    "just_ion1_structure += pieces[2][0]\n",
    "just_ion1_structure *= len(pieces[2][1])\n",
    "\n",
    "just_ion2_structure = parmed.Structure()\n",
    "just_ion2_structure += pieces[3][0]\n",
    "just_ion2_structure *= len(pieces[3][1])\n",
    "\n",
    "complex_structure += parmed.amber.AmberParm.from_structure(just_ion1_structure)\n",
    "complex_structure += parmed.amber.AmberParm.from_structure(just_ion2_structure)\n",
    "\n",
    "print(\"AFTER ION ADDITION (protein+ligand+ions)\")\n",
    "print(\n",
    "    \"Unique atom names:\",\n",
    "    sorted(list({atom.atom_type.name for atom in complex_structure})),\n",
    ")\n",
    "print(\n",
    "    \"Number of unique atom types:\", len({atom.atom_type for atom in complex_structure})\n",
    ")\n",
    "print(\"Number of unique epsilons:\", len({atom.epsilon for atom in complex_structure}))\n",
    "print(\"Number of unique sigmas:\", len({atom.sigma for atom in complex_structure}))"
   ]
  },
  {
   "cell_type": "markdown",
   "metadata": {},
   "source": [
    "Finally, we do that same thing for the water present in our system:"
   ]
  },
  {
   "cell_type": "code",
   "execution_count": 10,
   "metadata": {},
   "outputs": [
    {
     "name": "stdout",
     "output_type": "stream",
     "text": [
      "AFTER WATER ADDITION (protein+ligand+ions+water)\n",
      "Unique atom names: ['2C', '3C', 'C', 'C*', 'C1', 'C2', 'C8', 'CA', 'CB', 'CC', 'CN', 'CO', 'CR', 'CT', 'CW', 'CX', 'Cl-', 'H', 'H1', 'H2', 'H3', 'H4', 'H5', 'HA', 'HC', 'HO', 'HP', 'HS', 'HW', 'N', 'N1', 'N2', 'N3', 'NA', 'NB', 'Na+', 'O', 'O2', 'OH', 'OW', 'S', 'SH']\n",
      "Number of unique atom types: 43\n",
      "Number of unique epsilons: 23\n",
      "Number of unique sigmas: 23\n"
     ]
    }
   ],
   "source": [
    "# Add waters\n",
    "\n",
    "just_water_structure = parmed.Structure()\n",
    "just_water_structure += pieces[4][0]\n",
    "just_water_structure *= len(pieces[4][1])\n",
    "\n",
    "complex_structure += parmed.amber.AmberParm.from_structure(just_water_structure)\n",
    "\n",
    "print(\"AFTER WATER ADDITION (protein+ligand+ions+water)\")\n",
    "print(\n",
    "    \"Unique atom names:\",\n",
    "    sorted(list({atom.atom_type.name for atom in complex_structure})),\n",
    ")\n",
    "print(\n",
    "    \"Number of unique atom types:\", len({atom.atom_type for atom in complex_structure})\n",
    ")\n",
    "print(\"Number of unique epsilons:\", len({atom.epsilon for atom in complex_structure}))\n",
    "print(\"Number of unique sigmas:\", len({atom.sigma for atom in complex_structure}))"
   ]
  },
  {
   "cell_type": "markdown",
   "metadata": {},
   "source": [
    "###  Now that we've re-combined the system, handle the coordinates and box vectors\n",
    "\n",
    "The above dealt with the chemical topology and parameters for the system, which is most of what we need -- but not quite all. We still have to deal with the coordinates, and also with the information on the simulation box. So, our final stage of setup is to handle the coordinates and box vectors. This is straightforward -- we just need to copy the original coordinates and box vectors. Nothing fancy is needed:"
   ]
  },
  {
   "cell_type": "code",
   "execution_count": 11,
   "metadata": {},
   "outputs": [],
   "source": [
    "# Copy over the original coordinates and box vectors\n",
    "complex_structure.coordinates = orig_structure.coordinates\n",
    "complex_structure.box_vectors = orig_structure.box_vectors"
   ]
  },
  {
   "cell_type": "markdown",
   "metadata": {},
   "source": [
    "### Export to AMBER\n",
    "\n",
    "We started off in AMBER format, and presumably want to continue in that format."
   ]
  },
  {
   "cell_type": "code",
   "execution_count": 12,
   "metadata": {},
   "outputs": [],
   "source": [
    "# Export the Structure to AMBER files\n",
    "complex_structure.save(\"complex.prmtop\", overwrite=True)\n",
    "complex_structure.save(\"complex.inpcrd\", overwrite=True)"
   ]
  },
  {
   "cell_type": "markdown",
   "metadata": {},
   "source": [
    "## Run some dynamics on the combined system\n",
    "\n",
    "First, we turn the ParmEd Structure into an OpenMM System, as we've done in other examples here. We can do this, in this case, using ParmEd's built-in `createSystem` functionality already attached to the combined `Structure`. We ask for a reasonable cutoff, constrained hydrogen bonds (note that **this keyword argument overrides the fact that we use the `unconstrained` force field above**; the ligand (and all other molecules in the system) **will** have covalent bonds to hydrogen constrainted), PME, and rigid water:"
   ]
  },
  {
   "cell_type": "code",
   "execution_count": 13,
   "metadata": {},
   "outputs": [],
   "source": [
    "import numpy as np\n",
    "from openmm import LangevinIntegrator, app, unit\n",
    "from parmed.openmm import NetCDFReporter\n",
    "\n",
    "system = complex_structure.createSystem(\n",
    "    nonbondedMethod=app.PME,\n",
    "    nonbondedCutoff=9 * unit.angstrom,\n",
    "    constraints=app.HBonds,\n",
    "    rigidWater=True,\n",
    ")"
   ]
  },
  {
   "cell_type": "markdown",
   "metadata": {},
   "source": [
    "Next we'll set up the integrator, a reporter to write the trajectory, pick the timestep, and then go on to minimize the energy and run a very short amount of dynamics after setting the temperature to 300K:"
   ]
  },
  {
   "cell_type": "code",
   "execution_count": 14,
   "metadata": {},
   "outputs": [],
   "source": [
    "integrator = LangevinIntegrator(\n",
    "    300 * unit.kelvin, 1 / unit.picosecond, 0.001 * unit.picoseconds\n",
    ")\n",
    "simulation = app.Simulation(complex_structure.topology, system, integrator)\n",
    "\n",
    "# Depending on where your system came from, you may want to\n",
    "# add something like (30, 30, 30)*Angstrom to center the protein\n",
    "# (no functional effect, just visualizes better)\n",
    "if False:\n",
    "    simulation.context.setPositions(\n",
    "        complex_structure.positions + np.array([30, 30, 30]) * unit.angstrom\n",
    "    )\n",
    "\n",
    "simulation.context.setPositions(complex_structure.positions)\n",
    "\n",
    "nc_reporter = NetCDFReporter(\"trajectory.nc\", 10)\n",
    "simulation.reporters.append(nc_reporter)"
   ]
  },
  {
   "cell_type": "code",
   "execution_count": 15,
   "metadata": {},
   "outputs": [],
   "source": [
    "simulation.minimizeEnergy()\n",
    "minimized_coords = simulation.context.getState(getPositions=True).getPositions()"
   ]
  },
  {
   "cell_type": "code",
   "execution_count": 16,
   "metadata": {},
   "outputs": [
    {
     "name": "stderr",
     "output_type": "stream",
     "text": [
      "/Users/jeffreywagner/conda/envs/off-tk-dev/lib/python3.10/site-packages/parmed/amber/netcdffiles.py:409: UserWarning: Could not find netCDF4 module. Falling back on scipy implementation, which can significantly slow down simulations if used as a reporter\n",
      "  warnings.warn('Could not find netCDF4 module. Falling back on '\n"
     ]
    }
   ],
   "source": [
    "simulation.context.setVelocitiesToTemperature(300 * unit.kelvin)\n",
    "simulation.step(1000)"
   ]
  },
  {
   "cell_type": "code",
   "execution_count": 17,
   "metadata": {},
   "outputs": [
    {
     "data": {
      "application/vnd.jupyter.widget-view+json": {
       "model_id": "",
       "version_major": 2,
       "version_minor": 0
      },
      "text/plain": [
       "NGLWidget(max_frame=99)"
      ]
     },
     "metadata": {},
     "output_type": "display_data"
    }
   ],
   "source": [
    "import mdtraj as mdt\n",
    "import nglview\n",
    "\n",
    "nc_reporter.finalize()\n",
    "mdt_traj = mdt.load(\"trajectory.nc\", top=mdt.Topology.from_openmm(simulation.topology))\n",
    "view = nglview.show_mdtraj(mdt_traj)\n",
    "view"
   ]
  },
  {
   "cell_type": "code",
   "execution_count": null,
   "metadata": {},
   "outputs": [],
   "source": []
  }
 ],
 "metadata": {
  "category": "force_field_interop",
  "kernelspec": {
   "display_name": "Python 3 (ipykernel)",
   "language": "python",
   "name": "python3"
  },
  "language_info": {
   "codemirror_mode": {
    "name": "ipython",
    "version": 3
   },
   "file_extension": ".py",
   "mimetype": "text/x-python",
   "name": "python",
   "nbconvert_exporter": "python",
   "pygments_lexer": "ipython3",
   "version": "3.10.10"
  },
  "toc": {
   "nav_menu": {},
   "number_sections": true,
   "sideBar": true,
   "skip_h1_title": false,
   "toc_cell": false,
   "toc_position": {},
   "toc_section_display": "block",
   "toc_window_display": false
  },
  "widgets": {
   "application/vnd.jupyter.widget-state+json": {
    "state": {},
    "version_major": 2,
    "version_minor": 0
   }
  }
 },
 "nbformat": 4,
 "nbformat_minor": 4
}

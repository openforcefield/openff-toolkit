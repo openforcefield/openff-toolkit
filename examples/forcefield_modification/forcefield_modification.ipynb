{
 "cells": [
  {
   "cell_type": "markdown",
   "metadata": {},
   "source": [
    "# Modifying a SMIRNOFF force field\n",
    "\n",
    "In this example, we'll parameterize a ligand automatically, and then play with its parameters to demonstrate the Toolkit's ability to facilitate force field optimization. For each modification, we'll calculate the energy for the original conformation, and then minimize the energy and visualize the result."
   ]
  },
  {
   "cell_type": "code",
   "execution_count": 1,
   "metadata": {},
   "outputs": [],
   "source": [
    "from copy import deepcopy\n",
    "\n",
    "from openff.units import unit\n",
    "from openff.units.openmm import from_openmm, to_openmm\n",
    "from openmm import LangevinIntegrator, app\n",
    "from openmm import unit as openmm_unit\n",
    "\n",
    "import openff.toolkit.typing.engines.smirnoff.parameters as offtk_parameters\n",
    "from openff.toolkit import ForceField, Molecule"
   ]
  },
  {
   "cell_type": "markdown",
   "metadata": {},
   "source": [
    "We're going to do a lot of changing a parameter and then visualising what happened, so let's define a convenience function to do just that"
   ]
  },
  {
   "cell_type": "code",
   "execution_count": 2,
   "metadata": {},
   "outputs": [],
   "source": [
    "def minimize_and_visualize(molecule, forcefield):\n",
    "    # Sort out our input data\n",
    "    mol_topology = molecule.to_topology()\n",
    "    mol_system = forcefield.create_openmm_system(\n",
    "        mol_topology,\n",
    "        charge_from_molecules=[molecule],\n",
    "    )\n",
    "\n",
    "    # Set up the minimization and point calculation\n",
    "    integrator = LangevinIntegrator(\n",
    "        300 * openmm_unit.kelvin,\n",
    "        1 / openmm_unit.picosecond,\n",
    "        0.002 * openmm_unit.picoseconds,\n",
    "    )\n",
    "    simulation = app.Simulation(mol_topology.to_openmm(), mol_system, integrator)\n",
    "    simulation.context.setPositions(to_openmm(molecule.conformers[0]))\n",
    "\n",
    "    # Get the initial energy\n",
    "    initial_potential = simulation.context.getState(getEnergy=True).getPotentialEnergy()\n",
    "\n",
    "    # Energy minimize\n",
    "    simulation.minimizeEnergy()\n",
    "    minimized_state = simulation.context.getState(getPositions=True, getEnergy=True)\n",
    "    minimized_potential = minimized_state.getPotentialEnergy()\n",
    "    minimized_coords = from_openmm(minimized_state.getPositions(asNumpy=True))\n",
    "\n",
    "    # Visualize\n",
    "    vis_mol = deepcopy(molecule)\n",
    "    vis_mol.conformers[0] = minimized_coords\n",
    "    view = vis_mol.visualize(backend=\"nglview\")\n",
    "    print(\n",
    "        f\"Initial energy is {initial_potential.format('%0.1F')};\",\n",
    "        f\"Minimized energy is {minimized_potential.format('%0.1F')}\",\n",
    "    )\n",
    "    return view"
   ]
  },
  {
   "cell_type": "markdown",
   "metadata": {},
   "source": [
    "## Getting to know you — the molecule\n",
    "\n",
    "This \"ligand\" is a modified version of the molecule we introduced in the Toolkit Showcase. It's just been altered for a slightly more exciting example here. This also lets us demonstrate constructing a `Molecule` from a SMILES string!"
   ]
  },
  {
   "cell_type": "code",
   "execution_count": 3,
   "metadata": {
    "tags": []
   },
   "outputs": [],
   "source": [
    "ligand_smiles = \"CC(C)(C)c1c(O)c(O)c2c(c1O)[C@H]1OCCC[C@H]1[C@H](c1cc(O)c(O)c(F)c1)N2\"\n",
    "ligand = Molecule.from_smiles(ligand_smiles)\n",
    "ligand.generate_conformers(n_conformers=1)\n",
    "force_field = ForceField(\"openff-2.0.0.offxml\")"
   ]
  },
  {
   "cell_type": "markdown",
   "metadata": {},
   "source": [
    "Computing charges is expensive, and we're going to be changing the force field a lot, so we can save time by computing them just once and caching them.\n",
    "\n",
    "\n",
    "<div class=\"alert alert-info\" style=\"max-width: 700px; margin-left: auto; margin-right: auto;\">\n",
    "    ℹ️ Note that when we call <code>create_openmm_system</code> above we pass\n",
    "    in the charges with the <code>charge_from_molecules</code> argument!\n",
    "</div>"
   ]
  },
  {
   "cell_type": "code",
   "execution_count": 4,
   "metadata": {},
   "outputs": [],
   "source": [
    "ligand.partial_charges = force_field.get_partial_charges(ligand)"
   ]
  },
  {
   "cell_type": "markdown",
   "metadata": {},
   "source": [
    "### The ligand, visualised\n",
    "\n",
    "Let's take a close look at the ligand and decide what we want to modify. We'll label the atoms with their indexes so we can identify them later"
   ]
  },
  {
   "cell_type": "code",
   "execution_count": 5,
   "metadata": {},
   "outputs": [
    {
     "data": {
      "application/vnd.jupyter.widget-view+json": {
       "model_id": "28c8d89a98754218aa207a85aa52b68d",
       "version_major": 2,
       "version_minor": 0
      },
      "text/plain": []
     },
     "metadata": {},
     "output_type": "display_data"
    },
    {
     "name": "stdout",
     "output_type": "stream",
     "text": [
      "Initial energy is 270.8 kJ/mol; Minimized energy is 82.3 kJ/mol\n"
     ]
    },
    {
     "data": {
      "application/vnd.jupyter.widget-view+json": {
       "model_id": "cc9a8b5599c34204a90f0fb6170b4a63",
       "version_major": 2,
       "version_minor": 0
      },
      "text/plain": [
       "NGLWidget()"
      ]
     },
     "metadata": {},
     "output_type": "display_data"
    }
   ],
   "source": [
    "view = minimize_and_visualize(ligand, force_field)\n",
    "view.add_label(label_type=\"atomindex\", color=\"black\", attachment=\"middle-center\")\n",
    "view"
   ]
  },
  {
   "cell_type": "markdown",
   "metadata": {},
   "source": [
    "## Getting to know all about you — Investigating assigned parameters\n",
    "\n",
    "Let's start with something simple — lengthening the bond to the fluorine. We can use `ForceField.label_molecules` to identify the appropriate parameters:"
   ]
  },
  {
   "cell_type": "code",
   "execution_count": 6,
   "metadata": {},
   "outputs": [
    {
     "data": {
      "text/plain": [
       "[{'Constraints': <openff.toolkit.topology.topology.ValenceDict at 0x17e4bbee0>,\n",
       "  'Bonds': <openff.toolkit.topology.topology.ValenceDict at 0x17e4bbf70>,\n",
       "  'Angles': <openff.toolkit.topology.topology.ValenceDict at 0x17dbe5760>,\n",
       "  'ProperTorsions': <openff.toolkit.topology.topology.ValenceDict at 0x10f8decd0>,\n",
       "  'ImproperTorsions': <openff.toolkit.topology.topology.ImproperDict at 0x17e4d6eb0>,\n",
       "  'vdW': <openff.toolkit.topology.topology.ValenceDict at 0x17e470be0>,\n",
       "  'Electrostatics': <openff.toolkit.topology.topology.ValenceDict at 0x17dc0b520>,\n",
       "  'LibraryCharges': {},\n",
       "  'ToolkitAM1BCC': <openff.toolkit.topology.topology.ValenceDict at 0x17e4b1d30>}]"
      ]
     },
     "execution_count": 6,
     "metadata": {},
     "output_type": "execute_result"
    }
   ],
   "source": [
    "ff_applied_parameters = force_field.label_molecules(ligand.to_topology())\n",
    "ff_applied_parameters"
   ]
  },
  {
   "cell_type": "markdown",
   "metadata": {},
   "source": [
    "`label_molecules()` returns a list of the molecules that can be parameterized from the arguments. It returns them as dictionaries that give us access to the `ForceField` parameters that are used for the molecule. Since we're only passing in a single molecule, `ff_applied_parameters` is a list of one element. We can see the bonds that are used for the ligand by converting the appropriate `ValenceDict` to a regular dictionary:"
   ]
  },
  {
   "cell_type": "code",
   "execution_count": 7,
   "metadata": {},
   "outputs": [
    {
     "data": {
      "text/plain": [
       "{(0,\n",
       "  1): <BondType with smirks: [#6X4:1]-[#6X4:2]  id: b1  length: 1.52190126495 angstrom  k: 529.2429715351 kilocalorie / angstrom ** 2 / mole  >,\n",
       " (0,\n",
       "  33): <BondType with smirks: [#6X4:1]-[#1:2]  id: b84  length: 1.093899492634 angstrom  k: 740.0934137725 kilocalorie / angstrom ** 2 / mole  >,\n",
       " (0,\n",
       "  34): <BondType with smirks: [#6X4:1]-[#1:2]  id: b84  length: 1.093899492634 angstrom  k: 740.0934137725 kilocalorie / angstrom ** 2 / mole  >,\n",
       " (0,\n",
       "  35): <BondType with smirks: [#6X4:1]-[#1:2]  id: b84  length: 1.093899492634 angstrom  k: 740.0934137725 kilocalorie / angstrom ** 2 / mole  >,\n",
       " (1,\n",
       "  2): <BondType with smirks: [#6X4:1]-[#6X4:2]  id: b1  length: 1.52190126495 angstrom  k: 529.2429715351 kilocalorie / angstrom ** 2 / mole  >,\n",
       " (1,\n",
       "  3): <BondType with smirks: [#6X4:1]-[#6X4:2]  id: b1  length: 1.52190126495 angstrom  k: 529.2429715351 kilocalorie / angstrom ** 2 / mole  >,\n",
       " (1,\n",
       "  4): <BondType with smirks: [#6X4:1]-[#6X3:2]  id: b2  length: 1.498646816465 angstrom  k: 579.4762652679 kilocalorie / angstrom ** 2 / mole  >,\n",
       " (2,\n",
       "  36): <BondType with smirks: [#6X4:1]-[#1:2]  id: b84  length: 1.093899492634 angstrom  k: 740.0934137725 kilocalorie / angstrom ** 2 / mole  >,\n",
       " (2,\n",
       "  37): <BondType with smirks: [#6X4:1]-[#1:2]  id: b84  length: 1.093899492634 angstrom  k: 740.0934137725 kilocalorie / angstrom ** 2 / mole  >,\n",
       " (2,\n",
       "  38): <BondType with smirks: [#6X4:1]-[#1:2]  id: b84  length: 1.093899492634 angstrom  k: 740.0934137725 kilocalorie / angstrom ** 2 / mole  >,\n",
       " (3,\n",
       "  39): <BondType with smirks: [#6X4:1]-[#1:2]  id: b84  length: 1.093899492634 angstrom  k: 740.0934137725 kilocalorie / angstrom ** 2 / mole  >,\n",
       " (3,\n",
       "  40): <BondType with smirks: [#6X4:1]-[#1:2]  id: b84  length: 1.093899492634 angstrom  k: 740.0934137725 kilocalorie / angstrom ** 2 / mole  >,\n",
       " (3,\n",
       "  41): <BondType with smirks: [#6X4:1]-[#1:2]  id: b84  length: 1.093899492634 angstrom  k: 740.0934137725 kilocalorie / angstrom ** 2 / mole  >,\n",
       " (4,\n",
       "  5): <BondType with smirks: [#6X3:1]:[#6X3:2]  id: b5  length: 1.387193227181 angstrom  k: 721.5704889544 kilocalorie / angstrom ** 2 / mole  >,\n",
       " (4,\n",
       "  11): <BondType with smirks: [#6X3:1]:[#6X3:2]  id: b5  length: 1.387193227181 angstrom  k: 721.5704889544 kilocalorie / angstrom ** 2 / mole  >,\n",
       " (5,\n",
       "  6): <BondType with smirks: [#6X3:1]-[#8X2H1:2]  id: b18  length: 1.369745182308 angstrom  k: 771.5209191174 kilocalorie / angstrom ** 2 / mole  >,\n",
       " (5,\n",
       "  7): <BondType with smirks: [#6X3:1]:[#6X3:2]  id: b5  length: 1.387193227181 angstrom  k: 721.5704889544 kilocalorie / angstrom ** 2 / mole  >,\n",
       " (6,\n",
       "  42): <BondType with smirks: [#8:1]-[#1:2]  id: b88  length: 0.9716763312559 angstrom  k: 1087.053566377 kilocalorie / angstrom ** 2 / mole  >,\n",
       " (7,\n",
       "  8): <BondType with smirks: [#6X3:1]-[#8X2H1:2]  id: b18  length: 1.369745182308 angstrom  k: 771.5209191174 kilocalorie / angstrom ** 2 / mole  >,\n",
       " (7,\n",
       "  9): <BondType with smirks: [#6X3:1]:[#6X3:2]  id: b5  length: 1.387193227181 angstrom  k: 721.5704889544 kilocalorie / angstrom ** 2 / mole  >,\n",
       " (8,\n",
       "  43): <BondType with smirks: [#8:1]-[#1:2]  id: b88  length: 0.9716763312559 angstrom  k: 1087.053566377 kilocalorie / angstrom ** 2 / mole  >,\n",
       " (9,\n",
       "  10): <BondType with smirks: [#6X3:1]:[#6X3:2]  id: b5  length: 1.387193227181 angstrom  k: 721.5704889544 kilocalorie / angstrom ** 2 / mole  >,\n",
       " (9,\n",
       "  32): <BondType with smirks: [#6X3:1]-[#7X3:2]  id: b8  length: 1.390160554689 angstrom  k: 780.0710937701 kilocalorie / angstrom ** 2 / mole  >,\n",
       " (10,\n",
       "  11): <BondType with smirks: [#6X3:1]:[#6X3:2]  id: b5  length: 1.387193227181 angstrom  k: 721.5704889544 kilocalorie / angstrom ** 2 / mole  >,\n",
       " (10,\n",
       "  13): <BondType with smirks: [#6X4:1]-[#6X3:2]  id: b2  length: 1.498646816465 angstrom  k: 579.4762652679 kilocalorie / angstrom ** 2 / mole  >,\n",
       " (11,\n",
       "  12): <BondType with smirks: [#6X3:1]-[#8X2H1:2]  id: b18  length: 1.369745182308 angstrom  k: 771.5209191174 kilocalorie / angstrom ** 2 / mole  >,\n",
       " (12,\n",
       "  44): <BondType with smirks: [#8:1]-[#1:2]  id: b88  length: 0.9716763312559 angstrom  k: 1087.053566377 kilocalorie / angstrom ** 2 / mole  >,\n",
       " (13,\n",
       "  14): <BondType with smirks: [#6X4:1]-[#1:2]  id: b84  length: 1.093899492634 angstrom  k: 740.0934137725 kilocalorie / angstrom ** 2 / mole  >,\n",
       " (13,\n",
       "  15): <BondType with smirks: [#6X4:1]-[#8X2H0:2]  id: b16  length: 1.425895053732 angstrom  k: 733.4817683494 kilocalorie / angstrom ** 2 / mole  >,\n",
       " (13,\n",
       "  19): <BondType with smirks: [#6X4:1]-[#6X4:2]  id: b1  length: 1.52190126495 angstrom  k: 529.2429715351 kilocalorie / angstrom ** 2 / mole  >,\n",
       " (15,\n",
       "  16): <BondType with smirks: [#6X4:1]-[#8X2H0:2]  id: b16  length: 1.425895053732 angstrom  k: 733.4817683494 kilocalorie / angstrom ** 2 / mole  >,\n",
       " (16,\n",
       "  17): <BondType with smirks: [#6X4:1]-[#6X4:2]  id: b1  length: 1.52190126495 angstrom  k: 529.2429715351 kilocalorie / angstrom ** 2 / mole  >,\n",
       " (16,\n",
       "  45): <BondType with smirks: [#6X4:1]-[#1:2]  id: b84  length: 1.093899492634 angstrom  k: 740.0934137725 kilocalorie / angstrom ** 2 / mole  >,\n",
       " (16,\n",
       "  46): <BondType with smirks: [#6X4:1]-[#1:2]  id: b84  length: 1.093899492634 angstrom  k: 740.0934137725 kilocalorie / angstrom ** 2 / mole  >,\n",
       " (17,\n",
       "  18): <BondType with smirks: [#6X4:1]-[#6X4:2]  id: b1  length: 1.52190126495 angstrom  k: 529.2429715351 kilocalorie / angstrom ** 2 / mole  >,\n",
       " (17,\n",
       "  47): <BondType with smirks: [#6X4:1]-[#1:2]  id: b84  length: 1.093899492634 angstrom  k: 740.0934137725 kilocalorie / angstrom ** 2 / mole  >,\n",
       " (17,\n",
       "  48): <BondType with smirks: [#6X4:1]-[#1:2]  id: b84  length: 1.093899492634 angstrom  k: 740.0934137725 kilocalorie / angstrom ** 2 / mole  >,\n",
       " (18,\n",
       "  19): <BondType with smirks: [#6X4:1]-[#6X4:2]  id: b1  length: 1.52190126495 angstrom  k: 529.2429715351 kilocalorie / angstrom ** 2 / mole  >,\n",
       " (18,\n",
       "  49): <BondType with smirks: [#6X4:1]-[#1:2]  id: b84  length: 1.093899492634 angstrom  k: 740.0934137725 kilocalorie / angstrom ** 2 / mole  >,\n",
       " (18,\n",
       "  50): <BondType with smirks: [#6X4:1]-[#1:2]  id: b84  length: 1.093899492634 angstrom  k: 740.0934137725 kilocalorie / angstrom ** 2 / mole  >,\n",
       " (19,\n",
       "  20): <BondType with smirks: [#6X4:1]-[#1:2]  id: b84  length: 1.093899492634 angstrom  k: 740.0934137725 kilocalorie / angstrom ** 2 / mole  >,\n",
       " (19,\n",
       "  21): <BondType with smirks: [#6X4:1]-[#6X4:2]  id: b1  length: 1.52190126495 angstrom  k: 529.2429715351 kilocalorie / angstrom ** 2 / mole  >,\n",
       " (21,\n",
       "  22): <BondType with smirks: [#6X4:1]-[#1:2]  id: b84  length: 1.093899492634 angstrom  k: 740.0934137725 kilocalorie / angstrom ** 2 / mole  >,\n",
       " (21,\n",
       "  23): <BondType with smirks: [#6X4:1]-[#6X3:2]  id: b2  length: 1.498646816465 angstrom  k: 579.4762652679 kilocalorie / angstrom ** 2 / mole  >,\n",
       " (21,\n",
       "  32): <BondType with smirks: [#6:1]-[#7:2]  id: b7  length: 1.464762957261 angstrom  k: 732.6809445917 kilocalorie / angstrom ** 2 / mole  >,\n",
       " (23,\n",
       "  24): <BondType with smirks: [#6X3:1]:[#6X3:2]  id: b5  length: 1.387193227181 angstrom  k: 721.5704889544 kilocalorie / angstrom ** 2 / mole  >,\n",
       " (23,\n",
       "  31): <BondType with smirks: [#6X3:1]:[#6X3:2]  id: b5  length: 1.387193227181 angstrom  k: 721.5704889544 kilocalorie / angstrom ** 2 / mole  >,\n",
       " (24,\n",
       "  25): <BondType with smirks: [#6X3:1]:[#6X3:2]  id: b5  length: 1.387193227181 angstrom  k: 721.5704889544 kilocalorie / angstrom ** 2 / mole  >,\n",
       " (24,\n",
       "  51): <BondType with smirks: [#6X3:1]-[#1:2]  id: b85  length: 1.085358495916 angstrom  k: 794.5091579238 kilocalorie / angstrom ** 2 / mole  >,\n",
       " (25,\n",
       "  26): <BondType with smirks: [#6X3:1]-[#8X2H1:2]  id: b18  length: 1.369745182308 angstrom  k: 771.5209191174 kilocalorie / angstrom ** 2 / mole  >,\n",
       " (25,\n",
       "  27): <BondType with smirks: [#6X3:1]:[#6X3:2]  id: b5  length: 1.387193227181 angstrom  k: 721.5704889544 kilocalorie / angstrom ** 2 / mole  >,\n",
       " (26,\n",
       "  52): <BondType with smirks: [#8:1]-[#1:2]  id: b88  length: 0.9716763312559 angstrom  k: 1087.053566377 kilocalorie / angstrom ** 2 / mole  >,\n",
       " (27,\n",
       "  28): <BondType with smirks: [#6X3:1]-[#8X2H1:2]  id: b18  length: 1.369745182308 angstrom  k: 771.5209191174 kilocalorie / angstrom ** 2 / mole  >,\n",
       " (27,\n",
       "  29): <BondType with smirks: [#6X3:1]:[#6X3:2]  id: b5  length: 1.387193227181 angstrom  k: 721.5704889544 kilocalorie / angstrom ** 2 / mole  >,\n",
       " (28,\n",
       "  53): <BondType with smirks: [#8:1]-[#1:2]  id: b88  length: 0.9716763312559 angstrom  k: 1087.053566377 kilocalorie / angstrom ** 2 / mole  >,\n",
       " (29,\n",
       "  30): <BondType with smirks: [#6:1]-[#9:2]  id: b68  length: 1.352926211207 angstrom  k: 808.7710029616 kilocalorie / angstrom ** 2 / mole  >,\n",
       " (29,\n",
       "  31): <BondType with smirks: [#6X3:1]:[#6X3:2]  id: b5  length: 1.387193227181 angstrom  k: 721.5704889544 kilocalorie / angstrom ** 2 / mole  >,\n",
       " (31,\n",
       "  54): <BondType with smirks: [#6X3:1]-[#1:2]  id: b85  length: 1.085358495916 angstrom  k: 794.5091579238 kilocalorie / angstrom ** 2 / mole  >,\n",
       " (32,\n",
       "  55): <BondType with smirks: [#7:1]-[#1:2]  id: b87  length: 1.019481865027 angstrom  k: 1010.288992386 kilocalorie / angstrom ** 2 / mole  >}"
      ]
     },
     "execution_count": 7,
     "metadata": {},
     "output_type": "execute_result"
    }
   ],
   "source": [
    "dict(ff_applied_parameters[0][\"Bonds\"])"
   ]
  },
  {
   "cell_type": "markdown",
   "metadata": {},
   "source": [
    "Take a look at the first entry as an example. The dictionary is keyed by the atomic indices of the particles in the molecule that the parameter applies to, and the values are special types that specify the parameters from the force field. We'll look in more detail at one of these parameters in a second."
   ]
  },
  {
   "cell_type": "markdown",
   "metadata": {},
   "source": [
    "## A little goes a long way — Changing parameters"
   ]
  },
  {
   "cell_type": "markdown",
   "metadata": {},
   "source": [
    "We already decided we wanted to adjust the torsion parameter to the hydroxyl group, so let's do that. We know parameters are indexed by the atoms they've been applied to, so we can look at our labelled widget above and pull out exactly the parameter we care about:"
   ]
  },
  {
   "cell_type": "code",
   "execution_count": 8,
   "metadata": {},
   "outputs": [
    {
     "name": "stdout",
     "output_type": "stream",
     "text": [
      "The fluorine-carbon bond is between atoms (30, 29)\n"
     ]
    },
    {
     "data": {
      "text/plain": [
       "<BondType with smirks: [#6:1]-[#9:2]  id: b68  length: 1.352926211207 angstrom  k: 808.7710029616 kilocalorie / angstrom ** 2 / mole  >"
      ]
     },
     "execution_count": 8,
     "metadata": {},
     "output_type": "execute_result"
    }
   ],
   "source": [
    "fluorine = [atom for atom in ligand.atoms if atom.symbol == \"F\"][0]\n",
    "carbon = [neighbor_atom for neighbor_atom in fluorine.bonded_atoms][0]\n",
    "fluorine_carbon_bond_indices = (\n",
    "    fluorine.molecule_atom_index,\n",
    "    carbon.molecule_atom_index,\n",
    ")\n",
    "print(\"The fluorine-carbon bond is between atoms\", fluorine_carbon_bond_indices)\n",
    "\n",
    "ff_applied_parameters[0][\"Bonds\"][fluorine_carbon_bond_indices]"
   ]
  },
  {
   "cell_type": "markdown",
   "metadata": {},
   "source": [
    "<div class=\"alert alert-success\" style=\"max-width: 700px; margin-left: auto; margin-right: auto;\">\n",
    "    📗 We have to get the indices of these atoms out programmatically because our SMILES code doesn't specify atom indices, and so you might have different indices to us. Take a look at the widget above and try manually specifying atom indices to get the parameters of a bond! \n",
    "</div>"
   ]
  },
  {
   "cell_type": "markdown",
   "metadata": {},
   "source": [
    "Let's dig into this type a bit more. It has a few attributes in its textual representation. The first of these is maybe the most important: the `smirks` attribute, which tells the Toolkit which atoms this parameter applies to. SMIRKS is a chemical pattern matching format; think of it as the result of a [regular expression](https://en.wikipedia.org/wiki/Regular_expression) having a baby with a [SMILES string](https://en.wikipedia.org/wiki/Simplified_molecular-input_line-entry_system). This one is very simple: it is just a Carbon atom (`[#6:1]`, atomic number 6) singly bonded (`-`) to a Fluorine atom (`[#9:2]`, atomic number 9). The numbers after the colons just label the atoms — this is a bond, so it has two atoms labelled. This is helpful for when we want to match against atoms that aren't a part of the parameter; we just don't label the additional atoms. We'll use this trick later.\n",
    "\n",
    "The other important attributes provide the actual parameterization, and so are different for different kinds of parameters. For proper torsions, this is the periodicity of the sinewave that describes the torsion, as well as its phase and amplitude (or force constant, $k$). These parameter values are similar to the equivalent description in most other force field formats.\n",
    "\n",
    "\n",
    "<div class=\"alert alert-info\" style=\"max-width: 700px; margin-left: auto; margin-right: auto;\">\n",
    "    <p> ℹ️ The SMIRKS specification is available online:</p>\n",
    "    <p style=\"margin-left:3em;\">\n",
    "        <a href=https://www.daylight.com/dayhtml/doc/theory/theory.smirks.html>\n",
    "            https://www.daylight.com/dayhtml/doc/theory/theory.smirks.html\n",
    "        </a>\n",
    "    </p>\n",
    "    <p style=\"margin-left:1.5em;\">\n",
    "        It is closely related to the SMARTS molecular pattern matching language, \n",
    "        whose specification is probably more useful for working with the Toolkit\n",
    "        and is also available online:\n",
    "    </p>\n",
    "    <p style=\"margin-left:3em;\">\n",
    "        <a href = https://www.daylight.com/dayhtml/doc/theory/theory.smarts.html>\n",
    "            https://www.daylight.com/dayhtml/doc/theory/theory.smarts.html\n",
    "        </a>\n",
    "    </p>\n",
    "</div>\n",
    "\n",
    "\n",
    "### Modifying a parameter\n",
    "\n",
    "Unfortunately we can't just modify this parameter and see the results reflected in the parameterization. We need to get the appropriate parameter from the force field and modify it there."
   ]
  },
  {
   "cell_type": "code",
   "execution_count": 9,
   "metadata": {},
   "outputs": [],
   "source": [
    "fluorine_bond = force_field[\"Bonds\"].parameters[\"[#6:1]-[#9:2]\"]\n",
    "fluorine_bond.length = 10 * unit.angstrom"
   ]
  },
  {
   "cell_type": "markdown",
   "metadata": {},
   "source": [
    "Here, we've selected the proper torsion with the SMIRKS code we found earlier, and changed its force constant by an order of magnitude in the opposite direction! Let's see what we've wrought:"
   ]
  },
  {
   "cell_type": "code",
   "execution_count": 10,
   "metadata": {},
   "outputs": [
    {
     "name": "stdout",
     "output_type": "stream",
     "text": [
      "Initial energy is 127153.9 kJ/mol; Minimized energy is 99.8 kJ/mol\n"
     ]
    },
    {
     "data": {
      "application/vnd.jupyter.widget-view+json": {
       "model_id": "c0595ef974c44436a56947107ed4715d",
       "version_major": 2,
       "version_minor": 0
      },
      "text/plain": [
       "NGLWidget()"
      ]
     },
     "metadata": {},
     "output_type": "display_data"
    }
   ],
   "source": [
    "minimize_and_visualize(ligand, force_field)"
   ]
  },
  {
   "cell_type": "markdown",
   "metadata": {},
   "source": [
    "Turns out Pinocchio was a real molecule all along!\n",
    "\n",
    "### Parameters affecting multiple atom groups\n",
    "\n",
    "Ok, that was fun, but it's only one parameter; we could easily have made this change in the OpenMM `System` or a GROMACS ITP file or whatever. What's the toolkit really giving us here?\n",
    "\n",
    "Let's mess with all the H-X-H angles. And let's not get into SMIRKS this time, lets let the toolkit do the thinking:"
   ]
  },
  {
   "cell_type": "code",
   "execution_count": 11,
   "metadata": {},
   "outputs": [
    {
     "name": "stdout",
     "output_type": "stream",
     "text": [
      "(33, 0, 34) <AngleType with smirks: [#1:1]-[#6X4:2]-[#1:3]  angle: 115.6030999533 degree  k: 97.55298529519 kilocalorie / mole / radian ** 2  id: a2  >\n",
      "(33, 0, 35) <AngleType with smirks: [#1:1]-[#6X4:2]-[#1:3]  angle: 115.6030999533 degree  k: 97.55298529519 kilocalorie / mole / radian ** 2  id: a2  >\n",
      "(34, 0, 35) <AngleType with smirks: [#1:1]-[#6X4:2]-[#1:3]  angle: 115.6030999533 degree  k: 97.55298529519 kilocalorie / mole / radian ** 2  id: a2  >\n",
      "(36, 2, 37) <AngleType with smirks: [#1:1]-[#6X4:2]-[#1:3]  angle: 115.6030999533 degree  k: 97.55298529519 kilocalorie / mole / radian ** 2  id: a2  >\n",
      "(36, 2, 38) <AngleType with smirks: [#1:1]-[#6X4:2]-[#1:3]  angle: 115.6030999533 degree  k: 97.55298529519 kilocalorie / mole / radian ** 2  id: a2  >\n",
      "(37, 2, 38) <AngleType with smirks: [#1:1]-[#6X4:2]-[#1:3]  angle: 115.6030999533 degree  k: 97.55298529519 kilocalorie / mole / radian ** 2  id: a2  >\n",
      "(39, 3, 40) <AngleType with smirks: [#1:1]-[#6X4:2]-[#1:3]  angle: 115.6030999533 degree  k: 97.55298529519 kilocalorie / mole / radian ** 2  id: a2  >\n",
      "(39, 3, 41) <AngleType with smirks: [#1:1]-[#6X4:2]-[#1:3]  angle: 115.6030999533 degree  k: 97.55298529519 kilocalorie / mole / radian ** 2  id: a2  >\n",
      "(40, 3, 41) <AngleType with smirks: [#1:1]-[#6X4:2]-[#1:3]  angle: 115.6030999533 degree  k: 97.55298529519 kilocalorie / mole / radian ** 2  id: a2  >\n",
      "(45, 16, 46) <AngleType with smirks: [#1:1]-[#6X4:2]-[#1:3]  angle: 115.6030999533 degree  k: 97.55298529519 kilocalorie / mole / radian ** 2  id: a2  >\n",
      "(47, 17, 48) <AngleType with smirks: [#1:1]-[#6X4:2]-[#1:3]  angle: 115.6030999533 degree  k: 97.55298529519 kilocalorie / mole / radian ** 2  id: a2  >\n",
      "(49, 18, 50) <AngleType with smirks: [#1:1]-[#6X4:2]-[#1:3]  angle: 115.6030999533 degree  k: 97.55298529519 kilocalorie / mole / radian ** 2  id: a2  >\n"
     ]
    }
   ],
   "source": [
    "ff_applied_parameters = force_field.label_molecules(ligand.to_topology())\n",
    "for atoms, parameter in ff_applied_parameters[0][\"Angles\"].items():\n",
    "    ele_1 = ligand.atoms[atoms[0]].symbol\n",
    "    ele_2 = ligand.atoms[atoms[1]].symbol\n",
    "    ele_3 = ligand.atoms[atoms[2]].symbol\n",
    "    if ele_1 == \"H\" and ele_3 == \"H\":\n",
    "        print(atoms, parameter)"
   ]
  },
  {
   "cell_type": "markdown",
   "metadata": {},
   "source": [
    "Wow, there's just one `smirks` parameter describing all of the H-X-H angles!\n",
    "\n",
    "<div class=\"alert alert-info\" style=\"max-width: 700px; margin-left: auto; margin-right: auto;\">\n",
    "    ℹ️ It's worth mentioning here that a force field might include multiple parameters with SMIRKS that match a particular group of atoms. When this happens, only the last parameter specified is applied. This allows force field authors to define general parameters first, and then override them with more specific parameters.\n",
    "</div>\n",
    "\n",
    "<div class=\"alert alert-success\" style=\"max-width: 700px; margin-left: auto; margin-right: auto;\">\n",
    "    📗 Convince yourself that this SMIRKS code matches all of the H-X-H angles in our molecule. What H-X-H angles would it not match?\n",
    "</div>\n"
   ]
  },
  {
   "cell_type": "code",
   "execution_count": 12,
   "metadata": {},
   "outputs": [
    {
     "name": "stdout",
     "output_type": "stream",
     "text": [
      "Initial energy is 129550.3 kJ/mol; Minimized energy is 113.7 kJ/mol\n"
     ]
    },
    {
     "data": {
      "application/vnd.jupyter.widget-view+json": {
       "model_id": "d606f2cd091a4210ad67031356301ed7",
       "version_major": 2,
       "version_minor": 0
      },
      "text/plain": [
       "NGLWidget()"
      ]
     },
     "metadata": {},
     "output_type": "display_data"
    }
   ],
   "source": [
    "hxh_angle = force_field[\"Angles\"].parameters[\"[#1:1]-[#6X4:2]-[#1:3]\"]\n",
    "hxh_angle.angle = 50 * unit.degree\n",
    "\n",
    "minimize_and_visualize(ligand, force_field)"
   ]
  },
  {
   "cell_type": "markdown",
   "metadata": {},
   "source": [
    "That is not how a methyl group is supposed to look. Guess we did it right!"
   ]
  },
  {
   "cell_type": "markdown",
   "metadata": {},
   "source": [
    "## Introducing a new parameter\n",
    "\n",
    "Now let's get really crazy. I've always thought heteroatoms in rings looked a bit too comfortable, haven't you?\n",
    "\n",
    "Since we have two cyclic heteroatoms in our molecule with very different chemistries, there'll probably be two seperate parameters we need to modify. We can just pass the SMIRKS that come up for C-X-C angles to code that modifies the parameters directly, no need to manually copy it over. "
   ]
  },
  {
   "cell_type": "code",
   "execution_count": 13,
   "metadata": {},
   "outputs": [
    {
     "name": "stdout",
     "output_type": "stream",
     "text": [
      "(9, 32, 21) <AngleType with smirks: [*:1]~[#7X3$(*~[#6X3,#6X2,#7X2+0]):2]~[*:3]  angle: 117.3465570514 degree  k: 110.8436430155 kilocalorie / mole / radian ** 2  id: a20  >\n",
      "(13, 15, 16) <AngleType with smirks: [*:1]-[#8:2]-[*:3]  angle: 110.3538806181 degree  k: 130.181232192 kilocalorie / mole / radian ** 2  id: a28  >\n",
      "Initial energy is 132119.8 kJ/mol; Minimized energy is 400.5 kJ/mol\n"
     ]
    },
    {
     "data": {
      "application/vnd.jupyter.widget-view+json": {
       "model_id": "d2c9a1f9f8864f86ada23b470c0105a1",
       "version_major": 2,
       "version_minor": 0
      },
      "text/plain": [
       "NGLWidget()"
      ]
     },
     "metadata": {},
     "output_type": "display_data"
    }
   ],
   "source": [
    "ff_applied_parameters = force_field.label_molecules(ligand.to_topology())\n",
    "for atoms, parameter in ff_applied_parameters[0][\"Angles\"].items():\n",
    "    ele_1 = ligand.atoms[atoms[0]].symbol\n",
    "    ele_2 = ligand.atoms[atoms[1]].symbol\n",
    "    ele_3 = ligand.atoms[atoms[2]].symbol\n",
    "    if (ele_2 not in [\"C\", \"H\"]) and ele_1 == \"C\" and ele_3 == \"C\":\n",
    "        print(atoms, parameter)\n",
    "\n",
    "        smirks = parameter.smirks\n",
    "        heteroatom_angle = force_field[\"Angles\"].parameters[smirks]\n",
    "        # dihedral angles are undefined when linear, so let's not set to 180\n",
    "        heteroatom_angle.angle = 179 * unit.degree\n",
    "\n",
    "        # We'll need this later\n",
    "        if ele_2 == \"N\":\n",
    "            cyclic_nitrogen_smirks = smirks\n",
    "\n",
    "minimize_and_visualize(ligand, force_field)"
   ]
  },
  {
   "cell_type": "markdown",
   "metadata": {},
   "source": [
    "Oops! We didn't mean to make all the hydroxyl groups linear! One of our parameters must be applied to Oxygen both when its in a ring and in a hydroxyl group. Sure enough, the second SMIRKS code printed above (`[*:1]-[#8:2]-[*:3]`) matches any X-O-X angle! We'll have to define a new, more specific SMIRKS entry so we only capture the appropriate oxygen."
   ]
  },
  {
   "cell_type": "markdown",
   "metadata": {},
   "source": [
    "### The SMIRKS for our new parameter\n",
    "\n",
    "Our modified force field is getting a bit messy, so let's start again. We still want the nitrogen angle from before, so lets save that too"
   ]
  },
  {
   "cell_type": "code",
   "execution_count": 14,
   "metadata": {},
   "outputs": [],
   "source": [
    "force_field = ForceField(\"openff-2.0.0.offxml\")\n",
    "cyclic_nitrogen_angle = force_field[\"Angles\"].parameters[cyclic_nitrogen_smirks]\n",
    "cyclic_nitrogen_angle.angle = 179 * unit.degree"
   ]
  },
  {
   "cell_type": "markdown",
   "metadata": {},
   "source": [
    "Now we need to define a new SMIRKS entry, specific to oxygens in a ring. We can be as specific as we like, as our new parameter will be at the end of the force field and so will override any conflicting parameters. Let's define our smirks to match any singly-bonded C-O-C angle in a six-membered pyran ring.\n",
    "\n",
    "First, we'll write down the SMILES for a pyran:\n",
    "\n",
    "`C1CCOCC1`\n",
    "\n",
    "The first carbon has a digit following it, `C1`, which allows us to close the ring later. Then we have two more carbons, `CC`, an oxygen, `O`, and the final two carbons, `CC`. Finally, we close the ring by repeating the same digit from before, `1`. Lets check that this produces the chemical we expect before we move on:"
   ]
  },
  {
   "cell_type": "code",
   "execution_count": 15,
   "metadata": {},
   "outputs": [
    {
     "data": {
      "image/svg+xml": [
       "<svg xmlns=\"http://www.w3.org/2000/svg\" xmlns:rdkit=\"http://www.rdkit.org/xml\" xmlns:xlink=\"http://www.w3.org/1999/xlink\" version=\"1.1\" baseProfile=\"full\" xml:space=\"preserve\" width=\"500px\" height=\"300px\" viewBox=\"0 0 500 300\">\n",
       "<!-- END OF HEADER -->\n",
       "<rect style=\"opacity:1.0;fill:#FFFFFF;stroke:none\" width=\"500.0\" height=\"300.0\" x=\"0.0\" y=\"0.0\"> </rect>\n",
       "<path class=\"bond-0 atom-0 atom-5\" d=\"M 308.9,182.2 L 249.5,216.5\" style=\"fill:none;fill-rule:evenodd;stroke:#000000;stroke-width:2.0px;stroke-linecap:butt;stroke-linejoin:miter;stroke-opacity:1\"/>\n",
       "<path class=\"bond-1 atom-0 atom-1\" d=\"M 308.9,182.2 L 309.0,113.6\" style=\"fill:none;fill-rule:evenodd;stroke:#000000;stroke-width:2.0px;stroke-linecap:butt;stroke-linejoin:miter;stroke-opacity:1\"/>\n",
       "<path class=\"bond-2 atom-1 atom-2\" d=\"M 309.0,113.6 L 249.5,79.4\" style=\"fill:none;fill-rule:evenodd;stroke:#000000;stroke-width:2.0px;stroke-linecap:butt;stroke-linejoin:miter;stroke-opacity:1\"/>\n",
       "<path class=\"bond-3 atom-2 atom-3\" d=\"M 249.5,79.4 L 227.4,92.1\" style=\"fill:none;fill-rule:evenodd;stroke:#000000;stroke-width:2.0px;stroke-linecap:butt;stroke-linejoin:miter;stroke-opacity:1\"/>\n",
       "<path class=\"bond-3 atom-2 atom-3\" d=\"M 227.4,92.1 L 205.4,104.7\" style=\"fill:none;fill-rule:evenodd;stroke:#FF0000;stroke-width:2.0px;stroke-linecap:butt;stroke-linejoin:miter;stroke-opacity:1\"/>\n",
       "<path class=\"bond-4 atom-3 atom-4\" d=\"M 190.2,130.4 L 190.3,156.2\" style=\"fill:none;fill-rule:evenodd;stroke:#FF0000;stroke-width:2.0px;stroke-linecap:butt;stroke-linejoin:miter;stroke-opacity:1\"/>\n",
       "<path class=\"bond-4 atom-3 atom-4\" d=\"M 190.3,156.2 L 190.3,181.9\" style=\"fill:none;fill-rule:evenodd;stroke:#000000;stroke-width:2.0px;stroke-linecap:butt;stroke-linejoin:miter;stroke-opacity:1\"/>\n",
       "<path class=\"bond-5 atom-4 atom-5\" d=\"M 190.3,181.9 L 249.5,216.5\" style=\"fill:none;fill-rule:evenodd;stroke:#000000;stroke-width:2.0px;stroke-linecap:butt;stroke-linejoin:miter;stroke-opacity:1\"/>\n",
       "<path class=\"bond-6 atom-0 atom-6\" d=\"M 308.9,182.2 L 328.9,228.1\" style=\"fill:none;fill-rule:evenodd;stroke:#000000;stroke-width:2.0px;stroke-linecap:butt;stroke-linejoin:miter;stroke-opacity:1\"/>\n",
       "<path class=\"bond-7 atom-0 atom-7\" d=\"M 308.9,182.2 L 363.6,174.2\" style=\"fill:none;fill-rule:evenodd;stroke:#000000;stroke-width:2.0px;stroke-linecap:butt;stroke-linejoin:miter;stroke-opacity:1\"/>\n",
       "<path class=\"bond-8 atom-1 atom-8\" d=\"M 309.0,113.6 L 350.7,117.6\" style=\"fill:none;fill-rule:evenodd;stroke:#000000;stroke-width:2.0px;stroke-linecap:butt;stroke-linejoin:miter;stroke-opacity:1\"/>\n",
       "<path class=\"bond-9 atom-1 atom-9\" d=\"M 309.0,113.6 L 327.6,66.2\" style=\"fill:none;fill-rule:evenodd;stroke:#000000;stroke-width:2.0px;stroke-linecap:butt;stroke-linejoin:miter;stroke-opacity:1\"/>\n",
       "<path class=\"bond-10 atom-2 atom-10\" d=\"M 249.5,79.4 L 269.9,50.3\" style=\"fill:none;fill-rule:evenodd;stroke:#000000;stroke-width:2.0px;stroke-linecap:butt;stroke-linejoin:miter;stroke-opacity:1\"/>\n",
       "<path class=\"bond-11 atom-2 atom-11\" d=\"M 249.5,79.4 L 217.1,43.1\" style=\"fill:none;fill-rule:evenodd;stroke:#000000;stroke-width:2.0px;stroke-linecap:butt;stroke-linejoin:miter;stroke-opacity:1\"/>\n",
       "<path class=\"bond-12 atom-4 atom-12\" d=\"M 190.3,181.9 L 136.4,170.1\" style=\"fill:none;fill-rule:evenodd;stroke:#000000;stroke-width:2.0px;stroke-linecap:butt;stroke-linejoin:miter;stroke-opacity:1\"/>\n",
       "<path class=\"bond-13 atom-4 atom-13\" d=\"M 190.3,181.9 L 175.1,213.7\" style=\"fill:none;fill-rule:evenodd;stroke:#000000;stroke-width:2.0px;stroke-linecap:butt;stroke-linejoin:miter;stroke-opacity:1\"/>\n",
       "<path class=\"bond-14 atom-5 atom-14\" d=\"M 249.5,216.5 L 219.1,253.3\" style=\"fill:none;fill-rule:evenodd;stroke:#000000;stroke-width:2.0px;stroke-linecap:butt;stroke-linejoin:miter;stroke-opacity:1\"/>\n",
       "<path class=\"bond-15 atom-5 atom-15\" d=\"M 249.5,216.5 L 276.9,255.5\" style=\"fill:none;fill-rule:evenodd;stroke:#000000;stroke-width:2.0px;stroke-linecap:butt;stroke-linejoin:miter;stroke-opacity:1\"/>\n",
       "<path class=\"atom-3\" d=\"M 177.2 113.6 Q 177.2 106.8, 180.6 103.0 Q 184.0 99.2, 190.2 99.2 Q 196.5 99.2, 199.9 103.0 Q 203.2 106.8, 203.2 113.6 Q 203.2 120.4, 199.8 124.4 Q 196.4 128.2, 190.2 128.2 Q 184.0 128.2, 180.6 124.4 Q 177.2 120.5, 177.2 113.6 M 190.2 125.0 Q 194.6 125.0, 196.9 122.2 Q 199.2 119.2, 199.2 113.6 Q 199.2 108.0, 196.9 105.2 Q 194.6 102.4, 190.2 102.4 Q 185.9 102.4, 183.6 105.2 Q 181.2 108.0, 181.2 113.6 Q 181.2 119.3, 183.6 122.2 Q 185.9 125.0, 190.2 125.0 \" fill=\"#FF0000\"/>\n",
       "<path class=\"atom-6\" d=\"M 324.9 230.2 L 328.8 230.2 L 328.8 242.3 L 343.3 242.3 L 343.3 230.2 L 347.1 230.2 L 347.1 258.6 L 343.3 258.6 L 343.3 245.5 L 328.8 245.5 L 328.8 258.6 L 324.9 258.6 L 324.9 230.2 \" fill=\"#000000\"/>\n",
       "<path class=\"atom-7\" d=\"M 365.7 158.1 L 369.6 158.1 L 369.6 170.2 L 384.1 170.2 L 384.1 158.1 L 387.9 158.1 L 387.9 186.4 L 384.1 186.4 L 384.1 173.4 L 369.6 173.4 L 369.6 186.4 L 365.7 186.4 L 365.7 158.1 \" fill=\"#000000\"/>\n",
       "<path class=\"atom-8\" d=\"M 352.8 104.8 L 356.7 104.8 L 356.7 116.8 L 371.2 116.8 L 371.2 104.8 L 375.0 104.8 L 375.0 133.1 L 371.2 133.1 L 371.2 120.0 L 356.7 120.0 L 356.7 133.1 L 352.8 133.1 L 352.8 104.8 \" fill=\"#000000\"/>\n",
       "<path class=\"atom-9\" d=\"M 323.0 35.7 L 326.8 35.7 L 326.8 47.7 L 341.3 47.7 L 341.3 35.7 L 345.2 35.7 L 345.2 64.0 L 341.3 64.0 L 341.3 50.9 L 326.8 50.9 L 326.8 64.0 L 323.0 64.0 L 323.0 35.7 \" fill=\"#000000\"/>\n",
       "<path class=\"atom-10\" d=\"M 270.3 19.8 L 274.2 19.8 L 274.2 31.8 L 288.6 31.8 L 288.6 19.8 L 292.5 19.8 L 292.5 48.1 L 288.6 48.1 L 288.6 35.0 L 274.2 35.0 L 274.2 48.1 L 270.3 48.1 L 270.3 19.8 \" fill=\"#000000\"/>\n",
       "<path class=\"atom-11\" d=\"M 192.7 14.0 L 196.6 14.0 L 196.6 26.1 L 211.0 26.1 L 211.0 14.0 L 214.9 14.0 L 214.9 42.4 L 211.0 42.4 L 211.0 29.3 L 196.6 29.3 L 196.6 42.4 L 192.7 42.4 L 192.7 14.0 \" fill=\"#000000\"/>\n",
       "<path class=\"atom-12\" d=\"M 112.1 153.1 L 115.9 153.1 L 115.9 165.1 L 130.4 165.1 L 130.4 153.1 L 134.3 153.1 L 134.3 181.4 L 130.4 181.4 L 130.4 168.3 L 115.9 168.3 L 115.9 181.4 L 112.1 181.4 L 112.1 153.1 \" fill=\"#000000\"/>\n",
       "<path class=\"atom-13\" d=\"M 156.2 215.8 L 160.0 215.8 L 160.0 227.9 L 174.5 227.9 L 174.5 215.8 L 178.3 215.8 L 178.3 244.2 L 174.5 244.2 L 174.5 231.1 L 160.0 231.1 L 160.0 244.2 L 156.2 244.2 L 156.2 215.8 \" fill=\"#000000\"/>\n",
       "<path class=\"atom-14\" d=\"M 194.8 255.2 L 198.6 255.2 L 198.6 267.2 L 213.1 267.2 L 213.1 255.2 L 216.9 255.2 L 216.9 283.5 L 213.1 283.5 L 213.1 270.4 L 198.6 270.4 L 198.6 283.5 L 194.8 283.5 L 194.8 255.2 \" fill=\"#000000\"/>\n",
       "<path class=\"atom-15\" d=\"M 277.3 257.6 L 281.1 257.6 L 281.1 269.7 L 295.6 269.7 L 295.6 257.6 L 299.4 257.6 L 299.4 286.0 L 295.6 286.0 L 295.6 272.9 L 281.1 272.9 L 281.1 286.0 L 277.3 286.0 L 277.3 257.6 \" fill=\"#000000\"/>\n",
       "</svg>"
      ],
      "text/plain": [
       "<IPython.core.display.SVG object>"
      ]
     },
     "execution_count": 15,
     "metadata": {},
     "output_type": "execute_result"
    }
   ],
   "source": [
    "Molecule.from_smiles(\"C1CCOCC1\").visualize()"
   ]
  },
  {
   "cell_type": "markdown",
   "metadata": {},
   "source": [
    "Perfect. We can ignore the hydrogens, as we haven't specified any bond orders - our smirks will match the saturated structure or any of its derivatives that maintain the ring. Now all we have to do is label the atoms we want to extract the bond from! This way, all the atoms must be present for the SMIRKS to match, but only these three atoms define the angle for the parameter. This lets us be more specific than we could be if we could only describe the atoms in the angle itself. We do that the same way we did before, put them in square brackets and append a colon and a number:"
   ]
  },
  {
   "cell_type": "code",
   "execution_count": 16,
   "metadata": {},
   "outputs": [],
   "source": [
    "cyclic_oxygen_smirks = \"C1C[C:1]-[O:2]-[C:3]C1\""
   ]
  },
  {
   "cell_type": "markdown",
   "metadata": {},
   "source": [
    "\n",
    "<div class=\"alert alert-success\" style=\"max-width: 700px; margin-left: auto; margin-right: auto;\">\n",
    "    📗 Try replacing this SMIRKS code with one of your own. Hint: For this force field and ligand, there's a much simpler code that will uniquely specify the C-O-C bond!\n",
    "</div>\n"
   ]
  },
  {
   "cell_type": "markdown",
   "metadata": {},
   "source": [
    "### Defining and registering the new parameter\n",
    "\n",
    "Now, all that's left is to define the angle parameter, add it to the force field, and see what we've wrought!"
   ]
  },
  {
   "cell_type": "code",
   "execution_count": 17,
   "metadata": {
    "scrolled": true
   },
   "outputs": [
    {
     "name": "stdout",
     "output_type": "stream",
     "text": [
      "Initial energy is 883.2 kJ/mol; Minimized energy is 300.5 kJ/mol\n"
     ]
    },
    {
     "data": {
      "application/vnd.jupyter.widget-view+json": {
       "model_id": "90c1351993a643af9ce00af518e9a9c5",
       "version_major": 2,
       "version_minor": 0
      },
      "text/plain": [
       "NGLWidget()"
      ]
     },
     "metadata": {},
     "output_type": "display_data"
    }
   ],
   "source": [
    "# Define the new angle parameter\n",
    "angle_parameter = offtk_parameters.AngleHandler.AngleType(\n",
    "    smirks=cyclic_oxygen_smirks,\n",
    "    angle=179 * unit.degree,\n",
    "    k=134.5019777341 * unit.kilocalorie / (unit.mole * unit.radians**2),\n",
    ")\n",
    "\n",
    "# Add the parameter to the force field\n",
    "angles_handler = force_field[\"Angles\"]\n",
    "angles_handler.add_parameter(parameter=angle_parameter)\n",
    "\n",
    "# Visualize the newly parameterized molecule\n",
    "minimize_and_visualize(ligand, force_field)"
   ]
  },
  {
   "cell_type": "markdown",
   "metadata": {},
   "source": [
    "Perfect! The two cyclic heteroatoms are nearly linear while the hydroxyl group retains its characteristic angle."
   ]
  },
  {
   "cell_type": "markdown",
   "metadata": {},
   "source": [
    "### Bonus: Adding a cosmetic attribute to the new parameter\n",
    "\n",
    "In some cases, you might want to tag a particular attribute with extra data. This might be useful, for example, in communicating to a fitting tool which parameters should be fitted, or simply to add extra metadata.. The toolkit allows for _cosmetic attributes_, which can be stored to individual parameters, will be included out when the `ForceField` object is written to disk, but will not otherwise affect the parameterization machinery. The API point for this is [`ParameterType.add_cosmetic_attribute`](https://docs.openforcefield.org/projects/toolkit/en/stable/api/generated/openff.toolkit.typing.engines.smirnoff.parameters.ParameterType.html#openff.toolkit.typing.engines.smirnoff.parameters.ParameterType.add_cosmetic_attribute).\n",
    "\n",
    "Let's use this to tag our modified and new parameters with a note about why we introduced it."
   ]
  },
  {
   "cell_type": "code",
   "execution_count": 18,
   "metadata": {},
   "outputs": [],
   "source": [
    "angles_handler.parameters[cyclic_nitrogen_smirks].add_cosmetic_attribute(\n",
    "    attr_name=\"note\",\n",
    "    attr_value=\"funky pseudo-linear cyclic nitrogen\",\n",
    ")\n",
    "\n",
    "angles_handler.parameters[cyclic_oxygen_smirks].add_cosmetic_attribute(\n",
    "    attr_name=\"note\",\n",
    "    attr_value=\"funky pseudo-linear cyclic oxygen\",\n",
    ")"
   ]
  },
  {
   "cell_type": "markdown",
   "metadata": {},
   "source": [
    "We we look at these parameter now, they include this attribute tacked on at the end:"
   ]
  },
  {
   "cell_type": "code",
   "execution_count": 19,
   "metadata": {},
   "outputs": [
    {
     "data": {
      "text/plain": [
       "<AngleType with smirks: [*:1]~[#7X3$(*~[#6X3,#6X2,#7X2+0]):2]~[*:3]  angle: 179 degree  k: 110.8436430155 kilocalorie / mole / radian ** 2  id: a20  note: funky pseudo-linear cyclic nitrogen  >"
      ]
     },
     "execution_count": 19,
     "metadata": {},
     "output_type": "execute_result"
    }
   ],
   "source": [
    "angles_handler.parameters[cyclic_nitrogen_smirks]"
   ]
  },
  {
   "cell_type": "code",
   "execution_count": 20,
   "metadata": {},
   "outputs": [
    {
     "data": {
      "text/plain": [
       "<AngleType with smirks: C1C[C:1]-[O:2]-[C:3]C1  angle: 179 degree  k: 134.5019777341 kilocalorie / mole / radian ** 2  note: funky pseudo-linear cyclic oxygen  >"
      ]
     },
     "execution_count": 20,
     "metadata": {},
     "output_type": "execute_result"
    }
   ],
   "source": [
    "angles_handler.parameters[cyclic_oxygen_smirks]"
   ]
  },
  {
   "cell_type": "markdown",
   "metadata": {},
   "source": [
    "Cometic attributes are included by default when [writing to disk](https://docs.openforcefield.org/projects/toolkit/en/stable/api/generated/openff.toolkit.typing.engines.smirnoff.ForceField.html#openff.toolkit.typing.engines.smirnoff.ForceField.to_file). (This can be turned off by flipping the argument `discard_cosmetic_attributes` to `True`.) Let's write out our modified force field and search through the file for the note we added."
   ]
  },
  {
   "cell_type": "code",
   "execution_count": 21,
   "metadata": {},
   "outputs": [],
   "source": [
    "force_field.to_file(\"modified.offxml\")"
   ]
  },
  {
   "cell_type": "code",
   "execution_count": 22,
   "metadata": {},
   "outputs": [
    {
     "name": "stdout",
     "output_type": "stream",
     "text": [
      "        <Angle smirks=\"[*:1]~[#7X3$(*~[#6X3,#6X2,#7X2+0]):2]~[*:3]\" angle=\"179 * degree ** 1\" k=\"110.8436430155 * mole ** -1 * radian ** -2 * kilocalorie ** 1\" id=\"a20\" note=\"funky pseudo-linear cyclic nitrogen\"></Angle>\n",
      "        <Angle smirks=\"C1C[C:1]-[O:2]-[C:3]C1\" angle=\"179 * degree ** 1\" k=\"134.5019777341 * kilocalorie ** 1 * mole ** -1 * radian ** -2\" note=\"funky pseudo-linear cyclic oxygen\"></Angle>\n"
     ]
    }
   ],
   "source": [
    "!grep funky modified.offxml"
   ]
  },
  {
   "cell_type": "code",
   "execution_count": null,
   "metadata": {},
   "outputs": [],
   "source": []
  }
 ],
 "metadata": {
  "kernelspec": {
   "display_name": "Python 3 (ipykernel)",
   "language": "python",
   "name": "python3"
  },
  "language_info": {
   "codemirror_mode": {
    "name": "ipython",
    "version": 3
   },
   "file_extension": ".py",
   "mimetype": "text/x-python",
   "name": "python",
   "nbconvert_exporter": "python",
   "pygments_lexer": "ipython3",
   "version": "3.11.4"
  },
  "widgets": {
   "application/vnd.jupyter.widget-state+json": {
    "state": {},
    "version_major": 2,
    "version_minor": 0
   }
  },
  "category": "force_field_dev"
 },
 "nbformat": 4,
 "nbformat_minor": 4
}

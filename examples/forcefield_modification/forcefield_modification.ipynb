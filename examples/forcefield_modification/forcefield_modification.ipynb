{
 "cells": [
  {
   "cell_type": "markdown",
   "metadata": {},
   "source": [
    "# Forcefield Modification\n",
    "<br />\n",
    "<details>\n",
    "    <summary><small>▼ Click here for dependency installation instructions</small></summary>\n",
    "\n",
    "    # The simplest way to install dependencies is to install the examples package:\n",
    "    \n",
    "    conda install -c conda-forge openff-toolkit-examples\n",
    "    \n",
    "    # You can also install all the depencies using the provided environment.yaml:\n",
    "    \n",
    "    conda env update --file ../environment.yaml \n",
    "    \n",
    "    # You may also need to restart this notebook's kernel after you make these changes (Kernel -> Restart)\n",
    "</details>\n",
    "\n",
    "In this example, we'll parameterize a ligand automatically, and then play with its parameters to demonstrate the Toolkit's ability to facilitate force field optimization. For each modification, we'll calculate the energy for the original conformation, and then minimize the energy and visualize the result."
   ]
  },
  {
   "cell_type": "code",
   "execution_count": 1,
   "metadata": {},
   "outputs": [],
   "source": [
    "from copy import deepcopy\n",
    "\n",
    "from openff.units import unit\n",
    "from openff.units.openmm import from_openmm, to_openmm\n",
    "from openmm import LangevinIntegrator, app\n",
    "from openmm import unit as openmm_unit\n",
    "\n",
    "import openff.toolkit.typing.engines.smirnoff.parameters as offtk_parameters\n",
    "from openff.toolkit import ForceField, Molecule"
   ]
  },
  {
   "cell_type": "markdown",
   "metadata": {},
   "source": [
    "We're going to do a lot of changing a parameter and then visualising what happened, so let's define a convenience function to do just that"
   ]
  },
  {
   "cell_type": "code",
   "execution_count": 2,
   "metadata": {},
   "outputs": [],
   "source": [
    "def minimize_and_visualize(molecule, forcefield):\n",
    "    # Sort out our input data\n",
    "    mol_topology = molecule.to_topology()\n",
    "    mol_system = forcefield.create_openmm_system(\n",
    "        mol_topology,\n",
    "        charge_from_molecules=[molecule],\n",
    "    )\n",
    "\n",
    "    # Set up the minimization and point calculation\n",
    "    integrator = LangevinIntegrator(\n",
    "        300 * openmm_unit.kelvin,\n",
    "        1 / openmm_unit.picosecond,\n",
    "        0.002 * openmm_unit.picoseconds,\n",
    "    )\n",
    "    simulation = app.Simulation(mol_topology.to_openmm(), mol_system, integrator)\n",
    "    simulation.context.setPositions(to_openmm(molecule.conformers[0]))\n",
    "\n",
    "    # Get the initial energy\n",
    "    initial_potential = simulation.context.getState(getEnergy=True).getPotentialEnergy()\n",
    "\n",
    "    # Energy minimize\n",
    "    simulation.minimizeEnergy()\n",
    "    minimized_state = simulation.context.getState(getPositions=True, getEnergy=True)\n",
    "    minimized_potential = minimized_state.getPotentialEnergy()\n",
    "    minimized_coords = from_openmm(minimized_state.getPositions(asNumpy=True))\n",
    "\n",
    "    # Visualize\n",
    "    vis_mol = deepcopy(molecule)\n",
    "    vis_mol.conformers[0] = minimized_coords\n",
    "    view = vis_mol.visualize(backend=\"nglview\")\n",
    "    print(\n",
    "        f\"Initial energy is {initial_potential.format('%0.1F')};\",\n",
    "        f\"Minimized energy is {minimized_potential.format('%0.1F')}\",\n",
    "    )\n",
    "    return view"
   ]
  },
  {
   "cell_type": "markdown",
   "metadata": {},
   "source": [
    "## Getting to know you — the molecule\n",
    "\n",
    "This \"ligand\" is a modified version of the molecule we introduced in the Toolkit Showcase. It's just been altered for a slightly more exciting example here. This also lets us demonstrate constructing a `Molecule` from a SMILES string!"
   ]
  },
  {
   "cell_type": "code",
   "execution_count": 3,
   "metadata": {
    "tags": []
   },
   "outputs": [],
   "source": [
    "ligand_smiles = \"CC(C)(C)c1c(O)c(O)c2c(c1O)[C@H]1OCCC[C@H]1[C@H](c1cc(O)c(O)c(F)c1)N2\"\n",
    "ligand = Molecule.from_smiles(ligand_smiles)\n",
    "ligand.generate_conformers(n_conformers=1)\n",
    "force_field = ForceField(\"openff-2.0.0.offxml\")"
   ]
  },
  {
   "cell_type": "markdown",
   "metadata": {},
   "source": [
    "Computing charges is expensive, and we're going to be changing the force field a lot, so we can save time by computing them just once and caching them.\n",
    "\n",
    "\n",
    "<div class=\"alert alert-info\" style=\"max-width: 700px; margin-left: auto; margin-right: auto;\">\n",
    "    ℹ️ Note that when we call <code>create_openmm_system</code> above we pass\n",
    "    in the charges with the <code>charge_from_molecules</code> argument!\n",
    "</div>"
   ]
  },
  {
   "cell_type": "code",
   "execution_count": 4,
   "metadata": {},
   "outputs": [],
   "source": [
    "ligand.partial_charges = force_field.get_partial_charges(ligand)"
   ]
  },
  {
   "cell_type": "markdown",
   "metadata": {},
   "source": [
    "### The ligand, visualised\n",
    "\n",
    "Let's take a close look at the ligand and decide what we want to modify. We'll label the atoms with their indexes so we can identify them later"
   ]
  },
  {
   "cell_type": "code",
   "execution_count": 5,
   "metadata": {},
   "outputs": [
    {
     "data": {
      "application/vnd.jupyter.widget-view+json": {
       "model_id": "28c8d89a98754218aa207a85aa52b68d",
       "version_major": 2,
       "version_minor": 0
      },
      "text/plain": []
     },
     "metadata": {},
     "output_type": "display_data"
    },
    {
     "name": "stdout",
     "output_type": "stream",
     "text": [
      "Initial energy is 270.8 kJ/mol; Minimized energy is 82.3 kJ/mol\n"
     ]
    },
    {
     "data": {
      "application/vnd.jupyter.widget-view+json": {
       "model_id": "cc9a8b5599c34204a90f0fb6170b4a63",
       "version_major": 2,
       "version_minor": 0
      },
      "text/plain": [
       "NGLWidget()"
      ]
     },
     "metadata": {},
     "output_type": "display_data"
    }
   ],
   "source": [
    "view = minimize_and_visualize(ligand, force_field)\n",
    "view.add_label(label_type=\"atomindex\", color=\"black\", attachment=\"middle-center\")\n",
    "view"
   ]
  },
  {
   "cell_type": "markdown",
   "metadata": {},
   "source": [
    "## Getting to know all about you — Investigating assigned parameters\n",
    "\n",
    "Let's start with something simple — lengthening the bond to the fluorine. We can use `ForceField.label_molecules` to identify the appropriate parameters:"
   ]
  },
  {
   "cell_type": "code",
   "execution_count": 6,
   "metadata": {},
   "outputs": [
    {
     "data": {
      "text/plain": [
       "[{'Constraints': <openff.toolkit.topology.topology.ValenceDict at 0x17e4bbee0>,\n",
       "  'Bonds': <openff.toolkit.topology.topology.ValenceDict at 0x17e4bbf70>,\n",
       "  'Angles': <openff.toolkit.topology.topology.ValenceDict at 0x17dbe5760>,\n",
       "  'ProperTorsions': <openff.toolkit.topology.topology.ValenceDict at 0x10f8decd0>,\n",
       "  'ImproperTorsions': <openff.toolkit.topology.topology.ImproperDict at 0x17e4d6eb0>,\n",
       "  'vdW': <openff.toolkit.topology.topology.ValenceDict at 0x17e470be0>,\n",
       "  'Electrostatics': <openff.toolkit.topology.topology.ValenceDict at 0x17dc0b520>,\n",
       "  'LibraryCharges': {},\n",
       "  'ToolkitAM1BCC': <openff.toolkit.topology.topology.ValenceDict at 0x17e4b1d30>}]"
      ]
     },
     "execution_count": 6,
     "metadata": {},
     "output_type": "execute_result"
    }
   ],
   "source": [
    "ff_applied_parameters = force_field.label_molecules(ligand.to_topology())\n",
    "ff_applied_parameters"
   ]
  },
  {
   "cell_type": "markdown",
   "metadata": {},
   "source": [
    "`label_molecules()` returns a list of the molecules that can be parameterized from the arguments. It returns them as dictionaries that give us access to the `ForceField` parameters that are used for the molecule. Since we're only passing in a single molecule, `ff_applied_parameters` is a list of one element. We can see the bonds that are used for the ligand by converting the appropriate `ValenceDict` to a regular dictionary:"
   ]
  },
  {
   "cell_type": "code",
   "execution_count": 7,
   "metadata": {},
   "outputs": [
    {
     "data": {
      "text/plain": [
       "{(0,\n",
       "  1): <BondType with smirks: [#6X4:1]-[#6X4:2]  id: b1  length: 1.52190126495 angstrom  k: 529.2429715351 kilocalorie / angstrom ** 2 / mole  >,\n",
       " (0,\n",
       "  33): <BondType with smirks: [#6X4:1]-[#1:2]  id: b84  length: 1.093899492634 angstrom  k: 740.0934137725 kilocalorie / angstrom ** 2 / mole  >,\n",
       " (0,\n",
       "  34): <BondType with smirks: [#6X4:1]-[#1:2]  id: b84  length: 1.093899492634 angstrom  k: 740.0934137725 kilocalorie / angstrom ** 2 / mole  >,\n",
       " (0,\n",
       "  35): <BondType with smirks: [#6X4:1]-[#1:2]  id: b84  length: 1.093899492634 angstrom  k: 740.0934137725 kilocalorie / angstrom ** 2 / mole  >,\n",
       " (1,\n",
       "  2): <BondType with smirks: [#6X4:1]-[#6X4:2]  id: b1  length: 1.52190126495 angstrom  k: 529.2429715351 kilocalorie / angstrom ** 2 / mole  >,\n",
       " (1,\n",
       "  3): <BondType with smirks: [#6X4:1]-[#6X4:2]  id: b1  length: 1.52190126495 angstrom  k: 529.2429715351 kilocalorie / angstrom ** 2 / mole  >,\n",
       " (1,\n",
       "  4): <BondType with smirks: [#6X4:1]-[#6X3:2]  id: b2  length: 1.498646816465 angstrom  k: 579.4762652679 kilocalorie / angstrom ** 2 / mole  >,\n",
       " (2,\n",
       "  36): <BondType with smirks: [#6X4:1]-[#1:2]  id: b84  length: 1.093899492634 angstrom  k: 740.0934137725 kilocalorie / angstrom ** 2 / mole  >,\n",
       " (2,\n",
       "  37): <BondType with smirks: [#6X4:1]-[#1:2]  id: b84  length: 1.093899492634 angstrom  k: 740.0934137725 kilocalorie / angstrom ** 2 / mole  >,\n",
       " (2,\n",
       "  38): <BondType with smirks: [#6X4:1]-[#1:2]  id: b84  length: 1.093899492634 angstrom  k: 740.0934137725 kilocalorie / angstrom ** 2 / mole  >,\n",
       " (3,\n",
       "  39): <BondType with smirks: [#6X4:1]-[#1:2]  id: b84  length: 1.093899492634 angstrom  k: 740.0934137725 kilocalorie / angstrom ** 2 / mole  >,\n",
       " (3,\n",
       "  40): <BondType with smirks: [#6X4:1]-[#1:2]  id: b84  length: 1.093899492634 angstrom  k: 740.0934137725 kilocalorie / angstrom ** 2 / mole  >,\n",
       " (3,\n",
       "  41): <BondType with smirks: [#6X4:1]-[#1:2]  id: b84  length: 1.093899492634 angstrom  k: 740.0934137725 kilocalorie / angstrom ** 2 / mole  >,\n",
       " (4,\n",
       "  5): <BondType with smirks: [#6X3:1]:[#6X3:2]  id: b5  length: 1.387193227181 angstrom  k: 721.5704889544 kilocalorie / angstrom ** 2 / mole  >,\n",
       " (4,\n",
       "  11): <BondType with smirks: [#6X3:1]:[#6X3:2]  id: b5  length: 1.387193227181 angstrom  k: 721.5704889544 kilocalorie / angstrom ** 2 / mole  >,\n",
       " (5,\n",
       "  6): <BondType with smirks: [#6X3:1]-[#8X2H1:2]  id: b18  length: 1.369745182308 angstrom  k: 771.5209191174 kilocalorie / angstrom ** 2 / mole  >,\n",
       " (5,\n",
       "  7): <BondType with smirks: [#6X3:1]:[#6X3:2]  id: b5  length: 1.387193227181 angstrom  k: 721.5704889544 kilocalorie / angstrom ** 2 / mole  >,\n",
       " (6,\n",
       "  42): <BondType with smirks: [#8:1]-[#1:2]  id: b88  length: 0.9716763312559 angstrom  k: 1087.053566377 kilocalorie / angstrom ** 2 / mole  >,\n",
       " (7,\n",
       "  8): <BondType with smirks: [#6X3:1]-[#8X2H1:2]  id: b18  length: 1.369745182308 angstrom  k: 771.5209191174 kilocalorie / angstrom ** 2 / mole  >,\n",
       " (7,\n",
       "  9): <BondType with smirks: [#6X3:1]:[#6X3:2]  id: b5  length: 1.387193227181 angstrom  k: 721.5704889544 kilocalorie / angstrom ** 2 / mole  >,\n",
       " (8,\n",
       "  43): <BondType with smirks: [#8:1]-[#1:2]  id: b88  length: 0.9716763312559 angstrom  k: 1087.053566377 kilocalorie / angstrom ** 2 / mole  >,\n",
       " (9,\n",
       "  10): <BondType with smirks: [#6X3:1]:[#6X3:2]  id: b5  length: 1.387193227181 angstrom  k: 721.5704889544 kilocalorie / angstrom ** 2 / mole  >,\n",
       " (9,\n",
       "  32): <BondType with smirks: [#6X3:1]-[#7X3:2]  id: b8  length: 1.390160554689 angstrom  k: 780.0710937701 kilocalorie / angstrom ** 2 / mole  >,\n",
       " (10,\n",
       "  11): <BondType with smirks: [#6X3:1]:[#6X3:2]  id: b5  length: 1.387193227181 angstrom  k: 721.5704889544 kilocalorie / angstrom ** 2 / mole  >,\n",
       " (10,\n",
       "  13): <BondType with smirks: [#6X4:1]-[#6X3:2]  id: b2  length: 1.498646816465 angstrom  k: 579.4762652679 kilocalorie / angstrom ** 2 / mole  >,\n",
       " (11,\n",
       "  12): <BondType with smirks: [#6X3:1]-[#8X2H1:2]  id: b18  length: 1.369745182308 angstrom  k: 771.5209191174 kilocalorie / angstrom ** 2 / mole  >,\n",
       " (12,\n",
       "  44): <BondType with smirks: [#8:1]-[#1:2]  id: b88  length: 0.9716763312559 angstrom  k: 1087.053566377 kilocalorie / angstrom ** 2 / mole  >,\n",
       " (13,\n",
       "  14): <BondType with smirks: [#6X4:1]-[#1:2]  id: b84  length: 1.093899492634 angstrom  k: 740.0934137725 kilocalorie / angstrom ** 2 / mole  >,\n",
       " (13,\n",
       "  15): <BondType with smirks: [#6X4:1]-[#8X2H0:2]  id: b16  length: 1.425895053732 angstrom  k: 733.4817683494 kilocalorie / angstrom ** 2 / mole  >,\n",
       " (13,\n",
       "  19): <BondType with smirks: [#6X4:1]-[#6X4:2]  id: b1  length: 1.52190126495 angstrom  k: 529.2429715351 kilocalorie / angstrom ** 2 / mole  >,\n",
       " (15,\n",
       "  16): <BondType with smirks: [#6X4:1]-[#8X2H0:2]  id: b16  length: 1.425895053732 angstrom  k: 733.4817683494 kilocalorie / angstrom ** 2 / mole  >,\n",
       " (16,\n",
       "  17): <BondType with smirks: [#6X4:1]-[#6X4:2]  id: b1  length: 1.52190126495 angstrom  k: 529.2429715351 kilocalorie / angstrom ** 2 / mole  >,\n",
       " (16,\n",
       "  45): <BondType with smirks: [#6X4:1]-[#1:2]  id: b84  length: 1.093899492634 angstrom  k: 740.0934137725 kilocalorie / angstrom ** 2 / mole  >,\n",
       " (16,\n",
       "  46): <BondType with smirks: [#6X4:1]-[#1:2]  id: b84  length: 1.093899492634 angstrom  k: 740.0934137725 kilocalorie / angstrom ** 2 / mole  >,\n",
       " (17,\n",
       "  18): <BondType with smirks: [#6X4:1]-[#6X4:2]  id: b1  length: 1.52190126495 angstrom  k: 529.2429715351 kilocalorie / angstrom ** 2 / mole  >,\n",
       " (17,\n",
       "  47): <BondType with smirks: [#6X4:1]-[#1:2]  id: b84  length: 1.093899492634 angstrom  k: 740.0934137725 kilocalorie / angstrom ** 2 / mole  >,\n",
       " (17,\n",
       "  48): <BondType with smirks: [#6X4:1]-[#1:2]  id: b84  length: 1.093899492634 angstrom  k: 740.0934137725 kilocalorie / angstrom ** 2 / mole  >,\n",
       " (18,\n",
       "  19): <BondType with smirks: [#6X4:1]-[#6X4:2]  id: b1  length: 1.52190126495 angstrom  k: 529.2429715351 kilocalorie / angstrom ** 2 / mole  >,\n",
       " (18,\n",
       "  49): <BondType with smirks: [#6X4:1]-[#1:2]  id: b84  length: 1.093899492634 angstrom  k: 740.0934137725 kilocalorie / angstrom ** 2 / mole  >,\n",
       " (18,\n",
       "  50): <BondType with smirks: [#6X4:1]-[#1:2]  id: b84  length: 1.093899492634 angstrom  k: 740.0934137725 kilocalorie / angstrom ** 2 / mole  >,\n",
       " (19,\n",
       "  20): <BondType with smirks: [#6X4:1]-[#1:2]  id: b84  length: 1.093899492634 angstrom  k: 740.0934137725 kilocalorie / angstrom ** 2 / mole  >,\n",
       " (19,\n",
       "  21): <BondType with smirks: [#6X4:1]-[#6X4:2]  id: b1  length: 1.52190126495 angstrom  k: 529.2429715351 kilocalorie / angstrom ** 2 / mole  >,\n",
       " (21,\n",
       "  22): <BondType with smirks: [#6X4:1]-[#1:2]  id: b84  length: 1.093899492634 angstrom  k: 740.0934137725 kilocalorie / angstrom ** 2 / mole  >,\n",
       " (21,\n",
       "  23): <BondType with smirks: [#6X4:1]-[#6X3:2]  id: b2  length: 1.498646816465 angstrom  k: 579.4762652679 kilocalorie / angstrom ** 2 / mole  >,\n",
       " (21,\n",
       "  32): <BondType with smirks: [#6:1]-[#7:2]  id: b7  length: 1.464762957261 angstrom  k: 732.6809445917 kilocalorie / angstrom ** 2 / mole  >,\n",
       " (23,\n",
       "  24): <BondType with smirks: [#6X3:1]:[#6X3:2]  id: b5  length: 1.387193227181 angstrom  k: 721.5704889544 kilocalorie / angstrom ** 2 / mole  >,\n",
       " (23,\n",
       "  31): <BondType with smirks: [#6X3:1]:[#6X3:2]  id: b5  length: 1.387193227181 angstrom  k: 721.5704889544 kilocalorie / angstrom ** 2 / mole  >,\n",
       " (24,\n",
       "  25): <BondType with smirks: [#6X3:1]:[#6X3:2]  id: b5  length: 1.387193227181 angstrom  k: 721.5704889544 kilocalorie / angstrom ** 2 / mole  >,\n",
       " (24,\n",
       "  51): <BondType with smirks: [#6X3:1]-[#1:2]  id: b85  length: 1.085358495916 angstrom  k: 794.5091579238 kilocalorie / angstrom ** 2 / mole  >,\n",
       " (25,\n",
       "  26): <BondType with smirks: [#6X3:1]-[#8X2H1:2]  id: b18  length: 1.369745182308 angstrom  k: 771.5209191174 kilocalorie / angstrom ** 2 / mole  >,\n",
       " (25,\n",
       "  27): <BondType with smirks: [#6X3:1]:[#6X3:2]  id: b5  length: 1.387193227181 angstrom  k: 721.5704889544 kilocalorie / angstrom ** 2 / mole  >,\n",
       " (26,\n",
       "  52): <BondType with smirks: [#8:1]-[#1:2]  id: b88  length: 0.9716763312559 angstrom  k: 1087.053566377 kilocalorie / angstrom ** 2 / mole  >,\n",
       " (27,\n",
       "  28): <BondType with smirks: [#6X3:1]-[#8X2H1:2]  id: b18  length: 1.369745182308 angstrom  k: 771.5209191174 kilocalorie / angstrom ** 2 / mole  >,\n",
       " (27,\n",
       "  29): <BondType with smirks: [#6X3:1]:[#6X3:2]  id: b5  length: 1.387193227181 angstrom  k: 721.5704889544 kilocalorie / angstrom ** 2 / mole  >,\n",
       " (28,\n",
       "  53): <BondType with smirks: [#8:1]-[#1:2]  id: b88  length: 0.9716763312559 angstrom  k: 1087.053566377 kilocalorie / angstrom ** 2 / mole  >,\n",
       " (29,\n",
       "  30): <BondType with smirks: [#6:1]-[#9:2]  id: b68  length: 1.352926211207 angstrom  k: 808.7710029616 kilocalorie / angstrom ** 2 / mole  >,\n",
       " (29,\n",
       "  31): <BondType with smirks: [#6X3:1]:[#6X3:2]  id: b5  length: 1.387193227181 angstrom  k: 721.5704889544 kilocalorie / angstrom ** 2 / mole  >,\n",
       " (31,\n",
       "  54): <BondType with smirks: [#6X3:1]-[#1:2]  id: b85  length: 1.085358495916 angstrom  k: 794.5091579238 kilocalorie / angstrom ** 2 / mole  >,\n",
       " (32,\n",
       "  55): <BondType with smirks: [#7:1]-[#1:2]  id: b87  length: 1.019481865027 angstrom  k: 1010.288992386 kilocalorie / angstrom ** 2 / mole  >}"
      ]
     },
     "execution_count": 7,
     "metadata": {},
     "output_type": "execute_result"
    }
   ],
   "source": [
    "dict(ff_applied_parameters[0][\"Bonds\"])"
   ]
  },
  {
   "cell_type": "markdown",
   "metadata": {},
   "source": [
    "Take a look at the first entry as an example. The dictionary is keyed by the atomic indices of the particles in the molecule that the parameter applies to, and the values are special types that specify the parameters from the force field. We'll look in more detail at one of these parameters in a second."
   ]
  },
  {
   "cell_type": "markdown",
   "metadata": {},
   "source": [
    "## A little goes a long way — Changing parameters"
   ]
  },
  {
   "cell_type": "markdown",
   "metadata": {},
   "source": [
    "We already decided we wanted to adjust the torsion parameter to the hydroxyl group, so let's do that. We know parameters are indexed by the atoms they've been applied to, so we can look at our labelled widget above and pull out exactly the parameter we care about:"
   ]
  },
  {
   "cell_type": "code",
   "execution_count": 8,
   "metadata": {},
   "outputs": [
    {
     "name": "stdout",
     "output_type": "stream",
     "text": [
      "The fluorine-carbon bond is between atoms (30, 29)\n"
     ]
    },
    {
     "data": {
      "text/plain": [
       "<BondType with smirks: [#6:1]-[#9:2]  id: b68  length: 1.352926211207 angstrom  k: 808.7710029616 kilocalorie / angstrom ** 2 / mole  >"
      ]
     },
     "execution_count": 8,
     "metadata": {},
     "output_type": "execute_result"
    }
   ],
   "source": [
    "fluorine = [atom for atom in ligand.atoms if atom.symbol == \"F\"][0]\n",
    "carbon = [neighbor_atom for neighbor_atom in fluorine.bonded_atoms][0]\n",
    "fluorine_carbon_bond_indices = (\n",
    "    fluorine.molecule_atom_index,\n",
    "    carbon.molecule_atom_index,\n",
    ")\n",
    "print(\"The fluorine-carbon bond is between atoms\", fluorine_carbon_bond_indices)\n",
    "\n",
    "ff_applied_parameters[0][\"Bonds\"][fluorine_carbon_bond_indices]"
   ]
  },
  {
   "cell_type": "markdown",
   "metadata": {},
   "source": [
    "<div class=\"alert alert-success\" style=\"max-width: 700px; margin-left: auto; margin-right: auto;\">\n",
    "    📗 We have to get the indices of these atoms out programmatically because our SMILES code doesn't specify atom indices, and so you might have different indices to us. Take a look at the widget above and try manually specifying atom indices to get the parameters of a bond! \n",
    "</div>"
   ]
  },
  {
   "cell_type": "markdown",
   "metadata": {},
   "source": [
    "Let's dig into this type a bit more. It has a few attributes in its textual representation. The first of these is maybe the most important: the `smirks` attribute, which tells the Toolkit which atoms this parameter applies to. SMIRKS is a chemical pattern matching format; think of it as the result of a [regular expression](https://en.wikipedia.org/wiki/Regular_expression) having a baby with a [SMILES string](https://en.wikipedia.org/wiki/Simplified_molecular-input_line-entry_system). This one is very simple: it is just a Carbon atom (`[#6:1]`, atomic number 6) singly bonded (`-`) to a Fluorine atom (`[#9:2]`, atomic number 9). The numbers after the colons just label the atoms — this is a bond, so it has two atoms labelled. This is helpful for when we want to match against atoms that aren't a part of the parameter; we just don't label the additional atoms. We'll use this trick later.\n",
    "\n",
    "The other important attributes provide the actual parameterization, and so are different for different kinds of parameters. For proper torsions, this is the periodicity of the sinewave that describes the torsion, as well as its phase and amplitude (or force constant, $k$). These parameter values are similar to the equivalent description in most other force field formats.\n",
    "\n",
    "\n",
    "<div class=\"alert alert-info\" style=\"max-width: 700px; margin-left: auto; margin-right: auto;\">\n",
    "    <p> ℹ️ The SMIRKS specification is available online:</p>\n",
    "    <p style=\"margin-left:3em;\">\n",
    "        <a href=https://www.daylight.com/dayhtml/doc/theory/theory.smirks.html>\n",
    "            https://www.daylight.com/dayhtml/doc/theory/theory.smirks.html\n",
    "        </a>\n",
    "    </p>\n",
    "    <p style=\"margin-left:1.5em;\">\n",
    "        It is closely related to the SMARTS molecular pattern matching language, \n",
    "        whose specification is probably more useful for working with the Toolkit\n",
    "        and is also available online:\n",
    "    </p>\n",
    "    <p style=\"margin-left:3em;\">\n",
    "        <a href = https://www.daylight.com/dayhtml/doc/theory/theory.smarts.html>\n",
    "            https://www.daylight.com/dayhtml/doc/theory/theory.smarts.html\n",
    "        </a>\n",
    "    </p>\n",
    "</div>\n",
    "\n",
    "\n",
    "### Modifying a parameter\n",
    "\n",
    "Unfortunately we can't just modify this parameter and see the results reflected in the parameterization. We need to get the appropriate parameter from the force field and modify it there."
   ]
  },
  {
   "cell_type": "code",
   "execution_count": 9,
   "metadata": {},
   "outputs": [],
   "source": [
    "fluorine_bond = force_field[\"Bonds\"].parameters[\"[#6:1]-[#9:2]\"]\n",
    "fluorine_bond.length = 10 * unit.angstrom"
   ]
  },
  {
   "cell_type": "markdown",
   "metadata": {},
   "source": [
    "Here, we've selected the proper torsion with the SMIRKS code we found earlier, and changed its force constant by an order of magnitude in the opposite direction! Let's see what we've wrought:"
   ]
  },
  {
   "cell_type": "code",
   "execution_count": 10,
   "metadata": {},
   "outputs": [
    {
     "name": "stdout",
     "output_type": "stream",
     "text": [
      "Initial energy is 127153.9 kJ/mol; Minimized energy is 99.8 kJ/mol\n"
     ]
    },
    {
     "data": {
      "application/vnd.jupyter.widget-view+json": {
       "model_id": "c0595ef974c44436a56947107ed4715d",
       "version_major": 2,
       "version_minor": 0
      },
      "text/plain": [
       "NGLWidget()"
      ]
     },
     "metadata": {},
     "output_type": "display_data"
    }
   ],
   "source": [
    "minimize_and_visualize(ligand, force_field)"
   ]
  },
  {
   "cell_type": "markdown",
   "metadata": {},
   "source": [
    "Turns out Pinocchio was a real molecule all along!\n",
    "\n",
    "### Parameters affecting multiple atom groups\n",
    "\n",
    "Ok, that was fun, but it's only one parameter; we could easily have made this change in the OpenMM `System` or a GROMACS ITP file or whatever. What's the toolkit really giving us here?\n",
    "\n",
    "Let's mess with all the H-X-H angles. And let's not get into SMIRKS this time, lets let the toolkit do the thinking:"
   ]
  },
  {
   "cell_type": "code",
   "execution_count": 11,
   "metadata": {},
   "outputs": [
    {
     "name": "stdout",
     "output_type": "stream",
     "text": [
      "(33, 0, 34) <AngleType with smirks: [#1:1]-[#6X4:2]-[#1:3]  angle: 115.6030999533 degree  k: 97.55298529519 kilocalorie / mole / radian ** 2  id: a2  >\n",
      "(33, 0, 35) <AngleType with smirks: [#1:1]-[#6X4:2]-[#1:3]  angle: 115.6030999533 degree  k: 97.55298529519 kilocalorie / mole / radian ** 2  id: a2  >\n",
      "(34, 0, 35) <AngleType with smirks: [#1:1]-[#6X4:2]-[#1:3]  angle: 115.6030999533 degree  k: 97.55298529519 kilocalorie / mole / radian ** 2  id: a2  >\n",
      "(36, 2, 37) <AngleType with smirks: [#1:1]-[#6X4:2]-[#1:3]  angle: 115.6030999533 degree  k: 97.55298529519 kilocalorie / mole / radian ** 2  id: a2  >\n",
      "(36, 2, 38) <AngleType with smirks: [#1:1]-[#6X4:2]-[#1:3]  angle: 115.6030999533 degree  k: 97.55298529519 kilocalorie / mole / radian ** 2  id: a2  >\n",
      "(37, 2, 38) <AngleType with smirks: [#1:1]-[#6X4:2]-[#1:3]  angle: 115.6030999533 degree  k: 97.55298529519 kilocalorie / mole / radian ** 2  id: a2  >\n",
      "(39, 3, 40) <AngleType with smirks: [#1:1]-[#6X4:2]-[#1:3]  angle: 115.6030999533 degree  k: 97.55298529519 kilocalorie / mole / radian ** 2  id: a2  >\n",
      "(39, 3, 41) <AngleType with smirks: [#1:1]-[#6X4:2]-[#1:3]  angle: 115.6030999533 degree  k: 97.55298529519 kilocalorie / mole / radian ** 2  id: a2  >\n",
      "(40, 3, 41) <AngleType with smirks: [#1:1]-[#6X4:2]-[#1:3]  angle: 115.6030999533 degree  k: 97.55298529519 kilocalorie / mole / radian ** 2  id: a2  >\n",
      "(45, 16, 46) <AngleType with smirks: [#1:1]-[#6X4:2]-[#1:3]  angle: 115.6030999533 degree  k: 97.55298529519 kilocalorie / mole / radian ** 2  id: a2  >\n",
      "(47, 17, 48) <AngleType with smirks: [#1:1]-[#6X4:2]-[#1:3]  angle: 115.6030999533 degree  k: 97.55298529519 kilocalorie / mole / radian ** 2  id: a2  >\n",
      "(49, 18, 50) <AngleType with smirks: [#1:1]-[#6X4:2]-[#1:3]  angle: 115.6030999533 degree  k: 97.55298529519 kilocalorie / mole / radian ** 2  id: a2  >\n"
     ]
    }
   ],
   "source": [
    "ff_applied_parameters = force_field.label_molecules(ligand.to_topology())\n",
    "for atoms, parameter in ff_applied_parameters[0][\"Angles\"].items():\n",
    "    ele_1 = ligand.atoms[atoms[0]].symbol\n",
    "    ele_2 = ligand.atoms[atoms[1]].symbol\n",
    "    ele_3 = ligand.atoms[atoms[2]].symbol\n",
    "    if ele_1 == \"H\" and ele_3 == \"H\":\n",
    "        print(atoms, parameter)"
   ]
  },
  {
   "cell_type": "markdown",
   "metadata": {},
   "source": [
    "Wow, there's just one `smirks` parameter describing all of the H-X-H angles!\n",
    "\n",
    "<div class=\"alert alert-info\" style=\"max-width: 700px; margin-left: auto; margin-right: auto;\">\n",
    "    ℹ️ It's worth mentioning here that a force field might include multiple parameters with SMIRKS that match a particular group of atoms. When this happens, only the last parameter specified is applied. This allows force field authors to define general parameters first, and then override them with more specific parameters.\n",
    "</div>\n",
    "\n",
    "<div class=\"alert alert-success\" style=\"max-width: 700px; margin-left: auto; margin-right: auto;\">\n",
    "    📗 Convince yourself that this SMIRKS code matches all of the H-X-H angles in our molecule. What H-X-H angles would it not match?\n",
    "</div>\n"
   ]
  },
  {
   "cell_type": "code",
   "execution_count": 12,
   "metadata": {},
   "outputs": [
    {
     "name": "stdout",
     "output_type": "stream",
     "text": [
      "Initial energy is 129550.3 kJ/mol; Minimized energy is 113.7 kJ/mol\n"
     ]
    },
    {
     "data": {
      "application/vnd.jupyter.widget-view+json": {
       "model_id": "d606f2cd091a4210ad67031356301ed7",
       "version_major": 2,
       "version_minor": 0
      },
      "text/plain": [
       "NGLWidget()"
      ]
     },
     "metadata": {},
     "output_type": "display_data"
    }
   ],
   "source": [
    "hxh_angle = force_field[\"Angles\"].parameters[\"[#1:1]-[#6X4:2]-[#1:3]\"]\n",
    "hxh_angle.angle = 50 * unit.degree\n",
    "\n",
    "minimize_and_visualize(ligand, force_field)"
   ]
  },
  {
   "cell_type": "markdown",
   "metadata": {},
   "source": [
    "That is not how a methyl group is supposed to look. Guess we did it right!"
   ]
  },
  {
   "cell_type": "markdown",
   "metadata": {},
   "source": [
    "## Introducing a new parameter\n",
    "\n",
    "Now let's get really crazy. I've always thought heteroatoms in rings looked a bit too comfortable, haven't you?\n",
    "\n",
    "Since we have two cyclic heteroatoms in our molecule with very different chemistries, there'll probably be two seperate parameters we need to modify. We can just pass the SMIRKS that come up for C-X-C angles to code that modifies the parameters directly, no need to manually copy it over. "
   ]
  },
  {
   "cell_type": "code",
   "execution_count": 13,
   "metadata": {},
   "outputs": [
    {
     "name": "stdout",
     "output_type": "stream",
     "text": [
      "(9, 32, 21) <AngleType with smirks: [*:1]~[#7X3$(*~[#6X3,#6X2,#7X2+0]):2]~[*:3]  angle: 117.3465570514 degree  k: 110.8436430155 kilocalorie / mole / radian ** 2  id: a20  >\n",
      "(13, 15, 16) <AngleType with smirks: [*:1]-[#8:2]-[*:3]  angle: 110.3538806181 degree  k: 130.181232192 kilocalorie / mole / radian ** 2  id: a28  >\n",
      "Initial energy is 132119.8 kJ/mol; Minimized energy is 400.5 kJ/mol\n"
     ]
    },
    {
     "data": {
      "application/vnd.jupyter.widget-view+json": {
       "model_id": "d2c9a1f9f8864f86ada23b470c0105a1",
       "version_major": 2,
       "version_minor": 0
      },
      "text/plain": [
       "NGLWidget()"
      ]
     },
     "metadata": {},
     "output_type": "display_data"
    }
   ],
   "source": [
    "ff_applied_parameters = force_field.label_molecules(ligand.to_topology())\n",
    "for atoms, parameter in ff_applied_parameters[0][\"Angles\"].items():\n",
    "    ele_1 = ligand.atoms[atoms[0]].symbol\n",
    "    ele_2 = ligand.atoms[atoms[1]].symbol\n",
    "    ele_3 = ligand.atoms[atoms[2]].symbol\n",
    "    if (ele_2 not in [\"C\", \"H\"]) and ele_1 == \"C\" and ele_3 == \"C\":\n",
    "        print(atoms, parameter)\n",
    "\n",
    "        smirks = parameter.smirks\n",
    "        heteroatom_angle = force_field[\"Angles\"].parameters[smirks]\n",
    "        # dihedral angles are undefined when linear, so let's not set to 180\n",
    "        heteroatom_angle.angle = 179 * unit.degree\n",
    "\n",
    "        # We'll need this later\n",
    "        if ele_2 == \"N\":\n",
    "            cyclic_nitrogen_smirks = smirks\n",
    "\n",
    "minimize_and_visualize(ligand, force_field)"
   ]
  },
  {
   "cell_type": "markdown",
   "metadata": {},
   "source": [
    "Oops! We didn't mean to make all the hydroxyl groups linear! One of our parameters must be applied to Oxygen both when its in a ring and in a hydroxyl group. Sure enough, the second SMIRKS code printed above (`[*:1]-[#8:2]-[*:3]`) matches any X-O-X angle! We'll have to define a new, more specific SMIRKS entry so we only capture the appropriate oxygen."
   ]
  },
  {
   "cell_type": "markdown",
   "metadata": {},
   "source": [
    "### The SMIRKS for our new parameter\n",
    "\n",
    "Our modified force field is getting a bit messy, so let's start again. We still want the nitrogen angle from before, so lets save that too"
   ]
  },
  {
   "cell_type": "code",
   "execution_count": 14,
   "metadata": {},
   "outputs": [],
   "source": [
    "force_field = ForceField(\"openff-2.0.0.offxml\")\n",
    "cyclic_nitrogen_angle = force_field[\"Angles\"].parameters[cyclic_nitrogen_smirks]\n",
    "cyclic_nitrogen_angle.angle = 179 * unit.degree"
   ]
  },
  {
   "cell_type": "markdown",
   "metadata": {},
   "source": [
    "Now we need to define a new SMIRKS entry, specific to oxygens in a ring. We can be as specific as we like, as our new parameter will be at the end of the force field and so will override any conflicting parameters. Let's define our smirks to match any singly-bonded C-O-C angle in a six-membered pyran ring.\n",
    "\n",
    "First, we'll write down the SMILES for a pyran:\n",
    "\n",
    "`C1CCOCC1`\n",
    "\n",
    "The first carbon has a digit following it, `C1`, which allows us to close the ring later. Then we have two more carbons, `CC`, an oxygen, `O`, and the final two carbons, `CC`. Finally, we close the ring by repeating the same digit from before, `1`. Lets check that this produces the chemical we expect before we move on:"
   ]
  },
  {
   "cell_type": "code",
   "execution_count": 15,
   "metadata": {},
   "outputs": [
    {
     "data": {
      "image/svg+xml": [
       "<svg xmlns=\"http://www.w3.org/2000/svg\" xmlns:rdkit=\"http://www.rdkit.org/xml\" xmlns:xlink=\"http://www.w3.org/1999/xlink\" version=\"1.1\" baseProfile=\"full\" xml:space=\"preserve\" width=\"500px\" height=\"300px\" viewBox=\"0 0 500 300\">\n",
       "<!-- END OF HEADER -->\n",
       "<rect style=\"opacity:1.0;fill:#FFFFFF;stroke:none\" width=\"500.0\" height=\"300.0\" x=\"0.0\" y=\"0.0\"> </rect>\n",
       "<path class=\"bond-0 atom-0 atom-5\" d=\"M 308.9,182.2 L 249.5,216.5\" style=\"fill:none;fill-rule:evenodd;stroke:#000000;stroke-width:2.0px;stroke-linecap:butt;stroke-linejoin:miter;stroke-opacity:1\"/>\n",
       "<path class=\"bond-1 atom-0 atom-1\" d=\"M 308.9,182.2 L 309.0,113.6\" style=\"fill:none;fill-rule:evenodd;stroke:#000000;stroke-width:2.0px;stroke-linecap:butt;stroke-linejoin:miter;stroke-opacity:1\"/>\n",
       "<path class=\"bond-2 atom-1 atom-2\" d=\"M 309.0,113.6 L 249.5,79.4\" style=\"fill:none;fill-rule:evenodd;stroke:#000000;stroke-width:2.0px;stroke-linecap:butt;stroke-linejoin:miter;stroke-opacity:1\"/>\n",
       "<path class=\"bond-3 atom-2 atom-3\" d=\"M 249.5,79.4 L 227.4,92.1\" style=\"fill:none;fill-rule:evenodd;stroke:#000000;stroke-width:2.0px;stroke-linecap:butt;stroke-linejoin:miter;stroke-opacity:1\"/>\n",
       "<path class=\"bond-3 atom-2 atom-3\" d=\"M 227.4,92.1 L 205.4,104.7\" style=\"fill:none;fill-rule:evenodd;stroke:#FF0000;stroke-width:2.0px;stroke-linecap:butt;stroke-linejoin:miter;stroke-opacity:1\"/>\n",
       "<path class=\"bond-4 atom-3 atom-4\" d=\"M 190.2,130.4 L 190.3,156.2\" style=\"fill:none;fill-rule:evenodd;stroke:#FF0000;stroke-width:2.0px;stroke-linecap:butt;stroke-linejoin:miter;stroke-opacity:1\"/>\n",
       "<path class=\"bond-4 atom-3 atom-4\" d=\"M 190.3,156.2 L 190.3,181.9\" style=\"fill:none;fill-rule:evenodd;stroke:#000000;stroke-width:2.0px;stroke-linecap:butt;stroke-linejoin:miter;stroke-opacity:1\"/>\n",
       "<path class=\"bond-5 atom-4 atom-5\" d=\"M 190.3,181.9 L 249.5,216.5\" style=\"fill:none;fill-rule:evenodd;stroke:#000000;stroke-width:2.0px;stroke-linecap:butt;stroke-linejoin:miter;stroke-opacity:1\"/>\n",
       "<path class=\"bond-6 atom-0 atom-6\" d=\"M 308.9,182.2 L 328.9,228.1\" style=\"fill:none;fill-rule:evenodd;stroke:#000000;stroke-width:2.0px;stroke-linecap:butt;stroke-linejoin:miter;stroke-opacity:1\"/>\n",
       "<path class=\"bond-7 atom-0 atom-7\" d=\"M 308.9,182.2 L 363.6,174.2\" style=\"fill:none;fill-rule:evenodd;stroke:#000000;stroke-width:2.0px;stroke-linecap:butt;stroke-linejoin:miter;stroke-opacity:1\"/>\n",
       "<path class=\"bond-8 atom-1 atom-8\" d=\"M 309.0,113.6 L 350.7,117.6\" style=\"fill:none;fill-rule:evenodd;stroke:#000000;stroke-width:2.0px;stroke-linecap:butt;stroke-linejoin:miter;stroke-opacity:1\"/>\n",
       "<path class=\"bond-9 atom-1 atom-9\" d=\"M 309.0,113.6 L 327.6,66.2\" style=\"fill:none;fill-rule:evenodd;stroke:#000000;stroke-width:2.0px;stroke-linecap:butt;stroke-linejoin:miter;stroke-opacity:1\"/>\n",
       "<path class=\"bond-10 atom-2 atom-10\" d=\"M 249.5,79.4 L 269.9,50.3\" style=\"fill:none;fill-rule:evenodd;stroke:#000000;stroke-width:2.0px;stroke-linecap:butt;stroke-linejoin:miter;stroke-opacity:1\"/>\n",
       "<path class=\"bond-11 atom-2 atom-11\" d=\"M 249.5,79.4 L 217.1,43.1\" style=\"fill:none;fill-rule:evenodd;stroke:#000000;stroke-width:2.0px;stroke-linecap:butt;stroke-linejoin:miter;stroke-opacity:1\"/>\n",
       "<path class=\"bond-12 atom-4 atom-12\" d=\"M 190.3,181.9 L 136.4,170.1\" style=\"fill:none;fill-rule:evenodd;stroke:#000000;stroke-width:2.0px;stroke-linecap:butt;stroke-linejoin:miter;stroke-opacity:1\"/>\n",
       "<path class=\"bond-13 atom-4 atom-13\" d=\"M 190.3,181.9 L 175.1,213.7\" style=\"fill:none;fill-rule:evenodd;stroke:#000000;stroke-width:2.0px;stroke-linecap:butt;stroke-linejoin:miter;stroke-opacity:1\"/>\n",
       "<path class=\"bond-14 atom-5 atom-14\" d=\"M 249.5,216.5 L 219.1,253.3\" style=\"fill:none;fill-rule:evenodd;stroke:#000000;stroke-width:2.0px;stroke-linecap:butt;stroke-linejoin:miter;stroke-opacity:1\"/>\n",
       "<path class=\"bond-15 atom-5 atom-15\" d=\"M 249.5,216.5 L 276.9,255.5\" style=\"fill:none;fill-rule:evenodd;stroke:#000000;stroke-width:2.0px;stroke-linecap:butt;stroke-linejoin:miter;stroke-opacity:1\"/>\n",
       "<path class=\"atom-3\" d=\"M 177.2 113.6 Q 177.2 106.8, 180.6 103.0 Q 184.0 99.2, 190.2 99.2 Q 196.5 99.2, 199.9 103.0 Q 203.2 106.8, 203.2 113.6 Q 203.2 120.4, 199.8 124.4 Q 196.4 128.2, 190.2 128.2 Q 184.0 128.2, 180.6 124.4 Q 177.2 120.5, 177.2 113.6 M 190.2 125.0 Q 194.6 125.0, 196.9 122.2 Q 199.2 119.2, 199.2 113.6 Q 199.2 108.0, 196.9 105.2 Q 194.6 102.4, 190.2 102.4 Q 185.9 102.4, 183.6 105.2 Q 181.2 108.0, 181.2 113.6 Q 181.2 119.3, 183.6 122.2 Q 185.9 125.0, 190.2 125.0 \" fill=\"#FF0000\"/>\n",
       "<path class=\"atom-6\" d=\"M 324.9 230.2 L 328.8 230.2 L 328.8 242.3 L 343.3 242.3 L 343.3 230.2 L 347.1 230.2 L 347.1 258.6 L 343.3 258.6 L 343.3 245.5 L 328.8 245.5 L 328.8 258.6 L 324.9 258.6 L 324.9 230.2 \" fill=\"#000000\"/>\n",
       "<path class=\"atom-7\" d=\"M 365.7 158.1 L 369.6 158.1 L 369.6 170.2 L 384.1 170.2 L 384.1 158.1 L 387.9 158.1 L 387.9 186.4 L 384.1 186.4 L 384.1 173.4 L 369.6 173.4 L 369.6 186.4 L 365.7 186.4 L 365.7 158.1 \" fill=\"#000000\"/>\n",
       "<path class=\"atom-8\" d=\"M 352.8 104.8 L 356.7 104.8 L 356.7 116.8 L 371.2 116.8 L 371.2 104.8 L 375.0 104.8 L 375.0 133.1 L 371.2 133.1 L 371.2 120.0 L 356.7 120.0 L 356.7 133.1 L 352.8 133.1 L 352.8 104.8 \" fill=\"#000000\"/>\n",
       "<path class=\"atom-9\" d=\"M 323.0 35.7 L 326.8 35.7 L 326.8 47.7 L 341.3 47.7 L 341.3 35.7 L 345.2 35.7 L 345.2 64.0 L 341.3 64.0 L 341.3 50.9 L 326.8 50.9 L 326.8 64.0 L 323.0 64.0 L 323.0 35.7 \" fill=\"#000000\"/>\n",
       "<path class=\"atom-10\" d=\"M 270.3 19.8 L 274.2 19.8 L 274.2 31.8 L 288.6 31.8 L 288.6 19.8 L 292.5 19.8 L 292.5 48.1 L 288.6 48.1 L 288.6 35.0 L 274.2 35.0 L 274.2 48.1 L 270.3 48.1 L 270.3 19.8 \" fill=\"#000000\"/>\n",
       "<path class=\"atom-11\" d=\"M 192.7 14.0 L 196.6 14.0 L 196.6 26.1 L 211.0 26.1 L 211.0 14.0 L 214.9 14.0 L 214.9 42.4 L 211.0 42.4 L 211.0 29.3 L 196.6 29.3 L 196.6 42.4 L 192.7 42.4 L 192.7 14.0 \" fill=\"#000000\"/>\n",
       "<path class=\"atom-12\" d=\"M 112.1 153.1 L 115.9 153.1 L 115.9 165.1 L 130.4 165.1 L 130.4 153.1 L 134.3 153.1 L 134.3 181.4 L 130.4 181.4 L 130.4 168.3 L 115.9 168.3 L 115.9 181.4 L 112.1 181.4 L 112.1 153.1 \" fill=\"#000000\"/>\n",
       "<path class=\"atom-13\" d=\"M 156.2 215.8 L 160.0 215.8 L 160.0 227.9 L 174.5 227.9 L 174.5 215.8 L 178.3 215.8 L 178.3 244.2 L 174.5 244.2 L 174.5 231.1 L 160.0 231.1 L 160.0 244.2 L 156.2 244.2 L 156.2 215.8 \" fill=\"#000000\"/>\n",
       "<path class=\"atom-14\" d=\"M 194.8 255.2 L 198.6 255.2 L 198.6 267.2 L 213.1 267.2 L 213.1 255.2 L 216.9 255.2 L 216.9 283.5 L 213.1 283.5 L 213.1 270.4 L 198.6 270.4 L 198.6 283.5 L 194.8 283.5 L 194.8 255.2 \" fill=\"#000000\"/>\n",
       "<path class=\"atom-15\" d=\"M 277.3 257.6 L 281.1 257.6 L 281.1 269.7 L 295.6 269.7 L 295.6 257.6 L 299.4 257.6 L 299.4 286.0 L 295.6 286.0 L 295.6 272.9 L 281.1 272.9 L 281.1 286.0 L 277.3 286.0 L 277.3 257.6 \" fill=\"#000000\"/>\n",
       "</svg>"
      ],
      "text/plain": [
       "<IPython.core.display.SVG object>"
      ]
     },
     "execution_count": 15,
     "metadata": {},
     "output_type": "execute_result"
    }
   ],
   "source": [
    "Molecule.from_smiles(\"C1CCOCC1\").visualize()"
   ]
  },
  {
   "cell_type": "markdown",
   "metadata": {},
   "source": [
    "Perfect. We can ignore the hydrogens, as we haven't specified any bond orders - our smirks will match the saturated structure or any of its derivatives that maintain the ring. Now all we have to do is label the atoms we want to extract the bond from! This way, all the atoms must be present for the SMIRKS to match, but only these three atoms define the angle for the parameter. This lets us be more specific than we could be if we could only describe the atoms in the angle itself. We do that the same way we did before, put them in square brackets and append a colon and a number:"
   ]
  },
  {
   "cell_type": "code",
   "execution_count": 16,
   "metadata": {},
   "outputs": [],
   "source": [
    "cyclic_oxygen_smirks = \"C1C[C:1]-[O:2]-[C:3]C1\""
   ]
  },
  {
   "cell_type": "markdown",
   "metadata": {},
   "source": [
    "\n",
    "<div class=\"alert alert-success\" style=\"max-width: 700px; margin-left: auto; margin-right: auto;\">\n",
    "    📗 Try replacing this SMIRKS code with one of your own. Hint: For this force field and ligand, there's a much simpler code that will uniquely specify the C-O-C bond!\n",
    "</div>\n"
   ]
  },
  {
   "cell_type": "markdown",
   "metadata": {},
   "source": [
    "### Defining and registering the new parameter\n",
    "\n",
    "Now, all that's left is to define the angle parameter, add it to the force field, and see what we've wrought!"
   ]
  },
  {
   "cell_type": "code",
   "execution_count": 17,
   "metadata": {
    "scrolled": true
   },
   "outputs": [
    {
     "name": "stdout",
     "output_type": "stream",
     "text": [
      "Initial energy is 883.2 kJ/mol; Minimized energy is 300.5 kJ/mol\n"
     ]
    },
    {
     "data": {
      "application/vnd.jupyter.widget-view+json": {
       "model_id": "90c1351993a643af9ce00af518e9a9c5",
       "version_major": 2,
       "version_minor": 0
      },
      "text/plain": [
       "NGLWidget()"
      ]
     },
     "metadata": {},
     "output_type": "display_data"
    }
   ],
   "source": [
    "# Define the new angle parameter\n",
    "angle_parameter = offtk_parameters.AngleHandler.AngleType(\n",
    "    smirks=cyclic_oxygen_smirks,\n",
    "    angle=179 * unit.degree,\n",
    "    k=134.5019777341 * unit.kilocalorie / (unit.mole * unit.radians**2),\n",
    ")\n",
    "\n",
    "# Add the parameter to the force field\n",
    "angles_handler = force_field[\"Angles\"]\n",
    "angles_handler.add_parameter(parameter=angle_parameter)\n",
    "\n",
    "# Visualize the newly parameterized molecule\n",
    "minimize_and_visualize(ligand, force_field)"
   ]
  },
  {
   "cell_type": "markdown",
   "metadata": {},
   "source": [
    "Perfect! The two cyclic heteroatoms are nearly linear while the hydroxyl group retains its characteristic angle."
   ]
  },
  {
   "cell_type": "markdown",
   "metadata": {},
   "source": [
    "### Bonus: Adding a cosmetic attribute to the new parameter\n",
    "\n",
    "In some cases, you might want to tag a particular attribute with extra data. This might be useful, for example, in communicating to a fitting tool which parameters should be fitted, or simply to add extra metadata.. The toolkit allows for _cosmetic attributes_, which can be stored to individual parameters, will be included out when the `ForceField` object is written to disk, but will not otherwise affect the parameterization machinery. The API point for this is [`ParameterType.add_cosmetic_attribute`](https://docs.openforcefield.org/projects/toolkit/en/stable/api/generated/openff.toolkit.typing.engines.smirnoff.ParameterType.html#openff.toolkit.typing.engines.smirnoff.ParameterType.add_cosmetic_attribute).\n",
    "\n",
    "Let's use this to tag our modified and new parameters with a note about why we introduced it."
   ]
  },
  {
   "cell_type": "code",
   "execution_count": 18,
   "metadata": {},
   "outputs": [],
   "source": [
    "angles_handler.parameters[cyclic_nitrogen_smirks].add_cosmetic_attribute(\n",
    "    attr_name=\"note\",\n",
    "    attr_value=\"funky pseudo-linear cyclic nitrogen\",\n",
    ")\n",
    "\n",
    "angles_handler.parameters[cyclic_oxygen_smirks].add_cosmetic_attribute(\n",
    "    attr_name=\"note\",\n",
    "    attr_value=\"funky pseudo-linear cyclic oxygen\",\n",
    ")"
   ]
  },
  {
   "cell_type": "markdown",
   "metadata": {},
   "source": [
    "We we look at these parameter now, they include this attribute tacked on at the end:"
   ]
  },
  {
   "cell_type": "code",
   "execution_count": 19,
   "metadata": {},
   "outputs": [
    {
     "data": {
      "text/plain": [
       "<AngleType with smirks: [*:1]~[#7X3$(*~[#6X3,#6X2,#7X2+0]):2]~[*:3]  angle: 179 degree  k: 110.8436430155 kilocalorie / mole / radian ** 2  id: a20  note: funky pseudo-linear cyclic nitrogen  >"
      ]
     },
     "execution_count": 19,
     "metadata": {},
     "output_type": "execute_result"
    }
   ],
   "source": [
    "angles_handler.parameters[cyclic_nitrogen_smirks]"
   ]
  },
  {
   "cell_type": "code",
   "execution_count": 20,
   "metadata": {},
   "outputs": [
    {
     "data": {
      "text/plain": [
       "<AngleType with smirks: C1C[C:1]-[O:2]-[C:3]C1  angle: 179 degree  k: 134.5019777341 kilocalorie / mole / radian ** 2  note: funky pseudo-linear cyclic oxygen  >"
      ]
     },
     "execution_count": 20,
     "metadata": {},
     "output_type": "execute_result"
    }
   ],
   "source": [
    "angles_handler.parameters[cyclic_oxygen_smirks]"
   ]
  },
  {
   "cell_type": "markdown",
   "metadata": {},
   "source": [
    "Cometic attributes are included by default when [writing to disk](https://docs.openforcefield.org/projects/toolkit/en/stable/api/generated/openff.toolkit.typing.engines.smirnoff.ForceField.html#openff.toolkit.typing.engines.smirnoff.ForceField.to_file). (This can be turned off by flipping the argument `discard_cosmetic_attributes` to `True`.) Let's write out our modified force field and search through the file for the note we added."
   ]
  },
  {
   "cell_type": "code",
   "execution_count": 21,
   "metadata": {},
   "outputs": [],
   "source": [
    "force_field.to_file(\"modified.offxml\")"
   ]
  },
  {
   "cell_type": "code",
   "execution_count": 22,
   "metadata": {},
   "outputs": [
    {
     "name": "stdout",
     "output_type": "stream",
     "text": [
      "        <Angle smirks=\"[*:1]~[#7X3$(*~[#6X3,#6X2,#7X2+0]):2]~[*:3]\" angle=\"179 * degree ** 1\" k=\"110.8436430155 * mole ** -1 * radian ** -2 * kilocalorie ** 1\" id=\"a20\" note=\"funky pseudo-linear cyclic nitrogen\"></Angle>\r\n",
      "        <Angle smirks=\"C1C[C:1]-[O:2]-[C:3]C1\" angle=\"179 * degree ** 1\" k=\"134.5019777341 * kilocalorie ** 1 * mole ** -1 * radian ** -2\" note=\"funky pseudo-linear cyclic oxygen\"></Angle>\r\n"
     ]
    }
   ],
   "source": [
    "!grep funky modified.offxml"
   ]
  },
  {
   "cell_type": "code",
   "execution_count": null,
   "metadata": {},
   "outputs": [],
   "source": []
  }
 ],
 "metadata": {
  "kernelspec": {
   "display_name": "Python 3 (ipykernel)",
   "language": "python",
   "name": "python3"
  },
  "language_info": {
   "codemirror_mode": {
    "name": "ipython",
    "version": 3
   },
   "file_extension": ".py",
   "mimetype": "text/x-python",
   "name": "python",
   "nbconvert_exporter": "python",
   "pygments_lexer": "ipython3",
   "version": "3.9.15"
  },
  "widgets": {
   "application/vnd.jupyter.widget-state+json": {
    "state": {
     "04846dc3804e48f7aac0c76ae08106ae": {
      "model_module": "@jupyter-widgets/base",
      "model_module_version": "1.2.0",
      "model_name": "LayoutModel",
      "state": {
       "_model_module": "@jupyter-widgets/base",
       "_model_module_version": "1.2.0",
       "_model_name": "LayoutModel",
       "_view_count": null,
       "_view_module": "@jupyter-widgets/base",
       "_view_module_version": "1.2.0",
       "_view_name": "LayoutView",
       "align_content": null,
       "align_items": null,
       "align_self": null,
       "border": null,
       "bottom": null,
       "display": null,
       "flex": null,
       "flex_flow": null,
       "grid_area": null,
       "grid_auto_columns": null,
       "grid_auto_flow": null,
       "grid_auto_rows": null,
       "grid_column": null,
       "grid_gap": null,
       "grid_row": null,
       "grid_template_areas": null,
       "grid_template_columns": null,
       "grid_template_rows": null,
       "height": null,
       "justify_content": null,
       "justify_items": null,
       "left": null,
       "margin": null,
       "max_height": null,
       "max_width": null,
       "min_height": null,
       "min_width": null,
       "object_fit": null,
       "object_position": null,
       "order": null,
       "overflow": null,
       "overflow_x": null,
       "overflow_y": null,
       "padding": null,
       "right": null,
       "top": null,
       "visibility": null,
       "width": null
      }
     },
     "04f810e726be45739d1f8f7d4d44c8c4": {
      "model_module": "@jupyter-widgets/controls",
      "model_module_version": "1.5.0",
      "model_name": "DescriptionStyleModel",
      "state": {
       "_model_module": "@jupyter-widgets/controls",
       "_model_module_version": "1.5.0",
       "_model_name": "DescriptionStyleModel",
       "_view_count": null,
       "_view_module": "@jupyter-widgets/base",
       "_view_module_version": "1.2.0",
       "_view_name": "StyleView",
       "description_width": ""
      }
     },
     "0552981d2d354939a400f84a29734648": {
      "model_module": "nglview-js-widgets",
      "model_module_version": "3.0.1",
      "model_name": "NGLModel",
      "state": {
       "_camera_orientation": [],
       "_camera_str": "orthographic",
       "_dom_classes": [],
       "_gui_theme": null,
       "_ibtn_fullscreen": "IPY_MODEL_f9ce33b32791447180a9f7b02d28f71c",
       "_igui": null,
       "_iplayer": "IPY_MODEL_c0747defd5044ce3a3610d52ec5f4a51",
       "_model_module": "nglview-js-widgets",
       "_model_module_version": "3.0.1",
       "_model_name": "NGLModel",
       "_ngl_color_dict": {},
       "_ngl_coordinate_resource": {},
       "_ngl_full_stage_parameters": {},
       "_ngl_msg_archive": [
        {
         "args": [
          {
           "binary": false,
           "data": "HETATM    1  C1  UNL     1       5.056   2.153  -0.642  1.00  0.00           C  \nHETATM    2  C2  UNL     1       4.662   0.799  -0.013  1.00  0.00           C  \nHETATM    3  C3  UNL     1       5.347   0.622   1.359  1.00  0.00           C  \nHETATM    4  C4  UNL     1       5.303  -0.266  -0.929  1.00  0.00           C  \nHETATM    5  C5  UNL     1       3.115   0.719   0.151  1.00  0.00           C  \nHETATM    6  C6  UNL     1       2.438   1.669   0.970  1.00  0.00           C  \nHETATM    7  O1  UNL     1       3.040   2.685   1.649  1.00  0.00           O  \nHETATM    8  C7  UNL     1       1.060   1.630   1.193  1.00  0.00           C  \nHETATM    9  O2  UNL     1       0.468   2.514   2.076  1.00  0.00           O  \nHETATM   10  C8  UNL     1       0.325   0.659   0.535  1.00  0.00           C  \nHETATM   11  C9  UNL     1       0.896  -0.276  -0.305  1.00  0.00           C  \nHETATM   12  C10 UNL     1       2.288  -0.277  -0.456  1.00  0.00           C  \nHETATM   13  O3  UNL     1       2.744  -1.335  -1.184  1.00  0.00           O  \nHETATM   14  C11 UNL     1      -0.000  -1.276  -1.055  1.00  0.00           C  \nHETATM   15  O4  UNL     1       0.167  -2.573  -0.553  1.00  0.00           O  \nHETATM   16  C12 UNL     1      -0.169  -3.878  -0.178  1.00  0.00           C  \nHETATM   17  C13 UNL     1      -1.698  -3.676  -0.050  1.00  0.00           C  \nHETATM   18  C14 UNL     1      -2.283  -2.589  -1.030  1.00  0.00           C  \nHETATM   19  C15 UNL     1      -1.588  -1.171  -0.941  1.00  0.00           C  \nHETATM   20  C16 UNL     1      -2.118  -0.415   0.315  1.00  0.00           C  \nHETATM   21  C17 UNL     1      -3.373   0.389   0.045  1.00  0.00           C  \nHETATM   22  C18 UNL     1      -4.598  -0.012   0.599  1.00  0.00           C  \nHETATM   23  C19 UNL     1      -5.768   0.718   0.365  1.00  0.00           C  \nHETATM   24  O5  UNL     1      -6.945   0.291   0.924  1.00  0.00           O  \nHETATM   25  C20 UNL     1      -5.723   1.873  -0.436  1.00  0.00           C  \nHETATM   26  O6  UNL     1      -6.853   2.615  -0.684  1.00  0.00           O  \nHETATM   27  C21 UNL     1      -4.504   2.281  -0.996  1.00  0.00           C  \nHETATM   28  F1  UNL     1      -4.447   3.390  -1.771  1.00  0.00           F  \nHETATM   29  C22 UNL     1      -3.343   1.543  -0.756  1.00  0.00           C  \nHETATM   30  N1  UNL     1      -1.011   0.444   0.634  1.00  0.00           N  \nHETATM   31  H1  UNL     1       4.837   2.994   0.022  1.00  0.00           H  \nHETATM   32  H2  UNL     1       4.513   2.305  -1.580  1.00  0.00           H  \nHETATM   33  H3  UNL     1       6.129   2.184  -0.857  1.00  0.00           H  \nHETATM   34  H4  UNL     1       6.433   0.562   1.245  1.00  0.00           H  \nHETATM   35  H5  UNL     1       5.138   1.460   2.030  1.00  0.00           H  \nHETATM   36  H6  UNL     1       4.999  -0.297   1.838  1.00  0.00           H  \nHETATM   37  H7  UNL     1       6.382  -0.111  -1.014  1.00  0.00           H  \nHETATM   38  H8  UNL     1       5.148  -1.271  -0.525  1.00  0.00           H  \nHETATM   39  H9  UNL     1       4.882  -0.215  -1.938  1.00  0.00           H  \nHETATM   40  H10 UNL     1       2.310   3.142   2.098  1.00  0.00           H  \nHETATM   41  H11 UNL     1      -0.250   2.069   2.557  1.00  0.00           H  \nHETATM   42  H12 UNL     1       2.044  -2.009  -1.157  1.00  0.00           H  \nHETATM   43  H13 UNL     1       0.267  -1.252  -2.116  1.00  0.00           H  \nHETATM   44  H14 UNL     1       0.295  -4.183   0.764  1.00  0.00           H  \nHETATM   45  H15 UNL     1       0.084  -4.594  -0.966  1.00  0.00           H  \nHETATM   46  H16 UNL     1      -1.918  -3.374   0.978  1.00  0.00           H  \nHETATM   47  H17 UNL     1      -2.201  -4.632  -0.220  1.00  0.00           H  \nHETATM   48  H18 UNL     1      -2.164  -2.959  -2.053  1.00  0.00           H  \nHETATM   49  H19 UNL     1      -3.356  -2.482  -0.850  1.00  0.00           H  \nHETATM   50  H20 UNL     1      -1.903  -0.592  -1.814  1.00  0.00           H  \nHETATM   51  H21 UNL     1      -2.282  -1.110   1.144  1.00  0.00           H  \nHETATM   52  H22 UNL     1      -4.639  -0.903   1.218  1.00  0.00           H  \nHETATM   53  H23 UNL     1      -6.806  -0.522   1.438  1.00  0.00           H  \nHETATM   54  H24 UNL     1      -6.623   3.367  -1.256  1.00  0.00           H  \nHETATM   55  H25 UNL     1      -2.411   1.872  -1.205  1.00  0.00           H  \nHETATM   56  H26 UNL     1      -1.410   1.314   0.988  1.00  0.00           H  \nCONECT    1    2   31   32   33\nCONECT    2    3    4    5\nCONECT    3   34   35   36\nCONECT    4   37   38   39\nCONECT    5    6    6   12\nCONECT    6    7    8\nCONECT    7   40\nCONECT    8    9   10   10\nCONECT    9   41\nCONECT   10   11   30\nCONECT   11   12   12   14\nCONECT   12   13\nCONECT   13   42\nCONECT   14   15   19   43\nCONECT   15   16\nCONECT   16   17   44   45\nCONECT   17   18   46   47\nCONECT   18   19   48   49\nCONECT   19   20   50\nCONECT   20   21   30   51\nCONECT   21   22   22   29\nCONECT   22   23   52\nCONECT   23   24   25   25\nCONECT   24   53\nCONECT   25   26   27\nCONECT   26   54\nCONECT   27   28   29   29\nCONECT   29   55\nCONECT   30   56\n",
           "type": "blob"
          }
         ],
         "kwargs": {
          "defaultRepresentation": true,
          "ext": "pdb",
          "name": "<openff.toolkit.utils.viz._OFFTrajectoryNGLView object at 0x1408a0490>"
         },
         "methodName": "loadFile",
         "reconstruc_color_scheme": false,
         "target": "Stage",
         "type": "call_method"
        }
       ],
       "_ngl_original_stage_parameters": {},
       "_ngl_repr_dict": {},
       "_ngl_serialize": false,
       "_ngl_version": "",
       "_ngl_view_id": [],
       "_player_dict": {},
       "_scene_position": {},
       "_scene_rotation": {},
       "_synced_model_ids": [],
       "_synced_repr_model_ids": [],
       "_view_count": null,
       "_view_height": "",
       "_view_module": "nglview-js-widgets",
       "_view_module_version": "3.0.1",
       "_view_name": "NGLView",
       "_view_width": "",
       "background": "white",
       "frame": 0,
       "gui_style": null,
       "layout": "IPY_MODEL_8ee42f12b4b94d30a19112bfffce9c5f",
       "max_frame": 0,
       "n_components": 0,
       "picked": {}
      }
     },
     "05a1fd7df95b4106a0f40bf27c5a2867": {
      "model_module": "@jupyter-widgets/controls",
      "model_module_version": "1.5.0",
      "model_name": "LinkModel",
      "state": {
       "_model_module": "@jupyter-widgets/controls",
       "_model_module_version": "1.5.0",
       "_model_name": "LinkModel",
       "_view_count": null,
       "_view_module": "@jupyter-widgets/controls",
       "_view_module_version": "1.5.0",
       "_view_name": null,
       "source": [
        "IPY_MODEL_1f2bd05117584795ba1fbd18725ecac8",
        "max"
       ],
       "target": [
        "IPY_MODEL_0f3d2594819245da880721fe8431aa84",
        "max_frame"
       ]
      }
     },
     "05df736eb086421aac0c682ab9433ad2": {
      "model_module": "@jupyter-widgets/controls",
      "model_module_version": "1.5.0",
      "model_name": "ButtonModel",
      "state": {
       "_dom_classes": [],
       "_model_module": "@jupyter-widgets/controls",
       "_model_module_version": "1.5.0",
       "_model_name": "ButtonModel",
       "_view_count": null,
       "_view_module": "@jupyter-widgets/controls",
       "_view_module_version": "1.5.0",
       "_view_name": "ButtonView",
       "button_style": "",
       "description": "",
       "disabled": false,
       "icon": "compress",
       "layout": "IPY_MODEL_55e910b200794cc8a10c86072c9544e4",
       "style": "IPY_MODEL_3e6d47df2431449a8652eab8ba8e490e",
       "tooltip": ""
      }
     },
     "076ced9a736d4df092fe40fa4f3e6aa5": {
      "model_module": "@jupyter-widgets/base",
      "model_module_version": "1.2.0",
      "model_name": "LayoutModel",
      "state": {
       "_model_module": "@jupyter-widgets/base",
       "_model_module_version": "1.2.0",
       "_model_name": "LayoutModel",
       "_view_count": null,
       "_view_module": "@jupyter-widgets/base",
       "_view_module_version": "1.2.0",
       "_view_name": "LayoutView",
       "align_content": null,
       "align_items": null,
       "align_self": null,
       "border": null,
       "bottom": null,
       "display": null,
       "flex": null,
       "flex_flow": null,
       "grid_area": null,
       "grid_auto_columns": null,
       "grid_auto_flow": null,
       "grid_auto_rows": null,
       "grid_column": null,
       "grid_gap": null,
       "grid_row": null,
       "grid_template_areas": null,
       "grid_template_columns": null,
       "grid_template_rows": null,
       "height": null,
       "justify_content": null,
       "justify_items": null,
       "left": null,
       "margin": null,
       "max_height": null,
       "max_width": null,
       "min_height": null,
       "min_width": null,
       "object_fit": null,
       "object_position": null,
       "order": null,
       "overflow": null,
       "overflow_x": null,
       "overflow_y": null,
       "padding": null,
       "right": null,
       "top": null,
       "visibility": null,
       "width": null
      }
     },
     "0a3a001c7a38435ab736e762102c196a": {
      "model_module": "@jupyter-widgets/base",
      "model_module_version": "1.2.0",
      "model_name": "LayoutModel",
      "state": {
       "_model_module": "@jupyter-widgets/base",
       "_model_module_version": "1.2.0",
       "_model_name": "LayoutModel",
       "_view_count": null,
       "_view_module": "@jupyter-widgets/base",
       "_view_module_version": "1.2.0",
       "_view_name": "LayoutView",
       "align_content": null,
       "align_items": null,
       "align_self": null,
       "border": null,
       "bottom": null,
       "display": null,
       "flex": null,
       "flex_flow": null,
       "grid_area": null,
       "grid_auto_columns": null,
       "grid_auto_flow": null,
       "grid_auto_rows": null,
       "grid_column": null,
       "grid_gap": null,
       "grid_row": null,
       "grid_template_areas": null,
       "grid_template_columns": null,
       "grid_template_rows": null,
       "height": null,
       "justify_content": null,
       "justify_items": null,
       "left": null,
       "margin": null,
       "max_height": null,
       "max_width": null,
       "min_height": null,
       "min_width": null,
       "object_fit": null,
       "object_position": null,
       "order": null,
       "overflow": null,
       "overflow_x": null,
       "overflow_y": null,
       "padding": null,
       "right": null,
       "top": null,
       "visibility": null,
       "width": null
      }
     },
     "0b36a6f3680e483fa1d3be16fea1f4cb": {
      "model_module": "@jupyter-widgets/controls",
      "model_module_version": "1.5.0",
      "model_name": "SliderStyleModel",
      "state": {
       "_model_module": "@jupyter-widgets/controls",
       "_model_module_version": "1.5.0",
       "_model_name": "SliderStyleModel",
       "_view_count": null,
       "_view_module": "@jupyter-widgets/base",
       "_view_module_version": "1.2.0",
       "_view_name": "StyleView",
       "description_width": "",
       "handle_color": null
      }
     },
     "0c4768dc8db948d4bb2f28bd5b5b2aa2": {
      "model_module": "@jupyter-widgets/base",
      "model_module_version": "1.2.0",
      "model_name": "LayoutModel",
      "state": {
       "_model_module": "@jupyter-widgets/base",
       "_model_module_version": "1.2.0",
       "_model_name": "LayoutModel",
       "_view_count": null,
       "_view_module": "@jupyter-widgets/base",
       "_view_module_version": "1.2.0",
       "_view_name": "LayoutView",
       "align_content": null,
       "align_items": null,
       "align_self": null,
       "border": null,
       "bottom": null,
       "display": null,
       "flex": null,
       "flex_flow": null,
       "grid_area": null,
       "grid_auto_columns": null,
       "grid_auto_flow": null,
       "grid_auto_rows": null,
       "grid_column": null,
       "grid_gap": null,
       "grid_row": null,
       "grid_template_areas": null,
       "grid_template_columns": null,
       "grid_template_rows": null,
       "height": null,
       "justify_content": null,
       "justify_items": null,
       "left": null,
       "margin": null,
       "max_height": null,
       "max_width": null,
       "min_height": null,
       "min_width": null,
       "object_fit": null,
       "object_position": null,
       "order": null,
       "overflow": null,
       "overflow_x": null,
       "overflow_y": null,
       "padding": null,
       "right": null,
       "top": null,
       "visibility": null,
       "width": null
      }
     },
     "0f3d2594819245da880721fe8431aa84": {
      "model_module": "nglview-js-widgets",
      "model_module_version": "3.0.1",
      "model_name": "NGLModel",
      "state": {
       "_camera_orientation": [],
       "_camera_str": "orthographic",
       "_dom_classes": [],
       "_gui_theme": null,
       "_ibtn_fullscreen": "IPY_MODEL_05df736eb086421aac0c682ab9433ad2",
       "_igui": null,
       "_iplayer": "IPY_MODEL_26138b4641ac4a2dab1c3a6f14caf665",
       "_model_module": "nglview-js-widgets",
       "_model_module_version": "3.0.1",
       "_model_name": "NGLModel",
       "_ngl_color_dict": {},
       "_ngl_coordinate_resource": {},
       "_ngl_full_stage_parameters": {},
       "_ngl_msg_archive": [
        {
         "args": [
          {
           "binary": false,
           "data": "HETATM    1  C1  UNL     1       5.405   2.001   0.063  1.00  0.00           C  \nHETATM    2  C2  UNL     1       4.696   0.640  -0.037  1.00  0.00           C  \nHETATM    3  C3  UNL     1       5.276  -0.330   1.006  1.00  0.00           C  \nHETATM    4  C4  UNL     1       5.023   0.163  -1.461  1.00  0.00           C  \nHETATM    5  C5  UNL     1       3.170   0.714   0.173  1.00  0.00           C  \nHETATM    6  C6  UNL     1       2.545   1.753   0.905  1.00  0.00           C  \nHETATM    7  O1  UNL     1       3.192   2.775   1.533  1.00  0.00           O  \nHETATM    8  C7  UNL     1       1.165   1.782   1.107  1.00  0.00           C  \nHETATM    9  O2  UNL     1       0.606   2.769   1.896  1.00  0.00           O  \nHETATM   10  C8  UNL     1       0.360   0.787   0.556  1.00  0.00           C  \nHETATM   11  C9  UNL     1       0.931  -0.263  -0.166  1.00  0.00           C  \nHETATM   12  C10 UNL     1       2.326  -0.325  -0.290  1.00  0.00           C  \nHETATM   13  O3  UNL     1       2.815  -1.489  -0.811  1.00  0.00           O  \nHETATM   14  C11 UNL     1       0.063  -1.330  -0.803  1.00  0.00           C  \nHETATM   15  O4  UNL     1       0.228  -2.525  -0.020  1.00  0.00           O  \nHETATM   16  C12 UNL     1      -0.467  -3.654  -0.557  1.00  0.00           C  \nHETATM   17  C13 UNL     1      -1.919  -3.448  -0.953  1.00  0.00           C  \nHETATM   18  C14 UNL     1      -2.311  -2.039  -1.371  1.00  0.00           C  \nHETATM   19  C15 UNL     1      -1.409  -0.876  -0.928  1.00  0.00           C  \nHETATM   20  C16 UNL     1      -1.871  -0.282   0.411  1.00  0.00           C  \nHETATM   21  C17 UNL     1      -3.298   0.228   0.360  1.00  0.00           C  \nHETATM   22  C18 UNL     1      -4.261  -0.290   1.240  1.00  0.00           C  \nHETATM   23  C19 UNL     1      -5.581   0.174   1.219  1.00  0.00           C  \nHETATM   24  O5  UNL     1      -6.488  -0.357   2.098  1.00  0.00           O  \nHETATM   25  C20 UNL     1      -5.957   1.177   0.306  1.00  0.00           C  \nHETATM   26  O6  UNL     1      -7.245   1.654   0.266  1.00  0.00           O  \nHETATM   27  C21 UNL     1      -5.003   1.701  -0.573  1.00  0.00           C  \nHETATM   28  F1  UNL     1      -7.587   8.858  -7.061  1.00  0.00           F  \nHETATM   29  C22 UNL     1      -3.687   1.230  -0.544  1.00  0.00           C  \nHETATM   30  N1  UNL     1      -1.016   0.860   0.751  1.00  0.00           N  \nHETATM   31  H1  UNL     1       6.225   2.221   0.752  1.00  0.00           H  \nHETATM   32  H2  UNL     1       6.394   2.223  -0.349  1.00  0.00           H  \nHETATM   33  H3  UNL     1       6.466   1.783   0.213  1.00  0.00           H  \nHETATM   34  H4  UNL     1       5.645  -0.030   1.991  1.00  0.00           H  \nHETATM   35  H5  UNL     1       4.929   0.042   1.974  1.00  0.00           H  \nHETATM   36  H6  UNL     1       4.741  -0.661   1.901  1.00  0.00           H  \nHETATM   37  H7  UNL     1       6.026   0.139  -1.898  1.00  0.00           H  \nHETATM   38  H8  UNL     1       5.976  -0.371  -1.398  1.00  0.00           H  \nHETATM   39  H9  UNL     1       5.465  -0.810  -1.696  1.00  0.00           H  \nHETATM   40  H10 UNL     1       2.480   3.292   1.945  1.00  0.00           H  \nHETATM   41  H11 UNL     1      -0.235   2.435   2.250  1.00  0.00           H  \nHETATM   42  H12 UNL     1       2.149  -2.172  -0.624  1.00  0.00           H  \nHETATM   43  H13 UNL     1       0.427  -1.518  -1.817  1.00  0.00           H  \nHETATM   44  H14 UNL     1      -0.163  -4.650  -0.222  1.00  0.00           H  \nHETATM   45  H15 UNL     1       0.111  -4.416  -1.088  1.00  0.00           H  \nHETATM   46  H16 UNL     1      -2.678  -4.084  -0.489  1.00  0.00           H  \nHETATM   47  H17 UNL     1      -2.467  -4.292  -1.381  1.00  0.00           H  \nHETATM   48  H18 UNL     1      -2.848  -1.928  -2.318  1.00  0.00           H  \nHETATM   49  H19 UNL     1      -3.370  -1.836  -1.556  1.00  0.00           H  \nHETATM   50  H20 UNL     1      -1.452  -0.096  -1.693  1.00  0.00           H  \nHETATM   51  H21 UNL     1      -1.778  -1.046   1.188  1.00  0.00           H  \nHETATM   52  H22 UNL     1      -3.975  -1.060   1.949  1.00  0.00           H  \nHETATM   53  H23 UNL     1      -6.058  -0.992   2.694  1.00  0.00           H  \nHETATM   54  H24 UNL     1      -7.336   2.350  -0.406  1.00  0.00           H  \nHETATM   55  H25 UNL     1      -2.968   1.655  -1.237  1.00  0.00           H  \nHETATM   56  H26 UNL     1      -1.423   1.783   0.608  1.00  0.00           H  \nCONECT    1    2   31   32   33\nCONECT    2    3    4    5\nCONECT    3   34   35   36\nCONECT    4   37   38   39\nCONECT    5    6    6   12\nCONECT    6    7    8\nCONECT    7   40\nCONECT    8    9   10   10\nCONECT    9   41\nCONECT   10   11   30\nCONECT   11   12   12   14\nCONECT   12   13\nCONECT   13   42\nCONECT   14   15   19   43\nCONECT   15   16\nCONECT   16   17   44   45\nCONECT   17   18   46   47\nCONECT   18   19   48   49\nCONECT   19   20   50\nCONECT   20   21   30   51\nCONECT   21   22   22   29\nCONECT   22   23   52\nCONECT   23   24   25   25\nCONECT   24   53\nCONECT   25   26   27\nCONECT   26   54\nCONECT   27   28   29   29\nCONECT   29   55\nCONECT   30   56\n",
           "type": "blob"
          }
         ],
         "kwargs": {
          "defaultRepresentation": true,
          "ext": "pdb",
          "name": "<openff.toolkit.utils.viz._OFFTrajectoryNGLView object at 0x140b28730>"
         },
         "methodName": "loadFile",
         "reconstruc_color_scheme": false,
         "target": "Stage",
         "type": "call_method"
        }
       ],
       "_ngl_original_stage_parameters": {},
       "_ngl_repr_dict": {},
       "_ngl_serialize": false,
       "_ngl_version": "",
       "_ngl_view_id": [],
       "_player_dict": {},
       "_scene_position": {},
       "_scene_rotation": {},
       "_synced_model_ids": [],
       "_synced_repr_model_ids": [],
       "_view_count": null,
       "_view_height": "",
       "_view_module": "nglview-js-widgets",
       "_view_module_version": "3.0.1",
       "_view_name": "NGLView",
       "_view_width": "",
       "background": "white",
       "frame": 0,
       "gui_style": null,
       "layout": "IPY_MODEL_3ba906850d16481ba8ac682bc8e3c16f",
       "max_frame": 0,
       "n_components": 0,
       "picked": {}
      }
     },
     "1619ae4c9c754ab3a62d025cc09393e5": {
      "model_module": "@jupyter-widgets/controls",
      "model_module_version": "1.5.0",
      "model_name": "SliderStyleModel",
      "state": {
       "_model_module": "@jupyter-widgets/controls",
       "_model_module_version": "1.5.0",
       "_model_name": "SliderStyleModel",
       "_view_count": null,
       "_view_module": "@jupyter-widgets/base",
       "_view_module_version": "1.2.0",
       "_view_name": "StyleView",
       "description_width": "",
       "handle_color": null
      }
     },
     "16fe9bd8298343dfb3f0abda3a72964e": {
      "model_module": "@jupyter-widgets/controls",
      "model_module_version": "1.5.0",
      "model_name": "LinkModel",
      "state": {
       "_model_module": "@jupyter-widgets/controls",
       "_model_module_version": "1.5.0",
       "_model_name": "LinkModel",
       "_view_count": null,
       "_view_module": "@jupyter-widgets/controls",
       "_view_module_version": "1.5.0",
       "_view_name": null,
       "source": [
        "IPY_MODEL_3392ab3d38534e0abed90e09677dbcfd",
        "value"
       ],
       "target": [
        "IPY_MODEL_0f3d2594819245da880721fe8431aa84",
        "frame"
       ]
      }
     },
     "1e2055898bf048709d6f5960e5e768ae": {
      "model_module": "@jupyter-widgets/base",
      "model_module_version": "1.2.0",
      "model_name": "LayoutModel",
      "state": {
       "_model_module": "@jupyter-widgets/base",
       "_model_module_version": "1.2.0",
       "_model_name": "LayoutModel",
       "_view_count": null,
       "_view_module": "@jupyter-widgets/base",
       "_view_module_version": "1.2.0",
       "_view_name": "LayoutView",
       "align_content": null,
       "align_items": null,
       "align_self": null,
       "border": null,
       "bottom": null,
       "display": null,
       "flex": null,
       "flex_flow": null,
       "grid_area": null,
       "grid_auto_columns": null,
       "grid_auto_flow": null,
       "grid_auto_rows": null,
       "grid_column": null,
       "grid_gap": null,
       "grid_row": null,
       "grid_template_areas": null,
       "grid_template_columns": null,
       "grid_template_rows": null,
       "height": null,
       "justify_content": null,
       "justify_items": null,
       "left": null,
       "margin": null,
       "max_height": null,
       "max_width": null,
       "min_height": null,
       "min_width": null,
       "object_fit": null,
       "object_position": null,
       "order": null,
       "overflow": null,
       "overflow_x": null,
       "overflow_y": null,
       "padding": null,
       "right": null,
       "top": null,
       "visibility": null,
       "width": null
      }
     },
     "1f2bd05117584795ba1fbd18725ecac8": {
      "model_module": "@jupyter-widgets/controls",
      "model_module_version": "1.5.0",
      "model_name": "IntSliderModel",
      "state": {
       "_dom_classes": [],
       "_model_module": "@jupyter-widgets/controls",
       "_model_module_version": "1.5.0",
       "_model_name": "IntSliderModel",
       "_view_count": null,
       "_view_module": "@jupyter-widgets/controls",
       "_view_module_version": "1.5.0",
       "_view_name": "IntSliderView",
       "continuous_update": true,
       "description": "",
       "description_tooltip": null,
       "disabled": false,
       "layout": "IPY_MODEL_5c6de506e86a4f7096afbe269e008f98",
       "max": 0,
       "min": 0,
       "orientation": "horizontal",
       "readout": true,
       "readout_format": "d",
       "step": 1,
       "style": "IPY_MODEL_8b0efe9a674e4431922cc7519bcbc917",
       "value": 0
      }
     },
     "205091d596c94cb0b1cd1a9dbe26dfbe": {
      "model_module": "nglview-js-widgets",
      "model_module_version": "3.0.1",
      "model_name": "NGLModel",
      "state": {
       "_camera_orientation": [],
       "_camera_str": "orthographic",
       "_dom_classes": [],
       "_gui_theme": null,
       "_ibtn_fullscreen": "IPY_MODEL_f1e8a4b12d4c457385f4ae4ed3b91e42",
       "_igui": null,
       "_iplayer": "IPY_MODEL_d1c8f9448bed4645bdf7195be3113b08",
       "_model_module": "nglview-js-widgets",
       "_model_module_version": "3.0.1",
       "_model_name": "NGLModel",
       "_ngl_color_dict": {},
       "_ngl_coordinate_resource": {},
       "_ngl_full_stage_parameters": {},
       "_ngl_msg_archive": [
        {
         "args": [
          {
           "binary": false,
           "data": "HETATM    1  C1  UNL     1       5.380   1.772  -0.070  1.00  0.00           C  \nHETATM    2  C2  UNL     1       4.791   0.387   0.284  1.00  0.00           C  \nHETATM    3  C3  UNL     1       5.316  -0.081   1.658  1.00  0.00           C  \nHETATM    4  C4  UNL     1       5.417  -0.582  -0.744  1.00  0.00           C  \nHETATM    5  C5  UNL     1       3.233   0.458   0.309  1.00  0.00           C  \nHETATM    6  C6  UNL     1       2.585   1.363   1.189  1.00  0.00           C  \nHETATM    7  O1  UNL     1       3.212   2.193   2.066  1.00  0.00           O  \nHETATM    8  C7  UNL     1       1.199   1.481   1.255  1.00  0.00           C  \nHETATM    9  O2  UNL     1       0.621   2.347   2.162  1.00  0.00           O  \nHETATM   10  C8  UNL     1       0.397   0.706   0.430  1.00  0.00           C  \nHETATM   11  C9  UNL     1       0.962  -0.216  -0.449  1.00  0.00           C  \nHETATM   12  C10 UNL     1       2.367  -0.343  -0.494  1.00  0.00           C  \nHETATM   13  O3  UNL     1       2.812  -1.303  -1.353  1.00  0.00           O  \nHETATM   14  C11 UNL     1       0.079  -1.019  -1.398  1.00  0.00           C  \nHETATM   15  O4  UNL     1       0.420  -2.421  -1.316  1.00  0.00           O  \nHETATM   16  C12 UNL     1      -0.326  -3.166  -0.346  1.00  0.00           C  \nHETATM   17  C13 UNL     1      -1.805  -3.234  -0.756  1.00  0.00           C  \nHETATM   18  C14 UNL     1      -2.226  -2.039  -1.630  1.00  0.00           C  \nHETATM   19  C15 UNL     1      -1.449  -0.756  -1.268  1.00  0.00           C  \nHETATM   20  C16 UNL     1      -1.846  -0.232   0.128  1.00  0.00           C  \nHETATM   21  C17 UNL     1      -3.281   0.258   0.189  1.00  0.00           C  \nHETATM   22  C18 UNL     1      -4.169  -0.290   1.129  1.00  0.00           C  \nHETATM   23  C19 UNL     1      -5.498   0.140   1.205  1.00  0.00           C  \nHETATM   24  O5  UNL     1      -6.330  -0.422   2.138  1.00  0.00           O  \nHETATM   25  C20 UNL     1      -5.962   1.139   0.330  1.00  0.00           C  \nHETATM   26  O6  UNL     1      -7.264   1.578   0.379  1.00  0.00           O  \nHETATM   27  C21 UNL     1      -5.084   1.698  -0.605  1.00  0.00           C  \nHETATM   28  F1  UNL     1      -8.326   8.784  -6.871  1.00  0.00           F  \nHETATM   29  C22 UNL     1      -3.757   1.264  -0.670  1.00  0.00           C  \nHETATM   30  N1  UNL     1      -0.978   0.884   0.496  1.00  0.00           N  \nHETATM   31  H1  UNL     1       5.212   2.505   0.723  1.00  0.00           H  \nHETATM   32  H2  UNL     1       4.925   2.150  -0.991  1.00  0.00           H  \nHETATM   33  H3  UNL     1       6.461   1.708  -0.222  1.00  0.00           H  \nHETATM   34  H4  UNL     1       6.401  -0.214   1.632  1.00  0.00           H  \nHETATM   35  H5  UNL     1       5.095   0.644   2.447  1.00  0.00           H  \nHETATM   36  H6  UNL     1       4.857  -1.036   1.931  1.00  0.00           H  \nHETATM   37  H7  UNL     1       6.510  -0.535  -0.711  1.00  0.00           H  \nHETATM   38  H8  UNL     1       5.131  -1.616  -0.531  1.00  0.00           H  \nHETATM   39  H9  UNL     1       5.106  -0.323  -1.760  1.00  0.00           H  \nHETATM   40  H10 UNL     1       2.487   2.663   2.510  1.00  0.00           H  \nHETATM   41  H11 UNL     1      -0.320   2.115   2.236  1.00  0.00           H  \nHETATM   42  H12 UNL     1       2.060  -1.895  -1.521  1.00  0.00           H  \nHETATM   43  H13 UNL     1       0.347  -0.702  -2.410  1.00  0.00           H  \nHETATM   44  H14 UNL     1      -0.225  -2.696   0.637  1.00  0.00           H  \nHETATM   45  H15 UNL     1       0.079  -4.178  -0.262  1.00  0.00           H  \nHETATM   46  H16 UNL     1      -2.421  -3.273   0.147  1.00  0.00           H  \nHETATM   47  H17 UNL     1      -1.984  -4.157  -1.315  1.00  0.00           H  \nHETATM   48  H18 UNL     1      -2.015  -2.281  -2.675  1.00  0.00           H  \nHETATM   49  H19 UNL     1      -3.305  -1.880  -1.548  1.00  0.00           H  \nHETATM   50  H20 UNL     1      -1.699   0.015  -2.002  1.00  0.00           H  \nHETATM   51  H21 UNL     1      -1.710  -1.025   0.870  1.00  0.00           H  \nHETATM   52  H22 UNL     1      -3.819  -1.060   1.809  1.00  0.00           H  \nHETATM   53  H23 UNL     1      -5.850  -1.063   2.688  1.00  0.00           H  \nHETATM   54  H24 UNL     1      -7.423   2.266  -0.288  1.00  0.00           H  \nHETATM   55  H25 UNL     1      -3.102   1.720  -1.406  1.00  0.00           H  \nHETATM   56  H26 UNL     1      -1.305   1.815   0.239  1.00  0.00           H  \nCONECT    1    2   31   32   33\nCONECT    2    3    4    5\nCONECT    3   34   35   36\nCONECT    4   37   38   39\nCONECT    5    6    6   12\nCONECT    6    7    8\nCONECT    7   40\nCONECT    8    9   10   10\nCONECT    9   41\nCONECT   10   11   30\nCONECT   11   12   12   14\nCONECT   12   13\nCONECT   13   42\nCONECT   14   15   19   43\nCONECT   15   16\nCONECT   16   17   44   45\nCONECT   17   18   46   47\nCONECT   18   19   48   49\nCONECT   19   20   50\nCONECT   20   21   30   51\nCONECT   21   22   22   29\nCONECT   22   23   52\nCONECT   23   24   25   25\nCONECT   24   53\nCONECT   25   26   27\nCONECT   26   54\nCONECT   27   28   29   29\nCONECT   29   55\nCONECT   30   56\n",
           "type": "blob"
          }
         ],
         "kwargs": {
          "defaultRepresentation": true,
          "ext": "pdb",
          "name": "<openff.toolkit.utils.viz._OFFTrajectoryNGLView object at 0x1404cd490>"
         },
         "methodName": "loadFile",
         "reconstruc_color_scheme": false,
         "target": "Stage",
         "type": "call_method"
        }
       ],
       "_ngl_original_stage_parameters": {},
       "_ngl_repr_dict": {},
       "_ngl_serialize": false,
       "_ngl_version": "",
       "_ngl_view_id": [],
       "_player_dict": {},
       "_scene_position": {},
       "_scene_rotation": {},
       "_synced_model_ids": [],
       "_synced_repr_model_ids": [],
       "_view_count": null,
       "_view_height": "",
       "_view_module": "nglview-js-widgets",
       "_view_module_version": "3.0.1",
       "_view_name": "NGLView",
       "_view_width": "",
       "background": "white",
       "frame": 0,
       "gui_style": null,
       "layout": "IPY_MODEL_a4121879941a419fa6229449df9bd64c",
       "max_frame": 0,
       "n_components": 0,
       "picked": {}
      }
     },
     "211260d331f14fb1bc8252524abfd64a": {
      "model_module": "@jupyter-widgets/controls",
      "model_module_version": "1.5.0",
      "model_name": "SliderStyleModel",
      "state": {
       "_model_module": "@jupyter-widgets/controls",
       "_model_module_version": "1.5.0",
       "_model_name": "SliderStyleModel",
       "_view_count": null,
       "_view_module": "@jupyter-widgets/base",
       "_view_module_version": "1.2.0",
       "_view_name": "StyleView",
       "description_width": "",
       "handle_color": null
      }
     },
     "23087e43af7349fcbeccebf533e65476": {
      "model_module": "@jupyter-widgets/controls",
      "model_module_version": "1.5.0",
      "model_name": "PlayModel",
      "state": {
       "_dom_classes": [],
       "_model_module": "@jupyter-widgets/controls",
       "_model_module_version": "1.5.0",
       "_model_name": "PlayModel",
       "_playing": false,
       "_repeat": false,
       "_view_count": null,
       "_view_module": "@jupyter-widgets/controls",
       "_view_module_version": "1.5.0",
       "_view_name": "PlayView",
       "description": "",
       "description_tooltip": null,
       "disabled": false,
       "interval": 100,
       "layout": "IPY_MODEL_f6ff57054d864c37a0459185c1f398d8",
       "max": 0,
       "min": 0,
       "show_repeat": true,
       "step": 1,
       "style": "IPY_MODEL_c35baec1653a4b1b82107091cbc29951",
       "value": 0
      }
     },
     "26138b4641ac4a2dab1c3a6f14caf665": {
      "model_module": "@jupyter-widgets/controls",
      "model_module_version": "1.5.0",
      "model_name": "HBoxModel",
      "state": {
       "_dom_classes": [],
       "_model_module": "@jupyter-widgets/controls",
       "_model_module_version": "1.5.0",
       "_model_name": "HBoxModel",
       "_view_count": null,
       "_view_module": "@jupyter-widgets/controls",
       "_view_module_version": "1.5.0",
       "_view_name": "HBoxView",
       "box_style": "",
       "children": [
        "IPY_MODEL_3392ab3d38534e0abed90e09677dbcfd",
        "IPY_MODEL_1f2bd05117584795ba1fbd18725ecac8"
       ],
       "layout": "IPY_MODEL_7f1ffeedb142487484a9ff481e23bbc8"
      }
     },
     "2757be731ab747e98ef2ca8959e6b94d": {
      "buffers": [
       {
        "data": "",
        "encoding": "base64",
        "path": [
         "value"
        ]
       }
      ],
      "model_module": "@jupyter-widgets/controls",
      "model_module_version": "1.5.0",
      "model_name": "ImageModel",
      "state": {
       "_dom_classes": [],
       "_model_module": "@jupyter-widgets/controls",
       "_model_module_version": "1.5.0",
       "_model_name": "ImageModel",
       "_view_count": null,
       "_view_module": "@jupyter-widgets/controls",
       "_view_module_version": "1.5.0",
       "_view_name": "ImageView",
       "format": "png",
       "height": "",
       "layout": "IPY_MODEL_0c4768dc8db948d4bb2f28bd5b5b2aa2",
       "value": {},
       "width": "900.0"
      }
     },
     "27a71d0803eb46e1b25fc40839f65e3b": {
      "model_module": "@jupyter-widgets/controls",
      "model_module_version": "1.5.0",
      "model_name": "DescriptionStyleModel",
      "state": {
       "_model_module": "@jupyter-widgets/controls",
       "_model_module_version": "1.5.0",
       "_model_name": "DescriptionStyleModel",
       "_view_count": null,
       "_view_module": "@jupyter-widgets/base",
       "_view_module_version": "1.2.0",
       "_view_name": "StyleView",
       "description_width": ""
      }
     },
     "2ef061e6e9864309a860dc7a92ba25af": {
      "model_module": "@jupyter-widgets/controls",
      "model_module_version": "1.5.0",
      "model_name": "LinkModel",
      "state": {
       "_model_module": "@jupyter-widgets/controls",
       "_model_module_version": "1.5.0",
       "_model_name": "LinkModel",
       "_view_count": null,
       "_view_module": "@jupyter-widgets/controls",
       "_view_module_version": "1.5.0",
       "_view_name": null,
       "source": [
        "IPY_MODEL_40935fac2aa44517a117ecef35809c37",
        "max"
       ],
       "target": [
        "IPY_MODEL_0552981d2d354939a400f84a29734648",
        "max_frame"
       ]
      }
     },
     "3033c5a676e041089330f3e49900ae33": {
      "model_module": "@jupyter-widgets/base",
      "model_module_version": "1.2.0",
      "model_name": "LayoutModel",
      "state": {
       "_model_module": "@jupyter-widgets/base",
       "_model_module_version": "1.2.0",
       "_model_name": "LayoutModel",
       "_view_count": null,
       "_view_module": "@jupyter-widgets/base",
       "_view_module_version": "1.2.0",
       "_view_name": "LayoutView",
       "align_content": null,
       "align_items": null,
       "align_self": null,
       "border": null,
       "bottom": null,
       "display": null,
       "flex": null,
       "flex_flow": null,
       "grid_area": null,
       "grid_auto_columns": null,
       "grid_auto_flow": null,
       "grid_auto_rows": null,
       "grid_column": null,
       "grid_gap": null,
       "grid_row": null,
       "grid_template_areas": null,
       "grid_template_columns": null,
       "grid_template_rows": null,
       "height": null,
       "justify_content": null,
       "justify_items": null,
       "left": null,
       "margin": null,
       "max_height": null,
       "max_width": null,
       "min_height": null,
       "min_width": null,
       "object_fit": null,
       "object_position": null,
       "order": null,
       "overflow": null,
       "overflow_x": null,
       "overflow_y": null,
       "padding": null,
       "right": null,
       "top": null,
       "visibility": null,
       "width": null
      }
     },
     "30b533f2a4874f04855e6b76aa96f8f2": {
      "model_module": "@jupyter-widgets/base",
      "model_module_version": "1.2.0",
      "model_name": "LayoutModel",
      "state": {
       "_model_module": "@jupyter-widgets/base",
       "_model_module_version": "1.2.0",
       "_model_name": "LayoutModel",
       "_view_count": null,
       "_view_module": "@jupyter-widgets/base",
       "_view_module_version": "1.2.0",
       "_view_name": "LayoutView",
       "align_content": null,
       "align_items": null,
       "align_self": null,
       "border": null,
       "bottom": null,
       "display": null,
       "flex": null,
       "flex_flow": null,
       "grid_area": null,
       "grid_auto_columns": null,
       "grid_auto_flow": null,
       "grid_auto_rows": null,
       "grid_column": null,
       "grid_gap": null,
       "grid_row": null,
       "grid_template_areas": null,
       "grid_template_columns": null,
       "grid_template_rows": null,
       "height": null,
       "justify_content": null,
       "justify_items": null,
       "left": null,
       "margin": null,
       "max_height": null,
       "max_width": null,
       "min_height": null,
       "min_width": null,
       "object_fit": null,
       "object_position": null,
       "order": null,
       "overflow": null,
       "overflow_x": null,
       "overflow_y": null,
       "padding": null,
       "right": null,
       "top": null,
       "visibility": null,
       "width": null
      }
     },
     "32a0c83c4d874530990b3ad85ceab9e7": {
      "model_module": "@jupyter-widgets/controls",
      "model_module_version": "1.5.0",
      "model_name": "IntSliderModel",
      "state": {
       "_dom_classes": [],
       "_model_module": "@jupyter-widgets/controls",
       "_model_module_version": "1.5.0",
       "_model_name": "IntSliderModel",
       "_view_count": null,
       "_view_module": "@jupyter-widgets/controls",
       "_view_module_version": "1.5.0",
       "_view_name": "IntSliderView",
       "continuous_update": true,
       "description": "",
       "description_tooltip": null,
       "disabled": false,
       "layout": "IPY_MODEL_4bac4b99117f4e9a8430f082c982879e",
       "max": 0,
       "min": 0,
       "orientation": "horizontal",
       "readout": true,
       "readout_format": "d",
       "step": 1,
       "style": "IPY_MODEL_1619ae4c9c754ab3a62d025cc09393e5",
       "value": 0
      }
     },
     "32d6b6b51a6b40bc8cd6104c5b0149c3": {
      "model_module": "@jupyter-widgets/base",
      "model_module_version": "1.2.0",
      "model_name": "LayoutModel",
      "state": {
       "_model_module": "@jupyter-widgets/base",
       "_model_module_version": "1.2.0",
       "_model_name": "LayoutModel",
       "_view_count": null,
       "_view_module": "@jupyter-widgets/base",
       "_view_module_version": "1.2.0",
       "_view_name": "LayoutView",
       "align_content": null,
       "align_items": null,
       "align_self": null,
       "border": null,
       "bottom": null,
       "display": null,
       "flex": null,
       "flex_flow": null,
       "grid_area": null,
       "grid_auto_columns": null,
       "grid_auto_flow": null,
       "grid_auto_rows": null,
       "grid_column": null,
       "grid_gap": null,
       "grid_row": null,
       "grid_template_areas": null,
       "grid_template_columns": null,
       "grid_template_rows": null,
       "height": null,
       "justify_content": null,
       "justify_items": null,
       "left": null,
       "margin": null,
       "max_height": null,
       "max_width": null,
       "min_height": null,
       "min_width": null,
       "object_fit": null,
       "object_position": null,
       "order": null,
       "overflow": null,
       "overflow_x": null,
       "overflow_y": null,
       "padding": null,
       "right": null,
       "top": null,
       "visibility": null,
       "width": null
      }
     },
     "3392ab3d38534e0abed90e09677dbcfd": {
      "model_module": "@jupyter-widgets/controls",
      "model_module_version": "1.5.0",
      "model_name": "PlayModel",
      "state": {
       "_dom_classes": [],
       "_model_module": "@jupyter-widgets/controls",
       "_model_module_version": "1.5.0",
       "_model_name": "PlayModel",
       "_playing": false,
       "_repeat": false,
       "_view_count": null,
       "_view_module": "@jupyter-widgets/controls",
       "_view_module_version": "1.5.0",
       "_view_name": "PlayView",
       "description": "",
       "description_tooltip": null,
       "disabled": false,
       "interval": 100,
       "layout": "IPY_MODEL_04846dc3804e48f7aac0c76ae08106ae",
       "max": 0,
       "min": 0,
       "show_repeat": true,
       "step": 1,
       "style": "IPY_MODEL_04f810e726be45739d1f8f7d4d44c8c4",
       "value": 0
      }
     },
     "34d3499b5581454280e68bee5cb4864c": {
      "model_module": "@jupyter-widgets/base",
      "model_module_version": "1.2.0",
      "model_name": "LayoutModel",
      "state": {
       "_model_module": "@jupyter-widgets/base",
       "_model_module_version": "1.2.0",
       "_model_name": "LayoutModel",
       "_view_count": null,
       "_view_module": "@jupyter-widgets/base",
       "_view_module_version": "1.2.0",
       "_view_name": "LayoutView",
       "align_content": null,
       "align_items": null,
       "align_self": null,
       "border": null,
       "bottom": null,
       "display": null,
       "flex": null,
       "flex_flow": null,
       "grid_area": null,
       "grid_auto_columns": null,
       "grid_auto_flow": null,
       "grid_auto_rows": null,
       "grid_column": null,
       "grid_gap": null,
       "grid_row": null,
       "grid_template_areas": null,
       "grid_template_columns": null,
       "grid_template_rows": null,
       "height": null,
       "justify_content": null,
       "justify_items": null,
       "left": null,
       "margin": null,
       "max_height": null,
       "max_width": null,
       "min_height": null,
       "min_width": null,
       "object_fit": null,
       "object_position": null,
       "order": null,
       "overflow": null,
       "overflow_x": null,
       "overflow_y": null,
       "padding": null,
       "right": null,
       "top": null,
       "visibility": null,
       "width": null
      }
     },
     "3b7105efb63c4100814f27a26c2ea578": {
      "buffers": [
       {
        "data": "",
        "encoding": "base64",
        "path": [
         "value"
        ]
       }
      ],
      "model_module": "@jupyter-widgets/controls",
      "model_module_version": "1.5.0",
      "model_name": "ImageModel",
      "state": {
       "_dom_classes": [],
       "_model_module": "@jupyter-widgets/controls",
       "_model_module_version": "1.5.0",
       "_model_name": "ImageModel",
       "_view_count": null,
       "_view_module": "@jupyter-widgets/controls",
       "_view_module_version": "1.5.0",
       "_view_name": "ImageView",
       "format": "png",
       "height": "",
       "layout": "IPY_MODEL_0a3a001c7a38435ab736e762102c196a",
       "value": {},
       "width": "900.0"
      }
     },
     "3ba906850d16481ba8ac682bc8e3c16f": {
      "model_module": "@jupyter-widgets/base",
      "model_module_version": "1.2.0",
      "model_name": "LayoutModel",
      "state": {
       "_model_module": "@jupyter-widgets/base",
       "_model_module_version": "1.2.0",
       "_model_name": "LayoutModel",
       "_view_count": null,
       "_view_module": "@jupyter-widgets/base",
       "_view_module_version": "1.2.0",
       "_view_name": "LayoutView",
       "align_content": null,
       "align_items": null,
       "align_self": null,
       "border": null,
       "bottom": null,
       "display": null,
       "flex": null,
       "flex_flow": null,
       "grid_area": null,
       "grid_auto_columns": null,
       "grid_auto_flow": null,
       "grid_auto_rows": null,
       "grid_column": null,
       "grid_gap": null,
       "grid_row": null,
       "grid_template_areas": null,
       "grid_template_columns": null,
       "grid_template_rows": null,
       "height": null,
       "justify_content": null,
       "justify_items": null,
       "left": null,
       "margin": null,
       "max_height": null,
       "max_width": null,
       "min_height": null,
       "min_width": null,
       "object_fit": null,
       "object_position": null,
       "order": null,
       "overflow": null,
       "overflow_x": null,
       "overflow_y": null,
       "padding": null,
       "right": null,
       "top": null,
       "visibility": null,
       "width": null
      }
     },
     "3ce938c4a0ba4034862849904e02e822": {
      "model_module": "@jupyter-widgets/base",
      "model_module_version": "1.2.0",
      "model_name": "LayoutModel",
      "state": {
       "_model_module": "@jupyter-widgets/base",
       "_model_module_version": "1.2.0",
       "_model_name": "LayoutModel",
       "_view_count": null,
       "_view_module": "@jupyter-widgets/base",
       "_view_module_version": "1.2.0",
       "_view_name": "LayoutView",
       "align_content": null,
       "align_items": null,
       "align_self": null,
       "border": null,
       "bottom": null,
       "display": null,
       "flex": null,
       "flex_flow": null,
       "grid_area": null,
       "grid_auto_columns": null,
       "grid_auto_flow": null,
       "grid_auto_rows": null,
       "grid_column": null,
       "grid_gap": null,
       "grid_row": null,
       "grid_template_areas": null,
       "grid_template_columns": null,
       "grid_template_rows": null,
       "height": null,
       "justify_content": null,
       "justify_items": null,
       "left": null,
       "margin": null,
       "max_height": null,
       "max_width": null,
       "min_height": null,
       "min_width": null,
       "object_fit": null,
       "object_position": null,
       "order": null,
       "overflow": null,
       "overflow_x": null,
       "overflow_y": null,
       "padding": null,
       "right": null,
       "top": null,
       "visibility": null,
       "width": null
      }
     },
     "3d8280e35ea94233b499505a01d71146": {
      "model_module": "@jupyter-widgets/controls",
      "model_module_version": "1.5.0",
      "model_name": "LinkModel",
      "state": {
       "_model_module": "@jupyter-widgets/controls",
       "_model_module_version": "1.5.0",
       "_model_name": "LinkModel",
       "_view_count": null,
       "_view_module": "@jupyter-widgets/controls",
       "_view_module_version": "1.5.0",
       "_view_name": null,
       "source": [
        "IPY_MODEL_a5e9b7a9dbcc4ffaa69b9a81ecefa897",
        "value"
       ],
       "target": [
        "IPY_MODEL_c6a54b1b5e924d46973babe90c4bf39f",
        "frame"
       ]
      }
     },
     "3e6d47df2431449a8652eab8ba8e490e": {
      "model_module": "@jupyter-widgets/controls",
      "model_module_version": "1.5.0",
      "model_name": "ButtonStyleModel",
      "state": {
       "_model_module": "@jupyter-widgets/controls",
       "_model_module_version": "1.5.0",
       "_model_name": "ButtonStyleModel",
       "_view_count": null,
       "_view_module": "@jupyter-widgets/base",
       "_view_module_version": "1.2.0",
       "_view_name": "StyleView",
       "button_color": null,
       "font_weight": ""
      }
     },
     "40935fac2aa44517a117ecef35809c37": {
      "model_module": "@jupyter-widgets/controls",
      "model_module_version": "1.5.0",
      "model_name": "IntSliderModel",
      "state": {
       "_dom_classes": [],
       "_model_module": "@jupyter-widgets/controls",
       "_model_module_version": "1.5.0",
       "_model_name": "IntSliderModel",
       "_view_count": null,
       "_view_module": "@jupyter-widgets/controls",
       "_view_module_version": "1.5.0",
       "_view_name": "IntSliderView",
       "continuous_update": true,
       "description": "",
       "description_tooltip": null,
       "disabled": false,
       "layout": "IPY_MODEL_799b560130a74561aa3f7b37b4985967",
       "max": 0,
       "min": 0,
       "orientation": "horizontal",
       "readout": true,
       "readout_format": "d",
       "step": 1,
       "style": "IPY_MODEL_0b36a6f3680e483fa1d3be16fea1f4cb",
       "value": 0
      }
     },
     "4a0f55b2a83c49d6945a5fd717e06d9f": {
      "model_module": "@jupyter-widgets/controls",
      "model_module_version": "1.5.0",
      "model_name": "LinkModel",
      "state": {
       "_model_module": "@jupyter-widgets/controls",
       "_model_module_version": "1.5.0",
       "_model_name": "LinkModel",
       "_view_count": null,
       "_view_module": "@jupyter-widgets/controls",
       "_view_module_version": "1.5.0",
       "_view_name": null,
       "source": [
        "IPY_MODEL_3392ab3d38534e0abed90e09677dbcfd",
        "value"
       ],
       "target": [
        "IPY_MODEL_1f2bd05117584795ba1fbd18725ecac8",
        "value"
       ]
      }
     },
     "4b9c16ee092e4137abe88efd943a8b56": {
      "model_module": "@jupyter-widgets/controls",
      "model_module_version": "1.5.0",
      "model_name": "DescriptionStyleModel",
      "state": {
       "_model_module": "@jupyter-widgets/controls",
       "_model_module_version": "1.5.0",
       "_model_name": "DescriptionStyleModel",
       "_view_count": null,
       "_view_module": "@jupyter-widgets/base",
       "_view_module_version": "1.2.0",
       "_view_name": "StyleView",
       "description_width": ""
      }
     },
     "4bac4b99117f4e9a8430f082c982879e": {
      "model_module": "@jupyter-widgets/base",
      "model_module_version": "1.2.0",
      "model_name": "LayoutModel",
      "state": {
       "_model_module": "@jupyter-widgets/base",
       "_model_module_version": "1.2.0",
       "_model_name": "LayoutModel",
       "_view_count": null,
       "_view_module": "@jupyter-widgets/base",
       "_view_module_version": "1.2.0",
       "_view_name": "LayoutView",
       "align_content": null,
       "align_items": null,
       "align_self": null,
       "border": null,
       "bottom": null,
       "display": null,
       "flex": null,
       "flex_flow": null,
       "grid_area": null,
       "grid_auto_columns": null,
       "grid_auto_flow": null,
       "grid_auto_rows": null,
       "grid_column": null,
       "grid_gap": null,
       "grid_row": null,
       "grid_template_areas": null,
       "grid_template_columns": null,
       "grid_template_rows": null,
       "height": null,
       "justify_content": null,
       "justify_items": null,
       "left": null,
       "margin": null,
       "max_height": null,
       "max_width": null,
       "min_height": null,
       "min_width": null,
       "object_fit": null,
       "object_position": null,
       "order": null,
       "overflow": null,
       "overflow_x": null,
       "overflow_y": null,
       "padding": null,
       "right": null,
       "top": null,
       "visibility": null,
       "width": null
      }
     },
     "51e10005d90b4d24bcc7cd43a4d08c9f": {
      "model_module": "@jupyter-widgets/controls",
      "model_module_version": "1.5.0",
      "model_name": "LinkModel",
      "state": {
       "_model_module": "@jupyter-widgets/controls",
       "_model_module_version": "1.5.0",
       "_model_name": "LinkModel",
       "_view_count": null,
       "_view_module": "@jupyter-widgets/controls",
       "_view_module_version": "1.5.0",
       "_view_name": null,
       "source": [
        "IPY_MODEL_3392ab3d38534e0abed90e09677dbcfd",
        "max"
       ],
       "target": [
        "IPY_MODEL_0f3d2594819245da880721fe8431aa84",
        "max_frame"
       ]
      }
     },
     "53e224994507418192c885d729db2806": {
      "model_module": "@jupyter-widgets/controls",
      "model_module_version": "1.5.0",
      "model_name": "LinkModel",
      "state": {
       "_model_module": "@jupyter-widgets/controls",
       "_model_module_version": "1.5.0",
       "_model_name": "LinkModel",
       "_view_count": null,
       "_view_module": "@jupyter-widgets/controls",
       "_view_module_version": "1.5.0",
       "_view_name": null,
       "source": [
        "IPY_MODEL_a5e9b7a9dbcc4ffaa69b9a81ecefa897",
        "max"
       ],
       "target": [
        "IPY_MODEL_c6a54b1b5e924d46973babe90c4bf39f",
        "max_frame"
       ]
      }
     },
     "55e910b200794cc8a10c86072c9544e4": {
      "model_module": "@jupyter-widgets/base",
      "model_module_version": "1.2.0",
      "model_name": "LayoutModel",
      "state": {
       "_model_module": "@jupyter-widgets/base",
       "_model_module_version": "1.2.0",
       "_model_name": "LayoutModel",
       "_view_count": null,
       "_view_module": "@jupyter-widgets/base",
       "_view_module_version": "1.2.0",
       "_view_name": "LayoutView",
       "align_content": null,
       "align_items": null,
       "align_self": null,
       "border": null,
       "bottom": null,
       "display": null,
       "flex": null,
       "flex_flow": null,
       "grid_area": null,
       "grid_auto_columns": null,
       "grid_auto_flow": null,
       "grid_auto_rows": null,
       "grid_column": null,
       "grid_gap": null,
       "grid_row": null,
       "grid_template_areas": null,
       "grid_template_columns": null,
       "grid_template_rows": null,
       "height": null,
       "justify_content": null,
       "justify_items": null,
       "left": null,
       "margin": null,
       "max_height": null,
       "max_width": null,
       "min_height": null,
       "min_width": null,
       "object_fit": null,
       "object_position": null,
       "order": null,
       "overflow": null,
       "overflow_x": null,
       "overflow_y": null,
       "padding": null,
       "right": null,
       "top": null,
       "visibility": null,
       "width": "34px"
      }
     },
     "58a56f326eab4e0daa6c43262ac8ebfc": {
      "model_module": "@jupyter-widgets/controls",
      "model_module_version": "1.5.0",
      "model_name": "HBoxModel",
      "state": {
       "_dom_classes": [],
       "_model_module": "@jupyter-widgets/controls",
       "_model_module_version": "1.5.0",
       "_model_name": "HBoxModel",
       "_view_count": null,
       "_view_module": "@jupyter-widgets/controls",
       "_view_module_version": "1.5.0",
       "_view_name": "HBoxView",
       "box_style": "",
       "children": [
        "IPY_MODEL_8a8de429255a44739050b06459f86f24",
        "IPY_MODEL_7e27677c69864b23aeb2619c48924c9b"
       ],
       "layout": "IPY_MODEL_1e2055898bf048709d6f5960e5e768ae"
      }
     },
     "5c6de506e86a4f7096afbe269e008f98": {
      "model_module": "@jupyter-widgets/base",
      "model_module_version": "1.2.0",
      "model_name": "LayoutModel",
      "state": {
       "_model_module": "@jupyter-widgets/base",
       "_model_module_version": "1.2.0",
       "_model_name": "LayoutModel",
       "_view_count": null,
       "_view_module": "@jupyter-widgets/base",
       "_view_module_version": "1.2.0",
       "_view_name": "LayoutView",
       "align_content": null,
       "align_items": null,
       "align_self": null,
       "border": null,
       "bottom": null,
       "display": null,
       "flex": null,
       "flex_flow": null,
       "grid_area": null,
       "grid_auto_columns": null,
       "grid_auto_flow": null,
       "grid_auto_rows": null,
       "grid_column": null,
       "grid_gap": null,
       "grid_row": null,
       "grid_template_areas": null,
       "grid_template_columns": null,
       "grid_template_rows": null,
       "height": null,
       "justify_content": null,
       "justify_items": null,
       "left": null,
       "margin": null,
       "max_height": null,
       "max_width": null,
       "min_height": null,
       "min_width": null,
       "object_fit": null,
       "object_position": null,
       "order": null,
       "overflow": null,
       "overflow_x": null,
       "overflow_y": null,
       "padding": null,
       "right": null,
       "top": null,
       "visibility": null,
       "width": null
      }
     },
     "600732b19df240148b2ce533e3828dcb": {
      "model_module": "@jupyter-widgets/base",
      "model_module_version": "1.2.0",
      "model_name": "LayoutModel",
      "state": {
       "_model_module": "@jupyter-widgets/base",
       "_model_module_version": "1.2.0",
       "_model_name": "LayoutModel",
       "_view_count": null,
       "_view_module": "@jupyter-widgets/base",
       "_view_module_version": "1.2.0",
       "_view_name": "LayoutView",
       "align_content": null,
       "align_items": null,
       "align_self": null,
       "border": null,
       "bottom": null,
       "display": null,
       "flex": null,
       "flex_flow": null,
       "grid_area": null,
       "grid_auto_columns": null,
       "grid_auto_flow": null,
       "grid_auto_rows": null,
       "grid_column": null,
       "grid_gap": null,
       "grid_row": null,
       "grid_template_areas": null,
       "grid_template_columns": null,
       "grid_template_rows": null,
       "height": null,
       "justify_content": null,
       "justify_items": null,
       "left": null,
       "margin": null,
       "max_height": null,
       "max_width": null,
       "min_height": null,
       "min_width": null,
       "object_fit": null,
       "object_position": null,
       "order": null,
       "overflow": null,
       "overflow_x": null,
       "overflow_y": null,
       "padding": null,
       "right": null,
       "top": null,
       "visibility": null,
       "width": null
      }
     },
     "6047c4635a2d43688018cda7914e3921": {
      "model_module": "@jupyter-widgets/controls",
      "model_module_version": "1.5.0",
      "model_name": "LinkModel",
      "state": {
       "_model_module": "@jupyter-widgets/controls",
       "_model_module_version": "1.5.0",
       "_model_name": "LinkModel",
       "_view_count": null,
       "_view_module": "@jupyter-widgets/controls",
       "_view_module_version": "1.5.0",
       "_view_name": null,
       "source": [
        "IPY_MODEL_eebc6a9d9974430ab145cf5b469b1c0c",
        "max"
       ],
       "target": [
        "IPY_MODEL_0552981d2d354939a400f84a29734648",
        "max_frame"
       ]
      }
     },
     "604b3716da284016b79f973b96e4f15a": {
      "model_module": "@jupyter-widgets/base",
      "model_module_version": "1.2.0",
      "model_name": "LayoutModel",
      "state": {
       "_model_module": "@jupyter-widgets/base",
       "_model_module_version": "1.2.0",
       "_model_name": "LayoutModel",
       "_view_count": null,
       "_view_module": "@jupyter-widgets/base",
       "_view_module_version": "1.2.0",
       "_view_name": "LayoutView",
       "align_content": null,
       "align_items": null,
       "align_self": null,
       "border": null,
       "bottom": null,
       "display": null,
       "flex": null,
       "flex_flow": null,
       "grid_area": null,
       "grid_auto_columns": null,
       "grid_auto_flow": null,
       "grid_auto_rows": null,
       "grid_column": null,
       "grid_gap": null,
       "grid_row": null,
       "grid_template_areas": null,
       "grid_template_columns": null,
       "grid_template_rows": null,
       "height": null,
       "justify_content": null,
       "justify_items": null,
       "left": null,
       "margin": null,
       "max_height": null,
       "max_width": null,
       "min_height": null,
       "min_width": null,
       "object_fit": null,
       "object_position": null,
       "order": null,
       "overflow": null,
       "overflow_x": null,
       "overflow_y": null,
       "padding": null,
       "right": null,
       "top": null,
       "visibility": null,
       "width": null
      }
     },
     "61968ba2e2314ef5aef98f4330a5a166": {
      "model_module": "@jupyter-widgets/controls",
      "model_module_version": "1.5.0",
      "model_name": "LinkModel",
      "state": {
       "_model_module": "@jupyter-widgets/controls",
       "_model_module_version": "1.5.0",
       "_model_name": "LinkModel",
       "_view_count": null,
       "_view_module": "@jupyter-widgets/controls",
       "_view_module_version": "1.5.0",
       "_view_name": null,
       "source": [
        "IPY_MODEL_eebc6a9d9974430ab145cf5b469b1c0c",
        "value"
       ],
       "target": [
        "IPY_MODEL_40935fac2aa44517a117ecef35809c37",
        "value"
       ]
      }
     },
     "64fa0871f49e4ed890ffa31729799935": {
      "model_module": "@jupyter-widgets/controls",
      "model_module_version": "1.5.0",
      "model_name": "LinkModel",
      "state": {
       "_model_module": "@jupyter-widgets/controls",
       "_model_module_version": "1.5.0",
       "_model_name": "LinkModel",
       "_view_count": null,
       "_view_module": "@jupyter-widgets/controls",
       "_view_module_version": "1.5.0",
       "_view_name": null,
       "source": [
        "IPY_MODEL_8a8de429255a44739050b06459f86f24",
        "max"
       ],
       "target": [
        "IPY_MODEL_6e033070cc69409c8aac3c8f4f98a9b5",
        "max_frame"
       ]
      }
     },
     "6713f3a09e604e7091c661ee8f081456": {
      "model_module": "@jupyter-widgets/controls",
      "model_module_version": "1.5.0",
      "model_name": "LinkModel",
      "state": {
       "_model_module": "@jupyter-widgets/controls",
       "_model_module_version": "1.5.0",
       "_model_name": "LinkModel",
       "_view_count": null,
       "_view_module": "@jupyter-widgets/controls",
       "_view_module_version": "1.5.0",
       "_view_name": null,
       "source": [
        "IPY_MODEL_c98aba0526e84754b1ab77514a0fa45e",
        "max"
       ],
       "target": [
        "IPY_MODEL_205091d596c94cb0b1cd1a9dbe26dfbe",
        "max_frame"
       ]
      }
     },
     "697f327caf8f4d5787b5ca3d9e8c4b52": {
      "model_module": "@jupyter-widgets/base",
      "model_module_version": "1.2.0",
      "model_name": "LayoutModel",
      "state": {
       "_model_module": "@jupyter-widgets/base",
       "_model_module_version": "1.2.0",
       "_model_name": "LayoutModel",
       "_view_count": null,
       "_view_module": "@jupyter-widgets/base",
       "_view_module_version": "1.2.0",
       "_view_name": "LayoutView",
       "align_content": null,
       "align_items": null,
       "align_self": null,
       "border": null,
       "bottom": null,
       "display": null,
       "flex": null,
       "flex_flow": null,
       "grid_area": null,
       "grid_auto_columns": null,
       "grid_auto_flow": null,
       "grid_auto_rows": null,
       "grid_column": null,
       "grid_gap": null,
       "grid_row": null,
       "grid_template_areas": null,
       "grid_template_columns": null,
       "grid_template_rows": null,
       "height": null,
       "justify_content": null,
       "justify_items": null,
       "left": null,
       "margin": null,
       "max_height": null,
       "max_width": null,
       "min_height": null,
       "min_width": null,
       "object_fit": null,
       "object_position": null,
       "order": null,
       "overflow": null,
       "overflow_x": null,
       "overflow_y": null,
       "padding": null,
       "right": null,
       "top": null,
       "visibility": null,
       "width": null
      }
     },
     "6e033070cc69409c8aac3c8f4f98a9b5": {
      "model_module": "nglview-js-widgets",
      "model_module_version": "3.0.1",
      "model_name": "NGLModel",
      "state": {
       "_camera_orientation": [],
       "_camera_str": "orthographic",
       "_dom_classes": [],
       "_gui_theme": null,
       "_ibtn_fullscreen": "IPY_MODEL_825c15a4a2714168be0b62dbd2267fc1",
       "_igui": null,
       "_iplayer": "IPY_MODEL_58a56f326eab4e0daa6c43262ac8ebfc",
       "_model_module": "nglview-js-widgets",
       "_model_module_version": "3.0.1",
       "_model_name": "NGLModel",
       "_ngl_color_dict": {},
       "_ngl_coordinate_resource": {},
       "_ngl_full_stage_parameters": {},
       "_ngl_msg_archive": [
        {
         "args": [
          {
           "binary": false,
           "data": "HETATM    1  C1  UNL     1       4.956   2.445  -0.301  1.00  0.00           C  \nHETATM    2  C2  UNL     1       4.524   0.967  -0.289  1.00  0.00           C  \nHETATM    3  C3  UNL     1       5.320   0.178   0.763  1.00  0.00           C  \nHETATM    4  C4  UNL     1       4.915   0.483  -1.696  1.00  0.00           C  \nHETATM    5  C5  UNL     1       3.016   0.789   0.023  1.00  0.00           C  \nHETATM    6  C6  UNL     1       2.351   1.643   0.953  1.00  0.00           C  \nHETATM    7  O1  UNL     1       3.007   2.630   1.646  1.00  0.00           O  \nHETATM    8  C7  UNL     1       0.987   1.490   1.246  1.00  0.00           C  \nHETATM    9  O2  UNL     1       0.328   2.319   2.137  1.00  0.00           O  \nHETATM   10  C8  UNL     1       0.305   0.461   0.619  1.00  0.00           C  \nHETATM   11  C9  UNL     1       0.890  -0.429  -0.260  1.00  0.00           C  \nHETATM   12  C10 UNL     1       2.255  -0.282  -0.536  1.00  0.00           C  \nHETATM   13  O3  UNL     1       2.813  -1.247  -1.330  1.00  0.00           O  \nHETATM   14  C11 UNL     1       0.029  -1.541  -0.889  1.00  0.00           C  \nHETATM   15  O4  UNL     1       0.150  -2.773  -0.229  1.00  0.00           O  \nHETATM   16  C12 UNL     1      -0.288  -4.005   0.257  1.00  0.00           C  \nHETATM   17  C13 UNL     1      -1.771  -4.034  -0.104  1.00  0.00           C  \nHETATM   18  C14 UNL     1      -2.305  -2.802  -0.910  1.00  0.00           C  \nHETATM   19  C15 UNL     1      -1.566  -1.410  -0.811  1.00  0.00           C  \nHETATM   20  C16 UNL     1      -2.096  -0.714   0.478  1.00  0.00           C  \nHETATM   21  C17 UNL     1      -3.378   0.057   0.242  1.00  0.00           C  \nHETATM   22  C18 UNL     1      -4.601  -0.457   0.697  1.00  0.00           C  \nHETATM   23  C19 UNL     1      -5.796   0.234   0.485  1.00  0.00           C  \nHETATM   24  O5  UNL     1      -6.964  -0.311   0.951  1.00  0.00           O  \nHETATM   25  C20 UNL     1      -5.783   1.464  -0.195  1.00  0.00           C  \nHETATM   26  O6  UNL     1      -6.944   2.165  -0.419  1.00  0.00           O  \nHETATM   27  C21 UNL     1      -4.568   1.987  -0.653  1.00  0.00           C  \nHETATM   28  F1  UNL     1      -4.441  10.760  -5.450  1.00  0.00           F  \nHETATM   29  C22 UNL     1      -3.378   1.286  -0.438  1.00  0.00           C  \nHETATM   30  N1  UNL     1      -1.000   0.155   0.805  1.00  0.00           N  \nHETATM   31  H1  UNL     1       5.761   2.856   0.315  1.00  0.00           H  \nHETATM   32  H2  UNL     1       5.852   2.832  -0.793  1.00  0.00           H  \nHETATM   33  H3  UNL     1       6.047   2.444  -0.221  1.00  0.00           H  \nHETATM   34  H4  UNL     1       5.686   0.597   1.704  1.00  0.00           H  \nHETATM   35  H5  UNL     1       4.972   0.541   1.734  1.00  0.00           H  \nHETATM   36  H6  UNL     1       4.900  -0.185   1.705  1.00  0.00           H  \nHETATM   37  H7  UNL     1       5.855   0.719  -2.203  1.00  0.00           H  \nHETATM   38  H8  UNL     1       5.987   0.270  -1.662  1.00  0.00           H  \nHETATM   39  H9  UNL     1       5.624  -0.327  -1.892  1.00  0.00           H  \nHETATM   40  H10 UNL     1       3.446   3.335   2.150  1.00  0.00           H  \nHETATM   41  H11 UNL     1      -0.107   2.917   2.767  1.00  0.00           H  \nHETATM   42  H12 UNL     1       3.186  -1.943  -1.896  1.00  0.00           H  \nHETATM   43  H13 UNL     1       0.318  -1.657  -1.937  1.00  0.00           H  \nHETATM   44  H14 UNL     1       0.113  -4.460   1.167  1.00  0.00           H  \nHETATM   45  H15 UNL     1       0.344  -4.897   0.293  1.00  0.00           H  \nHETATM   46  H16 UNL     1      -2.459  -4.560   0.564  1.00  0.00           H  \nHETATM   47  H17 UNL     1      -2.259  -5.004  -0.237  1.00  0.00           H  \nHETATM   48  H18 UNL     1      -2.824  -3.018  -1.849  1.00  0.00           H  \nHETATM   49  H19 UNL     1      -3.375  -2.783  -1.134  1.00  0.00           H  \nHETATM   50  H20 UNL     1      -1.859  -0.796  -1.668  1.00  0.00           H  \nHETATM   51  H21 UNL     1      -2.228  -1.445   1.281  1.00  0.00           H  \nHETATM   52  H22 UNL     1      -4.632  -1.407   1.222  1.00  0.00           H  \nHETATM   53  H23 UNL     1      -7.786  -0.707   1.285  1.00  0.00           H  \nHETATM   54  H24 UNL     1      -7.773   2.648  -0.569  1.00  0.00           H  \nHETATM   55  H25 UNL     1      -2.444   1.701  -0.803  1.00  0.00           H  \nHETATM   56  H26 UNL     1      -1.325   0.835   1.490  1.00  0.00           H  \nCONECT    1    2   31   32   33\nCONECT    2    3    4    5\nCONECT    3   34   35   36\nCONECT    4   37   38   39\nCONECT    5    6    6   12\nCONECT    6    7    8\nCONECT    7   40\nCONECT    8    9   10   10\nCONECT    9   41\nCONECT   10   11   30\nCONECT   11   12   12   14\nCONECT   12   13\nCONECT   13   42\nCONECT   14   15   19   43\nCONECT   15   16\nCONECT   16   17   44   45\nCONECT   17   18   46   47\nCONECT   18   19   48   49\nCONECT   19   20   50\nCONECT   20   21   30   51\nCONECT   21   22   22   29\nCONECT   22   23   52\nCONECT   23   24   25   25\nCONECT   24   53\nCONECT   25   26   27\nCONECT   26   54\nCONECT   27   28   29   29\nCONECT   29   55\nCONECT   30   56\n",
           "type": "blob"
          }
         ],
         "kwargs": {
          "defaultRepresentation": true,
          "ext": "pdb",
          "name": "<openff.toolkit.utils.viz._OFFTrajectoryNGLView object at 0x140716160>"
         },
         "methodName": "loadFile",
         "reconstruc_color_scheme": false,
         "target": "Stage",
         "type": "call_method"
        }
       ],
       "_ngl_original_stage_parameters": {},
       "_ngl_repr_dict": {},
       "_ngl_serialize": false,
       "_ngl_version": "",
       "_ngl_view_id": [],
       "_player_dict": {},
       "_scene_position": {},
       "_scene_rotation": {},
       "_synced_model_ids": [],
       "_synced_repr_model_ids": [],
       "_view_count": null,
       "_view_height": "",
       "_view_module": "nglview-js-widgets",
       "_view_module_version": "3.0.1",
       "_view_name": "NGLView",
       "_view_width": "",
       "background": "white",
       "frame": 0,
       "gui_style": null,
       "layout": "IPY_MODEL_076ced9a736d4df092fe40fa4f3e6aa5",
       "max_frame": 0,
       "n_components": 0,
       "picked": {}
      }
     },
     "6fa42f971e94419ca41bb3ecd3e4ed07": {
      "model_module": "@jupyter-widgets/controls",
      "model_module_version": "1.5.0",
      "model_name": "LinkModel",
      "state": {
       "_model_module": "@jupyter-widgets/controls",
       "_model_module_version": "1.5.0",
       "_model_name": "LinkModel",
       "_view_count": null,
       "_view_module": "@jupyter-widgets/controls",
       "_view_module_version": "1.5.0",
       "_view_name": null,
       "source": [
        "IPY_MODEL_23087e43af7349fcbeccebf533e65476",
        "value"
       ],
       "target": [
        "IPY_MODEL_c98aba0526e84754b1ab77514a0fa45e",
        "value"
       ]
      }
     },
     "72292cd89a8744289f7931b842afd94c": {
      "model_module": "@jupyter-widgets/base",
      "model_module_version": "1.2.0",
      "model_name": "LayoutModel",
      "state": {
       "_model_module": "@jupyter-widgets/base",
       "_model_module_version": "1.2.0",
       "_model_name": "LayoutModel",
       "_view_count": null,
       "_view_module": "@jupyter-widgets/base",
       "_view_module_version": "1.2.0",
       "_view_name": "LayoutView",
       "align_content": null,
       "align_items": null,
       "align_self": null,
       "border": null,
       "bottom": null,
       "display": null,
       "flex": null,
       "flex_flow": null,
       "grid_area": null,
       "grid_auto_columns": null,
       "grid_auto_flow": null,
       "grid_auto_rows": null,
       "grid_column": null,
       "grid_gap": null,
       "grid_row": null,
       "grid_template_areas": null,
       "grid_template_columns": null,
       "grid_template_rows": null,
       "height": null,
       "justify_content": null,
       "justify_items": null,
       "left": null,
       "margin": null,
       "max_height": null,
       "max_width": null,
       "min_height": null,
       "min_width": null,
       "object_fit": null,
       "object_position": null,
       "order": null,
       "overflow": null,
       "overflow_x": null,
       "overflow_y": null,
       "padding": null,
       "right": null,
       "top": null,
       "visibility": null,
       "width": null
      }
     },
     "799b560130a74561aa3f7b37b4985967": {
      "model_module": "@jupyter-widgets/base",
      "model_module_version": "1.2.0",
      "model_name": "LayoutModel",
      "state": {
       "_model_module": "@jupyter-widgets/base",
       "_model_module_version": "1.2.0",
       "_model_name": "LayoutModel",
       "_view_count": null,
       "_view_module": "@jupyter-widgets/base",
       "_view_module_version": "1.2.0",
       "_view_name": "LayoutView",
       "align_content": null,
       "align_items": null,
       "align_self": null,
       "border": null,
       "bottom": null,
       "display": null,
       "flex": null,
       "flex_flow": null,
       "grid_area": null,
       "grid_auto_columns": null,
       "grid_auto_flow": null,
       "grid_auto_rows": null,
       "grid_column": null,
       "grid_gap": null,
       "grid_row": null,
       "grid_template_areas": null,
       "grid_template_columns": null,
       "grid_template_rows": null,
       "height": null,
       "justify_content": null,
       "justify_items": null,
       "left": null,
       "margin": null,
       "max_height": null,
       "max_width": null,
       "min_height": null,
       "min_width": null,
       "object_fit": null,
       "object_position": null,
       "order": null,
       "overflow": null,
       "overflow_x": null,
       "overflow_y": null,
       "padding": null,
       "right": null,
       "top": null,
       "visibility": null,
       "width": null
      }
     },
     "7e27677c69864b23aeb2619c48924c9b": {
      "model_module": "@jupyter-widgets/controls",
      "model_module_version": "1.5.0",
      "model_name": "IntSliderModel",
      "state": {
       "_dom_classes": [],
       "_model_module": "@jupyter-widgets/controls",
       "_model_module_version": "1.5.0",
       "_model_name": "IntSliderModel",
       "_view_count": null,
       "_view_module": "@jupyter-widgets/controls",
       "_view_module_version": "1.5.0",
       "_view_name": "IntSliderView",
       "continuous_update": true,
       "description": "",
       "description_tooltip": null,
       "disabled": false,
       "layout": "IPY_MODEL_30b533f2a4874f04855e6b76aa96f8f2",
       "max": 0,
       "min": 0,
       "orientation": "horizontal",
       "readout": true,
       "readout_format": "d",
       "step": 1,
       "style": "IPY_MODEL_f03d0b5901674a30a358b08ca81b6895",
       "value": 0
      }
     },
     "7f1ffeedb142487484a9ff481e23bbc8": {
      "model_module": "@jupyter-widgets/base",
      "model_module_version": "1.2.0",
      "model_name": "LayoutModel",
      "state": {
       "_model_module": "@jupyter-widgets/base",
       "_model_module_version": "1.2.0",
       "_model_name": "LayoutModel",
       "_view_count": null,
       "_view_module": "@jupyter-widgets/base",
       "_view_module_version": "1.2.0",
       "_view_name": "LayoutView",
       "align_content": null,
       "align_items": null,
       "align_self": null,
       "border": null,
       "bottom": null,
       "display": null,
       "flex": null,
       "flex_flow": null,
       "grid_area": null,
       "grid_auto_columns": null,
       "grid_auto_flow": null,
       "grid_auto_rows": null,
       "grid_column": null,
       "grid_gap": null,
       "grid_row": null,
       "grid_template_areas": null,
       "grid_template_columns": null,
       "grid_template_rows": null,
       "height": null,
       "justify_content": null,
       "justify_items": null,
       "left": null,
       "margin": null,
       "max_height": null,
       "max_width": null,
       "min_height": null,
       "min_width": null,
       "object_fit": null,
       "object_position": null,
       "order": null,
       "overflow": null,
       "overflow_x": null,
       "overflow_y": null,
       "padding": null,
       "right": null,
       "top": null,
       "visibility": null,
       "width": null
      }
     },
     "825c15a4a2714168be0b62dbd2267fc1": {
      "model_module": "@jupyter-widgets/controls",
      "model_module_version": "1.5.0",
      "model_name": "ButtonModel",
      "state": {
       "_dom_classes": [],
       "_model_module": "@jupyter-widgets/controls",
       "_model_module_version": "1.5.0",
       "_model_name": "ButtonModel",
       "_view_count": null,
       "_view_module": "@jupyter-widgets/controls",
       "_view_module_version": "1.5.0",
       "_view_name": "ButtonView",
       "button_style": "",
       "description": "",
       "disabled": false,
       "icon": "compress",
       "layout": "IPY_MODEL_881944418a704471ae766a3b76830338",
       "style": "IPY_MODEL_9e0c682e42414677ba1bc1d1e3bf1ef9",
       "tooltip": ""
      }
     },
     "85d9e801b09644a39d6414f38e8e178e": {
      "model_module": "@jupyter-widgets/base",
      "model_module_version": "1.2.0",
      "model_name": "LayoutModel",
      "state": {
       "_model_module": "@jupyter-widgets/base",
       "_model_module_version": "1.2.0",
       "_model_name": "LayoutModel",
       "_view_count": null,
       "_view_module": "@jupyter-widgets/base",
       "_view_module_version": "1.2.0",
       "_view_name": "LayoutView",
       "align_content": null,
       "align_items": null,
       "align_self": null,
       "border": null,
       "bottom": null,
       "display": null,
       "flex": null,
       "flex_flow": null,
       "grid_area": null,
       "grid_auto_columns": null,
       "grid_auto_flow": null,
       "grid_auto_rows": null,
       "grid_column": null,
       "grid_gap": null,
       "grid_row": null,
       "grid_template_areas": null,
       "grid_template_columns": null,
       "grid_template_rows": null,
       "height": null,
       "justify_content": null,
       "justify_items": null,
       "left": null,
       "margin": null,
       "max_height": null,
       "max_width": null,
       "min_height": null,
       "min_width": null,
       "object_fit": null,
       "object_position": null,
       "order": null,
       "overflow": null,
       "overflow_x": null,
       "overflow_y": null,
       "padding": null,
       "right": null,
       "top": null,
       "visibility": null,
       "width": null
      }
     },
     "866e2ae0461040809123f61949688127": {
      "buffers": [
       {
        "data": "",
        "encoding": "base64",
        "path": [
         "value"
        ]
       }
      ],
      "model_module": "@jupyter-widgets/controls",
      "model_module_version": "1.5.0",
      "model_name": "ImageModel",
      "state": {
       "_dom_classes": [],
       "_model_module": "@jupyter-widgets/controls",
       "_model_module_version": "1.5.0",
       "_model_name": "ImageModel",
       "_view_count": null,
       "_view_module": "@jupyter-widgets/controls",
       "_view_module_version": "1.5.0",
       "_view_name": "ImageView",
       "format": "png",
       "height": "",
       "layout": "IPY_MODEL_bc270085d2a34cdb94716b59b27e4d51",
       "value": {},
       "width": "900.0"
      }
     },
     "86e6344c1d4c49c492c140e365c00fbe": {
      "model_module": "@jupyter-widgets/base",
      "model_module_version": "1.2.0",
      "model_name": "LayoutModel",
      "state": {
       "_model_module": "@jupyter-widgets/base",
       "_model_module_version": "1.2.0",
       "_model_name": "LayoutModel",
       "_view_count": null,
       "_view_module": "@jupyter-widgets/base",
       "_view_module_version": "1.2.0",
       "_view_name": "LayoutView",
       "align_content": null,
       "align_items": null,
       "align_self": null,
       "border": null,
       "bottom": null,
       "display": null,
       "flex": null,
       "flex_flow": null,
       "grid_area": null,
       "grid_auto_columns": null,
       "grid_auto_flow": null,
       "grid_auto_rows": null,
       "grid_column": null,
       "grid_gap": null,
       "grid_row": null,
       "grid_template_areas": null,
       "grid_template_columns": null,
       "grid_template_rows": null,
       "height": null,
       "justify_content": null,
       "justify_items": null,
       "left": null,
       "margin": null,
       "max_height": null,
       "max_width": null,
       "min_height": null,
       "min_width": null,
       "object_fit": null,
       "object_position": null,
       "order": null,
       "overflow": null,
       "overflow_x": null,
       "overflow_y": null,
       "padding": null,
       "right": null,
       "top": null,
       "visibility": null,
       "width": "34px"
      }
     },
     "881944418a704471ae766a3b76830338": {
      "model_module": "@jupyter-widgets/base",
      "model_module_version": "1.2.0",
      "model_name": "LayoutModel",
      "state": {
       "_model_module": "@jupyter-widgets/base",
       "_model_module_version": "1.2.0",
       "_model_name": "LayoutModel",
       "_view_count": null,
       "_view_module": "@jupyter-widgets/base",
       "_view_module_version": "1.2.0",
       "_view_name": "LayoutView",
       "align_content": null,
       "align_items": null,
       "align_self": null,
       "border": null,
       "bottom": null,
       "display": null,
       "flex": null,
       "flex_flow": null,
       "grid_area": null,
       "grid_auto_columns": null,
       "grid_auto_flow": null,
       "grid_auto_rows": null,
       "grid_column": null,
       "grid_gap": null,
       "grid_row": null,
       "grid_template_areas": null,
       "grid_template_columns": null,
       "grid_template_rows": null,
       "height": null,
       "justify_content": null,
       "justify_items": null,
       "left": null,
       "margin": null,
       "max_height": null,
       "max_width": null,
       "min_height": null,
       "min_width": null,
       "object_fit": null,
       "object_position": null,
       "order": null,
       "overflow": null,
       "overflow_x": null,
       "overflow_y": null,
       "padding": null,
       "right": null,
       "top": null,
       "visibility": null,
       "width": "34px"
      }
     },
     "891987980f944c10a9745a905d470d7b": {
      "model_module": "@jupyter-widgets/base",
      "model_module_version": "1.2.0",
      "model_name": "LayoutModel",
      "state": {
       "_model_module": "@jupyter-widgets/base",
       "_model_module_version": "1.2.0",
       "_model_name": "LayoutModel",
       "_view_count": null,
       "_view_module": "@jupyter-widgets/base",
       "_view_module_version": "1.2.0",
       "_view_name": "LayoutView",
       "align_content": null,
       "align_items": null,
       "align_self": null,
       "border": null,
       "bottom": null,
       "display": null,
       "flex": null,
       "flex_flow": null,
       "grid_area": null,
       "grid_auto_columns": null,
       "grid_auto_flow": null,
       "grid_auto_rows": null,
       "grid_column": null,
       "grid_gap": null,
       "grid_row": null,
       "grid_template_areas": null,
       "grid_template_columns": null,
       "grid_template_rows": null,
       "height": null,
       "justify_content": null,
       "justify_items": null,
       "left": null,
       "margin": null,
       "max_height": null,
       "max_width": null,
       "min_height": null,
       "min_width": null,
       "object_fit": null,
       "object_position": null,
       "order": null,
       "overflow": null,
       "overflow_x": null,
       "overflow_y": null,
       "padding": null,
       "right": null,
       "top": null,
       "visibility": null,
       "width": "34px"
      }
     },
     "8a8de429255a44739050b06459f86f24": {
      "model_module": "@jupyter-widgets/controls",
      "model_module_version": "1.5.0",
      "model_name": "PlayModel",
      "state": {
       "_dom_classes": [],
       "_model_module": "@jupyter-widgets/controls",
       "_model_module_version": "1.5.0",
       "_model_name": "PlayModel",
       "_playing": false,
       "_repeat": false,
       "_view_count": null,
       "_view_module": "@jupyter-widgets/controls",
       "_view_module_version": "1.5.0",
       "_view_name": "PlayView",
       "description": "",
       "description_tooltip": null,
       "disabled": false,
       "interval": 100,
       "layout": "IPY_MODEL_3ce938c4a0ba4034862849904e02e822",
       "max": 0,
       "min": 0,
       "show_repeat": true,
       "step": 1,
       "style": "IPY_MODEL_e51b0351b65349a5b31a5d04e6a17b72",
       "value": 0
      }
     },
     "8b0efe9a674e4431922cc7519bcbc917": {
      "model_module": "@jupyter-widgets/controls",
      "model_module_version": "1.5.0",
      "model_name": "SliderStyleModel",
      "state": {
       "_model_module": "@jupyter-widgets/controls",
       "_model_module_version": "1.5.0",
       "_model_name": "SliderStyleModel",
       "_view_count": null,
       "_view_module": "@jupyter-widgets/base",
       "_view_module_version": "1.2.0",
       "_view_name": "StyleView",
       "description_width": "",
       "handle_color": null
      }
     },
     "8e20604faa634a519db5b405d0cd3ab1": {
      "model_module": "@jupyter-widgets/controls",
      "model_module_version": "1.5.0",
      "model_name": "LinkModel",
      "state": {
       "_model_module": "@jupyter-widgets/controls",
       "_model_module_version": "1.5.0",
       "_model_name": "LinkModel",
       "_view_count": null,
       "_view_module": "@jupyter-widgets/controls",
       "_view_module_version": "1.5.0",
       "_view_name": null,
       "source": [
        "IPY_MODEL_7e27677c69864b23aeb2619c48924c9b",
        "max"
       ],
       "target": [
        "IPY_MODEL_6e033070cc69409c8aac3c8f4f98a9b5",
        "max_frame"
       ]
      }
     },
     "8ee42f12b4b94d30a19112bfffce9c5f": {
      "model_module": "@jupyter-widgets/base",
      "model_module_version": "1.2.0",
      "model_name": "LayoutModel",
      "state": {
       "_model_module": "@jupyter-widgets/base",
       "_model_module_version": "1.2.0",
       "_model_name": "LayoutModel",
       "_view_count": null,
       "_view_module": "@jupyter-widgets/base",
       "_view_module_version": "1.2.0",
       "_view_name": "LayoutView",
       "align_content": null,
       "align_items": null,
       "align_self": null,
       "border": null,
       "bottom": null,
       "display": null,
       "flex": null,
       "flex_flow": null,
       "grid_area": null,
       "grid_auto_columns": null,
       "grid_auto_flow": null,
       "grid_auto_rows": null,
       "grid_column": null,
       "grid_gap": null,
       "grid_row": null,
       "grid_template_areas": null,
       "grid_template_columns": null,
       "grid_template_rows": null,
       "height": null,
       "justify_content": null,
       "justify_items": null,
       "left": null,
       "margin": null,
       "max_height": null,
       "max_width": null,
       "min_height": null,
       "min_width": null,
       "object_fit": null,
       "object_position": null,
       "order": null,
       "overflow": null,
       "overflow_x": null,
       "overflow_y": null,
       "padding": null,
       "right": null,
       "top": null,
       "visibility": null,
       "width": null
      }
     },
     "8f47bfd4bb0e45c1b1282007760a993e": {
      "model_module": "@jupyter-widgets/controls",
      "model_module_version": "1.5.0",
      "model_name": "ButtonStyleModel",
      "state": {
       "_model_module": "@jupyter-widgets/controls",
       "_model_module_version": "1.5.0",
       "_model_name": "ButtonStyleModel",
       "_view_count": null,
       "_view_module": "@jupyter-widgets/base",
       "_view_module_version": "1.2.0",
       "_view_name": "StyleView",
       "button_color": null,
       "font_weight": ""
      }
     },
     "930d70d3cb3e4df5841bc4931d290ae2": {
      "buffers": [
       {
        "data": "",
        "encoding": "base64",
        "path": [
         "value"
        ]
       }
      ],
      "model_module": "@jupyter-widgets/controls",
      "model_module_version": "1.5.0",
      "model_name": "ImageModel",
      "state": {
       "_dom_classes": [],
       "_model_module": "@jupyter-widgets/controls",
       "_model_module_version": "1.5.0",
       "_model_name": "ImageModel",
       "_view_count": null,
       "_view_module": "@jupyter-widgets/controls",
       "_view_module_version": "1.5.0",
       "_view_name": "ImageView",
       "format": "png",
       "height": "",
       "layout": "IPY_MODEL_72292cd89a8744289f7931b842afd94c",
       "value": {},
       "width": "900.0"
      }
     },
     "966ff825ca0a40c296e9ee9d24f48a21": {
      "model_module": "@jupyter-widgets/base",
      "model_module_version": "1.2.0",
      "model_name": "LayoutModel",
      "state": {
       "_model_module": "@jupyter-widgets/base",
       "_model_module_version": "1.2.0",
       "_model_name": "LayoutModel",
       "_view_count": null,
       "_view_module": "@jupyter-widgets/base",
       "_view_module_version": "1.2.0",
       "_view_name": "LayoutView",
       "align_content": null,
       "align_items": null,
       "align_self": null,
       "border": null,
       "bottom": null,
       "display": null,
       "flex": null,
       "flex_flow": null,
       "grid_area": null,
       "grid_auto_columns": null,
       "grid_auto_flow": null,
       "grid_auto_rows": null,
       "grid_column": null,
       "grid_gap": null,
       "grid_row": null,
       "grid_template_areas": null,
       "grid_template_columns": null,
       "grid_template_rows": null,
       "height": null,
       "justify_content": null,
       "justify_items": null,
       "left": null,
       "margin": null,
       "max_height": null,
       "max_width": null,
       "min_height": null,
       "min_width": null,
       "object_fit": null,
       "object_position": null,
       "order": null,
       "overflow": null,
       "overflow_x": null,
       "overflow_y": null,
       "padding": null,
       "right": null,
       "top": null,
       "visibility": null,
       "width": null
      }
     },
     "987bffb8ba20437d9683c7cbfef4bcab": {
      "model_module": "@jupyter-widgets/controls",
      "model_module_version": "1.5.0",
      "model_name": "LinkModel",
      "state": {
       "_model_module": "@jupyter-widgets/controls",
       "_model_module_version": "1.5.0",
       "_model_name": "LinkModel",
       "_view_count": null,
       "_view_module": "@jupyter-widgets/controls",
       "_view_module_version": "1.5.0",
       "_view_name": null,
       "source": [
        "IPY_MODEL_a5e9b7a9dbcc4ffaa69b9a81ecefa897",
        "value"
       ],
       "target": [
        "IPY_MODEL_32a0c83c4d874530990b3ad85ceab9e7",
        "value"
       ]
      }
     },
     "9e0c682e42414677ba1bc1d1e3bf1ef9": {
      "model_module": "@jupyter-widgets/controls",
      "model_module_version": "1.5.0",
      "model_name": "ButtonStyleModel",
      "state": {
       "_model_module": "@jupyter-widgets/controls",
       "_model_module_version": "1.5.0",
       "_model_name": "ButtonStyleModel",
       "_view_count": null,
       "_view_module": "@jupyter-widgets/base",
       "_view_module_version": "1.2.0",
       "_view_name": "StyleView",
       "button_color": null,
       "font_weight": ""
      }
     },
     "9f59000ccece4d968ed7133bbfc54e5d": {
      "model_module": "@jupyter-widgets/controls",
      "model_module_version": "1.5.0",
      "model_name": "ButtonStyleModel",
      "state": {
       "_model_module": "@jupyter-widgets/controls",
       "_model_module_version": "1.5.0",
       "_model_name": "ButtonStyleModel",
       "_view_count": null,
       "_view_module": "@jupyter-widgets/base",
       "_view_module_version": "1.2.0",
       "_view_name": "StyleView",
       "button_color": null,
       "font_weight": ""
      }
     },
     "a118c9daf0dd4140899f652a8f195e70": {
      "model_module": "@jupyter-widgets/controls",
      "model_module_version": "1.5.0",
      "model_name": "LinkModel",
      "state": {
       "_model_module": "@jupyter-widgets/controls",
       "_model_module_version": "1.5.0",
       "_model_name": "LinkModel",
       "_view_count": null,
       "_view_module": "@jupyter-widgets/controls",
       "_view_module_version": "1.5.0",
       "_view_name": null,
       "source": [
        "IPY_MODEL_23087e43af7349fcbeccebf533e65476",
        "value"
       ],
       "target": [
        "IPY_MODEL_205091d596c94cb0b1cd1a9dbe26dfbe",
        "frame"
       ]
      }
     },
     "a4121879941a419fa6229449df9bd64c": {
      "model_module": "@jupyter-widgets/base",
      "model_module_version": "1.2.0",
      "model_name": "LayoutModel",
      "state": {
       "_model_module": "@jupyter-widgets/base",
       "_model_module_version": "1.2.0",
       "_model_name": "LayoutModel",
       "_view_count": null,
       "_view_module": "@jupyter-widgets/base",
       "_view_module_version": "1.2.0",
       "_view_name": "LayoutView",
       "align_content": null,
       "align_items": null,
       "align_self": null,
       "border": null,
       "bottom": null,
       "display": null,
       "flex": null,
       "flex_flow": null,
       "grid_area": null,
       "grid_auto_columns": null,
       "grid_auto_flow": null,
       "grid_auto_rows": null,
       "grid_column": null,
       "grid_gap": null,
       "grid_row": null,
       "grid_template_areas": null,
       "grid_template_columns": null,
       "grid_template_rows": null,
       "height": null,
       "justify_content": null,
       "justify_items": null,
       "left": null,
       "margin": null,
       "max_height": null,
       "max_width": null,
       "min_height": null,
       "min_width": null,
       "object_fit": null,
       "object_position": null,
       "order": null,
       "overflow": null,
       "overflow_x": null,
       "overflow_y": null,
       "padding": null,
       "right": null,
       "top": null,
       "visibility": null,
       "width": null
      }
     },
     "a5e9b7a9dbcc4ffaa69b9a81ecefa897": {
      "model_module": "@jupyter-widgets/controls",
      "model_module_version": "1.5.0",
      "model_name": "PlayModel",
      "state": {
       "_dom_classes": [],
       "_model_module": "@jupyter-widgets/controls",
       "_model_module_version": "1.5.0",
       "_model_name": "PlayModel",
       "_playing": false,
       "_repeat": false,
       "_view_count": null,
       "_view_module": "@jupyter-widgets/controls",
       "_view_module_version": "1.5.0",
       "_view_name": "PlayView",
       "description": "",
       "description_tooltip": null,
       "disabled": false,
       "interval": 100,
       "layout": "IPY_MODEL_600732b19df240148b2ce533e3828dcb",
       "max": 0,
       "min": 0,
       "show_repeat": true,
       "step": 1,
       "style": "IPY_MODEL_4b9c16ee092e4137abe88efd943a8b56",
       "value": 0
      }
     },
     "bb3afe712c224d57a584e5f3bcf37efa": {
      "model_module": "@jupyter-widgets/controls",
      "model_module_version": "1.5.0",
      "model_name": "LinkModel",
      "state": {
       "_model_module": "@jupyter-widgets/controls",
       "_model_module_version": "1.5.0",
       "_model_name": "LinkModel",
       "_view_count": null,
       "_view_module": "@jupyter-widgets/controls",
       "_view_module_version": "1.5.0",
       "_view_name": null,
       "source": [
        "IPY_MODEL_8a8de429255a44739050b06459f86f24",
        "value"
       ],
       "target": [
        "IPY_MODEL_7e27677c69864b23aeb2619c48924c9b",
        "value"
       ]
      }
     },
     "bc270085d2a34cdb94716b59b27e4d51": {
      "model_module": "@jupyter-widgets/base",
      "model_module_version": "1.2.0",
      "model_name": "LayoutModel",
      "state": {
       "_model_module": "@jupyter-widgets/base",
       "_model_module_version": "1.2.0",
       "_model_name": "LayoutModel",
       "_view_count": null,
       "_view_module": "@jupyter-widgets/base",
       "_view_module_version": "1.2.0",
       "_view_name": "LayoutView",
       "align_content": null,
       "align_items": null,
       "align_self": null,
       "border": null,
       "bottom": null,
       "display": null,
       "flex": null,
       "flex_flow": null,
       "grid_area": null,
       "grid_auto_columns": null,
       "grid_auto_flow": null,
       "grid_auto_rows": null,
       "grid_column": null,
       "grid_gap": null,
       "grid_row": null,
       "grid_template_areas": null,
       "grid_template_columns": null,
       "grid_template_rows": null,
       "height": null,
       "justify_content": null,
       "justify_items": null,
       "left": null,
       "margin": null,
       "max_height": null,
       "max_width": null,
       "min_height": null,
       "min_width": null,
       "object_fit": null,
       "object_position": null,
       "order": null,
       "overflow": null,
       "overflow_x": null,
       "overflow_y": null,
       "padding": null,
       "right": null,
       "top": null,
       "visibility": null,
       "width": null
      }
     },
     "c0747defd5044ce3a3610d52ec5f4a51": {
      "model_module": "@jupyter-widgets/controls",
      "model_module_version": "1.5.0",
      "model_name": "HBoxModel",
      "state": {
       "_dom_classes": [],
       "_model_module": "@jupyter-widgets/controls",
       "_model_module_version": "1.5.0",
       "_model_name": "HBoxModel",
       "_view_count": null,
       "_view_module": "@jupyter-widgets/controls",
       "_view_module_version": "1.5.0",
       "_view_name": "HBoxView",
       "box_style": "",
       "children": [
        "IPY_MODEL_eebc6a9d9974430ab145cf5b469b1c0c",
        "IPY_MODEL_40935fac2aa44517a117ecef35809c37"
       ],
       "layout": "IPY_MODEL_966ff825ca0a40c296e9ee9d24f48a21"
      }
     },
     "c106679d6d154b24a7411b69788a27cc": {
      "model_module": "@jupyter-widgets/controls",
      "model_module_version": "1.5.0",
      "model_name": "LinkModel",
      "state": {
       "_model_module": "@jupyter-widgets/controls",
       "_model_module_version": "1.5.0",
       "_model_name": "LinkModel",
       "_view_count": null,
       "_view_module": "@jupyter-widgets/controls",
       "_view_module_version": "1.5.0",
       "_view_name": null,
       "source": [
        "IPY_MODEL_eebc6a9d9974430ab145cf5b469b1c0c",
        "value"
       ],
       "target": [
        "IPY_MODEL_0552981d2d354939a400f84a29734648",
        "frame"
       ]
      }
     },
     "c35baec1653a4b1b82107091cbc29951": {
      "model_module": "@jupyter-widgets/controls",
      "model_module_version": "1.5.0",
      "model_name": "DescriptionStyleModel",
      "state": {
       "_model_module": "@jupyter-widgets/controls",
       "_model_module_version": "1.5.0",
       "_model_name": "DescriptionStyleModel",
       "_view_count": null,
       "_view_module": "@jupyter-widgets/base",
       "_view_module_version": "1.2.0",
       "_view_name": "StyleView",
       "description_width": ""
      }
     },
     "c6a54b1b5e924d46973babe90c4bf39f": {
      "model_module": "nglview-js-widgets",
      "model_module_version": "3.0.1",
      "model_name": "NGLModel",
      "state": {
       "_camera_orientation": [],
       "_camera_str": "orthographic",
       "_dom_classes": [],
       "_gui_theme": null,
       "_ibtn_fullscreen": "IPY_MODEL_e396be8e3cdd485d9f52b68d21751470",
       "_igui": null,
       "_iplayer": "IPY_MODEL_dabf0bb1cce8472a83efd576cc4390c6",
       "_model_module": "nglview-js-widgets",
       "_model_module_version": "3.0.1",
       "_model_name": "NGLModel",
       "_ngl_color_dict": {},
       "_ngl_coordinate_resource": {},
       "_ngl_full_stage_parameters": {},
       "_ngl_msg_archive": [
        {
         "args": [
          {
           "binary": false,
           "data": "HETATM    1  C1  UNL     1       5.327   1.844  -0.329  1.00  0.00           C  \nHETATM    2  C2  UNL     1       4.734   0.520   0.202  1.00  0.00           C  \nHETATM    3  C3  UNL     1       5.236   0.242   1.635  1.00  0.00           C  \nHETATM    4  C4  UNL     1       5.375  -0.580  -0.674  1.00  0.00           C  \nHETATM    5  C5  UNL     1       3.176   0.594   0.191  1.00  0.00           C  \nHETATM    6  C6  UNL     1       2.516   1.603   0.939  1.00  0.00           C  \nHETATM    7  O1  UNL     1       3.131   2.538   1.715  1.00  0.00           O  \nHETATM    8  C7  UNL     1       1.130   1.729   0.968  1.00  0.00           C  \nHETATM    9  O2  UNL     1       0.540   2.703   1.749  1.00  0.00           O  \nHETATM   10  C8  UNL     1       0.339   0.856   0.234  1.00  0.00           C  \nHETATM   11  C9  UNL     1       0.916  -0.168  -0.515  1.00  0.00           C  \nHETATM   12  C10 UNL     1       2.321  -0.300  -0.521  1.00  0.00           C  \nHETATM   13  O3  UNL     1       2.778  -1.359  -1.247  1.00  0.00           O  \nHETATM   14  C11 UNL     1       0.046  -1.083  -1.371  1.00  0.00           C  \nHETATM   15  O4  UNL     1       0.388  -2.464  -1.116  1.00  0.00           O  \nHETATM   16  C12 UNL     1      -0.364  -3.083  -0.065  1.00  0.00           C  \nHETATM   17  C13 UNL     1      -1.840  -3.204  -0.471  1.00  0.00           C  \nHETATM   18  C14 UNL     1      -2.253  -2.134  -1.497  1.00  0.00           C  \nHETATM   19  C15 UNL     1      -1.484  -0.813  -1.293  1.00  0.00           C  \nHETATM   20  C16 UNL     1      -1.899  -0.117   0.021  1.00  0.00           C  \nHETATM   21  C17 UNL     1      -3.333   0.378  -0.007  1.00  0.00           C  \nHETATM   22  C18 UNL     1      -4.253  -0.077   0.950  1.00  0.00           C  \nHETATM   23  C19 UNL     1      -5.579   0.368   0.947  1.00  0.00           C  \nHETATM   24  O5  UNL     1      -6.444  -0.103   1.901  1.00  0.00           O  \nHETATM   25  C20 UNL     1      -6.005   1.289  -0.027  1.00  0.00           C  \nHETATM   26  O6  UNL     1      -7.300   1.746  -0.059  1.00  0.00           O  \nHETATM   27  C21 UNL     1      -5.094   1.754  -0.984  1.00  0.00           C  \nHETATM   28  F1  UNL     1      -5.489   2.643  -1.927  1.00  0.00           F  \nHETATM   29  C22 UNL     1      -3.772   1.303  -0.970  1.00  0.00           C  \nHETATM   30  N1  UNL     1      -1.036   1.037   0.259  1.00  0.00           N  \nHETATM   31  H1  UNL     1       5.146   2.678   0.355  1.00  0.00           H  \nHETATM   32  H2  UNL     1       4.885   2.092  -1.299  1.00  0.00           H  \nHETATM   33  H3  UNL     1       6.411   1.763  -0.456  1.00  0.00           H  \nHETATM   34  H4  UNL     1       6.319   0.092   1.644  1.00  0.00           H  \nHETATM   35  H5  UNL     1       5.017   1.073   2.312  1.00  0.00           H  \nHETATM   36  H6  UNL     1       4.760  -0.659   2.033  1.00  0.00           H  \nHETATM   37  H7  UNL     1       6.467  -0.530  -0.625  1.00  0.00           H  \nHETATM   38  H8  UNL     1       5.079  -1.575  -0.330  1.00  0.00           H  \nHETATM   39  H9  UNL     1       5.086  -0.459  -1.722  1.00  0.00           H  \nHETATM   40  H10 UNL     1       2.399   3.057   2.086  1.00  0.00           H  \nHETATM   41  H11 UNL     1      -0.403   2.486   1.835  1.00  0.00           H  \nHETATM   42  H12 UNL     1       2.026  -1.965  -1.355  1.00  0.00           H  \nHETATM   43  H13 UNL     1       0.326  -0.889  -2.411  1.00  0.00           H  \nHETATM   44  H14 UNL     1      -0.268  -2.493   0.851  1.00  0.00           H  \nHETATM   45  H15 UNL     1       0.042  -4.077   0.147  1.00  0.00           H  \nHETATM   46  H16 UNL     1      -2.461  -3.123   0.425  1.00  0.00           H  \nHETATM   47  H17 UNL     1      -2.019  -4.193  -0.904  1.00  0.00           H  \nHETATM   48  H18 UNL     1      -2.027  -2.508  -2.500  1.00  0.00           H  \nHETATM   49  H19 UNL     1      -3.333  -1.970  -1.451  1.00  0.00           H  \nHETATM   50  H20 UNL     1      -1.730  -0.142  -2.121  1.00  0.00           H  \nHETATM   51  H21 UNL     1      -1.778  -0.810   0.859  1.00  0.00           H  \nHETATM   52  H22 UNL     1      -3.930  -0.785   1.707  1.00  0.00           H  \nHETATM   53  H23 UNL     1      -5.983  -0.690   2.523  1.00  0.00           H  \nHETATM   54  H24 UNL     1      -7.403   2.370  -0.797  1.00  0.00           H  \nHETATM   55  H25 UNL     1      -3.092   1.684  -1.726  1.00  0.00           H  \nHETATM   56  H26 UNL     1      -1.363   1.927  -0.116  1.00  0.00           H  \nCONECT    1    2   31   32   33\nCONECT    2    3    4    5\nCONECT    3   34   35   36\nCONECT    4   37   38   39\nCONECT    5    6    6   12\nCONECT    6    7    8\nCONECT    7   40\nCONECT    8    9   10   10\nCONECT    9   41\nCONECT   10   11   30\nCONECT   11   12   12   14\nCONECT   12   13\nCONECT   13   42\nCONECT   14   15   19   43\nCONECT   15   16\nCONECT   16   17   44   45\nCONECT   17   18   46   47\nCONECT   18   19   48   49\nCONECT   19   20   50\nCONECT   20   21   30   51\nCONECT   21   22   22   29\nCONECT   22   23   52\nCONECT   23   24   25   25\nCONECT   24   53\nCONECT   25   26   27\nCONECT   26   54\nCONECT   27   28   29   29\nCONECT   29   55\nCONECT   30   56\n",
           "type": "blob"
          }
         ],
         "kwargs": {
          "defaultRepresentation": true,
          "ext": "pdb",
          "name": "<openff.toolkit.utils.viz._OFFTrajectoryNGLView object at 0x140519f70>"
         },
         "methodName": "loadFile",
         "reconstruc_color_scheme": false,
         "target": "Stage",
         "type": "call_method"
        },
        {
         "args": [
          "label"
         ],
         "component_index": 0,
         "kwargs": {
          "attachment": "middle-center",
          "color": "black",
          "labelType": "atomindex",
          "sele": "all"
         },
         "methodName": "addRepresentation",
         "reconstruc_color_scheme": false,
         "target": "compList",
         "type": "call_method"
        }
       ],
       "_ngl_original_stage_parameters": {},
       "_ngl_repr_dict": {},
       "_ngl_serialize": false,
       "_ngl_version": "",
       "_ngl_view_id": [],
       "_player_dict": {},
       "_scene_position": {},
       "_scene_rotation": {},
       "_synced_model_ids": [],
       "_synced_repr_model_ids": [],
       "_view_count": null,
       "_view_height": "",
       "_view_module": "nglview-js-widgets",
       "_view_module_version": "3.0.1",
       "_view_name": "NGLView",
       "_view_width": "",
       "background": "white",
       "frame": 0,
       "gui_style": null,
       "layout": "IPY_MODEL_d690a46063ba40a0b82b15047fe938ae",
       "max_frame": 0,
       "n_components": 0,
       "picked": {}
      }
     },
     "c98aba0526e84754b1ab77514a0fa45e": {
      "model_module": "@jupyter-widgets/controls",
      "model_module_version": "1.5.0",
      "model_name": "IntSliderModel",
      "state": {
       "_dom_classes": [],
       "_model_module": "@jupyter-widgets/controls",
       "_model_module_version": "1.5.0",
       "_model_name": "IntSliderModel",
       "_view_count": null,
       "_view_module": "@jupyter-widgets/controls",
       "_view_module_version": "1.5.0",
       "_view_name": "IntSliderView",
       "continuous_update": true,
       "description": "",
       "description_tooltip": null,
       "disabled": false,
       "layout": "IPY_MODEL_697f327caf8f4d5787b5ca3d9e8c4b52",
       "max": 0,
       "min": 0,
       "orientation": "horizontal",
       "readout": true,
       "readout_format": "d",
       "step": 1,
       "style": "IPY_MODEL_211260d331f14fb1bc8252524abfd64a",
       "value": 0
      }
     },
     "c9f0c028a36443d7a8a1f2891e2d0c1d": {
      "model_module": "@jupyter-widgets/controls",
      "model_module_version": "1.5.0",
      "model_name": "LinkModel",
      "state": {
       "_model_module": "@jupyter-widgets/controls",
       "_model_module_version": "1.5.0",
       "_model_name": "LinkModel",
       "_view_count": null,
       "_view_module": "@jupyter-widgets/controls",
       "_view_module_version": "1.5.0",
       "_view_name": null,
       "source": [
        "IPY_MODEL_32a0c83c4d874530990b3ad85ceab9e7",
        "max"
       ],
       "target": [
        "IPY_MODEL_c6a54b1b5e924d46973babe90c4bf39f",
        "max_frame"
       ]
      }
     },
     "d1c8f9448bed4645bdf7195be3113b08": {
      "model_module": "@jupyter-widgets/controls",
      "model_module_version": "1.5.0",
      "model_name": "HBoxModel",
      "state": {
       "_dom_classes": [],
       "_model_module": "@jupyter-widgets/controls",
       "_model_module_version": "1.5.0",
       "_model_name": "HBoxModel",
       "_view_count": null,
       "_view_module": "@jupyter-widgets/controls",
       "_view_module_version": "1.5.0",
       "_view_name": "HBoxView",
       "box_style": "",
       "children": [
        "IPY_MODEL_23087e43af7349fcbeccebf533e65476",
        "IPY_MODEL_c98aba0526e84754b1ab77514a0fa45e"
       ],
       "layout": "IPY_MODEL_604b3716da284016b79f973b96e4f15a"
      }
     },
     "d690a46063ba40a0b82b15047fe938ae": {
      "model_module": "@jupyter-widgets/base",
      "model_module_version": "1.2.0",
      "model_name": "LayoutModel",
      "state": {
       "_model_module": "@jupyter-widgets/base",
       "_model_module_version": "1.2.0",
       "_model_name": "LayoutModel",
       "_view_count": null,
       "_view_module": "@jupyter-widgets/base",
       "_view_module_version": "1.2.0",
       "_view_name": "LayoutView",
       "align_content": null,
       "align_items": null,
       "align_self": null,
       "border": null,
       "bottom": null,
       "display": null,
       "flex": null,
       "flex_flow": null,
       "grid_area": null,
       "grid_auto_columns": null,
       "grid_auto_flow": null,
       "grid_auto_rows": null,
       "grid_column": null,
       "grid_gap": null,
       "grid_row": null,
       "grid_template_areas": null,
       "grid_template_columns": null,
       "grid_template_rows": null,
       "height": null,
       "justify_content": null,
       "justify_items": null,
       "left": null,
       "margin": null,
       "max_height": null,
       "max_width": null,
       "min_height": null,
       "min_width": null,
       "object_fit": null,
       "object_position": null,
       "order": null,
       "overflow": null,
       "overflow_x": null,
       "overflow_y": null,
       "padding": null,
       "right": null,
       "top": null,
       "visibility": null,
       "width": null
      }
     },
     "d6e91aac4c7d44be9a5122bbd955ee1b": {
      "model_module": "@jupyter-widgets/base",
      "model_module_version": "1.2.0",
      "model_name": "LayoutModel",
      "state": {
       "_model_module": "@jupyter-widgets/base",
       "_model_module_version": "1.2.0",
       "_model_name": "LayoutModel",
       "_view_count": null,
       "_view_module": "@jupyter-widgets/base",
       "_view_module_version": "1.2.0",
       "_view_name": "LayoutView",
       "align_content": null,
       "align_items": null,
       "align_self": null,
       "border": null,
       "bottom": null,
       "display": null,
       "flex": null,
       "flex_flow": null,
       "grid_area": null,
       "grid_auto_columns": null,
       "grid_auto_flow": null,
       "grid_auto_rows": null,
       "grid_column": null,
       "grid_gap": null,
       "grid_row": null,
       "grid_template_areas": null,
       "grid_template_columns": null,
       "grid_template_rows": null,
       "height": null,
       "justify_content": null,
       "justify_items": null,
       "left": null,
       "margin": null,
       "max_height": null,
       "max_width": null,
       "min_height": null,
       "min_width": null,
       "object_fit": null,
       "object_position": null,
       "order": null,
       "overflow": null,
       "overflow_x": null,
       "overflow_y": null,
       "padding": null,
       "right": null,
       "top": null,
       "visibility": null,
       "width": "34px"
      }
     },
     "dabf0bb1cce8472a83efd576cc4390c6": {
      "model_module": "@jupyter-widgets/controls",
      "model_module_version": "1.5.0",
      "model_name": "HBoxModel",
      "state": {
       "_dom_classes": [],
       "_model_module": "@jupyter-widgets/controls",
       "_model_module_version": "1.5.0",
       "_model_name": "HBoxModel",
       "_view_count": null,
       "_view_module": "@jupyter-widgets/controls",
       "_view_module_version": "1.5.0",
       "_view_name": "HBoxView",
       "box_style": "",
       "children": [
        "IPY_MODEL_a5e9b7a9dbcc4ffaa69b9a81ecefa897",
        "IPY_MODEL_32a0c83c4d874530990b3ad85ceab9e7"
       ],
       "layout": "IPY_MODEL_3033c5a676e041089330f3e49900ae33"
      }
     },
     "deeaedacab08490bb5ce696d9a377a36": {
      "model_module": "nglview-js-widgets",
      "model_module_version": "3.0.1",
      "model_name": "ColormakerRegistryModel",
      "state": {
       "_dom_classes": [],
       "_model_module": "nglview-js-widgets",
       "_model_module_version": "3.0.1",
       "_model_name": "ColormakerRegistryModel",
       "_msg_ar": [],
       "_msg_q": [],
       "_ready": false,
       "_view_count": null,
       "_view_module": "nglview-js-widgets",
       "_view_module_version": "3.0.1",
       "_view_name": "ColormakerRegistryView",
       "layout": "IPY_MODEL_85d9e801b09644a39d6414f38e8e178e"
      }
     },
     "e37a3433eb6747cea5703a73c65b89e3": {
      "buffers": [
       {
        "data": "",
        "encoding": "base64",
        "path": [
         "value"
        ]
       }
      ],
      "model_module": "@jupyter-widgets/controls",
      "model_module_version": "1.5.0",
      "model_name": "ImageModel",
      "state": {
       "_dom_classes": [],
       "_model_module": "@jupyter-widgets/controls",
       "_model_module_version": "1.5.0",
       "_model_name": "ImageModel",
       "_view_count": null,
       "_view_module": "@jupyter-widgets/controls",
       "_view_module_version": "1.5.0",
       "_view_name": "ImageView",
       "format": "png",
       "height": "",
       "layout": "IPY_MODEL_32d6b6b51a6b40bc8cd6104c5b0149c3",
       "value": {},
       "width": "900.0"
      }
     },
     "e396be8e3cdd485d9f52b68d21751470": {
      "model_module": "@jupyter-widgets/controls",
      "model_module_version": "1.5.0",
      "model_name": "ButtonModel",
      "state": {
       "_dom_classes": [],
       "_model_module": "@jupyter-widgets/controls",
       "_model_module_version": "1.5.0",
       "_model_name": "ButtonModel",
       "_view_count": null,
       "_view_module": "@jupyter-widgets/controls",
       "_view_module_version": "1.5.0",
       "_view_name": "ButtonView",
       "button_style": "",
       "description": "",
       "disabled": false,
       "icon": "compress",
       "layout": "IPY_MODEL_891987980f944c10a9745a905d470d7b",
       "style": "IPY_MODEL_f481e84b3c614470868e55434fc8acea",
       "tooltip": ""
      }
     },
     "e51b0351b65349a5b31a5d04e6a17b72": {
      "model_module": "@jupyter-widgets/controls",
      "model_module_version": "1.5.0",
      "model_name": "DescriptionStyleModel",
      "state": {
       "_model_module": "@jupyter-widgets/controls",
       "_model_module_version": "1.5.0",
       "_model_name": "DescriptionStyleModel",
       "_view_count": null,
       "_view_module": "@jupyter-widgets/base",
       "_view_module_version": "1.2.0",
       "_view_name": "StyleView",
       "description_width": ""
      }
     },
     "eebc6a9d9974430ab145cf5b469b1c0c": {
      "model_module": "@jupyter-widgets/controls",
      "model_module_version": "1.5.0",
      "model_name": "PlayModel",
      "state": {
       "_dom_classes": [],
       "_model_module": "@jupyter-widgets/controls",
       "_model_module_version": "1.5.0",
       "_model_name": "PlayModel",
       "_playing": false,
       "_repeat": false,
       "_view_count": null,
       "_view_module": "@jupyter-widgets/controls",
       "_view_module_version": "1.5.0",
       "_view_name": "PlayView",
       "description": "",
       "description_tooltip": null,
       "disabled": false,
       "interval": 100,
       "layout": "IPY_MODEL_34d3499b5581454280e68bee5cb4864c",
       "max": 0,
       "min": 0,
       "show_repeat": true,
       "step": 1,
       "style": "IPY_MODEL_27a71d0803eb46e1b25fc40839f65e3b",
       "value": 0
      }
     },
     "ef27474b5cb34717a354ac0414fbe163": {
      "model_module": "@jupyter-widgets/controls",
      "model_module_version": "1.5.0",
      "model_name": "LinkModel",
      "state": {
       "_model_module": "@jupyter-widgets/controls",
       "_model_module_version": "1.5.0",
       "_model_name": "LinkModel",
       "_view_count": null,
       "_view_module": "@jupyter-widgets/controls",
       "_view_module_version": "1.5.0",
       "_view_name": null,
       "source": [
        "IPY_MODEL_8a8de429255a44739050b06459f86f24",
        "value"
       ],
       "target": [
        "IPY_MODEL_6e033070cc69409c8aac3c8f4f98a9b5",
        "frame"
       ]
      }
     },
     "f03d0b5901674a30a358b08ca81b6895": {
      "model_module": "@jupyter-widgets/controls",
      "model_module_version": "1.5.0",
      "model_name": "SliderStyleModel",
      "state": {
       "_model_module": "@jupyter-widgets/controls",
       "_model_module_version": "1.5.0",
       "_model_name": "SliderStyleModel",
       "_view_count": null,
       "_view_module": "@jupyter-widgets/base",
       "_view_module_version": "1.2.0",
       "_view_name": "StyleView",
       "description_width": "",
       "handle_color": null
      }
     },
     "f1e8a4b12d4c457385f4ae4ed3b91e42": {
      "model_module": "@jupyter-widgets/controls",
      "model_module_version": "1.5.0",
      "model_name": "ButtonModel",
      "state": {
       "_dom_classes": [],
       "_model_module": "@jupyter-widgets/controls",
       "_model_module_version": "1.5.0",
       "_model_name": "ButtonModel",
       "_view_count": null,
       "_view_module": "@jupyter-widgets/controls",
       "_view_module_version": "1.5.0",
       "_view_name": "ButtonView",
       "button_style": "",
       "description": "",
       "disabled": false,
       "icon": "compress",
       "layout": "IPY_MODEL_d6e91aac4c7d44be9a5122bbd955ee1b",
       "style": "IPY_MODEL_9f59000ccece4d968ed7133bbfc54e5d",
       "tooltip": ""
      }
     },
     "f481e84b3c614470868e55434fc8acea": {
      "model_module": "@jupyter-widgets/controls",
      "model_module_version": "1.5.0",
      "model_name": "ButtonStyleModel",
      "state": {
       "_model_module": "@jupyter-widgets/controls",
       "_model_module_version": "1.5.0",
       "_model_name": "ButtonStyleModel",
       "_view_count": null,
       "_view_module": "@jupyter-widgets/base",
       "_view_module_version": "1.2.0",
       "_view_name": "StyleView",
       "button_color": null,
       "font_weight": ""
      }
     },
     "f61104cd0ebb40b3bc6f7815be84f7d6": {
      "model_module": "@jupyter-widgets/controls",
      "model_module_version": "1.5.0",
      "model_name": "LinkModel",
      "state": {
       "_model_module": "@jupyter-widgets/controls",
       "_model_module_version": "1.5.0",
       "_model_name": "LinkModel",
       "_view_count": null,
       "_view_module": "@jupyter-widgets/controls",
       "_view_module_version": "1.5.0",
       "_view_name": null,
       "source": [
        "IPY_MODEL_23087e43af7349fcbeccebf533e65476",
        "max"
       ],
       "target": [
        "IPY_MODEL_205091d596c94cb0b1cd1a9dbe26dfbe",
        "max_frame"
       ]
      }
     },
     "f6ff57054d864c37a0459185c1f398d8": {
      "model_module": "@jupyter-widgets/base",
      "model_module_version": "1.2.0",
      "model_name": "LayoutModel",
      "state": {
       "_model_module": "@jupyter-widgets/base",
       "_model_module_version": "1.2.0",
       "_model_name": "LayoutModel",
       "_view_count": null,
       "_view_module": "@jupyter-widgets/base",
       "_view_module_version": "1.2.0",
       "_view_name": "LayoutView",
       "align_content": null,
       "align_items": null,
       "align_self": null,
       "border": null,
       "bottom": null,
       "display": null,
       "flex": null,
       "flex_flow": null,
       "grid_area": null,
       "grid_auto_columns": null,
       "grid_auto_flow": null,
       "grid_auto_rows": null,
       "grid_column": null,
       "grid_gap": null,
       "grid_row": null,
       "grid_template_areas": null,
       "grid_template_columns": null,
       "grid_template_rows": null,
       "height": null,
       "justify_content": null,
       "justify_items": null,
       "left": null,
       "margin": null,
       "max_height": null,
       "max_width": null,
       "min_height": null,
       "min_width": null,
       "object_fit": null,
       "object_position": null,
       "order": null,
       "overflow": null,
       "overflow_x": null,
       "overflow_y": null,
       "padding": null,
       "right": null,
       "top": null,
       "visibility": null,
       "width": null
      }
     },
     "f9ce33b32791447180a9f7b02d28f71c": {
      "model_module": "@jupyter-widgets/controls",
      "model_module_version": "1.5.0",
      "model_name": "ButtonModel",
      "state": {
       "_dom_classes": [],
       "_model_module": "@jupyter-widgets/controls",
       "_model_module_version": "1.5.0",
       "_model_name": "ButtonModel",
       "_view_count": null,
       "_view_module": "@jupyter-widgets/controls",
       "_view_module_version": "1.5.0",
       "_view_name": "ButtonView",
       "button_style": "",
       "description": "",
       "disabled": false,
       "icon": "compress",
       "layout": "IPY_MODEL_86e6344c1d4c49c492c140e365c00fbe",
       "style": "IPY_MODEL_8f47bfd4bb0e45c1b1282007760a993e",
       "tooltip": ""
      }
     }
    },
    "version_major": 2,
    "version_minor": 0
   }
  }
 },
 "nbformat": 4,
 "nbformat_minor": 4
}

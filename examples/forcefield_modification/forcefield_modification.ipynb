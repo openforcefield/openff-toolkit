{
 "cells": [
  {
   "cell_type": "markdown",
   "metadata": {},
   "source": [
    "# Modifying a SMIRNOFF force field\n",
    "\n",
    "In this example, we'll parameterize a ligand automatically, and then play with its parameters to demonstrate the Toolkit's ability to facilitate force field optimization. For each modification, we'll calculate the energy for the original conformation, and then minimize the energy and visualize the result."
   ]
  },
  {
   "cell_type": "code",
   "execution_count": 1,
   "metadata": {},
   "outputs": [],
   "source": [
    "from copy import deepcopy\n",
    "\n",
    "from openff.units import unit\n",
    "from openff.units.openmm import from_openmm, to_openmm\n",
    "from openmm import LangevinIntegrator, app\n",
    "from openmm import unit as openmm_unit\n",
    "\n",
    "import openff.toolkit.typing.engines.smirnoff.parameters as offtk_parameters\n",
    "from openff.toolkit import ForceField, Molecule"
   ]
  },
  {
   "cell_type": "markdown",
   "metadata": {},
   "source": [
    "We're going to do a lot of changing a parameter and then visualising what happened, so let's define a convenience function to do just that"
   ]
  },
  {
   "cell_type": "code",
   "execution_count": 2,
   "metadata": {},
   "outputs": [],
   "source": [
    "def minimize_and_visualize(molecule, forcefield):\n",
    "    # Sort out our input data\n",
    "    mol_topology = molecule.to_topology()\n",
    "    mol_system = forcefield.create_openmm_system(\n",
    "        mol_topology,\n",
    "        charge_from_molecules=[molecule],\n",
    "    )\n",
    "\n",
    "    # Set up the minimization and point calculation\n",
    "    integrator = LangevinIntegrator(\n",
    "        300 * openmm_unit.kelvin,\n",
    "        1 / openmm_unit.picosecond,\n",
    "        0.002 * openmm_unit.picoseconds,\n",
    "    )\n",
    "    simulation = app.Simulation(mol_topology.to_openmm(), mol_system, integrator)\n",
    "    simulation.context.setPositions(to_openmm(molecule.conformers[0]))\n",
    "\n",
    "    # Get the initial energy\n",
    "    initial_potential = simulation.context.getState(getEnergy=True).getPotentialEnergy()\n",
    "\n",
    "    # Energy minimize\n",
    "    simulation.minimizeEnergy()\n",
    "    minimized_state = simulation.context.getState(getPositions=True, getEnergy=True)\n",
    "    minimized_potential = minimized_state.getPotentialEnergy()\n",
    "    minimized_coords = from_openmm(minimized_state.getPositions(asNumpy=True))\n",
    "\n",
    "    # Visualize\n",
    "    vis_mol = deepcopy(molecule)\n",
    "    vis_mol.conformers[0] = minimized_coords\n",
    "    view = vis_mol.visualize(backend=\"nglview\")\n",
    "    print(\n",
    "        f\"Initial energy is {initial_potential.format('%0.1F')};\",\n",
    "        f\"Minimized energy is {minimized_potential.format('%0.1F')}\",\n",
    "    )\n",
    "    return view"
   ]
  },
  {
   "cell_type": "markdown",
   "metadata": {},
   "source": [
    "## Getting to know you — the molecule\n",
    "\n",
    "This \"ligand\" is a modified version of the molecule we introduced in the Toolkit Showcase. It's just been altered for a slightly more exciting example here. This also lets us demonstrate constructing a `Molecule` from a SMILES string!"
   ]
  },
  {
   "cell_type": "code",
   "execution_count": 3,
   "metadata": {
    "tags": []
   },
   "outputs": [],
   "source": [
    "ligand_smiles = \"CC(C)(C)c1c(O)c(O)c2c(c1O)[C@H]1OCCC[C@H]1[C@H](c1cc(O)c(O)c(F)c1)N2\"\n",
    "ligand = Molecule.from_smiles(ligand_smiles)\n",
    "ligand.generate_conformers(n_conformers=1)\n",
    "force_field = ForceField(\"openff-2.1.0.offxml\")"
   ]
  },
  {
   "cell_type": "markdown",
   "metadata": {},
   "source": [
    "Computing charges is expensive, and we're going to be changing the force field a lot, so we can save time by computing them just once and caching them.\n",
    "\n",
    "\n",
    "<div class=\"alert alert-info\" style=\"max-width: 700px; margin-left: auto; margin-right: auto;\">\n",
    "    ℹ️ Note that when we call <code>create_openmm_system</code> above we pass\n",
    "    in the charges with the <code>charge_from_molecules</code> argument!\n",
    "</div>"
   ]
  },
  {
   "cell_type": "code",
   "execution_count": 4,
   "metadata": {},
   "outputs": [
    {
     "data": {
      "application/vnd.jupyter.widget-view+json": {
       "model_id": "09f56974926d4f76ad36818a8f190e8f",
       "version_major": 2,
       "version_minor": 0
      },
      "text/plain": []
     },
     "metadata": {},
     "output_type": "display_data"
    }
   ],
   "source": [
    "ligand.partial_charges = force_field.get_partial_charges(ligand)"
   ]
  },
  {
   "cell_type": "markdown",
   "metadata": {},
   "source": [
    "### The ligand, visualised\n",
    "\n",
    "Let's take a close look at the ligand and decide what we want to modify. We'll label the atoms with their indexes so we can identify them later"
   ]
  },
  {
   "cell_type": "code",
   "execution_count": 5,
   "metadata": {},
   "outputs": [
    {
     "name": "stdout",
     "output_type": "stream",
     "text": [
      "Initial energy is -178.2 kJ/mol; Minimized energy is -364.3 kJ/mol\n"
     ]
    },
    {
     "data": {
      "application/vnd.jupyter.widget-view+json": {
       "model_id": "728a9ca0ce624bbc9851a09d83028939",
       "version_major": 2,
       "version_minor": 0
      },
      "text/plain": [
       "NGLWidget()"
      ]
     },
     "metadata": {},
     "output_type": "display_data"
    }
   ],
   "source": [
    "view = minimize_and_visualize(ligand, force_field)\n",
    "view.add_label(label_type=\"atomindex\", color=\"black\", attachment=\"middle-center\")\n",
    "view"
   ]
  },
  {
   "cell_type": "markdown",
   "metadata": {},
   "source": [
    "## Getting to know all about you — Investigating assigned parameters\n",
    "\n",
    "Let's start with something simple — lengthening the bond to the fluorine. We can use `ForceField.label_molecules` to identify the appropriate parameters:"
   ]
  },
  {
   "cell_type": "code",
   "execution_count": 6,
   "metadata": {},
   "outputs": [
    {
     "data": {
      "text/plain": [
       "[{'Constraints': <openff.toolkit.topology.topology.ValenceDict at 0x170d82550>,\n",
       "  'Bonds': <openff.toolkit.topology.topology.ValenceDict at 0x170d77310>,\n",
       "  'Angles': <openff.toolkit.topology.topology.ValenceDict at 0x170e699a0>,\n",
       "  'ProperTorsions': <openff.toolkit.topology.topology.ValenceDict at 0x170e7f940>,\n",
       "  'ImproperTorsions': <openff.toolkit.topology.topology.ImproperDict at 0x10fa7d610>,\n",
       "  'vdW': <openff.toolkit.topology.topology.ValenceDict at 0x170e71250>,\n",
       "  'Electrostatics': <openff.toolkit.topology.topology.ValenceDict at 0x113df2b20>,\n",
       "  'LibraryCharges': {},\n",
       "  'ToolkitAM1BCC': <openff.toolkit.topology.topology.ValenceDict at 0x17222ee50>}]"
      ]
     },
     "execution_count": 6,
     "metadata": {},
     "output_type": "execute_result"
    }
   ],
   "source": [
    "ff_applied_parameters = force_field.label_molecules(ligand.to_topology())\n",
    "ff_applied_parameters"
   ]
  },
  {
   "cell_type": "markdown",
   "metadata": {},
   "source": [
    "`label_molecules()` returns a list of the molecules that can be parameterized from the arguments. It returns them as dictionaries that give us access to the `ForceField` parameters that are used for the molecule. Since we're only passing in a single molecule, `ff_applied_parameters` is a list of one element. We can see the bonds that are used for the ligand by converting the appropriate `ValenceDict` to a regular dictionary:"
   ]
  },
  {
   "cell_type": "code",
   "execution_count": 7,
   "metadata": {},
   "outputs": [
    {
     "data": {
      "text/plain": [
       "{(0,\n",
       "  1): <BondType with smirks: [#6X4:1]-[#6X4:2]  id: b1  length: 1.527940216866 angstrom  k: 419.9869268191 kilocalorie / angstrom ** 2 / mole  >,\n",
       " (0,\n",
       "  33): <BondType with smirks: [#6X4:1]-[#1:2]  id: b84  length: 1.090139506109 angstrom  k: 719.6424928981 kilocalorie / angstrom ** 2 / mole  >,\n",
       " (0,\n",
       "  34): <BondType with smirks: [#6X4:1]-[#1:2]  id: b84  length: 1.090139506109 angstrom  k: 719.6424928981 kilocalorie / angstrom ** 2 / mole  >,\n",
       " (0,\n",
       "  35): <BondType with smirks: [#6X4:1]-[#1:2]  id: b84  length: 1.090139506109 angstrom  k: 719.6424928981 kilocalorie / angstrom ** 2 / mole  >,\n",
       " (1,\n",
       "  2): <BondType with smirks: [#6X4:1]-[#6X4:2]  id: b1  length: 1.527940216866 angstrom  k: 419.9869268191 kilocalorie / angstrom ** 2 / mole  >,\n",
       " (1,\n",
       "  3): <BondType with smirks: [#6X4:1]-[#6X4:2]  id: b1  length: 1.527940216866 angstrom  k: 419.9869268191 kilocalorie / angstrom ** 2 / mole  >,\n",
       " (1,\n",
       "  4): <BondType with smirks: [#6X4:1]-[#6X3:2]  id: b2  length: 1.503434271105 angstrom  k: 484.1959214883 kilocalorie / angstrom ** 2 / mole  >,\n",
       " (2,\n",
       "  36): <BondType with smirks: [#6X4:1]-[#1:2]  id: b84  length: 1.090139506109 angstrom  k: 719.6424928981 kilocalorie / angstrom ** 2 / mole  >,\n",
       " (2,\n",
       "  37): <BondType with smirks: [#6X4:1]-[#1:2]  id: b84  length: 1.090139506109 angstrom  k: 719.6424928981 kilocalorie / angstrom ** 2 / mole  >,\n",
       " (2,\n",
       "  38): <BondType with smirks: [#6X4:1]-[#1:2]  id: b84  length: 1.090139506109 angstrom  k: 719.6424928981 kilocalorie / angstrom ** 2 / mole  >,\n",
       " (3,\n",
       "  39): <BondType with smirks: [#6X4:1]-[#1:2]  id: b84  length: 1.090139506109 angstrom  k: 719.6424928981 kilocalorie / angstrom ** 2 / mole  >,\n",
       " (3,\n",
       "  40): <BondType with smirks: [#6X4:1]-[#1:2]  id: b84  length: 1.090139506109 angstrom  k: 719.6424928981 kilocalorie / angstrom ** 2 / mole  >,\n",
       " (3,\n",
       "  41): <BondType with smirks: [#6X4:1]-[#1:2]  id: b84  length: 1.090139506109 angstrom  k: 719.6424928981 kilocalorie / angstrom ** 2 / mole  >,\n",
       " (4,\n",
       "  5): <BondType with smirks: [#6X3:1]:[#6X3:2]  id: b5  length: 1.394445702699 angstrom  k: 765.1465671607 kilocalorie / angstrom ** 2 / mole  >,\n",
       " (4,\n",
       "  11): <BondType with smirks: [#6X3:1]:[#6X3:2]  id: b5  length: 1.394445702699 angstrom  k: 765.1465671607 kilocalorie / angstrom ** 2 / mole  >,\n",
       " (5,\n",
       "  6): <BondType with smirks: [#6X3:1]-[#8X2H1:2]  id: b18  length: 1.367997231102 angstrom  k: 673.9493155918 kilocalorie / angstrom ** 2 / mole  >,\n",
       " (5,\n",
       "  7): <BondType with smirks: [#6X3:1]:[#6X3:2]  id: b5  length: 1.394445702699 angstrom  k: 765.1465671607 kilocalorie / angstrom ** 2 / mole  >,\n",
       " (6,\n",
       "  42): <BondType with smirks: [#8:1]-[#1:2]  id: b88  length: 0.981124525388 angstrom  k: 1069.809209734 kilocalorie / angstrom ** 2 / mole  >,\n",
       " (7,\n",
       "  8): <BondType with smirks: [#6X3:1]-[#8X2H1:2]  id: b18  length: 1.367997231102 angstrom  k: 673.9493155918 kilocalorie / angstrom ** 2 / mole  >,\n",
       " (7,\n",
       "  9): <BondType with smirks: [#6X3:1]:[#6X3:2]  id: b5  length: 1.394445702699 angstrom  k: 765.1465671607 kilocalorie / angstrom ** 2 / mole  >,\n",
       " (8,\n",
       "  43): <BondType with smirks: [#8:1]-[#1:2]  id: b88  length: 0.981124525388 angstrom  k: 1069.809209734 kilocalorie / angstrom ** 2 / mole  >,\n",
       " (9,\n",
       "  10): <BondType with smirks: [#6X3:1]:[#6X3:2]  id: b5  length: 1.394445702699 angstrom  k: 765.1465671607 kilocalorie / angstrom ** 2 / mole  >,\n",
       " (9,\n",
       "  32): <BondType with smirks: [#6X3:1]-[#7X3:2]  id: b8  length: 1.389681126838 angstrom  k: 640.6150893356 kilocalorie / angstrom ** 2 / mole  >,\n",
       " (10,\n",
       "  11): <BondType with smirks: [#6X3:1]:[#6X3:2]  id: b5  length: 1.394445702699 angstrom  k: 765.1465671607 kilocalorie / angstrom ** 2 / mole  >,\n",
       " (10,\n",
       "  13): <BondType with smirks: [#6X4:1]-[#6X3:2]  id: b2  length: 1.503434271105 angstrom  k: 484.1959214883 kilocalorie / angstrom ** 2 / mole  >,\n",
       " (11,\n",
       "  12): <BondType with smirks: [#6X3:1]-[#8X2H1:2]  id: b18  length: 1.367997231102 angstrom  k: 673.9493155918 kilocalorie / angstrom ** 2 / mole  >,\n",
       " (12,\n",
       "  44): <BondType with smirks: [#8:1]-[#1:2]  id: b88  length: 0.981124525388 angstrom  k: 1069.809209734 kilocalorie / angstrom ** 2 / mole  >,\n",
       " (13,\n",
       "  14): <BondType with smirks: [#6X4:1]-[#1:2]  id: b84  length: 1.090139506109 angstrom  k: 719.6424928981 kilocalorie / angstrom ** 2 / mole  >,\n",
       " (13,\n",
       "  15): <BondType with smirks: [#6X4:1]-[#8X2H0:2]  id: b16  length: 1.421832315661 angstrom  k: 434.3139352817 kilocalorie / angstrom ** 2 / mole  >,\n",
       " (13,\n",
       "  19): <BondType with smirks: [#6X4:1]-[#6X4:2]  id: b1  length: 1.527940216866 angstrom  k: 419.9869268191 kilocalorie / angstrom ** 2 / mole  >,\n",
       " (15,\n",
       "  16): <BondType with smirks: [#6X4:1]-[#8X2H0:2]  id: b16  length: 1.421832315661 angstrom  k: 434.3139352817 kilocalorie / angstrom ** 2 / mole  >,\n",
       " (16,\n",
       "  17): <BondType with smirks: [#6X4:1]-[#6X4:2]  id: b1  length: 1.527940216866 angstrom  k: 419.9869268191 kilocalorie / angstrom ** 2 / mole  >,\n",
       " (16,\n",
       "  45): <BondType with smirks: [#6X4:1]-[#1:2]  id: b84  length: 1.090139506109 angstrom  k: 719.6424928981 kilocalorie / angstrom ** 2 / mole  >,\n",
       " (16,\n",
       "  46): <BondType with smirks: [#6X4:1]-[#1:2]  id: b84  length: 1.090139506109 angstrom  k: 719.6424928981 kilocalorie / angstrom ** 2 / mole  >,\n",
       " (17,\n",
       "  18): <BondType with smirks: [#6X4:1]-[#6X4:2]  id: b1  length: 1.527940216866 angstrom  k: 419.9869268191 kilocalorie / angstrom ** 2 / mole  >,\n",
       " (17,\n",
       "  47): <BondType with smirks: [#6X4:1]-[#1:2]  id: b84  length: 1.090139506109 angstrom  k: 719.6424928981 kilocalorie / angstrom ** 2 / mole  >,\n",
       " (17,\n",
       "  48): <BondType with smirks: [#6X4:1]-[#1:2]  id: b84  length: 1.090139506109 angstrom  k: 719.6424928981 kilocalorie / angstrom ** 2 / mole  >,\n",
       " (18,\n",
       "  19): <BondType with smirks: [#6X4:1]-[#6X4:2]  id: b1  length: 1.527940216866 angstrom  k: 419.9869268191 kilocalorie / angstrom ** 2 / mole  >,\n",
       " (18,\n",
       "  49): <BondType with smirks: [#6X4:1]-[#1:2]  id: b84  length: 1.090139506109 angstrom  k: 719.6424928981 kilocalorie / angstrom ** 2 / mole  >,\n",
       " (18,\n",
       "  50): <BondType with smirks: [#6X4:1]-[#1:2]  id: b84  length: 1.090139506109 angstrom  k: 719.6424928981 kilocalorie / angstrom ** 2 / mole  >,\n",
       " (19,\n",
       "  20): <BondType with smirks: [#6X4:1]-[#1:2]  id: b84  length: 1.090139506109 angstrom  k: 719.6424928981 kilocalorie / angstrom ** 2 / mole  >,\n",
       " (19,\n",
       "  21): <BondType with smirks: [#6X4:1]-[#6X4:2]  id: b1  length: 1.527940216866 angstrom  k: 419.9869268191 kilocalorie / angstrom ** 2 / mole  >,\n",
       " (21,\n",
       "  22): <BondType with smirks: [#6X4:1]-[#1:2]  id: b84  length: 1.090139506109 angstrom  k: 719.6424928981 kilocalorie / angstrom ** 2 / mole  >,\n",
       " (21,\n",
       "  23): <BondType with smirks: [#6X4:1]-[#6X3:2]  id: b2  length: 1.503434271105 angstrom  k: 484.1959214883 kilocalorie / angstrom ** 2 / mole  >,\n",
       " (21,\n",
       "  32): <BondType with smirks: [#6:1]-[#7:2]  id: b7  length: 1.46420197713 angstrom  k: 457.1029448115 kilocalorie / angstrom ** 2 / mole  >,\n",
       " (23,\n",
       "  24): <BondType with smirks: [#6X3:1]:[#6X3:2]  id: b5  length: 1.394445702699 angstrom  k: 765.1465671607 kilocalorie / angstrom ** 2 / mole  >,\n",
       " (23,\n",
       "  31): <BondType with smirks: [#6X3:1]:[#6X3:2]  id: b5  length: 1.394445702699 angstrom  k: 765.1465671607 kilocalorie / angstrom ** 2 / mole  >,\n",
       " (24,\n",
       "  25): <BondType with smirks: [#6X3:1]:[#6X3:2]  id: b5  length: 1.394445702699 angstrom  k: 765.1465671607 kilocalorie / angstrom ** 2 / mole  >,\n",
       " (24,\n",
       "  51): <BondType with smirks: [#6X3:1]-[#1:2]  id: b85  length: 1.081823673944 angstrom  k: 775.3853383846 kilocalorie / angstrom ** 2 / mole  >,\n",
       " (25,\n",
       "  26): <BondType with smirks: [#6X3:1]-[#8X2H1:2]  id: b18  length: 1.367997231102 angstrom  k: 673.9493155918 kilocalorie / angstrom ** 2 / mole  >,\n",
       " (25,\n",
       "  27): <BondType with smirks: [#6X3:1]:[#6X3:2]  id: b5  length: 1.394445702699 angstrom  k: 765.1465671607 kilocalorie / angstrom ** 2 / mole  >,\n",
       " (26,\n",
       "  52): <BondType with smirks: [#8:1]-[#1:2]  id: b88  length: 0.981124525388 angstrom  k: 1069.809209734 kilocalorie / angstrom ** 2 / mole  >,\n",
       " (27,\n",
       "  28): <BondType with smirks: [#6X3:1]-[#8X2H1:2]  id: b18  length: 1.367997231102 angstrom  k: 673.9493155918 kilocalorie / angstrom ** 2 / mole  >,\n",
       " (27,\n",
       "  29): <BondType with smirks: [#6X3:1]:[#6X3:2]  id: b5  length: 1.394445702699 angstrom  k: 765.1465671607 kilocalorie / angstrom ** 2 / mole  >,\n",
       " (28,\n",
       "  53): <BondType with smirks: [#8:1]-[#1:2]  id: b88  length: 0.981124525388 angstrom  k: 1069.809209734 kilocalorie / angstrom ** 2 / mole  >,\n",
       " (29,\n",
       "  30): <BondType with smirks: [#6:1]-[#9:2]  id: b68  length: 1.351036117403 angstrom  k: 710.1945186755 kilocalorie / angstrom ** 2 / mole  >,\n",
       " (29,\n",
       "  31): <BondType with smirks: [#6X3:1]:[#6X3:2]  id: b5  length: 1.394445702699 angstrom  k: 765.1465671607 kilocalorie / angstrom ** 2 / mole  >,\n",
       " (31,\n",
       "  54): <BondType with smirks: [#6X3:1]-[#1:2]  id: b85  length: 1.081823673944 angstrom  k: 775.3853383846 kilocalorie / angstrom ** 2 / mole  >,\n",
       " (32,\n",
       "  55): <BondType with smirks: [#7:1]-[#1:2]  id: b87  length: 1.022553377106 angstrom  k: 964.6719203843 kilocalorie / angstrom ** 2 / mole  >}"
      ]
     },
     "execution_count": 7,
     "metadata": {},
     "output_type": "execute_result"
    }
   ],
   "source": [
    "dict(ff_applied_parameters[0][\"Bonds\"])"
   ]
  },
  {
   "cell_type": "markdown",
   "metadata": {},
   "source": [
    "Take a look at the first entry as an example. The dictionary is keyed by the atomic indices of the particles in the molecule that the parameter applies to, and the values are special types that specify the parameters from the force field. We'll look in more detail at one of these parameters in a second."
   ]
  },
  {
   "cell_type": "markdown",
   "metadata": {},
   "source": [
    "## A little goes a long way — Changing parameters"
   ]
  },
  {
   "cell_type": "markdown",
   "metadata": {},
   "source": [
    "We already decided we wanted to adjust the torsion parameter to the hydroxyl group, so let's do that. We know parameters are indexed by the atoms they've been applied to, so we can look at our labelled widget above and pull out exactly the parameter we care about:"
   ]
  },
  {
   "cell_type": "code",
   "execution_count": 8,
   "metadata": {},
   "outputs": [
    {
     "name": "stdout",
     "output_type": "stream",
     "text": [
      "The fluorine-carbon bond is between atoms (30, 29)\n"
     ]
    },
    {
     "data": {
      "text/plain": [
       "<BondType with smirks: [#6:1]-[#9:2]  id: b68  length: 1.351036117403 angstrom  k: 710.1945186755 kilocalorie / angstrom ** 2 / mole  >"
      ]
     },
     "execution_count": 8,
     "metadata": {},
     "output_type": "execute_result"
    }
   ],
   "source": [
    "fluorine = [atom for atom in ligand.atoms if atom.symbol == \"F\"][0]\n",
    "carbon = [neighbor_atom for neighbor_atom in fluorine.bonded_atoms][0]\n",
    "fluorine_carbon_bond_indices = (\n",
    "    fluorine.molecule_atom_index,\n",
    "    carbon.molecule_atom_index,\n",
    ")\n",
    "print(\"The fluorine-carbon bond is between atoms\", fluorine_carbon_bond_indices)\n",
    "\n",
    "ff_applied_parameters[0][\"Bonds\"][fluorine_carbon_bond_indices]"
   ]
  },
  {
   "cell_type": "markdown",
   "metadata": {},
   "source": [
    "<div class=\"alert alert-success\" style=\"max-width: 700px; margin-left: auto; margin-right: auto;\">\n",
    "    📗 We have to get the indices of these atoms out programmatically because our SMILES code doesn't specify atom indices, and so you might have different indices to us. Take a look at the widget above and try manually specifying atom indices to get the parameters of a bond! \n",
    "</div>"
   ]
  },
  {
   "cell_type": "markdown",
   "metadata": {},
   "source": [
    "Let's dig into this type a bit more. It has a few attributes in its textual representation. The first of these is maybe the most important: the `smirks` attribute, which tells the Toolkit which atoms this parameter applies to. SMIRKS is a chemical pattern matching format; think of it as the result of a [regular expression](https://en.wikipedia.org/wiki/Regular_expression) having a baby with a [SMILES string](https://en.wikipedia.org/wiki/Simplified_molecular-input_line-entry_system). This one is very simple: it is just a Carbon atom (`[#6:1]`, atomic number 6) singly bonded (`-`) to a Fluorine atom (`[#9:2]`, atomic number 9). The numbers after the colons just label the atoms — this is a bond, so it has two atoms labelled. This is helpful for when we want to match against atoms that aren't a part of the parameter; we just don't label the additional atoms. We'll use this trick later.\n",
    "\n",
    "The other important attributes provide the actual parameterization, and so are different for different kinds of parameters. For proper torsions, this is the periodicity of the sinewave that describes the torsion, as well as its phase and amplitude (or force constant, $k$). These parameter values are similar to the equivalent description in most other force field formats.\n",
    "\n",
    "\n",
    "<div class=\"alert alert-info\" style=\"max-width: 700px; margin-left: auto; margin-right: auto;\">\n",
    "    <p> ℹ️ The SMIRKS specification is available online:</p>\n",
    "    <p style=\"margin-left:3em;\">\n",
    "        <a href=https://www.daylight.com/dayhtml/doc/theory/theory.smirks.html>\n",
    "            https://www.daylight.com/dayhtml/doc/theory/theory.smirks.html\n",
    "        </a>\n",
    "    </p>\n",
    "    <p style=\"margin-left:1.5em;\">\n",
    "        It is closely related to the SMARTS molecular pattern matching language, \n",
    "        whose specification is probably more useful for working with the Toolkit\n",
    "        and is also available online:\n",
    "    </p>\n",
    "    <p style=\"margin-left:3em;\">\n",
    "        <a href = https://www.daylight.com/dayhtml/doc/theory/theory.smarts.html>\n",
    "            https://www.daylight.com/dayhtml/doc/theory/theory.smarts.html\n",
    "        </a>\n",
    "    </p>\n",
    "</div>\n",
    "\n",
    "\n",
    "### Modifying a parameter\n",
    "\n",
    "Unfortunately we can't just modify this parameter and see the results reflected in the parameterization. We need to get the appropriate parameter from the force field and modify it there."
   ]
  },
  {
   "cell_type": "code",
   "execution_count": 9,
   "metadata": {},
   "outputs": [],
   "source": [
    "fluorine_bond = force_field[\"Bonds\"].parameters[\"[#6:1]-[#9:2]\"]\n",
    "fluorine_bond.length = 10 * unit.angstrom"
   ]
  },
  {
   "cell_type": "markdown",
   "metadata": {},
   "source": [
    "Here, we've selected the proper torsion with the SMIRKS code we found earlier, and changed its force constant by an order of magnitude in the opposite direction! Let's see what we've wrought:"
   ]
  },
  {
   "cell_type": "code",
   "execution_count": 10,
   "metadata": {},
   "outputs": [
    {
     "name": "stdout",
     "output_type": "stream",
     "text": [
      "Initial energy is 111239.9 kJ/mol; Minimized energy is -347.6 kJ/mol\n"
     ]
    },
    {
     "data": {
      "application/vnd.jupyter.widget-view+json": {
       "model_id": "f4915ad4541040dc8ec7292eaa6b3e71",
       "version_major": 2,
       "version_minor": 0
      },
      "text/plain": [
       "NGLWidget()"
      ]
     },
     "metadata": {},
     "output_type": "display_data"
    }
   ],
   "source": [
    "minimize_and_visualize(ligand, force_field)"
   ]
  },
  {
   "cell_type": "markdown",
   "metadata": {},
   "source": [
    "Turns out Pinocchio was a real molecule all along!\n",
    "\n",
    "### Parameters affecting multiple atom groups\n",
    "\n",
    "Ok, that was fun, but it's only one parameter; we could easily have made this change in the OpenMM `System` or a GROMACS ITP file or whatever. What's the toolkit really giving us here?\n",
    "\n",
    "Let's mess with all the H-X-H angles. And let's not get into SMIRKS this time, lets let the toolkit do the thinking:"
   ]
  },
  {
   "cell_type": "code",
   "execution_count": 11,
   "metadata": {},
   "outputs": [
    {
     "name": "stdout",
     "output_type": "stream",
     "text": [
      "(33, 0, 34) <AngleType with smirks: [#1:1]-[#6X4:2]-[#1:3]  angle: 108.5839257083 degree  k: 75.08254435747 kilocalorie / mole / radian ** 2  id: a2  >\n",
      "(33, 0, 35) <AngleType with smirks: [#1:1]-[#6X4:2]-[#1:3]  angle: 108.5839257083 degree  k: 75.08254435747 kilocalorie / mole / radian ** 2  id: a2  >\n",
      "(34, 0, 35) <AngleType with smirks: [#1:1]-[#6X4:2]-[#1:3]  angle: 108.5839257083 degree  k: 75.08254435747 kilocalorie / mole / radian ** 2  id: a2  >\n",
      "(36, 2, 37) <AngleType with smirks: [#1:1]-[#6X4:2]-[#1:3]  angle: 108.5839257083 degree  k: 75.08254435747 kilocalorie / mole / radian ** 2  id: a2  >\n",
      "(36, 2, 38) <AngleType with smirks: [#1:1]-[#6X4:2]-[#1:3]  angle: 108.5839257083 degree  k: 75.08254435747 kilocalorie / mole / radian ** 2  id: a2  >\n",
      "(37, 2, 38) <AngleType with smirks: [#1:1]-[#6X4:2]-[#1:3]  angle: 108.5839257083 degree  k: 75.08254435747 kilocalorie / mole / radian ** 2  id: a2  >\n",
      "(39, 3, 40) <AngleType with smirks: [#1:1]-[#6X4:2]-[#1:3]  angle: 108.5839257083 degree  k: 75.08254435747 kilocalorie / mole / radian ** 2  id: a2  >\n",
      "(39, 3, 41) <AngleType with smirks: [#1:1]-[#6X4:2]-[#1:3]  angle: 108.5839257083 degree  k: 75.08254435747 kilocalorie / mole / radian ** 2  id: a2  >\n",
      "(40, 3, 41) <AngleType with smirks: [#1:1]-[#6X4:2]-[#1:3]  angle: 108.5839257083 degree  k: 75.08254435747 kilocalorie / mole / radian ** 2  id: a2  >\n",
      "(45, 16, 46) <AngleType with smirks: [#1:1]-[#6X4:2]-[#1:3]  angle: 108.5839257083 degree  k: 75.08254435747 kilocalorie / mole / radian ** 2  id: a2  >\n",
      "(47, 17, 48) <AngleType with smirks: [#1:1]-[#6X4:2]-[#1:3]  angle: 108.5839257083 degree  k: 75.08254435747 kilocalorie / mole / radian ** 2  id: a2  >\n",
      "(49, 18, 50) <AngleType with smirks: [#1:1]-[#6X4:2]-[#1:3]  angle: 108.5839257083 degree  k: 75.08254435747 kilocalorie / mole / radian ** 2  id: a2  >\n"
     ]
    }
   ],
   "source": [
    "ff_applied_parameters = force_field.label_molecules(ligand.to_topology())\n",
    "for atoms, parameter in ff_applied_parameters[0][\"Angles\"].items():\n",
    "    ele_1 = ligand.atoms[atoms[0]].symbol\n",
    "    ele_2 = ligand.atoms[atoms[1]].symbol\n",
    "    ele_3 = ligand.atoms[atoms[2]].symbol\n",
    "    if ele_1 == \"H\" and ele_3 == \"H\":\n",
    "        print(atoms, parameter)"
   ]
  },
  {
   "cell_type": "markdown",
   "metadata": {},
   "source": [
    "Wow, there's just one `smirks` parameter describing all of the H-X-H angles!\n",
    "\n",
    "<div class=\"alert alert-info\" style=\"max-width: 700px; margin-left: auto; margin-right: auto;\">\n",
    "    ℹ️ It's worth mentioning here that a force field might include multiple parameters with SMIRKS that match a particular group of atoms. When this happens, only the last parameter specified is applied. This allows force field authors to define general parameters first, and then override them with more specific parameters.\n",
    "</div>\n",
    "\n",
    "<div class=\"alert alert-success\" style=\"max-width: 700px; margin-left: auto; margin-right: auto;\">\n",
    "    📗 Convince yourself that this SMIRKS code matches all of the H-X-H angles in our molecule. What H-X-H angles would it not match?\n",
    "</div>\n"
   ]
  },
  {
   "cell_type": "code",
   "execution_count": 12,
   "metadata": {},
   "outputs": [
    {
     "name": "stdout",
     "output_type": "stream",
     "text": [
      "Initial energy is 113123.0 kJ/mol; Minimized energy is -158.4 kJ/mol\n"
     ]
    },
    {
     "data": {
      "application/vnd.jupyter.widget-view+json": {
       "model_id": "adba7c7228964299ab33c85f94677f4a",
       "version_major": 2,
       "version_minor": 0
      },
      "text/plain": [
       "NGLWidget()"
      ]
     },
     "metadata": {},
     "output_type": "display_data"
    }
   ],
   "source": [
    "hxh_angle = force_field[\"Angles\"].parameters[\"[#1:1]-[#6X4:2]-[#1:3]\"]\n",
    "hxh_angle.angle = 50 * unit.degree\n",
    "\n",
    "minimize_and_visualize(ligand, force_field)"
   ]
  },
  {
   "cell_type": "markdown",
   "metadata": {},
   "source": [
    "That is not how a methyl group is supposed to look. Guess we did it right!"
   ]
  },
  {
   "cell_type": "markdown",
   "metadata": {},
   "source": [
    "## Introducing a new parameter\n",
    "\n",
    "Now let's get really crazy. I've always thought heteroatoms in rings looked a bit too comfortable, haven't you?\n",
    "\n",
    "Since we have two cyclic heteroatoms in our molecule with very different chemistries, there'll probably be two seperate parameters we need to modify. We can just pass the SMIRKS that come up for C-X-C angles to code that modifies the parameters directly, no need to manually copy it over. "
   ]
  },
  {
   "cell_type": "code",
   "execution_count": 13,
   "metadata": {},
   "outputs": [
    {
     "name": "stdout",
     "output_type": "stream",
     "text": [
      "(9, 32, 21) <AngleType with smirks: [*:1]~[#7X3$(*~[#6X3,#6X2,#7X2+0]):2]~[*:3]  angle: 119.1748379248 degree  k: 151.142556131 kilocalorie / mole / radian ** 2  id: a20  >\n",
      "(13, 15, 16) <AngleType with smirks: [*:1]-[#8:2]-[*:3]  angle: 111.9874516071 degree  k: 237.851218935 kilocalorie / mole / radian ** 2  id: a28  >\n",
      "Initial energy is 117708.9 kJ/mol; Minimized energy is 153.1 kJ/mol\n"
     ]
    },
    {
     "data": {
      "application/vnd.jupyter.widget-view+json": {
       "model_id": "88c24196e4ce46b49039f7f6a2184752",
       "version_major": 2,
       "version_minor": 0
      },
      "text/plain": [
       "NGLWidget()"
      ]
     },
     "metadata": {},
     "output_type": "display_data"
    }
   ],
   "source": [
    "ff_applied_parameters = force_field.label_molecules(ligand.to_topology())\n",
    "for atoms, parameter in ff_applied_parameters[0][\"Angles\"].items():\n",
    "    ele_1 = ligand.atoms[atoms[0]].symbol\n",
    "    ele_2 = ligand.atoms[atoms[1]].symbol\n",
    "    ele_3 = ligand.atoms[atoms[2]].symbol\n",
    "    if (ele_2 not in [\"C\", \"H\"]) and ele_1 == \"C\" and ele_3 == \"C\":\n",
    "        print(atoms, parameter)\n",
    "\n",
    "        smirks = parameter.smirks\n",
    "        heteroatom_angle = force_field[\"Angles\"].parameters[smirks]\n",
    "        # dihedral angles are undefined when linear, so let's not set to 180\n",
    "        heteroatom_angle.angle = 179 * unit.degree\n",
    "\n",
    "        # We'll need this later\n",
    "        if ele_2 == \"N\":\n",
    "            cyclic_nitrogen_smirks = smirks\n",
    "\n",
    "minimize_and_visualize(ligand, force_field)"
   ]
  },
  {
   "cell_type": "markdown",
   "metadata": {},
   "source": [
    "Oops! We didn't mean to make all the hydroxyl groups linear! One of our parameters must be applied to Oxygen both when its in a ring and in a hydroxyl group. Sure enough, the second SMIRKS code printed above (`[*:1]-[#8:2]-[*:3]`) matches any X-O-X angle! We'll have to define a new, more specific SMIRKS entry so we only capture the appropriate oxygen."
   ]
  },
  {
   "cell_type": "markdown",
   "metadata": {},
   "source": [
    "### The SMIRKS for our new parameter\n",
    "\n",
    "Our modified force field is getting a bit messy, so let's start again. We still want the nitrogen angle from before, so lets save that too"
   ]
  },
  {
   "cell_type": "code",
   "execution_count": 14,
   "metadata": {},
   "outputs": [],
   "source": [
    "force_field = ForceField(\"openff-2.1.0.offxml\")\n",
    "cyclic_nitrogen_angle = force_field[\"Angles\"].parameters[cyclic_nitrogen_smirks]\n",
    "cyclic_nitrogen_angle.angle = 179 * unit.degree"
   ]
  },
  {
   "cell_type": "markdown",
   "metadata": {},
   "source": [
    "Now we need to define a new SMIRKS entry, specific to oxygens in a ring. We can be as specific as we like, as our new parameter will be at the end of the force field and so will override any conflicting parameters. Let's define our smirks to match any singly-bonded C-O-C angle in a six-membered pyran ring.\n",
    "\n",
    "First, we'll write down the SMILES for a pyran:\n",
    "\n",
    "`C1CCOCC1`\n",
    "\n",
    "The first carbon has a digit following it, `C1`, which allows us to close the ring later. Then we have two more carbons, `CC`, an oxygen, `O`, and the final two carbons, `CC`. Finally, we close the ring by repeating the same digit from before, `1`. Lets check that this produces the chemical we expect before we move on:"
   ]
  },
  {
   "cell_type": "code",
   "execution_count": 15,
   "metadata": {},
   "outputs": [
    {
     "data": {
      "image/svg+xml": [
       "<svg xmlns=\"http://www.w3.org/2000/svg\" xmlns:rdkit=\"http://www.rdkit.org/xml\" xmlns:xlink=\"http://www.w3.org/1999/xlink\" version=\"1.1\" baseProfile=\"full\" xml:space=\"preserve\" width=\"500px\" height=\"300px\" viewBox=\"0 0 500 300\">\n",
       "<!-- END OF HEADER -->\n",
       "<rect style=\"opacity:1.0;fill:#FFFFFF;stroke:none\" width=\"500.0\" height=\"300.0\" x=\"0.0\" y=\"0.0\"> </rect>\n",
       "<path class=\"bond-0 atom-0 atom-5\" d=\"M 308.9,182.2 L 249.5,216.5\" style=\"fill:none;fill-rule:evenodd;stroke:#000000;stroke-width:2.0px;stroke-linecap:butt;stroke-linejoin:miter;stroke-opacity:1\"/>\n",
       "<path class=\"bond-1 atom-0 atom-1\" d=\"M 308.9,182.2 L 309.0,113.6\" style=\"fill:none;fill-rule:evenodd;stroke:#000000;stroke-width:2.0px;stroke-linecap:butt;stroke-linejoin:miter;stroke-opacity:1\"/>\n",
       "<path class=\"bond-2 atom-1 atom-2\" d=\"M 309.0,113.6 L 249.5,79.4\" style=\"fill:none;fill-rule:evenodd;stroke:#000000;stroke-width:2.0px;stroke-linecap:butt;stroke-linejoin:miter;stroke-opacity:1\"/>\n",
       "<path class=\"bond-3 atom-2 atom-3\" d=\"M 249.5,79.4 L 227.4,92.1\" style=\"fill:none;fill-rule:evenodd;stroke:#000000;stroke-width:2.0px;stroke-linecap:butt;stroke-linejoin:miter;stroke-opacity:1\"/>\n",
       "<path class=\"bond-3 atom-2 atom-3\" d=\"M 227.4,92.1 L 205.4,104.7\" style=\"fill:none;fill-rule:evenodd;stroke:#FF0000;stroke-width:2.0px;stroke-linecap:butt;stroke-linejoin:miter;stroke-opacity:1\"/>\n",
       "<path class=\"bond-4 atom-3 atom-4\" d=\"M 190.2,130.4 L 190.3,156.2\" style=\"fill:none;fill-rule:evenodd;stroke:#FF0000;stroke-width:2.0px;stroke-linecap:butt;stroke-linejoin:miter;stroke-opacity:1\"/>\n",
       "<path class=\"bond-4 atom-3 atom-4\" d=\"M 190.3,156.2 L 190.3,181.9\" style=\"fill:none;fill-rule:evenodd;stroke:#000000;stroke-width:2.0px;stroke-linecap:butt;stroke-linejoin:miter;stroke-opacity:1\"/>\n",
       "<path class=\"bond-5 atom-4 atom-5\" d=\"M 190.3,181.9 L 249.5,216.5\" style=\"fill:none;fill-rule:evenodd;stroke:#000000;stroke-width:2.0px;stroke-linecap:butt;stroke-linejoin:miter;stroke-opacity:1\"/>\n",
       "<path class=\"bond-6 atom-0 atom-6\" d=\"M 308.9,182.2 L 328.9,228.1\" style=\"fill:none;fill-rule:evenodd;stroke:#000000;stroke-width:2.0px;stroke-linecap:butt;stroke-linejoin:miter;stroke-opacity:1\"/>\n",
       "<path class=\"bond-7 atom-0 atom-7\" d=\"M 308.9,182.2 L 363.6,174.2\" style=\"fill:none;fill-rule:evenodd;stroke:#000000;stroke-width:2.0px;stroke-linecap:butt;stroke-linejoin:miter;stroke-opacity:1\"/>\n",
       "<path class=\"bond-8 atom-1 atom-8\" d=\"M 309.0,113.6 L 350.7,117.6\" style=\"fill:none;fill-rule:evenodd;stroke:#000000;stroke-width:2.0px;stroke-linecap:butt;stroke-linejoin:miter;stroke-opacity:1\"/>\n",
       "<path class=\"bond-9 atom-1 atom-9\" d=\"M 309.0,113.6 L 327.6,66.2\" style=\"fill:none;fill-rule:evenodd;stroke:#000000;stroke-width:2.0px;stroke-linecap:butt;stroke-linejoin:miter;stroke-opacity:1\"/>\n",
       "<path class=\"bond-10 atom-2 atom-10\" d=\"M 249.5,79.4 L 269.9,50.3\" style=\"fill:none;fill-rule:evenodd;stroke:#000000;stroke-width:2.0px;stroke-linecap:butt;stroke-linejoin:miter;stroke-opacity:1\"/>\n",
       "<path class=\"bond-11 atom-2 atom-11\" d=\"M 249.5,79.4 L 217.1,43.1\" style=\"fill:none;fill-rule:evenodd;stroke:#000000;stroke-width:2.0px;stroke-linecap:butt;stroke-linejoin:miter;stroke-opacity:1\"/>\n",
       "<path class=\"bond-12 atom-4 atom-12\" d=\"M 190.3,181.9 L 136.4,170.1\" style=\"fill:none;fill-rule:evenodd;stroke:#000000;stroke-width:2.0px;stroke-linecap:butt;stroke-linejoin:miter;stroke-opacity:1\"/>\n",
       "<path class=\"bond-13 atom-4 atom-13\" d=\"M 190.3,181.9 L 175.1,213.7\" style=\"fill:none;fill-rule:evenodd;stroke:#000000;stroke-width:2.0px;stroke-linecap:butt;stroke-linejoin:miter;stroke-opacity:1\"/>\n",
       "<path class=\"bond-14 atom-5 atom-14\" d=\"M 249.5,216.5 L 219.1,253.3\" style=\"fill:none;fill-rule:evenodd;stroke:#000000;stroke-width:2.0px;stroke-linecap:butt;stroke-linejoin:miter;stroke-opacity:1\"/>\n",
       "<path class=\"bond-15 atom-5 atom-15\" d=\"M 249.5,216.5 L 276.9,255.5\" style=\"fill:none;fill-rule:evenodd;stroke:#000000;stroke-width:2.0px;stroke-linecap:butt;stroke-linejoin:miter;stroke-opacity:1\"/>\n",
       "<path class=\"atom-3\" d=\"M 177.2 113.6 Q 177.2 106.8, 180.6 103.0 Q 184.0 99.2, 190.2 99.2 Q 196.5 99.2, 199.9 103.0 Q 203.2 106.8, 203.2 113.6 Q 203.2 120.4, 199.8 124.4 Q 196.4 128.2, 190.2 128.2 Q 184.0 128.2, 180.6 124.4 Q 177.2 120.5, 177.2 113.6 M 190.2 125.0 Q 194.6 125.0, 196.9 122.2 Q 199.2 119.2, 199.2 113.6 Q 199.2 108.0, 196.9 105.2 Q 194.6 102.4, 190.2 102.4 Q 185.9 102.4, 183.6 105.2 Q 181.2 108.0, 181.2 113.6 Q 181.2 119.3, 183.6 122.2 Q 185.9 125.0, 190.2 125.0 \" fill=\"#FF0000\"/>\n",
       "<path class=\"atom-6\" d=\"M 324.9 230.2 L 328.8 230.2 L 328.8 242.3 L 343.3 242.3 L 343.3 230.2 L 347.1 230.2 L 347.1 258.6 L 343.3 258.6 L 343.3 245.5 L 328.8 245.5 L 328.8 258.6 L 324.9 258.6 L 324.9 230.2 \" fill=\"#000000\"/>\n",
       "<path class=\"atom-7\" d=\"M 365.7 158.1 L 369.6 158.1 L 369.6 170.2 L 384.1 170.2 L 384.1 158.1 L 387.9 158.1 L 387.9 186.4 L 384.1 186.4 L 384.1 173.4 L 369.6 173.4 L 369.6 186.4 L 365.7 186.4 L 365.7 158.1 \" fill=\"#000000\"/>\n",
       "<path class=\"atom-8\" d=\"M 352.8 104.8 L 356.7 104.8 L 356.7 116.8 L 371.2 116.8 L 371.2 104.8 L 375.0 104.8 L 375.0 133.1 L 371.2 133.1 L 371.2 120.0 L 356.7 120.0 L 356.7 133.1 L 352.8 133.1 L 352.8 104.8 \" fill=\"#000000\"/>\n",
       "<path class=\"atom-9\" d=\"M 323.0 35.7 L 326.8 35.7 L 326.8 47.7 L 341.3 47.7 L 341.3 35.7 L 345.2 35.7 L 345.2 64.0 L 341.3 64.0 L 341.3 50.9 L 326.8 50.9 L 326.8 64.0 L 323.0 64.0 L 323.0 35.7 \" fill=\"#000000\"/>\n",
       "<path class=\"atom-10\" d=\"M 270.3 19.8 L 274.2 19.8 L 274.2 31.8 L 288.6 31.8 L 288.6 19.8 L 292.5 19.8 L 292.5 48.1 L 288.6 48.1 L 288.6 35.0 L 274.2 35.0 L 274.2 48.1 L 270.3 48.1 L 270.3 19.8 \" fill=\"#000000\"/>\n",
       "<path class=\"atom-11\" d=\"M 192.7 14.0 L 196.6 14.0 L 196.6 26.1 L 211.0 26.1 L 211.0 14.0 L 214.9 14.0 L 214.9 42.4 L 211.0 42.4 L 211.0 29.3 L 196.6 29.3 L 196.6 42.4 L 192.7 42.4 L 192.7 14.0 \" fill=\"#000000\"/>\n",
       "<path class=\"atom-12\" d=\"M 112.1 153.1 L 115.9 153.1 L 115.9 165.1 L 130.4 165.1 L 130.4 153.1 L 134.3 153.1 L 134.3 181.4 L 130.4 181.4 L 130.4 168.3 L 115.9 168.3 L 115.9 181.4 L 112.1 181.4 L 112.1 153.1 \" fill=\"#000000\"/>\n",
       "<path class=\"atom-13\" d=\"M 156.2 215.8 L 160.0 215.8 L 160.0 227.9 L 174.5 227.9 L 174.5 215.8 L 178.3 215.8 L 178.3 244.2 L 174.5 244.2 L 174.5 231.1 L 160.0 231.1 L 160.0 244.2 L 156.2 244.2 L 156.2 215.8 \" fill=\"#000000\"/>\n",
       "<path class=\"atom-14\" d=\"M 194.8 255.2 L 198.6 255.2 L 198.6 267.2 L 213.1 267.2 L 213.1 255.2 L 216.9 255.2 L 216.9 283.5 L 213.1 283.5 L 213.1 270.4 L 198.6 270.4 L 198.6 283.5 L 194.8 283.5 L 194.8 255.2 \" fill=\"#000000\"/>\n",
       "<path class=\"atom-15\" d=\"M 277.3 257.6 L 281.1 257.6 L 281.1 269.7 L 295.6 269.7 L 295.6 257.6 L 299.4 257.6 L 299.4 286.0 L 295.6 286.0 L 295.6 272.9 L 281.1 272.9 L 281.1 286.0 L 277.3 286.0 L 277.3 257.6 \" fill=\"#000000\"/>\n",
       "</svg>"
      ],
      "text/plain": [
       "<IPython.core.display.SVG object>"
      ]
     },
     "execution_count": 15,
     "metadata": {},
     "output_type": "execute_result"
    }
   ],
   "source": [
    "Molecule.from_smiles(\"C1CCOCC1\").visualize()"
   ]
  },
  {
   "cell_type": "markdown",
   "metadata": {},
   "source": [
    "Perfect. We can ignore the hydrogens, as we haven't specified any bond orders - our smirks will match the saturated structure or any of its derivatives that maintain the ring. Now all we have to do is label the atoms we want to extract the bond from! This way, all the atoms must be present for the SMIRKS to match, but only these three atoms define the angle for the parameter. This lets us be more specific than we could be if we could only describe the atoms in the angle itself. We do that the same way we did before, put them in square brackets and append a colon and a number:"
   ]
  },
  {
   "cell_type": "code",
   "execution_count": 16,
   "metadata": {},
   "outputs": [],
   "source": [
    "cyclic_oxygen_smirks = \"C1C[C:1]-[O:2]-[C:3]C1\""
   ]
  },
  {
   "cell_type": "markdown",
   "metadata": {},
   "source": [
    "\n",
    "<div class=\"alert alert-success\" style=\"max-width: 700px; margin-left: auto; margin-right: auto;\">\n",
    "    📗 Try replacing this SMIRKS code with one of your own. Hint: For this force field and ligand, there's a much simpler code that will uniquely specify the C-O-C bond!\n",
    "</div>\n"
   ]
  },
  {
   "cell_type": "markdown",
   "metadata": {},
   "source": [
    "### Defining and registering the new parameter\n",
    "\n",
    "Now, all that's left is to define the angle parameter, add it to the force field, and see what we've wrought!"
   ]
  },
  {
   "cell_type": "code",
   "execution_count": 17,
   "metadata": {
    "scrolled": true
   },
   "outputs": [
    {
     "name": "stdout",
     "output_type": "stream",
     "text": [
      "Initial energy is 520.3 kJ/mol; Minimized energy is -125.2 kJ/mol\n"
     ]
    },
    {
     "data": {
      "application/vnd.jupyter.widget-view+json": {
       "model_id": "d49e43d736474a77b90ee8f1f417f8ce",
       "version_major": 2,
       "version_minor": 0
      },
      "text/plain": [
       "NGLWidget()"
      ]
     },
     "metadata": {},
     "output_type": "display_data"
    }
   ],
   "source": [
    "# Define the new angle parameter\n",
    "angle_parameter = offtk_parameters.AngleHandler.AngleType(\n",
    "    smirks=cyclic_oxygen_smirks,\n",
    "    angle=179 * unit.degree,\n",
    "    k=134.5019777341 * unit.kilocalorie / (unit.mole * unit.radians**2),\n",
    ")\n",
    "\n",
    "# Add the parameter to the force field\n",
    "angles_handler = force_field[\"Angles\"]\n",
    "angles_handler.add_parameter(parameter=angle_parameter)\n",
    "\n",
    "# Visualize the newly parameterized molecule\n",
    "minimize_and_visualize(ligand, force_field)"
   ]
  },
  {
   "cell_type": "markdown",
   "metadata": {},
   "source": [
    "Perfect! The two cyclic heteroatoms are nearly linear while the hydroxyl group retains its characteristic angle."
   ]
  },
  {
   "cell_type": "markdown",
   "metadata": {},
   "source": [
    "### Bonus: Adding a cosmetic attribute to the new parameter\n",
    "\n",
    "In some cases, you might want to tag a particular attribute with extra data. This might be useful, for example, in communicating to a fitting tool which parameters should be fitted, or simply to add extra metadata.. The toolkit allows for _cosmetic attributes_, which can be stored to individual parameters, will be included out when the `ForceField` object is written to disk, but will not otherwise affect the parameterization machinery. The API point for this is [`ParameterType.add_cosmetic_attribute`](https://docs.openforcefield.org/projects/toolkit/en/stable/api/generated/openff.toolkit.typing.engines.smirnoff.parameters.ParameterType.html#openff.toolkit.typing.engines.smirnoff.parameters.ParameterType.add_cosmetic_attribute).\n",
    "\n",
    "Let's use this to tag our modified and new parameters with a note about why we introduced it."
   ]
  },
  {
   "cell_type": "code",
   "execution_count": 18,
   "metadata": {},
   "outputs": [],
   "source": [
    "angles_handler.parameters[cyclic_nitrogen_smirks].add_cosmetic_attribute(\n",
    "    attr_name=\"note\",\n",
    "    attr_value=\"funky pseudo-linear cyclic nitrogen\",\n",
    ")\n",
    "\n",
    "angles_handler.parameters[cyclic_oxygen_smirks].add_cosmetic_attribute(\n",
    "    attr_name=\"note\",\n",
    "    attr_value=\"funky pseudo-linear cyclic oxygen\",\n",
    ")"
   ]
  },
  {
   "cell_type": "markdown",
   "metadata": {},
   "source": [
    "We we look at these parameter now, they include this attribute tacked on at the end:"
   ]
  },
  {
   "cell_type": "code",
   "execution_count": 19,
   "metadata": {},
   "outputs": [
    {
     "data": {
      "text/plain": [
       "<AngleType with smirks: [*:1]~[#7X3$(*~[#6X3,#6X2,#7X2+0]):2]~[*:3]  angle: 179 degree  k: 151.142556131 kilocalorie / mole / radian ** 2  id: a20  note: funky pseudo-linear cyclic nitrogen  >"
      ]
     },
     "execution_count": 19,
     "metadata": {},
     "output_type": "execute_result"
    }
   ],
   "source": [
    "angles_handler.parameters[cyclic_nitrogen_smirks]"
   ]
  },
  {
   "cell_type": "code",
   "execution_count": 20,
   "metadata": {},
   "outputs": [
    {
     "data": {
      "text/plain": [
       "<AngleType with smirks: C1C[C:1]-[O:2]-[C:3]C1  angle: 179 degree  k: 134.5019777341 kilocalorie / mole / radian ** 2  note: funky pseudo-linear cyclic oxygen  >"
      ]
     },
     "execution_count": 20,
     "metadata": {},
     "output_type": "execute_result"
    }
   ],
   "source": [
    "angles_handler.parameters[cyclic_oxygen_smirks]"
   ]
  },
  {
   "cell_type": "markdown",
   "metadata": {},
   "source": [
    "Cometic attributes are included by default when [writing to disk](https://docs.openforcefield.org/projects/toolkit/en/stable/api/generated/openff.toolkit.typing.engines.smirnoff.ForceField.html#openff.toolkit.typing.engines.smirnoff.ForceField.to_file). (This can be turned off by flipping the argument `discard_cosmetic_attributes` to `True`.) Let's write out our modified force field and search through the file for the note we added."
   ]
  },
  {
   "cell_type": "code",
   "execution_count": 21,
   "metadata": {},
   "outputs": [],
   "source": [
    "force_field.to_file(\"modified.offxml\")"
   ]
  },
  {
   "cell_type": "code",
   "execution_count": 22,
   "metadata": {},
   "outputs": [
    {
     "name": "stdout",
     "output_type": "stream",
     "text": [
      "        <Angle smirks=\"[*:1]~[#7X3$(*~[#6X3,#6X2,#7X2+0]):2]~[*:3]\" angle=\"179 * degree ** 1\" k=\"151.142556131 * mole ** -1 * radian ** -2 * kilocalorie ** 1\" id=\"a20\" note=\"funky pseudo-linear cyclic nitrogen\"></Angle>\n",
      "        <Angle smirks=\"C1C[C:1]-[O:2]-[C:3]C1\" angle=\"179 * degree ** 1\" k=\"134.5019777341 * kilocalorie ** 1 * mole ** -1 * radian ** -2\" note=\"funky pseudo-linear cyclic oxygen\"></Angle>\n"
     ]
    }
   ],
   "source": [
    "!grep funky modified.offxml"
   ]
  },
  {
   "cell_type": "code",
   "execution_count": null,
   "metadata": {},
   "outputs": [],
   "source": []
  }
 ],
 "metadata": {
  "category": "force_field_dev",
  "kernelspec": {
   "display_name": "Python 3 (ipykernel)",
   "language": "python",
   "name": "python3"
  },
  "language_info": {
   "codemirror_mode": {
    "name": "ipython",
    "version": 3
   },
   "file_extension": ".py",
   "mimetype": "text/x-python",
   "name": "python",
   "nbconvert_exporter": "python",
   "pygments_lexer": "ipython3",
   "version": "3.9.18"
  },
  "widgets": {
   "application/vnd.jupyter.widget-state+json": {
    "state": {
     "05cd21ce707f4c2a81a8f4d32fdc7672": {
      "model_module": "@jupyter-widgets/controls",
      "model_module_version": "2.0.0",
      "model_name": "SliderStyleModel",
      "state": {
       "_model_module": "@jupyter-widgets/controls",
       "_model_module_version": "2.0.0",
       "_model_name": "SliderStyleModel",
       "_view_count": null,
       "_view_module": "@jupyter-widgets/base",
       "_view_module_version": "2.0.0",
       "_view_name": "StyleView",
       "description_width": "",
       "handle_color": null
      }
     },
     "06762b065dbc46f6bea80e3cf5d249d6": {
      "model_module": "@jupyter-widgets/base",
      "model_module_version": "2.0.0",
      "model_name": "LayoutModel",
      "state": {
       "_model_module": "@jupyter-widgets/base",
       "_model_module_version": "2.0.0",
       "_model_name": "LayoutModel",
       "_view_count": null,
       "_view_module": "@jupyter-widgets/base",
       "_view_module_version": "2.0.0",
       "_view_name": "LayoutView",
       "align_content": null,
       "align_items": null,
       "align_self": null,
       "border_bottom": null,
       "border_left": null,
       "border_right": null,
       "border_top": null,
       "bottom": null,
       "display": null,
       "flex": null,
       "flex_flow": null,
       "grid_area": null,
       "grid_auto_columns": null,
       "grid_auto_flow": null,
       "grid_auto_rows": null,
       "grid_column": null,
       "grid_gap": null,
       "grid_row": null,
       "grid_template_areas": null,
       "grid_template_columns": null,
       "grid_template_rows": null,
       "height": null,
       "justify_content": null,
       "justify_items": null,
       "left": null,
       "margin": null,
       "max_height": null,
       "max_width": null,
       "min_height": null,
       "min_width": null,
       "object_fit": null,
       "object_position": null,
       "order": null,
       "overflow": null,
       "padding": null,
       "right": null,
       "top": null,
       "visibility": null,
       "width": "34px"
      }
     },
     "0928e10ef1ae40e7a0f16f17fcc3a3d9": {
      "model_module": "@jupyter-widgets/base",
      "model_module_version": "2.0.0",
      "model_name": "LayoutModel",
      "state": {
       "_model_module": "@jupyter-widgets/base",
       "_model_module_version": "2.0.0",
       "_model_name": "LayoutModel",
       "_view_count": null,
       "_view_module": "@jupyter-widgets/base",
       "_view_module_version": "2.0.0",
       "_view_name": "LayoutView",
       "align_content": null,
       "align_items": null,
       "align_self": null,
       "border_bottom": null,
       "border_left": null,
       "border_right": null,
       "border_top": null,
       "bottom": null,
       "display": null,
       "flex": null,
       "flex_flow": null,
       "grid_area": null,
       "grid_auto_columns": null,
       "grid_auto_flow": null,
       "grid_auto_rows": null,
       "grid_column": null,
       "grid_gap": null,
       "grid_row": null,
       "grid_template_areas": null,
       "grid_template_columns": null,
       "grid_template_rows": null,
       "height": null,
       "justify_content": null,
       "justify_items": null,
       "left": null,
       "margin": null,
       "max_height": null,
       "max_width": null,
       "min_height": null,
       "min_width": null,
       "object_fit": null,
       "object_position": null,
       "order": null,
       "overflow": null,
       "padding": null,
       "right": null,
       "top": null,
       "visibility": null,
       "width": null
      }
     },
     "0eba6dcef0814756997dc93327c9f58c": {
      "model_module": "nglview-js-widgets",
      "model_module_version": "3.0.6",
      "model_name": "NGLModel",
      "state": {
       "_camera_orientation": [],
       "_camera_str": "orthographic",
       "_dom_classes": [],
       "_gui_theme": null,
       "_ibtn_fullscreen": "IPY_MODEL_f12631c577914707a6735a4338b4aa57",
       "_igui": null,
       "_iplayer": "IPY_MODEL_42fa396334fc480fab5a63922e8cd7f3",
       "_model_module": "nglview-js-widgets",
       "_model_module_version": "3.0.6",
       "_model_name": "NGLModel",
       "_ngl_color_dict": {},
       "_ngl_coordinate_resource": {},
       "_ngl_full_stage_parameters": {},
       "_ngl_msg_archive": [
        {
         "args": [
          {
           "binary": false,
           "data": "HETATM    1  C1  UNL     1       5.360   1.804  -0.133  1.00  0.00           C  \nHETATM    2  C2  UNL     1       4.788   0.419   0.245  1.00  0.00           C  \nHETATM    3  C3  UNL     1       5.332  -0.027   1.619  1.00  0.00           C  \nHETATM    4  C4  UNL     1       5.411  -0.558  -0.778  1.00  0.00           C  \nHETATM    5  C5  UNL     1       3.230   0.476   0.288  1.00  0.00           C  \nHETATM    6  C6  UNL     1       2.583   1.384   1.166  1.00  0.00           C  \nHETATM    7  O1  UNL     1       3.212   2.231   2.026  1.00  0.00           O  \nHETATM    8  C7  UNL     1       1.197   1.488   1.248  1.00  0.00           C  \nHETATM    9  O2  UNL     1       0.621   2.359   2.153  1.00  0.00           O  \nHETATM   10  C8  UNL     1       0.392   0.694   0.443  1.00  0.00           C  \nHETATM   11  C9  UNL     1       0.956  -0.232  -0.432  1.00  0.00           C  \nHETATM   12  C10 UNL     1       2.362  -0.344  -0.494  1.00  0.00           C  \nHETATM   13  O3  UNL     1       2.805  -1.310  -1.347  1.00  0.00           O  \nHETATM   14  C11 UNL     1       0.073  -1.057  -1.360  1.00  0.00           C  \nHETATM   15  O4  UNL     1       0.423  -2.454  -1.249  1.00  0.00           O  \nHETATM   16  C12 UNL     1      -0.323  -3.185  -0.268  1.00  0.00           C  \nHETATM   17  C13 UNL     1      -1.798  -3.271  -0.686  1.00  0.00           C  \nHETATM   18  C14 UNL     1      -2.225  -2.090  -1.576  1.00  0.00           C  \nHETATM   19  C15 UNL     1      -1.455  -0.798  -1.231  1.00  0.00           C  \nHETATM   20  C16 UNL     1      -1.854  -0.256   0.158  1.00  0.00           C  \nHETATM   21  C17 UNL     1      -3.288   0.241   0.195  1.00  0.00           C  \nHETATM   22  C18 UNL     1      -4.209  -0.334   1.085  1.00  0.00           C  \nHETATM   23  C19 UNL     1      -5.537   0.104   1.134  1.00  0.00           C  \nHETATM   24  O5  UNL     1      -6.404  -0.487   2.017  1.00  0.00           O  \nHETATM   25  C20 UNL     1      -5.966   1.138   0.282  1.00  0.00           C  \nHETATM   26  O6  UNL     1      -7.266   1.585   0.306  1.00  0.00           O  \nHETATM   27  C21 UNL     1      -5.055   1.722  -0.604  1.00  0.00           C  \nHETATM   28  F1  UNL     1      -8.023   9.073  -6.699  1.00  0.00           F  \nHETATM   29  C22 UNL     1      -3.730   1.280  -0.643  1.00  0.00           C  \nHETATM   30  N1  UNL     1      -0.984   0.858   0.524  1.00  0.00           N  \nHETATM   31  H1  UNL     1       5.188   2.547   0.650  1.00  0.00           H  \nHETATM   32  H2  UNL     1       4.897   2.163  -1.057  1.00  0.00           H  \nHETATM   33  H3  UNL     1       6.441   1.749  -0.289  1.00  0.00           H  \nHETATM   34  H4  UNL     1       6.418  -0.153   1.581  1.00  0.00           H  \nHETATM   35  H5  UNL     1       5.116   0.707   2.400  1.00  0.00           H  \nHETATM   36  H6  UNL     1       4.884  -0.981   1.911  1.00  0.00           H  \nHETATM   37  H7  UNL     1       6.503  -0.500  -0.758  1.00  0.00           H  \nHETATM   38  H8  UNL     1       5.137  -1.591  -0.548  1.00  0.00           H  \nHETATM   39  H9  UNL     1       5.086  -0.315  -1.793  1.00  0.00           H  \nHETATM   40  H10 UNL     1       2.488   2.697   2.475  1.00  0.00           H  \nHETATM   41  H11 UNL     1      -0.312   2.108   2.258  1.00  0.00           H  \nHETATM   42  H12 UNL     1       2.059  -1.915  -1.493  1.00  0.00           H  \nHETATM   43  H13 UNL     1       0.335  -0.759  -2.380  1.00  0.00           H  \nHETATM   44  H14 UNL     1      -0.229  -2.695   0.705  1.00  0.00           H  \nHETATM   45  H15 UNL     1       0.089  -4.193  -0.162  1.00  0.00           H  \nHETATM   46  H16 UNL     1      -2.419  -3.304   0.214  1.00  0.00           H  \nHETATM   47  H17 UNL     1      -1.967  -4.202  -1.234  1.00  0.00           H  \nHETATM   48  H18 UNL     1      -2.011  -2.345  -2.618  1.00  0.00           H  \nHETATM   49  H19 UNL     1      -3.305  -1.936  -1.499  1.00  0.00           H  \nHETATM   50  H20 UNL     1      -1.710  -0.037  -1.974  1.00  0.00           H  \nHETATM   51  H21 UNL     1      -1.732  -1.042   0.910  1.00  0.00           H  \nHETATM   52  H22 UNL     1      -3.886  -1.132   1.747  1.00  0.00           H  \nHETATM   53  H23 UNL     1      -5.947  -1.152   2.558  1.00  0.00           H  \nHETATM   54  H24 UNL     1      -7.399   2.299  -0.338  1.00  0.00           H  \nHETATM   55  H25 UNL     1      -3.048   1.753  -1.343  1.00  0.00           H  \nHETATM   56  H26 UNL     1      -1.322   1.792   0.292  1.00  0.00           H  \nCONECT    1    2   31   32   33\nCONECT    2    3    4    5\nCONECT    3   34   35   36\nCONECT    4   37   38   39\nCONECT    5    6    6   12\nCONECT    6    7    8\nCONECT    7   40\nCONECT    8    9   10   10\nCONECT    9   41\nCONECT   10   11   30\nCONECT   11   12   12   14\nCONECT   12   13\nCONECT   13   42\nCONECT   14   15   19   43\nCONECT   15   16\nCONECT   16   17   44   45\nCONECT   17   18   46   47\nCONECT   18   19   48   49\nCONECT   19   20   50\nCONECT   20   21   30   51\nCONECT   21   22   22   29\nCONECT   22   23   52\nCONECT   23   24   25   25\nCONECT   24   53\nCONECT   25   26   27\nCONECT   26   54\nCONECT   27   28   29   29\nCONECT   29   55\nCONECT   30   56\n",
           "type": "blob"
          }
         ],
         "kwargs": {
          "defaultRepresentation": true,
          "ext": "pdb",
          "name": "<openff.toolkit.utils.viz._OFFTrajectoryNGLView object at 0x16ba5a710>"
         },
         "methodName": "loadFile",
         "reconstruc_color_scheme": false,
         "target": "Stage",
         "type": "call_method"
        }
       ],
       "_ngl_original_stage_parameters": {},
       "_ngl_repr_dict": {},
       "_ngl_serialize": false,
       "_ngl_version": "",
       "_ngl_view_id": [],
       "_player_dict": {},
       "_scene_position": {},
       "_scene_rotation": {},
       "_synced_model_ids": [],
       "_synced_repr_model_ids": [],
       "_view_count": null,
       "_view_height": "",
       "_view_module": "nglview-js-widgets",
       "_view_module_version": "3.0.6",
       "_view_name": "NGLView",
       "_view_width": "",
       "background": "white",
       "frame": 0,
       "gui_style": null,
       "layout": "IPY_MODEL_986c0f62ef944cfc8b41d4324355b574",
       "max_frame": 0,
       "n_components": 0,
       "picked": {},
       "tabbable": null,
       "tooltip": null
      }
     },
     "106e810747d54f6ca9515bef0230b20d": {
      "model_module": "@jupyter-widgets/base",
      "model_module_version": "2.0.0",
      "model_name": "LayoutModel",
      "state": {
       "_model_module": "@jupyter-widgets/base",
       "_model_module_version": "2.0.0",
       "_model_name": "LayoutModel",
       "_view_count": null,
       "_view_module": "@jupyter-widgets/base",
       "_view_module_version": "2.0.0",
       "_view_name": "LayoutView",
       "align_content": null,
       "align_items": null,
       "align_self": null,
       "border_bottom": null,
       "border_left": null,
       "border_right": null,
       "border_top": null,
       "bottom": null,
       "display": null,
       "flex": null,
       "flex_flow": null,
       "grid_area": null,
       "grid_auto_columns": null,
       "grid_auto_flow": null,
       "grid_auto_rows": null,
       "grid_column": null,
       "grid_gap": null,
       "grid_row": null,
       "grid_template_areas": null,
       "grid_template_columns": null,
       "grid_template_rows": null,
       "height": null,
       "justify_content": null,
       "justify_items": null,
       "left": null,
       "margin": null,
       "max_height": null,
       "max_width": null,
       "min_height": null,
       "min_width": null,
       "object_fit": null,
       "object_position": null,
       "order": null,
       "overflow": null,
       "padding": null,
       "right": null,
       "top": null,
       "visibility": null,
       "width": null
      }
     },
     "10a692a87fd34ea0a6edaf2538b99748": {
      "model_module": "@jupyter-widgets/base",
      "model_module_version": "2.0.0",
      "model_name": "LayoutModel",
      "state": {
       "_model_module": "@jupyter-widgets/base",
       "_model_module_version": "2.0.0",
       "_model_name": "LayoutModel",
       "_view_count": null,
       "_view_module": "@jupyter-widgets/base",
       "_view_module_version": "2.0.0",
       "_view_name": "LayoutView",
       "align_content": null,
       "align_items": null,
       "align_self": null,
       "border_bottom": null,
       "border_left": null,
       "border_right": null,
       "border_top": null,
       "bottom": null,
       "display": null,
       "flex": null,
       "flex_flow": null,
       "grid_area": null,
       "grid_auto_columns": null,
       "grid_auto_flow": null,
       "grid_auto_rows": null,
       "grid_column": null,
       "grid_gap": null,
       "grid_row": null,
       "grid_template_areas": null,
       "grid_template_columns": null,
       "grid_template_rows": null,
       "height": null,
       "justify_content": null,
       "justify_items": null,
       "left": null,
       "margin": null,
       "max_height": null,
       "max_width": null,
       "min_height": null,
       "min_width": null,
       "object_fit": null,
       "object_position": null,
       "order": null,
       "overflow": null,
       "padding": null,
       "right": null,
       "top": null,
       "visibility": null,
       "width": null
      }
     },
     "1186619c25644922aff20c1497979379": {
      "model_module": "@jupyter-widgets/controls",
      "model_module_version": "2.0.0",
      "model_name": "ButtonStyleModel",
      "state": {
       "_model_module": "@jupyter-widgets/controls",
       "_model_module_version": "2.0.0",
       "_model_name": "ButtonStyleModel",
       "_view_count": null,
       "_view_module": "@jupyter-widgets/base",
       "_view_module_version": "2.0.0",
       "_view_name": "StyleView",
       "button_color": null,
       "font_family": null,
       "font_size": null,
       "font_style": null,
       "font_variant": null,
       "font_weight": null,
       "text_color": null,
       "text_decoration": null
      }
     },
     "143d61312c4b4284b2f482815956b8af": {
      "model_module": "nglview-js-widgets",
      "model_module_version": "3.0.6",
      "model_name": "NGLModel",
      "state": {
       "_camera_orientation": [],
       "_camera_str": "orthographic",
       "_dom_classes": [],
       "_gui_theme": null,
       "_ibtn_fullscreen": "IPY_MODEL_c6eda1e6e8ce4e28a56cd98d3ff549cc",
       "_igui": null,
       "_iplayer": "IPY_MODEL_c76d31941ace4d12a2ba29e23397a82f",
       "_model_module": "nglview-js-widgets",
       "_model_module_version": "3.0.6",
       "_model_name": "NGLModel",
       "_ngl_color_dict": {},
       "_ngl_coordinate_resource": {},
       "_ngl_full_stage_parameters": {},
       "_ngl_msg_archive": [
        {
         "args": [
          {
           "binary": false,
           "data": "HETATM    1  C1  UNL     1       5.314   1.870  -0.356  1.00  0.00           C  \nHETATM    2  C2  UNL     1       4.737   0.538   0.176  1.00  0.00           C  \nHETATM    3  C3  UNL     1       5.258   0.258   1.602  1.00  0.00           C  \nHETATM    4  C4  UNL     1       5.377  -0.551  -0.715  1.00  0.00           C  \nHETATM    5  C5  UNL     1       3.179   0.598   0.187  1.00  0.00           C  \nHETATM    6  C6  UNL     1       2.520   1.598   0.947  1.00  0.00           C  \nHETATM    7  O1  UNL     1       3.137   2.536   1.717  1.00  0.00           O  \nHETATM    8  C7  UNL     1       1.133   1.711   0.996  1.00  0.00           C  \nHETATM    9  O2  UNL     1       0.546   2.677   1.789  1.00  0.00           O  \nHETATM   10  C8  UNL     1       0.339   0.832   0.271  1.00  0.00           C  \nHETATM   11  C9  UNL     1       0.916  -0.184  -0.488  1.00  0.00           C  \nHETATM   12  C10 UNL     1       2.322  -0.304  -0.513  1.00  0.00           C  \nHETATM   13  O3  UNL     1       2.778  -1.360  -1.244  1.00  0.00           O  \nHETATM   14  C11 UNL     1       0.046  -1.104  -1.337  1.00  0.00           C  \nHETATM   15  O4  UNL     1       0.388  -2.482  -1.071  1.00  0.00           O  \nHETATM   16  C12 UNL     1      -0.379  -3.103  -0.033  1.00  0.00           C  \nHETATM   17  C13 UNL     1      -1.849  -3.224  -0.461  1.00  0.00           C  \nHETATM   18  C14 UNL     1      -2.251  -2.147  -1.484  1.00  0.00           C  \nHETATM   19  C15 UNL     1      -1.482  -0.829  -1.265  1.00  0.00           C  \nHETATM   20  C16 UNL     1      -1.906  -0.140   0.050  1.00  0.00           C  \nHETATM   21  C17 UNL     1      -3.334   0.372   0.001  1.00  0.00           C  \nHETATM   22  C18 UNL     1      -4.283  -0.092   0.927  1.00  0.00           C  \nHETATM   23  C19 UNL     1      -5.603   0.371   0.902  1.00  0.00           C  \nHETATM   24  O5  UNL     1      -6.497  -0.107   1.825  1.00  0.00           O  \nHETATM   25  C20 UNL     1      -5.995   1.317  -0.062  1.00  0.00           C  \nHETATM   26  O6  UNL     1      -7.283   1.793  -0.115  1.00  0.00           O  \nHETATM   27  C21 UNL     1      -5.056   1.790  -0.988  1.00  0.00           C  \nHETATM   28  F1  UNL     1      -5.417   2.703  -1.921  1.00  0.00           F  \nHETATM   29  C22 UNL     1      -3.740   1.322  -0.953  1.00  0.00           C  \nHETATM   30  N1  UNL     1      -1.037   1.004   0.313  1.00  0.00           N  \nHETATM   31  H1  UNL     1       5.134   2.699   0.334  1.00  0.00           H  \nHETATM   32  H2  UNL     1       4.859   2.118  -1.319  1.00  0.00           H  \nHETATM   33  H3  UNL     1       6.396   1.798  -0.496  1.00  0.00           H  \nHETATM   34  H4  UNL     1       6.339   0.096   1.596  1.00  0.00           H  \nHETATM   35  H5  UNL     1       5.059   1.094   2.279  1.00  0.00           H  \nHETATM   36  H6  UNL     1       4.777  -0.636   2.010  1.00  0.00           H  \nHETATM   37  H7  UNL     1       6.468  -0.491  -0.683  1.00  0.00           H  \nHETATM   38  H8  UNL     1       5.097  -1.551  -0.370  1.00  0.00           H  \nHETATM   39  H9  UNL     1       5.069  -0.429  -1.757  1.00  0.00           H  \nHETATM   40  H10 UNL     1       2.404   3.047   2.100  1.00  0.00           H  \nHETATM   41  H11 UNL     1      -0.391   2.446   1.899  1.00  0.00           H  \nHETATM   42  H12 UNL     1       2.031  -1.975  -1.337  1.00  0.00           H  \nHETATM   43  H13 UNL     1       0.328  -0.918  -2.378  1.00  0.00           H  \nHETATM   44  H14 UNL     1      -0.297  -2.515   0.886  1.00  0.00           H  \nHETATM   45  H15 UNL     1       0.024  -4.097   0.183  1.00  0.00           H  \nHETATM   46  H16 UNL     1      -2.483  -3.152   0.428  1.00  0.00           H  \nHETATM   47  H17 UNL     1      -2.020  -4.210  -0.903  1.00  0.00           H  \nHETATM   48  H18 UNL     1      -2.017  -2.516  -2.487  1.00  0.00           H  \nHETATM   49  H19 UNL     1      -3.332  -1.982  -1.447  1.00  0.00           H  \nHETATM   50  H20 UNL     1      -1.720  -0.152  -2.090  1.00  0.00           H  \nHETATM   51  H21 UNL     1      -1.807  -0.841   0.884  1.00  0.00           H  \nHETATM   52  H22 UNL     1      -3.987  -0.820   1.676  1.00  0.00           H  \nHETATM   53  H23 UNL     1      -6.059  -0.713   2.446  1.00  0.00           H  \nHETATM   54  H24 UNL     1      -7.360   2.433  -0.842  1.00  0.00           H  \nHETATM   55  H25 UNL     1      -3.038   1.707  -1.685  1.00  0.00           H  \nHETATM   56  H26 UNL     1      -1.372   1.908  -0.018  1.00  0.00           H  \nCONECT    1    2   31   32   33\nCONECT    2    3    4    5\nCONECT    3   34   35   36\nCONECT    4   37   38   39\nCONECT    5    6    6   12\nCONECT    6    7    8\nCONECT    7   40\nCONECT    8    9   10   10\nCONECT    9   41\nCONECT   10   11   30\nCONECT   11   12   12   14\nCONECT   12   13\nCONECT   13   42\nCONECT   14   15   19   43\nCONECT   15   16\nCONECT   16   17   44   45\nCONECT   17   18   46   47\nCONECT   18   19   48   49\nCONECT   19   20   50\nCONECT   20   21   30   51\nCONECT   21   22   22   29\nCONECT   22   23   52\nCONECT   23   24   25   25\nCONECT   24   53\nCONECT   25   26   27\nCONECT   26   54\nCONECT   27   28   29   29\nCONECT   29   55\nCONECT   30   56\n",
           "type": "blob"
          }
         ],
         "kwargs": {
          "defaultRepresentation": true,
          "ext": "pdb",
          "name": "<openff.toolkit.utils.viz._OFFTrajectoryNGLView object at 0x16bbaea90>"
         },
         "methodName": "loadFile",
         "reconstruc_color_scheme": false,
         "target": "Stage",
         "type": "call_method"
        },
        {
         "args": [
          "label"
         ],
         "component_index": 0,
         "kwargs": {
          "attachment": "middle-center",
          "color": "black",
          "labelType": "atomindex",
          "sele": "all"
         },
         "methodName": "addRepresentation",
         "reconstruc_color_scheme": false,
         "target": "compList",
         "type": "call_method"
        }
       ],
       "_ngl_original_stage_parameters": {},
       "_ngl_repr_dict": {},
       "_ngl_serialize": false,
       "_ngl_version": "",
       "_ngl_view_id": [],
       "_player_dict": {},
       "_scene_position": {},
       "_scene_rotation": {},
       "_synced_model_ids": [],
       "_synced_repr_model_ids": [],
       "_view_count": null,
       "_view_height": "",
       "_view_module": "nglview-js-widgets",
       "_view_module_version": "3.0.6",
       "_view_name": "NGLView",
       "_view_width": "",
       "background": "white",
       "frame": 0,
       "gui_style": null,
       "layout": "IPY_MODEL_106e810747d54f6ca9515bef0230b20d",
       "max_frame": 0,
       "n_components": 0,
       "picked": {},
       "tabbable": null,
       "tooltip": null
      }
     },
     "1b086640b90b48d581263b49fa91a2cf": {
      "model_module": "@jupyter-widgets/controls",
      "model_module_version": "2.0.0",
      "model_name": "LinkModel",
      "state": {
       "_model_module": "@jupyter-widgets/controls",
       "_model_module_version": "2.0.0",
       "_model_name": "LinkModel",
       "_view_count": null,
       "_view_module": "@jupyter-widgets/controls",
       "_view_module_version": "2.0.0",
       "_view_name": null,
       "source": [
        "IPY_MODEL_37f35188cbdb4e5dad5cd756498a10ad",
        "value"
       ],
       "target": [
        "IPY_MODEL_85af223426474acbace665e7ac693e71",
        "frame"
       ]
      }
     },
     "203c1571d24a42beb8d089fc7e169d10": {
      "model_module": "@jupyter-widgets/base",
      "model_module_version": "2.0.0",
      "model_name": "LayoutModel",
      "state": {
       "_model_module": "@jupyter-widgets/base",
       "_model_module_version": "2.0.0",
       "_model_name": "LayoutModel",
       "_view_count": null,
       "_view_module": "@jupyter-widgets/base",
       "_view_module_version": "2.0.0",
       "_view_name": "LayoutView",
       "align_content": null,
       "align_items": null,
       "align_self": null,
       "border_bottom": null,
       "border_left": null,
       "border_right": null,
       "border_top": null,
       "bottom": null,
       "display": null,
       "flex": null,
       "flex_flow": null,
       "grid_area": null,
       "grid_auto_columns": null,
       "grid_auto_flow": null,
       "grid_auto_rows": null,
       "grid_column": null,
       "grid_gap": null,
       "grid_row": null,
       "grid_template_areas": null,
       "grid_template_columns": null,
       "grid_template_rows": null,
       "height": null,
       "justify_content": null,
       "justify_items": null,
       "left": null,
       "margin": null,
       "max_height": null,
       "max_width": null,
       "min_height": null,
       "min_width": null,
       "object_fit": null,
       "object_position": null,
       "order": null,
       "overflow": null,
       "padding": null,
       "right": null,
       "top": null,
       "visibility": null,
       "width": null
      }
     },
     "21928491b3294039a22a731bd316ad1d": {
      "buffers": [
       {
        "data": "",
        "encoding": "base64",
        "path": [
         "value"
        ]
       }
      ],
      "model_module": "@jupyter-widgets/controls",
      "model_module_version": "2.0.0",
      "model_name": "ImageModel",
      "state": {
       "_dom_classes": [],
       "_model_module": "@jupyter-widgets/controls",
       "_model_module_version": "2.0.0",
       "_model_name": "ImageModel",
       "_view_count": null,
       "_view_module": "@jupyter-widgets/controls",
       "_view_module_version": "2.0.0",
       "_view_name": "ImageView",
       "format": "png",
       "height": "",
       "layout": "IPY_MODEL_693f856b069545bd87a31682f695c233",
       "tabbable": null,
       "tooltip": null,
       "width": "900.0"
      }
     },
     "247ff472a95d4d3da0b2a0d9e3745850": {
      "model_module": "@jupyter-widgets/base",
      "model_module_version": "2.0.0",
      "model_name": "LayoutModel",
      "state": {
       "_model_module": "@jupyter-widgets/base",
       "_model_module_version": "2.0.0",
       "_model_name": "LayoutModel",
       "_view_count": null,
       "_view_module": "@jupyter-widgets/base",
       "_view_module_version": "2.0.0",
       "_view_name": "LayoutView",
       "align_content": null,
       "align_items": null,
       "align_self": null,
       "border_bottom": null,
       "border_left": null,
       "border_right": null,
       "border_top": null,
       "bottom": null,
       "display": null,
       "flex": null,
       "flex_flow": null,
       "grid_area": null,
       "grid_auto_columns": null,
       "grid_auto_flow": null,
       "grid_auto_rows": null,
       "grid_column": null,
       "grid_gap": null,
       "grid_row": null,
       "grid_template_areas": null,
       "grid_template_columns": null,
       "grid_template_rows": null,
       "height": null,
       "justify_content": null,
       "justify_items": null,
       "left": null,
       "margin": null,
       "max_height": null,
       "max_width": null,
       "min_height": null,
       "min_width": null,
       "object_fit": null,
       "object_position": null,
       "order": null,
       "overflow": null,
       "padding": null,
       "right": null,
       "top": null,
       "visibility": null,
       "width": null
      }
     },
     "262572fb7de94ff6a000bcbd450966e9": {
      "model_module": "@jupyter-widgets/controls",
      "model_module_version": "2.0.0",
      "model_name": "ButtonModel",
      "state": {
       "_dom_classes": [],
       "_model_module": "@jupyter-widgets/controls",
       "_model_module_version": "2.0.0",
       "_model_name": "ButtonModel",
       "_view_count": null,
       "_view_module": "@jupyter-widgets/controls",
       "_view_module_version": "2.0.0",
       "_view_name": "ButtonView",
       "button_style": "",
       "description": "",
       "disabled": false,
       "icon": "compress",
       "layout": "IPY_MODEL_d0f7320e9b6a468892fa119ad55b7bd9",
       "style": "IPY_MODEL_1186619c25644922aff20c1497979379",
       "tabbable": null,
       "tooltip": null
      }
     },
     "285fdc4aa44e46949b42d80655d68db5": {
      "model_module": "@jupyter-widgets/controls",
      "model_module_version": "2.0.0",
      "model_name": "IntSliderModel",
      "state": {
       "_dom_classes": [],
       "_model_module": "@jupyter-widgets/controls",
       "_model_module_version": "2.0.0",
       "_model_name": "IntSliderModel",
       "_view_count": null,
       "_view_module": "@jupyter-widgets/controls",
       "_view_module_version": "2.0.0",
       "_view_name": "IntSliderView",
       "behavior": "drag-tap",
       "continuous_update": true,
       "description": "",
       "description_allow_html": false,
       "disabled": false,
       "layout": "IPY_MODEL_d978d00afd824348b5f3753d2d9f746d",
       "max": 0,
       "min": 0,
       "orientation": "horizontal",
       "readout": true,
       "readout_format": "d",
       "step": 1,
       "style": "IPY_MODEL_bddcdc5d0ffc4127b3ac02b4f847f294",
       "tabbable": null,
       "tooltip": null,
       "value": 0
      }
     },
     "299781f0be4e4f61be83d94dbf0fe61f": {
      "model_module": "@jupyter-widgets/controls",
      "model_module_version": "2.0.0",
      "model_name": "LinkModel",
      "state": {
       "_model_module": "@jupyter-widgets/controls",
       "_model_module_version": "2.0.0",
       "_model_name": "LinkModel",
       "_view_count": null,
       "_view_module": "@jupyter-widgets/controls",
       "_view_module_version": "2.0.0",
       "_view_name": null,
       "source": [
        "IPY_MODEL_eac5891c7aa24beb9a25b470ae6ef99f",
        "value"
       ],
       "target": [
        "IPY_MODEL_143d61312c4b4284b2f482815956b8af",
        "frame"
       ]
      }
     },
     "2a7e2de117364160b485ebb702c0c8cf": {
      "model_module": "@jupyter-widgets/controls",
      "model_module_version": "2.0.0",
      "model_name": "HBoxModel",
      "state": {
       "_dom_classes": [],
       "_model_module": "@jupyter-widgets/controls",
       "_model_module_version": "2.0.0",
       "_model_name": "HBoxModel",
       "_view_count": null,
       "_view_module": "@jupyter-widgets/controls",
       "_view_module_version": "2.0.0",
       "_view_name": "HBoxView",
       "box_style": "",
       "children": [
        "IPY_MODEL_bac1cfd1c8a74a4cb46e6f96dd91febe",
        "IPY_MODEL_a49415638a9d429dbe7f172f1573afe0"
       ],
       "layout": "IPY_MODEL_aa6dd1d4cb66431d908a7ec2ab3eee7c",
       "tabbable": null,
       "tooltip": null
      }
     },
     "2b0017ee3e154ba4befa6dfc79353b03": {
      "model_module": "@jupyter-widgets/controls",
      "model_module_version": "2.0.0",
      "model_name": "LinkModel",
      "state": {
       "_model_module": "@jupyter-widgets/controls",
       "_model_module_version": "2.0.0",
       "_model_name": "LinkModel",
       "_view_count": null,
       "_view_module": "@jupyter-widgets/controls",
       "_view_module_version": "2.0.0",
       "_view_name": null,
       "source": [
        "IPY_MODEL_eac5891c7aa24beb9a25b470ae6ef99f",
        "max"
       ],
       "target": [
        "IPY_MODEL_143d61312c4b4284b2f482815956b8af",
        "max_frame"
       ]
      }
     },
     "2dc1a99654ad401bb730ee7ea29aa1a5": {
      "model_module": "@jupyter-widgets/controls",
      "model_module_version": "2.0.0",
      "model_name": "LinkModel",
      "state": {
       "_model_module": "@jupyter-widgets/controls",
       "_model_module_version": "2.0.0",
       "_model_name": "LinkModel",
       "_view_count": null,
       "_view_module": "@jupyter-widgets/controls",
       "_view_module_version": "2.0.0",
       "_view_name": null,
       "source": [
        "IPY_MODEL_37f35188cbdb4e5dad5cd756498a10ad",
        "value"
       ],
       "target": [
        "IPY_MODEL_8e35729aed4049188670cb472a4d0cd1",
        "value"
       ]
      }
     },
     "3126bb28aa09449d92316fa122aaab3a": {
      "model_module": "@jupyter-widgets/base",
      "model_module_version": "2.0.0",
      "model_name": "LayoutModel",
      "state": {
       "_model_module": "@jupyter-widgets/base",
       "_model_module_version": "2.0.0",
       "_model_name": "LayoutModel",
       "_view_count": null,
       "_view_module": "@jupyter-widgets/base",
       "_view_module_version": "2.0.0",
       "_view_name": "LayoutView",
       "align_content": null,
       "align_items": null,
       "align_self": null,
       "border_bottom": null,
       "border_left": null,
       "border_right": null,
       "border_top": null,
       "bottom": null,
       "display": null,
       "flex": null,
       "flex_flow": null,
       "grid_area": null,
       "grid_auto_columns": null,
       "grid_auto_flow": null,
       "grid_auto_rows": null,
       "grid_column": null,
       "grid_gap": null,
       "grid_row": null,
       "grid_template_areas": null,
       "grid_template_columns": null,
       "grid_template_rows": null,
       "height": null,
       "justify_content": null,
       "justify_items": null,
       "left": null,
       "margin": null,
       "max_height": null,
       "max_width": null,
       "min_height": null,
       "min_width": null,
       "object_fit": null,
       "object_position": null,
       "order": null,
       "overflow": null,
       "padding": null,
       "right": null,
       "top": null,
       "visibility": null,
       "width": null
      }
     },
     "37f35188cbdb4e5dad5cd756498a10ad": {
      "model_module": "@jupyter-widgets/controls",
      "model_module_version": "2.0.0",
      "model_name": "PlayModel",
      "state": {
       "_dom_classes": [],
       "_model_module": "@jupyter-widgets/controls",
       "_model_module_version": "2.0.0",
       "_model_name": "PlayModel",
       "_view_count": null,
       "_view_module": "@jupyter-widgets/controls",
       "_view_module_version": "2.0.0",
       "_view_name": "PlayView",
       "description": "",
       "description_allow_html": false,
       "disabled": false,
       "interval": 100,
       "layout": "IPY_MODEL_74d54e7898a440c5ba9c580b714ab9da",
       "max": 0,
       "min": 0,
       "playing": false,
       "repeat": false,
       "show_repeat": true,
       "step": 1,
       "style": "IPY_MODEL_f6f81a83f496474798929049d315d45e",
       "tabbable": null,
       "tooltip": null,
       "value": 0
      }
     },
     "39dda1c74f694378888e9055587ea17a": {
      "model_module": "@jupyter-widgets/controls",
      "model_module_version": "2.0.0",
      "model_name": "HBoxModel",
      "state": {
       "_dom_classes": [],
       "_model_module": "@jupyter-widgets/controls",
       "_model_module_version": "2.0.0",
       "_model_name": "HBoxModel",
       "_view_count": null,
       "_view_module": "@jupyter-widgets/controls",
       "_view_module_version": "2.0.0",
       "_view_name": "HBoxView",
       "box_style": "",
       "children": [
        "IPY_MODEL_37f35188cbdb4e5dad5cd756498a10ad",
        "IPY_MODEL_8e35729aed4049188670cb472a4d0cd1"
       ],
       "layout": "IPY_MODEL_0928e10ef1ae40e7a0f16f17fcc3a3d9",
       "tabbable": null,
       "tooltip": null
      }
     },
     "3fc04eda3e6e43558defa3743fa9b3d4": {
      "model_module": "@jupyter-widgets/controls",
      "model_module_version": "2.0.0",
      "model_name": "SliderStyleModel",
      "state": {
       "_model_module": "@jupyter-widgets/controls",
       "_model_module_version": "2.0.0",
       "_model_name": "SliderStyleModel",
       "_view_count": null,
       "_view_module": "@jupyter-widgets/base",
       "_view_module_version": "2.0.0",
       "_view_name": "StyleView",
       "description_width": "",
       "handle_color": null
      }
     },
     "40094a9df5d44e92b2f61490e90dadc8": {
      "model_module": "nglview-js-widgets",
      "model_module_version": "3.0.6",
      "model_name": "NGLModel",
      "state": {
       "_camera_orientation": [],
       "_camera_str": "orthographic",
       "_dom_classes": [],
       "_gui_theme": null,
       "_ibtn_fullscreen": "IPY_MODEL_d5746be65c8b448ba8d6fced5a4324b0",
       "_igui": null,
       "_iplayer": "IPY_MODEL_2a7e2de117364160b485ebb702c0c8cf",
       "_model_module": "nglview-js-widgets",
       "_model_module_version": "3.0.6",
       "_model_name": "NGLModel",
       "_ngl_color_dict": {},
       "_ngl_coordinate_resource": {},
       "_ngl_full_stage_parameters": {},
       "_ngl_msg_archive": [
        {
         "args": [
          {
           "binary": false,
           "data": "HETATM    1  C1  UNL     1       5.041   2.157  -0.647  1.00  0.00           C  \nHETATM    2  C2  UNL     1       4.656   0.802  -0.014  1.00  0.00           C  \nHETATM    3  C3  UNL     1       5.348   0.631   1.355  1.00  0.00           C  \nHETATM    4  C4  UNL     1       5.298  -0.263  -0.931  1.00  0.00           C  \nHETATM    5  C5  UNL     1       3.110   0.717   0.155  1.00  0.00           C  \nHETATM    6  C6  UNL     1       2.433   1.662   0.981  1.00  0.00           C  \nHETATM    7  O1  UNL     1       3.035   2.675   1.666  1.00  0.00           O  \nHETATM    8  C7  UNL     1       1.055   1.619   1.206  1.00  0.00           C  \nHETATM    9  O2  UNL     1       0.463   2.498   2.095  1.00  0.00           O  \nHETATM   10  C8  UNL     1       0.320   0.651   0.543  1.00  0.00           C  \nHETATM   11  C9  UNL     1       0.892  -0.278  -0.303  1.00  0.00           C  \nHETATM   12  C10 UNL     1       2.284  -0.277  -0.456  1.00  0.00           C  \nHETATM   13  O3  UNL     1       2.739  -1.331  -1.191  1.00  0.00           O  \nHETATM   14  C11 UNL     1      -0.002  -1.276  -1.058  1.00  0.00           C  \nHETATM   15  O4  UNL     1       0.173  -2.573  -0.560  1.00  0.00           O  \nHETATM   16  C12 UNL     1      -0.155  -3.880  -0.185  1.00  0.00           C  \nHETATM   17  C13 UNL     1      -1.685  -3.686  -0.052  1.00  0.00           C  \nHETATM   18  C14 UNL     1      -2.279  -2.599  -1.028  1.00  0.00           C  \nHETATM   19  C15 UNL     1      -1.590  -1.178  -0.940  1.00  0.00           C  \nHETATM   20  C16 UNL     1      -2.123  -0.423   0.316  1.00  0.00           C  \nHETATM   21  C17 UNL     1      -3.373   0.386   0.043  1.00  0.00           C  \nHETATM   22  C18 UNL     1      -4.600  -0.001   0.604  1.00  0.00           C  \nHETATM   23  C19 UNL     1      -5.765   0.737   0.367  1.00  0.00           C  \nHETATM   24  O5  UNL     1      -6.943   0.326   0.936  1.00  0.00           O  \nHETATM   25  C20 UNL     1      -5.713   1.885  -0.443  1.00  0.00           C  \nHETATM   26  O6  UNL     1      -6.837   2.635  -0.693  1.00  0.00           O  \nHETATM   27  C21 UNL     1      -4.493   2.279  -1.010  1.00  0.00           C  \nHETATM   28  F1  UNL     1      -4.430   3.382  -1.793  1.00  0.00           F  \nHETATM   29  C22 UNL     1      -3.337   1.534  -0.767  1.00  0.00           C  \nHETATM   30  N1  UNL     1      -1.016   0.434   0.641  1.00  0.00           N  \nHETATM   31  H1  UNL     1       4.814   2.997   0.015  1.00  0.00           H  \nHETATM   32  H2  UNL     1       4.497   2.302  -1.585  1.00  0.00           H  \nHETATM   33  H3  UNL     1       6.113   2.196  -0.861  1.00  0.00           H  \nHETATM   34  H4  UNL     1       6.433   0.565   1.237  1.00  0.00           H  \nHETATM   35  H5  UNL     1       5.145   1.473   2.023  1.00  0.00           H  \nHETATM   36  H6  UNL     1       4.998  -0.285   1.842  1.00  0.00           H  \nHETATM   37  H7  UNL     1       6.377  -0.106  -1.017  1.00  0.00           H  \nHETATM   38  H8  UNL     1       5.145  -1.268  -0.525  1.00  0.00           H  \nHETATM   39  H9  UNL     1       4.876  -0.213  -1.939  1.00  0.00           H  \nHETATM   40  H10 UNL     1       2.305   3.127   2.122  1.00  0.00           H  \nHETATM   41  H11 UNL     1      -0.263   2.055   2.565  1.00  0.00           H  \nHETATM   42  H12 UNL     1       2.039  -2.004  -1.165  1.00  0.00           H  \nHETATM   43  H13 UNL     1       0.263  -1.247  -2.119  1.00  0.00           H  \nHETATM   44  H14 UNL     1       0.313  -4.182   0.757  1.00  0.00           H  \nHETATM   45  H15 UNL     1       0.100  -4.596  -0.972  1.00  0.00           H  \nHETATM   46  H16 UNL     1      -1.903  -3.386   0.977  1.00  0.00           H  \nHETATM   47  H17 UNL     1      -2.184  -4.644  -0.223  1.00  0.00           H  \nHETATM   48  H18 UNL     1      -2.164  -2.968  -2.051  1.00  0.00           H  \nHETATM   49  H19 UNL     1      -3.352  -2.497  -0.841  1.00  0.00           H  \nHETATM   50  H20 UNL     1      -1.909  -0.602  -1.813  1.00  0.00           H  \nHETATM   51  H21 UNL     1      -2.292  -1.119   1.144  1.00  0.00           H  \nHETATM   52  H22 UNL     1      -4.646  -0.886   1.229  1.00  0.00           H  \nHETATM   53  H23 UNL     1      -6.807  -0.478   1.465  1.00  0.00           H  \nHETATM   54  H24 UNL     1      -6.604   3.380  -1.271  1.00  0.00           H  \nHETATM   55  H25 UNL     1      -2.404   1.853  -1.221  1.00  0.00           H  \nHETATM   56  H26 UNL     1      -1.416   1.301   0.998  1.00  0.00           H  \nCONECT    1    2   31   32   33\nCONECT    2    3    4    5\nCONECT    3   34   35   36\nCONECT    4   37   38   39\nCONECT    5    6    6   12\nCONECT    6    7    8\nCONECT    7   40\nCONECT    8    9   10   10\nCONECT    9   41\nCONECT   10   11   30\nCONECT   11   12   12   14\nCONECT   12   13\nCONECT   13   42\nCONECT   14   15   19   43\nCONECT   15   16\nCONECT   16   17   44   45\nCONECT   17   18   46   47\nCONECT   18   19   48   49\nCONECT   19   20   50\nCONECT   20   21   30   51\nCONECT   21   22   22   29\nCONECT   22   23   52\nCONECT   23   24   25   25\nCONECT   24   53\nCONECT   25   26   27\nCONECT   26   54\nCONECT   27   28   29   29\nCONECT   29   55\nCONECT   30   56\n",
           "type": "blob"
          }
         ],
         "kwargs": {
          "defaultRepresentation": true,
          "ext": "pdb",
          "name": "<openff.toolkit.utils.viz._OFFTrajectoryNGLView object at 0x16a6c83d0>"
         },
         "methodName": "loadFile",
         "reconstruc_color_scheme": false,
         "target": "Stage",
         "type": "call_method"
        }
       ],
       "_ngl_original_stage_parameters": {},
       "_ngl_repr_dict": {},
       "_ngl_serialize": false,
       "_ngl_version": "",
       "_ngl_view_id": [],
       "_player_dict": {},
       "_scene_position": {},
       "_scene_rotation": {},
       "_synced_model_ids": [],
       "_synced_repr_model_ids": [],
       "_view_count": null,
       "_view_height": "",
       "_view_module": "nglview-js-widgets",
       "_view_module_version": "3.0.6",
       "_view_name": "NGLView",
       "_view_width": "",
       "background": "white",
       "frame": 0,
       "gui_style": null,
       "layout": "IPY_MODEL_976ee71490d0423ea0e10dbd458d4b86",
       "max_frame": 0,
       "n_components": 0,
       "picked": {},
       "tabbable": null,
       "tooltip": null
      }
     },
     "42fa396334fc480fab5a63922e8cd7f3": {
      "model_module": "@jupyter-widgets/controls",
      "model_module_version": "2.0.0",
      "model_name": "HBoxModel",
      "state": {
       "_dom_classes": [],
       "_model_module": "@jupyter-widgets/controls",
       "_model_module_version": "2.0.0",
       "_model_name": "HBoxModel",
       "_view_count": null,
       "_view_module": "@jupyter-widgets/controls",
       "_view_module_version": "2.0.0",
       "_view_name": "HBoxView",
       "box_style": "",
       "children": [
        "IPY_MODEL_9cf7a3cf958d4e63a59ff3d5fda978b2",
        "IPY_MODEL_4cc1b3e68aab4b76b34ad5be6577f113"
       ],
       "layout": "IPY_MODEL_3126bb28aa09449d92316fa122aaab3a",
       "tabbable": null,
       "tooltip": null
      }
     },
     "447d272c1a9c4180841ed922ad3bda5f": {
      "model_module": "@jupyter-widgets/base",
      "model_module_version": "2.0.0",
      "model_name": "LayoutModel",
      "state": {
       "_model_module": "@jupyter-widgets/base",
       "_model_module_version": "2.0.0",
       "_model_name": "LayoutModel",
       "_view_count": null,
       "_view_module": "@jupyter-widgets/base",
       "_view_module_version": "2.0.0",
       "_view_name": "LayoutView",
       "align_content": null,
       "align_items": null,
       "align_self": null,
       "border_bottom": null,
       "border_left": null,
       "border_right": null,
       "border_top": null,
       "bottom": null,
       "display": null,
       "flex": null,
       "flex_flow": null,
       "grid_area": null,
       "grid_auto_columns": null,
       "grid_auto_flow": null,
       "grid_auto_rows": null,
       "grid_column": null,
       "grid_gap": null,
       "grid_row": null,
       "grid_template_areas": null,
       "grid_template_columns": null,
       "grid_template_rows": null,
       "height": null,
       "justify_content": null,
       "justify_items": null,
       "left": null,
       "margin": null,
       "max_height": null,
       "max_width": null,
       "min_height": null,
       "min_width": null,
       "object_fit": null,
       "object_position": null,
       "order": null,
       "overflow": null,
       "padding": null,
       "right": null,
       "top": null,
       "visibility": null,
       "width": null
      }
     },
     "49526bfc817344df81b2d942b50e3439": {
      "model_module": "@jupyter-widgets/controls",
      "model_module_version": "2.0.0",
      "model_name": "LinkModel",
      "state": {
       "_model_module": "@jupyter-widgets/controls",
       "_model_module_version": "2.0.0",
       "_model_name": "LinkModel",
       "_view_count": null,
       "_view_module": "@jupyter-widgets/controls",
       "_view_module_version": "2.0.0",
       "_view_name": null,
       "source": [
        "IPY_MODEL_a49415638a9d429dbe7f172f1573afe0",
        "max"
       ],
       "target": [
        "IPY_MODEL_40094a9df5d44e92b2f61490e90dadc8",
        "max_frame"
       ]
      }
     },
     "4c19bb0d844e4082974431fdcd294ff1": {
      "model_module": "@jupyter-widgets/controls",
      "model_module_version": "2.0.0",
      "model_name": "LinkModel",
      "state": {
       "_model_module": "@jupyter-widgets/controls",
       "_model_module_version": "2.0.0",
       "_model_name": "LinkModel",
       "_view_count": null,
       "_view_module": "@jupyter-widgets/controls",
       "_view_module_version": "2.0.0",
       "_view_name": null,
       "source": [
        "IPY_MODEL_4cc1b3e68aab4b76b34ad5be6577f113",
        "max"
       ],
       "target": [
        "IPY_MODEL_0eba6dcef0814756997dc93327c9f58c",
        "max_frame"
       ]
      }
     },
     "4c77b4f8b7bd42198cbb9020f4396cb0": {
      "model_module": "@jupyter-widgets/controls",
      "model_module_version": "2.0.0",
      "model_name": "LinkModel",
      "state": {
       "_model_module": "@jupyter-widgets/controls",
       "_model_module_version": "2.0.0",
       "_model_name": "LinkModel",
       "_view_count": null,
       "_view_module": "@jupyter-widgets/controls",
       "_view_module_version": "2.0.0",
       "_view_name": null,
       "source": [
        "IPY_MODEL_bac1cfd1c8a74a4cb46e6f96dd91febe",
        "max"
       ],
       "target": [
        "IPY_MODEL_40094a9df5d44e92b2f61490e90dadc8",
        "max_frame"
       ]
      }
     },
     "4cc1b3e68aab4b76b34ad5be6577f113": {
      "model_module": "@jupyter-widgets/controls",
      "model_module_version": "2.0.0",
      "model_name": "IntSliderModel",
      "state": {
       "_dom_classes": [],
       "_model_module": "@jupyter-widgets/controls",
       "_model_module_version": "2.0.0",
       "_model_name": "IntSliderModel",
       "_view_count": null,
       "_view_module": "@jupyter-widgets/controls",
       "_view_module_version": "2.0.0",
       "_view_name": "IntSliderView",
       "behavior": "drag-tap",
       "continuous_update": true,
       "description": "",
       "description_allow_html": false,
       "disabled": false,
       "layout": "IPY_MODEL_e4f61ab16bb24ad889c4cefbc282e9dc",
       "max": 0,
       "min": 0,
       "orientation": "horizontal",
       "readout": true,
       "readout_format": "d",
       "step": 1,
       "style": "IPY_MODEL_de412342c6704e20ab34e3305dc89d4c",
       "tabbable": null,
       "tooltip": null,
       "value": 0
      }
     },
     "4ce6aa63a5ad4ef6919cf0668d8872c8": {
      "model_module": "@jupyter-widgets/controls",
      "model_module_version": "2.0.0",
      "model_name": "LinkModel",
      "state": {
       "_model_module": "@jupyter-widgets/controls",
       "_model_module_version": "2.0.0",
       "_model_name": "LinkModel",
       "_view_count": null,
       "_view_module": "@jupyter-widgets/controls",
       "_view_module_version": "2.0.0",
       "_view_name": null,
       "source": [
        "IPY_MODEL_75668e0340b84b199fb9fea7a32bc066",
        "max"
       ],
       "target": [
        "IPY_MODEL_143d61312c4b4284b2f482815956b8af",
        "max_frame"
       ]
      }
     },
     "4cf507b5bc374716910bed581adbec2d": {
      "model_module": "@jupyter-widgets/base",
      "model_module_version": "2.0.0",
      "model_name": "LayoutModel",
      "state": {
       "_model_module": "@jupyter-widgets/base",
       "_model_module_version": "2.0.0",
       "_model_name": "LayoutModel",
       "_view_count": null,
       "_view_module": "@jupyter-widgets/base",
       "_view_module_version": "2.0.0",
       "_view_name": "LayoutView",
       "align_content": null,
       "align_items": null,
       "align_self": null,
       "border_bottom": null,
       "border_left": null,
       "border_right": null,
       "border_top": null,
       "bottom": null,
       "display": null,
       "flex": null,
       "flex_flow": null,
       "grid_area": null,
       "grid_auto_columns": null,
       "grid_auto_flow": null,
       "grid_auto_rows": null,
       "grid_column": null,
       "grid_gap": null,
       "grid_row": null,
       "grid_template_areas": null,
       "grid_template_columns": null,
       "grid_template_rows": null,
       "height": null,
       "justify_content": null,
       "justify_items": null,
       "left": null,
       "margin": null,
       "max_height": null,
       "max_width": null,
       "min_height": null,
       "min_width": null,
       "object_fit": null,
       "object_position": null,
       "order": null,
       "overflow": null,
       "padding": null,
       "right": null,
       "top": null,
       "visibility": null,
       "width": null
      }
     },
     "4d25bef1bc5f402a9bd2bc29491bb004": {
      "model_module": "@jupyter-widgets/base",
      "model_module_version": "2.0.0",
      "model_name": "LayoutModel",
      "state": {
       "_model_module": "@jupyter-widgets/base",
       "_model_module_version": "2.0.0",
       "_model_name": "LayoutModel",
       "_view_count": null,
       "_view_module": "@jupyter-widgets/base",
       "_view_module_version": "2.0.0",
       "_view_name": "LayoutView",
       "align_content": null,
       "align_items": null,
       "align_self": null,
       "border_bottom": null,
       "border_left": null,
       "border_right": null,
       "border_top": null,
       "bottom": null,
       "display": null,
       "flex": null,
       "flex_flow": null,
       "grid_area": null,
       "grid_auto_columns": null,
       "grid_auto_flow": null,
       "grid_auto_rows": null,
       "grid_column": null,
       "grid_gap": null,
       "grid_row": null,
       "grid_template_areas": null,
       "grid_template_columns": null,
       "grid_template_rows": null,
       "height": null,
       "justify_content": null,
       "justify_items": null,
       "left": null,
       "margin": null,
       "max_height": null,
       "max_width": null,
       "min_height": null,
       "min_width": null,
       "object_fit": null,
       "object_position": null,
       "order": null,
       "overflow": null,
       "padding": null,
       "right": null,
       "top": null,
       "visibility": null,
       "width": null
      }
     },
     "4ed0ac81fd794da28e98f6f99df08eac": {
      "buffers": [
       {
        "data": "",
        "encoding": "base64",
        "path": [
         "value"
        ]
       }
      ],
      "model_module": "@jupyter-widgets/controls",
      "model_module_version": "2.0.0",
      "model_name": "ImageModel",
      "state": {
       "_dom_classes": [],
       "_model_module": "@jupyter-widgets/controls",
       "_model_module_version": "2.0.0",
       "_model_name": "ImageModel",
       "_view_count": null,
       "_view_module": "@jupyter-widgets/controls",
       "_view_module_version": "2.0.0",
       "_view_name": "ImageView",
       "format": "png",
       "height": "",
       "layout": "IPY_MODEL_5d9e98a8f56545b0b4a2bc42f313ef43",
       "tabbable": null,
       "tooltip": null,
       "width": "900.0"
      }
     },
     "515bf5255d94450cbb67c6d36c47efea": {
      "model_module": "@jupyter-widgets/base",
      "model_module_version": "2.0.0",
      "model_name": "LayoutModel",
      "state": {
       "_model_module": "@jupyter-widgets/base",
       "_model_module_version": "2.0.0",
       "_model_name": "LayoutModel",
       "_view_count": null,
       "_view_module": "@jupyter-widgets/base",
       "_view_module_version": "2.0.0",
       "_view_name": "LayoutView",
       "align_content": null,
       "align_items": null,
       "align_self": null,
       "border_bottom": null,
       "border_left": null,
       "border_right": null,
       "border_top": null,
       "bottom": null,
       "display": null,
       "flex": null,
       "flex_flow": null,
       "grid_area": null,
       "grid_auto_columns": null,
       "grid_auto_flow": null,
       "grid_auto_rows": null,
       "grid_column": null,
       "grid_gap": null,
       "grid_row": null,
       "grid_template_areas": null,
       "grid_template_columns": null,
       "grid_template_rows": null,
       "height": null,
       "justify_content": null,
       "justify_items": null,
       "left": null,
       "margin": null,
       "max_height": null,
       "max_width": null,
       "min_height": null,
       "min_width": null,
       "object_fit": null,
       "object_position": null,
       "order": null,
       "overflow": null,
       "padding": null,
       "right": null,
       "top": null,
       "visibility": null,
       "width": null
      }
     },
     "56b4528bdd2c48b2ac8028c1a8bff893": {
      "model_module": "@jupyter-widgets/controls",
      "model_module_version": "2.0.0",
      "model_name": "ButtonStyleModel",
      "state": {
       "_model_module": "@jupyter-widgets/controls",
       "_model_module_version": "2.0.0",
       "_model_name": "ButtonStyleModel",
       "_view_count": null,
       "_view_module": "@jupyter-widgets/base",
       "_view_module_version": "2.0.0",
       "_view_name": "StyleView",
       "button_color": null,
       "font_family": null,
       "font_size": null,
       "font_style": null,
       "font_variant": null,
       "font_weight": null,
       "text_color": null,
       "text_decoration": null
      }
     },
     "5d9e98a8f56545b0b4a2bc42f313ef43": {
      "model_module": "@jupyter-widgets/base",
      "model_module_version": "2.0.0",
      "model_name": "LayoutModel",
      "state": {
       "_model_module": "@jupyter-widgets/base",
       "_model_module_version": "2.0.0",
       "_model_name": "LayoutModel",
       "_view_count": null,
       "_view_module": "@jupyter-widgets/base",
       "_view_module_version": "2.0.0",
       "_view_name": "LayoutView",
       "align_content": null,
       "align_items": null,
       "align_self": null,
       "border_bottom": null,
       "border_left": null,
       "border_right": null,
       "border_top": null,
       "bottom": null,
       "display": null,
       "flex": null,
       "flex_flow": null,
       "grid_area": null,
       "grid_auto_columns": null,
       "grid_auto_flow": null,
       "grid_auto_rows": null,
       "grid_column": null,
       "grid_gap": null,
       "grid_row": null,
       "grid_template_areas": null,
       "grid_template_columns": null,
       "grid_template_rows": null,
       "height": null,
       "justify_content": null,
       "justify_items": null,
       "left": null,
       "margin": null,
       "max_height": null,
       "max_width": null,
       "min_height": null,
       "min_width": null,
       "object_fit": null,
       "object_position": null,
       "order": null,
       "overflow": null,
       "padding": null,
       "right": null,
       "top": null,
       "visibility": null,
       "width": null
      }
     },
     "64656da563034875b5f0846b9d85e354": {
      "model_module": "@jupyter-widgets/controls",
      "model_module_version": "2.0.0",
      "model_name": "ButtonStyleModel",
      "state": {
       "_model_module": "@jupyter-widgets/controls",
       "_model_module_version": "2.0.0",
       "_model_name": "ButtonStyleModel",
       "_view_count": null,
       "_view_module": "@jupyter-widgets/base",
       "_view_module_version": "2.0.0",
       "_view_name": "StyleView",
       "button_color": null,
       "font_family": null,
       "font_size": null,
       "font_style": null,
       "font_variant": null,
       "font_weight": null,
       "text_color": null,
       "text_decoration": null
      }
     },
     "65b7f1c9b54d4a49a2581f059d22bf99": {
      "model_module": "nglview-js-widgets",
      "model_module_version": "3.0.6",
      "model_name": "ColormakerRegistryModel",
      "state": {
       "_dom_classes": [],
       "_model_module": "nglview-js-widgets",
       "_model_module_version": "3.0.6",
       "_model_name": "ColormakerRegistryModel",
       "_msg_ar": [],
       "_msg_q": [],
       "_ready": false,
       "_view_count": null,
       "_view_module": "nglview-js-widgets",
       "_view_module_version": "3.0.6",
       "_view_name": "ColormakerRegistryView",
       "layout": "IPY_MODEL_d0bf8f079a094d54a3e4a66ac64d721e",
       "tabbable": null,
       "tooltip": null
      }
     },
     "66363c2d358d41d79aa576a8c4b4bee3": {
      "model_module": "@jupyter-widgets/base",
      "model_module_version": "2.0.0",
      "model_name": "LayoutModel",
      "state": {
       "_model_module": "@jupyter-widgets/base",
       "_model_module_version": "2.0.0",
       "_model_name": "LayoutModel",
       "_view_count": null,
       "_view_module": "@jupyter-widgets/base",
       "_view_module_version": "2.0.0",
       "_view_name": "LayoutView",
       "align_content": null,
       "align_items": null,
       "align_self": null,
       "border_bottom": null,
       "border_left": null,
       "border_right": null,
       "border_top": null,
       "bottom": null,
       "display": null,
       "flex": null,
       "flex_flow": null,
       "grid_area": null,
       "grid_auto_columns": null,
       "grid_auto_flow": null,
       "grid_auto_rows": null,
       "grid_column": null,
       "grid_gap": null,
       "grid_row": null,
       "grid_template_areas": null,
       "grid_template_columns": null,
       "grid_template_rows": null,
       "height": null,
       "justify_content": null,
       "justify_items": null,
       "left": null,
       "margin": null,
       "max_height": null,
       "max_width": null,
       "min_height": null,
       "min_width": null,
       "object_fit": null,
       "object_position": null,
       "order": null,
       "overflow": null,
       "padding": null,
       "right": null,
       "top": null,
       "visibility": null,
       "width": null
      }
     },
     "693f856b069545bd87a31682f695c233": {
      "model_module": "@jupyter-widgets/base",
      "model_module_version": "2.0.0",
      "model_name": "LayoutModel",
      "state": {
       "_model_module": "@jupyter-widgets/base",
       "_model_module_version": "2.0.0",
       "_model_name": "LayoutModel",
       "_view_count": null,
       "_view_module": "@jupyter-widgets/base",
       "_view_module_version": "2.0.0",
       "_view_name": "LayoutView",
       "align_content": null,
       "align_items": null,
       "align_self": null,
       "border_bottom": null,
       "border_left": null,
       "border_right": null,
       "border_top": null,
       "bottom": null,
       "display": null,
       "flex": null,
       "flex_flow": null,
       "grid_area": null,
       "grid_auto_columns": null,
       "grid_auto_flow": null,
       "grid_auto_rows": null,
       "grid_column": null,
       "grid_gap": null,
       "grid_row": null,
       "grid_template_areas": null,
       "grid_template_columns": null,
       "grid_template_rows": null,
       "height": null,
       "justify_content": null,
       "justify_items": null,
       "left": null,
       "margin": null,
       "max_height": null,
       "max_width": null,
       "min_height": null,
       "min_width": null,
       "object_fit": null,
       "object_position": null,
       "order": null,
       "overflow": null,
       "padding": null,
       "right": null,
       "top": null,
       "visibility": null,
       "width": null
      }
     },
     "6b285467c9564254a4e3469fc9660824": {
      "buffers": [
       {
        "data": "",
        "encoding": "base64",
        "path": [
         "value"
        ]
       }
      ],
      "model_module": "@jupyter-widgets/controls",
      "model_module_version": "2.0.0",
      "model_name": "ImageModel",
      "state": {
       "_dom_classes": [],
       "_model_module": "@jupyter-widgets/controls",
       "_model_module_version": "2.0.0",
       "_model_name": "ImageModel",
       "_view_count": null,
       "_view_module": "@jupyter-widgets/controls",
       "_view_module_version": "2.0.0",
       "_view_name": "ImageView",
       "format": "png",
       "height": "",
       "layout": "IPY_MODEL_aed62c5f652a4a3c919ca103979e94e6",
       "tabbable": null,
       "tooltip": null,
       "width": "900.0"
      }
     },
     "7002fad1b53c40f2ba3267c7644e26b7": {
      "model_module": "@jupyter-widgets/controls",
      "model_module_version": "2.0.0",
      "model_name": "LinkModel",
      "state": {
       "_model_module": "@jupyter-widgets/controls",
       "_model_module_version": "2.0.0",
       "_model_name": "LinkModel",
       "_view_count": null,
       "_view_module": "@jupyter-widgets/controls",
       "_view_module_version": "2.0.0",
       "_view_name": null,
       "source": [
        "IPY_MODEL_bac1cfd1c8a74a4cb46e6f96dd91febe",
        "value"
       ],
       "target": [
        "IPY_MODEL_a49415638a9d429dbe7f172f1573afe0",
        "value"
       ]
      }
     },
     "74d54e7898a440c5ba9c580b714ab9da": {
      "model_module": "@jupyter-widgets/base",
      "model_module_version": "2.0.0",
      "model_name": "LayoutModel",
      "state": {
       "_model_module": "@jupyter-widgets/base",
       "_model_module_version": "2.0.0",
       "_model_name": "LayoutModel",
       "_view_count": null,
       "_view_module": "@jupyter-widgets/base",
       "_view_module_version": "2.0.0",
       "_view_name": "LayoutView",
       "align_content": null,
       "align_items": null,
       "align_self": null,
       "border_bottom": null,
       "border_left": null,
       "border_right": null,
       "border_top": null,
       "bottom": null,
       "display": null,
       "flex": null,
       "flex_flow": null,
       "grid_area": null,
       "grid_auto_columns": null,
       "grid_auto_flow": null,
       "grid_auto_rows": null,
       "grid_column": null,
       "grid_gap": null,
       "grid_row": null,
       "grid_template_areas": null,
       "grid_template_columns": null,
       "grid_template_rows": null,
       "height": null,
       "justify_content": null,
       "justify_items": null,
       "left": null,
       "margin": null,
       "max_height": null,
       "max_width": null,
       "min_height": null,
       "min_width": null,
       "object_fit": null,
       "object_position": null,
       "order": null,
       "overflow": null,
       "padding": null,
       "right": null,
       "top": null,
       "visibility": null,
       "width": null
      }
     },
     "75668e0340b84b199fb9fea7a32bc066": {
      "model_module": "@jupyter-widgets/controls",
      "model_module_version": "2.0.0",
      "model_name": "IntSliderModel",
      "state": {
       "_dom_classes": [],
       "_model_module": "@jupyter-widgets/controls",
       "_model_module_version": "2.0.0",
       "_model_name": "IntSliderModel",
       "_view_count": null,
       "_view_module": "@jupyter-widgets/controls",
       "_view_module_version": "2.0.0",
       "_view_name": "IntSliderView",
       "behavior": "drag-tap",
       "continuous_update": true,
       "description": "",
       "description_allow_html": false,
       "disabled": false,
       "layout": "IPY_MODEL_4cf507b5bc374716910bed581adbec2d",
       "max": 0,
       "min": 0,
       "orientation": "horizontal",
       "readout": true,
       "readout_format": "d",
       "step": 1,
       "style": "IPY_MODEL_3fc04eda3e6e43558defa3743fa9b3d4",
       "tabbable": null,
       "tooltip": null,
       "value": 0
      }
     },
     "7c1ad8412fa94b1b9db3ad92af2661f0": {
      "model_module": "@jupyter-widgets/base",
      "model_module_version": "2.0.0",
      "model_name": "LayoutModel",
      "state": {
       "_model_module": "@jupyter-widgets/base",
       "_model_module_version": "2.0.0",
       "_model_name": "LayoutModel",
       "_view_count": null,
       "_view_module": "@jupyter-widgets/base",
       "_view_module_version": "2.0.0",
       "_view_name": "LayoutView",
       "align_content": null,
       "align_items": null,
       "align_self": null,
       "border_bottom": null,
       "border_left": null,
       "border_right": null,
       "border_top": null,
       "bottom": null,
       "display": null,
       "flex": null,
       "flex_flow": null,
       "grid_area": null,
       "grid_auto_columns": null,
       "grid_auto_flow": null,
       "grid_auto_rows": null,
       "grid_column": null,
       "grid_gap": null,
       "grid_row": null,
       "grid_template_areas": null,
       "grid_template_columns": null,
       "grid_template_rows": null,
       "height": null,
       "justify_content": null,
       "justify_items": null,
       "left": null,
       "margin": null,
       "max_height": null,
       "max_width": null,
       "min_height": null,
       "min_width": null,
       "object_fit": null,
       "object_position": null,
       "order": null,
       "overflow": null,
       "padding": null,
       "right": null,
       "top": null,
       "visibility": null,
       "width": "34px"
      }
     },
     "7dea1db5640845039ea6e09fc2561554": {
      "model_module": "@jupyter-widgets/controls",
      "model_module_version": "2.0.0",
      "model_name": "DescriptionStyleModel",
      "state": {
       "_model_module": "@jupyter-widgets/controls",
       "_model_module_version": "2.0.0",
       "_model_name": "DescriptionStyleModel",
       "_view_count": null,
       "_view_module": "@jupyter-widgets/base",
       "_view_module_version": "2.0.0",
       "_view_name": "StyleView",
       "description_width": ""
      }
     },
     "81ec1dad81cc4ae0aedb3f570e666da4": {
      "model_module": "@jupyter-widgets/controls",
      "model_module_version": "2.0.0",
      "model_name": "PlayModel",
      "state": {
       "_dom_classes": [],
       "_model_module": "@jupyter-widgets/controls",
       "_model_module_version": "2.0.0",
       "_model_name": "PlayModel",
       "_view_count": null,
       "_view_module": "@jupyter-widgets/controls",
       "_view_module_version": "2.0.0",
       "_view_name": "PlayView",
       "description": "",
       "description_allow_html": false,
       "disabled": false,
       "interval": 100,
       "layout": "IPY_MODEL_d42afaec6c7146fb86ec6e71bf2e3aef",
       "max": 0,
       "min": 0,
       "playing": false,
       "repeat": false,
       "show_repeat": true,
       "step": 1,
       "style": "IPY_MODEL_7dea1db5640845039ea6e09fc2561554",
       "tabbable": null,
       "tooltip": null,
       "value": 0
      }
     },
     "85af223426474acbace665e7ac693e71": {
      "model_module": "nglview-js-widgets",
      "model_module_version": "3.0.6",
      "model_name": "NGLModel",
      "state": {
       "_camera_orientation": [],
       "_camera_str": "orthographic",
       "_dom_classes": [],
       "_gui_theme": null,
       "_ibtn_fullscreen": "IPY_MODEL_262572fb7de94ff6a000bcbd450966e9",
       "_igui": null,
       "_iplayer": "IPY_MODEL_39dda1c74f694378888e9055587ea17a",
       "_model_module": "nglview-js-widgets",
       "_model_module_version": "3.0.6",
       "_model_name": "NGLModel",
       "_ngl_color_dict": {},
       "_ngl_coordinate_resource": {},
       "_ngl_full_stage_parameters": {},
       "_ngl_msg_archive": [
        {
         "args": [
          {
           "binary": false,
           "data": "HETATM    1  C1  UNL     1       5.406   2.003   0.059  1.00  0.00           C  \nHETATM    2  C2  UNL     1       4.693   0.646  -0.051  1.00  0.00           C  \nHETATM    3  C3  UNL     1       5.272  -0.334   0.981  1.00  0.00           C  \nHETATM    4  C4  UNL     1       5.013   0.180  -1.480  1.00  0.00           C  \nHETATM    5  C5  UNL     1       3.168   0.721   0.163  1.00  0.00           C  \nHETATM    6  C6  UNL     1       2.543   1.761   0.894  1.00  0.00           C  \nHETATM    7  O1  UNL     1       3.188   2.786   1.517  1.00  0.00           O  \nHETATM    8  C7  UNL     1       1.163   1.786   1.102  1.00  0.00           C  \nHETATM    9  O2  UNL     1       0.605   2.774   1.890  1.00  0.00           O  \nHETATM   10  C8  UNL     1       0.359   0.786   0.559  1.00  0.00           C  \nHETATM   11  C9  UNL     1       0.929  -0.264  -0.163  1.00  0.00           C  \nHETATM   12  C10 UNL     1       2.324  -0.322  -0.294  1.00  0.00           C  \nHETATM   13  O3  UNL     1       2.814  -1.485  -0.815  1.00  0.00           O  \nHETATM   14  C11 UNL     1       0.062  -1.337  -0.791  1.00  0.00           C  \nHETATM   15  O4  UNL     1       0.229  -2.526   0.001  1.00  0.00           O  \nHETATM   16  C12 UNL     1      -0.463  -3.660  -0.530  1.00  0.00           C  \nHETATM   17  C13 UNL     1      -1.914  -3.460  -0.934  1.00  0.00           C  \nHETATM   18  C14 UNL     1      -2.311  -2.053  -1.355  1.00  0.00           C  \nHETATM   19  C15 UNL     1      -1.410  -0.885  -0.916  1.00  0.00           C  \nHETATM   20  C16 UNL     1      -1.873  -0.286   0.420  1.00  0.00           C  \nHETATM   21  C17 UNL     1      -3.300   0.226   0.362  1.00  0.00           C  \nHETATM   22  C18 UNL     1      -4.271  -0.298   1.228  1.00  0.00           C  \nHETATM   23  C19 UNL     1      -5.590   0.165   1.199  1.00  0.00           C  \nHETATM   24  O5  UNL     1      -6.505  -0.375   2.064  1.00  0.00           O  \nHETATM   25  C20 UNL     1      -5.958   1.174   0.291  1.00  0.00           C  \nHETATM   26  O6  UNL     1      -7.247   1.650   0.241  1.00  0.00           O  \nHETATM   27  C21 UNL     1      -4.996   1.706  -0.575  1.00  0.00           C  \nHETATM   28  F1  UNL     1      -7.524   8.931  -7.010  1.00  0.00           F  \nHETATM   29  C22 UNL     1      -3.681   1.235  -0.539  1.00  0.00           C  \nHETATM   30  N1  UNL     1      -1.016   0.855   0.760  1.00  0.00           N  \nHETATM   31  H1  UNL     1       6.205   2.224   0.772  1.00  0.00           H  \nHETATM   32  H2  UNL     1       6.408   2.216  -0.325  1.00  0.00           H  \nHETATM   33  H3  UNL     1       6.462   1.782   0.241  1.00  0.00           H  \nHETATM   34  H4  UNL     1       5.649  -0.042   1.966  1.00  0.00           H  \nHETATM   35  H5  UNL     1       4.933   0.034   1.954  1.00  0.00           H  \nHETATM   36  H6  UNL     1       4.741  -0.667   1.877  1.00  0.00           H  \nHETATM   37  H7  UNL     1       6.011   0.182  -1.930  1.00  0.00           H  \nHETATM   38  H8  UNL     1       5.982  -0.327  -1.429  1.00  0.00           H  \nHETATM   39  H9  UNL     1       5.479  -0.780  -1.722  1.00  0.00           H  \nHETATM   40  H10 UNL     1       2.477   3.300   1.935  1.00  0.00           H  \nHETATM   41  H11 UNL     1      -0.230   2.438   2.255  1.00  0.00           H  \nHETATM   42  H12 UNL     1       2.152  -2.170  -0.622  1.00  0.00           H  \nHETATM   43  H13 UNL     1       0.424  -1.533  -1.805  1.00  0.00           H  \nHETATM   44  H14 UNL     1      -0.159  -4.653  -0.185  1.00  0.00           H  \nHETATM   45  H15 UNL     1       0.118  -4.425  -1.052  1.00  0.00           H  \nHETATM   46  H16 UNL     1      -2.673  -4.102  -0.479  1.00  0.00           H  \nHETATM   47  H17 UNL     1      -2.454  -4.306  -1.368  1.00  0.00           H  \nHETATM   48  H18 UNL     1      -2.853  -1.945  -2.299  1.00  0.00           H  \nHETATM   49  H19 UNL     1      -3.372  -1.853  -1.535  1.00  0.00           H  \nHETATM   50  H20 UNL     1      -1.456  -0.109  -1.685  1.00  0.00           H  \nHETATM   51  H21 UNL     1      -1.785  -1.048   1.200  1.00  0.00           H  \nHETATM   52  H22 UNL     1      -3.991  -1.074   1.934  1.00  0.00           H  \nHETATM   53  H23 UNL     1      -6.080  -1.020   2.655  1.00  0.00           H  \nHETATM   54  H24 UNL     1      -7.331   2.351  -0.426  1.00  0.00           H  \nHETATM   55  H25 UNL     1      -2.955   1.663  -1.223  1.00  0.00           H  \nHETATM   56  H26 UNL     1      -1.426   1.779   0.621  1.00  0.00           H  \nCONECT    1    2   31   32   33\nCONECT    2    3    4    5\nCONECT    3   34   35   36\nCONECT    4   37   38   39\nCONECT    5    6    6   12\nCONECT    6    7    8\nCONECT    7   40\nCONECT    8    9   10   10\nCONECT    9   41\nCONECT   10   11   30\nCONECT   11   12   12   14\nCONECT   12   13\nCONECT   13   42\nCONECT   14   15   19   43\nCONECT   15   16\nCONECT   16   17   44   45\nCONECT   17   18   46   47\nCONECT   18   19   48   49\nCONECT   19   20   50\nCONECT   20   21   30   51\nCONECT   21   22   22   29\nCONECT   22   23   52\nCONECT   23   24   25   25\nCONECT   24   53\nCONECT   25   26   27\nCONECT   26   54\nCONECT   27   28   29   29\nCONECT   29   55\nCONECT   30   56\n",
           "type": "blob"
          }
         ],
         "kwargs": {
          "defaultRepresentation": true,
          "ext": "pdb",
          "name": "<openff.toolkit.utils.viz._OFFTrajectoryNGLView object at 0x16bb38a10>"
         },
         "methodName": "loadFile",
         "reconstruc_color_scheme": false,
         "target": "Stage",
         "type": "call_method"
        }
       ],
       "_ngl_original_stage_parameters": {},
       "_ngl_repr_dict": {},
       "_ngl_serialize": false,
       "_ngl_version": "",
       "_ngl_view_id": [],
       "_player_dict": {},
       "_scene_position": {},
       "_scene_rotation": {},
       "_synced_model_ids": [],
       "_synced_repr_model_ids": [],
       "_view_count": null,
       "_view_height": "",
       "_view_module": "nglview-js-widgets",
       "_view_module_version": "3.0.6",
       "_view_name": "NGLView",
       "_view_width": "",
       "background": "white",
       "frame": 0,
       "gui_style": null,
       "layout": "IPY_MODEL_515bf5255d94450cbb67c6d36c47efea",
       "max_frame": 0,
       "n_components": 0,
       "picked": {},
       "tabbable": null,
       "tooltip": null
      }
     },
     "890b0cd472e1495396d23e3e01e72cdb": {
      "model_module": "@jupyter-widgets/controls",
      "model_module_version": "2.0.0",
      "model_name": "LinkModel",
      "state": {
       "_model_module": "@jupyter-widgets/controls",
       "_model_module_version": "2.0.0",
       "_model_name": "LinkModel",
       "_view_count": null,
       "_view_module": "@jupyter-widgets/controls",
       "_view_module_version": "2.0.0",
       "_view_name": null,
       "source": [
        "IPY_MODEL_81ec1dad81cc4ae0aedb3f570e666da4",
        "value"
       ],
       "target": [
        "IPY_MODEL_969f699580404e10a6587843cb6d8a44",
        "frame"
       ]
      }
     },
     "8b0fb0d3900e4637a13673fb758b52e4": {
      "model_module": "@jupyter-widgets/controls",
      "model_module_version": "2.0.0",
      "model_name": "LinkModel",
      "state": {
       "_model_module": "@jupyter-widgets/controls",
       "_model_module_version": "2.0.0",
       "_model_name": "LinkModel",
       "_view_count": null,
       "_view_module": "@jupyter-widgets/controls",
       "_view_module_version": "2.0.0",
       "_view_name": null,
       "source": [
        "IPY_MODEL_9cf7a3cf958d4e63a59ff3d5fda978b2",
        "value"
       ],
       "target": [
        "IPY_MODEL_4cc1b3e68aab4b76b34ad5be6577f113",
        "value"
       ]
      }
     },
     "8e35729aed4049188670cb472a4d0cd1": {
      "model_module": "@jupyter-widgets/controls",
      "model_module_version": "2.0.0",
      "model_name": "IntSliderModel",
      "state": {
       "_dom_classes": [],
       "_model_module": "@jupyter-widgets/controls",
       "_model_module_version": "2.0.0",
       "_model_name": "IntSliderModel",
       "_view_count": null,
       "_view_module": "@jupyter-widgets/controls",
       "_view_module_version": "2.0.0",
       "_view_name": "IntSliderView",
       "behavior": "drag-tap",
       "continuous_update": true,
       "description": "",
       "description_allow_html": false,
       "disabled": false,
       "layout": "IPY_MODEL_247ff472a95d4d3da0b2a0d9e3745850",
       "max": 0,
       "min": 0,
       "orientation": "horizontal",
       "readout": true,
       "readout_format": "d",
       "step": 1,
       "style": "IPY_MODEL_05cd21ce707f4c2a81a8f4d32fdc7672",
       "tabbable": null,
       "tooltip": null,
       "value": 0
      }
     },
     "91b18a37efa34fa798da210764297f65": {
      "model_module": "@jupyter-widgets/controls",
      "model_module_version": "2.0.0",
      "model_name": "ButtonStyleModel",
      "state": {
       "_model_module": "@jupyter-widgets/controls",
       "_model_module_version": "2.0.0",
       "_model_name": "ButtonStyleModel",
       "_view_count": null,
       "_view_module": "@jupyter-widgets/base",
       "_view_module_version": "2.0.0",
       "_view_name": "StyleView",
       "button_color": null,
       "font_family": null,
       "font_size": null,
       "font_style": null,
       "font_variant": null,
       "font_weight": null,
       "text_color": null,
       "text_decoration": null
      }
     },
     "9282df229a70497f9a8ff495f5d183db": {
      "model_module": "@jupyter-widgets/base",
      "model_module_version": "2.0.0",
      "model_name": "LayoutModel",
      "state": {
       "_model_module": "@jupyter-widgets/base",
       "_model_module_version": "2.0.0",
       "_model_name": "LayoutModel",
       "_view_count": null,
       "_view_module": "@jupyter-widgets/base",
       "_view_module_version": "2.0.0",
       "_view_name": "LayoutView",
       "align_content": null,
       "align_items": null,
       "align_self": null,
       "border_bottom": null,
       "border_left": null,
       "border_right": null,
       "border_top": null,
       "bottom": null,
       "display": null,
       "flex": null,
       "flex_flow": null,
       "grid_area": null,
       "grid_auto_columns": null,
       "grid_auto_flow": null,
       "grid_auto_rows": null,
       "grid_column": null,
       "grid_gap": null,
       "grid_row": null,
       "grid_template_areas": null,
       "grid_template_columns": null,
       "grid_template_rows": null,
       "height": null,
       "justify_content": null,
       "justify_items": null,
       "left": null,
       "margin": null,
       "max_height": null,
       "max_width": null,
       "min_height": null,
       "min_width": null,
       "object_fit": null,
       "object_position": null,
       "order": null,
       "overflow": null,
       "padding": null,
       "right": null,
       "top": null,
       "visibility": null,
       "width": "34px"
      }
     },
     "9401e6d2dc0845e7b32457f230d12325": {
      "model_module": "@jupyter-widgets/controls",
      "model_module_version": "2.0.0",
      "model_name": "LinkModel",
      "state": {
       "_model_module": "@jupyter-widgets/controls",
       "_model_module_version": "2.0.0",
       "_model_name": "LinkModel",
       "_view_count": null,
       "_view_module": "@jupyter-widgets/controls",
       "_view_module_version": "2.0.0",
       "_view_name": null,
       "source": [
        "IPY_MODEL_9cf7a3cf958d4e63a59ff3d5fda978b2",
        "max"
       ],
       "target": [
        "IPY_MODEL_0eba6dcef0814756997dc93327c9f58c",
        "max_frame"
       ]
      }
     },
     "94028152e0c74e5bab1c36a8be62125b": {
      "model_module": "@jupyter-widgets/controls",
      "model_module_version": "2.0.0",
      "model_name": "LinkModel",
      "state": {
       "_model_module": "@jupyter-widgets/controls",
       "_model_module_version": "2.0.0",
       "_model_name": "LinkModel",
       "_view_count": null,
       "_view_module": "@jupyter-widgets/controls",
       "_view_module_version": "2.0.0",
       "_view_name": null,
       "source": [
        "IPY_MODEL_9cf7a3cf958d4e63a59ff3d5fda978b2",
        "value"
       ],
       "target": [
        "IPY_MODEL_0eba6dcef0814756997dc93327c9f58c",
        "frame"
       ]
      }
     },
     "969f699580404e10a6587843cb6d8a44": {
      "model_module": "nglview-js-widgets",
      "model_module_version": "3.0.6",
      "model_name": "NGLModel",
      "state": {
       "_camera_orientation": [],
       "_camera_str": "orthographic",
       "_dom_classes": [],
       "_gui_theme": null,
       "_ibtn_fullscreen": "IPY_MODEL_db3d0cbea37241319b9845199d0f04fe",
       "_igui": null,
       "_iplayer": "IPY_MODEL_dac8adecd06540a68f8a92e18f58c504",
       "_model_module": "nglview-js-widgets",
       "_model_module_version": "3.0.6",
       "_model_name": "NGLModel",
       "_ngl_color_dict": {},
       "_ngl_coordinate_resource": {},
       "_ngl_full_stage_parameters": {},
       "_ngl_msg_archive": [
        {
         "args": [
          {
           "binary": false,
           "data": "HETATM    1  C1  UNL     1       4.960   2.464  -0.220  1.00  0.00           C  \nHETATM    2  C2  UNL     1       4.499   0.997  -0.297  1.00  0.00           C  \nHETATM    3  C3  UNL     1       5.315   0.131   0.675  1.00  0.00           C  \nHETATM    4  C4  UNL     1       4.833   0.606  -1.748  1.00  0.00           C  \nHETATM    5  C5  UNL     1       3.000   0.808   0.041  1.00  0.00           C  \nHETATM    6  C6  UNL     1       2.338   1.642   0.992  1.00  0.00           C  \nHETATM    7  O1  UNL     1       2.991   2.621   1.697  1.00  0.00           O  \nHETATM    8  C7  UNL     1       0.976   1.475   1.292  1.00  0.00           C  \nHETATM    9  O2  UNL     1       0.317   2.283   2.201  1.00  0.00           O  \nHETATM   10  C8  UNL     1       0.297   0.450   0.654  1.00  0.00           C  \nHETATM   11  C9  UNL     1       0.883  -0.427  -0.237  1.00  0.00           C  \nHETATM   12  C10 UNL     1       2.244  -0.264  -0.522  1.00  0.00           C  \nHETATM   13  O3  UNL     1       2.806  -1.213  -1.333  1.00  0.00           O  \nHETATM   14  C11 UNL     1       0.028  -1.542  -0.868  1.00  0.00           C  \nHETATM   15  O4  UNL     1       0.164  -2.775  -0.214  1.00  0.00           O  \nHETATM   16  C12 UNL     1      -0.259  -4.013   0.269  1.00  0.00           C  \nHETATM   17  C13 UNL     1      -1.745  -4.053  -0.080  1.00  0.00           C  \nHETATM   18  C14 UNL     1      -2.296  -2.822  -0.876  1.00  0.00           C  \nHETATM   19  C15 UNL     1      -1.568  -1.424  -0.784  1.00  0.00           C  \nHETATM   20  C16 UNL     1      -2.104  -0.726   0.501  1.00  0.00           C  \nHETATM   21  C17 UNL     1      -3.379   0.053   0.251  1.00  0.00           C  \nHETATM   22  C18 UNL     1      -4.611  -0.449   0.697  1.00  0.00           C  \nHETATM   23  C19 UNL     1      -5.799   0.249   0.464  1.00  0.00           C  \nHETATM   24  O5  UNL     1      -6.978  -0.284   0.917  1.00  0.00           O  \nHETATM   25  C20 UNL     1      -5.769   1.475  -0.224  1.00  0.00           C  \nHETATM   26  O6  UNL     1      -6.922   2.183  -0.467  1.00  0.00           O  \nHETATM   27  C21 UNL     1      -4.546   1.985  -0.674  1.00  0.00           C  \nHETATM   28  F1  UNL     1      -4.278  10.691  -5.585  1.00  0.00           F  \nHETATM   29  C22 UNL     1      -3.363   1.277  -0.438  1.00  0.00           C  \nHETATM   30  N1  UNL     1      -1.007   0.139   0.838  1.00  0.00           N  \nHETATM   31  H1  UNL     1       5.803   2.814   0.383  1.00  0.00           H  \nHETATM   32  H2  UNL     1       5.839   2.873  -0.726  1.00  0.00           H  \nHETATM   33  H3  UNL     1       6.053   2.438  -0.195  1.00  0.00           H  \nHETATM   34  H4  UNL     1       5.724   0.487   1.625  1.00  0.00           H  \nHETATM   35  H5  UNL     1       5.007   0.444   1.677  1.00  0.00           H  \nHETATM   36  H6  UNL     1       4.923  -0.276   1.611  1.00  0.00           H  \nHETATM   37  H7  UNL     1       5.762   0.857  -2.268  1.00  0.00           H  \nHETATM   38  H8  UNL     1       5.901   0.369  -1.764  1.00  0.00           H  \nHETATM   39  H9  UNL     1       5.516  -0.203  -2.022  1.00  0.00           H  \nHETATM   40  H10 UNL     1       3.431   3.321   2.209  1.00  0.00           H  \nHETATM   41  H11 UNL     1      -0.118   2.868   2.844  1.00  0.00           H  \nHETATM   42  H12 UNL     1       3.182  -1.898  -1.910  1.00  0.00           H  \nHETATM   43  H13 UNL     1       0.315  -1.651  -1.918  1.00  0.00           H  \nHETATM   44  H14 UNL     1       0.157  -4.475   1.169  1.00  0.00           H  \nHETATM   45  H15 UNL     1       0.380  -4.901   0.288  1.00  0.00           H  \nHETATM   46  H16 UNL     1      -2.422  -4.594   0.587  1.00  0.00           H  \nHETATM   47  H17 UNL     1      -2.222  -5.027  -0.219  1.00  0.00           H  \nHETATM   48  H18 UNL     1      -2.827  -3.039  -1.807  1.00  0.00           H  \nHETATM   49  H19 UNL     1      -3.370  -2.810  -1.086  1.00  0.00           H  \nHETATM   50  H20 UNL     1      -1.865  -0.818  -1.645  1.00  0.00           H  \nHETATM   51  H21 UNL     1      -2.248  -1.456   1.303  1.00  0.00           H  \nHETATM   52  H22 UNL     1      -4.655  -1.394   1.228  1.00  0.00           H  \nHETATM   53  H23 UNL     1      -7.825  -0.644   1.229  1.00  0.00           H  \nHETATM   54  H24 UNL     1      -7.727   2.696  -0.646  1.00  0.00           H  \nHETATM   55  H25 UNL     1      -2.423   1.683  -0.797  1.00  0.00           H  \nHETATM   56  H26 UNL     1      -1.333   0.810   1.533  1.00  0.00           H  \nCONECT    1    2   31   32   33\nCONECT    2    3    4    5\nCONECT    3   34   35   36\nCONECT    4   37   38   39\nCONECT    5    6    6   12\nCONECT    6    7    8\nCONECT    7   40\nCONECT    8    9   10   10\nCONECT    9   41\nCONECT   10   11   30\nCONECT   11   12   12   14\nCONECT   12   13\nCONECT   13   42\nCONECT   14   15   19   43\nCONECT   15   16\nCONECT   16   17   44   45\nCONECT   17   18   46   47\nCONECT   18   19   48   49\nCONECT   19   20   50\nCONECT   20   21   30   51\nCONECT   21   22   22   29\nCONECT   22   23   52\nCONECT   23   24   25   25\nCONECT   24   53\nCONECT   25   26   27\nCONECT   26   54\nCONECT   27   28   29   29\nCONECT   29   55\nCONECT   30   56\n",
           "type": "blob"
          }
         ],
         "kwargs": {
          "defaultRepresentation": true,
          "ext": "pdb",
          "name": "<openff.toolkit.utils.viz._OFFTrajectoryNGLView object at 0x16bbf8f50>"
         },
         "methodName": "loadFile",
         "reconstruc_color_scheme": false,
         "target": "Stage",
         "type": "call_method"
        }
       ],
       "_ngl_original_stage_parameters": {},
       "_ngl_repr_dict": {},
       "_ngl_serialize": false,
       "_ngl_version": "",
       "_ngl_view_id": [],
       "_player_dict": {},
       "_scene_position": {},
       "_scene_rotation": {},
       "_synced_model_ids": [],
       "_synced_repr_model_ids": [],
       "_view_count": null,
       "_view_height": "",
       "_view_module": "nglview-js-widgets",
       "_view_module_version": "3.0.6",
       "_view_name": "NGLView",
       "_view_width": "",
       "background": "white",
       "frame": 0,
       "gui_style": null,
       "layout": "IPY_MODEL_f8b884c674a7431dae3dd8ab13c83fad",
       "max_frame": 0,
       "n_components": 0,
       "picked": {},
       "tabbable": null,
       "tooltip": null
      }
     },
     "976ee71490d0423ea0e10dbd458d4b86": {
      "model_module": "@jupyter-widgets/base",
      "model_module_version": "2.0.0",
      "model_name": "LayoutModel",
      "state": {
       "_model_module": "@jupyter-widgets/base",
       "_model_module_version": "2.0.0",
       "_model_name": "LayoutModel",
       "_view_count": null,
       "_view_module": "@jupyter-widgets/base",
       "_view_module_version": "2.0.0",
       "_view_name": "LayoutView",
       "align_content": null,
       "align_items": null,
       "align_self": null,
       "border_bottom": null,
       "border_left": null,
       "border_right": null,
       "border_top": null,
       "bottom": null,
       "display": null,
       "flex": null,
       "flex_flow": null,
       "grid_area": null,
       "grid_auto_columns": null,
       "grid_auto_flow": null,
       "grid_auto_rows": null,
       "grid_column": null,
       "grid_gap": null,
       "grid_row": null,
       "grid_template_areas": null,
       "grid_template_columns": null,
       "grid_template_rows": null,
       "height": null,
       "justify_content": null,
       "justify_items": null,
       "left": null,
       "margin": null,
       "max_height": null,
       "max_width": null,
       "min_height": null,
       "min_width": null,
       "object_fit": null,
       "object_position": null,
       "order": null,
       "overflow": null,
       "padding": null,
       "right": null,
       "top": null,
       "visibility": null,
       "width": null
      }
     },
     "986c0f62ef944cfc8b41d4324355b574": {
      "model_module": "@jupyter-widgets/base",
      "model_module_version": "2.0.0",
      "model_name": "LayoutModel",
      "state": {
       "_model_module": "@jupyter-widgets/base",
       "_model_module_version": "2.0.0",
       "_model_name": "LayoutModel",
       "_view_count": null,
       "_view_module": "@jupyter-widgets/base",
       "_view_module_version": "2.0.0",
       "_view_name": "LayoutView",
       "align_content": null,
       "align_items": null,
       "align_self": null,
       "border_bottom": null,
       "border_left": null,
       "border_right": null,
       "border_top": null,
       "bottom": null,
       "display": null,
       "flex": null,
       "flex_flow": null,
       "grid_area": null,
       "grid_auto_columns": null,
       "grid_auto_flow": null,
       "grid_auto_rows": null,
       "grid_column": null,
       "grid_gap": null,
       "grid_row": null,
       "grid_template_areas": null,
       "grid_template_columns": null,
       "grid_template_rows": null,
       "height": null,
       "justify_content": null,
       "justify_items": null,
       "left": null,
       "margin": null,
       "max_height": null,
       "max_width": null,
       "min_height": null,
       "min_width": null,
       "object_fit": null,
       "object_position": null,
       "order": null,
       "overflow": null,
       "padding": null,
       "right": null,
       "top": null,
       "visibility": null,
       "width": null
      }
     },
     "9cf7a3cf958d4e63a59ff3d5fda978b2": {
      "model_module": "@jupyter-widgets/controls",
      "model_module_version": "2.0.0",
      "model_name": "PlayModel",
      "state": {
       "_dom_classes": [],
       "_model_module": "@jupyter-widgets/controls",
       "_model_module_version": "2.0.0",
       "_model_name": "PlayModel",
       "_view_count": null,
       "_view_module": "@jupyter-widgets/controls",
       "_view_module_version": "2.0.0",
       "_view_name": "PlayView",
       "description": "",
       "description_allow_html": false,
       "disabled": false,
       "interval": 100,
       "layout": "IPY_MODEL_ff1a75315ae8484fa6cb97bbca5e3b3a",
       "max": 0,
       "min": 0,
       "playing": false,
       "repeat": false,
       "show_repeat": true,
       "step": 1,
       "style": "IPY_MODEL_9f2162fbea614b3baeb0be4f84ba0aab",
       "tabbable": null,
       "tooltip": null,
       "value": 0
      }
     },
     "9ea0f2eff9a34f4a817eedf7979b8f71": {
      "buffers": [
       {
        "data": "",
        "encoding": "base64",
        "path": [
         "value"
        ]
       }
      ],
      "model_module": "@jupyter-widgets/controls",
      "model_module_version": "2.0.0",
      "model_name": "ImageModel",
      "state": {
       "_dom_classes": [],
       "_model_module": "@jupyter-widgets/controls",
       "_model_module_version": "2.0.0",
       "_model_name": "ImageModel",
       "_view_count": null,
       "_view_module": "@jupyter-widgets/controls",
       "_view_module_version": "2.0.0",
       "_view_name": "ImageView",
       "format": "png",
       "height": "",
       "layout": "IPY_MODEL_c32c3d8185f748f4b4a3d2b2fe0c2642",
       "tabbable": null,
       "tooltip": null,
       "width": "900.0"
      }
     },
     "9f2162fbea614b3baeb0be4f84ba0aab": {
      "model_module": "@jupyter-widgets/controls",
      "model_module_version": "2.0.0",
      "model_name": "DescriptionStyleModel",
      "state": {
       "_model_module": "@jupyter-widgets/controls",
       "_model_module_version": "2.0.0",
       "_model_name": "DescriptionStyleModel",
       "_view_count": null,
       "_view_module": "@jupyter-widgets/base",
       "_view_module_version": "2.0.0",
       "_view_name": "StyleView",
       "description_width": ""
      }
     },
     "a49415638a9d429dbe7f172f1573afe0": {
      "model_module": "@jupyter-widgets/controls",
      "model_module_version": "2.0.0",
      "model_name": "IntSliderModel",
      "state": {
       "_dom_classes": [],
       "_model_module": "@jupyter-widgets/controls",
       "_model_module_version": "2.0.0",
       "_model_name": "IntSliderModel",
       "_view_count": null,
       "_view_module": "@jupyter-widgets/controls",
       "_view_module_version": "2.0.0",
       "_view_name": "IntSliderView",
       "behavior": "drag-tap",
       "continuous_update": true,
       "description": "",
       "description_allow_html": false,
       "disabled": false,
       "layout": "IPY_MODEL_447d272c1a9c4180841ed922ad3bda5f",
       "max": 0,
       "min": 0,
       "orientation": "horizontal",
       "readout": true,
       "readout_format": "d",
       "step": 1,
       "style": "IPY_MODEL_c61c369d39f343a7889899d3c4a649a1",
       "tabbable": null,
       "tooltip": null,
       "value": 0
      }
     },
     "a5d703b9c6314702a1acb7ef20f253c5": {
      "model_module": "@jupyter-widgets/controls",
      "model_module_version": "2.0.0",
      "model_name": "LinkModel",
      "state": {
       "_model_module": "@jupyter-widgets/controls",
       "_model_module_version": "2.0.0",
       "_model_name": "LinkModel",
       "_view_count": null,
       "_view_module": "@jupyter-widgets/controls",
       "_view_module_version": "2.0.0",
       "_view_name": null,
       "source": [
        "IPY_MODEL_bac1cfd1c8a74a4cb46e6f96dd91febe",
        "value"
       ],
       "target": [
        "IPY_MODEL_40094a9df5d44e92b2f61490e90dadc8",
        "frame"
       ]
      }
     },
     "aa6dd1d4cb66431d908a7ec2ab3eee7c": {
      "model_module": "@jupyter-widgets/base",
      "model_module_version": "2.0.0",
      "model_name": "LayoutModel",
      "state": {
       "_model_module": "@jupyter-widgets/base",
       "_model_module_version": "2.0.0",
       "_model_name": "LayoutModel",
       "_view_count": null,
       "_view_module": "@jupyter-widgets/base",
       "_view_module_version": "2.0.0",
       "_view_name": "LayoutView",
       "align_content": null,
       "align_items": null,
       "align_self": null,
       "border_bottom": null,
       "border_left": null,
       "border_right": null,
       "border_top": null,
       "bottom": null,
       "display": null,
       "flex": null,
       "flex_flow": null,
       "grid_area": null,
       "grid_auto_columns": null,
       "grid_auto_flow": null,
       "grid_auto_rows": null,
       "grid_column": null,
       "grid_gap": null,
       "grid_row": null,
       "grid_template_areas": null,
       "grid_template_columns": null,
       "grid_template_rows": null,
       "height": null,
       "justify_content": null,
       "justify_items": null,
       "left": null,
       "margin": null,
       "max_height": null,
       "max_width": null,
       "min_height": null,
       "min_width": null,
       "object_fit": null,
       "object_position": null,
       "order": null,
       "overflow": null,
       "padding": null,
       "right": null,
       "top": null,
       "visibility": null,
       "width": null
      }
     },
     "ab0e430c6db648b3a1ca31837873942c": {
      "model_module": "@jupyter-widgets/base",
      "model_module_version": "2.0.0",
      "model_name": "LayoutModel",
      "state": {
       "_model_module": "@jupyter-widgets/base",
       "_model_module_version": "2.0.0",
       "_model_name": "LayoutModel",
       "_view_count": null,
       "_view_module": "@jupyter-widgets/base",
       "_view_module_version": "2.0.0",
       "_view_name": "LayoutView",
       "align_content": null,
       "align_items": null,
       "align_self": null,
       "border_bottom": null,
       "border_left": null,
       "border_right": null,
       "border_top": null,
       "bottom": null,
       "display": null,
       "flex": null,
       "flex_flow": null,
       "grid_area": null,
       "grid_auto_columns": null,
       "grid_auto_flow": null,
       "grid_auto_rows": null,
       "grid_column": null,
       "grid_gap": null,
       "grid_row": null,
       "grid_template_areas": null,
       "grid_template_columns": null,
       "grid_template_rows": null,
       "height": null,
       "justify_content": null,
       "justify_items": null,
       "left": null,
       "margin": null,
       "max_height": null,
       "max_width": null,
       "min_height": null,
       "min_width": null,
       "object_fit": null,
       "object_position": null,
       "order": null,
       "overflow": null,
       "padding": null,
       "right": null,
       "top": null,
       "visibility": null,
       "width": null
      }
     },
     "aed62c5f652a4a3c919ca103979e94e6": {
      "model_module": "@jupyter-widgets/base",
      "model_module_version": "2.0.0",
      "model_name": "LayoutModel",
      "state": {
       "_model_module": "@jupyter-widgets/base",
       "_model_module_version": "2.0.0",
       "_model_name": "LayoutModel",
       "_view_count": null,
       "_view_module": "@jupyter-widgets/base",
       "_view_module_version": "2.0.0",
       "_view_name": "LayoutView",
       "align_content": null,
       "align_items": null,
       "align_self": null,
       "border_bottom": null,
       "border_left": null,
       "border_right": null,
       "border_top": null,
       "bottom": null,
       "display": null,
       "flex": null,
       "flex_flow": null,
       "grid_area": null,
       "grid_auto_columns": null,
       "grid_auto_flow": null,
       "grid_auto_rows": null,
       "grid_column": null,
       "grid_gap": null,
       "grid_row": null,
       "grid_template_areas": null,
       "grid_template_columns": null,
       "grid_template_rows": null,
       "height": null,
       "justify_content": null,
       "justify_items": null,
       "left": null,
       "margin": null,
       "max_height": null,
       "max_width": null,
       "min_height": null,
       "min_width": null,
       "object_fit": null,
       "object_position": null,
       "order": null,
       "overflow": null,
       "padding": null,
       "right": null,
       "top": null,
       "visibility": null,
       "width": null
      }
     },
     "b4eba1dab717468dbe39be8f9d77a616": {
      "model_module": "@jupyter-widgets/controls",
      "model_module_version": "2.0.0",
      "model_name": "LinkModel",
      "state": {
       "_model_module": "@jupyter-widgets/controls",
       "_model_module_version": "2.0.0",
       "_model_name": "LinkModel",
       "_view_count": null,
       "_view_module": "@jupyter-widgets/controls",
       "_view_module_version": "2.0.0",
       "_view_name": null,
       "source": [
        "IPY_MODEL_285fdc4aa44e46949b42d80655d68db5",
        "max"
       ],
       "target": [
        "IPY_MODEL_969f699580404e10a6587843cb6d8a44",
        "max_frame"
       ]
      }
     },
     "bac1cfd1c8a74a4cb46e6f96dd91febe": {
      "model_module": "@jupyter-widgets/controls",
      "model_module_version": "2.0.0",
      "model_name": "PlayModel",
      "state": {
       "_dom_classes": [],
       "_model_module": "@jupyter-widgets/controls",
       "_model_module_version": "2.0.0",
       "_model_name": "PlayModel",
       "_view_count": null,
       "_view_module": "@jupyter-widgets/controls",
       "_view_module_version": "2.0.0",
       "_view_name": "PlayView",
       "description": "",
       "description_allow_html": false,
       "disabled": false,
       "interval": 100,
       "layout": "IPY_MODEL_ab0e430c6db648b3a1ca31837873942c",
       "max": 0,
       "min": 0,
       "playing": false,
       "repeat": false,
       "show_repeat": true,
       "step": 1,
       "style": "IPY_MODEL_bdec6f897d094364857f02149af7037f",
       "tabbable": null,
       "tooltip": null,
       "value": 0
      }
     },
     "bb3adcfda43743fb8489f34b3612aa5c": {
      "model_module": "@jupyter-widgets/controls",
      "model_module_version": "2.0.0",
      "model_name": "DescriptionStyleModel",
      "state": {
       "_model_module": "@jupyter-widgets/controls",
       "_model_module_version": "2.0.0",
       "_model_name": "DescriptionStyleModel",
       "_view_count": null,
       "_view_module": "@jupyter-widgets/base",
       "_view_module_version": "2.0.0",
       "_view_name": "StyleView",
       "description_width": ""
      }
     },
     "bddcdc3210b442a9886e3b569eb49940": {
      "model_module": "@jupyter-widgets/base",
      "model_module_version": "2.0.0",
      "model_name": "LayoutModel",
      "state": {
       "_model_module": "@jupyter-widgets/base",
       "_model_module_version": "2.0.0",
       "_model_name": "LayoutModel",
       "_view_count": null,
       "_view_module": "@jupyter-widgets/base",
       "_view_module_version": "2.0.0",
       "_view_name": "LayoutView",
       "align_content": null,
       "align_items": null,
       "align_self": null,
       "border_bottom": null,
       "border_left": null,
       "border_right": null,
       "border_top": null,
       "bottom": null,
       "display": null,
       "flex": null,
       "flex_flow": null,
       "grid_area": null,
       "grid_auto_columns": null,
       "grid_auto_flow": null,
       "grid_auto_rows": null,
       "grid_column": null,
       "grid_gap": null,
       "grid_row": null,
       "grid_template_areas": null,
       "grid_template_columns": null,
       "grid_template_rows": null,
       "height": null,
       "justify_content": null,
       "justify_items": null,
       "left": null,
       "margin": null,
       "max_height": null,
       "max_width": null,
       "min_height": null,
       "min_width": null,
       "object_fit": null,
       "object_position": null,
       "order": null,
       "overflow": null,
       "padding": null,
       "right": null,
       "top": null,
       "visibility": null,
       "width": "34px"
      }
     },
     "bddcdc5d0ffc4127b3ac02b4f847f294": {
      "model_module": "@jupyter-widgets/controls",
      "model_module_version": "2.0.0",
      "model_name": "SliderStyleModel",
      "state": {
       "_model_module": "@jupyter-widgets/controls",
       "_model_module_version": "2.0.0",
       "_model_name": "SliderStyleModel",
       "_view_count": null,
       "_view_module": "@jupyter-widgets/base",
       "_view_module_version": "2.0.0",
       "_view_name": "StyleView",
       "description_width": "",
       "handle_color": null
      }
     },
     "bdec6f897d094364857f02149af7037f": {
      "model_module": "@jupyter-widgets/controls",
      "model_module_version": "2.0.0",
      "model_name": "DescriptionStyleModel",
      "state": {
       "_model_module": "@jupyter-widgets/controls",
       "_model_module_version": "2.0.0",
       "_model_name": "DescriptionStyleModel",
       "_view_count": null,
       "_view_module": "@jupyter-widgets/base",
       "_view_module_version": "2.0.0",
       "_view_name": "StyleView",
       "description_width": ""
      }
     },
     "c32c3d8185f748f4b4a3d2b2fe0c2642": {
      "model_module": "@jupyter-widgets/base",
      "model_module_version": "2.0.0",
      "model_name": "LayoutModel",
      "state": {
       "_model_module": "@jupyter-widgets/base",
       "_model_module_version": "2.0.0",
       "_model_name": "LayoutModel",
       "_view_count": null,
       "_view_module": "@jupyter-widgets/base",
       "_view_module_version": "2.0.0",
       "_view_name": "LayoutView",
       "align_content": null,
       "align_items": null,
       "align_self": null,
       "border_bottom": null,
       "border_left": null,
       "border_right": null,
       "border_top": null,
       "bottom": null,
       "display": null,
       "flex": null,
       "flex_flow": null,
       "grid_area": null,
       "grid_auto_columns": null,
       "grid_auto_flow": null,
       "grid_auto_rows": null,
       "grid_column": null,
       "grid_gap": null,
       "grid_row": null,
       "grid_template_areas": null,
       "grid_template_columns": null,
       "grid_template_rows": null,
       "height": null,
       "justify_content": null,
       "justify_items": null,
       "left": null,
       "margin": null,
       "max_height": null,
       "max_width": null,
       "min_height": null,
       "min_width": null,
       "object_fit": null,
       "object_position": null,
       "order": null,
       "overflow": null,
       "padding": null,
       "right": null,
       "top": null,
       "visibility": null,
       "width": null
      }
     },
     "c61c369d39f343a7889899d3c4a649a1": {
      "model_module": "@jupyter-widgets/controls",
      "model_module_version": "2.0.0",
      "model_name": "SliderStyleModel",
      "state": {
       "_model_module": "@jupyter-widgets/controls",
       "_model_module_version": "2.0.0",
       "_model_name": "SliderStyleModel",
       "_view_count": null,
       "_view_module": "@jupyter-widgets/base",
       "_view_module_version": "2.0.0",
       "_view_name": "StyleView",
       "description_width": "",
       "handle_color": null
      }
     },
     "c6eda1e6e8ce4e28a56cd98d3ff549cc": {
      "model_module": "@jupyter-widgets/controls",
      "model_module_version": "2.0.0",
      "model_name": "ButtonModel",
      "state": {
       "_dom_classes": [],
       "_model_module": "@jupyter-widgets/controls",
       "_model_module_version": "2.0.0",
       "_model_name": "ButtonModel",
       "_view_count": null,
       "_view_module": "@jupyter-widgets/controls",
       "_view_module_version": "2.0.0",
       "_view_name": "ButtonView",
       "button_style": "",
       "description": "",
       "disabled": false,
       "icon": "compress",
       "layout": "IPY_MODEL_7c1ad8412fa94b1b9db3ad92af2661f0",
       "style": "IPY_MODEL_91b18a37efa34fa798da210764297f65",
       "tabbable": null,
       "tooltip": null
      }
     },
     "c76d31941ace4d12a2ba29e23397a82f": {
      "model_module": "@jupyter-widgets/controls",
      "model_module_version": "2.0.0",
      "model_name": "HBoxModel",
      "state": {
       "_dom_classes": [],
       "_model_module": "@jupyter-widgets/controls",
       "_model_module_version": "2.0.0",
       "_model_name": "HBoxModel",
       "_view_count": null,
       "_view_module": "@jupyter-widgets/controls",
       "_view_module_version": "2.0.0",
       "_view_name": "HBoxView",
       "box_style": "",
       "children": [
        "IPY_MODEL_eac5891c7aa24beb9a25b470ae6ef99f",
        "IPY_MODEL_75668e0340b84b199fb9fea7a32bc066"
       ],
       "layout": "IPY_MODEL_4d25bef1bc5f402a9bd2bc29491bb004",
       "tabbable": null,
       "tooltip": null
      }
     },
     "d0bf8f079a094d54a3e4a66ac64d721e": {
      "model_module": "@jupyter-widgets/base",
      "model_module_version": "2.0.0",
      "model_name": "LayoutModel",
      "state": {
       "_model_module": "@jupyter-widgets/base",
       "_model_module_version": "2.0.0",
       "_model_name": "LayoutModel",
       "_view_count": null,
       "_view_module": "@jupyter-widgets/base",
       "_view_module_version": "2.0.0",
       "_view_name": "LayoutView",
       "align_content": null,
       "align_items": null,
       "align_self": null,
       "border_bottom": null,
       "border_left": null,
       "border_right": null,
       "border_top": null,
       "bottom": null,
       "display": null,
       "flex": null,
       "flex_flow": null,
       "grid_area": null,
       "grid_auto_columns": null,
       "grid_auto_flow": null,
       "grid_auto_rows": null,
       "grid_column": null,
       "grid_gap": null,
       "grid_row": null,
       "grid_template_areas": null,
       "grid_template_columns": null,
       "grid_template_rows": null,
       "height": null,
       "justify_content": null,
       "justify_items": null,
       "left": null,
       "margin": null,
       "max_height": null,
       "max_width": null,
       "min_height": null,
       "min_width": null,
       "object_fit": null,
       "object_position": null,
       "order": null,
       "overflow": null,
       "padding": null,
       "right": null,
       "top": null,
       "visibility": null,
       "width": null
      }
     },
     "d0f7320e9b6a468892fa119ad55b7bd9": {
      "model_module": "@jupyter-widgets/base",
      "model_module_version": "2.0.0",
      "model_name": "LayoutModel",
      "state": {
       "_model_module": "@jupyter-widgets/base",
       "_model_module_version": "2.0.0",
       "_model_name": "LayoutModel",
       "_view_count": null,
       "_view_module": "@jupyter-widgets/base",
       "_view_module_version": "2.0.0",
       "_view_name": "LayoutView",
       "align_content": null,
       "align_items": null,
       "align_self": null,
       "border_bottom": null,
       "border_left": null,
       "border_right": null,
       "border_top": null,
       "bottom": null,
       "display": null,
       "flex": null,
       "flex_flow": null,
       "grid_area": null,
       "grid_auto_columns": null,
       "grid_auto_flow": null,
       "grid_auto_rows": null,
       "grid_column": null,
       "grid_gap": null,
       "grid_row": null,
       "grid_template_areas": null,
       "grid_template_columns": null,
       "grid_template_rows": null,
       "height": null,
       "justify_content": null,
       "justify_items": null,
       "left": null,
       "margin": null,
       "max_height": null,
       "max_width": null,
       "min_height": null,
       "min_width": null,
       "object_fit": null,
       "object_position": null,
       "order": null,
       "overflow": null,
       "padding": null,
       "right": null,
       "top": null,
       "visibility": null,
       "width": "34px"
      }
     },
     "d35b97d86125417b9fc9a2f890ba90a3": {
      "model_module": "@jupyter-widgets/controls",
      "model_module_version": "2.0.0",
      "model_name": "LinkModel",
      "state": {
       "_model_module": "@jupyter-widgets/controls",
       "_model_module_version": "2.0.0",
       "_model_name": "LinkModel",
       "_view_count": null,
       "_view_module": "@jupyter-widgets/controls",
       "_view_module_version": "2.0.0",
       "_view_name": null,
       "source": [
        "IPY_MODEL_8e35729aed4049188670cb472a4d0cd1",
        "max"
       ],
       "target": [
        "IPY_MODEL_85af223426474acbace665e7ac693e71",
        "max_frame"
       ]
      }
     },
     "d42afaec6c7146fb86ec6e71bf2e3aef": {
      "model_module": "@jupyter-widgets/base",
      "model_module_version": "2.0.0",
      "model_name": "LayoutModel",
      "state": {
       "_model_module": "@jupyter-widgets/base",
       "_model_module_version": "2.0.0",
       "_model_name": "LayoutModel",
       "_view_count": null,
       "_view_module": "@jupyter-widgets/base",
       "_view_module_version": "2.0.0",
       "_view_name": "LayoutView",
       "align_content": null,
       "align_items": null,
       "align_self": null,
       "border_bottom": null,
       "border_left": null,
       "border_right": null,
       "border_top": null,
       "bottom": null,
       "display": null,
       "flex": null,
       "flex_flow": null,
       "grid_area": null,
       "grid_auto_columns": null,
       "grid_auto_flow": null,
       "grid_auto_rows": null,
       "grid_column": null,
       "grid_gap": null,
       "grid_row": null,
       "grid_template_areas": null,
       "grid_template_columns": null,
       "grid_template_rows": null,
       "height": null,
       "justify_content": null,
       "justify_items": null,
       "left": null,
       "margin": null,
       "max_height": null,
       "max_width": null,
       "min_height": null,
       "min_width": null,
       "object_fit": null,
       "object_position": null,
       "order": null,
       "overflow": null,
       "padding": null,
       "right": null,
       "top": null,
       "visibility": null,
       "width": null
      }
     },
     "d5746be65c8b448ba8d6fced5a4324b0": {
      "model_module": "@jupyter-widgets/controls",
      "model_module_version": "2.0.0",
      "model_name": "ButtonModel",
      "state": {
       "_dom_classes": [],
       "_model_module": "@jupyter-widgets/controls",
       "_model_module_version": "2.0.0",
       "_model_name": "ButtonModel",
       "_view_count": null,
       "_view_module": "@jupyter-widgets/controls",
       "_view_module_version": "2.0.0",
       "_view_name": "ButtonView",
       "button_style": "",
       "description": "",
       "disabled": false,
       "icon": "compress",
       "layout": "IPY_MODEL_bddcdc3210b442a9886e3b569eb49940",
       "style": "IPY_MODEL_fc7c741a76774992a2f9a26e518e9ecc",
       "tabbable": null,
       "tooltip": null
      }
     },
     "d978d00afd824348b5f3753d2d9f746d": {
      "model_module": "@jupyter-widgets/base",
      "model_module_version": "2.0.0",
      "model_name": "LayoutModel",
      "state": {
       "_model_module": "@jupyter-widgets/base",
       "_model_module_version": "2.0.0",
       "_model_name": "LayoutModel",
       "_view_count": null,
       "_view_module": "@jupyter-widgets/base",
       "_view_module_version": "2.0.0",
       "_view_name": "LayoutView",
       "align_content": null,
       "align_items": null,
       "align_self": null,
       "border_bottom": null,
       "border_left": null,
       "border_right": null,
       "border_top": null,
       "bottom": null,
       "display": null,
       "flex": null,
       "flex_flow": null,
       "grid_area": null,
       "grid_auto_columns": null,
       "grid_auto_flow": null,
       "grid_auto_rows": null,
       "grid_column": null,
       "grid_gap": null,
       "grid_row": null,
       "grid_template_areas": null,
       "grid_template_columns": null,
       "grid_template_rows": null,
       "height": null,
       "justify_content": null,
       "justify_items": null,
       "left": null,
       "margin": null,
       "max_height": null,
       "max_width": null,
       "min_height": null,
       "min_width": null,
       "object_fit": null,
       "object_position": null,
       "order": null,
       "overflow": null,
       "padding": null,
       "right": null,
       "top": null,
       "visibility": null,
       "width": null
      }
     },
     "dac8adecd06540a68f8a92e18f58c504": {
      "model_module": "@jupyter-widgets/controls",
      "model_module_version": "2.0.0",
      "model_name": "HBoxModel",
      "state": {
       "_dom_classes": [],
       "_model_module": "@jupyter-widgets/controls",
       "_model_module_version": "2.0.0",
       "_model_name": "HBoxModel",
       "_view_count": null,
       "_view_module": "@jupyter-widgets/controls",
       "_view_module_version": "2.0.0",
       "_view_name": "HBoxView",
       "box_style": "",
       "children": [
        "IPY_MODEL_81ec1dad81cc4ae0aedb3f570e666da4",
        "IPY_MODEL_285fdc4aa44e46949b42d80655d68db5"
       ],
       "layout": "IPY_MODEL_203c1571d24a42beb8d089fc7e169d10",
       "tabbable": null,
       "tooltip": null
      }
     },
     "db3d0cbea37241319b9845199d0f04fe": {
      "model_module": "@jupyter-widgets/controls",
      "model_module_version": "2.0.0",
      "model_name": "ButtonModel",
      "state": {
       "_dom_classes": [],
       "_model_module": "@jupyter-widgets/controls",
       "_model_module_version": "2.0.0",
       "_model_name": "ButtonModel",
       "_view_count": null,
       "_view_module": "@jupyter-widgets/controls",
       "_view_module_version": "2.0.0",
       "_view_name": "ButtonView",
       "button_style": "",
       "description": "",
       "disabled": false,
       "icon": "compress",
       "layout": "IPY_MODEL_06762b065dbc46f6bea80e3cf5d249d6",
       "style": "IPY_MODEL_64656da563034875b5f0846b9d85e354",
       "tabbable": null,
       "tooltip": null
      }
     },
     "dc6975a5cea3459d82be92328930119f": {
      "model_module": "@jupyter-widgets/controls",
      "model_module_version": "2.0.0",
      "model_name": "LinkModel",
      "state": {
       "_model_module": "@jupyter-widgets/controls",
       "_model_module_version": "2.0.0",
       "_model_name": "LinkModel",
       "_view_count": null,
       "_view_module": "@jupyter-widgets/controls",
       "_view_module_version": "2.0.0",
       "_view_name": null,
       "source": [
        "IPY_MODEL_37f35188cbdb4e5dad5cd756498a10ad",
        "max"
       ],
       "target": [
        "IPY_MODEL_85af223426474acbace665e7ac693e71",
        "max_frame"
       ]
      }
     },
     "de14e9ea49c84c128f20f92c4b87a3df": {
      "model_module": "@jupyter-widgets/controls",
      "model_module_version": "2.0.0",
      "model_name": "LinkModel",
      "state": {
       "_model_module": "@jupyter-widgets/controls",
       "_model_module_version": "2.0.0",
       "_model_name": "LinkModel",
       "_view_count": null,
       "_view_module": "@jupyter-widgets/controls",
       "_view_module_version": "2.0.0",
       "_view_name": null,
       "source": [
        "IPY_MODEL_eac5891c7aa24beb9a25b470ae6ef99f",
        "value"
       ],
       "target": [
        "IPY_MODEL_75668e0340b84b199fb9fea7a32bc066",
        "value"
       ]
      }
     },
     "de412342c6704e20ab34e3305dc89d4c": {
      "model_module": "@jupyter-widgets/controls",
      "model_module_version": "2.0.0",
      "model_name": "SliderStyleModel",
      "state": {
       "_model_module": "@jupyter-widgets/controls",
       "_model_module_version": "2.0.0",
       "_model_name": "SliderStyleModel",
       "_view_count": null,
       "_view_module": "@jupyter-widgets/base",
       "_view_module_version": "2.0.0",
       "_view_name": "StyleView",
       "description_width": "",
       "handle_color": null
      }
     },
     "e4f61ab16bb24ad889c4cefbc282e9dc": {
      "model_module": "@jupyter-widgets/base",
      "model_module_version": "2.0.0",
      "model_name": "LayoutModel",
      "state": {
       "_model_module": "@jupyter-widgets/base",
       "_model_module_version": "2.0.0",
       "_model_name": "LayoutModel",
       "_view_count": null,
       "_view_module": "@jupyter-widgets/base",
       "_view_module_version": "2.0.0",
       "_view_name": "LayoutView",
       "align_content": null,
       "align_items": null,
       "align_self": null,
       "border_bottom": null,
       "border_left": null,
       "border_right": null,
       "border_top": null,
       "bottom": null,
       "display": null,
       "flex": null,
       "flex_flow": null,
       "grid_area": null,
       "grid_auto_columns": null,
       "grid_auto_flow": null,
       "grid_auto_rows": null,
       "grid_column": null,
       "grid_gap": null,
       "grid_row": null,
       "grid_template_areas": null,
       "grid_template_columns": null,
       "grid_template_rows": null,
       "height": null,
       "justify_content": null,
       "justify_items": null,
       "left": null,
       "margin": null,
       "max_height": null,
       "max_width": null,
       "min_height": null,
       "min_width": null,
       "object_fit": null,
       "object_position": null,
       "order": null,
       "overflow": null,
       "padding": null,
       "right": null,
       "top": null,
       "visibility": null,
       "width": null
      }
     },
     "eac5891c7aa24beb9a25b470ae6ef99f": {
      "model_module": "@jupyter-widgets/controls",
      "model_module_version": "2.0.0",
      "model_name": "PlayModel",
      "state": {
       "_dom_classes": [],
       "_model_module": "@jupyter-widgets/controls",
       "_model_module_version": "2.0.0",
       "_model_name": "PlayModel",
       "_view_count": null,
       "_view_module": "@jupyter-widgets/controls",
       "_view_module_version": "2.0.0",
       "_view_name": "PlayView",
       "description": "",
       "description_allow_html": false,
       "disabled": false,
       "interval": 100,
       "layout": "IPY_MODEL_10a692a87fd34ea0a6edaf2538b99748",
       "max": 0,
       "min": 0,
       "playing": false,
       "repeat": false,
       "show_repeat": true,
       "step": 1,
       "style": "IPY_MODEL_bb3adcfda43743fb8489f34b3612aa5c",
       "tabbable": null,
       "tooltip": null,
       "value": 0
      }
     },
     "ebeccb69a0df4d15af3e1177bee84d13": {
      "model_module": "@jupyter-widgets/controls",
      "model_module_version": "2.0.0",
      "model_name": "LinkModel",
      "state": {
       "_model_module": "@jupyter-widgets/controls",
       "_model_module_version": "2.0.0",
       "_model_name": "LinkModel",
       "_view_count": null,
       "_view_module": "@jupyter-widgets/controls",
       "_view_module_version": "2.0.0",
       "_view_name": null,
       "source": [
        "IPY_MODEL_81ec1dad81cc4ae0aedb3f570e666da4",
        "value"
       ],
       "target": [
        "IPY_MODEL_285fdc4aa44e46949b42d80655d68db5",
        "value"
       ]
      }
     },
     "efbff3f7577949c19d4bbc0b13ae6441": {
      "model_module": "@jupyter-widgets/controls",
      "model_module_version": "2.0.0",
      "model_name": "LinkModel",
      "state": {
       "_model_module": "@jupyter-widgets/controls",
       "_model_module_version": "2.0.0",
       "_model_name": "LinkModel",
       "_view_count": null,
       "_view_module": "@jupyter-widgets/controls",
       "_view_module_version": "2.0.0",
       "_view_name": null,
       "source": [
        "IPY_MODEL_81ec1dad81cc4ae0aedb3f570e666da4",
        "max"
       ],
       "target": [
        "IPY_MODEL_969f699580404e10a6587843cb6d8a44",
        "max_frame"
       ]
      }
     },
     "f12631c577914707a6735a4338b4aa57": {
      "model_module": "@jupyter-widgets/controls",
      "model_module_version": "2.0.0",
      "model_name": "ButtonModel",
      "state": {
       "_dom_classes": [],
       "_model_module": "@jupyter-widgets/controls",
       "_model_module_version": "2.0.0",
       "_model_name": "ButtonModel",
       "_view_count": null,
       "_view_module": "@jupyter-widgets/controls",
       "_view_module_version": "2.0.0",
       "_view_name": "ButtonView",
       "button_style": "",
       "description": "",
       "disabled": false,
       "icon": "compress",
       "layout": "IPY_MODEL_9282df229a70497f9a8ff495f5d183db",
       "style": "IPY_MODEL_56b4528bdd2c48b2ac8028c1a8bff893",
       "tabbable": null,
       "tooltip": null
      }
     },
     "f12e8d8f362a4b26a97c66a979325a7a": {
      "buffers": [
       {
        "data": "",
        "encoding": "base64",
        "path": [
         "value"
        ]
       }
      ],
      "model_module": "@jupyter-widgets/controls",
      "model_module_version": "2.0.0",
      "model_name": "ImageModel",
      "state": {
       "_dom_classes": [],
       "_model_module": "@jupyter-widgets/controls",
       "_model_module_version": "2.0.0",
       "_model_name": "ImageModel",
       "_view_count": null,
       "_view_module": "@jupyter-widgets/controls",
       "_view_module_version": "2.0.0",
       "_view_name": "ImageView",
       "format": "png",
       "height": "",
       "layout": "IPY_MODEL_66363c2d358d41d79aa576a8c4b4bee3",
       "tabbable": null,
       "tooltip": null,
       "width": "900.0"
      }
     },
     "f6f81a83f496474798929049d315d45e": {
      "model_module": "@jupyter-widgets/controls",
      "model_module_version": "2.0.0",
      "model_name": "DescriptionStyleModel",
      "state": {
       "_model_module": "@jupyter-widgets/controls",
       "_model_module_version": "2.0.0",
       "_model_name": "DescriptionStyleModel",
       "_view_count": null,
       "_view_module": "@jupyter-widgets/base",
       "_view_module_version": "2.0.0",
       "_view_name": "StyleView",
       "description_width": ""
      }
     },
     "f8b884c674a7431dae3dd8ab13c83fad": {
      "model_module": "@jupyter-widgets/base",
      "model_module_version": "2.0.0",
      "model_name": "LayoutModel",
      "state": {
       "_model_module": "@jupyter-widgets/base",
       "_model_module_version": "2.0.0",
       "_model_name": "LayoutModel",
       "_view_count": null,
       "_view_module": "@jupyter-widgets/base",
       "_view_module_version": "2.0.0",
       "_view_name": "LayoutView",
       "align_content": null,
       "align_items": null,
       "align_self": null,
       "border_bottom": null,
       "border_left": null,
       "border_right": null,
       "border_top": null,
       "bottom": null,
       "display": null,
       "flex": null,
       "flex_flow": null,
       "grid_area": null,
       "grid_auto_columns": null,
       "grid_auto_flow": null,
       "grid_auto_rows": null,
       "grid_column": null,
       "grid_gap": null,
       "grid_row": null,
       "grid_template_areas": null,
       "grid_template_columns": null,
       "grid_template_rows": null,
       "height": null,
       "justify_content": null,
       "justify_items": null,
       "left": null,
       "margin": null,
       "max_height": null,
       "max_width": null,
       "min_height": null,
       "min_width": null,
       "object_fit": null,
       "object_position": null,
       "order": null,
       "overflow": null,
       "padding": null,
       "right": null,
       "top": null,
       "visibility": null,
       "width": null
      }
     },
     "fc7c741a76774992a2f9a26e518e9ecc": {
      "model_module": "@jupyter-widgets/controls",
      "model_module_version": "2.0.0",
      "model_name": "ButtonStyleModel",
      "state": {
       "_model_module": "@jupyter-widgets/controls",
       "_model_module_version": "2.0.0",
       "_model_name": "ButtonStyleModel",
       "_view_count": null,
       "_view_module": "@jupyter-widgets/base",
       "_view_module_version": "2.0.0",
       "_view_name": "StyleView",
       "button_color": null,
       "font_family": null,
       "font_size": null,
       "font_style": null,
       "font_variant": null,
       "font_weight": null,
       "text_color": null,
       "text_decoration": null
      }
     },
     "ff1a75315ae8484fa6cb97bbca5e3b3a": {
      "model_module": "@jupyter-widgets/base",
      "model_module_version": "2.0.0",
      "model_name": "LayoutModel",
      "state": {
       "_model_module": "@jupyter-widgets/base",
       "_model_module_version": "2.0.0",
       "_model_name": "LayoutModel",
       "_view_count": null,
       "_view_module": "@jupyter-widgets/base",
       "_view_module_version": "2.0.0",
       "_view_name": "LayoutView",
       "align_content": null,
       "align_items": null,
       "align_self": null,
       "border_bottom": null,
       "border_left": null,
       "border_right": null,
       "border_top": null,
       "bottom": null,
       "display": null,
       "flex": null,
       "flex_flow": null,
       "grid_area": null,
       "grid_auto_columns": null,
       "grid_auto_flow": null,
       "grid_auto_rows": null,
       "grid_column": null,
       "grid_gap": null,
       "grid_row": null,
       "grid_template_areas": null,
       "grid_template_columns": null,
       "grid_template_rows": null,
       "height": null,
       "justify_content": null,
       "justify_items": null,
       "left": null,
       "margin": null,
       "max_height": null,
       "max_width": null,
       "min_height": null,
       "min_width": null,
       "object_fit": null,
       "object_position": null,
       "order": null,
       "overflow": null,
       "padding": null,
       "right": null,
       "top": null,
       "visibility": null,
       "width": null
      }
     }
    },
    "version_major": 2,
    "version_minor": 0
   }
  }
 },
 "nbformat": 4,
 "nbformat_minor": 4
}

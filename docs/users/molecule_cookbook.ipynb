{
 "cells": [
  {
   "cell_type": "markdown",
   "id": "5b311c85",
   "metadata": {},
   "source": [
    "# Cookbook: Every way to make a `Molecule`"
   ]
  },
  {
   "cell_type": "markdown",
   "id": "05bf5732",
   "metadata": {},
   "source": [
    "Every pathway through the OpenFF Toolkit boils down to four steps:\n",
    "\n",
    "1. Using other tools, assemble a graph of a molecule, including all of its atoms, bonds, bond orders, formal charges, and stereochemistry[^rs]\n",
    "2. Use that information to construct a [`Molecule`](openff.toolkit.topology.Molecule)\n",
    "3. Combine a number of `Molecule` objects to construct a [`Topology`](openff.toolkit.topology.Topology)\n",
    "4. Call [`ForceField.create_openmm_system(topology)`](openff.toolkit.typing.engines.smirnoff.ForceField.create_openmm_system) to create an OpenMM [`System`](openmm.openmm.System) (or an [`Interchange`](https://github.com/openforcefield/openff-interchange) for painless conversion to other MD formats)\n",
    "\n",
    "So let's take a look at every way there is to construct a molecule! We'll use zwitterionic L-alanine as an example biomolecule with all the tricky bits - a stereocenter, non-zero formal charges, and bonds of different orders.\n",
    "\n",
    "[^rs]: Note that this stereochemistry must be defined on the *graph* of the molecule. It's not good enough to just co-ordinates with the correct stereochemistry. But if you have the co-ordinates, you can try getting the stereochemistry automatically with `rdkit` or `openeye` --- If you dare!"
   ]
  },
  {
   "cell_type": "code",
   "execution_count": 1,
   "id": "0a3d1e21",
   "metadata": {
    "slideshow": {
     "slide_type": ""
    },
    "tags": [
     "remove-stderr",
     "remove-input",
     "remove-stdout"
    ]
   },
   "outputs": [],
   "source": [
    "# Workaround for https://github.com/conda-forge/qcfractal-feedstock/issues/43\n",
    "try:\n",
    "    import qcportal  # noqa\n",
    "except ImportError:\n",
    "    pass\n",
    "\n",
    "import sys\n",
    "\n",
    "ipython = get_ipython()  # noqa\n",
    "\n",
    "\n",
    "def hide_traceback(\n",
    "    exc_tuple=None,\n",
    "    filename=None,\n",
    "    tb_offset=None,\n",
    "    exception_only=False,\n",
    "    running_compiled_code=False,\n",
    "):\n",
    "    \"\"\"Hide tracebacks for simpler errors.\"\"\"\n",
    "    etype, value, _ = sys.exc_info()\n",
    "    value.__cause__ = None  # suppress chained exceptions\n",
    "    return ipython._showtraceback(\n",
    "        etype,\n",
    "        value,\n",
    "        ipython.InteractiveTB.get_exception_only(etype, value),\n",
    "    )\n",
    "\n",
    "\n",
    "ipython.showtraceback = hide_traceback\n",
    "\n",
    "# Hide NumPy warnings\n",
    "import warnings\n",
    "\n",
    "warnings.filterwarnings(\n",
    "    \"ignore\",\n",
    "    r\"The value of the smallest subnormal for \",\n",
    ")"
   ]
  },
  {
   "cell_type": "code",
   "execution_count": 2,
   "id": "213f1264",
   "metadata": {},
   "outputs": [],
   "source": [
    "from openff.toolkit import Molecule, Topology"
   ]
  },
  {
   "cell_type": "markdown",
   "id": "37d692a1",
   "metadata": {},
   "source": [
    "## From SMILES\n",
    "\n",
    "SMILES is the classic way to create a `Molecule`. SMILES is a widely-used compact textual representation of arbitrary molecules. This lets us specify an exact molecule, including stereochemistry and bond orders, very easily --- though they may not be the most human-readable format.\n",
    "\n",
    "The [`Molecule.from_smiles()`](openff.toolkit.topology.Molecule.from_smiles) method is used to create a `Molecule` from a SMILES code.\n",
    "\n",
    "### Implicit hydrogens SMILES"
   ]
  },
  {
   "cell_type": "code",
   "execution_count": 3,
   "id": "71199513",
   "metadata": {
    "slideshow": {
     "slide_type": ""
    },
    "tags": []
   },
   "outputs": [
    {
     "data": {
      "image/svg+xml": [
       "<svg xmlns=\"http://www.w3.org/2000/svg\" xmlns:rdkit=\"http://www.rdkit.org/xml\" xmlns:xlink=\"http://www.w3.org/1999/xlink\" version=\"1.1\" baseProfile=\"full\" xml:space=\"preserve\" width=\"500px\" height=\"300px\" viewBox=\"0 0 500 300\">\n",
       "<!-- END OF HEADER -->\n",
       "<rect style=\"opacity:1.0;fill:#FFFFFF;stroke:none\" width=\"500.0\" height=\"300.0\" x=\"0.0\" y=\"0.0\"> </rect>\n",
       "<path class=\"bond-0 atom-0 atom-1\" d=\"M 269.1,206.9 L 249.2,142.8\" style=\"fill:none;fill-rule:evenodd;stroke:#000000;stroke-width:2.0px;stroke-linecap:butt;stroke-linejoin:miter;stroke-opacity:1\"/>\n",
       "<path class=\"bond-1 atom-1 atom-2\" d=\"M 249.2,142.8 L 212.8,164.7 L 208.7,155.5 Z\" style=\"fill:#000000;fill-rule:evenodd;fill-opacity:1;stroke:#000000;stroke-width:0.5px;stroke-linecap:butt;stroke-linejoin:miter;stroke-opacity:1;\"/>\n",
       "<path class=\"bond-2 atom-1 atom-3\" d=\"M 249.2,142.8 L 227.0,123.8\" style=\"fill:none;fill-rule:evenodd;stroke:#000000;stroke-width:2.0px;stroke-linecap:butt;stroke-linejoin:miter;stroke-opacity:1\"/>\n",
       "<path class=\"bond-2 atom-1 atom-3\" d=\"M 227.0,123.8 L 204.7,104.8\" style=\"fill:none;fill-rule:evenodd;stroke:#0000FF;stroke-width:2.0px;stroke-linecap:butt;stroke-linejoin:miter;stroke-opacity:1\"/>\n",
       "<path class=\"bond-3 atom-1 atom-4\" d=\"M 249.2,142.8 L 292.6,93.2\" style=\"fill:none;fill-rule:evenodd;stroke:#000000;stroke-width:2.0px;stroke-linecap:butt;stroke-linejoin:miter;stroke-opacity:1\"/>\n",
       "<path class=\"bond-4 atom-4 atom-5\" d=\"M 298.4,94.3 L 289.8,69.8\" style=\"fill:none;fill-rule:evenodd;stroke:#000000;stroke-width:2.0px;stroke-linecap:butt;stroke-linejoin:miter;stroke-opacity:1\"/>\n",
       "<path class=\"bond-4 atom-4 atom-5\" d=\"M 289.8,69.8 L 281.2,45.2\" style=\"fill:none;fill-rule:evenodd;stroke:#FF0000;stroke-width:2.0px;stroke-linecap:butt;stroke-linejoin:miter;stroke-opacity:1\"/>\n",
       "<path class=\"bond-4 atom-4 atom-5\" d=\"M 288.8,97.6 L 280.3,73.0\" style=\"fill:none;fill-rule:evenodd;stroke:#000000;stroke-width:2.0px;stroke-linecap:butt;stroke-linejoin:miter;stroke-opacity:1\"/>\n",
       "<path class=\"bond-4 atom-4 atom-5\" d=\"M 280.3,73.0 L 271.7,48.5\" style=\"fill:none;fill-rule:evenodd;stroke:#FF0000;stroke-width:2.0px;stroke-linecap:butt;stroke-linejoin:miter;stroke-opacity:1\"/>\n",
       "<path class=\"bond-5 atom-4 atom-6\" d=\"M 292.6,93.2 L 317.8,98.2\" style=\"fill:none;fill-rule:evenodd;stroke:#000000;stroke-width:2.0px;stroke-linecap:butt;stroke-linejoin:miter;stroke-opacity:1\"/>\n",
       "<path class=\"bond-5 atom-4 atom-6\" d=\"M 317.8,98.2 L 343.0,103.2\" style=\"fill:none;fill-rule:evenodd;stroke:#FF0000;stroke-width:2.0px;stroke-linecap:butt;stroke-linejoin:miter;stroke-opacity:1\"/>\n",
       "<path class=\"bond-6 atom-0 atom-7\" d=\"M 269.1,206.9 L 216.9,221.3\" style=\"fill:none;fill-rule:evenodd;stroke:#000000;stroke-width:2.0px;stroke-linecap:butt;stroke-linejoin:miter;stroke-opacity:1\"/>\n",
       "<path class=\"bond-7 atom-0 atom-8\" d=\"M 269.1,206.9 L 255.6,255.7\" style=\"fill:none;fill-rule:evenodd;stroke:#000000;stroke-width:2.0px;stroke-linecap:butt;stroke-linejoin:miter;stroke-opacity:1\"/>\n",
       "<path class=\"bond-8 atom-0 atom-9\" d=\"M 269.1,206.9 L 320.3,220.4\" style=\"fill:none;fill-rule:evenodd;stroke:#000000;stroke-width:2.0px;stroke-linecap:butt;stroke-linejoin:miter;stroke-opacity:1\"/>\n",
       "<path class=\"bond-9 atom-3 atom-10\" d=\"M 178.8,106.9 L 168.4,117.6\" style=\"fill:none;fill-rule:evenodd;stroke:#0000FF;stroke-width:2.0px;stroke-linecap:butt;stroke-linejoin:miter;stroke-opacity:1\"/>\n",
       "<path class=\"bond-9 atom-3 atom-10\" d=\"M 168.4,117.6 L 157.9,128.3\" style=\"fill:none;fill-rule:evenodd;stroke:#000000;stroke-width:2.0px;stroke-linecap:butt;stroke-linejoin:miter;stroke-opacity:1\"/>\n",
       "<path class=\"bond-10 atom-3 atom-11\" d=\"M 178.8,90.8 L 159.1,86.5\" style=\"fill:none;fill-rule:evenodd;stroke:#0000FF;stroke-width:2.0px;stroke-linecap:butt;stroke-linejoin:miter;stroke-opacity:1\"/>\n",
       "<path class=\"bond-10 atom-3 atom-11\" d=\"M 159.1,86.5 L 139.4,82.2\" style=\"fill:none;fill-rule:evenodd;stroke:#000000;stroke-width:2.0px;stroke-linecap:butt;stroke-linejoin:miter;stroke-opacity:1\"/>\n",
       "<path class=\"bond-11 atom-3 atom-12\" d=\"M 195.0,77.3 L 198.3,60.8\" style=\"fill:none;fill-rule:evenodd;stroke:#0000FF;stroke-width:2.0px;stroke-linecap:butt;stroke-linejoin:miter;stroke-opacity:1\"/>\n",
       "<path class=\"bond-11 atom-3 atom-12\" d=\"M 198.3,60.8 L 201.6,44.3\" style=\"fill:none;fill-rule:evenodd;stroke:#000000;stroke-width:2.0px;stroke-linecap:butt;stroke-linejoin:miter;stroke-opacity:1\"/>\n",
       "<path d=\"M 290.5,95.7 L 292.6,93.2 L 293.9,93.5\" style=\"fill:none;stroke:#000000;stroke-width:2.0px;stroke-linecap:butt;stroke-linejoin:miter;stroke-opacity:1;\"/>\n",
       "<path class=\"atom-2\" d=\"M 184.2 153.0 L 188.0 153.0 L 188.0 165.0 L 202.5 165.0 L 202.5 153.0 L 206.3 153.0 L 206.3 181.3 L 202.5 181.3 L 202.5 168.2 L 188.0 168.2 L 188.0 181.3 L 184.2 181.3 L 184.2 153.0 \" fill=\"#000000\"/>\n",
       "<path class=\"atom-3\" d=\"M 185.5 79.5 L 194.8 94.5 Q 195.7 96.0, 197.2 98.7 Q 198.7 101.4, 198.8 101.5 L 198.8 79.5 L 202.5 79.5 L 202.5 107.9 L 198.6 107.9 L 188.7 91.5 Q 187.5 89.5, 186.3 87.3 Q 185.1 85.1, 184.7 84.5 L 184.7 107.9 L 181.0 107.9 L 181.0 79.5 L 185.5 79.5 \" fill=\"#0000FF\"/>\n",
       "<path class=\"atom-3\" d=\"M 207.8 84.6 L 212.8 84.6 L 212.8 79.4 L 215.1 79.4 L 215.1 84.6 L 220.2 84.6 L 220.2 86.5 L 215.1 86.5 L 215.1 91.8 L 212.8 91.8 L 212.8 86.5 L 207.8 86.5 L 207.8 84.6 \" fill=\"#0000FF\"/>\n",
       "<path class=\"atom-5\" d=\"M 257.6 30.0 Q 257.6 23.2, 260.9 19.4 Q 264.3 15.6, 270.6 15.6 Q 276.8 15.6, 280.2 19.4 Q 283.6 23.2, 283.6 30.0 Q 283.6 36.8, 280.2 40.8 Q 276.8 44.6, 270.6 44.6 Q 264.3 44.6, 260.9 40.8 Q 257.6 36.9, 257.6 30.0 M 270.6 41.4 Q 274.9 41.4, 277.2 38.6 Q 279.6 35.6, 279.6 30.0 Q 279.6 24.4, 277.2 21.6 Q 274.9 18.8, 270.6 18.8 Q 266.2 18.8, 263.9 21.6 Q 261.6 24.4, 261.6 30.0 Q 261.6 35.7, 263.9 38.6 Q 266.2 41.4, 270.6 41.4 \" fill=\"#FF0000\"/>\n",
       "<path class=\"atom-6\" d=\"M 345.2 106.3 Q 345.2 99.5, 348.6 95.7 Q 351.9 91.9, 358.2 91.9 Q 364.5 91.9, 367.9 95.7 Q 371.2 99.5, 371.2 106.3 Q 371.2 113.2, 367.8 117.1 Q 364.4 121.0, 358.2 121.0 Q 352.0 121.0, 348.6 117.1 Q 345.2 113.2, 345.2 106.3 M 358.2 117.8 Q 362.5 117.8, 364.9 114.9 Q 367.2 112.0, 367.2 106.3 Q 367.2 100.7, 364.9 97.9 Q 362.5 95.1, 358.2 95.1 Q 353.9 95.1, 351.5 97.9 Q 349.2 100.7, 349.2 106.3 Q 349.2 112.0, 351.5 114.9 Q 353.9 117.8, 358.2 117.8 \" fill=\"#FF0000\"/>\n",
       "<path class=\"atom-6\" d=\"M 375.3 96.5 L 384.9 96.5 L 384.9 98.6 L 375.3 98.6 L 375.3 96.5 \" fill=\"#FF0000\"/>\n",
       "<path class=\"atom-7\" d=\"M 192.6 210.8 L 196.4 210.8 L 196.4 222.9 L 210.9 222.9 L 210.9 210.8 L 214.7 210.8 L 214.7 239.2 L 210.9 239.2 L 210.9 226.1 L 196.4 226.1 L 196.4 239.2 L 192.6 239.2 L 192.6 210.8 \" fill=\"#000000\"/>\n",
       "<path class=\"atom-8\" d=\"M 240.0 257.9 L 243.8 257.9 L 243.8 270.0 L 258.3 270.0 L 258.3 257.9 L 262.2 257.9 L 262.2 286.2 L 258.3 286.2 L 258.3 273.2 L 243.8 273.2 L 243.8 286.2 L 240.0 286.2 L 240.0 257.9 \" fill=\"#000000\"/>\n",
       "<path class=\"atom-9\" d=\"M 322.5 209.8 L 326.4 209.8 L 326.4 221.8 L 340.8 221.8 L 340.8 209.8 L 344.7 209.8 L 344.7 238.1 L 340.8 238.1 L 340.8 225.0 L 326.4 225.0 L 326.4 238.1 L 322.5 238.1 L 322.5 209.8 \" fill=\"#000000\"/>\n",
       "<path class=\"atom-10\" d=\"M 133.5 127.7 L 137.4 127.7 L 137.4 139.8 L 151.9 139.8 L 151.9 127.7 L 155.7 127.7 L 155.7 156.0 L 151.9 156.0 L 151.9 143.0 L 137.4 143.0 L 137.4 156.0 L 133.5 156.0 L 133.5 127.7 \" fill=\"#000000\"/>\n",
       "<path class=\"atom-11\" d=\"M 115.1 65.1 L 118.9 65.1 L 118.9 77.1 L 133.4 77.1 L 133.4 65.1 L 137.2 65.1 L 137.2 93.4 L 133.4 93.4 L 133.4 80.3 L 118.9 80.3 L 118.9 93.4 L 115.1 93.4 L 115.1 65.1 \" fill=\"#000000\"/>\n",
       "<path class=\"atom-12\" d=\"M 193.8 13.8 L 197.6 13.8 L 197.6 25.8 L 212.1 25.8 L 212.1 13.8 L 215.9 13.8 L 215.9 42.1 L 212.1 42.1 L 212.1 29.0 L 197.6 29.0 L 197.6 42.1 L 193.8 42.1 L 193.8 13.8 \" fill=\"#000000\"/>\n",
       "</svg>"
      ],
      "text/plain": [
       "<IPython.core.display.SVG object>"
      ]
     },
     "execution_count": 3,
     "metadata": {},
     "output_type": "execute_result"
    }
   ],
   "source": [
    "zw_l_alanine = Molecule.from_smiles(\"C[C@H]([NH3+])C(=O)[O-]\")\n",
    "\n",
    "zw_l_alanine.visualize()"
   ]
  },
  {
   "cell_type": "markdown",
   "id": "59fe1b58",
   "metadata": {},
   "source": [
    "### Explicit hydrogens SMILES"
   ]
  },
  {
   "cell_type": "code",
   "execution_count": 4,
   "id": "07e0584e",
   "metadata": {},
   "outputs": [
    {
     "data": {
      "image/svg+xml": [
       "<svg xmlns=\"http://www.w3.org/2000/svg\" xmlns:rdkit=\"http://www.rdkit.org/xml\" xmlns:xlink=\"http://www.w3.org/1999/xlink\" version=\"1.1\" baseProfile=\"full\" xml:space=\"preserve\" width=\"500px\" height=\"300px\" viewBox=\"0 0 500 300\">\n",
       "<!-- END OF HEADER -->\n",
       "<rect style=\"opacity:1.0;fill:#FFFFFF;stroke:none\" width=\"500.0\" height=\"300.0\" x=\"0.0\" y=\"0.0\"> </rect>\n",
       "<path class=\"bond-0 atom-0 atom-1\" d=\"M 216.9,221.3 L 269.1,206.9\" style=\"fill:none;fill-rule:evenodd;stroke:#000000;stroke-width:2.0px;stroke-linecap:butt;stroke-linejoin:miter;stroke-opacity:1\"/>\n",
       "<path class=\"bond-1 atom-1 atom-2\" d=\"M 269.1,206.9 L 255.6,255.7\" style=\"fill:none;fill-rule:evenodd;stroke:#000000;stroke-width:2.0px;stroke-linecap:butt;stroke-linejoin:miter;stroke-opacity:1\"/>\n",
       "<path class=\"bond-2 atom-1 atom-3\" d=\"M 269.1,206.9 L 320.3,220.4\" style=\"fill:none;fill-rule:evenodd;stroke:#000000;stroke-width:2.0px;stroke-linecap:butt;stroke-linejoin:miter;stroke-opacity:1\"/>\n",
       "<path class=\"bond-3 atom-1 atom-4\" d=\"M 269.1,206.9 L 249.2,142.8\" style=\"fill:none;fill-rule:evenodd;stroke:#000000;stroke-width:2.0px;stroke-linecap:butt;stroke-linejoin:miter;stroke-opacity:1\"/>\n",
       "<path class=\"bond-4 atom-4 atom-5\" d=\"M 249.2,142.8 L 212.8,164.7 L 208.7,155.5 Z\" style=\"fill:#000000;fill-rule:evenodd;fill-opacity:1;stroke:#000000;stroke-width:0.5px;stroke-linecap:butt;stroke-linejoin:miter;stroke-opacity:1;\"/>\n",
       "<path class=\"bond-5 atom-4 atom-6\" d=\"M 249.2,142.8 L 292.6,93.2\" style=\"fill:none;fill-rule:evenodd;stroke:#000000;stroke-width:2.0px;stroke-linecap:butt;stroke-linejoin:miter;stroke-opacity:1\"/>\n",
       "<path class=\"bond-6 atom-6 atom-7\" d=\"M 298.4,94.3 L 289.8,69.8\" style=\"fill:none;fill-rule:evenodd;stroke:#000000;stroke-width:2.0px;stroke-linecap:butt;stroke-linejoin:miter;stroke-opacity:1\"/>\n",
       "<path class=\"bond-6 atom-6 atom-7\" d=\"M 289.8,69.8 L 281.2,45.2\" style=\"fill:none;fill-rule:evenodd;stroke:#FF0000;stroke-width:2.0px;stroke-linecap:butt;stroke-linejoin:miter;stroke-opacity:1\"/>\n",
       "<path class=\"bond-6 atom-6 atom-7\" d=\"M 288.8,97.6 L 280.3,73.0\" style=\"fill:none;fill-rule:evenodd;stroke:#000000;stroke-width:2.0px;stroke-linecap:butt;stroke-linejoin:miter;stroke-opacity:1\"/>\n",
       "<path class=\"bond-6 atom-6 atom-7\" d=\"M 280.3,73.0 L 271.7,48.5\" style=\"fill:none;fill-rule:evenodd;stroke:#FF0000;stroke-width:2.0px;stroke-linecap:butt;stroke-linejoin:miter;stroke-opacity:1\"/>\n",
       "<path class=\"bond-7 atom-6 atom-8\" d=\"M 292.6,93.2 L 317.8,98.2\" style=\"fill:none;fill-rule:evenodd;stroke:#000000;stroke-width:2.0px;stroke-linecap:butt;stroke-linejoin:miter;stroke-opacity:1\"/>\n",
       "<path class=\"bond-7 atom-6 atom-8\" d=\"M 317.8,98.2 L 343.0,103.2\" style=\"fill:none;fill-rule:evenodd;stroke:#FF0000;stroke-width:2.0px;stroke-linecap:butt;stroke-linejoin:miter;stroke-opacity:1\"/>\n",
       "<path class=\"bond-8 atom-4 atom-9\" d=\"M 249.2,142.8 L 227.0,123.8\" style=\"fill:none;fill-rule:evenodd;stroke:#000000;stroke-width:2.0px;stroke-linecap:butt;stroke-linejoin:miter;stroke-opacity:1\"/>\n",
       "<path class=\"bond-8 atom-4 atom-9\" d=\"M 227.0,123.8 L 204.7,104.8\" style=\"fill:none;fill-rule:evenodd;stroke:#0000FF;stroke-width:2.0px;stroke-linecap:butt;stroke-linejoin:miter;stroke-opacity:1\"/>\n",
       "<path class=\"bond-9 atom-9 atom-10\" d=\"M 178.8,106.9 L 168.4,117.6\" style=\"fill:none;fill-rule:evenodd;stroke:#0000FF;stroke-width:2.0px;stroke-linecap:butt;stroke-linejoin:miter;stroke-opacity:1\"/>\n",
       "<path class=\"bond-9 atom-9 atom-10\" d=\"M 168.4,117.6 L 157.9,128.3\" style=\"fill:none;fill-rule:evenodd;stroke:#000000;stroke-width:2.0px;stroke-linecap:butt;stroke-linejoin:miter;stroke-opacity:1\"/>\n",
       "<path class=\"bond-10 atom-9 atom-11\" d=\"M 178.8,90.8 L 159.1,86.5\" style=\"fill:none;fill-rule:evenodd;stroke:#0000FF;stroke-width:2.0px;stroke-linecap:butt;stroke-linejoin:miter;stroke-opacity:1\"/>\n",
       "<path class=\"bond-10 atom-9 atom-11\" d=\"M 159.1,86.5 L 139.4,82.2\" style=\"fill:none;fill-rule:evenodd;stroke:#000000;stroke-width:2.0px;stroke-linecap:butt;stroke-linejoin:miter;stroke-opacity:1\"/>\n",
       "<path class=\"bond-11 atom-9 atom-12\" d=\"M 195.0,77.3 L 198.3,60.8\" style=\"fill:none;fill-rule:evenodd;stroke:#0000FF;stroke-width:2.0px;stroke-linecap:butt;stroke-linejoin:miter;stroke-opacity:1\"/>\n",
       "<path class=\"bond-11 atom-9 atom-12\" d=\"M 198.3,60.8 L 201.6,44.3\" style=\"fill:none;fill-rule:evenodd;stroke:#000000;stroke-width:2.0px;stroke-linecap:butt;stroke-linejoin:miter;stroke-opacity:1\"/>\n",
       "<path d=\"M 290.5,95.7 L 292.6,93.2 L 293.9,93.5\" style=\"fill:none;stroke:#000000;stroke-width:2.0px;stroke-linecap:butt;stroke-linejoin:miter;stroke-opacity:1;\"/>\n",
       "<path class=\"atom-0\" d=\"M 192.6 210.8 L 196.4 210.8 L 196.4 222.9 L 210.9 222.9 L 210.9 210.8 L 214.7 210.8 L 214.7 239.2 L 210.9 239.2 L 210.9 226.1 L 196.4 226.1 L 196.4 239.2 L 192.6 239.2 L 192.6 210.8 \" fill=\"#000000\"/>\n",
       "<path class=\"atom-2\" d=\"M 240.0 257.9 L 243.8 257.9 L 243.8 270.0 L 258.3 270.0 L 258.3 257.9 L 262.2 257.9 L 262.2 286.2 L 258.3 286.2 L 258.3 273.2 L 243.8 273.2 L 243.8 286.2 L 240.0 286.2 L 240.0 257.9 \" fill=\"#000000\"/>\n",
       "<path class=\"atom-3\" d=\"M 322.5 209.8 L 326.4 209.8 L 326.4 221.8 L 340.8 221.8 L 340.8 209.8 L 344.7 209.8 L 344.7 238.1 L 340.8 238.1 L 340.8 225.0 L 326.4 225.0 L 326.4 238.1 L 322.5 238.1 L 322.5 209.8 \" fill=\"#000000\"/>\n",
       "<path class=\"atom-5\" d=\"M 184.2 153.0 L 188.0 153.0 L 188.0 165.0 L 202.5 165.0 L 202.5 153.0 L 206.3 153.0 L 206.3 181.3 L 202.5 181.3 L 202.5 168.2 L 188.0 168.2 L 188.0 181.3 L 184.2 181.3 L 184.2 153.0 \" fill=\"#000000\"/>\n",
       "<path class=\"atom-7\" d=\"M 257.6 30.0 Q 257.6 23.2, 260.9 19.4 Q 264.3 15.6, 270.6 15.6 Q 276.8 15.6, 280.2 19.4 Q 283.6 23.2, 283.6 30.0 Q 283.6 36.8, 280.2 40.8 Q 276.8 44.6, 270.6 44.6 Q 264.3 44.6, 260.9 40.8 Q 257.6 36.9, 257.6 30.0 M 270.6 41.4 Q 274.9 41.4, 277.2 38.6 Q 279.6 35.6, 279.6 30.0 Q 279.6 24.4, 277.2 21.6 Q 274.9 18.8, 270.6 18.8 Q 266.2 18.8, 263.9 21.6 Q 261.6 24.4, 261.6 30.0 Q 261.6 35.7, 263.9 38.6 Q 266.2 41.4, 270.6 41.4 \" fill=\"#FF0000\"/>\n",
       "<path class=\"atom-8\" d=\"M 345.2 106.3 Q 345.2 99.5, 348.6 95.7 Q 351.9 91.9, 358.2 91.9 Q 364.5 91.9, 367.9 95.7 Q 371.2 99.5, 371.2 106.3 Q 371.2 113.2, 367.8 117.1 Q 364.4 121.0, 358.2 121.0 Q 352.0 121.0, 348.6 117.1 Q 345.2 113.2, 345.2 106.3 M 358.2 117.8 Q 362.5 117.8, 364.9 114.9 Q 367.2 112.0, 367.2 106.3 Q 367.2 100.7, 364.9 97.9 Q 362.5 95.1, 358.2 95.1 Q 353.9 95.1, 351.5 97.9 Q 349.2 100.7, 349.2 106.3 Q 349.2 112.0, 351.5 114.9 Q 353.9 117.8, 358.2 117.8 \" fill=\"#FF0000\"/>\n",
       "<path class=\"atom-8\" d=\"M 375.3 96.5 L 384.9 96.5 L 384.9 98.6 L 375.3 98.6 L 375.3 96.5 \" fill=\"#FF0000\"/>\n",
       "<path class=\"atom-9\" d=\"M 185.5 79.5 L 194.8 94.5 Q 195.7 96.0, 197.2 98.7 Q 198.7 101.4, 198.8 101.5 L 198.8 79.5 L 202.5 79.5 L 202.5 107.9 L 198.6 107.9 L 188.7 91.5 Q 187.5 89.5, 186.3 87.3 Q 185.1 85.1, 184.7 84.5 L 184.7 107.9 L 181.0 107.9 L 181.0 79.5 L 185.5 79.5 \" fill=\"#0000FF\"/>\n",
       "<path class=\"atom-9\" d=\"M 207.8 84.6 L 212.8 84.6 L 212.8 79.4 L 215.1 79.4 L 215.1 84.6 L 220.2 84.6 L 220.2 86.5 L 215.1 86.5 L 215.1 91.8 L 212.8 91.8 L 212.8 86.5 L 207.8 86.5 L 207.8 84.6 \" fill=\"#0000FF\"/>\n",
       "<path class=\"atom-10\" d=\"M 133.5 127.7 L 137.4 127.7 L 137.4 139.8 L 151.9 139.8 L 151.9 127.7 L 155.7 127.7 L 155.7 156.0 L 151.9 156.0 L 151.9 143.0 L 137.4 143.0 L 137.4 156.0 L 133.5 156.0 L 133.5 127.7 \" fill=\"#000000\"/>\n",
       "<path class=\"atom-11\" d=\"M 115.1 65.1 L 118.9 65.1 L 118.9 77.1 L 133.4 77.1 L 133.4 65.1 L 137.2 65.1 L 137.2 93.4 L 133.4 93.4 L 133.4 80.3 L 118.9 80.3 L 118.9 93.4 L 115.1 93.4 L 115.1 65.1 \" fill=\"#000000\"/>\n",
       "<path class=\"atom-12\" d=\"M 193.8 13.8 L 197.6 13.8 L 197.6 25.8 L 212.1 25.8 L 212.1 13.8 L 215.9 13.8 L 215.9 42.1 L 212.1 42.1 L 212.1 29.0 L 197.6 29.0 L 197.6 42.1 L 193.8 42.1 L 193.8 13.8 \" fill=\"#000000\"/>\n",
       "</svg>"
      ],
      "text/plain": [
       "<IPython.core.display.SVG object>"
      ]
     },
     "execution_count": 4,
     "metadata": {},
     "output_type": "execute_result"
    }
   ],
   "source": [
    "smiles_explicit_h = Molecule.from_smiles(\n",
    "    \"[H][C]([H])([H])[C@@]([H])([C](=[O])[O-])[N+]([H])([H])[H]\",\n",
    "    hydrogens_are_explicit=True,\n",
    ")\n",
    "\n",
    "assert zw_l_alanine.is_isomorphic_with(smiles_explicit_h)\n",
    "\n",
    "smiles_explicit_h.visualize()"
   ]
  },
  {
   "cell_type": "markdown",
   "id": "6e1adb21",
   "metadata": {},
   "source": [
    "### Mapped SMILES\n",
    "\n",
    "By default, no guarantees are made about the indexing of atoms from a SMILES string. If the indexing is important, a mapped SMILES string may be used. In this case, Hydrogens must be explicit. Note that though mapped SMILES strings must start at index 1, Python lists start at index 0."
   ]
  },
  {
   "cell_type": "code",
   "execution_count": 5,
   "id": "178de2c5",
   "metadata": {},
   "outputs": [
    {
     "data": {
      "image/svg+xml": [
       "<svg xmlns=\"http://www.w3.org/2000/svg\" xmlns:rdkit=\"http://www.rdkit.org/xml\" xmlns:xlink=\"http://www.w3.org/1999/xlink\" version=\"1.1\" baseProfile=\"full\" xml:space=\"preserve\" width=\"500px\" height=\"300px\" viewBox=\"0 0 500 300\">\n",
       "<!-- END OF HEADER -->\n",
       "<rect style=\"opacity:1.0;fill:#FFFFFF;stroke:none\" width=\"500.0\" height=\"300.0\" x=\"0.0\" y=\"0.0\"> </rect>\n",
       "<path class=\"bond-0 atom-0 atom-3\" d=\"M 204.7,104.8 L 227.0,123.8\" style=\"fill:none;fill-rule:evenodd;stroke:#0000FF;stroke-width:2.0px;stroke-linecap:butt;stroke-linejoin:miter;stroke-opacity:1\"/>\n",
       "<path class=\"bond-0 atom-0 atom-3\" d=\"M 227.0,123.8 L 249.2,142.8\" style=\"fill:none;fill-rule:evenodd;stroke:#000000;stroke-width:2.0px;stroke-linecap:butt;stroke-linejoin:miter;stroke-opacity:1\"/>\n",
       "<path class=\"bond-1 atom-0 atom-10\" d=\"M 178.8,106.9 L 168.4,117.6\" style=\"fill:none;fill-rule:evenodd;stroke:#0000FF;stroke-width:2.0px;stroke-linecap:butt;stroke-linejoin:miter;stroke-opacity:1\"/>\n",
       "<path class=\"bond-1 atom-0 atom-10\" d=\"M 168.4,117.6 L 157.9,128.3\" style=\"fill:none;fill-rule:evenodd;stroke:#000000;stroke-width:2.0px;stroke-linecap:butt;stroke-linejoin:miter;stroke-opacity:1\"/>\n",
       "<path class=\"bond-2 atom-0 atom-11\" d=\"M 178.8,90.8 L 159.1,86.5\" style=\"fill:none;fill-rule:evenodd;stroke:#0000FF;stroke-width:2.0px;stroke-linecap:butt;stroke-linejoin:miter;stroke-opacity:1\"/>\n",
       "<path class=\"bond-2 atom-0 atom-11\" d=\"M 159.1,86.5 L 139.4,82.2\" style=\"fill:none;fill-rule:evenodd;stroke:#000000;stroke-width:2.0px;stroke-linecap:butt;stroke-linejoin:miter;stroke-opacity:1\"/>\n",
       "<path class=\"bond-3 atom-0 atom-12\" d=\"M 195.0,77.3 L 198.3,60.8\" style=\"fill:none;fill-rule:evenodd;stroke:#0000FF;stroke-width:2.0px;stroke-linecap:butt;stroke-linejoin:miter;stroke-opacity:1\"/>\n",
       "<path class=\"bond-3 atom-0 atom-12\" d=\"M 198.3,60.8 L 201.6,44.3\" style=\"fill:none;fill-rule:evenodd;stroke:#000000;stroke-width:2.0px;stroke-linecap:butt;stroke-linejoin:miter;stroke-opacity:1\"/>\n",
       "<path class=\"bond-4 atom-1 atom-3\" d=\"M 269.1,206.9 L 249.2,142.8\" style=\"fill:none;fill-rule:evenodd;stroke:#000000;stroke-width:2.0px;stroke-linecap:butt;stroke-linejoin:miter;stroke-opacity:1\"/>\n",
       "<path class=\"bond-5 atom-1 atom-6\" d=\"M 269.1,206.9 L 216.9,221.3\" style=\"fill:none;fill-rule:evenodd;stroke:#000000;stroke-width:2.0px;stroke-linecap:butt;stroke-linejoin:miter;stroke-opacity:1\"/>\n",
       "<path class=\"bond-6 atom-1 atom-7\" d=\"M 269.1,206.9 L 255.6,255.7\" style=\"fill:none;fill-rule:evenodd;stroke:#000000;stroke-width:2.0px;stroke-linecap:butt;stroke-linejoin:miter;stroke-opacity:1\"/>\n",
       "<path class=\"bond-7 atom-1 atom-9\" d=\"M 269.1,206.9 L 320.3,220.4\" style=\"fill:none;fill-rule:evenodd;stroke:#000000;stroke-width:2.0px;stroke-linecap:butt;stroke-linejoin:miter;stroke-opacity:1\"/>\n",
       "<path class=\"bond-8 atom-2 atom-3\" d=\"M 292.6,93.2 L 249.2,142.8\" style=\"fill:none;fill-rule:evenodd;stroke:#000000;stroke-width:2.0px;stroke-linecap:butt;stroke-linejoin:miter;stroke-opacity:1\"/>\n",
       "<path class=\"bond-9 atom-2 atom-4\" d=\"M 298.4,94.3 L 289.8,69.8\" style=\"fill:none;fill-rule:evenodd;stroke:#000000;stroke-width:2.0px;stroke-linecap:butt;stroke-linejoin:miter;stroke-opacity:1\"/>\n",
       "<path class=\"bond-9 atom-2 atom-4\" d=\"M 289.8,69.8 L 281.2,45.2\" style=\"fill:none;fill-rule:evenodd;stroke:#FF0000;stroke-width:2.0px;stroke-linecap:butt;stroke-linejoin:miter;stroke-opacity:1\"/>\n",
       "<path class=\"bond-9 atom-2 atom-4\" d=\"M 288.8,97.6 L 280.3,73.0\" style=\"fill:none;fill-rule:evenodd;stroke:#000000;stroke-width:2.0px;stroke-linecap:butt;stroke-linejoin:miter;stroke-opacity:1\"/>\n",
       "<path class=\"bond-9 atom-2 atom-4\" d=\"M 280.3,73.0 L 271.7,48.5\" style=\"fill:none;fill-rule:evenodd;stroke:#FF0000;stroke-width:2.0px;stroke-linecap:butt;stroke-linejoin:miter;stroke-opacity:1\"/>\n",
       "<path class=\"bond-10 atom-2 atom-5\" d=\"M 292.6,93.2 L 317.8,98.2\" style=\"fill:none;fill-rule:evenodd;stroke:#000000;stroke-width:2.0px;stroke-linecap:butt;stroke-linejoin:miter;stroke-opacity:1\"/>\n",
       "<path class=\"bond-10 atom-2 atom-5\" d=\"M 317.8,98.2 L 343.0,103.2\" style=\"fill:none;fill-rule:evenodd;stroke:#FF0000;stroke-width:2.0px;stroke-linecap:butt;stroke-linejoin:miter;stroke-opacity:1\"/>\n",
       "<path class=\"bond-11 atom-3 atom-8\" d=\"M 249.2,142.8 L 212.8,164.7 L 208.7,155.5 Z\" style=\"fill:#000000;fill-rule:evenodd;fill-opacity:1;stroke:#000000;stroke-width:0.5px;stroke-linecap:butt;stroke-linejoin:miter;stroke-opacity:1;\"/>\n",
       "<path d=\"M 290.5,95.7 L 292.6,93.2 L 293.9,93.5\" style=\"fill:none;stroke:#000000;stroke-width:2.0px;stroke-linecap:butt;stroke-linejoin:miter;stroke-opacity:1;\"/>\n",
       "<path class=\"atom-0\" d=\"M 185.5 79.5 L 194.8 94.5 Q 195.7 96.0, 197.2 98.7 Q 198.7 101.4, 198.8 101.5 L 198.8 79.5 L 202.5 79.5 L 202.5 107.9 L 198.6 107.9 L 188.7 91.5 Q 187.5 89.5, 186.3 87.3 Q 185.1 85.1, 184.7 84.5 L 184.7 107.9 L 181.0 107.9 L 181.0 79.5 L 185.5 79.5 \" fill=\"#0000FF\"/>\n",
       "<path class=\"atom-0\" d=\"M 207.8 84.6 L 212.8 84.6 L 212.8 79.4 L 215.1 79.4 L 215.1 84.6 L 220.2 84.6 L 220.2 86.5 L 215.1 86.5 L 215.1 91.8 L 212.8 91.8 L 212.8 86.5 L 207.8 86.5 L 207.8 84.6 \" fill=\"#0000FF\"/>\n",
       "<path class=\"atom-4\" d=\"M 257.6 30.0 Q 257.6 23.2, 260.9 19.4 Q 264.3 15.6, 270.6 15.6 Q 276.8 15.6, 280.2 19.4 Q 283.6 23.2, 283.6 30.0 Q 283.6 36.8, 280.2 40.8 Q 276.8 44.6, 270.6 44.6 Q 264.3 44.6, 260.9 40.8 Q 257.6 36.9, 257.6 30.0 M 270.6 41.4 Q 274.9 41.4, 277.2 38.6 Q 279.6 35.6, 279.6 30.0 Q 279.6 24.4, 277.2 21.6 Q 274.9 18.8, 270.6 18.8 Q 266.2 18.8, 263.9 21.6 Q 261.6 24.4, 261.6 30.0 Q 261.6 35.7, 263.9 38.6 Q 266.2 41.4, 270.6 41.4 \" fill=\"#FF0000\"/>\n",
       "<path class=\"atom-5\" d=\"M 345.2 106.3 Q 345.2 99.5, 348.6 95.7 Q 351.9 91.9, 358.2 91.9 Q 364.5 91.9, 367.9 95.7 Q 371.2 99.5, 371.2 106.3 Q 371.2 113.2, 367.8 117.1 Q 364.4 121.0, 358.2 121.0 Q 352.0 121.0, 348.6 117.1 Q 345.2 113.2, 345.2 106.3 M 358.2 117.8 Q 362.5 117.8, 364.9 114.9 Q 367.2 112.0, 367.2 106.3 Q 367.2 100.7, 364.9 97.9 Q 362.5 95.1, 358.2 95.1 Q 353.9 95.1, 351.5 97.9 Q 349.2 100.7, 349.2 106.3 Q 349.2 112.0, 351.5 114.9 Q 353.9 117.8, 358.2 117.8 \" fill=\"#FF0000\"/>\n",
       "<path class=\"atom-5\" d=\"M 375.3 96.5 L 384.9 96.5 L 384.9 98.6 L 375.3 98.6 L 375.3 96.5 \" fill=\"#FF0000\"/>\n",
       "<path class=\"atom-6\" d=\"M 192.6 210.8 L 196.4 210.8 L 196.4 222.9 L 210.9 222.9 L 210.9 210.8 L 214.7 210.8 L 214.7 239.2 L 210.9 239.2 L 210.9 226.1 L 196.4 226.1 L 196.4 239.2 L 192.6 239.2 L 192.6 210.8 \" fill=\"#000000\"/>\n",
       "<path class=\"atom-7\" d=\"M 240.0 257.9 L 243.8 257.9 L 243.8 270.0 L 258.3 270.0 L 258.3 257.9 L 262.2 257.9 L 262.2 286.2 L 258.3 286.2 L 258.3 273.2 L 243.8 273.2 L 243.8 286.2 L 240.0 286.2 L 240.0 257.9 \" fill=\"#000000\"/>\n",
       "<path class=\"atom-8\" d=\"M 184.2 153.0 L 188.0 153.0 L 188.0 165.0 L 202.5 165.0 L 202.5 153.0 L 206.3 153.0 L 206.3 181.3 L 202.5 181.3 L 202.5 168.2 L 188.0 168.2 L 188.0 181.3 L 184.2 181.3 L 184.2 153.0 \" fill=\"#000000\"/>\n",
       "<path class=\"atom-9\" d=\"M 322.5 209.8 L 326.4 209.8 L 326.4 221.8 L 340.8 221.8 L 340.8 209.8 L 344.7 209.8 L 344.7 238.1 L 340.8 238.1 L 340.8 225.0 L 326.4 225.0 L 326.4 238.1 L 322.5 238.1 L 322.5 209.8 \" fill=\"#000000\"/>\n",
       "<path class=\"atom-10\" d=\"M 133.5 127.7 L 137.4 127.7 L 137.4 139.8 L 151.9 139.8 L 151.9 127.7 L 155.7 127.7 L 155.7 156.0 L 151.9 156.0 L 151.9 143.0 L 137.4 143.0 L 137.4 156.0 L 133.5 156.0 L 133.5 127.7 \" fill=\"#000000\"/>\n",
       "<path class=\"atom-11\" d=\"M 115.1 65.1 L 118.9 65.1 L 118.9 77.1 L 133.4 77.1 L 133.4 65.1 L 137.2 65.1 L 137.2 93.4 L 133.4 93.4 L 133.4 80.3 L 118.9 80.3 L 118.9 93.4 L 115.1 93.4 L 115.1 65.1 \" fill=\"#000000\"/>\n",
       "<path class=\"atom-12\" d=\"M 193.8 13.8 L 197.6 13.8 L 197.6 25.8 L 212.1 25.8 L 212.1 13.8 L 215.9 13.8 L 215.9 42.1 L 212.1 42.1 L 212.1 29.0 L 197.6 29.0 L 197.6 42.1 L 193.8 42.1 L 193.8 13.8 \" fill=\"#000000\"/>\n",
       "</svg>"
      ],
      "text/plain": [
       "<IPython.core.display.SVG object>"
      ]
     },
     "execution_count": 5,
     "metadata": {},
     "output_type": "execute_result"
    }
   ],
   "source": [
    "mapped_smiles = Molecule.from_mapped_smiles(\n",
    "    \"[H:10][C:2]([H:7])([H:8])[C@@:4]([H:9])([C:3](=[O:5])[O-:6])[N+:1]([H:11])([H:12])[H:13]\"\n",
    ")\n",
    "\n",
    "assert zw_l_alanine.is_isomorphic_with(mapped_smiles)\n",
    "\n",
    "# First index is the Nitrogen\n",
    "assert mapped_smiles.atoms[0].atomic_number == 7\n",
    "\n",
    "# Final indices are all H\n",
    "assert all([a.atomic_number == 1 for a in mapped_smiles.atoms[6:]])\n",
    "\n",
    "mapped_smiles.visualize()"
   ]
  },
  {
   "cell_type": "markdown",
   "id": "6897144e",
   "metadata": {},
   "source": [
    "(smiles_no_stereochemistry)=\n",
    "### SMILES without stereochemistry\n",
    "\n",
    "The Toolkit won't accept an ambiguous SMILES. This SMILES could be L- or D- alanine; rather than guess, the Toolkit throws an error:"
   ]
  },
  {
   "cell_type": "code",
   "execution_count": 6,
   "id": "ec669ad6",
   "metadata": {
    "scrolled": true,
    "slideshow": {
     "slide_type": ""
    },
    "tags": [
     "raises-exception"
    ]
   },
   "outputs": [
    {
     "name": "stdout",
     "output_type": "stream",
     "text": [
      "Unable to make OFFMol from OEMol: OEMol has unspecified stereochemistry. oemol.GetTitle()=''Problematic atoms are:\n",
      "Atom atomic num: 6, name: , idx: 1, aromatic: False, chiral: True with bonds:\n",
      "bond order: 1, chiral: False to atom atomic num: 6, name: , idx: 0, aromatic: False, chiral: False\n",
      "bond order: 1, chiral: False to atom atomic num: 7, name: , idx: 2, aromatic: False, chiral: False\n",
      "bond order: 1, chiral: False to atom atomic num: 6, name: , idx: 3, aromatic: False, chiral: False\n",
      "bond order: 1, chiral: False to atom atomic num: 1, name: , idx: 9, aromatic: False, chiral: False\n",
      "\n"
     ]
    }
   ],
   "source": [
    "from openff.toolkit.utils.exceptions import UndefinedStereochemistryError\n",
    "\n",
    "try:\n",
    "    smiles_non_isomeric = Molecule.from_smiles(\"CC([NH3+])C(=O)[O-]\")\n",
    "except UndefinedStereochemistryError as error:\n",
    "    print(error)"
   ]
  },
  {
   "cell_type": "markdown",
   "id": "821c4687",
   "metadata": {},
   "source": [
    "We can downgrade this error to a warning with the `allow_undefined_stereo` argument. This will create a molecule with undefined stereochemistry, which might lead to incorrect parametrization or surprising conformer generation. See the [FAQ](../faq.md#im-getting-stereochemistry-errors-when-loading-a-molecule-from-a-smiles-string) for more details."
   ]
  },
  {
   "cell_type": "code",
   "execution_count": 7,
   "id": "278e3cb1",
   "metadata": {},
   "outputs": [
    {
     "data": {
      "image/svg+xml": [
       "<svg xmlns=\"http://www.w3.org/2000/svg\" xmlns:rdkit=\"http://www.rdkit.org/xml\" xmlns:xlink=\"http://www.w3.org/1999/xlink\" version=\"1.1\" baseProfile=\"full\" xml:space=\"preserve\" width=\"500px\" height=\"300px\" viewBox=\"0 0 500 300\">\n",
       "<!-- END OF HEADER -->\n",
       "<rect style=\"opacity:1.0;fill:#FFFFFF;stroke:none\" width=\"500.0\" height=\"300.0\" x=\"0.0\" y=\"0.0\"> </rect>\n",
       "<path class=\"bond-0 atom-0 atom-1\" d=\"M 269.1,206.9 L 249.2,142.8\" style=\"fill:none;fill-rule:evenodd;stroke:#000000;stroke-width:2.0px;stroke-linecap:butt;stroke-linejoin:miter;stroke-opacity:1\"/>\n",
       "<path class=\"bond-1 atom-1 atom-2\" d=\"M 249.2,142.8 L 227.0,123.8\" style=\"fill:none;fill-rule:evenodd;stroke:#000000;stroke-width:2.0px;stroke-linecap:butt;stroke-linejoin:miter;stroke-opacity:1\"/>\n",
       "<path class=\"bond-1 atom-1 atom-2\" d=\"M 227.0,123.8 L 204.7,104.8\" style=\"fill:none;fill-rule:evenodd;stroke:#0000FF;stroke-width:2.0px;stroke-linecap:butt;stroke-linejoin:miter;stroke-opacity:1\"/>\n",
       "<path class=\"bond-2 atom-1 atom-3\" d=\"M 249.2,142.8 L 292.6,93.2\" style=\"fill:none;fill-rule:evenodd;stroke:#000000;stroke-width:2.0px;stroke-linecap:butt;stroke-linejoin:miter;stroke-opacity:1\"/>\n",
       "<path class=\"bond-3 atom-3 atom-4\" d=\"M 298.4,94.3 L 289.8,69.8\" style=\"fill:none;fill-rule:evenodd;stroke:#000000;stroke-width:2.0px;stroke-linecap:butt;stroke-linejoin:miter;stroke-opacity:1\"/>\n",
       "<path class=\"bond-3 atom-3 atom-4\" d=\"M 289.8,69.8 L 281.2,45.2\" style=\"fill:none;fill-rule:evenodd;stroke:#FF0000;stroke-width:2.0px;stroke-linecap:butt;stroke-linejoin:miter;stroke-opacity:1\"/>\n",
       "<path class=\"bond-3 atom-3 atom-4\" d=\"M 288.8,97.6 L 280.3,73.0\" style=\"fill:none;fill-rule:evenodd;stroke:#000000;stroke-width:2.0px;stroke-linecap:butt;stroke-linejoin:miter;stroke-opacity:1\"/>\n",
       "<path class=\"bond-3 atom-3 atom-4\" d=\"M 280.3,73.0 L 271.7,48.5\" style=\"fill:none;fill-rule:evenodd;stroke:#FF0000;stroke-width:2.0px;stroke-linecap:butt;stroke-linejoin:miter;stroke-opacity:1\"/>\n",
       "<path class=\"bond-4 atom-3 atom-5\" d=\"M 292.6,93.2 L 317.8,98.2\" style=\"fill:none;fill-rule:evenodd;stroke:#000000;stroke-width:2.0px;stroke-linecap:butt;stroke-linejoin:miter;stroke-opacity:1\"/>\n",
       "<path class=\"bond-4 atom-3 atom-5\" d=\"M 317.8,98.2 L 343.0,103.2\" style=\"fill:none;fill-rule:evenodd;stroke:#FF0000;stroke-width:2.0px;stroke-linecap:butt;stroke-linejoin:miter;stroke-opacity:1\"/>\n",
       "<path class=\"bond-5 atom-0 atom-6\" d=\"M 269.1,206.9 L 216.9,221.3\" style=\"fill:none;fill-rule:evenodd;stroke:#000000;stroke-width:2.0px;stroke-linecap:butt;stroke-linejoin:miter;stroke-opacity:1\"/>\n",
       "<path class=\"bond-6 atom-0 atom-7\" d=\"M 269.1,206.9 L 255.6,255.7\" style=\"fill:none;fill-rule:evenodd;stroke:#000000;stroke-width:2.0px;stroke-linecap:butt;stroke-linejoin:miter;stroke-opacity:1\"/>\n",
       "<path class=\"bond-7 atom-0 atom-8\" d=\"M 269.1,206.9 L 320.3,220.4\" style=\"fill:none;fill-rule:evenodd;stroke:#000000;stroke-width:2.0px;stroke-linecap:butt;stroke-linejoin:miter;stroke-opacity:1\"/>\n",
       "<path class=\"bond-8 atom-1 atom-9\" d=\"M 249.2,142.8 L 208.6,161.1\" style=\"fill:none;fill-rule:evenodd;stroke:#000000;stroke-width:2.0px;stroke-linecap:butt;stroke-linejoin:miter;stroke-opacity:1\"/>\n",
       "<path class=\"bond-9 atom-2 atom-10\" d=\"M 178.8,106.9 L 168.4,117.6\" style=\"fill:none;fill-rule:evenodd;stroke:#0000FF;stroke-width:2.0px;stroke-linecap:butt;stroke-linejoin:miter;stroke-opacity:1\"/>\n",
       "<path class=\"bond-9 atom-2 atom-10\" d=\"M 168.4,117.6 L 157.9,128.3\" style=\"fill:none;fill-rule:evenodd;stroke:#000000;stroke-width:2.0px;stroke-linecap:butt;stroke-linejoin:miter;stroke-opacity:1\"/>\n",
       "<path class=\"bond-10 atom-2 atom-11\" d=\"M 178.8,90.8 L 159.1,86.5\" style=\"fill:none;fill-rule:evenodd;stroke:#0000FF;stroke-width:2.0px;stroke-linecap:butt;stroke-linejoin:miter;stroke-opacity:1\"/>\n",
       "<path class=\"bond-10 atom-2 atom-11\" d=\"M 159.1,86.5 L 139.4,82.2\" style=\"fill:none;fill-rule:evenodd;stroke:#000000;stroke-width:2.0px;stroke-linecap:butt;stroke-linejoin:miter;stroke-opacity:1\"/>\n",
       "<path class=\"bond-11 atom-2 atom-12\" d=\"M 195.0,77.3 L 198.3,60.8\" style=\"fill:none;fill-rule:evenodd;stroke:#0000FF;stroke-width:2.0px;stroke-linecap:butt;stroke-linejoin:miter;stroke-opacity:1\"/>\n",
       "<path class=\"bond-11 atom-2 atom-12\" d=\"M 198.3,60.8 L 201.6,44.3\" style=\"fill:none;fill-rule:evenodd;stroke:#000000;stroke-width:2.0px;stroke-linecap:butt;stroke-linejoin:miter;stroke-opacity:1\"/>\n",
       "<path d=\"M 290.5,95.7 L 292.6,93.2 L 293.9,93.5\" style=\"fill:none;stroke:#000000;stroke-width:2.0px;stroke-linecap:butt;stroke-linejoin:miter;stroke-opacity:1;\"/>\n",
       "<path class=\"atom-2\" d=\"M 185.5 79.5 L 194.8 94.5 Q 195.7 96.0, 197.2 98.7 Q 198.7 101.4, 198.8 101.5 L 198.8 79.5 L 202.5 79.5 L 202.5 107.9 L 198.6 107.9 L 188.7 91.5 Q 187.5 89.5, 186.3 87.3 Q 185.1 85.1, 184.7 84.5 L 184.7 107.9 L 181.0 107.9 L 181.0 79.5 L 185.5 79.5 \" fill=\"#0000FF\"/>\n",
       "<path class=\"atom-2\" d=\"M 207.8 84.6 L 212.8 84.6 L 212.8 79.4 L 215.1 79.4 L 215.1 84.6 L 220.2 84.6 L 220.2 86.5 L 215.1 86.5 L 215.1 91.8 L 212.8 91.8 L 212.8 86.5 L 207.8 86.5 L 207.8 84.6 \" fill=\"#0000FF\"/>\n",
       "<path class=\"atom-4\" d=\"M 257.6 30.0 Q 257.6 23.2, 260.9 19.4 Q 264.3 15.6, 270.6 15.6 Q 276.8 15.6, 280.2 19.4 Q 283.6 23.2, 283.6 30.0 Q 283.6 36.8, 280.2 40.8 Q 276.8 44.6, 270.6 44.6 Q 264.3 44.6, 260.9 40.8 Q 257.6 36.9, 257.6 30.0 M 270.6 41.4 Q 274.9 41.4, 277.2 38.6 Q 279.6 35.6, 279.6 30.0 Q 279.6 24.4, 277.2 21.6 Q 274.9 18.8, 270.6 18.8 Q 266.2 18.8, 263.9 21.6 Q 261.6 24.4, 261.6 30.0 Q 261.6 35.7, 263.9 38.6 Q 266.2 41.4, 270.6 41.4 \" fill=\"#FF0000\"/>\n",
       "<path class=\"atom-5\" d=\"M 345.2 106.3 Q 345.2 99.5, 348.6 95.7 Q 351.9 91.9, 358.2 91.9 Q 364.5 91.9, 367.9 95.7 Q 371.2 99.5, 371.2 106.3 Q 371.2 113.2, 367.8 117.1 Q 364.4 121.0, 358.2 121.0 Q 352.0 121.0, 348.6 117.1 Q 345.2 113.2, 345.2 106.3 M 358.2 117.8 Q 362.5 117.8, 364.9 114.9 Q 367.2 112.0, 367.2 106.3 Q 367.2 100.7, 364.9 97.9 Q 362.5 95.1, 358.2 95.1 Q 353.9 95.1, 351.5 97.9 Q 349.2 100.7, 349.2 106.3 Q 349.2 112.0, 351.5 114.9 Q 353.9 117.8, 358.2 117.8 \" fill=\"#FF0000\"/>\n",
       "<path class=\"atom-5\" d=\"M 375.3 96.5 L 384.9 96.5 L 384.9 98.6 L 375.3 98.6 L 375.3 96.5 \" fill=\"#FF0000\"/>\n",
       "<path class=\"atom-6\" d=\"M 192.6 210.8 L 196.4 210.8 L 196.4 222.9 L 210.9 222.9 L 210.9 210.8 L 214.7 210.8 L 214.7 239.2 L 210.9 239.2 L 210.9 226.1 L 196.4 226.1 L 196.4 239.2 L 192.6 239.2 L 192.6 210.8 \" fill=\"#000000\"/>\n",
       "<path class=\"atom-7\" d=\"M 240.0 257.9 L 243.8 257.9 L 243.8 270.0 L 258.3 270.0 L 258.3 257.9 L 262.2 257.9 L 262.2 286.2 L 258.3 286.2 L 258.3 273.2 L 243.8 273.2 L 243.8 286.2 L 240.0 286.2 L 240.0 257.9 \" fill=\"#000000\"/>\n",
       "<path class=\"atom-8\" d=\"M 322.5 209.8 L 326.4 209.8 L 326.4 221.8 L 340.8 221.8 L 340.8 209.8 L 344.7 209.8 L 344.7 238.1 L 340.8 238.1 L 340.8 225.0 L 326.4 225.0 L 326.4 238.1 L 322.5 238.1 L 322.5 209.8 \" fill=\"#000000\"/>\n",
       "<path class=\"atom-9\" d=\"M 184.2 153.0 L 188.0 153.0 L 188.0 165.0 L 202.5 165.0 L 202.5 153.0 L 206.3 153.0 L 206.3 181.3 L 202.5 181.3 L 202.5 168.2 L 188.0 168.2 L 188.0 181.3 L 184.2 181.3 L 184.2 153.0 \" fill=\"#000000\"/>\n",
       "<path class=\"atom-10\" d=\"M 133.5 127.7 L 137.4 127.7 L 137.4 139.8 L 151.9 139.8 L 151.9 127.7 L 155.7 127.7 L 155.7 156.0 L 151.9 156.0 L 151.9 143.0 L 137.4 143.0 L 137.4 156.0 L 133.5 156.0 L 133.5 127.7 \" fill=\"#000000\"/>\n",
       "<path class=\"atom-11\" d=\"M 115.1 65.1 L 118.9 65.1 L 118.9 77.1 L 133.4 77.1 L 133.4 65.1 L 137.2 65.1 L 137.2 93.4 L 133.4 93.4 L 133.4 80.3 L 118.9 80.3 L 118.9 93.4 L 115.1 93.4 L 115.1 65.1 \" fill=\"#000000\"/>\n",
       "<path class=\"atom-12\" d=\"M 193.8 13.8 L 197.6 13.8 L 197.6 25.8 L 212.1 25.8 L 212.1 13.8 L 215.9 13.8 L 215.9 42.1 L 212.1 42.1 L 212.1 29.0 L 197.6 29.0 L 197.6 42.1 L 193.8 42.1 L 193.8 13.8 \" fill=\"#000000\"/>\n",
       "</svg>"
      ],
      "text/plain": [
       "<IPython.core.display.SVG object>"
      ]
     },
     "execution_count": 7,
     "metadata": {},
     "output_type": "execute_result"
    }
   ],
   "source": [
    "smiles_non_isomeric = Molecule.from_smiles(\n",
    "    \"CC([NH3+])C(=O)[O-]\",\n",
    "    allow_undefined_stereo=True,\n",
    ")\n",
    "\n",
    "assert not zw_l_alanine.is_isomorphic_with(smiles_non_isomeric)\n",
    "\n",
    "smiles_non_isomeric.visualize()"
   ]
  },
  {
   "cell_type": "markdown",
   "id": "da716060",
   "metadata": {},
   "source": [
    "## By hand\n",
    "\n",
    "You can always construct a `Molecule` by building it up from individual atoms and bonds. Other methods are generally easier, but it's a useful fallback for when you need to write your own constructor for an unsupported source format.\n",
    "\n",
    "The [`Molecule()`](openff.toolkit.topology.Molecule.__init__) constructor and the [`add_atom()`](openff.toolkit.topology.Molecule.add_atom) and [`add_bond()`](openff.toolkit.topology.Molecule.add_bond) methods are used to construct a `Molecule` by hand."
   ]
  },
  {
   "cell_type": "code",
   "execution_count": 8,
   "id": "aa8746eb",
   "metadata": {},
   "outputs": [
    {
     "data": {
      "image/svg+xml": [
       "<svg xmlns=\"http://www.w3.org/2000/svg\" xmlns:rdkit=\"http://www.rdkit.org/xml\" xmlns:xlink=\"http://www.w3.org/1999/xlink\" version=\"1.1\" baseProfile=\"full\" xml:space=\"preserve\" width=\"500px\" height=\"300px\" viewBox=\"0 0 500 300\">\n",
       "<!-- END OF HEADER -->\n",
       "<rect style=\"opacity:1.0;fill:#FFFFFF;stroke:none\" width=\"500.0\" height=\"300.0\" x=\"0.0\" y=\"0.0\"> </rect>\n",
       "<path class=\"bond-0 atom-0 atom-1\" d=\"M 285.6,251.8 L 294.2,226.3\" style=\"fill:none;fill-rule:evenodd;stroke:#FF0000;stroke-width:2.0px;stroke-linecap:butt;stroke-linejoin:miter;stroke-opacity:1\"/>\n",
       "<path class=\"bond-0 atom-0 atom-1\" d=\"M 294.2,226.3 L 302.8,200.7\" style=\"fill:none;fill-rule:evenodd;stroke:#000000;stroke-width:2.0px;stroke-linecap:butt;stroke-linejoin:miter;stroke-opacity:1\"/>\n",
       "<path class=\"bond-1 atom-1 atom-2\" d=\"M 300.8,206.6 L 329.5,200.6\" style=\"fill:none;fill-rule:evenodd;stroke:#000000;stroke-width:2.0px;stroke-linecap:butt;stroke-linejoin:miter;stroke-opacity:1\"/>\n",
       "<path class=\"bond-1 atom-1 atom-2\" d=\"M 329.5,200.6 L 358.2,194.6\" style=\"fill:none;fill-rule:evenodd;stroke:#FF0000;stroke-width:2.0px;stroke-linecap:butt;stroke-linejoin:miter;stroke-opacity:1\"/>\n",
       "<path class=\"bond-1 atom-1 atom-2\" d=\"M 298.7,196.1 L 327.3,190.1\" style=\"fill:none;fill-rule:evenodd;stroke:#000000;stroke-width:2.0px;stroke-linecap:butt;stroke-linejoin:miter;stroke-opacity:1\"/>\n",
       "<path class=\"bond-1 atom-1 atom-2\" d=\"M 327.3,190.1 L 356.0,184.1\" style=\"fill:none;fill-rule:evenodd;stroke:#FF0000;stroke-width:2.0px;stroke-linecap:butt;stroke-linejoin:miter;stroke-opacity:1\"/>\n",
       "<path class=\"bond-2 atom-1 atom-3\" d=\"M 302.8,200.7 L 256.1,148.4\" style=\"fill:none;fill-rule:evenodd;stroke:#000000;stroke-width:2.0px;stroke-linecap:butt;stroke-linejoin:miter;stroke-opacity:1\"/>\n",
       "<path class=\"bond-3 atom-3 atom-4\" d=\"M 252.7,147.4 L 253.0,146.6\" style=\"fill:none;fill-rule:evenodd;stroke:#000000;stroke-width:1.0px;stroke-linecap:butt;stroke-linejoin:miter;stroke-opacity:1\"/>\n",
       "<path class=\"bond-3 atom-3 atom-4\" d=\"M 249.3,146.3 L 250.0,144.8\" style=\"fill:none;fill-rule:evenodd;stroke:#000000;stroke-width:1.0px;stroke-linecap:butt;stroke-linejoin:miter;stroke-opacity:1\"/>\n",
       "<path class=\"bond-3 atom-3 atom-4\" d=\"M 245.9,145.3 L 246.9,143.0\" style=\"fill:none;fill-rule:evenodd;stroke:#000000;stroke-width:1.0px;stroke-linecap:butt;stroke-linejoin:miter;stroke-opacity:1\"/>\n",
       "<path class=\"bond-3 atom-3 atom-4\" d=\"M 242.5,144.3 L 243.9,141.2\" style=\"fill:none;fill-rule:evenodd;stroke:#000000;stroke-width:1.0px;stroke-linecap:butt;stroke-linejoin:miter;stroke-opacity:1\"/>\n",
       "<path class=\"bond-3 atom-3 atom-4\" d=\"M 239.2,143.2 L 240.8,139.4\" style=\"fill:none;fill-rule:evenodd;stroke:#000000;stroke-width:1.0px;stroke-linecap:butt;stroke-linejoin:miter;stroke-opacity:1\"/>\n",
       "<path class=\"bond-3 atom-3 atom-4\" d=\"M 235.8,142.2 L 237.8,137.7\" style=\"fill:none;fill-rule:evenodd;stroke:#000000;stroke-width:1.0px;stroke-linecap:butt;stroke-linejoin:miter;stroke-opacity:1\"/>\n",
       "<path class=\"bond-3 atom-3 atom-4\" d=\"M 232.4,141.1 L 234.7,135.9\" style=\"fill:none;fill-rule:evenodd;stroke:#000000;stroke-width:1.0px;stroke-linecap:butt;stroke-linejoin:miter;stroke-opacity:1\"/>\n",
       "<path class=\"bond-3 atom-3 atom-4\" d=\"M 229.0,140.1 L 231.6,134.1\" style=\"fill:none;fill-rule:evenodd;stroke:#000000;stroke-width:1.0px;stroke-linecap:butt;stroke-linejoin:miter;stroke-opacity:1\"/>\n",
       "<path class=\"bond-3 atom-3 atom-4\" d=\"M 225.6,139.1 L 228.6,132.3\" style=\"fill:none;fill-rule:evenodd;stroke:#000000;stroke-width:1.0px;stroke-linecap:butt;stroke-linejoin:miter;stroke-opacity:1\"/>\n",
       "<path class=\"bond-3 atom-3 atom-4\" d=\"M 222.2,138.0 L 225.5,130.5\" style=\"fill:none;fill-rule:evenodd;stroke:#000000;stroke-width:1.0px;stroke-linecap:butt;stroke-linejoin:miter;stroke-opacity:1\"/>\n",
       "<path class=\"bond-3 atom-3 atom-4\" d=\"M 218.8,137.0 L 222.5,128.7\" style=\"fill:none;fill-rule:evenodd;stroke:#000000;stroke-width:1.0px;stroke-linecap:butt;stroke-linejoin:miter;stroke-opacity:1\"/>\n",
       "<path class=\"bond-3 atom-3 atom-4\" d=\"M 215.5,135.9 L 219.4,126.9\" style=\"fill:none;fill-rule:evenodd;stroke:#000000;stroke-width:1.0px;stroke-linecap:butt;stroke-linejoin:miter;stroke-opacity:1\"/>\n",
       "<path class=\"bond-3 atom-3 atom-4\" d=\"M 212.1,134.9 L 216.4,125.1\" style=\"fill:none;fill-rule:evenodd;stroke:#000000;stroke-width:1.0px;stroke-linecap:butt;stroke-linejoin:miter;stroke-opacity:1\"/>\n",
       "<path class=\"bond-4 atom-3 atom-5\" d=\"M 256.1,148.4 L 276.5,80.1\" style=\"fill:none;fill-rule:evenodd;stroke:#000000;stroke-width:2.0px;stroke-linecap:butt;stroke-linejoin:miter;stroke-opacity:1\"/>\n",
       "<path class=\"bond-5 atom-5 atom-6\" d=\"M 276.5,80.1 L 331.6,94.8\" style=\"fill:none;fill-rule:evenodd;stroke:#000000;stroke-width:2.0px;stroke-linecap:butt;stroke-linejoin:miter;stroke-opacity:1\"/>\n",
       "<path class=\"bond-6 atom-5 atom-7\" d=\"M 276.5,80.1 L 312.5,42.8\" style=\"fill:none;fill-rule:evenodd;stroke:#000000;stroke-width:2.0px;stroke-linecap:butt;stroke-linejoin:miter;stroke-opacity:1\"/>\n",
       "<path class=\"bond-7 atom-5 atom-8\" d=\"M 276.5,80.1 L 238.5,42.7\" style=\"fill:none;fill-rule:evenodd;stroke:#000000;stroke-width:2.0px;stroke-linecap:butt;stroke-linejoin:miter;stroke-opacity:1\"/>\n",
       "<path class=\"bond-8 atom-3 atom-9\" d=\"M 256.1,148.4 L 235.3,166.5\" style=\"fill:none;fill-rule:evenodd;stroke:#000000;stroke-width:2.0px;stroke-linecap:butt;stroke-linejoin:miter;stroke-opacity:1\"/>\n",
       "<path class=\"bond-8 atom-3 atom-9\" d=\"M 235.3,166.5 L 214.5,184.6\" style=\"fill:none;fill-rule:evenodd;stroke:#0000FF;stroke-width:2.0px;stroke-linecap:butt;stroke-linejoin:miter;stroke-opacity:1\"/>\n",
       "<path class=\"bond-9 atom-9 atom-10\" d=\"M 182.3,188.1 L 170.2,176.0\" style=\"fill:none;fill-rule:evenodd;stroke:#0000FF;stroke-width:2.0px;stroke-linecap:butt;stroke-linejoin:miter;stroke-opacity:1\"/>\n",
       "<path class=\"bond-9 atom-9 atom-10\" d=\"M 170.2,176.0 L 158.2,163.9\" style=\"fill:none;fill-rule:evenodd;stroke:#000000;stroke-width:2.0px;stroke-linecap:butt;stroke-linejoin:miter;stroke-opacity:1\"/>\n",
       "<path class=\"bond-10 atom-9 atom-11\" d=\"M 182.3,204.3 L 160.7,209.2\" style=\"fill:none;fill-rule:evenodd;stroke:#0000FF;stroke-width:2.0px;stroke-linecap:butt;stroke-linejoin:miter;stroke-opacity:1\"/>\n",
       "<path class=\"bond-10 atom-9 atom-11\" d=\"M 160.7,209.2 L 139.1,214.2\" style=\"fill:none;fill-rule:evenodd;stroke:#000000;stroke-width:2.0px;stroke-linecap:butt;stroke-linejoin:miter;stroke-opacity:1\"/>\n",
       "<path class=\"bond-11 atom-9 atom-12\" d=\"M 198.8,217.8 L 202.6,236.2\" style=\"fill:none;fill-rule:evenodd;stroke:#0000FF;stroke-width:2.0px;stroke-linecap:butt;stroke-linejoin:miter;stroke-opacity:1\"/>\n",
       "<path class=\"bond-11 atom-9 atom-12\" d=\"M 202.6,236.2 L 206.5,254.6\" style=\"fill:none;fill-rule:evenodd;stroke:#000000;stroke-width:2.0px;stroke-linecap:butt;stroke-linejoin:miter;stroke-opacity:1\"/>\n",
       "<path d=\"M 302.3,202.0 L 302.8,200.7 L 300.4,198.1\" style=\"fill:none;stroke:#000000;stroke-width:2.0px;stroke-linecap:butt;stroke-linejoin:miter;stroke-opacity:1;\"/>\n",
       "<path class=\"atom-0\" d=\"M 267.0 268.5 Q 267.0 261.7, 270.4 257.9 Q 273.7 254.1, 280.0 254.1 Q 286.3 254.1, 289.6 257.9 Q 293.0 261.7, 293.0 268.5 Q 293.0 275.4, 289.6 279.3 Q 286.2 283.2, 280.0 283.2 Q 273.8 283.2, 270.4 279.3 Q 267.0 275.4, 267.0 268.5 M 280.0 280.0 Q 284.3 280.0, 286.6 277.1 Q 289.0 274.2, 289.0 268.5 Q 289.0 263.0, 286.6 260.2 Q 284.3 257.3, 280.0 257.3 Q 275.7 257.3, 273.3 260.1 Q 271.0 262.9, 271.0 268.5 Q 271.0 274.2, 273.3 277.1 Q 275.7 280.0, 280.0 280.0 \" fill=\"#FF0000\"/>\n",
       "<path class=\"atom-0\" d=\"M 297.0 258.7 L 306.7 258.7 L 306.7 260.8 L 297.0 260.8 L 297.0 258.7 \" fill=\"#FF0000\"/>\n",
       "<path class=\"atom-2\" d=\"M 359.5 186.3 Q 359.5 179.5, 362.8 175.7 Q 366.2 171.9, 372.5 171.9 Q 378.7 171.9, 382.1 175.7 Q 385.5 179.5, 385.5 186.3 Q 385.5 193.1, 382.1 197.1 Q 378.7 200.9, 372.5 200.9 Q 366.2 200.9, 362.8 197.1 Q 359.5 193.2, 359.5 186.3 M 372.5 197.7 Q 376.8 197.7, 379.1 194.9 Q 381.5 191.9, 381.5 186.3 Q 381.5 180.7, 379.1 177.9 Q 376.8 175.1, 372.5 175.1 Q 368.1 175.1, 365.8 177.9 Q 363.5 180.7, 363.5 186.3 Q 363.5 192.0, 365.8 194.9 Q 368.1 197.7, 372.5 197.7 \" fill=\"#FF0000\"/>\n",
       "<path class=\"atom-4\" d=\"M 187.4 108.9 L 191.2 108.9 L 191.2 120.9 L 205.7 120.9 L 205.7 108.9 L 209.5 108.9 L 209.5 137.2 L 205.7 137.2 L 205.7 124.1 L 191.2 124.1 L 191.2 137.2 L 187.4 137.2 L 187.4 108.9 \" fill=\"#000000\"/>\n",
       "<path class=\"atom-6\" d=\"M 334.0 84.2 L 337.8 84.2 L 337.8 96.2 L 352.3 96.2 L 352.3 84.2 L 356.1 84.2 L 356.1 112.5 L 352.3 112.5 L 352.3 99.4 L 337.8 99.4 L 337.8 112.5 L 334.0 112.5 L 334.0 84.2 \" fill=\"#000000\"/>\n",
       "<path class=\"atom-7\" d=\"M 314.9 14.7 L 318.7 14.7 L 318.7 26.7 L 333.2 26.7 L 333.2 14.7 L 337.0 14.7 L 337.0 43.0 L 333.2 43.0 L 333.2 29.9 L 318.7 29.9 L 318.7 43.0 L 314.9 43.0 L 314.9 14.7 \" fill=\"#000000\"/>\n",
       "<path class=\"atom-8\" d=\"M 214.0 15.3 L 217.8 15.3 L 217.8 27.3 L 232.3 27.3 L 232.3 15.3 L 236.2 15.3 L 236.2 43.6 L 232.3 43.6 L 232.3 30.5 L 217.8 30.5 L 217.8 43.6 L 214.0 43.6 L 214.0 15.3 \" fill=\"#000000\"/>\n",
       "<path class=\"atom-9\" d=\"M 189.1 187.1 L 198.4 202.1 Q 199.3 203.6, 200.8 206.2 Q 202.3 208.9, 202.4 209.1 L 202.4 187.1 L 206.1 187.1 L 206.1 215.4 L 202.2 215.4 L 192.3 199.0 Q 191.1 197.1, 189.9 194.9 Q 188.7 192.7, 188.3 192.0 L 188.3 215.4 L 184.6 215.4 L 184.6 187.1 L 189.1 187.1 \" fill=\"#0000FF\"/>\n",
       "<path class=\"atom-9\" d=\"M 211.4 192.2 L 216.4 192.2 L 216.4 186.9 L 218.6 186.9 L 218.6 192.2 L 223.8 192.2 L 223.8 194.1 L 218.6 194.1 L 218.6 199.4 L 216.4 199.4 L 216.4 194.1 L 211.4 194.1 L 211.4 192.2 \" fill=\"#0000FF\"/>\n",
       "<path class=\"atom-10\" d=\"M 133.7 136.2 L 137.5 136.2 L 137.5 148.3 L 152.0 148.3 L 152.0 136.2 L 155.8 136.2 L 155.8 164.5 L 152.0 164.5 L 152.0 151.5 L 137.5 151.5 L 137.5 164.5 L 133.7 164.5 L 133.7 136.2 \" fill=\"#000000\"/>\n",
       "<path class=\"atom-11\" d=\"M 114.5 203.1 L 118.4 203.1 L 118.4 215.1 L 132.9 215.1 L 132.9 203.1 L 136.7 203.1 L 136.7 231.4 L 132.9 231.4 L 132.9 218.3 L 118.4 218.3 L 118.4 231.4 L 114.5 231.4 L 114.5 203.1 \" fill=\"#000000\"/>\n",
       "<path class=\"atom-12\" d=\"M 198.8 257.0 L 202.7 257.0 L 202.7 269.0 L 217.2 269.0 L 217.2 257.0 L 221.0 257.0 L 221.0 285.3 L 217.2 285.3 L 217.2 272.2 L 202.7 272.2 L 202.7 285.3 L 198.8 285.3 L 198.8 257.0 \" fill=\"#000000\"/>\n",
       "</svg>"
      ],
      "text/plain": [
       "<IPython.core.display.SVG object>"
      ]
     },
     "execution_count": 8,
     "metadata": {},
     "output_type": "execute_result"
    }
   ],
   "source": [
    "by_hand = Molecule()\n",
    "by_hand.name = \"Zwitterionic l-Alanine\"\n",
    "\n",
    "by_hand.add_atom(\n",
    "    atomic_number=8,  # Atomic number 8 is Oxygen\n",
    "    formal_charge=-1,  # Formal negative charge\n",
    "    is_aromatic=False,  # Atom is not part of an aromatic system\n",
    "    stereochemistry=None,  # Optional argument; \"R\" or \"S\" stereochemistry\n",
    "    name=\"O-\",  # Optional argument; descriptive name for the atom\n",
    ")\n",
    "by_hand.add_atom(6, 0, False, name=\"C\")\n",
    "by_hand.add_atom(8, 0, False, name=\"O\")\n",
    "by_hand.add_atom(6, 0, False, stereochemistry=\"S\", name=\"CA\")\n",
    "by_hand.add_atom(1, 0, False, name=\"CAH\")\n",
    "by_hand.add_atom(6, 0, False, name=\"CB\")\n",
    "by_hand.add_atom(1, 0, False, name=\"HB1\")\n",
    "by_hand.add_atom(1, 0, False, name=\"HB2\")\n",
    "by_hand.add_atom(1, 0, False, name=\"HB3\")\n",
    "by_hand.add_atom(7, +1, False, name=\"N+\")\n",
    "by_hand.add_atom(1, 0, False, name=\"HN1\")\n",
    "by_hand.add_atom(1, 0, False, name=\"HN2\")\n",
    "by_hand.add_atom(1, 0, False, name=\"HN3\")\n",
    "\n",
    "\n",
    "by_hand.add_bond(\n",
    "    atom1=0,  # First (zero-indexed) atom specified above (\"O-\")\n",
    "    atom2=1,  # Second atom specified above (\"C\")\n",
    "    bond_order=1,  # Single bond\n",
    "    is_aromatic=False,  # Bond is not aromatic\n",
    "    stereochemistry=None,  # Optional argument; \"E\" or \"Z\" stereochemistry\n",
    "    fractional_bond_order=None,  # Optional argument; Wiberg (or similar) bond order\n",
    ")\n",
    "by_hand.add_bond(1, 2, 2, False)  # C = O\n",
    "by_hand.add_bond(1, 3, 1, False)  # C - CA\n",
    "by_hand.add_bond(3, 4, 1, False)  # CA - CAH\n",
    "by_hand.add_bond(3, 5, 1, False)  # CA - CB\n",
    "by_hand.add_bond(5, 6, 1, False)  # CB - HB1\n",
    "by_hand.add_bond(5, 7, 1, False)  # CB - HB2\n",
    "by_hand.add_bond(5, 8, 1, False)  # CB - HB3\n",
    "by_hand.add_bond(3, 9, 1, False)  # CB - N+\n",
    "by_hand.add_bond(9, 10, 1, False)  # N+ - HN1\n",
    "by_hand.add_bond(9, 11, 1, False)  # N+ - HN2\n",
    "by_hand.add_bond(9, 12, 1, False)  # N+ - HN3\n",
    "\n",
    "assert zw_l_alanine.is_isomorphic_with(by_hand)\n",
    "\n",
    "by_hand.visualize()"
   ]
  },
  {
   "cell_type": "markdown",
   "id": "15931dd9",
   "metadata": {},
   "source": [
    "### From a dictionary\n",
    "\n",
    "Rather than build up the `Molecule` one method at a time, the [`Molecule.from_dict()`](openff.toolkit.topology.Molecule.from_dict) method can construct a `Molecule` in one shot from a Python `dict` that describes the molecule in question. This allows `Molecule` objects to be written to and read from disk in any format that can be interpreted as a `dict`; this mechanism underlies the [`from_bson()`](openff.toolkit.topology.Molecule.from_bson), [`from_json()`](openff.toolkit.topology.Molecule.from_json), [`from_messagepack()`](openff.toolkit.topology.Molecule.from_messagepack), [`from_pickle()`](openff.toolkit.topology.Molecule.from_pickle), [`from_toml()`](openff.toolkit.topology.Molecule.from_toml), [`from_xml()`](openff.toolkit.topology.Molecule.from_xml), and [`from_yaml()`](openff.toolkit.topology.Molecule.from_yaml) methods.\n",
    "\n",
    "This format can get very verbose, as it is intended for serialization, so this example uses hydrogen cyanide rather than alanine."
   ]
  },
  {
   "cell_type": "code",
   "execution_count": 9,
   "id": "dc756a7f",
   "metadata": {},
   "outputs": [
    {
     "data": {
      "image/svg+xml": [
       "<svg xmlns=\"http://www.w3.org/2000/svg\" xmlns:rdkit=\"http://www.rdkit.org/xml\" xmlns:xlink=\"http://www.w3.org/1999/xlink\" version=\"1.1\" baseProfile=\"full\" xml:space=\"preserve\" width=\"500px\" height=\"300px\" viewBox=\"0 0 500 300\">\n",
       "<!-- END OF HEADER -->\n",
       "<rect style=\"opacity:1.0;fill:#FFFFFF;stroke:none\" width=\"500.0\" height=\"300.0\" x=\"0.0\" y=\"0.0\"> </rect>\n",
       "<path class=\"bond-0 atom-0 atom-1\" d=\"M 100.7,236.1 L 250.2,150.5\" style=\"fill:none;fill-rule:evenodd;stroke:#000000;stroke-width:2.0px;stroke-linecap:butt;stroke-linejoin:miter;stroke-opacity:1\"/>\n",
       "<path class=\"bond-1 atom-1 atom-2\" d=\"M 250.2,150.5 L 325.1,107.7\" style=\"fill:none;fill-rule:evenodd;stroke:#000000;stroke-width:2.0px;stroke-linecap:butt;stroke-linejoin:miter;stroke-opacity:1\"/>\n",
       "<path class=\"bond-1 atom-1 atom-2\" d=\"M 325.1,107.7 L 399.9,64.8\" style=\"fill:none;fill-rule:evenodd;stroke:#0000FF;stroke-width:2.0px;stroke-linecap:butt;stroke-linejoin:miter;stroke-opacity:1\"/>\n",
       "<path class=\"bond-1 atom-1 atom-2\" d=\"M 235.8,125.5 L 310.7,82.6\" style=\"fill:none;fill-rule:evenodd;stroke:#000000;stroke-width:2.0px;stroke-linecap:butt;stroke-linejoin:miter;stroke-opacity:1\"/>\n",
       "<path class=\"bond-1 atom-1 atom-2\" d=\"M 310.7,82.6 L 385.6,39.8\" style=\"fill:none;fill-rule:evenodd;stroke:#0000FF;stroke-width:2.0px;stroke-linecap:butt;stroke-linejoin:miter;stroke-opacity:1\"/>\n",
       "<path class=\"bond-1 atom-1 atom-2\" d=\"M 264.5,175.6 L 339.4,132.7\" style=\"fill:none;fill-rule:evenodd;stroke:#000000;stroke-width:2.0px;stroke-linecap:butt;stroke-linejoin:miter;stroke-opacity:1\"/>\n",
       "<path class=\"bond-1 atom-1 atom-2\" d=\"M 339.4,132.7 L 414.3,89.8\" style=\"fill:none;fill-rule:evenodd;stroke:#0000FF;stroke-width:2.0px;stroke-linecap:butt;stroke-linejoin:miter;stroke-opacity:1\"/>\n",
       "<path d=\"M 242.7,154.8 L 250.2,150.5 L 253.9,148.4\" style=\"fill:none;stroke:#000000;stroke-width:2.0px;stroke-linecap:butt;stroke-linejoin:miter;stroke-opacity:1;\"/>\n",
       "<path class=\"atom-0\" d=\"M 72.2 231.9 L 76.1 231.9 L 76.1 243.9 L 90.6 243.9 L 90.6 231.9 L 94.4 231.9 L 94.4 260.2 L 90.6 260.2 L 90.6 247.1 L 76.1 247.1 L 76.1 260.2 L 72.2 260.2 L 72.2 231.9 \" fill=\"#000000\"/>\n",
       "<path class=\"atom-2\" d=\"M 410.8 40.9 L 420.0 55.9 Q 421.0 57.3, 422.4 60.0 Q 423.9 62.7, 424.0 62.9 L 424.0 40.9 L 427.8 40.9 L 427.8 69.2 L 423.9 69.2 L 413.9 52.8 Q 412.8 50.9, 411.5 48.7 Q 410.3 46.5, 410.0 45.8 L 410.0 69.2 L 406.3 69.2 L 406.3 40.9 L 410.8 40.9 \" fill=\"#0000FF\"/>\n",
       "</svg>"
      ],
      "text/plain": [
       "<IPython.core.display.SVG object>"
      ]
     },
     "execution_count": 9,
     "metadata": {},
     "output_type": "execute_result"
    }
   ],
   "source": [
    "molecule_dict = {\n",
    "    \"name\": \"\",\n",
    "    \"atoms\": [\n",
    "        {\n",
    "            \"atomic_number\": 1,\n",
    "            \"formal_charge\": 0,\n",
    "            \"is_aromatic\": False,\n",
    "            \"stereochemistry\": None,\n",
    "            \"name\": \"H\",\n",
    "        },\n",
    "        {\n",
    "            \"atomic_number\": 6,\n",
    "            \"formal_charge\": 0,\n",
    "            \"is_aromatic\": False,\n",
    "            \"stereochemistry\": None,\n",
    "            \"name\": \"C\",\n",
    "        },\n",
    "        {\n",
    "            \"atomic_number\": 7,\n",
    "            \"formal_charge\": 0,\n",
    "            \"is_aromatic\": False,\n",
    "            \"stereochemistry\": None,\n",
    "            \"name\": \"N\",\n",
    "        },\n",
    "    ],\n",
    "    \"virtual_sites\": [],\n",
    "    \"bonds\": [\n",
    "        {\n",
    "            \"atom1\": 0,\n",
    "            \"atom2\": 1,\n",
    "            \"bond_order\": 1,\n",
    "            \"is_aromatic\": False,\n",
    "            \"stereochemistry\": None,\n",
    "            \"fractional_bond_order\": None,\n",
    "        },\n",
    "        {\n",
    "            \"atom1\": 1,\n",
    "            \"atom2\": 2,\n",
    "            \"bond_order\": 3,\n",
    "            \"is_aromatic\": False,\n",
    "            \"stereochemistry\": None,\n",
    "            \"fractional_bond_order\": None,\n",
    "        },\n",
    "    ],\n",
    "    \"properties\": {},\n",
    "    \"conformers\": None,\n",
    "    \"partial_charges\": None,\n",
    "    \"partial_charges_unit\": None,\n",
    "    \"hierarchy_schemes\": {},\n",
    "}\n",
    "\n",
    "from_dictionary = Molecule.from_dict(molecule_dict)\n",
    "\n",
    "from_dictionary.visualize()"
   ]
  },
  {
   "cell_type": "markdown",
   "id": "1b50a800",
   "metadata": {},
   "source": [
    "## From a file\n",
    "\n",
    "We can construct a `Molecule` from a file or file-like object with the [`from_file()`](openff.toolkit.topology.Molecule.from_file) method. We're a bit constrained in what file formats we can accept, because they need to provide all the information needed to construct the molecular graph; not just coordinates, but also elements, formal charges, bond orders, and stereochemistry."
   ]
  },
  {
   "cell_type": "markdown",
   "id": "79aec960",
   "metadata": {},
   "source": [
    "### From SDF file\n",
    "\n",
    "We generally recommend the SDF format. The SDF file used here can be found [on GitHub](https://github.com/openforcefield/openff-toolkit/blob/main/docs/users/zw_l_alanine.sdf)"
   ]
  },
  {
   "cell_type": "code",
   "execution_count": 10,
   "id": "a78e4e0f",
   "metadata": {},
   "outputs": [
    {
     "data": {
      "image/svg+xml": [
       "<svg xmlns=\"http://www.w3.org/2000/svg\" xmlns:rdkit=\"http://www.rdkit.org/xml\" xmlns:xlink=\"http://www.w3.org/1999/xlink\" version=\"1.1\" baseProfile=\"full\" xml:space=\"preserve\" width=\"500px\" height=\"300px\" viewBox=\"0 0 500 300\">\n",
       "<!-- END OF HEADER -->\n",
       "<rect style=\"opacity:1.0;fill:#FFFFFF;stroke:none\" width=\"500.0\" height=\"300.0\" x=\"0.0\" y=\"0.0\"> </rect>\n",
       "<path class=\"bond-0 atom-0 atom-1\" d=\"M 276.5,80.1 L 256.1,148.4\" style=\"fill:none;fill-rule:evenodd;stroke:#000000;stroke-width:2.0px;stroke-linecap:butt;stroke-linejoin:miter;stroke-opacity:1\"/>\n",
       "<path class=\"bond-1 atom-1 atom-2\" d=\"M 256.1,148.4 L 235.3,166.5\" style=\"fill:none;fill-rule:evenodd;stroke:#000000;stroke-width:2.0px;stroke-linecap:butt;stroke-linejoin:miter;stroke-opacity:1\"/>\n",
       "<path class=\"bond-1 atom-1 atom-2\" d=\"M 235.3,166.5 L 214.5,184.6\" style=\"fill:none;fill-rule:evenodd;stroke:#0000FF;stroke-width:2.0px;stroke-linecap:butt;stroke-linejoin:miter;stroke-opacity:1\"/>\n",
       "<path class=\"bond-2 atom-1 atom-3\" d=\"M 256.1,148.4 L 302.8,200.7\" style=\"fill:none;fill-rule:evenodd;stroke:#000000;stroke-width:2.0px;stroke-linecap:butt;stroke-linejoin:miter;stroke-opacity:1\"/>\n",
       "<path class=\"bond-3 atom-3 atom-4\" d=\"M 302.8,200.7 L 294.2,226.3\" style=\"fill:none;fill-rule:evenodd;stroke:#000000;stroke-width:2.0px;stroke-linecap:butt;stroke-linejoin:miter;stroke-opacity:1\"/>\n",
       "<path class=\"bond-3 atom-3 atom-4\" d=\"M 294.2,226.3 L 285.6,251.8\" style=\"fill:none;fill-rule:evenodd;stroke:#FF0000;stroke-width:2.0px;stroke-linecap:butt;stroke-linejoin:miter;stroke-opacity:1\"/>\n",
       "<path class=\"bond-4 atom-3 atom-5\" d=\"M 300.8,206.6 L 329.5,200.6\" style=\"fill:none;fill-rule:evenodd;stroke:#000000;stroke-width:2.0px;stroke-linecap:butt;stroke-linejoin:miter;stroke-opacity:1\"/>\n",
       "<path class=\"bond-4 atom-3 atom-5\" d=\"M 329.5,200.6 L 358.2,194.6\" style=\"fill:none;fill-rule:evenodd;stroke:#FF0000;stroke-width:2.0px;stroke-linecap:butt;stroke-linejoin:miter;stroke-opacity:1\"/>\n",
       "<path class=\"bond-4 atom-3 atom-5\" d=\"M 298.7,196.1 L 327.3,190.1\" style=\"fill:none;fill-rule:evenodd;stroke:#000000;stroke-width:2.0px;stroke-linecap:butt;stroke-linejoin:miter;stroke-opacity:1\"/>\n",
       "<path class=\"bond-4 atom-3 atom-5\" d=\"M 327.3,190.1 L 356.0,184.1\" style=\"fill:none;fill-rule:evenodd;stroke:#FF0000;stroke-width:2.0px;stroke-linecap:butt;stroke-linejoin:miter;stroke-opacity:1\"/>\n",
       "<path class=\"bond-5 atom-0 atom-6\" d=\"M 276.5,80.1 L 331.6,94.8\" style=\"fill:none;fill-rule:evenodd;stroke:#000000;stroke-width:2.0px;stroke-linecap:butt;stroke-linejoin:miter;stroke-opacity:1\"/>\n",
       "<path class=\"bond-6 atom-0 atom-7\" d=\"M 276.5,80.1 L 312.5,42.8\" style=\"fill:none;fill-rule:evenodd;stroke:#000000;stroke-width:2.0px;stroke-linecap:butt;stroke-linejoin:miter;stroke-opacity:1\"/>\n",
       "<path class=\"bond-7 atom-0 atom-8\" d=\"M 276.5,80.1 L 238.5,42.7\" style=\"fill:none;fill-rule:evenodd;stroke:#000000;stroke-width:2.0px;stroke-linecap:butt;stroke-linejoin:miter;stroke-opacity:1\"/>\n",
       "<path class=\"bond-8 atom-1 atom-9\" d=\"M 252.7,147.4 L 253.0,146.6\" style=\"fill:none;fill-rule:evenodd;stroke:#000000;stroke-width:1.0px;stroke-linecap:butt;stroke-linejoin:miter;stroke-opacity:1\"/>\n",
       "<path class=\"bond-8 atom-1 atom-9\" d=\"M 249.3,146.3 L 250.0,144.8\" style=\"fill:none;fill-rule:evenodd;stroke:#000000;stroke-width:1.0px;stroke-linecap:butt;stroke-linejoin:miter;stroke-opacity:1\"/>\n",
       "<path class=\"bond-8 atom-1 atom-9\" d=\"M 245.9,145.3 L 246.9,143.0\" style=\"fill:none;fill-rule:evenodd;stroke:#000000;stroke-width:1.0px;stroke-linecap:butt;stroke-linejoin:miter;stroke-opacity:1\"/>\n",
       "<path class=\"bond-8 atom-1 atom-9\" d=\"M 242.5,144.3 L 243.9,141.2\" style=\"fill:none;fill-rule:evenodd;stroke:#000000;stroke-width:1.0px;stroke-linecap:butt;stroke-linejoin:miter;stroke-opacity:1\"/>\n",
       "<path class=\"bond-8 atom-1 atom-9\" d=\"M 239.2,143.2 L 240.8,139.4\" style=\"fill:none;fill-rule:evenodd;stroke:#000000;stroke-width:1.0px;stroke-linecap:butt;stroke-linejoin:miter;stroke-opacity:1\"/>\n",
       "<path class=\"bond-8 atom-1 atom-9\" d=\"M 235.8,142.2 L 237.8,137.7\" style=\"fill:none;fill-rule:evenodd;stroke:#000000;stroke-width:1.0px;stroke-linecap:butt;stroke-linejoin:miter;stroke-opacity:1\"/>\n",
       "<path class=\"bond-8 atom-1 atom-9\" d=\"M 232.4,141.1 L 234.7,135.9\" style=\"fill:none;fill-rule:evenodd;stroke:#000000;stroke-width:1.0px;stroke-linecap:butt;stroke-linejoin:miter;stroke-opacity:1\"/>\n",
       "<path class=\"bond-8 atom-1 atom-9\" d=\"M 229.0,140.1 L 231.6,134.1\" style=\"fill:none;fill-rule:evenodd;stroke:#000000;stroke-width:1.0px;stroke-linecap:butt;stroke-linejoin:miter;stroke-opacity:1\"/>\n",
       "<path class=\"bond-8 atom-1 atom-9\" d=\"M 225.6,139.1 L 228.6,132.3\" style=\"fill:none;fill-rule:evenodd;stroke:#000000;stroke-width:1.0px;stroke-linecap:butt;stroke-linejoin:miter;stroke-opacity:1\"/>\n",
       "<path class=\"bond-8 atom-1 atom-9\" d=\"M 222.2,138.0 L 225.5,130.5\" style=\"fill:none;fill-rule:evenodd;stroke:#000000;stroke-width:1.0px;stroke-linecap:butt;stroke-linejoin:miter;stroke-opacity:1\"/>\n",
       "<path class=\"bond-8 atom-1 atom-9\" d=\"M 218.8,137.0 L 222.5,128.7\" style=\"fill:none;fill-rule:evenodd;stroke:#000000;stroke-width:1.0px;stroke-linecap:butt;stroke-linejoin:miter;stroke-opacity:1\"/>\n",
       "<path class=\"bond-8 atom-1 atom-9\" d=\"M 215.5,135.9 L 219.4,126.9\" style=\"fill:none;fill-rule:evenodd;stroke:#000000;stroke-width:1.0px;stroke-linecap:butt;stroke-linejoin:miter;stroke-opacity:1\"/>\n",
       "<path class=\"bond-8 atom-1 atom-9\" d=\"M 212.1,134.9 L 216.4,125.1\" style=\"fill:none;fill-rule:evenodd;stroke:#000000;stroke-width:1.0px;stroke-linecap:butt;stroke-linejoin:miter;stroke-opacity:1\"/>\n",
       "<path class=\"bond-9 atom-2 atom-10\" d=\"M 182.3,188.1 L 170.2,176.0\" style=\"fill:none;fill-rule:evenodd;stroke:#0000FF;stroke-width:2.0px;stroke-linecap:butt;stroke-linejoin:miter;stroke-opacity:1\"/>\n",
       "<path class=\"bond-9 atom-2 atom-10\" d=\"M 170.2,176.0 L 158.2,163.9\" style=\"fill:none;fill-rule:evenodd;stroke:#000000;stroke-width:2.0px;stroke-linecap:butt;stroke-linejoin:miter;stroke-opacity:1\"/>\n",
       "<path class=\"bond-10 atom-2 atom-11\" d=\"M 182.3,204.3 L 160.7,209.2\" style=\"fill:none;fill-rule:evenodd;stroke:#0000FF;stroke-width:2.0px;stroke-linecap:butt;stroke-linejoin:miter;stroke-opacity:1\"/>\n",
       "<path class=\"bond-10 atom-2 atom-11\" d=\"M 160.7,209.2 L 139.1,214.2\" style=\"fill:none;fill-rule:evenodd;stroke:#000000;stroke-width:2.0px;stroke-linecap:butt;stroke-linejoin:miter;stroke-opacity:1\"/>\n",
       "<path class=\"bond-11 atom-2 atom-12\" d=\"M 198.8,217.8 L 202.6,236.2\" style=\"fill:none;fill-rule:evenodd;stroke:#0000FF;stroke-width:2.0px;stroke-linecap:butt;stroke-linejoin:miter;stroke-opacity:1\"/>\n",
       "<path class=\"bond-11 atom-2 atom-12\" d=\"M 202.6,236.2 L 206.5,254.6\" style=\"fill:none;fill-rule:evenodd;stroke:#000000;stroke-width:2.0px;stroke-linecap:butt;stroke-linejoin:miter;stroke-opacity:1\"/>\n",
       "<path d=\"M 300.4,198.1 L 302.8,200.7 L 302.3,202.0\" style=\"fill:none;stroke:#000000;stroke-width:2.0px;stroke-linecap:butt;stroke-linejoin:miter;stroke-opacity:1;\"/>\n",
       "<path class=\"atom-2\" d=\"M 189.1 187.1 L 198.4 202.1 Q 199.3 203.6, 200.8 206.2 Q 202.3 208.9, 202.4 209.1 L 202.4 187.1 L 206.1 187.1 L 206.1 215.4 L 202.2 215.4 L 192.3 199.0 Q 191.1 197.1, 189.9 194.9 Q 188.7 192.7, 188.3 192.0 L 188.3 215.4 L 184.6 215.4 L 184.6 187.1 L 189.1 187.1 \" fill=\"#0000FF\"/>\n",
       "<path class=\"atom-2\" d=\"M 211.4 192.2 L 216.4 192.2 L 216.4 186.9 L 218.6 186.9 L 218.6 192.2 L 223.8 192.2 L 223.8 194.1 L 218.6 194.1 L 218.6 199.4 L 216.4 199.4 L 216.4 194.1 L 211.4 194.1 L 211.4 192.2 \" fill=\"#0000FF\"/>\n",
       "<path class=\"atom-4\" d=\"M 267.0 268.5 Q 267.0 261.7, 270.4 257.9 Q 273.7 254.1, 280.0 254.1 Q 286.3 254.1, 289.6 257.9 Q 293.0 261.7, 293.0 268.5 Q 293.0 275.4, 289.6 279.3 Q 286.2 283.2, 280.0 283.2 Q 273.8 283.2, 270.4 279.3 Q 267.0 275.4, 267.0 268.5 M 280.0 280.0 Q 284.3 280.0, 286.6 277.1 Q 289.0 274.2, 289.0 268.5 Q 289.0 263.0, 286.6 260.2 Q 284.3 257.3, 280.0 257.3 Q 275.7 257.3, 273.3 260.1 Q 271.0 262.9, 271.0 268.5 Q 271.0 274.2, 273.3 277.1 Q 275.7 280.0, 280.0 280.0 \" fill=\"#FF0000\"/>\n",
       "<path class=\"atom-4\" d=\"M 297.0 258.7 L 306.7 258.7 L 306.7 260.8 L 297.0 260.8 L 297.0 258.7 \" fill=\"#FF0000\"/>\n",
       "<path class=\"atom-5\" d=\"M 359.5 186.3 Q 359.5 179.5, 362.8 175.7 Q 366.2 171.9, 372.5 171.9 Q 378.7 171.9, 382.1 175.7 Q 385.5 179.5, 385.5 186.3 Q 385.5 193.1, 382.1 197.1 Q 378.7 200.9, 372.5 200.9 Q 366.2 200.9, 362.8 197.1 Q 359.5 193.2, 359.5 186.3 M 372.5 197.7 Q 376.8 197.7, 379.1 194.9 Q 381.5 191.9, 381.5 186.3 Q 381.5 180.7, 379.1 177.9 Q 376.8 175.1, 372.5 175.1 Q 368.1 175.1, 365.8 177.9 Q 363.5 180.7, 363.5 186.3 Q 363.5 192.0, 365.8 194.9 Q 368.1 197.7, 372.5 197.7 \" fill=\"#FF0000\"/>\n",
       "<path class=\"atom-6\" d=\"M 334.0 84.2 L 337.8 84.2 L 337.8 96.2 L 352.3 96.2 L 352.3 84.2 L 356.1 84.2 L 356.1 112.5 L 352.3 112.5 L 352.3 99.4 L 337.8 99.4 L 337.8 112.5 L 334.0 112.5 L 334.0 84.2 \" fill=\"#000000\"/>\n",
       "<path class=\"atom-7\" d=\"M 314.9 14.7 L 318.7 14.7 L 318.7 26.7 L 333.2 26.7 L 333.2 14.7 L 337.0 14.7 L 337.0 43.0 L 333.2 43.0 L 333.2 29.9 L 318.7 29.9 L 318.7 43.0 L 314.9 43.0 L 314.9 14.7 \" fill=\"#000000\"/>\n",
       "<path class=\"atom-8\" d=\"M 214.0 15.3 L 217.8 15.3 L 217.8 27.3 L 232.3 27.3 L 232.3 15.3 L 236.2 15.3 L 236.2 43.6 L 232.3 43.6 L 232.3 30.5 L 217.8 30.5 L 217.8 43.6 L 214.0 43.6 L 214.0 15.3 \" fill=\"#000000\"/>\n",
       "<path class=\"atom-9\" d=\"M 187.4 108.9 L 191.2 108.9 L 191.2 120.9 L 205.7 120.9 L 205.7 108.9 L 209.5 108.9 L 209.5 137.2 L 205.7 137.2 L 205.7 124.1 L 191.2 124.1 L 191.2 137.2 L 187.4 137.2 L 187.4 108.9 \" fill=\"#000000\"/>\n",
       "<path class=\"atom-10\" d=\"M 133.7 136.2 L 137.5 136.2 L 137.5 148.3 L 152.0 148.3 L 152.0 136.2 L 155.8 136.2 L 155.8 164.5 L 152.0 164.5 L 152.0 151.5 L 137.5 151.5 L 137.5 164.5 L 133.7 164.5 L 133.7 136.2 \" fill=\"#000000\"/>\n",
       "<path class=\"atom-11\" d=\"M 114.5 203.1 L 118.4 203.1 L 118.4 215.1 L 132.9 215.1 L 132.9 203.1 L 136.7 203.1 L 136.7 231.4 L 132.9 231.4 L 132.9 218.3 L 118.4 218.3 L 118.4 231.4 L 114.5 231.4 L 114.5 203.1 \" fill=\"#000000\"/>\n",
       "<path class=\"atom-12\" d=\"M 198.8 257.0 L 202.7 257.0 L 202.7 269.0 L 217.2 269.0 L 217.2 257.0 L 221.0 257.0 L 221.0 285.3 L 217.2 285.3 L 217.2 272.2 L 202.7 272.2 L 202.7 285.3 L 198.8 285.3 L 198.8 257.0 \" fill=\"#000000\"/>\n",
       "</svg>"
      ],
      "text/plain": [
       "<IPython.core.display.SVG object>"
      ]
     },
     "execution_count": 10,
     "metadata": {},
     "output_type": "execute_result"
    }
   ],
   "source": [
    "sdf_path = Molecule.from_file(\"zw_l_alanine.sdf\")\n",
    "assert zw_l_alanine.is_isomorphic_with(sdf_path)\n",
    "sdf_path.visualize()"
   ]
  },
  {
   "cell_type": "markdown",
   "id": "3508a6ed",
   "metadata": {},
   "source": [
    "### From SDF file object\n",
    "\n",
    "`from_file()` can also take a file object, rather than a path. Note that the object must be in binary mode!"
   ]
  },
  {
   "cell_type": "code",
   "execution_count": 11,
   "id": "1cecd71c",
   "metadata": {},
   "outputs": [
    {
     "data": {
      "image/svg+xml": [
       "<svg xmlns=\"http://www.w3.org/2000/svg\" xmlns:rdkit=\"http://www.rdkit.org/xml\" xmlns:xlink=\"http://www.w3.org/1999/xlink\" version=\"1.1\" baseProfile=\"full\" xml:space=\"preserve\" width=\"500px\" height=\"300px\" viewBox=\"0 0 500 300\">\n",
       "<!-- END OF HEADER -->\n",
       "<rect style=\"opacity:1.0;fill:#FFFFFF;stroke:none\" width=\"500.0\" height=\"300.0\" x=\"0.0\" y=\"0.0\"> </rect>\n",
       "<path class=\"bond-0 atom-0 atom-1\" d=\"M 276.5,80.1 L 256.1,148.4\" style=\"fill:none;fill-rule:evenodd;stroke:#000000;stroke-width:2.0px;stroke-linecap:butt;stroke-linejoin:miter;stroke-opacity:1\"/>\n",
       "<path class=\"bond-1 atom-1 atom-2\" d=\"M 256.1,148.4 L 235.3,166.5\" style=\"fill:none;fill-rule:evenodd;stroke:#000000;stroke-width:2.0px;stroke-linecap:butt;stroke-linejoin:miter;stroke-opacity:1\"/>\n",
       "<path class=\"bond-1 atom-1 atom-2\" d=\"M 235.3,166.5 L 214.5,184.6\" style=\"fill:none;fill-rule:evenodd;stroke:#0000FF;stroke-width:2.0px;stroke-linecap:butt;stroke-linejoin:miter;stroke-opacity:1\"/>\n",
       "<path class=\"bond-2 atom-1 atom-3\" d=\"M 256.1,148.4 L 302.8,200.7\" style=\"fill:none;fill-rule:evenodd;stroke:#000000;stroke-width:2.0px;stroke-linecap:butt;stroke-linejoin:miter;stroke-opacity:1\"/>\n",
       "<path class=\"bond-3 atom-3 atom-4\" d=\"M 302.8,200.7 L 294.2,226.3\" style=\"fill:none;fill-rule:evenodd;stroke:#000000;stroke-width:2.0px;stroke-linecap:butt;stroke-linejoin:miter;stroke-opacity:1\"/>\n",
       "<path class=\"bond-3 atom-3 atom-4\" d=\"M 294.2,226.3 L 285.6,251.8\" style=\"fill:none;fill-rule:evenodd;stroke:#FF0000;stroke-width:2.0px;stroke-linecap:butt;stroke-linejoin:miter;stroke-opacity:1\"/>\n",
       "<path class=\"bond-4 atom-3 atom-5\" d=\"M 300.8,206.6 L 329.5,200.6\" style=\"fill:none;fill-rule:evenodd;stroke:#000000;stroke-width:2.0px;stroke-linecap:butt;stroke-linejoin:miter;stroke-opacity:1\"/>\n",
       "<path class=\"bond-4 atom-3 atom-5\" d=\"M 329.5,200.6 L 358.2,194.6\" style=\"fill:none;fill-rule:evenodd;stroke:#FF0000;stroke-width:2.0px;stroke-linecap:butt;stroke-linejoin:miter;stroke-opacity:1\"/>\n",
       "<path class=\"bond-4 atom-3 atom-5\" d=\"M 298.7,196.1 L 327.3,190.1\" style=\"fill:none;fill-rule:evenodd;stroke:#000000;stroke-width:2.0px;stroke-linecap:butt;stroke-linejoin:miter;stroke-opacity:1\"/>\n",
       "<path class=\"bond-4 atom-3 atom-5\" d=\"M 327.3,190.1 L 356.0,184.1\" style=\"fill:none;fill-rule:evenodd;stroke:#FF0000;stroke-width:2.0px;stroke-linecap:butt;stroke-linejoin:miter;stroke-opacity:1\"/>\n",
       "<path class=\"bond-5 atom-0 atom-6\" d=\"M 276.5,80.1 L 331.6,94.8\" style=\"fill:none;fill-rule:evenodd;stroke:#000000;stroke-width:2.0px;stroke-linecap:butt;stroke-linejoin:miter;stroke-opacity:1\"/>\n",
       "<path class=\"bond-6 atom-0 atom-7\" d=\"M 276.5,80.1 L 312.5,42.8\" style=\"fill:none;fill-rule:evenodd;stroke:#000000;stroke-width:2.0px;stroke-linecap:butt;stroke-linejoin:miter;stroke-opacity:1\"/>\n",
       "<path class=\"bond-7 atom-0 atom-8\" d=\"M 276.5,80.1 L 238.5,42.7\" style=\"fill:none;fill-rule:evenodd;stroke:#000000;stroke-width:2.0px;stroke-linecap:butt;stroke-linejoin:miter;stroke-opacity:1\"/>\n",
       "<path class=\"bond-8 atom-1 atom-9\" d=\"M 252.7,147.4 L 253.0,146.6\" style=\"fill:none;fill-rule:evenodd;stroke:#000000;stroke-width:1.0px;stroke-linecap:butt;stroke-linejoin:miter;stroke-opacity:1\"/>\n",
       "<path class=\"bond-8 atom-1 atom-9\" d=\"M 249.3,146.3 L 250.0,144.8\" style=\"fill:none;fill-rule:evenodd;stroke:#000000;stroke-width:1.0px;stroke-linecap:butt;stroke-linejoin:miter;stroke-opacity:1\"/>\n",
       "<path class=\"bond-8 atom-1 atom-9\" d=\"M 245.9,145.3 L 246.9,143.0\" style=\"fill:none;fill-rule:evenodd;stroke:#000000;stroke-width:1.0px;stroke-linecap:butt;stroke-linejoin:miter;stroke-opacity:1\"/>\n",
       "<path class=\"bond-8 atom-1 atom-9\" d=\"M 242.5,144.3 L 243.9,141.2\" style=\"fill:none;fill-rule:evenodd;stroke:#000000;stroke-width:1.0px;stroke-linecap:butt;stroke-linejoin:miter;stroke-opacity:1\"/>\n",
       "<path class=\"bond-8 atom-1 atom-9\" d=\"M 239.2,143.2 L 240.8,139.4\" style=\"fill:none;fill-rule:evenodd;stroke:#000000;stroke-width:1.0px;stroke-linecap:butt;stroke-linejoin:miter;stroke-opacity:1\"/>\n",
       "<path class=\"bond-8 atom-1 atom-9\" d=\"M 235.8,142.2 L 237.8,137.7\" style=\"fill:none;fill-rule:evenodd;stroke:#000000;stroke-width:1.0px;stroke-linecap:butt;stroke-linejoin:miter;stroke-opacity:1\"/>\n",
       "<path class=\"bond-8 atom-1 atom-9\" d=\"M 232.4,141.1 L 234.7,135.9\" style=\"fill:none;fill-rule:evenodd;stroke:#000000;stroke-width:1.0px;stroke-linecap:butt;stroke-linejoin:miter;stroke-opacity:1\"/>\n",
       "<path class=\"bond-8 atom-1 atom-9\" d=\"M 229.0,140.1 L 231.6,134.1\" style=\"fill:none;fill-rule:evenodd;stroke:#000000;stroke-width:1.0px;stroke-linecap:butt;stroke-linejoin:miter;stroke-opacity:1\"/>\n",
       "<path class=\"bond-8 atom-1 atom-9\" d=\"M 225.6,139.1 L 228.6,132.3\" style=\"fill:none;fill-rule:evenodd;stroke:#000000;stroke-width:1.0px;stroke-linecap:butt;stroke-linejoin:miter;stroke-opacity:1\"/>\n",
       "<path class=\"bond-8 atom-1 atom-9\" d=\"M 222.2,138.0 L 225.5,130.5\" style=\"fill:none;fill-rule:evenodd;stroke:#000000;stroke-width:1.0px;stroke-linecap:butt;stroke-linejoin:miter;stroke-opacity:1\"/>\n",
       "<path class=\"bond-8 atom-1 atom-9\" d=\"M 218.8,137.0 L 222.5,128.7\" style=\"fill:none;fill-rule:evenodd;stroke:#000000;stroke-width:1.0px;stroke-linecap:butt;stroke-linejoin:miter;stroke-opacity:1\"/>\n",
       "<path class=\"bond-8 atom-1 atom-9\" d=\"M 215.5,135.9 L 219.4,126.9\" style=\"fill:none;fill-rule:evenodd;stroke:#000000;stroke-width:1.0px;stroke-linecap:butt;stroke-linejoin:miter;stroke-opacity:1\"/>\n",
       "<path class=\"bond-8 atom-1 atom-9\" d=\"M 212.1,134.9 L 216.4,125.1\" style=\"fill:none;fill-rule:evenodd;stroke:#000000;stroke-width:1.0px;stroke-linecap:butt;stroke-linejoin:miter;stroke-opacity:1\"/>\n",
       "<path class=\"bond-9 atom-2 atom-10\" d=\"M 182.3,188.1 L 170.2,176.0\" style=\"fill:none;fill-rule:evenodd;stroke:#0000FF;stroke-width:2.0px;stroke-linecap:butt;stroke-linejoin:miter;stroke-opacity:1\"/>\n",
       "<path class=\"bond-9 atom-2 atom-10\" d=\"M 170.2,176.0 L 158.2,163.9\" style=\"fill:none;fill-rule:evenodd;stroke:#000000;stroke-width:2.0px;stroke-linecap:butt;stroke-linejoin:miter;stroke-opacity:1\"/>\n",
       "<path class=\"bond-10 atom-2 atom-11\" d=\"M 182.3,204.3 L 160.7,209.2\" style=\"fill:none;fill-rule:evenodd;stroke:#0000FF;stroke-width:2.0px;stroke-linecap:butt;stroke-linejoin:miter;stroke-opacity:1\"/>\n",
       "<path class=\"bond-10 atom-2 atom-11\" d=\"M 160.7,209.2 L 139.1,214.2\" style=\"fill:none;fill-rule:evenodd;stroke:#000000;stroke-width:2.0px;stroke-linecap:butt;stroke-linejoin:miter;stroke-opacity:1\"/>\n",
       "<path class=\"bond-11 atom-2 atom-12\" d=\"M 198.8,217.8 L 202.6,236.2\" style=\"fill:none;fill-rule:evenodd;stroke:#0000FF;stroke-width:2.0px;stroke-linecap:butt;stroke-linejoin:miter;stroke-opacity:1\"/>\n",
       "<path class=\"bond-11 atom-2 atom-12\" d=\"M 202.6,236.2 L 206.5,254.6\" style=\"fill:none;fill-rule:evenodd;stroke:#000000;stroke-width:2.0px;stroke-linecap:butt;stroke-linejoin:miter;stroke-opacity:1\"/>\n",
       "<path d=\"M 300.4,198.1 L 302.8,200.7 L 302.3,202.0\" style=\"fill:none;stroke:#000000;stroke-width:2.0px;stroke-linecap:butt;stroke-linejoin:miter;stroke-opacity:1;\"/>\n",
       "<path class=\"atom-2\" d=\"M 189.1 187.1 L 198.4 202.1 Q 199.3 203.6, 200.8 206.2 Q 202.3 208.9, 202.4 209.1 L 202.4 187.1 L 206.1 187.1 L 206.1 215.4 L 202.2 215.4 L 192.3 199.0 Q 191.1 197.1, 189.9 194.9 Q 188.7 192.7, 188.3 192.0 L 188.3 215.4 L 184.6 215.4 L 184.6 187.1 L 189.1 187.1 \" fill=\"#0000FF\"/>\n",
       "<path class=\"atom-2\" d=\"M 211.4 192.2 L 216.4 192.2 L 216.4 186.9 L 218.6 186.9 L 218.6 192.2 L 223.8 192.2 L 223.8 194.1 L 218.6 194.1 L 218.6 199.4 L 216.4 199.4 L 216.4 194.1 L 211.4 194.1 L 211.4 192.2 \" fill=\"#0000FF\"/>\n",
       "<path class=\"atom-4\" d=\"M 267.0 268.5 Q 267.0 261.7, 270.4 257.9 Q 273.7 254.1, 280.0 254.1 Q 286.3 254.1, 289.6 257.9 Q 293.0 261.7, 293.0 268.5 Q 293.0 275.4, 289.6 279.3 Q 286.2 283.2, 280.0 283.2 Q 273.8 283.2, 270.4 279.3 Q 267.0 275.4, 267.0 268.5 M 280.0 280.0 Q 284.3 280.0, 286.6 277.1 Q 289.0 274.2, 289.0 268.5 Q 289.0 263.0, 286.6 260.2 Q 284.3 257.3, 280.0 257.3 Q 275.7 257.3, 273.3 260.1 Q 271.0 262.9, 271.0 268.5 Q 271.0 274.2, 273.3 277.1 Q 275.7 280.0, 280.0 280.0 \" fill=\"#FF0000\"/>\n",
       "<path class=\"atom-4\" d=\"M 297.0 258.7 L 306.7 258.7 L 306.7 260.8 L 297.0 260.8 L 297.0 258.7 \" fill=\"#FF0000\"/>\n",
       "<path class=\"atom-5\" d=\"M 359.5 186.3 Q 359.5 179.5, 362.8 175.7 Q 366.2 171.9, 372.5 171.9 Q 378.7 171.9, 382.1 175.7 Q 385.5 179.5, 385.5 186.3 Q 385.5 193.1, 382.1 197.1 Q 378.7 200.9, 372.5 200.9 Q 366.2 200.9, 362.8 197.1 Q 359.5 193.2, 359.5 186.3 M 372.5 197.7 Q 376.8 197.7, 379.1 194.9 Q 381.5 191.9, 381.5 186.3 Q 381.5 180.7, 379.1 177.9 Q 376.8 175.1, 372.5 175.1 Q 368.1 175.1, 365.8 177.9 Q 363.5 180.7, 363.5 186.3 Q 363.5 192.0, 365.8 194.9 Q 368.1 197.7, 372.5 197.7 \" fill=\"#FF0000\"/>\n",
       "<path class=\"atom-6\" d=\"M 334.0 84.2 L 337.8 84.2 L 337.8 96.2 L 352.3 96.2 L 352.3 84.2 L 356.1 84.2 L 356.1 112.5 L 352.3 112.5 L 352.3 99.4 L 337.8 99.4 L 337.8 112.5 L 334.0 112.5 L 334.0 84.2 \" fill=\"#000000\"/>\n",
       "<path class=\"atom-7\" d=\"M 314.9 14.7 L 318.7 14.7 L 318.7 26.7 L 333.2 26.7 L 333.2 14.7 L 337.0 14.7 L 337.0 43.0 L 333.2 43.0 L 333.2 29.9 L 318.7 29.9 L 318.7 43.0 L 314.9 43.0 L 314.9 14.7 \" fill=\"#000000\"/>\n",
       "<path class=\"atom-8\" d=\"M 214.0 15.3 L 217.8 15.3 L 217.8 27.3 L 232.3 27.3 L 232.3 15.3 L 236.2 15.3 L 236.2 43.6 L 232.3 43.6 L 232.3 30.5 L 217.8 30.5 L 217.8 43.6 L 214.0 43.6 L 214.0 15.3 \" fill=\"#000000\"/>\n",
       "<path class=\"atom-9\" d=\"M 187.4 108.9 L 191.2 108.9 L 191.2 120.9 L 205.7 120.9 L 205.7 108.9 L 209.5 108.9 L 209.5 137.2 L 205.7 137.2 L 205.7 124.1 L 191.2 124.1 L 191.2 137.2 L 187.4 137.2 L 187.4 108.9 \" fill=\"#000000\"/>\n",
       "<path class=\"atom-10\" d=\"M 133.7 136.2 L 137.5 136.2 L 137.5 148.3 L 152.0 148.3 L 152.0 136.2 L 155.8 136.2 L 155.8 164.5 L 152.0 164.5 L 152.0 151.5 L 137.5 151.5 L 137.5 164.5 L 133.7 164.5 L 133.7 136.2 \" fill=\"#000000\"/>\n",
       "<path class=\"atom-11\" d=\"M 114.5 203.1 L 118.4 203.1 L 118.4 215.1 L 132.9 215.1 L 132.9 203.1 L 136.7 203.1 L 136.7 231.4 L 132.9 231.4 L 132.9 218.3 L 118.4 218.3 L 118.4 231.4 L 114.5 231.4 L 114.5 203.1 \" fill=\"#000000\"/>\n",
       "<path class=\"atom-12\" d=\"M 198.8 257.0 L 202.7 257.0 L 202.7 269.0 L 217.2 269.0 L 217.2 257.0 L 221.0 257.0 L 221.0 285.3 L 217.2 285.3 L 217.2 272.2 L 202.7 272.2 L 202.7 285.3 L 198.8 285.3 L 198.8 257.0 \" fill=\"#000000\"/>\n",
       "</svg>"
      ],
      "text/plain": [
       "<IPython.core.display.SVG object>"
      ]
     },
     "execution_count": 11,
     "metadata": {},
     "output_type": "execute_result"
    }
   ],
   "source": [
    "with open(\"zw_l_alanine.sdf\", mode=\"rb\") as file:\n",
    "    sdf_object = Molecule.from_file(file, file_format=\"SDF\")\n",
    "\n",
    "assert zw_l_alanine.is_isomorphic_with(sdf_object)\n",
    "sdf_object.visualize()"
   ]
  },
  {
   "cell_type": "markdown",
   "id": "2554b932",
   "metadata": {},
   "source": [
    "### From PDB file\n",
    "\n",
    "The [`Topology.from_pdb()`] method is now the recommended method for loading all PDB files. It can interpret proteins, waters, ions, and small molecules from a PDB file as a Topology. It can infer the full chemical graph of the canonical amino acids (26 including protonation states) in capped and uncapped forms. It does this according to the [RCSB chemical component dictionary] --- the information is not explicitly in the input PDB file. The following block loads a PDB file containing a single protein.\n",
    "\n",
    "[`Topology.from_pdb()`]: openff.toolkit.topology.Topology.from_pdb\n",
    "[RCSB chemical component dictionary]: https://www.wwpdb.org/data/ccd"
   ]
  },
  {
   "cell_type": "code",
   "execution_count": 12,
   "id": "4f9d71e7",
   "metadata": {},
   "outputs": [
    {
     "data": {
      "application/vnd.jupyter.widget-view+json": {
       "model_id": "ed45bffd40994acda31854e03a5ec49d",
       "version_major": 2,
       "version_minor": 0
      },
      "text/plain": []
     },
     "metadata": {},
     "output_type": "display_data"
    },
    {
     "data": {
      "application/vnd.jupyter.widget-view+json": {
       "model_id": "0565964e025c4af199436a2fd7439a09",
       "version_major": 2,
       "version_minor": 0
      },
      "text/plain": [
       "NGLWidget()"
      ]
     },
     "metadata": {},
     "output_type": "display_data"
    }
   ],
   "source": [
    "from openff.toolkit.utils import get_data_file_path\n",
    "\n",
    "path = get_data_file_path(\"proteins/T4-protein.pdb\")\n",
    "topology = Topology.from_pdb(path)\n",
    "protein = topology.molecule(0)\n",
    "protein.visualize(\"nglview\")"
   ]
  },
  {
   "cell_type": "markdown",
   "id": "94d1e78f-8311-45b7-94c7-16242fa6865f",
   "metadata": {},
   "source": [
    "The following block loads a PDB containing two small molecules from PDB and SMILES."
   ]
  },
  {
   "cell_type": "code",
   "execution_count": 13,
   "id": "a6e68022-6568-4a7e-9d75-c14224079505",
   "metadata": {
    "tags": []
   },
   "outputs": [
    {
     "data": {
      "application/vnd.jupyter.widget-view+json": {
       "model_id": "fa5277b266d14c7ca7e8ba6fc8edec4a",
       "version_major": 2,
       "version_minor": 0
      },
      "text/plain": [
       "NGLWidget()"
      ]
     },
     "metadata": {},
     "output_type": "display_data"
    }
   ],
   "source": [
    "top_from_pdb_from_smiles = Topology.from_pdb(\n",
    "    get_data_file_path(\"molecules/po4_phenylphosphate.pdb\"),\n",
    "    unique_molecules=[\n",
    "        Molecule.from_smiles(\"P(=O)([O-])([O-])([O-])\"),\n",
    "        Molecule.from_smiles(\"C1=CC=CC=C1OP(=O)([O-1])([O-1])\"),\n",
    "    ],\n",
    ")\n",
    "\n",
    "top_from_pdb_from_smiles.molecule(0).visualize(\"nglview\")"
   ]
  },
  {
   "cell_type": "code",
   "execution_count": 14,
   "id": "21bba613-57bb-4ea0-bf87-a4cd6f5c63d5",
   "metadata": {
    "tags": []
   },
   "outputs": [
    {
     "data": {
      "application/vnd.jupyter.widget-view+json": {
       "model_id": "f842afe78e03419191fd9eb6dd1478b9",
       "version_major": 2,
       "version_minor": 0
      },
      "text/plain": [
       "NGLWidget()"
      ]
     },
     "metadata": {},
     "output_type": "display_data"
    }
   ],
   "source": [
    "top_from_pdb_from_smiles.molecule(1).visualize(\"nglview\")"
   ]
  },
  {
   "cell_type": "markdown",
   "id": "5906e016-a198-40ac-b79c-df04097ba17e",
   "metadata": {},
   "source": [
    "And for a maximalist example, the following block loads a single PDB file containing a protein, waters, ions, and a small molecule (the chemical identity of any small molecules must be provided with the `unique_molecules` keyword argument, and any small molecules' connectivity must have corresponding CONECT records in the PDB file)."
   ]
  },
  {
   "cell_type": "code",
   "execution_count": 15,
   "id": "c007183b-9a71-42aa-8e05-9f18fa2ef531",
   "metadata": {
    "tags": []
   },
   "outputs": [
    {
     "name": "stdout",
     "output_type": "stream",
     "text": [
      "[Cl-] : 12 molecule(s)\n",
      "[H]O[H] : 4413 molecule(s)\n",
      "protein : 1 molecule(s)\n",
      "[H]c1c(c(c2c(c1Oc3c(c(c(c(c3[H])F)[H])C#N)[H])C(C([C@@]2([H])O[H])(F)F)([H])[H])S(=O)(=O)C([H])([H])[H])[H] : 1 molecule(s)\n",
      "[Na+] : 17 molecule(s)\n"
     ]
    }
   ],
   "source": [
    "from openff.toolkit.utils import get_data_file_path\n",
    "\n",
    "ligand_path = get_data_file_path(\"molecules/PT2385.sdf\")\n",
    "ligand = Molecule.from_file(ligand_path)\n",
    "\n",
    "complex_path = get_data_file_path(\"proteins/5tbm_complex_solv_box.pdb\")\n",
    "topology = Topology.from_pdb(complex_path, unique_molecules=[ligand])\n",
    "\n",
    "molecule_smileses = [mol.to_smiles() for mol in topology.molecules]\n",
    "counts = molecule_smileses\n",
    "for smiles in sorted(set(molecule_smileses)):\n",
    "    count = molecule_smileses.count(smiles)\n",
    "    if len(smiles) > 1000:\n",
    "        smiles = \"protein\"\n",
    "    print(smiles, \":\", count, \"molecule(s)\")"
   ]
  },
  {
   "cell_type": "markdown",
   "id": "cbdde2f3",
   "metadata": {},
   "source": [
    "## Other string identification formats\n",
    "\n",
    "The OpenFF Toolkit supports a few text based molecular identity formats other than SMILES ([see above](#from-smiles))"
   ]
  },
  {
   "cell_type": "markdown",
   "id": "bcd5fce1",
   "metadata": {},
   "source": [
    "### From InChI\n",
    "\n",
    "The [`Molecule.from_inchi()`](openff.toolkit.topology.Molecule.from_inchi) method constructs a `Molecule` from an IUPAC [InChI](https://iupac.org/who-we-are/divisions/division-details/inchi/) string. Note that InChI cannot distinguish the zwitterionic form of alanine from the neutral form (see section 13.2 of the [InChI Technical FAQ](https://www.inchi-trust.org/technical-faq-2/)), so the toolkit defaults to the neutral form.\n",
    "\n",
    ":::{warning}\n",
    "The OpenFF Toolkit makes no guarantees about the atomic ordering produced by the `from_inchi` method. InChI is not intended to be an interchange format.\n",
    ":::"
   ]
  },
  {
   "cell_type": "code",
   "execution_count": 16,
   "id": "1ea7bb81",
   "metadata": {},
   "outputs": [
    {
     "data": {
      "image/svg+xml": [
       "<svg xmlns=\"http://www.w3.org/2000/svg\" xmlns:rdkit=\"http://www.rdkit.org/xml\" xmlns:xlink=\"http://www.w3.org/1999/xlink\" version=\"1.1\" baseProfile=\"full\" xml:space=\"preserve\" width=\"500px\" height=\"300px\" viewBox=\"0 0 500 300\">\n",
       "<!-- END OF HEADER -->\n",
       "<rect style=\"opacity:1.0;fill:#FFFFFF;stroke:none\" width=\"500.0\" height=\"300.0\" x=\"0.0\" y=\"0.0\"> </rect>\n",
       "<path class=\"bond-0 atom-0 atom-1\" d=\"M 265.0,69.7 L 249.2,128.4\" style=\"fill:none;fill-rule:evenodd;stroke:#000000;stroke-width:2.0px;stroke-linecap:butt;stroke-linejoin:miter;stroke-opacity:1\"/>\n",
       "<path class=\"bond-1 atom-1 atom-2\" d=\"M 249.2,128.4 L 292.1,171.6\" style=\"fill:none;fill-rule:evenodd;stroke:#000000;stroke-width:2.0px;stroke-linecap:butt;stroke-linejoin:miter;stroke-opacity:1\"/>\n",
       "<path class=\"bond-2 atom-1 atom-3\" d=\"M 249.2,128.4 L 233.5,144.0\" style=\"fill:none;fill-rule:evenodd;stroke:#000000;stroke-width:2.0px;stroke-linecap:butt;stroke-linejoin:miter;stroke-opacity:1\"/>\n",
       "<path class=\"bond-2 atom-1 atom-3\" d=\"M 233.5,144.0 L 217.9,159.6\" style=\"fill:none;fill-rule:evenodd;stroke:#0000FF;stroke-width:2.0px;stroke-linecap:butt;stroke-linejoin:miter;stroke-opacity:1\"/>\n",
       "<path class=\"bond-3 atom-2 atom-4\" d=\"M 290.8,176.6 L 314.5,170.3\" style=\"fill:none;fill-rule:evenodd;stroke:#000000;stroke-width:2.0px;stroke-linecap:butt;stroke-linejoin:miter;stroke-opacity:1\"/>\n",
       "<path class=\"bond-3 atom-2 atom-4\" d=\"M 314.5,170.3 L 338.2,164.0\" style=\"fill:none;fill-rule:evenodd;stroke:#FF0000;stroke-width:2.0px;stroke-linecap:butt;stroke-linejoin:miter;stroke-opacity:1\"/>\n",
       "<path class=\"bond-3 atom-2 atom-4\" d=\"M 288.4,167.8 L 312.2,161.5\" style=\"fill:none;fill-rule:evenodd;stroke:#000000;stroke-width:2.0px;stroke-linecap:butt;stroke-linejoin:miter;stroke-opacity:1\"/>\n",
       "<path class=\"bond-3 atom-2 atom-4\" d=\"M 312.2,161.5 L 335.9,155.2\" style=\"fill:none;fill-rule:evenodd;stroke:#FF0000;stroke-width:2.0px;stroke-linecap:butt;stroke-linejoin:miter;stroke-opacity:1\"/>\n",
       "<path class=\"bond-4 atom-2 atom-5\" d=\"M 292.1,171.6 L 286.2,193.4\" style=\"fill:none;fill-rule:evenodd;stroke:#000000;stroke-width:2.0px;stroke-linecap:butt;stroke-linejoin:miter;stroke-opacity:1\"/>\n",
       "<path class=\"bond-4 atom-2 atom-5\" d=\"M 286.2,193.4 L 280.3,215.2\" style=\"fill:none;fill-rule:evenodd;stroke:#FF0000;stroke-width:2.0px;stroke-linecap:butt;stroke-linejoin:miter;stroke-opacity:1\"/>\n",
       "<path class=\"bond-5 atom-0 atom-6\" d=\"M 265.0,69.7 L 311.7,82.3\" style=\"fill:none;fill-rule:evenodd;stroke:#000000;stroke-width:2.0px;stroke-linecap:butt;stroke-linejoin:miter;stroke-opacity:1\"/>\n",
       "<path class=\"bond-6 atom-0 atom-7\" d=\"M 265.0,69.7 L 296.0,38.8\" style=\"fill:none;fill-rule:evenodd;stroke:#000000;stroke-width:2.0px;stroke-linecap:butt;stroke-linejoin:miter;stroke-opacity:1\"/>\n",
       "<path class=\"bond-7 atom-0 atom-8\" d=\"M 265.0,69.7 L 234.2,38.7\" style=\"fill:none;fill-rule:evenodd;stroke:#000000;stroke-width:2.0px;stroke-linecap:butt;stroke-linejoin:miter;stroke-opacity:1\"/>\n",
       "<path class=\"bond-8 atom-1 atom-9\" d=\"M 245.6,127.9 L 245.8,127.2\" style=\"fill:none;fill-rule:evenodd;stroke:#000000;stroke-width:1.0px;stroke-linecap:butt;stroke-linejoin:miter;stroke-opacity:1\"/>\n",
       "<path class=\"bond-8 atom-1 atom-9\" d=\"M 242.1,127.3 L 242.5,125.9\" style=\"fill:none;fill-rule:evenodd;stroke:#000000;stroke-width:1.0px;stroke-linecap:butt;stroke-linejoin:miter;stroke-opacity:1\"/>\n",
       "<path class=\"bond-8 atom-1 atom-9\" d=\"M 238.6,126.7 L 239.1,124.6\" style=\"fill:none;fill-rule:evenodd;stroke:#000000;stroke-width:1.0px;stroke-linecap:butt;stroke-linejoin:miter;stroke-opacity:1\"/>\n",
       "<path class=\"bond-8 atom-1 atom-9\" d=\"M 235.1,126.1 L 235.8,123.4\" style=\"fill:none;fill-rule:evenodd;stroke:#000000;stroke-width:1.0px;stroke-linecap:butt;stroke-linejoin:miter;stroke-opacity:1\"/>\n",
       "<path class=\"bond-8 atom-1 atom-9\" d=\"M 231.6,125.5 L 232.5,122.1\" style=\"fill:none;fill-rule:evenodd;stroke:#000000;stroke-width:1.0px;stroke-linecap:butt;stroke-linejoin:miter;stroke-opacity:1\"/>\n",
       "<path class=\"bond-8 atom-1 atom-9\" d=\"M 228.0,124.9 L 229.1,120.8\" style=\"fill:none;fill-rule:evenodd;stroke:#000000;stroke-width:1.0px;stroke-linecap:butt;stroke-linejoin:miter;stroke-opacity:1\"/>\n",
       "<path class=\"bond-8 atom-1 atom-9\" d=\"M 224.5,124.3 L 225.8,119.6\" style=\"fill:none;fill-rule:evenodd;stroke:#000000;stroke-width:1.0px;stroke-linecap:butt;stroke-linejoin:miter;stroke-opacity:1\"/>\n",
       "<path class=\"bond-8 atom-1 atom-9\" d=\"M 221.0,123.7 L 222.4,118.3\" style=\"fill:none;fill-rule:evenodd;stroke:#000000;stroke-width:1.0px;stroke-linecap:butt;stroke-linejoin:miter;stroke-opacity:1\"/>\n",
       "<path class=\"bond-8 atom-1 atom-9\" d=\"M 217.5,123.2 L 219.1,117.1\" style=\"fill:none;fill-rule:evenodd;stroke:#000000;stroke-width:1.0px;stroke-linecap:butt;stroke-linejoin:miter;stroke-opacity:1\"/>\n",
       "<path class=\"bond-8 atom-1 atom-9\" d=\"M 213.9,122.6 L 215.8,115.8\" style=\"fill:none;fill-rule:evenodd;stroke:#000000;stroke-width:1.0px;stroke-linecap:butt;stroke-linejoin:miter;stroke-opacity:1\"/>\n",
       "<path class=\"bond-8 atom-1 atom-9\" d=\"M 210.4,122.0 L 212.4,114.5\" style=\"fill:none;fill-rule:evenodd;stroke:#000000;stroke-width:1.0px;stroke-linecap:butt;stroke-linejoin:miter;stroke-opacity:1\"/>\n",
       "<path class=\"bond-8 atom-1 atom-9\" d=\"M 206.9,121.4 L 209.1,113.3\" style=\"fill:none;fill-rule:evenodd;stroke:#000000;stroke-width:1.0px;stroke-linecap:butt;stroke-linejoin:miter;stroke-opacity:1\"/>\n",
       "<path class=\"bond-8 atom-1 atom-9\" d=\"M 203.4,120.8 L 205.7,112.0\" style=\"fill:none;fill-rule:evenodd;stroke:#000000;stroke-width:1.0px;stroke-linecap:butt;stroke-linejoin:miter;stroke-opacity:1\"/>\n",
       "<path class=\"bond-9 atom-3 atom-10\" d=\"M 194.2,168.2 L 176.8,163.5\" style=\"fill:none;fill-rule:evenodd;stroke:#0000FF;stroke-width:2.0px;stroke-linecap:butt;stroke-linejoin:miter;stroke-opacity:1\"/>\n",
       "<path class=\"bond-9 atom-3 atom-10\" d=\"M 176.8,163.5 L 159.4,158.8\" style=\"fill:none;fill-rule:evenodd;stroke:#000000;stroke-width:2.0px;stroke-linecap:butt;stroke-linejoin:miter;stroke-opacity:1\"/>\n",
       "<path class=\"bond-10 atom-3 atom-11\" d=\"M 210.0,186.3 L 213.9,200.8\" style=\"fill:none;fill-rule:evenodd;stroke:#0000FF;stroke-width:2.0px;stroke-linecap:butt;stroke-linejoin:miter;stroke-opacity:1\"/>\n",
       "<path class=\"bond-10 atom-3 atom-11\" d=\"M 213.9,200.8 L 217.7,215.3\" style=\"fill:none;fill-rule:evenodd;stroke:#000000;stroke-width:2.0px;stroke-linecap:butt;stroke-linejoin:miter;stroke-opacity:1\"/>\n",
       "<path class=\"bond-11 atom-5 atom-12\" d=\"M 290.1,244.2 L 298.6,252.8\" style=\"fill:none;fill-rule:evenodd;stroke:#FF0000;stroke-width:2.0px;stroke-linecap:butt;stroke-linejoin:miter;stroke-opacity:1\"/>\n",
       "<path class=\"bond-11 atom-5 atom-12\" d=\"M 298.6,252.8 L 307.1,261.3\" style=\"fill:none;fill-rule:evenodd;stroke:#000000;stroke-width:2.0px;stroke-linecap:butt;stroke-linejoin:miter;stroke-opacity:1\"/>\n",
       "<path d=\"M 290.0,169.4 L 292.1,171.6 L 291.8,172.7\" style=\"fill:none;stroke:#000000;stroke-width:2.0px;stroke-linecap:butt;stroke-linejoin:miter;stroke-opacity:1;\"/>\n",
       "<path class=\"atom-3\" d=\"M 200.3 158.5 L 208.8 172.2 Q 209.7 173.5, 211.0 176.0 Q 212.4 178.4, 212.4 178.6 L 212.4 158.5 L 215.9 158.5 L 215.9 184.3 L 212.3 184.3 L 203.2 169.4 Q 202.2 167.6, 201.0 165.6 Q 199.9 163.6, 199.6 163.0 L 199.6 184.3 L 196.2 184.3 L 196.2 158.5 L 200.3 158.5 \" fill=\"#0000FF\"/>\n",
       "<path class=\"atom-4\" d=\"M 339.1 156.0 Q 339.1 149.8, 342.2 146.3 Q 345.2 142.8, 351.0 142.8 Q 356.7 142.8, 359.8 146.3 Q 362.8 149.8, 362.8 156.0 Q 362.8 162.3, 359.7 165.8 Q 356.6 169.4, 351.0 169.4 Q 345.3 169.4, 342.2 165.8 Q 339.1 162.3, 339.1 156.0 M 351.0 166.5 Q 354.9 166.5, 357.0 163.8 Q 359.2 161.2, 359.2 156.0 Q 359.2 150.9, 357.0 148.4 Q 354.9 145.8, 351.0 145.8 Q 347.0 145.8, 344.9 148.3 Q 342.7 150.9, 342.7 156.0 Q 342.7 161.2, 344.9 163.8 Q 347.0 166.5, 351.0 166.5 \" fill=\"#FF0000\"/>\n",
       "<path class=\"atom-5\" d=\"M 264.4 230.4 Q 264.4 224.2, 267.5 220.7 Q 270.5 217.2, 276.3 217.2 Q 282.0 217.2, 285.1 220.7 Q 288.1 224.2, 288.1 230.4 Q 288.1 236.7, 285.0 240.3 Q 281.9 243.8, 276.3 243.8 Q 270.6 243.8, 267.5 240.3 Q 264.4 236.7, 264.4 230.4 M 276.3 240.9 Q 280.2 240.9, 282.3 238.2 Q 284.5 235.6, 284.5 230.4 Q 284.5 225.3, 282.3 222.8 Q 280.2 220.2, 276.3 220.2 Q 272.3 220.2, 270.2 222.7 Q 268.1 225.3, 268.1 230.4 Q 268.1 235.6, 270.2 238.2 Q 272.3 240.9, 276.3 240.9 \" fill=\"#FF0000\"/>\n",
       "<path class=\"atom-6\" d=\"M 313.7 72.6 L 317.2 72.6 L 317.2 83.6 L 330.4 83.6 L 330.4 72.6 L 333.9 72.6 L 333.9 98.5 L 330.4 98.5 L 330.4 86.5 L 317.2 86.5 L 317.2 98.5 L 313.7 98.5 L 313.7 72.6 \" fill=\"#000000\"/>\n",
       "<path class=\"atom-7\" d=\"M 298.0 13.8 L 301.5 13.8 L 301.5 24.8 L 314.8 24.8 L 314.8 13.8 L 318.3 13.8 L 318.3 39.7 L 314.8 39.7 L 314.8 27.7 L 301.5 27.7 L 301.5 39.7 L 298.0 39.7 L 298.0 13.8 \" fill=\"#000000\"/>\n",
       "<path class=\"atom-8\" d=\"M 212.0 13.6 L 215.5 13.6 L 215.5 24.6 L 228.7 24.6 L 228.7 13.6 L 232.2 13.6 L 232.2 39.5 L 228.7 39.5 L 228.7 27.6 L 215.5 27.6 L 215.5 39.5 L 212.0 39.5 L 212.0 13.6 \" fill=\"#000000\"/>\n",
       "<path class=\"atom-9\" d=\"M 180.3 99.7 L 183.8 99.7 L 183.8 110.6 L 197.0 110.6 L 197.0 99.7 L 200.5 99.7 L 200.5 125.5 L 197.0 125.5 L 197.0 113.6 L 183.8 113.6 L 183.8 125.5 L 180.3 125.5 L 180.3 99.7 \" fill=\"#000000\"/>\n",
       "<path class=\"atom-10\" d=\"M 137.2 142.6 L 140.7 142.6 L 140.7 153.6 L 153.9 153.6 L 153.9 142.6 L 157.4 142.6 L 157.4 168.5 L 153.9 168.5 L 153.9 156.5 L 140.7 156.5 L 140.7 168.5 L 137.2 168.5 L 137.2 142.6 \" fill=\"#000000\"/>\n",
       "<path class=\"atom-11\" d=\"M 211.6 217.3 L 215.1 217.3 L 215.1 228.3 L 228.3 228.3 L 228.3 217.3 L 231.8 217.3 L 231.8 243.1 L 228.3 243.1 L 228.3 231.2 L 215.1 231.2 L 215.1 243.1 L 211.6 243.1 L 211.6 217.3 \" fill=\"#000000\"/>\n",
       "<path class=\"atom-12\" d=\"M 309.1 260.5 L 312.6 260.5 L 312.6 271.5 L 325.9 271.5 L 325.9 260.5 L 329.4 260.5 L 329.4 286.4 L 325.9 286.4 L 325.9 274.4 L 312.6 274.4 L 312.6 286.4 L 309.1 286.4 L 309.1 260.5 \" fill=\"#000000\"/>\n",
       "</svg>"
      ],
      "text/plain": [
       "<IPython.core.display.SVG object>"
      ]
     },
     "execution_count": 16,
     "metadata": {},
     "output_type": "execute_result"
    }
   ],
   "source": [
    "inchi = Molecule.from_inchi(\n",
    "    \"InChI=1S/C3H7NO2/c1-2(4)3(5)6/h2H,4H2,1H3,(H,5,6)/t2-/m0/s1\"\n",
    ")\n",
    "\n",
    "inchi.visualize()"
   ]
  },
  {
   "cell_type": "markdown",
   "id": "93592822",
   "metadata": {},
   "source": [
    "### From IUPAC name\n",
    "\n",
    "The [`Molecule.from_iupac()`](openff.toolkit.topology.Molecule.from_iupac) method constructs a `Molecule` from an IUPAC name.\n",
    "\n",
    ":::{important}\n",
    "This code requires the OpenEye toolkit.\n",
    ":::"
   ]
  },
  {
   "cell_type": "code",
   "execution_count": 17,
   "id": "839994a0",
   "metadata": {},
   "outputs": [
    {
     "data": {
      "image/svg+xml": [
       "<svg xmlns=\"http://www.w3.org/2000/svg\" xmlns:rdkit=\"http://www.rdkit.org/xml\" xmlns:xlink=\"http://www.w3.org/1999/xlink\" version=\"1.1\" baseProfile=\"full\" xml:space=\"preserve\" width=\"500px\" height=\"300px\" viewBox=\"0 0 500 300\">\n",
       "<!-- END OF HEADER -->\n",
       "<rect style=\"opacity:1.0;fill:#FFFFFF;stroke:none\" width=\"500.0\" height=\"300.0\" x=\"0.0\" y=\"0.0\"> </rect>\n",
       "<path class=\"bond-0 atom-2 atom-1\" d=\"M 249.2,142.8 L 292.6,93.2\" style=\"fill:none;fill-rule:evenodd;stroke:#000000;stroke-width:2.0px;stroke-linecap:butt;stroke-linejoin:miter;stroke-opacity:1\"/>\n",
       "<path class=\"bond-1 atom-3 atom-2\" d=\"M 269.1,206.9 L 249.2,142.8\" style=\"fill:none;fill-rule:evenodd;stroke:#000000;stroke-width:2.0px;stroke-linecap:butt;stroke-linejoin:miter;stroke-opacity:1\"/>\n",
       "<path class=\"bond-2 atom-4 atom-1\" d=\"M 281.2,45.2 L 289.8,69.8\" style=\"fill:none;fill-rule:evenodd;stroke:#FF0000;stroke-width:2.0px;stroke-linecap:butt;stroke-linejoin:miter;stroke-opacity:1\"/>\n",
       "<path class=\"bond-2 atom-4 atom-1\" d=\"M 289.8,69.8 L 298.4,94.3\" style=\"fill:none;fill-rule:evenodd;stroke:#000000;stroke-width:2.0px;stroke-linecap:butt;stroke-linejoin:miter;stroke-opacity:1\"/>\n",
       "<path class=\"bond-2 atom-4 atom-1\" d=\"M 271.7,48.5 L 280.3,73.0\" style=\"fill:none;fill-rule:evenodd;stroke:#FF0000;stroke-width:2.0px;stroke-linecap:butt;stroke-linejoin:miter;stroke-opacity:1\"/>\n",
       "<path class=\"bond-2 atom-4 atom-1\" d=\"M 280.3,73.0 L 288.8,97.6\" style=\"fill:none;fill-rule:evenodd;stroke:#000000;stroke-width:2.0px;stroke-linecap:butt;stroke-linejoin:miter;stroke-opacity:1\"/>\n",
       "<path class=\"bond-3 atom-5 atom-1\" d=\"M 343.0,103.2 L 317.8,98.2\" style=\"fill:none;fill-rule:evenodd;stroke:#FF0000;stroke-width:2.0px;stroke-linecap:butt;stroke-linejoin:miter;stroke-opacity:1\"/>\n",
       "<path class=\"bond-3 atom-5 atom-1\" d=\"M 317.8,98.2 L 292.6,93.2\" style=\"fill:none;fill-rule:evenodd;stroke:#000000;stroke-width:2.0px;stroke-linecap:butt;stroke-linejoin:miter;stroke-opacity:1\"/>\n",
       "<path class=\"bond-4 atom-2 atom-0\" d=\"M 249.2,142.8 L 227.0,123.8\" style=\"fill:none;fill-rule:evenodd;stroke:#000000;stroke-width:2.0px;stroke-linecap:butt;stroke-linejoin:miter;stroke-opacity:1\"/>\n",
       "<path class=\"bond-4 atom-2 atom-0\" d=\"M 227.0,123.8 L 204.7,104.8\" style=\"fill:none;fill-rule:evenodd;stroke:#0000FF;stroke-width:2.0px;stroke-linecap:butt;stroke-linejoin:miter;stroke-opacity:1\"/>\n",
       "<path class=\"bond-5 atom-0 atom-6\" d=\"M 178.8,106.9 L 168.4,117.6\" style=\"fill:none;fill-rule:evenodd;stroke:#0000FF;stroke-width:2.0px;stroke-linecap:butt;stroke-linejoin:miter;stroke-opacity:1\"/>\n",
       "<path class=\"bond-5 atom-0 atom-6\" d=\"M 168.4,117.6 L 157.9,128.3\" style=\"fill:none;fill-rule:evenodd;stroke:#000000;stroke-width:2.0px;stroke-linecap:butt;stroke-linejoin:miter;stroke-opacity:1\"/>\n",
       "<path class=\"bond-6 atom-0 atom-7\" d=\"M 178.8,90.8 L 159.1,86.5\" style=\"fill:none;fill-rule:evenodd;stroke:#0000FF;stroke-width:2.0px;stroke-linecap:butt;stroke-linejoin:miter;stroke-opacity:1\"/>\n",
       "<path class=\"bond-6 atom-0 atom-7\" d=\"M 159.1,86.5 L 139.4,82.2\" style=\"fill:none;fill-rule:evenodd;stroke:#000000;stroke-width:2.0px;stroke-linecap:butt;stroke-linejoin:miter;stroke-opacity:1\"/>\n",
       "<path class=\"bond-7 atom-0 atom-8\" d=\"M 195.0,77.3 L 198.3,60.8\" style=\"fill:none;fill-rule:evenodd;stroke:#0000FF;stroke-width:2.0px;stroke-linecap:butt;stroke-linejoin:miter;stroke-opacity:1\"/>\n",
       "<path class=\"bond-7 atom-0 atom-8\" d=\"M 198.3,60.8 L 201.6,44.3\" style=\"fill:none;fill-rule:evenodd;stroke:#000000;stroke-width:2.0px;stroke-linecap:butt;stroke-linejoin:miter;stroke-opacity:1\"/>\n",
       "<path class=\"bond-8 atom-2 atom-9\" d=\"M 249.2,142.8 L 212.8,164.7 L 208.7,155.5 Z\" style=\"fill:#000000;fill-rule:evenodd;fill-opacity:1;stroke:#000000;stroke-width:0.5px;stroke-linecap:butt;stroke-linejoin:miter;stroke-opacity:1;\"/>\n",
       "<path class=\"bond-9 atom-3 atom-10\" d=\"M 269.1,206.9 L 216.9,221.3\" style=\"fill:none;fill-rule:evenodd;stroke:#000000;stroke-width:2.0px;stroke-linecap:butt;stroke-linejoin:miter;stroke-opacity:1\"/>\n",
       "<path class=\"bond-10 atom-3 atom-11\" d=\"M 269.1,206.9 L 255.6,255.7\" style=\"fill:none;fill-rule:evenodd;stroke:#000000;stroke-width:2.0px;stroke-linecap:butt;stroke-linejoin:miter;stroke-opacity:1\"/>\n",
       "<path class=\"bond-11 atom-3 atom-12\" d=\"M 269.1,206.9 L 320.3,220.4\" style=\"fill:none;fill-rule:evenodd;stroke:#000000;stroke-width:2.0px;stroke-linecap:butt;stroke-linejoin:miter;stroke-opacity:1\"/>\n",
       "<path d=\"M 290.5,95.7 L 292.6,93.2 L 293.9,93.5\" style=\"fill:none;stroke:#000000;stroke-width:2.0px;stroke-linecap:butt;stroke-linejoin:miter;stroke-opacity:1;\"/>\n",
       "<path class=\"atom-0\" d=\"M 185.5 79.5 L 194.8 94.5 Q 195.7 96.0, 197.2 98.7 Q 198.7 101.4, 198.8 101.5 L 198.8 79.5 L 202.5 79.5 L 202.5 107.9 L 198.6 107.9 L 188.7 91.5 Q 187.5 89.5, 186.3 87.3 Q 185.1 85.1, 184.7 84.5 L 184.7 107.9 L 181.0 107.9 L 181.0 79.5 L 185.5 79.5 \" fill=\"#0000FF\"/>\n",
       "<path class=\"atom-0\" d=\"M 207.8 84.6 L 212.8 84.6 L 212.8 79.4 L 215.1 79.4 L 215.1 84.6 L 220.2 84.6 L 220.2 86.5 L 215.1 86.5 L 215.1 91.8 L 212.8 91.8 L 212.8 86.5 L 207.8 86.5 L 207.8 84.6 \" fill=\"#0000FF\"/>\n",
       "<path class=\"atom-4\" d=\"M 257.6 30.0 Q 257.6 23.2, 260.9 19.4 Q 264.3 15.6, 270.6 15.6 Q 276.8 15.6, 280.2 19.4 Q 283.6 23.2, 283.6 30.0 Q 283.6 36.8, 280.2 40.8 Q 276.8 44.6, 270.6 44.6 Q 264.3 44.6, 260.9 40.8 Q 257.6 36.9, 257.6 30.0 M 270.6 41.4 Q 274.9 41.4, 277.2 38.6 Q 279.6 35.6, 279.6 30.0 Q 279.6 24.4, 277.2 21.6 Q 274.9 18.8, 270.6 18.8 Q 266.2 18.8, 263.9 21.6 Q 261.6 24.4, 261.6 30.0 Q 261.6 35.7, 263.9 38.6 Q 266.2 41.4, 270.6 41.4 \" fill=\"#FF0000\"/>\n",
       "<path class=\"atom-5\" d=\"M 345.2 106.3 Q 345.2 99.5, 348.6 95.7 Q 351.9 91.9, 358.2 91.9 Q 364.5 91.9, 367.9 95.7 Q 371.2 99.5, 371.2 106.3 Q 371.2 113.2, 367.8 117.1 Q 364.4 121.0, 358.2 121.0 Q 352.0 121.0, 348.6 117.1 Q 345.2 113.2, 345.2 106.3 M 358.2 117.8 Q 362.5 117.8, 364.9 114.9 Q 367.2 112.0, 367.2 106.3 Q 367.2 100.7, 364.9 97.9 Q 362.5 95.1, 358.2 95.1 Q 353.9 95.1, 351.5 97.9 Q 349.2 100.7, 349.2 106.3 Q 349.2 112.0, 351.5 114.9 Q 353.9 117.8, 358.2 117.8 \" fill=\"#FF0000\"/>\n",
       "<path class=\"atom-5\" d=\"M 375.3 96.5 L 384.9 96.5 L 384.9 98.6 L 375.3 98.6 L 375.3 96.5 \" fill=\"#FF0000\"/>\n",
       "<path class=\"atom-6\" d=\"M 133.5 127.7 L 137.4 127.7 L 137.4 139.8 L 151.9 139.8 L 151.9 127.7 L 155.7 127.7 L 155.7 156.0 L 151.9 156.0 L 151.9 143.0 L 137.4 143.0 L 137.4 156.0 L 133.5 156.0 L 133.5 127.7 \" fill=\"#000000\"/>\n",
       "<path class=\"atom-7\" d=\"M 115.1 65.1 L 118.9 65.1 L 118.9 77.1 L 133.4 77.1 L 133.4 65.1 L 137.2 65.1 L 137.2 93.4 L 133.4 93.4 L 133.4 80.3 L 118.9 80.3 L 118.9 93.4 L 115.1 93.4 L 115.1 65.1 \" fill=\"#000000\"/>\n",
       "<path class=\"atom-8\" d=\"M 193.8 13.8 L 197.6 13.8 L 197.6 25.8 L 212.1 25.8 L 212.1 13.8 L 215.9 13.8 L 215.9 42.1 L 212.1 42.1 L 212.1 29.0 L 197.6 29.0 L 197.6 42.1 L 193.8 42.1 L 193.8 13.8 \" fill=\"#000000\"/>\n",
       "<path class=\"atom-9\" d=\"M 184.2 153.0 L 188.0 153.0 L 188.0 165.0 L 202.5 165.0 L 202.5 153.0 L 206.3 153.0 L 206.3 181.3 L 202.5 181.3 L 202.5 168.2 L 188.0 168.2 L 188.0 181.3 L 184.2 181.3 L 184.2 153.0 \" fill=\"#000000\"/>\n",
       "<path class=\"atom-10\" d=\"M 192.6 210.8 L 196.4 210.8 L 196.4 222.9 L 210.9 222.9 L 210.9 210.8 L 214.7 210.8 L 214.7 239.2 L 210.9 239.2 L 210.9 226.1 L 196.4 226.1 L 196.4 239.2 L 192.6 239.2 L 192.6 210.8 \" fill=\"#000000\"/>\n",
       "<path class=\"atom-11\" d=\"M 240.0 257.9 L 243.8 257.9 L 243.8 270.0 L 258.3 270.0 L 258.3 257.9 L 262.2 257.9 L 262.2 286.2 L 258.3 286.2 L 258.3 273.2 L 243.8 273.2 L 243.8 286.2 L 240.0 286.2 L 240.0 257.9 \" fill=\"#000000\"/>\n",
       "<path class=\"atom-12\" d=\"M 322.5 209.8 L 326.4 209.8 L 326.4 221.8 L 340.8 221.8 L 340.8 209.8 L 344.7 209.8 L 344.7 238.1 L 340.8 238.1 L 340.8 225.0 L 326.4 225.0 L 326.4 238.1 L 322.5 238.1 L 322.5 209.8 \" fill=\"#000000\"/>\n",
       "</svg>"
      ],
      "text/plain": [
       "<IPython.core.display.SVG object>"
      ]
     },
     "execution_count": 17,
     "metadata": {},
     "output_type": "execute_result"
    }
   ],
   "source": [
    "iupac = Molecule.from_iupac(\"(2S)-2-azaniumylpropanoate\")\n",
    "\n",
    "assert zw_l_alanine.is_isomorphic_with(iupac)\n",
    "\n",
    "iupac.visualize()"
   ]
  },
  {
   "cell_type": "markdown",
   "id": "14d8a068",
   "metadata": {},
   "source": [
    "## Re-ordering atoms in an existing `Molecule`\n",
    "\n",
    "Most `Molecule` creation methods don't specify the ordering of atoms in the new `Molecule`. The [`Molecule.remap()`](openff.toolkit.topology.Molecule.remap) method allows a new ordering to be applied to an existing `Molecule`.\n",
    "\n",
    "See also [](#mapped-smiles).\n",
    "\n",
    ":::{warning}\n",
    "The `Molecule.remap()` method is experimental and subject to change. \n",
    ":::"
   ]
  },
  {
   "cell_type": "code",
   "execution_count": 18,
   "id": "c9a343c2",
   "metadata": {},
   "outputs": [
    {
     "name": "stdout",
     "output_type": "stream",
     "text": [
      "Before remapping: [H:3][C@@:2]([C:5](=[O:6])[O-:7])([C:1]([H:8])([H:9])[H:10])[N+:4]([H:11])([H:12])[H:13]\n",
      "After remapping:  [H:3][C@@:2]([C:4](=[O:6])[O-:7])([C:1]([H:8])([H:9])[H:10])[N+:5]([H:11])([H:12])[H:13]\n"
     ]
    },
    {
     "data": {
      "image/svg+xml": [
       "<svg xmlns=\"http://www.w3.org/2000/svg\" xmlns:rdkit=\"http://www.rdkit.org/xml\" xmlns:xlink=\"http://www.w3.org/1999/xlink\" version=\"1.1\" baseProfile=\"full\" xml:space=\"preserve\" width=\"500px\" height=\"300px\" viewBox=\"0 0 500 300\">\n",
       "<!-- END OF HEADER -->\n",
       "<rect style=\"opacity:1.0;fill:#FFFFFF;stroke:none\" width=\"500.0\" height=\"300.0\" x=\"0.0\" y=\"0.0\"> </rect>\n",
       "<path class=\"bond-0 atom-0 atom-1\" d=\"M 269.1,206.9 L 249.2,142.8\" style=\"fill:none;fill-rule:evenodd;stroke:#000000;stroke-width:2.0px;stroke-linecap:butt;stroke-linejoin:miter;stroke-opacity:1\"/>\n",
       "<path class=\"bond-1 atom-0 atom-7\" d=\"M 269.1,206.9 L 216.9,221.3\" style=\"fill:none;fill-rule:evenodd;stroke:#000000;stroke-width:2.0px;stroke-linecap:butt;stroke-linejoin:miter;stroke-opacity:1\"/>\n",
       "<path class=\"bond-2 atom-0 atom-8\" d=\"M 269.1,206.9 L 255.6,255.7\" style=\"fill:none;fill-rule:evenodd;stroke:#000000;stroke-width:2.0px;stroke-linecap:butt;stroke-linejoin:miter;stroke-opacity:1\"/>\n",
       "<path class=\"bond-3 atom-0 atom-9\" d=\"M 269.1,206.9 L 320.3,220.4\" style=\"fill:none;fill-rule:evenodd;stroke:#000000;stroke-width:2.0px;stroke-linecap:butt;stroke-linejoin:miter;stroke-opacity:1\"/>\n",
       "<path class=\"bond-4 atom-1 atom-2\" d=\"M 249.2,142.8 L 212.8,164.7 L 208.7,155.5 Z\" style=\"fill:#000000;fill-rule:evenodd;fill-opacity:1;stroke:#000000;stroke-width:0.5px;stroke-linecap:butt;stroke-linejoin:miter;stroke-opacity:1;\"/>\n",
       "<path class=\"bond-5 atom-1 atom-3\" d=\"M 249.2,142.8 L 292.6,93.2\" style=\"fill:none;fill-rule:evenodd;stroke:#000000;stroke-width:2.0px;stroke-linecap:butt;stroke-linejoin:miter;stroke-opacity:1\"/>\n",
       "<path class=\"bond-6 atom-1 atom-4\" d=\"M 249.2,142.8 L 227.0,123.8\" style=\"fill:none;fill-rule:evenodd;stroke:#000000;stroke-width:2.0px;stroke-linecap:butt;stroke-linejoin:miter;stroke-opacity:1\"/>\n",
       "<path class=\"bond-6 atom-1 atom-4\" d=\"M 227.0,123.8 L 204.7,104.8\" style=\"fill:none;fill-rule:evenodd;stroke:#0000FF;stroke-width:2.0px;stroke-linecap:butt;stroke-linejoin:miter;stroke-opacity:1\"/>\n",
       "<path class=\"bond-7 atom-3 atom-5\" d=\"M 298.4,94.3 L 289.8,69.8\" style=\"fill:none;fill-rule:evenodd;stroke:#000000;stroke-width:2.0px;stroke-linecap:butt;stroke-linejoin:miter;stroke-opacity:1\"/>\n",
       "<path class=\"bond-7 atom-3 atom-5\" d=\"M 289.8,69.8 L 281.2,45.2\" style=\"fill:none;fill-rule:evenodd;stroke:#FF0000;stroke-width:2.0px;stroke-linecap:butt;stroke-linejoin:miter;stroke-opacity:1\"/>\n",
       "<path class=\"bond-7 atom-3 atom-5\" d=\"M 288.8,97.6 L 280.3,73.0\" style=\"fill:none;fill-rule:evenodd;stroke:#000000;stroke-width:2.0px;stroke-linecap:butt;stroke-linejoin:miter;stroke-opacity:1\"/>\n",
       "<path class=\"bond-7 atom-3 atom-5\" d=\"M 280.3,73.0 L 271.7,48.5\" style=\"fill:none;fill-rule:evenodd;stroke:#FF0000;stroke-width:2.0px;stroke-linecap:butt;stroke-linejoin:miter;stroke-opacity:1\"/>\n",
       "<path class=\"bond-8 atom-3 atom-6\" d=\"M 292.6,93.2 L 317.8,98.2\" style=\"fill:none;fill-rule:evenodd;stroke:#000000;stroke-width:2.0px;stroke-linecap:butt;stroke-linejoin:miter;stroke-opacity:1\"/>\n",
       "<path class=\"bond-8 atom-3 atom-6\" d=\"M 317.8,98.2 L 343.0,103.2\" style=\"fill:none;fill-rule:evenodd;stroke:#FF0000;stroke-width:2.0px;stroke-linecap:butt;stroke-linejoin:miter;stroke-opacity:1\"/>\n",
       "<path class=\"bond-9 atom-4 atom-10\" d=\"M 178.8,106.9 L 168.4,117.6\" style=\"fill:none;fill-rule:evenodd;stroke:#0000FF;stroke-width:2.0px;stroke-linecap:butt;stroke-linejoin:miter;stroke-opacity:1\"/>\n",
       "<path class=\"bond-9 atom-4 atom-10\" d=\"M 168.4,117.6 L 157.9,128.3\" style=\"fill:none;fill-rule:evenodd;stroke:#000000;stroke-width:2.0px;stroke-linecap:butt;stroke-linejoin:miter;stroke-opacity:1\"/>\n",
       "<path class=\"bond-10 atom-4 atom-11\" d=\"M 178.8,90.8 L 159.1,86.5\" style=\"fill:none;fill-rule:evenodd;stroke:#0000FF;stroke-width:2.0px;stroke-linecap:butt;stroke-linejoin:miter;stroke-opacity:1\"/>\n",
       "<path class=\"bond-10 atom-4 atom-11\" d=\"M 159.1,86.5 L 139.4,82.2\" style=\"fill:none;fill-rule:evenodd;stroke:#000000;stroke-width:2.0px;stroke-linecap:butt;stroke-linejoin:miter;stroke-opacity:1\"/>\n",
       "<path class=\"bond-11 atom-4 atom-12\" d=\"M 195.0,77.3 L 198.3,60.8\" style=\"fill:none;fill-rule:evenodd;stroke:#0000FF;stroke-width:2.0px;stroke-linecap:butt;stroke-linejoin:miter;stroke-opacity:1\"/>\n",
       "<path class=\"bond-11 atom-4 atom-12\" d=\"M 198.3,60.8 L 201.6,44.3\" style=\"fill:none;fill-rule:evenodd;stroke:#000000;stroke-width:2.0px;stroke-linecap:butt;stroke-linejoin:miter;stroke-opacity:1\"/>\n",
       "<path d=\"M 290.5,95.7 L 292.6,93.2 L 293.9,93.5\" style=\"fill:none;stroke:#000000;stroke-width:2.0px;stroke-linecap:butt;stroke-linejoin:miter;stroke-opacity:1;\"/>\n",
       "<path class=\"atom-2\" d=\"M 184.2 153.0 L 188.0 153.0 L 188.0 165.0 L 202.5 165.0 L 202.5 153.0 L 206.3 153.0 L 206.3 181.3 L 202.5 181.3 L 202.5 168.2 L 188.0 168.2 L 188.0 181.3 L 184.2 181.3 L 184.2 153.0 \" fill=\"#000000\"/>\n",
       "<path class=\"atom-4\" d=\"M 185.5 79.5 L 194.8 94.5 Q 195.7 96.0, 197.2 98.7 Q 198.7 101.4, 198.8 101.5 L 198.8 79.5 L 202.5 79.5 L 202.5 107.9 L 198.6 107.9 L 188.7 91.5 Q 187.5 89.5, 186.3 87.3 Q 185.1 85.1, 184.7 84.5 L 184.7 107.9 L 181.0 107.9 L 181.0 79.5 L 185.5 79.5 \" fill=\"#0000FF\"/>\n",
       "<path class=\"atom-4\" d=\"M 207.8 84.6 L 212.8 84.6 L 212.8 79.4 L 215.1 79.4 L 215.1 84.6 L 220.2 84.6 L 220.2 86.5 L 215.1 86.5 L 215.1 91.8 L 212.8 91.8 L 212.8 86.5 L 207.8 86.5 L 207.8 84.6 \" fill=\"#0000FF\"/>\n",
       "<path class=\"atom-5\" d=\"M 257.6 30.0 Q 257.6 23.2, 260.9 19.4 Q 264.3 15.6, 270.6 15.6 Q 276.8 15.6, 280.2 19.4 Q 283.6 23.2, 283.6 30.0 Q 283.6 36.8, 280.2 40.8 Q 276.8 44.6, 270.6 44.6 Q 264.3 44.6, 260.9 40.8 Q 257.6 36.9, 257.6 30.0 M 270.6 41.4 Q 274.9 41.4, 277.2 38.6 Q 279.6 35.6, 279.6 30.0 Q 279.6 24.4, 277.2 21.6 Q 274.9 18.8, 270.6 18.8 Q 266.2 18.8, 263.9 21.6 Q 261.6 24.4, 261.6 30.0 Q 261.6 35.7, 263.9 38.6 Q 266.2 41.4, 270.6 41.4 \" fill=\"#FF0000\"/>\n",
       "<path class=\"atom-6\" d=\"M 345.2 106.3 Q 345.2 99.5, 348.6 95.7 Q 351.9 91.9, 358.2 91.9 Q 364.5 91.9, 367.9 95.7 Q 371.2 99.5, 371.2 106.3 Q 371.2 113.2, 367.8 117.1 Q 364.4 121.0, 358.2 121.0 Q 352.0 121.0, 348.6 117.1 Q 345.2 113.2, 345.2 106.3 M 358.2 117.8 Q 362.5 117.8, 364.9 114.9 Q 367.2 112.0, 367.2 106.3 Q 367.2 100.7, 364.9 97.9 Q 362.5 95.1, 358.2 95.1 Q 353.9 95.1, 351.5 97.9 Q 349.2 100.7, 349.2 106.3 Q 349.2 112.0, 351.5 114.9 Q 353.9 117.8, 358.2 117.8 \" fill=\"#FF0000\"/>\n",
       "<path class=\"atom-6\" d=\"M 375.3 96.5 L 384.9 96.5 L 384.9 98.6 L 375.3 98.6 L 375.3 96.5 \" fill=\"#FF0000\"/>\n",
       "<path class=\"atom-7\" d=\"M 192.6 210.8 L 196.4 210.8 L 196.4 222.9 L 210.9 222.9 L 210.9 210.8 L 214.7 210.8 L 214.7 239.2 L 210.9 239.2 L 210.9 226.1 L 196.4 226.1 L 196.4 239.2 L 192.6 239.2 L 192.6 210.8 \" fill=\"#000000\"/>\n",
       "<path class=\"atom-8\" d=\"M 240.0 257.9 L 243.8 257.9 L 243.8 270.0 L 258.3 270.0 L 258.3 257.9 L 262.2 257.9 L 262.2 286.2 L 258.3 286.2 L 258.3 273.2 L 243.8 273.2 L 243.8 286.2 L 240.0 286.2 L 240.0 257.9 \" fill=\"#000000\"/>\n",
       "<path class=\"atom-9\" d=\"M 322.5 209.8 L 326.4 209.8 L 326.4 221.8 L 340.8 221.8 L 340.8 209.8 L 344.7 209.8 L 344.7 238.1 L 340.8 238.1 L 340.8 225.0 L 326.4 225.0 L 326.4 238.1 L 322.5 238.1 L 322.5 209.8 \" fill=\"#000000\"/>\n",
       "<path class=\"atom-10\" d=\"M 133.5 127.7 L 137.4 127.7 L 137.4 139.8 L 151.9 139.8 L 151.9 127.7 L 155.7 127.7 L 155.7 156.0 L 151.9 156.0 L 151.9 143.0 L 137.4 143.0 L 137.4 156.0 L 133.5 156.0 L 133.5 127.7 \" fill=\"#000000\"/>\n",
       "<path class=\"atom-11\" d=\"M 115.1 65.1 L 118.9 65.1 L 118.9 77.1 L 133.4 77.1 L 133.4 65.1 L 137.2 65.1 L 137.2 93.4 L 133.4 93.4 L 133.4 80.3 L 118.9 80.3 L 118.9 93.4 L 115.1 93.4 L 115.1 65.1 \" fill=\"#000000\"/>\n",
       "<path class=\"atom-12\" d=\"M 193.8 13.8 L 197.6 13.8 L 197.6 25.8 L 212.1 25.8 L 212.1 13.8 L 215.9 13.8 L 215.9 42.1 L 212.1 42.1 L 212.1 29.0 L 197.6 29.0 L 197.6 42.1 L 193.8 42.1 L 193.8 13.8 \" fill=\"#000000\"/>\n",
       "</svg>"
      ],
      "text/plain": [
       "<IPython.core.display.SVG object>"
      ]
     },
     "execution_count": 18,
     "metadata": {},
     "output_type": "execute_result"
    }
   ],
   "source": [
    "# Note that this mapping is off-by-one from the mapping taken\n",
    "# by the remap method, as Python indexing is 0-based but SMILES\n",
    "# is 1-based\n",
    "print(\"Before remapping:\", zw_l_alanine.to_smiles(mapped=True))\n",
    "\n",
    "# Flip the order of the carbonyl carbon and oxygen\n",
    "remapped = zw_l_alanine.remap(\n",
    "    {\n",
    "        0: 0,\n",
    "        1: 1,\n",
    "        2: 2,\n",
    "        3: 4,  # Note these two mappings,\n",
    "        4: 3,  # which are flipped!\n",
    "        5: 5,\n",
    "        6: 6,\n",
    "        7: 7,\n",
    "        8: 8,\n",
    "        9: 9,\n",
    "        10: 10,\n",
    "        11: 11,\n",
    "        12: 12,\n",
    "    }\n",
    ")\n",
    "\n",
    "print(\"After remapping: \", remapped.to_smiles(mapped=True))\n",
    "\n",
    "# Doesn't affect the identity of the molecule\n",
    "assert zw_l_alanine.is_isomorphic_with(remapped)\n",
    "remapped.visualize()"
   ]
  },
  {
   "cell_type": "markdown",
   "id": "d5e4330a",
   "metadata": {},
   "source": [
    "## Via `Topology` objects\n",
    "\n",
    "The [`Topology`](openff.toolkit.topology.Topology) class represents a biomolecular system; it is analogous to the similarly named objects in GROMACS, MDTraj or OpenMM. Notably, it does not include co-ordinates and may represent multiple copies of a particular molecular species or even more complex mixtures of molecules. `Topology` objects are usually built up one species at a time from `Molecule` objects.\n",
    "\n",
    "`Molecule` objects can be retrieved from a `Topology` via the [`Topology.molecule()`](openff.toolkit.topology.Topology.molecule) method by providing the index of the molecule within the topology. For a topology consisting of a single molecule, this is just `topology.molecule(0)`.\n",
    "\n",
    "Constructor methods that are available for `Topology` but not `Molecule` generally require a `Molecule` to be provided via the `unique_molecules` keyword argument. The provided `Molecule` is used to provide the identity of the molecule, including aromaticity, bond orders, formal charges, and so forth. These methods therefore don't provide a route to the graph of the molecule, but can be useful for reordering atoms to match another software package."
   ]
  },
  {
   "cell_type": "markdown",
   "id": "95eab062",
   "metadata": {},
   "source": [
    "### From an OpenMM `Topology`\n",
    "\n",
    "The [`Topology.from_openmm()`](openff.toolkit.topology.Topology.from_openmm) method constructs an OpenFF `Topology` from an OpenMM [`Topology`](openmm.app.topology.Topology). The method requires that all the unique molecules in the `Topology` are provided as OpenFF `Molecule` objects, as the structure of an OpenMM `Topology` doesn't include the concept of a molecule. When using this method to create a `Molecule`, this limitation means that the method really only offers a pathway to reorder the atoms of a `Molecule` to match that of the OpenMM `Topology`."
   ]
  },
  {
   "cell_type": "code",
   "execution_count": 19,
   "id": "40645664",
   "metadata": {},
   "outputs": [
    {
     "data": {
      "image/svg+xml": [
       "<svg xmlns=\"http://www.w3.org/2000/svg\" xmlns:rdkit=\"http://www.rdkit.org/xml\" xmlns:xlink=\"http://www.w3.org/1999/xlink\" version=\"1.1\" baseProfile=\"full\" xml:space=\"preserve\" width=\"500px\" height=\"300px\" viewBox=\"0 0 500 300\">\n",
       "<!-- END OF HEADER -->\n",
       "<rect style=\"opacity:1.0;fill:#FFFFFF;stroke:none\" width=\"500.0\" height=\"300.0\" x=\"0.0\" y=\"0.0\"> </rect>\n",
       "<path class=\"bond-0 atom-0 atom-2\" d=\"M 204.7,104.8 L 227.0,123.8\" style=\"fill:none;fill-rule:evenodd;stroke:#0000FF;stroke-width:2.0px;stroke-linecap:butt;stroke-linejoin:miter;stroke-opacity:1\"/>\n",
       "<path class=\"bond-0 atom-0 atom-2\" d=\"M 227.0,123.8 L 249.2,142.8\" style=\"fill:none;fill-rule:evenodd;stroke:#000000;stroke-width:2.0px;stroke-linecap:butt;stroke-linejoin:miter;stroke-opacity:1\"/>\n",
       "<path class=\"bond-1 atom-0 atom-10\" d=\"M 178.8,106.9 L 168.4,117.6\" style=\"fill:none;fill-rule:evenodd;stroke:#0000FF;stroke-width:2.0px;stroke-linecap:butt;stroke-linejoin:miter;stroke-opacity:1\"/>\n",
       "<path class=\"bond-1 atom-0 atom-10\" d=\"M 168.4,117.6 L 157.9,128.3\" style=\"fill:none;fill-rule:evenodd;stroke:#000000;stroke-width:2.0px;stroke-linecap:butt;stroke-linejoin:miter;stroke-opacity:1\"/>\n",
       "<path class=\"bond-2 atom-0 atom-11\" d=\"M 178.8,90.8 L 159.1,86.5\" style=\"fill:none;fill-rule:evenodd;stroke:#0000FF;stroke-width:2.0px;stroke-linecap:butt;stroke-linejoin:miter;stroke-opacity:1\"/>\n",
       "<path class=\"bond-2 atom-0 atom-11\" d=\"M 159.1,86.5 L 139.4,82.2\" style=\"fill:none;fill-rule:evenodd;stroke:#000000;stroke-width:2.0px;stroke-linecap:butt;stroke-linejoin:miter;stroke-opacity:1\"/>\n",
       "<path class=\"bond-3 atom-0 atom-12\" d=\"M 195.0,77.3 L 198.3,60.8\" style=\"fill:none;fill-rule:evenodd;stroke:#0000FF;stroke-width:2.0px;stroke-linecap:butt;stroke-linejoin:miter;stroke-opacity:1\"/>\n",
       "<path class=\"bond-3 atom-0 atom-12\" d=\"M 198.3,60.8 L 201.6,44.3\" style=\"fill:none;fill-rule:evenodd;stroke:#000000;stroke-width:2.0px;stroke-linecap:butt;stroke-linejoin:miter;stroke-opacity:1\"/>\n",
       "<path class=\"bond-4 atom-1 atom-2\" d=\"M 269.1,206.9 L 249.2,142.8\" style=\"fill:none;fill-rule:evenodd;stroke:#000000;stroke-width:2.0px;stroke-linecap:butt;stroke-linejoin:miter;stroke-opacity:1\"/>\n",
       "<path class=\"bond-5 atom-1 atom-6\" d=\"M 269.1,206.9 L 216.9,221.3\" style=\"fill:none;fill-rule:evenodd;stroke:#000000;stroke-width:2.0px;stroke-linecap:butt;stroke-linejoin:miter;stroke-opacity:1\"/>\n",
       "<path class=\"bond-6 atom-1 atom-7\" d=\"M 269.1,206.9 L 255.6,255.7\" style=\"fill:none;fill-rule:evenodd;stroke:#000000;stroke-width:2.0px;stroke-linecap:butt;stroke-linejoin:miter;stroke-opacity:1\"/>\n",
       "<path class=\"bond-7 atom-1 atom-8\" d=\"M 269.1,206.9 L 320.3,220.4\" style=\"fill:none;fill-rule:evenodd;stroke:#000000;stroke-width:2.0px;stroke-linecap:butt;stroke-linejoin:miter;stroke-opacity:1\"/>\n",
       "<path class=\"bond-8 atom-2 atom-3\" d=\"M 249.2,142.8 L 292.6,93.2\" style=\"fill:none;fill-rule:evenodd;stroke:#000000;stroke-width:2.0px;stroke-linecap:butt;stroke-linejoin:miter;stroke-opacity:1\"/>\n",
       "<path class=\"bond-9 atom-2 atom-9\" d=\"M 249.2,142.8 L 212.8,164.7 L 208.7,155.5 Z\" style=\"fill:#000000;fill-rule:evenodd;fill-opacity:1;stroke:#000000;stroke-width:0.5px;stroke-linecap:butt;stroke-linejoin:miter;stroke-opacity:1;\"/>\n",
       "<path class=\"bond-10 atom-3 atom-4\" d=\"M 298.4,94.3 L 289.8,69.8\" style=\"fill:none;fill-rule:evenodd;stroke:#000000;stroke-width:2.0px;stroke-linecap:butt;stroke-linejoin:miter;stroke-opacity:1\"/>\n",
       "<path class=\"bond-10 atom-3 atom-4\" d=\"M 289.8,69.8 L 281.2,45.2\" style=\"fill:none;fill-rule:evenodd;stroke:#FF0000;stroke-width:2.0px;stroke-linecap:butt;stroke-linejoin:miter;stroke-opacity:1\"/>\n",
       "<path class=\"bond-10 atom-3 atom-4\" d=\"M 288.8,97.6 L 280.3,73.0\" style=\"fill:none;fill-rule:evenodd;stroke:#000000;stroke-width:2.0px;stroke-linecap:butt;stroke-linejoin:miter;stroke-opacity:1\"/>\n",
       "<path class=\"bond-10 atom-3 atom-4\" d=\"M 280.3,73.0 L 271.7,48.5\" style=\"fill:none;fill-rule:evenodd;stroke:#FF0000;stroke-width:2.0px;stroke-linecap:butt;stroke-linejoin:miter;stroke-opacity:1\"/>\n",
       "<path class=\"bond-11 atom-3 atom-5\" d=\"M 292.6,93.2 L 317.8,98.2\" style=\"fill:none;fill-rule:evenodd;stroke:#000000;stroke-width:2.0px;stroke-linecap:butt;stroke-linejoin:miter;stroke-opacity:1\"/>\n",
       "<path class=\"bond-11 atom-3 atom-5\" d=\"M 317.8,98.2 L 343.0,103.2\" style=\"fill:none;fill-rule:evenodd;stroke:#FF0000;stroke-width:2.0px;stroke-linecap:butt;stroke-linejoin:miter;stroke-opacity:1\"/>\n",
       "<path d=\"M 290.5,95.7 L 292.6,93.2 L 293.9,93.5\" style=\"fill:none;stroke:#000000;stroke-width:2.0px;stroke-linecap:butt;stroke-linejoin:miter;stroke-opacity:1;\"/>\n",
       "<path class=\"atom-0\" d=\"M 185.5 79.5 L 194.8 94.5 Q 195.7 96.0, 197.2 98.7 Q 198.7 101.4, 198.8 101.5 L 198.8 79.5 L 202.5 79.5 L 202.5 107.9 L 198.6 107.9 L 188.7 91.5 Q 187.5 89.5, 186.3 87.3 Q 185.1 85.1, 184.7 84.5 L 184.7 107.9 L 181.0 107.9 L 181.0 79.5 L 185.5 79.5 \" fill=\"#0000FF\"/>\n",
       "<path class=\"atom-0\" d=\"M 207.8 84.6 L 212.8 84.6 L 212.8 79.4 L 215.1 79.4 L 215.1 84.6 L 220.2 84.6 L 220.2 86.5 L 215.1 86.5 L 215.1 91.8 L 212.8 91.8 L 212.8 86.5 L 207.8 86.5 L 207.8 84.6 \" fill=\"#0000FF\"/>\n",
       "<path class=\"atom-4\" d=\"M 257.6 30.0 Q 257.6 23.2, 260.9 19.4 Q 264.3 15.6, 270.6 15.6 Q 276.8 15.6, 280.2 19.4 Q 283.6 23.2, 283.6 30.0 Q 283.6 36.8, 280.2 40.8 Q 276.8 44.6, 270.6 44.6 Q 264.3 44.6, 260.9 40.8 Q 257.6 36.9, 257.6 30.0 M 270.6 41.4 Q 274.9 41.4, 277.2 38.6 Q 279.6 35.6, 279.6 30.0 Q 279.6 24.4, 277.2 21.6 Q 274.9 18.8, 270.6 18.8 Q 266.2 18.8, 263.9 21.6 Q 261.6 24.4, 261.6 30.0 Q 261.6 35.7, 263.9 38.6 Q 266.2 41.4, 270.6 41.4 \" fill=\"#FF0000\"/>\n",
       "<path class=\"atom-5\" d=\"M 345.2 106.3 Q 345.2 99.5, 348.6 95.7 Q 351.9 91.9, 358.2 91.9 Q 364.5 91.9, 367.9 95.7 Q 371.2 99.5, 371.2 106.3 Q 371.2 113.2, 367.8 117.1 Q 364.4 121.0, 358.2 121.0 Q 352.0 121.0, 348.6 117.1 Q 345.2 113.2, 345.2 106.3 M 358.2 117.8 Q 362.5 117.8, 364.9 114.9 Q 367.2 112.0, 367.2 106.3 Q 367.2 100.7, 364.9 97.9 Q 362.5 95.1, 358.2 95.1 Q 353.9 95.1, 351.5 97.9 Q 349.2 100.7, 349.2 106.3 Q 349.2 112.0, 351.5 114.9 Q 353.9 117.8, 358.2 117.8 \" fill=\"#FF0000\"/>\n",
       "<path class=\"atom-5\" d=\"M 375.3 96.5 L 384.9 96.5 L 384.9 98.6 L 375.3 98.6 L 375.3 96.5 \" fill=\"#FF0000\"/>\n",
       "<path class=\"atom-6\" d=\"M 192.6 210.8 L 196.4 210.8 L 196.4 222.9 L 210.9 222.9 L 210.9 210.8 L 214.7 210.8 L 214.7 239.2 L 210.9 239.2 L 210.9 226.1 L 196.4 226.1 L 196.4 239.2 L 192.6 239.2 L 192.6 210.8 \" fill=\"#000000\"/>\n",
       "<path class=\"atom-7\" d=\"M 240.0 257.9 L 243.8 257.9 L 243.8 270.0 L 258.3 270.0 L 258.3 257.9 L 262.2 257.9 L 262.2 286.2 L 258.3 286.2 L 258.3 273.2 L 243.8 273.2 L 243.8 286.2 L 240.0 286.2 L 240.0 257.9 \" fill=\"#000000\"/>\n",
       "<path class=\"atom-8\" d=\"M 322.5 209.8 L 326.4 209.8 L 326.4 221.8 L 340.8 221.8 L 340.8 209.8 L 344.7 209.8 L 344.7 238.1 L 340.8 238.1 L 340.8 225.0 L 326.4 225.0 L 326.4 238.1 L 322.5 238.1 L 322.5 209.8 \" fill=\"#000000\"/>\n",
       "<path class=\"atom-9\" d=\"M 184.2 153.0 L 188.0 153.0 L 188.0 165.0 L 202.5 165.0 L 202.5 153.0 L 206.3 153.0 L 206.3 181.3 L 202.5 181.3 L 202.5 168.2 L 188.0 168.2 L 188.0 181.3 L 184.2 181.3 L 184.2 153.0 \" fill=\"#000000\"/>\n",
       "<path class=\"atom-10\" d=\"M 133.5 127.7 L 137.4 127.7 L 137.4 139.8 L 151.9 139.8 L 151.9 127.7 L 155.7 127.7 L 155.7 156.0 L 151.9 156.0 L 151.9 143.0 L 137.4 143.0 L 137.4 156.0 L 133.5 156.0 L 133.5 127.7 \" fill=\"#000000\"/>\n",
       "<path class=\"atom-11\" d=\"M 115.1 65.1 L 118.9 65.1 L 118.9 77.1 L 133.4 77.1 L 133.4 65.1 L 137.2 65.1 L 137.2 93.4 L 133.4 93.4 L 133.4 80.3 L 118.9 80.3 L 118.9 93.4 L 115.1 93.4 L 115.1 65.1 \" fill=\"#000000\"/>\n",
       "<path class=\"atom-12\" d=\"M 193.8 13.8 L 197.6 13.8 L 197.6 25.8 L 212.1 25.8 L 212.1 13.8 L 215.9 13.8 L 215.9 42.1 L 212.1 42.1 L 212.1 29.0 L 197.6 29.0 L 197.6 42.1 L 193.8 42.1 L 193.8 13.8 \" fill=\"#000000\"/>\n",
       "</svg>"
      ],
      "text/plain": [
       "<IPython.core.display.SVG object>"
      ]
     },
     "execution_count": 19,
     "metadata": {},
     "output_type": "execute_result"
    }
   ],
   "source": [
    "from openmm.app.pdbfile import PDBFile\n",
    "\n",
    "openmm_topology = PDBFile(\"zw_l_alanine.pdb\").getTopology()\n",
    "openff_topology = Topology.from_openmm(openmm_topology, unique_molecules=[zw_l_alanine])\n",
    "\n",
    "from_openmm_topology = openff_topology.molecule(0)\n",
    "\n",
    "assert zw_l_alanine.is_isomorphic_with(from_openmm_topology)\n",
    "\n",
    "from_openmm_topology.visualize()"
   ]
  },
  {
   "cell_type": "markdown",
   "id": "39e06787",
   "metadata": {},
   "source": [
    "### From an MDTraj `Topology`\n",
    "\n",
    "The [`Topology.from_mdtraj()`](openff.toolkit.topology.Topology.from_mdtraj) method constructs an OpenFF `Topology` from an MDTraj [`Topology`](mdtraj.Topology). The method requires that all the unique molecules in the `Topology` are provided as OpenFF `Molecule` objects to ensure that the graph of the molecule is correct. When using this method to create a `Molecule`, this limitation means that the method really only offers a pathway to reorder the atoms of a `Molecule` to match that of the MDTraj `Topology`."
   ]
  },
  {
   "cell_type": "code",
   "execution_count": 20,
   "id": "68ee9ed2",
   "metadata": {},
   "outputs": [
    {
     "data": {
      "image/svg+xml": [
       "<svg xmlns=\"http://www.w3.org/2000/svg\" xmlns:rdkit=\"http://www.rdkit.org/xml\" xmlns:xlink=\"http://www.w3.org/1999/xlink\" version=\"1.1\" baseProfile=\"full\" xml:space=\"preserve\" width=\"500px\" height=\"300px\" viewBox=\"0 0 500 300\">\n",
       "<!-- END OF HEADER -->\n",
       "<rect style=\"opacity:1.0;fill:#FFFFFF;stroke:none\" width=\"500.0\" height=\"300.0\" x=\"0.0\" y=\"0.0\"> </rect>\n",
       "<path class=\"bond-0 atom-0 atom-2\" d=\"M 204.7,104.8 L 227.0,123.8\" style=\"fill:none;fill-rule:evenodd;stroke:#0000FF;stroke-width:2.0px;stroke-linecap:butt;stroke-linejoin:miter;stroke-opacity:1\"/>\n",
       "<path class=\"bond-0 atom-0 atom-2\" d=\"M 227.0,123.8 L 249.2,142.8\" style=\"fill:none;fill-rule:evenodd;stroke:#000000;stroke-width:2.0px;stroke-linecap:butt;stroke-linejoin:miter;stroke-opacity:1\"/>\n",
       "<path class=\"bond-1 atom-0 atom-10\" d=\"M 178.8,106.9 L 168.4,117.6\" style=\"fill:none;fill-rule:evenodd;stroke:#0000FF;stroke-width:2.0px;stroke-linecap:butt;stroke-linejoin:miter;stroke-opacity:1\"/>\n",
       "<path class=\"bond-1 atom-0 atom-10\" d=\"M 168.4,117.6 L 157.9,128.3\" style=\"fill:none;fill-rule:evenodd;stroke:#000000;stroke-width:2.0px;stroke-linecap:butt;stroke-linejoin:miter;stroke-opacity:1\"/>\n",
       "<path class=\"bond-2 atom-0 atom-11\" d=\"M 178.8,90.8 L 159.1,86.5\" style=\"fill:none;fill-rule:evenodd;stroke:#0000FF;stroke-width:2.0px;stroke-linecap:butt;stroke-linejoin:miter;stroke-opacity:1\"/>\n",
       "<path class=\"bond-2 atom-0 atom-11\" d=\"M 159.1,86.5 L 139.4,82.2\" style=\"fill:none;fill-rule:evenodd;stroke:#000000;stroke-width:2.0px;stroke-linecap:butt;stroke-linejoin:miter;stroke-opacity:1\"/>\n",
       "<path class=\"bond-3 atom-0 atom-12\" d=\"M 195.0,77.3 L 198.3,60.8\" style=\"fill:none;fill-rule:evenodd;stroke:#0000FF;stroke-width:2.0px;stroke-linecap:butt;stroke-linejoin:miter;stroke-opacity:1\"/>\n",
       "<path class=\"bond-3 atom-0 atom-12\" d=\"M 198.3,60.8 L 201.6,44.3\" style=\"fill:none;fill-rule:evenodd;stroke:#000000;stroke-width:2.0px;stroke-linecap:butt;stroke-linejoin:miter;stroke-opacity:1\"/>\n",
       "<path class=\"bond-4 atom-1 atom-2\" d=\"M 269.1,206.9 L 249.2,142.8\" style=\"fill:none;fill-rule:evenodd;stroke:#000000;stroke-width:2.0px;stroke-linecap:butt;stroke-linejoin:miter;stroke-opacity:1\"/>\n",
       "<path class=\"bond-5 atom-1 atom-6\" d=\"M 269.1,206.9 L 216.9,221.3\" style=\"fill:none;fill-rule:evenodd;stroke:#000000;stroke-width:2.0px;stroke-linecap:butt;stroke-linejoin:miter;stroke-opacity:1\"/>\n",
       "<path class=\"bond-6 atom-1 atom-7\" d=\"M 269.1,206.9 L 255.6,255.7\" style=\"fill:none;fill-rule:evenodd;stroke:#000000;stroke-width:2.0px;stroke-linecap:butt;stroke-linejoin:miter;stroke-opacity:1\"/>\n",
       "<path class=\"bond-7 atom-1 atom-8\" d=\"M 269.1,206.9 L 320.3,220.4\" style=\"fill:none;fill-rule:evenodd;stroke:#000000;stroke-width:2.0px;stroke-linecap:butt;stroke-linejoin:miter;stroke-opacity:1\"/>\n",
       "<path class=\"bond-8 atom-2 atom-3\" d=\"M 249.2,142.8 L 292.6,93.2\" style=\"fill:none;fill-rule:evenodd;stroke:#000000;stroke-width:2.0px;stroke-linecap:butt;stroke-linejoin:miter;stroke-opacity:1\"/>\n",
       "<path class=\"bond-9 atom-2 atom-9\" d=\"M 249.2,142.8 L 212.8,164.7 L 208.7,155.5 Z\" style=\"fill:#000000;fill-rule:evenodd;fill-opacity:1;stroke:#000000;stroke-width:0.5px;stroke-linecap:butt;stroke-linejoin:miter;stroke-opacity:1;\"/>\n",
       "<path class=\"bond-10 atom-3 atom-4\" d=\"M 298.4,94.3 L 289.8,69.8\" style=\"fill:none;fill-rule:evenodd;stroke:#000000;stroke-width:2.0px;stroke-linecap:butt;stroke-linejoin:miter;stroke-opacity:1\"/>\n",
       "<path class=\"bond-10 atom-3 atom-4\" d=\"M 289.8,69.8 L 281.2,45.2\" style=\"fill:none;fill-rule:evenodd;stroke:#FF0000;stroke-width:2.0px;stroke-linecap:butt;stroke-linejoin:miter;stroke-opacity:1\"/>\n",
       "<path class=\"bond-10 atom-3 atom-4\" d=\"M 288.8,97.6 L 280.3,73.0\" style=\"fill:none;fill-rule:evenodd;stroke:#000000;stroke-width:2.0px;stroke-linecap:butt;stroke-linejoin:miter;stroke-opacity:1\"/>\n",
       "<path class=\"bond-10 atom-3 atom-4\" d=\"M 280.3,73.0 L 271.7,48.5\" style=\"fill:none;fill-rule:evenodd;stroke:#FF0000;stroke-width:2.0px;stroke-linecap:butt;stroke-linejoin:miter;stroke-opacity:1\"/>\n",
       "<path class=\"bond-11 atom-3 atom-5\" d=\"M 292.6,93.2 L 317.8,98.2\" style=\"fill:none;fill-rule:evenodd;stroke:#000000;stroke-width:2.0px;stroke-linecap:butt;stroke-linejoin:miter;stroke-opacity:1\"/>\n",
       "<path class=\"bond-11 atom-3 atom-5\" d=\"M 317.8,98.2 L 343.0,103.2\" style=\"fill:none;fill-rule:evenodd;stroke:#FF0000;stroke-width:2.0px;stroke-linecap:butt;stroke-linejoin:miter;stroke-opacity:1\"/>\n",
       "<path d=\"M 290.5,95.7 L 292.6,93.2 L 293.9,93.5\" style=\"fill:none;stroke:#000000;stroke-width:2.0px;stroke-linecap:butt;stroke-linejoin:miter;stroke-opacity:1;\"/>\n",
       "<path class=\"atom-0\" d=\"M 185.5 79.5 L 194.8 94.5 Q 195.7 96.0, 197.2 98.7 Q 198.7 101.4, 198.8 101.5 L 198.8 79.5 L 202.5 79.5 L 202.5 107.9 L 198.6 107.9 L 188.7 91.5 Q 187.5 89.5, 186.3 87.3 Q 185.1 85.1, 184.7 84.5 L 184.7 107.9 L 181.0 107.9 L 181.0 79.5 L 185.5 79.5 \" fill=\"#0000FF\"/>\n",
       "<path class=\"atom-0\" d=\"M 207.8 84.6 L 212.8 84.6 L 212.8 79.4 L 215.1 79.4 L 215.1 84.6 L 220.2 84.6 L 220.2 86.5 L 215.1 86.5 L 215.1 91.8 L 212.8 91.8 L 212.8 86.5 L 207.8 86.5 L 207.8 84.6 \" fill=\"#0000FF\"/>\n",
       "<path class=\"atom-4\" d=\"M 257.6 30.0 Q 257.6 23.2, 260.9 19.4 Q 264.3 15.6, 270.6 15.6 Q 276.8 15.6, 280.2 19.4 Q 283.6 23.2, 283.6 30.0 Q 283.6 36.8, 280.2 40.8 Q 276.8 44.6, 270.6 44.6 Q 264.3 44.6, 260.9 40.8 Q 257.6 36.9, 257.6 30.0 M 270.6 41.4 Q 274.9 41.4, 277.2 38.6 Q 279.6 35.6, 279.6 30.0 Q 279.6 24.4, 277.2 21.6 Q 274.9 18.8, 270.6 18.8 Q 266.2 18.8, 263.9 21.6 Q 261.6 24.4, 261.6 30.0 Q 261.6 35.7, 263.9 38.6 Q 266.2 41.4, 270.6 41.4 \" fill=\"#FF0000\"/>\n",
       "<path class=\"atom-5\" d=\"M 345.2 106.3 Q 345.2 99.5, 348.6 95.7 Q 351.9 91.9, 358.2 91.9 Q 364.5 91.9, 367.9 95.7 Q 371.2 99.5, 371.2 106.3 Q 371.2 113.2, 367.8 117.1 Q 364.4 121.0, 358.2 121.0 Q 352.0 121.0, 348.6 117.1 Q 345.2 113.2, 345.2 106.3 M 358.2 117.8 Q 362.5 117.8, 364.9 114.9 Q 367.2 112.0, 367.2 106.3 Q 367.2 100.7, 364.9 97.9 Q 362.5 95.1, 358.2 95.1 Q 353.9 95.1, 351.5 97.9 Q 349.2 100.7, 349.2 106.3 Q 349.2 112.0, 351.5 114.9 Q 353.9 117.8, 358.2 117.8 \" fill=\"#FF0000\"/>\n",
       "<path class=\"atom-5\" d=\"M 375.3 96.5 L 384.9 96.5 L 384.9 98.6 L 375.3 98.6 L 375.3 96.5 \" fill=\"#FF0000\"/>\n",
       "<path class=\"atom-6\" d=\"M 192.6 210.8 L 196.4 210.8 L 196.4 222.9 L 210.9 222.9 L 210.9 210.8 L 214.7 210.8 L 214.7 239.2 L 210.9 239.2 L 210.9 226.1 L 196.4 226.1 L 196.4 239.2 L 192.6 239.2 L 192.6 210.8 \" fill=\"#000000\"/>\n",
       "<path class=\"atom-7\" d=\"M 240.0 257.9 L 243.8 257.9 L 243.8 270.0 L 258.3 270.0 L 258.3 257.9 L 262.2 257.9 L 262.2 286.2 L 258.3 286.2 L 258.3 273.2 L 243.8 273.2 L 243.8 286.2 L 240.0 286.2 L 240.0 257.9 \" fill=\"#000000\"/>\n",
       "<path class=\"atom-8\" d=\"M 322.5 209.8 L 326.4 209.8 L 326.4 221.8 L 340.8 221.8 L 340.8 209.8 L 344.7 209.8 L 344.7 238.1 L 340.8 238.1 L 340.8 225.0 L 326.4 225.0 L 326.4 238.1 L 322.5 238.1 L 322.5 209.8 \" fill=\"#000000\"/>\n",
       "<path class=\"atom-9\" d=\"M 184.2 153.0 L 188.0 153.0 L 188.0 165.0 L 202.5 165.0 L 202.5 153.0 L 206.3 153.0 L 206.3 181.3 L 202.5 181.3 L 202.5 168.2 L 188.0 168.2 L 188.0 181.3 L 184.2 181.3 L 184.2 153.0 \" fill=\"#000000\"/>\n",
       "<path class=\"atom-10\" d=\"M 133.5 127.7 L 137.4 127.7 L 137.4 139.8 L 151.9 139.8 L 151.9 127.7 L 155.7 127.7 L 155.7 156.0 L 151.9 156.0 L 151.9 143.0 L 137.4 143.0 L 137.4 156.0 L 133.5 156.0 L 133.5 127.7 \" fill=\"#000000\"/>\n",
       "<path class=\"atom-11\" d=\"M 115.1 65.1 L 118.9 65.1 L 118.9 77.1 L 133.4 77.1 L 133.4 65.1 L 137.2 65.1 L 137.2 93.4 L 133.4 93.4 L 133.4 80.3 L 118.9 80.3 L 118.9 93.4 L 115.1 93.4 L 115.1 65.1 \" fill=\"#000000\"/>\n",
       "<path class=\"atom-12\" d=\"M 193.8 13.8 L 197.6 13.8 L 197.6 25.8 L 212.1 25.8 L 212.1 13.8 L 215.9 13.8 L 215.9 42.1 L 212.1 42.1 L 212.1 29.0 L 197.6 29.0 L 197.6 42.1 L 193.8 42.1 L 193.8 13.8 \" fill=\"#000000\"/>\n",
       "</svg>"
      ],
      "text/plain": [
       "<IPython.core.display.SVG object>"
      ]
     },
     "execution_count": 20,
     "metadata": {},
     "output_type": "execute_result"
    }
   ],
   "source": [
    "from mdtraj import load_pdb\n",
    "\n",
    "mdtraj_topology = load_pdb(\"zw_l_alanine.pdb\").topology\n",
    "openff_topology = Topology.from_openmm(openmm_topology, unique_molecules=[zw_l_alanine])\n",
    "\n",
    "from_mdtraj_topology = openff_topology.molecule(0)\n",
    "\n",
    "assert zw_l_alanine.is_isomorphic_with(from_mdtraj_topology)\n",
    "\n",
    "from_mdtraj_topology.visualize()"
   ]
  },
  {
   "cell_type": "markdown",
   "id": "29c39bd1",
   "metadata": {},
   "source": [
    "## From Toolkit objects\n",
    "\n",
    "The OpenFF Toolkit calls out to other software to perform low-level tasks like reading SMILES or files. These external software packages are called toolkits, and presently include [RDKit](https://www.rdkit.org/) and the [OpenEye Toolkit](https://www.eyesopen.com/toolkit-development). OpenFF `Molecule` objects can be created from the equivalent objects in these toolkits."
   ]
  },
  {
   "cell_type": "markdown",
   "id": "c6f2af84",
   "metadata": {},
   "source": [
    "### From RDKit `Mol`\n",
    "\n",
    "The [`Molecule.from_rdkit()`](openff.toolkit.topology.Molecule.from_rdkit) method converts an [`rdkit.Chem.rdchem.Mol`](rdkit.Chem.rdchem.Mol) object to an OpenFF `Molecule`."
   ]
  },
  {
   "cell_type": "code",
   "execution_count": 21,
   "id": "fae232e6",
   "metadata": {},
   "outputs": [
    {
     "name": "stdout",
     "output_type": "stream",
     "text": [
      "rdmol is of type <class 'rdkit.Chem.rdchem.Mol'>\n"
     ]
    },
    {
     "data": {
      "image/svg+xml": [
       "<svg xmlns=\"http://www.w3.org/2000/svg\" xmlns:rdkit=\"http://www.rdkit.org/xml\" xmlns:xlink=\"http://www.w3.org/1999/xlink\" version=\"1.1\" baseProfile=\"full\" xml:space=\"preserve\" width=\"500px\" height=\"300px\" viewBox=\"0 0 500 300\">\n",
       "<!-- END OF HEADER -->\n",
       "<rect style=\"opacity:1.0;fill:#FFFFFF;stroke:none\" width=\"500.0\" height=\"300.0\" x=\"0.0\" y=\"0.0\"> </rect>\n",
       "<path class=\"bond-0 atom-0 atom-1\" d=\"M 276.5,80.1 L 256.1,148.4\" style=\"fill:none;fill-rule:evenodd;stroke:#000000;stroke-width:2.0px;stroke-linecap:butt;stroke-linejoin:miter;stroke-opacity:1\"/>\n",
       "<path class=\"bond-1 atom-1 atom-2\" d=\"M 256.1,148.4 L 235.3,166.5\" style=\"fill:none;fill-rule:evenodd;stroke:#000000;stroke-width:2.0px;stroke-linecap:butt;stroke-linejoin:miter;stroke-opacity:1\"/>\n",
       "<path class=\"bond-1 atom-1 atom-2\" d=\"M 235.3,166.5 L 214.5,184.6\" style=\"fill:none;fill-rule:evenodd;stroke:#0000FF;stroke-width:2.0px;stroke-linecap:butt;stroke-linejoin:miter;stroke-opacity:1\"/>\n",
       "<path class=\"bond-2 atom-1 atom-3\" d=\"M 256.1,148.4 L 302.8,200.7\" style=\"fill:none;fill-rule:evenodd;stroke:#000000;stroke-width:2.0px;stroke-linecap:butt;stroke-linejoin:miter;stroke-opacity:1\"/>\n",
       "<path class=\"bond-3 atom-3 atom-4\" d=\"M 302.8,200.7 L 294.2,226.3\" style=\"fill:none;fill-rule:evenodd;stroke:#000000;stroke-width:2.0px;stroke-linecap:butt;stroke-linejoin:miter;stroke-opacity:1\"/>\n",
       "<path class=\"bond-3 atom-3 atom-4\" d=\"M 294.2,226.3 L 285.6,251.8\" style=\"fill:none;fill-rule:evenodd;stroke:#FF0000;stroke-width:2.0px;stroke-linecap:butt;stroke-linejoin:miter;stroke-opacity:1\"/>\n",
       "<path class=\"bond-4 atom-3 atom-5\" d=\"M 300.8,206.6 L 329.5,200.6\" style=\"fill:none;fill-rule:evenodd;stroke:#000000;stroke-width:2.0px;stroke-linecap:butt;stroke-linejoin:miter;stroke-opacity:1\"/>\n",
       "<path class=\"bond-4 atom-3 atom-5\" d=\"M 329.5,200.6 L 358.2,194.6\" style=\"fill:none;fill-rule:evenodd;stroke:#FF0000;stroke-width:2.0px;stroke-linecap:butt;stroke-linejoin:miter;stroke-opacity:1\"/>\n",
       "<path class=\"bond-4 atom-3 atom-5\" d=\"M 298.7,196.1 L 327.3,190.1\" style=\"fill:none;fill-rule:evenodd;stroke:#000000;stroke-width:2.0px;stroke-linecap:butt;stroke-linejoin:miter;stroke-opacity:1\"/>\n",
       "<path class=\"bond-4 atom-3 atom-5\" d=\"M 327.3,190.1 L 356.0,184.1\" style=\"fill:none;fill-rule:evenodd;stroke:#FF0000;stroke-width:2.0px;stroke-linecap:butt;stroke-linejoin:miter;stroke-opacity:1\"/>\n",
       "<path class=\"bond-5 atom-0 atom-6\" d=\"M 276.5,80.1 L 331.6,94.8\" style=\"fill:none;fill-rule:evenodd;stroke:#000000;stroke-width:2.0px;stroke-linecap:butt;stroke-linejoin:miter;stroke-opacity:1\"/>\n",
       "<path class=\"bond-6 atom-0 atom-7\" d=\"M 276.5,80.1 L 312.5,42.8\" style=\"fill:none;fill-rule:evenodd;stroke:#000000;stroke-width:2.0px;stroke-linecap:butt;stroke-linejoin:miter;stroke-opacity:1\"/>\n",
       "<path class=\"bond-7 atom-0 atom-8\" d=\"M 276.5,80.1 L 238.5,42.7\" style=\"fill:none;fill-rule:evenodd;stroke:#000000;stroke-width:2.0px;stroke-linecap:butt;stroke-linejoin:miter;stroke-opacity:1\"/>\n",
       "<path class=\"bond-8 atom-1 atom-9\" d=\"M 252.7,147.4 L 253.0,146.6\" style=\"fill:none;fill-rule:evenodd;stroke:#000000;stroke-width:1.0px;stroke-linecap:butt;stroke-linejoin:miter;stroke-opacity:1\"/>\n",
       "<path class=\"bond-8 atom-1 atom-9\" d=\"M 249.3,146.3 L 250.0,144.8\" style=\"fill:none;fill-rule:evenodd;stroke:#000000;stroke-width:1.0px;stroke-linecap:butt;stroke-linejoin:miter;stroke-opacity:1\"/>\n",
       "<path class=\"bond-8 atom-1 atom-9\" d=\"M 245.9,145.3 L 246.9,143.0\" style=\"fill:none;fill-rule:evenodd;stroke:#000000;stroke-width:1.0px;stroke-linecap:butt;stroke-linejoin:miter;stroke-opacity:1\"/>\n",
       "<path class=\"bond-8 atom-1 atom-9\" d=\"M 242.5,144.3 L 243.9,141.2\" style=\"fill:none;fill-rule:evenodd;stroke:#000000;stroke-width:1.0px;stroke-linecap:butt;stroke-linejoin:miter;stroke-opacity:1\"/>\n",
       "<path class=\"bond-8 atom-1 atom-9\" d=\"M 239.2,143.2 L 240.8,139.4\" style=\"fill:none;fill-rule:evenodd;stroke:#000000;stroke-width:1.0px;stroke-linecap:butt;stroke-linejoin:miter;stroke-opacity:1\"/>\n",
       "<path class=\"bond-8 atom-1 atom-9\" d=\"M 235.8,142.2 L 237.8,137.7\" style=\"fill:none;fill-rule:evenodd;stroke:#000000;stroke-width:1.0px;stroke-linecap:butt;stroke-linejoin:miter;stroke-opacity:1\"/>\n",
       "<path class=\"bond-8 atom-1 atom-9\" d=\"M 232.4,141.1 L 234.7,135.9\" style=\"fill:none;fill-rule:evenodd;stroke:#000000;stroke-width:1.0px;stroke-linecap:butt;stroke-linejoin:miter;stroke-opacity:1\"/>\n",
       "<path class=\"bond-8 atom-1 atom-9\" d=\"M 229.0,140.1 L 231.6,134.1\" style=\"fill:none;fill-rule:evenodd;stroke:#000000;stroke-width:1.0px;stroke-linecap:butt;stroke-linejoin:miter;stroke-opacity:1\"/>\n",
       "<path class=\"bond-8 atom-1 atom-9\" d=\"M 225.6,139.1 L 228.6,132.3\" style=\"fill:none;fill-rule:evenodd;stroke:#000000;stroke-width:1.0px;stroke-linecap:butt;stroke-linejoin:miter;stroke-opacity:1\"/>\n",
       "<path class=\"bond-8 atom-1 atom-9\" d=\"M 222.2,138.0 L 225.5,130.5\" style=\"fill:none;fill-rule:evenodd;stroke:#000000;stroke-width:1.0px;stroke-linecap:butt;stroke-linejoin:miter;stroke-opacity:1\"/>\n",
       "<path class=\"bond-8 atom-1 atom-9\" d=\"M 218.8,137.0 L 222.5,128.7\" style=\"fill:none;fill-rule:evenodd;stroke:#000000;stroke-width:1.0px;stroke-linecap:butt;stroke-linejoin:miter;stroke-opacity:1\"/>\n",
       "<path class=\"bond-8 atom-1 atom-9\" d=\"M 215.5,135.9 L 219.4,126.9\" style=\"fill:none;fill-rule:evenodd;stroke:#000000;stroke-width:1.0px;stroke-linecap:butt;stroke-linejoin:miter;stroke-opacity:1\"/>\n",
       "<path class=\"bond-8 atom-1 atom-9\" d=\"M 212.1,134.9 L 216.4,125.1\" style=\"fill:none;fill-rule:evenodd;stroke:#000000;stroke-width:1.0px;stroke-linecap:butt;stroke-linejoin:miter;stroke-opacity:1\"/>\n",
       "<path class=\"bond-9 atom-2 atom-10\" d=\"M 182.3,188.1 L 170.2,176.0\" style=\"fill:none;fill-rule:evenodd;stroke:#0000FF;stroke-width:2.0px;stroke-linecap:butt;stroke-linejoin:miter;stroke-opacity:1\"/>\n",
       "<path class=\"bond-9 atom-2 atom-10\" d=\"M 170.2,176.0 L 158.2,163.9\" style=\"fill:none;fill-rule:evenodd;stroke:#000000;stroke-width:2.0px;stroke-linecap:butt;stroke-linejoin:miter;stroke-opacity:1\"/>\n",
       "<path class=\"bond-10 atom-2 atom-11\" d=\"M 182.3,204.3 L 160.7,209.2\" style=\"fill:none;fill-rule:evenodd;stroke:#0000FF;stroke-width:2.0px;stroke-linecap:butt;stroke-linejoin:miter;stroke-opacity:1\"/>\n",
       "<path class=\"bond-10 atom-2 atom-11\" d=\"M 160.7,209.2 L 139.1,214.2\" style=\"fill:none;fill-rule:evenodd;stroke:#000000;stroke-width:2.0px;stroke-linecap:butt;stroke-linejoin:miter;stroke-opacity:1\"/>\n",
       "<path class=\"bond-11 atom-2 atom-12\" d=\"M 198.8,217.8 L 202.6,236.2\" style=\"fill:none;fill-rule:evenodd;stroke:#0000FF;stroke-width:2.0px;stroke-linecap:butt;stroke-linejoin:miter;stroke-opacity:1\"/>\n",
       "<path class=\"bond-11 atom-2 atom-12\" d=\"M 202.6,236.2 L 206.5,254.6\" style=\"fill:none;fill-rule:evenodd;stroke:#000000;stroke-width:2.0px;stroke-linecap:butt;stroke-linejoin:miter;stroke-opacity:1\"/>\n",
       "<path d=\"M 300.4,198.1 L 302.8,200.7 L 302.3,202.0\" style=\"fill:none;stroke:#000000;stroke-width:2.0px;stroke-linecap:butt;stroke-linejoin:miter;stroke-opacity:1;\"/>\n",
       "<path class=\"atom-2\" d=\"M 189.1 187.1 L 198.4 202.1 Q 199.3 203.6, 200.8 206.2 Q 202.3 208.9, 202.4 209.1 L 202.4 187.1 L 206.1 187.1 L 206.1 215.4 L 202.2 215.4 L 192.3 199.0 Q 191.1 197.1, 189.9 194.9 Q 188.7 192.7, 188.3 192.0 L 188.3 215.4 L 184.6 215.4 L 184.6 187.1 L 189.1 187.1 \" fill=\"#0000FF\"/>\n",
       "<path class=\"atom-2\" d=\"M 211.4 192.2 L 216.4 192.2 L 216.4 186.9 L 218.6 186.9 L 218.6 192.2 L 223.8 192.2 L 223.8 194.1 L 218.6 194.1 L 218.6 199.4 L 216.4 199.4 L 216.4 194.1 L 211.4 194.1 L 211.4 192.2 \" fill=\"#0000FF\"/>\n",
       "<path class=\"atom-4\" d=\"M 267.0 268.5 Q 267.0 261.7, 270.4 257.9 Q 273.7 254.1, 280.0 254.1 Q 286.3 254.1, 289.6 257.9 Q 293.0 261.7, 293.0 268.5 Q 293.0 275.4, 289.6 279.3 Q 286.2 283.2, 280.0 283.2 Q 273.8 283.2, 270.4 279.3 Q 267.0 275.4, 267.0 268.5 M 280.0 280.0 Q 284.3 280.0, 286.6 277.1 Q 289.0 274.2, 289.0 268.5 Q 289.0 263.0, 286.6 260.2 Q 284.3 257.3, 280.0 257.3 Q 275.7 257.3, 273.3 260.1 Q 271.0 262.9, 271.0 268.5 Q 271.0 274.2, 273.3 277.1 Q 275.7 280.0, 280.0 280.0 \" fill=\"#FF0000\"/>\n",
       "<path class=\"atom-4\" d=\"M 297.0 258.7 L 306.7 258.7 L 306.7 260.8 L 297.0 260.8 L 297.0 258.7 \" fill=\"#FF0000\"/>\n",
       "<path class=\"atom-5\" d=\"M 359.5 186.3 Q 359.5 179.5, 362.8 175.7 Q 366.2 171.9, 372.5 171.9 Q 378.7 171.9, 382.1 175.7 Q 385.5 179.5, 385.5 186.3 Q 385.5 193.1, 382.1 197.1 Q 378.7 200.9, 372.5 200.9 Q 366.2 200.9, 362.8 197.1 Q 359.5 193.2, 359.5 186.3 M 372.5 197.7 Q 376.8 197.7, 379.1 194.9 Q 381.5 191.9, 381.5 186.3 Q 381.5 180.7, 379.1 177.9 Q 376.8 175.1, 372.5 175.1 Q 368.1 175.1, 365.8 177.9 Q 363.5 180.7, 363.5 186.3 Q 363.5 192.0, 365.8 194.9 Q 368.1 197.7, 372.5 197.7 \" fill=\"#FF0000\"/>\n",
       "<path class=\"atom-6\" d=\"M 334.0 84.2 L 337.8 84.2 L 337.8 96.2 L 352.3 96.2 L 352.3 84.2 L 356.1 84.2 L 356.1 112.5 L 352.3 112.5 L 352.3 99.4 L 337.8 99.4 L 337.8 112.5 L 334.0 112.5 L 334.0 84.2 \" fill=\"#000000\"/>\n",
       "<path class=\"atom-7\" d=\"M 314.9 14.7 L 318.7 14.7 L 318.7 26.7 L 333.2 26.7 L 333.2 14.7 L 337.0 14.7 L 337.0 43.0 L 333.2 43.0 L 333.2 29.9 L 318.7 29.9 L 318.7 43.0 L 314.9 43.0 L 314.9 14.7 \" fill=\"#000000\"/>\n",
       "<path class=\"atom-8\" d=\"M 214.0 15.3 L 217.8 15.3 L 217.8 27.3 L 232.3 27.3 L 232.3 15.3 L 236.2 15.3 L 236.2 43.6 L 232.3 43.6 L 232.3 30.5 L 217.8 30.5 L 217.8 43.6 L 214.0 43.6 L 214.0 15.3 \" fill=\"#000000\"/>\n",
       "<path class=\"atom-9\" d=\"M 187.4 108.9 L 191.2 108.9 L 191.2 120.9 L 205.7 120.9 L 205.7 108.9 L 209.5 108.9 L 209.5 137.2 L 205.7 137.2 L 205.7 124.1 L 191.2 124.1 L 191.2 137.2 L 187.4 137.2 L 187.4 108.9 \" fill=\"#000000\"/>\n",
       "<path class=\"atom-10\" d=\"M 133.7 136.2 L 137.5 136.2 L 137.5 148.3 L 152.0 148.3 L 152.0 136.2 L 155.8 136.2 L 155.8 164.5 L 152.0 164.5 L 152.0 151.5 L 137.5 151.5 L 137.5 164.5 L 133.7 164.5 L 133.7 136.2 \" fill=\"#000000\"/>\n",
       "<path class=\"atom-11\" d=\"M 114.5 203.1 L 118.4 203.1 L 118.4 215.1 L 132.9 215.1 L 132.9 203.1 L 136.7 203.1 L 136.7 231.4 L 132.9 231.4 L 132.9 218.3 L 118.4 218.3 L 118.4 231.4 L 114.5 231.4 L 114.5 203.1 \" fill=\"#000000\"/>\n",
       "<path class=\"atom-12\" d=\"M 198.8 257.0 L 202.7 257.0 L 202.7 269.0 L 217.2 269.0 L 217.2 257.0 L 221.0 257.0 L 221.0 285.3 L 217.2 285.3 L 217.2 272.2 L 202.7 272.2 L 202.7 285.3 L 198.8 285.3 L 198.8 257.0 \" fill=\"#000000\"/>\n",
       "</svg>"
      ],
      "text/plain": [
       "<IPython.core.display.SVG object>"
      ]
     },
     "execution_count": 21,
     "metadata": {},
     "output_type": "execute_result"
    }
   ],
   "source": [
    "from rdkit import Chem\n",
    "\n",
    "rdmol = Chem.MolFromSmiles(\"C[C@H]([NH3+])C([O-])=O\")\n",
    "\n",
    "print(\"rdmol is of type\", type(rdmol))\n",
    "\n",
    "from_rdmol = Molecule.from_rdkit(rdmol)\n",
    "\n",
    "assert zw_l_alanine.is_isomorphic_with(from_rdmol)\n",
    "from_rdmol.visualize()"
   ]
  },
  {
   "cell_type": "markdown",
   "id": "6fe44fac",
   "metadata": {},
   "source": [
    "### From OpenEye `OEMol`\n",
    "\n",
    "The [`Molecule.from_openeye()`](openff.toolkit.topology.Molecule.from_rdkit) method converts an object that inherits from [`openeye.oechem.OEMolBase`](https://docs.eyesopen.com/toolkits/python/oechemtk/OEChemClasses/OEMolBase.html) to an OpenFF `Molecule`."
   ]
  },
  {
   "cell_type": "code",
   "execution_count": 22,
   "id": "c186257f",
   "metadata": {},
   "outputs": [
    {
     "data": {
      "image/svg+xml": [
       "<svg xmlns=\"http://www.w3.org/2000/svg\" xmlns:rdkit=\"http://www.rdkit.org/xml\" xmlns:xlink=\"http://www.w3.org/1999/xlink\" version=\"1.1\" baseProfile=\"full\" xml:space=\"preserve\" width=\"500px\" height=\"300px\" viewBox=\"0 0 500 300\">\n",
       "<!-- END OF HEADER -->\n",
       "<rect style=\"opacity:1.0;fill:#FFFFFF;stroke:none\" width=\"500.0\" height=\"300.0\" x=\"0.0\" y=\"0.0\"> </rect>\n",
       "<path class=\"bond-0 atom-0 atom-1\" d=\"M 276.5,80.1 L 256.1,148.4\" style=\"fill:none;fill-rule:evenodd;stroke:#000000;stroke-width:2.0px;stroke-linecap:butt;stroke-linejoin:miter;stroke-opacity:1\"/>\n",
       "<path class=\"bond-1 atom-1 atom-2\" d=\"M 252.7,147.4 L 253.0,146.6\" style=\"fill:none;fill-rule:evenodd;stroke:#000000;stroke-width:1.0px;stroke-linecap:butt;stroke-linejoin:miter;stroke-opacity:1\"/>\n",
       "<path class=\"bond-1 atom-1 atom-2\" d=\"M 249.3,146.3 L 250.0,144.8\" style=\"fill:none;fill-rule:evenodd;stroke:#000000;stroke-width:1.0px;stroke-linecap:butt;stroke-linejoin:miter;stroke-opacity:1\"/>\n",
       "<path class=\"bond-1 atom-1 atom-2\" d=\"M 245.9,145.3 L 246.9,143.0\" style=\"fill:none;fill-rule:evenodd;stroke:#000000;stroke-width:1.0px;stroke-linecap:butt;stroke-linejoin:miter;stroke-opacity:1\"/>\n",
       "<path class=\"bond-1 atom-1 atom-2\" d=\"M 242.5,144.3 L 243.9,141.2\" style=\"fill:none;fill-rule:evenodd;stroke:#000000;stroke-width:1.0px;stroke-linecap:butt;stroke-linejoin:miter;stroke-opacity:1\"/>\n",
       "<path class=\"bond-1 atom-1 atom-2\" d=\"M 239.2,143.2 L 240.8,139.4\" style=\"fill:none;fill-rule:evenodd;stroke:#000000;stroke-width:1.0px;stroke-linecap:butt;stroke-linejoin:miter;stroke-opacity:1\"/>\n",
       "<path class=\"bond-1 atom-1 atom-2\" d=\"M 235.8,142.2 L 237.8,137.7\" style=\"fill:none;fill-rule:evenodd;stroke:#000000;stroke-width:1.0px;stroke-linecap:butt;stroke-linejoin:miter;stroke-opacity:1\"/>\n",
       "<path class=\"bond-1 atom-1 atom-2\" d=\"M 232.4,141.1 L 234.7,135.9\" style=\"fill:none;fill-rule:evenodd;stroke:#000000;stroke-width:1.0px;stroke-linecap:butt;stroke-linejoin:miter;stroke-opacity:1\"/>\n",
       "<path class=\"bond-1 atom-1 atom-2\" d=\"M 229.0,140.1 L 231.6,134.1\" style=\"fill:none;fill-rule:evenodd;stroke:#000000;stroke-width:1.0px;stroke-linecap:butt;stroke-linejoin:miter;stroke-opacity:1\"/>\n",
       "<path class=\"bond-1 atom-1 atom-2\" d=\"M 225.6,139.1 L 228.6,132.3\" style=\"fill:none;fill-rule:evenodd;stroke:#000000;stroke-width:1.0px;stroke-linecap:butt;stroke-linejoin:miter;stroke-opacity:1\"/>\n",
       "<path class=\"bond-1 atom-1 atom-2\" d=\"M 222.2,138.0 L 225.5,130.5\" style=\"fill:none;fill-rule:evenodd;stroke:#000000;stroke-width:1.0px;stroke-linecap:butt;stroke-linejoin:miter;stroke-opacity:1\"/>\n",
       "<path class=\"bond-1 atom-1 atom-2\" d=\"M 218.8,137.0 L 222.5,128.7\" style=\"fill:none;fill-rule:evenodd;stroke:#000000;stroke-width:1.0px;stroke-linecap:butt;stroke-linejoin:miter;stroke-opacity:1\"/>\n",
       "<path class=\"bond-1 atom-1 atom-2\" d=\"M 215.5,135.9 L 219.4,126.9\" style=\"fill:none;fill-rule:evenodd;stroke:#000000;stroke-width:1.0px;stroke-linecap:butt;stroke-linejoin:miter;stroke-opacity:1\"/>\n",
       "<path class=\"bond-1 atom-1 atom-2\" d=\"M 212.1,134.9 L 216.4,125.1\" style=\"fill:none;fill-rule:evenodd;stroke:#000000;stroke-width:1.0px;stroke-linecap:butt;stroke-linejoin:miter;stroke-opacity:1\"/>\n",
       "<path class=\"bond-2 atom-1 atom-3\" d=\"M 256.1,148.4 L 235.3,166.5\" style=\"fill:none;fill-rule:evenodd;stroke:#000000;stroke-width:2.0px;stroke-linecap:butt;stroke-linejoin:miter;stroke-opacity:1\"/>\n",
       "<path class=\"bond-2 atom-1 atom-3\" d=\"M 235.3,166.5 L 214.5,184.6\" style=\"fill:none;fill-rule:evenodd;stroke:#0000FF;stroke-width:2.0px;stroke-linecap:butt;stroke-linejoin:miter;stroke-opacity:1\"/>\n",
       "<path class=\"bond-3 atom-1 atom-4\" d=\"M 256.1,148.4 L 302.8,200.7\" style=\"fill:none;fill-rule:evenodd;stroke:#000000;stroke-width:2.0px;stroke-linecap:butt;stroke-linejoin:miter;stroke-opacity:1\"/>\n",
       "<path class=\"bond-4 atom-4 atom-5\" d=\"M 302.8,200.7 L 294.2,226.3\" style=\"fill:none;fill-rule:evenodd;stroke:#000000;stroke-width:2.0px;stroke-linecap:butt;stroke-linejoin:miter;stroke-opacity:1\"/>\n",
       "<path class=\"bond-4 atom-4 atom-5\" d=\"M 294.2,226.3 L 285.6,251.8\" style=\"fill:none;fill-rule:evenodd;stroke:#FF0000;stroke-width:2.0px;stroke-linecap:butt;stroke-linejoin:miter;stroke-opacity:1\"/>\n",
       "<path class=\"bond-5 atom-4 atom-6\" d=\"M 300.8,206.6 L 329.5,200.6\" style=\"fill:none;fill-rule:evenodd;stroke:#000000;stroke-width:2.0px;stroke-linecap:butt;stroke-linejoin:miter;stroke-opacity:1\"/>\n",
       "<path class=\"bond-5 atom-4 atom-6\" d=\"M 329.5,200.6 L 358.2,194.6\" style=\"fill:none;fill-rule:evenodd;stroke:#FF0000;stroke-width:2.0px;stroke-linecap:butt;stroke-linejoin:miter;stroke-opacity:1\"/>\n",
       "<path class=\"bond-5 atom-4 atom-6\" d=\"M 298.7,196.1 L 327.3,190.1\" style=\"fill:none;fill-rule:evenodd;stroke:#000000;stroke-width:2.0px;stroke-linecap:butt;stroke-linejoin:miter;stroke-opacity:1\"/>\n",
       "<path class=\"bond-5 atom-4 atom-6\" d=\"M 327.3,190.1 L 356.0,184.1\" style=\"fill:none;fill-rule:evenodd;stroke:#FF0000;stroke-width:2.0px;stroke-linecap:butt;stroke-linejoin:miter;stroke-opacity:1\"/>\n",
       "<path class=\"bond-6 atom-0 atom-7\" d=\"M 276.5,80.1 L 331.6,94.8\" style=\"fill:none;fill-rule:evenodd;stroke:#000000;stroke-width:2.0px;stroke-linecap:butt;stroke-linejoin:miter;stroke-opacity:1\"/>\n",
       "<path class=\"bond-7 atom-0 atom-8\" d=\"M 276.5,80.1 L 312.5,42.8\" style=\"fill:none;fill-rule:evenodd;stroke:#000000;stroke-width:2.0px;stroke-linecap:butt;stroke-linejoin:miter;stroke-opacity:1\"/>\n",
       "<path class=\"bond-8 atom-0 atom-9\" d=\"M 276.5,80.1 L 238.5,42.7\" style=\"fill:none;fill-rule:evenodd;stroke:#000000;stroke-width:2.0px;stroke-linecap:butt;stroke-linejoin:miter;stroke-opacity:1\"/>\n",
       "<path class=\"bond-9 atom-3 atom-10\" d=\"M 182.3,188.1 L 170.2,176.0\" style=\"fill:none;fill-rule:evenodd;stroke:#0000FF;stroke-width:2.0px;stroke-linecap:butt;stroke-linejoin:miter;stroke-opacity:1\"/>\n",
       "<path class=\"bond-9 atom-3 atom-10\" d=\"M 170.2,176.0 L 158.2,163.9\" style=\"fill:none;fill-rule:evenodd;stroke:#000000;stroke-width:2.0px;stroke-linecap:butt;stroke-linejoin:miter;stroke-opacity:1\"/>\n",
       "<path class=\"bond-10 atom-3 atom-11\" d=\"M 182.3,204.3 L 160.7,209.2\" style=\"fill:none;fill-rule:evenodd;stroke:#0000FF;stroke-width:2.0px;stroke-linecap:butt;stroke-linejoin:miter;stroke-opacity:1\"/>\n",
       "<path class=\"bond-10 atom-3 atom-11\" d=\"M 160.7,209.2 L 139.1,214.2\" style=\"fill:none;fill-rule:evenodd;stroke:#000000;stroke-width:2.0px;stroke-linecap:butt;stroke-linejoin:miter;stroke-opacity:1\"/>\n",
       "<path class=\"bond-11 atom-3 atom-12\" d=\"M 198.8,217.8 L 202.6,236.2\" style=\"fill:none;fill-rule:evenodd;stroke:#0000FF;stroke-width:2.0px;stroke-linecap:butt;stroke-linejoin:miter;stroke-opacity:1\"/>\n",
       "<path class=\"bond-11 atom-3 atom-12\" d=\"M 202.6,236.2 L 206.5,254.6\" style=\"fill:none;fill-rule:evenodd;stroke:#000000;stroke-width:2.0px;stroke-linecap:butt;stroke-linejoin:miter;stroke-opacity:1\"/>\n",
       "<path d=\"M 300.4,198.1 L 302.8,200.7 L 302.3,202.0\" style=\"fill:none;stroke:#000000;stroke-width:2.0px;stroke-linecap:butt;stroke-linejoin:miter;stroke-opacity:1;\"/>\n",
       "<path class=\"atom-2\" d=\"M 187.4 108.9 L 191.2 108.9 L 191.2 120.9 L 205.7 120.9 L 205.7 108.9 L 209.5 108.9 L 209.5 137.2 L 205.7 137.2 L 205.7 124.1 L 191.2 124.1 L 191.2 137.2 L 187.4 137.2 L 187.4 108.9 \" fill=\"#000000\"/>\n",
       "<path class=\"atom-3\" d=\"M 189.1 187.1 L 198.4 202.1 Q 199.3 203.6, 200.8 206.2 Q 202.3 208.9, 202.4 209.1 L 202.4 187.1 L 206.1 187.1 L 206.1 215.4 L 202.2 215.4 L 192.3 199.0 Q 191.1 197.1, 189.9 194.9 Q 188.7 192.7, 188.3 192.0 L 188.3 215.4 L 184.6 215.4 L 184.6 187.1 L 189.1 187.1 \" fill=\"#0000FF\"/>\n",
       "<path class=\"atom-3\" d=\"M 211.4 192.2 L 216.4 192.2 L 216.4 186.9 L 218.6 186.9 L 218.6 192.2 L 223.8 192.2 L 223.8 194.1 L 218.6 194.1 L 218.6 199.4 L 216.4 199.4 L 216.4 194.1 L 211.4 194.1 L 211.4 192.2 \" fill=\"#0000FF\"/>\n",
       "<path class=\"atom-5\" d=\"M 267.0 268.5 Q 267.0 261.7, 270.4 257.9 Q 273.7 254.1, 280.0 254.1 Q 286.3 254.1, 289.6 257.9 Q 293.0 261.7, 293.0 268.5 Q 293.0 275.4, 289.6 279.3 Q 286.2 283.2, 280.0 283.2 Q 273.8 283.2, 270.4 279.3 Q 267.0 275.4, 267.0 268.5 M 280.0 280.0 Q 284.3 280.0, 286.6 277.1 Q 289.0 274.2, 289.0 268.5 Q 289.0 263.0, 286.6 260.2 Q 284.3 257.3, 280.0 257.3 Q 275.7 257.3, 273.3 260.1 Q 271.0 262.9, 271.0 268.5 Q 271.0 274.2, 273.3 277.1 Q 275.7 280.0, 280.0 280.0 \" fill=\"#FF0000\"/>\n",
       "<path class=\"atom-5\" d=\"M 297.0 258.7 L 306.7 258.7 L 306.7 260.8 L 297.0 260.8 L 297.0 258.7 \" fill=\"#FF0000\"/>\n",
       "<path class=\"atom-6\" d=\"M 359.5 186.3 Q 359.5 179.5, 362.8 175.7 Q 366.2 171.9, 372.5 171.9 Q 378.7 171.9, 382.1 175.7 Q 385.5 179.5, 385.5 186.3 Q 385.5 193.1, 382.1 197.1 Q 378.7 200.9, 372.5 200.9 Q 366.2 200.9, 362.8 197.1 Q 359.5 193.2, 359.5 186.3 M 372.5 197.7 Q 376.8 197.7, 379.1 194.9 Q 381.5 191.9, 381.5 186.3 Q 381.5 180.7, 379.1 177.9 Q 376.8 175.1, 372.5 175.1 Q 368.1 175.1, 365.8 177.9 Q 363.5 180.7, 363.5 186.3 Q 363.5 192.0, 365.8 194.9 Q 368.1 197.7, 372.5 197.7 \" fill=\"#FF0000\"/>\n",
       "<path class=\"atom-7\" d=\"M 334.0 84.2 L 337.8 84.2 L 337.8 96.2 L 352.3 96.2 L 352.3 84.2 L 356.1 84.2 L 356.1 112.5 L 352.3 112.5 L 352.3 99.4 L 337.8 99.4 L 337.8 112.5 L 334.0 112.5 L 334.0 84.2 \" fill=\"#000000\"/>\n",
       "<path class=\"atom-8\" d=\"M 314.9 14.7 L 318.7 14.7 L 318.7 26.7 L 333.2 26.7 L 333.2 14.7 L 337.0 14.7 L 337.0 43.0 L 333.2 43.0 L 333.2 29.9 L 318.7 29.9 L 318.7 43.0 L 314.9 43.0 L 314.9 14.7 \" fill=\"#000000\"/>\n",
       "<path class=\"atom-9\" d=\"M 214.0 15.3 L 217.8 15.3 L 217.8 27.3 L 232.3 27.3 L 232.3 15.3 L 236.2 15.3 L 236.2 43.6 L 232.3 43.6 L 232.3 30.5 L 217.8 30.5 L 217.8 43.6 L 214.0 43.6 L 214.0 15.3 \" fill=\"#000000\"/>\n",
       "<path class=\"atom-10\" d=\"M 133.7 136.2 L 137.5 136.2 L 137.5 148.3 L 152.0 148.3 L 152.0 136.2 L 155.8 136.2 L 155.8 164.5 L 152.0 164.5 L 152.0 151.5 L 137.5 151.5 L 137.5 164.5 L 133.7 164.5 L 133.7 136.2 \" fill=\"#000000\"/>\n",
       "<path class=\"atom-11\" d=\"M 114.5 203.1 L 118.4 203.1 L 118.4 215.1 L 132.9 215.1 L 132.9 203.1 L 136.7 203.1 L 136.7 231.4 L 132.9 231.4 L 132.9 218.3 L 118.4 218.3 L 118.4 231.4 L 114.5 231.4 L 114.5 203.1 \" fill=\"#000000\"/>\n",
       "<path class=\"atom-12\" d=\"M 198.8 257.0 L 202.7 257.0 L 202.7 269.0 L 217.2 269.0 L 217.2 257.0 L 221.0 257.0 L 221.0 285.3 L 217.2 285.3 L 217.2 272.2 L 202.7 272.2 L 202.7 285.3 L 198.8 285.3 L 198.8 257.0 \" fill=\"#000000\"/>\n",
       "</svg>"
      ],
      "text/plain": [
       "<IPython.core.display.SVG object>"
      ]
     },
     "execution_count": 22,
     "metadata": {},
     "output_type": "execute_result"
    }
   ],
   "source": [
    "from openeye import oechem\n",
    "\n",
    "oemol = oechem.OEGraphMol()\n",
    "oechem.OESmilesToMol(oemol, \"C[C@H]([NH3+])C([O-])=O\")\n",
    "\n",
    "assert isinstance(oemol, oechem.OEMolBase)\n",
    "\n",
    "from_oemol = Molecule.from_openeye(oemol)\n",
    "\n",
    "assert zw_l_alanine.is_isomorphic_with(from_oemol)\n",
    "from_oemol.visualize()"
   ]
  },
  {
   "cell_type": "markdown",
   "id": "15765778",
   "metadata": {},
   "source": [
    "## From QCArchive\n",
    "\n",
    "[QCArchive](https://qcarchive.molssi.org/) is a repository of quantum chemical calculations on small molecules. The [`Molecule.from_qcschema()`](openff.toolkit.topology.Molecule.from_qcschema) method creates a `Molecule` from a record from the archive. Because the identity of a molecule can change of the course of a QC calculation, the Toolkit accepts records only if they contain a hydrogen-mapped SMILES code.\n",
    "\n",
    ":::{note}\n",
    "These examples use molecules other than l-Alanine because of their availability in QCArchive\n",
    ":::"
   ]
  },
  {
   "cell_type": "markdown",
   "id": "0f143a62",
   "metadata": {},
   "source": [
    "### From a QCArchive molecule record\n",
    "\n",
    "The [`Molecule.from_qcschema()`](openff.toolkit.topology.Molecule.from_qcschema) method can take a molecule record queried from the QCArchive and create a `Molecule` from it."
   ]
  },
  {
   "cell_type": "code",
   "execution_count": 23,
   "id": "8e026b0f",
   "metadata": {
    "tags": []
   },
   "outputs": [
    {
     "data": {
      "image/svg+xml": [
       "<svg xmlns=\"http://www.w3.org/2000/svg\" xmlns:rdkit=\"http://www.rdkit.org/xml\" xmlns:xlink=\"http://www.w3.org/1999/xlink\" version=\"1.1\" baseProfile=\"full\" xml:space=\"preserve\" width=\"500px\" height=\"300px\" viewBox=\"0 0 500 300\">\n",
       "<!-- END OF HEADER -->\n",
       "<rect style=\"opacity:1.0;fill:#FFFFFF;stroke:none\" width=\"500.0\" height=\"300.0\" x=\"0.0\" y=\"0.0\"> </rect>\n",
       "<path class=\"bond-0 atom-0 atom-5\" d=\"M 190.5,222.5 L 203.2,222.4\" style=\"fill:none;fill-rule:evenodd;stroke:#FF0000;stroke-width:2.0px;stroke-linecap:butt;stroke-linejoin:miter;stroke-opacity:1\"/>\n",
       "<path class=\"bond-0 atom-0 atom-5\" d=\"M 203.2,222.4 L 215.9,222.2\" style=\"fill:none;fill-rule:evenodd;stroke:#000000;stroke-width:2.0px;stroke-linecap:butt;stroke-linejoin:miter;stroke-opacity:1\"/>\n",
       "<path class=\"bond-0 atom-0 atom-5\" d=\"M 190.6,227.2 L 203.3,227.1\" style=\"fill:none;fill-rule:evenodd;stroke:#FF0000;stroke-width:2.0px;stroke-linecap:butt;stroke-linejoin:miter;stroke-opacity:1\"/>\n",
       "<path class=\"bond-0 atom-0 atom-5\" d=\"M 203.3,227.1 L 216.0,226.9\" style=\"fill:none;fill-rule:evenodd;stroke:#000000;stroke-width:2.0px;stroke-linecap:butt;stroke-linejoin:miter;stroke-opacity:1\"/>\n",
       "<path class=\"bond-1 atom-1 atom-6\" d=\"M 136.8,131.3 L 136.5,143.8\" style=\"fill:none;fill-rule:evenodd;stroke:#FF0000;stroke-width:2.0px;stroke-linecap:butt;stroke-linejoin:miter;stroke-opacity:1\"/>\n",
       "<path class=\"bond-1 atom-1 atom-6\" d=\"M 136.5,143.8 L 136.1,156.2\" style=\"fill:none;fill-rule:evenodd;stroke:#000000;stroke-width:2.0px;stroke-linecap:butt;stroke-linejoin:miter;stroke-opacity:1\"/>\n",
       "<path class=\"bond-1 atom-1 atom-6\" d=\"M 132.1,131.2 L 131.7,143.7\" style=\"fill:none;fill-rule:evenodd;stroke:#FF0000;stroke-width:2.0px;stroke-linecap:butt;stroke-linejoin:miter;stroke-opacity:1\"/>\n",
       "<path class=\"bond-1 atom-1 atom-6\" d=\"M 131.7,143.7 L 131.4,156.1\" style=\"fill:none;fill-rule:evenodd;stroke:#000000;stroke-width:2.0px;stroke-linecap:butt;stroke-linejoin:miter;stroke-opacity:1\"/>\n",
       "<path class=\"bond-2 atom-2 atom-7\" d=\"M 334.2,198.4 L 334.6,185.7\" style=\"fill:none;fill-rule:evenodd;stroke:#FF0000;stroke-width:2.0px;stroke-linecap:butt;stroke-linejoin:miter;stroke-opacity:1\"/>\n",
       "<path class=\"bond-2 atom-2 atom-7\" d=\"M 334.6,185.7 L 335.0,173.1\" style=\"fill:none;fill-rule:evenodd;stroke:#000000;stroke-width:2.0px;stroke-linecap:butt;stroke-linejoin:miter;stroke-opacity:1\"/>\n",
       "<path class=\"bond-2 atom-2 atom-7\" d=\"M 338.9,198.5 L 339.4,185.9\" style=\"fill:none;fill-rule:evenodd;stroke:#FF0000;stroke-width:2.0px;stroke-linecap:butt;stroke-linejoin:miter;stroke-opacity:1\"/>\n",
       "<path class=\"bond-2 atom-2 atom-7\" d=\"M 339.4,185.9 L 339.8,173.2\" style=\"fill:none;fill-rule:evenodd;stroke:#000000;stroke-width:2.0px;stroke-linecap:butt;stroke-linejoin:miter;stroke-opacity:1\"/>\n",
       "<path class=\"bond-3 atom-3 atom-8\" d=\"M 240.6,132.9 L 242.3,145.6\" style=\"fill:none;fill-rule:evenodd;stroke:#FF0000;stroke-width:2.0px;stroke-linecap:butt;stroke-linejoin:miter;stroke-opacity:1\"/>\n",
       "<path class=\"bond-3 atom-3 atom-8\" d=\"M 242.3,145.6 L 244.1,158.2\" style=\"fill:none;fill-rule:evenodd;stroke:#000000;stroke-width:2.0px;stroke-linecap:butt;stroke-linejoin:miter;stroke-opacity:1\"/>\n",
       "<path class=\"bond-3 atom-3 atom-8\" d=\"M 235.9,133.6 L 237.7,146.2\" style=\"fill:none;fill-rule:evenodd;stroke:#FF0000;stroke-width:2.0px;stroke-linecap:butt;stroke-linejoin:miter;stroke-opacity:1\"/>\n",
       "<path class=\"bond-3 atom-3 atom-8\" d=\"M 237.7,146.2 L 239.4,158.3\" style=\"fill:none;fill-rule:evenodd;stroke:#000000;stroke-width:2.0px;stroke-linecap:butt;stroke-linejoin:miter;stroke-opacity:1\"/>\n",
       "<path class=\"bond-4 atom-4 atom-6\" d=\"M 116.4,164.3 L 125.1,159.6\" style=\"fill:none;fill-rule:evenodd;stroke:#FF0000;stroke-width:2.0px;stroke-linecap:butt;stroke-linejoin:miter;stroke-opacity:1\"/>\n",
       "<path class=\"bond-4 atom-4 atom-6\" d=\"M 125.1,159.6 L 133.8,154.8\" style=\"fill:none;fill-rule:evenodd;stroke:#000000;stroke-width:2.0px;stroke-linecap:butt;stroke-linejoin:miter;stroke-opacity:1\"/>\n",
       "<path class=\"bond-5 atom-5 atom-17\" d=\"M 214.6,224.6 L 219.8,215.0\" style=\"fill:none;fill-rule:evenodd;stroke:#000000;stroke-width:2.0px;stroke-linecap:butt;stroke-linejoin:miter;stroke-opacity:1\"/>\n",
       "<path class=\"bond-5 atom-5 atom-17\" d=\"M 219.8,215.0 L 224.9,205.4\" style=\"fill:none;fill-rule:evenodd;stroke:#0000FF;stroke-width:2.0px;stroke-linecap:butt;stroke-linejoin:miter;stroke-opacity:1\"/>\n",
       "<path class=\"bond-6 atom-5 atom-18\" d=\"M 214.6,224.6 L 231.2,252.3\" style=\"fill:none;fill-rule:evenodd;stroke:#000000;stroke-width:2.0px;stroke-linecap:butt;stroke-linejoin:miter;stroke-opacity:1\"/>\n",
       "<path class=\"bond-7 atom-6 atom-19\" d=\"M 133.8,154.8 L 160.2,171.0\" style=\"fill:none;fill-rule:evenodd;stroke:#000000;stroke-width:2.0px;stroke-linecap:butt;stroke-linejoin:miter;stroke-opacity:1\"/>\n",
       "<path class=\"bond-8 atom-7 atom-15\" d=\"M 337.4,174.4 L 349.9,168.3\" style=\"fill:none;fill-rule:evenodd;stroke:#000000;stroke-width:2.0px;stroke-linecap:butt;stroke-linejoin:miter;stroke-opacity:1\"/>\n",
       "<path class=\"bond-8 atom-7 atom-15\" d=\"M 349.9,168.3 L 362.4,162.1\" style=\"fill:none;fill-rule:evenodd;stroke:#0000FF;stroke-width:2.0px;stroke-linecap:butt;stroke-linejoin:miter;stroke-opacity:1\"/>\n",
       "<path class=\"bond-9 atom-7 atom-22\" d=\"M 337.4,174.4 L 307.0,157.0\" style=\"fill:none;fill-rule:evenodd;stroke:#000000;stroke-width:2.0px;stroke-linecap:butt;stroke-linejoin:miter;stroke-opacity:1\"/>\n",
       "<path class=\"bond-10 atom-8 atom-16\" d=\"M 241.6,157.0 L 256.7,164.2\" style=\"fill:none;fill-rule:evenodd;stroke:#000000;stroke-width:2.0px;stroke-linecap:butt;stroke-linejoin:miter;stroke-opacity:1\"/>\n",
       "<path class=\"bond-10 atom-8 atom-16\" d=\"M 256.7,164.2 L 271.8,171.3\" style=\"fill:none;fill-rule:evenodd;stroke:#0000FF;stroke-width:2.0px;stroke-linecap:butt;stroke-linejoin:miter;stroke-opacity:1\"/>\n",
       "<path class=\"bond-11 atom-8 atom-23\" d=\"M 241.6,157.0 L 215.0,172.4\" style=\"fill:none;fill-rule:evenodd;stroke:#000000;stroke-width:2.0px;stroke-linecap:butt;stroke-linejoin:miter;stroke-opacity:1\"/>\n",
       "<path class=\"bond-12 atom-9 atom-10\" d=\"M 270.9,51.3 L 257.3,79.9\" style=\"fill:none;fill-rule:evenodd;stroke:#000000;stroke-width:2.0px;stroke-linecap:butt;stroke-linejoin:miter;stroke-opacity:1\"/>\n",
       "<path class=\"bond-12 atom-9 atom-10\" d=\"M 274.0,55.8 L 262.8,79.5\" style=\"fill:none;fill-rule:evenodd;stroke:#000000;stroke-width:2.0px;stroke-linecap:butt;stroke-linejoin:miter;stroke-opacity:1\"/>\n",
       "<path class=\"bond-13 atom-9 atom-11\" d=\"M 270.9,51.3 L 302.5,49.0\" style=\"fill:none;fill-rule:evenodd;stroke:#000000;stroke-width:2.0px;stroke-linecap:butt;stroke-linejoin:miter;stroke-opacity:1\"/>\n",
       "<path class=\"bond-14 atom-9 atom-24\" d=\"M 270.9,51.3 L 258.4,33.0\" style=\"fill:none;fill-rule:evenodd;stroke:#000000;stroke-width:2.0px;stroke-linecap:butt;stroke-linejoin:miter;stroke-opacity:1\"/>\n",
       "<path class=\"bond-15 atom-10 atom-12\" d=\"M 257.3,79.9 L 275.2,106.2\" style=\"fill:none;fill-rule:evenodd;stroke:#000000;stroke-width:2.0px;stroke-linecap:butt;stroke-linejoin:miter;stroke-opacity:1\"/>\n",
       "<path class=\"bond-16 atom-10 atom-25\" d=\"M 257.3,79.9 L 232.0,81.9\" style=\"fill:none;fill-rule:evenodd;stroke:#000000;stroke-width:2.0px;stroke-linecap:butt;stroke-linejoin:miter;stroke-opacity:1\"/>\n",
       "<path class=\"bond-17 atom-11 atom-13\" d=\"M 302.5,49.0 L 320.5,75.2\" style=\"fill:none;fill-rule:evenodd;stroke:#000000;stroke-width:2.0px;stroke-linecap:butt;stroke-linejoin:miter;stroke-opacity:1\"/>\n",
       "<path class=\"bond-17 atom-11 atom-13\" d=\"M 300.2,53.9 L 315.0,75.6\" style=\"fill:none;fill-rule:evenodd;stroke:#000000;stroke-width:2.0px;stroke-linecap:butt;stroke-linejoin:miter;stroke-opacity:1\"/>\n",
       "<path class=\"bond-18 atom-11 atom-26\" d=\"M 302.5,49.0 L 312.5,28.1\" style=\"fill:none;fill-rule:evenodd;stroke:#000000;stroke-width:2.0px;stroke-linecap:butt;stroke-linejoin:miter;stroke-opacity:1\"/>\n",
       "<path class=\"bond-19 atom-12 atom-14\" d=\"M 275.2,106.2 L 306.7,103.8\" style=\"fill:none;fill-rule:evenodd;stroke:#000000;stroke-width:2.0px;stroke-linecap:butt;stroke-linejoin:miter;stroke-opacity:1\"/>\n",
       "<path class=\"bond-19 atom-12 atom-14\" d=\"M 277.5,101.3 L 303.6,99.3\" style=\"fill:none;fill-rule:evenodd;stroke:#000000;stroke-width:2.0px;stroke-linecap:butt;stroke-linejoin:miter;stroke-opacity:1\"/>\n",
       "<path class=\"bond-20 atom-12 atom-27\" d=\"M 275.2,106.2 L 267.0,125.7\" style=\"fill:none;fill-rule:evenodd;stroke:#000000;stroke-width:2.0px;stroke-linecap:butt;stroke-linejoin:miter;stroke-opacity:1\"/>\n",
       "<path class=\"bond-21 atom-13 atom-14\" d=\"M 320.5,75.2 L 306.7,103.8\" style=\"fill:none;fill-rule:evenodd;stroke:#000000;stroke-width:2.0px;stroke-linecap:butt;stroke-linejoin:miter;stroke-opacity:1\"/>\n",
       "<path class=\"bond-22 atom-13 atom-28\" d=\"M 320.5,75.2 L 345.7,73.2\" style=\"fill:none;fill-rule:evenodd;stroke:#000000;stroke-width:2.0px;stroke-linecap:butt;stroke-linejoin:miter;stroke-opacity:1\"/>\n",
       "<path class=\"bond-23 atom-14 atom-20\" d=\"M 306.7,103.8 L 321.9,129.1\" style=\"fill:none;fill-rule:evenodd;stroke:#000000;stroke-width:2.0px;stroke-linecap:butt;stroke-linejoin:miter;stroke-opacity:1\"/>\n",
       "<path class=\"bond-24 atom-15 atom-29\" d=\"M 374.7,163.3 L 381.6,167.9\" style=\"fill:none;fill-rule:evenodd;stroke:#0000FF;stroke-width:2.0px;stroke-linecap:butt;stroke-linejoin:miter;stroke-opacity:1\"/>\n",
       "<path class=\"bond-24 atom-15 atom-29\" d=\"M 381.6,167.9 L 388.4,172.6\" style=\"fill:none;fill-rule:evenodd;stroke:#000000;stroke-width:2.0px;stroke-linecap:butt;stroke-linejoin:miter;stroke-opacity:1\"/>\n",
       "<path class=\"bond-25 atom-15 atom-30\" d=\"M 369.4,151.4 L 370.2,143.2\" style=\"fill:none;fill-rule:evenodd;stroke:#0000FF;stroke-width:2.0px;stroke-linecap:butt;stroke-linejoin:miter;stroke-opacity:1\"/>\n",
       "<path class=\"bond-25 atom-15 atom-30\" d=\"M 370.2,143.2 L 371.1,135.1\" style=\"fill:none;fill-rule:evenodd;stroke:#000000;stroke-width:2.0px;stroke-linecap:butt;stroke-linejoin:miter;stroke-opacity:1\"/>\n",
       "<path class=\"bond-26 atom-16 atom-22\" d=\"M 284.1,170.6 L 295.6,163.8\" style=\"fill:none;fill-rule:evenodd;stroke:#0000FF;stroke-width:2.0px;stroke-linecap:butt;stroke-linejoin:miter;stroke-opacity:1\"/>\n",
       "<path class=\"bond-26 atom-16 atom-22\" d=\"M 295.6,163.8 L 307.0,157.0\" style=\"fill:none;fill-rule:evenodd;stroke:#000000;stroke-width:2.0px;stroke-linecap:butt;stroke-linejoin:miter;stroke-opacity:1\"/>\n",
       "<path class=\"bond-27 atom-16 atom-31\" d=\"M 278.7,182.0 L 279.6,190.8\" style=\"fill:none;fill-rule:evenodd;stroke:#0000FF;stroke-width:2.0px;stroke-linecap:butt;stroke-linejoin:miter;stroke-opacity:1\"/>\n",
       "<path class=\"bond-27 atom-16 atom-31\" d=\"M 279.6,190.8 L 280.5,199.5\" style=\"fill:none;fill-rule:evenodd;stroke:#000000;stroke-width:2.0px;stroke-linecap:butt;stroke-linejoin:miter;stroke-opacity:1\"/>\n",
       "<path class=\"bond-28 atom-17 atom-23\" d=\"M 224.8,189.8 L 219.9,181.1\" style=\"fill:none;fill-rule:evenodd;stroke:#0000FF;stroke-width:2.0px;stroke-linecap:butt;stroke-linejoin:miter;stroke-opacity:1\"/>\n",
       "<path class=\"bond-28 atom-17 atom-23\" d=\"M 219.9,181.1 L 215.0,172.4\" style=\"fill:none;fill-rule:evenodd;stroke:#000000;stroke-width:2.0px;stroke-linecap:butt;stroke-linejoin:miter;stroke-opacity:1\"/>\n",
       "<path class=\"bond-29 atom-17 atom-32\" d=\"M 235.2,197.4 L 241.8,197.1\" style=\"fill:none;fill-rule:evenodd;stroke:#0000FF;stroke-width:2.0px;stroke-linecap:butt;stroke-linejoin:miter;stroke-opacity:1\"/>\n",
       "<path class=\"bond-29 atom-17 atom-32\" d=\"M 241.8,197.1 L 248.5,196.9\" style=\"fill:none;fill-rule:evenodd;stroke:#000000;stroke-width:2.0px;stroke-linecap:butt;stroke-linejoin:miter;stroke-opacity:1\"/>\n",
       "<path class=\"bond-30 atom-18 atom-33\" d=\"M 231.2,252.3 L 252.7,240.2\" style=\"fill:none;fill-rule:evenodd;stroke:#000000;stroke-width:2.0px;stroke-linecap:butt;stroke-linejoin:miter;stroke-opacity:1\"/>\n",
       "<path class=\"bond-31 atom-18 atom-34\" d=\"M 231.2,252.3 L 252.3,264.8\" style=\"fill:none;fill-rule:evenodd;stroke:#000000;stroke-width:2.0px;stroke-linecap:butt;stroke-linejoin:miter;stroke-opacity:1\"/>\n",
       "<path class=\"bond-32 atom-18 atom-35\" d=\"M 231.2,252.3 L 219.9,271.9\" style=\"fill:none;fill-rule:evenodd;stroke:#000000;stroke-width:2.0px;stroke-linecap:butt;stroke-linejoin:miter;stroke-opacity:1\"/>\n",
       "<path class=\"bond-33 atom-19 atom-21\" d=\"M 160.2,171.0 L 188.1,155.9\" style=\"fill:none;fill-rule:evenodd;stroke:#000000;stroke-width:2.0px;stroke-linecap:butt;stroke-linejoin:miter;stroke-opacity:1\"/>\n",
       "<path class=\"bond-34 atom-19 atom-36\" d=\"M 160.2,171.0 L 170.6,190.7\" style=\"fill:none;fill-rule:evenodd;stroke:#000000;stroke-width:2.0px;stroke-linecap:butt;stroke-linejoin:miter;stroke-opacity:1\"/>\n",
       "<path class=\"bond-35 atom-19 atom-37\" d=\"M 160.2,171.0 L 148.5,190.2\" style=\"fill:none;fill-rule:evenodd;stroke:#000000;stroke-width:2.0px;stroke-linecap:butt;stroke-linejoin:miter;stroke-opacity:1\"/>\n",
       "<path class=\"bond-36 atom-20 atom-22\" d=\"M 321.9,129.1 L 307.0,157.0\" style=\"fill:none;fill-rule:evenodd;stroke:#000000;stroke-width:2.0px;stroke-linecap:butt;stroke-linejoin:miter;stroke-opacity:1\"/>\n",
       "<path class=\"bond-37 atom-20 atom-38\" d=\"M 321.9,129.1 L 338.6,138.9\" style=\"fill:none;fill-rule:evenodd;stroke:#000000;stroke-width:2.0px;stroke-linecap:butt;stroke-linejoin:miter;stroke-opacity:1\"/>\n",
       "<path class=\"bond-38 atom-20 atom-39\" d=\"M 321.9,129.1 L 343.0,116.9\" style=\"fill:none;fill-rule:evenodd;stroke:#000000;stroke-width:2.0px;stroke-linecap:butt;stroke-linejoin:miter;stroke-opacity:1\"/>\n",
       "<path class=\"bond-39 atom-21 atom-23\" d=\"M 188.1,155.9 L 215.0,172.4\" style=\"fill:none;fill-rule:evenodd;stroke:#000000;stroke-width:2.0px;stroke-linecap:butt;stroke-linejoin:miter;stroke-opacity:1\"/>\n",
       "<path class=\"bond-40 atom-21 atom-40\" d=\"M 188.1,155.9 L 200.0,136.3\" style=\"fill:none;fill-rule:evenodd;stroke:#000000;stroke-width:2.0px;stroke-linecap:butt;stroke-linejoin:miter;stroke-opacity:1\"/>\n",
       "<path class=\"bond-41 atom-21 atom-41\" d=\"M 188.1,155.9 L 177.2,135.7\" style=\"fill:none;fill-rule:evenodd;stroke:#000000;stroke-width:2.0px;stroke-linecap:butt;stroke-linejoin:miter;stroke-opacity:1\"/>\n",
       "<path class=\"bond-42 atom-22 atom-42\" d=\"M 305.1,154.4 L 305.7,154.0\" style=\"fill:none;fill-rule:evenodd;stroke:#000000;stroke-width:1.0px;stroke-linecap:butt;stroke-linejoin:miter;stroke-opacity:1\"/>\n",
       "<path class=\"bond-42 atom-22 atom-42\" d=\"M 303.1,151.8 L 304.5,151.0\" style=\"fill:none;fill-rule:evenodd;stroke:#000000;stroke-width:1.0px;stroke-linecap:butt;stroke-linejoin:miter;stroke-opacity:1\"/>\n",
       "<path class=\"bond-42 atom-22 atom-42\" d=\"M 301.1,149.1 L 303.2,148.0\" style=\"fill:none;fill-rule:evenodd;stroke:#000000;stroke-width:1.0px;stroke-linecap:butt;stroke-linejoin:miter;stroke-opacity:1\"/>\n",
       "<path class=\"bond-42 atom-22 atom-42\" d=\"M 299.1,146.5 L 301.9,144.9\" style=\"fill:none;fill-rule:evenodd;stroke:#000000;stroke-width:1.0px;stroke-linecap:butt;stroke-linejoin:miter;stroke-opacity:1\"/>\n",
       "<path class=\"bond-42 atom-22 atom-42\" d=\"M 297.2,143.9 L 300.6,141.9\" style=\"fill:none;fill-rule:evenodd;stroke:#000000;stroke-width:1.0px;stroke-linecap:butt;stroke-linejoin:miter;stroke-opacity:1\"/>\n",
       "<path class=\"bond-42 atom-22 atom-42\" d=\"M 295.2,141.2 L 299.3,138.9\" style=\"fill:none;fill-rule:evenodd;stroke:#000000;stroke-width:1.0px;stroke-linecap:butt;stroke-linejoin:miter;stroke-opacity:1\"/>\n",
       "<path class=\"bond-43 atom-23 atom-43\" d=\"M 213.7,175.4 L 213.1,175.0\" style=\"fill:none;fill-rule:evenodd;stroke:#000000;stroke-width:1.0px;stroke-linecap:butt;stroke-linejoin:miter;stroke-opacity:1\"/>\n",
       "<path class=\"bond-43 atom-23 atom-43\" d=\"M 212.4,178.4 L 211.1,177.6\" style=\"fill:none;fill-rule:evenodd;stroke:#000000;stroke-width:1.0px;stroke-linecap:butt;stroke-linejoin:miter;stroke-opacity:1\"/>\n",
       "<path class=\"bond-43 atom-23 atom-43\" d=\"M 211.1,181.4 L 209.1,180.2\" style=\"fill:none;fill-rule:evenodd;stroke:#000000;stroke-width:1.0px;stroke-linecap:butt;stroke-linejoin:miter;stroke-opacity:1\"/>\n",
       "<path class=\"bond-43 atom-23 atom-43\" d=\"M 209.8,184.4 L 207.1,182.9\" style=\"fill:none;fill-rule:evenodd;stroke:#000000;stroke-width:1.0px;stroke-linecap:butt;stroke-linejoin:miter;stroke-opacity:1\"/>\n",
       "<path class=\"bond-43 atom-23 atom-43\" d=\"M 208.5,187.5 L 205.1,185.5\" style=\"fill:none;fill-rule:evenodd;stroke:#000000;stroke-width:1.0px;stroke-linecap:butt;stroke-linejoin:miter;stroke-opacity:1\"/>\n",
       "<path class=\"bond-43 atom-23 atom-43\" d=\"M 207.2,190.5 L 203.1,188.1\" style=\"fill:none;fill-rule:evenodd;stroke:#000000;stroke-width:1.0px;stroke-linecap:butt;stroke-linejoin:miter;stroke-opacity:1\"/>\n",
       "<path d=\"M 214.9,224.1 L 214.6,224.6 L 215.5,226.0\" style=\"fill:none;stroke:#000000;stroke-width:2.0px;stroke-linecap:butt;stroke-linejoin:miter;stroke-opacity:1;\"/>\n",
       "<path d=\"M 133.3,155.0 L 133.8,154.8 L 135.1,155.6\" style=\"fill:none;stroke:#000000;stroke-width:2.0px;stroke-linecap:butt;stroke-linejoin:miter;stroke-opacity:1;\"/>\n",
       "<path d=\"M 338.0,174.1 L 337.4,174.4 L 335.8,173.6\" style=\"fill:none;stroke:#000000;stroke-width:2.0px;stroke-linecap:butt;stroke-linejoin:miter;stroke-opacity:1;\"/>\n",
       "<path d=\"M 242.3,157.3 L 241.6,157.0 L 240.3,157.7\" style=\"fill:none;stroke:#000000;stroke-width:2.0px;stroke-linecap:butt;stroke-linejoin:miter;stroke-opacity:1;\"/>\n",
       "<path class=\"atom-0\" d=\"M 177.1 225.0 Q 177.1 221.7, 178.7 219.9 Q 180.3 218.1, 183.3 218.1 Q 186.3 218.1, 187.9 219.9 Q 189.5 221.7, 189.5 225.0 Q 189.5 228.2, 187.9 230.1 Q 186.3 232.0, 183.3 232.0 Q 180.4 232.0, 178.7 230.1 Q 177.1 228.3, 177.1 225.0 M 183.3 230.4 Q 185.4 230.4, 186.5 229.1 Q 187.6 227.7, 187.6 225.0 Q 187.6 222.3, 186.5 221.0 Q 185.4 219.7, 183.3 219.7 Q 181.3 219.7, 180.1 221.0 Q 179.0 222.3, 179.0 225.0 Q 179.0 227.7, 180.1 229.1 Q 181.3 230.4, 183.3 230.4 \" fill=\"#FF0000\"/>\n",
       "<path class=\"atom-1\" d=\"M 128.5 123.2 Q 128.5 120.0, 130.1 118.2 Q 131.7 116.4, 134.7 116.4 Q 137.6 116.4, 139.2 118.2 Q 140.8 120.0, 140.8 123.2 Q 140.8 126.5, 139.2 128.4 Q 137.6 130.2, 134.7 130.2 Q 131.7 130.2, 130.1 128.4 Q 128.5 126.5, 128.5 123.2 M 134.7 128.7 Q 136.7 128.7, 137.8 127.3 Q 138.9 125.9, 138.9 123.2 Q 138.9 120.6, 137.8 119.3 Q 136.7 117.9, 134.7 117.9 Q 132.6 117.9, 131.5 119.2 Q 130.4 120.6, 130.4 123.2 Q 130.4 125.9, 131.5 127.3 Q 132.6 128.7, 134.7 128.7 \" fill=\"#FF0000\"/>\n",
       "<path class=\"atom-2\" d=\"M 330.1 206.3 Q 330.1 203.1, 331.7 201.3 Q 333.3 199.5, 336.3 199.5 Q 339.3 199.5, 340.9 201.3 Q 342.5 203.1, 342.5 206.3 Q 342.5 209.6, 340.9 211.4 Q 339.3 213.3, 336.3 213.3 Q 333.4 213.3, 331.7 211.4 Q 330.1 209.6, 330.1 206.3 M 336.3 211.8 Q 338.4 211.8, 339.5 210.4 Q 340.6 209.0, 340.6 206.3 Q 340.6 203.7, 339.5 202.3 Q 338.4 201.0, 336.3 201.0 Q 334.3 201.0, 333.1 202.3 Q 332.0 203.7, 332.0 206.3 Q 332.0 209.0, 333.1 210.4 Q 334.3 211.8, 336.3 211.8 \" fill=\"#FF0000\"/>\n",
       "<path class=\"atom-3\" d=\"M 230.9 125.3 Q 230.9 122.0, 232.5 120.2 Q 234.1 118.4, 237.1 118.4 Q 240.1 118.4, 241.6 120.2 Q 243.2 122.0, 243.2 125.3 Q 243.2 128.5, 241.6 130.4 Q 240.0 132.2, 237.1 132.2 Q 234.1 132.2, 232.5 130.4 Q 230.9 128.5, 230.9 125.3 M 237.1 130.7 Q 239.1 130.7, 240.2 129.3 Q 241.3 128.0, 241.3 125.3 Q 241.3 122.6, 240.2 121.3 Q 239.1 119.9, 237.1 119.9 Q 235.0 119.9, 233.9 121.3 Q 232.8 122.6, 232.8 125.3 Q 232.8 128.0, 233.9 129.3 Q 235.0 130.7, 237.1 130.7 \" fill=\"#FF0000\"/>\n",
       "<path class=\"atom-4\" d=\"M 100.0 170.0 Q 100.0 166.8, 101.6 165.0 Q 103.2 163.2, 106.2 163.2 Q 109.2 163.2, 110.8 165.0 Q 112.3 166.8, 112.3 170.0 Q 112.3 173.3, 110.7 175.2 Q 109.1 177.0, 106.2 177.0 Q 103.2 177.0, 101.6 175.2 Q 100.0 173.3, 100.0 170.0 M 106.2 175.5 Q 108.2 175.5, 109.3 174.1 Q 110.4 172.7, 110.4 170.0 Q 110.4 167.4, 109.3 166.1 Q 108.2 164.7, 106.2 164.7 Q 104.1 164.7, 103.0 166.0 Q 101.9 167.4, 101.9 170.0 Q 101.9 172.8, 103.0 174.1 Q 104.1 175.5, 106.2 175.5 \" fill=\"#FF0000\"/>\n",
       "<path class=\"atom-4\" d=\"M 114.3 165.4 L 118.9 165.4 L 118.9 166.4 L 114.3 166.4 L 114.3 165.4 \" fill=\"#FF0000\"/>\n",
       "<path class=\"atom-15\" d=\"M 365.6 152.4 L 370.0 159.5 Q 370.4 160.2, 371.1 161.5 Q 371.8 162.8, 371.9 162.9 L 371.9 152.4 L 373.6 152.4 L 373.6 165.9 L 371.8 165.9 L 367.1 158.1 Q 366.5 157.1, 365.9 156.1 Q 365.4 155.1, 365.2 154.7 L 365.2 165.9 L 363.4 165.9 L 363.4 152.4 L 365.6 152.4 \" fill=\"#0000FF\"/>\n",
       "<path class=\"atom-16\" d=\"M 275.0 167.5 L 279.4 174.7 Q 279.8 175.4, 280.5 176.6 Q 281.2 177.9, 281.3 178.0 L 281.3 167.5 L 283.1 167.5 L 283.1 181.0 L 281.2 181.0 L 276.5 173.2 Q 275.9 172.3, 275.3 171.2 Q 274.8 170.2, 274.6 169.9 L 274.6 181.0 L 272.8 181.0 L 272.8 167.5 L 275.0 167.5 \" fill=\"#0000FF\"/>\n",
       "<path class=\"atom-17\" d=\"M 226.1 190.9 L 230.5 198.0 Q 230.9 198.7, 231.7 200.0 Q 232.4 201.3, 232.4 201.3 L 232.4 190.9 L 234.2 190.9 L 234.2 204.3 L 232.3 204.3 L 227.6 196.5 Q 227.1 195.6, 226.5 194.6 Q 225.9 193.5, 225.7 193.2 L 225.7 204.3 L 224.0 204.3 L 224.0 190.9 L 226.1 190.9 \" fill=\"#0000FF\"/>\n",
       "<path class=\"atom-24\" d=\"M 247.8 18.5 L 249.6 18.5 L 249.6 24.2 L 256.5 24.2 L 256.5 18.5 L 258.3 18.5 L 258.3 31.9 L 256.5 31.9 L 256.5 25.7 L 249.6 25.7 L 249.6 31.9 L 247.8 31.9 L 247.8 18.5 \" fill=\"#000000\"/>\n",
       "<path class=\"atom-25\" d=\"M 220.4 75.7 L 222.2 75.7 L 222.2 81.4 L 229.1 81.4 L 229.1 75.7 L 231.0 75.7 L 231.0 89.1 L 229.1 89.1 L 229.1 82.9 L 222.2 82.9 L 222.2 89.1 L 220.4 89.1 L 220.4 75.7 \" fill=\"#000000\"/>\n",
       "<path class=\"atom-26\" d=\"M 311.0 13.6 L 312.8 13.6 L 312.8 19.4 L 319.7 19.4 L 319.7 13.6 L 321.5 13.6 L 321.5 27.1 L 319.7 27.1 L 319.7 20.9 L 312.8 20.9 L 312.8 27.1 L 311.0 27.1 L 311.0 13.6 \" fill=\"#000000\"/>\n",
       "<path class=\"atom-27\" d=\"M 258.4 126.7 L 260.2 126.7 L 260.2 132.4 L 267.1 132.4 L 267.1 126.7 L 269.0 126.7 L 269.0 140.2 L 267.1 140.2 L 267.1 134.0 L 260.2 134.0 L 260.2 140.2 L 258.4 140.2 L 258.4 126.7 \" fill=\"#000000\"/>\n",
       "<path class=\"atom-28\" d=\"M 346.7 66.0 L 348.6 66.0 L 348.6 71.7 L 355.5 71.7 L 355.5 66.0 L 357.3 66.0 L 357.3 79.5 L 355.5 79.5 L 355.5 73.3 L 348.6 73.3 L 348.6 79.5 L 346.7 79.5 L 346.7 66.0 \" fill=\"#000000\"/>\n",
       "<path class=\"atom-29\" d=\"M 389.5 170.1 L 391.3 170.1 L 391.3 175.8 L 398.2 175.8 L 398.2 170.1 L 400.0 170.1 L 400.0 183.6 L 398.2 183.6 L 398.2 177.4 L 391.3 177.4 L 391.3 183.6 L 389.5 183.6 L 389.5 170.1 \" fill=\"#000000\"/>\n",
       "<path class=\"atom-30\" d=\"M 366.6 120.6 L 368.4 120.6 L 368.4 126.3 L 375.3 126.3 L 375.3 120.6 L 377.1 120.6 L 377.1 134.0 L 375.3 134.0 L 375.3 127.8 L 368.4 127.8 L 368.4 134.0 L 366.6 134.0 L 366.6 120.6 \" fill=\"#000000\"/>\n",
       "<path class=\"atom-31\" d=\"M 276.1 200.6 L 277.9 200.6 L 277.9 206.3 L 284.8 206.3 L 284.8 200.6 L 286.6 200.6 L 286.6 214.0 L 284.8 214.0 L 284.8 207.8 L 277.9 207.8 L 277.9 214.0 L 276.1 214.0 L 276.1 200.6 \" fill=\"#000000\"/>\n",
       "<path class=\"atom-32\" d=\"M 249.5 189.9 L 251.3 189.9 L 251.3 195.6 L 258.2 195.6 L 258.2 189.9 L 260.0 189.9 L 260.0 203.4 L 258.2 203.4 L 258.2 197.2 L 251.3 197.2 L 251.3 203.4 L 249.5 203.4 L 249.5 189.9 \" fill=\"#000000\"/>\n",
       "<path class=\"atom-33\" d=\"M 253.7 229.9 L 255.5 229.9 L 255.5 235.6 L 262.4 235.6 L 262.4 229.9 L 264.2 229.9 L 264.2 243.4 L 262.4 243.4 L 262.4 237.2 L 255.5 237.2 L 255.5 243.4 L 253.7 243.4 L 253.7 229.9 \" fill=\"#000000\"/>\n",
       "<path class=\"atom-34\" d=\"M 253.4 261.8 L 255.2 261.8 L 255.2 267.6 L 262.1 267.6 L 262.1 261.8 L 263.9 261.8 L 263.9 275.3 L 262.1 275.3 L 262.1 269.1 L 255.2 269.1 L 255.2 275.3 L 253.4 275.3 L 253.4 261.8 \" fill=\"#000000\"/>\n",
       "<path class=\"atom-35\" d=\"M 210.1 272.9 L 211.9 272.9 L 211.9 278.6 L 218.8 278.6 L 218.8 272.9 L 220.6 272.9 L 220.6 286.4 L 218.8 286.4 L 218.8 280.1 L 211.9 280.1 L 211.9 286.4 L 210.1 286.4 L 210.1 272.9 \" fill=\"#000000\"/>\n",
       "<path class=\"atom-36\" d=\"M 169.4 191.7 L 171.2 191.7 L 171.2 197.5 L 178.1 197.5 L 178.1 191.7 L 180.0 191.7 L 180.0 205.2 L 178.1 205.2 L 178.1 199.0 L 171.2 199.0 L 171.2 205.2 L 169.4 205.2 L 169.4 191.7 \" fill=\"#000000\"/>\n",
       "<path class=\"atom-37\" d=\"M 138.6 191.2 L 140.4 191.2 L 140.4 196.9 L 147.3 196.9 L 147.3 191.2 L 149.1 191.2 L 149.1 204.7 L 147.3 204.7 L 147.3 198.4 L 140.4 198.4 L 140.4 204.7 L 138.6 204.7 L 138.6 191.2 \" fill=\"#000000\"/>\n",
       "<path class=\"atom-38\" d=\"M 339.6 135.8 L 341.4 135.8 L 341.4 141.5 L 348.3 141.5 L 348.3 135.8 L 350.1 135.8 L 350.1 149.3 L 348.3 149.3 L 348.3 143.1 L 341.4 143.1 L 341.4 149.3 L 339.6 149.3 L 339.6 135.8 \" fill=\"#000000\"/>\n",
       "<path class=\"atom-39\" d=\"M 344.0 106.5 L 345.8 106.5 L 345.8 112.2 L 352.7 112.2 L 352.7 106.5 L 354.5 106.5 L 354.5 119.9 L 352.7 119.9 L 352.7 113.7 L 345.8 113.7 L 345.8 119.9 L 344.0 119.9 L 344.0 106.5 \" fill=\"#000000\"/>\n",
       "<path class=\"atom-40\" d=\"M 199.5 121.8 L 201.3 121.8 L 201.3 127.5 L 208.2 127.5 L 208.2 121.8 L 210.0 121.8 L 210.0 135.3 L 208.2 135.3 L 208.2 129.1 L 201.3 129.1 L 201.3 135.3 L 199.5 135.3 L 199.5 121.8 \" fill=\"#000000\"/>\n",
       "<path class=\"atom-41\" d=\"M 167.7 121.2 L 169.6 121.2 L 169.6 126.9 L 176.4 126.9 L 176.4 121.2 L 178.3 121.2 L 178.3 134.6 L 176.4 134.6 L 176.4 128.4 L 169.6 128.4 L 169.6 134.6 L 167.7 134.6 L 167.7 121.2 \" fill=\"#000000\"/>\n",
       "<path class=\"atom-42\" d=\"M 286.9 124.5 L 288.7 124.5 L 288.7 130.2 L 295.6 130.2 L 295.6 124.5 L 297.4 124.5 L 297.4 138.0 L 295.6 138.0 L 295.6 131.8 L 288.7 131.8 L 288.7 138.0 L 286.9 138.0 L 286.9 124.5 \" fill=\"#000000\"/>\n",
       "<path class=\"atom-43\" d=\"M 194.8 191.4 L 196.6 191.4 L 196.6 197.1 L 203.5 197.1 L 203.5 191.4 L 205.3 191.4 L 205.3 204.8 L 203.5 204.8 L 203.5 198.6 L 196.6 198.6 L 196.6 204.8 L 194.8 204.8 L 194.8 191.4 \" fill=\"#000000\"/>\n",
       "</svg>"
      ],
      "text/plain": [
       "<IPython.core.display.SVG object>"
      ]
     },
     "execution_count": 23,
     "metadata": {},
     "output_type": "execute_result"
    }
   ],
   "source": [
    "from qcportal import PortalClient\n",
    "\n",
    "client = PortalClient(\"https://api.qcarchive.molssi.org:443/\")\n",
    "\n",
    "record = [*client.query_molecules(molecular_formula=\"C16H20N3O5\")][-1]\n",
    "\n",
    "from_qcarchive = Molecule.from_qcschema(record)\n",
    "\n",
    "from_qcarchive.visualize()"
   ]
  },
  {
   "cell_type": "markdown",
   "id": "3f1991fb",
   "metadata": {},
   "source": [
    "### From a QCArchive optimisation record\n",
    "\n",
    "`Molecule.from_qcschema()` can also take an optimisation record and create the corresponding `Molecule`."
   ]
  },
  {
   "cell_type": "code",
   "execution_count": 24,
   "id": "edd1fa9e",
   "metadata": {
    "tags": []
   },
   "outputs": [
    {
     "data": {
      "image/svg+xml": [
       "<svg xmlns=\"http://www.w3.org/2000/svg\" xmlns:rdkit=\"http://www.rdkit.org/xml\" xmlns:xlink=\"http://www.w3.org/1999/xlink\" version=\"1.1\" baseProfile=\"full\" xml:space=\"preserve\" width=\"500px\" height=\"300px\" viewBox=\"0 0 500 300\">\n",
       "<!-- END OF HEADER -->\n",
       "<rect style=\"opacity:1.0;fill:#FFFFFF;stroke:none\" width=\"500.0\" height=\"300.0\" x=\"0.0\" y=\"0.0\"> </rect>\n",
       "<path class=\"bond-0 atom-0 atom-4\" d=\"M 332.3,221.4 L 332.3,198.9\" style=\"fill:none;fill-rule:evenodd;stroke:#000000;stroke-width:2.0px;stroke-linecap:butt;stroke-linejoin:miter;stroke-opacity:1\"/>\n",
       "<path class=\"bond-0 atom-0 atom-4\" d=\"M 332.3,198.9 L 332.4,176.5\" style=\"fill:none;fill-rule:evenodd;stroke:#FF0000;stroke-width:2.0px;stroke-linecap:butt;stroke-linejoin:miter;stroke-opacity:1\"/>\n",
       "<path class=\"bond-1 atom-0 atom-6\" d=\"M 332.3,221.4 L 284.0,221.3\" style=\"fill:none;fill-rule:evenodd;stroke:#000000;stroke-width:2.0px;stroke-linecap:butt;stroke-linejoin:miter;stroke-opacity:1\"/>\n",
       "<path class=\"bond-2 atom-0 atom-7\" d=\"M 332.3,221.4 L 310.6,258.8\" style=\"fill:none;fill-rule:evenodd;stroke:#000000;stroke-width:2.0px;stroke-linecap:butt;stroke-linejoin:miter;stroke-opacity:1\"/>\n",
       "<path class=\"bond-3 atom-0 atom-8\" d=\"M 332.3,221.4 L 372.4,244.7\" style=\"fill:none;fill-rule:evenodd;stroke:#000000;stroke-width:2.0px;stroke-linecap:butt;stroke-linejoin:miter;stroke-opacity:1\"/>\n",
       "<path class=\"bond-4 atom-1 atom-5\" d=\"M 175.8,130.7 L 195.0,141.8\" style=\"fill:none;fill-rule:evenodd;stroke:#000000;stroke-width:2.0px;stroke-linecap:butt;stroke-linejoin:miter;stroke-opacity:1\"/>\n",
       "<path class=\"bond-4 atom-1 atom-5\" d=\"M 195.0,141.8 L 214.2,152.9\" style=\"fill:none;fill-rule:evenodd;stroke:#FF0000;stroke-width:2.0px;stroke-linecap:butt;stroke-linejoin:miter;stroke-opacity:1\"/>\n",
       "<path class=\"bond-5 atom-1 atom-9\" d=\"M 175.8,130.7 L 154.2,168.0\" style=\"fill:none;fill-rule:evenodd;stroke:#000000;stroke-width:2.0px;stroke-linecap:butt;stroke-linejoin:miter;stroke-opacity:1\"/>\n",
       "<path class=\"bond-6 atom-1 atom-10\" d=\"M 175.8,130.7 L 127.6,130.6\" style=\"fill:none;fill-rule:evenodd;stroke:#000000;stroke-width:2.0px;stroke-linecap:butt;stroke-linejoin:miter;stroke-opacity:1\"/>\n",
       "<path class=\"bond-7 atom-1 atom-11\" d=\"M 175.8,130.7 L 175.9,85.2\" style=\"fill:none;fill-rule:evenodd;stroke:#000000;stroke-width:2.0px;stroke-linecap:butt;stroke-linejoin:miter;stroke-opacity:1\"/>\n",
       "<path class=\"bond-8 atom-2 atom-3\" d=\"M 280.3,130.9 L 269.6,112.4\" style=\"fill:none;fill-rule:evenodd;stroke:#000000;stroke-width:2.0px;stroke-linecap:butt;stroke-linejoin:miter;stroke-opacity:1\"/>\n",
       "<path class=\"bond-8 atom-2 atom-3\" d=\"M 269.6,112.4 L 259.0,93.9\" style=\"fill:none;fill-rule:evenodd;stroke:#FF0000;stroke-width:2.0px;stroke-linecap:butt;stroke-linejoin:miter;stroke-opacity:1\"/>\n",
       "<path class=\"bond-9 atom-2 atom-4\" d=\"M 280.3,130.9 L 299.5,142.0\" style=\"fill:none;fill-rule:evenodd;stroke:#000000;stroke-width:2.0px;stroke-linecap:butt;stroke-linejoin:miter;stroke-opacity:1\"/>\n",
       "<path class=\"bond-9 atom-2 atom-4\" d=\"M 299.5,142.0 L 318.7,153.1\" style=\"fill:none;fill-rule:evenodd;stroke:#FF0000;stroke-width:2.0px;stroke-linecap:butt;stroke-linejoin:miter;stroke-opacity:1\"/>\n",
       "<path class=\"bond-10 atom-2 atom-5\" d=\"M 280.3,130.9 L 261.0,141.9\" style=\"fill:none;fill-rule:evenodd;stroke:#000000;stroke-width:2.0px;stroke-linecap:butt;stroke-linejoin:miter;stroke-opacity:1\"/>\n",
       "<path class=\"bond-10 atom-2 atom-5\" d=\"M 261.0,141.9 L 241.7,153.0\" style=\"fill:none;fill-rule:evenodd;stroke:#FF0000;stroke-width:2.0px;stroke-linecap:butt;stroke-linejoin:miter;stroke-opacity:1\"/>\n",
       "<path class=\"bond-11 atom-2 atom-12\" d=\"M 280.3,130.9 L 301.9,93.5\" style=\"fill:none;fill-rule:evenodd;stroke:#000000;stroke-width:2.0px;stroke-linecap:butt;stroke-linejoin:miter;stroke-opacity:1\"/>\n",
       "<path class=\"bond-12 atom-3 atom-13\" d=\"M 258.9,63.7 L 265.4,52.4\" style=\"fill:none;fill-rule:evenodd;stroke:#FF0000;stroke-width:2.0px;stroke-linecap:butt;stroke-linejoin:miter;stroke-opacity:1\"/>\n",
       "<path class=\"bond-12 atom-3 atom-13\" d=\"M 265.4,52.4 L 271.9,41.2\" style=\"fill:none;fill-rule:evenodd;stroke:#000000;stroke-width:2.0px;stroke-linecap:butt;stroke-linejoin:miter;stroke-opacity:1\"/>\n",
       "<path class=\"atom-3\" d=\"M 238.5 78.7 Q 238.5 72.5, 241.5 69.1 Q 244.5 65.6, 250.2 65.6 Q 255.9 65.6, 258.9 69.1 Q 262.0 72.5, 262.0 78.7 Q 262.0 84.9, 258.9 88.4 Q 255.8 91.9, 250.2 91.9 Q 244.6 91.9, 241.5 88.4 Q 238.5 84.9, 238.5 78.7 M 250.2 89.0 Q 254.1 89.0, 256.2 86.4 Q 258.4 83.8, 258.4 78.7 Q 258.4 73.6, 256.2 71.1 Q 254.1 68.5, 250.2 68.5 Q 246.3 68.5, 244.2 71.1 Q 242.1 73.6, 242.1 78.7 Q 242.1 83.8, 244.2 86.4 Q 246.3 89.0, 250.2 89.0 \" fill=\"#FF0000\"/>\n",
       "<path class=\"atom-4\" d=\"M 320.7 161.2 Q 320.7 155.0, 323.7 151.6 Q 326.7 148.2, 332.4 148.2 Q 338.1 148.2, 341.1 151.6 Q 344.2 155.0, 344.2 161.2 Q 344.2 167.4, 341.1 171.0 Q 338.0 174.5, 332.4 174.5 Q 326.8 174.5, 323.7 171.0 Q 320.7 167.4, 320.7 161.2 M 332.4 171.6 Q 336.3 171.6, 338.4 169.0 Q 340.6 166.3, 340.6 161.2 Q 340.6 156.2, 338.4 153.6 Q 336.3 151.1, 332.4 151.1 Q 328.5 151.1, 326.4 153.6 Q 324.3 156.1, 324.3 161.2 Q 324.3 166.4, 326.4 169.0 Q 328.5 171.6, 332.4 171.6 \" fill=\"#FF0000\"/>\n",
       "<path class=\"atom-5\" d=\"M 216.2 161.0 Q 216.2 154.8, 219.3 151.4 Q 222.3 148.0, 228.0 148.0 Q 233.7 148.0, 236.7 151.4 Q 239.7 154.8, 239.7 161.0 Q 239.7 167.2, 236.7 170.8 Q 233.6 174.3, 228.0 174.3 Q 222.3 174.3, 219.3 170.8 Q 216.2 167.2, 216.2 161.0 M 228.0 171.4 Q 231.9 171.4, 234.0 168.8 Q 236.1 166.1, 236.1 161.0 Q 236.1 156.0, 234.0 153.4 Q 231.9 150.9, 228.0 150.9 Q 224.1 150.9, 221.9 153.4 Q 219.8 155.9, 219.8 161.0 Q 219.8 166.2, 221.9 168.8 Q 224.1 171.4, 228.0 171.4 \" fill=\"#FF0000\"/>\n",
       "<path class=\"atom-6\" d=\"M 262.0 208.5 L 265.5 208.5 L 265.5 219.4 L 278.6 219.4 L 278.6 208.5 L 282.0 208.5 L 282.0 234.1 L 278.6 234.1 L 278.6 222.3 L 265.5 222.3 L 265.5 234.1 L 262.0 234.1 L 262.0 208.5 \" fill=\"#000000\"/>\n",
       "<path class=\"atom-7\" d=\"M 292.0 260.8 L 295.5 260.8 L 295.5 271.6 L 308.6 271.6 L 308.6 260.8 L 312.1 260.8 L 312.1 286.4 L 308.6 286.4 L 308.6 274.5 L 295.5 274.5 L 295.5 286.4 L 292.0 286.4 L 292.0 260.8 \" fill=\"#000000\"/>\n",
       "<path class=\"atom-8\" d=\"M 374.4 238.8 L 377.9 238.8 L 377.9 249.7 L 391.0 249.7 L 391.0 238.8 L 394.5 238.8 L 394.5 264.5 L 391.0 264.5 L 391.0 252.6 L 377.9 252.6 L 377.9 264.5 L 374.4 264.5 L 374.4 238.8 \" fill=\"#000000\"/>\n",
       "<path class=\"atom-9\" d=\"M 135.6 170.0 L 139.0 170.0 L 139.0 180.9 L 152.1 180.9 L 152.1 170.0 L 155.6 170.0 L 155.6 195.6 L 152.1 195.6 L 152.1 183.8 L 139.0 183.8 L 139.0 195.6 L 135.6 195.6 L 135.6 170.0 \" fill=\"#000000\"/>\n",
       "<path class=\"atom-10\" d=\"M 105.5 117.7 L 109.0 117.7 L 109.0 128.6 L 122.1 128.6 L 122.1 117.7 L 125.6 117.7 L 125.6 143.3 L 122.1 143.3 L 122.1 131.5 L 109.0 131.5 L 109.0 143.3 L 105.5 143.3 L 105.5 117.7 \" fill=\"#000000\"/>\n",
       "<path class=\"atom-11\" d=\"M 165.9 57.6 L 169.4 57.6 L 169.4 68.5 L 182.5 68.5 L 182.5 57.6 L 186.0 57.6 L 186.0 83.2 L 182.5 83.2 L 182.5 71.3 L 169.4 71.3 L 169.4 83.2 L 165.9 83.2 L 165.9 57.6 \" fill=\"#000000\"/>\n",
       "<path class=\"atom-12\" d=\"M 300.5 65.9 L 304.0 65.9 L 304.0 76.8 L 317.1 76.8 L 317.1 65.9 L 320.5 65.9 L 320.5 91.5 L 317.1 91.5 L 317.1 79.7 L 304.0 79.7 L 304.0 91.5 L 300.5 91.5 L 300.5 65.9 \" fill=\"#000000\"/>\n",
       "<path class=\"atom-13\" d=\"M 270.5 13.6 L 273.9 13.6 L 273.9 24.5 L 287.0 24.5 L 287.0 13.6 L 290.5 13.6 L 290.5 39.2 L 287.0 39.2 L 287.0 27.4 L 273.9 27.4 L 273.9 39.2 L 270.5 39.2 L 270.5 13.6 \" fill=\"#000000\"/>\n",
       "</svg>"
      ],
      "text/plain": [
       "<IPython.core.display.SVG object>"
      ]
     },
     "execution_count": 24,
     "metadata": {},
     "output_type": "execute_result"
    }
   ],
   "source": [
    "optimization_dataset = client.get_dataset(\n",
    "    dataset_type=\"optimization\",\n",
    "    dataset_name=\"SMIRNOFF Coverage Set 1\",\n",
    ")\n",
    "dimethoxymethanol_optimization = optimization_dataset.get_entry(\n",
    "    \"coc(o)oc-0\",\n",
    ")\n",
    "\n",
    "from_optimisation = Molecule.from_qcschema(dimethoxymethanol_optimization)\n",
    "\n",
    "from_optimisation.visualize()"
   ]
  },
  {
   "cell_type": "code",
   "execution_count": null,
   "id": "2a8f5a61-892b-43e1-898e-40deec4d39b9",
   "metadata": {},
   "outputs": [],
   "source": []
  }
 ],
 "metadata": {
  "celltoolbar": "Tags",
  "execution": {
   "timeout": 120
  },
  "kernelspec": {
   "display_name": "Python 3 (ipykernel)",
   "language": "python",
   "name": "python3"
  },
  "language_info": {
   "codemirror_mode": {
    "name": "ipython",
    "version": 3
   },
   "file_extension": ".py",
   "mimetype": "text/x-python",
   "name": "python",
   "nbconvert_exporter": "python",
   "pygments_lexer": "ipython3",
   "version": "3.10.10"
  },
  "widgets": {
   "application/vnd.jupyter.widget-state+json": {
    "state": {},
    "version_major": 2,
    "version_minor": 0
   }
  }
 },
 "nbformat": 4,
 "nbformat_minor": 5
}

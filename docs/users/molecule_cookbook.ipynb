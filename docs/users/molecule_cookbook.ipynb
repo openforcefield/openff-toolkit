{
 "cells": [
  {
   "cell_type": "markdown",
   "id": "5b311c85",
   "metadata": {},
   "source": [
    "# Cookbook: Every way to make a `Molecule`"
   ]
  },
  {
   "cell_type": "markdown",
   "id": "05bf5732",
   "metadata": {},
   "source": [
    "Every pathway through the OpenFF Toolkit boils down to four steps:\n",
    "\n",
    "1. Using other tools, assemble a graph of a molecule, including all of its atoms, bonds, bond orders, formal charges, and stereochemistry[^rs]\n",
    "2. Use that information to construct a [`Molecule`](openff.toolkit.topology.Molecule)\n",
    "3. Combine a number of `Molecule` objects to construct a [`Topology`](openff.toolkit.topology.Topology)\n",
    "4. Call [`ForceField.create_openmm_system(topology)`](openff.toolkit.typing.engines.smirnoff.ForceField.create_openmm_system) to create an OpenMM [`System`](openmm.openmm.System) (or an [`Interchange`](https://github.com/openforcefield/openff-interchange) for painless conversion to other MD formats)\n",
    "\n",
    "So let's take a look at every way there is to construct a molecule! We'll use zwitterionic L-alanine as an example biomolecule with all the tricky bits - a stereocenter, non-zero formal charges, and bonds of different orders.\n",
    "\n",
    "[^rs]: Note that this stereochemistry must be defined on the *graph* of the molecule. It's not good enough to just co-ordinates with the correct stereochemistry. But if you have the co-ordinates, you can try getting the stereochemistry automatically with `rdkit` or `openeye` --- If you dare!"
   ]
  },
  {
   "cell_type": "code",
   "execution_count": 1,
   "id": "0a3d1e21",
   "metadata": {
    "slideshow": {
     "slide_type": ""
    },
    "tags": [
     "remove-stderr",
     "remove-input",
     "remove-stdout",
     "nbval-ignore-output"
    ]
   },
   "outputs": [],
   "source": [
    "# Workaround for https://github.com/conda-forge/qcfractal-feedstock/issues/43\n",
    "try:\n",
    "    import qcportal  # noqa\n",
    "except ImportError:\n",
    "    pass\n",
    "import sys\n",
    "\n",
    "ipython = get_ipython()  # noqa\n",
    "\n",
    "\n",
    "def hide_traceback(\n",
    "    exc_tuple=None,\n",
    "    filename=None,\n",
    "    tb_offset=None,\n",
    "    exception_only=False,\n",
    "    running_compiled_code=False,\n",
    "):\n",
    "    \"\"\"Hide tracebacks for simpler errors.\"\"\"\n",
    "    etype, value, _ = sys.exc_info()\n",
    "    value.__cause__ = None  # suppress chained exceptions\n",
    "    return ipython._showtraceback(\n",
    "        etype,\n",
    "        value,\n",
    "        ipython.InteractiveTB.get_exception_only(etype, value),\n",
    "    )\n",
    "\n",
    "\n",
    "ipython.showtraceback = hide_traceback\n",
    "\n",
    "# Hide NumPy warnings\n",
    "import warnings\n",
    "\n",
    "warnings.filterwarnings(\n",
    "    \"ignore\",\n",
    "    r\"The value of the smallest subnormal for \",\n",
    ")"
   ]
  },
  {
   "cell_type": "code",
   "execution_count": 2,
   "id": "213f1264",
   "metadata": {},
   "outputs": [],
   "source": [
    "from openff.toolkit import Molecule, Topology"
   ]
  },
  {
   "cell_type": "markdown",
   "id": "37d692a1",
   "metadata": {},
   "source": [
    "## From SMILES\n",
    "\n",
    "SMILES is the classic way to create a `Molecule`. SMILES is a widely-used compact textual representation of arbitrary molecules. This lets us specify an exact molecule, including stereochemistry and bond orders, very easily --- though they may not be the most human-readable format.\n",
    "\n",
    "The [`Molecule.from_smiles()`](openff.toolkit.topology.Molecule.from_smiles) method is used to create a `Molecule` from a SMILES code.\n",
    "\n",
    "### Implicit hydrogens SMILES"
   ]
  },
  {
   "cell_type": "code",
   "execution_count": 3,
   "id": "71199513",
   "metadata": {
    "slideshow": {
     "slide_type": ""
    },
    "tags": []
   },
   "outputs": [
    {
     "data": {
      "image/svg+xml": [
       "<svg xmlns=\"http://www.w3.org/2000/svg\" xmlns:rdkit=\"http://www.rdkit.org/xml\" xmlns:xlink=\"http://www.w3.org/1999/xlink\" version=\"1.1\" baseProfile=\"full\" xml:space=\"preserve\" width=\"500px\" height=\"300px\" viewBox=\"0 0 500 300\">\n",
       "<!-- END OF HEADER -->\n",
       "<rect style=\"opacity:1.0;fill:#FFFFFF;stroke:none\" width=\"500.0\" height=\"300.0\" x=\"0.0\" y=\"0.0\"> </rect>\n",
       "<path class=\"bond-0 atom-0 atom-1\" d=\"M 268.8,206.3 L 249.2,142.9\" style=\"fill:none;fill-rule:evenodd;stroke:#000000;stroke-width:2.0px;stroke-linecap:butt;stroke-linejoin:miter;stroke-opacity:1\"/>\n",
       "<path class=\"bond-1 atom-1 atom-2\" d=\"M 249.2,142.9 L 213.2,164.5 L 209.1,155.4 Z\" style=\"fill:#000000;fill-rule:evenodd;fill-opacity:1;stroke:#000000;stroke-width:0.5px;stroke-linecap:butt;stroke-linejoin:miter;stroke-opacity:1;\"/>\n",
       "<path class=\"bond-2 atom-1 atom-3\" d=\"M 249.2,142.9 L 227.2,124.1\" style=\"fill:none;fill-rule:evenodd;stroke:#000000;stroke-width:2.0px;stroke-linecap:butt;stroke-linejoin:miter;stroke-opacity:1\"/>\n",
       "<path class=\"bond-2 atom-1 atom-3\" d=\"M 227.2,124.1 L 205.2,105.3\" style=\"fill:none;fill-rule:evenodd;stroke:#0000FF;stroke-width:2.0px;stroke-linecap:butt;stroke-linejoin:miter;stroke-opacity:1\"/>\n",
       "<path class=\"bond-3 atom-1 atom-4\" d=\"M 249.2,142.9 L 292.1,93.8\" style=\"fill:none;fill-rule:evenodd;stroke:#000000;stroke-width:2.0px;stroke-linecap:butt;stroke-linejoin:miter;stroke-opacity:1\"/>\n",
       "<path class=\"bond-4 atom-4 atom-5\" d=\"M 297.8,94.9 L 289.4,70.6\" style=\"fill:none;fill-rule:evenodd;stroke:#000000;stroke-width:2.0px;stroke-linecap:butt;stroke-linejoin:miter;stroke-opacity:1\"/>\n",
       "<path class=\"bond-4 atom-4 atom-5\" d=\"M 289.4,70.6 L 280.9,46.4\" style=\"fill:none;fill-rule:evenodd;stroke:#FF0000;stroke-width:2.0px;stroke-linecap:butt;stroke-linejoin:miter;stroke-opacity:1\"/>\n",
       "<path class=\"bond-4 atom-4 atom-5\" d=\"M 288.4,98.1 L 279.9,73.9\" style=\"fill:none;fill-rule:evenodd;stroke:#000000;stroke-width:2.0px;stroke-linecap:butt;stroke-linejoin:miter;stroke-opacity:1\"/>\n",
       "<path class=\"bond-4 atom-4 atom-5\" d=\"M 279.9,73.9 L 271.5,49.6\" style=\"fill:none;fill-rule:evenodd;stroke:#FF0000;stroke-width:2.0px;stroke-linecap:butt;stroke-linejoin:miter;stroke-opacity:1\"/>\n",
       "<path class=\"bond-5 atom-4 atom-6\" d=\"M 292.1,93.8 L 317.0,98.7\" style=\"fill:none;fill-rule:evenodd;stroke:#000000;stroke-width:2.0px;stroke-linecap:butt;stroke-linejoin:miter;stroke-opacity:1\"/>\n",
       "<path class=\"bond-5 atom-4 atom-6\" d=\"M 317.0,98.7 L 341.9,103.6\" style=\"fill:none;fill-rule:evenodd;stroke:#FF0000;stroke-width:2.0px;stroke-linecap:butt;stroke-linejoin:miter;stroke-opacity:1\"/>\n",
       "<path class=\"bond-6 atom-0 atom-7\" d=\"M 268.8,206.3 L 217.3,220.6\" style=\"fill:none;fill-rule:evenodd;stroke:#000000;stroke-width:2.0px;stroke-linecap:butt;stroke-linejoin:miter;stroke-opacity:1\"/>\n",
       "<path class=\"bond-7 atom-0 atom-8\" d=\"M 268.8,206.3 L 255.5,254.5\" style=\"fill:none;fill-rule:evenodd;stroke:#000000;stroke-width:2.0px;stroke-linecap:butt;stroke-linejoin:miter;stroke-opacity:1\"/>\n",
       "<path class=\"bond-8 atom-0 atom-9\" d=\"M 268.8,206.3 L 319.4,219.7\" style=\"fill:none;fill-rule:evenodd;stroke:#000000;stroke-width:2.0px;stroke-linecap:butt;stroke-linejoin:miter;stroke-opacity:1\"/>\n",
       "<path class=\"bond-9 atom-3 atom-10\" d=\"M 179.4,107.5 L 169.1,117.9\" style=\"fill:none;fill-rule:evenodd;stroke:#0000FF;stroke-width:2.0px;stroke-linecap:butt;stroke-linejoin:miter;stroke-opacity:1\"/>\n",
       "<path class=\"bond-9 atom-3 atom-10\" d=\"M 169.1,117.9 L 158.9,128.4\" style=\"fill:none;fill-rule:evenodd;stroke:#000000;stroke-width:2.0px;stroke-linecap:butt;stroke-linejoin:miter;stroke-opacity:1\"/>\n",
       "<path class=\"bond-10 atom-3 atom-11\" d=\"M 179.4,91.4 L 160.0,87.1\" style=\"fill:none;fill-rule:evenodd;stroke:#0000FF;stroke-width:2.0px;stroke-linecap:butt;stroke-linejoin:miter;stroke-opacity:1\"/>\n",
       "<path class=\"bond-10 atom-3 atom-11\" d=\"M 160.0,87.1 L 140.6,82.9\" style=\"fill:none;fill-rule:evenodd;stroke:#000000;stroke-width:2.0px;stroke-linecap:butt;stroke-linejoin:miter;stroke-opacity:1\"/>\n",
       "<path class=\"bond-11 atom-3 atom-12\" d=\"M 195.5,77.9 L 198.8,61.7\" style=\"fill:none;fill-rule:evenodd;stroke:#0000FF;stroke-width:2.0px;stroke-linecap:butt;stroke-linejoin:miter;stroke-opacity:1\"/>\n",
       "<path class=\"bond-11 atom-3 atom-12\" d=\"M 198.8,61.7 L 202.0,45.5\" style=\"fill:none;fill-rule:evenodd;stroke:#000000;stroke-width:2.0px;stroke-linecap:butt;stroke-linejoin:miter;stroke-opacity:1\"/>\n",
       "<path d=\"M 290.0,96.2 L 292.1,93.8 L 293.4,94.0\" style=\"fill:none;stroke:#000000;stroke-width:2.0px;stroke-linecap:butt;stroke-linejoin:miter;stroke-opacity:1;\"/>\n",
       "<path class=\"atom-2\" d=\"M 184.7 152.8 L 188.5 152.8 L 188.5 164.8 L 203.0 164.8 L 203.0 152.8 L 206.8 152.8 L 206.8 181.1 L 203.0 181.1 L 203.0 168.0 L 188.5 168.0 L 188.5 181.1 L 184.7 181.1 L 184.7 152.8 \" fill=\"#000000\"/>\n",
       "<path class=\"atom-3\" d=\"M 186.0 80.1 L 195.3 95.1 Q 196.2 96.6, 197.7 99.3 Q 199.2 101.9, 199.3 102.1 L 199.3 80.1 L 203.0 80.1 L 203.0 108.4 L 199.1 108.4 L 189.2 92.0 Q 188.0 90.1, 186.8 87.9 Q 185.6 85.7, 185.2 85.0 L 185.2 108.4 L 181.6 108.4 L 181.6 80.1 L 186.0 80.1 \" fill=\"#0000FF\"/>\n",
       "<path class=\"atom-3\" d=\"M 208.3 85.2 L 213.3 85.2 L 213.3 80.0 L 215.5 80.0 L 215.5 85.2 L 220.7 85.2 L 220.7 87.1 L 215.5 87.1 L 215.5 92.4 L 213.3 92.4 L 213.3 87.1 L 208.3 87.1 L 208.3 85.2 \" fill=\"#0000FF\"/>\n",
       "<path class=\"atom-5\" d=\"M 257.3 31.2 Q 257.3 24.4, 260.7 20.6 Q 264.0 16.8, 270.3 16.8 Q 276.6 16.8, 279.9 20.6 Q 283.3 24.4, 283.3 31.2 Q 283.3 38.0, 279.9 41.9 Q 276.5 45.8, 270.3 45.8 Q 264.1 45.8, 260.7 41.9 Q 257.3 38.1, 257.3 31.2 M 270.3 42.6 Q 274.6 42.6, 276.9 39.7 Q 279.3 36.8, 279.3 31.2 Q 279.3 25.6, 276.9 22.8 Q 274.6 20.0, 270.3 20.0 Q 266.0 20.0, 263.6 22.8 Q 261.3 25.6, 261.3 31.2 Q 261.3 36.9, 263.6 39.7 Q 266.0 42.6, 270.3 42.6 \" fill=\"#FF0000\"/>\n",
       "<path class=\"atom-6\" d=\"M 344.1 106.7 Q 344.1 99.9, 347.4 96.1 Q 350.8 92.3, 357.1 92.3 Q 363.3 92.3, 366.7 96.1 Q 370.1 99.9, 370.1 106.7 Q 370.1 113.6, 366.7 117.5 Q 363.3 121.4, 357.1 121.4 Q 350.8 121.4, 347.4 117.5 Q 344.1 113.6, 344.1 106.7 M 357.1 118.2 Q 361.4 118.2, 363.7 115.3 Q 366.1 112.4, 366.1 106.7 Q 366.1 101.2, 363.7 98.4 Q 361.4 95.5, 357.1 95.5 Q 352.8 95.5, 350.4 98.3 Q 348.1 101.1, 348.1 106.7 Q 348.1 112.4, 350.4 115.3 Q 352.8 118.2, 357.1 118.2 \" fill=\"#FF0000\"/>\n",
       "<path class=\"atom-6\" d=\"M 374.1 96.9 L 383.8 96.9 L 383.8 99.1 L 374.1 99.1 L 374.1 96.9 \" fill=\"#FF0000\"/>\n",
       "<path class=\"atom-7\" d=\"M 193.0 210.1 L 196.8 210.1 L 196.8 222.1 L 211.3 222.1 L 211.3 210.1 L 215.1 210.1 L 215.1 238.4 L 211.3 238.4 L 211.3 225.3 L 196.8 225.3 L 196.8 238.4 L 193.0 238.4 L 193.0 210.1 \" fill=\"#000000\"/>\n",
       "<path class=\"atom-8\" d=\"M 239.9 256.7 L 243.8 256.7 L 243.8 268.7 L 258.2 268.7 L 258.2 256.7 L 262.1 256.7 L 262.1 285.0 L 258.2 285.0 L 258.2 271.9 L 243.8 271.9 L 243.8 285.0 L 239.9 285.0 L 239.9 256.7 \" fill=\"#000000\"/>\n",
       "<path class=\"atom-9\" d=\"M 321.6 209.1 L 325.5 209.1 L 325.5 221.1 L 339.9 221.1 L 339.9 209.1 L 343.8 209.1 L 343.8 237.4 L 339.9 237.4 L 339.9 224.3 L 325.5 224.3 L 325.5 237.4 L 321.6 237.4 L 321.6 209.1 \" fill=\"#000000\"/>\n",
       "<path class=\"atom-10\" d=\"M 134.5 127.8 L 138.4 127.8 L 138.4 139.8 L 152.8 139.8 L 152.8 127.8 L 156.7 127.8 L 156.7 156.1 L 152.8 156.1 L 152.8 143.0 L 138.4 143.0 L 138.4 156.1 L 134.5 156.1 L 134.5 127.8 \" fill=\"#000000\"/>\n",
       "<path class=\"atom-11\" d=\"M 116.2 65.8 L 120.1 65.8 L 120.1 77.8 L 134.5 77.8 L 134.5 65.8 L 138.4 65.8 L 138.4 94.1 L 134.5 94.1 L 134.5 81.0 L 120.1 81.0 L 120.1 94.1 L 116.2 94.1 L 116.2 65.8 \" fill=\"#000000\"/>\n",
       "<path class=\"atom-12\" d=\"M 194.2 15.0 L 198.0 15.0 L 198.0 27.0 L 212.5 27.0 L 212.5 15.0 L 216.3 15.0 L 216.3 43.3 L 212.5 43.3 L 212.5 30.2 L 198.0 30.2 L 198.0 43.3 L 194.2 43.3 L 194.2 15.0 \" fill=\"#000000\"/>\n",
       "</svg>"
      ],
      "text/plain": [
       "<IPython.core.display.SVG object>"
      ]
     },
     "execution_count": 3,
     "metadata": {},
     "output_type": "execute_result"
    }
   ],
   "source": [
    "zw_l_alanine = Molecule.from_smiles(\"C[C@H]([NH3+])C(=O)[O-]\")\n",
    "\n",
    "zw_l_alanine.visualize()"
   ]
  },
  {
   "cell_type": "markdown",
   "id": "59fe1b58",
   "metadata": {},
   "source": [
    "### Explicit hydrogens SMILES"
   ]
  },
  {
   "cell_type": "code",
   "execution_count": 4,
   "id": "07e0584e",
   "metadata": {},
   "outputs": [
    {
     "data": {
      "image/svg+xml": [
       "<svg xmlns=\"http://www.w3.org/2000/svg\" xmlns:rdkit=\"http://www.rdkit.org/xml\" xmlns:xlink=\"http://www.w3.org/1999/xlink\" version=\"1.1\" baseProfile=\"full\" xml:space=\"preserve\" width=\"500px\" height=\"300px\" viewBox=\"0 0 500 300\">\n",
       "<!-- END OF HEADER -->\n",
       "<rect style=\"opacity:1.0;fill:#FFFFFF;stroke:none\" width=\"500.0\" height=\"300.0\" x=\"0.0\" y=\"0.0\"> </rect>\n",
       "<path class=\"bond-0 atom-0 atom-1\" d=\"M 217.3,220.6 L 268.8,206.3\" style=\"fill:none;fill-rule:evenodd;stroke:#000000;stroke-width:2.0px;stroke-linecap:butt;stroke-linejoin:miter;stroke-opacity:1\"/>\n",
       "<path class=\"bond-1 atom-1 atom-2\" d=\"M 268.8,206.3 L 255.5,254.5\" style=\"fill:none;fill-rule:evenodd;stroke:#000000;stroke-width:2.0px;stroke-linecap:butt;stroke-linejoin:miter;stroke-opacity:1\"/>\n",
       "<path class=\"bond-2 atom-1 atom-3\" d=\"M 268.8,206.3 L 319.4,219.7\" style=\"fill:none;fill-rule:evenodd;stroke:#000000;stroke-width:2.0px;stroke-linecap:butt;stroke-linejoin:miter;stroke-opacity:1\"/>\n",
       "<path class=\"bond-3 atom-1 atom-4\" d=\"M 268.8,206.3 L 249.2,142.9\" style=\"fill:none;fill-rule:evenodd;stroke:#000000;stroke-width:2.0px;stroke-linecap:butt;stroke-linejoin:miter;stroke-opacity:1\"/>\n",
       "<path class=\"bond-4 atom-4 atom-5\" d=\"M 249.2,142.9 L 213.2,164.5 L 209.1,155.4 Z\" style=\"fill:#000000;fill-rule:evenodd;fill-opacity:1;stroke:#000000;stroke-width:0.5px;stroke-linecap:butt;stroke-linejoin:miter;stroke-opacity:1;\"/>\n",
       "<path class=\"bond-5 atom-4 atom-6\" d=\"M 249.2,142.9 L 292.1,93.8\" style=\"fill:none;fill-rule:evenodd;stroke:#000000;stroke-width:2.0px;stroke-linecap:butt;stroke-linejoin:miter;stroke-opacity:1\"/>\n",
       "<path class=\"bond-6 atom-6 atom-7\" d=\"M 297.8,94.9 L 289.4,70.6\" style=\"fill:none;fill-rule:evenodd;stroke:#000000;stroke-width:2.0px;stroke-linecap:butt;stroke-linejoin:miter;stroke-opacity:1\"/>\n",
       "<path class=\"bond-6 atom-6 atom-7\" d=\"M 289.4,70.6 L 280.9,46.4\" style=\"fill:none;fill-rule:evenodd;stroke:#FF0000;stroke-width:2.0px;stroke-linecap:butt;stroke-linejoin:miter;stroke-opacity:1\"/>\n",
       "<path class=\"bond-6 atom-6 atom-7\" d=\"M 288.4,98.1 L 279.9,73.9\" style=\"fill:none;fill-rule:evenodd;stroke:#000000;stroke-width:2.0px;stroke-linecap:butt;stroke-linejoin:miter;stroke-opacity:1\"/>\n",
       "<path class=\"bond-6 atom-6 atom-7\" d=\"M 279.9,73.9 L 271.5,49.6\" style=\"fill:none;fill-rule:evenodd;stroke:#FF0000;stroke-width:2.0px;stroke-linecap:butt;stroke-linejoin:miter;stroke-opacity:1\"/>\n",
       "<path class=\"bond-7 atom-6 atom-8\" d=\"M 292.1,93.8 L 317.0,98.7\" style=\"fill:none;fill-rule:evenodd;stroke:#000000;stroke-width:2.0px;stroke-linecap:butt;stroke-linejoin:miter;stroke-opacity:1\"/>\n",
       "<path class=\"bond-7 atom-6 atom-8\" d=\"M 317.0,98.7 L 341.9,103.6\" style=\"fill:none;fill-rule:evenodd;stroke:#FF0000;stroke-width:2.0px;stroke-linecap:butt;stroke-linejoin:miter;stroke-opacity:1\"/>\n",
       "<path class=\"bond-8 atom-4 atom-9\" d=\"M 249.2,142.9 L 227.2,124.1\" style=\"fill:none;fill-rule:evenodd;stroke:#000000;stroke-width:2.0px;stroke-linecap:butt;stroke-linejoin:miter;stroke-opacity:1\"/>\n",
       "<path class=\"bond-8 atom-4 atom-9\" d=\"M 227.2,124.1 L 205.2,105.3\" style=\"fill:none;fill-rule:evenodd;stroke:#0000FF;stroke-width:2.0px;stroke-linecap:butt;stroke-linejoin:miter;stroke-opacity:1\"/>\n",
       "<path class=\"bond-9 atom-9 atom-10\" d=\"M 179.4,107.5 L 169.1,117.9\" style=\"fill:none;fill-rule:evenodd;stroke:#0000FF;stroke-width:2.0px;stroke-linecap:butt;stroke-linejoin:miter;stroke-opacity:1\"/>\n",
       "<path class=\"bond-9 atom-9 atom-10\" d=\"M 169.1,117.9 L 158.9,128.4\" style=\"fill:none;fill-rule:evenodd;stroke:#000000;stroke-width:2.0px;stroke-linecap:butt;stroke-linejoin:miter;stroke-opacity:1\"/>\n",
       "<path class=\"bond-10 atom-9 atom-11\" d=\"M 179.4,91.4 L 160.0,87.1\" style=\"fill:none;fill-rule:evenodd;stroke:#0000FF;stroke-width:2.0px;stroke-linecap:butt;stroke-linejoin:miter;stroke-opacity:1\"/>\n",
       "<path class=\"bond-10 atom-9 atom-11\" d=\"M 160.0,87.1 L 140.6,82.9\" style=\"fill:none;fill-rule:evenodd;stroke:#000000;stroke-width:2.0px;stroke-linecap:butt;stroke-linejoin:miter;stroke-opacity:1\"/>\n",
       "<path class=\"bond-11 atom-9 atom-12\" d=\"M 195.5,77.9 L 198.8,61.7\" style=\"fill:none;fill-rule:evenodd;stroke:#0000FF;stroke-width:2.0px;stroke-linecap:butt;stroke-linejoin:miter;stroke-opacity:1\"/>\n",
       "<path class=\"bond-11 atom-9 atom-12\" d=\"M 198.8,61.7 L 202.0,45.5\" style=\"fill:none;fill-rule:evenodd;stroke:#000000;stroke-width:2.0px;stroke-linecap:butt;stroke-linejoin:miter;stroke-opacity:1\"/>\n",
       "<path d=\"M 290.0,96.2 L 292.1,93.8 L 293.4,94.0\" style=\"fill:none;stroke:#000000;stroke-width:2.0px;stroke-linecap:butt;stroke-linejoin:miter;stroke-opacity:1;\"/>\n",
       "<path class=\"atom-0\" d=\"M 193.0 210.1 L 196.8 210.1 L 196.8 222.1 L 211.3 222.1 L 211.3 210.1 L 215.1 210.1 L 215.1 238.4 L 211.3 238.4 L 211.3 225.3 L 196.8 225.3 L 196.8 238.4 L 193.0 238.4 L 193.0 210.1 \" fill=\"#000000\"/>\n",
       "<path class=\"atom-2\" d=\"M 239.9 256.7 L 243.8 256.7 L 243.8 268.7 L 258.2 268.7 L 258.2 256.7 L 262.1 256.7 L 262.1 285.0 L 258.2 285.0 L 258.2 271.9 L 243.8 271.9 L 243.8 285.0 L 239.9 285.0 L 239.9 256.7 \" fill=\"#000000\"/>\n",
       "<path class=\"atom-3\" d=\"M 321.6 209.1 L 325.5 209.1 L 325.5 221.1 L 339.9 221.1 L 339.9 209.1 L 343.8 209.1 L 343.8 237.4 L 339.9 237.4 L 339.9 224.3 L 325.5 224.3 L 325.5 237.4 L 321.6 237.4 L 321.6 209.1 \" fill=\"#000000\"/>\n",
       "<path class=\"atom-5\" d=\"M 184.7 152.8 L 188.5 152.8 L 188.5 164.8 L 203.0 164.8 L 203.0 152.8 L 206.8 152.8 L 206.8 181.1 L 203.0 181.1 L 203.0 168.0 L 188.5 168.0 L 188.5 181.1 L 184.7 181.1 L 184.7 152.8 \" fill=\"#000000\"/>\n",
       "<path class=\"atom-7\" d=\"M 257.3 31.2 Q 257.3 24.4, 260.7 20.6 Q 264.0 16.8, 270.3 16.8 Q 276.6 16.8, 279.9 20.6 Q 283.3 24.4, 283.3 31.2 Q 283.3 38.0, 279.9 41.9 Q 276.5 45.8, 270.3 45.8 Q 264.1 45.8, 260.7 41.9 Q 257.3 38.1, 257.3 31.2 M 270.3 42.6 Q 274.6 42.6, 276.9 39.7 Q 279.3 36.8, 279.3 31.2 Q 279.3 25.6, 276.9 22.8 Q 274.6 20.0, 270.3 20.0 Q 266.0 20.0, 263.6 22.8 Q 261.3 25.6, 261.3 31.2 Q 261.3 36.9, 263.6 39.7 Q 266.0 42.6, 270.3 42.6 \" fill=\"#FF0000\"/>\n",
       "<path class=\"atom-8\" d=\"M 344.1 106.7 Q 344.1 99.9, 347.4 96.1 Q 350.8 92.3, 357.1 92.3 Q 363.3 92.3, 366.7 96.1 Q 370.1 99.9, 370.1 106.7 Q 370.1 113.6, 366.7 117.5 Q 363.3 121.4, 357.1 121.4 Q 350.8 121.4, 347.4 117.5 Q 344.1 113.6, 344.1 106.7 M 357.1 118.2 Q 361.4 118.2, 363.7 115.3 Q 366.1 112.4, 366.1 106.7 Q 366.1 101.2, 363.7 98.4 Q 361.4 95.5, 357.1 95.5 Q 352.8 95.5, 350.4 98.3 Q 348.1 101.1, 348.1 106.7 Q 348.1 112.4, 350.4 115.3 Q 352.8 118.2, 357.1 118.2 \" fill=\"#FF0000\"/>\n",
       "<path class=\"atom-8\" d=\"M 374.1 96.9 L 383.8 96.9 L 383.8 99.1 L 374.1 99.1 L 374.1 96.9 \" fill=\"#FF0000\"/>\n",
       "<path class=\"atom-9\" d=\"M 186.0 80.1 L 195.3 95.1 Q 196.2 96.6, 197.7 99.3 Q 199.2 101.9, 199.3 102.1 L 199.3 80.1 L 203.0 80.1 L 203.0 108.4 L 199.1 108.4 L 189.2 92.0 Q 188.0 90.1, 186.8 87.9 Q 185.6 85.7, 185.2 85.0 L 185.2 108.4 L 181.6 108.4 L 181.6 80.1 L 186.0 80.1 \" fill=\"#0000FF\"/>\n",
       "<path class=\"atom-9\" d=\"M 208.3 85.2 L 213.3 85.2 L 213.3 80.0 L 215.5 80.0 L 215.5 85.2 L 220.7 85.2 L 220.7 87.1 L 215.5 87.1 L 215.5 92.4 L 213.3 92.4 L 213.3 87.1 L 208.3 87.1 L 208.3 85.2 \" fill=\"#0000FF\"/>\n",
       "<path class=\"atom-10\" d=\"M 134.5 127.8 L 138.4 127.8 L 138.4 139.8 L 152.8 139.8 L 152.8 127.8 L 156.7 127.8 L 156.7 156.1 L 152.8 156.1 L 152.8 143.0 L 138.4 143.0 L 138.4 156.1 L 134.5 156.1 L 134.5 127.8 \" fill=\"#000000\"/>\n",
       "<path class=\"atom-11\" d=\"M 116.2 65.8 L 120.1 65.8 L 120.1 77.8 L 134.5 77.8 L 134.5 65.8 L 138.4 65.8 L 138.4 94.1 L 134.5 94.1 L 134.5 81.0 L 120.1 81.0 L 120.1 94.1 L 116.2 94.1 L 116.2 65.8 \" fill=\"#000000\"/>\n",
       "<path class=\"atom-12\" d=\"M 194.2 15.0 L 198.0 15.0 L 198.0 27.0 L 212.5 27.0 L 212.5 15.0 L 216.3 15.0 L 216.3 43.3 L 212.5 43.3 L 212.5 30.2 L 198.0 30.2 L 198.0 43.3 L 194.2 43.3 L 194.2 15.0 \" fill=\"#000000\"/>\n",
       "</svg>"
      ],
      "text/plain": [
       "<IPython.core.display.SVG object>"
      ]
     },
     "execution_count": 4,
     "metadata": {},
     "output_type": "execute_result"
    }
   ],
   "source": [
    "smiles_explicit_h = Molecule.from_smiles(\n",
    "    \"[H][C]([H])([H])[C@@]([H])([C](=[O])[O-])[N+]([H])([H])[H]\",\n",
    "    hydrogens_are_explicit=True,\n",
    ")\n",
    "\n",
    "assert zw_l_alanine.is_isomorphic_with(smiles_explicit_h)\n",
    "\n",
    "smiles_explicit_h.visualize()"
   ]
  },
  {
   "cell_type": "markdown",
   "id": "6e1adb21",
   "metadata": {},
   "source": [
    "### Mapped SMILES\n",
    "\n",
    "By default, no guarantees are made about the indexing of atoms from a SMILES string. If the indexing is important, a mapped SMILES string may be used. In this case, Hydrogens must be explicit. Note that though mapped SMILES strings must start at index 1, Python lists start at index 0."
   ]
  },
  {
   "cell_type": "code",
   "execution_count": 5,
   "id": "178de2c5",
   "metadata": {},
   "outputs": [
    {
     "data": {
      "image/svg+xml": [
       "<svg xmlns=\"http://www.w3.org/2000/svg\" xmlns:rdkit=\"http://www.rdkit.org/xml\" xmlns:xlink=\"http://www.w3.org/1999/xlink\" version=\"1.1\" baseProfile=\"full\" xml:space=\"preserve\" width=\"500px\" height=\"300px\" viewBox=\"0 0 500 300\">\n",
       "<!-- END OF HEADER -->\n",
       "<rect style=\"opacity:1.0;fill:#FFFFFF;stroke:none\" width=\"500.0\" height=\"300.0\" x=\"0.0\" y=\"0.0\"> </rect>\n",
       "<path class=\"bond-0 atom-0 atom-3\" d=\"M 205.2,105.3 L 227.2,124.1\" style=\"fill:none;fill-rule:evenodd;stroke:#0000FF;stroke-width:2.0px;stroke-linecap:butt;stroke-linejoin:miter;stroke-opacity:1\"/>\n",
       "<path class=\"bond-0 atom-0 atom-3\" d=\"M 227.2,124.1 L 249.2,142.9\" style=\"fill:none;fill-rule:evenodd;stroke:#000000;stroke-width:2.0px;stroke-linecap:butt;stroke-linejoin:miter;stroke-opacity:1\"/>\n",
       "<path class=\"bond-1 atom-0 atom-10\" d=\"M 179.4,107.5 L 169.1,117.9\" style=\"fill:none;fill-rule:evenodd;stroke:#0000FF;stroke-width:2.0px;stroke-linecap:butt;stroke-linejoin:miter;stroke-opacity:1\"/>\n",
       "<path class=\"bond-1 atom-0 atom-10\" d=\"M 169.1,117.9 L 158.9,128.4\" style=\"fill:none;fill-rule:evenodd;stroke:#000000;stroke-width:2.0px;stroke-linecap:butt;stroke-linejoin:miter;stroke-opacity:1\"/>\n",
       "<path class=\"bond-2 atom-0 atom-11\" d=\"M 179.4,91.4 L 160.0,87.1\" style=\"fill:none;fill-rule:evenodd;stroke:#0000FF;stroke-width:2.0px;stroke-linecap:butt;stroke-linejoin:miter;stroke-opacity:1\"/>\n",
       "<path class=\"bond-2 atom-0 atom-11\" d=\"M 160.0,87.1 L 140.6,82.9\" style=\"fill:none;fill-rule:evenodd;stroke:#000000;stroke-width:2.0px;stroke-linecap:butt;stroke-linejoin:miter;stroke-opacity:1\"/>\n",
       "<path class=\"bond-3 atom-0 atom-12\" d=\"M 195.5,77.9 L 198.8,61.7\" style=\"fill:none;fill-rule:evenodd;stroke:#0000FF;stroke-width:2.0px;stroke-linecap:butt;stroke-linejoin:miter;stroke-opacity:1\"/>\n",
       "<path class=\"bond-3 atom-0 atom-12\" d=\"M 198.8,61.7 L 202.0,45.5\" style=\"fill:none;fill-rule:evenodd;stroke:#000000;stroke-width:2.0px;stroke-linecap:butt;stroke-linejoin:miter;stroke-opacity:1\"/>\n",
       "<path class=\"bond-4 atom-1 atom-3\" d=\"M 268.8,206.3 L 249.2,142.9\" style=\"fill:none;fill-rule:evenodd;stroke:#000000;stroke-width:2.0px;stroke-linecap:butt;stroke-linejoin:miter;stroke-opacity:1\"/>\n",
       "<path class=\"bond-5 atom-1 atom-6\" d=\"M 268.8,206.3 L 217.3,220.6\" style=\"fill:none;fill-rule:evenodd;stroke:#000000;stroke-width:2.0px;stroke-linecap:butt;stroke-linejoin:miter;stroke-opacity:1\"/>\n",
       "<path class=\"bond-6 atom-1 atom-7\" d=\"M 268.8,206.3 L 255.5,254.5\" style=\"fill:none;fill-rule:evenodd;stroke:#000000;stroke-width:2.0px;stroke-linecap:butt;stroke-linejoin:miter;stroke-opacity:1\"/>\n",
       "<path class=\"bond-7 atom-1 atom-9\" d=\"M 268.8,206.3 L 319.4,219.7\" style=\"fill:none;fill-rule:evenodd;stroke:#000000;stroke-width:2.0px;stroke-linecap:butt;stroke-linejoin:miter;stroke-opacity:1\"/>\n",
       "<path class=\"bond-8 atom-2 atom-3\" d=\"M 292.1,93.8 L 249.2,142.9\" style=\"fill:none;fill-rule:evenodd;stroke:#000000;stroke-width:2.0px;stroke-linecap:butt;stroke-linejoin:miter;stroke-opacity:1\"/>\n",
       "<path class=\"bond-9 atom-2 atom-4\" d=\"M 297.8,94.9 L 289.4,70.6\" style=\"fill:none;fill-rule:evenodd;stroke:#000000;stroke-width:2.0px;stroke-linecap:butt;stroke-linejoin:miter;stroke-opacity:1\"/>\n",
       "<path class=\"bond-9 atom-2 atom-4\" d=\"M 289.4,70.6 L 280.9,46.4\" style=\"fill:none;fill-rule:evenodd;stroke:#FF0000;stroke-width:2.0px;stroke-linecap:butt;stroke-linejoin:miter;stroke-opacity:1\"/>\n",
       "<path class=\"bond-9 atom-2 atom-4\" d=\"M 288.4,98.1 L 279.9,73.9\" style=\"fill:none;fill-rule:evenodd;stroke:#000000;stroke-width:2.0px;stroke-linecap:butt;stroke-linejoin:miter;stroke-opacity:1\"/>\n",
       "<path class=\"bond-9 atom-2 atom-4\" d=\"M 279.9,73.9 L 271.5,49.6\" style=\"fill:none;fill-rule:evenodd;stroke:#FF0000;stroke-width:2.0px;stroke-linecap:butt;stroke-linejoin:miter;stroke-opacity:1\"/>\n",
       "<path class=\"bond-10 atom-2 atom-5\" d=\"M 292.1,93.8 L 317.0,98.7\" style=\"fill:none;fill-rule:evenodd;stroke:#000000;stroke-width:2.0px;stroke-linecap:butt;stroke-linejoin:miter;stroke-opacity:1\"/>\n",
       "<path class=\"bond-10 atom-2 atom-5\" d=\"M 317.0,98.7 L 341.9,103.6\" style=\"fill:none;fill-rule:evenodd;stroke:#FF0000;stroke-width:2.0px;stroke-linecap:butt;stroke-linejoin:miter;stroke-opacity:1\"/>\n",
       "<path class=\"bond-11 atom-3 atom-8\" d=\"M 249.2,142.9 L 213.2,164.5 L 209.1,155.4 Z\" style=\"fill:#000000;fill-rule:evenodd;fill-opacity:1;stroke:#000000;stroke-width:0.5px;stroke-linecap:butt;stroke-linejoin:miter;stroke-opacity:1;\"/>\n",
       "<path d=\"M 290.0,96.2 L 292.1,93.8 L 293.4,94.0\" style=\"fill:none;stroke:#000000;stroke-width:2.0px;stroke-linecap:butt;stroke-linejoin:miter;stroke-opacity:1;\"/>\n",
       "<path class=\"atom-0\" d=\"M 186.0 80.1 L 195.3 95.1 Q 196.2 96.6, 197.7 99.3 Q 199.2 101.9, 199.3 102.1 L 199.3 80.1 L 203.0 80.1 L 203.0 108.4 L 199.1 108.4 L 189.2 92.0 Q 188.0 90.1, 186.8 87.9 Q 185.6 85.7, 185.2 85.0 L 185.2 108.4 L 181.6 108.4 L 181.6 80.1 L 186.0 80.1 \" fill=\"#0000FF\"/>\n",
       "<path class=\"atom-0\" d=\"M 208.3 85.2 L 213.3 85.2 L 213.3 80.0 L 215.5 80.0 L 215.5 85.2 L 220.7 85.2 L 220.7 87.1 L 215.5 87.1 L 215.5 92.4 L 213.3 92.4 L 213.3 87.1 L 208.3 87.1 L 208.3 85.2 \" fill=\"#0000FF\"/>\n",
       "<path class=\"atom-4\" d=\"M 257.3 31.2 Q 257.3 24.4, 260.7 20.6 Q 264.0 16.8, 270.3 16.8 Q 276.6 16.8, 279.9 20.6 Q 283.3 24.4, 283.3 31.2 Q 283.3 38.0, 279.9 41.9 Q 276.5 45.8, 270.3 45.8 Q 264.1 45.8, 260.7 41.9 Q 257.3 38.1, 257.3 31.2 M 270.3 42.6 Q 274.6 42.6, 276.9 39.7 Q 279.3 36.8, 279.3 31.2 Q 279.3 25.6, 276.9 22.8 Q 274.6 20.0, 270.3 20.0 Q 266.0 20.0, 263.6 22.8 Q 261.3 25.6, 261.3 31.2 Q 261.3 36.9, 263.6 39.7 Q 266.0 42.6, 270.3 42.6 \" fill=\"#FF0000\"/>\n",
       "<path class=\"atom-5\" d=\"M 344.1 106.7 Q 344.1 99.9, 347.4 96.1 Q 350.8 92.3, 357.1 92.3 Q 363.3 92.3, 366.7 96.1 Q 370.1 99.9, 370.1 106.7 Q 370.1 113.6, 366.7 117.5 Q 363.3 121.4, 357.1 121.4 Q 350.8 121.4, 347.4 117.5 Q 344.1 113.6, 344.1 106.7 M 357.1 118.2 Q 361.4 118.2, 363.7 115.3 Q 366.1 112.4, 366.1 106.7 Q 366.1 101.2, 363.7 98.4 Q 361.4 95.5, 357.1 95.5 Q 352.8 95.5, 350.4 98.3 Q 348.1 101.1, 348.1 106.7 Q 348.1 112.4, 350.4 115.3 Q 352.8 118.2, 357.1 118.2 \" fill=\"#FF0000\"/>\n",
       "<path class=\"atom-5\" d=\"M 374.1 96.9 L 383.8 96.9 L 383.8 99.1 L 374.1 99.1 L 374.1 96.9 \" fill=\"#FF0000\"/>\n",
       "<path class=\"atom-6\" d=\"M 193.0 210.1 L 196.8 210.1 L 196.8 222.1 L 211.3 222.1 L 211.3 210.1 L 215.1 210.1 L 215.1 238.4 L 211.3 238.4 L 211.3 225.3 L 196.8 225.3 L 196.8 238.4 L 193.0 238.4 L 193.0 210.1 \" fill=\"#000000\"/>\n",
       "<path class=\"atom-7\" d=\"M 239.9 256.7 L 243.8 256.7 L 243.8 268.7 L 258.2 268.7 L 258.2 256.7 L 262.1 256.7 L 262.1 285.0 L 258.2 285.0 L 258.2 271.9 L 243.8 271.9 L 243.8 285.0 L 239.9 285.0 L 239.9 256.7 \" fill=\"#000000\"/>\n",
       "<path class=\"atom-8\" d=\"M 184.7 152.8 L 188.5 152.8 L 188.5 164.8 L 203.0 164.8 L 203.0 152.8 L 206.8 152.8 L 206.8 181.1 L 203.0 181.1 L 203.0 168.0 L 188.5 168.0 L 188.5 181.1 L 184.7 181.1 L 184.7 152.8 \" fill=\"#000000\"/>\n",
       "<path class=\"atom-9\" d=\"M 321.6 209.1 L 325.5 209.1 L 325.5 221.1 L 339.9 221.1 L 339.9 209.1 L 343.8 209.1 L 343.8 237.4 L 339.9 237.4 L 339.9 224.3 L 325.5 224.3 L 325.5 237.4 L 321.6 237.4 L 321.6 209.1 \" fill=\"#000000\"/>\n",
       "<path class=\"atom-10\" d=\"M 134.5 127.8 L 138.4 127.8 L 138.4 139.8 L 152.8 139.8 L 152.8 127.8 L 156.7 127.8 L 156.7 156.1 L 152.8 156.1 L 152.8 143.0 L 138.4 143.0 L 138.4 156.1 L 134.5 156.1 L 134.5 127.8 \" fill=\"#000000\"/>\n",
       "<path class=\"atom-11\" d=\"M 116.2 65.8 L 120.1 65.8 L 120.1 77.8 L 134.5 77.8 L 134.5 65.8 L 138.4 65.8 L 138.4 94.1 L 134.5 94.1 L 134.5 81.0 L 120.1 81.0 L 120.1 94.1 L 116.2 94.1 L 116.2 65.8 \" fill=\"#000000\"/>\n",
       "<path class=\"atom-12\" d=\"M 194.2 15.0 L 198.0 15.0 L 198.0 27.0 L 212.5 27.0 L 212.5 15.0 L 216.3 15.0 L 216.3 43.3 L 212.5 43.3 L 212.5 30.2 L 198.0 30.2 L 198.0 43.3 L 194.2 43.3 L 194.2 15.0 \" fill=\"#000000\"/>\n",
       "</svg>"
      ],
      "text/plain": [
       "<IPython.core.display.SVG object>"
      ]
     },
     "execution_count": 5,
     "metadata": {},
     "output_type": "execute_result"
    }
   ],
   "source": [
    "mapped_smiles = Molecule.from_mapped_smiles(\n",
    "    \"[H:10][C:2]([H:7])([H:8])[C@@:4]([H:9])([C:3](=[O:5])[O-:6])[N+:1]([H:11])([H:12])[H:13]\"\n",
    ")\n",
    "\n",
    "assert zw_l_alanine.is_isomorphic_with(mapped_smiles)\n",
    "\n",
    "# First index is the Nitrogen\n",
    "assert mapped_smiles.atoms[0].atomic_number == 7\n",
    "\n",
    "# Final indices are all H\n",
    "assert all([a.atomic_number == 1 for a in mapped_smiles.atoms[6:]])\n",
    "\n",
    "mapped_smiles.visualize()"
   ]
  },
  {
   "cell_type": "markdown",
   "id": "6897144e",
   "metadata": {},
   "source": [
    "(smiles_no_stereochemistry)=\n",
    "### SMILES without stereochemistry\n",
    "\n",
    "The Toolkit won't accept an ambiguous SMILES. This SMILES could be L- or D- alanine; rather than guess, the Toolkit throws an error:"
   ]
  },
  {
   "cell_type": "code",
   "execution_count": 6,
   "id": "ec669ad6",
   "metadata": {
    "scrolled": true,
    "tags": [
     "raises-exception"
    ]
   },
   "outputs": [
    {
     "name": "stdout",
     "output_type": "stream",
     "text": [
      "Unable to make OFFMol from OEMol: OEMol has unspecified stereochemistry. oemol.GetTitle()=''Problematic atoms are:\n",
      "Atom atomic num: 6, name: , idx: 1, aromatic: False, chiral: True with bonds:\n",
      "bond order: 1, chiral: False to atom atomic num: 6, name: , idx: 0, aromatic: False, chiral: False\n",
      "bond order: 1, chiral: False to atom atomic num: 7, name: , idx: 2, aromatic: False, chiral: False\n",
      "bond order: 1, chiral: False to atom atomic num: 6, name: , idx: 3, aromatic: False, chiral: False\n",
      "bond order: 1, chiral: False to atom atomic num: 1, name: , idx: 9, aromatic: False, chiral: False\n",
      "\n"
     ]
    }
   ],
   "source": [
    "from openff.toolkit.utils.exceptions import UndefinedStereochemistryError\n",
    "\n",
    "try:\n",
    "    smiles_non_isomeric = Molecule.from_smiles(\"CC([NH3+])C(=O)[O-]\")\n",
    "except UndefinedStereochemistryError as error:\n",
    "    print(error)"
   ]
  },
  {
   "cell_type": "markdown",
   "id": "821c4687",
   "metadata": {},
   "source": [
    "We can downgrade this error to a warning with the `allow_undefined_stereo` argument. This will create a molecule with undefined stereochemistry, which might lead to incorrect parametrization or surprising conformer generation. See the [FAQ](../faq.md#im-getting-stereochemistry-errors-when-loading-a-molecule-from-a-smiles-string) for more details."
   ]
  },
  {
   "cell_type": "code",
   "execution_count": 7,
   "id": "278e3cb1",
   "metadata": {},
   "outputs": [
    {
     "data": {
      "image/svg+xml": [
       "<svg xmlns=\"http://www.w3.org/2000/svg\" xmlns:rdkit=\"http://www.rdkit.org/xml\" xmlns:xlink=\"http://www.w3.org/1999/xlink\" version=\"1.1\" baseProfile=\"full\" xml:space=\"preserve\" width=\"500px\" height=\"300px\" viewBox=\"0 0 500 300\">\n",
       "<!-- END OF HEADER -->\n",
       "<rect style=\"opacity:1.0;fill:#FFFFFF;stroke:none\" width=\"500.0\" height=\"300.0\" x=\"0.0\" y=\"0.0\"> </rect>\n",
       "<path class=\"bond-0 atom-0 atom-1\" d=\"M 268.8,206.3 L 249.2,142.9\" style=\"fill:none;fill-rule:evenodd;stroke:#000000;stroke-width:2.0px;stroke-linecap:butt;stroke-linejoin:miter;stroke-opacity:1\"/>\n",
       "<path class=\"bond-1 atom-1 atom-2\" d=\"M 249.2,142.9 L 227.2,124.1\" style=\"fill:none;fill-rule:evenodd;stroke:#000000;stroke-width:2.0px;stroke-linecap:butt;stroke-linejoin:miter;stroke-opacity:1\"/>\n",
       "<path class=\"bond-1 atom-1 atom-2\" d=\"M 227.2,124.1 L 205.2,105.3\" style=\"fill:none;fill-rule:evenodd;stroke:#0000FF;stroke-width:2.0px;stroke-linecap:butt;stroke-linejoin:miter;stroke-opacity:1\"/>\n",
       "<path class=\"bond-2 atom-1 atom-3\" d=\"M 249.2,142.9 L 292.1,93.8\" style=\"fill:none;fill-rule:evenodd;stroke:#000000;stroke-width:2.0px;stroke-linecap:butt;stroke-linejoin:miter;stroke-opacity:1\"/>\n",
       "<path class=\"bond-3 atom-3 atom-4\" d=\"M 297.8,94.9 L 289.4,70.6\" style=\"fill:none;fill-rule:evenodd;stroke:#000000;stroke-width:2.0px;stroke-linecap:butt;stroke-linejoin:miter;stroke-opacity:1\"/>\n",
       "<path class=\"bond-3 atom-3 atom-4\" d=\"M 289.4,70.6 L 280.9,46.4\" style=\"fill:none;fill-rule:evenodd;stroke:#FF0000;stroke-width:2.0px;stroke-linecap:butt;stroke-linejoin:miter;stroke-opacity:1\"/>\n",
       "<path class=\"bond-3 atom-3 atom-4\" d=\"M 288.4,98.1 L 279.9,73.9\" style=\"fill:none;fill-rule:evenodd;stroke:#000000;stroke-width:2.0px;stroke-linecap:butt;stroke-linejoin:miter;stroke-opacity:1\"/>\n",
       "<path class=\"bond-3 atom-3 atom-4\" d=\"M 279.9,73.9 L 271.5,49.6\" style=\"fill:none;fill-rule:evenodd;stroke:#FF0000;stroke-width:2.0px;stroke-linecap:butt;stroke-linejoin:miter;stroke-opacity:1\"/>\n",
       "<path class=\"bond-4 atom-3 atom-5\" d=\"M 292.1,93.8 L 317.0,98.7\" style=\"fill:none;fill-rule:evenodd;stroke:#000000;stroke-width:2.0px;stroke-linecap:butt;stroke-linejoin:miter;stroke-opacity:1\"/>\n",
       "<path class=\"bond-4 atom-3 atom-5\" d=\"M 317.0,98.7 L 341.9,103.6\" style=\"fill:none;fill-rule:evenodd;stroke:#FF0000;stroke-width:2.0px;stroke-linecap:butt;stroke-linejoin:miter;stroke-opacity:1\"/>\n",
       "<path class=\"bond-5 atom-0 atom-6\" d=\"M 268.8,206.3 L 217.3,220.6\" style=\"fill:none;fill-rule:evenodd;stroke:#000000;stroke-width:2.0px;stroke-linecap:butt;stroke-linejoin:miter;stroke-opacity:1\"/>\n",
       "<path class=\"bond-6 atom-0 atom-7\" d=\"M 268.8,206.3 L 255.5,254.5\" style=\"fill:none;fill-rule:evenodd;stroke:#000000;stroke-width:2.0px;stroke-linecap:butt;stroke-linejoin:miter;stroke-opacity:1\"/>\n",
       "<path class=\"bond-7 atom-0 atom-8\" d=\"M 268.8,206.3 L 319.4,219.7\" style=\"fill:none;fill-rule:evenodd;stroke:#000000;stroke-width:2.0px;stroke-linecap:butt;stroke-linejoin:miter;stroke-opacity:1\"/>\n",
       "<path class=\"bond-8 atom-1 atom-9\" d=\"M 249.2,142.9 L 209.0,161.0\" style=\"fill:none;fill-rule:evenodd;stroke:#000000;stroke-width:2.0px;stroke-linecap:butt;stroke-linejoin:miter;stroke-opacity:1\"/>\n",
       "<path class=\"bond-9 atom-2 atom-10\" d=\"M 179.4,107.5 L 169.1,117.9\" style=\"fill:none;fill-rule:evenodd;stroke:#0000FF;stroke-width:2.0px;stroke-linecap:butt;stroke-linejoin:miter;stroke-opacity:1\"/>\n",
       "<path class=\"bond-9 atom-2 atom-10\" d=\"M 169.1,117.9 L 158.9,128.4\" style=\"fill:none;fill-rule:evenodd;stroke:#000000;stroke-width:2.0px;stroke-linecap:butt;stroke-linejoin:miter;stroke-opacity:1\"/>\n",
       "<path class=\"bond-10 atom-2 atom-11\" d=\"M 179.4,91.4 L 160.0,87.1\" style=\"fill:none;fill-rule:evenodd;stroke:#0000FF;stroke-width:2.0px;stroke-linecap:butt;stroke-linejoin:miter;stroke-opacity:1\"/>\n",
       "<path class=\"bond-10 atom-2 atom-11\" d=\"M 160.0,87.1 L 140.6,82.9\" style=\"fill:none;fill-rule:evenodd;stroke:#000000;stroke-width:2.0px;stroke-linecap:butt;stroke-linejoin:miter;stroke-opacity:1\"/>\n",
       "<path class=\"bond-11 atom-2 atom-12\" d=\"M 195.5,77.9 L 198.8,61.7\" style=\"fill:none;fill-rule:evenodd;stroke:#0000FF;stroke-width:2.0px;stroke-linecap:butt;stroke-linejoin:miter;stroke-opacity:1\"/>\n",
       "<path class=\"bond-11 atom-2 atom-12\" d=\"M 198.8,61.7 L 202.0,45.5\" style=\"fill:none;fill-rule:evenodd;stroke:#000000;stroke-width:2.0px;stroke-linecap:butt;stroke-linejoin:miter;stroke-opacity:1\"/>\n",
       "<path d=\"M 290.0,96.2 L 292.1,93.8 L 293.4,94.0\" style=\"fill:none;stroke:#000000;stroke-width:2.0px;stroke-linecap:butt;stroke-linejoin:miter;stroke-opacity:1;\"/>\n",
       "<path class=\"atom-2\" d=\"M 186.0 80.1 L 195.3 95.1 Q 196.2 96.6, 197.7 99.3 Q 199.2 101.9, 199.3 102.1 L 199.3 80.1 L 203.0 80.1 L 203.0 108.4 L 199.1 108.4 L 189.2 92.0 Q 188.0 90.1, 186.8 87.9 Q 185.6 85.7, 185.2 85.0 L 185.2 108.4 L 181.6 108.4 L 181.6 80.1 L 186.0 80.1 \" fill=\"#0000FF\"/>\n",
       "<path class=\"atom-2\" d=\"M 208.3 85.2 L 213.3 85.2 L 213.3 80.0 L 215.5 80.0 L 215.5 85.2 L 220.7 85.2 L 220.7 87.1 L 215.5 87.1 L 215.5 92.4 L 213.3 92.4 L 213.3 87.1 L 208.3 87.1 L 208.3 85.2 \" fill=\"#0000FF\"/>\n",
       "<path class=\"atom-4\" d=\"M 257.3 31.2 Q 257.3 24.4, 260.7 20.6 Q 264.0 16.8, 270.3 16.8 Q 276.6 16.8, 279.9 20.6 Q 283.3 24.4, 283.3 31.2 Q 283.3 38.0, 279.9 41.9 Q 276.5 45.8, 270.3 45.8 Q 264.1 45.8, 260.7 41.9 Q 257.3 38.1, 257.3 31.2 M 270.3 42.6 Q 274.6 42.6, 276.9 39.7 Q 279.3 36.8, 279.3 31.2 Q 279.3 25.6, 276.9 22.8 Q 274.6 20.0, 270.3 20.0 Q 266.0 20.0, 263.6 22.8 Q 261.3 25.6, 261.3 31.2 Q 261.3 36.9, 263.6 39.7 Q 266.0 42.6, 270.3 42.6 \" fill=\"#FF0000\"/>\n",
       "<path class=\"atom-5\" d=\"M 344.1 106.7 Q 344.1 99.9, 347.4 96.1 Q 350.8 92.3, 357.1 92.3 Q 363.3 92.3, 366.7 96.1 Q 370.1 99.9, 370.1 106.7 Q 370.1 113.6, 366.7 117.5 Q 363.3 121.4, 357.1 121.4 Q 350.8 121.4, 347.4 117.5 Q 344.1 113.6, 344.1 106.7 M 357.1 118.2 Q 361.4 118.2, 363.7 115.3 Q 366.1 112.4, 366.1 106.7 Q 366.1 101.2, 363.7 98.4 Q 361.4 95.5, 357.1 95.5 Q 352.8 95.5, 350.4 98.3 Q 348.1 101.1, 348.1 106.7 Q 348.1 112.4, 350.4 115.3 Q 352.8 118.2, 357.1 118.2 \" fill=\"#FF0000\"/>\n",
       "<path class=\"atom-5\" d=\"M 374.1 96.9 L 383.8 96.9 L 383.8 99.1 L 374.1 99.1 L 374.1 96.9 \" fill=\"#FF0000\"/>\n",
       "<path class=\"atom-6\" d=\"M 193.0 210.1 L 196.8 210.1 L 196.8 222.1 L 211.3 222.1 L 211.3 210.1 L 215.1 210.1 L 215.1 238.4 L 211.3 238.4 L 211.3 225.3 L 196.8 225.3 L 196.8 238.4 L 193.0 238.4 L 193.0 210.1 \" fill=\"#000000\"/>\n",
       "<path class=\"atom-7\" d=\"M 239.9 256.7 L 243.8 256.7 L 243.8 268.7 L 258.2 268.7 L 258.2 256.7 L 262.1 256.7 L 262.1 285.0 L 258.2 285.0 L 258.2 271.9 L 243.8 271.9 L 243.8 285.0 L 239.9 285.0 L 239.9 256.7 \" fill=\"#000000\"/>\n",
       "<path class=\"atom-8\" d=\"M 321.6 209.1 L 325.5 209.1 L 325.5 221.1 L 339.9 221.1 L 339.9 209.1 L 343.8 209.1 L 343.8 237.4 L 339.9 237.4 L 339.9 224.3 L 325.5 224.3 L 325.5 237.4 L 321.6 237.4 L 321.6 209.1 \" fill=\"#000000\"/>\n",
       "<path class=\"atom-9\" d=\"M 184.7 152.8 L 188.5 152.8 L 188.5 164.8 L 203.0 164.8 L 203.0 152.8 L 206.8 152.8 L 206.8 181.1 L 203.0 181.1 L 203.0 168.0 L 188.5 168.0 L 188.5 181.1 L 184.7 181.1 L 184.7 152.8 \" fill=\"#000000\"/>\n",
       "<path class=\"atom-10\" d=\"M 134.5 127.8 L 138.4 127.8 L 138.4 139.8 L 152.8 139.8 L 152.8 127.8 L 156.7 127.8 L 156.7 156.1 L 152.8 156.1 L 152.8 143.0 L 138.4 143.0 L 138.4 156.1 L 134.5 156.1 L 134.5 127.8 \" fill=\"#000000\"/>\n",
       "<path class=\"atom-11\" d=\"M 116.2 65.8 L 120.1 65.8 L 120.1 77.8 L 134.5 77.8 L 134.5 65.8 L 138.4 65.8 L 138.4 94.1 L 134.5 94.1 L 134.5 81.0 L 120.1 81.0 L 120.1 94.1 L 116.2 94.1 L 116.2 65.8 \" fill=\"#000000\"/>\n",
       "<path class=\"atom-12\" d=\"M 194.2 15.0 L 198.0 15.0 L 198.0 27.0 L 212.5 27.0 L 212.5 15.0 L 216.3 15.0 L 216.3 43.3 L 212.5 43.3 L 212.5 30.2 L 198.0 30.2 L 198.0 43.3 L 194.2 43.3 L 194.2 15.0 \" fill=\"#000000\"/>\n",
       "</svg>"
      ],
      "text/plain": [
       "<IPython.core.display.SVG object>"
      ]
     },
     "execution_count": 7,
     "metadata": {},
     "output_type": "execute_result"
    }
   ],
   "source": [
    "smiles_non_isomeric = Molecule.from_smiles(\n",
    "    \"CC([NH3+])C(=O)[O-]\",\n",
    "    allow_undefined_stereo=True,\n",
    ")\n",
    "\n",
    "assert not zw_l_alanine.is_isomorphic_with(smiles_non_isomeric)\n",
    "\n",
    "smiles_non_isomeric.visualize()"
   ]
  },
  {
   "cell_type": "markdown",
   "id": "da716060",
   "metadata": {},
   "source": [
    "## By hand\n",
    "\n",
    "You can always construct a `Molecule` by building it up from individual atoms and bonds. Other methods are generally easier, but it's a useful fallback for when you need to write your own constructor for an unsupported source format.\n",
    "\n",
    "The [`Molecule()`](openff.toolkit.topology.Molecule.__init__) constructor and the [`add_atom()`](openff.toolkit.topology.Molecule.add_atom) and [`add_bond()`](openff.toolkit.topology.Molecule.add_bond) methods are used to construct a `Molecule` by hand."
   ]
  },
  {
   "cell_type": "code",
   "execution_count": 8,
   "id": "aa8746eb",
   "metadata": {},
   "outputs": [
    {
     "data": {
      "image/svg+xml": [
       "<svg xmlns=\"http://www.w3.org/2000/svg\" xmlns:rdkit=\"http://www.rdkit.org/xml\" xmlns:xlink=\"http://www.w3.org/1999/xlink\" version=\"1.1\" baseProfile=\"full\" xml:space=\"preserve\" width=\"500px\" height=\"300px\" viewBox=\"0 0 500 300\">\n",
       "<!-- END OF HEADER -->\n",
       "<rect style=\"opacity:1.0;fill:#FFFFFF;stroke:none\" width=\"500.0\" height=\"300.0\" x=\"0.0\" y=\"0.0\"> </rect>\n",
       "<path class=\"bond-0 atom-0 atom-1\" d=\"M 285.3,250.6 L 293.8,225.4\" style=\"fill:none;fill-rule:evenodd;stroke:#FF0000;stroke-width:2.0px;stroke-linecap:butt;stroke-linejoin:miter;stroke-opacity:1\"/>\n",
       "<path class=\"bond-0 atom-0 atom-1\" d=\"M 293.8,225.4 L 302.2,200.2\" style=\"fill:none;fill-rule:evenodd;stroke:#000000;stroke-width:2.0px;stroke-linecap:butt;stroke-linejoin:miter;stroke-opacity:1\"/>\n",
       "<path class=\"bond-1 atom-1 atom-2\" d=\"M 300.3,206.1 L 328.6,200.1\" style=\"fill:none;fill-rule:evenodd;stroke:#000000;stroke-width:2.0px;stroke-linecap:butt;stroke-linejoin:miter;stroke-opacity:1\"/>\n",
       "<path class=\"bond-1 atom-1 atom-2\" d=\"M 328.6,200.1 L 357.0,194.2\" style=\"fill:none;fill-rule:evenodd;stroke:#FF0000;stroke-width:2.0px;stroke-linecap:butt;stroke-linejoin:miter;stroke-opacity:1\"/>\n",
       "<path class=\"bond-1 atom-1 atom-2\" d=\"M 298.2,195.7 L 326.5,189.8\" style=\"fill:none;fill-rule:evenodd;stroke:#000000;stroke-width:2.0px;stroke-linecap:butt;stroke-linejoin:miter;stroke-opacity:1\"/>\n",
       "<path class=\"bond-1 atom-1 atom-2\" d=\"M 326.5,189.8 L 354.8,183.8\" style=\"fill:none;fill-rule:evenodd;stroke:#FF0000;stroke-width:2.0px;stroke-linecap:butt;stroke-linejoin:miter;stroke-opacity:1\"/>\n",
       "<path class=\"bond-2 atom-1 atom-3\" d=\"M 302.2,200.2 L 256.0,148.4\" style=\"fill:none;fill-rule:evenodd;stroke:#000000;stroke-width:2.0px;stroke-linecap:butt;stroke-linejoin:miter;stroke-opacity:1\"/>\n",
       "<path class=\"bond-3 atom-3 atom-4\" d=\"M 252.7,147.4 L 253.0,146.7\" style=\"fill:none;fill-rule:evenodd;stroke:#000000;stroke-width:1.0px;stroke-linecap:butt;stroke-linejoin:miter;stroke-opacity:1\"/>\n",
       "<path class=\"bond-3 atom-3 atom-4\" d=\"M 249.3,146.4 L 250.0,144.9\" style=\"fill:none;fill-rule:evenodd;stroke:#000000;stroke-width:1.0px;stroke-linecap:butt;stroke-linejoin:miter;stroke-opacity:1\"/>\n",
       "<path class=\"bond-3 atom-3 atom-4\" d=\"M 246.0,145.4 L 247.0,143.1\" style=\"fill:none;fill-rule:evenodd;stroke:#000000;stroke-width:1.0px;stroke-linecap:butt;stroke-linejoin:miter;stroke-opacity:1\"/>\n",
       "<path class=\"bond-3 atom-3 atom-4\" d=\"M 242.6,144.3 L 243.9,141.3\" style=\"fill:none;fill-rule:evenodd;stroke:#000000;stroke-width:1.0px;stroke-linecap:butt;stroke-linejoin:miter;stroke-opacity:1\"/>\n",
       "<path class=\"bond-3 atom-3 atom-4\" d=\"M 239.3,143.3 L 240.9,139.6\" style=\"fill:none;fill-rule:evenodd;stroke:#000000;stroke-width:1.0px;stroke-linecap:butt;stroke-linejoin:miter;stroke-opacity:1\"/>\n",
       "<path class=\"bond-3 atom-3 atom-4\" d=\"M 235.9,142.3 L 237.9,137.8\" style=\"fill:none;fill-rule:evenodd;stroke:#000000;stroke-width:1.0px;stroke-linecap:butt;stroke-linejoin:miter;stroke-opacity:1\"/>\n",
       "<path class=\"bond-3 atom-3 atom-4\" d=\"M 232.6,141.3 L 234.9,136.0\" style=\"fill:none;fill-rule:evenodd;stroke:#000000;stroke-width:1.0px;stroke-linecap:butt;stroke-linejoin:miter;stroke-opacity:1\"/>\n",
       "<path class=\"bond-3 atom-3 atom-4\" d=\"M 229.3,140.2 L 231.9,134.3\" style=\"fill:none;fill-rule:evenodd;stroke:#000000;stroke-width:1.0px;stroke-linecap:butt;stroke-linejoin:miter;stroke-opacity:1\"/>\n",
       "<path class=\"bond-3 atom-3 atom-4\" d=\"M 225.9,139.2 L 228.9,132.5\" style=\"fill:none;fill-rule:evenodd;stroke:#000000;stroke-width:1.0px;stroke-linecap:butt;stroke-linejoin:miter;stroke-opacity:1\"/>\n",
       "<path class=\"bond-3 atom-3 atom-4\" d=\"M 222.6,138.2 L 225.9,130.7\" style=\"fill:none;fill-rule:evenodd;stroke:#000000;stroke-width:1.0px;stroke-linecap:butt;stroke-linejoin:miter;stroke-opacity:1\"/>\n",
       "<path class=\"bond-3 atom-3 atom-4\" d=\"M 219.2,137.2 L 222.9,128.9\" style=\"fill:none;fill-rule:evenodd;stroke:#000000;stroke-width:1.0px;stroke-linecap:butt;stroke-linejoin:miter;stroke-opacity:1\"/>\n",
       "<path class=\"bond-3 atom-3 atom-4\" d=\"M 215.9,136.1 L 219.8,127.2\" style=\"fill:none;fill-rule:evenodd;stroke:#000000;stroke-width:1.0px;stroke-linecap:butt;stroke-linejoin:miter;stroke-opacity:1\"/>\n",
       "<path class=\"bond-3 atom-3 atom-4\" d=\"M 212.6,135.1 L 216.8,125.4\" style=\"fill:none;fill-rule:evenodd;stroke:#000000;stroke-width:1.0px;stroke-linecap:butt;stroke-linejoin:miter;stroke-opacity:1\"/>\n",
       "<path class=\"bond-4 atom-3 atom-5\" d=\"M 256.0,148.4 L 276.2,80.8\" style=\"fill:none;fill-rule:evenodd;stroke:#000000;stroke-width:2.0px;stroke-linecap:butt;stroke-linejoin:miter;stroke-opacity:1\"/>\n",
       "<path class=\"bond-5 atom-5 atom-6\" d=\"M 276.2,80.8 L 330.7,95.3\" style=\"fill:none;fill-rule:evenodd;stroke:#000000;stroke-width:2.0px;stroke-linecap:butt;stroke-linejoin:miter;stroke-opacity:1\"/>\n",
       "<path class=\"bond-6 atom-5 atom-7\" d=\"M 276.2,80.8 L 311.8,44.0\" style=\"fill:none;fill-rule:evenodd;stroke:#000000;stroke-width:2.0px;stroke-linecap:butt;stroke-linejoin:miter;stroke-opacity:1\"/>\n",
       "<path class=\"bond-7 atom-5 atom-8\" d=\"M 276.2,80.8 L 238.7,43.9\" style=\"fill:none;fill-rule:evenodd;stroke:#000000;stroke-width:2.0px;stroke-linecap:butt;stroke-linejoin:miter;stroke-opacity:1\"/>\n",
       "<path class=\"bond-8 atom-3 atom-9\" d=\"M 256.0,148.4 L 235.5,166.3\" style=\"fill:none;fill-rule:evenodd;stroke:#000000;stroke-width:2.0px;stroke-linecap:butt;stroke-linejoin:miter;stroke-opacity:1\"/>\n",
       "<path class=\"bond-8 atom-3 atom-9\" d=\"M 235.5,166.3 L 215.0,184.1\" style=\"fill:none;fill-rule:evenodd;stroke:#0000FF;stroke-width:2.0px;stroke-linecap:butt;stroke-linejoin:miter;stroke-opacity:1\"/>\n",
       "<path class=\"bond-9 atom-9 atom-10\" d=\"M 182.8,187.6 L 171.0,175.7\" style=\"fill:none;fill-rule:evenodd;stroke:#0000FF;stroke-width:2.0px;stroke-linecap:butt;stroke-linejoin:miter;stroke-opacity:1\"/>\n",
       "<path class=\"bond-9 atom-9 atom-10\" d=\"M 171.0,175.7 L 159.2,163.8\" style=\"fill:none;fill-rule:evenodd;stroke:#000000;stroke-width:2.0px;stroke-linecap:butt;stroke-linejoin:miter;stroke-opacity:1\"/>\n",
       "<path class=\"bond-10 atom-9 atom-11\" d=\"M 182.8,203.7 L 161.6,208.6\" style=\"fill:none;fill-rule:evenodd;stroke:#0000FF;stroke-width:2.0px;stroke-linecap:butt;stroke-linejoin:miter;stroke-opacity:1\"/>\n",
       "<path class=\"bond-10 atom-9 atom-11\" d=\"M 161.6,208.6 L 140.3,213.5\" style=\"fill:none;fill-rule:evenodd;stroke:#000000;stroke-width:2.0px;stroke-linecap:butt;stroke-linejoin:miter;stroke-opacity:1\"/>\n",
       "<path class=\"bond-11 atom-9 atom-12\" d=\"M 199.3,217.2 L 203.1,235.3\" style=\"fill:none;fill-rule:evenodd;stroke:#0000FF;stroke-width:2.0px;stroke-linecap:butt;stroke-linejoin:miter;stroke-opacity:1\"/>\n",
       "<path class=\"bond-11 atom-9 atom-12\" d=\"M 203.1,235.3 L 206.9,253.4\" style=\"fill:none;fill-rule:evenodd;stroke:#000000;stroke-width:2.0px;stroke-linecap:butt;stroke-linejoin:miter;stroke-opacity:1\"/>\n",
       "<path d=\"M 301.8,201.5 L 302.2,200.2 L 299.9,197.6\" style=\"fill:none;stroke:#000000;stroke-width:2.0px;stroke-linecap:butt;stroke-linejoin:miter;stroke-opacity:1;\"/>\n",
       "<path class=\"atom-0\" d=\"M 266.7 267.3 Q 266.7 260.5, 270.0 256.7 Q 273.4 252.9, 279.7 252.9 Q 286.0 252.9, 289.3 256.7 Q 292.7 260.5, 292.7 267.3 Q 292.7 274.2, 289.3 278.1 Q 285.9 282.0, 279.7 282.0 Q 273.4 282.0, 270.0 278.1 Q 266.7 274.2, 266.7 267.3 M 279.7 278.8 Q 284.0 278.8, 286.3 275.9 Q 288.7 273.0, 288.7 267.3 Q 288.7 261.8, 286.3 259.0 Q 284.0 256.1, 279.7 256.1 Q 275.4 256.1, 273.0 258.9 Q 270.7 261.7, 270.7 267.3 Q 270.7 273.0, 273.0 275.9 Q 275.4 278.8, 279.7 278.8 \" fill=\"#FF0000\"/>\n",
       "<path class=\"atom-0\" d=\"M 296.7 257.6 L 306.4 257.6 L 306.4 259.7 L 296.7 259.7 L 296.7 257.6 \" fill=\"#FF0000\"/>\n",
       "<path class=\"atom-2\" d=\"M 358.2 185.9 Q 358.2 179.1, 361.6 175.3 Q 364.9 171.5, 371.2 171.5 Q 377.5 171.5, 380.9 175.3 Q 384.2 179.1, 384.2 185.9 Q 384.2 192.8, 380.8 196.7 Q 377.4 200.6, 371.2 200.6 Q 365.0 200.6, 361.6 196.7 Q 358.2 192.8, 358.2 185.9 M 371.2 197.4 Q 375.5 197.4, 377.9 194.5 Q 380.2 191.6, 380.2 185.9 Q 380.2 180.3, 377.9 177.5 Q 375.5 174.7, 371.2 174.7 Q 366.9 174.7, 364.5 177.5 Q 362.2 180.3, 362.2 185.9 Q 362.2 191.6, 364.5 194.5 Q 366.9 197.4, 371.2 197.4 \" fill=\"#FF0000\"/>\n",
       "<path class=\"atom-4\" d=\"M 187.9 109.2 L 191.7 109.2 L 191.7 121.2 L 206.2 121.2 L 206.2 109.2 L 210.0 109.2 L 210.0 137.5 L 206.2 137.5 L 206.2 124.4 L 191.7 124.4 L 191.7 137.5 L 187.9 137.5 L 187.9 109.2 \" fill=\"#000000\"/>\n",
       "<path class=\"atom-6\" d=\"M 333.0 84.7 L 336.8 84.7 L 336.8 96.7 L 351.3 96.7 L 351.3 84.7 L 355.2 84.7 L 355.2 113.0 L 351.3 113.0 L 351.3 99.9 L 336.8 99.9 L 336.8 113.0 L 333.0 113.0 L 333.0 84.7 \" fill=\"#000000\"/>\n",
       "<path class=\"atom-7\" d=\"M 314.1 15.9 L 317.9 15.9 L 317.9 27.9 L 332.4 27.9 L 332.4 15.9 L 336.2 15.9 L 336.2 44.2 L 332.4 44.2 L 332.4 31.1 L 317.9 31.1 L 317.9 44.2 L 314.1 44.2 L 314.1 15.9 \" fill=\"#000000\"/>\n",
       "<path class=\"atom-8\" d=\"M 214.2 16.5 L 218.1 16.5 L 218.1 28.5 L 232.6 28.5 L 232.6 16.5 L 236.4 16.5 L 236.4 44.8 L 232.6 44.8 L 232.6 31.7 L 218.1 31.7 L 218.1 44.8 L 214.2 44.8 L 214.2 16.5 \" fill=\"#000000\"/>\n",
       "<path class=\"atom-9\" d=\"M 189.7 186.6 L 198.9 201.6 Q 199.9 203.1, 201.3 205.7 Q 202.8 208.4, 202.9 208.6 L 202.9 186.6 L 206.7 186.6 L 206.7 214.9 L 202.8 214.9 L 192.8 198.5 Q 191.7 196.6, 190.4 194.4 Q 189.2 192.2, 188.9 191.5 L 188.9 214.9 L 185.2 214.9 L 185.2 186.6 L 189.7 186.6 \" fill=\"#0000FF\"/>\n",
       "<path class=\"atom-9\" d=\"M 212.0 191.7 L 217.0 191.7 L 217.0 186.4 L 219.2 186.4 L 219.2 191.7 L 224.3 191.7 L 224.3 193.6 L 219.2 193.6 L 219.2 198.9 L 217.0 198.9 L 217.0 193.6 L 212.0 193.6 L 212.0 191.7 \" fill=\"#0000FF\"/>\n",
       "<path class=\"atom-10\" d=\"M 134.7 136.2 L 138.5 136.2 L 138.5 148.2 L 153.0 148.2 L 153.0 136.2 L 156.9 136.2 L 156.9 164.5 L 153.0 164.5 L 153.0 151.4 L 138.5 151.4 L 138.5 164.5 L 134.7 164.5 L 134.7 136.2 \" fill=\"#000000\"/>\n",
       "<path class=\"atom-11\" d=\"M 115.8 202.4 L 119.6 202.4 L 119.6 214.5 L 134.1 214.5 L 134.1 202.4 L 137.9 202.4 L 137.9 230.7 L 134.1 230.7 L 134.1 217.7 L 119.6 217.7 L 119.6 230.7 L 115.8 230.7 L 115.8 202.4 \" fill=\"#000000\"/>\n",
       "<path class=\"atom-12\" d=\"M 199.2 255.8 L 203.1 255.8 L 203.1 267.8 L 217.5 267.8 L 217.5 255.8 L 221.4 255.8 L 221.4 284.1 L 217.5 284.1 L 217.5 271.0 L 203.1 271.0 L 203.1 284.1 L 199.2 284.1 L 199.2 255.8 \" fill=\"#000000\"/>\n",
       "</svg>"
      ],
      "text/plain": [
       "<IPython.core.display.SVG object>"
      ]
     },
     "execution_count": 8,
     "metadata": {},
     "output_type": "execute_result"
    }
   ],
   "source": [
    "by_hand = Molecule()\n",
    "by_hand.name = \"Zwitterionic l-Alanine\"\n",
    "\n",
    "by_hand.add_atom(\n",
    "    atomic_number=8,  # Atomic number 8 is Oxygen\n",
    "    formal_charge=-1,  # Formal negative charge\n",
    "    is_aromatic=False,  # Atom is not part of an aromatic system\n",
    "    stereochemistry=None,  # Optional argument; \"R\" or \"S\" stereochemistry\n",
    "    name=\"O-\",  # Optional argument; descriptive name for the atom\n",
    ")\n",
    "by_hand.add_atom(6, 0, False, name=\"C\")\n",
    "by_hand.add_atom(8, 0, False, name=\"O\")\n",
    "by_hand.add_atom(6, 0, False, stereochemistry=\"S\", name=\"CA\")\n",
    "by_hand.add_atom(1, 0, False, name=\"CAH\")\n",
    "by_hand.add_atom(6, 0, False, name=\"CB\")\n",
    "by_hand.add_atom(1, 0, False, name=\"HB1\")\n",
    "by_hand.add_atom(1, 0, False, name=\"HB2\")\n",
    "by_hand.add_atom(1, 0, False, name=\"HB3\")\n",
    "by_hand.add_atom(7, +1, False, name=\"N+\")\n",
    "by_hand.add_atom(1, 0, False, name=\"HN1\")\n",
    "by_hand.add_atom(1, 0, False, name=\"HN2\")\n",
    "by_hand.add_atom(1, 0, False, name=\"HN3\")\n",
    "\n",
    "\n",
    "by_hand.add_bond(\n",
    "    atom1=0,  # First (zero-indexed) atom specified above (\"O-\")\n",
    "    atom2=1,  # Second atom specified above (\"C\")\n",
    "    bond_order=1,  # Single bond\n",
    "    is_aromatic=False,  # Bond is not aromatic\n",
    "    stereochemistry=None,  # Optional argument; \"E\" or \"Z\" stereochemistry\n",
    "    fractional_bond_order=None,  # Optional argument; Wiberg (or similar) bond order\n",
    ")\n",
    "by_hand.add_bond(1, 2, 2, False)  # C = O\n",
    "by_hand.add_bond(1, 3, 1, False)  # C - CA\n",
    "by_hand.add_bond(3, 4, 1, False)  # CA - CAH\n",
    "by_hand.add_bond(3, 5, 1, False)  # CA - CB\n",
    "by_hand.add_bond(5, 6, 1, False)  # CB - HB1\n",
    "by_hand.add_bond(5, 7, 1, False)  # CB - HB2\n",
    "by_hand.add_bond(5, 8, 1, False)  # CB - HB3\n",
    "by_hand.add_bond(3, 9, 1, False)  # CB - N+\n",
    "by_hand.add_bond(9, 10, 1, False)  # N+ - HN1\n",
    "by_hand.add_bond(9, 11, 1, False)  # N+ - HN2\n",
    "by_hand.add_bond(9, 12, 1, False)  # N+ - HN3\n",
    "\n",
    "assert zw_l_alanine.is_isomorphic_with(by_hand)\n",
    "\n",
    "by_hand.visualize()"
   ]
  },
  {
   "cell_type": "markdown",
   "id": "15931dd9",
   "metadata": {},
   "source": [
    "### From a dictionary\n",
    "\n",
    "Rather than build up the `Molecule` one method at a time, the [`Molecule.from_dict()`](openff.toolkit.topology.Molecule.from_dict) method can construct a `Molecule` in one shot from a Python `dict` that describes the molecule in question. This allows `Molecule` objects to be written to and read from disk in any format that can be interpreted as a `dict`; this mechanism underlies the [`from_bson()`](openff.toolkit.topology.Molecule.from_bson), [`from_json()`](openff.toolkit.topology.Molecule.from_json), [`from_messagepack()`](openff.toolkit.topology.Molecule.from_messagepack), [`from_pickle()`](openff.toolkit.topology.Molecule.from_pickle), [`from_toml()`](openff.toolkit.topology.Molecule.from_toml), [`from_xml()`](openff.toolkit.topology.Molecule.from_xml), and [`from_yaml()`](openff.toolkit.topology.Molecule.from_yaml) methods.\n",
    "\n",
    "This format can get very verbose, as it is intended for serialization, so this example uses hydrogen cyanide rather than alanine."
   ]
  },
  {
   "cell_type": "code",
   "execution_count": 9,
   "id": "dc756a7f",
   "metadata": {},
   "outputs": [
    {
     "data": {
      "image/svg+xml": [
       "<svg xmlns=\"http://www.w3.org/2000/svg\" xmlns:rdkit=\"http://www.rdkit.org/xml\" xmlns:xlink=\"http://www.w3.org/1999/xlink\" version=\"1.1\" baseProfile=\"full\" xml:space=\"preserve\" width=\"500px\" height=\"300px\" viewBox=\"0 0 500 300\">\n",
       "<!-- END OF HEADER -->\n",
       "<rect style=\"opacity:1.0;fill:#FFFFFF;stroke:none\" width=\"500.0\" height=\"300.0\" x=\"0.0\" y=\"0.0\"> </rect>\n",
       "<path class=\"bond-0 atom-0 atom-1\" d=\"M 102.3,235.1 L 250.2,150.4\" style=\"fill:none;fill-rule:evenodd;stroke:#000000;stroke-width:2.0px;stroke-linecap:butt;stroke-linejoin:miter;stroke-opacity:1\"/>\n",
       "<path class=\"bond-1 atom-1 atom-2\" d=\"M 250.2,150.4 L 324.3,108.0\" style=\"fill:none;fill-rule:evenodd;stroke:#000000;stroke-width:2.0px;stroke-linecap:butt;stroke-linejoin:miter;stroke-opacity:1\"/>\n",
       "<path class=\"bond-1 atom-1 atom-2\" d=\"M 324.3,108.0 L 398.3,65.6\" style=\"fill:none;fill-rule:evenodd;stroke:#0000FF;stroke-width:2.0px;stroke-linecap:butt;stroke-linejoin:miter;stroke-opacity:1\"/>\n",
       "<path class=\"bond-1 atom-1 atom-2\" d=\"M 236.0,125.7 L 310.1,83.2\" style=\"fill:none;fill-rule:evenodd;stroke:#000000;stroke-width:2.0px;stroke-linecap:butt;stroke-linejoin:miter;stroke-opacity:1\"/>\n",
       "<path class=\"bond-1 atom-1 atom-2\" d=\"M 310.1,83.2 L 384.2,40.8\" style=\"fill:none;fill-rule:evenodd;stroke:#0000FF;stroke-width:2.0px;stroke-linecap:butt;stroke-linejoin:miter;stroke-opacity:1\"/>\n",
       "<path class=\"bond-1 atom-1 atom-2\" d=\"M 264.4,175.2 L 338.4,132.8\" style=\"fill:none;fill-rule:evenodd;stroke:#000000;stroke-width:2.0px;stroke-linecap:butt;stroke-linejoin:miter;stroke-opacity:1\"/>\n",
       "<path class=\"bond-1 atom-1 atom-2\" d=\"M 338.4,132.8 L 412.5,90.4\" style=\"fill:none;fill-rule:evenodd;stroke:#0000FF;stroke-width:2.0px;stroke-linecap:butt;stroke-linejoin:miter;stroke-opacity:1\"/>\n",
       "<path d=\"M 242.8,154.7 L 250.2,150.4 L 253.9,148.3\" style=\"fill:none;stroke:#000000;stroke-width:2.0px;stroke-linecap:butt;stroke-linejoin:miter;stroke-opacity:1;\"/>\n",
       "<path class=\"atom-0\" d=\"M 73.9 230.8 L 77.7 230.8 L 77.7 242.9 L 92.2 242.9 L 92.2 230.8 L 96.1 230.8 L 96.1 259.2 L 92.2 259.2 L 92.2 246.1 L 77.7 246.1 L 77.7 259.2 L 73.9 259.2 L 73.9 230.8 \" fill=\"#000000\"/>\n",
       "<path class=\"atom-2\" d=\"M 409.1 41.7 L 418.4 56.7 Q 419.3 58.2, 420.8 60.9 Q 422.3 63.5, 422.3 63.7 L 422.3 41.7 L 426.1 41.7 L 426.1 70.0 L 422.2 70.0 L 412.3 53.6 Q 411.1 51.7, 409.9 49.5 Q 408.7 47.3, 408.3 46.6 L 408.3 70.0 L 404.6 70.0 L 404.6 41.7 L 409.1 41.7 \" fill=\"#0000FF\"/>\n",
       "</svg>"
      ],
      "text/plain": [
       "<IPython.core.display.SVG object>"
      ]
     },
     "execution_count": 9,
     "metadata": {},
     "output_type": "execute_result"
    }
   ],
   "source": [
    "molecule_dict = {\n",
    "    \"name\": \"\",\n",
    "    \"atoms\": [\n",
    "        {\n",
    "            \"atomic_number\": 1,\n",
    "            \"formal_charge\": 0,\n",
    "            \"is_aromatic\": False,\n",
    "            \"stereochemistry\": None,\n",
    "            \"name\": \"H\",\n",
    "        },\n",
    "        {\n",
    "            \"atomic_number\": 6,\n",
    "            \"formal_charge\": 0,\n",
    "            \"is_aromatic\": False,\n",
    "            \"stereochemistry\": None,\n",
    "            \"name\": \"C\",\n",
    "        },\n",
    "        {\n",
    "            \"atomic_number\": 7,\n",
    "            \"formal_charge\": 0,\n",
    "            \"is_aromatic\": False,\n",
    "            \"stereochemistry\": None,\n",
    "            \"name\": \"N\",\n",
    "        },\n",
    "    ],\n",
    "    \"virtual_sites\": [],\n",
    "    \"bonds\": [\n",
    "        {\n",
    "            \"atom1\": 0,\n",
    "            \"atom2\": 1,\n",
    "            \"bond_order\": 1,\n",
    "            \"is_aromatic\": False,\n",
    "            \"stereochemistry\": None,\n",
    "            \"fractional_bond_order\": None,\n",
    "        },\n",
    "        {\n",
    "            \"atom1\": 1,\n",
    "            \"atom2\": 2,\n",
    "            \"bond_order\": 3,\n",
    "            \"is_aromatic\": False,\n",
    "            \"stereochemistry\": None,\n",
    "            \"fractional_bond_order\": None,\n",
    "        },\n",
    "    ],\n",
    "    \"properties\": {},\n",
    "    \"conformers\": None,\n",
    "    \"partial_charges\": None,\n",
    "    \"partial_charges_unit\": None,\n",
    "    \"hierarchy_schemes\": {},\n",
    "}\n",
    "\n",
    "from_dictionary = Molecule.from_dict(molecule_dict)\n",
    "\n",
    "from_dictionary.visualize()"
   ]
  },
  {
   "cell_type": "markdown",
   "id": "1b50a800",
   "metadata": {},
   "source": [
    "## From a file\n",
    "\n",
    "We can construct a `Molecule` from a file or file-like object with the [`from_file()`](openff.toolkit.topology.Molecule.from_file) method. We're a bit constrained in what file formats we can accept, because they need to provide all the information needed to construct the molecular graph; not just coordinates, but also elements, formal charges, bond orders, and stereochemistry."
   ]
  },
  {
   "cell_type": "markdown",
   "id": "79aec960",
   "metadata": {},
   "source": [
    "### From SDF file\n",
    "\n",
    "We generally recommend the SDF format. The SDF file used here can be found [on GitHub](https://github.com/openforcefield/openff-toolkit/blob/main/docs/users/zw_l_alanine.sdf)"
   ]
  },
  {
   "cell_type": "code",
   "execution_count": 10,
   "id": "a78e4e0f",
   "metadata": {},
   "outputs": [
    {
     "data": {
      "image/svg+xml": [
       "<svg xmlns=\"http://www.w3.org/2000/svg\" xmlns:rdkit=\"http://www.rdkit.org/xml\" xmlns:xlink=\"http://www.w3.org/1999/xlink\" version=\"1.1\" baseProfile=\"full\" xml:space=\"preserve\" width=\"500px\" height=\"300px\" viewBox=\"0 0 500 300\">\n",
       "<!-- END OF HEADER -->\n",
       "<rect style=\"opacity:1.0;fill:#FFFFFF;stroke:none\" width=\"500.0\" height=\"300.0\" x=\"0.0\" y=\"0.0\"> </rect>\n",
       "<path class=\"bond-0 atom-0 atom-1\" d=\"M 276.2,80.8 L 256.0,148.4\" style=\"fill:none;fill-rule:evenodd;stroke:#000000;stroke-width:2.0px;stroke-linecap:butt;stroke-linejoin:miter;stroke-opacity:1\"/>\n",
       "<path class=\"bond-1 atom-1 atom-2\" d=\"M 256.0,148.4 L 235.5,166.3\" style=\"fill:none;fill-rule:evenodd;stroke:#000000;stroke-width:2.0px;stroke-linecap:butt;stroke-linejoin:miter;stroke-opacity:1\"/>\n",
       "<path class=\"bond-1 atom-1 atom-2\" d=\"M 235.5,166.3 L 215.0,184.1\" style=\"fill:none;fill-rule:evenodd;stroke:#0000FF;stroke-width:2.0px;stroke-linecap:butt;stroke-linejoin:miter;stroke-opacity:1\"/>\n",
       "<path class=\"bond-2 atom-1 atom-3\" d=\"M 256.0,148.4 L 302.2,200.2\" style=\"fill:none;fill-rule:evenodd;stroke:#000000;stroke-width:2.0px;stroke-linecap:butt;stroke-linejoin:miter;stroke-opacity:1\"/>\n",
       "<path class=\"bond-3 atom-3 atom-4\" d=\"M 302.2,200.2 L 293.8,225.4\" style=\"fill:none;fill-rule:evenodd;stroke:#000000;stroke-width:2.0px;stroke-linecap:butt;stroke-linejoin:miter;stroke-opacity:1\"/>\n",
       "<path class=\"bond-3 atom-3 atom-4\" d=\"M 293.8,225.4 L 285.3,250.6\" style=\"fill:none;fill-rule:evenodd;stroke:#FF0000;stroke-width:2.0px;stroke-linecap:butt;stroke-linejoin:miter;stroke-opacity:1\"/>\n",
       "<path class=\"bond-4 atom-3 atom-5\" d=\"M 300.3,206.1 L 328.6,200.1\" style=\"fill:none;fill-rule:evenodd;stroke:#000000;stroke-width:2.0px;stroke-linecap:butt;stroke-linejoin:miter;stroke-opacity:1\"/>\n",
       "<path class=\"bond-4 atom-3 atom-5\" d=\"M 328.6,200.1 L 357.0,194.2\" style=\"fill:none;fill-rule:evenodd;stroke:#FF0000;stroke-width:2.0px;stroke-linecap:butt;stroke-linejoin:miter;stroke-opacity:1\"/>\n",
       "<path class=\"bond-4 atom-3 atom-5\" d=\"M 298.2,195.7 L 326.5,189.8\" style=\"fill:none;fill-rule:evenodd;stroke:#000000;stroke-width:2.0px;stroke-linecap:butt;stroke-linejoin:miter;stroke-opacity:1\"/>\n",
       "<path class=\"bond-4 atom-3 atom-5\" d=\"M 326.5,189.8 L 354.8,183.8\" style=\"fill:none;fill-rule:evenodd;stroke:#FF0000;stroke-width:2.0px;stroke-linecap:butt;stroke-linejoin:miter;stroke-opacity:1\"/>\n",
       "<path class=\"bond-5 atom-0 atom-6\" d=\"M 276.2,80.8 L 330.7,95.3\" style=\"fill:none;fill-rule:evenodd;stroke:#000000;stroke-width:2.0px;stroke-linecap:butt;stroke-linejoin:miter;stroke-opacity:1\"/>\n",
       "<path class=\"bond-6 atom-0 atom-7\" d=\"M 276.2,80.8 L 311.8,44.0\" style=\"fill:none;fill-rule:evenodd;stroke:#000000;stroke-width:2.0px;stroke-linecap:butt;stroke-linejoin:miter;stroke-opacity:1\"/>\n",
       "<path class=\"bond-7 atom-0 atom-8\" d=\"M 276.2,80.8 L 238.7,43.9\" style=\"fill:none;fill-rule:evenodd;stroke:#000000;stroke-width:2.0px;stroke-linecap:butt;stroke-linejoin:miter;stroke-opacity:1\"/>\n",
       "<path class=\"bond-8 atom-1 atom-9\" d=\"M 252.7,147.4 L 253.0,146.7\" style=\"fill:none;fill-rule:evenodd;stroke:#000000;stroke-width:1.0px;stroke-linecap:butt;stroke-linejoin:miter;stroke-opacity:1\"/>\n",
       "<path class=\"bond-8 atom-1 atom-9\" d=\"M 249.3,146.4 L 250.0,144.9\" style=\"fill:none;fill-rule:evenodd;stroke:#000000;stroke-width:1.0px;stroke-linecap:butt;stroke-linejoin:miter;stroke-opacity:1\"/>\n",
       "<path class=\"bond-8 atom-1 atom-9\" d=\"M 246.0,145.4 L 247.0,143.1\" style=\"fill:none;fill-rule:evenodd;stroke:#000000;stroke-width:1.0px;stroke-linecap:butt;stroke-linejoin:miter;stroke-opacity:1\"/>\n",
       "<path class=\"bond-8 atom-1 atom-9\" d=\"M 242.6,144.3 L 243.9,141.3\" style=\"fill:none;fill-rule:evenodd;stroke:#000000;stroke-width:1.0px;stroke-linecap:butt;stroke-linejoin:miter;stroke-opacity:1\"/>\n",
       "<path class=\"bond-8 atom-1 atom-9\" d=\"M 239.3,143.3 L 240.9,139.6\" style=\"fill:none;fill-rule:evenodd;stroke:#000000;stroke-width:1.0px;stroke-linecap:butt;stroke-linejoin:miter;stroke-opacity:1\"/>\n",
       "<path class=\"bond-8 atom-1 atom-9\" d=\"M 235.9,142.3 L 237.9,137.8\" style=\"fill:none;fill-rule:evenodd;stroke:#000000;stroke-width:1.0px;stroke-linecap:butt;stroke-linejoin:miter;stroke-opacity:1\"/>\n",
       "<path class=\"bond-8 atom-1 atom-9\" d=\"M 232.6,141.3 L 234.9,136.0\" style=\"fill:none;fill-rule:evenodd;stroke:#000000;stroke-width:1.0px;stroke-linecap:butt;stroke-linejoin:miter;stroke-opacity:1\"/>\n",
       "<path class=\"bond-8 atom-1 atom-9\" d=\"M 229.3,140.2 L 231.9,134.3\" style=\"fill:none;fill-rule:evenodd;stroke:#000000;stroke-width:1.0px;stroke-linecap:butt;stroke-linejoin:miter;stroke-opacity:1\"/>\n",
       "<path class=\"bond-8 atom-1 atom-9\" d=\"M 225.9,139.2 L 228.9,132.5\" style=\"fill:none;fill-rule:evenodd;stroke:#000000;stroke-width:1.0px;stroke-linecap:butt;stroke-linejoin:miter;stroke-opacity:1\"/>\n",
       "<path class=\"bond-8 atom-1 atom-9\" d=\"M 222.6,138.2 L 225.9,130.7\" style=\"fill:none;fill-rule:evenodd;stroke:#000000;stroke-width:1.0px;stroke-linecap:butt;stroke-linejoin:miter;stroke-opacity:1\"/>\n",
       "<path class=\"bond-8 atom-1 atom-9\" d=\"M 219.2,137.2 L 222.9,128.9\" style=\"fill:none;fill-rule:evenodd;stroke:#000000;stroke-width:1.0px;stroke-linecap:butt;stroke-linejoin:miter;stroke-opacity:1\"/>\n",
       "<path class=\"bond-8 atom-1 atom-9\" d=\"M 215.9,136.1 L 219.8,127.2\" style=\"fill:none;fill-rule:evenodd;stroke:#000000;stroke-width:1.0px;stroke-linecap:butt;stroke-linejoin:miter;stroke-opacity:1\"/>\n",
       "<path class=\"bond-8 atom-1 atom-9\" d=\"M 212.6,135.1 L 216.8,125.4\" style=\"fill:none;fill-rule:evenodd;stroke:#000000;stroke-width:1.0px;stroke-linecap:butt;stroke-linejoin:miter;stroke-opacity:1\"/>\n",
       "<path class=\"bond-9 atom-2 atom-10\" d=\"M 182.8,187.6 L 171.0,175.7\" style=\"fill:none;fill-rule:evenodd;stroke:#0000FF;stroke-width:2.0px;stroke-linecap:butt;stroke-linejoin:miter;stroke-opacity:1\"/>\n",
       "<path class=\"bond-9 atom-2 atom-10\" d=\"M 171.0,175.7 L 159.2,163.8\" style=\"fill:none;fill-rule:evenodd;stroke:#000000;stroke-width:2.0px;stroke-linecap:butt;stroke-linejoin:miter;stroke-opacity:1\"/>\n",
       "<path class=\"bond-10 atom-2 atom-11\" d=\"M 182.8,203.7 L 161.6,208.6\" style=\"fill:none;fill-rule:evenodd;stroke:#0000FF;stroke-width:2.0px;stroke-linecap:butt;stroke-linejoin:miter;stroke-opacity:1\"/>\n",
       "<path class=\"bond-10 atom-2 atom-11\" d=\"M 161.6,208.6 L 140.3,213.5\" style=\"fill:none;fill-rule:evenodd;stroke:#000000;stroke-width:2.0px;stroke-linecap:butt;stroke-linejoin:miter;stroke-opacity:1\"/>\n",
       "<path class=\"bond-11 atom-2 atom-12\" d=\"M 199.3,217.2 L 203.1,235.3\" style=\"fill:none;fill-rule:evenodd;stroke:#0000FF;stroke-width:2.0px;stroke-linecap:butt;stroke-linejoin:miter;stroke-opacity:1\"/>\n",
       "<path class=\"bond-11 atom-2 atom-12\" d=\"M 203.1,235.3 L 206.9,253.4\" style=\"fill:none;fill-rule:evenodd;stroke:#000000;stroke-width:2.0px;stroke-linecap:butt;stroke-linejoin:miter;stroke-opacity:1\"/>\n",
       "<path d=\"M 299.9,197.6 L 302.2,200.2 L 301.8,201.5\" style=\"fill:none;stroke:#000000;stroke-width:2.0px;stroke-linecap:butt;stroke-linejoin:miter;stroke-opacity:1;\"/>\n",
       "<path class=\"atom-2\" d=\"M 189.7 186.6 L 198.9 201.6 Q 199.9 203.1, 201.3 205.7 Q 202.8 208.4, 202.9 208.6 L 202.9 186.6 L 206.7 186.6 L 206.7 214.9 L 202.8 214.9 L 192.8 198.5 Q 191.7 196.6, 190.4 194.4 Q 189.2 192.2, 188.9 191.5 L 188.9 214.9 L 185.2 214.9 L 185.2 186.6 L 189.7 186.6 \" fill=\"#0000FF\"/>\n",
       "<path class=\"atom-2\" d=\"M 212.0 191.7 L 217.0 191.7 L 217.0 186.4 L 219.2 186.4 L 219.2 191.7 L 224.3 191.7 L 224.3 193.6 L 219.2 193.6 L 219.2 198.9 L 217.0 198.9 L 217.0 193.6 L 212.0 193.6 L 212.0 191.7 \" fill=\"#0000FF\"/>\n",
       "<path class=\"atom-4\" d=\"M 266.7 267.3 Q 266.7 260.5, 270.0 256.7 Q 273.4 252.9, 279.7 252.9 Q 286.0 252.9, 289.3 256.7 Q 292.7 260.5, 292.7 267.3 Q 292.7 274.2, 289.3 278.1 Q 285.9 282.0, 279.7 282.0 Q 273.4 282.0, 270.0 278.1 Q 266.7 274.2, 266.7 267.3 M 279.7 278.8 Q 284.0 278.8, 286.3 275.9 Q 288.7 273.0, 288.7 267.3 Q 288.7 261.8, 286.3 259.0 Q 284.0 256.1, 279.7 256.1 Q 275.4 256.1, 273.0 258.9 Q 270.7 261.7, 270.7 267.3 Q 270.7 273.0, 273.0 275.9 Q 275.4 278.8, 279.7 278.8 \" fill=\"#FF0000\"/>\n",
       "<path class=\"atom-4\" d=\"M 296.7 257.6 L 306.4 257.6 L 306.4 259.7 L 296.7 259.7 L 296.7 257.6 \" fill=\"#FF0000\"/>\n",
       "<path class=\"atom-5\" d=\"M 358.2 185.9 Q 358.2 179.1, 361.6 175.3 Q 364.9 171.5, 371.2 171.5 Q 377.5 171.5, 380.9 175.3 Q 384.2 179.1, 384.2 185.9 Q 384.2 192.8, 380.8 196.7 Q 377.4 200.6, 371.2 200.6 Q 365.0 200.6, 361.6 196.7 Q 358.2 192.8, 358.2 185.9 M 371.2 197.4 Q 375.5 197.4, 377.9 194.5 Q 380.2 191.6, 380.2 185.9 Q 380.2 180.3, 377.9 177.5 Q 375.5 174.7, 371.2 174.7 Q 366.9 174.7, 364.5 177.5 Q 362.2 180.3, 362.2 185.9 Q 362.2 191.6, 364.5 194.5 Q 366.9 197.4, 371.2 197.4 \" fill=\"#FF0000\"/>\n",
       "<path class=\"atom-6\" d=\"M 333.0 84.7 L 336.8 84.7 L 336.8 96.7 L 351.3 96.7 L 351.3 84.7 L 355.2 84.7 L 355.2 113.0 L 351.3 113.0 L 351.3 99.9 L 336.8 99.9 L 336.8 113.0 L 333.0 113.0 L 333.0 84.7 \" fill=\"#000000\"/>\n",
       "<path class=\"atom-7\" d=\"M 314.1 15.9 L 317.9 15.9 L 317.9 27.9 L 332.4 27.9 L 332.4 15.9 L 336.2 15.9 L 336.2 44.2 L 332.4 44.2 L 332.4 31.1 L 317.9 31.1 L 317.9 44.2 L 314.1 44.2 L 314.1 15.9 \" fill=\"#000000\"/>\n",
       "<path class=\"atom-8\" d=\"M 214.2 16.5 L 218.1 16.5 L 218.1 28.5 L 232.6 28.5 L 232.6 16.5 L 236.4 16.5 L 236.4 44.8 L 232.6 44.8 L 232.6 31.7 L 218.1 31.7 L 218.1 44.8 L 214.2 44.8 L 214.2 16.5 \" fill=\"#000000\"/>\n",
       "<path class=\"atom-9\" d=\"M 187.9 109.2 L 191.7 109.2 L 191.7 121.2 L 206.2 121.2 L 206.2 109.2 L 210.0 109.2 L 210.0 137.5 L 206.2 137.5 L 206.2 124.4 L 191.7 124.4 L 191.7 137.5 L 187.9 137.5 L 187.9 109.2 \" fill=\"#000000\"/>\n",
       "<path class=\"atom-10\" d=\"M 134.7 136.2 L 138.5 136.2 L 138.5 148.2 L 153.0 148.2 L 153.0 136.2 L 156.9 136.2 L 156.9 164.5 L 153.0 164.5 L 153.0 151.4 L 138.5 151.4 L 138.5 164.5 L 134.7 164.5 L 134.7 136.2 \" fill=\"#000000\"/>\n",
       "<path class=\"atom-11\" d=\"M 115.8 202.4 L 119.6 202.4 L 119.6 214.5 L 134.1 214.5 L 134.1 202.4 L 137.9 202.4 L 137.9 230.7 L 134.1 230.7 L 134.1 217.7 L 119.6 217.7 L 119.6 230.7 L 115.8 230.7 L 115.8 202.4 \" fill=\"#000000\"/>\n",
       "<path class=\"atom-12\" d=\"M 199.2 255.8 L 203.1 255.8 L 203.1 267.8 L 217.5 267.8 L 217.5 255.8 L 221.4 255.8 L 221.4 284.1 L 217.5 284.1 L 217.5 271.0 L 203.1 271.0 L 203.1 284.1 L 199.2 284.1 L 199.2 255.8 \" fill=\"#000000\"/>\n",
       "</svg>"
      ],
      "text/plain": [
       "<IPython.core.display.SVG object>"
      ]
     },
     "execution_count": 10,
     "metadata": {},
     "output_type": "execute_result"
    }
   ],
   "source": [
    "sdf_path = Molecule.from_file(\"zw_l_alanine.sdf\")\n",
    "assert zw_l_alanine.is_isomorphic_with(sdf_path)\n",
    "sdf_path.visualize()"
   ]
  },
  {
   "cell_type": "markdown",
   "id": "3508a6ed",
   "metadata": {},
   "source": [
    "### From SDF file object\n",
    "\n",
    "`from_file()` can also take a file object, rather than a path. Note that the object must be in binary mode!"
   ]
  },
  {
   "cell_type": "code",
   "execution_count": 11,
   "id": "1cecd71c",
   "metadata": {},
   "outputs": [
    {
     "data": {
      "image/svg+xml": [
       "<svg xmlns=\"http://www.w3.org/2000/svg\" xmlns:rdkit=\"http://www.rdkit.org/xml\" xmlns:xlink=\"http://www.w3.org/1999/xlink\" version=\"1.1\" baseProfile=\"full\" xml:space=\"preserve\" width=\"500px\" height=\"300px\" viewBox=\"0 0 500 300\">\n",
       "<!-- END OF HEADER -->\n",
       "<rect style=\"opacity:1.0;fill:#FFFFFF;stroke:none\" width=\"500.0\" height=\"300.0\" x=\"0.0\" y=\"0.0\"> </rect>\n",
       "<path class=\"bond-0 atom-0 atom-1\" d=\"M 276.2,80.8 L 256.0,148.4\" style=\"fill:none;fill-rule:evenodd;stroke:#000000;stroke-width:2.0px;stroke-linecap:butt;stroke-linejoin:miter;stroke-opacity:1\"/>\n",
       "<path class=\"bond-1 atom-1 atom-2\" d=\"M 256.0,148.4 L 235.5,166.3\" style=\"fill:none;fill-rule:evenodd;stroke:#000000;stroke-width:2.0px;stroke-linecap:butt;stroke-linejoin:miter;stroke-opacity:1\"/>\n",
       "<path class=\"bond-1 atom-1 atom-2\" d=\"M 235.5,166.3 L 215.0,184.1\" style=\"fill:none;fill-rule:evenodd;stroke:#0000FF;stroke-width:2.0px;stroke-linecap:butt;stroke-linejoin:miter;stroke-opacity:1\"/>\n",
       "<path class=\"bond-2 atom-1 atom-3\" d=\"M 256.0,148.4 L 302.2,200.2\" style=\"fill:none;fill-rule:evenodd;stroke:#000000;stroke-width:2.0px;stroke-linecap:butt;stroke-linejoin:miter;stroke-opacity:1\"/>\n",
       "<path class=\"bond-3 atom-3 atom-4\" d=\"M 302.2,200.2 L 293.8,225.4\" style=\"fill:none;fill-rule:evenodd;stroke:#000000;stroke-width:2.0px;stroke-linecap:butt;stroke-linejoin:miter;stroke-opacity:1\"/>\n",
       "<path class=\"bond-3 atom-3 atom-4\" d=\"M 293.8,225.4 L 285.3,250.6\" style=\"fill:none;fill-rule:evenodd;stroke:#FF0000;stroke-width:2.0px;stroke-linecap:butt;stroke-linejoin:miter;stroke-opacity:1\"/>\n",
       "<path class=\"bond-4 atom-3 atom-5\" d=\"M 300.3,206.1 L 328.6,200.1\" style=\"fill:none;fill-rule:evenodd;stroke:#000000;stroke-width:2.0px;stroke-linecap:butt;stroke-linejoin:miter;stroke-opacity:1\"/>\n",
       "<path class=\"bond-4 atom-3 atom-5\" d=\"M 328.6,200.1 L 357.0,194.2\" style=\"fill:none;fill-rule:evenodd;stroke:#FF0000;stroke-width:2.0px;stroke-linecap:butt;stroke-linejoin:miter;stroke-opacity:1\"/>\n",
       "<path class=\"bond-4 atom-3 atom-5\" d=\"M 298.2,195.7 L 326.5,189.8\" style=\"fill:none;fill-rule:evenodd;stroke:#000000;stroke-width:2.0px;stroke-linecap:butt;stroke-linejoin:miter;stroke-opacity:1\"/>\n",
       "<path class=\"bond-4 atom-3 atom-5\" d=\"M 326.5,189.8 L 354.8,183.8\" style=\"fill:none;fill-rule:evenodd;stroke:#FF0000;stroke-width:2.0px;stroke-linecap:butt;stroke-linejoin:miter;stroke-opacity:1\"/>\n",
       "<path class=\"bond-5 atom-0 atom-6\" d=\"M 276.2,80.8 L 330.7,95.3\" style=\"fill:none;fill-rule:evenodd;stroke:#000000;stroke-width:2.0px;stroke-linecap:butt;stroke-linejoin:miter;stroke-opacity:1\"/>\n",
       "<path class=\"bond-6 atom-0 atom-7\" d=\"M 276.2,80.8 L 311.8,44.0\" style=\"fill:none;fill-rule:evenodd;stroke:#000000;stroke-width:2.0px;stroke-linecap:butt;stroke-linejoin:miter;stroke-opacity:1\"/>\n",
       "<path class=\"bond-7 atom-0 atom-8\" d=\"M 276.2,80.8 L 238.7,43.9\" style=\"fill:none;fill-rule:evenodd;stroke:#000000;stroke-width:2.0px;stroke-linecap:butt;stroke-linejoin:miter;stroke-opacity:1\"/>\n",
       "<path class=\"bond-8 atom-1 atom-9\" d=\"M 252.7,147.4 L 253.0,146.7\" style=\"fill:none;fill-rule:evenodd;stroke:#000000;stroke-width:1.0px;stroke-linecap:butt;stroke-linejoin:miter;stroke-opacity:1\"/>\n",
       "<path class=\"bond-8 atom-1 atom-9\" d=\"M 249.3,146.4 L 250.0,144.9\" style=\"fill:none;fill-rule:evenodd;stroke:#000000;stroke-width:1.0px;stroke-linecap:butt;stroke-linejoin:miter;stroke-opacity:1\"/>\n",
       "<path class=\"bond-8 atom-1 atom-9\" d=\"M 246.0,145.4 L 247.0,143.1\" style=\"fill:none;fill-rule:evenodd;stroke:#000000;stroke-width:1.0px;stroke-linecap:butt;stroke-linejoin:miter;stroke-opacity:1\"/>\n",
       "<path class=\"bond-8 atom-1 atom-9\" d=\"M 242.6,144.3 L 243.9,141.3\" style=\"fill:none;fill-rule:evenodd;stroke:#000000;stroke-width:1.0px;stroke-linecap:butt;stroke-linejoin:miter;stroke-opacity:1\"/>\n",
       "<path class=\"bond-8 atom-1 atom-9\" d=\"M 239.3,143.3 L 240.9,139.6\" style=\"fill:none;fill-rule:evenodd;stroke:#000000;stroke-width:1.0px;stroke-linecap:butt;stroke-linejoin:miter;stroke-opacity:1\"/>\n",
       "<path class=\"bond-8 atom-1 atom-9\" d=\"M 235.9,142.3 L 237.9,137.8\" style=\"fill:none;fill-rule:evenodd;stroke:#000000;stroke-width:1.0px;stroke-linecap:butt;stroke-linejoin:miter;stroke-opacity:1\"/>\n",
       "<path class=\"bond-8 atom-1 atom-9\" d=\"M 232.6,141.3 L 234.9,136.0\" style=\"fill:none;fill-rule:evenodd;stroke:#000000;stroke-width:1.0px;stroke-linecap:butt;stroke-linejoin:miter;stroke-opacity:1\"/>\n",
       "<path class=\"bond-8 atom-1 atom-9\" d=\"M 229.3,140.2 L 231.9,134.3\" style=\"fill:none;fill-rule:evenodd;stroke:#000000;stroke-width:1.0px;stroke-linecap:butt;stroke-linejoin:miter;stroke-opacity:1\"/>\n",
       "<path class=\"bond-8 atom-1 atom-9\" d=\"M 225.9,139.2 L 228.9,132.5\" style=\"fill:none;fill-rule:evenodd;stroke:#000000;stroke-width:1.0px;stroke-linecap:butt;stroke-linejoin:miter;stroke-opacity:1\"/>\n",
       "<path class=\"bond-8 atom-1 atom-9\" d=\"M 222.6,138.2 L 225.9,130.7\" style=\"fill:none;fill-rule:evenodd;stroke:#000000;stroke-width:1.0px;stroke-linecap:butt;stroke-linejoin:miter;stroke-opacity:1\"/>\n",
       "<path class=\"bond-8 atom-1 atom-9\" d=\"M 219.2,137.2 L 222.9,128.9\" style=\"fill:none;fill-rule:evenodd;stroke:#000000;stroke-width:1.0px;stroke-linecap:butt;stroke-linejoin:miter;stroke-opacity:1\"/>\n",
       "<path class=\"bond-8 atom-1 atom-9\" d=\"M 215.9,136.1 L 219.8,127.2\" style=\"fill:none;fill-rule:evenodd;stroke:#000000;stroke-width:1.0px;stroke-linecap:butt;stroke-linejoin:miter;stroke-opacity:1\"/>\n",
       "<path class=\"bond-8 atom-1 atom-9\" d=\"M 212.6,135.1 L 216.8,125.4\" style=\"fill:none;fill-rule:evenodd;stroke:#000000;stroke-width:1.0px;stroke-linecap:butt;stroke-linejoin:miter;stroke-opacity:1\"/>\n",
       "<path class=\"bond-9 atom-2 atom-10\" d=\"M 182.8,187.6 L 171.0,175.7\" style=\"fill:none;fill-rule:evenodd;stroke:#0000FF;stroke-width:2.0px;stroke-linecap:butt;stroke-linejoin:miter;stroke-opacity:1\"/>\n",
       "<path class=\"bond-9 atom-2 atom-10\" d=\"M 171.0,175.7 L 159.2,163.8\" style=\"fill:none;fill-rule:evenodd;stroke:#000000;stroke-width:2.0px;stroke-linecap:butt;stroke-linejoin:miter;stroke-opacity:1\"/>\n",
       "<path class=\"bond-10 atom-2 atom-11\" d=\"M 182.8,203.7 L 161.6,208.6\" style=\"fill:none;fill-rule:evenodd;stroke:#0000FF;stroke-width:2.0px;stroke-linecap:butt;stroke-linejoin:miter;stroke-opacity:1\"/>\n",
       "<path class=\"bond-10 atom-2 atom-11\" d=\"M 161.6,208.6 L 140.3,213.5\" style=\"fill:none;fill-rule:evenodd;stroke:#000000;stroke-width:2.0px;stroke-linecap:butt;stroke-linejoin:miter;stroke-opacity:1\"/>\n",
       "<path class=\"bond-11 atom-2 atom-12\" d=\"M 199.3,217.2 L 203.1,235.3\" style=\"fill:none;fill-rule:evenodd;stroke:#0000FF;stroke-width:2.0px;stroke-linecap:butt;stroke-linejoin:miter;stroke-opacity:1\"/>\n",
       "<path class=\"bond-11 atom-2 atom-12\" d=\"M 203.1,235.3 L 206.9,253.4\" style=\"fill:none;fill-rule:evenodd;stroke:#000000;stroke-width:2.0px;stroke-linecap:butt;stroke-linejoin:miter;stroke-opacity:1\"/>\n",
       "<path d=\"M 299.9,197.6 L 302.2,200.2 L 301.8,201.5\" style=\"fill:none;stroke:#000000;stroke-width:2.0px;stroke-linecap:butt;stroke-linejoin:miter;stroke-opacity:1;\"/>\n",
       "<path class=\"atom-2\" d=\"M 189.7 186.6 L 198.9 201.6 Q 199.9 203.1, 201.3 205.7 Q 202.8 208.4, 202.9 208.6 L 202.9 186.6 L 206.7 186.6 L 206.7 214.9 L 202.8 214.9 L 192.8 198.5 Q 191.7 196.6, 190.4 194.4 Q 189.2 192.2, 188.9 191.5 L 188.9 214.9 L 185.2 214.9 L 185.2 186.6 L 189.7 186.6 \" fill=\"#0000FF\"/>\n",
       "<path class=\"atom-2\" d=\"M 212.0 191.7 L 217.0 191.7 L 217.0 186.4 L 219.2 186.4 L 219.2 191.7 L 224.3 191.7 L 224.3 193.6 L 219.2 193.6 L 219.2 198.9 L 217.0 198.9 L 217.0 193.6 L 212.0 193.6 L 212.0 191.7 \" fill=\"#0000FF\"/>\n",
       "<path class=\"atom-4\" d=\"M 266.7 267.3 Q 266.7 260.5, 270.0 256.7 Q 273.4 252.9, 279.7 252.9 Q 286.0 252.9, 289.3 256.7 Q 292.7 260.5, 292.7 267.3 Q 292.7 274.2, 289.3 278.1 Q 285.9 282.0, 279.7 282.0 Q 273.4 282.0, 270.0 278.1 Q 266.7 274.2, 266.7 267.3 M 279.7 278.8 Q 284.0 278.8, 286.3 275.9 Q 288.7 273.0, 288.7 267.3 Q 288.7 261.8, 286.3 259.0 Q 284.0 256.1, 279.7 256.1 Q 275.4 256.1, 273.0 258.9 Q 270.7 261.7, 270.7 267.3 Q 270.7 273.0, 273.0 275.9 Q 275.4 278.8, 279.7 278.8 \" fill=\"#FF0000\"/>\n",
       "<path class=\"atom-4\" d=\"M 296.7 257.6 L 306.4 257.6 L 306.4 259.7 L 296.7 259.7 L 296.7 257.6 \" fill=\"#FF0000\"/>\n",
       "<path class=\"atom-5\" d=\"M 358.2 185.9 Q 358.2 179.1, 361.6 175.3 Q 364.9 171.5, 371.2 171.5 Q 377.5 171.5, 380.9 175.3 Q 384.2 179.1, 384.2 185.9 Q 384.2 192.8, 380.8 196.7 Q 377.4 200.6, 371.2 200.6 Q 365.0 200.6, 361.6 196.7 Q 358.2 192.8, 358.2 185.9 M 371.2 197.4 Q 375.5 197.4, 377.9 194.5 Q 380.2 191.6, 380.2 185.9 Q 380.2 180.3, 377.9 177.5 Q 375.5 174.7, 371.2 174.7 Q 366.9 174.7, 364.5 177.5 Q 362.2 180.3, 362.2 185.9 Q 362.2 191.6, 364.5 194.5 Q 366.9 197.4, 371.2 197.4 \" fill=\"#FF0000\"/>\n",
       "<path class=\"atom-6\" d=\"M 333.0 84.7 L 336.8 84.7 L 336.8 96.7 L 351.3 96.7 L 351.3 84.7 L 355.2 84.7 L 355.2 113.0 L 351.3 113.0 L 351.3 99.9 L 336.8 99.9 L 336.8 113.0 L 333.0 113.0 L 333.0 84.7 \" fill=\"#000000\"/>\n",
       "<path class=\"atom-7\" d=\"M 314.1 15.9 L 317.9 15.9 L 317.9 27.9 L 332.4 27.9 L 332.4 15.9 L 336.2 15.9 L 336.2 44.2 L 332.4 44.2 L 332.4 31.1 L 317.9 31.1 L 317.9 44.2 L 314.1 44.2 L 314.1 15.9 \" fill=\"#000000\"/>\n",
       "<path class=\"atom-8\" d=\"M 214.2 16.5 L 218.1 16.5 L 218.1 28.5 L 232.6 28.5 L 232.6 16.5 L 236.4 16.5 L 236.4 44.8 L 232.6 44.8 L 232.6 31.7 L 218.1 31.7 L 218.1 44.8 L 214.2 44.8 L 214.2 16.5 \" fill=\"#000000\"/>\n",
       "<path class=\"atom-9\" d=\"M 187.9 109.2 L 191.7 109.2 L 191.7 121.2 L 206.2 121.2 L 206.2 109.2 L 210.0 109.2 L 210.0 137.5 L 206.2 137.5 L 206.2 124.4 L 191.7 124.4 L 191.7 137.5 L 187.9 137.5 L 187.9 109.2 \" fill=\"#000000\"/>\n",
       "<path class=\"atom-10\" d=\"M 134.7 136.2 L 138.5 136.2 L 138.5 148.2 L 153.0 148.2 L 153.0 136.2 L 156.9 136.2 L 156.9 164.5 L 153.0 164.5 L 153.0 151.4 L 138.5 151.4 L 138.5 164.5 L 134.7 164.5 L 134.7 136.2 \" fill=\"#000000\"/>\n",
       "<path class=\"atom-11\" d=\"M 115.8 202.4 L 119.6 202.4 L 119.6 214.5 L 134.1 214.5 L 134.1 202.4 L 137.9 202.4 L 137.9 230.7 L 134.1 230.7 L 134.1 217.7 L 119.6 217.7 L 119.6 230.7 L 115.8 230.7 L 115.8 202.4 \" fill=\"#000000\"/>\n",
       "<path class=\"atom-12\" d=\"M 199.2 255.8 L 203.1 255.8 L 203.1 267.8 L 217.5 267.8 L 217.5 255.8 L 221.4 255.8 L 221.4 284.1 L 217.5 284.1 L 217.5 271.0 L 203.1 271.0 L 203.1 284.1 L 199.2 284.1 L 199.2 255.8 \" fill=\"#000000\"/>\n",
       "</svg>"
      ],
      "text/plain": [
       "<IPython.core.display.SVG object>"
      ]
     },
     "execution_count": 11,
     "metadata": {},
     "output_type": "execute_result"
    }
   ],
   "source": [
    "with open(\"zw_l_alanine.sdf\", mode=\"rb\") as file:\n",
    "    sdf_object = Molecule.from_file(file, file_format=\"SDF\")\n",
    "\n",
    "assert zw_l_alanine.is_isomorphic_with(sdf_object)\n",
    "sdf_object.visualize()"
   ]
  },
  {
   "cell_type": "markdown",
   "id": "2554b932",
   "metadata": {},
   "source": [
    "### From PDB file\n",
    "\n",
    "The [`Topology.from_pdb()`] method is now the recommended method for loading all PDB files. It can interpret proteins, waters, ions, and small molecules from a PDB file as a Topology. It can infer the full chemical graph of the canonical amino acids (26 including protonation states) in capped and uncapped forms. It does this according to the [RCSB chemical component dictionary] --- the information is not explicitly in the input PDB file. The following block loads a PDB file containing a single protein.\n",
    "\n",
    "[`Topology.from_pdb()`]: openff.toolkit.topology.Topology.from_pdb\n",
    "[RCSB chemical component dictionary]: https://www.wwpdb.org/data/ccd"
   ]
  },
  {
   "cell_type": "code",
   "execution_count": 12,
   "id": "4f9d71e7",
   "metadata": {},
   "outputs": [
    {
     "data": {
      "application/vnd.jupyter.widget-view+json": {
       "model_id": "5d08b105320340ceb90e658c5ba52eb4",
       "version_major": 2,
       "version_minor": 0
      },
      "text/plain": []
     },
     "metadata": {},
     "output_type": "display_data"
    },
    {
     "data": {
      "application/vnd.jupyter.widget-view+json": {
       "model_id": "29e912d818b642b1a3081678e8b9edcd",
       "version_major": 2,
       "version_minor": 0
      },
      "text/plain": [
       "NGLWidget()"
      ]
     },
     "metadata": {},
     "output_type": "display_data"
    }
   ],
   "source": [
    "from openff.toolkit.utils import get_data_file_path\n",
    "\n",
    "path = get_data_file_path(\"proteins/T4-protein.pdb\")\n",
    "topology = Topology.from_pdb(path)\n",
    "protein = topology.molecule(0)\n",
    "protein.visualize(\"nglview\")"
   ]
  },
  {
   "cell_type": "markdown",
   "id": "94d1e78f-8311-45b7-94c7-16242fa6865f",
   "metadata": {},
   "source": [
    "The following block loads a PDB containing two small molecules from PDB and SMILES."
   ]
  },
  {
   "cell_type": "code",
   "execution_count": 13,
   "id": "a6e68022-6568-4a7e-9d75-c14224079505",
   "metadata": {
    "tags": []
   },
   "outputs": [
    {
     "data": {
      "application/vnd.jupyter.widget-view+json": {
       "model_id": "e08ee0f6dec44ed4b65d13499c4b58cc",
       "version_major": 2,
       "version_minor": 0
      },
      "text/plain": [
       "NGLWidget()"
      ]
     },
     "metadata": {},
     "output_type": "display_data"
    }
   ],
   "source": [
    "top_from_pdb_from_smiles = Topology.from_pdb(\n",
    "    get_data_file_path(\"molecules/po4_phenylphosphate.pdb\"),\n",
    "    unique_molecules=[\n",
    "        Molecule.from_smiles(\"P(=O)([O-])([O-])([O-])\"),\n",
    "        Molecule.from_smiles(\"C1=CC=CC=C1OP(=O)([O-1])([O-1])\"),\n",
    "    ],\n",
    ")\n",
    "\n",
    "top_from_pdb_from_smiles.molecule(0).visualize(\"nglview\")"
   ]
  },
  {
   "cell_type": "code",
   "execution_count": 14,
   "id": "21bba613-57bb-4ea0-bf87-a4cd6f5c63d5",
   "metadata": {
    "tags": []
   },
   "outputs": [
    {
     "data": {
      "application/vnd.jupyter.widget-view+json": {
       "model_id": "9019b547b62c491ba3526570e28652e5",
       "version_major": 2,
       "version_minor": 0
      },
      "text/plain": [
       "NGLWidget()"
      ]
     },
     "metadata": {},
     "output_type": "display_data"
    }
   ],
   "source": [
    "top_from_pdb_from_smiles.molecule(1).visualize(\"nglview\")"
   ]
  },
  {
   "cell_type": "markdown",
   "id": "5906e016-a198-40ac-b79c-df04097ba17e",
   "metadata": {},
   "source": [
    "And for a maximalist example, the following block loads a single PDB file containing a protein, waters, ions, and a small molecule (the chemical identity of any small molecules must be provided with the `unique_molecules` keyword argument, and any small molecules' connectivity must have corresponding CONECT records in the PDB file)."
   ]
  },
  {
   "cell_type": "code",
   "execution_count": 15,
   "id": "c007183b-9a71-42aa-8e05-9f18fa2ef531",
   "metadata": {
    "tags": []
   },
   "outputs": [
    {
     "name": "stdout",
     "output_type": "stream",
     "text": [
      "[Cl-] : 12 molecule(s)\n",
      "[H]O[H] : 4413 molecule(s)\n",
      "protein : 1 molecule(s)\n",
      "[H]c1c(c(c2c(c1Oc3c(c(c(c(c3[H])F)[H])C#N)[H])C(C([C@@]2([H])O[H])(F)F)([H])[H])S(=O)(=O)C([H])([H])[H])[H] : 1 molecule(s)\n",
      "[Na+] : 17 molecule(s)\n"
     ]
    }
   ],
   "source": [
    "from openff.toolkit.utils import get_data_file_path\n",
    "\n",
    "ligand_path = get_data_file_path(\"molecules/PT2385.sdf\")\n",
    "ligand = Molecule.from_file(ligand_path)\n",
    "\n",
    "complex_path = get_data_file_path(\"proteins/5tbm_complex_solv_box.pdb\")\n",
    "topology = Topology.from_pdb(complex_path, unique_molecules=[ligand])\n",
    "\n",
    "molecule_smileses = [mol.to_smiles() for mol in topology.molecules]\n",
    "counts = molecule_smileses\n",
    "for smiles in sorted(set(molecule_smileses)):\n",
    "    count = molecule_smileses.count(smiles)\n",
    "    if len(smiles) > 1000:\n",
    "        smiles = \"protein\"\n",
    "    print(smiles, \":\", count, \"molecule(s)\")"
   ]
  },
  {
   "cell_type": "markdown",
   "id": "cbdde2f3",
   "metadata": {},
   "source": [
    "## Other string identification formats\n",
    "\n",
    "The OpenFF Toolkit supports a few text based molecular identity formats other than SMILES ([see above](#from-smiles))"
   ]
  },
  {
   "cell_type": "markdown",
   "id": "bcd5fce1",
   "metadata": {},
   "source": [
    "### From InChI\n",
    "\n",
    "The [`Molecule.from_inchi()`](openff.toolkit.topology.Molecule.from_inchi) method constructs a `Molecule` from an IUPAC [InChI](https://iupac.org/who-we-are/divisions/division-details/inchi/) string. Note that InChI cannot distinguish the zwitterionic form of alanine from the neutral form (see section 13.2 of the [InChI Technical FAQ](https://www.inchi-trust.org/technical-faq-2/)), so the toolkit defaults to the neutral form.\n",
    "\n",
    ":::{warning}\n",
    "The OpenFF Toolkit makes no guarantees about the atomic ordering produced by the `from_inchi` method. InChI is not intended to be an interchange format.\n",
    ":::"
   ]
  },
  {
   "cell_type": "code",
   "execution_count": 16,
   "id": "1ea7bb81",
   "metadata": {},
   "outputs": [
    {
     "data": {
      "image/svg+xml": [
       "<svg xmlns=\"http://www.w3.org/2000/svg\" xmlns:rdkit=\"http://www.rdkit.org/xml\" xmlns:xlink=\"http://www.w3.org/1999/xlink\" version=\"1.1\" baseProfile=\"full\" xml:space=\"preserve\" width=\"500px\" height=\"300px\" viewBox=\"0 0 500 300\">\n",
       "<!-- END OF HEADER -->\n",
       "<rect style=\"opacity:1.0;fill:#FFFFFF;stroke:none\" width=\"500.0\" height=\"300.0\" x=\"0.0\" y=\"0.0\"> </rect>\n",
       "<path class=\"bond-0 atom-0 atom-1\" d=\"M 264.9,70.5 L 249.2,128.7\" style=\"fill:none;fill-rule:evenodd;stroke:#000000;stroke-width:2.0px;stroke-linecap:butt;stroke-linejoin:miter;stroke-opacity:1\"/>\n",
       "<path class=\"bond-1 atom-1 atom-2\" d=\"M 249.2,128.7 L 291.7,171.3\" style=\"fill:none;fill-rule:evenodd;stroke:#000000;stroke-width:2.0px;stroke-linecap:butt;stroke-linejoin:miter;stroke-opacity:1\"/>\n",
       "<path class=\"bond-2 atom-1 atom-3\" d=\"M 249.2,128.7 L 233.7,144.1\" style=\"fill:none;fill-rule:evenodd;stroke:#000000;stroke-width:2.0px;stroke-linecap:butt;stroke-linejoin:miter;stroke-opacity:1\"/>\n",
       "<path class=\"bond-2 atom-1 atom-3\" d=\"M 233.7,144.1 L 218.2,159.5\" style=\"fill:none;fill-rule:evenodd;stroke:#0000FF;stroke-width:2.0px;stroke-linecap:butt;stroke-linejoin:miter;stroke-opacity:1\"/>\n",
       "<path class=\"bond-3 atom-2 atom-4\" d=\"M 290.4,176.4 L 313.9,170.1\" style=\"fill:none;fill-rule:evenodd;stroke:#000000;stroke-width:2.0px;stroke-linecap:butt;stroke-linejoin:miter;stroke-opacity:1\"/>\n",
       "<path class=\"bond-3 atom-2 atom-4\" d=\"M 313.9,170.1 L 337.4,163.9\" style=\"fill:none;fill-rule:evenodd;stroke:#FF0000;stroke-width:2.0px;stroke-linecap:butt;stroke-linejoin:miter;stroke-opacity:1\"/>\n",
       "<path class=\"bond-3 atom-2 atom-4\" d=\"M 288.0,167.6 L 311.5,161.4\" style=\"fill:none;fill-rule:evenodd;stroke:#000000;stroke-width:2.0px;stroke-linecap:butt;stroke-linejoin:miter;stroke-opacity:1\"/>\n",
       "<path class=\"bond-3 atom-2 atom-4\" d=\"M 311.5,161.4 L 335.0,155.1\" style=\"fill:none;fill-rule:evenodd;stroke:#FF0000;stroke-width:2.0px;stroke-linecap:butt;stroke-linejoin:miter;stroke-opacity:1\"/>\n",
       "<path class=\"bond-4 atom-2 atom-5\" d=\"M 291.7,171.3 L 285.9,193.0\" style=\"fill:none;fill-rule:evenodd;stroke:#000000;stroke-width:2.0px;stroke-linecap:butt;stroke-linejoin:miter;stroke-opacity:1\"/>\n",
       "<path class=\"bond-4 atom-2 atom-5\" d=\"M 285.9,193.0 L 280.0,214.6\" style=\"fill:none;fill-rule:evenodd;stroke:#FF0000;stroke-width:2.0px;stroke-linecap:butt;stroke-linejoin:miter;stroke-opacity:1\"/>\n",
       "<path class=\"bond-5 atom-0 atom-6\" d=\"M 264.9,70.5 L 311.1,82.9\" style=\"fill:none;fill-rule:evenodd;stroke:#000000;stroke-width:2.0px;stroke-linecap:butt;stroke-linejoin:miter;stroke-opacity:1\"/>\n",
       "<path class=\"bond-6 atom-0 atom-7\" d=\"M 264.9,70.5 L 295.6,39.9\" style=\"fill:none;fill-rule:evenodd;stroke:#000000;stroke-width:2.0px;stroke-linecap:butt;stroke-linejoin:miter;stroke-opacity:1\"/>\n",
       "<path class=\"bond-7 atom-0 atom-8\" d=\"M 264.9,70.5 L 234.4,39.8\" style=\"fill:none;fill-rule:evenodd;stroke:#000000;stroke-width:2.0px;stroke-linecap:butt;stroke-linejoin:miter;stroke-opacity:1\"/>\n",
       "<path class=\"bond-8 atom-1 atom-9\" d=\"M 245.7,128.1 L 245.9,127.4\" style=\"fill:none;fill-rule:evenodd;stroke:#000000;stroke-width:1.0px;stroke-linecap:butt;stroke-linejoin:miter;stroke-opacity:1\"/>\n",
       "<path class=\"bond-8 atom-1 atom-9\" d=\"M 242.2,127.5 L 242.6,126.2\" style=\"fill:none;fill-rule:evenodd;stroke:#000000;stroke-width:1.0px;stroke-linecap:butt;stroke-linejoin:miter;stroke-opacity:1\"/>\n",
       "<path class=\"bond-8 atom-1 atom-9\" d=\"M 238.7,126.9 L 239.3,124.9\" style=\"fill:none;fill-rule:evenodd;stroke:#000000;stroke-width:1.0px;stroke-linecap:butt;stroke-linejoin:miter;stroke-opacity:1\"/>\n",
       "<path class=\"bond-8 atom-1 atom-9\" d=\"M 235.2,126.3 L 235.9,123.6\" style=\"fill:none;fill-rule:evenodd;stroke:#000000;stroke-width:1.0px;stroke-linecap:butt;stroke-linejoin:miter;stroke-opacity:1\"/>\n",
       "<path class=\"bond-8 atom-1 atom-9\" d=\"M 231.7,125.7 L 232.6,122.4\" style=\"fill:none;fill-rule:evenodd;stroke:#000000;stroke-width:1.0px;stroke-linecap:butt;stroke-linejoin:miter;stroke-opacity:1\"/>\n",
       "<path class=\"bond-8 atom-1 atom-9\" d=\"M 228.2,125.2 L 229.3,121.1\" style=\"fill:none;fill-rule:evenodd;stroke:#000000;stroke-width:1.0px;stroke-linecap:butt;stroke-linejoin:miter;stroke-opacity:1\"/>\n",
       "<path class=\"bond-8 atom-1 atom-9\" d=\"M 224.8,124.6 L 226.0,119.9\" style=\"fill:none;fill-rule:evenodd;stroke:#000000;stroke-width:1.0px;stroke-linecap:butt;stroke-linejoin:miter;stroke-opacity:1\"/>\n",
       "<path class=\"bond-8 atom-1 atom-9\" d=\"M 221.3,124.0 L 222.7,118.6\" style=\"fill:none;fill-rule:evenodd;stroke:#000000;stroke-width:1.0px;stroke-linecap:butt;stroke-linejoin:miter;stroke-opacity:1\"/>\n",
       "<path class=\"bond-8 atom-1 atom-9\" d=\"M 217.8,123.4 L 219.4,117.4\" style=\"fill:none;fill-rule:evenodd;stroke:#000000;stroke-width:1.0px;stroke-linecap:butt;stroke-linejoin:miter;stroke-opacity:1\"/>\n",
       "<path class=\"bond-8 atom-1 atom-9\" d=\"M 214.3,122.8 L 216.1,116.1\" style=\"fill:none;fill-rule:evenodd;stroke:#000000;stroke-width:1.0px;stroke-linecap:butt;stroke-linejoin:miter;stroke-opacity:1\"/>\n",
       "<path class=\"bond-8 atom-1 atom-9\" d=\"M 210.8,122.3 L 212.8,114.9\" style=\"fill:none;fill-rule:evenodd;stroke:#000000;stroke-width:1.0px;stroke-linecap:butt;stroke-linejoin:miter;stroke-opacity:1\"/>\n",
       "<path class=\"bond-8 atom-1 atom-9\" d=\"M 207.3,121.7 L 209.5,113.6\" style=\"fill:none;fill-rule:evenodd;stroke:#000000;stroke-width:1.0px;stroke-linecap:butt;stroke-linejoin:miter;stroke-opacity:1\"/>\n",
       "<path class=\"bond-8 atom-1 atom-9\" d=\"M 203.8,121.1 L 206.2,112.4\" style=\"fill:none;fill-rule:evenodd;stroke:#000000;stroke-width:1.0px;stroke-linecap:butt;stroke-linejoin:miter;stroke-opacity:1\"/>\n",
       "<path class=\"bond-9 atom-3 atom-10\" d=\"M 194.8,168.0 L 177.6,163.4\" style=\"fill:none;fill-rule:evenodd;stroke:#0000FF;stroke-width:2.0px;stroke-linecap:butt;stroke-linejoin:miter;stroke-opacity:1\"/>\n",
       "<path class=\"bond-9 atom-3 atom-10\" d=\"M 177.6,163.4 L 160.3,158.7\" style=\"fill:none;fill-rule:evenodd;stroke:#000000;stroke-width:2.0px;stroke-linecap:butt;stroke-linejoin:miter;stroke-opacity:1\"/>\n",
       "<path class=\"bond-10 atom-3 atom-11\" d=\"M 210.4,186.0 L 214.2,200.3\" style=\"fill:none;fill-rule:evenodd;stroke:#0000FF;stroke-width:2.0px;stroke-linecap:butt;stroke-linejoin:miter;stroke-opacity:1\"/>\n",
       "<path class=\"bond-10 atom-3 atom-11\" d=\"M 214.2,200.3 L 218.1,214.6\" style=\"fill:none;fill-rule:evenodd;stroke:#000000;stroke-width:2.0px;stroke-linecap:butt;stroke-linejoin:miter;stroke-opacity:1\"/>\n",
       "<path class=\"bond-11 atom-5 atom-12\" d=\"M 289.7,243.3 L 298.1,251.7\" style=\"fill:none;fill-rule:evenodd;stroke:#FF0000;stroke-width:2.0px;stroke-linecap:butt;stroke-linejoin:miter;stroke-opacity:1\"/>\n",
       "<path class=\"bond-11 atom-5 atom-12\" d=\"M 298.1,251.7 L 306.5,260.2\" style=\"fill:none;fill-rule:evenodd;stroke:#000000;stroke-width:2.0px;stroke-linecap:butt;stroke-linejoin:miter;stroke-opacity:1\"/>\n",
       "<path d=\"M 289.6,169.2 L 291.7,171.3 L 291.4,172.4\" style=\"fill:none;stroke:#000000;stroke-width:2.0px;stroke-linecap:butt;stroke-linejoin:miter;stroke-opacity:1;\"/>\n",
       "<path class=\"atom-3\" d=\"M 200.8 158.4 L 209.2 171.9 Q 210.1 173.3, 211.4 175.7 Q 212.7 178.1, 212.8 178.3 L 212.8 158.4 L 216.2 158.4 L 216.2 184.0 L 212.7 184.0 L 203.7 169.2 Q 202.6 167.4, 201.5 165.4 Q 200.4 163.4, 200.1 162.8 L 200.1 184.0 L 196.8 184.0 L 196.8 158.4 L 200.8 158.4 \" fill=\"#0000FF\"/>\n",
       "<path class=\"atom-4\" d=\"M 338.2 155.9 Q 338.2 149.8, 341.2 146.3 Q 344.3 142.9, 349.9 142.9 Q 355.6 142.9, 358.7 146.3 Q 361.7 149.8, 361.7 155.9 Q 361.7 162.1, 358.6 165.7 Q 355.5 169.2, 349.9 169.2 Q 344.3 169.2, 341.2 165.7 Q 338.2 162.2, 338.2 155.9 M 349.9 166.3 Q 353.8 166.3, 355.9 163.7 Q 358.1 161.1, 358.1 155.9 Q 358.1 150.9, 355.9 148.4 Q 353.8 145.8, 349.9 145.8 Q 346.0 145.8, 343.9 148.3 Q 341.8 150.9, 341.8 155.9 Q 341.8 161.1, 343.9 163.7 Q 346.0 166.3, 349.9 166.3 \" fill=\"#FF0000\"/>\n",
       "<path class=\"atom-5\" d=\"M 264.3 229.6 Q 264.3 223.4, 267.3 220.0 Q 270.3 216.6, 276.0 216.6 Q 281.7 216.6, 284.7 220.0 Q 287.8 223.4, 287.8 229.6 Q 287.8 235.8, 284.7 239.3 Q 281.6 242.9, 276.0 242.9 Q 270.4 242.9, 267.3 239.3 Q 264.3 235.8, 264.3 229.6 M 276.0 240.0 Q 279.9 240.0, 282.0 237.4 Q 284.1 234.7, 284.1 229.6 Q 284.1 224.6, 282.0 222.0 Q 279.9 219.5, 276.0 219.5 Q 272.1 219.5, 270.0 222.0 Q 267.9 224.5, 267.9 229.6 Q 267.9 234.8, 270.0 237.4 Q 272.1 240.0, 276.0 240.0 \" fill=\"#FF0000\"/>\n",
       "<path class=\"atom-6\" d=\"M 313.0 73.4 L 316.5 73.4 L 316.5 84.3 L 329.6 84.3 L 329.6 73.4 L 333.1 73.4 L 333.1 99.0 L 329.6 99.0 L 329.6 87.2 L 316.5 87.2 L 316.5 99.0 L 313.0 99.0 L 313.0 73.4 \" fill=\"#000000\"/>\n",
       "<path class=\"atom-7\" d=\"M 297.6 15.2 L 301.0 15.2 L 301.0 26.0 L 314.1 26.0 L 314.1 15.2 L 317.6 15.2 L 317.6 40.8 L 314.1 40.8 L 314.1 28.9 L 301.0 28.9 L 301.0 40.8 L 297.6 40.8 L 297.6 15.2 \" fill=\"#000000\"/>\n",
       "<path class=\"atom-8\" d=\"M 212.3 15.0 L 215.8 15.0 L 215.8 25.9 L 228.9 25.9 L 228.9 15.0 L 232.4 15.0 L 232.4 40.6 L 228.9 40.6 L 228.9 28.8 L 215.8 28.8 L 215.8 40.6 L 212.3 40.6 L 212.3 15.0 \" fill=\"#000000\"/>\n",
       "<path class=\"atom-9\" d=\"M 181.0 100.2 L 184.5 100.2 L 184.5 111.0 L 197.6 111.0 L 197.6 100.2 L 201.0 100.2 L 201.0 125.8 L 197.6 125.8 L 197.6 113.9 L 184.5 113.9 L 184.5 125.8 L 181.0 125.8 L 181.0 100.2 \" fill=\"#000000\"/>\n",
       "<path class=\"atom-10\" d=\"M 138.3 142.7 L 141.8 142.7 L 141.8 153.6 L 154.9 153.6 L 154.9 142.7 L 158.3 142.7 L 158.3 168.3 L 154.9 168.3 L 154.9 156.5 L 141.8 156.5 L 141.8 168.3 L 138.3 168.3 L 138.3 142.7 \" fill=\"#000000\"/>\n",
       "<path class=\"atom-11\" d=\"M 212.0 216.6 L 215.4 216.6 L 215.4 227.5 L 228.5 227.5 L 228.5 216.6 L 232.0 216.6 L 232.0 242.2 L 228.5 242.2 L 228.5 230.4 L 215.4 230.4 L 215.4 242.2 L 212.0 242.2 L 212.0 216.6 \" fill=\"#000000\"/>\n",
       "<path class=\"atom-12\" d=\"M 308.5 259.4 L 312.0 259.4 L 312.0 270.3 L 325.1 270.3 L 325.1 259.4 L 328.6 259.4 L 328.6 285.0 L 325.1 285.0 L 325.1 273.2 L 312.0 273.2 L 312.0 285.0 L 308.5 285.0 L 308.5 259.4 \" fill=\"#000000\"/>\n",
       "</svg>"
      ],
      "text/plain": [
       "<IPython.core.display.SVG object>"
      ]
     },
     "execution_count": 16,
     "metadata": {},
     "output_type": "execute_result"
    }
   ],
   "source": [
    "inchi = Molecule.from_inchi(\n",
    "    \"InChI=1S/C3H7NO2/c1-2(4)3(5)6/h2H,4H2,1H3,(H,5,6)/t2-/m0/s1\"\n",
    ")\n",
    "\n",
    "inchi.visualize()"
   ]
  },
  {
   "cell_type": "markdown",
   "id": "93592822",
   "metadata": {},
   "source": [
    "### From IUPAC name\n",
    "\n",
    "The [`Molecule.from_iupac()`](openff.toolkit.topology.Molecule.from_iupac) method constructs a `Molecule` from an IUPAC name.\n",
    "\n",
    ":::{important}\n",
    "This code requires the OpenEye toolkit.\n",
    ":::"
   ]
  },
  {
   "cell_type": "code",
   "execution_count": 17,
   "id": "839994a0",
   "metadata": {},
   "outputs": [
    {
     "data": {
      "image/svg+xml": [
       "<svg xmlns=\"http://www.w3.org/2000/svg\" xmlns:rdkit=\"http://www.rdkit.org/xml\" xmlns:xlink=\"http://www.w3.org/1999/xlink\" version=\"1.1\" baseProfile=\"full\" xml:space=\"preserve\" width=\"500px\" height=\"300px\" viewBox=\"0 0 500 300\">\n",
       "<!-- END OF HEADER -->\n",
       "<rect style=\"opacity:1.0;fill:#FFFFFF;stroke:none\" width=\"500.0\" height=\"300.0\" x=\"0.0\" y=\"0.0\"> </rect>\n",
       "<path class=\"bond-0 atom-2 atom-1\" d=\"M 249.2,142.9 L 292.1,93.8\" style=\"fill:none;fill-rule:evenodd;stroke:#000000;stroke-width:2.0px;stroke-linecap:butt;stroke-linejoin:miter;stroke-opacity:1\"/>\n",
       "<path class=\"bond-1 atom-3 atom-2\" d=\"M 268.8,206.3 L 249.2,142.9\" style=\"fill:none;fill-rule:evenodd;stroke:#000000;stroke-width:2.0px;stroke-linecap:butt;stroke-linejoin:miter;stroke-opacity:1\"/>\n",
       "<path class=\"bond-2 atom-4 atom-1\" d=\"M 280.9,46.4 L 289.4,70.6\" style=\"fill:none;fill-rule:evenodd;stroke:#FF0000;stroke-width:2.0px;stroke-linecap:butt;stroke-linejoin:miter;stroke-opacity:1\"/>\n",
       "<path class=\"bond-2 atom-4 atom-1\" d=\"M 289.4,70.6 L 297.8,94.9\" style=\"fill:none;fill-rule:evenodd;stroke:#000000;stroke-width:2.0px;stroke-linecap:butt;stroke-linejoin:miter;stroke-opacity:1\"/>\n",
       "<path class=\"bond-2 atom-4 atom-1\" d=\"M 271.5,49.6 L 279.9,73.9\" style=\"fill:none;fill-rule:evenodd;stroke:#FF0000;stroke-width:2.0px;stroke-linecap:butt;stroke-linejoin:miter;stroke-opacity:1\"/>\n",
       "<path class=\"bond-2 atom-4 atom-1\" d=\"M 279.9,73.9 L 288.4,98.1\" style=\"fill:none;fill-rule:evenodd;stroke:#000000;stroke-width:2.0px;stroke-linecap:butt;stroke-linejoin:miter;stroke-opacity:1\"/>\n",
       "<path class=\"bond-3 atom-5 atom-1\" d=\"M 341.9,103.6 L 317.0,98.7\" style=\"fill:none;fill-rule:evenodd;stroke:#FF0000;stroke-width:2.0px;stroke-linecap:butt;stroke-linejoin:miter;stroke-opacity:1\"/>\n",
       "<path class=\"bond-3 atom-5 atom-1\" d=\"M 317.0,98.7 L 292.1,93.8\" style=\"fill:none;fill-rule:evenodd;stroke:#000000;stroke-width:2.0px;stroke-linecap:butt;stroke-linejoin:miter;stroke-opacity:1\"/>\n",
       "<path class=\"bond-4 atom-2 atom-0\" d=\"M 249.2,142.9 L 227.2,124.1\" style=\"fill:none;fill-rule:evenodd;stroke:#000000;stroke-width:2.0px;stroke-linecap:butt;stroke-linejoin:miter;stroke-opacity:1\"/>\n",
       "<path class=\"bond-4 atom-2 atom-0\" d=\"M 227.2,124.1 L 205.2,105.3\" style=\"fill:none;fill-rule:evenodd;stroke:#0000FF;stroke-width:2.0px;stroke-linecap:butt;stroke-linejoin:miter;stroke-opacity:1\"/>\n",
       "<path class=\"bond-5 atom-0 atom-6\" d=\"M 179.4,107.5 L 169.1,117.9\" style=\"fill:none;fill-rule:evenodd;stroke:#0000FF;stroke-width:2.0px;stroke-linecap:butt;stroke-linejoin:miter;stroke-opacity:1\"/>\n",
       "<path class=\"bond-5 atom-0 atom-6\" d=\"M 169.1,117.9 L 158.9,128.4\" style=\"fill:none;fill-rule:evenodd;stroke:#000000;stroke-width:2.0px;stroke-linecap:butt;stroke-linejoin:miter;stroke-opacity:1\"/>\n",
       "<path class=\"bond-6 atom-0 atom-7\" d=\"M 179.4,91.4 L 160.0,87.1\" style=\"fill:none;fill-rule:evenodd;stroke:#0000FF;stroke-width:2.0px;stroke-linecap:butt;stroke-linejoin:miter;stroke-opacity:1\"/>\n",
       "<path class=\"bond-6 atom-0 atom-7\" d=\"M 160.0,87.1 L 140.6,82.9\" style=\"fill:none;fill-rule:evenodd;stroke:#000000;stroke-width:2.0px;stroke-linecap:butt;stroke-linejoin:miter;stroke-opacity:1\"/>\n",
       "<path class=\"bond-7 atom-0 atom-8\" d=\"M 195.5,77.9 L 198.8,61.7\" style=\"fill:none;fill-rule:evenodd;stroke:#0000FF;stroke-width:2.0px;stroke-linecap:butt;stroke-linejoin:miter;stroke-opacity:1\"/>\n",
       "<path class=\"bond-7 atom-0 atom-8\" d=\"M 198.8,61.7 L 202.0,45.5\" style=\"fill:none;fill-rule:evenodd;stroke:#000000;stroke-width:2.0px;stroke-linecap:butt;stroke-linejoin:miter;stroke-opacity:1\"/>\n",
       "<path class=\"bond-8 atom-2 atom-9\" d=\"M 249.2,142.9 L 213.2,164.5 L 209.1,155.4 Z\" style=\"fill:#000000;fill-rule:evenodd;fill-opacity:1;stroke:#000000;stroke-width:0.5px;stroke-linecap:butt;stroke-linejoin:miter;stroke-opacity:1;\"/>\n",
       "<path class=\"bond-9 atom-3 atom-10\" d=\"M 268.8,206.3 L 217.3,220.6\" style=\"fill:none;fill-rule:evenodd;stroke:#000000;stroke-width:2.0px;stroke-linecap:butt;stroke-linejoin:miter;stroke-opacity:1\"/>\n",
       "<path class=\"bond-10 atom-3 atom-11\" d=\"M 268.8,206.3 L 255.5,254.5\" style=\"fill:none;fill-rule:evenodd;stroke:#000000;stroke-width:2.0px;stroke-linecap:butt;stroke-linejoin:miter;stroke-opacity:1\"/>\n",
       "<path class=\"bond-11 atom-3 atom-12\" d=\"M 268.8,206.3 L 319.4,219.7\" style=\"fill:none;fill-rule:evenodd;stroke:#000000;stroke-width:2.0px;stroke-linecap:butt;stroke-linejoin:miter;stroke-opacity:1\"/>\n",
       "<path d=\"M 290.0,96.2 L 292.1,93.8 L 293.4,94.0\" style=\"fill:none;stroke:#000000;stroke-width:2.0px;stroke-linecap:butt;stroke-linejoin:miter;stroke-opacity:1;\"/>\n",
       "<path class=\"atom-0\" d=\"M 186.0 80.1 L 195.3 95.1 Q 196.2 96.6, 197.7 99.3 Q 199.2 101.9, 199.3 102.1 L 199.3 80.1 L 203.0 80.1 L 203.0 108.4 L 199.1 108.4 L 189.2 92.0 Q 188.0 90.1, 186.8 87.9 Q 185.6 85.7, 185.2 85.0 L 185.2 108.4 L 181.6 108.4 L 181.6 80.1 L 186.0 80.1 \" fill=\"#0000FF\"/>\n",
       "<path class=\"atom-0\" d=\"M 208.3 85.2 L 213.3 85.2 L 213.3 80.0 L 215.5 80.0 L 215.5 85.2 L 220.7 85.2 L 220.7 87.1 L 215.5 87.1 L 215.5 92.4 L 213.3 92.4 L 213.3 87.1 L 208.3 87.1 L 208.3 85.2 \" fill=\"#0000FF\"/>\n",
       "<path class=\"atom-4\" d=\"M 257.3 31.2 Q 257.3 24.4, 260.7 20.6 Q 264.0 16.8, 270.3 16.8 Q 276.6 16.8, 279.9 20.6 Q 283.3 24.4, 283.3 31.2 Q 283.3 38.0, 279.9 41.9 Q 276.5 45.8, 270.3 45.8 Q 264.1 45.8, 260.7 41.9 Q 257.3 38.1, 257.3 31.2 M 270.3 42.6 Q 274.6 42.6, 276.9 39.7 Q 279.3 36.8, 279.3 31.2 Q 279.3 25.6, 276.9 22.8 Q 274.6 20.0, 270.3 20.0 Q 266.0 20.0, 263.6 22.8 Q 261.3 25.6, 261.3 31.2 Q 261.3 36.9, 263.6 39.7 Q 266.0 42.6, 270.3 42.6 \" fill=\"#FF0000\"/>\n",
       "<path class=\"atom-5\" d=\"M 344.1 106.7 Q 344.1 99.9, 347.4 96.1 Q 350.8 92.3, 357.1 92.3 Q 363.3 92.3, 366.7 96.1 Q 370.1 99.9, 370.1 106.7 Q 370.1 113.6, 366.7 117.5 Q 363.3 121.4, 357.1 121.4 Q 350.8 121.4, 347.4 117.5 Q 344.1 113.6, 344.1 106.7 M 357.1 118.2 Q 361.4 118.2, 363.7 115.3 Q 366.1 112.4, 366.1 106.7 Q 366.1 101.2, 363.7 98.4 Q 361.4 95.5, 357.1 95.5 Q 352.8 95.5, 350.4 98.3 Q 348.1 101.1, 348.1 106.7 Q 348.1 112.4, 350.4 115.3 Q 352.8 118.2, 357.1 118.2 \" fill=\"#FF0000\"/>\n",
       "<path class=\"atom-5\" d=\"M 374.1 96.9 L 383.8 96.9 L 383.8 99.1 L 374.1 99.1 L 374.1 96.9 \" fill=\"#FF0000\"/>\n",
       "<path class=\"atom-6\" d=\"M 134.5 127.8 L 138.4 127.8 L 138.4 139.8 L 152.8 139.8 L 152.8 127.8 L 156.7 127.8 L 156.7 156.1 L 152.8 156.1 L 152.8 143.0 L 138.4 143.0 L 138.4 156.1 L 134.5 156.1 L 134.5 127.8 \" fill=\"#000000\"/>\n",
       "<path class=\"atom-7\" d=\"M 116.2 65.8 L 120.1 65.8 L 120.1 77.8 L 134.5 77.8 L 134.5 65.8 L 138.4 65.8 L 138.4 94.1 L 134.5 94.1 L 134.5 81.0 L 120.1 81.0 L 120.1 94.1 L 116.2 94.1 L 116.2 65.8 \" fill=\"#000000\"/>\n",
       "<path class=\"atom-8\" d=\"M 194.2 15.0 L 198.0 15.0 L 198.0 27.0 L 212.5 27.0 L 212.5 15.0 L 216.3 15.0 L 216.3 43.3 L 212.5 43.3 L 212.5 30.2 L 198.0 30.2 L 198.0 43.3 L 194.2 43.3 L 194.2 15.0 \" fill=\"#000000\"/>\n",
       "<path class=\"atom-9\" d=\"M 184.7 152.8 L 188.5 152.8 L 188.5 164.8 L 203.0 164.8 L 203.0 152.8 L 206.8 152.8 L 206.8 181.1 L 203.0 181.1 L 203.0 168.0 L 188.5 168.0 L 188.5 181.1 L 184.7 181.1 L 184.7 152.8 \" fill=\"#000000\"/>\n",
       "<path class=\"atom-10\" d=\"M 193.0 210.1 L 196.8 210.1 L 196.8 222.1 L 211.3 222.1 L 211.3 210.1 L 215.1 210.1 L 215.1 238.4 L 211.3 238.4 L 211.3 225.3 L 196.8 225.3 L 196.8 238.4 L 193.0 238.4 L 193.0 210.1 \" fill=\"#000000\"/>\n",
       "<path class=\"atom-11\" d=\"M 239.9 256.7 L 243.8 256.7 L 243.8 268.7 L 258.2 268.7 L 258.2 256.7 L 262.1 256.7 L 262.1 285.0 L 258.2 285.0 L 258.2 271.9 L 243.8 271.9 L 243.8 285.0 L 239.9 285.0 L 239.9 256.7 \" fill=\"#000000\"/>\n",
       "<path class=\"atom-12\" d=\"M 321.6 209.1 L 325.5 209.1 L 325.5 221.1 L 339.9 221.1 L 339.9 209.1 L 343.8 209.1 L 343.8 237.4 L 339.9 237.4 L 339.9 224.3 L 325.5 224.3 L 325.5 237.4 L 321.6 237.4 L 321.6 209.1 \" fill=\"#000000\"/>\n",
       "</svg>"
      ],
      "text/plain": [
       "<IPython.core.display.SVG object>"
      ]
     },
     "execution_count": 17,
     "metadata": {},
     "output_type": "execute_result"
    }
   ],
   "source": [
    "iupac = Molecule.from_iupac(\"(2S)-2-azaniumylpropanoate\")\n",
    "\n",
    "assert zw_l_alanine.is_isomorphic_with(iupac)\n",
    "\n",
    "iupac.visualize()"
   ]
  },
  {
   "cell_type": "markdown",
   "id": "14d8a068",
   "metadata": {},
   "source": [
    "## Re-ordering atoms in an existing `Molecule`\n",
    "\n",
    "Most `Molecule` creation methods don't specify the ordering of atoms in the new `Molecule`. The [`Molecule.remap()`](openff.toolkit.topology.Molecule.remap) method allows a new ordering to be applied to an existing `Molecule`.\n",
    "\n",
    "See also [](#mapped-smiles).\n",
    "\n",
    ":::{warning}\n",
    "The `Molecule.remap()` method is experimental and subject to change. \n",
    ":::"
   ]
  },
  {
   "cell_type": "code",
   "execution_count": 18,
   "id": "c9a343c2",
   "metadata": {},
   "outputs": [
    {
     "name": "stdout",
     "output_type": "stream",
     "text": [
      "Before remapping: [H:3][C@@:2]([C:5](=[O:6])[O-:7])([C:1]([H:8])([H:9])[H:10])[N+:4]([H:11])([H:12])[H:13]\n",
      "After remapping:  [H:3][C@@:2]([C:4](=[O:6])[O-:7])([C:1]([H:8])([H:9])[H:10])[N+:5]([H:11])([H:12])[H:13]\n"
     ]
    },
    {
     "data": {
      "image/svg+xml": [
       "<svg xmlns=\"http://www.w3.org/2000/svg\" xmlns:rdkit=\"http://www.rdkit.org/xml\" xmlns:xlink=\"http://www.w3.org/1999/xlink\" version=\"1.1\" baseProfile=\"full\" xml:space=\"preserve\" width=\"500px\" height=\"300px\" viewBox=\"0 0 500 300\">\n",
       "<!-- END OF HEADER -->\n",
       "<rect style=\"opacity:1.0;fill:#FFFFFF;stroke:none\" width=\"500.0\" height=\"300.0\" x=\"0.0\" y=\"0.0\"> </rect>\n",
       "<path class=\"bond-0 atom-0 atom-1\" d=\"M 268.8,206.3 L 249.2,142.9\" style=\"fill:none;fill-rule:evenodd;stroke:#000000;stroke-width:2.0px;stroke-linecap:butt;stroke-linejoin:miter;stroke-opacity:1\"/>\n",
       "<path class=\"bond-1 atom-0 atom-7\" d=\"M 268.8,206.3 L 217.3,220.6\" style=\"fill:none;fill-rule:evenodd;stroke:#000000;stroke-width:2.0px;stroke-linecap:butt;stroke-linejoin:miter;stroke-opacity:1\"/>\n",
       "<path class=\"bond-2 atom-0 atom-8\" d=\"M 268.8,206.3 L 255.5,254.5\" style=\"fill:none;fill-rule:evenodd;stroke:#000000;stroke-width:2.0px;stroke-linecap:butt;stroke-linejoin:miter;stroke-opacity:1\"/>\n",
       "<path class=\"bond-3 atom-0 atom-9\" d=\"M 268.8,206.3 L 319.4,219.7\" style=\"fill:none;fill-rule:evenodd;stroke:#000000;stroke-width:2.0px;stroke-linecap:butt;stroke-linejoin:miter;stroke-opacity:1\"/>\n",
       "<path class=\"bond-4 atom-1 atom-2\" d=\"M 249.2,142.9 L 213.2,164.5 L 209.1,155.4 Z\" style=\"fill:#000000;fill-rule:evenodd;fill-opacity:1;stroke:#000000;stroke-width:0.5px;stroke-linecap:butt;stroke-linejoin:miter;stroke-opacity:1;\"/>\n",
       "<path class=\"bond-5 atom-1 atom-3\" d=\"M 249.2,142.9 L 292.1,93.8\" style=\"fill:none;fill-rule:evenodd;stroke:#000000;stroke-width:2.0px;stroke-linecap:butt;stroke-linejoin:miter;stroke-opacity:1\"/>\n",
       "<path class=\"bond-6 atom-1 atom-4\" d=\"M 249.2,142.9 L 227.2,124.1\" style=\"fill:none;fill-rule:evenodd;stroke:#000000;stroke-width:2.0px;stroke-linecap:butt;stroke-linejoin:miter;stroke-opacity:1\"/>\n",
       "<path class=\"bond-6 atom-1 atom-4\" d=\"M 227.2,124.1 L 205.2,105.3\" style=\"fill:none;fill-rule:evenodd;stroke:#0000FF;stroke-width:2.0px;stroke-linecap:butt;stroke-linejoin:miter;stroke-opacity:1\"/>\n",
       "<path class=\"bond-7 atom-3 atom-5\" d=\"M 297.8,94.9 L 289.4,70.6\" style=\"fill:none;fill-rule:evenodd;stroke:#000000;stroke-width:2.0px;stroke-linecap:butt;stroke-linejoin:miter;stroke-opacity:1\"/>\n",
       "<path class=\"bond-7 atom-3 atom-5\" d=\"M 289.4,70.6 L 280.9,46.4\" style=\"fill:none;fill-rule:evenodd;stroke:#FF0000;stroke-width:2.0px;stroke-linecap:butt;stroke-linejoin:miter;stroke-opacity:1\"/>\n",
       "<path class=\"bond-7 atom-3 atom-5\" d=\"M 288.4,98.1 L 279.9,73.9\" style=\"fill:none;fill-rule:evenodd;stroke:#000000;stroke-width:2.0px;stroke-linecap:butt;stroke-linejoin:miter;stroke-opacity:1\"/>\n",
       "<path class=\"bond-7 atom-3 atom-5\" d=\"M 279.9,73.9 L 271.5,49.6\" style=\"fill:none;fill-rule:evenodd;stroke:#FF0000;stroke-width:2.0px;stroke-linecap:butt;stroke-linejoin:miter;stroke-opacity:1\"/>\n",
       "<path class=\"bond-8 atom-3 atom-6\" d=\"M 292.1,93.8 L 317.0,98.7\" style=\"fill:none;fill-rule:evenodd;stroke:#000000;stroke-width:2.0px;stroke-linecap:butt;stroke-linejoin:miter;stroke-opacity:1\"/>\n",
       "<path class=\"bond-8 atom-3 atom-6\" d=\"M 317.0,98.7 L 341.9,103.6\" style=\"fill:none;fill-rule:evenodd;stroke:#FF0000;stroke-width:2.0px;stroke-linecap:butt;stroke-linejoin:miter;stroke-opacity:1\"/>\n",
       "<path class=\"bond-9 atom-4 atom-10\" d=\"M 179.4,107.5 L 169.1,117.9\" style=\"fill:none;fill-rule:evenodd;stroke:#0000FF;stroke-width:2.0px;stroke-linecap:butt;stroke-linejoin:miter;stroke-opacity:1\"/>\n",
       "<path class=\"bond-9 atom-4 atom-10\" d=\"M 169.1,117.9 L 158.9,128.4\" style=\"fill:none;fill-rule:evenodd;stroke:#000000;stroke-width:2.0px;stroke-linecap:butt;stroke-linejoin:miter;stroke-opacity:1\"/>\n",
       "<path class=\"bond-10 atom-4 atom-11\" d=\"M 179.4,91.4 L 160.0,87.1\" style=\"fill:none;fill-rule:evenodd;stroke:#0000FF;stroke-width:2.0px;stroke-linecap:butt;stroke-linejoin:miter;stroke-opacity:1\"/>\n",
       "<path class=\"bond-10 atom-4 atom-11\" d=\"M 160.0,87.1 L 140.6,82.9\" style=\"fill:none;fill-rule:evenodd;stroke:#000000;stroke-width:2.0px;stroke-linecap:butt;stroke-linejoin:miter;stroke-opacity:1\"/>\n",
       "<path class=\"bond-11 atom-4 atom-12\" d=\"M 195.5,77.9 L 198.8,61.7\" style=\"fill:none;fill-rule:evenodd;stroke:#0000FF;stroke-width:2.0px;stroke-linecap:butt;stroke-linejoin:miter;stroke-opacity:1\"/>\n",
       "<path class=\"bond-11 atom-4 atom-12\" d=\"M 198.8,61.7 L 202.0,45.5\" style=\"fill:none;fill-rule:evenodd;stroke:#000000;stroke-width:2.0px;stroke-linecap:butt;stroke-linejoin:miter;stroke-opacity:1\"/>\n",
       "<path d=\"M 290.0,96.2 L 292.1,93.8 L 293.4,94.0\" style=\"fill:none;stroke:#000000;stroke-width:2.0px;stroke-linecap:butt;stroke-linejoin:miter;stroke-opacity:1;\"/>\n",
       "<path class=\"atom-2\" d=\"M 184.7 152.8 L 188.5 152.8 L 188.5 164.8 L 203.0 164.8 L 203.0 152.8 L 206.8 152.8 L 206.8 181.1 L 203.0 181.1 L 203.0 168.0 L 188.5 168.0 L 188.5 181.1 L 184.7 181.1 L 184.7 152.8 \" fill=\"#000000\"/>\n",
       "<path class=\"atom-4\" d=\"M 186.0 80.1 L 195.3 95.1 Q 196.2 96.6, 197.7 99.3 Q 199.2 101.9, 199.3 102.1 L 199.3 80.1 L 203.0 80.1 L 203.0 108.4 L 199.1 108.4 L 189.2 92.0 Q 188.0 90.1, 186.8 87.9 Q 185.6 85.7, 185.2 85.0 L 185.2 108.4 L 181.6 108.4 L 181.6 80.1 L 186.0 80.1 \" fill=\"#0000FF\"/>\n",
       "<path class=\"atom-4\" d=\"M 208.3 85.2 L 213.3 85.2 L 213.3 80.0 L 215.5 80.0 L 215.5 85.2 L 220.7 85.2 L 220.7 87.1 L 215.5 87.1 L 215.5 92.4 L 213.3 92.4 L 213.3 87.1 L 208.3 87.1 L 208.3 85.2 \" fill=\"#0000FF\"/>\n",
       "<path class=\"atom-5\" d=\"M 257.3 31.2 Q 257.3 24.4, 260.7 20.6 Q 264.0 16.8, 270.3 16.8 Q 276.6 16.8, 279.9 20.6 Q 283.3 24.4, 283.3 31.2 Q 283.3 38.0, 279.9 41.9 Q 276.5 45.8, 270.3 45.8 Q 264.1 45.8, 260.7 41.9 Q 257.3 38.1, 257.3 31.2 M 270.3 42.6 Q 274.6 42.6, 276.9 39.7 Q 279.3 36.8, 279.3 31.2 Q 279.3 25.6, 276.9 22.8 Q 274.6 20.0, 270.3 20.0 Q 266.0 20.0, 263.6 22.8 Q 261.3 25.6, 261.3 31.2 Q 261.3 36.9, 263.6 39.7 Q 266.0 42.6, 270.3 42.6 \" fill=\"#FF0000\"/>\n",
       "<path class=\"atom-6\" d=\"M 344.1 106.7 Q 344.1 99.9, 347.4 96.1 Q 350.8 92.3, 357.1 92.3 Q 363.3 92.3, 366.7 96.1 Q 370.1 99.9, 370.1 106.7 Q 370.1 113.6, 366.7 117.5 Q 363.3 121.4, 357.1 121.4 Q 350.8 121.4, 347.4 117.5 Q 344.1 113.6, 344.1 106.7 M 357.1 118.2 Q 361.4 118.2, 363.7 115.3 Q 366.1 112.4, 366.1 106.7 Q 366.1 101.2, 363.7 98.4 Q 361.4 95.5, 357.1 95.5 Q 352.8 95.5, 350.4 98.3 Q 348.1 101.1, 348.1 106.7 Q 348.1 112.4, 350.4 115.3 Q 352.8 118.2, 357.1 118.2 \" fill=\"#FF0000\"/>\n",
       "<path class=\"atom-6\" d=\"M 374.1 96.9 L 383.8 96.9 L 383.8 99.1 L 374.1 99.1 L 374.1 96.9 \" fill=\"#FF0000\"/>\n",
       "<path class=\"atom-7\" d=\"M 193.0 210.1 L 196.8 210.1 L 196.8 222.1 L 211.3 222.1 L 211.3 210.1 L 215.1 210.1 L 215.1 238.4 L 211.3 238.4 L 211.3 225.3 L 196.8 225.3 L 196.8 238.4 L 193.0 238.4 L 193.0 210.1 \" fill=\"#000000\"/>\n",
       "<path class=\"atom-8\" d=\"M 239.9 256.7 L 243.8 256.7 L 243.8 268.7 L 258.2 268.7 L 258.2 256.7 L 262.1 256.7 L 262.1 285.0 L 258.2 285.0 L 258.2 271.9 L 243.8 271.9 L 243.8 285.0 L 239.9 285.0 L 239.9 256.7 \" fill=\"#000000\"/>\n",
       "<path class=\"atom-9\" d=\"M 321.6 209.1 L 325.5 209.1 L 325.5 221.1 L 339.9 221.1 L 339.9 209.1 L 343.8 209.1 L 343.8 237.4 L 339.9 237.4 L 339.9 224.3 L 325.5 224.3 L 325.5 237.4 L 321.6 237.4 L 321.6 209.1 \" fill=\"#000000\"/>\n",
       "<path class=\"atom-10\" d=\"M 134.5 127.8 L 138.4 127.8 L 138.4 139.8 L 152.8 139.8 L 152.8 127.8 L 156.7 127.8 L 156.7 156.1 L 152.8 156.1 L 152.8 143.0 L 138.4 143.0 L 138.4 156.1 L 134.5 156.1 L 134.5 127.8 \" fill=\"#000000\"/>\n",
       "<path class=\"atom-11\" d=\"M 116.2 65.8 L 120.1 65.8 L 120.1 77.8 L 134.5 77.8 L 134.5 65.8 L 138.4 65.8 L 138.4 94.1 L 134.5 94.1 L 134.5 81.0 L 120.1 81.0 L 120.1 94.1 L 116.2 94.1 L 116.2 65.8 \" fill=\"#000000\"/>\n",
       "<path class=\"atom-12\" d=\"M 194.2 15.0 L 198.0 15.0 L 198.0 27.0 L 212.5 27.0 L 212.5 15.0 L 216.3 15.0 L 216.3 43.3 L 212.5 43.3 L 212.5 30.2 L 198.0 30.2 L 198.0 43.3 L 194.2 43.3 L 194.2 15.0 \" fill=\"#000000\"/>\n",
       "</svg>"
      ],
      "text/plain": [
       "<IPython.core.display.SVG object>"
      ]
     },
     "execution_count": 18,
     "metadata": {},
     "output_type": "execute_result"
    }
   ],
   "source": [
    "# Note that this mapping is off-by-one from the mapping taken\n",
    "# by the remap method, as Python indexing is 0-based but SMILES\n",
    "# is 1-based\n",
    "print(\"Before remapping:\", zw_l_alanine.to_smiles(mapped=True))\n",
    "\n",
    "# Flip the order of the carbonyl carbon and oxygen\n",
    "remapped = zw_l_alanine.remap(\n",
    "    {\n",
    "        0: 0,\n",
    "        1: 1,\n",
    "        2: 2,\n",
    "        3: 4,  # Note these two mappings,\n",
    "        4: 3,  # which are flipped!\n",
    "        5: 5,\n",
    "        6: 6,\n",
    "        7: 7,\n",
    "        8: 8,\n",
    "        9: 9,\n",
    "        10: 10,\n",
    "        11: 11,\n",
    "        12: 12,\n",
    "    }\n",
    ")\n",
    "\n",
    "print(\"After remapping: \", remapped.to_smiles(mapped=True))\n",
    "\n",
    "# Doesn't affect the identity of the molecule\n",
    "assert zw_l_alanine.is_isomorphic_with(remapped)\n",
    "remapped.visualize()"
   ]
  },
  {
   "cell_type": "markdown",
   "id": "d5e4330a",
   "metadata": {},
   "source": [
    "## Via `Topology` objects\n",
    "\n",
    "The [`Topology`](openff.toolkit.topology.Topology) class represents a biomolecular system; it is analogous to the similarly named objects in GROMACS, MDTraj or OpenMM. Notably, it does not include co-ordinates and may represent multiple copies of a particular molecular species or even more complex mixtures of molecules. `Topology` objects are usually built up one species at a time from `Molecule` objects.\n",
    "\n",
    "`Molecule` objects can be retrieved from a `Topology` via the [`Topology.molecule()`](openff.toolkit.topology.Topology.molecule) method by providing the index of the molecule within the topology. For a topology consisting of a single molecule, this is just `topology.molecule(0)`.\n",
    "\n",
    "Constructor methods that are available for `Topology` but not `Molecule` generally require a `Molecule` to be provided via the `unique_molecules` keyword argument. The provided `Molecule` is used to provide the identity of the molecule, including aromaticity, bond orders, formal charges, and so forth. These methods therefore don't provide a route to the graph of the molecule, but can be useful for reordering atoms to match another software package."
   ]
  },
  {
   "cell_type": "markdown",
   "id": "95eab062",
   "metadata": {},
   "source": [
    "### From an OpenMM `Topology`\n",
    "\n",
    "The [`Topology.from_openmm()`](openff.toolkit.topology.Topology.from_openmm) method constructs an OpenFF `Topology` from an OpenMM [`Topology`](openmm.app.topology.Topology). The method requires that all the unique molecules in the `Topology` are provided as OpenFF `Molecule` objects, as the structure of an OpenMM `Topology` doesn't include the concept of a molecule. When using this method to create a `Molecule`, this limitation means that the method really only offers a pathway to reorder the atoms of a `Molecule` to match that of the OpenMM `Topology`."
   ]
  },
  {
   "cell_type": "code",
   "execution_count": 19,
   "id": "40645664",
   "metadata": {},
   "outputs": [
    {
     "data": {
      "image/svg+xml": [
       "<svg xmlns=\"http://www.w3.org/2000/svg\" xmlns:rdkit=\"http://www.rdkit.org/xml\" xmlns:xlink=\"http://www.w3.org/1999/xlink\" version=\"1.1\" baseProfile=\"full\" xml:space=\"preserve\" width=\"500px\" height=\"300px\" viewBox=\"0 0 500 300\">\n",
       "<!-- END OF HEADER -->\n",
       "<rect style=\"opacity:1.0;fill:#FFFFFF;stroke:none\" width=\"500.0\" height=\"300.0\" x=\"0.0\" y=\"0.0\"> </rect>\n",
       "<path class=\"bond-0 atom-0 atom-2\" d=\"M 205.2,105.3 L 227.2,124.1\" style=\"fill:none;fill-rule:evenodd;stroke:#0000FF;stroke-width:2.0px;stroke-linecap:butt;stroke-linejoin:miter;stroke-opacity:1\"/>\n",
       "<path class=\"bond-0 atom-0 atom-2\" d=\"M 227.2,124.1 L 249.2,142.9\" style=\"fill:none;fill-rule:evenodd;stroke:#000000;stroke-width:2.0px;stroke-linecap:butt;stroke-linejoin:miter;stroke-opacity:1\"/>\n",
       "<path class=\"bond-1 atom-0 atom-10\" d=\"M 179.4,107.5 L 169.1,117.9\" style=\"fill:none;fill-rule:evenodd;stroke:#0000FF;stroke-width:2.0px;stroke-linecap:butt;stroke-linejoin:miter;stroke-opacity:1\"/>\n",
       "<path class=\"bond-1 atom-0 atom-10\" d=\"M 169.1,117.9 L 158.9,128.4\" style=\"fill:none;fill-rule:evenodd;stroke:#000000;stroke-width:2.0px;stroke-linecap:butt;stroke-linejoin:miter;stroke-opacity:1\"/>\n",
       "<path class=\"bond-2 atom-0 atom-11\" d=\"M 179.4,91.4 L 160.0,87.1\" style=\"fill:none;fill-rule:evenodd;stroke:#0000FF;stroke-width:2.0px;stroke-linecap:butt;stroke-linejoin:miter;stroke-opacity:1\"/>\n",
       "<path class=\"bond-2 atom-0 atom-11\" d=\"M 160.0,87.1 L 140.6,82.9\" style=\"fill:none;fill-rule:evenodd;stroke:#000000;stroke-width:2.0px;stroke-linecap:butt;stroke-linejoin:miter;stroke-opacity:1\"/>\n",
       "<path class=\"bond-3 atom-0 atom-12\" d=\"M 195.5,77.9 L 198.8,61.7\" style=\"fill:none;fill-rule:evenodd;stroke:#0000FF;stroke-width:2.0px;stroke-linecap:butt;stroke-linejoin:miter;stroke-opacity:1\"/>\n",
       "<path class=\"bond-3 atom-0 atom-12\" d=\"M 198.8,61.7 L 202.0,45.5\" style=\"fill:none;fill-rule:evenodd;stroke:#000000;stroke-width:2.0px;stroke-linecap:butt;stroke-linejoin:miter;stroke-opacity:1\"/>\n",
       "<path class=\"bond-4 atom-1 atom-2\" d=\"M 268.8,206.3 L 249.2,142.9\" style=\"fill:none;fill-rule:evenodd;stroke:#000000;stroke-width:2.0px;stroke-linecap:butt;stroke-linejoin:miter;stroke-opacity:1\"/>\n",
       "<path class=\"bond-5 atom-1 atom-6\" d=\"M 268.8,206.3 L 217.3,220.6\" style=\"fill:none;fill-rule:evenodd;stroke:#000000;stroke-width:2.0px;stroke-linecap:butt;stroke-linejoin:miter;stroke-opacity:1\"/>\n",
       "<path class=\"bond-6 atom-1 atom-7\" d=\"M 268.8,206.3 L 255.5,254.5\" style=\"fill:none;fill-rule:evenodd;stroke:#000000;stroke-width:2.0px;stroke-linecap:butt;stroke-linejoin:miter;stroke-opacity:1\"/>\n",
       "<path class=\"bond-7 atom-1 atom-8\" d=\"M 268.8,206.3 L 319.4,219.7\" style=\"fill:none;fill-rule:evenodd;stroke:#000000;stroke-width:2.0px;stroke-linecap:butt;stroke-linejoin:miter;stroke-opacity:1\"/>\n",
       "<path class=\"bond-8 atom-2 atom-3\" d=\"M 249.2,142.9 L 292.1,93.8\" style=\"fill:none;fill-rule:evenodd;stroke:#000000;stroke-width:2.0px;stroke-linecap:butt;stroke-linejoin:miter;stroke-opacity:1\"/>\n",
       "<path class=\"bond-9 atom-2 atom-9\" d=\"M 249.2,142.9 L 213.2,164.5 L 209.1,155.4 Z\" style=\"fill:#000000;fill-rule:evenodd;fill-opacity:1;stroke:#000000;stroke-width:0.5px;stroke-linecap:butt;stroke-linejoin:miter;stroke-opacity:1;\"/>\n",
       "<path class=\"bond-10 atom-3 atom-4\" d=\"M 297.8,94.9 L 289.4,70.6\" style=\"fill:none;fill-rule:evenodd;stroke:#000000;stroke-width:2.0px;stroke-linecap:butt;stroke-linejoin:miter;stroke-opacity:1\"/>\n",
       "<path class=\"bond-10 atom-3 atom-4\" d=\"M 289.4,70.6 L 280.9,46.4\" style=\"fill:none;fill-rule:evenodd;stroke:#FF0000;stroke-width:2.0px;stroke-linecap:butt;stroke-linejoin:miter;stroke-opacity:1\"/>\n",
       "<path class=\"bond-10 atom-3 atom-4\" d=\"M 288.4,98.1 L 279.9,73.9\" style=\"fill:none;fill-rule:evenodd;stroke:#000000;stroke-width:2.0px;stroke-linecap:butt;stroke-linejoin:miter;stroke-opacity:1\"/>\n",
       "<path class=\"bond-10 atom-3 atom-4\" d=\"M 279.9,73.9 L 271.5,49.6\" style=\"fill:none;fill-rule:evenodd;stroke:#FF0000;stroke-width:2.0px;stroke-linecap:butt;stroke-linejoin:miter;stroke-opacity:1\"/>\n",
       "<path class=\"bond-11 atom-3 atom-5\" d=\"M 292.1,93.8 L 317.0,98.7\" style=\"fill:none;fill-rule:evenodd;stroke:#000000;stroke-width:2.0px;stroke-linecap:butt;stroke-linejoin:miter;stroke-opacity:1\"/>\n",
       "<path class=\"bond-11 atom-3 atom-5\" d=\"M 317.0,98.7 L 341.9,103.6\" style=\"fill:none;fill-rule:evenodd;stroke:#FF0000;stroke-width:2.0px;stroke-linecap:butt;stroke-linejoin:miter;stroke-opacity:1\"/>\n",
       "<path d=\"M 290.0,96.2 L 292.1,93.8 L 293.4,94.0\" style=\"fill:none;stroke:#000000;stroke-width:2.0px;stroke-linecap:butt;stroke-linejoin:miter;stroke-opacity:1;\"/>\n",
       "<path class=\"atom-0\" d=\"M 186.0 80.1 L 195.3 95.1 Q 196.2 96.6, 197.7 99.3 Q 199.2 101.9, 199.3 102.1 L 199.3 80.1 L 203.0 80.1 L 203.0 108.4 L 199.1 108.4 L 189.2 92.0 Q 188.0 90.1, 186.8 87.9 Q 185.6 85.7, 185.2 85.0 L 185.2 108.4 L 181.6 108.4 L 181.6 80.1 L 186.0 80.1 \" fill=\"#0000FF\"/>\n",
       "<path class=\"atom-0\" d=\"M 208.3 85.2 L 213.3 85.2 L 213.3 80.0 L 215.5 80.0 L 215.5 85.2 L 220.7 85.2 L 220.7 87.1 L 215.5 87.1 L 215.5 92.4 L 213.3 92.4 L 213.3 87.1 L 208.3 87.1 L 208.3 85.2 \" fill=\"#0000FF\"/>\n",
       "<path class=\"atom-4\" d=\"M 257.3 31.2 Q 257.3 24.4, 260.7 20.6 Q 264.0 16.8, 270.3 16.8 Q 276.6 16.8, 279.9 20.6 Q 283.3 24.4, 283.3 31.2 Q 283.3 38.0, 279.9 41.9 Q 276.5 45.8, 270.3 45.8 Q 264.1 45.8, 260.7 41.9 Q 257.3 38.1, 257.3 31.2 M 270.3 42.6 Q 274.6 42.6, 276.9 39.7 Q 279.3 36.8, 279.3 31.2 Q 279.3 25.6, 276.9 22.8 Q 274.6 20.0, 270.3 20.0 Q 266.0 20.0, 263.6 22.8 Q 261.3 25.6, 261.3 31.2 Q 261.3 36.9, 263.6 39.7 Q 266.0 42.6, 270.3 42.6 \" fill=\"#FF0000\"/>\n",
       "<path class=\"atom-5\" d=\"M 344.1 106.7 Q 344.1 99.9, 347.4 96.1 Q 350.8 92.3, 357.1 92.3 Q 363.3 92.3, 366.7 96.1 Q 370.1 99.9, 370.1 106.7 Q 370.1 113.6, 366.7 117.5 Q 363.3 121.4, 357.1 121.4 Q 350.8 121.4, 347.4 117.5 Q 344.1 113.6, 344.1 106.7 M 357.1 118.2 Q 361.4 118.2, 363.7 115.3 Q 366.1 112.4, 366.1 106.7 Q 366.1 101.2, 363.7 98.4 Q 361.4 95.5, 357.1 95.5 Q 352.8 95.5, 350.4 98.3 Q 348.1 101.1, 348.1 106.7 Q 348.1 112.4, 350.4 115.3 Q 352.8 118.2, 357.1 118.2 \" fill=\"#FF0000\"/>\n",
       "<path class=\"atom-5\" d=\"M 374.1 96.9 L 383.8 96.9 L 383.8 99.1 L 374.1 99.1 L 374.1 96.9 \" fill=\"#FF0000\"/>\n",
       "<path class=\"atom-6\" d=\"M 193.0 210.1 L 196.8 210.1 L 196.8 222.1 L 211.3 222.1 L 211.3 210.1 L 215.1 210.1 L 215.1 238.4 L 211.3 238.4 L 211.3 225.3 L 196.8 225.3 L 196.8 238.4 L 193.0 238.4 L 193.0 210.1 \" fill=\"#000000\"/>\n",
       "<path class=\"atom-7\" d=\"M 239.9 256.7 L 243.8 256.7 L 243.8 268.7 L 258.2 268.7 L 258.2 256.7 L 262.1 256.7 L 262.1 285.0 L 258.2 285.0 L 258.2 271.9 L 243.8 271.9 L 243.8 285.0 L 239.9 285.0 L 239.9 256.7 \" fill=\"#000000\"/>\n",
       "<path class=\"atom-8\" d=\"M 321.6 209.1 L 325.5 209.1 L 325.5 221.1 L 339.9 221.1 L 339.9 209.1 L 343.8 209.1 L 343.8 237.4 L 339.9 237.4 L 339.9 224.3 L 325.5 224.3 L 325.5 237.4 L 321.6 237.4 L 321.6 209.1 \" fill=\"#000000\"/>\n",
       "<path class=\"atom-9\" d=\"M 184.7 152.8 L 188.5 152.8 L 188.5 164.8 L 203.0 164.8 L 203.0 152.8 L 206.8 152.8 L 206.8 181.1 L 203.0 181.1 L 203.0 168.0 L 188.5 168.0 L 188.5 181.1 L 184.7 181.1 L 184.7 152.8 \" fill=\"#000000\"/>\n",
       "<path class=\"atom-10\" d=\"M 134.5 127.8 L 138.4 127.8 L 138.4 139.8 L 152.8 139.8 L 152.8 127.8 L 156.7 127.8 L 156.7 156.1 L 152.8 156.1 L 152.8 143.0 L 138.4 143.0 L 138.4 156.1 L 134.5 156.1 L 134.5 127.8 \" fill=\"#000000\"/>\n",
       "<path class=\"atom-11\" d=\"M 116.2 65.8 L 120.1 65.8 L 120.1 77.8 L 134.5 77.8 L 134.5 65.8 L 138.4 65.8 L 138.4 94.1 L 134.5 94.1 L 134.5 81.0 L 120.1 81.0 L 120.1 94.1 L 116.2 94.1 L 116.2 65.8 \" fill=\"#000000\"/>\n",
       "<path class=\"atom-12\" d=\"M 194.2 15.0 L 198.0 15.0 L 198.0 27.0 L 212.5 27.0 L 212.5 15.0 L 216.3 15.0 L 216.3 43.3 L 212.5 43.3 L 212.5 30.2 L 198.0 30.2 L 198.0 43.3 L 194.2 43.3 L 194.2 15.0 \" fill=\"#000000\"/>\n",
       "</svg>"
      ],
      "text/plain": [
       "<IPython.core.display.SVG object>"
      ]
     },
     "execution_count": 19,
     "metadata": {},
     "output_type": "execute_result"
    }
   ],
   "source": [
    "from openmm.app.pdbfile import PDBFile\n",
    "\n",
    "openmm_topology = PDBFile(\"zw_l_alanine.pdb\").getTopology()\n",
    "openff_topology = Topology.from_openmm(openmm_topology, unique_molecules=[zw_l_alanine])\n",
    "\n",
    "from_openmm_topology = openff_topology.molecule(0)\n",
    "\n",
    "assert zw_l_alanine.is_isomorphic_with(from_openmm_topology)\n",
    "\n",
    "from_openmm_topology.visualize()"
   ]
  },
  {
   "cell_type": "markdown",
   "id": "39e06787",
   "metadata": {},
   "source": [
    "### From an MDTraj `Topology`\n",
    "\n",
    "The [`Topology.from_mdtraj()`](openff.toolkit.topology.Topology.from_mdtraj) method can also be used to create an OpenFF `Topology` from an MDTraj [`Topology`](mdtraj.Topology). This method has similar restrictions and behavior as [`Topology.from_openmm`](openff.toolkit.topology.Topology.from_openmm)."
   ]
  },
  {
   "cell_type": "code",
   "execution_count": 20,
   "id": "68ee9ed2",
   "metadata": {},
   "outputs": [
    {
     "data": {
      "image/svg+xml": [
       "<svg xmlns=\"http://www.w3.org/2000/svg\" xmlns:rdkit=\"http://www.rdkit.org/xml\" xmlns:xlink=\"http://www.w3.org/1999/xlink\" version=\"1.1\" baseProfile=\"full\" xml:space=\"preserve\" width=\"500px\" height=\"300px\" viewBox=\"0 0 500 300\">\n",
       "<!-- END OF HEADER -->\n",
       "<rect style=\"opacity:1.0;fill:#FFFFFF;stroke:none\" width=\"500.0\" height=\"300.0\" x=\"0.0\" y=\"0.0\"> </rect>\n",
       "<path class=\"bond-0 atom-0 atom-2\" d=\"M 205.2,105.3 L 227.2,124.1\" style=\"fill:none;fill-rule:evenodd;stroke:#0000FF;stroke-width:2.0px;stroke-linecap:butt;stroke-linejoin:miter;stroke-opacity:1\"/>\n",
       "<path class=\"bond-0 atom-0 atom-2\" d=\"M 227.2,124.1 L 249.2,142.9\" style=\"fill:none;fill-rule:evenodd;stroke:#000000;stroke-width:2.0px;stroke-linecap:butt;stroke-linejoin:miter;stroke-opacity:1\"/>\n",
       "<path class=\"bond-1 atom-0 atom-10\" d=\"M 179.4,107.5 L 169.1,117.9\" style=\"fill:none;fill-rule:evenodd;stroke:#0000FF;stroke-width:2.0px;stroke-linecap:butt;stroke-linejoin:miter;stroke-opacity:1\"/>\n",
       "<path class=\"bond-1 atom-0 atom-10\" d=\"M 169.1,117.9 L 158.9,128.4\" style=\"fill:none;fill-rule:evenodd;stroke:#000000;stroke-width:2.0px;stroke-linecap:butt;stroke-linejoin:miter;stroke-opacity:1\"/>\n",
       "<path class=\"bond-2 atom-0 atom-11\" d=\"M 179.4,91.4 L 160.0,87.1\" style=\"fill:none;fill-rule:evenodd;stroke:#0000FF;stroke-width:2.0px;stroke-linecap:butt;stroke-linejoin:miter;stroke-opacity:1\"/>\n",
       "<path class=\"bond-2 atom-0 atom-11\" d=\"M 160.0,87.1 L 140.6,82.9\" style=\"fill:none;fill-rule:evenodd;stroke:#000000;stroke-width:2.0px;stroke-linecap:butt;stroke-linejoin:miter;stroke-opacity:1\"/>\n",
       "<path class=\"bond-3 atom-0 atom-12\" d=\"M 195.5,77.9 L 198.8,61.7\" style=\"fill:none;fill-rule:evenodd;stroke:#0000FF;stroke-width:2.0px;stroke-linecap:butt;stroke-linejoin:miter;stroke-opacity:1\"/>\n",
       "<path class=\"bond-3 atom-0 atom-12\" d=\"M 198.8,61.7 L 202.0,45.5\" style=\"fill:none;fill-rule:evenodd;stroke:#000000;stroke-width:2.0px;stroke-linecap:butt;stroke-linejoin:miter;stroke-opacity:1\"/>\n",
       "<path class=\"bond-4 atom-1 atom-2\" d=\"M 268.8,206.3 L 249.2,142.9\" style=\"fill:none;fill-rule:evenodd;stroke:#000000;stroke-width:2.0px;stroke-linecap:butt;stroke-linejoin:miter;stroke-opacity:1\"/>\n",
       "<path class=\"bond-5 atom-1 atom-6\" d=\"M 268.8,206.3 L 217.3,220.6\" style=\"fill:none;fill-rule:evenodd;stroke:#000000;stroke-width:2.0px;stroke-linecap:butt;stroke-linejoin:miter;stroke-opacity:1\"/>\n",
       "<path class=\"bond-6 atom-1 atom-7\" d=\"M 268.8,206.3 L 255.5,254.5\" style=\"fill:none;fill-rule:evenodd;stroke:#000000;stroke-width:2.0px;stroke-linecap:butt;stroke-linejoin:miter;stroke-opacity:1\"/>\n",
       "<path class=\"bond-7 atom-1 atom-8\" d=\"M 268.8,206.3 L 319.4,219.7\" style=\"fill:none;fill-rule:evenodd;stroke:#000000;stroke-width:2.0px;stroke-linecap:butt;stroke-linejoin:miter;stroke-opacity:1\"/>\n",
       "<path class=\"bond-8 atom-2 atom-3\" d=\"M 249.2,142.9 L 292.1,93.8\" style=\"fill:none;fill-rule:evenodd;stroke:#000000;stroke-width:2.0px;stroke-linecap:butt;stroke-linejoin:miter;stroke-opacity:1\"/>\n",
       "<path class=\"bond-9 atom-2 atom-9\" d=\"M 249.2,142.9 L 213.2,164.5 L 209.1,155.4 Z\" style=\"fill:#000000;fill-rule:evenodd;fill-opacity:1;stroke:#000000;stroke-width:0.5px;stroke-linecap:butt;stroke-linejoin:miter;stroke-opacity:1;\"/>\n",
       "<path class=\"bond-10 atom-3 atom-4\" d=\"M 297.8,94.9 L 289.4,70.6\" style=\"fill:none;fill-rule:evenodd;stroke:#000000;stroke-width:2.0px;stroke-linecap:butt;stroke-linejoin:miter;stroke-opacity:1\"/>\n",
       "<path class=\"bond-10 atom-3 atom-4\" d=\"M 289.4,70.6 L 280.9,46.4\" style=\"fill:none;fill-rule:evenodd;stroke:#FF0000;stroke-width:2.0px;stroke-linecap:butt;stroke-linejoin:miter;stroke-opacity:1\"/>\n",
       "<path class=\"bond-10 atom-3 atom-4\" d=\"M 288.4,98.1 L 279.9,73.9\" style=\"fill:none;fill-rule:evenodd;stroke:#000000;stroke-width:2.0px;stroke-linecap:butt;stroke-linejoin:miter;stroke-opacity:1\"/>\n",
       "<path class=\"bond-10 atom-3 atom-4\" d=\"M 279.9,73.9 L 271.5,49.6\" style=\"fill:none;fill-rule:evenodd;stroke:#FF0000;stroke-width:2.0px;stroke-linecap:butt;stroke-linejoin:miter;stroke-opacity:1\"/>\n",
       "<path class=\"bond-11 atom-3 atom-5\" d=\"M 292.1,93.8 L 317.0,98.7\" style=\"fill:none;fill-rule:evenodd;stroke:#000000;stroke-width:2.0px;stroke-linecap:butt;stroke-linejoin:miter;stroke-opacity:1\"/>\n",
       "<path class=\"bond-11 atom-3 atom-5\" d=\"M 317.0,98.7 L 341.9,103.6\" style=\"fill:none;fill-rule:evenodd;stroke:#FF0000;stroke-width:2.0px;stroke-linecap:butt;stroke-linejoin:miter;stroke-opacity:1\"/>\n",
       "<path d=\"M 290.0,96.2 L 292.1,93.8 L 293.4,94.0\" style=\"fill:none;stroke:#000000;stroke-width:2.0px;stroke-linecap:butt;stroke-linejoin:miter;stroke-opacity:1;\"/>\n",
       "<path class=\"atom-0\" d=\"M 186.0 80.1 L 195.3 95.1 Q 196.2 96.6, 197.7 99.3 Q 199.2 101.9, 199.3 102.1 L 199.3 80.1 L 203.0 80.1 L 203.0 108.4 L 199.1 108.4 L 189.2 92.0 Q 188.0 90.1, 186.8 87.9 Q 185.6 85.7, 185.2 85.0 L 185.2 108.4 L 181.6 108.4 L 181.6 80.1 L 186.0 80.1 \" fill=\"#0000FF\"/>\n",
       "<path class=\"atom-0\" d=\"M 208.3 85.2 L 213.3 85.2 L 213.3 80.0 L 215.5 80.0 L 215.5 85.2 L 220.7 85.2 L 220.7 87.1 L 215.5 87.1 L 215.5 92.4 L 213.3 92.4 L 213.3 87.1 L 208.3 87.1 L 208.3 85.2 \" fill=\"#0000FF\"/>\n",
       "<path class=\"atom-4\" d=\"M 257.3 31.2 Q 257.3 24.4, 260.7 20.6 Q 264.0 16.8, 270.3 16.8 Q 276.6 16.8, 279.9 20.6 Q 283.3 24.4, 283.3 31.2 Q 283.3 38.0, 279.9 41.9 Q 276.5 45.8, 270.3 45.8 Q 264.1 45.8, 260.7 41.9 Q 257.3 38.1, 257.3 31.2 M 270.3 42.6 Q 274.6 42.6, 276.9 39.7 Q 279.3 36.8, 279.3 31.2 Q 279.3 25.6, 276.9 22.8 Q 274.6 20.0, 270.3 20.0 Q 266.0 20.0, 263.6 22.8 Q 261.3 25.6, 261.3 31.2 Q 261.3 36.9, 263.6 39.7 Q 266.0 42.6, 270.3 42.6 \" fill=\"#FF0000\"/>\n",
       "<path class=\"atom-5\" d=\"M 344.1 106.7 Q 344.1 99.9, 347.4 96.1 Q 350.8 92.3, 357.1 92.3 Q 363.3 92.3, 366.7 96.1 Q 370.1 99.9, 370.1 106.7 Q 370.1 113.6, 366.7 117.5 Q 363.3 121.4, 357.1 121.4 Q 350.8 121.4, 347.4 117.5 Q 344.1 113.6, 344.1 106.7 M 357.1 118.2 Q 361.4 118.2, 363.7 115.3 Q 366.1 112.4, 366.1 106.7 Q 366.1 101.2, 363.7 98.4 Q 361.4 95.5, 357.1 95.5 Q 352.8 95.5, 350.4 98.3 Q 348.1 101.1, 348.1 106.7 Q 348.1 112.4, 350.4 115.3 Q 352.8 118.2, 357.1 118.2 \" fill=\"#FF0000\"/>\n",
       "<path class=\"atom-5\" d=\"M 374.1 96.9 L 383.8 96.9 L 383.8 99.1 L 374.1 99.1 L 374.1 96.9 \" fill=\"#FF0000\"/>\n",
       "<path class=\"atom-6\" d=\"M 193.0 210.1 L 196.8 210.1 L 196.8 222.1 L 211.3 222.1 L 211.3 210.1 L 215.1 210.1 L 215.1 238.4 L 211.3 238.4 L 211.3 225.3 L 196.8 225.3 L 196.8 238.4 L 193.0 238.4 L 193.0 210.1 \" fill=\"#000000\"/>\n",
       "<path class=\"atom-7\" d=\"M 239.9 256.7 L 243.8 256.7 L 243.8 268.7 L 258.2 268.7 L 258.2 256.7 L 262.1 256.7 L 262.1 285.0 L 258.2 285.0 L 258.2 271.9 L 243.8 271.9 L 243.8 285.0 L 239.9 285.0 L 239.9 256.7 \" fill=\"#000000\"/>\n",
       "<path class=\"atom-8\" d=\"M 321.6 209.1 L 325.5 209.1 L 325.5 221.1 L 339.9 221.1 L 339.9 209.1 L 343.8 209.1 L 343.8 237.4 L 339.9 237.4 L 339.9 224.3 L 325.5 224.3 L 325.5 237.4 L 321.6 237.4 L 321.6 209.1 \" fill=\"#000000\"/>\n",
       "<path class=\"atom-9\" d=\"M 184.7 152.8 L 188.5 152.8 L 188.5 164.8 L 203.0 164.8 L 203.0 152.8 L 206.8 152.8 L 206.8 181.1 L 203.0 181.1 L 203.0 168.0 L 188.5 168.0 L 188.5 181.1 L 184.7 181.1 L 184.7 152.8 \" fill=\"#000000\"/>\n",
       "<path class=\"atom-10\" d=\"M 134.5 127.8 L 138.4 127.8 L 138.4 139.8 L 152.8 139.8 L 152.8 127.8 L 156.7 127.8 L 156.7 156.1 L 152.8 156.1 L 152.8 143.0 L 138.4 143.0 L 138.4 156.1 L 134.5 156.1 L 134.5 127.8 \" fill=\"#000000\"/>\n",
       "<path class=\"atom-11\" d=\"M 116.2 65.8 L 120.1 65.8 L 120.1 77.8 L 134.5 77.8 L 134.5 65.8 L 138.4 65.8 L 138.4 94.1 L 134.5 94.1 L 134.5 81.0 L 120.1 81.0 L 120.1 94.1 L 116.2 94.1 L 116.2 65.8 \" fill=\"#000000\"/>\n",
       "<path class=\"atom-12\" d=\"M 194.2 15.0 L 198.0 15.0 L 198.0 27.0 L 212.5 27.0 L 212.5 15.0 L 216.3 15.0 L 216.3 43.3 L 212.5 43.3 L 212.5 30.2 L 198.0 30.2 L 198.0 43.3 L 194.2 43.3 L 194.2 15.0 \" fill=\"#000000\"/>\n",
       "</svg>"
      ],
      "text/plain": [
       "<IPython.core.display.SVG object>"
      ]
     },
     "execution_count": 20,
     "metadata": {},
     "output_type": "execute_result"
    }
   ],
   "source": [
    "from mdtraj import load_pdb\n",
    "\n",
    "mdtraj_topology = load_pdb(\"zw_l_alanine.pdb\").topology\n",
    "openff_topology = Topology.from_mdtraj(mdtraj_topology, unique_molecules=[zw_l_alanine])\n",
    "\n",
    "from_mdtraj_topology = openff_topology.molecule(0)\n",
    "\n",
    "assert zw_l_alanine.is_isomorphic_with(from_mdtraj_topology)\n",
    "\n",
    "from_mdtraj_topology.visualize()"
   ]
  },
  {
   "cell_type": "markdown",
   "id": "29c39bd1",
   "metadata": {},
   "source": [
    "## From Toolkit objects\n",
    "\n",
    "The OpenFF Toolkit calls out to other software to perform low-level tasks like reading SMILES or files. These external software packages are called toolkits, and presently include [RDKit](https://www.rdkit.org/) and the [OpenEye Toolkit](https://www.eyesopen.com/toolkit-development). OpenFF `Molecule` objects can be created from the equivalent objects in these toolkits."
   ]
  },
  {
   "cell_type": "markdown",
   "id": "c6f2af84",
   "metadata": {},
   "source": [
    "### From RDKit `Mol`\n",
    "\n",
    "The [`Molecule.from_rdkit()`](openff.toolkit.topology.Molecule.from_rdkit) method converts an [`rdkit.Chem.rdchem.Mol`](rdkit.Chem.rdchem.Mol) object to an OpenFF `Molecule`."
   ]
  },
  {
   "cell_type": "code",
   "execution_count": 21,
   "id": "fae232e6",
   "metadata": {},
   "outputs": [
    {
     "name": "stdout",
     "output_type": "stream",
     "text": [
      "rdmol is of type <class 'rdkit.Chem.rdchem.Mol'>\n"
     ]
    },
    {
     "data": {
      "image/svg+xml": [
       "<svg xmlns=\"http://www.w3.org/2000/svg\" xmlns:rdkit=\"http://www.rdkit.org/xml\" xmlns:xlink=\"http://www.w3.org/1999/xlink\" version=\"1.1\" baseProfile=\"full\" xml:space=\"preserve\" width=\"500px\" height=\"300px\" viewBox=\"0 0 500 300\">\n",
       "<!-- END OF HEADER -->\n",
       "<rect style=\"opacity:1.0;fill:#FFFFFF;stroke:none\" width=\"500.0\" height=\"300.0\" x=\"0.0\" y=\"0.0\"> </rect>\n",
       "<path class=\"bond-0 atom-0 atom-1\" d=\"M 276.2,80.8 L 256.0,148.4\" style=\"fill:none;fill-rule:evenodd;stroke:#000000;stroke-width:2.0px;stroke-linecap:butt;stroke-linejoin:miter;stroke-opacity:1\"/>\n",
       "<path class=\"bond-1 atom-1 atom-2\" d=\"M 256.0,148.4 L 235.5,166.3\" style=\"fill:none;fill-rule:evenodd;stroke:#000000;stroke-width:2.0px;stroke-linecap:butt;stroke-linejoin:miter;stroke-opacity:1\"/>\n",
       "<path class=\"bond-1 atom-1 atom-2\" d=\"M 235.5,166.3 L 215.0,184.1\" style=\"fill:none;fill-rule:evenodd;stroke:#0000FF;stroke-width:2.0px;stroke-linecap:butt;stroke-linejoin:miter;stroke-opacity:1\"/>\n",
       "<path class=\"bond-2 atom-1 atom-3\" d=\"M 256.0,148.4 L 302.2,200.2\" style=\"fill:none;fill-rule:evenodd;stroke:#000000;stroke-width:2.0px;stroke-linecap:butt;stroke-linejoin:miter;stroke-opacity:1\"/>\n",
       "<path class=\"bond-3 atom-3 atom-4\" d=\"M 302.2,200.2 L 293.8,225.4\" style=\"fill:none;fill-rule:evenodd;stroke:#000000;stroke-width:2.0px;stroke-linecap:butt;stroke-linejoin:miter;stroke-opacity:1\"/>\n",
       "<path class=\"bond-3 atom-3 atom-4\" d=\"M 293.8,225.4 L 285.3,250.6\" style=\"fill:none;fill-rule:evenodd;stroke:#FF0000;stroke-width:2.0px;stroke-linecap:butt;stroke-linejoin:miter;stroke-opacity:1\"/>\n",
       "<path class=\"bond-4 atom-3 atom-5\" d=\"M 300.3,206.1 L 328.6,200.1\" style=\"fill:none;fill-rule:evenodd;stroke:#000000;stroke-width:2.0px;stroke-linecap:butt;stroke-linejoin:miter;stroke-opacity:1\"/>\n",
       "<path class=\"bond-4 atom-3 atom-5\" d=\"M 328.6,200.1 L 357.0,194.2\" style=\"fill:none;fill-rule:evenodd;stroke:#FF0000;stroke-width:2.0px;stroke-linecap:butt;stroke-linejoin:miter;stroke-opacity:1\"/>\n",
       "<path class=\"bond-4 atom-3 atom-5\" d=\"M 298.2,195.7 L 326.5,189.8\" style=\"fill:none;fill-rule:evenodd;stroke:#000000;stroke-width:2.0px;stroke-linecap:butt;stroke-linejoin:miter;stroke-opacity:1\"/>\n",
       "<path class=\"bond-4 atom-3 atom-5\" d=\"M 326.5,189.8 L 354.8,183.8\" style=\"fill:none;fill-rule:evenodd;stroke:#FF0000;stroke-width:2.0px;stroke-linecap:butt;stroke-linejoin:miter;stroke-opacity:1\"/>\n",
       "<path class=\"bond-5 atom-0 atom-6\" d=\"M 276.2,80.8 L 330.7,95.3\" style=\"fill:none;fill-rule:evenodd;stroke:#000000;stroke-width:2.0px;stroke-linecap:butt;stroke-linejoin:miter;stroke-opacity:1\"/>\n",
       "<path class=\"bond-6 atom-0 atom-7\" d=\"M 276.2,80.8 L 311.8,44.0\" style=\"fill:none;fill-rule:evenodd;stroke:#000000;stroke-width:2.0px;stroke-linecap:butt;stroke-linejoin:miter;stroke-opacity:1\"/>\n",
       "<path class=\"bond-7 atom-0 atom-8\" d=\"M 276.2,80.8 L 238.7,43.9\" style=\"fill:none;fill-rule:evenodd;stroke:#000000;stroke-width:2.0px;stroke-linecap:butt;stroke-linejoin:miter;stroke-opacity:1\"/>\n",
       "<path class=\"bond-8 atom-1 atom-9\" d=\"M 252.7,147.4 L 253.0,146.7\" style=\"fill:none;fill-rule:evenodd;stroke:#000000;stroke-width:1.0px;stroke-linecap:butt;stroke-linejoin:miter;stroke-opacity:1\"/>\n",
       "<path class=\"bond-8 atom-1 atom-9\" d=\"M 249.3,146.4 L 250.0,144.9\" style=\"fill:none;fill-rule:evenodd;stroke:#000000;stroke-width:1.0px;stroke-linecap:butt;stroke-linejoin:miter;stroke-opacity:1\"/>\n",
       "<path class=\"bond-8 atom-1 atom-9\" d=\"M 246.0,145.4 L 247.0,143.1\" style=\"fill:none;fill-rule:evenodd;stroke:#000000;stroke-width:1.0px;stroke-linecap:butt;stroke-linejoin:miter;stroke-opacity:1\"/>\n",
       "<path class=\"bond-8 atom-1 atom-9\" d=\"M 242.6,144.3 L 243.9,141.3\" style=\"fill:none;fill-rule:evenodd;stroke:#000000;stroke-width:1.0px;stroke-linecap:butt;stroke-linejoin:miter;stroke-opacity:1\"/>\n",
       "<path class=\"bond-8 atom-1 atom-9\" d=\"M 239.3,143.3 L 240.9,139.6\" style=\"fill:none;fill-rule:evenodd;stroke:#000000;stroke-width:1.0px;stroke-linecap:butt;stroke-linejoin:miter;stroke-opacity:1\"/>\n",
       "<path class=\"bond-8 atom-1 atom-9\" d=\"M 235.9,142.3 L 237.9,137.8\" style=\"fill:none;fill-rule:evenodd;stroke:#000000;stroke-width:1.0px;stroke-linecap:butt;stroke-linejoin:miter;stroke-opacity:1\"/>\n",
       "<path class=\"bond-8 atom-1 atom-9\" d=\"M 232.6,141.3 L 234.9,136.0\" style=\"fill:none;fill-rule:evenodd;stroke:#000000;stroke-width:1.0px;stroke-linecap:butt;stroke-linejoin:miter;stroke-opacity:1\"/>\n",
       "<path class=\"bond-8 atom-1 atom-9\" d=\"M 229.3,140.2 L 231.9,134.3\" style=\"fill:none;fill-rule:evenodd;stroke:#000000;stroke-width:1.0px;stroke-linecap:butt;stroke-linejoin:miter;stroke-opacity:1\"/>\n",
       "<path class=\"bond-8 atom-1 atom-9\" d=\"M 225.9,139.2 L 228.9,132.5\" style=\"fill:none;fill-rule:evenodd;stroke:#000000;stroke-width:1.0px;stroke-linecap:butt;stroke-linejoin:miter;stroke-opacity:1\"/>\n",
       "<path class=\"bond-8 atom-1 atom-9\" d=\"M 222.6,138.2 L 225.9,130.7\" style=\"fill:none;fill-rule:evenodd;stroke:#000000;stroke-width:1.0px;stroke-linecap:butt;stroke-linejoin:miter;stroke-opacity:1\"/>\n",
       "<path class=\"bond-8 atom-1 atom-9\" d=\"M 219.2,137.2 L 222.9,128.9\" style=\"fill:none;fill-rule:evenodd;stroke:#000000;stroke-width:1.0px;stroke-linecap:butt;stroke-linejoin:miter;stroke-opacity:1\"/>\n",
       "<path class=\"bond-8 atom-1 atom-9\" d=\"M 215.9,136.1 L 219.8,127.2\" style=\"fill:none;fill-rule:evenodd;stroke:#000000;stroke-width:1.0px;stroke-linecap:butt;stroke-linejoin:miter;stroke-opacity:1\"/>\n",
       "<path class=\"bond-8 atom-1 atom-9\" d=\"M 212.6,135.1 L 216.8,125.4\" style=\"fill:none;fill-rule:evenodd;stroke:#000000;stroke-width:1.0px;stroke-linecap:butt;stroke-linejoin:miter;stroke-opacity:1\"/>\n",
       "<path class=\"bond-9 atom-2 atom-10\" d=\"M 182.8,187.6 L 171.0,175.7\" style=\"fill:none;fill-rule:evenodd;stroke:#0000FF;stroke-width:2.0px;stroke-linecap:butt;stroke-linejoin:miter;stroke-opacity:1\"/>\n",
       "<path class=\"bond-9 atom-2 atom-10\" d=\"M 171.0,175.7 L 159.2,163.8\" style=\"fill:none;fill-rule:evenodd;stroke:#000000;stroke-width:2.0px;stroke-linecap:butt;stroke-linejoin:miter;stroke-opacity:1\"/>\n",
       "<path class=\"bond-10 atom-2 atom-11\" d=\"M 182.8,203.7 L 161.6,208.6\" style=\"fill:none;fill-rule:evenodd;stroke:#0000FF;stroke-width:2.0px;stroke-linecap:butt;stroke-linejoin:miter;stroke-opacity:1\"/>\n",
       "<path class=\"bond-10 atom-2 atom-11\" d=\"M 161.6,208.6 L 140.3,213.5\" style=\"fill:none;fill-rule:evenodd;stroke:#000000;stroke-width:2.0px;stroke-linecap:butt;stroke-linejoin:miter;stroke-opacity:1\"/>\n",
       "<path class=\"bond-11 atom-2 atom-12\" d=\"M 199.3,217.2 L 203.1,235.3\" style=\"fill:none;fill-rule:evenodd;stroke:#0000FF;stroke-width:2.0px;stroke-linecap:butt;stroke-linejoin:miter;stroke-opacity:1\"/>\n",
       "<path class=\"bond-11 atom-2 atom-12\" d=\"M 203.1,235.3 L 206.9,253.4\" style=\"fill:none;fill-rule:evenodd;stroke:#000000;stroke-width:2.0px;stroke-linecap:butt;stroke-linejoin:miter;stroke-opacity:1\"/>\n",
       "<path d=\"M 299.9,197.6 L 302.2,200.2 L 301.8,201.5\" style=\"fill:none;stroke:#000000;stroke-width:2.0px;stroke-linecap:butt;stroke-linejoin:miter;stroke-opacity:1;\"/>\n",
       "<path class=\"atom-2\" d=\"M 189.7 186.6 L 198.9 201.6 Q 199.9 203.1, 201.3 205.7 Q 202.8 208.4, 202.9 208.6 L 202.9 186.6 L 206.7 186.6 L 206.7 214.9 L 202.8 214.9 L 192.8 198.5 Q 191.7 196.6, 190.4 194.4 Q 189.2 192.2, 188.9 191.5 L 188.9 214.9 L 185.2 214.9 L 185.2 186.6 L 189.7 186.6 \" fill=\"#0000FF\"/>\n",
       "<path class=\"atom-2\" d=\"M 212.0 191.7 L 217.0 191.7 L 217.0 186.4 L 219.2 186.4 L 219.2 191.7 L 224.3 191.7 L 224.3 193.6 L 219.2 193.6 L 219.2 198.9 L 217.0 198.9 L 217.0 193.6 L 212.0 193.6 L 212.0 191.7 \" fill=\"#0000FF\"/>\n",
       "<path class=\"atom-4\" d=\"M 266.7 267.3 Q 266.7 260.5, 270.0 256.7 Q 273.4 252.9, 279.7 252.9 Q 286.0 252.9, 289.3 256.7 Q 292.7 260.5, 292.7 267.3 Q 292.7 274.2, 289.3 278.1 Q 285.9 282.0, 279.7 282.0 Q 273.4 282.0, 270.0 278.1 Q 266.7 274.2, 266.7 267.3 M 279.7 278.8 Q 284.0 278.8, 286.3 275.9 Q 288.7 273.0, 288.7 267.3 Q 288.7 261.8, 286.3 259.0 Q 284.0 256.1, 279.7 256.1 Q 275.4 256.1, 273.0 258.9 Q 270.7 261.7, 270.7 267.3 Q 270.7 273.0, 273.0 275.9 Q 275.4 278.8, 279.7 278.8 \" fill=\"#FF0000\"/>\n",
       "<path class=\"atom-4\" d=\"M 296.7 257.6 L 306.4 257.6 L 306.4 259.7 L 296.7 259.7 L 296.7 257.6 \" fill=\"#FF0000\"/>\n",
       "<path class=\"atom-5\" d=\"M 358.2 185.9 Q 358.2 179.1, 361.6 175.3 Q 364.9 171.5, 371.2 171.5 Q 377.5 171.5, 380.9 175.3 Q 384.2 179.1, 384.2 185.9 Q 384.2 192.8, 380.8 196.7 Q 377.4 200.6, 371.2 200.6 Q 365.0 200.6, 361.6 196.7 Q 358.2 192.8, 358.2 185.9 M 371.2 197.4 Q 375.5 197.4, 377.9 194.5 Q 380.2 191.6, 380.2 185.9 Q 380.2 180.3, 377.9 177.5 Q 375.5 174.7, 371.2 174.7 Q 366.9 174.7, 364.5 177.5 Q 362.2 180.3, 362.2 185.9 Q 362.2 191.6, 364.5 194.5 Q 366.9 197.4, 371.2 197.4 \" fill=\"#FF0000\"/>\n",
       "<path class=\"atom-6\" d=\"M 333.0 84.7 L 336.8 84.7 L 336.8 96.7 L 351.3 96.7 L 351.3 84.7 L 355.2 84.7 L 355.2 113.0 L 351.3 113.0 L 351.3 99.9 L 336.8 99.9 L 336.8 113.0 L 333.0 113.0 L 333.0 84.7 \" fill=\"#000000\"/>\n",
       "<path class=\"atom-7\" d=\"M 314.1 15.9 L 317.9 15.9 L 317.9 27.9 L 332.4 27.9 L 332.4 15.9 L 336.2 15.9 L 336.2 44.2 L 332.4 44.2 L 332.4 31.1 L 317.9 31.1 L 317.9 44.2 L 314.1 44.2 L 314.1 15.9 \" fill=\"#000000\"/>\n",
       "<path class=\"atom-8\" d=\"M 214.2 16.5 L 218.1 16.5 L 218.1 28.5 L 232.6 28.5 L 232.6 16.5 L 236.4 16.5 L 236.4 44.8 L 232.6 44.8 L 232.6 31.7 L 218.1 31.7 L 218.1 44.8 L 214.2 44.8 L 214.2 16.5 \" fill=\"#000000\"/>\n",
       "<path class=\"atom-9\" d=\"M 187.9 109.2 L 191.7 109.2 L 191.7 121.2 L 206.2 121.2 L 206.2 109.2 L 210.0 109.2 L 210.0 137.5 L 206.2 137.5 L 206.2 124.4 L 191.7 124.4 L 191.7 137.5 L 187.9 137.5 L 187.9 109.2 \" fill=\"#000000\"/>\n",
       "<path class=\"atom-10\" d=\"M 134.7 136.2 L 138.5 136.2 L 138.5 148.2 L 153.0 148.2 L 153.0 136.2 L 156.9 136.2 L 156.9 164.5 L 153.0 164.5 L 153.0 151.4 L 138.5 151.4 L 138.5 164.5 L 134.7 164.5 L 134.7 136.2 \" fill=\"#000000\"/>\n",
       "<path class=\"atom-11\" d=\"M 115.8 202.4 L 119.6 202.4 L 119.6 214.5 L 134.1 214.5 L 134.1 202.4 L 137.9 202.4 L 137.9 230.7 L 134.1 230.7 L 134.1 217.7 L 119.6 217.7 L 119.6 230.7 L 115.8 230.7 L 115.8 202.4 \" fill=\"#000000\"/>\n",
       "<path class=\"atom-12\" d=\"M 199.2 255.8 L 203.1 255.8 L 203.1 267.8 L 217.5 267.8 L 217.5 255.8 L 221.4 255.8 L 221.4 284.1 L 217.5 284.1 L 217.5 271.0 L 203.1 271.0 L 203.1 284.1 L 199.2 284.1 L 199.2 255.8 \" fill=\"#000000\"/>\n",
       "</svg>"
      ],
      "text/plain": [
       "<IPython.core.display.SVG object>"
      ]
     },
     "execution_count": 21,
     "metadata": {},
     "output_type": "execute_result"
    }
   ],
   "source": [
    "from rdkit import Chem\n",
    "\n",
    "rdmol = Chem.MolFromSmiles(\"C[C@H]([NH3+])C([O-])=O\")\n",
    "\n",
    "print(\"rdmol is of type\", type(rdmol))\n",
    "\n",
    "from_rdmol = Molecule.from_rdkit(rdmol)\n",
    "\n",
    "assert zw_l_alanine.is_isomorphic_with(from_rdmol)\n",
    "from_rdmol.visualize()"
   ]
  },
  {
   "cell_type": "markdown",
   "id": "6fe44fac",
   "metadata": {},
   "source": [
    "### From OpenEye `OEMol`\n",
    "\n",
    "The [`Molecule.from_openeye()`](openff.toolkit.topology.Molecule.from_rdkit) method converts an object that inherits from [`openeye.oechem.OEMolBase`](https://docs.eyesopen.com/toolkits/python/oechemtk/OEChemClasses/OEMolBase.html) to an OpenFF `Molecule`."
   ]
  },
  {
   "cell_type": "code",
   "execution_count": 22,
   "id": "c186257f",
   "metadata": {},
   "outputs": [
    {
     "data": {
      "image/svg+xml": [
       "<svg xmlns=\"http://www.w3.org/2000/svg\" xmlns:rdkit=\"http://www.rdkit.org/xml\" xmlns:xlink=\"http://www.w3.org/1999/xlink\" version=\"1.1\" baseProfile=\"full\" xml:space=\"preserve\" width=\"500px\" height=\"300px\" viewBox=\"0 0 500 300\">\n",
       "<!-- END OF HEADER -->\n",
       "<rect style=\"opacity:1.0;fill:#FFFFFF;stroke:none\" width=\"500.0\" height=\"300.0\" x=\"0.0\" y=\"0.0\"> </rect>\n",
       "<path class=\"bond-0 atom-0 atom-1\" d=\"M 276.2,80.8 L 256.0,148.4\" style=\"fill:none;fill-rule:evenodd;stroke:#000000;stroke-width:2.0px;stroke-linecap:butt;stroke-linejoin:miter;stroke-opacity:1\"/>\n",
       "<path class=\"bond-1 atom-1 atom-2\" d=\"M 252.7,147.4 L 253.0,146.7\" style=\"fill:none;fill-rule:evenodd;stroke:#000000;stroke-width:1.0px;stroke-linecap:butt;stroke-linejoin:miter;stroke-opacity:1\"/>\n",
       "<path class=\"bond-1 atom-1 atom-2\" d=\"M 249.3,146.4 L 250.0,144.9\" style=\"fill:none;fill-rule:evenodd;stroke:#000000;stroke-width:1.0px;stroke-linecap:butt;stroke-linejoin:miter;stroke-opacity:1\"/>\n",
       "<path class=\"bond-1 atom-1 atom-2\" d=\"M 246.0,145.4 L 247.0,143.1\" style=\"fill:none;fill-rule:evenodd;stroke:#000000;stroke-width:1.0px;stroke-linecap:butt;stroke-linejoin:miter;stroke-opacity:1\"/>\n",
       "<path class=\"bond-1 atom-1 atom-2\" d=\"M 242.6,144.3 L 243.9,141.3\" style=\"fill:none;fill-rule:evenodd;stroke:#000000;stroke-width:1.0px;stroke-linecap:butt;stroke-linejoin:miter;stroke-opacity:1\"/>\n",
       "<path class=\"bond-1 atom-1 atom-2\" d=\"M 239.3,143.3 L 240.9,139.6\" style=\"fill:none;fill-rule:evenodd;stroke:#000000;stroke-width:1.0px;stroke-linecap:butt;stroke-linejoin:miter;stroke-opacity:1\"/>\n",
       "<path class=\"bond-1 atom-1 atom-2\" d=\"M 235.9,142.3 L 237.9,137.8\" style=\"fill:none;fill-rule:evenodd;stroke:#000000;stroke-width:1.0px;stroke-linecap:butt;stroke-linejoin:miter;stroke-opacity:1\"/>\n",
       "<path class=\"bond-1 atom-1 atom-2\" d=\"M 232.6,141.3 L 234.9,136.0\" style=\"fill:none;fill-rule:evenodd;stroke:#000000;stroke-width:1.0px;stroke-linecap:butt;stroke-linejoin:miter;stroke-opacity:1\"/>\n",
       "<path class=\"bond-1 atom-1 atom-2\" d=\"M 229.3,140.2 L 231.9,134.3\" style=\"fill:none;fill-rule:evenodd;stroke:#000000;stroke-width:1.0px;stroke-linecap:butt;stroke-linejoin:miter;stroke-opacity:1\"/>\n",
       "<path class=\"bond-1 atom-1 atom-2\" d=\"M 225.9,139.2 L 228.9,132.5\" style=\"fill:none;fill-rule:evenodd;stroke:#000000;stroke-width:1.0px;stroke-linecap:butt;stroke-linejoin:miter;stroke-opacity:1\"/>\n",
       "<path class=\"bond-1 atom-1 atom-2\" d=\"M 222.6,138.2 L 225.9,130.7\" style=\"fill:none;fill-rule:evenodd;stroke:#000000;stroke-width:1.0px;stroke-linecap:butt;stroke-linejoin:miter;stroke-opacity:1\"/>\n",
       "<path class=\"bond-1 atom-1 atom-2\" d=\"M 219.2,137.2 L 222.9,128.9\" style=\"fill:none;fill-rule:evenodd;stroke:#000000;stroke-width:1.0px;stroke-linecap:butt;stroke-linejoin:miter;stroke-opacity:1\"/>\n",
       "<path class=\"bond-1 atom-1 atom-2\" d=\"M 215.9,136.1 L 219.8,127.2\" style=\"fill:none;fill-rule:evenodd;stroke:#000000;stroke-width:1.0px;stroke-linecap:butt;stroke-linejoin:miter;stroke-opacity:1\"/>\n",
       "<path class=\"bond-1 atom-1 atom-2\" d=\"M 212.6,135.1 L 216.8,125.4\" style=\"fill:none;fill-rule:evenodd;stroke:#000000;stroke-width:1.0px;stroke-linecap:butt;stroke-linejoin:miter;stroke-opacity:1\"/>\n",
       "<path class=\"bond-2 atom-1 atom-3\" d=\"M 256.0,148.4 L 235.5,166.3\" style=\"fill:none;fill-rule:evenodd;stroke:#000000;stroke-width:2.0px;stroke-linecap:butt;stroke-linejoin:miter;stroke-opacity:1\"/>\n",
       "<path class=\"bond-2 atom-1 atom-3\" d=\"M 235.5,166.3 L 215.0,184.1\" style=\"fill:none;fill-rule:evenodd;stroke:#0000FF;stroke-width:2.0px;stroke-linecap:butt;stroke-linejoin:miter;stroke-opacity:1\"/>\n",
       "<path class=\"bond-3 atom-1 atom-4\" d=\"M 256.0,148.4 L 302.2,200.2\" style=\"fill:none;fill-rule:evenodd;stroke:#000000;stroke-width:2.0px;stroke-linecap:butt;stroke-linejoin:miter;stroke-opacity:1\"/>\n",
       "<path class=\"bond-4 atom-4 atom-5\" d=\"M 302.2,200.2 L 293.8,225.4\" style=\"fill:none;fill-rule:evenodd;stroke:#000000;stroke-width:2.0px;stroke-linecap:butt;stroke-linejoin:miter;stroke-opacity:1\"/>\n",
       "<path class=\"bond-4 atom-4 atom-5\" d=\"M 293.8,225.4 L 285.3,250.6\" style=\"fill:none;fill-rule:evenodd;stroke:#FF0000;stroke-width:2.0px;stroke-linecap:butt;stroke-linejoin:miter;stroke-opacity:1\"/>\n",
       "<path class=\"bond-5 atom-4 atom-6\" d=\"M 300.3,206.1 L 328.6,200.1\" style=\"fill:none;fill-rule:evenodd;stroke:#000000;stroke-width:2.0px;stroke-linecap:butt;stroke-linejoin:miter;stroke-opacity:1\"/>\n",
       "<path class=\"bond-5 atom-4 atom-6\" d=\"M 328.6,200.1 L 357.0,194.2\" style=\"fill:none;fill-rule:evenodd;stroke:#FF0000;stroke-width:2.0px;stroke-linecap:butt;stroke-linejoin:miter;stroke-opacity:1\"/>\n",
       "<path class=\"bond-5 atom-4 atom-6\" d=\"M 298.2,195.7 L 326.5,189.8\" style=\"fill:none;fill-rule:evenodd;stroke:#000000;stroke-width:2.0px;stroke-linecap:butt;stroke-linejoin:miter;stroke-opacity:1\"/>\n",
       "<path class=\"bond-5 atom-4 atom-6\" d=\"M 326.5,189.8 L 354.8,183.8\" style=\"fill:none;fill-rule:evenodd;stroke:#FF0000;stroke-width:2.0px;stroke-linecap:butt;stroke-linejoin:miter;stroke-opacity:1\"/>\n",
       "<path class=\"bond-6 atom-0 atom-7\" d=\"M 276.2,80.8 L 330.7,95.3\" style=\"fill:none;fill-rule:evenodd;stroke:#000000;stroke-width:2.0px;stroke-linecap:butt;stroke-linejoin:miter;stroke-opacity:1\"/>\n",
       "<path class=\"bond-7 atom-0 atom-8\" d=\"M 276.2,80.8 L 311.8,44.0\" style=\"fill:none;fill-rule:evenodd;stroke:#000000;stroke-width:2.0px;stroke-linecap:butt;stroke-linejoin:miter;stroke-opacity:1\"/>\n",
       "<path class=\"bond-8 atom-0 atom-9\" d=\"M 276.2,80.8 L 238.7,43.9\" style=\"fill:none;fill-rule:evenodd;stroke:#000000;stroke-width:2.0px;stroke-linecap:butt;stroke-linejoin:miter;stroke-opacity:1\"/>\n",
       "<path class=\"bond-9 atom-3 atom-10\" d=\"M 182.8,187.6 L 171.0,175.7\" style=\"fill:none;fill-rule:evenodd;stroke:#0000FF;stroke-width:2.0px;stroke-linecap:butt;stroke-linejoin:miter;stroke-opacity:1\"/>\n",
       "<path class=\"bond-9 atom-3 atom-10\" d=\"M 171.0,175.7 L 159.2,163.8\" style=\"fill:none;fill-rule:evenodd;stroke:#000000;stroke-width:2.0px;stroke-linecap:butt;stroke-linejoin:miter;stroke-opacity:1\"/>\n",
       "<path class=\"bond-10 atom-3 atom-11\" d=\"M 182.8,203.7 L 161.6,208.6\" style=\"fill:none;fill-rule:evenodd;stroke:#0000FF;stroke-width:2.0px;stroke-linecap:butt;stroke-linejoin:miter;stroke-opacity:1\"/>\n",
       "<path class=\"bond-10 atom-3 atom-11\" d=\"M 161.6,208.6 L 140.3,213.5\" style=\"fill:none;fill-rule:evenodd;stroke:#000000;stroke-width:2.0px;stroke-linecap:butt;stroke-linejoin:miter;stroke-opacity:1\"/>\n",
       "<path class=\"bond-11 atom-3 atom-12\" d=\"M 199.3,217.2 L 203.1,235.3\" style=\"fill:none;fill-rule:evenodd;stroke:#0000FF;stroke-width:2.0px;stroke-linecap:butt;stroke-linejoin:miter;stroke-opacity:1\"/>\n",
       "<path class=\"bond-11 atom-3 atom-12\" d=\"M 203.1,235.3 L 206.9,253.4\" style=\"fill:none;fill-rule:evenodd;stroke:#000000;stroke-width:2.0px;stroke-linecap:butt;stroke-linejoin:miter;stroke-opacity:1\"/>\n",
       "<path d=\"M 299.9,197.6 L 302.2,200.2 L 301.8,201.5\" style=\"fill:none;stroke:#000000;stroke-width:2.0px;stroke-linecap:butt;stroke-linejoin:miter;stroke-opacity:1;\"/>\n",
       "<path class=\"atom-2\" d=\"M 187.9 109.2 L 191.7 109.2 L 191.7 121.2 L 206.2 121.2 L 206.2 109.2 L 210.0 109.2 L 210.0 137.5 L 206.2 137.5 L 206.2 124.4 L 191.7 124.4 L 191.7 137.5 L 187.9 137.5 L 187.9 109.2 \" fill=\"#000000\"/>\n",
       "<path class=\"atom-3\" d=\"M 189.7 186.6 L 198.9 201.6 Q 199.9 203.1, 201.3 205.7 Q 202.8 208.4, 202.9 208.6 L 202.9 186.6 L 206.7 186.6 L 206.7 214.9 L 202.8 214.9 L 192.8 198.5 Q 191.7 196.6, 190.4 194.4 Q 189.2 192.2, 188.9 191.5 L 188.9 214.9 L 185.2 214.9 L 185.2 186.6 L 189.7 186.6 \" fill=\"#0000FF\"/>\n",
       "<path class=\"atom-3\" d=\"M 212.0 191.7 L 217.0 191.7 L 217.0 186.4 L 219.2 186.4 L 219.2 191.7 L 224.3 191.7 L 224.3 193.6 L 219.2 193.6 L 219.2 198.9 L 217.0 198.9 L 217.0 193.6 L 212.0 193.6 L 212.0 191.7 \" fill=\"#0000FF\"/>\n",
       "<path class=\"atom-5\" d=\"M 266.7 267.3 Q 266.7 260.5, 270.0 256.7 Q 273.4 252.9, 279.7 252.9 Q 286.0 252.9, 289.3 256.7 Q 292.7 260.5, 292.7 267.3 Q 292.7 274.2, 289.3 278.1 Q 285.9 282.0, 279.7 282.0 Q 273.4 282.0, 270.0 278.1 Q 266.7 274.2, 266.7 267.3 M 279.7 278.8 Q 284.0 278.8, 286.3 275.9 Q 288.7 273.0, 288.7 267.3 Q 288.7 261.8, 286.3 259.0 Q 284.0 256.1, 279.7 256.1 Q 275.4 256.1, 273.0 258.9 Q 270.7 261.7, 270.7 267.3 Q 270.7 273.0, 273.0 275.9 Q 275.4 278.8, 279.7 278.8 \" fill=\"#FF0000\"/>\n",
       "<path class=\"atom-5\" d=\"M 296.7 257.6 L 306.4 257.6 L 306.4 259.7 L 296.7 259.7 L 296.7 257.6 \" fill=\"#FF0000\"/>\n",
       "<path class=\"atom-6\" d=\"M 358.2 185.9 Q 358.2 179.1, 361.6 175.3 Q 364.9 171.5, 371.2 171.5 Q 377.5 171.5, 380.9 175.3 Q 384.2 179.1, 384.2 185.9 Q 384.2 192.8, 380.8 196.7 Q 377.4 200.6, 371.2 200.6 Q 365.0 200.6, 361.6 196.7 Q 358.2 192.8, 358.2 185.9 M 371.2 197.4 Q 375.5 197.4, 377.9 194.5 Q 380.2 191.6, 380.2 185.9 Q 380.2 180.3, 377.9 177.5 Q 375.5 174.7, 371.2 174.7 Q 366.9 174.7, 364.5 177.5 Q 362.2 180.3, 362.2 185.9 Q 362.2 191.6, 364.5 194.5 Q 366.9 197.4, 371.2 197.4 \" fill=\"#FF0000\"/>\n",
       "<path class=\"atom-7\" d=\"M 333.0 84.7 L 336.8 84.7 L 336.8 96.7 L 351.3 96.7 L 351.3 84.7 L 355.2 84.7 L 355.2 113.0 L 351.3 113.0 L 351.3 99.9 L 336.8 99.9 L 336.8 113.0 L 333.0 113.0 L 333.0 84.7 \" fill=\"#000000\"/>\n",
       "<path class=\"atom-8\" d=\"M 314.1 15.9 L 317.9 15.9 L 317.9 27.9 L 332.4 27.9 L 332.4 15.9 L 336.2 15.9 L 336.2 44.2 L 332.4 44.2 L 332.4 31.1 L 317.9 31.1 L 317.9 44.2 L 314.1 44.2 L 314.1 15.9 \" fill=\"#000000\"/>\n",
       "<path class=\"atom-9\" d=\"M 214.2 16.5 L 218.1 16.5 L 218.1 28.5 L 232.6 28.5 L 232.6 16.5 L 236.4 16.5 L 236.4 44.8 L 232.6 44.8 L 232.6 31.7 L 218.1 31.7 L 218.1 44.8 L 214.2 44.8 L 214.2 16.5 \" fill=\"#000000\"/>\n",
       "<path class=\"atom-10\" d=\"M 134.7 136.2 L 138.5 136.2 L 138.5 148.2 L 153.0 148.2 L 153.0 136.2 L 156.9 136.2 L 156.9 164.5 L 153.0 164.5 L 153.0 151.4 L 138.5 151.4 L 138.5 164.5 L 134.7 164.5 L 134.7 136.2 \" fill=\"#000000\"/>\n",
       "<path class=\"atom-11\" d=\"M 115.8 202.4 L 119.6 202.4 L 119.6 214.5 L 134.1 214.5 L 134.1 202.4 L 137.9 202.4 L 137.9 230.7 L 134.1 230.7 L 134.1 217.7 L 119.6 217.7 L 119.6 230.7 L 115.8 230.7 L 115.8 202.4 \" fill=\"#000000\"/>\n",
       "<path class=\"atom-12\" d=\"M 199.2 255.8 L 203.1 255.8 L 203.1 267.8 L 217.5 267.8 L 217.5 255.8 L 221.4 255.8 L 221.4 284.1 L 217.5 284.1 L 217.5 271.0 L 203.1 271.0 L 203.1 284.1 L 199.2 284.1 L 199.2 255.8 \" fill=\"#000000\"/>\n",
       "</svg>"
      ],
      "text/plain": [
       "<IPython.core.display.SVG object>"
      ]
     },
     "execution_count": 22,
     "metadata": {},
     "output_type": "execute_result"
    }
   ],
   "source": [
    "from openeye import oechem\n",
    "\n",
    "oemol = oechem.OEGraphMol()\n",
    "oechem.OESmilesToMol(oemol, \"C[C@H]([NH3+])C([O-])=O\")\n",
    "\n",
    "assert isinstance(oemol, oechem.OEMolBase)\n",
    "\n",
    "from_oemol = Molecule.from_openeye(oemol)\n",
    "\n",
    "assert zw_l_alanine.is_isomorphic_with(from_oemol)\n",
    "from_oemol.visualize()"
   ]
  },
  {
   "cell_type": "markdown",
   "id": "15765778",
   "metadata": {},
   "source": [
    "## From QCArchive\n",
    "\n",
    "[QCArchive](https://qcarchive.molssi.org/) is a repository of quantum chemical calculations on small molecules. The [`Molecule.from_qcschema()`](openff.toolkit.topology.Molecule.from_qcschema) method creates a `Molecule` from a record from the archive. Because the identity of a molecule can change of the course of a QC calculation, the Toolkit accepts records only if they contain a hydrogen-mapped SMILES code.\n",
    "\n",
    ":::{note}\n",
    "These examples use molecules other than l-Alanine because of their availability in QCArchive\n",
    ":::"
   ]
  },
  {
   "cell_type": "markdown",
   "id": "0f143a62",
   "metadata": {},
   "source": [
    "### From a QCArchive molecule record\n",
    "\n",
    "The [`Molecule.from_qcschema()`](openff.toolkit.topology.Molecule.from_qcschema) method can take a molecule record queried from the QCArchive and create a `Molecule` from it."
   ]
  },
  {
   "cell_type": "code",
   "execution_count": 23,
   "id": "8e026b0f",
   "metadata": {
    "tags": []
   },
   "outputs": [
    {
     "data": {
      "image/svg+xml": [
       "<svg xmlns=\"http://www.w3.org/2000/svg\" xmlns:rdkit=\"http://www.rdkit.org/xml\" xmlns:xlink=\"http://www.w3.org/1999/xlink\" version=\"1.1\" baseProfile=\"full\" xml:space=\"preserve\" width=\"500px\" height=\"300px\" viewBox=\"0 0 500 300\">\n",
       "<!-- END OF HEADER -->\n",
       "<rect style=\"opacity:1.0;fill:#FFFFFF;stroke:none\" width=\"500.0\" height=\"300.0\" x=\"0.0\" y=\"0.0\"> </rect>\n",
       "<path class=\"bond-0 atom-0 atom-5\" d=\"M 191.1,221.8 L 203.7,221.6\" style=\"fill:none;fill-rule:evenodd;stroke:#FF0000;stroke-width:2.0px;stroke-linecap:butt;stroke-linejoin:miter;stroke-opacity:1\"/>\n",
       "<path class=\"bond-0 atom-0 atom-5\" d=\"M 203.7,221.6 L 216.3,221.5\" style=\"fill:none;fill-rule:evenodd;stroke:#000000;stroke-width:2.0px;stroke-linecap:butt;stroke-linejoin:miter;stroke-opacity:1\"/>\n",
       "<path class=\"bond-0 atom-0 atom-5\" d=\"M 191.2,226.5 L 203.8,226.3\" style=\"fill:none;fill-rule:evenodd;stroke:#FF0000;stroke-width:2.0px;stroke-linecap:butt;stroke-linejoin:miter;stroke-opacity:1\"/>\n",
       "<path class=\"bond-0 atom-0 atom-5\" d=\"M 203.8,226.3 L 216.4,226.2\" style=\"fill:none;fill-rule:evenodd;stroke:#000000;stroke-width:2.0px;stroke-linecap:butt;stroke-linejoin:miter;stroke-opacity:1\"/>\n",
       "<path class=\"bond-1 atom-1 atom-6\" d=\"M 137.9,131.5 L 137.6,143.8\" style=\"fill:none;fill-rule:evenodd;stroke:#FF0000;stroke-width:2.0px;stroke-linecap:butt;stroke-linejoin:miter;stroke-opacity:1\"/>\n",
       "<path class=\"bond-1 atom-1 atom-6\" d=\"M 137.6,143.8 L 137.2,156.2\" style=\"fill:none;fill-rule:evenodd;stroke:#000000;stroke-width:2.0px;stroke-linecap:butt;stroke-linejoin:miter;stroke-opacity:1\"/>\n",
       "<path class=\"bond-1 atom-1 atom-6\" d=\"M 133.2,131.4 L 132.9,143.7\" style=\"fill:none;fill-rule:evenodd;stroke:#FF0000;stroke-width:2.0px;stroke-linecap:butt;stroke-linejoin:miter;stroke-opacity:1\"/>\n",
       "<path class=\"bond-1 atom-1 atom-6\" d=\"M 132.9,143.7 L 132.6,156.1\" style=\"fill:none;fill-rule:evenodd;stroke:#000000;stroke-width:2.0px;stroke-linecap:butt;stroke-linejoin:miter;stroke-opacity:1\"/>\n",
       "<path class=\"bond-2 atom-2 atom-7\" d=\"M 333.4,197.9 L 333.8,185.4\" style=\"fill:none;fill-rule:evenodd;stroke:#FF0000;stroke-width:2.0px;stroke-linecap:butt;stroke-linejoin:miter;stroke-opacity:1\"/>\n",
       "<path class=\"bond-2 atom-2 atom-7\" d=\"M 333.8,185.4 L 334.2,172.9\" style=\"fill:none;fill-rule:evenodd;stroke:#000000;stroke-width:2.0px;stroke-linecap:butt;stroke-linejoin:miter;stroke-opacity:1\"/>\n",
       "<path class=\"bond-2 atom-2 atom-7\" d=\"M 338.1,198.0 L 338.5,185.5\" style=\"fill:none;fill-rule:evenodd;stroke:#FF0000;stroke-width:2.0px;stroke-linecap:butt;stroke-linejoin:miter;stroke-opacity:1\"/>\n",
       "<path class=\"bond-2 atom-2 atom-7\" d=\"M 338.5,185.5 L 338.9,173.0\" style=\"fill:none;fill-rule:evenodd;stroke:#000000;stroke-width:2.0px;stroke-linecap:butt;stroke-linejoin:miter;stroke-opacity:1\"/>\n",
       "<path class=\"bond-3 atom-3 atom-8\" d=\"M 240.6,133.1 L 242.4,145.6\" style=\"fill:none;fill-rule:evenodd;stroke:#FF0000;stroke-width:2.0px;stroke-linecap:butt;stroke-linejoin:miter;stroke-opacity:1\"/>\n",
       "<path class=\"bond-3 atom-3 atom-8\" d=\"M 242.4,145.6 L 244.2,158.1\" style=\"fill:none;fill-rule:evenodd;stroke:#000000;stroke-width:2.0px;stroke-linecap:butt;stroke-linejoin:miter;stroke-opacity:1\"/>\n",
       "<path class=\"bond-3 atom-3 atom-8\" d=\"M 236.0,133.8 L 237.8,146.3\" style=\"fill:none;fill-rule:evenodd;stroke:#FF0000;stroke-width:2.0px;stroke-linecap:butt;stroke-linejoin:miter;stroke-opacity:1\"/>\n",
       "<path class=\"bond-3 atom-3 atom-8\" d=\"M 237.8,146.3 L 239.5,158.2\" style=\"fill:none;fill-rule:evenodd;stroke:#000000;stroke-width:2.0px;stroke-linecap:butt;stroke-linejoin:miter;stroke-opacity:1\"/>\n",
       "<path class=\"bond-4 atom-4 atom-6\" d=\"M 117.8,164.2 L 126.4,159.5\" style=\"fill:none;fill-rule:evenodd;stroke:#FF0000;stroke-width:2.0px;stroke-linecap:butt;stroke-linejoin:miter;stroke-opacity:1\"/>\n",
       "<path class=\"bond-4 atom-4 atom-6\" d=\"M 126.4,159.5 L 134.9,154.8\" style=\"fill:none;fill-rule:evenodd;stroke:#000000;stroke-width:2.0px;stroke-linecap:butt;stroke-linejoin:miter;stroke-opacity:1\"/>\n",
       "<path class=\"bond-5 atom-5 atom-17\" d=\"M 215.0,223.8 L 220.1,214.3\" style=\"fill:none;fill-rule:evenodd;stroke:#000000;stroke-width:2.0px;stroke-linecap:butt;stroke-linejoin:miter;stroke-opacity:1\"/>\n",
       "<path class=\"bond-5 atom-5 atom-17\" d=\"M 220.1,214.3 L 225.2,204.8\" style=\"fill:none;fill-rule:evenodd;stroke:#0000FF;stroke-width:2.0px;stroke-linecap:butt;stroke-linejoin:miter;stroke-opacity:1\"/>\n",
       "<path class=\"bond-6 atom-5 atom-18\" d=\"M 215.0,223.8 L 231.4,251.3\" style=\"fill:none;fill-rule:evenodd;stroke:#000000;stroke-width:2.0px;stroke-linecap:butt;stroke-linejoin:miter;stroke-opacity:1\"/>\n",
       "<path class=\"bond-7 atom-6 atom-19\" d=\"M 134.9,154.8 L 161.1,170.8\" style=\"fill:none;fill-rule:evenodd;stroke:#000000;stroke-width:2.0px;stroke-linecap:butt;stroke-linejoin:miter;stroke-opacity:1\"/>\n",
       "<path class=\"bond-8 atom-7 atom-15\" d=\"M 336.5,174.2 L 348.9,168.1\" style=\"fill:none;fill-rule:evenodd;stroke:#000000;stroke-width:2.0px;stroke-linecap:butt;stroke-linejoin:miter;stroke-opacity:1\"/>\n",
       "<path class=\"bond-8 atom-7 atom-15\" d=\"M 348.9,168.1 L 361.3,162.0\" style=\"fill:none;fill-rule:evenodd;stroke:#0000FF;stroke-width:2.0px;stroke-linecap:butt;stroke-linejoin:miter;stroke-opacity:1\"/>\n",
       "<path class=\"bond-9 atom-7 atom-22\" d=\"M 336.5,174.2 L 306.5,157.0\" style=\"fill:none;fill-rule:evenodd;stroke:#000000;stroke-width:2.0px;stroke-linecap:butt;stroke-linejoin:miter;stroke-opacity:1\"/>\n",
       "<path class=\"bond-10 atom-8 atom-16\" d=\"M 241.7,156.9 L 256.6,164.0\" style=\"fill:none;fill-rule:evenodd;stroke:#000000;stroke-width:2.0px;stroke-linecap:butt;stroke-linejoin:miter;stroke-opacity:1\"/>\n",
       "<path class=\"bond-10 atom-8 atom-16\" d=\"M 256.6,164.0 L 271.6,171.1\" style=\"fill:none;fill-rule:evenodd;stroke:#0000FF;stroke-width:2.0px;stroke-linecap:butt;stroke-linejoin:miter;stroke-opacity:1\"/>\n",
       "<path class=\"bond-11 atom-8 atom-23\" d=\"M 241.7,156.9 L 215.4,172.1\" style=\"fill:none;fill-rule:evenodd;stroke:#000000;stroke-width:2.0px;stroke-linecap:butt;stroke-linejoin:miter;stroke-opacity:1\"/>\n",
       "<path class=\"bond-12 atom-9 atom-10\" d=\"M 270.7,52.3 L 257.2,80.6\" style=\"fill:none;fill-rule:evenodd;stroke:#000000;stroke-width:2.0px;stroke-linecap:butt;stroke-linejoin:miter;stroke-opacity:1\"/>\n",
       "<path class=\"bond-12 atom-9 atom-10\" d=\"M 273.8,56.8 L 262.6,80.2\" style=\"fill:none;fill-rule:evenodd;stroke:#000000;stroke-width:2.0px;stroke-linecap:butt;stroke-linejoin:miter;stroke-opacity:1\"/>\n",
       "<path class=\"bond-13 atom-9 atom-11\" d=\"M 270.7,52.3 L 302.0,50.0\" style=\"fill:none;fill-rule:evenodd;stroke:#000000;stroke-width:2.0px;stroke-linecap:butt;stroke-linejoin:miter;stroke-opacity:1\"/>\n",
       "<path class=\"bond-14 atom-9 atom-24\" d=\"M 270.7,52.3 L 258.3,34.1\" style=\"fill:none;fill-rule:evenodd;stroke:#000000;stroke-width:2.0px;stroke-linecap:butt;stroke-linejoin:miter;stroke-opacity:1\"/>\n",
       "<path class=\"bond-15 atom-10 atom-12\" d=\"M 257.2,80.6 L 274.9,106.6\" style=\"fill:none;fill-rule:evenodd;stroke:#000000;stroke-width:2.0px;stroke-linecap:butt;stroke-linejoin:miter;stroke-opacity:1\"/>\n",
       "<path class=\"bond-16 atom-10 atom-25\" d=\"M 257.2,80.6 L 232.2,82.6\" style=\"fill:none;fill-rule:evenodd;stroke:#000000;stroke-width:2.0px;stroke-linecap:butt;stroke-linejoin:miter;stroke-opacity:1\"/>\n",
       "<path class=\"bond-17 atom-11 atom-13\" d=\"M 302.0,50.0 L 319.8,75.9\" style=\"fill:none;fill-rule:evenodd;stroke:#000000;stroke-width:2.0px;stroke-linecap:butt;stroke-linejoin:miter;stroke-opacity:1\"/>\n",
       "<path class=\"bond-17 atom-11 atom-13\" d=\"M 299.7,54.9 L 314.4,76.3\" style=\"fill:none;fill-rule:evenodd;stroke:#000000;stroke-width:2.0px;stroke-linecap:butt;stroke-linejoin:miter;stroke-opacity:1\"/>\n",
       "<path class=\"bond-18 atom-11 atom-26\" d=\"M 302.0,50.0 L 311.9,29.4\" style=\"fill:none;fill-rule:evenodd;stroke:#000000;stroke-width:2.0px;stroke-linecap:butt;stroke-linejoin:miter;stroke-opacity:1\"/>\n",
       "<path class=\"bond-19 atom-12 atom-14\" d=\"M 274.9,106.6 L 306.1,104.2\" style=\"fill:none;fill-rule:evenodd;stroke:#000000;stroke-width:2.0px;stroke-linecap:butt;stroke-linejoin:miter;stroke-opacity:1\"/>\n",
       "<path class=\"bond-19 atom-12 atom-14\" d=\"M 277.3,101.7 L 303.1,99.8\" style=\"fill:none;fill-rule:evenodd;stroke:#000000;stroke-width:2.0px;stroke-linecap:butt;stroke-linejoin:miter;stroke-opacity:1\"/>\n",
       "<path class=\"bond-20 atom-12 atom-27\" d=\"M 274.9,106.6 L 266.8,125.9\" style=\"fill:none;fill-rule:evenodd;stroke:#000000;stroke-width:2.0px;stroke-linecap:butt;stroke-linejoin:miter;stroke-opacity:1\"/>\n",
       "<path class=\"bond-21 atom-13 atom-14\" d=\"M 319.8,75.9 L 306.1,104.2\" style=\"fill:none;fill-rule:evenodd;stroke:#000000;stroke-width:2.0px;stroke-linecap:butt;stroke-linejoin:miter;stroke-opacity:1\"/>\n",
       "<path class=\"bond-22 atom-13 atom-28\" d=\"M 319.8,75.9 L 344.7,74.0\" style=\"fill:none;fill-rule:evenodd;stroke:#000000;stroke-width:2.0px;stroke-linecap:butt;stroke-linejoin:miter;stroke-opacity:1\"/>\n",
       "<path class=\"bond-23 atom-14 atom-20\" d=\"M 306.1,104.2 L 321.2,129.3\" style=\"fill:none;fill-rule:evenodd;stroke:#000000;stroke-width:2.0px;stroke-linecap:butt;stroke-linejoin:miter;stroke-opacity:1\"/>\n",
       "<path class=\"bond-24 atom-15 atom-29\" d=\"M 373.4,163.1 L 380.2,167.8\" style=\"fill:none;fill-rule:evenodd;stroke:#0000FF;stroke-width:2.0px;stroke-linecap:butt;stroke-linejoin:miter;stroke-opacity:1\"/>\n",
       "<path class=\"bond-24 atom-15 atom-29\" d=\"M 380.2,167.8 L 387.0,172.4\" style=\"fill:none;fill-rule:evenodd;stroke:#000000;stroke-width:2.0px;stroke-linecap:butt;stroke-linejoin:miter;stroke-opacity:1\"/>\n",
       "<path class=\"bond-25 atom-15 atom-30\" d=\"M 368.2,151.3 L 369.0,143.3\" style=\"fill:none;fill-rule:evenodd;stroke:#0000FF;stroke-width:2.0px;stroke-linecap:butt;stroke-linejoin:miter;stroke-opacity:1\"/>\n",
       "<path class=\"bond-25 atom-15 atom-30\" d=\"M 369.0,143.3 L 369.9,135.2\" style=\"fill:none;fill-rule:evenodd;stroke:#000000;stroke-width:2.0px;stroke-linecap:butt;stroke-linejoin:miter;stroke-opacity:1\"/>\n",
       "<path class=\"bond-26 atom-16 atom-22\" d=\"M 283.8,170.4 L 295.1,163.7\" style=\"fill:none;fill-rule:evenodd;stroke:#0000FF;stroke-width:2.0px;stroke-linecap:butt;stroke-linejoin:miter;stroke-opacity:1\"/>\n",
       "<path class=\"bond-26 atom-16 atom-22\" d=\"M 295.1,163.7 L 306.5,157.0\" style=\"fill:none;fill-rule:evenodd;stroke:#000000;stroke-width:2.0px;stroke-linecap:butt;stroke-linejoin:miter;stroke-opacity:1\"/>\n",
       "<path class=\"bond-27 atom-16 atom-31\" d=\"M 278.5,181.7 L 279.3,190.4\" style=\"fill:none;fill-rule:evenodd;stroke:#0000FF;stroke-width:2.0px;stroke-linecap:butt;stroke-linejoin:miter;stroke-opacity:1\"/>\n",
       "<path class=\"bond-27 atom-16 atom-31\" d=\"M 279.3,190.4 L 280.2,199.0\" style=\"fill:none;fill-rule:evenodd;stroke:#000000;stroke-width:2.0px;stroke-linecap:butt;stroke-linejoin:miter;stroke-opacity:1\"/>\n",
       "<path class=\"bond-28 atom-17 atom-23\" d=\"M 225.0,189.4 L 220.2,180.8\" style=\"fill:none;fill-rule:evenodd;stroke:#0000FF;stroke-width:2.0px;stroke-linecap:butt;stroke-linejoin:miter;stroke-opacity:1\"/>\n",
       "<path class=\"bond-28 atom-17 atom-23\" d=\"M 220.2,180.8 L 215.4,172.1\" style=\"fill:none;fill-rule:evenodd;stroke:#000000;stroke-width:2.0px;stroke-linecap:butt;stroke-linejoin:miter;stroke-opacity:1\"/>\n",
       "<path class=\"bond-29 atom-17 atom-32\" d=\"M 235.4,196.9 L 241.9,196.7\" style=\"fill:none;fill-rule:evenodd;stroke:#0000FF;stroke-width:2.0px;stroke-linecap:butt;stroke-linejoin:miter;stroke-opacity:1\"/>\n",
       "<path class=\"bond-29 atom-17 atom-32\" d=\"M 241.9,196.7 L 248.5,196.4\" style=\"fill:none;fill-rule:evenodd;stroke:#000000;stroke-width:2.0px;stroke-linecap:butt;stroke-linejoin:miter;stroke-opacity:1\"/>\n",
       "<path class=\"bond-30 atom-18 atom-33\" d=\"M 231.4,251.3 L 252.6,239.3\" style=\"fill:none;fill-rule:evenodd;stroke:#000000;stroke-width:2.0px;stroke-linecap:butt;stroke-linejoin:miter;stroke-opacity:1\"/>\n",
       "<path class=\"bond-31 atom-18 atom-34\" d=\"M 231.4,251.3 L 252.3,263.7\" style=\"fill:none;fill-rule:evenodd;stroke:#000000;stroke-width:2.0px;stroke-linecap:butt;stroke-linejoin:miter;stroke-opacity:1\"/>\n",
       "<path class=\"bond-32 atom-18 atom-35\" d=\"M 231.4,251.3 L 220.2,270.6\" style=\"fill:none;fill-rule:evenodd;stroke:#000000;stroke-width:2.0px;stroke-linecap:butt;stroke-linejoin:miter;stroke-opacity:1\"/>\n",
       "<path class=\"bond-33 atom-19 atom-21\" d=\"M 161.1,170.8 L 188.7,155.8\" style=\"fill:none;fill-rule:evenodd;stroke:#000000;stroke-width:2.0px;stroke-linecap:butt;stroke-linejoin:miter;stroke-opacity:1\"/>\n",
       "<path class=\"bond-34 atom-19 atom-36\" d=\"M 161.1,170.8 L 171.4,190.3\" style=\"fill:none;fill-rule:evenodd;stroke:#000000;stroke-width:2.0px;stroke-linecap:butt;stroke-linejoin:miter;stroke-opacity:1\"/>\n",
       "<path class=\"bond-35 atom-19 atom-37\" d=\"M 161.1,170.8 L 149.6,189.8\" style=\"fill:none;fill-rule:evenodd;stroke:#000000;stroke-width:2.0px;stroke-linecap:butt;stroke-linejoin:miter;stroke-opacity:1\"/>\n",
       "<path class=\"bond-36 atom-20 atom-22\" d=\"M 321.2,129.3 L 306.5,157.0\" style=\"fill:none;fill-rule:evenodd;stroke:#000000;stroke-width:2.0px;stroke-linecap:butt;stroke-linejoin:miter;stroke-opacity:1\"/>\n",
       "<path class=\"bond-37 atom-20 atom-38\" d=\"M 321.2,129.3 L 337.7,139.0\" style=\"fill:none;fill-rule:evenodd;stroke:#000000;stroke-width:2.0px;stroke-linecap:butt;stroke-linejoin:miter;stroke-opacity:1\"/>\n",
       "<path class=\"bond-38 atom-20 atom-39\" d=\"M 321.2,129.3 L 342.0,117.2\" style=\"fill:none;fill-rule:evenodd;stroke:#000000;stroke-width:2.0px;stroke-linecap:butt;stroke-linejoin:miter;stroke-opacity:1\"/>\n",
       "<path class=\"bond-39 atom-21 atom-23\" d=\"M 188.7,155.8 L 215.4,172.1\" style=\"fill:none;fill-rule:evenodd;stroke:#000000;stroke-width:2.0px;stroke-linecap:butt;stroke-linejoin:miter;stroke-opacity:1\"/>\n",
       "<path class=\"bond-40 atom-21 atom-40\" d=\"M 188.7,155.8 L 200.5,136.5\" style=\"fill:none;fill-rule:evenodd;stroke:#000000;stroke-width:2.0px;stroke-linecap:butt;stroke-linejoin:miter;stroke-opacity:1\"/>\n",
       "<path class=\"bond-41 atom-21 atom-41\" d=\"M 188.7,155.8 L 177.9,135.8\" style=\"fill:none;fill-rule:evenodd;stroke:#000000;stroke-width:2.0px;stroke-linecap:butt;stroke-linejoin:miter;stroke-opacity:1\"/>\n",
       "<path class=\"bond-42 atom-22 atom-42\" d=\"M 304.5,154.4 L 305.2,154.0\" style=\"fill:none;fill-rule:evenodd;stroke:#000000;stroke-width:1.0px;stroke-linecap:butt;stroke-linejoin:miter;stroke-opacity:1\"/>\n",
       "<path class=\"bond-42 atom-22 atom-42\" d=\"M 302.6,151.8 L 303.9,151.0\" style=\"fill:none;fill-rule:evenodd;stroke:#000000;stroke-width:1.0px;stroke-linecap:butt;stroke-linejoin:miter;stroke-opacity:1\"/>\n",
       "<path class=\"bond-42 atom-22 atom-42\" d=\"M 300.6,149.1 L 302.6,148.0\" style=\"fill:none;fill-rule:evenodd;stroke:#000000;stroke-width:1.0px;stroke-linecap:butt;stroke-linejoin:miter;stroke-opacity:1\"/>\n",
       "<path class=\"bond-42 atom-22 atom-42\" d=\"M 298.6,146.5 L 301.4,145.0\" style=\"fill:none;fill-rule:evenodd;stroke:#000000;stroke-width:1.0px;stroke-linecap:butt;stroke-linejoin:miter;stroke-opacity:1\"/>\n",
       "<path class=\"bond-42 atom-22 atom-42\" d=\"M 296.7,143.9 L 300.1,142.0\" style=\"fill:none;fill-rule:evenodd;stroke:#000000;stroke-width:1.0px;stroke-linecap:butt;stroke-linejoin:miter;stroke-opacity:1\"/>\n",
       "<path class=\"bond-42 atom-22 atom-42\" d=\"M 294.7,141.3 L 298.8,139.0\" style=\"fill:none;fill-rule:evenodd;stroke:#000000;stroke-width:1.0px;stroke-linecap:butt;stroke-linejoin:miter;stroke-opacity:1\"/>\n",
       "<path class=\"bond-43 atom-23 atom-43\" d=\"M 214.1,175.1 L 213.4,174.7\" style=\"fill:none;fill-rule:evenodd;stroke:#000000;stroke-width:1.0px;stroke-linecap:butt;stroke-linejoin:miter;stroke-opacity:1\"/>\n",
       "<path class=\"bond-43 atom-23 atom-43\" d=\"M 212.8,178.1 L 211.5,177.3\" style=\"fill:none;fill-rule:evenodd;stroke:#000000;stroke-width:1.0px;stroke-linecap:butt;stroke-linejoin:miter;stroke-opacity:1\"/>\n",
       "<path class=\"bond-43 atom-23 atom-43\" d=\"M 211.5,181.1 L 209.5,179.9\" style=\"fill:none;fill-rule:evenodd;stroke:#000000;stroke-width:1.0px;stroke-linecap:butt;stroke-linejoin:miter;stroke-opacity:1\"/>\n",
       "<path class=\"bond-43 atom-23 atom-43\" d=\"M 210.2,184.1 L 207.5,182.5\" style=\"fill:none;fill-rule:evenodd;stroke:#000000;stroke-width:1.0px;stroke-linecap:butt;stroke-linejoin:miter;stroke-opacity:1\"/>\n",
       "<path class=\"bond-43 atom-23 atom-43\" d=\"M 209.0,187.1 L 205.6,185.1\" style=\"fill:none;fill-rule:evenodd;stroke:#000000;stroke-width:1.0px;stroke-linecap:butt;stroke-linejoin:miter;stroke-opacity:1\"/>\n",
       "<path class=\"bond-43 atom-23 atom-43\" d=\"M 207.7,190.1 L 203.6,187.7\" style=\"fill:none;fill-rule:evenodd;stroke:#000000;stroke-width:1.0px;stroke-linecap:butt;stroke-linejoin:miter;stroke-opacity:1\"/>\n",
       "<path d=\"M 215.2,223.4 L 215.0,223.8 L 215.8,225.2\" style=\"fill:none;stroke:#000000;stroke-width:2.0px;stroke-linecap:butt;stroke-linejoin:miter;stroke-opacity:1;\"/>\n",
       "<path d=\"M 134.5,155.0 L 134.9,154.8 L 136.2,155.6\" style=\"fill:none;stroke:#000000;stroke-width:2.0px;stroke-linecap:butt;stroke-linejoin:miter;stroke-opacity:1;\"/>\n",
       "<path d=\"M 337.1,173.9 L 336.5,174.2 L 335.0,173.3\" style=\"fill:none;stroke:#000000;stroke-width:2.0px;stroke-linecap:butt;stroke-linejoin:miter;stroke-opacity:1;\"/>\n",
       "<path d=\"M 242.4,157.3 L 241.7,156.9 L 240.3,157.7\" style=\"fill:none;stroke:#000000;stroke-width:2.0px;stroke-linecap:butt;stroke-linejoin:miter;stroke-opacity:1;\"/>\n",
       "<path class=\"atom-0\" d=\"M 177.9 224.2 Q 177.9 221.0, 179.5 219.2 Q 181.0 217.5, 184.0 217.5 Q 186.9 217.5, 188.5 219.2 Q 190.1 221.0, 190.1 224.2 Q 190.1 227.5, 188.5 229.3 Q 186.9 231.1, 184.0 231.1 Q 181.1 231.1, 179.5 229.3 Q 177.9 227.5, 177.9 224.2 M 184.0 229.6 Q 186.0 229.6, 187.1 228.3 Q 188.2 226.9, 188.2 224.2 Q 188.2 221.6, 187.1 220.3 Q 186.0 219.0, 184.0 219.0 Q 182.0 219.0, 180.8 220.3 Q 179.8 221.6, 179.8 224.2 Q 179.8 226.9, 180.8 228.3 Q 182.0 229.6, 184.0 229.6 \" fill=\"#FF0000\"/>\n",
       "<path class=\"atom-1\" d=\"M 129.7 123.5 Q 129.7 120.3, 131.3 118.5 Q 132.9 116.7, 135.8 116.7 Q 138.8 116.7, 140.3 118.5 Q 141.9 120.3, 141.9 123.5 Q 141.9 126.7, 140.3 128.6 Q 138.7 130.4, 135.8 130.4 Q 132.9 130.4, 131.3 128.6 Q 129.7 126.8, 129.7 123.5 M 135.8 128.9 Q 137.8 128.9, 138.9 127.5 Q 140.0 126.2, 140.0 123.5 Q 140.0 120.9, 138.9 119.6 Q 137.8 118.2, 135.8 118.2 Q 133.8 118.2, 132.7 119.5 Q 131.6 120.9, 131.6 123.5 Q 131.6 126.2, 132.7 127.5 Q 133.8 128.9, 135.8 128.9 \" fill=\"#FF0000\"/>\n",
       "<path class=\"atom-2\" d=\"M 329.3 205.8 Q 329.3 202.6, 330.9 200.8 Q 332.5 199.0, 335.5 199.0 Q 338.4 199.0, 340.0 200.8 Q 341.6 202.6, 341.6 205.8 Q 341.6 209.0, 340.0 210.8 Q 338.4 212.7, 335.5 212.7 Q 332.5 212.7, 330.9 210.8 Q 329.3 209.0, 329.3 205.8 M 335.5 211.2 Q 337.5 211.2, 338.6 209.8 Q 339.7 208.4, 339.7 205.8 Q 339.7 203.1, 338.6 201.8 Q 337.5 200.5, 335.5 200.5 Q 333.4 200.5, 332.3 201.8 Q 331.2 203.1, 331.2 205.8 Q 331.2 208.4, 332.3 209.8 Q 333.4 211.2, 335.5 211.2 \" fill=\"#FF0000\"/>\n",
       "<path class=\"atom-3\" d=\"M 231.1 125.5 Q 231.1 122.3, 232.7 120.5 Q 234.2 118.7, 237.2 118.7 Q 240.2 118.7, 241.7 120.5 Q 243.3 122.3, 243.3 125.5 Q 243.3 128.7, 241.7 130.6 Q 240.1 132.4, 237.2 132.4 Q 234.3 132.4, 232.7 130.6 Q 231.1 128.8, 231.1 125.5 M 237.2 130.9 Q 239.2 130.9, 240.3 129.5 Q 241.4 128.2, 241.4 125.5 Q 241.4 122.9, 240.3 121.6 Q 239.2 120.2, 237.2 120.2 Q 235.2 120.2, 234.1 121.5 Q 233.0 122.9, 233.0 125.5 Q 233.0 128.2, 234.1 129.5 Q 235.2 130.9, 237.2 130.9 \" fill=\"#FF0000\"/>\n",
       "<path class=\"atom-4\" d=\"M 101.5 169.8 Q 101.5 166.6, 103.1 164.8 Q 104.7 163.1, 107.6 163.1 Q 110.6 163.1, 112.1 164.8 Q 113.7 166.6, 113.7 169.8 Q 113.7 173.1, 112.1 174.9 Q 110.5 176.7, 107.6 176.7 Q 104.7 176.7, 103.1 174.9 Q 101.5 173.1, 101.5 169.8 M 107.6 175.2 Q 109.6 175.2, 110.7 173.9 Q 111.8 172.5, 111.8 169.8 Q 111.8 167.2, 110.7 165.9 Q 109.6 164.6, 107.6 164.6 Q 105.6 164.6, 104.5 165.9 Q 103.4 167.2, 103.4 169.8 Q 103.4 172.5, 104.5 173.9 Q 105.6 175.2, 107.6 175.2 \" fill=\"#FF0000\"/>\n",
       "<path class=\"atom-4\" d=\"M 115.6 165.2 L 120.2 165.2 L 120.2 166.2 L 115.6 166.2 L 115.6 165.2 \" fill=\"#FF0000\"/>\n",
       "<path class=\"atom-15\" d=\"M 364.4 152.4 L 368.8 159.4 Q 369.2 160.1, 369.9 161.4 Q 370.6 162.6, 370.6 162.7 L 370.6 152.4 L 372.4 152.4 L 372.4 165.7 L 370.6 165.7 L 365.9 158.0 Q 365.3 157.1, 364.8 156.0 Q 364.2 155.0, 364.0 154.7 L 364.0 165.7 L 362.3 165.7 L 362.3 152.4 L 364.4 152.4 \" fill=\"#0000FF\"/>\n",
       "<path class=\"atom-16\" d=\"M 274.7 167.3 L 279.1 174.4 Q 279.5 175.1, 280.2 176.4 Q 280.9 177.6, 281.0 177.7 L 281.0 167.3 L 282.7 167.3 L 282.7 180.7 L 280.9 180.7 L 276.2 173.0 Q 275.7 172.1, 275.1 171.0 Q 274.5 170.0, 274.3 169.7 L 274.3 180.7 L 272.6 180.7 L 272.6 167.3 L 274.7 167.3 \" fill=\"#0000FF\"/>\n",
       "<path class=\"atom-17\" d=\"M 226.3 190.5 L 230.7 197.5 Q 231.1 198.2, 231.8 199.5 Q 232.5 200.7, 232.6 200.8 L 232.6 190.5 L 234.3 190.5 L 234.3 203.8 L 232.5 203.8 L 227.8 196.1 Q 227.3 195.2, 226.7 194.1 Q 226.1 193.1, 226.0 192.8 L 226.0 203.8 L 224.2 203.8 L 224.2 190.5 L 226.3 190.5 \" fill=\"#0000FF\"/>\n",
       "<path class=\"atom-24\" d=\"M 247.8 19.8 L 249.6 19.8 L 249.6 25.4 L 256.4 25.4 L 256.4 19.8 L 258.2 19.8 L 258.2 33.1 L 256.4 33.1 L 256.4 27.0 L 249.6 27.0 L 249.6 33.1 L 247.8 33.1 L 247.8 19.8 \" fill=\"#000000\"/>\n",
       "<path class=\"atom-25\" d=\"M 220.7 76.4 L 222.5 76.4 L 222.5 82.1 L 229.3 82.1 L 229.3 76.4 L 231.1 76.4 L 231.1 89.7 L 229.3 89.7 L 229.3 83.6 L 222.5 83.6 L 222.5 89.7 L 220.7 89.7 L 220.7 76.4 \" fill=\"#000000\"/>\n",
       "<path class=\"atom-26\" d=\"M 310.4 15.0 L 312.2 15.0 L 312.2 20.7 L 319.0 20.7 L 319.0 15.0 L 320.8 15.0 L 320.8 28.3 L 319.0 28.3 L 319.0 22.2 L 312.2 22.2 L 312.2 28.3 L 310.4 28.3 L 310.4 15.0 \" fill=\"#000000\"/>\n",
       "<path class=\"atom-27\" d=\"M 258.3 127.0 L 260.1 127.0 L 260.1 132.6 L 267.0 132.6 L 267.0 127.0 L 268.8 127.0 L 268.8 140.3 L 267.0 140.3 L 267.0 134.1 L 260.1 134.1 L 260.1 140.3 L 258.3 140.3 L 258.3 127.0 \" fill=\"#000000\"/>\n",
       "<path class=\"atom-28\" d=\"M 345.8 66.9 L 347.6 66.9 L 347.6 72.5 L 354.4 72.5 L 354.4 66.9 L 356.2 66.9 L 356.2 80.2 L 354.4 80.2 L 354.4 74.0 L 347.6 74.0 L 347.6 80.2 L 345.8 80.2 L 345.8 66.9 \" fill=\"#000000\"/>\n",
       "<path class=\"atom-29\" d=\"M 388.1 169.9 L 389.9 169.9 L 389.9 175.6 L 396.7 175.6 L 396.7 169.9 L 398.5 169.9 L 398.5 183.2 L 396.7 183.2 L 396.7 177.1 L 389.9 177.1 L 389.9 183.2 L 388.1 183.2 L 388.1 169.9 \" fill=\"#000000\"/>\n",
       "<path class=\"atom-30\" d=\"M 365.4 120.9 L 367.3 120.9 L 367.3 126.5 L 374.1 126.5 L 374.1 120.9 L 375.9 120.9 L 375.9 134.2 L 374.1 134.2 L 374.1 128.0 L 367.3 128.0 L 367.3 134.2 L 365.4 134.2 L 365.4 120.9 \" fill=\"#000000\"/>\n",
       "<path class=\"atom-31\" d=\"M 275.8 200.1 L 277.6 200.1 L 277.6 205.7 L 284.4 205.7 L 284.4 200.1 L 286.2 200.1 L 286.2 213.4 L 284.4 213.4 L 284.4 207.2 L 277.6 207.2 L 277.6 213.4 L 275.8 213.4 L 275.8 200.1 \" fill=\"#000000\"/>\n",
       "<path class=\"atom-32\" d=\"M 249.5 189.5 L 251.3 189.5 L 251.3 195.2 L 258.1 195.2 L 258.1 189.5 L 259.9 189.5 L 259.9 202.8 L 258.1 202.8 L 258.1 196.7 L 251.3 196.7 L 251.3 202.8 L 249.5 202.8 L 249.5 189.5 \" fill=\"#000000\"/>\n",
       "<path class=\"atom-33\" d=\"M 253.7 229.1 L 255.5 229.1 L 255.5 234.8 L 262.3 234.8 L 262.3 229.1 L 264.1 229.1 L 264.1 242.4 L 262.3 242.4 L 262.3 236.3 L 255.5 236.3 L 255.5 242.4 L 253.7 242.4 L 253.7 229.1 \" fill=\"#000000\"/>\n",
       "<path class=\"atom-34\" d=\"M 253.3 260.7 L 255.1 260.7 L 255.1 266.4 L 262.0 266.4 L 262.0 260.7 L 263.8 260.7 L 263.8 274.1 L 262.0 274.1 L 262.0 267.9 L 255.1 267.9 L 255.1 274.1 L 253.3 274.1 L 253.3 260.7 \" fill=\"#000000\"/>\n",
       "<path class=\"atom-35\" d=\"M 210.5 271.7 L 212.3 271.7 L 212.3 277.3 L 219.1 277.3 L 219.1 271.7 L 220.9 271.7 L 220.9 285.0 L 219.1 285.0 L 219.1 278.8 L 212.3 278.8 L 212.3 285.0 L 210.5 285.0 L 210.5 271.7 \" fill=\"#000000\"/>\n",
       "<path class=\"atom-36\" d=\"M 170.2 191.3 L 172.0 191.3 L 172.0 197.0 L 178.8 197.0 L 178.8 191.3 L 180.7 191.3 L 180.7 204.6 L 178.8 204.6 L 178.8 198.5 L 172.0 198.5 L 172.0 204.6 L 170.2 204.6 L 170.2 191.3 \" fill=\"#000000\"/>\n",
       "<path class=\"atom-37\" d=\"M 139.7 190.8 L 141.5 190.8 L 141.5 196.5 L 148.3 196.5 L 148.3 190.8 L 150.1 190.8 L 150.1 204.1 L 148.3 204.1 L 148.3 198.0 L 141.5 198.0 L 141.5 204.1 L 139.7 204.1 L 139.7 190.8 \" fill=\"#000000\"/>\n",
       "<path class=\"atom-38\" d=\"M 338.7 136.0 L 340.5 136.0 L 340.5 141.6 L 347.3 141.6 L 347.3 136.0 L 349.1 136.0 L 349.1 149.3 L 347.3 149.3 L 347.3 143.1 L 340.5 143.1 L 340.5 149.3 L 338.7 149.3 L 338.7 136.0 \" fill=\"#000000\"/>\n",
       "<path class=\"atom-39\" d=\"M 343.1 106.9 L 344.9 106.9 L 344.9 112.6 L 351.7 112.6 L 351.7 106.9 L 353.5 106.9 L 353.5 120.2 L 351.7 120.2 L 351.7 114.1 L 344.9 114.1 L 344.9 120.2 L 343.1 120.2 L 343.1 106.9 \" fill=\"#000000\"/>\n",
       "<path class=\"atom-40\" d=\"M 200.0 122.1 L 201.8 122.1 L 201.8 127.8 L 208.6 127.8 L 208.6 122.1 L 210.4 122.1 L 210.4 135.4 L 208.6 135.4 L 208.6 129.3 L 201.8 129.3 L 201.8 135.4 L 200.0 135.4 L 200.0 122.1 \" fill=\"#000000\"/>\n",
       "<path class=\"atom-41\" d=\"M 168.6 121.5 L 170.4 121.5 L 170.4 127.1 L 177.2 127.1 L 177.2 121.5 L 179.0 121.5 L 179.0 134.8 L 177.2 134.8 L 177.2 128.6 L 170.4 128.6 L 170.4 134.8 L 168.6 134.8 L 168.6 121.5 \" fill=\"#000000\"/>\n",
       "<path class=\"atom-42\" d=\"M 286.5 124.8 L 288.3 124.8 L 288.3 130.4 L 295.2 130.4 L 295.2 124.8 L 297.0 124.8 L 297.0 138.1 L 295.2 138.1 L 295.2 131.9 L 288.3 131.9 L 288.3 138.1 L 286.5 138.1 L 286.5 124.8 \" fill=\"#000000\"/>\n",
       "<path class=\"atom-43\" d=\"M 195.4 191.0 L 197.2 191.0 L 197.2 196.6 L 204.0 196.6 L 204.0 191.0 L 205.8 191.0 L 205.8 204.3 L 204.0 204.3 L 204.0 198.1 L 197.2 198.1 L 197.2 204.3 L 195.4 204.3 L 195.4 191.0 \" fill=\"#000000\"/>\n",
       "</svg>"
      ],
      "text/plain": [
       "<IPython.core.display.SVG object>"
      ]
     },
     "execution_count": 23,
     "metadata": {},
     "output_type": "execute_result"
    }
   ],
   "source": [
    "client = qcportal.PortalClient(\"https://api.qcarchive.molssi.org:443/\")\n",
    "\n",
    "record = [*client.query_molecules(molecular_formula=\"C16H20N3O5\")][-1]\n",
    "\n",
    "from_qcarchive = Molecule.from_qcschema(record)\n",
    "\n",
    "from_qcarchive.visualize()"
   ]
  },
  {
   "cell_type": "markdown",
   "id": "3f1991fb",
   "metadata": {},
   "source": [
    "### From a QCArchive optimisation record\n",
    "\n",
    "`Molecule.from_qcschema()` can also take an optimisation record and create the corresponding `Molecule`."
   ]
  },
  {
   "cell_type": "code",
   "execution_count": 24,
   "id": "edd1fa9e",
   "metadata": {
    "editable": true,
    "slideshow": {
     "slide_type": ""
    },
    "tags": []
   },
   "outputs": [
    {
     "data": {
      "image/svg+xml": [
       "<svg xmlns=\"http://www.w3.org/2000/svg\" xmlns:rdkit=\"http://www.rdkit.org/xml\" xmlns:xlink=\"http://www.w3.org/1999/xlink\" version=\"1.1\" baseProfile=\"full\" xml:space=\"preserve\" width=\"500px\" height=\"300px\" viewBox=\"0 0 500 300\">\n",
       "<!-- END OF HEADER -->\n",
       "<rect style=\"opacity:1.0;fill:#FFFFFF;stroke:none\" width=\"500.0\" height=\"300.0\" x=\"0.0\" y=\"0.0\"> </rect>\n",
       "<path class=\"bond-0 atom-0 atom-4\" d=\"M 331.5,220.7 L 331.5,198.4\" style=\"fill:none;fill-rule:evenodd;stroke:#000000;stroke-width:2.0px;stroke-linecap:butt;stroke-linejoin:miter;stroke-opacity:1\"/>\n",
       "<path class=\"bond-0 atom-0 atom-4\" d=\"M 331.5,198.4 L 331.6,176.2\" style=\"fill:none;fill-rule:evenodd;stroke:#FF0000;stroke-width:2.0px;stroke-linecap:butt;stroke-linejoin:miter;stroke-opacity:1\"/>\n",
       "<path class=\"bond-1 atom-0 atom-6\" d=\"M 331.5,220.7 L 283.7,220.6\" style=\"fill:none;fill-rule:evenodd;stroke:#000000;stroke-width:2.0px;stroke-linecap:butt;stroke-linejoin:miter;stroke-opacity:1\"/>\n",
       "<path class=\"bond-2 atom-0 atom-7\" d=\"M 331.5,220.7 L 310.0,257.7\" style=\"fill:none;fill-rule:evenodd;stroke:#000000;stroke-width:2.0px;stroke-linecap:butt;stroke-linejoin:miter;stroke-opacity:1\"/>\n",
       "<path class=\"bond-3 atom-0 atom-8\" d=\"M 331.5,220.7 L 371.2,243.7\" style=\"fill:none;fill-rule:evenodd;stroke:#000000;stroke-width:2.0px;stroke-linecap:butt;stroke-linejoin:miter;stroke-opacity:1\"/>\n",
       "<path class=\"bond-4 atom-1 atom-5\" d=\"M 176.6,130.9 L 195.6,141.9\" style=\"fill:none;fill-rule:evenodd;stroke:#000000;stroke-width:2.0px;stroke-linecap:butt;stroke-linejoin:miter;stroke-opacity:1\"/>\n",
       "<path class=\"bond-4 atom-1 atom-5\" d=\"M 195.6,141.9 L 214.6,152.9\" style=\"fill:none;fill-rule:evenodd;stroke:#FF0000;stroke-width:2.0px;stroke-linecap:butt;stroke-linejoin:miter;stroke-opacity:1\"/>\n",
       "<path class=\"bond-5 atom-1 atom-9\" d=\"M 176.6,130.9 L 155.1,167.8\" style=\"fill:none;fill-rule:evenodd;stroke:#000000;stroke-width:2.0px;stroke-linecap:butt;stroke-linejoin:miter;stroke-opacity:1\"/>\n",
       "<path class=\"bond-6 atom-1 atom-10\" d=\"M 176.6,130.9 L 128.8,130.8\" style=\"fill:none;fill-rule:evenodd;stroke:#000000;stroke-width:2.0px;stroke-linecap:butt;stroke-linejoin:miter;stroke-opacity:1\"/>\n",
       "<path class=\"bond-7 atom-1 atom-11\" d=\"M 176.6,130.9 L 176.7,85.8\" style=\"fill:none;fill-rule:evenodd;stroke:#000000;stroke-width:2.0px;stroke-linecap:butt;stroke-linejoin:miter;stroke-opacity:1\"/>\n",
       "<path class=\"bond-8 atom-2 atom-3\" d=\"M 280.0,131.1 L 269.5,112.8\" style=\"fill:none;fill-rule:evenodd;stroke:#000000;stroke-width:2.0px;stroke-linecap:butt;stroke-linejoin:miter;stroke-opacity:1\"/>\n",
       "<path class=\"bond-8 atom-2 atom-3\" d=\"M 269.5,112.8 L 258.9,94.5\" style=\"fill:none;fill-rule:evenodd;stroke:#FF0000;stroke-width:2.0px;stroke-linecap:butt;stroke-linejoin:miter;stroke-opacity:1\"/>\n",
       "<path class=\"bond-9 atom-2 atom-4\" d=\"M 280.0,131.1 L 299.0,142.1\" style=\"fill:none;fill-rule:evenodd;stroke:#000000;stroke-width:2.0px;stroke-linecap:butt;stroke-linejoin:miter;stroke-opacity:1\"/>\n",
       "<path class=\"bond-9 atom-2 atom-4\" d=\"M 299.0,142.1 L 318.0,153.1\" style=\"fill:none;fill-rule:evenodd;stroke:#FF0000;stroke-width:2.0px;stroke-linecap:butt;stroke-linejoin:miter;stroke-opacity:1\"/>\n",
       "<path class=\"bond-10 atom-2 atom-5\" d=\"M 280.0,131.1 L 260.9,142.0\" style=\"fill:none;fill-rule:evenodd;stroke:#000000;stroke-width:2.0px;stroke-linecap:butt;stroke-linejoin:miter;stroke-opacity:1\"/>\n",
       "<path class=\"bond-10 atom-2 atom-5\" d=\"M 260.9,142.0 L 241.8,153.0\" style=\"fill:none;fill-rule:evenodd;stroke:#FF0000;stroke-width:2.0px;stroke-linecap:butt;stroke-linejoin:miter;stroke-opacity:1\"/>\n",
       "<path class=\"bond-11 atom-2 atom-12\" d=\"M 280.0,131.1 L 301.4,94.1\" style=\"fill:none;fill-rule:evenodd;stroke:#000000;stroke-width:2.0px;stroke-linecap:butt;stroke-linejoin:miter;stroke-opacity:1\"/>\n",
       "<path class=\"bond-12 atom-3 atom-13\" d=\"M 258.8,64.5 L 265.2,53.4\" style=\"fill:none;fill-rule:evenodd;stroke:#FF0000;stroke-width:2.0px;stroke-linecap:butt;stroke-linejoin:miter;stroke-opacity:1\"/>\n",
       "<path class=\"bond-12 atom-3 atom-13\" d=\"M 265.2,53.4 L 271.7,42.3\" style=\"fill:none;fill-rule:evenodd;stroke:#000000;stroke-width:2.0px;stroke-linecap:butt;stroke-linejoin:miter;stroke-opacity:1\"/>\n",
       "<path class=\"atom-3\" d=\"M 238.6 79.4 Q 238.6 73.3, 241.6 69.9 Q 244.6 66.5, 250.2 66.5 Q 255.8 66.5, 258.8 69.9 Q 261.9 73.3, 261.9 79.4 Q 261.9 85.5, 258.8 89.0 Q 255.8 92.5, 250.2 92.5 Q 244.6 92.5, 241.6 89.0 Q 238.6 85.6, 238.6 79.4 M 250.2 89.7 Q 254.1 89.7, 256.2 87.1 Q 258.3 84.5, 258.3 79.4 Q 258.3 74.4, 256.2 71.9 Q 254.1 69.4, 250.2 69.4 Q 246.3 69.4, 244.2 71.9 Q 242.2 74.4, 242.2 79.4 Q 242.2 84.5, 244.2 87.1 Q 246.3 89.7, 250.2 89.7 \" fill=\"#FF0000\"/>\n",
       "<path class=\"atom-4\" d=\"M 320.0 161.1 Q 320.0 155.0, 323.0 151.6 Q 326.0 148.2, 331.6 148.2 Q 337.2 148.2, 340.2 151.6 Q 343.2 155.0, 343.2 161.1 Q 343.2 167.2, 340.2 170.7 Q 337.1 174.2, 331.6 174.2 Q 326.0 174.2, 323.0 170.7 Q 320.0 167.3, 320.0 161.1 M 331.6 171.4 Q 335.5 171.4, 337.5 168.8 Q 339.6 166.2, 339.6 161.1 Q 339.6 156.1, 337.5 153.6 Q 335.5 151.1, 331.6 151.1 Q 327.7 151.1, 325.6 153.6 Q 323.5 156.1, 323.5 161.1 Q 323.5 166.2, 325.6 168.8 Q 327.7 171.4, 331.6 171.4 \" fill=\"#FF0000\"/>\n",
       "<path class=\"atom-5\" d=\"M 216.6 160.9 Q 216.6 154.8, 219.6 151.4 Q 222.6 148.0, 228.2 148.0 Q 233.8 148.0, 236.8 151.4 Q 239.8 154.8, 239.8 160.9 Q 239.8 167.0, 236.8 170.5 Q 233.8 174.0, 228.2 174.0 Q 222.6 174.0, 219.6 170.5 Q 216.6 167.1, 216.6 160.9 M 228.2 171.2 Q 232.1 171.2, 234.1 168.6 Q 236.3 166.0, 236.3 160.9 Q 236.3 155.9, 234.1 153.4 Q 232.1 150.8, 228.2 150.8 Q 224.3 150.8, 222.2 153.4 Q 220.1 155.9, 220.1 160.9 Q 220.1 166.0, 222.2 168.6 Q 224.3 171.2, 228.2 171.2 \" fill=\"#FF0000\"/>\n",
       "<path class=\"atom-6\" d=\"M 261.9 207.9 L 265.3 207.9 L 265.3 218.7 L 278.3 218.7 L 278.3 207.9 L 281.7 207.9 L 281.7 233.3 L 278.3 233.3 L 278.3 221.5 L 265.3 221.5 L 265.3 233.3 L 261.9 233.3 L 261.9 207.9 \" fill=\"#000000\"/>\n",
       "<path class=\"atom-7\" d=\"M 291.6 259.6 L 295.0 259.6 L 295.0 270.4 L 308.0 270.4 L 308.0 259.6 L 311.4 259.6 L 311.4 285.0 L 308.0 285.0 L 308.0 273.3 L 295.0 273.3 L 295.0 285.0 L 291.6 285.0 L 291.6 259.6 \" fill=\"#000000\"/>\n",
       "<path class=\"atom-8\" d=\"M 373.2 238.0 L 376.6 238.0 L 376.6 248.7 L 389.6 248.7 L 389.6 238.0 L 393.0 238.0 L 393.0 263.3 L 389.6 263.3 L 389.6 251.6 L 376.6 251.6 L 376.6 263.3 L 373.2 263.3 L 373.2 238.0 \" fill=\"#000000\"/>\n",
       "<path class=\"atom-9\" d=\"M 136.7 169.8 L 140.2 169.8 L 140.2 180.6 L 153.1 180.6 L 153.1 169.8 L 156.6 169.8 L 156.6 195.2 L 153.1 195.2 L 153.1 183.4 L 140.2 183.4 L 140.2 195.2 L 136.7 195.2 L 136.7 169.8 \" fill=\"#000000\"/>\n",
       "<path class=\"atom-10\" d=\"M 107.0 118.1 L 110.4 118.1 L 110.4 128.8 L 123.4 128.8 L 123.4 118.1 L 126.8 118.1 L 126.8 143.4 L 123.4 143.4 L 123.4 131.7 L 110.4 131.7 L 110.4 143.4 L 107.0 143.4 L 107.0 118.1 \" fill=\"#000000\"/>\n",
       "<path class=\"atom-11\" d=\"M 166.8 58.5 L 170.2 58.5 L 170.2 69.3 L 183.2 69.3 L 183.2 58.5 L 186.6 58.5 L 186.6 83.8 L 183.2 83.8 L 183.2 72.1 L 170.2 72.1 L 170.2 83.8 L 166.8 83.8 L 166.8 58.5 \" fill=\"#000000\"/>\n",
       "<path class=\"atom-12\" d=\"M 300.0 66.7 L 303.4 66.7 L 303.4 77.5 L 316.4 77.5 L 316.4 66.7 L 319.8 66.7 L 319.8 92.1 L 316.4 92.1 L 316.4 80.4 L 303.4 80.4 L 303.4 92.1 L 300.0 92.1 L 300.0 66.7 \" fill=\"#000000\"/>\n",
       "<path class=\"atom-13\" d=\"M 270.2 15.0 L 273.7 15.0 L 273.7 25.8 L 286.6 25.8 L 286.6 15.0 L 290.1 15.0 L 290.1 40.4 L 286.6 40.4 L 286.6 28.6 L 273.7 28.6 L 273.7 40.4 L 270.2 40.4 L 270.2 15.0 \" fill=\"#000000\"/>\n",
       "</svg>"
      ],
      "text/plain": [
       "<IPython.core.display.SVG object>"
      ]
     },
     "execution_count": 24,
     "metadata": {},
     "output_type": "execute_result"
    }
   ],
   "source": [
    "optimization_dataset = client.get_dataset(\n",
    "    dataset_type=\"optimization\",\n",
    "    dataset_name=\"SMIRNOFF Coverage Set 1\",\n",
    ")\n",
    "dimethoxymethanol_optimization = optimization_dataset.get_entry(\n",
    "    \"coc(o)oc-0\",\n",
    ")\n",
    "\n",
    "from_optimisation = Molecule.from_qcschema(dimethoxymethanol_optimization)\n",
    "\n",
    "from_optimisation.visualize()"
   ]
  }
 ],
 "metadata": {
  "celltoolbar": "Tags",
  "execution": {
   "timeout": 120
  },
  "kernelspec": {
   "display_name": "Python 3 (ipykernel)",
   "language": "python",
   "name": "python3"
  },
  "language_info": {
   "codemirror_mode": {
    "name": "ipython",
    "version": 3
   },
   "file_extension": ".py",
   "mimetype": "text/x-python",
   "name": "python",
   "nbconvert_exporter": "python",
   "pygments_lexer": "ipython3",
   "version": "3.11.7"
  },
  "widgets": {
   "application/vnd.jupyter.widget-state+json": {
    "state": {
     "04aafce1ef1c467f8fd22d57835d61bd": {
      "model_module": "@jupyter-widgets/base",
      "model_module_version": "2.0.0",
      "model_name": "LayoutModel",
      "state": {}
     },
     "06b1a07d0fb0498d997e0982fcdb9812": {
      "model_module": "@jupyter-widgets/controls",
      "model_module_version": "2.0.0",
      "model_name": "ButtonModel",
      "state": {
       "icon": "compress",
       "layout": "IPY_MODEL_176ecd2e092241cc937209ccd53dddfc",
       "style": "IPY_MODEL_dfb6973596654b8b8a01ddf1b2e29291",
       "tooltip": null
      }
     },
     "10b041efd3a24e48950b8497a2a5cb56": {
      "model_module": "@jupyter-widgets/base",
      "model_module_version": "2.0.0",
      "model_name": "LayoutModel",
      "state": {}
     },
     "12263d7eb40146ebb084a96da5e16876": {
      "model_module": "@jupyter-widgets/controls",
      "model_module_version": "2.0.0",
      "model_name": "PlayModel",
      "state": {
       "layout": "IPY_MODEL_ac14aef700cb4256943ed5f4e2d9f91a",
       "max": 0,
       "style": "IPY_MODEL_8c0fa62200de4908bbcfb5d4f9899d35"
      }
     },
     "13fbd6b3d10348f883b732edc89e07f0": {
      "model_module": "@jupyter-widgets/base",
      "model_module_version": "2.0.0",
      "model_name": "LayoutModel",
      "state": {}
     },
     "176ecd2e092241cc937209ccd53dddfc": {
      "model_module": "@jupyter-widgets/base",
      "model_module_version": "2.0.0",
      "model_name": "LayoutModel",
      "state": {
       "width": "34px"
      }
     },
     "1f2775aeecfd4ac88c32484f0823b7a6": {
      "model_module": "@jupyter-widgets/controls",
      "model_module_version": "2.0.0",
      "model_name": "IntSliderModel",
      "state": {
       "behavior": "drag-tap",
       "layout": "IPY_MODEL_10b041efd3a24e48950b8497a2a5cb56",
       "max": 0,
       "style": "IPY_MODEL_4e8aed5dea4c44cba2a62d4e93d21ba5"
      }
     },
     "2e70e9228ad34a40a9e7a4c3f766df7c": {
      "model_module": "@jupyter-widgets/controls",
      "model_module_version": "2.0.0",
      "model_name": "IntSliderModel",
      "state": {
       "behavior": "drag-tap",
       "layout": "IPY_MODEL_591821defa5c4a7bb69da031eb8db7c9",
       "max": 0,
       "style": "IPY_MODEL_59f4af6623584c8f91d57ad1844fa1ae"
      }
     },
     "381d80e2c95449729bd6351582913abd": {
      "model_module": "@jupyter-widgets/base",
      "model_module_version": "2.0.0",
      "model_name": "LayoutModel",
      "state": {}
     },
     "3e6f93cdbfb542bcb8bcdbd7a6bedd1e": {
      "model_module": "@jupyter-widgets/controls",
      "model_module_version": "2.0.0",
      "model_name": "LinkModel",
      "state": {
       "source": [
        "IPY_MODEL_5e3a519b0dc346239d7ab307b8341b22",
        "max"
       ],
       "target": [
        "IPY_MODEL_888eba42b74c4957aa9a98914a961977",
        "max_frame"
       ]
      }
     },
     "40249d2708d74c52a1e45e7cda398182": {
      "model_module": "@jupyter-widgets/controls",
      "model_module_version": "2.0.0",
      "model_name": "ButtonModel",
      "state": {
       "icon": "compress",
       "layout": "IPY_MODEL_efe072718a4f4778b910338da23ee1f3",
       "style": "IPY_MODEL_cfbbf84f2d0c4b99870300084fb4f4f5",
       "tooltip": null
      }
     },
     "4517ca13e2fe4e11b4289ba2e3801b00": {
      "model_module": "@jupyter-widgets/controls",
      "model_module_version": "2.0.0",
      "model_name": "LinkModel",
      "state": {
       "source": [
        "IPY_MODEL_dd6edaf0b8ff4cc6b13d292792dcdd63",
        "max"
       ],
       "target": [
        "IPY_MODEL_ff090060b4314b54b63c1a56d52b198a",
        "max_frame"
       ]
      }
     },
     "49210746891240babd82108c7acb6855": {
      "model_module": "@jupyter-widgets/controls",
      "model_module_version": "2.0.0",
      "model_name": "LinkModel",
      "state": {
       "source": [
        "IPY_MODEL_dd6edaf0b8ff4cc6b13d292792dcdd63",
        "value"
       ],
       "target": [
        "IPY_MODEL_ff090060b4314b54b63c1a56d52b198a",
        "frame"
       ]
      }
     },
     "4c3084863da946efabd480a23098cf9e": {
      "model_module": "@jupyter-widgets/base",
      "model_module_version": "2.0.0",
      "model_name": "LayoutModel",
      "state": {}
     },
     "4e3303f5e7b64a21909bf0b50a07bf51": {
      "model_module": "@jupyter-widgets/base",
      "model_module_version": "2.0.0",
      "model_name": "LayoutModel",
      "state": {}
     },
     "4e8aed5dea4c44cba2a62d4e93d21ba5": {
      "model_module": "@jupyter-widgets/controls",
      "model_module_version": "2.0.0",
      "model_name": "SliderStyleModel",
      "state": {
       "description_width": ""
      }
     },
     "591821defa5c4a7bb69da031eb8db7c9": {
      "model_module": "@jupyter-widgets/base",
      "model_module_version": "2.0.0",
      "model_name": "LayoutModel",
      "state": {}
     },
     "59a2ffabebb04ec5ad993d631f354ae2": {
      "model_module": "@jupyter-widgets/base",
      "model_module_version": "2.0.0",
      "model_name": "LayoutModel",
      "state": {}
     },
     "59f4af6623584c8f91d57ad1844fa1ae": {
      "model_module": "@jupyter-widgets/controls",
      "model_module_version": "2.0.0",
      "model_name": "SliderStyleModel",
      "state": {
       "description_width": ""
      }
     },
     "5e3a519b0dc346239d7ab307b8341b22": {
      "model_module": "@jupyter-widgets/controls",
      "model_module_version": "2.0.0",
      "model_name": "PlayModel",
      "state": {
       "layout": "IPY_MODEL_4e3303f5e7b64a21909bf0b50a07bf51",
       "max": 0,
       "style": "IPY_MODEL_d3d7ee2a217d4c6490686ee57d2faeba"
      }
     },
     "66645a9ab2a0434cbcbd20fbc59efda6": {
      "model_module": "@jupyter-widgets/controls",
      "model_module_version": "2.0.0",
      "model_name": "ImageModel",
      "state": {
       "layout": "IPY_MODEL_9e0a15bdde704338bd1cb7441693bbe3",
       "width": "900.0"
      }
     },
     "675e36293c5147f595529fe4f8c4d451": {
      "model_module": "@jupyter-widgets/controls",
      "model_module_version": "2.0.0",
      "model_name": "SliderStyleModel",
      "state": {
       "description_width": ""
      }
     },
     "67feceb06c084d46874527ab7b0a775a": {
      "model_module": "@jupyter-widgets/controls",
      "model_module_version": "2.0.0",
      "model_name": "LinkModel",
      "state": {
       "source": [
        "IPY_MODEL_5e3a519b0dc346239d7ab307b8341b22",
        "value"
       ],
       "target": [
        "IPY_MODEL_888eba42b74c4957aa9a98914a961977",
        "frame"
       ]
      }
     },
     "6fa173647edf43f29a47eed175761971": {
      "model_module": "@jupyter-widgets/base",
      "model_module_version": "2.0.0",
      "model_name": "LayoutModel",
      "state": {}
     },
     "71c688b9678244cda22a75361e39807c": {
      "model_module": "@jupyter-widgets/controls",
      "model_module_version": "2.0.0",
      "model_name": "ImageModel",
      "state": {
       "layout": "IPY_MODEL_6fa173647edf43f29a47eed175761971",
       "width": "900.0"
      }
     },
     "7864da1e3d8c443ebdcca787420021e9": {
      "model_module": "@jupyter-widgets/controls",
      "model_module_version": "2.0.0",
      "model_name": "HBoxModel",
      "state": {
       "children": [
        "IPY_MODEL_5e3a519b0dc346239d7ab307b8341b22",
        "IPY_MODEL_1f2775aeecfd4ac88c32484f0823b7a6"
       ],
       "layout": "IPY_MODEL_dad437c8c4ad4d0e8416659d6ae03458"
      }
     },
     "7db14f54b7d940e78172ec0bb8594a24": {
      "model_module": "@jupyter-widgets/controls",
      "model_module_version": "2.0.0",
      "model_name": "IntSliderModel",
      "state": {
       "behavior": "drag-tap",
       "layout": "IPY_MODEL_381d80e2c95449729bd6351582913abd",
       "max": 0,
       "style": "IPY_MODEL_675e36293c5147f595529fe4f8c4d451"
      }
     },
     "888eba42b74c4957aa9a98914a961977": {
      "model_module": "nglview-js-widgets",
      "model_module_version": "3.0.8",
      "model_name": "NGLModel",
      "state": {
       "_camera_orientation": [
        23.831248714508902,
        0,
        0,
        0,
        0,
        23.831248714508902,
        0,
        0,
        0,
        0,
        23.831248714508902,
        0,
        -0.3674999475479126,
        -0.10250002145767212,
        0.06949996948242188,
        1
       ],
       "_camera_str": "orthographic",
       "_gui_theme": null,
       "_ibtn_fullscreen": "IPY_MODEL_06b1a07d0fb0498d997e0982fcdb9812",
       "_igui": null,
       "_iplayer": "IPY_MODEL_7864da1e3d8c443ebdcca787420021e9",
       "_ngl_color_dict": {},
       "_ngl_coordinate_resource": {},
       "_ngl_full_stage_parameters": {
        "ambientColor": 14540253,
        "ambientIntensity": 0.2,
        "backgroundColor": "white",
        "cameraEyeSep": 0.3,
        "cameraFov": 40,
        "cameraType": "perspective",
        "clipDist": 10,
        "clipFar": 100,
        "clipMode": "scene",
        "clipNear": 0,
        "clipScale": "relative",
        "fogFar": 100,
        "fogNear": 50,
        "hoverTimeout": 0,
        "impostor": true,
        "lightColor": 14540253,
        "lightIntensity": 1,
        "mousePreset": "default",
        "panSpeed": 1,
        "quality": "medium",
        "rotateSpeed": 2,
        "sampleLevel": 0,
        "tooltip": true,
        "workerDefault": true,
        "zoomSpeed": 1.2
       },
       "_ngl_msg_archive": [
        {
         "args": [
          {
           "binary": false,
           "data": "@<TRIPOS>MOLECULE\n*****\n   16    16     0     0     0\nSMALL\nNO_CHARGES\n\n@<TRIPOS>ATOM\n      1 C1         -0.7030    1.2130    0.8100 C.ar      1 UNK1           nan\n      2 C2         -2.0430    1.0440    0.5250 C.ar      1 UNK1           nan\n      3 C3         -2.4440    0.0050   -0.2950 C.ar      1 UNK1           nan\n      4 C4         -1.4780   -0.8310   -0.8010 C.ar      1 UNK1           nan\n      5 C5         -0.1280   -0.6480   -0.5040 C.ar      1 UNK1           nan\n      6 C6          0.2860    0.3880    0.3160 C.ar      1 UNK1           nan\n      7 O1          1.6000    0.6090    0.6370 O.3       1 UNK1           nan\n      8 P1          2.8960   -0.3430    0.0830 P.3       1 UNK1           nan\n      9 O2          4.2250    0.3080    0.3300 O.2       1 UNK1           nan\n     10 O3          2.7470   -0.6430   -1.5910 O.3       1 UNK1           nan\n     11 O4          2.8740   -1.8210    0.9250 O.3       1 UNK1           nan\n     12 H1         -0.3900    2.0260    1.4520 H         1 UNK1           nan\n     13 H2         -2.7620    1.7350    0.9520 H         1 UNK1           nan\n     14 H3         -3.4900   -0.0880   -0.4890 H         1 UNK1           nan\n     15 H4         -1.8080   -1.6370   -1.4390 H         1 UNK1           nan\n     16 H5          0.6160   -1.3160   -0.9110 H         1 UNK1           nan\n@<TRIPOS>BOND\n     1    1    2 ar\n     2    1    6 ar\n     3    1   12 1\n     4    2    3 ar\n     5    2   13 1\n     6    3    4 ar\n     7    3   14 1\n     8    4    5 ar\n     9    4   15 1\n    10    5    6 ar\n    11    5   16 1\n    12    6    7 1\n    13    7    8 1\n    14    8    9 2\n    15    8   10 1\n    16    8   11 1\n",
           "type": "blob"
          }
         ],
         "kwargs": {
          "defaultRepresentation": true,
          "ext": "mol2",
          "name": "<openff.toolkit.utils._viz.MoleculeNGLViewTrajectory object at 0x7f4a3def28f0>"
         },
         "methodName": "loadFile",
         "reconstruc_color_scheme": false,
         "target": "Stage",
         "type": "call_method"
        },
        {
         "args": [],
         "component_index": 0,
         "kwargs": {},
         "methodName": "removeAllRepresentations",
         "reconstruc_color_scheme": false,
         "target": "compList",
         "type": "call_method"
        },
        {
         "args": [
          "licorice"
         ],
         "component_index": 0,
         "kwargs": {
          "multipleBond": true,
          "radius": 0.25,
          "sele": "*"
         },
         "methodName": "addRepresentation",
         "reconstruc_color_scheme": false,
         "target": "compList",
         "type": "call_method"
        }
       ],
       "_ngl_original_stage_parameters": {
        "ambientColor": 14540253,
        "ambientIntensity": 0.2,
        "backgroundColor": "white",
        "cameraEyeSep": 0.3,
        "cameraFov": 40,
        "cameraType": "perspective",
        "clipDist": 10,
        "clipFar": 100,
        "clipMode": "scene",
        "clipNear": 0,
        "clipScale": "relative",
        "fogFar": 100,
        "fogNear": 50,
        "hoverTimeout": 0,
        "impostor": true,
        "lightColor": 14540253,
        "lightIntensity": 1,
        "mousePreset": "default",
        "panSpeed": 1,
        "quality": "medium",
        "rotateSpeed": 2,
        "sampleLevel": 0,
        "tooltip": true,
        "workerDefault": true,
        "zoomSpeed": 1.2
       },
       "_ngl_repr_dict": {
        "0": {
         "0": {
          "params": {
           "assembly": "default",
           "bondScale": 0.4,
           "bondSpacing": 1,
           "clipCenter": {
            "x": 0,
            "y": 0,
            "z": 0
           },
           "clipNear": 0,
           "clipRadius": 0,
           "colorMode": "hcl",
           "colorReverse": false,
           "colorScale": "",
           "colorScheme": "element",
           "colorValue": 9474192,
           "cylinderOnly": false,
           "defaultAssembly": "",
           "depthWrite": true,
           "diffuse": 16777215,
           "diffuseInterior": false,
           "disableImpostor": false,
           "disablePicking": false,
           "flatShaded": false,
           "interiorColor": 2236962,
           "interiorDarkening": 0,
           "lazy": false,
           "lineOnly": false,
           "linewidth": 2,
           "matrix": {
            "elements": [
             1,
             0,
             0,
             0,
             0,
             1,
             0,
             0,
             0,
             0,
             1,
             0,
             0,
             0,
             0,
             1
            ]
           },
           "metalness": 0,
           "multipleBond": true,
           "opacity": 1,
           "openEnded": true,
           "quality": "medium",
           "radialSegments": 10,
           "radiusData": {},
           "radiusScale": 1,
           "radiusSize": 0.25,
           "radiusType": "size",
           "roughness": 0.4,
           "sele": "*",
           "side": "double",
           "sphereDetail": 1,
           "useInteriorColor": true,
           "visible": true,
           "wireframe": false
          },
          "type": "licorice"
         }
        }
       },
       "_ngl_serialize": false,
       "_ngl_version": "2.0.0-dev.39",
       "_ngl_view_id": [
        "DEEAFE6D-AF7C-4847-8B88-7828CD0A3F7E"
       ],
       "_player_dict": {},
       "_scene_position": {},
       "_scene_rotation": {},
       "_synced_model_ids": [],
       "_synced_repr_model_ids": [],
       "_view_height": "",
       "_view_width": "",
       "background": "white",
       "frame": 0,
       "gui_style": null,
       "layout": "IPY_MODEL_13fbd6b3d10348f883b732edc89e07f0",
       "max_frame": 0,
       "n_components": 1,
       "picked": {}
      }
     },
     "8c0fa62200de4908bbcfb5d4f9899d35": {
      "model_module": "@jupyter-widgets/controls",
      "model_module_version": "2.0.0",
      "model_name": "DescriptionStyleModel",
      "state": {
       "description_width": ""
      }
     },
     "8c49e019e3124f7b80d3819d102aa5d3": {
      "model_module": "@jupyter-widgets/controls",
      "model_module_version": "2.0.0",
      "model_name": "LinkModel",
      "state": {
       "source": [
        "IPY_MODEL_dd6edaf0b8ff4cc6b13d292792dcdd63",
        "value"
       ],
       "target": [
        "IPY_MODEL_7db14f54b7d940e78172ec0bb8594a24",
        "value"
       ]
      }
     },
     "9d3fc9a7c4744fd09ea979ce7230ed3b": {
      "model_module": "@jupyter-widgets/controls",
      "model_module_version": "2.0.0",
      "model_name": "LinkModel",
      "state": {
       "source": [
        "IPY_MODEL_7db14f54b7d940e78172ec0bb8594a24",
        "max"
       ],
       "target": [
        "IPY_MODEL_ff090060b4314b54b63c1a56d52b198a",
        "max_frame"
       ]
      }
     },
     "9e0a15bdde704338bd1cb7441693bbe3": {
      "model_module": "@jupyter-widgets/base",
      "model_module_version": "2.0.0",
      "model_name": "LayoutModel",
      "state": {}
     },
     "a2c103bffb7548d1b6c3b725b685f822": {
      "model_module": "@jupyter-widgets/controls",
      "model_module_version": "2.0.0",
      "model_name": "LinkModel",
      "state": {
       "source": [
        "IPY_MODEL_12263d7eb40146ebb084a96da5e16876",
        "value"
       ],
       "target": [
        "IPY_MODEL_2e70e9228ad34a40a9e7a4c3f766df7c",
        "value"
       ]
      }
     },
     "a6690fcc273f4bfa84bad7d59565b44e": {
      "model_module": "@jupyter-widgets/controls",
      "model_module_version": "2.0.0",
      "model_name": "LinkModel",
      "state": {
       "source": [
        "IPY_MODEL_5e3a519b0dc346239d7ab307b8341b22",
        "value"
       ],
       "target": [
        "IPY_MODEL_1f2775aeecfd4ac88c32484f0823b7a6",
        "value"
       ]
      }
     },
     "a9427c5eab0f4020b32529d6762e96c9": {
      "model_module": "@jupyter-widgets/base",
      "model_module_version": "2.0.0",
      "model_name": "LayoutModel",
      "state": {}
     },
     "ac14aef700cb4256943ed5f4e2d9f91a": {
      "model_module": "@jupyter-widgets/base",
      "model_module_version": "2.0.0",
      "model_name": "LayoutModel",
      "state": {}
     },
     "af41af0d7c9f4162877cd7ba8d946216": {
      "model_module": "@jupyter-widgets/base",
      "model_module_version": "2.0.0",
      "model_name": "LayoutModel",
      "state": {}
     },
     "b2eb4727a433480db22c9cf9e4edb95a": {
      "model_module": "@jupyter-widgets/base",
      "model_module_version": "2.0.0",
      "model_name": "LayoutModel",
      "state": {}
     },
     "babccdda3c43428882ef8030069a3ccc": {
      "model_module": "@jupyter-widgets/controls",
      "model_module_version": "2.0.0",
      "model_name": "LinkModel",
      "state": {
       "source": [
        "IPY_MODEL_1f2775aeecfd4ac88c32484f0823b7a6",
        "max"
       ],
       "target": [
        "IPY_MODEL_888eba42b74c4957aa9a98914a961977",
        "max_frame"
       ]
      }
     },
     "c0f836f2f98b4840b1ff588690a665ae": {
      "model_module": "nglview-js-widgets",
      "model_module_version": "3.0.8",
      "model_name": "NGLModel",
      "state": {
       "_camera_orientation": [
        91.87030962311478,
        0,
        0,
        0,
        0,
        91.87030962311478,
        0,
        0,
        0,
        0,
        91.87030962311478,
        0,
        -27.929999828338623,
        -28.194999933242798,
        -36.76499938964844,
        1
       ],
       "_camera_str": "orthographic",
       "_gui_theme": null,
       "_ibtn_fullscreen": "IPY_MODEL_40249d2708d74c52a1e45e7cda398182",
       "_igui": null,
       "_iplayer": "IPY_MODEL_cfc8816264cd4db6a318d9108a01de18",
       "_ngl_color_dict": {},
       "_ngl_coordinate_resource": {},
       "_ngl_full_stage_parameters": {
        "ambientColor": 14540253,
        "ambientIntensity": 0.2,
        "backgroundColor": "white",
        "cameraEyeSep": 0.3,
        "cameraFov": 40,
        "cameraType": "perspective",
        "clipDist": 10,
        "clipFar": 100,
        "clipMode": "scene",
        "clipNear": 0,
        "clipScale": "relative",
        "fogFar": 100,
        "fogNear": 50,
        "hoverTimeout": 0,
        "impostor": true,
        "lightColor": 14540253,
        "lightIntensity": 1,
        "mousePreset": "default",
        "panSpeed": 1,
        "quality": "medium",
        "rotateSpeed": 2,
        "sampleLevel": 0,
        "tooltip": true,
        "workerDefault": true,
        "zoomSpeed": 1.2
       },
       "_ngl_msg_archive": [
        {
         "args": [
          {
           "binary": false,
           "data": "@<TRIPOS>MOLECULE\n*****\n 2634  2654   164     0     0\nPROTEIN\nNO_CHARGES\n\n@<TRIPOS>ATOM\n      1 N1         33.4300   11.2800   44.4900 N.4       1 MET0           nan\n      2 H1         32.8600   11.8700   45.0900 H         1 MET0           nan\n      3 H2         32.9700   10.3800   44.4400 H         1 MET0           nan\n      4 H3         34.2700   11.2800   45.0500 H         1 MET0           nan\n      5 C1         33.5500   11.9700   43.2000 C.3       1 MET0           nan\n      6 H4         34.0900   12.8900   43.4100 H         1 MET0           nan\n      7 C2         34.5500   11.3900   42.2700 C.3       1 MET0           nan\n      8 H5         35.4700   11.3300   42.8500 H         1 MET0           nan\n      9 H6         34.3200   10.3700   41.9600 H         1 MET0           nan\n     10 C3         34.7300   12.3200   41.0200 C.3       1 MET0           nan\n     11 H7         35.4300   11.8400   40.3400 H         1 MET0           nan\n     12 H8         33.7200   12.3500   40.6200 H         1 MET0           nan\n     13 S1         35.2700   14.0500   41.3000 S.3       1 MET0           nan\n     14 C4         37.0500   13.8000   41.7600 C.3       1 MET0           nan\n     15 H9         37.1700   13.6500   42.8300 H         1 MET0           nan\n     16 H10        37.5000   12.9900   41.1900 H         1 MET0           nan\n     17 H11        37.5700   14.7400   41.6000 H         1 MET0           nan\n     18 C5         32.1000   12.2500   42.6600 C.2       1 MET0           nan\n     19 O1         31.3700   11.3200   42.3300 O.2       1 MET0           nan\n     20 N2         31.7400   13.5500   42.6700 N.am      2 ASN1           nan\n     21 H12        32.4900   14.1600   42.9700 H         2 ASN1           nan\n     22 C6         30.4100   14.1800   42.5800 C.3       2 ASN1           nan\n     23 H13        29.7900   13.8400   41.7500 H         2 ASN1           nan\n     24 C7         29.6800   13.9700   43.9100 C.3       2 ASN1           nan\n     25 H14        28.6100   14.0900   43.7600 H         2 ASN1           nan\n     26 H15        29.8800   13.0200   44.4100 H         2 ASN1           nan\n     27 C8         29.9300   15.0800   44.9200 C.2       2 ASN1           nan\n     28 O2         29.0600   15.9300   45.0700 O.2       2 ASN1           nan\n     29 N3         31.1500   15.1600   45.3900 N.am      2 ASN1           nan\n     30 H16        31.3000   15.7600   46.1900 H         2 ASN1           nan\n     31 H17        31.6500   14.2900   45.4300 H         2 ASN1           nan\n     32 C9         30.7800   15.6800   42.2300 C.2       2 ASN1           nan\n     33 O3         31.9200   16.1500   42.0600 O.2       2 ASN1           nan\n     34 N4         29.7200   16.4600   42.3000 N.am      3 ILE2           nan\n     35 H18        28.8000   16.0600   42.3600 H         3 ILE2           nan\n     36 C10        29.7300   17.9000   41.8500 C.3       3 ILE2           nan\n     37 H19        30.2000   17.9100   40.8700 H         3 ILE2           nan\n     38 C11        28.2600   18.4800   41.6500 C.3       3 ILE2           nan\n     39 H20        27.8600   17.8100   40.8900 H         3 ILE2           nan\n     40 C12        27.3600   18.3500   42.8600 C.3       3 ILE2           nan\n     41 H21        27.3500   17.3000   43.1600 H         3 ILE2           nan\n     42 H22        27.7500   18.7000   43.8200 H         3 ILE2           nan\n     43 H23        26.3000   18.5500   42.6900 H         3 ILE2           nan\n     44 C13        28.1600   19.9100   41.0100 C.3       3 ILE2           nan\n     45 H24        27.0900   20.1300   40.9800 H         3 ILE2           nan\n     46 H25        28.5700   20.6900   41.6600 H         3 ILE2           nan\n     47 C14        28.7000   20.0800   39.6100 C.3       3 ILE2           nan\n     48 H26        28.2400   19.3600   38.9300 H         3 ILE2           nan\n     49 H27        28.4500   21.0600   39.1900 H         3 ILE2           nan\n     50 H28        29.7900   20.0700   39.7000 H         3 ILE2           nan\n     51 C15        30.5900   18.7400   42.8300 C.2       3 ILE2           nan\n     52 O4         31.4100   19.4900   42.4300 O.2       3 ILE2           nan\n     53 N5         30.4500   18.5700   44.1700 N.am      4 PHE3           nan\n     54 H29        29.6900   18.0100   44.5300 H         4 PHE3           nan\n     55 C16        31.2200   19.3400   45.1400 C.3       4 PHE3           nan\n     56 H30        31.2300   20.3500   44.7300 H         4 PHE3           nan\n     57 C17        30.5200   19.3200   46.5600 C.3       4 PHE3           nan\n     58 H31        30.5900   18.3300   47.0000 H         4 PHE3           nan\n     59 H32        31.1400   20.0300   47.0900 H         4 PHE3           nan\n     60 C18        29.0800   19.8000   46.5900 C.ar      4 PHE3           nan\n     61 C19        28.0400   18.9000   46.6700 C.ar      4 PHE3           nan\n     62 H33        28.2200   17.8400   46.7400 H         4 PHE3           nan\n     63 C20        26.7400   19.3500   46.5300 C.ar      4 PHE3           nan\n     64 H34        26.0100   18.5600   46.4100 H         4 PHE3           nan\n     65 C21        26.3800   20.6600   46.3900 C.ar      4 PHE3           nan\n     66 H35        25.4100   21.1300   46.2800 H         4 PHE3           nan\n     67 C22        27.4300   21.6800   46.3600 C.ar      4 PHE3           nan\n     68 H36        27.2400   22.7400   46.2600 H         4 PHE3           nan\n     69 C23        28.7500   21.1600   46.5800 C.ar      4 PHE3           nan\n     70 H37        29.5700   21.8300   46.4100 H         4 PHE3           nan\n     71 C24        32.6700   18.9900   45.1900 C.2       4 PHE3           nan\n     72 O5         33.3900   19.7200   45.8800 O.2       4 PHE3           nan\n     73 N6         33.1100   17.9000   44.4400 N.am      5 GLU4           nan\n     74 H38        32.3600   17.4200   43.9600 H         5 GLU4           nan\n     75 C25        34.5600   17.7500   44.0600 C.3       5 GLU4           nan\n     76 H39        35.1200   18.2200   44.8800 H         5 GLU4           nan\n     77 C26        34.9200   16.3100   43.9400 C.3       5 GLU4           nan\n     78 H40        34.1700   15.8100   43.3300 H         5 GLU4           nan\n     79 H41        35.9200   16.2600   43.4900 H         5 GLU4           nan\n     80 C27        35.0600   15.6600   45.3700 C.3       5 GLU4           nan\n     81 H42        36.0900   15.7000   45.7400 H         5 GLU4           nan\n     82 H43        34.4200   16.0800   46.1300 H         5 GLU4           nan\n     83 C28        34.6600   14.1500   45.3300 C.2       5 GLU4           nan\n     84 O6         33.4700   13.7100   45.5900 O.co2     5 GLU4           nan\n     85 O7         35.5600   13.3000   45.0700 O.co2     5 GLU4           nan\n     86 C29        35.0100   18.4100   42.7400 C.2       5 GLU4           nan\n     87 O8         35.9900   19.1200   42.7000 O.2       5 GLU4           nan\n     88 N7         34.1900   18.2100   41.7000 N.am      6 MET5           nan\n     89 H44        33.4000   17.6000   41.8300 H         6 MET5           nan\n     90 C30        34.4900   18.8900   40.3900 C.3       6 MET5           nan\n     91 H45        35.4100   18.4500   40.0000 H         6 MET5           nan\n     92 C31        33.2700   18.3700   39.4800 C.3       6 MET5           nan\n     93 H46        33.1100   17.3100   39.6700 H         6 MET5           nan\n     94 H47        32.3800   18.9200   39.8100 H         6 MET5           nan\n     95 C32        33.4400   18.6300   37.9900 C.3       6 MET5           nan\n     96 H48        34.0300   19.5300   37.8500 H         6 MET5           nan\n     97 H49        34.1500   17.9200   37.5800 H         6 MET5           nan\n     98 S2         32.0100   18.7600   36.8500 S.3       6 MET5           nan\n     99 C33        32.8100   18.2100   35.2700 C.3       6 MET5           nan\n    100 H50        33.4400   17.3600   35.5500 H         6 MET5           nan\n    101 H51        31.9900   17.8500   34.6500 H         6 MET5           nan\n    102 H52        33.3500   19.0100   34.7500 H         6 MET5           nan\n    103 C34        34.7300   20.4000   40.3800 C.2       6 MET5           nan\n    104 O9         35.7300   20.7800   39.8600 O.2       6 MET5           nan\n    105 N8         33.8800   21.1700   41.0100 N.am      7 LEU6           nan\n    106 H53        33.0100   20.7700   41.3400 H         7 LEU6           nan\n    107 C35        33.9800   22.6400   41.1700 C.3       7 LEU6           nan\n    108 H54        34.2000   23.0600   40.1900 H         7 LEU6           nan\n    109 C36        32.7300   23.1900   41.6800 C.3       7 LEU6           nan\n    110 H55        32.5900   22.8700   42.7100 H         7 LEU6           nan\n    111 H56        32.8100   24.2700   41.6300 H         7 LEU6           nan\n    112 C37        31.4500   22.8100   40.8300 C.3       7 LEU6           nan\n    113 H57        31.3900   21.7400   40.6500 H         7 LEU6           nan\n    114 C38        30.1400   23.2600   41.5400 C.3       7 LEU6           nan\n    115 H58        30.0700   24.3500   41.5100 H         7 LEU6           nan\n    116 H59        29.3000   22.7900   41.0300 H         7 LEU6           nan\n    117 H60        30.2400   22.8900   42.5600 H         7 LEU6           nan\n    118 C39        31.4400   23.3200   39.4000 C.3       7 LEU6           nan\n    119 H61        32.4100   23.1100   38.9300 H         7 LEU6           nan\n    120 H62        30.6000   22.8500   38.8800 H         7 LEU6           nan\n    121 H63        31.1900   24.3800   39.3400 H         7 LEU6           nan\n    122 C40        35.1200   23.0000   42.1900 C.2       7 LEU6           nan\n    123 O10        35.9200   23.9000   41.9600 O.2       7 LEU6           nan\n    124 N9         35.3300   22.1500   43.2000 N.am      8 ARG7           nan\n    125 H64        34.7600   21.3200   43.3100 H         8 ARG7           nan\n    126 C41        36.3600   22.4200   44.1800 C.3       8 ARG7           nan\n    127 H65        36.4000   23.4900   44.3700 H         8 ARG7           nan\n    128 C42        35.9200   21.6500   45.4800 C.3       8 ARG7           nan\n    129 H66        34.9600   22.0800   45.7700 H         8 ARG7           nan\n    130 H67        35.8600   20.5800   45.2900 H         8 ARG7           nan\n    131 C43        36.9100   21.8600   46.6400 C.3       8 ARG7           nan\n    132 H68        37.8400   21.6700   46.0900 H         8 ARG7           nan\n    133 H69        37.0300   22.9000   46.9700 H         8 ARG7           nan\n    134 C44        36.7400   20.7800   47.8000 C.3       8 ARG7           nan\n    135 H70        37.0100   19.8900   47.2300 H         8 ARG7           nan\n    136 H71        37.5000   20.8200   48.5800 H         8 ARG7           nan\n    137 N10        35.4200   20.5000   48.3300 N.pl3     8 ARG7           nan\n    138 H72        34.7700   20.0500   47.7100 H         8 ARG7           nan\n    139 C45        34.9600   20.8900   49.4700 C.cat     8 ARG7           nan\n    140 N11        35.5900   21.6500   50.2900 N.pl3     8 ARG7           nan\n    141 H73        36.5100   22.0500   50.1600 H         8 ARG7           nan\n    142 H74        35.0400   21.8500   51.1100 H         8 ARG7           nan\n    143 N12        33.7000   20.6200   49.7900 N.pl3     8 ARG7           nan\n    144 H75        33.1300   19.9500   49.2800 H         8 ARG7           nan\n    145 H76        33.3500   20.9100   50.6900 H         8 ARG7           nan\n    146 C46        37.7900   22.1000   43.6400 C.2       8 ARG7           nan\n    147 O11        38.7400   22.8300   44.0100 O.2       8 ARG7           nan\n    148 N13        37.9500   21.1900   42.6800 N.am      9 ILE8           nan\n    149 H77        37.2100   20.5300   42.5200 H         9 ILE8           nan\n    150 C47        39.1400   21.0800   41.8300 C.3       9 ILE8           nan\n    151 H78        40.0500   21.1600   42.4300 H         9 ILE8           nan\n    152 C48        39.1600   19.6800   41.2000 C.3       9 ILE8           nan\n    153 H79        38.2400   19.3200   40.7400 H         9 ILE8           nan\n    154 C49        40.2600   19.5800   40.0900 C.3       9 ILE8           nan\n    155 H80        41.1800   19.8900   40.5900 H         9 ILE8           nan\n    156 H81        40.5100   18.6000   39.6600 H         9 ILE8           nan\n    157 H82        40.1500   20.3300   39.3100 H         9 ILE8           nan\n    158 C50        39.4800   18.6100   42.3200 C.3       9 ILE8           nan\n    159 H83        40.5300   18.7000   42.6100 H         9 ILE8           nan\n    160 H84        38.8700   18.8500   43.1900 H         9 ILE8           nan\n    161 C51        39.3000   17.1300   42.0200 C.3       9 ILE8           nan\n    162 H85        40.0100   16.6600   42.7000 H         9 ILE8           nan\n    163 H86        38.2500   16.9000   42.1600 H         9 ILE8           nan\n    164 H87        39.5900   16.8800   40.9900 H         9 ILE8           nan\n    165 C52        39.2200   22.2700   40.8200 C.2       9 ILE8           nan\n    166 O12        40.3600   22.8300   40.6900 O.2       9 ILE8           nan\n    167 N14        38.1600   22.7400   40.2100 N.am     10 ASP9           nan\n    168 H88        37.2800   22.2500   40.3200 H        10 ASP9           nan\n    169 C53        38.3200   23.8200   39.1700 C.3      10 ASP9           nan\n    170 H89        39.2200   23.5400   38.6300 H        10 ASP9           nan\n    171 C54        37.1100   23.8800   38.1700 C.3      10 ASP9           nan\n    172 H90        36.2700   24.0100   38.8500 H        10 ASP9           nan\n    173 H91        37.1500   24.7100   37.4700 H        10 ASP9           nan\n    174 C55        36.9600   22.6200   37.3200 C.2      10 ASP9           nan\n    175 O13        37.9500   22.1300   36.8000 O.co2    10 ASP9           nan\n    176 O14        35.7700   22.1800   37.1000 O.co2    10 ASP9           nan\n    177 C56        38.5300   25.2800   39.7400 C.2      10 ASP9           nan\n    178 O15        39.0200   26.2200   39.0300 O.2      10 ASP9           nan\n    179 N15        38.2900   25.4400   41.0100 N.am     11 GLU10          nan\n    180 H92        37.7900   24.6600   41.4100 H        11 GLU10          nan\n    181 C57        38.3700   26.7400   41.7500 C.3      11 GLU10          nan\n    182 H93        38.8100   27.4800   41.0700 H        11 GLU10          nan\n    183 C58        36.9500   27.1100   42.1900 C.3      11 GLU10          nan\n    184 H94        36.5000   26.2800   42.7300 H        11 GLU10          nan\n    185 H95        37.0200   28.0100   42.8100 H        11 GLU10          nan\n    186 C59        35.9500   27.3900   41.0100 C.3      11 GLU10          nan\n    187 H96        35.8200   26.5400   40.3400 H        11 GLU10          nan\n    188 H97        34.9600   27.5000   41.4500 H        11 GLU10          nan\n    189 C60        36.3700   28.6200   40.1700 C.2      11 GLU10          nan\n    190 O16        35.7200   28.7900   39.1000 O.co2    11 GLU10          nan\n    191 O17        37.3800   29.2800   40.4600 O.co2    11 GLU10          nan\n    192 C61        39.2900   26.7200   42.9600 C.2      11 GLU10          nan\n    193 O18        39.9700   27.6900   43.1900 O.2      11 GLU10          nan\n    194 N16        39.3200   25.6000   43.6600 N.am     12 GLY11          nan\n    195 H98        38.6700   24.9100   43.3400 H        12 GLY11          nan\n    196 C62        39.9100   25.5900   45.0500 C.3      12 GLY11          nan\n    197 H99        39.9700   24.5600   45.3800 H        12 GLY11          nan\n    198 H100       40.9200   26.0000   44.9900 H        12 GLY11          nan\n    199 C63        39.1900   26.4600   46.0500 C.2      12 GLY11          nan\n    200 O19        38.1100   27.0000   45.7900 O.2      12 GLY11          nan\n    201 N17        39.8100   26.6400   47.2300 N.am     13 LEU12          nan\n    202 H101       40.5100   25.9400   47.4400 H        13 LEU12          nan\n    203 C64        39.3100   27.4700   48.3100 C.3      13 LEU12          nan\n    204 H102       38.2500   27.6900   48.1500 H        13 LEU12          nan\n    205 C65        39.6000   26.7200   49.6400 C.3      13 LEU12          nan\n    206 H103       39.2800   25.6800   49.5700 H        13 LEU12          nan\n    207 H104       40.6800   26.7800   49.8000 H        13 LEU12          nan\n    208 C66        38.9200   27.4300   50.8900 C.3      13 LEU12          nan\n    209 H105       39.3800   28.4200   50.9800 H        13 LEU12          nan\n    210 C67        37.4800   27.6200   50.8400 C.3      13 LEU12          nan\n    211 H106       37.0500   26.6200   50.7900 H        13 LEU12          nan\n    212 H107       37.1400   28.0100   51.8000 H        13 LEU12          nan\n    213 H108       37.0300   28.2600   50.0800 H        13 LEU12          nan\n    214 C68        39.1500   26.4800   52.0700 C.3      13 LEU12          nan\n    215 H109       38.6400   25.5300   51.9000 H        13 LEU12          nan\n    216 H110       40.2200   26.3200   52.2100 H        13 LEU12          nan\n    217 H111       38.7100   26.8900   52.9800 H        13 LEU12          nan\n    218 C69        40.1700   28.8000   48.3700 C.2      13 LEU12          nan\n    219 O20        41.3700   28.7600   48.5000 O.2      13 LEU12          nan\n    220 N18        39.4700   29.9600   48.2900 N.am     14 ARG13          nan\n    221 H112       38.5600   29.8600   47.8700 H        14 ARG13          nan\n    222 C70        40.0200   31.3000   48.5100 C.3      14 ARG13          nan\n    223 H113       41.0200   31.1600   48.9300 H        14 ARG13          nan\n    224 C71        40.1800   32.0700   47.1700 C.3      14 ARG13          nan\n    225 H114       39.2400   31.9600   46.6300 H        14 ARG13          nan\n    226 H115       40.2800   33.1300   47.4000 H        14 ARG13          nan\n    227 C72        41.4000   31.5800   46.4500 C.3      14 ARG13          nan\n    228 H116       42.3100   31.6700   47.0500 H        14 ARG13          nan\n    229 H117       41.2900   30.5000   46.3400 H        14 ARG13          nan\n    230 C73        41.5100   32.3500   45.1500 C.3      14 ARG13          nan\n    231 H118       41.0600   33.3300   45.2900 H        14 ARG13          nan\n    232 H119       42.5400   32.5500   44.8300 H        14 ARG13          nan\n    233 N19        40.6900   31.5800   44.1600 N.pl3    14 ARG13          nan\n    234 H120       39.8300   31.1500   44.4900 H        14 ARG13          nan\n    235 C74        40.9900   31.2100   42.9300 C.cat    14 ARG13          nan\n    236 N20        42.0200   31.6700   42.2900 N.pl3    14 ARG13          nan\n    237 H121       42.5900   32.3800   42.7400 H        14 ARG13          nan\n    238 H122       42.1700   31.3100   41.3600 H        14 ARG13          nan\n    239 N21        40.1200   30.3400   42.3400 N.pl3    14 ARG13          nan\n    240 H123       39.3800   29.8400   42.8100 H        14 ARG13          nan\n    241 H124       40.1800   30.1700   41.3400 H        14 ARG13          nan\n    242 C75        39.1900   32.1300   49.5300 C.2      14 ARG13          nan\n    243 O21        38.1200   32.6000   49.2100 O.2      14 ARG13          nan\n    244 N22        39.7200   32.2400   50.7800 N.am     15 LEU14          nan\n    245 H125       40.5600   31.6800   50.8900 H        15 LEU14          nan\n    246 C76        39.0700   32.8600   51.9500 C.3      15 LEU14          nan\n    247 H126       37.9800   32.7600   51.9200 H        15 LEU14          nan\n    248 C77        39.5400   32.1600   53.2700 C.3      15 LEU14          nan\n    249 H127       40.6300   32.2000   53.2900 H        15 LEU14          nan\n    250 H128       39.2100   32.6900   54.1700 H        15 LEU14          nan\n    251 C78        39.1600   30.6400   53.4700 C.3      15 LEU14          nan\n    252 H129       39.5500   29.9700   52.7000 H        15 LEU14          nan\n    253 C79        39.7500   30.2500   54.7900 C.3      15 LEU14          nan\n    254 H130       39.5100   29.1900   54.9100 H        15 LEU14          nan\n    255 H131       40.8300   30.3300   54.7100 H        15 LEU14          nan\n    256 H132       39.4000   30.7700   55.6800 H        15 LEU14          nan\n    257 C80        37.6500   30.5100   53.5400 C.3      15 LEU14          nan\n    258 H133       37.2600   31.3200   54.1600 H        15 LEU14          nan\n    259 H134       37.2400   30.3700   52.5400 H        15 LEU14          nan\n    260 H135       37.4000   29.5700   54.0300 H        15 LEU14          nan\n    261 C81        39.1800   34.3700   52.0500 C.2      15 LEU14          nan\n    262 O22        38.4300   34.9500   52.8500 O.2      15 LEU14          nan\n    263 N23        40.0000   35.0300   51.1400 N.am     16 LYS15          nan\n    264 H136       40.5300   34.5300   50.4300 H        16 LYS15          nan\n    265 C82        40.0900   36.5300   51.0700 C.3      16 LYS15          nan\n    266 H137       39.3900   36.9800   51.7700 H        16 LYS15          nan\n    267 C83        41.5500   36.8600   51.5600 C.3      16 LYS15          nan\n    268 H138       41.6700   36.4000   52.5500 H        16 LYS15          nan\n    269 H139       42.2700   36.3400   50.9300 H        16 LYS15          nan\n    270 C84        41.8300   38.4100   51.5100 C.3      16 LYS15          nan\n    271 H140       41.9300   38.6300   50.4400 H        16 LYS15          nan\n    272 H141       40.9900   39.0000   51.8800 H        16 LYS15          nan\n    273 C85        43.1800   38.8100   52.1600 C.3      16 LYS15          nan\n    274 H142       43.2700   38.3000   53.1200 H        16 LYS15          nan\n    275 H143       43.9700   38.4500   51.5100 H        16 LYS15          nan\n    276 C86        43.1700   40.3900   52.3600 C.3      16 LYS15          nan\n    277 H144       42.9300   40.8300   51.3900 H        16 LYS15          nan\n    278 H145       42.3400   40.6300   53.0200 H        16 LYS15          nan\n    279 N24        44.5200   40.7900   52.8400 N.4      16 LYS15          nan\n    280 H146       45.2000   40.8200   52.1000 H        16 LYS15          nan\n    281 H147       44.5000   41.7000   53.2700 H        16 LYS15          nan\n    282 H148       44.9500   40.2300   53.5700 H        16 LYS15          nan\n    283 C87        39.7300   36.9700   49.6600 C.2      16 LYS15          nan\n    284 O23        39.9700   36.2300   48.7600 O.2      16 LYS15          nan\n    285 N25        39.1600   38.2200   49.4600 N.am     17 ILE16          nan\n    286 H149       38.9700   38.8500   50.2300 H        17 ILE16          nan\n    287 C88        38.7100   38.6100   48.0900 C.3      17 ILE16          nan\n    288 H150       37.9500   37.8800   47.7800 H        17 ILE16          nan\n    289 C89        38.0500   40.1000   48.0600 C.3      17 ILE16          nan\n    290 H151       38.7400   40.8200   48.4900 H        17 ILE16          nan\n    291 C90        37.7700   40.5100   46.6200 C.3      17 ILE16          nan\n    292 H152       38.7000   40.6600   46.0700 H        17 ILE16          nan\n    293 H153       37.3600   39.7100   46.0100 H        17 ILE16          nan\n    294 H154       37.1500   41.4000   46.4800 H        17 ILE16          nan\n    295 C91        36.8300   40.0500   48.9700 C.3      17 ILE16          nan\n    296 H155       36.2300   39.1900   48.6700 H        17 ILE16          nan\n    297 H156       37.2200   39.9400   49.9800 H        17 ILE16          nan\n    298 C92        35.7800   41.1600   48.7900 C.3      17 ILE16          nan\n    299 H157       36.2800   42.1100   48.9800 H        17 ILE16          nan\n    300 H158       35.2800   41.3100   47.8300 H        17 ILE16          nan\n    301 H159       35.0200   41.0600   49.5800 H        17 ILE16          nan\n    302 C93        39.8400   38.4100   47.0000 C.2      17 ILE16          nan\n    303 O24        41.0300   38.7800   47.1400 O.2      17 ILE16          nan\n    304 N26        39.4500   37.9400   45.7800 N.am     18 TYR17          nan\n    305 H160       38.4400   37.8600   45.6900 H        18 TYR17          nan\n    306 C94        40.1800   37.8700   44.5500 C.3      18 TYR17          nan\n    307 H161       41.0600   38.5000   44.5900 H        18 TYR17          nan\n    308 C95        40.6000   36.4300   44.3500 C.3      18 TYR17          nan\n    309 H162       41.2400   36.4300   43.4700 H        18 TYR17          nan\n    310 H163       41.2100   36.0700   45.1800 H        18 TYR17          nan\n    311 C96        39.5700   35.3700   44.1100 C.ar     18 TYR17          nan\n    312 C97        38.8600   34.8200   45.1600 C.ar     18 TYR17          nan\n    313 H164       38.9700   35.1100   46.1900 H        18 TYR17          nan\n    314 C98        37.8900   33.7500   44.9600 C.ar     18 TYR17          nan\n    315 H165       37.2900   33.4100   45.8000 H        18 TYR17          nan\n    316 C99        37.7400   33.1100   43.6600 C.ar     18 TYR17          nan\n    317 O25        36.7100   32.2100   43.4500 O.3      18 TYR17          nan\n    318 H166       36.7300   31.8400   42.5700 H        18 TYR17          nan\n    319 C100       38.6300   33.5700   42.6700 C.ar     18 TYR17          nan\n    320 H167       38.6000   33.0400   41.7300 H        18 TYR17          nan\n    321 C101       39.4700   34.6700   42.8900 C.ar     18 TYR17          nan\n    322 H168       39.9900   35.0200   42.0100 H        18 TYR17          nan\n    323 C102       39.2700   38.3300   43.4100 C.2      18 TYR17          nan\n    324 O26        38.0800   38.5200   43.6100 O.2      18 TYR17          nan\n    325 N27        39.8600   38.5700   42.2400 N.am     19 LYS18          nan\n    326 H169       40.8600   38.4600   42.1100 H        19 LYS18          nan\n    327 C103       39.2000   38.8000   40.9200 C.3      19 LYS18          nan\n    328 H170       38.1400   39.0400   41.0400 H        19 LYS18          nan\n    329 C104       39.9400   40.0500   40.3300 C.3      19 LYS18          nan\n    330 H171       40.9600   39.7300   40.1300 H        19 LYS18          nan\n    331 H172       39.5300   40.1900   39.3300 H        19 LYS18          nan\n    332 C105       39.9600   41.4100   41.0700 C.3      19 LYS18          nan\n    333 H173       38.9700   41.8700   41.0700 H        19 LYS18          nan\n    334 H174       40.3000   41.2500   42.1000 H        19 LYS18          nan\n    335 C106       40.7700   42.5500   40.3500 C.3      19 LYS18          nan\n    336 H175       41.7300   42.2500   39.9300 H        19 LYS18          nan\n    337 H176       40.0900   42.7800   39.5300 H        19 LYS18          nan\n    338 C107       40.8400   43.7600   41.2700 C.3      19 LYS18          nan\n    339 H177       39.8700   44.2400   41.3800 H        19 LYS18          nan\n    340 H178       41.3200   43.4200   42.1900 H        19 LYS18          nan\n    341 N28        41.7000   44.6600   40.4800 N.4      19 LYS18          nan\n    342 H179       41.9800   45.4200   41.0800 H        19 LYS18          nan\n    343 H180       42.5400   44.2700   40.0800 H        19 LYS18          nan\n    344 H181       41.2100   45.0700   39.7000 H        19 LYS18          nan\n    345 C108       39.3200   37.5100   40.0600 C.2      19 LYS18          nan\n    346 O27        40.3100   36.7700   40.1400 O.2      19 LYS18          nan\n    347 N29        38.2700   37.3300   39.2500 N.am     20 ASP19          nan\n    348 H182       37.6200   38.0900   39.1500 H        20 ASP19          nan\n    349 C109       38.1600   36.1000   38.4200 C.3      20 ASP19          nan\n    350 H183       38.6700   35.2900   38.9400 H        20 ASP19          nan\n    351 C110       36.6600   35.6400   38.3300 C.3      20 ASP19          nan\n    352 H184       36.6000   34.7300   37.7300 H        20 ASP19          nan\n    353 H185       36.2400   35.4500   39.3200 H        20 ASP19          nan\n    354 C111       35.6900   36.5600   37.6300 C.2      20 ASP19          nan\n    355 O28        36.1100   37.3700   36.7400 O.co2    20 ASP19          nan\n    356 O29        34.4300   36.3300   37.7100 O.co2    20 ASP19          nan\n    357 C112       38.8700   36.3300   37.0500 C.2      20 ASP19          nan\n    358 O30        39.6300   37.3300   36.7800 O.2      20 ASP19          nan\n    359 N30        38.6200   35.3900   36.0800 N.am     21 THR20          nan\n    360 H186       38.3000   34.5100   36.4400 H        21 THR20          nan\n    361 C113       39.2200   35.4400   34.7500 C.3      21 THR20          nan\n    362 H187       40.3100   35.5300   34.7800 H        21 THR20          nan\n    363 C114       38.8800   34.1700   34.0500 C.3      21 THR20          nan\n    364 H188       37.9000   34.3000   33.5900 H        21 THR20          nan\n    365 C115       39.8900   33.7000   33.0500 C.3      21 THR20          nan\n    366 H189       39.4800   32.8300   32.5400 H        21 THR20          nan\n    367 H190       40.0300   34.5100   32.3300 H        21 THR20          nan\n    368 H191       40.8200   33.5200   33.5800 H        21 THR20          nan\n    369 O31        38.7800   33.0600   34.9200 O.3      21 THR20          nan\n    370 H192       39.5700   32.9900   35.4600 H        21 THR20          nan\n    371 C116       38.7700   36.6700   33.8800 C.2      21 THR20          nan\n    372 O32        39.5200   37.0700   32.9900 O.2      21 THR20          nan\n    373 N31        37.6000   37.1900   34.2400 N.am     22 GLU21          nan\n    374 H193       37.0600   36.7600   34.9700 H        22 GLU21          nan\n    375 C117       37.0400   38.4500   33.6900 C.3      22 GLU21          nan\n    376 H194       37.5900   38.7400   32.7900 H        22 GLU21          nan\n    377 C118       35.5500   38.2700   33.1900 C.3      22 GLU21          nan\n    378 H195       34.9300   37.9900   34.0400 H        22 GLU21          nan\n    379 H196       35.1800   39.1700   32.7200 H        22 GLU21          nan\n    380 C119       35.2600   37.1000   32.1300 C.3      22 GLU21          nan\n    381 H197       35.9100   36.2900   32.4700 H        22 GLU21          nan\n    382 H198       34.2000   36.8500   32.2500 H        22 GLU21          nan\n    383 C120       35.4600   37.6800   30.7400 C.2      22 GLU21          nan\n    384 O33        36.5800   38.1200   30.4600 O.co2    22 GLU21          nan\n    385 O34        34.5400   37.7800   29.9100 O.co2    22 GLU21          nan\n    386 C121       37.2300   39.5800   34.6900 C.2      22 GLU21          nan\n    387 O35        36.7700   40.6600   34.5000 O.2      22 GLU21          nan\n    388 N32        38.0200   39.4700   35.7800 N.am     23 GLY22          nan\n    389 H199       38.3700   38.5300   35.9000 H        23 GLY22          nan\n    390 C122       38.4700   40.4900   36.7600 C.3      23 GLY22          nan\n    391 H200       39.3200   40.0000   37.2400 H        23 GLY22          nan\n    392 H201       38.8700   41.3400   36.2200 H        23 GLY22          nan\n    393 C123       37.4100   40.9100   37.7900 C.2      23 GLY22          nan\n    394 O36        37.5800   41.9800   38.3900 O.2      23 GLY22          nan\n    395 N33        36.3200   40.1600   37.9800 N.am     24 TYR23          nan\n    396 H202       36.0900   39.3800   37.3800 H        24 TYR23          nan\n    397 C124       35.2100   40.5500   38.8300 C.3      24 TYR23          nan\n    398 H203       35.1400   41.6400   38.8700 H        24 TYR23          nan\n    399 C125       33.9000   40.0800   38.1300 C.3      24 TYR23          nan\n    400 H204       33.9300   39.0000   37.9600 H        24 TYR23          nan\n    401 H205       32.9900   40.3500   38.6700 H        24 TYR23          nan\n    402 C126       33.7500   40.8100   36.8100 C.ar     24 TYR23          nan\n    403 C127       33.8400   42.2100   36.7300 C.ar     24 TYR23          nan\n    404 H206       34.1600   42.8800   37.5200 H        24 TYR23          nan\n    405 C128       33.4400   42.9100   35.6100 C.ar     24 TYR23          nan\n    406 H207       33.3700   43.9800   35.5200 H        24 TYR23          nan\n    407 C129       33.1000   42.1700   34.4700 C.ar     24 TYR23          nan\n    408 O37        32.8800   42.8400   33.2900 O.3      24 TYR23          nan\n    409 H208       32.8100   42.2600   32.5300 H        24 TYR23          nan\n    410 C130       33.1900   40.8000   34.5000 C.ar     24 TYR23          nan\n    411 H209       33.0800   40.2500   33.5700 H        24 TYR23          nan\n    412 C131       33.4100   40.0600   35.6800 C.ar     24 TYR23          nan\n    413 H210       33.4600   38.9800   35.6700 H        24 TYR23          nan\n    414 C132       35.3500   39.9800   40.2400 C.2      24 TYR23          nan\n    415 O38        35.8200   38.8500   40.5000 O.2      24 TYR23          nan\n    416 N34        35.1100   40.8500   41.2400 N.am     25 TYR24          nan\n    417 H211       34.6100   41.6800   40.9600 H        25 TYR24          nan\n    418 C133       35.4800   40.6000   42.6500 C.3      25 TYR24          nan\n    419 H212       36.4900   40.1900   42.6500 H        25 TYR24          nan\n    420 C134       35.4200   41.9500   43.3600 C.3      25 TYR24          nan\n    421 H213       34.6300   42.5400   42.9000 H        25 TYR24          nan\n    422 H214       35.0700   41.7900   44.3800 H        25 TYR24          nan\n    423 C135       36.7400   42.7400   43.5000 C.ar     25 TYR24          nan\n    424 C136       37.9900   42.1900   43.8100 C.ar     25 TYR24          nan\n    425 H215       38.0700   41.1400   44.0400 H        25 TYR24          nan\n    426 C137       39.1000   43.0200   44.0200 C.ar     25 TYR24          nan\n    427 H216       40.0500   42.6500   44.3700 H        25 TYR24          nan\n    428 C138       38.8700   44.4000   43.7700 C.ar     25 TYR24          nan\n    429 O39        40.0200   45.2200   43.9400 O.3      25 TYR24          nan\n    430 H217       39.9500   46.1500   43.7300 H        25 TYR24          nan\n    431 C139       37.6700   44.9500   43.3700 C.ar     25 TYR24          nan\n    432 H218       37.5600   46.0100   43.2100 H        25 TYR24          nan\n    433 C140       36.5600   44.1300   43.2500 C.ar     25 TYR24          nan\n    434 H219       35.6300   44.6300   43.0300 H        25 TYR24          nan\n    435 C141       34.6100   39.5100   43.3200 C.2      25 TYR24          nan\n    436 O40        33.4100   39.6700   43.4800 O.2      25 TYR24          nan\n    437 N35        35.2900   38.4300   43.6900 N.am     26 THR25          nan\n    438 H220       36.3000   38.4800   43.5600 H        26 THR25          nan\n    439 C142       34.7100   37.1900   44.1300 C.3      26 THR25          nan\n    440 H221       33.6400   37.2500   44.3600 H        26 THR25          nan\n    441 C143       34.9500   36.1600   43.0000 C.3      26 THR25          nan\n    442 H222       36.0100   36.0000   42.8300 H        26 THR25          nan\n    443 C144       34.3900   34.8200   43.0700 C.3      26 THR25          nan\n    444 H223       33.3100   35.0000   43.1300 H        26 THR25          nan\n    445 H224       34.5900   34.1700   42.2200 H        26 THR25          nan\n    446 H225       34.7500   34.2000   43.9000 H        26 THR25          nan\n    447 O41        34.3200   36.6600   41.7500 O.3      26 THR25          nan\n    448 H226       34.6400   37.5500   41.5900 H        26 THR25          nan\n    449 C145       35.3500   36.6700   45.3600 C.2      26 THR25          nan\n    450 O42        36.3400   37.2300   45.7600 O.2      26 THR25          nan\n    451 N36        34.7200   35.6800   45.9600 N.am     27 ILE26          nan\n    452 H227       33.7800   35.4900   45.6400 H        27 ILE26          nan\n    453 C146       35.2400   34.9400   47.2100 C.3      27 ILE26          nan\n    454 H228       36.3300   35.0300   47.1800 H        27 ILE26          nan\n    455 C147       34.8900   35.7100   48.4600 C.3      27 ILE26          nan\n    456 H229       35.0300   36.7500   48.1600 H        27 ILE26          nan\n    457 C148       33.4600   35.5100   48.8100 C.3      27 ILE26          nan\n    458 H230       33.3700   34.4800   49.1400 H        27 ILE26          nan\n    459 H231       33.2800   36.2700   49.5700 H        27 ILE26          nan\n    460 H232       32.8100   35.6000   47.9400 H        27 ILE26          nan\n    461 C149       35.8200   35.4600   49.7300 C.3      27 ILE26          nan\n    462 H233       35.5700   34.5100   50.1900 H        27 ILE26          nan\n    463 H234       36.8500   35.4600   49.3800 H        27 ILE26          nan\n    464 C150       35.6700   36.5500   50.8500 C.3      27 ILE26          nan\n    465 H235       35.7500   37.5600   50.4400 H        27 ILE26          nan\n    466 H236       34.7300   36.4400   51.3900 H        27 ILE26          nan\n    467 H237       36.4000   36.3200   51.6200 H        27 ILE26          nan\n    468 C151       34.9400   33.4200   47.2300 C.2      27 ILE26          nan\n    469 O43        34.0900   32.9300   46.4200 O.2      27 ILE26          nan\n    470 N37        35.5600   32.7000   48.1900 N.am     28 GLY27          nan\n    471 H238       36.0400   33.2500   48.8900 H        28 GLY27          nan\n    472 C152       35.3400   31.2500   48.4200 C.3      28 GLY27          nan\n    473 H239       35.9300   30.7400   49.1800 H        28 GLY27          nan\n    474 H240       34.2700   31.2300   48.6400 H        28 GLY27          nan\n    475 C153       35.5800   30.4300   47.1600 C.2      28 GLY27          nan\n    476 O44        36.6700   30.4900   46.5500 O.2      28 GLY27          nan\n    477 N38        34.6300   29.6000   46.8200 N.am     29 ILE28          nan\n    478 H241       33.7700   29.7100   47.3300 H        29 ILE28          nan\n    479 C154       34.7600   28.5600   45.7700 C.3      29 ILE28          nan\n    480 H242       35.8000   28.4200   45.4900 H        29 ILE28          nan\n    481 C155       34.4100   27.2100   46.3800 C.3      29 ILE28          nan\n    482 H243       33.3500   27.2400   46.6000 H        29 ILE28          nan\n    483 C156       34.6900   26.0200   45.4500 C.3      29 ILE28          nan\n    484 H244       33.9400   25.2500   45.6500 H        29 ILE28          nan\n    485 H245       34.7300   26.3300   44.4100 H        29 ILE28          nan\n    486 H246       35.7100   25.6900   45.6700 H        29 ILE28          nan\n    487 C157       35.2000   26.8800   47.7200 C.3      29 ILE28          nan\n    488 H247       36.2800   26.9100   47.5800 H        29 ILE28          nan\n    489 H248       34.9300   27.6300   48.4700 H        29 ILE28          nan\n    490 C158       34.8700   25.5800   48.4600 C.3      29 ILE28          nan\n    491 H249       33.7800   25.5300   48.5000 H        29 ILE28          nan\n    492 H250       35.3000   24.7700   47.8800 H        29 ILE28          nan\n    493 H251       35.1500   25.6200   49.5200 H        29 ILE28          nan\n    494 C159       33.8300   29.0300   44.5800 C.2      29 ILE28          nan\n    495 O45        32.9800   28.3100   44.1200 O.2      29 ILE28          nan\n    496 N39        34.0700   30.3100   44.1200 N.am     30 GLY29          nan\n    497 H252       34.7100   30.8600   44.6800 H        30 GLY29          nan\n    498 C160       33.4300   30.9300   42.9300 C.3      30 GLY29          nan\n    499 H253       34.2300   31.4200   42.3700 H        30 GLY29          nan\n    500 H254       32.9800   30.1300   42.3500 H        30 GLY29          nan\n    501 C161       32.2000   31.8900   43.2200 C.2      30 GLY29          nan\n    502 O46        31.5400   32.2600   42.2700 O.2      30 GLY29          nan\n    503 N40        31.9100   32.1700   44.4700 N.am     31 HIS30          nan\n    504 H255       32.6200   32.0100   45.1700 H        31 HIS30          nan\n    505 C162       30.7800   33.0000   44.8200 C.3      31 HIS30          nan\n    506 H256       29.8800   32.7600   44.2600 H        31 HIS30          nan\n    507 C163       30.4000   32.7500   46.3000 C.3      31 HIS30          nan\n    508 H257       29.9300   31.7900   46.4900 H        31 HIS30          nan\n    509 H258       31.2500   32.9800   46.9500 H        31 HIS30          nan\n    510 C164       29.2500   33.7200   46.6200 C.2      31 HIS30          nan\n    511 N41        27.9500   33.3500   46.2900 N.2      31 HIS30          nan\n    512 C165       27.1900   34.5100   46.6400 C.2      31 HIS30          nan\n    513 H259       26.1200   34.6400   46.5900 H        31 HIS30          nan\n    514 N42        27.9600   35.3600   47.3300 N.pl3    31 HIS30          nan\n    515 H260       27.6800   36.2900   47.6100 H        31 HIS30          nan\n    516 C166       29.1800   34.9300   47.2800 C.2      31 HIS30          nan\n    517 H261       30.0500   35.4200   47.7000 H        31 HIS30          nan\n    518 C167       31.1000   34.5100   44.4900 C.2      31 HIS30          nan\n    519 O47        32.0200   35.0600   45.1400 O.2      31 HIS30          nan\n    520 N43        30.4500   35.1300   43.4900 N.am     32 LEU31          nan\n    521 H262       29.7600   34.5300   43.0400 H        32 LEU31          nan\n    522 C168       30.6700   36.5100   43.0500 C.3      32 LEU31          nan\n    523 H263       31.7300   36.7300   43.1100 H        32 LEU31          nan\n    524 C169       30.2400   36.5600   41.6100 C.3      32 LEU31          nan\n    525 H264       31.0500   35.9900   41.1500 H        32 LEU31          nan\n    526 H265       29.2900   36.0200   41.5500 H        32 LEU31          nan\n    527 C170       30.2200   37.8100   40.7800 C.3      32 LEU31          nan\n    528 H266       29.6100   38.5300   41.3300 H        32 LEU31          nan\n    529 C171       31.5900   38.4000   40.6000 C.3      32 LEU31          nan\n    530 H267       32.1100   38.5600   41.5500 H        32 LEU31          nan\n    531 H268       32.2200   37.6500   40.1200 H        32 LEU31          nan\n    532 H269       31.6500   39.3400   40.0500 H        32 LEU31          nan\n    533 C172       29.6200   37.6600   39.4300 C.3      32 LEU31          nan\n    534 H270       30.1900   36.9100   38.8700 H        32 LEU31          nan\n    535 H271       28.6800   37.1500   39.6200 H        32 LEU31          nan\n    536 H272       29.5200   38.6600   39.0100 H        32 LEU31          nan\n    537 C173       29.9600   37.5400   43.9600 C.2      32 LEU31          nan\n    538 O48        28.7600   37.3000   44.2600 O.2      32 LEU31          nan\n    539 N44        30.5800   38.6900   44.1900 N.am     33 LEU32          nan\n    540 H273       31.5100   38.8600   43.8500 H        33 LEU32          nan\n    541 C174       30.0300   39.7800   44.9000 C.3      33 LEU32          nan\n    542 H274       29.2000   39.5300   45.5600 H        33 LEU32          nan\n    543 C175       31.0300   40.1800   46.0200 C.3      33 LEU32          nan\n    544 H275       31.9400   40.5100   45.5200 H        33 LEU32          nan\n    545 H276       30.6300   41.0000   46.6100 H        33 LEU32          nan\n    546 C176       31.4000   39.0200   47.0500 C.3      33 LEU32          nan\n    547 H277       31.6800   38.1100   46.5200 H        33 LEU32          nan\n    548 C177       32.6200   39.5400   47.9300 C.3      33 LEU32          nan\n    549 H278       32.3400   40.4600   48.4300 H        33 LEU32          nan\n    550 H279       32.9800   38.6900   48.5100 H        33 LEU32          nan\n    551 H280       33.4500   39.7800   47.2600 H        33 LEU32          nan\n    552 C178       30.2200   38.6700   47.8700 C.3      33 LEU32          nan\n    553 H281       29.7500   39.5300   48.3500 H        33 LEU32          nan\n    554 H282       29.4900   38.1700   47.2200 H        33 LEU32          nan\n    555 H283       30.5000   38.0100   48.6900 H        33 LEU32          nan\n    556 C179       29.6400   40.9900   44.0500 C.2      33 LEU32          nan\n    557 O49        28.5000   41.4500   44.2300 O.2      33 LEU32          nan\n    558 N45        30.5200   41.4800   43.1200 N.am     34 THR33          nan\n    559 H284       31.4900   41.2500   42.9900 H        34 THR33          nan\n    560 C180       30.1000   42.6200   42.2100 C.3      34 THR33          nan\n    561 H285       29.0700   42.4300   41.8900 H        34 THR33          nan\n    562 C181       30.2500   43.9300   43.0800 C.3      34 THR33          nan\n    563 H286       29.5500   43.8200   43.9100 H        34 THR33          nan\n    564 C182       31.6500   44.2700   43.5100 C.3      34 THR33          nan\n    565 H287       31.6700   45.2500   43.9900 H        34 THR33          nan\n    566 H288       32.0100   43.5300   44.2100 H        34 THR33          nan\n    567 H289       32.3200   44.2900   42.6400 H        34 THR33          nan\n    568 O50        29.7800   45.1000   42.3800 O.3      34 THR33          nan\n    569 H290       28.8300   45.2400   42.3700 H        34 THR33          nan\n    570 C183       30.9300   42.6500   40.9500 C.2      34 THR33          nan\n    571 O51        32.1300   42.2900   41.0800 O.2      34 THR33          nan\n    572 N46        30.4500   43.2900   39.9200 N.am     35 LYS34          nan\n    573 H291       29.4900   43.6000   39.9000 H        35 LYS34          nan\n    574 C184       31.2800   43.8400   38.8300 C.3      35 LYS34          nan\n    575 H292       32.2200   43.2900   38.8000 H        35 LYS34          nan\n    576 C185       30.5100   43.7300   37.5300 C.3      35 LYS34          nan\n    577 H293       29.6500   44.4100   37.5100 H        35 LYS34          nan\n    578 H294       31.3200   44.0200   36.8600 H        35 LYS34          nan\n    579 C186       30.1100   42.2900   37.1300 C.3      35 LYS34          nan\n    580 H295       30.9900   41.6400   37.1700 H        35 LYS34          nan\n    581 H296       29.2800   41.9300   37.7400 H        35 LYS34          nan\n    582 C187       29.6500   42.3000   35.6900 C.3      35 LYS34          nan\n    583 H297       28.7500   42.8900   35.4700 H        35 LYS34          nan\n    584 H298       30.3300   42.8900   35.0800 H        35 LYS34          nan\n    585 C188       29.5300   40.9300   35.1500 C.3      35 LYS34          nan\n    586 H299       30.5100   40.4300   35.1500 H        35 LYS34          nan\n    587 H300       28.8600   40.3400   35.7800 H        35 LYS34          nan\n    588 N47        28.9900   40.9700   33.7800 N.4      35 LYS34          nan\n    589 H301       28.0400   41.3000   33.7700 H        35 LYS34          nan\n    590 H302       29.4800   41.5300   33.1000 H        35 LYS34          nan\n    591 H303       28.8900   40.0500   33.3700 H        35 LYS34          nan\n    592 C189       31.8600   45.3100   39.1400 C.2      35 LYS34          nan\n    593 O52        32.6500   45.7500   38.2500 O.2      35 LYS34          nan\n    594 N48        31.4200   46.0300   40.2000 N.am     36 SER35          nan\n    595 H304       30.7500   45.6200   40.8300 H        36 SER35          nan\n    596 C190       31.9200   47.3800   40.4500 C.3      36 SER35          nan\n    597 H305       31.6900   48.0500   39.6200 H        36 SER35          nan\n    598 C191       31.2000   47.9200   41.7000 C.3      36 SER35          nan\n    599 H306       31.3000   47.2500   42.5500 H        36 SER35          nan\n    600 H307       31.5500   48.9000   42.0100 H        36 SER35          nan\n    601 O53        29.8600   48.1500   41.2600 O.3      36 SER35          nan\n    602 H308       29.2500   47.9100   41.9600 H        36 SER35          nan\n    603 C192       33.4200   47.3300   40.8100 C.2      36 SER35          nan\n    604 O54        33.8300   46.4500   41.5400 O.2      36 SER35          nan\n    605 N49        34.2700   48.2800   40.2900 N.am     37 PRO36          nan\n    606 C193       33.8900   49.3800   39.3500 C.3      37 PRO36          nan\n    607 H309       33.0500   50.0100   39.6300 H        37 PRO36          nan\n    608 H310       33.7200   48.9500   38.3600 H        37 PRO36          nan\n    609 C194       35.0800   50.3000   39.2100 C.3      37 PRO36          nan\n    610 H311       34.9900   51.1200   39.9200 H        37 PRO36          nan\n    611 H312       35.1900   50.4900   38.1400 H        37 PRO36          nan\n    612 C195       36.2400   49.4300   39.6800 C.3      37 PRO36          nan\n    613 H313       37.1000   49.9700   40.0700 H        37 PRO36          nan\n    614 H314       36.5100   48.8500   38.8000 H        37 PRO36          nan\n    615 C196       35.7700   48.3400   40.6200 C.3      37 PRO36          nan\n    616 H315       36.2200   47.3800   40.3700 H        37 PRO36          nan\n    617 C197       36.1800   48.7800   42.0200 C.2      37 PRO36          nan\n    618 O55        37.3400   48.6900   42.4000 O.2      37 PRO36          nan\n    619 N50        35.2200   49.1100   42.8600 N.am     38 SER37          nan\n    620 H316       34.2600   49.0300   42.5400 H        38 SER37          nan\n    621 C198       35.3900   49.3300   44.3200 C.3      38 SER37          nan\n    622 H317       36.3000   49.9200   44.3700 H        38 SER37          nan\n    623 C199       34.1700   50.0800   44.8000 C.3      38 SER37          nan\n    624 H318       34.1200   51.0200   44.2400 H        38 SER37          nan\n    625 H319       33.2400   49.5700   44.5600 H        38 SER37          nan\n    626 O56        34.3300   50.3200   46.1100 O.3      38 SER37          nan\n    627 H320       33.7300   51.0100   46.3900 H        38 SER37          nan\n    628 C200       35.4700   48.0500   45.0500 C.2      38 SER37          nan\n    629 O57        34.5000   47.2400   44.9800 O.2      38 SER37          nan\n    630 N51        36.4800   47.9700   45.8800 N.am     39 LEU38          nan\n    631 H321       37.2600   48.5900   45.7300 H        39 LEU38          nan\n    632 C201       36.6400   46.8800   46.7600 C.3      39 LEU38          nan\n    633 H322       36.3700   45.9700   46.2300 H        39 LEU38          nan\n    634 C202       38.1500   46.8000   47.1700 C.3      39 LEU38          nan\n    635 H323       38.7500   46.8700   46.2600 H        39 LEU38          nan\n    636 H324       38.2500   47.7800   47.6400 H        39 LEU38          nan\n    637 C203       38.5100   45.6400   48.1000 C.3      39 LEU38          nan\n    638 H325       37.7300   45.6500   48.8600 H        39 LEU38          nan\n    639 C204       38.3400   44.2200   47.4200 C.3      39 LEU38          nan\n    640 H326       37.3100   44.0900   47.0700 H        39 LEU38          nan\n    641 H327       39.0700   44.1000   46.6200 H        39 LEU38          nan\n    642 H328       38.4000   43.4300   48.1600 H        39 LEU38          nan\n    643 C205       39.8300   45.7300   48.8100 C.3      39 LEU38          nan\n    644 H329       39.9100   46.7200   49.2600 H        39 LEU38          nan\n    645 H330       39.8600   45.0100   49.6300 H        39 LEU38          nan\n    646 H331       40.6400   45.5800   48.0900 H        39 LEU38          nan\n    647 C206       35.6900   47.0400   47.9200 C.2      39 LEU38          nan\n    648 O58        35.0900   46.1300   48.4400 O.2      39 LEU38          nan\n    649 N52        35.4100   48.3000   48.3600 N.am     40 ASN39          nan\n    650 H332       35.9800   49.0200   47.9400 H        40 ASN39          nan\n    651 C207       34.4500   48.6900   49.3500 C.3      40 ASN39          nan\n    652 H333       34.7900   48.1200   50.2200 H        40 ASN39          nan\n    653 C208       34.5400   50.1900   49.6500 C.3      40 ASN39          nan\n    654 H334       34.3400   50.8100   48.7700 H        40 ASN39          nan\n    655 H335       33.7400   50.4500   50.3500 H        40 ASN39          nan\n    656 C209       35.8400   50.6500   50.2000 C.2      40 ASN39          nan\n    657 O59        36.8300   50.2300   49.6700 O.2      40 ASN39          nan\n    658 N53        35.8800   51.4300   51.2700 N.am     40 ASN39          nan\n    659 H336       36.7600   51.8200   51.5900 H        40 ASN39          nan\n    660 H337       35.1000   51.8200   51.7900 H        40 ASN39          nan\n    661 C210       33.0700   48.2100   49.0700 C.2      40 ASN39          nan\n    662 O60        32.4800   47.5900   49.9600 O.2      40 ASN39          nan\n    663 N54        32.6400   48.3200   47.7900 N.am     41 ALA40          nan\n    664 H338       33.1800   48.8600   47.1300 H        41 ALA40          nan\n    665 C211       31.3000   47.7100   47.4300 C.3      41 ALA40          nan\n    666 H339       30.5300   48.0700   48.1100 H        41 ALA40          nan\n    667 C212       30.9700   48.2200   46.0100 C.3      41 ALA40          nan\n    668 H340       31.0000   49.3000   45.8600 H        41 ALA40          nan\n    669 H341       31.6500   47.7800   45.2800 H        41 ALA40          nan\n    670 H342       29.9600   47.9300   45.7000 H        41 ALA40          nan\n    671 C213       31.3200   46.1900   47.4700 C.2      41 ALA40          nan\n    672 O61        30.3200   45.6000   47.9400 O.2      41 ALA40          nan\n    673 N55        32.3900   45.4600   47.0800 N.am     42 ALA41          nan\n    674 H343       33.1800   46.0100   46.7800 H        42 ALA41          nan\n    675 C214       32.3900   43.9800   47.0900 C.3      42 ALA41          nan\n    676 H344       31.4400   43.6700   46.6500 H        42 ALA41          nan\n    677 C215       33.6600   43.5200   46.3500 C.3      42 ALA41          nan\n    678 H345       34.6100   43.5100   46.8900 H        42 ALA41          nan\n    679 H346       33.5500   42.4700   46.0600 H        42 ALA41          nan\n    680 H347       33.7500   44.0500   45.4100 H        42 ALA41          nan\n    681 C216       32.3300   43.5300   48.5500 C.2      42 ALA41          nan\n    682 O62        31.5600   42.6400   48.9000 O.2      42 ALA41          nan\n    683 N56        33.1100   44.1300   49.4100 N.am     43 LYS42          nan\n    684 H348       33.7700   44.8000   49.0300 H        43 LYS42          nan\n    685 C217       33.0700   43.9500   50.8700 C.3      43 LYS42          nan\n    686 H349       33.3800   42.9200   51.0400 H        43 LYS42          nan\n    687 C218       34.1200   44.8100   51.5900 C.3      43 LYS42          nan\n    688 H350       34.0900   45.8300   51.2300 H        43 LYS42          nan\n    689 H351       33.8400   44.7500   52.6400 H        43 LYS42          nan\n    690 C219       35.6100   44.3400   51.5100 C.3      43 LYS42          nan\n    691 H352       35.8000   43.5800   52.2600 H        43 LYS42          nan\n    692 H353       35.8000   43.9100   50.5200 H        43 LYS42          nan\n    693 C220       36.5600   45.5200   51.7700 C.3      43 LYS42          nan\n    694 H354       37.5700   45.2100   51.5200 H        43 LYS42          nan\n    695 H355       36.3200   46.4300   51.2200 H        43 LYS42          nan\n    696 C221       36.4500   45.9500   53.3000 C.3      43 LYS42          nan\n    697 H356       35.5800   46.5800   53.4600 H        43 LYS42          nan\n    698 H357       36.4000   45.0600   53.9400 H        43 LYS42          nan\n    699 N57        37.6700   46.6700   53.6700 N.4      43 LYS42          nan\n    700 H358       38.5400   46.1900   53.5300 H        43 LYS42          nan\n    701 H359       37.6900   47.5600   53.1900 H        43 LYS42          nan\n    702 H360       37.6300   46.9700   54.6300 H        43 LYS42          nan\n    703 C222       31.7000   44.1800   51.4600 C.2      43 LYS42          nan\n    704 O63        31.2700   43.3700   52.2600 O.2      43 LYS42          nan\n    705 N58        31.0100   45.2700   51.0300 N.am     44 SER43          nan\n    706 H361       31.4600   45.7900   50.2900 H        44 SER43          nan\n    707 C223       29.6800   45.6100   51.5800 C.3      44 SER43          nan\n    708 H362       29.6600   45.6600   52.6700 H        44 SER43          nan\n    709 C224       29.2900   46.9400   50.9700 C.3      44 SER43          nan\n    710 H363       29.1600   46.8600   49.8900 H        44 SER43          nan\n    711 H364       28.2600   47.1900   51.2500 H        44 SER43          nan\n    712 O64        30.1100   47.9800   51.3500 O.3      44 SER43          nan\n    713 H365       31.0000   47.8100   51.0200 H        44 SER43          nan\n    714 C225       28.5400   44.6700   51.0900 C.2      44 SER43          nan\n    715 O65        27.6000   44.4800   51.8600 O.2      44 SER43          nan\n    716 N59        28.6900   44.0000   49.9600 N.am     45 GLU44          nan\n    717 H366       29.3700   44.3900   49.3200 H        45 GLU44          nan\n    718 C226       27.7800   42.9500   49.4800 C.3      45 GLU44          nan\n    719 H367       26.7200   43.1300   49.6700 H        45 GLU44          nan\n    720 C227       27.9500   42.9200   47.9300 C.3      45 GLU44          nan\n    721 H368       28.9900   43.1000   47.6300 H        45 GLU44          nan\n    722 H369       27.5200   41.9700   47.6000 H        45 GLU44          nan\n    723 C228       27.3300   44.0500   47.1800 C.3      45 GLU44          nan\n    724 H370       27.9000   44.9600   47.3600 H        45 GLU44          nan\n    725 H371       27.5000   43.8000   46.1300 H        45 GLU44          nan\n    726 C229       25.8200   44.2300   47.4500 C.2      45 GLU44          nan\n    727 O66        25.2800   45.3400   47.6000 O.co2    45 GLU44          nan\n    728 O67        25.1600   43.1900   47.5100 O.co2    45 GLU44          nan\n    729 C230       28.0900   41.6100   50.1100 C.2      45 GLU44          nan\n    730 O68        27.1400   40.8700   50.3500 O.2      45 GLU44          nan\n    731 N60        29.3400   41.3100   50.3600 N.am     46 LEU45          nan\n    732 H372       30.0500   41.9800   50.1100 H        46 LEU45          nan\n    733 C231       29.7800   40.2500   51.2600 C.3      46 LEU45          nan\n    734 H373       29.5200   39.3400   50.7300 H        46 LEU45          nan\n    735 C232       31.2600   40.1600   51.3700 C.3      46 LEU45          nan\n    736 H374       31.6500   39.8700   50.3900 H        46 LEU45          nan\n    737 H375       31.6500   41.1300   51.6800 H        46 LEU45          nan\n    738 C233       31.7600   39.0300   52.2100 C.3      46 LEU45          nan\n    739 H376       31.3800   39.1700   53.2200 H        46 LEU45          nan\n    740 C234       31.4400   37.6200   51.7000 C.3      46 LEU45          nan\n    741 H377       31.9100   37.3500   50.7500 H        46 LEU45          nan\n    742 H378       31.6900   37.0000   52.5600 H        46 LEU45          nan\n    743 H379       30.3700   37.5600   51.4700 H        46 LEU45          nan\n    744 C235       33.2700   39.1700   52.1700 C.3      46 LEU45          nan\n    745 H380       33.8600   38.6000   52.8900 H        46 LEU45          nan\n    746 H381       33.8000   39.0800   51.2200 H        46 LEU45          nan\n    747 H382       33.5800   40.0500   52.7400 H        46 LEU45          nan\n    748 C236       28.9700   40.2400   52.5900 C.2      46 LEU45          nan\n    749 O69        28.5100   39.2100   53.0900 O.2      46 LEU45          nan\n    750 N61        28.8700   41.3500   53.2300 N.am     47 ASP46          nan\n    751 H383       29.3700   42.1800   52.9200 H        47 ASP46          nan\n    752 C237       28.2900   41.4300   54.6400 C.3      47 ASP46          nan\n    753 H384       28.7900   40.7300   55.3100 H        47 ASP46          nan\n    754 C238       28.5400   42.8500   55.2300 C.3      47 ASP46          nan\n    755 H385       28.1900   43.6400   54.5800 H        47 ASP46          nan\n    756 H386       28.0100   43.0400   56.1700 H        47 ASP46          nan\n    757 C239       30.0400   43.1000   55.4900 C.2      47 ASP46          nan\n    758 O70        30.8700   42.1200   55.4500 O.co2    47 ASP46          nan\n    759 O71        30.5000   44.2300   55.6900 O.co2    47 ASP46          nan\n    760 C240       26.7600   41.2100   54.6400 C.2      47 ASP46          nan\n    761 O72        26.2200   40.7400   55.6300 O.2      47 ASP46          nan\n    762 N62        26.1300   41.6900   53.6000 N.am     48 LYS47          nan\n    763 H387       26.5800   42.2300   52.8800 H        48 LYS47          nan\n    764 C241       24.7100   41.4600   53.3500 C.3      48 LYS47          nan\n    765 H388       24.1700   41.5600   54.2900 H        48 LYS47          nan\n    766 C242       24.2300   42.5100   52.3500 C.3      48 LYS47          nan\n    767 H389       24.8700   42.4100   51.4800 H        48 LYS47          nan\n    768 H390       23.2400   42.2000   52.0000 H        48 LYS47          nan\n    769 C243       24.0800   43.9000   53.0300 C.3      48 LYS47          nan\n    770 H391       23.2400   43.8900   53.7200 H        48 LYS47          nan\n    771 H392       25.0500   44.1800   53.4500 H        48 LYS47          nan\n    772 C244       23.7300   44.9100   51.9100 C.3      48 LYS47          nan\n    773 H393       22.7600   44.6500   51.4900 H        48 LYS47          nan\n    774 H394       23.5400   45.8800   52.3600 H        48 LYS47          nan\n    775 C245       24.6500   44.9900   50.7000 C.3      48 LYS47          nan\n    776 H395       25.6900   45.1800   50.9700 H        48 LYS47          nan\n    777 H396       24.5200   44.1100   50.0700 H        48 LYS47          nan\n    778 N63        24.2800   46.2400   50.0200 N.4      48 LYS47          nan\n    779 H397       24.6600   47.0900   50.4100 H        48 LYS47          nan\n    780 H398       24.4900   46.1100   49.0400 H        48 LYS47          nan\n    781 H399       23.2800   46.3400   50.1000 H        48 LYS47          nan\n    782 C246       24.5000   39.9800   52.8900 C.2      48 LYS47          nan\n    783 O73        23.3300   39.5500   52.9600 O.2      48 LYS47          nan\n    784 N64        25.4800   39.2500   52.4900 N.am     49 ALA48          nan\n    785 H400       26.4000   39.6600   52.6200 H        49 ALA48          nan\n    786 C247       25.3200   37.7500   52.2600 C.3      49 ALA48          nan\n    787 H401       24.3200   37.4800   51.9400 H        49 ALA48          nan\n    788 C248       26.2900   37.3100   51.1600 C.3      49 ALA48          nan\n    789 H402       26.2800   36.2400   50.9500 H        49 ALA48          nan\n    790 H403       26.0100   37.7800   50.2200 H        49 ALA48          nan\n    791 H404       27.2800   37.6900   51.4000 H        49 ALA48          nan\n    792 C249       25.5800   36.9500   53.4800 C.2      49 ALA48          nan\n    793 O74        24.8500   36.0000   53.6400 O.2      49 ALA48          nan\n    794 N65        26.4500   37.3400   54.4200 N.am     50 ILE49          nan\n    795 H405       26.8200   38.2700   54.3300 H        50 ILE49          nan\n    796 C250       26.6700   36.5900   55.6700 C.3      50 ILE49          nan\n    797 H406       26.1900   35.6200   55.5400 H        50 ILE49          nan\n    798 C251       28.1900   36.2800   55.8500 C.3      50 ILE49          nan\n    799 H407       28.5600   37.1900   56.3100 H        50 ILE49          nan\n    800 C252       28.4500   35.0500   56.8400 C.3      50 ILE49          nan\n    801 H408       27.8000   34.2500   56.4800 H        50 ILE49          nan\n    802 H409       29.4800   34.7300   56.7300 H        50 ILE49          nan\n    803 H410       28.2200   35.3800   57.8500 H        50 ILE49          nan\n    804 C253       29.0200   36.0200   54.6300 C.3      50 ILE49          nan\n    805 H411       29.0500   36.9200   54.0200 H        50 ILE49          nan\n    806 H412       30.0100   35.9900   55.0800 H        50 ILE49          nan\n    807 C254       28.6800   34.7400   53.8300 C.3      50 ILE49          nan\n    808 H413       29.5400   34.3400   53.2900 H        50 ILE49          nan\n    809 H414       28.4100   34.0200   54.6000 H        50 ILE49          nan\n    810 H415       27.8600   34.9200   53.1300 H        50 ILE49          nan\n    811 C255       25.9200   37.0600   56.9100 C.2      50 ILE49          nan\n    812 O75        25.6600   36.2600   57.7800 O.2      50 ILE49          nan\n    813 N66        25.6100   38.3300   56.8900 N.am     51 GLY50          nan\n    814 H416       25.7800   38.8600   56.0400 H        51 GLY50          nan\n    815 C256       24.8000   38.9300   57.9500 C.3      51 GLY50          nan\n    816 H417       24.4200   39.8600   57.5300 H        51 GLY50          nan\n    817 H418       24.0200   38.2400   58.2700 H        51 GLY50          nan\n    818 C257       25.5900   39.4100   59.1100 C.2      51 GLY50          nan\n    819 O76        25.0100   39.5400   60.1500 O.2      51 GLY50          nan\n    820 N67        26.8800   39.6800   58.9100 N.am     52 ARG51          nan\n    821 H419       27.1600   39.6200   57.9400 H        52 ARG51          nan\n    822 C258       27.8800   40.2400   59.8100 C.3      52 ARG51          nan\n    823 H420       27.4600   40.9700   60.5000 H        52 ARG51          nan\n    824 C259       28.5300   39.1400   60.7100 C.3      52 ARG51          nan\n    825 H421       29.0600   39.8000   61.3900 H        52 ARG51          nan\n    826 H422       27.8500   38.5200   61.2900 H        52 ARG51          nan\n    827 C260       29.4300   38.1800   59.9100 C.3      52 ARG51          nan\n    828 H423       28.9600   37.7400   59.0300 H        52 ARG51          nan\n    829 H424       30.3000   38.7100   59.5100 H        52 ARG51          nan\n    830 C261       29.9100   36.9500   60.7300 C.3      52 ARG51          nan\n    831 H425       30.2000   37.3500   61.7100 H        52 ARG51          nan\n    832 H426       29.0100   36.3400   60.8400 H        52 ARG51          nan\n    833 N68        30.9800   36.1400   60.0600 N.pl3    52 ARG51          nan\n    834 H427       30.7200   35.2300   59.7100 H        52 ARG51          nan\n    835 C262       32.2600   36.4600   60.1100 C.cat    52 ARG51          nan\n    836 N69        32.6100   37.6100   60.5700 N.pl3    52 ARG51          nan\n    837 H428       31.9400   38.1600   61.0900 H        52 ARG51          nan\n    838 H429       33.5600   37.9500   60.5700 H        52 ARG51          nan\n    839 N70        33.1200   35.6200   59.6000 N.pl3    52 ARG51          nan\n    840 H430       32.7900   34.8400   59.0400 H        52 ARG51          nan\n    841 H431       34.0700   35.9500   59.4800 H        52 ARG51          nan\n    842 C263       28.9700   40.9100   58.9400 C.2      52 ARG51          nan\n    843 O77        29.0900   40.6500   57.7500 O.2      52 ARG51          nan\n    844 N71        29.8300   41.7500   59.5600 N.am     53 ASN52          nan\n    845 H432       29.7100   41.8700   60.5600 H        53 ASN52          nan\n    846 C264       30.8700   42.5200   58.9400 C.3      53 ASN52          nan\n    847 H433       30.5700   42.7300   57.9100 H        53 ASN52          nan\n    848 C265       31.0200   43.8400   59.6400 C.3      53 ASN52          nan\n    849 H434       30.0800   44.4000   59.6900 H        53 ASN52          nan\n    850 H435       31.2600   43.7300   60.7000 H        53 ASN52          nan\n    851 C266       32.0600   44.7300   59.0700 C.2      53 ASN52          nan\n    852 O78        32.8300   45.2200   59.9500 O.2      53 ASN52          nan\n    853 N72        32.1900   44.9300   57.7700 N.am     53 ASN52          nan\n    854 H436       32.9300   45.5400   57.4400 H        53 ASN52          nan\n    855 H437       31.4500   44.5800   57.1900 H        53 ASN52          nan\n    856 C267       32.1800   41.6600   58.7100 C.2      53 ASN52          nan\n    857 O79        33.0000   41.5900   59.5600 O.2      53 ASN52          nan\n    858 N73        32.2300   41.0000   57.5500 N.am     54 CYS53          nan\n    859 H438       31.5600   41.1300   56.8100 H        54 CYS53          nan\n    860 C268       33.3500   40.1200   57.1800 C.3      54 CYS53          nan\n    861 H439       33.5900   39.5200   58.0600 H        54 CYS53          nan\n    862 C269       32.7000   39.1700   56.1600 C.3      54 CYS53          nan\n    863 H440       32.2000   39.6900   55.3400 H        54 CYS53          nan\n    864 H441       33.4700   38.5300   55.7300 H        54 CYS53          nan\n    865 S3         31.3900   38.0900   56.8500 S.3      54 CYS53          nan\n    866 H442       30.6100   39.0000   57.4500 H        54 CYS53          nan\n    867 C270       34.7000   40.8200   56.7900 C.2      54 CYS53          nan\n    868 O80        35.7200   40.1700   56.7400 O.2      54 CYS53          nan\n    869 N74        34.5700   42.1000   56.3700 N.am     55 ASN54          nan\n    870 H443       33.7000   42.6000   56.3000 H        55 ASN54          nan\n    871 C271       35.7300   42.9200   55.9500 C.3      55 ASN54          nan\n    872 H444       35.3600   43.8800   55.5900 H        55 ASN54          nan\n    873 C272       36.6600   43.2000   57.2000 C.3      55 ASN54          nan\n    874 H445       35.9900   43.1300   58.0600 H        55 ASN54          nan\n    875 H446       37.5000   42.5100   57.3100 H        55 ASN54          nan\n    876 C273       37.2400   44.6000   57.2800 C.2      55 ASN54          nan\n    877 O81        36.8200   45.5300   56.5600 O.2      55 ASN54          nan\n    878 N75        38.1300   44.9100   58.1500 N.am     55 ASN54          nan\n    879 H447       38.4800   45.8500   58.3200 H        55 ASN54          nan\n    880 H448       38.4600   44.1000   58.6500 H        55 ASN54          nan\n    881 C274       36.5300   42.4200   54.6800 C.2      55 ASN54          nan\n    882 O82        37.5200   43.0600   54.3500 O.2      55 ASN54          nan\n    883 N76        35.9300   41.4400   53.9800 N.am     56 GLY55          nan\n    884 H449       34.9800   41.2100   54.2200 H        56 GLY55          nan\n    885 C275       36.5500   40.8700   52.7900 C.3      56 GLY55          nan\n    886 H450       35.7500   40.7300   52.0700 H        56 GLY55          nan\n    887 H451       37.1800   41.6500   52.3700 H        56 GLY55          nan\n    888 C276       37.4000   39.6200   53.0300 C.2      56 GLY55          nan\n    889 O83        38.3000   39.3100   52.2400 O.2      56 GLY55          nan\n    890 N77        37.1100   38.8900   54.1200 N.am     57 VAL56          nan\n    891 H452       36.2600   39.1500   54.6000 H        57 VAL56          nan\n    892 C277       37.6600   37.5800   54.4600 C.3      57 VAL56          nan\n    893 H453       37.7800   37.0200   53.5300 H        57 VAL56          nan\n    894 C278       38.9400   37.6900   55.2800 C.3      57 VAL56          nan\n    895 H454       39.7100   38.1900   54.6900 H        57 VAL56          nan\n    896 C279       38.7500   38.6100   56.5600 C.3      57 VAL56          nan\n    897 H455       38.0500   38.2200   57.3000 H        57 VAL56          nan\n    898 H456       39.7200   38.7900   57.0200 H        57 VAL56          nan\n    899 H457       38.5000   39.6600   56.4200 H        57 VAL56          nan\n    900 C280       39.5200   36.2500   55.6300 C.3      57 VAL56          nan\n    901 H458       39.5400   35.6700   54.7000 H        57 VAL56          nan\n    902 H459       40.5900   36.3700   55.8000 H        57 VAL56          nan\n    903 H460       38.8900   35.7100   56.3300 H        57 VAL56          nan\n    904 C281       36.5400   36.8100   55.2200 C.2      57 VAL56          nan\n    905 O84        35.6800   37.3500   55.9100 O.2      57 VAL56          nan\n    906 N78        36.4500   35.4900   55.0000 N.am     58 ILE57          nan\n    907 H461       37.0700   35.0500   54.3400 H        58 ILE57          nan\n    908 C282       35.5400   34.6000   55.7700 C.3      58 ILE57          nan\n    909 H462       35.0800   35.1300   56.6000 H        58 ILE57          nan\n    910 C283       34.3500   34.1900   54.7300 C.3      58 ILE57          nan\n    911 H463       33.6500   33.5200   55.2200 H        58 ILE57          nan\n    912 C284       33.6300   35.4400   54.2100 C.3      58 ILE57          nan\n    913 H464       34.2000   36.0400   53.4900 H        58 ILE57          nan\n    914 H465       32.6100   35.2400   53.9000 H        58 ILE57          nan\n    915 H466       33.4500   36.1200   55.0400 H        58 ILE57          nan\n    916 C285       34.8700   33.3300   53.5600 C.3      58 ILE57          nan\n    917 H467       35.7900   33.7900   53.2000 H        58 ILE57          nan\n    918 H468       35.2000   32.3400   53.8800 H        58 ILE57          nan\n    919 C286       33.9600   33.1300   52.4200 C.3      58 ILE57          nan\n    920 H469       33.0400   32.5600   52.5800 H        58 ILE57          nan\n    921 H470       33.7000   34.0500   51.8900 H        58 ILE57          nan\n    922 H471       34.5200   32.4900   51.7400 H        58 ILE57          nan\n    923 C287       36.1900   33.3900   56.3800 C.2      58 ILE57          nan\n    924 O85        37.2900   33.0500   55.9900 O.2      58 ILE57          nan\n    925 N79        35.5500   32.6600   57.2700 N.am     59 THR58          nan\n    926 H472       34.6600   33.0400   57.5600 H        59 THR58          nan\n    927 C288       35.9800   31.3300   57.7900 C.3      59 THR58          nan\n    928 H473       37.0600   31.3300   57.6800 H        59 THR58          nan\n    929 C289       35.4900   31.1400   59.2800 C.3      59 THR58          nan\n    930 H474       36.0200   30.2400   59.5800 H        59 THR58          nan\n    931 C290       35.8100   32.2800   60.1800 C.3      59 THR58          nan\n    932 H475       36.8600   32.5000   59.9800 H        59 THR58          nan\n    933 H476       35.0500   33.0500   60.0200 H        59 THR58          nan\n    934 H477       35.6400   31.8800   61.1800 H        59 THR58          nan\n    935 O86        34.1100   30.9700   59.2000 O.3      59 THR58          nan\n    936 H478       33.6600   31.8100   59.1100 H        59 THR58          nan\n    937 C291       35.6100   30.1700   56.9000 C.2      59 THR58          nan\n    938 O87        34.6800   30.1600   56.1400 O.2      59 THR58          nan\n    939 N80        36.3400   29.0500   57.0000 N.am     60 LYS59          nan\n    940 H479       37.1300   29.0400   57.6200 H        60 LYS59          nan\n    941 C292       36.2500   27.8000   56.1800 C.3      60 LYS59          nan\n    942 H480       36.6600   28.0400   55.2000 H        60 LYS59          nan\n    943 C293       37.1600   26.7300   56.7500 C.3      60 LYS59          nan\n    944 H481       36.9800   26.5300   57.8100 H        60 LYS59          nan\n    945 H482       37.0000   25.7100   56.4000 H        60 LYS59          nan\n    946 C294       38.6800   26.9200   56.5400 C.3      60 LYS59          nan\n    947 H483       38.8600   27.0400   55.4700 H        60 LYS59          nan\n    948 H484       38.8900   27.8200   57.1300 H        60 LYS59          nan\n    949 C295       39.4700   25.7500   57.1000 C.3      60 LYS59          nan\n    950 H485       40.4700   26.1900   57.1100 H        60 LYS59          nan\n    951 H486       39.4000   25.5800   58.1700 H        60 LYS59          nan\n    952 C296       39.3800   24.4500   56.2800 C.3      60 LYS59          nan\n    953 H487       38.4400   23.9900   56.6000 H        60 LYS59          nan\n    954 H488       39.4900   24.8100   55.2500 H        60 LYS59          nan\n    955 N81        40.4500   23.5300   56.5800 N.4      60 LYS59          nan\n    956 H489       40.6200   22.7900   55.9200 H        60 LYS59          nan\n    957 H490       41.3700   23.9300   56.5100 H        60 LYS59          nan\n    958 H491       40.3500   23.0600   57.4700 H        60 LYS59          nan\n    959 C297       34.8500   27.2800   56.0200 C.2      60 LYS59          nan\n    960 O88        34.4200   26.9500   54.9100 O.2      60 LYS59          nan\n    961 N82        34.1100   27.2800   57.1000 N.am     61 ASP60          nan\n    962 H492       34.5200   27.6900   57.9300 H        61 ASP60          nan\n    963 C298       32.6800   26.8600   57.1500 C.3      61 ASP60          nan\n    964 H493       32.5400   25.8200   56.8500 H        61 ASP60          nan\n    965 C299       32.2700   26.8700   58.6300 C.3      61 ASP60          nan\n    966 H494       32.9400   26.1700   59.1300 H        61 ASP60          nan\n    967 H495       32.3800   27.8800   59.0200 H        61 ASP60          nan\n    968 C300       30.8700   26.3700   58.7600 C.2      61 ASP60          nan\n    969 O89        30.6200   25.1500   58.4600 O.co2    61 ASP60          nan\n    970 O90        29.9300   27.1400   59.1300 O.co2    61 ASP60          nan\n    971 C301       31.7800   27.7800   56.3100 C.2      61 ASP60          nan\n    972 O91        30.7400   27.3200   55.7800 O.2      61 ASP60          nan\n    973 N83        32.0500   29.1100   56.3200 N.am     62 GLU61          nan\n    974 H496       32.8400   29.3800   56.8900 H        62 GLU61          nan\n    975 C302       31.1700   30.1400   55.7600 C.3      62 GLU61          nan\n    976 H497       30.1100   29.8900   55.8900 H        62 GLU61          nan\n    977 C303       31.4000   31.4700   56.4700 C.3      62 GLU61          nan\n    978 H498       32.4500   31.7700   56.4400 H        62 GLU61          nan\n    979 H499       30.8600   32.2400   55.9300 H        62 GLU61          nan\n    980 C304       30.9700   31.5600   57.9700 C.3      62 GLU61          nan\n    981 H500       29.8800   31.5300   57.9900 H        62 GLU61          nan\n    982 H501       31.4000   30.7700   58.5900 H        62 GLU61          nan\n    983 C305       31.4400   32.8200   58.5900 C.2      62 GLU61          nan\n    984 O92        32.6100   33.1800   58.3800 O.co2    62 GLU61          nan\n    985 O93        30.7600   33.5200   59.3800 O.co2    62 GLU61          nan\n    986 C306       31.4200   30.1900   54.2000 C.2      62 GLU61          nan\n    987 O94        30.5300   30.4500   53.4300 O.2      62 GLU61          nan\n    988 N84        32.6600   29.7500   53.8100 N.am     63 ALA62          nan\n    989 H502       33.3500   29.5700   54.5300 H        63 ALA62          nan\n    990 C307       32.9700   29.4300   52.3700 C.3      63 ALA62          nan\n    991 H503       32.7400   30.1700   51.6100 H        63 ALA62          nan\n    992 C308       34.4500   29.1200   52.2000 C.3      63 ALA62          nan\n    993 H504       35.0800   29.9400   52.5200 H        63 ALA62          nan\n    994 H505       34.7100   28.2300   52.7700 H        63 ALA62          nan\n    995 H506       34.6000   28.8100   51.1700 H        63 ALA62          nan\n    996 C309       32.1200   28.2800   51.8600 C.2      63 ALA62          nan\n    997 O95        31.5500   28.3900   50.7500 O.2      63 ALA62          nan\n    998 N85        31.9300   27.1700   52.6400 N.am     64 GLU63          nan\n    999 H507       32.4300   27.2100   53.5200 H        64 GLU63          nan\n   1000 C310       31.1400   26.0000   52.3200 C.3      64 GLU63          nan\n   1001 H508       31.3100   25.8300   51.2500 H        64 GLU63          nan\n   1002 C311       31.5000   24.7000   53.0500 C.3      64 GLU63          nan\n   1003 H509       31.6100   24.9100   54.1200 H        64 GLU63          nan\n   1004 H510       30.7100   23.9600   52.9700 H        64 GLU63          nan\n   1005 C312       32.7600   24.0200   52.3800 C.3      64 GLU63          nan\n   1006 H511       32.5500   23.8400   51.3300 H        64 GLU63          nan\n   1007 H512       33.5500   24.7600   52.4400 H        64 GLU63          nan\n   1008 C313       33.1900   22.7200   53.1300 C.2      64 GLU63          nan\n   1009 O96        34.0000   21.9700   52.5800 O.co2    64 GLU63          nan\n   1010 O97        32.7100   22.5200   54.2500 O.co2    64 GLU63          nan\n   1011 C314       29.6500   26.3700   52.3800 C.2      64 GLU63          nan\n   1012 O98        29.0100   25.8000   51.5000 O.2      64 GLU63          nan\n   1013 N86        29.2000   27.1000   53.4300 N.am     65 LYS64          nan\n   1014 H513       29.8500   27.3900   54.1500 H        65 LYS64          nan\n   1015 C315       27.8100   27.6000   53.4800 C.3      65 LYS64          nan\n   1016 H514       27.0800   26.7900   53.4000 H        65 LYS64          nan\n   1017 C316       27.5900   28.3300   54.8300 C.3      65 LYS64          nan\n   1018 H515       28.4900   28.8400   55.1600 H        65 LYS64          nan\n   1019 H516       26.6500   28.8800   54.7800 H        65 LYS64          nan\n   1020 C317       27.2600   27.3800   55.9800 C.3      65 LYS64          nan\n   1021 H517       26.3400   26.8300   55.7900 H        65 LYS64          nan\n   1022 H518       28.0800   26.6700   55.9600 H        65 LYS64          nan\n   1023 C318       27.2000   28.0600   57.3200 C.3      65 LYS64          nan\n   1024 H519       28.2000   28.3800   57.6200 H        65 LYS64          nan\n   1025 H520       26.5000   28.9000   57.3200 H        65 LYS64          nan\n   1026 C319       26.6800   27.0600   58.3400 C.3      65 LYS64          nan\n   1027 H521       26.5300   27.6000   59.2800 H        65 LYS64          nan\n   1028 H522       25.7100   26.6800   58.0200 H        65 LYS64          nan\n   1029 N87        27.6200   25.8600   58.5700 N.4      65 LYS64          nan\n   1030 H523       27.3800   25.3200   59.3900 H        65 LYS64          nan\n   1031 H524       27.5000   25.2700   57.7600 H        65 LYS64          nan\n   1032 H525       28.5500   26.2400   58.7000 H        65 LYS64          nan\n   1033 C320       27.5100   28.4900   52.2400 C.2      65 LYS64          nan\n   1034 O99        26.5000   28.2200   51.5900 O.2      65 LYS64          nan\n   1035 N88        28.4100   29.2600   51.7400 N.am     66 LEU65          nan\n   1036 H526       29.2300   29.3500   52.3300 H        66 LEU65          nan\n   1037 C321       28.2200   30.0100   50.4400 C.3      66 LEU65          nan\n   1038 H527       27.2700   30.5400   50.5400 H        66 LEU65          nan\n   1039 C322       29.4100   30.9700   50.2000 C.3      66 LEU65          nan\n   1040 H528       30.3100   30.4400   50.5400 H        66 LEU65          nan\n   1041 H529       29.5100   31.1700   49.1300 H        66 LEU65          nan\n   1042 C323       29.4400   32.3600   51.0100 C.3      66 LEU65          nan\n   1043 H530       29.3000   32.2000   52.0800 H        66 LEU65          nan\n   1044 C324       30.7900   33.1000   50.7100 C.3      66 LEU65          nan\n   1045 H531       30.9600   34.0100   51.3000 H        66 LEU65          nan\n   1046 H532       31.6100   32.4300   50.9700 H        66 LEU65          nan\n   1047 H533       30.8900   33.3700   49.6600 H        66 LEU65          nan\n   1048 C325       28.2800   33.3000   50.5100 C.3      66 LEU65          nan\n   1049 H534       27.3400   32.8400   50.8000 H        66 LEU65          nan\n   1050 H535       28.3600   34.3200   50.9100 H        66 LEU65          nan\n   1051 H536       28.2200   33.4200   49.4300 H        66 LEU65          nan\n   1052 C326       28.0600   29.0500   49.2200 C.2      66 LEU65          nan\n   1053 O100       27.1600   29.2000   48.4100 O.2      66 LEU65          nan\n   1054 N89        29.0000   28.0600   49.0900 N.am     67 PHE66          nan\n   1055 H537       29.6900   28.0600   49.8300 H        67 PHE66          nan\n   1056 C327       29.1100   27.0800   47.9300 C.3      67 PHE66          nan\n   1057 H538       29.4900   27.5900   47.0400 H        67 PHE66          nan\n   1058 C328       30.2300   26.1900   48.3200 C.3      67 PHE66          nan\n   1059 H539       30.9800   26.8800   48.7000 H        67 PHE66          nan\n   1060 H540       29.9200   25.6000   49.1800 H        67 PHE66          nan\n   1061 C329       30.8400   25.1700   47.3400 C.ar     67 PHE66          nan\n   1062 C330       30.4900   25.0200   46.0400 C.ar     67 PHE66          nan\n   1063 H541       29.7800   25.7300   45.6500 H        67 PHE66          nan\n   1064 C331       31.0400   24.1100   45.1900 C.ar     67 PHE66          nan\n   1065 H542       30.7100   24.1200   44.1600 H        67 PHE66          nan\n   1066 C332       31.9100   23.1300   45.7200 C.ar     67 PHE66          nan\n   1067 H543       32.1900   22.3100   45.0700 H        67 PHE66          nan\n   1068 C333       32.3200   23.2700   47.0600 C.ar     67 PHE66          nan\n   1069 H544       32.8200   22.4200   47.5000 H        67 PHE66          nan\n   1070 C334       31.7300   24.2200   47.9000 C.ar     67 PHE66          nan\n   1071 H545       31.8300   24.1700   48.9700 H        67 PHE66          nan\n   1072 C335       27.8500   26.3100   47.6800 C.2      67 PHE66          nan\n   1073 O101       27.4200   26.1100   46.5300 O.2      67 PHE66          nan\n   1074 N90        27.1700   25.9700   48.7800 N.am     68 ASN67          nan\n   1075 H546       27.4200   26.1900   49.7300 H        68 ASN67          nan\n   1076 C336       25.9100   25.2100   48.6600 C.3      68 ASN67          nan\n   1077 H547       26.1000   24.3400   48.0200 H        68 ASN67          nan\n   1078 C337       25.3700   24.7200   50.0700 C.3      68 ASN67          nan\n   1079 H548       25.9400   23.8400   50.3600 H        68 ASN67          nan\n   1080 H549       25.5700   25.4600   50.8500 H        68 ASN67          nan\n   1081 C338       23.8800   24.3900   50.1000 C.2      68 ASN67          nan\n   1082 O102       23.0800   25.2600   50.4000 O.2      68 ASN67          nan\n   1083 N91        23.4300   23.2800   49.7200 N.am     68 ASN67          nan\n   1084 H550       22.4600   23.1300   49.9600 H        68 ASN67          nan\n   1085 H551       24.1100   22.5500   49.5800 H        68 ASN67          nan\n   1086 C339       24.8200   26.0100   47.9300 C.2      68 ASN67          nan\n   1087 O103       24.0800   25.5300   47.0400 O.2      68 ASN67          nan\n   1088 N92        24.6900   27.2200   48.4100 N.am     69 GLN68          nan\n   1089 H552       25.3900   27.5300   49.0700 H        69 GLN68          nan\n   1090 C340       23.6800   28.1400   47.9600 C.3      69 GLN68          nan\n   1091 H553       22.7300   27.6100   48.0300 H        69 GLN68          nan\n   1092 C341       23.7100   29.3100   48.9900 C.3      69 GLN68          nan\n   1093 H554       24.7000   29.7700   49.0400 H        69 GLN68          nan\n   1094 H555       23.0600   30.1600   48.7800 H        69 GLN68          nan\n   1095 C342       23.2800   29.0300   50.3900 C.3      69 GLN68          nan\n   1096 H556       22.2300   28.7400   50.4200 H        69 GLN68          nan\n   1097 H557       23.8400   28.2100   50.8400 H        69 GLN68          nan\n   1098 C343       23.3700   30.2500   51.2900 C.2      69 GLN68          nan\n   1099 O104       22.4200   30.9500   51.5400 O.2      69 GLN68          nan\n   1100 N93        24.5700   30.4800   51.8300 N.am     69 GLN68          nan\n   1101 H558       25.3700   29.8700   51.7600 H        69 GLN68          nan\n   1102 H559       24.5800   31.1800   52.5600 H        69 GLN68          nan\n   1103 C344       23.9600   28.6900   46.5500 C.2      69 GLN68          nan\n   1104 O105       23.0500   28.8700   45.7100 O.2      69 GLN68          nan\n   1105 N94        25.2300   28.7700   46.1400 N.am     70 ASP69          nan\n   1106 H560       26.0000   28.8200   46.7900 H        70 ASP69          nan\n   1107 C345       25.6500   29.1000   44.8000 C.3      70 ASP69          nan\n   1108 H561       25.0200   29.8700   44.3500 H        70 ASP69          nan\n   1109 C346       27.1400   29.5400   45.0700 C.3      70 ASP69          nan\n   1110 H562       27.0600   30.3300   45.8200 H        70 ASP69          nan\n   1111 H563       27.7900   28.7100   45.3500 H        70 ASP69          nan\n   1112 C347       27.8300   30.1300   43.8400 C.2      70 ASP69          nan\n   1113 O106       27.1300   30.8400   43.0600 O.co2    70 ASP69          nan\n   1114 O107       29.0800   30.0900   43.7500 O.co2    70 ASP69          nan\n   1115 C348       25.4200   27.9100   43.8900 C.2      70 ASP69          nan\n   1116 O108       24.8800   28.0800   42.7800 O.2      70 ASP69          nan\n   1117 N95        25.7000   26.6200   44.2800 N.am     71 VAL70          nan\n   1118 H564       26.3700   26.4300   45.0200 H        71 VAL70          nan\n   1119 C349       25.3000   25.4500   43.4000 C.3      71 VAL70          nan\n   1120 H565       25.6300   25.4900   42.3700 H        71 VAL70          nan\n   1121 C350       25.8800   24.1300   43.9400 C.3      71 VAL70          nan\n   1122 H566       25.8500   24.0700   45.0200 H        71 VAL70          nan\n   1123 C351       25.2500   22.7500   43.5200 C.3      71 VAL70          nan\n   1124 H567       25.7400   21.9400   44.0500 H        71 VAL70          nan\n   1125 H568       24.1700   22.8400   43.6500 H        71 VAL70          nan\n   1126 H569       25.3700   22.5600   42.4600 H        71 VAL70          nan\n   1127 C352       27.3600   24.0500   43.5300 C.3      71 VAL70          nan\n   1128 H570       27.9000   24.8600   44.0200 H        71 VAL70          nan\n   1129 H571       27.9100   23.1600   43.8500 H        71 VAL70          nan\n   1130 H572       27.4400   24.0600   42.4400 H        71 VAL70          nan\n   1131 C353       23.7800   25.4000   43.3100 C.2      71 VAL70          nan\n   1132 O109       23.2100   25.2500   42.2000 O.2      71 VAL70          nan\n   1133 N96        23.0100   25.5700   44.3400 N.am     72 ASP71          nan\n   1134 H573       23.4600   25.8300   45.2100 H        72 ASP71          nan\n   1135 C354       21.5600   25.5700   44.3300 C.3      72 ASP71          nan\n   1136 H574       21.4000   24.5300   44.0300 H        72 ASP71          nan\n   1137 C355       21.0400   25.7700   45.7500 C.3      72 ASP71          nan\n   1138 H575       21.4400   25.0700   46.4900 H        72 ASP71          nan\n   1139 H576       21.4400   26.7500   46.0200 H        72 ASP71          nan\n   1140 C356       19.5200   25.6600   45.7800 C.2      72 ASP71          nan\n   1141 O110       18.8900   24.5700   45.8300 O.co2    72 ASP71          nan\n   1142 O111       18.8600   26.7500   45.8100 O.co2    72 ASP71          nan\n   1143 C357       20.9000   26.5100   43.2400 C.2      72 ASP71          nan\n   1144 O112       19.9600   26.1700   42.5700 O.2      72 ASP71          nan\n   1145 N97        21.5700   27.6600   43.0500 N.am     73 ALA72          nan\n   1146 H577       22.4600   27.8800   43.4700 H        73 ALA72          nan\n   1147 C358       21.0700   28.6900   42.1100 C.3      73 ALA72          nan\n   1148 H578       19.9900   28.7900   42.1800 H        73 ALA72          nan\n   1149 C359       21.5900   30.0300   42.5800 C.3      73 ALA72          nan\n   1150 H579       22.6600   30.1000   42.7300 H        73 ALA72          nan\n   1151 H580       21.2300   30.7900   41.8800 H        73 ALA72          nan\n   1152 H581       21.1100   30.2100   43.5400 H        73 ALA72          nan\n   1153 C360       21.6000   28.3000   40.6400 C.2      73 ALA72          nan\n   1154 O113       20.9100   28.5700   39.6500 O.2      73 ALA72          nan\n   1155 N98        22.7000   27.4800   40.6100 N.am     74 ALA73          nan\n   1156 H582       23.0600   27.0700   41.4600 H        74 ALA73          nan\n   1157 C361       23.1600   26.8400   39.2900 C.3      74 ALA73          nan\n   1158 H583       23.1400   27.6400   38.5500 H        74 ALA73          nan\n   1159 C362       24.5400   26.2600   39.4400 C.3      74 ALA73          nan\n   1160 H584       24.4300   25.2100   39.7100 H        74 ALA73          nan\n   1161 H585       25.0300   26.2100   38.4700 H        74 ALA73          nan\n   1162 H586       25.1600   26.7700   40.1800 H        74 ALA73          nan\n   1163 C363       22.1000   25.7900   38.9000 C.2      74 ALA73          nan\n   1164 O114       21.5900   25.8000   37.7400 O.2      74 ALA73          nan\n   1165 N99        21.6400   25.0000   39.8600 N.am     75 VAL74          nan\n   1166 H587       22.1700   25.0400   40.7200 H        75 VAL74          nan\n   1167 C364       20.7300   23.8600   39.6700 C.3      75 VAL74          nan\n   1168 H588       21.0700   23.3000   38.8000 H        75 VAL74          nan\n   1169 C365       20.7100   22.9200   40.9300 C.3      75 VAL74          nan\n   1170 H589       20.4600   23.6100   41.7400 H        75 VAL74          nan\n   1171 C366       19.6400   21.7700   40.7600 C.3      75 VAL74          nan\n   1172 H590       19.8700   20.9800   41.4800 H        75 VAL74          nan\n   1173 H591       18.6400   22.1900   40.9100 H        75 VAL74          nan\n   1174 H592       19.7100   21.4800   39.7100 H        75 VAL74          nan\n   1175 C367       22.0400   22.2400   41.0800 C.3      75 VAL74          nan\n   1176 H593       21.9900   21.6800   42.0200 H        75 VAL74          nan\n   1177 H594       22.1000   21.5700   40.2200 H        75 VAL74          nan\n   1178 H595       22.8200   22.9800   40.9200 H        75 VAL74          nan\n   1179 C368       19.3100   24.3700   39.3000 C.2      75 VAL74          nan\n   1180 O115       18.8000   23.9800   38.2700 O.2      75 VAL74          nan\n   1181 N100       18.6900   25.2200   40.1400 N.am     76 ARG75          nan\n   1182 H596       19.1500   25.3800   41.0200 H        76 ARG75          nan\n   1183 C369       17.4300   25.9400   39.7700 C.3      76 ARG75          nan\n   1184 H597       16.6500   25.2000   39.6000 H        76 ARG75          nan\n   1185 C370       16.8400   26.6700   41.0000 C.3      76 ARG75          nan\n   1186 H598       17.4800   27.5300   41.1900 H        76 ARG75          nan\n   1187 H599       15.8700   27.0500   40.6900 H        76 ARG75          nan\n   1188 C371       16.6700   25.7900   42.2500 C.3      76 ARG75          nan\n   1189 H600       16.0600   24.9400   41.9300 H        76 ARG75          nan\n   1190 H601       17.7000   25.5600   42.5300 H        76 ARG75          nan\n   1191 C372       16.0900   26.5400   43.3900 C.3      76 ARG75          nan\n   1192 H602       16.6200   27.4900   43.3100 H        76 ARG75          nan\n   1193 H603       15.0400   26.7700   43.2200 H        76 ARG75          nan\n   1194 N101       16.3800   25.7700   44.6600 N.pl3    76 ARG75          nan\n   1195 H604       17.3700   25.6900   44.8300 H        76 ARG75          nan\n   1196 C373       15.5900   24.9300   45.2700 C.cat    76 ARG75          nan\n   1197 N102       14.3100   24.9500   45.1800 N.pl3    76 ARG75          nan\n   1198 H605       13.8900   25.7700   44.7700 H        76 ARG75          nan\n   1199 H606       13.7700   24.1700   45.5400 H        76 ARG75          nan\n   1200 N103       16.1500   24.0500   46.0900 N.pl3    76 ARG75          nan\n   1201 H607       17.1300   24.1000   46.3300 H        76 ARG75          nan\n   1202 H608       15.5000   23.6200   46.7200 H        76 ARG75          nan\n   1203 C374       17.5700   26.7300   38.4700 C.2      76 ARG75          nan\n   1204 O116       16.7200   26.6200   37.6300 O.2      76 ARG75          nan\n   1205 N104       18.6600   27.4800   38.2200 N.am     77 GLY76          nan\n   1206 H609       19.1700   27.8300   39.0200 H        77 GLY76          nan\n   1207 C375       18.9600   28.1300   36.9300 C.3      77 GLY76          nan\n   1208 H610       18.3000   28.9900   36.8300 H        77 GLY76          nan\n   1209 H611       19.9500   28.5800   36.9100 H        77 GLY76          nan\n   1210 C376       18.8100   27.2900   35.6600 C.2      77 GLY76          nan\n   1211 O117       18.0300   27.6200   34.7400 O.2      77 GLY76          nan\n   1212 N105       19.1900   25.9400   35.7100 N.am     78 ILE77          nan\n   1213 H612       19.5900   25.6300   36.5800 H        78 ILE77          nan\n   1214 C377       18.9100   25.0000   34.5700 C.3      78 ILE77          nan\n   1215 H613       19.1000   25.5200   33.6300 H        78 ILE77          nan\n   1216 C378       19.8700   23.8300   34.5800 C.3      78 ILE77          nan\n   1217 H614       19.8300   23.4000   35.5800 H        78 ILE77          nan\n   1218 C379       19.3800   22.8100   33.5000 C.3      78 ILE77          nan\n   1219 H615       18.6600   22.1200   33.9400 H        78 ILE77          nan\n   1220 H616       19.2100   23.1800   32.5000 H        78 ILE77          nan\n   1221 H617       20.1200   22.0900   33.1700 H        78 ILE77          nan\n   1222 C380       21.3200   24.2000   34.3500 C.3      78 ILE77          nan\n   1223 H618       21.4800   24.5200   33.3200 H        78 ILE77          nan\n   1224 H619       21.5500   25.0100   35.0500 H        78 ILE77          nan\n   1225 C381       22.2700   22.9700   34.5900 C.3      78 ILE77          nan\n   1226 H620       22.6400   22.6900   33.6000 H        78 ILE77          nan\n   1227 H621       23.0800   23.3300   35.2200 H        78 ILE77          nan\n   1228 H622       21.7100   22.1700   35.0700 H        78 ILE77          nan\n   1229 C382       17.4600   24.5200   34.4900 C.2      78 ILE77          nan\n   1230 O118       16.8300   24.5000   33.3800 O.2      78 ILE77          nan\n   1231 N106       17.0200   24.0300   35.6200 N.am     79 LEU78          nan\n   1232 H623       17.5400   24.1200   36.4800 H        79 LEU78          nan\n   1233 C383       15.7000   23.3800   35.7100 C.3      79 LEU78          nan\n   1234 H624       15.7600   22.4800   35.1100 H        79 LEU78          nan\n   1235 C384       15.6300   22.7700   37.1600 C.3      79 LEU78          nan\n   1236 H625       15.6700   23.5700   37.8900 H        79 LEU78          nan\n   1237 H626       14.6500   22.3400   37.3700 H        79 LEU78          nan\n   1238 C385       16.6000   21.6300   37.5800 C.3      79 LEU78          nan\n   1239 H627       17.5800   21.9200   37.2000 H        79 LEU78          nan\n   1240 C386       16.5800   21.1500   39.0200 C.3      79 LEU78          nan\n   1241 H628       16.9400   22.0000   39.6000 H        79 LEU78          nan\n   1242 H629       15.5400   20.9800   39.3300 H        79 LEU78          nan\n   1243 H630       17.1700   20.2500   39.1800 H        79 LEU78          nan\n   1244 C387       16.0200   20.4100   36.8100 C.3      79 LEU78          nan\n   1245 H631       15.9600   20.6000   35.7300 H        79 LEU78          nan\n   1246 H632       16.7900   19.6400   36.8100 H        79 LEU78          nan\n   1247 H633       15.1200   19.9800   37.2400 H        79 LEU78          nan\n   1248 C388       14.5100   24.2700   35.3800 C.2      79 LEU78          nan\n   1249 O119       13.3800   23.7700   35.3000 O.2      79 LEU78          nan\n   1250 N107       14.7600   25.5800   35.2400 N.am     80 ARG79          nan\n   1251 H634       15.7000   25.8000   35.5500 H        80 ARG79          nan\n   1252 C389       13.8200   26.6600   35.2000 C.3      80 ARG79          nan\n   1253 H635       12.7900   26.3300   35.1500 H        80 ARG79          nan\n   1254 C390       13.7600   27.5700   36.3900 C.3      80 ARG79          nan\n   1255 H636       14.7600   27.8400   36.7200 H        80 ARG79          nan\n   1256 H637       13.3900   28.5700   36.1600 H        80 ARG79          nan\n   1257 C391       13.1200   27.0600   37.7000 C.3      80 ARG79          nan\n   1258 H638       12.0400   26.9400   37.6000 H        80 ARG79          nan\n   1259 H639       13.5300   26.0600   37.9000 H        80 ARG79          nan\n   1260 C392       13.3400   28.0700   38.8500 C.3      80 ARG79          nan\n   1261 H640       14.3800   28.3700   38.9700 H        80 ARG79          nan\n   1262 H641       12.7600   28.9300   38.4900 H        80 ARG79          nan\n   1263 N108       12.8700   27.4700   40.1100 N.pl3    80 ARG79          nan\n   1264 H642       12.1500   26.7600   40.0800 H        80 ARG79          nan\n   1265 C393       13.0900   27.9700   41.3000 C.cat    80 ARG79          nan\n   1266 N109       13.8900   28.9500   41.5800 N.pl3    80 ARG79          nan\n   1267 H643       14.5000   29.3100   40.8600 H        80 ARG79          nan\n   1268 H644       14.0700   29.2700   42.5300 H        80 ARG79          nan\n   1269 N110       12.5900   27.3600   42.3300 N.pl3    80 ARG79          nan\n   1270 H645       11.9700   26.5600   42.2400 H        80 ARG79          nan\n   1271 H646       12.8000   27.6600   43.2700 H        80 ARG79          nan\n   1272 C394       13.9400   27.5300   33.9000 C.2      80 ARG79          nan\n   1273 O120       13.2300   28.4800   33.7300 O.2      80 ARG79          nan\n   1274 N111       14.7800   27.0800   32.9600 N.am     81 ASN80          nan\n   1275 H647       15.3300   26.2600   33.1600 H        81 ASN80          nan\n   1276 C395       15.0600   27.7800   31.7000 C.3      81 ASN80          nan\n   1277 H648       14.3600   28.6200   31.6400 H        81 ASN80          nan\n   1278 C396       16.4900   28.2300   31.7500 C.3      81 ASN80          nan\n   1279 H649       16.5800   28.8700   32.6300 H        81 ASN80          nan\n   1280 H650       17.0600   27.3100   31.8400 H        81 ASN80          nan\n   1281 C397       16.9900   29.0400   30.5800 C.2      81 ASN80          nan\n   1282 O121       16.8900   28.5400   29.4800 O.2      81 ASN80          nan\n   1283 N112       17.5100   30.2000   30.8500 N.am     81 ASN80          nan\n   1284 H651       17.9800   30.7500   30.1500 H        81 ASN80          nan\n   1285 H652       17.5400   30.4500   31.8300 H        81 ASN80          nan\n   1286 C398       14.7200   26.8600   30.5200 C.2      81 ASN80          nan\n   1287 O122       15.3200   25.8100   30.4000 O.2      81 ASN80          nan\n   1288 N113       13.7700   27.3000   29.7200 N.am     82 ALA81          nan\n   1289 H653       13.3500   28.1800   29.9700 H        82 ALA81          nan\n   1290 C399       13.1700   26.4000   28.7100 C.3      82 ALA81          nan\n   1291 H654       12.7900   25.4900   29.1500 H        82 ALA81          nan\n   1292 C400       12.0300   27.2700   28.1100 C.3      82 ALA81          nan\n   1293 H655       11.1700   27.2500   28.7700 H        82 ALA81          nan\n   1294 H656       12.3800   28.2900   27.9800 H        82 ALA81          nan\n   1295 H657       11.6900   26.9500   27.1300 H        82 ALA81          nan\n   1296 C401       14.0900   26.0000   27.5400 C.2      82 ALA81          nan\n   1297 O123       13.9100   24.9400   26.9900 O.2      82 ALA81          nan\n   1298 N114       15.1200   26.7900   27.3100 N.am     83 LYS82          nan\n   1299 H658       15.0500   27.6800   27.7800 H        83 LYS82          nan\n   1300 C402       16.3500   26.4600   26.4800 C.3      83 LYS82          nan\n   1301 H659       15.9900   25.9400   25.5900 H        83 LYS82          nan\n   1302 C403       17.0800   27.6700   26.0900 C.3      83 LYS82          nan\n   1303 H660       17.3600   28.2700   26.9600 H        83 LYS82          nan\n   1304 H661       18.0000   27.4200   25.5700 H        83 LYS82          nan\n   1305 C404       16.3100   28.4800   25.0800 C.3      83 LYS82          nan\n   1306 H662       16.4900   27.9500   24.1400 H        83 LYS82          nan\n   1307 H663       15.2400   28.3700   25.2700 H        83 LYS82          nan\n   1308 C405       16.6100   29.9500   24.8800 C.3      83 LYS82          nan\n   1309 H664       16.2100   30.5600   25.6900 H        83 LYS82          nan\n   1310 H665       17.6800   30.1000   24.7600 H        83 LYS82          nan\n   1311 C406       15.9300   30.2900   23.5900 C.3      83 LYS82          nan\n   1312 H666       16.5100   29.7800   22.8100 H        83 LYS82          nan\n   1313 H667       14.9200   29.8800   23.6200 H        83 LYS82          nan\n   1314 N115       16.0900   31.7000   23.3300 N.4      83 LYS82          nan\n   1315 H668       15.6400   32.1700   24.1000 H        83 LYS82          nan\n   1316 H669       17.0400   32.0200   23.2200 H        83 LYS82          nan\n   1317 H670       15.5400   31.9800   22.5300 H        83 LYS82          nan\n   1318 C407       17.2600   25.4300   27.0200 C.2      83 LYS82          nan\n   1319 O124       17.9100   24.8000   26.1600 O.2      83 LYS82          nan\n   1320 N116       17.4200   25.3200   28.3700 N.am     84 LEU83          nan\n   1321 H671       16.8700   25.9300   28.9500 H        84 LEU83          nan\n   1322 C408       18.4100   24.4300   29.0300 C.3      84 LEU83          nan\n   1323 H672       19.1200   24.1100   28.2700 H        84 LEU83          nan\n   1324 C409       19.1700   25.2200   30.0900 C.3      84 LEU83          nan\n   1325 H673       18.4900   25.3100   30.9300 H        84 LEU83          nan\n   1326 H674       19.9300   24.5000   30.4100 H        84 LEU83          nan\n   1327 C410       19.8200   26.5300   29.8900 C.3      84 LEU83          nan\n   1328 H675       19.1300   27.2200   29.3900 H        84 LEU83          nan\n   1329 C411       20.4100   27.0800   31.2500 C.3      84 LEU83          nan\n   1330 H676       21.1600   26.4500   31.7300 H        84 LEU83          nan\n   1331 H677       20.7100   28.1200   31.2300 H        84 LEU83          nan\n   1332 H678       19.6500   26.8700   32.0100 H        84 LEU83          nan\n   1333 C412       20.9800   26.4100   28.8700 C.3      84 LEU83          nan\n   1334 H679       20.6400   25.7900   28.0400 H        84 LEU83          nan\n   1335 H680       21.3900   27.3600   28.5500 H        84 LEU83          nan\n   1336 H681       21.7400   25.7200   29.2400 H        84 LEU83          nan\n   1337 C413       17.8100   23.1300   29.5900 C.2      84 LEU83          nan\n   1338 O125       18.4100   22.0700   29.4200 O.2      84 LEU83          nan\n   1339 N117       16.6200   23.2100   30.1800 N.am     85 LYS84          nan\n   1340 H682       16.3000   24.1500   30.3400 H        85 LYS84          nan\n   1341 C414       15.9000   22.1100   30.8700 C.3      85 LYS84          nan\n   1342 H683       16.5300   21.7100   31.6700 H        85 LYS84          nan\n   1343 C415       14.7000   22.6900   31.5800 C.3      85 LYS84          nan\n   1344 H684       14.5700   22.0500   32.4500 H        85 LYS84          nan\n   1345 H685       14.9700   23.6800   31.9500 H        85 LYS84          nan\n   1346 C416       13.3200   22.7600   30.9500 C.3      85 LYS84          nan\n   1347 H686       13.3200   23.2400   29.9700 H        85 LYS84          nan\n   1348 H687       12.9600   21.7400   30.8400 H        85 LYS84          nan\n   1349 C417       12.5100   23.5400   32.0300 C.3      85 LYS84          nan\n   1350 H688       12.5900   23.0800   33.0100 H        85 LYS84          nan\n   1351 H689       12.7600   24.6000   31.9900 H        85 LYS84          nan\n   1352 C418       10.9900   23.4400   31.6200 C.3      85 LYS84          nan\n   1353 H690       10.5400   24.4200   31.7800 H        85 LYS84          nan\n   1354 H691       10.9600   23.3700   30.5300 H        85 LYS84          nan\n   1355 N118       10.2900   22.2900   32.2300 N.4      85 LYS84          nan\n   1356 H692       10.4400   22.1900   33.2300 H        85 LYS84          nan\n   1357 H693        9.3100   22.5100   32.0900 H        85 LYS84          nan\n   1358 H694       10.3800   21.3800   31.8100 H        85 LYS84          nan\n   1359 C419       15.5400   20.8700   30.0300 C.2      85 LYS84          nan\n   1360 O126       15.6800   19.7300   30.5400 O.2      85 LYS84          nan\n   1361 N119       15.1400   20.9300   28.7200 N.am     86 PRO85          nan\n   1362 C420       14.9100   22.1000   27.8300 C.3      86 PRO85          nan\n   1363 H695       15.7200   22.8300   27.7800 H        86 PRO85          nan\n   1364 H696       13.9500   22.5600   28.0900 H        86 PRO85          nan\n   1365 C421       14.7300   21.5100   26.4500 C.3      86 PRO85          nan\n   1366 H697       15.5900   21.5300   25.7800 H        86 PRO85          nan\n   1367 H698       13.9300   22.0500   25.9400 H        86 PRO85          nan\n   1368 C422       14.2200   20.0600   26.7000 C.3      86 PRO85          nan\n   1369 H699       14.4700   19.3600   25.9100 H        86 PRO85          nan\n   1370 H700       13.1600   20.1100   26.9300 H        86 PRO85          nan\n   1371 C423       14.9900   19.6100   27.9300 C.3      86 PRO85          nan\n   1372 H701       14.3800   18.9100   28.4900 H        86 PRO85          nan\n   1373 C424       16.3700   18.9700   27.5000 C.2      86 PRO85          nan\n   1374 O127       16.3900   17.7600   27.2500 O.2      86 PRO85          nan\n   1375 N120       17.5000   19.7800   27.3600 N.am     87 VAL86          nan\n   1376 H702       17.3700   20.7500   27.5900 H        87 VAL86          nan\n   1377 C425       18.8700   19.2900   27.0300 C.3      87 VAL86          nan\n   1378 H703       18.8300   18.6300   26.1700 H        87 VAL86          nan\n   1379 C426       19.8300   20.4500   26.7800 C.3      87 VAL86          nan\n   1380 H704       20.0200   21.1400   27.6000 H        87 VAL86          nan\n   1381 C427       21.1700   19.8100   26.3600 C.3      87 VAL86          nan\n   1382 H705       21.6200   19.1000   27.0500 H        87 VAL86          nan\n   1383 H706       21.0100   19.2500   25.4400 H        87 VAL86          nan\n   1384 H707       21.8200   20.6500   26.1000 H        87 VAL86          nan\n   1385 C428       19.2100   21.2800   25.6900 C.3      87 VAL86          nan\n   1386 H708       18.1500   21.5300   25.7700 H        87 VAL86          nan\n   1387 H709       19.7400   22.2200   25.5600 H        87 VAL86          nan\n   1388 H710       19.3500   20.6700   24.7900 H        87 VAL86          nan\n   1389 C429       19.2200   18.4600   28.3200 C.2      87 VAL86          nan\n   1390 O128       19.4800   17.2500   28.2700 O.2      87 VAL86          nan\n   1391 N121       19.1700   19.0500   29.5000 N.am     88 TYR87          nan\n   1392 H711       18.8500   20.0100   29.4900 H        88 TYR87          nan\n   1393 C430       19.4700   18.4400   30.8000 C.3      88 TYR87          nan\n   1394 H712       20.5000   18.0900   30.7200 H        88 TYR87          nan\n   1395 C431       19.3300   19.5400   31.8600 C.3      88 TYR87          nan\n   1396 H713       19.9300   20.3900   31.5200 H        88 TYR87          nan\n   1397 H714       18.3200   19.9300   31.8100 H        88 TYR87          nan\n   1398 C432       19.7200   19.2500   33.3000 C.ar     88 TYR87          nan\n   1399 C433       21.0300   19.5500   33.8100 C.ar     88 TYR87          nan\n   1400 H715       21.8000   19.9700   33.1700 H        88 TYR87          nan\n   1401 C434       21.3400   19.3600   35.1800 C.ar     88 TYR87          nan\n   1402 H716       22.3300   19.5600   35.5600 H        88 TYR87          nan\n   1403 C435       20.2900   18.7300   35.9800 C.ar     88 TYR87          nan\n   1404 O129       20.5600   18.4300   37.2500 O.3      88 TYR87          nan\n   1405 H717       19.8200   17.9800   37.6700 H        88 TYR87          nan\n   1406 C436       19.0000   18.4300   35.4600 C.ar     88 TYR87          nan\n   1407 H718       18.2400   17.9600   36.0700 H        88 TYR87          nan\n   1408 C437       18.6800   18.7400   34.1100 C.ar     88 TYR87          nan\n   1409 H719       17.7500   18.4800   33.6200 H        88 TYR87          nan\n   1410 C438       18.6700   17.2300   31.1700 C.2      88 TYR87          nan\n   1411 O130       19.2000   16.1400   31.3900 O.2      88 TYR87          nan\n   1412 N122       17.3600   17.3200   30.9500 N.am     89 ASP88          nan\n   1413 H720       16.9700   18.2300   30.7400 H        89 ASP88          nan\n   1414 C439       16.4000   16.2000   30.9300 C.3      89 ASP88          nan\n   1415 H721       16.3700   15.8400   31.9600 H        89 ASP88          nan\n   1416 C440       15.0500   16.6500   30.4500 C.3      89 ASP88          nan\n   1417 H722       14.6200   17.3700   31.1500 H        89 ASP88          nan\n   1418 H723       15.1100   17.1100   29.4600 H        89 ASP88          nan\n   1419 C441       14.0700   15.4300   30.4100 C.2      89 ASP88          nan\n   1420 O131       13.8100   14.7800   31.4700 O.co2    89 ASP88          nan\n   1421 O132       13.5600   15.1200   29.3000 O.co2    89 ASP88          nan\n   1422 C442       16.9000   14.9300   30.0400 C.2      89 ASP88          nan\n   1423 O133       16.6800   13.8000   30.5100 O.2      89 ASP88          nan\n   1424 N123       17.4000   15.1600   28.8300 N.am     90 SER89          nan\n   1425 H724       17.4000   16.1000   28.4400 H        90 SER89          nan\n   1426 C443       17.9300   14.1400   27.9600 C.3      90 SER89          nan\n   1427 H725       17.2800   13.2700   28.0800 H        90 SER89          nan\n   1428 C444       17.9000   14.5700   26.4900 C.3      90 SER89          nan\n   1429 H726       18.3300   13.6700   26.0700 H        90 SER89          nan\n   1430 H727       16.8900   14.8300   26.1600 H        90 SER89          nan\n   1431 O134       18.8300   15.6200   26.2700 O.3      90 SER89          nan\n   1432 H728       18.7300   16.2300   27.0000 H        90 SER89          nan\n   1433 C445       19.2900   13.6400   28.4800 C.2      90 SER89          nan\n   1434 O135       19.6000   12.4600   28.2300 O.2      90 SER89          nan\n   1435 N124       20.0900   14.5400   29.1100 N.am     91 LEU90          nan\n   1436 H729       19.8300   15.5100   29.1700 H        91 LEU90          nan\n   1437 C446       21.3700   14.0900   29.6200 C.3      91 LEU90          nan\n   1438 H730       21.8700   13.4800   28.8700 H        91 LEU90          nan\n   1439 C447       22.1600   15.4000   29.8600 C.3      91 LEU90          nan\n   1440 H731       21.6800   16.1800   30.4400 H        91 LEU90          nan\n   1441 H732       23.0400   15.0100   30.3900 H        91 LEU90          nan\n   1442 C448       22.7200   16.0900   28.5700 C.3      91 LEU90          nan\n   1443 H733       21.8300   16.2200   27.9500 H        91 LEU90          nan\n   1444 C449       23.4800   17.3400   28.9800 C.3      91 LEU90          nan\n   1445 H734       23.8200   17.8600   28.0800 H        91 LEU90          nan\n   1446 H735       22.7400   18.0300   29.3800 H        91 LEU90          nan\n   1447 H736       24.2100   17.2400   29.7800 H        91 LEU90          nan\n   1448 C450       23.7700   15.2700   27.8200 C.3      91 LEU90          nan\n   1449 H737       24.2600   15.9000   27.0800 H        91 LEU90          nan\n   1450 H738       24.4500   14.7700   28.5100 H        91 LEU90          nan\n   1451 H739       23.2500   14.5800   27.1600 H        91 LEU90          nan\n   1452 C451       21.2100   13.1500   30.8600 C.2      91 LEU90          nan\n   1453 O136       20.1100   13.1200   31.4800 O.2      91 LEU90          nan\n   1454 N125       22.3200   12.4800   31.1500 N.am     92 ASP91          nan\n   1455 H740       23.1000   12.6500   30.5400 H        92 ASP91          nan\n   1456 C452       22.5400   11.5800   32.2600 C.3      92 ASP91          nan\n   1457 H741       21.6400   11.3600   32.8200 H        92 ASP91          nan\n   1458 C453       23.2900   10.3400   31.8500 C.3      92 ASP91          nan\n   1459 H742       23.6000    9.6800   32.6600 H        92 ASP91          nan\n   1460 H743       22.6500    9.6600   31.2800 H        92 ASP91          nan\n   1461 C454       24.6000   10.6000   31.0300 C.2      92 ASP91          nan\n   1462 O137       24.5900   10.9700   29.8500 O.co2    92 ASP91          nan\n   1463 O138       25.6900   10.4600   31.6300 O.co2    92 ASP91          nan\n   1464 C455       23.3600   12.2400   33.4200 C.2      92 ASP91          nan\n   1465 O139       24.0500   13.1900   33.1600 O.2      92 ASP91          nan\n   1466 N126       23.2600   11.8500   34.6700 N.am     93 ALA92          nan\n   1467 H744       22.5500   11.1500   34.8700 H        93 ALA92          nan\n   1468 C456       23.6200   12.5200   35.8700 C.3      93 ALA92          nan\n   1469 H745       22.9100   13.3200   36.0800 H        93 ALA92          nan\n   1470 C457       23.5200   11.6700   37.1300 C.3      93 ALA92          nan\n   1471 H746       23.5600   12.1600   38.1000 H        93 ALA92          nan\n   1472 H747       22.6100   11.0700   37.0900 H        93 ALA92          nan\n   1473 H748       24.3900   11.0100   37.1400 H        93 ALA92          nan\n   1474 C458       24.9800   13.1800   35.9100 C.2      93 ALA92          nan\n   1475 O140       25.0700   14.3500   36.3600 O.2      93 ALA92          nan\n   1476 N127       26.0300   12.5000   35.3900 N.am     94 VAL93          nan\n   1477 H749       25.7900   11.5900   35.0200 H        94 VAL93          nan\n   1478 C459       27.3600   13.0200   35.2300 C.3      94 VAL93          nan\n   1479 H750       27.5500   13.5800   36.1500 H        94 VAL93          nan\n   1480 C460       28.5200   11.9200   35.1500 C.3      94 VAL93          nan\n   1481 H751       28.4200   11.3600   34.2200 H        94 VAL93          nan\n   1482 C461       29.9100   12.5800   35.2000 C.3      94 VAL93          nan\n   1483 H752       30.0700   13.1300   34.2700 H        94 VAL93          nan\n   1484 H753       29.9100   13.2700   36.0400 H        94 VAL93          nan\n   1485 H754       30.7600   11.8900   35.1700 H        94 VAL93          nan\n   1486 C462       28.3400   10.9400   36.2400 C.3      94 VAL93          nan\n   1487 H755       29.2400   10.3400   36.1300 H        94 VAL93          nan\n   1488 H756       28.3100   11.4100   37.2300 H        94 VAL93          nan\n   1489 H757       27.4500   10.3300   36.1000 H        94 VAL93          nan\n   1490 C463       27.4600   13.9800   34.0500 C.2      94 VAL93          nan\n   1491 O141       28.1700   14.9600   34.2100 O.2      94 VAL93          nan\n   1492 N128       26.7900   13.8000   32.8500 N.am     95 ARG94          nan\n   1493 H758       26.0300   13.1400   32.7700 H        95 ARG94          nan\n   1494 C464       26.7200   14.8700   31.9000 C.3      95 ARG94          nan\n   1495 H759       27.7100   15.2600   31.7000 H        95 ARG94          nan\n   1496 C465       26.3100   14.3600   30.5500 C.3      95 ARG94          nan\n   1497 H760       25.3600   13.8500   30.7400 H        95 ARG94          nan\n   1498 H761       26.1000   15.1900   29.8700 H        95 ARG94          nan\n   1499 C466       27.2600   13.2700   29.9400 C.3      95 ARG94          nan\n   1500 H762       28.2700   13.6600   29.9700 H        95 ARG94          nan\n   1501 H763       27.1600   12.2600   30.3400 H        95 ARG94          nan\n   1502 C467       26.8300   13.1200   28.4700 C.3      95 ARG94          nan\n   1503 H764       25.7800   12.8400   28.3800 H        95 ARG94          nan\n   1504 H765       26.9600   14.0900   27.9900 H        95 ARG94          nan\n   1505 N129       27.6300   12.1500   27.7500 N.pl3    95 ARG94          nan\n   1506 H766       28.4300   12.5300   27.2600 H        95 ARG94          nan\n   1507 C468       27.5700   10.7900   27.7800 C.cat    95 ARG94          nan\n   1508 N130       26.8400   10.2100   28.7100 N.pl3    95 ARG94          nan\n   1509 H767       26.2100   10.8200   29.2000 H        95 ARG94          nan\n   1510 H768       26.8800    9.2100   28.8700 H        95 ARG94          nan\n   1511 N131       28.3100    9.9700   27.0700 N.pl3    95 ARG94          nan\n   1512 H769       28.9700   10.3500   26.4100 H        95 ARG94          nan\n   1513 H770       28.3300    8.9600   27.1900 H        95 ARG94          nan\n   1514 C469       25.8900   16.0700   32.3700 C.2      95 ARG94          nan\n   1515 O142       26.1400   17.2000   31.9700 O.2      95 ARG94          nan\n   1516 N132       24.9500   15.8500   33.2400 N.am     96 ARG95          nan\n   1517 H771       24.8400   14.8600   33.4200 H        96 ARG95          nan\n   1518 C470       24.2300   16.9400   33.9000 C.3      96 ARG95          nan\n   1519 H772       23.7900   17.5500   33.1100 H        96 ARG95          nan\n   1520 C471       23.0300   16.2700   34.7300 C.3      96 ARG95          nan\n   1521 H773       23.4200   15.4500   35.3200 H        96 ARG95          nan\n   1522 H774       22.6600   16.9400   35.5000 H        96 ARG95          nan\n   1523 C472       21.8300   15.7700   33.8900 C.3      96 ARG95          nan\n   1524 H775       21.4300   16.6600   33.4100 H        96 ARG95          nan\n   1525 H776       22.1700   15.0200   33.1700 H        96 ARG95          nan\n   1526 C473       20.6000   15.2200   34.6300 C.3      96 ARG95          nan\n   1527 H777       20.9600   14.5200   35.3800 H        96 ARG95          nan\n   1528 H778       20.1800   16.0100   35.2500 H        96 ARG95          nan\n   1529 N133       19.5600   14.5800   33.8100 N.pl3    96 ARG95          nan\n   1530 H779       19.6000   14.5400   32.8000 H        96 ARG95          nan\n   1531 C474       18.3700   14.0600   34.3100 C.cat    96 ARG95          nan\n   1532 N134       17.9700   14.2900   35.5100 N.pl3    96 ARG95          nan\n   1533 H780       18.5700   14.7100   36.2100 H        96 ARG95          nan\n   1534 H781       17.0700   13.9700   35.8400 H        96 ARG95          nan\n   1535 N135       17.4300   13.5000   33.5200 N.pl3    96 ARG95          nan\n   1536 H782       17.6000   13.3400   32.5300 H        96 ARG95          nan\n   1537 H783       16.5600   13.2400   33.9400 H        96 ARG95          nan\n   1538 C475       25.0700   17.7800   34.7200 C.2      96 ARG95          nan\n   1539 O143       24.9200   18.9600   34.6900 O.2      96 ARG95          nan\n   1540 N136       26.0700   17.1800   35.3800 N.am     97 CYS96          nan\n   1541 H784       26.0700   16.1700   35.4500 H        97 CYS96          nan\n   1542 C476       27.0000   17.8400   36.2200 C.3      97 CYS96          nan\n   1543 H785       26.3800   18.5300   36.7900 H        97 CYS96          nan\n   1544 C477       27.7000   16.8400   37.1700 C.3      97 CYS96          nan\n   1545 H786       28.2800   16.0200   36.7500 H        97 CYS96          nan\n   1546 H787       28.5400   17.3500   37.6600 H        97 CYS96          nan\n   1547 S4         26.5200   16.1400   38.3300 S.3      97 CYS96          nan\n   1548 H788       25.8700   15.3400   37.4700 H        97 CYS96          nan\n   1549 C478       28.1100   18.6400   35.5200 C.2      97 CYS96          nan\n   1550 O144       28.4100   19.7400   35.9000 O.2      97 CYS96          nan\n   1551 N137       28.5800   18.1500   34.3800 N.am     98 ALA97          nan\n   1552 H789       28.3600   17.2500   33.9800 H        98 ALA97          nan\n   1553 C479       29.3400   18.9900   33.3600 C.3      98 ALA97          nan\n   1554 H790       30.3200   19.3300   33.7000 H        98 ALA97          nan\n   1555 C480       29.6500   18.1100   32.2300 C.3      98 ALA97          nan\n   1556 H791       29.9000   18.7100   31.3500 H        98 ALA97          nan\n   1557 H792       30.4100   17.3900   32.5200 H        98 ALA97          nan\n   1558 H793       28.7200   17.5600   32.1100 H        98 ALA97          nan\n   1559 C481       28.5700   20.2200   32.9100 C.2      98 ALA97          nan\n   1560 O145       29.0700   21.3000   32.7300 O.2      98 ALA97          nan\n   1561 N138       27.2600   20.0300   32.8000 N.am     99 ALA98          nan\n   1562 H794       26.9600   19.0800   32.7000 H        99 ALA98          nan\n   1563 C482       26.3700   21.1300   32.4500 C.3      99 ALA98          nan\n   1564 H795       26.9200   21.5400   31.6100 H        99 ALA98          nan\n   1565 C483       25.0600   20.6200   32.0900 C.3      99 ALA98          nan\n   1566 H796       24.4500   21.4000   31.6200 H        99 ALA98          nan\n   1567 H797       25.0200   20.0600   31.1600 H        99 ALA98          nan\n   1568 H798       24.4900   20.0400   32.8200 H        99 ALA98          nan\n   1569 C484       26.2300   22.1500   33.6200 C.2      99 ALA98          nan\n   1570 O146       26.2100   23.3700   33.3500 O.2      99 ALA98          nan\n   1571 N139       26.1300   21.6400   34.9000 N.am    100 ILE99          nan\n   1572 H799       26.1300   20.6300   34.9700 H       100 ILE99          nan\n   1573 C485       26.0300   22.5500   36.0700 C.3     100 ILE99          nan\n   1574 H800       25.2300   23.2800   35.9500 H       100 ILE99          nan\n   1575 C486       25.8000   21.7400   37.3500 C.3     100 ILE99          nan\n   1576 H801       26.4700   20.8800   37.3400 H       100 ILE99          nan\n   1577 C487       26.0600   22.5600   38.5800 C.3     100 ILE99          nan\n   1578 H802       26.1600   21.9600   39.4800 H       100 ILE99          nan\n   1579 H803       27.0000   23.1100   38.4800 H       100 ILE99          nan\n   1580 H804       25.4000   23.4200   38.7200 H       100 ILE99          nan\n   1581 C488       24.2900   21.2800   37.4000 C.3     100 ILE99          nan\n   1582 H805       23.7300   22.1600   37.6800 H       100 ILE99          nan\n   1583 H806       24.0200   20.8000   36.4500 H       100 ILE99          nan\n   1584 C489       24.1300   20.2000   38.4600 C.3     100 ILE99          nan\n   1585 H807       23.2500   19.5600   38.3800 H       100 ILE99          nan\n   1586 H808       24.9900   19.5400   38.5200 H       100 ILE99          nan\n   1587 H809       24.0900   20.6200   39.4700 H       100 ILE99          nan\n   1588 C490       27.3400   23.4200   36.0800 C.2     100 ILE99          nan\n   1589 O147       27.2500   24.6500   36.3800 O.2     100 ILE99          nan\n   1590 N140       28.4900   22.8400   35.7100 N.am    101 ASN100         nan\n   1591 H810       28.4200   21.8300   35.6600 H       101 ASN100         nan\n   1592 C491       29.8500   23.4900   35.7200 C.3     101 ASN100         nan\n   1593 H811       30.0800   23.8400   36.7300 H       101 ASN100         nan\n   1594 C492       30.9100   22.4700   35.2900 C.3     101 ASN100         nan\n   1595 H812       30.7600   21.5200   35.8000 H       101 ASN100         nan\n   1596 H813       30.8100   22.3900   34.2100 H       101 ASN100         nan\n   1597 C493       32.3300   22.8900   35.6800 C.2     101 ASN100         nan\n   1598 O148       32.6800   24.0300   35.5500 O.2     101 ASN100         nan\n   1599 N141       33.1800   22.0100   36.2500 N.am    101 ASN100         nan\n   1600 H814       34.1700   22.1600   36.3300 H       101 ASN100         nan\n   1601 H815       32.8600   21.0800   36.5000 H       101 ASN100         nan\n   1602 C494       29.8600   24.7400   34.8800 C.2     101 ASN100         nan\n   1603 O149       30.1300   25.8100   35.4500 O.2     101 ASN100         nan\n   1604 N142       29.3200   24.7400   33.6400 N.am    102 MET101         nan\n   1605 H816       28.9100   23.8700   33.3100 H       102 MET101         nan\n   1606 C495       29.2700   25.9400   32.7800 C.3     102 MET101         nan\n   1607 H817       30.2700   26.3500   32.7200 H       102 MET101         nan\n   1608 C496       28.8800   25.4100   31.4500 C.3     102 MET101         nan\n   1609 H818       27.8700   25.0100   31.4500 H       102 MET101         nan\n   1610 H819       28.8400   26.2400   30.7600 H       102 MET101         nan\n   1611 C497       29.8000   24.3700   30.8700 C.3     102 MET101         nan\n   1612 H820       30.8200   24.7600   30.8800 H       102 MET101         nan\n   1613 H821       29.8600   23.4400   31.4500 H       102 MET101         nan\n   1614 S5         29.4800   23.8500   29.2000 S.3     102 MET101         nan\n   1615 C498       29.7900   25.3800   28.2600 C.3     102 MET101         nan\n   1616 H822       29.4900   25.2600   27.2200 H       102 MET101         nan\n   1617 H823       29.1800   26.1800   28.6900 H       102 MET101         nan\n   1618 H824       30.8300   25.7100   28.3100 H       102 MET101         nan\n   1619 C499       28.2000   27.0100   33.2300 C.2     102 MET101         nan\n   1620 O150       28.4200   28.1700   32.9800 O.2     102 MET101         nan\n   1621 N143       27.1600   26.6500   34.0200 N.am    103 VAL102         nan\n   1622 H825       27.0700   25.6600   34.2000 H       103 VAL102         nan\n   1623 C500       26.1300   27.5600   34.6100 C.3     103 VAL102         nan\n   1624 H826       25.9400   28.3600   33.9000 H       103 VAL102         nan\n   1625 C501       24.7700   26.7500   34.6500 C.3     103 VAL102         nan\n   1626 H827       24.9700   25.7300   34.9800 H       103 VAL102         nan\n   1627 C502       23.6500   27.3900   35.4400 C.3     103 VAL102         nan\n   1628 H828       22.6700   27.2300   34.9800 H       103 VAL102         nan\n   1629 H829       23.6200   26.9900   36.4500 H       103 VAL102         nan\n   1630 H830       23.8500   28.4600   35.4300 H       103 VAL102         nan\n   1631 C503       24.2600   26.7600   33.1600 C.3     103 VAL102         nan\n   1632 H831       24.1800   27.8100   32.8500 H       103 VAL102         nan\n   1633 H832       25.0500   26.2600   32.6100 H       103 VAL102         nan\n   1634 H833       23.2800   26.3000   33.0100 H       103 VAL102         nan\n   1635 C504       26.6000   28.1900   35.9400 C.2     103 VAL102         nan\n   1636 O151       26.2400   29.2700   36.3500 O.2     103 VAL102         nan\n   1637 N144       27.6100   27.5600   36.5800 N.am    104 PHE103         nan\n   1638 H834       27.7000   26.5900   36.3300 H       104 PHE103         nan\n   1639 C505       28.3200   27.9900   37.7400 C.3     104 PHE103         nan\n   1640 H835       27.5400   28.5000   38.3100 H       104 PHE103         nan\n   1641 C506       28.6800   26.7400   38.5800 C.3     104 PHE103         nan\n   1642 H836       27.7900   26.1100   38.6500 H       104 PHE103         nan\n   1643 H837       29.4400   26.1200   38.1100 H       104 PHE103         nan\n   1644 C507       29.1500   26.9800   39.9900 C.ar    104 PHE103         nan\n   1645 C508       30.5600   27.1800   40.1100 C.ar    104 PHE103         nan\n   1646 H838       31.1200   27.4100   39.2100 H       104 PHE103         nan\n   1647 C509       31.1100   27.2800   41.3800 C.ar    104 PHE103         nan\n   1648 H839       32.1700   27.4600   41.5200 H       104 PHE103         nan\n   1649 C510       30.2600   27.3000   42.5200 C.ar    104 PHE103         nan\n   1650 H840       30.6900   27.4600   43.5000 H       104 PHE103         nan\n   1651 C511       28.9100   27.2000   42.4000 C.ar    104 PHE103         nan\n   1652 H841       28.2500   27.2700   43.2500 H       104 PHE103         nan\n   1653 C512       28.3100   26.9700   41.1100 C.ar    104 PHE103         nan\n   1654 H842       27.2800   26.8200   40.8400 H       104 PHE103         nan\n   1655 C513       29.5400   28.9500   37.3500 C.2     104 PHE103         nan\n   1656 O152       29.9900   29.7500   38.1100 O.2     104 PHE103         nan\n   1657 N145       30.1000   28.7500   36.1300 N.am    105 GLN104         nan\n   1658 H843       29.7700   27.9900   35.5600 H       105 GLN104         nan\n   1659 C514       31.1800   29.6000   35.5100 C.3     105 GLN104         nan\n   1660 H844       31.7700   30.0600   36.3000 H       105 GLN104         nan\n   1661 C515       32.1900   28.7800   34.6800 C.3     105 GLN104         nan\n   1662 H845       32.4500   27.9600   35.3500 H       105 GLN104         nan\n   1663 H846       31.6800   28.3500   33.8200 H       105 GLN104         nan\n   1664 C516       33.4200   29.4800   34.2500 C.3     105 GLN104         nan\n   1665 H847       33.1700   30.2300   33.5000 H       105 GLN104         nan\n   1666 H848       33.8300   29.9300   35.1600 H       105 GLN104         nan\n   1667 C517       34.5600   28.6700   33.5700 C.2     105 GLN104         nan\n   1668 O153       34.3600   27.5100   33.2400 O.2     105 GLN104         nan\n   1669 N146       35.6700   29.2200   33.2800 N.am    105 GLN104         nan\n   1670 H849       35.9000   30.1500   33.6200 H       105 GLN104         nan\n   1671 H850       36.4000   28.6200   32.9300 H       105 GLN104         nan\n   1672 C518       30.6300   30.8400   34.7900 C.2     105 GLN104         nan\n   1673 O154       31.2100   31.9300   34.9200 O.2     105 GLN104         nan\n   1674 N147       29.5800   30.6800   33.9300 N.am    106 MET105         nan\n   1675 H851       29.1500   29.7600   33.9200 H       106 MET105         nan\n   1676 C519       29.0800   31.7300   33.0300 C.3     106 MET105         nan\n   1677 H852       29.6700   32.6400   33.1200 H       106 MET105         nan\n   1678 C520       29.3600   31.1900   31.5200 C.3     106 MET105         nan\n   1679 H853       28.9000   30.2000   31.4300 H       106 MET105         nan\n   1680 H854       28.9600   31.7800   30.6900 H       106 MET105         nan\n   1681 C521       30.8200   30.9700   31.2900 C.3     106 MET105         nan\n   1682 H855       31.3600   31.9100   31.4100 H       106 MET105         nan\n   1683 H856       31.1600   30.1700   31.9500 H       106 MET105         nan\n   1684 S6         31.2400   30.4100   29.5800 S.3     106 MET105         nan\n   1685 C522       31.0100   28.6600   29.6600 C.3     106 MET105         nan\n   1686 H857       31.7700   28.2400   30.3200 H       106 MET105         nan\n   1687 H858       30.0500   28.5000   30.1500 H       106 MET105         nan\n   1688 H859       31.0700   28.0300   28.7700 H       106 MET105         nan\n   1689 C523       27.6000   32.1300   33.2800 C.2     106 MET105         nan\n   1690 O155       27.0900   33.0100   32.5600 O.2     106 MET105         nan\n   1691 N148       26.9100   31.6900   34.3300 N.am    107 GLY106         nan\n   1692 H860       27.3200   30.9400   34.8600 H       107 GLY106         nan\n   1693 C524       25.4600   31.8600   34.5700 C.3     107 GLY106         nan\n   1694 H861       25.1800   31.6300   35.6000 H       107 GLY106         nan\n   1695 H862       25.0100   32.8500   34.4700 H       107 GLY106         nan\n   1696 C525       24.6100   30.9100   33.7000 C.2     107 GLY106         nan\n   1697 O156       25.1300   30.2800   32.7600 O.2     107 GLY106         nan\n   1698 N149       23.3800   30.8800   33.9800 N.am    108 GLU107         nan\n   1699 H863       23.0700   31.3200   34.8400 H       108 GLU107         nan\n   1700 C526       22.3600   30.2500   33.1000 C.3     108 GLU107         nan\n   1701 H864       22.7800   29.3000   32.8000 H       108 GLU107         nan\n   1702 C527       21.0300   29.9100   33.7100 C.3     108 GLU107         nan\n   1703 H865       20.4600   29.3200   32.9900 H       108 GLU107         nan\n   1704 H866       21.3100   29.3100   34.5800 H       108 GLU107         nan\n   1705 C528       20.2200   31.1400   34.2600 C.3     108 GLU107         nan\n   1706 H867       20.2000   31.8700   33.4500 H       108 GLU107         nan\n   1707 H868       19.1800   30.8400   34.3800 H       108 GLU107         nan\n   1708 C529       20.6800   31.9000   35.4800 C.2     108 GLU107         nan\n   1709 O157       19.8300   32.4400   36.2100 O.co2   108 GLU107         nan\n   1710 O158       21.9000   31.9000   35.8800 O.co2   108 GLU107         nan\n   1711 C530       22.1600   31.0000   31.8200 C.2     108 GLU107         nan\n   1712 O159       21.8300   30.3900   30.8300 O.2     108 GLU107         nan\n   1713 N150       22.4500   32.3000   31.7800 N.am    109 THR108         nan\n   1714 H869       22.8100   32.7800   32.5900 H       109 THR108         nan\n   1715 C531       22.4000   33.0600   30.5100 C.3     109 THR108         nan\n   1716 H870       21.6600   32.6000   29.8500 H       109 THR108         nan\n   1717 C532       22.0600   34.4800   30.8400 C.3     109 THR108         nan\n   1718 H871       22.8100   34.9000   31.5200 H       109 THR108         nan\n   1719 C533       21.9400   35.4300   29.6600 C.3     109 THR108         nan\n   1720 H872       21.3100   36.2700   29.9400 H       109 THR108         nan\n   1721 H873       22.9400   35.7700   29.4100 H       109 THR108         nan\n   1722 H874       21.5000   34.9000   28.8100 H       109 THR108         nan\n   1723 O160       20.7800   34.4500   31.4600 O.3     109 THR108         nan\n   1724 H875       20.9200   34.3600   32.4000 H       109 THR108         nan\n   1725 C534       23.6600   32.8500   29.6700 C.2     109 THR108         nan\n   1726 O161       23.5100   32.6000   28.4900 O.2     109 THR108         nan\n   1727 N151       24.8600   32.8500   30.2400 N.am    110 GLY109         nan\n   1728 H876       24.8800   33.0600   31.2300 H       110 GLY109         nan\n   1729 C535       26.1300   32.6500   29.5700 C.3     110 GLY109         nan\n   1730 H877       26.4200   33.4800   28.9300 H       110 GLY109         nan\n   1731 H878       27.0000   32.5100   30.2100 H       110 GLY109         nan\n   1732 C536       26.2600   31.3900   28.8200 C.2     110 GLY109         nan\n   1733 O162       27.1000   31.4000   27.9300 O.2     110 GLY109         nan\n   1734 N152       25.5000   30.3300   29.0800 N.am    111 VAL110         nan\n   1735 H879       24.8500   30.3000   29.8500 H       111 VAL110         nan\n   1736 C537       25.4400   29.1600   28.1600 C.3     111 VAL110         nan\n   1737 H880       26.3200   29.0900   27.5200 H       111 VAL110         nan\n   1738 C538       25.3400   27.8200   28.9400 C.3     111 VAL110         nan\n   1739 H881       25.4000   27.0000   28.2300 H       111 VAL110         nan\n   1740 C539       26.5400   27.6200   29.8500 C.3     111 VAL110         nan\n   1741 H882       27.4200   27.4300   29.2400 H       111 VAL110         nan\n   1742 H883       26.6500   28.5100   30.4700 H       111 VAL110         nan\n   1743 H884       26.4700   26.7300   30.4900 H       111 VAL110         nan\n   1744 C540       23.9900   27.7900   29.6600 C.3     111 VAL110         nan\n   1745 H885       24.1600   28.4900   30.4700 H       111 VAL110         nan\n   1746 H886       23.2400   28.2400   29.0000 H       111 VAL110         nan\n   1747 H887       23.6900   26.7800   29.9500 H       111 VAL110         nan\n   1748 C541       24.3700   29.1800   27.0000 C.2     111 VAL110         nan\n   1749 O163       24.4500   28.3800   26.0600 O.2     111 VAL110         nan\n   1750 N153       23.6100   30.2500   26.7500 N.am    112 ALA111         nan\n   1751 H888       23.5600   31.0200   27.4000 H       112 ALA111         nan\n   1752 C542       22.6100   30.2100   25.5800 C.3     112 ALA111         nan\n   1753 H889       22.0700   29.2600   25.5000 H       112 ALA111         nan\n   1754 C543       21.6000   31.3700   25.8100 C.3     112 ALA111         nan\n   1755 H890       22.2200   32.2700   25.8400 H       112 ALA111         nan\n   1756 H891       20.7700   31.4500   25.1100 H       112 ALA111         nan\n   1757 H892       21.1300   31.2800   26.7900 H       112 ALA111         nan\n   1758 C544       23.2700   30.3900   24.1500 C.2     112 ALA111         nan\n   1759 O164       22.7200   29.8700   23.1300 O.2     112 ALA111         nan\n   1760 N154       24.4300   31.0500   24.0600 N.am    113 GLY112         nan\n   1761 H893       24.6800   31.5800   24.8800 H       113 GLY112         nan\n   1762 C545       25.3200   31.2500   22.8300 C.3     113 GLY112         nan\n   1763 H894       24.7900   31.7800   22.0500 H       113 GLY112         nan\n   1764 H895       26.1400   31.9500   23.0000 H       113 GLY112         nan\n   1765 C546       25.9100   29.9000   22.3000 C.2     113 GLY112         nan\n   1766 O165       26.3700   29.8500   21.1500 O.2     113 GLY112         nan\n   1767 N155       25.9600   28.9000   23.1400 N.am    114 PHE113         nan\n   1768 H896       25.4300   29.0100   23.9900 H       114 PHE113         nan\n   1769 C547       26.3300   27.5000   22.7400 C.3     114 PHE113         nan\n   1770 H897       27.1900   27.4700   22.0700 H       114 PHE113         nan\n   1771 C548       26.6700   26.7500   24.0700 C.3     114 PHE113         nan\n   1772 H898       25.9200   26.9700   24.8200 H       114 PHE113         nan\n   1773 H899       26.7500   25.6900   23.8300 H       114 PHE113         nan\n   1774 C549       28.0600   27.1500   24.5200 C.ar    114 PHE113         nan\n   1775 C550       28.3000   28.2300   25.3300 C.ar    114 PHE113         nan\n   1776 H900       27.4300   28.7900   25.6500 H       114 PHE113         nan\n   1777 C551       29.6000   28.5800   25.7700 C.ar    114 PHE113         nan\n   1778 H901       29.6400   29.3800   26.5000 H       114 PHE113         nan\n   1779 C552       30.6900   27.7500   25.4800 C.ar    114 PHE113         nan\n   1780 H902       31.6500   27.9500   25.9200 H       114 PHE113         nan\n   1781 C553       30.5100   26.6300   24.6000 C.ar    114 PHE113         nan\n   1782 H903       31.3900   26.0500   24.3700 H       114 PHE113         nan\n   1783 C554       29.2400   26.3800   24.1600 C.ar    114 PHE113         nan\n   1784 H904       29.0000   25.5500   23.5100 H       114 PHE113         nan\n   1785 C555       25.2600   26.6900   22.0100 C.2     114 PHE113         nan\n   1786 O166       24.8500   25.5400   22.3400 O.2     114 PHE113         nan\n   1787 N156       24.5900   27.2700   21.0200 N.am    115 THR114         nan\n   1788 H905       24.9500   28.1700   20.7300 H       115 THR114         nan\n   1789 C556       23.4700   26.6700   20.2400 C.3     115 THR114         nan\n   1790 H906       22.7300   26.4800   21.0100 H       115 THR114         nan\n   1791 C557       22.9800   27.6700   19.2100 C.3     115 THR114         nan\n   1792 H907       22.1700   27.2900   18.6000 H       115 THR114         nan\n   1793 C558       22.4900   29.0300   19.7900 C.3     115 THR114         nan\n   1794 H908       23.1500   29.6400   20.4100 H       115 THR114         nan\n   1795 H909       22.0500   29.6800   19.0400 H       115 THR114         nan\n   1796 H910       21.6100   28.8600   20.4100 H       115 THR114         nan\n   1797 O167       24.0400   28.1500   18.3600 O.3     115 THR114         nan\n   1798 H911       23.6300   28.7500   17.7400 H       115 THR114         nan\n   1799 C559       23.8200   25.2500   19.6200 C.2     115 THR114         nan\n   1800 O168       23.2400   24.2200   20.0000 O.2     115 THR114         nan\n   1801 N157       24.8100   25.1100   18.7300 N.am    116 ASN115         nan\n   1802 H912       25.3900   25.9200   18.5400 H       116 ASN115         nan\n   1803 C560       25.2800   23.8200   18.2000 C.3     116 ASN115         nan\n   1804 H913       24.4300   23.4100   17.6600 H       116 ASN115         nan\n   1805 C561       26.4600   23.8400   17.1600 C.3     116 ASN115         nan\n   1806 H914       27.3300   24.1700   17.7200 H       116 ASN115         nan\n   1807 H915       26.6200   22.8600   16.7100 H       116 ASN115         nan\n   1808 C562       26.4300   24.8100   16.0100 C.2     116 ASN115         nan\n   1809 O169       25.4600   25.4900   15.6400 O.2     116 ASN115         nan\n   1810 N158       27.5400   24.9100   15.3300 N.am    116 ASN115         nan\n   1811 H916       27.6100   25.3900   14.4400 H       116 ASN115         nan\n   1812 H917       28.3600   24.4400   15.6600 H       116 ASN115         nan\n   1813 C563       25.6000   22.8400   19.3300 C.2     116 ASN115         nan\n   1814 O170       25.1800   21.7000   19.3600 O.2     116 ASN115         nan\n   1815 N159       26.3600   23.2500   20.3600 N.am    117 SER116         nan\n   1816 H918       26.7600   24.1500   20.1700 H       117 SER116         nan\n   1817 C564       26.8100   22.4600   21.5200 C.3     117 SER116         nan\n   1818 H919       27.3800   21.6000   21.1800 H       117 SER116         nan\n   1819 C565       27.7000   23.3400   22.4100 C.3     117 SER116         nan\n   1820 H920       27.1100   24.2300   22.6400 H       117 SER116         nan\n   1821 H921       27.9500   22.8300   23.3500 H       117 SER116         nan\n   1822 O171       28.8400   23.8200   21.6800 O.3     117 SER116         nan\n   1823 H922       28.6200   24.6600   21.2700 H       117 SER116         nan\n   1824 C566       25.5200   21.9100   22.1700 C.2     117 SER116         nan\n   1825 O172       25.2700   20.7200   22.2400 O.2     117 SER116         nan\n   1826 N160       24.6300   22.7300   22.7100 N.am    118 LEU117         nan\n   1827 H923       24.7600   23.7100   22.4700 H       118 LEU117         nan\n   1828 C567       23.3500   22.3600   23.3000 C.3     118 LEU117         nan\n   1829 H924       23.5600   21.7900   24.2100 H       118 LEU117         nan\n   1830 C568       22.5000   23.5800   23.6600 C.3     118 LEU117         nan\n   1831 H925       22.4500   24.2400   22.8000 H       118 LEU117         nan\n   1832 H926       21.4500   23.3900   23.8400 H       118 LEU117         nan\n   1833 C569       23.0100   24.3700   24.8900 C.3     118 LEU117         nan\n   1834 H927       24.0800   24.5200   24.7000 H       118 LEU117         nan\n   1835 C570       22.2100   25.6100   24.9900 C.3     118 LEU117         nan\n   1836 H928       21.1500   25.4100   25.1600 H       118 LEU117         nan\n   1837 H929       22.5600   26.2600   25.8000 H       118 LEU117         nan\n   1838 H930       22.3400   26.2000   24.0800 H       118 LEU117         nan\n   1839 C571       22.8700   23.6000   26.2000 C.3     118 LEU117         nan\n   1840 H931       23.5800   22.7700   26.2400 H       118 LEU117         nan\n   1841 H932       23.0800   24.3200   26.9800 H       118 LEU117         nan\n   1842 H933       21.8300   23.3800   26.4300 H       118 LEU117         nan\n   1843 C572       22.5200   21.4200   22.4100 C.2     118 LEU117         nan\n   1844 O173       22.0000   20.4100   22.8800 O.2     118 LEU117         nan\n   1845 N161       22.5200   21.6200   21.1200 N.am    119 ARG118         nan\n   1846 H934       23.0900   22.3700   20.7600 H       119 ARG118         nan\n   1847 C573       21.8000   20.7400   20.1500 C.3     119 ARG118         nan\n   1848 H935       20.8200   20.5200   20.5800 H       119 ARG118         nan\n   1849 C574       21.5900   21.5300   18.8600 C.3     119 ARG118         nan\n   1850 H936       20.8400   22.2800   19.1100 H       119 ARG118         nan\n   1851 H937       22.4500   22.1300   18.5900 H       119 ARG118         nan\n   1852 C575       21.0200   20.7000   17.6800 C.3     119 ARG118         nan\n   1853 H938       21.7000   19.8900   17.4400 H       119 ARG118         nan\n   1854 H939       20.0300   20.3000   17.8900 H       119 ARG118         nan\n   1855 C576       20.7900   21.6200   16.4700 C.3     119 ARG118         nan\n   1856 H940       20.1800   21.0400   15.7700 H       119 ARG118         nan\n   1857 H941       20.1600   22.4300   16.8500 H       119 ARG118         nan\n   1858 N162       22.0100   22.1200   15.9100 N.pl3   119 ARG118         nan\n   1859 H942       22.5500   21.5000   15.3100 H       119 ARG118         nan\n   1860 C577       22.4600   23.3500   15.7100 C.cat   119 ARG118         nan\n   1861 N163       22.1700   24.2600   16.5400 N.pl3   119 ARG118         nan\n   1862 H943       21.5800   24.1700   17.3600 H       119 ARG118         nan\n   1863 H944       22.5000   25.1800   16.2800 H       119 ARG118         nan\n   1864 N164       23.4000   23.5600   14.8400 N.pl3   119 ARG118         nan\n   1865 H945       23.8500   22.8100   14.3400 H       119 ARG118         nan\n   1866 H946       23.8300   24.4700   14.7100 H       119 ARG118         nan\n   1867 C578       22.5100   19.4000   20.0100 C.2     119 ARG118         nan\n   1868 O174       21.8900   18.3500   20.0000 O.2     119 ARG118         nan\n   1869 N165       23.8700   19.3900   19.8000 N.am    120 MET119         nan\n   1870 H947       24.4100   20.2500   19.7600 H       120 MET119         nan\n   1871 C579       24.5700   18.0600   19.6400 C.3     120 MET119         nan\n   1872 H948       24.0400   17.4100   18.9400 H       120 MET119         nan\n   1873 C580       25.9800   18.4300   19.2500 C.3     120 MET119         nan\n   1874 H949       26.4400   19.2600   19.7800 H       120 MET119         nan\n   1875 H950       26.5700   17.5200   19.3800 H       120 MET119         nan\n   1876 C581       25.9700   18.8400   17.7000 C.3     120 MET119         nan\n   1877 H951       25.8400   17.9600   17.0700 H       120 MET119         nan\n   1878 H952       25.1300   19.5100   17.5400 H       120 MET119         nan\n   1879 S7         27.5200   19.7100   17.3400 S.3     120 MET119         nan\n   1880 C582       27.1400   20.1800   15.6100 C.3     120 MET119         nan\n   1881 H953       27.9300   20.7400   15.1100 H       120 MET119         nan\n   1882 H954       26.9700   19.2200   15.1200 H       120 MET119         nan\n   1883 H955       26.2400   20.8000   15.5500 H       120 MET119         nan\n   1884 C583       24.5700   17.2300   21.0000 C.2     120 MET119         nan\n   1885 O175       24.3800   16.0400   20.8900 O.2     120 MET119         nan\n   1886 N166       24.6300   17.8300   22.2200 N.am    121 LEU120         nan\n   1887 H956       24.8300   18.8200   22.2400 H       121 LEU120         nan\n   1888 C584       24.4400   17.1300   23.4800 C.3     121 LEU120         nan\n   1889 H957       24.9900   16.1900   23.4200 H       121 LEU120         nan\n   1890 C585       24.7600   18.0400   24.6900 C.3     121 LEU120         nan\n   1891 H958       24.1000   18.9100   24.6100 H       121 LEU120         nan\n   1892 H959       24.5600   17.5200   25.6300 H       121 LEU120         nan\n   1893 C586       26.1900   18.5800   24.6700 C.3     121 LEU120         nan\n   1894 H960       26.4600   18.8200   23.6400 H       121 LEU120         nan\n   1895 C587       26.4700   19.8000   25.5600 C.3     121 LEU120         nan\n   1896 H961       26.3400   19.6200   26.6200 H       121 LEU120         nan\n   1897 H962       27.5100   20.0000   25.3000 H       121 LEU120         nan\n   1898 H963       25.7900   20.5900   25.2200 H       121 LEU120         nan\n   1899 C588       27.0700   17.3800   25.0300 C.3     121 LEU120         nan\n   1900 H964       26.9000   16.5200   24.3900 H       121 LEU120         nan\n   1901 H965       28.1000   17.7000   24.8900 H       121 LEU120         nan\n   1902 H966       26.9100   17.1400   26.0800 H       121 LEU120         nan\n   1903 C589       22.9900   16.6300   23.6000 C.2     121 LEU120         nan\n   1904 O176       22.8200   15.5000   24.0500 O.2     121 LEU120         nan\n   1905 N167       21.9300   17.4000   23.1900 N.am    122 GLN121         nan\n   1906 H967       22.0300   18.3900   22.9800 H       122 GLN121         nan\n   1907 C590       20.6000   16.7800   23.1000 C.3     122 GLN121         nan\n   1908 H968       20.3300   16.3600   24.0800 H       122 GLN121         nan\n   1909 C591       19.4600   17.7400   22.5900 C.3     122 GLN121         nan\n   1910 H969       19.4800   18.6300   23.2100 H       122 GLN121         nan\n   1911 H970       19.7200   18.0200   21.5800 H       122 GLN121         nan\n   1912 C592       18.0800   17.1400   22.5900 C.3     122 GLN121         nan\n   1913 H971       17.9900   16.2000   22.0400 H       122 GLN121         nan\n   1914 H972       17.6800   16.9800   23.5900 H       122 GLN121         nan\n   1915 C593       17.0500   18.0900   22.0000 C.2     122 GLN121         nan\n   1916 O177       17.3100   18.6400   20.9300 O.2     122 GLN121         nan\n   1917 N168       15.9700   18.3900   22.5800 N.am    122 GLN121         nan\n   1918 H973       15.6300   17.7800   23.3100 H       122 GLN121         nan\n   1919 H974       15.5200   19.2600   22.3600 H       122 GLN121         nan\n   1920 C594       20.6300   15.6300   22.0800 C.2     122 GLN121         nan\n   1921 O178       20.1400   14.5600   22.4000 O.2     122 GLN121         nan\n   1922 N169       21.1800   15.7100   20.8900 N.am    123 GLN122         nan\n   1923 H975       21.5100   16.6500   20.7100 H       123 GLN122         nan\n   1924 C595       21.1900   14.6300   19.8300 C.3     123 GLN122         nan\n   1925 H976       20.1800   14.2200   19.8000 H       123 GLN122         nan\n   1926 C596       21.6800   15.2300   18.5200 C.3     123 GLN122         nan\n   1927 H977       22.6900   15.6300   18.5900 H       123 GLN122         nan\n   1928 H978       21.7400   14.4500   17.7600 H       123 GLN122         nan\n   1929 C597       20.6100   16.1700   17.9300 C.3     123 GLN122         nan\n   1930 H979       19.7800   15.6300   17.4800 H       123 GLN122         nan\n   1931 H980       20.0600   16.8300   18.5900 H       123 GLN122         nan\n   1932 C598       21.2400   17.0900   16.8200 C.2     123 GLN122         nan\n   1933 O179       22.4600   17.0900   16.5400 O.2     123 GLN122         nan\n   1934 N170       20.4700   17.8500   16.0700 N.am    123 GLN122         nan\n   1935 H981       19.4900   17.6700   16.2000 H       123 GLN122         nan\n   1936 H982       20.9300   18.3400   15.3100 H       123 GLN122         nan\n   1937 C599       22.0000   13.3800   20.2100 C.2     123 GLN122         nan\n   1938 O180       22.1200   12.4100   19.5000 O.2     123 GLN122         nan\n   1939 N171       22.6600   13.3800   21.3800 N.am    124 LYS123         nan\n   1940 H983       22.4600   14.2300   21.9000 H       124 LYS123         nan\n   1941 C600       23.7100   12.4800   21.8800 C.3     124 LYS123         nan\n   1942 H984       24.0600   12.9600   22.8000 H       124 LYS123         nan\n   1943 C601       23.1600   11.1600   22.3300 C.3     124 LYS123         nan\n   1944 H985       22.9200   10.5100   21.4900 H       124 LYS123         nan\n   1945 H986       23.9800   10.6800   22.8600 H       124 LYS123         nan\n   1946 C602       21.8400   11.1800   23.1600 C.3     124 LYS123         nan\n   1947 H987       21.9900   11.9500   23.9200 H       124 LYS123         nan\n   1948 H988       20.9400   11.5000   22.6500 H       124 LYS123         nan\n   1949 C603       21.5000    9.9600   23.9800 C.3     124 LYS123         nan\n   1950 H989       21.0600    9.2600   23.2700 H       124 LYS123         nan\n   1951 H990       22.4600    9.6000   24.3600 H       124 LYS123         nan\n   1952 C604       20.5000   10.1400   25.1200 C.3     124 LYS123         nan\n   1953 H991       19.6700   10.6500   24.6400 H       124 LYS123         nan\n   1954 H992       20.1800    9.1600   25.4800 H       124 LYS123         nan\n   1955 N172       20.9100   10.9600   26.2400 N.4     124 LYS123         nan\n   1956 H993       20.1700   11.0200   26.9300 H       124 LYS123         nan\n   1957 H994       21.6000   10.6300   26.8900 H       124 LYS123         nan\n   1958 H995       21.1100   11.8800   25.9000 H       124 LYS123         nan\n   1959 C605       25.0200   12.4300   21.0800 C.2     124 LYS123         nan\n   1960 O181       25.8100   11.5000   21.1700 O.2     124 LYS123         nan\n   1961 N173       25.1900   13.4100   20.2100 N.am    125 ARG124         nan\n   1962 H996       24.6700   14.2800   20.2300 H       125 ARG124         nan\n   1963 C606       26.3100   13.5200   19.2500 C.3     125 ARG124         nan\n   1964 H997       26.6600   12.5600   18.8600 H       125 ARG124         nan\n   1965 C607       26.0000   14.4600   18.0400 C.3     125 ARG124         nan\n   1966 H998       25.5700   15.3500   18.5000 H       125 ARG124         nan\n   1967 H999       26.9000   14.6700   17.4700 H       125 ARG124         nan\n   1968 C608       25.0000   13.8100   17.0500 C.3     125 ARG124         nan\n   1969 H1000      25.2400   12.7700   16.8600 H       125 ARG124         nan\n   1970 H1001      23.9800   13.7600   17.4400 H       125 ARG124         nan\n   1971 C609       24.9900   14.5700   15.7600 C.3     125 ARG124         nan\n   1972 H1002      24.7100   15.6200   15.8600 H       125 ARG124         nan\n   1973 H1003      26.0100   14.5200   15.3700 H       125 ARG124         nan\n   1974 N174       24.0800   13.8600   14.7700 N.pl3   125 ARG124         nan\n   1975 H1004      23.2800   13.4000   15.1700 H       125 ARG124         nan\n   1976 C610       24.2600   13.6500   13.5200 C.cat   125 ARG124         nan\n   1977 N175       25.2900   14.0200   12.8000 N.pl3   125 ARG124         nan\n   1978 H1005      25.9300   14.7200   13.1400 H       125 ARG124         nan\n   1979 H1006      25.3400   13.7600   11.8200 H       125 ARG124         nan\n   1980 N176       23.3800   12.8100   12.9600 N.pl3   125 ARG124         nan\n   1981 H1007      22.8100   12.2900   13.6200 H       125 ARG124         nan\n   1982 H1008      23.4300   12.5200   12.0000 H       125 ARG124         nan\n   1983 C611       27.5700   13.9800   20.0800 C.2     125 ARG124         nan\n   1984 O182       27.9100   15.1700   19.9800 O.2     125 ARG124         nan\n   1985 N177       28.2300   13.0600   20.7700 N.am    126 TRP125         nan\n   1986 H1009      27.8500   12.1300   20.7000 H       126 TRP125         nan\n   1987 C612       29.2700   13.3900   21.7600 C.3     126 TRP125         nan\n   1988 H1010      28.8400   14.1000   22.4700 H       126 TRP125         nan\n   1989 C613       29.5100   12.1200   22.5400 C.3     126 TRP125         nan\n   1990 H1011      29.9700   11.3000   21.9800 H       126 TRP125         nan\n   1991 H1012      30.1700   12.4900   23.3300 H       126 TRP125         nan\n   1992 C614       28.4000   11.4600   23.3400 C.2     126 TRP125         nan\n   1993 C615       28.3600   10.1400   23.5600 C.2     126 TRP125         nan\n   1994 H1013      28.9800    9.3500   23.1500 H       126 TRP125         nan\n   1995 N178       27.2200    9.8500   24.2800 N.pl3   126 TRP125         nan\n   1996 H1014      26.9200    8.8900   24.3200 H       126 TRP125         nan\n   1997 C616       26.4400   10.9900   24.5700 C.ar    126 TRP125         nan\n   1998 C617       25.1600   11.1300   25.1700 C.ar    126 TRP125         nan\n   1999 H1015      24.5100   10.3000   25.4000 H       126 TRP125         nan\n   2000 C618       24.8400   12.4800   25.4900 C.ar    126 TRP125         nan\n   2001 H1016      23.9700   12.7500   26.0700 H       126 TRP125         nan\n   2002 C619       25.7100   13.5700   25.1200 C.ar    126 TRP125         nan\n   2003 H1017      25.4700   14.5900   25.3700 H       126 TRP125         nan\n   2004 C620       26.8300   13.3100   24.2700 C.ar    126 TRP125         nan\n   2005 H1018      27.5400   14.1000   24.0600 H       126 TRP125         nan\n   2006 C621       27.2900   12.0100   24.0900 C.ar    126 TRP125         nan\n   2007 C622       30.5900   13.9000   21.0800 C.2     126 TRP125         nan\n   2008 O183       31.0300   15.0500   21.4400 O.2     126 TRP125         nan\n   2009 N179       31.0500   13.2700   20.0100 N.am    127 ASP126         nan\n   2010 H1019      30.5800   12.4600   19.6400 H       127 ASP126         nan\n   2011 C623       32.2500   13.6900   19.2800 C.3     127 ASP126         nan\n   2012 H1020      33.0900   13.9100   19.9300 H       127 ASP126         nan\n   2013 C624       32.6800   12.5200   18.3800 C.3     127 ASP126         nan\n   2014 H1021      33.5500   12.8600   17.8200 H       127 ASP126         nan\n   2015 H1022      32.9800   11.7400   19.0700 H       127 ASP126         nan\n   2016 C625       31.5800   11.8900   17.5000 C.2     127 ASP126         nan\n   2017 O184       31.9200   11.2400   16.5100 O.co2   127 ASP126         nan\n   2018 O185       30.4000   12.3200   17.6000 O.co2   127 ASP126         nan\n   2019 C626       31.9900   14.9800   18.4600 C.2     127 ASP126         nan\n   2020 O186       32.9200   15.7500   18.3700 O.2     127 ASP126         nan\n   2021 N180       30.7800   15.2600   18.1100 N.am    128 GLU127         nan\n   2022 H1023      30.0600   14.5500   18.0800 H       128 GLU127         nan\n   2023 C627       30.4600   16.5800   17.4700 C.3     128 GLU127         nan\n   2024 H1024      31.3400   16.8800   16.9000 H       128 GLU127         nan\n   2025 C628       29.3400   16.4800   16.5300 C.3     128 GLU127         nan\n   2026 H1025      28.4900   16.0800   17.0900 H       128 GLU127         nan\n   2027 H1026      29.0800   17.5000   16.2400 H       128 GLU127         nan\n   2028 C629       29.6700   15.5200   15.3200 C.3     128 GLU127         nan\n   2029 H1027      30.6900   15.7400   15.0000 H       128 GLU127         nan\n   2030 H1028      29.6900   14.4800   15.6500 H       128 GLU127         nan\n   2031 C630       28.7300   15.7800   14.1500 C.2     128 GLU127         nan\n   2032 O187       27.6500   15.1800   13.9500 O.co2   128 GLU127         nan\n   2033 O188       29.0600   16.6700   13.3400 O.co2   128 GLU127         nan\n   2034 C631       30.3500   17.7000   18.5200 C.2     128 GLU127         nan\n   2035 O189       30.9900   18.7100   18.3200 O.2     128 GLU127         nan\n   2036 N181       29.6300   17.5200   19.6500 N.am    129 ALA128         nan\n   2037 H1029      29.1700   16.6500   19.8800 H       129 ALA128         nan\n   2038 C632       29.6100   18.4300   20.8200 C.3     129 ALA128         nan\n   2039 H1030      29.1400   19.3700   20.5100 H       129 ALA128         nan\n   2040 C633       28.7500   17.7900   21.9500 C.3     129 ALA128         nan\n   2041 H1031      28.8500   18.4000   22.8500 H       129 ALA128         nan\n   2042 H1032      27.7100   18.0200   21.6900 H       129 ALA128         nan\n   2043 H1033      28.9300   16.7400   22.1600 H       129 ALA128         nan\n   2044 C634       31.0500   18.8600   21.3200 C.2     129 ALA128         nan\n   2045 O190       31.2700   19.9900   21.7300 O.2     129 ALA128         nan\n   2046 N182       31.9600   17.9300   21.3300 N.am    130 ALA129         nan\n   2047 H1034      31.6400   16.9900   21.1600 H       130 ALA129         nan\n   2048 C635       33.3600   18.1400   21.8700 C.3     130 ALA129         nan\n   2049 H1035      33.2300   18.7200   22.7900 H       130 ALA129         nan\n   2050 C636       34.1600   16.8700   22.2400 C.3     130 ALA129         nan\n   2051 H1036      33.5300   16.1900   22.8200 H       130 ALA129         nan\n   2052 H1037      34.3600   16.3700   21.2900 H       130 ALA129         nan\n   2053 H1038      35.1100   17.0900   22.7100 H       130 ALA129         nan\n   2054 C637       34.1100   19.1500   20.9800 C.2     130 ALA129         nan\n   2055 O191       34.6800   20.1000   21.4700 O.2     130 ALA129         nan\n   2056 N183       34.0300   18.9900   19.6600 N.am    131 VAL130         nan\n   2057 H1039      33.5500   18.1800   19.2900 H       131 VAL130         nan\n   2058 C638       34.4800   20.0900   18.7300 C.3     131 VAL130         nan\n   2059 H1040      35.5200   20.3400   18.9200 H       131 VAL130         nan\n   2060 C639       34.3600   19.7800   17.2100 C.3     131 VAL130         nan\n   2061 H1041      33.3800   19.3200   17.0400 H       131 VAL130         nan\n   2062 C640       34.6500   20.9200   16.2200 C.3     131 VAL130         nan\n   2063 H1042      33.9000   21.7100   16.3100 H       131 VAL130         nan\n   2064 H1043      35.5000   21.5300   16.5300 H       131 VAL130         nan\n   2065 H1044      34.6100   20.6300   15.1700 H       131 VAL130         nan\n   2066 C641       35.4000   18.6500   16.9300 C.3     131 VAL130         nan\n   2067 H1045      35.5500   18.4500   15.8700 H       131 VAL130         nan\n   2068 H1046      36.3400   18.8800   17.4400 H       131 VAL130         nan\n   2069 H1047      35.1500   17.7400   17.4600 H       131 VAL130         nan\n   2070 C642       33.7600   21.4000   18.9500 C.2     131 VAL130         nan\n   2071 O192       34.4100   22.4400   19.0400 O.2     131 VAL130         nan\n   2072 N184       32.5000   21.3700   19.1300 N.am    132 ASN131         nan\n   2073 H1048      32.0200   20.4800   19.1700 H       132 ASN131         nan\n   2074 C643       31.6600   22.5800   19.2000 C.3     132 ASN131         nan\n   2075 H1049      32.0800   23.2400   18.4400 H       132 ASN131         nan\n   2076 C644       30.2900   22.1200   18.6800 C.3     132 ASN131         nan\n   2077 H1050      30.0200   21.1600   19.1300 H       132 ASN131         nan\n   2078 H1051      29.5300   22.8100   19.0400 H       132 ASN131         nan\n   2079 C645       30.1800   22.0100   17.2000 C.2     132 ASN131         nan\n   2080 O193       29.5700   22.8900   16.5600 O.2     132 ASN131         nan\n   2081 N185       30.6400   20.9800   16.5400 N.am    132 ASN131         nan\n   2082 H1052      30.3400   20.9300   15.5800 H       132 ASN131         nan\n   2083 H1053      30.9700   20.1500   17.0200 H       132 ASN131         nan\n   2084 C646       31.6500   23.3500   20.5500 C.2     132 ASN131         nan\n   2085 O194       31.6000   24.5800   20.5100 O.2     132 ASN131         nan\n   2086 N186       31.9400   22.6800   21.6900 N.am    133 LEU132         nan\n   2087 H1054      31.9400   21.6800   21.5600 H       133 LEU132         nan\n   2088 C647       32.2500   23.2600   23.0000 C.3     133 LEU132         nan\n   2089 H1055      31.6000   24.1000   23.2200 H       133 LEU132         nan\n   2090 C648       32.1600   22.2000   24.1000 C.3     133 LEU132         nan\n   2091 H1056      32.7700   21.3700   23.7700 H       133 LEU132         nan\n   2092 H1057      32.5900   22.6400   25.0000 H       133 LEU132         nan\n   2093 C649       30.7000   21.8200   24.3600 C.3     133 LEU132         nan\n   2094 H1058      30.1700   21.7300   23.4100 H       133 LEU132         nan\n   2095 C650       30.5900   20.4900   25.0500 C.3     133 LEU132         nan\n   2096 H1059      31.1600   19.8000   24.4200 H       133 LEU132         nan\n   2097 H1060      30.9300   20.6000   26.0800 H       133 LEU132         nan\n   2098 H1061      29.5300   20.2200   25.1000 H       133 LEU132         nan\n   2099 C651       29.8800   22.8700   25.1400 C.3     133 LEU132         nan\n   2100 H1062      28.8800   22.5300   25.4100 H       133 LEU132         nan\n   2101 H1063      30.5000   23.1300   26.0000 H       133 LEU132         nan\n   2102 H1064      29.7700   23.7600   24.5300 H       133 LEU132         nan\n   2103 C652       33.7300   23.7700   22.9300 C.2     133 LEU132         nan\n   2104 O195       34.0500   24.7000   23.6500 O.2     133 LEU132         nan\n   2105 N187       34.6700   23.2400   22.0600 N.am    134 ALA133         nan\n   2106 H1065      34.4000   22.3600   21.6300 H       134 ALA133         nan\n   2107 C653       36.0500   23.6300   22.0000 C.3     134 ALA133         nan\n   2108 H1066      36.3600   23.8600   23.0200 H       134 ALA133         nan\n   2109 C654       36.9100   22.5400   21.4600 C.3     134 ALA133         nan\n   2110 H1067      36.6700   21.6400   22.0200 H       134 ALA133         nan\n   2111 H1068      36.6000   22.4000   20.4300 H       134 ALA133         nan\n   2112 H1069      37.9500   22.7900   21.6500 H       134 ALA133         nan\n   2113 C655       36.2000   24.8800   21.0600 C.2     134 ALA133         nan\n   2114 O196       37.2300   25.5800   21.1500 O.2     134 ALA133         nan\n   2115 N188       35.1900   25.3200   20.2900 N.am    135 LYS134         nan\n   2116 H1070      34.3800   24.7200   20.3500 H       135 LYS134         nan\n   2117 C656       35.0600   26.4500   19.4300 C.3     135 LYS134         nan\n   2118 H1071      36.0400   26.8100   19.1200 H       135 LYS134         nan\n   2119 C657       34.3400   26.0900   18.1400 C.3     135 LYS134         nan\n   2120 H1072      33.4600   25.5400   18.4600 H       135 LYS134         nan\n   2121 H1073      34.0600   27.0700   17.7300 H       135 LYS134         nan\n   2122 C658       35.2000   25.3400   17.1100 C.3     135 LYS134         nan\n   2123 H1074      36.1200   25.8800   16.8700 H       135 LYS134         nan\n   2124 H1075      35.4400   24.3300   17.4600 H       135 LYS134         nan\n   2125 C659       34.4400   25.1600   15.7700 C.3     135 LYS134         nan\n   2126 H1076      33.4700   24.7000   15.9300 H       135 LYS134         nan\n   2127 H1077      34.3000   26.1600   15.3600 H       135 LYS134         nan\n   2128 C660       35.3700   24.2700   14.8500 C.3     135 LYS134         nan\n   2129 H1078      36.3100   24.8000   14.7100 H       135 LYS134         nan\n   2130 H1079      35.5700   23.2700   15.2300 H       135 LYS134         nan\n   2131 N189       34.7300   24.2100   13.5400 N.4     135 LYS134         nan\n   2132 H1080      35.2700   23.5000   13.0600 H       135 LYS134         nan\n   2133 H1081      33.7600   23.9500   13.6800 H       135 LYS134         nan\n   2134 H1082      34.9700   25.1000   13.1300 H       135 LYS134         nan\n   2135 C661       34.4100   27.6500   20.1800 C.2     135 LYS134         nan\n   2136 O197       33.5900   28.3800   19.6900 O.2     135 LYS134         nan\n   2137 N190       34.7600   27.8800   21.4400 N.am    136 SER135         nan\n   2138 H1083      35.6000   27.3600   21.6600 H       136 SER135         nan\n   2139 C662       34.2700   28.8700   22.3500 C.3     136 SER135         nan\n   2140 H1084      33.5400   29.5100   21.8700 H       136 SER135         nan\n   2141 C663       33.6300   28.1200   23.5000 C.3     136 SER135         nan\n   2142 H1085      33.1800   28.9200   24.0900 H       136 SER135         nan\n   2143 H1086      32.7900   27.5200   23.1500 H       136 SER135         nan\n   2144 O198       34.5300   27.3300   24.2300 O.3     136 SER135         nan\n   2145 H1087      34.3900   26.3900   24.1100 H       136 SER135         nan\n   2146 C664       35.4800   29.7500   22.7900 C.2     136 SER135         nan\n   2147 O199       36.6400   29.4400   22.6800 O.2     136 SER135         nan\n   2148 N191       35.0800   30.9700   23.2700 N.am    137 ARG136         nan\n   2149 H1088      34.1200   31.2600   23.2000 H       137 ARG136         nan\n   2150 C665       36.0500   31.7700   24.0700 C.3     137 ARG136         nan\n   2151 H1089      36.9800   31.8100   23.5000 H       137 ARG136         nan\n   2152 C666       35.5800   33.3000   24.1500 C.3     137 ARG136         nan\n   2153 H1090      35.6200   33.6200   23.1100 H       137 ARG136         nan\n   2154 H1091      34.5200   33.2800   24.4300 H       137 ARG136         nan\n   2155 C667       36.3300   34.1700   25.0600 C.3     137 ARG136         nan\n   2156 H1092      36.3100   33.8300   26.0900 H       137 ARG136         nan\n   2157 H1093      37.3900   34.1200   24.7800 H       137 ARG136         nan\n   2158 C668       35.8800   35.6400   24.8800 C.3     137 ARG136         nan\n   2159 H1094      36.1900   35.8500   23.8600 H       137 ARG136         nan\n   2160 H1095      34.8000   35.8200   24.9400 H       137 ARG136         nan\n   2161 N192       36.7100   36.5000   25.7700 N.pl3   137 ARG136         nan\n   2162 H1096      37.7100   36.5500   25.6700 H       137 ARG136         nan\n   2163 C669       36.3200   37.0600   26.9200 C.cat   137 ARG136         nan\n   2164 N193       35.1100   36.9300   27.3600 N.pl3   137 ARG136         nan\n   2165 H1097      34.4000   36.7900   26.6500 H       137 ARG136         nan\n   2166 H1098      34.9400   37.3400   28.2700 H       137 ARG136         nan\n   2167 N194       37.2100   37.6000   27.6500 N.pl3   137 ARG136         nan\n   2168 H1099      38.1100   37.8600   27.2600 H       137 ARG136         nan\n   2169 H1100      37.0200   37.8100   28.6200 H       137 ARG136         nan\n   2170 C670       36.5500   31.1500   25.3900 C.2     137 ARG136         nan\n   2171 O200       37.7100   31.0800   25.7000 O.2     137 ARG136         nan\n   2172 N195       35.5700   30.5400   25.9900 N.am    138 TRP137         nan\n   2173 H1101      34.6900   30.9400   25.7300 H       138 TRP137         nan\n   2174 C671       35.6300   29.6800   27.1500 C.3     138 TRP137         nan\n   2175 H1102      35.8000   30.2900   28.0400 H       138 TRP137         nan\n   2176 C672       34.2600   29.0100   27.2500 C.3     138 TRP137         nan\n   2177 H1103      33.4900   29.7300   27.5000 H       138 TRP137         nan\n   2178 H1104      34.0700   28.4700   26.3200 H       138 TRP137         nan\n   2179 C673       34.2600   27.8900   28.3100 C.2     138 TRP137         nan\n   2180 C674       34.7700   28.0300   29.6100 C.2     138 TRP137         nan\n   2181 H1105      35.1800   28.9300   30.0400 H       138 TRP137         nan\n   2182 N196       34.4000   26.9300   30.4000 N.pl3   138 TRP137         nan\n   2183 H1106      34.4600   27.0400   31.4000 H       138 TRP137         nan\n   2184 C675       33.9100   25.9200   29.6200 C.ar    138 TRP137         nan\n   2185 C676       33.5200   24.6200   29.9400 C.ar    138 TRP137         nan\n   2186 H1107      33.6200   24.3200   30.9700 H       138 TRP137         nan\n   2187 C677       33.1400   23.8000   28.8700 C.ar    138 TRP137         nan\n   2188 H1108      32.8000   22.7800   28.9800 H       138 TRP137         nan\n   2189 C678       33.1100   24.3200   27.5400 C.ar    138 TRP137         nan\n   2190 H1109      32.9100   23.6300   26.7400 H       138 TRP137         nan\n   2191 C679       33.4700   25.5900   27.3100 C.ar    138 TRP137         nan\n   2192 H1110      33.6100   26.0400   26.3400 H       138 TRP137         nan\n   2193 C680       33.7800   26.4800   28.2900 C.ar    138 TRP137         nan\n   2194 C681       36.8400   28.6800   27.1200 C.2     138 TRP137         nan\n   2195 O201       37.6400   28.5800   28.0900 O.2     138 TRP137         nan\n   2196 N197       37.0400   27.9400   26.0600 N.am    139 TYR138         nan\n   2197 H1111      36.4400   28.1000   25.2600 H       139 TYR138         nan\n   2198 C682       38.0900   26.9700   25.8300 C.3     139 TYR138         nan\n   2199 H1112      38.0300   26.1700   26.5600 H       139 TYR138         nan\n   2200 C683       37.8400   26.3300   24.4300 C.3     139 TYR138         nan\n   2201 H1113      36.8000   26.0200   24.4100 H       139 TYR138         nan\n   2202 H1114      38.1300   27.0200   23.6400 H       139 TYR138         nan\n   2203 C684       38.7400   25.0900   24.1800 C.ar    139 TYR138         nan\n   2204 C685       38.4600   24.0100   25.1200 C.ar    139 TYR138         nan\n   2205 H1115      37.7400   24.1300   25.9100 H       139 TYR138         nan\n   2206 C686       39.2200   22.8000   24.9800 C.ar    139 TYR138         nan\n   2207 H1116      38.8100   21.9100   25.4400 H       139 TYR138         nan\n   2208 C687       40.1200   22.6600   23.9000 C.ar    139 TYR138         nan\n   2209 O202       40.5400   21.4700   23.4700 O.3     139 TYR138         nan\n   2210 H1117      41.0600   21.6000   22.6800 H       139 TYR138         nan\n   2211 C688       40.5000   23.8400   23.2200 C.ar    139 TYR138         nan\n   2212 H1118      41.1900   23.7300   22.3900 H       139 TYR138         nan\n   2213 C689       39.8200   25.0300   23.3300 C.ar    139 TYR138         nan\n   2214 H1119      40.0600   25.8900   22.7300 H       139 TYR138         nan\n   2215 C690       39.5000   27.5600   26.0100 C.2     139 TYR138         nan\n   2216 O203       40.4200   26.8300   26.3800 O.2     139 TYR138         nan\n   2217 N198       39.6800   28.8000   25.6500 N.am    140 ASN139         nan\n   2218 H1120      38.8500   29.2200   25.2700 H       140 ASN139         nan\n   2219 C691       41.0000   29.5200   25.6700 C.3     140 ASN139         nan\n   2220 H1121      41.8300   28.8100   25.6000 H       140 ASN139         nan\n   2221 C692       41.0600   30.5400   24.5100 C.3     140 ASN139         nan\n   2222 H1122      40.2400   31.2500   24.6100 H       140 ASN139         nan\n   2223 H1123      42.0300   31.0300   24.5000 H       140 ASN139         nan\n   2224 C693       40.8900   29.8400   23.1900 C.2     140 ASN139         nan\n   2225 O204       39.7800   29.8700   22.6400 O.2     140 ASN139         nan\n   2226 N199       41.8500   29.0400   22.7100 N.am    140 ASN139         nan\n   2227 H1124      41.6100   28.5800   21.8400 H       140 ASN139         nan\n   2228 H1125      42.6900   28.7600   23.2100 H       140 ASN139         nan\n   2229 C694       41.1600   30.3000   27.0500 C.2     140 ASN139         nan\n   2230 O205       42.2200   30.5800   27.5900 O.2     140 ASN139         nan\n   2231 N200       39.9900   30.6400   27.6400 N.am    141 GLN140         nan\n   2232 H1126      39.0900   30.4900   27.2200 H       141 GLN140         nan\n   2233 C695       39.9400   31.3700   28.8900 C.3     141 GLN140         nan\n   2234 H1127      40.5700   32.2700   28.8900 H       141 GLN140         nan\n   2235 C696       38.5200   31.8800   29.1200 C.3     141 GLN140         nan\n   2236 H1128      37.8200   31.0900   28.8500 H       141 GLN140         nan\n   2237 H1129      38.4100   32.0700   30.1900 H       141 GLN140         nan\n   2238 C697       38.0900   33.0700   28.3000 C.3     141 GLN140         nan\n   2239 H1130      38.5300   32.9800   27.3100 H       141 GLN140         nan\n   2240 H1131      37.0100   33.1900   28.2800 H       141 GLN140         nan\n   2241 C698       38.7300   34.3500   28.8600 C.2     141 GLN140         nan\n   2242 O206       39.8700   34.7600   28.5800 O.2     141 GLN140         nan\n   2243 N201       37.9500   35.0600   29.7000 N.am    141 GLN140         nan\n   2244 H1132      37.1400   34.6600   30.1700 H       141 GLN140         nan\n   2245 H1133      38.5200   35.7000   30.2200 H       141 GLN140         nan\n   2246 C699       40.2700   30.5400   30.1400 C.2     141 GLN140         nan\n   2247 O207       40.9700   31.0500   31.0100 O.2     141 GLN140         nan\n   2248 N202       39.9300   29.3000   30.1400 N.am    142 THR141         nan\n   2249 H1134      39.3100   28.9700   29.4200 H       142 THR141         nan\n   2250 C700       40.2300   28.2900   31.1800 C.3     142 THR141         nan\n   2251 H1135      41.1300   28.6600   31.6800 H       142 THR141         nan\n   2252 C701       39.1600   28.2800   32.2600 C.3     142 THR141         nan\n   2253 H1136      39.4800   27.4100   32.8500 H       142 THR141         nan\n   2254 C702       39.0600   29.5700   33.0400 C.3     142 THR141         nan\n   2255 H1137      38.5800   30.3200   32.4100 H       142 THR141         nan\n   2256 H1138      38.3700   29.2400   33.8300 H       142 THR141         nan\n   2257 H1139      40.0200   29.9500   33.4000 H       142 THR141         nan\n   2258 O208       37.8900   28.0200   31.7600 O.3     142 THR141         nan\n   2259 H1140      38.0900   27.7600   30.8600 H       142 THR141         nan\n   2260 C703       40.5400   26.8800   30.6400 C.2     142 THR141         nan\n   2261 O209       39.7100   25.9800   30.6900 O.2     142 THR141         nan\n   2262 N203       41.7000   26.7200   29.9800 N.am    143 PRO142         nan\n   2263 C704       42.6900   27.7100   29.7400 C.3     143 PRO142         nan\n   2264 H1141      43.4800   27.7600   30.4900 H       143 PRO142         nan\n   2265 H1142      42.3200   28.7400   29.8100 H       143 PRO142         nan\n   2266 C705       43.2500   27.4000   28.3500 C.3     143 PRO142         nan\n   2267 H1143      44.2800   27.7400   28.2400 H       143 PRO142         nan\n   2268 H1144      42.7000   27.8800   27.5400 H       143 PRO142         nan\n   2269 C706       43.1200   25.9400   28.1400 C.3     143 PRO142         nan\n   2270 H1145      43.9400   25.4300   28.6500 H       143 PRO142         nan\n   2271 H1146      42.9900   25.6300   27.1000 H       143 PRO142         nan\n   2272 C707       41.8500   25.6900   28.9600 C.3     143 PRO142         nan\n   2273 H1147      41.0100   25.8300   28.2700 H       143 PRO142         nan\n   2274 C708       41.8800   24.1900   29.4600 C.2     143 PRO142         nan\n   2275 O210       41.2200   23.3400   28.8500 O.2     143 PRO142         nan\n   2276 N204       42.4200   23.9000   30.7100 N.am    144 ASN143         nan\n   2277 H1148      42.7000   24.6900   31.2700 H       144 ASN143         nan\n   2278 C709       42.2900   22.5900   31.4100 C.3     144 ASN143         nan\n   2279 H1149      42.4900   21.8300   30.6600 H       144 ASN143         nan\n   2280 C710       43.3100   22.4500   32.5000 C.3     144 ASN143         nan\n   2281 H1150      43.0900   23.2000   33.2600 H       144 ASN143         nan\n   2282 H1151      43.1300   21.4500   32.9200 H       144 ASN143         nan\n   2283 C711       44.7700   22.4900   32.0900 C.2     144 ASN143         nan\n   2284 O211       45.1900   21.6300   31.3000 O.2     144 ASN143         nan\n   2285 N205       45.5600   23.3600   32.6200 N.am    144 ASN143         nan\n   2286 H1152      46.5500   23.3900   32.4300 H       144 ASN143         nan\n   2287 H1153      45.1700   24.1900   33.0600 H       144 ASN143         nan\n   2288 C712       40.9000   22.2500   32.0200 C.2     144 ASN143         nan\n   2289 O212       40.4700   21.1200   31.7600 O.2     144 ASN143         nan\n   2290 N206       40.2000   23.1600   32.6700 N.am    145 ARG144         nan\n   2291 H1154      40.6200   24.0800   32.7000 H       145 ARG144         nan\n   2292 C713       38.7800   23.0600   32.9800 C.3     145 ARG144         nan\n   2293 H1155      38.7000   22.1300   33.5300 H       145 ARG144         nan\n   2294 C714       38.3000   24.2900   33.7700 C.3     145 ARG144         nan\n   2295 H1156      38.8500   24.4400   34.7000 H       145 ARG144         nan\n   2296 H1157      38.3400   25.2100   33.2000 H       145 ARG144         nan\n   2297 C715       36.8100   24.2800   34.2000 C.3     145 ARG144         nan\n   2298 H1158      36.0900   24.0900   33.4000 H       145 ARG144         nan\n   2299 H1159      36.5300   23.5600   34.9800 H       145 ARG144         nan\n   2300 C716       36.5100   25.6500   34.7600 C.3     145 ARG144         nan\n   2301 H1160      37.2400   26.0500   35.4700 H       145 ARG144         nan\n   2302 H1161      36.4900   26.3500   33.9200 H       145 ARG144         nan\n   2303 N207       35.1900   25.6000   35.4800 N.pl3   145 ARG144         nan\n   2304 H1162      34.4400   25.0300   35.1100 H       145 ARG144         nan\n   2305 C717       34.8100   26.3500   36.4000 C.cat   145 ARG144         nan\n   2306 N208       35.5600   27.4100   36.7200 N.pl3   145 ARG144         nan\n   2307 H1163      36.4800   27.4800   36.3100 H       145 ARG144         nan\n   2308 H1164      35.2600   27.9500   37.5100 H       145 ARG144         nan\n   2309 N209       33.7300   26.0700   37.0600 N.pl3   145 ARG144         nan\n   2310 H1165      33.0100   25.6000   36.5300 H       145 ARG144         nan\n   2311 H1166      33.5000   26.7600   37.7600 H       145 ARG144         nan\n   2312 C718       37.8800   22.8400   31.7700 C.2     145 ARG144         nan\n   2313 O213       37.0400   21.9300   31.6700 O.2     145 ARG144         nan\n   2314 N210       38.0700   23.6500   30.7500 N.am    146 ALA145         nan\n   2315 H1167      38.9000   24.2100   30.7700 H       146 ALA145         nan\n   2316 C719       37.1900   23.5500   29.5500 C.3     146 ALA145         nan\n   2317 H1168      36.1800   23.5900   29.9700 H       146 ALA145         nan\n   2318 C720       37.4900   24.6300   28.5800 C.3     146 ALA145         nan\n   2319 H1169      36.8000   24.5300   27.7500 H       146 ALA145         nan\n   2320 H1170      37.3200   25.6400   28.9500 H       146 ALA145         nan\n   2321 H1171      38.5400   24.6000   28.3200 H       146 ALA145         nan\n   2322 C721       37.3300   22.0800   28.9300 C.2     146 ALA145         nan\n   2323 O214       36.3600   21.5000   28.5100 O.2     146 ALA145         nan\n   2324 N211       38.5700   21.5400   28.8800 N.am    147 LYS146         nan\n   2325 H1172      39.3500   22.1500   29.0600 H       147 LYS146         nan\n   2326 C722       38.8200   20.1800   28.3900 C.3     147 LYS146         nan\n   2327 H1173      38.4300   19.9300   27.4000 H       147 LYS146         nan\n   2328 C723       40.3500   19.9700   28.3700 C.3     147 LYS146         nan\n   2329 H1174      40.8200   20.3400   29.2800 H       147 LYS146         nan\n   2330 H1175      40.4700   18.9000   28.2000 H       147 LYS146         nan\n   2331 C724       40.8700   20.7500   27.2200 C.3     147 LYS146         nan\n   2332 H1176      40.4700   20.2300   26.3400 H       147 LYS146         nan\n   2333 H1177      40.4300   21.7400   27.2400 H       147 LYS146         nan\n   2334 C725       42.4400   20.8200   27.1900 C.3     147 LYS146         nan\n   2335 H1178      42.8700   21.2600   28.0900 H       147 LYS146         nan\n   2336 H1179      42.8700   19.8300   27.1200 H       147 LYS146         nan\n   2337 C726       42.8400   21.5000   25.9700 C.3     147 LYS146         nan\n   2338 H1180      42.6000   20.8500   25.1300 H       147 LYS146         nan\n   2339 H1181      42.2300   22.4000   25.8500 H       147 LYS146         nan\n   2340 N212       44.2800   21.8000   25.9900 N.4     147 LYS146         nan\n   2341 H1182      44.8400   21.0000   25.7400 H       147 LYS146         nan\n   2342 H1183      44.4700   22.4400   25.2300 H       147 LYS146         nan\n   2343 H1184      44.5800   22.0800   26.9100 H       147 LYS146         nan\n   2344 C727       38.1800   19.1300   29.2800 C.2     147 LYS146         nan\n   2345 O215       37.4700   18.2800   28.7900 O.2     147 LYS146         nan\n   2346 N213       38.4600   19.1100   30.5900 N.am    148 ARG147         nan\n   2347 H1185      39.1400   19.8100   30.8600 H       148 ARG147         nan\n   2348 C728       37.8400   18.2500   31.6400 C.3     148 ARG147         nan\n   2349 H1186      38.1100   17.2100   31.4200 H       148 ARG147         nan\n   2350 C729       38.4400   18.5700   33.0400 C.3     148 ARG147         nan\n   2351 H1187      38.2500   19.6300   33.2300 H       148 ARG147         nan\n   2352 H1188      37.8600   17.9800   33.7600 H       148 ARG147         nan\n   2353 C730       39.9500   18.2400   33.2900 C.3     148 ARG147         nan\n   2354 H1189      40.0400   17.1700   33.0900 H       148 ARG147         nan\n   2355 H1190      40.6300   18.9300   32.7900 H       148 ARG147         nan\n   2356 C731       40.1800   18.4600   34.8000 C.3     148 ARG147         nan\n   2357 H1191      39.4600   17.8500   35.3500 H       148 ARG147         nan\n   2358 H1192      41.1200   17.9800   35.0700 H       148 ARG147         nan\n   2359 N214       40.0300   19.8700   35.3000 N.pl3   148 ARG147         nan\n   2360 H1193      39.0500   20.1100   35.4100 H       148 ARG147         nan\n   2361 C732       40.9500   20.6700   35.7700 C.cat   148 ARG147         nan\n   2362 N215       42.2000   20.5000   35.5200 N.pl3   148 ARG147         nan\n   2363 H1194      42.5200   19.8000   34.8700 H       148 ARG147         nan\n   2364 H1195      42.9100   21.1700   35.7700 H       148 ARG147         nan\n   2365 N216       40.6000   21.7500   36.3500 N.pl3   148 ARG147         nan\n   2366 H1196      39.6500   21.8100   36.6800 H       148 ARG147         nan\n   2367 H1197      41.3600   22.3900   36.5200 H       148 ARG147         nan\n   2368 C733       36.3000   18.2800   31.7500 C.2     148 ARG147         nan\n   2369 O216       35.6800   17.1700   31.6700 O.2     148 ARG147         nan\n   2370 N217       35.6600   19.4700   31.6600 N.am    149 VAL148         nan\n   2371 H1198      36.1900   20.3300   31.6700 H       149 VAL148         nan\n   2372 C734       34.2200   19.6100   31.4000 C.3     149 VAL148         nan\n   2373 H1199      33.6200   19.1900   32.2200 H       149 VAL148         nan\n   2374 C735       33.9000   21.1000   31.5300 C.3     149 VAL148         nan\n   2375 H1200      34.4400   21.7700   30.8500 H       149 VAL148         nan\n   2376 C736       32.3600   21.3300   31.3800 C.3     149 VAL148         nan\n   2377 H1201      32.0600   22.3500   31.6200 H       149 VAL148         nan\n   2378 H1202      32.0000   21.0500   30.3900 H       149 VAL148         nan\n   2379 H1203      31.9300   20.7100   32.1600 H       149 VAL148         nan\n   2380 C737       34.1900   21.5500   32.9500 C.3     149 VAL148         nan\n   2381 H1204      33.6800   20.8300   33.5800 H       149 VAL148         nan\n   2382 H1205      35.2500   21.4100   33.1800 H       149 VAL148         nan\n   2383 H1206      33.7800   22.5500   33.1100 H       149 VAL148         nan\n   2384 C738       33.7400   18.9800   30.0900 C.2     149 VAL148         nan\n   2385 O217       32.8800   18.1600   30.1400 O.2     149 VAL148         nan\n   2386 N218       34.3100   19.3000   28.8800 N.am    150 ILE149         nan\n   2387 H1207      35.1600   19.8400   28.9500 H       150 ILE149         nan\n   2388 C739       34.0200   18.6700   27.6000 C.3     150 ILE149         nan\n   2389 H1208      33.0000   18.8100   27.2400 H       150 ILE149         nan\n   2390 C740       34.9400   19.3900   26.5500 C.3     150 ILE149         nan\n   2391 H1209      35.9800   19.3800   26.8700 H       150 ILE149         nan\n   2392 C741       34.9500   18.5800   25.2000 C.3     150 ILE149         nan\n   2393 H1210      35.3200   17.5600   25.3200 H       150 ILE149         nan\n   2394 H1211      33.9300   18.5200   24.8100 H       150 ILE149         nan\n   2395 H1212      35.6300   19.1300   24.5600 H       150 ILE149         nan\n   2396 C742       34.4800   20.8700   26.3200 C.3     150 ILE149         nan\n   2397 H1213      33.4500   20.8600   25.9800 H       150 ILE149         nan\n   2398 H1214      34.4700   21.3500   27.2900 H       150 ILE149         nan\n   2399 C743       35.3600   21.7900   25.4800 C.3     150 ILE149         nan\n   2400 H1215      36.3900   21.4900   25.6800 H       150 ILE149         nan\n   2401 H1216      35.2600   21.6600   24.4000 H       150 ILE149         nan\n   2402 H1217      35.1700   22.8500   25.6300 H       150 ILE149         nan\n   2403 C744       34.3200   17.1900   27.6300 C.2     150 ILE149         nan\n   2404 O218       33.5700   16.3500   27.0800 O.2     150 ILE149         nan\n   2405 N219       35.4200   16.7100   28.2700 N.am    151 THR150         nan\n   2406 H1218      36.0600   17.3700   28.6900 H       151 THR150         nan\n   2407 C745       35.7100   15.2900   28.3600 C.3     151 THR150         nan\n   2408 H1219      35.6700   14.7100   27.4500 H       151 THR150         nan\n   2409 C746       37.0900   15.1500   29.0500 C.3     151 THR150         nan\n   2410 H1220      37.0200   15.7000   29.9900 H       151 THR150         nan\n   2411 C747       37.4600   13.6800   29.2300 C.3     151 THR150         nan\n   2412 H1221      37.5200   13.2100   28.2400 H       151 THR150         nan\n   2413 H1222      38.4400   13.5800   29.7100 H       151 THR150         nan\n   2414 H1223      36.8200   13.1800   29.9400 H       151 THR150         nan\n   2415 O219       38.0800   15.5700   28.1600 O.3     151 THR150         nan\n   2416 H1224      37.9500   16.5200   28.0900 H       151 THR150         nan\n   2417 C748       34.6000   14.5200   29.1400 C.2     151 THR150         nan\n   2418 O220       34.2600   13.3900   28.8000 O.2     151 THR150         nan\n   2419 N220       34.1100   15.1200   30.2500 N.am    152 THR151         nan\n   2420 H1225      34.4800   16.0300   30.4900 H       152 THR151         nan\n   2421 C749       32.9600   14.5700   30.9700 C.3     152 THR151         nan\n   2422 H1226      33.1400   13.5900   31.4200 H       152 THR151         nan\n   2423 C750       32.6700   15.5200   32.1100 C.3     152 THR151         nan\n   2424 H1227      32.2400   16.4300   31.6900 H       152 THR151         nan\n   2425 C751       31.7200   14.8300   33.0700 C.3     152 THR151         nan\n   2426 H1228      31.4700   15.5200   33.8700 H       152 THR151         nan\n   2427 H1229      30.7600   14.6300   32.6100 H       152 THR151         nan\n   2428 H1230      32.1400   13.8700   33.3700 H       152 THR151         nan\n   2429 O221       33.6800   15.7700   33.0200 O.3     152 THR151         nan\n   2430 H1231      34.3700   16.1300   32.4700 H       152 THR151         nan\n   2431 C752       31.7000   14.4500   30.1100 C.2     152 THR151         nan\n   2432 O222       31.0100   13.4600   30.2300 O.2     152 THR151         nan\n   2433 N221       31.4000   15.3400   29.1200 N.am    153 PHE152         nan\n   2434 H1232      32.1300   16.0100   28.9500 H       153 PHE152         nan\n   2435 C753       30.2300   15.3000   28.1300 C.3     153 PHE152         nan\n   2436 H1233      29.2600   15.0900   28.5800 H       153 PHE152         nan\n   2437 C754       30.1000   16.6400   27.3400 C.3     153 PHE152         nan\n   2438 H1234      31.0600   16.9900   26.9600 H       153 PHE152         nan\n   2439 H1235      29.4300   16.4500   26.4900 H       153 PHE152         nan\n   2440 C755       29.4500   17.7600   28.1600 C.ar    153 PHE152         nan\n   2441 C756       28.1200   17.5900   28.5200 C.ar    153 PHE152         nan\n   2442 H1236      27.6200   16.6400   28.4200 H       153 PHE152         nan\n   2443 C757       27.4300   18.6000   29.1900 C.ar    153 PHE152         nan\n   2444 H1237      26.4400   18.4500   29.6100 H       153 PHE152         nan\n   2445 C758       28.0800   19.8400   29.4300 C.ar    153 PHE152         nan\n   2446 H1238      27.4300   20.6300   29.7900 H       153 PHE152         nan\n   2447 C759       29.4200   20.0400   29.0700 C.ar    153 PHE152         nan\n   2448 H1239      29.9500   20.9700   29.2200 H       153 PHE152         nan\n   2449 C760       30.1300   18.9300   28.5500 C.ar    153 PHE152         nan\n   2450 H1240      31.2100   18.9800   28.4500 H       153 PHE152         nan\n   2451 C761       30.6400   14.2800   27.0600 C.2     153 PHE152         nan\n   2452 O223       29.7800   13.6600   26.4000 O.2     153 PHE152         nan\n   2453 N222       31.9600   14.0300   26.7700 N.am    154 ARG153         nan\n   2454 H1241      32.6400   14.6100   27.2500 H       154 ARG153         nan\n   2455 C762       32.5200   12.9800   25.8300 C.3     154 ARG153         nan\n   2456 H1242      31.8700   12.9800   24.9500 H       154 ARG153         nan\n   2457 C763       34.0500   13.1100   25.5100 C.3     154 ARG153         nan\n   2458 H1243      34.1600   14.1900   25.3900 H       154 ARG153         nan\n   2459 H1244      34.6300   12.7800   26.3700 H       154 ARG153         nan\n   2460 C764       34.4600   12.3900   24.2300 C.3     154 ARG153         nan\n   2461 H1245      35.5300   12.4300   24.0000 H       154 ARG153         nan\n   2462 H1246      34.3100   11.3300   24.4000 H       154 ARG153         nan\n   2463 C765       33.9400   12.9800   22.8800 C.3     154 ARG153         nan\n   2464 H1247      32.8500   12.8700   22.8500 H       154 ARG153         nan\n   2465 H1248      34.2200   14.0300   22.8500 H       154 ARG153         nan\n   2466 N223       34.4300   12.2100   21.7100 N.pl3   154 ARG153         nan\n   2467 H1249      33.7000   11.6000   21.3500 H       154 ARG153         nan\n   2468 C766       35.5500   12.2900   21.0600 C.cat   154 ARG153         nan\n   2469 N224       36.3900   13.2300   21.2600 N.pl3   154 ARG153         nan\n   2470 H1250      36.3000   13.6900   22.1600 H       154 ARG153         nan\n   2471 H1251      37.2700   13.1500   20.7700 H       154 ARG153         nan\n   2472 N225       35.7900   11.4700   20.1000 N.pl3   154 ARG153         nan\n   2473 H1252      35.3100   10.5900   20.0300 H       154 ARG153         nan\n   2474 H1253      36.6100   11.6100   19.5400 H       154 ARG153         nan\n   2475 C767       32.1800   11.5800   26.3800 C.2     154 ARG153         nan\n   2476 O224       31.6800   10.7300   25.6500 O.2     154 ARG153         nan\n   2477 N226       32.4000   11.3600   27.7000 N.am    155 THR154         nan\n   2478 H1254      32.9000   12.0900   28.1900 H       155 THR154         nan\n   2479 C768       32.4200   10.0200   28.3000 C.3     155 THR154         nan\n   2480 H1255      32.2800    9.2900   27.5100 H       155 THR154         nan\n   2481 C769       33.7400    9.5600   28.9300 C.3     155 THR154         nan\n   2482 H1256      33.4800    8.5900   29.3400 H       155 THR154         nan\n   2483 C770       34.8300    9.4000   27.8700 C.3     155 THR154         nan\n   2484 H1257      35.6500    8.8100   28.2700 H       155 THR154         nan\n   2485 H1258      34.3600    8.9700   26.9900 H       155 THR154         nan\n   2486 H1259      35.2300   10.4000   27.7100 H       155 THR154         nan\n   2487 O225       34.0500   10.5500   29.9000 O.3     155 THR154         nan\n   2488 H1260      34.4800   10.0300   30.5800 H       155 THR154         nan\n   2489 C771       31.2800    9.7000   29.2800 C.2     155 THR154         nan\n   2490 O226       30.8300    8.5300   29.4000 O.2     155 THR154         nan\n   2491 N227       30.7900   10.7500   29.9400 N.am    156 GLY155         nan\n   2492 H1261      31.1400   11.6800   29.7800 H       156 GLY155         nan\n   2493 C772       29.6800   10.6100   30.8400 C.3     156 GLY155         nan\n   2494 H1262      29.4000   11.6400   31.0700 H       156 GLY155         nan\n   2495 H1263      28.8900   10.0700   30.3100 H       156 GLY155         nan\n   2496 C773       30.0200    9.8700   32.1400 C.2     156 GLY155         nan\n   2497 O227       29.1500    9.3800   32.8900 O.2     156 GLY155         nan\n   2498 N228       31.3300    9.8200   32.4200 N.am    157 THR156         nan\n   2499 H1264      31.8900   10.1600   31.6500 H       157 THR156         nan\n   2500 C774       32.0000    9.1200   33.4600 C.3     157 THR156         nan\n   2501 H1265      31.2900    8.7100   34.1800 H       157 THR156         nan\n   2502 C775       33.0300    8.0300   32.9900 C.3     157 THR156         nan\n   2503 H1266      33.4900    7.7200   33.9300 H       157 THR156         nan\n   2504 C776       32.4000    6.8900   32.2000 C.3     157 THR156         nan\n   2505 H1267      31.7400    7.1500   31.3700 H       157 THR156         nan\n   2506 H1268      33.2300    6.2600   31.8500 H       157 THR156         nan\n   2507 H1269      31.8100    6.3400   32.9300 H       157 THR156         nan\n   2508 O228       34.0100    8.4900   32.0700 O.3     157 THR156         nan\n   2509 H1270      34.6400    7.7700   32.1000 H       157 THR156         nan\n   2510 C777       32.7600   10.2000   34.2600 C.2     157 THR156         nan\n   2511 O229       33.0200   11.2500   33.6600 O.2     157 THR156         nan\n   2512 N229       33.1300    9.8800   35.5700 N.am    158 TRP157         nan\n   2513 H1271      32.8700    8.9800   35.9500 H       158 TRP157         nan\n   2514 C778       33.8500   10.8100   36.4800 C.3     158 TRP157         nan\n   2515 H1272      33.4700   11.7800   36.1600 H       158 TRP157         nan\n   2516 C779       33.4900   10.6600   37.9500 C.3     158 TRP157         nan\n   2517 H1273      33.5800    9.6200   38.2600 H       158 TRP157         nan\n   2518 H1274      34.2100   11.2900   38.4600 H       158 TRP157         nan\n   2519 C780       32.1000   11.2400   38.3200 C.2     158 TRP157         nan\n   2520 C781       31.0400   10.5600   38.8800 C.2     158 TRP157         nan\n   2521 H1275      31.0600    9.5400   39.2500 H       158 TRP157         nan\n   2522 N230       30.0700   11.5600   39.2400 N.pl3   158 TRP157         nan\n   2523 H1276      29.1200   11.4500   39.5500 H       158 TRP157         nan\n   2524 C782       30.5000   12.8600   38.8400 C.ar    158 TRP157         nan\n   2525 C783       29.9400   14.1400   38.9200 C.ar    158 TRP157         nan\n   2526 H1277      28.9300   14.2800   39.2800 H       158 TRP157         nan\n   2527 C784       30.7300   15.2500   38.6000 C.ar    158 TRP157         nan\n   2528 H1278      30.4700   16.2700   38.8700 H       158 TRP157         nan\n   2529 C785       32.0300   15.0700   38.1800 C.ar    158 TRP157         nan\n   2530 H1279      32.7500   15.8700   38.1100 H       158 TRP157         nan\n   2531 C786       32.5700   13.7800   37.9600 C.ar    158 TRP157         nan\n   2532 H1280      33.5600   13.7100   37.5300 H       158 TRP157         nan\n   2533 C787       31.8300   12.6400   38.3600 C.ar    158 TRP157         nan\n   2534 C788       35.3800   10.9200   36.1600 C.2     158 TRP157         nan\n   2535 O230       36.1400   11.5600   36.9400 O.2     158 TRP157         nan\n   2536 N231       35.8700   10.4800   34.9600 N.am    159 ASP158         nan\n   2537 H1281      35.0900   10.0900   34.4400 H       159 ASP158         nan\n   2538 C789       37.2900   10.1900   34.6400 C.3     159 ASP158         nan\n   2539 H1282      37.7200    9.6000   35.4500 H       159 ASP158         nan\n   2540 C790       37.3200    9.2400   33.4800 C.3     159 ASP158         nan\n   2541 H1283      36.9300    9.6700   32.5600 H       159 ASP158         nan\n   2542 H1284      38.3700    9.0100   33.3200 H       159 ASP158         nan\n   2543 C791       36.5400    7.8800   33.6800 C.2     159 ASP158         nan\n   2544 O231       36.2000    7.5200   34.8300 O.co2   159 ASP158         nan\n   2545 O232       36.3800    7.1500   32.6400 O.co2   159 ASP158         nan\n   2546 C792       38.1300   11.4600   34.4700 C.2     159 ASP158         nan\n   2547 O233       39.2500   11.5800   35.0100 O.2     159 ASP158         nan\n   2548 N232       37.4800   12.5100   33.9500 N.am    160 ALA159         nan\n   2549 H1285      36.5700   12.4100   33.5200 H       160 ALA159         nan\n   2550 C793       38.0200   13.8600   33.8700 C.3     160 ALA159         nan\n   2551 H1286      38.8600   13.9000   33.1700 H       160 ALA159         nan\n   2552 C794       36.9800   14.7600   33.2400 C.3     160 ALA159         nan\n   2553 H1287      37.3700   15.7700   33.0900 H       160 ALA159         nan\n   2554 H1288      36.6200   14.4600   32.2600 H       160 ALA159         nan\n   2555 H1289      36.0800   14.7500   33.8600 H       160 ALA159         nan\n   2556 C795       38.5400   14.4300   35.2200 C.2     160 ALA159         nan\n   2557 O234       39.2300   15.4500   35.2200 O.2     160 ALA159         nan\n   2558 N233       38.1200   13.8300   36.3100 N.am    161 TYR160         nan\n   2559 H1290      37.5400   13.0300   36.0900 H       161 TYR160         nan\n   2560 C796       38.1800   14.4100   37.7000 C.3     161 TYR160         nan\n   2561 H1291      38.9300   15.2100   37.7100 H       161 TYR160         nan\n   2562 C797       36.8300   15.0400   38.0200 C.3     161 TYR160         nan\n   2563 H1292      36.0500   14.3600   37.7000 H       161 TYR160         nan\n   2564 H1293      36.7600   15.1800   39.1000 H       161 TYR160         nan\n   2565 C798       36.5800   16.3300   37.3300 C.ar    161 TYR160         nan\n   2566 C799       35.9100   16.4400   36.1000 C.ar    161 TYR160         nan\n   2567 H1294      35.3600   15.6500   35.6200 H       161 TYR160         nan\n   2568 C800       35.9000   17.7300   35.4900 C.ar    161 TYR160         nan\n   2569 H1295      35.3900   17.7800   34.5300 H       161 TYR160         nan\n   2570 C801       36.4500   18.9000   36.0800 C.ar    161 TYR160         nan\n   2571 O235       36.2100   20.1300   35.5500 O.3     161 TYR160         nan\n   2572 H1296      36.3100   20.8300   36.2000 H       161 TYR160         nan\n   2573 C802       37.0800   18.7500   37.3200 C.ar    161 TYR160         nan\n   2574 H1297      37.5200   19.6000   37.8200 H       161 TYR160         nan\n   2575 C803       37.1600   17.4700   37.9300 C.ar    161 TYR160         nan\n   2576 H1298      37.7400   17.2800   38.8200 H       161 TYR160         nan\n   2577 C804       38.7200   13.4400   38.7700 C.2     161 TYR160         nan\n   2578 O236       39.5900   13.8700   39.5500 O.2     161 TYR160         nan\n   2579 N234       38.2400   12.1900   38.8100 N.am    162 LYS161         nan\n   2580 H1299      37.5100   11.8800   38.1800 H       162 LYS161         nan\n   2581 C805       38.9600   11.1100   39.6100 C.3     162 LYS161         nan\n   2582 H1300      39.1700   11.3800   40.6400 H       162 LYS161         nan\n   2583 C806       38.0100    9.9600   39.6500 C.3     162 LYS161         nan\n   2584 H1301      36.9900   10.1500   39.3000 H       162 LYS161         nan\n   2585 H1302      38.3700    9.4100   38.7800 H       162 LYS161         nan\n   2586 C807       38.1600    9.1100   40.9200 C.3     162 LYS161         nan\n   2587 H1303      39.2300    8.9500   41.0800 H       162 LYS161         nan\n   2588 H1304      37.6200    9.6700   41.6800 H       162 LYS161         nan\n   2589 C808       37.4300    7.7500   40.8700 C.3     162 LYS161         nan\n   2590 H1305      37.2600    7.4200   41.8900 H       162 LYS161         nan\n   2591 H1306      36.5000    7.8800   40.3200 H       162 LYS161         nan\n   2592 C809       38.2100    6.6700   40.1200 C.3     162 LYS161         nan\n   2593 H1307      38.1200    6.9100   39.0600 H       162 LYS161         nan\n   2594 H1308      39.2600    6.6100   40.4000 H       162 LYS161         nan\n   2595 N235       37.6100    5.3100   40.3500 N.4     162 LYS161         nan\n   2596 H1309      37.3900    5.0800   41.3100 H       162 LYS161         nan\n   2597 H1310      36.7800    5.2400   39.7800 H       162 LYS161         nan\n   2598 H1311      38.2100    4.5700   40.0100 H       162 LYS161         nan\n   2599 C810       40.3800   10.6400   39.0600 C.2     162 LYS161         nan\n   2600 O237       41.2700   10.2800   39.8300 O.2     162 LYS161         nan\n   2601 N236       40.6700   10.7300   37.7300 N.am    163 ASN162         nan\n   2602 H1312      39.9000   11.1200   37.2100 H       163 ASN162         nan\n   2603 C811       41.7700   10.1000   37.1200 C.3     163 ASN162         nan\n   2604 H1313      42.3700    9.5600   37.8500 H       163 ASN162         nan\n   2605 C812       41.3200    9.1500   36.0200 C.3     163 ASN162         nan\n   2606 H1314      40.5300    9.6400   35.4600 H       163 ASN162         nan\n   2607 H1315      42.2100    8.9000   35.4500 H       163 ASN162         nan\n   2608 C813       40.6900    7.8700   36.7400 C.2     163 ASN162         nan\n   2609 O238       39.5400    7.8900   37.2000 O.2     163 ASN162         nan\n   2610 N237       41.4800    6.8300   37.0000 N.am    163 ASN162         nan\n   2611 H1316      41.0800    6.2000   37.6900 H       163 ASN162         nan\n   2612 H1317      42.4700    6.8700   36.8200 H       163 ASN162         nan\n   2613 C814       42.6700   11.2600   36.6400 C.2     163 ASN162         nan\n   2614 O239       42.9100   11.4200   35.4100 O.2     163 ASN162         nan\n   2615 N238       43.1800   12.1600   37.5200 N.am    164 LEU163         nan\n   2616 H1318      42.9700   12.0200   38.5000 H       164 LEU163         nan\n   2617 C815       44.1400   13.3300   37.2100 C.3     164 LEU163         nan\n   2618 H1319      43.6800   13.7700   36.3200 H       164 LEU163         nan\n   2619 C816       43.9600   14.3900   38.3300 C.3     164 LEU163         nan\n   2620 H1320      44.3100   14.0500   39.3000 H       164 LEU163         nan\n   2621 H1321      44.6200   15.2200   38.0700 H       164 LEU163         nan\n   2622 C817       42.5500   15.0600   38.4700 C.3     164 LEU163         nan\n   2623 H1322      41.9000   14.2400   38.7800 H       164 LEU163         nan\n   2624 C818       42.5600   16.1700   39.4800 C.3     164 LEU163         nan\n   2625 H1323      43.1900   15.7900   40.2800 H       164 LEU163         nan\n   2626 H1324      43.0000   17.0700   39.0500 H       164 LEU163         nan\n   2627 H1325      41.5400   16.3200   39.8500 H       164 LEU163         nan\n   2628 C819       42.0200   15.4700   37.0900 C.3     164 LEU163         nan\n   2629 H1326      41.7800   14.5700   36.5200 H       164 LEU163         nan\n   2630 H1327      41.1300   16.0700   37.2700 H       164 LEU163         nan\n   2631 H1328      42.8500   15.9800   36.6000 H       164 LEU163         nan\n   2632 C820       45.6100   12.9100   36.9100 C.2     164 LEU163         nan\n   2633 O240       46.2300   12.1100   37.6800 O.co2   164 LEU163         nan\n   2634 O241       46.2000   13.2900   35.8400 O.co2   164 LEU163         nan\n@<TRIPOS>BOND\n     1    5   18 1\n     2   18   19 2\n     3    5    7 1\n     4    5    6 1\n     5    1    5 1\n     6    7   10 1\n     7    7    8 1\n     8    7    9 1\n     9   14   15 1\n    10   14   16 1\n    11   14   17 1\n    12   13   14 1\n    13   10   11 1\n    14   10   12 1\n    15   10   13 1\n    16    1    2 1\n    17    1    3 1\n    18    1    4 1\n    19   18   20 am\n    20   22   32 1\n    21   32   33 2\n    22   22   24 1\n    23   22   23 1\n    24   20   22 1\n    25   24   27 1\n    26   24   25 1\n    27   24   26 1\n    28   27   29 am\n    29   27   28 2\n    30   20   21 1\n    31   29   30 1\n    32   29   31 1\n    33   32   34 am\n    34   36   51 1\n    35   51   52 2\n    36   36   38 1\n    37   36   37 1\n    38   34   36 1\n    39   38   44 1\n    40   38   40 1\n    41   38   39 1\n    42   44   47 1\n    43   47   48 1\n    44   47   49 1\n    45   47   50 1\n    46   44   45 1\n    47   44   46 1\n    48   40   41 1\n    49   40   42 1\n    50   40   43 1\n    51   34   35 1\n    52   51   53 am\n    53   55   71 1\n    54   71   72 2\n    55   55   57 1\n    56   55   56 1\n    57   53   55 1\n    58   57   60 1\n    59   57   58 1\n    60   57   59 1\n    61   61   63 ar\n    62   60   61 ar\n    63   61   62 1\n    64   67   69 ar\n    65   60   69 ar\n    66   69   70 1\n    67   63   65 ar\n    68   63   64 1\n    69   65   67 ar\n    70   67   68 1\n    71   65   66 1\n    72   53   54 1\n    73   71   73 am\n    74   75   86 1\n    75   86   87 2\n    76   75   77 1\n    77   75   76 1\n    78   73   75 1\n    79   77   80 1\n    80   77   78 1\n    81   77   79 1\n    82   80   83 1\n    83   83   84 2\n    84   83   85 1\n    85   80   81 1\n    86   80   82 1\n    87   73   74 1\n    88   86   88 am\n    89   90  103 1\n    90  103  104 2\n    91   90   92 1\n    92   90   91 1\n    93   88   90 1\n    94   92   95 1\n    95   92   93 1\n    96   92   94 1\n    97   99  100 1\n    98   99  101 1\n    99   99  102 1\n   100   98   99 1\n   101   95   96 1\n   102   95   97 1\n   103   95   98 1\n   104   88   89 1\n   105  103  105 am\n   106  107  122 1\n   107  122  123 2\n   108  107  109 1\n   109  107  108 1\n   110  105  107 1\n   111  109  112 1\n   112  109  110 1\n   113  109  111 1\n   114  112  114 1\n   115  114  115 1\n   116  114  116 1\n   117  114  117 1\n   118  112  118 1\n   119  118  119 1\n   120  118  120 1\n   121  118  121 1\n   122  112  113 1\n   123  105  106 1\n   124  122  124 am\n   125  126  146 1\n   126  146  147 2\n   127  126  128 1\n   128  126  127 1\n   129  124  126 1\n   130  128  131 1\n   131  128  129 1\n   132  128  130 1\n   133  131  134 1\n   134  134  135 1\n   135  134  136 1\n   136  134  137 1\n   137  131  132 1\n   138  131  133 1\n   139  137  139 1\n   140  139  140 1\n   141  139  143 2\n   142  124  125 1\n   143  137  138 1\n   144  140  141 1\n   145  140  142 1\n   146  143  144 1\n   147  143  145 1\n   148  146  148 am\n   149  150  165 1\n   150  165  166 2\n   151  150  152 1\n   152  150  151 1\n   153  148  150 1\n   154  152  158 1\n   155  152  154 1\n   156  152  153 1\n   157  158  161 1\n   158  161  162 1\n   159  161  163 1\n   160  161  164 1\n   161  158  159 1\n   162  158  160 1\n   163  154  155 1\n   164  154  156 1\n   165  154  157 1\n   166  148  149 1\n   167  165  167 am\n   168  169  177 1\n   169  177  178 2\n   170  169  171 1\n   171  169  170 1\n   172  167  169 1\n   173  171  174 1\n   174  171  172 1\n   175  171  173 1\n   176  174  175 2\n   177  174  176 1\n   178  167  168 1\n   179  177  179 am\n   180  181  192 1\n   181  192  193 2\n   182  181  183 1\n   183  181  182 1\n   184  179  181 1\n   185  183  186 1\n   186  183  184 1\n   187  183  185 1\n   188  186  189 1\n   189  189  190 2\n   190  189  191 1\n   191  186  187 1\n   192  186  188 1\n   193  179  180 1\n   194  192  194 am\n   195  196  199 1\n   196  199  200 2\n   197  196  197 1\n   198  196  198 1\n   199  194  196 1\n   200  194  195 1\n   201  199  201 am\n   202  203  218 1\n   203  218  219 2\n   204  203  205 1\n   205  203  204 1\n   206  201  203 1\n   207  205  208 1\n   208  205  206 1\n   209  205  207 1\n   210  208  210 1\n   211  210  211 1\n   212  210  212 1\n   213  210  213 1\n   214  208  214 1\n   215  214  215 1\n   216  214  216 1\n   217  214  217 1\n   218  208  209 1\n   219  201  202 1\n   220  218  220 am\n   221  222  242 1\n   222  242  243 2\n   223  222  224 1\n   224  222  223 1\n   225  220  222 1\n   226  224  227 1\n   227  224  225 1\n   228  224  226 1\n   229  227  230 1\n   230  230  231 1\n   231  230  232 1\n   232  230  233 1\n   233  227  228 1\n   234  227  229 1\n   235  233  235 1\n   236  235  236 1\n   237  235  239 2\n   238  220  221 1\n   239  233  234 1\n   240  236  237 1\n   241  236  238 1\n   242  239  240 1\n   243  239  241 1\n   244  242  244 am\n   245  246  261 1\n   246  261  262 2\n   247  246  248 1\n   248  246  247 1\n   249  244  246 1\n   250  248  251 1\n   251  248  249 1\n   252  248  250 1\n   253  251  253 1\n   254  253  254 1\n   255  253  255 1\n   256  253  256 1\n   257  251  257 1\n   258  257  258 1\n   259  257  259 1\n   260  257  260 1\n   261  251  252 1\n   262  244  245 1\n   263  261  263 am\n   264  265  283 1\n   265  283  284 2\n   266  265  267 1\n   267  265  266 1\n   268  263  265 1\n   269  267  270 1\n   270  267  268 1\n   271  267  269 1\n   272  273  276 1\n   273  270  273 1\n   274  273  274 1\n   275  273  275 1\n   276  276  277 1\n   277  276  278 1\n   278  276  279 1\n   279  270  271 1\n   280  270  272 1\n   281  263  264 1\n   282  279  280 1\n   283  279  281 1\n   284  279  282 1\n   285  283  285 am\n   286  287  302 1\n   287  302  303 2\n   288  287  289 1\n   289  287  288 1\n   290  285  287 1\n   291  289  295 1\n   292  289  291 1\n   293  289  290 1\n   294  295  298 1\n   295  298  299 1\n   296  298  300 1\n   297  298  301 1\n   298  295  296 1\n   299  295  297 1\n   300  291  292 1\n   301  291  293 1\n   302  291  294 1\n   303  285  286 1\n   304  302  304 am\n   305  306  323 1\n   306  323  324 2\n   307  306  308 1\n   308  306  307 1\n   309  304  306 1\n   310  308  311 1\n   311  308  309 1\n   312  308  310 1\n   313  312  314 ar\n   314  311  312 ar\n   315  312  313 1\n   316  319  321 ar\n   317  311  321 ar\n   318  321  322 1\n   319  314  316 ar\n   320  314  315 1\n   321  316  319 ar\n   322  319  320 1\n   323  316  317 1\n   324  304  305 1\n   325  317  318 1\n   326  323  325 am\n   327  327  345 1\n   328  345  346 2\n   329  327  329 1\n   330  327  328 1\n   331  325  327 1\n   332  329  332 1\n   333  329  330 1\n   334  329  331 1\n   335  335  338 1\n   336  332  335 1\n   337  335  336 1\n   338  335  337 1\n   339  338  339 1\n   340  338  340 1\n   341  338  341 1\n   342  332  333 1\n   343  332  334 1\n   344  325  326 1\n   345  341  342 1\n   346  341  343 1\n   347  341  344 1\n   348  345  347 am\n   349  349  357 1\n   350  357  358 2\n   351  349  351 1\n   352  349  350 1\n   353  347  349 1\n   354  351  354 1\n   355  351  352 1\n   356  351  353 1\n   357  354  355 2\n   358  354  356 1\n   359  347  348 1\n   360  357  359 am\n   361  361  371 1\n   362  371  372 2\n   363  361  363 1\n   364  361  362 1\n   365  359  361 1\n   366  363  365 1\n   367  363  364 1\n   368  363  369 1\n   369  365  366 1\n   370  365  367 1\n   371  365  368 1\n   372  359  360 1\n   373  369  370 1\n   374  371  373 am\n   375  375  386 1\n   376  386  387 2\n   377  375  377 1\n   378  375  376 1\n   379  373  375 1\n   380  377  380 1\n   381  377  378 1\n   382  377  379 1\n   383  380  383 1\n   384  383  384 2\n   385  383  385 1\n   386  380  381 1\n   387  380  382 1\n   388  373  374 1\n   389  386  388 am\n   390  390  393 1\n   391  393  394 2\n   392  390  391 1\n   393  390  392 1\n   394  388  390 1\n   395  388  389 1\n   396  393  395 am\n   397  397  414 1\n   398  414  415 2\n   399  397  399 1\n   400  397  398 1\n   401  395  397 1\n   402  399  402 1\n   403  399  400 1\n   404  399  401 1\n   405  403  405 ar\n   406  402  403 ar\n   407  403  404 1\n   408  410  412 ar\n   409  402  412 ar\n   410  412  413 1\n   411  405  407 ar\n   412  405  406 1\n   413  407  410 ar\n   414  410  411 1\n   415  407  408 1\n   416  395  396 1\n   417  408  409 1\n   418  414  416 am\n   419  418  435 1\n   420  435  436 2\n   421  418  420 1\n   422  418  419 1\n   423  416  418 1\n   424  420  423 1\n   425  420  421 1\n   426  420  422 1\n   427  424  426 ar\n   428  423  424 ar\n   429  424  425 1\n   430  431  433 ar\n   431  423  433 ar\n   432  433  434 1\n   433  426  428 ar\n   434  426  427 1\n   435  428  431 ar\n   436  431  432 1\n   437  428  429 1\n   438  416  417 1\n   439  429  430 1\n   440  435  437 am\n   441  439  449 1\n   442  449  450 2\n   443  439  441 1\n   444  439  440 1\n   445  437  439 1\n   446  441  443 1\n   447  441  442 1\n   448  441  447 1\n   449  443  444 1\n   450  443  445 1\n   451  443  446 1\n   452  437  438 1\n   453  447  448 1\n   454  449  451 am\n   455  453  468 1\n   456  468  469 2\n   457  453  455 1\n   458  453  454 1\n   459  451  453 1\n   460  455  461 1\n   461  455  457 1\n   462  455  456 1\n   463  461  464 1\n   464  464  465 1\n   465  464  466 1\n   466  464  467 1\n   467  461  462 1\n   468  461  463 1\n   469  457  458 1\n   470  457  459 1\n   471  457  460 1\n   472  451  452 1\n   473  468  470 am\n   474  472  475 1\n   475  475  476 2\n   476  472  473 1\n   477  472  474 1\n   478  470  472 1\n   479  470  471 1\n   480  475  477 am\n   481  479  494 1\n   482  494  495 2\n   483  479  481 1\n   484  479  480 1\n   485  477  479 1\n   486  481  487 1\n   487  481  483 1\n   488  481  482 1\n   489  487  490 1\n   490  490  491 1\n   491  490  492 1\n   492  490  493 1\n   493  487  488 1\n   494  487  489 1\n   495  483  484 1\n   496  483  485 1\n   497  483  486 1\n   498  477  478 1\n   499  494  496 am\n   500  498  501 1\n   501  501  502 2\n   502  498  499 1\n   503  498  500 1\n   504  496  498 1\n   505  496  497 1\n   506  501  503 am\n   507  505  518 1\n   508  518  519 2\n   509  505  507 1\n   510  505  506 1\n   511  503  505 1\n   512  507  510 1\n   513  507  508 1\n   514  507  509 1\n   515  510  516 2\n   516  516  517 1\n   517  514  516 1\n   518  512  513 1\n   519  511  512 2\n   520  512  514 1\n   521  510  511 1\n   522  503  504 1\n   523  514  515 1\n   524  518  520 am\n   525  522  537 1\n   526  537  538 2\n   527  522  524 1\n   528  522  523 1\n   529  520  522 1\n   530  524  527 1\n   531  524  525 1\n   532  524  526 1\n   533  527  529 1\n   534  529  530 1\n   535  529  531 1\n   536  529  532 1\n   537  527  533 1\n   538  533  534 1\n   539  533  535 1\n   540  533  536 1\n   541  527  528 1\n   542  520  521 1\n   543  537  539 am\n   544  541  556 1\n   545  556  557 2\n   546  541  543 1\n   547  541  542 1\n   548  539  541 1\n   549  543  546 1\n   550  543  544 1\n   551  543  545 1\n   552  546  548 1\n   553  548  549 1\n   554  548  550 1\n   555  548  551 1\n   556  546  552 1\n   557  552  553 1\n   558  552  554 1\n   559  552  555 1\n   560  546  547 1\n   561  539  540 1\n   562  556  558 am\n   563  560  570 1\n   564  570  571 2\n   565  560  562 1\n   566  560  561 1\n   567  558  560 1\n   568  562  564 1\n   569  562  563 1\n   570  562  568 1\n   571  564  565 1\n   572  564  566 1\n   573  564  567 1\n   574  558  559 1\n   575  568  569 1\n   576  570  572 am\n   577  574  592 1\n   578  592  593 2\n   579  574  576 1\n   580  574  575 1\n   581  572  574 1\n   582  576  579 1\n   583  576  577 1\n   584  576  578 1\n   585  582  585 1\n   586  579  582 1\n   587  582  583 1\n   588  582  584 1\n   589  585  586 1\n   590  585  587 1\n   591  585  588 1\n   592  579  580 1\n   593  579  581 1\n   594  572  573 1\n   595  588  589 1\n   596  588  590 1\n   597  588  591 1\n   598  592  594 am\n   599  596  603 1\n   600  603  604 2\n   601  596  598 1\n   602  596  597 1\n   603  594  596 1\n   604  598  599 1\n   605  598  600 1\n   606  598  601 1\n   607  594  595 1\n   608  601  602 1\n   609  603  605 am\n   610  615  617 1\n   611  617  618 2\n   612  612  615 1\n   613  615  616 1\n   614  605  615 1\n   615  609  612 1\n   616  612  613 1\n   617  612  614 1\n   618  606  609 1\n   619  606  607 1\n   620  606  608 1\n   621  605  606 1\n   622  609  610 1\n   623  609  611 1\n   624  617  619 am\n   625  621  628 1\n   626  628  629 2\n   627  621  623 1\n   628  621  622 1\n   629  619  621 1\n   630  623  624 1\n   631  623  625 1\n   632  623  626 1\n   633  619  620 1\n   634  626  627 1\n   635  628  630 am\n   636  632  647 1\n   637  647  648 2\n   638  632  634 1\n   639  632  633 1\n   640  630  632 1\n   641  634  637 1\n   642  634  635 1\n   643  634  636 1\n   644  637  639 1\n   645  639  640 1\n   646  639  641 1\n   647  639  642 1\n   648  637  643 1\n   649  643  644 1\n   650  643  645 1\n   651  643  646 1\n   652  637  638 1\n   653  630  631 1\n   654  647  649 am\n   655  651  661 1\n   656  661  662 2\n   657  651  653 1\n   658  651  652 1\n   659  649  651 1\n   660  653  656 1\n   661  653  654 1\n   662  653  655 1\n   663  656  658 am\n   664  656  657 2\n   665  649  650 1\n   666  658  659 1\n   667  658  660 1\n   668  661  663 am\n   669  665  671 1\n   670  671  672 2\n   671  665  667 1\n   672  665  666 1\n   673  663  665 1\n   674  667  668 1\n   675  667  669 1\n   676  667  670 1\n   677  663  664 1\n   678  671  673 am\n   679  675  681 1\n   680  681  682 2\n   681  675  677 1\n   682  675  676 1\n   683  673  675 1\n   684  677  678 1\n   685  677  679 1\n   686  677  680 1\n   687  673  674 1\n   688  681  683 am\n   689  685  703 1\n   690  703  704 2\n   691  685  687 1\n   692  685  686 1\n   693  683  685 1\n   694  687  690 1\n   695  687  688 1\n   696  687  689 1\n   697  693  696 1\n   698  690  693 1\n   699  693  694 1\n   700  693  695 1\n   701  696  697 1\n   702  696  698 1\n   703  696  699 1\n   704  690  691 1\n   705  690  692 1\n   706  683  684 1\n   707  699  700 1\n   708  699  701 1\n   709  699  702 1\n   710  703  705 am\n   711  707  714 1\n   712  714  715 2\n   713  707  709 1\n   714  707  708 1\n   715  705  707 1\n   716  709  710 1\n   717  709  711 1\n   718  709  712 1\n   719  705  706 1\n   720  712  713 1\n   721  714  716 am\n   722  718  729 1\n   723  729  730 2\n   724  718  720 1\n   725  718  719 1\n   726  716  718 1\n   727  720  723 1\n   728  720  721 1\n   729  720  722 1\n   730  723  726 1\n   731  726  727 2\n   732  726  728 1\n   733  723  724 1\n   734  723  725 1\n   735  716  717 1\n   736  729  731 am\n   737  733  748 1\n   738  748  749 2\n   739  733  735 1\n   740  733  734 1\n   741  731  733 1\n   742  735  738 1\n   743  735  736 1\n   744  735  737 1\n   745  738  740 1\n   746  740  741 1\n   747  740  742 1\n   748  740  743 1\n   749  738  744 1\n   750  744  745 1\n   751  744  746 1\n   752  744  747 1\n   753  738  739 1\n   754  731  732 1\n   755  748  750 am\n   756  752  760 1\n   757  760  761 2\n   758  752  754 1\n   759  752  753 1\n   760  750  752 1\n   761  754  757 1\n   762  754  755 1\n   763  754  756 1\n   764  757  758 2\n   765  757  759 1\n   766  750  751 1\n   767  760  762 am\n   768  764  782 1\n   769  782  783 2\n   770  764  766 1\n   771  764  765 1\n   772  762  764 1\n   773  766  769 1\n   774  766  767 1\n   775  766  768 1\n   776  772  775 1\n   777  769  772 1\n   778  772  773 1\n   779  772  774 1\n   780  775  776 1\n   781  775  777 1\n   782  775  778 1\n   783  769  770 1\n   784  769  771 1\n   785  762  763 1\n   786  778  779 1\n   787  778  780 1\n   788  778  781 1\n   789  782  784 am\n   790  786  792 1\n   791  792  793 2\n   792  786  788 1\n   793  786  787 1\n   794  784  786 1\n   795  788  789 1\n   796  788  790 1\n   797  788  791 1\n   798  784  785 1\n   799  792  794 am\n   800  796  811 1\n   801  811  812 2\n   802  796  798 1\n   803  796  797 1\n   804  794  796 1\n   805  798  804 1\n   806  798  800 1\n   807  798  799 1\n   808  804  807 1\n   809  807  808 1\n   810  807  809 1\n   811  807  810 1\n   812  804  805 1\n   813  804  806 1\n   814  800  801 1\n   815  800  802 1\n   816  800  803 1\n   817  794  795 1\n   818  811  813 am\n   819  815  818 1\n   820  818  819 2\n   821  815  816 1\n   822  815  817 1\n   823  813  815 1\n   824  813  814 1\n   825  818  820 am\n   826  822  842 1\n   827  842  843 2\n   828  822  824 1\n   829  822  823 1\n   830  820  822 1\n   831  824  827 1\n   832  824  825 1\n   833  824  826 1\n   834  827  830 1\n   835  830  831 1\n   836  830  832 1\n   837  830  833 1\n   838  827  828 1\n   839  827  829 1\n   840  833  835 1\n   841  835  836 1\n   842  835  839 2\n   843  820  821 1\n   844  833  834 1\n   845  836  837 1\n   846  836  838 1\n   847  839  840 1\n   848  839  841 1\n   849  842  844 am\n   850  846  856 1\n   851  856  857 2\n   852  846  848 1\n   853  846  847 1\n   854  844  846 1\n   855  848  851 1\n   856  848  849 1\n   857  848  850 1\n   858  851  853 am\n   859  851  852 2\n   860  844  845 1\n   861  853  854 1\n   862  853  855 1\n   863  856  858 am\n   864  860  867 1\n   865  867  868 2\n   866  860  862 1\n   867  860  861 1\n   868  858  860 1\n   869  862  863 1\n   870  862  864 1\n   871  862  865 1\n   872  858  859 1\n   873  865  866 1\n   874  867  869 am\n   875  871  881 1\n   876  881  882 2\n   877  871  873 1\n   878  871  872 1\n   879  869  871 1\n   880  873  876 1\n   881  873  874 1\n   882  873  875 1\n   883  876  878 am\n   884  876  877 2\n   885  869  870 1\n   886  878  879 1\n   887  878  880 1\n   888  881  883 am\n   889  885  888 1\n   890  888  889 2\n   891  885  886 1\n   892  885  887 1\n   893  883  885 1\n   894  883  884 1\n   895  888  890 am\n   896  892  904 1\n   897  904  905 2\n   898  892  894 1\n   899  892  893 1\n   900  890  892 1\n   901  894  896 1\n   902  894  900 1\n   903  894  895 1\n   904  896  897 1\n   905  896  898 1\n   906  896  899 1\n   907  900  901 1\n   908  900  902 1\n   909  900  903 1\n   910  890  891 1\n   911  904  906 am\n   912  908  923 1\n   913  923  924 2\n   914  908  910 1\n   915  908  909 1\n   916  906  908 1\n   917  910  916 1\n   918  910  912 1\n   919  910  911 1\n   920  916  919 1\n   921  919  920 1\n   922  919  921 1\n   923  919  922 1\n   924  916  917 1\n   925  916  918 1\n   926  912  913 1\n   927  912  914 1\n   928  912  915 1\n   929  906  907 1\n   930  923  925 am\n   931  927  937 1\n   932  937  938 2\n   933  927  929 1\n   934  927  928 1\n   935  925  927 1\n   936  929  931 1\n   937  929  930 1\n   938  929  935 1\n   939  931  932 1\n   940  931  933 1\n   941  931  934 1\n   942  925  926 1\n   943  935  936 1\n   944  937  939 am\n   945  941  959 1\n   946  959  960 2\n   947  941  943 1\n   948  941  942 1\n   949  939  941 1\n   950  943  946 1\n   951  943  944 1\n   952  943  945 1\n   953  949  952 1\n   954  946  949 1\n   955  949  950 1\n   956  949  951 1\n   957  952  953 1\n   958  952  954 1\n   959  952  955 1\n   960  946  947 1\n   961  946  948 1\n   962  939  940 1\n   963  955  956 1\n   964  955  957 1\n   965  955  958 1\n   966  959  961 am\n   967  963  971 1\n   968  971  972 2\n   969  963  965 1\n   970  963  964 1\n   971  961  963 1\n   972  965  968 1\n   973  965  966 1\n   974  965  967 1\n   975  968  969 2\n   976  968  970 1\n   977  961  962 1\n   978  971  973 am\n   979  975  986 1\n   980  986  987 2\n   981  975  977 1\n   982  975  976 1\n   983  973  975 1\n   984  977  980 1\n   985  977  978 1\n   986  977  979 1\n   987  980  983 1\n   988  983  984 2\n   989  983  985 1\n   990  980  981 1\n   991  980  982 1\n   992  973  974 1\n   993  986  988 am\n   994  990  996 1\n   995  996  997 2\n   996  990  992 1\n   997  990  991 1\n   998  988  990 1\n   999  992  993 1\n  1000  992  994 1\n  1001  992  995 1\n  1002  988  989 1\n  1003  996  998 am\n  1004 1000 1011 1\n  1005 1011 1012 2\n  1006 1000 1002 1\n  1007 1000 1001 1\n  1008  998 1000 1\n  1009 1002 1005 1\n  1010 1002 1003 1\n  1011 1002 1004 1\n  1012 1005 1008 1\n  1013 1008 1009 2\n  1014 1008 1010 1\n  1015 1005 1006 1\n  1016 1005 1007 1\n  1017  998  999 1\n  1018 1011 1013 am\n  1019 1015 1033 1\n  1020 1033 1034 2\n  1021 1015 1017 1\n  1022 1015 1016 1\n  1023 1013 1015 1\n  1024 1017 1020 1\n  1025 1017 1018 1\n  1026 1017 1019 1\n  1027 1023 1026 1\n  1028 1020 1023 1\n  1029 1023 1024 1\n  1030 1023 1025 1\n  1031 1026 1027 1\n  1032 1026 1028 1\n  1033 1026 1029 1\n  1034 1020 1021 1\n  1035 1020 1022 1\n  1036 1013 1014 1\n  1037 1029 1030 1\n  1038 1029 1031 1\n  1039 1029 1032 1\n  1040 1033 1035 am\n  1041 1037 1052 1\n  1042 1052 1053 2\n  1043 1037 1039 1\n  1044 1037 1038 1\n  1045 1035 1037 1\n  1046 1039 1042 1\n  1047 1039 1040 1\n  1048 1039 1041 1\n  1049 1042 1044 1\n  1050 1044 1045 1\n  1051 1044 1046 1\n  1052 1044 1047 1\n  1053 1042 1048 1\n  1054 1048 1049 1\n  1055 1048 1050 1\n  1056 1048 1051 1\n  1057 1042 1043 1\n  1058 1035 1036 1\n  1059 1052 1054 am\n  1060 1056 1072 1\n  1061 1072 1073 2\n  1062 1056 1058 1\n  1063 1056 1057 1\n  1064 1054 1056 1\n  1065 1058 1061 1\n  1066 1058 1059 1\n  1067 1058 1060 1\n  1068 1062 1064 ar\n  1069 1061 1062 ar\n  1070 1062 1063 1\n  1071 1068 1070 ar\n  1072 1061 1070 ar\n  1073 1070 1071 1\n  1074 1064 1066 ar\n  1075 1064 1065 1\n  1076 1066 1068 ar\n  1077 1068 1069 1\n  1078 1066 1067 1\n  1079 1054 1055 1\n  1080 1072 1074 am\n  1081 1076 1086 1\n  1082 1086 1087 2\n  1083 1076 1078 1\n  1084 1076 1077 1\n  1085 1074 1076 1\n  1086 1078 1081 1\n  1087 1078 1079 1\n  1088 1078 1080 1\n  1089 1081 1083 am\n  1090 1081 1082 2\n  1091 1074 1075 1\n  1092 1083 1084 1\n  1093 1083 1085 1\n  1094 1086 1088 am\n  1095 1090 1103 1\n  1096 1103 1104 2\n  1097 1090 1092 1\n  1098 1090 1091 1\n  1099 1088 1090 1\n  1100 1092 1095 1\n  1101 1092 1093 1\n  1102 1092 1094 1\n  1103 1095 1098 1\n  1104 1098 1100 am\n  1105 1098 1099 2\n  1106 1095 1096 1\n  1107 1095 1097 1\n  1108 1088 1089 1\n  1109 1100 1101 1\n  1110 1100 1102 1\n  1111 1103 1105 am\n  1112 1107 1115 1\n  1113 1115 1116 2\n  1114 1107 1109 1\n  1115 1107 1108 1\n  1116 1105 1107 1\n  1117 1109 1112 1\n  1118 1109 1110 1\n  1119 1109 1111 1\n  1120 1112 1113 2\n  1121 1112 1114 1\n  1122 1105 1106 1\n  1123 1115 1117 am\n  1124 1119 1131 1\n  1125 1131 1132 2\n  1126 1119 1121 1\n  1127 1119 1120 1\n  1128 1117 1119 1\n  1129 1121 1123 1\n  1130 1121 1127 1\n  1131 1121 1122 1\n  1132 1123 1124 1\n  1133 1123 1125 1\n  1134 1123 1126 1\n  1135 1127 1128 1\n  1136 1127 1129 1\n  1137 1127 1130 1\n  1138 1117 1118 1\n  1139 1131 1133 am\n  1140 1135 1143 1\n  1141 1143 1144 2\n  1142 1135 1137 1\n  1143 1135 1136 1\n  1144 1133 1135 1\n  1145 1137 1140 1\n  1146 1137 1138 1\n  1147 1137 1139 1\n  1148 1140 1141 2\n  1149 1140 1142 1\n  1150 1133 1134 1\n  1151 1143 1145 am\n  1152 1147 1153 1\n  1153 1153 1154 2\n  1154 1147 1149 1\n  1155 1147 1148 1\n  1156 1145 1147 1\n  1157 1149 1150 1\n  1158 1149 1151 1\n  1159 1149 1152 1\n  1160 1145 1146 1\n  1161 1153 1155 am\n  1162 1157 1163 1\n  1163 1163 1164 2\n  1164 1157 1159 1\n  1165 1157 1158 1\n  1166 1155 1157 1\n  1167 1159 1160 1\n  1168 1159 1161 1\n  1169 1159 1162 1\n  1170 1155 1156 1\n  1171 1163 1165 am\n  1172 1167 1179 1\n  1173 1179 1180 2\n  1174 1167 1169 1\n  1175 1167 1168 1\n  1176 1165 1167 1\n  1177 1169 1171 1\n  1178 1169 1175 1\n  1179 1169 1170 1\n  1180 1171 1172 1\n  1181 1171 1173 1\n  1182 1171 1174 1\n  1183 1175 1176 1\n  1184 1175 1177 1\n  1185 1175 1178 1\n  1186 1165 1166 1\n  1187 1179 1181 am\n  1188 1183 1203 1\n  1189 1203 1204 2\n  1190 1183 1185 1\n  1191 1183 1184 1\n  1192 1181 1183 1\n  1193 1185 1188 1\n  1194 1185 1186 1\n  1195 1185 1187 1\n  1196 1188 1191 1\n  1197 1191 1192 1\n  1198 1191 1193 1\n  1199 1191 1194 1\n  1200 1188 1189 1\n  1201 1188 1190 1\n  1202 1194 1196 1\n  1203 1196 1197 1\n  1204 1196 1200 2\n  1205 1181 1182 1\n  1206 1194 1195 1\n  1207 1197 1198 1\n  1208 1197 1199 1\n  1209 1200 1201 1\n  1210 1200 1202 1\n  1211 1203 1205 am\n  1212 1207 1210 1\n  1213 1210 1211 2\n  1214 1207 1208 1\n  1215 1207 1209 1\n  1216 1205 1207 1\n  1217 1205 1206 1\n  1218 1210 1212 am\n  1219 1214 1229 1\n  1220 1229 1230 2\n  1221 1214 1216 1\n  1222 1214 1215 1\n  1223 1212 1214 1\n  1224 1216 1222 1\n  1225 1216 1218 1\n  1226 1216 1217 1\n  1227 1222 1225 1\n  1228 1225 1226 1\n  1229 1225 1227 1\n  1230 1225 1228 1\n  1231 1222 1223 1\n  1232 1222 1224 1\n  1233 1218 1219 1\n  1234 1218 1220 1\n  1235 1218 1221 1\n  1236 1212 1213 1\n  1237 1229 1231 am\n  1238 1233 1248 1\n  1239 1248 1249 2\n  1240 1233 1235 1\n  1241 1233 1234 1\n  1242 1231 1233 1\n  1243 1235 1238 1\n  1244 1235 1236 1\n  1245 1235 1237 1\n  1246 1238 1240 1\n  1247 1240 1241 1\n  1248 1240 1242 1\n  1249 1240 1243 1\n  1250 1238 1244 1\n  1251 1244 1245 1\n  1252 1244 1246 1\n  1253 1244 1247 1\n  1254 1238 1239 1\n  1255 1231 1232 1\n  1256 1248 1250 am\n  1257 1252 1272 1\n  1258 1272 1273 2\n  1259 1252 1254 1\n  1260 1252 1253 1\n  1261 1250 1252 1\n  1262 1254 1257 1\n  1263 1254 1255 1\n  1264 1254 1256 1\n  1265 1257 1260 1\n  1266 1260 1261 1\n  1267 1260 1262 1\n  1268 1260 1263 1\n  1269 1257 1258 1\n  1270 1257 1259 1\n  1271 1263 1265 1\n  1272 1265 1266 1\n  1273 1265 1269 2\n  1274 1250 1251 1\n  1275 1263 1264 1\n  1276 1266 1267 1\n  1277 1266 1268 1\n  1278 1269 1270 1\n  1279 1269 1271 1\n  1280 1272 1274 am\n  1281 1276 1286 1\n  1282 1286 1287 2\n  1283 1276 1278 1\n  1284 1276 1277 1\n  1285 1274 1276 1\n  1286 1278 1281 1\n  1287 1278 1279 1\n  1288 1278 1280 1\n  1289 1281 1283 am\n  1290 1281 1282 2\n  1291 1274 1275 1\n  1292 1283 1284 1\n  1293 1283 1285 1\n  1294 1286 1288 am\n  1295 1290 1296 1\n  1296 1296 1297 2\n  1297 1290 1292 1\n  1298 1290 1291 1\n  1299 1288 1290 1\n  1300 1292 1293 1\n  1301 1292 1294 1\n  1302 1292 1295 1\n  1303 1288 1289 1\n  1304 1296 1298 am\n  1305 1300 1318 1\n  1306 1318 1319 2\n  1307 1300 1302 1\n  1308 1300 1301 1\n  1309 1298 1300 1\n  1310 1302 1305 1\n  1311 1302 1303 1\n  1312 1302 1304 1\n  1313 1308 1311 1\n  1314 1305 1308 1\n  1315 1308 1309 1\n  1316 1308 1310 1\n  1317 1311 1312 1\n  1318 1311 1313 1\n  1319 1311 1314 1\n  1320 1305 1306 1\n  1321 1305 1307 1\n  1322 1298 1299 1\n  1323 1314 1315 1\n  1324 1314 1316 1\n  1325 1314 1317 1\n  1326 1318 1320 am\n  1327 1322 1337 1\n  1328 1337 1338 2\n  1329 1322 1324 1\n  1330 1322 1323 1\n  1331 1320 1322 1\n  1332 1324 1327 1\n  1333 1324 1325 1\n  1334 1324 1326 1\n  1335 1327 1329 1\n  1336 1329 1330 1\n  1337 1329 1331 1\n  1338 1329 1332 1\n  1339 1327 1333 1\n  1340 1333 1334 1\n  1341 1333 1335 1\n  1342 1333 1336 1\n  1343 1327 1328 1\n  1344 1320 1321 1\n  1345 1337 1339 am\n  1346 1341 1359 1\n  1347 1359 1360 2\n  1348 1341 1343 1\n  1349 1341 1342 1\n  1350 1339 1341 1\n  1351 1343 1346 1\n  1352 1343 1344 1\n  1353 1343 1345 1\n  1354 1349 1352 1\n  1355 1346 1349 1\n  1356 1349 1350 1\n  1357 1349 1351 1\n  1358 1352 1353 1\n  1359 1352 1354 1\n  1360 1352 1355 1\n  1361 1346 1347 1\n  1362 1346 1348 1\n  1363 1339 1340 1\n  1364 1355 1356 1\n  1365 1355 1357 1\n  1366 1355 1358 1\n  1367 1359 1361 am\n  1368 1371 1373 1\n  1369 1373 1374 2\n  1370 1368 1371 1\n  1371 1371 1372 1\n  1372 1361 1371 1\n  1373 1365 1368 1\n  1374 1368 1369 1\n  1375 1368 1370 1\n  1376 1362 1365 1\n  1377 1362 1363 1\n  1378 1362 1364 1\n  1379 1361 1362 1\n  1380 1365 1366 1\n  1381 1365 1367 1\n  1382 1373 1375 am\n  1383 1377 1389 1\n  1384 1389 1390 2\n  1385 1377 1379 1\n  1386 1377 1378 1\n  1387 1375 1377 1\n  1388 1379 1381 1\n  1389 1379 1385 1\n  1390 1379 1380 1\n  1391 1381 1382 1\n  1392 1381 1383 1\n  1393 1381 1384 1\n  1394 1385 1386 1\n  1395 1385 1387 1\n  1396 1385 1388 1\n  1397 1375 1376 1\n  1398 1389 1391 am\n  1399 1393 1410 1\n  1400 1410 1411 2\n  1401 1393 1395 1\n  1402 1393 1394 1\n  1403 1391 1393 1\n  1404 1395 1398 1\n  1405 1395 1396 1\n  1406 1395 1397 1\n  1407 1399 1401 ar\n  1408 1398 1399 ar\n  1409 1399 1400 1\n  1410 1406 1408 ar\n  1411 1398 1408 ar\n  1412 1408 1409 1\n  1413 1401 1403 ar\n  1414 1401 1402 1\n  1415 1403 1406 ar\n  1416 1406 1407 1\n  1417 1403 1404 1\n  1418 1391 1392 1\n  1419 1404 1405 1\n  1420 1410 1412 am\n  1421 1414 1422 1\n  1422 1422 1423 2\n  1423 1414 1416 1\n  1424 1414 1415 1\n  1425 1412 1414 1\n  1426 1416 1419 1\n  1427 1416 1417 1\n  1428 1416 1418 1\n  1429 1419 1420 2\n  1430 1419 1421 1\n  1431 1412 1413 1\n  1432 1422 1424 am\n  1433 1426 1433 1\n  1434 1433 1434 2\n  1435 1426 1428 1\n  1436 1426 1427 1\n  1437 1424 1426 1\n  1438 1428 1429 1\n  1439 1428 1430 1\n  1440 1428 1431 1\n  1441 1424 1425 1\n  1442 1431 1432 1\n  1443 1433 1435 am\n  1444 1437 1452 1\n  1445 1452 1453 2\n  1446 1437 1439 1\n  1447 1437 1438 1\n  1448 1435 1437 1\n  1449 1439 1442 1\n  1450 1439 1440 1\n  1451 1439 1441 1\n  1452 1442 1444 1\n  1453 1444 1445 1\n  1454 1444 1446 1\n  1455 1444 1447 1\n  1456 1442 1448 1\n  1457 1448 1449 1\n  1458 1448 1450 1\n  1459 1448 1451 1\n  1460 1442 1443 1\n  1461 1435 1436 1\n  1462 1452 1454 am\n  1463 1456 1464 1\n  1464 1464 1465 2\n  1465 1456 1458 1\n  1466 1456 1457 1\n  1467 1454 1456 1\n  1468 1458 1461 1\n  1469 1458 1459 1\n  1470 1458 1460 1\n  1471 1461 1462 2\n  1472 1461 1463 1\n  1473 1454 1455 1\n  1474 1464 1466 am\n  1475 1468 1474 1\n  1476 1474 1475 2\n  1477 1468 1470 1\n  1478 1468 1469 1\n  1479 1466 1468 1\n  1480 1470 1471 1\n  1481 1470 1472 1\n  1482 1470 1473 1\n  1483 1466 1467 1\n  1484 1474 1476 am\n  1485 1478 1490 1\n  1486 1490 1491 2\n  1487 1478 1480 1\n  1488 1478 1479 1\n  1489 1476 1478 1\n  1490 1480 1482 1\n  1491 1480 1486 1\n  1492 1480 1481 1\n  1493 1482 1483 1\n  1494 1482 1484 1\n  1495 1482 1485 1\n  1496 1486 1487 1\n  1497 1486 1488 1\n  1498 1486 1489 1\n  1499 1476 1477 1\n  1500 1490 1492 am\n  1501 1494 1514 1\n  1502 1514 1515 2\n  1503 1494 1496 1\n  1504 1494 1495 1\n  1505 1492 1494 1\n  1506 1496 1499 1\n  1507 1496 1497 1\n  1508 1496 1498 1\n  1509 1499 1502 1\n  1510 1502 1503 1\n  1511 1502 1504 1\n  1512 1502 1505 1\n  1513 1499 1500 1\n  1514 1499 1501 1\n  1515 1505 1507 1\n  1516 1507 1508 1\n  1517 1507 1511 2\n  1518 1492 1493 1\n  1519 1505 1506 1\n  1520 1508 1509 1\n  1521 1508 1510 1\n  1522 1511 1512 1\n  1523 1511 1513 1\n  1524 1514 1516 am\n  1525 1518 1538 1\n  1526 1538 1539 2\n  1527 1518 1520 1\n  1528 1518 1519 1\n  1529 1516 1518 1\n  1530 1520 1523 1\n  1531 1520 1521 1\n  1532 1520 1522 1\n  1533 1523 1526 1\n  1534 1526 1527 1\n  1535 1526 1528 1\n  1536 1526 1529 1\n  1537 1523 1524 1\n  1538 1523 1525 1\n  1539 1529 1531 1\n  1540 1531 1532 1\n  1541 1531 1535 2\n  1542 1516 1517 1\n  1543 1529 1530 1\n  1544 1532 1533 1\n  1545 1532 1534 1\n  1546 1535 1536 1\n  1547 1535 1537 1\n  1548 1538 1540 am\n  1549 1542 1549 1\n  1550 1549 1550 2\n  1551 1542 1544 1\n  1552 1542 1543 1\n  1553 1540 1542 1\n  1554 1544 1545 1\n  1555 1544 1546 1\n  1556 1544 1547 1\n  1557 1540 1541 1\n  1558 1547 1548 1\n  1559 1549 1551 am\n  1560 1553 1559 1\n  1561 1559 1560 2\n  1562 1553 1555 1\n  1563 1553 1554 1\n  1564 1551 1553 1\n  1565 1555 1556 1\n  1566 1555 1557 1\n  1567 1555 1558 1\n  1568 1551 1552 1\n  1569 1559 1561 am\n  1570 1563 1569 1\n  1571 1569 1570 2\n  1572 1563 1565 1\n  1573 1563 1564 1\n  1574 1561 1563 1\n  1575 1565 1566 1\n  1576 1565 1567 1\n  1577 1565 1568 1\n  1578 1561 1562 1\n  1579 1569 1571 am\n  1580 1573 1588 1\n  1581 1588 1589 2\n  1582 1573 1575 1\n  1583 1573 1574 1\n  1584 1571 1573 1\n  1585 1575 1581 1\n  1586 1575 1577 1\n  1587 1575 1576 1\n  1588 1581 1584 1\n  1589 1584 1585 1\n  1590 1584 1586 1\n  1591 1584 1587 1\n  1592 1581 1582 1\n  1593 1581 1583 1\n  1594 1577 1578 1\n  1595 1577 1579 1\n  1596 1577 1580 1\n  1597 1571 1572 1\n  1598 1588 1590 am\n  1599 1592 1602 1\n  1600 1602 1603 2\n  1601 1592 1594 1\n  1602 1592 1593 1\n  1603 1590 1592 1\n  1604 1594 1597 1\n  1605 1594 1595 1\n  1606 1594 1596 1\n  1607 1597 1599 am\n  1608 1597 1598 2\n  1609 1590 1591 1\n  1610 1599 1600 1\n  1611 1599 1601 1\n  1612 1602 1604 am\n  1613 1606 1619 1\n  1614 1619 1620 2\n  1615 1606 1608 1\n  1616 1606 1607 1\n  1617 1604 1606 1\n  1618 1608 1611 1\n  1619 1608 1609 1\n  1620 1608 1610 1\n  1621 1615 1616 1\n  1622 1615 1617 1\n  1623 1615 1618 1\n  1624 1614 1615 1\n  1625 1611 1612 1\n  1626 1611 1613 1\n  1627 1611 1614 1\n  1628 1604 1605 1\n  1629 1619 1621 am\n  1630 1623 1635 1\n  1631 1635 1636 2\n  1632 1623 1625 1\n  1633 1623 1624 1\n  1634 1621 1623 1\n  1635 1625 1627 1\n  1636 1625 1631 1\n  1637 1625 1626 1\n  1638 1627 1628 1\n  1639 1627 1629 1\n  1640 1627 1630 1\n  1641 1631 1632 1\n  1642 1631 1633 1\n  1643 1631 1634 1\n  1644 1621 1622 1\n  1645 1635 1637 am\n  1646 1639 1655 1\n  1647 1655 1656 2\n  1648 1639 1641 1\n  1649 1639 1640 1\n  1650 1637 1639 1\n  1651 1641 1644 1\n  1652 1641 1642 1\n  1653 1641 1643 1\n  1654 1645 1647 ar\n  1655 1644 1645 ar\n  1656 1645 1646 1\n  1657 1651 1653 ar\n  1658 1644 1653 ar\n  1659 1653 1654 1\n  1660 1647 1649 ar\n  1661 1647 1648 1\n  1662 1649 1651 ar\n  1663 1651 1652 1\n  1664 1649 1650 1\n  1665 1637 1638 1\n  1666 1655 1657 am\n  1667 1659 1672 1\n  1668 1672 1673 2\n  1669 1659 1661 1\n  1670 1659 1660 1\n  1671 1657 1659 1\n  1672 1661 1664 1\n  1673 1661 1662 1\n  1674 1661 1663 1\n  1675 1664 1667 1\n  1676 1667 1669 am\n  1677 1667 1668 2\n  1678 1664 1665 1\n  1679 1664 1666 1\n  1680 1657 1658 1\n  1681 1669 1670 1\n  1682 1669 1671 1\n  1683 1672 1674 am\n  1684 1676 1689 1\n  1685 1689 1690 2\n  1686 1676 1678 1\n  1687 1676 1677 1\n  1688 1674 1676 1\n  1689 1678 1681 1\n  1690 1678 1679 1\n  1691 1678 1680 1\n  1692 1685 1686 1\n  1693 1685 1687 1\n  1694 1685 1688 1\n  1695 1684 1685 1\n  1696 1681 1682 1\n  1697 1681 1683 1\n  1698 1681 1684 1\n  1699 1674 1675 1\n  1700 1689 1691 am\n  1701 1693 1696 1\n  1702 1696 1697 2\n  1703 1693 1694 1\n  1704 1693 1695 1\n  1705 1691 1693 1\n  1706 1691 1692 1\n  1707 1696 1698 am\n  1708 1700 1711 1\n  1709 1711 1712 2\n  1710 1700 1702 1\n  1711 1700 1701 1\n  1712 1698 1700 1\n  1713 1702 1705 1\n  1714 1702 1703 1\n  1715 1702 1704 1\n  1716 1705 1708 1\n  1717 1708 1709 2\n  1718 1708 1710 1\n  1719 1705 1706 1\n  1720 1705 1707 1\n  1721 1698 1699 1\n  1722 1711 1713 am\n  1723 1715 1725 1\n  1724 1725 1726 2\n  1725 1715 1717 1\n  1726 1715 1716 1\n  1727 1713 1715 1\n  1728 1717 1719 1\n  1729 1717 1718 1\n  1730 1717 1723 1\n  1731 1719 1720 1\n  1732 1719 1721 1\n  1733 1719 1722 1\n  1734 1713 1714 1\n  1735 1723 1724 1\n  1736 1725 1727 am\n  1737 1729 1732 1\n  1738 1732 1733 2\n  1739 1729 1730 1\n  1740 1729 1731 1\n  1741 1727 1729 1\n  1742 1727 1728 1\n  1743 1732 1734 am\n  1744 1736 1748 1\n  1745 1748 1749 2\n  1746 1736 1738 1\n  1747 1736 1737 1\n  1748 1734 1736 1\n  1749 1738 1740 1\n  1750 1738 1744 1\n  1751 1738 1739 1\n  1752 1740 1741 1\n  1753 1740 1742 1\n  1754 1740 1743 1\n  1755 1744 1745 1\n  1756 1744 1746 1\n  1757 1744 1747 1\n  1758 1734 1735 1\n  1759 1748 1750 am\n  1760 1752 1758 1\n  1761 1758 1759 2\n  1762 1752 1754 1\n  1763 1752 1753 1\n  1764 1750 1752 1\n  1765 1754 1755 1\n  1766 1754 1756 1\n  1767 1754 1757 1\n  1768 1750 1751 1\n  1769 1758 1760 am\n  1770 1762 1765 1\n  1771 1765 1766 2\n  1772 1762 1763 1\n  1773 1762 1764 1\n  1774 1760 1762 1\n  1775 1760 1761 1\n  1776 1765 1767 am\n  1777 1769 1785 1\n  1778 1785 1786 2\n  1779 1769 1771 1\n  1780 1769 1770 1\n  1781 1767 1769 1\n  1782 1771 1774 1\n  1783 1771 1772 1\n  1784 1771 1773 1\n  1785 1775 1777 ar\n  1786 1774 1775 ar\n  1787 1775 1776 1\n  1788 1781 1783 ar\n  1789 1774 1783 ar\n  1790 1783 1784 1\n  1791 1777 1779 ar\n  1792 1777 1778 1\n  1793 1779 1781 ar\n  1794 1781 1782 1\n  1795 1779 1780 1\n  1796 1767 1768 1\n  1797 1785 1787 am\n  1798 1789 1799 1\n  1799 1799 1800 2\n  1800 1789 1791 1\n  1801 1789 1790 1\n  1802 1787 1789 1\n  1803 1791 1793 1\n  1804 1791 1792 1\n  1805 1791 1797 1\n  1806 1793 1794 1\n  1807 1793 1795 1\n  1808 1793 1796 1\n  1809 1787 1788 1\n  1810 1797 1798 1\n  1811 1799 1801 am\n  1812 1803 1813 1\n  1813 1813 1814 2\n  1814 1803 1805 1\n  1815 1803 1804 1\n  1816 1801 1803 1\n  1817 1805 1808 1\n  1818 1805 1806 1\n  1819 1805 1807 1\n  1820 1808 1810 am\n  1821 1808 1809 2\n  1822 1801 1802 1\n  1823 1810 1811 1\n  1824 1810 1812 1\n  1825 1813 1815 am\n  1826 1817 1824 1\n  1827 1824 1825 2\n  1828 1817 1819 1\n  1829 1817 1818 1\n  1830 1815 1817 1\n  1831 1819 1820 1\n  1832 1819 1821 1\n  1833 1819 1822 1\n  1834 1815 1816 1\n  1835 1822 1823 1\n  1836 1824 1826 am\n  1837 1828 1843 1\n  1838 1843 1844 2\n  1839 1828 1830 1\n  1840 1828 1829 1\n  1841 1826 1828 1\n  1842 1830 1833 1\n  1843 1830 1831 1\n  1844 1830 1832 1\n  1845 1833 1835 1\n  1846 1835 1836 1\n  1847 1835 1837 1\n  1848 1835 1838 1\n  1849 1833 1839 1\n  1850 1839 1840 1\n  1851 1839 1841 1\n  1852 1839 1842 1\n  1853 1833 1834 1\n  1854 1826 1827 1\n  1855 1843 1845 am\n  1856 1847 1867 1\n  1857 1867 1868 2\n  1858 1847 1849 1\n  1859 1847 1848 1\n  1860 1845 1847 1\n  1861 1849 1852 1\n  1862 1849 1850 1\n  1863 1849 1851 1\n  1864 1852 1855 1\n  1865 1855 1856 1\n  1866 1855 1857 1\n  1867 1855 1858 1\n  1868 1852 1853 1\n  1869 1852 1854 1\n  1870 1858 1860 1\n  1871 1860 1861 1\n  1872 1860 1864 2\n  1873 1845 1846 1\n  1874 1858 1859 1\n  1875 1861 1862 1\n  1876 1861 1863 1\n  1877 1864 1865 1\n  1878 1864 1866 1\n  1879 1867 1869 am\n  1880 1871 1884 1\n  1881 1884 1885 2\n  1882 1871 1873 1\n  1883 1871 1872 1\n  1884 1869 1871 1\n  1885 1873 1876 1\n  1886 1873 1874 1\n  1887 1873 1875 1\n  1888 1880 1881 1\n  1889 1880 1882 1\n  1890 1880 1883 1\n  1891 1879 1880 1\n  1892 1876 1877 1\n  1893 1876 1878 1\n  1894 1876 1879 1\n  1895 1869 1870 1\n  1896 1884 1886 am\n  1897 1888 1903 1\n  1898 1903 1904 2\n  1899 1888 1890 1\n  1900 1888 1889 1\n  1901 1886 1888 1\n  1902 1890 1893 1\n  1903 1890 1891 1\n  1904 1890 1892 1\n  1905 1893 1895 1\n  1906 1895 1896 1\n  1907 1895 1897 1\n  1908 1895 1898 1\n  1909 1893 1899 1\n  1910 1899 1900 1\n  1911 1899 1901 1\n  1912 1899 1902 1\n  1913 1893 1894 1\n  1914 1886 1887 1\n  1915 1903 1905 am\n  1916 1907 1920 1\n  1917 1920 1921 2\n  1918 1907 1909 1\n  1919 1907 1908 1\n  1920 1905 1907 1\n  1921 1909 1912 1\n  1922 1909 1910 1\n  1923 1909 1911 1\n  1924 1912 1915 1\n  1925 1915 1917 am\n  1926 1915 1916 2\n  1927 1912 1913 1\n  1928 1912 1914 1\n  1929 1905 1906 1\n  1930 1917 1918 1\n  1931 1917 1919 1\n  1932 1920 1922 am\n  1933 1924 1937 1\n  1934 1937 1938 2\n  1935 1924 1926 1\n  1936 1924 1925 1\n  1937 1922 1924 1\n  1938 1926 1929 1\n  1939 1926 1927 1\n  1940 1926 1928 1\n  1941 1929 1932 1\n  1942 1932 1934 am\n  1943 1932 1933 2\n  1944 1929 1930 1\n  1945 1929 1931 1\n  1946 1922 1923 1\n  1947 1934 1935 1\n  1948 1934 1936 1\n  1949 1937 1939 am\n  1950 1941 1959 1\n  1951 1959 1960 2\n  1952 1941 1943 1\n  1953 1941 1942 1\n  1954 1939 1941 1\n  1955 1943 1946 1\n  1956 1943 1944 1\n  1957 1943 1945 1\n  1958 1949 1952 1\n  1959 1946 1949 1\n  1960 1949 1950 1\n  1961 1949 1951 1\n  1962 1952 1953 1\n  1963 1952 1954 1\n  1964 1952 1955 1\n  1965 1946 1947 1\n  1966 1946 1948 1\n  1967 1939 1940 1\n  1968 1955 1956 1\n  1969 1955 1957 1\n  1970 1955 1958 1\n  1971 1959 1961 am\n  1972 1963 1983 1\n  1973 1983 1984 2\n  1974 1963 1965 1\n  1975 1963 1964 1\n  1976 1961 1963 1\n  1977 1965 1968 1\n  1978 1965 1966 1\n  1979 1965 1967 1\n  1980 1968 1971 1\n  1981 1971 1972 1\n  1982 1971 1973 1\n  1983 1971 1974 1\n  1984 1968 1969 1\n  1985 1968 1970 1\n  1986 1974 1976 1\n  1987 1976 1977 1\n  1988 1976 1980 2\n  1989 1961 1962 1\n  1990 1974 1975 1\n  1991 1977 1978 1\n  1992 1977 1979 1\n  1993 1980 1981 1\n  1994 1980 1982 1\n  1995 1983 1985 am\n  1996 1987 2007 1\n  1997 2007 2008 2\n  1998 1987 1989 1\n  1999 1987 1988 1\n  2000 1985 1987 1\n  2001 1989 1992 1\n  2002 1989 1990 1\n  2003 1989 1991 1\n  2004 1992 1993 2\n  2005 1993 1994 1\n  2006 1993 1995 1\n  2007 1997 2006 ar\n  2008 2004 2006 ar\n  2009 1992 2006 1\n  2010 1997 1998 ar\n  2011 1995 1997 1\n  2012 2002 2004 ar\n  2013 2004 2005 1\n  2014 1998 2000 ar\n  2015 2000 2002 ar\n  2016 2000 2001 1\n  2017 1998 1999 1\n  2018 2002 2003 1\n  2019 1985 1986 1\n  2020 1995 1996 1\n  2021 2007 2009 am\n  2022 2011 2019 1\n  2023 2019 2020 2\n  2024 2011 2013 1\n  2025 2011 2012 1\n  2026 2009 2011 1\n  2027 2013 2016 1\n  2028 2013 2014 1\n  2029 2013 2015 1\n  2030 2016 2017 2\n  2031 2016 2018 1\n  2032 2009 2010 1\n  2033 2019 2021 am\n  2034 2023 2034 1\n  2035 2034 2035 2\n  2036 2023 2025 1\n  2037 2023 2024 1\n  2038 2021 2023 1\n  2039 2025 2028 1\n  2040 2025 2026 1\n  2041 2025 2027 1\n  2042 2028 2031 1\n  2043 2031 2032 2\n  2044 2031 2033 1\n  2045 2028 2029 1\n  2046 2028 2030 1\n  2047 2021 2022 1\n  2048 2034 2036 am\n  2049 2038 2044 1\n  2050 2044 2045 2\n  2051 2038 2040 1\n  2052 2038 2039 1\n  2053 2036 2038 1\n  2054 2040 2041 1\n  2055 2040 2042 1\n  2056 2040 2043 1\n  2057 2036 2037 1\n  2058 2044 2046 am\n  2059 2048 2054 1\n  2060 2054 2055 2\n  2061 2048 2050 1\n  2062 2048 2049 1\n  2063 2046 2048 1\n  2064 2050 2051 1\n  2065 2050 2052 1\n  2066 2050 2053 1\n  2067 2046 2047 1\n  2068 2054 2056 am\n  2069 2058 2070 1\n  2070 2070 2071 2\n  2071 2058 2060 1\n  2072 2058 2059 1\n  2073 2056 2058 1\n  2074 2060 2062 1\n  2075 2060 2066 1\n  2076 2060 2061 1\n  2077 2062 2063 1\n  2078 2062 2064 1\n  2079 2062 2065 1\n  2080 2066 2067 1\n  2081 2066 2068 1\n  2082 2066 2069 1\n  2083 2056 2057 1\n  2084 2070 2072 am\n  2085 2074 2084 1\n  2086 2084 2085 2\n  2087 2074 2076 1\n  2088 2074 2075 1\n  2089 2072 2074 1\n  2090 2076 2079 1\n  2091 2076 2077 1\n  2092 2076 2078 1\n  2093 2079 2081 am\n  2094 2079 2080 2\n  2095 2072 2073 1\n  2096 2081 2082 1\n  2097 2081 2083 1\n  2098 2084 2086 am\n  2099 2088 2103 1\n  2100 2103 2104 2\n  2101 2088 2090 1\n  2102 2088 2089 1\n  2103 2086 2088 1\n  2104 2090 2093 1\n  2105 2090 2091 1\n  2106 2090 2092 1\n  2107 2093 2095 1\n  2108 2095 2096 1\n  2109 2095 2097 1\n  2110 2095 2098 1\n  2111 2093 2099 1\n  2112 2099 2100 1\n  2113 2099 2101 1\n  2114 2099 2102 1\n  2115 2093 2094 1\n  2116 2086 2087 1\n  2117 2103 2105 am\n  2118 2107 2113 1\n  2119 2113 2114 2\n  2120 2107 2109 1\n  2121 2107 2108 1\n  2122 2105 2107 1\n  2123 2109 2110 1\n  2124 2109 2111 1\n  2125 2109 2112 1\n  2126 2105 2106 1\n  2127 2113 2115 am\n  2128 2117 2135 1\n  2129 2135 2136 2\n  2130 2117 2119 1\n  2131 2117 2118 1\n  2132 2115 2117 1\n  2133 2119 2122 1\n  2134 2119 2120 1\n  2135 2119 2121 1\n  2136 2125 2128 1\n  2137 2122 2125 1\n  2138 2125 2126 1\n  2139 2125 2127 1\n  2140 2128 2129 1\n  2141 2128 2130 1\n  2142 2128 2131 1\n  2143 2122 2123 1\n  2144 2122 2124 1\n  2145 2115 2116 1\n  2146 2131 2132 1\n  2147 2131 2133 1\n  2148 2131 2134 1\n  2149 2135 2137 am\n  2150 2139 2146 1\n  2151 2146 2147 2\n  2152 2139 2141 1\n  2153 2139 2140 1\n  2154 2137 2139 1\n  2155 2141 2142 1\n  2156 2141 2143 1\n  2157 2141 2144 1\n  2158 2137 2138 1\n  2159 2144 2145 1\n  2160 2146 2148 am\n  2161 2150 2170 1\n  2162 2170 2171 2\n  2163 2150 2152 1\n  2164 2150 2151 1\n  2165 2148 2150 1\n  2166 2152 2155 1\n  2167 2152 2153 1\n  2168 2152 2154 1\n  2169 2155 2158 1\n  2170 2158 2159 1\n  2171 2158 2160 1\n  2172 2158 2161 1\n  2173 2155 2156 1\n  2174 2155 2157 1\n  2175 2161 2163 1\n  2176 2163 2164 1\n  2177 2163 2167 2\n  2178 2148 2149 1\n  2179 2161 2162 1\n  2180 2164 2165 1\n  2181 2164 2166 1\n  2182 2167 2168 1\n  2183 2167 2169 1\n  2184 2170 2172 am\n  2185 2174 2194 1\n  2186 2194 2195 2\n  2187 2174 2176 1\n  2188 2174 2175 1\n  2189 2172 2174 1\n  2190 2176 2179 1\n  2191 2176 2177 1\n  2192 2176 2178 1\n  2193 2179 2180 2\n  2194 2180 2181 1\n  2195 2180 2182 1\n  2196 2184 2193 ar\n  2197 2191 2193 ar\n  2198 2179 2193 1\n  2199 2184 2185 ar\n  2200 2182 2184 1\n  2201 2189 2191 ar\n  2202 2191 2192 1\n  2203 2185 2187 ar\n  2204 2187 2189 ar\n  2205 2187 2188 1\n  2206 2185 2186 1\n  2207 2189 2190 1\n  2208 2172 2173 1\n  2209 2182 2183 1\n  2210 2194 2196 am\n  2211 2198 2215 1\n  2212 2215 2216 2\n  2213 2198 2200 1\n  2214 2198 2199 1\n  2215 2196 2198 1\n  2216 2200 2203 1\n  2217 2200 2201 1\n  2218 2200 2202 1\n  2219 2204 2206 ar\n  2220 2203 2204 ar\n  2221 2204 2205 1\n  2222 2211 2213 ar\n  2223 2203 2213 ar\n  2224 2213 2214 1\n  2225 2206 2208 ar\n  2226 2206 2207 1\n  2227 2208 2211 ar\n  2228 2211 2212 1\n  2229 2208 2209 1\n  2230 2196 2197 1\n  2231 2209 2210 1\n  2232 2215 2217 am\n  2233 2219 2229 1\n  2234 2229 2230 2\n  2235 2219 2221 1\n  2236 2219 2220 1\n  2237 2217 2219 1\n  2238 2221 2224 1\n  2239 2221 2222 1\n  2240 2221 2223 1\n  2241 2224 2226 am\n  2242 2224 2225 2\n  2243 2217 2218 1\n  2244 2226 2227 1\n  2245 2226 2228 1\n  2246 2229 2231 am\n  2247 2233 2246 1\n  2248 2246 2247 2\n  2249 2233 2235 1\n  2250 2233 2234 1\n  2251 2231 2233 1\n  2252 2235 2238 1\n  2253 2235 2236 1\n  2254 2235 2237 1\n  2255 2238 2241 1\n  2256 2241 2243 am\n  2257 2241 2242 2\n  2258 2238 2239 1\n  2259 2238 2240 1\n  2260 2231 2232 1\n  2261 2243 2244 1\n  2262 2243 2245 1\n  2263 2246 2248 am\n  2264 2250 2260 1\n  2265 2260 2261 2\n  2266 2250 2252 1\n  2267 2250 2251 1\n  2268 2248 2250 1\n  2269 2252 2254 1\n  2270 2252 2253 1\n  2271 2252 2258 1\n  2272 2254 2255 1\n  2273 2254 2256 1\n  2274 2254 2257 1\n  2275 2248 2249 1\n  2276 2258 2259 1\n  2277 2260 2262 am\n  2278 2272 2274 1\n  2279 2274 2275 2\n  2280 2269 2272 1\n  2281 2272 2273 1\n  2282 2262 2272 1\n  2283 2266 2269 1\n  2284 2269 2270 1\n  2285 2269 2271 1\n  2286 2263 2266 1\n  2287 2263 2264 1\n  2288 2263 2265 1\n  2289 2262 2263 1\n  2290 2266 2267 1\n  2291 2266 2268 1\n  2292 2274 2276 am\n  2293 2278 2288 1\n  2294 2288 2289 2\n  2295 2278 2280 1\n  2296 2278 2279 1\n  2297 2276 2278 1\n  2298 2280 2283 1\n  2299 2280 2281 1\n  2300 2280 2282 1\n  2301 2283 2285 am\n  2302 2283 2284 2\n  2303 2276 2277 1\n  2304 2285 2286 1\n  2305 2285 2287 1\n  2306 2288 2290 am\n  2307 2292 2312 1\n  2308 2312 2313 2\n  2309 2292 2294 1\n  2310 2292 2293 1\n  2311 2290 2292 1\n  2312 2294 2297 1\n  2313 2294 2295 1\n  2314 2294 2296 1\n  2315 2297 2300 1\n  2316 2300 2301 1\n  2317 2300 2302 1\n  2318 2300 2303 1\n  2319 2297 2298 1\n  2320 2297 2299 1\n  2321 2303 2305 1\n  2322 2305 2306 1\n  2323 2305 2309 2\n  2324 2290 2291 1\n  2325 2303 2304 1\n  2326 2306 2307 1\n  2327 2306 2308 1\n  2328 2309 2310 1\n  2329 2309 2311 1\n  2330 2312 2314 am\n  2331 2316 2322 1\n  2332 2322 2323 2\n  2333 2316 2318 1\n  2334 2316 2317 1\n  2335 2314 2316 1\n  2336 2318 2319 1\n  2337 2318 2320 1\n  2338 2318 2321 1\n  2339 2314 2315 1\n  2340 2322 2324 am\n  2341 2326 2344 1\n  2342 2344 2345 2\n  2343 2326 2328 1\n  2344 2326 2327 1\n  2345 2324 2326 1\n  2346 2328 2331 1\n  2347 2328 2329 1\n  2348 2328 2330 1\n  2349 2334 2337 1\n  2350 2331 2334 1\n  2351 2334 2335 1\n  2352 2334 2336 1\n  2353 2337 2338 1\n  2354 2337 2339 1\n  2355 2337 2340 1\n  2356 2331 2332 1\n  2357 2331 2333 1\n  2358 2324 2325 1\n  2359 2340 2341 1\n  2360 2340 2342 1\n  2361 2340 2343 1\n  2362 2344 2346 am\n  2363 2348 2368 1\n  2364 2368 2369 2\n  2365 2348 2350 1\n  2366 2348 2349 1\n  2367 2346 2348 1\n  2368 2350 2353 1\n  2369 2350 2351 1\n  2370 2350 2352 1\n  2371 2353 2356 1\n  2372 2356 2357 1\n  2373 2356 2358 1\n  2374 2356 2359 1\n  2375 2353 2354 1\n  2376 2353 2355 1\n  2377 2359 2361 1\n  2378 2361 2362 1\n  2379 2361 2365 2\n  2380 2346 2347 1\n  2381 2359 2360 1\n  2382 2362 2363 1\n  2383 2362 2364 1\n  2384 2365 2366 1\n  2385 2365 2367 1\n  2386 2368 2370 am\n  2387 2372 2384 1\n  2388 2384 2385 2\n  2389 2372 2374 1\n  2390 2372 2373 1\n  2391 2370 2372 1\n  2392 2374 2376 1\n  2393 2374 2380 1\n  2394 2374 2375 1\n  2395 2376 2377 1\n  2396 2376 2378 1\n  2397 2376 2379 1\n  2398 2380 2381 1\n  2399 2380 2382 1\n  2400 2380 2383 1\n  2401 2370 2371 1\n  2402 2384 2386 am\n  2403 2388 2403 1\n  2404 2403 2404 2\n  2405 2388 2390 1\n  2406 2388 2389 1\n  2407 2386 2388 1\n  2408 2390 2396 1\n  2409 2390 2392 1\n  2410 2390 2391 1\n  2411 2396 2399 1\n  2412 2399 2400 1\n  2413 2399 2401 1\n  2414 2399 2402 1\n  2415 2396 2397 1\n  2416 2396 2398 1\n  2417 2392 2393 1\n  2418 2392 2394 1\n  2419 2392 2395 1\n  2420 2386 2387 1\n  2421 2403 2405 am\n  2422 2407 2417 1\n  2423 2417 2418 2\n  2424 2407 2409 1\n  2425 2407 2408 1\n  2426 2405 2407 1\n  2427 2409 2411 1\n  2428 2409 2410 1\n  2429 2409 2415 1\n  2430 2411 2412 1\n  2431 2411 2413 1\n  2432 2411 2414 1\n  2433 2405 2406 1\n  2434 2415 2416 1\n  2435 2417 2419 am\n  2436 2421 2431 1\n  2437 2431 2432 2\n  2438 2421 2423 1\n  2439 2421 2422 1\n  2440 2419 2421 1\n  2441 2423 2425 1\n  2442 2423 2424 1\n  2443 2423 2429 1\n  2444 2425 2426 1\n  2445 2425 2427 1\n  2446 2425 2428 1\n  2447 2419 2420 1\n  2448 2429 2430 1\n  2449 2431 2433 am\n  2450 2435 2451 1\n  2451 2451 2452 2\n  2452 2435 2437 1\n  2453 2435 2436 1\n  2454 2433 2435 1\n  2455 2437 2440 1\n  2456 2437 2438 1\n  2457 2437 2439 1\n  2458 2441 2443 ar\n  2459 2440 2441 ar\n  2460 2441 2442 1\n  2461 2447 2449 ar\n  2462 2440 2449 ar\n  2463 2449 2450 1\n  2464 2443 2445 ar\n  2465 2443 2444 1\n  2466 2445 2447 ar\n  2467 2447 2448 1\n  2468 2445 2446 1\n  2469 2433 2434 1\n  2470 2451 2453 am\n  2471 2455 2475 1\n  2472 2475 2476 2\n  2473 2455 2457 1\n  2474 2455 2456 1\n  2475 2453 2455 1\n  2476 2457 2460 1\n  2477 2457 2458 1\n  2478 2457 2459 1\n  2479 2460 2463 1\n  2480 2463 2464 1\n  2481 2463 2465 1\n  2482 2463 2466 1\n  2483 2460 2461 1\n  2484 2460 2462 1\n  2485 2466 2468 1\n  2486 2468 2469 1\n  2487 2468 2472 2\n  2488 2453 2454 1\n  2489 2466 2467 1\n  2490 2469 2470 1\n  2491 2469 2471 1\n  2492 2472 2473 1\n  2493 2472 2474 1\n  2494 2475 2477 am\n  2495 2479 2489 1\n  2496 2489 2490 2\n  2497 2479 2481 1\n  2498 2479 2480 1\n  2499 2477 2479 1\n  2500 2481 2483 1\n  2501 2481 2482 1\n  2502 2481 2487 1\n  2503 2483 2484 1\n  2504 2483 2485 1\n  2505 2483 2486 1\n  2506 2477 2478 1\n  2507 2487 2488 1\n  2508 2489 2491 am\n  2509 2493 2496 1\n  2510 2496 2497 2\n  2511 2493 2494 1\n  2512 2493 2495 1\n  2513 2491 2493 1\n  2514 2491 2492 1\n  2515 2496 2498 am\n  2516 2500 2510 1\n  2517 2510 2511 2\n  2518 2500 2502 1\n  2519 2500 2501 1\n  2520 2498 2500 1\n  2521 2502 2504 1\n  2522 2502 2503 1\n  2523 2502 2508 1\n  2524 2504 2505 1\n  2525 2504 2506 1\n  2526 2504 2507 1\n  2527 2498 2499 1\n  2528 2508 2509 1\n  2529 2510 2512 am\n  2530 2514 2534 1\n  2531 2534 2535 2\n  2532 2514 2516 1\n  2533 2514 2515 1\n  2534 2512 2514 1\n  2535 2516 2519 1\n  2536 2516 2517 1\n  2537 2516 2518 1\n  2538 2519 2520 2\n  2539 2520 2521 1\n  2540 2520 2522 1\n  2541 2524 2533 ar\n  2542 2531 2533 ar\n  2543 2519 2533 1\n  2544 2524 2525 ar\n  2545 2522 2524 1\n  2546 2529 2531 ar\n  2547 2531 2532 1\n  2548 2525 2527 ar\n  2549 2527 2529 ar\n  2550 2527 2528 1\n  2551 2525 2526 1\n  2552 2529 2530 1\n  2553 2512 2513 1\n  2554 2522 2523 1\n  2555 2534 2536 am\n  2556 2538 2546 1\n  2557 2546 2547 2\n  2558 2538 2540 1\n  2559 2538 2539 1\n  2560 2536 2538 1\n  2561 2540 2543 1\n  2562 2540 2541 1\n  2563 2540 2542 1\n  2564 2543 2544 2\n  2565 2543 2545 1\n  2566 2536 2537 1\n  2567 2546 2548 am\n  2568 2550 2556 1\n  2569 2556 2557 2\n  2570 2550 2552 1\n  2571 2550 2551 1\n  2572 2548 2550 1\n  2573 2552 2553 1\n  2574 2552 2554 1\n  2575 2552 2555 1\n  2576 2548 2549 1\n  2577 2556 2558 am\n  2578 2560 2577 1\n  2579 2577 2578 2\n  2580 2560 2562 1\n  2581 2560 2561 1\n  2582 2558 2560 1\n  2583 2562 2565 1\n  2584 2562 2563 1\n  2585 2562 2564 1\n  2586 2566 2568 ar\n  2587 2565 2566 ar\n  2588 2566 2567 1\n  2589 2573 2575 ar\n  2590 2565 2575 ar\n  2591 2575 2576 1\n  2592 2568 2570 ar\n  2593 2568 2569 1\n  2594 2570 2573 ar\n  2595 2573 2574 1\n  2596 2570 2571 1\n  2597 2558 2559 1\n  2598 2571 2572 1\n  2599 2577 2579 am\n  2600 2581 2599 1\n  2601 2599 2600 2\n  2602 2581 2583 1\n  2603 2581 2582 1\n  2604 2579 2581 1\n  2605 2583 2586 1\n  2606 2583 2584 1\n  2607 2583 2585 1\n  2608 2589 2592 1\n  2609 2586 2589 1\n  2610 2589 2590 1\n  2611 2589 2591 1\n  2612 2592 2593 1\n  2613 2592 2594 1\n  2614 2592 2595 1\n  2615 2586 2587 1\n  2616 2586 2588 1\n  2617 2579 2580 1\n  2618 2595 2596 1\n  2619 2595 2597 1\n  2620 2595 2598 1\n  2621 2599 2601 am\n  2622 2603 2613 1\n  2623 2613 2614 2\n  2624 2603 2605 1\n  2625 2603 2604 1\n  2626 2601 2603 1\n  2627 2605 2608 1\n  2628 2605 2606 1\n  2629 2605 2607 1\n  2630 2608 2610 am\n  2631 2608 2609 2\n  2632 2601 2602 1\n  2633 2610 2611 1\n  2634 2610 2612 1\n  2635 2613 2615 am\n  2636 2617 2632 1\n  2637 2632 2633 2\n  2638 2632 2634 1\n  2639 2617 2619 1\n  2640 2617 2618 1\n  2641 2615 2617 1\n  2642 2619 2622 1\n  2643 2619 2620 1\n  2644 2619 2621 1\n  2645 2622 2624 1\n  2646 2624 2625 1\n  2647 2624 2626 1\n  2648 2624 2627 1\n  2649 2622 2628 1\n  2650 2628 2629 1\n  2651 2628 2630 1\n  2652 2628 2631 1\n  2653 2622 2623 1\n  2654 2615 2616 1\n@<TRIPOS>SUBSTRUCTURE\n     1 MET0        1 RESIDUE 1 A     MET\n     2 ASN1       20 RESIDUE 1 A     ASN\n     3 ILE2       34 RESIDUE 1 A     ILE\n     4 PHE3       53 RESIDUE 1 A     PHE\n     5 GLU4       73 RESIDUE 1 A     GLU\n     6 MET5       88 RESIDUE 1 A     MET\n     7 LEU6      105 RESIDUE 1 A     LEU\n     8 ARG7      124 RESIDUE 1 A     ARG\n     9 ILE8      148 RESIDUE 1 A     ILE\n    10 ASP9      167 RESIDUE 1 A     ASP\n    11 GLU10     179 RESIDUE 1 A     GLU\n    12 GLY11     194 RESIDUE 1 A     GLY\n    13 LEU12     201 RESIDUE 1 A     LEU\n    14 ARG13     220 RESIDUE 1 A     ARG\n    15 LEU14     244 RESIDUE 1 A     LEU\n    16 LYS15     263 RESIDUE 1 A     LYS\n    17 ILE16     285 RESIDUE 1 A     ILE\n    18 TYR17     304 RESIDUE 1 A     TYR\n    19 LYS18     325 RESIDUE 1 A     LYS\n    20 ASP19     347 RESIDUE 1 A     ASP\n    21 THR20     359 RESIDUE 1 A     THR\n    22 GLU21     373 RESIDUE 1 A     GLU\n    23 GLY22     388 RESIDUE 1 A     GLY\n    24 TYR23     395 RESIDUE 1 A     TYR\n    25 TYR24     416 RESIDUE 1 A     TYR\n    26 THR25     437 RESIDUE 1 A     THR\n    27 ILE26     451 RESIDUE 1 A     ILE\n    28 GLY27     470 RESIDUE 1 A     GLY\n    29 ILE28     477 RESIDUE 1 A     ILE\n    30 GLY29     496 RESIDUE 1 A     GLY\n    31 HIS30     503 RESIDUE 1 A     HIS\n    32 LEU31     520 RESIDUE 1 A     LEU\n    33 LEU32     539 RESIDUE 1 A     LEU\n    34 THR33     558 RESIDUE 1 A     THR\n    35 LYS34     572 RESIDUE 1 A     LYS\n    36 SER35     594 RESIDUE 1 A     SER\n    37 PRO36     605 RESIDUE 1 A     PRO\n    38 SER37     619 RESIDUE 1 A     SER\n    39 LEU38     630 RESIDUE 1 A     LEU\n    40 ASN39     649 RESIDUE 1 A     ASN\n    41 ALA40     663 RESIDUE 1 A     ALA\n    42 ALA41     673 RESIDUE 1 A     ALA\n    43 LYS42     683 RESIDUE 1 A     LYS\n    44 SER43     705 RESIDUE 1 A     SER\n    45 GLU44     716 RESIDUE 1 A     GLU\n    46 LEU45     731 RESIDUE 1 A     LEU\n    47 ASP46     750 RESIDUE 1 A     ASP\n    48 LYS47     762 RESIDUE 1 A     LYS\n    49 ALA48     784 RESIDUE 1 A     ALA\n    50 ILE49     794 RESIDUE 1 A     ILE\n    51 GLY50     813 RESIDUE 1 A     GLY\n    52 ARG51     820 RESIDUE 1 A     ARG\n    53 ASN52     844 RESIDUE 1 A     ASN\n    54 CYS53     858 RESIDUE 1 A     CYS\n    55 ASN54     869 RESIDUE 1 A     ASN\n    56 GLY55     883 RESIDUE 1 A     GLY\n    57 VAL56     890 RESIDUE 1 A     VAL\n    58 ILE57     906 RESIDUE 1 A     ILE\n    59 THR58     925 RESIDUE 1 A     THR\n    60 LYS59     939 RESIDUE 1 A     LYS\n    61 ASP60     961 RESIDUE 1 A     ASP\n    62 GLU61     973 RESIDUE 1 A     GLU\n    63 ALA62     988 RESIDUE 1 A     ALA\n    64 GLU63     998 RESIDUE 1 A     GLU\n    65 LYS64    1013 RESIDUE 1 A     LYS\n    66 LEU65    1035 RESIDUE 1 A     LEU\n    67 PHE66    1054 RESIDUE 1 A     PHE\n    68 ASN67    1074 RESIDUE 1 A     ASN\n    69 GLN68    1088 RESIDUE 1 A     GLN\n    70 ASP69    1105 RESIDUE 1 A     ASP\n    71 VAL70    1117 RESIDUE 1 A     VAL\n    72 ASP71    1133 RESIDUE 1 A     ASP\n    73 ALA72    1145 RESIDUE 1 A     ALA\n    74 ALA73    1155 RESIDUE 1 A     ALA\n    75 VAL74    1165 RESIDUE 1 A     VAL\n    76 ARG75    1181 RESIDUE 1 A     ARG\n    77 GLY76    1205 RESIDUE 1 A     GLY\n    78 ILE77    1212 RESIDUE 1 A     ILE\n    79 LEU78    1231 RESIDUE 1 A     LEU\n    80 ARG79    1250 RESIDUE 1 A     ARG\n    81 ASN80    1274 RESIDUE 1 A     ASN\n    82 ALA81    1288 RESIDUE 1 A     ALA\n    83 LYS82    1298 RESIDUE 1 A     LYS\n    84 LEU83    1320 RESIDUE 1 A     LEU\n    85 LYS84    1339 RESIDUE 1 A     LYS\n    86 PRO85    1361 RESIDUE 1 A     PRO\n    87 VAL86    1375 RESIDUE 1 A     VAL\n    88 TYR87    1391 RESIDUE 1 A     TYR\n    89 ASP88    1412 RESIDUE 1 A     ASP\n    90 SER89    1424 RESIDUE 1 A     SER\n    91 LEU90    1435 RESIDUE 1 A     LEU\n    92 ASP91    1454 RESIDUE 1 A     ASP\n    93 ALA92    1466 RESIDUE 1 A     ALA\n    94 VAL93    1476 RESIDUE 1 A     VAL\n    95 ARG94    1492 RESIDUE 1 A     ARG\n    96 ARG95    1516 RESIDUE 1 A     ARG\n    97 CYS96    1540 RESIDUE 1 A     CYS\n    98 ALA97    1551 RESIDUE 1 A     ALA\n    99 ALA98    1561 RESIDUE 1 A     ALA\n   100 ILE99    1571 RESIDUE 1 A     ILE\n   101 ASN100   1590 RESIDUE 1 A     ASN\n   102 MET101   1604 RESIDUE 1 A     MET\n   103 VAL102   1621 RESIDUE 1 A     VAL\n   104 PHE103   1637 RESIDUE 1 A     PHE\n   105 GLN104   1657 RESIDUE 1 A     GLN\n   106 MET105   1674 RESIDUE 1 A     MET\n   107 GLY106   1691 RESIDUE 1 A     GLY\n   108 GLU107   1698 RESIDUE 1 A     GLU\n   109 THR108   1713 RESIDUE 1 A     THR\n   110 GLY109   1727 RESIDUE 1 A     GLY\n   111 VAL110   1734 RESIDUE 1 A     VAL\n   112 ALA111   1750 RESIDUE 1 A     ALA\n   113 GLY112   1760 RESIDUE 1 A     GLY\n   114 PHE113   1767 RESIDUE 1 A     PHE\n   115 THR114   1787 RESIDUE 1 A     THR\n   116 ASN115   1801 RESIDUE 1 A     ASN\n   117 SER116   1815 RESIDUE 1 A     SER\n   118 LEU117   1826 RESIDUE 1 A     LEU\n   119 ARG118   1845 RESIDUE 1 A     ARG\n   120 MET119   1869 RESIDUE 1 A     MET\n   121 LEU120   1886 RESIDUE 1 A     LEU\n   122 GLN121   1905 RESIDUE 1 A     GLN\n   123 GLN122   1922 RESIDUE 1 A     GLN\n   124 LYS123   1939 RESIDUE 1 A     LYS\n   125 ARG124   1961 RESIDUE 1 A     ARG\n   126 TRP125   1985 RESIDUE 1 A     TRP\n   127 ASP126   2009 RESIDUE 1 A     ASP\n   128 GLU127   2021 RESIDUE 1 A     GLU\n   129 ALA128   2036 RESIDUE 1 A     ALA\n   130 ALA129   2046 RESIDUE 1 A     ALA\n   131 VAL130   2056 RESIDUE 1 A     VAL\n   132 ASN131   2072 RESIDUE 1 A     ASN\n   133 LEU132   2086 RESIDUE 1 A     LEU\n   134 ALA133   2105 RESIDUE 1 A     ALA\n   135 LYS134   2115 RESIDUE 1 A     LYS\n   136 SER135   2137 RESIDUE 1 A     SER\n   137 ARG136   2148 RESIDUE 1 A     ARG\n   138 TRP137   2172 RESIDUE 1 A     TRP\n   139 TYR138   2196 RESIDUE 1 A     TYR\n   140 ASN139   2217 RESIDUE 1 A     ASN\n   141 GLN140   2231 RESIDUE 1 A     GLN\n   142 THR141   2248 RESIDUE 1 A     THR\n   143 PRO142   2262 RESIDUE 1 A     PRO\n   144 ASN143   2276 RESIDUE 1 A     ASN\n   145 ARG144   2290 RESIDUE 1 A     ARG\n   146 ALA145   2314 RESIDUE 1 A     ALA\n   147 LYS146   2324 RESIDUE 1 A     LYS\n   148 ARG147   2346 RESIDUE 1 A     ARG\n   149 VAL148   2370 RESIDUE 1 A     VAL\n   150 ILE149   2386 RESIDUE 1 A     ILE\n   151 THR150   2405 RESIDUE 1 A     THR\n   152 THR151   2419 RESIDUE 1 A     THR\n   153 PHE152   2433 RESIDUE 1 A     PHE\n   154 ARG153   2453 RESIDUE 1 A     ARG\n   155 THR154   2477 RESIDUE 1 A     THR\n   156 GLY155   2491 RESIDUE 1 A     GLY\n   157 THR156   2498 RESIDUE 1 A     THR\n   158 TRP157   2512 RESIDUE 1 A     TRP\n   159 ASP158   2536 RESIDUE 1 A     ASP\n   160 ALA159   2548 RESIDUE 1 A     ALA\n   161 TYR160   2558 RESIDUE 1 A     TYR\n   162 LYS161   2579 RESIDUE 1 A     LYS\n   163 ASN162   2601 RESIDUE 1 A     ASN\n   164 LEU163   2615 RESIDUE 1 A     LEU\n",
           "type": "blob"
          }
         ],
         "kwargs": {
          "defaultRepresentation": true,
          "ext": "mol2",
          "name": "<openff.toolkit.utils._viz.MoleculeNGLViewTrajectory object at 0x7f4a3ee058a0>"
         },
         "methodName": "loadFile",
         "reconstruc_color_scheme": false,
         "target": "Stage",
         "type": "call_method"
        },
        {
         "args": [],
         "component_index": 0,
         "kwargs": {},
         "methodName": "removeAllRepresentations",
         "reconstruc_color_scheme": false,
         "target": "compList",
         "type": "call_method"
        },
        {
         "args": [
          "licorice"
         ],
         "component_index": 0,
         "kwargs": {
          "multipleBond": true,
          "radius": 0.25,
          "sele": "*"
         },
         "methodName": "addRepresentation",
         "reconstruc_color_scheme": false,
         "target": "compList",
         "type": "call_method"
        }
       ],
       "_ngl_original_stage_parameters": {
        "ambientColor": 14540253,
        "ambientIntensity": 0.2,
        "backgroundColor": "white",
        "cameraEyeSep": 0.3,
        "cameraFov": 40,
        "cameraType": "perspective",
        "clipDist": 10,
        "clipFar": 100,
        "clipMode": "scene",
        "clipNear": 0,
        "clipScale": "relative",
        "fogFar": 100,
        "fogNear": 50,
        "hoverTimeout": 0,
        "impostor": true,
        "lightColor": 14540253,
        "lightIntensity": 1,
        "mousePreset": "default",
        "panSpeed": 1,
        "quality": "medium",
        "rotateSpeed": 2,
        "sampleLevel": 0,
        "tooltip": true,
        "workerDefault": true,
        "zoomSpeed": 1.2
       },
       "_ngl_repr_dict": {
        "0": {
         "0": {
          "params": {
           "assembly": "default",
           "bondScale": 0.4,
           "bondSpacing": 1,
           "clipCenter": {
            "x": 0,
            "y": 0,
            "z": 0
           },
           "clipNear": 0,
           "clipRadius": 0,
           "colorMode": "hcl",
           "colorReverse": false,
           "colorScale": "",
           "colorScheme": "element",
           "colorValue": 9474192,
           "cylinderOnly": false,
           "defaultAssembly": "",
           "depthWrite": true,
           "diffuse": 16777215,
           "diffuseInterior": false,
           "disableImpostor": false,
           "disablePicking": false,
           "flatShaded": false,
           "interiorColor": 2236962,
           "interiorDarkening": 0,
           "lazy": false,
           "lineOnly": false,
           "linewidth": 2,
           "matrix": {
            "elements": [
             1,
             0,
             0,
             0,
             0,
             1,
             0,
             0,
             0,
             0,
             1,
             0,
             0,
             0,
             0,
             1
            ]
           },
           "metalness": 0,
           "multipleBond": true,
           "opacity": 1,
           "openEnded": true,
           "quality": "medium",
           "radialSegments": 10,
           "radiusData": {},
           "radiusScale": 1,
           "radiusSize": 0.25,
           "radiusType": "size",
           "roughness": 0.4,
           "sele": "*",
           "side": "double",
           "sphereDetail": 1,
           "useInteriorColor": true,
           "visible": true,
           "wireframe": false
          },
          "type": "licorice"
         }
        }
       },
       "_ngl_serialize": false,
       "_ngl_version": "2.0.0-dev.39",
       "_ngl_view_id": [
        "0EE1221A-2154-4562-B67A-8CA3C4E1AFD2"
       ],
       "_player_dict": {},
       "_scene_position": {},
       "_scene_rotation": {},
       "_synced_model_ids": [],
       "_synced_repr_model_ids": [],
       "_view_height": "",
       "_view_width": "",
       "background": "white",
       "frame": 0,
       "gui_style": null,
       "layout": "IPY_MODEL_a9427c5eab0f4020b32529d6762e96c9",
       "max_frame": 0,
       "n_components": 1,
       "picked": {}
      }
     },
     "c130ad39d4d94239a8234bf9124d3352": {
      "model_module": "@jupyter-widgets/controls",
      "model_module_version": "2.0.0",
      "model_name": "HBoxModel",
      "state": {
       "children": [
        "IPY_MODEL_dd6edaf0b8ff4cc6b13d292792dcdd63",
        "IPY_MODEL_7db14f54b7d940e78172ec0bb8594a24"
       ],
       "layout": "IPY_MODEL_04aafce1ef1c467f8fd22d57835d61bd"
      }
     },
     "cfbbf84f2d0c4b99870300084fb4f4f5": {
      "model_module": "@jupyter-widgets/controls",
      "model_module_version": "2.0.0",
      "model_name": "ButtonStyleModel",
      "state": {
       "font_family": null,
       "font_size": null,
       "font_style": null,
       "font_variant": null,
       "font_weight": null,
       "text_color": null,
       "text_decoration": null
      }
     },
     "cfc8816264cd4db6a318d9108a01de18": {
      "model_module": "@jupyter-widgets/controls",
      "model_module_version": "2.0.0",
      "model_name": "HBoxModel",
      "state": {
       "children": [
        "IPY_MODEL_12263d7eb40146ebb084a96da5e16876",
        "IPY_MODEL_2e70e9228ad34a40a9e7a4c3f766df7c"
       ],
       "layout": "IPY_MODEL_af41af0d7c9f4162877cd7ba8d946216"
      }
     },
     "d291da8fd9cb4d48988ffb7f73f1fbee": {
      "model_module": "@jupyter-widgets/controls",
      "model_module_version": "2.0.0",
      "model_name": "LinkModel",
      "state": {
       "source": [
        "IPY_MODEL_2e70e9228ad34a40a9e7a4c3f766df7c",
        "max"
       ],
       "target": [
        "IPY_MODEL_c0f836f2f98b4840b1ff588690a665ae",
        "max_frame"
       ]
      }
     },
     "d3d7ee2a217d4c6490686ee57d2faeba": {
      "model_module": "@jupyter-widgets/controls",
      "model_module_version": "2.0.0",
      "model_name": "DescriptionStyleModel",
      "state": {
       "description_width": ""
      }
     },
     "d74cec199ba144a98615bcf3cb8519b8": {
      "model_module": "@jupyter-widgets/controls",
      "model_module_version": "2.0.0",
      "model_name": "LinkModel",
      "state": {
       "source": [
        "IPY_MODEL_12263d7eb40146ebb084a96da5e16876",
        "value"
       ],
       "target": [
        "IPY_MODEL_c0f836f2f98b4840b1ff588690a665ae",
        "frame"
       ]
      }
     },
     "d7da82d1b0f1428d9da278a031457077": {
      "model_module": "@jupyter-widgets/controls",
      "model_module_version": "2.0.0",
      "model_name": "ButtonStyleModel",
      "state": {
       "font_family": null,
       "font_size": null,
       "font_style": null,
       "font_variant": null,
       "font_weight": null,
       "text_color": null,
       "text_decoration": null
      }
     },
     "dad437c8c4ad4d0e8416659d6ae03458": {
      "model_module": "@jupyter-widgets/base",
      "model_module_version": "2.0.0",
      "model_name": "LayoutModel",
      "state": {}
     },
     "dd6edaf0b8ff4cc6b13d292792dcdd63": {
      "model_module": "@jupyter-widgets/controls",
      "model_module_version": "2.0.0",
      "model_name": "PlayModel",
      "state": {
       "layout": "IPY_MODEL_fc3b0808492c417386033c6ff2e94e94",
       "max": 0,
       "style": "IPY_MODEL_f899eabff2274a30a3126a4a8432de0b"
      }
     },
     "dfb6973596654b8b8a01ddf1b2e29291": {
      "model_module": "@jupyter-widgets/controls",
      "model_module_version": "2.0.0",
      "model_name": "ButtonStyleModel",
      "state": {
       "font_family": null,
       "font_size": null,
       "font_style": null,
       "font_variant": null,
       "font_weight": null,
       "text_color": null,
       "text_decoration": null
      }
     },
     "e3896c9ab3904093a2ada4f32375703b": {
      "model_module": "@jupyter-widgets/controls",
      "model_module_version": "2.0.0",
      "model_name": "LinkModel",
      "state": {
       "source": [
        "IPY_MODEL_12263d7eb40146ebb084a96da5e16876",
        "max"
       ],
       "target": [
        "IPY_MODEL_c0f836f2f98b4840b1ff588690a665ae",
        "max_frame"
       ]
      }
     },
     "ec1d0728264c4bb8892198f94ba81225": {
      "model_module": "nglview-js-widgets",
      "model_module_version": "3.0.8",
      "model_name": "ColormakerRegistryModel",
      "state": {
       "_msg_ar": [],
       "_msg_q": [],
       "_ready": true,
       "layout": "IPY_MODEL_b2eb4727a433480db22c9cf9e4edb95a"
      }
     },
     "efe072718a4f4778b910338da23ee1f3": {
      "model_module": "@jupyter-widgets/base",
      "model_module_version": "2.0.0",
      "model_name": "LayoutModel",
      "state": {
       "width": "34px"
      }
     },
     "f1ae851115194aaa948ad115aaa9cc8d": {
      "model_module": "@jupyter-widgets/controls",
      "model_module_version": "2.0.0",
      "model_name": "ButtonModel",
      "state": {
       "icon": "compress",
       "layout": "IPY_MODEL_f3a852739f96405bb99b4e7cc1255faa",
       "style": "IPY_MODEL_d7da82d1b0f1428d9da278a031457077",
       "tooltip": null
      }
     },
     "f3a852739f96405bb99b4e7cc1255faa": {
      "model_module": "@jupyter-widgets/base",
      "model_module_version": "2.0.0",
      "model_name": "LayoutModel",
      "state": {
       "width": "34px"
      }
     },
     "f899eabff2274a30a3126a4a8432de0b": {
      "model_module": "@jupyter-widgets/controls",
      "model_module_version": "2.0.0",
      "model_name": "DescriptionStyleModel",
      "state": {
       "description_width": ""
      }
     },
     "fc3b0808492c417386033c6ff2e94e94": {
      "model_module": "@jupyter-widgets/base",
      "model_module_version": "2.0.0",
      "model_name": "LayoutModel",
      "state": {}
     },
     "ff090060b4314b54b63c1a56d52b198a": {
      "model_module": "nglview-js-widgets",
      "model_module_version": "3.0.8",
      "model_name": "NGLModel",
      "state": {
       "_camera_orientation": [
        16.04268781385099,
        0,
        0,
        0,
        0,
        16.04268781385099,
        0,
        0,
        0,
        0,
        16.04268781385099,
        0,
        -6.227499961853027,
        -6.208499908447266,
        -6.450000047683716,
        1
       ],
       "_camera_str": "orthographic",
       "_gui_theme": null,
       "_ibtn_fullscreen": "IPY_MODEL_f1ae851115194aaa948ad115aaa9cc8d",
       "_igui": null,
       "_iplayer": "IPY_MODEL_c130ad39d4d94239a8234bf9124d3352",
       "_ngl_color_dict": {},
       "_ngl_coordinate_resource": {},
       "_ngl_full_stage_parameters": {
        "ambientColor": 14540253,
        "ambientIntensity": 0.2,
        "backgroundColor": "white",
        "cameraEyeSep": 0.3,
        "cameraFov": 40,
        "cameraType": "perspective",
        "clipDist": 10,
        "clipFar": 100,
        "clipMode": "scene",
        "clipNear": 0,
        "clipScale": "relative",
        "fogFar": 100,
        "fogNear": 50,
        "hoverTimeout": 0,
        "impostor": true,
        "lightColor": 14540253,
        "lightIntensity": 1,
        "mousePreset": "default",
        "panSpeed": 1,
        "quality": "medium",
        "rotateSpeed": 2,
        "sampleLevel": 0,
        "tooltip": true,
        "workerDefault": true,
        "zoomSpeed": 1.2
       },
       "_ngl_msg_archive": [
        {
         "args": [
          {
           "binary": false,
           "data": "@<TRIPOS>MOLECULE\n*****\n    5     4     0     0     0\nSMALL\nNO_CHARGES\n\n@<TRIPOS>ATOM\n      1 P1          6.0110    5.9920    6.0270 P.3       1 UNK1           nan\n      2 O1          6.0960    5.8220    7.5300 O.3       1 UNK1           nan\n      3 O2          7.5460    5.7690    5.3700 O.2       1 UNK1           nan\n      4 O3          4.9090    4.8770    5.4080 O.3       1 UNK1           nan\n      5 O4          5.4380    7.5400    5.6640 O.3       1 UNK1           nan\n@<TRIPOS>BOND\n     1    1    2 1\n     2    1    3 2\n     3    1    4 1\n     4    1    5 1\n",
           "type": "blob"
          }
         ],
         "kwargs": {
          "defaultRepresentation": true,
          "ext": "mol2",
          "name": "<openff.toolkit.utils._viz.MoleculeNGLViewTrajectory object at 0x7f4a3ee070a0>"
         },
         "methodName": "loadFile",
         "reconstruc_color_scheme": false,
         "target": "Stage",
         "type": "call_method"
        },
        {
         "args": [],
         "component_index": 0,
         "kwargs": {},
         "methodName": "removeAllRepresentations",
         "reconstruc_color_scheme": false,
         "target": "compList",
         "type": "call_method"
        },
        {
         "args": [
          "licorice"
         ],
         "component_index": 0,
         "kwargs": {
          "multipleBond": true,
          "radius": 0.25,
          "sele": "*"
         },
         "methodName": "addRepresentation",
         "reconstruc_color_scheme": false,
         "target": "compList",
         "type": "call_method"
        }
       ],
       "_ngl_original_stage_parameters": {
        "ambientColor": 14540253,
        "ambientIntensity": 0.2,
        "backgroundColor": "white",
        "cameraEyeSep": 0.3,
        "cameraFov": 40,
        "cameraType": "perspective",
        "clipDist": 10,
        "clipFar": 100,
        "clipMode": "scene",
        "clipNear": 0,
        "clipScale": "relative",
        "fogFar": 100,
        "fogNear": 50,
        "hoverTimeout": 0,
        "impostor": true,
        "lightColor": 14540253,
        "lightIntensity": 1,
        "mousePreset": "default",
        "panSpeed": 1,
        "quality": "medium",
        "rotateSpeed": 2,
        "sampleLevel": 0,
        "tooltip": true,
        "workerDefault": true,
        "zoomSpeed": 1.2
       },
       "_ngl_repr_dict": {
        "0": {
         "0": {
          "params": {
           "assembly": "default",
           "bondScale": 0.4,
           "bondSpacing": 1,
           "clipCenter": {
            "x": 0,
            "y": 0,
            "z": 0
           },
           "clipNear": 0,
           "clipRadius": 0,
           "colorMode": "hcl",
           "colorReverse": false,
           "colorScale": "",
           "colorScheme": "element",
           "colorValue": 9474192,
           "cylinderOnly": false,
           "defaultAssembly": "",
           "depthWrite": true,
           "diffuse": 16777215,
           "diffuseInterior": false,
           "disableImpostor": false,
           "disablePicking": false,
           "flatShaded": false,
           "interiorColor": 2236962,
           "interiorDarkening": 0,
           "lazy": false,
           "lineOnly": false,
           "linewidth": 2,
           "matrix": {
            "elements": [
             1,
             0,
             0,
             0,
             0,
             1,
             0,
             0,
             0,
             0,
             1,
             0,
             0,
             0,
             0,
             1
            ]
           },
           "metalness": 0,
           "multipleBond": true,
           "opacity": 1,
           "openEnded": true,
           "quality": "medium",
           "radialSegments": 10,
           "radiusData": {},
           "radiusScale": 1,
           "radiusSize": 0.25,
           "radiusType": "size",
           "roughness": 0.4,
           "sele": "*",
           "side": "double",
           "sphereDetail": 1,
           "useInteriorColor": true,
           "visible": true,
           "wireframe": false
          },
          "type": "licorice"
         }
        }
       },
       "_ngl_serialize": false,
       "_ngl_version": "2.0.0-dev.39",
       "_ngl_view_id": [
        "327236FA-6D4C-4FB3-8D79-6B15FED619BB"
       ],
       "_player_dict": {},
       "_scene_position": {},
       "_scene_rotation": {},
       "_synced_model_ids": [],
       "_synced_repr_model_ids": [],
       "_view_height": "",
       "_view_width": "",
       "background": "white",
       "frame": 0,
       "gui_style": null,
       "layout": "IPY_MODEL_59a2ffabebb04ec5ad993d631f354ae2",
       "max_frame": 0,
       "n_components": 1,
       "picked": {}
      }
     },
     "ff95df46b33d4f8591d6434befcc3d29": {
      "model_module": "@jupyter-widgets/controls",
      "model_module_version": "2.0.0",
      "model_name": "ImageModel",
      "state": {
       "layout": "IPY_MODEL_4c3084863da946efabd480a23098cf9e",
       "width": "900.0"
      }
     }
    },
    "version_major": 2,
    "version_minor": 0
   }
  }
 },
 "nbformat": 4,
 "nbformat_minor": 5
}

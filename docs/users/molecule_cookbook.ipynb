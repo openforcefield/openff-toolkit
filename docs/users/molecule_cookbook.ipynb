{
 "cells": [
  {
   "cell_type": "markdown",
   "id": "5b311c85",
   "metadata": {},
   "source": [
    "# Cookbook: Every way to make a `Molecule`"
   ]
  },
  {
   "cell_type": "markdown",
   "id": "05bf5732",
   "metadata": {},
   "source": [
    "Every pathway through the OpenFF Toolkit boils down to four steps:\n",
    "\n",
    "1. Using other tools, assemble a graph of a molecule, including all of its atoms, bonds, bond orders, formal charges, and stereochemistry[^rs]\n",
    "2. Use that information to construct a [`Molecule`](openff.toolkit.topology.Molecule)\n",
    "3. Combine a number of `Molecule` objects to construct a [`Topology`](openff.toolkit.topology.Topology)\n",
    "4. Call [`ForceField.create_openmm_system(topology)`](openff.toolkit.typing.engines.smirnoff.ForceField.create_openmm_system) to create an OpenMM [`System`](openmm.openmm.System) (or an [`Interchange`](https://github.com/openforcefield/openff-interchange) for painless conversion to other MD formats)\n",
    "\n",
    "So let's take a look at every way there is to construct a molecule! We'll use zwitterionic L-alanine as an example biomolecule with all the tricky bits - a stereocenter, non-zero formal charges, and bonds of different orders.\n",
    "\n",
    "[^rs]: Note that this stereochemistry must be defined on the *graph* of the molecule. It's not good enough to just co-ordinates with the correct stereochemistry. But if you have the co-ordinates, you can try getting the stereochemistry automatically with `rdkit` or `openeye` --- If you dare!"
   ]
  },
  {
   "cell_type": "code",
   "execution_count": 1,
   "id": "0a3d1e21",
   "metadata": {
    "editable": true,
    "slideshow": {
     "slide_type": ""
    },
    "tags": [
     "remove-stderr",
     "remove-input",
     "remove-stdout"
    ]
   },
   "outputs": [],
   "source": [
    "# Imports\n",
    "from openff.toolkit import Molecule, Topology\n",
    "\n",
    "# Hide tracebacks for simpler errors\n",
    "import sys\n",
    "ipython = get_ipython()\n",
    "\n",
    "def hide_traceback(exc_tuple=None, filename=None, tb_offset=None,\n",
    "                   exception_only=False, running_compiled_code=False):\n",
    "    etype, value, tb = sys.exc_info()\n",
    "    value.__cause__ = None  # suppress chained exceptions\n",
    "    return ipython._showtraceback(etype, value, ipython.InteractiveTB.get_exception_only(etype, value))\n",
    "\n",
    "ipython.showtraceback = hide_traceback\n",
    "\n",
    "# Hide NumPy warnings\n",
    "import warnings\n",
    "warnings.filterwarnings('ignore', r'The value of the smallest subnormal for ')"
   ]
  },
  {
   "cell_type": "markdown",
   "id": "37d692a1",
   "metadata": {},
   "source": [
    "## From SMILES\n",
    "\n",
    "SMILES is the classic way to create a `Molecule`. SMILES is a widely-used compact textual representation of arbitrary molecules. This lets us specify an exact molecule, including stereochemistry and bond orders, very easily --- though they may not be the most human-readable format.\n",
    "\n",
    "The [`Molecule.from_smiles()`](openff.toolkit.topology.Molecule.from_smiles) method is used to create a `Molecule` from a SMILES code.\n",
    "\n",
    "### Implicit hydrogens SMILES"
   ]
  },
  {
   "cell_type": "code",
   "execution_count": 2,
   "id": "71199513",
   "metadata": {
    "editable": true,
    "slideshow": {
     "slide_type": ""
    },
    "tags": []
   },
   "outputs": [
    {
     "data": {
      "image/svg+xml": [
       "<svg xmlns=\"http://www.w3.org/2000/svg\" xmlns:rdkit=\"http://www.rdkit.org/xml\" xmlns:xlink=\"http://www.w3.org/1999/xlink\" version=\"1.1\" baseProfile=\"full\" xml:space=\"preserve\" width=\"500px\" height=\"300px\" viewBox=\"0 0 500 300\">\n",
       "<!-- END OF HEADER -->\n",
       "<rect style=\"opacity:1.0;fill:#FFFFFF;stroke:none\" width=\"500.0\" height=\"300.0\" x=\"0.0\" y=\"0.0\"> </rect>\n",
       "<path class=\"bond-0 atom-0 atom-1\" d=\"M 269.1,206.9 L 249.2,142.8\" style=\"fill:none;fill-rule:evenodd;stroke:#000000;stroke-width:2.0px;stroke-linecap:butt;stroke-linejoin:miter;stroke-opacity:1\"/>\n",
       "<path class=\"bond-1 atom-1 atom-2\" d=\"M 249.2,142.8 L 212.8,164.7 L 208.7,155.5 Z\" style=\"fill:#000000;fill-rule:evenodd;fill-opacity:1;stroke:#000000;stroke-width:0.5px;stroke-linecap:butt;stroke-linejoin:miter;stroke-opacity:1;\"/>\n",
       "<path class=\"bond-2 atom-1 atom-3\" d=\"M 249.2,142.8 L 227.0,123.8\" style=\"fill:none;fill-rule:evenodd;stroke:#000000;stroke-width:2.0px;stroke-linecap:butt;stroke-linejoin:miter;stroke-opacity:1\"/>\n",
       "<path class=\"bond-2 atom-1 atom-3\" d=\"M 227.0,123.8 L 204.7,104.8\" style=\"fill:none;fill-rule:evenodd;stroke:#0000FF;stroke-width:2.0px;stroke-linecap:butt;stroke-linejoin:miter;stroke-opacity:1\"/>\n",
       "<path class=\"bond-3 atom-1 atom-4\" d=\"M 249.2,142.8 L 292.6,93.2\" style=\"fill:none;fill-rule:evenodd;stroke:#000000;stroke-width:2.0px;stroke-linecap:butt;stroke-linejoin:miter;stroke-opacity:1\"/>\n",
       "<path class=\"bond-4 atom-4 atom-5\" d=\"M 298.4,94.3 L 289.8,69.8\" style=\"fill:none;fill-rule:evenodd;stroke:#000000;stroke-width:2.0px;stroke-linecap:butt;stroke-linejoin:miter;stroke-opacity:1\"/>\n",
       "<path class=\"bond-4 atom-4 atom-5\" d=\"M 289.8,69.8 L 281.2,45.2\" style=\"fill:none;fill-rule:evenodd;stroke:#FF0000;stroke-width:2.0px;stroke-linecap:butt;stroke-linejoin:miter;stroke-opacity:1\"/>\n",
       "<path class=\"bond-4 atom-4 atom-5\" d=\"M 288.8,97.6 L 280.3,73.0\" style=\"fill:none;fill-rule:evenodd;stroke:#000000;stroke-width:2.0px;stroke-linecap:butt;stroke-linejoin:miter;stroke-opacity:1\"/>\n",
       "<path class=\"bond-4 atom-4 atom-5\" d=\"M 280.3,73.0 L 271.7,48.5\" style=\"fill:none;fill-rule:evenodd;stroke:#FF0000;stroke-width:2.0px;stroke-linecap:butt;stroke-linejoin:miter;stroke-opacity:1\"/>\n",
       "<path class=\"bond-5 atom-4 atom-6\" d=\"M 292.6,93.2 L 317.8,98.2\" style=\"fill:none;fill-rule:evenodd;stroke:#000000;stroke-width:2.0px;stroke-linecap:butt;stroke-linejoin:miter;stroke-opacity:1\"/>\n",
       "<path class=\"bond-5 atom-4 atom-6\" d=\"M 317.8,98.2 L 343.0,103.2\" style=\"fill:none;fill-rule:evenodd;stroke:#FF0000;stroke-width:2.0px;stroke-linecap:butt;stroke-linejoin:miter;stroke-opacity:1\"/>\n",
       "<path class=\"bond-6 atom-0 atom-7\" d=\"M 269.1,206.9 L 216.9,221.3\" style=\"fill:none;fill-rule:evenodd;stroke:#000000;stroke-width:2.0px;stroke-linecap:butt;stroke-linejoin:miter;stroke-opacity:1\"/>\n",
       "<path class=\"bond-7 atom-0 atom-8\" d=\"M 269.1,206.9 L 255.6,255.7\" style=\"fill:none;fill-rule:evenodd;stroke:#000000;stroke-width:2.0px;stroke-linecap:butt;stroke-linejoin:miter;stroke-opacity:1\"/>\n",
       "<path class=\"bond-8 atom-0 atom-9\" d=\"M 269.1,206.9 L 320.3,220.4\" style=\"fill:none;fill-rule:evenodd;stroke:#000000;stroke-width:2.0px;stroke-linecap:butt;stroke-linejoin:miter;stroke-opacity:1\"/>\n",
       "<path class=\"bond-9 atom-3 atom-10\" d=\"M 178.8,106.9 L 168.4,117.6\" style=\"fill:none;fill-rule:evenodd;stroke:#0000FF;stroke-width:2.0px;stroke-linecap:butt;stroke-linejoin:miter;stroke-opacity:1\"/>\n",
       "<path class=\"bond-9 atom-3 atom-10\" d=\"M 168.4,117.6 L 157.9,128.3\" style=\"fill:none;fill-rule:evenodd;stroke:#000000;stroke-width:2.0px;stroke-linecap:butt;stroke-linejoin:miter;stroke-opacity:1\"/>\n",
       "<path class=\"bond-10 atom-3 atom-11\" d=\"M 178.8,90.8 L 159.1,86.5\" style=\"fill:none;fill-rule:evenodd;stroke:#0000FF;stroke-width:2.0px;stroke-linecap:butt;stroke-linejoin:miter;stroke-opacity:1\"/>\n",
       "<path class=\"bond-10 atom-3 atom-11\" d=\"M 159.1,86.5 L 139.4,82.2\" style=\"fill:none;fill-rule:evenodd;stroke:#000000;stroke-width:2.0px;stroke-linecap:butt;stroke-linejoin:miter;stroke-opacity:1\"/>\n",
       "<path class=\"bond-11 atom-3 atom-12\" d=\"M 195.0,77.3 L 198.3,60.8\" style=\"fill:none;fill-rule:evenodd;stroke:#0000FF;stroke-width:2.0px;stroke-linecap:butt;stroke-linejoin:miter;stroke-opacity:1\"/>\n",
       "<path class=\"bond-11 atom-3 atom-12\" d=\"M 198.3,60.8 L 201.6,44.3\" style=\"fill:none;fill-rule:evenodd;stroke:#000000;stroke-width:2.0px;stroke-linecap:butt;stroke-linejoin:miter;stroke-opacity:1\"/>\n",
       "<path d=\"M 290.5,95.7 L 292.6,93.2 L 293.9,93.5\" style=\"fill:none;stroke:#000000;stroke-width:2.0px;stroke-linecap:butt;stroke-linejoin:miter;stroke-opacity:1;\"/>\n",
       "<path class=\"atom-2\" d=\"M 184.2 153.0 L 188.0 153.0 L 188.0 165.0 L 202.5 165.0 L 202.5 153.0 L 206.3 153.0 L 206.3 181.3 L 202.5 181.3 L 202.5 168.2 L 188.0 168.2 L 188.0 181.3 L 184.2 181.3 L 184.2 153.0 \" fill=\"#000000\"/>\n",
       "<path class=\"atom-3\" d=\"M 185.5 79.5 L 194.8 94.5 Q 195.7 96.0, 197.2 98.7 Q 198.7 101.4, 198.8 101.5 L 198.8 79.5 L 202.5 79.5 L 202.5 107.9 L 198.6 107.9 L 188.7 91.5 Q 187.5 89.5, 186.3 87.3 Q 185.1 85.1, 184.7 84.5 L 184.7 107.9 L 181.0 107.9 L 181.0 79.5 L 185.5 79.5 \" fill=\"#0000FF\"/>\n",
       "<path class=\"atom-3\" d=\"M 207.8 84.6 L 212.8 84.6 L 212.8 79.4 L 215.1 79.4 L 215.1 84.6 L 220.2 84.6 L 220.2 86.5 L 215.1 86.5 L 215.1 91.8 L 212.8 91.8 L 212.8 86.5 L 207.8 86.5 L 207.8 84.6 \" fill=\"#0000FF\"/>\n",
       "<path class=\"atom-5\" d=\"M 257.6 30.0 Q 257.6 23.2, 260.9 19.4 Q 264.3 15.6, 270.6 15.6 Q 276.8 15.6, 280.2 19.4 Q 283.6 23.2, 283.6 30.0 Q 283.6 36.8, 280.2 40.8 Q 276.8 44.6, 270.6 44.6 Q 264.3 44.6, 260.9 40.8 Q 257.6 36.9, 257.6 30.0 M 270.6 41.4 Q 274.9 41.4, 277.2 38.6 Q 279.6 35.6, 279.6 30.0 Q 279.6 24.4, 277.2 21.6 Q 274.9 18.8, 270.6 18.8 Q 266.2 18.8, 263.9 21.6 Q 261.6 24.4, 261.6 30.0 Q 261.6 35.7, 263.9 38.6 Q 266.2 41.4, 270.6 41.4 \" fill=\"#FF0000\"/>\n",
       "<path class=\"atom-6\" d=\"M 345.2 106.3 Q 345.2 99.5, 348.6 95.7 Q 351.9 91.9, 358.2 91.9 Q 364.5 91.9, 367.9 95.7 Q 371.2 99.5, 371.2 106.3 Q 371.2 113.2, 367.8 117.1 Q 364.4 121.0, 358.2 121.0 Q 352.0 121.0, 348.6 117.1 Q 345.2 113.2, 345.2 106.3 M 358.2 117.8 Q 362.5 117.8, 364.9 114.9 Q 367.2 112.0, 367.2 106.3 Q 367.2 100.7, 364.9 97.9 Q 362.5 95.1, 358.2 95.1 Q 353.9 95.1, 351.5 97.9 Q 349.2 100.7, 349.2 106.3 Q 349.2 112.0, 351.5 114.9 Q 353.9 117.8, 358.2 117.8 \" fill=\"#FF0000\"/>\n",
       "<path class=\"atom-6\" d=\"M 375.3 96.5 L 384.9 96.5 L 384.9 98.6 L 375.3 98.6 L 375.3 96.5 \" fill=\"#FF0000\"/>\n",
       "<path class=\"atom-7\" d=\"M 192.6 210.8 L 196.4 210.8 L 196.4 222.9 L 210.9 222.9 L 210.9 210.8 L 214.7 210.8 L 214.7 239.2 L 210.9 239.2 L 210.9 226.1 L 196.4 226.1 L 196.4 239.2 L 192.6 239.2 L 192.6 210.8 \" fill=\"#000000\"/>\n",
       "<path class=\"atom-8\" d=\"M 240.0 257.9 L 243.8 257.9 L 243.8 270.0 L 258.3 270.0 L 258.3 257.9 L 262.2 257.9 L 262.2 286.2 L 258.3 286.2 L 258.3 273.2 L 243.8 273.2 L 243.8 286.2 L 240.0 286.2 L 240.0 257.9 \" fill=\"#000000\"/>\n",
       "<path class=\"atom-9\" d=\"M 322.5 209.8 L 326.4 209.8 L 326.4 221.8 L 340.8 221.8 L 340.8 209.8 L 344.7 209.8 L 344.7 238.1 L 340.8 238.1 L 340.8 225.0 L 326.4 225.0 L 326.4 238.1 L 322.5 238.1 L 322.5 209.8 \" fill=\"#000000\"/>\n",
       "<path class=\"atom-10\" d=\"M 133.5 127.7 L 137.4 127.7 L 137.4 139.8 L 151.9 139.8 L 151.9 127.7 L 155.7 127.7 L 155.7 156.0 L 151.9 156.0 L 151.9 143.0 L 137.4 143.0 L 137.4 156.0 L 133.5 156.0 L 133.5 127.7 \" fill=\"#000000\"/>\n",
       "<path class=\"atom-11\" d=\"M 115.1 65.1 L 118.9 65.1 L 118.9 77.1 L 133.4 77.1 L 133.4 65.1 L 137.2 65.1 L 137.2 93.4 L 133.4 93.4 L 133.4 80.3 L 118.9 80.3 L 118.9 93.4 L 115.1 93.4 L 115.1 65.1 \" fill=\"#000000\"/>\n",
       "<path class=\"atom-12\" d=\"M 193.8 13.8 L 197.6 13.8 L 197.6 25.8 L 212.1 25.8 L 212.1 13.8 L 215.9 13.8 L 215.9 42.1 L 212.1 42.1 L 212.1 29.0 L 197.6 29.0 L 197.6 42.1 L 193.8 42.1 L 193.8 13.8 \" fill=\"#000000\"/>\n",
       "</svg>"
      ],
      "text/plain": [
       "<IPython.core.display.SVG object>"
      ]
     },
     "execution_count": 2,
     "metadata": {},
     "output_type": "execute_result"
    }
   ],
   "source": [
    "zw_l_alanine = Molecule.from_smiles(\"C[C@H]([NH3+])C(=O)[O-]\")\n",
    "\n",
    "zw_l_alanine.visualize()"
   ]
  },
  {
   "cell_type": "markdown",
   "id": "59fe1b58",
   "metadata": {},
   "source": [
    "### Explicit hydrogens SMILES"
   ]
  },
  {
   "cell_type": "code",
   "execution_count": 3,
   "id": "07e0584e",
   "metadata": {},
   "outputs": [
    {
     "data": {
      "image/svg+xml": [
       "<svg xmlns=\"http://www.w3.org/2000/svg\" xmlns:rdkit=\"http://www.rdkit.org/xml\" xmlns:xlink=\"http://www.w3.org/1999/xlink\" version=\"1.1\" baseProfile=\"full\" xml:space=\"preserve\" width=\"500px\" height=\"300px\" viewBox=\"0 0 500 300\">\n",
       "<!-- END OF HEADER -->\n",
       "<rect style=\"opacity:1.0;fill:#FFFFFF;stroke:none\" width=\"500.0\" height=\"300.0\" x=\"0.0\" y=\"0.0\"> </rect>\n",
       "<path class=\"bond-0 atom-0 atom-1\" d=\"M 216.9,221.3 L 269.1,206.9\" style=\"fill:none;fill-rule:evenodd;stroke:#000000;stroke-width:2.0px;stroke-linecap:butt;stroke-linejoin:miter;stroke-opacity:1\"/>\n",
       "<path class=\"bond-1 atom-1 atom-2\" d=\"M 269.1,206.9 L 255.6,255.7\" style=\"fill:none;fill-rule:evenodd;stroke:#000000;stroke-width:2.0px;stroke-linecap:butt;stroke-linejoin:miter;stroke-opacity:1\"/>\n",
       "<path class=\"bond-2 atom-1 atom-3\" d=\"M 269.1,206.9 L 320.3,220.4\" style=\"fill:none;fill-rule:evenodd;stroke:#000000;stroke-width:2.0px;stroke-linecap:butt;stroke-linejoin:miter;stroke-opacity:1\"/>\n",
       "<path class=\"bond-3 atom-1 atom-4\" d=\"M 269.1,206.9 L 249.2,142.8\" style=\"fill:none;fill-rule:evenodd;stroke:#000000;stroke-width:2.0px;stroke-linecap:butt;stroke-linejoin:miter;stroke-opacity:1\"/>\n",
       "<path class=\"bond-4 atom-4 atom-5\" d=\"M 249.2,142.8 L 212.8,164.7 L 208.7,155.5 Z\" style=\"fill:#000000;fill-rule:evenodd;fill-opacity:1;stroke:#000000;stroke-width:0.5px;stroke-linecap:butt;stroke-linejoin:miter;stroke-opacity:1;\"/>\n",
       "<path class=\"bond-5 atom-4 atom-6\" d=\"M 249.2,142.8 L 292.6,93.2\" style=\"fill:none;fill-rule:evenodd;stroke:#000000;stroke-width:2.0px;stroke-linecap:butt;stroke-linejoin:miter;stroke-opacity:1\"/>\n",
       "<path class=\"bond-6 atom-6 atom-7\" d=\"M 298.4,94.3 L 289.8,69.8\" style=\"fill:none;fill-rule:evenodd;stroke:#000000;stroke-width:2.0px;stroke-linecap:butt;stroke-linejoin:miter;stroke-opacity:1\"/>\n",
       "<path class=\"bond-6 atom-6 atom-7\" d=\"M 289.8,69.8 L 281.2,45.2\" style=\"fill:none;fill-rule:evenodd;stroke:#FF0000;stroke-width:2.0px;stroke-linecap:butt;stroke-linejoin:miter;stroke-opacity:1\"/>\n",
       "<path class=\"bond-6 atom-6 atom-7\" d=\"M 288.8,97.6 L 280.3,73.0\" style=\"fill:none;fill-rule:evenodd;stroke:#000000;stroke-width:2.0px;stroke-linecap:butt;stroke-linejoin:miter;stroke-opacity:1\"/>\n",
       "<path class=\"bond-6 atom-6 atom-7\" d=\"M 280.3,73.0 L 271.7,48.5\" style=\"fill:none;fill-rule:evenodd;stroke:#FF0000;stroke-width:2.0px;stroke-linecap:butt;stroke-linejoin:miter;stroke-opacity:1\"/>\n",
       "<path class=\"bond-7 atom-6 atom-8\" d=\"M 292.6,93.2 L 317.8,98.2\" style=\"fill:none;fill-rule:evenodd;stroke:#000000;stroke-width:2.0px;stroke-linecap:butt;stroke-linejoin:miter;stroke-opacity:1\"/>\n",
       "<path class=\"bond-7 atom-6 atom-8\" d=\"M 317.8,98.2 L 343.0,103.2\" style=\"fill:none;fill-rule:evenodd;stroke:#FF0000;stroke-width:2.0px;stroke-linecap:butt;stroke-linejoin:miter;stroke-opacity:1\"/>\n",
       "<path class=\"bond-8 atom-4 atom-9\" d=\"M 249.2,142.8 L 227.0,123.8\" style=\"fill:none;fill-rule:evenodd;stroke:#000000;stroke-width:2.0px;stroke-linecap:butt;stroke-linejoin:miter;stroke-opacity:1\"/>\n",
       "<path class=\"bond-8 atom-4 atom-9\" d=\"M 227.0,123.8 L 204.7,104.8\" style=\"fill:none;fill-rule:evenodd;stroke:#0000FF;stroke-width:2.0px;stroke-linecap:butt;stroke-linejoin:miter;stroke-opacity:1\"/>\n",
       "<path class=\"bond-9 atom-9 atom-10\" d=\"M 178.8,106.9 L 168.4,117.6\" style=\"fill:none;fill-rule:evenodd;stroke:#0000FF;stroke-width:2.0px;stroke-linecap:butt;stroke-linejoin:miter;stroke-opacity:1\"/>\n",
       "<path class=\"bond-9 atom-9 atom-10\" d=\"M 168.4,117.6 L 157.9,128.3\" style=\"fill:none;fill-rule:evenodd;stroke:#000000;stroke-width:2.0px;stroke-linecap:butt;stroke-linejoin:miter;stroke-opacity:1\"/>\n",
       "<path class=\"bond-10 atom-9 atom-11\" d=\"M 178.8,90.8 L 159.1,86.5\" style=\"fill:none;fill-rule:evenodd;stroke:#0000FF;stroke-width:2.0px;stroke-linecap:butt;stroke-linejoin:miter;stroke-opacity:1\"/>\n",
       "<path class=\"bond-10 atom-9 atom-11\" d=\"M 159.1,86.5 L 139.4,82.2\" style=\"fill:none;fill-rule:evenodd;stroke:#000000;stroke-width:2.0px;stroke-linecap:butt;stroke-linejoin:miter;stroke-opacity:1\"/>\n",
       "<path class=\"bond-11 atom-9 atom-12\" d=\"M 195.0,77.3 L 198.3,60.8\" style=\"fill:none;fill-rule:evenodd;stroke:#0000FF;stroke-width:2.0px;stroke-linecap:butt;stroke-linejoin:miter;stroke-opacity:1\"/>\n",
       "<path class=\"bond-11 atom-9 atom-12\" d=\"M 198.3,60.8 L 201.6,44.3\" style=\"fill:none;fill-rule:evenodd;stroke:#000000;stroke-width:2.0px;stroke-linecap:butt;stroke-linejoin:miter;stroke-opacity:1\"/>\n",
       "<path d=\"M 290.5,95.7 L 292.6,93.2 L 293.9,93.5\" style=\"fill:none;stroke:#000000;stroke-width:2.0px;stroke-linecap:butt;stroke-linejoin:miter;stroke-opacity:1;\"/>\n",
       "<path class=\"atom-0\" d=\"M 192.6 210.8 L 196.4 210.8 L 196.4 222.9 L 210.9 222.9 L 210.9 210.8 L 214.7 210.8 L 214.7 239.2 L 210.9 239.2 L 210.9 226.1 L 196.4 226.1 L 196.4 239.2 L 192.6 239.2 L 192.6 210.8 \" fill=\"#000000\"/>\n",
       "<path class=\"atom-2\" d=\"M 240.0 257.9 L 243.8 257.9 L 243.8 270.0 L 258.3 270.0 L 258.3 257.9 L 262.2 257.9 L 262.2 286.2 L 258.3 286.2 L 258.3 273.2 L 243.8 273.2 L 243.8 286.2 L 240.0 286.2 L 240.0 257.9 \" fill=\"#000000\"/>\n",
       "<path class=\"atom-3\" d=\"M 322.5 209.8 L 326.4 209.8 L 326.4 221.8 L 340.8 221.8 L 340.8 209.8 L 344.7 209.8 L 344.7 238.1 L 340.8 238.1 L 340.8 225.0 L 326.4 225.0 L 326.4 238.1 L 322.5 238.1 L 322.5 209.8 \" fill=\"#000000\"/>\n",
       "<path class=\"atom-5\" d=\"M 184.2 153.0 L 188.0 153.0 L 188.0 165.0 L 202.5 165.0 L 202.5 153.0 L 206.3 153.0 L 206.3 181.3 L 202.5 181.3 L 202.5 168.2 L 188.0 168.2 L 188.0 181.3 L 184.2 181.3 L 184.2 153.0 \" fill=\"#000000\"/>\n",
       "<path class=\"atom-7\" d=\"M 257.6 30.0 Q 257.6 23.2, 260.9 19.4 Q 264.3 15.6, 270.6 15.6 Q 276.8 15.6, 280.2 19.4 Q 283.6 23.2, 283.6 30.0 Q 283.6 36.8, 280.2 40.8 Q 276.8 44.6, 270.6 44.6 Q 264.3 44.6, 260.9 40.8 Q 257.6 36.9, 257.6 30.0 M 270.6 41.4 Q 274.9 41.4, 277.2 38.6 Q 279.6 35.6, 279.6 30.0 Q 279.6 24.4, 277.2 21.6 Q 274.9 18.8, 270.6 18.8 Q 266.2 18.8, 263.9 21.6 Q 261.6 24.4, 261.6 30.0 Q 261.6 35.7, 263.9 38.6 Q 266.2 41.4, 270.6 41.4 \" fill=\"#FF0000\"/>\n",
       "<path class=\"atom-8\" d=\"M 345.2 106.3 Q 345.2 99.5, 348.6 95.7 Q 351.9 91.9, 358.2 91.9 Q 364.5 91.9, 367.9 95.7 Q 371.2 99.5, 371.2 106.3 Q 371.2 113.2, 367.8 117.1 Q 364.4 121.0, 358.2 121.0 Q 352.0 121.0, 348.6 117.1 Q 345.2 113.2, 345.2 106.3 M 358.2 117.8 Q 362.5 117.8, 364.9 114.9 Q 367.2 112.0, 367.2 106.3 Q 367.2 100.7, 364.9 97.9 Q 362.5 95.1, 358.2 95.1 Q 353.9 95.1, 351.5 97.9 Q 349.2 100.7, 349.2 106.3 Q 349.2 112.0, 351.5 114.9 Q 353.9 117.8, 358.2 117.8 \" fill=\"#FF0000\"/>\n",
       "<path class=\"atom-8\" d=\"M 375.3 96.5 L 384.9 96.5 L 384.9 98.6 L 375.3 98.6 L 375.3 96.5 \" fill=\"#FF0000\"/>\n",
       "<path class=\"atom-9\" d=\"M 185.5 79.5 L 194.8 94.5 Q 195.7 96.0, 197.2 98.7 Q 198.7 101.4, 198.8 101.5 L 198.8 79.5 L 202.5 79.5 L 202.5 107.9 L 198.6 107.9 L 188.7 91.5 Q 187.5 89.5, 186.3 87.3 Q 185.1 85.1, 184.7 84.5 L 184.7 107.9 L 181.0 107.9 L 181.0 79.5 L 185.5 79.5 \" fill=\"#0000FF\"/>\n",
       "<path class=\"atom-9\" d=\"M 207.8 84.6 L 212.8 84.6 L 212.8 79.4 L 215.1 79.4 L 215.1 84.6 L 220.2 84.6 L 220.2 86.5 L 215.1 86.5 L 215.1 91.8 L 212.8 91.8 L 212.8 86.5 L 207.8 86.5 L 207.8 84.6 \" fill=\"#0000FF\"/>\n",
       "<path class=\"atom-10\" d=\"M 133.5 127.7 L 137.4 127.7 L 137.4 139.8 L 151.9 139.8 L 151.9 127.7 L 155.7 127.7 L 155.7 156.0 L 151.9 156.0 L 151.9 143.0 L 137.4 143.0 L 137.4 156.0 L 133.5 156.0 L 133.5 127.7 \" fill=\"#000000\"/>\n",
       "<path class=\"atom-11\" d=\"M 115.1 65.1 L 118.9 65.1 L 118.9 77.1 L 133.4 77.1 L 133.4 65.1 L 137.2 65.1 L 137.2 93.4 L 133.4 93.4 L 133.4 80.3 L 118.9 80.3 L 118.9 93.4 L 115.1 93.4 L 115.1 65.1 \" fill=\"#000000\"/>\n",
       "<path class=\"atom-12\" d=\"M 193.8 13.8 L 197.6 13.8 L 197.6 25.8 L 212.1 25.8 L 212.1 13.8 L 215.9 13.8 L 215.9 42.1 L 212.1 42.1 L 212.1 29.0 L 197.6 29.0 L 197.6 42.1 L 193.8 42.1 L 193.8 13.8 \" fill=\"#000000\"/>\n",
       "</svg>"
      ],
      "text/plain": [
       "<IPython.core.display.SVG object>"
      ]
     },
     "execution_count": 3,
     "metadata": {},
     "output_type": "execute_result"
    }
   ],
   "source": [
    "smiles_explicit_h = Molecule.from_smiles(\n",
    "    \"[H][C]([H])([H])[C@@]([H])([C](=[O])[O-])[N+]([H])([H])[H]\", \n",
    "    hydrogens_are_explicit=True\n",
    ")\n",
    "\n",
    "assert zw_l_alanine.is_isomorphic_with(smiles_explicit_h)\n",
    "\n",
    "smiles_explicit_h.visualize()"
   ]
  },
  {
   "cell_type": "markdown",
   "id": "6e1adb21",
   "metadata": {},
   "source": [
    "### Mapped SMILES\n",
    "\n",
    "By default, no guarantees are made about the indexing of atoms from a SMILES string. If the indexing is important, a mapped SMILES string may be used. In this case, Hydrogens must be explicit. Note that though mapped SMILES strings must start at index 1, Python lists start at index 0."
   ]
  },
  {
   "cell_type": "code",
   "execution_count": 4,
   "id": "178de2c5",
   "metadata": {},
   "outputs": [
    {
     "data": {
      "image/svg+xml": [
       "<svg xmlns=\"http://www.w3.org/2000/svg\" xmlns:rdkit=\"http://www.rdkit.org/xml\" xmlns:xlink=\"http://www.w3.org/1999/xlink\" version=\"1.1\" baseProfile=\"full\" xml:space=\"preserve\" width=\"500px\" height=\"300px\" viewBox=\"0 0 500 300\">\n",
       "<!-- END OF HEADER -->\n",
       "<rect style=\"opacity:1.0;fill:#FFFFFF;stroke:none\" width=\"500.0\" height=\"300.0\" x=\"0.0\" y=\"0.0\"> </rect>\n",
       "<path class=\"bond-0 atom-0 atom-3\" d=\"M 204.7,104.8 L 227.0,123.8\" style=\"fill:none;fill-rule:evenodd;stroke:#0000FF;stroke-width:2.0px;stroke-linecap:butt;stroke-linejoin:miter;stroke-opacity:1\"/>\n",
       "<path class=\"bond-0 atom-0 atom-3\" d=\"M 227.0,123.8 L 249.2,142.8\" style=\"fill:none;fill-rule:evenodd;stroke:#000000;stroke-width:2.0px;stroke-linecap:butt;stroke-linejoin:miter;stroke-opacity:1\"/>\n",
       "<path class=\"bond-1 atom-0 atom-10\" d=\"M 178.8,106.9 L 168.4,117.6\" style=\"fill:none;fill-rule:evenodd;stroke:#0000FF;stroke-width:2.0px;stroke-linecap:butt;stroke-linejoin:miter;stroke-opacity:1\"/>\n",
       "<path class=\"bond-1 atom-0 atom-10\" d=\"M 168.4,117.6 L 157.9,128.3\" style=\"fill:none;fill-rule:evenodd;stroke:#000000;stroke-width:2.0px;stroke-linecap:butt;stroke-linejoin:miter;stroke-opacity:1\"/>\n",
       "<path class=\"bond-2 atom-0 atom-11\" d=\"M 178.8,90.8 L 159.1,86.5\" style=\"fill:none;fill-rule:evenodd;stroke:#0000FF;stroke-width:2.0px;stroke-linecap:butt;stroke-linejoin:miter;stroke-opacity:1\"/>\n",
       "<path class=\"bond-2 atom-0 atom-11\" d=\"M 159.1,86.5 L 139.4,82.2\" style=\"fill:none;fill-rule:evenodd;stroke:#000000;stroke-width:2.0px;stroke-linecap:butt;stroke-linejoin:miter;stroke-opacity:1\"/>\n",
       "<path class=\"bond-3 atom-0 atom-12\" d=\"M 195.0,77.3 L 198.3,60.8\" style=\"fill:none;fill-rule:evenodd;stroke:#0000FF;stroke-width:2.0px;stroke-linecap:butt;stroke-linejoin:miter;stroke-opacity:1\"/>\n",
       "<path class=\"bond-3 atom-0 atom-12\" d=\"M 198.3,60.8 L 201.6,44.3\" style=\"fill:none;fill-rule:evenodd;stroke:#000000;stroke-width:2.0px;stroke-linecap:butt;stroke-linejoin:miter;stroke-opacity:1\"/>\n",
       "<path class=\"bond-4 atom-1 atom-3\" d=\"M 269.1,206.9 L 249.2,142.8\" style=\"fill:none;fill-rule:evenodd;stroke:#000000;stroke-width:2.0px;stroke-linecap:butt;stroke-linejoin:miter;stroke-opacity:1\"/>\n",
       "<path class=\"bond-5 atom-1 atom-6\" d=\"M 269.1,206.9 L 216.9,221.3\" style=\"fill:none;fill-rule:evenodd;stroke:#000000;stroke-width:2.0px;stroke-linecap:butt;stroke-linejoin:miter;stroke-opacity:1\"/>\n",
       "<path class=\"bond-6 atom-1 atom-7\" d=\"M 269.1,206.9 L 255.6,255.7\" style=\"fill:none;fill-rule:evenodd;stroke:#000000;stroke-width:2.0px;stroke-linecap:butt;stroke-linejoin:miter;stroke-opacity:1\"/>\n",
       "<path class=\"bond-7 atom-1 atom-9\" d=\"M 269.1,206.9 L 320.3,220.4\" style=\"fill:none;fill-rule:evenodd;stroke:#000000;stroke-width:2.0px;stroke-linecap:butt;stroke-linejoin:miter;stroke-opacity:1\"/>\n",
       "<path class=\"bond-8 atom-2 atom-3\" d=\"M 292.6,93.2 L 249.2,142.8\" style=\"fill:none;fill-rule:evenodd;stroke:#000000;stroke-width:2.0px;stroke-linecap:butt;stroke-linejoin:miter;stroke-opacity:1\"/>\n",
       "<path class=\"bond-9 atom-2 atom-4\" d=\"M 298.4,94.3 L 289.8,69.8\" style=\"fill:none;fill-rule:evenodd;stroke:#000000;stroke-width:2.0px;stroke-linecap:butt;stroke-linejoin:miter;stroke-opacity:1\"/>\n",
       "<path class=\"bond-9 atom-2 atom-4\" d=\"M 289.8,69.8 L 281.2,45.2\" style=\"fill:none;fill-rule:evenodd;stroke:#FF0000;stroke-width:2.0px;stroke-linecap:butt;stroke-linejoin:miter;stroke-opacity:1\"/>\n",
       "<path class=\"bond-9 atom-2 atom-4\" d=\"M 288.8,97.6 L 280.3,73.0\" style=\"fill:none;fill-rule:evenodd;stroke:#000000;stroke-width:2.0px;stroke-linecap:butt;stroke-linejoin:miter;stroke-opacity:1\"/>\n",
       "<path class=\"bond-9 atom-2 atom-4\" d=\"M 280.3,73.0 L 271.7,48.5\" style=\"fill:none;fill-rule:evenodd;stroke:#FF0000;stroke-width:2.0px;stroke-linecap:butt;stroke-linejoin:miter;stroke-opacity:1\"/>\n",
       "<path class=\"bond-10 atom-2 atom-5\" d=\"M 292.6,93.2 L 317.8,98.2\" style=\"fill:none;fill-rule:evenodd;stroke:#000000;stroke-width:2.0px;stroke-linecap:butt;stroke-linejoin:miter;stroke-opacity:1\"/>\n",
       "<path class=\"bond-10 atom-2 atom-5\" d=\"M 317.8,98.2 L 343.0,103.2\" style=\"fill:none;fill-rule:evenodd;stroke:#FF0000;stroke-width:2.0px;stroke-linecap:butt;stroke-linejoin:miter;stroke-opacity:1\"/>\n",
       "<path class=\"bond-11 atom-3 atom-8\" d=\"M 249.2,142.8 L 212.8,164.7 L 208.7,155.5 Z\" style=\"fill:#000000;fill-rule:evenodd;fill-opacity:1;stroke:#000000;stroke-width:0.5px;stroke-linecap:butt;stroke-linejoin:miter;stroke-opacity:1;\"/>\n",
       "<path d=\"M 290.5,95.7 L 292.6,93.2 L 293.9,93.5\" style=\"fill:none;stroke:#000000;stroke-width:2.0px;stroke-linecap:butt;stroke-linejoin:miter;stroke-opacity:1;\"/>\n",
       "<path class=\"atom-0\" d=\"M 185.5 79.5 L 194.8 94.5 Q 195.7 96.0, 197.2 98.7 Q 198.7 101.4, 198.8 101.5 L 198.8 79.5 L 202.5 79.5 L 202.5 107.9 L 198.6 107.9 L 188.7 91.5 Q 187.5 89.5, 186.3 87.3 Q 185.1 85.1, 184.7 84.5 L 184.7 107.9 L 181.0 107.9 L 181.0 79.5 L 185.5 79.5 \" fill=\"#0000FF\"/>\n",
       "<path class=\"atom-0\" d=\"M 207.8 84.6 L 212.8 84.6 L 212.8 79.4 L 215.1 79.4 L 215.1 84.6 L 220.2 84.6 L 220.2 86.5 L 215.1 86.5 L 215.1 91.8 L 212.8 91.8 L 212.8 86.5 L 207.8 86.5 L 207.8 84.6 \" fill=\"#0000FF\"/>\n",
       "<path class=\"atom-4\" d=\"M 257.6 30.0 Q 257.6 23.2, 260.9 19.4 Q 264.3 15.6, 270.6 15.6 Q 276.8 15.6, 280.2 19.4 Q 283.6 23.2, 283.6 30.0 Q 283.6 36.8, 280.2 40.8 Q 276.8 44.6, 270.6 44.6 Q 264.3 44.6, 260.9 40.8 Q 257.6 36.9, 257.6 30.0 M 270.6 41.4 Q 274.9 41.4, 277.2 38.6 Q 279.6 35.6, 279.6 30.0 Q 279.6 24.4, 277.2 21.6 Q 274.9 18.8, 270.6 18.8 Q 266.2 18.8, 263.9 21.6 Q 261.6 24.4, 261.6 30.0 Q 261.6 35.7, 263.9 38.6 Q 266.2 41.4, 270.6 41.4 \" fill=\"#FF0000\"/>\n",
       "<path class=\"atom-5\" d=\"M 345.2 106.3 Q 345.2 99.5, 348.6 95.7 Q 351.9 91.9, 358.2 91.9 Q 364.5 91.9, 367.9 95.7 Q 371.2 99.5, 371.2 106.3 Q 371.2 113.2, 367.8 117.1 Q 364.4 121.0, 358.2 121.0 Q 352.0 121.0, 348.6 117.1 Q 345.2 113.2, 345.2 106.3 M 358.2 117.8 Q 362.5 117.8, 364.9 114.9 Q 367.2 112.0, 367.2 106.3 Q 367.2 100.7, 364.9 97.9 Q 362.5 95.1, 358.2 95.1 Q 353.9 95.1, 351.5 97.9 Q 349.2 100.7, 349.2 106.3 Q 349.2 112.0, 351.5 114.9 Q 353.9 117.8, 358.2 117.8 \" fill=\"#FF0000\"/>\n",
       "<path class=\"atom-5\" d=\"M 375.3 96.5 L 384.9 96.5 L 384.9 98.6 L 375.3 98.6 L 375.3 96.5 \" fill=\"#FF0000\"/>\n",
       "<path class=\"atom-6\" d=\"M 192.6 210.8 L 196.4 210.8 L 196.4 222.9 L 210.9 222.9 L 210.9 210.8 L 214.7 210.8 L 214.7 239.2 L 210.9 239.2 L 210.9 226.1 L 196.4 226.1 L 196.4 239.2 L 192.6 239.2 L 192.6 210.8 \" fill=\"#000000\"/>\n",
       "<path class=\"atom-7\" d=\"M 240.0 257.9 L 243.8 257.9 L 243.8 270.0 L 258.3 270.0 L 258.3 257.9 L 262.2 257.9 L 262.2 286.2 L 258.3 286.2 L 258.3 273.2 L 243.8 273.2 L 243.8 286.2 L 240.0 286.2 L 240.0 257.9 \" fill=\"#000000\"/>\n",
       "<path class=\"atom-8\" d=\"M 184.2 153.0 L 188.0 153.0 L 188.0 165.0 L 202.5 165.0 L 202.5 153.0 L 206.3 153.0 L 206.3 181.3 L 202.5 181.3 L 202.5 168.2 L 188.0 168.2 L 188.0 181.3 L 184.2 181.3 L 184.2 153.0 \" fill=\"#000000\"/>\n",
       "<path class=\"atom-9\" d=\"M 322.5 209.8 L 326.4 209.8 L 326.4 221.8 L 340.8 221.8 L 340.8 209.8 L 344.7 209.8 L 344.7 238.1 L 340.8 238.1 L 340.8 225.0 L 326.4 225.0 L 326.4 238.1 L 322.5 238.1 L 322.5 209.8 \" fill=\"#000000\"/>\n",
       "<path class=\"atom-10\" d=\"M 133.5 127.7 L 137.4 127.7 L 137.4 139.8 L 151.9 139.8 L 151.9 127.7 L 155.7 127.7 L 155.7 156.0 L 151.9 156.0 L 151.9 143.0 L 137.4 143.0 L 137.4 156.0 L 133.5 156.0 L 133.5 127.7 \" fill=\"#000000\"/>\n",
       "<path class=\"atom-11\" d=\"M 115.1 65.1 L 118.9 65.1 L 118.9 77.1 L 133.4 77.1 L 133.4 65.1 L 137.2 65.1 L 137.2 93.4 L 133.4 93.4 L 133.4 80.3 L 118.9 80.3 L 118.9 93.4 L 115.1 93.4 L 115.1 65.1 \" fill=\"#000000\"/>\n",
       "<path class=\"atom-12\" d=\"M 193.8 13.8 L 197.6 13.8 L 197.6 25.8 L 212.1 25.8 L 212.1 13.8 L 215.9 13.8 L 215.9 42.1 L 212.1 42.1 L 212.1 29.0 L 197.6 29.0 L 197.6 42.1 L 193.8 42.1 L 193.8 13.8 \" fill=\"#000000\"/>\n",
       "</svg>"
      ],
      "text/plain": [
       "<IPython.core.display.SVG object>"
      ]
     },
     "execution_count": 4,
     "metadata": {},
     "output_type": "execute_result"
    }
   ],
   "source": [
    "mapped_smiles = Molecule.from_mapped_smiles(\n",
    "    \"[H:10][C:2]([H:7])([H:8])[C@@:4]([H:9])([C:3](=[O:5])[O-:6])[N+:1]([H:11])([H:12])[H:13]\"\n",
    ")\n",
    "\n",
    "assert zw_l_alanine.is_isomorphic_with(mapped_smiles)\n",
    "\n",
    "assert mapped_smiles.atoms[0].atomic_number == 7 # First index is the Nitrogen\n",
    "assert all([a.atomic_number==1 for a in mapped_smiles.atoms[6:]]) # Final indices are all H\n",
    "\n",
    "mapped_smiles.visualize()"
   ]
  },
  {
   "cell_type": "markdown",
   "id": "6897144e",
   "metadata": {},
   "source": [
    "(smiles_no_stereochemistry)=\n",
    "### SMILES without stereochemistry\n",
    "\n",
    "The Toolkit won't accept an ambiguous SMILES. This SMILES could be L- or D- alanine; rather than guess, the Toolkit throws an error:"
   ]
  },
  {
   "cell_type": "code",
   "execution_count": 5,
   "id": "ec669ad6",
   "metadata": {
    "editable": true,
    "scrolled": true,
    "slideshow": {
     "slide_type": ""
    },
    "tags": [
     "raises-exception"
    ]
   },
   "outputs": [
    {
     "ename": "UndefinedStereochemistryError",
     "evalue": "Unable to make OFFMol from OEMol: OEMol has unspecified stereochemistry. oemol.GetTitle()=''Problematic atoms are:\nAtom atomic num: 6, name: , idx: 1, aromatic: False, chiral: True with bonds:\nbond order: 1, chiral: False to atom atomic num: 6, name: , idx: 0, aromatic: False, chiral: False\nbond order: 1, chiral: False to atom atomic num: 7, name: , idx: 2, aromatic: False, chiral: False\nbond order: 1, chiral: False to atom atomic num: 6, name: , idx: 3, aromatic: False, chiral: False\nbond order: 1, chiral: False to atom atomic num: 1, name: , idx: 9, aromatic: False, chiral: False\n",
     "output_type": "error",
     "traceback": [
      "\u001b[0;31mUndefinedStereochemistryError\u001b[0m\u001b[0;31m:\u001b[0m Unable to make OFFMol from OEMol: OEMol has unspecified stereochemistry. oemol.GetTitle()=''Problematic atoms are:\nAtom atomic num: 6, name: , idx: 1, aromatic: False, chiral: True with bonds:\nbond order: 1, chiral: False to atom atomic num: 6, name: , idx: 0, aromatic: False, chiral: False\nbond order: 1, chiral: False to atom atomic num: 7, name: , idx: 2, aromatic: False, chiral: False\nbond order: 1, chiral: False to atom atomic num: 6, name: , idx: 3, aromatic: False, chiral: False\nbond order: 1, chiral: False to atom atomic num: 1, name: , idx: 9, aromatic: False, chiral: False\n\n"
     ]
    }
   ],
   "source": [
    "smiles_non_isomeric = Molecule.from_smiles(\n",
    "    \"CC([NH3+])C(=O)[O-]\"\n",
    ")"
   ]
  },
  {
   "cell_type": "markdown",
   "id": "821c4687",
   "metadata": {},
   "source": [
    "We can downgrade this error to a warning with the `allow_undefined_stereo` argument. This will create a molecule with undefined stereochemistry, which might lead to incorrect parametrization or surprising conformer generation. See the [FAQ](../faq.md#im-getting-stereochemistry-errors-when-loading-a-molecule-from-a-smiles-string) for more details."
   ]
  },
  {
   "cell_type": "code",
   "execution_count": 6,
   "id": "278e3cb1",
   "metadata": {},
   "outputs": [
    {
     "data": {
      "image/svg+xml": [
       "<svg xmlns=\"http://www.w3.org/2000/svg\" xmlns:rdkit=\"http://www.rdkit.org/xml\" xmlns:xlink=\"http://www.w3.org/1999/xlink\" version=\"1.1\" baseProfile=\"full\" xml:space=\"preserve\" width=\"500px\" height=\"300px\" viewBox=\"0 0 500 300\">\n",
       "<!-- END OF HEADER -->\n",
       "<rect style=\"opacity:1.0;fill:#FFFFFF;stroke:none\" width=\"500.0\" height=\"300.0\" x=\"0.0\" y=\"0.0\"> </rect>\n",
       "<path class=\"bond-0 atom-0 atom-1\" d=\"M 269.1,206.9 L 249.2,142.8\" style=\"fill:none;fill-rule:evenodd;stroke:#000000;stroke-width:2.0px;stroke-linecap:butt;stroke-linejoin:miter;stroke-opacity:1\"/>\n",
       "<path class=\"bond-1 atom-1 atom-2\" d=\"M 249.2,142.8 L 227.0,123.8\" style=\"fill:none;fill-rule:evenodd;stroke:#000000;stroke-width:2.0px;stroke-linecap:butt;stroke-linejoin:miter;stroke-opacity:1\"/>\n",
       "<path class=\"bond-1 atom-1 atom-2\" d=\"M 227.0,123.8 L 204.7,104.8\" style=\"fill:none;fill-rule:evenodd;stroke:#0000FF;stroke-width:2.0px;stroke-linecap:butt;stroke-linejoin:miter;stroke-opacity:1\"/>\n",
       "<path class=\"bond-2 atom-1 atom-3\" d=\"M 249.2,142.8 L 292.6,93.2\" style=\"fill:none;fill-rule:evenodd;stroke:#000000;stroke-width:2.0px;stroke-linecap:butt;stroke-linejoin:miter;stroke-opacity:1\"/>\n",
       "<path class=\"bond-3 atom-3 atom-4\" d=\"M 298.4,94.3 L 289.8,69.8\" style=\"fill:none;fill-rule:evenodd;stroke:#000000;stroke-width:2.0px;stroke-linecap:butt;stroke-linejoin:miter;stroke-opacity:1\"/>\n",
       "<path class=\"bond-3 atom-3 atom-4\" d=\"M 289.8,69.8 L 281.2,45.2\" style=\"fill:none;fill-rule:evenodd;stroke:#FF0000;stroke-width:2.0px;stroke-linecap:butt;stroke-linejoin:miter;stroke-opacity:1\"/>\n",
       "<path class=\"bond-3 atom-3 atom-4\" d=\"M 288.8,97.6 L 280.3,73.0\" style=\"fill:none;fill-rule:evenodd;stroke:#000000;stroke-width:2.0px;stroke-linecap:butt;stroke-linejoin:miter;stroke-opacity:1\"/>\n",
       "<path class=\"bond-3 atom-3 atom-4\" d=\"M 280.3,73.0 L 271.7,48.5\" style=\"fill:none;fill-rule:evenodd;stroke:#FF0000;stroke-width:2.0px;stroke-linecap:butt;stroke-linejoin:miter;stroke-opacity:1\"/>\n",
       "<path class=\"bond-4 atom-3 atom-5\" d=\"M 292.6,93.2 L 317.8,98.2\" style=\"fill:none;fill-rule:evenodd;stroke:#000000;stroke-width:2.0px;stroke-linecap:butt;stroke-linejoin:miter;stroke-opacity:1\"/>\n",
       "<path class=\"bond-4 atom-3 atom-5\" d=\"M 317.8,98.2 L 343.0,103.2\" style=\"fill:none;fill-rule:evenodd;stroke:#FF0000;stroke-width:2.0px;stroke-linecap:butt;stroke-linejoin:miter;stroke-opacity:1\"/>\n",
       "<path class=\"bond-5 atom-0 atom-6\" d=\"M 269.1,206.9 L 216.9,221.3\" style=\"fill:none;fill-rule:evenodd;stroke:#000000;stroke-width:2.0px;stroke-linecap:butt;stroke-linejoin:miter;stroke-opacity:1\"/>\n",
       "<path class=\"bond-6 atom-0 atom-7\" d=\"M 269.1,206.9 L 255.6,255.7\" style=\"fill:none;fill-rule:evenodd;stroke:#000000;stroke-width:2.0px;stroke-linecap:butt;stroke-linejoin:miter;stroke-opacity:1\"/>\n",
       "<path class=\"bond-7 atom-0 atom-8\" d=\"M 269.1,206.9 L 320.3,220.4\" style=\"fill:none;fill-rule:evenodd;stroke:#000000;stroke-width:2.0px;stroke-linecap:butt;stroke-linejoin:miter;stroke-opacity:1\"/>\n",
       "<path class=\"bond-8 atom-1 atom-9\" d=\"M 249.2,142.8 L 208.6,161.1\" style=\"fill:none;fill-rule:evenodd;stroke:#000000;stroke-width:2.0px;stroke-linecap:butt;stroke-linejoin:miter;stroke-opacity:1\"/>\n",
       "<path class=\"bond-9 atom-2 atom-10\" d=\"M 178.8,106.9 L 168.4,117.6\" style=\"fill:none;fill-rule:evenodd;stroke:#0000FF;stroke-width:2.0px;stroke-linecap:butt;stroke-linejoin:miter;stroke-opacity:1\"/>\n",
       "<path class=\"bond-9 atom-2 atom-10\" d=\"M 168.4,117.6 L 157.9,128.3\" style=\"fill:none;fill-rule:evenodd;stroke:#000000;stroke-width:2.0px;stroke-linecap:butt;stroke-linejoin:miter;stroke-opacity:1\"/>\n",
       "<path class=\"bond-10 atom-2 atom-11\" d=\"M 178.8,90.8 L 159.1,86.5\" style=\"fill:none;fill-rule:evenodd;stroke:#0000FF;stroke-width:2.0px;stroke-linecap:butt;stroke-linejoin:miter;stroke-opacity:1\"/>\n",
       "<path class=\"bond-10 atom-2 atom-11\" d=\"M 159.1,86.5 L 139.4,82.2\" style=\"fill:none;fill-rule:evenodd;stroke:#000000;stroke-width:2.0px;stroke-linecap:butt;stroke-linejoin:miter;stroke-opacity:1\"/>\n",
       "<path class=\"bond-11 atom-2 atom-12\" d=\"M 195.0,77.3 L 198.3,60.8\" style=\"fill:none;fill-rule:evenodd;stroke:#0000FF;stroke-width:2.0px;stroke-linecap:butt;stroke-linejoin:miter;stroke-opacity:1\"/>\n",
       "<path class=\"bond-11 atom-2 atom-12\" d=\"M 198.3,60.8 L 201.6,44.3\" style=\"fill:none;fill-rule:evenodd;stroke:#000000;stroke-width:2.0px;stroke-linecap:butt;stroke-linejoin:miter;stroke-opacity:1\"/>\n",
       "<path d=\"M 290.5,95.7 L 292.6,93.2 L 293.9,93.5\" style=\"fill:none;stroke:#000000;stroke-width:2.0px;stroke-linecap:butt;stroke-linejoin:miter;stroke-opacity:1;\"/>\n",
       "<path class=\"atom-2\" d=\"M 185.5 79.5 L 194.8 94.5 Q 195.7 96.0, 197.2 98.7 Q 198.7 101.4, 198.8 101.5 L 198.8 79.5 L 202.5 79.5 L 202.5 107.9 L 198.6 107.9 L 188.7 91.5 Q 187.5 89.5, 186.3 87.3 Q 185.1 85.1, 184.7 84.5 L 184.7 107.9 L 181.0 107.9 L 181.0 79.5 L 185.5 79.5 \" fill=\"#0000FF\"/>\n",
       "<path class=\"atom-2\" d=\"M 207.8 84.6 L 212.8 84.6 L 212.8 79.4 L 215.1 79.4 L 215.1 84.6 L 220.2 84.6 L 220.2 86.5 L 215.1 86.5 L 215.1 91.8 L 212.8 91.8 L 212.8 86.5 L 207.8 86.5 L 207.8 84.6 \" fill=\"#0000FF\"/>\n",
       "<path class=\"atom-4\" d=\"M 257.6 30.0 Q 257.6 23.2, 260.9 19.4 Q 264.3 15.6, 270.6 15.6 Q 276.8 15.6, 280.2 19.4 Q 283.6 23.2, 283.6 30.0 Q 283.6 36.8, 280.2 40.8 Q 276.8 44.6, 270.6 44.6 Q 264.3 44.6, 260.9 40.8 Q 257.6 36.9, 257.6 30.0 M 270.6 41.4 Q 274.9 41.4, 277.2 38.6 Q 279.6 35.6, 279.6 30.0 Q 279.6 24.4, 277.2 21.6 Q 274.9 18.8, 270.6 18.8 Q 266.2 18.8, 263.9 21.6 Q 261.6 24.4, 261.6 30.0 Q 261.6 35.7, 263.9 38.6 Q 266.2 41.4, 270.6 41.4 \" fill=\"#FF0000\"/>\n",
       "<path class=\"atom-5\" d=\"M 345.2 106.3 Q 345.2 99.5, 348.6 95.7 Q 351.9 91.9, 358.2 91.9 Q 364.5 91.9, 367.9 95.7 Q 371.2 99.5, 371.2 106.3 Q 371.2 113.2, 367.8 117.1 Q 364.4 121.0, 358.2 121.0 Q 352.0 121.0, 348.6 117.1 Q 345.2 113.2, 345.2 106.3 M 358.2 117.8 Q 362.5 117.8, 364.9 114.9 Q 367.2 112.0, 367.2 106.3 Q 367.2 100.7, 364.9 97.9 Q 362.5 95.1, 358.2 95.1 Q 353.9 95.1, 351.5 97.9 Q 349.2 100.7, 349.2 106.3 Q 349.2 112.0, 351.5 114.9 Q 353.9 117.8, 358.2 117.8 \" fill=\"#FF0000\"/>\n",
       "<path class=\"atom-5\" d=\"M 375.3 96.5 L 384.9 96.5 L 384.9 98.6 L 375.3 98.6 L 375.3 96.5 \" fill=\"#FF0000\"/>\n",
       "<path class=\"atom-6\" d=\"M 192.6 210.8 L 196.4 210.8 L 196.4 222.9 L 210.9 222.9 L 210.9 210.8 L 214.7 210.8 L 214.7 239.2 L 210.9 239.2 L 210.9 226.1 L 196.4 226.1 L 196.4 239.2 L 192.6 239.2 L 192.6 210.8 \" fill=\"#000000\"/>\n",
       "<path class=\"atom-7\" d=\"M 240.0 257.9 L 243.8 257.9 L 243.8 270.0 L 258.3 270.0 L 258.3 257.9 L 262.2 257.9 L 262.2 286.2 L 258.3 286.2 L 258.3 273.2 L 243.8 273.2 L 243.8 286.2 L 240.0 286.2 L 240.0 257.9 \" fill=\"#000000\"/>\n",
       "<path class=\"atom-8\" d=\"M 322.5 209.8 L 326.4 209.8 L 326.4 221.8 L 340.8 221.8 L 340.8 209.8 L 344.7 209.8 L 344.7 238.1 L 340.8 238.1 L 340.8 225.0 L 326.4 225.0 L 326.4 238.1 L 322.5 238.1 L 322.5 209.8 \" fill=\"#000000\"/>\n",
       "<path class=\"atom-9\" d=\"M 184.2 153.0 L 188.0 153.0 L 188.0 165.0 L 202.5 165.0 L 202.5 153.0 L 206.3 153.0 L 206.3 181.3 L 202.5 181.3 L 202.5 168.2 L 188.0 168.2 L 188.0 181.3 L 184.2 181.3 L 184.2 153.0 \" fill=\"#000000\"/>\n",
       "<path class=\"atom-10\" d=\"M 133.5 127.7 L 137.4 127.7 L 137.4 139.8 L 151.9 139.8 L 151.9 127.7 L 155.7 127.7 L 155.7 156.0 L 151.9 156.0 L 151.9 143.0 L 137.4 143.0 L 137.4 156.0 L 133.5 156.0 L 133.5 127.7 \" fill=\"#000000\"/>\n",
       "<path class=\"atom-11\" d=\"M 115.1 65.1 L 118.9 65.1 L 118.9 77.1 L 133.4 77.1 L 133.4 65.1 L 137.2 65.1 L 137.2 93.4 L 133.4 93.4 L 133.4 80.3 L 118.9 80.3 L 118.9 93.4 L 115.1 93.4 L 115.1 65.1 \" fill=\"#000000\"/>\n",
       "<path class=\"atom-12\" d=\"M 193.8 13.8 L 197.6 13.8 L 197.6 25.8 L 212.1 25.8 L 212.1 13.8 L 215.9 13.8 L 215.9 42.1 L 212.1 42.1 L 212.1 29.0 L 197.6 29.0 L 197.6 42.1 L 193.8 42.1 L 193.8 13.8 \" fill=\"#000000\"/>\n",
       "</svg>"
      ],
      "text/plain": [
       "<IPython.core.display.SVG object>"
      ]
     },
     "execution_count": 6,
     "metadata": {},
     "output_type": "execute_result"
    }
   ],
   "source": [
    "smiles_non_isomeric = Molecule.from_smiles(\n",
    "    \"CC([NH3+])C(=O)[O-]\",\n",
    "    allow_undefined_stereo=True\n",
    ")\n",
    "\n",
    "assert not zw_l_alanine.is_isomorphic_with(smiles_non_isomeric)\n",
    "\n",
    "smiles_non_isomeric.visualize()"
   ]
  },
  {
   "cell_type": "markdown",
   "id": "da716060",
   "metadata": {},
   "source": [
    "## By hand\n",
    "\n",
    "You can always construct a `Molecule` by building it up from individual atoms and bonds. Other methods are generally easier, but it's a useful fallback for when you need to write your own constructor for an unsupported source format.\n",
    "\n",
    "The [`Molecule()`](openff.toolkit.topology.Molecule.__init__) constructor and the [`add_atom()`](openff.toolkit.topology.Molecule.add_atom) and [`add_bond()`](openff.toolkit.topology.Molecule.add_bond) methods are used to construct a `Molecule` by hand."
   ]
  },
  {
   "cell_type": "code",
   "execution_count": 7,
   "id": "aa8746eb",
   "metadata": {},
   "outputs": [
    {
     "data": {
      "image/svg+xml": [
       "<svg xmlns=\"http://www.w3.org/2000/svg\" xmlns:rdkit=\"http://www.rdkit.org/xml\" xmlns:xlink=\"http://www.w3.org/1999/xlink\" version=\"1.1\" baseProfile=\"full\" xml:space=\"preserve\" width=\"500px\" height=\"300px\" viewBox=\"0 0 500 300\">\n",
       "<!-- END OF HEADER -->\n",
       "<rect style=\"opacity:1.0;fill:#FFFFFF;stroke:none\" width=\"500.0\" height=\"300.0\" x=\"0.0\" y=\"0.0\"> </rect>\n",
       "<path class=\"bond-0 atom-0 atom-1\" d=\"M 285.6,251.8 L 294.2,226.3\" style=\"fill:none;fill-rule:evenodd;stroke:#FF0000;stroke-width:2.0px;stroke-linecap:butt;stroke-linejoin:miter;stroke-opacity:1\"/>\n",
       "<path class=\"bond-0 atom-0 atom-1\" d=\"M 294.2,226.3 L 302.8,200.7\" style=\"fill:none;fill-rule:evenodd;stroke:#000000;stroke-width:2.0px;stroke-linecap:butt;stroke-linejoin:miter;stroke-opacity:1\"/>\n",
       "<path class=\"bond-1 atom-1 atom-2\" d=\"M 300.8,206.6 L 329.5,200.6\" style=\"fill:none;fill-rule:evenodd;stroke:#000000;stroke-width:2.0px;stroke-linecap:butt;stroke-linejoin:miter;stroke-opacity:1\"/>\n",
       "<path class=\"bond-1 atom-1 atom-2\" d=\"M 329.5,200.6 L 358.2,194.6\" style=\"fill:none;fill-rule:evenodd;stroke:#FF0000;stroke-width:2.0px;stroke-linecap:butt;stroke-linejoin:miter;stroke-opacity:1\"/>\n",
       "<path class=\"bond-1 atom-1 atom-2\" d=\"M 298.7,196.1 L 327.3,190.1\" style=\"fill:none;fill-rule:evenodd;stroke:#000000;stroke-width:2.0px;stroke-linecap:butt;stroke-linejoin:miter;stroke-opacity:1\"/>\n",
       "<path class=\"bond-1 atom-1 atom-2\" d=\"M 327.3,190.1 L 356.0,184.1\" style=\"fill:none;fill-rule:evenodd;stroke:#FF0000;stroke-width:2.0px;stroke-linecap:butt;stroke-linejoin:miter;stroke-opacity:1\"/>\n",
       "<path class=\"bond-2 atom-1 atom-3\" d=\"M 302.8,200.7 L 256.1,148.4\" style=\"fill:none;fill-rule:evenodd;stroke:#000000;stroke-width:2.0px;stroke-linecap:butt;stroke-linejoin:miter;stroke-opacity:1\"/>\n",
       "<path class=\"bond-3 atom-3 atom-4\" d=\"M 252.7,147.4 L 253.0,146.6\" style=\"fill:none;fill-rule:evenodd;stroke:#000000;stroke-width:1.0px;stroke-linecap:butt;stroke-linejoin:miter;stroke-opacity:1\"/>\n",
       "<path class=\"bond-3 atom-3 atom-4\" d=\"M 249.3,146.3 L 250.0,144.8\" style=\"fill:none;fill-rule:evenodd;stroke:#000000;stroke-width:1.0px;stroke-linecap:butt;stroke-linejoin:miter;stroke-opacity:1\"/>\n",
       "<path class=\"bond-3 atom-3 atom-4\" d=\"M 245.9,145.3 L 246.9,143.0\" style=\"fill:none;fill-rule:evenodd;stroke:#000000;stroke-width:1.0px;stroke-linecap:butt;stroke-linejoin:miter;stroke-opacity:1\"/>\n",
       "<path class=\"bond-3 atom-3 atom-4\" d=\"M 242.5,144.3 L 243.9,141.2\" style=\"fill:none;fill-rule:evenodd;stroke:#000000;stroke-width:1.0px;stroke-linecap:butt;stroke-linejoin:miter;stroke-opacity:1\"/>\n",
       "<path class=\"bond-3 atom-3 atom-4\" d=\"M 239.2,143.2 L 240.8,139.4\" style=\"fill:none;fill-rule:evenodd;stroke:#000000;stroke-width:1.0px;stroke-linecap:butt;stroke-linejoin:miter;stroke-opacity:1\"/>\n",
       "<path class=\"bond-3 atom-3 atom-4\" d=\"M 235.8,142.2 L 237.8,137.7\" style=\"fill:none;fill-rule:evenodd;stroke:#000000;stroke-width:1.0px;stroke-linecap:butt;stroke-linejoin:miter;stroke-opacity:1\"/>\n",
       "<path class=\"bond-3 atom-3 atom-4\" d=\"M 232.4,141.1 L 234.7,135.9\" style=\"fill:none;fill-rule:evenodd;stroke:#000000;stroke-width:1.0px;stroke-linecap:butt;stroke-linejoin:miter;stroke-opacity:1\"/>\n",
       "<path class=\"bond-3 atom-3 atom-4\" d=\"M 229.0,140.1 L 231.6,134.1\" style=\"fill:none;fill-rule:evenodd;stroke:#000000;stroke-width:1.0px;stroke-linecap:butt;stroke-linejoin:miter;stroke-opacity:1\"/>\n",
       "<path class=\"bond-3 atom-3 atom-4\" d=\"M 225.6,139.1 L 228.6,132.3\" style=\"fill:none;fill-rule:evenodd;stroke:#000000;stroke-width:1.0px;stroke-linecap:butt;stroke-linejoin:miter;stroke-opacity:1\"/>\n",
       "<path class=\"bond-3 atom-3 atom-4\" d=\"M 222.2,138.0 L 225.5,130.5\" style=\"fill:none;fill-rule:evenodd;stroke:#000000;stroke-width:1.0px;stroke-linecap:butt;stroke-linejoin:miter;stroke-opacity:1\"/>\n",
       "<path class=\"bond-3 atom-3 atom-4\" d=\"M 218.8,137.0 L 222.5,128.7\" style=\"fill:none;fill-rule:evenodd;stroke:#000000;stroke-width:1.0px;stroke-linecap:butt;stroke-linejoin:miter;stroke-opacity:1\"/>\n",
       "<path class=\"bond-3 atom-3 atom-4\" d=\"M 215.5,135.9 L 219.4,126.9\" style=\"fill:none;fill-rule:evenodd;stroke:#000000;stroke-width:1.0px;stroke-linecap:butt;stroke-linejoin:miter;stroke-opacity:1\"/>\n",
       "<path class=\"bond-3 atom-3 atom-4\" d=\"M 212.1,134.9 L 216.4,125.1\" style=\"fill:none;fill-rule:evenodd;stroke:#000000;stroke-width:1.0px;stroke-linecap:butt;stroke-linejoin:miter;stroke-opacity:1\"/>\n",
       "<path class=\"bond-4 atom-3 atom-5\" d=\"M 256.1,148.4 L 276.5,80.1\" style=\"fill:none;fill-rule:evenodd;stroke:#000000;stroke-width:2.0px;stroke-linecap:butt;stroke-linejoin:miter;stroke-opacity:1\"/>\n",
       "<path class=\"bond-5 atom-5 atom-6\" d=\"M 276.5,80.1 L 331.6,94.8\" style=\"fill:none;fill-rule:evenodd;stroke:#000000;stroke-width:2.0px;stroke-linecap:butt;stroke-linejoin:miter;stroke-opacity:1\"/>\n",
       "<path class=\"bond-6 atom-5 atom-7\" d=\"M 276.5,80.1 L 312.5,42.8\" style=\"fill:none;fill-rule:evenodd;stroke:#000000;stroke-width:2.0px;stroke-linecap:butt;stroke-linejoin:miter;stroke-opacity:1\"/>\n",
       "<path class=\"bond-7 atom-5 atom-8\" d=\"M 276.5,80.1 L 238.5,42.7\" style=\"fill:none;fill-rule:evenodd;stroke:#000000;stroke-width:2.0px;stroke-linecap:butt;stroke-linejoin:miter;stroke-opacity:1\"/>\n",
       "<path class=\"bond-8 atom-3 atom-9\" d=\"M 256.1,148.4 L 235.3,166.5\" style=\"fill:none;fill-rule:evenodd;stroke:#000000;stroke-width:2.0px;stroke-linecap:butt;stroke-linejoin:miter;stroke-opacity:1\"/>\n",
       "<path class=\"bond-8 atom-3 atom-9\" d=\"M 235.3,166.5 L 214.5,184.6\" style=\"fill:none;fill-rule:evenodd;stroke:#0000FF;stroke-width:2.0px;stroke-linecap:butt;stroke-linejoin:miter;stroke-opacity:1\"/>\n",
       "<path class=\"bond-9 atom-9 atom-10\" d=\"M 182.3,188.1 L 170.2,176.0\" style=\"fill:none;fill-rule:evenodd;stroke:#0000FF;stroke-width:2.0px;stroke-linecap:butt;stroke-linejoin:miter;stroke-opacity:1\"/>\n",
       "<path class=\"bond-9 atom-9 atom-10\" d=\"M 170.2,176.0 L 158.2,163.9\" style=\"fill:none;fill-rule:evenodd;stroke:#000000;stroke-width:2.0px;stroke-linecap:butt;stroke-linejoin:miter;stroke-opacity:1\"/>\n",
       "<path class=\"bond-10 atom-9 atom-11\" d=\"M 182.3,204.3 L 160.7,209.2\" style=\"fill:none;fill-rule:evenodd;stroke:#0000FF;stroke-width:2.0px;stroke-linecap:butt;stroke-linejoin:miter;stroke-opacity:1\"/>\n",
       "<path class=\"bond-10 atom-9 atom-11\" d=\"M 160.7,209.2 L 139.1,214.2\" style=\"fill:none;fill-rule:evenodd;stroke:#000000;stroke-width:2.0px;stroke-linecap:butt;stroke-linejoin:miter;stroke-opacity:1\"/>\n",
       "<path class=\"bond-11 atom-9 atom-12\" d=\"M 198.8,217.8 L 202.6,236.2\" style=\"fill:none;fill-rule:evenodd;stroke:#0000FF;stroke-width:2.0px;stroke-linecap:butt;stroke-linejoin:miter;stroke-opacity:1\"/>\n",
       "<path class=\"bond-11 atom-9 atom-12\" d=\"M 202.6,236.2 L 206.5,254.6\" style=\"fill:none;fill-rule:evenodd;stroke:#000000;stroke-width:2.0px;stroke-linecap:butt;stroke-linejoin:miter;stroke-opacity:1\"/>\n",
       "<path d=\"M 302.3,202.0 L 302.8,200.7 L 300.4,198.1\" style=\"fill:none;stroke:#000000;stroke-width:2.0px;stroke-linecap:butt;stroke-linejoin:miter;stroke-opacity:1;\"/>\n",
       "<path class=\"atom-0\" d=\"M 267.0 268.5 Q 267.0 261.7, 270.4 257.9 Q 273.7 254.1, 280.0 254.1 Q 286.3 254.1, 289.6 257.9 Q 293.0 261.7, 293.0 268.5 Q 293.0 275.4, 289.6 279.3 Q 286.2 283.2, 280.0 283.2 Q 273.8 283.2, 270.4 279.3 Q 267.0 275.4, 267.0 268.5 M 280.0 280.0 Q 284.3 280.0, 286.6 277.1 Q 289.0 274.2, 289.0 268.5 Q 289.0 263.0, 286.6 260.2 Q 284.3 257.3, 280.0 257.3 Q 275.7 257.3, 273.3 260.1 Q 271.0 262.9, 271.0 268.5 Q 271.0 274.2, 273.3 277.1 Q 275.7 280.0, 280.0 280.0 \" fill=\"#FF0000\"/>\n",
       "<path class=\"atom-0\" d=\"M 297.0 258.7 L 306.7 258.7 L 306.7 260.8 L 297.0 260.8 L 297.0 258.7 \" fill=\"#FF0000\"/>\n",
       "<path class=\"atom-2\" d=\"M 359.5 186.3 Q 359.5 179.5, 362.8 175.7 Q 366.2 171.9, 372.5 171.9 Q 378.7 171.9, 382.1 175.7 Q 385.5 179.5, 385.5 186.3 Q 385.5 193.1, 382.1 197.1 Q 378.7 200.9, 372.5 200.9 Q 366.2 200.9, 362.8 197.1 Q 359.5 193.2, 359.5 186.3 M 372.5 197.7 Q 376.8 197.7, 379.1 194.9 Q 381.5 191.9, 381.5 186.3 Q 381.5 180.7, 379.1 177.9 Q 376.8 175.1, 372.5 175.1 Q 368.1 175.1, 365.8 177.9 Q 363.5 180.7, 363.5 186.3 Q 363.5 192.0, 365.8 194.9 Q 368.1 197.7, 372.5 197.7 \" fill=\"#FF0000\"/>\n",
       "<path class=\"atom-4\" d=\"M 187.4 108.9 L 191.2 108.9 L 191.2 120.9 L 205.7 120.9 L 205.7 108.9 L 209.5 108.9 L 209.5 137.2 L 205.7 137.2 L 205.7 124.1 L 191.2 124.1 L 191.2 137.2 L 187.4 137.2 L 187.4 108.9 \" fill=\"#000000\"/>\n",
       "<path class=\"atom-6\" d=\"M 334.0 84.2 L 337.8 84.2 L 337.8 96.2 L 352.3 96.2 L 352.3 84.2 L 356.1 84.2 L 356.1 112.5 L 352.3 112.5 L 352.3 99.4 L 337.8 99.4 L 337.8 112.5 L 334.0 112.5 L 334.0 84.2 \" fill=\"#000000\"/>\n",
       "<path class=\"atom-7\" d=\"M 314.9 14.7 L 318.7 14.7 L 318.7 26.7 L 333.2 26.7 L 333.2 14.7 L 337.0 14.7 L 337.0 43.0 L 333.2 43.0 L 333.2 29.9 L 318.7 29.9 L 318.7 43.0 L 314.9 43.0 L 314.9 14.7 \" fill=\"#000000\"/>\n",
       "<path class=\"atom-8\" d=\"M 214.0 15.3 L 217.8 15.3 L 217.8 27.3 L 232.3 27.3 L 232.3 15.3 L 236.2 15.3 L 236.2 43.6 L 232.3 43.6 L 232.3 30.5 L 217.8 30.5 L 217.8 43.6 L 214.0 43.6 L 214.0 15.3 \" fill=\"#000000\"/>\n",
       "<path class=\"atom-9\" d=\"M 189.1 187.1 L 198.4 202.1 Q 199.3 203.6, 200.8 206.2 Q 202.3 208.9, 202.4 209.1 L 202.4 187.1 L 206.1 187.1 L 206.1 215.4 L 202.2 215.4 L 192.3 199.0 Q 191.1 197.1, 189.9 194.9 Q 188.7 192.7, 188.3 192.0 L 188.3 215.4 L 184.6 215.4 L 184.6 187.1 L 189.1 187.1 \" fill=\"#0000FF\"/>\n",
       "<path class=\"atom-9\" d=\"M 211.4 192.2 L 216.4 192.2 L 216.4 186.9 L 218.6 186.9 L 218.6 192.2 L 223.8 192.2 L 223.8 194.1 L 218.6 194.1 L 218.6 199.4 L 216.4 199.4 L 216.4 194.1 L 211.4 194.1 L 211.4 192.2 \" fill=\"#0000FF\"/>\n",
       "<path class=\"atom-10\" d=\"M 133.7 136.2 L 137.5 136.2 L 137.5 148.3 L 152.0 148.3 L 152.0 136.2 L 155.8 136.2 L 155.8 164.5 L 152.0 164.5 L 152.0 151.5 L 137.5 151.5 L 137.5 164.5 L 133.7 164.5 L 133.7 136.2 \" fill=\"#000000\"/>\n",
       "<path class=\"atom-11\" d=\"M 114.5 203.1 L 118.4 203.1 L 118.4 215.1 L 132.9 215.1 L 132.9 203.1 L 136.7 203.1 L 136.7 231.4 L 132.9 231.4 L 132.9 218.3 L 118.4 218.3 L 118.4 231.4 L 114.5 231.4 L 114.5 203.1 \" fill=\"#000000\"/>\n",
       "<path class=\"atom-12\" d=\"M 198.8 257.0 L 202.7 257.0 L 202.7 269.0 L 217.2 269.0 L 217.2 257.0 L 221.0 257.0 L 221.0 285.3 L 217.2 285.3 L 217.2 272.2 L 202.7 272.2 L 202.7 285.3 L 198.8 285.3 L 198.8 257.0 \" fill=\"#000000\"/>\n",
       "</svg>"
      ],
      "text/plain": [
       "<IPython.core.display.SVG object>"
      ]
     },
     "execution_count": 7,
     "metadata": {},
     "output_type": "execute_result"
    }
   ],
   "source": [
    "by_hand = Molecule()\n",
    "by_hand.name = \"Zwitterionic l-Alanine\"\n",
    "\n",
    "by_hand.add_atom(\n",
    "    atomic_number = 8, # Atomic number 8 is Oxygen\n",
    "    formal_charge = -1, # Formal negative charge\n",
    "    is_aromatic = False, # Atom is not part of an aromatic system\n",
    "    stereochemistry = None, # Optional argument; \"R\" or \"S\" stereochemistry\n",
    "    name = \"O-\" # Optional argument; descriptive name for the atom\n",
    ")\n",
    "by_hand.add_atom(6,  0, False, name=\"C\")\n",
    "by_hand.add_atom(8,  0, False, name=\"O\")\n",
    "by_hand.add_atom(6,  0, False, stereochemistry=\"S\", name=\"CA\")\n",
    "by_hand.add_atom(1,  0, False, name=\"CAH\")\n",
    "by_hand.add_atom(6,  0, False, name=\"CB\")\n",
    "by_hand.add_atom(1,  0, False, name=\"HB1\")\n",
    "by_hand.add_atom(1,  0, False, name=\"HB2\")\n",
    "by_hand.add_atom(1,  0, False, name=\"HB3\")\n",
    "by_hand.add_atom(7, +1, False, name=\"N+\")\n",
    "by_hand.add_atom(1,  0, False, name=\"HN1\")\n",
    "by_hand.add_atom(1,  0, False, name=\"HN2\")\n",
    "by_hand.add_atom(1,  0, False, name=\"HN3\")\n",
    "\n",
    "\n",
    "by_hand.add_bond( \n",
    "    atom1 = 0, # First (zero-indexed) atom specified above (\"O-\")  \n",
    "    atom2 = 1, # Second atom specified above (\"C\")\n",
    "    bond_order = 1, # Single bond\n",
    "    is_aromatic = False, # Bond is not aromatic\n",
    "    stereochemistry = None, # Optional argument; \"E\" or \"Z\" stereochemistry\n",
    "    fractional_bond_order = None # Optional argument; Wiberg (or similar) bond order\n",
    ")\n",
    "by_hand.add_bond( 1,  2, 2, False) # C = O\n",
    "by_hand.add_bond( 1,  3, 1, False) # C - CA\n",
    "by_hand.add_bond( 3,  4, 1, False) # CA - CAH\n",
    "by_hand.add_bond( 3,  5, 1, False) # CA - CB\n",
    "by_hand.add_bond( 5,  6, 1, False) # CB - HB1\n",
    "by_hand.add_bond( 5,  7, 1, False) # CB - HB2\n",
    "by_hand.add_bond( 5,  8, 1, False) # CB - HB3\n",
    "by_hand.add_bond( 3,  9, 1, False) # CB - N+\n",
    "by_hand.add_bond( 9, 10, 1, False) # N+ - HN1\n",
    "by_hand.add_bond( 9, 11, 1, False) # N+ - HN2\n",
    "by_hand.add_bond( 9, 12, 1, False) # N+ - HN3\n",
    "\n",
    "assert zw_l_alanine.is_isomorphic_with(by_hand)\n",
    "\n",
    "by_hand.visualize()"
   ]
  },
  {
   "cell_type": "markdown",
   "id": "15931dd9",
   "metadata": {},
   "source": [
    "### From a dictionary\n",
    "\n",
    "Rather than build up the `Molecule` one method at a time, the [`Molecule.from_dict()`](openff.toolkit.topology.Molecule.from_dict) method can construct a `Molecule` in one shot from a Python `dict` that describes the molecule in question. This allows `Molecule` objects to be written to and read from disk in any format that can be interpreted as a `dict`; this mechanism underlies the [`from_bson()`](openff.toolkit.topology.Molecule.from_bson), [`from_json()`](openff.toolkit.topology.Molecule.from_json), [`from_messagepack()`](openff.toolkit.topology.Molecule.from_messagepack), [`from_pickle()`](openff.toolkit.topology.Molecule.from_pickle), [`from_toml()`](openff.toolkit.topology.Molecule.from_toml), [`from_xml()`](openff.toolkit.topology.Molecule.from_xml), and [`from_yaml()`](openff.toolkit.topology.Molecule.from_yaml) methods.\n",
    "\n",
    "This format can get very verbose, as it is intended for serialization, so this example uses hydrogen cyanide rather than alanine."
   ]
  },
  {
   "cell_type": "code",
   "execution_count": 8,
   "id": "dc756a7f",
   "metadata": {},
   "outputs": [
    {
     "data": {
      "image/svg+xml": [
       "<svg xmlns=\"http://www.w3.org/2000/svg\" xmlns:rdkit=\"http://www.rdkit.org/xml\" xmlns:xlink=\"http://www.w3.org/1999/xlink\" version=\"1.1\" baseProfile=\"full\" xml:space=\"preserve\" width=\"500px\" height=\"300px\" viewBox=\"0 0 500 300\">\n",
       "<!-- END OF HEADER -->\n",
       "<rect style=\"opacity:1.0;fill:#FFFFFF;stroke:none\" width=\"500.0\" height=\"300.0\" x=\"0.0\" y=\"0.0\"> </rect>\n",
       "<path class=\"bond-0 atom-0 atom-1\" d=\"M 100.7,236.1 L 250.2,150.5\" style=\"fill:none;fill-rule:evenodd;stroke:#000000;stroke-width:2.0px;stroke-linecap:butt;stroke-linejoin:miter;stroke-opacity:1\"/>\n",
       "<path class=\"bond-1 atom-1 atom-2\" d=\"M 250.2,150.5 L 325.1,107.7\" style=\"fill:none;fill-rule:evenodd;stroke:#000000;stroke-width:2.0px;stroke-linecap:butt;stroke-linejoin:miter;stroke-opacity:1\"/>\n",
       "<path class=\"bond-1 atom-1 atom-2\" d=\"M 325.1,107.7 L 399.9,64.8\" style=\"fill:none;fill-rule:evenodd;stroke:#0000FF;stroke-width:2.0px;stroke-linecap:butt;stroke-linejoin:miter;stroke-opacity:1\"/>\n",
       "<path class=\"bond-1 atom-1 atom-2\" d=\"M 235.8,125.5 L 310.7,82.6\" style=\"fill:none;fill-rule:evenodd;stroke:#000000;stroke-width:2.0px;stroke-linecap:butt;stroke-linejoin:miter;stroke-opacity:1\"/>\n",
       "<path class=\"bond-1 atom-1 atom-2\" d=\"M 310.7,82.6 L 385.6,39.8\" style=\"fill:none;fill-rule:evenodd;stroke:#0000FF;stroke-width:2.0px;stroke-linecap:butt;stroke-linejoin:miter;stroke-opacity:1\"/>\n",
       "<path class=\"bond-1 atom-1 atom-2\" d=\"M 264.5,175.6 L 339.4,132.7\" style=\"fill:none;fill-rule:evenodd;stroke:#000000;stroke-width:2.0px;stroke-linecap:butt;stroke-linejoin:miter;stroke-opacity:1\"/>\n",
       "<path class=\"bond-1 atom-1 atom-2\" d=\"M 339.4,132.7 L 414.3,89.8\" style=\"fill:none;fill-rule:evenodd;stroke:#0000FF;stroke-width:2.0px;stroke-linecap:butt;stroke-linejoin:miter;stroke-opacity:1\"/>\n",
       "<path d=\"M 242.7,154.8 L 250.2,150.5 L 253.9,148.4\" style=\"fill:none;stroke:#000000;stroke-width:2.0px;stroke-linecap:butt;stroke-linejoin:miter;stroke-opacity:1;\"/>\n",
       "<path class=\"atom-0\" d=\"M 72.2 231.9 L 76.1 231.9 L 76.1 243.9 L 90.6 243.9 L 90.6 231.9 L 94.4 231.9 L 94.4 260.2 L 90.6 260.2 L 90.6 247.1 L 76.1 247.1 L 76.1 260.2 L 72.2 260.2 L 72.2 231.9 \" fill=\"#000000\"/>\n",
       "<path class=\"atom-2\" d=\"M 410.8 40.9 L 420.0 55.9 Q 421.0 57.3, 422.4 60.0 Q 423.9 62.7, 424.0 62.9 L 424.0 40.9 L 427.8 40.9 L 427.8 69.2 L 423.9 69.2 L 413.9 52.8 Q 412.8 50.9, 411.5 48.7 Q 410.3 46.5, 410.0 45.8 L 410.0 69.2 L 406.3 69.2 L 406.3 40.9 L 410.8 40.9 \" fill=\"#0000FF\"/>\n",
       "</svg>"
      ],
      "text/plain": [
       "<IPython.core.display.SVG object>"
      ]
     },
     "execution_count": 8,
     "metadata": {},
     "output_type": "execute_result"
    }
   ],
   "source": [
    "molecule_dict = {\n",
    "    \"name\": \"\",\n",
    "    \"atoms\": [\n",
    "        {\n",
    "            \"atomic_number\": 1,\n",
    "            \"formal_charge\": 0,\n",
    "            \"is_aromatic\": False,\n",
    "            \"stereochemistry\": None,\n",
    "            \"name\": \"H\",\n",
    "        },\n",
    "        {\n",
    "            \"atomic_number\": 6,\n",
    "            \"formal_charge\": 0,\n",
    "            \"is_aromatic\": False,\n",
    "            \"stereochemistry\": None,\n",
    "            \"name\": \"C\",\n",
    "        },\n",
    "        {\n",
    "            \"atomic_number\": 7,\n",
    "            \"formal_charge\": 0,\n",
    "            \"is_aromatic\": False,\n",
    "            \"stereochemistry\": None,\n",
    "            \"name\": \"N\",\n",
    "        },\n",
    "    ],\n",
    "    \"virtual_sites\": [],\n",
    "    \"bonds\": [\n",
    "        {\n",
    "            \"atom1\": 0,\n",
    "            \"atom2\": 1,\n",
    "            \"bond_order\": 1,\n",
    "            \"is_aromatic\": False,\n",
    "            \"stereochemistry\": None,\n",
    "            \"fractional_bond_order\": None,\n",
    "        },\n",
    "        {\n",
    "            \"atom1\": 1,\n",
    "            \"atom2\": 2,\n",
    "            \"bond_order\": 3,\n",
    "            \"is_aromatic\": False,\n",
    "            \"stereochemistry\": None,\n",
    "            \"fractional_bond_order\": None,\n",
    "        },\n",
    "    ],\n",
    "    \"properties\": {},\n",
    "    \"conformers\": None,\n",
    "    \"partial_charges\": None,\n",
    "    \"partial_charges_unit\": None,\n",
    "    \"hierarchy_schemes\": {},\n",
    "}\n",
    "\n",
    "from_dictionary = Molecule.from_dict(molecule_dict)\n",
    "\n",
    "from_dictionary.visualize()"
   ]
  },
  {
   "cell_type": "markdown",
   "id": "1b50a800",
   "metadata": {},
   "source": [
    "## From a file\n",
    "\n",
    "We can construct a `Molecule` from a file or file-like object with the [`from_file()`](openff.toolkit.topology.Molecule.from_file) method. We're a bit constrained in what file formats we can accept, because they need to provide all the information needed to construct the molecular graph; not just coordinates, but also elements, formal charges, bond orders, and stereochemistry."
   ]
  },
  {
   "cell_type": "markdown",
   "id": "79aec960",
   "metadata": {},
   "source": [
    "### From SDF file\n",
    "\n",
    "We generally recommend the SDF format. The SDF file used here can be found [on GitHub](https://github.com/openforcefield/openff-toolkit/blob/main/docs/users/zw_l_alanine.sdf)"
   ]
  },
  {
   "cell_type": "code",
   "execution_count": 9,
   "id": "a78e4e0f",
   "metadata": {},
   "outputs": [
    {
     "data": {
      "image/svg+xml": [
       "<svg xmlns=\"http://www.w3.org/2000/svg\" xmlns:rdkit=\"http://www.rdkit.org/xml\" xmlns:xlink=\"http://www.w3.org/1999/xlink\" version=\"1.1\" baseProfile=\"full\" xml:space=\"preserve\" width=\"500px\" height=\"300px\" viewBox=\"0 0 500 300\">\n",
       "<!-- END OF HEADER -->\n",
       "<rect style=\"opacity:1.0;fill:#FFFFFF;stroke:none\" width=\"500.0\" height=\"300.0\" x=\"0.0\" y=\"0.0\"> </rect>\n",
       "<path class=\"bond-0 atom-0 atom-1\" d=\"M 276.5,80.1 L 256.1,148.4\" style=\"fill:none;fill-rule:evenodd;stroke:#000000;stroke-width:2.0px;stroke-linecap:butt;stroke-linejoin:miter;stroke-opacity:1\"/>\n",
       "<path class=\"bond-1 atom-1 atom-2\" d=\"M 256.1,148.4 L 235.3,166.5\" style=\"fill:none;fill-rule:evenodd;stroke:#000000;stroke-width:2.0px;stroke-linecap:butt;stroke-linejoin:miter;stroke-opacity:1\"/>\n",
       "<path class=\"bond-1 atom-1 atom-2\" d=\"M 235.3,166.5 L 214.5,184.6\" style=\"fill:none;fill-rule:evenodd;stroke:#0000FF;stroke-width:2.0px;stroke-linecap:butt;stroke-linejoin:miter;stroke-opacity:1\"/>\n",
       "<path class=\"bond-2 atom-1 atom-3\" d=\"M 256.1,148.4 L 302.8,200.7\" style=\"fill:none;fill-rule:evenodd;stroke:#000000;stroke-width:2.0px;stroke-linecap:butt;stroke-linejoin:miter;stroke-opacity:1\"/>\n",
       "<path class=\"bond-3 atom-3 atom-4\" d=\"M 302.8,200.7 L 294.2,226.3\" style=\"fill:none;fill-rule:evenodd;stroke:#000000;stroke-width:2.0px;stroke-linecap:butt;stroke-linejoin:miter;stroke-opacity:1\"/>\n",
       "<path class=\"bond-3 atom-3 atom-4\" d=\"M 294.2,226.3 L 285.6,251.8\" style=\"fill:none;fill-rule:evenodd;stroke:#FF0000;stroke-width:2.0px;stroke-linecap:butt;stroke-linejoin:miter;stroke-opacity:1\"/>\n",
       "<path class=\"bond-4 atom-3 atom-5\" d=\"M 300.8,206.6 L 329.5,200.6\" style=\"fill:none;fill-rule:evenodd;stroke:#000000;stroke-width:2.0px;stroke-linecap:butt;stroke-linejoin:miter;stroke-opacity:1\"/>\n",
       "<path class=\"bond-4 atom-3 atom-5\" d=\"M 329.5,200.6 L 358.2,194.6\" style=\"fill:none;fill-rule:evenodd;stroke:#FF0000;stroke-width:2.0px;stroke-linecap:butt;stroke-linejoin:miter;stroke-opacity:1\"/>\n",
       "<path class=\"bond-4 atom-3 atom-5\" d=\"M 298.7,196.1 L 327.3,190.1\" style=\"fill:none;fill-rule:evenodd;stroke:#000000;stroke-width:2.0px;stroke-linecap:butt;stroke-linejoin:miter;stroke-opacity:1\"/>\n",
       "<path class=\"bond-4 atom-3 atom-5\" d=\"M 327.3,190.1 L 356.0,184.1\" style=\"fill:none;fill-rule:evenodd;stroke:#FF0000;stroke-width:2.0px;stroke-linecap:butt;stroke-linejoin:miter;stroke-opacity:1\"/>\n",
       "<path class=\"bond-5 atom-0 atom-6\" d=\"M 276.5,80.1 L 331.6,94.8\" style=\"fill:none;fill-rule:evenodd;stroke:#000000;stroke-width:2.0px;stroke-linecap:butt;stroke-linejoin:miter;stroke-opacity:1\"/>\n",
       "<path class=\"bond-6 atom-0 atom-7\" d=\"M 276.5,80.1 L 312.5,42.8\" style=\"fill:none;fill-rule:evenodd;stroke:#000000;stroke-width:2.0px;stroke-linecap:butt;stroke-linejoin:miter;stroke-opacity:1\"/>\n",
       "<path class=\"bond-7 atom-0 atom-8\" d=\"M 276.5,80.1 L 238.5,42.7\" style=\"fill:none;fill-rule:evenodd;stroke:#000000;stroke-width:2.0px;stroke-linecap:butt;stroke-linejoin:miter;stroke-opacity:1\"/>\n",
       "<path class=\"bond-8 atom-1 atom-9\" d=\"M 252.7,147.4 L 253.0,146.6\" style=\"fill:none;fill-rule:evenodd;stroke:#000000;stroke-width:1.0px;stroke-linecap:butt;stroke-linejoin:miter;stroke-opacity:1\"/>\n",
       "<path class=\"bond-8 atom-1 atom-9\" d=\"M 249.3,146.3 L 250.0,144.8\" style=\"fill:none;fill-rule:evenodd;stroke:#000000;stroke-width:1.0px;stroke-linecap:butt;stroke-linejoin:miter;stroke-opacity:1\"/>\n",
       "<path class=\"bond-8 atom-1 atom-9\" d=\"M 245.9,145.3 L 246.9,143.0\" style=\"fill:none;fill-rule:evenodd;stroke:#000000;stroke-width:1.0px;stroke-linecap:butt;stroke-linejoin:miter;stroke-opacity:1\"/>\n",
       "<path class=\"bond-8 atom-1 atom-9\" d=\"M 242.5,144.3 L 243.9,141.2\" style=\"fill:none;fill-rule:evenodd;stroke:#000000;stroke-width:1.0px;stroke-linecap:butt;stroke-linejoin:miter;stroke-opacity:1\"/>\n",
       "<path class=\"bond-8 atom-1 atom-9\" d=\"M 239.2,143.2 L 240.8,139.4\" style=\"fill:none;fill-rule:evenodd;stroke:#000000;stroke-width:1.0px;stroke-linecap:butt;stroke-linejoin:miter;stroke-opacity:1\"/>\n",
       "<path class=\"bond-8 atom-1 atom-9\" d=\"M 235.8,142.2 L 237.8,137.7\" style=\"fill:none;fill-rule:evenodd;stroke:#000000;stroke-width:1.0px;stroke-linecap:butt;stroke-linejoin:miter;stroke-opacity:1\"/>\n",
       "<path class=\"bond-8 atom-1 atom-9\" d=\"M 232.4,141.1 L 234.7,135.9\" style=\"fill:none;fill-rule:evenodd;stroke:#000000;stroke-width:1.0px;stroke-linecap:butt;stroke-linejoin:miter;stroke-opacity:1\"/>\n",
       "<path class=\"bond-8 atom-1 atom-9\" d=\"M 229.0,140.1 L 231.6,134.1\" style=\"fill:none;fill-rule:evenodd;stroke:#000000;stroke-width:1.0px;stroke-linecap:butt;stroke-linejoin:miter;stroke-opacity:1\"/>\n",
       "<path class=\"bond-8 atom-1 atom-9\" d=\"M 225.6,139.1 L 228.6,132.3\" style=\"fill:none;fill-rule:evenodd;stroke:#000000;stroke-width:1.0px;stroke-linecap:butt;stroke-linejoin:miter;stroke-opacity:1\"/>\n",
       "<path class=\"bond-8 atom-1 atom-9\" d=\"M 222.2,138.0 L 225.5,130.5\" style=\"fill:none;fill-rule:evenodd;stroke:#000000;stroke-width:1.0px;stroke-linecap:butt;stroke-linejoin:miter;stroke-opacity:1\"/>\n",
       "<path class=\"bond-8 atom-1 atom-9\" d=\"M 218.8,137.0 L 222.5,128.7\" style=\"fill:none;fill-rule:evenodd;stroke:#000000;stroke-width:1.0px;stroke-linecap:butt;stroke-linejoin:miter;stroke-opacity:1\"/>\n",
       "<path class=\"bond-8 atom-1 atom-9\" d=\"M 215.5,135.9 L 219.4,126.9\" style=\"fill:none;fill-rule:evenodd;stroke:#000000;stroke-width:1.0px;stroke-linecap:butt;stroke-linejoin:miter;stroke-opacity:1\"/>\n",
       "<path class=\"bond-8 atom-1 atom-9\" d=\"M 212.1,134.9 L 216.4,125.1\" style=\"fill:none;fill-rule:evenodd;stroke:#000000;stroke-width:1.0px;stroke-linecap:butt;stroke-linejoin:miter;stroke-opacity:1\"/>\n",
       "<path class=\"bond-9 atom-2 atom-10\" d=\"M 182.3,188.1 L 170.2,176.0\" style=\"fill:none;fill-rule:evenodd;stroke:#0000FF;stroke-width:2.0px;stroke-linecap:butt;stroke-linejoin:miter;stroke-opacity:1\"/>\n",
       "<path class=\"bond-9 atom-2 atom-10\" d=\"M 170.2,176.0 L 158.2,163.9\" style=\"fill:none;fill-rule:evenodd;stroke:#000000;stroke-width:2.0px;stroke-linecap:butt;stroke-linejoin:miter;stroke-opacity:1\"/>\n",
       "<path class=\"bond-10 atom-2 atom-11\" d=\"M 182.3,204.3 L 160.7,209.2\" style=\"fill:none;fill-rule:evenodd;stroke:#0000FF;stroke-width:2.0px;stroke-linecap:butt;stroke-linejoin:miter;stroke-opacity:1\"/>\n",
       "<path class=\"bond-10 atom-2 atom-11\" d=\"M 160.7,209.2 L 139.1,214.2\" style=\"fill:none;fill-rule:evenodd;stroke:#000000;stroke-width:2.0px;stroke-linecap:butt;stroke-linejoin:miter;stroke-opacity:1\"/>\n",
       "<path class=\"bond-11 atom-2 atom-12\" d=\"M 198.8,217.8 L 202.6,236.2\" style=\"fill:none;fill-rule:evenodd;stroke:#0000FF;stroke-width:2.0px;stroke-linecap:butt;stroke-linejoin:miter;stroke-opacity:1\"/>\n",
       "<path class=\"bond-11 atom-2 atom-12\" d=\"M 202.6,236.2 L 206.5,254.6\" style=\"fill:none;fill-rule:evenodd;stroke:#000000;stroke-width:2.0px;stroke-linecap:butt;stroke-linejoin:miter;stroke-opacity:1\"/>\n",
       "<path d=\"M 300.4,198.1 L 302.8,200.7 L 302.3,202.0\" style=\"fill:none;stroke:#000000;stroke-width:2.0px;stroke-linecap:butt;stroke-linejoin:miter;stroke-opacity:1;\"/>\n",
       "<path class=\"atom-2\" d=\"M 189.1 187.1 L 198.4 202.1 Q 199.3 203.6, 200.8 206.2 Q 202.3 208.9, 202.4 209.1 L 202.4 187.1 L 206.1 187.1 L 206.1 215.4 L 202.2 215.4 L 192.3 199.0 Q 191.1 197.1, 189.9 194.9 Q 188.7 192.7, 188.3 192.0 L 188.3 215.4 L 184.6 215.4 L 184.6 187.1 L 189.1 187.1 \" fill=\"#0000FF\"/>\n",
       "<path class=\"atom-2\" d=\"M 211.4 192.2 L 216.4 192.2 L 216.4 186.9 L 218.6 186.9 L 218.6 192.2 L 223.8 192.2 L 223.8 194.1 L 218.6 194.1 L 218.6 199.4 L 216.4 199.4 L 216.4 194.1 L 211.4 194.1 L 211.4 192.2 \" fill=\"#0000FF\"/>\n",
       "<path class=\"atom-4\" d=\"M 267.0 268.5 Q 267.0 261.7, 270.4 257.9 Q 273.7 254.1, 280.0 254.1 Q 286.3 254.1, 289.6 257.9 Q 293.0 261.7, 293.0 268.5 Q 293.0 275.4, 289.6 279.3 Q 286.2 283.2, 280.0 283.2 Q 273.8 283.2, 270.4 279.3 Q 267.0 275.4, 267.0 268.5 M 280.0 280.0 Q 284.3 280.0, 286.6 277.1 Q 289.0 274.2, 289.0 268.5 Q 289.0 263.0, 286.6 260.2 Q 284.3 257.3, 280.0 257.3 Q 275.7 257.3, 273.3 260.1 Q 271.0 262.9, 271.0 268.5 Q 271.0 274.2, 273.3 277.1 Q 275.7 280.0, 280.0 280.0 \" fill=\"#FF0000\"/>\n",
       "<path class=\"atom-4\" d=\"M 297.0 258.7 L 306.7 258.7 L 306.7 260.8 L 297.0 260.8 L 297.0 258.7 \" fill=\"#FF0000\"/>\n",
       "<path class=\"atom-5\" d=\"M 359.5 186.3 Q 359.5 179.5, 362.8 175.7 Q 366.2 171.9, 372.5 171.9 Q 378.7 171.9, 382.1 175.7 Q 385.5 179.5, 385.5 186.3 Q 385.5 193.1, 382.1 197.1 Q 378.7 200.9, 372.5 200.9 Q 366.2 200.9, 362.8 197.1 Q 359.5 193.2, 359.5 186.3 M 372.5 197.7 Q 376.8 197.7, 379.1 194.9 Q 381.5 191.9, 381.5 186.3 Q 381.5 180.7, 379.1 177.9 Q 376.8 175.1, 372.5 175.1 Q 368.1 175.1, 365.8 177.9 Q 363.5 180.7, 363.5 186.3 Q 363.5 192.0, 365.8 194.9 Q 368.1 197.7, 372.5 197.7 \" fill=\"#FF0000\"/>\n",
       "<path class=\"atom-6\" d=\"M 334.0 84.2 L 337.8 84.2 L 337.8 96.2 L 352.3 96.2 L 352.3 84.2 L 356.1 84.2 L 356.1 112.5 L 352.3 112.5 L 352.3 99.4 L 337.8 99.4 L 337.8 112.5 L 334.0 112.5 L 334.0 84.2 \" fill=\"#000000\"/>\n",
       "<path class=\"atom-7\" d=\"M 314.9 14.7 L 318.7 14.7 L 318.7 26.7 L 333.2 26.7 L 333.2 14.7 L 337.0 14.7 L 337.0 43.0 L 333.2 43.0 L 333.2 29.9 L 318.7 29.9 L 318.7 43.0 L 314.9 43.0 L 314.9 14.7 \" fill=\"#000000\"/>\n",
       "<path class=\"atom-8\" d=\"M 214.0 15.3 L 217.8 15.3 L 217.8 27.3 L 232.3 27.3 L 232.3 15.3 L 236.2 15.3 L 236.2 43.6 L 232.3 43.6 L 232.3 30.5 L 217.8 30.5 L 217.8 43.6 L 214.0 43.6 L 214.0 15.3 \" fill=\"#000000\"/>\n",
       "<path class=\"atom-9\" d=\"M 187.4 108.9 L 191.2 108.9 L 191.2 120.9 L 205.7 120.9 L 205.7 108.9 L 209.5 108.9 L 209.5 137.2 L 205.7 137.2 L 205.7 124.1 L 191.2 124.1 L 191.2 137.2 L 187.4 137.2 L 187.4 108.9 \" fill=\"#000000\"/>\n",
       "<path class=\"atom-10\" d=\"M 133.7 136.2 L 137.5 136.2 L 137.5 148.3 L 152.0 148.3 L 152.0 136.2 L 155.8 136.2 L 155.8 164.5 L 152.0 164.5 L 152.0 151.5 L 137.5 151.5 L 137.5 164.5 L 133.7 164.5 L 133.7 136.2 \" fill=\"#000000\"/>\n",
       "<path class=\"atom-11\" d=\"M 114.5 203.1 L 118.4 203.1 L 118.4 215.1 L 132.9 215.1 L 132.9 203.1 L 136.7 203.1 L 136.7 231.4 L 132.9 231.4 L 132.9 218.3 L 118.4 218.3 L 118.4 231.4 L 114.5 231.4 L 114.5 203.1 \" fill=\"#000000\"/>\n",
       "<path class=\"atom-12\" d=\"M 198.8 257.0 L 202.7 257.0 L 202.7 269.0 L 217.2 269.0 L 217.2 257.0 L 221.0 257.0 L 221.0 285.3 L 217.2 285.3 L 217.2 272.2 L 202.7 272.2 L 202.7 285.3 L 198.8 285.3 L 198.8 257.0 \" fill=\"#000000\"/>\n",
       "</svg>"
      ],
      "text/plain": [
       "<IPython.core.display.SVG object>"
      ]
     },
     "execution_count": 9,
     "metadata": {},
     "output_type": "execute_result"
    }
   ],
   "source": [
    "sdf_path = Molecule.from_file(\"zw_l_alanine.sdf\")\n",
    "assert zw_l_alanine.is_isomorphic_with(sdf_path)\n",
    "sdf_path.visualize()"
   ]
  },
  {
   "cell_type": "markdown",
   "id": "3508a6ed",
   "metadata": {},
   "source": [
    "### From SDF file object\n",
    "\n",
    "`from_file()` can also take a file object, rather than a path. Note that the object must be in binary mode!"
   ]
  },
  {
   "cell_type": "code",
   "execution_count": 10,
   "id": "1cecd71c",
   "metadata": {},
   "outputs": [
    {
     "data": {
      "image/svg+xml": [
       "<svg xmlns=\"http://www.w3.org/2000/svg\" xmlns:rdkit=\"http://www.rdkit.org/xml\" xmlns:xlink=\"http://www.w3.org/1999/xlink\" version=\"1.1\" baseProfile=\"full\" xml:space=\"preserve\" width=\"500px\" height=\"300px\" viewBox=\"0 0 500 300\">\n",
       "<!-- END OF HEADER -->\n",
       "<rect style=\"opacity:1.0;fill:#FFFFFF;stroke:none\" width=\"500.0\" height=\"300.0\" x=\"0.0\" y=\"0.0\"> </rect>\n",
       "<path class=\"bond-0 atom-0 atom-1\" d=\"M 276.5,80.1 L 256.1,148.4\" style=\"fill:none;fill-rule:evenodd;stroke:#000000;stroke-width:2.0px;stroke-linecap:butt;stroke-linejoin:miter;stroke-opacity:1\"/>\n",
       "<path class=\"bond-1 atom-1 atom-2\" d=\"M 256.1,148.4 L 235.3,166.5\" style=\"fill:none;fill-rule:evenodd;stroke:#000000;stroke-width:2.0px;stroke-linecap:butt;stroke-linejoin:miter;stroke-opacity:1\"/>\n",
       "<path class=\"bond-1 atom-1 atom-2\" d=\"M 235.3,166.5 L 214.5,184.6\" style=\"fill:none;fill-rule:evenodd;stroke:#0000FF;stroke-width:2.0px;stroke-linecap:butt;stroke-linejoin:miter;stroke-opacity:1\"/>\n",
       "<path class=\"bond-2 atom-1 atom-3\" d=\"M 256.1,148.4 L 302.8,200.7\" style=\"fill:none;fill-rule:evenodd;stroke:#000000;stroke-width:2.0px;stroke-linecap:butt;stroke-linejoin:miter;stroke-opacity:1\"/>\n",
       "<path class=\"bond-3 atom-3 atom-4\" d=\"M 302.8,200.7 L 294.2,226.3\" style=\"fill:none;fill-rule:evenodd;stroke:#000000;stroke-width:2.0px;stroke-linecap:butt;stroke-linejoin:miter;stroke-opacity:1\"/>\n",
       "<path class=\"bond-3 atom-3 atom-4\" d=\"M 294.2,226.3 L 285.6,251.8\" style=\"fill:none;fill-rule:evenodd;stroke:#FF0000;stroke-width:2.0px;stroke-linecap:butt;stroke-linejoin:miter;stroke-opacity:1\"/>\n",
       "<path class=\"bond-4 atom-3 atom-5\" d=\"M 300.8,206.6 L 329.5,200.6\" style=\"fill:none;fill-rule:evenodd;stroke:#000000;stroke-width:2.0px;stroke-linecap:butt;stroke-linejoin:miter;stroke-opacity:1\"/>\n",
       "<path class=\"bond-4 atom-3 atom-5\" d=\"M 329.5,200.6 L 358.2,194.6\" style=\"fill:none;fill-rule:evenodd;stroke:#FF0000;stroke-width:2.0px;stroke-linecap:butt;stroke-linejoin:miter;stroke-opacity:1\"/>\n",
       "<path class=\"bond-4 atom-3 atom-5\" d=\"M 298.7,196.1 L 327.3,190.1\" style=\"fill:none;fill-rule:evenodd;stroke:#000000;stroke-width:2.0px;stroke-linecap:butt;stroke-linejoin:miter;stroke-opacity:1\"/>\n",
       "<path class=\"bond-4 atom-3 atom-5\" d=\"M 327.3,190.1 L 356.0,184.1\" style=\"fill:none;fill-rule:evenodd;stroke:#FF0000;stroke-width:2.0px;stroke-linecap:butt;stroke-linejoin:miter;stroke-opacity:1\"/>\n",
       "<path class=\"bond-5 atom-0 atom-6\" d=\"M 276.5,80.1 L 331.6,94.8\" style=\"fill:none;fill-rule:evenodd;stroke:#000000;stroke-width:2.0px;stroke-linecap:butt;stroke-linejoin:miter;stroke-opacity:1\"/>\n",
       "<path class=\"bond-6 atom-0 atom-7\" d=\"M 276.5,80.1 L 312.5,42.8\" style=\"fill:none;fill-rule:evenodd;stroke:#000000;stroke-width:2.0px;stroke-linecap:butt;stroke-linejoin:miter;stroke-opacity:1\"/>\n",
       "<path class=\"bond-7 atom-0 atom-8\" d=\"M 276.5,80.1 L 238.5,42.7\" style=\"fill:none;fill-rule:evenodd;stroke:#000000;stroke-width:2.0px;stroke-linecap:butt;stroke-linejoin:miter;stroke-opacity:1\"/>\n",
       "<path class=\"bond-8 atom-1 atom-9\" d=\"M 252.7,147.4 L 253.0,146.6\" style=\"fill:none;fill-rule:evenodd;stroke:#000000;stroke-width:1.0px;stroke-linecap:butt;stroke-linejoin:miter;stroke-opacity:1\"/>\n",
       "<path class=\"bond-8 atom-1 atom-9\" d=\"M 249.3,146.3 L 250.0,144.8\" style=\"fill:none;fill-rule:evenodd;stroke:#000000;stroke-width:1.0px;stroke-linecap:butt;stroke-linejoin:miter;stroke-opacity:1\"/>\n",
       "<path class=\"bond-8 atom-1 atom-9\" d=\"M 245.9,145.3 L 246.9,143.0\" style=\"fill:none;fill-rule:evenodd;stroke:#000000;stroke-width:1.0px;stroke-linecap:butt;stroke-linejoin:miter;stroke-opacity:1\"/>\n",
       "<path class=\"bond-8 atom-1 atom-9\" d=\"M 242.5,144.3 L 243.9,141.2\" style=\"fill:none;fill-rule:evenodd;stroke:#000000;stroke-width:1.0px;stroke-linecap:butt;stroke-linejoin:miter;stroke-opacity:1\"/>\n",
       "<path class=\"bond-8 atom-1 atom-9\" d=\"M 239.2,143.2 L 240.8,139.4\" style=\"fill:none;fill-rule:evenodd;stroke:#000000;stroke-width:1.0px;stroke-linecap:butt;stroke-linejoin:miter;stroke-opacity:1\"/>\n",
       "<path class=\"bond-8 atom-1 atom-9\" d=\"M 235.8,142.2 L 237.8,137.7\" style=\"fill:none;fill-rule:evenodd;stroke:#000000;stroke-width:1.0px;stroke-linecap:butt;stroke-linejoin:miter;stroke-opacity:1\"/>\n",
       "<path class=\"bond-8 atom-1 atom-9\" d=\"M 232.4,141.1 L 234.7,135.9\" style=\"fill:none;fill-rule:evenodd;stroke:#000000;stroke-width:1.0px;stroke-linecap:butt;stroke-linejoin:miter;stroke-opacity:1\"/>\n",
       "<path class=\"bond-8 atom-1 atom-9\" d=\"M 229.0,140.1 L 231.6,134.1\" style=\"fill:none;fill-rule:evenodd;stroke:#000000;stroke-width:1.0px;stroke-linecap:butt;stroke-linejoin:miter;stroke-opacity:1\"/>\n",
       "<path class=\"bond-8 atom-1 atom-9\" d=\"M 225.6,139.1 L 228.6,132.3\" style=\"fill:none;fill-rule:evenodd;stroke:#000000;stroke-width:1.0px;stroke-linecap:butt;stroke-linejoin:miter;stroke-opacity:1\"/>\n",
       "<path class=\"bond-8 atom-1 atom-9\" d=\"M 222.2,138.0 L 225.5,130.5\" style=\"fill:none;fill-rule:evenodd;stroke:#000000;stroke-width:1.0px;stroke-linecap:butt;stroke-linejoin:miter;stroke-opacity:1\"/>\n",
       "<path class=\"bond-8 atom-1 atom-9\" d=\"M 218.8,137.0 L 222.5,128.7\" style=\"fill:none;fill-rule:evenodd;stroke:#000000;stroke-width:1.0px;stroke-linecap:butt;stroke-linejoin:miter;stroke-opacity:1\"/>\n",
       "<path class=\"bond-8 atom-1 atom-9\" d=\"M 215.5,135.9 L 219.4,126.9\" style=\"fill:none;fill-rule:evenodd;stroke:#000000;stroke-width:1.0px;stroke-linecap:butt;stroke-linejoin:miter;stroke-opacity:1\"/>\n",
       "<path class=\"bond-8 atom-1 atom-9\" d=\"M 212.1,134.9 L 216.4,125.1\" style=\"fill:none;fill-rule:evenodd;stroke:#000000;stroke-width:1.0px;stroke-linecap:butt;stroke-linejoin:miter;stroke-opacity:1\"/>\n",
       "<path class=\"bond-9 atom-2 atom-10\" d=\"M 182.3,188.1 L 170.2,176.0\" style=\"fill:none;fill-rule:evenodd;stroke:#0000FF;stroke-width:2.0px;stroke-linecap:butt;stroke-linejoin:miter;stroke-opacity:1\"/>\n",
       "<path class=\"bond-9 atom-2 atom-10\" d=\"M 170.2,176.0 L 158.2,163.9\" style=\"fill:none;fill-rule:evenodd;stroke:#000000;stroke-width:2.0px;stroke-linecap:butt;stroke-linejoin:miter;stroke-opacity:1\"/>\n",
       "<path class=\"bond-10 atom-2 atom-11\" d=\"M 182.3,204.3 L 160.7,209.2\" style=\"fill:none;fill-rule:evenodd;stroke:#0000FF;stroke-width:2.0px;stroke-linecap:butt;stroke-linejoin:miter;stroke-opacity:1\"/>\n",
       "<path class=\"bond-10 atom-2 atom-11\" d=\"M 160.7,209.2 L 139.1,214.2\" style=\"fill:none;fill-rule:evenodd;stroke:#000000;stroke-width:2.0px;stroke-linecap:butt;stroke-linejoin:miter;stroke-opacity:1\"/>\n",
       "<path class=\"bond-11 atom-2 atom-12\" d=\"M 198.8,217.8 L 202.6,236.2\" style=\"fill:none;fill-rule:evenodd;stroke:#0000FF;stroke-width:2.0px;stroke-linecap:butt;stroke-linejoin:miter;stroke-opacity:1\"/>\n",
       "<path class=\"bond-11 atom-2 atom-12\" d=\"M 202.6,236.2 L 206.5,254.6\" style=\"fill:none;fill-rule:evenodd;stroke:#000000;stroke-width:2.0px;stroke-linecap:butt;stroke-linejoin:miter;stroke-opacity:1\"/>\n",
       "<path d=\"M 300.4,198.1 L 302.8,200.7 L 302.3,202.0\" style=\"fill:none;stroke:#000000;stroke-width:2.0px;stroke-linecap:butt;stroke-linejoin:miter;stroke-opacity:1;\"/>\n",
       "<path class=\"atom-2\" d=\"M 189.1 187.1 L 198.4 202.1 Q 199.3 203.6, 200.8 206.2 Q 202.3 208.9, 202.4 209.1 L 202.4 187.1 L 206.1 187.1 L 206.1 215.4 L 202.2 215.4 L 192.3 199.0 Q 191.1 197.1, 189.9 194.9 Q 188.7 192.7, 188.3 192.0 L 188.3 215.4 L 184.6 215.4 L 184.6 187.1 L 189.1 187.1 \" fill=\"#0000FF\"/>\n",
       "<path class=\"atom-2\" d=\"M 211.4 192.2 L 216.4 192.2 L 216.4 186.9 L 218.6 186.9 L 218.6 192.2 L 223.8 192.2 L 223.8 194.1 L 218.6 194.1 L 218.6 199.4 L 216.4 199.4 L 216.4 194.1 L 211.4 194.1 L 211.4 192.2 \" fill=\"#0000FF\"/>\n",
       "<path class=\"atom-4\" d=\"M 267.0 268.5 Q 267.0 261.7, 270.4 257.9 Q 273.7 254.1, 280.0 254.1 Q 286.3 254.1, 289.6 257.9 Q 293.0 261.7, 293.0 268.5 Q 293.0 275.4, 289.6 279.3 Q 286.2 283.2, 280.0 283.2 Q 273.8 283.2, 270.4 279.3 Q 267.0 275.4, 267.0 268.5 M 280.0 280.0 Q 284.3 280.0, 286.6 277.1 Q 289.0 274.2, 289.0 268.5 Q 289.0 263.0, 286.6 260.2 Q 284.3 257.3, 280.0 257.3 Q 275.7 257.3, 273.3 260.1 Q 271.0 262.9, 271.0 268.5 Q 271.0 274.2, 273.3 277.1 Q 275.7 280.0, 280.0 280.0 \" fill=\"#FF0000\"/>\n",
       "<path class=\"atom-4\" d=\"M 297.0 258.7 L 306.7 258.7 L 306.7 260.8 L 297.0 260.8 L 297.0 258.7 \" fill=\"#FF0000\"/>\n",
       "<path class=\"atom-5\" d=\"M 359.5 186.3 Q 359.5 179.5, 362.8 175.7 Q 366.2 171.9, 372.5 171.9 Q 378.7 171.9, 382.1 175.7 Q 385.5 179.5, 385.5 186.3 Q 385.5 193.1, 382.1 197.1 Q 378.7 200.9, 372.5 200.9 Q 366.2 200.9, 362.8 197.1 Q 359.5 193.2, 359.5 186.3 M 372.5 197.7 Q 376.8 197.7, 379.1 194.9 Q 381.5 191.9, 381.5 186.3 Q 381.5 180.7, 379.1 177.9 Q 376.8 175.1, 372.5 175.1 Q 368.1 175.1, 365.8 177.9 Q 363.5 180.7, 363.5 186.3 Q 363.5 192.0, 365.8 194.9 Q 368.1 197.7, 372.5 197.7 \" fill=\"#FF0000\"/>\n",
       "<path class=\"atom-6\" d=\"M 334.0 84.2 L 337.8 84.2 L 337.8 96.2 L 352.3 96.2 L 352.3 84.2 L 356.1 84.2 L 356.1 112.5 L 352.3 112.5 L 352.3 99.4 L 337.8 99.4 L 337.8 112.5 L 334.0 112.5 L 334.0 84.2 \" fill=\"#000000\"/>\n",
       "<path class=\"atom-7\" d=\"M 314.9 14.7 L 318.7 14.7 L 318.7 26.7 L 333.2 26.7 L 333.2 14.7 L 337.0 14.7 L 337.0 43.0 L 333.2 43.0 L 333.2 29.9 L 318.7 29.9 L 318.7 43.0 L 314.9 43.0 L 314.9 14.7 \" fill=\"#000000\"/>\n",
       "<path class=\"atom-8\" d=\"M 214.0 15.3 L 217.8 15.3 L 217.8 27.3 L 232.3 27.3 L 232.3 15.3 L 236.2 15.3 L 236.2 43.6 L 232.3 43.6 L 232.3 30.5 L 217.8 30.5 L 217.8 43.6 L 214.0 43.6 L 214.0 15.3 \" fill=\"#000000\"/>\n",
       "<path class=\"atom-9\" d=\"M 187.4 108.9 L 191.2 108.9 L 191.2 120.9 L 205.7 120.9 L 205.7 108.9 L 209.5 108.9 L 209.5 137.2 L 205.7 137.2 L 205.7 124.1 L 191.2 124.1 L 191.2 137.2 L 187.4 137.2 L 187.4 108.9 \" fill=\"#000000\"/>\n",
       "<path class=\"atom-10\" d=\"M 133.7 136.2 L 137.5 136.2 L 137.5 148.3 L 152.0 148.3 L 152.0 136.2 L 155.8 136.2 L 155.8 164.5 L 152.0 164.5 L 152.0 151.5 L 137.5 151.5 L 137.5 164.5 L 133.7 164.5 L 133.7 136.2 \" fill=\"#000000\"/>\n",
       "<path class=\"atom-11\" d=\"M 114.5 203.1 L 118.4 203.1 L 118.4 215.1 L 132.9 215.1 L 132.9 203.1 L 136.7 203.1 L 136.7 231.4 L 132.9 231.4 L 132.9 218.3 L 118.4 218.3 L 118.4 231.4 L 114.5 231.4 L 114.5 203.1 \" fill=\"#000000\"/>\n",
       "<path class=\"atom-12\" d=\"M 198.8 257.0 L 202.7 257.0 L 202.7 269.0 L 217.2 269.0 L 217.2 257.0 L 221.0 257.0 L 221.0 285.3 L 217.2 285.3 L 217.2 272.2 L 202.7 272.2 L 202.7 285.3 L 198.8 285.3 L 198.8 257.0 \" fill=\"#000000\"/>\n",
       "</svg>"
      ],
      "text/plain": [
       "<IPython.core.display.SVG object>"
      ]
     },
     "execution_count": 10,
     "metadata": {},
     "output_type": "execute_result"
    }
   ],
   "source": [
    "with open(\"zw_l_alanine.sdf\", mode=\"rb\") as file:\n",
    "    sdf_object = Molecule.from_file(file, file_format=\"SDF\")\n",
    "    \n",
    "assert zw_l_alanine.is_isomorphic_with(sdf_object)\n",
    "sdf_object.visualize()"
   ]
  },
  {
   "cell_type": "markdown",
   "id": "2554b932",
   "metadata": {},
   "source": [
    "### From PDB file\n",
    "\n",
    "The [`Topology.from_pdb()`] method is now the recommended method for loading all PDB files. It can interpret proteins, waters, ions, and small molecules from a PDB file as a Topology. It can infer the full chemical graph of the canonical amino acids (26 including protonation states) in capped and uncapped forms. It does this according to the [RCSB chemical component dictionary] --- the information is not explicitly in the input PDB file. The following block loads a PDB file containing a single protein.\n",
    "\n",
    "[`Topology.from_pdb()`]: openff.toolkit.topology.Topology.from_pdb\n",
    "[RCSB chemical component dictionary]: https://www.wwpdb.org/data/ccd"
   ]
  },
  {
   "cell_type": "code",
   "execution_count": 11,
   "id": "4f9d71e7",
   "metadata": {},
   "outputs": [
    {
     "data": {
      "application/vnd.jupyter.widget-view+json": {
       "model_id": "84e71dd777764e41b85d999bad067d28",
       "version_major": 2,
       "version_minor": 0
      },
      "text/plain": []
     },
     "metadata": {},
     "output_type": "display_data"
    },
    {
     "data": {
      "application/vnd.jupyter.widget-view+json": {
       "model_id": "0ce701e10d174fbbbd87d6abf77c7bb5",
       "version_major": 2,
       "version_minor": 0
      },
      "text/plain": [
       "NGLWidget()"
      ]
     },
     "metadata": {},
     "output_type": "display_data"
    }
   ],
   "source": [
    "from openff.toolkit.utils import get_data_file_path\n",
    "\n",
    "path = get_data_file_path('proteins/T4-protein.pdb')\n",
    "topology = Topology.from_pdb(path)\n",
    "protein = topology.molecule(0)\n",
    "protein.visualize(\"nglview\")"
   ]
  },
  {
   "cell_type": "markdown",
   "id": "94d1e78f-8311-45b7-94c7-16242fa6865f",
   "metadata": {},
   "source": [
    "The following block loads a PDB containing two small molecules from PDB and SMILES."
   ]
  },
  {
   "cell_type": "code",
   "execution_count": 12,
   "id": "a6e68022-6568-4a7e-9d75-c14224079505",
   "metadata": {
    "tags": []
   },
   "outputs": [
    {
     "data": {
      "application/vnd.jupyter.widget-view+json": {
       "model_id": "1286a5986b814fc0bcf76c14afb59198",
       "version_major": 2,
       "version_minor": 0
      },
      "text/plain": [
       "NGLWidget()"
      ]
     },
     "metadata": {},
     "output_type": "display_data"
    }
   ],
   "source": [
    "top_from_pdb_from_smiles = Topology.from_pdb(\n",
    "    get_data_file_path(\"molecules/po4_phenylphosphate.pdb\"), \n",
    "    unique_molecules=[Molecule.from_smiles(\"P(=O)([O-])([O-])([O-])\"),\n",
    "                      Molecule.from_smiles(\"C1=CC=CC=C1OP(=O)([O-1])([O-1])\")]\n",
    ") \n",
    "\n",
    "top_from_pdb_from_smiles.molecule(0).visualize('nglview')"
   ]
  },
  {
   "cell_type": "code",
   "execution_count": 13,
   "id": "21bba613-57bb-4ea0-bf87-a4cd6f5c63d5",
   "metadata": {
    "tags": []
   },
   "outputs": [
    {
     "data": {
      "application/vnd.jupyter.widget-view+json": {
       "model_id": "fa60ef129ab642828dc7bc6e72e841dc",
       "version_major": 2,
       "version_minor": 0
      },
      "text/plain": [
       "NGLWidget()"
      ]
     },
     "metadata": {},
     "output_type": "display_data"
    }
   ],
   "source": [
    "top_from_pdb_from_smiles.molecule(1).visualize('nglview')"
   ]
  },
  {
   "cell_type": "markdown",
   "id": "5906e016-a198-40ac-b79c-df04097ba17e",
   "metadata": {},
   "source": [
    "And for a maximalist example, the following block loads a single PDB file containing a protein, waters, ions, and a small molecule (the chemical identity of any small molecules must be provided with the `unique_molecules` keyword argument, and any small molecules' connectivity must have corresponding CONECT records in the PDB file)."
   ]
  },
  {
   "cell_type": "code",
   "execution_count": 14,
   "id": "c007183b-9a71-42aa-8e05-9f18fa2ef531",
   "metadata": {
    "tags": []
   },
   "outputs": [
    {
     "name": "stdout",
     "output_type": "stream",
     "text": [
      "[Cl-] : 12 molecule(s)\n",
      "[H]O[H] : 4413 molecule(s)\n",
      "protein : 1 molecule(s)\n",
      "[H]c1c(c(c2c(c1Oc3c(c(c(c(c3[H])F)[H])C#N)[H])C(C([C@@]2([H])O[H])(F)F)([H])[H])S(=O)(=O)C([H])([H])[H])[H] : 1 molecule(s)\n",
      "[Na+] : 17 molecule(s)\n"
     ]
    }
   ],
   "source": [
    "from openff.toolkit.utils import get_data_file_path\n",
    "import nglview\n",
    "\n",
    "ligand_path = get_data_file_path('molecules/PT2385.sdf')\n",
    "ligand = Molecule.from_file(ligand_path)\n",
    "\n",
    "complex_path = get_data_file_path('proteins/5tbm_complex_solv_box.pdb')\n",
    "topology = Topology.from_pdb(complex_path, unique_molecules=[ligand])\n",
    "\n",
    "molecule_smileses = [mol.to_smiles() for mol in topology.molecules]\n",
    "counts = molecule_smileses\n",
    "for smiles in sorted(set(molecule_smileses)):\n",
    "    count = molecule_smileses.count(smiles)\n",
    "    if len(smiles) > 1000:\n",
    "        smiles = \"protein\"\n",
    "    print(smiles, \":\", count, \"molecule(s)\")"
   ]
  },
  {
   "cell_type": "markdown",
   "id": "cbdde2f3",
   "metadata": {},
   "source": [
    "## Other string identification formats\n",
    "\n",
    "The OpenFF Toolkit supports a few text based molecular identity formats other than SMILES ([see above](#from-smiles))"
   ]
  },
  {
   "cell_type": "markdown",
   "id": "bcd5fce1",
   "metadata": {},
   "source": [
    "### From InChI\n",
    "\n",
    "The [`Molecule.from_inchi()`](openff.toolkit.topology.Molecule.from_inchi) method constructs a `Molecule` from an IUPAC [InChI](https://iupac.org/who-we-are/divisions/division-details/inchi/) string. Note that InChI cannot distinguish the zwitterionic form of alanine from the neutral form (see section 13.2 of the [InChI Technical FAQ](https://www.inchi-trust.org/technical-faq-2/)), so the toolkit defaults to the neutral form.\n",
    "\n",
    ":::{warning}\n",
    "The OpenFF Toolkit makes no guarantees about the atomic ordering produced by the `from_inchi` method. InChI is not intended to be an interchange format.\n",
    ":::"
   ]
  },
  {
   "cell_type": "code",
   "execution_count": 15,
   "id": "1ea7bb81",
   "metadata": {},
   "outputs": [
    {
     "data": {
      "image/svg+xml": [
       "<svg xmlns=\"http://www.w3.org/2000/svg\" xmlns:rdkit=\"http://www.rdkit.org/xml\" xmlns:xlink=\"http://www.w3.org/1999/xlink\" version=\"1.1\" baseProfile=\"full\" xml:space=\"preserve\" width=\"500px\" height=\"300px\" viewBox=\"0 0 500 300\">\n",
       "<!-- END OF HEADER -->\n",
       "<rect style=\"opacity:1.0;fill:#FFFFFF;stroke:none\" width=\"500.0\" height=\"300.0\" x=\"0.0\" y=\"0.0\"> </rect>\n",
       "<path class=\"bond-0 atom-0 atom-1\" d=\"M 265.0,69.7 L 249.2,128.4\" style=\"fill:none;fill-rule:evenodd;stroke:#000000;stroke-width:2.0px;stroke-linecap:butt;stroke-linejoin:miter;stroke-opacity:1\"/>\n",
       "<path class=\"bond-1 atom-1 atom-2\" d=\"M 249.2,128.4 L 292.1,171.6\" style=\"fill:none;fill-rule:evenodd;stroke:#000000;stroke-width:2.0px;stroke-linecap:butt;stroke-linejoin:miter;stroke-opacity:1\"/>\n",
       "<path class=\"bond-2 atom-1 atom-3\" d=\"M 249.2,128.4 L 233.5,144.0\" style=\"fill:none;fill-rule:evenodd;stroke:#000000;stroke-width:2.0px;stroke-linecap:butt;stroke-linejoin:miter;stroke-opacity:1\"/>\n",
       "<path class=\"bond-2 atom-1 atom-3\" d=\"M 233.5,144.0 L 217.9,159.6\" style=\"fill:none;fill-rule:evenodd;stroke:#0000FF;stroke-width:2.0px;stroke-linecap:butt;stroke-linejoin:miter;stroke-opacity:1\"/>\n",
       "<path class=\"bond-3 atom-2 atom-4\" d=\"M 290.8,176.6 L 314.5,170.3\" style=\"fill:none;fill-rule:evenodd;stroke:#000000;stroke-width:2.0px;stroke-linecap:butt;stroke-linejoin:miter;stroke-opacity:1\"/>\n",
       "<path class=\"bond-3 atom-2 atom-4\" d=\"M 314.5,170.3 L 338.2,164.0\" style=\"fill:none;fill-rule:evenodd;stroke:#FF0000;stroke-width:2.0px;stroke-linecap:butt;stroke-linejoin:miter;stroke-opacity:1\"/>\n",
       "<path class=\"bond-3 atom-2 atom-4\" d=\"M 288.4,167.8 L 312.2,161.5\" style=\"fill:none;fill-rule:evenodd;stroke:#000000;stroke-width:2.0px;stroke-linecap:butt;stroke-linejoin:miter;stroke-opacity:1\"/>\n",
       "<path class=\"bond-3 atom-2 atom-4\" d=\"M 312.2,161.5 L 335.9,155.2\" style=\"fill:none;fill-rule:evenodd;stroke:#FF0000;stroke-width:2.0px;stroke-linecap:butt;stroke-linejoin:miter;stroke-opacity:1\"/>\n",
       "<path class=\"bond-4 atom-2 atom-5\" d=\"M 292.1,171.6 L 286.2,193.4\" style=\"fill:none;fill-rule:evenodd;stroke:#000000;stroke-width:2.0px;stroke-linecap:butt;stroke-linejoin:miter;stroke-opacity:1\"/>\n",
       "<path class=\"bond-4 atom-2 atom-5\" d=\"M 286.2,193.4 L 280.3,215.2\" style=\"fill:none;fill-rule:evenodd;stroke:#FF0000;stroke-width:2.0px;stroke-linecap:butt;stroke-linejoin:miter;stroke-opacity:1\"/>\n",
       "<path class=\"bond-5 atom-0 atom-6\" d=\"M 265.0,69.7 L 311.7,82.3\" style=\"fill:none;fill-rule:evenodd;stroke:#000000;stroke-width:2.0px;stroke-linecap:butt;stroke-linejoin:miter;stroke-opacity:1\"/>\n",
       "<path class=\"bond-6 atom-0 atom-7\" d=\"M 265.0,69.7 L 296.0,38.8\" style=\"fill:none;fill-rule:evenodd;stroke:#000000;stroke-width:2.0px;stroke-linecap:butt;stroke-linejoin:miter;stroke-opacity:1\"/>\n",
       "<path class=\"bond-7 atom-0 atom-8\" d=\"M 265.0,69.7 L 234.2,38.7\" style=\"fill:none;fill-rule:evenodd;stroke:#000000;stroke-width:2.0px;stroke-linecap:butt;stroke-linejoin:miter;stroke-opacity:1\"/>\n",
       "<path class=\"bond-8 atom-1 atom-9\" d=\"M 245.6,127.9 L 245.8,127.2\" style=\"fill:none;fill-rule:evenodd;stroke:#000000;stroke-width:1.0px;stroke-linecap:butt;stroke-linejoin:miter;stroke-opacity:1\"/>\n",
       "<path class=\"bond-8 atom-1 atom-9\" d=\"M 242.1,127.3 L 242.5,125.9\" style=\"fill:none;fill-rule:evenodd;stroke:#000000;stroke-width:1.0px;stroke-linecap:butt;stroke-linejoin:miter;stroke-opacity:1\"/>\n",
       "<path class=\"bond-8 atom-1 atom-9\" d=\"M 238.6,126.7 L 239.1,124.6\" style=\"fill:none;fill-rule:evenodd;stroke:#000000;stroke-width:1.0px;stroke-linecap:butt;stroke-linejoin:miter;stroke-opacity:1\"/>\n",
       "<path class=\"bond-8 atom-1 atom-9\" d=\"M 235.1,126.1 L 235.8,123.4\" style=\"fill:none;fill-rule:evenodd;stroke:#000000;stroke-width:1.0px;stroke-linecap:butt;stroke-linejoin:miter;stroke-opacity:1\"/>\n",
       "<path class=\"bond-8 atom-1 atom-9\" d=\"M 231.6,125.5 L 232.5,122.1\" style=\"fill:none;fill-rule:evenodd;stroke:#000000;stroke-width:1.0px;stroke-linecap:butt;stroke-linejoin:miter;stroke-opacity:1\"/>\n",
       "<path class=\"bond-8 atom-1 atom-9\" d=\"M 228.0,124.9 L 229.1,120.8\" style=\"fill:none;fill-rule:evenodd;stroke:#000000;stroke-width:1.0px;stroke-linecap:butt;stroke-linejoin:miter;stroke-opacity:1\"/>\n",
       "<path class=\"bond-8 atom-1 atom-9\" d=\"M 224.5,124.3 L 225.8,119.6\" style=\"fill:none;fill-rule:evenodd;stroke:#000000;stroke-width:1.0px;stroke-linecap:butt;stroke-linejoin:miter;stroke-opacity:1\"/>\n",
       "<path class=\"bond-8 atom-1 atom-9\" d=\"M 221.0,123.7 L 222.4,118.3\" style=\"fill:none;fill-rule:evenodd;stroke:#000000;stroke-width:1.0px;stroke-linecap:butt;stroke-linejoin:miter;stroke-opacity:1\"/>\n",
       "<path class=\"bond-8 atom-1 atom-9\" d=\"M 217.5,123.2 L 219.1,117.1\" style=\"fill:none;fill-rule:evenodd;stroke:#000000;stroke-width:1.0px;stroke-linecap:butt;stroke-linejoin:miter;stroke-opacity:1\"/>\n",
       "<path class=\"bond-8 atom-1 atom-9\" d=\"M 213.9,122.6 L 215.8,115.8\" style=\"fill:none;fill-rule:evenodd;stroke:#000000;stroke-width:1.0px;stroke-linecap:butt;stroke-linejoin:miter;stroke-opacity:1\"/>\n",
       "<path class=\"bond-8 atom-1 atom-9\" d=\"M 210.4,122.0 L 212.4,114.5\" style=\"fill:none;fill-rule:evenodd;stroke:#000000;stroke-width:1.0px;stroke-linecap:butt;stroke-linejoin:miter;stroke-opacity:1\"/>\n",
       "<path class=\"bond-8 atom-1 atom-9\" d=\"M 206.9,121.4 L 209.1,113.3\" style=\"fill:none;fill-rule:evenodd;stroke:#000000;stroke-width:1.0px;stroke-linecap:butt;stroke-linejoin:miter;stroke-opacity:1\"/>\n",
       "<path class=\"bond-8 atom-1 atom-9\" d=\"M 203.4,120.8 L 205.7,112.0\" style=\"fill:none;fill-rule:evenodd;stroke:#000000;stroke-width:1.0px;stroke-linecap:butt;stroke-linejoin:miter;stroke-opacity:1\"/>\n",
       "<path class=\"bond-9 atom-3 atom-10\" d=\"M 194.2,168.2 L 176.8,163.5\" style=\"fill:none;fill-rule:evenodd;stroke:#0000FF;stroke-width:2.0px;stroke-linecap:butt;stroke-linejoin:miter;stroke-opacity:1\"/>\n",
       "<path class=\"bond-9 atom-3 atom-10\" d=\"M 176.8,163.5 L 159.4,158.8\" style=\"fill:none;fill-rule:evenodd;stroke:#000000;stroke-width:2.0px;stroke-linecap:butt;stroke-linejoin:miter;stroke-opacity:1\"/>\n",
       "<path class=\"bond-10 atom-3 atom-11\" d=\"M 210.0,186.3 L 213.9,200.8\" style=\"fill:none;fill-rule:evenodd;stroke:#0000FF;stroke-width:2.0px;stroke-linecap:butt;stroke-linejoin:miter;stroke-opacity:1\"/>\n",
       "<path class=\"bond-10 atom-3 atom-11\" d=\"M 213.9,200.8 L 217.7,215.3\" style=\"fill:none;fill-rule:evenodd;stroke:#000000;stroke-width:2.0px;stroke-linecap:butt;stroke-linejoin:miter;stroke-opacity:1\"/>\n",
       "<path class=\"bond-11 atom-5 atom-12\" d=\"M 290.1,244.2 L 298.6,252.8\" style=\"fill:none;fill-rule:evenodd;stroke:#FF0000;stroke-width:2.0px;stroke-linecap:butt;stroke-linejoin:miter;stroke-opacity:1\"/>\n",
       "<path class=\"bond-11 atom-5 atom-12\" d=\"M 298.6,252.8 L 307.1,261.3\" style=\"fill:none;fill-rule:evenodd;stroke:#000000;stroke-width:2.0px;stroke-linecap:butt;stroke-linejoin:miter;stroke-opacity:1\"/>\n",
       "<path d=\"M 290.0,169.4 L 292.1,171.6 L 291.8,172.7\" style=\"fill:none;stroke:#000000;stroke-width:2.0px;stroke-linecap:butt;stroke-linejoin:miter;stroke-opacity:1;\"/>\n",
       "<path class=\"atom-3\" d=\"M 200.3 158.5 L 208.8 172.2 Q 209.7 173.5, 211.0 176.0 Q 212.4 178.4, 212.4 178.6 L 212.4 158.5 L 215.9 158.5 L 215.9 184.3 L 212.3 184.3 L 203.2 169.4 Q 202.2 167.6, 201.0 165.6 Q 199.9 163.6, 199.6 163.0 L 199.6 184.3 L 196.2 184.3 L 196.2 158.5 L 200.3 158.5 \" fill=\"#0000FF\"/>\n",
       "<path class=\"atom-4\" d=\"M 339.1 156.0 Q 339.1 149.8, 342.2 146.3 Q 345.2 142.8, 351.0 142.8 Q 356.7 142.8, 359.8 146.3 Q 362.8 149.8, 362.8 156.0 Q 362.8 162.3, 359.7 165.8 Q 356.6 169.4, 351.0 169.4 Q 345.3 169.4, 342.2 165.8 Q 339.1 162.3, 339.1 156.0 M 351.0 166.5 Q 354.9 166.5, 357.0 163.8 Q 359.2 161.2, 359.2 156.0 Q 359.2 150.9, 357.0 148.4 Q 354.9 145.8, 351.0 145.8 Q 347.0 145.8, 344.9 148.3 Q 342.7 150.9, 342.7 156.0 Q 342.7 161.2, 344.9 163.8 Q 347.0 166.5, 351.0 166.5 \" fill=\"#FF0000\"/>\n",
       "<path class=\"atom-5\" d=\"M 264.4 230.4 Q 264.4 224.2, 267.5 220.7 Q 270.5 217.2, 276.3 217.2 Q 282.0 217.2, 285.1 220.7 Q 288.1 224.2, 288.1 230.4 Q 288.1 236.7, 285.0 240.3 Q 281.9 243.8, 276.3 243.8 Q 270.6 243.8, 267.5 240.3 Q 264.4 236.7, 264.4 230.4 M 276.3 240.9 Q 280.2 240.9, 282.3 238.2 Q 284.5 235.6, 284.5 230.4 Q 284.5 225.3, 282.3 222.8 Q 280.2 220.2, 276.3 220.2 Q 272.3 220.2, 270.2 222.7 Q 268.1 225.3, 268.1 230.4 Q 268.1 235.6, 270.2 238.2 Q 272.3 240.9, 276.3 240.9 \" fill=\"#FF0000\"/>\n",
       "<path class=\"atom-6\" d=\"M 313.7 72.6 L 317.2 72.6 L 317.2 83.6 L 330.4 83.6 L 330.4 72.6 L 333.9 72.6 L 333.9 98.5 L 330.4 98.5 L 330.4 86.5 L 317.2 86.5 L 317.2 98.5 L 313.7 98.5 L 313.7 72.6 \" fill=\"#000000\"/>\n",
       "<path class=\"atom-7\" d=\"M 298.0 13.8 L 301.5 13.8 L 301.5 24.8 L 314.8 24.8 L 314.8 13.8 L 318.3 13.8 L 318.3 39.7 L 314.8 39.7 L 314.8 27.7 L 301.5 27.7 L 301.5 39.7 L 298.0 39.7 L 298.0 13.8 \" fill=\"#000000\"/>\n",
       "<path class=\"atom-8\" d=\"M 212.0 13.6 L 215.5 13.6 L 215.5 24.6 L 228.7 24.6 L 228.7 13.6 L 232.2 13.6 L 232.2 39.5 L 228.7 39.5 L 228.7 27.6 L 215.5 27.6 L 215.5 39.5 L 212.0 39.5 L 212.0 13.6 \" fill=\"#000000\"/>\n",
       "<path class=\"atom-9\" d=\"M 180.3 99.7 L 183.8 99.7 L 183.8 110.6 L 197.0 110.6 L 197.0 99.7 L 200.5 99.7 L 200.5 125.5 L 197.0 125.5 L 197.0 113.6 L 183.8 113.6 L 183.8 125.5 L 180.3 125.5 L 180.3 99.7 \" fill=\"#000000\"/>\n",
       "<path class=\"atom-10\" d=\"M 137.2 142.6 L 140.7 142.6 L 140.7 153.6 L 153.9 153.6 L 153.9 142.6 L 157.4 142.6 L 157.4 168.5 L 153.9 168.5 L 153.9 156.5 L 140.7 156.5 L 140.7 168.5 L 137.2 168.5 L 137.2 142.6 \" fill=\"#000000\"/>\n",
       "<path class=\"atom-11\" d=\"M 211.6 217.3 L 215.1 217.3 L 215.1 228.3 L 228.3 228.3 L 228.3 217.3 L 231.8 217.3 L 231.8 243.1 L 228.3 243.1 L 228.3 231.2 L 215.1 231.2 L 215.1 243.1 L 211.6 243.1 L 211.6 217.3 \" fill=\"#000000\"/>\n",
       "<path class=\"atom-12\" d=\"M 309.1 260.5 L 312.6 260.5 L 312.6 271.5 L 325.9 271.5 L 325.9 260.5 L 329.4 260.5 L 329.4 286.4 L 325.9 286.4 L 325.9 274.4 L 312.6 274.4 L 312.6 286.4 L 309.1 286.4 L 309.1 260.5 \" fill=\"#000000\"/>\n",
       "</svg>"
      ],
      "text/plain": [
       "<IPython.core.display.SVG object>"
      ]
     },
     "execution_count": 15,
     "metadata": {},
     "output_type": "execute_result"
    }
   ],
   "source": [
    "inchi = Molecule.from_inchi(\"InChI=1S/C3H7NO2/c1-2(4)3(5)6/h2H,4H2,1H3,(H,5,6)/t2-/m0/s1\")  \n",
    "\n",
    "inchi.visualize()"
   ]
  },
  {
   "cell_type": "markdown",
   "id": "93592822",
   "metadata": {},
   "source": [
    "### From IUPAC name\n",
    "\n",
    "The [`Molecule.from_iupac()`](openff.toolkit.topology.Molecule.from_iupac) method constructs a `Molecule` from an IUPAC name.\n",
    "\n",
    ":::{important}\n",
    "This code requires the OpenEye toolkit.\n",
    ":::"
   ]
  },
  {
   "cell_type": "code",
   "execution_count": 16,
   "id": "839994a0",
   "metadata": {},
   "outputs": [
    {
     "data": {
      "image/svg+xml": [
       "<svg xmlns=\"http://www.w3.org/2000/svg\" xmlns:rdkit=\"http://www.rdkit.org/xml\" xmlns:xlink=\"http://www.w3.org/1999/xlink\" version=\"1.1\" baseProfile=\"full\" xml:space=\"preserve\" width=\"500px\" height=\"300px\" viewBox=\"0 0 500 300\">\n",
       "<!-- END OF HEADER -->\n",
       "<rect style=\"opacity:1.0;fill:#FFFFFF;stroke:none\" width=\"500.0\" height=\"300.0\" x=\"0.0\" y=\"0.0\"> </rect>\n",
       "<path class=\"bond-0 atom-2 atom-1\" d=\"M 249.2,142.8 L 292.6,93.2\" style=\"fill:none;fill-rule:evenodd;stroke:#000000;stroke-width:2.0px;stroke-linecap:butt;stroke-linejoin:miter;stroke-opacity:1\"/>\n",
       "<path class=\"bond-1 atom-3 atom-2\" d=\"M 269.1,206.9 L 249.2,142.8\" style=\"fill:none;fill-rule:evenodd;stroke:#000000;stroke-width:2.0px;stroke-linecap:butt;stroke-linejoin:miter;stroke-opacity:1\"/>\n",
       "<path class=\"bond-2 atom-4 atom-1\" d=\"M 281.2,45.2 L 289.8,69.8\" style=\"fill:none;fill-rule:evenodd;stroke:#FF0000;stroke-width:2.0px;stroke-linecap:butt;stroke-linejoin:miter;stroke-opacity:1\"/>\n",
       "<path class=\"bond-2 atom-4 atom-1\" d=\"M 289.8,69.8 L 298.4,94.3\" style=\"fill:none;fill-rule:evenodd;stroke:#000000;stroke-width:2.0px;stroke-linecap:butt;stroke-linejoin:miter;stroke-opacity:1\"/>\n",
       "<path class=\"bond-2 atom-4 atom-1\" d=\"M 271.7,48.5 L 280.3,73.0\" style=\"fill:none;fill-rule:evenodd;stroke:#FF0000;stroke-width:2.0px;stroke-linecap:butt;stroke-linejoin:miter;stroke-opacity:1\"/>\n",
       "<path class=\"bond-2 atom-4 atom-1\" d=\"M 280.3,73.0 L 288.8,97.6\" style=\"fill:none;fill-rule:evenodd;stroke:#000000;stroke-width:2.0px;stroke-linecap:butt;stroke-linejoin:miter;stroke-opacity:1\"/>\n",
       "<path class=\"bond-3 atom-5 atom-1\" d=\"M 343.0,103.2 L 317.8,98.2\" style=\"fill:none;fill-rule:evenodd;stroke:#FF0000;stroke-width:2.0px;stroke-linecap:butt;stroke-linejoin:miter;stroke-opacity:1\"/>\n",
       "<path class=\"bond-3 atom-5 atom-1\" d=\"M 317.8,98.2 L 292.6,93.2\" style=\"fill:none;fill-rule:evenodd;stroke:#000000;stroke-width:2.0px;stroke-linecap:butt;stroke-linejoin:miter;stroke-opacity:1\"/>\n",
       "<path class=\"bond-4 atom-2 atom-0\" d=\"M 249.2,142.8 L 227.0,123.8\" style=\"fill:none;fill-rule:evenodd;stroke:#000000;stroke-width:2.0px;stroke-linecap:butt;stroke-linejoin:miter;stroke-opacity:1\"/>\n",
       "<path class=\"bond-4 atom-2 atom-0\" d=\"M 227.0,123.8 L 204.7,104.8\" style=\"fill:none;fill-rule:evenodd;stroke:#0000FF;stroke-width:2.0px;stroke-linecap:butt;stroke-linejoin:miter;stroke-opacity:1\"/>\n",
       "<path class=\"bond-5 atom-0 atom-6\" d=\"M 178.8,106.9 L 168.4,117.6\" style=\"fill:none;fill-rule:evenodd;stroke:#0000FF;stroke-width:2.0px;stroke-linecap:butt;stroke-linejoin:miter;stroke-opacity:1\"/>\n",
       "<path class=\"bond-5 atom-0 atom-6\" d=\"M 168.4,117.6 L 157.9,128.3\" style=\"fill:none;fill-rule:evenodd;stroke:#000000;stroke-width:2.0px;stroke-linecap:butt;stroke-linejoin:miter;stroke-opacity:1\"/>\n",
       "<path class=\"bond-6 atom-0 atom-7\" d=\"M 178.8,90.8 L 159.1,86.5\" style=\"fill:none;fill-rule:evenodd;stroke:#0000FF;stroke-width:2.0px;stroke-linecap:butt;stroke-linejoin:miter;stroke-opacity:1\"/>\n",
       "<path class=\"bond-6 atom-0 atom-7\" d=\"M 159.1,86.5 L 139.4,82.2\" style=\"fill:none;fill-rule:evenodd;stroke:#000000;stroke-width:2.0px;stroke-linecap:butt;stroke-linejoin:miter;stroke-opacity:1\"/>\n",
       "<path class=\"bond-7 atom-0 atom-8\" d=\"M 195.0,77.3 L 198.3,60.8\" style=\"fill:none;fill-rule:evenodd;stroke:#0000FF;stroke-width:2.0px;stroke-linecap:butt;stroke-linejoin:miter;stroke-opacity:1\"/>\n",
       "<path class=\"bond-7 atom-0 atom-8\" d=\"M 198.3,60.8 L 201.6,44.3\" style=\"fill:none;fill-rule:evenodd;stroke:#000000;stroke-width:2.0px;stroke-linecap:butt;stroke-linejoin:miter;stroke-opacity:1\"/>\n",
       "<path class=\"bond-8 atom-2 atom-9\" d=\"M 249.2,142.8 L 212.8,164.7 L 208.7,155.5 Z\" style=\"fill:#000000;fill-rule:evenodd;fill-opacity:1;stroke:#000000;stroke-width:0.5px;stroke-linecap:butt;stroke-linejoin:miter;stroke-opacity:1;\"/>\n",
       "<path class=\"bond-9 atom-3 atom-10\" d=\"M 269.1,206.9 L 216.9,221.3\" style=\"fill:none;fill-rule:evenodd;stroke:#000000;stroke-width:2.0px;stroke-linecap:butt;stroke-linejoin:miter;stroke-opacity:1\"/>\n",
       "<path class=\"bond-10 atom-3 atom-11\" d=\"M 269.1,206.9 L 255.6,255.7\" style=\"fill:none;fill-rule:evenodd;stroke:#000000;stroke-width:2.0px;stroke-linecap:butt;stroke-linejoin:miter;stroke-opacity:1\"/>\n",
       "<path class=\"bond-11 atom-3 atom-12\" d=\"M 269.1,206.9 L 320.3,220.4\" style=\"fill:none;fill-rule:evenodd;stroke:#000000;stroke-width:2.0px;stroke-linecap:butt;stroke-linejoin:miter;stroke-opacity:1\"/>\n",
       "<path d=\"M 290.5,95.7 L 292.6,93.2 L 293.9,93.5\" style=\"fill:none;stroke:#000000;stroke-width:2.0px;stroke-linecap:butt;stroke-linejoin:miter;stroke-opacity:1;\"/>\n",
       "<path class=\"atom-0\" d=\"M 185.5 79.5 L 194.8 94.5 Q 195.7 96.0, 197.2 98.7 Q 198.7 101.4, 198.8 101.5 L 198.8 79.5 L 202.5 79.5 L 202.5 107.9 L 198.6 107.9 L 188.7 91.5 Q 187.5 89.5, 186.3 87.3 Q 185.1 85.1, 184.7 84.5 L 184.7 107.9 L 181.0 107.9 L 181.0 79.5 L 185.5 79.5 \" fill=\"#0000FF\"/>\n",
       "<path class=\"atom-0\" d=\"M 207.8 84.6 L 212.8 84.6 L 212.8 79.4 L 215.1 79.4 L 215.1 84.6 L 220.2 84.6 L 220.2 86.5 L 215.1 86.5 L 215.1 91.8 L 212.8 91.8 L 212.8 86.5 L 207.8 86.5 L 207.8 84.6 \" fill=\"#0000FF\"/>\n",
       "<path class=\"atom-4\" d=\"M 257.6 30.0 Q 257.6 23.2, 260.9 19.4 Q 264.3 15.6, 270.6 15.6 Q 276.8 15.6, 280.2 19.4 Q 283.6 23.2, 283.6 30.0 Q 283.6 36.8, 280.2 40.8 Q 276.8 44.6, 270.6 44.6 Q 264.3 44.6, 260.9 40.8 Q 257.6 36.9, 257.6 30.0 M 270.6 41.4 Q 274.9 41.4, 277.2 38.6 Q 279.6 35.6, 279.6 30.0 Q 279.6 24.4, 277.2 21.6 Q 274.9 18.8, 270.6 18.8 Q 266.2 18.8, 263.9 21.6 Q 261.6 24.4, 261.6 30.0 Q 261.6 35.7, 263.9 38.6 Q 266.2 41.4, 270.6 41.4 \" fill=\"#FF0000\"/>\n",
       "<path class=\"atom-5\" d=\"M 345.2 106.3 Q 345.2 99.5, 348.6 95.7 Q 351.9 91.9, 358.2 91.9 Q 364.5 91.9, 367.9 95.7 Q 371.2 99.5, 371.2 106.3 Q 371.2 113.2, 367.8 117.1 Q 364.4 121.0, 358.2 121.0 Q 352.0 121.0, 348.6 117.1 Q 345.2 113.2, 345.2 106.3 M 358.2 117.8 Q 362.5 117.8, 364.9 114.9 Q 367.2 112.0, 367.2 106.3 Q 367.2 100.7, 364.9 97.9 Q 362.5 95.1, 358.2 95.1 Q 353.9 95.1, 351.5 97.9 Q 349.2 100.7, 349.2 106.3 Q 349.2 112.0, 351.5 114.9 Q 353.9 117.8, 358.2 117.8 \" fill=\"#FF0000\"/>\n",
       "<path class=\"atom-5\" d=\"M 375.3 96.5 L 384.9 96.5 L 384.9 98.6 L 375.3 98.6 L 375.3 96.5 \" fill=\"#FF0000\"/>\n",
       "<path class=\"atom-6\" d=\"M 133.5 127.7 L 137.4 127.7 L 137.4 139.8 L 151.9 139.8 L 151.9 127.7 L 155.7 127.7 L 155.7 156.0 L 151.9 156.0 L 151.9 143.0 L 137.4 143.0 L 137.4 156.0 L 133.5 156.0 L 133.5 127.7 \" fill=\"#000000\"/>\n",
       "<path class=\"atom-7\" d=\"M 115.1 65.1 L 118.9 65.1 L 118.9 77.1 L 133.4 77.1 L 133.4 65.1 L 137.2 65.1 L 137.2 93.4 L 133.4 93.4 L 133.4 80.3 L 118.9 80.3 L 118.9 93.4 L 115.1 93.4 L 115.1 65.1 \" fill=\"#000000\"/>\n",
       "<path class=\"atom-8\" d=\"M 193.8 13.8 L 197.6 13.8 L 197.6 25.8 L 212.1 25.8 L 212.1 13.8 L 215.9 13.8 L 215.9 42.1 L 212.1 42.1 L 212.1 29.0 L 197.6 29.0 L 197.6 42.1 L 193.8 42.1 L 193.8 13.8 \" fill=\"#000000\"/>\n",
       "<path class=\"atom-9\" d=\"M 184.2 153.0 L 188.0 153.0 L 188.0 165.0 L 202.5 165.0 L 202.5 153.0 L 206.3 153.0 L 206.3 181.3 L 202.5 181.3 L 202.5 168.2 L 188.0 168.2 L 188.0 181.3 L 184.2 181.3 L 184.2 153.0 \" fill=\"#000000\"/>\n",
       "<path class=\"atom-10\" d=\"M 192.6 210.8 L 196.4 210.8 L 196.4 222.9 L 210.9 222.9 L 210.9 210.8 L 214.7 210.8 L 214.7 239.2 L 210.9 239.2 L 210.9 226.1 L 196.4 226.1 L 196.4 239.2 L 192.6 239.2 L 192.6 210.8 \" fill=\"#000000\"/>\n",
       "<path class=\"atom-11\" d=\"M 240.0 257.9 L 243.8 257.9 L 243.8 270.0 L 258.3 270.0 L 258.3 257.9 L 262.2 257.9 L 262.2 286.2 L 258.3 286.2 L 258.3 273.2 L 243.8 273.2 L 243.8 286.2 L 240.0 286.2 L 240.0 257.9 \" fill=\"#000000\"/>\n",
       "<path class=\"atom-12\" d=\"M 322.5 209.8 L 326.4 209.8 L 326.4 221.8 L 340.8 221.8 L 340.8 209.8 L 344.7 209.8 L 344.7 238.1 L 340.8 238.1 L 340.8 225.0 L 326.4 225.0 L 326.4 238.1 L 322.5 238.1 L 322.5 209.8 \" fill=\"#000000\"/>\n",
       "</svg>"
      ],
      "text/plain": [
       "<IPython.core.display.SVG object>"
      ]
     },
     "execution_count": 16,
     "metadata": {},
     "output_type": "execute_result"
    }
   ],
   "source": [
    "iupac = Molecule.from_iupac(\"(2S)-2-azaniumylpropanoate\")\n",
    "\n",
    "assert zw_l_alanine.is_isomorphic_with(iupac)\n",
    "\n",
    "iupac.visualize()"
   ]
  },
  {
   "cell_type": "markdown",
   "id": "14d8a068",
   "metadata": {},
   "source": [
    "## Re-ordering atoms in an existing `Molecule`\n",
    "\n",
    "Most `Molecule` creation methods don't specify the ordering of atoms in the new `Molecule`. The [`Molecule.remap()`](openff.toolkit.topology.Molecule.remap) method allows a new ordering to be applied to an existing `Molecule`.\n",
    "\n",
    "See also [](#mapped-smiles).\n",
    "\n",
    ":::{warning}\n",
    "The `Molecule.remap()` method is experimental and subject to change. \n",
    ":::"
   ]
  },
  {
   "cell_type": "code",
   "execution_count": 17,
   "id": "c9a343c2",
   "metadata": {},
   "outputs": [
    {
     "name": "stdout",
     "output_type": "stream",
     "text": [
      "Before remapping: [H:3][C@@:2]([C:5](=[O:6])[O-:7])([C:1]([H:8])([H:9])[H:10])[N+:4]([H:11])([H:12])[H:13]\n",
      "After remapping:  [H:3][C@@:2]([C:4](=[O:6])[O-:7])([C:1]([H:8])([H:9])[H:10])[N+:5]([H:11])([H:12])[H:13]\n"
     ]
    },
    {
     "data": {
      "image/svg+xml": [
       "<svg xmlns=\"http://www.w3.org/2000/svg\" xmlns:rdkit=\"http://www.rdkit.org/xml\" xmlns:xlink=\"http://www.w3.org/1999/xlink\" version=\"1.1\" baseProfile=\"full\" xml:space=\"preserve\" width=\"500px\" height=\"300px\" viewBox=\"0 0 500 300\">\n",
       "<!-- END OF HEADER -->\n",
       "<rect style=\"opacity:1.0;fill:#FFFFFF;stroke:none\" width=\"500.0\" height=\"300.0\" x=\"0.0\" y=\"0.0\"> </rect>\n",
       "<path class=\"bond-0 atom-0 atom-1\" d=\"M 269.1,206.9 L 249.2,142.8\" style=\"fill:none;fill-rule:evenodd;stroke:#000000;stroke-width:2.0px;stroke-linecap:butt;stroke-linejoin:miter;stroke-opacity:1\"/>\n",
       "<path class=\"bond-1 atom-0 atom-7\" d=\"M 269.1,206.9 L 216.9,221.3\" style=\"fill:none;fill-rule:evenodd;stroke:#000000;stroke-width:2.0px;stroke-linecap:butt;stroke-linejoin:miter;stroke-opacity:1\"/>\n",
       "<path class=\"bond-2 atom-0 atom-8\" d=\"M 269.1,206.9 L 255.6,255.7\" style=\"fill:none;fill-rule:evenodd;stroke:#000000;stroke-width:2.0px;stroke-linecap:butt;stroke-linejoin:miter;stroke-opacity:1\"/>\n",
       "<path class=\"bond-3 atom-0 atom-9\" d=\"M 269.1,206.9 L 320.3,220.4\" style=\"fill:none;fill-rule:evenodd;stroke:#000000;stroke-width:2.0px;stroke-linecap:butt;stroke-linejoin:miter;stroke-opacity:1\"/>\n",
       "<path class=\"bond-4 atom-1 atom-2\" d=\"M 249.2,142.8 L 212.8,164.7 L 208.7,155.5 Z\" style=\"fill:#000000;fill-rule:evenodd;fill-opacity:1;stroke:#000000;stroke-width:0.5px;stroke-linecap:butt;stroke-linejoin:miter;stroke-opacity:1;\"/>\n",
       "<path class=\"bond-5 atom-1 atom-3\" d=\"M 249.2,142.8 L 292.6,93.2\" style=\"fill:none;fill-rule:evenodd;stroke:#000000;stroke-width:2.0px;stroke-linecap:butt;stroke-linejoin:miter;stroke-opacity:1\"/>\n",
       "<path class=\"bond-6 atom-1 atom-4\" d=\"M 249.2,142.8 L 227.0,123.8\" style=\"fill:none;fill-rule:evenodd;stroke:#000000;stroke-width:2.0px;stroke-linecap:butt;stroke-linejoin:miter;stroke-opacity:1\"/>\n",
       "<path class=\"bond-6 atom-1 atom-4\" d=\"M 227.0,123.8 L 204.7,104.8\" style=\"fill:none;fill-rule:evenodd;stroke:#0000FF;stroke-width:2.0px;stroke-linecap:butt;stroke-linejoin:miter;stroke-opacity:1\"/>\n",
       "<path class=\"bond-7 atom-3 atom-5\" d=\"M 298.4,94.3 L 289.8,69.8\" style=\"fill:none;fill-rule:evenodd;stroke:#000000;stroke-width:2.0px;stroke-linecap:butt;stroke-linejoin:miter;stroke-opacity:1\"/>\n",
       "<path class=\"bond-7 atom-3 atom-5\" d=\"M 289.8,69.8 L 281.2,45.2\" style=\"fill:none;fill-rule:evenodd;stroke:#FF0000;stroke-width:2.0px;stroke-linecap:butt;stroke-linejoin:miter;stroke-opacity:1\"/>\n",
       "<path class=\"bond-7 atom-3 atom-5\" d=\"M 288.8,97.6 L 280.3,73.0\" style=\"fill:none;fill-rule:evenodd;stroke:#000000;stroke-width:2.0px;stroke-linecap:butt;stroke-linejoin:miter;stroke-opacity:1\"/>\n",
       "<path class=\"bond-7 atom-3 atom-5\" d=\"M 280.3,73.0 L 271.7,48.5\" style=\"fill:none;fill-rule:evenodd;stroke:#FF0000;stroke-width:2.0px;stroke-linecap:butt;stroke-linejoin:miter;stroke-opacity:1\"/>\n",
       "<path class=\"bond-8 atom-3 atom-6\" d=\"M 292.6,93.2 L 317.8,98.2\" style=\"fill:none;fill-rule:evenodd;stroke:#000000;stroke-width:2.0px;stroke-linecap:butt;stroke-linejoin:miter;stroke-opacity:1\"/>\n",
       "<path class=\"bond-8 atom-3 atom-6\" d=\"M 317.8,98.2 L 343.0,103.2\" style=\"fill:none;fill-rule:evenodd;stroke:#FF0000;stroke-width:2.0px;stroke-linecap:butt;stroke-linejoin:miter;stroke-opacity:1\"/>\n",
       "<path class=\"bond-9 atom-4 atom-10\" d=\"M 178.8,106.9 L 168.4,117.6\" style=\"fill:none;fill-rule:evenodd;stroke:#0000FF;stroke-width:2.0px;stroke-linecap:butt;stroke-linejoin:miter;stroke-opacity:1\"/>\n",
       "<path class=\"bond-9 atom-4 atom-10\" d=\"M 168.4,117.6 L 157.9,128.3\" style=\"fill:none;fill-rule:evenodd;stroke:#000000;stroke-width:2.0px;stroke-linecap:butt;stroke-linejoin:miter;stroke-opacity:1\"/>\n",
       "<path class=\"bond-10 atom-4 atom-11\" d=\"M 178.8,90.8 L 159.1,86.5\" style=\"fill:none;fill-rule:evenodd;stroke:#0000FF;stroke-width:2.0px;stroke-linecap:butt;stroke-linejoin:miter;stroke-opacity:1\"/>\n",
       "<path class=\"bond-10 atom-4 atom-11\" d=\"M 159.1,86.5 L 139.4,82.2\" style=\"fill:none;fill-rule:evenodd;stroke:#000000;stroke-width:2.0px;stroke-linecap:butt;stroke-linejoin:miter;stroke-opacity:1\"/>\n",
       "<path class=\"bond-11 atom-4 atom-12\" d=\"M 195.0,77.3 L 198.3,60.8\" style=\"fill:none;fill-rule:evenodd;stroke:#0000FF;stroke-width:2.0px;stroke-linecap:butt;stroke-linejoin:miter;stroke-opacity:1\"/>\n",
       "<path class=\"bond-11 atom-4 atom-12\" d=\"M 198.3,60.8 L 201.6,44.3\" style=\"fill:none;fill-rule:evenodd;stroke:#000000;stroke-width:2.0px;stroke-linecap:butt;stroke-linejoin:miter;stroke-opacity:1\"/>\n",
       "<path d=\"M 290.5,95.7 L 292.6,93.2 L 293.9,93.5\" style=\"fill:none;stroke:#000000;stroke-width:2.0px;stroke-linecap:butt;stroke-linejoin:miter;stroke-opacity:1;\"/>\n",
       "<path class=\"atom-2\" d=\"M 184.2 153.0 L 188.0 153.0 L 188.0 165.0 L 202.5 165.0 L 202.5 153.0 L 206.3 153.0 L 206.3 181.3 L 202.5 181.3 L 202.5 168.2 L 188.0 168.2 L 188.0 181.3 L 184.2 181.3 L 184.2 153.0 \" fill=\"#000000\"/>\n",
       "<path class=\"atom-4\" d=\"M 185.5 79.5 L 194.8 94.5 Q 195.7 96.0, 197.2 98.7 Q 198.7 101.4, 198.8 101.5 L 198.8 79.5 L 202.5 79.5 L 202.5 107.9 L 198.6 107.9 L 188.7 91.5 Q 187.5 89.5, 186.3 87.3 Q 185.1 85.1, 184.7 84.5 L 184.7 107.9 L 181.0 107.9 L 181.0 79.5 L 185.5 79.5 \" fill=\"#0000FF\"/>\n",
       "<path class=\"atom-4\" d=\"M 207.8 84.6 L 212.8 84.6 L 212.8 79.4 L 215.1 79.4 L 215.1 84.6 L 220.2 84.6 L 220.2 86.5 L 215.1 86.5 L 215.1 91.8 L 212.8 91.8 L 212.8 86.5 L 207.8 86.5 L 207.8 84.6 \" fill=\"#0000FF\"/>\n",
       "<path class=\"atom-5\" d=\"M 257.6 30.0 Q 257.6 23.2, 260.9 19.4 Q 264.3 15.6, 270.6 15.6 Q 276.8 15.6, 280.2 19.4 Q 283.6 23.2, 283.6 30.0 Q 283.6 36.8, 280.2 40.8 Q 276.8 44.6, 270.6 44.6 Q 264.3 44.6, 260.9 40.8 Q 257.6 36.9, 257.6 30.0 M 270.6 41.4 Q 274.9 41.4, 277.2 38.6 Q 279.6 35.6, 279.6 30.0 Q 279.6 24.4, 277.2 21.6 Q 274.9 18.8, 270.6 18.8 Q 266.2 18.8, 263.9 21.6 Q 261.6 24.4, 261.6 30.0 Q 261.6 35.7, 263.9 38.6 Q 266.2 41.4, 270.6 41.4 \" fill=\"#FF0000\"/>\n",
       "<path class=\"atom-6\" d=\"M 345.2 106.3 Q 345.2 99.5, 348.6 95.7 Q 351.9 91.9, 358.2 91.9 Q 364.5 91.9, 367.9 95.7 Q 371.2 99.5, 371.2 106.3 Q 371.2 113.2, 367.8 117.1 Q 364.4 121.0, 358.2 121.0 Q 352.0 121.0, 348.6 117.1 Q 345.2 113.2, 345.2 106.3 M 358.2 117.8 Q 362.5 117.8, 364.9 114.9 Q 367.2 112.0, 367.2 106.3 Q 367.2 100.7, 364.9 97.9 Q 362.5 95.1, 358.2 95.1 Q 353.9 95.1, 351.5 97.9 Q 349.2 100.7, 349.2 106.3 Q 349.2 112.0, 351.5 114.9 Q 353.9 117.8, 358.2 117.8 \" fill=\"#FF0000\"/>\n",
       "<path class=\"atom-6\" d=\"M 375.3 96.5 L 384.9 96.5 L 384.9 98.6 L 375.3 98.6 L 375.3 96.5 \" fill=\"#FF0000\"/>\n",
       "<path class=\"atom-7\" d=\"M 192.6 210.8 L 196.4 210.8 L 196.4 222.9 L 210.9 222.9 L 210.9 210.8 L 214.7 210.8 L 214.7 239.2 L 210.9 239.2 L 210.9 226.1 L 196.4 226.1 L 196.4 239.2 L 192.6 239.2 L 192.6 210.8 \" fill=\"#000000\"/>\n",
       "<path class=\"atom-8\" d=\"M 240.0 257.9 L 243.8 257.9 L 243.8 270.0 L 258.3 270.0 L 258.3 257.9 L 262.2 257.9 L 262.2 286.2 L 258.3 286.2 L 258.3 273.2 L 243.8 273.2 L 243.8 286.2 L 240.0 286.2 L 240.0 257.9 \" fill=\"#000000\"/>\n",
       "<path class=\"atom-9\" d=\"M 322.5 209.8 L 326.4 209.8 L 326.4 221.8 L 340.8 221.8 L 340.8 209.8 L 344.7 209.8 L 344.7 238.1 L 340.8 238.1 L 340.8 225.0 L 326.4 225.0 L 326.4 238.1 L 322.5 238.1 L 322.5 209.8 \" fill=\"#000000\"/>\n",
       "<path class=\"atom-10\" d=\"M 133.5 127.7 L 137.4 127.7 L 137.4 139.8 L 151.9 139.8 L 151.9 127.7 L 155.7 127.7 L 155.7 156.0 L 151.9 156.0 L 151.9 143.0 L 137.4 143.0 L 137.4 156.0 L 133.5 156.0 L 133.5 127.7 \" fill=\"#000000\"/>\n",
       "<path class=\"atom-11\" d=\"M 115.1 65.1 L 118.9 65.1 L 118.9 77.1 L 133.4 77.1 L 133.4 65.1 L 137.2 65.1 L 137.2 93.4 L 133.4 93.4 L 133.4 80.3 L 118.9 80.3 L 118.9 93.4 L 115.1 93.4 L 115.1 65.1 \" fill=\"#000000\"/>\n",
       "<path class=\"atom-12\" d=\"M 193.8 13.8 L 197.6 13.8 L 197.6 25.8 L 212.1 25.8 L 212.1 13.8 L 215.9 13.8 L 215.9 42.1 L 212.1 42.1 L 212.1 29.0 L 197.6 29.0 L 197.6 42.1 L 193.8 42.1 L 193.8 13.8 \" fill=\"#000000\"/>\n",
       "</svg>"
      ],
      "text/plain": [
       "<IPython.core.display.SVG object>"
      ]
     },
     "execution_count": 17,
     "metadata": {},
     "output_type": "execute_result"
    }
   ],
   "source": [
    "# Note that this mapping is off-by-one from the mapping taken \n",
    "# by the remap method, as Python indexing is 0-based but SMILES\n",
    "# is 1-based\n",
    "print(\"Before remapping:\", zw_l_alanine.to_smiles(mapped=True))\n",
    "\n",
    "# Flip the order of the carbonyl carbon and oxygen\n",
    "remapped = zw_l_alanine.remap({0: 0,1: 1, 2: 2, 3: 4, 4: 3, 5: 5, 6: 6, 7: 7, 8: 8, 9: 9, 10: 10, 11: 11, 12: 12})\n",
    "#                                               ^--------^ \n",
    "\n",
    "print(\"After remapping: \", remapped.to_smiles(mapped=True))\n",
    "\n",
    "# Doesn't affect the identity of the molecule\n",
    "assert zw_l_alanine.is_isomorphic_with(remapped)\n",
    "remapped.visualize()"
   ]
  },
  {
   "cell_type": "markdown",
   "id": "d5e4330a",
   "metadata": {},
   "source": [
    "## Via `Topology` objects\n",
    "\n",
    "The [`Topology`](openff.toolkit.topology.Topology) class represents a biomolecular system; it is analogous to the similarly named objects in GROMACS, MDTraj or OpenMM. Notably, it does not include co-ordinates and may represent multiple copies of a particular molecular species or even more complex mixtures of molecules. `Topology` objects are usually built up one species at a time from `Molecule` objects.\n",
    "\n",
    "`Molecule` objects can be retrieved from a `Topology` via the [`Topology.molecule()`](openff.toolkit.topology.Topology.molecule) method by providing the index of the molecule within the topology. For a topology consisting of a single molecule, this is just `topology.molecule(0)`.\n",
    "\n",
    "Constructor methods that are available for `Topology` but not `Molecule` generally require a `Molecule` to be provided via the `unique_molecules` keyword argument. The provided `Molecule` is used to provide the identity of the molecule, including aromaticity, bond orders, formal charges, and so forth. These methods therefore don't provide a route to the graph of the molecule, but can be useful for reordering atoms to match another software package."
   ]
  },
  {
   "cell_type": "markdown",
   "id": "95eab062",
   "metadata": {},
   "source": [
    "### From an OpenMM `Topology`\n",
    "\n",
    "The [`Topology.from_openmm()`](openff.toolkit.topology.Topology.from_openmm) method constructs an OpenFF `Topology` from an OpenMM [`Topology`](openmm.app.topology.Topology). The method requires that all the unique molecules in the `Topology` are provided as OpenFF `Molecule` objects, as the structure of an OpenMM `Topology` doesn't include the concept of a molecule. When using this method to create a `Molecule`, this limitation means that the method really only offers a pathway to reorder the atoms of a `Molecule` to match that of the OpenMM `Topology`."
   ]
  },
  {
   "cell_type": "code",
   "execution_count": 18,
   "id": "40645664",
   "metadata": {},
   "outputs": [
    {
     "data": {
      "image/svg+xml": [
       "<svg xmlns=\"http://www.w3.org/2000/svg\" xmlns:rdkit=\"http://www.rdkit.org/xml\" xmlns:xlink=\"http://www.w3.org/1999/xlink\" version=\"1.1\" baseProfile=\"full\" xml:space=\"preserve\" width=\"500px\" height=\"300px\" viewBox=\"0 0 500 300\">\n",
       "<!-- END OF HEADER -->\n",
       "<rect style=\"opacity:1.0;fill:#FFFFFF;stroke:none\" width=\"500.0\" height=\"300.0\" x=\"0.0\" y=\"0.0\"> </rect>\n",
       "<path class=\"bond-0 atom-0 atom-2\" d=\"M 204.7,104.8 L 227.0,123.8\" style=\"fill:none;fill-rule:evenodd;stroke:#0000FF;stroke-width:2.0px;stroke-linecap:butt;stroke-linejoin:miter;stroke-opacity:1\"/>\n",
       "<path class=\"bond-0 atom-0 atom-2\" d=\"M 227.0,123.8 L 249.2,142.8\" style=\"fill:none;fill-rule:evenodd;stroke:#000000;stroke-width:2.0px;stroke-linecap:butt;stroke-linejoin:miter;stroke-opacity:1\"/>\n",
       "<path class=\"bond-1 atom-0 atom-10\" d=\"M 178.8,106.9 L 168.4,117.6\" style=\"fill:none;fill-rule:evenodd;stroke:#0000FF;stroke-width:2.0px;stroke-linecap:butt;stroke-linejoin:miter;stroke-opacity:1\"/>\n",
       "<path class=\"bond-1 atom-0 atom-10\" d=\"M 168.4,117.6 L 157.9,128.3\" style=\"fill:none;fill-rule:evenodd;stroke:#000000;stroke-width:2.0px;stroke-linecap:butt;stroke-linejoin:miter;stroke-opacity:1\"/>\n",
       "<path class=\"bond-2 atom-0 atom-11\" d=\"M 178.8,90.8 L 159.1,86.5\" style=\"fill:none;fill-rule:evenodd;stroke:#0000FF;stroke-width:2.0px;stroke-linecap:butt;stroke-linejoin:miter;stroke-opacity:1\"/>\n",
       "<path class=\"bond-2 atom-0 atom-11\" d=\"M 159.1,86.5 L 139.4,82.2\" style=\"fill:none;fill-rule:evenodd;stroke:#000000;stroke-width:2.0px;stroke-linecap:butt;stroke-linejoin:miter;stroke-opacity:1\"/>\n",
       "<path class=\"bond-3 atom-0 atom-12\" d=\"M 195.0,77.3 L 198.3,60.8\" style=\"fill:none;fill-rule:evenodd;stroke:#0000FF;stroke-width:2.0px;stroke-linecap:butt;stroke-linejoin:miter;stroke-opacity:1\"/>\n",
       "<path class=\"bond-3 atom-0 atom-12\" d=\"M 198.3,60.8 L 201.6,44.3\" style=\"fill:none;fill-rule:evenodd;stroke:#000000;stroke-width:2.0px;stroke-linecap:butt;stroke-linejoin:miter;stroke-opacity:1\"/>\n",
       "<path class=\"bond-4 atom-1 atom-2\" d=\"M 269.1,206.9 L 249.2,142.8\" style=\"fill:none;fill-rule:evenodd;stroke:#000000;stroke-width:2.0px;stroke-linecap:butt;stroke-linejoin:miter;stroke-opacity:1\"/>\n",
       "<path class=\"bond-5 atom-1 atom-6\" d=\"M 269.1,206.9 L 216.9,221.3\" style=\"fill:none;fill-rule:evenodd;stroke:#000000;stroke-width:2.0px;stroke-linecap:butt;stroke-linejoin:miter;stroke-opacity:1\"/>\n",
       "<path class=\"bond-6 atom-1 atom-7\" d=\"M 269.1,206.9 L 255.6,255.7\" style=\"fill:none;fill-rule:evenodd;stroke:#000000;stroke-width:2.0px;stroke-linecap:butt;stroke-linejoin:miter;stroke-opacity:1\"/>\n",
       "<path class=\"bond-7 atom-1 atom-8\" d=\"M 269.1,206.9 L 320.3,220.4\" style=\"fill:none;fill-rule:evenodd;stroke:#000000;stroke-width:2.0px;stroke-linecap:butt;stroke-linejoin:miter;stroke-opacity:1\"/>\n",
       "<path class=\"bond-8 atom-2 atom-3\" d=\"M 249.2,142.8 L 292.6,93.2\" style=\"fill:none;fill-rule:evenodd;stroke:#000000;stroke-width:2.0px;stroke-linecap:butt;stroke-linejoin:miter;stroke-opacity:1\"/>\n",
       "<path class=\"bond-9 atom-2 atom-9\" d=\"M 249.2,142.8 L 212.8,164.7 L 208.7,155.5 Z\" style=\"fill:#000000;fill-rule:evenodd;fill-opacity:1;stroke:#000000;stroke-width:0.5px;stroke-linecap:butt;stroke-linejoin:miter;stroke-opacity:1;\"/>\n",
       "<path class=\"bond-10 atom-3 atom-4\" d=\"M 298.4,94.3 L 289.8,69.8\" style=\"fill:none;fill-rule:evenodd;stroke:#000000;stroke-width:2.0px;stroke-linecap:butt;stroke-linejoin:miter;stroke-opacity:1\"/>\n",
       "<path class=\"bond-10 atom-3 atom-4\" d=\"M 289.8,69.8 L 281.2,45.2\" style=\"fill:none;fill-rule:evenodd;stroke:#FF0000;stroke-width:2.0px;stroke-linecap:butt;stroke-linejoin:miter;stroke-opacity:1\"/>\n",
       "<path class=\"bond-10 atom-3 atom-4\" d=\"M 288.8,97.6 L 280.3,73.0\" style=\"fill:none;fill-rule:evenodd;stroke:#000000;stroke-width:2.0px;stroke-linecap:butt;stroke-linejoin:miter;stroke-opacity:1\"/>\n",
       "<path class=\"bond-10 atom-3 atom-4\" d=\"M 280.3,73.0 L 271.7,48.5\" style=\"fill:none;fill-rule:evenodd;stroke:#FF0000;stroke-width:2.0px;stroke-linecap:butt;stroke-linejoin:miter;stroke-opacity:1\"/>\n",
       "<path class=\"bond-11 atom-3 atom-5\" d=\"M 292.6,93.2 L 317.8,98.2\" style=\"fill:none;fill-rule:evenodd;stroke:#000000;stroke-width:2.0px;stroke-linecap:butt;stroke-linejoin:miter;stroke-opacity:1\"/>\n",
       "<path class=\"bond-11 atom-3 atom-5\" d=\"M 317.8,98.2 L 343.0,103.2\" style=\"fill:none;fill-rule:evenodd;stroke:#FF0000;stroke-width:2.0px;stroke-linecap:butt;stroke-linejoin:miter;stroke-opacity:1\"/>\n",
       "<path d=\"M 290.5,95.7 L 292.6,93.2 L 293.9,93.5\" style=\"fill:none;stroke:#000000;stroke-width:2.0px;stroke-linecap:butt;stroke-linejoin:miter;stroke-opacity:1;\"/>\n",
       "<path class=\"atom-0\" d=\"M 185.5 79.5 L 194.8 94.5 Q 195.7 96.0, 197.2 98.7 Q 198.7 101.4, 198.8 101.5 L 198.8 79.5 L 202.5 79.5 L 202.5 107.9 L 198.6 107.9 L 188.7 91.5 Q 187.5 89.5, 186.3 87.3 Q 185.1 85.1, 184.7 84.5 L 184.7 107.9 L 181.0 107.9 L 181.0 79.5 L 185.5 79.5 \" fill=\"#0000FF\"/>\n",
       "<path class=\"atom-0\" d=\"M 207.8 84.6 L 212.8 84.6 L 212.8 79.4 L 215.1 79.4 L 215.1 84.6 L 220.2 84.6 L 220.2 86.5 L 215.1 86.5 L 215.1 91.8 L 212.8 91.8 L 212.8 86.5 L 207.8 86.5 L 207.8 84.6 \" fill=\"#0000FF\"/>\n",
       "<path class=\"atom-4\" d=\"M 257.6 30.0 Q 257.6 23.2, 260.9 19.4 Q 264.3 15.6, 270.6 15.6 Q 276.8 15.6, 280.2 19.4 Q 283.6 23.2, 283.6 30.0 Q 283.6 36.8, 280.2 40.8 Q 276.8 44.6, 270.6 44.6 Q 264.3 44.6, 260.9 40.8 Q 257.6 36.9, 257.6 30.0 M 270.6 41.4 Q 274.9 41.4, 277.2 38.6 Q 279.6 35.6, 279.6 30.0 Q 279.6 24.4, 277.2 21.6 Q 274.9 18.8, 270.6 18.8 Q 266.2 18.8, 263.9 21.6 Q 261.6 24.4, 261.6 30.0 Q 261.6 35.7, 263.9 38.6 Q 266.2 41.4, 270.6 41.4 \" fill=\"#FF0000\"/>\n",
       "<path class=\"atom-5\" d=\"M 345.2 106.3 Q 345.2 99.5, 348.6 95.7 Q 351.9 91.9, 358.2 91.9 Q 364.5 91.9, 367.9 95.7 Q 371.2 99.5, 371.2 106.3 Q 371.2 113.2, 367.8 117.1 Q 364.4 121.0, 358.2 121.0 Q 352.0 121.0, 348.6 117.1 Q 345.2 113.2, 345.2 106.3 M 358.2 117.8 Q 362.5 117.8, 364.9 114.9 Q 367.2 112.0, 367.2 106.3 Q 367.2 100.7, 364.9 97.9 Q 362.5 95.1, 358.2 95.1 Q 353.9 95.1, 351.5 97.9 Q 349.2 100.7, 349.2 106.3 Q 349.2 112.0, 351.5 114.9 Q 353.9 117.8, 358.2 117.8 \" fill=\"#FF0000\"/>\n",
       "<path class=\"atom-5\" d=\"M 375.3 96.5 L 384.9 96.5 L 384.9 98.6 L 375.3 98.6 L 375.3 96.5 \" fill=\"#FF0000\"/>\n",
       "<path class=\"atom-6\" d=\"M 192.6 210.8 L 196.4 210.8 L 196.4 222.9 L 210.9 222.9 L 210.9 210.8 L 214.7 210.8 L 214.7 239.2 L 210.9 239.2 L 210.9 226.1 L 196.4 226.1 L 196.4 239.2 L 192.6 239.2 L 192.6 210.8 \" fill=\"#000000\"/>\n",
       "<path class=\"atom-7\" d=\"M 240.0 257.9 L 243.8 257.9 L 243.8 270.0 L 258.3 270.0 L 258.3 257.9 L 262.2 257.9 L 262.2 286.2 L 258.3 286.2 L 258.3 273.2 L 243.8 273.2 L 243.8 286.2 L 240.0 286.2 L 240.0 257.9 \" fill=\"#000000\"/>\n",
       "<path class=\"atom-8\" d=\"M 322.5 209.8 L 326.4 209.8 L 326.4 221.8 L 340.8 221.8 L 340.8 209.8 L 344.7 209.8 L 344.7 238.1 L 340.8 238.1 L 340.8 225.0 L 326.4 225.0 L 326.4 238.1 L 322.5 238.1 L 322.5 209.8 \" fill=\"#000000\"/>\n",
       "<path class=\"atom-9\" d=\"M 184.2 153.0 L 188.0 153.0 L 188.0 165.0 L 202.5 165.0 L 202.5 153.0 L 206.3 153.0 L 206.3 181.3 L 202.5 181.3 L 202.5 168.2 L 188.0 168.2 L 188.0 181.3 L 184.2 181.3 L 184.2 153.0 \" fill=\"#000000\"/>\n",
       "<path class=\"atom-10\" d=\"M 133.5 127.7 L 137.4 127.7 L 137.4 139.8 L 151.9 139.8 L 151.9 127.7 L 155.7 127.7 L 155.7 156.0 L 151.9 156.0 L 151.9 143.0 L 137.4 143.0 L 137.4 156.0 L 133.5 156.0 L 133.5 127.7 \" fill=\"#000000\"/>\n",
       "<path class=\"atom-11\" d=\"M 115.1 65.1 L 118.9 65.1 L 118.9 77.1 L 133.4 77.1 L 133.4 65.1 L 137.2 65.1 L 137.2 93.4 L 133.4 93.4 L 133.4 80.3 L 118.9 80.3 L 118.9 93.4 L 115.1 93.4 L 115.1 65.1 \" fill=\"#000000\"/>\n",
       "<path class=\"atom-12\" d=\"M 193.8 13.8 L 197.6 13.8 L 197.6 25.8 L 212.1 25.8 L 212.1 13.8 L 215.9 13.8 L 215.9 42.1 L 212.1 42.1 L 212.1 29.0 L 197.6 29.0 L 197.6 42.1 L 193.8 42.1 L 193.8 13.8 \" fill=\"#000000\"/>\n",
       "</svg>"
      ],
      "text/plain": [
       "<IPython.core.display.SVG object>"
      ]
     },
     "execution_count": 18,
     "metadata": {},
     "output_type": "execute_result"
    }
   ],
   "source": [
    "from openmm.app.pdbfile import PDBFile\n",
    "\n",
    "openmm_topology = PDBFile('zw_l_alanine.pdb').getTopology()\n",
    "openff_topology = Topology.from_openmm(openmm_topology, unique_molecules=[zw_l_alanine])\n",
    "\n",
    "from_openmm_topology = openff_topology.molecule(0)\n",
    "\n",
    "assert zw_l_alanine.is_isomorphic_with(from_openmm_topology)\n",
    "\n",
    "from_openmm_topology.visualize()"
   ]
  },
  {
   "cell_type": "markdown",
   "id": "39e06787",
   "metadata": {},
   "source": [
    "### From an MDTraj `Topology`\n",
    "\n",
    "The [`Topology.from_mdtraj()`](openff.toolkit.topology.Topology.from_mdtraj) method constructs an OpenFF `Topology` from an MDTraj [`Topology`](mdtraj.Topology). The method requires that all the unique molecules in the `Topology` are provided as OpenFF `Molecule` objects to ensure that the graph of the molecule is correct. When using this method to create a `Molecule`, this limitation means that the method really only offers a pathway to reorder the atoms of a `Molecule` to match that of the MDTraj `Topology`."
   ]
  },
  {
   "cell_type": "code",
   "execution_count": 19,
   "id": "68ee9ed2",
   "metadata": {},
   "outputs": [
    {
     "data": {
      "image/svg+xml": [
       "<svg xmlns=\"http://www.w3.org/2000/svg\" xmlns:rdkit=\"http://www.rdkit.org/xml\" xmlns:xlink=\"http://www.w3.org/1999/xlink\" version=\"1.1\" baseProfile=\"full\" xml:space=\"preserve\" width=\"500px\" height=\"300px\" viewBox=\"0 0 500 300\">\n",
       "<!-- END OF HEADER -->\n",
       "<rect style=\"opacity:1.0;fill:#FFFFFF;stroke:none\" width=\"500.0\" height=\"300.0\" x=\"0.0\" y=\"0.0\"> </rect>\n",
       "<path class=\"bond-0 atom-0 atom-2\" d=\"M 204.7,104.8 L 227.0,123.8\" style=\"fill:none;fill-rule:evenodd;stroke:#0000FF;stroke-width:2.0px;stroke-linecap:butt;stroke-linejoin:miter;stroke-opacity:1\"/>\n",
       "<path class=\"bond-0 atom-0 atom-2\" d=\"M 227.0,123.8 L 249.2,142.8\" style=\"fill:none;fill-rule:evenodd;stroke:#000000;stroke-width:2.0px;stroke-linecap:butt;stroke-linejoin:miter;stroke-opacity:1\"/>\n",
       "<path class=\"bond-1 atom-0 atom-10\" d=\"M 178.8,106.9 L 168.4,117.6\" style=\"fill:none;fill-rule:evenodd;stroke:#0000FF;stroke-width:2.0px;stroke-linecap:butt;stroke-linejoin:miter;stroke-opacity:1\"/>\n",
       "<path class=\"bond-1 atom-0 atom-10\" d=\"M 168.4,117.6 L 157.9,128.3\" style=\"fill:none;fill-rule:evenodd;stroke:#000000;stroke-width:2.0px;stroke-linecap:butt;stroke-linejoin:miter;stroke-opacity:1\"/>\n",
       "<path class=\"bond-2 atom-0 atom-11\" d=\"M 178.8,90.8 L 159.1,86.5\" style=\"fill:none;fill-rule:evenodd;stroke:#0000FF;stroke-width:2.0px;stroke-linecap:butt;stroke-linejoin:miter;stroke-opacity:1\"/>\n",
       "<path class=\"bond-2 atom-0 atom-11\" d=\"M 159.1,86.5 L 139.4,82.2\" style=\"fill:none;fill-rule:evenodd;stroke:#000000;stroke-width:2.0px;stroke-linecap:butt;stroke-linejoin:miter;stroke-opacity:1\"/>\n",
       "<path class=\"bond-3 atom-0 atom-12\" d=\"M 195.0,77.3 L 198.3,60.8\" style=\"fill:none;fill-rule:evenodd;stroke:#0000FF;stroke-width:2.0px;stroke-linecap:butt;stroke-linejoin:miter;stroke-opacity:1\"/>\n",
       "<path class=\"bond-3 atom-0 atom-12\" d=\"M 198.3,60.8 L 201.6,44.3\" style=\"fill:none;fill-rule:evenodd;stroke:#000000;stroke-width:2.0px;stroke-linecap:butt;stroke-linejoin:miter;stroke-opacity:1\"/>\n",
       "<path class=\"bond-4 atom-1 atom-2\" d=\"M 269.1,206.9 L 249.2,142.8\" style=\"fill:none;fill-rule:evenodd;stroke:#000000;stroke-width:2.0px;stroke-linecap:butt;stroke-linejoin:miter;stroke-opacity:1\"/>\n",
       "<path class=\"bond-5 atom-1 atom-6\" d=\"M 269.1,206.9 L 216.9,221.3\" style=\"fill:none;fill-rule:evenodd;stroke:#000000;stroke-width:2.0px;stroke-linecap:butt;stroke-linejoin:miter;stroke-opacity:1\"/>\n",
       "<path class=\"bond-6 atom-1 atom-7\" d=\"M 269.1,206.9 L 255.6,255.7\" style=\"fill:none;fill-rule:evenodd;stroke:#000000;stroke-width:2.0px;stroke-linecap:butt;stroke-linejoin:miter;stroke-opacity:1\"/>\n",
       "<path class=\"bond-7 atom-1 atom-8\" d=\"M 269.1,206.9 L 320.3,220.4\" style=\"fill:none;fill-rule:evenodd;stroke:#000000;stroke-width:2.0px;stroke-linecap:butt;stroke-linejoin:miter;stroke-opacity:1\"/>\n",
       "<path class=\"bond-8 atom-2 atom-3\" d=\"M 249.2,142.8 L 292.6,93.2\" style=\"fill:none;fill-rule:evenodd;stroke:#000000;stroke-width:2.0px;stroke-linecap:butt;stroke-linejoin:miter;stroke-opacity:1\"/>\n",
       "<path class=\"bond-9 atom-2 atom-9\" d=\"M 249.2,142.8 L 212.8,164.7 L 208.7,155.5 Z\" style=\"fill:#000000;fill-rule:evenodd;fill-opacity:1;stroke:#000000;stroke-width:0.5px;stroke-linecap:butt;stroke-linejoin:miter;stroke-opacity:1;\"/>\n",
       "<path class=\"bond-10 atom-3 atom-4\" d=\"M 298.4,94.3 L 289.8,69.8\" style=\"fill:none;fill-rule:evenodd;stroke:#000000;stroke-width:2.0px;stroke-linecap:butt;stroke-linejoin:miter;stroke-opacity:1\"/>\n",
       "<path class=\"bond-10 atom-3 atom-4\" d=\"M 289.8,69.8 L 281.2,45.2\" style=\"fill:none;fill-rule:evenodd;stroke:#FF0000;stroke-width:2.0px;stroke-linecap:butt;stroke-linejoin:miter;stroke-opacity:1\"/>\n",
       "<path class=\"bond-10 atom-3 atom-4\" d=\"M 288.8,97.6 L 280.3,73.0\" style=\"fill:none;fill-rule:evenodd;stroke:#000000;stroke-width:2.0px;stroke-linecap:butt;stroke-linejoin:miter;stroke-opacity:1\"/>\n",
       "<path class=\"bond-10 atom-3 atom-4\" d=\"M 280.3,73.0 L 271.7,48.5\" style=\"fill:none;fill-rule:evenodd;stroke:#FF0000;stroke-width:2.0px;stroke-linecap:butt;stroke-linejoin:miter;stroke-opacity:1\"/>\n",
       "<path class=\"bond-11 atom-3 atom-5\" d=\"M 292.6,93.2 L 317.8,98.2\" style=\"fill:none;fill-rule:evenodd;stroke:#000000;stroke-width:2.0px;stroke-linecap:butt;stroke-linejoin:miter;stroke-opacity:1\"/>\n",
       "<path class=\"bond-11 atom-3 atom-5\" d=\"M 317.8,98.2 L 343.0,103.2\" style=\"fill:none;fill-rule:evenodd;stroke:#FF0000;stroke-width:2.0px;stroke-linecap:butt;stroke-linejoin:miter;stroke-opacity:1\"/>\n",
       "<path d=\"M 290.5,95.7 L 292.6,93.2 L 293.9,93.5\" style=\"fill:none;stroke:#000000;stroke-width:2.0px;stroke-linecap:butt;stroke-linejoin:miter;stroke-opacity:1;\"/>\n",
       "<path class=\"atom-0\" d=\"M 185.5 79.5 L 194.8 94.5 Q 195.7 96.0, 197.2 98.7 Q 198.7 101.4, 198.8 101.5 L 198.8 79.5 L 202.5 79.5 L 202.5 107.9 L 198.6 107.9 L 188.7 91.5 Q 187.5 89.5, 186.3 87.3 Q 185.1 85.1, 184.7 84.5 L 184.7 107.9 L 181.0 107.9 L 181.0 79.5 L 185.5 79.5 \" fill=\"#0000FF\"/>\n",
       "<path class=\"atom-0\" d=\"M 207.8 84.6 L 212.8 84.6 L 212.8 79.4 L 215.1 79.4 L 215.1 84.6 L 220.2 84.6 L 220.2 86.5 L 215.1 86.5 L 215.1 91.8 L 212.8 91.8 L 212.8 86.5 L 207.8 86.5 L 207.8 84.6 \" fill=\"#0000FF\"/>\n",
       "<path class=\"atom-4\" d=\"M 257.6 30.0 Q 257.6 23.2, 260.9 19.4 Q 264.3 15.6, 270.6 15.6 Q 276.8 15.6, 280.2 19.4 Q 283.6 23.2, 283.6 30.0 Q 283.6 36.8, 280.2 40.8 Q 276.8 44.6, 270.6 44.6 Q 264.3 44.6, 260.9 40.8 Q 257.6 36.9, 257.6 30.0 M 270.6 41.4 Q 274.9 41.4, 277.2 38.6 Q 279.6 35.6, 279.6 30.0 Q 279.6 24.4, 277.2 21.6 Q 274.9 18.8, 270.6 18.8 Q 266.2 18.8, 263.9 21.6 Q 261.6 24.4, 261.6 30.0 Q 261.6 35.7, 263.9 38.6 Q 266.2 41.4, 270.6 41.4 \" fill=\"#FF0000\"/>\n",
       "<path class=\"atom-5\" d=\"M 345.2 106.3 Q 345.2 99.5, 348.6 95.7 Q 351.9 91.9, 358.2 91.9 Q 364.5 91.9, 367.9 95.7 Q 371.2 99.5, 371.2 106.3 Q 371.2 113.2, 367.8 117.1 Q 364.4 121.0, 358.2 121.0 Q 352.0 121.0, 348.6 117.1 Q 345.2 113.2, 345.2 106.3 M 358.2 117.8 Q 362.5 117.8, 364.9 114.9 Q 367.2 112.0, 367.2 106.3 Q 367.2 100.7, 364.9 97.9 Q 362.5 95.1, 358.2 95.1 Q 353.9 95.1, 351.5 97.9 Q 349.2 100.7, 349.2 106.3 Q 349.2 112.0, 351.5 114.9 Q 353.9 117.8, 358.2 117.8 \" fill=\"#FF0000\"/>\n",
       "<path class=\"atom-5\" d=\"M 375.3 96.5 L 384.9 96.5 L 384.9 98.6 L 375.3 98.6 L 375.3 96.5 \" fill=\"#FF0000\"/>\n",
       "<path class=\"atom-6\" d=\"M 192.6 210.8 L 196.4 210.8 L 196.4 222.9 L 210.9 222.9 L 210.9 210.8 L 214.7 210.8 L 214.7 239.2 L 210.9 239.2 L 210.9 226.1 L 196.4 226.1 L 196.4 239.2 L 192.6 239.2 L 192.6 210.8 \" fill=\"#000000\"/>\n",
       "<path class=\"atom-7\" d=\"M 240.0 257.9 L 243.8 257.9 L 243.8 270.0 L 258.3 270.0 L 258.3 257.9 L 262.2 257.9 L 262.2 286.2 L 258.3 286.2 L 258.3 273.2 L 243.8 273.2 L 243.8 286.2 L 240.0 286.2 L 240.0 257.9 \" fill=\"#000000\"/>\n",
       "<path class=\"atom-8\" d=\"M 322.5 209.8 L 326.4 209.8 L 326.4 221.8 L 340.8 221.8 L 340.8 209.8 L 344.7 209.8 L 344.7 238.1 L 340.8 238.1 L 340.8 225.0 L 326.4 225.0 L 326.4 238.1 L 322.5 238.1 L 322.5 209.8 \" fill=\"#000000\"/>\n",
       "<path class=\"atom-9\" d=\"M 184.2 153.0 L 188.0 153.0 L 188.0 165.0 L 202.5 165.0 L 202.5 153.0 L 206.3 153.0 L 206.3 181.3 L 202.5 181.3 L 202.5 168.2 L 188.0 168.2 L 188.0 181.3 L 184.2 181.3 L 184.2 153.0 \" fill=\"#000000\"/>\n",
       "<path class=\"atom-10\" d=\"M 133.5 127.7 L 137.4 127.7 L 137.4 139.8 L 151.9 139.8 L 151.9 127.7 L 155.7 127.7 L 155.7 156.0 L 151.9 156.0 L 151.9 143.0 L 137.4 143.0 L 137.4 156.0 L 133.5 156.0 L 133.5 127.7 \" fill=\"#000000\"/>\n",
       "<path class=\"atom-11\" d=\"M 115.1 65.1 L 118.9 65.1 L 118.9 77.1 L 133.4 77.1 L 133.4 65.1 L 137.2 65.1 L 137.2 93.4 L 133.4 93.4 L 133.4 80.3 L 118.9 80.3 L 118.9 93.4 L 115.1 93.4 L 115.1 65.1 \" fill=\"#000000\"/>\n",
       "<path class=\"atom-12\" d=\"M 193.8 13.8 L 197.6 13.8 L 197.6 25.8 L 212.1 25.8 L 212.1 13.8 L 215.9 13.8 L 215.9 42.1 L 212.1 42.1 L 212.1 29.0 L 197.6 29.0 L 197.6 42.1 L 193.8 42.1 L 193.8 13.8 \" fill=\"#000000\"/>\n",
       "</svg>"
      ],
      "text/plain": [
       "<IPython.core.display.SVG object>"
      ]
     },
     "execution_count": 19,
     "metadata": {},
     "output_type": "execute_result"
    }
   ],
   "source": [
    "from mdtraj import load_pdb\n",
    "\n",
    "mdtraj_topology = load_pdb('zw_l_alanine.pdb').topology\n",
    "openff_topology = Topology.from_openmm(openmm_topology, unique_molecules=[zw_l_alanine])\n",
    "\n",
    "from_mdtraj_topology = openff_topology.molecule(0)\n",
    "\n",
    "assert zw_l_alanine.is_isomorphic_with(from_mdtraj_topology)\n",
    "\n",
    "from_mdtraj_topology.visualize()"
   ]
  },
  {
   "cell_type": "markdown",
   "id": "29c39bd1",
   "metadata": {},
   "source": [
    "## From Toolkit objects\n",
    "\n",
    "The OpenFF Toolkit calls out to other software to perform low-level tasks like reading SMILES or files. These external software packages are called toolkits, and presently include [RDKit](https://www.rdkit.org/) and the [OpenEye Toolkit](https://www.eyesopen.com/toolkit-development). OpenFF `Molecule` objects can be created from the equivalent objects in these toolkits."
   ]
  },
  {
   "cell_type": "markdown",
   "id": "c6f2af84",
   "metadata": {},
   "source": [
    "### From RDKit `Mol`\n",
    "\n",
    "The [`Molecule.from_rdkit()`](openff.toolkit.topology.Molecule.from_rdkit) method converts an [`rdkit.Chem.rdchem.Mol`](rdkit.Chem.rdchem.Mol) object to an OpenFF `Molecule`."
   ]
  },
  {
   "cell_type": "code",
   "execution_count": 20,
   "id": "fae232e6",
   "metadata": {},
   "outputs": [
    {
     "name": "stdout",
     "output_type": "stream",
     "text": [
      "rdmol is of type <class 'rdkit.Chem.rdchem.Mol'>\n"
     ]
    },
    {
     "data": {
      "image/svg+xml": [
       "<svg xmlns=\"http://www.w3.org/2000/svg\" xmlns:rdkit=\"http://www.rdkit.org/xml\" xmlns:xlink=\"http://www.w3.org/1999/xlink\" version=\"1.1\" baseProfile=\"full\" xml:space=\"preserve\" width=\"500px\" height=\"300px\" viewBox=\"0 0 500 300\">\n",
       "<!-- END OF HEADER -->\n",
       "<rect style=\"opacity:1.0;fill:#FFFFFF;stroke:none\" width=\"500.0\" height=\"300.0\" x=\"0.0\" y=\"0.0\"> </rect>\n",
       "<path class=\"bond-0 atom-0 atom-1\" d=\"M 276.5,80.1 L 256.1,148.4\" style=\"fill:none;fill-rule:evenodd;stroke:#000000;stroke-width:2.0px;stroke-linecap:butt;stroke-linejoin:miter;stroke-opacity:1\"/>\n",
       "<path class=\"bond-1 atom-1 atom-2\" d=\"M 256.1,148.4 L 235.3,166.5\" style=\"fill:none;fill-rule:evenodd;stroke:#000000;stroke-width:2.0px;stroke-linecap:butt;stroke-linejoin:miter;stroke-opacity:1\"/>\n",
       "<path class=\"bond-1 atom-1 atom-2\" d=\"M 235.3,166.5 L 214.5,184.6\" style=\"fill:none;fill-rule:evenodd;stroke:#0000FF;stroke-width:2.0px;stroke-linecap:butt;stroke-linejoin:miter;stroke-opacity:1\"/>\n",
       "<path class=\"bond-2 atom-1 atom-3\" d=\"M 256.1,148.4 L 302.8,200.7\" style=\"fill:none;fill-rule:evenodd;stroke:#000000;stroke-width:2.0px;stroke-linecap:butt;stroke-linejoin:miter;stroke-opacity:1\"/>\n",
       "<path class=\"bond-3 atom-3 atom-4\" d=\"M 302.8,200.7 L 294.2,226.3\" style=\"fill:none;fill-rule:evenodd;stroke:#000000;stroke-width:2.0px;stroke-linecap:butt;stroke-linejoin:miter;stroke-opacity:1\"/>\n",
       "<path class=\"bond-3 atom-3 atom-4\" d=\"M 294.2,226.3 L 285.6,251.8\" style=\"fill:none;fill-rule:evenodd;stroke:#FF0000;stroke-width:2.0px;stroke-linecap:butt;stroke-linejoin:miter;stroke-opacity:1\"/>\n",
       "<path class=\"bond-4 atom-3 atom-5\" d=\"M 300.8,206.6 L 329.5,200.6\" style=\"fill:none;fill-rule:evenodd;stroke:#000000;stroke-width:2.0px;stroke-linecap:butt;stroke-linejoin:miter;stroke-opacity:1\"/>\n",
       "<path class=\"bond-4 atom-3 atom-5\" d=\"M 329.5,200.6 L 358.2,194.6\" style=\"fill:none;fill-rule:evenodd;stroke:#FF0000;stroke-width:2.0px;stroke-linecap:butt;stroke-linejoin:miter;stroke-opacity:1\"/>\n",
       "<path class=\"bond-4 atom-3 atom-5\" d=\"M 298.7,196.1 L 327.3,190.1\" style=\"fill:none;fill-rule:evenodd;stroke:#000000;stroke-width:2.0px;stroke-linecap:butt;stroke-linejoin:miter;stroke-opacity:1\"/>\n",
       "<path class=\"bond-4 atom-3 atom-5\" d=\"M 327.3,190.1 L 356.0,184.1\" style=\"fill:none;fill-rule:evenodd;stroke:#FF0000;stroke-width:2.0px;stroke-linecap:butt;stroke-linejoin:miter;stroke-opacity:1\"/>\n",
       "<path class=\"bond-5 atom-0 atom-6\" d=\"M 276.5,80.1 L 331.6,94.8\" style=\"fill:none;fill-rule:evenodd;stroke:#000000;stroke-width:2.0px;stroke-linecap:butt;stroke-linejoin:miter;stroke-opacity:1\"/>\n",
       "<path class=\"bond-6 atom-0 atom-7\" d=\"M 276.5,80.1 L 312.5,42.8\" style=\"fill:none;fill-rule:evenodd;stroke:#000000;stroke-width:2.0px;stroke-linecap:butt;stroke-linejoin:miter;stroke-opacity:1\"/>\n",
       "<path class=\"bond-7 atom-0 atom-8\" d=\"M 276.5,80.1 L 238.5,42.7\" style=\"fill:none;fill-rule:evenodd;stroke:#000000;stroke-width:2.0px;stroke-linecap:butt;stroke-linejoin:miter;stroke-opacity:1\"/>\n",
       "<path class=\"bond-8 atom-1 atom-9\" d=\"M 252.7,147.4 L 253.0,146.6\" style=\"fill:none;fill-rule:evenodd;stroke:#000000;stroke-width:1.0px;stroke-linecap:butt;stroke-linejoin:miter;stroke-opacity:1\"/>\n",
       "<path class=\"bond-8 atom-1 atom-9\" d=\"M 249.3,146.3 L 250.0,144.8\" style=\"fill:none;fill-rule:evenodd;stroke:#000000;stroke-width:1.0px;stroke-linecap:butt;stroke-linejoin:miter;stroke-opacity:1\"/>\n",
       "<path class=\"bond-8 atom-1 atom-9\" d=\"M 245.9,145.3 L 246.9,143.0\" style=\"fill:none;fill-rule:evenodd;stroke:#000000;stroke-width:1.0px;stroke-linecap:butt;stroke-linejoin:miter;stroke-opacity:1\"/>\n",
       "<path class=\"bond-8 atom-1 atom-9\" d=\"M 242.5,144.3 L 243.9,141.2\" style=\"fill:none;fill-rule:evenodd;stroke:#000000;stroke-width:1.0px;stroke-linecap:butt;stroke-linejoin:miter;stroke-opacity:1\"/>\n",
       "<path class=\"bond-8 atom-1 atom-9\" d=\"M 239.2,143.2 L 240.8,139.4\" style=\"fill:none;fill-rule:evenodd;stroke:#000000;stroke-width:1.0px;stroke-linecap:butt;stroke-linejoin:miter;stroke-opacity:1\"/>\n",
       "<path class=\"bond-8 atom-1 atom-9\" d=\"M 235.8,142.2 L 237.8,137.7\" style=\"fill:none;fill-rule:evenodd;stroke:#000000;stroke-width:1.0px;stroke-linecap:butt;stroke-linejoin:miter;stroke-opacity:1\"/>\n",
       "<path class=\"bond-8 atom-1 atom-9\" d=\"M 232.4,141.1 L 234.7,135.9\" style=\"fill:none;fill-rule:evenodd;stroke:#000000;stroke-width:1.0px;stroke-linecap:butt;stroke-linejoin:miter;stroke-opacity:1\"/>\n",
       "<path class=\"bond-8 atom-1 atom-9\" d=\"M 229.0,140.1 L 231.6,134.1\" style=\"fill:none;fill-rule:evenodd;stroke:#000000;stroke-width:1.0px;stroke-linecap:butt;stroke-linejoin:miter;stroke-opacity:1\"/>\n",
       "<path class=\"bond-8 atom-1 atom-9\" d=\"M 225.6,139.1 L 228.6,132.3\" style=\"fill:none;fill-rule:evenodd;stroke:#000000;stroke-width:1.0px;stroke-linecap:butt;stroke-linejoin:miter;stroke-opacity:1\"/>\n",
       "<path class=\"bond-8 atom-1 atom-9\" d=\"M 222.2,138.0 L 225.5,130.5\" style=\"fill:none;fill-rule:evenodd;stroke:#000000;stroke-width:1.0px;stroke-linecap:butt;stroke-linejoin:miter;stroke-opacity:1\"/>\n",
       "<path class=\"bond-8 atom-1 atom-9\" d=\"M 218.8,137.0 L 222.5,128.7\" style=\"fill:none;fill-rule:evenodd;stroke:#000000;stroke-width:1.0px;stroke-linecap:butt;stroke-linejoin:miter;stroke-opacity:1\"/>\n",
       "<path class=\"bond-8 atom-1 atom-9\" d=\"M 215.5,135.9 L 219.4,126.9\" style=\"fill:none;fill-rule:evenodd;stroke:#000000;stroke-width:1.0px;stroke-linecap:butt;stroke-linejoin:miter;stroke-opacity:1\"/>\n",
       "<path class=\"bond-8 atom-1 atom-9\" d=\"M 212.1,134.9 L 216.4,125.1\" style=\"fill:none;fill-rule:evenodd;stroke:#000000;stroke-width:1.0px;stroke-linecap:butt;stroke-linejoin:miter;stroke-opacity:1\"/>\n",
       "<path class=\"bond-9 atom-2 atom-10\" d=\"M 182.3,188.1 L 170.2,176.0\" style=\"fill:none;fill-rule:evenodd;stroke:#0000FF;stroke-width:2.0px;stroke-linecap:butt;stroke-linejoin:miter;stroke-opacity:1\"/>\n",
       "<path class=\"bond-9 atom-2 atom-10\" d=\"M 170.2,176.0 L 158.2,163.9\" style=\"fill:none;fill-rule:evenodd;stroke:#000000;stroke-width:2.0px;stroke-linecap:butt;stroke-linejoin:miter;stroke-opacity:1\"/>\n",
       "<path class=\"bond-10 atom-2 atom-11\" d=\"M 182.3,204.3 L 160.7,209.2\" style=\"fill:none;fill-rule:evenodd;stroke:#0000FF;stroke-width:2.0px;stroke-linecap:butt;stroke-linejoin:miter;stroke-opacity:1\"/>\n",
       "<path class=\"bond-10 atom-2 atom-11\" d=\"M 160.7,209.2 L 139.1,214.2\" style=\"fill:none;fill-rule:evenodd;stroke:#000000;stroke-width:2.0px;stroke-linecap:butt;stroke-linejoin:miter;stroke-opacity:1\"/>\n",
       "<path class=\"bond-11 atom-2 atom-12\" d=\"M 198.8,217.8 L 202.6,236.2\" style=\"fill:none;fill-rule:evenodd;stroke:#0000FF;stroke-width:2.0px;stroke-linecap:butt;stroke-linejoin:miter;stroke-opacity:1\"/>\n",
       "<path class=\"bond-11 atom-2 atom-12\" d=\"M 202.6,236.2 L 206.5,254.6\" style=\"fill:none;fill-rule:evenodd;stroke:#000000;stroke-width:2.0px;stroke-linecap:butt;stroke-linejoin:miter;stroke-opacity:1\"/>\n",
       "<path d=\"M 300.4,198.1 L 302.8,200.7 L 302.3,202.0\" style=\"fill:none;stroke:#000000;stroke-width:2.0px;stroke-linecap:butt;stroke-linejoin:miter;stroke-opacity:1;\"/>\n",
       "<path class=\"atom-2\" d=\"M 189.1 187.1 L 198.4 202.1 Q 199.3 203.6, 200.8 206.2 Q 202.3 208.9, 202.4 209.1 L 202.4 187.1 L 206.1 187.1 L 206.1 215.4 L 202.2 215.4 L 192.3 199.0 Q 191.1 197.1, 189.9 194.9 Q 188.7 192.7, 188.3 192.0 L 188.3 215.4 L 184.6 215.4 L 184.6 187.1 L 189.1 187.1 \" fill=\"#0000FF\"/>\n",
       "<path class=\"atom-2\" d=\"M 211.4 192.2 L 216.4 192.2 L 216.4 186.9 L 218.6 186.9 L 218.6 192.2 L 223.8 192.2 L 223.8 194.1 L 218.6 194.1 L 218.6 199.4 L 216.4 199.4 L 216.4 194.1 L 211.4 194.1 L 211.4 192.2 \" fill=\"#0000FF\"/>\n",
       "<path class=\"atom-4\" d=\"M 267.0 268.5 Q 267.0 261.7, 270.4 257.9 Q 273.7 254.1, 280.0 254.1 Q 286.3 254.1, 289.6 257.9 Q 293.0 261.7, 293.0 268.5 Q 293.0 275.4, 289.6 279.3 Q 286.2 283.2, 280.0 283.2 Q 273.8 283.2, 270.4 279.3 Q 267.0 275.4, 267.0 268.5 M 280.0 280.0 Q 284.3 280.0, 286.6 277.1 Q 289.0 274.2, 289.0 268.5 Q 289.0 263.0, 286.6 260.2 Q 284.3 257.3, 280.0 257.3 Q 275.7 257.3, 273.3 260.1 Q 271.0 262.9, 271.0 268.5 Q 271.0 274.2, 273.3 277.1 Q 275.7 280.0, 280.0 280.0 \" fill=\"#FF0000\"/>\n",
       "<path class=\"atom-4\" d=\"M 297.0 258.7 L 306.7 258.7 L 306.7 260.8 L 297.0 260.8 L 297.0 258.7 \" fill=\"#FF0000\"/>\n",
       "<path class=\"atom-5\" d=\"M 359.5 186.3 Q 359.5 179.5, 362.8 175.7 Q 366.2 171.9, 372.5 171.9 Q 378.7 171.9, 382.1 175.7 Q 385.5 179.5, 385.5 186.3 Q 385.5 193.1, 382.1 197.1 Q 378.7 200.9, 372.5 200.9 Q 366.2 200.9, 362.8 197.1 Q 359.5 193.2, 359.5 186.3 M 372.5 197.7 Q 376.8 197.7, 379.1 194.9 Q 381.5 191.9, 381.5 186.3 Q 381.5 180.7, 379.1 177.9 Q 376.8 175.1, 372.5 175.1 Q 368.1 175.1, 365.8 177.9 Q 363.5 180.7, 363.5 186.3 Q 363.5 192.0, 365.8 194.9 Q 368.1 197.7, 372.5 197.7 \" fill=\"#FF0000\"/>\n",
       "<path class=\"atom-6\" d=\"M 334.0 84.2 L 337.8 84.2 L 337.8 96.2 L 352.3 96.2 L 352.3 84.2 L 356.1 84.2 L 356.1 112.5 L 352.3 112.5 L 352.3 99.4 L 337.8 99.4 L 337.8 112.5 L 334.0 112.5 L 334.0 84.2 \" fill=\"#000000\"/>\n",
       "<path class=\"atom-7\" d=\"M 314.9 14.7 L 318.7 14.7 L 318.7 26.7 L 333.2 26.7 L 333.2 14.7 L 337.0 14.7 L 337.0 43.0 L 333.2 43.0 L 333.2 29.9 L 318.7 29.9 L 318.7 43.0 L 314.9 43.0 L 314.9 14.7 \" fill=\"#000000\"/>\n",
       "<path class=\"atom-8\" d=\"M 214.0 15.3 L 217.8 15.3 L 217.8 27.3 L 232.3 27.3 L 232.3 15.3 L 236.2 15.3 L 236.2 43.6 L 232.3 43.6 L 232.3 30.5 L 217.8 30.5 L 217.8 43.6 L 214.0 43.6 L 214.0 15.3 \" fill=\"#000000\"/>\n",
       "<path class=\"atom-9\" d=\"M 187.4 108.9 L 191.2 108.9 L 191.2 120.9 L 205.7 120.9 L 205.7 108.9 L 209.5 108.9 L 209.5 137.2 L 205.7 137.2 L 205.7 124.1 L 191.2 124.1 L 191.2 137.2 L 187.4 137.2 L 187.4 108.9 \" fill=\"#000000\"/>\n",
       "<path class=\"atom-10\" d=\"M 133.7 136.2 L 137.5 136.2 L 137.5 148.3 L 152.0 148.3 L 152.0 136.2 L 155.8 136.2 L 155.8 164.5 L 152.0 164.5 L 152.0 151.5 L 137.5 151.5 L 137.5 164.5 L 133.7 164.5 L 133.7 136.2 \" fill=\"#000000\"/>\n",
       "<path class=\"atom-11\" d=\"M 114.5 203.1 L 118.4 203.1 L 118.4 215.1 L 132.9 215.1 L 132.9 203.1 L 136.7 203.1 L 136.7 231.4 L 132.9 231.4 L 132.9 218.3 L 118.4 218.3 L 118.4 231.4 L 114.5 231.4 L 114.5 203.1 \" fill=\"#000000\"/>\n",
       "<path class=\"atom-12\" d=\"M 198.8 257.0 L 202.7 257.0 L 202.7 269.0 L 217.2 269.0 L 217.2 257.0 L 221.0 257.0 L 221.0 285.3 L 217.2 285.3 L 217.2 272.2 L 202.7 272.2 L 202.7 285.3 L 198.8 285.3 L 198.8 257.0 \" fill=\"#000000\"/>\n",
       "</svg>"
      ],
      "text/plain": [
       "<IPython.core.display.SVG object>"
      ]
     },
     "execution_count": 20,
     "metadata": {},
     "output_type": "execute_result"
    }
   ],
   "source": [
    "from rdkit import Chem\n",
    "rdmol = Chem.MolFromSmiles(\"C[C@H]([NH3+])C([O-])=O\")\n",
    "\n",
    "print(\"rdmol is of type\", type(rdmol))\n",
    "\n",
    "from_rdmol = Molecule.from_rdkit(rdmol)\n",
    "\n",
    "assert zw_l_alanine.is_isomorphic_with(from_rdmol)\n",
    "from_rdmol.visualize()"
   ]
  },
  {
   "cell_type": "markdown",
   "id": "6fe44fac",
   "metadata": {},
   "source": [
    "### From OpenEye `OEMol`\n",
    "\n",
    "The [`Molecule.from_openeye()`](openff.toolkit.topology.Molecule.from_rdkit) method converts an object that inherits from [`openeye.oechem.OEMolBase`](https://docs.eyesopen.com/toolkits/python/oechemtk/OEChemClasses/OEMolBase.html) to an OpenFF `Molecule`."
   ]
  },
  {
   "cell_type": "code",
   "execution_count": 21,
   "id": "c186257f",
   "metadata": {},
   "outputs": [
    {
     "data": {
      "image/svg+xml": [
       "<svg xmlns=\"http://www.w3.org/2000/svg\" xmlns:rdkit=\"http://www.rdkit.org/xml\" xmlns:xlink=\"http://www.w3.org/1999/xlink\" version=\"1.1\" baseProfile=\"full\" xml:space=\"preserve\" width=\"500px\" height=\"300px\" viewBox=\"0 0 500 300\">\n",
       "<!-- END OF HEADER -->\n",
       "<rect style=\"opacity:1.0;fill:#FFFFFF;stroke:none\" width=\"500.0\" height=\"300.0\" x=\"0.0\" y=\"0.0\"> </rect>\n",
       "<path class=\"bond-0 atom-0 atom-1\" d=\"M 276.5,80.1 L 256.1,148.4\" style=\"fill:none;fill-rule:evenodd;stroke:#000000;stroke-width:2.0px;stroke-linecap:butt;stroke-linejoin:miter;stroke-opacity:1\"/>\n",
       "<path class=\"bond-1 atom-1 atom-2\" d=\"M 252.7,147.4 L 253.0,146.6\" style=\"fill:none;fill-rule:evenodd;stroke:#000000;stroke-width:1.0px;stroke-linecap:butt;stroke-linejoin:miter;stroke-opacity:1\"/>\n",
       "<path class=\"bond-1 atom-1 atom-2\" d=\"M 249.3,146.3 L 250.0,144.8\" style=\"fill:none;fill-rule:evenodd;stroke:#000000;stroke-width:1.0px;stroke-linecap:butt;stroke-linejoin:miter;stroke-opacity:1\"/>\n",
       "<path class=\"bond-1 atom-1 atom-2\" d=\"M 245.9,145.3 L 246.9,143.0\" style=\"fill:none;fill-rule:evenodd;stroke:#000000;stroke-width:1.0px;stroke-linecap:butt;stroke-linejoin:miter;stroke-opacity:1\"/>\n",
       "<path class=\"bond-1 atom-1 atom-2\" d=\"M 242.5,144.3 L 243.9,141.2\" style=\"fill:none;fill-rule:evenodd;stroke:#000000;stroke-width:1.0px;stroke-linecap:butt;stroke-linejoin:miter;stroke-opacity:1\"/>\n",
       "<path class=\"bond-1 atom-1 atom-2\" d=\"M 239.2,143.2 L 240.8,139.4\" style=\"fill:none;fill-rule:evenodd;stroke:#000000;stroke-width:1.0px;stroke-linecap:butt;stroke-linejoin:miter;stroke-opacity:1\"/>\n",
       "<path class=\"bond-1 atom-1 atom-2\" d=\"M 235.8,142.2 L 237.8,137.7\" style=\"fill:none;fill-rule:evenodd;stroke:#000000;stroke-width:1.0px;stroke-linecap:butt;stroke-linejoin:miter;stroke-opacity:1\"/>\n",
       "<path class=\"bond-1 atom-1 atom-2\" d=\"M 232.4,141.1 L 234.7,135.9\" style=\"fill:none;fill-rule:evenodd;stroke:#000000;stroke-width:1.0px;stroke-linecap:butt;stroke-linejoin:miter;stroke-opacity:1\"/>\n",
       "<path class=\"bond-1 atom-1 atom-2\" d=\"M 229.0,140.1 L 231.6,134.1\" style=\"fill:none;fill-rule:evenodd;stroke:#000000;stroke-width:1.0px;stroke-linecap:butt;stroke-linejoin:miter;stroke-opacity:1\"/>\n",
       "<path class=\"bond-1 atom-1 atom-2\" d=\"M 225.6,139.1 L 228.6,132.3\" style=\"fill:none;fill-rule:evenodd;stroke:#000000;stroke-width:1.0px;stroke-linecap:butt;stroke-linejoin:miter;stroke-opacity:1\"/>\n",
       "<path class=\"bond-1 atom-1 atom-2\" d=\"M 222.2,138.0 L 225.5,130.5\" style=\"fill:none;fill-rule:evenodd;stroke:#000000;stroke-width:1.0px;stroke-linecap:butt;stroke-linejoin:miter;stroke-opacity:1\"/>\n",
       "<path class=\"bond-1 atom-1 atom-2\" d=\"M 218.8,137.0 L 222.5,128.7\" style=\"fill:none;fill-rule:evenodd;stroke:#000000;stroke-width:1.0px;stroke-linecap:butt;stroke-linejoin:miter;stroke-opacity:1\"/>\n",
       "<path class=\"bond-1 atom-1 atom-2\" d=\"M 215.5,135.9 L 219.4,126.9\" style=\"fill:none;fill-rule:evenodd;stroke:#000000;stroke-width:1.0px;stroke-linecap:butt;stroke-linejoin:miter;stroke-opacity:1\"/>\n",
       "<path class=\"bond-1 atom-1 atom-2\" d=\"M 212.1,134.9 L 216.4,125.1\" style=\"fill:none;fill-rule:evenodd;stroke:#000000;stroke-width:1.0px;stroke-linecap:butt;stroke-linejoin:miter;stroke-opacity:1\"/>\n",
       "<path class=\"bond-2 atom-1 atom-3\" d=\"M 256.1,148.4 L 235.3,166.5\" style=\"fill:none;fill-rule:evenodd;stroke:#000000;stroke-width:2.0px;stroke-linecap:butt;stroke-linejoin:miter;stroke-opacity:1\"/>\n",
       "<path class=\"bond-2 atom-1 atom-3\" d=\"M 235.3,166.5 L 214.5,184.6\" style=\"fill:none;fill-rule:evenodd;stroke:#0000FF;stroke-width:2.0px;stroke-linecap:butt;stroke-linejoin:miter;stroke-opacity:1\"/>\n",
       "<path class=\"bond-3 atom-1 atom-4\" d=\"M 256.1,148.4 L 302.8,200.7\" style=\"fill:none;fill-rule:evenodd;stroke:#000000;stroke-width:2.0px;stroke-linecap:butt;stroke-linejoin:miter;stroke-opacity:1\"/>\n",
       "<path class=\"bond-4 atom-4 atom-5\" d=\"M 302.8,200.7 L 294.2,226.3\" style=\"fill:none;fill-rule:evenodd;stroke:#000000;stroke-width:2.0px;stroke-linecap:butt;stroke-linejoin:miter;stroke-opacity:1\"/>\n",
       "<path class=\"bond-4 atom-4 atom-5\" d=\"M 294.2,226.3 L 285.6,251.8\" style=\"fill:none;fill-rule:evenodd;stroke:#FF0000;stroke-width:2.0px;stroke-linecap:butt;stroke-linejoin:miter;stroke-opacity:1\"/>\n",
       "<path class=\"bond-5 atom-4 atom-6\" d=\"M 300.8,206.6 L 329.5,200.6\" style=\"fill:none;fill-rule:evenodd;stroke:#000000;stroke-width:2.0px;stroke-linecap:butt;stroke-linejoin:miter;stroke-opacity:1\"/>\n",
       "<path class=\"bond-5 atom-4 atom-6\" d=\"M 329.5,200.6 L 358.2,194.6\" style=\"fill:none;fill-rule:evenodd;stroke:#FF0000;stroke-width:2.0px;stroke-linecap:butt;stroke-linejoin:miter;stroke-opacity:1\"/>\n",
       "<path class=\"bond-5 atom-4 atom-6\" d=\"M 298.7,196.1 L 327.3,190.1\" style=\"fill:none;fill-rule:evenodd;stroke:#000000;stroke-width:2.0px;stroke-linecap:butt;stroke-linejoin:miter;stroke-opacity:1\"/>\n",
       "<path class=\"bond-5 atom-4 atom-6\" d=\"M 327.3,190.1 L 356.0,184.1\" style=\"fill:none;fill-rule:evenodd;stroke:#FF0000;stroke-width:2.0px;stroke-linecap:butt;stroke-linejoin:miter;stroke-opacity:1\"/>\n",
       "<path class=\"bond-6 atom-0 atom-7\" d=\"M 276.5,80.1 L 331.6,94.8\" style=\"fill:none;fill-rule:evenodd;stroke:#000000;stroke-width:2.0px;stroke-linecap:butt;stroke-linejoin:miter;stroke-opacity:1\"/>\n",
       "<path class=\"bond-7 atom-0 atom-8\" d=\"M 276.5,80.1 L 312.5,42.8\" style=\"fill:none;fill-rule:evenodd;stroke:#000000;stroke-width:2.0px;stroke-linecap:butt;stroke-linejoin:miter;stroke-opacity:1\"/>\n",
       "<path class=\"bond-8 atom-0 atom-9\" d=\"M 276.5,80.1 L 238.5,42.7\" style=\"fill:none;fill-rule:evenodd;stroke:#000000;stroke-width:2.0px;stroke-linecap:butt;stroke-linejoin:miter;stroke-opacity:1\"/>\n",
       "<path class=\"bond-9 atom-3 atom-10\" d=\"M 182.3,188.1 L 170.2,176.0\" style=\"fill:none;fill-rule:evenodd;stroke:#0000FF;stroke-width:2.0px;stroke-linecap:butt;stroke-linejoin:miter;stroke-opacity:1\"/>\n",
       "<path class=\"bond-9 atom-3 atom-10\" d=\"M 170.2,176.0 L 158.2,163.9\" style=\"fill:none;fill-rule:evenodd;stroke:#000000;stroke-width:2.0px;stroke-linecap:butt;stroke-linejoin:miter;stroke-opacity:1\"/>\n",
       "<path class=\"bond-10 atom-3 atom-11\" d=\"M 182.3,204.3 L 160.7,209.2\" style=\"fill:none;fill-rule:evenodd;stroke:#0000FF;stroke-width:2.0px;stroke-linecap:butt;stroke-linejoin:miter;stroke-opacity:1\"/>\n",
       "<path class=\"bond-10 atom-3 atom-11\" d=\"M 160.7,209.2 L 139.1,214.2\" style=\"fill:none;fill-rule:evenodd;stroke:#000000;stroke-width:2.0px;stroke-linecap:butt;stroke-linejoin:miter;stroke-opacity:1\"/>\n",
       "<path class=\"bond-11 atom-3 atom-12\" d=\"M 198.8,217.8 L 202.6,236.2\" style=\"fill:none;fill-rule:evenodd;stroke:#0000FF;stroke-width:2.0px;stroke-linecap:butt;stroke-linejoin:miter;stroke-opacity:1\"/>\n",
       "<path class=\"bond-11 atom-3 atom-12\" d=\"M 202.6,236.2 L 206.5,254.6\" style=\"fill:none;fill-rule:evenodd;stroke:#000000;stroke-width:2.0px;stroke-linecap:butt;stroke-linejoin:miter;stroke-opacity:1\"/>\n",
       "<path d=\"M 300.4,198.1 L 302.8,200.7 L 302.3,202.0\" style=\"fill:none;stroke:#000000;stroke-width:2.0px;stroke-linecap:butt;stroke-linejoin:miter;stroke-opacity:1;\"/>\n",
       "<path class=\"atom-2\" d=\"M 187.4 108.9 L 191.2 108.9 L 191.2 120.9 L 205.7 120.9 L 205.7 108.9 L 209.5 108.9 L 209.5 137.2 L 205.7 137.2 L 205.7 124.1 L 191.2 124.1 L 191.2 137.2 L 187.4 137.2 L 187.4 108.9 \" fill=\"#000000\"/>\n",
       "<path class=\"atom-3\" d=\"M 189.1 187.1 L 198.4 202.1 Q 199.3 203.6, 200.8 206.2 Q 202.3 208.9, 202.4 209.1 L 202.4 187.1 L 206.1 187.1 L 206.1 215.4 L 202.2 215.4 L 192.3 199.0 Q 191.1 197.1, 189.9 194.9 Q 188.7 192.7, 188.3 192.0 L 188.3 215.4 L 184.6 215.4 L 184.6 187.1 L 189.1 187.1 \" fill=\"#0000FF\"/>\n",
       "<path class=\"atom-3\" d=\"M 211.4 192.2 L 216.4 192.2 L 216.4 186.9 L 218.6 186.9 L 218.6 192.2 L 223.8 192.2 L 223.8 194.1 L 218.6 194.1 L 218.6 199.4 L 216.4 199.4 L 216.4 194.1 L 211.4 194.1 L 211.4 192.2 \" fill=\"#0000FF\"/>\n",
       "<path class=\"atom-5\" d=\"M 267.0 268.5 Q 267.0 261.7, 270.4 257.9 Q 273.7 254.1, 280.0 254.1 Q 286.3 254.1, 289.6 257.9 Q 293.0 261.7, 293.0 268.5 Q 293.0 275.4, 289.6 279.3 Q 286.2 283.2, 280.0 283.2 Q 273.8 283.2, 270.4 279.3 Q 267.0 275.4, 267.0 268.5 M 280.0 280.0 Q 284.3 280.0, 286.6 277.1 Q 289.0 274.2, 289.0 268.5 Q 289.0 263.0, 286.6 260.2 Q 284.3 257.3, 280.0 257.3 Q 275.7 257.3, 273.3 260.1 Q 271.0 262.9, 271.0 268.5 Q 271.0 274.2, 273.3 277.1 Q 275.7 280.0, 280.0 280.0 \" fill=\"#FF0000\"/>\n",
       "<path class=\"atom-5\" d=\"M 297.0 258.7 L 306.7 258.7 L 306.7 260.8 L 297.0 260.8 L 297.0 258.7 \" fill=\"#FF0000\"/>\n",
       "<path class=\"atom-6\" d=\"M 359.5 186.3 Q 359.5 179.5, 362.8 175.7 Q 366.2 171.9, 372.5 171.9 Q 378.7 171.9, 382.1 175.7 Q 385.5 179.5, 385.5 186.3 Q 385.5 193.1, 382.1 197.1 Q 378.7 200.9, 372.5 200.9 Q 366.2 200.9, 362.8 197.1 Q 359.5 193.2, 359.5 186.3 M 372.5 197.7 Q 376.8 197.7, 379.1 194.9 Q 381.5 191.9, 381.5 186.3 Q 381.5 180.7, 379.1 177.9 Q 376.8 175.1, 372.5 175.1 Q 368.1 175.1, 365.8 177.9 Q 363.5 180.7, 363.5 186.3 Q 363.5 192.0, 365.8 194.9 Q 368.1 197.7, 372.5 197.7 \" fill=\"#FF0000\"/>\n",
       "<path class=\"atom-7\" d=\"M 334.0 84.2 L 337.8 84.2 L 337.8 96.2 L 352.3 96.2 L 352.3 84.2 L 356.1 84.2 L 356.1 112.5 L 352.3 112.5 L 352.3 99.4 L 337.8 99.4 L 337.8 112.5 L 334.0 112.5 L 334.0 84.2 \" fill=\"#000000\"/>\n",
       "<path class=\"atom-8\" d=\"M 314.9 14.7 L 318.7 14.7 L 318.7 26.7 L 333.2 26.7 L 333.2 14.7 L 337.0 14.7 L 337.0 43.0 L 333.2 43.0 L 333.2 29.9 L 318.7 29.9 L 318.7 43.0 L 314.9 43.0 L 314.9 14.7 \" fill=\"#000000\"/>\n",
       "<path class=\"atom-9\" d=\"M 214.0 15.3 L 217.8 15.3 L 217.8 27.3 L 232.3 27.3 L 232.3 15.3 L 236.2 15.3 L 236.2 43.6 L 232.3 43.6 L 232.3 30.5 L 217.8 30.5 L 217.8 43.6 L 214.0 43.6 L 214.0 15.3 \" fill=\"#000000\"/>\n",
       "<path class=\"atom-10\" d=\"M 133.7 136.2 L 137.5 136.2 L 137.5 148.3 L 152.0 148.3 L 152.0 136.2 L 155.8 136.2 L 155.8 164.5 L 152.0 164.5 L 152.0 151.5 L 137.5 151.5 L 137.5 164.5 L 133.7 164.5 L 133.7 136.2 \" fill=\"#000000\"/>\n",
       "<path class=\"atom-11\" d=\"M 114.5 203.1 L 118.4 203.1 L 118.4 215.1 L 132.9 215.1 L 132.9 203.1 L 136.7 203.1 L 136.7 231.4 L 132.9 231.4 L 132.9 218.3 L 118.4 218.3 L 118.4 231.4 L 114.5 231.4 L 114.5 203.1 \" fill=\"#000000\"/>\n",
       "<path class=\"atom-12\" d=\"M 198.8 257.0 L 202.7 257.0 L 202.7 269.0 L 217.2 269.0 L 217.2 257.0 L 221.0 257.0 L 221.0 285.3 L 217.2 285.3 L 217.2 272.2 L 202.7 272.2 L 202.7 285.3 L 198.8 285.3 L 198.8 257.0 \" fill=\"#000000\"/>\n",
       "</svg>"
      ],
      "text/plain": [
       "<IPython.core.display.SVG object>"
      ]
     },
     "execution_count": 21,
     "metadata": {},
     "output_type": "execute_result"
    }
   ],
   "source": [
    "from openeye import oechem\n",
    "\n",
    "oemol = oechem.OEGraphMol()\n",
    "oechem.OESmilesToMol(oemol, \"C[C@H]([NH3+])C([O-])=O\")\n",
    "\n",
    "assert isinstance(oemol, oechem.OEMolBase)\n",
    "\n",
    "from_oemol = Molecule.from_openeye(oemol)\n",
    "\n",
    "assert zw_l_alanine.is_isomorphic_with(from_oemol)\n",
    "from_oemol.visualize()"
   ]
  },
  {
   "cell_type": "markdown",
   "id": "15765778",
   "metadata": {},
   "source": [
    "## From QCArchive\n",
    "\n",
    "[QCArchive](https://qcarchive.molssi.org/) is a repository of quantum chemical calculations on small molecules. The [`Molecule.from_qcschema()`](openff.toolkit.topology.Molecule.from_qcschema) method creates a `Molecule` from a record from the archive. Because the identity of a molecule can change of the course of a QC calculation, the Toolkit accepts records only if they contain a hydrogen-mapped SMILES code.\n",
    "\n",
    ":::{note}\n",
    "These examples use molecules other than l-Alanine because of their availability in QCArchive\n",
    ":::"
   ]
  },
  {
   "cell_type": "markdown",
   "id": "0f143a62",
   "metadata": {},
   "source": [
    "### From a QCArchive molecule record\n",
    "\n",
    "The [`Molecule.from_qcschema()`](openff.toolkit.topology.Molecule.from_qcschema) method can take a molecule record queried from the QCArchive and create a `Molecule` from it."
   ]
  },
  {
   "cell_type": "code",
   "execution_count": 22,
   "id": "8e026b0f",
   "metadata": {
    "tags": []
   },
   "outputs": [
    {
     "data": {
      "image/svg+xml": [
       "<svg xmlns=\"http://www.w3.org/2000/svg\" xmlns:rdkit=\"http://www.rdkit.org/xml\" xmlns:xlink=\"http://www.w3.org/1999/xlink\" version=\"1.1\" baseProfile=\"full\" xml:space=\"preserve\" width=\"500px\" height=\"300px\" viewBox=\"0 0 500 300\">\n",
       "<!-- END OF HEADER -->\n",
       "<rect style=\"opacity:1.0;fill:#FFFFFF;stroke:none\" width=\"500.0\" height=\"300.0\" x=\"0.0\" y=\"0.0\"> </rect>\n",
       "<path class=\"bond-0 atom-0 atom-1\" d=\"M 128.8,42.8 L 110.6,73.0\" style=\"fill:none;fill-rule:evenodd;stroke:#000000;stroke-width:2.0px;stroke-linecap:butt;stroke-linejoin:miter;stroke-opacity:1\"/>\n",
       "<path class=\"bond-1 atom-1 atom-2\" d=\"M 110.6,73.0 L 93.2,41.5\" style=\"fill:none;fill-rule:evenodd;stroke:#000000;stroke-width:2.0px;stroke-linecap:butt;stroke-linejoin:miter;stroke-opacity:1\"/>\n",
       "<path class=\"bond-2 atom-1 atom-3\" d=\"M 110.6,73.0 L 76.4,91.5\" style=\"fill:none;fill-rule:evenodd;stroke:#000000;stroke-width:2.0px;stroke-linecap:butt;stroke-linejoin:miter;stroke-opacity:1\"/>\n",
       "<path class=\"bond-3 atom-1 atom-4\" d=\"M 110.6,73.0 L 154.1,99.2\" style=\"fill:none;fill-rule:evenodd;stroke:#000000;stroke-width:2.0px;stroke-linecap:butt;stroke-linejoin:miter;stroke-opacity:1\"/>\n",
       "<path class=\"bond-4 atom-4 atom-5\" d=\"M 150.4,97.0 L 149.7,116.9\" style=\"fill:none;fill-rule:evenodd;stroke:#000000;stroke-width:2.0px;stroke-linecap:butt;stroke-linejoin:miter;stroke-opacity:1\"/>\n",
       "<path class=\"bond-4 atom-4 atom-5\" d=\"M 149.7,116.9 L 149.0,136.8\" style=\"fill:none;fill-rule:evenodd;stroke:#FF0000;stroke-width:2.0px;stroke-linecap:butt;stroke-linejoin:miter;stroke-opacity:1\"/>\n",
       "<path class=\"bond-4 atom-4 atom-5\" d=\"M 158.0,97.1 L 157.3,117.1\" style=\"fill:none;fill-rule:evenodd;stroke:#000000;stroke-width:2.0px;stroke-linecap:butt;stroke-linejoin:miter;stroke-opacity:1\"/>\n",
       "<path class=\"bond-4 atom-4 atom-5\" d=\"M 157.3,117.1 L 156.6,137.0\" style=\"fill:none;fill-rule:evenodd;stroke:#FF0000;stroke-width:2.0px;stroke-linecap:butt;stroke-linejoin:miter;stroke-opacity:1\"/>\n",
       "<path class=\"bond-5 atom-4 atom-6\" d=\"M 154.1,99.2 L 172.2,89.5\" style=\"fill:none;fill-rule:evenodd;stroke:#000000;stroke-width:2.0px;stroke-linecap:butt;stroke-linejoin:miter;stroke-opacity:1\"/>\n",
       "<path class=\"bond-5 atom-4 atom-6\" d=\"M 172.2,89.5 L 190.3,79.7\" style=\"fill:none;fill-rule:evenodd;stroke:#0000FF;stroke-width:2.0px;stroke-linecap:butt;stroke-linejoin:miter;stroke-opacity:1\"/>\n",
       "<path class=\"bond-6 atom-6 atom-7\" d=\"M 200.1,62.2 L 200.3,49.6\" style=\"fill:none;fill-rule:evenodd;stroke:#0000FF;stroke-width:2.0px;stroke-linecap:butt;stroke-linejoin:miter;stroke-opacity:1\"/>\n",
       "<path class=\"bond-6 atom-6 atom-7\" d=\"M 200.3,49.6 L 200.5,37.0\" style=\"fill:none;fill-rule:evenodd;stroke:#000000;stroke-width:2.0px;stroke-linecap:butt;stroke-linejoin:miter;stroke-opacity:1\"/>\n",
       "<path class=\"bond-7 atom-6 atom-8\" d=\"M 209.7,80.3 L 227.2,90.9\" style=\"fill:none;fill-rule:evenodd;stroke:#0000FF;stroke-width:2.0px;stroke-linecap:butt;stroke-linejoin:miter;stroke-opacity:1\"/>\n",
       "<path class=\"bond-7 atom-6 atom-8\" d=\"M 227.2,90.9 L 244.7,101.5\" style=\"fill:none;fill-rule:evenodd;stroke:#000000;stroke-width:2.0px;stroke-linecap:butt;stroke-linejoin:miter;stroke-opacity:1\"/>\n",
       "<path class=\"bond-8 atom-8 atom-9\" d=\"M 244.7,101.5 L 229.3,131.0 L 222.9,126.8 Z\" style=\"fill:#000000;fill-rule:evenodd;fill-opacity:1;stroke:#000000;stroke-width:0.5px;stroke-linecap:butt;stroke-linejoin:miter;stroke-opacity:1;\"/>\n",
       "<path class=\"bond-9 atom-8 atom-10\" d=\"M 244.7,101.5 L 264.3,147.1\" style=\"fill:none;fill-rule:evenodd;stroke:#000000;stroke-width:2.0px;stroke-linecap:butt;stroke-linejoin:miter;stroke-opacity:1\"/>\n",
       "<path class=\"bond-10 atom-8 atom-17\" d=\"M 244.7,101.5 L 296.3,74.7\" style=\"fill:none;fill-rule:evenodd;stroke:#000000;stroke-width:2.0px;stroke-linecap:butt;stroke-linejoin:miter;stroke-opacity:1\"/>\n",
       "<path class=\"bond-11 atom-10 atom-11\" d=\"M 264.3,147.1 L 296.5,132.0\" style=\"fill:none;fill-rule:evenodd;stroke:#000000;stroke-width:2.0px;stroke-linecap:butt;stroke-linejoin:miter;stroke-opacity:1\"/>\n",
       "<path class=\"bond-12 atom-10 atom-12\" d=\"M 264.3,147.1 L 294.8,168.8\" style=\"fill:none;fill-rule:evenodd;stroke:#000000;stroke-width:2.0px;stroke-linecap:butt;stroke-linejoin:miter;stroke-opacity:1\"/>\n",
       "<path class=\"bond-13 atom-10 atom-13\" d=\"M 264.3,147.1 L 234.5,188.9\" style=\"fill:none;fill-rule:evenodd;stroke:#000000;stroke-width:2.0px;stroke-linecap:butt;stroke-linejoin:miter;stroke-opacity:1\"/>\n",
       "<path class=\"bond-14 atom-13 atom-14\" d=\"M 237.1,185.3 L 216.7,183.5\" style=\"fill:none;fill-rule:evenodd;stroke:#000000;stroke-width:2.0px;stroke-linecap:butt;stroke-linejoin:miter;stroke-opacity:1\"/>\n",
       "<path class=\"bond-14 atom-13 atom-14\" d=\"M 216.7,183.5 L 196.3,181.8\" style=\"fill:none;fill-rule:evenodd;stroke:#FF0000;stroke-width:2.0px;stroke-linecap:butt;stroke-linejoin:miter;stroke-opacity:1\"/>\n",
       "<path class=\"bond-14 atom-13 atom-14\" d=\"M 236.4,192.9 L 216.0,191.1\" style=\"fill:none;fill-rule:evenodd;stroke:#000000;stroke-width:2.0px;stroke-linecap:butt;stroke-linejoin:miter;stroke-opacity:1\"/>\n",
       "<path class=\"bond-14 atom-13 atom-14\" d=\"M 216.0,191.1 L 195.6,189.4\" style=\"fill:none;fill-rule:evenodd;stroke:#FF0000;stroke-width:2.0px;stroke-linecap:butt;stroke-linejoin:miter;stroke-opacity:1\"/>\n",
       "<path class=\"bond-15 atom-13 atom-15\" d=\"M 234.5,188.9 L 242.2,205.5\" style=\"fill:none;fill-rule:evenodd;stroke:#000000;stroke-width:2.0px;stroke-linecap:butt;stroke-linejoin:miter;stroke-opacity:1\"/>\n",
       "<path class=\"bond-15 atom-13 atom-15\" d=\"M 242.2,205.5 L 250.0,222.2\" style=\"fill:none;fill-rule:evenodd;stroke:#FF0000;stroke-width:2.0px;stroke-linecap:butt;stroke-linejoin:miter;stroke-opacity:1\"/>\n",
       "<path class=\"bond-16 atom-15 atom-16\" d=\"M 246.9,247.3 L 241.3,255.4\" style=\"fill:none;fill-rule:evenodd;stroke:#FF0000;stroke-width:2.0px;stroke-linecap:butt;stroke-linejoin:miter;stroke-opacity:1\"/>\n",
       "<path class=\"bond-16 atom-15 atom-16\" d=\"M 241.3,255.4 L 235.7,263.5\" style=\"fill:none;fill-rule:evenodd;stroke:#000000;stroke-width:2.0px;stroke-linecap:butt;stroke-linejoin:miter;stroke-opacity:1\"/>\n",
       "<path class=\"bond-17 atom-17 atom-18\" d=\"M 300.0,76.7 L 300.4,56.9\" style=\"fill:none;fill-rule:evenodd;stroke:#000000;stroke-width:2.0px;stroke-linecap:butt;stroke-linejoin:miter;stroke-opacity:1\"/>\n",
       "<path class=\"bond-17 atom-17 atom-18\" d=\"M 300.4,56.9 L 300.8,37.1\" style=\"fill:none;fill-rule:evenodd;stroke:#FF0000;stroke-width:2.0px;stroke-linecap:butt;stroke-linejoin:miter;stroke-opacity:1\"/>\n",
       "<path class=\"bond-17 atom-17 atom-18\" d=\"M 292.4,76.7 L 292.8,56.8\" style=\"fill:none;fill-rule:evenodd;stroke:#000000;stroke-width:2.0px;stroke-linecap:butt;stroke-linejoin:miter;stroke-opacity:1\"/>\n",
       "<path class=\"bond-17 atom-17 atom-18\" d=\"M 292.8,56.8 L 293.2,37.0\" style=\"fill:none;fill-rule:evenodd;stroke:#FF0000;stroke-width:2.0px;stroke-linecap:butt;stroke-linejoin:miter;stroke-opacity:1\"/>\n",
       "<path class=\"bond-18 atom-17 atom-19\" d=\"M 296.3,74.7 L 315.8,85.1\" style=\"fill:none;fill-rule:evenodd;stroke:#000000;stroke-width:2.0px;stroke-linecap:butt;stroke-linejoin:miter;stroke-opacity:1\"/>\n",
       "<path class=\"bond-18 atom-17 atom-19\" d=\"M 315.8,85.1 L 335.4,95.4\" style=\"fill:none;fill-rule:evenodd;stroke:#0000FF;stroke-width:2.0px;stroke-linecap:butt;stroke-linejoin:miter;stroke-opacity:1\"/>\n",
       "<path class=\"bond-19 atom-19 atom-20\" d=\"M 345.7,112.8 L 346.3,125.2\" style=\"fill:none;fill-rule:evenodd;stroke:#0000FF;stroke-width:2.0px;stroke-linecap:butt;stroke-linejoin:miter;stroke-opacity:1\"/>\n",
       "<path class=\"bond-19 atom-19 atom-20\" d=\"M 346.3,125.2 L 347.0,137.6\" style=\"fill:none;fill-rule:evenodd;stroke:#000000;stroke-width:2.0px;stroke-linecap:butt;stroke-linejoin:miter;stroke-opacity:1\"/>\n",
       "<path class=\"bond-20 atom-19 atom-21\" d=\"M 354.8,94.9 L 372.6,84.6\" style=\"fill:none;fill-rule:evenodd;stroke:#0000FF;stroke-width:2.0px;stroke-linecap:butt;stroke-linejoin:miter;stroke-opacity:1\"/>\n",
       "<path class=\"bond-20 atom-19 atom-21\" d=\"M 372.6,84.6 L 390.4,74.2\" style=\"fill:none;fill-rule:evenodd;stroke:#000000;stroke-width:2.0px;stroke-linecap:butt;stroke-linejoin:miter;stroke-opacity:1\"/>\n",
       "<path class=\"bond-21 atom-21 atom-22\" d=\"M 390.4,74.2 L 373.5,42.6\" style=\"fill:none;fill-rule:evenodd;stroke:#000000;stroke-width:2.0px;stroke-linecap:butt;stroke-linejoin:miter;stroke-opacity:1\"/>\n",
       "<path class=\"bond-22 atom-21 atom-23\" d=\"M 390.4,74.2 L 409.4,43.8\" style=\"fill:none;fill-rule:evenodd;stroke:#000000;stroke-width:2.0px;stroke-linecap:butt;stroke-linejoin:miter;stroke-opacity:1\"/>\n",
       "<path class=\"bond-23 atom-21 atom-24\" d=\"M 390.4,74.2 L 423.6,94.0\" style=\"fill:none;fill-rule:evenodd;stroke:#000000;stroke-width:2.0px;stroke-linecap:butt;stroke-linejoin:miter;stroke-opacity:1\"/>\n",
       "<path d=\"M 151.9,97.9 L 154.1,99.2 L 155.0,98.7\" style=\"fill:none;stroke:#000000;stroke-width:2.0px;stroke-linecap:butt;stroke-linejoin:miter;stroke-opacity:1;\"/>\n",
       "<path d=\"M 236.0,186.8 L 234.5,188.9 L 234.9,189.7\" style=\"fill:none;stroke:#000000;stroke-width:2.0px;stroke-linecap:butt;stroke-linejoin:miter;stroke-opacity:1;\"/>\n",
       "<path d=\"M 293.7,76.0 L 296.3,74.7 L 297.3,75.2\" style=\"fill:none;stroke:#000000;stroke-width:2.0px;stroke-linecap:butt;stroke-linejoin:miter;stroke-opacity:1;\"/>\n",
       "<path class=\"atom-0\" d=\"M 127.9 19.9 L 130.8 19.9 L 130.8 28.9 L 141.6 28.9 L 141.6 19.9 L 144.4 19.9 L 144.4 41.1 L 141.6 41.1 L 141.6 31.3 L 130.8 31.3 L 130.8 41.1 L 127.9 41.1 L 127.9 19.9 \" fill=\"#000000\"/>\n",
       "<path class=\"atom-2\" d=\"M 78.2 18.6 L 81.1 18.6 L 81.1 27.6 L 91.9 27.6 L 91.9 18.6 L 94.8 18.6 L 94.8 39.8 L 91.9 39.8 L 91.9 30.0 L 81.1 30.0 L 81.1 39.8 L 78.2 39.8 L 78.2 18.6 \" fill=\"#000000\"/>\n",
       "<path class=\"atom-3\" d=\"M 58.2 86.3 L 61.0 86.3 L 61.0 95.3 L 71.9 95.3 L 71.9 86.3 L 74.7 86.3 L 74.7 107.5 L 71.9 107.5 L 71.9 97.7 L 61.0 97.7 L 61.0 107.5 L 58.2 107.5 L 58.2 86.3 \" fill=\"#000000\"/>\n",
       "<path class=\"atom-5\" d=\"M 142.7 149.3 Q 142.7 144.2, 145.2 141.4 Q 147.7 138.6, 152.4 138.6 Q 157.1 138.6, 159.6 141.4 Q 162.1 144.2, 162.1 149.3 Q 162.1 154.5, 159.5 157.4 Q 157.0 160.3, 152.4 160.3 Q 147.7 160.3, 145.2 157.4 Q 142.7 154.5, 142.7 149.3 M 152.4 157.9 Q 155.6 157.9, 157.3 155.8 Q 159.1 153.6, 159.1 149.3 Q 159.1 145.2, 157.3 143.1 Q 155.6 141.0, 152.4 141.0 Q 149.1 141.0, 147.4 143.0 Q 145.6 145.1, 145.6 149.3 Q 145.6 153.6, 147.4 155.8 Q 149.1 157.9, 152.4 157.9 \" fill=\"#FF0000\"/>\n",
       "<path class=\"atom-6\" d=\"M 195.3 63.9 L 202.2 75.1 Q 202.9 76.2, 204.0 78.2 Q 205.1 80.2, 205.2 80.3 L 205.2 63.9 L 208.0 63.9 L 208.0 85.0 L 205.1 85.0 L 197.6 72.8 Q 196.8 71.3, 195.8 69.7 Q 194.9 68.0, 194.7 67.5 L 194.7 85.0 L 191.9 85.0 L 191.9 63.9 L 195.3 63.9 \" fill=\"#0000FF\"/>\n",
       "<path class=\"atom-7\" d=\"M 192.4 14.1 L 195.3 14.1 L 195.3 23.1 L 206.1 23.1 L 206.1 14.1 L 209.0 14.1 L 209.0 35.3 L 206.1 35.3 L 206.1 25.5 L 195.3 25.5 L 195.3 35.3 L 192.4 35.3 L 192.4 14.1 \" fill=\"#000000\"/>\n",
       "<path class=\"atom-9\" d=\"M 208.4 132.2 L 211.2 132.2 L 211.2 141.2 L 222.1 141.2 L 222.1 132.2 L 224.9 132.2 L 224.9 153.4 L 222.1 153.4 L 222.1 143.6 L 211.2 143.6 L 211.2 153.4 L 208.4 153.4 L 208.4 132.2 \" fill=\"#000000\"/>\n",
       "<path class=\"atom-11\" d=\"M 298.2 116.8 L 301.1 116.8 L 301.1 125.8 L 311.9 125.8 L 311.9 116.8 L 314.7 116.8 L 314.7 137.9 L 311.9 137.9 L 311.9 128.2 L 301.1 128.2 L 301.1 137.9 L 298.2 137.9 L 298.2 116.8 \" fill=\"#000000\"/>\n",
       "<path class=\"atom-12\" d=\"M 296.4 165.3 L 299.3 165.3 L 299.3 174.3 L 310.1 174.3 L 310.1 165.3 L 313.0 165.3 L 313.0 186.5 L 310.1 186.5 L 310.1 176.7 L 299.3 176.7 L 299.3 186.5 L 296.4 186.5 L 296.4 165.3 \" fill=\"#000000\"/>\n",
       "<path class=\"atom-14\" d=\"M 174.8 184.7 Q 174.8 179.6, 177.4 176.8 Q 179.9 173.9, 184.6 173.9 Q 189.3 173.9, 191.8 176.8 Q 194.3 179.6, 194.3 184.7 Q 194.3 189.8, 191.7 192.8 Q 189.2 195.7, 184.6 195.7 Q 179.9 195.7, 177.4 192.8 Q 174.8 189.9, 174.8 184.7 M 184.6 193.3 Q 187.8 193.3, 189.5 191.1 Q 191.3 188.9, 191.3 184.7 Q 191.3 180.5, 189.5 178.5 Q 187.8 176.3, 184.6 176.3 Q 181.3 176.3, 179.6 178.4 Q 177.8 180.5, 177.8 184.7 Q 177.8 189.0, 179.6 191.1 Q 181.3 193.3, 184.6 193.3 \" fill=\"#FF0000\"/>\n",
       "<path class=\"atom-15\" d=\"M 246.0 234.6 Q 246.0 229.5, 248.5 226.7 Q 251.0 223.9, 255.7 223.9 Q 260.4 223.9, 262.9 226.7 Q 265.4 229.5, 265.4 234.6 Q 265.4 239.8, 262.9 242.7 Q 260.3 245.6, 255.7 245.6 Q 251.0 245.6, 248.5 242.7 Q 246.0 239.8, 246.0 234.6 M 255.7 243.2 Q 258.9 243.2, 260.6 241.1 Q 262.4 238.9, 262.4 234.6 Q 262.4 230.5, 260.6 228.4 Q 258.9 226.3, 255.7 226.3 Q 252.5 226.3, 250.7 228.3 Q 249.0 230.4, 249.0 234.6 Q 249.0 238.9, 250.7 241.1 Q 252.5 243.2, 255.7 243.2 \" fill=\"#FF0000\"/>\n",
       "<path class=\"atom-16\" d=\"M 218.9 265.2 L 221.8 265.2 L 221.8 274.2 L 232.6 274.2 L 232.6 265.2 L 235.5 265.2 L 235.5 286.4 L 232.6 286.4 L 232.6 276.6 L 221.8 276.6 L 221.8 286.4 L 218.9 286.4 L 218.9 265.2 \" fill=\"#000000\"/>\n",
       "<path class=\"atom-18\" d=\"M 287.5 24.4 Q 287.5 19.3, 290.1 16.5 Q 292.6 13.6, 297.3 13.6 Q 302.0 13.6, 304.5 16.5 Q 307.0 19.3, 307.0 24.4 Q 307.0 29.5, 304.4 32.5 Q 301.9 35.4, 297.3 35.4 Q 292.6 35.4, 290.1 32.5 Q 287.5 29.6, 287.5 24.4 M 297.3 33.0 Q 300.5 33.0, 302.2 30.8 Q 304.0 28.6, 304.0 24.4 Q 304.0 20.2, 302.2 18.2 Q 300.5 16.0, 297.3 16.0 Q 294.0 16.0, 292.3 18.1 Q 290.5 20.2, 290.5 24.4 Q 290.5 28.7, 292.3 30.8 Q 294.0 33.0, 297.3 33.0 \" fill=\"#FF0000\"/>\n",
       "<path class=\"atom-19\" d=\"M 340.4 90.0 L 347.3 101.2 Q 348.0 102.3, 349.1 104.3 Q 350.2 106.3, 350.3 106.4 L 350.3 90.0 L 353.1 90.0 L 353.1 111.1 L 350.2 111.1 L 342.7 98.9 Q 341.9 97.4, 340.9 95.8 Q 340.0 94.1, 339.8 93.6 L 339.8 111.1 L 337.0 111.1 L 337.0 90.0 L 340.4 90.0 \" fill=\"#0000FF\"/>\n",
       "<path class=\"atom-20\" d=\"M 339.3 139.3 L 342.2 139.3 L 342.2 148.3 L 353.0 148.3 L 353.0 139.3 L 355.9 139.3 L 355.9 160.5 L 353.0 160.5 L 353.0 150.7 L 342.2 150.7 L 342.2 160.5 L 339.3 160.5 L 339.3 139.3 \" fill=\"#000000\"/>\n",
       "<path class=\"atom-22\" d=\"M 358.7 19.7 L 361.6 19.7 L 361.6 28.7 L 372.4 28.7 L 372.4 19.7 L 375.3 19.7 L 375.3 40.9 L 372.4 40.9 L 372.4 31.1 L 361.6 31.1 L 361.6 40.9 L 358.7 40.9 L 358.7 19.7 \" fill=\"#000000\"/>\n",
       "<path class=\"atom-23\" d=\"M 408.8 21.0 L 411.7 21.0 L 411.7 30.0 L 422.5 30.0 L 422.5 21.0 L 425.4 21.0 L 425.4 42.2 L 422.5 42.2 L 422.5 32.4 L 411.7 32.4 L 411.7 42.2 L 408.8 42.2 L 408.8 21.0 \" fill=\"#000000\"/>\n",
       "<path class=\"atom-24\" d=\"M 425.3 89.4 L 428.1 89.4 L 428.1 98.4 L 439.0 98.4 L 439.0 89.4 L 441.8 89.4 L 441.8 110.5 L 439.0 110.5 L 439.0 100.8 L 428.1 100.8 L 428.1 110.5 L 425.3 110.5 L 425.3 89.4 \" fill=\"#000000\"/>\n",
       "</svg>"
      ],
      "text/plain": [
       "<IPython.core.display.SVG object>"
      ]
     },
     "execution_count": 22,
     "metadata": {},
     "output_type": "execute_result"
    }
   ],
   "source": [
    "from qcportal import FractalClient\n",
    "\n",
    "client = FractalClient()\n",
    "query = client.query_molecules(molecular_formula=\"C7H12N2O4\")\n",
    "\n",
    "from_qcarchive = Molecule.from_qcschema(query[0])\n",
    "                                \n",
    "from_qcarchive.visualize()"
   ]
  },
  {
   "cell_type": "markdown",
   "id": "3f1991fb",
   "metadata": {},
   "source": [
    "### From a QCArchive optimisation record\n",
    "\n",
    "`Molecule.from_qcschema()` can also take an optimisation record and create the corresponding `Molecule`."
   ]
  },
  {
   "cell_type": "code",
   "execution_count": 23,
   "id": "edd1fa9e",
   "metadata": {
    "tags": []
   },
   "outputs": [
    {
     "data": {
      "image/svg+xml": [
       "<svg xmlns=\"http://www.w3.org/2000/svg\" xmlns:rdkit=\"http://www.rdkit.org/xml\" xmlns:xlink=\"http://www.w3.org/1999/xlink\" version=\"1.1\" baseProfile=\"full\" xml:space=\"preserve\" width=\"500px\" height=\"300px\" viewBox=\"0 0 500 300\">\n",
       "<!-- END OF HEADER -->\n",
       "<rect style=\"opacity:1.0;fill:#FFFFFF;stroke:none\" width=\"500.0\" height=\"300.0\" x=\"0.0\" y=\"0.0\"> </rect>\n",
       "<path class=\"bond-0 atom-0 atom-4\" d=\"M 332.3,221.4 L 332.3,198.9\" style=\"fill:none;fill-rule:evenodd;stroke:#000000;stroke-width:2.0px;stroke-linecap:butt;stroke-linejoin:miter;stroke-opacity:1\"/>\n",
       "<path class=\"bond-0 atom-0 atom-4\" d=\"M 332.3,198.9 L 332.4,176.5\" style=\"fill:none;fill-rule:evenodd;stroke:#FF0000;stroke-width:2.0px;stroke-linecap:butt;stroke-linejoin:miter;stroke-opacity:1\"/>\n",
       "<path class=\"bond-1 atom-0 atom-6\" d=\"M 332.3,221.4 L 284.0,221.3\" style=\"fill:none;fill-rule:evenodd;stroke:#000000;stroke-width:2.0px;stroke-linecap:butt;stroke-linejoin:miter;stroke-opacity:1\"/>\n",
       "<path class=\"bond-2 atom-0 atom-7\" d=\"M 332.3,221.4 L 310.6,258.8\" style=\"fill:none;fill-rule:evenodd;stroke:#000000;stroke-width:2.0px;stroke-linecap:butt;stroke-linejoin:miter;stroke-opacity:1\"/>\n",
       "<path class=\"bond-3 atom-0 atom-8\" d=\"M 332.3,221.4 L 372.4,244.7\" style=\"fill:none;fill-rule:evenodd;stroke:#000000;stroke-width:2.0px;stroke-linecap:butt;stroke-linejoin:miter;stroke-opacity:1\"/>\n",
       "<path class=\"bond-4 atom-1 atom-5\" d=\"M 175.8,130.7 L 195.0,141.8\" style=\"fill:none;fill-rule:evenodd;stroke:#000000;stroke-width:2.0px;stroke-linecap:butt;stroke-linejoin:miter;stroke-opacity:1\"/>\n",
       "<path class=\"bond-4 atom-1 atom-5\" d=\"M 195.0,141.8 L 214.2,152.9\" style=\"fill:none;fill-rule:evenodd;stroke:#FF0000;stroke-width:2.0px;stroke-linecap:butt;stroke-linejoin:miter;stroke-opacity:1\"/>\n",
       "<path class=\"bond-5 atom-1 atom-9\" d=\"M 175.8,130.7 L 154.2,168.0\" style=\"fill:none;fill-rule:evenodd;stroke:#000000;stroke-width:2.0px;stroke-linecap:butt;stroke-linejoin:miter;stroke-opacity:1\"/>\n",
       "<path class=\"bond-6 atom-1 atom-10\" d=\"M 175.8,130.7 L 127.6,130.6\" style=\"fill:none;fill-rule:evenodd;stroke:#000000;stroke-width:2.0px;stroke-linecap:butt;stroke-linejoin:miter;stroke-opacity:1\"/>\n",
       "<path class=\"bond-7 atom-1 atom-11\" d=\"M 175.8,130.7 L 175.9,85.2\" style=\"fill:none;fill-rule:evenodd;stroke:#000000;stroke-width:2.0px;stroke-linecap:butt;stroke-linejoin:miter;stroke-opacity:1\"/>\n",
       "<path class=\"bond-8 atom-2 atom-3\" d=\"M 280.3,130.9 L 269.6,112.4\" style=\"fill:none;fill-rule:evenodd;stroke:#000000;stroke-width:2.0px;stroke-linecap:butt;stroke-linejoin:miter;stroke-opacity:1\"/>\n",
       "<path class=\"bond-8 atom-2 atom-3\" d=\"M 269.6,112.4 L 259.0,93.9\" style=\"fill:none;fill-rule:evenodd;stroke:#FF0000;stroke-width:2.0px;stroke-linecap:butt;stroke-linejoin:miter;stroke-opacity:1\"/>\n",
       "<path class=\"bond-9 atom-2 atom-4\" d=\"M 280.3,130.9 L 299.5,142.0\" style=\"fill:none;fill-rule:evenodd;stroke:#000000;stroke-width:2.0px;stroke-linecap:butt;stroke-linejoin:miter;stroke-opacity:1\"/>\n",
       "<path class=\"bond-9 atom-2 atom-4\" d=\"M 299.5,142.0 L 318.7,153.1\" style=\"fill:none;fill-rule:evenodd;stroke:#FF0000;stroke-width:2.0px;stroke-linecap:butt;stroke-linejoin:miter;stroke-opacity:1\"/>\n",
       "<path class=\"bond-10 atom-2 atom-5\" d=\"M 280.3,130.9 L 261.0,141.9\" style=\"fill:none;fill-rule:evenodd;stroke:#000000;stroke-width:2.0px;stroke-linecap:butt;stroke-linejoin:miter;stroke-opacity:1\"/>\n",
       "<path class=\"bond-10 atom-2 atom-5\" d=\"M 261.0,141.9 L 241.7,153.0\" style=\"fill:none;fill-rule:evenodd;stroke:#FF0000;stroke-width:2.0px;stroke-linecap:butt;stroke-linejoin:miter;stroke-opacity:1\"/>\n",
       "<path class=\"bond-11 atom-2 atom-12\" d=\"M 280.3,130.9 L 301.9,93.5\" style=\"fill:none;fill-rule:evenodd;stroke:#000000;stroke-width:2.0px;stroke-linecap:butt;stroke-linejoin:miter;stroke-opacity:1\"/>\n",
       "<path class=\"bond-12 atom-3 atom-13\" d=\"M 258.9,63.7 L 265.4,52.4\" style=\"fill:none;fill-rule:evenodd;stroke:#FF0000;stroke-width:2.0px;stroke-linecap:butt;stroke-linejoin:miter;stroke-opacity:1\"/>\n",
       "<path class=\"bond-12 atom-3 atom-13\" d=\"M 265.4,52.4 L 271.9,41.2\" style=\"fill:none;fill-rule:evenodd;stroke:#000000;stroke-width:2.0px;stroke-linecap:butt;stroke-linejoin:miter;stroke-opacity:1\"/>\n",
       "<path class=\"atom-3\" d=\"M 238.5 78.7 Q 238.5 72.5, 241.5 69.1 Q 244.5 65.6, 250.2 65.6 Q 255.9 65.6, 258.9 69.1 Q 262.0 72.5, 262.0 78.7 Q 262.0 84.9, 258.9 88.4 Q 255.8 91.9, 250.2 91.9 Q 244.6 91.9, 241.5 88.4 Q 238.5 84.9, 238.5 78.7 M 250.2 89.0 Q 254.1 89.0, 256.2 86.4 Q 258.4 83.8, 258.4 78.7 Q 258.4 73.6, 256.2 71.1 Q 254.1 68.5, 250.2 68.5 Q 246.3 68.5, 244.2 71.1 Q 242.1 73.6, 242.1 78.7 Q 242.1 83.8, 244.2 86.4 Q 246.3 89.0, 250.2 89.0 \" fill=\"#FF0000\"/>\n",
       "<path class=\"atom-4\" d=\"M 320.7 161.2 Q 320.7 155.0, 323.7 151.6 Q 326.7 148.2, 332.4 148.2 Q 338.1 148.2, 341.1 151.6 Q 344.2 155.0, 344.2 161.2 Q 344.2 167.4, 341.1 171.0 Q 338.0 174.5, 332.4 174.5 Q 326.8 174.5, 323.7 171.0 Q 320.7 167.4, 320.7 161.2 M 332.4 171.6 Q 336.3 171.6, 338.4 169.0 Q 340.6 166.3, 340.6 161.2 Q 340.6 156.2, 338.4 153.6 Q 336.3 151.1, 332.4 151.1 Q 328.5 151.1, 326.4 153.6 Q 324.3 156.1, 324.3 161.2 Q 324.3 166.4, 326.4 169.0 Q 328.5 171.6, 332.4 171.6 \" fill=\"#FF0000\"/>\n",
       "<path class=\"atom-5\" d=\"M 216.2 161.0 Q 216.2 154.8, 219.3 151.4 Q 222.3 148.0, 228.0 148.0 Q 233.7 148.0, 236.7 151.4 Q 239.7 154.8, 239.7 161.0 Q 239.7 167.2, 236.7 170.8 Q 233.6 174.3, 228.0 174.3 Q 222.3 174.3, 219.3 170.8 Q 216.2 167.2, 216.2 161.0 M 228.0 171.4 Q 231.9 171.4, 234.0 168.8 Q 236.1 166.1, 236.1 161.0 Q 236.1 156.0, 234.0 153.4 Q 231.9 150.9, 228.0 150.9 Q 224.1 150.9, 221.9 153.4 Q 219.8 155.9, 219.8 161.0 Q 219.8 166.2, 221.9 168.8 Q 224.1 171.4, 228.0 171.4 \" fill=\"#FF0000\"/>\n",
       "<path class=\"atom-6\" d=\"M 262.0 208.5 L 265.5 208.5 L 265.5 219.4 L 278.6 219.4 L 278.6 208.5 L 282.0 208.5 L 282.0 234.1 L 278.6 234.1 L 278.6 222.3 L 265.5 222.3 L 265.5 234.1 L 262.0 234.1 L 262.0 208.5 \" fill=\"#000000\"/>\n",
       "<path class=\"atom-7\" d=\"M 292.0 260.8 L 295.5 260.8 L 295.5 271.6 L 308.6 271.6 L 308.6 260.8 L 312.1 260.8 L 312.1 286.4 L 308.6 286.4 L 308.6 274.5 L 295.5 274.5 L 295.5 286.4 L 292.0 286.4 L 292.0 260.8 \" fill=\"#000000\"/>\n",
       "<path class=\"atom-8\" d=\"M 374.4 238.8 L 377.9 238.8 L 377.9 249.7 L 391.0 249.7 L 391.0 238.8 L 394.5 238.8 L 394.5 264.5 L 391.0 264.5 L 391.0 252.6 L 377.9 252.6 L 377.9 264.5 L 374.4 264.5 L 374.4 238.8 \" fill=\"#000000\"/>\n",
       "<path class=\"atom-9\" d=\"M 135.6 170.0 L 139.0 170.0 L 139.0 180.9 L 152.1 180.9 L 152.1 170.0 L 155.6 170.0 L 155.6 195.6 L 152.1 195.6 L 152.1 183.8 L 139.0 183.8 L 139.0 195.6 L 135.6 195.6 L 135.6 170.0 \" fill=\"#000000\"/>\n",
       "<path class=\"atom-10\" d=\"M 105.5 117.7 L 109.0 117.7 L 109.0 128.6 L 122.1 128.6 L 122.1 117.7 L 125.6 117.7 L 125.6 143.3 L 122.1 143.3 L 122.1 131.5 L 109.0 131.5 L 109.0 143.3 L 105.5 143.3 L 105.5 117.7 \" fill=\"#000000\"/>\n",
       "<path class=\"atom-11\" d=\"M 165.9 57.6 L 169.4 57.6 L 169.4 68.5 L 182.5 68.5 L 182.5 57.6 L 186.0 57.6 L 186.0 83.2 L 182.5 83.2 L 182.5 71.3 L 169.4 71.3 L 169.4 83.2 L 165.9 83.2 L 165.9 57.6 \" fill=\"#000000\"/>\n",
       "<path class=\"atom-12\" d=\"M 300.5 65.9 L 304.0 65.9 L 304.0 76.8 L 317.1 76.8 L 317.1 65.9 L 320.5 65.9 L 320.5 91.5 L 317.1 91.5 L 317.1 79.7 L 304.0 79.7 L 304.0 91.5 L 300.5 91.5 L 300.5 65.9 \" fill=\"#000000\"/>\n",
       "<path class=\"atom-13\" d=\"M 270.5 13.6 L 273.9 13.6 L 273.9 24.5 L 287.0 24.5 L 287.0 13.6 L 290.5 13.6 L 290.5 39.2 L 287.0 39.2 L 287.0 27.4 L 273.9 27.4 L 273.9 39.2 L 270.5 39.2 L 270.5 13.6 \" fill=\"#000000\"/>\n",
       "</svg>"
      ],
      "text/plain": [
       "<IPython.core.display.SVG object>"
      ]
     },
     "execution_count": 23,
     "metadata": {},
     "output_type": "execute_result"
    }
   ],
   "source": [
    "optimization_dataset = client.get_collection(\n",
    "    \"OptimizationDataset\",\n",
    "    \"SMIRNOFF Coverage Set 1\"\n",
    ")\n",
    "dimethoxymethanol_optimization = optimization_dataset.get_entry('coc(o)oc-0')\n",
    "\n",
    "from_optimisation = Molecule.from_qcschema(dimethoxymethanol_optimization)\n",
    "\n",
    "from_optimisation.visualize()"
   ]
  },
  {
   "cell_type": "code",
   "execution_count": null,
   "id": "2a8f5a61-892b-43e1-898e-40deec4d39b9",
   "metadata": {},
   "outputs": [],
   "source": []
  }
 ],
 "metadata": {
  "celltoolbar": "Tags",
  "execution": {
   "timeout": 120
  },
  "kernelspec": {
   "display_name": "Python 3 (ipykernel)",
   "language": "python",
   "name": "python3"
  },
  "language_info": {
   "codemirror_mode": {
    "name": "ipython",
    "version": 3
   },
   "file_extension": ".py",
   "mimetype": "text/x-python",
   "name": "python",
   "nbconvert_exporter": "python",
   "pygments_lexer": "ipython3",
   "version": "3.10.13"
  },
  "widgets": {
   "application/vnd.jupyter.widget-state+json": {
    "state": {},
    "version_major": 2,
    "version_minor": 0
   }
  }
 },
 "nbformat": 4,
 "nbformat_minor": 5
}

{
 "cells": [
  {
   "cell_type": "markdown",
   "id": "5b311c85",
   "metadata": {},
   "source": [
    "# Cookbook: Every way to make a `Molecule`"
   ]
  },
  {
   "cell_type": "markdown",
   "id": "05bf5732",
   "metadata": {},
   "source": [
    "Every pathway through the OpenFF Toolkit boils down to four steps:\n",
    "\n",
    "1. Using other tools, assemble a graph of a molecule, including all of its atoms, bonds, bond orders, formal charges, and stereochemistry[^rs]\n",
    "2. Use that information to construct a [`Molecule`](openff.toolkit.topology.Molecule)\n",
    "3. Combine a number of `Molecule` objects to construct a [`Topology`](openff.toolkit.topology.Topology)\n",
    "4. Call [`ForceField.create_openmm_system(topology)`](openff.toolkit.typing.engines.smirnoff.ForceField.create_openmm_system) to create an OpenMM [`System`](openmm.openmm.System) (or an [`Interchange`](https://github.com/openforcefield/openff-interchange) for painless conversion to other MD formats)\n",
    "\n",
    "So let's take a look at every way there is to construct a molecule! We'll use zwitterionic L-alanine as an example biomolecule with all the tricky bits - a stereocenter, non-zero formal charges, and bonds of different orders.\n",
    "\n",
    "[^rs]: Note that this stereochemistry must be defined on the *graph* of the molecule. It's not good enough to just co-ordinates with the correct stereochemistry. But if you have the co-ordinates, you can try getting the stereochemistry automatically with `rdkit` or `openeye` --- If you dare!"
   ]
  },
  {
   "cell_type": "code",
   "execution_count": 1,
   "id": "0a3d1e21",
   "metadata": {
    "tags": [
     "remove-stderr",
     "remove-input",
     "remove-stdout"
    ]
   },
   "outputs": [],
   "source": [
    "# Imports\n",
    "from openff.toolkit import Molecule, Topology\n",
    "\n",
    "# Hide tracebacks for simpler errors\n",
    "import sys\n",
    "ipython = get_ipython()\n",
    "\n",
    "def hide_traceback(exc_tuple=None, filename=None, tb_offset=None,\n",
    "                   exception_only=False, running_compiled_code=False):\n",
    "    etype, value, tb = sys.exc_info()\n",
    "    value.__cause__ = None  # suppress chained exceptions\n",
    "    return ipython._showtraceback(etype, value, ipython.InteractiveTB.get_exception_only(etype, value))\n",
    "\n",
    "ipython.showtraceback = hide_traceback\n",
    "\n",
    "# Hide NumPy warnings\n",
    "import warnings\n",
    "warnings.filterwarnings('ignore', r'The value of the smallest subnormal for ')"
   ]
  },
  {
   "cell_type": "markdown",
   "id": "37d692a1",
   "metadata": {},
   "source": [
    "## From SMILES\n",
    "\n",
    "SMILES is the classic way to create a `Molecule`. SMILES is a widely-used compact textual representation of arbitrary molecules. This lets us specify an exact molecule, including stereochemistry and bond orders, very easily --- though they may not be the most human-readable format.\n",
    "\n",
    "The [`Molecule.from_smiles()`](openff.toolkit.topology.Molecule.from_smiles) method is used to create a `Molecule` from a SMILES code.\n",
    "\n",
    "### Implicit hydrogens SMILES"
   ]
  },
  {
   "cell_type": "code",
   "execution_count": 2,
   "id": "71199513",
   "metadata": {},
   "outputs": [
    {
     "data": {
      "image/svg+xml": [
       "<svg xmlns=\"http://www.w3.org/2000/svg\" xmlns:rdkit=\"http://www.rdkit.org/xml\" xmlns:xlink=\"http://www.w3.org/1999/xlink\" version=\"1.1\" baseProfile=\"full\" xml:space=\"preserve\" width=\"500px\" height=\"300px\" viewBox=\"0 0 500 300\">\n",
       "<!-- END OF HEADER -->\n",
       "<rect style=\"opacity:1.0;fill:#FFFFFF;stroke:none\" width=\"500.0\" height=\"300.0\" x=\"0.0\" y=\"0.0\"> </rect>\n",
       "<path class=\"bond-0 atom-0 atom-1\" d=\"M 269.1,206.9 L 249.2,142.8\" style=\"fill:none;fill-rule:evenodd;stroke:#000000;stroke-width:2.0px;stroke-linecap:butt;stroke-linejoin:miter;stroke-opacity:1\"/>\n",
       "<path class=\"bond-1 atom-1 atom-2\" d=\"M 249.2,142.8 L 212.8,164.7 L 208.7,155.5 Z\" style=\"fill:#000000;fill-rule:evenodd;fill-opacity:1;stroke:#000000;stroke-width:0.5px;stroke-linecap:butt;stroke-linejoin:miter;stroke-opacity:1;\"/>\n",
       "<path class=\"bond-2 atom-1 atom-3\" d=\"M 249.2,142.8 L 227.0,123.8\" style=\"fill:none;fill-rule:evenodd;stroke:#000000;stroke-width:2.0px;stroke-linecap:butt;stroke-linejoin:miter;stroke-opacity:1\"/>\n",
       "<path class=\"bond-2 atom-1 atom-3\" d=\"M 227.0,123.8 L 204.7,104.8\" style=\"fill:none;fill-rule:evenodd;stroke:#0000FF;stroke-width:2.0px;stroke-linecap:butt;stroke-linejoin:miter;stroke-opacity:1\"/>\n",
       "<path class=\"bond-3 atom-1 atom-4\" d=\"M 249.2,142.8 L 292.6,93.2\" style=\"fill:none;fill-rule:evenodd;stroke:#000000;stroke-width:2.0px;stroke-linecap:butt;stroke-linejoin:miter;stroke-opacity:1\"/>\n",
       "<path class=\"bond-4 atom-4 atom-5\" d=\"M 298.4,94.3 L 289.8,69.8\" style=\"fill:none;fill-rule:evenodd;stroke:#000000;stroke-width:2.0px;stroke-linecap:butt;stroke-linejoin:miter;stroke-opacity:1\"/>\n",
       "<path class=\"bond-4 atom-4 atom-5\" d=\"M 289.8,69.8 L 281.2,45.2\" style=\"fill:none;fill-rule:evenodd;stroke:#FF0000;stroke-width:2.0px;stroke-linecap:butt;stroke-linejoin:miter;stroke-opacity:1\"/>\n",
       "<path class=\"bond-4 atom-4 atom-5\" d=\"M 288.8,97.6 L 280.3,73.0\" style=\"fill:none;fill-rule:evenodd;stroke:#000000;stroke-width:2.0px;stroke-linecap:butt;stroke-linejoin:miter;stroke-opacity:1\"/>\n",
       "<path class=\"bond-4 atom-4 atom-5\" d=\"M 280.3,73.0 L 271.7,48.5\" style=\"fill:none;fill-rule:evenodd;stroke:#FF0000;stroke-width:2.0px;stroke-linecap:butt;stroke-linejoin:miter;stroke-opacity:1\"/>\n",
       "<path class=\"bond-5 atom-4 atom-6\" d=\"M 292.6,93.2 L 317.8,98.2\" style=\"fill:none;fill-rule:evenodd;stroke:#000000;stroke-width:2.0px;stroke-linecap:butt;stroke-linejoin:miter;stroke-opacity:1\"/>\n",
       "<path class=\"bond-5 atom-4 atom-6\" d=\"M 317.8,98.2 L 343.0,103.2\" style=\"fill:none;fill-rule:evenodd;stroke:#FF0000;stroke-width:2.0px;stroke-linecap:butt;stroke-linejoin:miter;stroke-opacity:1\"/>\n",
       "<path class=\"bond-6 atom-0 atom-7\" d=\"M 269.1,206.9 L 216.9,221.3\" style=\"fill:none;fill-rule:evenodd;stroke:#000000;stroke-width:2.0px;stroke-linecap:butt;stroke-linejoin:miter;stroke-opacity:1\"/>\n",
       "<path class=\"bond-7 atom-0 atom-8\" d=\"M 269.1,206.9 L 255.6,255.7\" style=\"fill:none;fill-rule:evenodd;stroke:#000000;stroke-width:2.0px;stroke-linecap:butt;stroke-linejoin:miter;stroke-opacity:1\"/>\n",
       "<path class=\"bond-8 atom-0 atom-9\" d=\"M 269.1,206.9 L 320.3,220.4\" style=\"fill:none;fill-rule:evenodd;stroke:#000000;stroke-width:2.0px;stroke-linecap:butt;stroke-linejoin:miter;stroke-opacity:1\"/>\n",
       "<path class=\"bond-9 atom-3 atom-10\" d=\"M 178.8,106.9 L 168.4,117.6\" style=\"fill:none;fill-rule:evenodd;stroke:#0000FF;stroke-width:2.0px;stroke-linecap:butt;stroke-linejoin:miter;stroke-opacity:1\"/>\n",
       "<path class=\"bond-9 atom-3 atom-10\" d=\"M 168.4,117.6 L 157.9,128.3\" style=\"fill:none;fill-rule:evenodd;stroke:#000000;stroke-width:2.0px;stroke-linecap:butt;stroke-linejoin:miter;stroke-opacity:1\"/>\n",
       "<path class=\"bond-10 atom-3 atom-11\" d=\"M 178.8,90.8 L 159.1,86.5\" style=\"fill:none;fill-rule:evenodd;stroke:#0000FF;stroke-width:2.0px;stroke-linecap:butt;stroke-linejoin:miter;stroke-opacity:1\"/>\n",
       "<path class=\"bond-10 atom-3 atom-11\" d=\"M 159.1,86.5 L 139.4,82.2\" style=\"fill:none;fill-rule:evenodd;stroke:#000000;stroke-width:2.0px;stroke-linecap:butt;stroke-linejoin:miter;stroke-opacity:1\"/>\n",
       "<path class=\"bond-11 atom-3 atom-12\" d=\"M 195.0,77.3 L 198.3,60.8\" style=\"fill:none;fill-rule:evenodd;stroke:#0000FF;stroke-width:2.0px;stroke-linecap:butt;stroke-linejoin:miter;stroke-opacity:1\"/>\n",
       "<path class=\"bond-11 atom-3 atom-12\" d=\"M 198.3,60.8 L 201.6,44.3\" style=\"fill:none;fill-rule:evenodd;stroke:#000000;stroke-width:2.0px;stroke-linecap:butt;stroke-linejoin:miter;stroke-opacity:1\"/>\n",
       "<path d=\"M 290.5,95.7 L 292.6,93.2 L 293.9,93.5\" style=\"fill:none;stroke:#000000;stroke-width:2.0px;stroke-linecap:butt;stroke-linejoin:miter;stroke-opacity:1;\"/>\n",
       "<path class=\"atom-2\" d=\"M 184.2 153.0 L 188.0 153.0 L 188.0 165.0 L 202.5 165.0 L 202.5 153.0 L 206.3 153.0 L 206.3 181.3 L 202.5 181.3 L 202.5 168.2 L 188.0 168.2 L 188.0 181.3 L 184.2 181.3 L 184.2 153.0 \" fill=\"#000000\"/>\n",
       "<path class=\"atom-3\" d=\"M 185.5 79.5 L 194.8 94.5 Q 195.7 96.0, 197.2 98.7 Q 198.7 101.4, 198.8 101.5 L 198.8 79.5 L 202.5 79.5 L 202.5 107.9 L 198.6 107.9 L 188.7 91.5 Q 187.5 89.5, 186.3 87.3 Q 185.1 85.1, 184.7 84.5 L 184.7 107.9 L 181.0 107.9 L 181.0 79.5 L 185.5 79.5 \" fill=\"#0000FF\"/>\n",
       "<path class=\"atom-3\" d=\"M 207.8 84.6 L 212.8 84.6 L 212.8 79.4 L 215.1 79.4 L 215.1 84.6 L 220.2 84.6 L 220.2 86.5 L 215.1 86.5 L 215.1 91.8 L 212.8 91.8 L 212.8 86.5 L 207.8 86.5 L 207.8 84.6 \" fill=\"#0000FF\"/>\n",
       "<path class=\"atom-5\" d=\"M 257.6 30.0 Q 257.6 23.2, 260.9 19.4 Q 264.3 15.6, 270.6 15.6 Q 276.8 15.6, 280.2 19.4 Q 283.6 23.2, 283.6 30.0 Q 283.6 36.8, 280.2 40.8 Q 276.8 44.6, 270.6 44.6 Q 264.3 44.6, 260.9 40.8 Q 257.6 36.9, 257.6 30.0 M 270.6 41.4 Q 274.9 41.4, 277.2 38.6 Q 279.6 35.6, 279.6 30.0 Q 279.6 24.4, 277.2 21.6 Q 274.9 18.8, 270.6 18.8 Q 266.2 18.8, 263.9 21.6 Q 261.6 24.4, 261.6 30.0 Q 261.6 35.7, 263.9 38.6 Q 266.2 41.4, 270.6 41.4 \" fill=\"#FF0000\"/>\n",
       "<path class=\"atom-6\" d=\"M 345.2 106.3 Q 345.2 99.5, 348.6 95.7 Q 351.9 91.9, 358.2 91.9 Q 364.5 91.9, 367.9 95.7 Q 371.2 99.5, 371.2 106.3 Q 371.2 113.2, 367.8 117.1 Q 364.4 121.0, 358.2 121.0 Q 352.0 121.0, 348.6 117.1 Q 345.2 113.2, 345.2 106.3 M 358.2 117.8 Q 362.5 117.8, 364.9 114.9 Q 367.2 112.0, 367.2 106.3 Q 367.2 100.7, 364.9 97.9 Q 362.5 95.1, 358.2 95.1 Q 353.9 95.1, 351.5 97.9 Q 349.2 100.7, 349.2 106.3 Q 349.2 112.0, 351.5 114.9 Q 353.9 117.8, 358.2 117.8 \" fill=\"#FF0000\"/>\n",
       "<path class=\"atom-6\" d=\"M 375.3 96.5 L 384.9 96.5 L 384.9 98.6 L 375.3 98.6 L 375.3 96.5 \" fill=\"#FF0000\"/>\n",
       "<path class=\"atom-7\" d=\"M 192.6 210.8 L 196.4 210.8 L 196.4 222.9 L 210.9 222.9 L 210.9 210.8 L 214.7 210.8 L 214.7 239.2 L 210.9 239.2 L 210.9 226.1 L 196.4 226.1 L 196.4 239.2 L 192.6 239.2 L 192.6 210.8 \" fill=\"#000000\"/>\n",
       "<path class=\"atom-8\" d=\"M 240.0 257.9 L 243.8 257.9 L 243.8 270.0 L 258.3 270.0 L 258.3 257.9 L 262.2 257.9 L 262.2 286.2 L 258.3 286.2 L 258.3 273.2 L 243.8 273.2 L 243.8 286.2 L 240.0 286.2 L 240.0 257.9 \" fill=\"#000000\"/>\n",
       "<path class=\"atom-9\" d=\"M 322.5 209.8 L 326.4 209.8 L 326.4 221.8 L 340.8 221.8 L 340.8 209.8 L 344.7 209.8 L 344.7 238.1 L 340.8 238.1 L 340.8 225.0 L 326.4 225.0 L 326.4 238.1 L 322.5 238.1 L 322.5 209.8 \" fill=\"#000000\"/>\n",
       "<path class=\"atom-10\" d=\"M 133.5 127.7 L 137.4 127.7 L 137.4 139.8 L 151.9 139.8 L 151.9 127.7 L 155.7 127.7 L 155.7 156.0 L 151.9 156.0 L 151.9 143.0 L 137.4 143.0 L 137.4 156.0 L 133.5 156.0 L 133.5 127.7 \" fill=\"#000000\"/>\n",
       "<path class=\"atom-11\" d=\"M 115.1 65.1 L 118.9 65.1 L 118.9 77.1 L 133.4 77.1 L 133.4 65.1 L 137.2 65.1 L 137.2 93.4 L 133.4 93.4 L 133.4 80.3 L 118.9 80.3 L 118.9 93.4 L 115.1 93.4 L 115.1 65.1 \" fill=\"#000000\"/>\n",
       "<path class=\"atom-12\" d=\"M 193.8 13.8 L 197.6 13.8 L 197.6 25.8 L 212.1 25.8 L 212.1 13.8 L 215.9 13.8 L 215.9 42.1 L 212.1 42.1 L 212.1 29.0 L 197.6 29.0 L 197.6 42.1 L 193.8 42.1 L 193.8 13.8 \" fill=\"#000000\"/>\n",
       "</svg>"
      ],
      "text/plain": [
       "<IPython.core.display.SVG object>"
      ]
     },
     "execution_count": 2,
     "metadata": {},
     "output_type": "execute_result"
    }
   ],
   "source": [
    "zw_l_alanine = Molecule.from_smiles(\"C[C@H]([NH3+])C(=O)[O-]\")\n",
    "\n",
    "zw_l_alanine.visualize()"
   ]
  },
  {
   "cell_type": "markdown",
   "id": "59fe1b58",
   "metadata": {},
   "source": [
    "### Explicit hydrogens SMILES"
   ]
  },
  {
   "cell_type": "code",
   "execution_count": 3,
   "id": "07e0584e",
   "metadata": {},
   "outputs": [
    {
     "data": {
      "image/svg+xml": [
       "<svg xmlns=\"http://www.w3.org/2000/svg\" xmlns:rdkit=\"http://www.rdkit.org/xml\" xmlns:xlink=\"http://www.w3.org/1999/xlink\" version=\"1.1\" baseProfile=\"full\" xml:space=\"preserve\" width=\"500px\" height=\"300px\" viewBox=\"0 0 500 300\">\n",
       "<!-- END OF HEADER -->\n",
       "<rect style=\"opacity:1.0;fill:#FFFFFF;stroke:none\" width=\"500.0\" height=\"300.0\" x=\"0.0\" y=\"0.0\"> </rect>\n",
       "<path class=\"bond-0 atom-0 atom-1\" d=\"M 216.9,221.3 L 269.1,206.9\" style=\"fill:none;fill-rule:evenodd;stroke:#000000;stroke-width:2.0px;stroke-linecap:butt;stroke-linejoin:miter;stroke-opacity:1\"/>\n",
       "<path class=\"bond-1 atom-1 atom-2\" d=\"M 269.1,206.9 L 255.6,255.7\" style=\"fill:none;fill-rule:evenodd;stroke:#000000;stroke-width:2.0px;stroke-linecap:butt;stroke-linejoin:miter;stroke-opacity:1\"/>\n",
       "<path class=\"bond-2 atom-1 atom-3\" d=\"M 269.1,206.9 L 320.3,220.4\" style=\"fill:none;fill-rule:evenodd;stroke:#000000;stroke-width:2.0px;stroke-linecap:butt;stroke-linejoin:miter;stroke-opacity:1\"/>\n",
       "<path class=\"bond-3 atom-1 atom-4\" d=\"M 269.1,206.9 L 249.2,142.8\" style=\"fill:none;fill-rule:evenodd;stroke:#000000;stroke-width:2.0px;stroke-linecap:butt;stroke-linejoin:miter;stroke-opacity:1\"/>\n",
       "<path class=\"bond-4 atom-4 atom-5\" d=\"M 249.2,142.8 L 212.8,164.7 L 208.7,155.5 Z\" style=\"fill:#000000;fill-rule:evenodd;fill-opacity:1;stroke:#000000;stroke-width:0.5px;stroke-linecap:butt;stroke-linejoin:miter;stroke-opacity:1;\"/>\n",
       "<path class=\"bond-5 atom-4 atom-6\" d=\"M 249.2,142.8 L 292.6,93.2\" style=\"fill:none;fill-rule:evenodd;stroke:#000000;stroke-width:2.0px;stroke-linecap:butt;stroke-linejoin:miter;stroke-opacity:1\"/>\n",
       "<path class=\"bond-6 atom-6 atom-7\" d=\"M 298.4,94.3 L 289.8,69.8\" style=\"fill:none;fill-rule:evenodd;stroke:#000000;stroke-width:2.0px;stroke-linecap:butt;stroke-linejoin:miter;stroke-opacity:1\"/>\n",
       "<path class=\"bond-6 atom-6 atom-7\" d=\"M 289.8,69.8 L 281.2,45.2\" style=\"fill:none;fill-rule:evenodd;stroke:#FF0000;stroke-width:2.0px;stroke-linecap:butt;stroke-linejoin:miter;stroke-opacity:1\"/>\n",
       "<path class=\"bond-6 atom-6 atom-7\" d=\"M 288.8,97.6 L 280.3,73.0\" style=\"fill:none;fill-rule:evenodd;stroke:#000000;stroke-width:2.0px;stroke-linecap:butt;stroke-linejoin:miter;stroke-opacity:1\"/>\n",
       "<path class=\"bond-6 atom-6 atom-7\" d=\"M 280.3,73.0 L 271.7,48.5\" style=\"fill:none;fill-rule:evenodd;stroke:#FF0000;stroke-width:2.0px;stroke-linecap:butt;stroke-linejoin:miter;stroke-opacity:1\"/>\n",
       "<path class=\"bond-7 atom-6 atom-8\" d=\"M 292.6,93.2 L 317.8,98.2\" style=\"fill:none;fill-rule:evenodd;stroke:#000000;stroke-width:2.0px;stroke-linecap:butt;stroke-linejoin:miter;stroke-opacity:1\"/>\n",
       "<path class=\"bond-7 atom-6 atom-8\" d=\"M 317.8,98.2 L 343.0,103.2\" style=\"fill:none;fill-rule:evenodd;stroke:#FF0000;stroke-width:2.0px;stroke-linecap:butt;stroke-linejoin:miter;stroke-opacity:1\"/>\n",
       "<path class=\"bond-8 atom-4 atom-9\" d=\"M 249.2,142.8 L 227.0,123.8\" style=\"fill:none;fill-rule:evenodd;stroke:#000000;stroke-width:2.0px;stroke-linecap:butt;stroke-linejoin:miter;stroke-opacity:1\"/>\n",
       "<path class=\"bond-8 atom-4 atom-9\" d=\"M 227.0,123.8 L 204.7,104.8\" style=\"fill:none;fill-rule:evenodd;stroke:#0000FF;stroke-width:2.0px;stroke-linecap:butt;stroke-linejoin:miter;stroke-opacity:1\"/>\n",
       "<path class=\"bond-9 atom-9 atom-10\" d=\"M 178.8,106.9 L 168.4,117.6\" style=\"fill:none;fill-rule:evenodd;stroke:#0000FF;stroke-width:2.0px;stroke-linecap:butt;stroke-linejoin:miter;stroke-opacity:1\"/>\n",
       "<path class=\"bond-9 atom-9 atom-10\" d=\"M 168.4,117.6 L 157.9,128.3\" style=\"fill:none;fill-rule:evenodd;stroke:#000000;stroke-width:2.0px;stroke-linecap:butt;stroke-linejoin:miter;stroke-opacity:1\"/>\n",
       "<path class=\"bond-10 atom-9 atom-11\" d=\"M 178.8,90.8 L 159.1,86.5\" style=\"fill:none;fill-rule:evenodd;stroke:#0000FF;stroke-width:2.0px;stroke-linecap:butt;stroke-linejoin:miter;stroke-opacity:1\"/>\n",
       "<path class=\"bond-10 atom-9 atom-11\" d=\"M 159.1,86.5 L 139.4,82.2\" style=\"fill:none;fill-rule:evenodd;stroke:#000000;stroke-width:2.0px;stroke-linecap:butt;stroke-linejoin:miter;stroke-opacity:1\"/>\n",
       "<path class=\"bond-11 atom-9 atom-12\" d=\"M 195.0,77.3 L 198.3,60.8\" style=\"fill:none;fill-rule:evenodd;stroke:#0000FF;stroke-width:2.0px;stroke-linecap:butt;stroke-linejoin:miter;stroke-opacity:1\"/>\n",
       "<path class=\"bond-11 atom-9 atom-12\" d=\"M 198.3,60.8 L 201.6,44.3\" style=\"fill:none;fill-rule:evenodd;stroke:#000000;stroke-width:2.0px;stroke-linecap:butt;stroke-linejoin:miter;stroke-opacity:1\"/>\n",
       "<path d=\"M 290.5,95.7 L 292.6,93.2 L 293.9,93.5\" style=\"fill:none;stroke:#000000;stroke-width:2.0px;stroke-linecap:butt;stroke-linejoin:miter;stroke-opacity:1;\"/>\n",
       "<path class=\"atom-0\" d=\"M 192.6 210.8 L 196.4 210.8 L 196.4 222.9 L 210.9 222.9 L 210.9 210.8 L 214.7 210.8 L 214.7 239.2 L 210.9 239.2 L 210.9 226.1 L 196.4 226.1 L 196.4 239.2 L 192.6 239.2 L 192.6 210.8 \" fill=\"#000000\"/>\n",
       "<path class=\"atom-2\" d=\"M 240.0 257.9 L 243.8 257.9 L 243.8 270.0 L 258.3 270.0 L 258.3 257.9 L 262.2 257.9 L 262.2 286.2 L 258.3 286.2 L 258.3 273.2 L 243.8 273.2 L 243.8 286.2 L 240.0 286.2 L 240.0 257.9 \" fill=\"#000000\"/>\n",
       "<path class=\"atom-3\" d=\"M 322.5 209.8 L 326.4 209.8 L 326.4 221.8 L 340.8 221.8 L 340.8 209.8 L 344.7 209.8 L 344.7 238.1 L 340.8 238.1 L 340.8 225.0 L 326.4 225.0 L 326.4 238.1 L 322.5 238.1 L 322.5 209.8 \" fill=\"#000000\"/>\n",
       "<path class=\"atom-5\" d=\"M 184.2 153.0 L 188.0 153.0 L 188.0 165.0 L 202.5 165.0 L 202.5 153.0 L 206.3 153.0 L 206.3 181.3 L 202.5 181.3 L 202.5 168.2 L 188.0 168.2 L 188.0 181.3 L 184.2 181.3 L 184.2 153.0 \" fill=\"#000000\"/>\n",
       "<path class=\"atom-7\" d=\"M 257.6 30.0 Q 257.6 23.2, 260.9 19.4 Q 264.3 15.6, 270.6 15.6 Q 276.8 15.6, 280.2 19.4 Q 283.6 23.2, 283.6 30.0 Q 283.6 36.8, 280.2 40.8 Q 276.8 44.6, 270.6 44.6 Q 264.3 44.6, 260.9 40.8 Q 257.6 36.9, 257.6 30.0 M 270.6 41.4 Q 274.9 41.4, 277.2 38.6 Q 279.6 35.6, 279.6 30.0 Q 279.6 24.4, 277.2 21.6 Q 274.9 18.8, 270.6 18.8 Q 266.2 18.8, 263.9 21.6 Q 261.6 24.4, 261.6 30.0 Q 261.6 35.7, 263.9 38.6 Q 266.2 41.4, 270.6 41.4 \" fill=\"#FF0000\"/>\n",
       "<path class=\"atom-8\" d=\"M 345.2 106.3 Q 345.2 99.5, 348.6 95.7 Q 351.9 91.9, 358.2 91.9 Q 364.5 91.9, 367.9 95.7 Q 371.2 99.5, 371.2 106.3 Q 371.2 113.2, 367.8 117.1 Q 364.4 121.0, 358.2 121.0 Q 352.0 121.0, 348.6 117.1 Q 345.2 113.2, 345.2 106.3 M 358.2 117.8 Q 362.5 117.8, 364.9 114.9 Q 367.2 112.0, 367.2 106.3 Q 367.2 100.7, 364.9 97.9 Q 362.5 95.1, 358.2 95.1 Q 353.9 95.1, 351.5 97.9 Q 349.2 100.7, 349.2 106.3 Q 349.2 112.0, 351.5 114.9 Q 353.9 117.8, 358.2 117.8 \" fill=\"#FF0000\"/>\n",
       "<path class=\"atom-8\" d=\"M 375.3 96.5 L 384.9 96.5 L 384.9 98.6 L 375.3 98.6 L 375.3 96.5 \" fill=\"#FF0000\"/>\n",
       "<path class=\"atom-9\" d=\"M 185.5 79.5 L 194.8 94.5 Q 195.7 96.0, 197.2 98.7 Q 198.7 101.4, 198.8 101.5 L 198.8 79.5 L 202.5 79.5 L 202.5 107.9 L 198.6 107.9 L 188.7 91.5 Q 187.5 89.5, 186.3 87.3 Q 185.1 85.1, 184.7 84.5 L 184.7 107.9 L 181.0 107.9 L 181.0 79.5 L 185.5 79.5 \" fill=\"#0000FF\"/>\n",
       "<path class=\"atom-9\" d=\"M 207.8 84.6 L 212.8 84.6 L 212.8 79.4 L 215.1 79.4 L 215.1 84.6 L 220.2 84.6 L 220.2 86.5 L 215.1 86.5 L 215.1 91.8 L 212.8 91.8 L 212.8 86.5 L 207.8 86.5 L 207.8 84.6 \" fill=\"#0000FF\"/>\n",
       "<path class=\"atom-10\" d=\"M 133.5 127.7 L 137.4 127.7 L 137.4 139.8 L 151.9 139.8 L 151.9 127.7 L 155.7 127.7 L 155.7 156.0 L 151.9 156.0 L 151.9 143.0 L 137.4 143.0 L 137.4 156.0 L 133.5 156.0 L 133.5 127.7 \" fill=\"#000000\"/>\n",
       "<path class=\"atom-11\" d=\"M 115.1 65.1 L 118.9 65.1 L 118.9 77.1 L 133.4 77.1 L 133.4 65.1 L 137.2 65.1 L 137.2 93.4 L 133.4 93.4 L 133.4 80.3 L 118.9 80.3 L 118.9 93.4 L 115.1 93.4 L 115.1 65.1 \" fill=\"#000000\"/>\n",
       "<path class=\"atom-12\" d=\"M 193.8 13.8 L 197.6 13.8 L 197.6 25.8 L 212.1 25.8 L 212.1 13.8 L 215.9 13.8 L 215.9 42.1 L 212.1 42.1 L 212.1 29.0 L 197.6 29.0 L 197.6 42.1 L 193.8 42.1 L 193.8 13.8 \" fill=\"#000000\"/>\n",
       "</svg>"
      ],
      "text/plain": [
       "<IPython.core.display.SVG object>"
      ]
     },
     "execution_count": 3,
     "metadata": {},
     "output_type": "execute_result"
    }
   ],
   "source": [
    "smiles_explicit_h = Molecule.from_smiles(\n",
    "    \"[H][C]([H])([H])[C@@]([H])([C](=[O])[O-])[N+]([H])([H])[H]\", \n",
    "    hydrogens_are_explicit=True\n",
    ")\n",
    "\n",
    "assert zw_l_alanine.is_isomorphic_with(smiles_explicit_h)\n",
    "\n",
    "smiles_explicit_h.visualize()"
   ]
  },
  {
   "cell_type": "markdown",
   "id": "6e1adb21",
   "metadata": {},
   "source": [
    "### Mapped SMILES\n",
    "\n",
    "By default, no guarantees are made about the indexing of atoms from a SMILES string. If the indexing is important, a mapped SMILES string may be used. In this case, Hydrogens must be explicit. Note that though mapped SMILES strings must start at index 1, Python lists start at index 0."
   ]
  },
  {
   "cell_type": "code",
   "execution_count": 4,
   "id": "178de2c5",
   "metadata": {},
   "outputs": [
    {
     "data": {
      "image/svg+xml": [
       "<svg xmlns=\"http://www.w3.org/2000/svg\" xmlns:rdkit=\"http://www.rdkit.org/xml\" xmlns:xlink=\"http://www.w3.org/1999/xlink\" version=\"1.1\" baseProfile=\"full\" xml:space=\"preserve\" width=\"500px\" height=\"300px\" viewBox=\"0 0 500 300\">\n",
       "<!-- END OF HEADER -->\n",
       "<rect style=\"opacity:1.0;fill:#FFFFFF;stroke:none\" width=\"500.0\" height=\"300.0\" x=\"0.0\" y=\"0.0\"> </rect>\n",
       "<path class=\"bond-0 atom-0 atom-3\" d=\"M 204.7,104.8 L 227.0,123.8\" style=\"fill:none;fill-rule:evenodd;stroke:#0000FF;stroke-width:2.0px;stroke-linecap:butt;stroke-linejoin:miter;stroke-opacity:1\"/>\n",
       "<path class=\"bond-0 atom-0 atom-3\" d=\"M 227.0,123.8 L 249.2,142.8\" style=\"fill:none;fill-rule:evenodd;stroke:#000000;stroke-width:2.0px;stroke-linecap:butt;stroke-linejoin:miter;stroke-opacity:1\"/>\n",
       "<path class=\"bond-1 atom-0 atom-10\" d=\"M 178.8,106.9 L 168.4,117.6\" style=\"fill:none;fill-rule:evenodd;stroke:#0000FF;stroke-width:2.0px;stroke-linecap:butt;stroke-linejoin:miter;stroke-opacity:1\"/>\n",
       "<path class=\"bond-1 atom-0 atom-10\" d=\"M 168.4,117.6 L 157.9,128.3\" style=\"fill:none;fill-rule:evenodd;stroke:#000000;stroke-width:2.0px;stroke-linecap:butt;stroke-linejoin:miter;stroke-opacity:1\"/>\n",
       "<path class=\"bond-2 atom-0 atom-11\" d=\"M 178.8,90.8 L 159.1,86.5\" style=\"fill:none;fill-rule:evenodd;stroke:#0000FF;stroke-width:2.0px;stroke-linecap:butt;stroke-linejoin:miter;stroke-opacity:1\"/>\n",
       "<path class=\"bond-2 atom-0 atom-11\" d=\"M 159.1,86.5 L 139.4,82.2\" style=\"fill:none;fill-rule:evenodd;stroke:#000000;stroke-width:2.0px;stroke-linecap:butt;stroke-linejoin:miter;stroke-opacity:1\"/>\n",
       "<path class=\"bond-3 atom-0 atom-12\" d=\"M 195.0,77.3 L 198.3,60.8\" style=\"fill:none;fill-rule:evenodd;stroke:#0000FF;stroke-width:2.0px;stroke-linecap:butt;stroke-linejoin:miter;stroke-opacity:1\"/>\n",
       "<path class=\"bond-3 atom-0 atom-12\" d=\"M 198.3,60.8 L 201.6,44.3\" style=\"fill:none;fill-rule:evenodd;stroke:#000000;stroke-width:2.0px;stroke-linecap:butt;stroke-linejoin:miter;stroke-opacity:1\"/>\n",
       "<path class=\"bond-4 atom-1 atom-3\" d=\"M 269.1,206.9 L 249.2,142.8\" style=\"fill:none;fill-rule:evenodd;stroke:#000000;stroke-width:2.0px;stroke-linecap:butt;stroke-linejoin:miter;stroke-opacity:1\"/>\n",
       "<path class=\"bond-5 atom-1 atom-6\" d=\"M 269.1,206.9 L 216.9,221.3\" style=\"fill:none;fill-rule:evenodd;stroke:#000000;stroke-width:2.0px;stroke-linecap:butt;stroke-linejoin:miter;stroke-opacity:1\"/>\n",
       "<path class=\"bond-6 atom-1 atom-7\" d=\"M 269.1,206.9 L 255.6,255.7\" style=\"fill:none;fill-rule:evenodd;stroke:#000000;stroke-width:2.0px;stroke-linecap:butt;stroke-linejoin:miter;stroke-opacity:1\"/>\n",
       "<path class=\"bond-7 atom-1 atom-9\" d=\"M 269.1,206.9 L 320.3,220.4\" style=\"fill:none;fill-rule:evenodd;stroke:#000000;stroke-width:2.0px;stroke-linecap:butt;stroke-linejoin:miter;stroke-opacity:1\"/>\n",
       "<path class=\"bond-8 atom-2 atom-3\" d=\"M 292.6,93.2 L 249.2,142.8\" style=\"fill:none;fill-rule:evenodd;stroke:#000000;stroke-width:2.0px;stroke-linecap:butt;stroke-linejoin:miter;stroke-opacity:1\"/>\n",
       "<path class=\"bond-9 atom-2 atom-4\" d=\"M 298.4,94.3 L 289.8,69.8\" style=\"fill:none;fill-rule:evenodd;stroke:#000000;stroke-width:2.0px;stroke-linecap:butt;stroke-linejoin:miter;stroke-opacity:1\"/>\n",
       "<path class=\"bond-9 atom-2 atom-4\" d=\"M 289.8,69.8 L 281.2,45.2\" style=\"fill:none;fill-rule:evenodd;stroke:#FF0000;stroke-width:2.0px;stroke-linecap:butt;stroke-linejoin:miter;stroke-opacity:1\"/>\n",
       "<path class=\"bond-9 atom-2 atom-4\" d=\"M 288.8,97.6 L 280.3,73.0\" style=\"fill:none;fill-rule:evenodd;stroke:#000000;stroke-width:2.0px;stroke-linecap:butt;stroke-linejoin:miter;stroke-opacity:1\"/>\n",
       "<path class=\"bond-9 atom-2 atom-4\" d=\"M 280.3,73.0 L 271.7,48.5\" style=\"fill:none;fill-rule:evenodd;stroke:#FF0000;stroke-width:2.0px;stroke-linecap:butt;stroke-linejoin:miter;stroke-opacity:1\"/>\n",
       "<path class=\"bond-10 atom-2 atom-5\" d=\"M 292.6,93.2 L 317.8,98.2\" style=\"fill:none;fill-rule:evenodd;stroke:#000000;stroke-width:2.0px;stroke-linecap:butt;stroke-linejoin:miter;stroke-opacity:1\"/>\n",
       "<path class=\"bond-10 atom-2 atom-5\" d=\"M 317.8,98.2 L 343.0,103.2\" style=\"fill:none;fill-rule:evenodd;stroke:#FF0000;stroke-width:2.0px;stroke-linecap:butt;stroke-linejoin:miter;stroke-opacity:1\"/>\n",
       "<path class=\"bond-11 atom-3 atom-8\" d=\"M 249.2,142.8 L 212.8,164.7 L 208.7,155.5 Z\" style=\"fill:#000000;fill-rule:evenodd;fill-opacity:1;stroke:#000000;stroke-width:0.5px;stroke-linecap:butt;stroke-linejoin:miter;stroke-opacity:1;\"/>\n",
       "<path d=\"M 290.5,95.7 L 292.6,93.2 L 293.9,93.5\" style=\"fill:none;stroke:#000000;stroke-width:2.0px;stroke-linecap:butt;stroke-linejoin:miter;stroke-opacity:1;\"/>\n",
       "<path class=\"atom-0\" d=\"M 185.5 79.5 L 194.8 94.5 Q 195.7 96.0, 197.2 98.7 Q 198.7 101.4, 198.8 101.5 L 198.8 79.5 L 202.5 79.5 L 202.5 107.9 L 198.6 107.9 L 188.7 91.5 Q 187.5 89.5, 186.3 87.3 Q 185.1 85.1, 184.7 84.5 L 184.7 107.9 L 181.0 107.9 L 181.0 79.5 L 185.5 79.5 \" fill=\"#0000FF\"/>\n",
       "<path class=\"atom-0\" d=\"M 207.8 84.6 L 212.8 84.6 L 212.8 79.4 L 215.1 79.4 L 215.1 84.6 L 220.2 84.6 L 220.2 86.5 L 215.1 86.5 L 215.1 91.8 L 212.8 91.8 L 212.8 86.5 L 207.8 86.5 L 207.8 84.6 \" fill=\"#0000FF\"/>\n",
       "<path class=\"atom-4\" d=\"M 257.6 30.0 Q 257.6 23.2, 260.9 19.4 Q 264.3 15.6, 270.6 15.6 Q 276.8 15.6, 280.2 19.4 Q 283.6 23.2, 283.6 30.0 Q 283.6 36.8, 280.2 40.8 Q 276.8 44.6, 270.6 44.6 Q 264.3 44.6, 260.9 40.8 Q 257.6 36.9, 257.6 30.0 M 270.6 41.4 Q 274.9 41.4, 277.2 38.6 Q 279.6 35.6, 279.6 30.0 Q 279.6 24.4, 277.2 21.6 Q 274.9 18.8, 270.6 18.8 Q 266.2 18.8, 263.9 21.6 Q 261.6 24.4, 261.6 30.0 Q 261.6 35.7, 263.9 38.6 Q 266.2 41.4, 270.6 41.4 \" fill=\"#FF0000\"/>\n",
       "<path class=\"atom-5\" d=\"M 345.2 106.3 Q 345.2 99.5, 348.6 95.7 Q 351.9 91.9, 358.2 91.9 Q 364.5 91.9, 367.9 95.7 Q 371.2 99.5, 371.2 106.3 Q 371.2 113.2, 367.8 117.1 Q 364.4 121.0, 358.2 121.0 Q 352.0 121.0, 348.6 117.1 Q 345.2 113.2, 345.2 106.3 M 358.2 117.8 Q 362.5 117.8, 364.9 114.9 Q 367.2 112.0, 367.2 106.3 Q 367.2 100.7, 364.9 97.9 Q 362.5 95.1, 358.2 95.1 Q 353.9 95.1, 351.5 97.9 Q 349.2 100.7, 349.2 106.3 Q 349.2 112.0, 351.5 114.9 Q 353.9 117.8, 358.2 117.8 \" fill=\"#FF0000\"/>\n",
       "<path class=\"atom-5\" d=\"M 375.3 96.5 L 384.9 96.5 L 384.9 98.6 L 375.3 98.6 L 375.3 96.5 \" fill=\"#FF0000\"/>\n",
       "<path class=\"atom-6\" d=\"M 192.6 210.8 L 196.4 210.8 L 196.4 222.9 L 210.9 222.9 L 210.9 210.8 L 214.7 210.8 L 214.7 239.2 L 210.9 239.2 L 210.9 226.1 L 196.4 226.1 L 196.4 239.2 L 192.6 239.2 L 192.6 210.8 \" fill=\"#000000\"/>\n",
       "<path class=\"atom-7\" d=\"M 240.0 257.9 L 243.8 257.9 L 243.8 270.0 L 258.3 270.0 L 258.3 257.9 L 262.2 257.9 L 262.2 286.2 L 258.3 286.2 L 258.3 273.2 L 243.8 273.2 L 243.8 286.2 L 240.0 286.2 L 240.0 257.9 \" fill=\"#000000\"/>\n",
       "<path class=\"atom-8\" d=\"M 184.2 153.0 L 188.0 153.0 L 188.0 165.0 L 202.5 165.0 L 202.5 153.0 L 206.3 153.0 L 206.3 181.3 L 202.5 181.3 L 202.5 168.2 L 188.0 168.2 L 188.0 181.3 L 184.2 181.3 L 184.2 153.0 \" fill=\"#000000\"/>\n",
       "<path class=\"atom-9\" d=\"M 322.5 209.8 L 326.4 209.8 L 326.4 221.8 L 340.8 221.8 L 340.8 209.8 L 344.7 209.8 L 344.7 238.1 L 340.8 238.1 L 340.8 225.0 L 326.4 225.0 L 326.4 238.1 L 322.5 238.1 L 322.5 209.8 \" fill=\"#000000\"/>\n",
       "<path class=\"atom-10\" d=\"M 133.5 127.7 L 137.4 127.7 L 137.4 139.8 L 151.9 139.8 L 151.9 127.7 L 155.7 127.7 L 155.7 156.0 L 151.9 156.0 L 151.9 143.0 L 137.4 143.0 L 137.4 156.0 L 133.5 156.0 L 133.5 127.7 \" fill=\"#000000\"/>\n",
       "<path class=\"atom-11\" d=\"M 115.1 65.1 L 118.9 65.1 L 118.9 77.1 L 133.4 77.1 L 133.4 65.1 L 137.2 65.1 L 137.2 93.4 L 133.4 93.4 L 133.4 80.3 L 118.9 80.3 L 118.9 93.4 L 115.1 93.4 L 115.1 65.1 \" fill=\"#000000\"/>\n",
       "<path class=\"atom-12\" d=\"M 193.8 13.8 L 197.6 13.8 L 197.6 25.8 L 212.1 25.8 L 212.1 13.8 L 215.9 13.8 L 215.9 42.1 L 212.1 42.1 L 212.1 29.0 L 197.6 29.0 L 197.6 42.1 L 193.8 42.1 L 193.8 13.8 \" fill=\"#000000\"/>\n",
       "</svg>"
      ],
      "text/plain": [
       "<IPython.core.display.SVG object>"
      ]
     },
     "execution_count": 4,
     "metadata": {},
     "output_type": "execute_result"
    }
   ],
   "source": [
    "mapped_smiles = Molecule.from_mapped_smiles(\n",
    "    \"[H:10][C:2]([H:7])([H:8])[C@@:4]([H:9])([C:3](=[O:5])[O-:6])[N+:1]([H:11])([H:12])[H:13]\"\n",
    ")\n",
    "\n",
    "assert zw_l_alanine.is_isomorphic_with(mapped_smiles)\n",
    "\n",
    "assert mapped_smiles.atoms[0].atomic_number == 7 # First index is the Nitrogen\n",
    "assert all([a.atomic_number==1 for a in mapped_smiles.atoms[6:]]) # Final indices are all H\n",
    "\n",
    "mapped_smiles.visualize()"
   ]
  },
  {
   "cell_type": "markdown",
   "id": "6897144e",
   "metadata": {},
   "source": [
    "(smiles_no_stereochemistry)=\n",
    "### SMILES without stereochemistry\n",
    "\n",
    "The Toolkit won't accept an ambiguous SMILES. This SMILES could be L- or D- alanine; rather than guess, the Toolkit throws an error:"
   ]
  },
  {
   "cell_type": "code",
   "execution_count": 5,
   "id": "ec669ad6",
   "metadata": {
    "scrolled": true,
    "tags": [
     "raises-exception"
    ]
   },
   "outputs": [
    {
     "ename": "UndefinedStereochemistryError",
     "evalue": "Unable to make OFFMol from OEMol: OEMol has unspecified stereochemistry. oemol.GetTitle()=''Problematic atoms are:\nAtom atomic num: 6, name: , idx: 1, aromatic: False, chiral: True with bonds:\nbond order: 1, chiral: False to atom atomic num: 6, name: , idx: 0, aromatic: False, chiral: False\nbond order: 1, chiral: False to atom atomic num: 7, name: , idx: 2, aromatic: False, chiral: False\nbond order: 1, chiral: False to atom atomic num: 6, name: , idx: 3, aromatic: False, chiral: False\nbond order: 1, chiral: False to atom atomic num: 1, name: , idx: 9, aromatic: False, chiral: False\n",
     "output_type": "error",
     "traceback": [
      "\u001b[0;31mUndefinedStereochemistryError\u001b[0m\u001b[0;31m:\u001b[0m Unable to make OFFMol from OEMol: OEMol has unspecified stereochemistry. oemol.GetTitle()=''Problematic atoms are:\nAtom atomic num: 6, name: , idx: 1, aromatic: False, chiral: True with bonds:\nbond order: 1, chiral: False to atom atomic num: 6, name: , idx: 0, aromatic: False, chiral: False\nbond order: 1, chiral: False to atom atomic num: 7, name: , idx: 2, aromatic: False, chiral: False\nbond order: 1, chiral: False to atom atomic num: 6, name: , idx: 3, aromatic: False, chiral: False\nbond order: 1, chiral: False to atom atomic num: 1, name: , idx: 9, aromatic: False, chiral: False\n\n"
     ]
    }
   ],
   "source": [
    "smiles_non_isomeric = Molecule.from_smiles(\n",
    "    \"CC([NH3+])C(=O)[O-]\"\n",
    ")"
   ]
  },
  {
   "cell_type": "markdown",
   "id": "821c4687",
   "metadata": {},
   "source": [
    "We can downgrade this error to a warning with the `allow_undefined_stereo` argument. This will create a molecule with undefined stereochemistry, which might lead to incorrect parametrization or surprising conformer generation. See the [FAQ](../faq.md#im-getting-stereochemistry-errors-when-loading-a-molecule-from-a-smiles-string) for more details."
   ]
  },
  {
   "cell_type": "code",
   "execution_count": 6,
   "id": "278e3cb1",
   "metadata": {},
   "outputs": [
    {
     "data": {
      "image/svg+xml": [
       "<svg xmlns=\"http://www.w3.org/2000/svg\" xmlns:rdkit=\"http://www.rdkit.org/xml\" xmlns:xlink=\"http://www.w3.org/1999/xlink\" version=\"1.1\" baseProfile=\"full\" xml:space=\"preserve\" width=\"500px\" height=\"300px\" viewBox=\"0 0 500 300\">\n",
       "<!-- END OF HEADER -->\n",
       "<rect style=\"opacity:1.0;fill:#FFFFFF;stroke:none\" width=\"500.0\" height=\"300.0\" x=\"0.0\" y=\"0.0\"> </rect>\n",
       "<path class=\"bond-0 atom-0 atom-1\" d=\"M 269.1,206.9 L 249.2,142.8\" style=\"fill:none;fill-rule:evenodd;stroke:#000000;stroke-width:2.0px;stroke-linecap:butt;stroke-linejoin:miter;stroke-opacity:1\"/>\n",
       "<path class=\"bond-1 atom-1 atom-2\" d=\"M 249.2,142.8 L 227.0,123.8\" style=\"fill:none;fill-rule:evenodd;stroke:#000000;stroke-width:2.0px;stroke-linecap:butt;stroke-linejoin:miter;stroke-opacity:1\"/>\n",
       "<path class=\"bond-1 atom-1 atom-2\" d=\"M 227.0,123.8 L 204.7,104.8\" style=\"fill:none;fill-rule:evenodd;stroke:#0000FF;stroke-width:2.0px;stroke-linecap:butt;stroke-linejoin:miter;stroke-opacity:1\"/>\n",
       "<path class=\"bond-2 atom-1 atom-3\" d=\"M 249.2,142.8 L 292.6,93.2\" style=\"fill:none;fill-rule:evenodd;stroke:#000000;stroke-width:2.0px;stroke-linecap:butt;stroke-linejoin:miter;stroke-opacity:1\"/>\n",
       "<path class=\"bond-3 atom-3 atom-4\" d=\"M 298.4,94.3 L 289.8,69.8\" style=\"fill:none;fill-rule:evenodd;stroke:#000000;stroke-width:2.0px;stroke-linecap:butt;stroke-linejoin:miter;stroke-opacity:1\"/>\n",
       "<path class=\"bond-3 atom-3 atom-4\" d=\"M 289.8,69.8 L 281.2,45.2\" style=\"fill:none;fill-rule:evenodd;stroke:#FF0000;stroke-width:2.0px;stroke-linecap:butt;stroke-linejoin:miter;stroke-opacity:1\"/>\n",
       "<path class=\"bond-3 atom-3 atom-4\" d=\"M 288.8,97.6 L 280.3,73.0\" style=\"fill:none;fill-rule:evenodd;stroke:#000000;stroke-width:2.0px;stroke-linecap:butt;stroke-linejoin:miter;stroke-opacity:1\"/>\n",
       "<path class=\"bond-3 atom-3 atom-4\" d=\"M 280.3,73.0 L 271.7,48.5\" style=\"fill:none;fill-rule:evenodd;stroke:#FF0000;stroke-width:2.0px;stroke-linecap:butt;stroke-linejoin:miter;stroke-opacity:1\"/>\n",
       "<path class=\"bond-4 atom-3 atom-5\" d=\"M 292.6,93.2 L 317.8,98.2\" style=\"fill:none;fill-rule:evenodd;stroke:#000000;stroke-width:2.0px;stroke-linecap:butt;stroke-linejoin:miter;stroke-opacity:1\"/>\n",
       "<path class=\"bond-4 atom-3 atom-5\" d=\"M 317.8,98.2 L 343.0,103.2\" style=\"fill:none;fill-rule:evenodd;stroke:#FF0000;stroke-width:2.0px;stroke-linecap:butt;stroke-linejoin:miter;stroke-opacity:1\"/>\n",
       "<path class=\"bond-5 atom-0 atom-6\" d=\"M 269.1,206.9 L 216.9,221.3\" style=\"fill:none;fill-rule:evenodd;stroke:#000000;stroke-width:2.0px;stroke-linecap:butt;stroke-linejoin:miter;stroke-opacity:1\"/>\n",
       "<path class=\"bond-6 atom-0 atom-7\" d=\"M 269.1,206.9 L 255.6,255.7\" style=\"fill:none;fill-rule:evenodd;stroke:#000000;stroke-width:2.0px;stroke-linecap:butt;stroke-linejoin:miter;stroke-opacity:1\"/>\n",
       "<path class=\"bond-7 atom-0 atom-8\" d=\"M 269.1,206.9 L 320.3,220.4\" style=\"fill:none;fill-rule:evenodd;stroke:#000000;stroke-width:2.0px;stroke-linecap:butt;stroke-linejoin:miter;stroke-opacity:1\"/>\n",
       "<path class=\"bond-8 atom-1 atom-9\" d=\"M 249.2,142.8 L 208.6,161.1\" style=\"fill:none;fill-rule:evenodd;stroke:#000000;stroke-width:2.0px;stroke-linecap:butt;stroke-linejoin:miter;stroke-opacity:1\"/>\n",
       "<path class=\"bond-9 atom-2 atom-10\" d=\"M 178.8,106.9 L 168.4,117.6\" style=\"fill:none;fill-rule:evenodd;stroke:#0000FF;stroke-width:2.0px;stroke-linecap:butt;stroke-linejoin:miter;stroke-opacity:1\"/>\n",
       "<path class=\"bond-9 atom-2 atom-10\" d=\"M 168.4,117.6 L 157.9,128.3\" style=\"fill:none;fill-rule:evenodd;stroke:#000000;stroke-width:2.0px;stroke-linecap:butt;stroke-linejoin:miter;stroke-opacity:1\"/>\n",
       "<path class=\"bond-10 atom-2 atom-11\" d=\"M 178.8,90.8 L 159.1,86.5\" style=\"fill:none;fill-rule:evenodd;stroke:#0000FF;stroke-width:2.0px;stroke-linecap:butt;stroke-linejoin:miter;stroke-opacity:1\"/>\n",
       "<path class=\"bond-10 atom-2 atom-11\" d=\"M 159.1,86.5 L 139.4,82.2\" style=\"fill:none;fill-rule:evenodd;stroke:#000000;stroke-width:2.0px;stroke-linecap:butt;stroke-linejoin:miter;stroke-opacity:1\"/>\n",
       "<path class=\"bond-11 atom-2 atom-12\" d=\"M 195.0,77.3 L 198.3,60.8\" style=\"fill:none;fill-rule:evenodd;stroke:#0000FF;stroke-width:2.0px;stroke-linecap:butt;stroke-linejoin:miter;stroke-opacity:1\"/>\n",
       "<path class=\"bond-11 atom-2 atom-12\" d=\"M 198.3,60.8 L 201.6,44.3\" style=\"fill:none;fill-rule:evenodd;stroke:#000000;stroke-width:2.0px;stroke-linecap:butt;stroke-linejoin:miter;stroke-opacity:1\"/>\n",
       "<path d=\"M 290.5,95.7 L 292.6,93.2 L 293.9,93.5\" style=\"fill:none;stroke:#000000;stroke-width:2.0px;stroke-linecap:butt;stroke-linejoin:miter;stroke-opacity:1;\"/>\n",
       "<path class=\"atom-2\" d=\"M 185.5 79.5 L 194.8 94.5 Q 195.7 96.0, 197.2 98.7 Q 198.7 101.4, 198.8 101.5 L 198.8 79.5 L 202.5 79.5 L 202.5 107.9 L 198.6 107.9 L 188.7 91.5 Q 187.5 89.5, 186.3 87.3 Q 185.1 85.1, 184.7 84.5 L 184.7 107.9 L 181.0 107.9 L 181.0 79.5 L 185.5 79.5 \" fill=\"#0000FF\"/>\n",
       "<path class=\"atom-2\" d=\"M 207.8 84.6 L 212.8 84.6 L 212.8 79.4 L 215.1 79.4 L 215.1 84.6 L 220.2 84.6 L 220.2 86.5 L 215.1 86.5 L 215.1 91.8 L 212.8 91.8 L 212.8 86.5 L 207.8 86.5 L 207.8 84.6 \" fill=\"#0000FF\"/>\n",
       "<path class=\"atom-4\" d=\"M 257.6 30.0 Q 257.6 23.2, 260.9 19.4 Q 264.3 15.6, 270.6 15.6 Q 276.8 15.6, 280.2 19.4 Q 283.6 23.2, 283.6 30.0 Q 283.6 36.8, 280.2 40.8 Q 276.8 44.6, 270.6 44.6 Q 264.3 44.6, 260.9 40.8 Q 257.6 36.9, 257.6 30.0 M 270.6 41.4 Q 274.9 41.4, 277.2 38.6 Q 279.6 35.6, 279.6 30.0 Q 279.6 24.4, 277.2 21.6 Q 274.9 18.8, 270.6 18.8 Q 266.2 18.8, 263.9 21.6 Q 261.6 24.4, 261.6 30.0 Q 261.6 35.7, 263.9 38.6 Q 266.2 41.4, 270.6 41.4 \" fill=\"#FF0000\"/>\n",
       "<path class=\"atom-5\" d=\"M 345.2 106.3 Q 345.2 99.5, 348.6 95.7 Q 351.9 91.9, 358.2 91.9 Q 364.5 91.9, 367.9 95.7 Q 371.2 99.5, 371.2 106.3 Q 371.2 113.2, 367.8 117.1 Q 364.4 121.0, 358.2 121.0 Q 352.0 121.0, 348.6 117.1 Q 345.2 113.2, 345.2 106.3 M 358.2 117.8 Q 362.5 117.8, 364.9 114.9 Q 367.2 112.0, 367.2 106.3 Q 367.2 100.7, 364.9 97.9 Q 362.5 95.1, 358.2 95.1 Q 353.9 95.1, 351.5 97.9 Q 349.2 100.7, 349.2 106.3 Q 349.2 112.0, 351.5 114.9 Q 353.9 117.8, 358.2 117.8 \" fill=\"#FF0000\"/>\n",
       "<path class=\"atom-5\" d=\"M 375.3 96.5 L 384.9 96.5 L 384.9 98.6 L 375.3 98.6 L 375.3 96.5 \" fill=\"#FF0000\"/>\n",
       "<path class=\"atom-6\" d=\"M 192.6 210.8 L 196.4 210.8 L 196.4 222.9 L 210.9 222.9 L 210.9 210.8 L 214.7 210.8 L 214.7 239.2 L 210.9 239.2 L 210.9 226.1 L 196.4 226.1 L 196.4 239.2 L 192.6 239.2 L 192.6 210.8 \" fill=\"#000000\"/>\n",
       "<path class=\"atom-7\" d=\"M 240.0 257.9 L 243.8 257.9 L 243.8 270.0 L 258.3 270.0 L 258.3 257.9 L 262.2 257.9 L 262.2 286.2 L 258.3 286.2 L 258.3 273.2 L 243.8 273.2 L 243.8 286.2 L 240.0 286.2 L 240.0 257.9 \" fill=\"#000000\"/>\n",
       "<path class=\"atom-8\" d=\"M 322.5 209.8 L 326.4 209.8 L 326.4 221.8 L 340.8 221.8 L 340.8 209.8 L 344.7 209.8 L 344.7 238.1 L 340.8 238.1 L 340.8 225.0 L 326.4 225.0 L 326.4 238.1 L 322.5 238.1 L 322.5 209.8 \" fill=\"#000000\"/>\n",
       "<path class=\"atom-9\" d=\"M 184.2 153.0 L 188.0 153.0 L 188.0 165.0 L 202.5 165.0 L 202.5 153.0 L 206.3 153.0 L 206.3 181.3 L 202.5 181.3 L 202.5 168.2 L 188.0 168.2 L 188.0 181.3 L 184.2 181.3 L 184.2 153.0 \" fill=\"#000000\"/>\n",
       "<path class=\"atom-10\" d=\"M 133.5 127.7 L 137.4 127.7 L 137.4 139.8 L 151.9 139.8 L 151.9 127.7 L 155.7 127.7 L 155.7 156.0 L 151.9 156.0 L 151.9 143.0 L 137.4 143.0 L 137.4 156.0 L 133.5 156.0 L 133.5 127.7 \" fill=\"#000000\"/>\n",
       "<path class=\"atom-11\" d=\"M 115.1 65.1 L 118.9 65.1 L 118.9 77.1 L 133.4 77.1 L 133.4 65.1 L 137.2 65.1 L 137.2 93.4 L 133.4 93.4 L 133.4 80.3 L 118.9 80.3 L 118.9 93.4 L 115.1 93.4 L 115.1 65.1 \" fill=\"#000000\"/>\n",
       "<path class=\"atom-12\" d=\"M 193.8 13.8 L 197.6 13.8 L 197.6 25.8 L 212.1 25.8 L 212.1 13.8 L 215.9 13.8 L 215.9 42.1 L 212.1 42.1 L 212.1 29.0 L 197.6 29.0 L 197.6 42.1 L 193.8 42.1 L 193.8 13.8 \" fill=\"#000000\"/>\n",
       "</svg>"
      ],
      "text/plain": [
       "<IPython.core.display.SVG object>"
      ]
     },
     "execution_count": 6,
     "metadata": {},
     "output_type": "execute_result"
    }
   ],
   "source": [
    "smiles_non_isomeric = Molecule.from_smiles(\n",
    "    \"CC([NH3+])C(=O)[O-]\",\n",
    "    allow_undefined_stereo=True\n",
    ")\n",
    "\n",
    "assert not zw_l_alanine.is_isomorphic_with(smiles_non_isomeric)\n",
    "\n",
    "smiles_non_isomeric.visualize()"
   ]
  },
  {
   "cell_type": "markdown",
   "id": "da716060",
   "metadata": {},
   "source": [
    "## By hand\n",
    "\n",
    "You can always construct a `Molecule` by building it up from individual atoms and bonds. Other methods are generally easier, but it's a useful fallback for when you need to write your own constructor for an unsupported source format.\n",
    "\n",
    "The [`Molecule()`](openff.toolkit.topology.Molecule.__init__) constructor and the [`add_atom()`](openff.toolkit.topology.Molecule.add_atom) and [`add_bond()`](openff.toolkit.topology.Molecule.add_bond) methods are used to construct a `Molecule` by hand."
   ]
  },
  {
   "cell_type": "code",
   "execution_count": 7,
   "id": "aa8746eb",
   "metadata": {},
   "outputs": [
    {
     "data": {
      "image/svg+xml": [
       "<svg xmlns=\"http://www.w3.org/2000/svg\" xmlns:rdkit=\"http://www.rdkit.org/xml\" xmlns:xlink=\"http://www.w3.org/1999/xlink\" version=\"1.1\" baseProfile=\"full\" xml:space=\"preserve\" width=\"500px\" height=\"300px\" viewBox=\"0 0 500 300\">\n",
       "<!-- END OF HEADER -->\n",
       "<rect style=\"opacity:1.0;fill:#FFFFFF;stroke:none\" width=\"500.0\" height=\"300.0\" x=\"0.0\" y=\"0.0\"> </rect>\n",
       "<path class=\"bond-0 atom-0 atom-1\" d=\"M 285.6,251.8 L 294.2,226.3\" style=\"fill:none;fill-rule:evenodd;stroke:#FF0000;stroke-width:2.0px;stroke-linecap:butt;stroke-linejoin:miter;stroke-opacity:1\"/>\n",
       "<path class=\"bond-0 atom-0 atom-1\" d=\"M 294.2,226.3 L 302.8,200.7\" style=\"fill:none;fill-rule:evenodd;stroke:#000000;stroke-width:2.0px;stroke-linecap:butt;stroke-linejoin:miter;stroke-opacity:1\"/>\n",
       "<path class=\"bond-1 atom-1 atom-2\" d=\"M 300.8,206.6 L 329.5,200.6\" style=\"fill:none;fill-rule:evenodd;stroke:#000000;stroke-width:2.0px;stroke-linecap:butt;stroke-linejoin:miter;stroke-opacity:1\"/>\n",
       "<path class=\"bond-1 atom-1 atom-2\" d=\"M 329.5,200.6 L 358.2,194.6\" style=\"fill:none;fill-rule:evenodd;stroke:#FF0000;stroke-width:2.0px;stroke-linecap:butt;stroke-linejoin:miter;stroke-opacity:1\"/>\n",
       "<path class=\"bond-1 atom-1 atom-2\" d=\"M 298.7,196.1 L 327.3,190.1\" style=\"fill:none;fill-rule:evenodd;stroke:#000000;stroke-width:2.0px;stroke-linecap:butt;stroke-linejoin:miter;stroke-opacity:1\"/>\n",
       "<path class=\"bond-1 atom-1 atom-2\" d=\"M 327.3,190.1 L 356.0,184.1\" style=\"fill:none;fill-rule:evenodd;stroke:#FF0000;stroke-width:2.0px;stroke-linecap:butt;stroke-linejoin:miter;stroke-opacity:1\"/>\n",
       "<path class=\"bond-2 atom-1 atom-3\" d=\"M 302.8,200.7 L 256.1,148.4\" style=\"fill:none;fill-rule:evenodd;stroke:#000000;stroke-width:2.0px;stroke-linecap:butt;stroke-linejoin:miter;stroke-opacity:1\"/>\n",
       "<path class=\"bond-3 atom-3 atom-4\" d=\"M 252.7,147.4 L 253.0,146.6\" style=\"fill:none;fill-rule:evenodd;stroke:#000000;stroke-width:1.0px;stroke-linecap:butt;stroke-linejoin:miter;stroke-opacity:1\"/>\n",
       "<path class=\"bond-3 atom-3 atom-4\" d=\"M 249.3,146.3 L 250.0,144.8\" style=\"fill:none;fill-rule:evenodd;stroke:#000000;stroke-width:1.0px;stroke-linecap:butt;stroke-linejoin:miter;stroke-opacity:1\"/>\n",
       "<path class=\"bond-3 atom-3 atom-4\" d=\"M 245.9,145.3 L 246.9,143.0\" style=\"fill:none;fill-rule:evenodd;stroke:#000000;stroke-width:1.0px;stroke-linecap:butt;stroke-linejoin:miter;stroke-opacity:1\"/>\n",
       "<path class=\"bond-3 atom-3 atom-4\" d=\"M 242.5,144.3 L 243.9,141.2\" style=\"fill:none;fill-rule:evenodd;stroke:#000000;stroke-width:1.0px;stroke-linecap:butt;stroke-linejoin:miter;stroke-opacity:1\"/>\n",
       "<path class=\"bond-3 atom-3 atom-4\" d=\"M 239.2,143.2 L 240.8,139.4\" style=\"fill:none;fill-rule:evenodd;stroke:#000000;stroke-width:1.0px;stroke-linecap:butt;stroke-linejoin:miter;stroke-opacity:1\"/>\n",
       "<path class=\"bond-3 atom-3 atom-4\" d=\"M 235.8,142.2 L 237.8,137.7\" style=\"fill:none;fill-rule:evenodd;stroke:#000000;stroke-width:1.0px;stroke-linecap:butt;stroke-linejoin:miter;stroke-opacity:1\"/>\n",
       "<path class=\"bond-3 atom-3 atom-4\" d=\"M 232.4,141.1 L 234.7,135.9\" style=\"fill:none;fill-rule:evenodd;stroke:#000000;stroke-width:1.0px;stroke-linecap:butt;stroke-linejoin:miter;stroke-opacity:1\"/>\n",
       "<path class=\"bond-3 atom-3 atom-4\" d=\"M 229.0,140.1 L 231.6,134.1\" style=\"fill:none;fill-rule:evenodd;stroke:#000000;stroke-width:1.0px;stroke-linecap:butt;stroke-linejoin:miter;stroke-opacity:1\"/>\n",
       "<path class=\"bond-3 atom-3 atom-4\" d=\"M 225.6,139.1 L 228.6,132.3\" style=\"fill:none;fill-rule:evenodd;stroke:#000000;stroke-width:1.0px;stroke-linecap:butt;stroke-linejoin:miter;stroke-opacity:1\"/>\n",
       "<path class=\"bond-3 atom-3 atom-4\" d=\"M 222.2,138.0 L 225.5,130.5\" style=\"fill:none;fill-rule:evenodd;stroke:#000000;stroke-width:1.0px;stroke-linecap:butt;stroke-linejoin:miter;stroke-opacity:1\"/>\n",
       "<path class=\"bond-3 atom-3 atom-4\" d=\"M 218.8,137.0 L 222.5,128.7\" style=\"fill:none;fill-rule:evenodd;stroke:#000000;stroke-width:1.0px;stroke-linecap:butt;stroke-linejoin:miter;stroke-opacity:1\"/>\n",
       "<path class=\"bond-3 atom-3 atom-4\" d=\"M 215.5,135.9 L 219.4,126.9\" style=\"fill:none;fill-rule:evenodd;stroke:#000000;stroke-width:1.0px;stroke-linecap:butt;stroke-linejoin:miter;stroke-opacity:1\"/>\n",
       "<path class=\"bond-3 atom-3 atom-4\" d=\"M 212.1,134.9 L 216.4,125.1\" style=\"fill:none;fill-rule:evenodd;stroke:#000000;stroke-width:1.0px;stroke-linecap:butt;stroke-linejoin:miter;stroke-opacity:1\"/>\n",
       "<path class=\"bond-4 atom-3 atom-5\" d=\"M 256.1,148.4 L 276.5,80.1\" style=\"fill:none;fill-rule:evenodd;stroke:#000000;stroke-width:2.0px;stroke-linecap:butt;stroke-linejoin:miter;stroke-opacity:1\"/>\n",
       "<path class=\"bond-5 atom-5 atom-6\" d=\"M 276.5,80.1 L 331.6,94.8\" style=\"fill:none;fill-rule:evenodd;stroke:#000000;stroke-width:2.0px;stroke-linecap:butt;stroke-linejoin:miter;stroke-opacity:1\"/>\n",
       "<path class=\"bond-6 atom-5 atom-7\" d=\"M 276.5,80.1 L 312.5,42.8\" style=\"fill:none;fill-rule:evenodd;stroke:#000000;stroke-width:2.0px;stroke-linecap:butt;stroke-linejoin:miter;stroke-opacity:1\"/>\n",
       "<path class=\"bond-7 atom-5 atom-8\" d=\"M 276.5,80.1 L 238.5,42.7\" style=\"fill:none;fill-rule:evenodd;stroke:#000000;stroke-width:2.0px;stroke-linecap:butt;stroke-linejoin:miter;stroke-opacity:1\"/>\n",
       "<path class=\"bond-8 atom-3 atom-9\" d=\"M 256.1,148.4 L 235.3,166.5\" style=\"fill:none;fill-rule:evenodd;stroke:#000000;stroke-width:2.0px;stroke-linecap:butt;stroke-linejoin:miter;stroke-opacity:1\"/>\n",
       "<path class=\"bond-8 atom-3 atom-9\" d=\"M 235.3,166.5 L 214.5,184.6\" style=\"fill:none;fill-rule:evenodd;stroke:#0000FF;stroke-width:2.0px;stroke-linecap:butt;stroke-linejoin:miter;stroke-opacity:1\"/>\n",
       "<path class=\"bond-9 atom-9 atom-10\" d=\"M 182.3,188.1 L 170.2,176.0\" style=\"fill:none;fill-rule:evenodd;stroke:#0000FF;stroke-width:2.0px;stroke-linecap:butt;stroke-linejoin:miter;stroke-opacity:1\"/>\n",
       "<path class=\"bond-9 atom-9 atom-10\" d=\"M 170.2,176.0 L 158.2,163.9\" style=\"fill:none;fill-rule:evenodd;stroke:#000000;stroke-width:2.0px;stroke-linecap:butt;stroke-linejoin:miter;stroke-opacity:1\"/>\n",
       "<path class=\"bond-10 atom-9 atom-11\" d=\"M 182.3,204.3 L 160.7,209.2\" style=\"fill:none;fill-rule:evenodd;stroke:#0000FF;stroke-width:2.0px;stroke-linecap:butt;stroke-linejoin:miter;stroke-opacity:1\"/>\n",
       "<path class=\"bond-10 atom-9 atom-11\" d=\"M 160.7,209.2 L 139.1,214.2\" style=\"fill:none;fill-rule:evenodd;stroke:#000000;stroke-width:2.0px;stroke-linecap:butt;stroke-linejoin:miter;stroke-opacity:1\"/>\n",
       "<path class=\"bond-11 atom-9 atom-12\" d=\"M 198.8,217.8 L 202.6,236.2\" style=\"fill:none;fill-rule:evenodd;stroke:#0000FF;stroke-width:2.0px;stroke-linecap:butt;stroke-linejoin:miter;stroke-opacity:1\"/>\n",
       "<path class=\"bond-11 atom-9 atom-12\" d=\"M 202.6,236.2 L 206.5,254.6\" style=\"fill:none;fill-rule:evenodd;stroke:#000000;stroke-width:2.0px;stroke-linecap:butt;stroke-linejoin:miter;stroke-opacity:1\"/>\n",
       "<path d=\"M 302.3,202.0 L 302.8,200.7 L 300.4,198.1\" style=\"fill:none;stroke:#000000;stroke-width:2.0px;stroke-linecap:butt;stroke-linejoin:miter;stroke-opacity:1;\"/>\n",
       "<path class=\"atom-0\" d=\"M 267.0 268.5 Q 267.0 261.7, 270.4 257.9 Q 273.7 254.1, 280.0 254.1 Q 286.3 254.1, 289.6 257.9 Q 293.0 261.7, 293.0 268.5 Q 293.0 275.4, 289.6 279.3 Q 286.2 283.2, 280.0 283.2 Q 273.8 283.2, 270.4 279.3 Q 267.0 275.4, 267.0 268.5 M 280.0 280.0 Q 284.3 280.0, 286.6 277.1 Q 289.0 274.2, 289.0 268.5 Q 289.0 263.0, 286.6 260.2 Q 284.3 257.3, 280.0 257.3 Q 275.7 257.3, 273.3 260.1 Q 271.0 262.9, 271.0 268.5 Q 271.0 274.2, 273.3 277.1 Q 275.7 280.0, 280.0 280.0 \" fill=\"#FF0000\"/>\n",
       "<path class=\"atom-0\" d=\"M 297.0 258.7 L 306.7 258.7 L 306.7 260.8 L 297.0 260.8 L 297.0 258.7 \" fill=\"#FF0000\"/>\n",
       "<path class=\"atom-2\" d=\"M 359.5 186.3 Q 359.5 179.5, 362.8 175.7 Q 366.2 171.9, 372.5 171.9 Q 378.7 171.9, 382.1 175.7 Q 385.5 179.5, 385.5 186.3 Q 385.5 193.1, 382.1 197.1 Q 378.7 200.9, 372.5 200.9 Q 366.2 200.9, 362.8 197.1 Q 359.5 193.2, 359.5 186.3 M 372.5 197.7 Q 376.8 197.7, 379.1 194.9 Q 381.5 191.9, 381.5 186.3 Q 381.5 180.7, 379.1 177.9 Q 376.8 175.1, 372.5 175.1 Q 368.1 175.1, 365.8 177.9 Q 363.5 180.7, 363.5 186.3 Q 363.5 192.0, 365.8 194.9 Q 368.1 197.7, 372.5 197.7 \" fill=\"#FF0000\"/>\n",
       "<path class=\"atom-4\" d=\"M 187.4 108.9 L 191.2 108.9 L 191.2 120.9 L 205.7 120.9 L 205.7 108.9 L 209.5 108.9 L 209.5 137.2 L 205.7 137.2 L 205.7 124.1 L 191.2 124.1 L 191.2 137.2 L 187.4 137.2 L 187.4 108.9 \" fill=\"#000000\"/>\n",
       "<path class=\"atom-6\" d=\"M 334.0 84.2 L 337.8 84.2 L 337.8 96.2 L 352.3 96.2 L 352.3 84.2 L 356.1 84.2 L 356.1 112.5 L 352.3 112.5 L 352.3 99.4 L 337.8 99.4 L 337.8 112.5 L 334.0 112.5 L 334.0 84.2 \" fill=\"#000000\"/>\n",
       "<path class=\"atom-7\" d=\"M 314.9 14.7 L 318.7 14.7 L 318.7 26.7 L 333.2 26.7 L 333.2 14.7 L 337.0 14.7 L 337.0 43.0 L 333.2 43.0 L 333.2 29.9 L 318.7 29.9 L 318.7 43.0 L 314.9 43.0 L 314.9 14.7 \" fill=\"#000000\"/>\n",
       "<path class=\"atom-8\" d=\"M 214.0 15.3 L 217.8 15.3 L 217.8 27.3 L 232.3 27.3 L 232.3 15.3 L 236.2 15.3 L 236.2 43.6 L 232.3 43.6 L 232.3 30.5 L 217.8 30.5 L 217.8 43.6 L 214.0 43.6 L 214.0 15.3 \" fill=\"#000000\"/>\n",
       "<path class=\"atom-9\" d=\"M 189.1 187.1 L 198.4 202.1 Q 199.3 203.6, 200.8 206.2 Q 202.3 208.9, 202.4 209.1 L 202.4 187.1 L 206.1 187.1 L 206.1 215.4 L 202.2 215.4 L 192.3 199.0 Q 191.1 197.1, 189.9 194.9 Q 188.7 192.7, 188.3 192.0 L 188.3 215.4 L 184.6 215.4 L 184.6 187.1 L 189.1 187.1 \" fill=\"#0000FF\"/>\n",
       "<path class=\"atom-9\" d=\"M 211.4 192.2 L 216.4 192.2 L 216.4 186.9 L 218.6 186.9 L 218.6 192.2 L 223.8 192.2 L 223.8 194.1 L 218.6 194.1 L 218.6 199.4 L 216.4 199.4 L 216.4 194.1 L 211.4 194.1 L 211.4 192.2 \" fill=\"#0000FF\"/>\n",
       "<path class=\"atom-10\" d=\"M 133.7 136.2 L 137.5 136.2 L 137.5 148.3 L 152.0 148.3 L 152.0 136.2 L 155.8 136.2 L 155.8 164.5 L 152.0 164.5 L 152.0 151.5 L 137.5 151.5 L 137.5 164.5 L 133.7 164.5 L 133.7 136.2 \" fill=\"#000000\"/>\n",
       "<path class=\"atom-11\" d=\"M 114.5 203.1 L 118.4 203.1 L 118.4 215.1 L 132.9 215.1 L 132.9 203.1 L 136.7 203.1 L 136.7 231.4 L 132.9 231.4 L 132.9 218.3 L 118.4 218.3 L 118.4 231.4 L 114.5 231.4 L 114.5 203.1 \" fill=\"#000000\"/>\n",
       "<path class=\"atom-12\" d=\"M 198.8 257.0 L 202.7 257.0 L 202.7 269.0 L 217.2 269.0 L 217.2 257.0 L 221.0 257.0 L 221.0 285.3 L 217.2 285.3 L 217.2 272.2 L 202.7 272.2 L 202.7 285.3 L 198.8 285.3 L 198.8 257.0 \" fill=\"#000000\"/>\n",
       "</svg>"
      ],
      "text/plain": [
       "<IPython.core.display.SVG object>"
      ]
     },
     "execution_count": 7,
     "metadata": {},
     "output_type": "execute_result"
    }
   ],
   "source": [
    "by_hand = Molecule()\n",
    "by_hand.name = \"Zwitterionic l-Alanine\"\n",
    "\n",
    "by_hand.add_atom(\n",
    "    atomic_number = 8, # Atomic number 8 is Oxygen\n",
    "    formal_charge = -1, # Formal negative charge\n",
    "    is_aromatic = False, # Atom is not part of an aromatic system\n",
    "    stereochemistry = None, # Optional argument; \"R\" or \"S\" stereochemistry\n",
    "    name = \"O-\" # Optional argument; descriptive name for the atom\n",
    ")\n",
    "by_hand.add_atom(6,  0, False, name=\"C\")\n",
    "by_hand.add_atom(8,  0, False, name=\"O\")\n",
    "by_hand.add_atom(6,  0, False, stereochemistry=\"S\", name=\"CA\")\n",
    "by_hand.add_atom(1,  0, False, name=\"CAH\")\n",
    "by_hand.add_atom(6,  0, False, name=\"CB\")\n",
    "by_hand.add_atom(1,  0, False, name=\"HB1\")\n",
    "by_hand.add_atom(1,  0, False, name=\"HB2\")\n",
    "by_hand.add_atom(1,  0, False, name=\"HB3\")\n",
    "by_hand.add_atom(7, +1, False, name=\"N+\")\n",
    "by_hand.add_atom(1,  0, False, name=\"HN1\")\n",
    "by_hand.add_atom(1,  0, False, name=\"HN2\")\n",
    "by_hand.add_atom(1,  0, False, name=\"HN3\")\n",
    "\n",
    "\n",
    "by_hand.add_bond( \n",
    "    atom1 = 0, # First (zero-indexed) atom specified above (\"O-\")  \n",
    "    atom2 = 1, # Second atom specified above (\"C\")\n",
    "    bond_order = 1, # Single bond\n",
    "    is_aromatic = False, # Bond is not aromatic\n",
    "    stereochemistry = None, # Optional argument; \"E\" or \"Z\" stereochemistry\n",
    "    fractional_bond_order = None # Optional argument; Wiberg (or similar) bond order\n",
    ")\n",
    "by_hand.add_bond( 1,  2, 2, False) # C = O\n",
    "by_hand.add_bond( 1,  3, 1, False) # C - CA\n",
    "by_hand.add_bond( 3,  4, 1, False) # CA - CAH\n",
    "by_hand.add_bond( 3,  5, 1, False) # CA - CB\n",
    "by_hand.add_bond( 5,  6, 1, False) # CB - HB1\n",
    "by_hand.add_bond( 5,  7, 1, False) # CB - HB2\n",
    "by_hand.add_bond( 5,  8, 1, False) # CB - HB3\n",
    "by_hand.add_bond( 3,  9, 1, False) # CB - N+\n",
    "by_hand.add_bond( 9, 10, 1, False) # N+ - HN1\n",
    "by_hand.add_bond( 9, 11, 1, False) # N+ - HN2\n",
    "by_hand.add_bond( 9, 12, 1, False) # N+ - HN3\n",
    "\n",
    "assert zw_l_alanine.is_isomorphic_with(by_hand)\n",
    "\n",
    "by_hand.visualize()"
   ]
  },
  {
   "cell_type": "markdown",
   "id": "15931dd9",
   "metadata": {},
   "source": [
    "### From a dictionary\n",
    "\n",
    "Rather than build up the `Molecule` one method at a time, the [`Molecule.from_dict()`](openff.toolkit.topology.Molecule.from_dict) method can construct a `Molecule` in one shot from a Python `dict` that describes the molecule in question. This allows `Molecule` objects to be written to and read from disk in any format that can be interpreted as a `dict`; this mechanism underlies the [`from_bson()`](openff.toolkit.topology.Molecule.from_bson), [`from_json()`](openff.toolkit.topology.Molecule.from_json), [`from_messagepack()`](openff.toolkit.topology.Molecule.from_messagepack), [`from_pickle()`](openff.toolkit.topology.Molecule.from_pickle), [`from_toml()`](openff.toolkit.topology.Molecule.from_toml), [`from_xml()`](openff.toolkit.topology.Molecule.from_xml), and [`from_yaml()`](openff.toolkit.topology.Molecule.from_yaml) methods.\n",
    "\n",
    "This format can get very verbose, as it is intended for serialization, so this example uses hydrogen cyanide rather than alanine."
   ]
  },
  {
   "cell_type": "code",
   "execution_count": 8,
   "id": "dc756a7f",
   "metadata": {},
   "outputs": [
    {
     "data": {
      "image/svg+xml": [
       "<svg xmlns=\"http://www.w3.org/2000/svg\" xmlns:rdkit=\"http://www.rdkit.org/xml\" xmlns:xlink=\"http://www.w3.org/1999/xlink\" version=\"1.1\" baseProfile=\"full\" xml:space=\"preserve\" width=\"500px\" height=\"300px\" viewBox=\"0 0 500 300\">\n",
       "<!-- END OF HEADER -->\n",
       "<rect style=\"opacity:1.0;fill:#FFFFFF;stroke:none\" width=\"500.0\" height=\"300.0\" x=\"0.0\" y=\"0.0\"> </rect>\n",
       "<path class=\"bond-0 atom-0 atom-1\" d=\"M 100.7,236.1 L 250.2,150.5\" style=\"fill:none;fill-rule:evenodd;stroke:#000000;stroke-width:2.0px;stroke-linecap:butt;stroke-linejoin:miter;stroke-opacity:1\"/>\n",
       "<path class=\"bond-1 atom-1 atom-2\" d=\"M 250.2,150.5 L 325.1,107.7\" style=\"fill:none;fill-rule:evenodd;stroke:#000000;stroke-width:2.0px;stroke-linecap:butt;stroke-linejoin:miter;stroke-opacity:1\"/>\n",
       "<path class=\"bond-1 atom-1 atom-2\" d=\"M 325.1,107.7 L 399.9,64.8\" style=\"fill:none;fill-rule:evenodd;stroke:#0000FF;stroke-width:2.0px;stroke-linecap:butt;stroke-linejoin:miter;stroke-opacity:1\"/>\n",
       "<path class=\"bond-1 atom-1 atom-2\" d=\"M 235.8,125.5 L 310.7,82.6\" style=\"fill:none;fill-rule:evenodd;stroke:#000000;stroke-width:2.0px;stroke-linecap:butt;stroke-linejoin:miter;stroke-opacity:1\"/>\n",
       "<path class=\"bond-1 atom-1 atom-2\" d=\"M 310.7,82.6 L 385.6,39.8\" style=\"fill:none;fill-rule:evenodd;stroke:#0000FF;stroke-width:2.0px;stroke-linecap:butt;stroke-linejoin:miter;stroke-opacity:1\"/>\n",
       "<path class=\"bond-1 atom-1 atom-2\" d=\"M 264.5,175.6 L 339.4,132.7\" style=\"fill:none;fill-rule:evenodd;stroke:#000000;stroke-width:2.0px;stroke-linecap:butt;stroke-linejoin:miter;stroke-opacity:1\"/>\n",
       "<path class=\"bond-1 atom-1 atom-2\" d=\"M 339.4,132.7 L 414.3,89.8\" style=\"fill:none;fill-rule:evenodd;stroke:#0000FF;stroke-width:2.0px;stroke-linecap:butt;stroke-linejoin:miter;stroke-opacity:1\"/>\n",
       "<path d=\"M 242.7,154.8 L 250.2,150.5 L 253.9,148.4\" style=\"fill:none;stroke:#000000;stroke-width:2.0px;stroke-linecap:butt;stroke-linejoin:miter;stroke-opacity:1;\"/>\n",
       "<path class=\"atom-0\" d=\"M 72.2 231.9 L 76.1 231.9 L 76.1 243.9 L 90.6 243.9 L 90.6 231.9 L 94.4 231.9 L 94.4 260.2 L 90.6 260.2 L 90.6 247.1 L 76.1 247.1 L 76.1 260.2 L 72.2 260.2 L 72.2 231.9 \" fill=\"#000000\"/>\n",
       "<path class=\"atom-2\" d=\"M 410.8 40.9 L 420.0 55.9 Q 421.0 57.3, 422.4 60.0 Q 423.9 62.7, 424.0 62.9 L 424.0 40.9 L 427.8 40.9 L 427.8 69.2 L 423.9 69.2 L 413.9 52.8 Q 412.8 50.9, 411.5 48.7 Q 410.3 46.5, 410.0 45.8 L 410.0 69.2 L 406.3 69.2 L 406.3 40.9 L 410.8 40.9 \" fill=\"#0000FF\"/>\n",
       "</svg>"
      ],
      "text/plain": [
       "<IPython.core.display.SVG object>"
      ]
     },
     "execution_count": 8,
     "metadata": {},
     "output_type": "execute_result"
    }
   ],
   "source": [
    "molecule_dict = {\n",
    "    \"name\": \"\",\n",
    "    \"atoms\": [\n",
    "        {\n",
    "            \"atomic_number\": 1,\n",
    "            \"formal_charge\": 0,\n",
    "            \"is_aromatic\": False,\n",
    "            \"stereochemistry\": None,\n",
    "            \"name\": \"H\",\n",
    "        },\n",
    "        {\n",
    "            \"atomic_number\": 6,\n",
    "            \"formal_charge\": 0,\n",
    "            \"is_aromatic\": False,\n",
    "            \"stereochemistry\": None,\n",
    "            \"name\": \"C\",\n",
    "        },\n",
    "        {\n",
    "            \"atomic_number\": 7,\n",
    "            \"formal_charge\": 0,\n",
    "            \"is_aromatic\": False,\n",
    "            \"stereochemistry\": None,\n",
    "            \"name\": \"N\",\n",
    "        },\n",
    "    ],\n",
    "    \"virtual_sites\": [],\n",
    "    \"bonds\": [\n",
    "        {\n",
    "            \"atom1\": 0,\n",
    "            \"atom2\": 1,\n",
    "            \"bond_order\": 1,\n",
    "            \"is_aromatic\": False,\n",
    "            \"stereochemistry\": None,\n",
    "            \"fractional_bond_order\": None,\n",
    "        },\n",
    "        {\n",
    "            \"atom1\": 1,\n",
    "            \"atom2\": 2,\n",
    "            \"bond_order\": 3,\n",
    "            \"is_aromatic\": False,\n",
    "            \"stereochemistry\": None,\n",
    "            \"fractional_bond_order\": None,\n",
    "        },\n",
    "    ],\n",
    "    \"properties\": {},\n",
    "    \"conformers\": None,\n",
    "    \"partial_charges\": None,\n",
    "    \"partial_charges_unit\": None,\n",
    "    \"hierarchy_schemes\": {},\n",
    "}\n",
    "\n",
    "from_dictionary = Molecule.from_dict(molecule_dict)\n",
    "\n",
    "from_dictionary.visualize()"
   ]
  },
  {
   "cell_type": "markdown",
   "id": "1b50a800",
   "metadata": {},
   "source": [
    "## From a file\n",
    "\n",
    "We can construct a `Molecule` from a file or file-like object with the [`from_file()`](openff.toolkit.topology.Molecule.from_file) method. We're a bit constrained in what file formats we can accept, because they need to provide all the information needed to construct the molecular graph; not just coordinates, but also elements, formal charges, bond orders, and stereochemistry."
   ]
  },
  {
   "cell_type": "markdown",
   "id": "79aec960",
   "metadata": {},
   "source": [
    "### From SDF file\n",
    "\n",
    "We generally recommend the SDF format. The SDF file used here can be found [on GitHub](https://github.com/openforcefield/openff-toolkit/blob/main/docs/users/zw_l_alanine.sdf)"
   ]
  },
  {
   "cell_type": "code",
   "execution_count": 9,
   "id": "a78e4e0f",
   "metadata": {},
   "outputs": [
    {
     "data": {
      "image/svg+xml": [
       "<svg xmlns=\"http://www.w3.org/2000/svg\" xmlns:rdkit=\"http://www.rdkit.org/xml\" xmlns:xlink=\"http://www.w3.org/1999/xlink\" version=\"1.1\" baseProfile=\"full\" xml:space=\"preserve\" width=\"500px\" height=\"300px\" viewBox=\"0 0 500 300\">\n",
       "<!-- END OF HEADER -->\n",
       "<rect style=\"opacity:1.0;fill:#FFFFFF;stroke:none\" width=\"500.0\" height=\"300.0\" x=\"0.0\" y=\"0.0\"> </rect>\n",
       "<path class=\"bond-0 atom-0 atom-1\" d=\"M 276.5,80.1 L 256.1,148.4\" style=\"fill:none;fill-rule:evenodd;stroke:#000000;stroke-width:2.0px;stroke-linecap:butt;stroke-linejoin:miter;stroke-opacity:1\"/>\n",
       "<path class=\"bond-1 atom-1 atom-2\" d=\"M 256.1,148.4 L 235.3,166.5\" style=\"fill:none;fill-rule:evenodd;stroke:#000000;stroke-width:2.0px;stroke-linecap:butt;stroke-linejoin:miter;stroke-opacity:1\"/>\n",
       "<path class=\"bond-1 atom-1 atom-2\" d=\"M 235.3,166.5 L 214.5,184.6\" style=\"fill:none;fill-rule:evenodd;stroke:#0000FF;stroke-width:2.0px;stroke-linecap:butt;stroke-linejoin:miter;stroke-opacity:1\"/>\n",
       "<path class=\"bond-2 atom-1 atom-3\" d=\"M 256.1,148.4 L 302.8,200.7\" style=\"fill:none;fill-rule:evenodd;stroke:#000000;stroke-width:2.0px;stroke-linecap:butt;stroke-linejoin:miter;stroke-opacity:1\"/>\n",
       "<path class=\"bond-3 atom-3 atom-4\" d=\"M 302.8,200.7 L 294.2,226.3\" style=\"fill:none;fill-rule:evenodd;stroke:#000000;stroke-width:2.0px;stroke-linecap:butt;stroke-linejoin:miter;stroke-opacity:1\"/>\n",
       "<path class=\"bond-3 atom-3 atom-4\" d=\"M 294.2,226.3 L 285.6,251.8\" style=\"fill:none;fill-rule:evenodd;stroke:#FF0000;stroke-width:2.0px;stroke-linecap:butt;stroke-linejoin:miter;stroke-opacity:1\"/>\n",
       "<path class=\"bond-4 atom-3 atom-5\" d=\"M 300.8,206.6 L 329.5,200.6\" style=\"fill:none;fill-rule:evenodd;stroke:#000000;stroke-width:2.0px;stroke-linecap:butt;stroke-linejoin:miter;stroke-opacity:1\"/>\n",
       "<path class=\"bond-4 atom-3 atom-5\" d=\"M 329.5,200.6 L 358.2,194.6\" style=\"fill:none;fill-rule:evenodd;stroke:#FF0000;stroke-width:2.0px;stroke-linecap:butt;stroke-linejoin:miter;stroke-opacity:1\"/>\n",
       "<path class=\"bond-4 atom-3 atom-5\" d=\"M 298.7,196.1 L 327.3,190.1\" style=\"fill:none;fill-rule:evenodd;stroke:#000000;stroke-width:2.0px;stroke-linecap:butt;stroke-linejoin:miter;stroke-opacity:1\"/>\n",
       "<path class=\"bond-4 atom-3 atom-5\" d=\"M 327.3,190.1 L 356.0,184.1\" style=\"fill:none;fill-rule:evenodd;stroke:#FF0000;stroke-width:2.0px;stroke-linecap:butt;stroke-linejoin:miter;stroke-opacity:1\"/>\n",
       "<path class=\"bond-5 atom-0 atom-6\" d=\"M 276.5,80.1 L 331.6,94.8\" style=\"fill:none;fill-rule:evenodd;stroke:#000000;stroke-width:2.0px;stroke-linecap:butt;stroke-linejoin:miter;stroke-opacity:1\"/>\n",
       "<path class=\"bond-6 atom-0 atom-7\" d=\"M 276.5,80.1 L 312.5,42.8\" style=\"fill:none;fill-rule:evenodd;stroke:#000000;stroke-width:2.0px;stroke-linecap:butt;stroke-linejoin:miter;stroke-opacity:1\"/>\n",
       "<path class=\"bond-7 atom-0 atom-8\" d=\"M 276.5,80.1 L 238.5,42.7\" style=\"fill:none;fill-rule:evenodd;stroke:#000000;stroke-width:2.0px;stroke-linecap:butt;stroke-linejoin:miter;stroke-opacity:1\"/>\n",
       "<path class=\"bond-8 atom-1 atom-9\" d=\"M 252.7,147.4 L 253.0,146.6\" style=\"fill:none;fill-rule:evenodd;stroke:#000000;stroke-width:1.0px;stroke-linecap:butt;stroke-linejoin:miter;stroke-opacity:1\"/>\n",
       "<path class=\"bond-8 atom-1 atom-9\" d=\"M 249.3,146.3 L 250.0,144.8\" style=\"fill:none;fill-rule:evenodd;stroke:#000000;stroke-width:1.0px;stroke-linecap:butt;stroke-linejoin:miter;stroke-opacity:1\"/>\n",
       "<path class=\"bond-8 atom-1 atom-9\" d=\"M 245.9,145.3 L 246.9,143.0\" style=\"fill:none;fill-rule:evenodd;stroke:#000000;stroke-width:1.0px;stroke-linecap:butt;stroke-linejoin:miter;stroke-opacity:1\"/>\n",
       "<path class=\"bond-8 atom-1 atom-9\" d=\"M 242.5,144.3 L 243.9,141.2\" style=\"fill:none;fill-rule:evenodd;stroke:#000000;stroke-width:1.0px;stroke-linecap:butt;stroke-linejoin:miter;stroke-opacity:1\"/>\n",
       "<path class=\"bond-8 atom-1 atom-9\" d=\"M 239.2,143.2 L 240.8,139.4\" style=\"fill:none;fill-rule:evenodd;stroke:#000000;stroke-width:1.0px;stroke-linecap:butt;stroke-linejoin:miter;stroke-opacity:1\"/>\n",
       "<path class=\"bond-8 atom-1 atom-9\" d=\"M 235.8,142.2 L 237.8,137.7\" style=\"fill:none;fill-rule:evenodd;stroke:#000000;stroke-width:1.0px;stroke-linecap:butt;stroke-linejoin:miter;stroke-opacity:1\"/>\n",
       "<path class=\"bond-8 atom-1 atom-9\" d=\"M 232.4,141.1 L 234.7,135.9\" style=\"fill:none;fill-rule:evenodd;stroke:#000000;stroke-width:1.0px;stroke-linecap:butt;stroke-linejoin:miter;stroke-opacity:1\"/>\n",
       "<path class=\"bond-8 atom-1 atom-9\" d=\"M 229.0,140.1 L 231.6,134.1\" style=\"fill:none;fill-rule:evenodd;stroke:#000000;stroke-width:1.0px;stroke-linecap:butt;stroke-linejoin:miter;stroke-opacity:1\"/>\n",
       "<path class=\"bond-8 atom-1 atom-9\" d=\"M 225.6,139.1 L 228.6,132.3\" style=\"fill:none;fill-rule:evenodd;stroke:#000000;stroke-width:1.0px;stroke-linecap:butt;stroke-linejoin:miter;stroke-opacity:1\"/>\n",
       "<path class=\"bond-8 atom-1 atom-9\" d=\"M 222.2,138.0 L 225.5,130.5\" style=\"fill:none;fill-rule:evenodd;stroke:#000000;stroke-width:1.0px;stroke-linecap:butt;stroke-linejoin:miter;stroke-opacity:1\"/>\n",
       "<path class=\"bond-8 atom-1 atom-9\" d=\"M 218.8,137.0 L 222.5,128.7\" style=\"fill:none;fill-rule:evenodd;stroke:#000000;stroke-width:1.0px;stroke-linecap:butt;stroke-linejoin:miter;stroke-opacity:1\"/>\n",
       "<path class=\"bond-8 atom-1 atom-9\" d=\"M 215.5,135.9 L 219.4,126.9\" style=\"fill:none;fill-rule:evenodd;stroke:#000000;stroke-width:1.0px;stroke-linecap:butt;stroke-linejoin:miter;stroke-opacity:1\"/>\n",
       "<path class=\"bond-8 atom-1 atom-9\" d=\"M 212.1,134.9 L 216.4,125.1\" style=\"fill:none;fill-rule:evenodd;stroke:#000000;stroke-width:1.0px;stroke-linecap:butt;stroke-linejoin:miter;stroke-opacity:1\"/>\n",
       "<path class=\"bond-9 atom-2 atom-10\" d=\"M 182.3,188.1 L 170.2,176.0\" style=\"fill:none;fill-rule:evenodd;stroke:#0000FF;stroke-width:2.0px;stroke-linecap:butt;stroke-linejoin:miter;stroke-opacity:1\"/>\n",
       "<path class=\"bond-9 atom-2 atom-10\" d=\"M 170.2,176.0 L 158.2,163.9\" style=\"fill:none;fill-rule:evenodd;stroke:#000000;stroke-width:2.0px;stroke-linecap:butt;stroke-linejoin:miter;stroke-opacity:1\"/>\n",
       "<path class=\"bond-10 atom-2 atom-11\" d=\"M 182.3,204.3 L 160.7,209.2\" style=\"fill:none;fill-rule:evenodd;stroke:#0000FF;stroke-width:2.0px;stroke-linecap:butt;stroke-linejoin:miter;stroke-opacity:1\"/>\n",
       "<path class=\"bond-10 atom-2 atom-11\" d=\"M 160.7,209.2 L 139.1,214.2\" style=\"fill:none;fill-rule:evenodd;stroke:#000000;stroke-width:2.0px;stroke-linecap:butt;stroke-linejoin:miter;stroke-opacity:1\"/>\n",
       "<path class=\"bond-11 atom-2 atom-12\" d=\"M 198.8,217.8 L 202.6,236.2\" style=\"fill:none;fill-rule:evenodd;stroke:#0000FF;stroke-width:2.0px;stroke-linecap:butt;stroke-linejoin:miter;stroke-opacity:1\"/>\n",
       "<path class=\"bond-11 atom-2 atom-12\" d=\"M 202.6,236.2 L 206.5,254.6\" style=\"fill:none;fill-rule:evenodd;stroke:#000000;stroke-width:2.0px;stroke-linecap:butt;stroke-linejoin:miter;stroke-opacity:1\"/>\n",
       "<path d=\"M 300.4,198.1 L 302.8,200.7 L 302.3,202.0\" style=\"fill:none;stroke:#000000;stroke-width:2.0px;stroke-linecap:butt;stroke-linejoin:miter;stroke-opacity:1;\"/>\n",
       "<path class=\"atom-2\" d=\"M 189.1 187.1 L 198.4 202.1 Q 199.3 203.6, 200.8 206.2 Q 202.3 208.9, 202.4 209.1 L 202.4 187.1 L 206.1 187.1 L 206.1 215.4 L 202.2 215.4 L 192.3 199.0 Q 191.1 197.1, 189.9 194.9 Q 188.7 192.7, 188.3 192.0 L 188.3 215.4 L 184.6 215.4 L 184.6 187.1 L 189.1 187.1 \" fill=\"#0000FF\"/>\n",
       "<path class=\"atom-2\" d=\"M 211.4 192.2 L 216.4 192.2 L 216.4 186.9 L 218.6 186.9 L 218.6 192.2 L 223.8 192.2 L 223.8 194.1 L 218.6 194.1 L 218.6 199.4 L 216.4 199.4 L 216.4 194.1 L 211.4 194.1 L 211.4 192.2 \" fill=\"#0000FF\"/>\n",
       "<path class=\"atom-4\" d=\"M 267.0 268.5 Q 267.0 261.7, 270.4 257.9 Q 273.7 254.1, 280.0 254.1 Q 286.3 254.1, 289.6 257.9 Q 293.0 261.7, 293.0 268.5 Q 293.0 275.4, 289.6 279.3 Q 286.2 283.2, 280.0 283.2 Q 273.8 283.2, 270.4 279.3 Q 267.0 275.4, 267.0 268.5 M 280.0 280.0 Q 284.3 280.0, 286.6 277.1 Q 289.0 274.2, 289.0 268.5 Q 289.0 263.0, 286.6 260.2 Q 284.3 257.3, 280.0 257.3 Q 275.7 257.3, 273.3 260.1 Q 271.0 262.9, 271.0 268.5 Q 271.0 274.2, 273.3 277.1 Q 275.7 280.0, 280.0 280.0 \" fill=\"#FF0000\"/>\n",
       "<path class=\"atom-4\" d=\"M 297.0 258.7 L 306.7 258.7 L 306.7 260.8 L 297.0 260.8 L 297.0 258.7 \" fill=\"#FF0000\"/>\n",
       "<path class=\"atom-5\" d=\"M 359.5 186.3 Q 359.5 179.5, 362.8 175.7 Q 366.2 171.9, 372.5 171.9 Q 378.7 171.9, 382.1 175.7 Q 385.5 179.5, 385.5 186.3 Q 385.5 193.1, 382.1 197.1 Q 378.7 200.9, 372.5 200.9 Q 366.2 200.9, 362.8 197.1 Q 359.5 193.2, 359.5 186.3 M 372.5 197.7 Q 376.8 197.7, 379.1 194.9 Q 381.5 191.9, 381.5 186.3 Q 381.5 180.7, 379.1 177.9 Q 376.8 175.1, 372.5 175.1 Q 368.1 175.1, 365.8 177.9 Q 363.5 180.7, 363.5 186.3 Q 363.5 192.0, 365.8 194.9 Q 368.1 197.7, 372.5 197.7 \" fill=\"#FF0000\"/>\n",
       "<path class=\"atom-6\" d=\"M 334.0 84.2 L 337.8 84.2 L 337.8 96.2 L 352.3 96.2 L 352.3 84.2 L 356.1 84.2 L 356.1 112.5 L 352.3 112.5 L 352.3 99.4 L 337.8 99.4 L 337.8 112.5 L 334.0 112.5 L 334.0 84.2 \" fill=\"#000000\"/>\n",
       "<path class=\"atom-7\" d=\"M 314.9 14.7 L 318.7 14.7 L 318.7 26.7 L 333.2 26.7 L 333.2 14.7 L 337.0 14.7 L 337.0 43.0 L 333.2 43.0 L 333.2 29.9 L 318.7 29.9 L 318.7 43.0 L 314.9 43.0 L 314.9 14.7 \" fill=\"#000000\"/>\n",
       "<path class=\"atom-8\" d=\"M 214.0 15.3 L 217.8 15.3 L 217.8 27.3 L 232.3 27.3 L 232.3 15.3 L 236.2 15.3 L 236.2 43.6 L 232.3 43.6 L 232.3 30.5 L 217.8 30.5 L 217.8 43.6 L 214.0 43.6 L 214.0 15.3 \" fill=\"#000000\"/>\n",
       "<path class=\"atom-9\" d=\"M 187.4 108.9 L 191.2 108.9 L 191.2 120.9 L 205.7 120.9 L 205.7 108.9 L 209.5 108.9 L 209.5 137.2 L 205.7 137.2 L 205.7 124.1 L 191.2 124.1 L 191.2 137.2 L 187.4 137.2 L 187.4 108.9 \" fill=\"#000000\"/>\n",
       "<path class=\"atom-10\" d=\"M 133.7 136.2 L 137.5 136.2 L 137.5 148.3 L 152.0 148.3 L 152.0 136.2 L 155.8 136.2 L 155.8 164.5 L 152.0 164.5 L 152.0 151.5 L 137.5 151.5 L 137.5 164.5 L 133.7 164.5 L 133.7 136.2 \" fill=\"#000000\"/>\n",
       "<path class=\"atom-11\" d=\"M 114.5 203.1 L 118.4 203.1 L 118.4 215.1 L 132.9 215.1 L 132.9 203.1 L 136.7 203.1 L 136.7 231.4 L 132.9 231.4 L 132.9 218.3 L 118.4 218.3 L 118.4 231.4 L 114.5 231.4 L 114.5 203.1 \" fill=\"#000000\"/>\n",
       "<path class=\"atom-12\" d=\"M 198.8 257.0 L 202.7 257.0 L 202.7 269.0 L 217.2 269.0 L 217.2 257.0 L 221.0 257.0 L 221.0 285.3 L 217.2 285.3 L 217.2 272.2 L 202.7 272.2 L 202.7 285.3 L 198.8 285.3 L 198.8 257.0 \" fill=\"#000000\"/>\n",
       "</svg>"
      ],
      "text/plain": [
       "<IPython.core.display.SVG object>"
      ]
     },
     "execution_count": 9,
     "metadata": {},
     "output_type": "execute_result"
    }
   ],
   "source": [
    "sdf_path = Molecule.from_file(\"zw_l_alanine.sdf\")\n",
    "assert zw_l_alanine.is_isomorphic_with(sdf_path)\n",
    "sdf_path.visualize()"
   ]
  },
  {
   "cell_type": "markdown",
   "id": "3508a6ed",
   "metadata": {},
   "source": [
    "### From SDF file object\n",
    "\n",
    "`from_file()` can also take a file object, rather than a path. Note that the object must be in binary mode!"
   ]
  },
  {
   "cell_type": "code",
   "execution_count": 10,
   "id": "1cecd71c",
   "metadata": {},
   "outputs": [
    {
     "data": {
      "image/svg+xml": [
       "<svg xmlns=\"http://www.w3.org/2000/svg\" xmlns:rdkit=\"http://www.rdkit.org/xml\" xmlns:xlink=\"http://www.w3.org/1999/xlink\" version=\"1.1\" baseProfile=\"full\" xml:space=\"preserve\" width=\"500px\" height=\"300px\" viewBox=\"0 0 500 300\">\n",
       "<!-- END OF HEADER -->\n",
       "<rect style=\"opacity:1.0;fill:#FFFFFF;stroke:none\" width=\"500.0\" height=\"300.0\" x=\"0.0\" y=\"0.0\"> </rect>\n",
       "<path class=\"bond-0 atom-0 atom-1\" d=\"M 276.5,80.1 L 256.1,148.4\" style=\"fill:none;fill-rule:evenodd;stroke:#000000;stroke-width:2.0px;stroke-linecap:butt;stroke-linejoin:miter;stroke-opacity:1\"/>\n",
       "<path class=\"bond-1 atom-1 atom-2\" d=\"M 256.1,148.4 L 235.3,166.5\" style=\"fill:none;fill-rule:evenodd;stroke:#000000;stroke-width:2.0px;stroke-linecap:butt;stroke-linejoin:miter;stroke-opacity:1\"/>\n",
       "<path class=\"bond-1 atom-1 atom-2\" d=\"M 235.3,166.5 L 214.5,184.6\" style=\"fill:none;fill-rule:evenodd;stroke:#0000FF;stroke-width:2.0px;stroke-linecap:butt;stroke-linejoin:miter;stroke-opacity:1\"/>\n",
       "<path class=\"bond-2 atom-1 atom-3\" d=\"M 256.1,148.4 L 302.8,200.7\" style=\"fill:none;fill-rule:evenodd;stroke:#000000;stroke-width:2.0px;stroke-linecap:butt;stroke-linejoin:miter;stroke-opacity:1\"/>\n",
       "<path class=\"bond-3 atom-3 atom-4\" d=\"M 302.8,200.7 L 294.2,226.3\" style=\"fill:none;fill-rule:evenodd;stroke:#000000;stroke-width:2.0px;stroke-linecap:butt;stroke-linejoin:miter;stroke-opacity:1\"/>\n",
       "<path class=\"bond-3 atom-3 atom-4\" d=\"M 294.2,226.3 L 285.6,251.8\" style=\"fill:none;fill-rule:evenodd;stroke:#FF0000;stroke-width:2.0px;stroke-linecap:butt;stroke-linejoin:miter;stroke-opacity:1\"/>\n",
       "<path class=\"bond-4 atom-3 atom-5\" d=\"M 300.8,206.6 L 329.5,200.6\" style=\"fill:none;fill-rule:evenodd;stroke:#000000;stroke-width:2.0px;stroke-linecap:butt;stroke-linejoin:miter;stroke-opacity:1\"/>\n",
       "<path class=\"bond-4 atom-3 atom-5\" d=\"M 329.5,200.6 L 358.2,194.6\" style=\"fill:none;fill-rule:evenodd;stroke:#FF0000;stroke-width:2.0px;stroke-linecap:butt;stroke-linejoin:miter;stroke-opacity:1\"/>\n",
       "<path class=\"bond-4 atom-3 atom-5\" d=\"M 298.7,196.1 L 327.3,190.1\" style=\"fill:none;fill-rule:evenodd;stroke:#000000;stroke-width:2.0px;stroke-linecap:butt;stroke-linejoin:miter;stroke-opacity:1\"/>\n",
       "<path class=\"bond-4 atom-3 atom-5\" d=\"M 327.3,190.1 L 356.0,184.1\" style=\"fill:none;fill-rule:evenodd;stroke:#FF0000;stroke-width:2.0px;stroke-linecap:butt;stroke-linejoin:miter;stroke-opacity:1\"/>\n",
       "<path class=\"bond-5 atom-0 atom-6\" d=\"M 276.5,80.1 L 331.6,94.8\" style=\"fill:none;fill-rule:evenodd;stroke:#000000;stroke-width:2.0px;stroke-linecap:butt;stroke-linejoin:miter;stroke-opacity:1\"/>\n",
       "<path class=\"bond-6 atom-0 atom-7\" d=\"M 276.5,80.1 L 312.5,42.8\" style=\"fill:none;fill-rule:evenodd;stroke:#000000;stroke-width:2.0px;stroke-linecap:butt;stroke-linejoin:miter;stroke-opacity:1\"/>\n",
       "<path class=\"bond-7 atom-0 atom-8\" d=\"M 276.5,80.1 L 238.5,42.7\" style=\"fill:none;fill-rule:evenodd;stroke:#000000;stroke-width:2.0px;stroke-linecap:butt;stroke-linejoin:miter;stroke-opacity:1\"/>\n",
       "<path class=\"bond-8 atom-1 atom-9\" d=\"M 252.7,147.4 L 253.0,146.6\" style=\"fill:none;fill-rule:evenodd;stroke:#000000;stroke-width:1.0px;stroke-linecap:butt;stroke-linejoin:miter;stroke-opacity:1\"/>\n",
       "<path class=\"bond-8 atom-1 atom-9\" d=\"M 249.3,146.3 L 250.0,144.8\" style=\"fill:none;fill-rule:evenodd;stroke:#000000;stroke-width:1.0px;stroke-linecap:butt;stroke-linejoin:miter;stroke-opacity:1\"/>\n",
       "<path class=\"bond-8 atom-1 atom-9\" d=\"M 245.9,145.3 L 246.9,143.0\" style=\"fill:none;fill-rule:evenodd;stroke:#000000;stroke-width:1.0px;stroke-linecap:butt;stroke-linejoin:miter;stroke-opacity:1\"/>\n",
       "<path class=\"bond-8 atom-1 atom-9\" d=\"M 242.5,144.3 L 243.9,141.2\" style=\"fill:none;fill-rule:evenodd;stroke:#000000;stroke-width:1.0px;stroke-linecap:butt;stroke-linejoin:miter;stroke-opacity:1\"/>\n",
       "<path class=\"bond-8 atom-1 atom-9\" d=\"M 239.2,143.2 L 240.8,139.4\" style=\"fill:none;fill-rule:evenodd;stroke:#000000;stroke-width:1.0px;stroke-linecap:butt;stroke-linejoin:miter;stroke-opacity:1\"/>\n",
       "<path class=\"bond-8 atom-1 atom-9\" d=\"M 235.8,142.2 L 237.8,137.7\" style=\"fill:none;fill-rule:evenodd;stroke:#000000;stroke-width:1.0px;stroke-linecap:butt;stroke-linejoin:miter;stroke-opacity:1\"/>\n",
       "<path class=\"bond-8 atom-1 atom-9\" d=\"M 232.4,141.1 L 234.7,135.9\" style=\"fill:none;fill-rule:evenodd;stroke:#000000;stroke-width:1.0px;stroke-linecap:butt;stroke-linejoin:miter;stroke-opacity:1\"/>\n",
       "<path class=\"bond-8 atom-1 atom-9\" d=\"M 229.0,140.1 L 231.6,134.1\" style=\"fill:none;fill-rule:evenodd;stroke:#000000;stroke-width:1.0px;stroke-linecap:butt;stroke-linejoin:miter;stroke-opacity:1\"/>\n",
       "<path class=\"bond-8 atom-1 atom-9\" d=\"M 225.6,139.1 L 228.6,132.3\" style=\"fill:none;fill-rule:evenodd;stroke:#000000;stroke-width:1.0px;stroke-linecap:butt;stroke-linejoin:miter;stroke-opacity:1\"/>\n",
       "<path class=\"bond-8 atom-1 atom-9\" d=\"M 222.2,138.0 L 225.5,130.5\" style=\"fill:none;fill-rule:evenodd;stroke:#000000;stroke-width:1.0px;stroke-linecap:butt;stroke-linejoin:miter;stroke-opacity:1\"/>\n",
       "<path class=\"bond-8 atom-1 atom-9\" d=\"M 218.8,137.0 L 222.5,128.7\" style=\"fill:none;fill-rule:evenodd;stroke:#000000;stroke-width:1.0px;stroke-linecap:butt;stroke-linejoin:miter;stroke-opacity:1\"/>\n",
       "<path class=\"bond-8 atom-1 atom-9\" d=\"M 215.5,135.9 L 219.4,126.9\" style=\"fill:none;fill-rule:evenodd;stroke:#000000;stroke-width:1.0px;stroke-linecap:butt;stroke-linejoin:miter;stroke-opacity:1\"/>\n",
       "<path class=\"bond-8 atom-1 atom-9\" d=\"M 212.1,134.9 L 216.4,125.1\" style=\"fill:none;fill-rule:evenodd;stroke:#000000;stroke-width:1.0px;stroke-linecap:butt;stroke-linejoin:miter;stroke-opacity:1\"/>\n",
       "<path class=\"bond-9 atom-2 atom-10\" d=\"M 182.3,188.1 L 170.2,176.0\" style=\"fill:none;fill-rule:evenodd;stroke:#0000FF;stroke-width:2.0px;stroke-linecap:butt;stroke-linejoin:miter;stroke-opacity:1\"/>\n",
       "<path class=\"bond-9 atom-2 atom-10\" d=\"M 170.2,176.0 L 158.2,163.9\" style=\"fill:none;fill-rule:evenodd;stroke:#000000;stroke-width:2.0px;stroke-linecap:butt;stroke-linejoin:miter;stroke-opacity:1\"/>\n",
       "<path class=\"bond-10 atom-2 atom-11\" d=\"M 182.3,204.3 L 160.7,209.2\" style=\"fill:none;fill-rule:evenodd;stroke:#0000FF;stroke-width:2.0px;stroke-linecap:butt;stroke-linejoin:miter;stroke-opacity:1\"/>\n",
       "<path class=\"bond-10 atom-2 atom-11\" d=\"M 160.7,209.2 L 139.1,214.2\" style=\"fill:none;fill-rule:evenodd;stroke:#000000;stroke-width:2.0px;stroke-linecap:butt;stroke-linejoin:miter;stroke-opacity:1\"/>\n",
       "<path class=\"bond-11 atom-2 atom-12\" d=\"M 198.8,217.8 L 202.6,236.2\" style=\"fill:none;fill-rule:evenodd;stroke:#0000FF;stroke-width:2.0px;stroke-linecap:butt;stroke-linejoin:miter;stroke-opacity:1\"/>\n",
       "<path class=\"bond-11 atom-2 atom-12\" d=\"M 202.6,236.2 L 206.5,254.6\" style=\"fill:none;fill-rule:evenodd;stroke:#000000;stroke-width:2.0px;stroke-linecap:butt;stroke-linejoin:miter;stroke-opacity:1\"/>\n",
       "<path d=\"M 300.4,198.1 L 302.8,200.7 L 302.3,202.0\" style=\"fill:none;stroke:#000000;stroke-width:2.0px;stroke-linecap:butt;stroke-linejoin:miter;stroke-opacity:1;\"/>\n",
       "<path class=\"atom-2\" d=\"M 189.1 187.1 L 198.4 202.1 Q 199.3 203.6, 200.8 206.2 Q 202.3 208.9, 202.4 209.1 L 202.4 187.1 L 206.1 187.1 L 206.1 215.4 L 202.2 215.4 L 192.3 199.0 Q 191.1 197.1, 189.9 194.9 Q 188.7 192.7, 188.3 192.0 L 188.3 215.4 L 184.6 215.4 L 184.6 187.1 L 189.1 187.1 \" fill=\"#0000FF\"/>\n",
       "<path class=\"atom-2\" d=\"M 211.4 192.2 L 216.4 192.2 L 216.4 186.9 L 218.6 186.9 L 218.6 192.2 L 223.8 192.2 L 223.8 194.1 L 218.6 194.1 L 218.6 199.4 L 216.4 199.4 L 216.4 194.1 L 211.4 194.1 L 211.4 192.2 \" fill=\"#0000FF\"/>\n",
       "<path class=\"atom-4\" d=\"M 267.0 268.5 Q 267.0 261.7, 270.4 257.9 Q 273.7 254.1, 280.0 254.1 Q 286.3 254.1, 289.6 257.9 Q 293.0 261.7, 293.0 268.5 Q 293.0 275.4, 289.6 279.3 Q 286.2 283.2, 280.0 283.2 Q 273.8 283.2, 270.4 279.3 Q 267.0 275.4, 267.0 268.5 M 280.0 280.0 Q 284.3 280.0, 286.6 277.1 Q 289.0 274.2, 289.0 268.5 Q 289.0 263.0, 286.6 260.2 Q 284.3 257.3, 280.0 257.3 Q 275.7 257.3, 273.3 260.1 Q 271.0 262.9, 271.0 268.5 Q 271.0 274.2, 273.3 277.1 Q 275.7 280.0, 280.0 280.0 \" fill=\"#FF0000\"/>\n",
       "<path class=\"atom-4\" d=\"M 297.0 258.7 L 306.7 258.7 L 306.7 260.8 L 297.0 260.8 L 297.0 258.7 \" fill=\"#FF0000\"/>\n",
       "<path class=\"atom-5\" d=\"M 359.5 186.3 Q 359.5 179.5, 362.8 175.7 Q 366.2 171.9, 372.5 171.9 Q 378.7 171.9, 382.1 175.7 Q 385.5 179.5, 385.5 186.3 Q 385.5 193.1, 382.1 197.1 Q 378.7 200.9, 372.5 200.9 Q 366.2 200.9, 362.8 197.1 Q 359.5 193.2, 359.5 186.3 M 372.5 197.7 Q 376.8 197.7, 379.1 194.9 Q 381.5 191.9, 381.5 186.3 Q 381.5 180.7, 379.1 177.9 Q 376.8 175.1, 372.5 175.1 Q 368.1 175.1, 365.8 177.9 Q 363.5 180.7, 363.5 186.3 Q 363.5 192.0, 365.8 194.9 Q 368.1 197.7, 372.5 197.7 \" fill=\"#FF0000\"/>\n",
       "<path class=\"atom-6\" d=\"M 334.0 84.2 L 337.8 84.2 L 337.8 96.2 L 352.3 96.2 L 352.3 84.2 L 356.1 84.2 L 356.1 112.5 L 352.3 112.5 L 352.3 99.4 L 337.8 99.4 L 337.8 112.5 L 334.0 112.5 L 334.0 84.2 \" fill=\"#000000\"/>\n",
       "<path class=\"atom-7\" d=\"M 314.9 14.7 L 318.7 14.7 L 318.7 26.7 L 333.2 26.7 L 333.2 14.7 L 337.0 14.7 L 337.0 43.0 L 333.2 43.0 L 333.2 29.9 L 318.7 29.9 L 318.7 43.0 L 314.9 43.0 L 314.9 14.7 \" fill=\"#000000\"/>\n",
       "<path class=\"atom-8\" d=\"M 214.0 15.3 L 217.8 15.3 L 217.8 27.3 L 232.3 27.3 L 232.3 15.3 L 236.2 15.3 L 236.2 43.6 L 232.3 43.6 L 232.3 30.5 L 217.8 30.5 L 217.8 43.6 L 214.0 43.6 L 214.0 15.3 \" fill=\"#000000\"/>\n",
       "<path class=\"atom-9\" d=\"M 187.4 108.9 L 191.2 108.9 L 191.2 120.9 L 205.7 120.9 L 205.7 108.9 L 209.5 108.9 L 209.5 137.2 L 205.7 137.2 L 205.7 124.1 L 191.2 124.1 L 191.2 137.2 L 187.4 137.2 L 187.4 108.9 \" fill=\"#000000\"/>\n",
       "<path class=\"atom-10\" d=\"M 133.7 136.2 L 137.5 136.2 L 137.5 148.3 L 152.0 148.3 L 152.0 136.2 L 155.8 136.2 L 155.8 164.5 L 152.0 164.5 L 152.0 151.5 L 137.5 151.5 L 137.5 164.5 L 133.7 164.5 L 133.7 136.2 \" fill=\"#000000\"/>\n",
       "<path class=\"atom-11\" d=\"M 114.5 203.1 L 118.4 203.1 L 118.4 215.1 L 132.9 215.1 L 132.9 203.1 L 136.7 203.1 L 136.7 231.4 L 132.9 231.4 L 132.9 218.3 L 118.4 218.3 L 118.4 231.4 L 114.5 231.4 L 114.5 203.1 \" fill=\"#000000\"/>\n",
       "<path class=\"atom-12\" d=\"M 198.8 257.0 L 202.7 257.0 L 202.7 269.0 L 217.2 269.0 L 217.2 257.0 L 221.0 257.0 L 221.0 285.3 L 217.2 285.3 L 217.2 272.2 L 202.7 272.2 L 202.7 285.3 L 198.8 285.3 L 198.8 257.0 \" fill=\"#000000\"/>\n",
       "</svg>"
      ],
      "text/plain": [
       "<IPython.core.display.SVG object>"
      ]
     },
     "execution_count": 10,
     "metadata": {},
     "output_type": "execute_result"
    }
   ],
   "source": [
    "with open(\"zw_l_alanine.sdf\", mode=\"rb\") as file:\n",
    "    sdf_object = Molecule.from_file(file, file_format=\"SDF\")\n",
    "    \n",
    "assert zw_l_alanine.is_isomorphic_with(sdf_object)\n",
    "sdf_object.visualize()"
   ]
  },
  {
   "cell_type": "markdown",
   "id": "2554b932",
   "metadata": {},
   "source": [
    "### From PDB file\n",
    "\n",
    "The [`Topology.from_pdb()`] method is now the recommended method for loading all PDB files. It can interpret proteins, waters, ions, and small molecules from a PDB file as a Topology. It can infer the full chemical graph of the canonical amino acids (26 including protonation states) in capped and uncapped forms. It does this according to the [RCSB chemical component dictionary] --- the information is not explicitly in the input PDB file. The following block loads a PDB file containing a single protein.\n",
    "\n",
    "[`Topology.from_pdb()`]: openff.toolkit.topology.Topology.from_pdb\n",
    "[RCSB chemical component dictionary]: https://www.wwpdb.org/data/ccd"
   ]
  },
  {
   "cell_type": "code",
   "execution_count": 11,
   "id": "4f9d71e7",
   "metadata": {},
   "outputs": [
    {
     "data": {
      "application/vnd.jupyter.widget-view+json": {
       "model_id": "84e71dd777764e41b85d999bad067d28",
       "version_major": 2,
       "version_minor": 0
      },
      "text/plain": []
     },
     "metadata": {},
     "output_type": "display_data"
    },
    {
     "data": {
      "application/vnd.jupyter.widget-view+json": {
       "model_id": "0ce701e10d174fbbbd87d6abf77c7bb5",
       "version_major": 2,
       "version_minor": 0
      },
      "text/plain": [
       "NGLWidget()"
      ]
     },
     "metadata": {},
     "output_type": "display_data"
    }
   ],
   "source": [
    "from openff.toolkit.utils import get_data_file_path\n",
    "\n",
    "path = get_data_file_path('proteins/T4-protein.pdb')\n",
    "topology = Topology.from_pdb(path)\n",
    "protein = topology.molecule(0)\n",
    "protein.visualize(\"nglview\")"
   ]
  },
  {
   "cell_type": "markdown",
   "id": "94d1e78f-8311-45b7-94c7-16242fa6865f",
   "metadata": {},
   "source": [
    "The following block loads a PDB containing two small molecules from PDB and SMILES."
   ]
  },
  {
   "cell_type": "code",
   "execution_count": 12,
   "id": "a6e68022-6568-4a7e-9d75-c14224079505",
   "metadata": {
    "tags": []
   },
   "outputs": [
    {
     "data": {
      "application/vnd.jupyter.widget-view+json": {
       "model_id": "1286a5986b814fc0bcf76c14afb59198",
       "version_major": 2,
       "version_minor": 0
      },
      "text/plain": [
       "NGLWidget()"
      ]
     },
     "metadata": {},
     "output_type": "display_data"
    }
   ],
   "source": [
    "top_from_pdb_from_smiles = Topology.from_pdb(\n",
    "    get_data_file_path(\"molecules/po4_phenylphosphate.pdb\"), \n",
    "    unique_molecules=[Molecule.from_smiles(\"P(=O)([O-])([O-])([O-])\"),\n",
    "                      Molecule.from_smiles(\"C1=CC=CC=C1OP(=O)([O-1])([O-1])\")]\n",
    ") \n",
    "\n",
    "top_from_pdb_from_smiles.molecule(0).visualize('nglview')"
   ]
  },
  {
   "cell_type": "code",
   "execution_count": 13,
   "id": "21bba613-57bb-4ea0-bf87-a4cd6f5c63d5",
   "metadata": {
    "tags": []
   },
   "outputs": [
    {
     "data": {
      "application/vnd.jupyter.widget-view+json": {
       "model_id": "fa60ef129ab642828dc7bc6e72e841dc",
       "version_major": 2,
       "version_minor": 0
      },
      "text/plain": [
       "NGLWidget()"
      ]
     },
     "metadata": {},
     "output_type": "display_data"
    }
   ],
   "source": [
    "top_from_pdb_from_smiles.molecule(1).visualize('nglview')"
   ]
  },
  {
   "cell_type": "markdown",
   "id": "5906e016-a198-40ac-b79c-df04097ba17e",
   "metadata": {},
   "source": [
    "And for a maximalist example, the following block loads a single PDB file containing a protein, waters, ions, and a small molecule (the chemical identity of any small molecules must be provided with the `unique_molecules` keyword argument, and any small molecules' connectivity must have corresponding CONECT records in the PDB file)."
   ]
  },
  {
   "cell_type": "code",
   "execution_count": 14,
   "id": "c007183b-9a71-42aa-8e05-9f18fa2ef531",
   "metadata": {
    "tags": []
   },
   "outputs": [
    {
     "name": "stdout",
     "output_type": "stream",
     "text": [
      "[Cl-] : 12 molecule(s)\n",
      "[H]O[H] : 4413 molecule(s)\n",
      "protein : 1 molecule(s)\n",
      "[H]c1c(c(c2c(c1Oc3c(c(c(c(c3[H])F)[H])C#N)[H])C(C([C@@]2([H])O[H])(F)F)([H])[H])S(=O)(=O)C([H])([H])[H])[H] : 1 molecule(s)\n",
      "[Na+] : 17 molecule(s)\n"
     ]
    }
   ],
   "source": [
    "from openff.toolkit.utils import get_data_file_path\n",
    "import nglview\n",
    "\n",
    "ligand_path = get_data_file_path('molecules/PT2385.sdf')\n",
    "ligand = Molecule.from_file(ligand_path)\n",
    "\n",
    "complex_path = get_data_file_path('proteins/5tbm_complex_solv_box.pdb')\n",
    "topology = Topology.from_pdb(complex_path, unique_molecules=[ligand])\n",
    "\n",
    "molecule_smileses = [mol.to_smiles() for mol in topology.molecules]\n",
    "counts = molecule_smileses\n",
    "for smiles in sorted(set(molecule_smileses)):\n",
    "    count = molecule_smileses.count(smiles)\n",
    "    if len(smiles) > 1000:\n",
    "        smiles = \"protein\"\n",
    "    print(smiles, \":\", count, \"molecule(s)\")"
   ]
  },
  {
   "cell_type": "markdown",
   "id": "cbdde2f3",
   "metadata": {},
   "source": [
    "## Other string identification formats\n",
    "\n",
    "The OpenFF Toolkit supports a few text based molecular identity formats other than SMILES ([see above](#from-smiles))"
   ]
  },
  {
   "cell_type": "markdown",
   "id": "bcd5fce1",
   "metadata": {},
   "source": [
    "### From InChI\n",
    "\n",
    "The [`Molecule.from_inchi()`](openff.toolkit.topology.Molecule.from_inchi) method constructs a `Molecule` from an IUPAC [InChI](https://iupac.org/who-we-are/divisions/division-details/inchi/) string. Note that InChI cannot distinguish the zwitterionic form of alanine from the neutral form (see section 13.2 of the [InChI Technical FAQ](https://www.inchi-trust.org/technical-faq-2/)), so the toolkit defaults to the neutral form.\n",
    "\n",
    ":::{warning}\n",
    "The OpenFF Toolkit makes no guarantees about the atomic ordering produced by the `from_inchi` method. InChI is not intended to be an interchange format.\n",
    ":::"
   ]
  },
  {
   "cell_type": "code",
   "execution_count": 15,
   "id": "1ea7bb81",
   "metadata": {},
   "outputs": [
    {
     "data": {
      "image/svg+xml": [
       "<svg xmlns=\"http://www.w3.org/2000/svg\" xmlns:rdkit=\"http://www.rdkit.org/xml\" xmlns:xlink=\"http://www.w3.org/1999/xlink\" version=\"1.1\" baseProfile=\"full\" xml:space=\"preserve\" width=\"500px\" height=\"300px\" viewBox=\"0 0 500 300\">\n",
       "<!-- END OF HEADER -->\n",
       "<rect style=\"opacity:1.0;fill:#FFFFFF;stroke:none\" width=\"500.0\" height=\"300.0\" x=\"0.0\" y=\"0.0\"> </rect>\n",
       "<path class=\"bond-0 atom-0 atom-1\" d=\"M 265.0,69.7 L 249.2,128.4\" style=\"fill:none;fill-rule:evenodd;stroke:#000000;stroke-width:2.0px;stroke-linecap:butt;stroke-linejoin:miter;stroke-opacity:1\"/>\n",
       "<path class=\"bond-1 atom-1 atom-2\" d=\"M 249.2,128.4 L 292.1,171.6\" style=\"fill:none;fill-rule:evenodd;stroke:#000000;stroke-width:2.0px;stroke-linecap:butt;stroke-linejoin:miter;stroke-opacity:1\"/>\n",
       "<path class=\"bond-2 atom-1 atom-3\" d=\"M 249.2,128.4 L 233.5,144.0\" style=\"fill:none;fill-rule:evenodd;stroke:#000000;stroke-width:2.0px;stroke-linecap:butt;stroke-linejoin:miter;stroke-opacity:1\"/>\n",
       "<path class=\"bond-2 atom-1 atom-3\" d=\"M 233.5,144.0 L 217.9,159.6\" style=\"fill:none;fill-rule:evenodd;stroke:#0000FF;stroke-width:2.0px;stroke-linecap:butt;stroke-linejoin:miter;stroke-opacity:1\"/>\n",
       "<path class=\"bond-3 atom-2 atom-4\" d=\"M 290.8,176.6 L 314.5,170.3\" style=\"fill:none;fill-rule:evenodd;stroke:#000000;stroke-width:2.0px;stroke-linecap:butt;stroke-linejoin:miter;stroke-opacity:1\"/>\n",
       "<path class=\"bond-3 atom-2 atom-4\" d=\"M 314.5,170.3 L 338.2,164.0\" style=\"fill:none;fill-rule:evenodd;stroke:#FF0000;stroke-width:2.0px;stroke-linecap:butt;stroke-linejoin:miter;stroke-opacity:1\"/>\n",
       "<path class=\"bond-3 atom-2 atom-4\" d=\"M 288.4,167.8 L 312.2,161.5\" style=\"fill:none;fill-rule:evenodd;stroke:#000000;stroke-width:2.0px;stroke-linecap:butt;stroke-linejoin:miter;stroke-opacity:1\"/>\n",
       "<path class=\"bond-3 atom-2 atom-4\" d=\"M 312.2,161.5 L 335.9,155.2\" style=\"fill:none;fill-rule:evenodd;stroke:#FF0000;stroke-width:2.0px;stroke-linecap:butt;stroke-linejoin:miter;stroke-opacity:1\"/>\n",
       "<path class=\"bond-4 atom-2 atom-5\" d=\"M 292.1,171.6 L 286.2,193.4\" style=\"fill:none;fill-rule:evenodd;stroke:#000000;stroke-width:2.0px;stroke-linecap:butt;stroke-linejoin:miter;stroke-opacity:1\"/>\n",
       "<path class=\"bond-4 atom-2 atom-5\" d=\"M 286.2,193.4 L 280.3,215.2\" style=\"fill:none;fill-rule:evenodd;stroke:#FF0000;stroke-width:2.0px;stroke-linecap:butt;stroke-linejoin:miter;stroke-opacity:1\"/>\n",
       "<path class=\"bond-5 atom-0 atom-6\" d=\"M 265.0,69.7 L 311.7,82.3\" style=\"fill:none;fill-rule:evenodd;stroke:#000000;stroke-width:2.0px;stroke-linecap:butt;stroke-linejoin:miter;stroke-opacity:1\"/>\n",
       "<path class=\"bond-6 atom-0 atom-7\" d=\"M 265.0,69.7 L 296.0,38.8\" style=\"fill:none;fill-rule:evenodd;stroke:#000000;stroke-width:2.0px;stroke-linecap:butt;stroke-linejoin:miter;stroke-opacity:1\"/>\n",
       "<path class=\"bond-7 atom-0 atom-8\" d=\"M 265.0,69.7 L 234.2,38.7\" style=\"fill:none;fill-rule:evenodd;stroke:#000000;stroke-width:2.0px;stroke-linecap:butt;stroke-linejoin:miter;stroke-opacity:1\"/>\n",
       "<path class=\"bond-8 atom-1 atom-9\" d=\"M 245.6,127.9 L 245.8,127.2\" style=\"fill:none;fill-rule:evenodd;stroke:#000000;stroke-width:1.0px;stroke-linecap:butt;stroke-linejoin:miter;stroke-opacity:1\"/>\n",
       "<path class=\"bond-8 atom-1 atom-9\" d=\"M 242.1,127.3 L 242.5,125.9\" style=\"fill:none;fill-rule:evenodd;stroke:#000000;stroke-width:1.0px;stroke-linecap:butt;stroke-linejoin:miter;stroke-opacity:1\"/>\n",
       "<path class=\"bond-8 atom-1 atom-9\" d=\"M 238.6,126.7 L 239.1,124.6\" style=\"fill:none;fill-rule:evenodd;stroke:#000000;stroke-width:1.0px;stroke-linecap:butt;stroke-linejoin:miter;stroke-opacity:1\"/>\n",
       "<path class=\"bond-8 atom-1 atom-9\" d=\"M 235.1,126.1 L 235.8,123.4\" style=\"fill:none;fill-rule:evenodd;stroke:#000000;stroke-width:1.0px;stroke-linecap:butt;stroke-linejoin:miter;stroke-opacity:1\"/>\n",
       "<path class=\"bond-8 atom-1 atom-9\" d=\"M 231.6,125.5 L 232.5,122.1\" style=\"fill:none;fill-rule:evenodd;stroke:#000000;stroke-width:1.0px;stroke-linecap:butt;stroke-linejoin:miter;stroke-opacity:1\"/>\n",
       "<path class=\"bond-8 atom-1 atom-9\" d=\"M 228.0,124.9 L 229.1,120.8\" style=\"fill:none;fill-rule:evenodd;stroke:#000000;stroke-width:1.0px;stroke-linecap:butt;stroke-linejoin:miter;stroke-opacity:1\"/>\n",
       "<path class=\"bond-8 atom-1 atom-9\" d=\"M 224.5,124.3 L 225.8,119.6\" style=\"fill:none;fill-rule:evenodd;stroke:#000000;stroke-width:1.0px;stroke-linecap:butt;stroke-linejoin:miter;stroke-opacity:1\"/>\n",
       "<path class=\"bond-8 atom-1 atom-9\" d=\"M 221.0,123.7 L 222.4,118.3\" style=\"fill:none;fill-rule:evenodd;stroke:#000000;stroke-width:1.0px;stroke-linecap:butt;stroke-linejoin:miter;stroke-opacity:1\"/>\n",
       "<path class=\"bond-8 atom-1 atom-9\" d=\"M 217.5,123.2 L 219.1,117.1\" style=\"fill:none;fill-rule:evenodd;stroke:#000000;stroke-width:1.0px;stroke-linecap:butt;stroke-linejoin:miter;stroke-opacity:1\"/>\n",
       "<path class=\"bond-8 atom-1 atom-9\" d=\"M 213.9,122.6 L 215.8,115.8\" style=\"fill:none;fill-rule:evenodd;stroke:#000000;stroke-width:1.0px;stroke-linecap:butt;stroke-linejoin:miter;stroke-opacity:1\"/>\n",
       "<path class=\"bond-8 atom-1 atom-9\" d=\"M 210.4,122.0 L 212.4,114.5\" style=\"fill:none;fill-rule:evenodd;stroke:#000000;stroke-width:1.0px;stroke-linecap:butt;stroke-linejoin:miter;stroke-opacity:1\"/>\n",
       "<path class=\"bond-8 atom-1 atom-9\" d=\"M 206.9,121.4 L 209.1,113.3\" style=\"fill:none;fill-rule:evenodd;stroke:#000000;stroke-width:1.0px;stroke-linecap:butt;stroke-linejoin:miter;stroke-opacity:1\"/>\n",
       "<path class=\"bond-8 atom-1 atom-9\" d=\"M 203.4,120.8 L 205.7,112.0\" style=\"fill:none;fill-rule:evenodd;stroke:#000000;stroke-width:1.0px;stroke-linecap:butt;stroke-linejoin:miter;stroke-opacity:1\"/>\n",
       "<path class=\"bond-9 atom-3 atom-10\" d=\"M 194.2,168.2 L 176.8,163.5\" style=\"fill:none;fill-rule:evenodd;stroke:#0000FF;stroke-width:2.0px;stroke-linecap:butt;stroke-linejoin:miter;stroke-opacity:1\"/>\n",
       "<path class=\"bond-9 atom-3 atom-10\" d=\"M 176.8,163.5 L 159.4,158.8\" style=\"fill:none;fill-rule:evenodd;stroke:#000000;stroke-width:2.0px;stroke-linecap:butt;stroke-linejoin:miter;stroke-opacity:1\"/>\n",
       "<path class=\"bond-10 atom-3 atom-11\" d=\"M 210.0,186.3 L 213.9,200.8\" style=\"fill:none;fill-rule:evenodd;stroke:#0000FF;stroke-width:2.0px;stroke-linecap:butt;stroke-linejoin:miter;stroke-opacity:1\"/>\n",
       "<path class=\"bond-10 atom-3 atom-11\" d=\"M 213.9,200.8 L 217.7,215.3\" style=\"fill:none;fill-rule:evenodd;stroke:#000000;stroke-width:2.0px;stroke-linecap:butt;stroke-linejoin:miter;stroke-opacity:1\"/>\n",
       "<path class=\"bond-11 atom-5 atom-12\" d=\"M 290.1,244.2 L 298.6,252.8\" style=\"fill:none;fill-rule:evenodd;stroke:#FF0000;stroke-width:2.0px;stroke-linecap:butt;stroke-linejoin:miter;stroke-opacity:1\"/>\n",
       "<path class=\"bond-11 atom-5 atom-12\" d=\"M 298.6,252.8 L 307.1,261.3\" style=\"fill:none;fill-rule:evenodd;stroke:#000000;stroke-width:2.0px;stroke-linecap:butt;stroke-linejoin:miter;stroke-opacity:1\"/>\n",
       "<path d=\"M 290.0,169.4 L 292.1,171.6 L 291.8,172.7\" style=\"fill:none;stroke:#000000;stroke-width:2.0px;stroke-linecap:butt;stroke-linejoin:miter;stroke-opacity:1;\"/>\n",
       "<path class=\"atom-3\" d=\"M 200.3 158.5 L 208.8 172.2 Q 209.7 173.5, 211.0 176.0 Q 212.4 178.4, 212.4 178.6 L 212.4 158.5 L 215.9 158.5 L 215.9 184.3 L 212.3 184.3 L 203.2 169.4 Q 202.2 167.6, 201.0 165.6 Q 199.9 163.6, 199.6 163.0 L 199.6 184.3 L 196.2 184.3 L 196.2 158.5 L 200.3 158.5 \" fill=\"#0000FF\"/>\n",
       "<path class=\"atom-4\" d=\"M 339.1 156.0 Q 339.1 149.8, 342.2 146.3 Q 345.2 142.8, 351.0 142.8 Q 356.7 142.8, 359.8 146.3 Q 362.8 149.8, 362.8 156.0 Q 362.8 162.3, 359.7 165.8 Q 356.6 169.4, 351.0 169.4 Q 345.3 169.4, 342.2 165.8 Q 339.1 162.3, 339.1 156.0 M 351.0 166.5 Q 354.9 166.5, 357.0 163.8 Q 359.2 161.2, 359.2 156.0 Q 359.2 150.9, 357.0 148.4 Q 354.9 145.8, 351.0 145.8 Q 347.0 145.8, 344.9 148.3 Q 342.7 150.9, 342.7 156.0 Q 342.7 161.2, 344.9 163.8 Q 347.0 166.5, 351.0 166.5 \" fill=\"#FF0000\"/>\n",
       "<path class=\"atom-5\" d=\"M 264.4 230.4 Q 264.4 224.2, 267.5 220.7 Q 270.5 217.2, 276.3 217.2 Q 282.0 217.2, 285.1 220.7 Q 288.1 224.2, 288.1 230.4 Q 288.1 236.7, 285.0 240.3 Q 281.9 243.8, 276.3 243.8 Q 270.6 243.8, 267.5 240.3 Q 264.4 236.7, 264.4 230.4 M 276.3 240.9 Q 280.2 240.9, 282.3 238.2 Q 284.5 235.6, 284.5 230.4 Q 284.5 225.3, 282.3 222.8 Q 280.2 220.2, 276.3 220.2 Q 272.3 220.2, 270.2 222.7 Q 268.1 225.3, 268.1 230.4 Q 268.1 235.6, 270.2 238.2 Q 272.3 240.9, 276.3 240.9 \" fill=\"#FF0000\"/>\n",
       "<path class=\"atom-6\" d=\"M 313.7 72.6 L 317.2 72.6 L 317.2 83.6 L 330.4 83.6 L 330.4 72.6 L 333.9 72.6 L 333.9 98.5 L 330.4 98.5 L 330.4 86.5 L 317.2 86.5 L 317.2 98.5 L 313.7 98.5 L 313.7 72.6 \" fill=\"#000000\"/>\n",
       "<path class=\"atom-7\" d=\"M 298.0 13.8 L 301.5 13.8 L 301.5 24.8 L 314.8 24.8 L 314.8 13.8 L 318.3 13.8 L 318.3 39.7 L 314.8 39.7 L 314.8 27.7 L 301.5 27.7 L 301.5 39.7 L 298.0 39.7 L 298.0 13.8 \" fill=\"#000000\"/>\n",
       "<path class=\"atom-8\" d=\"M 212.0 13.6 L 215.5 13.6 L 215.5 24.6 L 228.7 24.6 L 228.7 13.6 L 232.2 13.6 L 232.2 39.5 L 228.7 39.5 L 228.7 27.6 L 215.5 27.6 L 215.5 39.5 L 212.0 39.5 L 212.0 13.6 \" fill=\"#000000\"/>\n",
       "<path class=\"atom-9\" d=\"M 180.3 99.7 L 183.8 99.7 L 183.8 110.6 L 197.0 110.6 L 197.0 99.7 L 200.5 99.7 L 200.5 125.5 L 197.0 125.5 L 197.0 113.6 L 183.8 113.6 L 183.8 125.5 L 180.3 125.5 L 180.3 99.7 \" fill=\"#000000\"/>\n",
       "<path class=\"atom-10\" d=\"M 137.2 142.6 L 140.7 142.6 L 140.7 153.6 L 153.9 153.6 L 153.9 142.6 L 157.4 142.6 L 157.4 168.5 L 153.9 168.5 L 153.9 156.5 L 140.7 156.5 L 140.7 168.5 L 137.2 168.5 L 137.2 142.6 \" fill=\"#000000\"/>\n",
       "<path class=\"atom-11\" d=\"M 211.6 217.3 L 215.1 217.3 L 215.1 228.3 L 228.3 228.3 L 228.3 217.3 L 231.8 217.3 L 231.8 243.1 L 228.3 243.1 L 228.3 231.2 L 215.1 231.2 L 215.1 243.1 L 211.6 243.1 L 211.6 217.3 \" fill=\"#000000\"/>\n",
       "<path class=\"atom-12\" d=\"M 309.1 260.5 L 312.6 260.5 L 312.6 271.5 L 325.9 271.5 L 325.9 260.5 L 329.4 260.5 L 329.4 286.4 L 325.9 286.4 L 325.9 274.4 L 312.6 274.4 L 312.6 286.4 L 309.1 286.4 L 309.1 260.5 \" fill=\"#000000\"/>\n",
       "</svg>"
      ],
      "text/plain": [
       "<IPython.core.display.SVG object>"
      ]
     },
     "execution_count": 15,
     "metadata": {},
     "output_type": "execute_result"
    }
   ],
   "source": [
    "inchi = Molecule.from_inchi(\"InChI=1S/C3H7NO2/c1-2(4)3(5)6/h2H,4H2,1H3,(H,5,6)/t2-/m0/s1\")  \n",
    "\n",
    "inchi.visualize()"
   ]
  },
  {
   "cell_type": "markdown",
   "id": "93592822",
   "metadata": {},
   "source": [
    "### From IUPAC name\n",
    "\n",
    "The [`Molecule.from_iupac()`](openff.toolkit.topology.Molecule.from_iupac) method constructs a `Molecule` from an IUPAC name.\n",
    "\n",
    ":::{important}\n",
    "This code requires the OpenEye toolkit.\n",
    ":::"
   ]
  },
  {
   "cell_type": "code",
   "execution_count": 16,
   "id": "839994a0",
   "metadata": {},
   "outputs": [
    {
     "data": {
      "image/svg+xml": [
       "<svg xmlns=\"http://www.w3.org/2000/svg\" xmlns:rdkit=\"http://www.rdkit.org/xml\" xmlns:xlink=\"http://www.w3.org/1999/xlink\" version=\"1.1\" baseProfile=\"full\" xml:space=\"preserve\" width=\"500px\" height=\"300px\" viewBox=\"0 0 500 300\">\n",
       "<!-- END OF HEADER -->\n",
       "<rect style=\"opacity:1.0;fill:#FFFFFF;stroke:none\" width=\"500.0\" height=\"300.0\" x=\"0.0\" y=\"0.0\"> </rect>\n",
       "<path class=\"bond-0 atom-2 atom-1\" d=\"M 249.2,142.8 L 292.6,93.2\" style=\"fill:none;fill-rule:evenodd;stroke:#000000;stroke-width:2.0px;stroke-linecap:butt;stroke-linejoin:miter;stroke-opacity:1\"/>\n",
       "<path class=\"bond-1 atom-3 atom-2\" d=\"M 269.1,206.9 L 249.2,142.8\" style=\"fill:none;fill-rule:evenodd;stroke:#000000;stroke-width:2.0px;stroke-linecap:butt;stroke-linejoin:miter;stroke-opacity:1\"/>\n",
       "<path class=\"bond-2 atom-4 atom-1\" d=\"M 281.2,45.2 L 289.8,69.8\" style=\"fill:none;fill-rule:evenodd;stroke:#FF0000;stroke-width:2.0px;stroke-linecap:butt;stroke-linejoin:miter;stroke-opacity:1\"/>\n",
       "<path class=\"bond-2 atom-4 atom-1\" d=\"M 289.8,69.8 L 298.4,94.3\" style=\"fill:none;fill-rule:evenodd;stroke:#000000;stroke-width:2.0px;stroke-linecap:butt;stroke-linejoin:miter;stroke-opacity:1\"/>\n",
       "<path class=\"bond-2 atom-4 atom-1\" d=\"M 271.7,48.5 L 280.3,73.0\" style=\"fill:none;fill-rule:evenodd;stroke:#FF0000;stroke-width:2.0px;stroke-linecap:butt;stroke-linejoin:miter;stroke-opacity:1\"/>\n",
       "<path class=\"bond-2 atom-4 atom-1\" d=\"M 280.3,73.0 L 288.8,97.6\" style=\"fill:none;fill-rule:evenodd;stroke:#000000;stroke-width:2.0px;stroke-linecap:butt;stroke-linejoin:miter;stroke-opacity:1\"/>\n",
       "<path class=\"bond-3 atom-5 atom-1\" d=\"M 343.0,103.2 L 317.8,98.2\" style=\"fill:none;fill-rule:evenodd;stroke:#FF0000;stroke-width:2.0px;stroke-linecap:butt;stroke-linejoin:miter;stroke-opacity:1\"/>\n",
       "<path class=\"bond-3 atom-5 atom-1\" d=\"M 317.8,98.2 L 292.6,93.2\" style=\"fill:none;fill-rule:evenodd;stroke:#000000;stroke-width:2.0px;stroke-linecap:butt;stroke-linejoin:miter;stroke-opacity:1\"/>\n",
       "<path class=\"bond-4 atom-2 atom-0\" d=\"M 249.2,142.8 L 227.0,123.8\" style=\"fill:none;fill-rule:evenodd;stroke:#000000;stroke-width:2.0px;stroke-linecap:butt;stroke-linejoin:miter;stroke-opacity:1\"/>\n",
       "<path class=\"bond-4 atom-2 atom-0\" d=\"M 227.0,123.8 L 204.7,104.8\" style=\"fill:none;fill-rule:evenodd;stroke:#0000FF;stroke-width:2.0px;stroke-linecap:butt;stroke-linejoin:miter;stroke-opacity:1\"/>\n",
       "<path class=\"bond-5 atom-0 atom-6\" d=\"M 178.8,106.9 L 168.4,117.6\" style=\"fill:none;fill-rule:evenodd;stroke:#0000FF;stroke-width:2.0px;stroke-linecap:butt;stroke-linejoin:miter;stroke-opacity:1\"/>\n",
       "<path class=\"bond-5 atom-0 atom-6\" d=\"M 168.4,117.6 L 157.9,128.3\" style=\"fill:none;fill-rule:evenodd;stroke:#000000;stroke-width:2.0px;stroke-linecap:butt;stroke-linejoin:miter;stroke-opacity:1\"/>\n",
       "<path class=\"bond-6 atom-0 atom-7\" d=\"M 178.8,90.8 L 159.1,86.5\" style=\"fill:none;fill-rule:evenodd;stroke:#0000FF;stroke-width:2.0px;stroke-linecap:butt;stroke-linejoin:miter;stroke-opacity:1\"/>\n",
       "<path class=\"bond-6 atom-0 atom-7\" d=\"M 159.1,86.5 L 139.4,82.2\" style=\"fill:none;fill-rule:evenodd;stroke:#000000;stroke-width:2.0px;stroke-linecap:butt;stroke-linejoin:miter;stroke-opacity:1\"/>\n",
       "<path class=\"bond-7 atom-0 atom-8\" d=\"M 195.0,77.3 L 198.3,60.8\" style=\"fill:none;fill-rule:evenodd;stroke:#0000FF;stroke-width:2.0px;stroke-linecap:butt;stroke-linejoin:miter;stroke-opacity:1\"/>\n",
       "<path class=\"bond-7 atom-0 atom-8\" d=\"M 198.3,60.8 L 201.6,44.3\" style=\"fill:none;fill-rule:evenodd;stroke:#000000;stroke-width:2.0px;stroke-linecap:butt;stroke-linejoin:miter;stroke-opacity:1\"/>\n",
       "<path class=\"bond-8 atom-2 atom-9\" d=\"M 249.2,142.8 L 212.8,164.7 L 208.7,155.5 Z\" style=\"fill:#000000;fill-rule:evenodd;fill-opacity:1;stroke:#000000;stroke-width:0.5px;stroke-linecap:butt;stroke-linejoin:miter;stroke-opacity:1;\"/>\n",
       "<path class=\"bond-9 atom-3 atom-10\" d=\"M 269.1,206.9 L 216.9,221.3\" style=\"fill:none;fill-rule:evenodd;stroke:#000000;stroke-width:2.0px;stroke-linecap:butt;stroke-linejoin:miter;stroke-opacity:1\"/>\n",
       "<path class=\"bond-10 atom-3 atom-11\" d=\"M 269.1,206.9 L 255.6,255.7\" style=\"fill:none;fill-rule:evenodd;stroke:#000000;stroke-width:2.0px;stroke-linecap:butt;stroke-linejoin:miter;stroke-opacity:1\"/>\n",
       "<path class=\"bond-11 atom-3 atom-12\" d=\"M 269.1,206.9 L 320.3,220.4\" style=\"fill:none;fill-rule:evenodd;stroke:#000000;stroke-width:2.0px;stroke-linecap:butt;stroke-linejoin:miter;stroke-opacity:1\"/>\n",
       "<path d=\"M 290.5,95.7 L 292.6,93.2 L 293.9,93.5\" style=\"fill:none;stroke:#000000;stroke-width:2.0px;stroke-linecap:butt;stroke-linejoin:miter;stroke-opacity:1;\"/>\n",
       "<path class=\"atom-0\" d=\"M 185.5 79.5 L 194.8 94.5 Q 195.7 96.0, 197.2 98.7 Q 198.7 101.4, 198.8 101.5 L 198.8 79.5 L 202.5 79.5 L 202.5 107.9 L 198.6 107.9 L 188.7 91.5 Q 187.5 89.5, 186.3 87.3 Q 185.1 85.1, 184.7 84.5 L 184.7 107.9 L 181.0 107.9 L 181.0 79.5 L 185.5 79.5 \" fill=\"#0000FF\"/>\n",
       "<path class=\"atom-0\" d=\"M 207.8 84.6 L 212.8 84.6 L 212.8 79.4 L 215.1 79.4 L 215.1 84.6 L 220.2 84.6 L 220.2 86.5 L 215.1 86.5 L 215.1 91.8 L 212.8 91.8 L 212.8 86.5 L 207.8 86.5 L 207.8 84.6 \" fill=\"#0000FF\"/>\n",
       "<path class=\"atom-4\" d=\"M 257.6 30.0 Q 257.6 23.2, 260.9 19.4 Q 264.3 15.6, 270.6 15.6 Q 276.8 15.6, 280.2 19.4 Q 283.6 23.2, 283.6 30.0 Q 283.6 36.8, 280.2 40.8 Q 276.8 44.6, 270.6 44.6 Q 264.3 44.6, 260.9 40.8 Q 257.6 36.9, 257.6 30.0 M 270.6 41.4 Q 274.9 41.4, 277.2 38.6 Q 279.6 35.6, 279.6 30.0 Q 279.6 24.4, 277.2 21.6 Q 274.9 18.8, 270.6 18.8 Q 266.2 18.8, 263.9 21.6 Q 261.6 24.4, 261.6 30.0 Q 261.6 35.7, 263.9 38.6 Q 266.2 41.4, 270.6 41.4 \" fill=\"#FF0000\"/>\n",
       "<path class=\"atom-5\" d=\"M 345.2 106.3 Q 345.2 99.5, 348.6 95.7 Q 351.9 91.9, 358.2 91.9 Q 364.5 91.9, 367.9 95.7 Q 371.2 99.5, 371.2 106.3 Q 371.2 113.2, 367.8 117.1 Q 364.4 121.0, 358.2 121.0 Q 352.0 121.0, 348.6 117.1 Q 345.2 113.2, 345.2 106.3 M 358.2 117.8 Q 362.5 117.8, 364.9 114.9 Q 367.2 112.0, 367.2 106.3 Q 367.2 100.7, 364.9 97.9 Q 362.5 95.1, 358.2 95.1 Q 353.9 95.1, 351.5 97.9 Q 349.2 100.7, 349.2 106.3 Q 349.2 112.0, 351.5 114.9 Q 353.9 117.8, 358.2 117.8 \" fill=\"#FF0000\"/>\n",
       "<path class=\"atom-5\" d=\"M 375.3 96.5 L 384.9 96.5 L 384.9 98.6 L 375.3 98.6 L 375.3 96.5 \" fill=\"#FF0000\"/>\n",
       "<path class=\"atom-6\" d=\"M 133.5 127.7 L 137.4 127.7 L 137.4 139.8 L 151.9 139.8 L 151.9 127.7 L 155.7 127.7 L 155.7 156.0 L 151.9 156.0 L 151.9 143.0 L 137.4 143.0 L 137.4 156.0 L 133.5 156.0 L 133.5 127.7 \" fill=\"#000000\"/>\n",
       "<path class=\"atom-7\" d=\"M 115.1 65.1 L 118.9 65.1 L 118.9 77.1 L 133.4 77.1 L 133.4 65.1 L 137.2 65.1 L 137.2 93.4 L 133.4 93.4 L 133.4 80.3 L 118.9 80.3 L 118.9 93.4 L 115.1 93.4 L 115.1 65.1 \" fill=\"#000000\"/>\n",
       "<path class=\"atom-8\" d=\"M 193.8 13.8 L 197.6 13.8 L 197.6 25.8 L 212.1 25.8 L 212.1 13.8 L 215.9 13.8 L 215.9 42.1 L 212.1 42.1 L 212.1 29.0 L 197.6 29.0 L 197.6 42.1 L 193.8 42.1 L 193.8 13.8 \" fill=\"#000000\"/>\n",
       "<path class=\"atom-9\" d=\"M 184.2 153.0 L 188.0 153.0 L 188.0 165.0 L 202.5 165.0 L 202.5 153.0 L 206.3 153.0 L 206.3 181.3 L 202.5 181.3 L 202.5 168.2 L 188.0 168.2 L 188.0 181.3 L 184.2 181.3 L 184.2 153.0 \" fill=\"#000000\"/>\n",
       "<path class=\"atom-10\" d=\"M 192.6 210.8 L 196.4 210.8 L 196.4 222.9 L 210.9 222.9 L 210.9 210.8 L 214.7 210.8 L 214.7 239.2 L 210.9 239.2 L 210.9 226.1 L 196.4 226.1 L 196.4 239.2 L 192.6 239.2 L 192.6 210.8 \" fill=\"#000000\"/>\n",
       "<path class=\"atom-11\" d=\"M 240.0 257.9 L 243.8 257.9 L 243.8 270.0 L 258.3 270.0 L 258.3 257.9 L 262.2 257.9 L 262.2 286.2 L 258.3 286.2 L 258.3 273.2 L 243.8 273.2 L 243.8 286.2 L 240.0 286.2 L 240.0 257.9 \" fill=\"#000000\"/>\n",
       "<path class=\"atom-12\" d=\"M 322.5 209.8 L 326.4 209.8 L 326.4 221.8 L 340.8 221.8 L 340.8 209.8 L 344.7 209.8 L 344.7 238.1 L 340.8 238.1 L 340.8 225.0 L 326.4 225.0 L 326.4 238.1 L 322.5 238.1 L 322.5 209.8 \" fill=\"#000000\"/>\n",
       "</svg>"
      ],
      "text/plain": [
       "<IPython.core.display.SVG object>"
      ]
     },
     "execution_count": 16,
     "metadata": {},
     "output_type": "execute_result"
    }
   ],
   "source": [
    "iupac = Molecule.from_iupac(\"(2S)-2-azaniumylpropanoate\")\n",
    "\n",
    "assert zw_l_alanine.is_isomorphic_with(iupac)\n",
    "\n",
    "iupac.visualize()"
   ]
  },
  {
   "cell_type": "markdown",
   "id": "14d8a068",
   "metadata": {},
   "source": [
    "## Re-ordering atoms in an existing `Molecule`\n",
    "\n",
    "Most `Molecule` creation methods don't specify the ordering of atoms in the new `Molecule`. The [`Molecule.remap()`](openff.toolkit.topology.Molecule.remap) method allows a new ordering to be applied to an existing `Molecule`.\n",
    "\n",
    "See also [](#mapped-smiles).\n",
    "\n",
    ":::{warning}\n",
    "The `Molecule.remap()` method is experimental and subject to change. \n",
    ":::"
   ]
  },
  {
   "cell_type": "code",
   "execution_count": 17,
   "id": "c9a343c2",
   "metadata": {},
   "outputs": [
    {
     "name": "stdout",
     "output_type": "stream",
     "text": [
      "Before remapping: [H:3][C@@:2]([C:5](=[O:6])[O-:7])([C:1]([H:8])([H:9])[H:10])[N+:4]([H:11])([H:12])[H:13]\n",
      "After remapping:  [H:3][C@@:2]([C:4](=[O:6])[O-:7])([C:1]([H:8])([H:9])[H:10])[N+:5]([H:11])([H:12])[H:13]\n"
     ]
    },
    {
     "data": {
      "image/svg+xml": [
       "<svg xmlns=\"http://www.w3.org/2000/svg\" xmlns:rdkit=\"http://www.rdkit.org/xml\" xmlns:xlink=\"http://www.w3.org/1999/xlink\" version=\"1.1\" baseProfile=\"full\" xml:space=\"preserve\" width=\"500px\" height=\"300px\" viewBox=\"0 0 500 300\">\n",
       "<!-- END OF HEADER -->\n",
       "<rect style=\"opacity:1.0;fill:#FFFFFF;stroke:none\" width=\"500.0\" height=\"300.0\" x=\"0.0\" y=\"0.0\"> </rect>\n",
       "<path class=\"bond-0 atom-0 atom-1\" d=\"M 269.1,206.9 L 249.2,142.8\" style=\"fill:none;fill-rule:evenodd;stroke:#000000;stroke-width:2.0px;stroke-linecap:butt;stroke-linejoin:miter;stroke-opacity:1\"/>\n",
       "<path class=\"bond-1 atom-0 atom-7\" d=\"M 269.1,206.9 L 216.9,221.3\" style=\"fill:none;fill-rule:evenodd;stroke:#000000;stroke-width:2.0px;stroke-linecap:butt;stroke-linejoin:miter;stroke-opacity:1\"/>\n",
       "<path class=\"bond-2 atom-0 atom-8\" d=\"M 269.1,206.9 L 255.6,255.7\" style=\"fill:none;fill-rule:evenodd;stroke:#000000;stroke-width:2.0px;stroke-linecap:butt;stroke-linejoin:miter;stroke-opacity:1\"/>\n",
       "<path class=\"bond-3 atom-0 atom-9\" d=\"M 269.1,206.9 L 320.3,220.4\" style=\"fill:none;fill-rule:evenodd;stroke:#000000;stroke-width:2.0px;stroke-linecap:butt;stroke-linejoin:miter;stroke-opacity:1\"/>\n",
       "<path class=\"bond-4 atom-1 atom-2\" d=\"M 249.2,142.8 L 212.8,164.7 L 208.7,155.5 Z\" style=\"fill:#000000;fill-rule:evenodd;fill-opacity:1;stroke:#000000;stroke-width:0.5px;stroke-linecap:butt;stroke-linejoin:miter;stroke-opacity:1;\"/>\n",
       "<path class=\"bond-5 atom-1 atom-3\" d=\"M 249.2,142.8 L 292.6,93.2\" style=\"fill:none;fill-rule:evenodd;stroke:#000000;stroke-width:2.0px;stroke-linecap:butt;stroke-linejoin:miter;stroke-opacity:1\"/>\n",
       "<path class=\"bond-6 atom-1 atom-4\" d=\"M 249.2,142.8 L 227.0,123.8\" style=\"fill:none;fill-rule:evenodd;stroke:#000000;stroke-width:2.0px;stroke-linecap:butt;stroke-linejoin:miter;stroke-opacity:1\"/>\n",
       "<path class=\"bond-6 atom-1 atom-4\" d=\"M 227.0,123.8 L 204.7,104.8\" style=\"fill:none;fill-rule:evenodd;stroke:#0000FF;stroke-width:2.0px;stroke-linecap:butt;stroke-linejoin:miter;stroke-opacity:1\"/>\n",
       "<path class=\"bond-7 atom-3 atom-5\" d=\"M 298.4,94.3 L 289.8,69.8\" style=\"fill:none;fill-rule:evenodd;stroke:#000000;stroke-width:2.0px;stroke-linecap:butt;stroke-linejoin:miter;stroke-opacity:1\"/>\n",
       "<path class=\"bond-7 atom-3 atom-5\" d=\"M 289.8,69.8 L 281.2,45.2\" style=\"fill:none;fill-rule:evenodd;stroke:#FF0000;stroke-width:2.0px;stroke-linecap:butt;stroke-linejoin:miter;stroke-opacity:1\"/>\n",
       "<path class=\"bond-7 atom-3 atom-5\" d=\"M 288.8,97.6 L 280.3,73.0\" style=\"fill:none;fill-rule:evenodd;stroke:#000000;stroke-width:2.0px;stroke-linecap:butt;stroke-linejoin:miter;stroke-opacity:1\"/>\n",
       "<path class=\"bond-7 atom-3 atom-5\" d=\"M 280.3,73.0 L 271.7,48.5\" style=\"fill:none;fill-rule:evenodd;stroke:#FF0000;stroke-width:2.0px;stroke-linecap:butt;stroke-linejoin:miter;stroke-opacity:1\"/>\n",
       "<path class=\"bond-8 atom-3 atom-6\" d=\"M 292.6,93.2 L 317.8,98.2\" style=\"fill:none;fill-rule:evenodd;stroke:#000000;stroke-width:2.0px;stroke-linecap:butt;stroke-linejoin:miter;stroke-opacity:1\"/>\n",
       "<path class=\"bond-8 atom-3 atom-6\" d=\"M 317.8,98.2 L 343.0,103.2\" style=\"fill:none;fill-rule:evenodd;stroke:#FF0000;stroke-width:2.0px;stroke-linecap:butt;stroke-linejoin:miter;stroke-opacity:1\"/>\n",
       "<path class=\"bond-9 atom-4 atom-10\" d=\"M 178.8,106.9 L 168.4,117.6\" style=\"fill:none;fill-rule:evenodd;stroke:#0000FF;stroke-width:2.0px;stroke-linecap:butt;stroke-linejoin:miter;stroke-opacity:1\"/>\n",
       "<path class=\"bond-9 atom-4 atom-10\" d=\"M 168.4,117.6 L 157.9,128.3\" style=\"fill:none;fill-rule:evenodd;stroke:#000000;stroke-width:2.0px;stroke-linecap:butt;stroke-linejoin:miter;stroke-opacity:1\"/>\n",
       "<path class=\"bond-10 atom-4 atom-11\" d=\"M 178.8,90.8 L 159.1,86.5\" style=\"fill:none;fill-rule:evenodd;stroke:#0000FF;stroke-width:2.0px;stroke-linecap:butt;stroke-linejoin:miter;stroke-opacity:1\"/>\n",
       "<path class=\"bond-10 atom-4 atom-11\" d=\"M 159.1,86.5 L 139.4,82.2\" style=\"fill:none;fill-rule:evenodd;stroke:#000000;stroke-width:2.0px;stroke-linecap:butt;stroke-linejoin:miter;stroke-opacity:1\"/>\n",
       "<path class=\"bond-11 atom-4 atom-12\" d=\"M 195.0,77.3 L 198.3,60.8\" style=\"fill:none;fill-rule:evenodd;stroke:#0000FF;stroke-width:2.0px;stroke-linecap:butt;stroke-linejoin:miter;stroke-opacity:1\"/>\n",
       "<path class=\"bond-11 atom-4 atom-12\" d=\"M 198.3,60.8 L 201.6,44.3\" style=\"fill:none;fill-rule:evenodd;stroke:#000000;stroke-width:2.0px;stroke-linecap:butt;stroke-linejoin:miter;stroke-opacity:1\"/>\n",
       "<path d=\"M 290.5,95.7 L 292.6,93.2 L 293.9,93.5\" style=\"fill:none;stroke:#000000;stroke-width:2.0px;stroke-linecap:butt;stroke-linejoin:miter;stroke-opacity:1;\"/>\n",
       "<path class=\"atom-2\" d=\"M 184.2 153.0 L 188.0 153.0 L 188.0 165.0 L 202.5 165.0 L 202.5 153.0 L 206.3 153.0 L 206.3 181.3 L 202.5 181.3 L 202.5 168.2 L 188.0 168.2 L 188.0 181.3 L 184.2 181.3 L 184.2 153.0 \" fill=\"#000000\"/>\n",
       "<path class=\"atom-4\" d=\"M 185.5 79.5 L 194.8 94.5 Q 195.7 96.0, 197.2 98.7 Q 198.7 101.4, 198.8 101.5 L 198.8 79.5 L 202.5 79.5 L 202.5 107.9 L 198.6 107.9 L 188.7 91.5 Q 187.5 89.5, 186.3 87.3 Q 185.1 85.1, 184.7 84.5 L 184.7 107.9 L 181.0 107.9 L 181.0 79.5 L 185.5 79.5 \" fill=\"#0000FF\"/>\n",
       "<path class=\"atom-4\" d=\"M 207.8 84.6 L 212.8 84.6 L 212.8 79.4 L 215.1 79.4 L 215.1 84.6 L 220.2 84.6 L 220.2 86.5 L 215.1 86.5 L 215.1 91.8 L 212.8 91.8 L 212.8 86.5 L 207.8 86.5 L 207.8 84.6 \" fill=\"#0000FF\"/>\n",
       "<path class=\"atom-5\" d=\"M 257.6 30.0 Q 257.6 23.2, 260.9 19.4 Q 264.3 15.6, 270.6 15.6 Q 276.8 15.6, 280.2 19.4 Q 283.6 23.2, 283.6 30.0 Q 283.6 36.8, 280.2 40.8 Q 276.8 44.6, 270.6 44.6 Q 264.3 44.6, 260.9 40.8 Q 257.6 36.9, 257.6 30.0 M 270.6 41.4 Q 274.9 41.4, 277.2 38.6 Q 279.6 35.6, 279.6 30.0 Q 279.6 24.4, 277.2 21.6 Q 274.9 18.8, 270.6 18.8 Q 266.2 18.8, 263.9 21.6 Q 261.6 24.4, 261.6 30.0 Q 261.6 35.7, 263.9 38.6 Q 266.2 41.4, 270.6 41.4 \" fill=\"#FF0000\"/>\n",
       "<path class=\"atom-6\" d=\"M 345.2 106.3 Q 345.2 99.5, 348.6 95.7 Q 351.9 91.9, 358.2 91.9 Q 364.5 91.9, 367.9 95.7 Q 371.2 99.5, 371.2 106.3 Q 371.2 113.2, 367.8 117.1 Q 364.4 121.0, 358.2 121.0 Q 352.0 121.0, 348.6 117.1 Q 345.2 113.2, 345.2 106.3 M 358.2 117.8 Q 362.5 117.8, 364.9 114.9 Q 367.2 112.0, 367.2 106.3 Q 367.2 100.7, 364.9 97.9 Q 362.5 95.1, 358.2 95.1 Q 353.9 95.1, 351.5 97.9 Q 349.2 100.7, 349.2 106.3 Q 349.2 112.0, 351.5 114.9 Q 353.9 117.8, 358.2 117.8 \" fill=\"#FF0000\"/>\n",
       "<path class=\"atom-6\" d=\"M 375.3 96.5 L 384.9 96.5 L 384.9 98.6 L 375.3 98.6 L 375.3 96.5 \" fill=\"#FF0000\"/>\n",
       "<path class=\"atom-7\" d=\"M 192.6 210.8 L 196.4 210.8 L 196.4 222.9 L 210.9 222.9 L 210.9 210.8 L 214.7 210.8 L 214.7 239.2 L 210.9 239.2 L 210.9 226.1 L 196.4 226.1 L 196.4 239.2 L 192.6 239.2 L 192.6 210.8 \" fill=\"#000000\"/>\n",
       "<path class=\"atom-8\" d=\"M 240.0 257.9 L 243.8 257.9 L 243.8 270.0 L 258.3 270.0 L 258.3 257.9 L 262.2 257.9 L 262.2 286.2 L 258.3 286.2 L 258.3 273.2 L 243.8 273.2 L 243.8 286.2 L 240.0 286.2 L 240.0 257.9 \" fill=\"#000000\"/>\n",
       "<path class=\"atom-9\" d=\"M 322.5 209.8 L 326.4 209.8 L 326.4 221.8 L 340.8 221.8 L 340.8 209.8 L 344.7 209.8 L 344.7 238.1 L 340.8 238.1 L 340.8 225.0 L 326.4 225.0 L 326.4 238.1 L 322.5 238.1 L 322.5 209.8 \" fill=\"#000000\"/>\n",
       "<path class=\"atom-10\" d=\"M 133.5 127.7 L 137.4 127.7 L 137.4 139.8 L 151.9 139.8 L 151.9 127.7 L 155.7 127.7 L 155.7 156.0 L 151.9 156.0 L 151.9 143.0 L 137.4 143.0 L 137.4 156.0 L 133.5 156.0 L 133.5 127.7 \" fill=\"#000000\"/>\n",
       "<path class=\"atom-11\" d=\"M 115.1 65.1 L 118.9 65.1 L 118.9 77.1 L 133.4 77.1 L 133.4 65.1 L 137.2 65.1 L 137.2 93.4 L 133.4 93.4 L 133.4 80.3 L 118.9 80.3 L 118.9 93.4 L 115.1 93.4 L 115.1 65.1 \" fill=\"#000000\"/>\n",
       "<path class=\"atom-12\" d=\"M 193.8 13.8 L 197.6 13.8 L 197.6 25.8 L 212.1 25.8 L 212.1 13.8 L 215.9 13.8 L 215.9 42.1 L 212.1 42.1 L 212.1 29.0 L 197.6 29.0 L 197.6 42.1 L 193.8 42.1 L 193.8 13.8 \" fill=\"#000000\"/>\n",
       "</svg>"
      ],
      "text/plain": [
       "<IPython.core.display.SVG object>"
      ]
     },
     "execution_count": 17,
     "metadata": {},
     "output_type": "execute_result"
    }
   ],
   "source": [
    "# Note that this mapping is off-by-one from the mapping taken \n",
    "# by the remap method, as Python indexing is 0-based but SMILES\n",
    "# is 1-based\n",
    "print(\"Before remapping:\", zw_l_alanine.to_smiles(mapped=True))\n",
    "\n",
    "# Flip the order of the carbonyl carbon and oxygen\n",
    "remapped = zw_l_alanine.remap({0: 0,1: 1, 2: 2, 3: 4, 4: 3, 5: 5, 6: 6, 7: 7, 8: 8, 9: 9, 10: 10, 11: 11, 12: 12})\n",
    "#                                               ^--------^ \n",
    "\n",
    "print(\"After remapping: \", remapped.to_smiles(mapped=True))\n",
    "\n",
    "# Doesn't affect the identity of the molecule\n",
    "assert zw_l_alanine.is_isomorphic_with(remapped)\n",
    "remapped.visualize()"
   ]
  },
  {
   "cell_type": "markdown",
   "id": "d5e4330a",
   "metadata": {},
   "source": [
    "## Via `Topology` objects\n",
    "\n",
    "The [`Topology`](openff.toolkit.topology.Topology) class represents a biomolecular system; it is analogous to the similarly named objects in GROMACS, MDTraj or OpenMM. Notably, it does not include co-ordinates and may represent multiple copies of a particular molecular species or even more complex mixtures of molecules. `Topology` objects are usually built up one species at a time from `Molecule` objects.\n",
    "\n",
    "`Molecule` objects can be retrieved from a `Topology` via the [`Topology.molecule()`](openff.toolkit.topology.Topology.molecule) method by providing the index of the molecule within the topology. For a topology consisting of a single molecule, this is just `topology.molecule(0)`.\n",
    "\n",
    "Constructor methods that are available for `Topology` but not `Molecule` generally require a `Molecule` to be provided via the `unique_molecules` keyword argument. The provided `Molecule` is used to provide the identity of the molecule, including aromaticity, bond orders, formal charges, and so forth. These methods therefore don't provide a route to the graph of the molecule, but can be useful for reordering atoms to match another software package."
   ]
  },
  {
   "cell_type": "markdown",
   "id": "95eab062",
   "metadata": {},
   "source": [
    "### From an OpenMM `Topology`\n",
    "\n",
    "The [`Topology.from_openmm()`](openff.toolkit.topology.Topology.from_openmm) method constructs an OpenFF `Topology` from an OpenMM [`Topology`](openmm.app.topology.Topology). The method requires that all the unique molecules in the `Topology` are provided as OpenFF `Molecule` objects, as the structure of an OpenMM `Topology` doesn't include the concept of a molecule. When using this method to create a `Molecule`, this limitation means that the method really only offers a pathway to reorder the atoms of a `Molecule` to match that of the OpenMM `Topology`."
   ]
  },
  {
   "cell_type": "code",
   "execution_count": 18,
   "id": "40645664",
   "metadata": {},
   "outputs": [
    {
     "data": {
      "image/svg+xml": [
       "<svg xmlns=\"http://www.w3.org/2000/svg\" xmlns:rdkit=\"http://www.rdkit.org/xml\" xmlns:xlink=\"http://www.w3.org/1999/xlink\" version=\"1.1\" baseProfile=\"full\" xml:space=\"preserve\" width=\"500px\" height=\"300px\" viewBox=\"0 0 500 300\">\n",
       "<!-- END OF HEADER -->\n",
       "<rect style=\"opacity:1.0;fill:#FFFFFF;stroke:none\" width=\"500.0\" height=\"300.0\" x=\"0.0\" y=\"0.0\"> </rect>\n",
       "<path class=\"bond-0 atom-0 atom-2\" d=\"M 204.7,104.8 L 227.0,123.8\" style=\"fill:none;fill-rule:evenodd;stroke:#0000FF;stroke-width:2.0px;stroke-linecap:butt;stroke-linejoin:miter;stroke-opacity:1\"/>\n",
       "<path class=\"bond-0 atom-0 atom-2\" d=\"M 227.0,123.8 L 249.2,142.8\" style=\"fill:none;fill-rule:evenodd;stroke:#000000;stroke-width:2.0px;stroke-linecap:butt;stroke-linejoin:miter;stroke-opacity:1\"/>\n",
       "<path class=\"bond-1 atom-0 atom-10\" d=\"M 178.8,106.9 L 168.4,117.6\" style=\"fill:none;fill-rule:evenodd;stroke:#0000FF;stroke-width:2.0px;stroke-linecap:butt;stroke-linejoin:miter;stroke-opacity:1\"/>\n",
       "<path class=\"bond-1 atom-0 atom-10\" d=\"M 168.4,117.6 L 157.9,128.3\" style=\"fill:none;fill-rule:evenodd;stroke:#000000;stroke-width:2.0px;stroke-linecap:butt;stroke-linejoin:miter;stroke-opacity:1\"/>\n",
       "<path class=\"bond-2 atom-0 atom-11\" d=\"M 178.8,90.8 L 159.1,86.5\" style=\"fill:none;fill-rule:evenodd;stroke:#0000FF;stroke-width:2.0px;stroke-linecap:butt;stroke-linejoin:miter;stroke-opacity:1\"/>\n",
       "<path class=\"bond-2 atom-0 atom-11\" d=\"M 159.1,86.5 L 139.4,82.2\" style=\"fill:none;fill-rule:evenodd;stroke:#000000;stroke-width:2.0px;stroke-linecap:butt;stroke-linejoin:miter;stroke-opacity:1\"/>\n",
       "<path class=\"bond-3 atom-0 atom-12\" d=\"M 195.0,77.3 L 198.3,60.8\" style=\"fill:none;fill-rule:evenodd;stroke:#0000FF;stroke-width:2.0px;stroke-linecap:butt;stroke-linejoin:miter;stroke-opacity:1\"/>\n",
       "<path class=\"bond-3 atom-0 atom-12\" d=\"M 198.3,60.8 L 201.6,44.3\" style=\"fill:none;fill-rule:evenodd;stroke:#000000;stroke-width:2.0px;stroke-linecap:butt;stroke-linejoin:miter;stroke-opacity:1\"/>\n",
       "<path class=\"bond-4 atom-1 atom-2\" d=\"M 269.1,206.9 L 249.2,142.8\" style=\"fill:none;fill-rule:evenodd;stroke:#000000;stroke-width:2.0px;stroke-linecap:butt;stroke-linejoin:miter;stroke-opacity:1\"/>\n",
       "<path class=\"bond-5 atom-1 atom-6\" d=\"M 269.1,206.9 L 216.9,221.3\" style=\"fill:none;fill-rule:evenodd;stroke:#000000;stroke-width:2.0px;stroke-linecap:butt;stroke-linejoin:miter;stroke-opacity:1\"/>\n",
       "<path class=\"bond-6 atom-1 atom-7\" d=\"M 269.1,206.9 L 255.6,255.7\" style=\"fill:none;fill-rule:evenodd;stroke:#000000;stroke-width:2.0px;stroke-linecap:butt;stroke-linejoin:miter;stroke-opacity:1\"/>\n",
       "<path class=\"bond-7 atom-1 atom-8\" d=\"M 269.1,206.9 L 320.3,220.4\" style=\"fill:none;fill-rule:evenodd;stroke:#000000;stroke-width:2.0px;stroke-linecap:butt;stroke-linejoin:miter;stroke-opacity:1\"/>\n",
       "<path class=\"bond-8 atom-2 atom-3\" d=\"M 249.2,142.8 L 292.6,93.2\" style=\"fill:none;fill-rule:evenodd;stroke:#000000;stroke-width:2.0px;stroke-linecap:butt;stroke-linejoin:miter;stroke-opacity:1\"/>\n",
       "<path class=\"bond-9 atom-2 atom-9\" d=\"M 249.2,142.8 L 212.8,164.7 L 208.7,155.5 Z\" style=\"fill:#000000;fill-rule:evenodd;fill-opacity:1;stroke:#000000;stroke-width:0.5px;stroke-linecap:butt;stroke-linejoin:miter;stroke-opacity:1;\"/>\n",
       "<path class=\"bond-10 atom-3 atom-4\" d=\"M 298.4,94.3 L 289.8,69.8\" style=\"fill:none;fill-rule:evenodd;stroke:#000000;stroke-width:2.0px;stroke-linecap:butt;stroke-linejoin:miter;stroke-opacity:1\"/>\n",
       "<path class=\"bond-10 atom-3 atom-4\" d=\"M 289.8,69.8 L 281.2,45.2\" style=\"fill:none;fill-rule:evenodd;stroke:#FF0000;stroke-width:2.0px;stroke-linecap:butt;stroke-linejoin:miter;stroke-opacity:1\"/>\n",
       "<path class=\"bond-10 atom-3 atom-4\" d=\"M 288.8,97.6 L 280.3,73.0\" style=\"fill:none;fill-rule:evenodd;stroke:#000000;stroke-width:2.0px;stroke-linecap:butt;stroke-linejoin:miter;stroke-opacity:1\"/>\n",
       "<path class=\"bond-10 atom-3 atom-4\" d=\"M 280.3,73.0 L 271.7,48.5\" style=\"fill:none;fill-rule:evenodd;stroke:#FF0000;stroke-width:2.0px;stroke-linecap:butt;stroke-linejoin:miter;stroke-opacity:1\"/>\n",
       "<path class=\"bond-11 atom-3 atom-5\" d=\"M 292.6,93.2 L 317.8,98.2\" style=\"fill:none;fill-rule:evenodd;stroke:#000000;stroke-width:2.0px;stroke-linecap:butt;stroke-linejoin:miter;stroke-opacity:1\"/>\n",
       "<path class=\"bond-11 atom-3 atom-5\" d=\"M 317.8,98.2 L 343.0,103.2\" style=\"fill:none;fill-rule:evenodd;stroke:#FF0000;stroke-width:2.0px;stroke-linecap:butt;stroke-linejoin:miter;stroke-opacity:1\"/>\n",
       "<path d=\"M 290.5,95.7 L 292.6,93.2 L 293.9,93.5\" style=\"fill:none;stroke:#000000;stroke-width:2.0px;stroke-linecap:butt;stroke-linejoin:miter;stroke-opacity:1;\"/>\n",
       "<path class=\"atom-0\" d=\"M 185.5 79.5 L 194.8 94.5 Q 195.7 96.0, 197.2 98.7 Q 198.7 101.4, 198.8 101.5 L 198.8 79.5 L 202.5 79.5 L 202.5 107.9 L 198.6 107.9 L 188.7 91.5 Q 187.5 89.5, 186.3 87.3 Q 185.1 85.1, 184.7 84.5 L 184.7 107.9 L 181.0 107.9 L 181.0 79.5 L 185.5 79.5 \" fill=\"#0000FF\"/>\n",
       "<path class=\"atom-0\" d=\"M 207.8 84.6 L 212.8 84.6 L 212.8 79.4 L 215.1 79.4 L 215.1 84.6 L 220.2 84.6 L 220.2 86.5 L 215.1 86.5 L 215.1 91.8 L 212.8 91.8 L 212.8 86.5 L 207.8 86.5 L 207.8 84.6 \" fill=\"#0000FF\"/>\n",
       "<path class=\"atom-4\" d=\"M 257.6 30.0 Q 257.6 23.2, 260.9 19.4 Q 264.3 15.6, 270.6 15.6 Q 276.8 15.6, 280.2 19.4 Q 283.6 23.2, 283.6 30.0 Q 283.6 36.8, 280.2 40.8 Q 276.8 44.6, 270.6 44.6 Q 264.3 44.6, 260.9 40.8 Q 257.6 36.9, 257.6 30.0 M 270.6 41.4 Q 274.9 41.4, 277.2 38.6 Q 279.6 35.6, 279.6 30.0 Q 279.6 24.4, 277.2 21.6 Q 274.9 18.8, 270.6 18.8 Q 266.2 18.8, 263.9 21.6 Q 261.6 24.4, 261.6 30.0 Q 261.6 35.7, 263.9 38.6 Q 266.2 41.4, 270.6 41.4 \" fill=\"#FF0000\"/>\n",
       "<path class=\"atom-5\" d=\"M 345.2 106.3 Q 345.2 99.5, 348.6 95.7 Q 351.9 91.9, 358.2 91.9 Q 364.5 91.9, 367.9 95.7 Q 371.2 99.5, 371.2 106.3 Q 371.2 113.2, 367.8 117.1 Q 364.4 121.0, 358.2 121.0 Q 352.0 121.0, 348.6 117.1 Q 345.2 113.2, 345.2 106.3 M 358.2 117.8 Q 362.5 117.8, 364.9 114.9 Q 367.2 112.0, 367.2 106.3 Q 367.2 100.7, 364.9 97.9 Q 362.5 95.1, 358.2 95.1 Q 353.9 95.1, 351.5 97.9 Q 349.2 100.7, 349.2 106.3 Q 349.2 112.0, 351.5 114.9 Q 353.9 117.8, 358.2 117.8 \" fill=\"#FF0000\"/>\n",
       "<path class=\"atom-5\" d=\"M 375.3 96.5 L 384.9 96.5 L 384.9 98.6 L 375.3 98.6 L 375.3 96.5 \" fill=\"#FF0000\"/>\n",
       "<path class=\"atom-6\" d=\"M 192.6 210.8 L 196.4 210.8 L 196.4 222.9 L 210.9 222.9 L 210.9 210.8 L 214.7 210.8 L 214.7 239.2 L 210.9 239.2 L 210.9 226.1 L 196.4 226.1 L 196.4 239.2 L 192.6 239.2 L 192.6 210.8 \" fill=\"#000000\"/>\n",
       "<path class=\"atom-7\" d=\"M 240.0 257.9 L 243.8 257.9 L 243.8 270.0 L 258.3 270.0 L 258.3 257.9 L 262.2 257.9 L 262.2 286.2 L 258.3 286.2 L 258.3 273.2 L 243.8 273.2 L 243.8 286.2 L 240.0 286.2 L 240.0 257.9 \" fill=\"#000000\"/>\n",
       "<path class=\"atom-8\" d=\"M 322.5 209.8 L 326.4 209.8 L 326.4 221.8 L 340.8 221.8 L 340.8 209.8 L 344.7 209.8 L 344.7 238.1 L 340.8 238.1 L 340.8 225.0 L 326.4 225.0 L 326.4 238.1 L 322.5 238.1 L 322.5 209.8 \" fill=\"#000000\"/>\n",
       "<path class=\"atom-9\" d=\"M 184.2 153.0 L 188.0 153.0 L 188.0 165.0 L 202.5 165.0 L 202.5 153.0 L 206.3 153.0 L 206.3 181.3 L 202.5 181.3 L 202.5 168.2 L 188.0 168.2 L 188.0 181.3 L 184.2 181.3 L 184.2 153.0 \" fill=\"#000000\"/>\n",
       "<path class=\"atom-10\" d=\"M 133.5 127.7 L 137.4 127.7 L 137.4 139.8 L 151.9 139.8 L 151.9 127.7 L 155.7 127.7 L 155.7 156.0 L 151.9 156.0 L 151.9 143.0 L 137.4 143.0 L 137.4 156.0 L 133.5 156.0 L 133.5 127.7 \" fill=\"#000000\"/>\n",
       "<path class=\"atom-11\" d=\"M 115.1 65.1 L 118.9 65.1 L 118.9 77.1 L 133.4 77.1 L 133.4 65.1 L 137.2 65.1 L 137.2 93.4 L 133.4 93.4 L 133.4 80.3 L 118.9 80.3 L 118.9 93.4 L 115.1 93.4 L 115.1 65.1 \" fill=\"#000000\"/>\n",
       "<path class=\"atom-12\" d=\"M 193.8 13.8 L 197.6 13.8 L 197.6 25.8 L 212.1 25.8 L 212.1 13.8 L 215.9 13.8 L 215.9 42.1 L 212.1 42.1 L 212.1 29.0 L 197.6 29.0 L 197.6 42.1 L 193.8 42.1 L 193.8 13.8 \" fill=\"#000000\"/>\n",
       "</svg>"
      ],
      "text/plain": [
       "<IPython.core.display.SVG object>"
      ]
     },
     "execution_count": 18,
     "metadata": {},
     "output_type": "execute_result"
    }
   ],
   "source": [
    "from openmm.app.pdbfile import PDBFile\n",
    "\n",
    "openmm_topology = PDBFile('zw_l_alanine.pdb').getTopology()\n",
    "openff_topology = Topology.from_openmm(openmm_topology, unique_molecules=[zw_l_alanine])\n",
    "\n",
    "from_openmm_topology = openff_topology.molecule(0)\n",
    "\n",
    "assert zw_l_alanine.is_isomorphic_with(from_openmm_topology)\n",
    "\n",
    "from_openmm_topology.visualize()"
   ]
  },
  {
   "cell_type": "markdown",
   "id": "39e06787",
   "metadata": {},
   "source": [
    "### From an MDTraj `Topology`\n",
    "\n",
    "The [`Topology.from_mdtraj()`](openff.toolkit.topology.Topology.from_mdtraj) method constructs an OpenFF `Topology` from an MDTraj [`Topology`](mdtraj.Topology). The method requires that all the unique molecules in the `Topology` are provided as OpenFF `Molecule` objects to ensure that the graph of the molecule is correct. When using this method to create a `Molecule`, this limitation means that the method really only offers a pathway to reorder the atoms of a `Molecule` to match that of the MDTraj `Topology`."
   ]
  },
  {
   "cell_type": "code",
   "execution_count": 19,
   "id": "68ee9ed2",
   "metadata": {},
   "outputs": [
    {
     "data": {
      "image/svg+xml": [
       "<svg xmlns=\"http://www.w3.org/2000/svg\" xmlns:rdkit=\"http://www.rdkit.org/xml\" xmlns:xlink=\"http://www.w3.org/1999/xlink\" version=\"1.1\" baseProfile=\"full\" xml:space=\"preserve\" width=\"500px\" height=\"300px\" viewBox=\"0 0 500 300\">\n",
       "<!-- END OF HEADER -->\n",
       "<rect style=\"opacity:1.0;fill:#FFFFFF;stroke:none\" width=\"500.0\" height=\"300.0\" x=\"0.0\" y=\"0.0\"> </rect>\n",
       "<path class=\"bond-0 atom-0 atom-2\" d=\"M 204.7,104.8 L 227.0,123.8\" style=\"fill:none;fill-rule:evenodd;stroke:#0000FF;stroke-width:2.0px;stroke-linecap:butt;stroke-linejoin:miter;stroke-opacity:1\"/>\n",
       "<path class=\"bond-0 atom-0 atom-2\" d=\"M 227.0,123.8 L 249.2,142.8\" style=\"fill:none;fill-rule:evenodd;stroke:#000000;stroke-width:2.0px;stroke-linecap:butt;stroke-linejoin:miter;stroke-opacity:1\"/>\n",
       "<path class=\"bond-1 atom-0 atom-10\" d=\"M 178.8,106.9 L 168.4,117.6\" style=\"fill:none;fill-rule:evenodd;stroke:#0000FF;stroke-width:2.0px;stroke-linecap:butt;stroke-linejoin:miter;stroke-opacity:1\"/>\n",
       "<path class=\"bond-1 atom-0 atom-10\" d=\"M 168.4,117.6 L 157.9,128.3\" style=\"fill:none;fill-rule:evenodd;stroke:#000000;stroke-width:2.0px;stroke-linecap:butt;stroke-linejoin:miter;stroke-opacity:1\"/>\n",
       "<path class=\"bond-2 atom-0 atom-11\" d=\"M 178.8,90.8 L 159.1,86.5\" style=\"fill:none;fill-rule:evenodd;stroke:#0000FF;stroke-width:2.0px;stroke-linecap:butt;stroke-linejoin:miter;stroke-opacity:1\"/>\n",
       "<path class=\"bond-2 atom-0 atom-11\" d=\"M 159.1,86.5 L 139.4,82.2\" style=\"fill:none;fill-rule:evenodd;stroke:#000000;stroke-width:2.0px;stroke-linecap:butt;stroke-linejoin:miter;stroke-opacity:1\"/>\n",
       "<path class=\"bond-3 atom-0 atom-12\" d=\"M 195.0,77.3 L 198.3,60.8\" style=\"fill:none;fill-rule:evenodd;stroke:#0000FF;stroke-width:2.0px;stroke-linecap:butt;stroke-linejoin:miter;stroke-opacity:1\"/>\n",
       "<path class=\"bond-3 atom-0 atom-12\" d=\"M 198.3,60.8 L 201.6,44.3\" style=\"fill:none;fill-rule:evenodd;stroke:#000000;stroke-width:2.0px;stroke-linecap:butt;stroke-linejoin:miter;stroke-opacity:1\"/>\n",
       "<path class=\"bond-4 atom-1 atom-2\" d=\"M 269.1,206.9 L 249.2,142.8\" style=\"fill:none;fill-rule:evenodd;stroke:#000000;stroke-width:2.0px;stroke-linecap:butt;stroke-linejoin:miter;stroke-opacity:1\"/>\n",
       "<path class=\"bond-5 atom-1 atom-6\" d=\"M 269.1,206.9 L 216.9,221.3\" style=\"fill:none;fill-rule:evenodd;stroke:#000000;stroke-width:2.0px;stroke-linecap:butt;stroke-linejoin:miter;stroke-opacity:1\"/>\n",
       "<path class=\"bond-6 atom-1 atom-7\" d=\"M 269.1,206.9 L 255.6,255.7\" style=\"fill:none;fill-rule:evenodd;stroke:#000000;stroke-width:2.0px;stroke-linecap:butt;stroke-linejoin:miter;stroke-opacity:1\"/>\n",
       "<path class=\"bond-7 atom-1 atom-8\" d=\"M 269.1,206.9 L 320.3,220.4\" style=\"fill:none;fill-rule:evenodd;stroke:#000000;stroke-width:2.0px;stroke-linecap:butt;stroke-linejoin:miter;stroke-opacity:1\"/>\n",
       "<path class=\"bond-8 atom-2 atom-3\" d=\"M 249.2,142.8 L 292.6,93.2\" style=\"fill:none;fill-rule:evenodd;stroke:#000000;stroke-width:2.0px;stroke-linecap:butt;stroke-linejoin:miter;stroke-opacity:1\"/>\n",
       "<path class=\"bond-9 atom-2 atom-9\" d=\"M 249.2,142.8 L 212.8,164.7 L 208.7,155.5 Z\" style=\"fill:#000000;fill-rule:evenodd;fill-opacity:1;stroke:#000000;stroke-width:0.5px;stroke-linecap:butt;stroke-linejoin:miter;stroke-opacity:1;\"/>\n",
       "<path class=\"bond-10 atom-3 atom-4\" d=\"M 298.4,94.3 L 289.8,69.8\" style=\"fill:none;fill-rule:evenodd;stroke:#000000;stroke-width:2.0px;stroke-linecap:butt;stroke-linejoin:miter;stroke-opacity:1\"/>\n",
       "<path class=\"bond-10 atom-3 atom-4\" d=\"M 289.8,69.8 L 281.2,45.2\" style=\"fill:none;fill-rule:evenodd;stroke:#FF0000;stroke-width:2.0px;stroke-linecap:butt;stroke-linejoin:miter;stroke-opacity:1\"/>\n",
       "<path class=\"bond-10 atom-3 atom-4\" d=\"M 288.8,97.6 L 280.3,73.0\" style=\"fill:none;fill-rule:evenodd;stroke:#000000;stroke-width:2.0px;stroke-linecap:butt;stroke-linejoin:miter;stroke-opacity:1\"/>\n",
       "<path class=\"bond-10 atom-3 atom-4\" d=\"M 280.3,73.0 L 271.7,48.5\" style=\"fill:none;fill-rule:evenodd;stroke:#FF0000;stroke-width:2.0px;stroke-linecap:butt;stroke-linejoin:miter;stroke-opacity:1\"/>\n",
       "<path class=\"bond-11 atom-3 atom-5\" d=\"M 292.6,93.2 L 317.8,98.2\" style=\"fill:none;fill-rule:evenodd;stroke:#000000;stroke-width:2.0px;stroke-linecap:butt;stroke-linejoin:miter;stroke-opacity:1\"/>\n",
       "<path class=\"bond-11 atom-3 atom-5\" d=\"M 317.8,98.2 L 343.0,103.2\" style=\"fill:none;fill-rule:evenodd;stroke:#FF0000;stroke-width:2.0px;stroke-linecap:butt;stroke-linejoin:miter;stroke-opacity:1\"/>\n",
       "<path d=\"M 290.5,95.7 L 292.6,93.2 L 293.9,93.5\" style=\"fill:none;stroke:#000000;stroke-width:2.0px;stroke-linecap:butt;stroke-linejoin:miter;stroke-opacity:1;\"/>\n",
       "<path class=\"atom-0\" d=\"M 185.5 79.5 L 194.8 94.5 Q 195.7 96.0, 197.2 98.7 Q 198.7 101.4, 198.8 101.5 L 198.8 79.5 L 202.5 79.5 L 202.5 107.9 L 198.6 107.9 L 188.7 91.5 Q 187.5 89.5, 186.3 87.3 Q 185.1 85.1, 184.7 84.5 L 184.7 107.9 L 181.0 107.9 L 181.0 79.5 L 185.5 79.5 \" fill=\"#0000FF\"/>\n",
       "<path class=\"atom-0\" d=\"M 207.8 84.6 L 212.8 84.6 L 212.8 79.4 L 215.1 79.4 L 215.1 84.6 L 220.2 84.6 L 220.2 86.5 L 215.1 86.5 L 215.1 91.8 L 212.8 91.8 L 212.8 86.5 L 207.8 86.5 L 207.8 84.6 \" fill=\"#0000FF\"/>\n",
       "<path class=\"atom-4\" d=\"M 257.6 30.0 Q 257.6 23.2, 260.9 19.4 Q 264.3 15.6, 270.6 15.6 Q 276.8 15.6, 280.2 19.4 Q 283.6 23.2, 283.6 30.0 Q 283.6 36.8, 280.2 40.8 Q 276.8 44.6, 270.6 44.6 Q 264.3 44.6, 260.9 40.8 Q 257.6 36.9, 257.6 30.0 M 270.6 41.4 Q 274.9 41.4, 277.2 38.6 Q 279.6 35.6, 279.6 30.0 Q 279.6 24.4, 277.2 21.6 Q 274.9 18.8, 270.6 18.8 Q 266.2 18.8, 263.9 21.6 Q 261.6 24.4, 261.6 30.0 Q 261.6 35.7, 263.9 38.6 Q 266.2 41.4, 270.6 41.4 \" fill=\"#FF0000\"/>\n",
       "<path class=\"atom-5\" d=\"M 345.2 106.3 Q 345.2 99.5, 348.6 95.7 Q 351.9 91.9, 358.2 91.9 Q 364.5 91.9, 367.9 95.7 Q 371.2 99.5, 371.2 106.3 Q 371.2 113.2, 367.8 117.1 Q 364.4 121.0, 358.2 121.0 Q 352.0 121.0, 348.6 117.1 Q 345.2 113.2, 345.2 106.3 M 358.2 117.8 Q 362.5 117.8, 364.9 114.9 Q 367.2 112.0, 367.2 106.3 Q 367.2 100.7, 364.9 97.9 Q 362.5 95.1, 358.2 95.1 Q 353.9 95.1, 351.5 97.9 Q 349.2 100.7, 349.2 106.3 Q 349.2 112.0, 351.5 114.9 Q 353.9 117.8, 358.2 117.8 \" fill=\"#FF0000\"/>\n",
       "<path class=\"atom-5\" d=\"M 375.3 96.5 L 384.9 96.5 L 384.9 98.6 L 375.3 98.6 L 375.3 96.5 \" fill=\"#FF0000\"/>\n",
       "<path class=\"atom-6\" d=\"M 192.6 210.8 L 196.4 210.8 L 196.4 222.9 L 210.9 222.9 L 210.9 210.8 L 214.7 210.8 L 214.7 239.2 L 210.9 239.2 L 210.9 226.1 L 196.4 226.1 L 196.4 239.2 L 192.6 239.2 L 192.6 210.8 \" fill=\"#000000\"/>\n",
       "<path class=\"atom-7\" d=\"M 240.0 257.9 L 243.8 257.9 L 243.8 270.0 L 258.3 270.0 L 258.3 257.9 L 262.2 257.9 L 262.2 286.2 L 258.3 286.2 L 258.3 273.2 L 243.8 273.2 L 243.8 286.2 L 240.0 286.2 L 240.0 257.9 \" fill=\"#000000\"/>\n",
       "<path class=\"atom-8\" d=\"M 322.5 209.8 L 326.4 209.8 L 326.4 221.8 L 340.8 221.8 L 340.8 209.8 L 344.7 209.8 L 344.7 238.1 L 340.8 238.1 L 340.8 225.0 L 326.4 225.0 L 326.4 238.1 L 322.5 238.1 L 322.5 209.8 \" fill=\"#000000\"/>\n",
       "<path class=\"atom-9\" d=\"M 184.2 153.0 L 188.0 153.0 L 188.0 165.0 L 202.5 165.0 L 202.5 153.0 L 206.3 153.0 L 206.3 181.3 L 202.5 181.3 L 202.5 168.2 L 188.0 168.2 L 188.0 181.3 L 184.2 181.3 L 184.2 153.0 \" fill=\"#000000\"/>\n",
       "<path class=\"atom-10\" d=\"M 133.5 127.7 L 137.4 127.7 L 137.4 139.8 L 151.9 139.8 L 151.9 127.7 L 155.7 127.7 L 155.7 156.0 L 151.9 156.0 L 151.9 143.0 L 137.4 143.0 L 137.4 156.0 L 133.5 156.0 L 133.5 127.7 \" fill=\"#000000\"/>\n",
       "<path class=\"atom-11\" d=\"M 115.1 65.1 L 118.9 65.1 L 118.9 77.1 L 133.4 77.1 L 133.4 65.1 L 137.2 65.1 L 137.2 93.4 L 133.4 93.4 L 133.4 80.3 L 118.9 80.3 L 118.9 93.4 L 115.1 93.4 L 115.1 65.1 \" fill=\"#000000\"/>\n",
       "<path class=\"atom-12\" d=\"M 193.8 13.8 L 197.6 13.8 L 197.6 25.8 L 212.1 25.8 L 212.1 13.8 L 215.9 13.8 L 215.9 42.1 L 212.1 42.1 L 212.1 29.0 L 197.6 29.0 L 197.6 42.1 L 193.8 42.1 L 193.8 13.8 \" fill=\"#000000\"/>\n",
       "</svg>"
      ],
      "text/plain": [
       "<IPython.core.display.SVG object>"
      ]
     },
     "execution_count": 19,
     "metadata": {},
     "output_type": "execute_result"
    }
   ],
   "source": [
    "from mdtraj import load_pdb\n",
    "\n",
    "mdtraj_topology = load_pdb('zw_l_alanine.pdb').topology\n",
    "openff_topology = Topology.from_openmm(openmm_topology, unique_molecules=[zw_l_alanine])\n",
    "\n",
    "from_mdtraj_topology = openff_topology.molecule(0)\n",
    "\n",
    "assert zw_l_alanine.is_isomorphic_with(from_mdtraj_topology)\n",
    "\n",
    "from_mdtraj_topology.visualize()"
   ]
  },
  {
   "cell_type": "markdown",
   "id": "29c39bd1",
   "metadata": {},
   "source": [
    "## From Toolkit objects\n",
    "\n",
    "The OpenFF Toolkit calls out to other software to perform low-level tasks like reading SMILES or files. These external software packages are called toolkits, and presently include [RDKit](https://www.rdkit.org/) and the [OpenEye Toolkit](https://www.eyesopen.com/toolkit-development). OpenFF `Molecule` objects can be created from the equivalent objects in these toolkits."
   ]
  },
  {
   "cell_type": "markdown",
   "id": "c6f2af84",
   "metadata": {},
   "source": [
    "### From RDKit `Mol`\n",
    "\n",
    "The [`Molecule.from_rdkit()`](openff.toolkit.topology.Molecule.from_rdkit) method converts an [`rdkit.Chem.rdchem.Mol`](rdkit.Chem.rdchem.Mol) object to an OpenFF `Molecule`."
   ]
  },
  {
   "cell_type": "code",
   "execution_count": 20,
   "id": "fae232e6",
   "metadata": {},
   "outputs": [
    {
     "name": "stdout",
     "output_type": "stream",
     "text": [
      "rdmol is of type <class 'rdkit.Chem.rdchem.Mol'>\n"
     ]
    },
    {
     "data": {
      "image/svg+xml": [
       "<svg xmlns=\"http://www.w3.org/2000/svg\" xmlns:rdkit=\"http://www.rdkit.org/xml\" xmlns:xlink=\"http://www.w3.org/1999/xlink\" version=\"1.1\" baseProfile=\"full\" xml:space=\"preserve\" width=\"500px\" height=\"300px\" viewBox=\"0 0 500 300\">\n",
       "<!-- END OF HEADER -->\n",
       "<rect style=\"opacity:1.0;fill:#FFFFFF;stroke:none\" width=\"500.0\" height=\"300.0\" x=\"0.0\" y=\"0.0\"> </rect>\n",
       "<path class=\"bond-0 atom-0 atom-1\" d=\"M 276.5,80.1 L 256.1,148.4\" style=\"fill:none;fill-rule:evenodd;stroke:#000000;stroke-width:2.0px;stroke-linecap:butt;stroke-linejoin:miter;stroke-opacity:1\"/>\n",
       "<path class=\"bond-1 atom-1 atom-2\" d=\"M 256.1,148.4 L 235.3,166.5\" style=\"fill:none;fill-rule:evenodd;stroke:#000000;stroke-width:2.0px;stroke-linecap:butt;stroke-linejoin:miter;stroke-opacity:1\"/>\n",
       "<path class=\"bond-1 atom-1 atom-2\" d=\"M 235.3,166.5 L 214.5,184.6\" style=\"fill:none;fill-rule:evenodd;stroke:#0000FF;stroke-width:2.0px;stroke-linecap:butt;stroke-linejoin:miter;stroke-opacity:1\"/>\n",
       "<path class=\"bond-2 atom-1 atom-3\" d=\"M 256.1,148.4 L 302.8,200.7\" style=\"fill:none;fill-rule:evenodd;stroke:#000000;stroke-width:2.0px;stroke-linecap:butt;stroke-linejoin:miter;stroke-opacity:1\"/>\n",
       "<path class=\"bond-3 atom-3 atom-4\" d=\"M 302.8,200.7 L 294.2,226.3\" style=\"fill:none;fill-rule:evenodd;stroke:#000000;stroke-width:2.0px;stroke-linecap:butt;stroke-linejoin:miter;stroke-opacity:1\"/>\n",
       "<path class=\"bond-3 atom-3 atom-4\" d=\"M 294.2,226.3 L 285.6,251.8\" style=\"fill:none;fill-rule:evenodd;stroke:#FF0000;stroke-width:2.0px;stroke-linecap:butt;stroke-linejoin:miter;stroke-opacity:1\"/>\n",
       "<path class=\"bond-4 atom-3 atom-5\" d=\"M 300.8,206.6 L 329.5,200.6\" style=\"fill:none;fill-rule:evenodd;stroke:#000000;stroke-width:2.0px;stroke-linecap:butt;stroke-linejoin:miter;stroke-opacity:1\"/>\n",
       "<path class=\"bond-4 atom-3 atom-5\" d=\"M 329.5,200.6 L 358.2,194.6\" style=\"fill:none;fill-rule:evenodd;stroke:#FF0000;stroke-width:2.0px;stroke-linecap:butt;stroke-linejoin:miter;stroke-opacity:1\"/>\n",
       "<path class=\"bond-4 atom-3 atom-5\" d=\"M 298.7,196.1 L 327.3,190.1\" style=\"fill:none;fill-rule:evenodd;stroke:#000000;stroke-width:2.0px;stroke-linecap:butt;stroke-linejoin:miter;stroke-opacity:1\"/>\n",
       "<path class=\"bond-4 atom-3 atom-5\" d=\"M 327.3,190.1 L 356.0,184.1\" style=\"fill:none;fill-rule:evenodd;stroke:#FF0000;stroke-width:2.0px;stroke-linecap:butt;stroke-linejoin:miter;stroke-opacity:1\"/>\n",
       "<path class=\"bond-5 atom-0 atom-6\" d=\"M 276.5,80.1 L 331.6,94.8\" style=\"fill:none;fill-rule:evenodd;stroke:#000000;stroke-width:2.0px;stroke-linecap:butt;stroke-linejoin:miter;stroke-opacity:1\"/>\n",
       "<path class=\"bond-6 atom-0 atom-7\" d=\"M 276.5,80.1 L 312.5,42.8\" style=\"fill:none;fill-rule:evenodd;stroke:#000000;stroke-width:2.0px;stroke-linecap:butt;stroke-linejoin:miter;stroke-opacity:1\"/>\n",
       "<path class=\"bond-7 atom-0 atom-8\" d=\"M 276.5,80.1 L 238.5,42.7\" style=\"fill:none;fill-rule:evenodd;stroke:#000000;stroke-width:2.0px;stroke-linecap:butt;stroke-linejoin:miter;stroke-opacity:1\"/>\n",
       "<path class=\"bond-8 atom-1 atom-9\" d=\"M 252.7,147.4 L 253.0,146.6\" style=\"fill:none;fill-rule:evenodd;stroke:#000000;stroke-width:1.0px;stroke-linecap:butt;stroke-linejoin:miter;stroke-opacity:1\"/>\n",
       "<path class=\"bond-8 atom-1 atom-9\" d=\"M 249.3,146.3 L 250.0,144.8\" style=\"fill:none;fill-rule:evenodd;stroke:#000000;stroke-width:1.0px;stroke-linecap:butt;stroke-linejoin:miter;stroke-opacity:1\"/>\n",
       "<path class=\"bond-8 atom-1 atom-9\" d=\"M 245.9,145.3 L 246.9,143.0\" style=\"fill:none;fill-rule:evenodd;stroke:#000000;stroke-width:1.0px;stroke-linecap:butt;stroke-linejoin:miter;stroke-opacity:1\"/>\n",
       "<path class=\"bond-8 atom-1 atom-9\" d=\"M 242.5,144.3 L 243.9,141.2\" style=\"fill:none;fill-rule:evenodd;stroke:#000000;stroke-width:1.0px;stroke-linecap:butt;stroke-linejoin:miter;stroke-opacity:1\"/>\n",
       "<path class=\"bond-8 atom-1 atom-9\" d=\"M 239.2,143.2 L 240.8,139.4\" style=\"fill:none;fill-rule:evenodd;stroke:#000000;stroke-width:1.0px;stroke-linecap:butt;stroke-linejoin:miter;stroke-opacity:1\"/>\n",
       "<path class=\"bond-8 atom-1 atom-9\" d=\"M 235.8,142.2 L 237.8,137.7\" style=\"fill:none;fill-rule:evenodd;stroke:#000000;stroke-width:1.0px;stroke-linecap:butt;stroke-linejoin:miter;stroke-opacity:1\"/>\n",
       "<path class=\"bond-8 atom-1 atom-9\" d=\"M 232.4,141.1 L 234.7,135.9\" style=\"fill:none;fill-rule:evenodd;stroke:#000000;stroke-width:1.0px;stroke-linecap:butt;stroke-linejoin:miter;stroke-opacity:1\"/>\n",
       "<path class=\"bond-8 atom-1 atom-9\" d=\"M 229.0,140.1 L 231.6,134.1\" style=\"fill:none;fill-rule:evenodd;stroke:#000000;stroke-width:1.0px;stroke-linecap:butt;stroke-linejoin:miter;stroke-opacity:1\"/>\n",
       "<path class=\"bond-8 atom-1 atom-9\" d=\"M 225.6,139.1 L 228.6,132.3\" style=\"fill:none;fill-rule:evenodd;stroke:#000000;stroke-width:1.0px;stroke-linecap:butt;stroke-linejoin:miter;stroke-opacity:1\"/>\n",
       "<path class=\"bond-8 atom-1 atom-9\" d=\"M 222.2,138.0 L 225.5,130.5\" style=\"fill:none;fill-rule:evenodd;stroke:#000000;stroke-width:1.0px;stroke-linecap:butt;stroke-linejoin:miter;stroke-opacity:1\"/>\n",
       "<path class=\"bond-8 atom-1 atom-9\" d=\"M 218.8,137.0 L 222.5,128.7\" style=\"fill:none;fill-rule:evenodd;stroke:#000000;stroke-width:1.0px;stroke-linecap:butt;stroke-linejoin:miter;stroke-opacity:1\"/>\n",
       "<path class=\"bond-8 atom-1 atom-9\" d=\"M 215.5,135.9 L 219.4,126.9\" style=\"fill:none;fill-rule:evenodd;stroke:#000000;stroke-width:1.0px;stroke-linecap:butt;stroke-linejoin:miter;stroke-opacity:1\"/>\n",
       "<path class=\"bond-8 atom-1 atom-9\" d=\"M 212.1,134.9 L 216.4,125.1\" style=\"fill:none;fill-rule:evenodd;stroke:#000000;stroke-width:1.0px;stroke-linecap:butt;stroke-linejoin:miter;stroke-opacity:1\"/>\n",
       "<path class=\"bond-9 atom-2 atom-10\" d=\"M 182.3,188.1 L 170.2,176.0\" style=\"fill:none;fill-rule:evenodd;stroke:#0000FF;stroke-width:2.0px;stroke-linecap:butt;stroke-linejoin:miter;stroke-opacity:1\"/>\n",
       "<path class=\"bond-9 atom-2 atom-10\" d=\"M 170.2,176.0 L 158.2,163.9\" style=\"fill:none;fill-rule:evenodd;stroke:#000000;stroke-width:2.0px;stroke-linecap:butt;stroke-linejoin:miter;stroke-opacity:1\"/>\n",
       "<path class=\"bond-10 atom-2 atom-11\" d=\"M 182.3,204.3 L 160.7,209.2\" style=\"fill:none;fill-rule:evenodd;stroke:#0000FF;stroke-width:2.0px;stroke-linecap:butt;stroke-linejoin:miter;stroke-opacity:1\"/>\n",
       "<path class=\"bond-10 atom-2 atom-11\" d=\"M 160.7,209.2 L 139.1,214.2\" style=\"fill:none;fill-rule:evenodd;stroke:#000000;stroke-width:2.0px;stroke-linecap:butt;stroke-linejoin:miter;stroke-opacity:1\"/>\n",
       "<path class=\"bond-11 atom-2 atom-12\" d=\"M 198.8,217.8 L 202.6,236.2\" style=\"fill:none;fill-rule:evenodd;stroke:#0000FF;stroke-width:2.0px;stroke-linecap:butt;stroke-linejoin:miter;stroke-opacity:1\"/>\n",
       "<path class=\"bond-11 atom-2 atom-12\" d=\"M 202.6,236.2 L 206.5,254.6\" style=\"fill:none;fill-rule:evenodd;stroke:#000000;stroke-width:2.0px;stroke-linecap:butt;stroke-linejoin:miter;stroke-opacity:1\"/>\n",
       "<path d=\"M 300.4,198.1 L 302.8,200.7 L 302.3,202.0\" style=\"fill:none;stroke:#000000;stroke-width:2.0px;stroke-linecap:butt;stroke-linejoin:miter;stroke-opacity:1;\"/>\n",
       "<path class=\"atom-2\" d=\"M 189.1 187.1 L 198.4 202.1 Q 199.3 203.6, 200.8 206.2 Q 202.3 208.9, 202.4 209.1 L 202.4 187.1 L 206.1 187.1 L 206.1 215.4 L 202.2 215.4 L 192.3 199.0 Q 191.1 197.1, 189.9 194.9 Q 188.7 192.7, 188.3 192.0 L 188.3 215.4 L 184.6 215.4 L 184.6 187.1 L 189.1 187.1 \" fill=\"#0000FF\"/>\n",
       "<path class=\"atom-2\" d=\"M 211.4 192.2 L 216.4 192.2 L 216.4 186.9 L 218.6 186.9 L 218.6 192.2 L 223.8 192.2 L 223.8 194.1 L 218.6 194.1 L 218.6 199.4 L 216.4 199.4 L 216.4 194.1 L 211.4 194.1 L 211.4 192.2 \" fill=\"#0000FF\"/>\n",
       "<path class=\"atom-4\" d=\"M 267.0 268.5 Q 267.0 261.7, 270.4 257.9 Q 273.7 254.1, 280.0 254.1 Q 286.3 254.1, 289.6 257.9 Q 293.0 261.7, 293.0 268.5 Q 293.0 275.4, 289.6 279.3 Q 286.2 283.2, 280.0 283.2 Q 273.8 283.2, 270.4 279.3 Q 267.0 275.4, 267.0 268.5 M 280.0 280.0 Q 284.3 280.0, 286.6 277.1 Q 289.0 274.2, 289.0 268.5 Q 289.0 263.0, 286.6 260.2 Q 284.3 257.3, 280.0 257.3 Q 275.7 257.3, 273.3 260.1 Q 271.0 262.9, 271.0 268.5 Q 271.0 274.2, 273.3 277.1 Q 275.7 280.0, 280.0 280.0 \" fill=\"#FF0000\"/>\n",
       "<path class=\"atom-4\" d=\"M 297.0 258.7 L 306.7 258.7 L 306.7 260.8 L 297.0 260.8 L 297.0 258.7 \" fill=\"#FF0000\"/>\n",
       "<path class=\"atom-5\" d=\"M 359.5 186.3 Q 359.5 179.5, 362.8 175.7 Q 366.2 171.9, 372.5 171.9 Q 378.7 171.9, 382.1 175.7 Q 385.5 179.5, 385.5 186.3 Q 385.5 193.1, 382.1 197.1 Q 378.7 200.9, 372.5 200.9 Q 366.2 200.9, 362.8 197.1 Q 359.5 193.2, 359.5 186.3 M 372.5 197.7 Q 376.8 197.7, 379.1 194.9 Q 381.5 191.9, 381.5 186.3 Q 381.5 180.7, 379.1 177.9 Q 376.8 175.1, 372.5 175.1 Q 368.1 175.1, 365.8 177.9 Q 363.5 180.7, 363.5 186.3 Q 363.5 192.0, 365.8 194.9 Q 368.1 197.7, 372.5 197.7 \" fill=\"#FF0000\"/>\n",
       "<path class=\"atom-6\" d=\"M 334.0 84.2 L 337.8 84.2 L 337.8 96.2 L 352.3 96.2 L 352.3 84.2 L 356.1 84.2 L 356.1 112.5 L 352.3 112.5 L 352.3 99.4 L 337.8 99.4 L 337.8 112.5 L 334.0 112.5 L 334.0 84.2 \" fill=\"#000000\"/>\n",
       "<path class=\"atom-7\" d=\"M 314.9 14.7 L 318.7 14.7 L 318.7 26.7 L 333.2 26.7 L 333.2 14.7 L 337.0 14.7 L 337.0 43.0 L 333.2 43.0 L 333.2 29.9 L 318.7 29.9 L 318.7 43.0 L 314.9 43.0 L 314.9 14.7 \" fill=\"#000000\"/>\n",
       "<path class=\"atom-8\" d=\"M 214.0 15.3 L 217.8 15.3 L 217.8 27.3 L 232.3 27.3 L 232.3 15.3 L 236.2 15.3 L 236.2 43.6 L 232.3 43.6 L 232.3 30.5 L 217.8 30.5 L 217.8 43.6 L 214.0 43.6 L 214.0 15.3 \" fill=\"#000000\"/>\n",
       "<path class=\"atom-9\" d=\"M 187.4 108.9 L 191.2 108.9 L 191.2 120.9 L 205.7 120.9 L 205.7 108.9 L 209.5 108.9 L 209.5 137.2 L 205.7 137.2 L 205.7 124.1 L 191.2 124.1 L 191.2 137.2 L 187.4 137.2 L 187.4 108.9 \" fill=\"#000000\"/>\n",
       "<path class=\"atom-10\" d=\"M 133.7 136.2 L 137.5 136.2 L 137.5 148.3 L 152.0 148.3 L 152.0 136.2 L 155.8 136.2 L 155.8 164.5 L 152.0 164.5 L 152.0 151.5 L 137.5 151.5 L 137.5 164.5 L 133.7 164.5 L 133.7 136.2 \" fill=\"#000000\"/>\n",
       "<path class=\"atom-11\" d=\"M 114.5 203.1 L 118.4 203.1 L 118.4 215.1 L 132.9 215.1 L 132.9 203.1 L 136.7 203.1 L 136.7 231.4 L 132.9 231.4 L 132.9 218.3 L 118.4 218.3 L 118.4 231.4 L 114.5 231.4 L 114.5 203.1 \" fill=\"#000000\"/>\n",
       "<path class=\"atom-12\" d=\"M 198.8 257.0 L 202.7 257.0 L 202.7 269.0 L 217.2 269.0 L 217.2 257.0 L 221.0 257.0 L 221.0 285.3 L 217.2 285.3 L 217.2 272.2 L 202.7 272.2 L 202.7 285.3 L 198.8 285.3 L 198.8 257.0 \" fill=\"#000000\"/>\n",
       "</svg>"
      ],
      "text/plain": [
       "<IPython.core.display.SVG object>"
      ]
     },
     "execution_count": 20,
     "metadata": {},
     "output_type": "execute_result"
    }
   ],
   "source": [
    "from rdkit import Chem\n",
    "rdmol = Chem.MolFromSmiles(\"C[C@H]([NH3+])C([O-])=O\")\n",
    "\n",
    "print(\"rdmol is of type\", type(rdmol))\n",
    "\n",
    "from_rdmol = Molecule.from_rdkit(rdmol)\n",
    "\n",
    "assert zw_l_alanine.is_isomorphic_with(from_rdmol)\n",
    "from_rdmol.visualize()"
   ]
  },
  {
   "cell_type": "markdown",
   "id": "6fe44fac",
   "metadata": {},
   "source": [
    "### From OpenEye `OEMol`\n",
    "\n",
    "The [`Molecule.from_openeye()`](openff.toolkit.topology.Molecule.from_rdkit) method converts an object that inherits from [`openeye.oechem.OEMolBase`](https://docs.eyesopen.com/toolkits/python/oechemtk/OEChemClasses/OEMolBase.html) to an OpenFF `Molecule`."
   ]
  },
  {
   "cell_type": "code",
   "execution_count": 21,
   "id": "c186257f",
   "metadata": {},
   "outputs": [
    {
     "data": {
      "image/svg+xml": [
       "<svg xmlns=\"http://www.w3.org/2000/svg\" xmlns:rdkit=\"http://www.rdkit.org/xml\" xmlns:xlink=\"http://www.w3.org/1999/xlink\" version=\"1.1\" baseProfile=\"full\" xml:space=\"preserve\" width=\"500px\" height=\"300px\" viewBox=\"0 0 500 300\">\n",
       "<!-- END OF HEADER -->\n",
       "<rect style=\"opacity:1.0;fill:#FFFFFF;stroke:none\" width=\"500.0\" height=\"300.0\" x=\"0.0\" y=\"0.0\"> </rect>\n",
       "<path class=\"bond-0 atom-0 atom-1\" d=\"M 276.5,80.1 L 256.1,148.4\" style=\"fill:none;fill-rule:evenodd;stroke:#000000;stroke-width:2.0px;stroke-linecap:butt;stroke-linejoin:miter;stroke-opacity:1\"/>\n",
       "<path class=\"bond-1 atom-1 atom-2\" d=\"M 252.7,147.4 L 253.0,146.6\" style=\"fill:none;fill-rule:evenodd;stroke:#000000;stroke-width:1.0px;stroke-linecap:butt;stroke-linejoin:miter;stroke-opacity:1\"/>\n",
       "<path class=\"bond-1 atom-1 atom-2\" d=\"M 249.3,146.3 L 250.0,144.8\" style=\"fill:none;fill-rule:evenodd;stroke:#000000;stroke-width:1.0px;stroke-linecap:butt;stroke-linejoin:miter;stroke-opacity:1\"/>\n",
       "<path class=\"bond-1 atom-1 atom-2\" d=\"M 245.9,145.3 L 246.9,143.0\" style=\"fill:none;fill-rule:evenodd;stroke:#000000;stroke-width:1.0px;stroke-linecap:butt;stroke-linejoin:miter;stroke-opacity:1\"/>\n",
       "<path class=\"bond-1 atom-1 atom-2\" d=\"M 242.5,144.3 L 243.9,141.2\" style=\"fill:none;fill-rule:evenodd;stroke:#000000;stroke-width:1.0px;stroke-linecap:butt;stroke-linejoin:miter;stroke-opacity:1\"/>\n",
       "<path class=\"bond-1 atom-1 atom-2\" d=\"M 239.2,143.2 L 240.8,139.4\" style=\"fill:none;fill-rule:evenodd;stroke:#000000;stroke-width:1.0px;stroke-linecap:butt;stroke-linejoin:miter;stroke-opacity:1\"/>\n",
       "<path class=\"bond-1 atom-1 atom-2\" d=\"M 235.8,142.2 L 237.8,137.7\" style=\"fill:none;fill-rule:evenodd;stroke:#000000;stroke-width:1.0px;stroke-linecap:butt;stroke-linejoin:miter;stroke-opacity:1\"/>\n",
       "<path class=\"bond-1 atom-1 atom-2\" d=\"M 232.4,141.1 L 234.7,135.9\" style=\"fill:none;fill-rule:evenodd;stroke:#000000;stroke-width:1.0px;stroke-linecap:butt;stroke-linejoin:miter;stroke-opacity:1\"/>\n",
       "<path class=\"bond-1 atom-1 atom-2\" d=\"M 229.0,140.1 L 231.6,134.1\" style=\"fill:none;fill-rule:evenodd;stroke:#000000;stroke-width:1.0px;stroke-linecap:butt;stroke-linejoin:miter;stroke-opacity:1\"/>\n",
       "<path class=\"bond-1 atom-1 atom-2\" d=\"M 225.6,139.1 L 228.6,132.3\" style=\"fill:none;fill-rule:evenodd;stroke:#000000;stroke-width:1.0px;stroke-linecap:butt;stroke-linejoin:miter;stroke-opacity:1\"/>\n",
       "<path class=\"bond-1 atom-1 atom-2\" d=\"M 222.2,138.0 L 225.5,130.5\" style=\"fill:none;fill-rule:evenodd;stroke:#000000;stroke-width:1.0px;stroke-linecap:butt;stroke-linejoin:miter;stroke-opacity:1\"/>\n",
       "<path class=\"bond-1 atom-1 atom-2\" d=\"M 218.8,137.0 L 222.5,128.7\" style=\"fill:none;fill-rule:evenodd;stroke:#000000;stroke-width:1.0px;stroke-linecap:butt;stroke-linejoin:miter;stroke-opacity:1\"/>\n",
       "<path class=\"bond-1 atom-1 atom-2\" d=\"M 215.5,135.9 L 219.4,126.9\" style=\"fill:none;fill-rule:evenodd;stroke:#000000;stroke-width:1.0px;stroke-linecap:butt;stroke-linejoin:miter;stroke-opacity:1\"/>\n",
       "<path class=\"bond-1 atom-1 atom-2\" d=\"M 212.1,134.9 L 216.4,125.1\" style=\"fill:none;fill-rule:evenodd;stroke:#000000;stroke-width:1.0px;stroke-linecap:butt;stroke-linejoin:miter;stroke-opacity:1\"/>\n",
       "<path class=\"bond-2 atom-1 atom-3\" d=\"M 256.1,148.4 L 235.3,166.5\" style=\"fill:none;fill-rule:evenodd;stroke:#000000;stroke-width:2.0px;stroke-linecap:butt;stroke-linejoin:miter;stroke-opacity:1\"/>\n",
       "<path class=\"bond-2 atom-1 atom-3\" d=\"M 235.3,166.5 L 214.5,184.6\" style=\"fill:none;fill-rule:evenodd;stroke:#0000FF;stroke-width:2.0px;stroke-linecap:butt;stroke-linejoin:miter;stroke-opacity:1\"/>\n",
       "<path class=\"bond-3 atom-1 atom-4\" d=\"M 256.1,148.4 L 302.8,200.7\" style=\"fill:none;fill-rule:evenodd;stroke:#000000;stroke-width:2.0px;stroke-linecap:butt;stroke-linejoin:miter;stroke-opacity:1\"/>\n",
       "<path class=\"bond-4 atom-4 atom-5\" d=\"M 302.8,200.7 L 294.2,226.3\" style=\"fill:none;fill-rule:evenodd;stroke:#000000;stroke-width:2.0px;stroke-linecap:butt;stroke-linejoin:miter;stroke-opacity:1\"/>\n",
       "<path class=\"bond-4 atom-4 atom-5\" d=\"M 294.2,226.3 L 285.6,251.8\" style=\"fill:none;fill-rule:evenodd;stroke:#FF0000;stroke-width:2.0px;stroke-linecap:butt;stroke-linejoin:miter;stroke-opacity:1\"/>\n",
       "<path class=\"bond-5 atom-4 atom-6\" d=\"M 300.8,206.6 L 329.5,200.6\" style=\"fill:none;fill-rule:evenodd;stroke:#000000;stroke-width:2.0px;stroke-linecap:butt;stroke-linejoin:miter;stroke-opacity:1\"/>\n",
       "<path class=\"bond-5 atom-4 atom-6\" d=\"M 329.5,200.6 L 358.2,194.6\" style=\"fill:none;fill-rule:evenodd;stroke:#FF0000;stroke-width:2.0px;stroke-linecap:butt;stroke-linejoin:miter;stroke-opacity:1\"/>\n",
       "<path class=\"bond-5 atom-4 atom-6\" d=\"M 298.7,196.1 L 327.3,190.1\" style=\"fill:none;fill-rule:evenodd;stroke:#000000;stroke-width:2.0px;stroke-linecap:butt;stroke-linejoin:miter;stroke-opacity:1\"/>\n",
       "<path class=\"bond-5 atom-4 atom-6\" d=\"M 327.3,190.1 L 356.0,184.1\" style=\"fill:none;fill-rule:evenodd;stroke:#FF0000;stroke-width:2.0px;stroke-linecap:butt;stroke-linejoin:miter;stroke-opacity:1\"/>\n",
       "<path class=\"bond-6 atom-0 atom-7\" d=\"M 276.5,80.1 L 331.6,94.8\" style=\"fill:none;fill-rule:evenodd;stroke:#000000;stroke-width:2.0px;stroke-linecap:butt;stroke-linejoin:miter;stroke-opacity:1\"/>\n",
       "<path class=\"bond-7 atom-0 atom-8\" d=\"M 276.5,80.1 L 312.5,42.8\" style=\"fill:none;fill-rule:evenodd;stroke:#000000;stroke-width:2.0px;stroke-linecap:butt;stroke-linejoin:miter;stroke-opacity:1\"/>\n",
       "<path class=\"bond-8 atom-0 atom-9\" d=\"M 276.5,80.1 L 238.5,42.7\" style=\"fill:none;fill-rule:evenodd;stroke:#000000;stroke-width:2.0px;stroke-linecap:butt;stroke-linejoin:miter;stroke-opacity:1\"/>\n",
       "<path class=\"bond-9 atom-3 atom-10\" d=\"M 182.3,188.1 L 170.2,176.0\" style=\"fill:none;fill-rule:evenodd;stroke:#0000FF;stroke-width:2.0px;stroke-linecap:butt;stroke-linejoin:miter;stroke-opacity:1\"/>\n",
       "<path class=\"bond-9 atom-3 atom-10\" d=\"M 170.2,176.0 L 158.2,163.9\" style=\"fill:none;fill-rule:evenodd;stroke:#000000;stroke-width:2.0px;stroke-linecap:butt;stroke-linejoin:miter;stroke-opacity:1\"/>\n",
       "<path class=\"bond-10 atom-3 atom-11\" d=\"M 182.3,204.3 L 160.7,209.2\" style=\"fill:none;fill-rule:evenodd;stroke:#0000FF;stroke-width:2.0px;stroke-linecap:butt;stroke-linejoin:miter;stroke-opacity:1\"/>\n",
       "<path class=\"bond-10 atom-3 atom-11\" d=\"M 160.7,209.2 L 139.1,214.2\" style=\"fill:none;fill-rule:evenodd;stroke:#000000;stroke-width:2.0px;stroke-linecap:butt;stroke-linejoin:miter;stroke-opacity:1\"/>\n",
       "<path class=\"bond-11 atom-3 atom-12\" d=\"M 198.8,217.8 L 202.6,236.2\" style=\"fill:none;fill-rule:evenodd;stroke:#0000FF;stroke-width:2.0px;stroke-linecap:butt;stroke-linejoin:miter;stroke-opacity:1\"/>\n",
       "<path class=\"bond-11 atom-3 atom-12\" d=\"M 202.6,236.2 L 206.5,254.6\" style=\"fill:none;fill-rule:evenodd;stroke:#000000;stroke-width:2.0px;stroke-linecap:butt;stroke-linejoin:miter;stroke-opacity:1\"/>\n",
       "<path d=\"M 300.4,198.1 L 302.8,200.7 L 302.3,202.0\" style=\"fill:none;stroke:#000000;stroke-width:2.0px;stroke-linecap:butt;stroke-linejoin:miter;stroke-opacity:1;\"/>\n",
       "<path class=\"atom-2\" d=\"M 187.4 108.9 L 191.2 108.9 L 191.2 120.9 L 205.7 120.9 L 205.7 108.9 L 209.5 108.9 L 209.5 137.2 L 205.7 137.2 L 205.7 124.1 L 191.2 124.1 L 191.2 137.2 L 187.4 137.2 L 187.4 108.9 \" fill=\"#000000\"/>\n",
       "<path class=\"atom-3\" d=\"M 189.1 187.1 L 198.4 202.1 Q 199.3 203.6, 200.8 206.2 Q 202.3 208.9, 202.4 209.1 L 202.4 187.1 L 206.1 187.1 L 206.1 215.4 L 202.2 215.4 L 192.3 199.0 Q 191.1 197.1, 189.9 194.9 Q 188.7 192.7, 188.3 192.0 L 188.3 215.4 L 184.6 215.4 L 184.6 187.1 L 189.1 187.1 \" fill=\"#0000FF\"/>\n",
       "<path class=\"atom-3\" d=\"M 211.4 192.2 L 216.4 192.2 L 216.4 186.9 L 218.6 186.9 L 218.6 192.2 L 223.8 192.2 L 223.8 194.1 L 218.6 194.1 L 218.6 199.4 L 216.4 199.4 L 216.4 194.1 L 211.4 194.1 L 211.4 192.2 \" fill=\"#0000FF\"/>\n",
       "<path class=\"atom-5\" d=\"M 267.0 268.5 Q 267.0 261.7, 270.4 257.9 Q 273.7 254.1, 280.0 254.1 Q 286.3 254.1, 289.6 257.9 Q 293.0 261.7, 293.0 268.5 Q 293.0 275.4, 289.6 279.3 Q 286.2 283.2, 280.0 283.2 Q 273.8 283.2, 270.4 279.3 Q 267.0 275.4, 267.0 268.5 M 280.0 280.0 Q 284.3 280.0, 286.6 277.1 Q 289.0 274.2, 289.0 268.5 Q 289.0 263.0, 286.6 260.2 Q 284.3 257.3, 280.0 257.3 Q 275.7 257.3, 273.3 260.1 Q 271.0 262.9, 271.0 268.5 Q 271.0 274.2, 273.3 277.1 Q 275.7 280.0, 280.0 280.0 \" fill=\"#FF0000\"/>\n",
       "<path class=\"atom-5\" d=\"M 297.0 258.7 L 306.7 258.7 L 306.7 260.8 L 297.0 260.8 L 297.0 258.7 \" fill=\"#FF0000\"/>\n",
       "<path class=\"atom-6\" d=\"M 359.5 186.3 Q 359.5 179.5, 362.8 175.7 Q 366.2 171.9, 372.5 171.9 Q 378.7 171.9, 382.1 175.7 Q 385.5 179.5, 385.5 186.3 Q 385.5 193.1, 382.1 197.1 Q 378.7 200.9, 372.5 200.9 Q 366.2 200.9, 362.8 197.1 Q 359.5 193.2, 359.5 186.3 M 372.5 197.7 Q 376.8 197.7, 379.1 194.9 Q 381.5 191.9, 381.5 186.3 Q 381.5 180.7, 379.1 177.9 Q 376.8 175.1, 372.5 175.1 Q 368.1 175.1, 365.8 177.9 Q 363.5 180.7, 363.5 186.3 Q 363.5 192.0, 365.8 194.9 Q 368.1 197.7, 372.5 197.7 \" fill=\"#FF0000\"/>\n",
       "<path class=\"atom-7\" d=\"M 334.0 84.2 L 337.8 84.2 L 337.8 96.2 L 352.3 96.2 L 352.3 84.2 L 356.1 84.2 L 356.1 112.5 L 352.3 112.5 L 352.3 99.4 L 337.8 99.4 L 337.8 112.5 L 334.0 112.5 L 334.0 84.2 \" fill=\"#000000\"/>\n",
       "<path class=\"atom-8\" d=\"M 314.9 14.7 L 318.7 14.7 L 318.7 26.7 L 333.2 26.7 L 333.2 14.7 L 337.0 14.7 L 337.0 43.0 L 333.2 43.0 L 333.2 29.9 L 318.7 29.9 L 318.7 43.0 L 314.9 43.0 L 314.9 14.7 \" fill=\"#000000\"/>\n",
       "<path class=\"atom-9\" d=\"M 214.0 15.3 L 217.8 15.3 L 217.8 27.3 L 232.3 27.3 L 232.3 15.3 L 236.2 15.3 L 236.2 43.6 L 232.3 43.6 L 232.3 30.5 L 217.8 30.5 L 217.8 43.6 L 214.0 43.6 L 214.0 15.3 \" fill=\"#000000\"/>\n",
       "<path class=\"atom-10\" d=\"M 133.7 136.2 L 137.5 136.2 L 137.5 148.3 L 152.0 148.3 L 152.0 136.2 L 155.8 136.2 L 155.8 164.5 L 152.0 164.5 L 152.0 151.5 L 137.5 151.5 L 137.5 164.5 L 133.7 164.5 L 133.7 136.2 \" fill=\"#000000\"/>\n",
       "<path class=\"atom-11\" d=\"M 114.5 203.1 L 118.4 203.1 L 118.4 215.1 L 132.9 215.1 L 132.9 203.1 L 136.7 203.1 L 136.7 231.4 L 132.9 231.4 L 132.9 218.3 L 118.4 218.3 L 118.4 231.4 L 114.5 231.4 L 114.5 203.1 \" fill=\"#000000\"/>\n",
       "<path class=\"atom-12\" d=\"M 198.8 257.0 L 202.7 257.0 L 202.7 269.0 L 217.2 269.0 L 217.2 257.0 L 221.0 257.0 L 221.0 285.3 L 217.2 285.3 L 217.2 272.2 L 202.7 272.2 L 202.7 285.3 L 198.8 285.3 L 198.8 257.0 \" fill=\"#000000\"/>\n",
       "</svg>"
      ],
      "text/plain": [
       "<IPython.core.display.SVG object>"
      ]
     },
     "execution_count": 21,
     "metadata": {},
     "output_type": "execute_result"
    }
   ],
   "source": [
    "from openeye import oechem\n",
    "\n",
    "oemol = oechem.OEGraphMol()\n",
    "oechem.OESmilesToMol(oemol, \"C[C@H]([NH3+])C([O-])=O\")\n",
    "\n",
    "assert isinstance(oemol, oechem.OEMolBase)\n",
    "\n",
    "from_oemol = Molecule.from_openeye(oemol)\n",
    "\n",
    "assert zw_l_alanine.is_isomorphic_with(from_oemol)\n",
    "from_oemol.visualize()"
   ]
  },
  {
   "cell_type": "markdown",
   "id": "15765778",
   "metadata": {},
   "source": [
    "## From QCArchive\n",
    "\n",
    "[QCArchive](https://qcarchive.molssi.org/) is a repository of quantum chemical calculations on small molecules. The [`Molecule.from_qcschema()`](openff.toolkit.topology.Molecule.from_qcschema) method creates a `Molecule` from a record from the archive. Because the identity of a molecule can change of the course of a QC calculation, the Toolkit accepts records only if they contain a hydrogen-mapped SMILES code.\n",
    "\n",
    ":::{note}\n",
    "These examples use molecules other than l-Alanine because of their availability in QCArchive\n",
    ":::"
   ]
  },
  {
   "cell_type": "markdown",
   "id": "0f143a62",
   "metadata": {},
   "source": [
    "### From a QCArchive molecule record\n",
    "\n",
    "The [`Molecule.from_qcschema()`](openff.toolkit.topology.Molecule.from_qcschema) method can take a molecule record queried from the QCArchive and create a `Molecule` from it."
   ]
  },
  {
   "cell_type": "code",
   "execution_count": 22,
   "id": "8e026b0f",
   "metadata": {
    "tags": []
   },
   "outputs": [
    {
     "data": {
      "image/svg+xml": [
       "<svg xmlns=\"http://www.w3.org/2000/svg\" xmlns:rdkit=\"http://www.rdkit.org/xml\" xmlns:xlink=\"http://www.w3.org/1999/xlink\" version=\"1.1\" baseProfile=\"full\" xml:space=\"preserve\" width=\"500px\" height=\"300px\" viewBox=\"0 0 500 300\">\n",
       "<!-- END OF HEADER -->\n",
       "<rect style=\"opacity:1.0;fill:#FFFFFF;stroke:none\" width=\"500.0\" height=\"300.0\" x=\"0.0\" y=\"0.0\"> </rect>\n",
       "<path class=\"bond-0 atom-0 atom-1\" d=\"M 128.8,42.8 L 110.6,73.0\" style=\"fill:none;fill-rule:evenodd;stroke:#000000;stroke-width:2.0px;stroke-linecap:butt;stroke-linejoin:miter;stroke-opacity:1\"/>\n",
       "<path class=\"bond-1 atom-1 atom-2\" d=\"M 110.6,73.0 L 93.2,41.5\" style=\"fill:none;fill-rule:evenodd;stroke:#000000;stroke-width:2.0px;stroke-linecap:butt;stroke-linejoin:miter;stroke-opacity:1\"/>\n",
       "<path class=\"bond-2 atom-1 atom-3\" d=\"M 110.6,73.0 L 76.4,91.5\" style=\"fill:none;fill-rule:evenodd;stroke:#000000;stroke-width:2.0px;stroke-linecap:butt;stroke-linejoin:miter;stroke-opacity:1\"/>\n",
       "<path class=\"bond-3 atom-1 atom-4\" d=\"M 110.6,73.0 L 154.1,99.2\" style=\"fill:none;fill-rule:evenodd;stroke:#000000;stroke-width:2.0px;stroke-linecap:butt;stroke-linejoin:miter;stroke-opacity:1\"/>\n",
       "<path class=\"bond-4 atom-4 atom-5\" d=\"M 150.4,97.0 L 149.7,116.9\" style=\"fill:none;fill-rule:evenodd;stroke:#000000;stroke-width:2.0px;stroke-linecap:butt;stroke-linejoin:miter;stroke-opacity:1\"/>\n",
       "<path class=\"bond-4 atom-4 atom-5\" d=\"M 149.7,116.9 L 149.0,136.8\" style=\"fill:none;fill-rule:evenodd;stroke:#FF0000;stroke-width:2.0px;stroke-linecap:butt;stroke-linejoin:miter;stroke-opacity:1\"/>\n",
       "<path class=\"bond-4 atom-4 atom-5\" d=\"M 158.0,97.1 L 157.3,117.1\" style=\"fill:none;fill-rule:evenodd;stroke:#000000;stroke-width:2.0px;stroke-linecap:butt;stroke-linejoin:miter;stroke-opacity:1\"/>\n",
       "<path class=\"bond-4 atom-4 atom-5\" d=\"M 157.3,117.1 L 156.6,137.0\" style=\"fill:none;fill-rule:evenodd;stroke:#FF0000;stroke-width:2.0px;stroke-linecap:butt;stroke-linejoin:miter;stroke-opacity:1\"/>\n",
       "<path class=\"bond-5 atom-4 atom-6\" d=\"M 154.1,99.2 L 172.2,89.5\" style=\"fill:none;fill-rule:evenodd;stroke:#000000;stroke-width:2.0px;stroke-linecap:butt;stroke-linejoin:miter;stroke-opacity:1\"/>\n",
       "<path class=\"bond-5 atom-4 atom-6\" d=\"M 172.2,89.5 L 190.3,79.7\" style=\"fill:none;fill-rule:evenodd;stroke:#0000FF;stroke-width:2.0px;stroke-linecap:butt;stroke-linejoin:miter;stroke-opacity:1\"/>\n",
       "<path class=\"bond-6 atom-6 atom-7\" d=\"M 200.1,62.2 L 200.3,49.6\" style=\"fill:none;fill-rule:evenodd;stroke:#0000FF;stroke-width:2.0px;stroke-linecap:butt;stroke-linejoin:miter;stroke-opacity:1\"/>\n",
       "<path class=\"bond-6 atom-6 atom-7\" d=\"M 200.3,49.6 L 200.5,37.0\" style=\"fill:none;fill-rule:evenodd;stroke:#000000;stroke-width:2.0px;stroke-linecap:butt;stroke-linejoin:miter;stroke-opacity:1\"/>\n",
       "<path class=\"bond-7 atom-6 atom-8\" d=\"M 209.7,80.3 L 227.2,90.9\" style=\"fill:none;fill-rule:evenodd;stroke:#0000FF;stroke-width:2.0px;stroke-linecap:butt;stroke-linejoin:miter;stroke-opacity:1\"/>\n",
       "<path class=\"bond-7 atom-6 atom-8\" d=\"M 227.2,90.9 L 244.7,101.5\" style=\"fill:none;fill-rule:evenodd;stroke:#000000;stroke-width:2.0px;stroke-linecap:butt;stroke-linejoin:miter;stroke-opacity:1\"/>\n",
       "<path class=\"bond-8 atom-8 atom-9\" d=\"M 244.7,101.5 L 229.3,131.0 L 222.9,126.8 Z\" style=\"fill:#000000;fill-rule:evenodd;fill-opacity:1;stroke:#000000;stroke-width:0.5px;stroke-linecap:butt;stroke-linejoin:miter;stroke-opacity:1;\"/>\n",
       "<path class=\"bond-9 atom-8 atom-10\" d=\"M 244.7,101.5 L 264.3,147.1\" style=\"fill:none;fill-rule:evenodd;stroke:#000000;stroke-width:2.0px;stroke-linecap:butt;stroke-linejoin:miter;stroke-opacity:1\"/>\n",
       "<path class=\"bond-10 atom-8 atom-17\" d=\"M 244.7,101.5 L 296.3,74.7\" style=\"fill:none;fill-rule:evenodd;stroke:#000000;stroke-width:2.0px;stroke-linecap:butt;stroke-linejoin:miter;stroke-opacity:1\"/>\n",
       "<path class=\"bond-11 atom-10 atom-11\" d=\"M 264.3,147.1 L 296.5,132.0\" style=\"fill:none;fill-rule:evenodd;stroke:#000000;stroke-width:2.0px;stroke-linecap:butt;stroke-linejoin:miter;stroke-opacity:1\"/>\n",
       "<path class=\"bond-12 atom-10 atom-12\" d=\"M 264.3,147.1 L 294.8,168.8\" style=\"fill:none;fill-rule:evenodd;stroke:#000000;stroke-width:2.0px;stroke-linecap:butt;stroke-linejoin:miter;stroke-opacity:1\"/>\n",
       "<path class=\"bond-13 atom-10 atom-13\" d=\"M 264.3,147.1 L 234.5,188.9\" style=\"fill:none;fill-rule:evenodd;stroke:#000000;stroke-width:2.0px;stroke-linecap:butt;stroke-linejoin:miter;stroke-opacity:1\"/>\n",
       "<path class=\"bond-14 atom-13 atom-14\" d=\"M 237.1,185.3 L 216.7,183.5\" style=\"fill:none;fill-rule:evenodd;stroke:#000000;stroke-width:2.0px;stroke-linecap:butt;stroke-linejoin:miter;stroke-opacity:1\"/>\n",
       "<path class=\"bond-14 atom-13 atom-14\" d=\"M 216.7,183.5 L 196.3,181.8\" style=\"fill:none;fill-rule:evenodd;stroke:#FF0000;stroke-width:2.0px;stroke-linecap:butt;stroke-linejoin:miter;stroke-opacity:1\"/>\n",
       "<path class=\"bond-14 atom-13 atom-14\" d=\"M 236.4,192.9 L 216.0,191.1\" style=\"fill:none;fill-rule:evenodd;stroke:#000000;stroke-width:2.0px;stroke-linecap:butt;stroke-linejoin:miter;stroke-opacity:1\"/>\n",
       "<path class=\"bond-14 atom-13 atom-14\" d=\"M 216.0,191.1 L 195.6,189.4\" style=\"fill:none;fill-rule:evenodd;stroke:#FF0000;stroke-width:2.0px;stroke-linecap:butt;stroke-linejoin:miter;stroke-opacity:1\"/>\n",
       "<path class=\"bond-15 atom-13 atom-15\" d=\"M 234.5,188.9 L 242.2,205.5\" style=\"fill:none;fill-rule:evenodd;stroke:#000000;stroke-width:2.0px;stroke-linecap:butt;stroke-linejoin:miter;stroke-opacity:1\"/>\n",
       "<path class=\"bond-15 atom-13 atom-15\" d=\"M 242.2,205.5 L 250.0,222.2\" style=\"fill:none;fill-rule:evenodd;stroke:#FF0000;stroke-width:2.0px;stroke-linecap:butt;stroke-linejoin:miter;stroke-opacity:1\"/>\n",
       "<path class=\"bond-16 atom-15 atom-16\" d=\"M 246.9,247.3 L 241.3,255.4\" style=\"fill:none;fill-rule:evenodd;stroke:#FF0000;stroke-width:2.0px;stroke-linecap:butt;stroke-linejoin:miter;stroke-opacity:1\"/>\n",
       "<path class=\"bond-16 atom-15 atom-16\" d=\"M 241.3,255.4 L 235.7,263.5\" style=\"fill:none;fill-rule:evenodd;stroke:#000000;stroke-width:2.0px;stroke-linecap:butt;stroke-linejoin:miter;stroke-opacity:1\"/>\n",
       "<path class=\"bond-17 atom-17 atom-18\" d=\"M 300.0,76.7 L 300.4,56.9\" style=\"fill:none;fill-rule:evenodd;stroke:#000000;stroke-width:2.0px;stroke-linecap:butt;stroke-linejoin:miter;stroke-opacity:1\"/>\n",
       "<path class=\"bond-17 atom-17 atom-18\" d=\"M 300.4,56.9 L 300.8,37.1\" style=\"fill:none;fill-rule:evenodd;stroke:#FF0000;stroke-width:2.0px;stroke-linecap:butt;stroke-linejoin:miter;stroke-opacity:1\"/>\n",
       "<path class=\"bond-17 atom-17 atom-18\" d=\"M 292.4,76.7 L 292.8,56.8\" style=\"fill:none;fill-rule:evenodd;stroke:#000000;stroke-width:2.0px;stroke-linecap:butt;stroke-linejoin:miter;stroke-opacity:1\"/>\n",
       "<path class=\"bond-17 atom-17 atom-18\" d=\"M 292.8,56.8 L 293.2,37.0\" style=\"fill:none;fill-rule:evenodd;stroke:#FF0000;stroke-width:2.0px;stroke-linecap:butt;stroke-linejoin:miter;stroke-opacity:1\"/>\n",
       "<path class=\"bond-18 atom-17 atom-19\" d=\"M 296.3,74.7 L 315.8,85.1\" style=\"fill:none;fill-rule:evenodd;stroke:#000000;stroke-width:2.0px;stroke-linecap:butt;stroke-linejoin:miter;stroke-opacity:1\"/>\n",
       "<path class=\"bond-18 atom-17 atom-19\" d=\"M 315.8,85.1 L 335.4,95.4\" style=\"fill:none;fill-rule:evenodd;stroke:#0000FF;stroke-width:2.0px;stroke-linecap:butt;stroke-linejoin:miter;stroke-opacity:1\"/>\n",
       "<path class=\"bond-19 atom-19 atom-20\" d=\"M 345.7,112.8 L 346.3,125.2\" style=\"fill:none;fill-rule:evenodd;stroke:#0000FF;stroke-width:2.0px;stroke-linecap:butt;stroke-linejoin:miter;stroke-opacity:1\"/>\n",
       "<path class=\"bond-19 atom-19 atom-20\" d=\"M 346.3,125.2 L 347.0,137.6\" style=\"fill:none;fill-rule:evenodd;stroke:#000000;stroke-width:2.0px;stroke-linecap:butt;stroke-linejoin:miter;stroke-opacity:1\"/>\n",
       "<path class=\"bond-20 atom-19 atom-21\" d=\"M 354.8,94.9 L 372.6,84.6\" style=\"fill:none;fill-rule:evenodd;stroke:#0000FF;stroke-width:2.0px;stroke-linecap:butt;stroke-linejoin:miter;stroke-opacity:1\"/>\n",
       "<path class=\"bond-20 atom-19 atom-21\" d=\"M 372.6,84.6 L 390.4,74.2\" style=\"fill:none;fill-rule:evenodd;stroke:#000000;stroke-width:2.0px;stroke-linecap:butt;stroke-linejoin:miter;stroke-opacity:1\"/>\n",
       "<path class=\"bond-21 atom-21 atom-22\" d=\"M 390.4,74.2 L 373.5,42.6\" style=\"fill:none;fill-rule:evenodd;stroke:#000000;stroke-width:2.0px;stroke-linecap:butt;stroke-linejoin:miter;stroke-opacity:1\"/>\n",
       "<path class=\"bond-22 atom-21 atom-23\" d=\"M 390.4,74.2 L 409.4,43.8\" style=\"fill:none;fill-rule:evenodd;stroke:#000000;stroke-width:2.0px;stroke-linecap:butt;stroke-linejoin:miter;stroke-opacity:1\"/>\n",
       "<path class=\"bond-23 atom-21 atom-24\" d=\"M 390.4,74.2 L 423.6,94.0\" style=\"fill:none;fill-rule:evenodd;stroke:#000000;stroke-width:2.0px;stroke-linecap:butt;stroke-linejoin:miter;stroke-opacity:1\"/>\n",
       "<path d=\"M 151.9,97.9 L 154.1,99.2 L 155.0,98.7\" style=\"fill:none;stroke:#000000;stroke-width:2.0px;stroke-linecap:butt;stroke-linejoin:miter;stroke-opacity:1;\"/>\n",
       "<path d=\"M 236.0,186.8 L 234.5,188.9 L 234.9,189.7\" style=\"fill:none;stroke:#000000;stroke-width:2.0px;stroke-linecap:butt;stroke-linejoin:miter;stroke-opacity:1;\"/>\n",
       "<path d=\"M 293.7,76.0 L 296.3,74.7 L 297.3,75.2\" style=\"fill:none;stroke:#000000;stroke-width:2.0px;stroke-linecap:butt;stroke-linejoin:miter;stroke-opacity:1;\"/>\n",
       "<path class=\"atom-0\" d=\"M 127.9 19.9 L 130.8 19.9 L 130.8 28.9 L 141.6 28.9 L 141.6 19.9 L 144.4 19.9 L 144.4 41.1 L 141.6 41.1 L 141.6 31.3 L 130.8 31.3 L 130.8 41.1 L 127.9 41.1 L 127.9 19.9 \" fill=\"#000000\"/>\n",
       "<path class=\"atom-2\" d=\"M 78.2 18.6 L 81.1 18.6 L 81.1 27.6 L 91.9 27.6 L 91.9 18.6 L 94.8 18.6 L 94.8 39.8 L 91.9 39.8 L 91.9 30.0 L 81.1 30.0 L 81.1 39.8 L 78.2 39.8 L 78.2 18.6 \" fill=\"#000000\"/>\n",
       "<path class=\"atom-3\" d=\"M 58.2 86.3 L 61.0 86.3 L 61.0 95.3 L 71.9 95.3 L 71.9 86.3 L 74.7 86.3 L 74.7 107.5 L 71.9 107.5 L 71.9 97.7 L 61.0 97.7 L 61.0 107.5 L 58.2 107.5 L 58.2 86.3 \" fill=\"#000000\"/>\n",
       "<path class=\"atom-5\" d=\"M 142.7 149.3 Q 142.7 144.2, 145.2 141.4 Q 147.7 138.6, 152.4 138.6 Q 157.1 138.6, 159.6 141.4 Q 162.1 144.2, 162.1 149.3 Q 162.1 154.5, 159.5 157.4 Q 157.0 160.3, 152.4 160.3 Q 147.7 160.3, 145.2 157.4 Q 142.7 154.5, 142.7 149.3 M 152.4 157.9 Q 155.6 157.9, 157.3 155.8 Q 159.1 153.6, 159.1 149.3 Q 159.1 145.2, 157.3 143.1 Q 155.6 141.0, 152.4 141.0 Q 149.1 141.0, 147.4 143.0 Q 145.6 145.1, 145.6 149.3 Q 145.6 153.6, 147.4 155.8 Q 149.1 157.9, 152.4 157.9 \" fill=\"#FF0000\"/>\n",
       "<path class=\"atom-6\" d=\"M 195.3 63.9 L 202.2 75.1 Q 202.9 76.2, 204.0 78.2 Q 205.1 80.2, 205.2 80.3 L 205.2 63.9 L 208.0 63.9 L 208.0 85.0 L 205.1 85.0 L 197.6 72.8 Q 196.8 71.3, 195.8 69.7 Q 194.9 68.0, 194.7 67.5 L 194.7 85.0 L 191.9 85.0 L 191.9 63.9 L 195.3 63.9 \" fill=\"#0000FF\"/>\n",
       "<path class=\"atom-7\" d=\"M 192.4 14.1 L 195.3 14.1 L 195.3 23.1 L 206.1 23.1 L 206.1 14.1 L 209.0 14.1 L 209.0 35.3 L 206.1 35.3 L 206.1 25.5 L 195.3 25.5 L 195.3 35.3 L 192.4 35.3 L 192.4 14.1 \" fill=\"#000000\"/>\n",
       "<path class=\"atom-9\" d=\"M 208.4 132.2 L 211.2 132.2 L 211.2 141.2 L 222.1 141.2 L 222.1 132.2 L 224.9 132.2 L 224.9 153.4 L 222.1 153.4 L 222.1 143.6 L 211.2 143.6 L 211.2 153.4 L 208.4 153.4 L 208.4 132.2 \" fill=\"#000000\"/>\n",
       "<path class=\"atom-11\" d=\"M 298.2 116.8 L 301.1 116.8 L 301.1 125.8 L 311.9 125.8 L 311.9 116.8 L 314.7 116.8 L 314.7 137.9 L 311.9 137.9 L 311.9 128.2 L 301.1 128.2 L 301.1 137.9 L 298.2 137.9 L 298.2 116.8 \" fill=\"#000000\"/>\n",
       "<path class=\"atom-12\" d=\"M 296.4 165.3 L 299.3 165.3 L 299.3 174.3 L 310.1 174.3 L 310.1 165.3 L 313.0 165.3 L 313.0 186.5 L 310.1 186.5 L 310.1 176.7 L 299.3 176.7 L 299.3 186.5 L 296.4 186.5 L 296.4 165.3 \" fill=\"#000000\"/>\n",
       "<path class=\"atom-14\" d=\"M 174.8 184.7 Q 174.8 179.6, 177.4 176.8 Q 179.9 173.9, 184.6 173.9 Q 189.3 173.9, 191.8 176.8 Q 194.3 179.6, 194.3 184.7 Q 194.3 189.8, 191.7 192.8 Q 189.2 195.7, 184.6 195.7 Q 179.9 195.7, 177.4 192.8 Q 174.8 189.9, 174.8 184.7 M 184.6 193.3 Q 187.8 193.3, 189.5 191.1 Q 191.3 188.9, 191.3 184.7 Q 191.3 180.5, 189.5 178.5 Q 187.8 176.3, 184.6 176.3 Q 181.3 176.3, 179.6 178.4 Q 177.8 180.5, 177.8 184.7 Q 177.8 189.0, 179.6 191.1 Q 181.3 193.3, 184.6 193.3 \" fill=\"#FF0000\"/>\n",
       "<path class=\"atom-15\" d=\"M 246.0 234.6 Q 246.0 229.5, 248.5 226.7 Q 251.0 223.9, 255.7 223.9 Q 260.4 223.9, 262.9 226.7 Q 265.4 229.5, 265.4 234.6 Q 265.4 239.8, 262.9 242.7 Q 260.3 245.6, 255.7 245.6 Q 251.0 245.6, 248.5 242.7 Q 246.0 239.8, 246.0 234.6 M 255.7 243.2 Q 258.9 243.2, 260.6 241.1 Q 262.4 238.9, 262.4 234.6 Q 262.4 230.5, 260.6 228.4 Q 258.9 226.3, 255.7 226.3 Q 252.5 226.3, 250.7 228.3 Q 249.0 230.4, 249.0 234.6 Q 249.0 238.9, 250.7 241.1 Q 252.5 243.2, 255.7 243.2 \" fill=\"#FF0000\"/>\n",
       "<path class=\"atom-16\" d=\"M 218.9 265.2 L 221.8 265.2 L 221.8 274.2 L 232.6 274.2 L 232.6 265.2 L 235.5 265.2 L 235.5 286.4 L 232.6 286.4 L 232.6 276.6 L 221.8 276.6 L 221.8 286.4 L 218.9 286.4 L 218.9 265.2 \" fill=\"#000000\"/>\n",
       "<path class=\"atom-18\" d=\"M 287.5 24.4 Q 287.5 19.3, 290.1 16.5 Q 292.6 13.6, 297.3 13.6 Q 302.0 13.6, 304.5 16.5 Q 307.0 19.3, 307.0 24.4 Q 307.0 29.5, 304.4 32.5 Q 301.9 35.4, 297.3 35.4 Q 292.6 35.4, 290.1 32.5 Q 287.5 29.6, 287.5 24.4 M 297.3 33.0 Q 300.5 33.0, 302.2 30.8 Q 304.0 28.6, 304.0 24.4 Q 304.0 20.2, 302.2 18.2 Q 300.5 16.0, 297.3 16.0 Q 294.0 16.0, 292.3 18.1 Q 290.5 20.2, 290.5 24.4 Q 290.5 28.7, 292.3 30.8 Q 294.0 33.0, 297.3 33.0 \" fill=\"#FF0000\"/>\n",
       "<path class=\"atom-19\" d=\"M 340.4 90.0 L 347.3 101.2 Q 348.0 102.3, 349.1 104.3 Q 350.2 106.3, 350.3 106.4 L 350.3 90.0 L 353.1 90.0 L 353.1 111.1 L 350.2 111.1 L 342.7 98.9 Q 341.9 97.4, 340.9 95.8 Q 340.0 94.1, 339.8 93.6 L 339.8 111.1 L 337.0 111.1 L 337.0 90.0 L 340.4 90.0 \" fill=\"#0000FF\"/>\n",
       "<path class=\"atom-20\" d=\"M 339.3 139.3 L 342.2 139.3 L 342.2 148.3 L 353.0 148.3 L 353.0 139.3 L 355.9 139.3 L 355.9 160.5 L 353.0 160.5 L 353.0 150.7 L 342.2 150.7 L 342.2 160.5 L 339.3 160.5 L 339.3 139.3 \" fill=\"#000000\"/>\n",
       "<path class=\"atom-22\" d=\"M 358.7 19.7 L 361.6 19.7 L 361.6 28.7 L 372.4 28.7 L 372.4 19.7 L 375.3 19.7 L 375.3 40.9 L 372.4 40.9 L 372.4 31.1 L 361.6 31.1 L 361.6 40.9 L 358.7 40.9 L 358.7 19.7 \" fill=\"#000000\"/>\n",
       "<path class=\"atom-23\" d=\"M 408.8 21.0 L 411.7 21.0 L 411.7 30.0 L 422.5 30.0 L 422.5 21.0 L 425.4 21.0 L 425.4 42.2 L 422.5 42.2 L 422.5 32.4 L 411.7 32.4 L 411.7 42.2 L 408.8 42.2 L 408.8 21.0 \" fill=\"#000000\"/>\n",
       "<path class=\"atom-24\" d=\"M 425.3 89.4 L 428.1 89.4 L 428.1 98.4 L 439.0 98.4 L 439.0 89.4 L 441.8 89.4 L 441.8 110.5 L 439.0 110.5 L 439.0 100.8 L 428.1 100.8 L 428.1 110.5 L 425.3 110.5 L 425.3 89.4 \" fill=\"#000000\"/>\n",
       "</svg>"
      ],
      "text/plain": [
       "<IPython.core.display.SVG object>"
      ]
     },
     "execution_count": 22,
     "metadata": {},
     "output_type": "execute_result"
    }
   ],
   "source": [
    "from qcportal import FractalClient\n",
    "\n",
    "client = FractalClient()\n",
    "query = client.query_molecules(molecular_formula=\"C7H12N2O4\")\n",
    "\n",
    "from_qcarchive = Molecule.from_qcschema(query[0])\n",
    "                                \n",
    "from_qcarchive.visualize()"
   ]
  },
  {
   "cell_type": "markdown",
   "id": "3f1991fb",
   "metadata": {},
   "source": [
    "### From a QCArchive optimisation record\n",
    "\n",
    "`Molecule.from_qcschema()` can also take an optimisation record and create the corresponding `Molecule`."
   ]
  },
  {
   "cell_type": "code",
   "execution_count": 23,
   "id": "edd1fa9e",
   "metadata": {
    "tags": []
   },
   "outputs": [
    {
     "data": {
      "image/svg+xml": [
       "<svg xmlns=\"http://www.w3.org/2000/svg\" xmlns:rdkit=\"http://www.rdkit.org/xml\" xmlns:xlink=\"http://www.w3.org/1999/xlink\" version=\"1.1\" baseProfile=\"full\" xml:space=\"preserve\" width=\"500px\" height=\"300px\" viewBox=\"0 0 500 300\">\n",
       "<!-- END OF HEADER -->\n",
       "<rect style=\"opacity:1.0;fill:#FFFFFF;stroke:none\" width=\"500.0\" height=\"300.0\" x=\"0.0\" y=\"0.0\"> </rect>\n",
       "<path class=\"bond-0 atom-0 atom-4\" d=\"M 332.3,221.4 L 332.3,198.9\" style=\"fill:none;fill-rule:evenodd;stroke:#000000;stroke-width:2.0px;stroke-linecap:butt;stroke-linejoin:miter;stroke-opacity:1\"/>\n",
       "<path class=\"bond-0 atom-0 atom-4\" d=\"M 332.3,198.9 L 332.4,176.5\" style=\"fill:none;fill-rule:evenodd;stroke:#FF0000;stroke-width:2.0px;stroke-linecap:butt;stroke-linejoin:miter;stroke-opacity:1\"/>\n",
       "<path class=\"bond-1 atom-0 atom-6\" d=\"M 332.3,221.4 L 284.0,221.3\" style=\"fill:none;fill-rule:evenodd;stroke:#000000;stroke-width:2.0px;stroke-linecap:butt;stroke-linejoin:miter;stroke-opacity:1\"/>\n",
       "<path class=\"bond-2 atom-0 atom-7\" d=\"M 332.3,221.4 L 310.6,258.8\" style=\"fill:none;fill-rule:evenodd;stroke:#000000;stroke-width:2.0px;stroke-linecap:butt;stroke-linejoin:miter;stroke-opacity:1\"/>\n",
       "<path class=\"bond-3 atom-0 atom-8\" d=\"M 332.3,221.4 L 372.4,244.7\" style=\"fill:none;fill-rule:evenodd;stroke:#000000;stroke-width:2.0px;stroke-linecap:butt;stroke-linejoin:miter;stroke-opacity:1\"/>\n",
       "<path class=\"bond-4 atom-1 atom-5\" d=\"M 175.8,130.7 L 195.0,141.8\" style=\"fill:none;fill-rule:evenodd;stroke:#000000;stroke-width:2.0px;stroke-linecap:butt;stroke-linejoin:miter;stroke-opacity:1\"/>\n",
       "<path class=\"bond-4 atom-1 atom-5\" d=\"M 195.0,141.8 L 214.2,152.9\" style=\"fill:none;fill-rule:evenodd;stroke:#FF0000;stroke-width:2.0px;stroke-linecap:butt;stroke-linejoin:miter;stroke-opacity:1\"/>\n",
       "<path class=\"bond-5 atom-1 atom-9\" d=\"M 175.8,130.7 L 154.2,168.0\" style=\"fill:none;fill-rule:evenodd;stroke:#000000;stroke-width:2.0px;stroke-linecap:butt;stroke-linejoin:miter;stroke-opacity:1\"/>\n",
       "<path class=\"bond-6 atom-1 atom-10\" d=\"M 175.8,130.7 L 127.6,130.6\" style=\"fill:none;fill-rule:evenodd;stroke:#000000;stroke-width:2.0px;stroke-linecap:butt;stroke-linejoin:miter;stroke-opacity:1\"/>\n",
       "<path class=\"bond-7 atom-1 atom-11\" d=\"M 175.8,130.7 L 175.9,85.2\" style=\"fill:none;fill-rule:evenodd;stroke:#000000;stroke-width:2.0px;stroke-linecap:butt;stroke-linejoin:miter;stroke-opacity:1\"/>\n",
       "<path class=\"bond-8 atom-2 atom-3\" d=\"M 280.3,130.9 L 269.6,112.4\" style=\"fill:none;fill-rule:evenodd;stroke:#000000;stroke-width:2.0px;stroke-linecap:butt;stroke-linejoin:miter;stroke-opacity:1\"/>\n",
       "<path class=\"bond-8 atom-2 atom-3\" d=\"M 269.6,112.4 L 259.0,93.9\" style=\"fill:none;fill-rule:evenodd;stroke:#FF0000;stroke-width:2.0px;stroke-linecap:butt;stroke-linejoin:miter;stroke-opacity:1\"/>\n",
       "<path class=\"bond-9 atom-2 atom-4\" d=\"M 280.3,130.9 L 299.5,142.0\" style=\"fill:none;fill-rule:evenodd;stroke:#000000;stroke-width:2.0px;stroke-linecap:butt;stroke-linejoin:miter;stroke-opacity:1\"/>\n",
       "<path class=\"bond-9 atom-2 atom-4\" d=\"M 299.5,142.0 L 318.7,153.1\" style=\"fill:none;fill-rule:evenodd;stroke:#FF0000;stroke-width:2.0px;stroke-linecap:butt;stroke-linejoin:miter;stroke-opacity:1\"/>\n",
       "<path class=\"bond-10 atom-2 atom-5\" d=\"M 280.3,130.9 L 261.0,141.9\" style=\"fill:none;fill-rule:evenodd;stroke:#000000;stroke-width:2.0px;stroke-linecap:butt;stroke-linejoin:miter;stroke-opacity:1\"/>\n",
       "<path class=\"bond-10 atom-2 atom-5\" d=\"M 261.0,141.9 L 241.7,153.0\" style=\"fill:none;fill-rule:evenodd;stroke:#FF0000;stroke-width:2.0px;stroke-linecap:butt;stroke-linejoin:miter;stroke-opacity:1\"/>\n",
       "<path class=\"bond-11 atom-2 atom-12\" d=\"M 280.3,130.9 L 301.9,93.5\" style=\"fill:none;fill-rule:evenodd;stroke:#000000;stroke-width:2.0px;stroke-linecap:butt;stroke-linejoin:miter;stroke-opacity:1\"/>\n",
       "<path class=\"bond-12 atom-3 atom-13\" d=\"M 258.9,63.7 L 265.4,52.4\" style=\"fill:none;fill-rule:evenodd;stroke:#FF0000;stroke-width:2.0px;stroke-linecap:butt;stroke-linejoin:miter;stroke-opacity:1\"/>\n",
       "<path class=\"bond-12 atom-3 atom-13\" d=\"M 265.4,52.4 L 271.9,41.2\" style=\"fill:none;fill-rule:evenodd;stroke:#000000;stroke-width:2.0px;stroke-linecap:butt;stroke-linejoin:miter;stroke-opacity:1\"/>\n",
       "<path class=\"atom-3\" d=\"M 238.5 78.7 Q 238.5 72.5, 241.5 69.1 Q 244.5 65.6, 250.2 65.6 Q 255.9 65.6, 258.9 69.1 Q 262.0 72.5, 262.0 78.7 Q 262.0 84.9, 258.9 88.4 Q 255.8 91.9, 250.2 91.9 Q 244.6 91.9, 241.5 88.4 Q 238.5 84.9, 238.5 78.7 M 250.2 89.0 Q 254.1 89.0, 256.2 86.4 Q 258.4 83.8, 258.4 78.7 Q 258.4 73.6, 256.2 71.1 Q 254.1 68.5, 250.2 68.5 Q 246.3 68.5, 244.2 71.1 Q 242.1 73.6, 242.1 78.7 Q 242.1 83.8, 244.2 86.4 Q 246.3 89.0, 250.2 89.0 \" fill=\"#FF0000\"/>\n",
       "<path class=\"atom-4\" d=\"M 320.7 161.2 Q 320.7 155.0, 323.7 151.6 Q 326.7 148.2, 332.4 148.2 Q 338.1 148.2, 341.1 151.6 Q 344.2 155.0, 344.2 161.2 Q 344.2 167.4, 341.1 171.0 Q 338.0 174.5, 332.4 174.5 Q 326.8 174.5, 323.7 171.0 Q 320.7 167.4, 320.7 161.2 M 332.4 171.6 Q 336.3 171.6, 338.4 169.0 Q 340.6 166.3, 340.6 161.2 Q 340.6 156.2, 338.4 153.6 Q 336.3 151.1, 332.4 151.1 Q 328.5 151.1, 326.4 153.6 Q 324.3 156.1, 324.3 161.2 Q 324.3 166.4, 326.4 169.0 Q 328.5 171.6, 332.4 171.6 \" fill=\"#FF0000\"/>\n",
       "<path class=\"atom-5\" d=\"M 216.2 161.0 Q 216.2 154.8, 219.3 151.4 Q 222.3 148.0, 228.0 148.0 Q 233.7 148.0, 236.7 151.4 Q 239.7 154.8, 239.7 161.0 Q 239.7 167.2, 236.7 170.8 Q 233.6 174.3, 228.0 174.3 Q 222.3 174.3, 219.3 170.8 Q 216.2 167.2, 216.2 161.0 M 228.0 171.4 Q 231.9 171.4, 234.0 168.8 Q 236.1 166.1, 236.1 161.0 Q 236.1 156.0, 234.0 153.4 Q 231.9 150.9, 228.0 150.9 Q 224.1 150.9, 221.9 153.4 Q 219.8 155.9, 219.8 161.0 Q 219.8 166.2, 221.9 168.8 Q 224.1 171.4, 228.0 171.4 \" fill=\"#FF0000\"/>\n",
       "<path class=\"atom-6\" d=\"M 262.0 208.5 L 265.5 208.5 L 265.5 219.4 L 278.6 219.4 L 278.6 208.5 L 282.0 208.5 L 282.0 234.1 L 278.6 234.1 L 278.6 222.3 L 265.5 222.3 L 265.5 234.1 L 262.0 234.1 L 262.0 208.5 \" fill=\"#000000\"/>\n",
       "<path class=\"atom-7\" d=\"M 292.0 260.8 L 295.5 260.8 L 295.5 271.6 L 308.6 271.6 L 308.6 260.8 L 312.1 260.8 L 312.1 286.4 L 308.6 286.4 L 308.6 274.5 L 295.5 274.5 L 295.5 286.4 L 292.0 286.4 L 292.0 260.8 \" fill=\"#000000\"/>\n",
       "<path class=\"atom-8\" d=\"M 374.4 238.8 L 377.9 238.8 L 377.9 249.7 L 391.0 249.7 L 391.0 238.8 L 394.5 238.8 L 394.5 264.5 L 391.0 264.5 L 391.0 252.6 L 377.9 252.6 L 377.9 264.5 L 374.4 264.5 L 374.4 238.8 \" fill=\"#000000\"/>\n",
       "<path class=\"atom-9\" d=\"M 135.6 170.0 L 139.0 170.0 L 139.0 180.9 L 152.1 180.9 L 152.1 170.0 L 155.6 170.0 L 155.6 195.6 L 152.1 195.6 L 152.1 183.8 L 139.0 183.8 L 139.0 195.6 L 135.6 195.6 L 135.6 170.0 \" fill=\"#000000\"/>\n",
       "<path class=\"atom-10\" d=\"M 105.5 117.7 L 109.0 117.7 L 109.0 128.6 L 122.1 128.6 L 122.1 117.7 L 125.6 117.7 L 125.6 143.3 L 122.1 143.3 L 122.1 131.5 L 109.0 131.5 L 109.0 143.3 L 105.5 143.3 L 105.5 117.7 \" fill=\"#000000\"/>\n",
       "<path class=\"atom-11\" d=\"M 165.9 57.6 L 169.4 57.6 L 169.4 68.5 L 182.5 68.5 L 182.5 57.6 L 186.0 57.6 L 186.0 83.2 L 182.5 83.2 L 182.5 71.3 L 169.4 71.3 L 169.4 83.2 L 165.9 83.2 L 165.9 57.6 \" fill=\"#000000\"/>\n",
       "<path class=\"atom-12\" d=\"M 300.5 65.9 L 304.0 65.9 L 304.0 76.8 L 317.1 76.8 L 317.1 65.9 L 320.5 65.9 L 320.5 91.5 L 317.1 91.5 L 317.1 79.7 L 304.0 79.7 L 304.0 91.5 L 300.5 91.5 L 300.5 65.9 \" fill=\"#000000\"/>\n",
       "<path class=\"atom-13\" d=\"M 270.5 13.6 L 273.9 13.6 L 273.9 24.5 L 287.0 24.5 L 287.0 13.6 L 290.5 13.6 L 290.5 39.2 L 287.0 39.2 L 287.0 27.4 L 273.9 27.4 L 273.9 39.2 L 270.5 39.2 L 270.5 13.6 \" fill=\"#000000\"/>\n",
       "</svg>"
      ],
      "text/plain": [
       "<IPython.core.display.SVG object>"
      ]
     },
     "execution_count": 23,
     "metadata": {},
     "output_type": "execute_result"
    }
   ],
   "source": [
    "optimization_dataset = client.get_collection(\n",
    "    \"OptimizationDataset\",\n",
    "    \"SMIRNOFF Coverage Set 1\"\n",
    ")\n",
    "dimethoxymethanol_optimization = optimization_dataset.get_entry('coc(o)oc-0')\n",
    "\n",
    "from_optimisation = Molecule.from_qcschema(dimethoxymethanol_optimization)\n",
    "\n",
    "from_optimisation.visualize()"
   ]
  },
  {
   "cell_type": "code",
   "execution_count": null,
   "id": "2a8f5a61-892b-43e1-898e-40deec4d39b9",
   "metadata": {},
   "outputs": [],
   "source": []
  }
 ],
 "metadata": {
  "celltoolbar": "Tags",
  "execution": {
   "timeout": 120
  },
  "kernelspec": {
   "display_name": "Python 3 (ipykernel)",
   "language": "python",
   "name": "python3"
  },
  "language_info": {
   "codemirror_mode": {
    "name": "ipython",
    "version": 3
   },
   "file_extension": ".py",
   "mimetype": "text/x-python",
   "name": "python",
   "nbconvert_exporter": "python",
   "pygments_lexer": "ipython3",
   "version": "3.10.10"
  },
  "widgets": {
   "application/vnd.jupyter.widget-state+json": {
    "state": {
     "04425defeff0432d9aa3bb632e8acd58": {
      "model_module": "@jupyter-widgets/controls",
      "model_module_version": "1.5.0",
      "model_name": "ButtonModel",
      "state": {
       "icon": "compress",
       "layout": "IPY_MODEL_7c59158cd71c43508a84396bc7e30ec5",
       "style": "IPY_MODEL_90ee8756c25540f6889f65af9226d9db"
      }
     },
     "0771c37338e14f8ea9e6b519c9b065d5": {
      "model_module": "@jupyter-widgets/base",
      "model_module_version": "1.2.0",
      "model_name": "LayoutModel",
      "state": {}
     },
     "13a1f6d8833a45ef959a95a6760bf6a9": {
      "model_module": "@jupyter-widgets/base",
      "model_module_version": "1.2.0",
      "model_name": "LayoutModel",
      "state": {}
     },
     "20344b08775a41fabc47d87141f35325": {
      "model_module": "@jupyter-widgets/controls",
      "model_module_version": "1.5.0",
      "model_name": "LinkModel",
      "state": {
       "source": [
        "IPY_MODEL_bcf346a4156f4107b5b5625bf3b32c4e",
        "value"
       ],
       "target": [
        "IPY_MODEL_feb1f533b94843a686e43e8fa9950d29",
        "frame"
       ]
      }
     },
     "22320b021dee4fce880f4cb0d6618dda": {
      "model_module": "@jupyter-widgets/controls",
      "model_module_version": "1.5.0",
      "model_name": "LinkModel",
      "state": {
       "source": [
        "IPY_MODEL_bcf346a4156f4107b5b5625bf3b32c4e",
        "value"
       ],
       "target": [
        "IPY_MODEL_f4ec7a06c8f24e84ad79b36665882ec2",
        "value"
       ]
      }
     },
     "24c49ff405cd44fabc8f829f585ab8e8": {
      "model_module": "@jupyter-widgets/base",
      "model_module_version": "1.2.0",
      "model_name": "LayoutModel",
      "state": {}
     },
     "3026e06de90b45ebb1daaab920d3dd68": {
      "model_module": "@jupyter-widgets/controls",
      "model_module_version": "1.5.0",
      "model_name": "DescriptionStyleModel",
      "state": {
       "description_width": ""
      }
     },
     "3834b9b1a25846758dd42c63a8bd08c3": {
      "model_module": "@jupyter-widgets/base",
      "model_module_version": "1.2.0",
      "model_name": "LayoutModel",
      "state": {}
     },
     "461c7d9609744bfd81b1b2e3e548d48c": {
      "model_module": "@jupyter-widgets/controls",
      "model_module_version": "1.5.0",
      "model_name": "LinkModel",
      "state": {
       "source": [
        "IPY_MODEL_bcf346a4156f4107b5b5625bf3b32c4e",
        "max"
       ],
       "target": [
        "IPY_MODEL_feb1f533b94843a686e43e8fa9950d29",
        "max_frame"
       ]
      }
     },
     "7c59158cd71c43508a84396bc7e30ec5": {
      "model_module": "@jupyter-widgets/base",
      "model_module_version": "1.2.0",
      "model_name": "LayoutModel",
      "state": {
       "width": "34px"
      }
     },
     "8667bb1b994346d4aa39a0b9d02a5f5e": {
      "model_module": "nglview-js-widgets",
      "model_module_version": "3.0.1",
      "model_name": "ColormakerRegistryModel",
      "state": {
       "_msg_ar": [],
       "_msg_q": [],
       "_ready": true,
       "layout": "IPY_MODEL_b85aa4870a5e4959a40a66326ca53e08"
      }
     },
     "872db7b01d0d4a0f8bda5268114c188e": {
      "model_module": "@jupyter-widgets/controls",
      "model_module_version": "1.5.0",
      "model_name": "LinkModel",
      "state": {
       "source": [
        "IPY_MODEL_f4ec7a06c8f24e84ad79b36665882ec2",
        "max"
       ],
       "target": [
        "IPY_MODEL_feb1f533b94843a686e43e8fa9950d29",
        "max_frame"
       ]
      }
     },
     "90ee8756c25540f6889f65af9226d9db": {
      "model_module": "@jupyter-widgets/controls",
      "model_module_version": "1.5.0",
      "model_name": "ButtonStyleModel",
      "state": {}
     },
     "a3d505a2f1a0405ca762c77cda0b3e05": {
      "model_module": "@jupyter-widgets/base",
      "model_module_version": "1.2.0",
      "model_name": "LayoutModel",
      "state": {}
     },
     "a8c837df13054575a46fe258eabd82c2": {
      "model_module": "@jupyter-widgets/controls",
      "model_module_version": "1.5.0",
      "model_name": "ImageModel",
      "state": {
       "layout": "IPY_MODEL_13a1f6d8833a45ef959a95a6760bf6a9",
       "width": "900.0"
      }
     },
     "b85aa4870a5e4959a40a66326ca53e08": {
      "model_module": "@jupyter-widgets/base",
      "model_module_version": "1.2.0",
      "model_name": "LayoutModel",
      "state": {}
     },
     "bcf346a4156f4107b5b5625bf3b32c4e": {
      "model_module": "@jupyter-widgets/controls",
      "model_module_version": "1.5.0",
      "model_name": "PlayModel",
      "state": {
       "layout": "IPY_MODEL_24c49ff405cd44fabc8f829f585ab8e8",
       "max": 0,
       "style": "IPY_MODEL_3026e06de90b45ebb1daaab920d3dd68"
      }
     },
     "e1e84ad2825e4f8ab0a5b5ca6a756c85": {
      "model_module": "@jupyter-widgets/controls",
      "model_module_version": "1.5.0",
      "model_name": "HBoxModel",
      "state": {
       "children": [
        "IPY_MODEL_bcf346a4156f4107b5b5625bf3b32c4e",
        "IPY_MODEL_f4ec7a06c8f24e84ad79b36665882ec2"
       ],
       "layout": "IPY_MODEL_a3d505a2f1a0405ca762c77cda0b3e05"
      }
     },
     "f0a281fb6a4449ea800784e50651f81c": {
      "model_module": "@jupyter-widgets/controls",
      "model_module_version": "1.5.0",
      "model_name": "SliderStyleModel",
      "state": {
       "description_width": ""
      }
     },
     "f4ec7a06c8f24e84ad79b36665882ec2": {
      "model_module": "@jupyter-widgets/controls",
      "model_module_version": "1.5.0",
      "model_name": "IntSliderModel",
      "state": {
       "layout": "IPY_MODEL_3834b9b1a25846758dd42c63a8bd08c3",
       "max": 0,
       "style": "IPY_MODEL_f0a281fb6a4449ea800784e50651f81c"
      }
     },
     "feb1f533b94843a686e43e8fa9950d29": {
      "model_module": "nglview-js-widgets",
      "model_module_version": "3.0.1",
      "model_name": "NGLModel",
      "state": {
       "_camera_orientation": [
        81.21058028606751,
        0,
        0,
        0,
        0,
        81.21058028606751,
        0,
        0,
        0,
        0,
        81.21058028606751,
        0,
        -28.66056251525879,
        -29.228503704071045,
        -38.672584533691406,
        1
       ],
       "_camera_str": "orthographic",
       "_gui_theme": null,
       "_ibtn_fullscreen": "IPY_MODEL_04425defeff0432d9aa3bb632e8acd58",
       "_igui": null,
       "_iplayer": "IPY_MODEL_e1e84ad2825e4f8ab0a5b5ca6a756c85",
       "_ngl_color_dict": {},
       "_ngl_coordinate_resource": {},
       "_ngl_full_stage_parameters": {
        "ambientColor": 14540253,
        "ambientIntensity": 0.2,
        "backgroundColor": "white",
        "cameraEyeSep": 0.3,
        "cameraFov": 40,
        "cameraType": "perspective",
        "clipDist": 10,
        "clipFar": 100,
        "clipNear": 0,
        "fogFar": 100,
        "fogNear": 50,
        "hoverTimeout": 0,
        "impostor": true,
        "lightColor": 14540253,
        "lightIntensity": 1,
        "mousePreset": "default",
        "panSpeed": 1,
        "quality": "medium",
        "rotateSpeed": 2,
        "sampleLevel": 0,
        "tooltip": true,
        "workerDefault": true,
        "zoomSpeed": 1.2
       },
       "_ngl_msg_archive": [
        {
         "args": [
          {
           "binary": false,
           "data": "ATOM      1 N    MET A   0      33.430  11.280  44.490  1.00 20.00 \nATOM      2 H    MET A   0      32.860  11.870  45.090  1.00 20.00 \nATOM      3 H2   MET A   0      32.970  10.380  44.440  1.00 20.00 \nATOM      4 H3   MET A   0      34.270  11.280  45.050  1.00 20.00 \nATOM      5 CA   MET A   0      33.550  11.970  43.200  1.00 20.00 \nATOM      6 HA   MET A   0      34.090  12.890  43.410  1.00 20.00 \nATOM      7 CB   MET A   0      34.550  11.390  42.270  1.00 20.00 \nATOM      8 HB2  MET A   0      35.470  11.330  42.850  1.00 20.00 \nATOM      9 HB3  MET A   0      34.320  10.370  41.960  1.00 20.00 \nATOM     10 CG   MET A   0      34.730  12.320  41.020  1.00 20.00 \nATOM     11 HG2  MET A   0      35.430  11.840  40.340  1.00 20.00 \nATOM     12 HG3  MET A   0      33.720  12.350  40.620  1.00 20.00 \nATOM     13 SD   MET A   0      35.270  14.050  41.300  1.00 20.00 \nATOM     14 CE   MET A   0      37.050  13.800  41.760  1.00 20.00 \nATOM     15 HE1  MET A   0      37.170  13.650  42.830  1.00 20.00 \nATOM     16 HE2  MET A   0      37.500  12.990  41.190  1.00 20.00 \nATOM     17 HE3  MET A   0      37.570  14.740  41.600  1.00 20.00 \nATOM     18 C    MET A   0      32.100  12.250  42.660  1.00 20.00 \nATOM     19 O    MET A   0      31.370  11.320  42.330  1.00 20.00 \nATOM     20 N    ASN A   1      31.740  13.550  42.670  1.00 20.00 \nATOM     21 H    ASN A   1      32.490  14.160  42.970  1.00 20.00 \nATOM     22 CA   ASN A   1      30.410  14.180  42.580  1.00 20.00 \nATOM     23 HA   ASN A   1      29.790  13.840  41.750  1.00 20.00 \nATOM     24 CB   ASN A   1      29.680  13.970  43.910  1.00 20.00 \nATOM     25 HB2  ASN A   1      28.610  14.090  43.760  1.00 20.00 \nATOM     26 HB3  ASN A   1      29.880  13.020  44.410  1.00 20.00 \nATOM     27 CG   ASN A   1      29.930  15.080  44.920  1.00 20.00 \nATOM     28 OD1  ASN A   1      29.060  15.930  45.070  1.00 20.00 \nATOM     29 ND2  ASN A   1      31.150  15.160  45.390  1.00 20.00 \nATOM     30 HD21 ASN A   1      31.300  15.760  46.190  1.00 20.00 \nATOM     31 HD22 ASN A   1      31.650  14.290  45.430  1.00 20.00 \nATOM     32 C    ASN A   1      30.780  15.680  42.230  1.00 20.00 \nATOM     33 O    ASN A   1      31.920  16.150  42.060  1.00 20.00 \nATOM     34 N    ILE A   2      29.720  16.460  42.300  1.00 20.00 \nATOM     35 H    ILE A   2      28.800  16.060  42.360  1.00 20.00 \nATOM     36 CA   ILE A   2      29.730  17.900  41.850  1.00 20.00 \nATOM     37 HA   ILE A   2      30.200  17.910  40.870  1.00 20.00 \nATOM     38 CB   ILE A   2      28.260  18.480  41.650  1.00 20.00 \nATOM     39 HB   ILE A   2      27.860  17.810  40.890  1.00 20.00 \nATOM     40 CG2  ILE A   2      27.360  18.350  42.860  1.00 20.00 \nATOM     41 HG21 ILE A   2      27.350  17.300  43.160  1.00 20.00 \nATOM     42 HG22 ILE A   2      27.750  18.700  43.820  1.00 20.00 \nATOM     43 HG23 ILE A   2      26.300  18.550  42.690  1.00 20.00 \nATOM     44 CG1  ILE A   2      28.160  19.910  41.010  1.00 20.00 \nATOM     45 HG12 ILE A   2      27.090  20.130  40.980  1.00 20.00 \nATOM     46 HG13 ILE A   2      28.570  20.690  41.660  1.00 20.00 \nATOM     47 CD1  ILE A   2      28.700  20.080  39.610  1.00 20.00 \nATOM     48 HD11 ILE A   2      28.240  19.360  38.930  1.00 20.00 \nATOM     49 HD12 ILE A   2      28.450  21.060  39.190  1.00 20.00 \nATOM     50 HD13 ILE A   2      29.790  20.070  39.700  1.00 20.00 \nATOM     51 C    ILE A   2      30.590  18.740  42.830  1.00 20.00 \nATOM     52 O    ILE A   2      31.410  19.490  42.430  1.00 20.00 \nATOM     53 N    PHE A   3      30.450  18.570  44.170  1.00 20.00 \nATOM     54 H    PHE A   3      29.690  18.010  44.530  1.00 20.00 \nATOM     55 CA   PHE A   3      31.220  19.340  45.140  1.00 20.00 \nATOM     56 HA   PHE A   3      31.230  20.350  44.730  1.00 20.00 \nATOM     57 CB   PHE A   3      30.520  19.320  46.560  1.00 20.00 \nATOM     58 HB2  PHE A   3      30.590  18.330  47.000  1.00 20.00 \nATOM     59 HB3  PHE A   3      31.140  20.030  47.090  1.00 20.00 \nATOM     60 CG   PHE A   3      29.080  19.800  46.590  1.00 20.00 \nATOM     61 CD1  PHE A   3      28.040  18.900  46.670  1.00 20.00 \nATOM     62 HD1  PHE A   3      28.220  17.840  46.740  1.00 20.00 \nATOM     63 CE1  PHE A   3      26.740  19.350  46.530  1.00 20.00 \nATOM     64 HE1  PHE A   3      26.010  18.560  46.410  1.00 20.00 \nATOM     65 CZ   PHE A   3      26.380  20.660  46.390  1.00 20.00 \nATOM     66 HZ   PHE A   3      25.410  21.130  46.280  1.00 20.00 \nATOM     67 CE2  PHE A   3      27.430  21.680  46.360  1.00 20.00 \nATOM     68 HE2  PHE A   3      27.240  22.740  46.260  1.00 20.00 \nATOM     69 CD2  PHE A   3      28.750  21.160  46.580  1.00 20.00 \nATOM     70 HD2  PHE A   3      29.570  21.830  46.410  1.00 20.00 \nATOM     71 C    PHE A   3      32.670  18.990  45.190  1.00 20.00 \nATOM     72 O    PHE A   3      33.390  19.720  45.880  1.00 20.00 \nATOM     73 N    GLU A   4      33.110  17.900  44.440  1.00 20.00 \nATOM     74 H    GLU A   4      32.360  17.420  43.960  1.00 20.00 \nATOM     75 CA   GLU A   4      34.560  17.750  44.060  1.00 20.00 \nATOM     76 HA   GLU A   4      35.120  18.220  44.880  1.00 20.00 \nATOM     77 CB   GLU A   4      34.920  16.310  43.940  1.00 20.00 \nATOM     78 HB2  GLU A   4      34.170  15.810  43.330  1.00 20.00 \nATOM     79 HB3  GLU A   4      35.920  16.260  43.490  1.00 20.00 \nATOM     80 CG   GLU A   4      35.060  15.660  45.370  1.00 20.00 \nATOM     81 HG2  GLU A   4      36.090  15.700  45.740  1.00 20.00 \nATOM     82 HG3  GLU A   4      34.420  16.080  46.130  1.00 20.00 \nATOM     83 CD   GLU A   4      34.660  14.150  45.330  1.00 20.00 \nATOM     84 OE1  GLU A   4      33.470  13.710  45.590  1.00 20.00 \nATOM     85 OE2  GLU A   4      35.560  13.300  45.070  1.00 20.00 \nATOM     86 C    GLU A   4      35.010  18.410  42.740  1.00 20.00 \nATOM     87 O    GLU A   4      35.990  19.120  42.700  1.00 20.00 \nATOM     88 N    MET A   5      34.190  18.210  41.700  1.00 20.00 \nATOM     89 H    MET A   5      33.400  17.600  41.830  1.00 20.00 \nATOM     90 CA   MET A   5      34.490  18.890  40.390  1.00 20.00 \nATOM     91 HA   MET A   5      35.410  18.450  40.000  1.00 20.00 \nATOM     92 CB   MET A   5      33.270  18.370  39.480  1.00 20.00 \nATOM     93 HB2  MET A   5      33.110  17.310  39.670  1.00 20.00 \nATOM     94 HB3  MET A   5      32.380  18.920  39.810  1.00 20.00 \nATOM     95 CG   MET A   5      33.440  18.630  37.990  1.00 20.00 \nATOM     96 HG2  MET A   5      34.030  19.530  37.850  1.00 20.00 \nATOM     97 HG3  MET A   5      34.150  17.920  37.580  1.00 20.00 \nATOM     98 SD   MET A   5      32.010  18.760  36.850  1.00 20.00 \nATOM     99 CE   MET A   5      32.810  18.210  35.270  1.00 20.00 \nATOM    100 HE1  MET A   5      33.440  17.360  35.550  1.00 20.00 \nATOM    101 HE2  MET A   5      31.990  17.850  34.650  1.00 20.00 \nATOM    102 HE3  MET A   5      33.350  19.010  34.750  1.00 20.00 \nATOM    103 C    MET A   5      34.730  20.400  40.380  1.00 20.00 \nATOM    104 O    MET A   5      35.730  20.780  39.860  1.00 20.00 \nATOM    105 N    LEU A   6      33.880  21.170  41.010  1.00 20.00 \nATOM    106 H    LEU A   6      33.010  20.770  41.340  1.00 20.00 \nATOM    107 CA   LEU A   6      33.980  22.640  41.170  1.00 20.00 \nATOM    108 HA   LEU A   6      34.200  23.060  40.190  1.00 20.00 \nATOM    109 CB   LEU A   6      32.730  23.190  41.680  1.00 20.00 \nATOM    110 HB2  LEU A   6      32.590  22.870  42.710  1.00 20.00 \nATOM    111 HB3  LEU A   6      32.810  24.270  41.630  1.00 20.00 \nATOM    112 CG   LEU A   6      31.450  22.810  40.830  1.00 20.00 \nATOM    113 HG   LEU A   6      31.390  21.740  40.650  1.00 20.00 \nATOM    114 CD1  LEU A   6      30.140  23.260  41.540  1.00 20.00 \nATOM    115 HD11 LEU A   6      30.070  24.350  41.510  1.00 20.00 \nATOM    116 HD12 LEU A   6      29.300  22.790  41.030  1.00 20.00 \nATOM    117 HD13 LEU A   6      30.240  22.890  42.560  1.00 20.00 \nATOM    118 CD2  LEU A   6      31.440  23.320  39.400  1.00 20.00 \nATOM    119 HD21 LEU A   6      32.410  23.110  38.930  1.00 20.00 \nATOM    120 HD22 LEU A   6      30.600  22.850  38.880  1.00 20.00 \nATOM    121 HD23 LEU A   6      31.190  24.380  39.340  1.00 20.00 \nATOM    122 C    LEU A   6      35.120  23.000  42.190  1.00 20.00 \nATOM    123 O    LEU A   6      35.920  23.900  41.960  1.00 20.00 \nATOM    124 N    ARG A   7      35.330  22.150  43.200  1.00 20.00 \nATOM    125 H    ARG A   7      34.760  21.320  43.310  1.00 20.00 \nATOM    126 CA   ARG A   7      36.360  22.420  44.180  1.00 20.00 \nATOM    127 HA   ARG A   7      36.400  23.490  44.370  1.00 20.00 \nATOM    128 CB   ARG A   7      35.920  21.650  45.480  1.00 20.00 \nATOM    129 HB2  ARG A   7      34.960  22.080  45.770  1.00 20.00 \nATOM    130 HB3  ARG A   7      35.860  20.580  45.290  1.00 20.00 \nATOM    131 CG   ARG A   7      36.910  21.860  46.640  1.00 20.00 \nATOM    132 HG2  ARG A   7      37.840  21.670  46.090  1.00 20.00 \nATOM    133 HG3  ARG A   7      37.030  22.900  46.970  1.00 20.00 \nATOM    134 CD   ARG A   7      36.740  20.780  47.800  1.00 20.00 \nATOM    135 HD2  ARG A   7      37.010  19.890  47.230  1.00 20.00 \nATOM    136 HD3  ARG A   7      37.500  20.820  48.580  1.00 20.00 \nATOM    137 NE   ARG A   7      35.420  20.500  48.330  1.00 20.00 \nATOM    138 HE   ARG A   7      34.770  20.050  47.710  1.00 20.00 \nATOM    139 CZ   ARG A   7      34.960  20.890  49.470  1.00 20.00 \nATOM    140 NH1  ARG A   7      35.590  21.650  50.290  1.00 20.00 \nATOM    141 HH11 ARG A   7      36.510  22.050  50.160  1.00 20.00 \nATOM    142 HH12 ARG A   7      35.040  21.850  51.110  1.00 20.00 \nATOM    143 NH2  ARG A   7      33.700  20.620  49.790  1.00 20.00 \nATOM    144 HH21 ARG A   7      33.130  19.950  49.280  1.00 20.00 \nATOM    145 HH22 ARG A   7      33.350  20.910  50.690  1.00 20.00 \nATOM    146 C    ARG A   7      37.790  22.100  43.640  1.00 20.00 \nATOM    147 O    ARG A   7      38.740  22.830  44.010  1.00 20.00 \nATOM    148 N    ILE A   8      37.950  21.190  42.680  1.00 20.00 \nATOM    149 H    ILE A   8      37.210  20.530  42.520  1.00 20.00 \nATOM    150 CA   ILE A   8      39.140  21.080  41.830  1.00 20.00 \nATOM    151 HA   ILE A   8      40.050  21.160  42.430  1.00 20.00 \nATOM    152 CB   ILE A   8      39.160  19.680  41.200  1.00 20.00 \nATOM    153 HB   ILE A   8      38.240  19.320  40.740  1.00 20.00 \nATOM    154 CG2  ILE A   8      40.260  19.580  40.090  1.00 20.00 \nATOM    155 HG21 ILE A   8      41.180  19.890  40.590  1.00 20.00 \nATOM    156 HG22 ILE A   8      40.510  18.600  39.660  1.00 20.00 \nATOM    157 HG23 ILE A   8      40.150  20.330  39.310  1.00 20.00 \nATOM    158 CG1  ILE A   8      39.480  18.610  42.320  1.00 20.00 \nATOM    159 HG12 ILE A   8      40.530  18.700  42.610  1.00 20.00 \nATOM    160 HG13 ILE A   8      38.870  18.850  43.190  1.00 20.00 \nATOM    161 CD1  ILE A   8      39.300  17.130  42.020  1.00 20.00 \nATOM    162 HD11 ILE A   8      40.010  16.660  42.700  1.00 20.00 \nATOM    163 HD12 ILE A   8      38.250  16.900  42.160  1.00 20.00 \nATOM    164 HD13 ILE A   8      39.590  16.880  40.990  1.00 20.00 \nATOM    165 C    ILE A   8      39.220  22.270  40.820  1.00 20.00 \nATOM    166 O    ILE A   8      40.360  22.830  40.690  1.00 20.00 \nATOM    167 N    ASP A   9      38.160  22.740  40.210  1.00 20.00 \nATOM    168 H    ASP A   9      37.280  22.250  40.320  1.00 20.00 \nATOM    169 CA   ASP A   9      38.320  23.820  39.170  1.00 20.00 \nATOM    170 HA   ASP A   9      39.220  23.540  38.630  1.00 20.00 \nATOM    171 CB   ASP A   9      37.110  23.880  38.170  1.00 20.00 \nATOM    172 HB2  ASP A   9      36.270  24.010  38.850  1.00 20.00 \nATOM    173 HB3  ASP A   9      37.150  24.710  37.470  1.00 20.00 \nATOM    174 CG   ASP A   9      36.960  22.620  37.320  1.00 20.00 \nATOM    175 OD1  ASP A   9      37.950  22.130  36.800  1.00 20.00 \nATOM    176 OD2  ASP A   9      35.770  22.180  37.100  1.00 20.00 \nATOM    177 C    ASP A   9      38.530  25.280  39.740  1.00 20.00 \nATOM    178 O    ASP A   9      39.020  26.220  39.030  1.00 20.00 \nATOM    179 N    GLU A  10      38.290  25.440  41.010  1.00 20.00 \nATOM    180 H    GLU A  10      37.790  24.660  41.410  1.00 20.00 \nATOM    181 CA   GLU A  10      38.370  26.740  41.750  1.00 20.00 \nATOM    182 HA   GLU A  10      38.810  27.480  41.070  1.00 20.00 \nATOM    183 CB   GLU A  10      36.950  27.110  42.190  1.00 20.00 \nATOM    184 HB2  GLU A  10      36.500  26.280  42.730  1.00 20.00 \nATOM    185 HB3  GLU A  10      37.020  28.010  42.810  1.00 20.00 \nATOM    186 CG   GLU A  10      35.950  27.390  41.010  1.00 20.00 \nATOM    187 HG2  GLU A  10      35.820  26.540  40.340  1.00 20.00 \nATOM    188 HG3  GLU A  10      34.960  27.500  41.450  1.00 20.00 \nATOM    189 CD   GLU A  10      36.370  28.620  40.170  1.00 20.00 \nATOM    190 OE1  GLU A  10      35.720  28.790  39.100  1.00 20.00 \nATOM    191 OE2  GLU A  10      37.380  29.280  40.460  1.00 20.00 \nATOM    192 C    GLU A  10      39.290  26.720  42.960  1.00 20.00 \nATOM    193 O    GLU A  10      39.970  27.690  43.190  1.00 20.00 \nATOM    194 N    GLY A  11      39.320  25.600  43.660  1.00 20.00 \nATOM    195 H    GLY A  11      38.670  24.910  43.340  1.00 20.00 \nATOM    196 CA   GLY A  11      39.910  25.590  45.050  1.00 20.00 \nATOM    197 HA2  GLY A  11      39.970  24.560  45.380  1.00 20.00 \nATOM    198 HA3  GLY A  11      40.920  26.000  44.990  1.00 20.00 \nATOM    199 C    GLY A  11      39.190  26.460  46.050  1.00 20.00 \nATOM    200 O    GLY A  11      38.110  27.000  45.790  1.00 20.00 \nATOM    201 N    LEU A  12      39.810  26.640  47.230  1.00 20.00 \nATOM    202 H    LEU A  12      40.510  25.940  47.440  1.00 20.00 \nATOM    203 CA   LEU A  12      39.310  27.470  48.310  1.00 20.00 \nATOM    204 HA   LEU A  12      38.250  27.690  48.150  1.00 20.00 \nATOM    205 CB   LEU A  12      39.600  26.720  49.640  1.00 20.00 \nATOM    206 HB2  LEU A  12      39.280  25.680  49.570  1.00 20.00 \nATOM    207 HB3  LEU A  12      40.680  26.780  49.800  1.00 20.00 \nATOM    208 CG   LEU A  12      38.920  27.430  50.890  1.00 20.00 \nATOM    209 HG   LEU A  12      39.380  28.420  50.980  1.00 20.00 \nATOM    210 CD1  LEU A  12      37.480  27.620  50.840  1.00 20.00 \nATOM    211 HD11 LEU A  12      37.050  26.620  50.790  1.00 20.00 \nATOM    212 HD12 LEU A  12      37.140  28.010  51.800  1.00 20.00 \nATOM    213 HD13 LEU A  12      37.030  28.260  50.080  1.00 20.00 \nATOM    214 CD2  LEU A  12      39.150  26.480  52.070  1.00 20.00 \nATOM    215 HD21 LEU A  12      38.640  25.530  51.900  1.00 20.00 \nATOM    216 HD22 LEU A  12      40.220  26.320  52.210  1.00 20.00 \nATOM    217 HD23 LEU A  12      38.710  26.890  52.980  1.00 20.00 \nATOM    218 C    LEU A  12      40.170  28.800  48.370  1.00 20.00 \nATOM    219 O    LEU A  12      41.370  28.760  48.500  1.00 20.00 \nATOM    220 N    ARG A  13      39.470  29.960  48.290  1.00 20.00 \nATOM    221 H    ARG A  13      38.560  29.860  47.870  1.00 20.00 \nATOM    222 CA   ARG A  13      40.020  31.300  48.510  1.00 20.00 \nATOM    223 HA   ARG A  13      41.020  31.160  48.930  1.00 20.00 \nATOM    224 CB   ARG A  13      40.180  32.070  47.170  1.00 20.00 \nATOM    225 HB2  ARG A  13      39.240  31.960  46.630  1.00 20.00 \nATOM    226 HB3  ARG A  13      40.280  33.130  47.400  1.00 20.00 \nATOM    227 CG   ARG A  13      41.400  31.580  46.450  1.00 20.00 \nATOM    228 HG2  ARG A  13      42.310  31.670  47.050  1.00 20.00 \nATOM    229 HG3  ARG A  13      41.290  30.500  46.340  1.00 20.00 \nATOM    230 CD   ARG A  13      41.510  32.350  45.150  1.00 20.00 \nATOM    231 HD2  ARG A  13      41.060  33.330  45.290  1.00 20.00 \nATOM    232 HD3  ARG A  13      42.540  32.550  44.830  1.00 20.00 \nATOM    233 NE   ARG A  13      40.690  31.580  44.160  1.00 20.00 \nATOM    234 HE   ARG A  13      39.830  31.150  44.490  1.00 20.00 \nATOM    235 CZ   ARG A  13      40.990  31.210  42.930  1.00 20.00 \nATOM    236 NH1  ARG A  13      42.020  31.670  42.290  1.00 20.00 \nATOM    237 HH11 ARG A  13      42.590  32.380  42.740  1.00 20.00 \nATOM    238 HH12 ARG A  13      42.170  31.310  41.360  1.00 20.00 \nATOM    239 NH2  ARG A  13      40.120  30.340  42.340  1.00 20.00 \nATOM    240 HH21 ARG A  13      39.380  29.840  42.810  1.00 20.00 \nATOM    241 HH22 ARG A  13      40.180  30.170  41.340  1.00 20.00 \nATOM    242 C    ARG A  13      39.190  32.130  49.530  1.00 20.00 \nATOM    243 O    ARG A  13      38.120  32.600  49.210  1.00 20.00 \nATOM    244 N    LEU A  14      39.720  32.240  50.780  1.00 20.00 \nATOM    245 H    LEU A  14      40.560  31.680  50.890  1.00 20.00 \nATOM    246 CA   LEU A  14      39.070  32.860  51.950  1.00 20.00 \nATOM    247 HA   LEU A  14      37.980  32.760  51.920  1.00 20.00 \nATOM    248 CB   LEU A  14      39.540  32.160  53.270  1.00 20.00 \nATOM    249 HB2  LEU A  14      40.630  32.200  53.290  1.00 20.00 \nATOM    250 HB3  LEU A  14      39.210  32.690  54.170  1.00 20.00 \nATOM    251 CG   LEU A  14      39.160  30.640  53.470  1.00 20.00 \nATOM    252 HG   LEU A  14      39.550  29.970  52.700  1.00 20.00 \nATOM    253 CD1  LEU A  14      39.750  30.250  54.790  1.00 20.00 \nATOM    254 HD11 LEU A  14      39.510  29.190  54.910  1.00 20.00 \nATOM    255 HD12 LEU A  14      40.830  30.330  54.710  1.00 20.00 \nATOM    256 HD13 LEU A  14      39.400  30.770  55.680  1.00 20.00 \nATOM    257 CD2  LEU A  14      37.650  30.510  53.540  1.00 20.00 \nATOM    258 HD21 LEU A  14      37.260  31.320  54.160  1.00 20.00 \nATOM    259 HD22 LEU A  14      37.240  30.370  52.540  1.00 20.00 \nATOM    260 HD23 LEU A  14      37.400  29.570  54.030  1.00 20.00 \nATOM    261 C    LEU A  14      39.180  34.370  52.050  1.00 20.00 \nATOM    262 O    LEU A  14      38.430  34.950  52.850  1.00 20.00 \nATOM    263 N    LYS A  15      40.000  35.030  51.140  1.00 20.00 \nATOM    264 H    LYS A  15      40.530  34.530  50.430  1.00 20.00 \nATOM    265 CA   LYS A  15      40.090  36.530  51.070  1.00 20.00 \nATOM    266 HA   LYS A  15      39.390  36.980  51.770  1.00 20.00 \nATOM    267 CB   LYS A  15      41.550  36.860  51.560  1.00 20.00 \nATOM    268 HB2  LYS A  15      41.670  36.400  52.550  1.00 20.00 \nATOM    269 HB3  LYS A  15      42.270  36.340  50.930  1.00 20.00 \nATOM    270 CG   LYS A  15      41.830  38.410  51.510  1.00 20.00 \nATOM    271 HG2  LYS A  15      41.930  38.630  50.440  1.00 20.00 \nATOM    272 HG3  LYS A  15      40.990  39.000  51.880  1.00 20.00 \nATOM    273 CD   LYS A  15      43.180  38.810  52.160  1.00 20.00 \nATOM    274 HD2  LYS A  15      43.270  38.300  53.120  1.00 20.00 \nATOM    275 HD3  LYS A  15      43.970  38.450  51.510  1.00 20.00 \nATOM    276 CE   LYS A  15      43.170  40.390  52.360  1.00 20.00 \nATOM    277 HE2  LYS A  15      42.930  40.830  51.390  1.00 20.00 \nATOM    278 HE3  LYS A  15      42.340  40.630  53.020  1.00 20.00 \nATOM    279 NZ   LYS A  15      44.520  40.790  52.840  1.00 20.00 \nATOM    280 HZ1  LYS A  15      45.200  40.820  52.100  1.00 20.00 \nATOM    281 HZ2  LYS A  15      44.500  41.700  53.270  1.00 20.00 \nATOM    282 HZ3  LYS A  15      44.950  40.230  53.570  1.00 20.00 \nATOM    283 C    LYS A  15      39.730  36.970  49.660  1.00 20.00 \nATOM    284 O    LYS A  15      39.970  36.230  48.760  1.00 20.00 \nATOM    285 N    ILE A  16      39.160  38.220  49.460  1.00 20.00 \nATOM    286 H    ILE A  16      38.970  38.850  50.230  1.00 20.00 \nATOM    287 CA   ILE A  16      38.710  38.610  48.090  1.00 20.00 \nATOM    288 HA   ILE A  16      37.950  37.880  47.780  1.00 20.00 \nATOM    289 CB   ILE A  16      38.050  40.100  48.060  1.00 20.00 \nATOM    290 HB   ILE A  16      38.740  40.820  48.490  1.00 20.00 \nATOM    291 CG2  ILE A  16      37.770  40.510  46.620  1.00 20.00 \nATOM    292 HG21 ILE A  16      38.700  40.660  46.070  1.00 20.00 \nATOM    293 HG22 ILE A  16      37.360  39.710  46.010  1.00 20.00 \nATOM    294 HG23 ILE A  16      37.150  41.400  46.480  1.00 20.00 \nATOM    295 CG1  ILE A  16      36.830  40.050  48.970  1.00 20.00 \nATOM    296 HG12 ILE A  16      36.230  39.190  48.670  1.00 20.00 \nATOM    297 HG13 ILE A  16      37.220  39.940  49.980  1.00 20.00 \nATOM    298 CD1  ILE A  16      35.780  41.160  48.790  1.00 20.00 \nATOM    299 HD11 ILE A  16      36.280  42.110  48.980  1.00 20.00 \nATOM    300 HD12 ILE A  16      35.280  41.310  47.830  1.00 20.00 \nATOM    301 HD13 ILE A  16      35.020  41.060  49.580  1.00 20.00 \nATOM    302 C    ILE A  16      39.840  38.410  47.000  1.00 20.00 \nATOM    303 O    ILE A  16      41.030  38.780  47.140  1.00 20.00 \nATOM    304 N    TYR A  17      39.450  37.940  45.780  1.00 20.00 \nATOM    305 H    TYR A  17      38.440  37.860  45.690  1.00 20.00 \nATOM    306 CA   TYR A  17      40.180  37.870  44.550  1.00 20.00 \nATOM    307 HA   TYR A  17      41.060  38.500  44.590  1.00 20.00 \nATOM    308 CB   TYR A  17      40.600  36.430  44.350  1.00 20.00 \nATOM    309 HB2  TYR A  17      41.240  36.430  43.470  1.00 20.00 \nATOM    310 HB3  TYR A  17      41.210  36.070  45.180  1.00 20.00 \nATOM    311 CG   TYR A  17      39.570  35.370  44.110  1.00 20.00 \nATOM    312 CD1  TYR A  17      38.860  34.820  45.160  1.00 20.00 \nATOM    313 HD1  TYR A  17      38.970  35.110  46.190  1.00 20.00 \nATOM    314 CE1  TYR A  17      37.890  33.750  44.960  1.00 20.00 \nATOM    315 HE1  TYR A  17      37.290  33.410  45.800  1.00 20.00 \nATOM    316 CZ   TYR A  17      37.740  33.110  43.660  1.00 20.00 \nATOM    317 OH   TYR A  17      36.710  32.210  43.450  1.00 20.00 \nATOM    318 HH   TYR A  17      36.730  31.840  42.570  1.00 20.00 \nATOM    319 CE2  TYR A  17      38.630  33.570  42.670  1.00 20.00 \nATOM    320 HE2  TYR A  17      38.600  33.040  41.730  1.00 20.00 \nATOM    321 CD2  TYR A  17      39.470  34.670  42.890  1.00 20.00 \nATOM    322 HD2  TYR A  17      39.990  35.020  42.010  1.00 20.00 \nATOM    323 C    TYR A  17      39.270  38.330  43.410  1.00 20.00 \nATOM    324 O    TYR A  17      38.080  38.520  43.610  1.00 20.00 \nATOM    325 N    LYS A  18      39.860  38.570  42.240  1.00 20.00 \nATOM    326 H    LYS A  18      40.860  38.460  42.110  1.00 20.00 \nATOM    327 CA   LYS A  18      39.200  38.800  40.920  1.00 20.00 \nATOM    328 HA   LYS A  18      38.140  39.040  41.040  1.00 20.00 \nATOM    329 CB   LYS A  18      39.940  40.050  40.330  1.00 20.00 \nATOM    330 HB2  LYS A  18      40.960  39.730  40.130  1.00 20.00 \nATOM    331 HB3  LYS A  18      39.530  40.190  39.330  1.00 20.00 \nATOM    332 CG   LYS A  18      39.960  41.410  41.070  1.00 20.00 \nATOM    333 HG2  LYS A  18      38.970  41.870  41.070  1.00 20.00 \nATOM    334 HG3  LYS A  18      40.300  41.250  42.100  1.00 20.00 \nATOM    335 CD   LYS A  18      40.770  42.550  40.350  1.00 20.00 \nATOM    336 HD2  LYS A  18      41.730  42.250  39.930  1.00 20.00 \nATOM    337 HD3  LYS A  18      40.090  42.780  39.530  1.00 20.00 \nATOM    338 CE   LYS A  18      40.840  43.760  41.270  1.00 20.00 \nATOM    339 HE2  LYS A  18      39.870  44.240  41.380  1.00 20.00 \nATOM    340 HE3  LYS A  18      41.320  43.420  42.190  1.00 20.00 \nATOM    341 NZ   LYS A  18      41.700  44.660  40.480  1.00 20.00 \nATOM    342 HZ1  LYS A  18      41.980  45.420  41.080  1.00 20.00 \nATOM    343 HZ2  LYS A  18      42.540  44.270  40.080  1.00 20.00 \nATOM    344 HZ3  LYS A  18      41.210  45.070  39.700  1.00 20.00 \nATOM    345 C    LYS A  18      39.320  37.510  40.060  1.00 20.00 \nATOM    346 O    LYS A  18      40.310  36.770  40.140  1.00 20.00 \nATOM    347 N    ASP A  19      38.270  37.330  39.250  1.00 20.00 \nATOM    348 H    ASP A  19      37.620  38.090  39.150  1.00 20.00 \nATOM    349 CA   ASP A  19      38.160  36.100  38.420  1.00 20.00 \nATOM    350 HA   ASP A  19      38.670  35.290  38.940  1.00 20.00 \nATOM    351 CB   ASP A  19      36.660  35.640  38.330  1.00 20.00 \nATOM    352 HB2  ASP A  19      36.600  34.730  37.730  1.00 20.00 \nATOM    353 HB3  ASP A  19      36.240  35.450  39.320  1.00 20.00 \nATOM    354 CG   ASP A  19      35.690  36.560  37.630  1.00 20.00 \nATOM    355 OD1  ASP A  19      36.110  37.370  36.740  1.00 20.00 \nATOM    356 OD2  ASP A  19      34.430  36.330  37.710  1.00 20.00 \nATOM    357 C    ASP A  19      38.870  36.330  37.050  1.00 20.00 \nATOM    358 O    ASP A  19      39.630  37.330  36.780  1.00 20.00 \nATOM    359 N    THR A  20      38.620  35.390  36.080  1.00 20.00 \nATOM    360 H    THR A  20      38.300  34.510  36.440  1.00 20.00 \nATOM    361 CA   THR A  20      39.220  35.440  34.750  1.00 20.00 \nATOM    362 HA   THR A  20      40.310  35.530  34.780  1.00 20.00 \nATOM    363 CB   THR A  20      38.880  34.170  34.050  1.00 20.00 \nATOM    364 HB   THR A  20      37.900  34.300  33.590  1.00 20.00 \nATOM    365 CG2  THR A  20      39.890  33.700  33.050  1.00 20.00 \nATOM    366 HG21 THR A  20      39.480  32.830  32.540  1.00 20.00 \nATOM    367 HG22 THR A  20      40.030  34.510  32.330  1.00 20.00 \nATOM    368 HG23 THR A  20      40.820  33.520  33.580  1.00 20.00 \nATOM    369 OG1  THR A  20      38.780  33.060  34.920  1.00 20.00 \nATOM    370 HG1  THR A  20      39.570  32.990  35.460  1.00 20.00 \nATOM    371 C    THR A  20      38.770  36.670  33.880  1.00 20.00 \nATOM    372 O    THR A  20      39.520  37.070  32.990  1.00 20.00 \nATOM    373 N    GLU A  21      37.600  37.190  34.240  1.00 20.00 \nATOM    374 H    GLU A  21      37.060  36.760  34.970  1.00 20.00 \nATOM    375 CA   GLU A  21      37.040  38.450  33.690  1.00 20.00 \nATOM    376 HA   GLU A  21      37.590  38.740  32.790  1.00 20.00 \nATOM    377 CB   GLU A  21      35.550  38.270  33.190  1.00 20.00 \nATOM    378 HB2  GLU A  21      34.930  37.990  34.040  1.00 20.00 \nATOM    379 HB3  GLU A  21      35.180  39.170  32.720  1.00 20.00 \nATOM    380 CG   GLU A  21      35.260  37.100  32.130  1.00 20.00 \nATOM    381 HG2  GLU A  21      35.910  36.290  32.470  1.00 20.00 \nATOM    382 HG3  GLU A  21      34.200  36.850  32.250  1.00 20.00 \nATOM    383 CD   GLU A  21      35.460  37.680  30.740  1.00 20.00 \nATOM    384 OE1  GLU A  21      36.580  38.120  30.460  1.00 20.00 \nATOM    385 OE2  GLU A  21      34.540  37.780  29.910  1.00 20.00 \nATOM    386 C    GLU A  21      37.230  39.580  34.690  1.00 20.00 \nATOM    387 O    GLU A  21      36.770  40.660  34.500  1.00 20.00 \nATOM    388 N    GLY A  22      38.020  39.470  35.780  1.00 20.00 \nATOM    389 H    GLY A  22      38.370  38.530  35.900  1.00 20.00 \nATOM    390 CA   GLY A  22      38.470  40.490  36.760  1.00 20.00 \nATOM    391 HA2  GLY A  22      39.320  40.000  37.240  1.00 20.00 \nATOM    392 HA3  GLY A  22      38.870  41.340  36.220  1.00 20.00 \nATOM    393 C    GLY A  22      37.410  40.910  37.790  1.00 20.00 \nATOM    394 O    GLY A  22      37.580  41.980  38.390  1.00 20.00 \nATOM    395 N    TYR A  23      36.320  40.160  37.980  1.00 20.00 \nATOM    396 H    TYR A  23      36.090  39.380  37.380  1.00 20.00 \nATOM    397 CA   TYR A  23      35.210  40.550  38.830  1.00 20.00 \nATOM    398 HA   TYR A  23      35.140  41.640  38.870  1.00 20.00 \nATOM    399 CB   TYR A  23      33.900  40.080  38.130  1.00 20.00 \nATOM    400 HB2  TYR A  23      33.930  39.000  37.960  1.00 20.00 \nATOM    401 HB3  TYR A  23      32.990  40.350  38.670  1.00 20.00 \nATOM    402 CG   TYR A  23      33.750  40.810  36.810  1.00 20.00 \nATOM    403 CD1  TYR A  23      33.840  42.210  36.730  1.00 20.00 \nATOM    404 HD1  TYR A  23      34.160  42.880  37.520  1.00 20.00 \nATOM    405 CE1  TYR A  23      33.440  42.910  35.610  1.00 20.00 \nATOM    406 HE1  TYR A  23      33.370  43.980  35.520  1.00 20.00 \nATOM    407 CZ   TYR A  23      33.100  42.170  34.470  1.00 20.00 \nATOM    408 OH   TYR A  23      32.880  42.840  33.290  1.00 20.00 \nATOM    409 HH   TYR A  23      32.810  42.260  32.530  1.00 20.00 \nATOM    410 CE2  TYR A  23      33.190  40.800  34.500  1.00 20.00 \nATOM    411 HE2  TYR A  23      33.080  40.250  33.570  1.00 20.00 \nATOM    412 CD2  TYR A  23      33.410  40.060  35.680  1.00 20.00 \nATOM    413 HD2  TYR A  23      33.460  38.980  35.670  1.00 20.00 \nATOM    414 C    TYR A  23      35.350  39.980  40.240  1.00 20.00 \nATOM    415 O    TYR A  23      35.820  38.850  40.500  1.00 20.00 \nATOM    416 N    TYR A  24      35.110  40.850  41.240  1.00 20.00 \nATOM    417 H    TYR A  24      34.610  41.680  40.960  1.00 20.00 \nATOM    418 CA   TYR A  24      35.480  40.600  42.650  1.00 20.00 \nATOM    419 HA   TYR A  24      36.490  40.190  42.650  1.00 20.00 \nATOM    420 CB   TYR A  24      35.420  41.950  43.360  1.00 20.00 \nATOM    421 HB2  TYR A  24      34.630  42.540  42.900  1.00 20.00 \nATOM    422 HB3  TYR A  24      35.070  41.790  44.380  1.00 20.00 \nATOM    423 CG   TYR A  24      36.740  42.740  43.500  1.00 20.00 \nATOM    424 CD1  TYR A  24      37.990  42.190  43.810  1.00 20.00 \nATOM    425 HD1  TYR A  24      38.070  41.140  44.040  1.00 20.00 \nATOM    426 CE1  TYR A  24      39.100  43.020  44.020  1.00 20.00 \nATOM    427 HE1  TYR A  24      40.050  42.650  44.370  1.00 20.00 \nATOM    428 CZ   TYR A  24      38.870  44.400  43.770  1.00 20.00 \nATOM    429 OH   TYR A  24      40.020  45.220  43.940  1.00 20.00 \nATOM    430 HH   TYR A  24      39.950  46.150  43.730  1.00 20.00 \nATOM    431 CE2  TYR A  24      37.670  44.950  43.370  1.00 20.00 \nATOM    432 HE2  TYR A  24      37.560  46.010  43.210  1.00 20.00 \nATOM    433 CD2  TYR A  24      36.560  44.130  43.250  1.00 20.00 \nATOM    434 HD2  TYR A  24      35.630  44.630  43.030  1.00 20.00 \nATOM    435 C    TYR A  24      34.610  39.510  43.320  1.00 20.00 \nATOM    436 O    TYR A  24      33.410  39.670  43.480  1.00 20.00 \nATOM    437 N    THR A  25      35.290  38.430  43.690  1.00 20.00 \nATOM    438 H    THR A  25      36.300  38.480  43.560  1.00 20.00 \nATOM    439 CA   THR A  25      34.710  37.190  44.130  1.00 20.00 \nATOM    440 HA   THR A  25      33.640  37.250  44.360  1.00 20.00 \nATOM    441 CB   THR A  25      34.950  36.160  43.000  1.00 20.00 \nATOM    442 HB   THR A  25      36.010  36.000  42.830  1.00 20.00 \nATOM    443 CG2  THR A  25      34.390  34.820  43.070  1.00 20.00 \nATOM    444 HG21 THR A  25      33.310  35.000  43.130  1.00 20.00 \nATOM    445 HG22 THR A  25      34.590  34.170  42.220  1.00 20.00 \nATOM    446 HG23 THR A  25      34.750  34.200  43.900  1.00 20.00 \nATOM    447 OG1  THR A  25      34.320  36.660  41.750  1.00 20.00 \nATOM    448 HG1  THR A  25      34.640  37.550  41.590  1.00 20.00 \nATOM    449 C    THR A  25      35.350  36.670  45.360  1.00 20.00 \nATOM    450 O    THR A  25      36.340  37.230  45.760  1.00 20.00 \nATOM    451 N    ILE A  26      34.720  35.680  45.960  1.00 20.00 \nATOM    452 H    ILE A  26      33.780  35.490  45.640  1.00 20.00 \nATOM    453 CA   ILE A  26      35.240  34.940  47.210  1.00 20.00 \nATOM    454 HA   ILE A  26      36.330  35.030  47.180  1.00 20.00 \nATOM    455 CB   ILE A  26      34.890  35.710  48.460  1.00 20.00 \nATOM    456 HB   ILE A  26      35.030  36.750  48.160  1.00 20.00 \nATOM    457 CG2  ILE A  26      33.460  35.510  48.810  1.00 20.00 \nATOM    458 HG21 ILE A  26      33.370  34.480  49.140  1.00 20.00 \nATOM    459 HG22 ILE A  26      33.280  36.270  49.570  1.00 20.00 \nATOM    460 HG23 ILE A  26      32.810  35.600  47.940  1.00 20.00 \nATOM    461 CG1  ILE A  26      35.820  35.460  49.730  1.00 20.00 \nATOM    462 HG12 ILE A  26      35.570  34.510  50.190  1.00 20.00 \nATOM    463 HG13 ILE A  26      36.850  35.460  49.380  1.00 20.00 \nATOM    464 CD1  ILE A  26      35.670  36.550  50.850  1.00 20.00 \nATOM    465 HD11 ILE A  26      35.750  37.560  50.440  1.00 20.00 \nATOM    466 HD12 ILE A  26      34.730  36.440  51.390  1.00 20.00 \nATOM    467 HD13 ILE A  26      36.400  36.320  51.620  1.00 20.00 \nATOM    468 C    ILE A  26      34.940  33.420  47.230  1.00 20.00 \nATOM    469 O    ILE A  26      34.090  32.930  46.420  1.00 20.00 \nATOM    470 N    GLY A  27      35.560  32.700  48.190  1.00 20.00 \nATOM    471 H    GLY A  27      36.040  33.250  48.890  1.00 20.00 \nATOM    472 CA   GLY A  27      35.340  31.250  48.420  1.00 20.00 \nATOM    473 HA2  GLY A  27      35.930  30.740  49.180  1.00 20.00 \nATOM    474 HA3  GLY A  27      34.270  31.230  48.640  1.00 20.00 \nATOM    475 C    GLY A  27      35.580  30.430  47.160  1.00 20.00 \nATOM    476 O    GLY A  27      36.670  30.490  46.550  1.00 20.00 \nATOM    477 N    ILE A  28      34.630  29.600  46.820  1.00 20.00 \nATOM    478 H    ILE A  28      33.770  29.710  47.330  1.00 20.00 \nATOM    479 CA   ILE A  28      34.760  28.560  45.770  1.00 20.00 \nATOM    480 HA   ILE A  28      35.800  28.420  45.490  1.00 20.00 \nATOM    481 CB   ILE A  28      34.410  27.210  46.380  1.00 20.00 \nATOM    482 HB   ILE A  28      33.350  27.240  46.600  1.00 20.00 \nATOM    483 CG2  ILE A  28      34.690  26.020  45.450  1.00 20.00 \nATOM    484 HG21 ILE A  28      33.940  25.250  45.650  1.00 20.00 \nATOM    485 HG22 ILE A  28      34.730  26.330  44.410  1.00 20.00 \nATOM    486 HG23 ILE A  28      35.710  25.690  45.670  1.00 20.00 \nATOM    487 CG1  ILE A  28      35.200  26.880  47.720  1.00 20.00 \nATOM    488 HG12 ILE A  28      36.280  26.910  47.580  1.00 20.00 \nATOM    489 HG13 ILE A  28      34.930  27.630  48.470  1.00 20.00 \nATOM    490 CD1  ILE A  28      34.870  25.580  48.460  1.00 20.00 \nATOM    491 HD11 ILE A  28      33.780  25.530  48.500  1.00 20.00 \nATOM    492 HD12 ILE A  28      35.300  24.770  47.880  1.00 20.00 \nATOM    493 HD13 ILE A  28      35.150  25.620  49.520  1.00 20.00 \nATOM    494 C    ILE A  28      33.830  29.030  44.580  1.00 20.00 \nATOM    495 O    ILE A  28      32.980  28.310  44.120  1.00 20.00 \nATOM    496 N    GLY A  29      34.070  30.310  44.120  1.00 20.00 \nATOM    497 H    GLY A  29      34.710  30.860  44.680  1.00 20.00 \nATOM    498 CA   GLY A  29      33.430  30.930  42.930  1.00 20.00 \nATOM    499 HA2  GLY A  29      34.230  31.420  42.370  1.00 20.00 \nATOM    500 HA3  GLY A  29      32.980  30.130  42.350  1.00 20.00 \nATOM    501 C    GLY A  29      32.200  31.890  43.220  1.00 20.00 \nATOM    502 O    GLY A  29      31.540  32.260  42.270  1.00 20.00 \nATOM    503 N    HIS A  30      31.910  32.170  44.470  1.00 20.00 \nATOM    504 H    HIS A  30      32.620  32.010  45.170  1.00 20.00 \nATOM    505 CA   HIS A  30      30.780  33.000  44.820  1.00 20.00 \nATOM    506 HA   HIS A  30      29.880  32.760  44.260  1.00 20.00 \nATOM    507 CB   HIS A  30      30.400  32.750  46.300  1.00 20.00 \nATOM    508 HB2  HIS A  30      29.930  31.790  46.490  1.00 20.00 \nATOM    509 HB3  HIS A  30      31.250  32.980  46.950  1.00 20.00 \nATOM    510 CG   HIS A  30      29.250  33.720  46.620  1.00 20.00 \nATOM    511 ND1  HIS A  30      27.950  33.350  46.290  1.00 20.00 \nATOM    512 CE1  HIS A  30      27.190  34.510  46.640  1.00 20.00 \nATOM    513 HE1  HIS A  30      26.120  34.640  46.590  1.00 20.00 \nATOM    514 NE2  HIS A  30      27.960  35.360  47.330  1.00 20.00 \nATOM    515 HE2  HIS A  30      27.680  36.290  47.610  1.00 20.00 \nATOM    516 CD2  HIS A  30      29.180  34.930  47.280  1.00 20.00 \nATOM    517 HD2  HIS A  30      30.050  35.420  47.700  1.00 20.00 \nATOM    518 C    HIS A  30      31.100  34.510  44.490  1.00 20.00 \nATOM    519 O    HIS A  30      32.020  35.060  45.140  1.00 20.00 \nATOM    520 N    LEU A  31      30.450  35.130  43.490  1.00 20.00 \nATOM    521 H    LEU A  31      29.760  34.530  43.040  1.00 20.00 \nATOM    522 CA   LEU A  31      30.670  36.510  43.050  1.00 20.00 \nATOM    523 HA   LEU A  31      31.730  36.730  43.110  1.00 20.00 \nATOM    524 CB   LEU A  31      30.240  36.560  41.610  1.00 20.00 \nATOM    525 HB2  LEU A  31      31.050  35.990  41.150  1.00 20.00 \nATOM    526 HB3  LEU A  31      29.290  36.020  41.550  1.00 20.00 \nATOM    527 CG   LEU A  31      30.220  37.810  40.780  1.00 20.00 \nATOM    528 HG   LEU A  31      29.610  38.530  41.330  1.00 20.00 \nATOM    529 CD1  LEU A  31      31.590  38.400  40.600  1.00 20.00 \nATOM    530 HD11 LEU A  31      32.110  38.560  41.550  1.00 20.00 \nATOM    531 HD12 LEU A  31      32.220  37.650  40.120  1.00 20.00 \nATOM    532 HD13 LEU A  31      31.650  39.340  40.050  1.00 20.00 \nATOM    533 CD2  LEU A  31      29.620  37.660  39.430  1.00 20.00 \nATOM    534 HD21 LEU A  31      30.190  36.910  38.870  1.00 20.00 \nATOM    535 HD22 LEU A  31      28.680  37.150  39.620  1.00 20.00 \nATOM    536 HD23 LEU A  31      29.520  38.660  39.010  1.00 20.00 \nATOM    537 C    LEU A  31      29.960  37.540  43.960  1.00 20.00 \nATOM    538 O    LEU A  31      28.760  37.300  44.260  1.00 20.00 \nATOM    539 N    LEU A  32      30.580  38.690  44.190  1.00 20.00 \nATOM    540 H    LEU A  32      31.510  38.860  43.850  1.00 20.00 \nATOM    541 CA   LEU A  32      30.030  39.780  44.900  1.00 20.00 \nATOM    542 HA   LEU A  32      29.200  39.530  45.560  1.00 20.00 \nATOM    543 CB   LEU A  32      31.030  40.180  46.020  1.00 20.00 \nATOM    544 HB2  LEU A  32      31.940  40.510  45.520  1.00 20.00 \nATOM    545 HB3  LEU A  32      30.630  41.000  46.610  1.00 20.00 \nATOM    546 CG   LEU A  32      31.400  39.020  47.050  1.00 20.00 \nATOM    547 HG   LEU A  32      31.680  38.110  46.520  1.00 20.00 \nATOM    548 CD1  LEU A  32      32.620  39.540  47.930  1.00 20.00 \nATOM    549 HD11 LEU A  32      32.340  40.460  48.430  1.00 20.00 \nATOM    550 HD12 LEU A  32      32.980  38.690  48.510  1.00 20.00 \nATOM    551 HD13 LEU A  32      33.450  39.780  47.260  1.00 20.00 \nATOM    552 CD2  LEU A  32      30.220  38.670  47.870  1.00 20.00 \nATOM    553 HD21 LEU A  32      29.750  39.530  48.350  1.00 20.00 \nATOM    554 HD22 LEU A  32      29.490  38.170  47.220  1.00 20.00 \nATOM    555 HD23 LEU A  32      30.500  38.010  48.690  1.00 20.00 \nATOM    556 C    LEU A  32      29.640  40.990  44.050  1.00 20.00 \nATOM    557 O    LEU A  32      28.500  41.450  44.230  1.00 20.00 \nATOM    558 N    THR A  33      30.520  41.480  43.120  1.00 20.00 \nATOM    559 H    THR A  33      31.490  41.250  42.990  1.00 20.00 \nATOM    560 CA   THR A  33      30.100  42.620  42.210  1.00 20.00 \nATOM    561 HA   THR A  33      29.070  42.430  41.890  1.00 20.00 \nATOM    562 CB   THR A  33      30.250  43.930  43.080  1.00 20.00 \nATOM    563 HB   THR A  33      29.550  43.820  43.910  1.00 20.00 \nATOM    564 CG2  THR A  33      31.650  44.270  43.510  1.00 20.00 \nATOM    565 HG21 THR A  33      31.670  45.250  43.990  1.00 20.00 \nATOM    566 HG22 THR A  33      32.010  43.530  44.210  1.00 20.00 \nATOM    567 HG23 THR A  33      32.320  44.290  42.640  1.00 20.00 \nATOM    568 OG1  THR A  33      29.780  45.100  42.380  1.00 20.00 \nATOM    569 HG1  THR A  33      28.830  45.240  42.370  1.00 20.00 \nATOM    570 C    THR A  33      30.930  42.650  40.950  1.00 20.00 \nATOM    571 O    THR A  33      32.130  42.290  41.080  1.00 20.00 \nATOM    572 N    LYS A  34      30.450  43.290  39.920  1.00 20.00 \nATOM    573 H    LYS A  34      29.490  43.600  39.900  1.00 20.00 \nATOM    574 CA   LYS A  34      31.280  43.840  38.830  1.00 20.00 \nATOM    575 HA   LYS A  34      32.220  43.290  38.800  1.00 20.00 \nATOM    576 CB   LYS A  34      30.510  43.730  37.530  1.00 20.00 \nATOM    577 HB2  LYS A  34      29.650  44.410  37.510  1.00 20.00 \nATOM    578 HB3  LYS A  34      31.320  44.020  36.860  1.00 20.00 \nATOM    579 CG   LYS A  34      30.110  42.290  37.130  1.00 20.00 \nATOM    580 HG2  LYS A  34      30.990  41.640  37.170  1.00 20.00 \nATOM    581 HG3  LYS A  34      29.280  41.930  37.740  1.00 20.00 \nATOM    582 CD   LYS A  34      29.650  42.300  35.690  1.00 20.00 \nATOM    583 HD2  LYS A  34      28.750  42.890  35.470  1.00 20.00 \nATOM    584 HD3  LYS A  34      30.330  42.890  35.080  1.00 20.00 \nATOM    585 CE   LYS A  34      29.530  40.930  35.150  1.00 20.00 \nATOM    586 HE2  LYS A  34      30.510  40.430  35.150  1.00 20.00 \nATOM    587 HE3  LYS A  34      28.860  40.340  35.780  1.00 20.00 \nATOM    588 NZ   LYS A  34      28.990  40.970  33.780  1.00 20.00 \nATOM    589 HZ1  LYS A  34      28.040  41.300  33.770  1.00 20.00 \nATOM    590 HZ2  LYS A  34      29.480  41.530  33.100  1.00 20.00 \nATOM    591 HZ3  LYS A  34      28.890  40.050  33.370  1.00 20.00 \nATOM    592 C    LYS A  34      31.860  45.310  39.140  1.00 20.00 \nATOM    593 O    LYS A  34      32.650  45.750  38.250  1.00 20.00 \nATOM    594 N    SER A  35      31.420  46.030  40.200  1.00 20.00 \nATOM    595 H    SER A  35      30.750  45.620  40.830  1.00 20.00 \nATOM    596 CA   SER A  35      31.920  47.380  40.450  1.00 20.00 \nATOM    597 HA   SER A  35      31.690  48.050  39.620  1.00 20.00 \nATOM    598 CB   SER A  35      31.200  47.920  41.700  1.00 20.00 \nATOM    599 HB2  SER A  35      31.300  47.250  42.550  1.00 20.00 \nATOM    600 HB3  SER A  35      31.550  48.900  42.010  1.00 20.00 \nATOM    601 OG   SER A  35      29.860  48.150  41.260  1.00 20.00 \nATOM    602 HG   SER A  35      29.250  47.910  41.960  1.00 20.00 \nATOM    603 C    SER A  35      33.420  47.330  40.810  1.00 20.00 \nATOM    604 O    SER A  35      33.830  46.450  41.540  1.00 20.00 \nATOM    605 N    PRO A  36      34.270  48.280  40.290  1.00 20.00 \nATOM    606 CD   PRO A  36      33.890  49.380  39.350  1.00 20.00 \nATOM    607 HD2  PRO A  36      33.050  50.010  39.630  1.00 20.00 \nATOM    608 HD3  PRO A  36      33.720  48.950  38.360  1.00 20.00 \nATOM    609 CG   PRO A  36      35.080  50.300  39.210  1.00 20.00 \nATOM    610 HG2  PRO A  36      34.990  51.120  39.920  1.00 20.00 \nATOM    611 HG3  PRO A  36      35.190  50.490  38.140  1.00 20.00 \nATOM    612 CB   PRO A  36      36.240  49.430  39.680  1.00 20.00 \nATOM    613 HB2  PRO A  36      37.100  49.970  40.070  1.00 20.00 \nATOM    614 HB3  PRO A  36      36.510  48.850  38.800  1.00 20.00 \nATOM    615 CA   PRO A  36      35.770  48.340  40.620  1.00 20.00 \nATOM    616 HA   PRO A  36      36.220  47.380  40.370  1.00 20.00 \nATOM    617 C    PRO A  36      36.180  48.780  42.020  1.00 20.00 \nATOM    618 O    PRO A  36      37.340  48.690  42.400  1.00 20.00 \nATOM    619 N    SER A  37      35.220  49.110  42.860  1.00 20.00 \nATOM    620 H    SER A  37      34.260  49.030  42.540  1.00 20.00 \nATOM    621 CA   SER A  37      35.390  49.330  44.320  1.00 20.00 \nATOM    622 HA   SER A  37      36.300  49.920  44.370  1.00 20.00 \nATOM    623 CB   SER A  37      34.170  50.080  44.800  1.00 20.00 \nATOM    624 HB2  SER A  37      34.120  51.020  44.240  1.00 20.00 \nATOM    625 HB3  SER A  37      33.240  49.570  44.560  1.00 20.00 \nATOM    626 OG   SER A  37      34.330  50.320  46.110  1.00 20.00 \nATOM    627 HG   SER A  37      33.730  51.010  46.390  1.00 20.00 \nATOM    628 C    SER A  37      35.470  48.050  45.050  1.00 20.00 \nATOM    629 O    SER A  37      34.500  47.240  44.980  1.00 20.00 \nATOM    630 N    LEU A  38      36.480  47.970  45.880  1.00 20.00 \nATOM    631 H    LEU A  38      37.260  48.590  45.730  1.00 20.00 \nATOM    632 CA   LEU A  38      36.640  46.880  46.760  1.00 20.00 \nATOM    633 HA   LEU A  38      36.370  45.970  46.230  1.00 20.00 \nATOM    634 CB   LEU A  38      38.150  46.800  47.170  1.00 20.00 \nATOM    635 HB2  LEU A  38      38.750  46.870  46.260  1.00 20.00 \nATOM    636 HB3  LEU A  38      38.250  47.780  47.640  1.00 20.00 \nATOM    637 CG   LEU A  38      38.510  45.640  48.100  1.00 20.00 \nATOM    638 HG   LEU A  38      37.730  45.650  48.860  1.00 20.00 \nATOM    639 CD1  LEU A  38      38.340  44.220  47.420  1.00 20.00 \nATOM    640 HD11 LEU A  38      37.310  44.090  47.070  1.00 20.00 \nATOM    641 HD12 LEU A  38      39.070  44.100  46.620  1.00 20.00 \nATOM    642 HD13 LEU A  38      38.400  43.430  48.160  1.00 20.00 \nATOM    643 CD2  LEU A  38      39.830  45.730  48.810  1.00 20.00 \nATOM    644 HD21 LEU A  38      39.910  46.720  49.260  1.00 20.00 \nATOM    645 HD22 LEU A  38      39.860  45.010  49.630  1.00 20.00 \nATOM    646 HD23 LEU A  38      40.640  45.580  48.090  1.00 20.00 \nATOM    647 C    LEU A  38      35.690  47.040  47.920  1.00 20.00 \nATOM    648 O    LEU A  38      35.090  46.130  48.440  1.00 20.00 \nATOM    649 N    ASN A  39      35.410  48.300  48.360  1.00 20.00 \nATOM    650 H    ASN A  39      35.980  49.020  47.940  1.00 20.00 \nATOM    651 CA   ASN A  39      34.450  48.690  49.350  1.00 20.00 \nATOM    652 HA   ASN A  39      34.790  48.120  50.220  1.00 20.00 \nATOM    653 CB   ASN A  39      34.540  50.190  49.650  1.00 20.00 \nATOM    654 HB2  ASN A  39      34.340  50.810  48.770  1.00 20.00 \nATOM    655 HB3  ASN A  39      33.740  50.450  50.350  1.00 20.00 \nATOM    656 CG   ASN A  39      35.840  50.650  50.200  1.00 20.00 \nATOM    657 OD1  ASN A  39      36.830  50.230  49.670  1.00 20.00 \nATOM    658 ND2  ASN A  39      35.880  51.430  51.270  1.00 20.00 \nATOM    659 HD21 ASN A  39      36.760  51.820  51.590  1.00 20.00 \nATOM    660 HD22 ASN A  39      35.100  51.820  51.790  1.00 20.00 \nATOM    661 C    ASN A  39      33.070  48.210  49.070  1.00 20.00 \nATOM    662 O    ASN A  39      32.480  47.590  49.960  1.00 20.00 \nATOM    663 N    ALA A  40      32.640  48.320  47.790  1.00 20.00 \nATOM    664 H    ALA A  40      33.180  48.860  47.130  1.00 20.00 \nATOM    665 CA   ALA A  40      31.300  47.710  47.430  1.00 20.00 \nATOM    666 HA   ALA A  40      30.530  48.070  48.110  1.00 20.00 \nATOM    667 CB   ALA A  40      30.970  48.220  46.010  1.00 20.00 \nATOM    668 HB1  ALA A  40      31.000  49.300  45.860  1.00 20.00 \nATOM    669 HB2  ALA A  40      31.650  47.780  45.280  1.00 20.00 \nATOM    670 HB3  ALA A  40      29.960  47.930  45.700  1.00 20.00 \nATOM    671 C    ALA A  40      31.320  46.190  47.470  1.00 20.00 \nATOM    672 O    ALA A  40      30.320  45.600  47.940  1.00 20.00 \nATOM    673 N    ALA A  41      32.390  45.460  47.080  1.00 20.00 \nATOM    674 H    ALA A  41      33.180  46.010  46.780  1.00 20.00 \nATOM    675 CA   ALA A  41      32.390  43.980  47.090  1.00 20.00 \nATOM    676 HA   ALA A  41      31.440  43.670  46.650  1.00 20.00 \nATOM    677 CB   ALA A  41      33.660  43.520  46.350  1.00 20.00 \nATOM    678 HB1  ALA A  41      34.610  43.510  46.890  1.00 20.00 \nATOM    679 HB2  ALA A  41      33.550  42.470  46.060  1.00 20.00 \nATOM    680 HB3  ALA A  41      33.750  44.050  45.410  1.00 20.00 \nATOM    681 C    ALA A  41      32.330  43.530  48.550  1.00 20.00 \nATOM    682 O    ALA A  41      31.560  42.640  48.900  1.00 20.00 \nATOM    683 N    LYS A  42      33.110  44.130  49.410  1.00 20.00 \nATOM    684 H    LYS A  42      33.770  44.800  49.030  1.00 20.00 \nATOM    685 CA   LYS A  42      33.070  43.950  50.870  1.00 20.00 \nATOM    686 HA   LYS A  42      33.380  42.920  51.040  1.00 20.00 \nATOM    687 CB   LYS A  42      34.120  44.810  51.590  1.00 20.00 \nATOM    688 HB2  LYS A  42      34.090  45.830  51.230  1.00 20.00 \nATOM    689 HB3  LYS A  42      33.840  44.750  52.640  1.00 20.00 \nATOM    690 CG   LYS A  42      35.610  44.340  51.510  1.00 20.00 \nATOM    691 HG2  LYS A  42      35.800  43.580  52.260  1.00 20.00 \nATOM    692 HG3  LYS A  42      35.800  43.910  50.520  1.00 20.00 \nATOM    693 CD   LYS A  42      36.560  45.520  51.770  1.00 20.00 \nATOM    694 HD2  LYS A  42      37.570  45.210  51.520  1.00 20.00 \nATOM    695 HD3  LYS A  42      36.320  46.430  51.220  1.00 20.00 \nATOM    696 CE   LYS A  42      36.450  45.950  53.300  1.00 20.00 \nATOM    697 HE2  LYS A  42      35.580  46.580  53.460  1.00 20.00 \nATOM    698 HE3  LYS A  42      36.400  45.060  53.940  1.00 20.00 \nATOM    699 NZ   LYS A  42      37.670  46.670  53.670  1.00 20.00 \nATOM    700 HZ1  LYS A  42      38.540  46.190  53.530  1.00 20.00 \nATOM    701 HZ2  LYS A  42      37.690  47.560  53.190  1.00 20.00 \nATOM    702 HZ3  LYS A  42      37.630  46.970  54.630  1.00 20.00 \nATOM    703 C    LYS A  42      31.700  44.180  51.460  1.00 20.00 \nATOM    704 O    LYS A  42      31.270  43.370  52.260  1.00 20.00 \nATOM    705 N    SER A  43      31.010  45.270  51.030  1.00 20.00 \nATOM    706 H    SER A  43      31.460  45.790  50.290  1.00 20.00 \nATOM    707 CA   SER A  43      29.680  45.610  51.580  1.00 20.00 \nATOM    708 HA   SER A  43      29.660  45.660  52.670  1.00 20.00 \nATOM    709 CB   SER A  43      29.290  46.940  50.970  1.00 20.00 \nATOM    710 HB2  SER A  43      29.160  46.860  49.890  1.00 20.00 \nATOM    711 HB3  SER A  43      28.260  47.190  51.250  1.00 20.00 \nATOM    712 OG   SER A  43      30.110  47.980  51.350  1.00 20.00 \nATOM    713 HG   SER A  43      31.000  47.810  51.020  1.00 20.00 \nATOM    714 C    SER A  43      28.540  44.670  51.090  1.00 20.00 \nATOM    715 O    SER A  43      27.600  44.480  51.860  1.00 20.00 \nATOM    716 N    GLU A  44      28.690  44.000  49.960  1.00 20.00 \nATOM    717 H    GLU A  44      29.370  44.390  49.320  1.00 20.00 \nATOM    718 CA   GLU A  44      27.780  42.950  49.480  1.00 20.00 \nATOM    719 HA   GLU A  44      26.720  43.130  49.670  1.00 20.00 \nATOM    720 CB   GLU A  44      27.950  42.920  47.930  1.00 20.00 \nATOM    721 HB2  GLU A  44      28.990  43.100  47.630  1.00 20.00 \nATOM    722 HB3  GLU A  44      27.520  41.970  47.600  1.00 20.00 \nATOM    723 CG   GLU A  44      27.330  44.050  47.180  1.00 20.00 \nATOM    724 HG2  GLU A  44      27.900  44.960  47.360  1.00 20.00 \nATOM    725 HG3  GLU A  44      27.500  43.800  46.130  1.00 20.00 \nATOM    726 CD   GLU A  44      25.820  44.230  47.450  1.00 20.00 \nATOM    727 OE1  GLU A  44      25.280  45.340  47.600  1.00 20.00 \nATOM    728 OE2  GLU A  44      25.160  43.190  47.510  1.00 20.00 \nATOM    729 C    GLU A  44      28.090  41.610  50.110  1.00 20.00 \nATOM    730 O    GLU A  44      27.140  40.870  50.350  1.00 20.00 \nATOM    731 N    LEU A  45      29.340  41.310  50.360  1.00 20.00 \nATOM    732 H    LEU A  45      30.050  41.980  50.110  1.00 20.00 \nATOM    733 CA   LEU A  45      29.780  40.250  51.260  1.00 20.00 \nATOM    734 HA   LEU A  45      29.520  39.340  50.730  1.00 20.00 \nATOM    735 CB   LEU A  45      31.260  40.160  51.370  1.00 20.00 \nATOM    736 HB2  LEU A  45      31.650  39.870  50.390  1.00 20.00 \nATOM    737 HB3  LEU A  45      31.650  41.130  51.680  1.00 20.00 \nATOM    738 CG   LEU A  45      31.760  39.030  52.210  1.00 20.00 \nATOM    739 HG   LEU A  45      31.380  39.170  53.220  1.00 20.00 \nATOM    740 CD1  LEU A  45      31.440  37.620  51.700  1.00 20.00 \nATOM    741 HD11 LEU A  45      31.910  37.350  50.750  1.00 20.00 \nATOM    742 HD12 LEU A  45      31.690  37.000  52.560  1.00 20.00 \nATOM    743 HD13 LEU A  45      30.370  37.560  51.470  1.00 20.00 \nATOM    744 CD2  LEU A  45      33.270  39.170  52.170  1.00 20.00 \nATOM    745 HD21 LEU A  45      33.860  38.600  52.890  1.00 20.00 \nATOM    746 HD22 LEU A  45      33.800  39.080  51.220  1.00 20.00 \nATOM    747 HD23 LEU A  45      33.580  40.050  52.740  1.00 20.00 \nATOM    748 C    LEU A  45      28.970  40.240  52.590  1.00 20.00 \nATOM    749 O    LEU A  45      28.510  39.210  53.090  1.00 20.00 \nATOM    750 N    ASP A  46      28.870  41.350  53.230  1.00 20.00 \nATOM    751 H    ASP A  46      29.370  42.180  52.920  1.00 20.00 \nATOM    752 CA   ASP A  46      28.290  41.430  54.640  1.00 20.00 \nATOM    753 HA   ASP A  46      28.790  40.730  55.310  1.00 20.00 \nATOM    754 CB   ASP A  46      28.540  42.850  55.230  1.00 20.00 \nATOM    755 HB2  ASP A  46      28.190  43.640  54.580  1.00 20.00 \nATOM    756 HB3  ASP A  46      28.010  43.040  56.170  1.00 20.00 \nATOM    757 CG   ASP A  46      30.040  43.100  55.490  1.00 20.00 \nATOM    758 OD1  ASP A  46      30.870  42.120  55.450  1.00 20.00 \nATOM    759 OD2  ASP A  46      30.500  44.230  55.690  1.00 20.00 \nATOM    760 C    ASP A  46      26.760  41.210  54.640  1.00 20.00 \nATOM    761 O    ASP A  46      26.220  40.740  55.630  1.00 20.00 \nATOM    762 N    LYS A  47      26.130  41.690  53.600  1.00 20.00 \nATOM    763 H    LYS A  47      26.580  42.230  52.880  1.00 20.00 \nATOM    764 CA   LYS A  47      24.710  41.460  53.350  1.00 20.00 \nATOM    765 HA   LYS A  47      24.170  41.560  54.290  1.00 20.00 \nATOM    766 CB   LYS A  47      24.230  42.510  52.350  1.00 20.00 \nATOM    767 HB2  LYS A  47      24.870  42.410  51.480  1.00 20.00 \nATOM    768 HB3  LYS A  47      23.240  42.200  52.000  1.00 20.00 \nATOM    769 CG   LYS A  47      24.080  43.900  53.030  1.00 20.00 \nATOM    770 HG2  LYS A  47      23.240  43.890  53.720  1.00 20.00 \nATOM    771 HG3  LYS A  47      25.050  44.180  53.450  1.00 20.00 \nATOM    772 CD   LYS A  47      23.730  44.910  51.910  1.00 20.00 \nATOM    773 HD2  LYS A  47      22.760  44.650  51.490  1.00 20.00 \nATOM    774 HD3  LYS A  47      23.540  45.880  52.360  1.00 20.00 \nATOM    775 CE   LYS A  47      24.650  44.990  50.700  1.00 20.00 \nATOM    776 HE2  LYS A  47      25.690  45.180  50.970  1.00 20.00 \nATOM    777 HE3  LYS A  47      24.520  44.110  50.070  1.00 20.00 \nATOM    778 NZ   LYS A  47      24.280  46.240  50.020  1.00 20.00 \nATOM    779 HZ1  LYS A  47      24.660  47.090  50.410  1.00 20.00 \nATOM    780 HZ2  LYS A  47      24.490  46.110  49.040  1.00 20.00 \nATOM    781 HZ3  LYS A  47      23.280  46.340  50.100  1.00 20.00 \nATOM    782 C    LYS A  47      24.500  39.980  52.890  1.00 20.00 \nATOM    783 O    LYS A  47      23.330  39.550  52.960  1.00 20.00 \nATOM    784 N    ALA A  48      25.480  39.250  52.490  1.00 20.00 \nATOM    785 H    ALA A  48      26.400  39.660  52.620  1.00 20.00 \nATOM    786 CA   ALA A  48      25.320  37.750  52.260  1.00 20.00 \nATOM    787 HA   ALA A  48      24.320  37.480  51.940  1.00 20.00 \nATOM    788 CB   ALA A  48      26.290  37.310  51.160  1.00 20.00 \nATOM    789 HB1  ALA A  48      26.280  36.240  50.950  1.00 20.00 \nATOM    790 HB2  ALA A  48      26.010  37.780  50.220  1.00 20.00 \nATOM    791 HB3  ALA A  48      27.280  37.690  51.400  1.00 20.00 \nATOM    792 C    ALA A  48      25.580  36.950  53.480  1.00 20.00 \nATOM    793 O    ALA A  48      24.850  36.000  53.640  1.00 20.00 \nATOM    794 N    ILE A  49      26.450  37.340  54.420  1.00 20.00 \nATOM    795 H    ILE A  49      26.820  38.270  54.330  1.00 20.00 \nATOM    796 CA   ILE A  49      26.670  36.590  55.670  1.00 20.00 \nATOM    797 HA   ILE A  49      26.190  35.620  55.540  1.00 20.00 \nATOM    798 CB   ILE A  49      28.190  36.280  55.850  1.00 20.00 \nATOM    799 HB   ILE A  49      28.560  37.190  56.310  1.00 20.00 \nATOM    800 CG2  ILE A  49      28.450  35.050  56.840  1.00 20.00 \nATOM    801 HG21 ILE A  49      27.800  34.250  56.480  1.00 20.00 \nATOM    802 HG22 ILE A  49      29.480  34.730  56.730  1.00 20.00 \nATOM    803 HG23 ILE A  49      28.220  35.380  57.850  1.00 20.00 \nATOM    804 CG1  ILE A  49      29.020  36.020  54.630  1.00 20.00 \nATOM    805 HG12 ILE A  49      29.050  36.920  54.020  1.00 20.00 \nATOM    806 HG13 ILE A  49      30.010  35.990  55.080  1.00 20.00 \nATOM    807 CD1  ILE A  49      28.680  34.740  53.830  1.00 20.00 \nATOM    808 HD11 ILE A  49      29.540  34.340  53.290  1.00 20.00 \nATOM    809 HD12 ILE A  49      28.410  34.020  54.600  1.00 20.00 \nATOM    810 HD13 ILE A  49      27.860  34.920  53.130  1.00 20.00 \nATOM    811 C    ILE A  49      25.920  37.060  56.910  1.00 20.00 \nATOM    812 O    ILE A  49      25.660  36.260  57.780  1.00 20.00 \nATOM    813 N    GLY A  50      25.610  38.330  56.890  1.00 20.00 \nATOM    814 H    GLY A  50      25.780  38.860  56.040  1.00 20.00 \nATOM    815 CA   GLY A  50      24.800  38.930  57.950  1.00 20.00 \nATOM    816 HA2  GLY A  50      24.420  39.860  57.530  1.00 20.00 \nATOM    817 HA3  GLY A  50      24.020  38.240  58.270  1.00 20.00 \nATOM    818 C    GLY A  50      25.590  39.410  59.110  1.00 20.00 \nATOM    819 O    GLY A  50      25.010  39.540  60.150  1.00 20.00 \nATOM    820 N    ARG A  51      26.880  39.680  58.910  1.00 20.00 \nATOM    821 H    ARG A  51      27.160  39.620  57.940  1.00 20.00 \nATOM    822 CA   ARG A  51      27.880  40.240  59.810  1.00 20.00 \nATOM    823 HA   ARG A  51      27.460  40.970  60.500  1.00 20.00 \nATOM    824 CB   ARG A  51      28.530  39.140  60.710  1.00 20.00 \nATOM    825 HB2  ARG A  51      29.060  39.800  61.390  1.00 20.00 \nATOM    826 HB3  ARG A  51      27.850  38.520  61.290  1.00 20.00 \nATOM    827 CG   ARG A  51      29.430  38.180  59.910  1.00 20.00 \nATOM    828 HG2  ARG A  51      28.960  37.740  59.030  1.00 20.00 \nATOM    829 HG3  ARG A  51      30.300  38.710  59.510  1.00 20.00 \nATOM    830 CD   ARG A  51      29.910  36.950  60.730  1.00 20.00 \nATOM    831 HD2  ARG A  51      30.200  37.350  61.710  1.00 20.00 \nATOM    832 HD3  ARG A  51      29.010  36.340  60.840  1.00 20.00 \nATOM    833 NE   ARG A  51      30.980  36.140  60.060  1.00 20.00 \nATOM    834 HE   ARG A  51      30.720  35.230  59.710  1.00 20.00 \nATOM    835 CZ   ARG A  51      32.260  36.460  60.110  1.00 20.00 \nATOM    836 NH1  ARG A  51      32.610  37.610  60.570  1.00 20.00 \nATOM    837 HH11 ARG A  51      31.940  38.160  61.090  1.00 20.00 \nATOM    838 HH12 ARG A  51      33.560  37.950  60.570  1.00 20.00 \nATOM    839 NH2  ARG A  51      33.120  35.620  59.600  1.00 20.00 \nATOM    840 HH21 ARG A  51      32.790  34.840  59.040  1.00 20.00 \nATOM    841 HH22 ARG A  51      34.070  35.950  59.480  1.00 20.00 \nATOM    842 C    ARG A  51      28.970  40.910  58.940  1.00 20.00 \nATOM    843 O    ARG A  51      29.090  40.650  57.750  1.00 20.00 \nATOM    844 N    ASN A  52      29.830  41.750  59.560  1.00 20.00 \nATOM    845 H    ASN A  52      29.710  41.870  60.560  1.00 20.00 \nATOM    846 CA   ASN A  52      30.870  42.520  58.940  1.00 20.00 \nATOM    847 HA   ASN A  52      30.570  42.730  57.910  1.00 20.00 \nATOM    848 CB   ASN A  52      31.020  43.840  59.640  1.00 20.00 \nATOM    849 HB2  ASN A  52      30.080  44.400  59.690  1.00 20.00 \nATOM    850 HB3  ASN A  52      31.260  43.730  60.700  1.00 20.00 \nATOM    851 CG   ASN A  52      32.060  44.730  59.070  1.00 20.00 \nATOM    852 OD1  ASN A  52      32.830  45.220  59.950  1.00 20.00 \nATOM    853 ND2  ASN A  52      32.190  44.930  57.770  1.00 20.00 \nATOM    854 HD21 ASN A  52      32.930  45.540  57.440  1.00 20.00 \nATOM    855 HD22 ASN A  52      31.450  44.580  57.190  1.00 20.00 \nATOM    856 C    ASN A  52      32.180  41.660  58.710  1.00 20.00 \nATOM    857 O    ASN A  52      33.000  41.590  59.560  1.00 20.00 \nATOM    858 N    CYS A  53      32.230  41.000  57.550  1.00 20.00 \nATOM    859 H    CYS A  53      31.560  41.130  56.810  1.00 20.00 \nATOM    860 CA   CYS A  53      33.350  40.120  57.180  1.00 20.00 \nATOM    861 HA   CYS A  53      33.590  39.520  58.060  1.00 20.00 \nATOM    862 CB   CYS A  53      32.700  39.170  56.160  1.00 20.00 \nATOM    863 HB2  CYS A  53      32.200  39.690  55.340  1.00 20.00 \nATOM    864 HB3  CYS A  53      33.470  38.530  55.730  1.00 20.00 \nATOM    865 SG   CYS A  53      31.390  38.090  56.850  1.00 20.00 \nATOM    866 HG   CYS A  53      30.610  39.000  57.450  1.00 20.00 \nATOM    867 C    CYS A  53      34.700  40.820  56.790  1.00 20.00 \nATOM    868 O    CYS A  53      35.720  40.170  56.740  1.00 20.00 \nATOM    869 N    ASN A  54      34.570  42.100  56.370  1.00 20.00 \nATOM    870 H    ASN A  54      33.700  42.600  56.300  1.00 20.00 \nATOM    871 CA   ASN A  54      35.730  42.920  55.950  1.00 20.00 \nATOM    872 HA   ASN A  54      35.360  43.880  55.590  1.00 20.00 \nATOM    873 CB   ASN A  54      36.660  43.200  57.200  1.00 20.00 \nATOM    874 HB2  ASN A  54      35.990  43.130  58.060  1.00 20.00 \nATOM    875 HB3  ASN A  54      37.500  42.510  57.310  1.00 20.00 \nATOM    876 CG   ASN A  54      37.240  44.600  57.280  1.00 20.00 \nATOM    877 OD1  ASN A  54      36.820  45.530  56.560  1.00 20.00 \nATOM    878 ND2  ASN A  54      38.130  44.910  58.150  1.00 20.00 \nATOM    879 HD21 ASN A  54      38.480  45.850  58.320  1.00 20.00 \nATOM    880 HD22 ASN A  54      38.460  44.100  58.650  1.00 20.00 \nATOM    881 C    ASN A  54      36.530  42.420  54.680  1.00 20.00 \nATOM    882 O    ASN A  54      37.520  43.060  54.350  1.00 20.00 \nATOM    883 N    GLY A  55      35.930  41.440  53.980  1.00 20.00 \nATOM    884 H    GLY A  55      34.980  41.210  54.220  1.00 20.00 \nATOM    885 CA   GLY A  55      36.550  40.870  52.790  1.00 20.00 \nATOM    886 HA2  GLY A  55      35.750  40.730  52.070  1.00 20.00 \nATOM    887 HA3  GLY A  55      37.180  41.650  52.370  1.00 20.00 \nATOM    888 C    GLY A  55      37.400  39.620  53.030  1.00 20.00 \nATOM    889 O    GLY A  55      38.300  39.310  52.240  1.00 20.00 \nATOM    890 N    VAL A  56      37.110  38.890  54.120  1.00 20.00 \nATOM    891 H    VAL A  56      36.260  39.150  54.600  1.00 20.00 \nATOM    892 CA   VAL A  56      37.660  37.580  54.460  1.00 20.00 \nATOM    893 HA   VAL A  56      37.780  37.020  53.530  1.00 20.00 \nATOM    894 CB   VAL A  56      38.940  37.690  55.280  1.00 20.00 \nATOM    895 HB   VAL A  56      39.710  38.190  54.690  1.00 20.00 \nATOM    896 CG1  VAL A  56      38.750  38.610  56.560  1.00 20.00 \nATOM    897 HG11 VAL A  56      38.050  38.220  57.300  1.00 20.00 \nATOM    898 HG12 VAL A  56      39.720  38.790  57.020  1.00 20.00 \nATOM    899 HG13 VAL A  56      38.500  39.660  56.420  1.00 20.00 \nATOM    900 CG2  VAL A  56      39.520  36.250  55.630  1.00 20.00 \nATOM    901 HG21 VAL A  56      39.540  35.670  54.700  1.00 20.00 \nATOM    902 HG22 VAL A  56      40.590  36.370  55.800  1.00 20.00 \nATOM    903 HG23 VAL A  56      38.890  35.710  56.330  1.00 20.00 \nATOM    904 C    VAL A  56      36.540  36.810  55.220  1.00 20.00 \nATOM    905 O    VAL A  56      35.680  37.350  55.910  1.00 20.00 \nATOM    906 N    ILE A  57      36.450  35.490  55.000  1.00 20.00 \nATOM    907 H    ILE A  57      37.070  35.050  54.340  1.00 20.00 \nATOM    908 CA   ILE A  57      35.540  34.600  55.770  1.00 20.00 \nATOM    909 HA   ILE A  57      35.080  35.130  56.600  1.00 20.00 \nATOM    910 CB   ILE A  57      34.350  34.190  54.730  1.00 20.00 \nATOM    911 HB   ILE A  57      33.650  33.520  55.220  1.00 20.00 \nATOM    912 CG2  ILE A  57      33.630  35.440  54.210  1.00 20.00 \nATOM    913 HG21 ILE A  57      34.200  36.040  53.490  1.00 20.00 \nATOM    914 HG22 ILE A  57      32.610  35.240  53.900  1.00 20.00 \nATOM    915 HG23 ILE A  57      33.450  36.120  55.040  1.00 20.00 \nATOM    916 CG1  ILE A  57      34.870  33.330  53.560  1.00 20.00 \nATOM    917 HG12 ILE A  57      35.790  33.790  53.200  1.00 20.00 \nATOM    918 HG13 ILE A  57      35.200  32.340  53.880  1.00 20.00 \nATOM    919 CD1  ILE A  57      33.960  33.130  52.420  1.00 20.00 \nATOM    920 HD11 ILE A  57      33.040  32.560  52.580  1.00 20.00 \nATOM    921 HD12 ILE A  57      33.700  34.050  51.890  1.00 20.00 \nATOM    922 HD13 ILE A  57      34.520  32.490  51.740  1.00 20.00 \nATOM    923 C    ILE A  57      36.190  33.390  56.380  1.00 20.00 \nATOM    924 O    ILE A  57      37.290  33.050  55.990  1.00 20.00 \nATOM    925 N    THR A  58      35.550  32.660  57.270  1.00 20.00 \nATOM    926 H    THR A  58      34.660  33.040  57.560  1.00 20.00 \nATOM    927 CA   THR A  58      35.980  31.330  57.790  1.00 20.00 \nATOM    928 HA   THR A  58      37.060  31.330  57.680  1.00 20.00 \nATOM    929 CB   THR A  58      35.490  31.140  59.280  1.00 20.00 \nATOM    930 HB   THR A  58      36.020  30.240  59.580  1.00 20.00 \nATOM    931 CG2  THR A  58      35.810  32.280  60.180  1.00 20.00 \nATOM    932 HG21 THR A  58      36.860  32.500  59.980  1.00 20.00 \nATOM    933 HG22 THR A  58      35.050  33.050  60.020  1.00 20.00 \nATOM    934 HG23 THR A  58      35.640  31.880  61.180  1.00 20.00 \nATOM    935 OG1  THR A  58      34.110  30.970  59.200  1.00 20.00 \nATOM    936 HG1  THR A  58      33.660  31.810  59.110  1.00 20.00 \nATOM    937 C    THR A  58      35.610  30.170  56.900  1.00 20.00 \nATOM    938 O    THR A  58      34.680  30.160  56.140  1.00 20.00 \nATOM    939 N    LYS A  59      36.340  29.050  57.000  1.00 20.00 \nATOM    940 H    LYS A  59      37.130  29.040  57.620  1.00 20.00 \nATOM    941 CA   LYS A  59      36.250  27.800  56.180  1.00 20.00 \nATOM    942 HA   LYS A  59      36.660  28.040  55.200  1.00 20.00 \nATOM    943 CB   LYS A  59      37.160  26.730  56.750  1.00 20.00 \nATOM    944 HB2  LYS A  59      36.980  26.530  57.810  1.00 20.00 \nATOM    945 HB3  LYS A  59      37.000  25.710  56.400  1.00 20.00 \nATOM    946 CG   LYS A  59      38.680  26.920  56.540  1.00 20.00 \nATOM    947 HG2  LYS A  59      38.860  27.040  55.470  1.00 20.00 \nATOM    948 HG3  LYS A  59      38.890  27.820  57.130  1.00 20.00 \nATOM    949 CD   LYS A  59      39.470  25.750  57.100  1.00 20.00 \nATOM    950 HD2  LYS A  59      40.470  26.190  57.110  1.00 20.00 \nATOM    951 HD3  LYS A  59      39.400  25.580  58.170  1.00 20.00 \nATOM    952 CE   LYS A  59      39.380  24.450  56.280  1.00 20.00 \nATOM    953 HE2  LYS A  59      38.440  23.990  56.600  1.00 20.00 \nATOM    954 HE3  LYS A  59      39.490  24.810  55.250  1.00 20.00 \nATOM    955 NZ   LYS A  59      40.450  23.530  56.580  1.00 20.00 \nATOM    956 HZ1  LYS A  59      40.620  22.790  55.920  1.00 20.00 \nATOM    957 HZ2  LYS A  59      41.370  23.930  56.510  1.00 20.00 \nATOM    958 HZ3  LYS A  59      40.350  23.060  57.470  1.00 20.00 \nATOM    959 C    LYS A  59      34.850  27.280  56.020  1.00 20.00 \nATOM    960 O    LYS A  59      34.420  26.950  54.910  1.00 20.00 \nATOM    961 N    ASP A  60      34.110  27.280  57.100  1.00 20.00 \nATOM    962 H    ASP A  60      34.520  27.690  57.930  1.00 20.00 \nATOM    963 CA   ASP A  60      32.680  26.860  57.150  1.00 20.00 \nATOM    964 HA   ASP A  60      32.540  25.820  56.850  1.00 20.00 \nATOM    965 CB   ASP A  60      32.270  26.870  58.630  1.00 20.00 \nATOM    966 HB2  ASP A  60      32.940  26.170  59.130  1.00 20.00 \nATOM    967 HB3  ASP A  60      32.380  27.880  59.020  1.00 20.00 \nATOM    968 CG   ASP A  60      30.870  26.370  58.760  1.00 20.00 \nATOM    969 OD1  ASP A  60      30.620  25.150  58.460  1.00 20.00 \nATOM    970 OD2  ASP A  60      29.930  27.140  59.130  1.00 20.00 \nATOM    971 C    ASP A  60      31.780  27.780  56.310  1.00 20.00 \nATOM    972 O    ASP A  60      30.740  27.320  55.780  1.00 20.00 \nATOM    973 N    GLU A  61      32.050  29.110  56.320  1.00 20.00 \nATOM    974 H    GLU A  61      32.840  29.380  56.890  1.00 20.00 \nATOM    975 CA   GLU A  61      31.170  30.140  55.760  1.00 20.00 \nATOM    976 HA   GLU A  61      30.110  29.890  55.890  1.00 20.00 \nATOM    977 CB   GLU A  61      31.400  31.470  56.470  1.00 20.00 \nATOM    978 HB2  GLU A  61      32.450  31.770  56.440  1.00 20.00 \nATOM    979 HB3  GLU A  61      30.860  32.240  55.930  1.00 20.00 \nATOM    980 CG   GLU A  61      30.970  31.560  57.970  1.00 20.00 \nATOM    981 HG2  GLU A  61      29.880  31.530  57.990  1.00 20.00 \nATOM    982 HG3  GLU A  61      31.400  30.770  58.590  1.00 20.00 \nATOM    983 CD   GLU A  61      31.440  32.820  58.590  1.00 20.00 \nATOM    984 OE1  GLU A  61      32.610  33.180  58.380  1.00 20.00 \nATOM    985 OE2  GLU A  61      30.760  33.520  59.380  1.00 20.00 \nATOM    986 C    GLU A  61      31.420  30.190  54.200  1.00 20.00 \nATOM    987 O    GLU A  61      30.530  30.450  53.430  1.00 20.00 \nATOM    988 N    ALA A  62      32.660  29.750  53.810  1.00 20.00 \nATOM    989 H    ALA A  62      33.350  29.570  54.530  1.00 20.00 \nATOM    990 CA   ALA A  62      32.970  29.430  52.370  1.00 20.00 \nATOM    991 HA   ALA A  62      32.740  30.170  51.610  1.00 20.00 \nATOM    992 CB   ALA A  62      34.450  29.120  52.200  1.00 20.00 \nATOM    993 HB1  ALA A  62      35.080  29.940  52.520  1.00 20.00 \nATOM    994 HB2  ALA A  62      34.710  28.230  52.770  1.00 20.00 \nATOM    995 HB3  ALA A  62      34.600  28.810  51.170  1.00 20.00 \nATOM    996 C    ALA A  62      32.120  28.280  51.860  1.00 20.00 \nATOM    997 O    ALA A  62      31.550  28.390  50.750  1.00 20.00 \nATOM    998 N    GLU A  63      31.930  27.170  52.640  1.00 20.00 \nATOM    999 H    GLU A  63      32.430  27.210  53.520  1.00 20.00 \nATOM   1000 CA   GLU A  63      31.140  26.000  52.320  1.00 20.00 \nATOM   1001 HA   GLU A  63      31.310  25.830  51.250  1.00 20.00 \nATOM   1002 CB   GLU A  63      31.500  24.700  53.050  1.00 20.00 \nATOM   1003 HB2  GLU A  63      31.610  24.910  54.120  1.00 20.00 \nATOM   1004 HB3  GLU A  63      30.710  23.960  52.970  1.00 20.00 \nATOM   1005 CG   GLU A  63      32.760  24.020  52.380  1.00 20.00 \nATOM   1006 HG2  GLU A  63      32.550  23.840  51.330  1.00 20.00 \nATOM   1007 HG3  GLU A  63      33.550  24.760  52.440  1.00 20.00 \nATOM   1008 CD   GLU A  63      33.190  22.720  53.130  1.00 20.00 \nATOM   1009 OE1  GLU A  63      34.000  21.970  52.580  1.00 20.00 \nATOM   1010 OE2  GLU A  63      32.710  22.520  54.250  1.00 20.00 \nATOM   1011 C    GLU A  63      29.650  26.370  52.380  1.00 20.00 \nATOM   1012 O    GLU A  63      29.010  25.800  51.500  1.00 20.00 \nATOM   1013 N    LYS A  64      29.200  27.100  53.430  1.00 20.00 \nATOM   1014 H    LYS A  64      29.850  27.390  54.150  1.00 20.00 \nATOM   1015 CA   LYS A  64      27.810  27.600  53.480  1.00 20.00 \nATOM   1016 HA   LYS A  64      27.080  26.790  53.400  1.00 20.00 \nATOM   1017 CB   LYS A  64      27.590  28.330  54.830  1.00 20.00 \nATOM   1018 HB2  LYS A  64      28.490  28.840  55.160  1.00 20.00 \nATOM   1019 HB3  LYS A  64      26.650  28.880  54.780  1.00 20.00 \nATOM   1020 CG   LYS A  64      27.260  27.380  55.980  1.00 20.00 \nATOM   1021 HG2  LYS A  64      26.340  26.830  55.790  1.00 20.00 \nATOM   1022 HG3  LYS A  64      28.080  26.670  55.960  1.00 20.00 \nATOM   1023 CD   LYS A  64      27.200  28.060  57.320  1.00 20.00 \nATOM   1024 HD2  LYS A  64      28.200  28.380  57.620  1.00 20.00 \nATOM   1025 HD3  LYS A  64      26.500  28.900  57.320  1.00 20.00 \nATOM   1026 CE   LYS A  64      26.680  27.060  58.340  1.00 20.00 \nATOM   1027 HE2  LYS A  64      26.530  27.600  59.280  1.00 20.00 \nATOM   1028 HE3  LYS A  64      25.710  26.680  58.020  1.00 20.00 \nATOM   1029 NZ   LYS A  64      27.620  25.860  58.570  1.00 20.00 \nATOM   1030 HZ1  LYS A  64      27.380  25.320  59.390  1.00 20.00 \nATOM   1031 HZ2  LYS A  64      27.500  25.270  57.760  1.00 20.00 \nATOM   1032 HZ3  LYS A  64      28.550  26.240  58.700  1.00 20.00 \nATOM   1033 C    LYS A  64      27.510  28.490  52.240  1.00 20.00 \nATOM   1034 O    LYS A  64      26.500  28.220  51.590  1.00 20.00 \nATOM   1035 N    LEU A  65      28.410  29.260  51.740  1.00 20.00 \nATOM   1036 H    LEU A  65      29.230  29.350  52.330  1.00 20.00 \nATOM   1037 CA   LEU A  65      28.220  30.010  50.440  1.00 20.00 \nATOM   1038 HA   LEU A  65      27.270  30.540  50.540  1.00 20.00 \nATOM   1039 CB   LEU A  65      29.410  30.970  50.200  1.00 20.00 \nATOM   1040 HB2  LEU A  65      30.310  30.440  50.540  1.00 20.00 \nATOM   1041 HB3  LEU A  65      29.510  31.170  49.130  1.00 20.00 \nATOM   1042 CG   LEU A  65      29.440  32.360  51.010  1.00 20.00 \nATOM   1043 HG   LEU A  65      29.300  32.200  52.080  1.00 20.00 \nATOM   1044 CD1  LEU A  65      30.790  33.100  50.710  1.00 20.00 \nATOM   1045 HD11 LEU A  65      30.960  34.010  51.300  1.00 20.00 \nATOM   1046 HD12 LEU A  65      31.610  32.430  50.970  1.00 20.00 \nATOM   1047 HD13 LEU A  65      30.890  33.370  49.660  1.00 20.00 \nATOM   1048 CD2  LEU A  65      28.280  33.300  50.510  1.00 20.00 \nATOM   1049 HD21 LEU A  65      27.340  32.840  50.800  1.00 20.00 \nATOM   1050 HD22 LEU A  65      28.360  34.320  50.910  1.00 20.00 \nATOM   1051 HD23 LEU A  65      28.220  33.420  49.430  1.00 20.00 \nATOM   1052 C    LEU A  65      28.060  29.050  49.220  1.00 20.00 \nATOM   1053 O    LEU A  65      27.160  29.200  48.410  1.00 20.00 \nATOM   1054 N    PHE A  66      29.000  28.060  49.090  1.00 20.00 \nATOM   1055 H    PHE A  66      29.690  28.060  49.830  1.00 20.00 \nATOM   1056 CA   PHE A  66      29.110  27.080  47.930  1.00 20.00 \nATOM   1057 HA   PHE A  66      29.490  27.590  47.040  1.00 20.00 \nATOM   1058 CB   PHE A  66      30.230  26.190  48.320  1.00 20.00 \nATOM   1059 HB2  PHE A  66      30.980  26.880  48.700  1.00 20.00 \nATOM   1060 HB3  PHE A  66      29.920  25.600  49.180  1.00 20.00 \nATOM   1061 CG   PHE A  66      30.840  25.170  47.340  1.00 20.00 \nATOM   1062 CD1  PHE A  66      30.490  25.020  46.040  1.00 20.00 \nATOM   1063 HD1  PHE A  66      29.780  25.730  45.650  1.00 20.00 \nATOM   1064 CE1  PHE A  66      31.040  24.110  45.190  1.00 20.00 \nATOM   1065 HE1  PHE A  66      30.710  24.120  44.160  1.00 20.00 \nATOM   1066 CZ   PHE A  66      31.910  23.130  45.720  1.00 20.00 \nATOM   1067 HZ   PHE A  66      32.190  22.310  45.070  1.00 20.00 \nATOM   1068 CE2  PHE A  66      32.320  23.270  47.060  1.00 20.00 \nATOM   1069 HE2  PHE A  66      32.820  22.420  47.500  1.00 20.00 \nATOM   1070 CD2  PHE A  66      31.730  24.220  47.900  1.00 20.00 \nATOM   1071 HD2  PHE A  66      31.830  24.170  48.970  1.00 20.00 \nATOM   1072 C    PHE A  66      27.850  26.310  47.680  1.00 20.00 \nATOM   1073 O    PHE A  66      27.420  26.110  46.530  1.00 20.00 \nATOM   1074 N    ASN A  67      27.170  25.970  48.780  1.00 20.00 \nATOM   1075 H    ASN A  67      27.420  26.190  49.730  1.00 20.00 \nATOM   1076 CA   ASN A  67      25.910  25.210  48.660  1.00 20.00 \nATOM   1077 HA   ASN A  67      26.100  24.340  48.020  1.00 20.00 \nATOM   1078 CB   ASN A  67      25.370  24.720  50.070  1.00 20.00 \nATOM   1079 HB2  ASN A  67      25.940  23.840  50.360  1.00 20.00 \nATOM   1080 HB3  ASN A  67      25.570  25.460  50.850  1.00 20.00 \nATOM   1081 CG   ASN A  67      23.880  24.390  50.100  1.00 20.00 \nATOM   1082 OD1  ASN A  67      23.080  25.260  50.400  1.00 20.00 \nATOM   1083 ND2  ASN A  67      23.430  23.280  49.720  1.00 20.00 \nATOM   1084 HD21 ASN A  67      22.460  23.130  49.960  1.00 20.00 \nATOM   1085 HD22 ASN A  67      24.110  22.550  49.580  1.00 20.00 \nATOM   1086 C    ASN A  67      24.820  26.010  47.930  1.00 20.00 \nATOM   1087 O    ASN A  67      24.080  25.530  47.040  1.00 20.00 \nATOM   1088 N    GLN A  68      24.690  27.220  48.410  1.00 20.00 \nATOM   1089 H    GLN A  68      25.390  27.530  49.070  1.00 20.00 \nATOM   1090 CA   GLN A  68      23.680  28.140  47.960  1.00 20.00 \nATOM   1091 HA   GLN A  68      22.730  27.610  48.030  1.00 20.00 \nATOM   1092 CB   GLN A  68      23.710  29.310  48.990  1.00 20.00 \nATOM   1093 HB2  GLN A  68      24.700  29.770  49.040  1.00 20.00 \nATOM   1094 HB3  GLN A  68      23.060  30.160  48.780  1.00 20.00 \nATOM   1095 CG   GLN A  68      23.280  29.030  50.390  1.00 20.00 \nATOM   1096 HG2  GLN A  68      22.230  28.740  50.420  1.00 20.00 \nATOM   1097 HG3  GLN A  68      23.840  28.210  50.840  1.00 20.00 \nATOM   1098 CD   GLN A  68      23.370  30.250  51.290  1.00 20.00 \nATOM   1099 OE1  GLN A  68      22.420  30.950  51.540  1.00 20.00 \nATOM   1100 NE2  GLN A  68      24.570  30.480  51.830  1.00 20.00 \nATOM   1101 HE21 GLN A  68      25.370  29.870  51.760  1.00 20.00 \nATOM   1102 HE22 GLN A  68      24.580  31.180  52.560  1.00 20.00 \nATOM   1103 C    GLN A  68      23.960  28.690  46.550  1.00 20.00 \nATOM   1104 O    GLN A  68      23.050  28.870  45.710  1.00 20.00 \nATOM   1105 N    ASP A  69      25.230  28.770  46.140  1.00 20.00 \nATOM   1106 H    ASP A  69      26.000  28.820  46.790  1.00 20.00 \nATOM   1107 CA   ASP A  69      25.650  29.100  44.800  1.00 20.00 \nATOM   1108 HA   ASP A  69      25.020  29.870  44.350  1.00 20.00 \nATOM   1109 CB   ASP A  69      27.140  29.540  45.070  1.00 20.00 \nATOM   1110 HB2  ASP A  69      27.060  30.330  45.820  1.00 20.00 \nATOM   1111 HB3  ASP A  69      27.790  28.710  45.350  1.00 20.00 \nATOM   1112 CG   ASP A  69      27.830  30.130  43.840  1.00 20.00 \nATOM   1113 OD1  ASP A  69      27.130  30.840  43.060  1.00 20.00 \nATOM   1114 OD2  ASP A  69      29.080  30.090  43.750  1.00 20.00 \nATOM   1115 C    ASP A  69      25.420  27.910  43.890  1.00 20.00 \nATOM   1116 O    ASP A  69      24.880  28.080  42.780  1.00 20.00 \nATOM   1117 N    VAL A  70      25.700  26.620  44.280  1.00 20.00 \nATOM   1118 H    VAL A  70      26.370  26.430  45.020  1.00 20.00 \nATOM   1119 CA   VAL A  70      25.300  25.450  43.400  1.00 20.00 \nATOM   1120 HA   VAL A  70      25.630  25.490  42.370  1.00 20.00 \nATOM   1121 CB   VAL A  70      25.880  24.130  43.940  1.00 20.00 \nATOM   1122 HB   VAL A  70      25.850  24.070  45.020  1.00 20.00 \nATOM   1123 CG1  VAL A  70      25.250  22.750  43.520  1.00 20.00 \nATOM   1124 HG11 VAL A  70      25.740  21.940  44.050  1.00 20.00 \nATOM   1125 HG12 VAL A  70      24.170  22.840  43.650  1.00 20.00 \nATOM   1126 HG13 VAL A  70      25.370  22.560  42.460  1.00 20.00 \nATOM   1127 CG2  VAL A  70      27.360  24.050  43.530  1.00 20.00 \nATOM   1128 HG21 VAL A  70      27.900  24.860  44.020  1.00 20.00 \nATOM   1129 HG22 VAL A  70      27.910  23.160  43.850  1.00 20.00 \nATOM   1130 HG23 VAL A  70      27.440  24.060  42.440  1.00 20.00 \nATOM   1131 C    VAL A  70      23.780  25.400  43.310  1.00 20.00 \nATOM   1132 O    VAL A  70      23.210  25.250  42.200  1.00 20.00 \nATOM   1133 N    ASP A  71      23.010  25.570  44.340  1.00 20.00 \nATOM   1134 H    ASP A  71      23.460  25.830  45.210  1.00 20.00 \nATOM   1135 CA   ASP A  71      21.560  25.570  44.330  1.00 20.00 \nATOM   1136 HA   ASP A  71      21.400  24.530  44.030  1.00 20.00 \nATOM   1137 CB   ASP A  71      21.040  25.770  45.750  1.00 20.00 \nATOM   1138 HB2  ASP A  71      21.440  25.070  46.490  1.00 20.00 \nATOM   1139 HB3  ASP A  71      21.440  26.750  46.020  1.00 20.00 \nATOM   1140 CG   ASP A  71      19.520  25.660  45.780  1.00 20.00 \nATOM   1141 OD1  ASP A  71      18.890  24.570  45.830  1.00 20.00 \nATOM   1142 OD2  ASP A  71      18.860  26.750  45.810  1.00 20.00 \nATOM   1143 C    ASP A  71      20.900  26.510  43.240  1.00 20.00 \nATOM   1144 O    ASP A  71      19.960  26.170  42.570  1.00 20.00 \nATOM   1145 N    ALA A  72      21.570  27.660  43.050  1.00 20.00 \nATOM   1146 H    ALA A  72      22.460  27.880  43.470  1.00 20.00 \nATOM   1147 CA   ALA A  72      21.070  28.690  42.110  1.00 20.00 \nATOM   1148 HA   ALA A  72      19.990  28.790  42.180  1.00 20.00 \nATOM   1149 CB   ALA A  72      21.590  30.030  42.580  1.00 20.00 \nATOM   1150 HB1  ALA A  72      22.660  30.100  42.730  1.00 20.00 \nATOM   1151 HB2  ALA A  72      21.230  30.790  41.880  1.00 20.00 \nATOM   1152 HB3  ALA A  72      21.110  30.210  43.540  1.00 20.00 \nATOM   1153 C    ALA A  72      21.600  28.300  40.640  1.00 20.00 \nATOM   1154 O    ALA A  72      20.910  28.570  39.650  1.00 20.00 \nATOM   1155 N    ALA A  73      22.700  27.480  40.610  1.00 20.00 \nATOM   1156 H    ALA A  73      23.060  27.070  41.460  1.00 20.00 \nATOM   1157 CA   ALA A  73      23.160  26.840  39.290  1.00 20.00 \nATOM   1158 HA   ALA A  73      23.140  27.640  38.550  1.00 20.00 \nATOM   1159 CB   ALA A  73      24.540  26.260  39.440  1.00 20.00 \nATOM   1160 HB1  ALA A  73      24.430  25.210  39.710  1.00 20.00 \nATOM   1161 HB2  ALA A  73      25.030  26.210  38.470  1.00 20.00 \nATOM   1162 HB3  ALA A  73      25.160  26.770  40.180  1.00 20.00 \nATOM   1163 C    ALA A  73      22.100  25.790  38.900  1.00 20.00 \nATOM   1164 O    ALA A  73      21.590  25.800  37.740  1.00 20.00 \nATOM   1165 N    VAL A  74      21.640  25.000  39.860  1.00 20.00 \nATOM   1166 H    VAL A  74      22.170  25.040  40.720  1.00 20.00 \nATOM   1167 CA   VAL A  74      20.730  23.860  39.670  1.00 20.00 \nATOM   1168 HA   VAL A  74      21.070  23.300  38.800  1.00 20.00 \nATOM   1169 CB   VAL A  74      20.710  22.920  40.930  1.00 20.00 \nATOM   1170 HB   VAL A  74      20.460  23.610  41.740  1.00 20.00 \nATOM   1171 CG1  VAL A  74      19.640  21.770  40.760  1.00 20.00 \nATOM   1172 HG11 VAL A  74      19.870  20.980  41.480  1.00 20.00 \nATOM   1173 HG12 VAL A  74      18.640  22.190  40.910  1.00 20.00 \nATOM   1174 HG13 VAL A  74      19.710  21.480  39.710  1.00 20.00 \nATOM   1175 CG2  VAL A  74      22.040  22.240  41.080  1.00 20.00 \nATOM   1176 HG21 VAL A  74      21.990  21.680  42.020  1.00 20.00 \nATOM   1177 HG22 VAL A  74      22.100  21.570  40.220  1.00 20.00 \nATOM   1178 HG23 VAL A  74      22.820  22.980  40.920  1.00 20.00 \nATOM   1179 C    VAL A  74      19.310  24.370  39.300  1.00 20.00 \nATOM   1180 O    VAL A  74      18.800  23.980  38.270  1.00 20.00 \nATOM   1181 N    ARG A  75      18.690  25.220  40.140  1.00 20.00 \nATOM   1182 H    ARG A  75      19.150  25.380  41.020  1.00 20.00 \nATOM   1183 CA   ARG A  75      17.430  25.940  39.770  1.00 20.00 \nATOM   1184 HA   ARG A  75      16.650  25.200  39.600  1.00 20.00 \nATOM   1185 CB   ARG A  75      16.840  26.670  41.000  1.00 20.00 \nATOM   1186 HB2  ARG A  75      17.480  27.530  41.190  1.00 20.00 \nATOM   1187 HB3  ARG A  75      15.870  27.050  40.690  1.00 20.00 \nATOM   1188 CG   ARG A  75      16.670  25.790  42.250  1.00 20.00 \nATOM   1189 HG2  ARG A  75      16.060  24.940  41.930  1.00 20.00 \nATOM   1190 HG3  ARG A  75      17.700  25.560  42.530  1.00 20.00 \nATOM   1191 CD   ARG A  75      16.090  26.540  43.390  1.00 20.00 \nATOM   1192 HD2  ARG A  75      16.620  27.490  43.310  1.00 20.00 \nATOM   1193 HD3  ARG A  75      15.040  26.770  43.220  1.00 20.00 \nATOM   1194 NE   ARG A  75      16.380  25.770  44.660  1.00 20.00 \nATOM   1195 HE   ARG A  75      17.370  25.690  44.830  1.00 20.00 \nATOM   1196 CZ   ARG A  75      15.590  24.930  45.270  1.00 20.00 \nATOM   1197 NH1  ARG A  75      14.310  24.950  45.180  1.00 20.00 \nATOM   1198 HH11 ARG A  75      13.890  25.770  44.770  1.00 20.00 \nATOM   1199 HH12 ARG A  75      13.770  24.170  45.540  1.00 20.00 \nATOM   1200 NH2  ARG A  75      16.150  24.050  46.090  1.00 20.00 \nATOM   1201 HH21 ARG A  75      17.130  24.100  46.330  1.00 20.00 \nATOM   1202 HH22 ARG A  75      15.500  23.620  46.720  1.00 20.00 \nATOM   1203 C    ARG A  75      17.570  26.730  38.470  1.00 20.00 \nATOM   1204 O    ARG A  75      16.720  26.620  37.630  1.00 20.00 \nATOM   1205 N    GLY A  76      18.660  27.480  38.220  1.00 20.00 \nATOM   1206 H    GLY A  76      19.170  27.830  39.020  1.00 20.00 \nATOM   1207 CA   GLY A  76      18.960  28.130  36.930  1.00 20.00 \nATOM   1208 HA2  GLY A  76      18.300  28.990  36.830  1.00 20.00 \nATOM   1209 HA3  GLY A  76      19.950  28.580  36.910  1.00 20.00 \nATOM   1210 C    GLY A  76      18.810  27.290  35.660  1.00 20.00 \nATOM   1211 O    GLY A  76      18.030  27.620  34.740  1.00 20.00 \nATOM   1212 N    ILE A  77      19.190  25.940  35.710  1.00 20.00 \nATOM   1213 H    ILE A  77      19.590  25.630  36.580  1.00 20.00 \nATOM   1214 CA   ILE A  77      18.910  25.000  34.570  1.00 20.00 \nATOM   1215 HA   ILE A  77      19.100  25.520  33.630  1.00 20.00 \nATOM   1216 CB   ILE A  77      19.870  23.830  34.580  1.00 20.00 \nATOM   1217 HB   ILE A  77      19.830  23.400  35.580  1.00 20.00 \nATOM   1218 CG2  ILE A  77      19.380  22.810  33.500  1.00 20.00 \nATOM   1219 HG21 ILE A  77      18.660  22.120  33.940  1.00 20.00 \nATOM   1220 HG22 ILE A  77      19.210  23.180  32.500  1.00 20.00 \nATOM   1221 HG23 ILE A  77      20.120  22.090  33.170  1.00 20.00 \nATOM   1222 CG1  ILE A  77      21.320  24.200  34.350  1.00 20.00 \nATOM   1223 HG12 ILE A  77      21.480  24.520  33.320  1.00 20.00 \nATOM   1224 HG13 ILE A  77      21.550  25.010  35.050  1.00 20.00 \nATOM   1225 CD1  ILE A  77      22.270  22.970  34.590  1.00 20.00 \nATOM   1226 HD11 ILE A  77      22.640  22.690  33.600  1.00 20.00 \nATOM   1227 HD12 ILE A  77      23.080  23.330  35.220  1.00 20.00 \nATOM   1228 HD13 ILE A  77      21.710  22.170  35.070  1.00 20.00 \nATOM   1229 C    ILE A  77      17.460  24.520  34.490  1.00 20.00 \nATOM   1230 O    ILE A  77      16.830  24.500  33.380  1.00 20.00 \nATOM   1231 N    LEU A  78      17.020  24.030  35.620  1.00 20.00 \nATOM   1232 H    LEU A  78      17.540  24.120  36.480  1.00 20.00 \nATOM   1233 CA   LEU A  78      15.700  23.380  35.710  1.00 20.00 \nATOM   1234 HA   LEU A  78      15.760  22.480  35.110  1.00 20.00 \nATOM   1235 CB   LEU A  78      15.630  22.770  37.160  1.00 20.00 \nATOM   1236 HB2  LEU A  78      15.670  23.570  37.890  1.00 20.00 \nATOM   1237 HB3  LEU A  78      14.650  22.340  37.370  1.00 20.00 \nATOM   1238 CG   LEU A  78      16.600  21.630  37.580  1.00 20.00 \nATOM   1239 HG   LEU A  78      17.580  21.920  37.200  1.00 20.00 \nATOM   1240 CD1  LEU A  78      16.580  21.150  39.020  1.00 20.00 \nATOM   1241 HD11 LEU A  78      16.940  22.000  39.600  1.00 20.00 \nATOM   1242 HD12 LEU A  78      15.540  20.980  39.330  1.00 20.00 \nATOM   1243 HD13 LEU A  78      17.170  20.250  39.180  1.00 20.00 \nATOM   1244 CD2  LEU A  78      16.020  20.410  36.810  1.00 20.00 \nATOM   1245 HD21 LEU A  78      15.960  20.600  35.730  1.00 20.00 \nATOM   1246 HD22 LEU A  78      16.790  19.640  36.810  1.00 20.00 \nATOM   1247 HD23 LEU A  78      15.120  19.980  37.240  1.00 20.00 \nATOM   1248 C    LEU A  78      14.510  24.270  35.380  1.00 20.00 \nATOM   1249 O    LEU A  78      13.380  23.770  35.300  1.00 20.00 \nATOM   1250 N    ARG A  79      14.760  25.580  35.240  1.00 20.00 \nATOM   1251 H    ARG A  79      15.700  25.800  35.550  1.00 20.00 \nATOM   1252 CA   ARG A  79      13.820  26.660  35.200  1.00 20.00 \nATOM   1253 HA   ARG A  79      12.790  26.330  35.150  1.00 20.00 \nATOM   1254 CB   ARG A  79      13.760  27.570  36.390  1.00 20.00 \nATOM   1255 HB2  ARG A  79      14.760  27.840  36.720  1.00 20.00 \nATOM   1256 HB3  ARG A  79      13.390  28.570  36.160  1.00 20.00 \nATOM   1257 CG   ARG A  79      13.120  27.060  37.700  1.00 20.00 \nATOM   1258 HG2  ARG A  79      12.040  26.940  37.600  1.00 20.00 \nATOM   1259 HG3  ARG A  79      13.530  26.060  37.900  1.00 20.00 \nATOM   1260 CD   ARG A  79      13.340  28.070  38.850  1.00 20.00 \nATOM   1261 HD2  ARG A  79      14.380  28.370  38.970  1.00 20.00 \nATOM   1262 HD3  ARG A  79      12.760  28.930  38.490  1.00 20.00 \nATOM   1263 NE   ARG A  79      12.870  27.470  40.110  1.00 20.00 \nATOM   1264 HE   ARG A  79      12.150  26.760  40.080  1.00 20.00 \nATOM   1265 CZ   ARG A  79      13.090  27.970  41.300  1.00 20.00 \nATOM   1266 NH1  ARG A  79      13.890  28.950  41.580  1.00 20.00 \nATOM   1267 HH11 ARG A  79      14.500  29.310  40.860  1.00 20.00 \nATOM   1268 HH12 ARG A  79      14.070  29.270  42.530  1.00 20.00 \nATOM   1269 NH2  ARG A  79      12.590  27.360  42.330  1.00 20.00 \nATOM   1270 HH21 ARG A  79      11.970  26.560  42.240  1.00 20.00 \nATOM   1271 HH22 ARG A  79      12.800  27.660  43.270  1.00 20.00 \nATOM   1272 C    ARG A  79      13.940  27.530  33.900  1.00 20.00 \nATOM   1273 O    ARG A  79      13.230  28.480  33.730  1.00 20.00 \nATOM   1274 N    ASN A  80      14.780  27.080  32.960  1.00 20.00 \nATOM   1275 H    ASN A  80      15.330  26.260  33.160  1.00 20.00 \nATOM   1276 CA   ASN A  80      15.060  27.780  31.700  1.00 20.00 \nATOM   1277 HA   ASN A  80      14.360  28.620  31.640  1.00 20.00 \nATOM   1278 CB   ASN A  80      16.490  28.230  31.750  1.00 20.00 \nATOM   1279 HB2  ASN A  80      16.580  28.870  32.630  1.00 20.00 \nATOM   1280 HB3  ASN A  80      17.060  27.310  31.840  1.00 20.00 \nATOM   1281 CG   ASN A  80      16.990  29.040  30.580  1.00 20.00 \nATOM   1282 OD1  ASN A  80      16.890  28.540  29.480  1.00 20.00 \nATOM   1283 ND2  ASN A  80      17.510  30.200  30.850  1.00 20.00 \nATOM   1284 HD21 ASN A  80      17.980  30.750  30.150  1.00 20.00 \nATOM   1285 HD22 ASN A  80      17.540  30.450  31.830  1.00 20.00 \nATOM   1286 C    ASN A  80      14.720  26.860  30.520  1.00 20.00 \nATOM   1287 O    ASN A  80      15.320  25.810  30.400  1.00 20.00 \nATOM   1288 N    ALA A  81      13.770  27.300  29.720  1.00 20.00 \nATOM   1289 H    ALA A  81      13.350  28.180  29.970  1.00 20.00 \nATOM   1290 CA   ALA A  81      13.170  26.400  28.710  1.00 20.00 \nATOM   1291 HA   ALA A  81      12.790  25.490  29.150  1.00 20.00 \nATOM   1292 CB   ALA A  81      12.030  27.270  28.110  1.00 20.00 \nATOM   1293 HB1  ALA A  81      11.170  27.250  28.770  1.00 20.00 \nATOM   1294 HB2  ALA A  81      12.380  28.290  27.980  1.00 20.00 \nATOM   1295 HB3  ALA A  81      11.690  26.950  27.130  1.00 20.00 \nATOM   1296 C    ALA A  81      14.090  26.000  27.540  1.00 20.00 \nATOM   1297 O    ALA A  81      13.910  24.940  26.990  1.00 20.00 \nATOM   1298 N    LYS A  82      15.120  26.790  27.310  1.00 20.00 \nATOM   1299 H    LYS A  82      15.050  27.680  27.780  1.00 20.00 \nATOM   1300 CA   LYS A  82      16.350  26.460  26.480  1.00 20.00 \nATOM   1301 HA   LYS A  82      15.990  25.940  25.590  1.00 20.00 \nATOM   1302 CB   LYS A  82      17.080  27.670  26.090  1.00 20.00 \nATOM   1303 HB2  LYS A  82      17.360  28.270  26.960  1.00 20.00 \nATOM   1304 HB3  LYS A  82      18.000  27.420  25.570  1.00 20.00 \nATOM   1305 CG   LYS A  82      16.310  28.480  25.080  1.00 20.00 \nATOM   1306 HG2  LYS A  82      16.490  27.950  24.140  1.00 20.00 \nATOM   1307 HG3  LYS A  82      15.240  28.370  25.270  1.00 20.00 \nATOM   1308 CD   LYS A  82      16.610  29.950  24.880  1.00 20.00 \nATOM   1309 HD2  LYS A  82      16.210  30.560  25.690  1.00 20.00 \nATOM   1310 HD3  LYS A  82      17.680  30.100  24.760  1.00 20.00 \nATOM   1311 CE   LYS A  82      15.930  30.290  23.590  1.00 20.00 \nATOM   1312 HE2  LYS A  82      16.510  29.780  22.810  1.00 20.00 \nATOM   1313 HE3  LYS A  82      14.920  29.880  23.620  1.00 20.00 \nATOM   1314 NZ   LYS A  82      16.090  31.700  23.330  1.00 20.00 \nATOM   1315 HZ1  LYS A  82      15.640  32.170  24.100  1.00 20.00 \nATOM   1316 HZ2  LYS A  82      17.040  32.020  23.220  1.00 20.00 \nATOM   1317 HZ3  LYS A  82      15.540  31.980  22.530  1.00 20.00 \nATOM   1318 C    LYS A  82      17.260  25.430  27.020  1.00 20.00 \nATOM   1319 O    LYS A  82      17.910  24.800  26.160  1.00 20.00 \nATOM   1320 N    LEU A  83      17.420  25.320  28.370  1.00 20.00 \nATOM   1321 H    LEU A  83      16.870  25.930  28.950  1.00 20.00 \nATOM   1322 CA   LEU A  83      18.410  24.430  29.030  1.00 20.00 \nATOM   1323 HA   LEU A  83      19.120  24.110  28.270  1.00 20.00 \nATOM   1324 CB   LEU A  83      19.170  25.220  30.090  1.00 20.00 \nATOM   1325 HB2  LEU A  83      18.490  25.310  30.930  1.00 20.00 \nATOM   1326 HB3  LEU A  83      19.930  24.500  30.410  1.00 20.00 \nATOM   1327 CG   LEU A  83      19.820  26.530  29.890  1.00 20.00 \nATOM   1328 HG   LEU A  83      19.130  27.220  29.390  1.00 20.00 \nATOM   1329 CD1  LEU A  83      20.410  27.080  31.250  1.00 20.00 \nATOM   1330 HD11 LEU A  83      21.160  26.450  31.730  1.00 20.00 \nATOM   1331 HD12 LEU A  83      20.710  28.120  31.230  1.00 20.00 \nATOM   1332 HD13 LEU A  83      19.650  26.870  32.010  1.00 20.00 \nATOM   1333 CD2  LEU A  83      20.980  26.410  28.870  1.00 20.00 \nATOM   1334 HD21 LEU A  83      20.640  25.790  28.040  1.00 20.00 \nATOM   1335 HD22 LEU A  83      21.390  27.360  28.550  1.00 20.00 \nATOM   1336 HD23 LEU A  83      21.740  25.720  29.240  1.00 20.00 \nATOM   1337 C    LEU A  83      17.810  23.130  29.590  1.00 20.00 \nATOM   1338 O    LEU A  83      18.410  22.070  29.420  1.00 20.00 \nATOM   1339 N    LYS A  84      16.620  23.210  30.180  1.00 20.00 \nATOM   1340 H    LYS A  84      16.300  24.150  30.340  1.00 20.00 \nATOM   1341 CA   LYS A  84      15.900  22.110  30.870  1.00 20.00 \nATOM   1342 HA   LYS A  84      16.530  21.710  31.670  1.00 20.00 \nATOM   1343 CB   LYS A  84      14.700  22.690  31.580  1.00 20.00 \nATOM   1344 HB2  LYS A  84      14.570  22.050  32.450  1.00 20.00 \nATOM   1345 HB3  LYS A  84      14.970  23.680  31.950  1.00 20.00 \nATOM   1346 CG   LYS A  84      13.320  22.760  30.950  1.00 20.00 \nATOM   1347 HG2  LYS A  84      13.320  23.240  29.970  1.00 20.00 \nATOM   1348 HG3  LYS A  84      12.960  21.740  30.840  1.00 20.00 \nATOM   1349 CD   LYS A  84      12.510  23.540  32.030  1.00 20.00 \nATOM   1350 HD2  LYS A  84      12.590  23.080  33.010  1.00 20.00 \nATOM   1351 HD3  LYS A  84      12.760  24.600  31.990  1.00 20.00 \nATOM   1352 CE   LYS A  84      10.990  23.440  31.620  1.00 20.00 \nATOM   1353 HE2  LYS A  84      10.540  24.420  31.780  1.00 20.00 \nATOM   1354 HE3  LYS A  84      10.960  23.370  30.530  1.00 20.00 \nATOM   1355 NZ   LYS A  84      10.290  22.290  32.230  1.00 20.00 \nATOM   1356 HZ1  LYS A  84      10.440  22.190  33.230  1.00 20.00 \nATOM   1357 HZ2  LYS A  84       9.310  22.510  32.090  1.00 20.00 \nATOM   1358 HZ3  LYS A  84      10.380  21.380  31.810  1.00 20.00 \nATOM   1359 C    LYS A  84      15.540  20.870  30.030  1.00 20.00 \nATOM   1360 O    LYS A  84      15.680  19.730  30.540  1.00 20.00 \nATOM   1361 N    PRO A  85      15.140  20.930  28.720  1.00 20.00 \nATOM   1362 CD   PRO A  85      14.910  22.100  27.830  1.00 20.00 \nATOM   1363 HD2  PRO A  85      15.720  22.830  27.780  1.00 20.00 \nATOM   1364 HD3  PRO A  85      13.950  22.560  28.090  1.00 20.00 \nATOM   1365 CG   PRO A  85      14.730  21.510  26.450  1.00 20.00 \nATOM   1366 HG2  PRO A  85      15.590  21.530  25.780  1.00 20.00 \nATOM   1367 HG3  PRO A  85      13.930  22.050  25.940  1.00 20.00 \nATOM   1368 CB   PRO A  85      14.220  20.060  26.700  1.00 20.00 \nATOM   1369 HB2  PRO A  85      14.470  19.360  25.910  1.00 20.00 \nATOM   1370 HB3  PRO A  85      13.160  20.110  26.930  1.00 20.00 \nATOM   1371 CA   PRO A  85      14.990  19.610  27.930  1.00 20.00 \nATOM   1372 HA   PRO A  85      14.380  18.910  28.490  1.00 20.00 \nATOM   1373 C    PRO A  85      16.370  18.970  27.500  1.00 20.00 \nATOM   1374 O    PRO A  85      16.390  17.760  27.250  1.00 20.00 \nATOM   1375 N    VAL A  86      17.500  19.780  27.360  1.00 20.00 \nATOM   1376 H    VAL A  86      17.370  20.750  27.590  1.00 20.00 \nATOM   1377 CA   VAL A  86      18.870  19.290  27.030  1.00 20.00 \nATOM   1378 HA   VAL A  86      18.830  18.630  26.170  1.00 20.00 \nATOM   1379 CB   VAL A  86      19.830  20.450  26.780  1.00 20.00 \nATOM   1380 HB   VAL A  86      20.020  21.140  27.600  1.00 20.00 \nATOM   1381 CG1  VAL A  86      21.170  19.810  26.360  1.00 20.00 \nATOM   1382 HG11 VAL A  86      21.620  19.100  27.050  1.00 20.00 \nATOM   1383 HG12 VAL A  86      21.010  19.250  25.440  1.00 20.00 \nATOM   1384 HG13 VAL A  86      21.820  20.650  26.100  1.00 20.00 \nATOM   1385 CG2  VAL A  86      19.210  21.280  25.690  1.00 20.00 \nATOM   1386 HG21 VAL A  86      18.150  21.530  25.770  1.00 20.00 \nATOM   1387 HG22 VAL A  86      19.740  22.220  25.560  1.00 20.00 \nATOM   1388 HG23 VAL A  86      19.350  20.670  24.790  1.00 20.00 \nATOM   1389 C    VAL A  86      19.220  18.460  28.320  1.00 20.00 \nATOM   1390 O    VAL A  86      19.480  17.250  28.270  1.00 20.00 \nATOM   1391 N    TYR A  87      19.170  19.050  29.500  1.00 20.00 \nATOM   1392 H    TYR A  87      18.850  20.010  29.490  1.00 20.00 \nATOM   1393 CA   TYR A  87      19.470  18.440  30.800  1.00 20.00 \nATOM   1394 HA   TYR A  87      20.500  18.090  30.720  1.00 20.00 \nATOM   1395 CB   TYR A  87      19.330  19.540  31.860  1.00 20.00 \nATOM   1396 HB2  TYR A  87      19.930  20.390  31.520  1.00 20.00 \nATOM   1397 HB3  TYR A  87      18.320  19.930  31.810  1.00 20.00 \nATOM   1398 CG   TYR A  87      19.720  19.250  33.300  1.00 20.00 \nATOM   1399 CD1  TYR A  87      21.030  19.550  33.810  1.00 20.00 \nATOM   1400 HD1  TYR A  87      21.800  19.970  33.170  1.00 20.00 \nATOM   1401 CE1  TYR A  87      21.340  19.360  35.180  1.00 20.00 \nATOM   1402 HE1  TYR A  87      22.330  19.560  35.560  1.00 20.00 \nATOM   1403 CZ   TYR A  87      20.290  18.730  35.980  1.00 20.00 \nATOM   1404 OH   TYR A  87      20.560  18.430  37.250  1.00 20.00 \nATOM   1405 HH   TYR A  87      19.820  17.980  37.670  1.00 20.00 \nATOM   1406 CE2  TYR A  87      19.000  18.430  35.460  1.00 20.00 \nATOM   1407 HE2  TYR A  87      18.240  17.960  36.070  1.00 20.00 \nATOM   1408 CD2  TYR A  87      18.680  18.740  34.110  1.00 20.00 \nATOM   1409 HD2  TYR A  87      17.750  18.480  33.620  1.00 20.00 \nATOM   1410 C    TYR A  87      18.670  17.230  31.170  1.00 20.00 \nATOM   1411 O    TYR A  87      19.200  16.140  31.390  1.00 20.00 \nATOM   1412 N    ASP A  88      17.360  17.320  30.950  1.00 20.00 \nATOM   1413 H    ASP A  88      16.970  18.230  30.740  1.00 20.00 \nATOM   1414 CA   ASP A  88      16.400  16.200  30.930  1.00 20.00 \nATOM   1415 HA   ASP A  88      16.370  15.840  31.960  1.00 20.00 \nATOM   1416 CB   ASP A  88      15.050  16.650  30.450  1.00 20.00 \nATOM   1417 HB2  ASP A  88      14.620  17.370  31.150  1.00 20.00 \nATOM   1418 HB3  ASP A  88      15.110  17.110  29.460  1.00 20.00 \nATOM   1419 CG   ASP A  88      14.070  15.430  30.410  1.00 20.00 \nATOM   1420 OD1  ASP A  88      13.810  14.780  31.470  1.00 20.00 \nATOM   1421 OD2  ASP A  88      13.560  15.120  29.300  1.00 20.00 \nATOM   1422 C    ASP A  88      16.900  14.930  30.040  1.00 20.00 \nATOM   1423 O    ASP A  88      16.680  13.800  30.510  1.00 20.00 \nATOM   1424 N    SER A  89      17.400  15.160  28.830  1.00 20.00 \nATOM   1425 H    SER A  89      17.400  16.100  28.440  1.00 20.00 \nATOM   1426 CA   SER A  89      17.930  14.140  27.960  1.00 20.00 \nATOM   1427 HA   SER A  89      17.280  13.270  28.080  1.00 20.00 \nATOM   1428 CB   SER A  89      17.900  14.570  26.490  1.00 20.00 \nATOM   1429 HB2  SER A  89      18.330  13.670  26.070  1.00 20.00 \nATOM   1430 HB3  SER A  89      16.890  14.830  26.160  1.00 20.00 \nATOM   1431 OG   SER A  89      18.830  15.620  26.270  1.00 20.00 \nATOM   1432 HG   SER A  89      18.730  16.230  27.000  1.00 20.00 \nATOM   1433 C    SER A  89      19.290  13.640  28.480  1.00 20.00 \nATOM   1434 O    SER A  89      19.600  12.460  28.230  1.00 20.00 \nATOM   1435 N    LEU A  90      20.090  14.540  29.110  1.00 20.00 \nATOM   1436 H    LEU A  90      19.830  15.510  29.170  1.00 20.00 \nATOM   1437 CA   LEU A  90      21.370  14.090  29.620  1.00 20.00 \nATOM   1438 HA   LEU A  90      21.870  13.480  28.870  1.00 20.00 \nATOM   1439 CB   LEU A  90      22.160  15.400  29.860  1.00 20.00 \nATOM   1440 HB2  LEU A  90      21.680  16.180  30.440  1.00 20.00 \nATOM   1441 HB3  LEU A  90      23.040  15.010  30.390  1.00 20.00 \nATOM   1442 CG   LEU A  90      22.720  16.090  28.570  1.00 20.00 \nATOM   1443 HG   LEU A  90      21.830  16.220  27.950  1.00 20.00 \nATOM   1444 CD1  LEU A  90      23.480  17.340  28.980  1.00 20.00 \nATOM   1445 HD11 LEU A  90      23.820  17.860  28.080  1.00 20.00 \nATOM   1446 HD12 LEU A  90      22.740  18.030  29.380  1.00 20.00 \nATOM   1447 HD13 LEU A  90      24.210  17.240  29.780  1.00 20.00 \nATOM   1448 CD2  LEU A  90      23.770  15.270  27.820  1.00 20.00 \nATOM   1449 HD21 LEU A  90      24.260  15.900  27.080  1.00 20.00 \nATOM   1450 HD22 LEU A  90      24.450  14.770  28.510  1.00 20.00 \nATOM   1451 HD23 LEU A  90      23.250  14.580  27.160  1.00 20.00 \nATOM   1452 C    LEU A  90      21.210  13.150  30.860  1.00 20.00 \nATOM   1453 O    LEU A  90      20.110  13.120  31.480  1.00 20.00 \nATOM   1454 N    ASP A  91      22.320  12.480  31.150  1.00 20.00 \nATOM   1455 H    ASP A  91      23.100  12.650  30.540  1.00 20.00 \nATOM   1456 CA   ASP A  91      22.540  11.580  32.260  1.00 20.00 \nATOM   1457 HA   ASP A  91      21.640  11.360  32.820  1.00 20.00 \nATOM   1458 CB   ASP A  91      23.290  10.340  31.850  1.00 20.00 \nATOM   1459 HB2  ASP A  91      23.600   9.680  32.660  1.00 20.00 \nATOM   1460 HB3  ASP A  91      22.650   9.660  31.280  1.00 20.00 \nATOM   1461 CG   ASP A  91      24.600  10.600  31.030  1.00 20.00 \nATOM   1462 OD1  ASP A  91      24.590  10.970  29.850  1.00 20.00 \nATOM   1463 OD2  ASP A  91      25.690  10.460  31.630  1.00 20.00 \nATOM   1464 C    ASP A  91      23.360  12.240  33.420  1.00 20.00 \nATOM   1465 O    ASP A  91      24.050  13.190  33.160  1.00 20.00 \nATOM   1466 N    ALA A  92      23.260  11.850  34.670  1.00 20.00 \nATOM   1467 H    ALA A  92      22.550  11.150  34.870  1.00 20.00 \nATOM   1468 CA   ALA A  92      23.620  12.520  35.870  1.00 20.00 \nATOM   1469 HA   ALA A  92      22.910  13.320  36.080  1.00 20.00 \nATOM   1470 CB   ALA A  92      23.520  11.670  37.130  1.00 20.00 \nATOM   1471 HB1  ALA A  92      23.560  12.160  38.100  1.00 20.00 \nATOM   1472 HB2  ALA A  92      22.610  11.070  37.090  1.00 20.00 \nATOM   1473 HB3  ALA A  92      24.390  11.010  37.140  1.00 20.00 \nATOM   1474 C    ALA A  92      24.980  13.180  35.910  1.00 20.00 \nATOM   1475 O    ALA A  92      25.070  14.350  36.360  1.00 20.00 \nATOM   1476 N    VAL A  93      26.030  12.500  35.390  1.00 20.00 \nATOM   1477 H    VAL A  93      25.790  11.590  35.020  1.00 20.00 \nATOM   1478 CA   VAL A  93      27.360  13.020  35.230  1.00 20.00 \nATOM   1479 HA   VAL A  93      27.550  13.580  36.150  1.00 20.00 \nATOM   1480 CB   VAL A  93      28.520  11.920  35.150  1.00 20.00 \nATOM   1481 HB   VAL A  93      28.420  11.360  34.220  1.00 20.00 \nATOM   1482 CG1  VAL A  93      29.910  12.580  35.200  1.00 20.00 \nATOM   1483 HG11 VAL A  93      30.070  13.130  34.270  1.00 20.00 \nATOM   1484 HG12 VAL A  93      29.910  13.270  36.040  1.00 20.00 \nATOM   1485 HG13 VAL A  93      30.760  11.890  35.170  1.00 20.00 \nATOM   1486 CG2  VAL A  93      28.340  10.940  36.240  1.00 20.00 \nATOM   1487 HG21 VAL A  93      29.240  10.340  36.130  1.00 20.00 \nATOM   1488 HG22 VAL A  93      28.310  11.410  37.230  1.00 20.00 \nATOM   1489 HG23 VAL A  93      27.450  10.330  36.100  1.00 20.00 \nATOM   1490 C    VAL A  93      27.460  13.980  34.050  1.00 20.00 \nATOM   1491 O    VAL A  93      28.170  14.960  34.210  1.00 20.00 \nATOM   1492 N    ARG A  94      26.790  13.800  32.850  1.00 20.00 \nATOM   1493 H    ARG A  94      26.030  13.140  32.770  1.00 20.00 \nATOM   1494 CA   ARG A  94      26.720  14.870  31.900  1.00 20.00 \nATOM   1495 HA   ARG A  94      27.710  15.260  31.700  1.00 20.00 \nATOM   1496 CB   ARG A  94      26.310  14.360  30.550  1.00 20.00 \nATOM   1497 HB2  ARG A  94      25.360  13.850  30.740  1.00 20.00 \nATOM   1498 HB3  ARG A  94      26.100  15.190  29.870  1.00 20.00 \nATOM   1499 CG   ARG A  94      27.260  13.270  29.940  1.00 20.00 \nATOM   1500 HG2  ARG A  94      28.270  13.660  29.970  1.00 20.00 \nATOM   1501 HG3  ARG A  94      27.160  12.260  30.340  1.00 20.00 \nATOM   1502 CD   ARG A  94      26.830  13.120  28.470  1.00 20.00 \nATOM   1503 HD2  ARG A  94      25.780  12.840  28.380  1.00 20.00 \nATOM   1504 HD3  ARG A  94      26.960  14.090  27.990  1.00 20.00 \nATOM   1505 NE   ARG A  94      27.630  12.150  27.750  1.00 20.00 \nATOM   1506 HE   ARG A  94      28.430  12.530  27.260  1.00 20.00 \nATOM   1507 CZ   ARG A  94      27.570  10.790  27.780  1.00 20.00 \nATOM   1508 NH1  ARG A  94      26.840  10.210  28.710  1.00 20.00 \nATOM   1509 HH11 ARG A  94      26.210  10.820  29.200  1.00 20.00 \nATOM   1510 HH12 ARG A  94      26.880   9.210  28.870  1.00 20.00 \nATOM   1511 NH2  ARG A  94      28.310   9.970  27.070  1.00 20.00 \nATOM   1512 HH21 ARG A  94      28.970  10.350  26.410  1.00 20.00 \nATOM   1513 HH22 ARG A  94      28.330   8.960  27.190  1.00 20.00 \nATOM   1514 C    ARG A  94      25.890  16.070  32.370  1.00 20.00 \nATOM   1515 O    ARG A  94      26.140  17.200  31.970  1.00 20.00 \nATOM   1516 N    ARG A  95      24.950  15.850  33.240  1.00 20.00 \nATOM   1517 H    ARG A  95      24.840  14.860  33.420  1.00 20.00 \nATOM   1518 CA   ARG A  95      24.230  16.940  33.900  1.00 20.00 \nATOM   1519 HA   ARG A  95      23.790  17.550  33.110  1.00 20.00 \nATOM   1520 CB   ARG A  95      23.030  16.270  34.730  1.00 20.00 \nATOM   1521 HB2  ARG A  95      23.420  15.450  35.320  1.00 20.00 \nATOM   1522 HB3  ARG A  95      22.660  16.940  35.500  1.00 20.00 \nATOM   1523 CG   ARG A  95      21.830  15.770  33.890  1.00 20.00 \nATOM   1524 HG2  ARG A  95      21.430  16.660  33.410  1.00 20.00 \nATOM   1525 HG3  ARG A  95      22.170  15.020  33.170  1.00 20.00 \nATOM   1526 CD   ARG A  95      20.600  15.220  34.630  1.00 20.00 \nATOM   1527 HD2  ARG A  95      20.960  14.520  35.380  1.00 20.00 \nATOM   1528 HD3  ARG A  95      20.180  16.010  35.250  1.00 20.00 \nATOM   1529 NE   ARG A  95      19.560  14.580  33.810  1.00 20.00 \nATOM   1530 HE   ARG A  95      19.600  14.540  32.800  1.00 20.00 \nATOM   1531 CZ   ARG A  95      18.370  14.060  34.310  1.00 20.00 \nATOM   1532 NH1  ARG A  95      17.970  14.290  35.510  1.00 20.00 \nATOM   1533 HH11 ARG A  95      18.570  14.710  36.210  1.00 20.00 \nATOM   1534 HH12 ARG A  95      17.070  13.970  35.840  1.00 20.00 \nATOM   1535 NH2  ARG A  95      17.430  13.500  33.520  1.00 20.00 \nATOM   1536 HH21 ARG A  95      17.600  13.340  32.530  1.00 20.00 \nATOM   1537 HH22 ARG A  95      16.560  13.240  33.940  1.00 20.00 \nATOM   1538 C    ARG A  95      25.070  17.780  34.720  1.00 20.00 \nATOM   1539 O    ARG A  95      24.920  18.960  34.690  1.00 20.00 \nATOM   1540 N    CYS A  96      26.070  17.180  35.380  1.00 20.00 \nATOM   1541 H    CYS A  96      26.070  16.170  35.450  1.00 20.00 \nATOM   1542 CA   CYS A  96      27.000  17.840  36.220  1.00 20.00 \nATOM   1543 HA   CYS A  96      26.380  18.530  36.790  1.00 20.00 \nATOM   1544 CB   CYS A  96      27.700  16.840  37.170  1.00 20.00 \nATOM   1545 HB2  CYS A  96      28.280  16.020  36.750  1.00 20.00 \nATOM   1546 HB3  CYS A  96      28.540  17.350  37.660  1.00 20.00 \nATOM   1547 SG   CYS A  96      26.520  16.140  38.330  1.00 20.00 \nATOM   1548 HG   CYS A  96      25.870  15.340  37.470  1.00 20.00 \nATOM   1549 C    CYS A  96      28.110  18.640  35.520  1.00 20.00 \nATOM   1550 O    CYS A  96      28.410  19.740  35.900  1.00 20.00 \nATOM   1551 N    ALA A  97      28.580  18.150  34.380  1.00 20.00 \nATOM   1552 H    ALA A  97      28.360  17.250  33.980  1.00 20.00 \nATOM   1553 CA   ALA A  97      29.340  18.990  33.360  1.00 20.00 \nATOM   1554 HA   ALA A  97      30.320  19.330  33.700  1.00 20.00 \nATOM   1555 CB   ALA A  97      29.650  18.110  32.230  1.00 20.00 \nATOM   1556 HB1  ALA A  97      29.900  18.710  31.350  1.00 20.00 \nATOM   1557 HB2  ALA A  97      30.410  17.390  32.520  1.00 20.00 \nATOM   1558 HB3  ALA A  97      28.720  17.560  32.110  1.00 20.00 \nATOM   1559 C    ALA A  97      28.570  20.220  32.910  1.00 20.00 \nATOM   1560 O    ALA A  97      29.070  21.300  32.730  1.00 20.00 \nATOM   1561 N    ALA A  98      27.260  20.030  32.800  1.00 20.00 \nATOM   1562 H    ALA A  98      26.960  19.080  32.700  1.00 20.00 \nATOM   1563 CA   ALA A  98      26.370  21.130  32.450  1.00 20.00 \nATOM   1564 HA   ALA A  98      26.920  21.540  31.610  1.00 20.00 \nATOM   1565 CB   ALA A  98      25.060  20.620  32.090  1.00 20.00 \nATOM   1566 HB1  ALA A  98      24.450  21.400  31.620  1.00 20.00 \nATOM   1567 HB2  ALA A  98      25.020  20.060  31.160  1.00 20.00 \nATOM   1568 HB3  ALA A  98      24.490  20.040  32.820  1.00 20.00 \nATOM   1569 C    ALA A  98      26.230  22.150  33.620  1.00 20.00 \nATOM   1570 O    ALA A  98      26.210  23.370  33.350  1.00 20.00 \nATOM   1571 N    ILE A  99      26.130  21.640  34.900  1.00 20.00 \nATOM   1572 H    ILE A  99      26.130  20.630  34.970  1.00 20.00 \nATOM   1573 CA   ILE A  99      26.030  22.550  36.070  1.00 20.00 \nATOM   1574 HA   ILE A  99      25.230  23.280  35.950  1.00 20.00 \nATOM   1575 CB   ILE A  99      25.800  21.740  37.350  1.00 20.00 \nATOM   1576 HB   ILE A  99      26.470  20.880  37.340  1.00 20.00 \nATOM   1577 CG2  ILE A  99      26.060  22.560  38.580  1.00 20.00 \nATOM   1578 HG21 ILE A  99      26.160  21.960  39.480  1.00 20.00 \nATOM   1579 HG22 ILE A  99      27.000  23.110  38.480  1.00 20.00 \nATOM   1580 HG23 ILE A  99      25.400  23.420  38.720  1.00 20.00 \nATOM   1581 CG1  ILE A  99      24.290  21.280  37.400  1.00 20.00 \nATOM   1582 HG12 ILE A  99      23.730  22.160  37.680  1.00 20.00 \nATOM   1583 HG13 ILE A  99      24.020  20.800  36.450  1.00 20.00 \nATOM   1584 CD1  ILE A  99      24.130  20.200  38.460  1.00 20.00 \nATOM   1585 HD11 ILE A  99      23.250  19.560  38.380  1.00 20.00 \nATOM   1586 HD12 ILE A  99      24.990  19.540  38.520  1.00 20.00 \nATOM   1587 HD13 ILE A  99      24.090  20.620  39.470  1.00 20.00 \nATOM   1588 C    ILE A  99      27.340  23.420  36.080  1.00 20.00 \nATOM   1589 O    ILE A  99      27.250  24.650  36.380  1.00 20.00 \nATOM   1590 N    ASN A 100      28.490  22.840  35.710  1.00 20.00 \nATOM   1591 H    ASN A 100      28.420  21.830  35.660  1.00 20.00 \nATOM   1592 CA   ASN A 100      29.850  23.490  35.720  1.00 20.00 \nATOM   1593 HA   ASN A 100      30.080  23.840  36.730  1.00 20.00 \nATOM   1594 CB   ASN A 100      30.910  22.470  35.290  1.00 20.00 \nATOM   1595 HB2  ASN A 100      30.760  21.520  35.800  1.00 20.00 \nATOM   1596 HB3  ASN A 100      30.810  22.390  34.210  1.00 20.00 \nATOM   1597 CG   ASN A 100      32.330  22.890  35.680  1.00 20.00 \nATOM   1598 OD1  ASN A 100      32.680  24.030  35.550  1.00 20.00 \nATOM   1599 ND2  ASN A 100      33.180  22.010  36.250  1.00 20.00 \nATOM   1600 HD21 ASN A 100      34.170  22.160  36.330  1.00 20.00 \nATOM   1601 HD22 ASN A 100      32.860  21.080  36.500  1.00 20.00 \nATOM   1602 C    ASN A 100      29.860  24.740  34.880  1.00 20.00 \nATOM   1603 O    ASN A 100      30.130  25.810  35.450  1.00 20.00 \nATOM   1604 N    MET A 101      29.320  24.740  33.640  1.00 20.00 \nATOM   1605 H    MET A 101      28.910  23.870  33.310  1.00 20.00 \nATOM   1606 CA   MET A 101      29.270  25.940  32.780  1.00 20.00 \nATOM   1607 HA   MET A 101      30.270  26.350  32.720  1.00 20.00 \nATOM   1608 CB   MET A 101      28.880  25.410  31.450  1.00 20.00 \nATOM   1609 HB2  MET A 101      27.870  25.010  31.450  1.00 20.00 \nATOM   1610 HB3  MET A 101      28.840  26.240  30.760  1.00 20.00 \nATOM   1611 CG   MET A 101      29.800  24.370  30.870  1.00 20.00 \nATOM   1612 HG2  MET A 101      30.820  24.760  30.880  1.00 20.00 \nATOM   1613 HG3  MET A 101      29.860  23.440  31.450  1.00 20.00 \nATOM   1614 SD   MET A 101      29.480  23.850  29.200  1.00 20.00 \nATOM   1615 CE   MET A 101      29.790  25.380  28.260  1.00 20.00 \nATOM   1616 HE1  MET A 101      29.490  25.260  27.220  1.00 20.00 \nATOM   1617 HE2  MET A 101      29.180  26.180  28.690  1.00 20.00 \nATOM   1618 HE3  MET A 101      30.830  25.710  28.310  1.00 20.00 \nATOM   1619 C    MET A 101      28.200  27.010  33.230  1.00 20.00 \nATOM   1620 O    MET A 101      28.420  28.170  32.980  1.00 20.00 \nATOM   1621 N    VAL A 102      27.160  26.650  34.020  1.00 20.00 \nATOM   1622 H    VAL A 102      27.070  25.660  34.200  1.00 20.00 \nATOM   1623 CA   VAL A 102      26.130  27.560  34.610  1.00 20.00 \nATOM   1624 HA   VAL A 102      25.940  28.360  33.900  1.00 20.00 \nATOM   1625 CB   VAL A 102      24.770  26.750  34.650  1.00 20.00 \nATOM   1626 HB   VAL A 102      24.970  25.730  34.980  1.00 20.00 \nATOM   1627 CG1  VAL A 102      23.650  27.390  35.440  1.00 20.00 \nATOM   1628 HG11 VAL A 102      22.670  27.230  34.980  1.00 20.00 \nATOM   1629 HG12 VAL A 102      23.620  26.990  36.450  1.00 20.00 \nATOM   1630 HG13 VAL A 102      23.850  28.460  35.430  1.00 20.00 \nATOM   1631 CG2  VAL A 102      24.260  26.760  33.160  1.00 20.00 \nATOM   1632 HG21 VAL A 102      24.180  27.810  32.850  1.00 20.00 \nATOM   1633 HG22 VAL A 102      25.050  26.260  32.610  1.00 20.00 \nATOM   1634 HG23 VAL A 102      23.280  26.300  33.010  1.00 20.00 \nATOM   1635 C    VAL A 102      26.600  28.190  35.940  1.00 20.00 \nATOM   1636 O    VAL A 102      26.240  29.270  36.350  1.00 20.00 \nATOM   1637 N    PHE A 103      27.610  27.560  36.580  1.00 20.00 \nATOM   1638 H    PHE A 103      27.700  26.590  36.330  1.00 20.00 \nATOM   1639 CA   PHE A 103      28.320  27.990  37.740  1.00 20.00 \nATOM   1640 HA   PHE A 103      27.540  28.500  38.310  1.00 20.00 \nATOM   1641 CB   PHE A 103      28.680  26.740  38.580  1.00 20.00 \nATOM   1642 HB2  PHE A 103      27.790  26.110  38.650  1.00 20.00 \nATOM   1643 HB3  PHE A 103      29.440  26.120  38.110  1.00 20.00 \nATOM   1644 CG   PHE A 103      29.150  26.980  39.990  1.00 20.00 \nATOM   1645 CD1  PHE A 103      30.560  27.180  40.110  1.00 20.00 \nATOM   1646 HD1  PHE A 103      31.120  27.410  39.210  1.00 20.00 \nATOM   1647 CE1  PHE A 103      31.110  27.280  41.380  1.00 20.00 \nATOM   1648 HE1  PHE A 103      32.170  27.460  41.520  1.00 20.00 \nATOM   1649 CZ   PHE A 103      30.260  27.300  42.520  1.00 20.00 \nATOM   1650 HZ   PHE A 103      30.690  27.460  43.500  1.00 20.00 \nATOM   1651 CE2  PHE A 103      28.910  27.200  42.400  1.00 20.00 \nATOM   1652 HE2  PHE A 103      28.250  27.270  43.250  1.00 20.00 \nATOM   1653 CD2  PHE A 103      28.310  26.970  41.110  1.00 20.00 \nATOM   1654 HD2  PHE A 103      27.280  26.820  40.840  1.00 20.00 \nATOM   1655 C    PHE A 103      29.540  28.950  37.350  1.00 20.00 \nATOM   1656 O    PHE A 103      29.990  29.750  38.110  1.00 20.00 \nATOM   1657 N    GLN A 104      30.100  28.750  36.130  1.00 20.00 \nATOM   1658 H    GLN A 104      29.770  27.990  35.560  1.00 20.00 \nATOM   1659 CA   GLN A 104      31.180  29.600  35.510  1.00 20.00 \nATOM   1660 HA   GLN A 104      31.770  30.060  36.300  1.00 20.00 \nATOM   1661 CB   GLN A 104      32.190  28.780  34.680  1.00 20.00 \nATOM   1662 HB2  GLN A 104      32.450  27.960  35.350  1.00 20.00 \nATOM   1663 HB3  GLN A 104      31.680  28.350  33.820  1.00 20.00 \nATOM   1664 CG   GLN A 104      33.420  29.480  34.250  1.00 20.00 \nATOM   1665 HG2  GLN A 104      33.170  30.230  33.500  1.00 20.00 \nATOM   1666 HG3  GLN A 104      33.830  29.930  35.160  1.00 20.00 \nATOM   1667 CD   GLN A 104      34.560  28.670  33.570  1.00 20.00 \nATOM   1668 OE1  GLN A 104      34.360  27.510  33.240  1.00 20.00 \nATOM   1669 NE2  GLN A 104      35.670  29.220  33.280  1.00 20.00 \nATOM   1670 HE21 GLN A 104      35.900  30.150  33.620  1.00 20.00 \nATOM   1671 HE22 GLN A 104      36.400  28.620  32.930  1.00 20.00 \nATOM   1672 C    GLN A 104      30.630  30.840  34.790  1.00 20.00 \nATOM   1673 O    GLN A 104      31.210  31.930  34.920  1.00 20.00 \nATOM   1674 N    MET A 105      29.580  30.680  33.930  1.00 20.00 \nATOM   1675 H    MET A 105      29.150  29.760  33.920  1.00 20.00 \nATOM   1676 CA   MET A 105      29.080  31.730  33.030  1.00 20.00 \nATOM   1677 HA   MET A 105      29.670  32.640  33.120  1.00 20.00 \nATOM   1678 CB   MET A 105      29.360  31.190  31.520  1.00 20.00 \nATOM   1679 HB2  MET A 105      28.900  30.200  31.430  1.00 20.00 \nATOM   1680 HB3  MET A 105      28.960  31.780  30.690  1.00 20.00 \nATOM   1681 CG   MET A 105      30.820  30.970  31.290  1.00 20.00 \nATOM   1682 HG2  MET A 105      31.360  31.910  31.410  1.00 20.00 \nATOM   1683 HG3  MET A 105      31.160  30.170  31.950  1.00 20.00 \nATOM   1684 SD   MET A 105      31.240  30.410  29.580  1.00 20.00 \nATOM   1685 CE   MET A 105      31.010  28.660  29.660  1.00 20.00 \nATOM   1686 HE1  MET A 105      31.770  28.240  30.320  1.00 20.00 \nATOM   1687 HE2  MET A 105      30.050  28.500  30.150  1.00 20.00 \nATOM   1688 HE3  MET A 105      31.070  28.030  28.770  1.00 20.00 \nATOM   1689 C    MET A 105      27.600  32.130  33.280  1.00 20.00 \nATOM   1690 O    MET A 105      27.090  33.010  32.560  1.00 20.00 \nATOM   1691 N    GLY A 106      26.910  31.690  34.330  1.00 20.00 \nATOM   1692 H    GLY A 106      27.320  30.940  34.860  1.00 20.00 \nATOM   1693 CA   GLY A 106      25.460  31.860  34.570  1.00 20.00 \nATOM   1694 HA2  GLY A 106      25.180  31.630  35.600  1.00 20.00 \nATOM   1695 HA3  GLY A 106      25.010  32.850  34.470  1.00 20.00 \nATOM   1696 C    GLY A 106      24.610  30.910  33.700  1.00 20.00 \nATOM   1697 O    GLY A 106      25.130  30.280  32.760  1.00 20.00 \nATOM   1698 N    GLU A 107      23.380  30.880  33.980  1.00 20.00 \nATOM   1699 H    GLU A 107      23.070  31.320  34.840  1.00 20.00 \nATOM   1700 CA   GLU A 107      22.360  30.250  33.100  1.00 20.00 \nATOM   1701 HA   GLU A 107      22.780  29.300  32.800  1.00 20.00 \nATOM   1702 CB   GLU A 107      21.030  29.910  33.710  1.00 20.00 \nATOM   1703 HB2  GLU A 107      20.460  29.320  32.990  1.00 20.00 \nATOM   1704 HB3  GLU A 107      21.310  29.310  34.580  1.00 20.00 \nATOM   1705 CG   GLU A 107      20.220  31.140  34.260  1.00 20.00 \nATOM   1706 HG2  GLU A 107      20.200  31.870  33.450  1.00 20.00 \nATOM   1707 HG3  GLU A 107      19.180  30.840  34.380  1.00 20.00 \nATOM   1708 CD   GLU A 107      20.680  31.900  35.480  1.00 20.00 \nATOM   1709 OE1  GLU A 107      19.830  32.440  36.210  1.00 20.00 \nATOM   1710 OE2  GLU A 107      21.900  31.900  35.880  1.00 20.00 \nATOM   1711 C    GLU A 107      22.160  31.000  31.820  1.00 20.00 \nATOM   1712 O    GLU A 107      21.830  30.390  30.830  1.00 20.00 \nATOM   1713 N    THR A 108      22.450  32.300  31.780  1.00 20.00 \nATOM   1714 H    THR A 108      22.810  32.780  32.590  1.00 20.00 \nATOM   1715 CA   THR A 108      22.400  33.060  30.510  1.00 20.00 \nATOM   1716 HA   THR A 108      21.660  32.600  29.850  1.00 20.00 \nATOM   1717 CB   THR A 108      22.060  34.480  30.840  1.00 20.00 \nATOM   1718 HB   THR A 108      22.810  34.900  31.520  1.00 20.00 \nATOM   1719 CG2  THR A 108      21.940  35.430  29.660  1.00 20.00 \nATOM   1720 HG21 THR A 108      21.310  36.270  29.940  1.00 20.00 \nATOM   1721 HG22 THR A 108      22.940  35.770  29.410  1.00 20.00 \nATOM   1722 HG23 THR A 108      21.500  34.900  28.810  1.00 20.00 \nATOM   1723 OG1  THR A 108      20.780  34.450  31.460  1.00 20.00 \nATOM   1724 HG1  THR A 108      20.920  34.360  32.400  1.00 20.00 \nATOM   1725 C    THR A 108      23.660  32.850  29.670  1.00 20.00 \nATOM   1726 O    THR A 108      23.510  32.600  28.490  1.00 20.00 \nATOM   1727 N    GLY A 109      24.860  32.850  30.240  1.00 20.00 \nATOM   1728 H    GLY A 109      24.880  33.060  31.230  1.00 20.00 \nATOM   1729 CA   GLY A 109      26.130  32.650  29.570  1.00 20.00 \nATOM   1730 HA2  GLY A 109      26.420  33.480  28.930  1.00 20.00 \nATOM   1731 HA3  GLY A 109      27.000  32.510  30.210  1.00 20.00 \nATOM   1732 C    GLY A 109      26.260  31.390  28.820  1.00 20.00 \nATOM   1733 O    GLY A 109      27.100  31.400  27.930  1.00 20.00 \nATOM   1734 N    VAL A 110      25.500  30.330  29.080  1.00 20.00 \nATOM   1735 H    VAL A 110      24.850  30.300  29.850  1.00 20.00 \nATOM   1736 CA   VAL A 110      25.440  29.160  28.160  1.00 20.00 \nATOM   1737 HA   VAL A 110      26.320  29.090  27.520  1.00 20.00 \nATOM   1738 CB   VAL A 110      25.340  27.820  28.940  1.00 20.00 \nATOM   1739 HB   VAL A 110      25.400  27.000  28.230  1.00 20.00 \nATOM   1740 CG1  VAL A 110      26.540  27.620  29.850  1.00 20.00 \nATOM   1741 HG11 VAL A 110      27.420  27.430  29.240  1.00 20.00 \nATOM   1742 HG12 VAL A 110      26.650  28.510  30.470  1.00 20.00 \nATOM   1743 HG13 VAL A 110      26.470  26.730  30.490  1.00 20.00 \nATOM   1744 CG2  VAL A 110      23.990  27.790  29.660  1.00 20.00 \nATOM   1745 HG21 VAL A 110      24.160  28.490  30.470  1.00 20.00 \nATOM   1746 HG22 VAL A 110      23.240  28.240  29.000  1.00 20.00 \nATOM   1747 HG23 VAL A 110      23.690  26.780  29.950  1.00 20.00 \nATOM   1748 C    VAL A 110      24.370  29.180  27.000  1.00 20.00 \nATOM   1749 O    VAL A 110      24.450  28.380  26.060  1.00 20.00 \nATOM   1750 N    ALA A 111      23.610  30.250  26.750  1.00 20.00 \nATOM   1751 H    ALA A 111      23.560  31.020  27.400  1.00 20.00 \nATOM   1752 CA   ALA A 111      22.610  30.210  25.580  1.00 20.00 \nATOM   1753 HA   ALA A 111      22.070  29.260  25.500  1.00 20.00 \nATOM   1754 CB   ALA A 111      21.600  31.370  25.810  1.00 20.00 \nATOM   1755 HB1  ALA A 111      22.220  32.270  25.840  1.00 20.00 \nATOM   1756 HB2  ALA A 111      20.770  31.450  25.110  1.00 20.00 \nATOM   1757 HB3  ALA A 111      21.130  31.280  26.790  1.00 20.00 \nATOM   1758 C    ALA A 111      23.270  30.390  24.150  1.00 20.00 \nATOM   1759 O    ALA A 111      22.720  29.870  23.130  1.00 20.00 \nATOM   1760 N    GLY A 112      24.430  31.050  24.060  1.00 20.00 \nATOM   1761 H    GLY A 112      24.680  31.580  24.880  1.00 20.00 \nATOM   1762 CA   GLY A 112      25.320  31.250  22.830  1.00 20.00 \nATOM   1763 HA2  GLY A 112      24.790  31.780  22.050  1.00 20.00 \nATOM   1764 HA3  GLY A 112      26.140  31.950  23.000  1.00 20.00 \nATOM   1765 C    GLY A 112      25.910  29.900  22.300  1.00 20.00 \nATOM   1766 O    GLY A 112      26.370  29.850  21.150  1.00 20.00 \nATOM   1767 N    PHE A 113      25.960  28.900  23.140  1.00 20.00 \nATOM   1768 H    PHE A 113      25.430  29.010  23.990  1.00 20.00 \nATOM   1769 CA   PHE A 113      26.330  27.500  22.740  1.00 20.00 \nATOM   1770 HA   PHE A 113      27.190  27.470  22.070  1.00 20.00 \nATOM   1771 CB   PHE A 113      26.670  26.750  24.070  1.00 20.00 \nATOM   1772 HB2  PHE A 113      25.920  26.970  24.820  1.00 20.00 \nATOM   1773 HB3  PHE A 113      26.750  25.690  23.830  1.00 20.00 \nATOM   1774 CG   PHE A 113      28.060  27.150  24.520  1.00 20.00 \nATOM   1775 CD1  PHE A 113      28.300  28.230  25.330  1.00 20.00 \nATOM   1776 HD1  PHE A 113      27.430  28.790  25.650  1.00 20.00 \nATOM   1777 CE1  PHE A 113      29.600  28.580  25.770  1.00 20.00 \nATOM   1778 HE1  PHE A 113      29.640  29.380  26.500  1.00 20.00 \nATOM   1779 CZ   PHE A 113      30.690  27.750  25.480  1.00 20.00 \nATOM   1780 HZ   PHE A 113      31.650  27.950  25.920  1.00 20.00 \nATOM   1781 CE2  PHE A 113      30.510  26.630  24.600  1.00 20.00 \nATOM   1782 HE2  PHE A 113      31.390  26.050  24.370  1.00 20.00 \nATOM   1783 CD2  PHE A 113      29.240  26.380  24.160  1.00 20.00 \nATOM   1784 HD2  PHE A 113      29.000  25.550  23.510  1.00 20.00 \nATOM   1785 C    PHE A 113      25.260  26.690  22.010  1.00 20.00 \nATOM   1786 O    PHE A 113      24.850  25.540  22.340  1.00 20.00 \nATOM   1787 N    THR A 114      24.590  27.270  21.020  1.00 20.00 \nATOM   1788 H    THR A 114      24.950  28.170  20.730  1.00 20.00 \nATOM   1789 CA   THR A 114      23.470  26.670  20.240  1.00 20.00 \nATOM   1790 HA   THR A 114      22.730  26.480  21.010  1.00 20.00 \nATOM   1791 CB   THR A 114      22.980  27.670  19.210  1.00 20.00 \nATOM   1792 HB   THR A 114      22.170  27.290  18.600  1.00 20.00 \nATOM   1793 CG2  THR A 114      22.490  29.030  19.790  1.00 20.00 \nATOM   1794 HG21 THR A 114      23.150  29.640  20.410  1.00 20.00 \nATOM   1795 HG22 THR A 114      22.050  29.680  19.040  1.00 20.00 \nATOM   1796 HG23 THR A 114      21.610  28.860  20.410  1.00 20.00 \nATOM   1797 OG1  THR A 114      24.040  28.150  18.360  1.00 20.00 \nATOM   1798 HG1  THR A 114      23.630  28.750  17.740  1.00 20.00 \nATOM   1799 C    THR A 114      23.820  25.250  19.620  1.00 20.00 \nATOM   1800 O    THR A 114      23.240  24.220  20.000  1.00 20.00 \nATOM   1801 N    ASN A 115      24.810  25.110  18.730  1.00 20.00 \nATOM   1802 H    ASN A 115      25.390  25.920  18.540  1.00 20.00 \nATOM   1803 CA   ASN A 115      25.280  23.820  18.200  1.00 20.00 \nATOM   1804 HA   ASN A 115      24.430  23.410  17.660  1.00 20.00 \nATOM   1805 CB   ASN A 115      26.460  23.840  17.160  1.00 20.00 \nATOM   1806 HB2  ASN A 115      27.330  24.170  17.720  1.00 20.00 \nATOM   1807 HB3  ASN A 115      26.620  22.860  16.710  1.00 20.00 \nATOM   1808 CG   ASN A 115      26.430  24.810  16.010  1.00 20.00 \nATOM   1809 OD1  ASN A 115      25.460  25.490  15.640  1.00 20.00 \nATOM   1810 ND2  ASN A 115      27.540  24.910  15.330  1.00 20.00 \nATOM   1811 HD21 ASN A 115      27.610  25.390  14.440  1.00 20.00 \nATOM   1812 HD22 ASN A 115      28.360  24.440  15.660  1.00 20.00 \nATOM   1813 C    ASN A 115      25.600  22.840  19.330  1.00 20.00 \nATOM   1814 O    ASN A 115      25.180  21.700  19.360  1.00 20.00 \nATOM   1815 N    SER A 116      26.360  23.250  20.360  1.00 20.00 \nATOM   1816 H    SER A 116      26.760  24.150  20.170  1.00 20.00 \nATOM   1817 CA   SER A 116      26.810  22.460  21.520  1.00 20.00 \nATOM   1818 HA   SER A 116      27.380  21.600  21.180  1.00 20.00 \nATOM   1819 CB   SER A 116      27.700  23.340  22.410  1.00 20.00 \nATOM   1820 HB2  SER A 116      27.110  24.230  22.640  1.00 20.00 \nATOM   1821 HB3  SER A 116      27.950  22.830  23.350  1.00 20.00 \nATOM   1822 OG   SER A 116      28.840  23.820  21.680  1.00 20.00 \nATOM   1823 HG   SER A 116      28.620  24.660  21.270  1.00 20.00 \nATOM   1824 C    SER A 116      25.520  21.910  22.170  1.00 20.00 \nATOM   1825 O    SER A 116      25.270  20.720  22.240  1.00 20.00 \nATOM   1826 N    LEU A 117      24.630  22.730  22.710  1.00 20.00 \nATOM   1827 H    LEU A 117      24.760  23.710  22.470  1.00 20.00 \nATOM   1828 CA   LEU A 117      23.350  22.360  23.300  1.00 20.00 \nATOM   1829 HA   LEU A 117      23.560  21.790  24.210  1.00 20.00 \nATOM   1830 CB   LEU A 117      22.500  23.580  23.660  1.00 20.00 \nATOM   1831 HB2  LEU A 117      22.450  24.240  22.800  1.00 20.00 \nATOM   1832 HB3  LEU A 117      21.450  23.390  23.840  1.00 20.00 \nATOM   1833 CG   LEU A 117      23.010  24.370  24.890  1.00 20.00 \nATOM   1834 HG   LEU A 117      24.080  24.520  24.700  1.00 20.00 \nATOM   1835 CD1  LEU A 117      22.210  25.610  24.990  1.00 20.00 \nATOM   1836 HD11 LEU A 117      21.150  25.410  25.160  1.00 20.00 \nATOM   1837 HD12 LEU A 117      22.560  26.260  25.800  1.00 20.00 \nATOM   1838 HD13 LEU A 117      22.340  26.200  24.080  1.00 20.00 \nATOM   1839 CD2  LEU A 117      22.870  23.600  26.200  1.00 20.00 \nATOM   1840 HD21 LEU A 117      23.580  22.770  26.240  1.00 20.00 \nATOM   1841 HD22 LEU A 117      23.080  24.320  26.980  1.00 20.00 \nATOM   1842 HD23 LEU A 117      21.830  23.380  26.430  1.00 20.00 \nATOM   1843 C    LEU A 117      22.520  21.420  22.410  1.00 20.00 \nATOM   1844 O    LEU A 117      22.000  20.410  22.880  1.00 20.00 \nATOM   1845 N    ARG A 118      22.520  21.620  21.120  1.00 20.00 \nATOM   1846 H    ARG A 118      23.090  22.370  20.760  1.00 20.00 \nATOM   1847 CA   ARG A 118      21.800  20.740  20.150  1.00 20.00 \nATOM   1848 HA   ARG A 118      20.820  20.520  20.580  1.00 20.00 \nATOM   1849 CB   ARG A 118      21.590  21.530  18.860  1.00 20.00 \nATOM   1850 HB2  ARG A 118      20.840  22.280  19.110  1.00 20.00 \nATOM   1851 HB3  ARG A 118      22.450  22.130  18.590  1.00 20.00 \nATOM   1852 CG   ARG A 118      21.020  20.700  17.680  1.00 20.00 \nATOM   1853 HG2  ARG A 118      21.700  19.890  17.440  1.00 20.00 \nATOM   1854 HG3  ARG A 118      20.030  20.300  17.890  1.00 20.00 \nATOM   1855 CD   ARG A 118      20.790  21.620  16.470  1.00 20.00 \nATOM   1856 HD2  ARG A 118      20.180  21.040  15.770  1.00 20.00 \nATOM   1857 HD3  ARG A 118      20.160  22.430  16.850  1.00 20.00 \nATOM   1858 NE   ARG A 118      22.010  22.120  15.910  1.00 20.00 \nATOM   1859 HE   ARG A 118      22.550  21.500  15.310  1.00 20.00 \nATOM   1860 CZ   ARG A 118      22.460  23.350  15.710  1.00 20.00 \nATOM   1861 NH1  ARG A 118      22.170  24.260  16.540  1.00 20.00 \nATOM   1862 HH11 ARG A 118      21.580  24.170  17.360  1.00 20.00 \nATOM   1863 HH12 ARG A 118      22.500  25.180  16.280  1.00 20.00 \nATOM   1864 NH2  ARG A 118      23.400  23.560  14.840  1.00 20.00 \nATOM   1865 HH21 ARG A 118      23.850  22.810  14.340  1.00 20.00 \nATOM   1866 HH22 ARG A 118      23.830  24.470  14.710  1.00 20.00 \nATOM   1867 C    ARG A 118      22.510  19.400  20.010  1.00 20.00 \nATOM   1868 O    ARG A 118      21.890  18.350  20.000  1.00 20.00 \nATOM   1869 N    MET A 119      23.870  19.390  19.800  1.00 20.00 \nATOM   1870 H    MET A 119      24.410  20.250  19.760  1.00 20.00 \nATOM   1871 CA   MET A 119      24.570  18.060  19.640  1.00 20.00 \nATOM   1872 HA   MET A 119      24.040  17.410  18.940  1.00 20.00 \nATOM   1873 CB   MET A 119      25.980  18.430  19.250  1.00 20.00 \nATOM   1874 HB2  MET A 119      26.440  19.260  19.780  1.00 20.00 \nATOM   1875 HB3  MET A 119      26.570  17.520  19.380  1.00 20.00 \nATOM   1876 CG   MET A 119      25.970  18.840  17.700  1.00 20.00 \nATOM   1877 HG2  MET A 119      25.840  17.960  17.070  1.00 20.00 \nATOM   1878 HG3  MET A 119      25.130  19.510  17.540  1.00 20.00 \nATOM   1879 SD   MET A 119      27.520  19.710  17.340  1.00 20.00 \nATOM   1880 CE   MET A 119      27.140  20.180  15.610  1.00 20.00 \nATOM   1881 HE1  MET A 119      27.930  20.740  15.110  1.00 20.00 \nATOM   1882 HE2  MET A 119      26.970  19.220  15.120  1.00 20.00 \nATOM   1883 HE3  MET A 119      26.240  20.800  15.550  1.00 20.00 \nATOM   1884 C    MET A 119      24.570  17.230  21.000  1.00 20.00 \nATOM   1885 O    MET A 119      24.380  16.040  20.890  1.00 20.00 \nATOM   1886 N    LEU A 120      24.630  17.830  22.220  1.00 20.00 \nATOM   1887 H    LEU A 120      24.830  18.820  22.240  1.00 20.00 \nATOM   1888 CA   LEU A 120      24.440  17.130  23.480  1.00 20.00 \nATOM   1889 HA   LEU A 120      24.990  16.190  23.420  1.00 20.00 \nATOM   1890 CB   LEU A 120      24.760  18.040  24.690  1.00 20.00 \nATOM   1891 HB2  LEU A 120      24.100  18.910  24.610  1.00 20.00 \nATOM   1892 HB3  LEU A 120      24.560  17.520  25.630  1.00 20.00 \nATOM   1893 CG   LEU A 120      26.190  18.580  24.670  1.00 20.00 \nATOM   1894 HG   LEU A 120      26.460  18.820  23.640  1.00 20.00 \nATOM   1895 CD1  LEU A 120      26.470  19.800  25.560  1.00 20.00 \nATOM   1896 HD11 LEU A 120      26.340  19.620  26.620  1.00 20.00 \nATOM   1897 HD12 LEU A 120      27.510  20.000  25.300  1.00 20.00 \nATOM   1898 HD13 LEU A 120      25.790  20.590  25.220  1.00 20.00 \nATOM   1899 CD2  LEU A 120      27.070  17.380  25.030  1.00 20.00 \nATOM   1900 HD21 LEU A 120      26.900  16.520  24.390  1.00 20.00 \nATOM   1901 HD22 LEU A 120      28.100  17.700  24.890  1.00 20.00 \nATOM   1902 HD23 LEU A 120      26.910  17.140  26.080  1.00 20.00 \nATOM   1903 C    LEU A 120      22.990  16.630  23.600  1.00 20.00 \nATOM   1904 O    LEU A 120      22.820  15.500  24.050  1.00 20.00 \nATOM   1905 N    GLN A 121      21.930  17.400  23.190  1.00 20.00 \nATOM   1906 H    GLN A 121      22.030  18.390  22.980  1.00 20.00 \nATOM   1907 CA   GLN A 121      20.600  16.780  23.100  1.00 20.00 \nATOM   1908 HA   GLN A 121      20.330  16.360  24.080  1.00 20.00 \nATOM   1909 CB   GLN A 121      19.460  17.740  22.590  1.00 20.00 \nATOM   1910 HB2  GLN A 121      19.480  18.630  23.210  1.00 20.00 \nATOM   1911 HB3  GLN A 121      19.720  18.020  21.580  1.00 20.00 \nATOM   1912 CG   GLN A 121      18.080  17.140  22.590  1.00 20.00 \nATOM   1913 HG2  GLN A 121      17.990  16.200  22.040  1.00 20.00 \nATOM   1914 HG3  GLN A 121      17.680  16.980  23.590  1.00 20.00 \nATOM   1915 CD   GLN A 121      17.050  18.090  22.000  1.00 20.00 \nATOM   1916 OE1  GLN A 121      17.310  18.640  20.930  1.00 20.00 \nATOM   1917 NE2  GLN A 121      15.970  18.390  22.580  1.00 20.00 \nATOM   1918 HE21 GLN A 121      15.630  17.780  23.310  1.00 20.00 \nATOM   1919 HE22 GLN A 121      15.520  19.260  22.360  1.00 20.00 \nATOM   1920 C    GLN A 121      20.630  15.630  22.080  1.00 20.00 \nATOM   1921 O    GLN A 121      20.140  14.560  22.400  1.00 20.00 \nATOM   1922 N    GLN A 122      21.180  15.710  20.890  1.00 20.00 \nATOM   1923 H    GLN A 122      21.510  16.650  20.710  1.00 20.00 \nATOM   1924 CA   GLN A 122      21.190  14.630  19.830  1.00 20.00 \nATOM   1925 HA   GLN A 122      20.180  14.220  19.800  1.00 20.00 \nATOM   1926 CB   GLN A 122      21.680  15.230  18.520  1.00 20.00 \nATOM   1927 HB2  GLN A 122      22.690  15.630  18.590  1.00 20.00 \nATOM   1928 HB3  GLN A 122      21.740  14.450  17.760  1.00 20.00 \nATOM   1929 CG   GLN A 122      20.610  16.170  17.930  1.00 20.00 \nATOM   1930 HG2  GLN A 122      19.780  15.630  17.480  1.00 20.00 \nATOM   1931 HG3  GLN A 122      20.060  16.830  18.590  1.00 20.00 \nATOM   1932 CD   GLN A 122      21.240  17.090  16.820  1.00 20.00 \nATOM   1933 OE1  GLN A 122      22.460  17.090  16.540  1.00 20.00 \nATOM   1934 NE2  GLN A 122      20.470  17.850  16.070  1.00 20.00 \nATOM   1935 HE21 GLN A 122      19.490  17.670  16.200  1.00 20.00 \nATOM   1936 HE22 GLN A 122      20.930  18.340  15.310  1.00 20.00 \nATOM   1937 C    GLN A 122      22.000  13.380  20.210  1.00 20.00 \nATOM   1938 O    GLN A 122      22.120  12.410  19.500  1.00 20.00 \nATOM   1939 N    LYS A 123      22.660  13.380  21.380  1.00 20.00 \nATOM   1940 H    LYS A 123      22.460  14.230  21.900  1.00 20.00 \nATOM   1941 CA   LYS A 123      23.710  12.480  21.880  1.00 20.00 \nATOM   1942 HA   LYS A 123      24.060  12.960  22.800  1.00 20.00 \nATOM   1943 CB   LYS A 123      23.160  11.160  22.330  1.00 20.00 \nATOM   1944 HB2  LYS A 123      22.920  10.510  21.490  1.00 20.00 \nATOM   1945 HB3  LYS A 123      23.980  10.680  22.860  1.00 20.00 \nATOM   1946 CG   LYS A 123      21.840  11.180  23.160  1.00 20.00 \nATOM   1947 HG2  LYS A 123      21.990  11.950  23.920  1.00 20.00 \nATOM   1948 HG3  LYS A 123      20.940  11.500  22.650  1.00 20.00 \nATOM   1949 CD   LYS A 123      21.500   9.960  23.980  1.00 20.00 \nATOM   1950 HD2  LYS A 123      21.060   9.260  23.270  1.00 20.00 \nATOM   1951 HD3  LYS A 123      22.460   9.600  24.360  1.00 20.00 \nATOM   1952 CE   LYS A 123      20.500  10.140  25.120  1.00 20.00 \nATOM   1953 HE2  LYS A 123      19.670  10.650  24.640  1.00 20.00 \nATOM   1954 HE3  LYS A 123      20.180   9.160  25.480  1.00 20.00 \nATOM   1955 NZ   LYS A 123      20.910  10.960  26.240  1.00 20.00 \nATOM   1956 HZ1  LYS A 123      20.170  11.020  26.930  1.00 20.00 \nATOM   1957 HZ2  LYS A 123      21.600  10.630  26.890  1.00 20.00 \nATOM   1958 HZ3  LYS A 123      21.110  11.880  25.900  1.00 20.00 \nATOM   1959 C    LYS A 123      25.020  12.430  21.080  1.00 20.00 \nATOM   1960 O    LYS A 123      25.810  11.500  21.170  1.00 20.00 \nATOM   1961 N    ARG A 124      25.190  13.410  20.210  1.00 20.00 \nATOM   1962 H    ARG A 124      24.670  14.280  20.230  1.00 20.00 \nATOM   1963 CA   ARG A 124      26.310  13.520  19.250  1.00 20.00 \nATOM   1964 HA   ARG A 124      26.660  12.560  18.860  1.00 20.00 \nATOM   1965 CB   ARG A 124      26.000  14.460  18.040  1.00 20.00 \nATOM   1966 HB2  ARG A 124      25.570  15.350  18.500  1.00 20.00 \nATOM   1967 HB3  ARG A 124      26.900  14.670  17.470  1.00 20.00 \nATOM   1968 CG   ARG A 124      25.000  13.810  17.050  1.00 20.00 \nATOM   1969 HG2  ARG A 124      25.240  12.770  16.860  1.00 20.00 \nATOM   1970 HG3  ARG A 124      23.980  13.760  17.440  1.00 20.00 \nATOM   1971 CD   ARG A 124      24.990  14.570  15.760  1.00 20.00 \nATOM   1972 HD2  ARG A 124      24.710  15.620  15.860  1.00 20.00 \nATOM   1973 HD3  ARG A 124      26.010  14.520  15.370  1.00 20.00 \nATOM   1974 NE   ARG A 124      24.080  13.860  14.770  1.00 20.00 \nATOM   1975 HE   ARG A 124      23.280  13.400  15.170  1.00 20.00 \nATOM   1976 CZ   ARG A 124      24.260  13.650  13.520  1.00 20.00 \nATOM   1977 NH1  ARG A 124      25.290  14.020  12.800  1.00 20.00 \nATOM   1978 HH11 ARG A 124      25.930  14.720  13.140  1.00 20.00 \nATOM   1979 HH12 ARG A 124      25.340  13.760  11.820  1.00 20.00 \nATOM   1980 NH2  ARG A 124      23.380  12.810  12.960  1.00 20.00 \nATOM   1981 HH21 ARG A 124      22.810  12.290  13.620  1.00 20.00 \nATOM   1982 HH22 ARG A 124      23.430  12.520  12.000  1.00 20.00 \nATOM   1983 C    ARG A 124      27.570  13.980  20.080  1.00 20.00 \nATOM   1984 O    ARG A 124      27.910  15.170  19.980  1.00 20.00 \nATOM   1985 N    TRP A 125      28.230  13.060  20.770  1.00 20.00 \nATOM   1986 H    TRP A 125      27.850  12.130  20.700  1.00 20.00 \nATOM   1987 CA   TRP A 125      29.270  13.390  21.760  1.00 20.00 \nATOM   1988 HA   TRP A 125      28.840  14.100  22.470  1.00 20.00 \nATOM   1989 CB   TRP A 125      29.510  12.120  22.540  1.00 20.00 \nATOM   1990 HB2  TRP A 125      29.970  11.300  21.980  1.00 20.00 \nATOM   1991 HB3  TRP A 125      30.170  12.490  23.330  1.00 20.00 \nATOM   1992 CG   TRP A 125      28.400  11.460  23.340  1.00 20.00 \nATOM   1993 CD1  TRP A 125      28.360  10.140  23.560  1.00 20.00 \nATOM   1994 HD1  TRP A 125      28.980   9.350  23.150  1.00 20.00 \nATOM   1995 NE1  TRP A 125      27.220   9.850  24.280  1.00 20.00 \nATOM   1996 HE1  TRP A 125      26.920   8.890  24.320  1.00 20.00 \nATOM   1997 CE2  TRP A 125      26.440  10.990  24.570  1.00 20.00 \nATOM   1998 CZ2  TRP A 125      25.160  11.130  25.170  1.00 20.00 \nATOM   1999 HZ2  TRP A 125      24.510  10.300  25.400  1.00 20.00 \nATOM   2000 CH2  TRP A 125      24.840  12.480  25.490  1.00 20.00 \nATOM   2001 HH2  TRP A 125      23.970  12.750  26.070  1.00 20.00 \nATOM   2002 CZ3  TRP A 125      25.710  13.570  25.120  1.00 20.00 \nATOM   2003 HZ3  TRP A 125      25.470  14.590  25.370  1.00 20.00 \nATOM   2004 CE3  TRP A 125      26.830  13.310  24.270  1.00 20.00 \nATOM   2005 HE3  TRP A 125      27.540  14.100  24.060  1.00 20.00 \nATOM   2006 CD2  TRP A 125      27.290  12.010  24.090  1.00 20.00 \nATOM   2007 C    TRP A 125      30.590  13.900  21.080  1.00 20.00 \nATOM   2008 O    TRP A 125      31.030  15.050  21.440  1.00 20.00 \nATOM   2009 N    ASP A 126      31.050  13.270  20.010  1.00 20.00 \nATOM   2010 H    ASP A 126      30.580  12.460  19.640  1.00 20.00 \nATOM   2011 CA   ASP A 126      32.250  13.690  19.280  1.00 20.00 \nATOM   2012 HA   ASP A 126      33.090  13.910  19.930  1.00 20.00 \nATOM   2013 CB   ASP A 126      32.680  12.520  18.380  1.00 20.00 \nATOM   2014 HB2  ASP A 126      33.550  12.860  17.820  1.00 20.00 \nATOM   2015 HB3  ASP A 126      32.980  11.740  19.070  1.00 20.00 \nATOM   2016 CG   ASP A 126      31.580  11.890  17.500  1.00 20.00 \nATOM   2017 OD1  ASP A 126      31.920  11.240  16.510  1.00 20.00 \nATOM   2018 OD2  ASP A 126      30.400  12.320  17.600  1.00 20.00 \nATOM   2019 C    ASP A 126      31.990  14.980  18.460  1.00 20.00 \nATOM   2020 O    ASP A 126      32.920  15.750  18.370  1.00 20.00 \nATOM   2021 N    GLU A 127      30.780  15.260  18.110  1.00 20.00 \nATOM   2022 H    GLU A 127      30.060  14.550  18.080  1.00 20.00 \nATOM   2023 CA   GLU A 127      30.460  16.580  17.470  1.00 20.00 \nATOM   2024 HA   GLU A 127      31.340  16.880  16.900  1.00 20.00 \nATOM   2025 CB   GLU A 127      29.340  16.480  16.530  1.00 20.00 \nATOM   2026 HB2  GLU A 127      28.490  16.080  17.090  1.00 20.00 \nATOM   2027 HB3  GLU A 127      29.080  17.500  16.240  1.00 20.00 \nATOM   2028 CG   GLU A 127      29.670  15.520  15.320  1.00 20.00 \nATOM   2029 HG2  GLU A 127      30.690  15.740  15.000  1.00 20.00 \nATOM   2030 HG3  GLU A 127      29.690  14.480  15.650  1.00 20.00 \nATOM   2031 CD   GLU A 127      28.730  15.780  14.150  1.00 20.00 \nATOM   2032 OE1  GLU A 127      27.650  15.180  13.950  1.00 20.00 \nATOM   2033 OE2  GLU A 127      29.060  16.670  13.340  1.00 20.00 \nATOM   2034 C    GLU A 127      30.350  17.700  18.520  1.00 20.00 \nATOM   2035 O    GLU A 127      30.990  18.710  18.320  1.00 20.00 \nATOM   2036 N    ALA A 128      29.630  17.520  19.650  1.00 20.00 \nATOM   2037 H    ALA A 128      29.170  16.650  19.880  1.00 20.00 \nATOM   2038 CA   ALA A 128      29.610  18.430  20.820  1.00 20.00 \nATOM   2039 HA   ALA A 128      29.140  19.370  20.510  1.00 20.00 \nATOM   2040 CB   ALA A 128      28.750  17.790  21.950  1.00 20.00 \nATOM   2041 HB1  ALA A 128      28.850  18.400  22.850  1.00 20.00 \nATOM   2042 HB2  ALA A 128      27.710  18.020  21.690  1.00 20.00 \nATOM   2043 HB3  ALA A 128      28.930  16.740  22.160  1.00 20.00 \nATOM   2044 C    ALA A 128      31.050  18.860  21.320  1.00 20.00 \nATOM   2045 O    ALA A 128      31.270  19.990  21.730  1.00 20.00 \nATOM   2046 N    ALA A 129      31.960  17.930  21.330  1.00 20.00 \nATOM   2047 H    ALA A 129      31.640  16.990  21.160  1.00 20.00 \nATOM   2048 CA   ALA A 129      33.360  18.140  21.870  1.00 20.00 \nATOM   2049 HA   ALA A 129      33.230  18.720  22.790  1.00 20.00 \nATOM   2050 CB   ALA A 129      34.160  16.870  22.240  1.00 20.00 \nATOM   2051 HB1  ALA A 129      33.530  16.190  22.820  1.00 20.00 \nATOM   2052 HB2  ALA A 129      34.360  16.370  21.290  1.00 20.00 \nATOM   2053 HB3  ALA A 129      35.110  17.090  22.710  1.00 20.00 \nATOM   2054 C    ALA A 129      34.110  19.150  20.980  1.00 20.00 \nATOM   2055 O    ALA A 129      34.680  20.100  21.470  1.00 20.00 \nATOM   2056 N    VAL A 130      34.030  18.990  19.660  1.00 20.00 \nATOM   2057 H    VAL A 130      33.550  18.180  19.290  1.00 20.00 \nATOM   2058 CA   VAL A 130      34.480  20.090  18.730  1.00 20.00 \nATOM   2059 HA   VAL A 130      35.520  20.340  18.920  1.00 20.00 \nATOM   2060 CB   VAL A 130      34.360  19.780  17.210  1.00 20.00 \nATOM   2061 HB   VAL A 130      33.380  19.320  17.040  1.00 20.00 \nATOM   2062 CG1  VAL A 130      34.650  20.920  16.220  1.00 20.00 \nATOM   2063 HG11 VAL A 130      33.900  21.710  16.310  1.00 20.00 \nATOM   2064 HG12 VAL A 130      35.500  21.530  16.530  1.00 20.00 \nATOM   2065 HG13 VAL A 130      34.610  20.630  15.170  1.00 20.00 \nATOM   2066 CG2  VAL A 130      35.400  18.650  16.930  1.00 20.00 \nATOM   2067 HG21 VAL A 130      35.550  18.450  15.870  1.00 20.00 \nATOM   2068 HG22 VAL A 130      36.340  18.880  17.440  1.00 20.00 \nATOM   2069 HG23 VAL A 130      35.150  17.740  17.460  1.00 20.00 \nATOM   2070 C    VAL A 130      33.760  21.400  18.950  1.00 20.00 \nATOM   2071 O    VAL A 130      34.410  22.440  19.040  1.00 20.00 \nATOM   2072 N    ASN A 131      32.500  21.370  19.130  1.00 20.00 \nATOM   2073 H    ASN A 131      32.020  20.480  19.170  1.00 20.00 \nATOM   2074 CA   ASN A 131      31.660  22.580  19.200  1.00 20.00 \nATOM   2075 HA   ASN A 131      32.080  23.240  18.440  1.00 20.00 \nATOM   2076 CB   ASN A 131      30.290  22.120  18.680  1.00 20.00 \nATOM   2077 HB2  ASN A 131      30.020  21.160  19.130  1.00 20.00 \nATOM   2078 HB3  ASN A 131      29.530  22.810  19.040  1.00 20.00 \nATOM   2079 CG   ASN A 131      30.180  22.010  17.200  1.00 20.00 \nATOM   2080 OD1  ASN A 131      29.570  22.890  16.560  1.00 20.00 \nATOM   2081 ND2  ASN A 131      30.640  20.980  16.540  1.00 20.00 \nATOM   2082 HD21 ASN A 131      30.340  20.930  15.580  1.00 20.00 \nATOM   2083 HD22 ASN A 131      30.970  20.150  17.020  1.00 20.00 \nATOM   2084 C    ASN A 131      31.650  23.350  20.550  1.00 20.00 \nATOM   2085 O    ASN A 131      31.600  24.580  20.510  1.00 20.00 \nATOM   2086 N    LEU A 132      31.940  22.680  21.690  1.00 20.00 \nATOM   2087 H    LEU A 132      31.940  21.680  21.560  1.00 20.00 \nATOM   2088 CA   LEU A 132      32.250  23.260  23.000  1.00 20.00 \nATOM   2089 HA   LEU A 132      31.600  24.100  23.220  1.00 20.00 \nATOM   2090 CB   LEU A 132      32.160  22.200  24.100  1.00 20.00 \nATOM   2091 HB2  LEU A 132      32.770  21.370  23.770  1.00 20.00 \nATOM   2092 HB3  LEU A 132      32.590  22.640  25.000  1.00 20.00 \nATOM   2093 CG   LEU A 132      30.700  21.820  24.360  1.00 20.00 \nATOM   2094 HG   LEU A 132      30.170  21.730  23.410  1.00 20.00 \nATOM   2095 CD1  LEU A 132      30.590  20.490  25.050  1.00 20.00 \nATOM   2096 HD11 LEU A 132      31.160  19.800  24.420  1.00 20.00 \nATOM   2097 HD12 LEU A 132      30.930  20.600  26.080  1.00 20.00 \nATOM   2098 HD13 LEU A 132      29.530  20.220  25.100  1.00 20.00 \nATOM   2099 CD2  LEU A 132      29.880  22.870  25.140  1.00 20.00 \nATOM   2100 HD21 LEU A 132      28.880  22.530  25.410  1.00 20.00 \nATOM   2101 HD22 LEU A 132      30.500  23.130  26.000  1.00 20.00 \nATOM   2102 HD23 LEU A 132      29.770  23.760  24.530  1.00 20.00 \nATOM   2103 C    LEU A 132      33.730  23.770  22.930  1.00 20.00 \nATOM   2104 O    LEU A 132      34.050  24.700  23.650  1.00 20.00 \nATOM   2105 N    ALA A 133      34.670  23.240  22.060  1.00 20.00 \nATOM   2106 H    ALA A 133      34.400  22.360  21.630  1.00 20.00 \nATOM   2107 CA   ALA A 133      36.050  23.630  22.000  1.00 20.00 \nATOM   2108 HA   ALA A 133      36.360  23.860  23.020  1.00 20.00 \nATOM   2109 CB   ALA A 133      36.910  22.540  21.460  1.00 20.00 \nATOM   2110 HB1  ALA A 133      36.670  21.640  22.020  1.00 20.00 \nATOM   2111 HB2  ALA A 133      36.600  22.400  20.430  1.00 20.00 \nATOM   2112 HB3  ALA A 133      37.950  22.790  21.650  1.00 20.00 \nATOM   2113 C    ALA A 133      36.200  24.880  21.060  1.00 20.00 \nATOM   2114 O    ALA A 133      37.230  25.580  21.150  1.00 20.00 \nATOM   2115 N    LYS A 134      35.190  25.320  20.290  1.00 20.00 \nATOM   2116 H    LYS A 134      34.380  24.720  20.350  1.00 20.00 \nATOM   2117 CA   LYS A 134      35.060  26.450  19.430  1.00 20.00 \nATOM   2118 HA   LYS A 134      36.040  26.810  19.120  1.00 20.00 \nATOM   2119 CB   LYS A 134      34.340  26.090  18.140  1.00 20.00 \nATOM   2120 HB2  LYS A 134      33.460  25.540  18.460  1.00 20.00 \nATOM   2121 HB3  LYS A 134      34.060  27.070  17.730  1.00 20.00 \nATOM   2122 CG   LYS A 134      35.200  25.340  17.110  1.00 20.00 \nATOM   2123 HG2  LYS A 134      36.120  25.880  16.870  1.00 20.00 \nATOM   2124 HG3  LYS A 134      35.440  24.330  17.460  1.00 20.00 \nATOM   2125 CD   LYS A 134      34.440  25.160  15.770  1.00 20.00 \nATOM   2126 HD2  LYS A 134      33.470  24.700  15.930  1.00 20.00 \nATOM   2127 HD3  LYS A 134      34.300  26.160  15.360  1.00 20.00 \nATOM   2128 CE   LYS A 134      35.370  24.270  14.850  1.00 20.00 \nATOM   2129 HE2  LYS A 134      36.310  24.800  14.710  1.00 20.00 \nATOM   2130 HE3  LYS A 134      35.570  23.270  15.230  1.00 20.00 \nATOM   2131 NZ   LYS A 134      34.730  24.210  13.540  1.00 20.00 \nATOM   2132 HZ1  LYS A 134      35.270  23.500  13.060  1.00 20.00 \nATOM   2133 HZ2  LYS A 134      33.760  23.950  13.680  1.00 20.00 \nATOM   2134 HZ3  LYS A 134      34.970  25.100  13.130  1.00 20.00 \nATOM   2135 C    LYS A 134      34.410  27.650  20.180  1.00 20.00 \nATOM   2136 O    LYS A 134      33.590  28.380  19.690  1.00 20.00 \nATOM   2137 N    SER A 135      34.760  27.880  21.440  1.00 20.00 \nATOM   2138 H    SER A 135      35.600  27.360  21.660  1.00 20.00 \nATOM   2139 CA   SER A 135      34.270  28.870  22.350  1.00 20.00 \nATOM   2140 HA   SER A 135      33.540  29.510  21.870  1.00 20.00 \nATOM   2141 CB   SER A 135      33.630  28.120  23.500  1.00 20.00 \nATOM   2142 HB2  SER A 135      33.180  28.920  24.090  1.00 20.00 \nATOM   2143 HB3  SER A 135      32.790  27.520  23.150  1.00 20.00 \nATOM   2144 OG   SER A 135      34.530  27.330  24.230  1.00 20.00 \nATOM   2145 HG   SER A 135      34.390  26.390  24.110  1.00 20.00 \nATOM   2146 C    SER A 135      35.480  29.750  22.790  1.00 20.00 \nATOM   2147 O    SER A 135      36.640  29.440  22.680  1.00 20.00 \nATOM   2148 N    ARG A 136      35.080  30.970  23.270  1.00 20.00 \nATOM   2149 H    ARG A 136      34.120  31.260  23.200  1.00 20.00 \nATOM   2150 CA   ARG A 136      36.050  31.770  24.070  1.00 20.00 \nATOM   2151 HA   ARG A 136      36.980  31.810  23.500  1.00 20.00 \nATOM   2152 CB   ARG A 136      35.580  33.300  24.150  1.00 20.00 \nATOM   2153 HB2  ARG A 136      35.620  33.620  23.110  1.00 20.00 \nATOM   2154 HB3  ARG A 136      34.520  33.280  24.430  1.00 20.00 \nATOM   2155 CG   ARG A 136      36.330  34.170  25.060  1.00 20.00 \nATOM   2156 HG2  ARG A 136      36.310  33.830  26.090  1.00 20.00 \nATOM   2157 HG3  ARG A 136      37.390  34.120  24.780  1.00 20.00 \nATOM   2158 CD   ARG A 136      35.880  35.640  24.880  1.00 20.00 \nATOM   2159 HD2  ARG A 136      36.190  35.850  23.860  1.00 20.00 \nATOM   2160 HD3  ARG A 136      34.800  35.820  24.940  1.00 20.00 \nATOM   2161 NE   ARG A 136      36.710  36.500  25.770  1.00 20.00 \nATOM   2162 HE   ARG A 136      37.710  36.550  25.670  1.00 20.00 \nATOM   2163 CZ   ARG A 136      36.320  37.060  26.920  1.00 20.00 \nATOM   2164 NH1  ARG A 136      35.110  36.930  27.360  1.00 20.00 \nATOM   2165 HH11 ARG A 136      34.400  36.790  26.650  1.00 20.00 \nATOM   2166 HH12 ARG A 136      34.940  37.340  28.270  1.00 20.00 \nATOM   2167 NH2  ARG A 136      37.210  37.600  27.650  1.00 20.00 \nATOM   2168 HH21 ARG A 136      38.110  37.860  27.260  1.00 20.00 \nATOM   2169 HH22 ARG A 136      37.020  37.810  28.620  1.00 20.00 \nATOM   2170 C    ARG A 136      36.550  31.150  25.390  1.00 20.00 \nATOM   2171 O    ARG A 136      37.710  31.080  25.700  1.00 20.00 \nATOM   2172 N    TRP A 137      35.570  30.540  25.990  1.00 20.00 \nATOM   2173 H    TRP A 137      34.690  30.940  25.730  1.00 20.00 \nATOM   2174 CA   TRP A 137      35.630  29.680  27.150  1.00 20.00 \nATOM   2175 HA   TRP A 137      35.800  30.290  28.040  1.00 20.00 \nATOM   2176 CB   TRP A 137      34.260  29.010  27.250  1.00 20.00 \nATOM   2177 HB2  TRP A 137      33.490  29.730  27.500  1.00 20.00 \nATOM   2178 HB3  TRP A 137      34.070  28.470  26.320  1.00 20.00 \nATOM   2179 CG   TRP A 137      34.260  27.890  28.310  1.00 20.00 \nATOM   2180 CD1  TRP A 137      34.770  28.030  29.610  1.00 20.00 \nATOM   2181 HD1  TRP A 137      35.180  28.930  30.040  1.00 20.00 \nATOM   2182 NE1  TRP A 137      34.400  26.930  30.400  1.00 20.00 \nATOM   2183 HE1  TRP A 137      34.460  27.040  31.400  1.00 20.00 \nATOM   2184 CE2  TRP A 137      33.910  25.920  29.620  1.00 20.00 \nATOM   2185 CZ2  TRP A 137      33.520  24.620  29.940  1.00 20.00 \nATOM   2186 HZ2  TRP A 137      33.620  24.320  30.970  1.00 20.00 \nATOM   2187 CH2  TRP A 137      33.140  23.800  28.870  1.00 20.00 \nATOM   2188 HH2  TRP A 137      32.800  22.780  28.980  1.00 20.00 \nATOM   2189 CZ3  TRP A 137      33.110  24.320  27.540  1.00 20.00 \nATOM   2190 HZ3  TRP A 137      32.910  23.630  26.740  1.00 20.00 \nATOM   2191 CE3  TRP A 137      33.470  25.590  27.310  1.00 20.00 \nATOM   2192 HE3  TRP A 137      33.610  26.040  26.340  1.00 20.00 \nATOM   2193 CD2  TRP A 137      33.780  26.480  28.290  1.00 20.00 \nATOM   2194 C    TRP A 137      36.840  28.680  27.120  1.00 20.00 \nATOM   2195 O    TRP A 137      37.640  28.580  28.090  1.00 20.00 \nATOM   2196 N    TYR A 138      37.040  27.940  26.060  1.00 20.00 \nATOM   2197 H    TYR A 138      36.440  28.100  25.260  1.00 20.00 \nATOM   2198 CA   TYR A 138      38.090  26.970  25.830  1.00 20.00 \nATOM   2199 HA   TYR A 138      38.030  26.170  26.560  1.00 20.00 \nATOM   2200 CB   TYR A 138      37.840  26.330  24.430  1.00 20.00 \nATOM   2201 HB2  TYR A 138      36.800  26.020  24.410  1.00 20.00 \nATOM   2202 HB3  TYR A 138      38.130  27.020  23.640  1.00 20.00 \nATOM   2203 CG   TYR A 138      38.740  25.090  24.180  1.00 20.00 \nATOM   2204 CD1  TYR A 138      38.460  24.010  25.120  1.00 20.00 \nATOM   2205 HD1  TYR A 138      37.740  24.130  25.910  1.00 20.00 \nATOM   2206 CE1  TYR A 138      39.220  22.800  24.980  1.00 20.00 \nATOM   2207 HE1  TYR A 138      38.810  21.910  25.440  1.00 20.00 \nATOM   2208 CZ   TYR A 138      40.120  22.660  23.900  1.00 20.00 \nATOM   2209 OH   TYR A 138      40.540  21.470  23.470  1.00 20.00 \nATOM   2210 HH   TYR A 138      41.060  21.600  22.680  1.00 20.00 \nATOM   2211 CE2  TYR A 138      40.500  23.840  23.220  1.00 20.00 \nATOM   2212 HE2  TYR A 138      41.190  23.730  22.390  1.00 20.00 \nATOM   2213 CD2  TYR A 138      39.820  25.030  23.330  1.00 20.00 \nATOM   2214 HD2  TYR A 138      40.060  25.890  22.730  1.00 20.00 \nATOM   2215 C    TYR A 138      39.500  27.560  26.010  1.00 20.00 \nATOM   2216 O    TYR A 138      40.420  26.830  26.380  1.00 20.00 \nATOM   2217 N    ASN A 139      39.680  28.800  25.650  1.00 20.00 \nATOM   2218 H    ASN A 139      38.850  29.220  25.270  1.00 20.00 \nATOM   2219 CA   ASN A 139      41.000  29.520  25.670  1.00 20.00 \nATOM   2220 HA   ASN A 139      41.830  28.810  25.600  1.00 20.00 \nATOM   2221 CB   ASN A 139      41.060  30.540  24.510  1.00 20.00 \nATOM   2222 HB2  ASN A 139      40.240  31.250  24.610  1.00 20.00 \nATOM   2223 HB3  ASN A 139      42.030  31.030  24.500  1.00 20.00 \nATOM   2224 CG   ASN A 139      40.890  29.840  23.190  1.00 20.00 \nATOM   2225 OD1  ASN A 139      39.780  29.870  22.640  1.00 20.00 \nATOM   2226 ND2  ASN A 139      41.850  29.040  22.710  1.00 20.00 \nATOM   2227 HD21 ASN A 139      41.610  28.580  21.840  1.00 20.00 \nATOM   2228 HD22 ASN A 139      42.690  28.760  23.210  1.00 20.00 \nATOM   2229 C    ASN A 139      41.160  30.300  27.050  1.00 20.00 \nATOM   2230 O    ASN A 139      42.220  30.580  27.590  1.00 20.00 \nATOM   2231 N    GLN A 140      39.990  30.640  27.640  1.00 20.00 \nATOM   2232 H    GLN A 140      39.090  30.490  27.220  1.00 20.00 \nATOM   2233 CA   GLN A 140      39.940  31.370  28.890  1.00 20.00 \nATOM   2234 HA   GLN A 140      40.570  32.270  28.890  1.00 20.00 \nATOM   2235 CB   GLN A 140      38.520  31.880  29.120  1.00 20.00 \nATOM   2236 HB2  GLN A 140      37.820  31.090  28.850  1.00 20.00 \nATOM   2237 HB3  GLN A 140      38.410  32.070  30.190  1.00 20.00 \nATOM   2238 CG   GLN A 140      38.090  33.070  28.300  1.00 20.00 \nATOM   2239 HG2  GLN A 140      38.530  32.980  27.310  1.00 20.00 \nATOM   2240 HG3  GLN A 140      37.010  33.190  28.280  1.00 20.00 \nATOM   2241 CD   GLN A 140      38.730  34.350  28.860  1.00 20.00 \nATOM   2242 OE1  GLN A 140      39.870  34.760  28.580  1.00 20.00 \nATOM   2243 NE2  GLN A 140      37.950  35.060  29.700  1.00 20.00 \nATOM   2244 HE21 GLN A 140      37.140  34.660  30.170  1.00 20.00 \nATOM   2245 HE22 GLN A 140      38.520  35.700  30.220  1.00 20.00 \nATOM   2246 C    GLN A 140      40.270  30.540  30.140  1.00 20.00 \nATOM   2247 O    GLN A 140      40.970  31.050  31.010  1.00 20.00 \nATOM   2248 N    THR A 141      39.930  29.300  30.140  1.00 20.00 \nATOM   2249 H    THR A 141      39.310  28.970  29.420  1.00 20.00 \nATOM   2250 CA   THR A 141      40.230  28.290  31.180  1.00 20.00 \nATOM   2251 HA   THR A 141      41.130  28.660  31.680  1.00 20.00 \nATOM   2252 CB   THR A 141      39.160  28.280  32.260  1.00 20.00 \nATOM   2253 HB   THR A 141      39.480  27.410  32.850  1.00 20.00 \nATOM   2254 CG2  THR A 141      39.060  29.570  33.040  1.00 20.00 \nATOM   2255 HG21 THR A 141      38.580  30.320  32.410  1.00 20.00 \nATOM   2256 HG22 THR A 141      38.370  29.240  33.830  1.00 20.00 \nATOM   2257 HG23 THR A 141      40.020  29.950  33.400  1.00 20.00 \nATOM   2258 OG1  THR A 141      37.890  28.020  31.760  1.00 20.00 \nATOM   2259 HG1  THR A 141      38.090  27.760  30.860  1.00 20.00 \nATOM   2260 C    THR A 141      40.540  26.880  30.640  1.00 20.00 \nATOM   2261 O    THR A 141      39.710  25.980  30.690  1.00 20.00 \nATOM   2262 N    PRO A 142      41.700  26.720  29.980  1.00 20.00 \nATOM   2263 CD   PRO A 142      42.690  27.710  29.740  1.00 20.00 \nATOM   2264 HD2  PRO A 142      43.480  27.760  30.490  1.00 20.00 \nATOM   2265 HD3  PRO A 142      42.320  28.740  29.810  1.00 20.00 \nATOM   2266 CG   PRO A 142      43.250  27.400  28.350  1.00 20.00 \nATOM   2267 HG2  PRO A 142      44.280  27.740  28.240  1.00 20.00 \nATOM   2268 HG3  PRO A 142      42.700  27.880  27.540  1.00 20.00 \nATOM   2269 CB   PRO A 142      43.120  25.940  28.140  1.00 20.00 \nATOM   2270 HB2  PRO A 142      43.940  25.430  28.650  1.00 20.00 \nATOM   2271 HB3  PRO A 142      42.990  25.630  27.100  1.00 20.00 \nATOM   2272 CA   PRO A 142      41.850  25.690  28.960  1.00 20.00 \nATOM   2273 HA   PRO A 142      41.010  25.830  28.270  1.00 20.00 \nATOM   2274 C    PRO A 142      41.880  24.190  29.460  1.00 20.00 \nATOM   2275 O    PRO A 142      41.220  23.340  28.850  1.00 20.00 \nATOM   2276 N    ASN A 143      42.420  23.900  30.710  1.00 20.00 \nATOM   2277 H    ASN A 143      42.700  24.690  31.270  1.00 20.00 \nATOM   2278 CA   ASN A 143      42.290  22.590  31.410  1.00 20.00 \nATOM   2279 HA   ASN A 143      42.490  21.830  30.660  1.00 20.00 \nATOM   2280 CB   ASN A 143      43.310  22.450  32.500  1.00 20.00 \nATOM   2281 HB2  ASN A 143      43.090  23.200  33.260  1.00 20.00 \nATOM   2282 HB3  ASN A 143      43.130  21.450  32.920  1.00 20.00 \nATOM   2283 CG   ASN A 143      44.770  22.490  32.090  1.00 20.00 \nATOM   2284 OD1  ASN A 143      45.190  21.630  31.300  1.00 20.00 \nATOM   2285 ND2  ASN A 143      45.560  23.360  32.620  1.00 20.00 \nATOM   2286 HD21 ASN A 143      46.550  23.390  32.430  1.00 20.00 \nATOM   2287 HD22 ASN A 143      45.170  24.190  33.060  1.00 20.00 \nATOM   2288 C    ASN A 143      40.900  22.250  32.020  1.00 20.00 \nATOM   2289 O    ASN A 143      40.470  21.120  31.760  1.00 20.00 \nATOM   2290 N    ARG A 144      40.200  23.160  32.670  1.00 20.00 \nATOM   2291 H    ARG A 144      40.620  24.080  32.700  1.00 20.00 \nATOM   2292 CA   ARG A 144      38.780  23.060  32.980  1.00 20.00 \nATOM   2293 HA   ARG A 144      38.700  22.130  33.530  1.00 20.00 \nATOM   2294 CB   ARG A 144      38.300  24.290  33.770  1.00 20.00 \nATOM   2295 HB2  ARG A 144      38.850  24.440  34.700  1.00 20.00 \nATOM   2296 HB3  ARG A 144      38.340  25.210  33.200  1.00 20.00 \nATOM   2297 CG   ARG A 144      36.810  24.280  34.200  1.00 20.00 \nATOM   2298 HG2  ARG A 144      36.090  24.090  33.400  1.00 20.00 \nATOM   2299 HG3  ARG A 144      36.530  23.560  34.980  1.00 20.00 \nATOM   2300 CD   ARG A 144      36.510  25.650  34.760  1.00 20.00 \nATOM   2301 HD2  ARG A 144      37.240  26.050  35.470  1.00 20.00 \nATOM   2302 HD3  ARG A 144      36.490  26.350  33.920  1.00 20.00 \nATOM   2303 NE   ARG A 144      35.190  25.600  35.480  1.00 20.00 \nATOM   2304 HE   ARG A 144      34.440  25.030  35.110  1.00 20.00 \nATOM   2305 CZ   ARG A 144      34.810  26.350  36.400  1.00 20.00 \nATOM   2306 NH1  ARG A 144      35.560  27.410  36.720  1.00 20.00 \nATOM   2307 HH11 ARG A 144      36.480  27.480  36.310  1.00 20.00 \nATOM   2308 HH12 ARG A 144      35.260  27.950  37.510  1.00 20.00 \nATOM   2309 NH2  ARG A 144      33.730  26.070  37.060  1.00 20.00 \nATOM   2310 HH21 ARG A 144      33.010  25.600  36.530  1.00 20.00 \nATOM   2311 HH22 ARG A 144      33.500  26.760  37.760  1.00 20.00 \nATOM   2312 C    ARG A 144      37.880  22.840  31.770  1.00 20.00 \nATOM   2313 O    ARG A 144      37.040  21.930  31.670  1.00 20.00 \nATOM   2314 N    ALA A 145      38.070  23.650  30.750  1.00 20.00 \nATOM   2315 H    ALA A 145      38.900  24.210  30.770  1.00 20.00 \nATOM   2316 CA   ALA A 145      37.190  23.550  29.550  1.00 20.00 \nATOM   2317 HA   ALA A 145      36.180  23.590  29.970  1.00 20.00 \nATOM   2318 CB   ALA A 145      37.490  24.630  28.580  1.00 20.00 \nATOM   2319 HB1  ALA A 145      36.800  24.530  27.750  1.00 20.00 \nATOM   2320 HB2  ALA A 145      37.320  25.640  28.950  1.00 20.00 \nATOM   2321 HB3  ALA A 145      38.540  24.600  28.320  1.00 20.00 \nATOM   2322 C    ALA A 145      37.330  22.080  28.930  1.00 20.00 \nATOM   2323 O    ALA A 145      36.360  21.500  28.510  1.00 20.00 \nATOM   2324 N    LYS A 146      38.570  21.540  28.880  1.00 20.00 \nATOM   2325 H    LYS A 146      39.350  22.150  29.060  1.00 20.00 \nATOM   2326 CA   LYS A 146      38.820  20.180  28.390  1.00 20.00 \nATOM   2327 HA   LYS A 146      38.430  19.930  27.400  1.00 20.00 \nATOM   2328 CB   LYS A 146      40.350  19.970  28.370  1.00 20.00 \nATOM   2329 HB2  LYS A 146      40.820  20.340  29.280  1.00 20.00 \nATOM   2330 HB3  LYS A 146      40.470  18.900  28.200  1.00 20.00 \nATOM   2331 CG   LYS A 146      40.870  20.750  27.220  1.00 20.00 \nATOM   2332 HG2  LYS A 146      40.470  20.230  26.340  1.00 20.00 \nATOM   2333 HG3  LYS A 146      40.430  21.740  27.240  1.00 20.00 \nATOM   2334 CD   LYS A 146      42.440  20.820  27.190  1.00 20.00 \nATOM   2335 HD2  LYS A 146      42.870  21.260  28.090  1.00 20.00 \nATOM   2336 HD3  LYS A 146      42.870  19.830  27.120  1.00 20.00 \nATOM   2337 CE   LYS A 146      42.840  21.500  25.970  1.00 20.00 \nATOM   2338 HE2  LYS A 146      42.600  20.850  25.130  1.00 20.00 \nATOM   2339 HE3  LYS A 146      42.230  22.400  25.850  1.00 20.00 \nATOM   2340 NZ   LYS A 146      44.280  21.800  25.990  1.00 20.00 \nATOM   2341 HZ1  LYS A 146      44.840  21.000  25.740  1.00 20.00 \nATOM   2342 HZ2  LYS A 146      44.470  22.440  25.230  1.00 20.00 \nATOM   2343 HZ3  LYS A 146      44.580  22.080  26.910  1.00 20.00 \nATOM   2344 C    LYS A 146      38.180  19.130  29.280  1.00 20.00 \nATOM   2345 O    LYS A 146      37.470  18.280  28.790  1.00 20.00 \nATOM   2346 N    ARG A 147      38.460  19.110  30.590  1.00 20.00 \nATOM   2347 H    ARG A 147      39.140  19.810  30.860  1.00 20.00 \nATOM   2348 CA   ARG A 147      37.840  18.250  31.640  1.00 20.00 \nATOM   2349 HA   ARG A 147      38.110  17.210  31.420  1.00 20.00 \nATOM   2350 CB   ARG A 147      38.440  18.570  33.040  1.00 20.00 \nATOM   2351 HB2  ARG A 147      38.250  19.630  33.230  1.00 20.00 \nATOM   2352 HB3  ARG A 147      37.860  17.980  33.760  1.00 20.00 \nATOM   2353 CG   ARG A 147      39.950  18.240  33.290  1.00 20.00 \nATOM   2354 HG2  ARG A 147      40.040  17.170  33.090  1.00 20.00 \nATOM   2355 HG3  ARG A 147      40.630  18.930  32.790  1.00 20.00 \nATOM   2356 CD   ARG A 147      40.180  18.460  34.800  1.00 20.00 \nATOM   2357 HD2  ARG A 147      39.460  17.850  35.350  1.00 20.00 \nATOM   2358 HD3  ARG A 147      41.120  17.980  35.070  1.00 20.00 \nATOM   2359 NE   ARG A 147      40.030  19.870  35.300  1.00 20.00 \nATOM   2360 HE   ARG A 147      39.050  20.110  35.410  1.00 20.00 \nATOM   2361 CZ   ARG A 147      40.950  20.670  35.770  1.00 20.00 \nATOM   2362 NH1  ARG A 147      42.200  20.500  35.520  1.00 20.00 \nATOM   2363 HH11 ARG A 147      42.520  19.800  34.870  1.00 20.00 \nATOM   2364 HH12 ARG A 147      42.910  21.170  35.770  1.00 20.00 \nATOM   2365 NH2  ARG A 147      40.600  21.750  36.350  1.00 20.00 \nATOM   2366 HH21 ARG A 147      39.650  21.810  36.680  1.00 20.00 \nATOM   2367 HH22 ARG A 147      41.360  22.390  36.520  1.00 20.00 \nATOM   2368 C    ARG A 147      36.300  18.280  31.750  1.00 20.00 \nATOM   2369 O    ARG A 147      35.680  17.170  31.670  1.00 20.00 \nATOM   2370 N    VAL A 148      35.660  19.470  31.660  1.00 20.00 \nATOM   2371 H    VAL A 148      36.190  20.330  31.670  1.00 20.00 \nATOM   2372 CA   VAL A 148      34.220  19.610  31.400  1.00 20.00 \nATOM   2373 HA   VAL A 148      33.620  19.190  32.220  1.00 20.00 \nATOM   2374 CB   VAL A 148      33.900  21.100  31.530  1.00 20.00 \nATOM   2375 HB   VAL A 148      34.440  21.770  30.850  1.00 20.00 \nATOM   2376 CG1  VAL A 148      32.360  21.330  31.380  1.00 20.00 \nATOM   2377 HG11 VAL A 148      32.060  22.350  31.620  1.00 20.00 \nATOM   2378 HG12 VAL A 148      32.000  21.050  30.390  1.00 20.00 \nATOM   2379 HG13 VAL A 148      31.930  20.710  32.160  1.00 20.00 \nATOM   2380 CG2  VAL A 148      34.190  21.550  32.950  1.00 20.00 \nATOM   2381 HG21 VAL A 148      33.680  20.830  33.580  1.00 20.00 \nATOM   2382 HG22 VAL A 148      35.250  21.410  33.180  1.00 20.00 \nATOM   2383 HG23 VAL A 148      33.780  22.550  33.110  1.00 20.00 \nATOM   2384 C    VAL A 148      33.740  18.980  30.090  1.00 20.00 \nATOM   2385 O    VAL A 148      32.880  18.160  30.140  1.00 20.00 \nATOM   2386 N    ILE A 149      34.310  19.300  28.880  1.00 20.00 \nATOM   2387 H    ILE A 149      35.160  19.840  28.950  1.00 20.00 \nATOM   2388 CA   ILE A 149      34.020  18.670  27.600  1.00 20.00 \nATOM   2389 HA   ILE A 149      33.000  18.810  27.240  1.00 20.00 \nATOM   2390 CB   ILE A 149      34.940  19.390  26.550  1.00 20.00 \nATOM   2391 HB   ILE A 149      35.980  19.380  26.870  1.00 20.00 \nATOM   2392 CG2  ILE A 149      34.950  18.580  25.200  1.00 20.00 \nATOM   2393 HG21 ILE A 149      35.320  17.560  25.320  1.00 20.00 \nATOM   2394 HG22 ILE A 149      33.930  18.520  24.810  1.00 20.00 \nATOM   2395 HG23 ILE A 149      35.630  19.130  24.560  1.00 20.00 \nATOM   2396 CG1  ILE A 149      34.480  20.870  26.320  1.00 20.00 \nATOM   2397 HG12 ILE A 149      33.450  20.860  25.980  1.00 20.00 \nATOM   2398 HG13 ILE A 149      34.470  21.350  27.290  1.00 20.00 \nATOM   2399 CD1  ILE A 149      35.360  21.790  25.480  1.00 20.00 \nATOM   2400 HD11 ILE A 149      36.390  21.490  25.680  1.00 20.00 \nATOM   2401 HD12 ILE A 149      35.260  21.660  24.400  1.00 20.00 \nATOM   2402 HD13 ILE A 149      35.170  22.850  25.630  1.00 20.00 \nATOM   2403 C    ILE A 149      34.320  17.190  27.630  1.00 20.00 \nATOM   2404 O    ILE A 149      33.570  16.350  27.080  1.00 20.00 \nATOM   2405 N    THR A 150      35.420  16.710  28.270  1.00 20.00 \nATOM   2406 H    THR A 150      36.060  17.370  28.690  1.00 20.00 \nATOM   2407 CA   THR A 150      35.710  15.290  28.360  1.00 20.00 \nATOM   2408 HA   THR A 150      35.670  14.710  27.450  1.00 20.00 \nATOM   2409 CB   THR A 150      37.090  15.150  29.050  1.00 20.00 \nATOM   2410 HB   THR A 150      37.020  15.700  29.990  1.00 20.00 \nATOM   2411 CG2  THR A 150      37.460  13.680  29.230  1.00 20.00 \nATOM   2412 HG21 THR A 150      37.520  13.210  28.240  1.00 20.00 \nATOM   2413 HG22 THR A 150      38.440  13.580  29.710  1.00 20.00 \nATOM   2414 HG23 THR A 150      36.820  13.180  29.940  1.00 20.00 \nATOM   2415 OG1  THR A 150      38.080  15.570  28.160  1.00 20.00 \nATOM   2416 HG1  THR A 150      37.950  16.520  28.090  1.00 20.00 \nATOM   2417 C    THR A 150      34.600  14.520  29.140  1.00 20.00 \nATOM   2418 O    THR A 150      34.260  13.390  28.800  1.00 20.00 \nATOM   2419 N    THR A 151      34.110  15.120  30.250  1.00 20.00 \nATOM   2420 H    THR A 151      34.480  16.030  30.490  1.00 20.00 \nATOM   2421 CA   THR A 151      32.960  14.570  30.970  1.00 20.00 \nATOM   2422 HA   THR A 151      33.140  13.590  31.420  1.00 20.00 \nATOM   2423 CB   THR A 151      32.670  15.520  32.110  1.00 20.00 \nATOM   2424 HB   THR A 151      32.240  16.430  31.690  1.00 20.00 \nATOM   2425 CG2  THR A 151      31.720  14.830  33.070  1.00 20.00 \nATOM   2426 HG21 THR A 151      31.470  15.520  33.870  1.00 20.00 \nATOM   2427 HG22 THR A 151      30.760  14.630  32.610  1.00 20.00 \nATOM   2428 HG23 THR A 151      32.140  13.870  33.370  1.00 20.00 \nATOM   2429 OG1  THR A 151      33.680  15.770  33.020  1.00 20.00 \nATOM   2430 HG1  THR A 151      34.370  16.130  32.470  1.00 20.00 \nATOM   2431 C    THR A 151      31.700  14.450  30.110  1.00 20.00 \nATOM   2432 O    THR A 151      31.010  13.460  30.230  1.00 20.00 \nATOM   2433 N    PHE A 152      31.400  15.340  29.120  1.00 20.00 \nATOM   2434 H    PHE A 152      32.130  16.010  28.950  1.00 20.00 \nATOM   2435 CA   PHE A 152      30.230  15.300  28.130  1.00 20.00 \nATOM   2436 HA   PHE A 152      29.260  15.090  28.580  1.00 20.00 \nATOM   2437 CB   PHE A 152      30.100  16.640  27.340  1.00 20.00 \nATOM   2438 HB2  PHE A 152      31.060  16.990  26.960  1.00 20.00 \nATOM   2439 HB3  PHE A 152      29.430  16.450  26.490  1.00 20.00 \nATOM   2440 CG   PHE A 152      29.450  17.760  28.160  1.00 20.00 \nATOM   2441 CD1  PHE A 152      28.120  17.590  28.520  1.00 20.00 \nATOM   2442 HD1  PHE A 152      27.620  16.640  28.420  1.00 20.00 \nATOM   2443 CE1  PHE A 152      27.430  18.600  29.190  1.00 20.00 \nATOM   2444 HE1  PHE A 152      26.440  18.450  29.610  1.00 20.00 \nATOM   2445 CZ   PHE A 152      28.080  19.840  29.430  1.00 20.00 \nATOM   2446 HZ   PHE A 152      27.430  20.630  29.790  1.00 20.00 \nATOM   2447 CE2  PHE A 152      29.420  20.040  29.070  1.00 20.00 \nATOM   2448 HE2  PHE A 152      29.950  20.970  29.220  1.00 20.00 \nATOM   2449 CD2  PHE A 152      30.130  18.930  28.550  1.00 20.00 \nATOM   2450 HD2  PHE A 152      31.210  18.980  28.450  1.00 20.00 \nATOM   2451 C    PHE A 152      30.640  14.280  27.060  1.00 20.00 \nATOM   2452 O    PHE A 152      29.780  13.660  26.400  1.00 20.00 \nATOM   2453 N    ARG A 153      31.960  14.030  26.770  1.00 20.00 \nATOM   2454 H    ARG A 153      32.640  14.610  27.250  1.00 20.00 \nATOM   2455 CA   ARG A 153      32.520  12.980  25.830  1.00 20.00 \nATOM   2456 HA   ARG A 153      31.870  12.980  24.950  1.00 20.00 \nATOM   2457 CB   ARG A 153      34.050  13.110  25.510  1.00 20.00 \nATOM   2458 HB2  ARG A 153      34.160  14.190  25.390  1.00 20.00 \nATOM   2459 HB3  ARG A 153      34.630  12.780  26.370  1.00 20.00 \nATOM   2460 CG   ARG A 153      34.460  12.390  24.230  1.00 20.00 \nATOM   2461 HG2  ARG A 153      35.530  12.430  24.000  1.00 20.00 \nATOM   2462 HG3  ARG A 153      34.310  11.330  24.400  1.00 20.00 \nATOM   2463 CD   ARG A 153      33.940  12.980  22.880  1.00 20.00 \nATOM   2464 HD2  ARG A 153      32.850  12.870  22.850  1.00 20.00 \nATOM   2465 HD3  ARG A 153      34.220  14.030  22.850  1.00 20.00 \nATOM   2466 NE   ARG A 153      34.430  12.210  21.710  1.00 20.00 \nATOM   2467 HE   ARG A 153      33.700  11.600  21.350  1.00 20.00 \nATOM   2468 CZ   ARG A 153      35.550  12.290  21.060  1.00 20.00 \nATOM   2469 NH1  ARG A 153      36.390  13.230  21.260  1.00 20.00 \nATOM   2470 HH11 ARG A 153      36.300  13.690  22.160  1.00 20.00 \nATOM   2471 HH12 ARG A 153      37.270  13.150  20.770  1.00 20.00 \nATOM   2472 NH2  ARG A 153      35.790  11.470  20.100  1.00 20.00 \nATOM   2473 HH21 ARG A 153      35.310  10.590  20.030  1.00 20.00 \nATOM   2474 HH22 ARG A 153      36.610  11.610  19.540  1.00 20.00 \nATOM   2475 C    ARG A 153      32.180  11.580  26.380  1.00 20.00 \nATOM   2476 O    ARG A 153      31.680  10.730  25.650  1.00 20.00 \nATOM   2477 N    THR A 154      32.400  11.360  27.700  1.00 20.00 \nATOM   2478 H    THR A 154      32.900  12.090  28.190  1.00 20.00 \nATOM   2479 CA   THR A 154      32.420  10.020  28.300  1.00 20.00 \nATOM   2480 HA   THR A 154      32.280   9.290  27.510  1.00 20.00 \nATOM   2481 CB   THR A 154      33.740   9.560  28.930  1.00 20.00 \nATOM   2482 HB   THR A 154      33.480   8.590  29.340  1.00 20.00 \nATOM   2483 CG2  THR A 154      34.830   9.400  27.870  1.00 20.00 \nATOM   2484 HG21 THR A 154      35.650   8.810  28.270  1.00 20.00 \nATOM   2485 HG22 THR A 154      34.360   8.970  26.990  1.00 20.00 \nATOM   2486 HG23 THR A 154      35.230  10.400  27.710  1.00 20.00 \nATOM   2487 OG1  THR A 154      34.050  10.550  29.900  1.00 20.00 \nATOM   2488 HG1  THR A 154      34.480  10.030  30.580  1.00 20.00 \nATOM   2489 C    THR A 154      31.280   9.700  29.280  1.00 20.00 \nATOM   2490 O    THR A 154      30.830   8.530  29.400  1.00 20.00 \nATOM   2491 N    GLY A 155      30.790  10.750  29.940  1.00 20.00 \nATOM   2492 H    GLY A 155      31.140  11.680  29.780  1.00 20.00 \nATOM   2493 CA   GLY A 155      29.680  10.610  30.840  1.00 20.00 \nATOM   2494 HA2  GLY A 155      29.400  11.640  31.070  1.00 20.00 \nATOM   2495 HA3  GLY A 155      28.890  10.070  30.310  1.00 20.00 \nATOM   2496 C    GLY A 155      30.020   9.870  32.140  1.00 20.00 \nATOM   2497 O    GLY A 155      29.150   9.380  32.890  1.00 20.00 \nATOM   2498 N    THR A 156      31.330   9.820  32.420  1.00 20.00 \nATOM   2499 H    THR A 156      31.890  10.160  31.650  1.00 20.00 \nATOM   2500 CA   THR A 156      32.000   9.120  33.460  1.00 20.00 \nATOM   2501 HA   THR A 156      31.290   8.710  34.180  1.00 20.00 \nATOM   2502 CB   THR A 156      33.030   8.030  32.990  1.00 20.00 \nATOM   2503 HB   THR A 156      33.490   7.720  33.930  1.00 20.00 \nATOM   2504 CG2  THR A 156      32.400   6.890  32.200  1.00 20.00 \nATOM   2505 HG21 THR A 156      31.740   7.150  31.370  1.00 20.00 \nATOM   2506 HG22 THR A 156      33.230   6.260  31.850  1.00 20.00 \nATOM   2507 HG23 THR A 156      31.810   6.340  32.930  1.00 20.00 \nATOM   2508 OG1  THR A 156      34.010   8.490  32.070  1.00 20.00 \nATOM   2509 HG1  THR A 156      34.640   7.770  32.100  1.00 20.00 \nATOM   2510 C    THR A 156      32.760  10.200  34.260  1.00 20.00 \nATOM   2511 O    THR A 156      33.020  11.250  33.660  1.00 20.00 \nATOM   2512 N    TRP A 157      33.130   9.880  35.570  1.00 20.00 \nATOM   2513 H    TRP A 157      32.870   8.980  35.950  1.00 20.00 \nATOM   2514 CA   TRP A 157      33.850  10.810  36.480  1.00 20.00 \nATOM   2515 HA   TRP A 157      33.470  11.780  36.160  1.00 20.00 \nATOM   2516 CB   TRP A 157      33.490  10.660  37.950  1.00 20.00 \nATOM   2517 HB2  TRP A 157      33.580   9.620  38.260  1.00 20.00 \nATOM   2518 HB3  TRP A 157      34.210  11.290  38.460  1.00 20.00 \nATOM   2519 CG   TRP A 157      32.100  11.240  38.320  1.00 20.00 \nATOM   2520 CD1  TRP A 157      31.040  10.560  38.880  1.00 20.00 \nATOM   2521 HD1  TRP A 157      31.060   9.540  39.250  1.00 20.00 \nATOM   2522 NE1  TRP A 157      30.070  11.560  39.240  1.00 20.00 \nATOM   2523 HE1  TRP A 157      29.120  11.450  39.550  1.00 20.00 \nATOM   2524 CE2  TRP A 157      30.500  12.860  38.840  1.00 20.00 \nATOM   2525 CZ2  TRP A 157      29.940  14.140  38.920  1.00 20.00 \nATOM   2526 HZ2  TRP A 157      28.930  14.280  39.280  1.00 20.00 \nATOM   2527 CH2  TRP A 157      30.730  15.250  38.600  1.00 20.00 \nATOM   2528 HH2  TRP A 157      30.470  16.270  38.870  1.00 20.00 \nATOM   2529 CZ3  TRP A 157      32.030  15.070  38.180  1.00 20.00 \nATOM   2530 HZ3  TRP A 157      32.750  15.870  38.110  1.00 20.00 \nATOM   2531 CE3  TRP A 157      32.570  13.780  37.960  1.00 20.00 \nATOM   2532 HE3  TRP A 157      33.560  13.710  37.530  1.00 20.00 \nATOM   2533 CD2  TRP A 157      31.830  12.640  38.360  1.00 20.00 \nATOM   2534 C    TRP A 157      35.380  10.920  36.160  1.00 20.00 \nATOM   2535 O    TRP A 157      36.140  11.560  36.940  1.00 20.00 \nATOM   2536 N    ASP A 158      35.870  10.480  34.960  1.00 20.00 \nATOM   2537 H    ASP A 158      35.090  10.090  34.440  1.00 20.00 \nATOM   2538 CA   ASP A 158      37.290  10.190  34.640  1.00 20.00 \nATOM   2539 HA   ASP A 158      37.720   9.600  35.450  1.00 20.00 \nATOM   2540 CB   ASP A 158      37.320   9.240  33.480  1.00 20.00 \nATOM   2541 HB2  ASP A 158      36.930   9.670  32.560  1.00 20.00 \nATOM   2542 HB3  ASP A 158      38.370   9.010  33.320  1.00 20.00 \nATOM   2543 CG   ASP A 158      36.540   7.880  33.680  1.00 20.00 \nATOM   2544 OD1  ASP A 158      36.200   7.520  34.830  1.00 20.00 \nATOM   2545 OD2  ASP A 158      36.380   7.150  32.640  1.00 20.00 \nATOM   2546 C    ASP A 158      38.130  11.460  34.470  1.00 20.00 \nATOM   2547 O    ASP A 158      39.250  11.580  35.010  1.00 20.00 \nATOM   2548 N    ALA A 159      37.480  12.510  33.950  1.00 20.00 \nATOM   2549 H    ALA A 159      36.570  12.410  33.520  1.00 20.00 \nATOM   2550 CA   ALA A 159      38.020  13.860  33.870  1.00 20.00 \nATOM   2551 HA   ALA A 159      38.860  13.900  33.170  1.00 20.00 \nATOM   2552 CB   ALA A 159      36.980  14.760  33.240  1.00 20.00 \nATOM   2553 HB1  ALA A 159      37.370  15.770  33.090  1.00 20.00 \nATOM   2554 HB2  ALA A 159      36.620  14.460  32.260  1.00 20.00 \nATOM   2555 HB3  ALA A 159      36.080  14.750  33.860  1.00 20.00 \nATOM   2556 C    ALA A 159      38.540  14.430  35.220  1.00 20.00 \nATOM   2557 O    ALA A 159      39.230  15.450  35.220  1.00 20.00 \nATOM   2558 N    TYR A 160      38.120  13.830  36.310  1.00 20.00 \nATOM   2559 H    TYR A 160      37.540  13.030  36.090  1.00 20.00 \nATOM   2560 CA   TYR A 160      38.180  14.410  37.700  1.00 20.00 \nATOM   2561 HA   TYR A 160      38.930  15.210  37.710  1.00 20.00 \nATOM   2562 CB   TYR A 160      36.830  15.040  38.020  1.00 20.00 \nATOM   2563 HB2  TYR A 160      36.050  14.360  37.700  1.00 20.00 \nATOM   2564 HB3  TYR A 160      36.760  15.180  39.100  1.00 20.00 \nATOM   2565 CG   TYR A 160      36.580  16.330  37.330  1.00 20.00 \nATOM   2566 CD1  TYR A 160      35.910  16.440  36.100  1.00 20.00 \nATOM   2567 HD1  TYR A 160      35.360  15.650  35.620  1.00 20.00 \nATOM   2568 CE1  TYR A 160      35.900  17.730  35.490  1.00 20.00 \nATOM   2569 HE1  TYR A 160      35.390  17.780  34.530  1.00 20.00 \nATOM   2570 CZ   TYR A 160      36.450  18.900  36.080  1.00 20.00 \nATOM   2571 OH   TYR A 160      36.210  20.130  35.550  1.00 20.00 \nATOM   2572 HH   TYR A 160      36.310  20.830  36.200  1.00 20.00 \nATOM   2573 CE2  TYR A 160      37.080  18.750  37.320  1.00 20.00 \nATOM   2574 HE2  TYR A 160      37.520  19.600  37.820  1.00 20.00 \nATOM   2575 CD2  TYR A 160      37.160  17.470  37.930  1.00 20.00 \nATOM   2576 HD2  TYR A 160      37.740  17.280  38.820  1.00 20.00 \nATOM   2577 C    TYR A 160      38.720  13.440  38.770  1.00 20.00 \nATOM   2578 O    TYR A 160      39.590  13.870  39.550  1.00 20.00 \nATOM   2579 N    LYS A 161      38.240  12.190  38.810  1.00 20.00 \nATOM   2580 H    LYS A 161      37.510  11.880  38.180  1.00 20.00 \nATOM   2581 CA   LYS A 161      38.960  11.110  39.610  1.00 20.00 \nATOM   2582 HA   LYS A 161      39.170  11.380  40.640  1.00 20.00 \nATOM   2583 CB   LYS A 161      38.010   9.960  39.650  1.00 20.00 \nATOM   2584 HB2  LYS A 161      36.990  10.150  39.300  1.00 20.00 \nATOM   2585 HB3  LYS A 161      38.370   9.410  38.780  1.00 20.00 \nATOM   2586 CG   LYS A 161      38.160   9.110  40.920  1.00 20.00 \nATOM   2587 HG2  LYS A 161      39.230   8.950  41.080  1.00 20.00 \nATOM   2588 HG3  LYS A 161      37.620   9.670  41.680  1.00 20.00 \nATOM   2589 CD   LYS A 161      37.430   7.750  40.870  1.00 20.00 \nATOM   2590 HD2  LYS A 161      37.260   7.420  41.890  1.00 20.00 \nATOM   2591 HD3  LYS A 161      36.500   7.880  40.320  1.00 20.00 \nATOM   2592 CE   LYS A 161      38.210   6.670  40.120  1.00 20.00 \nATOM   2593 HE2  LYS A 161      38.120   6.910  39.060  1.00 20.00 \nATOM   2594 HE3  LYS A 161      39.260   6.610  40.400  1.00 20.00 \nATOM   2595 NZ   LYS A 161      37.610   5.310  40.350  1.00 20.00 \nATOM   2596 HZ1  LYS A 161      37.390   5.080  41.310  1.00 20.00 \nATOM   2597 HZ2  LYS A 161      36.780   5.240  39.780  1.00 20.00 \nATOM   2598 HZ3  LYS A 161      38.210   4.570  40.010  1.00 20.00 \nATOM   2599 C    LYS A 161      40.380  10.640  39.060  1.00 20.00 \nATOM   2600 O    LYS A 161      41.270  10.280  39.830  1.00 20.00 \nATOM   2601 N    ASN A 162      40.670  10.730  37.730  1.00 20.00 \nATOM   2602 H    ASN A 162      39.900  11.120  37.210  1.00 20.00 \nATOM   2603 CA   ASN A 162      41.770  10.100  37.120  1.00 20.00 \nATOM   2604 HA   ASN A 162      42.370   9.560  37.850  1.00 20.00 \nATOM   2605 CB   ASN A 162      41.320   9.150  36.020  1.00 20.00 \nATOM   2606 HB2  ASN A 162      40.530   9.640  35.460  1.00 20.00 \nATOM   2607 HB3  ASN A 162      42.210   8.900  35.450  1.00 20.00 \nATOM   2608 CG   ASN A 162      40.690   7.870  36.740  1.00 20.00 \nATOM   2609 OD1  ASN A 162      39.540   7.890  37.200  1.00 20.00 \nATOM   2610 ND2  ASN A 162      41.480   6.830  37.000  1.00 20.00 \nATOM   2611 HD21 ASN A 162      41.080   6.200  37.690  1.00 20.00 \nATOM   2612 HD22 ASN A 162      42.470   6.870  36.820  1.00 20.00 \nATOM   2613 C    ASN A 162      42.670  11.260  36.640  1.00 20.00 \nATOM   2614 O    ASN A 162      42.910  11.420  35.410  1.00 20.00 \nATOM   2615 N    LEU A 163      43.180  12.160  37.520  1.00 20.00 \nATOM   2616 H    LEU A 163      42.970  12.020  38.500  1.00 20.00 \nATOM   2617 CA   LEU A 163      44.140  13.330  37.210  1.00 20.00 \nATOM   2618 HA   LEU A 163      43.680  13.770  36.320  1.00 20.00 \nATOM   2619 CB   LEU A 163      43.960  14.390  38.330  1.00 20.00 \nATOM   2620 HB2  LEU A 163      44.310  14.050  39.300  1.00 20.00 \nATOM   2621 HB3  LEU A 163      44.620  15.220  38.070  1.00 20.00 \nATOM   2622 CG   LEU A 163      42.550  15.060  38.470  1.00 20.00 \nATOM   2623 HG   LEU A 163      41.900  14.240  38.780  1.00 20.00 \nATOM   2624 CD1  LEU A 163      42.560  16.170  39.480  1.00 20.00 \nATOM   2625 HD11 LEU A 163      43.190  15.790  40.280  1.00 20.00 \nATOM   2626 HD12 LEU A 163      43.000  17.070  39.050  1.00 20.00 \nATOM   2627 HD13 LEU A 163      41.540  16.320  39.850  1.00 20.00 \nATOM   2628 CD2  LEU A 163      42.020  15.470  37.090  1.00 20.00 \nATOM   2629 HD21 LEU A 163      41.780  14.570  36.520  1.00 20.00 \nATOM   2630 HD22 LEU A 163      41.130  16.070  37.270  1.00 20.00 \nATOM   2631 HD23 LEU A 163      42.850  15.980  36.600  1.00 20.00 \nATOM   2632 C    LEU A 163      45.610  12.910  36.910  1.00 20.00 \nATOM   2633 O    LEU A 163      46.230  12.110  37.680  1.00 20.00 \nATOM   2634 OXT  LEU A 163      46.200  13.290  35.840  1.00 20.00 \nTER    2635      LEU A 163 \nCONECT    1    2    3    4    5\nCONECT    5    6    7   18\nCONECT    7    8    9   10\nCONECT   10   11   12   13\nCONECT   13   14\nCONECT   14   15   16   17\nCONECT   18   19   20\nCONECT   20   21   22\nCONECT   22   23   24   32\nCONECT   24   25   26   27\nCONECT   27   28   29\nCONECT   29   30   31\nCONECT   32   33   34\nCONECT   34   35   36\nCONECT   36   37   38   51\nCONECT   38   39   40   44\nCONECT   40   41   42   43\nCONECT   44   45   46   47\nCONECT   47   48   49   50\nCONECT   51   52   53\nCONECT   53   54   55\nCONECT   55   56   57   71\nCONECT   57   58   59   60\nCONECT   60   61   69\nCONECT   61   62   63\nCONECT   63   64   65\nCONECT   65   66   67\nCONECT   67   68   69\nCONECT   69   70\nCONECT   71   72   73\nCONECT   73   74   75\nCONECT   75   76   77   86\nCONECT   77   78   79   80\nCONECT   80   81   82   83\nCONECT   83   84   85\nCONECT   86   87   88\nCONECT   88   89   90\nCONECT   90   91   92  103\nCONECT   92   93   94   95\nCONECT   95   96   97   98\nCONECT   98   99\nCONECT   99  100  101  102\nCONECT  103  104  105\nCONECT  105  106  107\nCONECT  107  108  109  122\nCONECT  109  110  111  112\nCONECT  112  113  114  118\nCONECT  114  115  116  117\nCONECT  118  119  120  121\nCONECT  122  123  124\nCONECT  124  125  126\nCONECT  126  127  128  146\nCONECT  128  129  130  131\nCONECT  131  132  133  134\nCONECT  134  135  136  137\nCONECT  137  138  139\nCONECT  139  140  143\nCONECT  140  141  142\nCONECT  143  144  145\nCONECT  146  147  148\nCONECT  148  149  150\nCONECT  150  151  152  165\nCONECT  152  153  154  158\nCONECT  154  155  156  157\nCONECT  158  159  160  161\nCONECT  161  162  163  164\nCONECT  165  166  167\nCONECT  167  168  169\nCONECT  169  170  171  177\nCONECT  171  172  173  174\nCONECT  174  175  176\nCONECT  177  178  179\nCONECT  179  180  181\nCONECT  181  182  183  192\nCONECT  183  184  185  186\nCONECT  186  187  188  189\nCONECT  189  190  191\nCONECT  192  193  194\nCONECT  194  195  196\nCONECT  196  197  198  199\nCONECT  199  200  201\nCONECT  201  202  203\nCONECT  203  204  205  218\nCONECT  205  206  207  208\nCONECT  208  209  210  214\nCONECT  210  211  212  213\nCONECT  214  215  216  217\nCONECT  218  219  220\nCONECT  220  221  222\nCONECT  222  223  224  242\nCONECT  224  225  226  227\nCONECT  227  228  229  230\nCONECT  230  231  232  233\nCONECT  233  234  235\nCONECT  235  236  239\nCONECT  236  237  238\nCONECT  239  240  241\nCONECT  242  243  244\nCONECT  244  245  246\nCONECT  246  247  248  261\nCONECT  248  249  250  251\nCONECT  251  252  253  257\nCONECT  253  254  255  256\nCONECT  257  258  259  260\nCONECT  261  262  263\nCONECT  263  264  265\nCONECT  265  266  267  283\nCONECT  267  268  269  270\nCONECT  270  271  272  273\nCONECT  273  274  275  276\nCONECT  276  277  278  279\nCONECT  279  280  281  282\nCONECT  283  284  285\nCONECT  285  286  287\nCONECT  287  288  289  302\nCONECT  289  290  291  295\nCONECT  291  292  293  294\nCONECT  295  296  297  298\nCONECT  298  299  300  301\nCONECT  302  303  304\nCONECT  304  305  306\nCONECT  306  307  308  323\nCONECT  308  309  310  311\nCONECT  311  312  321\nCONECT  312  313  314\nCONECT  314  315  316\nCONECT  316  317  319\nCONECT  317  318\nCONECT  319  320  321\nCONECT  321  322\nCONECT  323  324  325\nCONECT  325  326  327\nCONECT  327  328  329  345\nCONECT  329  330  331  332\nCONECT  332  333  334  335\nCONECT  335  336  337  338\nCONECT  338  339  340  341\nCONECT  341  342  343  344\nCONECT  345  346  347\nCONECT  347  348  349\nCONECT  349  350  351  357\nCONECT  351  352  353  354\nCONECT  354  355  356\nCONECT  357  358  359\nCONECT  359  360  361\nCONECT  361  362  363  371\nCONECT  363  364  365  369\nCONECT  365  366  367  368\nCONECT  369  370\nCONECT  371  372  373\nCONECT  373  374  375\nCONECT  375  376  377  386\nCONECT  377  378  379  380\nCONECT  380  381  382  383\nCONECT  383  384  385\nCONECT  386  387  388\nCONECT  388  389  390\nCONECT  390  391  392  393\nCONECT  393  394  395\nCONECT  395  396  397\nCONECT  397  398  399  414\nCONECT  399  400  401  402\nCONECT  402  403  412\nCONECT  403  404  405\nCONECT  405  406  407\nCONECT  407  408  410\nCONECT  408  409\nCONECT  410  411  412\nCONECT  412  413\nCONECT  414  415  416\nCONECT  416  417  418\nCONECT  418  419  420  435\nCONECT  420  421  422  423\nCONECT  423  424  433\nCONECT  424  425  426\nCONECT  426  427  428\nCONECT  428  429  431\nCONECT  429  430\nCONECT  431  432  433\nCONECT  433  434\nCONECT  435  436  437\nCONECT  437  438  439\nCONECT  439  440  441  449\nCONECT  441  442  443  447\nCONECT  443  444  445  446\nCONECT  447  448\nCONECT  449  450  451\nCONECT  451  452  453\nCONECT  453  454  455  468\nCONECT  455  456  457  461\nCONECT  457  458  459  460\nCONECT  461  462  463  464\nCONECT  464  465  466  467\nCONECT  468  469  470\nCONECT  470  471  472\nCONECT  472  473  474  475\nCONECT  475  476  477\nCONECT  477  478  479\nCONECT  479  480  481  494\nCONECT  481  482  483  487\nCONECT  483  484  485  486\nCONECT  487  488  489  490\nCONECT  490  491  492  493\nCONECT  494  495  496\nCONECT  496  497  498\nCONECT  498  499  500  501\nCONECT  501  502  503\nCONECT  503  504  505\nCONECT  505  506  507  518\nCONECT  507  508  509  510\nCONECT  510  511  516\nCONECT  511  512\nCONECT  512  513  514\nCONECT  514  515  516\nCONECT  516  517\nCONECT  518  519  520\nCONECT  520  521  522\nCONECT  522  523  524  537\nCONECT  524  525  526  527\nCONECT  527  528  529  533\nCONECT  529  530  531  532\nCONECT  533  534  535  536\nCONECT  537  538  539\nCONECT  539  540  541\nCONECT  541  542  543  556\nCONECT  543  544  545  546\nCONECT  546  547  548  552\nCONECT  548  549  550  551\nCONECT  552  553  554  555\nCONECT  556  557  558\nCONECT  558  559  560\nCONECT  560  561  562  570\nCONECT  562  563  564  568\nCONECT  564  565  566  567\nCONECT  568  569\nCONECT  570  571  572\nCONECT  572  573  574\nCONECT  574  575  576  592\nCONECT  576  577  578  579\nCONECT  579  580  581  582\nCONECT  582  583  584  585\nCONECT  585  586  587  588\nCONECT  588  589  590  591\nCONECT  592  593  594\nCONECT  594  595  596\nCONECT  596  597  598  603\nCONECT  598  599  600  601\nCONECT  601  602\nCONECT  603  604  605\nCONECT  605  606  615\nCONECT  606  607  608  609\nCONECT  609  610  611  612\nCONECT  612  613  614  615\nCONECT  615  616  617\nCONECT  617  618  619\nCONECT  619  620  621\nCONECT  621  622  623  628\nCONECT  623  624  625  626\nCONECT  626  627\nCONECT  628  629  630\nCONECT  630  631  632\nCONECT  632  633  634  647\nCONECT  634  635  636  637\nCONECT  637  638  639  643\nCONECT  639  640  641  642\nCONECT  643  644  645  646\nCONECT  647  648  649\nCONECT  649  650  651\nCONECT  651  652  653  661\nCONECT  653  654  655  656\nCONECT  656  657  658\nCONECT  658  659  660\nCONECT  661  662  663\nCONECT  663  664  665\nCONECT  665  666  667  671\nCONECT  667  668  669  670\nCONECT  671  672  673\nCONECT  673  674  675\nCONECT  675  676  677  681\nCONECT  677  678  679  680\nCONECT  681  682  683\nCONECT  683  684  685\nCONECT  685  686  687  703\nCONECT  687  688  689  690\nCONECT  690  691  692  693\nCONECT  693  694  695  696\nCONECT  696  697  698  699\nCONECT  699  700  701  702\nCONECT  703  704  705\nCONECT  705  706  707\nCONECT  707  708  709  714\nCONECT  709  710  711  712\nCONECT  712  713\nCONECT  714  715  716\nCONECT  716  717  718\nCONECT  718  719  720  729\nCONECT  720  721  722  723\nCONECT  723  724  725  726\nCONECT  726  727  728\nCONECT  729  730  731\nCONECT  731  732  733\nCONECT  733  734  735  748\nCONECT  735  736  737  738\nCONECT  738  739  740  744\nCONECT  740  741  742  743\nCONECT  744  745  746  747\nCONECT  748  749  750\nCONECT  750  751  752\nCONECT  752  753  754  760\nCONECT  754  755  756  757\nCONECT  757  758  759\nCONECT  760  761  762\nCONECT  762  763  764\nCONECT  764  765  766  782\nCONECT  766  767  768  769\nCONECT  769  770  771  772\nCONECT  772  773  774  775\nCONECT  775  776  777  778\nCONECT  778  779  780  781\nCONECT  782  783  784\nCONECT  784  785  786\nCONECT  786  787  788  792\nCONECT  788  789  790  791\nCONECT  792  793  794\nCONECT  794  795  796\nCONECT  796  797  798  811\nCONECT  798  799  800  804\nCONECT  800  801  802  803\nCONECT  804  805  806  807\nCONECT  807  808  809  810\nCONECT  811  812  813\nCONECT  813  814  815\nCONECT  815  816  817  818\nCONECT  818  819  820\nCONECT  820  821  822\nCONECT  822  823  824  842\nCONECT  824  825  826  827\nCONECT  827  828  829  830\nCONECT  830  831  832  833\nCONECT  833  834  835\nCONECT  835  836  839\nCONECT  836  837  838\nCONECT  839  840  841\nCONECT  842  843  844\nCONECT  844  845  846\nCONECT  846  847  848  856\nCONECT  848  849  850  851\nCONECT  851  852  853\nCONECT  853  854  855\nCONECT  856  857  858\nCONECT  858  859  860\nCONECT  860  861  862  867\nCONECT  862  863  864  865\nCONECT  865  866\nCONECT  867  868  869\nCONECT  869  870  871\nCONECT  871  872  873  881\nCONECT  873  874  875  876\nCONECT  876  877  878\nCONECT  878  879  880\nCONECT  881  882  883\nCONECT  883  884  885\nCONECT  885  886  887  888\nCONECT  888  889  890\nCONECT  890  891  892\nCONECT  892  893  894  904\nCONECT  894  895  896  900\nCONECT  896  897  898  899\nCONECT  900  901  902  903\nCONECT  904  905  906\nCONECT  906  907  908\nCONECT  908  909  910  923\nCONECT  910  911  912  916\nCONECT  912  913  914  915\nCONECT  916  917  918  919\nCONECT  919  920  921  922\nCONECT  923  924  925\nCONECT  925  926  927\nCONECT  927  928  929  937\nCONECT  929  930  931  935\nCONECT  931  932  933  934\nCONECT  935  936\nCONECT  937  938  939\nCONECT  939  940  941\nCONECT  941  942  943  959\nCONECT  943  944  945  946\nCONECT  946  947  948  949\nCONECT  949  950  951  952\nCONECT  952  953  954  955\nCONECT  955  956  957  958\nCONECT  959  960  961\nCONECT  961  962  963\nCONECT  963  964  965  971\nCONECT  965  966  967  968\nCONECT  968  969  970\nCONECT  971  972  973\nCONECT  973  974  975\nCONECT  975  976  977  986\nCONECT  977  978  979  980\nCONECT  980  981  982  983\nCONECT  983  984  985\nCONECT  986  987  988\nCONECT  988  989  990\nCONECT  990  991  992  996\nCONECT  992  993  994  995\nCONECT  996  997  998\nCONECT  998  999 1000\nCONECT 1000 1001 1002 1011\nCONECT 1002 1003 1004 1005\nCONECT 1005 1006 1007 1008\nCONECT 1008 1009 1010\nCONECT 1011 1012 1013\nCONECT 1013 1014 1015\nCONECT 1015 1016 1017 1033\nCONECT 1017 1018 1019 1020\nCONECT 1020 1021 1022 1023\nCONECT 1023 1024 1025 1026\nCONECT 1026 1027 1028 1029\nCONECT 1029 1030 1031 1032\nCONECT 1033 1034 1035\nCONECT 1035 1036 1037\nCONECT 1037 1038 1039 1052\nCONECT 1039 1040 1041 1042\nCONECT 1042 1043 1044 1048\nCONECT 1044 1045 1046 1047\nCONECT 1048 1049 1050 1051\nCONECT 1052 1053 1054\nCONECT 1054 1055 1056\nCONECT 1056 1057 1058 1072\nCONECT 1058 1059 1060 1061\nCONECT 1061 1062 1070\nCONECT 1062 1063 1064\nCONECT 1064 1065 1066\nCONECT 1066 1067 1068\nCONECT 1068 1069 1070\nCONECT 1070 1071\nCONECT 1072 1073 1074\nCONECT 1074 1075 1076\nCONECT 1076 1077 1078 1086\nCONECT 1078 1079 1080 1081\nCONECT 1081 1082 1083\nCONECT 1083 1084 1085\nCONECT 1086 1087 1088\nCONECT 1088 1089 1090\nCONECT 1090 1091 1092 1103\nCONECT 1092 1093 1094 1095\nCONECT 1095 1096 1097 1098\nCONECT 1098 1099 1100\nCONECT 1100 1101 1102\nCONECT 1103 1104 1105\nCONECT 1105 1106 1107\nCONECT 1107 1108 1109 1115\nCONECT 1109 1110 1111 1112\nCONECT 1112 1113 1114\nCONECT 1115 1116 1117\nCONECT 1117 1118 1119\nCONECT 1119 1120 1121 1131\nCONECT 1121 1122 1123 1127\nCONECT 1123 1124 1125 1126\nCONECT 1127 1128 1129 1130\nCONECT 1131 1132 1133\nCONECT 1133 1134 1135\nCONECT 1135 1136 1137 1143\nCONECT 1137 1138 1139 1140\nCONECT 1140 1141 1142\nCONECT 1143 1144 1145\nCONECT 1145 1146 1147\nCONECT 1147 1148 1149 1153\nCONECT 1149 1150 1151 1152\nCONECT 1153 1154 1155\nCONECT 1155 1156 1157\nCONECT 1157 1158 1159 1163\nCONECT 1159 1160 1161 1162\nCONECT 1163 1164 1165\nCONECT 1165 1166 1167\nCONECT 1167 1168 1169 1179\nCONECT 1169 1170 1171 1175\nCONECT 1171 1172 1173 1174\nCONECT 1175 1176 1177 1178\nCONECT 1179 1180 1181\nCONECT 1181 1182 1183\nCONECT 1183 1184 1185 1203\nCONECT 1185 1186 1187 1188\nCONECT 1188 1189 1190 1191\nCONECT 1191 1192 1193 1194\nCONECT 1194 1195 1196\nCONECT 1196 1197 1200\nCONECT 1197 1198 1199\nCONECT 1200 1201 1202\nCONECT 1203 1204 1205\nCONECT 1205 1206 1207\nCONECT 1207 1208 1209 1210\nCONECT 1210 1211 1212\nCONECT 1212 1213 1214\nCONECT 1214 1215 1216 1229\nCONECT 1216 1217 1218 1222\nCONECT 1218 1219 1220 1221\nCONECT 1222 1223 1224 1225\nCONECT 1225 1226 1227 1228\nCONECT 1229 1230 1231\nCONECT 1231 1232 1233\nCONECT 1233 1234 1235 1248\nCONECT 1235 1236 1237 1238\nCONECT 1238 1239 1240 1244\nCONECT 1240 1241 1242 1243\nCONECT 1244 1245 1246 1247\nCONECT 1248 1249 1250\nCONECT 1250 1251 1252\nCONECT 1252 1253 1254 1272\nCONECT 1254 1255 1256 1257\nCONECT 1257 1258 1259 1260\nCONECT 1260 1261 1262 1263\nCONECT 1263 1264 1265\nCONECT 1265 1266 1269\nCONECT 1266 1267 1268\nCONECT 1269 1270 1271\nCONECT 1272 1273 1274\nCONECT 1274 1275 1276\nCONECT 1276 1277 1278 1286\nCONECT 1278 1279 1280 1281\nCONECT 1281 1282 1283\nCONECT 1283 1284 1285\nCONECT 1286 1287 1288\nCONECT 1288 1289 1290\nCONECT 1290 1291 1292 1296\nCONECT 1292 1293 1294 1295\nCONECT 1296 1297 1298\nCONECT 1298 1299 1300\nCONECT 1300 1301 1302 1318\nCONECT 1302 1303 1304 1305\nCONECT 1305 1306 1307 1308\nCONECT 1308 1309 1310 1311\nCONECT 1311 1312 1313 1314\nCONECT 1314 1315 1316 1317\nCONECT 1318 1319 1320\nCONECT 1320 1321 1322\nCONECT 1322 1323 1324 1337\nCONECT 1324 1325 1326 1327\nCONECT 1327 1328 1329 1333\nCONECT 1329 1330 1331 1332\nCONECT 1333 1334 1335 1336\nCONECT 1337 1338 1339\nCONECT 1339 1340 1341\nCONECT 1341 1342 1343 1359\nCONECT 1343 1344 1345 1346\nCONECT 1346 1347 1348 1349\nCONECT 1349 1350 1351 1352\nCONECT 1352 1353 1354 1355\nCONECT 1355 1356 1357 1358\nCONECT 1359 1360 1361\nCONECT 1361 1362 1371\nCONECT 1362 1363 1364 1365\nCONECT 1365 1366 1367 1368\nCONECT 1368 1369 1370 1371\nCONECT 1371 1372 1373\nCONECT 1373 1374 1375\nCONECT 1375 1376 1377\nCONECT 1377 1378 1379 1389\nCONECT 1379 1380 1381 1385\nCONECT 1381 1382 1383 1384\nCONECT 1385 1386 1387 1388\nCONECT 1389 1390 1391\nCONECT 1391 1392 1393\nCONECT 1393 1394 1395 1410\nCONECT 1395 1396 1397 1398\nCONECT 1398 1399 1408\nCONECT 1399 1400 1401\nCONECT 1401 1402 1403\nCONECT 1403 1404 1406\nCONECT 1404 1405\nCONECT 1406 1407 1408\nCONECT 1408 1409\nCONECT 1410 1411 1412\nCONECT 1412 1413 1414\nCONECT 1414 1415 1416 1422\nCONECT 1416 1417 1418 1419\nCONECT 1419 1420 1421\nCONECT 1422 1423 1424\nCONECT 1424 1425 1426\nCONECT 1426 1427 1428 1433\nCONECT 1428 1429 1430 1431\nCONECT 1431 1432\nCONECT 1433 1434 1435\nCONECT 1435 1436 1437\nCONECT 1437 1438 1439 1452\nCONECT 1439 1440 1441 1442\nCONECT 1442 1443 1444 1448\nCONECT 1444 1445 1446 1447\nCONECT 1448 1449 1450 1451\nCONECT 1452 1453 1454\nCONECT 1454 1455 1456\nCONECT 1456 1457 1458 1464\nCONECT 1458 1459 1460 1461\nCONECT 1461 1462 1463\nCONECT 1464 1465 1466\nCONECT 1466 1467 1468\nCONECT 1468 1469 1470 1474\nCONECT 1470 1471 1472 1473\nCONECT 1474 1475 1476\nCONECT 1476 1477 1478\nCONECT 1478 1479 1480 1490\nCONECT 1480 1481 1482 1486\nCONECT 1482 1483 1484 1485\nCONECT 1486 1487 1488 1489\nCONECT 1490 1491 1492\nCONECT 1492 1493 1494\nCONECT 1494 1495 1496 1514\nCONECT 1496 1497 1498 1499\nCONECT 1499 1500 1501 1502\nCONECT 1502 1503 1504 1505\nCONECT 1505 1506 1507\nCONECT 1507 1508 1511\nCONECT 1508 1509 1510\nCONECT 1511 1512 1513\nCONECT 1514 1515 1516\nCONECT 1516 1517 1518\nCONECT 1518 1519 1520 1538\nCONECT 1520 1521 1522 1523\nCONECT 1523 1524 1525 1526\nCONECT 1526 1527 1528 1529\nCONECT 1529 1530 1531\nCONECT 1531 1532 1535\nCONECT 1532 1533 1534\nCONECT 1535 1536 1537\nCONECT 1538 1539 1540\nCONECT 1540 1541 1542\nCONECT 1542 1543 1544 1549\nCONECT 1544 1545 1546 1547\nCONECT 1547 1548\nCONECT 1549 1550 1551\nCONECT 1551 1552 1553\nCONECT 1553 1554 1555 1559\nCONECT 1555 1556 1557 1558\nCONECT 1559 1560 1561\nCONECT 1561 1562 1563\nCONECT 1563 1564 1565 1569\nCONECT 1565 1566 1567 1568\nCONECT 1569 1570 1571\nCONECT 1571 1572 1573\nCONECT 1573 1574 1575 1588\nCONECT 1575 1576 1577 1581\nCONECT 1577 1578 1579 1580\nCONECT 1581 1582 1583 1584\nCONECT 1584 1585 1586 1587\nCONECT 1588 1589 1590\nCONECT 1590 1591 1592\nCONECT 1592 1593 1594 1602\nCONECT 1594 1595 1596 1597\nCONECT 1597 1598 1599\nCONECT 1599 1600 1601\nCONECT 1602 1603 1604\nCONECT 1604 1605 1606\nCONECT 1606 1607 1608 1619\nCONECT 1608 1609 1610 1611\nCONECT 1611 1612 1613 1614\nCONECT 1614 1615\nCONECT 1615 1616 1617 1618\nCONECT 1619 1620 1621\nCONECT 1621 1622 1623\nCONECT 1623 1624 1625 1635\nCONECT 1625 1626 1627 1631\nCONECT 1627 1628 1629 1630\nCONECT 1631 1632 1633 1634\nCONECT 1635 1636 1637\nCONECT 1637 1638 1639\nCONECT 1639 1640 1641 1655\nCONECT 1641 1642 1643 1644\nCONECT 1644 1645 1653\nCONECT 1645 1646 1647\nCONECT 1647 1648 1649\nCONECT 1649 1650 1651\nCONECT 1651 1652 1653\nCONECT 1653 1654\nCONECT 1655 1656 1657\nCONECT 1657 1658 1659\nCONECT 1659 1660 1661 1672\nCONECT 1661 1662 1663 1664\nCONECT 1664 1665 1666 1667\nCONECT 1667 1668 1669\nCONECT 1669 1670 1671\nCONECT 1672 1673 1674\nCONECT 1674 1675 1676\nCONECT 1676 1677 1678 1689\nCONECT 1678 1679 1680 1681\nCONECT 1681 1682 1683 1684\nCONECT 1684 1685\nCONECT 1685 1686 1687 1688\nCONECT 1689 1690 1691\nCONECT 1691 1692 1693\nCONECT 1693 1694 1695 1696\nCONECT 1696 1697 1698\nCONECT 1698 1699 1700\nCONECT 1700 1701 1702 1711\nCONECT 1702 1703 1704 1705\nCONECT 1705 1706 1707 1708\nCONECT 1708 1709 1710\nCONECT 1711 1712 1713\nCONECT 1713 1714 1715\nCONECT 1715 1716 1717 1725\nCONECT 1717 1718 1719 1723\nCONECT 1719 1720 1721 1722\nCONECT 1723 1724\nCONECT 1725 1726 1727\nCONECT 1727 1728 1729\nCONECT 1729 1730 1731 1732\nCONECT 1732 1733 1734\nCONECT 1734 1735 1736\nCONECT 1736 1737 1738 1748\nCONECT 1738 1739 1740 1744\nCONECT 1740 1741 1742 1743\nCONECT 1744 1745 1746 1747\nCONECT 1748 1749 1750\nCONECT 1750 1751 1752\nCONECT 1752 1753 1754 1758\nCONECT 1754 1755 1756 1757\nCONECT 1758 1759 1760\nCONECT 1760 1761 1762\nCONECT 1762 1763 1764 1765\nCONECT 1765 1766 1767\nCONECT 1767 1768 1769\nCONECT 1769 1770 1771 1785\nCONECT 1771 1772 1773 1774\nCONECT 1774 1775 1783\nCONECT 1775 1776 1777\nCONECT 1777 1778 1779\nCONECT 1779 1780 1781\nCONECT 1781 1782 1783\nCONECT 1783 1784\nCONECT 1785 1786 1787\nCONECT 1787 1788 1789\nCONECT 1789 1790 1791 1799\nCONECT 1791 1792 1793 1797\nCONECT 1793 1794 1795 1796\nCONECT 1797 1798\nCONECT 1799 1800 1801\nCONECT 1801 1802 1803\nCONECT 1803 1804 1805 1813\nCONECT 1805 1806 1807 1808\nCONECT 1808 1809 1810\nCONECT 1810 1811 1812\nCONECT 1813 1814 1815\nCONECT 1815 1816 1817\nCONECT 1817 1818 1819 1824\nCONECT 1819 1820 1821 1822\nCONECT 1822 1823\nCONECT 1824 1825 1826\nCONECT 1826 1827 1828\nCONECT 1828 1829 1830 1843\nCONECT 1830 1831 1832 1833\nCONECT 1833 1834 1835 1839\nCONECT 1835 1836 1837 1838\nCONECT 1839 1840 1841 1842\nCONECT 1843 1844 1845\nCONECT 1845 1846 1847\nCONECT 1847 1848 1849 1867\nCONECT 1849 1850 1851 1852\nCONECT 1852 1853 1854 1855\nCONECT 1855 1856 1857 1858\nCONECT 1858 1859 1860\nCONECT 1860 1861 1864\nCONECT 1861 1862 1863\nCONECT 1864 1865 1866\nCONECT 1867 1868 1869\nCONECT 1869 1870 1871\nCONECT 1871 1872 1873 1884\nCONECT 1873 1874 1875 1876\nCONECT 1876 1877 1878 1879\nCONECT 1879 1880\nCONECT 1880 1881 1882 1883\nCONECT 1884 1885 1886\nCONECT 1886 1887 1888\nCONECT 1888 1889 1890 1903\nCONECT 1890 1891 1892 1893\nCONECT 1893 1894 1895 1899\nCONECT 1895 1896 1897 1898\nCONECT 1899 1900 1901 1902\nCONECT 1903 1904 1905\nCONECT 1905 1906 1907\nCONECT 1907 1908 1909 1920\nCONECT 1909 1910 1911 1912\nCONECT 1912 1913 1914 1915\nCONECT 1915 1916 1917\nCONECT 1917 1918 1919\nCONECT 1920 1921 1922\nCONECT 1922 1923 1924\nCONECT 1924 1925 1926 1937\nCONECT 1926 1927 1928 1929\nCONECT 1929 1930 1931 1932\nCONECT 1932 1933 1934\nCONECT 1934 1935 1936\nCONECT 1937 1938 1939\nCONECT 1939 1940 1941\nCONECT 1941 1942 1943 1959\nCONECT 1943 1944 1945 1946\nCONECT 1946 1947 1948 1949\nCONECT 1949 1950 1951 1952\nCONECT 1952 1953 1954 1955\nCONECT 1955 1956 1957 1958\nCONECT 1959 1960 1961\nCONECT 1961 1962 1963\nCONECT 1963 1964 1965 1983\nCONECT 1965 1966 1967 1968\nCONECT 1968 1969 1970 1971\nCONECT 1971 1972 1973 1974\nCONECT 1974 1975 1976\nCONECT 1976 1977 1980\nCONECT 1977 1978 1979\nCONECT 1980 1981 1982\nCONECT 1983 1984 1985\nCONECT 1985 1986 1987\nCONECT 1987 1988 1989 2007\nCONECT 1989 1990 1991 1992\nCONECT 1992 1993 2006\nCONECT 1993 1994 1995\nCONECT 1995 1996 1997\nCONECT 1997 1998 2006\nCONECT 1998 1999 2000\nCONECT 2000 2001 2002\nCONECT 2002 2003 2004\nCONECT 2004 2005 2006\nCONECT 2007 2008 2009\nCONECT 2009 2010 2011\nCONECT 2011 2012 2013 2019\nCONECT 2013 2014 2015 2016\nCONECT 2016 2017 2018\nCONECT 2019 2020 2021\nCONECT 2021 2022 2023\nCONECT 2023 2024 2025 2034\nCONECT 2025 2026 2027 2028\nCONECT 2028 2029 2030 2031\nCONECT 2031 2032 2033\nCONECT 2034 2035 2036\nCONECT 2036 2037 2038\nCONECT 2038 2039 2040 2044\nCONECT 2040 2041 2042 2043\nCONECT 2044 2045 2046\nCONECT 2046 2047 2048\nCONECT 2048 2049 2050 2054\nCONECT 2050 2051 2052 2053\nCONECT 2054 2055 2056\nCONECT 2056 2057 2058\nCONECT 2058 2059 2060 2070\nCONECT 2060 2061 2062 2066\nCONECT 2062 2063 2064 2065\nCONECT 2066 2067 2068 2069\nCONECT 2070 2071 2072\nCONECT 2072 2073 2074\nCONECT 2074 2075 2076 2084\nCONECT 2076 2077 2078 2079\nCONECT 2079 2080 2081\nCONECT 2081 2082 2083\nCONECT 2084 2085 2086\nCONECT 2086 2087 2088\nCONECT 2088 2089 2090 2103\nCONECT 2090 2091 2092 2093\nCONECT 2093 2094 2095 2099\nCONECT 2095 2096 2097 2098\nCONECT 2099 2100 2101 2102\nCONECT 2103 2104 2105\nCONECT 2105 2106 2107\nCONECT 2107 2108 2109 2113\nCONECT 2109 2110 2111 2112\nCONECT 2113 2114 2115\nCONECT 2115 2116 2117\nCONECT 2117 2118 2119 2135\nCONECT 2119 2120 2121 2122\nCONECT 2122 2123 2124 2125\nCONECT 2125 2126 2127 2128\nCONECT 2128 2129 2130 2131\nCONECT 2131 2132 2133 2134\nCONECT 2135 2136 2137\nCONECT 2137 2138 2139\nCONECT 2139 2140 2141 2146\nCONECT 2141 2142 2143 2144\nCONECT 2144 2145\nCONECT 2146 2147 2148\nCONECT 2148 2149 2150\nCONECT 2150 2151 2152 2170\nCONECT 2152 2153 2154 2155\nCONECT 2155 2156 2157 2158\nCONECT 2158 2159 2160 2161\nCONECT 2161 2162 2163\nCONECT 2163 2164 2167\nCONECT 2164 2165 2166\nCONECT 2167 2168 2169\nCONECT 2170 2171 2172\nCONECT 2172 2173 2174\nCONECT 2174 2175 2176 2194\nCONECT 2176 2177 2178 2179\nCONECT 2179 2180 2193\nCONECT 2180 2181 2182\nCONECT 2182 2183 2184\nCONECT 2184 2185 2193\nCONECT 2185 2186 2187\nCONECT 2187 2188 2189\nCONECT 2189 2190 2191\nCONECT 2191 2192 2193\nCONECT 2194 2195 2196\nCONECT 2196 2197 2198\nCONECT 2198 2199 2200 2215\nCONECT 2200 2201 2202 2203\nCONECT 2203 2204 2213\nCONECT 2204 2205 2206\nCONECT 2206 2207 2208\nCONECT 2208 2209 2211\nCONECT 2209 2210\nCONECT 2211 2212 2213\nCONECT 2213 2214\nCONECT 2215 2216 2217\nCONECT 2217 2218 2219\nCONECT 2219 2220 2221 2229\nCONECT 2221 2222 2223 2224\nCONECT 2224 2225 2226\nCONECT 2226 2227 2228\nCONECT 2229 2230 2231\nCONECT 2231 2232 2233\nCONECT 2233 2234 2235 2246\nCONECT 2235 2236 2237 2238\nCONECT 2238 2239 2240 2241\nCONECT 2241 2242 2243\nCONECT 2243 2244 2245\nCONECT 2246 2247 2248\nCONECT 2248 2249 2250\nCONECT 2250 2251 2252 2260\nCONECT 2252 2253 2254 2258\nCONECT 2254 2255 2256 2257\nCONECT 2258 2259\nCONECT 2260 2261 2262\nCONECT 2262 2263 2272\nCONECT 2263 2264 2265 2266\nCONECT 2266 2267 2268 2269\nCONECT 2269 2270 2271 2272\nCONECT 2272 2273 2274\nCONECT 2274 2275 2276\nCONECT 2276 2277 2278\nCONECT 2278 2279 2280 2288\nCONECT 2280 2281 2282 2283\nCONECT 2283 2284 2285\nCONECT 2285 2286 2287\nCONECT 2288 2289 2290\nCONECT 2290 2291 2292\nCONECT 2292 2293 2294 2312\nCONECT 2294 2295 2296 2297\nCONECT 2297 2298 2299 2300\nCONECT 2300 2301 2302 2303\nCONECT 2303 2304 2305\nCONECT 2305 2306 2309\nCONECT 2306 2307 2308\nCONECT 2309 2310 2311\nCONECT 2312 2313 2314\nCONECT 2314 2315 2316\nCONECT 2316 2317 2318 2322\nCONECT 2318 2319 2320 2321\nCONECT 2322 2323 2324\nCONECT 2324 2325 2326\nCONECT 2326 2327 2328 2344\nCONECT 2328 2329 2330 2331\nCONECT 2331 2332 2333 2334\nCONECT 2334 2335 2336 2337\nCONECT 2337 2338 2339 2340\nCONECT 2340 2341 2342 2343\nCONECT 2344 2345 2346\nCONECT 2346 2347 2348\nCONECT 2348 2349 2350 2368\nCONECT 2350 2351 2352 2353\nCONECT 2353 2354 2355 2356\nCONECT 2356 2357 2358 2359\nCONECT 2359 2360 2361\nCONECT 2361 2362 2365\nCONECT 2362 2363 2364\nCONECT 2365 2366 2367\nCONECT 2368 2369 2370\nCONECT 2370 2371 2372\nCONECT 2372 2373 2374 2384\nCONECT 2374 2375 2376 2380\nCONECT 2376 2377 2378 2379\nCONECT 2380 2381 2382 2383\nCONECT 2384 2385 2386\nCONECT 2386 2387 2388\nCONECT 2388 2389 2390 2403\nCONECT 2390 2391 2392 2396\nCONECT 2392 2393 2394 2395\nCONECT 2396 2397 2398 2399\nCONECT 2399 2400 2401 2402\nCONECT 2403 2404 2405\nCONECT 2405 2406 2407\nCONECT 2407 2408 2409 2417\nCONECT 2409 2410 2411 2415\nCONECT 2411 2412 2413 2414\nCONECT 2415 2416\nCONECT 2417 2418 2419\nCONECT 2419 2420 2421\nCONECT 2421 2422 2423 2431\nCONECT 2423 2424 2425 2429\nCONECT 2425 2426 2427 2428\nCONECT 2429 2430\nCONECT 2431 2432 2433\nCONECT 2433 2434 2435\nCONECT 2435 2436 2437 2451\nCONECT 2437 2438 2439 2440\nCONECT 2440 2441 2449\nCONECT 2441 2442 2443\nCONECT 2443 2444 2445\nCONECT 2445 2446 2447\nCONECT 2447 2448 2449\nCONECT 2449 2450\nCONECT 2451 2452 2453\nCONECT 2453 2454 2455\nCONECT 2455 2456 2457 2475\nCONECT 2457 2458 2459 2460\nCONECT 2460 2461 2462 2463\nCONECT 2463 2464 2465 2466\nCONECT 2466 2467 2468\nCONECT 2468 2469 2472\nCONECT 2469 2470 2471\nCONECT 2472 2473 2474\nCONECT 2475 2476 2477\nCONECT 2477 2478 2479\nCONECT 2479 2480 2481 2489\nCONECT 2481 2482 2483 2487\nCONECT 2483 2484 2485 2486\nCONECT 2487 2488\nCONECT 2489 2490 2491\nCONECT 2491 2492 2493\nCONECT 2493 2494 2495 2496\nCONECT 2496 2497 2498\nCONECT 2498 2499 2500\nCONECT 2500 2501 2502 2510\nCONECT 2502 2503 2504 2508\nCONECT 2504 2505 2506 2507\nCONECT 2508 2509\nCONECT 2510 2511 2512\nCONECT 2512 2513 2514\nCONECT 2514 2515 2516 2534\nCONECT 2516 2517 2518 2519\nCONECT 2519 2520 2533\nCONECT 2520 2521 2522\nCONECT 2522 2523 2524\nCONECT 2524 2525 2533\nCONECT 2525 2526 2527\nCONECT 2527 2528 2529\nCONECT 2529 2530 2531\nCONECT 2531 2532 2533\nCONECT 2534 2535 2536\nCONECT 2536 2537 2538\nCONECT 2538 2539 2540 2546\nCONECT 2540 2541 2542 2543\nCONECT 2543 2544 2545\nCONECT 2546 2547 2548\nCONECT 2548 2549 2550\nCONECT 2550 2551 2552 2556\nCONECT 2552 2553 2554 2555\nCONECT 2556 2557 2558\nCONECT 2558 2559 2560\nCONECT 2560 2561 2562 2577\nCONECT 2562 2563 2564 2565\nCONECT 2565 2566 2575\nCONECT 2566 2567 2568\nCONECT 2568 2569 2570\nCONECT 2570 2571 2573\nCONECT 2571 2572\nCONECT 2573 2574 2575\nCONECT 2575 2576\nCONECT 2577 2578 2579\nCONECT 2579 2580 2581\nCONECT 2581 2582 2583 2599\nCONECT 2583 2584 2585 2586\nCONECT 2586 2587 2588 2589\nCONECT 2589 2590 2591 2592\nCONECT 2592 2593 2594 2595\nCONECT 2595 2596 2597 2598\nCONECT 2599 2600 2601\nCONECT 2601 2602 2603\nCONECT 2603 2604 2605 2613\nCONECT 2605 2606 2607 2608\nCONECT 2608 2609 2610\nCONECT 2610 2611 2612\nCONECT 2613 2614 2615\nCONECT 2615 2616 2617\nCONECT 2617 2618 2619 2632\nCONECT 2619 2620 2621 2622\nCONECT 2622 2623 2624 2628\nCONECT 2624 2625 2626 2627\nCONECT 2628 2629 2630 2631\nCONECT 2632 2633 2634\n",
           "type": "blob"
          }
         ],
         "kwargs": {
          "defaultRepresentation": true,
          "ext": "pdb",
          "name": "<openff.toolkit.utils.viz._OFFTrajectoryNGLView object at 0x7fc6863aea40>"
         },
         "methodName": "loadFile",
         "reconstruc_color_scheme": false,
         "target": "Stage",
         "type": "call_method"
        }
       ],
       "_ngl_original_stage_parameters": {
        "ambientColor": 14540253,
        "ambientIntensity": 0.2,
        "backgroundColor": "white",
        "cameraEyeSep": 0.3,
        "cameraFov": 40,
        "cameraType": "perspective",
        "clipDist": 10,
        "clipFar": 100,
        "clipNear": 0,
        "fogFar": 100,
        "fogNear": 50,
        "hoverTimeout": 0,
        "impostor": true,
        "lightColor": 14540253,
        "lightIntensity": 1,
        "mousePreset": "default",
        "panSpeed": 1,
        "quality": "medium",
        "rotateSpeed": 2,
        "sampleLevel": 0,
        "tooltip": true,
        "workerDefault": true,
        "zoomSpeed": 1.2
       },
       "_ngl_repr_dict": {
        "0": {
         "0": {
          "params": {
           "aspectRatio": 5,
           "assembly": "default",
           "capped": true,
           "clipCenter": {
            "x": 0,
            "y": 0,
            "z": 0
           },
           "clipNear": 0,
           "clipRadius": 0,
           "colorMode": "hcl",
           "colorReverse": true,
           "colorScale": "spectral",
           "colorScheme": "residueindex",
           "colorValue": 9474192,
           "defaultAssembly": "",
           "depthWrite": true,
           "diffuse": 16777215,
           "diffuseInterior": false,
           "disablePicking": false,
           "flatShaded": false,
           "interiorColor": 2236962,
           "interiorDarkening": 0,
           "lazy": false,
           "matrix": {
            "elements": [
             1,
             0,
             0,
             0,
             0,
             1,
             0,
             0,
             0,
             0,
             1,
             0,
             0,
             0,
             0,
             1
            ]
           },
           "metalness": 0,
           "opacity": 1,
           "quality": "high",
           "radialSegments": 20,
           "radiusData": {},
           "radiusScale": 0.7,
           "radiusSize": 1,
           "radiusType": "sstruc",
           "roughness": 0.4,
           "sele": "",
           "side": "double",
           "smoothSheet": false,
           "subdiv": 6,
           "tension": null,
           "useInteriorColor": true,
           "visible": true,
           "wireframe": false
          },
          "type": "cartoon"
         },
         "1": {
          "params": {
           "aspectRatio": 1,
           "assembly": "default",
           "bondScale": 0.4,
           "clipCenter": {
            "x": 0,
            "y": 0,
            "z": 0
           },
           "clipNear": 0,
           "clipRadius": 0,
           "colorMode": "hcl",
           "colorReverse": true,
           "colorScale": "spectral",
           "colorScheme": "residueindex",
           "colorValue": 9474192,
           "cylinderOnly": false,
           "defaultAssembly": "",
           "depthWrite": true,
           "diffuse": 16777215,
           "diffuseInterior": false,
           "disableImpostor": false,
           "disablePicking": false,
           "flatShaded": false,
           "interiorColor": 2236962,
           "interiorDarkening": 0,
           "lazy": false,
           "lineOnly": false,
           "linewidth": 2,
           "matrix": {
            "elements": [
             1,
             0,
             0,
             0,
             0,
             1,
             0,
             0,
             0,
             0,
             1,
             0,
             0,
             0,
             0,
             1
            ]
           },
           "metalness": 0,
           "opacity": 1,
           "openEnded": true,
           "quality": "high",
           "radialSegments": 20,
           "radiusData": {},
           "radiusScale": 1,
           "radiusSize": 0.3,
           "radiusType": "size",
           "roughness": 0.4,
           "sele": "",
           "side": "double",
           "sphereDetail": 2,
           "useInteriorColor": true,
           "visible": true,
           "wireframe": false
          },
          "type": "base"
         },
         "2": {
          "params": {
           "aspectRatio": 1.5,
           "assembly": "default",
           "bondScale": 0.3,
           "bondSpacing": 0.75,
           "clipCenter": {
            "x": 0,
            "y": 0,
            "z": 0
           },
           "clipNear": 0,
           "clipRadius": 0,
           "colorMode": "hcl",
           "colorReverse": false,
           "colorScale": "",
           "colorScheme": "element",
           "colorValue": 9474192,
           "cylinderOnly": false,
           "defaultAssembly": "",
           "depthWrite": true,
           "diffuse": 16777215,
           "diffuseInterior": false,
           "disableImpostor": false,
           "disablePicking": false,
           "flatShaded": false,
           "interiorColor": 2236962,
           "interiorDarkening": 0,
           "lazy": false,
           "lineOnly": false,
           "linewidth": 2,
           "matrix": {
            "elements": [
             1,
             0,
             0,
             0,
             0,
             1,
             0,
             0,
             0,
             0,
             1,
             0,
             0,
             0,
             0,
             1
            ]
           },
           "metalness": 0,
           "multipleBond": "off",
           "opacity": 1,
           "openEnded": true,
           "quality": "high",
           "radialSegments": 20,
           "radiusData": {},
           "radiusScale": 2,
           "radiusSize": 0.15,
           "radiusType": "size",
           "roughness": 0.4,
           "sele": "ligand",
           "side": "double",
           "sphereDetail": 2,
           "useInteriorColor": true,
           "visible": true,
           "wireframe": false
          },
          "type": "ball+stick"
         }
        }
       },
       "_ngl_serialize": false,
       "_ngl_version": "2.0.0-dev.36",
       "_ngl_view_id": [
        "6AD79D38-80A4-4A52-8BB7-58D37BB4928D"
       ],
       "_player_dict": {},
       "_scene_position": {},
       "_scene_rotation": {},
       "_synced_model_ids": [],
       "_synced_repr_model_ids": [],
       "_view_height": "",
       "_view_width": "",
       "background": "white",
       "frame": 0,
       "gui_style": null,
       "layout": "IPY_MODEL_0771c37338e14f8ea9e6b519c9b065d5",
       "max_frame": 0,
       "n_components": 1,
       "picked": {}
      }
     }
    },
    "version_major": 2,
    "version_minor": 0
   }
  }
 },
 "nbformat": 4,
 "nbformat_minor": 5
}

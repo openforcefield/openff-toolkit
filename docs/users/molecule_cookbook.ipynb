{
 "cells": [
  {
   "cell_type": "markdown",
   "id": "5b311c85",
   "metadata": {},
   "source": [
    "# Cookbook: Every way to make a `Molecule`"
   ]
  },
  {
   "cell_type": "markdown",
   "id": "05bf5732",
   "metadata": {},
   "source": [
    "Every pathway through the OpenFF Toolkit boils down to four steps:\n",
    "\n",
    "1. Using other tools, assemble a graph of a molecule, including all of its atoms, bonds, bond orders, formal charges, and stereochemistry[^rs]\n",
    "2. Use that information to construct a [`Molecule`](openff.toolkit.topology.Molecule)\n",
    "3. Combine a number of `Molecule` objects to construct a [`Topology`](openff.toolkit.topology.Topology)\n",
    "4. Call [`ForceField.create_openmm_system(topology)`](openff.toolkit.typing.engines.smirnoff.ForceField.create_openmm_system) to create an OpenMM [`System`](openmm.openmm.System) (or an [`Interchange`](https://github.com/openforcefield/openff-interchange) for painless conversion to other MD formats)\n",
    "\n",
    "So let's take a look at every way there is to construct a molecule! We'll use zwitterionic L-alanine as an example biomolecule with all the tricky bits - a stereocenter, non-zero formal charges, and bonds of different orders.\n",
    "\n",
    "[^rs]: Note that this stereochemistry must be defined on the *graph* of the molecule. It's not good enough to just co-ordinates with the correct stereochemistry. But if you have the co-ordinates, you can try getting the stereochemistry automatically with `rdkit` or `openeye` --- If you dare!"
   ]
  },
  {
   "cell_type": "code",
   "execution_count": 1,
   "id": "0a3d1e21",
   "metadata": {
    "slideshow": {
     "slide_type": ""
    },
    "tags": [
     "remove-stderr",
     "remove-input",
     "remove-stdout",
     "nbval-ignore-output"
    ]
   },
   "outputs": [],
   "source": [
    "# Workaround for https://github.com/conda-forge/qcfractal-feedstock/issues/43\n",
    "try:\n",
    "    import qcportal  # noqa\n",
    "except ImportError:\n",
    "    pass\n",
    "import sys\n",
    "\n",
    "ipython = get_ipython()  # noqa\n",
    "\n",
    "\n",
    "def hide_traceback(\n",
    "    exc_tuple=None,\n",
    "    filename=None,\n",
    "    tb_offset=None,\n",
    "    exception_only=False,\n",
    "    running_compiled_code=False,\n",
    "):\n",
    "    \"\"\"Hide tracebacks for simpler errors.\"\"\"\n",
    "    etype, value, _ = sys.exc_info()\n",
    "    value.__cause__ = None  # suppress chained exceptions\n",
    "    return ipython._showtraceback(\n",
    "        etype,\n",
    "        value,\n",
    "        ipython.InteractiveTB.get_exception_only(etype, value),\n",
    "    )\n",
    "\n",
    "\n",
    "ipython.showtraceback = hide_traceback\n",
    "\n",
    "# Hide NumPy warnings\n",
    "import warnings\n",
    "\n",
    "warnings.filterwarnings(\n",
    "    \"ignore\",\n",
    "    r\"The value of the smallest subnormal for \",\n",
    ")\n",
    "\n",
    "# Hide QCPortal version warnings\n",
    "import logging\n",
    "\n",
    "qcportal_logger = logging.getLogger(\"PortalClientBase\")\n",
    "\n",
    "\n",
    "class NoParsingFilter(logging.Filter):\n",
    "    def filter(self, record):\n",
    "        return \"This client version is newer\" not in record.getMessage()\n",
    "\n",
    "\n",
    "qcportal_logger.addFilter(NoParsingFilter())"
   ]
  },
  {
   "cell_type": "code",
   "execution_count": 2,
   "id": "213f1264",
   "metadata": {},
   "outputs": [],
   "source": [
    "from openff.toolkit import Molecule, Topology"
   ]
  },
  {
   "cell_type": "markdown",
   "id": "37d692a1",
   "metadata": {},
   "source": [
    "## From SMILES\n",
    "\n",
    "SMILES is the classic way to create a `Molecule`. SMILES is a widely-used compact textual representation of arbitrary molecules. This lets us specify an exact molecule, including stereochemistry and bond orders, very easily --- though they may not be the most human-readable format.\n",
    "\n",
    "The [`Molecule.from_smiles()`](openff.toolkit.topology.Molecule.from_smiles) method is used to create a `Molecule` from a SMILES code.\n",
    "\n",
    "### Implicit hydrogens SMILES"
   ]
  },
  {
   "cell_type": "code",
   "execution_count": 3,
   "id": "71199513",
   "metadata": {
    "slideshow": {
     "slide_type": ""
    },
    "tags": []
   },
   "outputs": [
    {
     "data": {
      "image/svg+xml": [
       "<svg xmlns=\"http://www.w3.org/2000/svg\" xmlns:rdkit=\"http://www.rdkit.org/xml\" xmlns:xlink=\"http://www.w3.org/1999/xlink\" version=\"1.1\" baseProfile=\"full\" xml:space=\"preserve\" width=\"500px\" height=\"300px\" viewBox=\"0 0 500 300\">\n",
       "<!-- END OF HEADER -->\n",
       "<rect style=\"opacity:1.0;fill:#FFFFFF;stroke:none\" width=\"500.0\" height=\"300.0\" x=\"0.0\" y=\"0.0\"> </rect>\n",
       "<path class=\"bond-0 atom-0 atom-1\" d=\"M 268.8,206.3 L 249.2,142.9\" style=\"fill:none;fill-rule:evenodd;stroke:#000000;stroke-width:2.0px;stroke-linecap:butt;stroke-linejoin:miter;stroke-opacity:1\"/>\n",
       "<path class=\"bond-1 atom-1 atom-2\" d=\"M 249.2,142.9 L 213.2,164.5 L 209.1,155.4 Z\" style=\"fill:#000000;fill-rule:evenodd;fill-opacity:1;stroke:#000000;stroke-width:0.5px;stroke-linecap:butt;stroke-linejoin:miter;stroke-opacity:1;\"/>\n",
       "<path class=\"bond-2 atom-1 atom-3\" d=\"M 249.2,142.9 L 227.2,124.1\" style=\"fill:none;fill-rule:evenodd;stroke:#000000;stroke-width:2.0px;stroke-linecap:butt;stroke-linejoin:miter;stroke-opacity:1\"/>\n",
       "<path class=\"bond-2 atom-1 atom-3\" d=\"M 227.2,124.1 L 205.2,105.3\" style=\"fill:none;fill-rule:evenodd;stroke:#0000FF;stroke-width:2.0px;stroke-linecap:butt;stroke-linejoin:miter;stroke-opacity:1\"/>\n",
       "<path class=\"bond-3 atom-1 atom-4\" d=\"M 249.2,142.9 L 292.1,93.8\" style=\"fill:none;fill-rule:evenodd;stroke:#000000;stroke-width:2.0px;stroke-linecap:butt;stroke-linejoin:miter;stroke-opacity:1\"/>\n",
       "<path class=\"bond-4 atom-4 atom-5\" d=\"M 297.8,94.9 L 289.4,70.6\" style=\"fill:none;fill-rule:evenodd;stroke:#000000;stroke-width:2.0px;stroke-linecap:butt;stroke-linejoin:miter;stroke-opacity:1\"/>\n",
       "<path class=\"bond-4 atom-4 atom-5\" d=\"M 289.4,70.6 L 280.9,46.4\" style=\"fill:none;fill-rule:evenodd;stroke:#FF0000;stroke-width:2.0px;stroke-linecap:butt;stroke-linejoin:miter;stroke-opacity:1\"/>\n",
       "<path class=\"bond-4 atom-4 atom-5\" d=\"M 288.4,98.1 L 279.9,73.9\" style=\"fill:none;fill-rule:evenodd;stroke:#000000;stroke-width:2.0px;stroke-linecap:butt;stroke-linejoin:miter;stroke-opacity:1\"/>\n",
       "<path class=\"bond-4 atom-4 atom-5\" d=\"M 279.9,73.9 L 271.5,49.6\" style=\"fill:none;fill-rule:evenodd;stroke:#FF0000;stroke-width:2.0px;stroke-linecap:butt;stroke-linejoin:miter;stroke-opacity:1\"/>\n",
       "<path class=\"bond-5 atom-4 atom-6\" d=\"M 292.1,93.8 L 317.0,98.7\" style=\"fill:none;fill-rule:evenodd;stroke:#000000;stroke-width:2.0px;stroke-linecap:butt;stroke-linejoin:miter;stroke-opacity:1\"/>\n",
       "<path class=\"bond-5 atom-4 atom-6\" d=\"M 317.0,98.7 L 341.9,103.6\" style=\"fill:none;fill-rule:evenodd;stroke:#FF0000;stroke-width:2.0px;stroke-linecap:butt;stroke-linejoin:miter;stroke-opacity:1\"/>\n",
       "<path class=\"bond-6 atom-0 atom-7\" d=\"M 268.8,206.3 L 217.3,220.6\" style=\"fill:none;fill-rule:evenodd;stroke:#000000;stroke-width:2.0px;stroke-linecap:butt;stroke-linejoin:miter;stroke-opacity:1\"/>\n",
       "<path class=\"bond-7 atom-0 atom-8\" d=\"M 268.8,206.3 L 255.5,254.5\" style=\"fill:none;fill-rule:evenodd;stroke:#000000;stroke-width:2.0px;stroke-linecap:butt;stroke-linejoin:miter;stroke-opacity:1\"/>\n",
       "<path class=\"bond-8 atom-0 atom-9\" d=\"M 268.8,206.3 L 319.4,219.7\" style=\"fill:none;fill-rule:evenodd;stroke:#000000;stroke-width:2.0px;stroke-linecap:butt;stroke-linejoin:miter;stroke-opacity:1\"/>\n",
       "<path class=\"bond-9 atom-3 atom-10\" d=\"M 179.4,107.5 L 169.1,117.9\" style=\"fill:none;fill-rule:evenodd;stroke:#0000FF;stroke-width:2.0px;stroke-linecap:butt;stroke-linejoin:miter;stroke-opacity:1\"/>\n",
       "<path class=\"bond-9 atom-3 atom-10\" d=\"M 169.1,117.9 L 158.9,128.4\" style=\"fill:none;fill-rule:evenodd;stroke:#000000;stroke-width:2.0px;stroke-linecap:butt;stroke-linejoin:miter;stroke-opacity:1\"/>\n",
       "<path class=\"bond-10 atom-3 atom-11\" d=\"M 179.4,91.4 L 160.0,87.1\" style=\"fill:none;fill-rule:evenodd;stroke:#0000FF;stroke-width:2.0px;stroke-linecap:butt;stroke-linejoin:miter;stroke-opacity:1\"/>\n",
       "<path class=\"bond-10 atom-3 atom-11\" d=\"M 160.0,87.1 L 140.6,82.9\" style=\"fill:none;fill-rule:evenodd;stroke:#000000;stroke-width:2.0px;stroke-linecap:butt;stroke-linejoin:miter;stroke-opacity:1\"/>\n",
       "<path class=\"bond-11 atom-3 atom-12\" d=\"M 195.5,77.9 L 198.8,61.7\" style=\"fill:none;fill-rule:evenodd;stroke:#0000FF;stroke-width:2.0px;stroke-linecap:butt;stroke-linejoin:miter;stroke-opacity:1\"/>\n",
       "<path class=\"bond-11 atom-3 atom-12\" d=\"M 198.8,61.7 L 202.0,45.5\" style=\"fill:none;fill-rule:evenodd;stroke:#000000;stroke-width:2.0px;stroke-linecap:butt;stroke-linejoin:miter;stroke-opacity:1\"/>\n",
       "<path d=\"M 290.0,96.2 L 292.1,93.8 L 293.4,94.0\" style=\"fill:none;stroke:#000000;stroke-width:2.0px;stroke-linecap:butt;stroke-linejoin:miter;stroke-opacity:1;\"/>\n",
       "<path class=\"atom-2\" d=\"M 184.7 152.8 L 188.5 152.8 L 188.5 164.8 L 203.0 164.8 L 203.0 152.8 L 206.8 152.8 L 206.8 181.1 L 203.0 181.1 L 203.0 168.0 L 188.5 168.0 L 188.5 181.1 L 184.7 181.1 L 184.7 152.8 \" fill=\"#000000\"/>\n",
       "<path class=\"atom-3\" d=\"M 186.0 80.1 L 195.3 95.1 Q 196.2 96.6, 197.7 99.3 Q 199.2 101.9, 199.3 102.1 L 199.3 80.1 L 203.0 80.1 L 203.0 108.4 L 199.1 108.4 L 189.2 92.0 Q 188.0 90.1, 186.8 87.9 Q 185.6 85.7, 185.2 85.0 L 185.2 108.4 L 181.6 108.4 L 181.6 80.1 L 186.0 80.1 \" fill=\"#0000FF\"/>\n",
       "<path class=\"atom-3\" d=\"M 208.3 85.2 L 213.3 85.2 L 213.3 80.0 L 215.5 80.0 L 215.5 85.2 L 220.7 85.2 L 220.7 87.1 L 215.5 87.1 L 215.5 92.4 L 213.3 92.4 L 213.3 87.1 L 208.3 87.1 L 208.3 85.2 \" fill=\"#0000FF\"/>\n",
       "<path class=\"atom-5\" d=\"M 257.3 31.2 Q 257.3 24.4, 260.7 20.6 Q 264.0 16.8, 270.3 16.8 Q 276.6 16.8, 279.9 20.6 Q 283.3 24.4, 283.3 31.2 Q 283.3 38.0, 279.9 41.9 Q 276.5 45.8, 270.3 45.8 Q 264.1 45.8, 260.7 41.9 Q 257.3 38.1, 257.3 31.2 M 270.3 42.6 Q 274.6 42.6, 276.9 39.7 Q 279.3 36.8, 279.3 31.2 Q 279.3 25.6, 276.9 22.8 Q 274.6 20.0, 270.3 20.0 Q 266.0 20.0, 263.6 22.8 Q 261.3 25.6, 261.3 31.2 Q 261.3 36.9, 263.6 39.7 Q 266.0 42.6, 270.3 42.6 \" fill=\"#FF0000\"/>\n",
       "<path class=\"atom-6\" d=\"M 344.1 106.7 Q 344.1 99.9, 347.4 96.1 Q 350.8 92.3, 357.1 92.3 Q 363.3 92.3, 366.7 96.1 Q 370.1 99.9, 370.1 106.7 Q 370.1 113.6, 366.7 117.5 Q 363.3 121.4, 357.1 121.4 Q 350.8 121.4, 347.4 117.5 Q 344.1 113.6, 344.1 106.7 M 357.1 118.2 Q 361.4 118.2, 363.7 115.3 Q 366.1 112.4, 366.1 106.7 Q 366.1 101.2, 363.7 98.4 Q 361.4 95.5, 357.1 95.5 Q 352.8 95.5, 350.4 98.3 Q 348.1 101.1, 348.1 106.7 Q 348.1 112.4, 350.4 115.3 Q 352.8 118.2, 357.1 118.2 \" fill=\"#FF0000\"/>\n",
       "<path class=\"atom-6\" d=\"M 374.1 96.9 L 383.8 96.9 L 383.8 99.1 L 374.1 99.1 L 374.1 96.9 \" fill=\"#FF0000\"/>\n",
       "<path class=\"atom-7\" d=\"M 193.0 210.1 L 196.8 210.1 L 196.8 222.1 L 211.3 222.1 L 211.3 210.1 L 215.1 210.1 L 215.1 238.4 L 211.3 238.4 L 211.3 225.3 L 196.8 225.3 L 196.8 238.4 L 193.0 238.4 L 193.0 210.1 \" fill=\"#000000\"/>\n",
       "<path class=\"atom-8\" d=\"M 239.9 256.7 L 243.8 256.7 L 243.8 268.7 L 258.2 268.7 L 258.2 256.7 L 262.1 256.7 L 262.1 285.0 L 258.2 285.0 L 258.2 271.9 L 243.8 271.9 L 243.8 285.0 L 239.9 285.0 L 239.9 256.7 \" fill=\"#000000\"/>\n",
       "<path class=\"atom-9\" d=\"M 321.6 209.1 L 325.5 209.1 L 325.5 221.1 L 339.9 221.1 L 339.9 209.1 L 343.8 209.1 L 343.8 237.4 L 339.9 237.4 L 339.9 224.3 L 325.5 224.3 L 325.5 237.4 L 321.6 237.4 L 321.6 209.1 \" fill=\"#000000\"/>\n",
       "<path class=\"atom-10\" d=\"M 134.5 127.8 L 138.4 127.8 L 138.4 139.8 L 152.8 139.8 L 152.8 127.8 L 156.7 127.8 L 156.7 156.1 L 152.8 156.1 L 152.8 143.0 L 138.4 143.0 L 138.4 156.1 L 134.5 156.1 L 134.5 127.8 \" fill=\"#000000\"/>\n",
       "<path class=\"atom-11\" d=\"M 116.2 65.8 L 120.1 65.8 L 120.1 77.8 L 134.5 77.8 L 134.5 65.8 L 138.4 65.8 L 138.4 94.1 L 134.5 94.1 L 134.5 81.0 L 120.1 81.0 L 120.1 94.1 L 116.2 94.1 L 116.2 65.8 \" fill=\"#000000\"/>\n",
       "<path class=\"atom-12\" d=\"M 194.2 15.0 L 198.0 15.0 L 198.0 27.0 L 212.5 27.0 L 212.5 15.0 L 216.3 15.0 L 216.3 43.3 L 212.5 43.3 L 212.5 30.2 L 198.0 30.2 L 198.0 43.3 L 194.2 43.3 L 194.2 15.0 \" fill=\"#000000\"/>\n",
       "</svg>"
      ],
      "text/plain": [
       "<IPython.core.display.SVG object>"
      ]
     },
     "execution_count": 3,
     "metadata": {},
     "output_type": "execute_result"
    }
   ],
   "source": [
    "zw_l_alanine = Molecule.from_smiles(\"C[C@H]([NH3+])C(=O)[O-]\")\n",
    "\n",
    "zw_l_alanine.visualize()"
   ]
  },
  {
   "cell_type": "markdown",
   "id": "59fe1b58",
   "metadata": {},
   "source": [
    "### Explicit hydrogens SMILES"
   ]
  },
  {
   "cell_type": "code",
   "execution_count": 4,
   "id": "07e0584e",
   "metadata": {},
   "outputs": [
    {
     "data": {
      "image/svg+xml": [
       "<svg xmlns=\"http://www.w3.org/2000/svg\" xmlns:rdkit=\"http://www.rdkit.org/xml\" xmlns:xlink=\"http://www.w3.org/1999/xlink\" version=\"1.1\" baseProfile=\"full\" xml:space=\"preserve\" width=\"500px\" height=\"300px\" viewBox=\"0 0 500 300\">\n",
       "<!-- END OF HEADER -->\n",
       "<rect style=\"opacity:1.0;fill:#FFFFFF;stroke:none\" width=\"500.0\" height=\"300.0\" x=\"0.0\" y=\"0.0\"> </rect>\n",
       "<path class=\"bond-0 atom-0 atom-1\" d=\"M 217.3,220.6 L 268.8,206.3\" style=\"fill:none;fill-rule:evenodd;stroke:#000000;stroke-width:2.0px;stroke-linecap:butt;stroke-linejoin:miter;stroke-opacity:1\"/>\n",
       "<path class=\"bond-1 atom-1 atom-2\" d=\"M 268.8,206.3 L 255.5,254.5\" style=\"fill:none;fill-rule:evenodd;stroke:#000000;stroke-width:2.0px;stroke-linecap:butt;stroke-linejoin:miter;stroke-opacity:1\"/>\n",
       "<path class=\"bond-2 atom-1 atom-3\" d=\"M 268.8,206.3 L 319.4,219.7\" style=\"fill:none;fill-rule:evenodd;stroke:#000000;stroke-width:2.0px;stroke-linecap:butt;stroke-linejoin:miter;stroke-opacity:1\"/>\n",
       "<path class=\"bond-3 atom-1 atom-4\" d=\"M 268.8,206.3 L 249.2,142.9\" style=\"fill:none;fill-rule:evenodd;stroke:#000000;stroke-width:2.0px;stroke-linecap:butt;stroke-linejoin:miter;stroke-opacity:1\"/>\n",
       "<path class=\"bond-4 atom-4 atom-5\" d=\"M 249.2,142.9 L 213.2,164.5 L 209.1,155.4 Z\" style=\"fill:#000000;fill-rule:evenodd;fill-opacity:1;stroke:#000000;stroke-width:0.5px;stroke-linecap:butt;stroke-linejoin:miter;stroke-opacity:1;\"/>\n",
       "<path class=\"bond-5 atom-4 atom-6\" d=\"M 249.2,142.9 L 292.1,93.8\" style=\"fill:none;fill-rule:evenodd;stroke:#000000;stroke-width:2.0px;stroke-linecap:butt;stroke-linejoin:miter;stroke-opacity:1\"/>\n",
       "<path class=\"bond-6 atom-6 atom-7\" d=\"M 297.8,94.9 L 289.4,70.6\" style=\"fill:none;fill-rule:evenodd;stroke:#000000;stroke-width:2.0px;stroke-linecap:butt;stroke-linejoin:miter;stroke-opacity:1\"/>\n",
       "<path class=\"bond-6 atom-6 atom-7\" d=\"M 289.4,70.6 L 280.9,46.4\" style=\"fill:none;fill-rule:evenodd;stroke:#FF0000;stroke-width:2.0px;stroke-linecap:butt;stroke-linejoin:miter;stroke-opacity:1\"/>\n",
       "<path class=\"bond-6 atom-6 atom-7\" d=\"M 288.4,98.1 L 279.9,73.9\" style=\"fill:none;fill-rule:evenodd;stroke:#000000;stroke-width:2.0px;stroke-linecap:butt;stroke-linejoin:miter;stroke-opacity:1\"/>\n",
       "<path class=\"bond-6 atom-6 atom-7\" d=\"M 279.9,73.9 L 271.5,49.6\" style=\"fill:none;fill-rule:evenodd;stroke:#FF0000;stroke-width:2.0px;stroke-linecap:butt;stroke-linejoin:miter;stroke-opacity:1\"/>\n",
       "<path class=\"bond-7 atom-6 atom-8\" d=\"M 292.1,93.8 L 317.0,98.7\" style=\"fill:none;fill-rule:evenodd;stroke:#000000;stroke-width:2.0px;stroke-linecap:butt;stroke-linejoin:miter;stroke-opacity:1\"/>\n",
       "<path class=\"bond-7 atom-6 atom-8\" d=\"M 317.0,98.7 L 341.9,103.6\" style=\"fill:none;fill-rule:evenodd;stroke:#FF0000;stroke-width:2.0px;stroke-linecap:butt;stroke-linejoin:miter;stroke-opacity:1\"/>\n",
       "<path class=\"bond-8 atom-4 atom-9\" d=\"M 249.2,142.9 L 227.2,124.1\" style=\"fill:none;fill-rule:evenodd;stroke:#000000;stroke-width:2.0px;stroke-linecap:butt;stroke-linejoin:miter;stroke-opacity:1\"/>\n",
       "<path class=\"bond-8 atom-4 atom-9\" d=\"M 227.2,124.1 L 205.2,105.3\" style=\"fill:none;fill-rule:evenodd;stroke:#0000FF;stroke-width:2.0px;stroke-linecap:butt;stroke-linejoin:miter;stroke-opacity:1\"/>\n",
       "<path class=\"bond-9 atom-9 atom-10\" d=\"M 179.4,107.5 L 169.1,117.9\" style=\"fill:none;fill-rule:evenodd;stroke:#0000FF;stroke-width:2.0px;stroke-linecap:butt;stroke-linejoin:miter;stroke-opacity:1\"/>\n",
       "<path class=\"bond-9 atom-9 atom-10\" d=\"M 169.1,117.9 L 158.9,128.4\" style=\"fill:none;fill-rule:evenodd;stroke:#000000;stroke-width:2.0px;stroke-linecap:butt;stroke-linejoin:miter;stroke-opacity:1\"/>\n",
       "<path class=\"bond-10 atom-9 atom-11\" d=\"M 179.4,91.4 L 160.0,87.1\" style=\"fill:none;fill-rule:evenodd;stroke:#0000FF;stroke-width:2.0px;stroke-linecap:butt;stroke-linejoin:miter;stroke-opacity:1\"/>\n",
       "<path class=\"bond-10 atom-9 atom-11\" d=\"M 160.0,87.1 L 140.6,82.9\" style=\"fill:none;fill-rule:evenodd;stroke:#000000;stroke-width:2.0px;stroke-linecap:butt;stroke-linejoin:miter;stroke-opacity:1\"/>\n",
       "<path class=\"bond-11 atom-9 atom-12\" d=\"M 195.5,77.9 L 198.8,61.7\" style=\"fill:none;fill-rule:evenodd;stroke:#0000FF;stroke-width:2.0px;stroke-linecap:butt;stroke-linejoin:miter;stroke-opacity:1\"/>\n",
       "<path class=\"bond-11 atom-9 atom-12\" d=\"M 198.8,61.7 L 202.0,45.5\" style=\"fill:none;fill-rule:evenodd;stroke:#000000;stroke-width:2.0px;stroke-linecap:butt;stroke-linejoin:miter;stroke-opacity:1\"/>\n",
       "<path d=\"M 290.0,96.2 L 292.1,93.8 L 293.4,94.0\" style=\"fill:none;stroke:#000000;stroke-width:2.0px;stroke-linecap:butt;stroke-linejoin:miter;stroke-opacity:1;\"/>\n",
       "<path class=\"atom-0\" d=\"M 193.0 210.1 L 196.8 210.1 L 196.8 222.1 L 211.3 222.1 L 211.3 210.1 L 215.1 210.1 L 215.1 238.4 L 211.3 238.4 L 211.3 225.3 L 196.8 225.3 L 196.8 238.4 L 193.0 238.4 L 193.0 210.1 \" fill=\"#000000\"/>\n",
       "<path class=\"atom-2\" d=\"M 239.9 256.7 L 243.8 256.7 L 243.8 268.7 L 258.2 268.7 L 258.2 256.7 L 262.1 256.7 L 262.1 285.0 L 258.2 285.0 L 258.2 271.9 L 243.8 271.9 L 243.8 285.0 L 239.9 285.0 L 239.9 256.7 \" fill=\"#000000\"/>\n",
       "<path class=\"atom-3\" d=\"M 321.6 209.1 L 325.5 209.1 L 325.5 221.1 L 339.9 221.1 L 339.9 209.1 L 343.8 209.1 L 343.8 237.4 L 339.9 237.4 L 339.9 224.3 L 325.5 224.3 L 325.5 237.4 L 321.6 237.4 L 321.6 209.1 \" fill=\"#000000\"/>\n",
       "<path class=\"atom-5\" d=\"M 184.7 152.8 L 188.5 152.8 L 188.5 164.8 L 203.0 164.8 L 203.0 152.8 L 206.8 152.8 L 206.8 181.1 L 203.0 181.1 L 203.0 168.0 L 188.5 168.0 L 188.5 181.1 L 184.7 181.1 L 184.7 152.8 \" fill=\"#000000\"/>\n",
       "<path class=\"atom-7\" d=\"M 257.3 31.2 Q 257.3 24.4, 260.7 20.6 Q 264.0 16.8, 270.3 16.8 Q 276.6 16.8, 279.9 20.6 Q 283.3 24.4, 283.3 31.2 Q 283.3 38.0, 279.9 41.9 Q 276.5 45.8, 270.3 45.8 Q 264.1 45.8, 260.7 41.9 Q 257.3 38.1, 257.3 31.2 M 270.3 42.6 Q 274.6 42.6, 276.9 39.7 Q 279.3 36.8, 279.3 31.2 Q 279.3 25.6, 276.9 22.8 Q 274.6 20.0, 270.3 20.0 Q 266.0 20.0, 263.6 22.8 Q 261.3 25.6, 261.3 31.2 Q 261.3 36.9, 263.6 39.7 Q 266.0 42.6, 270.3 42.6 \" fill=\"#FF0000\"/>\n",
       "<path class=\"atom-8\" d=\"M 344.1 106.7 Q 344.1 99.9, 347.4 96.1 Q 350.8 92.3, 357.1 92.3 Q 363.3 92.3, 366.7 96.1 Q 370.1 99.9, 370.1 106.7 Q 370.1 113.6, 366.7 117.5 Q 363.3 121.4, 357.1 121.4 Q 350.8 121.4, 347.4 117.5 Q 344.1 113.6, 344.1 106.7 M 357.1 118.2 Q 361.4 118.2, 363.7 115.3 Q 366.1 112.4, 366.1 106.7 Q 366.1 101.2, 363.7 98.4 Q 361.4 95.5, 357.1 95.5 Q 352.8 95.5, 350.4 98.3 Q 348.1 101.1, 348.1 106.7 Q 348.1 112.4, 350.4 115.3 Q 352.8 118.2, 357.1 118.2 \" fill=\"#FF0000\"/>\n",
       "<path class=\"atom-8\" d=\"M 374.1 96.9 L 383.8 96.9 L 383.8 99.1 L 374.1 99.1 L 374.1 96.9 \" fill=\"#FF0000\"/>\n",
       "<path class=\"atom-9\" d=\"M 186.0 80.1 L 195.3 95.1 Q 196.2 96.6, 197.7 99.3 Q 199.2 101.9, 199.3 102.1 L 199.3 80.1 L 203.0 80.1 L 203.0 108.4 L 199.1 108.4 L 189.2 92.0 Q 188.0 90.1, 186.8 87.9 Q 185.6 85.7, 185.2 85.0 L 185.2 108.4 L 181.6 108.4 L 181.6 80.1 L 186.0 80.1 \" fill=\"#0000FF\"/>\n",
       "<path class=\"atom-9\" d=\"M 208.3 85.2 L 213.3 85.2 L 213.3 80.0 L 215.5 80.0 L 215.5 85.2 L 220.7 85.2 L 220.7 87.1 L 215.5 87.1 L 215.5 92.4 L 213.3 92.4 L 213.3 87.1 L 208.3 87.1 L 208.3 85.2 \" fill=\"#0000FF\"/>\n",
       "<path class=\"atom-10\" d=\"M 134.5 127.8 L 138.4 127.8 L 138.4 139.8 L 152.8 139.8 L 152.8 127.8 L 156.7 127.8 L 156.7 156.1 L 152.8 156.1 L 152.8 143.0 L 138.4 143.0 L 138.4 156.1 L 134.5 156.1 L 134.5 127.8 \" fill=\"#000000\"/>\n",
       "<path class=\"atom-11\" d=\"M 116.2 65.8 L 120.1 65.8 L 120.1 77.8 L 134.5 77.8 L 134.5 65.8 L 138.4 65.8 L 138.4 94.1 L 134.5 94.1 L 134.5 81.0 L 120.1 81.0 L 120.1 94.1 L 116.2 94.1 L 116.2 65.8 \" fill=\"#000000\"/>\n",
       "<path class=\"atom-12\" d=\"M 194.2 15.0 L 198.0 15.0 L 198.0 27.0 L 212.5 27.0 L 212.5 15.0 L 216.3 15.0 L 216.3 43.3 L 212.5 43.3 L 212.5 30.2 L 198.0 30.2 L 198.0 43.3 L 194.2 43.3 L 194.2 15.0 \" fill=\"#000000\"/>\n",
       "</svg>"
      ],
      "text/plain": [
       "<IPython.core.display.SVG object>"
      ]
     },
     "execution_count": 4,
     "metadata": {},
     "output_type": "execute_result"
    }
   ],
   "source": [
    "smiles_explicit_h = Molecule.from_smiles(\n",
    "    \"[H][C]([H])([H])[C@@]([H])([C](=[O])[O-])[N+]([H])([H])[H]\",\n",
    "    hydrogens_are_explicit=True,\n",
    ")\n",
    "\n",
    "assert zw_l_alanine.is_isomorphic_with(smiles_explicit_h)\n",
    "\n",
    "smiles_explicit_h.visualize()"
   ]
  },
  {
   "cell_type": "markdown",
   "id": "6e1adb21",
   "metadata": {},
   "source": [
    "### Mapped SMILES\n",
    "\n",
    "By default, no guarantees are made about the indexing of atoms from a SMILES string. If the indexing is important, a mapped SMILES string may be used. In this case, Hydrogens must be explicit. Note that though mapped SMILES strings must start at index 1, Python lists start at index 0."
   ]
  },
  {
   "cell_type": "code",
   "execution_count": 5,
   "id": "178de2c5",
   "metadata": {},
   "outputs": [
    {
     "data": {
      "image/svg+xml": [
       "<svg xmlns=\"http://www.w3.org/2000/svg\" xmlns:rdkit=\"http://www.rdkit.org/xml\" xmlns:xlink=\"http://www.w3.org/1999/xlink\" version=\"1.1\" baseProfile=\"full\" xml:space=\"preserve\" width=\"500px\" height=\"300px\" viewBox=\"0 0 500 300\">\n",
       "<!-- END OF HEADER -->\n",
       "<rect style=\"opacity:1.0;fill:#FFFFFF;stroke:none\" width=\"500.0\" height=\"300.0\" x=\"0.0\" y=\"0.0\"> </rect>\n",
       "<path class=\"bond-0 atom-0 atom-3\" d=\"M 205.2,105.3 L 227.2,124.1\" style=\"fill:none;fill-rule:evenodd;stroke:#0000FF;stroke-width:2.0px;stroke-linecap:butt;stroke-linejoin:miter;stroke-opacity:1\"/>\n",
       "<path class=\"bond-0 atom-0 atom-3\" d=\"M 227.2,124.1 L 249.2,142.9\" style=\"fill:none;fill-rule:evenodd;stroke:#000000;stroke-width:2.0px;stroke-linecap:butt;stroke-linejoin:miter;stroke-opacity:1\"/>\n",
       "<path class=\"bond-1 atom-0 atom-10\" d=\"M 179.4,107.5 L 169.1,117.9\" style=\"fill:none;fill-rule:evenodd;stroke:#0000FF;stroke-width:2.0px;stroke-linecap:butt;stroke-linejoin:miter;stroke-opacity:1\"/>\n",
       "<path class=\"bond-1 atom-0 atom-10\" d=\"M 169.1,117.9 L 158.9,128.4\" style=\"fill:none;fill-rule:evenodd;stroke:#000000;stroke-width:2.0px;stroke-linecap:butt;stroke-linejoin:miter;stroke-opacity:1\"/>\n",
       "<path class=\"bond-2 atom-0 atom-11\" d=\"M 179.4,91.4 L 160.0,87.1\" style=\"fill:none;fill-rule:evenodd;stroke:#0000FF;stroke-width:2.0px;stroke-linecap:butt;stroke-linejoin:miter;stroke-opacity:1\"/>\n",
       "<path class=\"bond-2 atom-0 atom-11\" d=\"M 160.0,87.1 L 140.6,82.9\" style=\"fill:none;fill-rule:evenodd;stroke:#000000;stroke-width:2.0px;stroke-linecap:butt;stroke-linejoin:miter;stroke-opacity:1\"/>\n",
       "<path class=\"bond-3 atom-0 atom-12\" d=\"M 195.5,77.9 L 198.8,61.7\" style=\"fill:none;fill-rule:evenodd;stroke:#0000FF;stroke-width:2.0px;stroke-linecap:butt;stroke-linejoin:miter;stroke-opacity:1\"/>\n",
       "<path class=\"bond-3 atom-0 atom-12\" d=\"M 198.8,61.7 L 202.0,45.5\" style=\"fill:none;fill-rule:evenodd;stroke:#000000;stroke-width:2.0px;stroke-linecap:butt;stroke-linejoin:miter;stroke-opacity:1\"/>\n",
       "<path class=\"bond-4 atom-1 atom-3\" d=\"M 268.8,206.3 L 249.2,142.9\" style=\"fill:none;fill-rule:evenodd;stroke:#000000;stroke-width:2.0px;stroke-linecap:butt;stroke-linejoin:miter;stroke-opacity:1\"/>\n",
       "<path class=\"bond-5 atom-1 atom-6\" d=\"M 268.8,206.3 L 217.3,220.6\" style=\"fill:none;fill-rule:evenodd;stroke:#000000;stroke-width:2.0px;stroke-linecap:butt;stroke-linejoin:miter;stroke-opacity:1\"/>\n",
       "<path class=\"bond-6 atom-1 atom-7\" d=\"M 268.8,206.3 L 255.5,254.5\" style=\"fill:none;fill-rule:evenodd;stroke:#000000;stroke-width:2.0px;stroke-linecap:butt;stroke-linejoin:miter;stroke-opacity:1\"/>\n",
       "<path class=\"bond-7 atom-1 atom-9\" d=\"M 268.8,206.3 L 319.4,219.7\" style=\"fill:none;fill-rule:evenodd;stroke:#000000;stroke-width:2.0px;stroke-linecap:butt;stroke-linejoin:miter;stroke-opacity:1\"/>\n",
       "<path class=\"bond-8 atom-2 atom-3\" d=\"M 292.1,93.8 L 249.2,142.9\" style=\"fill:none;fill-rule:evenodd;stroke:#000000;stroke-width:2.0px;stroke-linecap:butt;stroke-linejoin:miter;stroke-opacity:1\"/>\n",
       "<path class=\"bond-9 atom-2 atom-4\" d=\"M 297.8,94.9 L 289.4,70.6\" style=\"fill:none;fill-rule:evenodd;stroke:#000000;stroke-width:2.0px;stroke-linecap:butt;stroke-linejoin:miter;stroke-opacity:1\"/>\n",
       "<path class=\"bond-9 atom-2 atom-4\" d=\"M 289.4,70.6 L 280.9,46.4\" style=\"fill:none;fill-rule:evenodd;stroke:#FF0000;stroke-width:2.0px;stroke-linecap:butt;stroke-linejoin:miter;stroke-opacity:1\"/>\n",
       "<path class=\"bond-9 atom-2 atom-4\" d=\"M 288.4,98.1 L 279.9,73.9\" style=\"fill:none;fill-rule:evenodd;stroke:#000000;stroke-width:2.0px;stroke-linecap:butt;stroke-linejoin:miter;stroke-opacity:1\"/>\n",
       "<path class=\"bond-9 atom-2 atom-4\" d=\"M 279.9,73.9 L 271.5,49.6\" style=\"fill:none;fill-rule:evenodd;stroke:#FF0000;stroke-width:2.0px;stroke-linecap:butt;stroke-linejoin:miter;stroke-opacity:1\"/>\n",
       "<path class=\"bond-10 atom-2 atom-5\" d=\"M 292.1,93.8 L 317.0,98.7\" style=\"fill:none;fill-rule:evenodd;stroke:#000000;stroke-width:2.0px;stroke-linecap:butt;stroke-linejoin:miter;stroke-opacity:1\"/>\n",
       "<path class=\"bond-10 atom-2 atom-5\" d=\"M 317.0,98.7 L 341.9,103.6\" style=\"fill:none;fill-rule:evenodd;stroke:#FF0000;stroke-width:2.0px;stroke-linecap:butt;stroke-linejoin:miter;stroke-opacity:1\"/>\n",
       "<path class=\"bond-11 atom-3 atom-8\" d=\"M 249.2,142.9 L 213.2,164.5 L 209.1,155.4 Z\" style=\"fill:#000000;fill-rule:evenodd;fill-opacity:1;stroke:#000000;stroke-width:0.5px;stroke-linecap:butt;stroke-linejoin:miter;stroke-opacity:1;\"/>\n",
       "<path d=\"M 290.0,96.2 L 292.1,93.8 L 293.4,94.0\" style=\"fill:none;stroke:#000000;stroke-width:2.0px;stroke-linecap:butt;stroke-linejoin:miter;stroke-opacity:1;\"/>\n",
       "<path class=\"atom-0\" d=\"M 186.0 80.1 L 195.3 95.1 Q 196.2 96.6, 197.7 99.3 Q 199.2 101.9, 199.3 102.1 L 199.3 80.1 L 203.0 80.1 L 203.0 108.4 L 199.1 108.4 L 189.2 92.0 Q 188.0 90.1, 186.8 87.9 Q 185.6 85.7, 185.2 85.0 L 185.2 108.4 L 181.6 108.4 L 181.6 80.1 L 186.0 80.1 \" fill=\"#0000FF\"/>\n",
       "<path class=\"atom-0\" d=\"M 208.3 85.2 L 213.3 85.2 L 213.3 80.0 L 215.5 80.0 L 215.5 85.2 L 220.7 85.2 L 220.7 87.1 L 215.5 87.1 L 215.5 92.4 L 213.3 92.4 L 213.3 87.1 L 208.3 87.1 L 208.3 85.2 \" fill=\"#0000FF\"/>\n",
       "<path class=\"atom-4\" d=\"M 257.3 31.2 Q 257.3 24.4, 260.7 20.6 Q 264.0 16.8, 270.3 16.8 Q 276.6 16.8, 279.9 20.6 Q 283.3 24.4, 283.3 31.2 Q 283.3 38.0, 279.9 41.9 Q 276.5 45.8, 270.3 45.8 Q 264.1 45.8, 260.7 41.9 Q 257.3 38.1, 257.3 31.2 M 270.3 42.6 Q 274.6 42.6, 276.9 39.7 Q 279.3 36.8, 279.3 31.2 Q 279.3 25.6, 276.9 22.8 Q 274.6 20.0, 270.3 20.0 Q 266.0 20.0, 263.6 22.8 Q 261.3 25.6, 261.3 31.2 Q 261.3 36.9, 263.6 39.7 Q 266.0 42.6, 270.3 42.6 \" fill=\"#FF0000\"/>\n",
       "<path class=\"atom-5\" d=\"M 344.1 106.7 Q 344.1 99.9, 347.4 96.1 Q 350.8 92.3, 357.1 92.3 Q 363.3 92.3, 366.7 96.1 Q 370.1 99.9, 370.1 106.7 Q 370.1 113.6, 366.7 117.5 Q 363.3 121.4, 357.1 121.4 Q 350.8 121.4, 347.4 117.5 Q 344.1 113.6, 344.1 106.7 M 357.1 118.2 Q 361.4 118.2, 363.7 115.3 Q 366.1 112.4, 366.1 106.7 Q 366.1 101.2, 363.7 98.4 Q 361.4 95.5, 357.1 95.5 Q 352.8 95.5, 350.4 98.3 Q 348.1 101.1, 348.1 106.7 Q 348.1 112.4, 350.4 115.3 Q 352.8 118.2, 357.1 118.2 \" fill=\"#FF0000\"/>\n",
       "<path class=\"atom-5\" d=\"M 374.1 96.9 L 383.8 96.9 L 383.8 99.1 L 374.1 99.1 L 374.1 96.9 \" fill=\"#FF0000\"/>\n",
       "<path class=\"atom-6\" d=\"M 193.0 210.1 L 196.8 210.1 L 196.8 222.1 L 211.3 222.1 L 211.3 210.1 L 215.1 210.1 L 215.1 238.4 L 211.3 238.4 L 211.3 225.3 L 196.8 225.3 L 196.8 238.4 L 193.0 238.4 L 193.0 210.1 \" fill=\"#000000\"/>\n",
       "<path class=\"atom-7\" d=\"M 239.9 256.7 L 243.8 256.7 L 243.8 268.7 L 258.2 268.7 L 258.2 256.7 L 262.1 256.7 L 262.1 285.0 L 258.2 285.0 L 258.2 271.9 L 243.8 271.9 L 243.8 285.0 L 239.9 285.0 L 239.9 256.7 \" fill=\"#000000\"/>\n",
       "<path class=\"atom-8\" d=\"M 184.7 152.8 L 188.5 152.8 L 188.5 164.8 L 203.0 164.8 L 203.0 152.8 L 206.8 152.8 L 206.8 181.1 L 203.0 181.1 L 203.0 168.0 L 188.5 168.0 L 188.5 181.1 L 184.7 181.1 L 184.7 152.8 \" fill=\"#000000\"/>\n",
       "<path class=\"atom-9\" d=\"M 321.6 209.1 L 325.5 209.1 L 325.5 221.1 L 339.9 221.1 L 339.9 209.1 L 343.8 209.1 L 343.8 237.4 L 339.9 237.4 L 339.9 224.3 L 325.5 224.3 L 325.5 237.4 L 321.6 237.4 L 321.6 209.1 \" fill=\"#000000\"/>\n",
       "<path class=\"atom-10\" d=\"M 134.5 127.8 L 138.4 127.8 L 138.4 139.8 L 152.8 139.8 L 152.8 127.8 L 156.7 127.8 L 156.7 156.1 L 152.8 156.1 L 152.8 143.0 L 138.4 143.0 L 138.4 156.1 L 134.5 156.1 L 134.5 127.8 \" fill=\"#000000\"/>\n",
       "<path class=\"atom-11\" d=\"M 116.2 65.8 L 120.1 65.8 L 120.1 77.8 L 134.5 77.8 L 134.5 65.8 L 138.4 65.8 L 138.4 94.1 L 134.5 94.1 L 134.5 81.0 L 120.1 81.0 L 120.1 94.1 L 116.2 94.1 L 116.2 65.8 \" fill=\"#000000\"/>\n",
       "<path class=\"atom-12\" d=\"M 194.2 15.0 L 198.0 15.0 L 198.0 27.0 L 212.5 27.0 L 212.5 15.0 L 216.3 15.0 L 216.3 43.3 L 212.5 43.3 L 212.5 30.2 L 198.0 30.2 L 198.0 43.3 L 194.2 43.3 L 194.2 15.0 \" fill=\"#000000\"/>\n",
       "</svg>"
      ],
      "text/plain": [
       "<IPython.core.display.SVG object>"
      ]
     },
     "execution_count": 5,
     "metadata": {},
     "output_type": "execute_result"
    }
   ],
   "source": [
    "mapped_smiles = Molecule.from_mapped_smiles(\n",
    "    \"[H:10][C:2]([H:7])([H:8])[C@@:4]([H:9])([C:3](=[O:5])[O-:6])[N+:1]([H:11])([H:12])[H:13]\"\n",
    ")\n",
    "\n",
    "assert zw_l_alanine.is_isomorphic_with(mapped_smiles)\n",
    "\n",
    "# First index is the Nitrogen\n",
    "assert mapped_smiles.atoms[0].atomic_number == 7\n",
    "\n",
    "# Final indices are all H\n",
    "assert all([a.atomic_number == 1 for a in mapped_smiles.atoms[6:]])\n",
    "\n",
    "mapped_smiles.visualize()"
   ]
  },
  {
   "cell_type": "markdown",
   "id": "6897144e",
   "metadata": {},
   "source": [
    "(smiles_no_stereochemistry)=\n",
    "### SMILES without stereochemistry\n",
    "\n",
    "The Toolkit won't accept an ambiguous SMILES. This SMILES could be L- or D- alanine; rather than guess, the Toolkit throws an error:"
   ]
  },
  {
   "cell_type": "code",
   "execution_count": 6,
   "id": "ec669ad6",
   "metadata": {
    "scrolled": true,
    "tags": [
     "raises-exception"
    ]
   },
   "outputs": [
    {
     "name": "stdout",
     "output_type": "stream",
     "text": [
      "Unable to make OFFMol from OEMol: OEMol has unspecified stereochemistry. oemol.GetTitle()=''Problematic atoms are:\n",
      "Atom atomic num: 6, name: , idx: 1, aromatic: False, chiral: True with bonds:\n",
      "bond order: 1, chiral: False to atom atomic num: 6, name: , idx: 0, aromatic: False, chiral: False\n",
      "bond order: 1, chiral: False to atom atomic num: 7, name: , idx: 2, aromatic: False, chiral: False\n",
      "bond order: 1, chiral: False to atom atomic num: 6, name: , idx: 3, aromatic: False, chiral: False\n",
      "bond order: 1, chiral: False to atom atomic num: 1, name: , idx: 9, aromatic: False, chiral: False\n",
      "\n"
     ]
    }
   ],
   "source": [
    "from openff.toolkit.utils.exceptions import UndefinedStereochemistryError\n",
    "\n",
    "try:\n",
    "    smiles_non_isomeric = Molecule.from_smiles(\"CC([NH3+])C(=O)[O-]\")\n",
    "except UndefinedStereochemistryError as error:\n",
    "    print(error)"
   ]
  },
  {
   "cell_type": "markdown",
   "id": "821c4687",
   "metadata": {},
   "source": [
    "We can downgrade this error to a warning with the `allow_undefined_stereo` argument. This will create a molecule with undefined stereochemistry, which might lead to incorrect parametrization or surprising conformer generation. See the [FAQ](../faq.md#im-getting-stereochemistry-errors-when-loading-a-molecule-from-a-smiles-string) for more details."
   ]
  },
  {
   "cell_type": "code",
   "execution_count": 7,
   "id": "278e3cb1",
   "metadata": {},
   "outputs": [
    {
     "data": {
      "image/svg+xml": [
       "<svg xmlns=\"http://www.w3.org/2000/svg\" xmlns:rdkit=\"http://www.rdkit.org/xml\" xmlns:xlink=\"http://www.w3.org/1999/xlink\" version=\"1.1\" baseProfile=\"full\" xml:space=\"preserve\" width=\"500px\" height=\"300px\" viewBox=\"0 0 500 300\">\n",
       "<!-- END OF HEADER -->\n",
       "<rect style=\"opacity:1.0;fill:#FFFFFF;stroke:none\" width=\"500.0\" height=\"300.0\" x=\"0.0\" y=\"0.0\"> </rect>\n",
       "<path class=\"bond-0 atom-0 atom-1\" d=\"M 268.8,206.3 L 249.2,142.9\" style=\"fill:none;fill-rule:evenodd;stroke:#000000;stroke-width:2.0px;stroke-linecap:butt;stroke-linejoin:miter;stroke-opacity:1\"/>\n",
       "<path class=\"bond-1 atom-1 atom-2\" d=\"M 249.2,142.9 L 227.2,124.1\" style=\"fill:none;fill-rule:evenodd;stroke:#000000;stroke-width:2.0px;stroke-linecap:butt;stroke-linejoin:miter;stroke-opacity:1\"/>\n",
       "<path class=\"bond-1 atom-1 atom-2\" d=\"M 227.2,124.1 L 205.2,105.3\" style=\"fill:none;fill-rule:evenodd;stroke:#0000FF;stroke-width:2.0px;stroke-linecap:butt;stroke-linejoin:miter;stroke-opacity:1\"/>\n",
       "<path class=\"bond-2 atom-1 atom-3\" d=\"M 249.2,142.9 L 292.1,93.8\" style=\"fill:none;fill-rule:evenodd;stroke:#000000;stroke-width:2.0px;stroke-linecap:butt;stroke-linejoin:miter;stroke-opacity:1\"/>\n",
       "<path class=\"bond-3 atom-3 atom-4\" d=\"M 297.8,94.9 L 289.4,70.6\" style=\"fill:none;fill-rule:evenodd;stroke:#000000;stroke-width:2.0px;stroke-linecap:butt;stroke-linejoin:miter;stroke-opacity:1\"/>\n",
       "<path class=\"bond-3 atom-3 atom-4\" d=\"M 289.4,70.6 L 280.9,46.4\" style=\"fill:none;fill-rule:evenodd;stroke:#FF0000;stroke-width:2.0px;stroke-linecap:butt;stroke-linejoin:miter;stroke-opacity:1\"/>\n",
       "<path class=\"bond-3 atom-3 atom-4\" d=\"M 288.4,98.1 L 279.9,73.9\" style=\"fill:none;fill-rule:evenodd;stroke:#000000;stroke-width:2.0px;stroke-linecap:butt;stroke-linejoin:miter;stroke-opacity:1\"/>\n",
       "<path class=\"bond-3 atom-3 atom-4\" d=\"M 279.9,73.9 L 271.5,49.6\" style=\"fill:none;fill-rule:evenodd;stroke:#FF0000;stroke-width:2.0px;stroke-linecap:butt;stroke-linejoin:miter;stroke-opacity:1\"/>\n",
       "<path class=\"bond-4 atom-3 atom-5\" d=\"M 292.1,93.8 L 317.0,98.7\" style=\"fill:none;fill-rule:evenodd;stroke:#000000;stroke-width:2.0px;stroke-linecap:butt;stroke-linejoin:miter;stroke-opacity:1\"/>\n",
       "<path class=\"bond-4 atom-3 atom-5\" d=\"M 317.0,98.7 L 341.9,103.6\" style=\"fill:none;fill-rule:evenodd;stroke:#FF0000;stroke-width:2.0px;stroke-linecap:butt;stroke-linejoin:miter;stroke-opacity:1\"/>\n",
       "<path class=\"bond-5 atom-0 atom-6\" d=\"M 268.8,206.3 L 217.3,220.6\" style=\"fill:none;fill-rule:evenodd;stroke:#000000;stroke-width:2.0px;stroke-linecap:butt;stroke-linejoin:miter;stroke-opacity:1\"/>\n",
       "<path class=\"bond-6 atom-0 atom-7\" d=\"M 268.8,206.3 L 255.5,254.5\" style=\"fill:none;fill-rule:evenodd;stroke:#000000;stroke-width:2.0px;stroke-linecap:butt;stroke-linejoin:miter;stroke-opacity:1\"/>\n",
       "<path class=\"bond-7 atom-0 atom-8\" d=\"M 268.8,206.3 L 319.4,219.7\" style=\"fill:none;fill-rule:evenodd;stroke:#000000;stroke-width:2.0px;stroke-linecap:butt;stroke-linejoin:miter;stroke-opacity:1\"/>\n",
       "<path class=\"bond-8 atom-1 atom-9\" d=\"M 249.2,142.9 L 209.0,161.0\" style=\"fill:none;fill-rule:evenodd;stroke:#000000;stroke-width:2.0px;stroke-linecap:butt;stroke-linejoin:miter;stroke-opacity:1\"/>\n",
       "<path class=\"bond-9 atom-2 atom-10\" d=\"M 179.4,107.5 L 169.1,117.9\" style=\"fill:none;fill-rule:evenodd;stroke:#0000FF;stroke-width:2.0px;stroke-linecap:butt;stroke-linejoin:miter;stroke-opacity:1\"/>\n",
       "<path class=\"bond-9 atom-2 atom-10\" d=\"M 169.1,117.9 L 158.9,128.4\" style=\"fill:none;fill-rule:evenodd;stroke:#000000;stroke-width:2.0px;stroke-linecap:butt;stroke-linejoin:miter;stroke-opacity:1\"/>\n",
       "<path class=\"bond-10 atom-2 atom-11\" d=\"M 179.4,91.4 L 160.0,87.1\" style=\"fill:none;fill-rule:evenodd;stroke:#0000FF;stroke-width:2.0px;stroke-linecap:butt;stroke-linejoin:miter;stroke-opacity:1\"/>\n",
       "<path class=\"bond-10 atom-2 atom-11\" d=\"M 160.0,87.1 L 140.6,82.9\" style=\"fill:none;fill-rule:evenodd;stroke:#000000;stroke-width:2.0px;stroke-linecap:butt;stroke-linejoin:miter;stroke-opacity:1\"/>\n",
       "<path class=\"bond-11 atom-2 atom-12\" d=\"M 195.5,77.9 L 198.8,61.7\" style=\"fill:none;fill-rule:evenodd;stroke:#0000FF;stroke-width:2.0px;stroke-linecap:butt;stroke-linejoin:miter;stroke-opacity:1\"/>\n",
       "<path class=\"bond-11 atom-2 atom-12\" d=\"M 198.8,61.7 L 202.0,45.5\" style=\"fill:none;fill-rule:evenodd;stroke:#000000;stroke-width:2.0px;stroke-linecap:butt;stroke-linejoin:miter;stroke-opacity:1\"/>\n",
       "<path d=\"M 290.0,96.2 L 292.1,93.8 L 293.4,94.0\" style=\"fill:none;stroke:#000000;stroke-width:2.0px;stroke-linecap:butt;stroke-linejoin:miter;stroke-opacity:1;\"/>\n",
       "<path class=\"atom-2\" d=\"M 186.0 80.1 L 195.3 95.1 Q 196.2 96.6, 197.7 99.3 Q 199.2 101.9, 199.3 102.1 L 199.3 80.1 L 203.0 80.1 L 203.0 108.4 L 199.1 108.4 L 189.2 92.0 Q 188.0 90.1, 186.8 87.9 Q 185.6 85.7, 185.2 85.0 L 185.2 108.4 L 181.6 108.4 L 181.6 80.1 L 186.0 80.1 \" fill=\"#0000FF\"/>\n",
       "<path class=\"atom-2\" d=\"M 208.3 85.2 L 213.3 85.2 L 213.3 80.0 L 215.5 80.0 L 215.5 85.2 L 220.7 85.2 L 220.7 87.1 L 215.5 87.1 L 215.5 92.4 L 213.3 92.4 L 213.3 87.1 L 208.3 87.1 L 208.3 85.2 \" fill=\"#0000FF\"/>\n",
       "<path class=\"atom-4\" d=\"M 257.3 31.2 Q 257.3 24.4, 260.7 20.6 Q 264.0 16.8, 270.3 16.8 Q 276.6 16.8, 279.9 20.6 Q 283.3 24.4, 283.3 31.2 Q 283.3 38.0, 279.9 41.9 Q 276.5 45.8, 270.3 45.8 Q 264.1 45.8, 260.7 41.9 Q 257.3 38.1, 257.3 31.2 M 270.3 42.6 Q 274.6 42.6, 276.9 39.7 Q 279.3 36.8, 279.3 31.2 Q 279.3 25.6, 276.9 22.8 Q 274.6 20.0, 270.3 20.0 Q 266.0 20.0, 263.6 22.8 Q 261.3 25.6, 261.3 31.2 Q 261.3 36.9, 263.6 39.7 Q 266.0 42.6, 270.3 42.6 \" fill=\"#FF0000\"/>\n",
       "<path class=\"atom-5\" d=\"M 344.1 106.7 Q 344.1 99.9, 347.4 96.1 Q 350.8 92.3, 357.1 92.3 Q 363.3 92.3, 366.7 96.1 Q 370.1 99.9, 370.1 106.7 Q 370.1 113.6, 366.7 117.5 Q 363.3 121.4, 357.1 121.4 Q 350.8 121.4, 347.4 117.5 Q 344.1 113.6, 344.1 106.7 M 357.1 118.2 Q 361.4 118.2, 363.7 115.3 Q 366.1 112.4, 366.1 106.7 Q 366.1 101.2, 363.7 98.4 Q 361.4 95.5, 357.1 95.5 Q 352.8 95.5, 350.4 98.3 Q 348.1 101.1, 348.1 106.7 Q 348.1 112.4, 350.4 115.3 Q 352.8 118.2, 357.1 118.2 \" fill=\"#FF0000\"/>\n",
       "<path class=\"atom-5\" d=\"M 374.1 96.9 L 383.8 96.9 L 383.8 99.1 L 374.1 99.1 L 374.1 96.9 \" fill=\"#FF0000\"/>\n",
       "<path class=\"atom-6\" d=\"M 193.0 210.1 L 196.8 210.1 L 196.8 222.1 L 211.3 222.1 L 211.3 210.1 L 215.1 210.1 L 215.1 238.4 L 211.3 238.4 L 211.3 225.3 L 196.8 225.3 L 196.8 238.4 L 193.0 238.4 L 193.0 210.1 \" fill=\"#000000\"/>\n",
       "<path class=\"atom-7\" d=\"M 239.9 256.7 L 243.8 256.7 L 243.8 268.7 L 258.2 268.7 L 258.2 256.7 L 262.1 256.7 L 262.1 285.0 L 258.2 285.0 L 258.2 271.9 L 243.8 271.9 L 243.8 285.0 L 239.9 285.0 L 239.9 256.7 \" fill=\"#000000\"/>\n",
       "<path class=\"atom-8\" d=\"M 321.6 209.1 L 325.5 209.1 L 325.5 221.1 L 339.9 221.1 L 339.9 209.1 L 343.8 209.1 L 343.8 237.4 L 339.9 237.4 L 339.9 224.3 L 325.5 224.3 L 325.5 237.4 L 321.6 237.4 L 321.6 209.1 \" fill=\"#000000\"/>\n",
       "<path class=\"atom-9\" d=\"M 184.7 152.8 L 188.5 152.8 L 188.5 164.8 L 203.0 164.8 L 203.0 152.8 L 206.8 152.8 L 206.8 181.1 L 203.0 181.1 L 203.0 168.0 L 188.5 168.0 L 188.5 181.1 L 184.7 181.1 L 184.7 152.8 \" fill=\"#000000\"/>\n",
       "<path class=\"atom-10\" d=\"M 134.5 127.8 L 138.4 127.8 L 138.4 139.8 L 152.8 139.8 L 152.8 127.8 L 156.7 127.8 L 156.7 156.1 L 152.8 156.1 L 152.8 143.0 L 138.4 143.0 L 138.4 156.1 L 134.5 156.1 L 134.5 127.8 \" fill=\"#000000\"/>\n",
       "<path class=\"atom-11\" d=\"M 116.2 65.8 L 120.1 65.8 L 120.1 77.8 L 134.5 77.8 L 134.5 65.8 L 138.4 65.8 L 138.4 94.1 L 134.5 94.1 L 134.5 81.0 L 120.1 81.0 L 120.1 94.1 L 116.2 94.1 L 116.2 65.8 \" fill=\"#000000\"/>\n",
       "<path class=\"atom-12\" d=\"M 194.2 15.0 L 198.0 15.0 L 198.0 27.0 L 212.5 27.0 L 212.5 15.0 L 216.3 15.0 L 216.3 43.3 L 212.5 43.3 L 212.5 30.2 L 198.0 30.2 L 198.0 43.3 L 194.2 43.3 L 194.2 15.0 \" fill=\"#000000\"/>\n",
       "</svg>"
      ],
      "text/plain": [
       "<IPython.core.display.SVG object>"
      ]
     },
     "execution_count": 7,
     "metadata": {},
     "output_type": "execute_result"
    }
   ],
   "source": [
    "smiles_non_isomeric = Molecule.from_smiles(\n",
    "    \"CC([NH3+])C(=O)[O-]\",\n",
    "    allow_undefined_stereo=True,\n",
    ")\n",
    "\n",
    "assert not zw_l_alanine.is_isomorphic_with(smiles_non_isomeric)\n",
    "\n",
    "smiles_non_isomeric.visualize()"
   ]
  },
  {
   "cell_type": "markdown",
   "id": "da716060",
   "metadata": {},
   "source": [
    "## By hand\n",
    "\n",
    "You can always construct a `Molecule` by building it up from individual atoms and bonds. Other methods are generally easier, but it's a useful fallback for when you need to write your own constructor for an unsupported source format.\n",
    "\n",
    "The [`Molecule()`](openff.toolkit.topology.Molecule.__init__) constructor and the [`add_atom()`](openff.toolkit.topology.Molecule.add_atom) and [`add_bond()`](openff.toolkit.topology.Molecule.add_bond) methods are used to construct a `Molecule` by hand."
   ]
  },
  {
   "cell_type": "code",
   "execution_count": 8,
   "id": "aa8746eb",
   "metadata": {},
   "outputs": [
    {
     "data": {
      "image/svg+xml": [
       "<svg xmlns=\"http://www.w3.org/2000/svg\" xmlns:rdkit=\"http://www.rdkit.org/xml\" xmlns:xlink=\"http://www.w3.org/1999/xlink\" version=\"1.1\" baseProfile=\"full\" xml:space=\"preserve\" width=\"500px\" height=\"300px\" viewBox=\"0 0 500 300\">\n",
       "<!-- END OF HEADER -->\n",
       "<rect style=\"opacity:1.0;fill:#FFFFFF;stroke:none\" width=\"500.0\" height=\"300.0\" x=\"0.0\" y=\"0.0\"> </rect>\n",
       "<path class=\"bond-0 atom-0 atom-1\" d=\"M 285.3,250.6 L 293.8,225.4\" style=\"fill:none;fill-rule:evenodd;stroke:#FF0000;stroke-width:2.0px;stroke-linecap:butt;stroke-linejoin:miter;stroke-opacity:1\"/>\n",
       "<path class=\"bond-0 atom-0 atom-1\" d=\"M 293.8,225.4 L 302.2,200.2\" style=\"fill:none;fill-rule:evenodd;stroke:#000000;stroke-width:2.0px;stroke-linecap:butt;stroke-linejoin:miter;stroke-opacity:1\"/>\n",
       "<path class=\"bond-1 atom-1 atom-2\" d=\"M 300.3,206.1 L 328.6,200.1\" style=\"fill:none;fill-rule:evenodd;stroke:#000000;stroke-width:2.0px;stroke-linecap:butt;stroke-linejoin:miter;stroke-opacity:1\"/>\n",
       "<path class=\"bond-1 atom-1 atom-2\" d=\"M 328.6,200.1 L 357.0,194.2\" style=\"fill:none;fill-rule:evenodd;stroke:#FF0000;stroke-width:2.0px;stroke-linecap:butt;stroke-linejoin:miter;stroke-opacity:1\"/>\n",
       "<path class=\"bond-1 atom-1 atom-2\" d=\"M 298.2,195.7 L 326.5,189.8\" style=\"fill:none;fill-rule:evenodd;stroke:#000000;stroke-width:2.0px;stroke-linecap:butt;stroke-linejoin:miter;stroke-opacity:1\"/>\n",
       "<path class=\"bond-1 atom-1 atom-2\" d=\"M 326.5,189.8 L 354.8,183.8\" style=\"fill:none;fill-rule:evenodd;stroke:#FF0000;stroke-width:2.0px;stroke-linecap:butt;stroke-linejoin:miter;stroke-opacity:1\"/>\n",
       "<path class=\"bond-2 atom-1 atom-3\" d=\"M 302.2,200.2 L 256.0,148.4\" style=\"fill:none;fill-rule:evenodd;stroke:#000000;stroke-width:2.0px;stroke-linecap:butt;stroke-linejoin:miter;stroke-opacity:1\"/>\n",
       "<path class=\"bond-3 atom-3 atom-4\" d=\"M 252.7,147.4 L 253.0,146.7\" style=\"fill:none;fill-rule:evenodd;stroke:#000000;stroke-width:1.0px;stroke-linecap:butt;stroke-linejoin:miter;stroke-opacity:1\"/>\n",
       "<path class=\"bond-3 atom-3 atom-4\" d=\"M 249.3,146.4 L 250.0,144.9\" style=\"fill:none;fill-rule:evenodd;stroke:#000000;stroke-width:1.0px;stroke-linecap:butt;stroke-linejoin:miter;stroke-opacity:1\"/>\n",
       "<path class=\"bond-3 atom-3 atom-4\" d=\"M 246.0,145.4 L 247.0,143.1\" style=\"fill:none;fill-rule:evenodd;stroke:#000000;stroke-width:1.0px;stroke-linecap:butt;stroke-linejoin:miter;stroke-opacity:1\"/>\n",
       "<path class=\"bond-3 atom-3 atom-4\" d=\"M 242.6,144.3 L 243.9,141.3\" style=\"fill:none;fill-rule:evenodd;stroke:#000000;stroke-width:1.0px;stroke-linecap:butt;stroke-linejoin:miter;stroke-opacity:1\"/>\n",
       "<path class=\"bond-3 atom-3 atom-4\" d=\"M 239.3,143.3 L 240.9,139.6\" style=\"fill:none;fill-rule:evenodd;stroke:#000000;stroke-width:1.0px;stroke-linecap:butt;stroke-linejoin:miter;stroke-opacity:1\"/>\n",
       "<path class=\"bond-3 atom-3 atom-4\" d=\"M 235.9,142.3 L 237.9,137.8\" style=\"fill:none;fill-rule:evenodd;stroke:#000000;stroke-width:1.0px;stroke-linecap:butt;stroke-linejoin:miter;stroke-opacity:1\"/>\n",
       "<path class=\"bond-3 atom-3 atom-4\" d=\"M 232.6,141.3 L 234.9,136.0\" style=\"fill:none;fill-rule:evenodd;stroke:#000000;stroke-width:1.0px;stroke-linecap:butt;stroke-linejoin:miter;stroke-opacity:1\"/>\n",
       "<path class=\"bond-3 atom-3 atom-4\" d=\"M 229.3,140.2 L 231.9,134.3\" style=\"fill:none;fill-rule:evenodd;stroke:#000000;stroke-width:1.0px;stroke-linecap:butt;stroke-linejoin:miter;stroke-opacity:1\"/>\n",
       "<path class=\"bond-3 atom-3 atom-4\" d=\"M 225.9,139.2 L 228.9,132.5\" style=\"fill:none;fill-rule:evenodd;stroke:#000000;stroke-width:1.0px;stroke-linecap:butt;stroke-linejoin:miter;stroke-opacity:1\"/>\n",
       "<path class=\"bond-3 atom-3 atom-4\" d=\"M 222.6,138.2 L 225.9,130.7\" style=\"fill:none;fill-rule:evenodd;stroke:#000000;stroke-width:1.0px;stroke-linecap:butt;stroke-linejoin:miter;stroke-opacity:1\"/>\n",
       "<path class=\"bond-3 atom-3 atom-4\" d=\"M 219.2,137.2 L 222.9,128.9\" style=\"fill:none;fill-rule:evenodd;stroke:#000000;stroke-width:1.0px;stroke-linecap:butt;stroke-linejoin:miter;stroke-opacity:1\"/>\n",
       "<path class=\"bond-3 atom-3 atom-4\" d=\"M 215.9,136.1 L 219.8,127.2\" style=\"fill:none;fill-rule:evenodd;stroke:#000000;stroke-width:1.0px;stroke-linecap:butt;stroke-linejoin:miter;stroke-opacity:1\"/>\n",
       "<path class=\"bond-3 atom-3 atom-4\" d=\"M 212.6,135.1 L 216.8,125.4\" style=\"fill:none;fill-rule:evenodd;stroke:#000000;stroke-width:1.0px;stroke-linecap:butt;stroke-linejoin:miter;stroke-opacity:1\"/>\n",
       "<path class=\"bond-4 atom-3 atom-5\" d=\"M 256.0,148.4 L 276.2,80.8\" style=\"fill:none;fill-rule:evenodd;stroke:#000000;stroke-width:2.0px;stroke-linecap:butt;stroke-linejoin:miter;stroke-opacity:1\"/>\n",
       "<path class=\"bond-5 atom-5 atom-6\" d=\"M 276.2,80.8 L 330.7,95.3\" style=\"fill:none;fill-rule:evenodd;stroke:#000000;stroke-width:2.0px;stroke-linecap:butt;stroke-linejoin:miter;stroke-opacity:1\"/>\n",
       "<path class=\"bond-6 atom-5 atom-7\" d=\"M 276.2,80.8 L 311.8,44.0\" style=\"fill:none;fill-rule:evenodd;stroke:#000000;stroke-width:2.0px;stroke-linecap:butt;stroke-linejoin:miter;stroke-opacity:1\"/>\n",
       "<path class=\"bond-7 atom-5 atom-8\" d=\"M 276.2,80.8 L 238.7,43.9\" style=\"fill:none;fill-rule:evenodd;stroke:#000000;stroke-width:2.0px;stroke-linecap:butt;stroke-linejoin:miter;stroke-opacity:1\"/>\n",
       "<path class=\"bond-8 atom-3 atom-9\" d=\"M 256.0,148.4 L 235.5,166.3\" style=\"fill:none;fill-rule:evenodd;stroke:#000000;stroke-width:2.0px;stroke-linecap:butt;stroke-linejoin:miter;stroke-opacity:1\"/>\n",
       "<path class=\"bond-8 atom-3 atom-9\" d=\"M 235.5,166.3 L 215.0,184.1\" style=\"fill:none;fill-rule:evenodd;stroke:#0000FF;stroke-width:2.0px;stroke-linecap:butt;stroke-linejoin:miter;stroke-opacity:1\"/>\n",
       "<path class=\"bond-9 atom-9 atom-10\" d=\"M 182.8,187.6 L 171.0,175.7\" style=\"fill:none;fill-rule:evenodd;stroke:#0000FF;stroke-width:2.0px;stroke-linecap:butt;stroke-linejoin:miter;stroke-opacity:1\"/>\n",
       "<path class=\"bond-9 atom-9 atom-10\" d=\"M 171.0,175.7 L 159.2,163.8\" style=\"fill:none;fill-rule:evenodd;stroke:#000000;stroke-width:2.0px;stroke-linecap:butt;stroke-linejoin:miter;stroke-opacity:1\"/>\n",
       "<path class=\"bond-10 atom-9 atom-11\" d=\"M 182.8,203.7 L 161.6,208.6\" style=\"fill:none;fill-rule:evenodd;stroke:#0000FF;stroke-width:2.0px;stroke-linecap:butt;stroke-linejoin:miter;stroke-opacity:1\"/>\n",
       "<path class=\"bond-10 atom-9 atom-11\" d=\"M 161.6,208.6 L 140.3,213.5\" style=\"fill:none;fill-rule:evenodd;stroke:#000000;stroke-width:2.0px;stroke-linecap:butt;stroke-linejoin:miter;stroke-opacity:1\"/>\n",
       "<path class=\"bond-11 atom-9 atom-12\" d=\"M 199.3,217.2 L 203.1,235.3\" style=\"fill:none;fill-rule:evenodd;stroke:#0000FF;stroke-width:2.0px;stroke-linecap:butt;stroke-linejoin:miter;stroke-opacity:1\"/>\n",
       "<path class=\"bond-11 atom-9 atom-12\" d=\"M 203.1,235.3 L 206.9,253.4\" style=\"fill:none;fill-rule:evenodd;stroke:#000000;stroke-width:2.0px;stroke-linecap:butt;stroke-linejoin:miter;stroke-opacity:1\"/>\n",
       "<path d=\"M 301.8,201.5 L 302.2,200.2 L 299.9,197.6\" style=\"fill:none;stroke:#000000;stroke-width:2.0px;stroke-linecap:butt;stroke-linejoin:miter;stroke-opacity:1;\"/>\n",
       "<path class=\"atom-0\" d=\"M 266.7 267.3 Q 266.7 260.5, 270.0 256.7 Q 273.4 252.9, 279.7 252.9 Q 286.0 252.9, 289.3 256.7 Q 292.7 260.5, 292.7 267.3 Q 292.7 274.2, 289.3 278.1 Q 285.9 282.0, 279.7 282.0 Q 273.4 282.0, 270.0 278.1 Q 266.7 274.2, 266.7 267.3 M 279.7 278.8 Q 284.0 278.8, 286.3 275.9 Q 288.7 273.0, 288.7 267.3 Q 288.7 261.8, 286.3 259.0 Q 284.0 256.1, 279.7 256.1 Q 275.4 256.1, 273.0 258.9 Q 270.7 261.7, 270.7 267.3 Q 270.7 273.0, 273.0 275.9 Q 275.4 278.8, 279.7 278.8 \" fill=\"#FF0000\"/>\n",
       "<path class=\"atom-0\" d=\"M 296.7 257.6 L 306.4 257.6 L 306.4 259.7 L 296.7 259.7 L 296.7 257.6 \" fill=\"#FF0000\"/>\n",
       "<path class=\"atom-2\" d=\"M 358.2 185.9 Q 358.2 179.1, 361.6 175.3 Q 364.9 171.5, 371.2 171.5 Q 377.5 171.5, 380.9 175.3 Q 384.2 179.1, 384.2 185.9 Q 384.2 192.8, 380.8 196.7 Q 377.4 200.6, 371.2 200.6 Q 365.0 200.6, 361.6 196.7 Q 358.2 192.8, 358.2 185.9 M 371.2 197.4 Q 375.5 197.4, 377.9 194.5 Q 380.2 191.6, 380.2 185.9 Q 380.2 180.3, 377.9 177.5 Q 375.5 174.7, 371.2 174.7 Q 366.9 174.7, 364.5 177.5 Q 362.2 180.3, 362.2 185.9 Q 362.2 191.6, 364.5 194.5 Q 366.9 197.4, 371.2 197.4 \" fill=\"#FF0000\"/>\n",
       "<path class=\"atom-4\" d=\"M 187.9 109.2 L 191.7 109.2 L 191.7 121.2 L 206.2 121.2 L 206.2 109.2 L 210.0 109.2 L 210.0 137.5 L 206.2 137.5 L 206.2 124.4 L 191.7 124.4 L 191.7 137.5 L 187.9 137.5 L 187.9 109.2 \" fill=\"#000000\"/>\n",
       "<path class=\"atom-6\" d=\"M 333.0 84.7 L 336.8 84.7 L 336.8 96.7 L 351.3 96.7 L 351.3 84.7 L 355.2 84.7 L 355.2 113.0 L 351.3 113.0 L 351.3 99.9 L 336.8 99.9 L 336.8 113.0 L 333.0 113.0 L 333.0 84.7 \" fill=\"#000000\"/>\n",
       "<path class=\"atom-7\" d=\"M 314.1 15.9 L 317.9 15.9 L 317.9 27.9 L 332.4 27.9 L 332.4 15.9 L 336.2 15.9 L 336.2 44.2 L 332.4 44.2 L 332.4 31.1 L 317.9 31.1 L 317.9 44.2 L 314.1 44.2 L 314.1 15.9 \" fill=\"#000000\"/>\n",
       "<path class=\"atom-8\" d=\"M 214.2 16.5 L 218.1 16.5 L 218.1 28.5 L 232.6 28.5 L 232.6 16.5 L 236.4 16.5 L 236.4 44.8 L 232.6 44.8 L 232.6 31.7 L 218.1 31.7 L 218.1 44.8 L 214.2 44.8 L 214.2 16.5 \" fill=\"#000000\"/>\n",
       "<path class=\"atom-9\" d=\"M 189.7 186.6 L 198.9 201.6 Q 199.9 203.1, 201.3 205.7 Q 202.8 208.4, 202.9 208.6 L 202.9 186.6 L 206.7 186.6 L 206.7 214.9 L 202.8 214.9 L 192.8 198.5 Q 191.7 196.6, 190.4 194.4 Q 189.2 192.2, 188.9 191.5 L 188.9 214.9 L 185.2 214.9 L 185.2 186.6 L 189.7 186.6 \" fill=\"#0000FF\"/>\n",
       "<path class=\"atom-9\" d=\"M 212.0 191.7 L 217.0 191.7 L 217.0 186.4 L 219.2 186.4 L 219.2 191.7 L 224.3 191.7 L 224.3 193.6 L 219.2 193.6 L 219.2 198.9 L 217.0 198.9 L 217.0 193.6 L 212.0 193.6 L 212.0 191.7 \" fill=\"#0000FF\"/>\n",
       "<path class=\"atom-10\" d=\"M 134.7 136.2 L 138.5 136.2 L 138.5 148.2 L 153.0 148.2 L 153.0 136.2 L 156.9 136.2 L 156.9 164.5 L 153.0 164.5 L 153.0 151.4 L 138.5 151.4 L 138.5 164.5 L 134.7 164.5 L 134.7 136.2 \" fill=\"#000000\"/>\n",
       "<path class=\"atom-11\" d=\"M 115.8 202.4 L 119.6 202.4 L 119.6 214.5 L 134.1 214.5 L 134.1 202.4 L 137.9 202.4 L 137.9 230.7 L 134.1 230.7 L 134.1 217.7 L 119.6 217.7 L 119.6 230.7 L 115.8 230.7 L 115.8 202.4 \" fill=\"#000000\"/>\n",
       "<path class=\"atom-12\" d=\"M 199.2 255.8 L 203.1 255.8 L 203.1 267.8 L 217.5 267.8 L 217.5 255.8 L 221.4 255.8 L 221.4 284.1 L 217.5 284.1 L 217.5 271.0 L 203.1 271.0 L 203.1 284.1 L 199.2 284.1 L 199.2 255.8 \" fill=\"#000000\"/>\n",
       "</svg>"
      ],
      "text/plain": [
       "<IPython.core.display.SVG object>"
      ]
     },
     "execution_count": 8,
     "metadata": {},
     "output_type": "execute_result"
    }
   ],
   "source": [
    "by_hand = Molecule()\n",
    "by_hand.name = \"Zwitterionic l-Alanine\"\n",
    "\n",
    "by_hand.add_atom(\n",
    "    atomic_number=8,  # Atomic number 8 is Oxygen\n",
    "    formal_charge=-1,  # Formal negative charge\n",
    "    is_aromatic=False,  # Atom is not part of an aromatic system\n",
    "    stereochemistry=None,  # Optional argument; \"R\" or \"S\" stereochemistry\n",
    "    name=\"O-\",  # Optional argument; descriptive name for the atom\n",
    ")\n",
    "by_hand.add_atom(6, 0, False, name=\"C\")\n",
    "by_hand.add_atom(8, 0, False, name=\"O\")\n",
    "by_hand.add_atom(6, 0, False, stereochemistry=\"S\", name=\"CA\")\n",
    "by_hand.add_atom(1, 0, False, name=\"CAH\")\n",
    "by_hand.add_atom(6, 0, False, name=\"CB\")\n",
    "by_hand.add_atom(1, 0, False, name=\"HB1\")\n",
    "by_hand.add_atom(1, 0, False, name=\"HB2\")\n",
    "by_hand.add_atom(1, 0, False, name=\"HB3\")\n",
    "by_hand.add_atom(7, +1, False, name=\"N+\")\n",
    "by_hand.add_atom(1, 0, False, name=\"HN1\")\n",
    "by_hand.add_atom(1, 0, False, name=\"HN2\")\n",
    "by_hand.add_atom(1, 0, False, name=\"HN3\")\n",
    "\n",
    "\n",
    "by_hand.add_bond(\n",
    "    atom1=0,  # First (zero-indexed) atom specified above (\"O-\")\n",
    "    atom2=1,  # Second atom specified above (\"C\")\n",
    "    bond_order=1,  # Single bond\n",
    "    is_aromatic=False,  # Bond is not aromatic\n",
    "    stereochemistry=None,  # Optional argument; \"E\" or \"Z\" stereochemistry\n",
    "    fractional_bond_order=None,  # Optional argument; Wiberg (or similar) bond order\n",
    ")\n",
    "by_hand.add_bond(1, 2, 2, False)  # C = O\n",
    "by_hand.add_bond(1, 3, 1, False)  # C - CA\n",
    "by_hand.add_bond(3, 4, 1, False)  # CA - CAH\n",
    "by_hand.add_bond(3, 5, 1, False)  # CA - CB\n",
    "by_hand.add_bond(5, 6, 1, False)  # CB - HB1\n",
    "by_hand.add_bond(5, 7, 1, False)  # CB - HB2\n",
    "by_hand.add_bond(5, 8, 1, False)  # CB - HB3\n",
    "by_hand.add_bond(3, 9, 1, False)  # CB - N+\n",
    "by_hand.add_bond(9, 10, 1, False)  # N+ - HN1\n",
    "by_hand.add_bond(9, 11, 1, False)  # N+ - HN2\n",
    "by_hand.add_bond(9, 12, 1, False)  # N+ - HN3\n",
    "\n",
    "assert zw_l_alanine.is_isomorphic_with(by_hand)\n",
    "\n",
    "by_hand.visualize()"
   ]
  },
  {
   "cell_type": "markdown",
   "id": "15931dd9",
   "metadata": {},
   "source": [
    "### From a dictionary\n",
    "\n",
    "Rather than build up the `Molecule` one method at a time, the [`Molecule.from_dict()`](openff.toolkit.topology.Molecule.from_dict) method can construct a `Molecule` in one shot from a Python `dict` that describes the molecule in question. This allows `Molecule` objects to be written to and read from disk in any format that can be interpreted as a `dict`; this mechanism underlies the [`from_bson()`](openff.toolkit.topology.Molecule.from_bson), [`from_json()`](openff.toolkit.topology.Molecule.from_json), [`from_messagepack()`](openff.toolkit.topology.Molecule.from_messagepack), [`from_pickle()`](openff.toolkit.topology.Molecule.from_pickle), [`from_toml()`](openff.toolkit.topology.Molecule.from_toml), [`from_xml()`](openff.toolkit.topology.Molecule.from_xml), and [`from_yaml()`](openff.toolkit.topology.Molecule.from_yaml) methods.\n",
    "\n",
    "This format can get very verbose, as it is intended for serialization, so this example uses hydrogen cyanide rather than alanine."
   ]
  },
  {
   "cell_type": "code",
   "execution_count": 9,
   "id": "dc756a7f",
   "metadata": {},
   "outputs": [
    {
     "data": {
      "image/svg+xml": [
       "<svg xmlns=\"http://www.w3.org/2000/svg\" xmlns:rdkit=\"http://www.rdkit.org/xml\" xmlns:xlink=\"http://www.w3.org/1999/xlink\" version=\"1.1\" baseProfile=\"full\" xml:space=\"preserve\" width=\"500px\" height=\"300px\" viewBox=\"0 0 500 300\">\n",
       "<!-- END OF HEADER -->\n",
       "<rect style=\"opacity:1.0;fill:#FFFFFF;stroke:none\" width=\"500.0\" height=\"300.0\" x=\"0.0\" y=\"0.0\"> </rect>\n",
       "<path class=\"bond-0 atom-0 atom-1\" d=\"M 102.3,235.1 L 250.2,150.4\" style=\"fill:none;fill-rule:evenodd;stroke:#000000;stroke-width:2.0px;stroke-linecap:butt;stroke-linejoin:miter;stroke-opacity:1\"/>\n",
       "<path class=\"bond-1 atom-1 atom-2\" d=\"M 250.2,150.4 L 324.3,108.0\" style=\"fill:none;fill-rule:evenodd;stroke:#000000;stroke-width:2.0px;stroke-linecap:butt;stroke-linejoin:miter;stroke-opacity:1\"/>\n",
       "<path class=\"bond-1 atom-1 atom-2\" d=\"M 324.3,108.0 L 398.3,65.6\" style=\"fill:none;fill-rule:evenodd;stroke:#0000FF;stroke-width:2.0px;stroke-linecap:butt;stroke-linejoin:miter;stroke-opacity:1\"/>\n",
       "<path class=\"bond-1 atom-1 atom-2\" d=\"M 236.0,125.7 L 310.1,83.2\" style=\"fill:none;fill-rule:evenodd;stroke:#000000;stroke-width:2.0px;stroke-linecap:butt;stroke-linejoin:miter;stroke-opacity:1\"/>\n",
       "<path class=\"bond-1 atom-1 atom-2\" d=\"M 310.1,83.2 L 384.2,40.8\" style=\"fill:none;fill-rule:evenodd;stroke:#0000FF;stroke-width:2.0px;stroke-linecap:butt;stroke-linejoin:miter;stroke-opacity:1\"/>\n",
       "<path class=\"bond-1 atom-1 atom-2\" d=\"M 264.4,175.2 L 338.4,132.8\" style=\"fill:none;fill-rule:evenodd;stroke:#000000;stroke-width:2.0px;stroke-linecap:butt;stroke-linejoin:miter;stroke-opacity:1\"/>\n",
       "<path class=\"bond-1 atom-1 atom-2\" d=\"M 338.4,132.8 L 412.5,90.4\" style=\"fill:none;fill-rule:evenodd;stroke:#0000FF;stroke-width:2.0px;stroke-linecap:butt;stroke-linejoin:miter;stroke-opacity:1\"/>\n",
       "<path d=\"M 242.8,154.7 L 250.2,150.4 L 253.9,148.3\" style=\"fill:none;stroke:#000000;stroke-width:2.0px;stroke-linecap:butt;stroke-linejoin:miter;stroke-opacity:1;\"/>\n",
       "<path class=\"atom-0\" d=\"M 73.9 230.8 L 77.7 230.8 L 77.7 242.9 L 92.2 242.9 L 92.2 230.8 L 96.1 230.8 L 96.1 259.2 L 92.2 259.2 L 92.2 246.1 L 77.7 246.1 L 77.7 259.2 L 73.9 259.2 L 73.9 230.8 \" fill=\"#000000\"/>\n",
       "<path class=\"atom-2\" d=\"M 409.1 41.7 L 418.4 56.7 Q 419.3 58.2, 420.8 60.9 Q 422.3 63.5, 422.3 63.7 L 422.3 41.7 L 426.1 41.7 L 426.1 70.0 L 422.2 70.0 L 412.3 53.6 Q 411.1 51.7, 409.9 49.5 Q 408.7 47.3, 408.3 46.6 L 408.3 70.0 L 404.6 70.0 L 404.6 41.7 L 409.1 41.7 \" fill=\"#0000FF\"/>\n",
       "</svg>"
      ],
      "text/plain": [
       "<IPython.core.display.SVG object>"
      ]
     },
     "execution_count": 9,
     "metadata": {},
     "output_type": "execute_result"
    }
   ],
   "source": [
    "molecule_dict = {\n",
    "    \"name\": \"\",\n",
    "    \"atoms\": [\n",
    "        {\n",
    "            \"atomic_number\": 1,\n",
    "            \"formal_charge\": 0,\n",
    "            \"is_aromatic\": False,\n",
    "            \"stereochemistry\": None,\n",
    "            \"name\": \"H\",\n",
    "        },\n",
    "        {\n",
    "            \"atomic_number\": 6,\n",
    "            \"formal_charge\": 0,\n",
    "            \"is_aromatic\": False,\n",
    "            \"stereochemistry\": None,\n",
    "            \"name\": \"C\",\n",
    "        },\n",
    "        {\n",
    "            \"atomic_number\": 7,\n",
    "            \"formal_charge\": 0,\n",
    "            \"is_aromatic\": False,\n",
    "            \"stereochemistry\": None,\n",
    "            \"name\": \"N\",\n",
    "        },\n",
    "    ],\n",
    "    \"virtual_sites\": [],\n",
    "    \"bonds\": [\n",
    "        {\n",
    "            \"atom1\": 0,\n",
    "            \"atom2\": 1,\n",
    "            \"bond_order\": 1,\n",
    "            \"is_aromatic\": False,\n",
    "            \"stereochemistry\": None,\n",
    "            \"fractional_bond_order\": None,\n",
    "        },\n",
    "        {\n",
    "            \"atom1\": 1,\n",
    "            \"atom2\": 2,\n",
    "            \"bond_order\": 3,\n",
    "            \"is_aromatic\": False,\n",
    "            \"stereochemistry\": None,\n",
    "            \"fractional_bond_order\": None,\n",
    "        },\n",
    "    ],\n",
    "    \"properties\": {},\n",
    "    \"conformers\": None,\n",
    "    \"partial_charges\": None,\n",
    "    \"partial_charges_unit\": None,\n",
    "    \"hierarchy_schemes\": {},\n",
    "}\n",
    "\n",
    "from_dictionary = Molecule.from_dict(molecule_dict)\n",
    "\n",
    "from_dictionary.visualize()"
   ]
  },
  {
   "cell_type": "markdown",
   "id": "1b50a800",
   "metadata": {},
   "source": [
    "## From a file\n",
    "\n",
    "We can construct a `Molecule` from a file or file-like object with the [`from_file()`](openff.toolkit.topology.Molecule.from_file) method. We're a bit constrained in what file formats we can accept, because they need to provide all the information needed to construct the molecular graph; not just coordinates, but also elements, formal charges, bond orders, and stereochemistry."
   ]
  },
  {
   "cell_type": "markdown",
   "id": "79aec960",
   "metadata": {},
   "source": [
    "### From SDF file\n",
    "\n",
    "We generally recommend the SDF format. The SDF file used here can be found [on GitHub](https://github.com/openforcefield/openff-toolkit/blob/main/docs/users/zw_l_alanine.sdf)"
   ]
  },
  {
   "cell_type": "code",
   "execution_count": 10,
   "id": "a78e4e0f",
   "metadata": {},
   "outputs": [
    {
     "data": {
      "image/svg+xml": [
       "<svg xmlns=\"http://www.w3.org/2000/svg\" xmlns:rdkit=\"http://www.rdkit.org/xml\" xmlns:xlink=\"http://www.w3.org/1999/xlink\" version=\"1.1\" baseProfile=\"full\" xml:space=\"preserve\" width=\"500px\" height=\"300px\" viewBox=\"0 0 500 300\">\n",
       "<!-- END OF HEADER -->\n",
       "<rect style=\"opacity:1.0;fill:#FFFFFF;stroke:none\" width=\"500.0\" height=\"300.0\" x=\"0.0\" y=\"0.0\"> </rect>\n",
       "<path class=\"bond-0 atom-0 atom-1\" d=\"M 276.2,80.8 L 256.0,148.4\" style=\"fill:none;fill-rule:evenodd;stroke:#000000;stroke-width:2.0px;stroke-linecap:butt;stroke-linejoin:miter;stroke-opacity:1\"/>\n",
       "<path class=\"bond-1 atom-1 atom-2\" d=\"M 256.0,148.4 L 235.5,166.3\" style=\"fill:none;fill-rule:evenodd;stroke:#000000;stroke-width:2.0px;stroke-linecap:butt;stroke-linejoin:miter;stroke-opacity:1\"/>\n",
       "<path class=\"bond-1 atom-1 atom-2\" d=\"M 235.5,166.3 L 215.0,184.1\" style=\"fill:none;fill-rule:evenodd;stroke:#0000FF;stroke-width:2.0px;stroke-linecap:butt;stroke-linejoin:miter;stroke-opacity:1\"/>\n",
       "<path class=\"bond-2 atom-1 atom-3\" d=\"M 256.0,148.4 L 302.2,200.2\" style=\"fill:none;fill-rule:evenodd;stroke:#000000;stroke-width:2.0px;stroke-linecap:butt;stroke-linejoin:miter;stroke-opacity:1\"/>\n",
       "<path class=\"bond-3 atom-3 atom-4\" d=\"M 302.2,200.2 L 293.8,225.4\" style=\"fill:none;fill-rule:evenodd;stroke:#000000;stroke-width:2.0px;stroke-linecap:butt;stroke-linejoin:miter;stroke-opacity:1\"/>\n",
       "<path class=\"bond-3 atom-3 atom-4\" d=\"M 293.8,225.4 L 285.3,250.6\" style=\"fill:none;fill-rule:evenodd;stroke:#FF0000;stroke-width:2.0px;stroke-linecap:butt;stroke-linejoin:miter;stroke-opacity:1\"/>\n",
       "<path class=\"bond-4 atom-3 atom-5\" d=\"M 300.3,206.1 L 328.6,200.1\" style=\"fill:none;fill-rule:evenodd;stroke:#000000;stroke-width:2.0px;stroke-linecap:butt;stroke-linejoin:miter;stroke-opacity:1\"/>\n",
       "<path class=\"bond-4 atom-3 atom-5\" d=\"M 328.6,200.1 L 357.0,194.2\" style=\"fill:none;fill-rule:evenodd;stroke:#FF0000;stroke-width:2.0px;stroke-linecap:butt;stroke-linejoin:miter;stroke-opacity:1\"/>\n",
       "<path class=\"bond-4 atom-3 atom-5\" d=\"M 298.2,195.7 L 326.5,189.8\" style=\"fill:none;fill-rule:evenodd;stroke:#000000;stroke-width:2.0px;stroke-linecap:butt;stroke-linejoin:miter;stroke-opacity:1\"/>\n",
       "<path class=\"bond-4 atom-3 atom-5\" d=\"M 326.5,189.8 L 354.8,183.8\" style=\"fill:none;fill-rule:evenodd;stroke:#FF0000;stroke-width:2.0px;stroke-linecap:butt;stroke-linejoin:miter;stroke-opacity:1\"/>\n",
       "<path class=\"bond-5 atom-0 atom-6\" d=\"M 276.2,80.8 L 330.7,95.3\" style=\"fill:none;fill-rule:evenodd;stroke:#000000;stroke-width:2.0px;stroke-linecap:butt;stroke-linejoin:miter;stroke-opacity:1\"/>\n",
       "<path class=\"bond-6 atom-0 atom-7\" d=\"M 276.2,80.8 L 311.8,44.0\" style=\"fill:none;fill-rule:evenodd;stroke:#000000;stroke-width:2.0px;stroke-linecap:butt;stroke-linejoin:miter;stroke-opacity:1\"/>\n",
       "<path class=\"bond-7 atom-0 atom-8\" d=\"M 276.2,80.8 L 238.7,43.9\" style=\"fill:none;fill-rule:evenodd;stroke:#000000;stroke-width:2.0px;stroke-linecap:butt;stroke-linejoin:miter;stroke-opacity:1\"/>\n",
       "<path class=\"bond-8 atom-1 atom-9\" d=\"M 252.7,147.4 L 253.0,146.7\" style=\"fill:none;fill-rule:evenodd;stroke:#000000;stroke-width:1.0px;stroke-linecap:butt;stroke-linejoin:miter;stroke-opacity:1\"/>\n",
       "<path class=\"bond-8 atom-1 atom-9\" d=\"M 249.3,146.4 L 250.0,144.9\" style=\"fill:none;fill-rule:evenodd;stroke:#000000;stroke-width:1.0px;stroke-linecap:butt;stroke-linejoin:miter;stroke-opacity:1\"/>\n",
       "<path class=\"bond-8 atom-1 atom-9\" d=\"M 246.0,145.4 L 247.0,143.1\" style=\"fill:none;fill-rule:evenodd;stroke:#000000;stroke-width:1.0px;stroke-linecap:butt;stroke-linejoin:miter;stroke-opacity:1\"/>\n",
       "<path class=\"bond-8 atom-1 atom-9\" d=\"M 242.6,144.3 L 243.9,141.3\" style=\"fill:none;fill-rule:evenodd;stroke:#000000;stroke-width:1.0px;stroke-linecap:butt;stroke-linejoin:miter;stroke-opacity:1\"/>\n",
       "<path class=\"bond-8 atom-1 atom-9\" d=\"M 239.3,143.3 L 240.9,139.6\" style=\"fill:none;fill-rule:evenodd;stroke:#000000;stroke-width:1.0px;stroke-linecap:butt;stroke-linejoin:miter;stroke-opacity:1\"/>\n",
       "<path class=\"bond-8 atom-1 atom-9\" d=\"M 235.9,142.3 L 237.9,137.8\" style=\"fill:none;fill-rule:evenodd;stroke:#000000;stroke-width:1.0px;stroke-linecap:butt;stroke-linejoin:miter;stroke-opacity:1\"/>\n",
       "<path class=\"bond-8 atom-1 atom-9\" d=\"M 232.6,141.3 L 234.9,136.0\" style=\"fill:none;fill-rule:evenodd;stroke:#000000;stroke-width:1.0px;stroke-linecap:butt;stroke-linejoin:miter;stroke-opacity:1\"/>\n",
       "<path class=\"bond-8 atom-1 atom-9\" d=\"M 229.3,140.2 L 231.9,134.3\" style=\"fill:none;fill-rule:evenodd;stroke:#000000;stroke-width:1.0px;stroke-linecap:butt;stroke-linejoin:miter;stroke-opacity:1\"/>\n",
       "<path class=\"bond-8 atom-1 atom-9\" d=\"M 225.9,139.2 L 228.9,132.5\" style=\"fill:none;fill-rule:evenodd;stroke:#000000;stroke-width:1.0px;stroke-linecap:butt;stroke-linejoin:miter;stroke-opacity:1\"/>\n",
       "<path class=\"bond-8 atom-1 atom-9\" d=\"M 222.6,138.2 L 225.9,130.7\" style=\"fill:none;fill-rule:evenodd;stroke:#000000;stroke-width:1.0px;stroke-linecap:butt;stroke-linejoin:miter;stroke-opacity:1\"/>\n",
       "<path class=\"bond-8 atom-1 atom-9\" d=\"M 219.2,137.2 L 222.9,128.9\" style=\"fill:none;fill-rule:evenodd;stroke:#000000;stroke-width:1.0px;stroke-linecap:butt;stroke-linejoin:miter;stroke-opacity:1\"/>\n",
       "<path class=\"bond-8 atom-1 atom-9\" d=\"M 215.9,136.1 L 219.8,127.2\" style=\"fill:none;fill-rule:evenodd;stroke:#000000;stroke-width:1.0px;stroke-linecap:butt;stroke-linejoin:miter;stroke-opacity:1\"/>\n",
       "<path class=\"bond-8 atom-1 atom-9\" d=\"M 212.6,135.1 L 216.8,125.4\" style=\"fill:none;fill-rule:evenodd;stroke:#000000;stroke-width:1.0px;stroke-linecap:butt;stroke-linejoin:miter;stroke-opacity:1\"/>\n",
       "<path class=\"bond-9 atom-2 atom-10\" d=\"M 182.8,187.6 L 171.0,175.7\" style=\"fill:none;fill-rule:evenodd;stroke:#0000FF;stroke-width:2.0px;stroke-linecap:butt;stroke-linejoin:miter;stroke-opacity:1\"/>\n",
       "<path class=\"bond-9 atom-2 atom-10\" d=\"M 171.0,175.7 L 159.2,163.8\" style=\"fill:none;fill-rule:evenodd;stroke:#000000;stroke-width:2.0px;stroke-linecap:butt;stroke-linejoin:miter;stroke-opacity:1\"/>\n",
       "<path class=\"bond-10 atom-2 atom-11\" d=\"M 182.8,203.7 L 161.6,208.6\" style=\"fill:none;fill-rule:evenodd;stroke:#0000FF;stroke-width:2.0px;stroke-linecap:butt;stroke-linejoin:miter;stroke-opacity:1\"/>\n",
       "<path class=\"bond-10 atom-2 atom-11\" d=\"M 161.6,208.6 L 140.3,213.5\" style=\"fill:none;fill-rule:evenodd;stroke:#000000;stroke-width:2.0px;stroke-linecap:butt;stroke-linejoin:miter;stroke-opacity:1\"/>\n",
       "<path class=\"bond-11 atom-2 atom-12\" d=\"M 199.3,217.2 L 203.1,235.3\" style=\"fill:none;fill-rule:evenodd;stroke:#0000FF;stroke-width:2.0px;stroke-linecap:butt;stroke-linejoin:miter;stroke-opacity:1\"/>\n",
       "<path class=\"bond-11 atom-2 atom-12\" d=\"M 203.1,235.3 L 206.9,253.4\" style=\"fill:none;fill-rule:evenodd;stroke:#000000;stroke-width:2.0px;stroke-linecap:butt;stroke-linejoin:miter;stroke-opacity:1\"/>\n",
       "<path d=\"M 299.9,197.6 L 302.2,200.2 L 301.8,201.5\" style=\"fill:none;stroke:#000000;stroke-width:2.0px;stroke-linecap:butt;stroke-linejoin:miter;stroke-opacity:1;\"/>\n",
       "<path class=\"atom-2\" d=\"M 189.7 186.6 L 198.9 201.6 Q 199.9 203.1, 201.3 205.7 Q 202.8 208.4, 202.9 208.6 L 202.9 186.6 L 206.7 186.6 L 206.7 214.9 L 202.8 214.9 L 192.8 198.5 Q 191.7 196.6, 190.4 194.4 Q 189.2 192.2, 188.9 191.5 L 188.9 214.9 L 185.2 214.9 L 185.2 186.6 L 189.7 186.6 \" fill=\"#0000FF\"/>\n",
       "<path class=\"atom-2\" d=\"M 212.0 191.7 L 217.0 191.7 L 217.0 186.4 L 219.2 186.4 L 219.2 191.7 L 224.3 191.7 L 224.3 193.6 L 219.2 193.6 L 219.2 198.9 L 217.0 198.9 L 217.0 193.6 L 212.0 193.6 L 212.0 191.7 \" fill=\"#0000FF\"/>\n",
       "<path class=\"atom-4\" d=\"M 266.7 267.3 Q 266.7 260.5, 270.0 256.7 Q 273.4 252.9, 279.7 252.9 Q 286.0 252.9, 289.3 256.7 Q 292.7 260.5, 292.7 267.3 Q 292.7 274.2, 289.3 278.1 Q 285.9 282.0, 279.7 282.0 Q 273.4 282.0, 270.0 278.1 Q 266.7 274.2, 266.7 267.3 M 279.7 278.8 Q 284.0 278.8, 286.3 275.9 Q 288.7 273.0, 288.7 267.3 Q 288.7 261.8, 286.3 259.0 Q 284.0 256.1, 279.7 256.1 Q 275.4 256.1, 273.0 258.9 Q 270.7 261.7, 270.7 267.3 Q 270.7 273.0, 273.0 275.9 Q 275.4 278.8, 279.7 278.8 \" fill=\"#FF0000\"/>\n",
       "<path class=\"atom-4\" d=\"M 296.7 257.6 L 306.4 257.6 L 306.4 259.7 L 296.7 259.7 L 296.7 257.6 \" fill=\"#FF0000\"/>\n",
       "<path class=\"atom-5\" d=\"M 358.2 185.9 Q 358.2 179.1, 361.6 175.3 Q 364.9 171.5, 371.2 171.5 Q 377.5 171.5, 380.9 175.3 Q 384.2 179.1, 384.2 185.9 Q 384.2 192.8, 380.8 196.7 Q 377.4 200.6, 371.2 200.6 Q 365.0 200.6, 361.6 196.7 Q 358.2 192.8, 358.2 185.9 M 371.2 197.4 Q 375.5 197.4, 377.9 194.5 Q 380.2 191.6, 380.2 185.9 Q 380.2 180.3, 377.9 177.5 Q 375.5 174.7, 371.2 174.7 Q 366.9 174.7, 364.5 177.5 Q 362.2 180.3, 362.2 185.9 Q 362.2 191.6, 364.5 194.5 Q 366.9 197.4, 371.2 197.4 \" fill=\"#FF0000\"/>\n",
       "<path class=\"atom-6\" d=\"M 333.0 84.7 L 336.8 84.7 L 336.8 96.7 L 351.3 96.7 L 351.3 84.7 L 355.2 84.7 L 355.2 113.0 L 351.3 113.0 L 351.3 99.9 L 336.8 99.9 L 336.8 113.0 L 333.0 113.0 L 333.0 84.7 \" fill=\"#000000\"/>\n",
       "<path class=\"atom-7\" d=\"M 314.1 15.9 L 317.9 15.9 L 317.9 27.9 L 332.4 27.9 L 332.4 15.9 L 336.2 15.9 L 336.2 44.2 L 332.4 44.2 L 332.4 31.1 L 317.9 31.1 L 317.9 44.2 L 314.1 44.2 L 314.1 15.9 \" fill=\"#000000\"/>\n",
       "<path class=\"atom-8\" d=\"M 214.2 16.5 L 218.1 16.5 L 218.1 28.5 L 232.6 28.5 L 232.6 16.5 L 236.4 16.5 L 236.4 44.8 L 232.6 44.8 L 232.6 31.7 L 218.1 31.7 L 218.1 44.8 L 214.2 44.8 L 214.2 16.5 \" fill=\"#000000\"/>\n",
       "<path class=\"atom-9\" d=\"M 187.9 109.2 L 191.7 109.2 L 191.7 121.2 L 206.2 121.2 L 206.2 109.2 L 210.0 109.2 L 210.0 137.5 L 206.2 137.5 L 206.2 124.4 L 191.7 124.4 L 191.7 137.5 L 187.9 137.5 L 187.9 109.2 \" fill=\"#000000\"/>\n",
       "<path class=\"atom-10\" d=\"M 134.7 136.2 L 138.5 136.2 L 138.5 148.2 L 153.0 148.2 L 153.0 136.2 L 156.9 136.2 L 156.9 164.5 L 153.0 164.5 L 153.0 151.4 L 138.5 151.4 L 138.5 164.5 L 134.7 164.5 L 134.7 136.2 \" fill=\"#000000\"/>\n",
       "<path class=\"atom-11\" d=\"M 115.8 202.4 L 119.6 202.4 L 119.6 214.5 L 134.1 214.5 L 134.1 202.4 L 137.9 202.4 L 137.9 230.7 L 134.1 230.7 L 134.1 217.7 L 119.6 217.7 L 119.6 230.7 L 115.8 230.7 L 115.8 202.4 \" fill=\"#000000\"/>\n",
       "<path class=\"atom-12\" d=\"M 199.2 255.8 L 203.1 255.8 L 203.1 267.8 L 217.5 267.8 L 217.5 255.8 L 221.4 255.8 L 221.4 284.1 L 217.5 284.1 L 217.5 271.0 L 203.1 271.0 L 203.1 284.1 L 199.2 284.1 L 199.2 255.8 \" fill=\"#000000\"/>\n",
       "</svg>"
      ],
      "text/plain": [
       "<IPython.core.display.SVG object>"
      ]
     },
     "execution_count": 10,
     "metadata": {},
     "output_type": "execute_result"
    }
   ],
   "source": [
    "sdf_path = Molecule.from_file(\"zw_l_alanine.sdf\")\n",
    "assert zw_l_alanine.is_isomorphic_with(sdf_path)\n",
    "sdf_path.visualize()"
   ]
  },
  {
   "cell_type": "markdown",
   "id": "3508a6ed",
   "metadata": {},
   "source": [
    "### From SDF file object\n",
    "\n",
    "`from_file()` can also take a file object, rather than a path. Note that the object must be in binary mode!"
   ]
  },
  {
   "cell_type": "code",
   "execution_count": 11,
   "id": "1cecd71c",
   "metadata": {},
   "outputs": [
    {
     "data": {
      "image/svg+xml": [
       "<svg xmlns=\"http://www.w3.org/2000/svg\" xmlns:rdkit=\"http://www.rdkit.org/xml\" xmlns:xlink=\"http://www.w3.org/1999/xlink\" version=\"1.1\" baseProfile=\"full\" xml:space=\"preserve\" width=\"500px\" height=\"300px\" viewBox=\"0 0 500 300\">\n",
       "<!-- END OF HEADER -->\n",
       "<rect style=\"opacity:1.0;fill:#FFFFFF;stroke:none\" width=\"500.0\" height=\"300.0\" x=\"0.0\" y=\"0.0\"> </rect>\n",
       "<path class=\"bond-0 atom-0 atom-1\" d=\"M 276.2,80.8 L 256.0,148.4\" style=\"fill:none;fill-rule:evenodd;stroke:#000000;stroke-width:2.0px;stroke-linecap:butt;stroke-linejoin:miter;stroke-opacity:1\"/>\n",
       "<path class=\"bond-1 atom-1 atom-2\" d=\"M 256.0,148.4 L 235.5,166.3\" style=\"fill:none;fill-rule:evenodd;stroke:#000000;stroke-width:2.0px;stroke-linecap:butt;stroke-linejoin:miter;stroke-opacity:1\"/>\n",
       "<path class=\"bond-1 atom-1 atom-2\" d=\"M 235.5,166.3 L 215.0,184.1\" style=\"fill:none;fill-rule:evenodd;stroke:#0000FF;stroke-width:2.0px;stroke-linecap:butt;stroke-linejoin:miter;stroke-opacity:1\"/>\n",
       "<path class=\"bond-2 atom-1 atom-3\" d=\"M 256.0,148.4 L 302.2,200.2\" style=\"fill:none;fill-rule:evenodd;stroke:#000000;stroke-width:2.0px;stroke-linecap:butt;stroke-linejoin:miter;stroke-opacity:1\"/>\n",
       "<path class=\"bond-3 atom-3 atom-4\" d=\"M 302.2,200.2 L 293.8,225.4\" style=\"fill:none;fill-rule:evenodd;stroke:#000000;stroke-width:2.0px;stroke-linecap:butt;stroke-linejoin:miter;stroke-opacity:1\"/>\n",
       "<path class=\"bond-3 atom-3 atom-4\" d=\"M 293.8,225.4 L 285.3,250.6\" style=\"fill:none;fill-rule:evenodd;stroke:#FF0000;stroke-width:2.0px;stroke-linecap:butt;stroke-linejoin:miter;stroke-opacity:1\"/>\n",
       "<path class=\"bond-4 atom-3 atom-5\" d=\"M 300.3,206.1 L 328.6,200.1\" style=\"fill:none;fill-rule:evenodd;stroke:#000000;stroke-width:2.0px;stroke-linecap:butt;stroke-linejoin:miter;stroke-opacity:1\"/>\n",
       "<path class=\"bond-4 atom-3 atom-5\" d=\"M 328.6,200.1 L 357.0,194.2\" style=\"fill:none;fill-rule:evenodd;stroke:#FF0000;stroke-width:2.0px;stroke-linecap:butt;stroke-linejoin:miter;stroke-opacity:1\"/>\n",
       "<path class=\"bond-4 atom-3 atom-5\" d=\"M 298.2,195.7 L 326.5,189.8\" style=\"fill:none;fill-rule:evenodd;stroke:#000000;stroke-width:2.0px;stroke-linecap:butt;stroke-linejoin:miter;stroke-opacity:1\"/>\n",
       "<path class=\"bond-4 atom-3 atom-5\" d=\"M 326.5,189.8 L 354.8,183.8\" style=\"fill:none;fill-rule:evenodd;stroke:#FF0000;stroke-width:2.0px;stroke-linecap:butt;stroke-linejoin:miter;stroke-opacity:1\"/>\n",
       "<path class=\"bond-5 atom-0 atom-6\" d=\"M 276.2,80.8 L 330.7,95.3\" style=\"fill:none;fill-rule:evenodd;stroke:#000000;stroke-width:2.0px;stroke-linecap:butt;stroke-linejoin:miter;stroke-opacity:1\"/>\n",
       "<path class=\"bond-6 atom-0 atom-7\" d=\"M 276.2,80.8 L 311.8,44.0\" style=\"fill:none;fill-rule:evenodd;stroke:#000000;stroke-width:2.0px;stroke-linecap:butt;stroke-linejoin:miter;stroke-opacity:1\"/>\n",
       "<path class=\"bond-7 atom-0 atom-8\" d=\"M 276.2,80.8 L 238.7,43.9\" style=\"fill:none;fill-rule:evenodd;stroke:#000000;stroke-width:2.0px;stroke-linecap:butt;stroke-linejoin:miter;stroke-opacity:1\"/>\n",
       "<path class=\"bond-8 atom-1 atom-9\" d=\"M 252.7,147.4 L 253.0,146.7\" style=\"fill:none;fill-rule:evenodd;stroke:#000000;stroke-width:1.0px;stroke-linecap:butt;stroke-linejoin:miter;stroke-opacity:1\"/>\n",
       "<path class=\"bond-8 atom-1 atom-9\" d=\"M 249.3,146.4 L 250.0,144.9\" style=\"fill:none;fill-rule:evenodd;stroke:#000000;stroke-width:1.0px;stroke-linecap:butt;stroke-linejoin:miter;stroke-opacity:1\"/>\n",
       "<path class=\"bond-8 atom-1 atom-9\" d=\"M 246.0,145.4 L 247.0,143.1\" style=\"fill:none;fill-rule:evenodd;stroke:#000000;stroke-width:1.0px;stroke-linecap:butt;stroke-linejoin:miter;stroke-opacity:1\"/>\n",
       "<path class=\"bond-8 atom-1 atom-9\" d=\"M 242.6,144.3 L 243.9,141.3\" style=\"fill:none;fill-rule:evenodd;stroke:#000000;stroke-width:1.0px;stroke-linecap:butt;stroke-linejoin:miter;stroke-opacity:1\"/>\n",
       "<path class=\"bond-8 atom-1 atom-9\" d=\"M 239.3,143.3 L 240.9,139.6\" style=\"fill:none;fill-rule:evenodd;stroke:#000000;stroke-width:1.0px;stroke-linecap:butt;stroke-linejoin:miter;stroke-opacity:1\"/>\n",
       "<path class=\"bond-8 atom-1 atom-9\" d=\"M 235.9,142.3 L 237.9,137.8\" style=\"fill:none;fill-rule:evenodd;stroke:#000000;stroke-width:1.0px;stroke-linecap:butt;stroke-linejoin:miter;stroke-opacity:1\"/>\n",
       "<path class=\"bond-8 atom-1 atom-9\" d=\"M 232.6,141.3 L 234.9,136.0\" style=\"fill:none;fill-rule:evenodd;stroke:#000000;stroke-width:1.0px;stroke-linecap:butt;stroke-linejoin:miter;stroke-opacity:1\"/>\n",
       "<path class=\"bond-8 atom-1 atom-9\" d=\"M 229.3,140.2 L 231.9,134.3\" style=\"fill:none;fill-rule:evenodd;stroke:#000000;stroke-width:1.0px;stroke-linecap:butt;stroke-linejoin:miter;stroke-opacity:1\"/>\n",
       "<path class=\"bond-8 atom-1 atom-9\" d=\"M 225.9,139.2 L 228.9,132.5\" style=\"fill:none;fill-rule:evenodd;stroke:#000000;stroke-width:1.0px;stroke-linecap:butt;stroke-linejoin:miter;stroke-opacity:1\"/>\n",
       "<path class=\"bond-8 atom-1 atom-9\" d=\"M 222.6,138.2 L 225.9,130.7\" style=\"fill:none;fill-rule:evenodd;stroke:#000000;stroke-width:1.0px;stroke-linecap:butt;stroke-linejoin:miter;stroke-opacity:1\"/>\n",
       "<path class=\"bond-8 atom-1 atom-9\" d=\"M 219.2,137.2 L 222.9,128.9\" style=\"fill:none;fill-rule:evenodd;stroke:#000000;stroke-width:1.0px;stroke-linecap:butt;stroke-linejoin:miter;stroke-opacity:1\"/>\n",
       "<path class=\"bond-8 atom-1 atom-9\" d=\"M 215.9,136.1 L 219.8,127.2\" style=\"fill:none;fill-rule:evenodd;stroke:#000000;stroke-width:1.0px;stroke-linecap:butt;stroke-linejoin:miter;stroke-opacity:1\"/>\n",
       "<path class=\"bond-8 atom-1 atom-9\" d=\"M 212.6,135.1 L 216.8,125.4\" style=\"fill:none;fill-rule:evenodd;stroke:#000000;stroke-width:1.0px;stroke-linecap:butt;stroke-linejoin:miter;stroke-opacity:1\"/>\n",
       "<path class=\"bond-9 atom-2 atom-10\" d=\"M 182.8,187.6 L 171.0,175.7\" style=\"fill:none;fill-rule:evenodd;stroke:#0000FF;stroke-width:2.0px;stroke-linecap:butt;stroke-linejoin:miter;stroke-opacity:1\"/>\n",
       "<path class=\"bond-9 atom-2 atom-10\" d=\"M 171.0,175.7 L 159.2,163.8\" style=\"fill:none;fill-rule:evenodd;stroke:#000000;stroke-width:2.0px;stroke-linecap:butt;stroke-linejoin:miter;stroke-opacity:1\"/>\n",
       "<path class=\"bond-10 atom-2 atom-11\" d=\"M 182.8,203.7 L 161.6,208.6\" style=\"fill:none;fill-rule:evenodd;stroke:#0000FF;stroke-width:2.0px;stroke-linecap:butt;stroke-linejoin:miter;stroke-opacity:1\"/>\n",
       "<path class=\"bond-10 atom-2 atom-11\" d=\"M 161.6,208.6 L 140.3,213.5\" style=\"fill:none;fill-rule:evenodd;stroke:#000000;stroke-width:2.0px;stroke-linecap:butt;stroke-linejoin:miter;stroke-opacity:1\"/>\n",
       "<path class=\"bond-11 atom-2 atom-12\" d=\"M 199.3,217.2 L 203.1,235.3\" style=\"fill:none;fill-rule:evenodd;stroke:#0000FF;stroke-width:2.0px;stroke-linecap:butt;stroke-linejoin:miter;stroke-opacity:1\"/>\n",
       "<path class=\"bond-11 atom-2 atom-12\" d=\"M 203.1,235.3 L 206.9,253.4\" style=\"fill:none;fill-rule:evenodd;stroke:#000000;stroke-width:2.0px;stroke-linecap:butt;stroke-linejoin:miter;stroke-opacity:1\"/>\n",
       "<path d=\"M 299.9,197.6 L 302.2,200.2 L 301.8,201.5\" style=\"fill:none;stroke:#000000;stroke-width:2.0px;stroke-linecap:butt;stroke-linejoin:miter;stroke-opacity:1;\"/>\n",
       "<path class=\"atom-2\" d=\"M 189.7 186.6 L 198.9 201.6 Q 199.9 203.1, 201.3 205.7 Q 202.8 208.4, 202.9 208.6 L 202.9 186.6 L 206.7 186.6 L 206.7 214.9 L 202.8 214.9 L 192.8 198.5 Q 191.7 196.6, 190.4 194.4 Q 189.2 192.2, 188.9 191.5 L 188.9 214.9 L 185.2 214.9 L 185.2 186.6 L 189.7 186.6 \" fill=\"#0000FF\"/>\n",
       "<path class=\"atom-2\" d=\"M 212.0 191.7 L 217.0 191.7 L 217.0 186.4 L 219.2 186.4 L 219.2 191.7 L 224.3 191.7 L 224.3 193.6 L 219.2 193.6 L 219.2 198.9 L 217.0 198.9 L 217.0 193.6 L 212.0 193.6 L 212.0 191.7 \" fill=\"#0000FF\"/>\n",
       "<path class=\"atom-4\" d=\"M 266.7 267.3 Q 266.7 260.5, 270.0 256.7 Q 273.4 252.9, 279.7 252.9 Q 286.0 252.9, 289.3 256.7 Q 292.7 260.5, 292.7 267.3 Q 292.7 274.2, 289.3 278.1 Q 285.9 282.0, 279.7 282.0 Q 273.4 282.0, 270.0 278.1 Q 266.7 274.2, 266.7 267.3 M 279.7 278.8 Q 284.0 278.8, 286.3 275.9 Q 288.7 273.0, 288.7 267.3 Q 288.7 261.8, 286.3 259.0 Q 284.0 256.1, 279.7 256.1 Q 275.4 256.1, 273.0 258.9 Q 270.7 261.7, 270.7 267.3 Q 270.7 273.0, 273.0 275.9 Q 275.4 278.8, 279.7 278.8 \" fill=\"#FF0000\"/>\n",
       "<path class=\"atom-4\" d=\"M 296.7 257.6 L 306.4 257.6 L 306.4 259.7 L 296.7 259.7 L 296.7 257.6 \" fill=\"#FF0000\"/>\n",
       "<path class=\"atom-5\" d=\"M 358.2 185.9 Q 358.2 179.1, 361.6 175.3 Q 364.9 171.5, 371.2 171.5 Q 377.5 171.5, 380.9 175.3 Q 384.2 179.1, 384.2 185.9 Q 384.2 192.8, 380.8 196.7 Q 377.4 200.6, 371.2 200.6 Q 365.0 200.6, 361.6 196.7 Q 358.2 192.8, 358.2 185.9 M 371.2 197.4 Q 375.5 197.4, 377.9 194.5 Q 380.2 191.6, 380.2 185.9 Q 380.2 180.3, 377.9 177.5 Q 375.5 174.7, 371.2 174.7 Q 366.9 174.7, 364.5 177.5 Q 362.2 180.3, 362.2 185.9 Q 362.2 191.6, 364.5 194.5 Q 366.9 197.4, 371.2 197.4 \" fill=\"#FF0000\"/>\n",
       "<path class=\"atom-6\" d=\"M 333.0 84.7 L 336.8 84.7 L 336.8 96.7 L 351.3 96.7 L 351.3 84.7 L 355.2 84.7 L 355.2 113.0 L 351.3 113.0 L 351.3 99.9 L 336.8 99.9 L 336.8 113.0 L 333.0 113.0 L 333.0 84.7 \" fill=\"#000000\"/>\n",
       "<path class=\"atom-7\" d=\"M 314.1 15.9 L 317.9 15.9 L 317.9 27.9 L 332.4 27.9 L 332.4 15.9 L 336.2 15.9 L 336.2 44.2 L 332.4 44.2 L 332.4 31.1 L 317.9 31.1 L 317.9 44.2 L 314.1 44.2 L 314.1 15.9 \" fill=\"#000000\"/>\n",
       "<path class=\"atom-8\" d=\"M 214.2 16.5 L 218.1 16.5 L 218.1 28.5 L 232.6 28.5 L 232.6 16.5 L 236.4 16.5 L 236.4 44.8 L 232.6 44.8 L 232.6 31.7 L 218.1 31.7 L 218.1 44.8 L 214.2 44.8 L 214.2 16.5 \" fill=\"#000000\"/>\n",
       "<path class=\"atom-9\" d=\"M 187.9 109.2 L 191.7 109.2 L 191.7 121.2 L 206.2 121.2 L 206.2 109.2 L 210.0 109.2 L 210.0 137.5 L 206.2 137.5 L 206.2 124.4 L 191.7 124.4 L 191.7 137.5 L 187.9 137.5 L 187.9 109.2 \" fill=\"#000000\"/>\n",
       "<path class=\"atom-10\" d=\"M 134.7 136.2 L 138.5 136.2 L 138.5 148.2 L 153.0 148.2 L 153.0 136.2 L 156.9 136.2 L 156.9 164.5 L 153.0 164.5 L 153.0 151.4 L 138.5 151.4 L 138.5 164.5 L 134.7 164.5 L 134.7 136.2 \" fill=\"#000000\"/>\n",
       "<path class=\"atom-11\" d=\"M 115.8 202.4 L 119.6 202.4 L 119.6 214.5 L 134.1 214.5 L 134.1 202.4 L 137.9 202.4 L 137.9 230.7 L 134.1 230.7 L 134.1 217.7 L 119.6 217.7 L 119.6 230.7 L 115.8 230.7 L 115.8 202.4 \" fill=\"#000000\"/>\n",
       "<path class=\"atom-12\" d=\"M 199.2 255.8 L 203.1 255.8 L 203.1 267.8 L 217.5 267.8 L 217.5 255.8 L 221.4 255.8 L 221.4 284.1 L 217.5 284.1 L 217.5 271.0 L 203.1 271.0 L 203.1 284.1 L 199.2 284.1 L 199.2 255.8 \" fill=\"#000000\"/>\n",
       "</svg>"
      ],
      "text/plain": [
       "<IPython.core.display.SVG object>"
      ]
     },
     "execution_count": 11,
     "metadata": {},
     "output_type": "execute_result"
    }
   ],
   "source": [
    "with open(\"zw_l_alanine.sdf\", mode=\"rb\") as file:\n",
    "    sdf_object = Molecule.from_file(file, file_format=\"SDF\")\n",
    "\n",
    "assert zw_l_alanine.is_isomorphic_with(sdf_object)\n",
    "sdf_object.visualize()"
   ]
  },
  {
   "cell_type": "markdown",
   "id": "2554b932",
   "metadata": {},
   "source": [
    "### From PDB file\n",
    "\n",
    "The [`Topology.from_pdb()`] method is now the recommended method for loading all PDB files. It can interpret proteins, waters, ions, and small molecules from a PDB file as a Topology. It can infer the full chemical graph of the canonical amino acids (26 including protonation states) in capped and uncapped forms. It does this according to the [RCSB chemical component dictionary] --- the information is not explicitly in the input PDB file. The following block loads a PDB file containing a single protein.\n",
    "\n",
    "[`Topology.from_pdb()`]: openff.toolkit.topology.Topology.from_pdb\n",
    "[RCSB chemical component dictionary]: https://www.wwpdb.org/data/ccd"
   ]
  },
  {
   "cell_type": "code",
   "execution_count": 12,
   "id": "4f9d71e7",
   "metadata": {},
   "outputs": [
    {
     "data": {
      "application/vnd.jupyter.widget-view+json": {
       "model_id": "5d08b105320340ceb90e658c5ba52eb4",
       "version_major": 2,
       "version_minor": 0
      },
      "text/plain": []
     },
     "metadata": {},
     "output_type": "display_data"
    },
    {
     "data": {
      "application/vnd.jupyter.widget-view+json": {
       "model_id": "29e912d818b642b1a3081678e8b9edcd",
       "version_major": 2,
       "version_minor": 0
      },
      "text/plain": [
       "NGLWidget()"
      ]
     },
     "metadata": {},
     "output_type": "display_data"
    }
   ],
   "source": [
    "from openff.toolkit.utils import get_data_file_path\n",
    "\n",
    "path = get_data_file_path(\"proteins/T4-protein.pdb\")\n",
    "topology = Topology.from_pdb(path)\n",
    "protein = topology.molecule(0)\n",
    "protein.visualize(\"nglview\")"
   ]
  },
  {
   "cell_type": "markdown",
   "id": "94d1e78f-8311-45b7-94c7-16242fa6865f",
   "metadata": {},
   "source": [
    "The following block loads a PDB containing two small molecules from PDB and SMILES."
   ]
  },
  {
   "cell_type": "code",
   "execution_count": 13,
   "id": "a6e68022-6568-4a7e-9d75-c14224079505",
   "metadata": {
    "tags": []
   },
   "outputs": [
    {
     "data": {
      "application/vnd.jupyter.widget-view+json": {
       "model_id": "e08ee0f6dec44ed4b65d13499c4b58cc",
       "version_major": 2,
       "version_minor": 0
      },
      "text/plain": [
       "NGLWidget()"
      ]
     },
     "metadata": {},
     "output_type": "display_data"
    }
   ],
   "source": [
    "top_from_pdb_from_smiles = Topology.from_pdb(\n",
    "    get_data_file_path(\"molecules/po4_phenylphosphate.pdb\"),\n",
    "    unique_molecules=[\n",
    "        Molecule.from_smiles(\"P(=O)([O-])([O-])([O-])\"),\n",
    "        Molecule.from_smiles(\"C1=CC=CC=C1OP(=O)([O-1])([O-1])\"),\n",
    "    ],\n",
    ")\n",
    "\n",
    "top_from_pdb_from_smiles.molecule(0).visualize(\"nglview\")"
   ]
  },
  {
   "cell_type": "code",
   "execution_count": 14,
   "id": "21bba613-57bb-4ea0-bf87-a4cd6f5c63d5",
   "metadata": {
    "tags": []
   },
   "outputs": [
    {
     "data": {
      "application/vnd.jupyter.widget-view+json": {
       "model_id": "9019b547b62c491ba3526570e28652e5",
       "version_major": 2,
       "version_minor": 0
      },
      "text/plain": [
       "NGLWidget()"
      ]
     },
     "metadata": {},
     "output_type": "display_data"
    }
   ],
   "source": [
    "top_from_pdb_from_smiles.molecule(1).visualize(\"nglview\")"
   ]
  },
  {
   "cell_type": "markdown",
   "id": "5906e016-a198-40ac-b79c-df04097ba17e",
   "metadata": {},
   "source": [
    "And for a maximalist example, the following block loads a single PDB file containing a protein, waters, ions, and a small molecule (the chemical identity of any small molecules must be provided with the `unique_molecules` keyword argument, and any small molecules' connectivity must have corresponding CONECT records in the PDB file)."
   ]
  },
  {
   "cell_type": "code",
   "execution_count": 15,
   "id": "c007183b-9a71-42aa-8e05-9f18fa2ef531",
   "metadata": {
    "tags": []
   },
   "outputs": [
    {
     "name": "stdout",
     "output_type": "stream",
     "text": [
      "[Cl-] : 12 molecule(s)\n",
      "[H]O[H] : 4413 molecule(s)\n",
      "protein : 1 molecule(s)\n",
      "[H]c1c(c(c2c(c1Oc3c(c(c(c(c3[H])F)[H])C#N)[H])C(C([C@@]2([H])O[H])(F)F)([H])[H])S(=O)(=O)C([H])([H])[H])[H] : 1 molecule(s)\n",
      "[Na+] : 17 molecule(s)\n"
     ]
    }
   ],
   "source": [
    "from openff.toolkit.utils import get_data_file_path\n",
    "\n",
    "ligand_path = get_data_file_path(\"molecules/PT2385.sdf\")\n",
    "ligand = Molecule.from_file(ligand_path)\n",
    "\n",
    "complex_path = get_data_file_path(\"proteins/5tbm_complex_solv_box.pdb\")\n",
    "topology = Topology.from_pdb(complex_path, unique_molecules=[ligand])\n",
    "\n",
    "molecule_smileses = [mol.to_smiles() for mol in topology.molecules]\n",
    "counts = molecule_smileses\n",
    "for smiles in sorted(set(molecule_smileses)):\n",
    "    count = molecule_smileses.count(smiles)\n",
    "    if len(smiles) > 1000:\n",
    "        smiles = \"protein\"\n",
    "    print(smiles, \":\", count, \"molecule(s)\")"
   ]
  },
  {
   "cell_type": "markdown",
   "id": "cbdde2f3",
   "metadata": {},
   "source": [
    "## Other string identification formats\n",
    "\n",
    "The OpenFF Toolkit supports a few text based molecular identity formats other than SMILES ([see above](#from-smiles))"
   ]
  },
  {
   "cell_type": "markdown",
   "id": "bcd5fce1",
   "metadata": {},
   "source": [
    "### From InChI\n",
    "\n",
    "The [`Molecule.from_inchi()`](openff.toolkit.topology.Molecule.from_inchi) method constructs a `Molecule` from an IUPAC [InChI](https://iupac.org/who-we-are/divisions/division-details/inchi/) string. Note that InChI cannot distinguish the zwitterionic form of alanine from the neutral form (see section 13.2 of the [InChI Technical FAQ](https://www.inchi-trust.org/technical-faq-2/)), so the toolkit defaults to the neutral form.\n",
    "\n",
    ":::{warning}\n",
    "The OpenFF Toolkit makes no guarantees about the atomic ordering produced by the `from_inchi` method. InChI is not intended to be an interchange format.\n",
    ":::"
   ]
  },
  {
   "cell_type": "code",
   "execution_count": 16,
   "id": "1ea7bb81",
   "metadata": {},
   "outputs": [
    {
     "data": {
      "image/svg+xml": [
       "<svg xmlns=\"http://www.w3.org/2000/svg\" xmlns:rdkit=\"http://www.rdkit.org/xml\" xmlns:xlink=\"http://www.w3.org/1999/xlink\" version=\"1.1\" baseProfile=\"full\" xml:space=\"preserve\" width=\"500px\" height=\"300px\" viewBox=\"0 0 500 300\">\n",
       "<!-- END OF HEADER -->\n",
       "<rect style=\"opacity:1.0;fill:#FFFFFF;stroke:none\" width=\"500.0\" height=\"300.0\" x=\"0.0\" y=\"0.0\"> </rect>\n",
       "<path class=\"bond-0 atom-0 atom-1\" d=\"M 264.9,70.5 L 249.2,128.7\" style=\"fill:none;fill-rule:evenodd;stroke:#000000;stroke-width:2.0px;stroke-linecap:butt;stroke-linejoin:miter;stroke-opacity:1\"/>\n",
       "<path class=\"bond-1 atom-1 atom-2\" d=\"M 249.2,128.7 L 291.7,171.3\" style=\"fill:none;fill-rule:evenodd;stroke:#000000;stroke-width:2.0px;stroke-linecap:butt;stroke-linejoin:miter;stroke-opacity:1\"/>\n",
       "<path class=\"bond-2 atom-1 atom-3\" d=\"M 249.2,128.7 L 233.7,144.1\" style=\"fill:none;fill-rule:evenodd;stroke:#000000;stroke-width:2.0px;stroke-linecap:butt;stroke-linejoin:miter;stroke-opacity:1\"/>\n",
       "<path class=\"bond-2 atom-1 atom-3\" d=\"M 233.7,144.1 L 218.2,159.5\" style=\"fill:none;fill-rule:evenodd;stroke:#0000FF;stroke-width:2.0px;stroke-linecap:butt;stroke-linejoin:miter;stroke-opacity:1\"/>\n",
       "<path class=\"bond-3 atom-2 atom-4\" d=\"M 290.4,176.4 L 313.9,170.1\" style=\"fill:none;fill-rule:evenodd;stroke:#000000;stroke-width:2.0px;stroke-linecap:butt;stroke-linejoin:miter;stroke-opacity:1\"/>\n",
       "<path class=\"bond-3 atom-2 atom-4\" d=\"M 313.9,170.1 L 337.4,163.9\" style=\"fill:none;fill-rule:evenodd;stroke:#FF0000;stroke-width:2.0px;stroke-linecap:butt;stroke-linejoin:miter;stroke-opacity:1\"/>\n",
       "<path class=\"bond-3 atom-2 atom-4\" d=\"M 288.0,167.6 L 311.5,161.4\" style=\"fill:none;fill-rule:evenodd;stroke:#000000;stroke-width:2.0px;stroke-linecap:butt;stroke-linejoin:miter;stroke-opacity:1\"/>\n",
       "<path class=\"bond-3 atom-2 atom-4\" d=\"M 311.5,161.4 L 335.0,155.1\" style=\"fill:none;fill-rule:evenodd;stroke:#FF0000;stroke-width:2.0px;stroke-linecap:butt;stroke-linejoin:miter;stroke-opacity:1\"/>\n",
       "<path class=\"bond-4 atom-2 atom-5\" d=\"M 291.7,171.3 L 285.9,193.0\" style=\"fill:none;fill-rule:evenodd;stroke:#000000;stroke-width:2.0px;stroke-linecap:butt;stroke-linejoin:miter;stroke-opacity:1\"/>\n",
       "<path class=\"bond-4 atom-2 atom-5\" d=\"M 285.9,193.0 L 280.0,214.6\" style=\"fill:none;fill-rule:evenodd;stroke:#FF0000;stroke-width:2.0px;stroke-linecap:butt;stroke-linejoin:miter;stroke-opacity:1\"/>\n",
       "<path class=\"bond-5 atom-0 atom-6\" d=\"M 264.9,70.5 L 311.1,82.9\" style=\"fill:none;fill-rule:evenodd;stroke:#000000;stroke-width:2.0px;stroke-linecap:butt;stroke-linejoin:miter;stroke-opacity:1\"/>\n",
       "<path class=\"bond-6 atom-0 atom-7\" d=\"M 264.9,70.5 L 295.6,39.9\" style=\"fill:none;fill-rule:evenodd;stroke:#000000;stroke-width:2.0px;stroke-linecap:butt;stroke-linejoin:miter;stroke-opacity:1\"/>\n",
       "<path class=\"bond-7 atom-0 atom-8\" d=\"M 264.9,70.5 L 234.4,39.8\" style=\"fill:none;fill-rule:evenodd;stroke:#000000;stroke-width:2.0px;stroke-linecap:butt;stroke-linejoin:miter;stroke-opacity:1\"/>\n",
       "<path class=\"bond-8 atom-1 atom-9\" d=\"M 245.7,128.1 L 245.9,127.4\" style=\"fill:none;fill-rule:evenodd;stroke:#000000;stroke-width:1.0px;stroke-linecap:butt;stroke-linejoin:miter;stroke-opacity:1\"/>\n",
       "<path class=\"bond-8 atom-1 atom-9\" d=\"M 242.2,127.5 L 242.6,126.2\" style=\"fill:none;fill-rule:evenodd;stroke:#000000;stroke-width:1.0px;stroke-linecap:butt;stroke-linejoin:miter;stroke-opacity:1\"/>\n",
       "<path class=\"bond-8 atom-1 atom-9\" d=\"M 238.7,126.9 L 239.3,124.9\" style=\"fill:none;fill-rule:evenodd;stroke:#000000;stroke-width:1.0px;stroke-linecap:butt;stroke-linejoin:miter;stroke-opacity:1\"/>\n",
       "<path class=\"bond-8 atom-1 atom-9\" d=\"M 235.2,126.3 L 235.9,123.6\" style=\"fill:none;fill-rule:evenodd;stroke:#000000;stroke-width:1.0px;stroke-linecap:butt;stroke-linejoin:miter;stroke-opacity:1\"/>\n",
       "<path class=\"bond-8 atom-1 atom-9\" d=\"M 231.7,125.7 L 232.6,122.4\" style=\"fill:none;fill-rule:evenodd;stroke:#000000;stroke-width:1.0px;stroke-linecap:butt;stroke-linejoin:miter;stroke-opacity:1\"/>\n",
       "<path class=\"bond-8 atom-1 atom-9\" d=\"M 228.2,125.2 L 229.3,121.1\" style=\"fill:none;fill-rule:evenodd;stroke:#000000;stroke-width:1.0px;stroke-linecap:butt;stroke-linejoin:miter;stroke-opacity:1\"/>\n",
       "<path class=\"bond-8 atom-1 atom-9\" d=\"M 224.8,124.6 L 226.0,119.9\" style=\"fill:none;fill-rule:evenodd;stroke:#000000;stroke-width:1.0px;stroke-linecap:butt;stroke-linejoin:miter;stroke-opacity:1\"/>\n",
       "<path class=\"bond-8 atom-1 atom-9\" d=\"M 221.3,124.0 L 222.7,118.6\" style=\"fill:none;fill-rule:evenodd;stroke:#000000;stroke-width:1.0px;stroke-linecap:butt;stroke-linejoin:miter;stroke-opacity:1\"/>\n",
       "<path class=\"bond-8 atom-1 atom-9\" d=\"M 217.8,123.4 L 219.4,117.4\" style=\"fill:none;fill-rule:evenodd;stroke:#000000;stroke-width:1.0px;stroke-linecap:butt;stroke-linejoin:miter;stroke-opacity:1\"/>\n",
       "<path class=\"bond-8 atom-1 atom-9\" d=\"M 214.3,122.8 L 216.1,116.1\" style=\"fill:none;fill-rule:evenodd;stroke:#000000;stroke-width:1.0px;stroke-linecap:butt;stroke-linejoin:miter;stroke-opacity:1\"/>\n",
       "<path class=\"bond-8 atom-1 atom-9\" d=\"M 210.8,122.3 L 212.8,114.9\" style=\"fill:none;fill-rule:evenodd;stroke:#000000;stroke-width:1.0px;stroke-linecap:butt;stroke-linejoin:miter;stroke-opacity:1\"/>\n",
       "<path class=\"bond-8 atom-1 atom-9\" d=\"M 207.3,121.7 L 209.5,113.6\" style=\"fill:none;fill-rule:evenodd;stroke:#000000;stroke-width:1.0px;stroke-linecap:butt;stroke-linejoin:miter;stroke-opacity:1\"/>\n",
       "<path class=\"bond-8 atom-1 atom-9\" d=\"M 203.8,121.1 L 206.2,112.4\" style=\"fill:none;fill-rule:evenodd;stroke:#000000;stroke-width:1.0px;stroke-linecap:butt;stroke-linejoin:miter;stroke-opacity:1\"/>\n",
       "<path class=\"bond-9 atom-3 atom-10\" d=\"M 194.8,168.0 L 177.6,163.4\" style=\"fill:none;fill-rule:evenodd;stroke:#0000FF;stroke-width:2.0px;stroke-linecap:butt;stroke-linejoin:miter;stroke-opacity:1\"/>\n",
       "<path class=\"bond-9 atom-3 atom-10\" d=\"M 177.6,163.4 L 160.3,158.7\" style=\"fill:none;fill-rule:evenodd;stroke:#000000;stroke-width:2.0px;stroke-linecap:butt;stroke-linejoin:miter;stroke-opacity:1\"/>\n",
       "<path class=\"bond-10 atom-3 atom-11\" d=\"M 210.4,186.0 L 214.2,200.3\" style=\"fill:none;fill-rule:evenodd;stroke:#0000FF;stroke-width:2.0px;stroke-linecap:butt;stroke-linejoin:miter;stroke-opacity:1\"/>\n",
       "<path class=\"bond-10 atom-3 atom-11\" d=\"M 214.2,200.3 L 218.1,214.6\" style=\"fill:none;fill-rule:evenodd;stroke:#000000;stroke-width:2.0px;stroke-linecap:butt;stroke-linejoin:miter;stroke-opacity:1\"/>\n",
       "<path class=\"bond-11 atom-5 atom-12\" d=\"M 289.7,243.3 L 298.1,251.7\" style=\"fill:none;fill-rule:evenodd;stroke:#FF0000;stroke-width:2.0px;stroke-linecap:butt;stroke-linejoin:miter;stroke-opacity:1\"/>\n",
       "<path class=\"bond-11 atom-5 atom-12\" d=\"M 298.1,251.7 L 306.5,260.2\" style=\"fill:none;fill-rule:evenodd;stroke:#000000;stroke-width:2.0px;stroke-linecap:butt;stroke-linejoin:miter;stroke-opacity:1\"/>\n",
       "<path d=\"M 289.6,169.2 L 291.7,171.3 L 291.4,172.4\" style=\"fill:none;stroke:#000000;stroke-width:2.0px;stroke-linecap:butt;stroke-linejoin:miter;stroke-opacity:1;\"/>\n",
       "<path class=\"atom-3\" d=\"M 200.8 158.4 L 209.2 171.9 Q 210.1 173.3, 211.4 175.7 Q 212.7 178.1, 212.8 178.3 L 212.8 158.4 L 216.2 158.4 L 216.2 184.0 L 212.7 184.0 L 203.7 169.2 Q 202.6 167.4, 201.5 165.4 Q 200.4 163.4, 200.1 162.8 L 200.1 184.0 L 196.8 184.0 L 196.8 158.4 L 200.8 158.4 \" fill=\"#0000FF\"/>\n",
       "<path class=\"atom-4\" d=\"M 338.2 155.9 Q 338.2 149.8, 341.2 146.3 Q 344.3 142.9, 349.9 142.9 Q 355.6 142.9, 358.7 146.3 Q 361.7 149.8, 361.7 155.9 Q 361.7 162.1, 358.6 165.7 Q 355.5 169.2, 349.9 169.2 Q 344.3 169.2, 341.2 165.7 Q 338.2 162.2, 338.2 155.9 M 349.9 166.3 Q 353.8 166.3, 355.9 163.7 Q 358.1 161.1, 358.1 155.9 Q 358.1 150.9, 355.9 148.4 Q 353.8 145.8, 349.9 145.8 Q 346.0 145.8, 343.9 148.3 Q 341.8 150.9, 341.8 155.9 Q 341.8 161.1, 343.9 163.7 Q 346.0 166.3, 349.9 166.3 \" fill=\"#FF0000\"/>\n",
       "<path class=\"atom-5\" d=\"M 264.3 229.6 Q 264.3 223.4, 267.3 220.0 Q 270.3 216.6, 276.0 216.6 Q 281.7 216.6, 284.7 220.0 Q 287.8 223.4, 287.8 229.6 Q 287.8 235.8, 284.7 239.3 Q 281.6 242.9, 276.0 242.9 Q 270.4 242.9, 267.3 239.3 Q 264.3 235.8, 264.3 229.6 M 276.0 240.0 Q 279.9 240.0, 282.0 237.4 Q 284.1 234.7, 284.1 229.6 Q 284.1 224.6, 282.0 222.0 Q 279.9 219.5, 276.0 219.5 Q 272.1 219.5, 270.0 222.0 Q 267.9 224.5, 267.9 229.6 Q 267.9 234.8, 270.0 237.4 Q 272.1 240.0, 276.0 240.0 \" fill=\"#FF0000\"/>\n",
       "<path class=\"atom-6\" d=\"M 313.0 73.4 L 316.5 73.4 L 316.5 84.3 L 329.6 84.3 L 329.6 73.4 L 333.1 73.4 L 333.1 99.0 L 329.6 99.0 L 329.6 87.2 L 316.5 87.2 L 316.5 99.0 L 313.0 99.0 L 313.0 73.4 \" fill=\"#000000\"/>\n",
       "<path class=\"atom-7\" d=\"M 297.6 15.2 L 301.0 15.2 L 301.0 26.0 L 314.1 26.0 L 314.1 15.2 L 317.6 15.2 L 317.6 40.8 L 314.1 40.8 L 314.1 28.9 L 301.0 28.9 L 301.0 40.8 L 297.6 40.8 L 297.6 15.2 \" fill=\"#000000\"/>\n",
       "<path class=\"atom-8\" d=\"M 212.3 15.0 L 215.8 15.0 L 215.8 25.9 L 228.9 25.9 L 228.9 15.0 L 232.4 15.0 L 232.4 40.6 L 228.9 40.6 L 228.9 28.8 L 215.8 28.8 L 215.8 40.6 L 212.3 40.6 L 212.3 15.0 \" fill=\"#000000\"/>\n",
       "<path class=\"atom-9\" d=\"M 181.0 100.2 L 184.5 100.2 L 184.5 111.0 L 197.6 111.0 L 197.6 100.2 L 201.0 100.2 L 201.0 125.8 L 197.6 125.8 L 197.6 113.9 L 184.5 113.9 L 184.5 125.8 L 181.0 125.8 L 181.0 100.2 \" fill=\"#000000\"/>\n",
       "<path class=\"atom-10\" d=\"M 138.3 142.7 L 141.8 142.7 L 141.8 153.6 L 154.9 153.6 L 154.9 142.7 L 158.3 142.7 L 158.3 168.3 L 154.9 168.3 L 154.9 156.5 L 141.8 156.5 L 141.8 168.3 L 138.3 168.3 L 138.3 142.7 \" fill=\"#000000\"/>\n",
       "<path class=\"atom-11\" d=\"M 212.0 216.6 L 215.4 216.6 L 215.4 227.5 L 228.5 227.5 L 228.5 216.6 L 232.0 216.6 L 232.0 242.2 L 228.5 242.2 L 228.5 230.4 L 215.4 230.4 L 215.4 242.2 L 212.0 242.2 L 212.0 216.6 \" fill=\"#000000\"/>\n",
       "<path class=\"atom-12\" d=\"M 308.5 259.4 L 312.0 259.4 L 312.0 270.3 L 325.1 270.3 L 325.1 259.4 L 328.6 259.4 L 328.6 285.0 L 325.1 285.0 L 325.1 273.2 L 312.0 273.2 L 312.0 285.0 L 308.5 285.0 L 308.5 259.4 \" fill=\"#000000\"/>\n",
       "</svg>"
      ],
      "text/plain": [
       "<IPython.core.display.SVG object>"
      ]
     },
     "execution_count": 16,
     "metadata": {},
     "output_type": "execute_result"
    }
   ],
   "source": [
    "inchi = Molecule.from_inchi(\n",
    "    \"InChI=1S/C3H7NO2/c1-2(4)3(5)6/h2H,4H2,1H3,(H,5,6)/t2-/m0/s1\"\n",
    ")\n",
    "\n",
    "inchi.visualize()"
   ]
  },
  {
   "cell_type": "markdown",
   "id": "93592822",
   "metadata": {},
   "source": [
    "### From IUPAC name\n",
    "\n",
    "The [`Molecule.from_iupac()`](openff.toolkit.topology.Molecule.from_iupac) method constructs a `Molecule` from an IUPAC name.\n",
    "\n",
    ":::{important}\n",
    "This code requires the OpenEye toolkit.\n",
    ":::"
   ]
  },
  {
   "cell_type": "code",
   "execution_count": 17,
   "id": "839994a0",
   "metadata": {},
   "outputs": [
    {
     "data": {
      "image/svg+xml": [
       "<svg xmlns=\"http://www.w3.org/2000/svg\" xmlns:rdkit=\"http://www.rdkit.org/xml\" xmlns:xlink=\"http://www.w3.org/1999/xlink\" version=\"1.1\" baseProfile=\"full\" xml:space=\"preserve\" width=\"500px\" height=\"300px\" viewBox=\"0 0 500 300\">\n",
       "<!-- END OF HEADER -->\n",
       "<rect style=\"opacity:1.0;fill:#FFFFFF;stroke:none\" width=\"500.0\" height=\"300.0\" x=\"0.0\" y=\"0.0\"> </rect>\n",
       "<path class=\"bond-0 atom-2 atom-1\" d=\"M 249.2,142.9 L 292.1,93.8\" style=\"fill:none;fill-rule:evenodd;stroke:#000000;stroke-width:2.0px;stroke-linecap:butt;stroke-linejoin:miter;stroke-opacity:1\"/>\n",
       "<path class=\"bond-1 atom-3 atom-2\" d=\"M 268.8,206.3 L 249.2,142.9\" style=\"fill:none;fill-rule:evenodd;stroke:#000000;stroke-width:2.0px;stroke-linecap:butt;stroke-linejoin:miter;stroke-opacity:1\"/>\n",
       "<path class=\"bond-2 atom-4 atom-1\" d=\"M 280.9,46.4 L 289.4,70.6\" style=\"fill:none;fill-rule:evenodd;stroke:#FF0000;stroke-width:2.0px;stroke-linecap:butt;stroke-linejoin:miter;stroke-opacity:1\"/>\n",
       "<path class=\"bond-2 atom-4 atom-1\" d=\"M 289.4,70.6 L 297.8,94.9\" style=\"fill:none;fill-rule:evenodd;stroke:#000000;stroke-width:2.0px;stroke-linecap:butt;stroke-linejoin:miter;stroke-opacity:1\"/>\n",
       "<path class=\"bond-2 atom-4 atom-1\" d=\"M 271.5,49.6 L 279.9,73.9\" style=\"fill:none;fill-rule:evenodd;stroke:#FF0000;stroke-width:2.0px;stroke-linecap:butt;stroke-linejoin:miter;stroke-opacity:1\"/>\n",
       "<path class=\"bond-2 atom-4 atom-1\" d=\"M 279.9,73.9 L 288.4,98.1\" style=\"fill:none;fill-rule:evenodd;stroke:#000000;stroke-width:2.0px;stroke-linecap:butt;stroke-linejoin:miter;stroke-opacity:1\"/>\n",
       "<path class=\"bond-3 atom-5 atom-1\" d=\"M 341.9,103.6 L 317.0,98.7\" style=\"fill:none;fill-rule:evenodd;stroke:#FF0000;stroke-width:2.0px;stroke-linecap:butt;stroke-linejoin:miter;stroke-opacity:1\"/>\n",
       "<path class=\"bond-3 atom-5 atom-1\" d=\"M 317.0,98.7 L 292.1,93.8\" style=\"fill:none;fill-rule:evenodd;stroke:#000000;stroke-width:2.0px;stroke-linecap:butt;stroke-linejoin:miter;stroke-opacity:1\"/>\n",
       "<path class=\"bond-4 atom-2 atom-0\" d=\"M 249.2,142.9 L 227.2,124.1\" style=\"fill:none;fill-rule:evenodd;stroke:#000000;stroke-width:2.0px;stroke-linecap:butt;stroke-linejoin:miter;stroke-opacity:1\"/>\n",
       "<path class=\"bond-4 atom-2 atom-0\" d=\"M 227.2,124.1 L 205.2,105.3\" style=\"fill:none;fill-rule:evenodd;stroke:#0000FF;stroke-width:2.0px;stroke-linecap:butt;stroke-linejoin:miter;stroke-opacity:1\"/>\n",
       "<path class=\"bond-5 atom-0 atom-6\" d=\"M 179.4,107.5 L 169.1,117.9\" style=\"fill:none;fill-rule:evenodd;stroke:#0000FF;stroke-width:2.0px;stroke-linecap:butt;stroke-linejoin:miter;stroke-opacity:1\"/>\n",
       "<path class=\"bond-5 atom-0 atom-6\" d=\"M 169.1,117.9 L 158.9,128.4\" style=\"fill:none;fill-rule:evenodd;stroke:#000000;stroke-width:2.0px;stroke-linecap:butt;stroke-linejoin:miter;stroke-opacity:1\"/>\n",
       "<path class=\"bond-6 atom-0 atom-7\" d=\"M 179.4,91.4 L 160.0,87.1\" style=\"fill:none;fill-rule:evenodd;stroke:#0000FF;stroke-width:2.0px;stroke-linecap:butt;stroke-linejoin:miter;stroke-opacity:1\"/>\n",
       "<path class=\"bond-6 atom-0 atom-7\" d=\"M 160.0,87.1 L 140.6,82.9\" style=\"fill:none;fill-rule:evenodd;stroke:#000000;stroke-width:2.0px;stroke-linecap:butt;stroke-linejoin:miter;stroke-opacity:1\"/>\n",
       "<path class=\"bond-7 atom-0 atom-8\" d=\"M 195.5,77.9 L 198.8,61.7\" style=\"fill:none;fill-rule:evenodd;stroke:#0000FF;stroke-width:2.0px;stroke-linecap:butt;stroke-linejoin:miter;stroke-opacity:1\"/>\n",
       "<path class=\"bond-7 atom-0 atom-8\" d=\"M 198.8,61.7 L 202.0,45.5\" style=\"fill:none;fill-rule:evenodd;stroke:#000000;stroke-width:2.0px;stroke-linecap:butt;stroke-linejoin:miter;stroke-opacity:1\"/>\n",
       "<path class=\"bond-8 atom-2 atom-9\" d=\"M 249.2,142.9 L 213.2,164.5 L 209.1,155.4 Z\" style=\"fill:#000000;fill-rule:evenodd;fill-opacity:1;stroke:#000000;stroke-width:0.5px;stroke-linecap:butt;stroke-linejoin:miter;stroke-opacity:1;\"/>\n",
       "<path class=\"bond-9 atom-3 atom-10\" d=\"M 268.8,206.3 L 217.3,220.6\" style=\"fill:none;fill-rule:evenodd;stroke:#000000;stroke-width:2.0px;stroke-linecap:butt;stroke-linejoin:miter;stroke-opacity:1\"/>\n",
       "<path class=\"bond-10 atom-3 atom-11\" d=\"M 268.8,206.3 L 255.5,254.5\" style=\"fill:none;fill-rule:evenodd;stroke:#000000;stroke-width:2.0px;stroke-linecap:butt;stroke-linejoin:miter;stroke-opacity:1\"/>\n",
       "<path class=\"bond-11 atom-3 atom-12\" d=\"M 268.8,206.3 L 319.4,219.7\" style=\"fill:none;fill-rule:evenodd;stroke:#000000;stroke-width:2.0px;stroke-linecap:butt;stroke-linejoin:miter;stroke-opacity:1\"/>\n",
       "<path d=\"M 290.0,96.2 L 292.1,93.8 L 293.4,94.0\" style=\"fill:none;stroke:#000000;stroke-width:2.0px;stroke-linecap:butt;stroke-linejoin:miter;stroke-opacity:1;\"/>\n",
       "<path class=\"atom-0\" d=\"M 186.0 80.1 L 195.3 95.1 Q 196.2 96.6, 197.7 99.3 Q 199.2 101.9, 199.3 102.1 L 199.3 80.1 L 203.0 80.1 L 203.0 108.4 L 199.1 108.4 L 189.2 92.0 Q 188.0 90.1, 186.8 87.9 Q 185.6 85.7, 185.2 85.0 L 185.2 108.4 L 181.6 108.4 L 181.6 80.1 L 186.0 80.1 \" fill=\"#0000FF\"/>\n",
       "<path class=\"atom-0\" d=\"M 208.3 85.2 L 213.3 85.2 L 213.3 80.0 L 215.5 80.0 L 215.5 85.2 L 220.7 85.2 L 220.7 87.1 L 215.5 87.1 L 215.5 92.4 L 213.3 92.4 L 213.3 87.1 L 208.3 87.1 L 208.3 85.2 \" fill=\"#0000FF\"/>\n",
       "<path class=\"atom-4\" d=\"M 257.3 31.2 Q 257.3 24.4, 260.7 20.6 Q 264.0 16.8, 270.3 16.8 Q 276.6 16.8, 279.9 20.6 Q 283.3 24.4, 283.3 31.2 Q 283.3 38.0, 279.9 41.9 Q 276.5 45.8, 270.3 45.8 Q 264.1 45.8, 260.7 41.9 Q 257.3 38.1, 257.3 31.2 M 270.3 42.6 Q 274.6 42.6, 276.9 39.7 Q 279.3 36.8, 279.3 31.2 Q 279.3 25.6, 276.9 22.8 Q 274.6 20.0, 270.3 20.0 Q 266.0 20.0, 263.6 22.8 Q 261.3 25.6, 261.3 31.2 Q 261.3 36.9, 263.6 39.7 Q 266.0 42.6, 270.3 42.6 \" fill=\"#FF0000\"/>\n",
       "<path class=\"atom-5\" d=\"M 344.1 106.7 Q 344.1 99.9, 347.4 96.1 Q 350.8 92.3, 357.1 92.3 Q 363.3 92.3, 366.7 96.1 Q 370.1 99.9, 370.1 106.7 Q 370.1 113.6, 366.7 117.5 Q 363.3 121.4, 357.1 121.4 Q 350.8 121.4, 347.4 117.5 Q 344.1 113.6, 344.1 106.7 M 357.1 118.2 Q 361.4 118.2, 363.7 115.3 Q 366.1 112.4, 366.1 106.7 Q 366.1 101.2, 363.7 98.4 Q 361.4 95.5, 357.1 95.5 Q 352.8 95.5, 350.4 98.3 Q 348.1 101.1, 348.1 106.7 Q 348.1 112.4, 350.4 115.3 Q 352.8 118.2, 357.1 118.2 \" fill=\"#FF0000\"/>\n",
       "<path class=\"atom-5\" d=\"M 374.1 96.9 L 383.8 96.9 L 383.8 99.1 L 374.1 99.1 L 374.1 96.9 \" fill=\"#FF0000\"/>\n",
       "<path class=\"atom-6\" d=\"M 134.5 127.8 L 138.4 127.8 L 138.4 139.8 L 152.8 139.8 L 152.8 127.8 L 156.7 127.8 L 156.7 156.1 L 152.8 156.1 L 152.8 143.0 L 138.4 143.0 L 138.4 156.1 L 134.5 156.1 L 134.5 127.8 \" fill=\"#000000\"/>\n",
       "<path class=\"atom-7\" d=\"M 116.2 65.8 L 120.1 65.8 L 120.1 77.8 L 134.5 77.8 L 134.5 65.8 L 138.4 65.8 L 138.4 94.1 L 134.5 94.1 L 134.5 81.0 L 120.1 81.0 L 120.1 94.1 L 116.2 94.1 L 116.2 65.8 \" fill=\"#000000\"/>\n",
       "<path class=\"atom-8\" d=\"M 194.2 15.0 L 198.0 15.0 L 198.0 27.0 L 212.5 27.0 L 212.5 15.0 L 216.3 15.0 L 216.3 43.3 L 212.5 43.3 L 212.5 30.2 L 198.0 30.2 L 198.0 43.3 L 194.2 43.3 L 194.2 15.0 \" fill=\"#000000\"/>\n",
       "<path class=\"atom-9\" d=\"M 184.7 152.8 L 188.5 152.8 L 188.5 164.8 L 203.0 164.8 L 203.0 152.8 L 206.8 152.8 L 206.8 181.1 L 203.0 181.1 L 203.0 168.0 L 188.5 168.0 L 188.5 181.1 L 184.7 181.1 L 184.7 152.8 \" fill=\"#000000\"/>\n",
       "<path class=\"atom-10\" d=\"M 193.0 210.1 L 196.8 210.1 L 196.8 222.1 L 211.3 222.1 L 211.3 210.1 L 215.1 210.1 L 215.1 238.4 L 211.3 238.4 L 211.3 225.3 L 196.8 225.3 L 196.8 238.4 L 193.0 238.4 L 193.0 210.1 \" fill=\"#000000\"/>\n",
       "<path class=\"atom-11\" d=\"M 239.9 256.7 L 243.8 256.7 L 243.8 268.7 L 258.2 268.7 L 258.2 256.7 L 262.1 256.7 L 262.1 285.0 L 258.2 285.0 L 258.2 271.9 L 243.8 271.9 L 243.8 285.0 L 239.9 285.0 L 239.9 256.7 \" fill=\"#000000\"/>\n",
       "<path class=\"atom-12\" d=\"M 321.6 209.1 L 325.5 209.1 L 325.5 221.1 L 339.9 221.1 L 339.9 209.1 L 343.8 209.1 L 343.8 237.4 L 339.9 237.4 L 339.9 224.3 L 325.5 224.3 L 325.5 237.4 L 321.6 237.4 L 321.6 209.1 \" fill=\"#000000\"/>\n",
       "</svg>"
      ],
      "text/plain": [
       "<IPython.core.display.SVG object>"
      ]
     },
     "execution_count": 17,
     "metadata": {},
     "output_type": "execute_result"
    }
   ],
   "source": [
    "iupac = Molecule.from_iupac(\"(2S)-2-azaniumylpropanoate\")\n",
    "\n",
    "assert zw_l_alanine.is_isomorphic_with(iupac)\n",
    "\n",
    "iupac.visualize()"
   ]
  },
  {
   "cell_type": "markdown",
   "id": "14d8a068",
   "metadata": {},
   "source": [
    "## Re-ordering atoms in an existing `Molecule`\n",
    "\n",
    "Most `Molecule` creation methods don't specify the ordering of atoms in the new `Molecule`. The [`Molecule.remap()`](openff.toolkit.topology.Molecule.remap) method allows a new ordering to be applied to an existing `Molecule`.\n",
    "\n",
    "See also [](#mapped-smiles).\n",
    "\n",
    ":::{warning}\n",
    "The `Molecule.remap()` method is experimental and subject to change. \n",
    ":::"
   ]
  },
  {
   "cell_type": "code",
   "execution_count": 18,
   "id": "c9a343c2",
   "metadata": {},
   "outputs": [
    {
     "name": "stdout",
     "output_type": "stream",
     "text": [
      "Before remapping: [H:3][C@@:2]([C:5](=[O:6])[O-:7])([C:1]([H:8])([H:9])[H:10])[N+:4]([H:11])([H:12])[H:13]\n",
      "After remapping:  [H:3][C@@:2]([C:4](=[O:6])[O-:7])([C:1]([H:8])([H:9])[H:10])[N+:5]([H:11])([H:12])[H:13]\n"
     ]
    },
    {
     "data": {
      "image/svg+xml": [
       "<svg xmlns=\"http://www.w3.org/2000/svg\" xmlns:rdkit=\"http://www.rdkit.org/xml\" xmlns:xlink=\"http://www.w3.org/1999/xlink\" version=\"1.1\" baseProfile=\"full\" xml:space=\"preserve\" width=\"500px\" height=\"300px\" viewBox=\"0 0 500 300\">\n",
       "<!-- END OF HEADER -->\n",
       "<rect style=\"opacity:1.0;fill:#FFFFFF;stroke:none\" width=\"500.0\" height=\"300.0\" x=\"0.0\" y=\"0.0\"> </rect>\n",
       "<path class=\"bond-0 atom-0 atom-1\" d=\"M 268.8,206.3 L 249.2,142.9\" style=\"fill:none;fill-rule:evenodd;stroke:#000000;stroke-width:2.0px;stroke-linecap:butt;stroke-linejoin:miter;stroke-opacity:1\"/>\n",
       "<path class=\"bond-1 atom-0 atom-7\" d=\"M 268.8,206.3 L 217.3,220.6\" style=\"fill:none;fill-rule:evenodd;stroke:#000000;stroke-width:2.0px;stroke-linecap:butt;stroke-linejoin:miter;stroke-opacity:1\"/>\n",
       "<path class=\"bond-2 atom-0 atom-8\" d=\"M 268.8,206.3 L 255.5,254.5\" style=\"fill:none;fill-rule:evenodd;stroke:#000000;stroke-width:2.0px;stroke-linecap:butt;stroke-linejoin:miter;stroke-opacity:1\"/>\n",
       "<path class=\"bond-3 atom-0 atom-9\" d=\"M 268.8,206.3 L 319.4,219.7\" style=\"fill:none;fill-rule:evenodd;stroke:#000000;stroke-width:2.0px;stroke-linecap:butt;stroke-linejoin:miter;stroke-opacity:1\"/>\n",
       "<path class=\"bond-4 atom-1 atom-2\" d=\"M 249.2,142.9 L 213.2,164.5 L 209.1,155.4 Z\" style=\"fill:#000000;fill-rule:evenodd;fill-opacity:1;stroke:#000000;stroke-width:0.5px;stroke-linecap:butt;stroke-linejoin:miter;stroke-opacity:1;\"/>\n",
       "<path class=\"bond-5 atom-1 atom-3\" d=\"M 249.2,142.9 L 292.1,93.8\" style=\"fill:none;fill-rule:evenodd;stroke:#000000;stroke-width:2.0px;stroke-linecap:butt;stroke-linejoin:miter;stroke-opacity:1\"/>\n",
       "<path class=\"bond-6 atom-1 atom-4\" d=\"M 249.2,142.9 L 227.2,124.1\" style=\"fill:none;fill-rule:evenodd;stroke:#000000;stroke-width:2.0px;stroke-linecap:butt;stroke-linejoin:miter;stroke-opacity:1\"/>\n",
       "<path class=\"bond-6 atom-1 atom-4\" d=\"M 227.2,124.1 L 205.2,105.3\" style=\"fill:none;fill-rule:evenodd;stroke:#0000FF;stroke-width:2.0px;stroke-linecap:butt;stroke-linejoin:miter;stroke-opacity:1\"/>\n",
       "<path class=\"bond-7 atom-3 atom-5\" d=\"M 297.8,94.9 L 289.4,70.6\" style=\"fill:none;fill-rule:evenodd;stroke:#000000;stroke-width:2.0px;stroke-linecap:butt;stroke-linejoin:miter;stroke-opacity:1\"/>\n",
       "<path class=\"bond-7 atom-3 atom-5\" d=\"M 289.4,70.6 L 280.9,46.4\" style=\"fill:none;fill-rule:evenodd;stroke:#FF0000;stroke-width:2.0px;stroke-linecap:butt;stroke-linejoin:miter;stroke-opacity:1\"/>\n",
       "<path class=\"bond-7 atom-3 atom-5\" d=\"M 288.4,98.1 L 279.9,73.9\" style=\"fill:none;fill-rule:evenodd;stroke:#000000;stroke-width:2.0px;stroke-linecap:butt;stroke-linejoin:miter;stroke-opacity:1\"/>\n",
       "<path class=\"bond-7 atom-3 atom-5\" d=\"M 279.9,73.9 L 271.5,49.6\" style=\"fill:none;fill-rule:evenodd;stroke:#FF0000;stroke-width:2.0px;stroke-linecap:butt;stroke-linejoin:miter;stroke-opacity:1\"/>\n",
       "<path class=\"bond-8 atom-3 atom-6\" d=\"M 292.1,93.8 L 317.0,98.7\" style=\"fill:none;fill-rule:evenodd;stroke:#000000;stroke-width:2.0px;stroke-linecap:butt;stroke-linejoin:miter;stroke-opacity:1\"/>\n",
       "<path class=\"bond-8 atom-3 atom-6\" d=\"M 317.0,98.7 L 341.9,103.6\" style=\"fill:none;fill-rule:evenodd;stroke:#FF0000;stroke-width:2.0px;stroke-linecap:butt;stroke-linejoin:miter;stroke-opacity:1\"/>\n",
       "<path class=\"bond-9 atom-4 atom-10\" d=\"M 179.4,107.5 L 169.1,117.9\" style=\"fill:none;fill-rule:evenodd;stroke:#0000FF;stroke-width:2.0px;stroke-linecap:butt;stroke-linejoin:miter;stroke-opacity:1\"/>\n",
       "<path class=\"bond-9 atom-4 atom-10\" d=\"M 169.1,117.9 L 158.9,128.4\" style=\"fill:none;fill-rule:evenodd;stroke:#000000;stroke-width:2.0px;stroke-linecap:butt;stroke-linejoin:miter;stroke-opacity:1\"/>\n",
       "<path class=\"bond-10 atom-4 atom-11\" d=\"M 179.4,91.4 L 160.0,87.1\" style=\"fill:none;fill-rule:evenodd;stroke:#0000FF;stroke-width:2.0px;stroke-linecap:butt;stroke-linejoin:miter;stroke-opacity:1\"/>\n",
       "<path class=\"bond-10 atom-4 atom-11\" d=\"M 160.0,87.1 L 140.6,82.9\" style=\"fill:none;fill-rule:evenodd;stroke:#000000;stroke-width:2.0px;stroke-linecap:butt;stroke-linejoin:miter;stroke-opacity:1\"/>\n",
       "<path class=\"bond-11 atom-4 atom-12\" d=\"M 195.5,77.9 L 198.8,61.7\" style=\"fill:none;fill-rule:evenodd;stroke:#0000FF;stroke-width:2.0px;stroke-linecap:butt;stroke-linejoin:miter;stroke-opacity:1\"/>\n",
       "<path class=\"bond-11 atom-4 atom-12\" d=\"M 198.8,61.7 L 202.0,45.5\" style=\"fill:none;fill-rule:evenodd;stroke:#000000;stroke-width:2.0px;stroke-linecap:butt;stroke-linejoin:miter;stroke-opacity:1\"/>\n",
       "<path d=\"M 290.0,96.2 L 292.1,93.8 L 293.4,94.0\" style=\"fill:none;stroke:#000000;stroke-width:2.0px;stroke-linecap:butt;stroke-linejoin:miter;stroke-opacity:1;\"/>\n",
       "<path class=\"atom-2\" d=\"M 184.7 152.8 L 188.5 152.8 L 188.5 164.8 L 203.0 164.8 L 203.0 152.8 L 206.8 152.8 L 206.8 181.1 L 203.0 181.1 L 203.0 168.0 L 188.5 168.0 L 188.5 181.1 L 184.7 181.1 L 184.7 152.8 \" fill=\"#000000\"/>\n",
       "<path class=\"atom-4\" d=\"M 186.0 80.1 L 195.3 95.1 Q 196.2 96.6, 197.7 99.3 Q 199.2 101.9, 199.3 102.1 L 199.3 80.1 L 203.0 80.1 L 203.0 108.4 L 199.1 108.4 L 189.2 92.0 Q 188.0 90.1, 186.8 87.9 Q 185.6 85.7, 185.2 85.0 L 185.2 108.4 L 181.6 108.4 L 181.6 80.1 L 186.0 80.1 \" fill=\"#0000FF\"/>\n",
       "<path class=\"atom-4\" d=\"M 208.3 85.2 L 213.3 85.2 L 213.3 80.0 L 215.5 80.0 L 215.5 85.2 L 220.7 85.2 L 220.7 87.1 L 215.5 87.1 L 215.5 92.4 L 213.3 92.4 L 213.3 87.1 L 208.3 87.1 L 208.3 85.2 \" fill=\"#0000FF\"/>\n",
       "<path class=\"atom-5\" d=\"M 257.3 31.2 Q 257.3 24.4, 260.7 20.6 Q 264.0 16.8, 270.3 16.8 Q 276.6 16.8, 279.9 20.6 Q 283.3 24.4, 283.3 31.2 Q 283.3 38.0, 279.9 41.9 Q 276.5 45.8, 270.3 45.8 Q 264.1 45.8, 260.7 41.9 Q 257.3 38.1, 257.3 31.2 M 270.3 42.6 Q 274.6 42.6, 276.9 39.7 Q 279.3 36.8, 279.3 31.2 Q 279.3 25.6, 276.9 22.8 Q 274.6 20.0, 270.3 20.0 Q 266.0 20.0, 263.6 22.8 Q 261.3 25.6, 261.3 31.2 Q 261.3 36.9, 263.6 39.7 Q 266.0 42.6, 270.3 42.6 \" fill=\"#FF0000\"/>\n",
       "<path class=\"atom-6\" d=\"M 344.1 106.7 Q 344.1 99.9, 347.4 96.1 Q 350.8 92.3, 357.1 92.3 Q 363.3 92.3, 366.7 96.1 Q 370.1 99.9, 370.1 106.7 Q 370.1 113.6, 366.7 117.5 Q 363.3 121.4, 357.1 121.4 Q 350.8 121.4, 347.4 117.5 Q 344.1 113.6, 344.1 106.7 M 357.1 118.2 Q 361.4 118.2, 363.7 115.3 Q 366.1 112.4, 366.1 106.7 Q 366.1 101.2, 363.7 98.4 Q 361.4 95.5, 357.1 95.5 Q 352.8 95.5, 350.4 98.3 Q 348.1 101.1, 348.1 106.7 Q 348.1 112.4, 350.4 115.3 Q 352.8 118.2, 357.1 118.2 \" fill=\"#FF0000\"/>\n",
       "<path class=\"atom-6\" d=\"M 374.1 96.9 L 383.8 96.9 L 383.8 99.1 L 374.1 99.1 L 374.1 96.9 \" fill=\"#FF0000\"/>\n",
       "<path class=\"atom-7\" d=\"M 193.0 210.1 L 196.8 210.1 L 196.8 222.1 L 211.3 222.1 L 211.3 210.1 L 215.1 210.1 L 215.1 238.4 L 211.3 238.4 L 211.3 225.3 L 196.8 225.3 L 196.8 238.4 L 193.0 238.4 L 193.0 210.1 \" fill=\"#000000\"/>\n",
       "<path class=\"atom-8\" d=\"M 239.9 256.7 L 243.8 256.7 L 243.8 268.7 L 258.2 268.7 L 258.2 256.7 L 262.1 256.7 L 262.1 285.0 L 258.2 285.0 L 258.2 271.9 L 243.8 271.9 L 243.8 285.0 L 239.9 285.0 L 239.9 256.7 \" fill=\"#000000\"/>\n",
       "<path class=\"atom-9\" d=\"M 321.6 209.1 L 325.5 209.1 L 325.5 221.1 L 339.9 221.1 L 339.9 209.1 L 343.8 209.1 L 343.8 237.4 L 339.9 237.4 L 339.9 224.3 L 325.5 224.3 L 325.5 237.4 L 321.6 237.4 L 321.6 209.1 \" fill=\"#000000\"/>\n",
       "<path class=\"atom-10\" d=\"M 134.5 127.8 L 138.4 127.8 L 138.4 139.8 L 152.8 139.8 L 152.8 127.8 L 156.7 127.8 L 156.7 156.1 L 152.8 156.1 L 152.8 143.0 L 138.4 143.0 L 138.4 156.1 L 134.5 156.1 L 134.5 127.8 \" fill=\"#000000\"/>\n",
       "<path class=\"atom-11\" d=\"M 116.2 65.8 L 120.1 65.8 L 120.1 77.8 L 134.5 77.8 L 134.5 65.8 L 138.4 65.8 L 138.4 94.1 L 134.5 94.1 L 134.5 81.0 L 120.1 81.0 L 120.1 94.1 L 116.2 94.1 L 116.2 65.8 \" fill=\"#000000\"/>\n",
       "<path class=\"atom-12\" d=\"M 194.2 15.0 L 198.0 15.0 L 198.0 27.0 L 212.5 27.0 L 212.5 15.0 L 216.3 15.0 L 216.3 43.3 L 212.5 43.3 L 212.5 30.2 L 198.0 30.2 L 198.0 43.3 L 194.2 43.3 L 194.2 15.0 \" fill=\"#000000\"/>\n",
       "</svg>"
      ],
      "text/plain": [
       "<IPython.core.display.SVG object>"
      ]
     },
     "execution_count": 18,
     "metadata": {},
     "output_type": "execute_result"
    }
   ],
   "source": [
    "# Note that this mapping is off-by-one from the mapping taken\n",
    "# by the remap method, as Python indexing is 0-based but SMILES\n",
    "# is 1-based\n",
    "print(\"Before remapping:\", zw_l_alanine.to_smiles(mapped=True))\n",
    "\n",
    "# Flip the order of the carbonyl carbon and oxygen\n",
    "remapped = zw_l_alanine.remap(\n",
    "    {\n",
    "        0: 0,\n",
    "        1: 1,\n",
    "        2: 2,\n",
    "        3: 4,  # Note these two mappings,\n",
    "        4: 3,  # which are flipped!\n",
    "        5: 5,\n",
    "        6: 6,\n",
    "        7: 7,\n",
    "        8: 8,\n",
    "        9: 9,\n",
    "        10: 10,\n",
    "        11: 11,\n",
    "        12: 12,\n",
    "    }\n",
    ")\n",
    "\n",
    "print(\"After remapping: \", remapped.to_smiles(mapped=True))\n",
    "\n",
    "# Doesn't affect the identity of the molecule\n",
    "assert zw_l_alanine.is_isomorphic_with(remapped)\n",
    "remapped.visualize()"
   ]
  },
  {
   "cell_type": "markdown",
   "id": "d5e4330a",
   "metadata": {},
   "source": [
    "## Via `Topology` objects\n",
    "\n",
    "The [`Topology`](openff.toolkit.topology.Topology) class represents a biomolecular system; it is analogous to the similarly named objects in GROMACS, MDTraj or OpenMM. Notably, it does not include co-ordinates and may represent multiple copies of a particular molecular species or even more complex mixtures of molecules. `Topology` objects are usually built up one species at a time from `Molecule` objects.\n",
    "\n",
    "`Molecule` objects can be retrieved from a `Topology` via the [`Topology.molecule()`](openff.toolkit.topology.Topology.molecule) method by providing the index of the molecule within the topology. For a topology consisting of a single molecule, this is just `topology.molecule(0)`.\n",
    "\n",
    "Constructor methods that are available for `Topology` but not `Molecule` generally require a `Molecule` to be provided via the `unique_molecules` keyword argument. The provided `Molecule` is used to provide the identity of the molecule, including aromaticity, bond orders, formal charges, and so forth. These methods therefore don't provide a route to the graph of the molecule, but can be useful for reordering atoms to match another software package."
   ]
  },
  {
   "cell_type": "markdown",
   "id": "95eab062",
   "metadata": {},
   "source": [
    "### From an OpenMM `Topology`\n",
    "\n",
    "The [`Topology.from_openmm()`](openff.toolkit.topology.Topology.from_openmm) method constructs an OpenFF `Topology` from an OpenMM [`Topology`](openmm.app.topology.Topology). The method requires that all the unique molecules in the `Topology` are provided as OpenFF `Molecule` objects, as the structure of an OpenMM `Topology` doesn't include the concept of a molecule. When using this method to create a `Molecule`, this limitation means that the method really only offers a pathway to reorder the atoms of a `Molecule` to match that of the OpenMM `Topology`."
   ]
  },
  {
   "cell_type": "code",
   "execution_count": 19,
   "id": "40645664",
   "metadata": {},
   "outputs": [
    {
     "data": {
      "image/svg+xml": [
       "<svg xmlns=\"http://www.w3.org/2000/svg\" xmlns:rdkit=\"http://www.rdkit.org/xml\" xmlns:xlink=\"http://www.w3.org/1999/xlink\" version=\"1.1\" baseProfile=\"full\" xml:space=\"preserve\" width=\"500px\" height=\"300px\" viewBox=\"0 0 500 300\">\n",
       "<!-- END OF HEADER -->\n",
       "<rect style=\"opacity:1.0;fill:#FFFFFF;stroke:none\" width=\"500.0\" height=\"300.0\" x=\"0.0\" y=\"0.0\"> </rect>\n",
       "<path class=\"bond-0 atom-0 atom-2\" d=\"M 205.2,105.3 L 227.2,124.1\" style=\"fill:none;fill-rule:evenodd;stroke:#0000FF;stroke-width:2.0px;stroke-linecap:butt;stroke-linejoin:miter;stroke-opacity:1\"/>\n",
       "<path class=\"bond-0 atom-0 atom-2\" d=\"M 227.2,124.1 L 249.2,142.9\" style=\"fill:none;fill-rule:evenodd;stroke:#000000;stroke-width:2.0px;stroke-linecap:butt;stroke-linejoin:miter;stroke-opacity:1\"/>\n",
       "<path class=\"bond-1 atom-0 atom-10\" d=\"M 179.4,107.5 L 169.1,117.9\" style=\"fill:none;fill-rule:evenodd;stroke:#0000FF;stroke-width:2.0px;stroke-linecap:butt;stroke-linejoin:miter;stroke-opacity:1\"/>\n",
       "<path class=\"bond-1 atom-0 atom-10\" d=\"M 169.1,117.9 L 158.9,128.4\" style=\"fill:none;fill-rule:evenodd;stroke:#000000;stroke-width:2.0px;stroke-linecap:butt;stroke-linejoin:miter;stroke-opacity:1\"/>\n",
       "<path class=\"bond-2 atom-0 atom-11\" d=\"M 179.4,91.4 L 160.0,87.1\" style=\"fill:none;fill-rule:evenodd;stroke:#0000FF;stroke-width:2.0px;stroke-linecap:butt;stroke-linejoin:miter;stroke-opacity:1\"/>\n",
       "<path class=\"bond-2 atom-0 atom-11\" d=\"M 160.0,87.1 L 140.6,82.9\" style=\"fill:none;fill-rule:evenodd;stroke:#000000;stroke-width:2.0px;stroke-linecap:butt;stroke-linejoin:miter;stroke-opacity:1\"/>\n",
       "<path class=\"bond-3 atom-0 atom-12\" d=\"M 195.5,77.9 L 198.8,61.7\" style=\"fill:none;fill-rule:evenodd;stroke:#0000FF;stroke-width:2.0px;stroke-linecap:butt;stroke-linejoin:miter;stroke-opacity:1\"/>\n",
       "<path class=\"bond-3 atom-0 atom-12\" d=\"M 198.8,61.7 L 202.0,45.5\" style=\"fill:none;fill-rule:evenodd;stroke:#000000;stroke-width:2.0px;stroke-linecap:butt;stroke-linejoin:miter;stroke-opacity:1\"/>\n",
       "<path class=\"bond-4 atom-1 atom-2\" d=\"M 268.8,206.3 L 249.2,142.9\" style=\"fill:none;fill-rule:evenodd;stroke:#000000;stroke-width:2.0px;stroke-linecap:butt;stroke-linejoin:miter;stroke-opacity:1\"/>\n",
       "<path class=\"bond-5 atom-1 atom-6\" d=\"M 268.8,206.3 L 217.3,220.6\" style=\"fill:none;fill-rule:evenodd;stroke:#000000;stroke-width:2.0px;stroke-linecap:butt;stroke-linejoin:miter;stroke-opacity:1\"/>\n",
       "<path class=\"bond-6 atom-1 atom-7\" d=\"M 268.8,206.3 L 255.5,254.5\" style=\"fill:none;fill-rule:evenodd;stroke:#000000;stroke-width:2.0px;stroke-linecap:butt;stroke-linejoin:miter;stroke-opacity:1\"/>\n",
       "<path class=\"bond-7 atom-1 atom-8\" d=\"M 268.8,206.3 L 319.4,219.7\" style=\"fill:none;fill-rule:evenodd;stroke:#000000;stroke-width:2.0px;stroke-linecap:butt;stroke-linejoin:miter;stroke-opacity:1\"/>\n",
       "<path class=\"bond-8 atom-2 atom-3\" d=\"M 249.2,142.9 L 292.1,93.8\" style=\"fill:none;fill-rule:evenodd;stroke:#000000;stroke-width:2.0px;stroke-linecap:butt;stroke-linejoin:miter;stroke-opacity:1\"/>\n",
       "<path class=\"bond-9 atom-2 atom-9\" d=\"M 249.2,142.9 L 213.2,164.5 L 209.1,155.4 Z\" style=\"fill:#000000;fill-rule:evenodd;fill-opacity:1;stroke:#000000;stroke-width:0.5px;stroke-linecap:butt;stroke-linejoin:miter;stroke-opacity:1;\"/>\n",
       "<path class=\"bond-10 atom-3 atom-4\" d=\"M 297.8,94.9 L 289.4,70.6\" style=\"fill:none;fill-rule:evenodd;stroke:#000000;stroke-width:2.0px;stroke-linecap:butt;stroke-linejoin:miter;stroke-opacity:1\"/>\n",
       "<path class=\"bond-10 atom-3 atom-4\" d=\"M 289.4,70.6 L 280.9,46.4\" style=\"fill:none;fill-rule:evenodd;stroke:#FF0000;stroke-width:2.0px;stroke-linecap:butt;stroke-linejoin:miter;stroke-opacity:1\"/>\n",
       "<path class=\"bond-10 atom-3 atom-4\" d=\"M 288.4,98.1 L 279.9,73.9\" style=\"fill:none;fill-rule:evenodd;stroke:#000000;stroke-width:2.0px;stroke-linecap:butt;stroke-linejoin:miter;stroke-opacity:1\"/>\n",
       "<path class=\"bond-10 atom-3 atom-4\" d=\"M 279.9,73.9 L 271.5,49.6\" style=\"fill:none;fill-rule:evenodd;stroke:#FF0000;stroke-width:2.0px;stroke-linecap:butt;stroke-linejoin:miter;stroke-opacity:1\"/>\n",
       "<path class=\"bond-11 atom-3 atom-5\" d=\"M 292.1,93.8 L 317.0,98.7\" style=\"fill:none;fill-rule:evenodd;stroke:#000000;stroke-width:2.0px;stroke-linecap:butt;stroke-linejoin:miter;stroke-opacity:1\"/>\n",
       "<path class=\"bond-11 atom-3 atom-5\" d=\"M 317.0,98.7 L 341.9,103.6\" style=\"fill:none;fill-rule:evenodd;stroke:#FF0000;stroke-width:2.0px;stroke-linecap:butt;stroke-linejoin:miter;stroke-opacity:1\"/>\n",
       "<path d=\"M 290.0,96.2 L 292.1,93.8 L 293.4,94.0\" style=\"fill:none;stroke:#000000;stroke-width:2.0px;stroke-linecap:butt;stroke-linejoin:miter;stroke-opacity:1;\"/>\n",
       "<path class=\"atom-0\" d=\"M 186.0 80.1 L 195.3 95.1 Q 196.2 96.6, 197.7 99.3 Q 199.2 101.9, 199.3 102.1 L 199.3 80.1 L 203.0 80.1 L 203.0 108.4 L 199.1 108.4 L 189.2 92.0 Q 188.0 90.1, 186.8 87.9 Q 185.6 85.7, 185.2 85.0 L 185.2 108.4 L 181.6 108.4 L 181.6 80.1 L 186.0 80.1 \" fill=\"#0000FF\"/>\n",
       "<path class=\"atom-0\" d=\"M 208.3 85.2 L 213.3 85.2 L 213.3 80.0 L 215.5 80.0 L 215.5 85.2 L 220.7 85.2 L 220.7 87.1 L 215.5 87.1 L 215.5 92.4 L 213.3 92.4 L 213.3 87.1 L 208.3 87.1 L 208.3 85.2 \" fill=\"#0000FF\"/>\n",
       "<path class=\"atom-4\" d=\"M 257.3 31.2 Q 257.3 24.4, 260.7 20.6 Q 264.0 16.8, 270.3 16.8 Q 276.6 16.8, 279.9 20.6 Q 283.3 24.4, 283.3 31.2 Q 283.3 38.0, 279.9 41.9 Q 276.5 45.8, 270.3 45.8 Q 264.1 45.8, 260.7 41.9 Q 257.3 38.1, 257.3 31.2 M 270.3 42.6 Q 274.6 42.6, 276.9 39.7 Q 279.3 36.8, 279.3 31.2 Q 279.3 25.6, 276.9 22.8 Q 274.6 20.0, 270.3 20.0 Q 266.0 20.0, 263.6 22.8 Q 261.3 25.6, 261.3 31.2 Q 261.3 36.9, 263.6 39.7 Q 266.0 42.6, 270.3 42.6 \" fill=\"#FF0000\"/>\n",
       "<path class=\"atom-5\" d=\"M 344.1 106.7 Q 344.1 99.9, 347.4 96.1 Q 350.8 92.3, 357.1 92.3 Q 363.3 92.3, 366.7 96.1 Q 370.1 99.9, 370.1 106.7 Q 370.1 113.6, 366.7 117.5 Q 363.3 121.4, 357.1 121.4 Q 350.8 121.4, 347.4 117.5 Q 344.1 113.6, 344.1 106.7 M 357.1 118.2 Q 361.4 118.2, 363.7 115.3 Q 366.1 112.4, 366.1 106.7 Q 366.1 101.2, 363.7 98.4 Q 361.4 95.5, 357.1 95.5 Q 352.8 95.5, 350.4 98.3 Q 348.1 101.1, 348.1 106.7 Q 348.1 112.4, 350.4 115.3 Q 352.8 118.2, 357.1 118.2 \" fill=\"#FF0000\"/>\n",
       "<path class=\"atom-5\" d=\"M 374.1 96.9 L 383.8 96.9 L 383.8 99.1 L 374.1 99.1 L 374.1 96.9 \" fill=\"#FF0000\"/>\n",
       "<path class=\"atom-6\" d=\"M 193.0 210.1 L 196.8 210.1 L 196.8 222.1 L 211.3 222.1 L 211.3 210.1 L 215.1 210.1 L 215.1 238.4 L 211.3 238.4 L 211.3 225.3 L 196.8 225.3 L 196.8 238.4 L 193.0 238.4 L 193.0 210.1 \" fill=\"#000000\"/>\n",
       "<path class=\"atom-7\" d=\"M 239.9 256.7 L 243.8 256.7 L 243.8 268.7 L 258.2 268.7 L 258.2 256.7 L 262.1 256.7 L 262.1 285.0 L 258.2 285.0 L 258.2 271.9 L 243.8 271.9 L 243.8 285.0 L 239.9 285.0 L 239.9 256.7 \" fill=\"#000000\"/>\n",
       "<path class=\"atom-8\" d=\"M 321.6 209.1 L 325.5 209.1 L 325.5 221.1 L 339.9 221.1 L 339.9 209.1 L 343.8 209.1 L 343.8 237.4 L 339.9 237.4 L 339.9 224.3 L 325.5 224.3 L 325.5 237.4 L 321.6 237.4 L 321.6 209.1 \" fill=\"#000000\"/>\n",
       "<path class=\"atom-9\" d=\"M 184.7 152.8 L 188.5 152.8 L 188.5 164.8 L 203.0 164.8 L 203.0 152.8 L 206.8 152.8 L 206.8 181.1 L 203.0 181.1 L 203.0 168.0 L 188.5 168.0 L 188.5 181.1 L 184.7 181.1 L 184.7 152.8 \" fill=\"#000000\"/>\n",
       "<path class=\"atom-10\" d=\"M 134.5 127.8 L 138.4 127.8 L 138.4 139.8 L 152.8 139.8 L 152.8 127.8 L 156.7 127.8 L 156.7 156.1 L 152.8 156.1 L 152.8 143.0 L 138.4 143.0 L 138.4 156.1 L 134.5 156.1 L 134.5 127.8 \" fill=\"#000000\"/>\n",
       "<path class=\"atom-11\" d=\"M 116.2 65.8 L 120.1 65.8 L 120.1 77.8 L 134.5 77.8 L 134.5 65.8 L 138.4 65.8 L 138.4 94.1 L 134.5 94.1 L 134.5 81.0 L 120.1 81.0 L 120.1 94.1 L 116.2 94.1 L 116.2 65.8 \" fill=\"#000000\"/>\n",
       "<path class=\"atom-12\" d=\"M 194.2 15.0 L 198.0 15.0 L 198.0 27.0 L 212.5 27.0 L 212.5 15.0 L 216.3 15.0 L 216.3 43.3 L 212.5 43.3 L 212.5 30.2 L 198.0 30.2 L 198.0 43.3 L 194.2 43.3 L 194.2 15.0 \" fill=\"#000000\"/>\n",
       "</svg>"
      ],
      "text/plain": [
       "<IPython.core.display.SVG object>"
      ]
     },
     "execution_count": 19,
     "metadata": {},
     "output_type": "execute_result"
    }
   ],
   "source": [
    "from openmm.app.pdbfile import PDBFile\n",
    "\n",
    "openmm_topology = PDBFile(\"zw_l_alanine.pdb\").getTopology()\n",
    "openff_topology = Topology.from_openmm(openmm_topology, unique_molecules=[zw_l_alanine])\n",
    "\n",
    "from_openmm_topology = openff_topology.molecule(0)\n",
    "\n",
    "assert zw_l_alanine.is_isomorphic_with(from_openmm_topology)\n",
    "\n",
    "from_openmm_topology.visualize()"
   ]
  },
  {
   "cell_type": "markdown",
   "id": "39e06787",
   "metadata": {},
   "source": [
    "### From an MDTraj `Topology`\n",
    "\n",
    "The [`Topology.from_mdtraj()`](openff.toolkit.topology.Topology.from_mdtraj) method can also be used to create an OpenFF `Topology` from an MDTraj [`Topology`](mdtraj.Topology). This method has similar restrictions and behavior as [`Topology.from_openmm`](openff.toolkit.topology.Topology.from_openmm)."
   ]
  },
  {
   "cell_type": "code",
   "execution_count": 20,
   "id": "68ee9ed2",
   "metadata": {},
   "outputs": [
    {
     "data": {
      "image/svg+xml": [
       "<svg xmlns=\"http://www.w3.org/2000/svg\" xmlns:rdkit=\"http://www.rdkit.org/xml\" xmlns:xlink=\"http://www.w3.org/1999/xlink\" version=\"1.1\" baseProfile=\"full\" xml:space=\"preserve\" width=\"500px\" height=\"300px\" viewBox=\"0 0 500 300\">\n",
       "<!-- END OF HEADER -->\n",
       "<rect style=\"opacity:1.0;fill:#FFFFFF;stroke:none\" width=\"500.0\" height=\"300.0\" x=\"0.0\" y=\"0.0\"> </rect>\n",
       "<path class=\"bond-0 atom-0 atom-2\" d=\"M 205.2,105.3 L 227.2,124.1\" style=\"fill:none;fill-rule:evenodd;stroke:#0000FF;stroke-width:2.0px;stroke-linecap:butt;stroke-linejoin:miter;stroke-opacity:1\"/>\n",
       "<path class=\"bond-0 atom-0 atom-2\" d=\"M 227.2,124.1 L 249.2,142.9\" style=\"fill:none;fill-rule:evenodd;stroke:#000000;stroke-width:2.0px;stroke-linecap:butt;stroke-linejoin:miter;stroke-opacity:1\"/>\n",
       "<path class=\"bond-1 atom-0 atom-10\" d=\"M 179.4,107.5 L 169.1,117.9\" style=\"fill:none;fill-rule:evenodd;stroke:#0000FF;stroke-width:2.0px;stroke-linecap:butt;stroke-linejoin:miter;stroke-opacity:1\"/>\n",
       "<path class=\"bond-1 atom-0 atom-10\" d=\"M 169.1,117.9 L 158.9,128.4\" style=\"fill:none;fill-rule:evenodd;stroke:#000000;stroke-width:2.0px;stroke-linecap:butt;stroke-linejoin:miter;stroke-opacity:1\"/>\n",
       "<path class=\"bond-2 atom-0 atom-11\" d=\"M 179.4,91.4 L 160.0,87.1\" style=\"fill:none;fill-rule:evenodd;stroke:#0000FF;stroke-width:2.0px;stroke-linecap:butt;stroke-linejoin:miter;stroke-opacity:1\"/>\n",
       "<path class=\"bond-2 atom-0 atom-11\" d=\"M 160.0,87.1 L 140.6,82.9\" style=\"fill:none;fill-rule:evenodd;stroke:#000000;stroke-width:2.0px;stroke-linecap:butt;stroke-linejoin:miter;stroke-opacity:1\"/>\n",
       "<path class=\"bond-3 atom-0 atom-12\" d=\"M 195.5,77.9 L 198.8,61.7\" style=\"fill:none;fill-rule:evenodd;stroke:#0000FF;stroke-width:2.0px;stroke-linecap:butt;stroke-linejoin:miter;stroke-opacity:1\"/>\n",
       "<path class=\"bond-3 atom-0 atom-12\" d=\"M 198.8,61.7 L 202.0,45.5\" style=\"fill:none;fill-rule:evenodd;stroke:#000000;stroke-width:2.0px;stroke-linecap:butt;stroke-linejoin:miter;stroke-opacity:1\"/>\n",
       "<path class=\"bond-4 atom-1 atom-2\" d=\"M 268.8,206.3 L 249.2,142.9\" style=\"fill:none;fill-rule:evenodd;stroke:#000000;stroke-width:2.0px;stroke-linecap:butt;stroke-linejoin:miter;stroke-opacity:1\"/>\n",
       "<path class=\"bond-5 atom-1 atom-6\" d=\"M 268.8,206.3 L 217.3,220.6\" style=\"fill:none;fill-rule:evenodd;stroke:#000000;stroke-width:2.0px;stroke-linecap:butt;stroke-linejoin:miter;stroke-opacity:1\"/>\n",
       "<path class=\"bond-6 atom-1 atom-7\" d=\"M 268.8,206.3 L 255.5,254.5\" style=\"fill:none;fill-rule:evenodd;stroke:#000000;stroke-width:2.0px;stroke-linecap:butt;stroke-linejoin:miter;stroke-opacity:1\"/>\n",
       "<path class=\"bond-7 atom-1 atom-8\" d=\"M 268.8,206.3 L 319.4,219.7\" style=\"fill:none;fill-rule:evenodd;stroke:#000000;stroke-width:2.0px;stroke-linecap:butt;stroke-linejoin:miter;stroke-opacity:1\"/>\n",
       "<path class=\"bond-8 atom-2 atom-3\" d=\"M 249.2,142.9 L 292.1,93.8\" style=\"fill:none;fill-rule:evenodd;stroke:#000000;stroke-width:2.0px;stroke-linecap:butt;stroke-linejoin:miter;stroke-opacity:1\"/>\n",
       "<path class=\"bond-9 atom-2 atom-9\" d=\"M 249.2,142.9 L 213.2,164.5 L 209.1,155.4 Z\" style=\"fill:#000000;fill-rule:evenodd;fill-opacity:1;stroke:#000000;stroke-width:0.5px;stroke-linecap:butt;stroke-linejoin:miter;stroke-opacity:1;\"/>\n",
       "<path class=\"bond-10 atom-3 atom-4\" d=\"M 297.8,94.9 L 289.4,70.6\" style=\"fill:none;fill-rule:evenodd;stroke:#000000;stroke-width:2.0px;stroke-linecap:butt;stroke-linejoin:miter;stroke-opacity:1\"/>\n",
       "<path class=\"bond-10 atom-3 atom-4\" d=\"M 289.4,70.6 L 280.9,46.4\" style=\"fill:none;fill-rule:evenodd;stroke:#FF0000;stroke-width:2.0px;stroke-linecap:butt;stroke-linejoin:miter;stroke-opacity:1\"/>\n",
       "<path class=\"bond-10 atom-3 atom-4\" d=\"M 288.4,98.1 L 279.9,73.9\" style=\"fill:none;fill-rule:evenodd;stroke:#000000;stroke-width:2.0px;stroke-linecap:butt;stroke-linejoin:miter;stroke-opacity:1\"/>\n",
       "<path class=\"bond-10 atom-3 atom-4\" d=\"M 279.9,73.9 L 271.5,49.6\" style=\"fill:none;fill-rule:evenodd;stroke:#FF0000;stroke-width:2.0px;stroke-linecap:butt;stroke-linejoin:miter;stroke-opacity:1\"/>\n",
       "<path class=\"bond-11 atom-3 atom-5\" d=\"M 292.1,93.8 L 317.0,98.7\" style=\"fill:none;fill-rule:evenodd;stroke:#000000;stroke-width:2.0px;stroke-linecap:butt;stroke-linejoin:miter;stroke-opacity:1\"/>\n",
       "<path class=\"bond-11 atom-3 atom-5\" d=\"M 317.0,98.7 L 341.9,103.6\" style=\"fill:none;fill-rule:evenodd;stroke:#FF0000;stroke-width:2.0px;stroke-linecap:butt;stroke-linejoin:miter;stroke-opacity:1\"/>\n",
       "<path d=\"M 290.0,96.2 L 292.1,93.8 L 293.4,94.0\" style=\"fill:none;stroke:#000000;stroke-width:2.0px;stroke-linecap:butt;stroke-linejoin:miter;stroke-opacity:1;\"/>\n",
       "<path class=\"atom-0\" d=\"M 186.0 80.1 L 195.3 95.1 Q 196.2 96.6, 197.7 99.3 Q 199.2 101.9, 199.3 102.1 L 199.3 80.1 L 203.0 80.1 L 203.0 108.4 L 199.1 108.4 L 189.2 92.0 Q 188.0 90.1, 186.8 87.9 Q 185.6 85.7, 185.2 85.0 L 185.2 108.4 L 181.6 108.4 L 181.6 80.1 L 186.0 80.1 \" fill=\"#0000FF\"/>\n",
       "<path class=\"atom-0\" d=\"M 208.3 85.2 L 213.3 85.2 L 213.3 80.0 L 215.5 80.0 L 215.5 85.2 L 220.7 85.2 L 220.7 87.1 L 215.5 87.1 L 215.5 92.4 L 213.3 92.4 L 213.3 87.1 L 208.3 87.1 L 208.3 85.2 \" fill=\"#0000FF\"/>\n",
       "<path class=\"atom-4\" d=\"M 257.3 31.2 Q 257.3 24.4, 260.7 20.6 Q 264.0 16.8, 270.3 16.8 Q 276.6 16.8, 279.9 20.6 Q 283.3 24.4, 283.3 31.2 Q 283.3 38.0, 279.9 41.9 Q 276.5 45.8, 270.3 45.8 Q 264.1 45.8, 260.7 41.9 Q 257.3 38.1, 257.3 31.2 M 270.3 42.6 Q 274.6 42.6, 276.9 39.7 Q 279.3 36.8, 279.3 31.2 Q 279.3 25.6, 276.9 22.8 Q 274.6 20.0, 270.3 20.0 Q 266.0 20.0, 263.6 22.8 Q 261.3 25.6, 261.3 31.2 Q 261.3 36.9, 263.6 39.7 Q 266.0 42.6, 270.3 42.6 \" fill=\"#FF0000\"/>\n",
       "<path class=\"atom-5\" d=\"M 344.1 106.7 Q 344.1 99.9, 347.4 96.1 Q 350.8 92.3, 357.1 92.3 Q 363.3 92.3, 366.7 96.1 Q 370.1 99.9, 370.1 106.7 Q 370.1 113.6, 366.7 117.5 Q 363.3 121.4, 357.1 121.4 Q 350.8 121.4, 347.4 117.5 Q 344.1 113.6, 344.1 106.7 M 357.1 118.2 Q 361.4 118.2, 363.7 115.3 Q 366.1 112.4, 366.1 106.7 Q 366.1 101.2, 363.7 98.4 Q 361.4 95.5, 357.1 95.5 Q 352.8 95.5, 350.4 98.3 Q 348.1 101.1, 348.1 106.7 Q 348.1 112.4, 350.4 115.3 Q 352.8 118.2, 357.1 118.2 \" fill=\"#FF0000\"/>\n",
       "<path class=\"atom-5\" d=\"M 374.1 96.9 L 383.8 96.9 L 383.8 99.1 L 374.1 99.1 L 374.1 96.9 \" fill=\"#FF0000\"/>\n",
       "<path class=\"atom-6\" d=\"M 193.0 210.1 L 196.8 210.1 L 196.8 222.1 L 211.3 222.1 L 211.3 210.1 L 215.1 210.1 L 215.1 238.4 L 211.3 238.4 L 211.3 225.3 L 196.8 225.3 L 196.8 238.4 L 193.0 238.4 L 193.0 210.1 \" fill=\"#000000\"/>\n",
       "<path class=\"atom-7\" d=\"M 239.9 256.7 L 243.8 256.7 L 243.8 268.7 L 258.2 268.7 L 258.2 256.7 L 262.1 256.7 L 262.1 285.0 L 258.2 285.0 L 258.2 271.9 L 243.8 271.9 L 243.8 285.0 L 239.9 285.0 L 239.9 256.7 \" fill=\"#000000\"/>\n",
       "<path class=\"atom-8\" d=\"M 321.6 209.1 L 325.5 209.1 L 325.5 221.1 L 339.9 221.1 L 339.9 209.1 L 343.8 209.1 L 343.8 237.4 L 339.9 237.4 L 339.9 224.3 L 325.5 224.3 L 325.5 237.4 L 321.6 237.4 L 321.6 209.1 \" fill=\"#000000\"/>\n",
       "<path class=\"atom-9\" d=\"M 184.7 152.8 L 188.5 152.8 L 188.5 164.8 L 203.0 164.8 L 203.0 152.8 L 206.8 152.8 L 206.8 181.1 L 203.0 181.1 L 203.0 168.0 L 188.5 168.0 L 188.5 181.1 L 184.7 181.1 L 184.7 152.8 \" fill=\"#000000\"/>\n",
       "<path class=\"atom-10\" d=\"M 134.5 127.8 L 138.4 127.8 L 138.4 139.8 L 152.8 139.8 L 152.8 127.8 L 156.7 127.8 L 156.7 156.1 L 152.8 156.1 L 152.8 143.0 L 138.4 143.0 L 138.4 156.1 L 134.5 156.1 L 134.5 127.8 \" fill=\"#000000\"/>\n",
       "<path class=\"atom-11\" d=\"M 116.2 65.8 L 120.1 65.8 L 120.1 77.8 L 134.5 77.8 L 134.5 65.8 L 138.4 65.8 L 138.4 94.1 L 134.5 94.1 L 134.5 81.0 L 120.1 81.0 L 120.1 94.1 L 116.2 94.1 L 116.2 65.8 \" fill=\"#000000\"/>\n",
       "<path class=\"atom-12\" d=\"M 194.2 15.0 L 198.0 15.0 L 198.0 27.0 L 212.5 27.0 L 212.5 15.0 L 216.3 15.0 L 216.3 43.3 L 212.5 43.3 L 212.5 30.2 L 198.0 30.2 L 198.0 43.3 L 194.2 43.3 L 194.2 15.0 \" fill=\"#000000\"/>\n",
       "</svg>"
      ],
      "text/plain": [
       "<IPython.core.display.SVG object>"
      ]
     },
     "execution_count": 20,
     "metadata": {},
     "output_type": "execute_result"
    }
   ],
   "source": [
    "from mdtraj import load_pdb\n",
    "\n",
    "mdtraj_topology = load_pdb(\"zw_l_alanine.pdb\").topology\n",
    "openff_topology = Topology.from_mdtraj(mdtraj_topology, unique_molecules=[zw_l_alanine])\n",
    "\n",
    "from_mdtraj_topology = openff_topology.molecule(0)\n",
    "\n",
    "assert zw_l_alanine.is_isomorphic_with(from_mdtraj_topology)\n",
    "\n",
    "from_mdtraj_topology.visualize()"
   ]
  },
  {
   "cell_type": "markdown",
   "id": "29c39bd1",
   "metadata": {},
   "source": [
    "## From Toolkit objects\n",
    "\n",
    "The OpenFF Toolkit calls out to other software to perform low-level tasks like reading SMILES or files. These external software packages are called toolkits, and presently include [RDKit](https://www.rdkit.org/) and the [OpenEye Toolkit](https://www.eyesopen.com/toolkit-development). OpenFF `Molecule` objects can be created from the equivalent objects in these toolkits."
   ]
  },
  {
   "cell_type": "markdown",
   "id": "c6f2af84",
   "metadata": {},
   "source": [
    "### From RDKit `Mol`\n",
    "\n",
    "The [`Molecule.from_rdkit()`](openff.toolkit.topology.Molecule.from_rdkit) method converts an [`rdkit.Chem.rdchem.Mol`](rdkit.Chem.rdchem.Mol) object to an OpenFF `Molecule`."
   ]
  },
  {
   "cell_type": "code",
   "execution_count": 21,
   "id": "fae232e6",
   "metadata": {},
   "outputs": [
    {
     "name": "stdout",
     "output_type": "stream",
     "text": [
      "rdmol is of type <class 'rdkit.Chem.rdchem.Mol'>\n"
     ]
    },
    {
     "data": {
      "image/svg+xml": [
       "<svg xmlns=\"http://www.w3.org/2000/svg\" xmlns:rdkit=\"http://www.rdkit.org/xml\" xmlns:xlink=\"http://www.w3.org/1999/xlink\" version=\"1.1\" baseProfile=\"full\" xml:space=\"preserve\" width=\"500px\" height=\"300px\" viewBox=\"0 0 500 300\">\n",
       "<!-- END OF HEADER -->\n",
       "<rect style=\"opacity:1.0;fill:#FFFFFF;stroke:none\" width=\"500.0\" height=\"300.0\" x=\"0.0\" y=\"0.0\"> </rect>\n",
       "<path class=\"bond-0 atom-0 atom-1\" d=\"M 276.2,80.8 L 256.0,148.4\" style=\"fill:none;fill-rule:evenodd;stroke:#000000;stroke-width:2.0px;stroke-linecap:butt;stroke-linejoin:miter;stroke-opacity:1\"/>\n",
       "<path class=\"bond-1 atom-1 atom-2\" d=\"M 256.0,148.4 L 235.5,166.3\" style=\"fill:none;fill-rule:evenodd;stroke:#000000;stroke-width:2.0px;stroke-linecap:butt;stroke-linejoin:miter;stroke-opacity:1\"/>\n",
       "<path class=\"bond-1 atom-1 atom-2\" d=\"M 235.5,166.3 L 215.0,184.1\" style=\"fill:none;fill-rule:evenodd;stroke:#0000FF;stroke-width:2.0px;stroke-linecap:butt;stroke-linejoin:miter;stroke-opacity:1\"/>\n",
       "<path class=\"bond-2 atom-1 atom-3\" d=\"M 256.0,148.4 L 302.2,200.2\" style=\"fill:none;fill-rule:evenodd;stroke:#000000;stroke-width:2.0px;stroke-linecap:butt;stroke-linejoin:miter;stroke-opacity:1\"/>\n",
       "<path class=\"bond-3 atom-3 atom-4\" d=\"M 302.2,200.2 L 293.8,225.4\" style=\"fill:none;fill-rule:evenodd;stroke:#000000;stroke-width:2.0px;stroke-linecap:butt;stroke-linejoin:miter;stroke-opacity:1\"/>\n",
       "<path class=\"bond-3 atom-3 atom-4\" d=\"M 293.8,225.4 L 285.3,250.6\" style=\"fill:none;fill-rule:evenodd;stroke:#FF0000;stroke-width:2.0px;stroke-linecap:butt;stroke-linejoin:miter;stroke-opacity:1\"/>\n",
       "<path class=\"bond-4 atom-3 atom-5\" d=\"M 300.3,206.1 L 328.6,200.1\" style=\"fill:none;fill-rule:evenodd;stroke:#000000;stroke-width:2.0px;stroke-linecap:butt;stroke-linejoin:miter;stroke-opacity:1\"/>\n",
       "<path class=\"bond-4 atom-3 atom-5\" d=\"M 328.6,200.1 L 357.0,194.2\" style=\"fill:none;fill-rule:evenodd;stroke:#FF0000;stroke-width:2.0px;stroke-linecap:butt;stroke-linejoin:miter;stroke-opacity:1\"/>\n",
       "<path class=\"bond-4 atom-3 atom-5\" d=\"M 298.2,195.7 L 326.5,189.8\" style=\"fill:none;fill-rule:evenodd;stroke:#000000;stroke-width:2.0px;stroke-linecap:butt;stroke-linejoin:miter;stroke-opacity:1\"/>\n",
       "<path class=\"bond-4 atom-3 atom-5\" d=\"M 326.5,189.8 L 354.8,183.8\" style=\"fill:none;fill-rule:evenodd;stroke:#FF0000;stroke-width:2.0px;stroke-linecap:butt;stroke-linejoin:miter;stroke-opacity:1\"/>\n",
       "<path class=\"bond-5 atom-0 atom-6\" d=\"M 276.2,80.8 L 330.7,95.3\" style=\"fill:none;fill-rule:evenodd;stroke:#000000;stroke-width:2.0px;stroke-linecap:butt;stroke-linejoin:miter;stroke-opacity:1\"/>\n",
       "<path class=\"bond-6 atom-0 atom-7\" d=\"M 276.2,80.8 L 311.8,44.0\" style=\"fill:none;fill-rule:evenodd;stroke:#000000;stroke-width:2.0px;stroke-linecap:butt;stroke-linejoin:miter;stroke-opacity:1\"/>\n",
       "<path class=\"bond-7 atom-0 atom-8\" d=\"M 276.2,80.8 L 238.7,43.9\" style=\"fill:none;fill-rule:evenodd;stroke:#000000;stroke-width:2.0px;stroke-linecap:butt;stroke-linejoin:miter;stroke-opacity:1\"/>\n",
       "<path class=\"bond-8 atom-1 atom-9\" d=\"M 252.7,147.4 L 253.0,146.7\" style=\"fill:none;fill-rule:evenodd;stroke:#000000;stroke-width:1.0px;stroke-linecap:butt;stroke-linejoin:miter;stroke-opacity:1\"/>\n",
       "<path class=\"bond-8 atom-1 atom-9\" d=\"M 249.3,146.4 L 250.0,144.9\" style=\"fill:none;fill-rule:evenodd;stroke:#000000;stroke-width:1.0px;stroke-linecap:butt;stroke-linejoin:miter;stroke-opacity:1\"/>\n",
       "<path class=\"bond-8 atom-1 atom-9\" d=\"M 246.0,145.4 L 247.0,143.1\" style=\"fill:none;fill-rule:evenodd;stroke:#000000;stroke-width:1.0px;stroke-linecap:butt;stroke-linejoin:miter;stroke-opacity:1\"/>\n",
       "<path class=\"bond-8 atom-1 atom-9\" d=\"M 242.6,144.3 L 243.9,141.3\" style=\"fill:none;fill-rule:evenodd;stroke:#000000;stroke-width:1.0px;stroke-linecap:butt;stroke-linejoin:miter;stroke-opacity:1\"/>\n",
       "<path class=\"bond-8 atom-1 atom-9\" d=\"M 239.3,143.3 L 240.9,139.6\" style=\"fill:none;fill-rule:evenodd;stroke:#000000;stroke-width:1.0px;stroke-linecap:butt;stroke-linejoin:miter;stroke-opacity:1\"/>\n",
       "<path class=\"bond-8 atom-1 atom-9\" d=\"M 235.9,142.3 L 237.9,137.8\" style=\"fill:none;fill-rule:evenodd;stroke:#000000;stroke-width:1.0px;stroke-linecap:butt;stroke-linejoin:miter;stroke-opacity:1\"/>\n",
       "<path class=\"bond-8 atom-1 atom-9\" d=\"M 232.6,141.3 L 234.9,136.0\" style=\"fill:none;fill-rule:evenodd;stroke:#000000;stroke-width:1.0px;stroke-linecap:butt;stroke-linejoin:miter;stroke-opacity:1\"/>\n",
       "<path class=\"bond-8 atom-1 atom-9\" d=\"M 229.3,140.2 L 231.9,134.3\" style=\"fill:none;fill-rule:evenodd;stroke:#000000;stroke-width:1.0px;stroke-linecap:butt;stroke-linejoin:miter;stroke-opacity:1\"/>\n",
       "<path class=\"bond-8 atom-1 atom-9\" d=\"M 225.9,139.2 L 228.9,132.5\" style=\"fill:none;fill-rule:evenodd;stroke:#000000;stroke-width:1.0px;stroke-linecap:butt;stroke-linejoin:miter;stroke-opacity:1\"/>\n",
       "<path class=\"bond-8 atom-1 atom-9\" d=\"M 222.6,138.2 L 225.9,130.7\" style=\"fill:none;fill-rule:evenodd;stroke:#000000;stroke-width:1.0px;stroke-linecap:butt;stroke-linejoin:miter;stroke-opacity:1\"/>\n",
       "<path class=\"bond-8 atom-1 atom-9\" d=\"M 219.2,137.2 L 222.9,128.9\" style=\"fill:none;fill-rule:evenodd;stroke:#000000;stroke-width:1.0px;stroke-linecap:butt;stroke-linejoin:miter;stroke-opacity:1\"/>\n",
       "<path class=\"bond-8 atom-1 atom-9\" d=\"M 215.9,136.1 L 219.8,127.2\" style=\"fill:none;fill-rule:evenodd;stroke:#000000;stroke-width:1.0px;stroke-linecap:butt;stroke-linejoin:miter;stroke-opacity:1\"/>\n",
       "<path class=\"bond-8 atom-1 atom-9\" d=\"M 212.6,135.1 L 216.8,125.4\" style=\"fill:none;fill-rule:evenodd;stroke:#000000;stroke-width:1.0px;stroke-linecap:butt;stroke-linejoin:miter;stroke-opacity:1\"/>\n",
       "<path class=\"bond-9 atom-2 atom-10\" d=\"M 182.8,187.6 L 171.0,175.7\" style=\"fill:none;fill-rule:evenodd;stroke:#0000FF;stroke-width:2.0px;stroke-linecap:butt;stroke-linejoin:miter;stroke-opacity:1\"/>\n",
       "<path class=\"bond-9 atom-2 atom-10\" d=\"M 171.0,175.7 L 159.2,163.8\" style=\"fill:none;fill-rule:evenodd;stroke:#000000;stroke-width:2.0px;stroke-linecap:butt;stroke-linejoin:miter;stroke-opacity:1\"/>\n",
       "<path class=\"bond-10 atom-2 atom-11\" d=\"M 182.8,203.7 L 161.6,208.6\" style=\"fill:none;fill-rule:evenodd;stroke:#0000FF;stroke-width:2.0px;stroke-linecap:butt;stroke-linejoin:miter;stroke-opacity:1\"/>\n",
       "<path class=\"bond-10 atom-2 atom-11\" d=\"M 161.6,208.6 L 140.3,213.5\" style=\"fill:none;fill-rule:evenodd;stroke:#000000;stroke-width:2.0px;stroke-linecap:butt;stroke-linejoin:miter;stroke-opacity:1\"/>\n",
       "<path class=\"bond-11 atom-2 atom-12\" d=\"M 199.3,217.2 L 203.1,235.3\" style=\"fill:none;fill-rule:evenodd;stroke:#0000FF;stroke-width:2.0px;stroke-linecap:butt;stroke-linejoin:miter;stroke-opacity:1\"/>\n",
       "<path class=\"bond-11 atom-2 atom-12\" d=\"M 203.1,235.3 L 206.9,253.4\" style=\"fill:none;fill-rule:evenodd;stroke:#000000;stroke-width:2.0px;stroke-linecap:butt;stroke-linejoin:miter;stroke-opacity:1\"/>\n",
       "<path d=\"M 299.9,197.6 L 302.2,200.2 L 301.8,201.5\" style=\"fill:none;stroke:#000000;stroke-width:2.0px;stroke-linecap:butt;stroke-linejoin:miter;stroke-opacity:1;\"/>\n",
       "<path class=\"atom-2\" d=\"M 189.7 186.6 L 198.9 201.6 Q 199.9 203.1, 201.3 205.7 Q 202.8 208.4, 202.9 208.6 L 202.9 186.6 L 206.7 186.6 L 206.7 214.9 L 202.8 214.9 L 192.8 198.5 Q 191.7 196.6, 190.4 194.4 Q 189.2 192.2, 188.9 191.5 L 188.9 214.9 L 185.2 214.9 L 185.2 186.6 L 189.7 186.6 \" fill=\"#0000FF\"/>\n",
       "<path class=\"atom-2\" d=\"M 212.0 191.7 L 217.0 191.7 L 217.0 186.4 L 219.2 186.4 L 219.2 191.7 L 224.3 191.7 L 224.3 193.6 L 219.2 193.6 L 219.2 198.9 L 217.0 198.9 L 217.0 193.6 L 212.0 193.6 L 212.0 191.7 \" fill=\"#0000FF\"/>\n",
       "<path class=\"atom-4\" d=\"M 266.7 267.3 Q 266.7 260.5, 270.0 256.7 Q 273.4 252.9, 279.7 252.9 Q 286.0 252.9, 289.3 256.7 Q 292.7 260.5, 292.7 267.3 Q 292.7 274.2, 289.3 278.1 Q 285.9 282.0, 279.7 282.0 Q 273.4 282.0, 270.0 278.1 Q 266.7 274.2, 266.7 267.3 M 279.7 278.8 Q 284.0 278.8, 286.3 275.9 Q 288.7 273.0, 288.7 267.3 Q 288.7 261.8, 286.3 259.0 Q 284.0 256.1, 279.7 256.1 Q 275.4 256.1, 273.0 258.9 Q 270.7 261.7, 270.7 267.3 Q 270.7 273.0, 273.0 275.9 Q 275.4 278.8, 279.7 278.8 \" fill=\"#FF0000\"/>\n",
       "<path class=\"atom-4\" d=\"M 296.7 257.6 L 306.4 257.6 L 306.4 259.7 L 296.7 259.7 L 296.7 257.6 \" fill=\"#FF0000\"/>\n",
       "<path class=\"atom-5\" d=\"M 358.2 185.9 Q 358.2 179.1, 361.6 175.3 Q 364.9 171.5, 371.2 171.5 Q 377.5 171.5, 380.9 175.3 Q 384.2 179.1, 384.2 185.9 Q 384.2 192.8, 380.8 196.7 Q 377.4 200.6, 371.2 200.6 Q 365.0 200.6, 361.6 196.7 Q 358.2 192.8, 358.2 185.9 M 371.2 197.4 Q 375.5 197.4, 377.9 194.5 Q 380.2 191.6, 380.2 185.9 Q 380.2 180.3, 377.9 177.5 Q 375.5 174.7, 371.2 174.7 Q 366.9 174.7, 364.5 177.5 Q 362.2 180.3, 362.2 185.9 Q 362.2 191.6, 364.5 194.5 Q 366.9 197.4, 371.2 197.4 \" fill=\"#FF0000\"/>\n",
       "<path class=\"atom-6\" d=\"M 333.0 84.7 L 336.8 84.7 L 336.8 96.7 L 351.3 96.7 L 351.3 84.7 L 355.2 84.7 L 355.2 113.0 L 351.3 113.0 L 351.3 99.9 L 336.8 99.9 L 336.8 113.0 L 333.0 113.0 L 333.0 84.7 \" fill=\"#000000\"/>\n",
       "<path class=\"atom-7\" d=\"M 314.1 15.9 L 317.9 15.9 L 317.9 27.9 L 332.4 27.9 L 332.4 15.9 L 336.2 15.9 L 336.2 44.2 L 332.4 44.2 L 332.4 31.1 L 317.9 31.1 L 317.9 44.2 L 314.1 44.2 L 314.1 15.9 \" fill=\"#000000\"/>\n",
       "<path class=\"atom-8\" d=\"M 214.2 16.5 L 218.1 16.5 L 218.1 28.5 L 232.6 28.5 L 232.6 16.5 L 236.4 16.5 L 236.4 44.8 L 232.6 44.8 L 232.6 31.7 L 218.1 31.7 L 218.1 44.8 L 214.2 44.8 L 214.2 16.5 \" fill=\"#000000\"/>\n",
       "<path class=\"atom-9\" d=\"M 187.9 109.2 L 191.7 109.2 L 191.7 121.2 L 206.2 121.2 L 206.2 109.2 L 210.0 109.2 L 210.0 137.5 L 206.2 137.5 L 206.2 124.4 L 191.7 124.4 L 191.7 137.5 L 187.9 137.5 L 187.9 109.2 \" fill=\"#000000\"/>\n",
       "<path class=\"atom-10\" d=\"M 134.7 136.2 L 138.5 136.2 L 138.5 148.2 L 153.0 148.2 L 153.0 136.2 L 156.9 136.2 L 156.9 164.5 L 153.0 164.5 L 153.0 151.4 L 138.5 151.4 L 138.5 164.5 L 134.7 164.5 L 134.7 136.2 \" fill=\"#000000\"/>\n",
       "<path class=\"atom-11\" d=\"M 115.8 202.4 L 119.6 202.4 L 119.6 214.5 L 134.1 214.5 L 134.1 202.4 L 137.9 202.4 L 137.9 230.7 L 134.1 230.7 L 134.1 217.7 L 119.6 217.7 L 119.6 230.7 L 115.8 230.7 L 115.8 202.4 \" fill=\"#000000\"/>\n",
       "<path class=\"atom-12\" d=\"M 199.2 255.8 L 203.1 255.8 L 203.1 267.8 L 217.5 267.8 L 217.5 255.8 L 221.4 255.8 L 221.4 284.1 L 217.5 284.1 L 217.5 271.0 L 203.1 271.0 L 203.1 284.1 L 199.2 284.1 L 199.2 255.8 \" fill=\"#000000\"/>\n",
       "</svg>"
      ],
      "text/plain": [
       "<IPython.core.display.SVG object>"
      ]
     },
     "execution_count": 21,
     "metadata": {},
     "output_type": "execute_result"
    }
   ],
   "source": [
    "from rdkit import Chem\n",
    "\n",
    "rdmol = Chem.MolFromSmiles(\"C[C@H]([NH3+])C([O-])=O\")\n",
    "\n",
    "print(\"rdmol is of type\", type(rdmol))\n",
    "\n",
    "from_rdmol = Molecule.from_rdkit(rdmol)\n",
    "\n",
    "assert zw_l_alanine.is_isomorphic_with(from_rdmol)\n",
    "from_rdmol.visualize()"
   ]
  },
  {
   "cell_type": "markdown",
   "id": "6fe44fac",
   "metadata": {},
   "source": [
    "### From OpenEye `OEMol`\n",
    "\n",
    "The [`Molecule.from_openeye()`](openff.toolkit.topology.Molecule.from_rdkit) method converts an object that inherits from [`openeye.oechem.OEMolBase`](https://docs.eyesopen.com/toolkits/python/oechemtk/OEChemClasses/OEMolBase.html) to an OpenFF `Molecule`."
   ]
  },
  {
   "cell_type": "code",
   "execution_count": 22,
   "id": "c186257f",
   "metadata": {},
   "outputs": [
    {
     "data": {
      "image/svg+xml": [
       "<svg xmlns=\"http://www.w3.org/2000/svg\" xmlns:rdkit=\"http://www.rdkit.org/xml\" xmlns:xlink=\"http://www.w3.org/1999/xlink\" version=\"1.1\" baseProfile=\"full\" xml:space=\"preserve\" width=\"500px\" height=\"300px\" viewBox=\"0 0 500 300\">\n",
       "<!-- END OF HEADER -->\n",
       "<rect style=\"opacity:1.0;fill:#FFFFFF;stroke:none\" width=\"500.0\" height=\"300.0\" x=\"0.0\" y=\"0.0\"> </rect>\n",
       "<path class=\"bond-0 atom-0 atom-1\" d=\"M 276.2,80.8 L 256.0,148.4\" style=\"fill:none;fill-rule:evenodd;stroke:#000000;stroke-width:2.0px;stroke-linecap:butt;stroke-linejoin:miter;stroke-opacity:1\"/>\n",
       "<path class=\"bond-1 atom-1 atom-2\" d=\"M 252.7,147.4 L 253.0,146.7\" style=\"fill:none;fill-rule:evenodd;stroke:#000000;stroke-width:1.0px;stroke-linecap:butt;stroke-linejoin:miter;stroke-opacity:1\"/>\n",
       "<path class=\"bond-1 atom-1 atom-2\" d=\"M 249.3,146.4 L 250.0,144.9\" style=\"fill:none;fill-rule:evenodd;stroke:#000000;stroke-width:1.0px;stroke-linecap:butt;stroke-linejoin:miter;stroke-opacity:1\"/>\n",
       "<path class=\"bond-1 atom-1 atom-2\" d=\"M 246.0,145.4 L 247.0,143.1\" style=\"fill:none;fill-rule:evenodd;stroke:#000000;stroke-width:1.0px;stroke-linecap:butt;stroke-linejoin:miter;stroke-opacity:1\"/>\n",
       "<path class=\"bond-1 atom-1 atom-2\" d=\"M 242.6,144.3 L 243.9,141.3\" style=\"fill:none;fill-rule:evenodd;stroke:#000000;stroke-width:1.0px;stroke-linecap:butt;stroke-linejoin:miter;stroke-opacity:1\"/>\n",
       "<path class=\"bond-1 atom-1 atom-2\" d=\"M 239.3,143.3 L 240.9,139.6\" style=\"fill:none;fill-rule:evenodd;stroke:#000000;stroke-width:1.0px;stroke-linecap:butt;stroke-linejoin:miter;stroke-opacity:1\"/>\n",
       "<path class=\"bond-1 atom-1 atom-2\" d=\"M 235.9,142.3 L 237.9,137.8\" style=\"fill:none;fill-rule:evenodd;stroke:#000000;stroke-width:1.0px;stroke-linecap:butt;stroke-linejoin:miter;stroke-opacity:1\"/>\n",
       "<path class=\"bond-1 atom-1 atom-2\" d=\"M 232.6,141.3 L 234.9,136.0\" style=\"fill:none;fill-rule:evenodd;stroke:#000000;stroke-width:1.0px;stroke-linecap:butt;stroke-linejoin:miter;stroke-opacity:1\"/>\n",
       "<path class=\"bond-1 atom-1 atom-2\" d=\"M 229.3,140.2 L 231.9,134.3\" style=\"fill:none;fill-rule:evenodd;stroke:#000000;stroke-width:1.0px;stroke-linecap:butt;stroke-linejoin:miter;stroke-opacity:1\"/>\n",
       "<path class=\"bond-1 atom-1 atom-2\" d=\"M 225.9,139.2 L 228.9,132.5\" style=\"fill:none;fill-rule:evenodd;stroke:#000000;stroke-width:1.0px;stroke-linecap:butt;stroke-linejoin:miter;stroke-opacity:1\"/>\n",
       "<path class=\"bond-1 atom-1 atom-2\" d=\"M 222.6,138.2 L 225.9,130.7\" style=\"fill:none;fill-rule:evenodd;stroke:#000000;stroke-width:1.0px;stroke-linecap:butt;stroke-linejoin:miter;stroke-opacity:1\"/>\n",
       "<path class=\"bond-1 atom-1 atom-2\" d=\"M 219.2,137.2 L 222.9,128.9\" style=\"fill:none;fill-rule:evenodd;stroke:#000000;stroke-width:1.0px;stroke-linecap:butt;stroke-linejoin:miter;stroke-opacity:1\"/>\n",
       "<path class=\"bond-1 atom-1 atom-2\" d=\"M 215.9,136.1 L 219.8,127.2\" style=\"fill:none;fill-rule:evenodd;stroke:#000000;stroke-width:1.0px;stroke-linecap:butt;stroke-linejoin:miter;stroke-opacity:1\"/>\n",
       "<path class=\"bond-1 atom-1 atom-2\" d=\"M 212.6,135.1 L 216.8,125.4\" style=\"fill:none;fill-rule:evenodd;stroke:#000000;stroke-width:1.0px;stroke-linecap:butt;stroke-linejoin:miter;stroke-opacity:1\"/>\n",
       "<path class=\"bond-2 atom-1 atom-3\" d=\"M 256.0,148.4 L 235.5,166.3\" style=\"fill:none;fill-rule:evenodd;stroke:#000000;stroke-width:2.0px;stroke-linecap:butt;stroke-linejoin:miter;stroke-opacity:1\"/>\n",
       "<path class=\"bond-2 atom-1 atom-3\" d=\"M 235.5,166.3 L 215.0,184.1\" style=\"fill:none;fill-rule:evenodd;stroke:#0000FF;stroke-width:2.0px;stroke-linecap:butt;stroke-linejoin:miter;stroke-opacity:1\"/>\n",
       "<path class=\"bond-3 atom-1 atom-4\" d=\"M 256.0,148.4 L 302.2,200.2\" style=\"fill:none;fill-rule:evenodd;stroke:#000000;stroke-width:2.0px;stroke-linecap:butt;stroke-linejoin:miter;stroke-opacity:1\"/>\n",
       "<path class=\"bond-4 atom-4 atom-5\" d=\"M 302.2,200.2 L 293.8,225.4\" style=\"fill:none;fill-rule:evenodd;stroke:#000000;stroke-width:2.0px;stroke-linecap:butt;stroke-linejoin:miter;stroke-opacity:1\"/>\n",
       "<path class=\"bond-4 atom-4 atom-5\" d=\"M 293.8,225.4 L 285.3,250.6\" style=\"fill:none;fill-rule:evenodd;stroke:#FF0000;stroke-width:2.0px;stroke-linecap:butt;stroke-linejoin:miter;stroke-opacity:1\"/>\n",
       "<path class=\"bond-5 atom-4 atom-6\" d=\"M 300.3,206.1 L 328.6,200.1\" style=\"fill:none;fill-rule:evenodd;stroke:#000000;stroke-width:2.0px;stroke-linecap:butt;stroke-linejoin:miter;stroke-opacity:1\"/>\n",
       "<path class=\"bond-5 atom-4 atom-6\" d=\"M 328.6,200.1 L 357.0,194.2\" style=\"fill:none;fill-rule:evenodd;stroke:#FF0000;stroke-width:2.0px;stroke-linecap:butt;stroke-linejoin:miter;stroke-opacity:1\"/>\n",
       "<path class=\"bond-5 atom-4 atom-6\" d=\"M 298.2,195.7 L 326.5,189.8\" style=\"fill:none;fill-rule:evenodd;stroke:#000000;stroke-width:2.0px;stroke-linecap:butt;stroke-linejoin:miter;stroke-opacity:1\"/>\n",
       "<path class=\"bond-5 atom-4 atom-6\" d=\"M 326.5,189.8 L 354.8,183.8\" style=\"fill:none;fill-rule:evenodd;stroke:#FF0000;stroke-width:2.0px;stroke-linecap:butt;stroke-linejoin:miter;stroke-opacity:1\"/>\n",
       "<path class=\"bond-6 atom-0 atom-7\" d=\"M 276.2,80.8 L 330.7,95.3\" style=\"fill:none;fill-rule:evenodd;stroke:#000000;stroke-width:2.0px;stroke-linecap:butt;stroke-linejoin:miter;stroke-opacity:1\"/>\n",
       "<path class=\"bond-7 atom-0 atom-8\" d=\"M 276.2,80.8 L 311.8,44.0\" style=\"fill:none;fill-rule:evenodd;stroke:#000000;stroke-width:2.0px;stroke-linecap:butt;stroke-linejoin:miter;stroke-opacity:1\"/>\n",
       "<path class=\"bond-8 atom-0 atom-9\" d=\"M 276.2,80.8 L 238.7,43.9\" style=\"fill:none;fill-rule:evenodd;stroke:#000000;stroke-width:2.0px;stroke-linecap:butt;stroke-linejoin:miter;stroke-opacity:1\"/>\n",
       "<path class=\"bond-9 atom-3 atom-10\" d=\"M 182.8,187.6 L 171.0,175.7\" style=\"fill:none;fill-rule:evenodd;stroke:#0000FF;stroke-width:2.0px;stroke-linecap:butt;stroke-linejoin:miter;stroke-opacity:1\"/>\n",
       "<path class=\"bond-9 atom-3 atom-10\" d=\"M 171.0,175.7 L 159.2,163.8\" style=\"fill:none;fill-rule:evenodd;stroke:#000000;stroke-width:2.0px;stroke-linecap:butt;stroke-linejoin:miter;stroke-opacity:1\"/>\n",
       "<path class=\"bond-10 atom-3 atom-11\" d=\"M 182.8,203.7 L 161.6,208.6\" style=\"fill:none;fill-rule:evenodd;stroke:#0000FF;stroke-width:2.0px;stroke-linecap:butt;stroke-linejoin:miter;stroke-opacity:1\"/>\n",
       "<path class=\"bond-10 atom-3 atom-11\" d=\"M 161.6,208.6 L 140.3,213.5\" style=\"fill:none;fill-rule:evenodd;stroke:#000000;stroke-width:2.0px;stroke-linecap:butt;stroke-linejoin:miter;stroke-opacity:1\"/>\n",
       "<path class=\"bond-11 atom-3 atom-12\" d=\"M 199.3,217.2 L 203.1,235.3\" style=\"fill:none;fill-rule:evenodd;stroke:#0000FF;stroke-width:2.0px;stroke-linecap:butt;stroke-linejoin:miter;stroke-opacity:1\"/>\n",
       "<path class=\"bond-11 atom-3 atom-12\" d=\"M 203.1,235.3 L 206.9,253.4\" style=\"fill:none;fill-rule:evenodd;stroke:#000000;stroke-width:2.0px;stroke-linecap:butt;stroke-linejoin:miter;stroke-opacity:1\"/>\n",
       "<path d=\"M 299.9,197.6 L 302.2,200.2 L 301.8,201.5\" style=\"fill:none;stroke:#000000;stroke-width:2.0px;stroke-linecap:butt;stroke-linejoin:miter;stroke-opacity:1;\"/>\n",
       "<path class=\"atom-2\" d=\"M 187.9 109.2 L 191.7 109.2 L 191.7 121.2 L 206.2 121.2 L 206.2 109.2 L 210.0 109.2 L 210.0 137.5 L 206.2 137.5 L 206.2 124.4 L 191.7 124.4 L 191.7 137.5 L 187.9 137.5 L 187.9 109.2 \" fill=\"#000000\"/>\n",
       "<path class=\"atom-3\" d=\"M 189.7 186.6 L 198.9 201.6 Q 199.9 203.1, 201.3 205.7 Q 202.8 208.4, 202.9 208.6 L 202.9 186.6 L 206.7 186.6 L 206.7 214.9 L 202.8 214.9 L 192.8 198.5 Q 191.7 196.6, 190.4 194.4 Q 189.2 192.2, 188.9 191.5 L 188.9 214.9 L 185.2 214.9 L 185.2 186.6 L 189.7 186.6 \" fill=\"#0000FF\"/>\n",
       "<path class=\"atom-3\" d=\"M 212.0 191.7 L 217.0 191.7 L 217.0 186.4 L 219.2 186.4 L 219.2 191.7 L 224.3 191.7 L 224.3 193.6 L 219.2 193.6 L 219.2 198.9 L 217.0 198.9 L 217.0 193.6 L 212.0 193.6 L 212.0 191.7 \" fill=\"#0000FF\"/>\n",
       "<path class=\"atom-5\" d=\"M 266.7 267.3 Q 266.7 260.5, 270.0 256.7 Q 273.4 252.9, 279.7 252.9 Q 286.0 252.9, 289.3 256.7 Q 292.7 260.5, 292.7 267.3 Q 292.7 274.2, 289.3 278.1 Q 285.9 282.0, 279.7 282.0 Q 273.4 282.0, 270.0 278.1 Q 266.7 274.2, 266.7 267.3 M 279.7 278.8 Q 284.0 278.8, 286.3 275.9 Q 288.7 273.0, 288.7 267.3 Q 288.7 261.8, 286.3 259.0 Q 284.0 256.1, 279.7 256.1 Q 275.4 256.1, 273.0 258.9 Q 270.7 261.7, 270.7 267.3 Q 270.7 273.0, 273.0 275.9 Q 275.4 278.8, 279.7 278.8 \" fill=\"#FF0000\"/>\n",
       "<path class=\"atom-5\" d=\"M 296.7 257.6 L 306.4 257.6 L 306.4 259.7 L 296.7 259.7 L 296.7 257.6 \" fill=\"#FF0000\"/>\n",
       "<path class=\"atom-6\" d=\"M 358.2 185.9 Q 358.2 179.1, 361.6 175.3 Q 364.9 171.5, 371.2 171.5 Q 377.5 171.5, 380.9 175.3 Q 384.2 179.1, 384.2 185.9 Q 384.2 192.8, 380.8 196.7 Q 377.4 200.6, 371.2 200.6 Q 365.0 200.6, 361.6 196.7 Q 358.2 192.8, 358.2 185.9 M 371.2 197.4 Q 375.5 197.4, 377.9 194.5 Q 380.2 191.6, 380.2 185.9 Q 380.2 180.3, 377.9 177.5 Q 375.5 174.7, 371.2 174.7 Q 366.9 174.7, 364.5 177.5 Q 362.2 180.3, 362.2 185.9 Q 362.2 191.6, 364.5 194.5 Q 366.9 197.4, 371.2 197.4 \" fill=\"#FF0000\"/>\n",
       "<path class=\"atom-7\" d=\"M 333.0 84.7 L 336.8 84.7 L 336.8 96.7 L 351.3 96.7 L 351.3 84.7 L 355.2 84.7 L 355.2 113.0 L 351.3 113.0 L 351.3 99.9 L 336.8 99.9 L 336.8 113.0 L 333.0 113.0 L 333.0 84.7 \" fill=\"#000000\"/>\n",
       "<path class=\"atom-8\" d=\"M 314.1 15.9 L 317.9 15.9 L 317.9 27.9 L 332.4 27.9 L 332.4 15.9 L 336.2 15.9 L 336.2 44.2 L 332.4 44.2 L 332.4 31.1 L 317.9 31.1 L 317.9 44.2 L 314.1 44.2 L 314.1 15.9 \" fill=\"#000000\"/>\n",
       "<path class=\"atom-9\" d=\"M 214.2 16.5 L 218.1 16.5 L 218.1 28.5 L 232.6 28.5 L 232.6 16.5 L 236.4 16.5 L 236.4 44.8 L 232.6 44.8 L 232.6 31.7 L 218.1 31.7 L 218.1 44.8 L 214.2 44.8 L 214.2 16.5 \" fill=\"#000000\"/>\n",
       "<path class=\"atom-10\" d=\"M 134.7 136.2 L 138.5 136.2 L 138.5 148.2 L 153.0 148.2 L 153.0 136.2 L 156.9 136.2 L 156.9 164.5 L 153.0 164.5 L 153.0 151.4 L 138.5 151.4 L 138.5 164.5 L 134.7 164.5 L 134.7 136.2 \" fill=\"#000000\"/>\n",
       "<path class=\"atom-11\" d=\"M 115.8 202.4 L 119.6 202.4 L 119.6 214.5 L 134.1 214.5 L 134.1 202.4 L 137.9 202.4 L 137.9 230.7 L 134.1 230.7 L 134.1 217.7 L 119.6 217.7 L 119.6 230.7 L 115.8 230.7 L 115.8 202.4 \" fill=\"#000000\"/>\n",
       "<path class=\"atom-12\" d=\"M 199.2 255.8 L 203.1 255.8 L 203.1 267.8 L 217.5 267.8 L 217.5 255.8 L 221.4 255.8 L 221.4 284.1 L 217.5 284.1 L 217.5 271.0 L 203.1 271.0 L 203.1 284.1 L 199.2 284.1 L 199.2 255.8 \" fill=\"#000000\"/>\n",
       "</svg>"
      ],
      "text/plain": [
       "<IPython.core.display.SVG object>"
      ]
     },
     "execution_count": 22,
     "metadata": {},
     "output_type": "execute_result"
    }
   ],
   "source": [
    "from openeye import oechem\n",
    "\n",
    "oemol = oechem.OEGraphMol()\n",
    "oechem.OESmilesToMol(oemol, \"C[C@H]([NH3+])C([O-])=O\")\n",
    "\n",
    "assert isinstance(oemol, oechem.OEMolBase)\n",
    "\n",
    "from_oemol = Molecule.from_openeye(oemol)\n",
    "\n",
    "assert zw_l_alanine.is_isomorphic_with(from_oemol)\n",
    "from_oemol.visualize()"
   ]
  },
  {
   "cell_type": "markdown",
   "id": "15765778",
   "metadata": {},
   "source": [
    "## From QCArchive\n",
    "\n",
    "[QCArchive](https://qcarchive.molssi.org/) is a repository of quantum chemical calculations on small molecules. The [`Molecule.from_qcschema()`](openff.toolkit.topology.Molecule.from_qcschema) method creates a `Molecule` from a record from the archive. Because the identity of a molecule can change of the course of a QC calculation, the Toolkit accepts records only if they contain a hydrogen-mapped SMILES code.\n",
    "\n",
    ":::{note}\n",
    "These examples use molecules other than l-Alanine because of their availability in QCArchive\n",
    ":::"
   ]
  },
  {
   "cell_type": "markdown",
   "id": "0f143a62",
   "metadata": {},
   "source": [
    "### From a QCArchive molecule record\n",
    "\n",
    "The [`Molecule.from_qcschema()`](openff.toolkit.topology.Molecule.from_qcschema) method can take a molecule record queried from the QCArchive and create a `Molecule` from it."
   ]
  },
  {
   "cell_type": "code",
   "execution_count": 23,
   "id": "8e026b0f",
   "metadata": {
    "tags": []
   },
   "outputs": [
    {
     "data": {
      "image/svg+xml": [
       "<svg xmlns=\"http://www.w3.org/2000/svg\" xmlns:rdkit=\"http://www.rdkit.org/xml\" xmlns:xlink=\"http://www.w3.org/1999/xlink\" version=\"1.1\" baseProfile=\"full\" xml:space=\"preserve\" width=\"500px\" height=\"300px\" viewBox=\"0 0 500 300\">\n",
       "<!-- END OF HEADER -->\n",
       "<rect style=\"opacity:1.0;fill:#FFFFFF;stroke:none\" width=\"500.0\" height=\"300.0\" x=\"0.0\" y=\"0.0\"> </rect>\n",
       "<path class=\"bond-0 atom-0 atom-5\" d=\"M 191.1,221.8 L 203.7,221.6\" style=\"fill:none;fill-rule:evenodd;stroke:#FF0000;stroke-width:2.0px;stroke-linecap:butt;stroke-linejoin:miter;stroke-opacity:1\"/>\n",
       "<path class=\"bond-0 atom-0 atom-5\" d=\"M 203.7,221.6 L 216.3,221.5\" style=\"fill:none;fill-rule:evenodd;stroke:#000000;stroke-width:2.0px;stroke-linecap:butt;stroke-linejoin:miter;stroke-opacity:1\"/>\n",
       "<path class=\"bond-0 atom-0 atom-5\" d=\"M 191.2,226.5 L 203.8,226.3\" style=\"fill:none;fill-rule:evenodd;stroke:#FF0000;stroke-width:2.0px;stroke-linecap:butt;stroke-linejoin:miter;stroke-opacity:1\"/>\n",
       "<path class=\"bond-0 atom-0 atom-5\" d=\"M 203.8,226.3 L 216.4,226.2\" style=\"fill:none;fill-rule:evenodd;stroke:#000000;stroke-width:2.0px;stroke-linecap:butt;stroke-linejoin:miter;stroke-opacity:1\"/>\n",
       "<path class=\"bond-1 atom-1 atom-6\" d=\"M 137.9,131.5 L 137.6,143.8\" style=\"fill:none;fill-rule:evenodd;stroke:#FF0000;stroke-width:2.0px;stroke-linecap:butt;stroke-linejoin:miter;stroke-opacity:1\"/>\n",
       "<path class=\"bond-1 atom-1 atom-6\" d=\"M 137.6,143.8 L 137.2,156.2\" style=\"fill:none;fill-rule:evenodd;stroke:#000000;stroke-width:2.0px;stroke-linecap:butt;stroke-linejoin:miter;stroke-opacity:1\"/>\n",
       "<path class=\"bond-1 atom-1 atom-6\" d=\"M 133.2,131.4 L 132.9,143.7\" style=\"fill:none;fill-rule:evenodd;stroke:#FF0000;stroke-width:2.0px;stroke-linecap:butt;stroke-linejoin:miter;stroke-opacity:1\"/>\n",
       "<path class=\"bond-1 atom-1 atom-6\" d=\"M 132.9,143.7 L 132.6,156.1\" style=\"fill:none;fill-rule:evenodd;stroke:#000000;stroke-width:2.0px;stroke-linecap:butt;stroke-linejoin:miter;stroke-opacity:1\"/>\n",
       "<path class=\"bond-2 atom-2 atom-7\" d=\"M 333.4,197.9 L 333.8,185.4\" style=\"fill:none;fill-rule:evenodd;stroke:#FF0000;stroke-width:2.0px;stroke-linecap:butt;stroke-linejoin:miter;stroke-opacity:1\"/>\n",
       "<path class=\"bond-2 atom-2 atom-7\" d=\"M 333.8,185.4 L 334.2,172.9\" style=\"fill:none;fill-rule:evenodd;stroke:#000000;stroke-width:2.0px;stroke-linecap:butt;stroke-linejoin:miter;stroke-opacity:1\"/>\n",
       "<path class=\"bond-2 atom-2 atom-7\" d=\"M 338.1,198.0 L 338.5,185.5\" style=\"fill:none;fill-rule:evenodd;stroke:#FF0000;stroke-width:2.0px;stroke-linecap:butt;stroke-linejoin:miter;stroke-opacity:1\"/>\n",
       "<path class=\"bond-2 atom-2 atom-7\" d=\"M 338.5,185.5 L 338.9,173.0\" style=\"fill:none;fill-rule:evenodd;stroke:#000000;stroke-width:2.0px;stroke-linecap:butt;stroke-linejoin:miter;stroke-opacity:1\"/>\n",
       "<path class=\"bond-3 atom-3 atom-8\" d=\"M 240.6,133.1 L 242.4,145.6\" style=\"fill:none;fill-rule:evenodd;stroke:#FF0000;stroke-width:2.0px;stroke-linecap:butt;stroke-linejoin:miter;stroke-opacity:1\"/>\n",
       "<path class=\"bond-3 atom-3 atom-8\" d=\"M 242.4,145.6 L 244.2,158.1\" style=\"fill:none;fill-rule:evenodd;stroke:#000000;stroke-width:2.0px;stroke-linecap:butt;stroke-linejoin:miter;stroke-opacity:1\"/>\n",
       "<path class=\"bond-3 atom-3 atom-8\" d=\"M 236.0,133.8 L 237.8,146.3\" style=\"fill:none;fill-rule:evenodd;stroke:#FF0000;stroke-width:2.0px;stroke-linecap:butt;stroke-linejoin:miter;stroke-opacity:1\"/>\n",
       "<path class=\"bond-3 atom-3 atom-8\" d=\"M 237.8,146.3 L 239.5,158.2\" style=\"fill:none;fill-rule:evenodd;stroke:#000000;stroke-width:2.0px;stroke-linecap:butt;stroke-linejoin:miter;stroke-opacity:1\"/>\n",
       "<path class=\"bond-4 atom-4 atom-6\" d=\"M 117.8,164.2 L 126.4,159.5\" style=\"fill:none;fill-rule:evenodd;stroke:#FF0000;stroke-width:2.0px;stroke-linecap:butt;stroke-linejoin:miter;stroke-opacity:1\"/>\n",
       "<path class=\"bond-4 atom-4 atom-6\" d=\"M 126.4,159.5 L 134.9,154.8\" style=\"fill:none;fill-rule:evenodd;stroke:#000000;stroke-width:2.0px;stroke-linecap:butt;stroke-linejoin:miter;stroke-opacity:1\"/>\n",
       "<path class=\"bond-5 atom-5 atom-17\" d=\"M 215.0,223.8 L 220.1,214.3\" style=\"fill:none;fill-rule:evenodd;stroke:#000000;stroke-width:2.0px;stroke-linecap:butt;stroke-linejoin:miter;stroke-opacity:1\"/>\n",
       "<path class=\"bond-5 atom-5 atom-17\" d=\"M 220.1,214.3 L 225.2,204.8\" style=\"fill:none;fill-rule:evenodd;stroke:#0000FF;stroke-width:2.0px;stroke-linecap:butt;stroke-linejoin:miter;stroke-opacity:1\"/>\n",
       "<path class=\"bond-6 atom-5 atom-18\" d=\"M 215.0,223.8 L 231.4,251.3\" style=\"fill:none;fill-rule:evenodd;stroke:#000000;stroke-width:2.0px;stroke-linecap:butt;stroke-linejoin:miter;stroke-opacity:1\"/>\n",
       "<path class=\"bond-7 atom-6 atom-19\" d=\"M 134.9,154.8 L 161.1,170.8\" style=\"fill:none;fill-rule:evenodd;stroke:#000000;stroke-width:2.0px;stroke-linecap:butt;stroke-linejoin:miter;stroke-opacity:1\"/>\n",
       "<path class=\"bond-8 atom-7 atom-15\" d=\"M 336.5,174.2 L 348.9,168.1\" style=\"fill:none;fill-rule:evenodd;stroke:#000000;stroke-width:2.0px;stroke-linecap:butt;stroke-linejoin:miter;stroke-opacity:1\"/>\n",
       "<path class=\"bond-8 atom-7 atom-15\" d=\"M 348.9,168.1 L 361.3,162.0\" style=\"fill:none;fill-rule:evenodd;stroke:#0000FF;stroke-width:2.0px;stroke-linecap:butt;stroke-linejoin:miter;stroke-opacity:1\"/>\n",
       "<path class=\"bond-9 atom-7 atom-22\" d=\"M 336.5,174.2 L 306.5,157.0\" style=\"fill:none;fill-rule:evenodd;stroke:#000000;stroke-width:2.0px;stroke-linecap:butt;stroke-linejoin:miter;stroke-opacity:1\"/>\n",
       "<path class=\"bond-10 atom-8 atom-16\" d=\"M 241.7,156.9 L 256.6,164.0\" style=\"fill:none;fill-rule:evenodd;stroke:#000000;stroke-width:2.0px;stroke-linecap:butt;stroke-linejoin:miter;stroke-opacity:1\"/>\n",
       "<path class=\"bond-10 atom-8 atom-16\" d=\"M 256.6,164.0 L 271.6,171.1\" style=\"fill:none;fill-rule:evenodd;stroke:#0000FF;stroke-width:2.0px;stroke-linecap:butt;stroke-linejoin:miter;stroke-opacity:1\"/>\n",
       "<path class=\"bond-11 atom-8 atom-23\" d=\"M 241.7,156.9 L 215.4,172.1\" style=\"fill:none;fill-rule:evenodd;stroke:#000000;stroke-width:2.0px;stroke-linecap:butt;stroke-linejoin:miter;stroke-opacity:1\"/>\n",
       "<path class=\"bond-12 atom-9 atom-10\" d=\"M 270.7,52.3 L 257.2,80.6\" style=\"fill:none;fill-rule:evenodd;stroke:#000000;stroke-width:2.0px;stroke-linecap:butt;stroke-linejoin:miter;stroke-opacity:1\"/>\n",
       "<path class=\"bond-12 atom-9 atom-10\" d=\"M 273.8,56.8 L 262.6,80.2\" style=\"fill:none;fill-rule:evenodd;stroke:#000000;stroke-width:2.0px;stroke-linecap:butt;stroke-linejoin:miter;stroke-opacity:1\"/>\n",
       "<path class=\"bond-13 atom-9 atom-11\" d=\"M 270.7,52.3 L 302.0,50.0\" style=\"fill:none;fill-rule:evenodd;stroke:#000000;stroke-width:2.0px;stroke-linecap:butt;stroke-linejoin:miter;stroke-opacity:1\"/>\n",
       "<path class=\"bond-14 atom-9 atom-24\" d=\"M 270.7,52.3 L 258.3,34.1\" style=\"fill:none;fill-rule:evenodd;stroke:#000000;stroke-width:2.0px;stroke-linecap:butt;stroke-linejoin:miter;stroke-opacity:1\"/>\n",
       "<path class=\"bond-15 atom-10 atom-12\" d=\"M 257.2,80.6 L 274.9,106.6\" style=\"fill:none;fill-rule:evenodd;stroke:#000000;stroke-width:2.0px;stroke-linecap:butt;stroke-linejoin:miter;stroke-opacity:1\"/>\n",
       "<path class=\"bond-16 atom-10 atom-25\" d=\"M 257.2,80.6 L 232.2,82.6\" style=\"fill:none;fill-rule:evenodd;stroke:#000000;stroke-width:2.0px;stroke-linecap:butt;stroke-linejoin:miter;stroke-opacity:1\"/>\n",
       "<path class=\"bond-17 atom-11 atom-13\" d=\"M 302.0,50.0 L 319.8,75.9\" style=\"fill:none;fill-rule:evenodd;stroke:#000000;stroke-width:2.0px;stroke-linecap:butt;stroke-linejoin:miter;stroke-opacity:1\"/>\n",
       "<path class=\"bond-17 atom-11 atom-13\" d=\"M 299.7,54.9 L 314.4,76.3\" style=\"fill:none;fill-rule:evenodd;stroke:#000000;stroke-width:2.0px;stroke-linecap:butt;stroke-linejoin:miter;stroke-opacity:1\"/>\n",
       "<path class=\"bond-18 atom-11 atom-26\" d=\"M 302.0,50.0 L 311.9,29.4\" style=\"fill:none;fill-rule:evenodd;stroke:#000000;stroke-width:2.0px;stroke-linecap:butt;stroke-linejoin:miter;stroke-opacity:1\"/>\n",
       "<path class=\"bond-19 atom-12 atom-14\" d=\"M 274.9,106.6 L 306.1,104.2\" style=\"fill:none;fill-rule:evenodd;stroke:#000000;stroke-width:2.0px;stroke-linecap:butt;stroke-linejoin:miter;stroke-opacity:1\"/>\n",
       "<path class=\"bond-19 atom-12 atom-14\" d=\"M 277.3,101.7 L 303.1,99.8\" style=\"fill:none;fill-rule:evenodd;stroke:#000000;stroke-width:2.0px;stroke-linecap:butt;stroke-linejoin:miter;stroke-opacity:1\"/>\n",
       "<path class=\"bond-20 atom-12 atom-27\" d=\"M 274.9,106.6 L 266.8,125.9\" style=\"fill:none;fill-rule:evenodd;stroke:#000000;stroke-width:2.0px;stroke-linecap:butt;stroke-linejoin:miter;stroke-opacity:1\"/>\n",
       "<path class=\"bond-21 atom-13 atom-14\" d=\"M 319.8,75.9 L 306.1,104.2\" style=\"fill:none;fill-rule:evenodd;stroke:#000000;stroke-width:2.0px;stroke-linecap:butt;stroke-linejoin:miter;stroke-opacity:1\"/>\n",
       "<path class=\"bond-22 atom-13 atom-28\" d=\"M 319.8,75.9 L 344.7,74.0\" style=\"fill:none;fill-rule:evenodd;stroke:#000000;stroke-width:2.0px;stroke-linecap:butt;stroke-linejoin:miter;stroke-opacity:1\"/>\n",
       "<path class=\"bond-23 atom-14 atom-20\" d=\"M 306.1,104.2 L 321.2,129.3\" style=\"fill:none;fill-rule:evenodd;stroke:#000000;stroke-width:2.0px;stroke-linecap:butt;stroke-linejoin:miter;stroke-opacity:1\"/>\n",
       "<path class=\"bond-24 atom-15 atom-29\" d=\"M 373.4,163.1 L 380.2,167.8\" style=\"fill:none;fill-rule:evenodd;stroke:#0000FF;stroke-width:2.0px;stroke-linecap:butt;stroke-linejoin:miter;stroke-opacity:1\"/>\n",
       "<path class=\"bond-24 atom-15 atom-29\" d=\"M 380.2,167.8 L 387.0,172.4\" style=\"fill:none;fill-rule:evenodd;stroke:#000000;stroke-width:2.0px;stroke-linecap:butt;stroke-linejoin:miter;stroke-opacity:1\"/>\n",
       "<path class=\"bond-25 atom-15 atom-30\" d=\"M 368.2,151.3 L 369.0,143.3\" style=\"fill:none;fill-rule:evenodd;stroke:#0000FF;stroke-width:2.0px;stroke-linecap:butt;stroke-linejoin:miter;stroke-opacity:1\"/>\n",
       "<path class=\"bond-25 atom-15 atom-30\" d=\"M 369.0,143.3 L 369.9,135.2\" style=\"fill:none;fill-rule:evenodd;stroke:#000000;stroke-width:2.0px;stroke-linecap:butt;stroke-linejoin:miter;stroke-opacity:1\"/>\n",
       "<path class=\"bond-26 atom-16 atom-22\" d=\"M 283.8,170.4 L 295.1,163.7\" style=\"fill:none;fill-rule:evenodd;stroke:#0000FF;stroke-width:2.0px;stroke-linecap:butt;stroke-linejoin:miter;stroke-opacity:1\"/>\n",
       "<path class=\"bond-26 atom-16 atom-22\" d=\"M 295.1,163.7 L 306.5,157.0\" style=\"fill:none;fill-rule:evenodd;stroke:#000000;stroke-width:2.0px;stroke-linecap:butt;stroke-linejoin:miter;stroke-opacity:1\"/>\n",
       "<path class=\"bond-27 atom-16 atom-31\" d=\"M 278.5,181.7 L 279.3,190.4\" style=\"fill:none;fill-rule:evenodd;stroke:#0000FF;stroke-width:2.0px;stroke-linecap:butt;stroke-linejoin:miter;stroke-opacity:1\"/>\n",
       "<path class=\"bond-27 atom-16 atom-31\" d=\"M 279.3,190.4 L 280.2,199.0\" style=\"fill:none;fill-rule:evenodd;stroke:#000000;stroke-width:2.0px;stroke-linecap:butt;stroke-linejoin:miter;stroke-opacity:1\"/>\n",
       "<path class=\"bond-28 atom-17 atom-23\" d=\"M 225.0,189.4 L 220.2,180.8\" style=\"fill:none;fill-rule:evenodd;stroke:#0000FF;stroke-width:2.0px;stroke-linecap:butt;stroke-linejoin:miter;stroke-opacity:1\"/>\n",
       "<path class=\"bond-28 atom-17 atom-23\" d=\"M 220.2,180.8 L 215.4,172.1\" style=\"fill:none;fill-rule:evenodd;stroke:#000000;stroke-width:2.0px;stroke-linecap:butt;stroke-linejoin:miter;stroke-opacity:1\"/>\n",
       "<path class=\"bond-29 atom-17 atom-32\" d=\"M 235.4,196.9 L 241.9,196.7\" style=\"fill:none;fill-rule:evenodd;stroke:#0000FF;stroke-width:2.0px;stroke-linecap:butt;stroke-linejoin:miter;stroke-opacity:1\"/>\n",
       "<path class=\"bond-29 atom-17 atom-32\" d=\"M 241.9,196.7 L 248.5,196.4\" style=\"fill:none;fill-rule:evenodd;stroke:#000000;stroke-width:2.0px;stroke-linecap:butt;stroke-linejoin:miter;stroke-opacity:1\"/>\n",
       "<path class=\"bond-30 atom-18 atom-33\" d=\"M 231.4,251.3 L 252.6,239.3\" style=\"fill:none;fill-rule:evenodd;stroke:#000000;stroke-width:2.0px;stroke-linecap:butt;stroke-linejoin:miter;stroke-opacity:1\"/>\n",
       "<path class=\"bond-31 atom-18 atom-34\" d=\"M 231.4,251.3 L 252.3,263.7\" style=\"fill:none;fill-rule:evenodd;stroke:#000000;stroke-width:2.0px;stroke-linecap:butt;stroke-linejoin:miter;stroke-opacity:1\"/>\n",
       "<path class=\"bond-32 atom-18 atom-35\" d=\"M 231.4,251.3 L 220.2,270.6\" style=\"fill:none;fill-rule:evenodd;stroke:#000000;stroke-width:2.0px;stroke-linecap:butt;stroke-linejoin:miter;stroke-opacity:1\"/>\n",
       "<path class=\"bond-33 atom-19 atom-21\" d=\"M 161.1,170.8 L 188.7,155.8\" style=\"fill:none;fill-rule:evenodd;stroke:#000000;stroke-width:2.0px;stroke-linecap:butt;stroke-linejoin:miter;stroke-opacity:1\"/>\n",
       "<path class=\"bond-34 atom-19 atom-36\" d=\"M 161.1,170.8 L 171.4,190.3\" style=\"fill:none;fill-rule:evenodd;stroke:#000000;stroke-width:2.0px;stroke-linecap:butt;stroke-linejoin:miter;stroke-opacity:1\"/>\n",
       "<path class=\"bond-35 atom-19 atom-37\" d=\"M 161.1,170.8 L 149.6,189.8\" style=\"fill:none;fill-rule:evenodd;stroke:#000000;stroke-width:2.0px;stroke-linecap:butt;stroke-linejoin:miter;stroke-opacity:1\"/>\n",
       "<path class=\"bond-36 atom-20 atom-22\" d=\"M 321.2,129.3 L 306.5,157.0\" style=\"fill:none;fill-rule:evenodd;stroke:#000000;stroke-width:2.0px;stroke-linecap:butt;stroke-linejoin:miter;stroke-opacity:1\"/>\n",
       "<path class=\"bond-37 atom-20 atom-38\" d=\"M 321.2,129.3 L 337.7,139.0\" style=\"fill:none;fill-rule:evenodd;stroke:#000000;stroke-width:2.0px;stroke-linecap:butt;stroke-linejoin:miter;stroke-opacity:1\"/>\n",
       "<path class=\"bond-38 atom-20 atom-39\" d=\"M 321.2,129.3 L 342.0,117.2\" style=\"fill:none;fill-rule:evenodd;stroke:#000000;stroke-width:2.0px;stroke-linecap:butt;stroke-linejoin:miter;stroke-opacity:1\"/>\n",
       "<path class=\"bond-39 atom-21 atom-23\" d=\"M 188.7,155.8 L 215.4,172.1\" style=\"fill:none;fill-rule:evenodd;stroke:#000000;stroke-width:2.0px;stroke-linecap:butt;stroke-linejoin:miter;stroke-opacity:1\"/>\n",
       "<path class=\"bond-40 atom-21 atom-40\" d=\"M 188.7,155.8 L 200.5,136.5\" style=\"fill:none;fill-rule:evenodd;stroke:#000000;stroke-width:2.0px;stroke-linecap:butt;stroke-linejoin:miter;stroke-opacity:1\"/>\n",
       "<path class=\"bond-41 atom-21 atom-41\" d=\"M 188.7,155.8 L 177.9,135.8\" style=\"fill:none;fill-rule:evenodd;stroke:#000000;stroke-width:2.0px;stroke-linecap:butt;stroke-linejoin:miter;stroke-opacity:1\"/>\n",
       "<path class=\"bond-42 atom-22 atom-42\" d=\"M 304.5,154.4 L 305.2,154.0\" style=\"fill:none;fill-rule:evenodd;stroke:#000000;stroke-width:1.0px;stroke-linecap:butt;stroke-linejoin:miter;stroke-opacity:1\"/>\n",
       "<path class=\"bond-42 atom-22 atom-42\" d=\"M 302.6,151.8 L 303.9,151.0\" style=\"fill:none;fill-rule:evenodd;stroke:#000000;stroke-width:1.0px;stroke-linecap:butt;stroke-linejoin:miter;stroke-opacity:1\"/>\n",
       "<path class=\"bond-42 atom-22 atom-42\" d=\"M 300.6,149.1 L 302.6,148.0\" style=\"fill:none;fill-rule:evenodd;stroke:#000000;stroke-width:1.0px;stroke-linecap:butt;stroke-linejoin:miter;stroke-opacity:1\"/>\n",
       "<path class=\"bond-42 atom-22 atom-42\" d=\"M 298.6,146.5 L 301.4,145.0\" style=\"fill:none;fill-rule:evenodd;stroke:#000000;stroke-width:1.0px;stroke-linecap:butt;stroke-linejoin:miter;stroke-opacity:1\"/>\n",
       "<path class=\"bond-42 atom-22 atom-42\" d=\"M 296.7,143.9 L 300.1,142.0\" style=\"fill:none;fill-rule:evenodd;stroke:#000000;stroke-width:1.0px;stroke-linecap:butt;stroke-linejoin:miter;stroke-opacity:1\"/>\n",
       "<path class=\"bond-42 atom-22 atom-42\" d=\"M 294.7,141.3 L 298.8,139.0\" style=\"fill:none;fill-rule:evenodd;stroke:#000000;stroke-width:1.0px;stroke-linecap:butt;stroke-linejoin:miter;stroke-opacity:1\"/>\n",
       "<path class=\"bond-43 atom-23 atom-43\" d=\"M 214.1,175.1 L 213.4,174.7\" style=\"fill:none;fill-rule:evenodd;stroke:#000000;stroke-width:1.0px;stroke-linecap:butt;stroke-linejoin:miter;stroke-opacity:1\"/>\n",
       "<path class=\"bond-43 atom-23 atom-43\" d=\"M 212.8,178.1 L 211.5,177.3\" style=\"fill:none;fill-rule:evenodd;stroke:#000000;stroke-width:1.0px;stroke-linecap:butt;stroke-linejoin:miter;stroke-opacity:1\"/>\n",
       "<path class=\"bond-43 atom-23 atom-43\" d=\"M 211.5,181.1 L 209.5,179.9\" style=\"fill:none;fill-rule:evenodd;stroke:#000000;stroke-width:1.0px;stroke-linecap:butt;stroke-linejoin:miter;stroke-opacity:1\"/>\n",
       "<path class=\"bond-43 atom-23 atom-43\" d=\"M 210.2,184.1 L 207.5,182.5\" style=\"fill:none;fill-rule:evenodd;stroke:#000000;stroke-width:1.0px;stroke-linecap:butt;stroke-linejoin:miter;stroke-opacity:1\"/>\n",
       "<path class=\"bond-43 atom-23 atom-43\" d=\"M 209.0,187.1 L 205.6,185.1\" style=\"fill:none;fill-rule:evenodd;stroke:#000000;stroke-width:1.0px;stroke-linecap:butt;stroke-linejoin:miter;stroke-opacity:1\"/>\n",
       "<path class=\"bond-43 atom-23 atom-43\" d=\"M 207.7,190.1 L 203.6,187.7\" style=\"fill:none;fill-rule:evenodd;stroke:#000000;stroke-width:1.0px;stroke-linecap:butt;stroke-linejoin:miter;stroke-opacity:1\"/>\n",
       "<path d=\"M 215.2,223.4 L 215.0,223.8 L 215.8,225.2\" style=\"fill:none;stroke:#000000;stroke-width:2.0px;stroke-linecap:butt;stroke-linejoin:miter;stroke-opacity:1;\"/>\n",
       "<path d=\"M 134.5,155.0 L 134.9,154.8 L 136.2,155.6\" style=\"fill:none;stroke:#000000;stroke-width:2.0px;stroke-linecap:butt;stroke-linejoin:miter;stroke-opacity:1;\"/>\n",
       "<path d=\"M 337.1,173.9 L 336.5,174.2 L 335.0,173.3\" style=\"fill:none;stroke:#000000;stroke-width:2.0px;stroke-linecap:butt;stroke-linejoin:miter;stroke-opacity:1;\"/>\n",
       "<path d=\"M 242.4,157.3 L 241.7,156.9 L 240.3,157.7\" style=\"fill:none;stroke:#000000;stroke-width:2.0px;stroke-linecap:butt;stroke-linejoin:miter;stroke-opacity:1;\"/>\n",
       "<path class=\"atom-0\" d=\"M 177.9 224.2 Q 177.9 221.0, 179.5 219.2 Q 181.0 217.5, 184.0 217.5 Q 186.9 217.5, 188.5 219.2 Q 190.1 221.0, 190.1 224.2 Q 190.1 227.5, 188.5 229.3 Q 186.9 231.1, 184.0 231.1 Q 181.1 231.1, 179.5 229.3 Q 177.9 227.5, 177.9 224.2 M 184.0 229.6 Q 186.0 229.6, 187.1 228.3 Q 188.2 226.9, 188.2 224.2 Q 188.2 221.6, 187.1 220.3 Q 186.0 219.0, 184.0 219.0 Q 182.0 219.0, 180.8 220.3 Q 179.8 221.6, 179.8 224.2 Q 179.8 226.9, 180.8 228.3 Q 182.0 229.6, 184.0 229.6 \" fill=\"#FF0000\"/>\n",
       "<path class=\"atom-1\" d=\"M 129.7 123.5 Q 129.7 120.3, 131.3 118.5 Q 132.9 116.7, 135.8 116.7 Q 138.8 116.7, 140.3 118.5 Q 141.9 120.3, 141.9 123.5 Q 141.9 126.7, 140.3 128.6 Q 138.7 130.4, 135.8 130.4 Q 132.9 130.4, 131.3 128.6 Q 129.7 126.8, 129.7 123.5 M 135.8 128.9 Q 137.8 128.9, 138.9 127.5 Q 140.0 126.2, 140.0 123.5 Q 140.0 120.9, 138.9 119.6 Q 137.8 118.2, 135.8 118.2 Q 133.8 118.2, 132.7 119.5 Q 131.6 120.9, 131.6 123.5 Q 131.6 126.2, 132.7 127.5 Q 133.8 128.9, 135.8 128.9 \" fill=\"#FF0000\"/>\n",
       "<path class=\"atom-2\" d=\"M 329.3 205.8 Q 329.3 202.6, 330.9 200.8 Q 332.5 199.0, 335.5 199.0 Q 338.4 199.0, 340.0 200.8 Q 341.6 202.6, 341.6 205.8 Q 341.6 209.0, 340.0 210.8 Q 338.4 212.7, 335.5 212.7 Q 332.5 212.7, 330.9 210.8 Q 329.3 209.0, 329.3 205.8 M 335.5 211.2 Q 337.5 211.2, 338.6 209.8 Q 339.7 208.4, 339.7 205.8 Q 339.7 203.1, 338.6 201.8 Q 337.5 200.5, 335.5 200.5 Q 333.4 200.5, 332.3 201.8 Q 331.2 203.1, 331.2 205.8 Q 331.2 208.4, 332.3 209.8 Q 333.4 211.2, 335.5 211.2 \" fill=\"#FF0000\"/>\n",
       "<path class=\"atom-3\" d=\"M 231.1 125.5 Q 231.1 122.3, 232.7 120.5 Q 234.2 118.7, 237.2 118.7 Q 240.2 118.7, 241.7 120.5 Q 243.3 122.3, 243.3 125.5 Q 243.3 128.7, 241.7 130.6 Q 240.1 132.4, 237.2 132.4 Q 234.3 132.4, 232.7 130.6 Q 231.1 128.8, 231.1 125.5 M 237.2 130.9 Q 239.2 130.9, 240.3 129.5 Q 241.4 128.2, 241.4 125.5 Q 241.4 122.9, 240.3 121.6 Q 239.2 120.2, 237.2 120.2 Q 235.2 120.2, 234.1 121.5 Q 233.0 122.9, 233.0 125.5 Q 233.0 128.2, 234.1 129.5 Q 235.2 130.9, 237.2 130.9 \" fill=\"#FF0000\"/>\n",
       "<path class=\"atom-4\" d=\"M 101.5 169.8 Q 101.5 166.6, 103.1 164.8 Q 104.7 163.1, 107.6 163.1 Q 110.6 163.1, 112.1 164.8 Q 113.7 166.6, 113.7 169.8 Q 113.7 173.1, 112.1 174.9 Q 110.5 176.7, 107.6 176.7 Q 104.7 176.7, 103.1 174.9 Q 101.5 173.1, 101.5 169.8 M 107.6 175.2 Q 109.6 175.2, 110.7 173.9 Q 111.8 172.5, 111.8 169.8 Q 111.8 167.2, 110.7 165.9 Q 109.6 164.6, 107.6 164.6 Q 105.6 164.6, 104.5 165.9 Q 103.4 167.2, 103.4 169.8 Q 103.4 172.5, 104.5 173.9 Q 105.6 175.2, 107.6 175.2 \" fill=\"#FF0000\"/>\n",
       "<path class=\"atom-4\" d=\"M 115.6 165.2 L 120.2 165.2 L 120.2 166.2 L 115.6 166.2 L 115.6 165.2 \" fill=\"#FF0000\"/>\n",
       "<path class=\"atom-15\" d=\"M 364.4 152.4 L 368.8 159.4 Q 369.2 160.1, 369.9 161.4 Q 370.6 162.6, 370.6 162.7 L 370.6 152.4 L 372.4 152.4 L 372.4 165.7 L 370.6 165.7 L 365.9 158.0 Q 365.3 157.1, 364.8 156.0 Q 364.2 155.0, 364.0 154.7 L 364.0 165.7 L 362.3 165.7 L 362.3 152.4 L 364.4 152.4 \" fill=\"#0000FF\"/>\n",
       "<path class=\"atom-16\" d=\"M 274.7 167.3 L 279.1 174.4 Q 279.5 175.1, 280.2 176.4 Q 280.9 177.6, 281.0 177.7 L 281.0 167.3 L 282.7 167.3 L 282.7 180.7 L 280.9 180.7 L 276.2 173.0 Q 275.7 172.1, 275.1 171.0 Q 274.5 170.0, 274.3 169.7 L 274.3 180.7 L 272.6 180.7 L 272.6 167.3 L 274.7 167.3 \" fill=\"#0000FF\"/>\n",
       "<path class=\"atom-17\" d=\"M 226.3 190.5 L 230.7 197.5 Q 231.1 198.2, 231.8 199.5 Q 232.5 200.7, 232.6 200.8 L 232.6 190.5 L 234.3 190.5 L 234.3 203.8 L 232.5 203.8 L 227.8 196.1 Q 227.3 195.2, 226.7 194.1 Q 226.1 193.1, 226.0 192.8 L 226.0 203.8 L 224.2 203.8 L 224.2 190.5 L 226.3 190.5 \" fill=\"#0000FF\"/>\n",
       "<path class=\"atom-24\" d=\"M 247.8 19.8 L 249.6 19.8 L 249.6 25.4 L 256.4 25.4 L 256.4 19.8 L 258.2 19.8 L 258.2 33.1 L 256.4 33.1 L 256.4 27.0 L 249.6 27.0 L 249.6 33.1 L 247.8 33.1 L 247.8 19.8 \" fill=\"#000000\"/>\n",
       "<path class=\"atom-25\" d=\"M 220.7 76.4 L 222.5 76.4 L 222.5 82.1 L 229.3 82.1 L 229.3 76.4 L 231.1 76.4 L 231.1 89.7 L 229.3 89.7 L 229.3 83.6 L 222.5 83.6 L 222.5 89.7 L 220.7 89.7 L 220.7 76.4 \" fill=\"#000000\"/>\n",
       "<path class=\"atom-26\" d=\"M 310.4 15.0 L 312.2 15.0 L 312.2 20.7 L 319.0 20.7 L 319.0 15.0 L 320.8 15.0 L 320.8 28.3 L 319.0 28.3 L 319.0 22.2 L 312.2 22.2 L 312.2 28.3 L 310.4 28.3 L 310.4 15.0 \" fill=\"#000000\"/>\n",
       "<path class=\"atom-27\" d=\"M 258.3 127.0 L 260.1 127.0 L 260.1 132.6 L 267.0 132.6 L 267.0 127.0 L 268.8 127.0 L 268.8 140.3 L 267.0 140.3 L 267.0 134.1 L 260.1 134.1 L 260.1 140.3 L 258.3 140.3 L 258.3 127.0 \" fill=\"#000000\"/>\n",
       "<path class=\"atom-28\" d=\"M 345.8 66.9 L 347.6 66.9 L 347.6 72.5 L 354.4 72.5 L 354.4 66.9 L 356.2 66.9 L 356.2 80.2 L 354.4 80.2 L 354.4 74.0 L 347.6 74.0 L 347.6 80.2 L 345.8 80.2 L 345.8 66.9 \" fill=\"#000000\"/>\n",
       "<path class=\"atom-29\" d=\"M 388.1 169.9 L 389.9 169.9 L 389.9 175.6 L 396.7 175.6 L 396.7 169.9 L 398.5 169.9 L 398.5 183.2 L 396.7 183.2 L 396.7 177.1 L 389.9 177.1 L 389.9 183.2 L 388.1 183.2 L 388.1 169.9 \" fill=\"#000000\"/>\n",
       "<path class=\"atom-30\" d=\"M 365.4 120.9 L 367.3 120.9 L 367.3 126.5 L 374.1 126.5 L 374.1 120.9 L 375.9 120.9 L 375.9 134.2 L 374.1 134.2 L 374.1 128.0 L 367.3 128.0 L 367.3 134.2 L 365.4 134.2 L 365.4 120.9 \" fill=\"#000000\"/>\n",
       "<path class=\"atom-31\" d=\"M 275.8 200.1 L 277.6 200.1 L 277.6 205.7 L 284.4 205.7 L 284.4 200.1 L 286.2 200.1 L 286.2 213.4 L 284.4 213.4 L 284.4 207.2 L 277.6 207.2 L 277.6 213.4 L 275.8 213.4 L 275.8 200.1 \" fill=\"#000000\"/>\n",
       "<path class=\"atom-32\" d=\"M 249.5 189.5 L 251.3 189.5 L 251.3 195.2 L 258.1 195.2 L 258.1 189.5 L 259.9 189.5 L 259.9 202.8 L 258.1 202.8 L 258.1 196.7 L 251.3 196.7 L 251.3 202.8 L 249.5 202.8 L 249.5 189.5 \" fill=\"#000000\"/>\n",
       "<path class=\"atom-33\" d=\"M 253.7 229.1 L 255.5 229.1 L 255.5 234.8 L 262.3 234.8 L 262.3 229.1 L 264.1 229.1 L 264.1 242.4 L 262.3 242.4 L 262.3 236.3 L 255.5 236.3 L 255.5 242.4 L 253.7 242.4 L 253.7 229.1 \" fill=\"#000000\"/>\n",
       "<path class=\"atom-34\" d=\"M 253.3 260.7 L 255.1 260.7 L 255.1 266.4 L 262.0 266.4 L 262.0 260.7 L 263.8 260.7 L 263.8 274.1 L 262.0 274.1 L 262.0 267.9 L 255.1 267.9 L 255.1 274.1 L 253.3 274.1 L 253.3 260.7 \" fill=\"#000000\"/>\n",
       "<path class=\"atom-35\" d=\"M 210.5 271.7 L 212.3 271.7 L 212.3 277.3 L 219.1 277.3 L 219.1 271.7 L 220.9 271.7 L 220.9 285.0 L 219.1 285.0 L 219.1 278.8 L 212.3 278.8 L 212.3 285.0 L 210.5 285.0 L 210.5 271.7 \" fill=\"#000000\"/>\n",
       "<path class=\"atom-36\" d=\"M 170.2 191.3 L 172.0 191.3 L 172.0 197.0 L 178.8 197.0 L 178.8 191.3 L 180.7 191.3 L 180.7 204.6 L 178.8 204.6 L 178.8 198.5 L 172.0 198.5 L 172.0 204.6 L 170.2 204.6 L 170.2 191.3 \" fill=\"#000000\"/>\n",
       "<path class=\"atom-37\" d=\"M 139.7 190.8 L 141.5 190.8 L 141.5 196.5 L 148.3 196.5 L 148.3 190.8 L 150.1 190.8 L 150.1 204.1 L 148.3 204.1 L 148.3 198.0 L 141.5 198.0 L 141.5 204.1 L 139.7 204.1 L 139.7 190.8 \" fill=\"#000000\"/>\n",
       "<path class=\"atom-38\" d=\"M 338.7 136.0 L 340.5 136.0 L 340.5 141.6 L 347.3 141.6 L 347.3 136.0 L 349.1 136.0 L 349.1 149.3 L 347.3 149.3 L 347.3 143.1 L 340.5 143.1 L 340.5 149.3 L 338.7 149.3 L 338.7 136.0 \" fill=\"#000000\"/>\n",
       "<path class=\"atom-39\" d=\"M 343.1 106.9 L 344.9 106.9 L 344.9 112.6 L 351.7 112.6 L 351.7 106.9 L 353.5 106.9 L 353.5 120.2 L 351.7 120.2 L 351.7 114.1 L 344.9 114.1 L 344.9 120.2 L 343.1 120.2 L 343.1 106.9 \" fill=\"#000000\"/>\n",
       "<path class=\"atom-40\" d=\"M 200.0 122.1 L 201.8 122.1 L 201.8 127.8 L 208.6 127.8 L 208.6 122.1 L 210.4 122.1 L 210.4 135.4 L 208.6 135.4 L 208.6 129.3 L 201.8 129.3 L 201.8 135.4 L 200.0 135.4 L 200.0 122.1 \" fill=\"#000000\"/>\n",
       "<path class=\"atom-41\" d=\"M 168.6 121.5 L 170.4 121.5 L 170.4 127.1 L 177.2 127.1 L 177.2 121.5 L 179.0 121.5 L 179.0 134.8 L 177.2 134.8 L 177.2 128.6 L 170.4 128.6 L 170.4 134.8 L 168.6 134.8 L 168.6 121.5 \" fill=\"#000000\"/>\n",
       "<path class=\"atom-42\" d=\"M 286.5 124.8 L 288.3 124.8 L 288.3 130.4 L 295.2 130.4 L 295.2 124.8 L 297.0 124.8 L 297.0 138.1 L 295.2 138.1 L 295.2 131.9 L 288.3 131.9 L 288.3 138.1 L 286.5 138.1 L 286.5 124.8 \" fill=\"#000000\"/>\n",
       "<path class=\"atom-43\" d=\"M 195.4 191.0 L 197.2 191.0 L 197.2 196.6 L 204.0 196.6 L 204.0 191.0 L 205.8 191.0 L 205.8 204.3 L 204.0 204.3 L 204.0 198.1 L 197.2 198.1 L 197.2 204.3 L 195.4 204.3 L 195.4 191.0 \" fill=\"#000000\"/>\n",
       "</svg>"
      ],
      "text/plain": [
       "<IPython.core.display.SVG object>"
      ]
     },
     "execution_count": 23,
     "metadata": {},
     "output_type": "execute_result"
    }
   ],
   "source": [
    "client = qcportal.PortalClient(\"https://api.qcarchive.molssi.org:443/\")\n",
    "\n",
    "record = [*client.query_molecules(molecular_formula=\"C16H20N3O5\")][-1]\n",
    "\n",
    "from_qcarchive = Molecule.from_qcschema(record)\n",
    "\n",
    "from_qcarchive.visualize()"
   ]
  },
  {
   "cell_type": "markdown",
   "id": "3f1991fb",
   "metadata": {},
   "source": [
    "### From a QCArchive optimisation record\n",
    "\n",
    "`Molecule.from_qcschema()` can also take an optimisation record and create the corresponding `Molecule`."
   ]
  },
  {
   "cell_type": "code",
   "execution_count": 24,
   "id": "edd1fa9e",
   "metadata": {
    "editable": true,
    "slideshow": {
     "slide_type": ""
    },
    "tags": []
   },
   "outputs": [
    {
     "data": {
      "image/svg+xml": [
       "<svg xmlns=\"http://www.w3.org/2000/svg\" xmlns:rdkit=\"http://www.rdkit.org/xml\" xmlns:xlink=\"http://www.w3.org/1999/xlink\" version=\"1.1\" baseProfile=\"full\" xml:space=\"preserve\" width=\"500px\" height=\"300px\" viewBox=\"0 0 500 300\">\n",
       "<!-- END OF HEADER -->\n",
       "<rect style=\"opacity:1.0;fill:#FFFFFF;stroke:none\" width=\"500.0\" height=\"300.0\" x=\"0.0\" y=\"0.0\"> </rect>\n",
       "<path class=\"bond-0 atom-0 atom-4\" d=\"M 331.5,220.7 L 331.5,198.4\" style=\"fill:none;fill-rule:evenodd;stroke:#000000;stroke-width:2.0px;stroke-linecap:butt;stroke-linejoin:miter;stroke-opacity:1\"/>\n",
       "<path class=\"bond-0 atom-0 atom-4\" d=\"M 331.5,198.4 L 331.6,176.2\" style=\"fill:none;fill-rule:evenodd;stroke:#FF0000;stroke-width:2.0px;stroke-linecap:butt;stroke-linejoin:miter;stroke-opacity:1\"/>\n",
       "<path class=\"bond-1 atom-0 atom-6\" d=\"M 331.5,220.7 L 283.7,220.6\" style=\"fill:none;fill-rule:evenodd;stroke:#000000;stroke-width:2.0px;stroke-linecap:butt;stroke-linejoin:miter;stroke-opacity:1\"/>\n",
       "<path class=\"bond-2 atom-0 atom-7\" d=\"M 331.5,220.7 L 310.0,257.7\" style=\"fill:none;fill-rule:evenodd;stroke:#000000;stroke-width:2.0px;stroke-linecap:butt;stroke-linejoin:miter;stroke-opacity:1\"/>\n",
       "<path class=\"bond-3 atom-0 atom-8\" d=\"M 331.5,220.7 L 371.2,243.7\" style=\"fill:none;fill-rule:evenodd;stroke:#000000;stroke-width:2.0px;stroke-linecap:butt;stroke-linejoin:miter;stroke-opacity:1\"/>\n",
       "<path class=\"bond-4 atom-1 atom-5\" d=\"M 176.6,130.9 L 195.6,141.9\" style=\"fill:none;fill-rule:evenodd;stroke:#000000;stroke-width:2.0px;stroke-linecap:butt;stroke-linejoin:miter;stroke-opacity:1\"/>\n",
       "<path class=\"bond-4 atom-1 atom-5\" d=\"M 195.6,141.9 L 214.6,152.9\" style=\"fill:none;fill-rule:evenodd;stroke:#FF0000;stroke-width:2.0px;stroke-linecap:butt;stroke-linejoin:miter;stroke-opacity:1\"/>\n",
       "<path class=\"bond-5 atom-1 atom-9\" d=\"M 176.6,130.9 L 155.1,167.8\" style=\"fill:none;fill-rule:evenodd;stroke:#000000;stroke-width:2.0px;stroke-linecap:butt;stroke-linejoin:miter;stroke-opacity:1\"/>\n",
       "<path class=\"bond-6 atom-1 atom-10\" d=\"M 176.6,130.9 L 128.8,130.8\" style=\"fill:none;fill-rule:evenodd;stroke:#000000;stroke-width:2.0px;stroke-linecap:butt;stroke-linejoin:miter;stroke-opacity:1\"/>\n",
       "<path class=\"bond-7 atom-1 atom-11\" d=\"M 176.6,130.9 L 176.7,85.8\" style=\"fill:none;fill-rule:evenodd;stroke:#000000;stroke-width:2.0px;stroke-linecap:butt;stroke-linejoin:miter;stroke-opacity:1\"/>\n",
       "<path class=\"bond-8 atom-2 atom-3\" d=\"M 280.0,131.1 L 269.5,112.8\" style=\"fill:none;fill-rule:evenodd;stroke:#000000;stroke-width:2.0px;stroke-linecap:butt;stroke-linejoin:miter;stroke-opacity:1\"/>\n",
       "<path class=\"bond-8 atom-2 atom-3\" d=\"M 269.5,112.8 L 258.9,94.5\" style=\"fill:none;fill-rule:evenodd;stroke:#FF0000;stroke-width:2.0px;stroke-linecap:butt;stroke-linejoin:miter;stroke-opacity:1\"/>\n",
       "<path class=\"bond-9 atom-2 atom-4\" d=\"M 280.0,131.1 L 299.0,142.1\" style=\"fill:none;fill-rule:evenodd;stroke:#000000;stroke-width:2.0px;stroke-linecap:butt;stroke-linejoin:miter;stroke-opacity:1\"/>\n",
       "<path class=\"bond-9 atom-2 atom-4\" d=\"M 299.0,142.1 L 318.0,153.1\" style=\"fill:none;fill-rule:evenodd;stroke:#FF0000;stroke-width:2.0px;stroke-linecap:butt;stroke-linejoin:miter;stroke-opacity:1\"/>\n",
       "<path class=\"bond-10 atom-2 atom-5\" d=\"M 280.0,131.1 L 260.9,142.0\" style=\"fill:none;fill-rule:evenodd;stroke:#000000;stroke-width:2.0px;stroke-linecap:butt;stroke-linejoin:miter;stroke-opacity:1\"/>\n",
       "<path class=\"bond-10 atom-2 atom-5\" d=\"M 260.9,142.0 L 241.8,153.0\" style=\"fill:none;fill-rule:evenodd;stroke:#FF0000;stroke-width:2.0px;stroke-linecap:butt;stroke-linejoin:miter;stroke-opacity:1\"/>\n",
       "<path class=\"bond-11 atom-2 atom-12\" d=\"M 280.0,131.1 L 301.4,94.1\" style=\"fill:none;fill-rule:evenodd;stroke:#000000;stroke-width:2.0px;stroke-linecap:butt;stroke-linejoin:miter;stroke-opacity:1\"/>\n",
       "<path class=\"bond-12 atom-3 atom-13\" d=\"M 258.8,64.5 L 265.2,53.4\" style=\"fill:none;fill-rule:evenodd;stroke:#FF0000;stroke-width:2.0px;stroke-linecap:butt;stroke-linejoin:miter;stroke-opacity:1\"/>\n",
       "<path class=\"bond-12 atom-3 atom-13\" d=\"M 265.2,53.4 L 271.7,42.3\" style=\"fill:none;fill-rule:evenodd;stroke:#000000;stroke-width:2.0px;stroke-linecap:butt;stroke-linejoin:miter;stroke-opacity:1\"/>\n",
       "<path class=\"atom-3\" d=\"M 238.6 79.4 Q 238.6 73.3, 241.6 69.9 Q 244.6 66.5, 250.2 66.5 Q 255.8 66.5, 258.8 69.9 Q 261.9 73.3, 261.9 79.4 Q 261.9 85.5, 258.8 89.0 Q 255.8 92.5, 250.2 92.5 Q 244.6 92.5, 241.6 89.0 Q 238.6 85.6, 238.6 79.4 M 250.2 89.7 Q 254.1 89.7, 256.2 87.1 Q 258.3 84.5, 258.3 79.4 Q 258.3 74.4, 256.2 71.9 Q 254.1 69.4, 250.2 69.4 Q 246.3 69.4, 244.2 71.9 Q 242.2 74.4, 242.2 79.4 Q 242.2 84.5, 244.2 87.1 Q 246.3 89.7, 250.2 89.7 \" fill=\"#FF0000\"/>\n",
       "<path class=\"atom-4\" d=\"M 320.0 161.1 Q 320.0 155.0, 323.0 151.6 Q 326.0 148.2, 331.6 148.2 Q 337.2 148.2, 340.2 151.6 Q 343.2 155.0, 343.2 161.1 Q 343.2 167.2, 340.2 170.7 Q 337.1 174.2, 331.6 174.2 Q 326.0 174.2, 323.0 170.7 Q 320.0 167.3, 320.0 161.1 M 331.6 171.4 Q 335.5 171.4, 337.5 168.8 Q 339.6 166.2, 339.6 161.1 Q 339.6 156.1, 337.5 153.6 Q 335.5 151.1, 331.6 151.1 Q 327.7 151.1, 325.6 153.6 Q 323.5 156.1, 323.5 161.1 Q 323.5 166.2, 325.6 168.8 Q 327.7 171.4, 331.6 171.4 \" fill=\"#FF0000\"/>\n",
       "<path class=\"atom-5\" d=\"M 216.6 160.9 Q 216.6 154.8, 219.6 151.4 Q 222.6 148.0, 228.2 148.0 Q 233.8 148.0, 236.8 151.4 Q 239.8 154.8, 239.8 160.9 Q 239.8 167.0, 236.8 170.5 Q 233.8 174.0, 228.2 174.0 Q 222.6 174.0, 219.6 170.5 Q 216.6 167.1, 216.6 160.9 M 228.2 171.2 Q 232.1 171.2, 234.1 168.6 Q 236.3 166.0, 236.3 160.9 Q 236.3 155.9, 234.1 153.4 Q 232.1 150.8, 228.2 150.8 Q 224.3 150.8, 222.2 153.4 Q 220.1 155.9, 220.1 160.9 Q 220.1 166.0, 222.2 168.6 Q 224.3 171.2, 228.2 171.2 \" fill=\"#FF0000\"/>\n",
       "<path class=\"atom-6\" d=\"M 261.9 207.9 L 265.3 207.9 L 265.3 218.7 L 278.3 218.7 L 278.3 207.9 L 281.7 207.9 L 281.7 233.3 L 278.3 233.3 L 278.3 221.5 L 265.3 221.5 L 265.3 233.3 L 261.9 233.3 L 261.9 207.9 \" fill=\"#000000\"/>\n",
       "<path class=\"atom-7\" d=\"M 291.6 259.6 L 295.0 259.6 L 295.0 270.4 L 308.0 270.4 L 308.0 259.6 L 311.4 259.6 L 311.4 285.0 L 308.0 285.0 L 308.0 273.3 L 295.0 273.3 L 295.0 285.0 L 291.6 285.0 L 291.6 259.6 \" fill=\"#000000\"/>\n",
       "<path class=\"atom-8\" d=\"M 373.2 238.0 L 376.6 238.0 L 376.6 248.7 L 389.6 248.7 L 389.6 238.0 L 393.0 238.0 L 393.0 263.3 L 389.6 263.3 L 389.6 251.6 L 376.6 251.6 L 376.6 263.3 L 373.2 263.3 L 373.2 238.0 \" fill=\"#000000\"/>\n",
       "<path class=\"atom-9\" d=\"M 136.7 169.8 L 140.2 169.8 L 140.2 180.6 L 153.1 180.6 L 153.1 169.8 L 156.6 169.8 L 156.6 195.2 L 153.1 195.2 L 153.1 183.4 L 140.2 183.4 L 140.2 195.2 L 136.7 195.2 L 136.7 169.8 \" fill=\"#000000\"/>\n",
       "<path class=\"atom-10\" d=\"M 107.0 118.1 L 110.4 118.1 L 110.4 128.8 L 123.4 128.8 L 123.4 118.1 L 126.8 118.1 L 126.8 143.4 L 123.4 143.4 L 123.4 131.7 L 110.4 131.7 L 110.4 143.4 L 107.0 143.4 L 107.0 118.1 \" fill=\"#000000\"/>\n",
       "<path class=\"atom-11\" d=\"M 166.8 58.5 L 170.2 58.5 L 170.2 69.3 L 183.2 69.3 L 183.2 58.5 L 186.6 58.5 L 186.6 83.8 L 183.2 83.8 L 183.2 72.1 L 170.2 72.1 L 170.2 83.8 L 166.8 83.8 L 166.8 58.5 \" fill=\"#000000\"/>\n",
       "<path class=\"atom-12\" d=\"M 300.0 66.7 L 303.4 66.7 L 303.4 77.5 L 316.4 77.5 L 316.4 66.7 L 319.8 66.7 L 319.8 92.1 L 316.4 92.1 L 316.4 80.4 L 303.4 80.4 L 303.4 92.1 L 300.0 92.1 L 300.0 66.7 \" fill=\"#000000\"/>\n",
       "<path class=\"atom-13\" d=\"M 270.2 15.0 L 273.7 15.0 L 273.7 25.8 L 286.6 25.8 L 286.6 15.0 L 290.1 15.0 L 290.1 40.4 L 286.6 40.4 L 286.6 28.6 L 273.7 28.6 L 273.7 40.4 L 270.2 40.4 L 270.2 15.0 \" fill=\"#000000\"/>\n",
       "</svg>"
      ],
      "text/plain": [
       "<IPython.core.display.SVG object>"
      ]
     },
     "execution_count": 24,
     "metadata": {},
     "output_type": "execute_result"
    }
   ],
   "source": [
    "optimization_dataset = client.get_dataset(\n",
    "    dataset_type=\"optimization\",\n",
    "    dataset_name=\"SMIRNOFF Coverage Set 1\",\n",
    ")\n",
    "dimethoxymethanol_optimization = optimization_dataset.get_entry(\n",
    "    \"coc(o)oc-0\",\n",
    ")\n",
    "\n",
    "from_optimisation = Molecule.from_qcschema(dimethoxymethanol_optimization)\n",
    "\n",
    "from_optimisation.visualize()"
   ]
  }
 ],
 "metadata": {
  "celltoolbar": "Tags",
  "execution": {
   "timeout": 120
  },
  "kernelspec": {
   "display_name": "Python 3 (ipykernel)",
   "language": "python",
   "name": "python3"
  },
  "language_info": {
   "codemirror_mode": {
    "name": "ipython",
    "version": 3
   },
   "file_extension": ".py",
   "mimetype": "text/x-python",
   "name": "python",
   "nbconvert_exporter": "python",
   "pygments_lexer": "ipython3",
   "version": "3.10.10"
  },
  "widgets": {
   "application/vnd.jupyter.widget-state+json": {
    "state": {},
    "version_major": 2,
    "version_minor": 0
   }
  }
 },
 "nbformat": 4,
 "nbformat_minor": 5
}

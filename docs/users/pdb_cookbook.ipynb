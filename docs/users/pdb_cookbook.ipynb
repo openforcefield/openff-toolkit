{
 "cells": [
  {
   "cell_type": "markdown",
   "id": "c37124c3-d250-4ce8-aead-187c9325cc71",
   "metadata": {},
   "source": [
    "# Cookbook: Using PDB files with the OpenFF Toolkit"
   ]
  },
  {
   "cell_type": "markdown",
   "id": "f6b5c315-e01a-4fec-a313-e43bac1a775a",
   "metadata": {},
   "source": [
    "PDB files are a common way to represent biopolymer structures, but they don't natively contain all of the chemical information required to construct a `Molecule` object(s). However, PDB files are used widely in the molecular simulation community, so OpenFF has implemented functionality to load them.\n",
    "\n",
    "The recommended pathway for loading PDB files is [`Topology.from_pdb`](https://docs.openforcefield.org/projects/toolkit/en/stable/api/generated/openff.toolkit.topology.Topology.html#openff.toolkit.topology.Topology.from_pdb). Additionally, the PDB file must have the following characteristics:\n",
    "\n",
    "For protein atoms:\n",
    "* Atom names and residue names must be consistent with the [Chemical Components Dictonary](https://www.wwpdb.org/data/ccd)\n",
    "* Only the 20 canonical amino acids are supported by default (including protonated/deprotonated variants)\n",
    "* All hydrogens must be explicit\n",
    "\n",
    "For small molecules, waters, and ions:\n",
    "* The element of each atom must be identified in the final column of the file\n",
    "* Bonds must be identified in the CONECT records at the bottom of the file\n",
    "* All unique small molecules must be identified in the `unique_molecules` keyword argument\n",
    "\n",
    "<div class=\"alert alert-info\" style=\"max-width: 700px; margin-left: auto; margin-right: auto;\">\n",
    "    ℹ️ OpenFF <code>Topology</code> and <code>Molecule</code> objects store much more information than is in the PDB files they might be generated from. Don't be surprised if this Python code takes a few more seconds to load a PDB file than other tools.\n",
    "</div>"
   ]
  },
  {
   "cell_type": "code",
   "execution_count": 1,
   "id": "11e11b88",
   "metadata": {},
   "outputs": [],
   "source": [
    "from openff.toolkit import Topology\n",
    "from viz import visualize_topology"
   ]
  },
  {
   "cell_type": "markdown",
   "id": "9a4a3702-0290-4e45-b004-7cbe7830e1c2",
   "metadata": {},
   "source": [
    "## PDB file with only a (single) protein\n",
    "\n",
    "`6hvi_prepared.pdb` is a prepared protein from the [Merck free energy perturbation study](https://github.com/MCompChem/fep-benchmark/blob/master/pfkfb3/6hvi_prepared.pdb). It was prepared using commercial tools by Schrodinger, and doesn't have any (solvent) waters, ions, or small molecules."
   ]
  },
  {
   "cell_type": "code",
   "execution_count": 2,
   "id": "1463e729-3894-43b5-a35e-12e890c8da08",
   "metadata": {},
   "outputs": [
    {
     "data": {
      "application/vnd.jupyter.widget-view+json": {
       "model_id": "1310a35903684ab7a01548342a5515b1",
       "version_major": 2,
       "version_minor": 0
      },
      "text/plain": [
       "NGLWidget()"
      ]
     },
     "metadata": {},
     "output_type": "display_data"
    }
   ],
   "source": [
    "protein = Topology.from_pdb(\"6hvi_prepared.pdb\")\n",
    "\n",
    "visualize_topology(protein)"
   ]
  },
  {
   "cell_type": "markdown",
   "id": "db64e456-8832-4d77-b291-7ceea8e7d3bb",
   "metadata": {},
   "source": [
    "From here, you might use Packmol or PDBFixer to add water or other solvents without leaving Python (or there are tools available for water/solvent packing in AMBER, GROMACS, and many commercial packages). An example of using PDBFixer can be found in our [\"Toolkit Showcase\" example](https://docs.openforcefield.org/en/latest/examples/openforcefield/openff-toolkit/toolkit_showcase/toolkit_showcase.html)."
   ]
  },
  {
   "cell_type": "markdown",
   "id": "644f4321-1ab1-4a12-925d-f990bb86295a",
   "metadata": {},
   "source": [
    "## PDB file with a protein, waters, and ions\n",
    "\n",
    "This PDB file comes from the [AMBER tutorial on making solvated simulations](https://ambermd.org/tutorials/basic/tutorial7/index.php). It is slightly modified to create an output suitable for loading into the OpenFF Toolkit\n",
    "  * TIP3P water is used instead of OPC (a four-site model)\n",
    "  * a cubic solvent box is used instead of an octohedron\n",
    "  * the N terminus of the protein is made neutral"
   ]
  },
  {
   "cell_type": "code",
   "execution_count": 3,
   "id": "218cf4a3",
   "metadata": {},
   "outputs": [
    {
     "data": {
      "application/vnd.jupyter.widget-view+json": {
       "model_id": "c9d82dd526ec4bf3aae1be47e345e6b3",
       "version_major": 2,
       "version_minor": 0
      },
      "text/plain": [
       "NGLWidget()"
      ]
     },
     "metadata": {},
     "output_type": "display_data"
    }
   ],
   "source": [
    "RAMP1 = Topology.from_pdb(\"RAMP1_solv_box_ions.pdb\")\n",
    "\n",
    "visualize_topology(RAMP1)"
   ]
  },
  {
   "cell_type": "markdown",
   "id": "59515906-d0bd-4b38-97b8-a380628b76dc",
   "metadata": {},
   "source": [
    "# PDB file with one or more ligands\n",
    "\n",
    "The following PDB is taken from the [GROMACS protein-ligand tutorial](http://www.mdtutorials.com/gmx/complex/index.html) (with manually-added CONECT records) and contains a protein, water, and a small molecule (ligand).\n",
    "\n",
    "While the chemistry of water, ions, and proteins can be deduced from known templates (this is what happened under the hood in the previous two examples), small molecules are trickier. The number of amino acids and ions is relatively small, but the number of possible small molecules is tremendous so storing them in a database is not feasible. We instead ask the user to fill in the missing information that would be looked up from the CCD or hard-coded heuristics, specifically the bond order and stereochemistry. This information is stored in a `Molecule` object(s), which we ask the user to provide via the `unique_molecules` argument.\n",
    "\n",
    "If you try to load a PDB file containing a small molecule, without providing the chemistry of the small molecule, you'll get an error message identifying the atoms that couldn't be loaded:"
   ]
  },
  {
   "cell_type": "code",
   "execution_count": 4,
   "id": "d39b1c95",
   "metadata": {},
   "outputs": [
    {
     "name": "stdout",
     "output_type": "stream",
     "text": [
      "Some bonds or atoms in the input could not be identified.\n",
      "\n",
      "Hint: The following residue names with unassigned atoms were not found in the substructure library. While the OpenFF Toolkit identifies residues by matching chemical substructures rather than by residue name, it currently only supports the 20 'canonical' amino acids.\n",
      "    JZ4\n",
      "\n",
      "\n",
      "Hint: The following residues were assigned names that do not match the residue name in the input, or could not be assigned residue names at all. This may indicate that atoms are missing from the input or some other error. The OpenFF Toolkit requires all atoms, including hydrogens, to be explicit in the input to avoid ambiguities in protonation state or bond order:\n",
      "    Input residue X:JZ4#0001 contains atoms matching substructures {'No match'}\n",
      "\n",
      "Error: The following 22 atoms exist in the input but could not be assigned chemical information from the substructure library:\n",
      "    Atom  2614 (C4) in residue X:JZ4#0001\n",
      "    Atom  2615 (C7) in residue X:JZ4#0001\n",
      "    Atom  2616 (C8) in residue X:JZ4#0001\n",
      "    Atom  2617 (C9) in residue X:JZ4#0001\n",
      "    Atom  2618 (C10) in residue X:JZ4#0001\n",
      "    Atom  2619 (C11) in residue X:JZ4#0001\n",
      "    Atom  2620 (C12) in residue X:JZ4#0001\n",
      "    Atom  2621 (C13) in residue X:JZ4#0001\n",
      "    Atom  2622 (C14) in residue X:JZ4#0001\n",
      "    Atom  2623 (OAB) in residue X:JZ4#0001\n",
      "    Atom  2624 (H1) in residue X:JZ4#0001\n",
      "    Atom  2625 (H2) in residue X:JZ4#0001\n",
      "    Atom  2626 (H3) in residue X:JZ4#0001\n",
      "    Atom  2627 (H4) in residue X:JZ4#0001\n",
      "    Atom  2628 (H5) in residue X:JZ4#0001\n",
      "    Atom  2629 (H6) in residue X:JZ4#0001\n",
      "    Atom  2630 (H7) in residue X:JZ4#0001\n",
      "    Atom  2631 (H8) in residue X:JZ4#0001\n",
      "    Atom  2632 (H9) in residue X:JZ4#0001\n",
      "    Atom  2633 (H10) in residue X:JZ4#0001\n",
      "    Atom  2634 (H11) in residue X:JZ4#0001\n",
      "    Atom  2635 (H12) in residue X:JZ4#0001\n",
      "\n"
     ]
    }
   ],
   "source": [
    "from openff.toolkit.utils.exceptions import UnassignedChemistryInPDBError\n",
    "\n",
    "try:\n",
    "    Topology.from_pdb(\"gromacs_solv_complex.pdb\")\n",
    "except UnassignedChemistryInPDBError as error:\n",
    "    print(str(error))"
   ]
  },
  {
   "cell_type": "markdown",
   "id": "c67c57fc-da8a-4e43-8959-8a08b43647a5",
   "metadata": {},
   "source": [
    "Any appropriate OpenFF `Molecule` object can be used to define the small molecule ligand when loading the PDB file. (See the Molecule Cookbook for some of the numerous ways to create them!).  Since the coordinates are specified in the PDB file, it's not necessary that this `Molecule` has conformers.\n",
    "\n",
    "In this case we known the identity of the ligand and can look up a SMILES string, which is all that's needed to load this PDB file! (Since there are many molecules in this file, it may take a few tens of seconds to load - this is expected.)"
   ]
  },
  {
   "cell_type": "code",
   "execution_count": 5,
   "id": "daf2b681",
   "metadata": {},
   "outputs": [
    {
     "data": {
      "application/vnd.jupyter.widget-view+json": {
       "model_id": "ad0a423658d54ab194a4b6ca1731df94",
       "version_major": 2,
       "version_minor": 0
      },
      "text/plain": [
       "NGLWidget()"
      ]
     },
     "metadata": {},
     "output_type": "display_data"
    }
   ],
   "source": [
    "from openff.toolkit import Molecule\n",
    "\n",
    "jz4 = Molecule.from_smiles(\"CCCC1=CC=CC=C1O\")\n",
    "complex = Topology.from_pdb(\"gromacs_solv_complex.pdb\", unique_molecules=[jz4])\n",
    "\n",
    "visualize_topology(complex)"
   ]
  },
  {
   "cell_type": "code",
   "execution_count": null,
   "id": "895c88e1",
   "metadata": {},
   "outputs": [],
   "source": []
  }
 ],
 "metadata": {
  "kernelspec": {
   "display_name": "Python 3 (ipykernel)",
   "language": "python",
   "name": "python3"
  },
  "language_info": {
   "codemirror_mode": {
    "name": "ipython",
    "version": 3
   },
   "file_extension": ".py",
   "mimetype": "text/x-python",
   "name": "python",
   "nbconvert_exporter": "python",
   "pygments_lexer": "ipython3",
   "version": "3.11.5"
  }
 },
 "nbformat": 4,
 "nbformat_minor": 5
}
